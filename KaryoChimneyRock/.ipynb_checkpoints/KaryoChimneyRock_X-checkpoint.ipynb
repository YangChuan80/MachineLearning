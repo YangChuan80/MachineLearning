{
 "cells": [
  {
   "cell_type": "markdown",
   "metadata": {
    "slideshow": {
     "slide_type": "slide"
    }
   },
   "source": [
    "# A Semi-automatic Classification of Normal Karyotypes based on Support Vector Machine Algorithm"
   ]
  },
  {
   "cell_type": "markdown",
   "metadata": {
    "slideshow": {
     "slide_type": "-"
    }
   },
   "source": [
    "- **Chuan Yang**, MD, PhD Student\n",
    "- Mentor: **Yanyan Zhao**, MD, PhD\n",
    "- Shengjing Hospital of China Medical University"
   ]
  },
  {
   "cell_type": "markdown",
   "metadata": {
    "slideshow": {
     "slide_type": "slide"
    }
   },
   "source": [
    "## Modules"
   ]
  },
  {
   "cell_type": "code",
   "execution_count": 1,
   "metadata": {
    "slideshow": {
     "slide_type": "-"
    }
   },
   "outputs": [],
   "source": [
    "from PIL import Image\n",
    "import numpy as np\n",
    "import pandas as pd\n",
    "import matplotlib.pyplot as plt\n",
    "\n",
    "\n",
    "from sklearn import svm\n",
    "from sklearn.metrics import classification_report, confusion_matrix\n",
    "from sklearn.externals import joblib\n",
    "from os import walk\n",
    "\n",
    "import time\n",
    "\n",
    "%matplotlib inline"
   ]
  },
  {
   "cell_type": "markdown",
   "metadata": {
    "slideshow": {
     "slide_type": "slide"
    }
   },
   "source": [
    "## Samples\n",
    "### File Import"
   ]
  },
  {
   "cell_type": "code",
   "execution_count": 2,
   "metadata": {
    "slideshow": {
     "slide_type": "-"
    }
   },
   "outputs": [],
   "source": [
    "pathBase = 'C:\\\\Users\\\\Chuan\\\\OneDrive\\\\Dowrun\\\\Database\\\\PhD\\\\KaryoTypes\\\\Arrangement\\\\'\n",
    "theWhole = {}\n",
    "\n",
    " \n",
    "f = []\n",
    "f_x = []\n",
    "mypath_x = pathBase + 'chr_x'\n",
    "for (dirpath, dirnames, filenames) in walk(mypath_x):\n",
    "    f.extend(filenames)\n",
    "for l in f:\n",
    "    f_x.append(mypath_x + '\\\\' + l)    \n",
    "   \n",
    "  \n",
    "# ///////// Abnormal ones //////////////\n",
    "\n",
    "f = []\n",
    "f_x_isochromosome = []\n",
    "mypath_x_isochromosome = pathBase + 'chr_x_isochromosome'\n",
    "for (dirpath, dirnames, filenames) in walk(mypath_x_isochromosome):\n",
    "    f.extend(filenames)\n",
    "for l in f:\n",
    "    f_x_isochromosome.append(mypath_x_isochromosome + '\\\\' + l)  \n",
    "    \n",
    "f = []\n",
    "f_x_p22_cnv = []\n",
    "mypath_x_p22_cnv = pathBase + 'chr_x_p22_cnv'\n",
    "for (dirpath, dirnames, filenames) in walk(mypath_x_p22_cnv):\n",
    "    f.extend(filenames)\n",
    "for l in f:\n",
    "    f_x_p22_cnv.append(mypath_x_p22_cnv + '\\\\' + l)\n",
    "    \n",
    "f = []\n",
    "f_x_q21_cnv = []\n",
    "mypath_x_q21_cnv = pathBase + 'chr_x_q21_cnv'\n",
    "for (dirpath, dirnames, filenames) in walk(mypath_x_q21_cnv):\n",
    "    f.extend(filenames)\n",
    "for l in f:\n",
    "    f_x_q21_cnv.append(mypath_x_q21_cnv + '\\\\' + l)  \n",
    "    \n",
    "f = []\n",
    "f_x_q22_deletion = []\n",
    "mypath_x_q22_deletion = pathBase + 'chr_x_q22_deletion'\n",
    "for (dirpath, dirnames, filenames) in walk(mypath_x_q22_deletion):\n",
    "    f.extend(filenames)\n",
    "for l in f:\n",
    "    f_x_q22_deletion.append(mypath_x_q22_deletion + '\\\\' + l)  \n",
    "\n",
    "    \n",
    "\n",
    "theWhole['chr_x'] = f_x\n",
    "\n",
    "theWhole['chr_x_isochromosome'] = f_x_isochromosome\n",
    "theWhole['chr_x_p22_cnv'] = f_x_p22_cnv\n",
    "theWhole['chr_x_q21_cnv'] = f_x_q21_cnv\n",
    "theWhole['chr_x_q22_deletion'] = f_x_q22_deletion"
   ]
  },
  {
   "cell_type": "code",
   "execution_count": 3,
   "metadata": {
    "scrolled": true,
    "slideshow": {
     "slide_type": "slide"
    }
   },
   "outputs": [
    {
     "data": {
      "text/plain": [
       "['C:\\\\Users\\\\Chuan\\\\OneDrive\\\\Dowrun\\\\Database\\\\PhD\\\\KaryoTypes\\\\Arrangement\\\\chr_x_isochromosome\\\\W17944~A.0023.K.jpg.X_isochromosome.bmp',\n",
       " 'C:\\\\Users\\\\Chuan\\\\OneDrive\\\\Dowrun\\\\Database\\\\PhD\\\\KaryoTypes\\\\Arrangement\\\\chr_x_isochromosome\\\\W17944~A.0026.K.jpg.X_isochromosome.bmp',\n",
       " 'C:\\\\Users\\\\Chuan\\\\OneDrive\\\\Dowrun\\\\Database\\\\PhD\\\\KaryoTypes\\\\Arrangement\\\\chr_x_isochromosome\\\\W17944~A.0028.K.jpg.X_isochromosome.bmp',\n",
       " 'C:\\\\Users\\\\Chuan\\\\OneDrive\\\\Dowrun\\\\Database\\\\PhD\\\\KaryoTypes\\\\Arrangement\\\\chr_x_isochromosome\\\\W17944~A.0030.K.jpg.X_isochromosome.bmp',\n",
       " 'C:\\\\Users\\\\Chuan\\\\OneDrive\\\\Dowrun\\\\Database\\\\PhD\\\\KaryoTypes\\\\Arrangement\\\\chr_x_isochromosome\\\\W17944~A.0034.K.jpg.X_isochromosome.bmp',\n",
       " 'C:\\\\Users\\\\Chuan\\\\OneDrive\\\\Dowrun\\\\Database\\\\PhD\\\\KaryoTypes\\\\Arrangement\\\\chr_x_isochromosome\\\\W17944~A.0035.K.jpg.X_isochromosome.bmp',\n",
       " 'C:\\\\Users\\\\Chuan\\\\OneDrive\\\\Dowrun\\\\Database\\\\PhD\\\\KaryoTypes\\\\Arrangement\\\\chr_x_isochromosome\\\\W17944~A.0040.K.jpg.X_isochromosome.bmp',\n",
       " 'C:\\\\Users\\\\Chuan\\\\OneDrive\\\\Dowrun\\\\Database\\\\PhD\\\\KaryoTypes\\\\Arrangement\\\\chr_x_isochromosome\\\\W17944~A.0042.K.jpg.X_isochromosome.bmp',\n",
       " 'C:\\\\Users\\\\Chuan\\\\OneDrive\\\\Dowrun\\\\Database\\\\PhD\\\\KaryoTypes\\\\Arrangement\\\\chr_x_isochromosome\\\\W17944~A.0044.K.jpg.X_isochromosome.bmp',\n",
       " 'C:\\\\Users\\\\Chuan\\\\OneDrive\\\\Dowrun\\\\Database\\\\PhD\\\\KaryoTypes\\\\Arrangement\\\\chr_x_isochromosome\\\\W17944~A.0045.K.jpg.X_isochromosome.bmp',\n",
       " 'C:\\\\Users\\\\Chuan\\\\OneDrive\\\\Dowrun\\\\Database\\\\PhD\\\\KaryoTypes\\\\Arrangement\\\\chr_x_isochromosome\\\\W17944~A.0046.K.jpg.X_isochromosome.bmp',\n",
       " 'C:\\\\Users\\\\Chuan\\\\OneDrive\\\\Dowrun\\\\Database\\\\PhD\\\\KaryoTypes\\\\Arrangement\\\\chr_x_isochromosome\\\\W17944~A.0049.K.jpg.X_isochromosome.bmp',\n",
       " 'C:\\\\Users\\\\Chuan\\\\OneDrive\\\\Dowrun\\\\Database\\\\PhD\\\\KaryoTypes\\\\Arrangement\\\\chr_x_isochromosome\\\\W17944~A.0050.K.jpg.X_isochromosome.bmp',\n",
       " 'C:\\\\Users\\\\Chuan\\\\OneDrive\\\\Dowrun\\\\Database\\\\PhD\\\\KaryoTypes\\\\Arrangement\\\\chr_x_isochromosome\\\\W19161~A.0001.K_X_isochromosome.jpg.bmp',\n",
       " 'C:\\\\Users\\\\Chuan\\\\OneDrive\\\\Dowrun\\\\Database\\\\PhD\\\\KaryoTypes\\\\Arrangement\\\\chr_x_isochromosome\\\\W19161~A.0002.K_X_isochromosome.jpg.bmp',\n",
       " 'C:\\\\Users\\\\Chuan\\\\OneDrive\\\\Dowrun\\\\Database\\\\PhD\\\\KaryoTypes\\\\Arrangement\\\\chr_x_isochromosome\\\\W19161~A.0005.K_X_isochromosome.jpg.bmp',\n",
       " 'C:\\\\Users\\\\Chuan\\\\OneDrive\\\\Dowrun\\\\Database\\\\PhD\\\\KaryoTypes\\\\Arrangement\\\\chr_x_isochromosome\\\\W19161~A.0007.K_X_isochromosome.jpg.bmp',\n",
       " 'C:\\\\Users\\\\Chuan\\\\OneDrive\\\\Dowrun\\\\Database\\\\PhD\\\\KaryoTypes\\\\Arrangement\\\\chr_x_isochromosome\\\\W19161~A.0016.K_X_isochromosome.jpg.bmp',\n",
       " 'C:\\\\Users\\\\Chuan\\\\OneDrive\\\\Dowrun\\\\Database\\\\PhD\\\\KaryoTypes\\\\Arrangement\\\\chr_x_isochromosome\\\\W19161~A.0018.K_X_isochromosome.jpg.bmp',\n",
       " 'C:\\\\Users\\\\Chuan\\\\OneDrive\\\\Dowrun\\\\Database\\\\PhD\\\\KaryoTypes\\\\Arrangement\\\\chr_x_isochromosome\\\\W19161~A.0020.K_X_isochromosome.jpg.bmp',\n",
       " 'C:\\\\Users\\\\Chuan\\\\OneDrive\\\\Dowrun\\\\Database\\\\PhD\\\\KaryoTypes\\\\Arrangement\\\\chr_x_isochromosome\\\\W19161~A.0024.K_X_isochromosome.jpg.bmp',\n",
       " 'C:\\\\Users\\\\Chuan\\\\OneDrive\\\\Dowrun\\\\Database\\\\PhD\\\\KaryoTypes\\\\Arrangement\\\\chr_x_isochromosome\\\\W19161~A.0032.K_X_isochromosome.jpg.bmp',\n",
       " 'C:\\\\Users\\\\Chuan\\\\OneDrive\\\\Dowrun\\\\Database\\\\PhD\\\\KaryoTypes\\\\Arrangement\\\\chr_x_isochromosome\\\\W19161~A.0032_2.K_X_isochromosome.jpg.bmp',\n",
       " 'C:\\\\Users\\\\Chuan\\\\OneDrive\\\\Dowrun\\\\Database\\\\PhD\\\\KaryoTypes\\\\Arrangement\\\\chr_x_isochromosome\\\\W19161~A.0033.K_X_isochromosome.jpg.bmp',\n",
       " 'C:\\\\Users\\\\Chuan\\\\OneDrive\\\\Dowrun\\\\Database\\\\PhD\\\\KaryoTypes\\\\Arrangement\\\\chr_x_isochromosome\\\\W19161~A.0034.K_X_isochromosome.jpg.bmp',\n",
       " 'C:\\\\Users\\\\Chuan\\\\OneDrive\\\\Dowrun\\\\Database\\\\PhD\\\\KaryoTypes\\\\Arrangement\\\\chr_x_isochromosome\\\\W19161~A.0035.K_X_isochromosome.jpg.bmp',\n",
       " 'C:\\\\Users\\\\Chuan\\\\OneDrive\\\\Dowrun\\\\Database\\\\PhD\\\\KaryoTypes\\\\Arrangement\\\\chr_x_isochromosome\\\\W19161~A.0040.K_X_isochromosome.jpg.bmp',\n",
       " 'C:\\\\Users\\\\Chuan\\\\OneDrive\\\\Dowrun\\\\Database\\\\PhD\\\\KaryoTypes\\\\Arrangement\\\\chr_x_isochromosome\\\\W19161~A.0041.K_X_isochromosome.jpg.bmp',\n",
       " 'C:\\\\Users\\\\Chuan\\\\OneDrive\\\\Dowrun\\\\Database\\\\PhD\\\\KaryoTypes\\\\Arrangement\\\\chr_x_isochromosome\\\\W19161~A.0049.K_X_isochromosome.jpg.bmp']"
      ]
     },
     "execution_count": 3,
     "metadata": {},
     "output_type": "execute_result"
    }
   ],
   "source": [
    "theWhole['chr_x_isochromosome']"
   ]
  },
  {
   "cell_type": "markdown",
   "metadata": {
    "slideshow": {
     "slide_type": "slide"
    }
   },
   "source": [
    "## Image Input"
   ]
  },
  {
   "cell_type": "code",
   "execution_count": 4,
   "metadata": {
    "scrolled": false,
    "slideshow": {
     "slide_type": "-"
    }
   },
   "outputs": [
    {
     "name": "stdout",
     "output_type": "stream",
     "text": [
      "0.036926984786987305\n"
     ]
    }
   ],
   "source": [
    "start = time.time()\n",
    "\n",
    "image = {}\n",
    "i = 0\n",
    "\n",
    "for chrNo in theWhole.keys():\n",
    "    image[chrNo] = []\n",
    "    for case in theWhole[chrNo]:\n",
    "        img = Image.open(case)\n",
    "        image[chrNo].append(img)\n",
    "    \n",
    "end = time.time()\n",
    "print(end - start)"
   ]
  },
  {
   "cell_type": "code",
   "execution_count": 5,
   "metadata": {
    "scrolled": true,
    "slideshow": {
     "slide_type": "slide"
    }
   },
   "outputs": [
    {
     "data": {
      "image/png": "[encoded data removed]",
      "text/plain": [
       "<PIL.BmpImagePlugin.BmpImageFile image mode=RGB size=300x300 at 0x21C3C0E14A8>"
      ]
     },
     "execution_count": 5,
     "metadata": {},
     "output_type": "execute_result"
    }
   ],
   "source": [
    "image['chr_x_isochromosome'][1]"
   ]
  },
  {
   "cell_type": "markdown",
   "metadata": {
    "slideshow": {
     "slide_type": "slide"
    }
   },
   "source": [
    "## Functions"
   ]
  },
  {
   "cell_type": "code",
   "execution_count": 6,
   "metadata": {
    "slideshow": {
     "slide_type": "-"
    }
   },
   "outputs": [],
   "source": [
    "def extractData(image):\n",
    "    x = image.size[0]\n",
    "    y = image.size[1]\n",
    "    \n",
    "    matrix = []\n",
    "    rgb_matrix = []\n",
    "\n",
    "    for i in range(x):\n",
    "        matrix.append([])\n",
    "        rgb_matrix.append([])\n",
    "        \n",
    "        for j in range(y):\n",
    "            r, g, b = image.getpixel((j, i))            \n",
    "            value = r * 299.0/1000 + g * 587.0/1000 + b * 114.0/1000\n",
    "            value = int(value)\n",
    "            matrix[i].append(value)\n",
    "            rgb_matrix[i].append((r,g,b))\n",
    "    return matrix, rgb_matrix"
   ]
  },
  {
   "cell_type": "code",
   "execution_count": 7,
   "metadata": {
    "slideshow": {
     "slide_type": "-"
    }
   },
   "outputs": [],
   "source": [
    "def imageReconstruct(matrix):\n",
    "    df = np.array(matrix, dtype=np.uint8)\n",
    "    img = Image.fromarray(df, 'RGB')\n",
    "    img.save('image.png')\n",
    "    return img"
   ]
  },
  {
   "cell_type": "markdown",
   "metadata": {
    "slideshow": {
     "slide_type": "slide"
    }
   },
   "source": [
    "## Data Extraction from Images"
   ]
  },
  {
   "cell_type": "code",
   "execution_count": 8,
   "metadata": {
    "slideshow": {
     "slide_type": "-"
    }
   },
   "outputs": [
    {
     "name": "stdout",
     "output_type": "stream",
     "text": [
      "27.589203357696533\n"
     ]
    }
   ],
   "source": [
    "start = time.time()\n",
    "\n",
    "data = {}\n",
    "rgb_data = {}\n",
    "\n",
    "for chrNo in image.keys():\n",
    "    data[chrNo] = []; rgb_data[chrNo] = []\n",
    "    for case in image[chrNo]:\n",
    "        grey, rgb = extractData(case)\n",
    "        data[chrNo].append(grey)\n",
    "        rgb_data[chrNo].append(rgb)\n",
    "        \n",
    "end = time.time()\n",
    "print(end - start)"
   ]
  },
  {
   "cell_type": "code",
   "execution_count": 9,
   "metadata": {
    "slideshow": {
     "slide_type": "slide"
    }
   },
   "outputs": [],
   "source": [
    "imageMatrix = np.array(rgb_data['chr_x_q21_cnv'][1])"
   ]
  },
  {
   "cell_type": "code",
   "execution_count": 10,
   "metadata": {
    "slideshow": {
     "slide_type": "-"
    }
   },
   "outputs": [
    {
     "data": {
      "image/png": "[encoded data removed]",
      "text/plain": [
       "<PIL.Image.Image image mode=RGB size=300x300 at 0x21C3C04A470>"
      ]
     },
     "execution_count": 10,
     "metadata": {},
     "output_type": "execute_result"
    }
   ],
   "source": [
    "img = imageReconstruct(imageMatrix)\n",
    "img"
   ]
  },
  {
   "cell_type": "markdown",
   "metadata": {
    "slideshow": {
     "slide_type": "slide"
    }
   },
   "source": [
    "## Flat Transformation from 2D to 1D"
   ]
  },
  {
   "cell_type": "code",
   "execution_count": 11,
   "metadata": {
    "slideshow": {
     "slide_type": "-"
    }
   },
   "outputs": [],
   "source": [
    "data_flat = {}\n",
    "\n",
    "for chrNo in data.keys():\n",
    "    data_flat[chrNo] = []\n",
    "    for case in data[chrNo]:\n",
    "        case_flat = []\n",
    "        for row in case:\n",
    "            for column in row:\n",
    "                case_flat.append(column)            \n",
    "        data_flat[chrNo].append(case_flat)"
   ]
  },
  {
   "cell_type": "markdown",
   "metadata": {
    "slideshow": {
     "slide_type": "slide"
    }
   },
   "source": [
    "## Support Vector Classification"
   ]
  },
  {
   "cell_type": "code",
   "execution_count": 12,
   "metadata": {
    "slideshow": {
     "slide_type": "-"
    }
   },
   "outputs": [],
   "source": [
    "x_train_list = []\n",
    "y_train_list = []\n",
    "\n",
    "for y, x in data_flat.items():    \n",
    "    for x_item in x:\n",
    "        x_train_list.append(x_item)\n",
    "        y_train_list.append(y)"
   ]
  },
  {
   "cell_type": "markdown",
   "metadata": {
    "slideshow": {
     "slide_type": "slide"
    }
   },
   "source": [
    "### Training"
   ]
  },
  {
   "cell_type": "code",
   "execution_count": 13,
   "metadata": {
    "scrolled": true,
    "slideshow": {
     "slide_type": "-"
    }
   },
   "outputs": [],
   "source": [
    "start = time.time()\n",
    "\n",
    "X_train = np.array(x_train_list)\n",
    "y_train = np.array(y_train_list)\n",
    "\n",
    "clf = svm.SVC(kernel='linear', decision_function_shape='ovo')\n",
    "clf.fit(X_train, y_train)\n",
    "\n",
    "end = time.time()"
   ]
  },
  {
   "cell_type": "code",
   "execution_count": 14,
   "metadata": {},
   "outputs": [
    {
     "name": "stdout",
     "output_type": "stream",
     "text": [
      "3.107975959777832\n"
     ]
    }
   ],
   "source": [
    "print(end - start)"
   ]
  },
  {
   "cell_type": "markdown",
   "metadata": {
    "slideshow": {
     "slide_type": "slide"
    }
   },
   "source": [
    "### Prediction"
   ]
  },
  {
   "cell_type": "code",
   "execution_count": 15,
   "metadata": {
    "scrolled": false,
    "slideshow": {
     "slide_type": "-"
    }
   },
   "outputs": [
    {
     "name": "stdout",
     "output_type": "stream",
     "text": [
      "w =  [[ 0.00000000e+00  0.00000000e+00  0.00000000e+00 ...  0.00000000e+00\n",
      "   0.00000000e+00  0.00000000e+00]\n",
      " [ 2.71050543e-20  2.71050543e-20  2.71050543e-20 ...  2.71050543e-20\n",
      "   2.71050543e-20  2.71050543e-20]\n",
      " [ 0.00000000e+00  0.00000000e+00  0.00000000e+00 ...  0.00000000e+00\n",
      "   0.00000000e+00  0.00000000e+00]\n",
      " ...\n",
      " [ 0.00000000e+00  0.00000000e+00  0.00000000e+00 ...  0.00000000e+00\n",
      "   0.00000000e+00  0.00000000e+00]\n",
      " [ 2.71050543e-20  2.71050543e-20  2.71050543e-20 ...  2.71050543e-20\n",
      "   2.71050543e-20  2.71050543e-20]\n",
      " [-6.77626358e-21 -6.77626358e-21 -6.77626358e-21 ... -6.77626358e-21\n",
      "  -6.77626358e-21 -6.77626358e-21]]\n",
      "b =  [-9.88017238  7.22696062 13.06115197  4.97544513  4.50825457 10.05789681\n",
      "  8.22851257  2.4864249  -1.19061803 -3.18739718]\n",
      "Indices of support vectors =  [  0   1   2   3   5   8  10  12  15  16  27  33  34  36  38  39  41  42\n",
      "  44  46  51  52  55  61  65  69  77  84  88  92  93  95  98  99 101 102\n",
      " 103 104 105 106 107 108 109 110 111 112 113 114 116 117 118 119 120 121\n",
      " 122 123 124 125 126 127 128 129 130 131 132 133 134 135 136 137 138 139\n",
      " 140 143 144 145 146 148 149 151 153 154 155 156 157 159 162 163 164 165\n",
      " 168 174 176]\n",
      "Support vectors =  [[255. 255. 255. ... 255. 255. 255.]\n",
      " [255. 255. 255. ... 255. 255. 255.]\n",
      " [255. 255. 255. ... 255. 255. 255.]\n",
      " ...\n",
      " [255. 255. 255. ... 255. 255. 255.]\n",
      " [255. 255. 255. ... 255. 255. 255.]\n",
      " [255. 255. 255. ... 255. 255. 255.]]\n",
      "Number of support vectors for each class =  [36 28  7  6 16]\n",
      "Coefficients of the support vector in the decision function =  [[5.67984047e-09 5.01106454e-08 0.00000000e+00 0.00000000e+00\n",
      "  0.00000000e+00 0.00000000e+00 0.00000000e+00 2.79061253e-08\n",
      "  0.00000000e+00 0.00000000e+00 0.00000000e+00 0.00000000e+00\n",
      "  0.00000000e+00 0.00000000e+00 9.23453639e-08 6.58124811e-09\n",
      "  0.00000000e+00 0.00000000e+00 0.00000000e+00 0.00000000e+00\n",
      "  0.00000000e+00 0.00000000e+00 0.00000000e+00 0.00000000e+00\n",
      "  0.00000000e+00 0.00000000e+00 0.00000000e+00 0.00000000e+00\n",
      "  0.00000000e+00 0.00000000e+00 5.24868364e-08 5.53442933e-08\n",
      "  6.12256610e-08 5.52697416e-08 4.00764516e-08 6.34272523e-08\n",
      "  4.73524848e-08 0.00000000e+00 9.80164432e-08 1.27250573e-08\n",
      "  1.24773583e-08 2.74390025e-08 6.52333425e-09 8.51586352e-11\n",
      "  2.74849613e-08 2.90184319e-08 1.35851374e-08 2.49193238e-08\n",
      "  7.78845872e-09 0.00000000e+00 2.05554305e-08 1.04649000e-08\n",
      "  2.23832809e-09 2.89314315e-08 1.41683248e-08 0.00000000e+00\n",
      "  3.22900808e-08 0.00000000e+00 3.56577594e-08 1.19894165e-08\n",
      "  1.96683277e-08 3.27278834e-09 0.00000000e+00 2.38015197e-08\n",
      "  2.53351297e-07 4.34783846e-09 2.39913469e-07 0.00000000e+00\n",
      "  6.49856411e-08 2.57403158e-07 2.45557291e-08 0.00000000e+00\n",
      "  7.62241723e-08 0.00000000e+00 0.00000000e+00 0.00000000e+00\n",
      "  5.21518588e-06 5.46914736e-08 1.09488285e-07 3.90038818e-09\n",
      "  2.19380927e-09 0.00000000e+00 0.00000000e+00 5.96219167e-07\n",
      "  4.14572055e-08 6.64421762e-08 1.00000000e+00 7.91340138e-08\n",
      "  6.77445559e-08 0.00000000e+00 4.46765109e-08 1.75824555e-07\n",
      "  2.11957527e-07]\n",
      " [1.95416650e-08 0.00000000e+00 4.72777757e-08 1.35781514e-07\n",
      "  2.09413331e-08 1.30835431e-08 0.00000000e+00 3.01844809e-08\n",
      "  0.00000000e+00 0.00000000e+00 0.00000000e+00 1.90124792e-08\n",
      "  0.00000000e+00 0.00000000e+00 0.00000000e+00 0.00000000e+00\n",
      "  1.79583876e-07 0.00000000e+00 0.00000000e+00 6.49792091e-08\n",
      "  9.55749967e-08 0.00000000e+00 4.92998038e-09 1.22942823e-08\n",
      "  0.00000000e+00 0.00000000e+00 4.19646820e-09 1.24145575e-08\n",
      "  0.00000000e+00 7.89747245e-08 0.00000000e+00 1.36727245e-08\n",
      "  0.00000000e+00 0.00000000e+00 2.51917309e-08 6.69217925e-08\n",
      "  1.83905763e-08 5.59853736e-09 1.97753020e-09 0.00000000e+00\n",
      "  0.00000000e+00 2.92676014e-09 0.00000000e+00 0.00000000e+00\n",
      "  3.37077831e-09 0.00000000e+00 0.00000000e+00 7.82357142e-10\n",
      "  0.00000000e+00 1.03038837e-08 4.68363485e-09 1.83011029e-08\n",
      "  0.00000000e+00 0.00000000e+00 5.71521725e-09 2.17893278e-08\n",
      "  1.07444063e-08 0.00000000e+00 3.52317787e-09 5.90158064e-09\n",
      "  0.00000000e+00 2.96124903e-09 0.00000000e+00 5.25341258e-09\n",
      "  4.86089805e-08 0.00000000e+00 8.04958755e-09 0.00000000e+00\n",
      "  2.91521698e-08 3.52028113e-08 1.20998320e-09 0.00000000e+00\n",
      "  6.37914320e-08 3.30754252e-08 2.55997937e-08 7.38730950e-09\n",
      "  1.80032434e-08 4.18951351e-08 0.00000000e+00 0.00000000e+00\n",
      "  2.34633946e-08 1.61745048e-08 0.00000000e+00 4.87499003e-08\n",
      "  2.22682276e-08 0.00000000e+00 0.00000000e+00 0.00000000e+00\n",
      "  0.00000000e+00 6.16294197e-08 0.00000000e+00 4.81189838e-08\n",
      "  0.00000000e+00]\n",
      " [0.00000000e+00 0.00000000e+00 0.00000000e+00 0.00000000e+00\n",
      "  0.00000000e+00 0.00000000e+00 0.00000000e+00 0.00000000e+00\n",
      "  0.00000000e+00 3.58209339e-09 0.00000000e+00 0.00000000e+00\n",
      "  0.00000000e+00 0.00000000e+00 0.00000000e+00 0.00000000e+00\n",
      "  0.00000000e+00 2.22550971e-08 0.00000000e+00 0.00000000e+00\n",
      "  0.00000000e+00 0.00000000e+00 0.00000000e+00 0.00000000e+00\n",
      "  1.88068856e-09 0.00000000e+00 7.71234256e-08 0.00000000e+00\n",
      "  0.00000000e+00 0.00000000e+00 0.00000000e+00 0.00000000e+00\n",
      "  6.04743704e-08 5.11518996e-06 0.00000000e+00 1.09044160e-08\n",
      "  0.00000000e+00 0.00000000e+00 4.40727874e-09 0.00000000e+00\n",
      "  1.55804869e-08 3.32662118e-08 0.00000000e+00 0.00000000e+00\n",
      "  2.21519436e-08 0.00000000e+00 1.95470292e-08 0.00000000e+00\n",
      "  0.00000000e+00 0.00000000e+00 1.53268515e-08 1.66779886e-09\n",
      "  0.00000000e+00 0.00000000e+00 0.00000000e+00 0.00000000e+00\n",
      "  4.22398174e-10 1.64787077e-08 0.00000000e+00 1.88521474e-09\n",
      "  7.63894230e-09 0.00000000e+00 0.00000000e+00 9.48434027e-09\n",
      "  1.71180653e-08 0.00000000e+00 0.00000000e+00 0.00000000e+00\n",
      "  0.00000000e+00 2.35234146e-08 9.25868337e-09 8.05389631e-09\n",
      "  8.72813152e-09 2.54464662e-08 0.00000000e+00 3.95812535e-09\n",
      "  3.71354400e-09 0.00000000e+00 1.92769897e-08 2.75323054e-08\n",
      "  0.00000000e+00 2.82280003e-08 8.63126194e-08 1.02961451e-07\n",
      "  0.00000000e+00 0.00000000e+00 5.91973874e-08 4.13033885e-08\n",
      "  0.00000000e+00 0.00000000e+00 0.00000000e+00 5.09221315e-08\n",
      "  0.00000000e+00]\n",
      " [0.00000000e+00 0.00000000e+00 7.99657192e-08 2.02952898e-07\n",
      "  0.00000000e+00 0.00000000e+00 1.86047802e-07 4.22577806e-08\n",
      "  1.03499557e-08 0.00000000e+00 8.50200087e-09 4.49118213e-08\n",
      "  9.04441813e-08 4.45368820e-09 0.00000000e+00 0.00000000e+00\n",
      "  5.86821095e-08 0.00000000e+00 5.12026797e-08 2.47441102e-08\n",
      "  1.67905872e-07 1.21816098e-07 0.00000000e+00 0.00000000e+00\n",
      "  0.00000000e+00 9.99999997e-01 4.41953636e-08 0.00000000e+00\n",
      "  2.19774678e-08 0.00000000e+00 7.03613604e-09 1.32318381e-08\n",
      "  0.00000000e+00 2.28768729e-07 0.00000000e+00 4.71258843e-08\n",
      "  2.43849233e-08 0.00000000e+00 2.11124796e-08 2.38945641e-08\n",
      "  4.82595761e-08 0.00000000e+00 0.00000000e+00 0.00000000e+00\n",
      "  7.09066678e-09 0.00000000e+00 0.00000000e+00 7.31466025e-09\n",
      "  0.00000000e+00 0.00000000e+00 1.19758973e-08 1.75340383e-08\n",
      "  0.00000000e+00 0.00000000e+00 6.47306875e-09 5.71870850e-09\n",
      "  1.87662317e-08 0.00000000e+00 2.77217686e-08 2.19962908e-08\n",
      "  3.09599694e-09 4.38279287e-09 1.99530223e-10 1.23783718e-08\n",
      "  1.10935541e-07 5.02460513e-08 4.24879302e-08 2.52947020e-08\n",
      "  0.00000000e+00 1.63114487e-07 2.36555621e-08 1.31889752e-08\n",
      "  5.54934126e-09 1.21333159e-07 0.00000000e+00 0.00000000e+00\n",
      "  2.94098669e-09 0.00000000e+00 0.00000000e+00 0.00000000e+00\n",
      "  2.47458680e-09 1.20606309e-08 1.21187530e-09 0.00000000e+00\n",
      "  0.00000000e+00 3.46095002e-09 0.00000000e+00 0.00000000e+00\n",
      "  0.00000000e+00 2.05433728e-08 1.41295614e-08 7.41379814e-09\n",
      "  8.17176866e-08]]\n"
     ]
    }
   ],
   "source": [
    "print('w = ',clf.coef_)\n",
    "print('b = ',clf.intercept_)\n",
    "print('Indices of support vectors = ', clf.support_)\n",
    "print('Support vectors = ', clf.support_vectors_)\n",
    "print('Number of support vectors for each class = ', clf.n_support_)\n",
    "print('Coefficients of the support vector in the decision function = ', np.abs(clf.dual_coef_))"
   ]
  },
  {
   "cell_type": "code",
   "execution_count": 16,
   "metadata": {
    "slideshow": {
     "slide_type": "slide"
    }
   },
   "outputs": [],
   "source": [
    "pathBase = 'C:\\\\Users\\\\Chuan\\\\OneDrive\\\\Dowrun\\\\Database\\\\PhD\\\\KaryoTypes\\\\Arrangement\\\\test\\\\'\n",
    "theWhole = {}\n",
    "\n",
    "f = []\n",
    "f_x = []\n",
    "mypath_x = pathBase + 'chr_x'\n",
    "for (dirpath, dirnames, filenames) in walk(mypath_x):\n",
    "    f.extend(filenames)\n",
    "for l in f:\n",
    "    f_x.append(mypath_x + '\\\\' + l)    \n",
    "\n",
    "    \n",
    "# ///////// Abnormal ones //////////////\n",
    "\n",
    "f = []\n",
    "f_x_isochromosome = []\n",
    "mypath_x_isochromosome = pathBase + 'chr_x_isochromosome'\n",
    "for (dirpath, dirnames, filenames) in walk(mypath_x_isochromosome):\n",
    "    f.extend(filenames)\n",
    "for l in f:\n",
    "    f_x_isochromosome.append(mypath_x_isochromosome + '\\\\' + l)  \n",
    "    \n",
    "f = []\n",
    "f_x_p22_cnv = []\n",
    "mypath_x_p22_cnv = pathBase + 'chr_x_p22_cnv'\n",
    "for (dirpath, dirnames, filenames) in walk(mypath_x_p22_cnv):\n",
    "    f.extend(filenames)\n",
    "for l in f:\n",
    "    f_x_p22_cnv.append(mypath_x_p22_cnv + '\\\\' + l)\n",
    "    \n",
    "f = []\n",
    "f_x_q21_cnv = []\n",
    "mypath_x_q21_cnv = pathBase + 'chr_x_q21_cnv'\n",
    "for (dirpath, dirnames, filenames) in walk(mypath_x_q21_cnv):\n",
    "    f.extend(filenames)\n",
    "for l in f:\n",
    "    f_x_q21_cnv.append(mypath_x_q21_cnv + '\\\\' + l)  \n",
    "    \n",
    "f = []\n",
    "f_x_q22_deletion = []\n",
    "mypath_x_q22_deletion = pathBase + 'chr_x_q22_deletion'\n",
    "for (dirpath, dirnames, filenames) in walk(mypath_x_q22_deletion):\n",
    "    f.extend(filenames)\n",
    "for l in f:\n",
    "    f_x_q22_deletion.append(mypath_x_q22_deletion + '\\\\' + l)  \n",
    "\n",
    "    \n",
    "\n",
    "theWhole['chr_x'] = f_x\n",
    "\n",
    "theWhole['chr_x_isochromosome'] = f_x_isochromosome\n",
    "theWhole['chr_x_p22_cnv'] = f_x_p22_cnv\n",
    "theWhole['chr_x_q21_cnv'] = f_x_q21_cnv\n",
    "theWhole['chr_x_q22_deletion'] = f_x_q22_deletion"
   ]
  },
  {
   "cell_type": "code",
   "execution_count": 17,
   "metadata": {
    "slideshow": {
     "slide_type": "slide"
    }
   },
   "outputs": [
    {
     "name": "stdout",
     "output_type": "stream",
     "text": [
      "0.01695394515991211\n"
     ]
    }
   ],
   "source": [
    "start = time.time()\n",
    "\n",
    "image = {}\n",
    "i = 0\n",
    "\n",
    "for chrNo in theWhole.keys():\n",
    "    image[chrNo] = []\n",
    "    for case in theWhole[chrNo]:\n",
    "        img = Image.open(case)\n",
    "        image[chrNo].append(img)\n",
    "    \n",
    "end = time.time()\n",
    "print(end - start)"
   ]
  },
  {
   "cell_type": "markdown",
   "metadata": {
    "slideshow": {
     "slide_type": "slide"
    }
   },
   "source": [
    "### Data Extraction"
   ]
  },
  {
   "cell_type": "code",
   "execution_count": 18,
   "metadata": {
    "slideshow": {
     "slide_type": "-"
    }
   },
   "outputs": [
    {
     "name": "stdout",
     "output_type": "stream",
     "text": [
      "7.55479097366333\n"
     ]
    }
   ],
   "source": [
    "start = time.time()\n",
    "\n",
    "data = {}\n",
    "rgb_data = {}\n",
    "\n",
    "for chrNo in image.keys():\n",
    "    data[chrNo] = []; rgb_data[chrNo] = []\n",
    "    for case in image[chrNo]:\n",
    "        grey, rgb = extractData(case)\n",
    "        data[chrNo].append(grey)\n",
    "        rgb_data[chrNo].append(rgb)\n",
    "        \n",
    "end = time.time()\n",
    "print(end - start)"
   ]
  },
  {
   "cell_type": "markdown",
   "metadata": {
    "slideshow": {
     "slide_type": "slide"
    }
   },
   "source": [
    "### 2D to 1D"
   ]
  },
  {
   "cell_type": "code",
   "execution_count": 19,
   "metadata": {
    "slideshow": {
     "slide_type": "-"
    }
   },
   "outputs": [],
   "source": [
    "data_flat = {}\n",
    "\n",
    "for chrNo in data.keys():\n",
    "    data_flat[chrNo] = []\n",
    "    for case in data[chrNo]:\n",
    "        case_flat = []\n",
    "        for row in case:\n",
    "            for column in row:\n",
    "                case_flat.append(column)            \n",
    "        data_flat[chrNo].append(case_flat)"
   ]
  },
  {
   "cell_type": "code",
   "execution_count": 20,
   "metadata": {
    "slideshow": {
     "slide_type": "-"
    }
   },
   "outputs": [],
   "source": [
    "x_test_list = []\n",
    "y_test_list = []\n",
    "\n",
    "for y, x in data_flat.items():    \n",
    "    for x_item in x:\n",
    "        x_test_list.append(x_item)\n",
    "        y_test_list.append(y)"
   ]
  },
  {
   "cell_type": "code",
   "execution_count": 21,
   "metadata": {
    "slideshow": {
     "slide_type": "slide"
    }
   },
   "outputs": [],
   "source": [
    "X_test = np.array(x_test_list)\n",
    "y_test = np.array(y_test_list)"
   ]
  },
  {
   "cell_type": "markdown",
   "metadata": {
    "slideshow": {
     "slide_type": "slide"
    }
   },
   "source": [
    "## Performance Measures"
   ]
  },
  {
   "cell_type": "code",
   "execution_count": 22,
   "metadata": {
    "slideshow": {
     "slide_type": "-"
    }
   },
   "outputs": [],
   "source": [
    "y_predict = clf.predict(X_test)\n",
    "y_test = y_test"
   ]
  },
  {
   "cell_type": "code",
   "execution_count": 23,
   "metadata": {
    "scrolled": false,
    "slideshow": {
     "slide_type": "slide"
    }
   },
   "outputs": [
    {
     "data": {
      "text/plain": [
       "array(['chr_x', 'chr_x', 'chr_x', 'chr_x', 'chr_x', 'chr_x_isochromosome',\n",
       "       'chr_x_p22_cnv', 'chr_x', 'chr_x_q22_deletion', 'chr_x',\n",
       "       'chr_x_isochromosome', 'chr_x_isochromosome',\n",
       "       'chr_x_isochromosome', 'chr_x', 'chr_x_isochromosome',\n",
       "       'chr_x_isochromosome', 'chr_x_isochromosome',\n",
       "       'chr_x_isochromosome', 'chr_x_isochromosome',\n",
       "       'chr_x_isochromosome', 'chr_x_p22_cnv', 'chr_x_p22_cnv',\n",
       "       'chr_x_p22_cnv', 'chr_x', 'chr_x_p22_cnv', 'chr_x',\n",
       "       'chr_x_p22_cnv', 'chr_x_q21_cnv', 'chr_x_q21_cnv', 'chr_x_q21_cnv',\n",
       "       'chr_x_q21_cnv', 'chr_x_q21_cnv', 'chr_x_q21_cnv', 'chr_x_q21_cnv',\n",
       "       'chr_x_q21_cnv', 'chr_x_q21_cnv', 'chr_x_isochromosome',\n",
       "       'chr_x_q22_deletion', 'chr_x', 'chr_x_q22_deletion',\n",
       "       'chr_x_p22_cnv', 'chr_x_q22_deletion', 'chr_x_q22_deletion',\n",
       "       'chr_x_isochromosome', 'chr_x', 'chr_x_q22_deletion',\n",
       "       'chr_x_q22_deletion'], dtype='<U19')"
      ]
     },
     "execution_count": 23,
     "metadata": {},
     "output_type": "execute_result"
    }
   ],
   "source": [
    "y_predict"
   ]
  },
  {
   "cell_type": "code",
   "execution_count": 24,
   "metadata": {
    "slideshow": {
     "slide_type": "slide"
    }
   },
   "outputs": [
    {
     "data": {
      "text/plain": [
       "array(['chr_x', 'chr_x', 'chr_x', 'chr_x', 'chr_x', 'chr_x', 'chr_x',\n",
       "       'chr_x', 'chr_x', 'chr_x', 'chr_x_isochromosome',\n",
       "       'chr_x_isochromosome', 'chr_x_isochromosome',\n",
       "       'chr_x_isochromosome', 'chr_x_isochromosome',\n",
       "       'chr_x_isochromosome', 'chr_x_isochromosome',\n",
       "       'chr_x_isochromosome', 'chr_x_isochromosome',\n",
       "       'chr_x_isochromosome', 'chr_x_p22_cnv', 'chr_x_p22_cnv',\n",
       "       'chr_x_p22_cnv', 'chr_x_p22_cnv', 'chr_x_p22_cnv', 'chr_x_p22_cnv',\n",
       "       'chr_x_p22_cnv', 'chr_x_q21_cnv', 'chr_x_q21_cnv', 'chr_x_q21_cnv',\n",
       "       'chr_x_q21_cnv', 'chr_x_q21_cnv', 'chr_x_q21_cnv', 'chr_x_q21_cnv',\n",
       "       'chr_x_q21_cnv', 'chr_x_q21_cnv', 'chr_x_q21_cnv',\n",
       "       'chr_x_q22_deletion', 'chr_x_q22_deletion', 'chr_x_q22_deletion',\n",
       "       'chr_x_q22_deletion', 'chr_x_q22_deletion', 'chr_x_q22_deletion',\n",
       "       'chr_x_q22_deletion', 'chr_x_q22_deletion', 'chr_x_q22_deletion',\n",
       "       'chr_x_q22_deletion'], dtype='<U19')"
      ]
     },
     "execution_count": 24,
     "metadata": {},
     "output_type": "execute_result"
    }
   ],
   "source": [
    "y_test"
   ]
  },
  {
   "cell_type": "markdown",
   "metadata": {
    "slideshow": {
     "slide_type": "slide"
    }
   },
   "source": [
    "### Confusion Matrix (混淆矩阵)"
   ]
  },
  {
   "cell_type": "code",
   "execution_count": 25,
   "metadata": {
    "scrolled": false,
    "slideshow": {
     "slide_type": "-"
    }
   },
   "outputs": [
    {
     "data": {
      "text/html": [
       "<div>\n",
       "<style scoped>\n",
       "    .dataframe tbody tr th:only-of-type {\n",
       "        vertical-align: middle;\n",
       "    }\n",
       "\n",
       "    .dataframe tbody tr th {\n",
       "        vertical-align: top;\n",
       "    }\n",
       "\n",
       "    .dataframe thead th {\n",
       "        text-align: right;\n",
       "    }\n",
       "</style>\n",
       "<table border=\"1\" class=\"dataframe\">\n",
       "  <thead>\n",
       "    <tr style=\"text-align: right;\">\n",
       "      <th></th>\n",
       "      <th>Predictive chr_x</th>\n",
       "      <th>Predictive chr_x_isochromosome</th>\n",
       "      <th>Predictive chr_x_p22_cnv</th>\n",
       "      <th>Predictive chr_x_q21_cnv</th>\n",
       "      <th>Predictive chr_x_q22_deletion</th>\n",
       "    </tr>\n",
       "  </thead>\n",
       "  <tbody>\n",
       "    <tr>\n",
       "      <th>chr_x</th>\n",
       "      <td>7</td>\n",
       "      <td>1</td>\n",
       "      <td>1</td>\n",
       "      <td>0</td>\n",
       "      <td>1</td>\n",
       "    </tr>\n",
       "    <tr>\n",
       "      <th>chr_x_isochromosome</th>\n",
       "      <td>1</td>\n",
       "      <td>9</td>\n",
       "      <td>0</td>\n",
       "      <td>0</td>\n",
       "      <td>0</td>\n",
       "    </tr>\n",
       "    <tr>\n",
       "      <th>chr_x_p22_cnv</th>\n",
       "      <td>2</td>\n",
       "      <td>0</td>\n",
       "      <td>5</td>\n",
       "      <td>0</td>\n",
       "      <td>0</td>\n",
       "    </tr>\n",
       "    <tr>\n",
       "      <th>chr_x_q21_cnv</th>\n",
       "      <td>0</td>\n",
       "      <td>1</td>\n",
       "      <td>0</td>\n",
       "      <td>9</td>\n",
       "      <td>0</td>\n",
       "    </tr>\n",
       "    <tr>\n",
       "      <th>chr_x_q22_deletion</th>\n",
       "      <td>2</td>\n",
       "      <td>1</td>\n",
       "      <td>1</td>\n",
       "      <td>0</td>\n",
       "      <td>6</td>\n",
       "    </tr>\n",
       "  </tbody>\n",
       "</table>\n",
       "</div>"
      ],
      "text/plain": [
       "                     Predictive chr_x  Predictive chr_x_isochromosome  \\\n",
       "chr_x                               7                               1   \n",
       "chr_x_isochromosome                 1                               9   \n",
       "chr_x_p22_cnv                       2                               0   \n",
       "chr_x_q21_cnv                       0                               1   \n",
       "chr_x_q22_deletion                  2                               1   \n",
       "\n",
       "                     Predictive chr_x_p22_cnv  Predictive chr_x_q21_cnv  \\\n",
       "chr_x                                       1                         0   \n",
       "chr_x_isochromosome                         0                         0   \n",
       "chr_x_p22_cnv                               5                         0   \n",
       "chr_x_q21_cnv                               0                         9   \n",
       "chr_x_q22_deletion                          1                         0   \n",
       "\n",
       "                     Predictive chr_x_q22_deletion  \n",
       "chr_x                                            1  \n",
       "chr_x_isochromosome                              0  \n",
       "chr_x_p22_cnv                                    0  \n",
       "chr_x_q21_cnv                                    0  \n",
       "chr_x_q22_deletion                               6  "
      ]
     },
     "execution_count": 25,
     "metadata": {},
     "output_type": "execute_result"
    }
   ],
   "source": [
    "cm = np.array(confusion_matrix(y_test, y_predict, labels=['chr_x', \n",
    "                                                          'chr_x_isochromosome', 'chr_x_p22_cnv', 'chr_x_q21_cnv', 'chr_x_q22_deletion']))\n",
    "confusion = pd.DataFrame(cm, index=['chr_x', \n",
    "                                   'chr_x_isochromosome', 'chr_x_p22_cnv', 'chr_x_q21_cnv', 'chr_x_q22_deletion'],\n",
    "                        columns=['Predictive chr_x', \n",
    "                                'Predictive chr_x_isochromosome', 'Predictive chr_x_p22_cnv', 'Predictive chr_x_q21_cnv', 'Predictive chr_x_q22_deletion'],)\n",
    "confusion.to_csv('ConfusionMatrix_X.csv')\n",
    "confusion"
   ]
  },
  {
   "cell_type": "code",
   "execution_count": 26,
   "metadata": {
    "slideshow": {
     "slide_type": "slide"
    }
   },
   "outputs": [
    {
     "name": "stdout",
     "output_type": "stream",
     "text": [
      "                     precision    recall  f1-score   support\n",
      "\n",
      "              chr_x       0.58      0.70      0.64        10\n",
      "chr_x_isochromosome       0.75      0.90      0.82        10\n",
      "      chr_x_p22_cnv       0.71      0.71      0.71         7\n",
      "      chr_x_q21_cnv       1.00      0.90      0.95        10\n",
      " chr_x_q22_deletion       0.86      0.60      0.71        10\n",
      "\n",
      "          micro avg       0.77      0.77      0.77        47\n",
      "          macro avg       0.78      0.76      0.76        47\n",
      "       weighted avg       0.79      0.77      0.77        47\n",
      "\n"
     ]
    }
   ],
   "source": [
    "print(classification_report(y_test, y_predict))"
   ]
  },
  {
   "cell_type": "markdown",
   "metadata": {
    "slideshow": {
     "slide_type": "slide"
    }
   },
   "source": [
    "## Save the Model"
   ]
  },
  {
   "cell_type": "code",
   "execution_count": 27,
   "metadata": {
    "slideshow": {
     "slide_type": "-"
    }
   },
   "outputs": [
    {
     "name": "stdout",
     "output_type": "stream",
     "text": [
      "['trained_model_X.m']\n"
     ]
    }
   ],
   "source": [
    "c = joblib.dump(clf, 'trained_model_X.m')\n",
    "print(c)"
   ]
  },
  {
   "cell_type": "markdown",
   "metadata": {
    "slideshow": {
     "slide_type": "slide"
    }
   },
   "source": [
    "## Load the Model"
   ]
  },
  {
   "cell_type": "code",
   "execution_count": 28,
   "metadata": {
    "slideshow": {
     "slide_type": "-"
    }
   },
   "outputs": [
    {
     "name": "stdout",
     "output_type": "stream",
     "text": [
      "SVC(C=1.0, cache_size=200, class_weight=None, coef0=0.0,\n",
      "  decision_function_shape='ovo', degree=3, gamma='auto_deprecated',\n",
      "  kernel='linear', max_iter=-1, probability=False, random_state=None,\n",
      "  shrinking=True, tol=0.001, verbose=False)\n"
     ]
    }
   ],
   "source": [
    "d = joblib.load('trained_model_X.m')\n",
    "print(d)"
   ]
  },
  {
   "cell_type": "code",
   "execution_count": null,
   "metadata": {},
   "outputs": [],
   "source": []
  }
 ],
 "metadata": {
  "anaconda-cloud": {},
  "celltoolbar": "Slideshow",
  "kernelspec": {
   "display_name": "Python 3",
   "language": "python",
   "name": "python3"
  },
  "language_info": {
   "codemirror_mode": {
    "name": "ipython",
    "version": 3
   },
   "file_extension": ".py",
   "mimetype": "text/x-python",
   "name": "python",
   "nbconvert_exporter": "python",
   "pygments_lexer": "ipython3",
   "version": "3.7.3"
  }
 },
 "nbformat": 4,
 "nbformat_minor": 2
}
