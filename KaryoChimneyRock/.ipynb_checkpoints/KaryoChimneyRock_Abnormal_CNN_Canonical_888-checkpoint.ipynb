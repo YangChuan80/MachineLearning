{
 "cells": [
  {
   "cell_type": "markdown",
   "metadata": {
    "colab_type": "text",
    "id": "slIdjqTJhM8B"
   },
   "source": [
    "# A Semi-automatic Classification of Normal Karyotypes using Convolutional Neural Network Algorithm"
   ]
  },
  {
   "cell_type": "markdown",
   "metadata": {
    "colab_type": "text",
    "id": "aBT9lgVVhM8D"
   },
   "source": [
    "- **Chuan Yang**, MD, PhD Student\n",
    "- Mentor: **Yanyan Zhao**, MD, PhD\n",
    "- Shengjing Hospital of China Medical University"
   ]
  },
  {
   "cell_type": "markdown",
   "metadata": {
    "colab_type": "text",
    "id": "xrnbxOZChM8E"
   },
   "source": [
    "## Modules"
   ]
  },
  {
   "cell_type": "code",
   "execution_count": 1,
   "metadata": {
    "colab": {
     "base_uri": "https://localhost:8080/",
     "height": 51
    },
    "colab_type": "code",
    "id": "aKjA8v4hhM8E",
    "outputId": "bf901c64-3b47-4c25-f77b-88c4c430a83f"
   },
   "outputs": [
    {
     "name": "stderr",
     "output_type": "stream",
     "text": [
      "/usr/local/lib/python3.6/dist-packages/statsmodels/tools/_testing.py:19: FutureWarning: pandas.util.testing is deprecated. Use the functions in the public API at pandas.testing instead.\n",
      "  import pandas.util.testing as tm\n"
     ]
    }
   ],
   "source": [
    "from PIL import Image\n",
    "import numpy as np\n",
    "import pandas as pd\n",
    "import matplotlib.pyplot as plt\n",
    "\n",
    "import seaborn as sb\n",
    "\n",
    "from sklearn.metrics import classification_report, confusion_matrix\n",
    "\n",
    "from tensorflow.keras import Sequential\n",
    "from tensorflow.keras.layers import Dense, Conv2D, MaxPooling2D, Flatten\n",
    "from tensorflow import keras\n",
    "\n",
    "from os import walk\n",
    "\n",
    "import time\n",
    "import datetime\n",
    "\n",
    "%matplotlib inline"
   ]
  },
  {
   "cell_type": "markdown",
   "metadata": {
    "colab_type": "text",
    "id": "2KFSsnYohM8H"
   },
   "source": [
    "## Samples\n"
   ]
  },
  {
   "cell_type": "markdown",
   "metadata": {
    "colab_type": "text",
    "id": "tHi_7uq7hM81"
   },
   "source": [
    "## Load the Datasets"
   ]
  },
  {
   "cell_type": "code",
   "execution_count": 2,
   "metadata": {
    "colab": {
     "base_uri": "https://localhost:8080/",
     "height": 34
    },
    "colab_type": "code",
    "id": "fMUkF4pxW2Sg",
    "outputId": "f6725471-5785-43f1-b6b3-88569d54c575"
   },
   "outputs": [
    {
     "name": "stdout",
     "output_type": "stream",
     "text": [
      "Mounted at /content/drive\n"
     ]
    }
   ],
   "source": [
    "from google.colab import drive\n",
    "drive.mount(\"/content/drive\")\n",
    "path = '/content/drive/My Drive/KaryoConvolution/'"
   ]
  },
  {
   "cell_type": "code",
   "execution_count": 3,
   "metadata": {
    "colab": {},
    "colab_type": "code",
    "id": "tP5TTXkJhM82"
   },
   "outputs": [],
   "source": [
    "X_train = np.load(path + 'X_train_2D_KaryoLearning_Abnormal.npy')\n",
    "y_train = np.load(path + 'y_train_2D_KaryoLearning_Abnormal.npy')\n",
    "\n",
    "X_test = np.load(path + 'X_test_2D_KaryoLearning_Abnormal.npy')\n",
    "y_test = np.load(path + 'y_test_2D_KaryoLearning_Abnormal.npy')"
   ]
  },
  {
   "cell_type": "markdown",
   "metadata": {
    "colab_type": "text",
    "id": "zKWSId2nhM83"
   },
   "source": [
    "## Convolutional Neural Network"
   ]
  },
  {
   "cell_type": "markdown",
   "metadata": {
    "colab_type": "text",
    "id": "8aiKh0ll6eT4"
   },
   "source": [
    "## Data Preparation"
   ]
  },
  {
   "cell_type": "code",
   "execution_count": 4,
   "metadata": {
    "colab": {},
    "colab_type": "code",
    "id": "H6Oqod2-6eT5"
   },
   "outputs": [],
   "source": [
    "X_train = X_train.reshape(-1, 300, 300, 1)\n",
    "X_test = X_test.reshape(-1, 300, 300, 1)"
   ]
  },
  {
   "cell_type": "markdown",
   "metadata": {
    "colab_type": "text",
    "id": "U9HLQx8dhM84"
   },
   "source": [
    "### Training"
   ]
  },
  {
   "cell_type": "markdown",
   "metadata": {
    "colab_type": "text",
    "id": "xpM5Mh8fhM84"
   },
   "source": [
    "#### Modal"
   ]
  },
  {
   "cell_type": "code",
   "execution_count": 5,
   "metadata": {
    "colab": {},
    "colab_type": "code",
    "id": "jeX02jNmhM85"
   },
   "outputs": [],
   "source": [
    "model = Sequential()"
   ]
  },
  {
   "cell_type": "code",
   "execution_count": 6,
   "metadata": {
    "colab": {},
    "colab_type": "code",
    "id": "Ye4CMPeK6eT9"
   },
   "outputs": [],
   "source": [
    "model.add(Conv2D(32, (3, 3), activation='relu', input_shape=(300, 300, 1)))\n",
    "model.add(MaxPooling2D((2, 2)))\n",
    "model.add(Conv2D(64, (3, 3), activation='relu'))\n",
    "model.add(MaxPooling2D((2, 2)))\n",
    "model.add(Conv2D(64, (3, 3), activation='relu'))"
   ]
  },
  {
   "cell_type": "code",
   "execution_count": 7,
   "metadata": {
    "colab": {},
    "colab_type": "code",
    "id": "lX1mieLJ6eT_"
   },
   "outputs": [],
   "source": [
    "model.add(Flatten())\n",
    "model.add(Dense(700, activation='relu'))\n",
    "model.add(Dense(800, activation='relu'))\n",
    "model.add(Dense(400, activation='relu'))\n",
    "model.add(Dense(32, activation='softmax'))"
   ]
  },
  {
   "cell_type": "code",
   "execution_count": 7,
   "metadata": {
    "colab": {},
    "colab_type": "code",
    "id": "p5uU_zkrZZm2"
   },
   "outputs": [],
   "source": [
    "\n"
   ]
  },
  {
   "cell_type": "markdown",
   "metadata": {
    "colab_type": "text",
    "id": "rOtNj0jlhM87"
   },
   "source": [
    "#### Tensorboard Initilization"
   ]
  },
  {
   "cell_type": "code",
   "execution_count": 8,
   "metadata": {
    "colab": {},
    "colab_type": "code",
    "id": "VEg0lb4OhM87"
   },
   "outputs": [],
   "source": [
    "%load_ext tensorboard\n",
    "log_dir = \"logs/fit/\" + datetime.datetime.now().strftime(\"%Y%m%d-%H%M%S\")\n",
    "tensorboard_callback = [keras.callbacks.TensorBoard(log_dir=log_dir, histogram_freq=1)]"
   ]
  },
  {
   "cell_type": "markdown",
   "metadata": {
    "colab_type": "text",
    "id": "P4zqonYwhM8-"
   },
   "source": [
    "#### Compile the modal"
   ]
  },
  {
   "cell_type": "code",
   "execution_count": 9,
   "metadata": {
    "colab": {},
    "colab_type": "code",
    "id": "wYvievAshM8_"
   },
   "outputs": [],
   "source": [
    "model.compile(optimizer='adam', loss='sparse_categorical_crossentropy', metrics=['accuracy'])"
   ]
  },
  {
   "cell_type": "markdown",
   "metadata": {
    "colab_type": "text",
    "id": "ElbCMim9hM9D"
   },
   "source": [
    "#### Training"
   ]
  },
  {
   "cell_type": "markdown",
   "metadata": {
    "colab_type": "text",
    "id": "7f4QdfuodbqK"
   },
   "source": [
    "#### Save the best performance Model"
   ]
  },
  {
   "cell_type": "code",
   "execution_count": 10,
   "metadata": {
    "colab": {},
    "colab_type": "code",
    "id": "LniG0yscdYJV"
   },
   "outputs": [],
   "source": [
    "EPOCHS = 10\n",
    "checkpoint_filepath = './checkpoint'\n",
    "\n",
    "model_checkpoint_callback = keras.callbacks.ModelCheckpoint(\n",
    "    filepath=checkpoint_filepath,\n",
    "    save_weights_only=True,\n",
    "    monitor='val_acc',\n",
    "    mode='max',\n",
    "    save_best_only=True)\n",
    "\n",
    "# Model weights are saved at the end of every epoch, if it's the best seen\n",
    "# so far."
   ]
  },
  {
   "cell_type": "code",
   "execution_count": 10,
   "metadata": {
    "colab": {},
    "colab_type": "code",
    "id": "4qTdGwE0doHS"
   },
   "outputs": [],
   "source": []
  },
  {
   "cell_type": "markdown",
   "metadata": {
    "colab_type": "text",
    "id": "ZmZ1RwZFdpFQ"
   },
   "source": [
    "### Fitting"
   ]
  },
  {
   "cell_type": "code",
   "execution_count": null,
   "metadata": {
    "colab": {
     "base_uri": "https://localhost:8080/",
     "height": 1000
    },
    "colab_type": "code",
    "id": "_PtUAhxphM9D",
    "outputId": "6f165660-61da-434f-d817-50ed2aaa3f0f"
   },
   "outputs": [
    {
     "name": "stdout",
     "output_type": "stream",
     "text": [
      "Epoch 1/500\n",
      " 1/26 [>.............................] - ETA: 0s - loss: 41.7191 - accuracy: 0.0625WARNING:tensorflow:From /usr/local/lib/python3.6/dist-packages/tensorflow/python/ops/summary_ops_v2.py:1277: stop (from tensorflow.python.eager.profiler) is deprecated and will be removed after 2020-07-01.\n",
      "Instructions for updating:\n",
      "use `tf.profiler.experimental.stop` instead.\n",
      " 2/26 [=>............................] - ETA: 1s - loss: 1390.0162 - accuracy: 0.0703WARNING:tensorflow:Callbacks method `on_train_batch_end` is slow compared to the batch time (batch time: 0.0551s vs `on_train_batch_end` time: 0.1046s). Check your callbacks.\n",
      "26/26 [==============================] - ETA: 0s - loss: 432.1384 - accuracy: 0.1041WARNING:tensorflow:Can save best model only with val_acc available, skipping.\n",
      "26/26 [==============================] - 19s 720ms/step - loss: 432.1384 - accuracy: 0.1041 - val_loss: 3.3325 - val_accuracy: 0.2000\n",
      "Epoch 2/500\n",
      "26/26 [==============================] - ETA: 0s - loss: 1.8162 - accuracy: 0.5312WARNING:tensorflow:Can save best model only with val_acc available, skipping.\n",
      "26/26 [==============================] - 17s 665ms/step - loss: 1.8162 - accuracy: 0.5312 - val_loss: 1.7457 - val_accuracy: 0.5619\n",
      "Epoch 3/500\n",
      "26/26 [==============================] - ETA: 0s - loss: 0.5656 - accuracy: 0.8227WARNING:tensorflow:Can save best model only with val_acc available, skipping.\n",
      "26/26 [==============================] - 17s 665ms/step - loss: 0.5656 - accuracy: 0.8227 - val_loss: 1.2680 - val_accuracy: 0.7175\n",
      "Epoch 4/500\n",
      "26/26 [==============================] - ETA: 0s - loss: 1.2363 - accuracy: 0.7114WARNING:tensorflow:Can save best model only with val_acc available, skipping.\n",
      "26/26 [==============================] - 17s 663ms/step - loss: 1.2363 - accuracy: 0.7114 - val_loss: 1.8280 - val_accuracy: 0.6984\n",
      "Epoch 5/500\n",
      "26/26 [==============================] - ETA: 0s - loss: 0.3317 - accuracy: 0.8953WARNING:tensorflow:Can save best model only with val_acc available, skipping.\n",
      "26/26 [==============================] - 17s 663ms/step - loss: 0.3317 - accuracy: 0.8953 - val_loss: 1.1955 - val_accuracy: 0.7048\n",
      "Epoch 6/500\n",
      "26/26 [==============================] - ETA: 0s - loss: 0.1658 - accuracy: 0.9564WARNING:tensorflow:Can save best model only with val_acc available, skipping.\n",
      "26/26 [==============================] - 17s 664ms/step - loss: 0.1658 - accuracy: 0.9564 - val_loss: 1.3450 - val_accuracy: 0.7206\n",
      "Epoch 7/500\n",
      "26/26 [==============================] - ETA: 0s - loss: 0.0790 - accuracy: 0.9788WARNING:tensorflow:Can save best model only with val_acc available, skipping.\n",
      "26/26 [==============================] - 17s 663ms/step - loss: 0.0790 - accuracy: 0.9788 - val_loss: 1.3939 - val_accuracy: 0.8032\n",
      "Epoch 8/500\n",
      "26/26 [==============================] - ETA: 0s - loss: 0.0515 - accuracy: 0.9837WARNING:tensorflow:Can save best model only with val_acc available, skipping.\n",
      "26/26 [==============================] - 17s 667ms/step - loss: 0.0515 - accuracy: 0.9837 - val_loss: 1.3860 - val_accuracy: 0.7746\n",
      "Epoch 9/500\n",
      "26/26 [==============================] - ETA: 0s - loss: 0.0647 - accuracy: 0.9825WARNING:tensorflow:Can save best model only with val_acc available, skipping.\n",
      "26/26 [==============================] - 17s 668ms/step - loss: 0.0647 - accuracy: 0.9825 - val_loss: 1.4045 - val_accuracy: 0.7651\n",
      "Epoch 10/500\n",
      "26/26 [==============================] - ETA: 0s - loss: 0.3544 - accuracy: 0.9087WARNING:tensorflow:Can save best model only with val_acc available, skipping.\n",
      "26/26 [==============================] - 17s 663ms/step - loss: 0.3544 - accuracy: 0.9087 - val_loss: 3.2396 - val_accuracy: 0.2222\n",
      "Epoch 11/500\n",
      "26/26 [==============================] - ETA: 0s - loss: 1.4487 - accuracy: 0.6286WARNING:tensorflow:Can save best model only with val_acc available, skipping.\n",
      "26/26 [==============================] - 17s 662ms/step - loss: 1.4487 - accuracy: 0.6286 - val_loss: 2.0000 - val_accuracy: 0.6254\n",
      "Epoch 12/500\n",
      "26/26 [==============================] - ETA: 0s - loss: 0.4760 - accuracy: 0.8742WARNING:tensorflow:Can save best model only with val_acc available, skipping.\n",
      "26/26 [==============================] - 17s 668ms/step - loss: 0.4760 - accuracy: 0.8742 - val_loss: 1.6297 - val_accuracy: 0.7079\n",
      "Epoch 13/500\n",
      "26/26 [==============================] - ETA: 0s - loss: 0.1950 - accuracy: 0.9419WARNING:tensorflow:Can save best model only with val_acc available, skipping.\n",
      "26/26 [==============================] - 17s 665ms/step - loss: 0.1950 - accuracy: 0.9419 - val_loss: 1.5503 - val_accuracy: 0.6667\n",
      "Epoch 14/500\n",
      "26/26 [==============================] - ETA: 0s - loss: 0.1080 - accuracy: 0.9661WARNING:tensorflow:Can save best model only with val_acc available, skipping.\n",
      "26/26 [==============================] - 17s 662ms/step - loss: 0.1080 - accuracy: 0.9661 - val_loss: 1.6789 - val_accuracy: 0.6952\n",
      "Epoch 15/500\n",
      "26/26 [==============================] - ETA: 0s - loss: 0.0809 - accuracy: 0.9776WARNING:tensorflow:Can save best model only with val_acc available, skipping.\n",
      "26/26 [==============================] - 17s 664ms/step - loss: 0.0809 - accuracy: 0.9776 - val_loss: 1.7022 - val_accuracy: 0.7111\n",
      "Epoch 16/500\n",
      "26/26 [==============================] - ETA: 0s - loss: 0.0342 - accuracy: 0.9909WARNING:tensorflow:Can save best model only with val_acc available, skipping.\n",
      "26/26 [==============================] - 17s 663ms/step - loss: 0.0342 - accuracy: 0.9909 - val_loss: 1.8380 - val_accuracy: 0.7175\n",
      "Epoch 17/500\n",
      "26/26 [==============================] - ETA: 0s - loss: 0.0303 - accuracy: 0.9915WARNING:tensorflow:Can save best model only with val_acc available, skipping.\n",
      "26/26 [==============================] - 17s 667ms/step - loss: 0.0303 - accuracy: 0.9915 - val_loss: 1.7410 - val_accuracy: 0.7111\n",
      "Epoch 18/500\n",
      "26/26 [==============================] - ETA: 0s - loss: 0.0238 - accuracy: 0.9952WARNING:tensorflow:Can save best model only with val_acc available, skipping.\n",
      "26/26 [==============================] - 17s 662ms/step - loss: 0.0238 - accuracy: 0.9952 - val_loss: 1.7796 - val_accuracy: 0.7079\n",
      "Epoch 19/500\n",
      "26/26 [==============================] - ETA: 0s - loss: 0.0261 - accuracy: 0.9946WARNING:tensorflow:Can save best model only with val_acc available, skipping.\n",
      "26/26 [==============================] - 17s 662ms/step - loss: 0.0261 - accuracy: 0.9946 - val_loss: 1.7534 - val_accuracy: 0.7079\n",
      "Epoch 20/500\n",
      "26/26 [==============================] - ETA: 0s - loss: 0.0147 - accuracy: 0.9964WARNING:tensorflow:Can save best model only with val_acc available, skipping.\n",
      "26/26 [==============================] - 17s 662ms/step - loss: 0.0147 - accuracy: 0.9964 - val_loss: 1.7528 - val_accuracy: 0.7397\n",
      "Epoch 21/500\n",
      "26/26 [==============================] - ETA: 0s - loss: 0.0153 - accuracy: 0.9952WARNING:tensorflow:Can save best model only with val_acc available, skipping.\n",
      "26/26 [==============================] - 17s 664ms/step - loss: 0.0153 - accuracy: 0.9952 - val_loss: 1.7612 - val_accuracy: 0.6984\n",
      "Epoch 22/500\n",
      "26/26 [==============================] - ETA: 0s - loss: 0.0141 - accuracy: 0.9952WARNING:tensorflow:Can save best model only with val_acc available, skipping.\n",
      "26/26 [==============================] - 17s 667ms/step - loss: 0.0141 - accuracy: 0.9952 - val_loss: 1.7365 - val_accuracy: 0.7302\n",
      "Epoch 23/500\n",
      "26/26 [==============================] - ETA: 0s - loss: 0.0103 - accuracy: 0.9958WARNING:tensorflow:Can save best model only with val_acc available, skipping.\n",
      "26/26 [==============================] - 17s 662ms/step - loss: 0.0103 - accuracy: 0.9958 - val_loss: 1.7373 - val_accuracy: 0.7206\n",
      "Epoch 24/500\n",
      "26/26 [==============================] - ETA: 0s - loss: 0.0071 - accuracy: 0.9958WARNING:tensorflow:Can save best model only with val_acc available, skipping.\n",
      "26/26 [==============================] - 17s 663ms/step - loss: 0.0071 - accuracy: 0.9958 - val_loss: 1.7520 - val_accuracy: 0.7302\n",
      "Epoch 25/500\n",
      "26/26 [==============================] - ETA: 0s - loss: 0.0110 - accuracy: 0.9970WARNING:tensorflow:Can save best model only with val_acc available, skipping.\n",
      "26/26 [==============================] - 17s 662ms/step - loss: 0.0110 - accuracy: 0.9970 - val_loss: 1.7608 - val_accuracy: 0.7175\n",
      "Epoch 26/500\n",
      "26/26 [==============================] - ETA: 0s - loss: 0.0090 - accuracy: 0.9964WARNING:tensorflow:Can save best model only with val_acc available, skipping.\n",
      "26/26 [==============================] - 17s 664ms/step - loss: 0.0090 - accuracy: 0.9964 - val_loss: 1.7887 - val_accuracy: 0.7206\n",
      "Epoch 27/500\n",
      "26/26 [==============================] - ETA: 0s - loss: 0.0088 - accuracy: 0.9964WARNING:tensorflow:Can save best model only with val_acc available, skipping.\n",
      "26/26 [==============================] - 17s 671ms/step - loss: 0.0088 - accuracy: 0.9964 - val_loss: 1.7871 - val_accuracy: 0.7111\n",
      "Epoch 28/500\n",
      "26/26 [==============================] - ETA: 0s - loss: 0.0083 - accuracy: 0.9964WARNING:tensorflow:Can save best model only with val_acc available, skipping.\n",
      "26/26 [==============================] - 17s 663ms/step - loss: 0.0083 - accuracy: 0.9964 - val_loss: 1.7953 - val_accuracy: 0.7460\n",
      "Epoch 29/500\n",
      "26/26 [==============================] - ETA: 0s - loss: 0.0080 - accuracy: 0.9952WARNING:tensorflow:Can save best model only with val_acc available, skipping.\n",
      "26/26 [==============================] - 17s 663ms/step - loss: 0.0080 - accuracy: 0.9952 - val_loss: 1.8182 - val_accuracy: 0.7206\n",
      "Epoch 30/500\n",
      "26/26 [==============================] - ETA: 0s - loss: 0.0058 - accuracy: 0.9964WARNING:tensorflow:Can save best model only with val_acc available, skipping.\n",
      "26/26 [==============================] - 17s 664ms/step - loss: 0.0058 - accuracy: 0.9964 - val_loss: 1.8602 - val_accuracy: 0.7365\n",
      "Epoch 31/500\n",
      "26/26 [==============================] - ETA: 0s - loss: 0.0065 - accuracy: 0.9970WARNING:tensorflow:Can save best model only with val_acc available, skipping.\n",
      "26/26 [==============================] - 17s 666ms/step - loss: 0.0065 - accuracy: 0.9970 - val_loss: 1.8378 - val_accuracy: 0.7048\n",
      "Epoch 32/500\n",
      "26/26 [==============================] - ETA: 0s - loss: 0.0060 - accuracy: 0.9964WARNING:tensorflow:Can save best model only with val_acc available, skipping.\n",
      "26/26 [==============================] - 17s 661ms/step - loss: 0.0060 - accuracy: 0.9964 - val_loss: 1.8738 - val_accuracy: 0.7302\n",
      "Epoch 33/500\n",
      "26/26 [==============================] - ETA: 0s - loss: 0.0046 - accuracy: 0.9976WARNING:tensorflow:Can save best model only with val_acc available, skipping.\n",
      "26/26 [==============================] - 17s 661ms/step - loss: 0.0046 - accuracy: 0.9976 - val_loss: 1.8851 - val_accuracy: 0.7270\n",
      "Epoch 34/500\n",
      "26/26 [==============================] - ETA: 0s - loss: 0.0046 - accuracy: 0.9964WARNING:tensorflow:Can save best model only with val_acc available, skipping.\n",
      "26/26 [==============================] - 17s 662ms/step - loss: 0.0046 - accuracy: 0.9964 - val_loss: 1.8830 - val_accuracy: 0.7238\n",
      "Epoch 35/500\n",
      "26/26 [==============================] - ETA: 0s - loss: 0.0044 - accuracy: 0.9970WARNING:tensorflow:Can save best model only with val_acc available, skipping.\n",
      "26/26 [==============================] - 17s 663ms/step - loss: 0.0044 - accuracy: 0.9970 - val_loss: 1.9247 - val_accuracy: 0.7206\n",
      "Epoch 36/500\n",
      "26/26 [==============================] - ETA: 0s - loss: 0.0045 - accuracy: 0.9982WARNING:tensorflow:Can save best model only with val_acc available, skipping.\n",
      "26/26 [==============================] - 17s 666ms/step - loss: 0.0045 - accuracy: 0.9982 - val_loss: 1.9466 - val_accuracy: 0.7175\n",
      "Epoch 37/500\n",
      "26/26 [==============================] - ETA: 0s - loss: 0.0070 - accuracy: 0.9976WARNING:tensorflow:Can save best model only with val_acc available, skipping.\n",
      "26/26 [==============================] - 17s 664ms/step - loss: 0.0070 - accuracy: 0.9976 - val_loss: 1.8989 - val_accuracy: 0.6984\n",
      "Epoch 38/500\n",
      "26/26 [==============================] - ETA: 0s - loss: 0.0058 - accuracy: 0.9976WARNING:tensorflow:Can save best model only with val_acc available, skipping.\n",
      "26/26 [==============================] - 17s 660ms/step - loss: 0.0058 - accuracy: 0.9976 - val_loss: 1.9635 - val_accuracy: 0.7333\n",
      "Epoch 39/500\n",
      "26/26 [==============================] - ETA: 0s - loss: 0.0040 - accuracy: 0.9982WARNING:tensorflow:Can save best model only with val_acc available, skipping.\n",
      "26/26 [==============================] - 17s 662ms/step - loss: 0.0040 - accuracy: 0.9982 - val_loss: 1.9443 - val_accuracy: 0.7302\n",
      "Epoch 40/500\n",
      "26/26 [==============================] - ETA: 0s - loss: 0.0058 - accuracy: 0.9976WARNING:tensorflow:Can save best model only with val_acc available, skipping.\n",
      "26/26 [==============================] - 17s 661ms/step - loss: 0.0058 - accuracy: 0.9976 - val_loss: 1.9504 - val_accuracy: 0.6889\n",
      "Epoch 41/500\n",
      "26/26 [==============================] - ETA: 0s - loss: 0.0065 - accuracy: 0.9964WARNING:tensorflow:Can save best model only with val_acc available, skipping.\n",
      "26/26 [==============================] - 17s 664ms/step - loss: 0.0065 - accuracy: 0.9964 - val_loss: 1.9867 - val_accuracy: 0.7270\n",
      "Epoch 42/500\n",
      "26/26 [==============================] - ETA: 0s - loss: 0.0048 - accuracy: 0.9976WARNING:tensorflow:Can save best model only with val_acc available, skipping.\n",
      "26/26 [==============================] - 17s 662ms/step - loss: 0.0048 - accuracy: 0.9976 - val_loss: 1.9569 - val_accuracy: 0.7175\n",
      "Epoch 43/500\n",
      "26/26 [==============================] - ETA: 0s - loss: 0.0050 - accuracy: 0.9964WARNING:tensorflow:Can save best model only with val_acc available, skipping.\n",
      "26/26 [==============================] - 17s 662ms/step - loss: 0.0050 - accuracy: 0.9964 - val_loss: 2.0171 - val_accuracy: 0.7206\n",
      "Epoch 44/500\n",
      "26/26 [==============================] - ETA: 0s - loss: 0.0062 - accuracy: 0.9976WARNING:tensorflow:Can save best model only with val_acc available, skipping.\n",
      "26/26 [==============================] - 17s 662ms/step - loss: 0.0062 - accuracy: 0.9976 - val_loss: 2.0153 - val_accuracy: 0.6984\n",
      "Epoch 45/500\n",
      "26/26 [==============================] - ETA: 0s - loss: 0.0037 - accuracy: 0.9982WARNING:tensorflow:Can save best model only with val_acc available, skipping.\n",
      "26/26 [==============================] - 17s 667ms/step - loss: 0.0037 - accuracy: 0.9982 - val_loss: 2.0672 - val_accuracy: 0.7206\n",
      "Epoch 46/500\n",
      "26/26 [==============================] - ETA: 0s - loss: 0.0047 - accuracy: 0.9970WARNING:tensorflow:Can save best model only with val_acc available, skipping.\n",
      "26/26 [==============================] - 17s 661ms/step - loss: 0.0047 - accuracy: 0.9970 - val_loss: 2.0500 - val_accuracy: 0.7270\n",
      "Epoch 47/500\n",
      "26/26 [==============================] - ETA: 0s - loss: 0.0060 - accuracy: 0.9976WARNING:tensorflow:Can save best model only with val_acc available, skipping.\n",
      "26/26 [==============================] - 17s 665ms/step - loss: 0.0060 - accuracy: 0.9976 - val_loss: 2.0465 - val_accuracy: 0.7016\n",
      "Epoch 48/500\n",
      "26/26 [==============================] - ETA: 0s - loss: 0.0036 - accuracy: 0.9970WARNING:tensorflow:Can save best model only with val_acc available, skipping.\n",
      "26/26 [==============================] - 17s 662ms/step - loss: 0.0036 - accuracy: 0.9970 - val_loss: 2.0840 - val_accuracy: 0.7365\n",
      "Epoch 49/500\n",
      "26/26 [==============================] - ETA: 0s - loss: 0.0042 - accuracy: 0.9982WARNING:tensorflow:Can save best model only with val_acc available, skipping.\n",
      "26/26 [==============================] - 17s 661ms/step - loss: 0.0042 - accuracy: 0.9982 - val_loss: 2.0673 - val_accuracy: 0.7175\n",
      "Epoch 50/500\n",
      "26/26 [==============================] - ETA: 0s - loss: 0.0050 - accuracy: 0.9976WARNING:tensorflow:Can save best model only with val_acc available, skipping.\n",
      "26/26 [==============================] - 17s 667ms/step - loss: 0.0050 - accuracy: 0.9976 - val_loss: 2.0679 - val_accuracy: 0.7143\n",
      "Epoch 51/500\n",
      "26/26 [==============================] - ETA: 0s - loss: 0.0036 - accuracy: 0.9976WARNING:tensorflow:Can save best model only with val_acc available, skipping.\n",
      "26/26 [==============================] - 17s 661ms/step - loss: 0.0036 - accuracy: 0.9976 - val_loss: 2.0798 - val_accuracy: 0.7206\n",
      "Epoch 52/500\n",
      "26/26 [==============================] - ETA: 0s - loss: 0.0038 - accuracy: 0.9976WARNING:tensorflow:Can save best model only with val_acc available, skipping.\n",
      "26/26 [==============================] - 20s 751ms/step - loss: 0.0038 - accuracy: 0.9976 - val_loss: 2.1030 - val_accuracy: 0.7206\n",
      "Epoch 53/500\n",
      "26/26 [==============================] - ETA: 0s - loss: 0.0034 - accuracy: 0.9982WARNING:tensorflow:Can save best model only with val_acc available, skipping.\n",
      "26/26 [==============================] - 17s 664ms/step - loss: 0.0034 - accuracy: 0.9982 - val_loss: 2.1108 - val_accuracy: 0.7143\n",
      "Epoch 54/500\n",
      "26/26 [==============================] - ETA: 0s - loss: 0.0044 - accuracy: 0.9964WARNING:tensorflow:Can save best model only with val_acc available, skipping.\n",
      "26/26 [==============================] - 17s 665ms/step - loss: 0.0044 - accuracy: 0.9964 - val_loss: 2.1242 - val_accuracy: 0.7206\n",
      "Epoch 55/500\n",
      "26/26 [==============================] - ETA: 0s - loss: 0.0045 - accuracy: 0.9982WARNING:tensorflow:Can save best model only with val_acc available, skipping.\n",
      "26/26 [==============================] - 17s 666ms/step - loss: 0.0045 - accuracy: 0.9982 - val_loss: 2.1331 - val_accuracy: 0.7048\n",
      "Epoch 56/500\n",
      "26/26 [==============================] - ETA: 0s - loss: 0.0053 - accuracy: 0.9970WARNING:tensorflow:Can save best model only with val_acc available, skipping.\n",
      "26/26 [==============================] - 17s 661ms/step - loss: 0.0053 - accuracy: 0.9970 - val_loss: 2.1030 - val_accuracy: 0.7302\n",
      "Epoch 57/500\n",
      "26/26 [==============================] - ETA: 0s - loss: 0.0040 - accuracy: 0.9964"
     ]
    }
   ],
   "source": [
    "model.fit(X_train, y_train, epochs=EPOCHS, batch_size=64, verbose=1, \n",
    "          validation_data=(X_test, y_test),\n",
    "          callbacks=[tensorboard_callback, model_checkpoint_callback])"
   ]
  },
  {
   "cell_type": "code",
   "execution_count": null,
   "metadata": {
    "colab": {},
    "colab_type": "code",
    "id": "oc6qL9tKhM9F"
   },
   "outputs": [],
   "source": [
    "model.summary()"
   ]
  },
  {
   "cell_type": "code",
   "execution_count": null,
   "metadata": {
    "colab": {},
    "colab_type": "code",
    "id": "9w9G1Y5VbBLm"
   },
   "outputs": [],
   "source": []
  },
  {
   "cell_type": "markdown",
   "metadata": {
    "colab_type": "text",
    "id": "6IOse7UahM9H"
   },
   "source": [
    "### Tensorboard Display"
   ]
  },
  {
   "cell_type": "code",
   "execution_count": null,
   "metadata": {
    "colab": {},
    "colab_type": "code",
    "id": "V7O2fNf7hM9I"
   },
   "outputs": [],
   "source": [
    "%tensorboard --logdir logs/fit"
   ]
  },
  {
   "cell_type": "markdown",
   "metadata": {
    "colab_type": "text",
    "id": "jN3Q4Qnfd0TT"
   },
   "source": [
    "### Load the best model"
   ]
  },
  {
   "cell_type": "code",
   "execution_count": null,
   "metadata": {
    "colab": {},
    "colab_type": "code",
    "id": "v6Et_HxvdxcV"
   },
   "outputs": [],
   "source": [
    "#model.load_weights()"
   ]
  },
  {
   "cell_type": "markdown",
   "metadata": {
    "colab_type": "text",
    "id": "XQJKzdwChM9J"
   },
   "source": [
    "## Performance Measures"
   ]
  },
  {
   "cell_type": "code",
   "execution_count": null,
   "metadata": {
    "colab": {},
    "colab_type": "code",
    "id": "gIs4_UUvhM9K"
   },
   "outputs": [],
   "source": [
    "loss, acc = model.evaluate(X_test, y_test, verbose=0)\n",
    "print('Test Accuracy: %.3f' % acc)"
   ]
  },
  {
   "cell_type": "code",
   "execution_count": null,
   "metadata": {
    "colab": {},
    "colab_type": "code",
    "id": "93XNN2Wx6eUQ"
   },
   "outputs": [],
   "source": [
    "len(X_test)"
   ]
  },
  {
   "cell_type": "code",
   "execution_count": null,
   "metadata": {
    "colab": {},
    "colab_type": "code",
    "id": "Jm6MN7H5hM9M",
    "scrolled": false
   },
   "outputs": [],
   "source": [
    "y_predict = model.predict(X_test)"
   ]
  },
  {
   "cell_type": "code",
   "execution_count": null,
   "metadata": {
    "colab": {},
    "colab_type": "code",
    "id": "DZf8umyT6eUV",
    "scrolled": true
   },
   "outputs": [],
   "source": [
    "len(y_predict)"
   ]
  },
  {
   "cell_type": "code",
   "execution_count": null,
   "metadata": {
    "colab": {},
    "colab_type": "code",
    "id": "VdJGvieR6eUY"
   },
   "outputs": [],
   "source": [
    "y_predict_filtered = []\n",
    "\n",
    "for sample in y_predict:\n",
    "    maximum = 0\n",
    "    indicator = 0\n",
    "    for i in range(32):\n",
    "        if sample[i] > maximum:\n",
    "            maximum = sample[i]\n",
    "            indicator = i\n",
    "    y_predict_filtered.append(indicator)        "
   ]
  },
  {
   "cell_type": "code",
   "execution_count": null,
   "metadata": {
    "colab": {},
    "colab_type": "code",
    "id": "p5fk-IHP6eUb"
   },
   "outputs": [],
   "source": [
    "len(y_predict_filtered)"
   ]
  },
  {
   "cell_type": "code",
   "execution_count": null,
   "metadata": {
    "colab": {},
    "colab_type": "code",
    "id": "pP-vPuuUhM9O"
   },
   "outputs": [],
   "source": [
    "len(y_test)"
   ]
  },
  {
   "cell_type": "code",
   "execution_count": null,
   "metadata": {
    "colab": {},
    "colab_type": "code",
    "id": "ITpfGWxg6eUf"
   },
   "outputs": [],
   "source": []
  },
  {
   "cell_type": "markdown",
   "metadata": {
    "colab_type": "text",
    "id": "wFuk9U3RhM9Q"
   },
   "source": [
    "### Confusion Matrix (混淆矩阵)"
   ]
  },
  {
   "cell_type": "code",
   "execution_count": null,
   "metadata": {
    "colab": {},
    "colab_type": "code",
    "id": "rrX4iqBUDKE5"
   },
   "outputs": [],
   "source": [
    "chromConvert = {'chr_01': 1, \n",
    "               'chr_02': 2, \n",
    "               'chr_03': 3, \n",
    "               'chr_04': 4, \n",
    "               'chr_05': 5, \n",
    "               'chr_06': 6, \n",
    "               'chr_07': 7, \n",
    "               'chr_08': 8, \n",
    "               'chr_09': 9, \n",
    "               'chr_10': 10, \n",
    "               'chr_11': 11, \n",
    "               'chr_12': 12, \n",
    "               'chr_13': 13, \n",
    "               'chr_14': 14, \n",
    "               'chr_15': 15, \n",
    "               'chr_16': 16, \n",
    "               'chr_17': 17, \n",
    "               'chr_18': 18, \n",
    "               'chr_19': 19, \n",
    "               'chr_20': 20, \n",
    "               'chr_21': 21, \n",
    "               'chr_22': 22, \n",
    "               'chr_x': 0, \n",
    "               'chr_y': 23, \n",
    "                'chr_18_p11_deletion': 24,\n",
    "                'chr_18_q10_isochromosome': 25,\n",
    "                'chr_9_inversion': 26,\n",
    "                'chr_5_p14_deletion': 27,\n",
    "                'chr_x_isochromosome': 28,\n",
    "                'chr_x_p22_cnv': 29, \n",
    "                'chr_x_q21_cnv': 30,\n",
    "                'chr_x_q22_deletion': 31\n",
    "                }"
   ]
  },
  {
   "cell_type": "code",
   "execution_count": null,
   "metadata": {
    "colab": {},
    "colab_type": "code",
    "id": "O0al7Wh5E7ny"
   },
   "outputs": [],
   "source": [
    "number_label = [1, 2, 3, 4, 5, 6, 7, 8, 9, 10, 11, 12, 13, 14, 15, 16, 17, 18, 19, 20, 21, 22, 0, 23, 24, 25, 26, 27, 28, 29,30, 31]\n",
    "text_label = ['chr_01', \n",
    "               'chr_02', \n",
    "               'chr_03', \n",
    "               'chr_04', \n",
    "               'chr_05', \n",
    "               'chr_06', \n",
    "               'chr_07', \n",
    "               'chr_08', \n",
    "               'chr_09', \n",
    "               'chr_10', \n",
    "               'chr_11', \n",
    "               'chr_12', \n",
    "               'chr_13', \n",
    "               'chr_14', \n",
    "               'chr_15', \n",
    "               'chr_16', \n",
    "               'chr_17', \n",
    "               'chr_18', \n",
    "               'chr_19', \n",
    "               'chr_20', \n",
    "               'chr_21', \n",
    "               'chr_22', \n",
    "               'chr_x', \n",
    "               'chr_y', \n",
    "                'chr_18_p11_deletion',\n",
    "                'chr_18_q10_isochromosome',\n",
    "                'chr_9_inversion',\n",
    "                'chr_5_p14_deletion',\n",
    "                'chr_x_isochromosome',\n",
    "                'chr_x_p22_cnv', \n",
    "                'chr_x_q21_cnv',\n",
    "                'chr_x_q22_deletion']"
   ]
  },
  {
   "cell_type": "code",
   "execution_count": null,
   "metadata": {
    "colab": {},
    "colab_type": "code",
    "id": "iO3NeNTzDYDs"
   },
   "outputs": [],
   "source": [
    "predicted_text_label = []\n",
    "for item in text_label:\n",
    "  predicted_text_label.append('predicted ' + item)"
   ]
  },
  {
   "cell_type": "code",
   "execution_count": null,
   "metadata": {
    "colab": {},
    "colab_type": "code",
    "id": "nzASGN6ghM9Q",
    "scrolled": false
   },
   "outputs": [],
   "source": [
    "cm = np.array(confusion_matrix(y_test, y_predict_filtered, labels=number_label))\n",
    "confusion = pd.DataFrame(cm, index=text_label,\n",
    "                        columns=predicted_text_label)\n",
    "confusion.to_csv('ConfusionMatrix_KaryoType_CNN.csv')\n",
    "confusion"
   ]
  },
  {
   "cell_type": "code",
   "execution_count": null,
   "metadata": {
    "colab": {},
    "colab_type": "code",
    "id": "s12C84CQhM9S",
    "scrolled": true
   },
   "outputs": [],
   "source": [
    "print(classification_report(y_test, y_predict_filtered, target_names=text_label))"
   ]
  },
  {
   "cell_type": "code",
   "execution_count": null,
   "metadata": {
    "colab": {},
    "colab_type": "code",
    "id": "VhhYYap56eUl"
   },
   "outputs": [],
   "source": [
    "plt.figure(figsize=(30, 24))\n",
    "heat_map = sb.heatmap(confusion, annot=True, \n",
    "                      cmap='coolwarm', \n",
    "                      xticklabels=confusion.columns, yticklabels=confusion.index, \n",
    "                      linewidths=.5, \n",
    "                      annot_kws={\"size\": 22})\n",
    "sb.set(font_scale = 2)"
   ]
  },
  {
   "cell_type": "markdown",
   "metadata": {
    "colab_type": "text",
    "id": "B4J3frv1hM9U"
   },
   "source": [
    "## Frequencies"
   ]
  },
  {
   "cell_type": "code",
   "execution_count": null,
   "metadata": {
    "colab": {},
    "colab_type": "code",
    "id": "s325edBaMKCp"
   },
   "outputs": [],
   "source": [
    "len(y_train)"
   ]
  },
  {
   "cell_type": "code",
   "execution_count": null,
   "metadata": {
    "colab": {},
    "colab_type": "code",
    "id": "m0UErwvSEGbz"
   },
   "outputs": [],
   "source": [
    "import pandas"
   ]
  },
  {
   "cell_type": "code",
   "execution_count": null,
   "metadata": {
    "colab": {},
    "colab_type": "code",
    "id": "ka_zzN86EI_T"
   },
   "outputs": [],
   "source": [
    "pd.Series(y_train).value_counts()"
   ]
  },
  {
   "cell_type": "code",
   "execution_count": null,
   "metadata": {
    "colab": {},
    "colab_type": "code",
    "id": "-LB8bAc0Ea3o"
   },
   "outputs": [],
   "source": [
    "chromConvertReverse = {}\n",
    "for i in range(32):\n",
    "  chromConvertReverse[number_label[i]] = text_label[i]\n"
   ]
  },
  {
   "cell_type": "code",
   "execution_count": null,
   "metadata": {
    "colab": {},
    "colab_type": "code",
    "id": "ZnX0I_NjF1Hc"
   },
   "outputs": [],
   "source": [
    "y_train_text = []\n",
    "\n",
    "for item in y_train:\n",
    "  y_train_text.append(chromConvertReverse[item])\n",
    "\n",
    "len(y_train_text)"
   ]
  },
  {
   "cell_type": "code",
   "execution_count": null,
   "metadata": {
    "colab": {},
    "colab_type": "code",
    "id": "psmZ9E0gGK22"
   },
   "outputs": [],
   "source": [
    "frequency = pd.Series(y_train_text).value_counts()"
   ]
  },
  {
   "cell_type": "code",
   "execution_count": null,
   "metadata": {
    "colab": {},
    "colab_type": "code",
    "id": "NHtAboTbGXS2"
   },
   "outputs": [],
   "source": [
    "frequency"
   ]
  },
  {
   "cell_type": "code",
   "execution_count": null,
   "metadata": {
    "colab": {},
    "colab_type": "code",
    "id": "Wwm4f6szGZSO"
   },
   "outputs": [],
   "source": [
    "y_test_text = []\n",
    "\n",
    "for item in y_test:\n",
    "  y_test_text.append(chromConvertReverse[item])\n",
    "\n",
    "len(y_test_text)"
   ]
  },
  {
   "cell_type": "code",
   "execution_count": null,
   "metadata": {
    "colab": {},
    "colab_type": "code",
    "id": "M0KGYXFhHqIe"
   },
   "outputs": [],
   "source": [
    "frequency_test = pd.Series(y_test_text).value_counts()\n",
    "frequency_test"
   ]
  },
  {
   "cell_type": "code",
   "execution_count": null,
   "metadata": {
    "colab": {},
    "colab_type": "code",
    "id": "2PPd_fKQHyGW"
   },
   "outputs": [],
   "source": []
  }
 ],
 "metadata": {
  "accelerator": "GPU",
  "anaconda-cloud": {},
  "celltoolbar": "Slideshow",
  "colab": {
   "collapsed_sections": [
    "zKWSId2nhM83"
   ],
   "name": "KaryoChimneyRock_Abnormal_CNN_Canonical_888.ipynb",
   "provenance": []
  },
  "kernelspec": {
   "display_name": "Python 3",
   "language": "python",
   "name": "python3"
  },
  "language_info": {
   "codemirror_mode": {
    "name": "ipython",
    "version": 3
   },
   "file_extension": ".py",
   "mimetype": "text/x-python",
   "name": "python",
   "nbconvert_exporter": "python",
   "pygments_lexer": "ipython3",
   "version": "3.7.3"
  }
 },
 "nbformat": 4,
 "nbformat_minor": 1
}
