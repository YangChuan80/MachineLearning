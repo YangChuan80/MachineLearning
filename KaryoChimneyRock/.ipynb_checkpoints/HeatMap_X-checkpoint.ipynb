{
 "cells": [
  {
   "cell_type": "code",
   "execution_count": 1,
   "metadata": {},
   "outputs": [],
   "source": [
    "import xlrd\n",
    "import pandas as pd\n",
    "import numpy as np\n",
    "import sys\n",
    "import seaborn as sb\n",
    "import matplotlib.pyplot as plt"
   ]
  },
  {
   "cell_type": "code",
   "execution_count": 3,
   "metadata": {},
   "outputs": [
    {
     "name": "stdout",
     "output_type": "stream",
     "text": [
      "Source file: I:\\Chuan\\Documents\\GitHub\\MachineLearning\\KaryoChimneyRockConfusionMatrix_X.xlsx loaded!\n",
      "Data Extracted!\n"
     ]
    }
   ],
   "source": [
    "#////////////////MAIN///////////////////////////////////////////////\n",
    "\n",
    "#Import File\n",
    "filename='ConfusionMatrix_X.xlsx'\n",
    "book=xlrd.open_workbook(filename)\n",
    "print('Source file: '+sys.path[0]+filename+' loaded!')\n",
    "\n",
    "#Extraction\n",
    "nsheets=book.nsheets\n",
    "\n",
    "sheet_names=book.sheet_names()\n",
    "sheets={}\n",
    "\n",
    "for sheet_name in sheet_names:    \n",
    "    nrows = book.sheet_by_name(sheet_name).nrows\n",
    "    current_header = book.sheet_by_name(sheet_name).row_values(0) \n",
    "    row_names = book.sheet_by_name(sheet_name).col_values(0)\n",
    "    current_data = [book.sheet_by_name(sheet_name).row_values(i) for i in range(1, nrows)]\n",
    "    sheets[sheet_name]=pd.DataFrame(current_data, index=row_names[1:], columns=current_header)   #DataFrame Construction\n",
    "#Feedback\n",
    "print('Data Extracted!')"
   ]
  },
  {
   "cell_type": "code",
   "execution_count": 5,
   "metadata": {},
   "outputs": [
    {
     "data": {
      "text/html": [
       "<div>\n",
       "<style scoped>\n",
       "    .dataframe tbody tr th:only-of-type {\n",
       "        vertical-align: middle;\n",
       "    }\n",
       "\n",
       "    .dataframe tbody tr th {\n",
       "        vertical-align: top;\n",
       "    }\n",
       "\n",
       "    .dataframe thead th {\n",
       "        text-align: right;\n",
       "    }\n",
       "</style>\n",
       "<table border=\"1\" class=\"dataframe\">\n",
       "  <thead>\n",
       "    <tr style=\"text-align: right;\">\n",
       "      <th></th>\n",
       "      <th>Predictive chr_x</th>\n",
       "      <th>Predictive chr_x_isochromosome</th>\n",
       "      <th>Predictive chr_x_p22_cnv</th>\n",
       "      <th>Predictive chr_x_q21_cnv</th>\n",
       "      <th>Predictive chr_x_q22_deletion</th>\n",
       "    </tr>\n",
       "  </thead>\n",
       "  <tbody>\n",
       "    <tr>\n",
       "      <th>chr_x</th>\n",
       "      <td>7.0</td>\n",
       "      <td>1.0</td>\n",
       "      <td>1.0</td>\n",
       "      <td>0.0</td>\n",
       "      <td>1.0</td>\n",
       "    </tr>\n",
       "    <tr>\n",
       "      <th>chr_x_isochromosome</th>\n",
       "      <td>1.0</td>\n",
       "      <td>9.0</td>\n",
       "      <td>0.0</td>\n",
       "      <td>0.0</td>\n",
       "      <td>0.0</td>\n",
       "    </tr>\n",
       "    <tr>\n",
       "      <th>chr_x_p22_cnv</th>\n",
       "      <td>2.0</td>\n",
       "      <td>0.0</td>\n",
       "      <td>5.0</td>\n",
       "      <td>0.0</td>\n",
       "      <td>0.0</td>\n",
       "    </tr>\n",
       "    <tr>\n",
       "      <th>chr_x_q21_cnv</th>\n",
       "      <td>0.0</td>\n",
       "      <td>1.0</td>\n",
       "      <td>0.0</td>\n",
       "      <td>9.0</td>\n",
       "      <td>0.0</td>\n",
       "    </tr>\n",
       "    <tr>\n",
       "      <th>chr_x_q22_deletion</th>\n",
       "      <td>2.0</td>\n",
       "      <td>1.0</td>\n",
       "      <td>1.0</td>\n",
       "      <td>0.0</td>\n",
       "      <td>6.0</td>\n",
       "    </tr>\n",
       "  </tbody>\n",
       "</table>\n",
       "</div>"
      ],
      "text/plain": [
       "                     Predictive chr_x  Predictive chr_x_isochromosome  \\\n",
       "chr_x                             7.0                             1.0   \n",
       "chr_x_isochromosome               1.0                             9.0   \n",
       "chr_x_p22_cnv                     2.0                             0.0   \n",
       "chr_x_q21_cnv                     0.0                             1.0   \n",
       "chr_x_q22_deletion                2.0                             1.0   \n",
       "\n",
       "                     Predictive chr_x_p22_cnv  Predictive chr_x_q21_cnv  \\\n",
       "chr_x                                     1.0                       0.0   \n",
       "chr_x_isochromosome                       0.0                       0.0   \n",
       "chr_x_p22_cnv                             5.0                       0.0   \n",
       "chr_x_q21_cnv                             0.0                       9.0   \n",
       "chr_x_q22_deletion                        1.0                       0.0   \n",
       "\n",
       "                     Predictive chr_x_q22_deletion  \n",
       "chr_x                                          1.0  \n",
       "chr_x_isochromosome                            0.0  \n",
       "chr_x_p22_cnv                                  0.0  \n",
       "chr_x_q21_cnv                                  0.0  \n",
       "chr_x_q22_deletion                             6.0  "
      ]
     },
     "execution_count": 5,
     "metadata": {},
     "output_type": "execute_result"
    }
   ],
   "source": [
    "sheets['ConfusionMatrix_X'].drop('', 1)"
   ]
  },
  {
   "cell_type": "code",
   "execution_count": 7,
   "metadata": {},
   "outputs": [],
   "source": [
    "df = sheets['ConfusionMatrix_X'].drop('', 1)"
   ]
  },
  {
   "cell_type": "code",
   "execution_count": 8,
   "metadata": {},
   "outputs": [
    {
     "data": {
      "text/plain": [
       "Predictive chr_x                  float64\n",
       "Predictive chr_x_isochromosome    float64\n",
       "Predictive chr_x_p22_cnv          float64\n",
       "Predictive chr_x_q21_cnv          float64\n",
       "Predictive chr_x_q22_deletion     float64\n",
       "dtype: object"
      ]
     },
     "execution_count": 8,
     "metadata": {},
     "output_type": "execute_result"
    }
   ],
   "source": [
    "df.dtypes"
   ]
  },
  {
   "cell_type": "code",
   "execution_count": 9,
   "metadata": {},
   "outputs": [],
   "source": [
    "arr = np.array(df)"
   ]
  },
  {
   "cell_type": "code",
   "execution_count": 10,
   "metadata": {},
   "outputs": [
    {
     "data": {
      "text/plain": [
       "array([[7., 1., 1., 0., 1.],\n",
       "       [1., 9., 0., 0., 0.],\n",
       "       [2., 0., 5., 0., 0.],\n",
       "       [0., 1., 0., 9., 0.],\n",
       "       [2., 1., 1., 0., 6.]])"
      ]
     },
     "execution_count": 10,
     "metadata": {},
     "output_type": "execute_result"
    }
   ],
   "source": [
    "arr"
   ]
  },
  {
   "cell_type": "code",
   "execution_count": 14,
   "metadata": {},
   "outputs": [
    {
     "data": {
      "image/png": "[encoded data removed]",
      "text/plain": [
       "<Figure size 432x288 with 2 Axes>"
      ]
     },
     "metadata": {
      "needs_background": "light"
     },
     "output_type": "display_data"
    }
   ],
   "source": [
    "#plt.figure(figsize=(16,12))\n",
    "heat_map = sb.heatmap(arr, annot=True, \n",
    "                      cmap='coolwarm', \n",
    "                      xticklabels=current_header[1:], yticklabels=row_names[1:], \n",
    "                      linewidths=.5, \n",
    "                      annot_kws={\"size\": 12})"
   ]
  },
  {
   "cell_type": "code",
   "execution_count": 15,
   "metadata": {},
   "outputs": [],
   "source": [
    "heat_map.figure.savefig(\"Abnormal_X.png\", dpi=400)"
   ]
  }
 ],
 "metadata": {
  "kernelspec": {
   "display_name": "Python 3",
   "language": "python",
   "name": "python3"
  },
  "language_info": {
   "codemirror_mode": {
    "name": "ipython",
    "version": 3
   },
   "file_extension": ".py",
   "mimetype": "text/x-python",
   "name": "python",
   "nbconvert_exporter": "python",
   "pygments_lexer": "ipython3",
   "version": "3.7.3"
  }
 },
 "nbformat": 4,
 "nbformat_minor": 2
}
