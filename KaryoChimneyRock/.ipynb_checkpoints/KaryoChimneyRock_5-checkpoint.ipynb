{
 "cells": [
  {
   "cell_type": "markdown",
   "metadata": {
    "slideshow": {
     "slide_type": "slide"
    }
   },
   "source": [
    "# A Semi-automatic Classification of Normal Karyotypes based on Support Vector Machine Algorithm"
   ]
  },
  {
   "cell_type": "markdown",
   "metadata": {
    "slideshow": {
     "slide_type": "-"
    }
   },
   "source": [
    "- **Chuan Yang**, MD, PhD Student\n",
    "- Mentor: **Yanyan Zhao**, MD, PhD\n",
    "- Shengjing Hospital of China Medical University"
   ]
  },
  {
   "cell_type": "markdown",
   "metadata": {
    "slideshow": {
     "slide_type": "slide"
    }
   },
   "source": [
    "## Modules"
   ]
  },
  {
   "cell_type": "code",
   "execution_count": 1,
   "metadata": {
    "slideshow": {
     "slide_type": "-"
    }
   },
   "outputs": [],
   "source": [
    "from PIL import Image\n",
    "import numpy as np\n",
    "import pandas as pd\n",
    "import matplotlib.pyplot as plt\n",
    "\n",
    "\n",
    "from sklearn import svm\n",
    "from sklearn.metrics import classification_report, confusion_matrix\n",
    "from sklearn.externals import joblib\n",
    "from os import walk\n",
    "\n",
    "import time\n",
    "\n",
    "%matplotlib inline"
   ]
  },
  {
   "cell_type": "markdown",
   "metadata": {
    "slideshow": {
     "slide_type": "slide"
    }
   },
   "source": [
    "## Samples\n",
    "### File Import"
   ]
  },
  {
   "cell_type": "code",
   "execution_count": 2,
   "metadata": {
    "slideshow": {
     "slide_type": "-"
    }
   },
   "outputs": [],
   "source": [
    "pathBase = 'C:\\\\Users\\\\Chuan\\\\OneDrive\\\\Dowrun\\\\Database\\\\PhD\\\\KaryoTypes\\\\Arrangement\\\\'\n",
    "theWhole = {}\n",
    "\n",
    " \n",
    "f = []\n",
    "f_05 = []\n",
    "mypath_05 = pathBase + 'chr_05'\n",
    "for (dirpath, dirnames, filenames) in walk(mypath_05):\n",
    "    f.extend(filenames)\n",
    "for l in f:\n",
    "    f_05.append(mypath_05 + '\\\\' + l)    \n",
    "   \n",
    "  \n",
    "# ///////// Abnormal ones //////////////\n",
    "\n",
    "f = []\n",
    "f_5_p14_deletion = []\n",
    "mypath_5_p14_deletion = pathBase + 'chr_5_p14_deletion'\n",
    "for (dirpath, dirnames, filenames) in walk(mypath_5_p14_deletion):\n",
    "    f.extend(filenames)\n",
    "for l in f:\n",
    "    f_5_p14_deletion.append(mypath_5_p14_deletion + '\\\\' + l)  \n",
    "    \n",
    "\n",
    "theWhole['chr_05'] = f_05\n",
    "\n",
    "theWhole['chr_5_p14_deletion'] = f_5_p14_deletion"
   ]
  },
  {
   "cell_type": "code",
   "execution_count": 3,
   "metadata": {
    "scrolled": true,
    "slideshow": {
     "slide_type": "slide"
    }
   },
   "outputs": [
    {
     "data": {
      "text/plain": [
       "['C:\\\\Users\\\\Chuan\\\\OneDrive\\\\Dowrun\\\\Database\\\\PhD\\\\KaryoTypes\\\\Arrangement\\\\chr_5_p14_deletion\\\\181558-10.jpg.5del.bmp',\n",
       " 'C:\\\\Users\\\\Chuan\\\\OneDrive\\\\Dowrun\\\\Database\\\\PhD\\\\KaryoTypes\\\\Arrangement\\\\chr_5_p14_deletion\\\\181558-11.jpg.5del.bmp',\n",
       " 'C:\\\\Users\\\\Chuan\\\\OneDrive\\\\Dowrun\\\\Database\\\\PhD\\\\KaryoTypes\\\\Arrangement\\\\chr_5_p14_deletion\\\\181558-14.jpg.5del.bmp',\n",
       " 'C:\\\\Users\\\\Chuan\\\\OneDrive\\\\Dowrun\\\\Database\\\\PhD\\\\KaryoTypes\\\\Arrangement\\\\chr_5_p14_deletion\\\\181558-2.jpg.5del.bmp',\n",
       " 'C:\\\\Users\\\\Chuan\\\\OneDrive\\\\Dowrun\\\\Database\\\\PhD\\\\KaryoTypes\\\\Arrangement\\\\chr_5_p14_deletion\\\\181558-4.jpg.5del.bmp',\n",
       " 'C:\\\\Users\\\\Chuan\\\\OneDrive\\\\Dowrun\\\\Database\\\\PhD\\\\KaryoTypes\\\\Arrangement\\\\chr_5_p14_deletion\\\\181558-5.jpg.5del.bmp',\n",
       " 'C:\\\\Users\\\\Chuan\\\\OneDrive\\\\Dowrun\\\\Database\\\\PhD\\\\KaryoTypes\\\\Arrangement\\\\chr_5_p14_deletion\\\\181558-6.jpg.5del.bmp',\n",
       " 'C:\\\\Users\\\\Chuan\\\\OneDrive\\\\Dowrun\\\\Database\\\\PhD\\\\KaryoTypes\\\\Arrangement\\\\chr_5_p14_deletion\\\\181558-7.jpg.5del.bmp',\n",
       " 'C:\\\\Users\\\\Chuan\\\\OneDrive\\\\Dowrun\\\\Database\\\\PhD\\\\KaryoTypes\\\\Arrangement\\\\chr_5_p14_deletion\\\\181558-8.jpg.5del.bmp',\n",
       " 'C:\\\\Users\\\\Chuan\\\\OneDrive\\\\Dowrun\\\\Database\\\\PhD\\\\KaryoTypes\\\\Arrangement\\\\chr_5_p14_deletion\\\\181558-9.jpg.5del.bmp']"
      ]
     },
     "execution_count": 3,
     "metadata": {},
     "output_type": "execute_result"
    }
   ],
   "source": [
    "theWhole['chr_5_p14_deletion']"
   ]
  },
  {
   "cell_type": "markdown",
   "metadata": {
    "slideshow": {
     "slide_type": "slide"
    }
   },
   "source": [
    "## Image Input"
   ]
  },
  {
   "cell_type": "code",
   "execution_count": 4,
   "metadata": {
    "scrolled": false,
    "slideshow": {
     "slide_type": "-"
    }
   },
   "outputs": [
    {
     "name": "stdout",
     "output_type": "stream",
     "text": [
      "1.1133270263671875\n"
     ]
    }
   ],
   "source": [
    "start = time.time()\n",
    "\n",
    "image = {}\n",
    "i = 0\n",
    "\n",
    "for chrNo in theWhole.keys():\n",
    "    image[chrNo] = []\n",
    "    for case in theWhole[chrNo]:\n",
    "        img = Image.open(case)\n",
    "        image[chrNo].append(img)\n",
    "    \n",
    "end = time.time()\n",
    "print(end - start)"
   ]
  },
  {
   "cell_type": "code",
   "execution_count": 5,
   "metadata": {
    "scrolled": true,
    "slideshow": {
     "slide_type": "slide"
    }
   },
   "outputs": [
    {
     "data": {
      "image/png": "[encoded data removed]",
      "text/plain": [
       "<PIL.BmpImagePlugin.BmpImageFile image mode=RGB size=300x300 at 0x1F8215C9780>"
      ]
     },
     "execution_count": 5,
     "metadata": {},
     "output_type": "execute_result"
    }
   ],
   "source": [
    "image['chr_5_p14_deletion'][1]"
   ]
  },
  {
   "cell_type": "markdown",
   "metadata": {
    "slideshow": {
     "slide_type": "slide"
    }
   },
   "source": [
    "## Functions"
   ]
  },
  {
   "cell_type": "code",
   "execution_count": 6,
   "metadata": {
    "slideshow": {
     "slide_type": "-"
    }
   },
   "outputs": [],
   "source": [
    "def extractData(image):\n",
    "    x = image.size[0]\n",
    "    y = image.size[1]\n",
    "    \n",
    "    matrix = []\n",
    "    rgb_matrix = []\n",
    "\n",
    "    for i in range(x):\n",
    "        matrix.append([])\n",
    "        rgb_matrix.append([])\n",
    "        \n",
    "        for j in range(y):\n",
    "            r, g, b = image.getpixel((j, i))            \n",
    "            value = r * 299.0/1000 + g * 587.0/1000 + b * 114.0/1000\n",
    "            value = int(value)\n",
    "            matrix[i].append(value)\n",
    "            rgb_matrix[i].append((r,g,b))\n",
    "    return matrix, rgb_matrix"
   ]
  },
  {
   "cell_type": "code",
   "execution_count": 7,
   "metadata": {
    "slideshow": {
     "slide_type": "-"
    }
   },
   "outputs": [],
   "source": [
    "def imageReconstruct(matrix):\n",
    "    df = np.array(matrix, dtype=np.uint8)\n",
    "    img = Image.fromarray(df, 'RGB')\n",
    "    img.save('image.png')\n",
    "    return img"
   ]
  },
  {
   "cell_type": "markdown",
   "metadata": {
    "slideshow": {
     "slide_type": "slide"
    }
   },
   "source": [
    "## Data Extraction from Images"
   ]
  },
  {
   "cell_type": "code",
   "execution_count": 8,
   "metadata": {
    "slideshow": {
     "slide_type": "-"
    }
   },
   "outputs": [
    {
     "name": "stdout",
     "output_type": "stream",
     "text": [
      "14.718247652053833\n"
     ]
    }
   ],
   "source": [
    "start = time.time()\n",
    "\n",
    "data = {}\n",
    "rgb_data = {}\n",
    "\n",
    "for chrNo in image.keys():\n",
    "    data[chrNo] = []; rgb_data[chrNo] = []\n",
    "    for case in image[chrNo]:\n",
    "        grey, rgb = extractData(case)\n",
    "        data[chrNo].append(grey)\n",
    "        rgb_data[chrNo].append(rgb)\n",
    "        \n",
    "end = time.time()\n",
    "print(end - start)"
   ]
  },
  {
   "cell_type": "code",
   "execution_count": 9,
   "metadata": {
    "slideshow": {
     "slide_type": "slide"
    }
   },
   "outputs": [],
   "source": [
    "imageMatrix = np.array(rgb_data['chr_5_p14_deletion'][1])"
   ]
  },
  {
   "cell_type": "code",
   "execution_count": 10,
   "metadata": {
    "slideshow": {
     "slide_type": "-"
    }
   },
   "outputs": [
    {
     "data": {
      "image/png": "[encoded data removed]",
      "text/plain": [
       "<PIL.Image.Image image mode=RGB size=300x300 at 0x1F8215219B0>"
      ]
     },
     "execution_count": 10,
     "metadata": {},
     "output_type": "execute_result"
    }
   ],
   "source": [
    "img = imageReconstruct(imageMatrix)\n",
    "img"
   ]
  },
  {
   "cell_type": "markdown",
   "metadata": {
    "slideshow": {
     "slide_type": "slide"
    }
   },
   "source": [
    "## Flat Transformation from 2D to 1D"
   ]
  },
  {
   "cell_type": "code",
   "execution_count": 11,
   "metadata": {
    "slideshow": {
     "slide_type": "-"
    }
   },
   "outputs": [],
   "source": [
    "data_flat = {}\n",
    "\n",
    "for chrNo in data.keys():\n",
    "    data_flat[chrNo] = []\n",
    "    for case in data[chrNo]:\n",
    "        case_flat = []\n",
    "        for row in case:\n",
    "            for column in row:\n",
    "                case_flat.append(column)            \n",
    "        data_flat[chrNo].append(case_flat)"
   ]
  },
  {
   "cell_type": "markdown",
   "metadata": {
    "slideshow": {
     "slide_type": "slide"
    }
   },
   "source": [
    "## Support Vector Classification"
   ]
  },
  {
   "cell_type": "code",
   "execution_count": 12,
   "metadata": {
    "slideshow": {
     "slide_type": "-"
    }
   },
   "outputs": [],
   "source": [
    "x_train_list = []\n",
    "y_train_list = []\n",
    "\n",
    "for y, x in data_flat.items():    \n",
    "    for x_item in x:\n",
    "        x_train_list.append(x_item)\n",
    "        y_train_list.append(y)"
   ]
  },
  {
   "cell_type": "markdown",
   "metadata": {
    "slideshow": {
     "slide_type": "slide"
    }
   },
   "source": [
    "### Training"
   ]
  },
  {
   "cell_type": "code",
   "execution_count": 13,
   "metadata": {
    "scrolled": true,
    "slideshow": {
     "slide_type": "-"
    }
   },
   "outputs": [],
   "source": [
    "start = time.time()\n",
    "\n",
    "X_train = np.array(x_train_list)\n",
    "y_train = np.array(y_train_list)\n",
    "\n",
    "clf = svm.SVC(kernel='linear', decision_function_shape='ovo')\n",
    "clf.fit(X_train, y_train)\n",
    "\n",
    "end = time.time()"
   ]
  },
  {
   "cell_type": "code",
   "execution_count": 14,
   "metadata": {},
   "outputs": [
    {
     "name": "stdout",
     "output_type": "stream",
     "text": [
      "0.9450347423553467\n"
     ]
    }
   ],
   "source": [
    "print(end - start)"
   ]
  },
  {
   "cell_type": "markdown",
   "metadata": {
    "slideshow": {
     "slide_type": "slide"
    }
   },
   "source": [
    "### Prediction"
   ]
  },
  {
   "cell_type": "code",
   "execution_count": 15,
   "metadata": {
    "scrolled": false,
    "slideshow": {
     "slide_type": "-"
    }
   },
   "outputs": [
    {
     "name": "stdout",
     "output_type": "stream",
     "text": [
      "w =  [[0.00000000e+00 0.00000000e+00 0.00000000e+00 ... 0.00000000e+00\n",
      "  2.37169225e-20 2.37169225e-20]]\n",
      "b =  [-2.6265681]\n",
      "Indices of support vectors =  [ 0  2  6  7  8 12 13 14 16 17 18 26 28 35 36 41 44 47 50 52 63 67 70 73\n",
      " 79 80 81 82 83 84 85 86 87 88]\n",
      "Support vectors =  [[255. 255. 255. ... 255. 255. 255.]\n",
      " [255. 255. 255. ... 255. 255. 255.]\n",
      " [255. 255. 255. ... 255. 255. 255.]\n",
      " ...\n",
      " [255. 255. 255. ... 255. 255. 255.]\n",
      " [255. 255. 255. ... 255. 255. 255.]\n",
      " [255. 255. 255. ... 255. 255. 255.]]\n",
      "Number of support vectors for each class =  [24 10]\n",
      "Coefficients of the support vector in the decision function =  [[1.52403125e-08 1.49014963e-08 4.67830972e-08 2.31092994e-08\n",
      "  3.44578896e-08 2.90692919e-08 5.55678696e-08 9.60241616e-09\n",
      "  3.46587395e-08 3.12040517e-08 1.56850204e-08 3.83823777e-08\n",
      "  4.65741534e-09 1.88608805e-08 2.53259558e-08 1.89748678e-09\n",
      "  1.17225502e-08 1.86904608e-09 7.35236288e-09 3.50586951e-08\n",
      "  2.12748002e-08 1.97474170e-08 4.57074217e-10 2.97854621e-08\n",
      "  5.68819049e-08 1.86881195e-09 2.64738521e-08 1.44007917e-08\n",
      "  8.65338360e-08 3.71152630e-08 5.40133014e-08 6.15911627e-08\n",
      "  8.95084253e-08 9.82836591e-08]]\n"
     ]
    }
   ],
   "source": [
    "print('w = ',clf.coef_)\n",
    "print('b = ',clf.intercept_)\n",
    "print('Indices of support vectors = ', clf.support_)\n",
    "print('Support vectors = ', clf.support_vectors_)\n",
    "print('Number of support vectors for each class = ', clf.n_support_)\n",
    "print('Coefficients of the support vector in the decision function = ', np.abs(clf.dual_coef_))"
   ]
  },
  {
   "cell_type": "code",
   "execution_count": 16,
   "metadata": {
    "slideshow": {
     "slide_type": "slide"
    }
   },
   "outputs": [],
   "source": [
    "pathBase = 'C:\\\\Users\\\\Chuan\\\\OneDrive\\\\Dowrun\\\\Database\\\\PhD\\\\KaryoTypes\\\\Arrangement\\\\test\\\\'\n",
    "theWhole = {}\n",
    "\n",
    "f = []\n",
    "f_05 = []\n",
    "mypath_05 = pathBase + 'chr_05'\n",
    "for (dirpath, dirnames, filenames) in walk(mypath_05):\n",
    "    f.extend(filenames)\n",
    "for l in f:\n",
    "    f_05.append(mypath_05 + '\\\\' + l)    \n",
    "   \n",
    "  \n",
    "# ///////// Abnormal ones //////////////\n",
    "\n",
    "f = []\n",
    "f_5_p14_deletion = []\n",
    "mypath_5_p14_deletion = pathBase + 'chr_5_p14_deletion'\n",
    "for (dirpath, dirnames, filenames) in walk(mypath_5_p14_deletion):\n",
    "    f.extend(filenames)\n",
    "for l in f:\n",
    "    f_5_p14_deletion.append(mypath_5_p14_deletion + '\\\\' + l)  \n",
    "    \n",
    "\n",
    "theWhole['chr_05'] = f_05\n",
    "\n",
    "theWhole['chr_5_p14_deletion'] = f_5_p14_deletion"
   ]
  },
  {
   "cell_type": "code",
   "execution_count": 17,
   "metadata": {
    "slideshow": {
     "slide_type": "slide"
    }
   },
   "outputs": [
    {
     "name": "stdout",
     "output_type": "stream",
     "text": [
      "0.019922733306884766\n"
     ]
    }
   ],
   "source": [
    "start = time.time()\n",
    "\n",
    "image = {}\n",
    "i = 0\n",
    "\n",
    "for chrNo in theWhole.keys():\n",
    "    image[chrNo] = []\n",
    "    for case in theWhole[chrNo]:\n",
    "        img = Image.open(case)\n",
    "        image[chrNo].append(img)\n",
    "    \n",
    "end = time.time()\n",
    "print(end - start)"
   ]
  },
  {
   "cell_type": "markdown",
   "metadata": {
    "slideshow": {
     "slide_type": "slide"
    }
   },
   "source": [
    "### Data Extraction"
   ]
  },
  {
   "cell_type": "code",
   "execution_count": 18,
   "metadata": {
    "slideshow": {
     "slide_type": "-"
    }
   },
   "outputs": [
    {
     "name": "stdout",
     "output_type": "stream",
     "text": [
      "3.32417893409729\n"
     ]
    }
   ],
   "source": [
    "start = time.time()\n",
    "\n",
    "data = {}\n",
    "rgb_data = {}\n",
    "\n",
    "for chrNo in image.keys():\n",
    "    data[chrNo] = []; rgb_data[chrNo] = []\n",
    "    for case in image[chrNo]:\n",
    "        grey, rgb = extractData(case)\n",
    "        data[chrNo].append(grey)\n",
    "        rgb_data[chrNo].append(rgb)\n",
    "        \n",
    "end = time.time()\n",
    "print(end - start)"
   ]
  },
  {
   "cell_type": "markdown",
   "metadata": {
    "slideshow": {
     "slide_type": "slide"
    }
   },
   "source": [
    "### 2D to 1D"
   ]
  },
  {
   "cell_type": "code",
   "execution_count": 19,
   "metadata": {
    "slideshow": {
     "slide_type": "-"
    }
   },
   "outputs": [],
   "source": [
    "data_flat = {}\n",
    "\n",
    "for chrNo in data.keys():\n",
    "    data_flat[chrNo] = []\n",
    "    for case in data[chrNo]:\n",
    "        case_flat = []\n",
    "        for row in case:\n",
    "            for column in row:\n",
    "                case_flat.append(column)            \n",
    "        data_flat[chrNo].append(case_flat)"
   ]
  },
  {
   "cell_type": "code",
   "execution_count": 20,
   "metadata": {
    "slideshow": {
     "slide_type": "-"
    }
   },
   "outputs": [],
   "source": [
    "x_test_list = []\n",
    "y_test_list = []\n",
    "\n",
    "for y, x in data_flat.items():    \n",
    "    for x_item in x:\n",
    "        x_test_list.append(x_item)\n",
    "        y_test_list.append(y)"
   ]
  },
  {
   "cell_type": "code",
   "execution_count": 21,
   "metadata": {
    "slideshow": {
     "slide_type": "slide"
    }
   },
   "outputs": [],
   "source": [
    "X_test = np.array(x_test_list)\n",
    "y_test = np.array(y_test_list)"
   ]
  },
  {
   "cell_type": "markdown",
   "metadata": {
    "slideshow": {
     "slide_type": "slide"
    }
   },
   "source": [
    "## Performance Measures"
   ]
  },
  {
   "cell_type": "code",
   "execution_count": 22,
   "metadata": {
    "slideshow": {
     "slide_type": "-"
    }
   },
   "outputs": [],
   "source": [
    "y_predict = clf.predict(X_test)\n",
    "y_test = y_test"
   ]
  },
  {
   "cell_type": "code",
   "execution_count": 23,
   "metadata": {
    "scrolled": false,
    "slideshow": {
     "slide_type": "slide"
    }
   },
   "outputs": [
    {
     "data": {
      "text/plain": [
       "array(['chr_05', 'chr_05', 'chr_05', 'chr_05', 'chr_05', 'chr_05',\n",
       "       'chr_05', 'chr_05', 'chr_05', 'chr_05', 'chr_5_p14_deletion',\n",
       "       'chr_5_p14_deletion', 'chr_5_p14_deletion', 'chr_5_p14_deletion',\n",
       "       'chr_05', 'chr_5_p14_deletion', 'chr_5_p14_deletion',\n",
       "       'chr_5_p14_deletion', 'chr_05'], dtype='<U18')"
      ]
     },
     "execution_count": 23,
     "metadata": {},
     "output_type": "execute_result"
    }
   ],
   "source": [
    "y_predict"
   ]
  },
  {
   "cell_type": "code",
   "execution_count": 24,
   "metadata": {
    "slideshow": {
     "slide_type": "slide"
    }
   },
   "outputs": [
    {
     "data": {
      "text/plain": [
       "array(['chr_05', 'chr_05', 'chr_05', 'chr_05', 'chr_05', 'chr_05',\n",
       "       'chr_05', 'chr_05', 'chr_05', 'chr_05', 'chr_5_p14_deletion',\n",
       "       'chr_5_p14_deletion', 'chr_5_p14_deletion', 'chr_5_p14_deletion',\n",
       "       'chr_5_p14_deletion', 'chr_5_p14_deletion', 'chr_5_p14_deletion',\n",
       "       'chr_5_p14_deletion', 'chr_5_p14_deletion'], dtype='<U18')"
      ]
     },
     "execution_count": 24,
     "metadata": {},
     "output_type": "execute_result"
    }
   ],
   "source": [
    "y_test"
   ]
  },
  {
   "cell_type": "markdown",
   "metadata": {
    "slideshow": {
     "slide_type": "slide"
    }
   },
   "source": [
    "### Confusion Matrix (混淆矩阵)"
   ]
  },
  {
   "cell_type": "code",
   "execution_count": 25,
   "metadata": {
    "scrolled": false,
    "slideshow": {
     "slide_type": "-"
    }
   },
   "outputs": [
    {
     "data": {
      "text/html": [
       "<div>\n",
       "<style scoped>\n",
       "    .dataframe tbody tr th:only-of-type {\n",
       "        vertical-align: middle;\n",
       "    }\n",
       "\n",
       "    .dataframe tbody tr th {\n",
       "        vertical-align: top;\n",
       "    }\n",
       "\n",
       "    .dataframe thead th {\n",
       "        text-align: right;\n",
       "    }\n",
       "</style>\n",
       "<table border=\"1\" class=\"dataframe\">\n",
       "  <thead>\n",
       "    <tr style=\"text-align: right;\">\n",
       "      <th></th>\n",
       "      <th>Predictive chr_05</th>\n",
       "      <th>Predictive chr_5_p14_deletion</th>\n",
       "    </tr>\n",
       "  </thead>\n",
       "  <tbody>\n",
       "    <tr>\n",
       "      <th>chr_05</th>\n",
       "      <td>10</td>\n",
       "      <td>0</td>\n",
       "    </tr>\n",
       "    <tr>\n",
       "      <th>chr_5_p14_deletion</th>\n",
       "      <td>2</td>\n",
       "      <td>7</td>\n",
       "    </tr>\n",
       "  </tbody>\n",
       "</table>\n",
       "</div>"
      ],
      "text/plain": [
       "                    Predictive chr_05  Predictive chr_5_p14_deletion\n",
       "chr_05                             10                              0\n",
       "chr_5_p14_deletion                  2                              7"
      ]
     },
     "execution_count": 25,
     "metadata": {},
     "output_type": "execute_result"
    }
   ],
   "source": [
    "cm = np.array(confusion_matrix(y_test, y_predict, labels=['chr_05', 'chr_5_p14_deletion']))\n",
    "confusion = pd.DataFrame(cm, index=['chr_05', 'chr_5_p14_deletion'],\n",
    "                        columns=['Predictive chr_05', \n",
    "                                'Predictive chr_5_p14_deletion'],)\n",
    "confusion.to_csv('ConfusionMatrix_5.csv')\n",
    "confusion"
   ]
  },
  {
   "cell_type": "code",
   "execution_count": 26,
   "metadata": {
    "slideshow": {
     "slide_type": "slide"
    }
   },
   "outputs": [
    {
     "name": "stdout",
     "output_type": "stream",
     "text": [
      "                    precision    recall  f1-score   support\n",
      "\n",
      "            chr_05       0.83      1.00      0.91        10\n",
      "chr_5_p14_deletion       1.00      0.78      0.88         9\n",
      "\n",
      "         micro avg       0.89      0.89      0.89        19\n",
      "         macro avg       0.92      0.89      0.89        19\n",
      "      weighted avg       0.91      0.89      0.89        19\n",
      "\n"
     ]
    }
   ],
   "source": [
    "print(classification_report(y_test, y_predict))"
   ]
  },
  {
   "cell_type": "markdown",
   "metadata": {
    "slideshow": {
     "slide_type": "slide"
    }
   },
   "source": [
    "## Save the Model"
   ]
  },
  {
   "cell_type": "code",
   "execution_count": 27,
   "metadata": {
    "slideshow": {
     "slide_type": "-"
    }
   },
   "outputs": [
    {
     "name": "stdout",
     "output_type": "stream",
     "text": [
      "['trained_model_5.m']\n"
     ]
    }
   ],
   "source": [
    "c = joblib.dump(clf, 'trained_model_5.m')\n",
    "print(c)"
   ]
  },
  {
   "cell_type": "markdown",
   "metadata": {
    "slideshow": {
     "slide_type": "slide"
    }
   },
   "source": [
    "## Load the Model"
   ]
  },
  {
   "cell_type": "code",
   "execution_count": 28,
   "metadata": {
    "slideshow": {
     "slide_type": "-"
    }
   },
   "outputs": [
    {
     "name": "stdout",
     "output_type": "stream",
     "text": [
      "SVC(C=1.0, cache_size=200, class_weight=None, coef0=0.0,\n",
      "  decision_function_shape='ovo', degree=3, gamma='auto_deprecated',\n",
      "  kernel='linear', max_iter=-1, probability=False, random_state=None,\n",
      "  shrinking=True, tol=0.001, verbose=False)\n"
     ]
    }
   ],
   "source": [
    "d = joblib.load('trained_model_5.m')\n",
    "print(d)"
   ]
  },
  {
   "cell_type": "code",
   "execution_count": null,
   "metadata": {},
   "outputs": [],
   "source": []
  }
 ],
 "metadata": {
  "anaconda-cloud": {},
  "celltoolbar": "Slideshow",
  "kernelspec": {
   "display_name": "Python 3",
   "language": "python",
   "name": "python3"
  },
  "language_info": {
   "codemirror_mode": {
    "name": "ipython",
    "version": 3
   },
   "file_extension": ".py",
   "mimetype": "text/x-python",
   "name": "python",
   "nbconvert_exporter": "python",
   "pygments_lexer": "ipython3",
   "version": "3.7.3"
  }
 },
 "nbformat": 4,
 "nbformat_minor": 2
}
