{
 "cells": [
  {
   "cell_type": "code",
   "execution_count": 1,
   "metadata": {},
   "outputs": [],
   "source": [
    "from PIL import Image\n",
    "import numpy as np\n",
    "import pandas as pd\n",
    "import matplotlib.pyplot as plt\n",
    "\n",
    "\n",
    "from sklearn import svm\n",
    "from sklearn.metrics import classification_report, confusion_matrix\n",
    "import joblib\n",
    "from os import walk\n",
    "\n",
    "import time\n",
    "\n",
    "%matplotlib inline"
   ]
  },
  {
   "cell_type": "code",
   "execution_count": 2,
   "metadata": {},
   "outputs": [],
   "source": [
    "pathBase = 'E://Chuan//Documents//Database//DICOM//NormalCAG//Arrangement_left_right//'\n",
    "theWhole = {}\n",
    "\n",
    "f = []\n",
    "f_LCA = []\n",
    "mypath_LCA = pathBase + 'LCA'\n",
    "for (dirpath, dirnames, filenames) in walk(mypath_LCA):\n",
    "    f.extend(filenames)\n",
    "for l in f:\n",
    "    f_LCA.append(mypath_LCA + '\\\\' + l) \n",
    "    \n",
    "\n",
    "f = []\n",
    "f_RCA = []\n",
    "mypath_RCA = pathBase + 'RCA'\n",
    "for (dirpath, dirnames, filenames) in walk(mypath_RCA):\n",
    "    f.extend(filenames)\n",
    "for l in f:\n",
    "    f_RCA.append(mypath_RCA + '\\\\' + l) \n",
    "\n",
    "\n",
    "theWhole['LCA'] = f_LCA\n",
    "theWhole['RCA'] = f_RCA        "
   ]
  },
  {
   "cell_type": "code",
   "execution_count": 3,
   "metadata": {},
   "outputs": [
    {
     "data": {
      "text/plain": [
       "['E://Chuan//Documents//Database//DICOM//NormalCAG//Arrangement_left_right//LCA\\\\082257329B3A4223B258DCBAB5C11DEA.dcm_average.npy',\n",
       " 'E://Chuan//Documents//Database//DICOM//NormalCAG//Arrangement_left_right//LCA\\\\08A26689361D491D9B526E349CA9DC57.dcm_average.npy',\n",
       " 'E://Chuan//Documents//Database//DICOM//NormalCAG//Arrangement_left_right//LCA\\\\09CD6CE980124B0886C642C85E775A0E.dcm_average.npy',\n",
       " 'E://Chuan//Documents//Database//DICOM//NormalCAG//Arrangement_left_right//LCA\\\\1129ACAC7A2F45A78C8AFB36A38507D1.dcm_average.npy',\n",
       " 'E://Chuan//Documents//Database//DICOM//NormalCAG//Arrangement_left_right//LCA\\\\22097CF15C784652B6A662E6325D7189.dcm_average.npy',\n",
       " 'E://Chuan//Documents//Database//DICOM//NormalCAG//Arrangement_left_right//LCA\\\\2E4BD2E6D6044EE287127C56E9C0B9B1.dcm_average.npy',\n",
       " 'E://Chuan//Documents//Database//DICOM//NormalCAG//Arrangement_left_right//LCA\\\\378B8DB88B5845C5ABE11705C3080702.dcm_average.npy',\n",
       " 'E://Chuan//Documents//Database//DICOM//NormalCAG//Arrangement_left_right//LCA\\\\43A46D96456E44BFB8C47FCEED59FD77.dcm_average.npy',\n",
       " 'E://Chuan//Documents//Database//DICOM//NormalCAG//Arrangement_left_right//LCA\\\\4A58C602FE854F9D9C80500F9D1FCB7E.dcm_average.npy',\n",
       " 'E://Chuan//Documents//Database//DICOM//NormalCAG//Arrangement_left_right//LCA\\\\587CBA421E174F7BA01CB41AD13355B4.dcm_average.npy',\n",
       " 'E://Chuan//Documents//Database//DICOM//NormalCAG//Arrangement_left_right//LCA\\\\59B9D6F5BC5F47C2A59BE69AA0D7C49D.dcm_average.npy',\n",
       " 'E://Chuan//Documents//Database//DICOM//NormalCAG//Arrangement_left_right//LCA\\\\61FB7D74B10B490FAB1D1F98C1740F08.dcm_average.npy',\n",
       " 'E://Chuan//Documents//Database//DICOM//NormalCAG//Arrangement_left_right//LCA\\\\669031AD3BE943F2A7E85AD9F955D144.dcm_average.npy',\n",
       " 'E://Chuan//Documents//Database//DICOM//NormalCAG//Arrangement_left_right//LCA\\\\6967F45478904FB7B710CA45B1528BC1.dcm_average.npy',\n",
       " 'E://Chuan//Documents//Database//DICOM//NormalCAG//Arrangement_left_right//LCA\\\\70B4AACF2C9546F690D145865202A3BF.dcm_average.npy',\n",
       " 'E://Chuan//Documents//Database//DICOM//NormalCAG//Arrangement_left_right//LCA\\\\7871C5B9D2C74511BCDF7FA2FF38C2F9.dcm_average.npy',\n",
       " 'E://Chuan//Documents//Database//DICOM//NormalCAG//Arrangement_left_right//LCA\\\\7BD48A2B008946228025299A4344CFF5.dcm_average.npy',\n",
       " 'E://Chuan//Documents//Database//DICOM//NormalCAG//Arrangement_left_right//LCA\\\\80EF87A599D94C2787A68050DB83ED88.dcm_average.npy',\n",
       " 'E://Chuan//Documents//Database//DICOM//NormalCAG//Arrangement_left_right//LCA\\\\81CF0C6EE6A841FD8A23E38C05C16415.dcm_average.npy',\n",
       " 'E://Chuan//Documents//Database//DICOM//NormalCAG//Arrangement_left_right//LCA\\\\831EF804976F4F9FAD2074F440C5B2F7.dcm_average.npy',\n",
       " 'E://Chuan//Documents//Database//DICOM//NormalCAG//Arrangement_left_right//LCA\\\\95BCF8CF8C7647BC965DEEA32736CE87.dcm_average.npy',\n",
       " 'E://Chuan//Documents//Database//DICOM//NormalCAG//Arrangement_left_right//LCA\\\\97F20104CAF94B5EBEA76AA9BED108D6.dcm_average.npy',\n",
       " 'E://Chuan//Documents//Database//DICOM//NormalCAG//Arrangement_left_right//LCA\\\\97FDFF265A93475B9DD053D1D9E4C7B4.dcm_average.npy',\n",
       " 'E://Chuan//Documents//Database//DICOM//NormalCAG//Arrangement_left_right//LCA\\\\A06D3CE540E6419B8E643085C33E40C5.dcm_average.npy',\n",
       " 'E://Chuan//Documents//Database//DICOM//NormalCAG//Arrangement_left_right//LCA\\\\A5276E78534A436DBE24C0C8E1C7DEC6.dcm_average.npy',\n",
       " 'E://Chuan//Documents//Database//DICOM//NormalCAG//Arrangement_left_right//LCA\\\\AD4E77FCE4914E63B5A60D787B305187.dcm_average.npy',\n",
       " 'E://Chuan//Documents//Database//DICOM//NormalCAG//Arrangement_left_right//LCA\\\\B000690D295846BDA9811DAB26B3909B.dcm_average.npy',\n",
       " 'E://Chuan//Documents//Database//DICOM//NormalCAG//Arrangement_left_right//LCA\\\\B2C9B9A8FCF546ACBE79B09B01A19A57.dcm_average.npy',\n",
       " 'E://Chuan//Documents//Database//DICOM//NormalCAG//Arrangement_left_right//LCA\\\\B4059ECCD4D9498A81B52BB032A64F57.dcm_average.npy',\n",
       " 'E://Chuan//Documents//Database//DICOM//NormalCAG//Arrangement_left_right//LCA\\\\B4AF41E45462459DA8E43E03AFC701EC.dcm_average.npy',\n",
       " 'E://Chuan//Documents//Database//DICOM//NormalCAG//Arrangement_left_right//LCA\\\\C36B02A1D81B4FD2A19BAFFDAF1A57AE.dcm_average.npy',\n",
       " 'E://Chuan//Documents//Database//DICOM//NormalCAG//Arrangement_left_right//LCA\\\\C4467F6433FB40C8BEACA3B216516B8A.dcm_average.npy',\n",
       " 'E://Chuan//Documents//Database//DICOM//NormalCAG//Arrangement_left_right//LCA\\\\C6D2710DA82B4B97959FED17DCA8D598.dcm_average.npy',\n",
       " 'E://Chuan//Documents//Database//DICOM//NormalCAG//Arrangement_left_right//LCA\\\\CEA1CC58DBDD4D5D8C80057195E1AF37.dcm_average.npy',\n",
       " 'E://Chuan//Documents//Database//DICOM//NormalCAG//Arrangement_left_right//LCA\\\\D1D2B2AFE6F44FF4946DFDD6C407CDAC.dcm_average.npy',\n",
       " 'E://Chuan//Documents//Database//DICOM//NormalCAG//Arrangement_left_right//LCA\\\\D8B556003EB04AF2B4D2BD71C34FA5D5.dcm_average.npy',\n",
       " 'E://Chuan//Documents//Database//DICOM//NormalCAG//Arrangement_left_right//LCA\\\\E725E44C320F4F2B83C5245385DA6BFA.dcm_average.npy',\n",
       " 'E://Chuan//Documents//Database//DICOM//NormalCAG//Arrangement_left_right//LCA\\\\EBD81C1C851D4690BA1BB8D656065EFC.dcm_average.npy',\n",
       " 'E://Chuan//Documents//Database//DICOM//NormalCAG//Arrangement_left_right//LCA\\\\F1EF7E3980F2410CA740B74FB495A290.dcm_average.npy',\n",
       " 'E://Chuan//Documents//Database//DICOM//NormalCAG//Arrangement_left_right//LCA\\\\F398950069EB4EBBB042CE20B7FF902B.dcm_average.npy',\n",
       " 'E://Chuan//Documents//Database//DICOM//NormalCAG//Arrangement_left_right//LCA\\\\F8A2490D64F5423DA7104B4678DADAF9.dcm_average.npy',\n",
       " 'E://Chuan//Documents//Database//DICOM//NormalCAG//Arrangement_left_right//LCA\\\\FA1D2EFDFCE04E5B90FC77588D41A225.dcm_average.npy',\n",
       " 'E://Chuan//Documents//Database//DICOM//NormalCAG//Arrangement_left_right//LCA\\\\FD27F5120D954629977AC71C49B47200.dcm_average.npy']"
      ]
     },
     "execution_count": 3,
     "metadata": {},
     "output_type": "execute_result"
    }
   ],
   "source": [
    "theWhole['LCA']"
   ]
  },
  {
   "cell_type": "code",
   "execution_count": 4,
   "metadata": {},
   "outputs": [
    {
     "name": "stdout",
     "output_type": "stream",
     "text": [
      "0.5980291366577148\n"
     ]
    }
   ],
   "source": [
    "start = time.time()\n",
    "\n",
    "array = {}\n",
    "i = 0\n",
    "\n",
    "for view in theWhole.keys():\n",
    "    array[view] = []\n",
    "    for case in theWhole[view]:\n",
    "        arr = np.load(case)\n",
    "        array[view].append(arr)\n",
    "    \n",
    "end = time.time()\n",
    "print(end - start)"
   ]
  },
  {
   "cell_type": "markdown",
   "metadata": {},
   "source": [
    "### 2D to 1D"
   ]
  },
  {
   "cell_type": "code",
   "execution_count": 5,
   "metadata": {},
   "outputs": [],
   "source": [
    "array_flat = {}\n",
    "\n",
    "for view in array.keys():\n",
    "    array_flat[view] = []\n",
    "    for case in array[view]:\n",
    "        case_flat = []\n",
    "        for row in case:\n",
    "            for column in row:\n",
    "                case_flat.append(column)            \n",
    "        array_flat[view].append(case_flat)"
   ]
  },
  {
   "cell_type": "markdown",
   "metadata": {},
   "source": [
    "## Support Vector Classification"
   ]
  },
  {
   "cell_type": "code",
   "execution_count": 6,
   "metadata": {},
   "outputs": [],
   "source": [
    "x_train_list = []\n",
    "y_train_list = []\n",
    "\n",
    "for y, x in array_flat.items():    \n",
    "    for x_item in x:\n",
    "        x_train_list.append(x_item)\n",
    "        y_train_list.append(y)"
   ]
  },
  {
   "cell_type": "markdown",
   "metadata": {},
   "source": [
    "### Training"
   ]
  },
  {
   "cell_type": "code",
   "execution_count": 7,
   "metadata": {},
   "outputs": [],
   "source": [
    "start = time.time()\n",
    "\n",
    "X_train = np.array(x_train_list)\n",
    "y_train = np.array(y_train_list)\n",
    "\n",
    "# linear kernel\n",
    "clf = svm.SVC(kernel='linear', decision_function_shape='ovo')\n",
    "clf.fit(X_train, y_train)\n",
    "\n",
    "end = time.time()"
   ]
  },
  {
   "cell_type": "code",
   "execution_count": 8,
   "metadata": {},
   "outputs": [
    {
     "name": "stdout",
     "output_type": "stream",
     "text": [
      "2.1306023597717285\n"
     ]
    }
   ],
   "source": [
    "print(end - start)"
   ]
  },
  {
   "cell_type": "markdown",
   "metadata": {},
   "source": [
    "### Prediction"
   ]
  },
  {
   "cell_type": "code",
   "execution_count": 9,
   "metadata": {},
   "outputs": [
    {
     "name": "stdout",
     "output_type": "stream",
     "text": [
      "w =  [[4.01132381e-06 4.98606067e-06 5.55005238e-06 ... 8.46671322e-07\n",
      "  7.30255183e-07 3.89607104e-07]]\n",
      "b =  [0.33266184]\n",
      "Indices of support vectors =  [ 0  2  3  5  9 11 14 15 18 22 28 33 36 37 39 42 44 45 48 49 51 52 53 54]\n",
      "Support vectors =  [[115.63793103 117.29310345 118.36206897 ... 133.43103448 133.87931034\n",
      "  133.98275862]\n",
      " [131.37142857 130.72857143 130.51428571 ... 127.07142857 126.9\n",
      "  126.68571429]\n",
      " [127.6        130.02857143 133.11428571 ... 128.42857143 129.45714286\n",
      "  128.57142857]\n",
      " ...\n",
      " [102.27027027 107.08108108 110.89189189 ... 120.35135135 121.08108108\n",
      "  122.2972973 ]\n",
      " [113.55       117.925      120.3        ... 108.9375     109.025\n",
      "  108.1375    ]\n",
      " [154.42028986 156.46376812 158.10144928 ... 135.15942029 135.26086957\n",
      "  134.69565217]]\n",
      "Number of support vectors for each class =  [16  8]\n",
      "Coefficients of the support vector in the decision function =  [[1.01189319e-08 1.43931212e-08 7.93969487e-09 2.99987239e-08\n",
      "  1.35963825e-08 1.74288298e-08 2.16319896e-08 3.50181342e-09\n",
      "  3.04102477e-09 2.30160228e-08 7.33846876e-09 1.36007324e-08\n",
      "  7.56813880e-09 9.79006109e-09 1.20573909e-08 2.68187099e-08\n",
      "  3.78012638e-09 4.80609937e-08 3.39729722e-08 2.28619920e-08\n",
      "  2.89490085e-08 2.53769271e-08 2.88106164e-08 3.00274002e-08]]\n"
     ]
    }
   ],
   "source": [
    "print('w = ',clf.coef_)\n",
    "print('b = ',clf.intercept_)\n",
    "print('Indices of support vectors = ', clf.support_)\n",
    "print('Support vectors = ', clf.support_vectors_)\n",
    "print('Number of support vectors for each class = ', clf.n_support_)\n",
    "print('Coefficients of the support vector in the decision function = ', np.abs(clf.dual_coef_))"
   ]
  },
  {
   "cell_type": "code",
   "execution_count": 10,
   "metadata": {},
   "outputs": [],
   "source": [
    "pathBase = 'E://Chuan//Documents//Database//DICOM//NormalCAG//Arrangement_left_right//test//'\n",
    "theWhole = {}\n",
    "\n",
    "\n",
    "f = []\n",
    "f_LCA = []\n",
    "mypath_LCA = pathBase + 'LCA'\n",
    "for (dirpath, dirnames, filenames) in walk(mypath_LCA):\n",
    "    f.extend(filenames)\n",
    "for l in f:\n",
    "    f_LCA.append(mypath_LCA + '\\\\' + l) \n",
    "    \n",
    "\n",
    "f = []\n",
    "f_RCA = []\n",
    "mypath_RCA = pathBase + 'RCA'\n",
    "for (dirpath, dirnames, filenames) in walk(mypath_RCA):\n",
    "    f.extend(filenames)\n",
    "for l in f:\n",
    "    f_RCA.append(mypath_RCA + '\\\\' + l) \n",
    "\n",
    "\n",
    "theWhole['LCA'] = f_LCA\n",
    "theWhole['RCA'] = f_RCA        "
   ]
  },
  {
   "cell_type": "code",
   "execution_count": 11,
   "metadata": {},
   "outputs": [
    {
     "name": "stdout",
     "output_type": "stream",
     "text": [
      "0.6746554374694824\n"
     ]
    }
   ],
   "source": [
    "start = time.time()\n",
    "\n",
    "array = {}\n",
    "i = 0\n",
    "\n",
    "for view in theWhole.keys():\n",
    "    array[view] = []\n",
    "    for case in theWhole[view]:\n",
    "        arr = np.load(case)\n",
    "        array[view].append(arr)\n",
    "    \n",
    "end = time.time()\n",
    "print(end - start)"
   ]
  },
  {
   "cell_type": "markdown",
   "metadata": {},
   "source": [
    "### 2D to 1D"
   ]
  },
  {
   "cell_type": "code",
   "execution_count": 12,
   "metadata": {},
   "outputs": [],
   "source": [
    "array_flat = {}\n",
    "\n",
    "for view in array.keys():\n",
    "    array_flat[view] = []\n",
    "    for case in array[view]:\n",
    "        case_flat = []\n",
    "        for row in case:\n",
    "            for column in row:\n",
    "                case_flat.append(column)            \n",
    "        array_flat[view].append(case_flat)"
   ]
  },
  {
   "cell_type": "code",
   "execution_count": 13,
   "metadata": {},
   "outputs": [],
   "source": [
    "x_test_list = []\n",
    "y_test_list = []\n",
    "\n",
    "for y, x in array_flat.items():    \n",
    "    for x_item in x:\n",
    "        x_test_list.append(x_item)\n",
    "        y_test_list.append(y)"
   ]
  },
  {
   "cell_type": "code",
   "execution_count": 14,
   "metadata": {},
   "outputs": [],
   "source": [
    "X_test = np.array(x_test_list)\n",
    "y_test = np.array(y_test_list)"
   ]
  },
  {
   "cell_type": "markdown",
   "metadata": {},
   "source": [
    "## Performance Measures"
   ]
  },
  {
   "cell_type": "code",
   "execution_count": 15,
   "metadata": {},
   "outputs": [],
   "source": [
    "y_predict = clf.predict(X_test)\n",
    "y_test = y_test"
   ]
  },
  {
   "cell_type": "code",
   "execution_count": 16,
   "metadata": {},
   "outputs": [
    {
     "data": {
      "text/plain": [
       "array(['LCA', 'LCA', 'LCA', 'LCA', 'LCA', 'LCA', 'LCA', 'LCA', 'LCA',\n",
       "       'LCA', 'RCA', 'RCA', 'RCA', 'RCA', 'RCA', 'RCA', 'RCA', 'RCA',\n",
       "       'RCA', 'RCA'], dtype='<U3')"
      ]
     },
     "execution_count": 16,
     "metadata": {},
     "output_type": "execute_result"
    }
   ],
   "source": [
    "y_predict"
   ]
  },
  {
   "cell_type": "code",
   "execution_count": 17,
   "metadata": {},
   "outputs": [
    {
     "data": {
      "text/plain": [
       "array(['LCA', 'LCA', 'LCA', 'LCA', 'LCA', 'LCA', 'LCA', 'LCA', 'LCA',\n",
       "       'LCA', 'RCA', 'RCA', 'RCA', 'RCA', 'RCA', 'RCA', 'RCA', 'RCA',\n",
       "       'RCA', 'RCA'], dtype='<U3')"
      ]
     },
     "execution_count": 17,
     "metadata": {},
     "output_type": "execute_result"
    }
   ],
   "source": [
    "y_test"
   ]
  },
  {
   "cell_type": "markdown",
   "metadata": {},
   "source": [
    "### Confusion Matrix (混淆矩阵)"
   ]
  },
  {
   "cell_type": "code",
   "execution_count": 18,
   "metadata": {},
   "outputs": [
    {
     "data": {
      "text/html": [
       "<div>\n",
       "<style scoped>\n",
       "    .dataframe tbody tr th:only-of-type {\n",
       "        vertical-align: middle;\n",
       "    }\n",
       "\n",
       "    .dataframe tbody tr th {\n",
       "        vertical-align: top;\n",
       "    }\n",
       "\n",
       "    .dataframe thead th {\n",
       "        text-align: right;\n",
       "    }\n",
       "</style>\n",
       "<table border=\"1\" class=\"dataframe\">\n",
       "  <thead>\n",
       "    <tr style=\"text-align: right;\">\n",
       "      <th></th>\n",
       "      <th>Predictive LCA</th>\n",
       "      <th>Predictive RCA</th>\n",
       "    </tr>\n",
       "  </thead>\n",
       "  <tbody>\n",
       "    <tr>\n",
       "      <th>LCA</th>\n",
       "      <td>10</td>\n",
       "      <td>0</td>\n",
       "    </tr>\n",
       "    <tr>\n",
       "      <th>RCA</th>\n",
       "      <td>0</td>\n",
       "      <td>10</td>\n",
       "    </tr>\n",
       "  </tbody>\n",
       "</table>\n",
       "</div>"
      ],
      "text/plain": [
       "     Predictive LCA  Predictive RCA\n",
       "LCA              10               0\n",
       "RCA               0              10"
      ]
     },
     "execution_count": 18,
     "metadata": {},
     "output_type": "execute_result"
    }
   ],
   "source": [
    "cm = np.array(confusion_matrix(y_test, y_predict, labels=['LCA', 'RCA']))\n",
    "confusion = pd.DataFrame(cm, index=['LCA', 'RCA'],\n",
    "                        columns=['Predictive LCA', 'Predictive RCA'])\n",
    "confusion.to_csv('ConfusionMatrix_left_right.csv')\n",
    "confusion"
   ]
  },
  {
   "cell_type": "code",
   "execution_count": 19,
   "metadata": {},
   "outputs": [
    {
     "name": "stdout",
     "output_type": "stream",
     "text": [
      "              precision    recall  f1-score   support\n",
      "\n",
      "         LCA       1.00      1.00      1.00        10\n",
      "         RCA       1.00      1.00      1.00        10\n",
      "\n",
      "    accuracy                           1.00        20\n",
      "   macro avg       1.00      1.00      1.00        20\n",
      "weighted avg       1.00      1.00      1.00        20\n",
      "\n"
     ]
    }
   ],
   "source": [
    "print(classification_report(y_test, y_predict))"
   ]
  },
  {
   "cell_type": "markdown",
   "metadata": {},
   "source": [
    "## Save the Model"
   ]
  },
  {
   "cell_type": "code",
   "execution_count": 20,
   "metadata": {},
   "outputs": [
    {
     "name": "stdout",
     "output_type": "stream",
     "text": [
      "['trained_model_left_right.m']\n"
     ]
    }
   ],
   "source": [
    "c = joblib.dump(clf, 'trained_model_left_right.m')\n",
    "print(c)"
   ]
  },
  {
   "cell_type": "markdown",
   "metadata": {},
   "source": [
    "## Load the Model"
   ]
  },
  {
   "cell_type": "code",
   "execution_count": 21,
   "metadata": {},
   "outputs": [
    {
     "name": "stdout",
     "output_type": "stream",
     "text": [
      "SVC(C=1.0, cache_size=200, class_weight=None, coef0=0.0,\n",
      "    decision_function_shape='ovo', degree=3, gamma='auto_deprecated',\n",
      "    kernel='linear', max_iter=-1, probability=False, random_state=None,\n",
      "    shrinking=True, tol=0.001, verbose=False)\n"
     ]
    }
   ],
   "source": [
    "d = joblib.load('trained_model_left_right.m')\n",
    "print(d)"
   ]
  },
  {
   "cell_type": "code",
   "execution_count": null,
   "metadata": {},
   "outputs": [],
   "source": []
  }
 ],
 "metadata": {
  "kernelspec": {
   "display_name": "Python 3",
   "language": "python",
   "name": "python3"
  },
  "language_info": {
   "codemirror_mode": {
    "name": "ipython",
    "version": 3
   },
   "file_extension": ".py",
   "mimetype": "text/x-python",
   "name": "python",
   "nbconvert_exporter": "python",
   "pygments_lexer": "ipython3",
   "version": "3.7.4"
  }
 },
 "nbformat": 4,
 "nbformat_minor": 2
}
