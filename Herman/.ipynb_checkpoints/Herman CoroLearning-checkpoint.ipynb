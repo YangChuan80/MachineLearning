{
 "cells": [
  {
   "cell_type": "code",
   "execution_count": 1,
   "metadata": {},
   "outputs": [],
   "source": [
    "from PIL import Image\n",
    "import numpy as np\n",
    "import pandas as pd\n",
    "import matplotlib.pyplot as plt\n",
    "\n",
    "\n",
    "from sklearn import svm\n",
    "from sklearn.metrics import classification_report, confusion_matrix\n",
    "import joblib\n",
    "from os import walk\n",
    "\n",
    "import time\n",
    "\n",
    "%matplotlib inline"
   ]
  },
  {
   "cell_type": "code",
   "execution_count": 2,
   "metadata": {},
   "outputs": [],
   "source": [
    "#pathBase = 'I://Chuan//Documents//MyData//DICOM//NormalCAG//Arrangement//'\n",
    "pathBase = 'E://Chuan//Documents//Database//DICOM//CoroBase//Arrangement//'\n",
    "\n",
    "theWhole = {}\n",
    "\n",
    "f = []\n",
    "f_LCA_Caudal = []\n",
    "mypath_LCA_Caudal = pathBase + 'LCA_Caudal'\n",
    "for (dirpath, dirnames, filenames) in walk(mypath_LCA_Caudal):\n",
    "    f.extend(filenames)\n",
    "for l in f:\n",
    "    f_LCA_Caudal.append(mypath_LCA_Caudal + '\\\\' + l) \n",
    "    \n",
    "f = []\n",
    "f_LCA_Cranial = []\n",
    "mypath_LCA_Cranial = pathBase + 'LCA_Cranial'\n",
    "for (dirpath, dirnames, filenames) in walk(mypath_LCA_Cranial):\n",
    "    f.extend(filenames)\n",
    "for l in f:\n",
    "    f_LCA_Cranial.append(mypath_LCA_Cranial + '\\\\' + l) \n",
    "    \n",
    "f = []\n",
    "f_LCA_Cranial_LAO = []\n",
    "mypath_LCA_Cranial_LAO = pathBase + 'LCA_Cranial_LAO'\n",
    "for (dirpath, dirnames, filenames) in walk(mypath_LCA_Cranial_LAO):\n",
    "    f.extend(filenames)\n",
    "for l in f:\n",
    "    f_LCA_Cranial_LAO.append(mypath_LCA_Cranial_LAO + '\\\\' + l) \n",
    "    \n",
    "    \n",
    "f = []\n",
    "f_LCA_Cranial_RAO = []\n",
    "mypath_LCA_Cranial_RAO = pathBase + 'LCA_Cranial_RAO'\n",
    "for (dirpath, dirnames, filenames) in walk(mypath_LCA_Cranial_RAO):\n",
    "    f.extend(filenames)\n",
    "for l in f:\n",
    "    f_LCA_Cranial_RAO.append(mypath_LCA_Cranial_RAO + '\\\\' + l) \n",
    "    \n",
    "f = []\n",
    "f_LCA_Spider = []\n",
    "mypath_LCA_Spider = pathBase + 'LCA_Spider'\n",
    "for (dirpath, dirnames, filenames) in walk(mypath_LCA_Spider):\n",
    "    f.extend(filenames)\n",
    "for l in f:\n",
    "    f_LCA_Spider.append(mypath_LCA_Spider + '\\\\' + l) \n",
    "    \n",
    "f = []\n",
    "f_RCA_Cranial = []\n",
    "mypath_RCA_Cranial = pathBase + 'RCA_Cranial'\n",
    "for (dirpath, dirnames, filenames) in walk(mypath_RCA_Cranial):\n",
    "    f.extend(filenames)\n",
    "for l in f:\n",
    "    f_RCA_Cranial.append(mypath_RCA_Cranial + '\\\\' + l) \n",
    "    \n",
    "f = []\n",
    "f_RCA_LAO = []\n",
    "mypath_RCA_LAO = pathBase + 'RCA_LAO'\n",
    "for (dirpath, dirnames, filenames) in walk(mypath_RCA_LAO):\n",
    "    f.extend(filenames)\n",
    "for l in f:\n",
    "    f_RCA_LAO.append(mypath_RCA_LAO + '\\\\' + l) \n",
    "    \n",
    "\n",
    "theWhole['LCA_Caudal'] = f_LCA_Caudal\n",
    "theWhole['LCA_Cranial'] = f_LCA_Cranial\n",
    "theWhole['LCA_Cranial_LAO'] = f_LCA_Cranial_LAO\n",
    "theWhole['LCA_Cranial_RAO'] = f_LCA_Cranial_RAO\n",
    "theWhole['LCA_Spider'] = f_LCA_Spider\n",
    "theWhole['RCA_Cranial'] = f_RCA_Cranial\n",
    "theWhole['RCA_LAO'] = f_RCA_LAO"
   ]
  },
  {
   "cell_type": "code",
   "execution_count": 3,
   "metadata": {},
   "outputs": [
    {
     "data": {
      "text/plain": [
       "'npy'"
      ]
     },
     "execution_count": 3,
     "metadata": {},
     "output_type": "execute_result"
    }
   ],
   "source": [
    "theWhole['LCA_Cranial_LAO'][1].split('.')[-1]"
   ]
  },
  {
   "cell_type": "code",
   "execution_count": 4,
   "metadata": {},
   "outputs": [
    {
     "name": "stdout",
     "output_type": "stream",
     "text": [
      "26.610336303710938\n"
     ]
    }
   ],
   "source": [
    "start = time.time()\n",
    "\n",
    "array = {}\n",
    "i = 0\n",
    "\n",
    "for view in theWhole.keys():\n",
    "    array[view] = []\n",
    "    for case in theWhole[view]:\n",
    "        if case.split('.')[-1] == 'npy':\n",
    "            arr = np.load(case)\n",
    "            array[view].append(arr)\n",
    "\n",
    "end = time.time()\n",
    "print(end - start)"
   ]
  },
  {
   "cell_type": "markdown",
   "metadata": {},
   "source": [
    "### 2D to 1D"
   ]
  },
  {
   "cell_type": "code",
   "execution_count": 5,
   "metadata": {},
   "outputs": [],
   "source": [
    "array_flat = {}\n",
    "\n",
    "for view in array.keys():\n",
    "    array_flat[view] = []\n",
    "    for case in array[view]:\n",
    "        case_flat = []\n",
    "        for row in case:\n",
    "            for column in row:\n",
    "                case_flat.append(column)            \n",
    "        array_flat[view].append(case_flat)"
   ]
  },
  {
   "cell_type": "markdown",
   "metadata": {},
   "source": [
    "## Support Vector Classification"
   ]
  },
  {
   "cell_type": "code",
   "execution_count": 6,
   "metadata": {},
   "outputs": [],
   "source": [
    "x_train_list = []\n",
    "y_train_list = []\n",
    "\n",
    "for y, x in array_flat.items():    \n",
    "    for x_item in x:\n",
    "        x_train_list.append(x_item)\n",
    "        y_train_list.append(y)"
   ]
  },
  {
   "cell_type": "markdown",
   "metadata": {},
   "source": [
    "### Training"
   ]
  },
  {
   "cell_type": "code",
   "execution_count": 7,
   "metadata": {},
   "outputs": [],
   "source": [
    "start = time.time()\n",
    "\n",
    "X_train = np.array(x_train_list)\n",
    "y_train = np.array(y_train_list)\n",
    "\n",
    "# linear kernel\n",
    "clf = svm.SVC(kernel='linear', decision_function_shape='ovo')\n",
    "clf.fit(X_train, y_train)\n",
    "\n",
    "end = time.time()"
   ]
  },
  {
   "cell_type": "code",
   "execution_count": 8,
   "metadata": {},
   "outputs": [
    {
     "name": "stdout",
     "output_type": "stream",
     "text": [
      "260.15596747398376\n"
     ]
    }
   ],
   "source": [
    "print(end - start)"
   ]
  },
  {
   "cell_type": "markdown",
   "metadata": {},
   "source": [
    "### Prediction"
   ]
  },
  {
   "cell_type": "code",
   "execution_count": 9,
   "metadata": {},
   "outputs": [
    {
     "name": "stdout",
     "output_type": "stream",
     "text": [
      "w =  [[ 4.57293210e-06  3.60340653e-06  3.78023474e-06 ... -5.42556058e-06\n",
      "  -5.37639293e-06 -5.39662921e-06]\n",
      " [ 7.66965483e-07  3.54808106e-07  3.75278472e-07 ...  1.42286484e-07\n",
      "   2.16409242e-08 -2.98766550e-08]\n",
      " [ 9.66429354e-06  9.57494209e-06  9.57412159e-06 ... -3.94525475e-06\n",
      "  -2.43367632e-06 -4.86805418e-07]\n",
      " ...\n",
      " [-1.83425329e-06 -2.90509404e-06 -3.50923253e-06 ... -3.52521695e-06\n",
      "  -3.07442011e-06 -2.56093251e-06]\n",
      " [-2.99385984e-06 -2.80689221e-06 -2.62911821e-06 ... -1.16699308e-06\n",
      "  -1.19536166e-06 -1.30772625e-06]\n",
      " [-6.71184739e-06 -4.31663204e-06 -2.26789399e-06 ...  1.42879975e-06\n",
      "   6.85223185e-07 -8.92788023e-07]]\n",
      "b =  [-2.48275202  1.68288494 -5.40003984 -5.77642947 -1.33795597 -2.21072988\n",
      "  8.26071723 -2.85189549  0.4352122   1.50804547 -1.51653963 -4.2287376\n",
      " -1.17032714 -2.33180813 -1.77911435 -0.58696005  2.83437457 -0.56690255\n",
      " -7.83043965 -4.18060401 -1.49370272]\n",
      "Indices of support vectors =  [  1   2   4   5   6   7   8   9  10  11  12  14  16  17  18  20  21  22\n",
      "  24  25  26  27  28  31  32  33  34  35  38  39  40  42  45  47  48  51\n",
      "  52  54  56  58  60  61  62  63  65  66  67  69  70  72  74  75  78  79\n",
      "  82  86  87  88  90  91  93  95  96  97  99 100 102 103 104 105 108 109\n",
      " 110 111 113 114 115 116 117 118 121 122 123 124 125 126 127 130 131 132\n",
      " 133 134 135 136 137 138 139 140 141 142 143 144 145 146 148 149 150 151\n",
      " 152 153 154 156 157 159 161 162 164 165 166 167 168 169 171 173 174 176\n",
      " 177 178 180 181 182 183 184 185 186 187 188 190 191 192 193 194 195 196\n",
      " 197 198 199 200 201 202 203 204 205 206 207 208 209 210 211 212 213 214\n",
      " 215 216 217 218 219 221 222 223 224 225 226 227 228 229 230 231 232 233\n",
      " 234 235 236 237 238 239 241 242 243 246 249 250 251 252 253 257 258 260\n",
      " 261 264 265 266 267 269 270 272 275 276 277 280 281 282 283 285 286 287\n",
      " 288 289 291 292 294 295 298 299 300 302 304 305 307 309 311 312 313 315\n",
      " 316 318 319 320 321 323 324 325 327 329 330 331 334 335 337 341 345 347\n",
      " 348 349 350 351 352 353 354 356 357 358 359 360 361 363 364 365 367 368\n",
      " 372 373 375 376 377 378 379 380 384 385 386 387 388 391 393 394 396 398\n",
      " 399 403 406 407 408 409 410 412 413 416 417 418 419 421 422 424 425 429\n",
      " 430 431 432 433 435 436 439 440 441 442 443 444 445 448 449 450 451 453\n",
      " 454 455 456 457 460 462 463 464 465 467 468 469 470 472 473 475 477 479\n",
      " 481 482 483 484 486 488 489 490 495 496 497 498 499 502 505 506 509 511\n",
      " 513 514 515 517 521 522 523 526 528 529 530 534 538 539 541 542 543 544\n",
      " 549 550 551 552 553 556 558 570 572 574 576 577 578 580 585 588 589 592\n",
      " 593]\n",
      "Support vectors =  [[106.02985075 101.65671642 100.31343284 ...  98.8358209   98.46268657\n",
      "  101.64179104]\n",
      " [111.21348315 109.74157303 105.84269663 ... 101.86516854 102.79775281\n",
      "  102.20224719]\n",
      " [ 75.125       74.01785714  77.5        ... 109.51785714 107.85714286\n",
      "  104.32142857]\n",
      " ...\n",
      " [133.09090909 130.29090909 128.38181818 ...  96.01818182  96.30909091\n",
      "   96.89090909]\n",
      " [132.72413793 130.87931034 129.9137931  ... 105.79310345 105.77586207\n",
      "  107.56896552]\n",
      " [132.18918919 131.59459459 132.02702703 ... 116.21621622 118.2972973\n",
      "  118.81081081]]\n",
      "Number of support vectors for each class =  [68 71 45 55 63 50 45]\n",
      "Coefficients of the support vector in the decision function =  [[0.00000000e+00 0.00000000e+00 4.98222869e-09 ... 0.00000000e+00\n",
      "  0.00000000e+00 1.19410606e-09]\n",
      " [1.04149270e-08 0.00000000e+00 0.00000000e+00 ... 0.00000000e+00\n",
      "  0.00000000e+00 4.53561693e-09]\n",
      " [0.00000000e+00 3.59122565e-08 5.31682928e-09 ... 0.00000000e+00\n",
      "  0.00000000e+00 1.93597389e-09]\n",
      " [0.00000000e+00 0.00000000e+00 0.00000000e+00 ... 0.00000000e+00\n",
      "  0.00000000e+00 3.90310408e-09]\n",
      " [1.19475626e-09 0.00000000e+00 0.00000000e+00 ... 0.00000000e+00\n",
      "  0.00000000e+00 2.17473164e-08]\n",
      " [0.00000000e+00 0.00000000e+00 0.00000000e+00 ... 2.20734971e-08\n",
      "  1.53517526e-08 1.00000000e+00]]\n"
     ]
    }
   ],
   "source": [
    "print('w = ',clf.coef_)\n",
    "print('b = ',clf.intercept_)\n",
    "print('Indices of support vectors = ', clf.support_)\n",
    "print('Support vectors = ', clf.support_vectors_)\n",
    "print('Number of support vectors for each class = ', clf.n_support_)\n",
    "print('Coefficients of the support vector in the decision function = ', np.abs(clf.dual_coef_))"
   ]
  },
  {
   "cell_type": "code",
   "execution_count": 10,
   "metadata": {},
   "outputs": [],
   "source": [
    "#pathBase = 'I://Chuan//Documents//MyData//DICOM//NormalCAG//Arrangement//test//'\n",
    "pathBase = 'E://Chuan//Documents//Database//DICOM//CoroBase//Arrangement//test//'\n",
    "\n",
    "theWhole = {}\n",
    "\n",
    "f = []\n",
    "f_LCA_Caudal = []\n",
    "mypath_LCA_Caudal = pathBase + 'LCA_Caudal'\n",
    "for (dirpath, dirnames, filenames) in walk(mypath_LCA_Caudal):\n",
    "    f.extend(filenames)\n",
    "for l in f:\n",
    "    f_LCA_Caudal.append(mypath_LCA_Caudal + '\\\\' + l) \n",
    "    \n",
    "f = []\n",
    "f_LCA_Cranial = []\n",
    "mypath_LCA_Cranial = pathBase + 'LCA_Cranial'\n",
    "for (dirpath, dirnames, filenames) in walk(mypath_LCA_Cranial):\n",
    "    f.extend(filenames)\n",
    "for l in f:\n",
    "    f_LCA_Cranial.append(mypath_LCA_Cranial + '\\\\' + l) \n",
    "    \n",
    "f = []\n",
    "f_LCA_Cranial_LAO = []\n",
    "mypath_LCA_Cranial_LAO = pathBase + 'LCA_Cranial_LAO'\n",
    "for (dirpath, dirnames, filenames) in walk(mypath_LCA_Cranial_LAO):\n",
    "    f.extend(filenames)\n",
    "for l in f:\n",
    "    f_LCA_Cranial_LAO.append(mypath_LCA_Cranial_LAO + '\\\\' + l) \n",
    "    \n",
    "    \n",
    "f = []\n",
    "f_LCA_Cranial_RAO = []\n",
    "mypath_LCA_Cranial_RAO = pathBase + 'LCA_Cranial_RAO'\n",
    "for (dirpath, dirnames, filenames) in walk(mypath_LCA_Cranial_RAO):\n",
    "    f.extend(filenames)\n",
    "for l in f:\n",
    "    f_LCA_Cranial_RAO.append(mypath_LCA_Cranial_RAO + '\\\\' + l) \n",
    "    \n",
    "f = []\n",
    "f_LCA_Spider = []\n",
    "mypath_LCA_Spider = pathBase + 'LCA_Spider'\n",
    "for (dirpath, dirnames, filenames) in walk(mypath_LCA_Spider):\n",
    "    f.extend(filenames)\n",
    "for l in f:\n",
    "    f_LCA_Spider.append(mypath_LCA_Spider + '\\\\' + l) \n",
    "    \n",
    "f = []\n",
    "f_RCA_Cranial = []\n",
    "mypath_RCA_Cranial = pathBase + 'RCA_Cranial'\n",
    "for (dirpath, dirnames, filenames) in walk(mypath_RCA_Cranial):\n",
    "    f.extend(filenames)\n",
    "for l in f:\n",
    "    f_RCA_Cranial.append(mypath_RCA_Cranial + '\\\\' + l) \n",
    "    \n",
    "f = []\n",
    "f_RCA_LAO = []\n",
    "mypath_RCA_LAO = pathBase + 'RCA_LAO'\n",
    "for (dirpath, dirnames, filenames) in walk(mypath_RCA_LAO):\n",
    "    f.extend(filenames)\n",
    "for l in f:\n",
    "    f_RCA_LAO.append(mypath_RCA_LAO + '\\\\' + l) \n",
    "    \n",
    "\n",
    "theWhole['LCA_Caudal'] = f_LCA_Caudal\n",
    "theWhole['LCA_Cranial'] = f_LCA_Cranial\n",
    "theWhole['LCA_Cranial_LAO'] = f_LCA_Cranial_LAO\n",
    "theWhole['LCA_Cranial_RAO'] = f_LCA_Cranial_RAO\n",
    "theWhole['LCA_Spider'] = f_LCA_Spider\n",
    "theWhole['RCA_Cranial'] = f_RCA_Cranial\n",
    "theWhole['RCA_LAO'] = f_RCA_LAO"
   ]
  },
  {
   "cell_type": "code",
   "execution_count": 11,
   "metadata": {},
   "outputs": [
    {
     "name": "stdout",
     "output_type": "stream",
     "text": [
      "366.8018934726715\n"
     ]
    }
   ],
   "source": [
    "start = time.time()\n",
    "\n",
    "array = {}\n",
    "i = 0\n",
    "\n",
    "for view in theWhole.keys():\n",
    "    array[view] = []\n",
    "    for case in theWhole[view]:\n",
    "        if case.split('.')[-1] == 'npy':\n",
    "            arr = np.load(case)\n",
    "            array[view].append(arr)\n",
    "\n",
    "end = time.time()\n",
    "print(end - start)"
   ]
  },
  {
   "cell_type": "markdown",
   "metadata": {},
   "source": [
    "### 2D to 1D"
   ]
  },
  {
   "cell_type": "code",
   "execution_count": 12,
   "metadata": {},
   "outputs": [],
   "source": [
    "array_flat = {}\n",
    "\n",
    "for view in array.keys():\n",
    "    array_flat[view] = []\n",
    "    for case in array[view]:\n",
    "        case_flat = []\n",
    "        for row in case:\n",
    "            for column in row:\n",
    "                case_flat.append(column)            \n",
    "        array_flat[view].append(case_flat)"
   ]
  },
  {
   "cell_type": "code",
   "execution_count": 13,
   "metadata": {},
   "outputs": [],
   "source": [
    "x_test_list = []\n",
    "y_test_list = []\n",
    "\n",
    "for y, x in array_flat.items():    \n",
    "    for x_item in x:\n",
    "        x_test_list.append(x_item)\n",
    "        y_test_list.append(y)"
   ]
  },
  {
   "cell_type": "code",
   "execution_count": 14,
   "metadata": {},
   "outputs": [],
   "source": [
    "X_test = np.array(x_test_list)\n",
    "y_test = np.array(y_test_list)"
   ]
  },
  {
   "cell_type": "markdown",
   "metadata": {},
   "source": [
    "## Performance Measures"
   ]
  },
  {
   "cell_type": "code",
   "execution_count": 15,
   "metadata": {},
   "outputs": [],
   "source": [
    "y_predict = clf.predict(X_test)\n",
    "y_test = y_test"
   ]
  },
  {
   "cell_type": "code",
   "execution_count": 16,
   "metadata": {},
   "outputs": [
    {
     "data": {
      "text/plain": [
       "array(['LCA_Caudal', 'LCA_Caudal', 'LCA_Caudal', 'LCA_Caudal',\n",
       "       'LCA_Caudal', 'LCA_Cranial_RAO', 'LCA_Caudal', 'LCA_Caudal',\n",
       "       'LCA_Caudal', 'LCA_Caudal', 'LCA_Cranial', 'LCA_Cranial',\n",
       "       'LCA_Cranial', 'LCA_Cranial', 'RCA_Cranial', 'LCA_Cranial',\n",
       "       'LCA_Cranial', 'LCA_Cranial_RAO', 'LCA_Cranial', 'LCA_Cranial',\n",
       "       'LCA_Cranial', 'LCA_Cranial_RAO', 'LCA_Cranial', 'LCA_Cranial_LAO',\n",
       "       'LCA_Cranial_LAO', 'LCA_Cranial_LAO', 'LCA_Cranial_LAO',\n",
       "       'LCA_Cranial_LAO', 'LCA_Cranial_LAO', 'LCA_Cranial_LAO',\n",
       "       'LCA_Cranial_LAO', 'LCA_Cranial', 'LCA_Spider', 'LCA_Cranial_RAO',\n",
       "       'LCA_Cranial_RAO', 'LCA_Cranial_RAO', 'LCA_Cranial_RAO',\n",
       "       'LCA_Cranial', 'LCA_Cranial_RAO', 'LCA_Cranial_RAO',\n",
       "       'LCA_Cranial_RAO', 'LCA_Cranial', 'LCA_Cranial_RAO',\n",
       "       'LCA_Cranial_RAO', 'LCA_Spider', 'RCA_Cranial', 'LCA_Spider',\n",
       "       'LCA_Spider', 'LCA_Spider', 'LCA_Spider', 'LCA_Spider',\n",
       "       'LCA_Spider', 'LCA_Spider', 'LCA_Spider', 'RCA_Cranial',\n",
       "       'RCA_Cranial', 'LCA_Cranial', 'RCA_LAO', 'RCA_Cranial',\n",
       "       'RCA_Cranial', 'RCA_Cranial', 'RCA_LAO', 'RCA_Cranial',\n",
       "       'RCA_Cranial', 'RCA_LAO', 'RCA_LAO', 'RCA_LAO', 'RCA_LAO',\n",
       "       'RCA_LAO', 'RCA_LAO', 'RCA_LAO', 'RCA_LAO', 'RCA_LAO', 'RCA_LAO',\n",
       "       'RCA_LAO'], dtype='<U15')"
      ]
     },
     "execution_count": 16,
     "metadata": {},
     "output_type": "execute_result"
    }
   ],
   "source": [
    "y_predict"
   ]
  },
  {
   "cell_type": "code",
   "execution_count": 17,
   "metadata": {},
   "outputs": [
    {
     "data": {
      "text/plain": [
       "array(['LCA_Caudal', 'LCA_Caudal', 'LCA_Caudal', 'LCA_Caudal',\n",
       "       'LCA_Caudal', 'LCA_Caudal', 'LCA_Caudal', 'LCA_Caudal',\n",
       "       'LCA_Caudal', 'LCA_Caudal', 'LCA_Cranial', 'LCA_Cranial',\n",
       "       'LCA_Cranial', 'LCA_Cranial', 'LCA_Cranial', 'LCA_Cranial',\n",
       "       'LCA_Cranial', 'LCA_Cranial', 'LCA_Cranial', 'LCA_Cranial',\n",
       "       'LCA_Cranial', 'LCA_Cranial', 'LCA_Cranial', 'LCA_Cranial',\n",
       "       'LCA_Cranial_LAO', 'LCA_Cranial_LAO', 'LCA_Cranial_LAO',\n",
       "       'LCA_Cranial_LAO', 'LCA_Cranial_LAO', 'LCA_Cranial_LAO',\n",
       "       'LCA_Cranial_LAO', 'LCA_Cranial_LAO', 'LCA_Cranial_LAO',\n",
       "       'LCA_Cranial_RAO', 'LCA_Cranial_RAO', 'LCA_Cranial_RAO',\n",
       "       'LCA_Cranial_RAO', 'LCA_Cranial_RAO', 'LCA_Cranial_RAO',\n",
       "       'LCA_Cranial_RAO', 'LCA_Cranial_RAO', 'LCA_Cranial_RAO',\n",
       "       'LCA_Cranial_RAO', 'LCA_Cranial_RAO', 'LCA_Spider', 'LCA_Spider',\n",
       "       'LCA_Spider', 'LCA_Spider', 'LCA_Spider', 'LCA_Spider',\n",
       "       'LCA_Spider', 'LCA_Spider', 'LCA_Spider', 'LCA_Spider',\n",
       "       'RCA_Cranial', 'RCA_Cranial', 'RCA_Cranial', 'RCA_Cranial',\n",
       "       'RCA_Cranial', 'RCA_Cranial', 'RCA_Cranial', 'RCA_Cranial',\n",
       "       'RCA_Cranial', 'RCA_Cranial', 'RCA_LAO', 'RCA_LAO', 'RCA_LAO',\n",
       "       'RCA_LAO', 'RCA_LAO', 'RCA_LAO', 'RCA_LAO', 'RCA_LAO', 'RCA_LAO',\n",
       "       'RCA_LAO', 'RCA_LAO'], dtype='<U15')"
      ]
     },
     "execution_count": 17,
     "metadata": {},
     "output_type": "execute_result"
    }
   ],
   "source": [
    "y_test"
   ]
  },
  {
   "cell_type": "markdown",
   "metadata": {},
   "source": [
    "### Confusion Matrix (混淆矩阵)"
   ]
  },
  {
   "cell_type": "code",
   "execution_count": 19,
   "metadata": {},
   "outputs": [
    {
     "data": {
      "text/html": [
       "<div>\n",
       "<style scoped>\n",
       "    .dataframe tbody tr th:only-of-type {\n",
       "        vertical-align: middle;\n",
       "    }\n",
       "\n",
       "    .dataframe tbody tr th {\n",
       "        vertical-align: top;\n",
       "    }\n",
       "\n",
       "    .dataframe thead th {\n",
       "        text-align: right;\n",
       "    }\n",
       "</style>\n",
       "<table border=\"1\" class=\"dataframe\">\n",
       "  <thead>\n",
       "    <tr style=\"text-align: right;\">\n",
       "      <th></th>\n",
       "      <th>Predictive LCA_Caudal</th>\n",
       "      <th>Predictive LCA_Cranial</th>\n",
       "      <th>Predictive LCA_Cranial_LAO</th>\n",
       "      <th>Predictive LCA_Cranial_RAO</th>\n",
       "      <th>Predictive LCA_Spider</th>\n",
       "      <th>Predictive RCA_Cranial</th>\n",
       "      <th>Predictive RCA_LAO</th>\n",
       "    </tr>\n",
       "  </thead>\n",
       "  <tbody>\n",
       "    <tr>\n",
       "      <th>LCA_Caudal</th>\n",
       "      <td>9</td>\n",
       "      <td>0</td>\n",
       "      <td>0</td>\n",
       "      <td>1</td>\n",
       "      <td>0</td>\n",
       "      <td>0</td>\n",
       "      <td>0</td>\n",
       "    </tr>\n",
       "    <tr>\n",
       "      <th>LCA_Cranial</th>\n",
       "      <td>0</td>\n",
       "      <td>10</td>\n",
       "      <td>1</td>\n",
       "      <td>2</td>\n",
       "      <td>0</td>\n",
       "      <td>1</td>\n",
       "      <td>0</td>\n",
       "    </tr>\n",
       "    <tr>\n",
       "      <th>LCA_Cranial_LAO</th>\n",
       "      <td>0</td>\n",
       "      <td>1</td>\n",
       "      <td>7</td>\n",
       "      <td>0</td>\n",
       "      <td>1</td>\n",
       "      <td>0</td>\n",
       "      <td>0</td>\n",
       "    </tr>\n",
       "    <tr>\n",
       "      <th>LCA_Cranial_RAO</th>\n",
       "      <td>0</td>\n",
       "      <td>2</td>\n",
       "      <td>0</td>\n",
       "      <td>9</td>\n",
       "      <td>0</td>\n",
       "      <td>0</td>\n",
       "      <td>0</td>\n",
       "    </tr>\n",
       "    <tr>\n",
       "      <th>LCA_Spider</th>\n",
       "      <td>0</td>\n",
       "      <td>0</td>\n",
       "      <td>0</td>\n",
       "      <td>0</td>\n",
       "      <td>9</td>\n",
       "      <td>1</td>\n",
       "      <td>0</td>\n",
       "    </tr>\n",
       "    <tr>\n",
       "      <th>RCA_Cranial</th>\n",
       "      <td>0</td>\n",
       "      <td>1</td>\n",
       "      <td>0</td>\n",
       "      <td>0</td>\n",
       "      <td>0</td>\n",
       "      <td>7</td>\n",
       "      <td>2</td>\n",
       "    </tr>\n",
       "    <tr>\n",
       "      <th>RCA_LAO</th>\n",
       "      <td>0</td>\n",
       "      <td>0</td>\n",
       "      <td>0</td>\n",
       "      <td>0</td>\n",
       "      <td>0</td>\n",
       "      <td>0</td>\n",
       "      <td>11</td>\n",
       "    </tr>\n",
       "  </tbody>\n",
       "</table>\n",
       "</div>"
      ],
      "text/plain": [
       "                 Predictive LCA_Caudal  Predictive LCA_Cranial  \\\n",
       "LCA_Caudal                           9                       0   \n",
       "LCA_Cranial                          0                      10   \n",
       "LCA_Cranial_LAO                      0                       1   \n",
       "LCA_Cranial_RAO                      0                       2   \n",
       "LCA_Spider                           0                       0   \n",
       "RCA_Cranial                          0                       1   \n",
       "RCA_LAO                              0                       0   \n",
       "\n",
       "                 Predictive LCA_Cranial_LAO  Predictive LCA_Cranial_RAO  \\\n",
       "LCA_Caudal                                0                           1   \n",
       "LCA_Cranial                               1                           2   \n",
       "LCA_Cranial_LAO                           7                           0   \n",
       "LCA_Cranial_RAO                           0                           9   \n",
       "LCA_Spider                                0                           0   \n",
       "RCA_Cranial                               0                           0   \n",
       "RCA_LAO                                   0                           0   \n",
       "\n",
       "                 Predictive LCA_Spider  Predictive RCA_Cranial  \\\n",
       "LCA_Caudal                           0                       0   \n",
       "LCA_Cranial                          0                       1   \n",
       "LCA_Cranial_LAO                      1                       0   \n",
       "LCA_Cranial_RAO                      0                       0   \n",
       "LCA_Spider                           9                       1   \n",
       "RCA_Cranial                          0                       7   \n",
       "RCA_LAO                              0                       0   \n",
       "\n",
       "                 Predictive RCA_LAO  \n",
       "LCA_Caudal                        0  \n",
       "LCA_Cranial                       0  \n",
       "LCA_Cranial_LAO                   0  \n",
       "LCA_Cranial_RAO                   0  \n",
       "LCA_Spider                        0  \n",
       "RCA_Cranial                       2  \n",
       "RCA_LAO                          11  "
      ]
     },
     "execution_count": 19,
     "metadata": {},
     "output_type": "execute_result"
    }
   ],
   "source": [
    "cm = np.array(confusion_matrix(y_test, y_predict, labels=['LCA_Caudal', 'LCA_Cranial', \n",
    "                                                          'LCA_Cranial_LAO', 'LCA_Cranial_RAO', \n",
    "                                                          'LCA_Spider', \n",
    "                                                          'RCA_Cranial', 'RCA_LAO']))\n",
    "confusion = pd.DataFrame(cm, index=['LCA_Caudal', 'LCA_Cranial', \n",
    "                                    'LCA_Cranial_LAO', 'LCA_Cranial_RAO', 'LCA_Spider',\n",
    "                                    'RCA_Cranial', 'RCA_LAO'],\n",
    "                        columns=['Predictive LCA_Caudal', 'Predictive LCA_Cranial',\n",
    "                                 'Predictive LCA_Cranial_LAO', 'Predictive LCA_Cranial_RAO',\n",
    "                                 'Predictive LCA_Spider',\n",
    "                                    'Predictive RCA_Cranial', 'Predictive RCA_LAO'])\n",
    "confusion.to_csv('ConfusionMatrix.csv')\n",
    "confusion"
   ]
  },
  {
   "cell_type": "code",
   "execution_count": 20,
   "metadata": {},
   "outputs": [
    {
     "name": "stdout",
     "output_type": "stream",
     "text": [
      "                 precision    recall  f1-score   support\n",
      "\n",
      "     LCA_Caudal       1.00      0.90      0.95        10\n",
      "    LCA_Cranial       0.71      0.71      0.71        14\n",
      "LCA_Cranial_LAO       0.88      0.78      0.82         9\n",
      "LCA_Cranial_RAO       0.75      0.82      0.78        11\n",
      "     LCA_Spider       0.90      0.90      0.90        10\n",
      "    RCA_Cranial       0.78      0.70      0.74        10\n",
      "        RCA_LAO       0.85      1.00      0.92        11\n",
      "\n",
      "       accuracy                           0.83        75\n",
      "      macro avg       0.84      0.83      0.83        75\n",
      "   weighted avg       0.83      0.83      0.83        75\n",
      "\n"
     ]
    }
   ],
   "source": [
    "print(classification_report(y_test, y_predict))"
   ]
  },
  {
   "cell_type": "markdown",
   "metadata": {},
   "source": [
    "## Save the Model"
   ]
  },
  {
   "cell_type": "code",
   "execution_count": 21,
   "metadata": {},
   "outputs": [
    {
     "name": "stdout",
     "output_type": "stream",
     "text": [
      "['trained_model.m']\n"
     ]
    }
   ],
   "source": [
    "c = joblib.dump(clf, 'trained_model.m')\n",
    "print(c)"
   ]
  },
  {
   "cell_type": "markdown",
   "metadata": {},
   "source": [
    "## Load the Model"
   ]
  },
  {
   "cell_type": "code",
   "execution_count": 22,
   "metadata": {},
   "outputs": [
    {
     "name": "stdout",
     "output_type": "stream",
     "text": [
      "SVC(C=1.0, cache_size=200, class_weight=None, coef0=0.0,\n",
      "    decision_function_shape='ovo', degree=3, gamma='auto_deprecated',\n",
      "    kernel='linear', max_iter=-1, probability=False, random_state=None,\n",
      "    shrinking=True, tol=0.001, verbose=False)\n"
     ]
    }
   ],
   "source": [
    "d = joblib.load('trained_model.m')\n",
    "print(d)"
   ]
  },
  {
   "cell_type": "code",
   "execution_count": null,
   "metadata": {},
   "outputs": [],
   "source": []
  }
 ],
 "metadata": {
  "kernelspec": {
   "display_name": "Python 3",
   "language": "python",
   "name": "python3"
  },
  "language_info": {
   "codemirror_mode": {
    "name": "ipython",
    "version": 3
   },
   "file_extension": ".py",
   "mimetype": "text/x-python",
   "name": "python",
   "nbconvert_exporter": "python",
   "pygments_lexer": "ipython3",
   "version": "3.7.4"
  }
 },
 "nbformat": 4,
 "nbformat_minor": 2
}
