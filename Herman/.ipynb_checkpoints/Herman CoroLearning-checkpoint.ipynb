{
 "cells": [
  {
   "cell_type": "code",
   "execution_count": 1,
   "metadata": {},
   "outputs": [],
   "source": [
    "from PIL import Image\n",
    "import numpy as np\n",
    "import pandas as pd\n",
    "import matplotlib.pyplot as plt\n",
    "\n",
    "\n",
    "from sklearn import svm\n",
    "from sklearn.metrics import classification_report, confusion_matrix\n",
    "import joblib\n",
    "#from sklearn.model_selection import ShuffleSplit\n",
    "from sklearn.model_selection import KFold\n",
    "\n",
    "from os import walk\n",
    "\n",
    "import time\n",
    "\n",
    "%matplotlib inline"
   ]
  },
  {
   "cell_type": "code",
   "execution_count": 2,
   "metadata": {},
   "outputs": [],
   "source": [
    "pathBase = 'I://Chuan//Documents//MyData//ProjNormalCAG//CoroBase//Arrangement//'\n",
    "#pathBase = 'E://Chuan//Documents//Database//DICOM//CoroBase//Arrangement//'\n",
    "\n",
    "theWhole = {}\n",
    "# theWhole is dictionary containing views (keys) which the values are DICOM files\n",
    "\n",
    "f = []\n",
    "f_LCA_Caudal = []\n",
    "mypath_LCA_Caudal = pathBase + 'LCA_Caudal'\n",
    "for (dirpath, dirnames, filenames) in walk(mypath_LCA_Caudal):\n",
    "    f.extend(filenames)\n",
    "for l in f:\n",
    "    f_LCA_Caudal.append(mypath_LCA_Caudal + '\\\\' + l) \n",
    "    \n",
    "f = []\n",
    "f_LCA_Cranial = []\n",
    "mypath_LCA_Cranial = pathBase + 'LCA_Cranial'\n",
    "for (dirpath, dirnames, filenames) in walk(mypath_LCA_Cranial):\n",
    "    f.extend(filenames)\n",
    "for l in f:\n",
    "    f_LCA_Cranial.append(mypath_LCA_Cranial + '\\\\' + l) \n",
    "    \n",
    "f = []\n",
    "f_LCA_Cranial_LAO = []\n",
    "mypath_LCA_Cranial_LAO = pathBase + 'LCA_Cranial_LAO'\n",
    "for (dirpath, dirnames, filenames) in walk(mypath_LCA_Cranial_LAO):\n",
    "    f.extend(filenames)\n",
    "for l in f:\n",
    "    f_LCA_Cranial_LAO.append(mypath_LCA_Cranial_LAO + '\\\\' + l) \n",
    "    \n",
    "    \n",
    "f = []\n",
    "f_LCA_Cranial_RAO = []\n",
    "mypath_LCA_Cranial_RAO = pathBase + 'LCA_Cranial_RAO'\n",
    "for (dirpath, dirnames, filenames) in walk(mypath_LCA_Cranial_RAO):\n",
    "    f.extend(filenames)\n",
    "for l in f:\n",
    "    f_LCA_Cranial_RAO.append(mypath_LCA_Cranial_RAO + '\\\\' + l) \n",
    "    \n",
    "f = []\n",
    "f_LCA_Spider = []\n",
    "mypath_LCA_Spider = pathBase + 'LCA_Spider'\n",
    "for (dirpath, dirnames, filenames) in walk(mypath_LCA_Spider):\n",
    "    f.extend(filenames)\n",
    "for l in f:\n",
    "    f_LCA_Spider.append(mypath_LCA_Spider + '\\\\' + l) \n",
    "    \n",
    "f = []\n",
    "f_RCA_Cranial = []\n",
    "mypath_RCA_Cranial = pathBase + 'RCA_Cranial'\n",
    "for (dirpath, dirnames, filenames) in walk(mypath_RCA_Cranial):\n",
    "    f.extend(filenames)\n",
    "for l in f:\n",
    "    f_RCA_Cranial.append(mypath_RCA_Cranial + '\\\\' + l) \n",
    "    \n",
    "f = []\n",
    "f_RCA_LAO = []\n",
    "mypath_RCA_LAO = pathBase + 'RCA_LAO'\n",
    "for (dirpath, dirnames, filenames) in walk(mypath_RCA_LAO):\n",
    "    f.extend(filenames)\n",
    "for l in f:\n",
    "    f_RCA_LAO.append(mypath_RCA_LAO + '\\\\' + l) \n",
    "    \n",
    "\n",
    "theWhole['LCA_Caudal'] = f_LCA_Caudal\n",
    "theWhole['LCA_Cranial'] = f_LCA_Cranial\n",
    "theWhole['LCA_Cranial_LAO'] = f_LCA_Cranial_LAO\n",
    "theWhole['LCA_Cranial_RAO'] = f_LCA_Cranial_RAO\n",
    "theWhole['LCA_Spider'] = f_LCA_Spider\n",
    "theWhole['RCA_Cranial'] = f_RCA_Cranial\n",
    "theWhole['RCA_LAO'] = f_RCA_LAO"
   ]
  },
  {
   "cell_type": "code",
   "execution_count": 3,
   "metadata": {
    "scrolled": true
   },
   "outputs": [
    {
     "data": {
      "text/plain": [
       "['I://Chuan//Documents//MyData//ProjNormalCAG//CoroBase//Arrangement//LCA_Cranial_LAO\\\\04A303A242F04B35BC889915B414E048.avi',\n",
       " 'I://Chuan//Documents//MyData//ProjNormalCAG//CoroBase//Arrangement//LCA_Cranial_LAO\\\\04A303A242F04B35BC889915B414E048.dcm_average.npy',\n",
       " 'I://Chuan//Documents//MyData//ProjNormalCAG//CoroBase//Arrangement//LCA_Cranial_LAO\\\\07FFCD52CE914F29B7E4BC877FDE039C.avi',\n",
       " 'I://Chuan//Documents//MyData//ProjNormalCAG//CoroBase//Arrangement//LCA_Cranial_LAO\\\\07FFCD52CE914F29B7E4BC877FDE039C.dcm_average.npy',\n",
       " 'I://Chuan//Documents//MyData//ProjNormalCAG//CoroBase//Arrangement//LCA_Cranial_LAO\\\\082257329B3A4223B258DCBAB5C11DEA.avi',\n",
       " 'I://Chuan//Documents//MyData//ProjNormalCAG//CoroBase//Arrangement//LCA_Cranial_LAO\\\\082257329B3A4223B258DCBAB5C11DEA.dcm_average.npy',\n",
       " 'I://Chuan//Documents//MyData//ProjNormalCAG//CoroBase//Arrangement//LCA_Cranial_LAO\\\\0AFD257E3761428881D7A2FFAC11F8D3.avi',\n",
       " 'I://Chuan//Documents//MyData//ProjNormalCAG//CoroBase//Arrangement//LCA_Cranial_LAO\\\\0AFD257E3761428881D7A2FFAC11F8D3.dcm_average.npy',\n",
       " 'I://Chuan//Documents//MyData//ProjNormalCAG//CoroBase//Arrangement//LCA_Cranial_LAO\\\\0B6CF946BD5641B5B42DD20184E77E70.avi',\n",
       " 'I://Chuan//Documents//MyData//ProjNormalCAG//CoroBase//Arrangement//LCA_Cranial_LAO\\\\0B6CF946BD5641B5B42DD20184E77E70.dcm_average.npy',\n",
       " 'I://Chuan//Documents//MyData//ProjNormalCAG//CoroBase//Arrangement//LCA_Cranial_LAO\\\\0D0D0586A84744E1BABE27844888F92B.avi',\n",
       " 'I://Chuan//Documents//MyData//ProjNormalCAG//CoroBase//Arrangement//LCA_Cranial_LAO\\\\0D0D0586A84744E1BABE27844888F92B.dcm_average.npy',\n",
       " 'I://Chuan//Documents//MyData//ProjNormalCAG//CoroBase//Arrangement//LCA_Cranial_LAO\\\\0F479E5C3A914DF69E5380AE49DA14D9.avi',\n",
       " 'I://Chuan//Documents//MyData//ProjNormalCAG//CoroBase//Arrangement//LCA_Cranial_LAO\\\\0F479E5C3A914DF69E5380AE49DA14D9.dcm_average.npy',\n",
       " 'I://Chuan//Documents//MyData//ProjNormalCAG//CoroBase//Arrangement//LCA_Cranial_LAO\\\\0F9A1CAD61FC430784D340F09C9AAD6E.avi',\n",
       " 'I://Chuan//Documents//MyData//ProjNormalCAG//CoroBase//Arrangement//LCA_Cranial_LAO\\\\0F9A1CAD61FC430784D340F09C9AAD6E.dcm_average.npy',\n",
       " 'I://Chuan//Documents//MyData//ProjNormalCAG//CoroBase//Arrangement//LCA_Cranial_LAO\\\\121DB291D1B648C09C69DBADF9019FAE.avi',\n",
       " 'I://Chuan//Documents//MyData//ProjNormalCAG//CoroBase//Arrangement//LCA_Cranial_LAO\\\\121DB291D1B648C09C69DBADF9019FAE.dcm_average.npy',\n",
       " 'I://Chuan//Documents//MyData//ProjNormalCAG//CoroBase//Arrangement//LCA_Cranial_LAO\\\\134AE04C0D854DF29660BBB8C56736AA.avi',\n",
       " 'I://Chuan//Documents//MyData//ProjNormalCAG//CoroBase//Arrangement//LCA_Cranial_LAO\\\\134AE04C0D854DF29660BBB8C56736AA.dcm_average.npy',\n",
       " 'I://Chuan//Documents//MyData//ProjNormalCAG//CoroBase//Arrangement//LCA_Cranial_LAO\\\\1622DB741E73496CB4D8DF49C1932A74.avi',\n",
       " 'I://Chuan//Documents//MyData//ProjNormalCAG//CoroBase//Arrangement//LCA_Cranial_LAO\\\\1622DB741E73496CB4D8DF49C1932A74.dcm_average.npy',\n",
       " 'I://Chuan//Documents//MyData//ProjNormalCAG//CoroBase//Arrangement//LCA_Cranial_LAO\\\\194CFAF43C794FF0803402CC5AC59B95.avi',\n",
       " 'I://Chuan//Documents//MyData//ProjNormalCAG//CoroBase//Arrangement//LCA_Cranial_LAO\\\\194CFAF43C794FF0803402CC5AC59B95.dcm_average.npy',\n",
       " 'I://Chuan//Documents//MyData//ProjNormalCAG//CoroBase//Arrangement//LCA_Cranial_LAO\\\\29E9FC95676D438EBDBE74668D97564C.avi',\n",
       " 'I://Chuan//Documents//MyData//ProjNormalCAG//CoroBase//Arrangement//LCA_Cranial_LAO\\\\29E9FC95676D438EBDBE74668D97564C.dcm_average.npy',\n",
       " 'I://Chuan//Documents//MyData//ProjNormalCAG//CoroBase//Arrangement//LCA_Cranial_LAO\\\\2AD7FC84B6F741E7A9134DD450751CC3.avi',\n",
       " 'I://Chuan//Documents//MyData//ProjNormalCAG//CoroBase//Arrangement//LCA_Cranial_LAO\\\\2AD7FC84B6F741E7A9134DD450751CC3.dcm_average.npy',\n",
       " 'I://Chuan//Documents//MyData//ProjNormalCAG//CoroBase//Arrangement//LCA_Cranial_LAO\\\\2CD37FB5826746B28B826C33E86D2211.avi',\n",
       " 'I://Chuan//Documents//MyData//ProjNormalCAG//CoroBase//Arrangement//LCA_Cranial_LAO\\\\2CD37FB5826746B28B826C33E86D2211.dcm_average.npy',\n",
       " 'I://Chuan//Documents//MyData//ProjNormalCAG//CoroBase//Arrangement//LCA_Cranial_LAO\\\\307826D7569D41FE9A402447679397C6.avi',\n",
       " 'I://Chuan//Documents//MyData//ProjNormalCAG//CoroBase//Arrangement//LCA_Cranial_LAO\\\\307826D7569D41FE9A402447679397C6.dcm_average.npy',\n",
       " 'I://Chuan//Documents//MyData//ProjNormalCAG//CoroBase//Arrangement//LCA_Cranial_LAO\\\\351C6A9A4FDF4C179141BCA7E0376DEB.avi',\n",
       " 'I://Chuan//Documents//MyData//ProjNormalCAG//CoroBase//Arrangement//LCA_Cranial_LAO\\\\351C6A9A4FDF4C179141BCA7E0376DEB.dcm_average.npy',\n",
       " 'I://Chuan//Documents//MyData//ProjNormalCAG//CoroBase//Arrangement//LCA_Cranial_LAO\\\\35CAD359BF2448E79B7527C3179357C1.avi',\n",
       " 'I://Chuan//Documents//MyData//ProjNormalCAG//CoroBase//Arrangement//LCA_Cranial_LAO\\\\35CAD359BF2448E79B7527C3179357C1.dcm_average.npy',\n",
       " 'I://Chuan//Documents//MyData//ProjNormalCAG//CoroBase//Arrangement//LCA_Cranial_LAO\\\\367E28FAD6ED467C86D654A09B4FBE02.avi',\n",
       " 'I://Chuan//Documents//MyData//ProjNormalCAG//CoroBase//Arrangement//LCA_Cranial_LAO\\\\367E28FAD6ED467C86D654A09B4FBE02.dcm_average.npy',\n",
       " 'I://Chuan//Documents//MyData//ProjNormalCAG//CoroBase//Arrangement//LCA_Cranial_LAO\\\\37F6F6FE7A734A489D8D8BE213D223E2.avi',\n",
       " 'I://Chuan//Documents//MyData//ProjNormalCAG//CoroBase//Arrangement//LCA_Cranial_LAO\\\\37F6F6FE7A734A489D8D8BE213D223E2.dcm_average.npy',\n",
       " 'I://Chuan//Documents//MyData//ProjNormalCAG//CoroBase//Arrangement//LCA_Cranial_LAO\\\\3A22735081F845D098CEBBA953F2155F.avi',\n",
       " 'I://Chuan//Documents//MyData//ProjNormalCAG//CoroBase//Arrangement//LCA_Cranial_LAO\\\\3A22735081F845D098CEBBA953F2155F.dcm_average.npy',\n",
       " 'I://Chuan//Documents//MyData//ProjNormalCAG//CoroBase//Arrangement//LCA_Cranial_LAO\\\\3A3424A8207C4A21A9CC5BB020B7325C.avi',\n",
       " 'I://Chuan//Documents//MyData//ProjNormalCAG//CoroBase//Arrangement//LCA_Cranial_LAO\\\\3A3424A8207C4A21A9CC5BB020B7325C.dcm_average.npy',\n",
       " 'I://Chuan//Documents//MyData//ProjNormalCAG//CoroBase//Arrangement//LCA_Cranial_LAO\\\\3A3BD74C2DF9472FA3F47B7AC37C76B1.avi',\n",
       " 'I://Chuan//Documents//MyData//ProjNormalCAG//CoroBase//Arrangement//LCA_Cranial_LAO\\\\3A3BD74C2DF9472FA3F47B7AC37C76B1.dcm_average.npy',\n",
       " 'I://Chuan//Documents//MyData//ProjNormalCAG//CoroBase//Arrangement//LCA_Cranial_LAO\\\\3C3DD6793E7D49D2B14E593D31C5BB27.avi',\n",
       " 'I://Chuan//Documents//MyData//ProjNormalCAG//CoroBase//Arrangement//LCA_Cranial_LAO\\\\3C3DD6793E7D49D2B14E593D31C5BB27.dcm_average.npy',\n",
       " 'I://Chuan//Documents//MyData//ProjNormalCAG//CoroBase//Arrangement//LCA_Cranial_LAO\\\\4E3E764F27AA49E884CA24EFD1A360D6.avi',\n",
       " 'I://Chuan//Documents//MyData//ProjNormalCAG//CoroBase//Arrangement//LCA_Cranial_LAO\\\\4E3E764F27AA49E884CA24EFD1A360D6.dcm_average.npy',\n",
       " 'I://Chuan//Documents//MyData//ProjNormalCAG//CoroBase//Arrangement//LCA_Cranial_LAO\\\\4F79F087F1F648AAA0188B9A497E26EA.avi',\n",
       " 'I://Chuan//Documents//MyData//ProjNormalCAG//CoroBase//Arrangement//LCA_Cranial_LAO\\\\4F79F087F1F648AAA0188B9A497E26EA.dcm_average.npy',\n",
       " 'I://Chuan//Documents//MyData//ProjNormalCAG//CoroBase//Arrangement//LCA_Cranial_LAO\\\\501DBBA082274166837D2B40FA8652E6.avi',\n",
       " 'I://Chuan//Documents//MyData//ProjNormalCAG//CoroBase//Arrangement//LCA_Cranial_LAO\\\\501DBBA082274166837D2B40FA8652E6.dcm_average.npy',\n",
       " 'I://Chuan//Documents//MyData//ProjNormalCAG//CoroBase//Arrangement//LCA_Cranial_LAO\\\\50F9FF87DAB74FE8A6439117515C4EA4.avi',\n",
       " 'I://Chuan//Documents//MyData//ProjNormalCAG//CoroBase//Arrangement//LCA_Cranial_LAO\\\\50F9FF87DAB74FE8A6439117515C4EA4.dcm_average.npy',\n",
       " 'I://Chuan//Documents//MyData//ProjNormalCAG//CoroBase//Arrangement//LCA_Cranial_LAO\\\\511FAA2BB0934C6E859CA18C95CAACB2.avi',\n",
       " 'I://Chuan//Documents//MyData//ProjNormalCAG//CoroBase//Arrangement//LCA_Cranial_LAO\\\\511FAA2BB0934C6E859CA18C95CAACB2.dcm_average.npy',\n",
       " 'I://Chuan//Documents//MyData//ProjNormalCAG//CoroBase//Arrangement//LCA_Cranial_LAO\\\\590079CC525C4D968FAE7C846EBFE38E.avi',\n",
       " 'I://Chuan//Documents//MyData//ProjNormalCAG//CoroBase//Arrangement//LCA_Cranial_LAO\\\\590079CC525C4D968FAE7C846EBFE38E.dcm_average.npy',\n",
       " 'I://Chuan//Documents//MyData//ProjNormalCAG//CoroBase//Arrangement//LCA_Cranial_LAO\\\\5BBEC7DCF39E462E86F9F15D7559AF99.avi',\n",
       " 'I://Chuan//Documents//MyData//ProjNormalCAG//CoroBase//Arrangement//LCA_Cranial_LAO\\\\5BBEC7DCF39E462E86F9F15D7559AF99.dcm_average.npy',\n",
       " 'I://Chuan//Documents//MyData//ProjNormalCAG//CoroBase//Arrangement//LCA_Cranial_LAO\\\\5E09857D320F4B85B8958632500F33C5.avi',\n",
       " 'I://Chuan//Documents//MyData//ProjNormalCAG//CoroBase//Arrangement//LCA_Cranial_LAO\\\\5E09857D320F4B85B8958632500F33C5.dcm_average.npy',\n",
       " 'I://Chuan//Documents//MyData//ProjNormalCAG//CoroBase//Arrangement//LCA_Cranial_LAO\\\\604B86FA649A4598AC7D8137BBCF1E05.avi',\n",
       " 'I://Chuan//Documents//MyData//ProjNormalCAG//CoroBase//Arrangement//LCA_Cranial_LAO\\\\604B86FA649A4598AC7D8137BBCF1E05.dcm_average.npy',\n",
       " 'I://Chuan//Documents//MyData//ProjNormalCAG//CoroBase//Arrangement//LCA_Cranial_LAO\\\\63A3F4953D104D35ACB22132C7ABBA85.avi',\n",
       " 'I://Chuan//Documents//MyData//ProjNormalCAG//CoroBase//Arrangement//LCA_Cranial_LAO\\\\63A3F4953D104D35ACB22132C7ABBA85.dcm_average.npy',\n",
       " 'I://Chuan//Documents//MyData//ProjNormalCAG//CoroBase//Arrangement//LCA_Cranial_LAO\\\\65B86E7E81A04610A897F2034F07D4F4.avi',\n",
       " 'I://Chuan//Documents//MyData//ProjNormalCAG//CoroBase//Arrangement//LCA_Cranial_LAO\\\\65B86E7E81A04610A897F2034F07D4F4.dcm_average.npy',\n",
       " 'I://Chuan//Documents//MyData//ProjNormalCAG//CoroBase//Arrangement//LCA_Cranial_LAO\\\\683A980DF24A46C8AE25C5B07ADC96A2.avi',\n",
       " 'I://Chuan//Documents//MyData//ProjNormalCAG//CoroBase//Arrangement//LCA_Cranial_LAO\\\\683A980DF24A46C8AE25C5B07ADC96A2.dcm_average.npy',\n",
       " 'I://Chuan//Documents//MyData//ProjNormalCAG//CoroBase//Arrangement//LCA_Cranial_LAO\\\\698786BE8A20481FB27D07D0D66C5949.avi',\n",
       " 'I://Chuan//Documents//MyData//ProjNormalCAG//CoroBase//Arrangement//LCA_Cranial_LAO\\\\698786BE8A20481FB27D07D0D66C5949.dcm_average.npy',\n",
       " 'I://Chuan//Documents//MyData//ProjNormalCAG//CoroBase//Arrangement//LCA_Cranial_LAO\\\\6B7BB9F4BDBC45A6AC7E8CBC0C408762.avi',\n",
       " 'I://Chuan//Documents//MyData//ProjNormalCAG//CoroBase//Arrangement//LCA_Cranial_LAO\\\\6B7BB9F4BDBC45A6AC7E8CBC0C408762.dcm_average.npy',\n",
       " 'I://Chuan//Documents//MyData//ProjNormalCAG//CoroBase//Arrangement//LCA_Cranial_LAO\\\\6C65382A7EC24B719CDDCF14492CB0B2.avi',\n",
       " 'I://Chuan//Documents//MyData//ProjNormalCAG//CoroBase//Arrangement//LCA_Cranial_LAO\\\\6C65382A7EC24B719CDDCF14492CB0B2.dcm_average.npy',\n",
       " 'I://Chuan//Documents//MyData//ProjNormalCAG//CoroBase//Arrangement//LCA_Cranial_LAO\\\\6E9C88E122524136BDF88E4645D56499.avi',\n",
       " 'I://Chuan//Documents//MyData//ProjNormalCAG//CoroBase//Arrangement//LCA_Cranial_LAO\\\\6E9C88E122524136BDF88E4645D56499.dcm_average.npy',\n",
       " 'I://Chuan//Documents//MyData//ProjNormalCAG//CoroBase//Arrangement//LCA_Cranial_LAO\\\\7019A259EE5C46B08C2C96371D1F8648.avi',\n",
       " 'I://Chuan//Documents//MyData//ProjNormalCAG//CoroBase//Arrangement//LCA_Cranial_LAO\\\\7019A259EE5C46B08C2C96371D1F8648.dcm_average.npy',\n",
       " 'I://Chuan//Documents//MyData//ProjNormalCAG//CoroBase//Arrangement//LCA_Cranial_LAO\\\\782E64836EE04DCBB88C4AA92E261912.avi',\n",
       " 'I://Chuan//Documents//MyData//ProjNormalCAG//CoroBase//Arrangement//LCA_Cranial_LAO\\\\782E64836EE04DCBB88C4AA92E261912.dcm_average.npy',\n",
       " 'I://Chuan//Documents//MyData//ProjNormalCAG//CoroBase//Arrangement//LCA_Cranial_LAO\\\\7F27E208A265422BA55E19BA3796BAB3.avi',\n",
       " 'I://Chuan//Documents//MyData//ProjNormalCAG//CoroBase//Arrangement//LCA_Cranial_LAO\\\\7F27E208A265422BA55E19BA3796BAB3.dcm_average.npy',\n",
       " 'I://Chuan//Documents//MyData//ProjNormalCAG//CoroBase//Arrangement//LCA_Cranial_LAO\\\\7FAA14C7465F4E32AF770A1FE833FA4B.avi',\n",
       " 'I://Chuan//Documents//MyData//ProjNormalCAG//CoroBase//Arrangement//LCA_Cranial_LAO\\\\7FAA14C7465F4E32AF770A1FE833FA4B.dcm_average.npy',\n",
       " 'I://Chuan//Documents//MyData//ProjNormalCAG//CoroBase//Arrangement//LCA_Cranial_LAO\\\\849873CD2BD04F789A7431E40899BAF6.avi',\n",
       " 'I://Chuan//Documents//MyData//ProjNormalCAG//CoroBase//Arrangement//LCA_Cranial_LAO\\\\849873CD2BD04F789A7431E40899BAF6.dcm_average.npy',\n",
       " 'I://Chuan//Documents//MyData//ProjNormalCAG//CoroBase//Arrangement//LCA_Cranial_LAO\\\\88180926C185485FBA8970E368F0A24E.avi',\n",
       " 'I://Chuan//Documents//MyData//ProjNormalCAG//CoroBase//Arrangement//LCA_Cranial_LAO\\\\88180926C185485FBA8970E368F0A24E.dcm_average.npy',\n",
       " 'I://Chuan//Documents//MyData//ProjNormalCAG//CoroBase//Arrangement//LCA_Cranial_LAO\\\\889938FA25E547F3B514F6C8A55DB138.avi',\n",
       " 'I://Chuan//Documents//MyData//ProjNormalCAG//CoroBase//Arrangement//LCA_Cranial_LAO\\\\889938FA25E547F3B514F6C8A55DB138.dcm_average.npy',\n",
       " 'I://Chuan//Documents//MyData//ProjNormalCAG//CoroBase//Arrangement//LCA_Cranial_LAO\\\\8D8446263AC94349B61C87CC6956C0A7.avi',\n",
       " 'I://Chuan//Documents//MyData//ProjNormalCAG//CoroBase//Arrangement//LCA_Cranial_LAO\\\\8D8446263AC94349B61C87CC6956C0A7.dcm_average.npy',\n",
       " 'I://Chuan//Documents//MyData//ProjNormalCAG//CoroBase//Arrangement//LCA_Cranial_LAO\\\\94778EA03C764260A3295B4245D8F572.avi',\n",
       " 'I://Chuan//Documents//MyData//ProjNormalCAG//CoroBase//Arrangement//LCA_Cranial_LAO\\\\94778EA03C764260A3295B4245D8F572.dcm_average.npy',\n",
       " 'I://Chuan//Documents//MyData//ProjNormalCAG//CoroBase//Arrangement//LCA_Cranial_LAO\\\\96B4E8C8C1934942A185812A7457D64A.avi',\n",
       " 'I://Chuan//Documents//MyData//ProjNormalCAG//CoroBase//Arrangement//LCA_Cranial_LAO\\\\96B4E8C8C1934942A185812A7457D64A.dcm_average.npy',\n",
       " 'I://Chuan//Documents//MyData//ProjNormalCAG//CoroBase//Arrangement//LCA_Cranial_LAO\\\\9895A3DF1B924BF7855FC1C907516738.avi',\n",
       " 'I://Chuan//Documents//MyData//ProjNormalCAG//CoroBase//Arrangement//LCA_Cranial_LAO\\\\9895A3DF1B924BF7855FC1C907516738.dcm_average.npy',\n",
       " 'I://Chuan//Documents//MyData//ProjNormalCAG//CoroBase//Arrangement//LCA_Cranial_LAO\\\\996D56873E8F483CBB6E33A1215A3A94.avi',\n",
       " 'I://Chuan//Documents//MyData//ProjNormalCAG//CoroBase//Arrangement//LCA_Cranial_LAO\\\\996D56873E8F483CBB6E33A1215A3A94.dcm_average.npy',\n",
       " 'I://Chuan//Documents//MyData//ProjNormalCAG//CoroBase//Arrangement//LCA_Cranial_LAO\\\\9B51FA342BF14212A2646C08BC314ACB.avi',\n",
       " 'I://Chuan//Documents//MyData//ProjNormalCAG//CoroBase//Arrangement//LCA_Cranial_LAO\\\\9B51FA342BF14212A2646C08BC314ACB.dcm_average.npy',\n",
       " 'I://Chuan//Documents//MyData//ProjNormalCAG//CoroBase//Arrangement//LCA_Cranial_LAO\\\\9D9C7D11C1E34B8E8CECCDA1D96DF5B6.avi',\n",
       " 'I://Chuan//Documents//MyData//ProjNormalCAG//CoroBase//Arrangement//LCA_Cranial_LAO\\\\9D9C7D11C1E34B8E8CECCDA1D96DF5B6.dcm_average.npy',\n",
       " 'I://Chuan//Documents//MyData//ProjNormalCAG//CoroBase//Arrangement//LCA_Cranial_LAO\\\\9E533B40BF834B1EA1F08F3739D344C2.avi',\n",
       " 'I://Chuan//Documents//MyData//ProjNormalCAG//CoroBase//Arrangement//LCA_Cranial_LAO\\\\9E533B40BF834B1EA1F08F3739D344C2.dcm_average.npy',\n",
       " 'I://Chuan//Documents//MyData//ProjNormalCAG//CoroBase//Arrangement//LCA_Cranial_LAO\\\\A01ADCEBA0364B2EB8ACAE5541F10264.avi',\n",
       " 'I://Chuan//Documents//MyData//ProjNormalCAG//CoroBase//Arrangement//LCA_Cranial_LAO\\\\A01ADCEBA0364B2EB8ACAE5541F10264.dcm_average.npy',\n",
       " 'I://Chuan//Documents//MyData//ProjNormalCAG//CoroBase//Arrangement//LCA_Cranial_LAO\\\\A163D52F96F44D6C87A5387435993B71.avi',\n",
       " 'I://Chuan//Documents//MyData//ProjNormalCAG//CoroBase//Arrangement//LCA_Cranial_LAO\\\\A163D52F96F44D6C87A5387435993B71.dcm_average.npy',\n",
       " 'I://Chuan//Documents//MyData//ProjNormalCAG//CoroBase//Arrangement//LCA_Cranial_LAO\\\\A77A9255CB8D44729D604B9749C34CC4.avi',\n",
       " 'I://Chuan//Documents//MyData//ProjNormalCAG//CoroBase//Arrangement//LCA_Cranial_LAO\\\\A77A9255CB8D44729D604B9749C34CC4.dcm_average.npy',\n",
       " 'I://Chuan//Documents//MyData//ProjNormalCAG//CoroBase//Arrangement//LCA_Cranial_LAO\\\\A9184710BA0F4D37BEFBF305F7368568.avi',\n",
       " 'I://Chuan//Documents//MyData//ProjNormalCAG//CoroBase//Arrangement//LCA_Cranial_LAO\\\\A9184710BA0F4D37BEFBF305F7368568.dcm_average.npy',\n",
       " 'I://Chuan//Documents//MyData//ProjNormalCAG//CoroBase//Arrangement//LCA_Cranial_LAO\\\\AE7E5D90734849AD83DCC49B392B716E.avi',\n",
       " 'I://Chuan//Documents//MyData//ProjNormalCAG//CoroBase//Arrangement//LCA_Cranial_LAO\\\\AE7E5D90734849AD83DCC49B392B716E.dcm_average.npy',\n",
       " 'I://Chuan//Documents//MyData//ProjNormalCAG//CoroBase//Arrangement//LCA_Cranial_LAO\\\\B4AAE1D89D8F45F2973794564AC46735.avi',\n",
       " 'I://Chuan//Documents//MyData//ProjNormalCAG//CoroBase//Arrangement//LCA_Cranial_LAO\\\\B4AAE1D89D8F45F2973794564AC46735.dcm_average.npy',\n",
       " 'I://Chuan//Documents//MyData//ProjNormalCAG//CoroBase//Arrangement//LCA_Cranial_LAO\\\\B9F2890D56474A788D7E331C21091FB3.avi',\n",
       " 'I://Chuan//Documents//MyData//ProjNormalCAG//CoroBase//Arrangement//LCA_Cranial_LAO\\\\B9F2890D56474A788D7E331C21091FB3.dcm_average.npy',\n",
       " 'I://Chuan//Documents//MyData//ProjNormalCAG//CoroBase//Arrangement//LCA_Cranial_LAO\\\\BC7F4CE8E8C540A6AD0EC572D4734195.avi',\n",
       " 'I://Chuan//Documents//MyData//ProjNormalCAG//CoroBase//Arrangement//LCA_Cranial_LAO\\\\BC7F4CE8E8C540A6AD0EC572D4734195.dcm_average.npy',\n",
       " 'I://Chuan//Documents//MyData//ProjNormalCAG//CoroBase//Arrangement//LCA_Cranial_LAO\\\\C329384CDCE443688E41B73B33AFEB62.avi',\n",
       " 'I://Chuan//Documents//MyData//ProjNormalCAG//CoroBase//Arrangement//LCA_Cranial_LAO\\\\C329384CDCE443688E41B73B33AFEB62.dcm_average.npy',\n",
       " 'I://Chuan//Documents//MyData//ProjNormalCAG//CoroBase//Arrangement//LCA_Cranial_LAO\\\\C4467F6433FB40C8BEACA3B216516B8A.avi',\n",
       " 'I://Chuan//Documents//MyData//ProjNormalCAG//CoroBase//Arrangement//LCA_Cranial_LAO\\\\C4467F6433FB40C8BEACA3B216516B8A.dcm_average.npy',\n",
       " 'I://Chuan//Documents//MyData//ProjNormalCAG//CoroBase//Arrangement//LCA_Cranial_LAO\\\\C504C6AA8BAA4667ADA7CBC67EFA63C9.avi',\n",
       " 'I://Chuan//Documents//MyData//ProjNormalCAG//CoroBase//Arrangement//LCA_Cranial_LAO\\\\C504C6AA8BAA4667ADA7CBC67EFA63C9.dcm_average.npy',\n",
       " 'I://Chuan//Documents//MyData//ProjNormalCAG//CoroBase//Arrangement//LCA_Cranial_LAO\\\\C8BDBB13053443ED81E4E36B8E657DA2.avi',\n",
       " 'I://Chuan//Documents//MyData//ProjNormalCAG//CoroBase//Arrangement//LCA_Cranial_LAO\\\\C8BDBB13053443ED81E4E36B8E657DA2.dcm_average.npy',\n",
       " 'I://Chuan//Documents//MyData//ProjNormalCAG//CoroBase//Arrangement//LCA_Cranial_LAO\\\\D0FF2EF6967D4ACC905B0D3AEEC2AF0A.avi',\n",
       " 'I://Chuan//Documents//MyData//ProjNormalCAG//CoroBase//Arrangement//LCA_Cranial_LAO\\\\D0FF2EF6967D4ACC905B0D3AEEC2AF0A.dcm_average.npy',\n",
       " 'I://Chuan//Documents//MyData//ProjNormalCAG//CoroBase//Arrangement//LCA_Cranial_LAO\\\\D23E39A753624C1AB135148285F7D0CB.avi',\n",
       " 'I://Chuan//Documents//MyData//ProjNormalCAG//CoroBase//Arrangement//LCA_Cranial_LAO\\\\D23E39A753624C1AB135148285F7D0CB.dcm_average.npy',\n",
       " 'I://Chuan//Documents//MyData//ProjNormalCAG//CoroBase//Arrangement//LCA_Cranial_LAO\\\\D3332CB78449475BA5FA6428A042DC6A.avi',\n",
       " 'I://Chuan//Documents//MyData//ProjNormalCAG//CoroBase//Arrangement//LCA_Cranial_LAO\\\\D3332CB78449475BA5FA6428A042DC6A.dcm_average.npy',\n",
       " 'I://Chuan//Documents//MyData//ProjNormalCAG//CoroBase//Arrangement//LCA_Cranial_LAO\\\\D53D6F04C1414D71ABE49F1882883563.avi',\n",
       " 'I://Chuan//Documents//MyData//ProjNormalCAG//CoroBase//Arrangement//LCA_Cranial_LAO\\\\D53D6F04C1414D71ABE49F1882883563.dcm_average.npy',\n",
       " 'I://Chuan//Documents//MyData//ProjNormalCAG//CoroBase//Arrangement//LCA_Cranial_LAO\\\\D7396581E1974D3F8499E296FA5A4B9E.avi',\n",
       " 'I://Chuan//Documents//MyData//ProjNormalCAG//CoroBase//Arrangement//LCA_Cranial_LAO\\\\D7396581E1974D3F8499E296FA5A4B9E.dcm_average.npy',\n",
       " 'I://Chuan//Documents//MyData//ProjNormalCAG//CoroBase//Arrangement//LCA_Cranial_LAO\\\\D963BE056C1E4D4EA8E1447B04976B58.avi',\n",
       " 'I://Chuan//Documents//MyData//ProjNormalCAG//CoroBase//Arrangement//LCA_Cranial_LAO\\\\D963BE056C1E4D4EA8E1447B04976B58.dcm_average.npy',\n",
       " 'I://Chuan//Documents//MyData//ProjNormalCAG//CoroBase//Arrangement//LCA_Cranial_LAO\\\\DDF30044A4A44AC096B0483185752203.avi',\n",
       " 'I://Chuan//Documents//MyData//ProjNormalCAG//CoroBase//Arrangement//LCA_Cranial_LAO\\\\DDF30044A4A44AC096B0483185752203.dcm_average.npy',\n",
       " 'I://Chuan//Documents//MyData//ProjNormalCAG//CoroBase//Arrangement//LCA_Cranial_LAO\\\\DEA96359DAE443ECBEEE8CA69F9AADB9.avi',\n",
       " 'I://Chuan//Documents//MyData//ProjNormalCAG//CoroBase//Arrangement//LCA_Cranial_LAO\\\\DEA96359DAE443ECBEEE8CA69F9AADB9.dcm_average.npy',\n",
       " 'I://Chuan//Documents//MyData//ProjNormalCAG//CoroBase//Arrangement//LCA_Cranial_LAO\\\\E208344057F645EE82407F0735C47036.avi',\n",
       " 'I://Chuan//Documents//MyData//ProjNormalCAG//CoroBase//Arrangement//LCA_Cranial_LAO\\\\E208344057F645EE82407F0735C47036.dcm_average.npy',\n",
       " 'I://Chuan//Documents//MyData//ProjNormalCAG//CoroBase//Arrangement//LCA_Cranial_LAO\\\\E21EE9A6D029460D829814D68764A15E.avi',\n",
       " 'I://Chuan//Documents//MyData//ProjNormalCAG//CoroBase//Arrangement//LCA_Cranial_LAO\\\\E21EE9A6D029460D829814D68764A15E.dcm_average.npy',\n",
       " 'I://Chuan//Documents//MyData//ProjNormalCAG//CoroBase//Arrangement//LCA_Cranial_LAO\\\\E3AE519B69DD46DFAF3B081C18EAFF6D.avi',\n",
       " 'I://Chuan//Documents//MyData//ProjNormalCAG//CoroBase//Arrangement//LCA_Cranial_LAO\\\\E3AE519B69DD46DFAF3B081C18EAFF6D.dcm_average.npy',\n",
       " 'I://Chuan//Documents//MyData//ProjNormalCAG//CoroBase//Arrangement//LCA_Cranial_LAO\\\\E48407D480714103ACA0B0BD58D9FA0F.avi',\n",
       " 'I://Chuan//Documents//MyData//ProjNormalCAG//CoroBase//Arrangement//LCA_Cranial_LAO\\\\E48407D480714103ACA0B0BD58D9FA0F.dcm_average.npy',\n",
       " 'I://Chuan//Documents//MyData//ProjNormalCAG//CoroBase//Arrangement//LCA_Cranial_LAO\\\\E71B3B02429D48218610FC8A93C95E79.avi',\n",
       " 'I://Chuan//Documents//MyData//ProjNormalCAG//CoroBase//Arrangement//LCA_Cranial_LAO\\\\E71B3B02429D48218610FC8A93C95E79.dcm_average.npy',\n",
       " 'I://Chuan//Documents//MyData//ProjNormalCAG//CoroBase//Arrangement//LCA_Cranial_LAO\\\\F0467C72CD9A4B389462B7D2E67DEDC5.avi',\n",
       " 'I://Chuan//Documents//MyData//ProjNormalCAG//CoroBase//Arrangement//LCA_Cranial_LAO\\\\F0467C72CD9A4B389462B7D2E67DEDC5.dcm_average.npy',\n",
       " 'I://Chuan//Documents//MyData//ProjNormalCAG//CoroBase//Arrangement//LCA_Cranial_LAO\\\\F16EC160E2E94834850FBF98081FCB64.avi',\n",
       " 'I://Chuan//Documents//MyData//ProjNormalCAG//CoroBase//Arrangement//LCA_Cranial_LAO\\\\F16EC160E2E94834850FBF98081FCB64.dcm_average.npy',\n",
       " 'I://Chuan//Documents//MyData//ProjNormalCAG//CoroBase//Arrangement//LCA_Cranial_LAO\\\\F69B724817A84E7F88D75BF7AFC6C42E.avi',\n",
       " 'I://Chuan//Documents//MyData//ProjNormalCAG//CoroBase//Arrangement//LCA_Cranial_LAO\\\\F69B724817A84E7F88D75BF7AFC6C42E.dcm_average.npy',\n",
       " 'I://Chuan//Documents//MyData//ProjNormalCAG//CoroBase//Arrangement//LCA_Cranial_LAO\\\\F88E14A226664545BEDE97C0A2EA9095.avi',\n",
       " 'I://Chuan//Documents//MyData//ProjNormalCAG//CoroBase//Arrangement//LCA_Cranial_LAO\\\\F88E14A226664545BEDE97C0A2EA9095.dcm_average.npy',\n",
       " 'I://Chuan//Documents//MyData//ProjNormalCAG//CoroBase//Arrangement//LCA_Cranial_LAO\\\\F99130010A234653A84F978EA09D270C.avi',\n",
       " 'I://Chuan//Documents//MyData//ProjNormalCAG//CoroBase//Arrangement//LCA_Cranial_LAO\\\\F99130010A234653A84F978EA09D270C.dcm_average.npy',\n",
       " 'I://Chuan//Documents//MyData//ProjNormalCAG//CoroBase//Arrangement//LCA_Cranial_LAO\\\\FA8F832169F645C0B330860D4A54F4C2.avi',\n",
       " 'I://Chuan//Documents//MyData//ProjNormalCAG//CoroBase//Arrangement//LCA_Cranial_LAO\\\\FA8F832169F645C0B330860D4A54F4C2.dcm_average.npy',\n",
       " 'I://Chuan//Documents//MyData//ProjNormalCAG//CoroBase//Arrangement//LCA_Cranial_LAO\\\\FB48AE4D1EF949FD8B7DDF93DD111945.avi',\n",
       " 'I://Chuan//Documents//MyData//ProjNormalCAG//CoroBase//Arrangement//LCA_Cranial_LAO\\\\FB48AE4D1EF949FD8B7DDF93DD111945.dcm_average.npy',\n",
       " 'I://Chuan//Documents//MyData//ProjNormalCAG//CoroBase//Arrangement//LCA_Cranial_LAO\\\\FD27F5120D954629977AC71C49B47200.avi',\n",
       " 'I://Chuan//Documents//MyData//ProjNormalCAG//CoroBase//Arrangement//LCA_Cranial_LAO\\\\FD27F5120D954629977AC71C49B47200.dcm_average.npy',\n",
       " 'I://Chuan//Documents//MyData//ProjNormalCAG//CoroBase//Arrangement//LCA_Cranial_LAO\\\\FF43A5C1460D48F799A03D4CCED91D40.avi',\n",
       " 'I://Chuan//Documents//MyData//ProjNormalCAG//CoroBase//Arrangement//LCA_Cranial_LAO\\\\FF43A5C1460D48F799A03D4CCED91D40.dcm_average.npy',\n",
       " 'I://Chuan//Documents//MyData//ProjNormalCAG//CoroBase//Arrangement//LCA_Cranial_LAO\\\\FF61A8073D274A36BE18FA2339F0DC75.avi',\n",
       " 'I://Chuan//Documents//MyData//ProjNormalCAG//CoroBase//Arrangement//LCA_Cranial_LAO\\\\FF61A8073D274A36BE18FA2339F0DC75.dcm_average.npy']"
      ]
     },
     "execution_count": 3,
     "metadata": {},
     "output_type": "execute_result"
    }
   ],
   "source": [
    "theWhole['LCA_Cranial_LAO']"
   ]
  },
  {
   "cell_type": "code",
   "execution_count": 4,
   "metadata": {},
   "outputs": [
    {
     "name": "stdout",
     "output_type": "stream",
     "text": [
      "43.48231077194214\n"
     ]
    }
   ],
   "source": [
    "start = time.time()\n",
    "\n",
    "array = {}\n",
    "i = 0\n",
    "\n",
    "for view in theWhole.keys():\n",
    "    array[view] = []\n",
    "    for case in theWhole[view]:\n",
    "        if case.split('.')[-1] == 'npy':\n",
    "            arr = np.load(case)\n",
    "            array[view].append(arr)\n",
    "\n",
    "end = time.time()\n",
    "print(end - start)"
   ]
  },
  {
   "cell_type": "markdown",
   "metadata": {},
   "source": [
    "### 2D to 1D"
   ]
  },
  {
   "cell_type": "code",
   "execution_count": 5,
   "metadata": {},
   "outputs": [],
   "source": [
    "array_flat = {}\n",
    "\n",
    "for view in array.keys():\n",
    "    array_flat[view] = []\n",
    "    for case in array[view]:\n",
    "        case_flat = []\n",
    "        for row in case:\n",
    "            for column in row:\n",
    "                case_flat.append(column)            \n",
    "        array_flat[view].append(case_flat)"
   ]
  },
  {
   "cell_type": "markdown",
   "metadata": {},
   "source": [
    "## Support Vector Classification"
   ]
  },
  {
   "cell_type": "code",
   "execution_count": 6,
   "metadata": {},
   "outputs": [],
   "source": [
    "x_sample_list = []\n",
    "y_sample_list = []\n",
    "\n",
    "for y, x in array_flat.items():    \n",
    "    for x_item in x:\n",
    "        x_sample_list.append(x_item)\n",
    "        y_sample_list.append(y)"
   ]
  },
  {
   "cell_type": "code",
   "execution_count": 7,
   "metadata": {},
   "outputs": [
    {
     "data": {
      "text/plain": [
       "1024"
      ]
     },
     "execution_count": 7,
     "metadata": {},
     "output_type": "execute_result"
    }
   ],
   "source": [
    "len(x_sample_list)"
   ]
  },
  {
   "cell_type": "code",
   "execution_count": 8,
   "metadata": {},
   "outputs": [
    {
     "data": {
      "text/plain": [
       "1024"
      ]
     },
     "execution_count": 8,
     "metadata": {},
     "output_type": "execute_result"
    }
   ],
   "source": [
    "len(y_sample_list)"
   ]
  },
  {
   "cell_type": "markdown",
   "metadata": {},
   "source": [
    "## Training Set Confirmed"
   ]
  },
  {
   "cell_type": "code",
   "execution_count": 10,
   "metadata": {
    "scrolled": true
   },
   "outputs": [
    {
     "name": "stdout",
     "output_type": "stream",
     "text": [
      "TRAIN: [ 342  343  344  345  346  347  348  349  350  351  352  353  354  355\n",
      "  356  357  358  359  360  361  362  363  364  365  366  367  368  369\n",
      "  370  371  372  373  374  375  376  377  378  379  380  381  382  383\n",
      "  384  385  386  387  388  389  390  391  392  393  394  395  396  397\n",
      "  398  399  400  401  402  403  404  405  406  407  408  409  410  411\n",
      "  412  413  414  415  416  417  418  419  420  421  422  423  424  425\n",
      "  426  427  428  429  430  431  432  433  434  435  436  437  438  439\n",
      "  440  441  442  443  444  445  446  447  448  449  450  451  452  453\n",
      "  454  455  456  457  458  459  460  461  462  463  464  465  466  467\n",
      "  468  469  470  471  472  473  474  475  476  477  478  479  480  481\n",
      "  482  483  484  485  486  487  488  489  490  491  492  493  494  495\n",
      "  496  497  498  499  500  501  502  503  504  505  506  507  508  509\n",
      "  510  511  512  513  514  515  516  517  518  519  520  521  522  523\n",
      "  524  525  526  527  528  529  530  531  532  533  534  535  536  537\n",
      "  538  539  540  541  542  543  544  545  546  547  548  549  550  551\n",
      "  552  553  554  555  556  557  558  559  560  561  562  563  564  565\n",
      "  566  567  568  569  570  571  572  573  574  575  576  577  578  579\n",
      "  580  581  582  583  584  585  586  587  588  589  590  591  592  593\n",
      "  594  595  596  597  598  599  600  601  602  603  604  605  606  607\n",
      "  608  609  610  611  612  613  614  615  616  617  618  619  620  621\n",
      "  622  623  624  625  626  627  628  629  630  631  632  633  634  635\n",
      "  636  637  638  639  640  641  642  643  644  645  646  647  648  649\n",
      "  650  651  652  653  654  655  656  657  658  659  660  661  662  663\n",
      "  664  665  666  667  668  669  670  671  672  673  674  675  676  677\n",
      "  678  679  680  681  682  683  684  685  686  687  688  689  690  691\n",
      "  692  693  694  695  696  697  698  699  700  701  702  703  704  705\n",
      "  706  707  708  709  710  711  712  713  714  715  716  717  718  719\n",
      "  720  721  722  723  724  725  726  727  728  729  730  731  732  733\n",
      "  734  735  736  737  738  739  740  741  742  743  744  745  746  747\n",
      "  748  749  750  751  752  753  754  755  756  757  758  759  760  761\n",
      "  762  763  764  765  766  767  768  769  770  771  772  773  774  775\n",
      "  776  777  778  779  780  781  782  783  784  785  786  787  788  789\n",
      "  790  791  792  793  794  795  796  797  798  799  800  801  802  803\n",
      "  804  805  806  807  808  809  810  811  812  813  814  815  816  817\n",
      "  818  819  820  821  822  823  824  825  826  827  828  829  830  831\n",
      "  832  833  834  835  836  837  838  839  840  841  842  843  844  845\n",
      "  846  847  848  849  850  851  852  853  854  855  856  857  858  859\n",
      "  860  861  862  863  864  865  866  867  868  869  870  871  872  873\n",
      "  874  875  876  877  878  879  880  881  882  883  884  885  886  887\n",
      "  888  889  890  891  892  893  894  895  896  897  898  899  900  901\n",
      "  902  903  904  905  906  907  908  909  910  911  912  913  914  915\n",
      "  916  917  918  919  920  921  922  923  924  925  926  927  928  929\n",
      "  930  931  932  933  934  935  936  937  938  939  940  941  942  943\n",
      "  944  945  946  947  948  949  950  951  952  953  954  955  956  957\n",
      "  958  959  960  961  962  963  964  965  966  967  968  969  970  971\n",
      "  972  973  974  975  976  977  978  979  980  981  982  983  984  985\n",
      "  986  987  988  989  990  991  992  993  994  995  996  997  998  999\n",
      " 1000 1001 1002 1003 1004 1005 1006 1007 1008 1009 1010 1011 1012 1013\n",
      " 1014 1015 1016 1017 1018 1019 1020 1021 1022 1023] TEST: [  0   1   2   3   4   5   6   7   8   9  10  11  12  13  14  15  16  17\n",
      "  18  19  20  21  22  23  24  25  26  27  28  29  30  31  32  33  34  35\n",
      "  36  37  38  39  40  41  42  43  44  45  46  47  48  49  50  51  52  53\n",
      "  54  55  56  57  58  59  60  61  62  63  64  65  66  67  68  69  70  71\n",
      "  72  73  74  75  76  77  78  79  80  81  82  83  84  85  86  87  88  89\n",
      "  90  91  92  93  94  95  96  97  98  99 100 101 102 103 104 105 106 107\n",
      " 108 109 110 111 112 113 114 115 116 117 118 119 120 121 122 123 124 125\n",
      " 126 127 128 129 130 131 132 133 134 135 136 137 138 139 140 141 142 143\n",
      " 144 145 146 147 148 149 150 151 152 153 154 155 156 157 158 159 160 161\n",
      " 162 163 164 165 166 167 168 169 170 171 172 173 174 175 176 177 178 179\n",
      " 180 181 182 183 184 185 186 187 188 189 190 191 192 193 194 195 196 197\n",
      " 198 199 200 201 202 203 204 205 206 207 208 209 210 211 212 213 214 215\n",
      " 216 217 218 219 220 221 222 223 224 225 226 227 228 229 230 231 232 233\n",
      " 234 235 236 237 238 239 240 241 242 243 244 245 246 247 248 249 250 251\n",
      " 252 253 254 255 256 257 258 259 260 261 262 263 264 265 266 267 268 269\n",
      " 270 271 272 273 274 275 276 277 278 279 280 281 282 283 284 285 286 287\n",
      " 288 289 290 291 292 293 294 295 296 297 298 299 300 301 302 303 304 305\n",
      " 306 307 308 309 310 311 312 313 314 315 316 317 318 319 320 321 322 323\n",
      " 324 325 326 327 328 329 330 331 332 333 334 335 336 337 338 339 340 341]\n",
      "<class 'numpy.ndarray'>\n",
      "TRAIN: [   0    1    2    3    4    5    6    7    8    9   10   11   12   13\n",
      "   14   15   16   17   18   19   20   21   22   23   24   25   26   27\n",
      "   28   29   30   31   32   33   34   35   36   37   38   39   40   41\n",
      "   42   43   44   45   46   47   48   49   50   51   52   53   54   55\n",
      "   56   57   58   59   60   61   62   63   64   65   66   67   68   69\n",
      "   70   71   72   73   74   75   76   77   78   79   80   81   82   83\n",
      "   84   85   86   87   88   89   90   91   92   93   94   95   96   97\n",
      "   98   99  100  101  102  103  104  105  106  107  108  109  110  111\n",
      "  112  113  114  115  116  117  118  119  120  121  122  123  124  125\n",
      "  126  127  128  129  130  131  132  133  134  135  136  137  138  139\n",
      "  140  141  142  143  144  145  146  147  148  149  150  151  152  153\n",
      "  154  155  156  157  158  159  160  161  162  163  164  165  166  167\n",
      "  168  169  170  171  172  173  174  175  176  177  178  179  180  181\n",
      "  182  183  184  185  186  187  188  189  190  191  192  193  194  195\n",
      "  196  197  198  199  200  201  202  203  204  205  206  207  208  209\n",
      "  210  211  212  213  214  215  216  217  218  219  220  221  222  223\n",
      "  224  225  226  227  228  229  230  231  232  233  234  235  236  237\n",
      "  238  239  240  241  242  243  244  245  246  247  248  249  250  251\n",
      "  252  253  254  255  256  257  258  259  260  261  262  263  264  265\n",
      "  266  267  268  269  270  271  272  273  274  275  276  277  278  279\n",
      "  280  281  282  283  284  285  286  287  288  289  290  291  292  293\n",
      "  294  295  296  297  298  299  300  301  302  303  304  305  306  307\n",
      "  308  309  310  311  312  313  314  315  316  317  318  319  320  321\n",
      "  322  323  324  325  326  327  328  329  330  331  332  333  334  335\n",
      "  336  337  338  339  340  341  683  684  685  686  687  688  689  690\n",
      "  691  692  693  694  695  696  697  698  699  700  701  702  703  704\n",
      "  705  706  707  708  709  710  711  712  713  714  715  716  717  718\n",
      "  719  720  721  722  723  724  725  726  727  728  729  730  731  732\n",
      "  733  734  735  736  737  738  739  740  741  742  743  744  745  746\n",
      "  747  748  749  750  751  752  753  754  755  756  757  758  759  760\n",
      "  761  762  763  764  765  766  767  768  769  770  771  772  773  774\n",
      "  775  776  777  778  779  780  781  782  783  784  785  786  787  788\n",
      "  789  790  791  792  793  794  795  796  797  798  799  800  801  802\n",
      "  803  804  805  806  807  808  809  810  811  812  813  814  815  816\n",
      "  817  818  819  820  821  822  823  824  825  826  827  828  829  830\n",
      "  831  832  833  834  835  836  837  838  839  840  841  842  843  844\n",
      "  845  846  847  848  849  850  851  852  853  854  855  856  857  858\n",
      "  859  860  861  862  863  864  865  866  867  868  869  870  871  872\n",
      "  873  874  875  876  877  878  879  880  881  882  883  884  885  886\n",
      "  887  888  889  890  891  892  893  894  895  896  897  898  899  900\n",
      "  901  902  903  904  905  906  907  908  909  910  911  912  913  914\n",
      "  915  916  917  918  919  920  921  922  923  924  925  926  927  928\n",
      "  929  930  931  932  933  934  935  936  937  938  939  940  941  942\n",
      "  943  944  945  946  947  948  949  950  951  952  953  954  955  956\n",
      "  957  958  959  960  961  962  963  964  965  966  967  968  969  970\n",
      "  971  972  973  974  975  976  977  978  979  980  981  982  983  984\n",
      "  985  986  987  988  989  990  991  992  993  994  995  996  997  998\n",
      "  999 1000 1001 1002 1003 1004 1005 1006 1007 1008 1009 1010 1011 1012\n",
      " 1013 1014 1015 1016 1017 1018 1019 1020 1021 1022 1023] TEST: [342 343 344 345 346 347 348 349 350 351 352 353 354 355 356 357 358 359\n",
      " 360 361 362 363 364 365 366 367 368 369 370 371 372 373 374 375 376 377\n",
      " 378 379 380 381 382 383 384 385 386 387 388 389 390 391 392 393 394 395\n",
      " 396 397 398 399 400 401 402 403 404 405 406 407 408 409 410 411 412 413\n",
      " 414 415 416 417 418 419 420 421 422 423 424 425 426 427 428 429 430 431\n",
      " 432 433 434 435 436 437 438 439 440 441 442 443 444 445 446 447 448 449\n",
      " 450 451 452 453 454 455 456 457 458 459 460 461 462 463 464 465 466 467\n",
      " 468 469 470 471 472 473 474 475 476 477 478 479 480 481 482 483 484 485\n",
      " 486 487 488 489 490 491 492 493 494 495 496 497 498 499 500 501 502 503\n",
      " 504 505 506 507 508 509 510 511 512 513 514 515 516 517 518 519 520 521\n",
      " 522 523 524 525 526 527 528 529 530 531 532 533 534 535 536 537 538 539\n",
      " 540 541 542 543 544 545 546 547 548 549 550 551 552 553 554 555 556 557\n",
      " 558 559 560 561 562 563 564 565 566 567 568 569 570 571 572 573 574 575\n",
      " 576 577 578 579 580 581 582 583 584 585 586 587 588 589 590 591 592 593\n",
      " 594 595 596 597 598 599 600 601 602 603 604 605 606 607 608 609 610 611\n",
      " 612 613 614 615 616 617 618 619 620 621 622 623 624 625 626 627 628 629\n",
      " 630 631 632 633 634 635 636 637 638 639 640 641 642 643 644 645 646 647\n",
      " 648 649 650 651 652 653 654 655 656 657 658 659 660 661 662 663 664 665\n",
      " 666 667 668 669 670 671 672 673 674 675 676 677 678 679 680 681 682]\n",
      "<class 'numpy.ndarray'>\n",
      "TRAIN: [  0   1   2   3   4   5   6   7   8   9  10  11  12  13  14  15  16  17\n",
      "  18  19  20  21  22  23  24  25  26  27  28  29  30  31  32  33  34  35\n",
      "  36  37  38  39  40  41  42  43  44  45  46  47  48  49  50  51  52  53\n",
      "  54  55  56  57  58  59  60  61  62  63  64  65  66  67  68  69  70  71\n",
      "  72  73  74  75  76  77  78  79  80  81  82  83  84  85  86  87  88  89\n",
      "  90  91  92  93  94  95  96  97  98  99 100 101 102 103 104 105 106 107\n",
      " 108 109 110 111 112 113 114 115 116 117 118 119 120 121 122 123 124 125\n",
      " 126 127 128 129 130 131 132 133 134 135 136 137 138 139 140 141 142 143\n",
      " 144 145 146 147 148 149 150 151 152 153 154 155 156 157 158 159 160 161\n",
      " 162 163 164 165 166 167 168 169 170 171 172 173 174 175 176 177 178 179\n",
      " 180 181 182 183 184 185 186 187 188 189 190 191 192 193 194 195 196 197\n",
      " 198 199 200 201 202 203 204 205 206 207 208 209 210 211 212 213 214 215\n",
      " 216 217 218 219 220 221 222 223 224 225 226 227 228 229 230 231 232 233\n",
      " 234 235 236 237 238 239 240 241 242 243 244 245 246 247 248 249 250 251\n",
      " 252 253 254 255 256 257 258 259 260 261 262 263 264 265 266 267 268 269\n",
      " 270 271 272 273 274 275 276 277 278 279 280 281 282 283 284 285 286 287\n",
      " 288 289 290 291 292 293 294 295 296 297 298 299 300 301 302 303 304 305\n",
      " 306 307 308 309 310 311 312 313 314 315 316 317 318 319 320 321 322 323\n",
      " 324 325 326 327 328 329 330 331 332 333 334 335 336 337 338 339 340 341\n",
      " 342 343 344 345 346 347 348 349 350 351 352 353 354 355 356 357 358 359\n",
      " 360 361 362 363 364 365 366 367 368 369 370 371 372 373 374 375 376 377\n",
      " 378 379 380 381 382 383 384 385 386 387 388 389 390 391 392 393 394 395\n",
      " 396 397 398 399 400 401 402 403 404 405 406 407 408 409 410 411 412 413\n",
      " 414 415 416 417 418 419 420 421 422 423 424 425 426 427 428 429 430 431\n",
      " 432 433 434 435 436 437 438 439 440 441 442 443 444 445 446 447 448 449\n",
      " 450 451 452 453 454 455 456 457 458 459 460 461 462 463 464 465 466 467\n",
      " 468 469 470 471 472 473 474 475 476 477 478 479 480 481 482 483 484 485\n",
      " 486 487 488 489 490 491 492 493 494 495 496 497 498 499 500 501 502 503\n",
      " 504 505 506 507 508 509 510 511 512 513 514 515 516 517 518 519 520 521\n",
      " 522 523 524 525 526 527 528 529 530 531 532 533 534 535 536 537 538 539\n",
      " 540 541 542 543 544 545 546 547 548 549 550 551 552 553 554 555 556 557\n",
      " 558 559 560 561 562 563 564 565 566 567 568 569 570 571 572 573 574 575\n",
      " 576 577 578 579 580 581 582 583 584 585 586 587 588 589 590 591 592 593\n",
      " 594 595 596 597 598 599 600 601 602 603 604 605 606 607 608 609 610 611\n",
      " 612 613 614 615 616 617 618 619 620 621 622 623 624 625 626 627 628 629\n",
      " 630 631 632 633 634 635 636 637 638 639 640 641 642 643 644 645 646 647\n",
      " 648 649 650 651 652 653 654 655 656 657 658 659 660 661 662 663 664 665\n",
      " 666 667 668 669 670 671 672 673 674 675 676 677 678 679 680 681 682] TEST: [ 683  684  685  686  687  688  689  690  691  692  693  694  695  696\n",
      "  697  698  699  700  701  702  703  704  705  706  707  708  709  710\n",
      "  711  712  713  714  715  716  717  718  719  720  721  722  723  724\n",
      "  725  726  727  728  729  730  731  732  733  734  735  736  737  738\n",
      "  739  740  741  742  743  744  745  746  747  748  749  750  751  752\n",
      "  753  754  755  756  757  758  759  760  761  762  763  764  765  766\n",
      "  767  768  769  770  771  772  773  774  775  776  777  778  779  780\n",
      "  781  782  783  784  785  786  787  788  789  790  791  792  793  794\n",
      "  795  796  797  798  799  800  801  802  803  804  805  806  807  808\n",
      "  809  810  811  812  813  814  815  816  817  818  819  820  821  822\n",
      "  823  824  825  826  827  828  829  830  831  832  833  834  835  836\n",
      "  837  838  839  840  841  842  843  844  845  846  847  848  849  850\n",
      "  851  852  853  854  855  856  857  858  859  860  861  862  863  864\n",
      "  865  866  867  868  869  870  871  872  873  874  875  876  877  878\n",
      "  879  880  881  882  883  884  885  886  887  888  889  890  891  892\n",
      "  893  894  895  896  897  898  899  900  901  902  903  904  905  906\n",
      "  907  908  909  910  911  912  913  914  915  916  917  918  919  920\n",
      "  921  922  923  924  925  926  927  928  929  930  931  932  933  934\n",
      "  935  936  937  938  939  940  941  942  943  944  945  946  947  948\n",
      "  949  950  951  952  953  954  955  956  957  958  959  960  961  962\n",
      "  963  964  965  966  967  968  969  970  971  972  973  974  975  976\n",
      "  977  978  979  980  981  982  983  984  985  986  987  988  989  990\n",
      "  991  992  993  994  995  996  997  998  999 1000 1001 1002 1003 1004\n",
      " 1005 1006 1007 1008 1009 1010 1011 1012 1013 1014 1015 1016 1017 1018\n",
      " 1019 1020 1021 1022 1023]\n",
      "<class 'numpy.ndarray'>\n"
     ]
    }
   ],
   "source": [
    "# Shffle Split Method\n",
    "#cv = ShuffleSplit(n_splits=10, test_size=.25, random_state=0)\n",
    "kf = KFold(n_splits=3)\n",
    "\n",
    "train_indices_array_list = []\n",
    "test_indices_array_list = []\n",
    "\n",
    "'''\n",
    "for train_index, test_index in cv.split(x_train_list):\n",
    "    print(\"TRAIN:\", train_index, \"TEST:\", test_index)\n",
    "    print(type(train_index))\n",
    "    \n",
    "'''\n",
    "\n",
    "for train_indices, test_indices in kf.split(x_sample_list):\n",
    "    print(\"TRAIN:\", train_indices, \"TEST:\", test_indices)\n",
    "    print(type(train_indices))\n",
    "    \n",
    "    train_indices_array_list.append(train_indices)\n",
    "    test_indices_array_list.append(test_indices)\n",
    "    "
   ]
  },
  {
   "cell_type": "code",
   "execution_count": 13,
   "metadata": {},
   "outputs": [
    {
     "data": {
      "text/plain": [
       "3"
      ]
     },
     "execution_count": 13,
     "metadata": {},
     "output_type": "execute_result"
    }
   ],
   "source": [
    "len(train_indices_array_list)"
   ]
  },
  {
   "cell_type": "code",
   "execution_count": 17,
   "metadata": {},
   "outputs": [
    {
     "data": {
      "text/plain": [
       "array([[126.61016949, 131.94915254, 133.        , ..., 129.        ,\n",
       "        127.6779661 , 128.06779661],\n",
       "       [112.62820513, 113.38461538, 113.23076923, ..., 128.17948718,\n",
       "        128.62820513, 128.29487179],\n",
       "       [112.66666667, 114.49122807, 117.1754386 , ..., 124.84210526,\n",
       "        124.42105263, 124.1754386 ],\n",
       "       ...,\n",
       "       [132.72413793, 130.87931034, 129.9137931 , ..., 105.79310345,\n",
       "        105.77586207, 107.56896552],\n",
       "       [132.18918919, 131.59459459, 132.02702703, ..., 116.21621622,\n",
       "        118.2972973 , 118.81081081],\n",
       "       [140.06849315, 137.36986301, 135.28767123, ..., 100.90410959,\n",
       "        100.15068493, 102.12328767]])"
      ]
     },
     "execution_count": 17,
     "metadata": {},
     "output_type": "execute_result"
    }
   ],
   "source": [
    "np.array(x_sample_list)[list(train_indices_array_list[0])]"
   ]
  },
  {
   "cell_type": "markdown",
   "metadata": {},
   "source": [
    "### Training"
   ]
  },
  {
   "cell_type": "code",
   "execution_count": 10,
   "metadata": {},
   "outputs": [],
   "source": [
    "start = time.time()\n",
    "\n",
    "X_train = np.array(x_train_list)\n",
    "y_train = np.array(y_train_list)\n",
    "\n",
    "# linear kernel\n",
    "clf = svm.SVC(kernel='linear', decision_function_shape='ovo')\n",
    "clf.fit(X_train, y_train)\n",
    "\n",
    "end = time.time()"
   ]
  },
  {
   "cell_type": "code",
   "execution_count": 8,
   "metadata": {},
   "outputs": [
    {
     "name": "stdout",
     "output_type": "stream",
     "text": [
      "161.72578048706055\n"
     ]
    }
   ],
   "source": [
    "print(end - start)"
   ]
  },
  {
   "cell_type": "markdown",
   "metadata": {},
   "source": [
    "### Prediction"
   ]
  },
  {
   "cell_type": "code",
   "execution_count": null,
   "metadata": {},
   "outputs": [],
   "source": [
    "print('w = ',clf.coef_)\n",
    "print('b = ',clf.intercept_)\n",
    "print('Indices of support vectors = ', clf.support_)\n",
    "print('Support vectors = ', clf.support_vectors_)\n",
    "print('Number of support vectors for each class = ', clf.n_support_)\n",
    "print('Coefficients of the support vector in the decision function = ', np.abs(clf.dual_coef_))"
   ]
  },
  {
   "cell_type": "code",
   "execution_count": null,
   "metadata": {},
   "outputs": [],
   "source": [
    "pathBase = 'I://Chuan//Documents//MyData//NormalCAG//CoroBase//Arrangement//test//'\n",
    "#pathBase = 'E://Chuan//Documents//Database//DICOM//CoroBase//Arrangement//test//'\n",
    "\n",
    "theWhole = {}\n",
    "\n",
    "f = []\n",
    "f_LCA_Caudal = []\n",
    "mypath_LCA_Caudal = pathBase + 'LCA_Caudal'\n",
    "for (dirpath, dirnames, filenames) in walk(mypath_LCA_Caudal):\n",
    "    f.extend(filenames)\n",
    "for l in f:\n",
    "    f_LCA_Caudal.append(mypath_LCA_Caudal + '\\\\' + l) \n",
    "    \n",
    "f = []\n",
    "f_LCA_Cranial = []\n",
    "mypath_LCA_Cranial = pathBase + 'LCA_Cranial'\n",
    "for (dirpath, dirnames, filenames) in walk(mypath_LCA_Cranial):\n",
    "    f.extend(filenames)\n",
    "for l in f:\n",
    "    f_LCA_Cranial.append(mypath_LCA_Cranial + '\\\\' + l) \n",
    "    \n",
    "f = []\n",
    "f_LCA_Cranial_LAO = []\n",
    "mypath_LCA_Cranial_LAO = pathBase + 'LCA_Cranial_LAO'\n",
    "for (dirpath, dirnames, filenames) in walk(mypath_LCA_Cranial_LAO):\n",
    "    f.extend(filenames)\n",
    "for l in f:\n",
    "    f_LCA_Cranial_LAO.append(mypath_LCA_Cranial_LAO + '\\\\' + l) \n",
    "    \n",
    "    \n",
    "f = []\n",
    "f_LCA_Cranial_RAO = []\n",
    "mypath_LCA_Cranial_RAO = pathBase + 'LCA_Cranial_RAO'\n",
    "for (dirpath, dirnames, filenames) in walk(mypath_LCA_Cranial_RAO):\n",
    "    f.extend(filenames)\n",
    "for l in f:\n",
    "    f_LCA_Cranial_RAO.append(mypath_LCA_Cranial_RAO + '\\\\' + l) \n",
    "    \n",
    "f = []\n",
    "f_LCA_Spider = []\n",
    "mypath_LCA_Spider = pathBase + 'LCA_Spider'\n",
    "for (dirpath, dirnames, filenames) in walk(mypath_LCA_Spider):\n",
    "    f.extend(filenames)\n",
    "for l in f:\n",
    "    f_LCA_Spider.append(mypath_LCA_Spider + '\\\\' + l) \n",
    "    \n",
    "f = []\n",
    "f_RCA_Cranial = []\n",
    "mypath_RCA_Cranial = pathBase + 'RCA_Cranial'\n",
    "for (dirpath, dirnames, filenames) in walk(mypath_RCA_Cranial):\n",
    "    f.extend(filenames)\n",
    "for l in f:\n",
    "    f_RCA_Cranial.append(mypath_RCA_Cranial + '\\\\' + l) \n",
    "    \n",
    "f = []\n",
    "f_RCA_LAO = []\n",
    "mypath_RCA_LAO = pathBase + 'RCA_LAO'\n",
    "for (dirpath, dirnames, filenames) in walk(mypath_RCA_LAO):\n",
    "    f.extend(filenames)\n",
    "for l in f:\n",
    "    f_RCA_LAO.append(mypath_RCA_LAO + '\\\\' + l) \n",
    "    \n",
    "\n",
    "theWhole['LCA_Caudal'] = f_LCA_Caudal\n",
    "theWhole['LCA_Cranial'] = f_LCA_Cranial\n",
    "theWhole['LCA_Cranial_LAO'] = f_LCA_Cranial_LAO\n",
    "theWhole['LCA_Cranial_RAO'] = f_LCA_Cranial_RAO\n",
    "theWhole['LCA_Spider'] = f_LCA_Spider\n",
    "theWhole['RCA_Cranial'] = f_RCA_Cranial\n",
    "theWhole['RCA_LAO'] = f_RCA_LAO"
   ]
  },
  {
   "cell_type": "code",
   "execution_count": null,
   "metadata": {},
   "outputs": [],
   "source": [
    "start = time.time()\n",
    "\n",
    "array = {}\n",
    "i = 0\n",
    "\n",
    "for view in theWhole.keys():\n",
    "    array[view] = []\n",
    "    for case in theWhole[view]:\n",
    "        if case.split('.')[-1] == 'npy':\n",
    "            arr = np.load(case)\n",
    "            array[view].append(arr)\n",
    "\n",
    "end = time.time()\n",
    "print(end - start)"
   ]
  },
  {
   "cell_type": "markdown",
   "metadata": {},
   "source": [
    "### 2D to 1D"
   ]
  },
  {
   "cell_type": "code",
   "execution_count": null,
   "metadata": {},
   "outputs": [],
   "source": [
    "array_flat = {}\n",
    "\n",
    "for view in array.keys():\n",
    "    array_flat[view] = []\n",
    "    for case in array[view]:\n",
    "        case_flat = []\n",
    "        for row in case:\n",
    "            for column in row:\n",
    "                case_flat.append(column)            \n",
    "        array_flat[view].append(case_flat)"
   ]
  },
  {
   "cell_type": "code",
   "execution_count": null,
   "metadata": {},
   "outputs": [],
   "source": [
    "x_test_list = []\n",
    "y_test_list = []\n",
    "\n",
    "for y, x in array_flat.items():    \n",
    "    for x_item in x:\n",
    "        x_test_list.append(x_item)\n",
    "        y_test_list.append(y)"
   ]
  },
  {
   "cell_type": "code",
   "execution_count": null,
   "metadata": {},
   "outputs": [],
   "source": [
    "X_test = np.array(x_test_list)\n",
    "y_test = np.array(y_test_list)"
   ]
  },
  {
   "cell_type": "markdown",
   "metadata": {},
   "source": [
    "## Performance Measures"
   ]
  },
  {
   "cell_type": "code",
   "execution_count": null,
   "metadata": {},
   "outputs": [],
   "source": [
    "y_predict = clf.predict(X_test)\n",
    "y_test = y_test"
   ]
  },
  {
   "cell_type": "code",
   "execution_count": null,
   "metadata": {},
   "outputs": [],
   "source": [
    "y_predict"
   ]
  },
  {
   "cell_type": "code",
   "execution_count": null,
   "metadata": {},
   "outputs": [],
   "source": [
    "y_test"
   ]
  },
  {
   "cell_type": "markdown",
   "metadata": {},
   "source": [
    "### Confusion Matrix (混淆矩阵)"
   ]
  },
  {
   "cell_type": "code",
   "execution_count": null,
   "metadata": {
    "scrolled": true
   },
   "outputs": [],
   "source": [
    "cm = np.array(confusion_matrix(y_test, y_predict, labels=['LCA_Caudal', 'LCA_Cranial', \n",
    "                                                          'LCA_Cranial_LAO', 'LCA_Cranial_RAO', \n",
    "                                                          'LCA_Spider', \n",
    "                                                          'RCA_Cranial', 'RCA_LAO']))\n",
    "confusion = pd.DataFrame(cm, index=['LCA_Caudal', 'LCA_Cranial', \n",
    "                                    'LCA_Cranial_LAO', 'LCA_Cranial_RAO', 'LCA_Spider',\n",
    "                                    'RCA_Cranial', 'RCA_LAO'],\n",
    "                        columns=['Predictive LCA_Caudal', 'Predictive LCA_Cranial',\n",
    "                                 'Predictive LCA_Cranial_LAO', 'Predictive LCA_Cranial_RAO',\n",
    "                                 'Predictive LCA_Spider',\n",
    "                                    'Predictive RCA_Cranial', 'Predictive RCA_LAO'])\n",
    "confusion.to_csv('ConfusionMatrix.csv')\n",
    "confusion"
   ]
  },
  {
   "cell_type": "code",
   "execution_count": null,
   "metadata": {
    "scrolled": true
   },
   "outputs": [],
   "source": [
    "print(classification_report(y_test, y_predict))"
   ]
  },
  {
   "cell_type": "markdown",
   "metadata": {},
   "source": [
    "## Save the Model"
   ]
  },
  {
   "cell_type": "code",
   "execution_count": null,
   "metadata": {},
   "outputs": [],
   "source": [
    "c = joblib.dump(clf, 'trained_model.m')\n",
    "print(c)"
   ]
  },
  {
   "cell_type": "markdown",
   "metadata": {},
   "source": [
    "## Load the Model"
   ]
  },
  {
   "cell_type": "code",
   "execution_count": null,
   "metadata": {},
   "outputs": [],
   "source": [
    "d = joblib.load('trained_model.m')\n",
    "print(d)"
   ]
  }
 ],
 "metadata": {
  "kernelspec": {
   "display_name": "Python 3",
   "language": "python",
   "name": "python3"
  },
  "language_info": {
   "codemirror_mode": {
    "name": "ipython",
    "version": 3
   },
   "file_extension": ".py",
   "mimetype": "text/x-python",
   "name": "python",
   "nbconvert_exporter": "python",
   "pygments_lexer": "ipython3",
   "version": "3.7.3"
  }
 },
 "nbformat": 4,
 "nbformat_minor": 2
}
