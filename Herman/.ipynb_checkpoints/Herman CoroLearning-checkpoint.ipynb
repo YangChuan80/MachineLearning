{
 "cells": [
  {
   "cell_type": "code",
   "execution_count": 1,
   "metadata": {},
   "outputs": [],
   "source": [
    "from PIL import Image\n",
    "import numpy as np\n",
    "import pandas as pd\n",
    "import matplotlib.pyplot as plt\n",
    "\n",
    "\n",
    "from sklearn import svm\n",
    "from sklearn.metrics import classification_report, confusion_matrix\n",
    "import joblib\n",
    "from os import walk\n",
    "\n",
    "import time\n",
    "\n",
    "%matplotlib inline"
   ]
  },
  {
   "cell_type": "code",
   "execution_count": 2,
   "metadata": {},
   "outputs": [],
   "source": [
    "pathBase = 'I://Chuan//Documents//MyData//NormalCAG//CoroBase//Arrangement//'\n",
    "#pathBase = 'E://Chuan//Documents//Database//DICOM//CoroBase//Arrangement//'\n",
    "\n",
    "theWhole = {}\n",
    "\n",
    "f = []\n",
    "f_LCA_Caudal = []\n",
    "mypath_LCA_Caudal = pathBase + 'LCA_Caudal'\n",
    "for (dirpath, dirnames, filenames) in walk(mypath_LCA_Caudal):\n",
    "    f.extend(filenames)\n",
    "for l in f:\n",
    "    f_LCA_Caudal.append(mypath_LCA_Caudal + '\\\\' + l) \n",
    "    \n",
    "f = []\n",
    "f_LCA_Cranial = []\n",
    "mypath_LCA_Cranial = pathBase + 'LCA_Cranial'\n",
    "for (dirpath, dirnames, filenames) in walk(mypath_LCA_Cranial):\n",
    "    f.extend(filenames)\n",
    "for l in f:\n",
    "    f_LCA_Cranial.append(mypath_LCA_Cranial + '\\\\' + l) \n",
    "    \n",
    "f = []\n",
    "f_LCA_Cranial_LAO = []\n",
    "mypath_LCA_Cranial_LAO = pathBase + 'LCA_Cranial_LAO'\n",
    "for (dirpath, dirnames, filenames) in walk(mypath_LCA_Cranial_LAO):\n",
    "    f.extend(filenames)\n",
    "for l in f:\n",
    "    f_LCA_Cranial_LAO.append(mypath_LCA_Cranial_LAO + '\\\\' + l) \n",
    "    \n",
    "    \n",
    "f = []\n",
    "f_LCA_Cranial_RAO = []\n",
    "mypath_LCA_Cranial_RAO = pathBase + 'LCA_Cranial_RAO'\n",
    "for (dirpath, dirnames, filenames) in walk(mypath_LCA_Cranial_RAO):\n",
    "    f.extend(filenames)\n",
    "for l in f:\n",
    "    f_LCA_Cranial_RAO.append(mypath_LCA_Cranial_RAO + '\\\\' + l) \n",
    "    \n",
    "f = []\n",
    "f_LCA_Spider = []\n",
    "mypath_LCA_Spider = pathBase + 'LCA_Spider'\n",
    "for (dirpath, dirnames, filenames) in walk(mypath_LCA_Spider):\n",
    "    f.extend(filenames)\n",
    "for l in f:\n",
    "    f_LCA_Spider.append(mypath_LCA_Spider + '\\\\' + l) \n",
    "    \n",
    "f = []\n",
    "f_RCA_Cranial = []\n",
    "mypath_RCA_Cranial = pathBase + 'RCA_Cranial'\n",
    "for (dirpath, dirnames, filenames) in walk(mypath_RCA_Cranial):\n",
    "    f.extend(filenames)\n",
    "for l in f:\n",
    "    f_RCA_Cranial.append(mypath_RCA_Cranial + '\\\\' + l) \n",
    "    \n",
    "f = []\n",
    "f_RCA_LAO = []\n",
    "mypath_RCA_LAO = pathBase + 'RCA_LAO'\n",
    "for (dirpath, dirnames, filenames) in walk(mypath_RCA_LAO):\n",
    "    f.extend(filenames)\n",
    "for l in f:\n",
    "    f_RCA_LAO.append(mypath_RCA_LAO + '\\\\' + l) \n",
    "    \n",
    "\n",
    "theWhole['LCA_Caudal'] = f_LCA_Caudal\n",
    "theWhole['LCA_Cranial'] = f_LCA_Cranial\n",
    "theWhole['LCA_Cranial_LAO'] = f_LCA_Cranial_LAO\n",
    "theWhole['LCA_Cranial_RAO'] = f_LCA_Cranial_RAO\n",
    "theWhole['LCA_Spider'] = f_LCA_Spider\n",
    "theWhole['RCA_Cranial'] = f_RCA_Cranial\n",
    "theWhole['RCA_LAO'] = f_RCA_LAO"
   ]
  },
  {
   "cell_type": "code",
   "execution_count": 3,
   "metadata": {},
   "outputs": [
    {
     "data": {
      "text/plain": [
       "'npy'"
      ]
     },
     "execution_count": 3,
     "metadata": {},
     "output_type": "execute_result"
    }
   ],
   "source": [
    "theWhole['LCA_Cranial_LAO'][1].split('.')[-1]"
   ]
  },
  {
   "cell_type": "code",
   "execution_count": 4,
   "metadata": {},
   "outputs": [
    {
     "name": "stdout",
     "output_type": "stream",
     "text": [
      "31.315470933914185\n"
     ]
    }
   ],
   "source": [
    "start = time.time()\n",
    "\n",
    "array = {}\n",
    "i = 0\n",
    "\n",
    "for view in theWhole.keys():\n",
    "    array[view] = []\n",
    "    for case in theWhole[view]:\n",
    "        if case.split('.')[-1] == 'npy':\n",
    "            arr = np.load(case)\n",
    "            array[view].append(arr)\n",
    "\n",
    "end = time.time()\n",
    "print(end - start)"
   ]
  },
  {
   "cell_type": "markdown",
   "metadata": {},
   "source": [
    "### 2D to 1D"
   ]
  },
  {
   "cell_type": "code",
   "execution_count": 5,
   "metadata": {},
   "outputs": [],
   "source": [
    "array_flat = {}\n",
    "\n",
    "for view in array.keys():\n",
    "    array_flat[view] = []\n",
    "    for case in array[view]:\n",
    "        case_flat = []\n",
    "        for row in case:\n",
    "            for column in row:\n",
    "                case_flat.append(column)            \n",
    "        array_flat[view].append(case_flat)"
   ]
  },
  {
   "cell_type": "markdown",
   "metadata": {},
   "source": [
    "## Support Vector Classification"
   ]
  },
  {
   "cell_type": "code",
   "execution_count": 6,
   "metadata": {},
   "outputs": [],
   "source": [
    "x_train_list = []\n",
    "y_train_list = []\n",
    "\n",
    "for y, x in array_flat.items():    \n",
    "    for x_item in x:\n",
    "        x_train_list.append(x_item)\n",
    "        y_train_list.append(y)"
   ]
  },
  {
   "cell_type": "markdown",
   "metadata": {},
   "source": [
    "### Training"
   ]
  },
  {
   "cell_type": "code",
   "execution_count": 7,
   "metadata": {},
   "outputs": [],
   "source": [
    "start = time.time()\n",
    "\n",
    "X_train = np.array(x_train_list)\n",
    "y_train = np.array(y_train_list)\n",
    "\n",
    "# linear kernel\n",
    "clf = svm.SVC(kernel='linear', decision_function_shape='ovo')\n",
    "clf.fit(X_train, y_train)\n",
    "\n",
    "end = time.time()"
   ]
  },
  {
   "cell_type": "code",
   "execution_count": 8,
   "metadata": {},
   "outputs": [
    {
     "name": "stdout",
     "output_type": "stream",
     "text": [
      "173.13740396499634\n"
     ]
    }
   ],
   "source": [
    "print(end - start)"
   ]
  },
  {
   "cell_type": "markdown",
   "metadata": {},
   "source": [
    "### Prediction"
   ]
  },
  {
   "cell_type": "code",
   "execution_count": 9,
   "metadata": {},
   "outputs": [
    {
     "name": "stdout",
     "output_type": "stream",
     "text": [
      "w =  [[ 7.08130534e-06  6.13314087e-06  6.31875100e-06 ... -1.01573646e-05\n",
      "  -9.66056339e-06 -9.20765014e-06]\n",
      " [ 3.49694197e-06  2.79625010e-06  2.48260553e-06 ...  1.03522090e-06\n",
      "   1.28006160e-06  1.93478170e-06]\n",
      " [ 1.37022118e-05  1.44155496e-05  1.53043417e-05 ... -5.07373431e-06\n",
      "  -3.02105535e-06 -5.16711782e-07]\n",
      " ...\n",
      " [-4.00331607e-06 -4.88550162e-06 -5.46648564e-06 ... -4.48020070e-06\n",
      "  -3.45413921e-06 -2.47040083e-06]\n",
      " [-3.83600767e-06 -3.67061497e-06 -3.33402769e-06 ... -5.02562052e-07\n",
      "  -3.78786510e-07 -3.54658762e-07]\n",
      " [-1.87617886e-06  1.28864241e-06  3.31108760e-06 ... -5.66576013e-06\n",
      "  -6.41181350e-06 -7.88008620e-06]]\n",
      "b =  [-1.12462345 -0.1364106  -5.44549182 -5.36657937 -2.26967678 -1.2416585\n",
      "  4.62759027  0.54803909 -1.59402824  3.06290445 -1.38301444 -1.719518\n",
      " -0.19473111 -2.61264429 -3.28946715 -0.90985614  2.61930717  0.10800616\n",
      " -7.06140427 -5.47009339 -1.56972861]\n",
      "Indices of support vectors =  [  1   3   4   7   9  11  12  13  14  18  19  21  22  24  28  30  32  33\n",
      "  34  36  37  39  40  45  46  49  50  52  54  55  56  61  62  64  65  69\n",
      "  70  73  75  76  79  80  81  83  84  85  87  88  91  94  95  99 101 103\n",
      " 104 110 113 114 117 118 120 125 126 127 128 131 133 134 136 138 139 142\n",
      " 143 147 148 151 153 155 156 163 164 165 166 168 169 170 171 172 173 174\n",
      " 175 176 177 179 181 182 183 185 188 189 190 191 192 193 194 195 196 197\n",
      " 198 202 203 206 208 209 210 211 212 213 215 216 217 218 219 220 221 222\n",
      " 223 224 226 227 228 229 231 232 233 234 235 236 237 238 239 240 244 246\n",
      " 247 248 249 250 252 253 254 255 256 257 259 261 263 264 265 267 268 269\n",
      " 272 273 274 275 276 279 280 282 284 285 286 287 288 289 290 291 293 294\n",
      " 295 298 299 300 301 302 303 304 305 306 307 308 309 310 311 312 314 315\n",
      " 316 317 318 320 321 322 323 324 325 326 327 328 329 330 331 332 333 334\n",
      " 335 336 337 338 339 340 341 342 343 344 345 346 347 348 349 351 352 354\n",
      " 355 356 357 359 360 361 362 363 364 365 366 368 369 370 371 372 373 374\n",
      " 375 376 377 378 379 381 384 386 387 390 391 393 396 397 398 399 400 401\n",
      " 403 404 405 410 411 413 414 415 420 421 423 426 428 429 430 431 433 434\n",
      " 435 440 441 442 443 445 447 448 451 452 454 455 456 457 459 460 461 464\n",
      " 465 468 470 472 473 474 478 480 482 483 484 485 487 488 491 492 495 499\n",
      " 500 501 502 503 504 505 507 508 509 512 514 516 517 518 520 521 522 526\n",
      " 527 528 529 531 532 534 535 536 543 544 549 550 553 555 557 558 559 561\n",
      " 564 568 569 570 571 572 573 574 576 579 580 581 582 584 585 590 591 594\n",
      " 595 596 599 604 605 606 607 608 609 610 614 620 621 623 624 626 628 633\n",
      " 638 641 643 645 646 647 650 658 659 661 662 666 669 670 674 677 679 680\n",
      " 681 683 684 686 689 690 692 694 696 697 698 699 700 701 702 703 704 705\n",
      " 706 707 708 709 711 712 713 714 717 718 719 721 722 723 724 726 727 730\n",
      " 732 733 734 735 738 739 742 743 744 747 749 751 752 754 755 757 761 762\n",
      " 763 766 767 768 769 770 771 772 773 774 775 777 780 782 783 785 789 790\n",
      " 791 792 793 794 796 797 800 801 806 811 812 813 814 815 817 818 819 820\n",
      " 822 823 831 832 833 835 840 841 844 845 853 854 857 860 861 866 867 868\n",
      " 869 875 876 877 878 879 880 881 882 883 889 903 905 907 909 916 920 922\n",
      " 923 926 935 940 945 946]\n",
      "Support vectors =  [[ 95.86956522  95.39130435  96.63043478 ... 114.69565217 115.04347826\n",
      "  119.19565217]\n",
      " [106.02985075 101.65671642 100.31343284 ...  98.8358209   98.46268657\n",
      "  101.64179104]\n",
      " [111.21348315 109.74157303 105.84269663 ... 101.86516854 102.79775281\n",
      "  102.20224719]\n",
      " ...\n",
      " [ 97.         101.7260274  106.32876712 ... 103.80821918 104.23287671\n",
      "  105.57534247]\n",
      " [132.72413793 130.87931034 129.9137931  ... 105.79310345 105.77586207\n",
      "  107.56896552]\n",
      " [132.18918919 131.59459459 132.02702703 ... 116.21621622 118.2972973\n",
      "  118.81081081]]\n",
      "Number of support vectors for each class =  [ 80 101  74  80  73  79  59]\n",
      "Coefficients of the support vector in the decision function =  [[0.00000000e+00 0.00000000e+00 0.00000000e+00 ... 0.00000000e+00\n",
      "  0.00000000e+00 9.48050667e-10]\n",
      " [7.47799712e-09 9.55883315e-09 0.00000000e+00 ... 0.00000000e+00\n",
      "  0.00000000e+00 2.74995379e-08]\n",
      " [6.80832772e-08 0.00000000e+00 3.99390809e-08 ... 0.00000000e+00\n",
      "  0.00000000e+00 2.91535284e-09]\n",
      " [0.00000000e+00 0.00000000e+00 0.00000000e+00 ... 0.00000000e+00\n",
      "  0.00000000e+00 1.20025044e-09]\n",
      " [2.43890018e-08 0.00000000e+00 0.00000000e+00 ... 0.00000000e+00\n",
      "  0.00000000e+00 2.11553263e-08]\n",
      " [1.13256443e-08 0.00000000e+00 0.00000000e+00 ... 3.93794251e-08\n",
      "  7.12382676e-09 1.00000000e+00]]\n"
     ]
    }
   ],
   "source": [
    "print('w = ',clf.coef_)\n",
    "print('b = ',clf.intercept_)\n",
    "print('Indices of support vectors = ', clf.support_)\n",
    "print('Support vectors = ', clf.support_vectors_)\n",
    "print('Number of support vectors for each class = ', clf.n_support_)\n",
    "print('Coefficients of the support vector in the decision function = ', np.abs(clf.dual_coef_))"
   ]
  },
  {
   "cell_type": "code",
   "execution_count": 10,
   "metadata": {},
   "outputs": [],
   "source": [
    "pathBase = 'I://Chuan//Documents//MyData//NormalCAG//CoroBase//Arrangement//test//'\n",
    "#pathBase = 'E://Chuan//Documents//Database//DICOM//CoroBase//Arrangement//test//'\n",
    "\n",
    "theWhole = {}\n",
    "\n",
    "f = []\n",
    "f_LCA_Caudal = []\n",
    "mypath_LCA_Caudal = pathBase + 'LCA_Caudal'\n",
    "for (dirpath, dirnames, filenames) in walk(mypath_LCA_Caudal):\n",
    "    f.extend(filenames)\n",
    "for l in f:\n",
    "    f_LCA_Caudal.append(mypath_LCA_Caudal + '\\\\' + l) \n",
    "    \n",
    "f = []\n",
    "f_LCA_Cranial = []\n",
    "mypath_LCA_Cranial = pathBase + 'LCA_Cranial'\n",
    "for (dirpath, dirnames, filenames) in walk(mypath_LCA_Cranial):\n",
    "    f.extend(filenames)\n",
    "for l in f:\n",
    "    f_LCA_Cranial.append(mypath_LCA_Cranial + '\\\\' + l) \n",
    "    \n",
    "f = []\n",
    "f_LCA_Cranial_LAO = []\n",
    "mypath_LCA_Cranial_LAO = pathBase + 'LCA_Cranial_LAO'\n",
    "for (dirpath, dirnames, filenames) in walk(mypath_LCA_Cranial_LAO):\n",
    "    f.extend(filenames)\n",
    "for l in f:\n",
    "    f_LCA_Cranial_LAO.append(mypath_LCA_Cranial_LAO + '\\\\' + l) \n",
    "    \n",
    "    \n",
    "f = []\n",
    "f_LCA_Cranial_RAO = []\n",
    "mypath_LCA_Cranial_RAO = pathBase + 'LCA_Cranial_RAO'\n",
    "for (dirpath, dirnames, filenames) in walk(mypath_LCA_Cranial_RAO):\n",
    "    f.extend(filenames)\n",
    "for l in f:\n",
    "    f_LCA_Cranial_RAO.append(mypath_LCA_Cranial_RAO + '\\\\' + l) \n",
    "    \n",
    "f = []\n",
    "f_LCA_Spider = []\n",
    "mypath_LCA_Spider = pathBase + 'LCA_Spider'\n",
    "for (dirpath, dirnames, filenames) in walk(mypath_LCA_Spider):\n",
    "    f.extend(filenames)\n",
    "for l in f:\n",
    "    f_LCA_Spider.append(mypath_LCA_Spider + '\\\\' + l) \n",
    "    \n",
    "f = []\n",
    "f_RCA_Cranial = []\n",
    "mypath_RCA_Cranial = pathBase + 'RCA_Cranial'\n",
    "for (dirpath, dirnames, filenames) in walk(mypath_RCA_Cranial):\n",
    "    f.extend(filenames)\n",
    "for l in f:\n",
    "    f_RCA_Cranial.append(mypath_RCA_Cranial + '\\\\' + l) \n",
    "    \n",
    "f = []\n",
    "f_RCA_LAO = []\n",
    "mypath_RCA_LAO = pathBase + 'RCA_LAO'\n",
    "for (dirpath, dirnames, filenames) in walk(mypath_RCA_LAO):\n",
    "    f.extend(filenames)\n",
    "for l in f:\n",
    "    f_RCA_LAO.append(mypath_RCA_LAO + '\\\\' + l) \n",
    "    \n",
    "\n",
    "theWhole['LCA_Caudal'] = f_LCA_Caudal\n",
    "theWhole['LCA_Cranial'] = f_LCA_Cranial\n",
    "theWhole['LCA_Cranial_LAO'] = f_LCA_Cranial_LAO\n",
    "theWhole['LCA_Cranial_RAO'] = f_LCA_Cranial_RAO\n",
    "theWhole['LCA_Spider'] = f_LCA_Spider\n",
    "theWhole['RCA_Cranial'] = f_RCA_Cranial\n",
    "theWhole['RCA_LAO'] = f_RCA_LAO"
   ]
  },
  {
   "cell_type": "code",
   "execution_count": 11,
   "metadata": {},
   "outputs": [
    {
     "name": "stdout",
     "output_type": "stream",
     "text": [
      "3.241262435913086\n"
     ]
    }
   ],
   "source": [
    "start = time.time()\n",
    "\n",
    "array = {}\n",
    "i = 0\n",
    "\n",
    "for view in theWhole.keys():\n",
    "    array[view] = []\n",
    "    for case in theWhole[view]:\n",
    "        if case.split('.')[-1] == 'npy':\n",
    "            arr = np.load(case)\n",
    "            array[view].append(arr)\n",
    "\n",
    "end = time.time()\n",
    "print(end - start)"
   ]
  },
  {
   "cell_type": "markdown",
   "metadata": {},
   "source": [
    "### 2D to 1D"
   ]
  },
  {
   "cell_type": "code",
   "execution_count": 12,
   "metadata": {},
   "outputs": [],
   "source": [
    "array_flat = {}\n",
    "\n",
    "for view in array.keys():\n",
    "    array_flat[view] = []\n",
    "    for case in array[view]:\n",
    "        case_flat = []\n",
    "        for row in case:\n",
    "            for column in row:\n",
    "                case_flat.append(column)            \n",
    "        array_flat[view].append(case_flat)"
   ]
  },
  {
   "cell_type": "code",
   "execution_count": 13,
   "metadata": {},
   "outputs": [],
   "source": [
    "x_test_list = []\n",
    "y_test_list = []\n",
    "\n",
    "for y, x in array_flat.items():    \n",
    "    for x_item in x:\n",
    "        x_test_list.append(x_item)\n",
    "        y_test_list.append(y)"
   ]
  },
  {
   "cell_type": "code",
   "execution_count": 14,
   "metadata": {},
   "outputs": [],
   "source": [
    "X_test = np.array(x_test_list)\n",
    "y_test = np.array(y_test_list)"
   ]
  },
  {
   "cell_type": "markdown",
   "metadata": {},
   "source": [
    "## Performance Measures"
   ]
  },
  {
   "cell_type": "code",
   "execution_count": 15,
   "metadata": {},
   "outputs": [],
   "source": [
    "y_predict = clf.predict(X_test)\n",
    "y_test = y_test"
   ]
  },
  {
   "cell_type": "code",
   "execution_count": 16,
   "metadata": {},
   "outputs": [
    {
     "data": {
      "text/plain": [
       "array(['LCA_Caudal', 'LCA_Caudal', 'LCA_Caudal', 'LCA_Caudal',\n",
       "       'LCA_Caudal', 'LCA_Caudal', 'LCA_Caudal', 'LCA_Caudal',\n",
       "       'LCA_Caudal', 'LCA_Caudal', 'LCA_Cranial', 'LCA_Cranial',\n",
       "       'LCA_Cranial', 'LCA_Cranial', 'RCA_Cranial', 'LCA_Cranial',\n",
       "       'LCA_Cranial', 'LCA_Cranial_RAO', 'LCA_Cranial', 'LCA_Cranial',\n",
       "       'LCA_Cranial', 'LCA_Cranial_RAO', 'LCA_Cranial', 'LCA_Cranial',\n",
       "       'LCA_Cranial_LAO', 'LCA_Cranial_LAO', 'LCA_Cranial', 'LCA_Cranial',\n",
       "       'LCA_Cranial_LAO', 'LCA_Cranial_LAO', 'LCA_Cranial_LAO',\n",
       "       'LCA_Cranial', 'LCA_Cranial', 'LCA_Cranial_LAO', 'LCA_Cranial_RAO',\n",
       "       'LCA_Cranial_RAO', 'LCA_Cranial_RAO', 'LCA_Cranial_RAO',\n",
       "       'LCA_Caudal', 'LCA_Cranial_RAO', 'LCA_Cranial_RAO',\n",
       "       'LCA_Cranial_RAO', 'LCA_Cranial_RAO', 'LCA_Cranial_RAO',\n",
       "       'LCA_Cranial_RAO', 'LCA_Spider', 'RCA_Cranial', 'LCA_Spider',\n",
       "       'LCA_Spider', 'LCA_Spider', 'LCA_Spider', 'LCA_Spider',\n",
       "       'LCA_Spider', 'LCA_Spider', 'LCA_Spider', 'RCA_Cranial',\n",
       "       'RCA_Cranial', 'RCA_Cranial', 'RCA_LAO', 'RCA_Cranial',\n",
       "       'RCA_Cranial', 'RCA_Cranial', 'RCA_LAO', 'RCA_Cranial',\n",
       "       'RCA_Cranial', 'RCA_LAO', 'RCA_LAO', 'RCA_LAO', 'RCA_LAO',\n",
       "       'RCA_LAO', 'RCA_LAO', 'RCA_LAO', 'RCA_LAO', 'RCA_LAO', 'RCA_LAO',\n",
       "       'RCA_LAO'], dtype='<U15')"
      ]
     },
     "execution_count": 16,
     "metadata": {},
     "output_type": "execute_result"
    }
   ],
   "source": [
    "y_predict"
   ]
  },
  {
   "cell_type": "code",
   "execution_count": 17,
   "metadata": {},
   "outputs": [
    {
     "data": {
      "text/plain": [
       "array(['LCA_Caudal', 'LCA_Caudal', 'LCA_Caudal', 'LCA_Caudal',\n",
       "       'LCA_Caudal', 'LCA_Caudal', 'LCA_Caudal', 'LCA_Caudal',\n",
       "       'LCA_Caudal', 'LCA_Caudal', 'LCA_Cranial', 'LCA_Cranial',\n",
       "       'LCA_Cranial', 'LCA_Cranial', 'LCA_Cranial', 'LCA_Cranial',\n",
       "       'LCA_Cranial', 'LCA_Cranial', 'LCA_Cranial', 'LCA_Cranial',\n",
       "       'LCA_Cranial', 'LCA_Cranial', 'LCA_Cranial', 'LCA_Cranial',\n",
       "       'LCA_Cranial_LAO', 'LCA_Cranial_LAO', 'LCA_Cranial_LAO',\n",
       "       'LCA_Cranial_LAO', 'LCA_Cranial_LAO', 'LCA_Cranial_LAO',\n",
       "       'LCA_Cranial_LAO', 'LCA_Cranial_LAO', 'LCA_Cranial_LAO',\n",
       "       'LCA_Cranial_LAO', 'LCA_Cranial_RAO', 'LCA_Cranial_RAO',\n",
       "       'LCA_Cranial_RAO', 'LCA_Cranial_RAO', 'LCA_Cranial_RAO',\n",
       "       'LCA_Cranial_RAO', 'LCA_Cranial_RAO', 'LCA_Cranial_RAO',\n",
       "       'LCA_Cranial_RAO', 'LCA_Cranial_RAO', 'LCA_Cranial_RAO',\n",
       "       'LCA_Spider', 'LCA_Spider', 'LCA_Spider', 'LCA_Spider',\n",
       "       'LCA_Spider', 'LCA_Spider', 'LCA_Spider', 'LCA_Spider',\n",
       "       'LCA_Spider', 'LCA_Spider', 'RCA_Cranial', 'RCA_Cranial',\n",
       "       'RCA_Cranial', 'RCA_Cranial', 'RCA_Cranial', 'RCA_Cranial',\n",
       "       'RCA_Cranial', 'RCA_Cranial', 'RCA_Cranial', 'RCA_Cranial',\n",
       "       'RCA_LAO', 'RCA_LAO', 'RCA_LAO', 'RCA_LAO', 'RCA_LAO', 'RCA_LAO',\n",
       "       'RCA_LAO', 'RCA_LAO', 'RCA_LAO', 'RCA_LAO', 'RCA_LAO'],\n",
       "      dtype='<U15')"
      ]
     },
     "execution_count": 17,
     "metadata": {},
     "output_type": "execute_result"
    }
   ],
   "source": [
    "y_test"
   ]
  },
  {
   "cell_type": "markdown",
   "metadata": {},
   "source": [
    "### Confusion Matrix (混淆矩阵)"
   ]
  },
  {
   "cell_type": "code",
   "execution_count": 18,
   "metadata": {},
   "outputs": [
    {
     "data": {
      "text/html": [
       "<div>\n",
       "<style scoped>\n",
       "    .dataframe tbody tr th:only-of-type {\n",
       "        vertical-align: middle;\n",
       "    }\n",
       "\n",
       "    .dataframe tbody tr th {\n",
       "        vertical-align: top;\n",
       "    }\n",
       "\n",
       "    .dataframe thead th {\n",
       "        text-align: right;\n",
       "    }\n",
       "</style>\n",
       "<table border=\"1\" class=\"dataframe\">\n",
       "  <thead>\n",
       "    <tr style=\"text-align: right;\">\n",
       "      <th></th>\n",
       "      <th>Predictive LCA_Caudal</th>\n",
       "      <th>Predictive LCA_Cranial</th>\n",
       "      <th>Predictive LCA_Cranial_LAO</th>\n",
       "      <th>Predictive LCA_Cranial_RAO</th>\n",
       "      <th>Predictive LCA_Spider</th>\n",
       "      <th>Predictive RCA_Cranial</th>\n",
       "      <th>Predictive RCA_LAO</th>\n",
       "    </tr>\n",
       "  </thead>\n",
       "  <tbody>\n",
       "    <tr>\n",
       "      <th>LCA_Caudal</th>\n",
       "      <td>10</td>\n",
       "      <td>0</td>\n",
       "      <td>0</td>\n",
       "      <td>0</td>\n",
       "      <td>0</td>\n",
       "      <td>0</td>\n",
       "      <td>0</td>\n",
       "    </tr>\n",
       "    <tr>\n",
       "      <th>LCA_Cranial</th>\n",
       "      <td>0</td>\n",
       "      <td>11</td>\n",
       "      <td>0</td>\n",
       "      <td>2</td>\n",
       "      <td>0</td>\n",
       "      <td>1</td>\n",
       "      <td>0</td>\n",
       "    </tr>\n",
       "    <tr>\n",
       "      <th>LCA_Cranial_LAO</th>\n",
       "      <td>0</td>\n",
       "      <td>4</td>\n",
       "      <td>6</td>\n",
       "      <td>0</td>\n",
       "      <td>0</td>\n",
       "      <td>0</td>\n",
       "      <td>0</td>\n",
       "    </tr>\n",
       "    <tr>\n",
       "      <th>LCA_Cranial_RAO</th>\n",
       "      <td>1</td>\n",
       "      <td>0</td>\n",
       "      <td>0</td>\n",
       "      <td>10</td>\n",
       "      <td>0</td>\n",
       "      <td>0</td>\n",
       "      <td>0</td>\n",
       "    </tr>\n",
       "    <tr>\n",
       "      <th>LCA_Spider</th>\n",
       "      <td>0</td>\n",
       "      <td>0</td>\n",
       "      <td>0</td>\n",
       "      <td>0</td>\n",
       "      <td>9</td>\n",
       "      <td>1</td>\n",
       "      <td>0</td>\n",
       "    </tr>\n",
       "    <tr>\n",
       "      <th>RCA_Cranial</th>\n",
       "      <td>0</td>\n",
       "      <td>0</td>\n",
       "      <td>0</td>\n",
       "      <td>0</td>\n",
       "      <td>0</td>\n",
       "      <td>8</td>\n",
       "      <td>2</td>\n",
       "    </tr>\n",
       "    <tr>\n",
       "      <th>RCA_LAO</th>\n",
       "      <td>0</td>\n",
       "      <td>0</td>\n",
       "      <td>0</td>\n",
       "      <td>0</td>\n",
       "      <td>0</td>\n",
       "      <td>0</td>\n",
       "      <td>11</td>\n",
       "    </tr>\n",
       "  </tbody>\n",
       "</table>\n",
       "</div>"
      ],
      "text/plain": [
       "                 Predictive LCA_Caudal  Predictive LCA_Cranial  \\\n",
       "LCA_Caudal                          10                       0   \n",
       "LCA_Cranial                          0                      11   \n",
       "LCA_Cranial_LAO                      0                       4   \n",
       "LCA_Cranial_RAO                      1                       0   \n",
       "LCA_Spider                           0                       0   \n",
       "RCA_Cranial                          0                       0   \n",
       "RCA_LAO                              0                       0   \n",
       "\n",
       "                 Predictive LCA_Cranial_LAO  Predictive LCA_Cranial_RAO  \\\n",
       "LCA_Caudal                                0                           0   \n",
       "LCA_Cranial                               0                           2   \n",
       "LCA_Cranial_LAO                           6                           0   \n",
       "LCA_Cranial_RAO                           0                          10   \n",
       "LCA_Spider                                0                           0   \n",
       "RCA_Cranial                               0                           0   \n",
       "RCA_LAO                                   0                           0   \n",
       "\n",
       "                 Predictive LCA_Spider  Predictive RCA_Cranial  \\\n",
       "LCA_Caudal                           0                       0   \n",
       "LCA_Cranial                          0                       1   \n",
       "LCA_Cranial_LAO                      0                       0   \n",
       "LCA_Cranial_RAO                      0                       0   \n",
       "LCA_Spider                           9                       1   \n",
       "RCA_Cranial                          0                       8   \n",
       "RCA_LAO                              0                       0   \n",
       "\n",
       "                 Predictive RCA_LAO  \n",
       "LCA_Caudal                        0  \n",
       "LCA_Cranial                       0  \n",
       "LCA_Cranial_LAO                   0  \n",
       "LCA_Cranial_RAO                   0  \n",
       "LCA_Spider                        0  \n",
       "RCA_Cranial                       2  \n",
       "RCA_LAO                          11  "
      ]
     },
     "execution_count": 18,
     "metadata": {},
     "output_type": "execute_result"
    }
   ],
   "source": [
    "cm = np.array(confusion_matrix(y_test, y_predict, labels=['LCA_Caudal', 'LCA_Cranial', \n",
    "                                                          'LCA_Cranial_LAO', 'LCA_Cranial_RAO', \n",
    "                                                          'LCA_Spider', \n",
    "                                                          'RCA_Cranial', 'RCA_LAO']))\n",
    "confusion = pd.DataFrame(cm, index=['LCA_Caudal', 'LCA_Cranial', \n",
    "                                    'LCA_Cranial_LAO', 'LCA_Cranial_RAO', 'LCA_Spider',\n",
    "                                    'RCA_Cranial', 'RCA_LAO'],\n",
    "                        columns=['Predictive LCA_Caudal', 'Predictive LCA_Cranial',\n",
    "                                 'Predictive LCA_Cranial_LAO', 'Predictive LCA_Cranial_RAO',\n",
    "                                 'Predictive LCA_Spider',\n",
    "                                    'Predictive RCA_Cranial', 'Predictive RCA_LAO'])\n",
    "confusion.to_csv('ConfusionMatrix.csv')\n",
    "confusion"
   ]
  },
  {
   "cell_type": "code",
   "execution_count": 19,
   "metadata": {
    "scrolled": true
   },
   "outputs": [
    {
     "name": "stdout",
     "output_type": "stream",
     "text": [
      "                 precision    recall  f1-score   support\n",
      "\n",
      "     LCA_Caudal       0.91      1.00      0.95        10\n",
      "    LCA_Cranial       0.73      0.79      0.76        14\n",
      "LCA_Cranial_LAO       1.00      0.60      0.75        10\n",
      "LCA_Cranial_RAO       0.83      0.91      0.87        11\n",
      "     LCA_Spider       1.00      0.90      0.95        10\n",
      "    RCA_Cranial       0.80      0.80      0.80        10\n",
      "        RCA_LAO       0.85      1.00      0.92        11\n",
      "\n",
      "      micro avg       0.86      0.86      0.86        76\n",
      "      macro avg       0.87      0.86      0.86        76\n",
      "   weighted avg       0.87      0.86      0.85        76\n",
      "\n"
     ]
    }
   ],
   "source": [
    "print(classification_report(y_test, y_predict))"
   ]
  },
  {
   "cell_type": "markdown",
   "metadata": {},
   "source": [
    "## Save the Model"
   ]
  },
  {
   "cell_type": "code",
   "execution_count": 20,
   "metadata": {},
   "outputs": [
    {
     "name": "stdout",
     "output_type": "stream",
     "text": [
      "['trained_model.m']\n"
     ]
    }
   ],
   "source": [
    "c = joblib.dump(clf, 'trained_model.m')\n",
    "print(c)"
   ]
  },
  {
   "cell_type": "markdown",
   "metadata": {},
   "source": [
    "## Load the Model"
   ]
  },
  {
   "cell_type": "code",
   "execution_count": 21,
   "metadata": {},
   "outputs": [
    {
     "name": "stdout",
     "output_type": "stream",
     "text": [
      "SVC(C=1.0, cache_size=200, class_weight=None, coef0=0.0,\n",
      "  decision_function_shape='ovo', degree=3, gamma='auto_deprecated',\n",
      "  kernel='linear', max_iter=-1, probability=False, random_state=None,\n",
      "  shrinking=True, tol=0.001, verbose=False)\n"
     ]
    }
   ],
   "source": [
    "d = joblib.load('trained_model.m')\n",
    "print(d)"
   ]
  },
  {
   "cell_type": "code",
   "execution_count": null,
   "metadata": {},
   "outputs": [],
   "source": []
  }
 ],
 "metadata": {
  "kernelspec": {
   "display_name": "Python 3",
   "language": "python",
   "name": "python3"
  },
  "language_info": {
   "codemirror_mode": {
    "name": "ipython",
    "version": 3
   },
   "file_extension": ".py",
   "mimetype": "text/x-python",
   "name": "python",
   "nbconvert_exporter": "python",
   "pygments_lexer": "ipython3",
   "version": "3.7.3"
  }
 },
 "nbformat": 4,
 "nbformat_minor": 2
}
