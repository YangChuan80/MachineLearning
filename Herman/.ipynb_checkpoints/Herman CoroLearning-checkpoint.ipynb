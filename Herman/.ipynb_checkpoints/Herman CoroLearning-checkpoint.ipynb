{
 "cells": [
  {
   "cell_type": "code",
   "execution_count": 1,
   "metadata": {},
   "outputs": [],
   "source": [
    "from PIL import Image\n",
    "import numpy as np\n",
    "import pandas as pd\n",
    "import matplotlib.pyplot as plt\n",
    "\n",
    "\n",
    "from sklearn import svm\n",
    "from sklearn.metrics import classification_report, confusion_matrix\n",
    "import joblib\n",
    "from os import walk\n",
    "\n",
    "import time\n",
    "\n",
    "%matplotlib inline"
   ]
  },
  {
   "cell_type": "code",
   "execution_count": 2,
   "metadata": {},
   "outputs": [],
   "source": [
    "#pathBase = 'I://Chuan//Documents//MyData//DICOM//NormalCAG//Arrangement//'\n",
    "pathBase = 'E://Chuan//Documents//Database//DICOM//CoroBase//Arrangement//'\n",
    "\n",
    "theWhole = {}\n",
    "\n",
    "f = []\n",
    "f_LCA_Caudal = []\n",
    "mypath_LCA_Caudal = pathBase + 'LCA_Caudal'\n",
    "for (dirpath, dirnames, filenames) in walk(mypath_LCA_Caudal):\n",
    "    f.extend(filenames)\n",
    "for l in f:\n",
    "    f_LCA_Caudal.append(mypath_LCA_Caudal + '\\\\' + l) \n",
    "    \n",
    "f = []\n",
    "f_LCA_Cranial = []\n",
    "mypath_LCA_Cranial = pathBase + 'LCA_Cranial'\n",
    "for (dirpath, dirnames, filenames) in walk(mypath_LCA_Cranial):\n",
    "    f.extend(filenames)\n",
    "for l in f:\n",
    "    f_LCA_Cranial.append(mypath_LCA_Cranial + '\\\\' + l) \n",
    "    \n",
    "f = []\n",
    "f_LCA_Cranial_LAO = []\n",
    "mypath_LCA_Cranial_LAO = pathBase + 'LCA_Cranial_LAO'\n",
    "for (dirpath, dirnames, filenames) in walk(mypath_LCA_Cranial_LAO):\n",
    "    f.extend(filenames)\n",
    "for l in f:\n",
    "    f_LCA_Cranial_LAO.append(mypath_LCA_Cranial_LAO + '\\\\' + l) \n",
    "    \n",
    "f = []\n",
    "f_LCA_Spider = []\n",
    "mypath_LCA_Spider = pathBase + 'LCA_Spider'\n",
    "for (dirpath, dirnames, filenames) in walk(mypath_LCA_Spider):\n",
    "    f.extend(filenames)\n",
    "for l in f:\n",
    "    f_LCA_Spider.append(mypath_LCA_Spider + '\\\\' + l) \n",
    "    \n",
    "f = []\n",
    "f_RCA_Cranial = []\n",
    "mypath_RCA_Cranial = pathBase + 'RCA_Cranial'\n",
    "for (dirpath, dirnames, filenames) in walk(mypath_RCA_Cranial):\n",
    "    f.extend(filenames)\n",
    "for l in f:\n",
    "    f_RCA_Cranial.append(mypath_RCA_Cranial + '\\\\' + l) \n",
    "    \n",
    "f = []\n",
    "f_RCA_LAO = []\n",
    "mypath_RCA_LAO = pathBase + 'RCA_LAO'\n",
    "for (dirpath, dirnames, filenames) in walk(mypath_RCA_LAO):\n",
    "    f.extend(filenames)\n",
    "for l in f:\n",
    "    f_RCA_LAO.append(mypath_RCA_LAO + '\\\\' + l) \n",
    "    \n",
    "\n",
    "theWhole['LCA_Caudal'] = f_LCA_Caudal\n",
    "theWhole['LCA_Cranial'] = f_LCA_Cranial\n",
    "theWhole['LCA_Cranial_LAO'] = f_LCA_Cranial_LAO\n",
    "theWhole['LCA_Spider'] = f_LCA_Spider\n",
    "theWhole['RCA_Cranial'] = f_RCA_Cranial\n",
    "theWhole['RCA_LAO'] = f_RCA_LAO\n",
    "        "
   ]
  },
  {
   "cell_type": "code",
   "execution_count": 3,
   "metadata": {},
   "outputs": [
    {
     "data": {
      "text/plain": [
       "'npy'"
      ]
     },
     "execution_count": 3,
     "metadata": {},
     "output_type": "execute_result"
    }
   ],
   "source": [
    "theWhole['LCA_Cranial_LAO'][1].split('.')[-1]"
   ]
  },
  {
   "cell_type": "code",
   "execution_count": 4,
   "metadata": {},
   "outputs": [
    {
     "name": "stdout",
     "output_type": "stream",
     "text": [
      "20.193604230880737\n"
     ]
    }
   ],
   "source": [
    "start = time.time()\n",
    "\n",
    "array = {}\n",
    "i = 0\n",
    "\n",
    "for view in theWhole.keys():\n",
    "    array[view] = []\n",
    "    for case in theWhole[view]:\n",
    "        if case.split('.')[-1] == 'npy':\n",
    "            arr = np.load(case)\n",
    "            array[view].append(arr)\n",
    "\n",
    "end = time.time()\n",
    "print(end - start)"
   ]
  },
  {
   "cell_type": "markdown",
   "metadata": {},
   "source": [
    "### 2D to 1D"
   ]
  },
  {
   "cell_type": "code",
   "execution_count": 5,
   "metadata": {},
   "outputs": [],
   "source": [
    "array_flat = {}\n",
    "\n",
    "for view in array.keys():\n",
    "    array_flat[view] = []\n",
    "    for case in array[view]:\n",
    "        case_flat = []\n",
    "        for row in case:\n",
    "            for column in row:\n",
    "                case_flat.append(column)            \n",
    "        array_flat[view].append(case_flat)"
   ]
  },
  {
   "cell_type": "markdown",
   "metadata": {},
   "source": [
    "## Support Vector Classification"
   ]
  },
  {
   "cell_type": "code",
   "execution_count": 6,
   "metadata": {},
   "outputs": [],
   "source": [
    "x_train_list = []\n",
    "y_train_list = []\n",
    "\n",
    "for y, x in array_flat.items():    \n",
    "    for x_item in x:\n",
    "        x_train_list.append(x_item)\n",
    "        y_train_list.append(y)"
   ]
  },
  {
   "cell_type": "markdown",
   "metadata": {},
   "source": [
    "### Training"
   ]
  },
  {
   "cell_type": "code",
   "execution_count": 7,
   "metadata": {},
   "outputs": [],
   "source": [
    "start = time.time()\n",
    "\n",
    "X_train = np.array(x_train_list)\n",
    "y_train = np.array(y_train_list)\n",
    "\n",
    "# linear kernel\n",
    "clf = svm.SVC(kernel='linear', decision_function_shape='ovo')\n",
    "clf.fit(X_train, y_train)\n",
    "\n",
    "end = time.time()"
   ]
  },
  {
   "cell_type": "code",
   "execution_count": 8,
   "metadata": {},
   "outputs": [
    {
     "name": "stdout",
     "output_type": "stream",
     "text": [
      "19.393780946731567\n"
     ]
    }
   ],
   "source": [
    "print(end - start)"
   ]
  },
  {
   "cell_type": "markdown",
   "metadata": {},
   "source": [
    "### Prediction"
   ]
  },
  {
   "cell_type": "code",
   "execution_count": 9,
   "metadata": {},
   "outputs": [
    {
     "name": "stdout",
     "output_type": "stream",
     "text": [
      "w =  [[ 4.07700569e-06  3.73009381e-06  3.70253982e-06 ... -3.90884262e-06\n",
      "  -4.00064318e-06 -4.17860405e-06]\n",
      " [-6.72017218e-07 -1.09302092e-06 -1.36078007e-06 ... -1.31868588e-06\n",
      "  -1.59262488e-06 -1.98066127e-06]\n",
      " [ 4.20620204e-07  2.16944548e-07  1.97476443e-07 ... -1.57975630e-06\n",
      "  -1.63231994e-06 -1.70836530e-06]\n",
      " ...\n",
      " [-2.35279115e-06 -3.11365729e-06 -3.50231949e-06 ... -8.67077112e-07\n",
      "  -6.52256381e-07 -4.34541802e-07]\n",
      " [-2.48786148e-06 -2.31837714e-06 -2.12146951e-06 ... -6.80779275e-08\n",
      "  -2.40191515e-07 -3.74366081e-07]\n",
      " [-1.47030209e-06 -6.98380962e-07 -2.55315576e-07 ... -3.07187296e-07\n",
      "  -1.12792924e-06 -1.59008221e-06]]\n",
      "b =  [-2.45185976  0.42973919 -1.18840283 -0.06223153 -0.98161409  4.78625964\n",
      "  3.12223816  0.61131271 -0.94575853  1.86212618 -3.61986913 -1.88671676\n",
      " -5.06802583 -3.26389147 -2.55698988]\n",
      "Indices of support vectors =  [  0   1   2   3   6   7  10  13  14  18  21  22  23  24  25  28  30  36\n",
      "  38  40  41  42  44  45  47  48  49  50  51  52  54  55  56  57  60  61\n",
      "  62  64  65  66  67  69  70  72  73  74  75  76  77  78  79  80  81  82\n",
      "  83  84  85  86  87  88  89  91  92  93  94  95  96  97  98  99 100 101\n",
      " 102 103 104 105 106 107 108 109 110 111 113 114 115 116 117 118 120 122\n",
      " 123 124 125 127 128 129 130 131 132 133 134 136 137 138 139 141 143 147\n",
      " 148 149 150 151 152 153 154 155 158 159 160 161 162 163 165 166 167 168\n",
      " 169 171 172 173 174 175 176 177 178 179 181 182 183 184 185 186 187 188\n",
      " 189 191 192 196 197 198 204 206 208 212 213 215 219 220 221 223]\n",
      "Support vectors =  [[123.21052632 115.40350877 109.21052632 ... 102.28070175 101.40350877\n",
      "  102.19298246]\n",
      " [106.16666667 105.85185185 105.62962963 ... 112.51851852 115.85185185\n",
      "  115.37037037]\n",
      " [117.58928571 114.82142857 114.89285714 ... 113.78571429 111.14285714\n",
      "  108.83928571]\n",
      " ...\n",
      " [ 97.         101.7260274  106.32876712 ... 103.80821918 104.23287671\n",
      "  105.57534247]\n",
      " [133.09090909 130.29090909 128.38181818 ...  96.01818182  96.30909091\n",
      "   96.89090909]\n",
      " [132.18918919 131.59459459 132.02702703 ... 116.21621622 118.2972973\n",
      "  118.81081081]]\n",
      "Number of support vectors for each class =  [24 37 17 31 30 21]\n",
      "Coefficients of the support vector in the decision function =  [[1.21790673e-09 3.34486036e-08 9.17156560e-09 3.35901085e-09\n",
      "  6.94273844e-09 5.57521314e-08 1.43476685e-08 0.00000000e+00\n",
      "  4.99323703e-08 4.68656803e-08 0.00000000e+00 1.24534423e-08\n",
      "  2.85838858e-08 2.00486152e-09 4.15558432e-08 1.20589072e-08\n",
      "  6.35075185e-09 1.79660191e-08 9.60383504e-09 1.28607739e-08\n",
      "  5.69994000e-08 2.36281077e-08 6.39064070e-08 1.00370976e-08\n",
      "  3.78398489e-08 0.00000000e+00 3.06879356e-08 0.00000000e+00\n",
      "  1.49632743e-08 2.59418878e-08 2.28920133e-08 2.28105434e-08\n",
      "  0.00000000e+00 0.00000000e+00 2.23359785e-09 4.68542061e-10\n",
      "  0.00000000e+00 6.30186100e-09 2.65220200e-09 8.29158889e-09\n",
      "  0.00000000e+00 3.51545270e-08 0.00000000e+00 0.00000000e+00\n",
      "  7.87803326e-08 1.06544739e-08 2.27438365e-08 0.00000000e+00\n",
      "  0.00000000e+00 5.45417784e-08 6.83089013e-10 1.66357112e-09\n",
      "  1.13058584e-08 0.00000000e+00 0.00000000e+00 0.00000000e+00\n",
      "  1.24109091e-08 2.71254490e-08 5.24431097e-08 2.73171067e-08\n",
      "  9.13967165e-09 3.75521829e-08 1.93206758e-08 4.51076932e-09\n",
      "  9.31024376e-10 0.00000000e+00 5.91172339e-09 0.00000000e+00\n",
      "  2.29732956e-08 0.00000000e+00 6.31613120e-09 0.00000000e+00\n",
      "  0.00000000e+00 3.83559277e-08 5.15898822e-09 0.00000000e+00\n",
      "  1.86057089e-08 0.00000000e+00 0.00000000e+00 0.00000000e+00\n",
      "  7.87623950e-09 0.00000000e+00 1.66641867e-08 0.00000000e+00\n",
      "  0.00000000e+00 5.43270545e-09 0.00000000e+00 1.06646825e-09\n",
      "  0.00000000e+00 0.00000000e+00 0.00000000e+00 0.00000000e+00\n",
      "  0.00000000e+00 0.00000000e+00 2.06940307e-08 0.00000000e+00\n",
      "  0.00000000e+00 0.00000000e+00 1.59540834e-08 0.00000000e+00\n",
      "  7.25777204e-09 0.00000000e+00 0.00000000e+00 0.00000000e+00\n",
      "  5.95915849e-08 0.00000000e+00 0.00000000e+00 0.00000000e+00\n",
      "  3.16241045e-10 0.00000000e+00 0.00000000e+00 0.00000000e+00\n",
      "  0.00000000e+00 2.12064949e-08 0.00000000e+00 0.00000000e+00\n",
      "  0.00000000e+00 0.00000000e+00 1.56189538e-08 0.00000000e+00\n",
      "  0.00000000e+00 0.00000000e+00 3.26743708e-08 0.00000000e+00\n",
      "  0.00000000e+00 0.00000000e+00 0.00000000e+00 0.00000000e+00\n",
      "  0.00000000e+00 0.00000000e+00 0.00000000e+00 0.00000000e+00\n",
      "  0.00000000e+00 8.87268926e-09 0.00000000e+00 0.00000000e+00\n",
      "  0.00000000e+00 0.00000000e+00 0.00000000e+00 1.91691853e-09\n",
      "  0.00000000e+00 0.00000000e+00 0.00000000e+00 0.00000000e+00\n",
      "  0.00000000e+00 0.00000000e+00 8.40195393e-09 0.00000000e+00\n",
      "  1.23509461e-08 0.00000000e+00 0.00000000e+00 9.20703626e-09\n",
      "  0.00000000e+00 0.00000000e+00 0.00000000e+00 0.00000000e+00\n",
      "  0.00000000e+00 0.00000000e+00 0.00000000e+00 1.94506569e-09]\n",
      " [0.00000000e+00 0.00000000e+00 1.28203489e-08 0.00000000e+00\n",
      "  0.00000000e+00 2.55861480e-08 0.00000000e+00 0.00000000e+00\n",
      "  5.82714096e-09 2.61840285e-08 0.00000000e+00 0.00000000e+00\n",
      "  3.00137722e-08 0.00000000e+00 1.31586678e-08 5.64216070e-09\n",
      "  0.00000000e+00 0.00000000e+00 1.98707105e-09 0.00000000e+00\n",
      "  1.65458017e-08 1.51647178e-09 1.73812535e-08 2.97356232e-09\n",
      "  5.40661784e-08 6.75503950e-08 1.92038745e-08 2.34396869e-08\n",
      "  0.00000000e+00 5.18213020e-09 3.07574851e-09 0.00000000e+00\n",
      "  6.87135070e-08 2.21315098e-08 8.04686376e-08 2.68568961e-08\n",
      "  7.30284881e-08 0.00000000e+00 0.00000000e+00 0.00000000e+00\n",
      "  0.00000000e+00 9.34092375e-09 9.72655960e-09 1.62939374e-08\n",
      "  1.31253908e-08 0.00000000e+00 0.00000000e+00 4.69338428e-08\n",
      "  2.22504647e-08 0.00000000e+00 1.39472204e-08 0.00000000e+00\n",
      "  0.00000000e+00 0.00000000e+00 3.92239885e-09 0.00000000e+00\n",
      "  2.54694517e-08 4.11247081e-08 2.37821176e-08 0.00000000e+00\n",
      "  0.00000000e+00 8.09569393e-08 7.84367629e-08 3.17787380e-08\n",
      "  1.61522259e-08 7.58727012e-09 4.99919919e-08 0.00000000e+00\n",
      "  5.20122834e-08 2.48355368e-08 7.43930155e-09 0.00000000e+00\n",
      "  3.57225206e-08 8.44824350e-08 8.28184560e-08 4.01105217e-08\n",
      "  4.32187204e-08 3.40903642e-08 0.00000000e+00 1.06315170e-09\n",
      "  3.98889651e-09 0.00000000e+00 2.58289220e-08 0.00000000e+00\n",
      "  9.32935586e-09 2.28652370e-08 0.00000000e+00 1.12714170e-08\n",
      "  0.00000000e+00 0.00000000e+00 2.19044601e-08 0.00000000e+00\n",
      "  0.00000000e+00 1.31579633e-09 2.69864324e-08 0.00000000e+00\n",
      "  0.00000000e+00 8.73925415e-09 1.84450267e-08 0.00000000e+00\n",
      "  1.08104836e-08 0.00000000e+00 1.53210612e-09 5.11591724e-09\n",
      "  7.33691553e-08 4.03782068e-09 0.00000000e+00 1.46291867e-08\n",
      "  0.00000000e+00 8.67059524e-09 0.00000000e+00 1.42138819e-08\n",
      "  0.00000000e+00 2.49883032e-08 0.00000000e+00 8.71315516e-09\n",
      "  0.00000000e+00 0.00000000e+00 2.99858684e-08 0.00000000e+00\n",
      "  0.00000000e+00 0.00000000e+00 6.51968053e-08 1.62867791e-09\n",
      "  0.00000000e+00 3.47612053e-08 0.00000000e+00 0.00000000e+00\n",
      "  0.00000000e+00 0.00000000e+00 0.00000000e+00 0.00000000e+00\n",
      "  0.00000000e+00 0.00000000e+00 0.00000000e+00 0.00000000e+00\n",
      "  0.00000000e+00 0.00000000e+00 0.00000000e+00 2.76276339e-09\n",
      "  0.00000000e+00 0.00000000e+00 7.06970724e-09 0.00000000e+00\n",
      "  0.00000000e+00 0.00000000e+00 7.30309006e-09 0.00000000e+00\n",
      "  1.53472791e-08 0.00000000e+00 0.00000000e+00 4.85365493e-09\n",
      "  0.00000000e+00 0.00000000e+00 2.58858806e-09 0.00000000e+00\n",
      "  0.00000000e+00 0.00000000e+00 9.01185614e-10 5.25511130e-09]\n",
      " [0.00000000e+00 0.00000000e+00 7.09207369e-09 0.00000000e+00\n",
      "  6.06484537e-10 1.19419268e-08 2.96725633e-09 1.27173061e-09\n",
      "  1.10524142e-08 3.39230361e-08 0.00000000e+00 0.00000000e+00\n",
      "  1.66989821e-08 0.00000000e+00 2.46224778e-08 0.00000000e+00\n",
      "  0.00000000e+00 0.00000000e+00 5.95838513e-09 6.79688101e-09\n",
      "  1.05688237e-08 1.35284006e-09 0.00000000e+00 0.00000000e+00\n",
      "  1.69071421e-08 2.39036991e-08 0.00000000e+00 0.00000000e+00\n",
      "  0.00000000e+00 1.18899426e-08 0.00000000e+00 0.00000000e+00\n",
      "  2.98182625e-08 0.00000000e+00 1.98315091e-08 0.00000000e+00\n",
      "  5.10053403e-08 0.00000000e+00 0.00000000e+00 0.00000000e+00\n",
      "  4.92757792e-09 0.00000000e+00 0.00000000e+00 1.03512618e-08\n",
      "  1.89481107e-08 0.00000000e+00 3.50861476e-09 0.00000000e+00\n",
      "  2.12674809e-08 0.00000000e+00 0.00000000e+00 0.00000000e+00\n",
      "  0.00000000e+00 2.06043102e-09 0.00000000e+00 9.38175321e-09\n",
      "  0.00000000e+00 0.00000000e+00 3.74314933e-08 0.00000000e+00\n",
      "  0.00000000e+00 0.00000000e+00 2.27000246e-08 2.22758708e-08\n",
      "  3.96813188e-08 4.02608691e-08 0.00000000e+00 5.05466148e-09\n",
      "  2.24716820e-08 0.00000000e+00 1.55913416e-08 5.48930966e-09\n",
      "  0.00000000e+00 3.65383127e-08 2.39767128e-08 1.74138448e-08\n",
      "  4.04456593e-08 2.58362910e-08 0.00000000e+00 1.33806879e-08\n",
      "  0.00000000e+00 0.00000000e+00 3.91302382e-08 0.00000000e+00\n",
      "  0.00000000e+00 4.12524359e-09 0.00000000e+00 1.39836431e-08\n",
      "  5.70583415e-09 0.00000000e+00 7.79933463e-09 5.47402368e-09\n",
      "  0.00000000e+00 1.91808445e-08 1.92934695e-08 0.00000000e+00\n",
      "  1.38894059e-08 7.14340653e-09 2.82787879e-09 0.00000000e+00\n",
      "  2.05601722e-08 1.13387100e-08 1.35001547e-08 3.64395349e-09\n",
      "  7.14140428e-08 2.77742548e-09 0.00000000e+00 2.21687243e-08\n",
      "  2.03987053e-08 0.00000000e+00 0.00000000e+00 1.28188560e-08\n",
      "  0.00000000e+00 0.00000000e+00 0.00000000e+00 2.59675430e-08\n",
      "  0.00000000e+00 0.00000000e+00 1.76068268e-08 0.00000000e+00\n",
      "  0.00000000e+00 1.10639374e-08 1.24197716e-07 6.64491315e-09\n",
      "  0.00000000e+00 2.21504575e-08 0.00000000e+00 0.00000000e+00\n",
      "  0.00000000e+00 0.00000000e+00 0.00000000e+00 7.90561052e-09\n",
      "  0.00000000e+00 0.00000000e+00 0.00000000e+00 0.00000000e+00\n",
      "  0.00000000e+00 8.62999506e-10 6.88763310e-09 2.69789762e-09\n",
      "  5.54263589e-11 0.00000000e+00 2.01432274e-08 0.00000000e+00\n",
      "  0.00000000e+00 0.00000000e+00 6.74824067e-09 0.00000000e+00\n",
      "  1.42317056e-08 0.00000000e+00 0.00000000e+00 2.00838224e-09\n",
      "  0.00000000e+00 0.00000000e+00 3.91565793e-10 0.00000000e+00\n",
      "  0.00000000e+00 5.98807741e-09 0.00000000e+00 2.38923794e-09]\n",
      " [0.00000000e+00 0.00000000e+00 0.00000000e+00 3.29445726e-09\n",
      "  0.00000000e+00 8.81587591e-09 0.00000000e+00 0.00000000e+00\n",
      "  2.90635557e-09 7.40840602e-09 1.25207098e-08 0.00000000e+00\n",
      "  8.99918607e-09 0.00000000e+00 0.00000000e+00 0.00000000e+00\n",
      "  0.00000000e+00 0.00000000e+00 0.00000000e+00 0.00000000e+00\n",
      "  1.94029036e-08 0.00000000e+00 1.35872103e-08 1.43740430e-09\n",
      "  0.00000000e+00 2.10168825e-08 0.00000000e+00 0.00000000e+00\n",
      "  0.00000000e+00 0.00000000e+00 3.74779647e-09 0.00000000e+00\n",
      "  1.51803249e-08 1.70896845e-09 7.69809912e-08 1.47987270e-08\n",
      "  1.79763145e-09 0.00000000e+00 0.00000000e+00 0.00000000e+00\n",
      "  0.00000000e+00 4.40770299e-09 0.00000000e+00 0.00000000e+00\n",
      "  1.12083884e-08 0.00000000e+00 0.00000000e+00 0.00000000e+00\n",
      "  2.08024782e-09 0.00000000e+00 4.42593012e-09 0.00000000e+00\n",
      "  0.00000000e+00 0.00000000e+00 0.00000000e+00 0.00000000e+00\n",
      "  4.19686147e-09 0.00000000e+00 2.66080397e-08 0.00000000e+00\n",
      "  0.00000000e+00 0.00000000e+00 9.75577731e-09 0.00000000e+00\n",
      "  2.24962815e-08 2.19902617e-08 0.00000000e+00 8.34704718e-09\n",
      "  1.97224676e-08 0.00000000e+00 4.13632306e-08 0.00000000e+00\n",
      "  0.00000000e+00 6.65976271e-09 1.80555021e-08 2.07636740e-08\n",
      "  6.69524878e-08 0.00000000e+00 1.46389203e-08 1.36642226e-08\n",
      "  0.00000000e+00 9.89972410e-09 5.93582272e-08 0.00000000e+00\n",
      "  0.00000000e+00 1.05897346e-08 1.77137990e-08 2.07978706e-09\n",
      "  1.70690330e-08 1.39132867e-08 0.00000000e+00 0.00000000e+00\n",
      "  1.13353956e-08 1.19003157e-08 2.19931423e-08 1.17760624e-09\n",
      "  4.23121830e-09 9.16206476e-09 1.40196146e-08 7.99137060e-09\n",
      "  0.00000000e+00 1.30355656e-08 2.36347633e-08 0.00000000e+00\n",
      "  0.00000000e+00 1.53866745e-09 5.60925521e-09 0.00000000e+00\n",
      "  1.47211341e-09 8.94783106e-09 0.00000000e+00 0.00000000e+00\n",
      "  0.00000000e+00 0.00000000e+00 5.34242108e-09 1.60705178e-08\n",
      "  0.00000000e+00 7.04738744e-08 6.41218668e-11 0.00000000e+00\n",
      "  0.00000000e+00 7.72904877e-09 4.05237597e-08 9.34415184e-09\n",
      "  2.14049078e-08 5.45768661e-08 0.00000000e+00 0.00000000e+00\n",
      "  6.41064991e-09 0.00000000e+00 7.17769595e-09 2.45954867e-08\n",
      "  0.00000000e+00 0.00000000e+00 1.28856551e-08 0.00000000e+00\n",
      "  0.00000000e+00 0.00000000e+00 4.80839839e-10 9.53208311e-10\n",
      "  4.73396219e-09 0.00000000e+00 2.75646697e-08 2.81447564e-10\n",
      "  0.00000000e+00 0.00000000e+00 2.69334047e-09 0.00000000e+00\n",
      "  3.32809605e-08 0.00000000e+00 0.00000000e+00 1.55363483e-09\n",
      "  8.47105607e-09 0.00000000e+00 0.00000000e+00 0.00000000e+00\n",
      "  8.46078217e-09 6.47585408e-09 0.00000000e+00 2.71716741e-08]\n",
      " [0.00000000e+00 0.00000000e+00 0.00000000e+00 5.56804801e-09\n",
      "  0.00000000e+00 1.00940252e-08 0.00000000e+00 0.00000000e+00\n",
      "  5.75429784e-09 0.00000000e+00 0.00000000e+00 0.00000000e+00\n",
      "  0.00000000e+00 0.00000000e+00 0.00000000e+00 0.00000000e+00\n",
      "  0.00000000e+00 0.00000000e+00 0.00000000e+00 0.00000000e+00\n",
      "  7.01088958e-09 0.00000000e+00 5.39465989e-09 0.00000000e+00\n",
      "  0.00000000e+00 4.48195449e-09 0.00000000e+00 0.00000000e+00\n",
      "  0.00000000e+00 0.00000000e+00 0.00000000e+00 0.00000000e+00\n",
      "  0.00000000e+00 5.66112250e-10 2.13552212e-08 0.00000000e+00\n",
      "  0.00000000e+00 0.00000000e+00 0.00000000e+00 0.00000000e+00\n",
      "  0.00000000e+00 0.00000000e+00 0.00000000e+00 0.00000000e+00\n",
      "  0.00000000e+00 0.00000000e+00 0.00000000e+00 0.00000000e+00\n",
      "  3.12183967e-09 0.00000000e+00 0.00000000e+00 0.00000000e+00\n",
      "  2.98554155e-09 0.00000000e+00 0.00000000e+00 0.00000000e+00\n",
      "  5.48181095e-09 0.00000000e+00 8.08889964e-09 0.00000000e+00\n",
      "  0.00000000e+00 0.00000000e+00 0.00000000e+00 0.00000000e+00\n",
      "  1.24757874e-08 6.87307530e-09 0.00000000e+00 0.00000000e+00\n",
      "  0.00000000e+00 0.00000000e+00 1.23897464e-08 4.14373208e-10\n",
      "  0.00000000e+00 0.00000000e+00 3.58903677e-09 0.00000000e+00\n",
      "  1.89117420e-08 0.00000000e+00 4.13069908e-09 8.28621535e-10\n",
      "  0.00000000e+00 1.97907971e-09 3.83223359e-08 1.57253265e-09\n",
      "  0.00000000e+00 5.08957757e-09 9.36810627e-09 2.33132436e-09\n",
      "  3.75732599e-09 1.06126320e-08 0.00000000e+00 0.00000000e+00\n",
      "  6.73854929e-09 9.95295050e-10 0.00000000e+00 0.00000000e+00\n",
      "  1.20518555e-09 8.83763853e-09 1.85803835e-09 7.13104554e-09\n",
      "  0.00000000e+00 0.00000000e+00 1.68826026e-08 0.00000000e+00\n",
      "  0.00000000e+00 0.00000000e+00 0.00000000e+00 0.00000000e+00\n",
      "  0.00000000e+00 1.88359557e-08 3.07337115e-08 0.00000000e+00\n",
      "  2.89485933e-08 0.00000000e+00 6.66687052e-08 0.00000000e+00\n",
      "  4.38310602e-08 0.00000000e+00 1.29480107e-08 1.75064791e-08\n",
      "  1.60495535e-08 3.32849898e-08 0.00000000e+00 0.00000000e+00\n",
      "  0.00000000e+00 0.00000000e+00 2.80933511e-08 6.82792033e-09\n",
      "  0.00000000e+00 9.62146838e-09 1.55918841e-08 0.00000000e+00\n",
      "  5.56370098e-08 1.18488401e-07 4.65626765e-08 5.24325733e-08\n",
      "  1.68899157e-08 0.00000000e+00 0.00000000e+00 1.42455996e-08\n",
      "  1.48088404e-08 7.68320325e-09 7.29242570e-08 7.61901376e-09\n",
      "  3.39638141e-09 9.66444405e-09 1.75041439e-08 4.25723197e-08\n",
      "  1.09959736e-07 4.39126465e-08 1.77973865e-09 3.79401616e-08\n",
      "  1.95942117e-08 1.21364185e-08 0.00000000e+00 3.73871243e-08\n",
      "  9.31186486e-09 2.18397111e-08 4.57639700e-08 8.89084723e-08]]\n"
     ]
    }
   ],
   "source": [
    "print('w = ',clf.coef_)\n",
    "print('b = ',clf.intercept_)\n",
    "print('Indices of support vectors = ', clf.support_)\n",
    "print('Support vectors = ', clf.support_vectors_)\n",
    "print('Number of support vectors for each class = ', clf.n_support_)\n",
    "print('Coefficients of the support vector in the decision function = ', np.abs(clf.dual_coef_))"
   ]
  },
  {
   "cell_type": "code",
   "execution_count": 10,
   "metadata": {},
   "outputs": [],
   "source": [
    "#pathBase = 'I://Chuan//Documents//MyData//DICOM//NormalCAG//Arrangement//test//'\n",
    "pathBase = 'E://Chuan//Documents//Database//DICOM//CoroBase//Arrangement//test//'\n",
    "\n",
    "theWhole = {}\n",
    "\n",
    "f = []\n",
    "f_LCA_Caudal = []\n",
    "mypath_LCA_Caudal = pathBase + 'LCA_Caudal'\n",
    "for (dirpath, dirnames, filenames) in walk(mypath_LCA_Caudal):\n",
    "    f.extend(filenames)\n",
    "for l in f:\n",
    "    f_LCA_Caudal.append(mypath_LCA_Caudal + '\\\\' + l) \n",
    "    \n",
    "f = []\n",
    "f_LCA_Cranial = []\n",
    "mypath_LCA_Cranial = pathBase + 'LCA_Cranial'\n",
    "for (dirpath, dirnames, filenames) in walk(mypath_LCA_Cranial):\n",
    "    f.extend(filenames)\n",
    "for l in f:\n",
    "    f_LCA_Cranial.append(mypath_LCA_Cranial + '\\\\' + l) \n",
    "    \n",
    "f = []\n",
    "f_LCA_Cranial_LAO = []\n",
    "mypath_LCA_Cranial_LAO = pathBase + 'LCA_Cranial_LAO'\n",
    "for (dirpath, dirnames, filenames) in walk(mypath_LCA_Cranial_LAO):\n",
    "    f.extend(filenames)\n",
    "for l in f:\n",
    "    f_LCA_Cranial_LAO.append(mypath_LCA_Cranial_LAO + '\\\\' + l) \n",
    "    \n",
    "f = []\n",
    "f_LCA_Spider = []\n",
    "mypath_LCA_Spider = pathBase + 'LCA_Spider'\n",
    "for (dirpath, dirnames, filenames) in walk(mypath_LCA_Spider):\n",
    "    f.extend(filenames)\n",
    "for l in f:\n",
    "    f_LCA_Spider.append(mypath_LCA_Spider + '\\\\' + l) \n",
    "    \n",
    "f = []\n",
    "f_RCA_Cranial = []\n",
    "mypath_RCA_Cranial = pathBase + 'RCA_Cranial'\n",
    "for (dirpath, dirnames, filenames) in walk(mypath_RCA_Cranial):\n",
    "    f.extend(filenames)\n",
    "for l in f:\n",
    "    f_RCA_Cranial.append(mypath_RCA_Cranial + '\\\\' + l) \n",
    "    \n",
    "f = []\n",
    "f_RCA_LAO = []\n",
    "mypath_RCA_LAO = pathBase + 'RCA_LAO'\n",
    "for (dirpath, dirnames, filenames) in walk(mypath_RCA_LAO):\n",
    "    f.extend(filenames)\n",
    "for l in f:\n",
    "    f_RCA_LAO.append(mypath_RCA_LAO + '\\\\' + l) \n",
    "    \n",
    "\n",
    "theWhole['LCA_Caudal'] = f_LCA_Caudal\n",
    "theWhole['LCA_Cranial'] = f_LCA_Cranial\n",
    "theWhole['LCA_Cranial_LAO'] = f_LCA_Cranial_LAO\n",
    "theWhole['LCA_Spider'] = f_LCA_Spider\n",
    "theWhole['RCA_Cranial'] = f_RCA_Cranial\n",
    "theWhole['RCA_LAO'] = f_RCA_LAO\n",
    "        "
   ]
  },
  {
   "cell_type": "code",
   "execution_count": 11,
   "metadata": {},
   "outputs": [
    {
     "name": "stdout",
     "output_type": "stream",
     "text": [
      "2.233703851699829\n"
     ]
    }
   ],
   "source": [
    "start = time.time()\n",
    "\n",
    "array = {}\n",
    "i = 0\n",
    "\n",
    "for view in theWhole.keys():\n",
    "    array[view] = []\n",
    "    for case in theWhole[view]:\n",
    "        if case.split('.')[-1] == 'npy':\n",
    "            arr = np.load(case)\n",
    "            array[view].append(arr)\n",
    "\n",
    "end = time.time()\n",
    "print(end - start)"
   ]
  },
  {
   "cell_type": "markdown",
   "metadata": {},
   "source": [
    "### 2D to 1D"
   ]
  },
  {
   "cell_type": "code",
   "execution_count": 12,
   "metadata": {},
   "outputs": [],
   "source": [
    "array_flat = {}\n",
    "\n",
    "for view in array.keys():\n",
    "    array_flat[view] = []\n",
    "    for case in array[view]:\n",
    "        case_flat = []\n",
    "        for row in case:\n",
    "            for column in row:\n",
    "                case_flat.append(column)            \n",
    "        array_flat[view].append(case_flat)"
   ]
  },
  {
   "cell_type": "code",
   "execution_count": 13,
   "metadata": {},
   "outputs": [],
   "source": [
    "x_test_list = []\n",
    "y_test_list = []\n",
    "\n",
    "for y, x in array_flat.items():    \n",
    "    for x_item in x:\n",
    "        x_test_list.append(x_item)\n",
    "        y_test_list.append(y)"
   ]
  },
  {
   "cell_type": "code",
   "execution_count": 14,
   "metadata": {},
   "outputs": [],
   "source": [
    "X_test = np.array(x_test_list)\n",
    "y_test = np.array(y_test_list)"
   ]
  },
  {
   "cell_type": "markdown",
   "metadata": {},
   "source": [
    "## Performance Measures"
   ]
  },
  {
   "cell_type": "code",
   "execution_count": 15,
   "metadata": {},
   "outputs": [],
   "source": [
    "y_predict = clf.predict(X_test)\n",
    "y_test = y_test"
   ]
  },
  {
   "cell_type": "code",
   "execution_count": 16,
   "metadata": {},
   "outputs": [
    {
     "data": {
      "text/plain": [
       "array(['LCA_Caudal', 'LCA_Caudal', 'LCA_Caudal', 'LCA_Caudal',\n",
       "       'LCA_Caudal', 'LCA_Caudal', 'LCA_Caudal', 'LCA_Caudal',\n",
       "       'LCA_Caudal', 'LCA_Caudal', 'LCA_Cranial', 'LCA_Cranial',\n",
       "       'LCA_Cranial', 'LCA_Cranial', 'RCA_Cranial', 'LCA_Cranial',\n",
       "       'LCA_Cranial', 'LCA_Caudal', 'LCA_Cranial', 'LCA_Cranial',\n",
       "       'LCA_Cranial', 'LCA_Cranial', 'LCA_Cranial_LAO', 'LCA_Cranial_LAO',\n",
       "       'LCA_Cranial', 'LCA_Cranial_LAO', 'LCA_Cranial', 'RCA_Cranial',\n",
       "       'LCA_Spider', 'RCA_Cranial', 'LCA_Spider', 'LCA_Spider',\n",
       "       'LCA_Spider', 'LCA_Spider', 'LCA_Spider', 'LCA_Spider',\n",
       "       'LCA_Spider', 'LCA_Spider', 'RCA_Cranial', 'RCA_Cranial',\n",
       "       'LCA_Cranial_LAO', 'RCA_LAO', 'RCA_Cranial', 'LCA_Cranial',\n",
       "       'RCA_Cranial', 'RCA_LAO', 'RCA_Cranial', 'RCA_Cranial', 'RCA_LAO',\n",
       "       'RCA_LAO', 'RCA_LAO', 'RCA_LAO', 'RCA_LAO', 'RCA_LAO', 'RCA_LAO',\n",
       "       'RCA_LAO', 'RCA_LAO', 'RCA_LAO', 'RCA_LAO'], dtype='<U15')"
      ]
     },
     "execution_count": 16,
     "metadata": {},
     "output_type": "execute_result"
    }
   ],
   "source": [
    "y_predict"
   ]
  },
  {
   "cell_type": "code",
   "execution_count": 17,
   "metadata": {},
   "outputs": [
    {
     "data": {
      "text/plain": [
       "array(['LCA_Caudal', 'LCA_Caudal', 'LCA_Caudal', 'LCA_Caudal',\n",
       "       'LCA_Caudal', 'LCA_Caudal', 'LCA_Caudal', 'LCA_Caudal',\n",
       "       'LCA_Caudal', 'LCA_Caudal', 'LCA_Cranial', 'LCA_Cranial',\n",
       "       'LCA_Cranial', 'LCA_Cranial', 'LCA_Cranial', 'LCA_Cranial',\n",
       "       'LCA_Cranial', 'LCA_Cranial', 'LCA_Cranial', 'LCA_Cranial',\n",
       "       'LCA_Cranial', 'LCA_Cranial', 'LCA_Cranial', 'LCA_Cranial_LAO',\n",
       "       'LCA_Cranial_LAO', 'LCA_Cranial_LAO', 'LCA_Cranial_LAO',\n",
       "       'LCA_Cranial_LAO', 'LCA_Spider', 'LCA_Spider', 'LCA_Spider',\n",
       "       'LCA_Spider', 'LCA_Spider', 'LCA_Spider', 'LCA_Spider',\n",
       "       'LCA_Spider', 'LCA_Spider', 'LCA_Spider', 'RCA_Cranial',\n",
       "       'RCA_Cranial', 'RCA_Cranial', 'RCA_Cranial', 'RCA_Cranial',\n",
       "       'RCA_Cranial', 'RCA_Cranial', 'RCA_Cranial', 'RCA_Cranial',\n",
       "       'RCA_Cranial', 'RCA_LAO', 'RCA_LAO', 'RCA_LAO', 'RCA_LAO',\n",
       "       'RCA_LAO', 'RCA_LAO', 'RCA_LAO', 'RCA_LAO', 'RCA_LAO', 'RCA_LAO',\n",
       "       'RCA_LAO'], dtype='<U15')"
      ]
     },
     "execution_count": 17,
     "metadata": {},
     "output_type": "execute_result"
    }
   ],
   "source": [
    "y_test"
   ]
  },
  {
   "cell_type": "markdown",
   "metadata": {},
   "source": [
    "### Confusion Matrix (混淆矩阵)"
   ]
  },
  {
   "cell_type": "code",
   "execution_count": 18,
   "metadata": {},
   "outputs": [
    {
     "data": {
      "text/html": [
       "<div>\n",
       "<style scoped>\n",
       "    .dataframe tbody tr th:only-of-type {\n",
       "        vertical-align: middle;\n",
       "    }\n",
       "\n",
       "    .dataframe tbody tr th {\n",
       "        vertical-align: top;\n",
       "    }\n",
       "\n",
       "    .dataframe thead th {\n",
       "        text-align: right;\n",
       "    }\n",
       "</style>\n",
       "<table border=\"1\" class=\"dataframe\">\n",
       "  <thead>\n",
       "    <tr style=\"text-align: right;\">\n",
       "      <th></th>\n",
       "      <th>Predictive LCA_Caudal</th>\n",
       "      <th>Predictive LCA_Cranial</th>\n",
       "      <th>Predictive LCA_Cranial_LAO</th>\n",
       "      <th>Predictive LCA_Spider</th>\n",
       "      <th>Predictive RCA_Cranial</th>\n",
       "      <th>Predictive RCA_LAO</th>\n",
       "    </tr>\n",
       "  </thead>\n",
       "  <tbody>\n",
       "    <tr>\n",
       "      <th>LCA_Caudal</th>\n",
       "      <td>10</td>\n",
       "      <td>0</td>\n",
       "      <td>0</td>\n",
       "      <td>0</td>\n",
       "      <td>0</td>\n",
       "      <td>0</td>\n",
       "    </tr>\n",
       "    <tr>\n",
       "      <th>LCA_Cranial</th>\n",
       "      <td>1</td>\n",
       "      <td>10</td>\n",
       "      <td>1</td>\n",
       "      <td>0</td>\n",
       "      <td>1</td>\n",
       "      <td>0</td>\n",
       "    </tr>\n",
       "    <tr>\n",
       "      <th>LCA_Cranial_LAO</th>\n",
       "      <td>0</td>\n",
       "      <td>2</td>\n",
       "      <td>2</td>\n",
       "      <td>0</td>\n",
       "      <td>1</td>\n",
       "      <td>0</td>\n",
       "    </tr>\n",
       "    <tr>\n",
       "      <th>LCA_Spider</th>\n",
       "      <td>0</td>\n",
       "      <td>0</td>\n",
       "      <td>0</td>\n",
       "      <td>9</td>\n",
       "      <td>1</td>\n",
       "      <td>0</td>\n",
       "    </tr>\n",
       "    <tr>\n",
       "      <th>RCA_Cranial</th>\n",
       "      <td>0</td>\n",
       "      <td>1</td>\n",
       "      <td>1</td>\n",
       "      <td>0</td>\n",
       "      <td>6</td>\n",
       "      <td>2</td>\n",
       "    </tr>\n",
       "    <tr>\n",
       "      <th>RCA_LAO</th>\n",
       "      <td>0</td>\n",
       "      <td>0</td>\n",
       "      <td>0</td>\n",
       "      <td>0</td>\n",
       "      <td>0</td>\n",
       "      <td>11</td>\n",
       "    </tr>\n",
       "  </tbody>\n",
       "</table>\n",
       "</div>"
      ],
      "text/plain": [
       "                 Predictive LCA_Caudal  Predictive LCA_Cranial  \\\n",
       "LCA_Caudal                          10                       0   \n",
       "LCA_Cranial                          1                      10   \n",
       "LCA_Cranial_LAO                      0                       2   \n",
       "LCA_Spider                           0                       0   \n",
       "RCA_Cranial                          0                       1   \n",
       "RCA_LAO                              0                       0   \n",
       "\n",
       "                 Predictive LCA_Cranial_LAO  Predictive LCA_Spider  \\\n",
       "LCA_Caudal                                0                      0   \n",
       "LCA_Cranial                               1                      0   \n",
       "LCA_Cranial_LAO                           2                      0   \n",
       "LCA_Spider                                0                      9   \n",
       "RCA_Cranial                               1                      0   \n",
       "RCA_LAO                                   0                      0   \n",
       "\n",
       "                 Predictive RCA_Cranial  Predictive RCA_LAO  \n",
       "LCA_Caudal                            0                   0  \n",
       "LCA_Cranial                           1                   0  \n",
       "LCA_Cranial_LAO                       1                   0  \n",
       "LCA_Spider                            1                   0  \n",
       "RCA_Cranial                           6                   2  \n",
       "RCA_LAO                               0                  11  "
      ]
     },
     "execution_count": 18,
     "metadata": {},
     "output_type": "execute_result"
    }
   ],
   "source": [
    "cm = np.array(confusion_matrix(y_test, y_predict, labels=['LCA_Caudal', 'LCA_Cranial', \n",
    "                                                          'LCA_Cranial_LAO', 'LCA_Spider', \n",
    "                                                          'RCA_Cranial', 'RCA_LAO']))\n",
    "confusion = pd.DataFrame(cm, index=['LCA_Caudal', 'LCA_Cranial', \n",
    "                                    'LCA_Cranial_LAO', 'LCA_Spider',\n",
    "                                    'RCA_Cranial', 'RCA_LAO'],\n",
    "                        columns=['Predictive LCA_Caudal', 'Predictive LCA_Cranial', \n",
    "                                    'Predictive LCA_Cranial_LAO', 'Predictive LCA_Spider',\n",
    "                                    'Predictive RCA_Cranial', 'Predictive RCA_LAO'])\n",
    "confusion.to_csv('ConfusionMatrix.csv')\n",
    "confusion"
   ]
  },
  {
   "cell_type": "code",
   "execution_count": 19,
   "metadata": {},
   "outputs": [
    {
     "name": "stdout",
     "output_type": "stream",
     "text": [
      "                 precision    recall  f1-score   support\n",
      "\n",
      "     LCA_Caudal       0.91      1.00      0.95        10\n",
      "    LCA_Cranial       0.77      0.77      0.77        13\n",
      "LCA_Cranial_LAO       0.50      0.40      0.44         5\n",
      "     LCA_Spider       1.00      0.90      0.95        10\n",
      "    RCA_Cranial       0.67      0.60      0.63        10\n",
      "        RCA_LAO       0.85      1.00      0.92        11\n",
      "\n",
      "       accuracy                           0.81        59\n",
      "      macro avg       0.78      0.78      0.78        59\n",
      "   weighted avg       0.81      0.81      0.81        59\n",
      "\n"
     ]
    }
   ],
   "source": [
    "print(classification_report(y_test, y_predict))"
   ]
  },
  {
   "cell_type": "markdown",
   "metadata": {},
   "source": [
    "## Save the Model"
   ]
  },
  {
   "cell_type": "code",
   "execution_count": 20,
   "metadata": {},
   "outputs": [
    {
     "name": "stdout",
     "output_type": "stream",
     "text": [
      "['trained_model.m']\n"
     ]
    }
   ],
   "source": [
    "c = joblib.dump(clf, 'trained_model.m')\n",
    "print(c)"
   ]
  },
  {
   "cell_type": "markdown",
   "metadata": {},
   "source": [
    "## Load the Model"
   ]
  },
  {
   "cell_type": "code",
   "execution_count": 21,
   "metadata": {},
   "outputs": [
    {
     "name": "stdout",
     "output_type": "stream",
     "text": [
      "SVC(C=1.0, cache_size=200, class_weight=None, coef0=0.0,\n",
      "    decision_function_shape='ovo', degree=3, gamma='auto_deprecated',\n",
      "    kernel='linear', max_iter=-1, probability=False, random_state=None,\n",
      "    shrinking=True, tol=0.001, verbose=False)\n"
     ]
    }
   ],
   "source": [
    "d = joblib.load('trained_model.m')\n",
    "print(d)"
   ]
  },
  {
   "cell_type": "code",
   "execution_count": null,
   "metadata": {},
   "outputs": [],
   "source": []
  }
 ],
 "metadata": {
  "kernelspec": {
   "display_name": "Python 3",
   "language": "python",
   "name": "python3"
  },
  "language_info": {
   "codemirror_mode": {
    "name": "ipython",
    "version": 3
   },
   "file_extension": ".py",
   "mimetype": "text/x-python",
   "name": "python",
   "nbconvert_exporter": "python",
   "pygments_lexer": "ipython3",
   "version": "3.7.4"
  }
 },
 "nbformat": 4,
 "nbformat_minor": 2
}
