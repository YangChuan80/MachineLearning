{
 "cells": [
  {
   "cell_type": "code",
   "execution_count": 1,
   "metadata": {},
   "outputs": [],
   "source": [
    "from PIL import Image\n",
    "import numpy as np\n",
    "import pandas as pd\n",
    "import matplotlib.pyplot as plt\n",
    "\n",
    "\n",
    "from sklearn import svm\n",
    "from sklearn.metrics import classification_report, confusion_matrix\n",
    "import joblib\n",
    "from os import walk\n",
    "\n",
    "import time\n",
    "\n",
    "%matplotlib inline"
   ]
  },
  {
   "cell_type": "code",
   "execution_count": 2,
   "metadata": {},
   "outputs": [],
   "source": [
    "pathBase = 'I://Chuan//Documents//MyData//DICOM//NormalCAG//Arrangement//'\n",
    "theWhole = {}\n",
    "\n",
    "f = []\n",
    "f_LCA_Caudal = []\n",
    "mypath_LCA_Caudal = pathBase + 'LCA_Caudal'\n",
    "for (dirpath, dirnames, filenames) in walk(mypath_LCA_Caudal):\n",
    "    f.extend(filenames)\n",
    "for l in f:\n",
    "    f_LCA_Caudal.append(mypath_LCA_Caudal + '\\\\' + l) \n",
    "    \n",
    "f = []\n",
    "f_LCA_Cranial = []\n",
    "mypath_LCA_Cranial = pathBase + 'LCA_Cranial'\n",
    "for (dirpath, dirnames, filenames) in walk(mypath_LCA_Cranial):\n",
    "    f.extend(filenames)\n",
    "for l in f:\n",
    "    f_LCA_Cranial.append(mypath_LCA_Cranial + '\\\\' + l) \n",
    "    \n",
    "f = []\n",
    "f_LCA_Cranial_LAO = []\n",
    "mypath_LCA_Cranial_LAO = pathBase + 'LCA_Cranial_LAO'\n",
    "for (dirpath, dirnames, filenames) in walk(mypath_LCA_Cranial_LAO):\n",
    "    f.extend(filenames)\n",
    "for l in f:\n",
    "    f_LCA_Cranial_LAO.append(mypath_LCA_Cranial_LAO + '\\\\' + l) \n",
    "    \n",
    "f = []\n",
    "f_LCA_Spider = []\n",
    "mypath_LCA_Spider = pathBase + 'LCA_Spider'\n",
    "for (dirpath, dirnames, filenames) in walk(mypath_LCA_Spider):\n",
    "    f.extend(filenames)\n",
    "for l in f:\n",
    "    f_LCA_Spider.append(mypath_LCA_Spider + '\\\\' + l) \n",
    "    \n",
    "f = []\n",
    "f_RCA_Cranial = []\n",
    "mypath_RCA_Cranial = pathBase + 'RCA_Cranial'\n",
    "for (dirpath, dirnames, filenames) in walk(mypath_RCA_Cranial):\n",
    "    f.extend(filenames)\n",
    "for l in f:\n",
    "    f_RCA_Cranial.append(mypath_RCA_Cranial + '\\\\' + l) \n",
    "    \n",
    "f = []\n",
    "f_RCA_LAO = []\n",
    "mypath_RCA_LAO = pathBase + 'RCA_LAO'\n",
    "for (dirpath, dirnames, filenames) in walk(mypath_RCA_LAO):\n",
    "    f.extend(filenames)\n",
    "for l in f:\n",
    "    f_RCA_LAO.append(mypath_RCA_LAO + '\\\\' + l) \n",
    "    \n",
    "\n",
    "theWhole['LCA_Caudal'] = f_LCA_Caudal\n",
    "theWhole['LCA_Cranial'] = f_LCA_Cranial\n",
    "theWhole['LCA_Cranial_LAO'] = f_LCA_Cranial_LAO\n",
    "theWhole['LCA_Spider'] = f_LCA_Spider\n",
    "theWhole['RCA_Cranial'] = f_RCA_Cranial\n",
    "theWhole['RCA_LAO'] = f_RCA_LAO\n",
    "        "
   ]
  },
  {
   "cell_type": "code",
   "execution_count": 3,
   "metadata": {},
   "outputs": [
    {
     "data": {
      "text/plain": [
       "'npy'"
      ]
     },
     "execution_count": 3,
     "metadata": {},
     "output_type": "execute_result"
    }
   ],
   "source": [
    "theWhole['LCA_Cranial_LAO'][1].split('.')[-1]"
   ]
  },
  {
   "cell_type": "code",
   "execution_count": 4,
   "metadata": {},
   "outputs": [
    {
     "name": "stdout",
     "output_type": "stream",
     "text": [
      "0.06058955192565918\n"
     ]
    }
   ],
   "source": [
    "start = time.time()\n",
    "\n",
    "array = {}\n",
    "i = 0\n",
    "\n",
    "for view in theWhole.keys():\n",
    "    array[view] = []\n",
    "    for case in theWhole[view]:\n",
    "        if case.split('.')[-1] == 'npy':\n",
    "            arr = np.load(case)\n",
    "            array[view].append(arr)\n",
    "\n",
    "end = time.time()\n",
    "print(end - start)"
   ]
  },
  {
   "cell_type": "markdown",
   "metadata": {},
   "source": [
    "### 2D to 1D"
   ]
  },
  {
   "cell_type": "code",
   "execution_count": 5,
   "metadata": {},
   "outputs": [],
   "source": [
    "array_flat = {}\n",
    "\n",
    "for view in array.keys():\n",
    "    array_flat[view] = []\n",
    "    for case in array[view]:\n",
    "        case_flat = []\n",
    "        for row in case:\n",
    "            for column in row:\n",
    "                case_flat.append(column)            \n",
    "        array_flat[view].append(case_flat)"
   ]
  },
  {
   "cell_type": "markdown",
   "metadata": {},
   "source": [
    "## Support Vector Classification"
   ]
  },
  {
   "cell_type": "code",
   "execution_count": 6,
   "metadata": {},
   "outputs": [],
   "source": [
    "x_train_list = []\n",
    "y_train_list = []\n",
    "\n",
    "for y, x in array_flat.items():    \n",
    "    for x_item in x:\n",
    "        x_train_list.append(x_item)\n",
    "        y_train_list.append(y)"
   ]
  },
  {
   "cell_type": "markdown",
   "metadata": {},
   "source": [
    "### Training"
   ]
  },
  {
   "cell_type": "code",
   "execution_count": 7,
   "metadata": {},
   "outputs": [],
   "source": [
    "start = time.time()\n",
    "\n",
    "X_train = np.array(x_train_list)\n",
    "y_train = np.array(y_train_list)\n",
    "\n",
    "# linear kernel\n",
    "clf = svm.SVC(kernel='linear', decision_function_shape='ovo')\n",
    "clf.fit(X_train, y_train)\n",
    "\n",
    "end = time.time()"
   ]
  },
  {
   "cell_type": "code",
   "execution_count": 8,
   "metadata": {},
   "outputs": [
    {
     "name": "stdout",
     "output_type": "stream",
     "text": [
      "1.9879734516143799\n"
     ]
    }
   ],
   "source": [
    "print(end - start)"
   ]
  },
  {
   "cell_type": "markdown",
   "metadata": {},
   "source": [
    "### Prediction"
   ]
  },
  {
   "cell_type": "code",
   "execution_count": 9,
   "metadata": {},
   "outputs": [
    {
     "name": "stdout",
     "output_type": "stream",
     "text": [
      "w =  [[ 3.71358029e-08 -5.87524412e-08 -4.55746993e-08 ... -1.11970404e-06\n",
      "  -9.91149109e-07 -7.96222182e-07]\n",
      " [ 1.86358919e-07  1.48999228e-07  1.27565142e-07 ... -8.76974118e-07\n",
      "  -8.39048051e-07 -8.92634175e-07]\n",
      " [-1.12354021e-06 -1.19722618e-06 -1.22869127e-06 ... -6.20551071e-07\n",
      "  -6.34225405e-07 -6.47787946e-07]\n",
      " ...\n",
      " [-5.85493711e-08 -7.12020038e-07 -1.13160136e-06 ...  9.41286197e-08\n",
      "   1.69426526e-07  3.40008629e-07]\n",
      " [-3.96262431e-07 -3.94312521e-07 -3.68295299e-07 ...  5.48760059e-07\n",
      "   5.23746058e-07  4.88067391e-07]\n",
      " [-2.38269050e-06 -1.49737760e-06 -9.70163670e-07 ...  1.41536279e-06\n",
      "   1.41851048e-06  1.20453046e-06]]\n",
      "b =  [ 0.70237052 -2.22275593  3.99717007 -2.65883806 -1.04428951 -6.15360492\n",
      "  5.50809337 -0.79513743 -0.39100926  6.20820255  2.07045181  1.27471169\n",
      " -7.02164537 -2.59698468 -2.30842358]\n",
      "Indices of support vectors =  [ 0  1  2  3  4  5  6  7  8  9 10 11 12 13 14 15 16 17 18 19 20 21 22 23\n",
      " 24 25 26 27 28 29 30 31 32 33 34 35 37 38 39 40]\n",
      "Support vectors =  [[ 92.34482759  88.81034483  84.98275862 ...  94.53448276  93.20689655\n",
      "   92.18965517]\n",
      " [ 96.82666667  92.6         89.22666667 ... 119.26666667 116.77333333\n",
      "  113.61333333]\n",
      " [106.99056604 106.76415094 106.25471698 ... 124.75471698 123.23584906\n",
      "  120.41509434]\n",
      " ...\n",
      " [135.70512821 135.         133.34615385 ... 111.12820513 111.15384615\n",
      "  111.17948718]\n",
      " [122.98275862 122.48275862 121.94827586 ...  99.24137931  98.53448276\n",
      "   98.60344828]\n",
      " [146.03333333 145.93333333 145.7        ... 108.3        109.8\n",
      "  111.46666667]]\n",
      "Number of support vectors for each class =  [9 7 7 7 6 4]\n",
      "Coefficients of the support vector in the decision function =  [[6.47579359e-09 0.00000000e+00 3.12723011e-08 7.09364166e-09\n",
      "  5.38458978e-09 1.24817782e-08 7.12439945e-09 4.51059936e-08\n",
      "  5.18542985e-09 3.54647840e-08 0.00000000e+00 1.76657462e-09\n",
      "  3.42545324e-08 1.33297330e-08 2.83614298e-08 6.94687357e-09\n",
      "  2.59545814e-08 2.85275461e-09 0.00000000e+00 1.81753680e-08\n",
      "  3.28637624e-08 2.04978836e-08 1.37145629e-08 3.07751032e-10\n",
      "  6.57119521e-09 0.00000000e+00 1.71440113e-08 0.00000000e+00\n",
      "  7.64498966e-09 6.02606360e-09 2.79845419e-08 1.23723930e-08\n",
      "  0.00000000e+00 0.00000000e+00 9.29284604e-09 0.00000000e+00\n",
      "  1.08902170e-09 6.58364921e-09 5.70121025e-09 1.07664116e-08]\n",
      " [1.50851303e-09 0.00000000e+00 2.96532102e-08 1.91949011e-08\n",
      "  4.63413062e-09 9.03596223e-09 7.66000028e-09 4.23721955e-08\n",
      "  0.00000000e+00 7.74437911e-08 1.22224125e-09 1.70441018e-08\n",
      "  3.76241483e-08 5.45613453e-09 9.66641130e-09 1.65154982e-08\n",
      "  3.25714516e-08 1.10426585e-08 1.20025219e-08 3.83935334e-08\n",
      "  3.42445530e-08 1.12606784e-08 2.54569298e-08 1.72153003e-09\n",
      "  8.17495326e-09 0.00000000e+00 1.30365359e-08 0.00000000e+00\n",
      "  6.04843815e-09 6.13129964e-09 1.97496855e-08 5.18130468e-09\n",
      "  0.00000000e+00 0.00000000e+00 2.16774133e-08 0.00000000e+00\n",
      "  5.05684857e-09 3.21270200e-09 5.85322663e-09 1.57595793e-08]\n",
      " [0.00000000e+00 1.90662893e-09 1.61298925e-08 1.27417215e-09\n",
      "  0.00000000e+00 0.00000000e+00 0.00000000e+00 1.83833172e-08\n",
      "  0.00000000e+00 6.70532277e-09 0.00000000e+00 0.00000000e+00\n",
      "  8.59614167e-09 4.03271792e-09 4.47763180e-09 1.13009428e-08\n",
      "  5.13569851e-09 2.76814366e-08 0.00000000e+00 0.00000000e+00\n",
      "  1.17441194e-08 6.15613753e-09 1.54873575e-08 0.00000000e+00\n",
      "  8.88952254e-09 0.00000000e+00 2.25326070e-08 3.88970692e-09\n",
      "  2.10875438e-08 9.80536916e-09 2.64102436e-08 1.49985037e-08\n",
      "  7.47830284e-09 2.11536204e-09 2.06562197e-08 1.25589175e-08\n",
      "  3.55322601e-09 1.85705300e-08 8.48412348e-09 1.57385672e-08]\n",
      " [0.00000000e+00 8.32505030e-09 9.30322969e-09 0.00000000e+00\n",
      "  0.00000000e+00 0.00000000e+00 0.00000000e+00 2.42264036e-08\n",
      "  7.79509740e-09 1.20663894e-08 0.00000000e+00 4.39434223e-09\n",
      "  1.00362847e-08 1.30028790e-08 0.00000000e+00 7.10850820e-09\n",
      "  4.87417696e-09 1.77728208e-08 0.00000000e+00 0.00000000e+00\n",
      "  1.31551872e-08 1.12403846e-08 3.71749799e-08 0.00000000e+00\n",
      "  2.17110646e-08 2.10613338e-08 8.20220282e-09 2.69435069e-10\n",
      "  3.58552379e-08 1.03809136e-08 6.02272497e-09 2.23420488e-08\n",
      "  2.09974457e-08 2.12409854e-08 0.00000000e+00 2.68769830e-08\n",
      "  0.00000000e+00 1.79974383e-08 0.00000000e+00 2.09426962e-08]\n",
      " [0.00000000e+00 0.00000000e+00 1.05473977e-09 0.00000000e+00\n",
      "  0.00000000e+00 0.00000000e+00 6.58276077e-10 1.57500245e-08\n",
      "  6.67725244e-09 1.93413744e-09 0.00000000e+00 6.17656320e-09\n",
      "  1.60774615e-09 1.08948696e-08 0.00000000e+00 9.26904010e-09\n",
      "  0.00000000e+00 1.02167589e-08 0.00000000e+00 0.00000000e+00\n",
      "  1.22864795e-09 7.10158085e-09 2.77994590e-08 0.00000000e+00\n",
      "  1.33172592e-08 0.00000000e+00 3.27073025e-09 3.80815233e-09\n",
      "  1.69545164e-08 1.58947637e-09 5.39028898e-09 0.00000000e+00\n",
      "  3.24523981e-08 0.00000000e+00 1.32678478e-07 1.16307570e-08\n",
      "  0.00000000e+00 3.33171990e-08 7.07685025e-08 7.80662207e-08]]\n"
     ]
    }
   ],
   "source": [
    "print('w = ',clf.coef_)\n",
    "print('b = ',clf.intercept_)\n",
    "print('Indices of support vectors = ', clf.support_)\n",
    "print('Support vectors = ', clf.support_vectors_)\n",
    "print('Number of support vectors for each class = ', clf.n_support_)\n",
    "print('Coefficients of the support vector in the decision function = ', np.abs(clf.dual_coef_))"
   ]
  },
  {
   "cell_type": "code",
   "execution_count": 10,
   "metadata": {},
   "outputs": [],
   "source": [
    "pathBase = 'I://Chuan//Documents//MyData//DICOM//NormalCAG//Arrangement//test//'\n",
    "theWhole = {}\n",
    "\n",
    "f = []\n",
    "f_LCA_Caudal = []\n",
    "mypath_LCA_Caudal = pathBase + 'LCA_Caudal'\n",
    "for (dirpath, dirnames, filenames) in walk(mypath_LCA_Caudal):\n",
    "    f.extend(filenames)\n",
    "for l in f:\n",
    "    f_LCA_Caudal.append(mypath_LCA_Caudal + '\\\\' + l) \n",
    "    \n",
    "f = []\n",
    "f_LCA_Cranial = []\n",
    "mypath_LCA_Cranial = pathBase + 'LCA_Cranial'\n",
    "for (dirpath, dirnames, filenames) in walk(mypath_LCA_Cranial):\n",
    "    f.extend(filenames)\n",
    "for l in f:\n",
    "    f_LCA_Cranial.append(mypath_LCA_Cranial + '\\\\' + l) \n",
    "    \n",
    "f = []\n",
    "f_LCA_Cranial_LAO = []\n",
    "mypath_LCA_Cranial_LAO = pathBase + 'LCA_Cranial_LAO'\n",
    "for (dirpath, dirnames, filenames) in walk(mypath_LCA_Cranial_LAO):\n",
    "    f.extend(filenames)\n",
    "for l in f:\n",
    "    f_LCA_Cranial_LAO.append(mypath_LCA_Cranial_LAO + '\\\\' + l) \n",
    "    \n",
    "f = []\n",
    "f_LCA_Spider = []\n",
    "mypath_LCA_Spider = pathBase + 'LCA_Spider'\n",
    "for (dirpath, dirnames, filenames) in walk(mypath_LCA_Spider):\n",
    "    f.extend(filenames)\n",
    "for l in f:\n",
    "    f_LCA_Spider.append(mypath_LCA_Spider + '\\\\' + l) \n",
    "    \n",
    "f = []\n",
    "f_RCA_Cranial = []\n",
    "mypath_RCA_Cranial = pathBase + 'RCA_Cranial'\n",
    "for (dirpath, dirnames, filenames) in walk(mypath_RCA_Cranial):\n",
    "    f.extend(filenames)\n",
    "for l in f:\n",
    "    f_RCA_Cranial.append(mypath_RCA_Cranial + '\\\\' + l) \n",
    "    \n",
    "f = []\n",
    "f_RCA_LAO = []\n",
    "mypath_RCA_LAO = pathBase + 'RCA_LAO'\n",
    "for (dirpath, dirnames, filenames) in walk(mypath_RCA_LAO):\n",
    "    f.extend(filenames)\n",
    "for l in f:\n",
    "    f_RCA_LAO.append(mypath_RCA_LAO + '\\\\' + l) \n",
    "    \n",
    "\n",
    "theWhole['LCA_Caudal'] = f_LCA_Caudal\n",
    "theWhole['LCA_Cranial'] = f_LCA_Cranial\n",
    "theWhole['LCA_Cranial_LAO'] = f_LCA_Cranial_LAO\n",
    "theWhole['LCA_Spider'] = f_LCA_Spider\n",
    "theWhole['RCA_Cranial'] = f_RCA_Cranial\n",
    "theWhole['RCA_LAO'] = f_RCA_LAO\n",
    "        "
   ]
  },
  {
   "cell_type": "code",
   "execution_count": 11,
   "metadata": {},
   "outputs": [
    {
     "name": "stdout",
     "output_type": "stream",
     "text": [
      "0.5890915393829346\n"
     ]
    }
   ],
   "source": [
    "start = time.time()\n",
    "\n",
    "array = {}\n",
    "i = 0\n",
    "\n",
    "for view in theWhole.keys():\n",
    "    array[view] = []\n",
    "    for case in theWhole[view]:\n",
    "        if case.split('.')[-1] == 'npy':\n",
    "            arr = np.load(case)\n",
    "            array[view].append(arr)\n",
    "\n",
    "end = time.time()\n",
    "print(end - start)"
   ]
  },
  {
   "cell_type": "markdown",
   "metadata": {},
   "source": [
    "### 2D to 1D"
   ]
  },
  {
   "cell_type": "code",
   "execution_count": 12,
   "metadata": {},
   "outputs": [],
   "source": [
    "array_flat = {}\n",
    "\n",
    "for view in array.keys():\n",
    "    array_flat[view] = []\n",
    "    for case in array[view]:\n",
    "        case_flat = []\n",
    "        for row in case:\n",
    "            for column in row:\n",
    "                case_flat.append(column)            \n",
    "        array_flat[view].append(case_flat)"
   ]
  },
  {
   "cell_type": "code",
   "execution_count": 13,
   "metadata": {},
   "outputs": [],
   "source": [
    "x_test_list = []\n",
    "y_test_list = []\n",
    "\n",
    "for y, x in array_flat.items():    \n",
    "    for x_item in x:\n",
    "        x_test_list.append(x_item)\n",
    "        y_test_list.append(y)"
   ]
  },
  {
   "cell_type": "code",
   "execution_count": 14,
   "metadata": {},
   "outputs": [],
   "source": [
    "X_test = np.array(x_test_list)\n",
    "y_test = np.array(y_test_list)"
   ]
  },
  {
   "cell_type": "markdown",
   "metadata": {},
   "source": [
    "## Performance Measures"
   ]
  },
  {
   "cell_type": "code",
   "execution_count": 15,
   "metadata": {},
   "outputs": [],
   "source": [
    "y_predict = clf.predict(X_test)\n",
    "y_test = y_test"
   ]
  },
  {
   "cell_type": "code",
   "execution_count": 16,
   "metadata": {},
   "outputs": [
    {
     "data": {
      "text/plain": [
       "array(['LCA_Caudal', 'LCA_Caudal', 'LCA_Caudal', 'LCA_Caudal',\n",
       "       'LCA_Cranial', 'LCA_Cranial', 'LCA_Cranial_LAO', 'LCA_Cranial',\n",
       "       'LCA_Cranial', 'LCA_Cranial', 'LCA_Cranial', 'LCA_Cranial_LAO',\n",
       "       'RCA_Cranial', 'LCA_Cranial_LAO', 'RCA_LAO', 'LCA_Spider',\n",
       "       'RCA_Cranial', 'LCA_Cranial_LAO', 'LCA_Spider', 'LCA_Spider',\n",
       "       'RCA_LAO', 'RCA_LAO', 'RCA_Cranial', 'RCA_LAO', 'RCA_Cranial',\n",
       "       'RCA_LAO', 'RCA_LAO', 'RCA_Cranial', 'RCA_LAO', 'RCA_LAO'],\n",
       "      dtype='<U15')"
      ]
     },
     "execution_count": 16,
     "metadata": {},
     "output_type": "execute_result"
    }
   ],
   "source": [
    "y_predict"
   ]
  },
  {
   "cell_type": "code",
   "execution_count": 17,
   "metadata": {},
   "outputs": [
    {
     "data": {
      "text/plain": [
       "array(['LCA_Caudal', 'LCA_Caudal', 'LCA_Caudal', 'LCA_Caudal',\n",
       "       'LCA_Caudal', 'LCA_Cranial', 'LCA_Cranial', 'LCA_Cranial',\n",
       "       'LCA_Cranial', 'LCA_Cranial', 'LCA_Cranial_LAO', 'LCA_Cranial_LAO',\n",
       "       'LCA_Cranial_LAO', 'LCA_Cranial_LAO', 'LCA_Cranial_LAO',\n",
       "       'LCA_Spider', 'LCA_Spider', 'LCA_Spider', 'LCA_Spider',\n",
       "       'LCA_Spider', 'RCA_Cranial', 'RCA_Cranial', 'RCA_Cranial',\n",
       "       'RCA_Cranial', 'RCA_Cranial', 'RCA_LAO', 'RCA_LAO', 'RCA_LAO',\n",
       "       'RCA_LAO', 'RCA_LAO'], dtype='<U15')"
      ]
     },
     "execution_count": 17,
     "metadata": {},
     "output_type": "execute_result"
    }
   ],
   "source": [
    "y_test"
   ]
  },
  {
   "cell_type": "markdown",
   "metadata": {},
   "source": [
    "### Confusion Matrix (混淆矩阵)"
   ]
  },
  {
   "cell_type": "code",
   "execution_count": 18,
   "metadata": {},
   "outputs": [
    {
     "data": {
      "text/html": [
       "<div>\n",
       "<style scoped>\n",
       "    .dataframe tbody tr th:only-of-type {\n",
       "        vertical-align: middle;\n",
       "    }\n",
       "\n",
       "    .dataframe tbody tr th {\n",
       "        vertical-align: top;\n",
       "    }\n",
       "\n",
       "    .dataframe thead th {\n",
       "        text-align: right;\n",
       "    }\n",
       "</style>\n",
       "<table border=\"1\" class=\"dataframe\">\n",
       "  <thead>\n",
       "    <tr style=\"text-align: right;\">\n",
       "      <th></th>\n",
       "      <th>Predictive LCA_Caudal</th>\n",
       "      <th>Predictive LCA_Cranial</th>\n",
       "      <th>Predictive LCA_Cranial_LAO</th>\n",
       "      <th>Predictive LCA_Spider</th>\n",
       "      <th>Predictive RCA_Cranial</th>\n",
       "      <th>Predictive RCA_LAO</th>\n",
       "    </tr>\n",
       "  </thead>\n",
       "  <tbody>\n",
       "    <tr>\n",
       "      <th>LCA_Caudal</th>\n",
       "      <td>4</td>\n",
       "      <td>1</td>\n",
       "      <td>0</td>\n",
       "      <td>0</td>\n",
       "      <td>0</td>\n",
       "      <td>0</td>\n",
       "    </tr>\n",
       "    <tr>\n",
       "      <th>LCA_Cranial</th>\n",
       "      <td>0</td>\n",
       "      <td>4</td>\n",
       "      <td>1</td>\n",
       "      <td>0</td>\n",
       "      <td>0</td>\n",
       "      <td>0</td>\n",
       "    </tr>\n",
       "    <tr>\n",
       "      <th>LCA_Cranial_LAO</th>\n",
       "      <td>0</td>\n",
       "      <td>1</td>\n",
       "      <td>2</td>\n",
       "      <td>0</td>\n",
       "      <td>1</td>\n",
       "      <td>1</td>\n",
       "    </tr>\n",
       "    <tr>\n",
       "      <th>LCA_Spider</th>\n",
       "      <td>0</td>\n",
       "      <td>0</td>\n",
       "      <td>1</td>\n",
       "      <td>3</td>\n",
       "      <td>1</td>\n",
       "      <td>0</td>\n",
       "    </tr>\n",
       "    <tr>\n",
       "      <th>RCA_Cranial</th>\n",
       "      <td>0</td>\n",
       "      <td>0</td>\n",
       "      <td>0</td>\n",
       "      <td>0</td>\n",
       "      <td>2</td>\n",
       "      <td>3</td>\n",
       "    </tr>\n",
       "    <tr>\n",
       "      <th>RCA_LAO</th>\n",
       "      <td>0</td>\n",
       "      <td>0</td>\n",
       "      <td>0</td>\n",
       "      <td>0</td>\n",
       "      <td>1</td>\n",
       "      <td>4</td>\n",
       "    </tr>\n",
       "  </tbody>\n",
       "</table>\n",
       "</div>"
      ],
      "text/plain": [
       "                 Predictive LCA_Caudal  Predictive LCA_Cranial  \\\n",
       "LCA_Caudal                           4                       1   \n",
       "LCA_Cranial                          0                       4   \n",
       "LCA_Cranial_LAO                      0                       1   \n",
       "LCA_Spider                           0                       0   \n",
       "RCA_Cranial                          0                       0   \n",
       "RCA_LAO                              0                       0   \n",
       "\n",
       "                 Predictive LCA_Cranial_LAO  Predictive LCA_Spider  \\\n",
       "LCA_Caudal                                0                      0   \n",
       "LCA_Cranial                               1                      0   \n",
       "LCA_Cranial_LAO                           2                      0   \n",
       "LCA_Spider                                1                      3   \n",
       "RCA_Cranial                               0                      0   \n",
       "RCA_LAO                                   0                      0   \n",
       "\n",
       "                 Predictive RCA_Cranial  Predictive RCA_LAO  \n",
       "LCA_Caudal                            0                   0  \n",
       "LCA_Cranial                           0                   0  \n",
       "LCA_Cranial_LAO                       1                   1  \n",
       "LCA_Spider                            1                   0  \n",
       "RCA_Cranial                           2                   3  \n",
       "RCA_LAO                               1                   4  "
      ]
     },
     "execution_count": 18,
     "metadata": {},
     "output_type": "execute_result"
    }
   ],
   "source": [
    "cm = np.array(confusion_matrix(y_test, y_predict, labels=['LCA_Caudal', 'LCA_Cranial', \n",
    "                                                          'LCA_Cranial_LAO', 'LCA_Spider', \n",
    "                                                          'RCA_Cranial', 'RCA_LAO']))\n",
    "confusion = pd.DataFrame(cm, index=['LCA_Caudal', 'LCA_Cranial', \n",
    "                                    'LCA_Cranial_LAO', 'LCA_Spider',\n",
    "                                    'RCA_Cranial', 'RCA_LAO'],\n",
    "                        columns=['Predictive LCA_Caudal', 'Predictive LCA_Cranial', \n",
    "                                    'Predictive LCA_Cranial_LAO', 'Predictive LCA_Spider',\n",
    "                                    'Predictive RCA_Cranial', 'Predictive RCA_LAO'])\n",
    "confusion.to_csv('ConfusionMatrix.csv')\n",
    "confusion"
   ]
  },
  {
   "cell_type": "code",
   "execution_count": 19,
   "metadata": {},
   "outputs": [
    {
     "name": "stdout",
     "output_type": "stream",
     "text": [
      "                 precision    recall  f1-score   support\n",
      "\n",
      "     LCA_Caudal       1.00      0.80      0.89         5\n",
      "    LCA_Cranial       0.67      0.80      0.73         5\n",
      "LCA_Cranial_LAO       0.50      0.40      0.44         5\n",
      "     LCA_Spider       1.00      0.60      0.75         5\n",
      "    RCA_Cranial       0.40      0.40      0.40         5\n",
      "        RCA_LAO       0.50      0.80      0.62         5\n",
      "\n",
      "      micro avg       0.63      0.63      0.63        30\n",
      "      macro avg       0.68      0.63      0.64        30\n",
      "   weighted avg       0.68      0.63      0.64        30\n",
      "\n"
     ]
    }
   ],
   "source": [
    "print(classification_report(y_test, y_predict))"
   ]
  },
  {
   "cell_type": "markdown",
   "metadata": {},
   "source": [
    "## Save the Model"
   ]
  },
  {
   "cell_type": "code",
   "execution_count": 20,
   "metadata": {},
   "outputs": [
    {
     "name": "stdout",
     "output_type": "stream",
     "text": [
      "['trained_model.m']\n"
     ]
    }
   ],
   "source": [
    "c = joblib.dump(clf, 'trained_model.m')\n",
    "print(c)"
   ]
  },
  {
   "cell_type": "markdown",
   "metadata": {},
   "source": [
    "## Load the Model"
   ]
  },
  {
   "cell_type": "code",
   "execution_count": 21,
   "metadata": {},
   "outputs": [
    {
     "name": "stdout",
     "output_type": "stream",
     "text": [
      "SVC(C=1.0, cache_size=200, class_weight=None, coef0=0.0,\n",
      "  decision_function_shape='ovo', degree=3, gamma='auto_deprecated',\n",
      "  kernel='linear', max_iter=-1, probability=False, random_state=None,\n",
      "  shrinking=True, tol=0.001, verbose=False)\n"
     ]
    }
   ],
   "source": [
    "d = joblib.load('trained_model.m')\n",
    "print(d)"
   ]
  },
  {
   "cell_type": "code",
   "execution_count": null,
   "metadata": {},
   "outputs": [],
   "source": []
  }
 ],
 "metadata": {
  "kernelspec": {
   "display_name": "Python 3",
   "language": "python",
   "name": "python3"
  },
  "language_info": {
   "codemirror_mode": {
    "name": "ipython",
    "version": 3
   },
   "file_extension": ".py",
   "mimetype": "text/x-python",
   "name": "python",
   "nbconvert_exporter": "python",
   "pygments_lexer": "ipython3",
   "version": "3.7.3"
  }
 },
 "nbformat": 4,
 "nbformat_minor": 2
}
