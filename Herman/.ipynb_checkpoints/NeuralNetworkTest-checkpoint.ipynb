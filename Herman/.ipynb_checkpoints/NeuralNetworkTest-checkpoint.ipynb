{
 "cells": [
  {
   "cell_type": "code",
   "execution_count": 1,
   "metadata": {},
   "outputs": [],
   "source": [
    "from PIL import Image\n",
    "import numpy as np\n",
    "import pandas as pd\n",
    "import matplotlib.pyplot as plt\n",
    "\n",
    "import seaborn as sb\n",
    "\n",
    "from sklearn import svm\n",
    "\n",
    "from sklearn.naive_bayes import GaussianNB\n",
    "\n",
    "from sklearn.metrics import classification_report, confusion_matrix\n",
    "import joblib\n",
    "from sklearn.model_selection import ShuffleSplit\n",
    "from sklearn.model_selection import KFold\n",
    "\n",
    "\n",
    "from tensorflow.keras import Sequential\n",
    "from tensorflow.keras.layers import Dense\n",
    "from tensorflow import keras\n",
    "\n",
    "\n",
    "from os import walk\n",
    "\n",
    "import time\n",
    "import datetime\n",
    "%matplotlib inline"
   ]
  },
  {
   "cell_type": "code",
   "execution_count": 2,
   "metadata": {},
   "outputs": [],
   "source": [
    "X_train = [[1,2,3,4,5,6],\n",
    "           [1,3,4,5,6,7],\n",
    "           [1,3,5,4,3,5],\n",
    "           [2,1,3,4,4,6],\n",
    "           [1,2,4,3,5,7],\n",
    "\n",
    "           [5,7,8,9,9,10],\n",
    "           [4,5,6,7,8,11],\n",
    "           [5,6,7,8,9,12],\n",
    "           [5,5,7,8,9,10],\n",
    "           [6,5,7,8,9,9]]"
   ]
  },
  {
   "cell_type": "code",
   "execution_count": 3,
   "metadata": {},
   "outputs": [],
   "source": [
    "y_train = [0,0,0,0,0,1,1,1,1,1]"
   ]
  },
  {
   "cell_type": "code",
   "execution_count": 4,
   "metadata": {},
   "outputs": [],
   "source": [
    "X_test = [[1,3,4,3,5,6],\n",
    "          [1,2,4,3,5,7],\n",
    "          [1,2,3,5,4,6],\n",
    "          [1,2,3,4,3,7],\n",
    "         \n",
    "          [4,5,6,7,8,12],\n",
    "          [4,5,6,7,9,10],\n",
    "          [5,4,7,8,9,10],\n",
    "          [5,6,7,9,8,12]]"
   ]
  },
  {
   "cell_type": "code",
   "execution_count": 5,
   "metadata": {},
   "outputs": [],
   "source": [
    "y_test = [0,0,0,0,1,1,1,1]"
   ]
  },
  {
   "cell_type": "markdown",
   "metadata": {},
   "source": [
    "## Support Vector Machine"
   ]
  },
  {
   "cell_type": "code",
   "execution_count": 6,
   "metadata": {},
   "outputs": [
    {
     "data": {
      "text/plain": [
       "SVC(C=1.0, cache_size=200, class_weight=None, coef0=0.0,\n",
       "  decision_function_shape='ovo', degree=3, gamma='auto_deprecated',\n",
       "  kernel='linear', max_iter=-1, probability=False, random_state=None,\n",
       "  shrinking=True, tol=0.001, verbose=False)"
      ]
     },
     "execution_count": 6,
     "metadata": {},
     "output_type": "execute_result"
    }
   ],
   "source": [
    "model = svm.SVC(kernel='linear', decision_function_shape='ovo')\n",
    "model.fit(X_train, y_train)"
   ]
  },
  {
   "cell_type": "code",
   "execution_count": 7,
   "metadata": {},
   "outputs": [],
   "source": [
    "y_predict = model.predict(X_test)"
   ]
  },
  {
   "cell_type": "code",
   "execution_count": 8,
   "metadata": {
    "scrolled": true
   },
   "outputs": [
    {
     "data": {
      "text/plain": [
       "array([0, 0, 0, 0, 1, 1, 1, 1])"
      ]
     },
     "execution_count": 8,
     "metadata": {},
     "output_type": "execute_result"
    }
   ],
   "source": [
    "y_predict"
   ]
  },
  {
   "cell_type": "code",
   "execution_count": 9,
   "metadata": {},
   "outputs": [
    {
     "data": {
      "text/plain": [
       "[0, 0, 0, 0, 1, 1, 1, 1]"
      ]
     },
     "execution_count": 9,
     "metadata": {},
     "output_type": "execute_result"
    }
   ],
   "source": [
    "y_test"
   ]
  },
  {
   "cell_type": "code",
   "execution_count": 10,
   "metadata": {},
   "outputs": [
    {
     "data": {
      "text/html": [
       "<div>\n",
       "<style scoped>\n",
       "    .dataframe tbody tr th:only-of-type {\n",
       "        vertical-align: middle;\n",
       "    }\n",
       "\n",
       "    .dataframe tbody tr th {\n",
       "        vertical-align: top;\n",
       "    }\n",
       "\n",
       "    .dataframe thead th {\n",
       "        text-align: right;\n",
       "    }\n",
       "</style>\n",
       "<table border=\"1\" class=\"dataframe\">\n",
       "  <thead>\n",
       "    <tr style=\"text-align: right;\">\n",
       "      <th></th>\n",
       "      <th>0</th>\n",
       "      <th>1</th>\n",
       "    </tr>\n",
       "  </thead>\n",
       "  <tbody>\n",
       "    <tr>\n",
       "      <th>0</th>\n",
       "      <td>4</td>\n",
       "      <td>0</td>\n",
       "    </tr>\n",
       "    <tr>\n",
       "      <th>1</th>\n",
       "      <td>0</td>\n",
       "      <td>4</td>\n",
       "    </tr>\n",
       "  </tbody>\n",
       "</table>\n",
       "</div>"
      ],
      "text/plain": [
       "   0  1\n",
       "0  4  0\n",
       "1  0  4"
      ]
     },
     "execution_count": 10,
     "metadata": {},
     "output_type": "execute_result"
    }
   ],
   "source": [
    "cm = np.array(confusion_matrix(y_test, y_predict, labels=[0,1]))\n",
    "confusion = pd.DataFrame(cm, index=[0,1],\n",
    "                        columns=[0,1])\n",
    "confusion"
   ]
  },
  {
   "cell_type": "code",
   "execution_count": 11,
   "metadata": {},
   "outputs": [
    {
     "name": "stdout",
     "output_type": "stream",
     "text": [
      "              precision    recall  f1-score   support\n",
      "\n",
      "           0       1.00      1.00      1.00         4\n",
      "           1       1.00      1.00      1.00         4\n",
      "\n",
      "   micro avg       1.00      1.00      1.00         8\n",
      "   macro avg       1.00      1.00      1.00         8\n",
      "weighted avg       1.00      1.00      1.00         8\n",
      "\n"
     ]
    }
   ],
   "source": [
    "print(classification_report(y_test, y_predict))"
   ]
  },
  {
   "cell_type": "code",
   "execution_count": 12,
   "metadata": {},
   "outputs": [
    {
     "data": {
      "image/png": "[encoded data removed]",
      "text/plain": [
       "<Figure size 288x216 with 2 Axes>"
      ]
     },
     "metadata": {
      "needs_background": "light"
     },
     "output_type": "display_data"
    }
   ],
   "source": [
    "plt.figure(figsize=(4, 3))\n",
    "heat_map = sb.heatmap(confusion, annot=True, \n",
    "                      cmap='coolwarm', \n",
    "                      xticklabels=confusion.columns, yticklabels=confusion.index, \n",
    "                      linewidths=.5, \n",
    "                      annot_kws={\"size\": 20})"
   ]
  },
  {
   "cell_type": "markdown",
   "metadata": {},
   "source": [
    "## Naive Bayes"
   ]
  },
  {
   "cell_type": "code",
   "execution_count": 13,
   "metadata": {},
   "outputs": [
    {
     "data": {
      "text/plain": [
       "GaussianNB(priors=None, var_smoothing=1e-09)"
      ]
     },
     "execution_count": 13,
     "metadata": {},
     "output_type": "execute_result"
    }
   ],
   "source": [
    "model = GaussianNB()\n",
    "model.fit(X_train, y_train)"
   ]
  },
  {
   "cell_type": "code",
   "execution_count": 14,
   "metadata": {},
   "outputs": [],
   "source": [
    "y_predict = model.predict(X_test)"
   ]
  },
  {
   "cell_type": "code",
   "execution_count": 15,
   "metadata": {},
   "outputs": [
    {
     "data": {
      "text/plain": [
       "array([0, 0, 0, 0, 1, 1, 1, 1])"
      ]
     },
     "execution_count": 15,
     "metadata": {},
     "output_type": "execute_result"
    }
   ],
   "source": [
    "y_predict"
   ]
  },
  {
   "cell_type": "markdown",
   "metadata": {},
   "source": [
    "## Neural Network"
   ]
  },
  {
   "cell_type": "code",
   "execution_count": 16,
   "metadata": {},
   "outputs": [],
   "source": [
    "model = Sequential()\n",
    "model.add(Dense(6, activation='relu', kernel_initializer='he_normal', input_shape=(6,)))\n",
    "model.add(Dense(8, activation='relu', kernel_initializer='he_normal'))\n",
    "model.add(Dense(3, activation='relu', kernel_initializer='he_normal'))\n",
    "model.add(Dense(1, activation='sigmoid'))"
   ]
  },
  {
   "cell_type": "code",
   "execution_count": 20,
   "metadata": {},
   "outputs": [
    {
     "name": "stdout",
     "output_type": "stream",
     "text": [
      "The tensorboard extension is already loaded. To reload it, use:\n",
      "  %reload_ext tensorboard\n"
     ]
    }
   ],
   "source": [
    "%load_ext tensorboard\n",
    "log_dir = \"logs/fit/\" + datetime.datetime.now().strftime(\"%Y%m%d-%H%M%S\")\n",
    "tensorboard_callback = keras.callbacks.TensorBoard(log_dir=log_dir, histogram_freq=1)"
   ]
  },
  {
   "cell_type": "code",
   "execution_count": 21,
   "metadata": {},
   "outputs": [],
   "source": [
    "model.compile(optimizer='adam', loss='binary_crossentropy', metrics=['accuracy'])"
   ]
  },
  {
   "cell_type": "code",
   "execution_count": 22,
   "metadata": {
    "scrolled": true
   },
   "outputs": [
    {
     "name": "stdout",
     "output_type": "stream",
     "text": [
      "Epoch 1/200\n",
      "1/5 [=====>........................] - ETA: 0s - loss: 12.5613 - accuracy: 0.0000e+00WARNING:tensorflow:From C:\\Anaconda3\\lib\\site-packages\\tensorflow\\python\\ops\\summary_ops_v2.py:1277: stop (from tensorflow.python.eager.profiler) is deprecated and will be removed after 2020-07-01.\n",
      "Instructions for updating:\n",
      "use `tf.profiler.experimental.stop` instead.\n",
      "2/5 [===========>..................] - ETA: 0s - loss: 13.9101 - accuracy: 0.0000e+00WARNING:tensorflow:Callbacks method `on_train_batch_begin` is slow compared to the batch time (batch time: 0.0010s vs `on_train_batch_begin` time: 0.0130s). Check your callbacks.\n",
      "WARNING:tensorflow:Callbacks method `on_train_batch_end` is slow compared to the batch time (batch time: 0.0010s vs `on_train_batch_end` time: 0.3373s). Check your callbacks.\n",
      "5/5 [==============================] - 0s 85ms/step - loss: 6.6482 - accuracy: 0.5000\n",
      "Epoch 2/200\n",
      "5/5 [==============================] - 0s 15ms/step - loss: 5.6767 - accuracy: 0.5000\n",
      "Epoch 3/200\n",
      "5/5 [==============================] - 0s 16ms/step - loss: 5.1493 - accuracy: 0.5000\n",
      "Epoch 4/200\n",
      "5/5 [==============================] - 0s 18ms/step - loss: 4.4387 - accuracy: 0.5000\n",
      "Epoch 5/200\n",
      "5/5 [==============================] - 0s 14ms/step - loss: 3.9969 - accuracy: 0.5000\n",
      "Epoch 6/200\n",
      "5/5 [==============================] - 0s 22ms/step - loss: 3.4552 - accuracy: 0.5000\n",
      "Epoch 7/200\n",
      "5/5 [==============================] - 0s 29ms/step - loss: 3.1914 - accuracy: 0.5000\n",
      "Epoch 8/200\n",
      "5/5 [==============================] - 0s 16ms/step - loss: 2.9819 - accuracy: 0.5000\n",
      "Epoch 9/200\n",
      "5/5 [==============================] - 0s 14ms/step - loss: 2.8567 - accuracy: 0.5000\n",
      "Epoch 10/200\n",
      "5/5 [==============================] - 0s 13ms/step - loss: 2.7038 - accuracy: 0.5000\n",
      "Epoch 11/200\n",
      "5/5 [==============================] - 0s 14ms/step - loss: 2.5949 - accuracy: 0.5000\n",
      "Epoch 12/200\n",
      "5/5 [==============================] - 0s 14ms/step - loss: 2.4558 - accuracy: 0.5000\n",
      "Epoch 13/200\n",
      "5/5 [==============================] - 0s 14ms/step - loss: 2.3358 - accuracy: 0.5000\n",
      "Epoch 14/200\n",
      "5/5 [==============================] - 0s 15ms/step - loss: 2.2283 - accuracy: 0.5000\n",
      "Epoch 15/200\n",
      "5/5 [==============================] - 0s 39ms/step - loss: 2.0928 - accuracy: 0.5000\n",
      "Epoch 16/200\n",
      "5/5 [==============================] - 0s 19ms/step - loss: 1.9904 - accuracy: 0.5000\n",
      "Epoch 17/200\n",
      "5/5 [==============================] - 0s 16ms/step - loss: 1.8927 - accuracy: 0.5000\n",
      "Epoch 18/200\n",
      "5/5 [==============================] - 0s 13ms/step - loss: 1.7989 - accuracy: 0.5000\n",
      "Epoch 19/200\n",
      "5/5 [==============================] - 0s 16ms/step - loss: 1.6920 - accuracy: 0.5000\n",
      "Epoch 20/200\n",
      "5/5 [==============================] - 0s 14ms/step - loss: 1.6087 - accuracy: 0.5000\n",
      "Epoch 21/200\n",
      "5/5 [==============================] - 0s 14ms/step - loss: 1.5369 - accuracy: 0.5000\n",
      "Epoch 22/200\n",
      "5/5 [==============================] - 0s 15ms/step - loss: 1.4554 - accuracy: 0.5000\n",
      "Epoch 23/200\n",
      "5/5 [==============================] - 0s 14ms/step - loss: 1.3776 - accuracy: 0.5000\n",
      "Epoch 24/200\n",
      "5/5 [==============================] - 0s 15ms/step - loss: 1.3084 - accuracy: 0.5000\n",
      "Epoch 25/200\n",
      "5/5 [==============================] - 0s 19ms/step - loss: 1.2380 - accuracy: 0.5000\n",
      "Epoch 26/200\n",
      "5/5 [==============================] - 0s 12ms/step - loss: 1.1810 - accuracy: 0.5000\n",
      "Epoch 27/200\n",
      "5/5 [==============================] - 0s 14ms/step - loss: 1.1189 - accuracy: 0.5000\n",
      "Epoch 28/200\n",
      "5/5 [==============================] - 0s 21ms/step - loss: 1.0671 - accuracy: 0.5000\n",
      "Epoch 29/200\n",
      "5/5 [==============================] - 0s 19ms/step - loss: 1.0161 - accuracy: 0.5000\n",
      "Epoch 30/200\n",
      "5/5 [==============================] - 0s 20ms/step - loss: 0.9755 - accuracy: 0.5000\n",
      "Epoch 31/200\n",
      "5/5 [==============================] - 0s 14ms/step - loss: 0.9313 - accuracy: 0.5000\n",
      "Epoch 32/200\n",
      "5/5 [==============================] - 0s 15ms/step - loss: 0.8921 - accuracy: 0.5000\n",
      "Epoch 33/200\n",
      "5/5 [==============================] - 0s 14ms/step - loss: 0.8558 - accuracy: 0.5000\n",
      "Epoch 34/200\n",
      "5/5 [==============================] - 0s 14ms/step - loss: 0.8276 - accuracy: 0.5000\n",
      "Epoch 35/200\n",
      "5/5 [==============================] - 0s 14ms/step - loss: 0.7995 - accuracy: 0.5000\n",
      "Epoch 36/200\n",
      "5/5 [==============================] - 0s 14ms/step - loss: 0.7773 - accuracy: 0.5000\n",
      "Epoch 37/200\n",
      "5/5 [==============================] - 0s 13ms/step - loss: 0.7493 - accuracy: 0.5000\n",
      "Epoch 38/200\n",
      "5/5 [==============================] - 0s 14ms/step - loss: 0.7312 - accuracy: 0.6000\n",
      "Epoch 39/200\n",
      "5/5 [==============================] - 0s 14ms/step - loss: 0.7134 - accuracy: 0.6000\n",
      "Epoch 40/200\n",
      "5/5 [==============================] - 0s 14ms/step - loss: 0.7011 - accuracy: 0.6000\n",
      "Epoch 41/200\n",
      "5/5 [==============================] - 0s 14ms/step - loss: 0.6905 - accuracy: 0.6000\n",
      "Epoch 42/200\n",
      "5/5 [==============================] - 0s 14ms/step - loss: 0.6858 - accuracy: 0.6000\n",
      "Epoch 43/200\n",
      "5/5 [==============================] - 0s 13ms/step - loss: 0.6781 - accuracy: 0.7000\n",
      "Epoch 44/200\n",
      "5/5 [==============================] - 0s 13ms/step - loss: 0.6690 - accuracy: 0.7000\n",
      "Epoch 45/200\n",
      "5/5 [==============================] - 0s 16ms/step - loss: 0.6616 - accuracy: 0.7000\n",
      "Epoch 46/200\n",
      "5/5 [==============================] - 0s 14ms/step - loss: 0.6584 - accuracy: 0.7000\n",
      "Epoch 47/200\n",
      "5/5 [==============================] - 0s 15ms/step - loss: 0.6568 - accuracy: 0.7000\n",
      "Epoch 48/200\n",
      "5/5 [==============================] - 0s 14ms/step - loss: 0.6530 - accuracy: 0.7000\n",
      "Epoch 49/200\n",
      "5/5 [==============================] - 0s 14ms/step - loss: 0.6504 - accuracy: 0.6000\n",
      "Epoch 50/200\n",
      "5/5 [==============================] - 0s 14ms/step - loss: 0.6504 - accuracy: 0.6000\n",
      "Epoch 51/200\n",
      "5/5 [==============================] - 0s 14ms/step - loss: 0.6471 - accuracy: 0.6000\n",
      "Epoch 52/200\n",
      "5/5 [==============================] - 0s 17ms/step - loss: 0.6444 - accuracy: 0.6000\n",
      "Epoch 53/200\n",
      "5/5 [==============================] - 0s 14ms/step - loss: 0.6415 - accuracy: 0.6000\n",
      "Epoch 54/200\n",
      "5/5 [==============================] - 0s 14ms/step - loss: 0.6403 - accuracy: 0.7000\n",
      "Epoch 55/200\n",
      "5/5 [==============================] - 0s 14ms/step - loss: 0.6375 - accuracy: 0.7000\n",
      "Epoch 56/200\n",
      "5/5 [==============================] - 0s 14ms/step - loss: 0.6364 - accuracy: 0.6000\n",
      "Epoch 57/200\n",
      "5/5 [==============================] - 0s 14ms/step - loss: 0.6349 - accuracy: 0.6000\n",
      "Epoch 58/200\n",
      "5/5 [==============================] - 0s 13ms/step - loss: 0.6329 - accuracy: 0.6000\n",
      "Epoch 59/200\n",
      "5/5 [==============================] - 0s 13ms/step - loss: 0.6312 - accuracy: 0.6000\n",
      "Epoch 60/200\n",
      "5/5 [==============================] - 0s 12ms/step - loss: 0.6290 - accuracy: 0.6000\n",
      "Epoch 61/200\n",
      "5/5 [==============================] - 0s 13ms/step - loss: 0.6276 - accuracy: 0.6000\n",
      "Epoch 62/200\n",
      "5/5 [==============================] - 0s 14ms/step - loss: 0.6267 - accuracy: 0.6000\n",
      "Epoch 63/200\n",
      "5/5 [==============================] - 0s 13ms/step - loss: 0.6257 - accuracy: 0.6000\n",
      "Epoch 64/200\n",
      "5/5 [==============================] - 0s 13ms/step - loss: 0.6245 - accuracy: 0.6000\n",
      "Epoch 65/200\n",
      "5/5 [==============================] - 0s 13ms/step - loss: 0.6240 - accuracy: 0.6000\n",
      "Epoch 66/200\n",
      "5/5 [==============================] - 0s 14ms/step - loss: 0.6226 - accuracy: 0.6000\n",
      "Epoch 67/200\n",
      "5/5 [==============================] - 0s 14ms/step - loss: 0.6216 - accuracy: 0.6000\n",
      "Epoch 68/200\n",
      "5/5 [==============================] - 0s 14ms/step - loss: 0.6205 - accuracy: 0.6000\n",
      "Epoch 69/200\n",
      "5/5 [==============================] - 0s 21ms/step - loss: 0.6195 - accuracy: 0.6000\n",
      "Epoch 70/200\n",
      "5/5 [==============================] - 0s 12ms/step - loss: 0.6187 - accuracy: 0.6000\n",
      "Epoch 71/200\n",
      "5/5 [==============================] - 0s 14ms/step - loss: 0.6178 - accuracy: 0.6000\n",
      "Epoch 72/200\n",
      "5/5 [==============================] - 0s 14ms/step - loss: 0.6176 - accuracy: 0.6000\n",
      "Epoch 73/200\n",
      "5/5 [==============================] - 0s 14ms/step - loss: 0.6157 - accuracy: 0.6000\n",
      "Epoch 74/200\n",
      "5/5 [==============================] - 0s 14ms/step - loss: 0.6151 - accuracy: 0.6000\n",
      "Epoch 75/200\n"
     ]
    },
    {
     "name": "stdout",
     "output_type": "stream",
     "text": [
      "5/5 [==============================] - 0s 18ms/step - loss: 0.6146 - accuracy: 0.6000\n",
      "Epoch 76/200\n",
      "5/5 [==============================] - 0s 13ms/step - loss: 0.6135 - accuracy: 0.6000\n",
      "Epoch 77/200\n",
      "5/5 [==============================] - 0s 14ms/step - loss: 0.6126 - accuracy: 0.6000\n",
      "Epoch 78/200\n",
      "5/5 [==============================] - 0s 14ms/step - loss: 0.6118 - accuracy: 0.7000\n",
      "Epoch 79/200\n",
      "5/5 [==============================] - 0s 14ms/step - loss: 0.6111 - accuracy: 0.7000\n",
      "Epoch 80/200\n",
      "5/5 [==============================] - 0s 14ms/step - loss: 0.6104 - accuracy: 0.7000\n",
      "Epoch 81/200\n",
      "5/5 [==============================] - 0s 14ms/step - loss: 0.6096 - accuracy: 0.7000\n",
      "Epoch 82/200\n",
      "5/5 [==============================] - 0s 14ms/step - loss: 0.6094 - accuracy: 0.7000\n",
      "Epoch 83/200\n",
      "5/5 [==============================] - 0s 14ms/step - loss: 0.6092 - accuracy: 0.7000\n",
      "Epoch 84/200\n",
      "5/5 [==============================] - 0s 14ms/step - loss: 0.6081 - accuracy: 0.7000\n",
      "Epoch 85/200\n",
      "5/5 [==============================] - 0s 14ms/step - loss: 0.6070 - accuracy: 0.7000\n",
      "Epoch 86/200\n",
      "5/5 [==============================] - 0s 13ms/step - loss: 0.6068 - accuracy: 0.7000\n",
      "Epoch 87/200\n",
      "5/5 [==============================] - 0s 13ms/step - loss: 0.6057 - accuracy: 0.7000\n",
      "Epoch 88/200\n",
      "5/5 [==============================] - 0s 14ms/step - loss: 0.6051 - accuracy: 0.7000\n",
      "Epoch 89/200\n",
      "5/5 [==============================] - 0s 14ms/step - loss: 0.6042 - accuracy: 0.7000\n",
      "Epoch 90/200\n",
      "5/5 [==============================] - 0s 16ms/step - loss: 0.6036 - accuracy: 0.7000\n",
      "Epoch 91/200\n",
      "5/5 [==============================] - 0s 23ms/step - loss: 0.6029 - accuracy: 0.7000\n",
      "Epoch 92/200\n",
      "5/5 [==============================] - 0s 13ms/step - loss: 0.6026 - accuracy: 0.7000\n",
      "Epoch 93/200\n",
      "5/5 [==============================] - 0s 14ms/step - loss: 0.6021 - accuracy: 0.7000\n",
      "Epoch 94/200\n",
      "5/5 [==============================] - 0s 13ms/step - loss: 0.6011 - accuracy: 0.7000\n",
      "Epoch 95/200\n",
      "5/5 [==============================] - 0s 14ms/step - loss: 0.6003 - accuracy: 0.7000\n",
      "Epoch 96/200\n",
      "5/5 [==============================] - 0s 14ms/step - loss: 0.6003 - accuracy: 0.7000\n",
      "Epoch 97/200\n",
      "5/5 [==============================] - 0s 13ms/step - loss: 0.5991 - accuracy: 0.7000\n",
      "Epoch 98/200\n",
      "5/5 [==============================] - 0s 13ms/step - loss: 0.5987 - accuracy: 0.7000\n",
      "Epoch 99/200\n",
      "5/5 [==============================] - 0s 14ms/step - loss: 0.5981 - accuracy: 0.7000\n",
      "Epoch 100/200\n",
      "5/5 [==============================] - 0s 14ms/step - loss: 0.5976 - accuracy: 0.7000\n",
      "Epoch 101/200\n",
      "5/5 [==============================] - 0s 13ms/step - loss: 0.5974 - accuracy: 0.7000\n",
      "Epoch 102/200\n",
      "5/5 [==============================] - 0s 13ms/step - loss: 0.5965 - accuracy: 0.7000\n",
      "Epoch 103/200\n",
      "5/5 [==============================] - 0s 13ms/step - loss: 0.5961 - accuracy: 0.7000\n",
      "Epoch 104/200\n",
      "5/5 [==============================] - 0s 13ms/step - loss: 0.5954 - accuracy: 0.7000\n",
      "Epoch 105/200\n",
      "5/5 [==============================] - 0s 14ms/step - loss: 0.5948 - accuracy: 0.7000\n",
      "Epoch 106/200\n",
      "5/5 [==============================] - 0s 13ms/step - loss: 0.5939 - accuracy: 0.7000\n",
      "Epoch 107/200\n",
      "5/5 [==============================] - 0s 11ms/step - loss: 0.5934 - accuracy: 0.7000\n",
      "Epoch 108/200\n",
      "5/5 [==============================] - 0s 11ms/step - loss: 0.5930 - accuracy: 0.7000\n",
      "Epoch 109/200\n",
      "5/5 [==============================] - 0s 11ms/step - loss: 0.5922 - accuracy: 0.7000\n",
      "Epoch 110/200\n",
      "5/5 [==============================] - 0s 14ms/step - loss: 0.5919 - accuracy: 0.7000\n",
      "Epoch 111/200\n",
      "5/5 [==============================] - 0s 12ms/step - loss: 0.5915 - accuracy: 0.7000\n",
      "Epoch 112/200\n",
      "5/5 [==============================] - 0s 14ms/step - loss: 0.5905 - accuracy: 0.8000\n",
      "Epoch 113/200\n",
      "5/5 [==============================] - 0s 14ms/step - loss: 0.5904 - accuracy: 0.8000\n",
      "Epoch 114/200\n",
      "5/5 [==============================] - 0s 14ms/step - loss: 0.5894 - accuracy: 0.7000\n",
      "Epoch 115/200\n",
      "5/5 [==============================] - 0s 14ms/step - loss: 0.5889 - accuracy: 0.7000\n",
      "Epoch 116/200\n",
      "5/5 [==============================] - 0s 14ms/step - loss: 0.5883 - accuracy: 0.8000\n",
      "Epoch 117/200\n",
      "5/5 [==============================] - 0s 13ms/step - loss: 0.5880 - accuracy: 0.8000\n",
      "Epoch 118/200\n",
      "5/5 [==============================] - 0s 13ms/step - loss: 0.5874 - accuracy: 0.8000\n",
      "Epoch 119/200\n",
      "5/5 [==============================] - 0s 13ms/step - loss: 0.5865 - accuracy: 0.8000\n",
      "Epoch 120/200\n",
      "5/5 [==============================] - 0s 13ms/step - loss: 0.5864 - accuracy: 0.8000\n",
      "Epoch 121/200\n",
      "5/5 [==============================] - 0s 12ms/step - loss: 0.5860 - accuracy: 0.9000\n",
      "Epoch 122/200\n",
      "5/5 [==============================] - 0s 14ms/step - loss: 0.5850 - accuracy: 0.9000\n",
      "Epoch 123/200\n",
      "5/5 [==============================] - 0s 12ms/step - loss: 0.5845 - accuracy: 0.9000\n",
      "Epoch 124/200\n",
      "5/5 [==============================] - 0s 12ms/step - loss: 0.5844 - accuracy: 0.9000\n",
      "Epoch 125/200\n",
      "5/5 [==============================] - 0s 13ms/step - loss: 0.5833 - accuracy: 0.9000\n",
      "Epoch 126/200\n",
      "5/5 [==============================] - 0s 12ms/step - loss: 0.5827 - accuracy: 0.9000\n",
      "Epoch 127/200\n",
      "5/5 [==============================] - 0s 13ms/step - loss: 0.5821 - accuracy: 0.9000\n",
      "Epoch 128/200\n",
      "5/5 [==============================] - 0s 11ms/step - loss: 0.5817 - accuracy: 0.9000\n",
      "Epoch 129/200\n",
      "5/5 [==============================] - 0s 12ms/step - loss: 0.5809 - accuracy: 0.9000\n",
      "Epoch 130/200\n",
      "5/5 [==============================] - 0s 13ms/step - loss: 0.5802 - accuracy: 0.9000\n",
      "Epoch 131/200\n",
      "5/5 [==============================] - 0s 11ms/step - loss: 0.5797 - accuracy: 0.9000\n",
      "Epoch 132/200\n",
      "5/5 [==============================] - 0s 12ms/step - loss: 0.5794 - accuracy: 0.9000\n",
      "Epoch 133/200\n",
      "5/5 [==============================] - 0s 12ms/step - loss: 0.5786 - accuracy: 0.9000\n",
      "Epoch 134/200\n",
      "5/5 [==============================] - 0s 12ms/step - loss: 0.5777 - accuracy: 0.9000\n",
      "Epoch 135/200\n",
      "5/5 [==============================] - 0s 15ms/step - loss: 0.5774 - accuracy: 0.9000\n",
      "Epoch 136/200\n",
      "5/5 [==============================] - 0s 10ms/step - loss: 0.5764 - accuracy: 0.9000\n",
      "Epoch 137/200\n",
      "5/5 [==============================] - 0s 11ms/step - loss: 0.5762 - accuracy: 0.9000\n",
      "Epoch 138/200\n",
      "5/5 [==============================] - 0s 12ms/step - loss: 0.5757 - accuracy: 0.9000\n",
      "Epoch 139/200\n",
      "5/5 [==============================] - 0s 11ms/step - loss: 0.5744 - accuracy: 0.9000\n",
      "Epoch 140/200\n",
      "5/5 [==============================] - 0s 11ms/step - loss: 0.5745 - accuracy: 0.9000\n",
      "Epoch 141/200\n",
      "5/5 [==============================] - 0s 11ms/step - loss: 0.5738 - accuracy: 0.9000\n",
      "Epoch 142/200\n",
      "5/5 [==============================] - 0s 11ms/step - loss: 0.5725 - accuracy: 0.9000\n",
      "Epoch 143/200\n",
      "5/5 [==============================] - 0s 11ms/step - loss: 0.5721 - accuracy: 0.9000\n",
      "Epoch 144/200\n",
      "5/5 [==============================] - 0s 11ms/step - loss: 0.5715 - accuracy: 0.9000\n",
      "Epoch 145/200\n",
      "5/5 [==============================] - 0s 12ms/step - loss: 0.5713 - accuracy: 0.9000\n",
      "Epoch 146/200\n",
      "5/5 [==============================] - 0s 14ms/step - loss: 0.5714 - accuracy: 0.9000\n",
      "Epoch 147/200\n",
      "5/5 [==============================] - 0s 12ms/step - loss: 0.5692 - accuracy: 0.9000\n",
      "Epoch 148/200\n",
      "5/5 [==============================] - 0s 11ms/step - loss: 0.5686 - accuracy: 0.9000\n",
      "Epoch 149/200\n",
      "5/5 [==============================] - 0s 12ms/step - loss: 0.5677 - accuracy: 0.9000\n",
      "Epoch 150/200\n",
      "5/5 [==============================] - 0s 13ms/step - loss: 0.5675 - accuracy: 0.9000\n",
      "Epoch 151/200\n",
      "5/5 [==============================] - 0s 11ms/step - loss: 0.5670 - accuracy: 0.9000\n",
      "Epoch 152/200\n",
      "5/5 [==============================] - 0s 11ms/step - loss: 0.5660 - accuracy: 0.9000\n",
      "Epoch 153/200\n",
      "5/5 [==============================] - 0s 10ms/step - loss: 0.5652 - accuracy: 0.9000\n",
      "Epoch 154/200\n",
      "5/5 [==============================] - 0s 11ms/step - loss: 0.5658 - accuracy: 0.9000\n",
      "Epoch 155/200\n",
      "5/5 [==============================] - 0s 11ms/step - loss: 0.5641 - accuracy: 0.9000\n",
      "Epoch 156/200\n",
      "5/5 [==============================] - 0s 10ms/step - loss: 0.5634 - accuracy: 0.9000\n",
      "Epoch 157/200\n"
     ]
    },
    {
     "name": "stdout",
     "output_type": "stream",
     "text": [
      "5/5 [==============================] - 0s 10ms/step - loss: 0.5632 - accuracy: 0.9000\n",
      "Epoch 158/200\n",
      "5/5 [==============================] - 0s 10ms/step - loss: 0.5620 - accuracy: 0.9000\n",
      "Epoch 159/200\n",
      "5/5 [==============================] - 0s 12ms/step - loss: 0.5612 - accuracy: 0.9000\n",
      "Epoch 160/200\n",
      "5/5 [==============================] - 0s 11ms/step - loss: 0.5611 - accuracy: 0.9000\n",
      "Epoch 161/200\n",
      "5/5 [==============================] - 0s 12ms/step - loss: 0.5600 - accuracy: 0.9000\n",
      "Epoch 162/200\n",
      "5/5 [==============================] - 0s 11ms/step - loss: 0.5594 - accuracy: 0.9000\n",
      "Epoch 163/200\n",
      "5/5 [==============================] - 0s 11ms/step - loss: 0.5586 - accuracy: 0.9000\n",
      "Epoch 164/200\n",
      "5/5 [==============================] - 0s 12ms/step - loss: 0.5589 - accuracy: 0.9000\n",
      "Epoch 165/200\n",
      "5/5 [==============================] - 0s 11ms/step - loss: 0.5572 - accuracy: 0.9000\n",
      "Epoch 166/200\n",
      "5/5 [==============================] - 0s 11ms/step - loss: 0.5574 - accuracy: 0.9000\n",
      "Epoch 167/200\n",
      "5/5 [==============================] - 0s 12ms/step - loss: 0.5560 - accuracy: 0.9000\n",
      "Epoch 168/200\n",
      "5/5 [==============================] - 0s 11ms/step - loss: 0.5553 - accuracy: 0.9000\n",
      "Epoch 169/200\n",
      "5/5 [==============================] - 0s 11ms/step - loss: 0.5548 - accuracy: 0.9000\n",
      "Epoch 170/200\n",
      "5/5 [==============================] - 0s 11ms/step - loss: 0.5545 - accuracy: 0.9000\n",
      "Epoch 171/200\n",
      "5/5 [==============================] - 0s 12ms/step - loss: 0.5534 - accuracy: 0.9000\n",
      "Epoch 172/200\n",
      "5/5 [==============================] - 0s 10ms/step - loss: 0.5527 - accuracy: 0.9000\n",
      "Epoch 173/200\n",
      "5/5 [==============================] - 0s 10ms/step - loss: 0.5518 - accuracy: 0.9000\n",
      "Epoch 174/200\n",
      "5/5 [==============================] - 0s 13ms/step - loss: 0.5511 - accuracy: 0.9000\n",
      "Epoch 175/200\n",
      "5/5 [==============================] - 0s 11ms/step - loss: 0.5506 - accuracy: 0.9000\n",
      "Epoch 176/200\n",
      "5/5 [==============================] - 0s 12ms/step - loss: 0.5499 - accuracy: 0.9000\n",
      "Epoch 177/200\n",
      "5/5 [==============================] - 0s 16ms/step - loss: 0.5484 - accuracy: 0.9000\n",
      "Epoch 178/200\n",
      "5/5 [==============================] - 0s 11ms/step - loss: 0.5478 - accuracy: 0.9000\n",
      "Epoch 179/200\n",
      "5/5 [==============================] - 0s 11ms/step - loss: 0.5360 - accuracy: 0.9000\n",
      "Epoch 180/200\n",
      "5/5 [==============================] - 0s 11ms/step - loss: 0.5307 - accuracy: 0.9000\n",
      "Epoch 181/200\n",
      "5/5 [==============================] - 0s 12ms/step - loss: 0.5209 - accuracy: 0.9000\n",
      "Epoch 182/200\n",
      "5/5 [==============================] - 0s 10ms/step - loss: 0.5028 - accuracy: 0.9000\n",
      "Epoch 183/200\n",
      "5/5 [==============================] - 0s 11ms/step - loss: 0.4874 - accuracy: 0.9000\n",
      "Epoch 184/200\n",
      "5/5 [==============================] - 0s 11ms/step - loss: 0.4782 - accuracy: 0.9000\n",
      "Epoch 185/200\n",
      "5/5 [==============================] - 0s 11ms/step - loss: 0.4637 - accuracy: 0.8000\n",
      "Epoch 186/200\n",
      "5/5 [==============================] - 0s 11ms/step - loss: 0.4667 - accuracy: 0.8000\n",
      "Epoch 187/200\n",
      "5/5 [==============================] - 0s 12ms/step - loss: 0.4530 - accuracy: 0.8000\n",
      "Epoch 188/200\n",
      "5/5 [==============================] - 0s 11ms/step - loss: 0.4377 - accuracy: 0.9000\n",
      "Epoch 189/200\n",
      "5/5 [==============================] - 0s 11ms/step - loss: 0.4370 - accuracy: 0.9000\n",
      "Epoch 190/200\n",
      "5/5 [==============================] - 0s 10ms/step - loss: 0.4376 - accuracy: 0.9000\n",
      "Epoch 191/200\n",
      "5/5 [==============================] - 0s 10ms/step - loss: 0.4283 - accuracy: 0.9000\n",
      "Epoch 192/200\n",
      "5/5 [==============================] - 0s 10ms/step - loss: 0.4294 - accuracy: 0.9000\n",
      "Epoch 193/200\n",
      "5/5 [==============================] - 0s 12ms/step - loss: 0.4295 - accuracy: 1.0000\n",
      "Epoch 194/200\n",
      "5/5 [==============================] - 0s 11ms/step - loss: 0.4231 - accuracy: 1.0000\n",
      "Epoch 195/200\n",
      "5/5 [==============================] - 0s 14ms/step - loss: 0.4357 - accuracy: 0.9000\n",
      "Epoch 196/200\n",
      "5/5 [==============================] - 0s 12ms/step - loss: 0.4308 - accuracy: 0.9000\n",
      "Epoch 197/200\n",
      "5/5 [==============================] - 0s 12ms/step - loss: 0.4230 - accuracy: 1.0000\n",
      "Epoch 198/200\n",
      "5/5 [==============================] - 0s 11ms/step - loss: 0.4258 - accuracy: 1.0000\n",
      "Epoch 199/200\n",
      "5/5 [==============================] - 0s 13ms/step - loss: 0.4217 - accuracy: 1.0000\n",
      "Epoch 200/200\n",
      "5/5 [==============================] - 0s 12ms/step - loss: 0.4168 - accuracy: 1.0000\n"
     ]
    },
    {
     "data": {
      "text/plain": [
       "<tensorflow.python.keras.callbacks.History at 0x1dcbd5ad518>"
      ]
     },
     "execution_count": 22,
     "metadata": {},
     "output_type": "execute_result"
    }
   ],
   "source": [
    "model.fit(X_train, y_train, epochs=200, batch_size=2, verbose=1, callbacks=[tensorboard_callback])"
   ]
  },
  {
   "cell_type": "code",
   "execution_count": 23,
   "metadata": {
    "scrolled": false
   },
   "outputs": [
    {
     "data": {
      "text/plain": [
       "Reusing TensorBoard on port 6006 (pid 12416), started 0:02:24 ago. (Use '!kill 12416' to kill it.)"
      ]
     },
     "metadata": {},
     "output_type": "display_data"
    },
    {
     "data": {
      "text/html": [
       "\n",
       "      <iframe id=\"tensorboard-frame-24e84d4dfd5046fc\" width=\"100%\" height=\"800\" frameborder=\"0\">\n",
       "      </iframe>\n",
       "      <script>\n",
       "        (function() {\n",
       "          const frame = document.getElementById(\"tensorboard-frame-24e84d4dfd5046fc\");\n",
       "          const url = new URL(\"/\", window.location);\n",
       "          const port = 6006;\n",
       "          if (port) {\n",
       "            url.port = port;\n",
       "          }\n",
       "          frame.src = url;\n",
       "        })();\n",
       "      </script>\n",
       "    "
      ],
      "text/plain": [
       "<IPython.core.display.HTML object>"
      ]
     },
     "metadata": {},
     "output_type": "display_data"
    }
   ],
   "source": [
    "%tensorboard --logdir logs/fit"
   ]
  },
  {
   "cell_type": "code",
   "execution_count": null,
   "metadata": {},
   "outputs": [],
   "source": [
    "loss, acc = model.evaluate(X_test, y_test, verbose=1)"
   ]
  },
  {
   "cell_type": "code",
   "execution_count": null,
   "metadata": {},
   "outputs": [],
   "source": [
    "acc"
   ]
  },
  {
   "cell_type": "code",
   "execution_count": null,
   "metadata": {},
   "outputs": [],
   "source": [
    "cm = np.array(confusion_matrix(y_test, y_predict, labels=[0,1]))\n",
    "confusion = pd.DataFrame(cm, index=[0,1],\n",
    "                        columns=[0,1])\n",
    "confusion"
   ]
  },
  {
   "cell_type": "code",
   "execution_count": null,
   "metadata": {},
   "outputs": [],
   "source": []
  }
 ],
 "metadata": {
  "kernelspec": {
   "display_name": "Python 3",
   "language": "python",
   "name": "python3"
  },
  "language_info": {
   "codemirror_mode": {
    "name": "ipython",
    "version": 3
   },
   "file_extension": ".py",
   "mimetype": "text/x-python",
   "name": "python",
   "nbconvert_exporter": "python",
   "pygments_lexer": "ipython3",
   "version": "3.7.3"
  }
 },
 "nbformat": 4,
 "nbformat_minor": 2
}
