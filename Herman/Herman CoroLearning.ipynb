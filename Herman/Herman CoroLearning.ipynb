{
 "cells": [
  {
   "cell_type": "code",
   "execution_count": 1,
   "metadata": {},
   "outputs": [],
   "source": [
    "from PIL import Image\n",
    "import numpy as np\n",
    "import pandas as pd\n",
    "import matplotlib.pyplot as plt\n",
    "\n",
    "\n",
    "from sklearn import svm\n",
    "from sklearn.metrics import classification_report, confusion_matrix\n",
    "import joblib\n",
    "from os import walk\n",
    "\n",
    "import time\n",
    "\n",
    "%matplotlib inline"
   ]
  },
  {
   "cell_type": "code",
   "execution_count": 2,
   "metadata": {},
   "outputs": [],
   "source": [
    "pathBase = 'I://Chuan//Documents//MyData//NormalCAG//CoroBase//Arrangement//'\n",
    "#pathBase = 'E://Chuan//Documents//Database//DICOM//CoroBase//Arrangement//'\n",
    "\n",
    "theWhole = {}\n",
    "\n",
    "f = []\n",
    "f_LCA_Caudal = []\n",
    "mypath_LCA_Caudal = pathBase + 'LCA_Caudal'\n",
    "for (dirpath, dirnames, filenames) in walk(mypath_LCA_Caudal):\n",
    "    f.extend(filenames)\n",
    "for l in f:\n",
    "    f_LCA_Caudal.append(mypath_LCA_Caudal + '\\\\' + l) \n",
    "    \n",
    "f = []\n",
    "f_LCA_Cranial = []\n",
    "mypath_LCA_Cranial = pathBase + 'LCA_Cranial'\n",
    "for (dirpath, dirnames, filenames) in walk(mypath_LCA_Cranial):\n",
    "    f.extend(filenames)\n",
    "for l in f:\n",
    "    f_LCA_Cranial.append(mypath_LCA_Cranial + '\\\\' + l) \n",
    "    \n",
    "f = []\n",
    "f_LCA_Cranial_LAO = []\n",
    "mypath_LCA_Cranial_LAO = pathBase + 'LCA_Cranial_LAO'\n",
    "for (dirpath, dirnames, filenames) in walk(mypath_LCA_Cranial_LAO):\n",
    "    f.extend(filenames)\n",
    "for l in f:\n",
    "    f_LCA_Cranial_LAO.append(mypath_LCA_Cranial_LAO + '\\\\' + l) \n",
    "    \n",
    "    \n",
    "f = []\n",
    "f_LCA_Cranial_RAO = []\n",
    "mypath_LCA_Cranial_RAO = pathBase + 'LCA_Cranial_RAO'\n",
    "for (dirpath, dirnames, filenames) in walk(mypath_LCA_Cranial_RAO):\n",
    "    f.extend(filenames)\n",
    "for l in f:\n",
    "    f_LCA_Cranial_RAO.append(mypath_LCA_Cranial_RAO + '\\\\' + l) \n",
    "    \n",
    "f = []\n",
    "f_LCA_Spider = []\n",
    "mypath_LCA_Spider = pathBase + 'LCA_Spider'\n",
    "for (dirpath, dirnames, filenames) in walk(mypath_LCA_Spider):\n",
    "    f.extend(filenames)\n",
    "for l in f:\n",
    "    f_LCA_Spider.append(mypath_LCA_Spider + '\\\\' + l) \n",
    "    \n",
    "f = []\n",
    "f_RCA_Cranial = []\n",
    "mypath_RCA_Cranial = pathBase + 'RCA_Cranial'\n",
    "for (dirpath, dirnames, filenames) in walk(mypath_RCA_Cranial):\n",
    "    f.extend(filenames)\n",
    "for l in f:\n",
    "    f_RCA_Cranial.append(mypath_RCA_Cranial + '\\\\' + l) \n",
    "    \n",
    "f = []\n",
    "f_RCA_LAO = []\n",
    "mypath_RCA_LAO = pathBase + 'RCA_LAO'\n",
    "for (dirpath, dirnames, filenames) in walk(mypath_RCA_LAO):\n",
    "    f.extend(filenames)\n",
    "for l in f:\n",
    "    f_RCA_LAO.append(mypath_RCA_LAO + '\\\\' + l) \n",
    "    \n",
    "\n",
    "theWhole['LCA_Caudal'] = f_LCA_Caudal\n",
    "theWhole['LCA_Cranial'] = f_LCA_Cranial\n",
    "theWhole['LCA_Cranial_LAO'] = f_LCA_Cranial_LAO\n",
    "theWhole['LCA_Cranial_RAO'] = f_LCA_Cranial_RAO\n",
    "theWhole['LCA_Spider'] = f_LCA_Spider\n",
    "theWhole['RCA_Cranial'] = f_RCA_Cranial\n",
    "theWhole['RCA_LAO'] = f_RCA_LAO"
   ]
  },
  {
   "cell_type": "code",
   "execution_count": 3,
   "metadata": {},
   "outputs": [
    {
     "data": {
      "text/plain": [
       "'npy'"
      ]
     },
     "execution_count": 3,
     "metadata": {},
     "output_type": "execute_result"
    }
   ],
   "source": [
    "theWhole['LCA_Cranial_LAO'][1].split('.')[-1]"
   ]
  },
  {
   "cell_type": "code",
   "execution_count": 4,
   "metadata": {},
   "outputs": [
    {
     "name": "stdout",
     "output_type": "stream",
     "text": [
      "22.09092354774475\n"
     ]
    }
   ],
   "source": [
    "start = time.time()\n",
    "\n",
    "array = {}\n",
    "i = 0\n",
    "\n",
    "for view in theWhole.keys():\n",
    "    array[view] = []\n",
    "    for case in theWhole[view]:\n",
    "        if case.split('.')[-1] == 'npy':\n",
    "            arr = np.load(case)\n",
    "            array[view].append(arr)\n",
    "\n",
    "end = time.time()\n",
    "print(end - start)"
   ]
  },
  {
   "cell_type": "markdown",
   "metadata": {},
   "source": [
    "### 2D to 1D"
   ]
  },
  {
   "cell_type": "code",
   "execution_count": 5,
   "metadata": {},
   "outputs": [],
   "source": [
    "array_flat = {}\n",
    "\n",
    "for view in array.keys():\n",
    "    array_flat[view] = []\n",
    "    for case in array[view]:\n",
    "        case_flat = []\n",
    "        for row in case:\n",
    "            for column in row:\n",
    "                case_flat.append(column)            \n",
    "        array_flat[view].append(case_flat)"
   ]
  },
  {
   "cell_type": "markdown",
   "metadata": {},
   "source": [
    "## Support Vector Classification"
   ]
  },
  {
   "cell_type": "code",
   "execution_count": 6,
   "metadata": {},
   "outputs": [],
   "source": [
    "x_train_list = []\n",
    "y_train_list = []\n",
    "\n",
    "for y, x in array_flat.items():    \n",
    "    for x_item in x:\n",
    "        x_train_list.append(x_item)\n",
    "        y_train_list.append(y)"
   ]
  },
  {
   "cell_type": "markdown",
   "metadata": {},
   "source": [
    "### Training"
   ]
  },
  {
   "cell_type": "code",
   "execution_count": 7,
   "metadata": {},
   "outputs": [],
   "source": [
    "start = time.time()\n",
    "\n",
    "X_train = np.array(x_train_list)\n",
    "y_train = np.array(y_train_list)\n",
    "\n",
    "# linear kernel\n",
    "clf = svm.SVC(kernel='linear', decision_function_shape='ovo')\n",
    "clf.fit(X_train, y_train)\n",
    "\n",
    "end = time.time()"
   ]
  },
  {
   "cell_type": "code",
   "execution_count": 8,
   "metadata": {},
   "outputs": [
    {
     "name": "stdout",
     "output_type": "stream",
     "text": [
      "119.35802388191223\n"
     ]
    }
   ],
   "source": [
    "print(end - start)"
   ]
  },
  {
   "cell_type": "markdown",
   "metadata": {},
   "source": [
    "### Prediction"
   ]
  },
  {
   "cell_type": "code",
   "execution_count": 9,
   "metadata": {},
   "outputs": [
    {
     "name": "stdout",
     "output_type": "stream",
     "text": [
      "w =  [[ 6.20497989e-06  5.27256222e-06  5.43508992e-06 ... -1.02530880e-05\n",
      "  -1.03174245e-05 -1.06180418e-05]\n",
      " [ 3.34567551e-06  2.61397966e-06  2.30155349e-06 ...  1.65413816e-06\n",
      "   1.63877012e-06  1.94331925e-06]\n",
      " [ 1.06673555e-05  1.15503883e-05  1.26264788e-05 ... -2.24476929e-06\n",
      "  -4.72183913e-07  1.36084921e-06]\n",
      " ...\n",
      " [-4.75027045e-06 -5.24507958e-06 -5.40273902e-06 ... -4.21538300e-06\n",
      "  -3.24788572e-06 -2.38320768e-06]\n",
      " [-3.83151948e-06 -3.63989352e-06 -3.27653052e-06 ... -5.14394412e-07\n",
      "  -3.97133100e-07 -3.74053179e-07]\n",
      " [-2.78960215e-08  2.34590311e-06  3.51443563e-06 ... -5.88015587e-06\n",
      "  -6.62432501e-06 -7.91444785e-06]]\n",
      "b =  [-2.46858202 -1.3445861  -5.32148933 -4.81807765 -1.04084266 -1.2416585\n",
      "  3.66919523  1.94824251 -1.34188183  3.69622951 -1.38301444 -1.35464201\n",
      " -0.71447861 -2.44061491 -3.37349772 -2.32843434  2.91425698  0.10800616\n",
      " -7.73938285 -5.30181619 -0.34588569]\n",
      "Indices of support vectors =  [  1   3   4   5   7   9  10  11  12  16  17  19  20  22  26  27  28  30\n",
      "  31  32  34  35  37  38  39  40  43  44  45  48  49  51  53  55  60  62\n",
      "  63  66  67  68  71  72  73  75  76  77  78  81  84  85  89  91  93  94\n",
      "  95 101 103 104 105 108 109 111 116 117 118 119 122 124 125 127 129 130\n",
      " 133 134 137 138 139 142 144 147 154 155 157 159 160 161 162 163 164 165\n",
      " 166 167 168 170 171 173 174 175 176 178 179 180 181 182 183 184 185 189\n",
      " 190 193 194 195 196 197 198 199 201 202 203 204 206 207 208 209 210 211\n",
      " 213 214 216 217 218 219 220 221 225 227 228 229 230 231 233 234 235 236\n",
      " 238 240 242 244 245 246 248 249 250 251 254 255 256 257 260 261 263 265\n",
      " 266 267 268 269 270 271 272 274 275 276 279 280 281 282 283 284 286 287\n",
      " 288 289 290 291 292 293 294 297 298 299 300 301 302 303 304 305 306 307\n",
      " 308 309 310 311 312 313 314 315 316 317 318 319 320 322 323 325 326 327\n",
      " 328 330 331 332 333 334 335 336 337 338 340 341 342 343 344 345 346 347\n",
      " 348 350 353 356 359 360 361 362 363 364 366 367 368 373 374 375 376 383\n",
      " 386 388 389 391 392 393 394 396 397 398 400 403 404 405 406 408 410 411\n",
      " 414 415 417 418 419 420 422 423 424 426 427 429 431 433 434 435 439 441\n",
      " 443 444 445 446 448 449 452 453 455 456 460 461 462 463 464 465 466 468\n",
      " 469 470 473 475 477 478 479 481 482 483 487 488 489 490 492 493 495 497\n",
      " 504 510 511 514 516 518 519 520 522 525 529 530 531 533 534 535 537 540\n",
      " 542 543 544 545 546 551 552 554 555 556 557 560 565 566 567 568 570 571\n",
      " 575 581 582 584 585 587 589 590 594 599 602 604 606 607 608 611 612 617\n",
      " 620 621 624 625 628 630 631 632 634 635 637 640 641 643 645 647 648 649\n",
      " 650 651 652 653 654 655 656 657 658 659 660 662 663 664 665 667 668 669\n",
      " 670 672 673 674 675 676 677 678 681 683 684 685 686 689 690 693 694 695\n",
      " 698 699 700 702 703 705 706 708 712 713 714 718 721 722 723 724 726 730\n",
      " 731 732 733 734 737 738 741 742 747 752 753 754 755 756 758 759 760 761\n",
      " 764 772 773 774 776 781 782 785 794 795 798 801 802 807 808 809 810 816\n",
      " 817 818 819 820 821 822 823 824 844 846 848 850 857 861 863 864 867 876\n",
      " 881 886 887]\n",
      "Support vectors =  [[ 95.86956522  95.39130435  96.63043478 ... 114.69565217 115.04347826\n",
      "  119.19565217]\n",
      " [106.02985075 101.65671642 100.31343284 ...  98.8358209   98.46268657\n",
      "  101.64179104]\n",
      " [111.21348315 109.74157303 105.84269663 ... 101.86516854 102.79775281\n",
      "  102.20224719]\n",
      " ...\n",
      " [ 97.         101.7260274  106.32876712 ... 103.80821918 104.23287671\n",
      "  105.57534247]\n",
      " [132.72413793 130.87931034 129.9137931  ... 105.79310345 105.77586207\n",
      "  107.56896552]\n",
      " [132.18918919 131.59459459 132.02702703 ... 116.21621622 118.2972973\n",
      "  118.81081081]]\n",
      "Number of support vectors for each class =  [81 91 63 75 68 74 55]\n",
      "Coefficients of the support vector in the decision function =  [[0.00000000e+00 2.47390138e-09 0.00000000e+00 ... 0.00000000e+00\n",
      "  0.00000000e+00 9.48050667e-10]\n",
      " [0.00000000e+00 1.68053139e-08 0.00000000e+00 ... 0.00000000e+00\n",
      "  0.00000000e+00 2.74995379e-08]\n",
      " [4.86340356e-08 0.00000000e+00 2.98590860e-08 ... 0.00000000e+00\n",
      "  0.00000000e+00 3.16151988e-09]\n",
      " [0.00000000e+00 0.00000000e+00 0.00000000e+00 ... 0.00000000e+00\n",
      "  0.00000000e+00 1.20025044e-09]\n",
      " [2.18951224e-08 0.00000000e+00 0.00000000e+00 ... 0.00000000e+00\n",
      "  0.00000000e+00 2.05371182e-08]\n",
      " [1.13256443e-08 0.00000000e+00 0.00000000e+00 ... 4.58647072e-08\n",
      "  1.39750894e-09 1.00000000e+00]]\n"
     ]
    }
   ],
   "source": [
    "print('w = ',clf.coef_)\n",
    "print('b = ',clf.intercept_)\n",
    "print('Indices of support vectors = ', clf.support_)\n",
    "print('Support vectors = ', clf.support_vectors_)\n",
    "print('Number of support vectors for each class = ', clf.n_support_)\n",
    "print('Coefficients of the support vector in the decision function = ', np.abs(clf.dual_coef_))"
   ]
  },
  {
   "cell_type": "code",
   "execution_count": 10,
   "metadata": {},
   "outputs": [],
   "source": [
    "pathBase = 'I://Chuan//Documents//MyData//NormalCAG//CoroBase//Arrangement//test//'\n",
    "#pathBase = 'E://Chuan//Documents//Database//DICOM//CoroBase//Arrangement//test//'\n",
    "\n",
    "theWhole = {}\n",
    "\n",
    "f = []\n",
    "f_LCA_Caudal = []\n",
    "mypath_LCA_Caudal = pathBase + 'LCA_Caudal'\n",
    "for (dirpath, dirnames, filenames) in walk(mypath_LCA_Caudal):\n",
    "    f.extend(filenames)\n",
    "for l in f:\n",
    "    f_LCA_Caudal.append(mypath_LCA_Caudal + '\\\\' + l) \n",
    "    \n",
    "f = []\n",
    "f_LCA_Cranial = []\n",
    "mypath_LCA_Cranial = pathBase + 'LCA_Cranial'\n",
    "for (dirpath, dirnames, filenames) in walk(mypath_LCA_Cranial):\n",
    "    f.extend(filenames)\n",
    "for l in f:\n",
    "    f_LCA_Cranial.append(mypath_LCA_Cranial + '\\\\' + l) \n",
    "    \n",
    "f = []\n",
    "f_LCA_Cranial_LAO = []\n",
    "mypath_LCA_Cranial_LAO = pathBase + 'LCA_Cranial_LAO'\n",
    "for (dirpath, dirnames, filenames) in walk(mypath_LCA_Cranial_LAO):\n",
    "    f.extend(filenames)\n",
    "for l in f:\n",
    "    f_LCA_Cranial_LAO.append(mypath_LCA_Cranial_LAO + '\\\\' + l) \n",
    "    \n",
    "    \n",
    "f = []\n",
    "f_LCA_Cranial_RAO = []\n",
    "mypath_LCA_Cranial_RAO = pathBase + 'LCA_Cranial_RAO'\n",
    "for (dirpath, dirnames, filenames) in walk(mypath_LCA_Cranial_RAO):\n",
    "    f.extend(filenames)\n",
    "for l in f:\n",
    "    f_LCA_Cranial_RAO.append(mypath_LCA_Cranial_RAO + '\\\\' + l) \n",
    "    \n",
    "f = []\n",
    "f_LCA_Spider = []\n",
    "mypath_LCA_Spider = pathBase + 'LCA_Spider'\n",
    "for (dirpath, dirnames, filenames) in walk(mypath_LCA_Spider):\n",
    "    f.extend(filenames)\n",
    "for l in f:\n",
    "    f_LCA_Spider.append(mypath_LCA_Spider + '\\\\' + l) \n",
    "    \n",
    "f = []\n",
    "f_RCA_Cranial = []\n",
    "mypath_RCA_Cranial = pathBase + 'RCA_Cranial'\n",
    "for (dirpath, dirnames, filenames) in walk(mypath_RCA_Cranial):\n",
    "    f.extend(filenames)\n",
    "for l in f:\n",
    "    f_RCA_Cranial.append(mypath_RCA_Cranial + '\\\\' + l) \n",
    "    \n",
    "f = []\n",
    "f_RCA_LAO = []\n",
    "mypath_RCA_LAO = pathBase + 'RCA_LAO'\n",
    "for (dirpath, dirnames, filenames) in walk(mypath_RCA_LAO):\n",
    "    f.extend(filenames)\n",
    "for l in f:\n",
    "    f_RCA_LAO.append(mypath_RCA_LAO + '\\\\' + l) \n",
    "    \n",
    "\n",
    "theWhole['LCA_Caudal'] = f_LCA_Caudal\n",
    "theWhole['LCA_Cranial'] = f_LCA_Cranial\n",
    "theWhole['LCA_Cranial_LAO'] = f_LCA_Cranial_LAO\n",
    "theWhole['LCA_Cranial_RAO'] = f_LCA_Cranial_RAO\n",
    "theWhole['LCA_Spider'] = f_LCA_Spider\n",
    "theWhole['RCA_Cranial'] = f_RCA_Cranial\n",
    "theWhole['RCA_LAO'] = f_RCA_LAO"
   ]
  },
  {
   "cell_type": "code",
   "execution_count": 11,
   "metadata": {},
   "outputs": [
    {
     "name": "stdout",
     "output_type": "stream",
     "text": [
      "4.024064540863037\n"
     ]
    }
   ],
   "source": [
    "start = time.time()\n",
    "\n",
    "array = {}\n",
    "i = 0\n",
    "\n",
    "for view in theWhole.keys():\n",
    "    array[view] = []\n",
    "    for case in theWhole[view]:\n",
    "        if case.split('.')[-1] == 'npy':\n",
    "            arr = np.load(case)\n",
    "            array[view].append(arr)\n",
    "\n",
    "end = time.time()\n",
    "print(end - start)"
   ]
  },
  {
   "cell_type": "markdown",
   "metadata": {},
   "source": [
    "### 2D to 1D"
   ]
  },
  {
   "cell_type": "code",
   "execution_count": 12,
   "metadata": {},
   "outputs": [],
   "source": [
    "array_flat = {}\n",
    "\n",
    "for view in array.keys():\n",
    "    array_flat[view] = []\n",
    "    for case in array[view]:\n",
    "        case_flat = []\n",
    "        for row in case:\n",
    "            for column in row:\n",
    "                case_flat.append(column)            \n",
    "        array_flat[view].append(case_flat)"
   ]
  },
  {
   "cell_type": "code",
   "execution_count": 13,
   "metadata": {},
   "outputs": [],
   "source": [
    "x_test_list = []\n",
    "y_test_list = []\n",
    "\n",
    "for y, x in array_flat.items():    \n",
    "    for x_item in x:\n",
    "        x_test_list.append(x_item)\n",
    "        y_test_list.append(y)"
   ]
  },
  {
   "cell_type": "code",
   "execution_count": 14,
   "metadata": {},
   "outputs": [],
   "source": [
    "X_test = np.array(x_test_list)\n",
    "y_test = np.array(y_test_list)"
   ]
  },
  {
   "cell_type": "markdown",
   "metadata": {},
   "source": [
    "## Performance Measures"
   ]
  },
  {
   "cell_type": "code",
   "execution_count": 15,
   "metadata": {},
   "outputs": [],
   "source": [
    "y_predict = clf.predict(X_test)\n",
    "y_test = y_test"
   ]
  },
  {
   "cell_type": "code",
   "execution_count": 16,
   "metadata": {},
   "outputs": [
    {
     "data": {
      "text/plain": [
       "array(['LCA_Caudal', 'LCA_Caudal', 'LCA_Caudal', 'LCA_Caudal',\n",
       "       'LCA_Caudal', 'LCA_Caudal', 'LCA_Caudal', 'LCA_Caudal',\n",
       "       'LCA_Caudal', 'LCA_Spider', 'LCA_Caudal', 'LCA_Caudal',\n",
       "       'LCA_Caudal', 'LCA_Caudal', 'LCA_Caudal', 'LCA_Caudal',\n",
       "       'LCA_Caudal', 'LCA_Caudal', 'LCA_Caudal', 'LCA_Caudal',\n",
       "       'LCA_Cranial', 'LCA_Cranial', 'LCA_Cranial', 'LCA_Cranial',\n",
       "       'LCA_Cranial', 'LCA_Cranial', 'LCA_Cranial_LAO', 'RCA_Cranial',\n",
       "       'LCA_Cranial', 'LCA_Cranial', 'LCA_Cranial_RAO', 'LCA_Cranial_LAO',\n",
       "       'LCA_Cranial_LAO', 'LCA_Cranial', 'LCA_Cranial', 'LCA_Cranial',\n",
       "       'LCA_Cranial', 'LCA_Cranial', 'LCA_Cranial', 'LCA_Cranial_RAO',\n",
       "       'LCA_Cranial', 'LCA_Cranial', 'LCA_Cranial', 'LCA_Cranial',\n",
       "       'LCA_Cranial', 'LCA_Cranial_RAO', 'LCA_Cranial_LAO', 'LCA_Cranial',\n",
       "       'LCA_Cranial_LAO', 'LCA_Cranial_LAO', 'LCA_Cranial_LAO',\n",
       "       'LCA_Cranial', 'LCA_Spider', 'LCA_Cranial_LAO', 'LCA_Cranial_LAO',\n",
       "       'LCA_Cranial', 'LCA_Cranial', 'LCA_Cranial_LAO', 'LCA_Cranial_LAO',\n",
       "       'LCA_Cranial_LAO', 'LCA_Cranial_LAO', 'LCA_Cranial', 'LCA_Cranial',\n",
       "       'LCA_Cranial_LAO', 'LCA_Cranial', 'LCA_Cranial_RAO',\n",
       "       'LCA_Cranial_RAO', 'LCA_Cranial', 'LCA_Cranial_RAO', 'LCA_Cranial',\n",
       "       'LCA_Cranial', 'LCA_Cranial_RAO', 'LCA_Cranial_RAO',\n",
       "       'LCA_Cranial_RAO', 'LCA_Cranial_RAO', 'LCA_Cranial_RAO',\n",
       "       'LCA_Cranial', 'LCA_Cranial_RAO', 'LCA_Cranial_RAO',\n",
       "       'LCA_Cranial_RAO', 'LCA_Cranial_RAO', 'LCA_Cranial_RAO',\n",
       "       'LCA_Cranial_RAO', 'LCA_Cranial_RAO', 'LCA_Cranial_RAO',\n",
       "       'LCA_Spider', 'RCA_Cranial', 'LCA_Spider', 'LCA_Spider',\n",
       "       'LCA_Spider', 'LCA_Spider', 'LCA_Spider', 'LCA_Spider',\n",
       "       'LCA_Spider', 'LCA_Spider', 'LCA_Spider', 'LCA_Spider',\n",
       "       'LCA_Spider', 'LCA_Spider', 'LCA_Spider', 'LCA_Spider',\n",
       "       'LCA_Spider', 'LCA_Spider', 'LCA_Spider', 'RCA_Cranial',\n",
       "       'RCA_Cranial', 'RCA_Cranial', 'RCA_LAO', 'RCA_Cranial',\n",
       "       'RCA_Cranial', 'RCA_Cranial', 'RCA_LAO', 'RCA_Cranial',\n",
       "       'RCA_Cranial', 'RCA_Cranial', 'RCA_Cranial', 'RCA_Cranial',\n",
       "       'LCA_Cranial', 'RCA_Cranial', 'RCA_Cranial', 'LCA_Cranial',\n",
       "       'LCA_Cranial_LAO', 'RCA_Cranial', 'RCA_Cranial', 'RCA_LAO',\n",
       "       'RCA_LAO', 'RCA_LAO', 'RCA_LAO', 'RCA_LAO', 'RCA_LAO', 'RCA_LAO',\n",
       "       'RCA_LAO', 'RCA_LAO', 'RCA_LAO', 'RCA_LAO'], dtype='<U15')"
      ]
     },
     "execution_count": 16,
     "metadata": {},
     "output_type": "execute_result"
    }
   ],
   "source": [
    "y_predict"
   ]
  },
  {
   "cell_type": "code",
   "execution_count": 17,
   "metadata": {},
   "outputs": [
    {
     "data": {
      "text/plain": [
       "array(['LCA_Caudal', 'LCA_Caudal', 'LCA_Caudal', 'LCA_Caudal',\n",
       "       'LCA_Caudal', 'LCA_Caudal', 'LCA_Caudal', 'LCA_Caudal',\n",
       "       'LCA_Caudal', 'LCA_Caudal', 'LCA_Caudal', 'LCA_Caudal',\n",
       "       'LCA_Caudal', 'LCA_Caudal', 'LCA_Caudal', 'LCA_Caudal',\n",
       "       'LCA_Caudal', 'LCA_Caudal', 'LCA_Caudal', 'LCA_Caudal',\n",
       "       'LCA_Cranial', 'LCA_Cranial', 'LCA_Cranial', 'LCA_Cranial',\n",
       "       'LCA_Cranial', 'LCA_Cranial', 'LCA_Cranial', 'LCA_Cranial',\n",
       "       'LCA_Cranial', 'LCA_Cranial', 'LCA_Cranial', 'LCA_Cranial',\n",
       "       'LCA_Cranial', 'LCA_Cranial', 'LCA_Cranial', 'LCA_Cranial',\n",
       "       'LCA_Cranial', 'LCA_Cranial', 'LCA_Cranial', 'LCA_Cranial',\n",
       "       'LCA_Cranial', 'LCA_Cranial', 'LCA_Cranial', 'LCA_Cranial',\n",
       "       'LCA_Cranial_LAO', 'LCA_Cranial_LAO', 'LCA_Cranial_LAO',\n",
       "       'LCA_Cranial_LAO', 'LCA_Cranial_LAO', 'LCA_Cranial_LAO',\n",
       "       'LCA_Cranial_LAO', 'LCA_Cranial_LAO', 'LCA_Cranial_LAO',\n",
       "       'LCA_Cranial_LAO', 'LCA_Cranial_LAO', 'LCA_Cranial_LAO',\n",
       "       'LCA_Cranial_LAO', 'LCA_Cranial_LAO', 'LCA_Cranial_LAO',\n",
       "       'LCA_Cranial_LAO', 'LCA_Cranial_LAO', 'LCA_Cranial_LAO',\n",
       "       'LCA_Cranial_LAO', 'LCA_Cranial_LAO', 'LCA_Cranial_RAO',\n",
       "       'LCA_Cranial_RAO', 'LCA_Cranial_RAO', 'LCA_Cranial_RAO',\n",
       "       'LCA_Cranial_RAO', 'LCA_Cranial_RAO', 'LCA_Cranial_RAO',\n",
       "       'LCA_Cranial_RAO', 'LCA_Cranial_RAO', 'LCA_Cranial_RAO',\n",
       "       'LCA_Cranial_RAO', 'LCA_Cranial_RAO', 'LCA_Cranial_RAO',\n",
       "       'LCA_Cranial_RAO', 'LCA_Cranial_RAO', 'LCA_Cranial_RAO',\n",
       "       'LCA_Cranial_RAO', 'LCA_Cranial_RAO', 'LCA_Cranial_RAO',\n",
       "       'LCA_Cranial_RAO', 'LCA_Cranial_RAO', 'LCA_Spider', 'LCA_Spider',\n",
       "       'LCA_Spider', 'LCA_Spider', 'LCA_Spider', 'LCA_Spider',\n",
       "       'LCA_Spider', 'LCA_Spider', 'LCA_Spider', 'LCA_Spider',\n",
       "       'LCA_Spider', 'LCA_Spider', 'LCA_Spider', 'LCA_Spider',\n",
       "       'LCA_Spider', 'LCA_Spider', 'LCA_Spider', 'LCA_Spider',\n",
       "       'LCA_Spider', 'RCA_Cranial', 'RCA_Cranial', 'RCA_Cranial',\n",
       "       'RCA_Cranial', 'RCA_Cranial', 'RCA_Cranial', 'RCA_Cranial',\n",
       "       'RCA_Cranial', 'RCA_Cranial', 'RCA_Cranial', 'RCA_Cranial',\n",
       "       'RCA_Cranial', 'RCA_Cranial', 'RCA_Cranial', 'RCA_Cranial',\n",
       "       'RCA_Cranial', 'RCA_Cranial', 'RCA_Cranial', 'RCA_Cranial',\n",
       "       'RCA_Cranial', 'RCA_LAO', 'RCA_LAO', 'RCA_LAO', 'RCA_LAO',\n",
       "       'RCA_LAO', 'RCA_LAO', 'RCA_LAO', 'RCA_LAO', 'RCA_LAO', 'RCA_LAO',\n",
       "       'RCA_LAO'], dtype='<U15')"
      ]
     },
     "execution_count": 17,
     "metadata": {},
     "output_type": "execute_result"
    }
   ],
   "source": [
    "y_test"
   ]
  },
  {
   "cell_type": "markdown",
   "metadata": {},
   "source": [
    "### Confusion Matrix (混淆矩阵)"
   ]
  },
  {
   "cell_type": "code",
   "execution_count": 18,
   "metadata": {
    "scrolled": true
   },
   "outputs": [
    {
     "data": {
      "text/html": [
       "<div>\n",
       "<style scoped>\n",
       "    .dataframe tbody tr th:only-of-type {\n",
       "        vertical-align: middle;\n",
       "    }\n",
       "\n",
       "    .dataframe tbody tr th {\n",
       "        vertical-align: top;\n",
       "    }\n",
       "\n",
       "    .dataframe thead th {\n",
       "        text-align: right;\n",
       "    }\n",
       "</style>\n",
       "<table border=\"1\" class=\"dataframe\">\n",
       "  <thead>\n",
       "    <tr style=\"text-align: right;\">\n",
       "      <th></th>\n",
       "      <th>Predictive LCA_Caudal</th>\n",
       "      <th>Predictive LCA_Cranial</th>\n",
       "      <th>Predictive LCA_Cranial_LAO</th>\n",
       "      <th>Predictive LCA_Cranial_RAO</th>\n",
       "      <th>Predictive LCA_Spider</th>\n",
       "      <th>Predictive RCA_Cranial</th>\n",
       "      <th>Predictive RCA_LAO</th>\n",
       "    </tr>\n",
       "  </thead>\n",
       "  <tbody>\n",
       "    <tr>\n",
       "      <th>LCA_Caudal</th>\n",
       "      <td>19</td>\n",
       "      <td>0</td>\n",
       "      <td>0</td>\n",
       "      <td>0</td>\n",
       "      <td>1</td>\n",
       "      <td>0</td>\n",
       "      <td>0</td>\n",
       "    </tr>\n",
       "    <tr>\n",
       "      <th>LCA_Cranial</th>\n",
       "      <td>0</td>\n",
       "      <td>18</td>\n",
       "      <td>3</td>\n",
       "      <td>2</td>\n",
       "      <td>0</td>\n",
       "      <td>1</td>\n",
       "      <td>0</td>\n",
       "    </tr>\n",
       "    <tr>\n",
       "      <th>LCA_Cranial_LAO</th>\n",
       "      <td>0</td>\n",
       "      <td>7</td>\n",
       "      <td>11</td>\n",
       "      <td>1</td>\n",
       "      <td>1</td>\n",
       "      <td>0</td>\n",
       "      <td>0</td>\n",
       "    </tr>\n",
       "    <tr>\n",
       "      <th>LCA_Cranial_RAO</th>\n",
       "      <td>0</td>\n",
       "      <td>5</td>\n",
       "      <td>0</td>\n",
       "      <td>16</td>\n",
       "      <td>0</td>\n",
       "      <td>0</td>\n",
       "      <td>0</td>\n",
       "    </tr>\n",
       "    <tr>\n",
       "      <th>LCA_Spider</th>\n",
       "      <td>0</td>\n",
       "      <td>0</td>\n",
       "      <td>0</td>\n",
       "      <td>0</td>\n",
       "      <td>18</td>\n",
       "      <td>1</td>\n",
       "      <td>0</td>\n",
       "    </tr>\n",
       "    <tr>\n",
       "      <th>RCA_Cranial</th>\n",
       "      <td>0</td>\n",
       "      <td>2</td>\n",
       "      <td>1</td>\n",
       "      <td>0</td>\n",
       "      <td>0</td>\n",
       "      <td>15</td>\n",
       "      <td>2</td>\n",
       "    </tr>\n",
       "    <tr>\n",
       "      <th>RCA_LAO</th>\n",
       "      <td>0</td>\n",
       "      <td>0</td>\n",
       "      <td>0</td>\n",
       "      <td>0</td>\n",
       "      <td>0</td>\n",
       "      <td>0</td>\n",
       "      <td>11</td>\n",
       "    </tr>\n",
       "  </tbody>\n",
       "</table>\n",
       "</div>"
      ],
      "text/plain": [
       "                 Predictive LCA_Caudal  Predictive LCA_Cranial  \\\n",
       "LCA_Caudal                          19                       0   \n",
       "LCA_Cranial                          0                      18   \n",
       "LCA_Cranial_LAO                      0                       7   \n",
       "LCA_Cranial_RAO                      0                       5   \n",
       "LCA_Spider                           0                       0   \n",
       "RCA_Cranial                          0                       2   \n",
       "RCA_LAO                              0                       0   \n",
       "\n",
       "                 Predictive LCA_Cranial_LAO  Predictive LCA_Cranial_RAO  \\\n",
       "LCA_Caudal                                0                           0   \n",
       "LCA_Cranial                               3                           2   \n",
       "LCA_Cranial_LAO                          11                           1   \n",
       "LCA_Cranial_RAO                           0                          16   \n",
       "LCA_Spider                                0                           0   \n",
       "RCA_Cranial                               1                           0   \n",
       "RCA_LAO                                   0                           0   \n",
       "\n",
       "                 Predictive LCA_Spider  Predictive RCA_Cranial  \\\n",
       "LCA_Caudal                           1                       0   \n",
       "LCA_Cranial                          0                       1   \n",
       "LCA_Cranial_LAO                      1                       0   \n",
       "LCA_Cranial_RAO                      0                       0   \n",
       "LCA_Spider                          18                       1   \n",
       "RCA_Cranial                          0                      15   \n",
       "RCA_LAO                              0                       0   \n",
       "\n",
       "                 Predictive RCA_LAO  \n",
       "LCA_Caudal                        0  \n",
       "LCA_Cranial                       0  \n",
       "LCA_Cranial_LAO                   0  \n",
       "LCA_Cranial_RAO                   0  \n",
       "LCA_Spider                        0  \n",
       "RCA_Cranial                       2  \n",
       "RCA_LAO                          11  "
      ]
     },
     "execution_count": 18,
     "metadata": {},
     "output_type": "execute_result"
    }
   ],
   "source": [
    "cm = np.array(confusion_matrix(y_test, y_predict, labels=['LCA_Caudal', 'LCA_Cranial', \n",
    "                                                          'LCA_Cranial_LAO', 'LCA_Cranial_RAO', \n",
    "                                                          'LCA_Spider', \n",
    "                                                          'RCA_Cranial', 'RCA_LAO']))\n",
    "confusion = pd.DataFrame(cm, index=['LCA_Caudal', 'LCA_Cranial', \n",
    "                                    'LCA_Cranial_LAO', 'LCA_Cranial_RAO', 'LCA_Spider',\n",
    "                                    'RCA_Cranial', 'RCA_LAO'],\n",
    "                        columns=['Predictive LCA_Caudal', 'Predictive LCA_Cranial',\n",
    "                                 'Predictive LCA_Cranial_LAO', 'Predictive LCA_Cranial_RAO',\n",
    "                                 'Predictive LCA_Spider',\n",
    "                                    'Predictive RCA_Cranial', 'Predictive RCA_LAO'])\n",
    "confusion.to_csv('ConfusionMatrix.csv')\n",
    "confusion"
   ]
  },
  {
   "cell_type": "code",
   "execution_count": 19,
   "metadata": {
    "scrolled": true
   },
   "outputs": [
    {
     "name": "stdout",
     "output_type": "stream",
     "text": [
      "                 precision    recall  f1-score   support\n",
      "\n",
      "     LCA_Caudal       1.00      0.95      0.97        20\n",
      "    LCA_Cranial       0.56      0.75      0.64        24\n",
      "LCA_Cranial_LAO       0.73      0.55      0.63        20\n",
      "LCA_Cranial_RAO       0.84      0.76      0.80        21\n",
      "     LCA_Spider       0.90      0.95      0.92        19\n",
      "    RCA_Cranial       0.88      0.75      0.81        20\n",
      "        RCA_LAO       0.85      1.00      0.92        11\n",
      "\n",
      "      micro avg       0.80      0.80      0.80       135\n",
      "      macro avg       0.82      0.82      0.81       135\n",
      "   weighted avg       0.81      0.80      0.80       135\n",
      "\n"
     ]
    }
   ],
   "source": [
    "print(classification_report(y_test, y_predict))"
   ]
  },
  {
   "cell_type": "markdown",
   "metadata": {},
   "source": [
    "## Save the Model"
   ]
  },
  {
   "cell_type": "code",
   "execution_count": 20,
   "metadata": {},
   "outputs": [
    {
     "name": "stdout",
     "output_type": "stream",
     "text": [
      "['trained_model.m']\n"
     ]
    }
   ],
   "source": [
    "c = joblib.dump(clf, 'trained_model.m')\n",
    "print(c)"
   ]
  },
  {
   "cell_type": "markdown",
   "metadata": {},
   "source": [
    "## Load the Model"
   ]
  },
  {
   "cell_type": "code",
   "execution_count": 21,
   "metadata": {},
   "outputs": [
    {
     "name": "stdout",
     "output_type": "stream",
     "text": [
      "SVC(C=1.0, cache_size=200, class_weight=None, coef0=0.0,\n",
      "  decision_function_shape='ovo', degree=3, gamma='auto_deprecated',\n",
      "  kernel='linear', max_iter=-1, probability=False, random_state=None,\n",
      "  shrinking=True, tol=0.001, verbose=False)\n"
     ]
    }
   ],
   "source": [
    "d = joblib.load('trained_model.m')\n",
    "print(d)"
   ]
  },
  {
   "cell_type": "code",
   "execution_count": null,
   "metadata": {},
   "outputs": [],
   "source": []
  }
 ],
 "metadata": {
  "kernelspec": {
   "display_name": "Python 3",
   "language": "python",
   "name": "python3"
  },
  "language_info": {
   "codemirror_mode": {
    "name": "ipython",
    "version": 3
   },
   "file_extension": ".py",
   "mimetype": "text/x-python",
   "name": "python",
   "nbconvert_exporter": "python",
   "pygments_lexer": "ipython3",
   "version": "3.7.3"
  }
 },
 "nbformat": 4,
 "nbformat_minor": 2
}
