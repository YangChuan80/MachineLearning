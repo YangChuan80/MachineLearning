{
 "cells": [
  {
   "cell_type": "code",
   "execution_count": null,
   "metadata": {},
   "outputs": [],
   "source": [
    "import xlrd\n",
    "import pandas as pd\n",
    "import numpy as np"
   ]
  },
  {
   "cell_type": "code",
   "execution_count": null,
   "metadata": {},
   "outputs": [],
   "source": [
    "#Import File\n",
    "filename='I://Chuan//Documents//My Data//ZhangJing//ZhangData 1122.xlsx'\n",
    "book=xlrd.open_workbook(filename)\n",
    "\n",
    "#Extraction\n",
    "nsheets=book.nsheets\n",
    "\n",
    "sheet_names=book.sheet_names()\n",
    "\n",
    "nrows=book.sheet_by_name(sheet_names[0]).nrows\n",
    "current_header=book.sheet_by_name(sheet_names[0]).row_values(0) \n",
    "current_data=[book.sheet_by_name(sheet_names[0]).row_values(i) for i in range(1, nrows)]\n",
    "df=pd.DataFrame(current_data, columns=current_header)   #DataFrame Construction\n",
    "\n",
    "sheet_names[0]\n",
    "'''\n",
    "for sheet_name in sheet_names:    \n",
    "    nrows=book.sheet_by_name(sheet_name).nrows\n",
    "    current_header=book.sheet_by_name(sheet_name).row_values(2) \n",
    "    current_data=[book.sheet_by_name(sheet_name).row_values(i) for i in range(3, nrows)]\n",
    "    sheets[sheet_name]=pd.DataFrame(current_data, columns=current_header)   #DataFrame Construction\n",
    "#Feedback\n",
    "print('Data Extracted!')\n",
    "'''"
   ]
  }
 ],
 "metadata": {
  "kernelspec": {
   "display_name": "Python 3",
   "language": "python",
   "name": "python3"
  },
  "language_info": {
   "codemirror_mode": {
    "name": "ipython",
    "version": 3
   },
   "file_extension": ".py",
   "mimetype": "text/x-python",
   "name": "python",
   "nbconvert_exporter": "python",
   "pygments_lexer": "ipython3",
   "version": "3.7.3"
  }
 },
 "nbformat": 4,
 "nbformat_minor": 2
}
