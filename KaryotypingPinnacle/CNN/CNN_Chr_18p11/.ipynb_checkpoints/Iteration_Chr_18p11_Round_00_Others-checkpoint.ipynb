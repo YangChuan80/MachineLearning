{
 "cells": [
  {
   "cell_type": "markdown",
   "metadata": {
    "colab_type": "text",
    "id": "slIdjqTJhM8B"
   },
   "source": [
    "# Facilitated Machine Learning Models for Karyotyping in the Patients with Chromosomal Abnormalities: Retrospective Study"
   ]
  },
  {
   "cell_type": "markdown",
   "metadata": {
    "colab_type": "text",
    "id": "aBT9lgVVhM8D"
   },
   "source": [
    "- **Chuan Yang**, MD, PhD Student\n",
    "- Mentor: **Yanyan Zhao**, MD, PhD\n",
    "- Shengjing Hospital of China Medical University"
   ]
  },
  {
   "cell_type": "markdown",
   "metadata": {},
   "source": [
    "# Chr 18 vs Chr 18p11"
   ]
  },
  {
   "cell_type": "markdown",
   "metadata": {
    "colab_type": "text",
    "id": "xrnbxOZChM8E"
   },
   "source": [
    "# Modules"
   ]
  },
  {
   "cell_type": "code",
   "execution_count": 1,
   "metadata": {
    "colab": {},
    "colab_type": "code",
    "id": "aKjA8v4hhM8E"
   },
   "outputs": [],
   "source": [
    "from PIL import Image\n",
    "import numpy as np\n",
    "import pandas as pd\n",
    "import matplotlib.pyplot as plt\n",
    "\n",
    "import seaborn as sb\n",
    "\n",
    "from sklearn.metrics import classification_report, confusion_matrix, roc_curve, auc\n",
    "from sklearn.model_selection import KFold\n",
    "\n",
    "from tensorflow.keras import Sequential\n",
    "from tensorflow.keras.layers import Dense, Conv2D, MaxPooling2D, Flatten\n",
    "from tensorflow import keras\n",
    "\n",
    "from os import walk\n",
    "\n",
    "import time\n",
    "import datetime\n",
    "\n",
    "import json\n",
    "\n",
    "%matplotlib inline"
   ]
  },
  {
   "cell_type": "code",
   "execution_count": 2,
   "metadata": {},
   "outputs": [],
   "source": [
    "iterationNumber = 3"
   ]
  },
  {
   "cell_type": "markdown",
   "metadata": {},
   "source": [
    "# 1. Read the File to Acquire the Filename"
   ]
  },
  {
   "cell_type": "code",
   "execution_count": 3,
   "metadata": {
    "scrolled": true
   },
   "outputs": [
    {
     "data": {
      "text/plain": [
       "{'chr_18': {'0': ['D:\\\\Users\\\\Chuan\\\\Documents\\\\Database\\\\Karyotypes\\\\Arrangement_Merged\\\\chr_18\\\\181228-i(18)(q10)+18-10L.bmp',\n",
       "   'D:\\\\Users\\\\Chuan\\\\Documents\\\\Database\\\\Karyotypes\\\\Arrangement_Merged\\\\chr_18\\\\181228-i(18)(q10)+18-11L.bmp',\n",
       "   'D:\\\\Users\\\\Chuan\\\\Documents\\\\Database\\\\Karyotypes\\\\Arrangement_Merged\\\\chr_18\\\\181228-i(18)(q10)+18-12L.bmp',\n",
       "   'D:\\\\Users\\\\Chuan\\\\Documents\\\\Database\\\\Karyotypes\\\\Arrangement_Merged\\\\chr_18\\\\181228-i(18)(q10)+18-13L.bmp',\n",
       "   'D:\\\\Users\\\\Chuan\\\\Documents\\\\Database\\\\Karyotypes\\\\Arrangement_Merged\\\\chr_18\\\\181228-i(18)(q10)+18-2L.bmp',\n",
       "   'D:\\\\Users\\\\Chuan\\\\Documents\\\\Database\\\\Karyotypes\\\\Arrangement_Merged\\\\chr_18\\\\181228-i(18)(q10)+18-3L.bmp',\n",
       "   'D:\\\\Users\\\\Chuan\\\\Documents\\\\Database\\\\Karyotypes\\\\Arrangement_Merged\\\\chr_18\\\\181228-i(18)(q10)+18-4L.bmp',\n",
       "   'D:\\\\Users\\\\Chuan\\\\Documents\\\\Database\\\\Karyotypes\\\\Arrangement_Merged\\\\chr_18\\\\181228-i(18)(q10)+18-5L.bmp',\n",
       "   'D:\\\\Users\\\\Chuan\\\\Documents\\\\Database\\\\Karyotypes\\\\Arrangement_Merged\\\\chr_18\\\\181228-i(18)(q10)+18-7L.bmp',\n",
       "   'D:\\\\Users\\\\Chuan\\\\Documents\\\\Database\\\\Karyotypes\\\\Arrangement_Merged\\\\chr_18\\\\181228-i(18)(q10)+18-9L.bmp',\n",
       "   'D:\\\\Users\\\\Chuan\\\\Documents\\\\Database\\\\Karyotypes\\\\Arrangement_Merged\\\\chr_18\\\\183873-del(18)(p11)-10L.bmp',\n",
       "   'D:\\\\Users\\\\Chuan\\\\Documents\\\\Database\\\\Karyotypes\\\\Arrangement_Merged\\\\chr_18\\\\183873-del(18)(p11)-12L.bmp',\n",
       "   'D:\\\\Users\\\\Chuan\\\\Documents\\\\Database\\\\Karyotypes\\\\Arrangement_Merged\\\\chr_18\\\\183873-del(18)(p11)-14L.bmp',\n",
       "   'D:\\\\Users\\\\Chuan\\\\Documents\\\\Database\\\\Karyotypes\\\\Arrangement_Merged\\\\chr_18\\\\183873-del(18)(p11)-15L.bmp',\n",
       "   'D:\\\\Users\\\\Chuan\\\\Documents\\\\Database\\\\Karyotypes\\\\Arrangement_Merged\\\\chr_18\\\\183873-del(18)(p11)-17L.bmp',\n",
       "   'D:\\\\Users\\\\Chuan\\\\Documents\\\\Database\\\\Karyotypes\\\\Arrangement_Merged\\\\chr_18\\\\183873-del(18)(p11)-18L.bmp',\n",
       "   'D:\\\\Users\\\\Chuan\\\\Documents\\\\Database\\\\Karyotypes\\\\Arrangement_Merged\\\\chr_18\\\\183873-del(18)(p11)-19L.bmp',\n",
       "   'D:\\\\Users\\\\Chuan\\\\Documents\\\\Database\\\\Karyotypes\\\\Arrangement_Merged\\\\chr_18\\\\183873-del(18)(p11)-1L.bmp',\n",
       "   'D:\\\\Users\\\\Chuan\\\\Documents\\\\Database\\\\Karyotypes\\\\Arrangement_Merged\\\\chr_18\\\\183873-del(18)(p11)-20L.bmp',\n",
       "   'D:\\\\Users\\\\Chuan\\\\Documents\\\\Database\\\\Karyotypes\\\\Arrangement_Merged\\\\chr_18\\\\183873-del(18)(p11)-21L.bmp',\n",
       "   'D:\\\\Users\\\\Chuan\\\\Documents\\\\Database\\\\Karyotypes\\\\Arrangement_Merged\\\\chr_18\\\\183873-del(18)(p11)-22L.bmp',\n",
       "   'D:\\\\Users\\\\Chuan\\\\Documents\\\\Database\\\\Karyotypes\\\\Arrangement_Merged\\\\chr_18\\\\183873-del(18)(p11)-23L.bmp',\n",
       "   'D:\\\\Users\\\\Chuan\\\\Documents\\\\Database\\\\Karyotypes\\\\Arrangement_Merged\\\\chr_18\\\\183873-del(18)(p11)-24L.bmp',\n",
       "   'D:\\\\Users\\\\Chuan\\\\Documents\\\\Database\\\\Karyotypes\\\\Arrangement_Merged\\\\chr_18\\\\183873-del(18)(p11)-2L.bmp',\n",
       "   'D:\\\\Users\\\\Chuan\\\\Documents\\\\Database\\\\Karyotypes\\\\Arrangement_Merged\\\\chr_18\\\\183873-del(18)(p11)-4L.bmp',\n",
       "   'D:\\\\Users\\\\Chuan\\\\Documents\\\\Database\\\\Karyotypes\\\\Arrangement_Merged\\\\chr_18\\\\183873-del(18)(p11)-5L.bmp',\n",
       "   'D:\\\\Users\\\\Chuan\\\\Documents\\\\Database\\\\Karyotypes\\\\Arrangement_Merged\\\\chr_18\\\\183873-del(18)(p11)-6L.bmp',\n",
       "   'D:\\\\Users\\\\Chuan\\\\Documents\\\\Database\\\\Karyotypes\\\\Arrangement_Merged\\\\chr_18\\\\183873-del(18)(p11)-8L.bmp',\n",
       "   'D:\\\\Users\\\\Chuan\\\\Documents\\\\Database\\\\Karyotypes\\\\Arrangement_Merged\\\\chr_18\\\\183873-del(18)(p11)-9L.bmp',\n",
       "   'D:\\\\Users\\\\Chuan\\\\Documents\\\\Database\\\\Karyotypes\\\\Arrangement_Merged\\\\chr_18\\\\190325-1.jpg_18L.bmp',\n",
       "   'D:\\\\Users\\\\Chuan\\\\Documents\\\\Database\\\\Karyotypes\\\\Arrangement_Merged\\\\chr_18\\\\190325-10.jpg_18L.bmp',\n",
       "   'D:\\\\Users\\\\Chuan\\\\Documents\\\\Database\\\\Karyotypes\\\\Arrangement_Merged\\\\chr_18\\\\190325-12.jpg_18L.bmp',\n",
       "   'D:\\\\Users\\\\Chuan\\\\Documents\\\\Database\\\\Karyotypes\\\\Arrangement_Merged\\\\chr_18\\\\190325-14.jpg_18L.bmp',\n",
       "   'D:\\\\Users\\\\Chuan\\\\Documents\\\\Database\\\\Karyotypes\\\\Arrangement_Merged\\\\chr_18\\\\190325-15.jpg_18L.bmp',\n",
       "   'D:\\\\Users\\\\Chuan\\\\Documents\\\\Database\\\\Karyotypes\\\\Arrangement_Merged\\\\chr_18\\\\190325-16.jpg_18L.bmp',\n",
       "   'D:\\\\Users\\\\Chuan\\\\Documents\\\\Database\\\\Karyotypes\\\\Arrangement_Merged\\\\chr_18\\\\190325-17.jpg_18L.bmp',\n",
       "   'D:\\\\Users\\\\Chuan\\\\Documents\\\\Database\\\\Karyotypes\\\\Arrangement_Merged\\\\chr_18\\\\190325-19.jpg_18L.bmp',\n",
       "   'D:\\\\Users\\\\Chuan\\\\Documents\\\\Database\\\\Karyotypes\\\\Arrangement_Merged\\\\chr_18\\\\190325-2.jpg_18L.bmp',\n",
       "   'D:\\\\Users\\\\Chuan\\\\Documents\\\\Database\\\\Karyotypes\\\\Arrangement_Merged\\\\chr_18\\\\190325-20.jpg.18L.bmp',\n",
       "   'D:\\\\Users\\\\Chuan\\\\Documents\\\\Database\\\\Karyotypes\\\\Arrangement_Merged\\\\chr_18\\\\190325-4.jpg_18L.bmp',\n",
       "   'D:\\\\Users\\\\Chuan\\\\Documents\\\\Database\\\\Karyotypes\\\\Arrangement_Merged\\\\chr_18\\\\190325-6.jpg_18L.bmp',\n",
       "   'D:\\\\Users\\\\Chuan\\\\Documents\\\\Database\\\\Karyotypes\\\\Arrangement_Merged\\\\chr_18\\\\190325-7.jpg_18L.bmp',\n",
       "   'D:\\\\Users\\\\Chuan\\\\Documents\\\\Database\\\\Karyotypes\\\\Arrangement_Merged\\\\chr_18\\\\190325-8.jpg_18L.bmp',\n",
       "   'D:\\\\Users\\\\Chuan\\\\Documents\\\\Database\\\\Karyotypes\\\\Arrangement_Merged\\\\chr_18\\\\190325-9.jpg_18L.bmp',\n",
       "   'D:\\\\Users\\\\Chuan\\\\Documents\\\\Database\\\\Karyotypes\\\\Arrangement_Merged\\\\chr_18\\\\191225-1.jpg_18L.bmp',\n",
       "   'D:\\\\Users\\\\Chuan\\\\Documents\\\\Database\\\\Karyotypes\\\\Arrangement_Merged\\\\chr_18\\\\191225-10.jpg_18L.bmp',\n",
       "   'D:\\\\Users\\\\Chuan\\\\Documents\\\\Database\\\\Karyotypes\\\\Arrangement_Merged\\\\chr_18\\\\191225-11.jpg_18L.bmp',\n",
       "   'D:\\\\Users\\\\Chuan\\\\Documents\\\\Database\\\\Karyotypes\\\\Arrangement_Merged\\\\chr_18\\\\191225-13.jpg_18L.bmp',\n",
       "   'D:\\\\Users\\\\Chuan\\\\Documents\\\\Database\\\\Karyotypes\\\\Arrangement_Merged\\\\chr_18\\\\191225-14.jpg_18L.bmp',\n",
       "   'D:\\\\Users\\\\Chuan\\\\Documents\\\\Database\\\\Karyotypes\\\\Arrangement_Merged\\\\chr_18\\\\191225-15.jpg_18L.bmp',\n",
       "   'D:\\\\Users\\\\Chuan\\\\Documents\\\\Database\\\\Karyotypes\\\\Arrangement_Merged\\\\chr_18\\\\191225-16.jpg_18L.bmp',\n",
       "   'D:\\\\Users\\\\Chuan\\\\Documents\\\\Database\\\\Karyotypes\\\\Arrangement_Merged\\\\chr_18\\\\191225-17.jpg_18L.bmp',\n",
       "   'D:\\\\Users\\\\Chuan\\\\Documents\\\\Database\\\\Karyotypes\\\\Arrangement_Merged\\\\chr_18\\\\191225-18.jpg_18L.bmp',\n",
       "   'D:\\\\Users\\\\Chuan\\\\Documents\\\\Database\\\\Karyotypes\\\\Arrangement_Merged\\\\chr_18\\\\191225-19.jpg_18L.bmp',\n",
       "   'D:\\\\Users\\\\Chuan\\\\Documents\\\\Database\\\\Karyotypes\\\\Arrangement_Merged\\\\chr_18\\\\191225-2.jpg_18L.bmp',\n",
       "   'D:\\\\Users\\\\Chuan\\\\Documents\\\\Database\\\\Karyotypes\\\\Arrangement_Merged\\\\chr_18\\\\191225-21.jpg_18L.bmp',\n",
       "   'D:\\\\Users\\\\Chuan\\\\Documents\\\\Database\\\\Karyotypes\\\\Arrangement_Merged\\\\chr_18\\\\191225-5.jpg_18L.bmp',\n",
       "   'D:\\\\Users\\\\Chuan\\\\Documents\\\\Database\\\\Karyotypes\\\\Arrangement_Merged\\\\chr_18\\\\191225-6.jpg_18L.bmp',\n",
       "   'D:\\\\Users\\\\Chuan\\\\Documents\\\\Database\\\\Karyotypes\\\\Arrangement_Merged\\\\chr_18\\\\191225-8.jpg_18L.bmp',\n",
       "   'D:\\\\Users\\\\Chuan\\\\Documents\\\\Database\\\\Karyotypes\\\\Arrangement_Merged\\\\chr_18\\\\194161-del(18)(p11)-10L.bmp',\n",
       "   'D:\\\\Users\\\\Chuan\\\\Documents\\\\Database\\\\Karyotypes\\\\Arrangement_Merged\\\\chr_18\\\\194161-del(18)(p11)-11L.bmp',\n",
       "   'D:\\\\Users\\\\Chuan\\\\Documents\\\\Database\\\\Karyotypes\\\\Arrangement_Merged\\\\chr_18\\\\194161-del(18)(p11)-12L.bmp',\n",
       "   'D:\\\\Users\\\\Chuan\\\\Documents\\\\Database\\\\Karyotypes\\\\Arrangement_Merged\\\\chr_18\\\\194161-del(18)(p11)-13L.bmp',\n",
       "   'D:\\\\Users\\\\Chuan\\\\Documents\\\\Database\\\\Karyotypes\\\\Arrangement_Merged\\\\chr_18\\\\194161-del(18)(p11)-14L.bmp',\n",
       "   'D:\\\\Users\\\\Chuan\\\\Documents\\\\Database\\\\Karyotypes\\\\Arrangement_Merged\\\\chr_18\\\\194161-del(18)(p11)-15L.bmp',\n",
       "   'D:\\\\Users\\\\Chuan\\\\Documents\\\\Database\\\\Karyotypes\\\\Arrangement_Merged\\\\chr_18\\\\194161-del(18)(p11)-16L.bmp',\n",
       "   'D:\\\\Users\\\\Chuan\\\\Documents\\\\Database\\\\Karyotypes\\\\Arrangement_Merged\\\\chr_18\\\\194161-del(18)(p11)-17L.bmp',\n",
       "   'D:\\\\Users\\\\Chuan\\\\Documents\\\\Database\\\\Karyotypes\\\\Arrangement_Merged\\\\chr_18\\\\194161-del(18)(p11)-18L.bmp',\n",
       "   'D:\\\\Users\\\\Chuan\\\\Documents\\\\Database\\\\Karyotypes\\\\Arrangement_Merged\\\\chr_18\\\\194161-del(18)(p11)-1L.bmp',\n",
       "   'D:\\\\Users\\\\Chuan\\\\Documents\\\\Database\\\\Karyotypes\\\\Arrangement_Merged\\\\chr_18\\\\194161-del(18)(p11)-20L.bmp',\n",
       "   'D:\\\\Users\\\\Chuan\\\\Documents\\\\Database\\\\Karyotypes\\\\Arrangement_Merged\\\\chr_18\\\\194161-del(18)(p11)-21L.bmp',\n",
       "   'D:\\\\Users\\\\Chuan\\\\Documents\\\\Database\\\\Karyotypes\\\\Arrangement_Merged\\\\chr_18\\\\194161-del(18)(p11)-22L.bmp',\n",
       "   'D:\\\\Users\\\\Chuan\\\\Documents\\\\Database\\\\Karyotypes\\\\Arrangement_Merged\\\\chr_18\\\\194161-del(18)(p11)-24L.bmp',\n",
       "   'D:\\\\Users\\\\Chuan\\\\Documents\\\\Database\\\\Karyotypes\\\\Arrangement_Merged\\\\chr_18\\\\194161-del(18)(p11)-25L.bmp',\n",
       "   'D:\\\\Users\\\\Chuan\\\\Documents\\\\Database\\\\Karyotypes\\\\Arrangement_Merged\\\\chr_18\\\\194161-del(18)(p11)-26L.bmp',\n",
       "   'D:\\\\Users\\\\Chuan\\\\Documents\\\\Database\\\\Karyotypes\\\\Arrangement_Merged\\\\chr_18\\\\194161-del(18)(p11)-28L.bmp',\n",
       "   'D:\\\\Users\\\\Chuan\\\\Documents\\\\Database\\\\Karyotypes\\\\Arrangement_Merged\\\\chr_18\\\\194161-del(18)(p11)-29L.bmp',\n",
       "   'D:\\\\Users\\\\Chuan\\\\Documents\\\\Database\\\\Karyotypes\\\\Arrangement_Merged\\\\chr_18\\\\194161-del(18)(p11)-2L.bmp',\n",
       "   'D:\\\\Users\\\\Chuan\\\\Documents\\\\Database\\\\Karyotypes\\\\Arrangement_Merged\\\\chr_18\\\\194161-del(18)(p11)-30L.bmp',\n",
       "   'D:\\\\Users\\\\Chuan\\\\Documents\\\\Database\\\\Karyotypes\\\\Arrangement_Merged\\\\chr_18\\\\194161-del(18)(p11)-3L.bmp',\n",
       "   'D:\\\\Users\\\\Chuan\\\\Documents\\\\Database\\\\Karyotypes\\\\Arrangement_Merged\\\\chr_18\\\\194161-del(18)(p11)-4L.bmp',\n",
       "   'D:\\\\Users\\\\Chuan\\\\Documents\\\\Database\\\\Karyotypes\\\\Arrangement_Merged\\\\chr_18\\\\194161-del(18)(p11)-5L.bmp',\n",
       "   'D:\\\\Users\\\\Chuan\\\\Documents\\\\Database\\\\Karyotypes\\\\Arrangement_Merged\\\\chr_18\\\\194161-del(18)(p11)-7L.bmp',\n",
       "   'D:\\\\Users\\\\Chuan\\\\Documents\\\\Database\\\\Karyotypes\\\\Arrangement_Merged\\\\chr_18\\\\194161-del(18)(p11)-8L.bmp',\n",
       "   'D:\\\\Users\\\\Chuan\\\\Documents\\\\Database\\\\Karyotypes\\\\Arrangement_Merged\\\\chr_18\\\\w21000~A.0001.K.jpg.18R.bmp',\n",
       "   'D:\\\\Users\\\\Chuan\\\\Documents\\\\Database\\\\Karyotypes\\\\Arrangement_Merged\\\\chr_18\\\\w21001~A.0008.K.jpg.18L.bmp',\n",
       "   'D:\\\\Users\\\\Chuan\\\\Documents\\\\Database\\\\Karyotypes\\\\Arrangement_Merged\\\\chr_18\\\\w21001~A.0008.K.jpg.18R.bmp',\n",
       "   'D:\\\\Users\\\\Chuan\\\\Documents\\\\Database\\\\Karyotypes\\\\Arrangement_Merged\\\\chr_18\\\\w21002~A.0024.K.jpg.18R.bmp',\n",
       "   'D:\\\\Users\\\\Chuan\\\\Documents\\\\Database\\\\Karyotypes\\\\Arrangement_Merged\\\\chr_18\\\\w21008~A.0008.K.jpg.18L.bmp',\n",
       "   'D:\\\\Users\\\\Chuan\\\\Documents\\\\Database\\\\Karyotypes\\\\Arrangement_Merged\\\\chr_18\\\\w21008~A.0008.K.jpg.18R.bmp',\n",
       "   'D:\\\\Users\\\\Chuan\\\\Documents\\\\Database\\\\Karyotypes\\\\Arrangement_Merged\\\\chr_18\\\\W21011~A.0008.K.18L.bmp',\n",
       "   'D:\\\\Users\\\\Chuan\\\\Documents\\\\Database\\\\Karyotypes\\\\Arrangement_Merged\\\\chr_18\\\\W21011~A.0008.K.18R.bmp',\n",
       "   'D:\\\\Users\\\\Chuan\\\\Documents\\\\Database\\\\Karyotypes\\\\Arrangement_Merged\\\\chr_18\\\\W21012~A.0019.K.18L.bmp',\n",
       "   'D:\\\\Users\\\\Chuan\\\\Documents\\\\Database\\\\Karyotypes\\\\Arrangement_Merged\\\\chr_18\\\\W21012~A.0019.K.18R.bmp',\n",
       "   'D:\\\\Users\\\\Chuan\\\\Documents\\\\Database\\\\Karyotypes\\\\Arrangement_Merged\\\\chr_18\\\\W21014~A.0005.K.18L.bmp',\n",
       "   'D:\\\\Users\\\\Chuan\\\\Documents\\\\Database\\\\Karyotypes\\\\Arrangement_Merged\\\\chr_18\\\\W21022~A.0007.K.jpg.18L.bmp',\n",
       "   'D:\\\\Users\\\\Chuan\\\\Documents\\\\Database\\\\Karyotypes\\\\Arrangement_Merged\\\\chr_18\\\\W21022~A.0007.K.jpg.18R.bmp',\n",
       "   'D:\\\\Users\\\\Chuan\\\\Documents\\\\Database\\\\Karyotypes\\\\Arrangement_Merged\\\\chr_18\\\\W21025~A.0002.K.jpg.18L.bmp',\n",
       "   'D:\\\\Users\\\\Chuan\\\\Documents\\\\Database\\\\Karyotypes\\\\Arrangement_Merged\\\\chr_18\\\\W21025~A.0002.K.jpg.18R.bmp',\n",
       "   'D:\\\\Users\\\\Chuan\\\\Documents\\\\Database\\\\Karyotypes\\\\Arrangement_Merged\\\\chr_18\\\\W21027~A.0003.K.18R.bmp',\n",
       "   'D:\\\\Users\\\\Chuan\\\\Documents\\\\Database\\\\Karyotypes\\\\Arrangement_Merged\\\\chr_18\\\\W21563~A.0006.K.18L.bmp',\n",
       "   'D:\\\\Users\\\\Chuan\\\\Documents\\\\Database\\\\Karyotypes\\\\Arrangement_Merged\\\\chr_18\\\\W21563~A.0006.K.18R.bmp',\n",
       "   'D:\\\\Users\\\\Chuan\\\\Documents\\\\Database\\\\Karyotypes\\\\Arrangement_Merged\\\\chr_18\\\\W21570~A.0001.K.jpg.18L.bmp',\n",
       "   'D:\\\\Users\\\\Chuan\\\\Documents\\\\Database\\\\Karyotypes\\\\Arrangement_Merged\\\\chr_18\\\\W21570~A.0001.K.jpg.18R.bmp',\n",
       "   'D:\\\\Users\\\\Chuan\\\\Documents\\\\Database\\\\Karyotypes\\\\Arrangement_Merged\\\\chr_18\\\\W21576~A.0010.K.jpg.18L.bmp',\n",
       "   'D:\\\\Users\\\\Chuan\\\\Documents\\\\Database\\\\Karyotypes\\\\Arrangement_Merged\\\\chr_18\\\\W21576~A.0010.K.jpg.18R.bmp',\n",
       "   'D:\\\\Users\\\\Chuan\\\\Documents\\\\Database\\\\Karyotypes\\\\Arrangement_Merged\\\\chr_18\\\\W21587~A.0008.K.jpg.18L.bmp',\n",
       "   'D:\\\\Users\\\\Chuan\\\\Documents\\\\Database\\\\Karyotypes\\\\Arrangement_Merged\\\\chr_18\\\\W21587~A.0008.K.jpg.18R.bmp',\n",
       "   'D:\\\\Users\\\\Chuan\\\\Documents\\\\Database\\\\Karyotypes\\\\Arrangement_Merged\\\\chr_18\\\\W21587~A.0010.K.jpg.18R.bmp',\n",
       "   'D:\\\\Users\\\\Chuan\\\\Documents\\\\Database\\\\Karyotypes\\\\Arrangement_Merged\\\\chr_18\\\\W21588~A.0001.K.jpg.18L.bmp',\n",
       "   'D:\\\\Users\\\\Chuan\\\\Documents\\\\Database\\\\Karyotypes\\\\Arrangement_Merged\\\\chr_18\\\\W21588~A.0001.K.jpg.18R.bmp',\n",
       "   'D:\\\\Users\\\\Chuan\\\\Documents\\\\Database\\\\Karyotypes\\\\Arrangement_Merged\\\\chr_18\\\\W21766~A.0025.K.jpg.18L.bmp',\n",
       "   'D:\\\\Users\\\\Chuan\\\\Documents\\\\Database\\\\Karyotypes\\\\Arrangement_Merged\\\\chr_18\\\\W21766~A.0025.K.jpg.18R.bmp',\n",
       "   'D:\\\\Users\\\\Chuan\\\\Documents\\\\Database\\\\Karyotypes\\\\Arrangement_Merged\\\\chr_18\\\\W21890~A.0005.K.jpg.18L.bmp',\n",
       "   'D:\\\\Users\\\\Chuan\\\\Documents\\\\Database\\\\Karyotypes\\\\Arrangement_Merged\\\\chr_18\\\\W21890~A.0005.K.jpg.18R.bmp',\n",
       "   'D:\\\\Users\\\\Chuan\\\\Documents\\\\Database\\\\Karyotypes\\\\Arrangement_Merged\\\\chr_18\\\\W21894~A.0009.K.jpg.18L.bmp',\n",
       "   'D:\\\\Users\\\\Chuan\\\\Documents\\\\Database\\\\Karyotypes\\\\Arrangement_Merged\\\\chr_18\\\\W21894~A.0009.K.jpg.18R.bmp',\n",
       "   'D:\\\\Users\\\\Chuan\\\\Documents\\\\Database\\\\Karyotypes\\\\Arrangement_Merged\\\\chr_18\\\\W21902~A.0010.K.jpg.18L.bmp',\n",
       "   'D:\\\\Users\\\\Chuan\\\\Documents\\\\Database\\\\Karyotypes\\\\Arrangement_Merged\\\\chr_18\\\\W21902~A.0010.K.jpg.18R.bmp',\n",
       "   'D:\\\\Users\\\\Chuan\\\\Documents\\\\Database\\\\Karyotypes\\\\Arrangement_Merged\\\\chr_18\\\\W21905~A.0007.K.jpg.18L.bmp',\n",
       "   'D:\\\\Users\\\\Chuan\\\\Documents\\\\Database\\\\Karyotypes\\\\Arrangement_Merged\\\\chr_18\\\\W21906~A.0011.K.jpg.18R.bmp',\n",
       "   'D:\\\\Users\\\\Chuan\\\\Documents\\\\Database\\\\Karyotypes\\\\Arrangement_Merged\\\\chr_18\\\\w22038~A.0017.K.jpg.18L.bmp',\n",
       "   'D:\\\\Users\\\\Chuan\\\\Documents\\\\Database\\\\Karyotypes\\\\Arrangement_Merged\\\\chr_18\\\\w22038~A.0017.K.jpg.18R.bmp',\n",
       "   'D:\\\\Users\\\\Chuan\\\\Documents\\\\Database\\\\Karyotypes\\\\Arrangement_Merged\\\\chr_18\\\\W22451~A.0011.K.jpg.18L.bmp',\n",
       "   'D:\\\\Users\\\\Chuan\\\\Documents\\\\Database\\\\Karyotypes\\\\Arrangement_Merged\\\\chr_18\\\\W22451~A.0011.K.jpg.18R.bmp',\n",
       "   'D:\\\\Users\\\\Chuan\\\\Documents\\\\Database\\\\Karyotypes\\\\Arrangement_Merged\\\\chr_18\\\\W22455~A.0002.K.jpg.18L.bmp',\n",
       "   'D:\\\\Users\\\\Chuan\\\\Documents\\\\Database\\\\Karyotypes\\\\Arrangement_Merged\\\\chr_18\\\\W22666-1.0002.K.jpg.18L.bmp',\n",
       "   'D:\\\\Users\\\\Chuan\\\\Documents\\\\Database\\\\Karyotypes\\\\Arrangement_Merged\\\\chr_18\\\\W22666-1.0002.K.jpg.18R.bmp',\n",
       "   'D:\\\\Users\\\\Chuan\\\\Documents\\\\Database\\\\Karyotypes\\\\Arrangement_Merged\\\\chr_18\\\\W22670~A.0006.K.jpg.18L.bmp',\n",
       "   'D:\\\\Users\\\\Chuan\\\\Documents\\\\Database\\\\Karyotypes\\\\Arrangement_Merged\\\\chr_18\\\\W22672~A.0004.K.jpg.18L.bmp',\n",
       "   'D:\\\\Users\\\\Chuan\\\\Documents\\\\Database\\\\Karyotypes\\\\Arrangement_Merged\\\\chr_18\\\\W22672~A.0004.K.jpg.18R.bmp',\n",
       "   'D:\\\\Users\\\\Chuan\\\\Documents\\\\Database\\\\Karyotypes\\\\Arrangement_Merged\\\\chr_18\\\\w22881~A.0017.K.jpg.18L.bmp',\n",
       "   'D:\\\\Users\\\\Chuan\\\\Documents\\\\Database\\\\Karyotypes\\\\Arrangement_Merged\\\\chr_18\\\\w22881~A.0017.K.jpg.18R.bmp',\n",
       "   'D:\\\\Users\\\\Chuan\\\\Documents\\\\Database\\\\Karyotypes\\\\Arrangement_Merged\\\\chr_18\\\\W23070~A.0001.K.jpg.18L.bmp',\n",
       "   'D:\\\\Users\\\\Chuan\\\\Documents\\\\Database\\\\Karyotypes\\\\Arrangement_Merged\\\\chr_18\\\\W23070~A.0001.K.jpg.18R.bmp',\n",
       "   'D:\\\\Users\\\\Chuan\\\\Documents\\\\Database\\\\Karyotypes\\\\Arrangement_Merged\\\\chr_18\\\\W23075-1~A.0017.K.jpg.18R.bmp',\n",
       "   'D:\\\\Users\\\\Chuan\\\\Documents\\\\Database\\\\Karyotypes\\\\Arrangement_Merged\\\\chr_18\\\\W23082.0026.K.jpg.18L.bmp',\n",
       "   'D:\\\\Users\\\\Chuan\\\\Documents\\\\Database\\\\Karyotypes\\\\Arrangement_Merged\\\\chr_18\\\\W23082.0026.K.jpg.18R.bmp',\n",
       "   'D:\\\\Users\\\\Chuan\\\\Documents\\\\Database\\\\Karyotypes\\\\Arrangement_Merged\\\\chr_18\\\\W23084~A.0003.K.jp.18L.bmp',\n",
       "   'D:\\\\Users\\\\Chuan\\\\Documents\\\\Database\\\\Karyotypes\\\\Arrangement_Merged\\\\chr_18\\\\W23084~A.0003.K.jp.18R.bmp'],\n",
       "  '1': ['D:\\\\Users\\\\Chuan\\\\Documents\\\\Database\\\\Karyotypes\\\\Arrangement_Merged\\\\chr_18\\\\181228-i(18)(q10)+18-10L.bmp',\n",
       "   'D:\\\\Users\\\\Chuan\\\\Documents\\\\Database\\\\Karyotypes\\\\Arrangement_Merged\\\\chr_18\\\\181228-i(18)(q10)+18-11L.bmp',\n",
       "   'D:\\\\Users\\\\Chuan\\\\Documents\\\\Database\\\\Karyotypes\\\\Arrangement_Merged\\\\chr_18\\\\181228-i(18)(q10)+18-12L.bmp',\n",
       "   'D:\\\\Users\\\\Chuan\\\\Documents\\\\Database\\\\Karyotypes\\\\Arrangement_Merged\\\\chr_18\\\\181228-i(18)(q10)+18-13L.bmp',\n",
       "   'D:\\\\Users\\\\Chuan\\\\Documents\\\\Database\\\\Karyotypes\\\\Arrangement_Merged\\\\chr_18\\\\181228-i(18)(q10)+18-14L.bmp',\n",
       "   'D:\\\\Users\\\\Chuan\\\\Documents\\\\Database\\\\Karyotypes\\\\Arrangement_Merged\\\\chr_18\\\\181228-i(18)(q10)+18-1L.bmp',\n",
       "   'D:\\\\Users\\\\Chuan\\\\Documents\\\\Database\\\\Karyotypes\\\\Arrangement_Merged\\\\chr_18\\\\181228-i(18)(q10)+18-2L.bmp',\n",
       "   'D:\\\\Users\\\\Chuan\\\\Documents\\\\Database\\\\Karyotypes\\\\Arrangement_Merged\\\\chr_18\\\\181228-i(18)(q10)+18-3L.bmp',\n",
       "   'D:\\\\Users\\\\Chuan\\\\Documents\\\\Database\\\\Karyotypes\\\\Arrangement_Merged\\\\chr_18\\\\181228-i(18)(q10)+18-4L.bmp',\n",
       "   'D:\\\\Users\\\\Chuan\\\\Documents\\\\Database\\\\Karyotypes\\\\Arrangement_Merged\\\\chr_18\\\\181228-i(18)(q10)+18-5L.bmp',\n",
       "   'D:\\\\Users\\\\Chuan\\\\Documents\\\\Database\\\\Karyotypes\\\\Arrangement_Merged\\\\chr_18\\\\181228-i(18)(q10)+18-7L.bmp',\n",
       "   'D:\\\\Users\\\\Chuan\\\\Documents\\\\Database\\\\Karyotypes\\\\Arrangement_Merged\\\\chr_18\\\\181228-i(18)(q10)+18-8L.bmp',\n",
       "   'D:\\\\Users\\\\Chuan\\\\Documents\\\\Database\\\\Karyotypes\\\\Arrangement_Merged\\\\chr_18\\\\183873-del(18)(p11)-11L.bmp',\n",
       "   'D:\\\\Users\\\\Chuan\\\\Documents\\\\Database\\\\Karyotypes\\\\Arrangement_Merged\\\\chr_18\\\\183873-del(18)(p11)-12L.bmp',\n",
       "   'D:\\\\Users\\\\Chuan\\\\Documents\\\\Database\\\\Karyotypes\\\\Arrangement_Merged\\\\chr_18\\\\183873-del(18)(p11)-13L.bmp',\n",
       "   'D:\\\\Users\\\\Chuan\\\\Documents\\\\Database\\\\Karyotypes\\\\Arrangement_Merged\\\\chr_18\\\\183873-del(18)(p11)-16L.bmp',\n",
       "   'D:\\\\Users\\\\Chuan\\\\Documents\\\\Database\\\\Karyotypes\\\\Arrangement_Merged\\\\chr_18\\\\183873-del(18)(p11)-17L.bmp',\n",
       "   'D:\\\\Users\\\\Chuan\\\\Documents\\\\Database\\\\Karyotypes\\\\Arrangement_Merged\\\\chr_18\\\\183873-del(18)(p11)-18L.bmp',\n",
       "   'D:\\\\Users\\\\Chuan\\\\Documents\\\\Database\\\\Karyotypes\\\\Arrangement_Merged\\\\chr_18\\\\183873-del(18)(p11)-19L.bmp',\n",
       "   'D:\\\\Users\\\\Chuan\\\\Documents\\\\Database\\\\Karyotypes\\\\Arrangement_Merged\\\\chr_18\\\\183873-del(18)(p11)-1L.bmp',\n",
       "   'D:\\\\Users\\\\Chuan\\\\Documents\\\\Database\\\\Karyotypes\\\\Arrangement_Merged\\\\chr_18\\\\183873-del(18)(p11)-20L.bmp',\n",
       "   'D:\\\\Users\\\\Chuan\\\\Documents\\\\Database\\\\Karyotypes\\\\Arrangement_Merged\\\\chr_18\\\\183873-del(18)(p11)-21L.bmp',\n",
       "   'D:\\\\Users\\\\Chuan\\\\Documents\\\\Database\\\\Karyotypes\\\\Arrangement_Merged\\\\chr_18\\\\183873-del(18)(p11)-22L.bmp',\n",
       "   'D:\\\\Users\\\\Chuan\\\\Documents\\\\Database\\\\Karyotypes\\\\Arrangement_Merged\\\\chr_18\\\\183873-del(18)(p11)-23L.bmp',\n",
       "   'D:\\\\Users\\\\Chuan\\\\Documents\\\\Database\\\\Karyotypes\\\\Arrangement_Merged\\\\chr_18\\\\183873-del(18)(p11)-25L.bmp',\n",
       "   'D:\\\\Users\\\\Chuan\\\\Documents\\\\Database\\\\Karyotypes\\\\Arrangement_Merged\\\\chr_18\\\\183873-del(18)(p11)-2L.bmp',\n",
       "   'D:\\\\Users\\\\Chuan\\\\Documents\\\\Database\\\\Karyotypes\\\\Arrangement_Merged\\\\chr_18\\\\183873-del(18)(p11)-3L.bmp',\n",
       "   'D:\\\\Users\\\\Chuan\\\\Documents\\\\Database\\\\Karyotypes\\\\Arrangement_Merged\\\\chr_18\\\\183873-del(18)(p11)-4L.bmp',\n",
       "   'D:\\\\Users\\\\Chuan\\\\Documents\\\\Database\\\\Karyotypes\\\\Arrangement_Merged\\\\chr_18\\\\183873-del(18)(p11)-6L.bmp',\n",
       "   'D:\\\\Users\\\\Chuan\\\\Documents\\\\Database\\\\Karyotypes\\\\Arrangement_Merged\\\\chr_18\\\\183873-del(18)(p11)-7L.bmp',\n",
       "   'D:\\\\Users\\\\Chuan\\\\Documents\\\\Database\\\\Karyotypes\\\\Arrangement_Merged\\\\chr_18\\\\183873-del(18)(p11)-9L.bmp',\n",
       "   'D:\\\\Users\\\\Chuan\\\\Documents\\\\Database\\\\Karyotypes\\\\Arrangement_Merged\\\\chr_18\\\\190325-1.jpg_18L.bmp',\n",
       "   'D:\\\\Users\\\\Chuan\\\\Documents\\\\Database\\\\Karyotypes\\\\Arrangement_Merged\\\\chr_18\\\\190325-11.jpg_18L.bmp',\n",
       "   'D:\\\\Users\\\\Chuan\\\\Documents\\\\Database\\\\Karyotypes\\\\Arrangement_Merged\\\\chr_18\\\\190325-12.jpg_18L.bmp',\n",
       "   'D:\\\\Users\\\\Chuan\\\\Documents\\\\Database\\\\Karyotypes\\\\Arrangement_Merged\\\\chr_18\\\\190325-13.jpg_18L.bmp',\n",
       "   'D:\\\\Users\\\\Chuan\\\\Documents\\\\Database\\\\Karyotypes\\\\Arrangement_Merged\\\\chr_18\\\\190325-14.jpg_18L.bmp',\n",
       "   'D:\\\\Users\\\\Chuan\\\\Documents\\\\Database\\\\Karyotypes\\\\Arrangement_Merged\\\\chr_18\\\\190325-17.jpg_18L.bmp',\n",
       "   'D:\\\\Users\\\\Chuan\\\\Documents\\\\Database\\\\Karyotypes\\\\Arrangement_Merged\\\\chr_18\\\\190325-18.jpg_18L.bmp',\n",
       "   'D:\\\\Users\\\\Chuan\\\\Documents\\\\Database\\\\Karyotypes\\\\Arrangement_Merged\\\\chr_18\\\\190325-2.jpg_18L.bmp',\n",
       "   'D:\\\\Users\\\\Chuan\\\\Documents\\\\Database\\\\Karyotypes\\\\Arrangement_Merged\\\\chr_18\\\\190325-20.jpg.18L.bmp',\n",
       "   'D:\\\\Users\\\\Chuan\\\\Documents\\\\Database\\\\Karyotypes\\\\Arrangement_Merged\\\\chr_18\\\\190325-3.jpg_18L.bmp',\n",
       "   'D:\\\\Users\\\\Chuan\\\\Documents\\\\Database\\\\Karyotypes\\\\Arrangement_Merged\\\\chr_18\\\\190325-4.jpg_18L.bmp',\n",
       "   'D:\\\\Users\\\\Chuan\\\\Documents\\\\Database\\\\Karyotypes\\\\Arrangement_Merged\\\\chr_18\\\\190325-5.jpg_18L.bmp',\n",
       "   'D:\\\\Users\\\\Chuan\\\\Documents\\\\Database\\\\Karyotypes\\\\Arrangement_Merged\\\\chr_18\\\\190325-7.jpg_18L.bmp',\n",
       "   'D:\\\\Users\\\\Chuan\\\\Documents\\\\Database\\\\Karyotypes\\\\Arrangement_Merged\\\\chr_18\\\\190325-9.jpg_18L.bmp',\n",
       "   'D:\\\\Users\\\\Chuan\\\\Documents\\\\Database\\\\Karyotypes\\\\Arrangement_Merged\\\\chr_18\\\\191225-11.jpg_18L.bmp',\n",
       "   'D:\\\\Users\\\\Chuan\\\\Documents\\\\Database\\\\Karyotypes\\\\Arrangement_Merged\\\\chr_18\\\\191225-13.jpg_18L.bmp',\n",
       "   'D:\\\\Users\\\\Chuan\\\\Documents\\\\Database\\\\Karyotypes\\\\Arrangement_Merged\\\\chr_18\\\\191225-14.jpg_18L.bmp',\n",
       "   'D:\\\\Users\\\\Chuan\\\\Documents\\\\Database\\\\Karyotypes\\\\Arrangement_Merged\\\\chr_18\\\\191225-15.jpg_18L.bmp',\n",
       "   'D:\\\\Users\\\\Chuan\\\\Documents\\\\Database\\\\Karyotypes\\\\Arrangement_Merged\\\\chr_18\\\\191225-16.jpg_18L.bmp',\n",
       "   'D:\\\\Users\\\\Chuan\\\\Documents\\\\Database\\\\Karyotypes\\\\Arrangement_Merged\\\\chr_18\\\\191225-17.jpg_18L.bmp',\n",
       "   'D:\\\\Users\\\\Chuan\\\\Documents\\\\Database\\\\Karyotypes\\\\Arrangement_Merged\\\\chr_18\\\\191225-19.jpg_18L.bmp',\n",
       "   'D:\\\\Users\\\\Chuan\\\\Documents\\\\Database\\\\Karyotypes\\\\Arrangement_Merged\\\\chr_18\\\\191225-2.jpg_18L.bmp',\n",
       "   'D:\\\\Users\\\\Chuan\\\\Documents\\\\Database\\\\Karyotypes\\\\Arrangement_Merged\\\\chr_18\\\\191225-20.jpg_18L.bmp',\n",
       "   'D:\\\\Users\\\\Chuan\\\\Documents\\\\Database\\\\Karyotypes\\\\Arrangement_Merged\\\\chr_18\\\\191225-21.jpg_18L.bmp',\n",
       "   'D:\\\\Users\\\\Chuan\\\\Documents\\\\Database\\\\Karyotypes\\\\Arrangement_Merged\\\\chr_18\\\\191225-5.jpg_18L.bmp',\n",
       "   'D:\\\\Users\\\\Chuan\\\\Documents\\\\Database\\\\Karyotypes\\\\Arrangement_Merged\\\\chr_18\\\\191225-6.jpg_18L.bmp',\n",
       "   'D:\\\\Users\\\\Chuan\\\\Documents\\\\Database\\\\Karyotypes\\\\Arrangement_Merged\\\\chr_18\\\\191225-7.jpg_18L.bmp',\n",
       "   'D:\\\\Users\\\\Chuan\\\\Documents\\\\Database\\\\Karyotypes\\\\Arrangement_Merged\\\\chr_18\\\\191225-8.jpg_18L.bmp',\n",
       "   'D:\\\\Users\\\\Chuan\\\\Documents\\\\Database\\\\Karyotypes\\\\Arrangement_Merged\\\\chr_18\\\\191225-9.jpg_18L.bmp',\n",
       "   'D:\\\\Users\\\\Chuan\\\\Documents\\\\Database\\\\Karyotypes\\\\Arrangement_Merged\\\\chr_18\\\\194161-del(18)(p11)-10L.bmp',\n",
       "   'D:\\\\Users\\\\Chuan\\\\Documents\\\\Database\\\\Karyotypes\\\\Arrangement_Merged\\\\chr_18\\\\194161-del(18)(p11)-11L.bmp',\n",
       "   'D:\\\\Users\\\\Chuan\\\\Documents\\\\Database\\\\Karyotypes\\\\Arrangement_Merged\\\\chr_18\\\\194161-del(18)(p11)-13L.bmp',\n",
       "   'D:\\\\Users\\\\Chuan\\\\Documents\\\\Database\\\\Karyotypes\\\\Arrangement_Merged\\\\chr_18\\\\194161-del(18)(p11)-14L.bmp',\n",
       "   'D:\\\\Users\\\\Chuan\\\\Documents\\\\Database\\\\Karyotypes\\\\Arrangement_Merged\\\\chr_18\\\\194161-del(18)(p11)-16L.bmp',\n",
       "   'D:\\\\Users\\\\Chuan\\\\Documents\\\\Database\\\\Karyotypes\\\\Arrangement_Merged\\\\chr_18\\\\194161-del(18)(p11)-17L.bmp',\n",
       "   'D:\\\\Users\\\\Chuan\\\\Documents\\\\Database\\\\Karyotypes\\\\Arrangement_Merged\\\\chr_18\\\\194161-del(18)(p11)-18L.bmp',\n",
       "   'D:\\\\Users\\\\Chuan\\\\Documents\\\\Database\\\\Karyotypes\\\\Arrangement_Merged\\\\chr_18\\\\194161-del(18)(p11)-19L.bmp',\n",
       "   'D:\\\\Users\\\\Chuan\\\\Documents\\\\Database\\\\Karyotypes\\\\Arrangement_Merged\\\\chr_18\\\\194161-del(18)(p11)-1L.bmp',\n",
       "   'D:\\\\Users\\\\Chuan\\\\Documents\\\\Database\\\\Karyotypes\\\\Arrangement_Merged\\\\chr_18\\\\194161-del(18)(p11)-20L.bmp',\n",
       "   'D:\\\\Users\\\\Chuan\\\\Documents\\\\Database\\\\Karyotypes\\\\Arrangement_Merged\\\\chr_18\\\\194161-del(18)(p11)-23L.bmp',\n",
       "   'D:\\\\Users\\\\Chuan\\\\Documents\\\\Database\\\\Karyotypes\\\\Arrangement_Merged\\\\chr_18\\\\194161-del(18)(p11)-25L.bmp',\n",
       "   'D:\\\\Users\\\\Chuan\\\\Documents\\\\Database\\\\Karyotypes\\\\Arrangement_Merged\\\\chr_18\\\\194161-del(18)(p11)-27L.bmp',\n",
       "   'D:\\\\Users\\\\Chuan\\\\Documents\\\\Database\\\\Karyotypes\\\\Arrangement_Merged\\\\chr_18\\\\194161-del(18)(p11)-29L.bmp',\n",
       "   'D:\\\\Users\\\\Chuan\\\\Documents\\\\Database\\\\Karyotypes\\\\Arrangement_Merged\\\\chr_18\\\\194161-del(18)(p11)-2L.bmp',\n",
       "   'D:\\\\Users\\\\Chuan\\\\Documents\\\\Database\\\\Karyotypes\\\\Arrangement_Merged\\\\chr_18\\\\194161-del(18)(p11)-30L.bmp',\n",
       "   'D:\\\\Users\\\\Chuan\\\\Documents\\\\Database\\\\Karyotypes\\\\Arrangement_Merged\\\\chr_18\\\\194161-del(18)(p11)-4L.bmp',\n",
       "   'D:\\\\Users\\\\Chuan\\\\Documents\\\\Database\\\\Karyotypes\\\\Arrangement_Merged\\\\chr_18\\\\194161-del(18)(p11)-5L.bmp',\n",
       "   'D:\\\\Users\\\\Chuan\\\\Documents\\\\Database\\\\Karyotypes\\\\Arrangement_Merged\\\\chr_18\\\\194161-del(18)(p11)-6L.bmp',\n",
       "   'D:\\\\Users\\\\Chuan\\\\Documents\\\\Database\\\\Karyotypes\\\\Arrangement_Merged\\\\chr_18\\\\194161-del(18)(p11)-7L.bmp',\n",
       "   'D:\\\\Users\\\\Chuan\\\\Documents\\\\Database\\\\Karyotypes\\\\Arrangement_Merged\\\\chr_18\\\\194161-del(18)(p11)-8L.bmp',\n",
       "   'D:\\\\Users\\\\Chuan\\\\Documents\\\\Database\\\\Karyotypes\\\\Arrangement_Merged\\\\chr_18\\\\194161-del(18)(p11)-9L.bmp',\n",
       "   'D:\\\\Users\\\\Chuan\\\\Documents\\\\Database\\\\Karyotypes\\\\Arrangement_Merged\\\\chr_18\\\\w21000~A.0001.K.jpg.18L.bmp',\n",
       "   'D:\\\\Users\\\\Chuan\\\\Documents\\\\Database\\\\Karyotypes\\\\Arrangement_Merged\\\\chr_18\\\\w21000~A.0001.K.jpg.18R.bmp',\n",
       "   'D:\\\\Users\\\\Chuan\\\\Documents\\\\Database\\\\Karyotypes\\\\Arrangement_Merged\\\\chr_18\\\\w21001~A.0008.K.jpg.18L.bmp',\n",
       "   'D:\\\\Users\\\\Chuan\\\\Documents\\\\Database\\\\Karyotypes\\\\Arrangement_Merged\\\\chr_18\\\\w21001~A.0008.K.jpg.18R.bmp',\n",
       "   'D:\\\\Users\\\\Chuan\\\\Documents\\\\Database\\\\Karyotypes\\\\Arrangement_Merged\\\\chr_18\\\\w21002~A.0024.K.jpg.18L.bmp',\n",
       "   'D:\\\\Users\\\\Chuan\\\\Documents\\\\Database\\\\Karyotypes\\\\Arrangement_Merged\\\\chr_18\\\\w21002~A.0024.K.jpg.18R.bmp',\n",
       "   'D:\\\\Users\\\\Chuan\\\\Documents\\\\Database\\\\Karyotypes\\\\Arrangement_Merged\\\\chr_18\\\\W21011~A.0008.K.18L.bmp',\n",
       "   'D:\\\\Users\\\\Chuan\\\\Documents\\\\Database\\\\Karyotypes\\\\Arrangement_Merged\\\\chr_18\\\\W21011~A.0008.K.18R.bmp',\n",
       "   'D:\\\\Users\\\\Chuan\\\\Documents\\\\Database\\\\Karyotypes\\\\Arrangement_Merged\\\\chr_18\\\\W21012~A.0019.K.18L.bmp',\n",
       "   'D:\\\\Users\\\\Chuan\\\\Documents\\\\Database\\\\Karyotypes\\\\Arrangement_Merged\\\\chr_18\\\\W21012~A.0019.K.18R.bmp',\n",
       "   'D:\\\\Users\\\\Chuan\\\\Documents\\\\Database\\\\Karyotypes\\\\Arrangement_Merged\\\\chr_18\\\\W21014~A.0005.K.18R.bmp',\n",
       "   'D:\\\\Users\\\\Chuan\\\\Documents\\\\Database\\\\Karyotypes\\\\Arrangement_Merged\\\\chr_18\\\\W21022~A.0007.K.jpg.18L.bmp',\n",
       "   'D:\\\\Users\\\\Chuan\\\\Documents\\\\Database\\\\Karyotypes\\\\Arrangement_Merged\\\\chr_18\\\\W21022~A.0007.K.jpg.18R.bmp',\n",
       "   'D:\\\\Users\\\\Chuan\\\\Documents\\\\Database\\\\Karyotypes\\\\Arrangement_Merged\\\\chr_18\\\\W21025~A.0002.K.jpg.18R.bmp',\n",
       "   'D:\\\\Users\\\\Chuan\\\\Documents\\\\Database\\\\Karyotypes\\\\Arrangement_Merged\\\\chr_18\\\\W21027~A.0003.K.18L.bmp',\n",
       "   'D:\\\\Users\\\\Chuan\\\\Documents\\\\Database\\\\Karyotypes\\\\Arrangement_Merged\\\\chr_18\\\\W21486~A.0020.K.bmp.18L.bmp',\n",
       "   'D:\\\\Users\\\\Chuan\\\\Documents\\\\Database\\\\Karyotypes\\\\Arrangement_Merged\\\\chr_18\\\\W21486~A.0020.K.bmp.18R.bmp',\n",
       "   'D:\\\\Users\\\\Chuan\\\\Documents\\\\Database\\\\Karyotypes\\\\Arrangement_Merged\\\\chr_18\\\\W21563~A.0006.K.18L.bmp',\n",
       "   'D:\\\\Users\\\\Chuan\\\\Documents\\\\Database\\\\Karyotypes\\\\Arrangement_Merged\\\\chr_18\\\\W21563~A.0006.K.18R.bmp',\n",
       "   'D:\\\\Users\\\\Chuan\\\\Documents\\\\Database\\\\Karyotypes\\\\Arrangement_Merged\\\\chr_18\\\\W21570~A.0001.K.jpg.18L.bmp',\n",
       "   'D:\\\\Users\\\\Chuan\\\\Documents\\\\Database\\\\Karyotypes\\\\Arrangement_Merged\\\\chr_18\\\\W21570~A.0001.K.jpg.18R.bmp',\n",
       "   'D:\\\\Users\\\\Chuan\\\\Documents\\\\Database\\\\Karyotypes\\\\Arrangement_Merged\\\\chr_18\\\\W21576~A.0010.K.jpg.18L.bmp',\n",
       "   'D:\\\\Users\\\\Chuan\\\\Documents\\\\Database\\\\Karyotypes\\\\Arrangement_Merged\\\\chr_18\\\\W21576~A.0010.K.jpg.18R.bmp',\n",
       "   'D:\\\\Users\\\\Chuan\\\\Documents\\\\Database\\\\Karyotypes\\\\Arrangement_Merged\\\\chr_18\\\\W21587~A.0008.K.jpg.18L.bmp',\n",
       "   'D:\\\\Users\\\\Chuan\\\\Documents\\\\Database\\\\Karyotypes\\\\Arrangement_Merged\\\\chr_18\\\\W21587~A.0008.K.jpg.18R.bmp',\n",
       "   'D:\\\\Users\\\\Chuan\\\\Documents\\\\Database\\\\Karyotypes\\\\Arrangement_Merged\\\\chr_18\\\\W21587~A.0010.K.jpg.18L.bmp',\n",
       "   'D:\\\\Users\\\\Chuan\\\\Documents\\\\Database\\\\Karyotypes\\\\Arrangement_Merged\\\\chr_18\\\\W21587~A.0010.K.jpg.18R.bmp',\n",
       "   'D:\\\\Users\\\\Chuan\\\\Documents\\\\Database\\\\Karyotypes\\\\Arrangement_Merged\\\\chr_18\\\\W21588~A.0001.K.jpg.18L.bmp',\n",
       "   'D:\\\\Users\\\\Chuan\\\\Documents\\\\Database\\\\Karyotypes\\\\Arrangement_Merged\\\\chr_18\\\\W21588~A.0001.K.jpg.18R.bmp',\n",
       "   'D:\\\\Users\\\\Chuan\\\\Documents\\\\Database\\\\Karyotypes\\\\Arrangement_Merged\\\\chr_18\\\\W21766~A.0025.K.jpg.18L.bmp',\n",
       "   'D:\\\\Users\\\\Chuan\\\\Documents\\\\Database\\\\Karyotypes\\\\Arrangement_Merged\\\\chr_18\\\\W21766~A.0025.K.jpg.18R.bmp',\n",
       "   'D:\\\\Users\\\\Chuan\\\\Documents\\\\Database\\\\Karyotypes\\\\Arrangement_Merged\\\\chr_18\\\\W21890~A.0005.K.jpg.18L.bmp',\n",
       "   'D:\\\\Users\\\\Chuan\\\\Documents\\\\Database\\\\Karyotypes\\\\Arrangement_Merged\\\\chr_18\\\\W21890~A.0005.K.jpg.18R.bmp',\n",
       "   'D:\\\\Users\\\\Chuan\\\\Documents\\\\Database\\\\Karyotypes\\\\Arrangement_Merged\\\\chr_18\\\\W21894~A.0009.K.jpg.18L.bmp',\n",
       "   'D:\\\\Users\\\\Chuan\\\\Documents\\\\Database\\\\Karyotypes\\\\Arrangement_Merged\\\\chr_18\\\\W21902~A.0010.K.jpg.18L.bmp',\n",
       "   'D:\\\\Users\\\\Chuan\\\\Documents\\\\Database\\\\Karyotypes\\\\Arrangement_Merged\\\\chr_18\\\\W21902~A.0010.K.jpg.18R.bmp',\n",
       "   'D:\\\\Users\\\\Chuan\\\\Documents\\\\Database\\\\Karyotypes\\\\Arrangement_Merged\\\\chr_18\\\\W21905~A.0007.K.jpg.18L.bmp',\n",
       "   'D:\\\\Users\\\\Chuan\\\\Documents\\\\Database\\\\Karyotypes\\\\Arrangement_Merged\\\\chr_18\\\\W21905~A.0007.K.jpg.18R.bmp',\n",
       "   'D:\\\\Users\\\\Chuan\\\\Documents\\\\Database\\\\Karyotypes\\\\Arrangement_Merged\\\\chr_18\\\\W21906~A.0011.K.jpg.18L.bmp',\n",
       "   'D:\\\\Users\\\\Chuan\\\\Documents\\\\Database\\\\Karyotypes\\\\Arrangement_Merged\\\\chr_18\\\\W21906~A.0011.K.jpg.18R.bmp',\n",
       "   'D:\\\\Users\\\\Chuan\\\\Documents\\\\Database\\\\Karyotypes\\\\Arrangement_Merged\\\\chr_18\\\\w22038~A.0017.K.jpg.18L.bmp',\n",
       "   'D:\\\\Users\\\\Chuan\\\\Documents\\\\Database\\\\Karyotypes\\\\Arrangement_Merged\\\\chr_18\\\\w22038~A.0017.K.jpg.18R.bmp',\n",
       "   'D:\\\\Users\\\\Chuan\\\\Documents\\\\Database\\\\Karyotypes\\\\Arrangement_Merged\\\\chr_18\\\\w22292~A.0027.K.jpg.18L.bmp',\n",
       "   'D:\\\\Users\\\\Chuan\\\\Documents\\\\Database\\\\Karyotypes\\\\Arrangement_Merged\\\\chr_18\\\\w22292~A.0027.K.jpg.18R.bmp',\n",
       "   'D:\\\\Users\\\\Chuan\\\\Documents\\\\Database\\\\Karyotypes\\\\Arrangement_Merged\\\\chr_18\\\\W22451~A.0011.K.jpg.18L.bmp',\n",
       "   'D:\\\\Users\\\\Chuan\\\\Documents\\\\Database\\\\Karyotypes\\\\Arrangement_Merged\\\\chr_18\\\\W22451~A.0011.K.jpg.18R.bmp',\n",
       "   'D:\\\\Users\\\\Chuan\\\\Documents\\\\Database\\\\Karyotypes\\\\Arrangement_Merged\\\\chr_18\\\\W22455~A.0002.K.jpg.18L.bmp',\n",
       "   'D:\\\\Users\\\\Chuan\\\\Documents\\\\Database\\\\Karyotypes\\\\Arrangement_Merged\\\\chr_18\\\\W22455~A.0002.K.jpg.18R.bmp',\n",
       "   'D:\\\\Users\\\\Chuan\\\\Documents\\\\Database\\\\Karyotypes\\\\Arrangement_Merged\\\\chr_18\\\\W22666-1.0002.K.jpg.18L.bmp',\n",
       "   'D:\\\\Users\\\\Chuan\\\\Documents\\\\Database\\\\Karyotypes\\\\Arrangement_Merged\\\\chr_18\\\\W22670~A.0006.K.jpg.18R.bmp',\n",
       "   'D:\\\\Users\\\\Chuan\\\\Documents\\\\Database\\\\Karyotypes\\\\Arrangement_Merged\\\\chr_18\\\\W22672~A.0004.K.jpg.18L.bmp',\n",
       "   'D:\\\\Users\\\\Chuan\\\\Documents\\\\Database\\\\Karyotypes\\\\Arrangement_Merged\\\\chr_18\\\\W22672~A.0004.K.jpg.18R.bmp',\n",
       "   'D:\\\\Users\\\\Chuan\\\\Documents\\\\Database\\\\Karyotypes\\\\Arrangement_Merged\\\\chr_18\\\\w22881~A.0017.K.jpg.18L.bmp',\n",
       "   'D:\\\\Users\\\\Chuan\\\\Documents\\\\Database\\\\Karyotypes\\\\Arrangement_Merged\\\\chr_18\\\\w22881~A.0017.K.jpg.18R.bmp',\n",
       "   'D:\\\\Users\\\\Chuan\\\\Documents\\\\Database\\\\Karyotypes\\\\Arrangement_Merged\\\\chr_18\\\\W23070~A.0001.K.jpg.18L.bmp',\n",
       "   'D:\\\\Users\\\\Chuan\\\\Documents\\\\Database\\\\Karyotypes\\\\Arrangement_Merged\\\\chr_18\\\\W23075-1~A.0017.K.jpg.18L.bmp',\n",
       "   'D:\\\\Users\\\\Chuan\\\\Documents\\\\Database\\\\Karyotypes\\\\Arrangement_Merged\\\\chr_18\\\\W23082.0026.K.jpg.18L.bmp',\n",
       "   'D:\\\\Users\\\\Chuan\\\\Documents\\\\Database\\\\Karyotypes\\\\Arrangement_Merged\\\\chr_18\\\\W23082.0026.K.jpg.18R.bmp',\n",
       "   'D:\\\\Users\\\\Chuan\\\\Documents\\\\Database\\\\Karyotypes\\\\Arrangement_Merged\\\\chr_18\\\\W23084~A.0003.K.jp.18R.bmp'],\n",
       "  '2': ['D:\\\\Users\\\\Chuan\\\\Documents\\\\Database\\\\Karyotypes\\\\Arrangement_Merged\\\\chr_18\\\\181228-i(18)(q10)+18-11L.bmp',\n",
       "   'D:\\\\Users\\\\Chuan\\\\Documents\\\\Database\\\\Karyotypes\\\\Arrangement_Merged\\\\chr_18\\\\181228-i(18)(q10)+18-13L.bmp',\n",
       "   'D:\\\\Users\\\\Chuan\\\\Documents\\\\Database\\\\Karyotypes\\\\Arrangement_Merged\\\\chr_18\\\\181228-i(18)(q10)+18-14L.bmp',\n",
       "   'D:\\\\Users\\\\Chuan\\\\Documents\\\\Database\\\\Karyotypes\\\\Arrangement_Merged\\\\chr_18\\\\181228-i(18)(q10)+18-1L.bmp',\n",
       "   'D:\\\\Users\\\\Chuan\\\\Documents\\\\Database\\\\Karyotypes\\\\Arrangement_Merged\\\\chr_18\\\\181228-i(18)(q10)+18-3L.bmp',\n",
       "   'D:\\\\Users\\\\Chuan\\\\Documents\\\\Database\\\\Karyotypes\\\\Arrangement_Merged\\\\chr_18\\\\181228-i(18)(q10)+18-4L.bmp',\n",
       "   'D:\\\\Users\\\\Chuan\\\\Documents\\\\Database\\\\Karyotypes\\\\Arrangement_Merged\\\\chr_18\\\\181228-i(18)(q10)+18-5L.bmp',\n",
       "   'D:\\\\Users\\\\Chuan\\\\Documents\\\\Database\\\\Karyotypes\\\\Arrangement_Merged\\\\chr_18\\\\181228-i(18)(q10)+18-8L.bmp',\n",
       "   'D:\\\\Users\\\\Chuan\\\\Documents\\\\Database\\\\Karyotypes\\\\Arrangement_Merged\\\\chr_18\\\\181228-i(18)(q10)+18-9L.bmp',\n",
       "   'D:\\\\Users\\\\Chuan\\\\Documents\\\\Database\\\\Karyotypes\\\\Arrangement_Merged\\\\chr_18\\\\183873-del(18)(p11)-10L.bmp',\n",
       "   'D:\\\\Users\\\\Chuan\\\\Documents\\\\Database\\\\Karyotypes\\\\Arrangement_Merged\\\\chr_18\\\\183873-del(18)(p11)-11L.bmp',\n",
       "   'D:\\\\Users\\\\Chuan\\\\Documents\\\\Database\\\\Karyotypes\\\\Arrangement_Merged\\\\chr_18\\\\183873-del(18)(p11)-12L.bmp',\n",
       "   'D:\\\\Users\\\\Chuan\\\\Documents\\\\Database\\\\Karyotypes\\\\Arrangement_Merged\\\\chr_18\\\\183873-del(18)(p11)-13L.bmp',\n",
       "   'D:\\\\Users\\\\Chuan\\\\Documents\\\\Database\\\\Karyotypes\\\\Arrangement_Merged\\\\chr_18\\\\183873-del(18)(p11)-14L.bmp',\n",
       "   'D:\\\\Users\\\\Chuan\\\\Documents\\\\Database\\\\Karyotypes\\\\Arrangement_Merged\\\\chr_18\\\\183873-del(18)(p11)-15L.bmp',\n",
       "   'D:\\\\Users\\\\Chuan\\\\Documents\\\\Database\\\\Karyotypes\\\\Arrangement_Merged\\\\chr_18\\\\183873-del(18)(p11)-16L.bmp',\n",
       "   'D:\\\\Users\\\\Chuan\\\\Documents\\\\Database\\\\Karyotypes\\\\Arrangement_Merged\\\\chr_18\\\\183873-del(18)(p11)-17L.bmp',\n",
       "   'D:\\\\Users\\\\Chuan\\\\Documents\\\\Database\\\\Karyotypes\\\\Arrangement_Merged\\\\chr_18\\\\183873-del(18)(p11)-19L.bmp',\n",
       "   'D:\\\\Users\\\\Chuan\\\\Documents\\\\Database\\\\Karyotypes\\\\Arrangement_Merged\\\\chr_18\\\\183873-del(18)(p11)-1L.bmp',\n",
       "   'D:\\\\Users\\\\Chuan\\\\Documents\\\\Database\\\\Karyotypes\\\\Arrangement_Merged\\\\chr_18\\\\183873-del(18)(p11)-20L.bmp',\n",
       "   'D:\\\\Users\\\\Chuan\\\\Documents\\\\Database\\\\Karyotypes\\\\Arrangement_Merged\\\\chr_18\\\\183873-del(18)(p11)-21L.bmp',\n",
       "   'D:\\\\Users\\\\Chuan\\\\Documents\\\\Database\\\\Karyotypes\\\\Arrangement_Merged\\\\chr_18\\\\183873-del(18)(p11)-22L.bmp',\n",
       "   'D:\\\\Users\\\\Chuan\\\\Documents\\\\Database\\\\Karyotypes\\\\Arrangement_Merged\\\\chr_18\\\\183873-del(18)(p11)-23L.bmp',\n",
       "   'D:\\\\Users\\\\Chuan\\\\Documents\\\\Database\\\\Karyotypes\\\\Arrangement_Merged\\\\chr_18\\\\183873-del(18)(p11)-24L.bmp',\n",
       "   'D:\\\\Users\\\\Chuan\\\\Documents\\\\Database\\\\Karyotypes\\\\Arrangement_Merged\\\\chr_18\\\\183873-del(18)(p11)-25L.bmp',\n",
       "   'D:\\\\Users\\\\Chuan\\\\Documents\\\\Database\\\\Karyotypes\\\\Arrangement_Merged\\\\chr_18\\\\183873-del(18)(p11)-2L.bmp',\n",
       "   'D:\\\\Users\\\\Chuan\\\\Documents\\\\Database\\\\Karyotypes\\\\Arrangement_Merged\\\\chr_18\\\\183873-del(18)(p11)-3L.bmp',\n",
       "   'D:\\\\Users\\\\Chuan\\\\Documents\\\\Database\\\\Karyotypes\\\\Arrangement_Merged\\\\chr_18\\\\183873-del(18)(p11)-5L.bmp',\n",
       "   'D:\\\\Users\\\\Chuan\\\\Documents\\\\Database\\\\Karyotypes\\\\Arrangement_Merged\\\\chr_18\\\\183873-del(18)(p11)-7L.bmp',\n",
       "   'D:\\\\Users\\\\Chuan\\\\Documents\\\\Database\\\\Karyotypes\\\\Arrangement_Merged\\\\chr_18\\\\183873-del(18)(p11)-8L.bmp',\n",
       "   'D:\\\\Users\\\\Chuan\\\\Documents\\\\Database\\\\Karyotypes\\\\Arrangement_Merged\\\\chr_18\\\\183873-del(18)(p11)-9L.bmp',\n",
       "   'D:\\\\Users\\\\Chuan\\\\Documents\\\\Database\\\\Karyotypes\\\\Arrangement_Merged\\\\chr_18\\\\190325-10.jpg_18L.bmp',\n",
       "   'D:\\\\Users\\\\Chuan\\\\Documents\\\\Database\\\\Karyotypes\\\\Arrangement_Merged\\\\chr_18\\\\190325-11.jpg_18L.bmp',\n",
       "   'D:\\\\Users\\\\Chuan\\\\Documents\\\\Database\\\\Karyotypes\\\\Arrangement_Merged\\\\chr_18\\\\190325-12.jpg_18L.bmp',\n",
       "   'D:\\\\Users\\\\Chuan\\\\Documents\\\\Database\\\\Karyotypes\\\\Arrangement_Merged\\\\chr_18\\\\190325-13.jpg_18L.bmp',\n",
       "   'D:\\\\Users\\\\Chuan\\\\Documents\\\\Database\\\\Karyotypes\\\\Arrangement_Merged\\\\chr_18\\\\190325-14.jpg_18L.bmp',\n",
       "   'D:\\\\Users\\\\Chuan\\\\Documents\\\\Database\\\\Karyotypes\\\\Arrangement_Merged\\\\chr_18\\\\190325-15.jpg_18L.bmp',\n",
       "   'D:\\\\Users\\\\Chuan\\\\Documents\\\\Database\\\\Karyotypes\\\\Arrangement_Merged\\\\chr_18\\\\190325-16.jpg_18L.bmp',\n",
       "   'D:\\\\Users\\\\Chuan\\\\Documents\\\\Database\\\\Karyotypes\\\\Arrangement_Merged\\\\chr_18\\\\190325-18.jpg_18L.bmp',\n",
       "   'D:\\\\Users\\\\Chuan\\\\Documents\\\\Database\\\\Karyotypes\\\\Arrangement_Merged\\\\chr_18\\\\190325-19.jpg_18L.bmp',\n",
       "   'D:\\\\Users\\\\Chuan\\\\Documents\\\\Database\\\\Karyotypes\\\\Arrangement_Merged\\\\chr_18\\\\190325-2.jpg_18L.bmp',\n",
       "   'D:\\\\Users\\\\Chuan\\\\Documents\\\\Database\\\\Karyotypes\\\\Arrangement_Merged\\\\chr_18\\\\190325-20.jpg.18L.bmp',\n",
       "   'D:\\\\Users\\\\Chuan\\\\Documents\\\\Database\\\\Karyotypes\\\\Arrangement_Merged\\\\chr_18\\\\190325-3.jpg_18L.bmp',\n",
       "   'D:\\\\Users\\\\Chuan\\\\Documents\\\\Database\\\\Karyotypes\\\\Arrangement_Merged\\\\chr_18\\\\190325-4.jpg_18L.bmp',\n",
       "   'D:\\\\Users\\\\Chuan\\\\Documents\\\\Database\\\\Karyotypes\\\\Arrangement_Merged\\\\chr_18\\\\190325-5.jpg_18L.bmp',\n",
       "   'D:\\\\Users\\\\Chuan\\\\Documents\\\\Database\\\\Karyotypes\\\\Arrangement_Merged\\\\chr_18\\\\190325-6.jpg_18L.bmp',\n",
       "   'D:\\\\Users\\\\Chuan\\\\Documents\\\\Database\\\\Karyotypes\\\\Arrangement_Merged\\\\chr_18\\\\190325-8.jpg_18L.bmp',\n",
       "   'D:\\\\Users\\\\Chuan\\\\Documents\\\\Database\\\\Karyotypes\\\\Arrangement_Merged\\\\chr_18\\\\190325-9.jpg_18L.bmp',\n",
       "   'D:\\\\Users\\\\Chuan\\\\Documents\\\\Database\\\\Karyotypes\\\\Arrangement_Merged\\\\chr_18\\\\191225-1.jpg_18L.bmp',\n",
       "   'D:\\\\Users\\\\Chuan\\\\Documents\\\\Database\\\\Karyotypes\\\\Arrangement_Merged\\\\chr_18\\\\191225-10.jpg_18L.bmp',\n",
       "   'D:\\\\Users\\\\Chuan\\\\Documents\\\\Database\\\\Karyotypes\\\\Arrangement_Merged\\\\chr_18\\\\191225-11.jpg_18L.bmp',\n",
       "   'D:\\\\Users\\\\Chuan\\\\Documents\\\\Database\\\\Karyotypes\\\\Arrangement_Merged\\\\chr_18\\\\191225-13.jpg_18L.bmp',\n",
       "   'D:\\\\Users\\\\Chuan\\\\Documents\\\\Database\\\\Karyotypes\\\\Arrangement_Merged\\\\chr_18\\\\191225-15.jpg_18L.bmp',\n",
       "   'D:\\\\Users\\\\Chuan\\\\Documents\\\\Database\\\\Karyotypes\\\\Arrangement_Merged\\\\chr_18\\\\191225-16.jpg_18L.bmp',\n",
       "   'D:\\\\Users\\\\Chuan\\\\Documents\\\\Database\\\\Karyotypes\\\\Arrangement_Merged\\\\chr_18\\\\191225-18.jpg_18L.bmp',\n",
       "   'D:\\\\Users\\\\Chuan\\\\Documents\\\\Database\\\\Karyotypes\\\\Arrangement_Merged\\\\chr_18\\\\191225-19.jpg_18L.bmp',\n",
       "   'D:\\\\Users\\\\Chuan\\\\Documents\\\\Database\\\\Karyotypes\\\\Arrangement_Merged\\\\chr_18\\\\191225-2.jpg_18L.bmp',\n",
       "   'D:\\\\Users\\\\Chuan\\\\Documents\\\\Database\\\\Karyotypes\\\\Arrangement_Merged\\\\chr_18\\\\191225-20.jpg_18L.bmp',\n",
       "   'D:\\\\Users\\\\Chuan\\\\Documents\\\\Database\\\\Karyotypes\\\\Arrangement_Merged\\\\chr_18\\\\191225-5.jpg_18L.bmp',\n",
       "   'D:\\\\Users\\\\Chuan\\\\Documents\\\\Database\\\\Karyotypes\\\\Arrangement_Merged\\\\chr_18\\\\191225-6.jpg_18L.bmp',\n",
       "   'D:\\\\Users\\\\Chuan\\\\Documents\\\\Database\\\\Karyotypes\\\\Arrangement_Merged\\\\chr_18\\\\191225-7.jpg_18L.bmp',\n",
       "   'D:\\\\Users\\\\Chuan\\\\Documents\\\\Database\\\\Karyotypes\\\\Arrangement_Merged\\\\chr_18\\\\191225-9.jpg_18L.bmp',\n",
       "   'D:\\\\Users\\\\Chuan\\\\Documents\\\\Database\\\\Karyotypes\\\\Arrangement_Merged\\\\chr_18\\\\194161-del(18)(p11)-10L.bmp',\n",
       "   'D:\\\\Users\\\\Chuan\\\\Documents\\\\Database\\\\Karyotypes\\\\Arrangement_Merged\\\\chr_18\\\\194161-del(18)(p11)-12L.bmp',\n",
       "   'D:\\\\Users\\\\Chuan\\\\Documents\\\\Database\\\\Karyotypes\\\\Arrangement_Merged\\\\chr_18\\\\194161-del(18)(p11)-13L.bmp',\n",
       "   'D:\\\\Users\\\\Chuan\\\\Documents\\\\Database\\\\Karyotypes\\\\Arrangement_Merged\\\\chr_18\\\\194161-del(18)(p11)-14L.bmp',\n",
       "   'D:\\\\Users\\\\Chuan\\\\Documents\\\\Database\\\\Karyotypes\\\\Arrangement_Merged\\\\chr_18\\\\194161-del(18)(p11)-15L.bmp',\n",
       "   'D:\\\\Users\\\\Chuan\\\\Documents\\\\Database\\\\Karyotypes\\\\Arrangement_Merged\\\\chr_18\\\\194161-del(18)(p11)-16L.bmp',\n",
       "   'D:\\\\Users\\\\Chuan\\\\Documents\\\\Database\\\\Karyotypes\\\\Arrangement_Merged\\\\chr_18\\\\194161-del(18)(p11)-19L.bmp',\n",
       "   'D:\\\\Users\\\\Chuan\\\\Documents\\\\Database\\\\Karyotypes\\\\Arrangement_Merged\\\\chr_18\\\\194161-del(18)(p11)-1L.bmp',\n",
       "   'D:\\\\Users\\\\Chuan\\\\Documents\\\\Database\\\\Karyotypes\\\\Arrangement_Merged\\\\chr_18\\\\194161-del(18)(p11)-20L.bmp',\n",
       "   'D:\\\\Users\\\\Chuan\\\\Documents\\\\Database\\\\Karyotypes\\\\Arrangement_Merged\\\\chr_18\\\\194161-del(18)(p11)-21L.bmp',\n",
       "   'D:\\\\Users\\\\Chuan\\\\Documents\\\\Database\\\\Karyotypes\\\\Arrangement_Merged\\\\chr_18\\\\194161-del(18)(p11)-22L.bmp',\n",
       "   'D:\\\\Users\\\\Chuan\\\\Documents\\\\Database\\\\Karyotypes\\\\Arrangement_Merged\\\\chr_18\\\\194161-del(18)(p11)-23L.bmp',\n",
       "   'D:\\\\Users\\\\Chuan\\\\Documents\\\\Database\\\\Karyotypes\\\\Arrangement_Merged\\\\chr_18\\\\194161-del(18)(p11)-24L.bmp',\n",
       "   'D:\\\\Users\\\\Chuan\\\\Documents\\\\Database\\\\Karyotypes\\\\Arrangement_Merged\\\\chr_18\\\\194161-del(18)(p11)-26L.bmp',\n",
       "   'D:\\\\Users\\\\Chuan\\\\Documents\\\\Database\\\\Karyotypes\\\\Arrangement_Merged\\\\chr_18\\\\194161-del(18)(p11)-27L.bmp',\n",
       "   'D:\\\\Users\\\\Chuan\\\\Documents\\\\Database\\\\Karyotypes\\\\Arrangement_Merged\\\\chr_18\\\\194161-del(18)(p11)-28L.bmp',\n",
       "   'D:\\\\Users\\\\Chuan\\\\Documents\\\\Database\\\\Karyotypes\\\\Arrangement_Merged\\\\chr_18\\\\194161-del(18)(p11)-29L.bmp',\n",
       "   'D:\\\\Users\\\\Chuan\\\\Documents\\\\Database\\\\Karyotypes\\\\Arrangement_Merged\\\\chr_18\\\\194161-del(18)(p11)-30L.bmp',\n",
       "   'D:\\\\Users\\\\Chuan\\\\Documents\\\\Database\\\\Karyotypes\\\\Arrangement_Merged\\\\chr_18\\\\194161-del(18)(p11)-3L.bmp',\n",
       "   'D:\\\\Users\\\\Chuan\\\\Documents\\\\Database\\\\Karyotypes\\\\Arrangement_Merged\\\\chr_18\\\\194161-del(18)(p11)-4L.bmp',\n",
       "   'D:\\\\Users\\\\Chuan\\\\Documents\\\\Database\\\\Karyotypes\\\\Arrangement_Merged\\\\chr_18\\\\194161-del(18)(p11)-5L.bmp',\n",
       "   'D:\\\\Users\\\\Chuan\\\\Documents\\\\Database\\\\Karyotypes\\\\Arrangement_Merged\\\\chr_18\\\\194161-del(18)(p11)-6L.bmp',\n",
       "   'D:\\\\Users\\\\Chuan\\\\Documents\\\\Database\\\\Karyotypes\\\\Arrangement_Merged\\\\chr_18\\\\194161-del(18)(p11)-7L.bmp',\n",
       "   'D:\\\\Users\\\\Chuan\\\\Documents\\\\Database\\\\Karyotypes\\\\Arrangement_Merged\\\\chr_18\\\\194161-del(18)(p11)-8L.bmp',\n",
       "   'D:\\\\Users\\\\Chuan\\\\Documents\\\\Database\\\\Karyotypes\\\\Arrangement_Merged\\\\chr_18\\\\194161-del(18)(p11)-9L.bmp',\n",
       "   'D:\\\\Users\\\\Chuan\\\\Documents\\\\Database\\\\Karyotypes\\\\Arrangement_Merged\\\\chr_18\\\\w21000~A.0001.K.jpg.18L.bmp',\n",
       "   'D:\\\\Users\\\\Chuan\\\\Documents\\\\Database\\\\Karyotypes\\\\Arrangement_Merged\\\\chr_18\\\\w21001~A.0008.K.jpg.18R.bmp',\n",
       "   'D:\\\\Users\\\\Chuan\\\\Documents\\\\Database\\\\Karyotypes\\\\Arrangement_Merged\\\\chr_18\\\\w21002~A.0024.K.jpg.18L.bmp',\n",
       "   'D:\\\\Users\\\\Chuan\\\\Documents\\\\Database\\\\Karyotypes\\\\Arrangement_Merged\\\\chr_18\\\\w21002~A.0024.K.jpg.18R.bmp',\n",
       "   'D:\\\\Users\\\\Chuan\\\\Documents\\\\Database\\\\Karyotypes\\\\Arrangement_Merged\\\\chr_18\\\\w21008~A.0008.K.jpg.18L.bmp',\n",
       "   'D:\\\\Users\\\\Chuan\\\\Documents\\\\Database\\\\Karyotypes\\\\Arrangement_Merged\\\\chr_18\\\\w21008~A.0008.K.jpg.18R.bmp',\n",
       "   'D:\\\\Users\\\\Chuan\\\\Documents\\\\Database\\\\Karyotypes\\\\Arrangement_Merged\\\\chr_18\\\\W21011~A.0008.K.18R.bmp',\n",
       "   'D:\\\\Users\\\\Chuan\\\\Documents\\\\Database\\\\Karyotypes\\\\Arrangement_Merged\\\\chr_18\\\\W21014~A.0005.K.18L.bmp',\n",
       "   'D:\\\\Users\\\\Chuan\\\\Documents\\\\Database\\\\Karyotypes\\\\Arrangement_Merged\\\\chr_18\\\\W21014~A.0005.K.18R.bmp',\n",
       "   'D:\\\\Users\\\\Chuan\\\\Documents\\\\Database\\\\Karyotypes\\\\Arrangement_Merged\\\\chr_18\\\\W21022~A.0007.K.jpg.18L.bmp',\n",
       "   'D:\\\\Users\\\\Chuan\\\\Documents\\\\Database\\\\Karyotypes\\\\Arrangement_Merged\\\\chr_18\\\\W21022~A.0007.K.jpg.18R.bmp',\n",
       "   'D:\\\\Users\\\\Chuan\\\\Documents\\\\Database\\\\Karyotypes\\\\Arrangement_Merged\\\\chr_18\\\\W21025~A.0002.K.jpg.18L.bmp',\n",
       "   'D:\\\\Users\\\\Chuan\\\\Documents\\\\Database\\\\Karyotypes\\\\Arrangement_Merged\\\\chr_18\\\\W21027~A.0003.K.18L.bmp',\n",
       "   'D:\\\\Users\\\\Chuan\\\\Documents\\\\Database\\\\Karyotypes\\\\Arrangement_Merged\\\\chr_18\\\\W21027~A.0003.K.18R.bmp',\n",
       "   'D:\\\\Users\\\\Chuan\\\\Documents\\\\Database\\\\Karyotypes\\\\Arrangement_Merged\\\\chr_18\\\\W21486~A.0020.K.bmp.18L.bmp',\n",
       "   'D:\\\\Users\\\\Chuan\\\\Documents\\\\Database\\\\Karyotypes\\\\Arrangement_Merged\\\\chr_18\\\\W21486~A.0020.K.bmp.18R.bmp',\n",
       "   'D:\\\\Users\\\\Chuan\\\\Documents\\\\Database\\\\Karyotypes\\\\Arrangement_Merged\\\\chr_18\\\\W21563~A.0006.K.18L.bmp',\n",
       "   'D:\\\\Users\\\\Chuan\\\\Documents\\\\Database\\\\Karyotypes\\\\Arrangement_Merged\\\\chr_18\\\\W21563~A.0006.K.18R.bmp',\n",
       "   'D:\\\\Users\\\\Chuan\\\\Documents\\\\Database\\\\Karyotypes\\\\Arrangement_Merged\\\\chr_18\\\\W21570~A.0001.K.jpg.18L.bmp',\n",
       "   'D:\\\\Users\\\\Chuan\\\\Documents\\\\Database\\\\Karyotypes\\\\Arrangement_Merged\\\\chr_18\\\\W21570~A.0001.K.jpg.18R.bmp',\n",
       "   'D:\\\\Users\\\\Chuan\\\\Documents\\\\Database\\\\Karyotypes\\\\Arrangement_Merged\\\\chr_18\\\\W21576~A.0010.K.jpg.18R.bmp',\n",
       "   'D:\\\\Users\\\\Chuan\\\\Documents\\\\Database\\\\Karyotypes\\\\Arrangement_Merged\\\\chr_18\\\\W21587~A.0008.K.jpg.18L.bmp',\n",
       "   'D:\\\\Users\\\\Chuan\\\\Documents\\\\Database\\\\Karyotypes\\\\Arrangement_Merged\\\\chr_18\\\\W21587~A.0010.K.jpg.18L.bmp',\n",
       "   'D:\\\\Users\\\\Chuan\\\\Documents\\\\Database\\\\Karyotypes\\\\Arrangement_Merged\\\\chr_18\\\\W21587~A.0010.K.jpg.18R.bmp',\n",
       "   'D:\\\\Users\\\\Chuan\\\\Documents\\\\Database\\\\Karyotypes\\\\Arrangement_Merged\\\\chr_18\\\\W21588~A.0001.K.jpg.18R.bmp',\n",
       "   'D:\\\\Users\\\\Chuan\\\\Documents\\\\Database\\\\Karyotypes\\\\Arrangement_Merged\\\\chr_18\\\\W21766~A.0025.K.jpg.18L.bmp',\n",
       "   'D:\\\\Users\\\\Chuan\\\\Documents\\\\Database\\\\Karyotypes\\\\Arrangement_Merged\\\\chr_18\\\\W21766~A.0025.K.jpg.18R.bmp',\n",
       "   'D:\\\\Users\\\\Chuan\\\\Documents\\\\Database\\\\Karyotypes\\\\Arrangement_Merged\\\\chr_18\\\\W21890~A.0005.K.jpg.18L.bmp',\n",
       "   'D:\\\\Users\\\\Chuan\\\\Documents\\\\Database\\\\Karyotypes\\\\Arrangement_Merged\\\\chr_18\\\\W21894~A.0009.K.jpg.18L.bmp',\n",
       "   'D:\\\\Users\\\\Chuan\\\\Documents\\\\Database\\\\Karyotypes\\\\Arrangement_Merged\\\\chr_18\\\\W21894~A.0009.K.jpg.18R.bmp',\n",
       "   'D:\\\\Users\\\\Chuan\\\\Documents\\\\Database\\\\Karyotypes\\\\Arrangement_Merged\\\\chr_18\\\\W21902~A.0010.K.jpg.18L.bmp',\n",
       "   'D:\\\\Users\\\\Chuan\\\\Documents\\\\Database\\\\Karyotypes\\\\Arrangement_Merged\\\\chr_18\\\\W21902~A.0010.K.jpg.18R.bmp',\n",
       "   'D:\\\\Users\\\\Chuan\\\\Documents\\\\Database\\\\Karyotypes\\\\Arrangement_Merged\\\\chr_18\\\\W21905~A.0007.K.jpg.18L.bmp',\n",
       "   'D:\\\\Users\\\\Chuan\\\\Documents\\\\Database\\\\Karyotypes\\\\Arrangement_Merged\\\\chr_18\\\\W21905~A.0007.K.jpg.18R.bmp',\n",
       "   'D:\\\\Users\\\\Chuan\\\\Documents\\\\Database\\\\Karyotypes\\\\Arrangement_Merged\\\\chr_18\\\\W21906~A.0011.K.jpg.18L.bmp',\n",
       "   'D:\\\\Users\\\\Chuan\\\\Documents\\\\Database\\\\Karyotypes\\\\Arrangement_Merged\\\\chr_18\\\\W21906~A.0011.K.jpg.18R.bmp',\n",
       "   'D:\\\\Users\\\\Chuan\\\\Documents\\\\Database\\\\Karyotypes\\\\Arrangement_Merged\\\\chr_18\\\\w22038~A.0017.K.jpg.18R.bmp',\n",
       "   'D:\\\\Users\\\\Chuan\\\\Documents\\\\Database\\\\Karyotypes\\\\Arrangement_Merged\\\\chr_18\\\\w22292~A.0027.K.jpg.18L.bmp',\n",
       "   'D:\\\\Users\\\\Chuan\\\\Documents\\\\Database\\\\Karyotypes\\\\Arrangement_Merged\\\\chr_18\\\\w22292~A.0027.K.jpg.18R.bmp',\n",
       "   'D:\\\\Users\\\\Chuan\\\\Documents\\\\Database\\\\Karyotypes\\\\Arrangement_Merged\\\\chr_18\\\\W22451~A.0011.K.jpg.18L.bmp',\n",
       "   'D:\\\\Users\\\\Chuan\\\\Documents\\\\Database\\\\Karyotypes\\\\Arrangement_Merged\\\\chr_18\\\\W22451~A.0011.K.jpg.18R.bmp',\n",
       "   'D:\\\\Users\\\\Chuan\\\\Documents\\\\Database\\\\Karyotypes\\\\Arrangement_Merged\\\\chr_18\\\\W22455~A.0002.K.jpg.18L.bmp',\n",
       "   'D:\\\\Users\\\\Chuan\\\\Documents\\\\Database\\\\Karyotypes\\\\Arrangement_Merged\\\\chr_18\\\\W22455~A.0002.K.jpg.18R.bmp',\n",
       "   'D:\\\\Users\\\\Chuan\\\\Documents\\\\Database\\\\Karyotypes\\\\Arrangement_Merged\\\\chr_18\\\\W22666-1.0002.K.jpg.18L.bmp',\n",
       "   'D:\\\\Users\\\\Chuan\\\\Documents\\\\Database\\\\Karyotypes\\\\Arrangement_Merged\\\\chr_18\\\\W22666-1.0002.K.jpg.18R.bmp',\n",
       "   'D:\\\\Users\\\\Chuan\\\\Documents\\\\Database\\\\Karyotypes\\\\Arrangement_Merged\\\\chr_18\\\\W22670~A.0006.K.jpg.18L.bmp',\n",
       "   'D:\\\\Users\\\\Chuan\\\\Documents\\\\Database\\\\Karyotypes\\\\Arrangement_Merged\\\\chr_18\\\\W22670~A.0006.K.jpg.18R.bmp',\n",
       "   'D:\\\\Users\\\\Chuan\\\\Documents\\\\Database\\\\Karyotypes\\\\Arrangement_Merged\\\\chr_18\\\\W22672~A.0004.K.jpg.18R.bmp',\n",
       "   'D:\\\\Users\\\\Chuan\\\\Documents\\\\Database\\\\Karyotypes\\\\Arrangement_Merged\\\\chr_18\\\\w22881~A.0017.K.jpg.18R.bmp',\n",
       "   'D:\\\\Users\\\\Chuan\\\\Documents\\\\Database\\\\Karyotypes\\\\Arrangement_Merged\\\\chr_18\\\\W23070~A.0001.K.jpg.18R.bmp',\n",
       "   'D:\\\\Users\\\\Chuan\\\\Documents\\\\Database\\\\Karyotypes\\\\Arrangement_Merged\\\\chr_18\\\\W23075-1~A.0017.K.jpg.18L.bmp',\n",
       "   'D:\\\\Users\\\\Chuan\\\\Documents\\\\Database\\\\Karyotypes\\\\Arrangement_Merged\\\\chr_18\\\\W23075-1~A.0017.K.jpg.18R.bmp',\n",
       "   'D:\\\\Users\\\\Chuan\\\\Documents\\\\Database\\\\Karyotypes\\\\Arrangement_Merged\\\\chr_18\\\\W23082.0026.K.jpg.18L.bmp',\n",
       "   'D:\\\\Users\\\\Chuan\\\\Documents\\\\Database\\\\Karyotypes\\\\Arrangement_Merged\\\\chr_18\\\\W23084~A.0003.K.jp.18L.bmp'],\n",
       "  '3': ['D:\\\\Users\\\\Chuan\\\\Documents\\\\Database\\\\Karyotypes\\\\Arrangement_Merged\\\\chr_18\\\\181228-i(18)(q10)+18-10L.bmp',\n",
       "   'D:\\\\Users\\\\Chuan\\\\Documents\\\\Database\\\\Karyotypes\\\\Arrangement_Merged\\\\chr_18\\\\181228-i(18)(q10)+18-11L.bmp',\n",
       "   'D:\\\\Users\\\\Chuan\\\\Documents\\\\Database\\\\Karyotypes\\\\Arrangement_Merged\\\\chr_18\\\\181228-i(18)(q10)+18-12L.bmp',\n",
       "   'D:\\\\Users\\\\Chuan\\\\Documents\\\\Database\\\\Karyotypes\\\\Arrangement_Merged\\\\chr_18\\\\181228-i(18)(q10)+18-14L.bmp',\n",
       "   'D:\\\\Users\\\\Chuan\\\\Documents\\\\Database\\\\Karyotypes\\\\Arrangement_Merged\\\\chr_18\\\\181228-i(18)(q10)+18-1L.bmp',\n",
       "   'D:\\\\Users\\\\Chuan\\\\Documents\\\\Database\\\\Karyotypes\\\\Arrangement_Merged\\\\chr_18\\\\181228-i(18)(q10)+18-2L.bmp',\n",
       "   'D:\\\\Users\\\\Chuan\\\\Documents\\\\Database\\\\Karyotypes\\\\Arrangement_Merged\\\\chr_18\\\\181228-i(18)(q10)+18-3L.bmp',\n",
       "   'D:\\\\Users\\\\Chuan\\\\Documents\\\\Database\\\\Karyotypes\\\\Arrangement_Merged\\\\chr_18\\\\181228-i(18)(q10)+18-4L.bmp',\n",
       "   'D:\\\\Users\\\\Chuan\\\\Documents\\\\Database\\\\Karyotypes\\\\Arrangement_Merged\\\\chr_18\\\\181228-i(18)(q10)+18-7L.bmp',\n",
       "   'D:\\\\Users\\\\Chuan\\\\Documents\\\\Database\\\\Karyotypes\\\\Arrangement_Merged\\\\chr_18\\\\181228-i(18)(q10)+18-8L.bmp',\n",
       "   'D:\\\\Users\\\\Chuan\\\\Documents\\\\Database\\\\Karyotypes\\\\Arrangement_Merged\\\\chr_18\\\\181228-i(18)(q10)+18-9L.bmp',\n",
       "   'D:\\\\Users\\\\Chuan\\\\Documents\\\\Database\\\\Karyotypes\\\\Arrangement_Merged\\\\chr_18\\\\183873-del(18)(p11)-10L.bmp',\n",
       "   'D:\\\\Users\\\\Chuan\\\\Documents\\\\Database\\\\Karyotypes\\\\Arrangement_Merged\\\\chr_18\\\\183873-del(18)(p11)-11L.bmp',\n",
       "   'D:\\\\Users\\\\Chuan\\\\Documents\\\\Database\\\\Karyotypes\\\\Arrangement_Merged\\\\chr_18\\\\183873-del(18)(p11)-13L.bmp',\n",
       "   'D:\\\\Users\\\\Chuan\\\\Documents\\\\Database\\\\Karyotypes\\\\Arrangement_Merged\\\\chr_18\\\\183873-del(18)(p11)-14L.bmp',\n",
       "   'D:\\\\Users\\\\Chuan\\\\Documents\\\\Database\\\\Karyotypes\\\\Arrangement_Merged\\\\chr_18\\\\183873-del(18)(p11)-15L.bmp',\n",
       "   'D:\\\\Users\\\\Chuan\\\\Documents\\\\Database\\\\Karyotypes\\\\Arrangement_Merged\\\\chr_18\\\\183873-del(18)(p11)-16L.bmp',\n",
       "   'D:\\\\Users\\\\Chuan\\\\Documents\\\\Database\\\\Karyotypes\\\\Arrangement_Merged\\\\chr_18\\\\183873-del(18)(p11)-17L.bmp',\n",
       "   'D:\\\\Users\\\\Chuan\\\\Documents\\\\Database\\\\Karyotypes\\\\Arrangement_Merged\\\\chr_18\\\\183873-del(18)(p11)-18L.bmp',\n",
       "   'D:\\\\Users\\\\Chuan\\\\Documents\\\\Database\\\\Karyotypes\\\\Arrangement_Merged\\\\chr_18\\\\183873-del(18)(p11)-19L.bmp',\n",
       "   'D:\\\\Users\\\\Chuan\\\\Documents\\\\Database\\\\Karyotypes\\\\Arrangement_Merged\\\\chr_18\\\\183873-del(18)(p11)-21L.bmp',\n",
       "   'D:\\\\Users\\\\Chuan\\\\Documents\\\\Database\\\\Karyotypes\\\\Arrangement_Merged\\\\chr_18\\\\183873-del(18)(p11)-24L.bmp',\n",
       "   'D:\\\\Users\\\\Chuan\\\\Documents\\\\Database\\\\Karyotypes\\\\Arrangement_Merged\\\\chr_18\\\\183873-del(18)(p11)-25L.bmp',\n",
       "   'D:\\\\Users\\\\Chuan\\\\Documents\\\\Database\\\\Karyotypes\\\\Arrangement_Merged\\\\chr_18\\\\183873-del(18)(p11)-3L.bmp',\n",
       "   'D:\\\\Users\\\\Chuan\\\\Documents\\\\Database\\\\Karyotypes\\\\Arrangement_Merged\\\\chr_18\\\\183873-del(18)(p11)-4L.bmp',\n",
       "   'D:\\\\Users\\\\Chuan\\\\Documents\\\\Database\\\\Karyotypes\\\\Arrangement_Merged\\\\chr_18\\\\183873-del(18)(p11)-5L.bmp',\n",
       "   'D:\\\\Users\\\\Chuan\\\\Documents\\\\Database\\\\Karyotypes\\\\Arrangement_Merged\\\\chr_18\\\\183873-del(18)(p11)-6L.bmp',\n",
       "   'D:\\\\Users\\\\Chuan\\\\Documents\\\\Database\\\\Karyotypes\\\\Arrangement_Merged\\\\chr_18\\\\183873-del(18)(p11)-7L.bmp',\n",
       "   'D:\\\\Users\\\\Chuan\\\\Documents\\\\Database\\\\Karyotypes\\\\Arrangement_Merged\\\\chr_18\\\\183873-del(18)(p11)-8L.bmp',\n",
       "   'D:\\\\Users\\\\Chuan\\\\Documents\\\\Database\\\\Karyotypes\\\\Arrangement_Merged\\\\chr_18\\\\183873-del(18)(p11)-9L.bmp',\n",
       "   'D:\\\\Users\\\\Chuan\\\\Documents\\\\Database\\\\Karyotypes\\\\Arrangement_Merged\\\\chr_18\\\\190325-1.jpg_18L.bmp',\n",
       "   'D:\\\\Users\\\\Chuan\\\\Documents\\\\Database\\\\Karyotypes\\\\Arrangement_Merged\\\\chr_18\\\\190325-10.jpg_18L.bmp',\n",
       "   'D:\\\\Users\\\\Chuan\\\\Documents\\\\Database\\\\Karyotypes\\\\Arrangement_Merged\\\\chr_18\\\\190325-11.jpg_18L.bmp',\n",
       "   'D:\\\\Users\\\\Chuan\\\\Documents\\\\Database\\\\Karyotypes\\\\Arrangement_Merged\\\\chr_18\\\\190325-13.jpg_18L.bmp',\n",
       "   'D:\\\\Users\\\\Chuan\\\\Documents\\\\Database\\\\Karyotypes\\\\Arrangement_Merged\\\\chr_18\\\\190325-15.jpg_18L.bmp',\n",
       "   'D:\\\\Users\\\\Chuan\\\\Documents\\\\Database\\\\Karyotypes\\\\Arrangement_Merged\\\\chr_18\\\\190325-16.jpg_18L.bmp',\n",
       "   'D:\\\\Users\\\\Chuan\\\\Documents\\\\Database\\\\Karyotypes\\\\Arrangement_Merged\\\\chr_18\\\\190325-17.jpg_18L.bmp',\n",
       "   'D:\\\\Users\\\\Chuan\\\\Documents\\\\Database\\\\Karyotypes\\\\Arrangement_Merged\\\\chr_18\\\\190325-18.jpg_18L.bmp',\n",
       "   'D:\\\\Users\\\\Chuan\\\\Documents\\\\Database\\\\Karyotypes\\\\Arrangement_Merged\\\\chr_18\\\\190325-19.jpg_18L.bmp',\n",
       "   'D:\\\\Users\\\\Chuan\\\\Documents\\\\Database\\\\Karyotypes\\\\Arrangement_Merged\\\\chr_18\\\\190325-20.jpg.18L.bmp',\n",
       "   'D:\\\\Users\\\\Chuan\\\\Documents\\\\Database\\\\Karyotypes\\\\Arrangement_Merged\\\\chr_18\\\\190325-3.jpg_18L.bmp',\n",
       "   'D:\\\\Users\\\\Chuan\\\\Documents\\\\Database\\\\Karyotypes\\\\Arrangement_Merged\\\\chr_18\\\\190325-5.jpg_18L.bmp',\n",
       "   'D:\\\\Users\\\\Chuan\\\\Documents\\\\Database\\\\Karyotypes\\\\Arrangement_Merged\\\\chr_18\\\\190325-6.jpg_18L.bmp',\n",
       "   'D:\\\\Users\\\\Chuan\\\\Documents\\\\Database\\\\Karyotypes\\\\Arrangement_Merged\\\\chr_18\\\\190325-7.jpg_18L.bmp',\n",
       "   'D:\\\\Users\\\\Chuan\\\\Documents\\\\Database\\\\Karyotypes\\\\Arrangement_Merged\\\\chr_18\\\\190325-8.jpg_18L.bmp',\n",
       "   'D:\\\\Users\\\\Chuan\\\\Documents\\\\Database\\\\Karyotypes\\\\Arrangement_Merged\\\\chr_18\\\\190325-9.jpg_18L.bmp',\n",
       "   'D:\\\\Users\\\\Chuan\\\\Documents\\\\Database\\\\Karyotypes\\\\Arrangement_Merged\\\\chr_18\\\\191225-1.jpg_18L.bmp',\n",
       "   'D:\\\\Users\\\\Chuan\\\\Documents\\\\Database\\\\Karyotypes\\\\Arrangement_Merged\\\\chr_18\\\\191225-10.jpg_18L.bmp',\n",
       "   'D:\\\\Users\\\\Chuan\\\\Documents\\\\Database\\\\Karyotypes\\\\Arrangement_Merged\\\\chr_18\\\\191225-11.jpg_18L.bmp',\n",
       "   'D:\\\\Users\\\\Chuan\\\\Documents\\\\Database\\\\Karyotypes\\\\Arrangement_Merged\\\\chr_18\\\\191225-13.jpg_18L.bmp',\n",
       "   'D:\\\\Users\\\\Chuan\\\\Documents\\\\Database\\\\Karyotypes\\\\Arrangement_Merged\\\\chr_18\\\\191225-14.jpg_18L.bmp',\n",
       "   'D:\\\\Users\\\\Chuan\\\\Documents\\\\Database\\\\Karyotypes\\\\Arrangement_Merged\\\\chr_18\\\\191225-15.jpg_18L.bmp',\n",
       "   'D:\\\\Users\\\\Chuan\\\\Documents\\\\Database\\\\Karyotypes\\\\Arrangement_Merged\\\\chr_18\\\\191225-17.jpg_18L.bmp',\n",
       "   'D:\\\\Users\\\\Chuan\\\\Documents\\\\Database\\\\Karyotypes\\\\Arrangement_Merged\\\\chr_18\\\\191225-18.jpg_18L.bmp',\n",
       "   'D:\\\\Users\\\\Chuan\\\\Documents\\\\Database\\\\Karyotypes\\\\Arrangement_Merged\\\\chr_18\\\\191225-2.jpg_18L.bmp',\n",
       "   'D:\\\\Users\\\\Chuan\\\\Documents\\\\Database\\\\Karyotypes\\\\Arrangement_Merged\\\\chr_18\\\\191225-20.jpg_18L.bmp',\n",
       "   'D:\\\\Users\\\\Chuan\\\\Documents\\\\Database\\\\Karyotypes\\\\Arrangement_Merged\\\\chr_18\\\\191225-21.jpg_18L.bmp',\n",
       "   'D:\\\\Users\\\\Chuan\\\\Documents\\\\Database\\\\Karyotypes\\\\Arrangement_Merged\\\\chr_18\\\\191225-5.jpg_18L.bmp',\n",
       "   'D:\\\\Users\\\\Chuan\\\\Documents\\\\Database\\\\Karyotypes\\\\Arrangement_Merged\\\\chr_18\\\\191225-6.jpg_18L.bmp',\n",
       "   'D:\\\\Users\\\\Chuan\\\\Documents\\\\Database\\\\Karyotypes\\\\Arrangement_Merged\\\\chr_18\\\\191225-7.jpg_18L.bmp',\n",
       "   'D:\\\\Users\\\\Chuan\\\\Documents\\\\Database\\\\Karyotypes\\\\Arrangement_Merged\\\\chr_18\\\\191225-8.jpg_18L.bmp',\n",
       "   'D:\\\\Users\\\\Chuan\\\\Documents\\\\Database\\\\Karyotypes\\\\Arrangement_Merged\\\\chr_18\\\\191225-9.jpg_18L.bmp',\n",
       "   'D:\\\\Users\\\\Chuan\\\\Documents\\\\Database\\\\Karyotypes\\\\Arrangement_Merged\\\\chr_18\\\\194161-del(18)(p11)-11L.bmp',\n",
       "   'D:\\\\Users\\\\Chuan\\\\Documents\\\\Database\\\\Karyotypes\\\\Arrangement_Merged\\\\chr_18\\\\194161-del(18)(p11)-12L.bmp',\n",
       "   'D:\\\\Users\\\\Chuan\\\\Documents\\\\Database\\\\Karyotypes\\\\Arrangement_Merged\\\\chr_18\\\\194161-del(18)(p11)-13L.bmp',\n",
       "   'D:\\\\Users\\\\Chuan\\\\Documents\\\\Database\\\\Karyotypes\\\\Arrangement_Merged\\\\chr_18\\\\194161-del(18)(p11)-15L.bmp',\n",
       "   'D:\\\\Users\\\\Chuan\\\\Documents\\\\Database\\\\Karyotypes\\\\Arrangement_Merged\\\\chr_18\\\\194161-del(18)(p11)-17L.bmp',\n",
       "   'D:\\\\Users\\\\Chuan\\\\Documents\\\\Database\\\\Karyotypes\\\\Arrangement_Merged\\\\chr_18\\\\194161-del(18)(p11)-18L.bmp',\n",
       "   'D:\\\\Users\\\\Chuan\\\\Documents\\\\Database\\\\Karyotypes\\\\Arrangement_Merged\\\\chr_18\\\\194161-del(18)(p11)-19L.bmp',\n",
       "   'D:\\\\Users\\\\Chuan\\\\Documents\\\\Database\\\\Karyotypes\\\\Arrangement_Merged\\\\chr_18\\\\194161-del(18)(p11)-1L.bmp',\n",
       "   'D:\\\\Users\\\\Chuan\\\\Documents\\\\Database\\\\Karyotypes\\\\Arrangement_Merged\\\\chr_18\\\\194161-del(18)(p11)-21L.bmp',\n",
       "   'D:\\\\Users\\\\Chuan\\\\Documents\\\\Database\\\\Karyotypes\\\\Arrangement_Merged\\\\chr_18\\\\194161-del(18)(p11)-22L.bmp',\n",
       "   'D:\\\\Users\\\\Chuan\\\\Documents\\\\Database\\\\Karyotypes\\\\Arrangement_Merged\\\\chr_18\\\\194161-del(18)(p11)-23L.bmp',\n",
       "   'D:\\\\Users\\\\Chuan\\\\Documents\\\\Database\\\\Karyotypes\\\\Arrangement_Merged\\\\chr_18\\\\194161-del(18)(p11)-24L.bmp',\n",
       "   'D:\\\\Users\\\\Chuan\\\\Documents\\\\Database\\\\Karyotypes\\\\Arrangement_Merged\\\\chr_18\\\\194161-del(18)(p11)-25L.bmp',\n",
       "   'D:\\\\Users\\\\Chuan\\\\Documents\\\\Database\\\\Karyotypes\\\\Arrangement_Merged\\\\chr_18\\\\194161-del(18)(p11)-26L.bmp',\n",
       "   'D:\\\\Users\\\\Chuan\\\\Documents\\\\Database\\\\Karyotypes\\\\Arrangement_Merged\\\\chr_18\\\\194161-del(18)(p11)-27L.bmp',\n",
       "   'D:\\\\Users\\\\Chuan\\\\Documents\\\\Database\\\\Karyotypes\\\\Arrangement_Merged\\\\chr_18\\\\194161-del(18)(p11)-28L.bmp',\n",
       "   'D:\\\\Users\\\\Chuan\\\\Documents\\\\Database\\\\Karyotypes\\\\Arrangement_Merged\\\\chr_18\\\\194161-del(18)(p11)-29L.bmp',\n",
       "   'D:\\\\Users\\\\Chuan\\\\Documents\\\\Database\\\\Karyotypes\\\\Arrangement_Merged\\\\chr_18\\\\194161-del(18)(p11)-2L.bmp',\n",
       "   'D:\\\\Users\\\\Chuan\\\\Documents\\\\Database\\\\Karyotypes\\\\Arrangement_Merged\\\\chr_18\\\\194161-del(18)(p11)-3L.bmp',\n",
       "   'D:\\\\Users\\\\Chuan\\\\Documents\\\\Database\\\\Karyotypes\\\\Arrangement_Merged\\\\chr_18\\\\194161-del(18)(p11)-5L.bmp',\n",
       "   'D:\\\\Users\\\\Chuan\\\\Documents\\\\Database\\\\Karyotypes\\\\Arrangement_Merged\\\\chr_18\\\\194161-del(18)(p11)-6L.bmp',\n",
       "   'D:\\\\Users\\\\Chuan\\\\Documents\\\\Database\\\\Karyotypes\\\\Arrangement_Merged\\\\chr_18\\\\194161-del(18)(p11)-9L.bmp',\n",
       "   'D:\\\\Users\\\\Chuan\\\\Documents\\\\Database\\\\Karyotypes\\\\Arrangement_Merged\\\\chr_18\\\\w21000~A.0001.K.jpg.18L.bmp',\n",
       "   'D:\\\\Users\\\\Chuan\\\\Documents\\\\Database\\\\Karyotypes\\\\Arrangement_Merged\\\\chr_18\\\\w21000~A.0001.K.jpg.18R.bmp',\n",
       "   'D:\\\\Users\\\\Chuan\\\\Documents\\\\Database\\\\Karyotypes\\\\Arrangement_Merged\\\\chr_18\\\\w21001~A.0008.K.jpg.18L.bmp',\n",
       "   'D:\\\\Users\\\\Chuan\\\\Documents\\\\Database\\\\Karyotypes\\\\Arrangement_Merged\\\\chr_18\\\\w21002~A.0024.K.jpg.18L.bmp',\n",
       "   'D:\\\\Users\\\\Chuan\\\\Documents\\\\Database\\\\Karyotypes\\\\Arrangement_Merged\\\\chr_18\\\\w21008~A.0008.K.jpg.18L.bmp',\n",
       "   'D:\\\\Users\\\\Chuan\\\\Documents\\\\Database\\\\Karyotypes\\\\Arrangement_Merged\\\\chr_18\\\\w21008~A.0008.K.jpg.18R.bmp',\n",
       "   'D:\\\\Users\\\\Chuan\\\\Documents\\\\Database\\\\Karyotypes\\\\Arrangement_Merged\\\\chr_18\\\\W21011~A.0008.K.18L.bmp',\n",
       "   'D:\\\\Users\\\\Chuan\\\\Documents\\\\Database\\\\Karyotypes\\\\Arrangement_Merged\\\\chr_18\\\\W21011~A.0008.K.18R.bmp',\n",
       "   'D:\\\\Users\\\\Chuan\\\\Documents\\\\Database\\\\Karyotypes\\\\Arrangement_Merged\\\\chr_18\\\\W21012~A.0019.K.18L.bmp',\n",
       "   'D:\\\\Users\\\\Chuan\\\\Documents\\\\Database\\\\Karyotypes\\\\Arrangement_Merged\\\\chr_18\\\\W21012~A.0019.K.18R.bmp',\n",
       "   'D:\\\\Users\\\\Chuan\\\\Documents\\\\Database\\\\Karyotypes\\\\Arrangement_Merged\\\\chr_18\\\\W21014~A.0005.K.18L.bmp',\n",
       "   'D:\\\\Users\\\\Chuan\\\\Documents\\\\Database\\\\Karyotypes\\\\Arrangement_Merged\\\\chr_18\\\\W21014~A.0005.K.18R.bmp',\n",
       "   'D:\\\\Users\\\\Chuan\\\\Documents\\\\Database\\\\Karyotypes\\\\Arrangement_Merged\\\\chr_18\\\\W21025~A.0002.K.jpg.18L.bmp',\n",
       "   'D:\\\\Users\\\\Chuan\\\\Documents\\\\Database\\\\Karyotypes\\\\Arrangement_Merged\\\\chr_18\\\\W21025~A.0002.K.jpg.18R.bmp',\n",
       "   'D:\\\\Users\\\\Chuan\\\\Documents\\\\Database\\\\Karyotypes\\\\Arrangement_Merged\\\\chr_18\\\\W21027~A.0003.K.18L.bmp',\n",
       "   'D:\\\\Users\\\\Chuan\\\\Documents\\\\Database\\\\Karyotypes\\\\Arrangement_Merged\\\\chr_18\\\\W21027~A.0003.K.18R.bmp',\n",
       "   'D:\\\\Users\\\\Chuan\\\\Documents\\\\Database\\\\Karyotypes\\\\Arrangement_Merged\\\\chr_18\\\\W21486~A.0020.K.bmp.18L.bmp',\n",
       "   'D:\\\\Users\\\\Chuan\\\\Documents\\\\Database\\\\Karyotypes\\\\Arrangement_Merged\\\\chr_18\\\\W21486~A.0020.K.bmp.18R.bmp',\n",
       "   'D:\\\\Users\\\\Chuan\\\\Documents\\\\Database\\\\Karyotypes\\\\Arrangement_Merged\\\\chr_18\\\\W21563~A.0006.K.18L.bmp',\n",
       "   'D:\\\\Users\\\\Chuan\\\\Documents\\\\Database\\\\Karyotypes\\\\Arrangement_Merged\\\\chr_18\\\\W21563~A.0006.K.18R.bmp',\n",
       "   'D:\\\\Users\\\\Chuan\\\\Documents\\\\Database\\\\Karyotypes\\\\Arrangement_Merged\\\\chr_18\\\\W21576~A.0010.K.jpg.18L.bmp',\n",
       "   'D:\\\\Users\\\\Chuan\\\\Documents\\\\Database\\\\Karyotypes\\\\Arrangement_Merged\\\\chr_18\\\\W21576~A.0010.K.jpg.18R.bmp',\n",
       "   'D:\\\\Users\\\\Chuan\\\\Documents\\\\Database\\\\Karyotypes\\\\Arrangement_Merged\\\\chr_18\\\\W21587~A.0008.K.jpg.18L.bmp',\n",
       "   'D:\\\\Users\\\\Chuan\\\\Documents\\\\Database\\\\Karyotypes\\\\Arrangement_Merged\\\\chr_18\\\\W21587~A.0008.K.jpg.18R.bmp',\n",
       "   'D:\\\\Users\\\\Chuan\\\\Documents\\\\Database\\\\Karyotypes\\\\Arrangement_Merged\\\\chr_18\\\\W21587~A.0010.K.jpg.18L.bmp',\n",
       "   'D:\\\\Users\\\\Chuan\\\\Documents\\\\Database\\\\Karyotypes\\\\Arrangement_Merged\\\\chr_18\\\\W21587~A.0010.K.jpg.18R.bmp',\n",
       "   'D:\\\\Users\\\\Chuan\\\\Documents\\\\Database\\\\Karyotypes\\\\Arrangement_Merged\\\\chr_18\\\\W21588~A.0001.K.jpg.18L.bmp',\n",
       "   'D:\\\\Users\\\\Chuan\\\\Documents\\\\Database\\\\Karyotypes\\\\Arrangement_Merged\\\\chr_18\\\\W21588~A.0001.K.jpg.18R.bmp',\n",
       "   'D:\\\\Users\\\\Chuan\\\\Documents\\\\Database\\\\Karyotypes\\\\Arrangement_Merged\\\\chr_18\\\\W21766~A.0025.K.jpg.18L.bmp',\n",
       "   'D:\\\\Users\\\\Chuan\\\\Documents\\\\Database\\\\Karyotypes\\\\Arrangement_Merged\\\\chr_18\\\\W21766~A.0025.K.jpg.18R.bmp',\n",
       "   'D:\\\\Users\\\\Chuan\\\\Documents\\\\Database\\\\Karyotypes\\\\Arrangement_Merged\\\\chr_18\\\\W21890~A.0005.K.jpg.18L.bmp',\n",
       "   'D:\\\\Users\\\\Chuan\\\\Documents\\\\Database\\\\Karyotypes\\\\Arrangement_Merged\\\\chr_18\\\\W21890~A.0005.K.jpg.18R.bmp',\n",
       "   'D:\\\\Users\\\\Chuan\\\\Documents\\\\Database\\\\Karyotypes\\\\Arrangement_Merged\\\\chr_18\\\\W21894~A.0009.K.jpg.18L.bmp',\n",
       "   'D:\\\\Users\\\\Chuan\\\\Documents\\\\Database\\\\Karyotypes\\\\Arrangement_Merged\\\\chr_18\\\\W21894~A.0009.K.jpg.18R.bmp',\n",
       "   'D:\\\\Users\\\\Chuan\\\\Documents\\\\Database\\\\Karyotypes\\\\Arrangement_Merged\\\\chr_18\\\\W21902~A.0010.K.jpg.18L.bmp',\n",
       "   'D:\\\\Users\\\\Chuan\\\\Documents\\\\Database\\\\Karyotypes\\\\Arrangement_Merged\\\\chr_18\\\\W21905~A.0007.K.jpg.18R.bmp',\n",
       "   'D:\\\\Users\\\\Chuan\\\\Documents\\\\Database\\\\Karyotypes\\\\Arrangement_Merged\\\\chr_18\\\\W21906~A.0011.K.jpg.18L.bmp',\n",
       "   'D:\\\\Users\\\\Chuan\\\\Documents\\\\Database\\\\Karyotypes\\\\Arrangement_Merged\\\\chr_18\\\\w22038~A.0017.K.jpg.18L.bmp',\n",
       "   'D:\\\\Users\\\\Chuan\\\\Documents\\\\Database\\\\Karyotypes\\\\Arrangement_Merged\\\\chr_18\\\\w22038~A.0017.K.jpg.18R.bmp',\n",
       "   'D:\\\\Users\\\\Chuan\\\\Documents\\\\Database\\\\Karyotypes\\\\Arrangement_Merged\\\\chr_18\\\\w22292~A.0027.K.jpg.18L.bmp',\n",
       "   'D:\\\\Users\\\\Chuan\\\\Documents\\\\Database\\\\Karyotypes\\\\Arrangement_Merged\\\\chr_18\\\\w22292~A.0027.K.jpg.18R.bmp',\n",
       "   'D:\\\\Users\\\\Chuan\\\\Documents\\\\Database\\\\Karyotypes\\\\Arrangement_Merged\\\\chr_18\\\\W22451~A.0011.K.jpg.18L.bmp',\n",
       "   'D:\\\\Users\\\\Chuan\\\\Documents\\\\Database\\\\Karyotypes\\\\Arrangement_Merged\\\\chr_18\\\\W22451~A.0011.K.jpg.18R.bmp',\n",
       "   'D:\\\\Users\\\\Chuan\\\\Documents\\\\Database\\\\Karyotypes\\\\Arrangement_Merged\\\\chr_18\\\\W22455~A.0002.K.jpg.18R.bmp',\n",
       "   'D:\\\\Users\\\\Chuan\\\\Documents\\\\Database\\\\Karyotypes\\\\Arrangement_Merged\\\\chr_18\\\\W22666-1.0002.K.jpg.18R.bmp',\n",
       "   'D:\\\\Users\\\\Chuan\\\\Documents\\\\Database\\\\Karyotypes\\\\Arrangement_Merged\\\\chr_18\\\\W22670~A.0006.K.jpg.18L.bmp',\n",
       "   'D:\\\\Users\\\\Chuan\\\\Documents\\\\Database\\\\Karyotypes\\\\Arrangement_Merged\\\\chr_18\\\\W22670~A.0006.K.jpg.18R.bmp',\n",
       "   'D:\\\\Users\\\\Chuan\\\\Documents\\\\Database\\\\Karyotypes\\\\Arrangement_Merged\\\\chr_18\\\\W22672~A.0004.K.jpg.18L.bmp',\n",
       "   'D:\\\\Users\\\\Chuan\\\\Documents\\\\Database\\\\Karyotypes\\\\Arrangement_Merged\\\\chr_18\\\\w22881~A.0017.K.jpg.18L.bmp',\n",
       "   'D:\\\\Users\\\\Chuan\\\\Documents\\\\Database\\\\Karyotypes\\\\Arrangement_Merged\\\\chr_18\\\\W23070~A.0001.K.jpg.18L.bmp',\n",
       "   'D:\\\\Users\\\\Chuan\\\\Documents\\\\Database\\\\Karyotypes\\\\Arrangement_Merged\\\\chr_18\\\\W23070~A.0001.K.jpg.18R.bmp',\n",
       "   'D:\\\\Users\\\\Chuan\\\\Documents\\\\Database\\\\Karyotypes\\\\Arrangement_Merged\\\\chr_18\\\\W23075-1~A.0017.K.jpg.18L.bmp',\n",
       "   'D:\\\\Users\\\\Chuan\\\\Documents\\\\Database\\\\Karyotypes\\\\Arrangement_Merged\\\\chr_18\\\\W23075-1~A.0017.K.jpg.18R.bmp',\n",
       "   'D:\\\\Users\\\\Chuan\\\\Documents\\\\Database\\\\Karyotypes\\\\Arrangement_Merged\\\\chr_18\\\\W23082.0026.K.jpg.18L.bmp',\n",
       "   'D:\\\\Users\\\\Chuan\\\\Documents\\\\Database\\\\Karyotypes\\\\Arrangement_Merged\\\\chr_18\\\\W23082.0026.K.jpg.18R.bmp',\n",
       "   'D:\\\\Users\\\\Chuan\\\\Documents\\\\Database\\\\Karyotypes\\\\Arrangement_Merged\\\\chr_18\\\\W23084~A.0003.K.jp.18L.bmp',\n",
       "   'D:\\\\Users\\\\Chuan\\\\Documents\\\\Database\\\\Karyotypes\\\\Arrangement_Merged\\\\chr_18\\\\W23084~A.0003.K.jp.18R.bmp'],\n",
       "  '4': ['D:\\\\Users\\\\Chuan\\\\Documents\\\\Database\\\\Karyotypes\\\\Arrangement_Merged\\\\chr_18\\\\181228-i(18)(q10)+18-10L.bmp',\n",
       "   'D:\\\\Users\\\\Chuan\\\\Documents\\\\Database\\\\Karyotypes\\\\Arrangement_Merged\\\\chr_18\\\\181228-i(18)(q10)+18-12L.bmp',\n",
       "   'D:\\\\Users\\\\Chuan\\\\Documents\\\\Database\\\\Karyotypes\\\\Arrangement_Merged\\\\chr_18\\\\181228-i(18)(q10)+18-13L.bmp',\n",
       "   'D:\\\\Users\\\\Chuan\\\\Documents\\\\Database\\\\Karyotypes\\\\Arrangement_Merged\\\\chr_18\\\\181228-i(18)(q10)+18-14L.bmp',\n",
       "   'D:\\\\Users\\\\Chuan\\\\Documents\\\\Database\\\\Karyotypes\\\\Arrangement_Merged\\\\chr_18\\\\181228-i(18)(q10)+18-1L.bmp',\n",
       "   'D:\\\\Users\\\\Chuan\\\\Documents\\\\Database\\\\Karyotypes\\\\Arrangement_Merged\\\\chr_18\\\\181228-i(18)(q10)+18-2L.bmp',\n",
       "   'D:\\\\Users\\\\Chuan\\\\Documents\\\\Database\\\\Karyotypes\\\\Arrangement_Merged\\\\chr_18\\\\181228-i(18)(q10)+18-5L.bmp',\n",
       "   'D:\\\\Users\\\\Chuan\\\\Documents\\\\Database\\\\Karyotypes\\\\Arrangement_Merged\\\\chr_18\\\\181228-i(18)(q10)+18-7L.bmp',\n",
       "   'D:\\\\Users\\\\Chuan\\\\Documents\\\\Database\\\\Karyotypes\\\\Arrangement_Merged\\\\chr_18\\\\181228-i(18)(q10)+18-8L.bmp',\n",
       "   'D:\\\\Users\\\\Chuan\\\\Documents\\\\Database\\\\Karyotypes\\\\Arrangement_Merged\\\\chr_18\\\\181228-i(18)(q10)+18-9L.bmp',\n",
       "   'D:\\\\Users\\\\Chuan\\\\Documents\\\\Database\\\\Karyotypes\\\\Arrangement_Merged\\\\chr_18\\\\183873-del(18)(p11)-10L.bmp',\n",
       "   'D:\\\\Users\\\\Chuan\\\\Documents\\\\Database\\\\Karyotypes\\\\Arrangement_Merged\\\\chr_18\\\\183873-del(18)(p11)-11L.bmp',\n",
       "   'D:\\\\Users\\\\Chuan\\\\Documents\\\\Database\\\\Karyotypes\\\\Arrangement_Merged\\\\chr_18\\\\183873-del(18)(p11)-12L.bmp',\n",
       "   'D:\\\\Users\\\\Chuan\\\\Documents\\\\Database\\\\Karyotypes\\\\Arrangement_Merged\\\\chr_18\\\\183873-del(18)(p11)-13L.bmp',\n",
       "   'D:\\\\Users\\\\Chuan\\\\Documents\\\\Database\\\\Karyotypes\\\\Arrangement_Merged\\\\chr_18\\\\183873-del(18)(p11)-14L.bmp',\n",
       "   'D:\\\\Users\\\\Chuan\\\\Documents\\\\Database\\\\Karyotypes\\\\Arrangement_Merged\\\\chr_18\\\\183873-del(18)(p11)-15L.bmp',\n",
       "   'D:\\\\Users\\\\Chuan\\\\Documents\\\\Database\\\\Karyotypes\\\\Arrangement_Merged\\\\chr_18\\\\183873-del(18)(p11)-16L.bmp',\n",
       "   'D:\\\\Users\\\\Chuan\\\\Documents\\\\Database\\\\Karyotypes\\\\Arrangement_Merged\\\\chr_18\\\\183873-del(18)(p11)-18L.bmp',\n",
       "   'D:\\\\Users\\\\Chuan\\\\Documents\\\\Database\\\\Karyotypes\\\\Arrangement_Merged\\\\chr_18\\\\183873-del(18)(p11)-1L.bmp',\n",
       "   'D:\\\\Users\\\\Chuan\\\\Documents\\\\Database\\\\Karyotypes\\\\Arrangement_Merged\\\\chr_18\\\\183873-del(18)(p11)-20L.bmp',\n",
       "   'D:\\\\Users\\\\Chuan\\\\Documents\\\\Database\\\\Karyotypes\\\\Arrangement_Merged\\\\chr_18\\\\183873-del(18)(p11)-22L.bmp',\n",
       "   'D:\\\\Users\\\\Chuan\\\\Documents\\\\Database\\\\Karyotypes\\\\Arrangement_Merged\\\\chr_18\\\\183873-del(18)(p11)-23L.bmp',\n",
       "   'D:\\\\Users\\\\Chuan\\\\Documents\\\\Database\\\\Karyotypes\\\\Arrangement_Merged\\\\chr_18\\\\183873-del(18)(p11)-24L.bmp',\n",
       "   'D:\\\\Users\\\\Chuan\\\\Documents\\\\Database\\\\Karyotypes\\\\Arrangement_Merged\\\\chr_18\\\\183873-del(18)(p11)-25L.bmp',\n",
       "   'D:\\\\Users\\\\Chuan\\\\Documents\\\\Database\\\\Karyotypes\\\\Arrangement_Merged\\\\chr_18\\\\183873-del(18)(p11)-2L.bmp',\n",
       "   'D:\\\\Users\\\\Chuan\\\\Documents\\\\Database\\\\Karyotypes\\\\Arrangement_Merged\\\\chr_18\\\\183873-del(18)(p11)-3L.bmp',\n",
       "   'D:\\\\Users\\\\Chuan\\\\Documents\\\\Database\\\\Karyotypes\\\\Arrangement_Merged\\\\chr_18\\\\183873-del(18)(p11)-4L.bmp',\n",
       "   'D:\\\\Users\\\\Chuan\\\\Documents\\\\Database\\\\Karyotypes\\\\Arrangement_Merged\\\\chr_18\\\\183873-del(18)(p11)-5L.bmp',\n",
       "   'D:\\\\Users\\\\Chuan\\\\Documents\\\\Database\\\\Karyotypes\\\\Arrangement_Merged\\\\chr_18\\\\183873-del(18)(p11)-6L.bmp',\n",
       "   'D:\\\\Users\\\\Chuan\\\\Documents\\\\Database\\\\Karyotypes\\\\Arrangement_Merged\\\\chr_18\\\\183873-del(18)(p11)-7L.bmp',\n",
       "   'D:\\\\Users\\\\Chuan\\\\Documents\\\\Database\\\\Karyotypes\\\\Arrangement_Merged\\\\chr_18\\\\183873-del(18)(p11)-8L.bmp',\n",
       "   'D:\\\\Users\\\\Chuan\\\\Documents\\\\Database\\\\Karyotypes\\\\Arrangement_Merged\\\\chr_18\\\\190325-1.jpg_18L.bmp',\n",
       "   'D:\\\\Users\\\\Chuan\\\\Documents\\\\Database\\\\Karyotypes\\\\Arrangement_Merged\\\\chr_18\\\\190325-10.jpg_18L.bmp',\n",
       "   'D:\\\\Users\\\\Chuan\\\\Documents\\\\Database\\\\Karyotypes\\\\Arrangement_Merged\\\\chr_18\\\\190325-11.jpg_18L.bmp',\n",
       "   'D:\\\\Users\\\\Chuan\\\\Documents\\\\Database\\\\Karyotypes\\\\Arrangement_Merged\\\\chr_18\\\\190325-12.jpg_18L.bmp',\n",
       "   'D:\\\\Users\\\\Chuan\\\\Documents\\\\Database\\\\Karyotypes\\\\Arrangement_Merged\\\\chr_18\\\\190325-13.jpg_18L.bmp',\n",
       "   'D:\\\\Users\\\\Chuan\\\\Documents\\\\Database\\\\Karyotypes\\\\Arrangement_Merged\\\\chr_18\\\\190325-14.jpg_18L.bmp',\n",
       "   'D:\\\\Users\\\\Chuan\\\\Documents\\\\Database\\\\Karyotypes\\\\Arrangement_Merged\\\\chr_18\\\\190325-15.jpg_18L.bmp',\n",
       "   'D:\\\\Users\\\\Chuan\\\\Documents\\\\Database\\\\Karyotypes\\\\Arrangement_Merged\\\\chr_18\\\\190325-16.jpg_18L.bmp',\n",
       "   'D:\\\\Users\\\\Chuan\\\\Documents\\\\Database\\\\Karyotypes\\\\Arrangement_Merged\\\\chr_18\\\\190325-17.jpg_18L.bmp',\n",
       "   'D:\\\\Users\\\\Chuan\\\\Documents\\\\Database\\\\Karyotypes\\\\Arrangement_Merged\\\\chr_18\\\\190325-18.jpg_18L.bmp',\n",
       "   'D:\\\\Users\\\\Chuan\\\\Documents\\\\Database\\\\Karyotypes\\\\Arrangement_Merged\\\\chr_18\\\\190325-19.jpg_18L.bmp',\n",
       "   'D:\\\\Users\\\\Chuan\\\\Documents\\\\Database\\\\Karyotypes\\\\Arrangement_Merged\\\\chr_18\\\\190325-2.jpg_18L.bmp',\n",
       "   'D:\\\\Users\\\\Chuan\\\\Documents\\\\Database\\\\Karyotypes\\\\Arrangement_Merged\\\\chr_18\\\\190325-3.jpg_18L.bmp',\n",
       "   'D:\\\\Users\\\\Chuan\\\\Documents\\\\Database\\\\Karyotypes\\\\Arrangement_Merged\\\\chr_18\\\\190325-4.jpg_18L.bmp',\n",
       "   'D:\\\\Users\\\\Chuan\\\\Documents\\\\Database\\\\Karyotypes\\\\Arrangement_Merged\\\\chr_18\\\\190325-5.jpg_18L.bmp',\n",
       "   'D:\\\\Users\\\\Chuan\\\\Documents\\\\Database\\\\Karyotypes\\\\Arrangement_Merged\\\\chr_18\\\\190325-6.jpg_18L.bmp',\n",
       "   'D:\\\\Users\\\\Chuan\\\\Documents\\\\Database\\\\Karyotypes\\\\Arrangement_Merged\\\\chr_18\\\\190325-7.jpg_18L.bmp',\n",
       "   'D:\\\\Users\\\\Chuan\\\\Documents\\\\Database\\\\Karyotypes\\\\Arrangement_Merged\\\\chr_18\\\\190325-8.jpg_18L.bmp',\n",
       "   'D:\\\\Users\\\\Chuan\\\\Documents\\\\Database\\\\Karyotypes\\\\Arrangement_Merged\\\\chr_18\\\\191225-1.jpg_18L.bmp',\n",
       "   'D:\\\\Users\\\\Chuan\\\\Documents\\\\Database\\\\Karyotypes\\\\Arrangement_Merged\\\\chr_18\\\\191225-10.jpg_18L.bmp',\n",
       "   'D:\\\\Users\\\\Chuan\\\\Documents\\\\Database\\\\Karyotypes\\\\Arrangement_Merged\\\\chr_18\\\\191225-14.jpg_18L.bmp',\n",
       "   'D:\\\\Users\\\\Chuan\\\\Documents\\\\Database\\\\Karyotypes\\\\Arrangement_Merged\\\\chr_18\\\\191225-16.jpg_18L.bmp',\n",
       "   'D:\\\\Users\\\\Chuan\\\\Documents\\\\Database\\\\Karyotypes\\\\Arrangement_Merged\\\\chr_18\\\\191225-17.jpg_18L.bmp',\n",
       "   'D:\\\\Users\\\\Chuan\\\\Documents\\\\Database\\\\Karyotypes\\\\Arrangement_Merged\\\\chr_18\\\\191225-18.jpg_18L.bmp',\n",
       "   'D:\\\\Users\\\\Chuan\\\\Documents\\\\Database\\\\Karyotypes\\\\Arrangement_Merged\\\\chr_18\\\\191225-19.jpg_18L.bmp',\n",
       "   'D:\\\\Users\\\\Chuan\\\\Documents\\\\Database\\\\Karyotypes\\\\Arrangement_Merged\\\\chr_18\\\\191225-20.jpg_18L.bmp',\n",
       "   'D:\\\\Users\\\\Chuan\\\\Documents\\\\Database\\\\Karyotypes\\\\Arrangement_Merged\\\\chr_18\\\\191225-21.jpg_18L.bmp',\n",
       "   'D:\\\\Users\\\\Chuan\\\\Documents\\\\Database\\\\Karyotypes\\\\Arrangement_Merged\\\\chr_18\\\\191225-7.jpg_18L.bmp',\n",
       "   'D:\\\\Users\\\\Chuan\\\\Documents\\\\Database\\\\Karyotypes\\\\Arrangement_Merged\\\\chr_18\\\\191225-8.jpg_18L.bmp',\n",
       "   'D:\\\\Users\\\\Chuan\\\\Documents\\\\Database\\\\Karyotypes\\\\Arrangement_Merged\\\\chr_18\\\\191225-9.jpg_18L.bmp',\n",
       "   'D:\\\\Users\\\\Chuan\\\\Documents\\\\Database\\\\Karyotypes\\\\Arrangement_Merged\\\\chr_18\\\\194161-del(18)(p11)-10L.bmp',\n",
       "   'D:\\\\Users\\\\Chuan\\\\Documents\\\\Database\\\\Karyotypes\\\\Arrangement_Merged\\\\chr_18\\\\194161-del(18)(p11)-11L.bmp',\n",
       "   'D:\\\\Users\\\\Chuan\\\\Documents\\\\Database\\\\Karyotypes\\\\Arrangement_Merged\\\\chr_18\\\\194161-del(18)(p11)-12L.bmp',\n",
       "   'D:\\\\Users\\\\Chuan\\\\Documents\\\\Database\\\\Karyotypes\\\\Arrangement_Merged\\\\chr_18\\\\194161-del(18)(p11)-14L.bmp',\n",
       "   'D:\\\\Users\\\\Chuan\\\\Documents\\\\Database\\\\Karyotypes\\\\Arrangement_Merged\\\\chr_18\\\\194161-del(18)(p11)-15L.bmp',\n",
       "   'D:\\\\Users\\\\Chuan\\\\Documents\\\\Database\\\\Karyotypes\\\\Arrangement_Merged\\\\chr_18\\\\194161-del(18)(p11)-16L.bmp',\n",
       "   'D:\\\\Users\\\\Chuan\\\\Documents\\\\Database\\\\Karyotypes\\\\Arrangement_Merged\\\\chr_18\\\\194161-del(18)(p11)-17L.bmp',\n",
       "   'D:\\\\Users\\\\Chuan\\\\Documents\\\\Database\\\\Karyotypes\\\\Arrangement_Merged\\\\chr_18\\\\194161-del(18)(p11)-18L.bmp',\n",
       "   'D:\\\\Users\\\\Chuan\\\\Documents\\\\Database\\\\Karyotypes\\\\Arrangement_Merged\\\\chr_18\\\\194161-del(18)(p11)-19L.bmp',\n",
       "   'D:\\\\Users\\\\Chuan\\\\Documents\\\\Database\\\\Karyotypes\\\\Arrangement_Merged\\\\chr_18\\\\194161-del(18)(p11)-20L.bmp',\n",
       "   'D:\\\\Users\\\\Chuan\\\\Documents\\\\Database\\\\Karyotypes\\\\Arrangement_Merged\\\\chr_18\\\\194161-del(18)(p11)-21L.bmp',\n",
       "   'D:\\\\Users\\\\Chuan\\\\Documents\\\\Database\\\\Karyotypes\\\\Arrangement_Merged\\\\chr_18\\\\194161-del(18)(p11)-22L.bmp',\n",
       "   'D:\\\\Users\\\\Chuan\\\\Documents\\\\Database\\\\Karyotypes\\\\Arrangement_Merged\\\\chr_18\\\\194161-del(18)(p11)-23L.bmp',\n",
       "   'D:\\\\Users\\\\Chuan\\\\Documents\\\\Database\\\\Karyotypes\\\\Arrangement_Merged\\\\chr_18\\\\194161-del(18)(p11)-24L.bmp',\n",
       "   'D:\\\\Users\\\\Chuan\\\\Documents\\\\Database\\\\Karyotypes\\\\Arrangement_Merged\\\\chr_18\\\\194161-del(18)(p11)-25L.bmp',\n",
       "   'D:\\\\Users\\\\Chuan\\\\Documents\\\\Database\\\\Karyotypes\\\\Arrangement_Merged\\\\chr_18\\\\194161-del(18)(p11)-26L.bmp',\n",
       "   'D:\\\\Users\\\\Chuan\\\\Documents\\\\Database\\\\Karyotypes\\\\Arrangement_Merged\\\\chr_18\\\\194161-del(18)(p11)-27L.bmp',\n",
       "   'D:\\\\Users\\\\Chuan\\\\Documents\\\\Database\\\\Karyotypes\\\\Arrangement_Merged\\\\chr_18\\\\194161-del(18)(p11)-28L.bmp',\n",
       "   'D:\\\\Users\\\\Chuan\\\\Documents\\\\Database\\\\Karyotypes\\\\Arrangement_Merged\\\\chr_18\\\\194161-del(18)(p11)-2L.bmp',\n",
       "   'D:\\\\Users\\\\Chuan\\\\Documents\\\\Database\\\\Karyotypes\\\\Arrangement_Merged\\\\chr_18\\\\194161-del(18)(p11)-30L.bmp',\n",
       "   'D:\\\\Users\\\\Chuan\\\\Documents\\\\Database\\\\Karyotypes\\\\Arrangement_Merged\\\\chr_18\\\\194161-del(18)(p11)-3L.bmp',\n",
       "   'D:\\\\Users\\\\Chuan\\\\Documents\\\\Database\\\\Karyotypes\\\\Arrangement_Merged\\\\chr_18\\\\194161-del(18)(p11)-4L.bmp',\n",
       "   'D:\\\\Users\\\\Chuan\\\\Documents\\\\Database\\\\Karyotypes\\\\Arrangement_Merged\\\\chr_18\\\\194161-del(18)(p11)-6L.bmp',\n",
       "   'D:\\\\Users\\\\Chuan\\\\Documents\\\\Database\\\\Karyotypes\\\\Arrangement_Merged\\\\chr_18\\\\194161-del(18)(p11)-7L.bmp',\n",
       "   'D:\\\\Users\\\\Chuan\\\\Documents\\\\Database\\\\Karyotypes\\\\Arrangement_Merged\\\\chr_18\\\\194161-del(18)(p11)-8L.bmp',\n",
       "   'D:\\\\Users\\\\Chuan\\\\Documents\\\\Database\\\\Karyotypes\\\\Arrangement_Merged\\\\chr_18\\\\194161-del(18)(p11)-9L.bmp',\n",
       "   'D:\\\\Users\\\\Chuan\\\\Documents\\\\Database\\\\Karyotypes\\\\Arrangement_Merged\\\\chr_18\\\\w21000~A.0001.K.jpg.18L.bmp',\n",
       "   'D:\\\\Users\\\\Chuan\\\\Documents\\\\Database\\\\Karyotypes\\\\Arrangement_Merged\\\\chr_18\\\\w21000~A.0001.K.jpg.18R.bmp',\n",
       "   'D:\\\\Users\\\\Chuan\\\\Documents\\\\Database\\\\Karyotypes\\\\Arrangement_Merged\\\\chr_18\\\\w21001~A.0008.K.jpg.18L.bmp',\n",
       "   'D:\\\\Users\\\\Chuan\\\\Documents\\\\Database\\\\Karyotypes\\\\Arrangement_Merged\\\\chr_18\\\\w21001~A.0008.K.jpg.18R.bmp',\n",
       "   'D:\\\\Users\\\\Chuan\\\\Documents\\\\Database\\\\Karyotypes\\\\Arrangement_Merged\\\\chr_18\\\\w21002~A.0024.K.jpg.18L.bmp',\n",
       "   'D:\\\\Users\\\\Chuan\\\\Documents\\\\Database\\\\Karyotypes\\\\Arrangement_Merged\\\\chr_18\\\\w21002~A.0024.K.jpg.18R.bmp',\n",
       "   'D:\\\\Users\\\\Chuan\\\\Documents\\\\Database\\\\Karyotypes\\\\Arrangement_Merged\\\\chr_18\\\\w21008~A.0008.K.jpg.18L.bmp',\n",
       "   'D:\\\\Users\\\\Chuan\\\\Documents\\\\Database\\\\Karyotypes\\\\Arrangement_Merged\\\\chr_18\\\\w21008~A.0008.K.jpg.18R.bmp',\n",
       "   'D:\\\\Users\\\\Chuan\\\\Documents\\\\Database\\\\Karyotypes\\\\Arrangement_Merged\\\\chr_18\\\\W21011~A.0008.K.18L.bmp',\n",
       "   'D:\\\\Users\\\\Chuan\\\\Documents\\\\Database\\\\Karyotypes\\\\Arrangement_Merged\\\\chr_18\\\\W21012~A.0019.K.18L.bmp',\n",
       "   'D:\\\\Users\\\\Chuan\\\\Documents\\\\Database\\\\Karyotypes\\\\Arrangement_Merged\\\\chr_18\\\\W21012~A.0019.K.18R.bmp',\n",
       "   'D:\\\\Users\\\\Chuan\\\\Documents\\\\Database\\\\Karyotypes\\\\Arrangement_Merged\\\\chr_18\\\\W21014~A.0005.K.18L.bmp',\n",
       "   'D:\\\\Users\\\\Chuan\\\\Documents\\\\Database\\\\Karyotypes\\\\Arrangement_Merged\\\\chr_18\\\\W21014~A.0005.K.18R.bmp',\n",
       "   'D:\\\\Users\\\\Chuan\\\\Documents\\\\Database\\\\Karyotypes\\\\Arrangement_Merged\\\\chr_18\\\\W21022~A.0007.K.jpg.18L.bmp',\n",
       "   'D:\\\\Users\\\\Chuan\\\\Documents\\\\Database\\\\Karyotypes\\\\Arrangement_Merged\\\\chr_18\\\\W21022~A.0007.K.jpg.18R.bmp',\n",
       "   'D:\\\\Users\\\\Chuan\\\\Documents\\\\Database\\\\Karyotypes\\\\Arrangement_Merged\\\\chr_18\\\\W21025~A.0002.K.jpg.18L.bmp',\n",
       "   'D:\\\\Users\\\\Chuan\\\\Documents\\\\Database\\\\Karyotypes\\\\Arrangement_Merged\\\\chr_18\\\\W21025~A.0002.K.jpg.18R.bmp',\n",
       "   'D:\\\\Users\\\\Chuan\\\\Documents\\\\Database\\\\Karyotypes\\\\Arrangement_Merged\\\\chr_18\\\\W21027~A.0003.K.18L.bmp',\n",
       "   'D:\\\\Users\\\\Chuan\\\\Documents\\\\Database\\\\Karyotypes\\\\Arrangement_Merged\\\\chr_18\\\\W21027~A.0003.K.18R.bmp',\n",
       "   'D:\\\\Users\\\\Chuan\\\\Documents\\\\Database\\\\Karyotypes\\\\Arrangement_Merged\\\\chr_18\\\\W21486~A.0020.K.bmp.18L.bmp',\n",
       "   'D:\\\\Users\\\\Chuan\\\\Documents\\\\Database\\\\Karyotypes\\\\Arrangement_Merged\\\\chr_18\\\\W21486~A.0020.K.bmp.18R.bmp',\n",
       "   'D:\\\\Users\\\\Chuan\\\\Documents\\\\Database\\\\Karyotypes\\\\Arrangement_Merged\\\\chr_18\\\\W21570~A.0001.K.jpg.18L.bmp',\n",
       "   'D:\\\\Users\\\\Chuan\\\\Documents\\\\Database\\\\Karyotypes\\\\Arrangement_Merged\\\\chr_18\\\\W21570~A.0001.K.jpg.18R.bmp',\n",
       "   'D:\\\\Users\\\\Chuan\\\\Documents\\\\Database\\\\Karyotypes\\\\Arrangement_Merged\\\\chr_18\\\\W21576~A.0010.K.jpg.18L.bmp',\n",
       "   'D:\\\\Users\\\\Chuan\\\\Documents\\\\Database\\\\Karyotypes\\\\Arrangement_Merged\\\\chr_18\\\\W21587~A.0008.K.jpg.18R.bmp',\n",
       "   'D:\\\\Users\\\\Chuan\\\\Documents\\\\Database\\\\Karyotypes\\\\Arrangement_Merged\\\\chr_18\\\\W21587~A.0010.K.jpg.18L.bmp',\n",
       "   'D:\\\\Users\\\\Chuan\\\\Documents\\\\Database\\\\Karyotypes\\\\Arrangement_Merged\\\\chr_18\\\\W21588~A.0001.K.jpg.18L.bmp',\n",
       "   'D:\\\\Users\\\\Chuan\\\\Documents\\\\Database\\\\Karyotypes\\\\Arrangement_Merged\\\\chr_18\\\\W21890~A.0005.K.jpg.18R.bmp',\n",
       "   'D:\\\\Users\\\\Chuan\\\\Documents\\\\Database\\\\Karyotypes\\\\Arrangement_Merged\\\\chr_18\\\\W21894~A.0009.K.jpg.18R.bmp',\n",
       "   'D:\\\\Users\\\\Chuan\\\\Documents\\\\Database\\\\Karyotypes\\\\Arrangement_Merged\\\\chr_18\\\\W21902~A.0010.K.jpg.18R.bmp',\n",
       "   'D:\\\\Users\\\\Chuan\\\\Documents\\\\Database\\\\Karyotypes\\\\Arrangement_Merged\\\\chr_18\\\\W21905~A.0007.K.jpg.18L.bmp',\n",
       "   'D:\\\\Users\\\\Chuan\\\\Documents\\\\Database\\\\Karyotypes\\\\Arrangement_Merged\\\\chr_18\\\\W21905~A.0007.K.jpg.18R.bmp',\n",
       "   'D:\\\\Users\\\\Chuan\\\\Documents\\\\Database\\\\Karyotypes\\\\Arrangement_Merged\\\\chr_18\\\\W21906~A.0011.K.jpg.18L.bmp',\n",
       "   'D:\\\\Users\\\\Chuan\\\\Documents\\\\Database\\\\Karyotypes\\\\Arrangement_Merged\\\\chr_18\\\\W21906~A.0011.K.jpg.18R.bmp',\n",
       "   'D:\\\\Users\\\\Chuan\\\\Documents\\\\Database\\\\Karyotypes\\\\Arrangement_Merged\\\\chr_18\\\\w22038~A.0017.K.jpg.18L.bmp',\n",
       "   'D:\\\\Users\\\\Chuan\\\\Documents\\\\Database\\\\Karyotypes\\\\Arrangement_Merged\\\\chr_18\\\\w22292~A.0027.K.jpg.18L.bmp',\n",
       "   'D:\\\\Users\\\\Chuan\\\\Documents\\\\Database\\\\Karyotypes\\\\Arrangement_Merged\\\\chr_18\\\\w22292~A.0027.K.jpg.18R.bmp',\n",
       "   'D:\\\\Users\\\\Chuan\\\\Documents\\\\Database\\\\Karyotypes\\\\Arrangement_Merged\\\\chr_18\\\\W22455~A.0002.K.jpg.18L.bmp',\n",
       "   'D:\\\\Users\\\\Chuan\\\\Documents\\\\Database\\\\Karyotypes\\\\Arrangement_Merged\\\\chr_18\\\\W22455~A.0002.K.jpg.18R.bmp',\n",
       "   'D:\\\\Users\\\\Chuan\\\\Documents\\\\Database\\\\Karyotypes\\\\Arrangement_Merged\\\\chr_18\\\\W22666-1.0002.K.jpg.18L.bmp',\n",
       "   'D:\\\\Users\\\\Chuan\\\\Documents\\\\Database\\\\Karyotypes\\\\Arrangement_Merged\\\\chr_18\\\\W22666-1.0002.K.jpg.18R.bmp',\n",
       "   'D:\\\\Users\\\\Chuan\\\\Documents\\\\Database\\\\Karyotypes\\\\Arrangement_Merged\\\\chr_18\\\\W22670~A.0006.K.jpg.18L.bmp',\n",
       "   'D:\\\\Users\\\\Chuan\\\\Documents\\\\Database\\\\Karyotypes\\\\Arrangement_Merged\\\\chr_18\\\\W22670~A.0006.K.jpg.18R.bmp',\n",
       "   'D:\\\\Users\\\\Chuan\\\\Documents\\\\Database\\\\Karyotypes\\\\Arrangement_Merged\\\\chr_18\\\\W22672~A.0004.K.jpg.18L.bmp',\n",
       "   'D:\\\\Users\\\\Chuan\\\\Documents\\\\Database\\\\Karyotypes\\\\Arrangement_Merged\\\\chr_18\\\\W22672~A.0004.K.jpg.18R.bmp',\n",
       "   'D:\\\\Users\\\\Chuan\\\\Documents\\\\Database\\\\Karyotypes\\\\Arrangement_Merged\\\\chr_18\\\\w22881~A.0017.K.jpg.18L.bmp',\n",
       "   'D:\\\\Users\\\\Chuan\\\\Documents\\\\Database\\\\Karyotypes\\\\Arrangement_Merged\\\\chr_18\\\\w22881~A.0017.K.jpg.18R.bmp',\n",
       "   'D:\\\\Users\\\\Chuan\\\\Documents\\\\Database\\\\Karyotypes\\\\Arrangement_Merged\\\\chr_18\\\\W23070~A.0001.K.jpg.18L.bmp',\n",
       "   'D:\\\\Users\\\\Chuan\\\\Documents\\\\Database\\\\Karyotypes\\\\Arrangement_Merged\\\\chr_18\\\\W23070~A.0001.K.jpg.18R.bmp',\n",
       "   'D:\\\\Users\\\\Chuan\\\\Documents\\\\Database\\\\Karyotypes\\\\Arrangement_Merged\\\\chr_18\\\\W23075-1~A.0017.K.jpg.18L.bmp',\n",
       "   'D:\\\\Users\\\\Chuan\\\\Documents\\\\Database\\\\Karyotypes\\\\Arrangement_Merged\\\\chr_18\\\\W23075-1~A.0017.K.jpg.18R.bmp',\n",
       "   'D:\\\\Users\\\\Chuan\\\\Documents\\\\Database\\\\Karyotypes\\\\Arrangement_Merged\\\\chr_18\\\\W23082.0026.K.jpg.18R.bmp',\n",
       "   'D:\\\\Users\\\\Chuan\\\\Documents\\\\Database\\\\Karyotypes\\\\Arrangement_Merged\\\\chr_18\\\\W23084~A.0003.K.jp.18L.bmp',\n",
       "   'D:\\\\Users\\\\Chuan\\\\Documents\\\\Database\\\\Karyotypes\\\\Arrangement_Merged\\\\chr_18\\\\W23084~A.0003.K.jp.18R.bmp']},\n",
       " 'chr_18_p11_deletion': {'0': ['D:\\\\Users\\\\Chuan\\\\Documents\\\\Database\\\\Karyotypes\\\\Arrangement_Merged\\\\chr_18_p11_deletion\\\\183873-del(18)(p11)-10R.bmp',\n",
       "   'D:\\\\Users\\\\Chuan\\\\Documents\\\\Database\\\\Karyotypes\\\\Arrangement_Merged\\\\chr_18_p11_deletion\\\\183873-del(18)(p11)-11R.bmp',\n",
       "   'D:\\\\Users\\\\Chuan\\\\Documents\\\\Database\\\\Karyotypes\\\\Arrangement_Merged\\\\chr_18_p11_deletion\\\\183873-del(18)(p11)-13R.bmp',\n",
       "   'D:\\\\Users\\\\Chuan\\\\Documents\\\\Database\\\\Karyotypes\\\\Arrangement_Merged\\\\chr_18_p11_deletion\\\\183873-del(18)(p11)-14R.bmp',\n",
       "   'D:\\\\Users\\\\Chuan\\\\Documents\\\\Database\\\\Karyotypes\\\\Arrangement_Merged\\\\chr_18_p11_deletion\\\\183873-del(18)(p11)-15R.bmp',\n",
       "   'D:\\\\Users\\\\Chuan\\\\Documents\\\\Database\\\\Karyotypes\\\\Arrangement_Merged\\\\chr_18_p11_deletion\\\\183873-del(18)(p11)-16R.bmp',\n",
       "   'D:\\\\Users\\\\Chuan\\\\Documents\\\\Database\\\\Karyotypes\\\\Arrangement_Merged\\\\chr_18_p11_deletion\\\\183873-del(18)(p11)-17R.bmp',\n",
       "   'D:\\\\Users\\\\Chuan\\\\Documents\\\\Database\\\\Karyotypes\\\\Arrangement_Merged\\\\chr_18_p11_deletion\\\\183873-del(18)(p11)-18R.bmp',\n",
       "   'D:\\\\Users\\\\Chuan\\\\Documents\\\\Database\\\\Karyotypes\\\\Arrangement_Merged\\\\chr_18_p11_deletion\\\\183873-del(18)(p11)-19R.bmp',\n",
       "   'D:\\\\Users\\\\Chuan\\\\Documents\\\\Database\\\\Karyotypes\\\\Arrangement_Merged\\\\chr_18_p11_deletion\\\\183873-del(18)(p11)-20R.bmp',\n",
       "   'D:\\\\Users\\\\Chuan\\\\Documents\\\\Database\\\\Karyotypes\\\\Arrangement_Merged\\\\chr_18_p11_deletion\\\\183873-del(18)(p11)-21R.bmp',\n",
       "   'D:\\\\Users\\\\Chuan\\\\Documents\\\\Database\\\\Karyotypes\\\\Arrangement_Merged\\\\chr_18_p11_deletion\\\\183873-del(18)(p11)-22R.bmp',\n",
       "   'D:\\\\Users\\\\Chuan\\\\Documents\\\\Database\\\\Karyotypes\\\\Arrangement_Merged\\\\chr_18_p11_deletion\\\\183873-del(18)(p11)-23R.bmp',\n",
       "   'D:\\\\Users\\\\Chuan\\\\Documents\\\\Database\\\\Karyotypes\\\\Arrangement_Merged\\\\chr_18_p11_deletion\\\\183873-del(18)(p11)-24R.bmp',\n",
       "   'D:\\\\Users\\\\Chuan\\\\Documents\\\\Database\\\\Karyotypes\\\\Arrangement_Merged\\\\chr_18_p11_deletion\\\\183873-del(18)(p11)-25R.bmp',\n",
       "   'D:\\\\Users\\\\Chuan\\\\Documents\\\\Database\\\\Karyotypes\\\\Arrangement_Merged\\\\chr_18_p11_deletion\\\\183873-del(18)(p11)-2R.bmp',\n",
       "   'D:\\\\Users\\\\Chuan\\\\Documents\\\\Database\\\\Karyotypes\\\\Arrangement_Merged\\\\chr_18_p11_deletion\\\\183873-del(18)(p11)-3R.bmp',\n",
       "   'D:\\\\Users\\\\Chuan\\\\Documents\\\\Database\\\\Karyotypes\\\\Arrangement_Merged\\\\chr_18_p11_deletion\\\\183873-del(18)(p11)-5R.bmp',\n",
       "   'D:\\\\Users\\\\Chuan\\\\Documents\\\\Database\\\\Karyotypes\\\\Arrangement_Merged\\\\chr_18_p11_deletion\\\\183873-del(18)(p11)-6R.bmp',\n",
       "   'D:\\\\Users\\\\Chuan\\\\Documents\\\\Database\\\\Karyotypes\\\\Arrangement_Merged\\\\chr_18_p11_deletion\\\\183873-del(18)(p11)-7R.bmp',\n",
       "   'D:\\\\Users\\\\Chuan\\\\Documents\\\\Database\\\\Karyotypes\\\\Arrangement_Merged\\\\chr_18_p11_deletion\\\\183873-del(18)(p11)-8R.bmp',\n",
       "   'D:\\\\Users\\\\Chuan\\\\Documents\\\\Database\\\\Karyotypes\\\\Arrangement_Merged\\\\chr_18_p11_deletion\\\\183873-del(18)(p11)-9R.bmp',\n",
       "   'D:\\\\Users\\\\Chuan\\\\Documents\\\\Database\\\\Karyotypes\\\\Arrangement_Merged\\\\chr_18_p11_deletion\\\\190325-1.jpg_18p11.bmp',\n",
       "   'D:\\\\Users\\\\Chuan\\\\Documents\\\\Database\\\\Karyotypes\\\\Arrangement_Merged\\\\chr_18_p11_deletion\\\\190325-12.jpg_18p11.bmp',\n",
       "   'D:\\\\Users\\\\Chuan\\\\Documents\\\\Database\\\\Karyotypes\\\\Arrangement_Merged\\\\chr_18_p11_deletion\\\\190325-13.jpg_18p11.bmp',\n",
       "   'D:\\\\Users\\\\Chuan\\\\Documents\\\\Database\\\\Karyotypes\\\\Arrangement_Merged\\\\chr_18_p11_deletion\\\\190325-14.jpg_18p11.bmp',\n",
       "   'D:\\\\Users\\\\Chuan\\\\Documents\\\\Database\\\\Karyotypes\\\\Arrangement_Merged\\\\chr_18_p11_deletion\\\\190325-15.jpg_18p11.bmp',\n",
       "   'D:\\\\Users\\\\Chuan\\\\Documents\\\\Database\\\\Karyotypes\\\\Arrangement_Merged\\\\chr_18_p11_deletion\\\\190325-16.jpg_18p11.bmp',\n",
       "   'D:\\\\Users\\\\Chuan\\\\Documents\\\\Database\\\\Karyotypes\\\\Arrangement_Merged\\\\chr_18_p11_deletion\\\\190325-19.jpg_18del_p11.bmp',\n",
       "   'D:\\\\Users\\\\Chuan\\\\Documents\\\\Database\\\\Karyotypes\\\\Arrangement_Merged\\\\chr_18_p11_deletion\\\\190325-2.jpg_18p11.bmp',\n",
       "   'D:\\\\Users\\\\Chuan\\\\Documents\\\\Database\\\\Karyotypes\\\\Arrangement_Merged\\\\chr_18_p11_deletion\\\\190325-20.jpg.18del_p11.bmp',\n",
       "   'D:\\\\Users\\\\Chuan\\\\Documents\\\\Database\\\\Karyotypes\\\\Arrangement_Merged\\\\chr_18_p11_deletion\\\\190325-3.jpg_18p11.bmp',\n",
       "   'D:\\\\Users\\\\Chuan\\\\Documents\\\\Database\\\\Karyotypes\\\\Arrangement_Merged\\\\chr_18_p11_deletion\\\\190325-4.jpg_18p11.bmp',\n",
       "   'D:\\\\Users\\\\Chuan\\\\Documents\\\\Database\\\\Karyotypes\\\\Arrangement_Merged\\\\chr_18_p11_deletion\\\\190325-6.jpg_18p11.bmp',\n",
       "   'D:\\\\Users\\\\Chuan\\\\Documents\\\\Database\\\\Karyotypes\\\\Arrangement_Merged\\\\chr_18_p11_deletion\\\\190325-7.jpg_18p11.bmp',\n",
       "   'D:\\\\Users\\\\Chuan\\\\Documents\\\\Database\\\\Karyotypes\\\\Arrangement_Merged\\\\chr_18_p11_deletion\\\\190325-8.jpg_18p11.bmp',\n",
       "   'D:\\\\Users\\\\Chuan\\\\Documents\\\\Database\\\\Karyotypes\\\\Arrangement_Merged\\\\chr_18_p11_deletion\\\\194161-del(18)(p11)-10R.bmp',\n",
       "   'D:\\\\Users\\\\Chuan\\\\Documents\\\\Database\\\\Karyotypes\\\\Arrangement_Merged\\\\chr_18_p11_deletion\\\\194161-del(18)(p11)-11R.bmp',\n",
       "   'D:\\\\Users\\\\Chuan\\\\Documents\\\\Database\\\\Karyotypes\\\\Arrangement_Merged\\\\chr_18_p11_deletion\\\\194161-del(18)(p11)-13R.bmp',\n",
       "   'D:\\\\Users\\\\Chuan\\\\Documents\\\\Database\\\\Karyotypes\\\\Arrangement_Merged\\\\chr_18_p11_deletion\\\\194161-del(18)(p11)-14R.bmp',\n",
       "   'D:\\\\Users\\\\Chuan\\\\Documents\\\\Database\\\\Karyotypes\\\\Arrangement_Merged\\\\chr_18_p11_deletion\\\\194161-del(18)(p11)-15R.bmp',\n",
       "   'D:\\\\Users\\\\Chuan\\\\Documents\\\\Database\\\\Karyotypes\\\\Arrangement_Merged\\\\chr_18_p11_deletion\\\\194161-del(18)(p11)-16R.bmp',\n",
       "   'D:\\\\Users\\\\Chuan\\\\Documents\\\\Database\\\\Karyotypes\\\\Arrangement_Merged\\\\chr_18_p11_deletion\\\\194161-del(18)(p11)-17R.bmp',\n",
       "   'D:\\\\Users\\\\Chuan\\\\Documents\\\\Database\\\\Karyotypes\\\\Arrangement_Merged\\\\chr_18_p11_deletion\\\\194161-del(18)(p11)-20R.bmp',\n",
       "   'D:\\\\Users\\\\Chuan\\\\Documents\\\\Database\\\\Karyotypes\\\\Arrangement_Merged\\\\chr_18_p11_deletion\\\\194161-del(18)(p11)-21R.bmp',\n",
       "   'D:\\\\Users\\\\Chuan\\\\Documents\\\\Database\\\\Karyotypes\\\\Arrangement_Merged\\\\chr_18_p11_deletion\\\\194161-del(18)(p11)-22R.bmp',\n",
       "   'D:\\\\Users\\\\Chuan\\\\Documents\\\\Database\\\\Karyotypes\\\\Arrangement_Merged\\\\chr_18_p11_deletion\\\\194161-del(18)(p11)-23R.bmp',\n",
       "   'D:\\\\Users\\\\Chuan\\\\Documents\\\\Database\\\\Karyotypes\\\\Arrangement_Merged\\\\chr_18_p11_deletion\\\\194161-del(18)(p11)-25R.bmp',\n",
       "   'D:\\\\Users\\\\Chuan\\\\Documents\\\\Database\\\\Karyotypes\\\\Arrangement_Merged\\\\chr_18_p11_deletion\\\\194161-del(18)(p11)-26R.bmp',\n",
       "   'D:\\\\Users\\\\Chuan\\\\Documents\\\\Database\\\\Karyotypes\\\\Arrangement_Merged\\\\chr_18_p11_deletion\\\\194161-del(18)(p11)-27R.bmp',\n",
       "   'D:\\\\Users\\\\Chuan\\\\Documents\\\\Database\\\\Karyotypes\\\\Arrangement_Merged\\\\chr_18_p11_deletion\\\\194161-del(18)(p11)-28R.bmp',\n",
       "   'D:\\\\Users\\\\Chuan\\\\Documents\\\\Database\\\\Karyotypes\\\\Arrangement_Merged\\\\chr_18_p11_deletion\\\\194161-del(18)(p11)-29R.bmp',\n",
       "   'D:\\\\Users\\\\Chuan\\\\Documents\\\\Database\\\\Karyotypes\\\\Arrangement_Merged\\\\chr_18_p11_deletion\\\\194161-del(18)(p11)-2R.bmp',\n",
       "   'D:\\\\Users\\\\Chuan\\\\Documents\\\\Database\\\\Karyotypes\\\\Arrangement_Merged\\\\chr_18_p11_deletion\\\\194161-del(18)(p11)-30R.bmp',\n",
       "   'D:\\\\Users\\\\Chuan\\\\Documents\\\\Database\\\\Karyotypes\\\\Arrangement_Merged\\\\chr_18_p11_deletion\\\\194161-del(18)(p11)-3R.bmp',\n",
       "   'D:\\\\Users\\\\Chuan\\\\Documents\\\\Database\\\\Karyotypes\\\\Arrangement_Merged\\\\chr_18_p11_deletion\\\\194161-del(18)(p11)-4R.bmp',\n",
       "   'D:\\\\Users\\\\Chuan\\\\Documents\\\\Database\\\\Karyotypes\\\\Arrangement_Merged\\\\chr_18_p11_deletion\\\\194161-del(18)(p11)-6R.bmp',\n",
       "   'D:\\\\Users\\\\Chuan\\\\Documents\\\\Database\\\\Karyotypes\\\\Arrangement_Merged\\\\chr_18_p11_deletion\\\\194161-del(18)(p11)-7R.bmp',\n",
       "   'D:\\\\Users\\\\Chuan\\\\Documents\\\\Database\\\\Karyotypes\\\\Arrangement_Merged\\\\chr_18_p11_deletion\\\\194161-del(18)(p11)-8R.bmp',\n",
       "   'D:\\\\Users\\\\Chuan\\\\Documents\\\\Database\\\\Karyotypes\\\\Arrangement_Merged\\\\chr_18_p11_deletion\\\\194161-del(18)(p11)-9R.bmp'],\n",
       "  '1': ['D:\\\\Users\\\\Chuan\\\\Documents\\\\Database\\\\Karyotypes\\\\Arrangement_Merged\\\\chr_18_p11_deletion\\\\183873-del(18)(p11)-10R.bmp',\n",
       "   'D:\\\\Users\\\\Chuan\\\\Documents\\\\Database\\\\Karyotypes\\\\Arrangement_Merged\\\\chr_18_p11_deletion\\\\183873-del(18)(p11)-11R.bmp',\n",
       "   'D:\\\\Users\\\\Chuan\\\\Documents\\\\Database\\\\Karyotypes\\\\Arrangement_Merged\\\\chr_18_p11_deletion\\\\183873-del(18)(p11)-12R.bmp',\n",
       "   'D:\\\\Users\\\\Chuan\\\\Documents\\\\Database\\\\Karyotypes\\\\Arrangement_Merged\\\\chr_18_p11_deletion\\\\183873-del(18)(p11)-13R.bmp',\n",
       "   'D:\\\\Users\\\\Chuan\\\\Documents\\\\Database\\\\Karyotypes\\\\Arrangement_Merged\\\\chr_18_p11_deletion\\\\183873-del(18)(p11)-14R.bmp',\n",
       "   'D:\\\\Users\\\\Chuan\\\\Documents\\\\Database\\\\Karyotypes\\\\Arrangement_Merged\\\\chr_18_p11_deletion\\\\183873-del(18)(p11)-15R.bmp',\n",
       "   'D:\\\\Users\\\\Chuan\\\\Documents\\\\Database\\\\Karyotypes\\\\Arrangement_Merged\\\\chr_18_p11_deletion\\\\183873-del(18)(p11)-16R.bmp',\n",
       "   'D:\\\\Users\\\\Chuan\\\\Documents\\\\Database\\\\Karyotypes\\\\Arrangement_Merged\\\\chr_18_p11_deletion\\\\183873-del(18)(p11)-17R.bmp',\n",
       "   'D:\\\\Users\\\\Chuan\\\\Documents\\\\Database\\\\Karyotypes\\\\Arrangement_Merged\\\\chr_18_p11_deletion\\\\183873-del(18)(p11)-18R.bmp',\n",
       "   'D:\\\\Users\\\\Chuan\\\\Documents\\\\Database\\\\Karyotypes\\\\Arrangement_Merged\\\\chr_18_p11_deletion\\\\183873-del(18)(p11)-19R.bmp',\n",
       "   'D:\\\\Users\\\\Chuan\\\\Documents\\\\Database\\\\Karyotypes\\\\Arrangement_Merged\\\\chr_18_p11_deletion\\\\183873-del(18)(p11)-1R.bmp',\n",
       "   'D:\\\\Users\\\\Chuan\\\\Documents\\\\Database\\\\Karyotypes\\\\Arrangement_Merged\\\\chr_18_p11_deletion\\\\183873-del(18)(p11)-20R.bmp',\n",
       "   'D:\\\\Users\\\\Chuan\\\\Documents\\\\Database\\\\Karyotypes\\\\Arrangement_Merged\\\\chr_18_p11_deletion\\\\183873-del(18)(p11)-21R.bmp',\n",
       "   'D:\\\\Users\\\\Chuan\\\\Documents\\\\Database\\\\Karyotypes\\\\Arrangement_Merged\\\\chr_18_p11_deletion\\\\183873-del(18)(p11)-22R.bmp',\n",
       "   'D:\\\\Users\\\\Chuan\\\\Documents\\\\Database\\\\Karyotypes\\\\Arrangement_Merged\\\\chr_18_p11_deletion\\\\183873-del(18)(p11)-23R.bmp',\n",
       "   'D:\\\\Users\\\\Chuan\\\\Documents\\\\Database\\\\Karyotypes\\\\Arrangement_Merged\\\\chr_18_p11_deletion\\\\183873-del(18)(p11)-25R.bmp',\n",
       "   'D:\\\\Users\\\\Chuan\\\\Documents\\\\Database\\\\Karyotypes\\\\Arrangement_Merged\\\\chr_18_p11_deletion\\\\183873-del(18)(p11)-2R.bmp',\n",
       "   'D:\\\\Users\\\\Chuan\\\\Documents\\\\Database\\\\Karyotypes\\\\Arrangement_Merged\\\\chr_18_p11_deletion\\\\183873-del(18)(p11)-3R.bmp',\n",
       "   'D:\\\\Users\\\\Chuan\\\\Documents\\\\Database\\\\Karyotypes\\\\Arrangement_Merged\\\\chr_18_p11_deletion\\\\183873-del(18)(p11)-4R.bmp',\n",
       "   'D:\\\\Users\\\\Chuan\\\\Documents\\\\Database\\\\Karyotypes\\\\Arrangement_Merged\\\\chr_18_p11_deletion\\\\183873-del(18)(p11)-5R.bmp',\n",
       "   'D:\\\\Users\\\\Chuan\\\\Documents\\\\Database\\\\Karyotypes\\\\Arrangement_Merged\\\\chr_18_p11_deletion\\\\183873-del(18)(p11)-7R.bmp',\n",
       "   'D:\\\\Users\\\\Chuan\\\\Documents\\\\Database\\\\Karyotypes\\\\Arrangement_Merged\\\\chr_18_p11_deletion\\\\183873-del(18)(p11)-8R.bmp',\n",
       "   'D:\\\\Users\\\\Chuan\\\\Documents\\\\Database\\\\Karyotypes\\\\Arrangement_Merged\\\\chr_18_p11_deletion\\\\183873-del(18)(p11)-9R.bmp',\n",
       "   'D:\\\\Users\\\\Chuan\\\\Documents\\\\Database\\\\Karyotypes\\\\Arrangement_Merged\\\\chr_18_p11_deletion\\\\190325-1.jpg_18p11.bmp',\n",
       "   'D:\\\\Users\\\\Chuan\\\\Documents\\\\Database\\\\Karyotypes\\\\Arrangement_Merged\\\\chr_18_p11_deletion\\\\190325-10.jpg_18p11.bmp',\n",
       "   'D:\\\\Users\\\\Chuan\\\\Documents\\\\Database\\\\Karyotypes\\\\Arrangement_Merged\\\\chr_18_p11_deletion\\\\190325-11.jpg_18p11.bmp',\n",
       "   'D:\\\\Users\\\\Chuan\\\\Documents\\\\Database\\\\Karyotypes\\\\Arrangement_Merged\\\\chr_18_p11_deletion\\\\190325-12.jpg_18p11.bmp',\n",
       "   'D:\\\\Users\\\\Chuan\\\\Documents\\\\Database\\\\Karyotypes\\\\Arrangement_Merged\\\\chr_18_p11_deletion\\\\190325-13.jpg_18p11.bmp',\n",
       "   'D:\\\\Users\\\\Chuan\\\\Documents\\\\Database\\\\Karyotypes\\\\Arrangement_Merged\\\\chr_18_p11_deletion\\\\190325-14.jpg_18p11.bmp',\n",
       "   'D:\\\\Users\\\\Chuan\\\\Documents\\\\Database\\\\Karyotypes\\\\Arrangement_Merged\\\\chr_18_p11_deletion\\\\190325-16.jpg_18p11.bmp',\n",
       "   'D:\\\\Users\\\\Chuan\\\\Documents\\\\Database\\\\Karyotypes\\\\Arrangement_Merged\\\\chr_18_p11_deletion\\\\190325-17.jpg_18p11.bmp',\n",
       "   'D:\\\\Users\\\\Chuan\\\\Documents\\\\Database\\\\Karyotypes\\\\Arrangement_Merged\\\\chr_18_p11_deletion\\\\190325-18.jpg_18p11.bmp',\n",
       "   'D:\\\\Users\\\\Chuan\\\\Documents\\\\Database\\\\Karyotypes\\\\Arrangement_Merged\\\\chr_18_p11_deletion\\\\190325-20.jpg.18del_p11.bmp',\n",
       "   'D:\\\\Users\\\\Chuan\\\\Documents\\\\Database\\\\Karyotypes\\\\Arrangement_Merged\\\\chr_18_p11_deletion\\\\190325-5.jpg_18p11.bmp',\n",
       "   'D:\\\\Users\\\\Chuan\\\\Documents\\\\Database\\\\Karyotypes\\\\Arrangement_Merged\\\\chr_18_p11_deletion\\\\190325-6.jpg_18p11.bmp',\n",
       "   'D:\\\\Users\\\\Chuan\\\\Documents\\\\Database\\\\Karyotypes\\\\Arrangement_Merged\\\\chr_18_p11_deletion\\\\190325-7.jpg_18p11.bmp',\n",
       "   'D:\\\\Users\\\\Chuan\\\\Documents\\\\Database\\\\Karyotypes\\\\Arrangement_Merged\\\\chr_18_p11_deletion\\\\190325-9.jpg_18p11.bmp',\n",
       "   'D:\\\\Users\\\\Chuan\\\\Documents\\\\Database\\\\Karyotypes\\\\Arrangement_Merged\\\\chr_18_p11_deletion\\\\194161-del(18)(p11)-10R.bmp',\n",
       "   'D:\\\\Users\\\\Chuan\\\\Documents\\\\Database\\\\Karyotypes\\\\Arrangement_Merged\\\\chr_18_p11_deletion\\\\194161-del(18)(p11)-11R.bmp',\n",
       "   'D:\\\\Users\\\\Chuan\\\\Documents\\\\Database\\\\Karyotypes\\\\Arrangement_Merged\\\\chr_18_p11_deletion\\\\194161-del(18)(p11)-12R.bmp',\n",
       "   'D:\\\\Users\\\\Chuan\\\\Documents\\\\Database\\\\Karyotypes\\\\Arrangement_Merged\\\\chr_18_p11_deletion\\\\194161-del(18)(p11)-13R.bmp',\n",
       "   'D:\\\\Users\\\\Chuan\\\\Documents\\\\Database\\\\Karyotypes\\\\Arrangement_Merged\\\\chr_18_p11_deletion\\\\194161-del(18)(p11)-14R.bmp',\n",
       "   'D:\\\\Users\\\\Chuan\\\\Documents\\\\Database\\\\Karyotypes\\\\Arrangement_Merged\\\\chr_18_p11_deletion\\\\194161-del(18)(p11)-15R.bmp',\n",
       "   'D:\\\\Users\\\\Chuan\\\\Documents\\\\Database\\\\Karyotypes\\\\Arrangement_Merged\\\\chr_18_p11_deletion\\\\194161-del(18)(p11)-16R.bmp',\n",
       "   'D:\\\\Users\\\\Chuan\\\\Documents\\\\Database\\\\Karyotypes\\\\Arrangement_Merged\\\\chr_18_p11_deletion\\\\194161-del(18)(p11)-18R.bmp',\n",
       "   'D:\\\\Users\\\\Chuan\\\\Documents\\\\Database\\\\Karyotypes\\\\Arrangement_Merged\\\\chr_18_p11_deletion\\\\194161-del(18)(p11)-19R.bmp',\n",
       "   'D:\\\\Users\\\\Chuan\\\\Documents\\\\Database\\\\Karyotypes\\\\Arrangement_Merged\\\\chr_18_p11_deletion\\\\194161-del(18)(p11)-1R.bmp',\n",
       "   'D:\\\\Users\\\\Chuan\\\\Documents\\\\Database\\\\Karyotypes\\\\Arrangement_Merged\\\\chr_18_p11_deletion\\\\194161-del(18)(p11)-21R.bmp',\n",
       "   'D:\\\\Users\\\\Chuan\\\\Documents\\\\Database\\\\Karyotypes\\\\Arrangement_Merged\\\\chr_18_p11_deletion\\\\194161-del(18)(p11)-24R.bmp',\n",
       "   'D:\\\\Users\\\\Chuan\\\\Documents\\\\Database\\\\Karyotypes\\\\Arrangement_Merged\\\\chr_18_p11_deletion\\\\194161-del(18)(p11)-25R.bmp',\n",
       "   'D:\\\\Users\\\\Chuan\\\\Documents\\\\Database\\\\Karyotypes\\\\Arrangement_Merged\\\\chr_18_p11_deletion\\\\194161-del(18)(p11)-26R.bmp',\n",
       "   'D:\\\\Users\\\\Chuan\\\\Documents\\\\Database\\\\Karyotypes\\\\Arrangement_Merged\\\\chr_18_p11_deletion\\\\194161-del(18)(p11)-27R.bmp',\n",
       "   'D:\\\\Users\\\\Chuan\\\\Documents\\\\Database\\\\Karyotypes\\\\Arrangement_Merged\\\\chr_18_p11_deletion\\\\194161-del(18)(p11)-28R.bmp',\n",
       "   'D:\\\\Users\\\\Chuan\\\\Documents\\\\Database\\\\Karyotypes\\\\Arrangement_Merged\\\\chr_18_p11_deletion\\\\194161-del(18)(p11)-2R.bmp',\n",
       "   'D:\\\\Users\\\\Chuan\\\\Documents\\\\Database\\\\Karyotypes\\\\Arrangement_Merged\\\\chr_18_p11_deletion\\\\194161-del(18)(p11)-30R.bmp',\n",
       "   'D:\\\\Users\\\\Chuan\\\\Documents\\\\Database\\\\Karyotypes\\\\Arrangement_Merged\\\\chr_18_p11_deletion\\\\194161-del(18)(p11)-4R.bmp',\n",
       "   'D:\\\\Users\\\\Chuan\\\\Documents\\\\Database\\\\Karyotypes\\\\Arrangement_Merged\\\\chr_18_p11_deletion\\\\194161-del(18)(p11)-5R.bmp',\n",
       "   'D:\\\\Users\\\\Chuan\\\\Documents\\\\Database\\\\Karyotypes\\\\Arrangement_Merged\\\\chr_18_p11_deletion\\\\194161-del(18)(p11)-6R.bmp',\n",
       "   'D:\\\\Users\\\\Chuan\\\\Documents\\\\Database\\\\Karyotypes\\\\Arrangement_Merged\\\\chr_18_p11_deletion\\\\194161-del(18)(p11)-7R.bmp',\n",
       "   'D:\\\\Users\\\\Chuan\\\\Documents\\\\Database\\\\Karyotypes\\\\Arrangement_Merged\\\\chr_18_p11_deletion\\\\194161-del(18)(p11)-9R.bmp'],\n",
       "  '2': ['D:\\\\Users\\\\Chuan\\\\Documents\\\\Database\\\\Karyotypes\\\\Arrangement_Merged\\\\chr_18_p11_deletion\\\\183873-del(18)(p11)-11R.bmp',\n",
       "   'D:\\\\Users\\\\Chuan\\\\Documents\\\\Database\\\\Karyotypes\\\\Arrangement_Merged\\\\chr_18_p11_deletion\\\\183873-del(18)(p11)-12R.bmp',\n",
       "   'D:\\\\Users\\\\Chuan\\\\Documents\\\\Database\\\\Karyotypes\\\\Arrangement_Merged\\\\chr_18_p11_deletion\\\\183873-del(18)(p11)-14R.bmp',\n",
       "   'D:\\\\Users\\\\Chuan\\\\Documents\\\\Database\\\\Karyotypes\\\\Arrangement_Merged\\\\chr_18_p11_deletion\\\\183873-del(18)(p11)-15R.bmp',\n",
       "   'D:\\\\Users\\\\Chuan\\\\Documents\\\\Database\\\\Karyotypes\\\\Arrangement_Merged\\\\chr_18_p11_deletion\\\\183873-del(18)(p11)-16R.bmp',\n",
       "   'D:\\\\Users\\\\Chuan\\\\Documents\\\\Database\\\\Karyotypes\\\\Arrangement_Merged\\\\chr_18_p11_deletion\\\\183873-del(18)(p11)-19R.bmp',\n",
       "   'D:\\\\Users\\\\Chuan\\\\Documents\\\\Database\\\\Karyotypes\\\\Arrangement_Merged\\\\chr_18_p11_deletion\\\\183873-del(18)(p11)-1R.bmp',\n",
       "   'D:\\\\Users\\\\Chuan\\\\Documents\\\\Database\\\\Karyotypes\\\\Arrangement_Merged\\\\chr_18_p11_deletion\\\\183873-del(18)(p11)-20R.bmp',\n",
       "   'D:\\\\Users\\\\Chuan\\\\Documents\\\\Database\\\\Karyotypes\\\\Arrangement_Merged\\\\chr_18_p11_deletion\\\\183873-del(18)(p11)-21R.bmp',\n",
       "   'D:\\\\Users\\\\Chuan\\\\Documents\\\\Database\\\\Karyotypes\\\\Arrangement_Merged\\\\chr_18_p11_deletion\\\\183873-del(18)(p11)-22R.bmp',\n",
       "   'D:\\\\Users\\\\Chuan\\\\Documents\\\\Database\\\\Karyotypes\\\\Arrangement_Merged\\\\chr_18_p11_deletion\\\\183873-del(18)(p11)-23R.bmp',\n",
       "   'D:\\\\Users\\\\Chuan\\\\Documents\\\\Database\\\\Karyotypes\\\\Arrangement_Merged\\\\chr_18_p11_deletion\\\\183873-del(18)(p11)-24R.bmp',\n",
       "   'D:\\\\Users\\\\Chuan\\\\Documents\\\\Database\\\\Karyotypes\\\\Arrangement_Merged\\\\chr_18_p11_deletion\\\\183873-del(18)(p11)-25R.bmp',\n",
       "   'D:\\\\Users\\\\Chuan\\\\Documents\\\\Database\\\\Karyotypes\\\\Arrangement_Merged\\\\chr_18_p11_deletion\\\\183873-del(18)(p11)-3R.bmp',\n",
       "   'D:\\\\Users\\\\Chuan\\\\Documents\\\\Database\\\\Karyotypes\\\\Arrangement_Merged\\\\chr_18_p11_deletion\\\\183873-del(18)(p11)-4R.bmp',\n",
       "   'D:\\\\Users\\\\Chuan\\\\Documents\\\\Database\\\\Karyotypes\\\\Arrangement_Merged\\\\chr_18_p11_deletion\\\\183873-del(18)(p11)-5R.bmp',\n",
       "   'D:\\\\Users\\\\Chuan\\\\Documents\\\\Database\\\\Karyotypes\\\\Arrangement_Merged\\\\chr_18_p11_deletion\\\\183873-del(18)(p11)-6R.bmp',\n",
       "   'D:\\\\Users\\\\Chuan\\\\Documents\\\\Database\\\\Karyotypes\\\\Arrangement_Merged\\\\chr_18_p11_deletion\\\\183873-del(18)(p11)-7R.bmp',\n",
       "   'D:\\\\Users\\\\Chuan\\\\Documents\\\\Database\\\\Karyotypes\\\\Arrangement_Merged\\\\chr_18_p11_deletion\\\\183873-del(18)(p11)-8R.bmp',\n",
       "   'D:\\\\Users\\\\Chuan\\\\Documents\\\\Database\\\\Karyotypes\\\\Arrangement_Merged\\\\chr_18_p11_deletion\\\\190325-1.jpg_18p11.bmp',\n",
       "   'D:\\\\Users\\\\Chuan\\\\Documents\\\\Database\\\\Karyotypes\\\\Arrangement_Merged\\\\chr_18_p11_deletion\\\\190325-10.jpg_18p11.bmp',\n",
       "   'D:\\\\Users\\\\Chuan\\\\Documents\\\\Database\\\\Karyotypes\\\\Arrangement_Merged\\\\chr_18_p11_deletion\\\\190325-11.jpg_18p11.bmp',\n",
       "   'D:\\\\Users\\\\Chuan\\\\Documents\\\\Database\\\\Karyotypes\\\\Arrangement_Merged\\\\chr_18_p11_deletion\\\\190325-12.jpg_18p11.bmp',\n",
       "   'D:\\\\Users\\\\Chuan\\\\Documents\\\\Database\\\\Karyotypes\\\\Arrangement_Merged\\\\chr_18_p11_deletion\\\\190325-13.jpg_18p11.bmp',\n",
       "   'D:\\\\Users\\\\Chuan\\\\Documents\\\\Database\\\\Karyotypes\\\\Arrangement_Merged\\\\chr_18_p11_deletion\\\\190325-14.jpg_18p11.bmp',\n",
       "   'D:\\\\Users\\\\Chuan\\\\Documents\\\\Database\\\\Karyotypes\\\\Arrangement_Merged\\\\chr_18_p11_deletion\\\\190325-15.jpg_18p11.bmp',\n",
       "   'D:\\\\Users\\\\Chuan\\\\Documents\\\\Database\\\\Karyotypes\\\\Arrangement_Merged\\\\chr_18_p11_deletion\\\\190325-16.jpg_18p11.bmp',\n",
       "   'D:\\\\Users\\\\Chuan\\\\Documents\\\\Database\\\\Karyotypes\\\\Arrangement_Merged\\\\chr_18_p11_deletion\\\\190325-17.jpg_18p11.bmp',\n",
       "   'D:\\\\Users\\\\Chuan\\\\Documents\\\\Database\\\\Karyotypes\\\\Arrangement_Merged\\\\chr_18_p11_deletion\\\\190325-18.jpg_18p11.bmp',\n",
       "   'D:\\\\Users\\\\Chuan\\\\Documents\\\\Database\\\\Karyotypes\\\\Arrangement_Merged\\\\chr_18_p11_deletion\\\\190325-19.jpg_18del_p11.bmp',\n",
       "   'D:\\\\Users\\\\Chuan\\\\Documents\\\\Database\\\\Karyotypes\\\\Arrangement_Merged\\\\chr_18_p11_deletion\\\\190325-2.jpg_18p11.bmp',\n",
       "   'D:\\\\Users\\\\Chuan\\\\Documents\\\\Database\\\\Karyotypes\\\\Arrangement_Merged\\\\chr_18_p11_deletion\\\\190325-20.jpg.18del_p11.bmp',\n",
       "   'D:\\\\Users\\\\Chuan\\\\Documents\\\\Database\\\\Karyotypes\\\\Arrangement_Merged\\\\chr_18_p11_deletion\\\\190325-3.jpg_18p11.bmp',\n",
       "   'D:\\\\Users\\\\Chuan\\\\Documents\\\\Database\\\\Karyotypes\\\\Arrangement_Merged\\\\chr_18_p11_deletion\\\\190325-4.jpg_18p11.bmp',\n",
       "   'D:\\\\Users\\\\Chuan\\\\Documents\\\\Database\\\\Karyotypes\\\\Arrangement_Merged\\\\chr_18_p11_deletion\\\\190325-5.jpg_18p11.bmp',\n",
       "   'D:\\\\Users\\\\Chuan\\\\Documents\\\\Database\\\\Karyotypes\\\\Arrangement_Merged\\\\chr_18_p11_deletion\\\\190325-6.jpg_18p11.bmp',\n",
       "   'D:\\\\Users\\\\Chuan\\\\Documents\\\\Database\\\\Karyotypes\\\\Arrangement_Merged\\\\chr_18_p11_deletion\\\\190325-7.jpg_18p11.bmp',\n",
       "   'D:\\\\Users\\\\Chuan\\\\Documents\\\\Database\\\\Karyotypes\\\\Arrangement_Merged\\\\chr_18_p11_deletion\\\\190325-8.jpg_18p11.bmp',\n",
       "   'D:\\\\Users\\\\Chuan\\\\Documents\\\\Database\\\\Karyotypes\\\\Arrangement_Merged\\\\chr_18_p11_deletion\\\\190325-9.jpg_18p11.bmp',\n",
       "   'D:\\\\Users\\\\Chuan\\\\Documents\\\\Database\\\\Karyotypes\\\\Arrangement_Merged\\\\chr_18_p11_deletion\\\\194161-del(18)(p11)-12R.bmp',\n",
       "   'D:\\\\Users\\\\Chuan\\\\Documents\\\\Database\\\\Karyotypes\\\\Arrangement_Merged\\\\chr_18_p11_deletion\\\\194161-del(18)(p11)-15R.bmp',\n",
       "   'D:\\\\Users\\\\Chuan\\\\Documents\\\\Database\\\\Karyotypes\\\\Arrangement_Merged\\\\chr_18_p11_deletion\\\\194161-del(18)(p11)-16R.bmp',\n",
       "   'D:\\\\Users\\\\Chuan\\\\Documents\\\\Database\\\\Karyotypes\\\\Arrangement_Merged\\\\chr_18_p11_deletion\\\\194161-del(18)(p11)-17R.bmp',\n",
       "   'D:\\\\Users\\\\Chuan\\\\Documents\\\\Database\\\\Karyotypes\\\\Arrangement_Merged\\\\chr_18_p11_deletion\\\\194161-del(18)(p11)-18R.bmp',\n",
       "   'D:\\\\Users\\\\Chuan\\\\Documents\\\\Database\\\\Karyotypes\\\\Arrangement_Merged\\\\chr_18_p11_deletion\\\\194161-del(18)(p11)-19R.bmp',\n",
       "   'D:\\\\Users\\\\Chuan\\\\Documents\\\\Database\\\\Karyotypes\\\\Arrangement_Merged\\\\chr_18_p11_deletion\\\\194161-del(18)(p11)-1R.bmp',\n",
       "   'D:\\\\Users\\\\Chuan\\\\Documents\\\\Database\\\\Karyotypes\\\\Arrangement_Merged\\\\chr_18_p11_deletion\\\\194161-del(18)(p11)-20R.bmp',\n",
       "   'D:\\\\Users\\\\Chuan\\\\Documents\\\\Database\\\\Karyotypes\\\\Arrangement_Merged\\\\chr_18_p11_deletion\\\\194161-del(18)(p11)-22R.bmp',\n",
       "   'D:\\\\Users\\\\Chuan\\\\Documents\\\\Database\\\\Karyotypes\\\\Arrangement_Merged\\\\chr_18_p11_deletion\\\\194161-del(18)(p11)-23R.bmp',\n",
       "   'D:\\\\Users\\\\Chuan\\\\Documents\\\\Database\\\\Karyotypes\\\\Arrangement_Merged\\\\chr_18_p11_deletion\\\\194161-del(18)(p11)-24R.bmp',\n",
       "   'D:\\\\Users\\\\Chuan\\\\Documents\\\\Database\\\\Karyotypes\\\\Arrangement_Merged\\\\chr_18_p11_deletion\\\\194161-del(18)(p11)-26R.bmp',\n",
       "   'D:\\\\Users\\\\Chuan\\\\Documents\\\\Database\\\\Karyotypes\\\\Arrangement_Merged\\\\chr_18_p11_deletion\\\\194161-del(18)(p11)-27R.bmp',\n",
       "   'D:\\\\Users\\\\Chuan\\\\Documents\\\\Database\\\\Karyotypes\\\\Arrangement_Merged\\\\chr_18_p11_deletion\\\\194161-del(18)(p11)-28R.bmp',\n",
       "   'D:\\\\Users\\\\Chuan\\\\Documents\\\\Database\\\\Karyotypes\\\\Arrangement_Merged\\\\chr_18_p11_deletion\\\\194161-del(18)(p11)-29R.bmp',\n",
       "   'D:\\\\Users\\\\Chuan\\\\Documents\\\\Database\\\\Karyotypes\\\\Arrangement_Merged\\\\chr_18_p11_deletion\\\\194161-del(18)(p11)-3R.bmp',\n",
       "   'D:\\\\Users\\\\Chuan\\\\Documents\\\\Database\\\\Karyotypes\\\\Arrangement_Merged\\\\chr_18_p11_deletion\\\\194161-del(18)(p11)-4R.bmp',\n",
       "   'D:\\\\Users\\\\Chuan\\\\Documents\\\\Database\\\\Karyotypes\\\\Arrangement_Merged\\\\chr_18_p11_deletion\\\\194161-del(18)(p11)-5R.bmp',\n",
       "   'D:\\\\Users\\\\Chuan\\\\Documents\\\\Database\\\\Karyotypes\\\\Arrangement_Merged\\\\chr_18_p11_deletion\\\\194161-del(18)(p11)-7R.bmp',\n",
       "   'D:\\\\Users\\\\Chuan\\\\Documents\\\\Database\\\\Karyotypes\\\\Arrangement_Merged\\\\chr_18_p11_deletion\\\\194161-del(18)(p11)-8R.bmp',\n",
       "   'D:\\\\Users\\\\Chuan\\\\Documents\\\\Database\\\\Karyotypes\\\\Arrangement_Merged\\\\chr_18_p11_deletion\\\\194161-del(18)(p11)-9R.bmp'],\n",
       "  '3': ['D:\\\\Users\\\\Chuan\\\\Documents\\\\Database\\\\Karyotypes\\\\Arrangement_Merged\\\\chr_18_p11_deletion\\\\183873-del(18)(p11)-10R.bmp',\n",
       "   'D:\\\\Users\\\\Chuan\\\\Documents\\\\Database\\\\Karyotypes\\\\Arrangement_Merged\\\\chr_18_p11_deletion\\\\183873-del(18)(p11)-11R.bmp',\n",
       "   'D:\\\\Users\\\\Chuan\\\\Documents\\\\Database\\\\Karyotypes\\\\Arrangement_Merged\\\\chr_18_p11_deletion\\\\183873-del(18)(p11)-12R.bmp',\n",
       "   'D:\\\\Users\\\\Chuan\\\\Documents\\\\Database\\\\Karyotypes\\\\Arrangement_Merged\\\\chr_18_p11_deletion\\\\183873-del(18)(p11)-13R.bmp',\n",
       "   'D:\\\\Users\\\\Chuan\\\\Documents\\\\Database\\\\Karyotypes\\\\Arrangement_Merged\\\\chr_18_p11_deletion\\\\183873-del(18)(p11)-15R.bmp',\n",
       "   'D:\\\\Users\\\\Chuan\\\\Documents\\\\Database\\\\Karyotypes\\\\Arrangement_Merged\\\\chr_18_p11_deletion\\\\183873-del(18)(p11)-16R.bmp',\n",
       "   'D:\\\\Users\\\\Chuan\\\\Documents\\\\Database\\\\Karyotypes\\\\Arrangement_Merged\\\\chr_18_p11_deletion\\\\183873-del(18)(p11)-17R.bmp',\n",
       "   'D:\\\\Users\\\\Chuan\\\\Documents\\\\Database\\\\Karyotypes\\\\Arrangement_Merged\\\\chr_18_p11_deletion\\\\183873-del(18)(p11)-18R.bmp',\n",
       "   'D:\\\\Users\\\\Chuan\\\\Documents\\\\Database\\\\Karyotypes\\\\Arrangement_Merged\\\\chr_18_p11_deletion\\\\183873-del(18)(p11)-19R.bmp',\n",
       "   'D:\\\\Users\\\\Chuan\\\\Documents\\\\Database\\\\Karyotypes\\\\Arrangement_Merged\\\\chr_18_p11_deletion\\\\183873-del(18)(p11)-1R.bmp',\n",
       "   'D:\\\\Users\\\\Chuan\\\\Documents\\\\Database\\\\Karyotypes\\\\Arrangement_Merged\\\\chr_18_p11_deletion\\\\183873-del(18)(p11)-21R.bmp',\n",
       "   'D:\\\\Users\\\\Chuan\\\\Documents\\\\Database\\\\Karyotypes\\\\Arrangement_Merged\\\\chr_18_p11_deletion\\\\183873-del(18)(p11)-24R.bmp',\n",
       "   'D:\\\\Users\\\\Chuan\\\\Documents\\\\Database\\\\Karyotypes\\\\Arrangement_Merged\\\\chr_18_p11_deletion\\\\183873-del(18)(p11)-25R.bmp',\n",
       "   'D:\\\\Users\\\\Chuan\\\\Documents\\\\Database\\\\Karyotypes\\\\Arrangement_Merged\\\\chr_18_p11_deletion\\\\183873-del(18)(p11)-2R.bmp',\n",
       "   'D:\\\\Users\\\\Chuan\\\\Documents\\\\Database\\\\Karyotypes\\\\Arrangement_Merged\\\\chr_18_p11_deletion\\\\183873-del(18)(p11)-3R.bmp',\n",
       "   'D:\\\\Users\\\\Chuan\\\\Documents\\\\Database\\\\Karyotypes\\\\Arrangement_Merged\\\\chr_18_p11_deletion\\\\183873-del(18)(p11)-4R.bmp',\n",
       "   'D:\\\\Users\\\\Chuan\\\\Documents\\\\Database\\\\Karyotypes\\\\Arrangement_Merged\\\\chr_18_p11_deletion\\\\183873-del(18)(p11)-5R.bmp',\n",
       "   'D:\\\\Users\\\\Chuan\\\\Documents\\\\Database\\\\Karyotypes\\\\Arrangement_Merged\\\\chr_18_p11_deletion\\\\183873-del(18)(p11)-6R.bmp',\n",
       "   'D:\\\\Users\\\\Chuan\\\\Documents\\\\Database\\\\Karyotypes\\\\Arrangement_Merged\\\\chr_18_p11_deletion\\\\183873-del(18)(p11)-9R.bmp',\n",
       "   'D:\\\\Users\\\\Chuan\\\\Documents\\\\Database\\\\Karyotypes\\\\Arrangement_Merged\\\\chr_18_p11_deletion\\\\190325-1.jpg_18p11.bmp',\n",
       "   'D:\\\\Users\\\\Chuan\\\\Documents\\\\Database\\\\Karyotypes\\\\Arrangement_Merged\\\\chr_18_p11_deletion\\\\190325-10.jpg_18p11.bmp',\n",
       "   'D:\\\\Users\\\\Chuan\\\\Documents\\\\Database\\\\Karyotypes\\\\Arrangement_Merged\\\\chr_18_p11_deletion\\\\190325-11.jpg_18p11.bmp',\n",
       "   'D:\\\\Users\\\\Chuan\\\\Documents\\\\Database\\\\Karyotypes\\\\Arrangement_Merged\\\\chr_18_p11_deletion\\\\190325-15.jpg_18p11.bmp',\n",
       "   'D:\\\\Users\\\\Chuan\\\\Documents\\\\Database\\\\Karyotypes\\\\Arrangement_Merged\\\\chr_18_p11_deletion\\\\190325-17.jpg_18p11.bmp',\n",
       "   'D:\\\\Users\\\\Chuan\\\\Documents\\\\Database\\\\Karyotypes\\\\Arrangement_Merged\\\\chr_18_p11_deletion\\\\190325-18.jpg_18p11.bmp',\n",
       "   'D:\\\\Users\\\\Chuan\\\\Documents\\\\Database\\\\Karyotypes\\\\Arrangement_Merged\\\\chr_18_p11_deletion\\\\190325-19.jpg_18del_p11.bmp',\n",
       "   'D:\\\\Users\\\\Chuan\\\\Documents\\\\Database\\\\Karyotypes\\\\Arrangement_Merged\\\\chr_18_p11_deletion\\\\190325-2.jpg_18p11.bmp',\n",
       "   'D:\\\\Users\\\\Chuan\\\\Documents\\\\Database\\\\Karyotypes\\\\Arrangement_Merged\\\\chr_18_p11_deletion\\\\190325-20.jpg.18del_p11.bmp',\n",
       "   'D:\\\\Users\\\\Chuan\\\\Documents\\\\Database\\\\Karyotypes\\\\Arrangement_Merged\\\\chr_18_p11_deletion\\\\190325-3.jpg_18p11.bmp',\n",
       "   'D:\\\\Users\\\\Chuan\\\\Documents\\\\Database\\\\Karyotypes\\\\Arrangement_Merged\\\\chr_18_p11_deletion\\\\190325-4.jpg_18p11.bmp',\n",
       "   'D:\\\\Users\\\\Chuan\\\\Documents\\\\Database\\\\Karyotypes\\\\Arrangement_Merged\\\\chr_18_p11_deletion\\\\190325-5.jpg_18p11.bmp',\n",
       "   'D:\\\\Users\\\\Chuan\\\\Documents\\\\Database\\\\Karyotypes\\\\Arrangement_Merged\\\\chr_18_p11_deletion\\\\190325-8.jpg_18p11.bmp',\n",
       "   'D:\\\\Users\\\\Chuan\\\\Documents\\\\Database\\\\Karyotypes\\\\Arrangement_Merged\\\\chr_18_p11_deletion\\\\190325-9.jpg_18p11.bmp',\n",
       "   'D:\\\\Users\\\\Chuan\\\\Documents\\\\Database\\\\Karyotypes\\\\Arrangement_Merged\\\\chr_18_p11_deletion\\\\194161-del(18)(p11)-10R.bmp',\n",
       "   'D:\\\\Users\\\\Chuan\\\\Documents\\\\Database\\\\Karyotypes\\\\Arrangement_Merged\\\\chr_18_p11_deletion\\\\194161-del(18)(p11)-11R.bmp',\n",
       "   'D:\\\\Users\\\\Chuan\\\\Documents\\\\Database\\\\Karyotypes\\\\Arrangement_Merged\\\\chr_18_p11_deletion\\\\194161-del(18)(p11)-12R.bmp',\n",
       "   'D:\\\\Users\\\\Chuan\\\\Documents\\\\Database\\\\Karyotypes\\\\Arrangement_Merged\\\\chr_18_p11_deletion\\\\194161-del(18)(p11)-13R.bmp',\n",
       "   'D:\\\\Users\\\\Chuan\\\\Documents\\\\Database\\\\Karyotypes\\\\Arrangement_Merged\\\\chr_18_p11_deletion\\\\194161-del(18)(p11)-14R.bmp',\n",
       "   'D:\\\\Users\\\\Chuan\\\\Documents\\\\Database\\\\Karyotypes\\\\Arrangement_Merged\\\\chr_18_p11_deletion\\\\194161-del(18)(p11)-15R.bmp',\n",
       "   'D:\\\\Users\\\\Chuan\\\\Documents\\\\Database\\\\Karyotypes\\\\Arrangement_Merged\\\\chr_18_p11_deletion\\\\194161-del(18)(p11)-17R.bmp',\n",
       "   'D:\\\\Users\\\\Chuan\\\\Documents\\\\Database\\\\Karyotypes\\\\Arrangement_Merged\\\\chr_18_p11_deletion\\\\194161-del(18)(p11)-18R.bmp',\n",
       "   'D:\\\\Users\\\\Chuan\\\\Documents\\\\Database\\\\Karyotypes\\\\Arrangement_Merged\\\\chr_18_p11_deletion\\\\194161-del(18)(p11)-19R.bmp',\n",
       "   'D:\\\\Users\\\\Chuan\\\\Documents\\\\Database\\\\Karyotypes\\\\Arrangement_Merged\\\\chr_18_p11_deletion\\\\194161-del(18)(p11)-1R.bmp',\n",
       "   'D:\\\\Users\\\\Chuan\\\\Documents\\\\Database\\\\Karyotypes\\\\Arrangement_Merged\\\\chr_18_p11_deletion\\\\194161-del(18)(p11)-20R.bmp',\n",
       "   'D:\\\\Users\\\\Chuan\\\\Documents\\\\Database\\\\Karyotypes\\\\Arrangement_Merged\\\\chr_18_p11_deletion\\\\194161-del(18)(p11)-21R.bmp',\n",
       "   'D:\\\\Users\\\\Chuan\\\\Documents\\\\Database\\\\Karyotypes\\\\Arrangement_Merged\\\\chr_18_p11_deletion\\\\194161-del(18)(p11)-22R.bmp',\n",
       "   'D:\\\\Users\\\\Chuan\\\\Documents\\\\Database\\\\Karyotypes\\\\Arrangement_Merged\\\\chr_18_p11_deletion\\\\194161-del(18)(p11)-23R.bmp',\n",
       "   'D:\\\\Users\\\\Chuan\\\\Documents\\\\Database\\\\Karyotypes\\\\Arrangement_Merged\\\\chr_18_p11_deletion\\\\194161-del(18)(p11)-24R.bmp',\n",
       "   'D:\\\\Users\\\\Chuan\\\\Documents\\\\Database\\\\Karyotypes\\\\Arrangement_Merged\\\\chr_18_p11_deletion\\\\194161-del(18)(p11)-25R.bmp',\n",
       "   'D:\\\\Users\\\\Chuan\\\\Documents\\\\Database\\\\Karyotypes\\\\Arrangement_Merged\\\\chr_18_p11_deletion\\\\194161-del(18)(p11)-26R.bmp',\n",
       "   'D:\\\\Users\\\\Chuan\\\\Documents\\\\Database\\\\Karyotypes\\\\Arrangement_Merged\\\\chr_18_p11_deletion\\\\194161-del(18)(p11)-28R.bmp',\n",
       "   'D:\\\\Users\\\\Chuan\\\\Documents\\\\Database\\\\Karyotypes\\\\Arrangement_Merged\\\\chr_18_p11_deletion\\\\194161-del(18)(p11)-29R.bmp',\n",
       "   'D:\\\\Users\\\\Chuan\\\\Documents\\\\Database\\\\Karyotypes\\\\Arrangement_Merged\\\\chr_18_p11_deletion\\\\194161-del(18)(p11)-2R.bmp',\n",
       "   'D:\\\\Users\\\\Chuan\\\\Documents\\\\Database\\\\Karyotypes\\\\Arrangement_Merged\\\\chr_18_p11_deletion\\\\194161-del(18)(p11)-30R.bmp',\n",
       "   'D:\\\\Users\\\\Chuan\\\\Documents\\\\Database\\\\Karyotypes\\\\Arrangement_Merged\\\\chr_18_p11_deletion\\\\194161-del(18)(p11)-3R.bmp',\n",
       "   'D:\\\\Users\\\\Chuan\\\\Documents\\\\Database\\\\Karyotypes\\\\Arrangement_Merged\\\\chr_18_p11_deletion\\\\194161-del(18)(p11)-5R.bmp',\n",
       "   'D:\\\\Users\\\\Chuan\\\\Documents\\\\Database\\\\Karyotypes\\\\Arrangement_Merged\\\\chr_18_p11_deletion\\\\194161-del(18)(p11)-6R.bmp',\n",
       "   'D:\\\\Users\\\\Chuan\\\\Documents\\\\Database\\\\Karyotypes\\\\Arrangement_Merged\\\\chr_18_p11_deletion\\\\194161-del(18)(p11)-7R.bmp',\n",
       "   'D:\\\\Users\\\\Chuan\\\\Documents\\\\Database\\\\Karyotypes\\\\Arrangement_Merged\\\\chr_18_p11_deletion\\\\194161-del(18)(p11)-8R.bmp',\n",
       "   'D:\\\\Users\\\\Chuan\\\\Documents\\\\Database\\\\Karyotypes\\\\Arrangement_Merged\\\\chr_18_p11_deletion\\\\194161-del(18)(p11)-9R.bmp'],\n",
       "  '4': ['D:\\\\Users\\\\Chuan\\\\Documents\\\\Database\\\\Karyotypes\\\\Arrangement_Merged\\\\chr_18_p11_deletion\\\\183873-del(18)(p11)-10R.bmp',\n",
       "   'D:\\\\Users\\\\Chuan\\\\Documents\\\\Database\\\\Karyotypes\\\\Arrangement_Merged\\\\chr_18_p11_deletion\\\\183873-del(18)(p11)-12R.bmp',\n",
       "   'D:\\\\Users\\\\Chuan\\\\Documents\\\\Database\\\\Karyotypes\\\\Arrangement_Merged\\\\chr_18_p11_deletion\\\\183873-del(18)(p11)-13R.bmp',\n",
       "   'D:\\\\Users\\\\Chuan\\\\Documents\\\\Database\\\\Karyotypes\\\\Arrangement_Merged\\\\chr_18_p11_deletion\\\\183873-del(18)(p11)-14R.bmp',\n",
       "   'D:\\\\Users\\\\Chuan\\\\Documents\\\\Database\\\\Karyotypes\\\\Arrangement_Merged\\\\chr_18_p11_deletion\\\\183873-del(18)(p11)-17R.bmp',\n",
       "   'D:\\\\Users\\\\Chuan\\\\Documents\\\\Database\\\\Karyotypes\\\\Arrangement_Merged\\\\chr_18_p11_deletion\\\\183873-del(18)(p11)-18R.bmp',\n",
       "   'D:\\\\Users\\\\Chuan\\\\Documents\\\\Database\\\\Karyotypes\\\\Arrangement_Merged\\\\chr_18_p11_deletion\\\\183873-del(18)(p11)-1R.bmp',\n",
       "   'D:\\\\Users\\\\Chuan\\\\Documents\\\\Database\\\\Karyotypes\\\\Arrangement_Merged\\\\chr_18_p11_deletion\\\\183873-del(18)(p11)-20R.bmp',\n",
       "   'D:\\\\Users\\\\Chuan\\\\Documents\\\\Database\\\\Karyotypes\\\\Arrangement_Merged\\\\chr_18_p11_deletion\\\\183873-del(18)(p11)-22R.bmp',\n",
       "   'D:\\\\Users\\\\Chuan\\\\Documents\\\\Database\\\\Karyotypes\\\\Arrangement_Merged\\\\chr_18_p11_deletion\\\\183873-del(18)(p11)-23R.bmp',\n",
       "   'D:\\\\Users\\\\Chuan\\\\Documents\\\\Database\\\\Karyotypes\\\\Arrangement_Merged\\\\chr_18_p11_deletion\\\\183873-del(18)(p11)-24R.bmp',\n",
       "   'D:\\\\Users\\\\Chuan\\\\Documents\\\\Database\\\\Karyotypes\\\\Arrangement_Merged\\\\chr_18_p11_deletion\\\\183873-del(18)(p11)-2R.bmp',\n",
       "   'D:\\\\Users\\\\Chuan\\\\Documents\\\\Database\\\\Karyotypes\\\\Arrangement_Merged\\\\chr_18_p11_deletion\\\\183873-del(18)(p11)-4R.bmp',\n",
       "   'D:\\\\Users\\\\Chuan\\\\Documents\\\\Database\\\\Karyotypes\\\\Arrangement_Merged\\\\chr_18_p11_deletion\\\\183873-del(18)(p11)-6R.bmp',\n",
       "   'D:\\\\Users\\\\Chuan\\\\Documents\\\\Database\\\\Karyotypes\\\\Arrangement_Merged\\\\chr_18_p11_deletion\\\\183873-del(18)(p11)-7R.bmp',\n",
       "   'D:\\\\Users\\\\Chuan\\\\Documents\\\\Database\\\\Karyotypes\\\\Arrangement_Merged\\\\chr_18_p11_deletion\\\\183873-del(18)(p11)-8R.bmp',\n",
       "   'D:\\\\Users\\\\Chuan\\\\Documents\\\\Database\\\\Karyotypes\\\\Arrangement_Merged\\\\chr_18_p11_deletion\\\\183873-del(18)(p11)-9R.bmp',\n",
       "   'D:\\\\Users\\\\Chuan\\\\Documents\\\\Database\\\\Karyotypes\\\\Arrangement_Merged\\\\chr_18_p11_deletion\\\\190325-10.jpg_18p11.bmp',\n",
       "   'D:\\\\Users\\\\Chuan\\\\Documents\\\\Database\\\\Karyotypes\\\\Arrangement_Merged\\\\chr_18_p11_deletion\\\\190325-11.jpg_18p11.bmp',\n",
       "   'D:\\\\Users\\\\Chuan\\\\Documents\\\\Database\\\\Karyotypes\\\\Arrangement_Merged\\\\chr_18_p11_deletion\\\\190325-12.jpg_18p11.bmp',\n",
       "   'D:\\\\Users\\\\Chuan\\\\Documents\\\\Database\\\\Karyotypes\\\\Arrangement_Merged\\\\chr_18_p11_deletion\\\\190325-13.jpg_18p11.bmp',\n",
       "   'D:\\\\Users\\\\Chuan\\\\Documents\\\\Database\\\\Karyotypes\\\\Arrangement_Merged\\\\chr_18_p11_deletion\\\\190325-14.jpg_18p11.bmp',\n",
       "   'D:\\\\Users\\\\Chuan\\\\Documents\\\\Database\\\\Karyotypes\\\\Arrangement_Merged\\\\chr_18_p11_deletion\\\\190325-15.jpg_18p11.bmp',\n",
       "   'D:\\\\Users\\\\Chuan\\\\Documents\\\\Database\\\\Karyotypes\\\\Arrangement_Merged\\\\chr_18_p11_deletion\\\\190325-16.jpg_18p11.bmp',\n",
       "   'D:\\\\Users\\\\Chuan\\\\Documents\\\\Database\\\\Karyotypes\\\\Arrangement_Merged\\\\chr_18_p11_deletion\\\\190325-17.jpg_18p11.bmp',\n",
       "   'D:\\\\Users\\\\Chuan\\\\Documents\\\\Database\\\\Karyotypes\\\\Arrangement_Merged\\\\chr_18_p11_deletion\\\\190325-18.jpg_18p11.bmp',\n",
       "   'D:\\\\Users\\\\Chuan\\\\Documents\\\\Database\\\\Karyotypes\\\\Arrangement_Merged\\\\chr_18_p11_deletion\\\\190325-19.jpg_18del_p11.bmp',\n",
       "   'D:\\\\Users\\\\Chuan\\\\Documents\\\\Database\\\\Karyotypes\\\\Arrangement_Merged\\\\chr_18_p11_deletion\\\\190325-2.jpg_18p11.bmp',\n",
       "   'D:\\\\Users\\\\Chuan\\\\Documents\\\\Database\\\\Karyotypes\\\\Arrangement_Merged\\\\chr_18_p11_deletion\\\\190325-3.jpg_18p11.bmp',\n",
       "   'D:\\\\Users\\\\Chuan\\\\Documents\\\\Database\\\\Karyotypes\\\\Arrangement_Merged\\\\chr_18_p11_deletion\\\\190325-4.jpg_18p11.bmp',\n",
       "   'D:\\\\Users\\\\Chuan\\\\Documents\\\\Database\\\\Karyotypes\\\\Arrangement_Merged\\\\chr_18_p11_deletion\\\\190325-5.jpg_18p11.bmp',\n",
       "   'D:\\\\Users\\\\Chuan\\\\Documents\\\\Database\\\\Karyotypes\\\\Arrangement_Merged\\\\chr_18_p11_deletion\\\\190325-6.jpg_18p11.bmp',\n",
       "   'D:\\\\Users\\\\Chuan\\\\Documents\\\\Database\\\\Karyotypes\\\\Arrangement_Merged\\\\chr_18_p11_deletion\\\\190325-7.jpg_18p11.bmp',\n",
       "   'D:\\\\Users\\\\Chuan\\\\Documents\\\\Database\\\\Karyotypes\\\\Arrangement_Merged\\\\chr_18_p11_deletion\\\\190325-8.jpg_18p11.bmp',\n",
       "   'D:\\\\Users\\\\Chuan\\\\Documents\\\\Database\\\\Karyotypes\\\\Arrangement_Merged\\\\chr_18_p11_deletion\\\\190325-9.jpg_18p11.bmp',\n",
       "   'D:\\\\Users\\\\Chuan\\\\Documents\\\\Database\\\\Karyotypes\\\\Arrangement_Merged\\\\chr_18_p11_deletion\\\\194161-del(18)(p11)-10R.bmp',\n",
       "   'D:\\\\Users\\\\Chuan\\\\Documents\\\\Database\\\\Karyotypes\\\\Arrangement_Merged\\\\chr_18_p11_deletion\\\\194161-del(18)(p11)-11R.bmp',\n",
       "   'D:\\\\Users\\\\Chuan\\\\Documents\\\\Database\\\\Karyotypes\\\\Arrangement_Merged\\\\chr_18_p11_deletion\\\\194161-del(18)(p11)-12R.bmp',\n",
       "   'D:\\\\Users\\\\Chuan\\\\Documents\\\\Database\\\\Karyotypes\\\\Arrangement_Merged\\\\chr_18_p11_deletion\\\\194161-del(18)(p11)-13R.bmp',\n",
       "   'D:\\\\Users\\\\Chuan\\\\Documents\\\\Database\\\\Karyotypes\\\\Arrangement_Merged\\\\chr_18_p11_deletion\\\\194161-del(18)(p11)-14R.bmp',\n",
       "   'D:\\\\Users\\\\Chuan\\\\Documents\\\\Database\\\\Karyotypes\\\\Arrangement_Merged\\\\chr_18_p11_deletion\\\\194161-del(18)(p11)-16R.bmp',\n",
       "   'D:\\\\Users\\\\Chuan\\\\Documents\\\\Database\\\\Karyotypes\\\\Arrangement_Merged\\\\chr_18_p11_deletion\\\\194161-del(18)(p11)-17R.bmp',\n",
       "   'D:\\\\Users\\\\Chuan\\\\Documents\\\\Database\\\\Karyotypes\\\\Arrangement_Merged\\\\chr_18_p11_deletion\\\\194161-del(18)(p11)-18R.bmp',\n",
       "   'D:\\\\Users\\\\Chuan\\\\Documents\\\\Database\\\\Karyotypes\\\\Arrangement_Merged\\\\chr_18_p11_deletion\\\\194161-del(18)(p11)-19R.bmp',\n",
       "   'D:\\\\Users\\\\Chuan\\\\Documents\\\\Database\\\\Karyotypes\\\\Arrangement_Merged\\\\chr_18_p11_deletion\\\\194161-del(18)(p11)-1R.bmp',\n",
       "   'D:\\\\Users\\\\Chuan\\\\Documents\\\\Database\\\\Karyotypes\\\\Arrangement_Merged\\\\chr_18_p11_deletion\\\\194161-del(18)(p11)-20R.bmp',\n",
       "   'D:\\\\Users\\\\Chuan\\\\Documents\\\\Database\\\\Karyotypes\\\\Arrangement_Merged\\\\chr_18_p11_deletion\\\\194161-del(18)(p11)-21R.bmp',\n",
       "   'D:\\\\Users\\\\Chuan\\\\Documents\\\\Database\\\\Karyotypes\\\\Arrangement_Merged\\\\chr_18_p11_deletion\\\\194161-del(18)(p11)-22R.bmp',\n",
       "   'D:\\\\Users\\\\Chuan\\\\Documents\\\\Database\\\\Karyotypes\\\\Arrangement_Merged\\\\chr_18_p11_deletion\\\\194161-del(18)(p11)-23R.bmp',\n",
       "   'D:\\\\Users\\\\Chuan\\\\Documents\\\\Database\\\\Karyotypes\\\\Arrangement_Merged\\\\chr_18_p11_deletion\\\\194161-del(18)(p11)-24R.bmp',\n",
       "   'D:\\\\Users\\\\Chuan\\\\Documents\\\\Database\\\\Karyotypes\\\\Arrangement_Merged\\\\chr_18_p11_deletion\\\\194161-del(18)(p11)-25R.bmp',\n",
       "   'D:\\\\Users\\\\Chuan\\\\Documents\\\\Database\\\\Karyotypes\\\\Arrangement_Merged\\\\chr_18_p11_deletion\\\\194161-del(18)(p11)-27R.bmp',\n",
       "   'D:\\\\Users\\\\Chuan\\\\Documents\\\\Database\\\\Karyotypes\\\\Arrangement_Merged\\\\chr_18_p11_deletion\\\\194161-del(18)(p11)-29R.bmp',\n",
       "   'D:\\\\Users\\\\Chuan\\\\Documents\\\\Database\\\\Karyotypes\\\\Arrangement_Merged\\\\chr_18_p11_deletion\\\\194161-del(18)(p11)-2R.bmp',\n",
       "   'D:\\\\Users\\\\Chuan\\\\Documents\\\\Database\\\\Karyotypes\\\\Arrangement_Merged\\\\chr_18_p11_deletion\\\\194161-del(18)(p11)-30R.bmp',\n",
       "   'D:\\\\Users\\\\Chuan\\\\Documents\\\\Database\\\\Karyotypes\\\\Arrangement_Merged\\\\chr_18_p11_deletion\\\\194161-del(18)(p11)-3R.bmp',\n",
       "   'D:\\\\Users\\\\Chuan\\\\Documents\\\\Database\\\\Karyotypes\\\\Arrangement_Merged\\\\chr_18_p11_deletion\\\\194161-del(18)(p11)-4R.bmp',\n",
       "   'D:\\\\Users\\\\Chuan\\\\Documents\\\\Database\\\\Karyotypes\\\\Arrangement_Merged\\\\chr_18_p11_deletion\\\\194161-del(18)(p11)-5R.bmp',\n",
       "   'D:\\\\Users\\\\Chuan\\\\Documents\\\\Database\\\\Karyotypes\\\\Arrangement_Merged\\\\chr_18_p11_deletion\\\\194161-del(18)(p11)-6R.bmp',\n",
       "   'D:\\\\Users\\\\Chuan\\\\Documents\\\\Database\\\\Karyotypes\\\\Arrangement_Merged\\\\chr_18_p11_deletion\\\\194161-del(18)(p11)-8R.bmp']}}"
      ]
     },
     "execution_count": 3,
     "metadata": {},
     "output_type": "execute_result"
    }
   ],
   "source": [
    "with open('data_X_train_name.json') as json_file:\n",
    "    X_train_name = json.load(json_file)\n",
    "X_train_name"
   ]
  },
  {
   "cell_type": "code",
   "execution_count": 4,
   "metadata": {},
   "outputs": [
    {
     "data": {
      "text/plain": [
       "['D:\\\\Users\\\\Chuan\\\\Documents\\\\Database\\\\Karyotypes\\\\Arrangement_Merged\\\\chr_18\\\\181228-i(18)(q10)+18-14L.bmp',\n",
       " 'D:\\\\Users\\\\Chuan\\\\Documents\\\\Database\\\\Karyotypes\\\\Arrangement_Merged\\\\chr_18\\\\181228-i(18)(q10)+18-1L.bmp',\n",
       " 'D:\\\\Users\\\\Chuan\\\\Documents\\\\Database\\\\Karyotypes\\\\Arrangement_Merged\\\\chr_18\\\\181228-i(18)(q10)+18-8L.bmp',\n",
       " 'D:\\\\Users\\\\Chuan\\\\Documents\\\\Database\\\\Karyotypes\\\\Arrangement_Merged\\\\chr_18\\\\183873-del(18)(p11)-11L.bmp',\n",
       " 'D:\\\\Users\\\\Chuan\\\\Documents\\\\Database\\\\Karyotypes\\\\Arrangement_Merged\\\\chr_18\\\\183873-del(18)(p11)-13L.bmp',\n",
       " 'D:\\\\Users\\\\Chuan\\\\Documents\\\\Database\\\\Karyotypes\\\\Arrangement_Merged\\\\chr_18\\\\183873-del(18)(p11)-16L.bmp',\n",
       " 'D:\\\\Users\\\\Chuan\\\\Documents\\\\Database\\\\Karyotypes\\\\Arrangement_Merged\\\\chr_18\\\\183873-del(18)(p11)-25L.bmp',\n",
       " 'D:\\\\Users\\\\Chuan\\\\Documents\\\\Database\\\\Karyotypes\\\\Arrangement_Merged\\\\chr_18\\\\183873-del(18)(p11)-3L.bmp',\n",
       " 'D:\\\\Users\\\\Chuan\\\\Documents\\\\Database\\\\Karyotypes\\\\Arrangement_Merged\\\\chr_18\\\\183873-del(18)(p11)-7L.bmp',\n",
       " 'D:\\\\Users\\\\Chuan\\\\Documents\\\\Database\\\\Karyotypes\\\\Arrangement_Merged\\\\chr_18\\\\190325-11.jpg_18L.bmp',\n",
       " 'D:\\\\Users\\\\Chuan\\\\Documents\\\\Database\\\\Karyotypes\\\\Arrangement_Merged\\\\chr_18\\\\190325-13.jpg_18L.bmp',\n",
       " 'D:\\\\Users\\\\Chuan\\\\Documents\\\\Database\\\\Karyotypes\\\\Arrangement_Merged\\\\chr_18\\\\190325-18.jpg_18L.bmp',\n",
       " 'D:\\\\Users\\\\Chuan\\\\Documents\\\\Database\\\\Karyotypes\\\\Arrangement_Merged\\\\chr_18\\\\190325-3.jpg_18L.bmp',\n",
       " 'D:\\\\Users\\\\Chuan\\\\Documents\\\\Database\\\\Karyotypes\\\\Arrangement_Merged\\\\chr_18\\\\190325-5.jpg_18L.bmp',\n",
       " 'D:\\\\Users\\\\Chuan\\\\Documents\\\\Database\\\\Karyotypes\\\\Arrangement_Merged\\\\chr_18\\\\191225-20.jpg_18L.bmp',\n",
       " 'D:\\\\Users\\\\Chuan\\\\Documents\\\\Database\\\\Karyotypes\\\\Arrangement_Merged\\\\chr_18\\\\191225-7.jpg_18L.bmp',\n",
       " 'D:\\\\Users\\\\Chuan\\\\Documents\\\\Database\\\\Karyotypes\\\\Arrangement_Merged\\\\chr_18\\\\191225-9.jpg_18L.bmp',\n",
       " 'D:\\\\Users\\\\Chuan\\\\Documents\\\\Database\\\\Karyotypes\\\\Arrangement_Merged\\\\chr_18\\\\194161-del(18)(p11)-19L.bmp',\n",
       " 'D:\\\\Users\\\\Chuan\\\\Documents\\\\Database\\\\Karyotypes\\\\Arrangement_Merged\\\\chr_18\\\\194161-del(18)(p11)-23L.bmp',\n",
       " 'D:\\\\Users\\\\Chuan\\\\Documents\\\\Database\\\\Karyotypes\\\\Arrangement_Merged\\\\chr_18\\\\194161-del(18)(p11)-27L.bmp',\n",
       " 'D:\\\\Users\\\\Chuan\\\\Documents\\\\Database\\\\Karyotypes\\\\Arrangement_Merged\\\\chr_18\\\\194161-del(18)(p11)-6L.bmp',\n",
       " 'D:\\\\Users\\\\Chuan\\\\Documents\\\\Database\\\\Karyotypes\\\\Arrangement_Merged\\\\chr_18\\\\194161-del(18)(p11)-9L.bmp',\n",
       " 'D:\\\\Users\\\\Chuan\\\\Documents\\\\Database\\\\Karyotypes\\\\Arrangement_Merged\\\\chr_18\\\\w21000~A.0001.K.jpg.18L.bmp',\n",
       " 'D:\\\\Users\\\\Chuan\\\\Documents\\\\Database\\\\Karyotypes\\\\Arrangement_Merged\\\\chr_18\\\\w21002~A.0024.K.jpg.18L.bmp',\n",
       " 'D:\\\\Users\\\\Chuan\\\\Documents\\\\Database\\\\Karyotypes\\\\Arrangement_Merged\\\\chr_18\\\\W21014~A.0005.K.18R.bmp',\n",
       " 'D:\\\\Users\\\\Chuan\\\\Documents\\\\Database\\\\Karyotypes\\\\Arrangement_Merged\\\\chr_18\\\\W21027~A.0003.K.18L.bmp',\n",
       " 'D:\\\\Users\\\\Chuan\\\\Documents\\\\Database\\\\Karyotypes\\\\Arrangement_Merged\\\\chr_18\\\\W21486~A.0020.K.bmp.18L.bmp',\n",
       " 'D:\\\\Users\\\\Chuan\\\\Documents\\\\Database\\\\Karyotypes\\\\Arrangement_Merged\\\\chr_18\\\\W21486~A.0020.K.bmp.18R.bmp',\n",
       " 'D:\\\\Users\\\\Chuan\\\\Documents\\\\Database\\\\Karyotypes\\\\Arrangement_Merged\\\\chr_18\\\\W21587~A.0010.K.jpg.18L.bmp',\n",
       " 'D:\\\\Users\\\\Chuan\\\\Documents\\\\Database\\\\Karyotypes\\\\Arrangement_Merged\\\\chr_18\\\\W21905~A.0007.K.jpg.18R.bmp',\n",
       " 'D:\\\\Users\\\\Chuan\\\\Documents\\\\Database\\\\Karyotypes\\\\Arrangement_Merged\\\\chr_18\\\\W21906~A.0011.K.jpg.18L.bmp',\n",
       " 'D:\\\\Users\\\\Chuan\\\\Documents\\\\Database\\\\Karyotypes\\\\Arrangement_Merged\\\\chr_18\\\\w22292~A.0027.K.jpg.18L.bmp',\n",
       " 'D:\\\\Users\\\\Chuan\\\\Documents\\\\Database\\\\Karyotypes\\\\Arrangement_Merged\\\\chr_18\\\\w22292~A.0027.K.jpg.18R.bmp',\n",
       " 'D:\\\\Users\\\\Chuan\\\\Documents\\\\Database\\\\Karyotypes\\\\Arrangement_Merged\\\\chr_18\\\\W22455~A.0002.K.jpg.18R.bmp',\n",
       " 'D:\\\\Users\\\\Chuan\\\\Documents\\\\Database\\\\Karyotypes\\\\Arrangement_Merged\\\\chr_18\\\\W22670~A.0006.K.jpg.18R.bmp',\n",
       " 'D:\\\\Users\\\\Chuan\\\\Documents\\\\Database\\\\Karyotypes\\\\Arrangement_Merged\\\\chr_18\\\\W23075-1~A.0017.K.jpg.18L.bmp']"
      ]
     },
     "execution_count": 4,
     "metadata": {},
     "output_type": "execute_result"
    }
   ],
   "source": [
    "with open('data_X_test_name.json') as json_file:\n",
    "    X_test_name = json.load(json_file)\n",
    "X_test_name['chr_18']['0']"
   ]
  },
  {
   "cell_type": "code",
   "execution_count": 5,
   "metadata": {},
   "outputs": [
    {
     "data": {
      "text/plain": [
       "{'chr_18': ['D:\\\\Users\\\\Chuan\\\\Documents\\\\Database\\\\Karyotypes\\\\Arrangement_Merged\\\\chr_18\\\\181228-i(18)(q10)+18-10L.bmp',\n",
       "  'D:\\\\Users\\\\Chuan\\\\Documents\\\\Database\\\\Karyotypes\\\\Arrangement_Merged\\\\chr_18\\\\181228-i(18)(q10)+18-11L.bmp',\n",
       "  'D:\\\\Users\\\\Chuan\\\\Documents\\\\Database\\\\Karyotypes\\\\Arrangement_Merged\\\\chr_18\\\\181228-i(18)(q10)+18-12L.bmp',\n",
       "  'D:\\\\Users\\\\Chuan\\\\Documents\\\\Database\\\\Karyotypes\\\\Arrangement_Merged\\\\chr_18\\\\181228-i(18)(q10)+18-13L.bmp',\n",
       "  'D:\\\\Users\\\\Chuan\\\\Documents\\\\Database\\\\Karyotypes\\\\Arrangement_Merged\\\\chr_18\\\\181228-i(18)(q10)+18-14L.bmp',\n",
       "  'D:\\\\Users\\\\Chuan\\\\Documents\\\\Database\\\\Karyotypes\\\\Arrangement_Merged\\\\chr_18\\\\181228-i(18)(q10)+18-1L.bmp',\n",
       "  'D:\\\\Users\\\\Chuan\\\\Documents\\\\Database\\\\Karyotypes\\\\Arrangement_Merged\\\\chr_18\\\\181228-i(18)(q10)+18-2L.bmp',\n",
       "  'D:\\\\Users\\\\Chuan\\\\Documents\\\\Database\\\\Karyotypes\\\\Arrangement_Merged\\\\chr_18\\\\181228-i(18)(q10)+18-3L.bmp',\n",
       "  'D:\\\\Users\\\\Chuan\\\\Documents\\\\Database\\\\Karyotypes\\\\Arrangement_Merged\\\\chr_18\\\\181228-i(18)(q10)+18-4L.bmp',\n",
       "  'D:\\\\Users\\\\Chuan\\\\Documents\\\\Database\\\\Karyotypes\\\\Arrangement_Merged\\\\chr_18\\\\181228-i(18)(q10)+18-5L.bmp',\n",
       "  'D:\\\\Users\\\\Chuan\\\\Documents\\\\Database\\\\Karyotypes\\\\Arrangement_Merged\\\\chr_18\\\\181228-i(18)(q10)+18-7L.bmp',\n",
       "  'D:\\\\Users\\\\Chuan\\\\Documents\\\\Database\\\\Karyotypes\\\\Arrangement_Merged\\\\chr_18\\\\181228-i(18)(q10)+18-8L.bmp',\n",
       "  'D:\\\\Users\\\\Chuan\\\\Documents\\\\Database\\\\Karyotypes\\\\Arrangement_Merged\\\\chr_18\\\\181228-i(18)(q10)+18-9L.bmp',\n",
       "  'D:\\\\Users\\\\Chuan\\\\Documents\\\\Database\\\\Karyotypes\\\\Arrangement_Merged\\\\chr_18\\\\183873-del(18)(p11)-10L.bmp',\n",
       "  'D:\\\\Users\\\\Chuan\\\\Documents\\\\Database\\\\Karyotypes\\\\Arrangement_Merged\\\\chr_18\\\\183873-del(18)(p11)-11L.bmp',\n",
       "  'D:\\\\Users\\\\Chuan\\\\Documents\\\\Database\\\\Karyotypes\\\\Arrangement_Merged\\\\chr_18\\\\183873-del(18)(p11)-12L.bmp',\n",
       "  'D:\\\\Users\\\\Chuan\\\\Documents\\\\Database\\\\Karyotypes\\\\Arrangement_Merged\\\\chr_18\\\\183873-del(18)(p11)-13L.bmp',\n",
       "  'D:\\\\Users\\\\Chuan\\\\Documents\\\\Database\\\\Karyotypes\\\\Arrangement_Merged\\\\chr_18\\\\183873-del(18)(p11)-14L.bmp',\n",
       "  'D:\\\\Users\\\\Chuan\\\\Documents\\\\Database\\\\Karyotypes\\\\Arrangement_Merged\\\\chr_18\\\\183873-del(18)(p11)-15L.bmp',\n",
       "  'D:\\\\Users\\\\Chuan\\\\Documents\\\\Database\\\\Karyotypes\\\\Arrangement_Merged\\\\chr_18\\\\183873-del(18)(p11)-16L.bmp',\n",
       "  'D:\\\\Users\\\\Chuan\\\\Documents\\\\Database\\\\Karyotypes\\\\Arrangement_Merged\\\\chr_18\\\\183873-del(18)(p11)-17L.bmp',\n",
       "  'D:\\\\Users\\\\Chuan\\\\Documents\\\\Database\\\\Karyotypes\\\\Arrangement_Merged\\\\chr_18\\\\183873-del(18)(p11)-18L.bmp',\n",
       "  'D:\\\\Users\\\\Chuan\\\\Documents\\\\Database\\\\Karyotypes\\\\Arrangement_Merged\\\\chr_18\\\\183873-del(18)(p11)-19L.bmp',\n",
       "  'D:\\\\Users\\\\Chuan\\\\Documents\\\\Database\\\\Karyotypes\\\\Arrangement_Merged\\\\chr_18\\\\183873-del(18)(p11)-1L.bmp',\n",
       "  'D:\\\\Users\\\\Chuan\\\\Documents\\\\Database\\\\Karyotypes\\\\Arrangement_Merged\\\\chr_18\\\\183873-del(18)(p11)-20L.bmp',\n",
       "  'D:\\\\Users\\\\Chuan\\\\Documents\\\\Database\\\\Karyotypes\\\\Arrangement_Merged\\\\chr_18\\\\183873-del(18)(p11)-21L.bmp',\n",
       "  'D:\\\\Users\\\\Chuan\\\\Documents\\\\Database\\\\Karyotypes\\\\Arrangement_Merged\\\\chr_18\\\\183873-del(18)(p11)-22L.bmp',\n",
       "  'D:\\\\Users\\\\Chuan\\\\Documents\\\\Database\\\\Karyotypes\\\\Arrangement_Merged\\\\chr_18\\\\183873-del(18)(p11)-23L.bmp',\n",
       "  'D:\\\\Users\\\\Chuan\\\\Documents\\\\Database\\\\Karyotypes\\\\Arrangement_Merged\\\\chr_18\\\\183873-del(18)(p11)-24L.bmp',\n",
       "  'D:\\\\Users\\\\Chuan\\\\Documents\\\\Database\\\\Karyotypes\\\\Arrangement_Merged\\\\chr_18\\\\183873-del(18)(p11)-25L.bmp',\n",
       "  'D:\\\\Users\\\\Chuan\\\\Documents\\\\Database\\\\Karyotypes\\\\Arrangement_Merged\\\\chr_18\\\\183873-del(18)(p11)-2L.bmp',\n",
       "  'D:\\\\Users\\\\Chuan\\\\Documents\\\\Database\\\\Karyotypes\\\\Arrangement_Merged\\\\chr_18\\\\183873-del(18)(p11)-3L.bmp',\n",
       "  'D:\\\\Users\\\\Chuan\\\\Documents\\\\Database\\\\Karyotypes\\\\Arrangement_Merged\\\\chr_18\\\\183873-del(18)(p11)-4L.bmp',\n",
       "  'D:\\\\Users\\\\Chuan\\\\Documents\\\\Database\\\\Karyotypes\\\\Arrangement_Merged\\\\chr_18\\\\183873-del(18)(p11)-5L.bmp',\n",
       "  'D:\\\\Users\\\\Chuan\\\\Documents\\\\Database\\\\Karyotypes\\\\Arrangement_Merged\\\\chr_18\\\\183873-del(18)(p11)-6L.bmp',\n",
       "  'D:\\\\Users\\\\Chuan\\\\Documents\\\\Database\\\\Karyotypes\\\\Arrangement_Merged\\\\chr_18\\\\183873-del(18)(p11)-7L.bmp',\n",
       "  'D:\\\\Users\\\\Chuan\\\\Documents\\\\Database\\\\Karyotypes\\\\Arrangement_Merged\\\\chr_18\\\\183873-del(18)(p11)-8L.bmp',\n",
       "  'D:\\\\Users\\\\Chuan\\\\Documents\\\\Database\\\\Karyotypes\\\\Arrangement_Merged\\\\chr_18\\\\183873-del(18)(p11)-9L.bmp',\n",
       "  'D:\\\\Users\\\\Chuan\\\\Documents\\\\Database\\\\Karyotypes\\\\Arrangement_Merged\\\\chr_18\\\\190325-1.jpg_18L.bmp',\n",
       "  'D:\\\\Users\\\\Chuan\\\\Documents\\\\Database\\\\Karyotypes\\\\Arrangement_Merged\\\\chr_18\\\\190325-10.jpg_18L.bmp',\n",
       "  'D:\\\\Users\\\\Chuan\\\\Documents\\\\Database\\\\Karyotypes\\\\Arrangement_Merged\\\\chr_18\\\\190325-11.jpg_18L.bmp',\n",
       "  'D:\\\\Users\\\\Chuan\\\\Documents\\\\Database\\\\Karyotypes\\\\Arrangement_Merged\\\\chr_18\\\\190325-12.jpg_18L.bmp',\n",
       "  'D:\\\\Users\\\\Chuan\\\\Documents\\\\Database\\\\Karyotypes\\\\Arrangement_Merged\\\\chr_18\\\\190325-13.jpg_18L.bmp',\n",
       "  'D:\\\\Users\\\\Chuan\\\\Documents\\\\Database\\\\Karyotypes\\\\Arrangement_Merged\\\\chr_18\\\\190325-14.jpg_18L.bmp',\n",
       "  'D:\\\\Users\\\\Chuan\\\\Documents\\\\Database\\\\Karyotypes\\\\Arrangement_Merged\\\\chr_18\\\\190325-15.jpg_18L.bmp',\n",
       "  'D:\\\\Users\\\\Chuan\\\\Documents\\\\Database\\\\Karyotypes\\\\Arrangement_Merged\\\\chr_18\\\\190325-16.jpg_18L.bmp',\n",
       "  'D:\\\\Users\\\\Chuan\\\\Documents\\\\Database\\\\Karyotypes\\\\Arrangement_Merged\\\\chr_18\\\\190325-17.jpg_18L.bmp',\n",
       "  'D:\\\\Users\\\\Chuan\\\\Documents\\\\Database\\\\Karyotypes\\\\Arrangement_Merged\\\\chr_18\\\\190325-18.jpg_18L.bmp',\n",
       "  'D:\\\\Users\\\\Chuan\\\\Documents\\\\Database\\\\Karyotypes\\\\Arrangement_Merged\\\\chr_18\\\\190325-19.jpg_18L.bmp',\n",
       "  'D:\\\\Users\\\\Chuan\\\\Documents\\\\Database\\\\Karyotypes\\\\Arrangement_Merged\\\\chr_18\\\\190325-2.jpg_18L.bmp',\n",
       "  'D:\\\\Users\\\\Chuan\\\\Documents\\\\Database\\\\Karyotypes\\\\Arrangement_Merged\\\\chr_18\\\\190325-20.jpg.18L.bmp',\n",
       "  'D:\\\\Users\\\\Chuan\\\\Documents\\\\Database\\\\Karyotypes\\\\Arrangement_Merged\\\\chr_18\\\\190325-3.jpg_18L.bmp',\n",
       "  'D:\\\\Users\\\\Chuan\\\\Documents\\\\Database\\\\Karyotypes\\\\Arrangement_Merged\\\\chr_18\\\\190325-4.jpg_18L.bmp',\n",
       "  'D:\\\\Users\\\\Chuan\\\\Documents\\\\Database\\\\Karyotypes\\\\Arrangement_Merged\\\\chr_18\\\\190325-5.jpg_18L.bmp',\n",
       "  'D:\\\\Users\\\\Chuan\\\\Documents\\\\Database\\\\Karyotypes\\\\Arrangement_Merged\\\\chr_18\\\\190325-6.jpg_18L.bmp',\n",
       "  'D:\\\\Users\\\\Chuan\\\\Documents\\\\Database\\\\Karyotypes\\\\Arrangement_Merged\\\\chr_18\\\\190325-7.jpg_18L.bmp',\n",
       "  'D:\\\\Users\\\\Chuan\\\\Documents\\\\Database\\\\Karyotypes\\\\Arrangement_Merged\\\\chr_18\\\\190325-8.jpg_18L.bmp',\n",
       "  'D:\\\\Users\\\\Chuan\\\\Documents\\\\Database\\\\Karyotypes\\\\Arrangement_Merged\\\\chr_18\\\\190325-9.jpg_18L.bmp',\n",
       "  'D:\\\\Users\\\\Chuan\\\\Documents\\\\Database\\\\Karyotypes\\\\Arrangement_Merged\\\\chr_18\\\\191225-1.jpg_18L.bmp',\n",
       "  'D:\\\\Users\\\\Chuan\\\\Documents\\\\Database\\\\Karyotypes\\\\Arrangement_Merged\\\\chr_18\\\\191225-10.jpg_18L.bmp',\n",
       "  'D:\\\\Users\\\\Chuan\\\\Documents\\\\Database\\\\Karyotypes\\\\Arrangement_Merged\\\\chr_18\\\\191225-11.jpg_18L.bmp',\n",
       "  'D:\\\\Users\\\\Chuan\\\\Documents\\\\Database\\\\Karyotypes\\\\Arrangement_Merged\\\\chr_18\\\\191225-13.jpg_18L.bmp',\n",
       "  'D:\\\\Users\\\\Chuan\\\\Documents\\\\Database\\\\Karyotypes\\\\Arrangement_Merged\\\\chr_18\\\\191225-14.jpg_18L.bmp',\n",
       "  'D:\\\\Users\\\\Chuan\\\\Documents\\\\Database\\\\Karyotypes\\\\Arrangement_Merged\\\\chr_18\\\\191225-15.jpg_18L.bmp',\n",
       "  'D:\\\\Users\\\\Chuan\\\\Documents\\\\Database\\\\Karyotypes\\\\Arrangement_Merged\\\\chr_18\\\\191225-16.jpg_18L.bmp',\n",
       "  'D:\\\\Users\\\\Chuan\\\\Documents\\\\Database\\\\Karyotypes\\\\Arrangement_Merged\\\\chr_18\\\\191225-17.jpg_18L.bmp',\n",
       "  'D:\\\\Users\\\\Chuan\\\\Documents\\\\Database\\\\Karyotypes\\\\Arrangement_Merged\\\\chr_18\\\\191225-18.jpg_18L.bmp',\n",
       "  'D:\\\\Users\\\\Chuan\\\\Documents\\\\Database\\\\Karyotypes\\\\Arrangement_Merged\\\\chr_18\\\\191225-19.jpg_18L.bmp',\n",
       "  'D:\\\\Users\\\\Chuan\\\\Documents\\\\Database\\\\Karyotypes\\\\Arrangement_Merged\\\\chr_18\\\\191225-2.jpg_18L.bmp',\n",
       "  'D:\\\\Users\\\\Chuan\\\\Documents\\\\Database\\\\Karyotypes\\\\Arrangement_Merged\\\\chr_18\\\\191225-20.jpg_18L.bmp',\n",
       "  'D:\\\\Users\\\\Chuan\\\\Documents\\\\Database\\\\Karyotypes\\\\Arrangement_Merged\\\\chr_18\\\\191225-21.jpg_18L.bmp',\n",
       "  'D:\\\\Users\\\\Chuan\\\\Documents\\\\Database\\\\Karyotypes\\\\Arrangement_Merged\\\\chr_18\\\\191225-5.jpg_18L.bmp',\n",
       "  'D:\\\\Users\\\\Chuan\\\\Documents\\\\Database\\\\Karyotypes\\\\Arrangement_Merged\\\\chr_18\\\\191225-6.jpg_18L.bmp',\n",
       "  'D:\\\\Users\\\\Chuan\\\\Documents\\\\Database\\\\Karyotypes\\\\Arrangement_Merged\\\\chr_18\\\\191225-7.jpg_18L.bmp',\n",
       "  'D:\\\\Users\\\\Chuan\\\\Documents\\\\Database\\\\Karyotypes\\\\Arrangement_Merged\\\\chr_18\\\\191225-8.jpg_18L.bmp',\n",
       "  'D:\\\\Users\\\\Chuan\\\\Documents\\\\Database\\\\Karyotypes\\\\Arrangement_Merged\\\\chr_18\\\\191225-9.jpg_18L.bmp',\n",
       "  'D:\\\\Users\\\\Chuan\\\\Documents\\\\Database\\\\Karyotypes\\\\Arrangement_Merged\\\\chr_18\\\\194161-del(18)(p11)-10L.bmp',\n",
       "  'D:\\\\Users\\\\Chuan\\\\Documents\\\\Database\\\\Karyotypes\\\\Arrangement_Merged\\\\chr_18\\\\194161-del(18)(p11)-11L.bmp',\n",
       "  'D:\\\\Users\\\\Chuan\\\\Documents\\\\Database\\\\Karyotypes\\\\Arrangement_Merged\\\\chr_18\\\\194161-del(18)(p11)-12L.bmp',\n",
       "  'D:\\\\Users\\\\Chuan\\\\Documents\\\\Database\\\\Karyotypes\\\\Arrangement_Merged\\\\chr_18\\\\194161-del(18)(p11)-13L.bmp',\n",
       "  'D:\\\\Users\\\\Chuan\\\\Documents\\\\Database\\\\Karyotypes\\\\Arrangement_Merged\\\\chr_18\\\\194161-del(18)(p11)-14L.bmp',\n",
       "  'D:\\\\Users\\\\Chuan\\\\Documents\\\\Database\\\\Karyotypes\\\\Arrangement_Merged\\\\chr_18\\\\194161-del(18)(p11)-15L.bmp',\n",
       "  'D:\\\\Users\\\\Chuan\\\\Documents\\\\Database\\\\Karyotypes\\\\Arrangement_Merged\\\\chr_18\\\\194161-del(18)(p11)-16L.bmp',\n",
       "  'D:\\\\Users\\\\Chuan\\\\Documents\\\\Database\\\\Karyotypes\\\\Arrangement_Merged\\\\chr_18\\\\194161-del(18)(p11)-17L.bmp',\n",
       "  'D:\\\\Users\\\\Chuan\\\\Documents\\\\Database\\\\Karyotypes\\\\Arrangement_Merged\\\\chr_18\\\\194161-del(18)(p11)-18L.bmp',\n",
       "  'D:\\\\Users\\\\Chuan\\\\Documents\\\\Database\\\\Karyotypes\\\\Arrangement_Merged\\\\chr_18\\\\194161-del(18)(p11)-19L.bmp',\n",
       "  'D:\\\\Users\\\\Chuan\\\\Documents\\\\Database\\\\Karyotypes\\\\Arrangement_Merged\\\\chr_18\\\\194161-del(18)(p11)-1L.bmp',\n",
       "  'D:\\\\Users\\\\Chuan\\\\Documents\\\\Database\\\\Karyotypes\\\\Arrangement_Merged\\\\chr_18\\\\194161-del(18)(p11)-20L.bmp',\n",
       "  'D:\\\\Users\\\\Chuan\\\\Documents\\\\Database\\\\Karyotypes\\\\Arrangement_Merged\\\\chr_18\\\\194161-del(18)(p11)-21L.bmp',\n",
       "  'D:\\\\Users\\\\Chuan\\\\Documents\\\\Database\\\\Karyotypes\\\\Arrangement_Merged\\\\chr_18\\\\194161-del(18)(p11)-22L.bmp',\n",
       "  'D:\\\\Users\\\\Chuan\\\\Documents\\\\Database\\\\Karyotypes\\\\Arrangement_Merged\\\\chr_18\\\\194161-del(18)(p11)-23L.bmp',\n",
       "  'D:\\\\Users\\\\Chuan\\\\Documents\\\\Database\\\\Karyotypes\\\\Arrangement_Merged\\\\chr_18\\\\194161-del(18)(p11)-24L.bmp',\n",
       "  'D:\\\\Users\\\\Chuan\\\\Documents\\\\Database\\\\Karyotypes\\\\Arrangement_Merged\\\\chr_18\\\\194161-del(18)(p11)-25L.bmp',\n",
       "  'D:\\\\Users\\\\Chuan\\\\Documents\\\\Database\\\\Karyotypes\\\\Arrangement_Merged\\\\chr_18\\\\194161-del(18)(p11)-26L.bmp',\n",
       "  'D:\\\\Users\\\\Chuan\\\\Documents\\\\Database\\\\Karyotypes\\\\Arrangement_Merged\\\\chr_18\\\\194161-del(18)(p11)-27L.bmp',\n",
       "  'D:\\\\Users\\\\Chuan\\\\Documents\\\\Database\\\\Karyotypes\\\\Arrangement_Merged\\\\chr_18\\\\194161-del(18)(p11)-28L.bmp',\n",
       "  'D:\\\\Users\\\\Chuan\\\\Documents\\\\Database\\\\Karyotypes\\\\Arrangement_Merged\\\\chr_18\\\\194161-del(18)(p11)-29L.bmp',\n",
       "  'D:\\\\Users\\\\Chuan\\\\Documents\\\\Database\\\\Karyotypes\\\\Arrangement_Merged\\\\chr_18\\\\194161-del(18)(p11)-2L.bmp',\n",
       "  'D:\\\\Users\\\\Chuan\\\\Documents\\\\Database\\\\Karyotypes\\\\Arrangement_Merged\\\\chr_18\\\\194161-del(18)(p11)-30L.bmp',\n",
       "  'D:\\\\Users\\\\Chuan\\\\Documents\\\\Database\\\\Karyotypes\\\\Arrangement_Merged\\\\chr_18\\\\194161-del(18)(p11)-3L.bmp',\n",
       "  'D:\\\\Users\\\\Chuan\\\\Documents\\\\Database\\\\Karyotypes\\\\Arrangement_Merged\\\\chr_18\\\\194161-del(18)(p11)-4L.bmp',\n",
       "  'D:\\\\Users\\\\Chuan\\\\Documents\\\\Database\\\\Karyotypes\\\\Arrangement_Merged\\\\chr_18\\\\194161-del(18)(p11)-5L.bmp',\n",
       "  'D:\\\\Users\\\\Chuan\\\\Documents\\\\Database\\\\Karyotypes\\\\Arrangement_Merged\\\\chr_18\\\\194161-del(18)(p11)-6L.bmp',\n",
       "  'D:\\\\Users\\\\Chuan\\\\Documents\\\\Database\\\\Karyotypes\\\\Arrangement_Merged\\\\chr_18\\\\194161-del(18)(p11)-7L.bmp',\n",
       "  'D:\\\\Users\\\\Chuan\\\\Documents\\\\Database\\\\Karyotypes\\\\Arrangement_Merged\\\\chr_18\\\\194161-del(18)(p11)-8L.bmp',\n",
       "  'D:\\\\Users\\\\Chuan\\\\Documents\\\\Database\\\\Karyotypes\\\\Arrangement_Merged\\\\chr_18\\\\194161-del(18)(p11)-9L.bmp',\n",
       "  'D:\\\\Users\\\\Chuan\\\\Documents\\\\Database\\\\Karyotypes\\\\Arrangement_Merged\\\\chr_18\\\\w21000~A.0001.K.jpg.18L.bmp',\n",
       "  'D:\\\\Users\\\\Chuan\\\\Documents\\\\Database\\\\Karyotypes\\\\Arrangement_Merged\\\\chr_18\\\\w21000~A.0001.K.jpg.18R.bmp',\n",
       "  'D:\\\\Users\\\\Chuan\\\\Documents\\\\Database\\\\Karyotypes\\\\Arrangement_Merged\\\\chr_18\\\\w21001~A.0008.K.jpg.18L.bmp',\n",
       "  'D:\\\\Users\\\\Chuan\\\\Documents\\\\Database\\\\Karyotypes\\\\Arrangement_Merged\\\\chr_18\\\\w21001~A.0008.K.jpg.18R.bmp',\n",
       "  'D:\\\\Users\\\\Chuan\\\\Documents\\\\Database\\\\Karyotypes\\\\Arrangement_Merged\\\\chr_18\\\\w21002~A.0024.K.jpg.18L.bmp',\n",
       "  'D:\\\\Users\\\\Chuan\\\\Documents\\\\Database\\\\Karyotypes\\\\Arrangement_Merged\\\\chr_18\\\\w21002~A.0024.K.jpg.18R.bmp',\n",
       "  'D:\\\\Users\\\\Chuan\\\\Documents\\\\Database\\\\Karyotypes\\\\Arrangement_Merged\\\\chr_18\\\\w21008~A.0008.K.jpg.18L.bmp',\n",
       "  'D:\\\\Users\\\\Chuan\\\\Documents\\\\Database\\\\Karyotypes\\\\Arrangement_Merged\\\\chr_18\\\\w21008~A.0008.K.jpg.18R.bmp',\n",
       "  'D:\\\\Users\\\\Chuan\\\\Documents\\\\Database\\\\Karyotypes\\\\Arrangement_Merged\\\\chr_18\\\\W21011~A.0008.K.18L.bmp',\n",
       "  'D:\\\\Users\\\\Chuan\\\\Documents\\\\Database\\\\Karyotypes\\\\Arrangement_Merged\\\\chr_18\\\\W21011~A.0008.K.18R.bmp',\n",
       "  'D:\\\\Users\\\\Chuan\\\\Documents\\\\Database\\\\Karyotypes\\\\Arrangement_Merged\\\\chr_18\\\\W21012~A.0019.K.18L.bmp',\n",
       "  'D:\\\\Users\\\\Chuan\\\\Documents\\\\Database\\\\Karyotypes\\\\Arrangement_Merged\\\\chr_18\\\\W21012~A.0019.K.18R.bmp',\n",
       "  'D:\\\\Users\\\\Chuan\\\\Documents\\\\Database\\\\Karyotypes\\\\Arrangement_Merged\\\\chr_18\\\\W21014~A.0005.K.18L.bmp',\n",
       "  'D:\\\\Users\\\\Chuan\\\\Documents\\\\Database\\\\Karyotypes\\\\Arrangement_Merged\\\\chr_18\\\\W21014~A.0005.K.18R.bmp',\n",
       "  'D:\\\\Users\\\\Chuan\\\\Documents\\\\Database\\\\Karyotypes\\\\Arrangement_Merged\\\\chr_18\\\\W21022~A.0007.K.jpg.18L.bmp',\n",
       "  'D:\\\\Users\\\\Chuan\\\\Documents\\\\Database\\\\Karyotypes\\\\Arrangement_Merged\\\\chr_18\\\\W21022~A.0007.K.jpg.18R.bmp',\n",
       "  'D:\\\\Users\\\\Chuan\\\\Documents\\\\Database\\\\Karyotypes\\\\Arrangement_Merged\\\\chr_18\\\\W21025~A.0002.K.jpg.18L.bmp',\n",
       "  'D:\\\\Users\\\\Chuan\\\\Documents\\\\Database\\\\Karyotypes\\\\Arrangement_Merged\\\\chr_18\\\\W21025~A.0002.K.jpg.18R.bmp',\n",
       "  'D:\\\\Users\\\\Chuan\\\\Documents\\\\Database\\\\Karyotypes\\\\Arrangement_Merged\\\\chr_18\\\\W21027~A.0003.K.18L.bmp',\n",
       "  'D:\\\\Users\\\\Chuan\\\\Documents\\\\Database\\\\Karyotypes\\\\Arrangement_Merged\\\\chr_18\\\\W21027~A.0003.K.18R.bmp',\n",
       "  'D:\\\\Users\\\\Chuan\\\\Documents\\\\Database\\\\Karyotypes\\\\Arrangement_Merged\\\\chr_18\\\\W21486~A.0020.K.bmp.18L.bmp',\n",
       "  'D:\\\\Users\\\\Chuan\\\\Documents\\\\Database\\\\Karyotypes\\\\Arrangement_Merged\\\\chr_18\\\\W21486~A.0020.K.bmp.18R.bmp',\n",
       "  'D:\\\\Users\\\\Chuan\\\\Documents\\\\Database\\\\Karyotypes\\\\Arrangement_Merged\\\\chr_18\\\\W21563~A.0006.K.18L.bmp',\n",
       "  'D:\\\\Users\\\\Chuan\\\\Documents\\\\Database\\\\Karyotypes\\\\Arrangement_Merged\\\\chr_18\\\\W21563~A.0006.K.18R.bmp',\n",
       "  'D:\\\\Users\\\\Chuan\\\\Documents\\\\Database\\\\Karyotypes\\\\Arrangement_Merged\\\\chr_18\\\\W21570~A.0001.K.jpg.18L.bmp',\n",
       "  'D:\\\\Users\\\\Chuan\\\\Documents\\\\Database\\\\Karyotypes\\\\Arrangement_Merged\\\\chr_18\\\\W21570~A.0001.K.jpg.18R.bmp',\n",
       "  'D:\\\\Users\\\\Chuan\\\\Documents\\\\Database\\\\Karyotypes\\\\Arrangement_Merged\\\\chr_18\\\\W21576~A.0010.K.jpg.18L.bmp',\n",
       "  'D:\\\\Users\\\\Chuan\\\\Documents\\\\Database\\\\Karyotypes\\\\Arrangement_Merged\\\\chr_18\\\\W21576~A.0010.K.jpg.18R.bmp',\n",
       "  'D:\\\\Users\\\\Chuan\\\\Documents\\\\Database\\\\Karyotypes\\\\Arrangement_Merged\\\\chr_18\\\\W21587~A.0008.K.jpg.18L.bmp',\n",
       "  'D:\\\\Users\\\\Chuan\\\\Documents\\\\Database\\\\Karyotypes\\\\Arrangement_Merged\\\\chr_18\\\\W21587~A.0008.K.jpg.18R.bmp',\n",
       "  'D:\\\\Users\\\\Chuan\\\\Documents\\\\Database\\\\Karyotypes\\\\Arrangement_Merged\\\\chr_18\\\\W21587~A.0010.K.jpg.18L.bmp',\n",
       "  'D:\\\\Users\\\\Chuan\\\\Documents\\\\Database\\\\Karyotypes\\\\Arrangement_Merged\\\\chr_18\\\\W21587~A.0010.K.jpg.18R.bmp',\n",
       "  'D:\\\\Users\\\\Chuan\\\\Documents\\\\Database\\\\Karyotypes\\\\Arrangement_Merged\\\\chr_18\\\\W21588~A.0001.K.jpg.18L.bmp',\n",
       "  'D:\\\\Users\\\\Chuan\\\\Documents\\\\Database\\\\Karyotypes\\\\Arrangement_Merged\\\\chr_18\\\\W21588~A.0001.K.jpg.18R.bmp',\n",
       "  'D:\\\\Users\\\\Chuan\\\\Documents\\\\Database\\\\Karyotypes\\\\Arrangement_Merged\\\\chr_18\\\\W21766~A.0025.K.jpg.18L.bmp',\n",
       "  'D:\\\\Users\\\\Chuan\\\\Documents\\\\Database\\\\Karyotypes\\\\Arrangement_Merged\\\\chr_18\\\\W21766~A.0025.K.jpg.18R.bmp',\n",
       "  'D:\\\\Users\\\\Chuan\\\\Documents\\\\Database\\\\Karyotypes\\\\Arrangement_Merged\\\\chr_18\\\\W21890~A.0005.K.jpg.18L.bmp',\n",
       "  'D:\\\\Users\\\\Chuan\\\\Documents\\\\Database\\\\Karyotypes\\\\Arrangement_Merged\\\\chr_18\\\\W21890~A.0005.K.jpg.18R.bmp',\n",
       "  'D:\\\\Users\\\\Chuan\\\\Documents\\\\Database\\\\Karyotypes\\\\Arrangement_Merged\\\\chr_18\\\\W21894~A.0009.K.jpg.18L.bmp',\n",
       "  'D:\\\\Users\\\\Chuan\\\\Documents\\\\Database\\\\Karyotypes\\\\Arrangement_Merged\\\\chr_18\\\\W21894~A.0009.K.jpg.18R.bmp',\n",
       "  'D:\\\\Users\\\\Chuan\\\\Documents\\\\Database\\\\Karyotypes\\\\Arrangement_Merged\\\\chr_18\\\\W21902~A.0010.K.jpg.18L.bmp',\n",
       "  'D:\\\\Users\\\\Chuan\\\\Documents\\\\Database\\\\Karyotypes\\\\Arrangement_Merged\\\\chr_18\\\\W21902~A.0010.K.jpg.18R.bmp',\n",
       "  'D:\\\\Users\\\\Chuan\\\\Documents\\\\Database\\\\Karyotypes\\\\Arrangement_Merged\\\\chr_18\\\\W21905~A.0007.K.jpg.18L.bmp',\n",
       "  'D:\\\\Users\\\\Chuan\\\\Documents\\\\Database\\\\Karyotypes\\\\Arrangement_Merged\\\\chr_18\\\\W21905~A.0007.K.jpg.18R.bmp',\n",
       "  'D:\\\\Users\\\\Chuan\\\\Documents\\\\Database\\\\Karyotypes\\\\Arrangement_Merged\\\\chr_18\\\\W21906~A.0011.K.jpg.18L.bmp',\n",
       "  'D:\\\\Users\\\\Chuan\\\\Documents\\\\Database\\\\Karyotypes\\\\Arrangement_Merged\\\\chr_18\\\\W21906~A.0011.K.jpg.18R.bmp',\n",
       "  'D:\\\\Users\\\\Chuan\\\\Documents\\\\Database\\\\Karyotypes\\\\Arrangement_Merged\\\\chr_18\\\\w22038~A.0017.K.jpg.18L.bmp',\n",
       "  'D:\\\\Users\\\\Chuan\\\\Documents\\\\Database\\\\Karyotypes\\\\Arrangement_Merged\\\\chr_18\\\\w22038~A.0017.K.jpg.18R.bmp',\n",
       "  'D:\\\\Users\\\\Chuan\\\\Documents\\\\Database\\\\Karyotypes\\\\Arrangement_Merged\\\\chr_18\\\\w22292~A.0027.K.jpg.18L.bmp',\n",
       "  'D:\\\\Users\\\\Chuan\\\\Documents\\\\Database\\\\Karyotypes\\\\Arrangement_Merged\\\\chr_18\\\\w22292~A.0027.K.jpg.18R.bmp',\n",
       "  'D:\\\\Users\\\\Chuan\\\\Documents\\\\Database\\\\Karyotypes\\\\Arrangement_Merged\\\\chr_18\\\\W22451~A.0011.K.jpg.18L.bmp',\n",
       "  'D:\\\\Users\\\\Chuan\\\\Documents\\\\Database\\\\Karyotypes\\\\Arrangement_Merged\\\\chr_18\\\\W22451~A.0011.K.jpg.18R.bmp',\n",
       "  'D:\\\\Users\\\\Chuan\\\\Documents\\\\Database\\\\Karyotypes\\\\Arrangement_Merged\\\\chr_18\\\\W22455~A.0002.K.jpg.18L.bmp',\n",
       "  'D:\\\\Users\\\\Chuan\\\\Documents\\\\Database\\\\Karyotypes\\\\Arrangement_Merged\\\\chr_18\\\\W22455~A.0002.K.jpg.18R.bmp',\n",
       "  'D:\\\\Users\\\\Chuan\\\\Documents\\\\Database\\\\Karyotypes\\\\Arrangement_Merged\\\\chr_18\\\\W22666-1.0002.K.jpg.18L.bmp',\n",
       "  'D:\\\\Users\\\\Chuan\\\\Documents\\\\Database\\\\Karyotypes\\\\Arrangement_Merged\\\\chr_18\\\\W22666-1.0002.K.jpg.18R.bmp',\n",
       "  'D:\\\\Users\\\\Chuan\\\\Documents\\\\Database\\\\Karyotypes\\\\Arrangement_Merged\\\\chr_18\\\\W22670~A.0006.K.jpg.18L.bmp',\n",
       "  'D:\\\\Users\\\\Chuan\\\\Documents\\\\Database\\\\Karyotypes\\\\Arrangement_Merged\\\\chr_18\\\\W22670~A.0006.K.jpg.18R.bmp',\n",
       "  'D:\\\\Users\\\\Chuan\\\\Documents\\\\Database\\\\Karyotypes\\\\Arrangement_Merged\\\\chr_18\\\\W22672~A.0004.K.jpg.18L.bmp',\n",
       "  'D:\\\\Users\\\\Chuan\\\\Documents\\\\Database\\\\Karyotypes\\\\Arrangement_Merged\\\\chr_18\\\\W22672~A.0004.K.jpg.18R.bmp',\n",
       "  'D:\\\\Users\\\\Chuan\\\\Documents\\\\Database\\\\Karyotypes\\\\Arrangement_Merged\\\\chr_18\\\\w22881~A.0017.K.jpg.18L.bmp',\n",
       "  'D:\\\\Users\\\\Chuan\\\\Documents\\\\Database\\\\Karyotypes\\\\Arrangement_Merged\\\\chr_18\\\\w22881~A.0017.K.jpg.18R.bmp',\n",
       "  'D:\\\\Users\\\\Chuan\\\\Documents\\\\Database\\\\Karyotypes\\\\Arrangement_Merged\\\\chr_18\\\\W23070~A.0001.K.jpg.18L.bmp',\n",
       "  'D:\\\\Users\\\\Chuan\\\\Documents\\\\Database\\\\Karyotypes\\\\Arrangement_Merged\\\\chr_18\\\\W23070~A.0001.K.jpg.18R.bmp',\n",
       "  'D:\\\\Users\\\\Chuan\\\\Documents\\\\Database\\\\Karyotypes\\\\Arrangement_Merged\\\\chr_18\\\\W23075-1~A.0017.K.jpg.18L.bmp',\n",
       "  'D:\\\\Users\\\\Chuan\\\\Documents\\\\Database\\\\Karyotypes\\\\Arrangement_Merged\\\\chr_18\\\\W23075-1~A.0017.K.jpg.18R.bmp',\n",
       "  'D:\\\\Users\\\\Chuan\\\\Documents\\\\Database\\\\Karyotypes\\\\Arrangement_Merged\\\\chr_18\\\\W23082.0026.K.jpg.18L.bmp',\n",
       "  'D:\\\\Users\\\\Chuan\\\\Documents\\\\Database\\\\Karyotypes\\\\Arrangement_Merged\\\\chr_18\\\\W23082.0026.K.jpg.18R.bmp',\n",
       "  'D:\\\\Users\\\\Chuan\\\\Documents\\\\Database\\\\Karyotypes\\\\Arrangement_Merged\\\\chr_18\\\\W23084~A.0003.K.jp.18L.bmp',\n",
       "  'D:\\\\Users\\\\Chuan\\\\Documents\\\\Database\\\\Karyotypes\\\\Arrangement_Merged\\\\chr_18\\\\W23084~A.0003.K.jp.18R.bmp'],\n",
       " 'chr_18_p11_deletion': ['D:\\\\Users\\\\Chuan\\\\Documents\\\\Database\\\\Karyotypes\\\\Arrangement_Merged\\\\chr_18_p11_deletion\\\\183873-del(18)(p11)-10R.bmp',\n",
       "  'D:\\\\Users\\\\Chuan\\\\Documents\\\\Database\\\\Karyotypes\\\\Arrangement_Merged\\\\chr_18_p11_deletion\\\\183873-del(18)(p11)-11R.bmp',\n",
       "  'D:\\\\Users\\\\Chuan\\\\Documents\\\\Database\\\\Karyotypes\\\\Arrangement_Merged\\\\chr_18_p11_deletion\\\\183873-del(18)(p11)-12R.bmp',\n",
       "  'D:\\\\Users\\\\Chuan\\\\Documents\\\\Database\\\\Karyotypes\\\\Arrangement_Merged\\\\chr_18_p11_deletion\\\\183873-del(18)(p11)-13R.bmp',\n",
       "  'D:\\\\Users\\\\Chuan\\\\Documents\\\\Database\\\\Karyotypes\\\\Arrangement_Merged\\\\chr_18_p11_deletion\\\\183873-del(18)(p11)-14R.bmp',\n",
       "  'D:\\\\Users\\\\Chuan\\\\Documents\\\\Database\\\\Karyotypes\\\\Arrangement_Merged\\\\chr_18_p11_deletion\\\\183873-del(18)(p11)-15R.bmp',\n",
       "  'D:\\\\Users\\\\Chuan\\\\Documents\\\\Database\\\\Karyotypes\\\\Arrangement_Merged\\\\chr_18_p11_deletion\\\\183873-del(18)(p11)-16R.bmp',\n",
       "  'D:\\\\Users\\\\Chuan\\\\Documents\\\\Database\\\\Karyotypes\\\\Arrangement_Merged\\\\chr_18_p11_deletion\\\\183873-del(18)(p11)-17R.bmp',\n",
       "  'D:\\\\Users\\\\Chuan\\\\Documents\\\\Database\\\\Karyotypes\\\\Arrangement_Merged\\\\chr_18_p11_deletion\\\\183873-del(18)(p11)-18R.bmp',\n",
       "  'D:\\\\Users\\\\Chuan\\\\Documents\\\\Database\\\\Karyotypes\\\\Arrangement_Merged\\\\chr_18_p11_deletion\\\\183873-del(18)(p11)-19R.bmp',\n",
       "  'D:\\\\Users\\\\Chuan\\\\Documents\\\\Database\\\\Karyotypes\\\\Arrangement_Merged\\\\chr_18_p11_deletion\\\\183873-del(18)(p11)-1R.bmp',\n",
       "  'D:\\\\Users\\\\Chuan\\\\Documents\\\\Database\\\\Karyotypes\\\\Arrangement_Merged\\\\chr_18_p11_deletion\\\\183873-del(18)(p11)-20R.bmp',\n",
       "  'D:\\\\Users\\\\Chuan\\\\Documents\\\\Database\\\\Karyotypes\\\\Arrangement_Merged\\\\chr_18_p11_deletion\\\\183873-del(18)(p11)-21R.bmp',\n",
       "  'D:\\\\Users\\\\Chuan\\\\Documents\\\\Database\\\\Karyotypes\\\\Arrangement_Merged\\\\chr_18_p11_deletion\\\\183873-del(18)(p11)-22R.bmp',\n",
       "  'D:\\\\Users\\\\Chuan\\\\Documents\\\\Database\\\\Karyotypes\\\\Arrangement_Merged\\\\chr_18_p11_deletion\\\\183873-del(18)(p11)-23R.bmp',\n",
       "  'D:\\\\Users\\\\Chuan\\\\Documents\\\\Database\\\\Karyotypes\\\\Arrangement_Merged\\\\chr_18_p11_deletion\\\\183873-del(18)(p11)-24R.bmp',\n",
       "  'D:\\\\Users\\\\Chuan\\\\Documents\\\\Database\\\\Karyotypes\\\\Arrangement_Merged\\\\chr_18_p11_deletion\\\\183873-del(18)(p11)-25R.bmp',\n",
       "  'D:\\\\Users\\\\Chuan\\\\Documents\\\\Database\\\\Karyotypes\\\\Arrangement_Merged\\\\chr_18_p11_deletion\\\\183873-del(18)(p11)-2R.bmp',\n",
       "  'D:\\\\Users\\\\Chuan\\\\Documents\\\\Database\\\\Karyotypes\\\\Arrangement_Merged\\\\chr_18_p11_deletion\\\\183873-del(18)(p11)-3R.bmp',\n",
       "  'D:\\\\Users\\\\Chuan\\\\Documents\\\\Database\\\\Karyotypes\\\\Arrangement_Merged\\\\chr_18_p11_deletion\\\\183873-del(18)(p11)-4R.bmp',\n",
       "  'D:\\\\Users\\\\Chuan\\\\Documents\\\\Database\\\\Karyotypes\\\\Arrangement_Merged\\\\chr_18_p11_deletion\\\\183873-del(18)(p11)-5R.bmp',\n",
       "  'D:\\\\Users\\\\Chuan\\\\Documents\\\\Database\\\\Karyotypes\\\\Arrangement_Merged\\\\chr_18_p11_deletion\\\\183873-del(18)(p11)-6R.bmp',\n",
       "  'D:\\\\Users\\\\Chuan\\\\Documents\\\\Database\\\\Karyotypes\\\\Arrangement_Merged\\\\chr_18_p11_deletion\\\\183873-del(18)(p11)-7R.bmp',\n",
       "  'D:\\\\Users\\\\Chuan\\\\Documents\\\\Database\\\\Karyotypes\\\\Arrangement_Merged\\\\chr_18_p11_deletion\\\\183873-del(18)(p11)-8R.bmp',\n",
       "  'D:\\\\Users\\\\Chuan\\\\Documents\\\\Database\\\\Karyotypes\\\\Arrangement_Merged\\\\chr_18_p11_deletion\\\\183873-del(18)(p11)-9R.bmp',\n",
       "  'D:\\\\Users\\\\Chuan\\\\Documents\\\\Database\\\\Karyotypes\\\\Arrangement_Merged\\\\chr_18_p11_deletion\\\\190325-1.jpg_18p11.bmp',\n",
       "  'D:\\\\Users\\\\Chuan\\\\Documents\\\\Database\\\\Karyotypes\\\\Arrangement_Merged\\\\chr_18_p11_deletion\\\\190325-10.jpg_18p11.bmp',\n",
       "  'D:\\\\Users\\\\Chuan\\\\Documents\\\\Database\\\\Karyotypes\\\\Arrangement_Merged\\\\chr_18_p11_deletion\\\\190325-11.jpg_18p11.bmp',\n",
       "  'D:\\\\Users\\\\Chuan\\\\Documents\\\\Database\\\\Karyotypes\\\\Arrangement_Merged\\\\chr_18_p11_deletion\\\\190325-12.jpg_18p11.bmp',\n",
       "  'D:\\\\Users\\\\Chuan\\\\Documents\\\\Database\\\\Karyotypes\\\\Arrangement_Merged\\\\chr_18_p11_deletion\\\\190325-13.jpg_18p11.bmp',\n",
       "  'D:\\\\Users\\\\Chuan\\\\Documents\\\\Database\\\\Karyotypes\\\\Arrangement_Merged\\\\chr_18_p11_deletion\\\\190325-14.jpg_18p11.bmp',\n",
       "  'D:\\\\Users\\\\Chuan\\\\Documents\\\\Database\\\\Karyotypes\\\\Arrangement_Merged\\\\chr_18_p11_deletion\\\\190325-15.jpg_18p11.bmp',\n",
       "  'D:\\\\Users\\\\Chuan\\\\Documents\\\\Database\\\\Karyotypes\\\\Arrangement_Merged\\\\chr_18_p11_deletion\\\\190325-16.jpg_18p11.bmp',\n",
       "  'D:\\\\Users\\\\Chuan\\\\Documents\\\\Database\\\\Karyotypes\\\\Arrangement_Merged\\\\chr_18_p11_deletion\\\\190325-17.jpg_18p11.bmp',\n",
       "  'D:\\\\Users\\\\Chuan\\\\Documents\\\\Database\\\\Karyotypes\\\\Arrangement_Merged\\\\chr_18_p11_deletion\\\\190325-18.jpg_18p11.bmp',\n",
       "  'D:\\\\Users\\\\Chuan\\\\Documents\\\\Database\\\\Karyotypes\\\\Arrangement_Merged\\\\chr_18_p11_deletion\\\\190325-19.jpg_18del_p11.bmp',\n",
       "  'D:\\\\Users\\\\Chuan\\\\Documents\\\\Database\\\\Karyotypes\\\\Arrangement_Merged\\\\chr_18_p11_deletion\\\\190325-2.jpg_18p11.bmp',\n",
       "  'D:\\\\Users\\\\Chuan\\\\Documents\\\\Database\\\\Karyotypes\\\\Arrangement_Merged\\\\chr_18_p11_deletion\\\\190325-20.jpg.18del_p11.bmp',\n",
       "  'D:\\\\Users\\\\Chuan\\\\Documents\\\\Database\\\\Karyotypes\\\\Arrangement_Merged\\\\chr_18_p11_deletion\\\\190325-3.jpg_18p11.bmp',\n",
       "  'D:\\\\Users\\\\Chuan\\\\Documents\\\\Database\\\\Karyotypes\\\\Arrangement_Merged\\\\chr_18_p11_deletion\\\\190325-4.jpg_18p11.bmp',\n",
       "  'D:\\\\Users\\\\Chuan\\\\Documents\\\\Database\\\\Karyotypes\\\\Arrangement_Merged\\\\chr_18_p11_deletion\\\\190325-5.jpg_18p11.bmp',\n",
       "  'D:\\\\Users\\\\Chuan\\\\Documents\\\\Database\\\\Karyotypes\\\\Arrangement_Merged\\\\chr_18_p11_deletion\\\\190325-6.jpg_18p11.bmp',\n",
       "  'D:\\\\Users\\\\Chuan\\\\Documents\\\\Database\\\\Karyotypes\\\\Arrangement_Merged\\\\chr_18_p11_deletion\\\\190325-7.jpg_18p11.bmp',\n",
       "  'D:\\\\Users\\\\Chuan\\\\Documents\\\\Database\\\\Karyotypes\\\\Arrangement_Merged\\\\chr_18_p11_deletion\\\\190325-8.jpg_18p11.bmp',\n",
       "  'D:\\\\Users\\\\Chuan\\\\Documents\\\\Database\\\\Karyotypes\\\\Arrangement_Merged\\\\chr_18_p11_deletion\\\\190325-9.jpg_18p11.bmp',\n",
       "  'D:\\\\Users\\\\Chuan\\\\Documents\\\\Database\\\\Karyotypes\\\\Arrangement_Merged\\\\chr_18_p11_deletion\\\\194161-del(18)(p11)-10R.bmp',\n",
       "  'D:\\\\Users\\\\Chuan\\\\Documents\\\\Database\\\\Karyotypes\\\\Arrangement_Merged\\\\chr_18_p11_deletion\\\\194161-del(18)(p11)-11R.bmp',\n",
       "  'D:\\\\Users\\\\Chuan\\\\Documents\\\\Database\\\\Karyotypes\\\\Arrangement_Merged\\\\chr_18_p11_deletion\\\\194161-del(18)(p11)-12R.bmp',\n",
       "  'D:\\\\Users\\\\Chuan\\\\Documents\\\\Database\\\\Karyotypes\\\\Arrangement_Merged\\\\chr_18_p11_deletion\\\\194161-del(18)(p11)-13R.bmp',\n",
       "  'D:\\\\Users\\\\Chuan\\\\Documents\\\\Database\\\\Karyotypes\\\\Arrangement_Merged\\\\chr_18_p11_deletion\\\\194161-del(18)(p11)-14R.bmp',\n",
       "  'D:\\\\Users\\\\Chuan\\\\Documents\\\\Database\\\\Karyotypes\\\\Arrangement_Merged\\\\chr_18_p11_deletion\\\\194161-del(18)(p11)-15R.bmp',\n",
       "  'D:\\\\Users\\\\Chuan\\\\Documents\\\\Database\\\\Karyotypes\\\\Arrangement_Merged\\\\chr_18_p11_deletion\\\\194161-del(18)(p11)-16R.bmp',\n",
       "  'D:\\\\Users\\\\Chuan\\\\Documents\\\\Database\\\\Karyotypes\\\\Arrangement_Merged\\\\chr_18_p11_deletion\\\\194161-del(18)(p11)-17R.bmp',\n",
       "  'D:\\\\Users\\\\Chuan\\\\Documents\\\\Database\\\\Karyotypes\\\\Arrangement_Merged\\\\chr_18_p11_deletion\\\\194161-del(18)(p11)-18R.bmp',\n",
       "  'D:\\\\Users\\\\Chuan\\\\Documents\\\\Database\\\\Karyotypes\\\\Arrangement_Merged\\\\chr_18_p11_deletion\\\\194161-del(18)(p11)-19R.bmp',\n",
       "  'D:\\\\Users\\\\Chuan\\\\Documents\\\\Database\\\\Karyotypes\\\\Arrangement_Merged\\\\chr_18_p11_deletion\\\\194161-del(18)(p11)-1R.bmp',\n",
       "  'D:\\\\Users\\\\Chuan\\\\Documents\\\\Database\\\\Karyotypes\\\\Arrangement_Merged\\\\chr_18_p11_deletion\\\\194161-del(18)(p11)-20R.bmp',\n",
       "  'D:\\\\Users\\\\Chuan\\\\Documents\\\\Database\\\\Karyotypes\\\\Arrangement_Merged\\\\chr_18_p11_deletion\\\\194161-del(18)(p11)-21R.bmp',\n",
       "  'D:\\\\Users\\\\Chuan\\\\Documents\\\\Database\\\\Karyotypes\\\\Arrangement_Merged\\\\chr_18_p11_deletion\\\\194161-del(18)(p11)-22R.bmp',\n",
       "  'D:\\\\Users\\\\Chuan\\\\Documents\\\\Database\\\\Karyotypes\\\\Arrangement_Merged\\\\chr_18_p11_deletion\\\\194161-del(18)(p11)-23R.bmp',\n",
       "  'D:\\\\Users\\\\Chuan\\\\Documents\\\\Database\\\\Karyotypes\\\\Arrangement_Merged\\\\chr_18_p11_deletion\\\\194161-del(18)(p11)-24R.bmp',\n",
       "  'D:\\\\Users\\\\Chuan\\\\Documents\\\\Database\\\\Karyotypes\\\\Arrangement_Merged\\\\chr_18_p11_deletion\\\\194161-del(18)(p11)-25R.bmp',\n",
       "  'D:\\\\Users\\\\Chuan\\\\Documents\\\\Database\\\\Karyotypes\\\\Arrangement_Merged\\\\chr_18_p11_deletion\\\\194161-del(18)(p11)-26R.bmp',\n",
       "  'D:\\\\Users\\\\Chuan\\\\Documents\\\\Database\\\\Karyotypes\\\\Arrangement_Merged\\\\chr_18_p11_deletion\\\\194161-del(18)(p11)-27R.bmp',\n",
       "  'D:\\\\Users\\\\Chuan\\\\Documents\\\\Database\\\\Karyotypes\\\\Arrangement_Merged\\\\chr_18_p11_deletion\\\\194161-del(18)(p11)-28R.bmp',\n",
       "  'D:\\\\Users\\\\Chuan\\\\Documents\\\\Database\\\\Karyotypes\\\\Arrangement_Merged\\\\chr_18_p11_deletion\\\\194161-del(18)(p11)-29R.bmp',\n",
       "  'D:\\\\Users\\\\Chuan\\\\Documents\\\\Database\\\\Karyotypes\\\\Arrangement_Merged\\\\chr_18_p11_deletion\\\\194161-del(18)(p11)-2R.bmp',\n",
       "  'D:\\\\Users\\\\Chuan\\\\Documents\\\\Database\\\\Karyotypes\\\\Arrangement_Merged\\\\chr_18_p11_deletion\\\\194161-del(18)(p11)-30R.bmp',\n",
       "  'D:\\\\Users\\\\Chuan\\\\Documents\\\\Database\\\\Karyotypes\\\\Arrangement_Merged\\\\chr_18_p11_deletion\\\\194161-del(18)(p11)-3R.bmp',\n",
       "  'D:\\\\Users\\\\Chuan\\\\Documents\\\\Database\\\\Karyotypes\\\\Arrangement_Merged\\\\chr_18_p11_deletion\\\\194161-del(18)(p11)-4R.bmp',\n",
       "  'D:\\\\Users\\\\Chuan\\\\Documents\\\\Database\\\\Karyotypes\\\\Arrangement_Merged\\\\chr_18_p11_deletion\\\\194161-del(18)(p11)-5R.bmp',\n",
       "  'D:\\\\Users\\\\Chuan\\\\Documents\\\\Database\\\\Karyotypes\\\\Arrangement_Merged\\\\chr_18_p11_deletion\\\\194161-del(18)(p11)-6R.bmp',\n",
       "  'D:\\\\Users\\\\Chuan\\\\Documents\\\\Database\\\\Karyotypes\\\\Arrangement_Merged\\\\chr_18_p11_deletion\\\\194161-del(18)(p11)-7R.bmp',\n",
       "  'D:\\\\Users\\\\Chuan\\\\Documents\\\\Database\\\\Karyotypes\\\\Arrangement_Merged\\\\chr_18_p11_deletion\\\\194161-del(18)(p11)-8R.bmp',\n",
       "  'D:\\\\Users\\\\Chuan\\\\Documents\\\\Database\\\\Karyotypes\\\\Arrangement_Merged\\\\chr_18_p11_deletion\\\\194161-del(18)(p11)-9R.bmp']}"
      ]
     },
     "execution_count": 5,
     "metadata": {},
     "output_type": "execute_result"
    }
   ],
   "source": [
    "with open('data_theWhole.json') as json_file:\n",
    "    theWhole = json.load(json_file)\n",
    "theWhole"
   ]
  },
  {
   "cell_type": "markdown",
   "metadata": {},
   "source": [
    "# 3. Iteration"
   ]
  },
  {
   "cell_type": "markdown",
   "metadata": {},
   "source": [
    "## 3.1 Image Input"
   ]
  },
  {
   "cell_type": "markdown",
   "metadata": {},
   "source": [
    "### 3.1.x Display the Split Method"
   ]
  },
  {
   "cell_type": "code",
   "execution_count": 6,
   "metadata": {},
   "outputs": [
    {
     "data": {
      "text/plain": [
       "dict"
      ]
     },
     "execution_count": 6,
     "metadata": {},
     "output_type": "execute_result"
    }
   ],
   "source": [
    "type(X_train_name)"
   ]
  },
  {
   "cell_type": "code",
   "execution_count": 7,
   "metadata": {},
   "outputs": [
    {
     "data": {
      "text/plain": [
       "dict_keys(['chr_18', 'chr_18_p11_deletion'])"
      ]
     },
     "execution_count": 7,
     "metadata": {},
     "output_type": "execute_result"
    }
   ],
   "source": [
    "X_train_name.keys()"
   ]
  },
  {
   "cell_type": "code",
   "execution_count": 8,
   "metadata": {},
   "outputs": [
    {
     "name": "stdout",
     "output_type": "stream",
     "text": [
      "Iteration No.  3\n",
      "chr_18\n",
      "   Train: \n",
      "        181228-i(18)(q10)+18-10L.bmp\n",
      "        181228-i(18)(q10)+18-11L.bmp\n",
      "        181228-i(18)(q10)+18-12L.bmp\n",
      "        181228-i(18)(q10)+18-14L.bmp\n",
      "        181228-i(18)(q10)+18-1L.bmp\n",
      "        181228-i(18)(q10)+18-2L.bmp\n",
      "        181228-i(18)(q10)+18-3L.bmp\n",
      "        181228-i(18)(q10)+18-4L.bmp\n",
      "        181228-i(18)(q10)+18-7L.bmp\n",
      "        181228-i(18)(q10)+18-8L.bmp\n",
      "        181228-i(18)(q10)+18-9L.bmp\n",
      "        183873-del(18)(p11)-10L.bmp\n",
      "        183873-del(18)(p11)-11L.bmp\n",
      "        183873-del(18)(p11)-13L.bmp\n",
      "        183873-del(18)(p11)-14L.bmp\n",
      "        183873-del(18)(p11)-15L.bmp\n",
      "        183873-del(18)(p11)-16L.bmp\n",
      "        183873-del(18)(p11)-17L.bmp\n",
      "        183873-del(18)(p11)-18L.bmp\n",
      "        183873-del(18)(p11)-19L.bmp\n",
      "        183873-del(18)(p11)-21L.bmp\n",
      "        183873-del(18)(p11)-24L.bmp\n",
      "        183873-del(18)(p11)-25L.bmp\n",
      "        183873-del(18)(p11)-3L.bmp\n",
      "        183873-del(18)(p11)-4L.bmp\n",
      "        183873-del(18)(p11)-5L.bmp\n",
      "        183873-del(18)(p11)-6L.bmp\n",
      "        183873-del(18)(p11)-7L.bmp\n",
      "        183873-del(18)(p11)-8L.bmp\n",
      "        183873-del(18)(p11)-9L.bmp\n",
      "        190325-1.jpg_18L.bmp\n",
      "        190325-10.jpg_18L.bmp\n",
      "        190325-11.jpg_18L.bmp\n",
      "        190325-13.jpg_18L.bmp\n",
      "        190325-15.jpg_18L.bmp\n",
      "        190325-16.jpg_18L.bmp\n",
      "        190325-17.jpg_18L.bmp\n",
      "        190325-18.jpg_18L.bmp\n",
      "        190325-19.jpg_18L.bmp\n",
      "        190325-20.jpg.18L.bmp\n",
      "        190325-3.jpg_18L.bmp\n",
      "        190325-5.jpg_18L.bmp\n",
      "        190325-6.jpg_18L.bmp\n",
      "        190325-7.jpg_18L.bmp\n",
      "        190325-8.jpg_18L.bmp\n",
      "        190325-9.jpg_18L.bmp\n",
      "        191225-1.jpg_18L.bmp\n",
      "        191225-10.jpg_18L.bmp\n",
      "        191225-11.jpg_18L.bmp\n",
      "        191225-13.jpg_18L.bmp\n",
      "        191225-14.jpg_18L.bmp\n",
      "        191225-15.jpg_18L.bmp\n",
      "        191225-17.jpg_18L.bmp\n",
      "        191225-18.jpg_18L.bmp\n",
      "        191225-2.jpg_18L.bmp\n",
      "        191225-20.jpg_18L.bmp\n",
      "        191225-21.jpg_18L.bmp\n",
      "        191225-5.jpg_18L.bmp\n",
      "        191225-6.jpg_18L.bmp\n",
      "        191225-7.jpg_18L.bmp\n",
      "        191225-8.jpg_18L.bmp\n",
      "        191225-9.jpg_18L.bmp\n",
      "        194161-del(18)(p11)-11L.bmp\n",
      "        194161-del(18)(p11)-12L.bmp\n",
      "        194161-del(18)(p11)-13L.bmp\n",
      "        194161-del(18)(p11)-15L.bmp\n",
      "        194161-del(18)(p11)-17L.bmp\n",
      "        194161-del(18)(p11)-18L.bmp\n",
      "        194161-del(18)(p11)-19L.bmp\n",
      "        194161-del(18)(p11)-1L.bmp\n",
      "        194161-del(18)(p11)-21L.bmp\n",
      "        194161-del(18)(p11)-22L.bmp\n",
      "        194161-del(18)(p11)-23L.bmp\n",
      "        194161-del(18)(p11)-24L.bmp\n",
      "        194161-del(18)(p11)-25L.bmp\n",
      "        194161-del(18)(p11)-26L.bmp\n",
      "        194161-del(18)(p11)-27L.bmp\n",
      "        194161-del(18)(p11)-28L.bmp\n",
      "        194161-del(18)(p11)-29L.bmp\n",
      "        194161-del(18)(p11)-2L.bmp\n",
      "        194161-del(18)(p11)-3L.bmp\n",
      "        194161-del(18)(p11)-5L.bmp\n",
      "        194161-del(18)(p11)-6L.bmp\n",
      "        194161-del(18)(p11)-9L.bmp\n",
      "        w21000~A.0001.K.jpg.18L.bmp\n",
      "        w21000~A.0001.K.jpg.18R.bmp\n",
      "        w21001~A.0008.K.jpg.18L.bmp\n",
      "        w21002~A.0024.K.jpg.18L.bmp\n",
      "        w21008~A.0008.K.jpg.18L.bmp\n",
      "        w21008~A.0008.K.jpg.18R.bmp\n",
      "        W21011~A.0008.K.18L.bmp\n",
      "        W21011~A.0008.K.18R.bmp\n",
      "        W21012~A.0019.K.18L.bmp\n",
      "        W21012~A.0019.K.18R.bmp\n",
      "        W21014~A.0005.K.18L.bmp\n",
      "        W21014~A.0005.K.18R.bmp\n",
      "        W21025~A.0002.K.jpg.18L.bmp\n",
      "        W21025~A.0002.K.jpg.18R.bmp\n",
      "        W21027~A.0003.K.18L.bmp\n",
      "        W21027~A.0003.K.18R.bmp\n",
      "        W21486~A.0020.K.bmp.18L.bmp\n",
      "        W21486~A.0020.K.bmp.18R.bmp\n",
      "        W21563~A.0006.K.18L.bmp\n",
      "        W21563~A.0006.K.18R.bmp\n",
      "        W21576~A.0010.K.jpg.18L.bmp\n",
      "        W21576~A.0010.K.jpg.18R.bmp\n",
      "        W21587~A.0008.K.jpg.18L.bmp\n",
      "        W21587~A.0008.K.jpg.18R.bmp\n",
      "        W21587~A.0010.K.jpg.18L.bmp\n",
      "        W21587~A.0010.K.jpg.18R.bmp\n",
      "        W21588~A.0001.K.jpg.18L.bmp\n",
      "        W21588~A.0001.K.jpg.18R.bmp\n",
      "        W21766~A.0025.K.jpg.18L.bmp\n",
      "        W21766~A.0025.K.jpg.18R.bmp\n",
      "        W21890~A.0005.K.jpg.18L.bmp\n",
      "        W21890~A.0005.K.jpg.18R.bmp\n",
      "        W21894~A.0009.K.jpg.18L.bmp\n",
      "        W21894~A.0009.K.jpg.18R.bmp\n",
      "        W21902~A.0010.K.jpg.18L.bmp\n",
      "        W21905~A.0007.K.jpg.18R.bmp\n",
      "        W21906~A.0011.K.jpg.18L.bmp\n",
      "        w22038~A.0017.K.jpg.18L.bmp\n",
      "        w22038~A.0017.K.jpg.18R.bmp\n",
      "        w22292~A.0027.K.jpg.18L.bmp\n",
      "        w22292~A.0027.K.jpg.18R.bmp\n",
      "        W22451~A.0011.K.jpg.18L.bmp\n",
      "        W22451~A.0011.K.jpg.18R.bmp\n",
      "        W22455~A.0002.K.jpg.18R.bmp\n",
      "        W22666-1.0002.K.jpg.18R.bmp\n",
      "        W22670~A.0006.K.jpg.18L.bmp\n",
      "        W22670~A.0006.K.jpg.18R.bmp\n",
      "        W22672~A.0004.K.jpg.18L.bmp\n",
      "        w22881~A.0017.K.jpg.18L.bmp\n",
      "        W23070~A.0001.K.jpg.18L.bmp\n",
      "        W23070~A.0001.K.jpg.18R.bmp\n",
      "        W23075-1~A.0017.K.jpg.18L.bmp\n",
      "        W23075-1~A.0017.K.jpg.18R.bmp\n",
      "        W23082.0026.K.jpg.18L.bmp\n",
      "        W23082.0026.K.jpg.18R.bmp\n",
      "        W23084~A.0003.K.jp.18L.bmp\n",
      "        W23084~A.0003.K.jp.18R.bmp\n",
      "   Test: \n",
      "        181228-i(18)(q10)+18-13L.bmp\n",
      "        181228-i(18)(q10)+18-5L.bmp\n",
      "        183873-del(18)(p11)-12L.bmp\n",
      "        183873-del(18)(p11)-1L.bmp\n",
      "        183873-del(18)(p11)-20L.bmp\n",
      "        183873-del(18)(p11)-22L.bmp\n",
      "        183873-del(18)(p11)-23L.bmp\n",
      "        183873-del(18)(p11)-2L.bmp\n",
      "        190325-12.jpg_18L.bmp\n",
      "        190325-14.jpg_18L.bmp\n",
      "        190325-2.jpg_18L.bmp\n",
      "        190325-4.jpg_18L.bmp\n",
      "        191225-16.jpg_18L.bmp\n",
      "        191225-19.jpg_18L.bmp\n",
      "        194161-del(18)(p11)-10L.bmp\n",
      "        194161-del(18)(p11)-14L.bmp\n",
      "        194161-del(18)(p11)-16L.bmp\n",
      "        194161-del(18)(p11)-20L.bmp\n",
      "        194161-del(18)(p11)-30L.bmp\n",
      "        194161-del(18)(p11)-4L.bmp\n",
      "        194161-del(18)(p11)-7L.bmp\n",
      "        194161-del(18)(p11)-8L.bmp\n",
      "        w21001~A.0008.K.jpg.18R.bmp\n",
      "        w21002~A.0024.K.jpg.18R.bmp\n",
      "        W21022~A.0007.K.jpg.18L.bmp\n",
      "        W21022~A.0007.K.jpg.18R.bmp\n",
      "        W21570~A.0001.K.jpg.18L.bmp\n",
      "        W21570~A.0001.K.jpg.18R.bmp\n",
      "        W21902~A.0010.K.jpg.18R.bmp\n",
      "        W21905~A.0007.K.jpg.18L.bmp\n",
      "        W21906~A.0011.K.jpg.18R.bmp\n",
      "        W22455~A.0002.K.jpg.18L.bmp\n",
      "        W22666-1.0002.K.jpg.18L.bmp\n",
      "        W22672~A.0004.K.jpg.18R.bmp\n",
      "        w22881~A.0017.K.jpg.18R.bmp\n",
      "chr_18_p11_deletion\n",
      "   Train: \n",
      "        183873-del(18)(p11)-10R.bmp\n",
      "        183873-del(18)(p11)-11R.bmp\n",
      "        183873-del(18)(p11)-12R.bmp\n",
      "        183873-del(18)(p11)-13R.bmp\n",
      "        183873-del(18)(p11)-15R.bmp\n",
      "        183873-del(18)(p11)-16R.bmp\n",
      "        183873-del(18)(p11)-17R.bmp\n",
      "        183873-del(18)(p11)-18R.bmp\n",
      "        183873-del(18)(p11)-19R.bmp\n",
      "        183873-del(18)(p11)-1R.bmp\n",
      "        183873-del(18)(p11)-21R.bmp\n",
      "        183873-del(18)(p11)-24R.bmp\n",
      "        183873-del(18)(p11)-25R.bmp\n",
      "        183873-del(18)(p11)-2R.bmp\n",
      "        183873-del(18)(p11)-3R.bmp\n",
      "        183873-del(18)(p11)-4R.bmp\n",
      "        183873-del(18)(p11)-5R.bmp\n",
      "        183873-del(18)(p11)-6R.bmp\n",
      "        183873-del(18)(p11)-9R.bmp\n",
      "        190325-1.jpg_18p11.bmp\n",
      "        190325-10.jpg_18p11.bmp\n",
      "        190325-11.jpg_18p11.bmp\n",
      "        190325-15.jpg_18p11.bmp\n",
      "        190325-17.jpg_18p11.bmp\n",
      "        190325-18.jpg_18p11.bmp\n",
      "        190325-19.jpg_18del_p11.bmp\n",
      "        190325-2.jpg_18p11.bmp\n",
      "        190325-20.jpg.18del_p11.bmp\n",
      "        190325-3.jpg_18p11.bmp\n",
      "        190325-4.jpg_18p11.bmp\n",
      "        190325-5.jpg_18p11.bmp\n",
      "        190325-8.jpg_18p11.bmp\n",
      "        190325-9.jpg_18p11.bmp\n",
      "        194161-del(18)(p11)-10R.bmp\n",
      "        194161-del(18)(p11)-11R.bmp\n",
      "        194161-del(18)(p11)-12R.bmp\n",
      "        194161-del(18)(p11)-13R.bmp\n",
      "        194161-del(18)(p11)-14R.bmp\n",
      "        194161-del(18)(p11)-15R.bmp\n",
      "        194161-del(18)(p11)-17R.bmp\n",
      "        194161-del(18)(p11)-18R.bmp\n",
      "        194161-del(18)(p11)-19R.bmp\n",
      "        194161-del(18)(p11)-1R.bmp\n",
      "        194161-del(18)(p11)-20R.bmp\n",
      "        194161-del(18)(p11)-21R.bmp\n",
      "        194161-del(18)(p11)-22R.bmp\n",
      "        194161-del(18)(p11)-23R.bmp\n",
      "        194161-del(18)(p11)-24R.bmp\n",
      "        194161-del(18)(p11)-25R.bmp\n",
      "        194161-del(18)(p11)-26R.bmp\n",
      "        194161-del(18)(p11)-28R.bmp\n",
      "        194161-del(18)(p11)-29R.bmp\n",
      "        194161-del(18)(p11)-2R.bmp\n",
      "        194161-del(18)(p11)-30R.bmp\n",
      "        194161-del(18)(p11)-3R.bmp\n",
      "        194161-del(18)(p11)-5R.bmp\n",
      "        194161-del(18)(p11)-6R.bmp\n",
      "        194161-del(18)(p11)-7R.bmp\n",
      "        194161-del(18)(p11)-8R.bmp\n",
      "        194161-del(18)(p11)-9R.bmp\n",
      "   Test: \n",
      "        183873-del(18)(p11)-14R.bmp\n",
      "        183873-del(18)(p11)-20R.bmp\n",
      "        183873-del(18)(p11)-22R.bmp\n",
      "        183873-del(18)(p11)-23R.bmp\n",
      "        183873-del(18)(p11)-7R.bmp\n",
      "        183873-del(18)(p11)-8R.bmp\n",
      "        190325-12.jpg_18p11.bmp\n",
      "        190325-13.jpg_18p11.bmp\n",
      "        190325-14.jpg_18p11.bmp\n",
      "        190325-16.jpg_18p11.bmp\n",
      "        190325-6.jpg_18p11.bmp\n",
      "        190325-7.jpg_18p11.bmp\n",
      "        194161-del(18)(p11)-16R.bmp\n",
      "        194161-del(18)(p11)-27R.bmp\n",
      "        194161-del(18)(p11)-4R.bmp\n"
     ]
    }
   ],
   "source": [
    "file_k_fold = open('KFold_Round_'+str(iterationNumber)+'.txt', 'w')\n",
    "\n",
    "print('Iteration No. ', iterationNumber)\n",
    "file_k_fold.write('Iteration No. %s\\n\\n' % iterationNumber)\n",
    "\n",
    "\n",
    "for chrNo in theWhole.keys():\n",
    "    print(chrNo)\n",
    "    file_k_fold.write('%s\\n' % chrNo)\n",
    "    print('   Train: ')\n",
    "    file_k_fold.write('Train: \\n')\n",
    "    for item in X_train_name[chrNo][str(iterationNumber)]:\n",
    "        print('       ', item.split('\\\\')[-1])\n",
    "        file_k_fold.write('      %s\\n' % item.split('\\\\')[-1])\n",
    "    print('   Test: ')\n",
    "    file_k_fold.write('Test: \\n')\n",
    "    for item in X_test_name[chrNo][str(iterationNumber)]:\n",
    "        print('       ', item.split('\\\\')[-1])\n",
    "        file_k_fold.write('      %s\\n' % item.split('\\\\')[-1])\n",
    "    file_k_fold.write('\\n')\n",
    "        \n",
    "file_k_fold.close()"
   ]
  },
  {
   "cell_type": "markdown",
   "metadata": {},
   "source": [
    "### 3.1.1. Helper Functions"
   ]
  },
  {
   "cell_type": "code",
   "execution_count": 9,
   "metadata": {},
   "outputs": [],
   "source": [
    "def extractData(image):\n",
    "    x = image.size[0]\n",
    "    y = image.size[1]\n",
    "    \n",
    "    matrix = []\n",
    "    rgb_matrix = []\n",
    "\n",
    "    for i in range(x):\n",
    "        matrix.append([])\n",
    "        rgb_matrix.append([])\n",
    "        \n",
    "        for j in range(y):\n",
    "            r, g, b = image.getpixel((j, i))            \n",
    "            value = r * 299.0/1000 + g * 587.0/1000 + b * 114.0/1000\n",
    "            value = int(value)\n",
    "            matrix[i].append(value)\n",
    "            rgb_matrix[i].append((r,g,b))\n",
    "    return matrix, rgb_matrix"
   ]
  },
  {
   "cell_type": "code",
   "execution_count": 10,
   "metadata": {},
   "outputs": [],
   "source": [
    "def imageReconstruct(matrix):\n",
    "    df = np.array(matrix, dtype=np.uint8)\n",
    "    img = Image.fromarray(df, 'RGB')\n",
    "    img.save('image.png')\n",
    "    return img"
   ]
  },
  {
   "cell_type": "markdown",
   "metadata": {},
   "source": [
    "### 3.1.2. Assignment of Training Data"
   ]
  },
  {
   "cell_type": "markdown",
   "metadata": {},
   "source": [
    "#### 3.1.2.1 Training: Image Object Assignment"
   ]
  },
  {
   "cell_type": "code",
   "execution_count": 11,
   "metadata": {},
   "outputs": [],
   "source": [
    "image = {}\n",
    "\n",
    "# 定义容纳图片对象的dictionary类型的变量image\n",
    "\n",
    "i = 0\n",
    "\n",
    "for chrNo in theWhole.keys():\n",
    "    image[chrNo] = []\n",
    "    for case in X_train_name[chrNo][str(iterationNumber)]:\n",
    "        \n",
    "        # 上面一行第二个中括号内为split的序号，0为第0次split分法\n",
    "        \n",
    "        img = Image.open(case)\n",
    "        image[chrNo].append(img)\n",
    "        \n",
    "        # image字典接受的是图片对象"
   ]
  },
  {
   "cell_type": "code",
   "execution_count": 12,
   "metadata": {},
   "outputs": [
    {
     "data": {
      "image/png": "[encoded data removed]",
      "text/plain": [
       "<PIL.BmpImagePlugin.BmpImageFile image mode=RGB size=300x300 at 0x22F06712A58>"
      ]
     },
     "execution_count": 12,
     "metadata": {},
     "output_type": "execute_result"
    }
   ],
   "source": [
    "image['chr_18'][1] # 测试一下图像对象"
   ]
  },
  {
   "cell_type": "markdown",
   "metadata": {},
   "source": [
    "#### 3.1.2.2. Training: Data Extraction from Images"
   ]
  },
  {
   "cell_type": "markdown",
   "metadata": {},
   "source": [
    "#### - Training Set Data: 将图像对象转变为矩阵数值"
   ]
  },
  {
   "cell_type": "code",
   "execution_count": 13,
   "metadata": {},
   "outputs": [],
   "source": [
    "data = {}\n",
    "#rgb_data = {}\n",
    "\n",
    "for chrNo in image.keys():\n",
    "    data[chrNo] = []; \n",
    "    #rgb_data[chrNo] = []\n",
    "    for case in image[chrNo]:\n",
    "        grey, rgb = extractData(case)\n",
    "        data[chrNo].append(grey)\n",
    "        #rgb_data[chrNo].append(rgb)"
   ]
  },
  {
   "cell_type": "code",
   "execution_count": 14,
   "metadata": {},
   "outputs": [],
   "source": [
    "array = {}\n",
    "\n",
    "for chrNo in data.keys():\n",
    "    array[chrNo] = []\n",
    "    for case in data[chrNo]:            \n",
    "        array[chrNo].append(case)\n",
    "\n",
    "x_train_list = []\n",
    "y_train_list = []\n",
    "\n",
    "for y, x in array.items():    \n",
    "    for x_item in x:\n",
    "        x_train_list.append(x_item)\n",
    "        y_train_list.append(y)\n",
    "        \n",
    "        # 将图像数据赋值给x_train_list;\n",
    "        # 将标签数据赋值给y_train_list."
   ]
  },
  {
   "cell_type": "markdown",
   "metadata": {},
   "source": [
    "### 3.1.3. Assignment of Testing Data"
   ]
  },
  {
   "cell_type": "markdown",
   "metadata": {},
   "source": [
    "#### 3.1.3.1. Testing: Image Object Assignment"
   ]
  },
  {
   "cell_type": "code",
   "execution_count": 15,
   "metadata": {},
   "outputs": [],
   "source": [
    "# 方法同前面的Training Set\n",
    "\n",
    "image = {}\n",
    "i = 0\n",
    "\n",
    "for chrNo in theWhole.keys():\n",
    "    image[chrNo] = []\n",
    "    for case in X_test_name[chrNo][str(iterationNumber)]: # Change here for different iterations!!!!!\n",
    "        \n",
    "        # 上面一行第二个中括号内为split的序号，0为第0次split分法\n",
    "        \n",
    "        img = Image.open(case)\n",
    "        image[chrNo].append(img)"
   ]
  },
  {
   "cell_type": "markdown",
   "metadata": {},
   "source": [
    "#### 3.1.3.2. Testing: Data Extraction from Images"
   ]
  },
  {
   "cell_type": "code",
   "execution_count": 16,
   "metadata": {},
   "outputs": [],
   "source": [
    "data = {}\n",
    "#rgb_data = {}\n",
    "\n",
    "for chrNo in image.keys():\n",
    "    data[chrNo] = []; \n",
    "    #rgb_data[chrNo] = []\n",
    "    for case in image[chrNo]:\n",
    "        grey, rgb = extractData(case)\n",
    "        data[chrNo].append(grey)\n",
    "        #rgb_data[chrNo].append(rgb)"
   ]
  },
  {
   "cell_type": "code",
   "execution_count": 17,
   "metadata": {},
   "outputs": [],
   "source": [
    "array = {}\n",
    "\n",
    "for chrNo in data.keys():\n",
    "    array[chrNo] = []\n",
    "    for case in data[chrNo]:            \n",
    "        array[chrNo].append(case)\n",
    "\n",
    "x_test_list = []\n",
    "y_test_list = []\n",
    "\n",
    "for y, x in array.items():    \n",
    "    for x_item in x:\n",
    "        x_test_list.append(x_item)\n",
    "        y_test_list.append(y)"
   ]
  },
  {
   "cell_type": "markdown",
   "metadata": {},
   "source": [
    "### 3.1.4. ChromConvert"
   ]
  },
  {
   "cell_type": "code",
   "execution_count": 18,
   "metadata": {},
   "outputs": [],
   "source": [
    "chromConvert = {\n",
    "               'chr_18': 0, \n",
    "               'chr_18_p11_deletion': 1\n",
    "               }"
   ]
  },
  {
   "cell_type": "code",
   "execution_count": 19,
   "metadata": {},
   "outputs": [],
   "source": [
    "chromConvert_reverse = {\n",
    "                0: 'chr_18',\n",
    "                1: 'chr_18_p11_deletion'\n",
    "               }"
   ]
  },
  {
   "cell_type": "code",
   "execution_count": 20,
   "metadata": {},
   "outputs": [],
   "source": [
    "# 将染色体序号和异常核型名称更换为序号，序号定义在程序开始部分\n",
    "\n",
    "y_train_digital_list = []\n",
    "for item in y_train_list:\n",
    "    y_train_digital_list.append(chromConvert[item])\n",
    "    \n",
    "y_test_digital_list = []\n",
    "for item in y_test_list:\n",
    "    y_test_digital_list.append(chromConvert[item])"
   ]
  },
  {
   "cell_type": "markdown",
   "metadata": {},
   "source": [
    "### 3.1.5. Change to Numpy Array"
   ]
  },
  {
   "cell_type": "code",
   "execution_count": 21,
   "metadata": {},
   "outputs": [],
   "source": [
    "X_train = np.array(x_train_list)\n",
    "y_train = np.array(y_train_digital_list)"
   ]
  },
  {
   "cell_type": "code",
   "execution_count": 22,
   "metadata": {},
   "outputs": [],
   "source": [
    "X_test = np.array(x_test_list)\n",
    "y_test = np.array(y_test_digital_list)"
   ]
  },
  {
   "cell_type": "code",
   "execution_count": 23,
   "metadata": {},
   "outputs": [
    {
     "data": {
      "text/plain": [
       "array([0, 0, 0, 0, 0, 0, 0, 0, 0, 0, 0, 0, 0, 0, 0, 0, 0, 0, 0, 0, 0, 0,\n",
       "       0, 0, 0, 0, 0, 0, 0, 0, 0, 0, 0, 0, 0, 1, 1, 1, 1, 1, 1, 1, 1, 1,\n",
       "       1, 1, 1, 1, 1, 1])"
      ]
     },
     "execution_count": 23,
     "metadata": {},
     "output_type": "execute_result"
    }
   ],
   "source": [
    "y_test"
   ]
  },
  {
   "cell_type": "code",
   "execution_count": 24,
   "metadata": {},
   "outputs": [
    {
     "data": {
      "text/plain": [
       "201"
      ]
     },
     "execution_count": 24,
     "metadata": {},
     "output_type": "execute_result"
    }
   ],
   "source": [
    "len(X_train)"
   ]
  },
  {
   "cell_type": "code",
   "execution_count": 25,
   "metadata": {},
   "outputs": [
    {
     "data": {
      "text/plain": [
       "(300, 300)"
      ]
     },
     "execution_count": 25,
     "metadata": {},
     "output_type": "execute_result"
    }
   ],
   "source": [
    "X_train[0].shape"
   ]
  },
  {
   "cell_type": "markdown",
   "metadata": {},
   "source": [
    "## 3.2. Convolutional Neural Network"
   ]
  },
  {
   "cell_type": "markdown",
   "metadata": {},
   "source": [
    "### 3.2.1 Data Preparation"
   ]
  },
  {
   "cell_type": "code",
   "execution_count": 26,
   "metadata": {},
   "outputs": [],
   "source": [
    "X_train = X_train.reshape(-1, 300, 300, 1)\n",
    "X_test = X_test.reshape(-1, 300, 300, 1)"
   ]
  },
  {
   "cell_type": "markdown",
   "metadata": {},
   "source": [
    "### 3.2.3 Training Model Design"
   ]
  },
  {
   "cell_type": "code",
   "execution_count": 27,
   "metadata": {},
   "outputs": [],
   "source": [
    "model = Sequential()"
   ]
  },
  {
   "cell_type": "code",
   "execution_count": 28,
   "metadata": {},
   "outputs": [],
   "source": [
    "model.add(Conv2D(32, (3, 3), activation='relu', input_shape=(300, 300, 1)))\n",
    "model.add(MaxPooling2D((2, 2)))\n",
    "model.add(Conv2D(64, (3, 3), activation='relu'))\n",
    "model.add(MaxPooling2D((2, 2)))\n",
    "model.add(Conv2D(64, (3, 3), activation='relu'))"
   ]
  },
  {
   "cell_type": "code",
   "execution_count": 29,
   "metadata": {},
   "outputs": [],
   "source": [
    "model.add(Flatten())\n",
    "model.add(Dense(300, activation='relu'))\n",
    "model.add(Dense(400, activation='relu'))\n",
    "model.add(Dense(500, activation='relu'))\n",
    "model.add(Dense(600, activation='relu'))\n",
    "model.add(Dense(300, activation='relu'))\n",
    "model.add(Dense(100, activation='relu'))\n",
    "model.add(Dense(50, activation='relu'))\n",
    "model.add(Dense(20, activation='relu'))\n",
    "model.add(Dense(10, activation='relu'))\n",
    "model.add(Dense(2, activation='sigmoid'))"
   ]
  },
  {
   "cell_type": "markdown",
   "metadata": {},
   "source": [
    "### 3.2.4. Tensorboard Initilization"
   ]
  },
  {
   "cell_type": "code",
   "execution_count": 30,
   "metadata": {},
   "outputs": [],
   "source": [
    "%load_ext tensorboard\n",
    "log_dir = \"logs/fit/\" + datetime.datetime.now().strftime(\"%Y%m%d-%H%M%S\")\n",
    "tensorboard_callback = keras.callbacks.TensorBoard(log_dir=log_dir, histogram_freq=1)"
   ]
  },
  {
   "cell_type": "markdown",
   "metadata": {},
   "source": [
    "### 3.2.5. Compile the modal"
   ]
  },
  {
   "cell_type": "code",
   "execution_count": 31,
   "metadata": {},
   "outputs": [],
   "source": [
    "model.compile(optimizer='adam', loss='sparse_categorical_crossentropy', metrics=['accuracy'])"
   ]
  },
  {
   "cell_type": "markdown",
   "metadata": {},
   "source": [
    "### 3.2.6. Fitting (拟合)"
   ]
  },
  {
   "cell_type": "code",
   "execution_count": 32,
   "metadata": {
    "scrolled": false
   },
   "outputs": [
    {
     "name": "stdout",
     "output_type": "stream",
     "text": [
      "Epoch 1/150\n",
      "4/4 [==============================] - 6s 867ms/step - loss: 83.5391 - accuracy: 0.5373 - val_loss: 287.6221 - val_accuracy: 0.3000\n",
      "Epoch 2/150\n",
      "4/4 [==============================] - 1s 134ms/step - loss: 98.9388 - accuracy: 0.4328 - val_loss: 3.3615 - val_accuracy: 0.3000\n",
      "Epoch 3/150\n",
      "4/4 [==============================] - 0s 112ms/step - loss: 11.8041 - accuracy: 0.5920 - val_loss: 2.9532 - val_accuracy: 0.7000\n",
      "Epoch 4/150\n",
      "4/4 [==============================] - 0s 120ms/step - loss: 12.8431 - accuracy: 0.5323 - val_loss: 1.8476 - val_accuracy: 0.7000\n",
      "Epoch 5/150\n",
      "4/4 [==============================] - 0s 110ms/step - loss: 1.0717 - accuracy: 0.7015 - val_loss: 0.6779 - val_accuracy: 0.7000\n",
      "Epoch 6/150\n",
      "4/4 [==============================] - 0s 119ms/step - loss: 0.8422 - accuracy: 0.7015 - val_loss: 0.6769 - val_accuracy: 0.7000\n",
      "Epoch 7/150\n",
      "4/4 [==============================] - 0s 115ms/step - loss: 0.6778 - accuracy: 0.7015 - val_loss: 0.6809 - val_accuracy: 0.7000\n",
      "Epoch 8/150\n",
      "4/4 [==============================] - 0s 112ms/step - loss: 0.6739 - accuracy: 0.7015 - val_loss: 0.8068 - val_accuracy: 0.3000\n",
      "Epoch 9/150\n",
      "4/4 [==============================] - 0s 123ms/step - loss: 0.7187 - accuracy: 0.5622 - val_loss: 0.9575 - val_accuracy: 0.7000\n",
      "Epoch 10/150\n",
      "4/4 [==============================] - 0s 117ms/step - loss: 0.8476 - accuracy: 0.7015 - val_loss: 0.6795 - val_accuracy: 0.7000\n",
      "Epoch 11/150\n",
      "4/4 [==============================] - 0s 123ms/step - loss: 0.6694 - accuracy: 0.7015 - val_loss: 3.6152 - val_accuracy: 0.7000\n",
      "Epoch 12/150\n",
      "4/4 [==============================] - 0s 116ms/step - loss: 1.3830 - accuracy: 0.5622 - val_loss: 0.6648 - val_accuracy: 0.7000\n",
      "Epoch 13/150\n",
      "4/4 [==============================] - 0s 116ms/step - loss: 0.6711 - accuracy: 0.7015 - val_loss: 0.6721 - val_accuracy: 0.7000\n",
      "Epoch 14/150\n",
      "4/4 [==============================] - 0s 118ms/step - loss: 0.6700 - accuracy: 0.7015 - val_loss: 0.6679 - val_accuracy: 0.7000\n",
      "Epoch 15/150\n",
      "4/4 [==============================] - 0s 115ms/step - loss: 0.6655 - accuracy: 0.7015 - val_loss: 0.6627 - val_accuracy: 0.7000\n",
      "Epoch 16/150\n",
      "4/4 [==============================] - 0s 116ms/step - loss: 0.6601 - accuracy: 0.7015 - val_loss: 0.6568 - val_accuracy: 0.7000\n",
      "Epoch 17/150\n",
      "4/4 [==============================] - 0s 121ms/step - loss: 0.6532 - accuracy: 0.7015 - val_loss: 0.6440 - val_accuracy: 0.7000\n",
      "Epoch 18/150\n",
      "4/4 [==============================] - 0s 121ms/step - loss: 0.6193 - accuracy: 0.7015 - val_loss: 9.2859 - val_accuracy: 0.7000\n",
      "Epoch 19/150\n",
      "4/4 [==============================] - 1s 125ms/step - loss: 4.0793 - accuracy: 0.7015 - val_loss: 0.6444 - val_accuracy: 0.7000\n",
      "Epoch 20/150\n",
      "4/4 [==============================] - 0s 121ms/step - loss: 0.6426 - accuracy: 0.7065 - val_loss: 0.6464 - val_accuracy: 0.7000\n",
      "Epoch 21/150\n",
      "4/4 [==============================] - 0s 124ms/step - loss: 0.6348 - accuracy: 0.7065 - val_loss: 0.6343 - val_accuracy: 0.7000\n",
      "Epoch 22/150\n",
      "4/4 [==============================] - 0s 126ms/step - loss: 0.6023 - accuracy: 0.7363 - val_loss: 0.5515 - val_accuracy: 0.7600\n",
      "Epoch 23/150\n",
      "4/4 [==============================] - 0s 121ms/step - loss: 0.8564 - accuracy: 0.8109 - val_loss: 0.6433 - val_accuracy: 0.7000\n",
      "Epoch 24/150\n",
      "4/4 [==============================] - 0s 122ms/step - loss: 0.5263 - accuracy: 0.7761 - val_loss: 0.6377 - val_accuracy: 0.7000\n",
      "Epoch 25/150\n",
      "4/4 [==============================] - 1s 129ms/step - loss: 0.6340 - accuracy: 0.6965 - val_loss: 0.6537 - val_accuracy: 0.6600\n",
      "Epoch 26/150\n",
      "4/4 [==============================] - 0s 116ms/step - loss: 0.6386 - accuracy: 0.6965 - val_loss: 0.6545 - val_accuracy: 0.6600\n",
      "Epoch 27/150\n",
      "4/4 [==============================] - 0s 123ms/step - loss: 0.6218 - accuracy: 0.7463 - val_loss: 0.6470 - val_accuracy: 0.6600\n",
      "Epoch 28/150\n",
      "4/4 [==============================] - 0s 120ms/step - loss: 0.5897 - accuracy: 0.7761 - val_loss: 0.6286 - val_accuracy: 0.6800\n",
      "Epoch 29/150\n",
      "4/4 [==============================] - 0s 114ms/step - loss: 0.4945 - accuracy: 0.8159 - val_loss: 0.6144 - val_accuracy: 0.7600\n",
      "Epoch 30/150\n",
      "4/4 [==============================] - 0s 116ms/step - loss: 0.3882 - accuracy: 0.8507 - val_loss: 0.3260 - val_accuracy: 0.8600\n",
      "Epoch 31/150\n",
      "4/4 [==============================] - 0s 118ms/step - loss: 1.3805 - accuracy: 0.9055 - val_loss: 0.6376 - val_accuracy: 0.6600\n",
      "Epoch 32/150\n",
      "4/4 [==============================] - 0s 124ms/step - loss: 0.5554 - accuracy: 0.7512 - val_loss: 0.9317 - val_accuracy: 0.3800\n",
      "Epoch 33/150\n",
      "4/4 [==============================] - 0s 118ms/step - loss: 0.6407 - accuracy: 0.6667 - val_loss: 0.6673 - val_accuracy: 0.7000\n",
      "Epoch 34/150\n",
      "4/4 [==============================] - 1s 266ms/step - loss: 0.5795 - accuracy: 0.7015 - val_loss: 0.5981 - val_accuracy: 0.7200\n",
      "Epoch 35/150\n",
      "4/4 [==============================] - 1s 317ms/step - loss: 0.5625 - accuracy: 0.6816 - val_loss: 0.6419 - val_accuracy: 0.7000\n",
      "Epoch 36/150\n",
      "4/4 [==============================] - 1s 180ms/step - loss: 0.4968 - accuracy: 0.7015 - val_loss: 0.6643 - val_accuracy: 0.7200\n",
      "Epoch 37/150\n",
      "4/4 [==============================] - 0s 115ms/step - loss: 0.4078 - accuracy: 0.7313 - val_loss: 0.6334 - val_accuracy: 0.7200\n",
      "Epoch 38/150\n",
      "4/4 [==============================] - 1s 134ms/step - loss: 0.6721 - accuracy: 0.8507 - val_loss: 0.8116 - val_accuracy: 0.6000\n",
      "Epoch 39/150\n",
      "4/4 [==============================] - 0s 121ms/step - loss: 0.4625 - accuracy: 0.7662 - val_loss: 0.5589 - val_accuracy: 0.7000\n",
      "Epoch 40/150\n",
      "4/4 [==============================] - 0s 115ms/step - loss: 0.4002 - accuracy: 0.7015 - val_loss: 0.5993 - val_accuracy: 0.7000\n",
      "Epoch 41/150\n",
      "4/4 [==============================] - 0s 124ms/step - loss: 0.3675 - accuracy: 0.7562 - val_loss: 0.4418 - val_accuracy: 0.8200\n",
      "Epoch 42/150\n",
      "4/4 [==============================] - 0s 115ms/step - loss: 0.2358 - accuracy: 0.9254 - val_loss: 0.4159 - val_accuracy: 0.8400\n",
      "Epoch 43/150\n",
      "4/4 [==============================] - 0s 114ms/step - loss: 0.1623 - accuracy: 0.9602 - val_loss: 0.6366 - val_accuracy: 0.7200\n",
      "Epoch 44/150\n",
      "4/4 [==============================] - 0s 120ms/step - loss: 0.3508 - accuracy: 0.8706 - val_loss: 0.5971 - val_accuracy: 0.6600\n",
      "Epoch 45/150\n",
      "4/4 [==============================] - 0s 122ms/step - loss: 0.4374 - accuracy: 0.8408 - val_loss: 0.5895 - val_accuracy: 0.7000\n",
      "Epoch 46/150\n",
      "4/4 [==============================] - 1s 123ms/step - loss: 0.3451 - accuracy: 0.8806 - val_loss: 0.7067 - val_accuracy: 0.7600\n",
      "Epoch 47/150\n",
      "4/4 [==============================] - 0s 112ms/step - loss: 0.2787 - accuracy: 0.8856 - val_loss: 0.8966 - val_accuracy: 0.8400\n",
      "Epoch 48/150\n",
      "4/4 [==============================] - 0s 113ms/step - loss: 0.2092 - accuracy: 0.9303 - val_loss: 1.0428 - val_accuracy: 0.7600\n",
      "Epoch 49/150\n",
      "4/4 [==============================] - 0s 116ms/step - loss: 0.1557 - accuracy: 0.9403 - val_loss: 1.0748 - val_accuracy: 0.7600\n",
      "Epoch 50/150\n",
      "4/4 [==============================] - 0s 124ms/step - loss: 0.1295 - accuracy: 0.9502 - val_loss: 1.6637 - val_accuracy: 0.7400\n",
      "Epoch 51/150\n",
      "4/4 [==============================] - 0s 118ms/step - loss: 0.0960 - accuracy: 0.9652 - val_loss: 1.3599 - val_accuracy: 0.7000\n",
      "Epoch 52/150\n",
      "4/4 [==============================] - 0s 118ms/step - loss: 0.0951 - accuracy: 0.9652 - val_loss: 1.9336 - val_accuracy: 0.6800\n",
      "Epoch 53/150\n",
      "4/4 [==============================] - 0s 115ms/step - loss: 0.0898 - accuracy: 0.9652 - val_loss: 1.3415 - val_accuracy: 0.7800\n",
      "Epoch 54/150\n",
      "4/4 [==============================] - 0s 119ms/step - loss: 0.0931 - accuracy: 0.9652 - val_loss: 1.0565 - val_accuracy: 0.7800\n",
      "Epoch 55/150\n",
      "4/4 [==============================] - 0s 115ms/step - loss: 0.1186 - accuracy: 0.9502 - val_loss: 0.9894 - val_accuracy: 0.7800\n",
      "Epoch 56/150\n",
      "4/4 [==============================] - 0s 116ms/step - loss: 0.0245 - accuracy: 0.9950 - val_loss: 0.4363 - val_accuracy: 0.9000\n",
      "Epoch 57/150\n",
      "4/4 [==============================] - 0s 112ms/step - loss: 0.0224 - accuracy: 0.9950 - val_loss: 0.4354 - val_accuracy: 0.9000\n",
      "Epoch 58/150\n",
      "4/4 [==============================] - 0s 112ms/step - loss: 0.0215 - accuracy: 0.9950 - val_loss: 0.3773 - val_accuracy: 0.9000\n"
     ]
    },
    {
     "name": "stdout",
     "output_type": "stream",
     "text": [
      "Epoch 59/150\n",
      "4/4 [==============================] - 0s 115ms/step - loss: 0.0095 - accuracy: 0.9950 - val_loss: 0.4528 - val_accuracy: 0.8800\n",
      "Epoch 60/150\n",
      "4/4 [==============================] - 0s 117ms/step - loss: 0.0347 - accuracy: 0.9950 - val_loss: 0.6675 - val_accuracy: 0.8600\n",
      "Epoch 61/150\n",
      "4/4 [==============================] - 0s 116ms/step - loss: 0.0104 - accuracy: 0.9950 - val_loss: 1.8547 - val_accuracy: 0.7400\n",
      "Epoch 62/150\n",
      "4/4 [==============================] - 0s 120ms/step - loss: 0.0580 - accuracy: 0.9851 - val_loss: 0.7064 - val_accuracy: 0.8600\n",
      "Epoch 63/150\n",
      "4/4 [==============================] - 0s 119ms/step - loss: 0.0371 - accuracy: 0.9900 - val_loss: 0.5684 - val_accuracy: 0.9000\n",
      "Epoch 64/150\n",
      "4/4 [==============================] - 0s 115ms/step - loss: 0.0390 - accuracy: 0.9900 - val_loss: 0.6111 - val_accuracy: 0.9200\n",
      "Epoch 65/150\n",
      "4/4 [==============================] - 0s 114ms/step - loss: 0.0277 - accuracy: 0.9900 - val_loss: 0.5653 - val_accuracy: 0.9600\n",
      "Epoch 66/150\n",
      "4/4 [==============================] - 0s 114ms/step - loss: 0.0036 - accuracy: 1.0000 - val_loss: 0.4550 - val_accuracy: 0.9600\n",
      "Epoch 67/150\n",
      "4/4 [==============================] - 0s 116ms/step - loss: 0.0084 - accuracy: 1.0000 - val_loss: 0.5816 - val_accuracy: 0.9600\n",
      "Epoch 68/150\n",
      "4/4 [==============================] - 0s 121ms/step - loss: 5.1237e-04 - accuracy: 1.0000 - val_loss: 0.8252 - val_accuracy: 0.9400\n",
      "Epoch 69/150\n",
      "4/4 [==============================] - 0s 122ms/step - loss: 4.7133e-04 - accuracy: 1.0000 - val_loss: 0.9909 - val_accuracy: 0.9400\n",
      "Epoch 70/150\n",
      "4/4 [==============================] - 0s 113ms/step - loss: 4.4375e-04 - accuracy: 1.0000 - val_loss: 1.0858 - val_accuracy: 0.9400\n",
      "Epoch 71/150\n",
      "4/4 [==============================] - 0s 123ms/step - loss: 3.8121e-04 - accuracy: 1.0000 - val_loss: 1.1561 - val_accuracy: 0.9400\n",
      "Epoch 72/150\n",
      "4/4 [==============================] - 0s 120ms/step - loss: 2.7643e-04 - accuracy: 1.0000 - val_loss: 1.2085 - val_accuracy: 0.9400\n",
      "Epoch 73/150\n",
      "4/4 [==============================] - 1s 130ms/step - loss: 1.9250e-04 - accuracy: 1.0000 - val_loss: 1.2450 - val_accuracy: 0.9400\n",
      "Epoch 74/150\n",
      "4/4 [==============================] - 0s 117ms/step - loss: 1.2951e-04 - accuracy: 1.0000 - val_loss: 1.2702 - val_accuracy: 0.9400\n",
      "Epoch 75/150\n",
      "4/4 [==============================] - 0s 128ms/step - loss: 8.9280e-05 - accuracy: 1.0000 - val_loss: 1.2918 - val_accuracy: 0.9400\n",
      "Epoch 76/150\n",
      "4/4 [==============================] - 1s 127ms/step - loss: 6.6370e-05 - accuracy: 1.0000 - val_loss: 1.3107 - val_accuracy: 0.9400\n",
      "Epoch 77/150\n",
      "4/4 [==============================] - 1s 125ms/step - loss: 5.0119e-05 - accuracy: 1.0000 - val_loss: 1.3293 - val_accuracy: 0.9400\n",
      "Epoch 78/150\n",
      "4/4 [==============================] - 0s 111ms/step - loss: 4.0646e-05 - accuracy: 1.0000 - val_loss: 1.3470 - val_accuracy: 0.9400\n",
      "Epoch 79/150\n",
      "4/4 [==============================] - 0s 124ms/step - loss: 3.4721e-05 - accuracy: 1.0000 - val_loss: 1.3681 - val_accuracy: 0.9400\n",
      "Epoch 80/150\n",
      "4/4 [==============================] - 0s 117ms/step - loss: 2.9129e-05 - accuracy: 1.0000 - val_loss: 1.3890 - val_accuracy: 0.9400\n",
      "Epoch 81/150\n",
      "4/4 [==============================] - 0s 114ms/step - loss: 2.5366e-05 - accuracy: 1.0000 - val_loss: 1.4061 - val_accuracy: 0.9400\n",
      "Epoch 82/150\n",
      "4/4 [==============================] - 0s 117ms/step - loss: 2.2333e-05 - accuracy: 1.0000 - val_loss: 1.4156 - val_accuracy: 0.9400\n",
      "Epoch 83/150\n",
      "4/4 [==============================] - 0s 116ms/step - loss: 2.0047e-05 - accuracy: 1.0000 - val_loss: 1.4158 - val_accuracy: 0.9400\n",
      "Epoch 84/150\n",
      "4/4 [==============================] - 0s 115ms/step - loss: 1.7964e-05 - accuracy: 1.0000 - val_loss: 1.4186 - val_accuracy: 0.9400\n",
      "Epoch 85/150\n",
      "4/4 [==============================] - 0s 122ms/step - loss: 1.6443e-05 - accuracy: 1.0000 - val_loss: 1.4234 - val_accuracy: 0.9400\n",
      "Epoch 86/150\n",
      "4/4 [==============================] - 0s 118ms/step - loss: 1.5161e-05 - accuracy: 1.0000 - val_loss: 1.4326 - val_accuracy: 0.9400\n",
      "Epoch 87/150\n",
      "4/4 [==============================] - 0s 121ms/step - loss: 1.3990e-05 - accuracy: 1.0000 - val_loss: 1.4450 - val_accuracy: 0.9400\n",
      "Epoch 88/150\n",
      "4/4 [==============================] - 0s 120ms/step - loss: 1.3002e-05 - accuracy: 1.0000 - val_loss: 1.4593 - val_accuracy: 0.9400\n",
      "Epoch 89/150\n",
      "4/4 [==============================] - 0s 124ms/step - loss: 1.2072e-05 - accuracy: 1.0000 - val_loss: 1.4746 - val_accuracy: 0.9400\n",
      "Epoch 90/150\n",
      "4/4 [==============================] - 0s 127ms/step - loss: 1.0945e-05 - accuracy: 1.0000 - val_loss: 1.4859 - val_accuracy: 0.9400\n",
      "Epoch 91/150\n",
      "4/4 [==============================] - 0s 116ms/step - loss: 1.0149e-05 - accuracy: 1.0000 - val_loss: 1.4951 - val_accuracy: 0.9400\n",
      "Epoch 92/150\n",
      "4/4 [==============================] - 0s 116ms/step - loss: 9.5061e-06 - accuracy: 1.0000 - val_loss: 1.5031 - val_accuracy: 0.9400\n",
      "Epoch 93/150\n",
      "4/4 [==============================] - 0s 117ms/step - loss: 8.8717e-06 - accuracy: 1.0000 - val_loss: 1.5105 - val_accuracy: 0.9400\n",
      "Epoch 94/150\n",
      "4/4 [==============================] - 1s 138ms/step - loss: 8.2888e-06 - accuracy: 1.0000 - val_loss: 1.5187 - val_accuracy: 0.9400\n",
      "Epoch 95/150\n",
      "4/4 [==============================] - 0s 118ms/step - loss: 7.8167e-06 - accuracy: 1.0000 - val_loss: 1.5257 - val_accuracy: 0.9400\n",
      "Epoch 96/150\n",
      "4/4 [==============================] - 0s 115ms/step - loss: 7.2469e-06 - accuracy: 1.0000 - val_loss: 1.5322 - val_accuracy: 0.9400\n",
      "Epoch 97/150\n",
      "4/4 [==============================] - 0s 127ms/step - loss: 6.8644e-06 - accuracy: 1.0000 - val_loss: 1.5387 - val_accuracy: 0.9400\n",
      "Epoch 98/150\n",
      "4/4 [==============================] - 0s 116ms/step - loss: 6.4813e-06 - accuracy: 1.0000 - val_loss: 1.5448 - val_accuracy: 0.9400\n",
      "Epoch 99/150\n",
      "4/4 [==============================] - 0s 123ms/step - loss: 6.1012e-06 - accuracy: 1.0000 - val_loss: 1.5499 - val_accuracy: 0.9400\n",
      "Epoch 100/150\n",
      "4/4 [==============================] - 0s 121ms/step - loss: 5.7507e-06 - accuracy: 1.0000 - val_loss: 1.5549 - val_accuracy: 0.9400\n",
      "Epoch 101/150\n",
      "4/4 [==============================] - 0s 116ms/step - loss: 5.4050e-06 - accuracy: 1.0000 - val_loss: 1.5603 - val_accuracy: 0.9400\n",
      "Epoch 102/150\n",
      "4/4 [==============================] - 0s 119ms/step - loss: 5.1079e-06 - accuracy: 1.0000 - val_loss: 1.5658 - val_accuracy: 0.9400\n",
      "Epoch 103/150\n",
      "4/4 [==============================] - 0s 121ms/step - loss: 4.7248e-06 - accuracy: 1.0000 - val_loss: 1.5711 - val_accuracy: 0.9400\n",
      "Epoch 104/150\n",
      "4/4 [==============================] - 0s 123ms/step - loss: 4.4087e-06 - accuracy: 1.0000 - val_loss: 1.5769 - val_accuracy: 0.9400\n",
      "Epoch 105/150\n",
      "4/4 [==============================] - 0s 126ms/step - loss: 4.1478e-06 - accuracy: 1.0000 - val_loss: 1.5824 - val_accuracy: 0.9400\n",
      "Epoch 106/150\n",
      "4/4 [==============================] - 0s 122ms/step - loss: 3.9408e-06 - accuracy: 1.0000 - val_loss: 1.5891 - val_accuracy: 0.9400\n",
      "Epoch 107/150\n",
      "4/4 [==============================] - 0s 120ms/step - loss: 3.6692e-06 - accuracy: 1.0000 - val_loss: 1.5953 - val_accuracy: 0.9400\n",
      "Epoch 108/150\n",
      "4/4 [==============================] - 0s 117ms/step - loss: 3.4587e-06 - accuracy: 1.0000 - val_loss: 1.6042 - val_accuracy: 0.9400\n",
      "Epoch 109/150\n",
      "4/4 [==============================] - 0s 118ms/step - loss: 3.2292e-06 - accuracy: 1.0000 - val_loss: 1.6122 - val_accuracy: 0.9400\n",
      "Epoch 110/150\n",
      "4/4 [==============================] - 1s 127ms/step - loss: 3.0204e-06 - accuracy: 1.0000 - val_loss: 1.6193 - val_accuracy: 0.9400\n",
      "Epoch 111/150\n",
      "4/4 [==============================] - 0s 122ms/step - loss: 2.8236e-06 - accuracy: 1.0000 - val_loss: 1.6271 - val_accuracy: 0.9400\n",
      "Epoch 112/150\n",
      "4/4 [==============================] - 0s 113ms/step - loss: 2.6290e-06 - accuracy: 1.0000 - val_loss: 1.6345 - val_accuracy: 0.9400\n",
      "Epoch 113/150\n",
      "4/4 [==============================] - 0s 120ms/step - loss: 2.4713e-06 - accuracy: 1.0000 - val_loss: 1.6428 - val_accuracy: 0.9400\n",
      "Epoch 114/150\n",
      "4/4 [==============================] - 1s 129ms/step - loss: 2.2922e-06 - accuracy: 1.0000 - val_loss: 1.6504 - val_accuracy: 0.9400\n",
      "Epoch 115/150\n"
     ]
    },
    {
     "name": "stdout",
     "output_type": "stream",
     "text": [
      "4/4 [==============================] - 0s 114ms/step - loss: 2.1469e-06 - accuracy: 1.0000 - val_loss: 1.6583 - val_accuracy: 0.9400\n",
      "Epoch 116/150\n",
      "4/4 [==============================] - 0s 115ms/step - loss: 2.0312e-06 - accuracy: 1.0000 - val_loss: 1.6660 - val_accuracy: 0.9400\n",
      "Epoch 117/150\n",
      "4/4 [==============================] - 0s 120ms/step - loss: 1.9162e-06 - accuracy: 1.0000 - val_loss: 1.6734 - val_accuracy: 0.9400\n",
      "Epoch 118/150\n",
      "4/4 [==============================] - 0s 122ms/step - loss: 1.8136e-06 - accuracy: 1.0000 - val_loss: 1.6808 - val_accuracy: 0.9400\n",
      "Epoch 119/150\n",
      "4/4 [==============================] - 0s 115ms/step - loss: 1.7175e-06 - accuracy: 1.0000 - val_loss: 1.6886 - val_accuracy: 0.9400\n",
      "Epoch 120/150\n",
      "4/4 [==============================] - 0s 109ms/step - loss: 1.6232e-06 - accuracy: 1.0000 - val_loss: 1.6963 - val_accuracy: 0.9400\n",
      "Epoch 121/150\n",
      "4/4 [==============================] - 0s 120ms/step - loss: 1.5313e-06 - accuracy: 1.0000 - val_loss: 1.7043 - val_accuracy: 0.9400\n",
      "Epoch 122/150\n",
      "4/4 [==============================] - 0s 113ms/step - loss: 1.4406e-06 - accuracy: 1.0000 - val_loss: 1.7117 - val_accuracy: 0.9400\n",
      "Epoch 123/150\n",
      "4/4 [==============================] - 0s 118ms/step - loss: 1.3712e-06 - accuracy: 1.0000 - val_loss: 1.7184 - val_accuracy: 0.9400\n",
      "Epoch 124/150\n",
      "4/4 [==============================] - 0s 124ms/step - loss: 1.2982e-06 - accuracy: 1.0000 - val_loss: 1.7249 - val_accuracy: 0.9400\n",
      "Epoch 125/150\n",
      "4/4 [==============================] - 0s 120ms/step - loss: 1.2425e-06 - accuracy: 1.0000 - val_loss: 1.7316 - val_accuracy: 0.9400\n",
      "Epoch 126/150\n",
      "4/4 [==============================] - 0s 116ms/step - loss: 1.1707e-06 - accuracy: 1.0000 - val_loss: 1.7375 - val_accuracy: 0.9400\n",
      "Epoch 127/150\n",
      "4/4 [==============================] - 0s 119ms/step - loss: 1.1245e-06 - accuracy: 1.0000 - val_loss: 1.7438 - val_accuracy: 0.9400\n",
      "Epoch 128/150\n",
      "4/4 [==============================] - 0s 125ms/step - loss: 1.0646e-06 - accuracy: 1.0000 - val_loss: 1.7494 - val_accuracy: 0.9400\n",
      "Epoch 129/150\n",
      "4/4 [==============================] - 0s 118ms/step - loss: 1.0236e-06 - accuracy: 1.0000 - val_loss: 1.7555 - val_accuracy: 0.9400\n",
      "Epoch 130/150\n",
      "4/4 [==============================] - 0s 118ms/step - loss: 9.7857e-07 - accuracy: 1.0000 - val_loss: 1.7617 - val_accuracy: 0.9400\n",
      "Epoch 131/150\n",
      "4/4 [==============================] - 0s 124ms/step - loss: 9.3290e-07 - accuracy: 1.0000 - val_loss: 1.7673 - val_accuracy: 0.9400\n",
      "Epoch 132/150\n",
      "4/4 [==============================] - 0s 115ms/step - loss: 8.9850e-07 - accuracy: 1.0000 - val_loss: 1.7731 - val_accuracy: 0.9400\n",
      "Epoch 133/150\n",
      "4/4 [==============================] - 0s 115ms/step - loss: 8.6292e-07 - accuracy: 1.0000 - val_loss: 1.7788 - val_accuracy: 0.9400\n",
      "Epoch 134/150\n",
      "4/4 [==============================] - 0s 112ms/step - loss: 8.2912e-07 - accuracy: 1.0000 - val_loss: 1.7849 - val_accuracy: 0.9400\n",
      "Epoch 135/150\n",
      "4/4 [==============================] - 0s 132ms/step - loss: 7.9709e-07 - accuracy: 1.0000 - val_loss: 1.7906 - val_accuracy: 0.9400\n",
      "Epoch 136/150\n",
      "4/4 [==============================] - 0s 122ms/step - loss: 7.7693e-07 - accuracy: 1.0000 - val_loss: 1.7965 - val_accuracy: 0.9400\n",
      "Epoch 137/150\n",
      "4/4 [==============================] - 0s 120ms/step - loss: 7.4787e-07 - accuracy: 1.0000 - val_loss: 1.8021 - val_accuracy: 0.9400\n",
      "Epoch 138/150\n",
      "4/4 [==============================] - 0s 119ms/step - loss: 7.1999e-07 - accuracy: 1.0000 - val_loss: 1.8072 - val_accuracy: 0.9400\n",
      "Epoch 139/150\n",
      "4/4 [==============================] - 0s 117ms/step - loss: 6.9390e-07 - accuracy: 1.0000 - val_loss: 1.8145 - val_accuracy: 0.9400\n",
      "Epoch 140/150\n",
      "4/4 [==============================] - 0s 116ms/step - loss: 6.6365e-07 - accuracy: 1.0000 - val_loss: 1.8270 - val_accuracy: 0.9400\n",
      "Epoch 141/150\n",
      "4/4 [==============================] - 0s 120ms/step - loss: 6.3696e-07 - accuracy: 1.0000 - val_loss: 1.8372 - val_accuracy: 0.9400\n",
      "Epoch 142/150\n",
      "4/4 [==============================] - 0s 121ms/step - loss: 6.0850e-07 - accuracy: 1.0000 - val_loss: 1.8451 - val_accuracy: 0.9400\n",
      "Epoch 143/150\n",
      "4/4 [==============================] - 0s 116ms/step - loss: 5.8181e-07 - accuracy: 1.0000 - val_loss: 1.8517 - val_accuracy: 0.9400\n",
      "Epoch 144/150\n",
      "4/4 [==============================] - 0s 118ms/step - loss: 5.5275e-07 - accuracy: 1.0000 - val_loss: 1.8606 - val_accuracy: 0.9400\n",
      "Epoch 145/150\n",
      "4/4 [==============================] - 0s 120ms/step - loss: 5.3021e-07 - accuracy: 1.0000 - val_loss: 1.8708 - val_accuracy: 0.9400\n",
      "Epoch 146/150\n",
      "4/4 [==============================] - 0s 113ms/step - loss: 5.0589e-07 - accuracy: 1.0000 - val_loss: 1.8785 - val_accuracy: 0.9400\n",
      "Epoch 147/150\n",
      "4/4 [==============================] - 1s 133ms/step - loss: 4.8099e-07 - accuracy: 1.0000 - val_loss: 1.8843 - val_accuracy: 0.9400\n",
      "Epoch 148/150\n",
      "4/4 [==============================] - 0s 124ms/step - loss: 4.6497e-07 - accuracy: 1.0000 - val_loss: 1.8900 - val_accuracy: 0.9400\n",
      "Epoch 149/150\n",
      "4/4 [==============================] - 0s 126ms/step - loss: 4.4362e-07 - accuracy: 1.0000 - val_loss: 1.8947 - val_accuracy: 0.9400\n",
      "Epoch 150/150\n",
      "4/4 [==============================] - 0s 122ms/step - loss: 4.3057e-07 - accuracy: 1.0000 - val_loss: 1.8985 - val_accuracy: 0.9400\n"
     ]
    },
    {
     "data": {
      "text/plain": [
       "<tensorflow.python.keras.callbacks.History at 0x22f60ae2438>"
      ]
     },
     "execution_count": 32,
     "metadata": {},
     "output_type": "execute_result"
    }
   ],
   "source": [
    "model.fit(X_train, y_train, epochs=150, batch_size=64, verbose=1, \n",
    "          validation_data=(X_test, y_test),\n",
    "          callbacks=[tensorboard_callback])"
   ]
  },
  {
   "cell_type": "markdown",
   "metadata": {},
   "source": [
    "### 3.2.7 Summary"
   ]
  },
  {
   "cell_type": "code",
   "execution_count": 33,
   "metadata": {},
   "outputs": [
    {
     "name": "stdout",
     "output_type": "stream",
     "text": [
      "Model: \"sequential\"\n",
      "_________________________________________________________________\n",
      "Layer (type)                 Output Shape              Param #   \n",
      "=================================================================\n",
      "conv2d (Conv2D)              (None, 298, 298, 32)      320       \n",
      "_________________________________________________________________\n",
      "max_pooling2d (MaxPooling2D) (None, 149, 149, 32)      0         \n",
      "_________________________________________________________________\n",
      "conv2d_1 (Conv2D)            (None, 147, 147, 64)      18496     \n",
      "_________________________________________________________________\n",
      "max_pooling2d_1 (MaxPooling2 (None, 73, 73, 64)        0         \n",
      "_________________________________________________________________\n",
      "conv2d_2 (Conv2D)            (None, 71, 71, 64)        36928     \n",
      "_________________________________________________________________\n",
      "flatten (Flatten)            (None, 322624)            0         \n",
      "_________________________________________________________________\n",
      "dense (Dense)                (None, 300)               96787500  \n",
      "_________________________________________________________________\n",
      "dense_1 (Dense)              (None, 400)               120400    \n",
      "_________________________________________________________________\n",
      "dense_2 (Dense)              (None, 500)               200500    \n",
      "_________________________________________________________________\n",
      "dense_3 (Dense)              (None, 600)               300600    \n",
      "_________________________________________________________________\n",
      "dense_4 (Dense)              (None, 300)               180300    \n",
      "_________________________________________________________________\n",
      "dense_5 (Dense)              (None, 100)               30100     \n",
      "_________________________________________________________________\n",
      "dense_6 (Dense)              (None, 50)                5050      \n",
      "_________________________________________________________________\n",
      "dense_7 (Dense)              (None, 20)                1020      \n",
      "_________________________________________________________________\n",
      "dense_8 (Dense)              (None, 10)                210       \n",
      "_________________________________________________________________\n",
      "dense_9 (Dense)              (None, 2)                 22        \n",
      "=================================================================\n",
      "Total params: 97,681,446\n",
      "Trainable params: 97,681,446\n",
      "Non-trainable params: 0\n",
      "_________________________________________________________________\n"
     ]
    }
   ],
   "source": [
    "model.summary()"
   ]
  },
  {
   "cell_type": "markdown",
   "metadata": {},
   "source": [
    "### 3.2.8. Tensorboard Display"
   ]
  },
  {
   "cell_type": "code",
   "execution_count": 34,
   "metadata": {
    "scrolled": false
   },
   "outputs": [
    {
     "data": {
      "text/plain": [
       "Reusing TensorBoard on port 6006 (pid 15036), started 3:25:24 ago. (Use '!kill 15036' to kill it.)"
      ]
     },
     "metadata": {},
     "output_type": "display_data"
    },
    {
     "data": {
      "text/html": [
       "\n",
       "      <iframe id=\"tensorboard-frame-e19608580e1f2689\" width=\"100%\" height=\"800\" frameborder=\"0\">\n",
       "      </iframe>\n",
       "      <script>\n",
       "        (function() {\n",
       "          const frame = document.getElementById(\"tensorboard-frame-e19608580e1f2689\");\n",
       "          const url = new URL(\"/\", window.location);\n",
       "          const port = 6006;\n",
       "          if (port) {\n",
       "            url.port = port;\n",
       "          }\n",
       "          frame.src = url;\n",
       "        })();\n",
       "      </script>\n",
       "    "
      ],
      "text/plain": [
       "<IPython.core.display.HTML object>"
      ]
     },
     "metadata": {},
     "output_type": "display_data"
    }
   ],
   "source": [
    "%tensorboard --logdir logs/fit"
   ]
  },
  {
   "cell_type": "markdown",
   "metadata": {},
   "source": [
    "## 3.8 Save the Model"
   ]
  },
  {
   "cell_type": "code",
   "execution_count": 35,
   "metadata": {
    "scrolled": true
   },
   "outputs": [
    {
     "name": "stdout",
     "output_type": "stream",
     "text": [
      "INFO:tensorflow:Assets written to: saved_model/model_Chr_18_cnn_iteration_3\\assets\n"
     ]
    }
   ],
   "source": [
    "model.save('saved_model/model_Chr_18_cnn_iteration_'+str(iterationNumber))"
   ]
  },
  {
   "cell_type": "markdown",
   "metadata": {},
   "source": [
    "## 3.9 Load the Model"
   ]
  },
  {
   "cell_type": "code",
   "execution_count": 36,
   "metadata": {},
   "outputs": [],
   "source": [
    "model_reload = keras.models.load_model('saved_model/model_Chr_18_cnn_iteration_'+str(iterationNumber))"
   ]
  },
  {
   "cell_type": "markdown",
   "metadata": {},
   "source": [
    "## 3.10. Performance Measures"
   ]
  },
  {
   "cell_type": "markdown",
   "metadata": {},
   "source": [
    "### 3.10.1. Accuracy"
   ]
  },
  {
   "cell_type": "code",
   "execution_count": 37,
   "metadata": {},
   "outputs": [
    {
     "name": "stdout",
     "output_type": "stream",
     "text": [
      "Test Accuracy: 0.940\n"
     ]
    }
   ],
   "source": [
    "loss, acc = model_reload.evaluate(X_test, y_test, verbose=0)\n",
    "print('Test Accuracy: %.3f' % acc)"
   ]
  },
  {
   "cell_type": "code",
   "execution_count": 38,
   "metadata": {},
   "outputs": [
    {
     "data": {
      "text/plain": [
       "50"
      ]
     },
     "execution_count": 38,
     "metadata": {},
     "output_type": "execute_result"
    }
   ],
   "source": [
    "len(X_test)"
   ]
  },
  {
   "cell_type": "code",
   "execution_count": 39,
   "metadata": {},
   "outputs": [],
   "source": [
    "y_predict = model_reload.predict(X_test)"
   ]
  },
  {
   "cell_type": "code",
   "execution_count": 40,
   "metadata": {},
   "outputs": [
    {
     "data": {
      "text/plain": [
       "50"
      ]
     },
     "execution_count": 40,
     "metadata": {},
     "output_type": "execute_result"
    }
   ],
   "source": [
    "len(y_predict)"
   ]
  },
  {
   "cell_type": "code",
   "execution_count": 41,
   "metadata": {},
   "outputs": [],
   "source": [
    "# The number 32 means the type number of all chromosome class number inlcuding abnormal ones\n",
    "y_predict_filtered = []\n",
    "\n",
    "for sample in y_predict:\n",
    "    maximum = 0\n",
    "    indicator = 0\n",
    "    for i in range(2):\n",
    "        if sample[i] > maximum:\n",
    "            maximum = sample[i]\n",
    "            indicator = i\n",
    "    y_predict_filtered.append(indicator)        "
   ]
  },
  {
   "cell_type": "code",
   "execution_count": 42,
   "metadata": {},
   "outputs": [
    {
     "data": {
      "text/plain": [
       "50"
      ]
     },
     "execution_count": 42,
     "metadata": {},
     "output_type": "execute_result"
    }
   ],
   "source": [
    "len(y_predict_filtered)"
   ]
  },
  {
   "cell_type": "code",
   "execution_count": 43,
   "metadata": {},
   "outputs": [],
   "source": [
    "label = ['chr_18', 'chr_18_p11_deletion']\n",
    "\n",
    "label_convert = []\n",
    "\n",
    "for i in range(2):\n",
    "    label_convert.append(chromConvert_reverse[i])"
   ]
  },
  {
   "cell_type": "markdown",
   "metadata": {},
   "source": [
    "### 3.10.2. Classification Report"
   ]
  },
  {
   "cell_type": "code",
   "execution_count": 44,
   "metadata": {},
   "outputs": [
    {
     "name": "stdout",
     "output_type": "stream",
     "text": [
      "                     precision    recall  f1-score   support\n",
      "\n",
      "             chr_18       0.92      1.00      0.96        35\n",
      "chr_18_p11_deletion       1.00      0.80      0.89        15\n",
      "\n",
      "          micro avg       0.94      0.94      0.94        50\n",
      "          macro avg       0.96      0.90      0.92        50\n",
      "       weighted avg       0.94      0.94      0.94        50\n",
      "\n"
     ]
    }
   ],
   "source": [
    "performanceReport = classification_report(y_test, y_predict_filtered, target_names=label_convert)\n",
    "\n",
    "\n",
    "print(performanceReport)"
   ]
  },
  {
   "cell_type": "markdown",
   "metadata": {},
   "source": [
    "### 3.10.3. Confusion Matrix"
   ]
  },
  {
   "cell_type": "code",
   "execution_count": 45,
   "metadata": {},
   "outputs": [
    {
     "data": {
      "text/html": [
       "<div>\n",
       "<style scoped>\n",
       "    .dataframe tbody tr th:only-of-type {\n",
       "        vertical-align: middle;\n",
       "    }\n",
       "\n",
       "    .dataframe tbody tr th {\n",
       "        vertical-align: top;\n",
       "    }\n",
       "\n",
       "    .dataframe thead th {\n",
       "        text-align: right;\n",
       "    }\n",
       "</style>\n",
       "<table border=\"1\" class=\"dataframe\">\n",
       "  <thead>\n",
       "    <tr style=\"text-align: right;\">\n",
       "      <th></th>\n",
       "      <th>chr_18</th>\n",
       "      <th>chr_18_p11_deletion</th>\n",
       "    </tr>\n",
       "  </thead>\n",
       "  <tbody>\n",
       "    <tr>\n",
       "      <th>chr_18</th>\n",
       "      <td>35</td>\n",
       "      <td>0</td>\n",
       "    </tr>\n",
       "    <tr>\n",
       "      <th>chr_18_p11_deletion</th>\n",
       "      <td>3</td>\n",
       "      <td>12</td>\n",
       "    </tr>\n",
       "  </tbody>\n",
       "</table>\n",
       "</div>"
      ],
      "text/plain": [
       "                     chr_18  chr_18_p11_deletion\n",
       "chr_18                   35                    0\n",
       "chr_18_p11_deletion       3                   12"
      ]
     },
     "execution_count": 45,
     "metadata": {},
     "output_type": "execute_result"
    }
   ],
   "source": [
    "cm = np.array(confusion_matrix(y_test, y_predict_filtered, labels=[0, 1]))\n",
    "confusion = pd.DataFrame(cm, index=label_convert,\n",
    "                        columns=label_convert)\n",
    "confusion.to_csv('ConfusionMatrix_Chr_18_KaryoType_CNN' + str(iterationNumber) + '.csv')\n",
    "confusion"
   ]
  },
  {
   "cell_type": "markdown",
   "metadata": {},
   "source": [
    "#### Heat Map"
   ]
  },
  {
   "cell_type": "code",
   "execution_count": 46,
   "metadata": {
    "scrolled": true
   },
   "outputs": [
    {
     "data": {
      "image/png": "[encoded data removed]",
      "text/plain": [
       "<Figure size 2160x1728 with 2 Axes>"
      ]
     },
     "metadata": {
      "needs_background": "light"
     },
     "output_type": "display_data"
    }
   ],
   "source": [
    "plt.figure(figsize=(30, 24))\n",
    "heat_map = sb.heatmap(confusion, annot=True,  # It's a Seaborn function\n",
    "                      cmap='coolwarm', \n",
    "                      xticklabels=confusion.columns, yticklabels=confusion.index, \n",
    "                      linewidths=.5, \n",
    "                      annot_kws={\"size\": 20})\n",
    "sb.set(font_scale = 2)"
   ]
  },
  {
   "cell_type": "code",
   "execution_count": 47,
   "metadata": {},
   "outputs": [],
   "source": [
    "fig = heat_map.get_figure()    \n",
    "fig.savefig('Heatmap_Chr_18_Iteration_' + str(iterationNumber) + '.png', dpi=400)"
   ]
  },
  {
   "cell_type": "markdown",
   "metadata": {},
   "source": [
    "### 3.10.4. ROC"
   ]
  },
  {
   "cell_type": "code",
   "execution_count": 48,
   "metadata": {},
   "outputs": [
    {
     "data": {
      "text/plain": [
       "array([[1.0000000e+00, 4.7492397e-09],\n",
       "       [9.9955243e-01, 3.1437808e-01],\n",
       "       [1.0000000e+00, 9.4373105e-03],\n",
       "       [1.0000000e+00, 1.8773350e-04],\n",
       "       [1.0000000e+00, 3.9871855e-18],\n",
       "       [1.0000000e+00, 8.9879160e-11],\n",
       "       [1.0000000e+00, 5.9656304e-04],\n",
       "       [9.9999094e-01, 6.5376230e-02],\n",
       "       [1.0000000e+00, 1.6402713e-03],\n",
       "       [1.0000000e+00, 1.2419468e-12],\n",
       "       [1.0000000e+00, 3.2642710e-08],\n",
       "       [1.0000000e+00, 2.4921185e-04],\n",
       "       [9.9999988e-01, 1.6871247e-02],\n",
       "       [1.0000000e+00, 4.3160832e-03],\n",
       "       [1.0000000e+00, 2.9617953e-05],\n",
       "       [1.0000000e+00, 7.1596922e-05],\n",
       "       [9.9999833e-01, 4.1743170e-02],\n",
       "       [1.0000000e+00, 7.1348967e-07],\n",
       "       [9.9709690e-01, 5.3517556e-01],\n",
       "       [1.0000000e+00, 4.8234995e-04],\n",
       "       [1.0000000e+00, 9.5318646e-06],\n",
       "       [1.0000000e+00, 2.4238961e-06],\n",
       "       [1.0000000e+00, 1.2228236e-03],\n",
       "       [1.0000000e+00, 3.3398767e-06],\n",
       "       [1.0000000e+00, 1.9106219e-05],\n",
       "       [1.0000000e+00, 1.4744596e-06],\n",
       "       [1.0000000e+00, 4.2543425e-06],\n",
       "       [1.0000000e+00, 2.2867958e-05],\n",
       "       [1.0000000e+00, 1.3367967e-04],\n",
       "       [9.9999988e-01, 1.5192416e-02],\n",
       "       [9.9999988e-01, 1.3805099e-02],\n",
       "       [1.0000000e+00, 3.3842723e-05],\n",
       "       [1.0000000e+00, 1.6222396e-06],\n",
       "       [1.0000000e+00, 2.2293672e-04],\n",
       "       [9.9999940e-01, 3.1804755e-02],\n",
       "       [1.0000000e+00, 1.1153866e-02],\n",
       "       [1.0000000e+00, 2.0613356e-03],\n",
       "       [1.5281481e-04, 9.9984407e-01],\n",
       "       [4.9788196e-04, 9.9977106e-01],\n",
       "       [8.5600419e-03, 9.9577492e-01],\n",
       "       [2.2092968e-04, 9.9972242e-01],\n",
       "       [5.8562483e-07, 9.9999917e-01],\n",
       "       [1.0000000e+00, 8.1420527e-04],\n",
       "       [5.0946015e-05, 9.9994171e-01],\n",
       "       [3.9814648e-04, 9.9955660e-01],\n",
       "       [6.3453474e-05, 9.9992180e-01],\n",
       "       [1.2448415e-03, 9.9854469e-01],\n",
       "       [6.5312865e-03, 9.9318379e-01],\n",
       "       [1.1886548e-03, 9.9861729e-01],\n",
       "       [1.3473115e-05, 9.9998236e-01]], dtype=float32)"
      ]
     },
     "execution_count": 48,
     "metadata": {},
     "output_type": "execute_result"
    }
   ],
   "source": [
    "y_predict"
   ]
  },
  {
   "cell_type": "code",
   "execution_count": 49,
   "metadata": {},
   "outputs": [
    {
     "data": {
      "text/plain": [
       "[<matplotlib.lines.Line2D at 0x23127f71518>,\n",
       " <matplotlib.lines.Line2D at 0x23127f71550>]"
      ]
     },
     "execution_count": 49,
     "metadata": {},
     "output_type": "execute_result"
    },
    {
     "data": {
      "image/png": "[encoded data removed]",
      "text/plain": [
       "<Figure size 432x288 with 1 Axes>"
      ]
     },
     "metadata": {},
     "output_type": "display_data"
    }
   ],
   "source": [
    "plt.plot(y_predict)"
   ]
  },
  {
   "cell_type": "code",
   "execution_count": 50,
   "metadata": {},
   "outputs": [],
   "source": [
    "y_predict_1D = y_predict[:,0]"
   ]
  },
  {
   "cell_type": "code",
   "execution_count": 51,
   "metadata": {},
   "outputs": [],
   "source": [
    "y_predict_1D_processed = 1- y_predict_1D"
   ]
  },
  {
   "cell_type": "code",
   "execution_count": 52,
   "metadata": {},
   "outputs": [],
   "source": [
    "fpr , tpr , thresholds = roc_curve(y_test , y_predict_1D_processed)\n",
    "auc_rf = auc(fpr, tpr)"
   ]
  },
  {
   "cell_type": "code",
   "execution_count": 53,
   "metadata": {},
   "outputs": [
    {
     "data": {
      "text/plain": [
       "0.8771428571428571"
      ]
     },
     "execution_count": 53,
     "metadata": {},
     "output_type": "execute_result"
    }
   ],
   "source": [
    "auc_rf"
   ]
  },
  {
   "cell_type": "code",
   "execution_count": 54,
   "metadata": {},
   "outputs": [],
   "source": [
    "x = y = np.arange(0,1.1,0.1)"
   ]
  },
  {
   "cell_type": "code",
   "execution_count": 55,
   "metadata": {},
   "outputs": [
    {
     "data": {
      "text/plain": [
       "array([0. , 0.1, 0.2, 0.3, 0.4, 0.5, 0.6, 0.7, 0.8, 0.9, 1. ])"
      ]
     },
     "execution_count": 55,
     "metadata": {},
     "output_type": "execute_result"
    }
   ],
   "source": [
    "x"
   ]
  },
  {
   "cell_type": "code",
   "execution_count": 56,
   "metadata": {},
   "outputs": [
    {
     "data": {
      "image/png": "[encoded data removed]",
      "text/plain": [
       "<Figure size 432x288 with 1 Axes>"
      ]
     },
     "metadata": {},
     "output_type": "display_data"
    }
   ],
   "source": [
    "plt.plot(fpr, tpr)\n",
    "plt.plot(x, y, '--', color='black')\n",
    "plt.title('ROC curve of 18p11', fontsize=15, fontname = 'Times New Roman')\n",
    "plt.xlabel('False Positive Rate', fontsize=10, fontname = 'Times New Roman')\n",
    "plt.ylabel('True positive Rate', fontsize=10, fontname = 'Times New Roman')\n",
    "plt.axis('equal')\n",
    "plt.xlim(0,1)\n",
    "plt.ylim(0,1)\n",
    "plt.xticks(fontsize=10, fontname = 'Times New Roman')\n",
    "plt.yticks(fontsize=10, fontname = 'Times New Roman')\n",
    "\n",
    "plt.savefig('ROC_Curve_Chr_05_' + str(iterationNumber) + '.png', dpi=400)\n",
    "plt.show()"
   ]
  },
  {
   "cell_type": "markdown",
   "metadata": {},
   "source": [
    "#### 3.10.4.1 AUC Value"
   ]
  },
  {
   "cell_type": "code",
   "execution_count": 57,
   "metadata": {},
   "outputs": [],
   "source": [
    "auc_value = auc(fpr, tpr)"
   ]
  },
  {
   "cell_type": "code",
   "execution_count": 58,
   "metadata": {},
   "outputs": [
    {
     "name": "stdout",
     "output_type": "stream",
     "text": [
      "AUC is  0.8771428571428571\n"
     ]
    }
   ],
   "source": [
    "print('AUC is ', auc_value)"
   ]
  },
  {
   "cell_type": "markdown",
   "metadata": {},
   "source": [
    "# Results"
   ]
  },
  {
   "cell_type": "code",
   "execution_count": 59,
   "metadata": {},
   "outputs": [
    {
     "name": "stdout",
     "output_type": "stream",
     "text": [
      "Test Accuracy: 0.940\n"
     ]
    }
   ],
   "source": [
    "print('Test Accuracy: %.3f' % acc)"
   ]
  },
  {
   "cell_type": "code",
   "execution_count": 60,
   "metadata": {
    "scrolled": true
   },
   "outputs": [
    {
     "name": "stdout",
     "output_type": "stream",
     "text": [
      "                     precision    recall  f1-score   support\n",
      "\n",
      "             chr_18       0.92      1.00      0.96        35\n",
      "chr_18_p11_deletion       1.00      0.80      0.89        15\n",
      "\n",
      "          micro avg       0.94      0.94      0.94        50\n",
      "          macro avg       0.96      0.90      0.92        50\n",
      "       weighted avg       0.94      0.94      0.94        50\n",
      "\n"
     ]
    }
   ],
   "source": [
    "print(performanceReport)"
   ]
  },
  {
   "cell_type": "code",
   "execution_count": 61,
   "metadata": {},
   "outputs": [
    {
     "data": {
      "text/plain": [
       "str"
      ]
     },
     "execution_count": 61,
     "metadata": {},
     "output_type": "execute_result"
    }
   ],
   "source": [
    "type(performanceReport)"
   ]
  },
  {
   "cell_type": "code",
   "execution_count": 62,
   "metadata": {},
   "outputs": [
    {
     "data": {
      "text/html": [
       "<div>\n",
       "<style scoped>\n",
       "    .dataframe tbody tr th:only-of-type {\n",
       "        vertical-align: middle;\n",
       "    }\n",
       "\n",
       "    .dataframe tbody tr th {\n",
       "        vertical-align: top;\n",
       "    }\n",
       "\n",
       "    .dataframe thead th {\n",
       "        text-align: right;\n",
       "    }\n",
       "</style>\n",
       "<table border=\"1\" class=\"dataframe\">\n",
       "  <thead>\n",
       "    <tr style=\"text-align: right;\">\n",
       "      <th></th>\n",
       "      <th>chr_18</th>\n",
       "      <th>chr_18_p11_deletion</th>\n",
       "    </tr>\n",
       "  </thead>\n",
       "  <tbody>\n",
       "    <tr>\n",
       "      <th>chr_18</th>\n",
       "      <td>35</td>\n",
       "      <td>0</td>\n",
       "    </tr>\n",
       "    <tr>\n",
       "      <th>chr_18_p11_deletion</th>\n",
       "      <td>3</td>\n",
       "      <td>12</td>\n",
       "    </tr>\n",
       "  </tbody>\n",
       "</table>\n",
       "</div>"
      ],
      "text/plain": [
       "                     chr_18  chr_18_p11_deletion\n",
       "chr_18                   35                    0\n",
       "chr_18_p11_deletion       3                   12"
      ]
     },
     "execution_count": 62,
     "metadata": {},
     "output_type": "execute_result"
    }
   ],
   "source": [
    "confusion"
   ]
  },
  {
   "cell_type": "code",
   "execution_count": 63,
   "metadata": {},
   "outputs": [
    {
     "name": "stdout",
     "output_type": "stream",
     "text": [
      "AUC is  0.8771428571428571\n"
     ]
    }
   ],
   "source": [
    "print('AUC is ', auc_value)"
   ]
  },
  {
   "cell_type": "markdown",
   "metadata": {},
   "source": [
    "## Export to a text file"
   ]
  },
  {
   "cell_type": "code",
   "execution_count": 64,
   "metadata": {},
   "outputs": [],
   "source": [
    "file_report = open('Results'+str(iterationNumber)+'.txt', 'w')\n",
    "file_report.write('Accuracy: %s\\n\\n' % acc)\n",
    "file_report.write('AUC: %s.\\n\\n' % auc_value)\n",
    "file_report.write('Performance Report: \\n%s\\n\\n' % performanceReport)\n",
    "file_report.write('Confusion Matrix: \\n%s.\\n\\n' % confusion)\n",
    "file_report.close()"
   ]
  },
  {
   "cell_type": "code",
   "execution_count": null,
   "metadata": {},
   "outputs": [],
   "source": []
  }
 ],
 "metadata": {
  "anaconda-cloud": {},
  "celltoolbar": "Slideshow",
  "colab": {
   "name": "KaryoChimneyRock_FullyConnectedNN.ipynb",
   "provenance": []
  },
  "kernelspec": {
   "display_name": "Python 3",
   "language": "python",
   "name": "python3"
  },
  "language_info": {
   "codemirror_mode": {
    "name": "ipython",
    "version": 3
   },
   "file_extension": ".py",
   "mimetype": "text/x-python",
   "name": "python",
   "nbconvert_exporter": "python",
   "pygments_lexer": "ipython3",
   "version": "3.7.3"
  }
 },
 "nbformat": 4,
 "nbformat_minor": 1
}
