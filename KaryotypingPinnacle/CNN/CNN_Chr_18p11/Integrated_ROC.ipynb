{
 "cells": [
  {
   "cell_type": "code",
   "execution_count": 1,
   "metadata": {},
   "outputs": [
    {
     "name": "stderr",
     "output_type": "stream",
     "text": [
      "C:\\Anaconda3\\lib\\site-packages\\pandas\\compat\\_optional.py:138: UserWarning: Pandas requires version '2.7.0' or newer of 'numexpr' (version '2.6.9' currently installed).\n",
      "  warnings.warn(msg, UserWarning)\n"
     ]
    }
   ],
   "source": [
    "import numpy as np\n",
    "import pandas as pd\n",
    "import matplotlib.pyplot as plt\n",
    "\n",
    "from sklearn.metrics import classification_report, confusion_matrix, roc_curve, auc, accuracy_score\n",
    "\n",
    "import seaborn as sb"
   ]
  },
  {
   "cell_type": "code",
   "execution_count": 2,
   "metadata": {},
   "outputs": [],
   "source": [
    "chromConvert = {\n",
    "               'chr_18': 0, \n",
    "               'chr_18_p11_deletion': 1\n",
    "               }"
   ]
  },
  {
   "cell_type": "code",
   "execution_count": 3,
   "metadata": {},
   "outputs": [],
   "source": [
    "chromConvert_reverse = {\n",
    "                0: 'chr_18',\n",
    "                1: 'chr_18_p11_deletion'\n",
    "               }"
   ]
  },
  {
   "cell_type": "code",
   "execution_count": 4,
   "metadata": {},
   "outputs": [],
   "source": [
    "label = ['chr_18', 'chr_18_p11_deletion']\n",
    "\n",
    "label_convert = []\n",
    "\n",
    "for i in range(2):\n",
    "    label_convert.append(chromConvert_reverse[i])"
   ]
  },
  {
   "cell_type": "markdown",
   "metadata": {},
   "source": [
    "# Load test and predict values"
   ]
  },
  {
   "cell_type": "code",
   "execution_count": 5,
   "metadata": {},
   "outputs": [],
   "source": [
    "y_test_all = []\n",
    "y_predict_all = []\n",
    "y_predict_filtered_all = []"
   ]
  },
  {
   "cell_type": "code",
   "execution_count": 6,
   "metadata": {},
   "outputs": [],
   "source": [
    "for iterationNumber in range(5):\n",
    "    with open('data_y_test_value_iteration_' + str(iterationNumber) + '.npy', 'rb') as f_y_test:\n",
    "        y_test_all.append(np.load(f_y_test))\n",
    "        \n",
    "    with open('data_y_predict_value_iteration_' + str(iterationNumber) + '.npy', 'rb') as f_y_predict:\n",
    "        y_predict_all.append(np.load(f_y_predict))                             \n",
    "                        \n",
    "    with open('data_y_predict_filtered_value_iteration_' + str(iterationNumber) + '.npy', 'rb') as f_y_predict_filtered:\n",
    "        y_predict_filtered_all.append(np.load(f_y_predict_filtered))"
   ]
  },
  {
   "cell_type": "code",
   "execution_count": 7,
   "metadata": {},
   "outputs": [
    {
     "data": {
      "text/plain": [
       "(51, 2)"
      ]
     },
     "execution_count": 7,
     "metadata": {},
     "output_type": "execute_result"
    }
   ],
   "source": [
    "y_predict_all[0].shape"
   ]
  },
  {
   "cell_type": "code",
   "execution_count": 8,
   "metadata": {},
   "outputs": [
    {
     "data": {
      "text/plain": [
       "[array([[1.00000000e+00, 5.27523691e-10],\n",
       "        [9.59544957e-01, 2.70966411e-01],\n",
       "        [1.00000000e+00, 1.66170321e-06],\n",
       "        [1.00000000e+00, 7.14791895e-07],\n",
       "        [1.00000000e+00, 2.93206017e-06],\n",
       "        [9.99994278e-01, 6.80152676e-04],\n",
       "        [9.99890327e-01, 1.06699835e-03],\n",
       "        [1.00000000e+00, 4.22345892e-08],\n",
       "        [1.00000000e+00, 4.83318108e-10],\n",
       "        [9.99224067e-01, 6.33096462e-03],\n",
       "        [1.00000000e+00, 1.04788320e-07],\n",
       "        [1.00000000e+00, 1.98105965e-07],\n",
       "        [1.00000000e+00, 5.79533435e-08],\n",
       "        [1.00000000e+00, 9.55288613e-08],\n",
       "        [9.99811471e-01, 5.31309983e-03],\n",
       "        [1.00000000e+00, 7.62240120e-08],\n",
       "        [1.00000000e+00, 5.22414609e-07],\n",
       "        [9.99304414e-01, 1.60913803e-02],\n",
       "        [1.00000000e+00, 8.56867359e-08],\n",
       "        [9.99973655e-01, 6.54616801e-04],\n",
       "        [1.00000000e+00, 9.59609906e-07],\n",
       "        [9.99998212e-01, 1.67953229e-04],\n",
       "        [9.99999881e-01, 3.25115661e-06],\n",
       "        [1.00000000e+00, 1.77203594e-06],\n",
       "        [9.99999404e-01, 1.56264759e-05],\n",
       "        [9.99503493e-01, 6.02877745e-03],\n",
       "        [9.99995112e-01, 7.26113067e-05],\n",
       "        [9.99992251e-01, 1.02336155e-04],\n",
       "        [1.00000000e+00, 1.02150555e-09],\n",
       "        [9.99974132e-01, 2.49829929e-04],\n",
       "        [9.99876738e-01, 1.05995906e-03],\n",
       "        [9.70907390e-01, 1.19523518e-01],\n",
       "        [1.05295606e-01, 9.86020625e-01],\n",
       "        [9.99999642e-01, 9.88843567e-06],\n",
       "        [9.99999642e-01, 1.07818214e-05],\n",
       "        [1.00000000e+00, 1.51565405e-06],\n",
       "        [3.75252886e-04, 9.99951839e-01],\n",
       "        [3.16810578e-01, 9.81074035e-01],\n",
       "        [8.96688044e-01, 6.70461655e-01],\n",
       "        [3.47171190e-05, 9.99995112e-01],\n",
       "        [4.68683511e-01, 8.75157356e-01],\n",
       "        [3.37573671e-04, 9.99906182e-01],\n",
       "        [2.34874920e-03, 9.99607265e-01],\n",
       "        [2.68161041e-03, 9.99696732e-01],\n",
       "        [1.81539042e-04, 9.99982238e-01],\n",
       "        [4.26670478e-04, 9.99951601e-01],\n",
       "        [3.65273154e-04, 9.99967337e-01],\n",
       "        [3.04682087e-03, 9.99504685e-01],\n",
       "        [2.27403652e-04, 9.99991894e-01],\n",
       "        [3.09857339e-01, 8.61871183e-01],\n",
       "        [3.57994504e-05, 9.99997973e-01]], dtype=float32),\n",
       " array([[1.00000000e+00, 2.20487209e-07],\n",
       "        [9.98174667e-01, 3.44314814e-01],\n",
       "        [1.00000000e+00, 5.56041480e-09],\n",
       "        [4.99354850e-04, 9.99983072e-01],\n",
       "        [1.00000000e+00, 3.88275976e-06],\n",
       "        [9.99837995e-01, 1.86516792e-02],\n",
       "        [9.99999046e-01, 2.73789756e-05],\n",
       "        [9.99998331e-01, 2.16199842e-05],\n",
       "        [1.00000000e+00, 1.99681764e-08],\n",
       "        [9.99997854e-01, 8.42174777e-05],\n",
       "        [9.99798954e-01, 5.95070049e-02],\n",
       "        [9.99943256e-01, 1.95953785e-03],\n",
       "        [9.99989510e-01, 4.20840923e-04],\n",
       "        [1.00000000e+00, 2.67506142e-08],\n",
       "        [9.99999404e-01, 6.68904795e-06],\n",
       "        [1.00000000e+00, 1.18067724e-07],\n",
       "        [1.00000000e+00, 2.08346378e-11],\n",
       "        [9.99999523e-01, 2.10810758e-05],\n",
       "        [9.99613702e-01, 4.87634428e-02],\n",
       "        [1.00000000e+00, 1.66593975e-06],\n",
       "        [9.98476326e-01, 3.11280638e-02],\n",
       "        [9.99984264e-01, 9.92776826e-04],\n",
       "        [1.00000000e+00, 3.08697054e-06],\n",
       "        [1.00000000e+00, 3.35958816e-08],\n",
       "        [1.00000000e+00, 1.98066871e-07],\n",
       "        [1.00000000e+00, 1.56438651e-09],\n",
       "        [1.00000000e+00, 2.25649615e-07],\n",
       "        [9.99999404e-01, 1.09854582e-05],\n",
       "        [9.97504652e-01, 1.04860738e-01],\n",
       "        [9.99999404e-01, 2.68908152e-05],\n",
       "        [9.99999762e-01, 5.61761544e-06],\n",
       "        [9.99998331e-01, 4.64787408e-05],\n",
       "        [9.99997377e-01, 8.81755259e-05],\n",
       "        [9.99996781e-01, 5.31153346e-05],\n",
       "        [9.99999523e-01, 8.64637877e-06],\n",
       "        [9.99944329e-01, 1.21430412e-03],\n",
       "        [3.34537439e-02, 9.98728812e-01],\n",
       "        [8.25918338e-04, 9.99983907e-01],\n",
       "        [5.02476061e-04, 9.99992728e-01],\n",
       "        [1.04231603e-05, 9.99999523e-01],\n",
       "        [5.23117959e-01, 9.87284303e-01],\n",
       "        [1.27272308e-02, 9.99652505e-01],\n",
       "        [2.31505498e-01, 9.93706644e-01],\n",
       "        [6.10061170e-06, 1.00000000e+00],\n",
       "        [5.19930545e-05, 9.99998927e-01],\n",
       "        [7.73188611e-03, 9.99848962e-01],\n",
       "        [4.01558005e-04, 9.99991298e-01],\n",
       "        [2.95589399e-03, 9.99916553e-01],\n",
       "        [6.10381812e-06, 9.99999881e-01],\n",
       "        [5.29682402e-05, 9.99997616e-01]], dtype=float32),\n",
       " array([[9.99677777e-01, 1.31256398e-04],\n",
       "        [9.99999881e-01, 1.41225172e-07],\n",
       "        [9.99989510e-01, 3.68250971e-06],\n",
       "        [1.00000000e+00, 8.48054427e-09],\n",
       "        [9.97994184e-01, 7.22349563e-04],\n",
       "        [9.99999285e-01, 2.05918283e-07],\n",
       "        [9.99931931e-01, 1.64493485e-05],\n",
       "        [9.99037743e-01, 2.54088052e-04],\n",
       "        [9.99998450e-01, 3.29935290e-07],\n",
       "        [8.60493243e-01, 3.12665850e-02],\n",
       "        [1.00000000e+00, 7.32936004e-11],\n",
       "        [9.99995589e-01, 1.19786250e-06],\n",
       "        [8.81890059e-01, 2.59258561e-02],\n",
       "        [9.99785244e-01, 4.44559009e-05],\n",
       "        [9.98465419e-01, 3.03509092e-04],\n",
       "        [9.98587370e-01, 2.20700167e-04],\n",
       "        [9.99964952e-01, 1.07216838e-05],\n",
       "        [1.55015528e-01, 5.56048870e-01],\n",
       "        [9.99998212e-01, 3.97152149e-07],\n",
       "        [9.99998927e-01, 6.60019907e-07],\n",
       "        [1.00000000e+00, 9.18955800e-10],\n",
       "        [9.99419928e-01, 2.25188618e-04],\n",
       "        [9.96889770e-01, 1.14411092e-03],\n",
       "        [9.99889016e-01, 4.69668485e-05],\n",
       "        [9.99413610e-01, 1.96776702e-04],\n",
       "        [9.99984026e-01, 8.22017410e-06],\n",
       "        [9.99990106e-01, 5.07991354e-06],\n",
       "        [6.57067358e-01, 1.59249127e-01],\n",
       "        [1.00000000e+00, 1.19674715e-08],\n",
       "        [9.99998927e-01, 5.59790124e-07],\n",
       "        [9.46437001e-01, 2.76033860e-02],\n",
       "        [9.99999285e-01, 7.02230466e-07],\n",
       "        [9.68264759e-01, 1.16788782e-02],\n",
       "        [9.99999285e-01, 6.51777611e-07],\n",
       "        [9.99999404e-01, 4.09687971e-07],\n",
       "        [1.40046877e-05, 9.99935627e-01],\n",
       "        [1.87778607e-01, 5.14953613e-01],\n",
       "        [3.50841545e-02, 8.27967703e-01],\n",
       "        [1.04182940e-02, 9.73490775e-01],\n",
       "        [8.12816841e-04, 9.96527135e-01],\n",
       "        [7.91440248e-01, 8.49514902e-02],\n",
       "        [2.30648526e-04, 9.98373628e-01],\n",
       "        [3.99914779e-06, 9.99983668e-01],\n",
       "        [2.37900508e-03, 9.88882840e-01],\n",
       "        [5.57751991e-06, 9.99967098e-01],\n",
       "        [9.77231096e-03, 9.66996789e-01],\n",
       "        [1.16310707e-06, 9.99988914e-01],\n",
       "        [1.89051079e-05, 9.99892354e-01],\n",
       "        [3.75353338e-05, 9.99886870e-01],\n",
       "        [4.38908488e-03, 9.68776643e-01]], dtype=float32),\n",
       " array([[1.00000000e+00, 2.01829504e-08],\n",
       "        [9.79142308e-01, 4.95840639e-01],\n",
       "        [9.99998450e-01, 2.59643130e-05],\n",
       "        [9.99994159e-01, 2.43577029e-04],\n",
       "        [1.00000000e+00, 4.06433134e-21],\n",
       "        [1.00000000e+00, 1.43988215e-11],\n",
       "        [1.00000000e+00, 4.62488448e-09],\n",
       "        [9.99999881e-01, 2.39431847e-06],\n",
       "        [4.57224637e-01, 9.64007139e-01],\n",
       "        [9.97670710e-01, 6.82596117e-02],\n",
       "        [9.91931260e-01, 7.14000389e-02],\n",
       "        [9.98822868e-01, 4.33263108e-02],\n",
       "        [1.00000000e+00, 4.83287987e-09],\n",
       "        [1.00000000e+00, 2.18354727e-11],\n",
       "        [3.85013014e-01, 8.86040330e-01],\n",
       "        [9.19801176e-01, 4.29478705e-01],\n",
       "        [9.99857306e-01, 1.07227056e-03],\n",
       "        [1.00000000e+00, 1.34010606e-05],\n",
       "        [9.99969840e-01, 7.25710415e-04],\n",
       "        [1.00000000e+00, 6.84985801e-09],\n",
       "        [9.99999881e-01, 7.61148340e-06],\n",
       "        [1.00000000e+00, 1.70238968e-06],\n",
       "        [1.00000000e+00, 1.02980302e-07],\n",
       "        [9.99988079e-01, 4.00261604e-04],\n",
       "        [9.99999881e-01, 3.86707652e-05],\n",
       "        [9.99999881e-01, 2.99553285e-05],\n",
       "        [1.00000000e+00, 6.22196148e-06],\n",
       "        [9.99999523e-01, 7.05096463e-05],\n",
       "        [9.99999046e-01, 1.12800175e-04],\n",
       "        [1.00000000e+00, 3.13162036e-06],\n",
       "        [9.99988437e-01, 6.52506773e-04],\n",
       "        [1.00000000e+00, 2.67704741e-06],\n",
       "        [1.00000000e+00, 9.56138787e-14],\n",
       "        [1.00000000e+00, 8.82353788e-07],\n",
       "        [1.00000000e+00, 6.18394297e-16],\n",
       "        [9.03526545e-01, 5.86994588e-01],\n",
       "        [1.05425725e-02, 9.99167681e-01],\n",
       "        [9.47349250e-01, 2.43159950e-01],\n",
       "        [9.99998450e-01, 2.81151064e-04],\n",
       "        [1.54685572e-01, 9.77085233e-01],\n",
       "        [1.01380116e-04, 9.99983072e-01],\n",
       "        [2.42590722e-05, 9.99998331e-01],\n",
       "        [1.00000000e+00, 4.58617933e-07],\n",
       "        [5.61798188e-05, 9.99988437e-01],\n",
       "        [9.45136368e-01, 4.31447953e-01],\n",
       "        [3.12600196e-06, 9.99999523e-01],\n",
       "        [9.80339110e-01, 1.15292393e-01],\n",
       "        [8.00931677e-02, 9.80132937e-01],\n",
       "        [9.31848645e-01, 6.51313841e-01],\n",
       "        [2.09857649e-06, 9.99999642e-01]], dtype=float32),\n",
       " array([[1.00000000e+00, 2.11569130e-12],\n",
       "        [1.00000000e+00, 3.84508336e-09],\n",
       "        [1.00000000e+00, 4.19515422e-10],\n",
       "        [2.30289903e-02, 9.79479015e-01],\n",
       "        [1.00000000e+00, 5.59665259e-10],\n",
       "        [6.12643003e-01, 1.43708065e-01],\n",
       "        [9.54905808e-01, 6.89449068e-03],\n",
       "        [9.99426246e-01, 2.23627751e-04],\n",
       "        [1.00000000e+00, 1.40790651e-19],\n",
       "        [9.99993443e-01, 6.18914783e-07],\n",
       "        [9.77403462e-01, 1.25818197e-02],\n",
       "        [9.99926329e-01, 6.85074247e-06],\n",
       "        [8.85539234e-01, 7.95200914e-02],\n",
       "        [8.92131209e-01, 7.46912733e-02],\n",
       "        [2.00513363e-01, 5.40462017e-01],\n",
       "        [1.54478297e-01, 7.92099357e-01],\n",
       "        [8.58579636e-01, 7.07765073e-02],\n",
       "        [9.99953270e-01, 1.06589541e-05],\n",
       "        [7.32825875e-01, 1.43193126e-01],\n",
       "        [9.99997735e-01, 4.76675268e-07],\n",
       "        [9.99999881e-01, 1.97956727e-08],\n",
       "        [9.79548335e-01, 5.85785555e-03],\n",
       "        [9.99737799e-01, 7.18510855e-05],\n",
       "        [1.00000000e+00, 3.61079722e-10],\n",
       "        [1.24107845e-01, 8.60083640e-01],\n",
       "        [9.99998331e-01, 2.64309989e-07],\n",
       "        [1.00000000e+00, 1.15660159e-09],\n",
       "        [9.99861002e-01, 3.57997960e-05],\n",
       "        [1.00000000e+00, 1.08916368e-13],\n",
       "        [1.00000000e+00, 8.32742382e-12],\n",
       "        [1.00000000e+00, 1.53513677e-11],\n",
       "        [1.00000000e+00, 3.23043892e-13],\n",
       "        [9.99999404e-01, 6.97556288e-08],\n",
       "        [9.99886155e-01, 2.41006801e-05],\n",
       "        [9.99999881e-01, 4.76109419e-09],\n",
       "        [7.33332783e-02, 8.86564791e-01],\n",
       "        [9.94819462e-01, 1.59479200e-03],\n",
       "        [6.19606953e-03, 9.96830642e-01],\n",
       "        [9.94780838e-01, 1.41033705e-03],\n",
       "        [9.99658942e-01, 7.42342891e-05],\n",
       "        [8.46988320e-01, 1.06302485e-01],\n",
       "        [9.71731484e-01, 8.17310344e-03],\n",
       "        [9.99898911e-01, 2.35718308e-05],\n",
       "        [7.59624779e-01, 1.06496789e-01],\n",
       "        [9.67768585e-08, 9.99999881e-01],\n",
       "        [9.98227537e-01, 1.28458638e-03],\n",
       "        [7.88882524e-02, 7.94748962e-01],\n",
       "        [4.78013344e-02, 9.41681087e-01],\n",
       "        [7.69346487e-04, 9.99004543e-01],\n",
       "        [1.76337437e-06, 9.99996305e-01]], dtype=float32)]"
      ]
     },
     "execution_count": 8,
     "metadata": {},
     "output_type": "execute_result"
    }
   ],
   "source": [
    "y_predict_all"
   ]
  },
  {
   "cell_type": "code",
   "execution_count": 9,
   "metadata": {},
   "outputs": [],
   "source": [
    "y_test_concatenate_list = []\n",
    "y_predict_concatenate_list = []\n",
    "y_predict_filtered_concatenate_list = []"
   ]
  },
  {
   "cell_type": "code",
   "execution_count": 10,
   "metadata": {},
   "outputs": [],
   "source": [
    "for i in range(5):\n",
    "    y_test_concatenate_list.extend(list(y_test_all[i]))\n",
    "    y_predict_concatenate_list.extend(list(y_predict_all[i]))\n",
    "    y_predict_filtered_concatenate_list.extend(list(y_predict_filtered_all[i]))"
   ]
  },
  {
   "cell_type": "code",
   "execution_count": 11,
   "metadata": {},
   "outputs": [
    {
     "data": {
      "text/plain": [
       "['chr_18', 'chr_18_p11_deletion']"
      ]
     },
     "execution_count": 11,
     "metadata": {},
     "output_type": "execute_result"
    }
   ],
   "source": [
    "label_convert"
   ]
  },
  {
   "cell_type": "code",
   "execution_count": 12,
   "metadata": {},
   "outputs": [
    {
     "data": {
      "text/plain": [
       "251"
      ]
     },
     "execution_count": 12,
     "metadata": {},
     "output_type": "execute_result"
    }
   ],
   "source": [
    "len(y_test_concatenate_list)"
   ]
  },
  {
   "cell_type": "code",
   "execution_count": 13,
   "metadata": {},
   "outputs": [
    {
     "data": {
      "text/plain": [
       "251"
      ]
     },
     "execution_count": 13,
     "metadata": {},
     "output_type": "execute_result"
    }
   ],
   "source": [
    "len(y_predict_filtered_concatenate_list)"
   ]
  },
  {
   "cell_type": "code",
   "execution_count": 14,
   "metadata": {},
   "outputs": [
    {
     "data": {
      "text/plain": [
       "251"
      ]
     },
     "execution_count": 14,
     "metadata": {},
     "output_type": "execute_result"
    }
   ],
   "source": [
    "len(y_predict_concatenate_list)"
   ]
  },
  {
   "cell_type": "markdown",
   "metadata": {},
   "source": [
    "# Classification Report"
   ]
  },
  {
   "cell_type": "markdown",
   "metadata": {},
   "source": [
    "## Accuracy"
   ]
  },
  {
   "cell_type": "code",
   "execution_count": 15,
   "metadata": {},
   "outputs": [
    {
     "name": "stdout",
     "output_type": "stream",
     "text": [
      "Accuracy is  0.8924302788844621\n"
     ]
    }
   ],
   "source": [
    "acc = accuracy_score(y_test_concatenate_list, y_predict_filtered_concatenate_list, normalize=True, sample_weight=None)\n",
    "print('Accuracy is ', acc)"
   ]
  },
  {
   "cell_type": "markdown",
   "metadata": {},
   "source": [
    "## Precision, Recall, and F1"
   ]
  },
  {
   "cell_type": "code",
   "execution_count": 16,
   "metadata": {},
   "outputs": [
    {
     "name": "stdout",
     "output_type": "stream",
     "text": [
      "                     precision    recall  f1-score   support\n",
      "\n",
      "             chr_18       0.90      0.95      0.93       176\n",
      "chr_18_p11_deletion       0.86      0.76      0.81        75\n",
      "\n",
      "          micro avg       0.89      0.89      0.89       251\n",
      "          macro avg       0.88      0.85      0.87       251\n",
      "       weighted avg       0.89      0.89      0.89       251\n",
      "\n"
     ]
    }
   ],
   "source": [
    "performanceReport = classification_report(y_test_concatenate_list, y_predict_filtered_concatenate_list, \n",
    "                                          target_names=label_convert)\n",
    "\n",
    "\n",
    "print(performanceReport)"
   ]
  },
  {
   "cell_type": "markdown",
   "metadata": {},
   "source": [
    "## Confusion Matrix"
   ]
  },
  {
   "cell_type": "code",
   "execution_count": 17,
   "metadata": {},
   "outputs": [
    {
     "data": {
      "text/html": [
       "<div>\n",
       "<style scoped>\n",
       "    .dataframe tbody tr th:only-of-type {\n",
       "        vertical-align: middle;\n",
       "    }\n",
       "\n",
       "    .dataframe tbody tr th {\n",
       "        vertical-align: top;\n",
       "    }\n",
       "\n",
       "    .dataframe thead th {\n",
       "        text-align: right;\n",
       "    }\n",
       "</style>\n",
       "<table border=\"1\" class=\"dataframe\">\n",
       "  <thead>\n",
       "    <tr style=\"text-align: right;\">\n",
       "      <th></th>\n",
       "      <th>chr_18</th>\n",
       "      <th>chr_18_p11_deletion</th>\n",
       "    </tr>\n",
       "  </thead>\n",
       "  <tbody>\n",
       "    <tr>\n",
       "      <th>chr_18</th>\n",
       "      <td>167</td>\n",
       "      <td>9</td>\n",
       "    </tr>\n",
       "    <tr>\n",
       "      <th>chr_18_p11_deletion</th>\n",
       "      <td>18</td>\n",
       "      <td>57</td>\n",
       "    </tr>\n",
       "  </tbody>\n",
       "</table>\n",
       "</div>"
      ],
      "text/plain": [
       "                     chr_18  chr_18_p11_deletion\n",
       "chr_18                  167                    9\n",
       "chr_18_p11_deletion      18                   57"
      ]
     },
     "execution_count": 17,
     "metadata": {},
     "output_type": "execute_result"
    }
   ],
   "source": [
    "cm = np.array(confusion_matrix(y_test_concatenate_list, y_predict_filtered_concatenate_list))\n",
    "confusion = pd.DataFrame(cm, index=label_convert,\n",
    "                        columns=label_convert)\n",
    "confusion.to_csv('ConfusionMatrix_Combination_of_CrossValidation_KaryoType_CNN' + str(iterationNumber) + '.csv')\n",
    "confusion"
   ]
  },
  {
   "cell_type": "markdown",
   "metadata": {},
   "source": [
    "### 3.10.4 Rate of Confusion Matrix"
   ]
  },
  {
   "cell_type": "markdown",
   "metadata": {},
   "source": [
    "### 3.10.5 Recall (查全率)，(Sensitivity Rate)"
   ]
  },
  {
   "cell_type": "code",
   "execution_count": 18,
   "metadata": {
    "scrolled": true
   },
   "outputs": [],
   "source": [
    "subtotal = [0] * 2  \n",
    "for item in y_test_concatenate_list:\n",
    "    subtotal[item] = subtotal[item] + 1"
   ]
  },
  {
   "cell_type": "markdown",
   "metadata": {},
   "source": [
    "#### predict number divided by y test"
   ]
  },
  {
   "cell_type": "code",
   "execution_count": 19,
   "metadata": {},
   "outputs": [],
   "source": [
    "cm_r = []\n",
    "for i in range(2):\n",
    "    cm_r.append(cm[i]/subtotal[i])"
   ]
  },
  {
   "cell_type": "code",
   "execution_count": 20,
   "metadata": {},
   "outputs": [
    {
     "data": {
      "text/html": [
       "<div>\n",
       "<style scoped>\n",
       "    .dataframe tbody tr th:only-of-type {\n",
       "        vertical-align: middle;\n",
       "    }\n",
       "\n",
       "    .dataframe tbody tr th {\n",
       "        vertical-align: top;\n",
       "    }\n",
       "\n",
       "    .dataframe thead th {\n",
       "        text-align: right;\n",
       "    }\n",
       "</style>\n",
       "<table border=\"1\" class=\"dataframe\">\n",
       "  <thead>\n",
       "    <tr style=\"text-align: right;\">\n",
       "      <th></th>\n",
       "      <th>chr_18</th>\n",
       "      <th>chr_18_p11_deletion</th>\n",
       "    </tr>\n",
       "  </thead>\n",
       "  <tbody>\n",
       "    <tr>\n",
       "      <th>chr_18</th>\n",
       "      <td>0.948864</td>\n",
       "      <td>0.051136</td>\n",
       "    </tr>\n",
       "    <tr>\n",
       "      <th>chr_18_p11_deletion</th>\n",
       "      <td>0.240000</td>\n",
       "      <td>0.760000</td>\n",
       "    </tr>\n",
       "  </tbody>\n",
       "</table>\n",
       "</div>"
      ],
      "text/plain": [
       "                       chr_18  chr_18_p11_deletion\n",
       "chr_18               0.948864             0.051136\n",
       "chr_18_p11_deletion  0.240000             0.760000"
      ]
     },
     "execution_count": 20,
     "metadata": {},
     "output_type": "execute_result"
    }
   ],
   "source": [
    "confusion_r = pd.DataFrame(cm_r, index=label_convert,\n",
    "                        columns=label_convert)\n",
    "confusion_r.to_csv('ConfusionMatrix_Recall_Integration_CNN.csv')\n",
    "confusion_r"
   ]
  },
  {
   "cell_type": "markdown",
   "metadata": {},
   "source": [
    "### 3.10.6 Precision (查准率）"
   ]
  },
  {
   "cell_type": "code",
   "execution_count": 21,
   "metadata": {},
   "outputs": [],
   "source": [
    "subtotal_predict = [0] * 2 \n",
    "for item in y_predict_filtered_concatenate_list:\n",
    "    subtotal_predict[item] = subtotal_predict[item] + 1"
   ]
  },
  {
   "cell_type": "markdown",
   "metadata": {},
   "source": [
    "#### predict number divided by y predicted"
   ]
  },
  {
   "cell_type": "code",
   "execution_count": 22,
   "metadata": {},
   "outputs": [],
   "source": [
    "cm_p = []\n",
    "for i in range(2):\n",
    "    cm_p.append(cm[:,i]/subtotal_predict[i])"
   ]
  },
  {
   "cell_type": "code",
   "execution_count": 23,
   "metadata": {},
   "outputs": [
    {
     "data": {
      "text/html": [
       "<div>\n",
       "<style scoped>\n",
       "    .dataframe tbody tr th:only-of-type {\n",
       "        vertical-align: middle;\n",
       "    }\n",
       "\n",
       "    .dataframe tbody tr th {\n",
       "        vertical-align: top;\n",
       "    }\n",
       "\n",
       "    .dataframe thead th {\n",
       "        text-align: right;\n",
       "    }\n",
       "</style>\n",
       "<table border=\"1\" class=\"dataframe\">\n",
       "  <thead>\n",
       "    <tr style=\"text-align: right;\">\n",
       "      <th></th>\n",
       "      <th>chr_18</th>\n",
       "      <th>chr_18_p11_deletion</th>\n",
       "    </tr>\n",
       "  </thead>\n",
       "  <tbody>\n",
       "    <tr>\n",
       "      <th>chr_18</th>\n",
       "      <td>0.902703</td>\n",
       "      <td>0.097297</td>\n",
       "    </tr>\n",
       "    <tr>\n",
       "      <th>chr_18_p11_deletion</th>\n",
       "      <td>0.136364</td>\n",
       "      <td>0.863636</td>\n",
       "    </tr>\n",
       "  </tbody>\n",
       "</table>\n",
       "</div>"
      ],
      "text/plain": [
       "                       chr_18  chr_18_p11_deletion\n",
       "chr_18               0.902703             0.097297\n",
       "chr_18_p11_deletion  0.136364             0.863636"
      ]
     },
     "execution_count": 23,
     "metadata": {},
     "output_type": "execute_result"
    }
   ],
   "source": [
    "confusion_p = pd.DataFrame(cm_p, index=label_convert,\n",
    "                        columns=label_convert)\n",
    "confusion_p.to_csv('ConfusionMatrix_Precision_Integration_CNN.csv')\n",
    "confusion_p"
   ]
  },
  {
   "cell_type": "markdown",
   "metadata": {},
   "source": [
    "#### Heat Map: Number"
   ]
  },
  {
   "cell_type": "code",
   "execution_count": 24,
   "metadata": {
    "scrolled": false
   },
   "outputs": [
    {
     "data": {
      "image/png": "[encoded data removed]",
      "text/plain": [
       "<Figure size 2160x1728 with 2 Axes>"
      ]
     },
     "metadata": {
      "needs_background": "light"
     },
     "output_type": "display_data"
    }
   ],
   "source": [
    "plt.figure(figsize=(30, 24))\n",
    "heat_map = sb.heatmap(confusion, annot=True,  # It's a Seaborn function\n",
    "                      cmap='coolwarm', \n",
    "                      xticklabels=confusion.columns, yticklabels=confusion.index, \n",
    "                      linewidths=.5, \n",
    "                      annot_kws={\"size\": 20})\n",
    "sb.set(font_scale = 2)"
   ]
  },
  {
   "cell_type": "markdown",
   "metadata": {},
   "source": [
    "#### Heat Map of Recall: Rate (important!!!)"
   ]
  },
  {
   "cell_type": "code",
   "execution_count": 25,
   "metadata": {
    "scrolled": false
   },
   "outputs": [
    {
     "data": {
      "image/png": "[encoded data removed]",
      "text/plain": [
       "<Figure size 2160x1728 with 2 Axes>"
      ]
     },
     "metadata": {},
     "output_type": "display_data"
    }
   ],
   "source": [
    "plt.figure(figsize=(30, 24))\n",
    "heat_map_r = sb.heatmap(confusion_r, annot=True,  # It's a Seaborn function\n",
    "                      cmap='coolwarm', \n",
    "                      xticklabels=confusion.columns, yticklabels=confusion.index, \n",
    "                      linewidths=1, \n",
    "                      annot_kws={\"size\": 18})\n",
    "sb.set(font_scale = 2)"
   ]
  },
  {
   "cell_type": "code",
   "execution_count": 26,
   "metadata": {},
   "outputs": [
    {
     "data": {
      "image/png": "[encoded data removed]",
      "text/plain": [
       "<Figure size 2160x1728 with 2 Axes>"
      ]
     },
     "metadata": {},
     "output_type": "display_data"
    }
   ],
   "source": [
    "plt.figure(figsize=(30, 24))\n",
    "heat_map_p = sb.heatmap(confusion_p, annot=True,  # It's a Seaborn function\n",
    "                      cmap='coolwarm', \n",
    "                      xticklabels=confusion.columns, yticklabels=confusion.index, \n",
    "                      linewidths=1, \n",
    "                      annot_kws={\"size\": 18})\n",
    "sb.set(font_scale = 2)"
   ]
  },
  {
   "cell_type": "code",
   "execution_count": 27,
   "metadata": {},
   "outputs": [],
   "source": [
    "fig = heat_map.get_figure()    \n",
    "fig.savefig('Heatmap_Combination.png', dpi=400)"
   ]
  },
  {
   "cell_type": "code",
   "execution_count": 28,
   "metadata": {},
   "outputs": [],
   "source": [
    "fig_r = heat_map_r.get_figure()    \n",
    "fig_r.savefig('Heatmap_Recall_Combination.png', dpi=400)"
   ]
  },
  {
   "cell_type": "code",
   "execution_count": 29,
   "metadata": {},
   "outputs": [],
   "source": [
    "fig_p = heat_map_p.get_figure()    \n",
    "fig_p.savefig('Heatmap_Precision_Combination.png', dpi=400)"
   ]
  },
  {
   "cell_type": "markdown",
   "metadata": {},
   "source": [
    "# ROC Curve"
   ]
  },
  {
   "cell_type": "code",
   "execution_count": 30,
   "metadata": {},
   "outputs": [
    {
     "data": {
      "text/plain": [
       "[array([1.000000e+00, 5.275237e-10], dtype=float32),\n",
       " array([0.95954496, 0.2709664 ], dtype=float32),\n",
       " array([1.0000000e+00, 1.6617032e-06], dtype=float32),\n",
       " array([1.000000e+00, 7.147919e-07], dtype=float32),\n",
       " array([1.0000000e+00, 2.9320602e-06], dtype=float32),\n",
       " array([9.999943e-01, 6.801527e-04], dtype=float32),\n",
       " array([0.9998903, 0.001067 ], dtype=float32),\n",
       " array([1.000000e+00, 4.223459e-08], dtype=float32),\n",
       " array([1.000000e+00, 4.833181e-10], dtype=float32),\n",
       " array([0.99922407, 0.00633096], dtype=float32),\n",
       " array([1.0000000e+00, 1.0478832e-07], dtype=float32),\n",
       " array([1.0000000e+00, 1.9810597e-07], dtype=float32),\n",
       " array([1.0000000e+00, 5.7953343e-08], dtype=float32),\n",
       " array([1.000000e+00, 9.552886e-08], dtype=float32),\n",
       " array([0.9998115, 0.0053131], dtype=float32),\n",
       " array([1.000000e+00, 7.622401e-08], dtype=float32),\n",
       " array([1.000000e+00, 5.224146e-07], dtype=float32),\n",
       " array([0.9993044 , 0.01609138], dtype=float32),\n",
       " array([1.0000000e+00, 8.5686736e-08], dtype=float32),\n",
       " array([9.9997365e-01, 6.5461680e-04], dtype=float32),\n",
       " array([1.000000e+00, 9.596099e-07], dtype=float32),\n",
       " array([9.9999821e-01, 1.6795323e-04], dtype=float32),\n",
       " array([9.9999988e-01, 3.2511566e-06], dtype=float32),\n",
       " array([1.000000e+00, 1.772036e-06], dtype=float32),\n",
       " array([9.9999940e-01, 1.5626476e-05], dtype=float32),\n",
       " array([0.9995035 , 0.00602878], dtype=float32),\n",
       " array([9.999951e-01, 7.261131e-05], dtype=float32),\n",
       " array([9.99992251e-01, 1.02336155e-04], dtype=float32),\n",
       " array([1.0000000e+00, 1.0215055e-09], dtype=float32),\n",
       " array([9.9997413e-01, 2.4982993e-04], dtype=float32),\n",
       " array([0.99987674, 0.00105996], dtype=float32),\n",
       " array([0.9709074 , 0.11952352], dtype=float32),\n",
       " array([0.10529561, 0.9860206 ], dtype=float32),\n",
       " array([9.9999964e-01, 9.8884357e-06], dtype=float32),\n",
       " array([9.9999964e-01, 1.0781821e-05], dtype=float32),\n",
       " array([1.000000e+00, 1.515654e-06], dtype=float32),\n",
       " array([3.7525289e-04, 9.9995184e-01], dtype=float32),\n",
       " array([0.31681058, 0.98107404], dtype=float32),\n",
       " array([0.89668804, 0.67046165], dtype=float32),\n",
       " array([3.471712e-05, 9.999951e-01], dtype=float32),\n",
       " array([0.4686835 , 0.87515736], dtype=float32),\n",
       " array([3.3757367e-04, 9.9990618e-01], dtype=float32),\n",
       " array([0.00234875, 0.99960726], dtype=float32),\n",
       " array([0.00268161, 0.99969673], dtype=float32),\n",
       " array([1.8153904e-04, 9.9998224e-01], dtype=float32),\n",
       " array([4.2667048e-04, 9.9995160e-01], dtype=float32),\n",
       " array([3.6527315e-04, 9.9996734e-01], dtype=float32),\n",
       " array([0.00304682, 0.9995047 ], dtype=float32),\n",
       " array([2.2740365e-04, 9.9999189e-01], dtype=float32),\n",
       " array([0.30985734, 0.8618712 ], dtype=float32),\n",
       " array([3.579945e-05, 9.999980e-01], dtype=float32),\n",
       " array([1.0000000e+00, 2.2048721e-07], dtype=float32),\n",
       " array([0.99817467, 0.3443148 ], dtype=float32),\n",
       " array([1.000000e+00, 5.560415e-09], dtype=float32),\n",
       " array([4.9935485e-04, 9.9998307e-01], dtype=float32),\n",
       " array([1.0000000e+00, 3.8827598e-06], dtype=float32),\n",
       " array([0.999838  , 0.01865168], dtype=float32),\n",
       " array([9.9999905e-01, 2.7378976e-05], dtype=float32),\n",
       " array([9.9999833e-01, 2.1619984e-05], dtype=float32),\n",
       " array([1.0000000e+00, 1.9968176e-08], dtype=float32),\n",
       " array([9.9999785e-01, 8.4217478e-05], dtype=float32),\n",
       " array([0.99979895, 0.059507  ], dtype=float32),\n",
       " array([0.99994326, 0.00195954], dtype=float32),\n",
       " array([9.9998951e-01, 4.2084092e-04], dtype=float32),\n",
       " array([1.0000000e+00, 2.6750614e-08], dtype=float32),\n",
       " array([9.999994e-01, 6.689048e-06], dtype=float32),\n",
       " array([1.00000000e+00, 1.18067724e-07], dtype=float32),\n",
       " array([1.0000000e+00, 2.0834638e-11], dtype=float32),\n",
       " array([9.9999952e-01, 2.1081076e-05], dtype=float32),\n",
       " array([0.9996137 , 0.04876344], dtype=float32),\n",
       " array([1.0000000e+00, 1.6659397e-06], dtype=float32),\n",
       " array([0.9984763 , 0.03112806], dtype=float32),\n",
       " array([9.9998426e-01, 9.9277683e-04], dtype=float32),\n",
       " array([1.0000000e+00, 3.0869705e-06], dtype=float32),\n",
       " array([1.000000e+00, 3.359588e-08], dtype=float32),\n",
       " array([1.0000000e+00, 1.9806687e-07], dtype=float32),\n",
       " array([1.0000000e+00, 1.5643865e-09], dtype=float32),\n",
       " array([1.0000000e+00, 2.2564961e-07], dtype=float32),\n",
       " array([9.9999940e-01, 1.0985458e-05], dtype=float32),\n",
       " array([0.99750465, 0.10486074], dtype=float32),\n",
       " array([9.9999940e-01, 2.6890815e-05], dtype=float32),\n",
       " array([9.9999976e-01, 5.6176154e-06], dtype=float32),\n",
       " array([9.9999833e-01, 4.6478741e-05], dtype=float32),\n",
       " array([9.9999738e-01, 8.8175526e-05], dtype=float32),\n",
       " array([9.9999678e-01, 5.3115335e-05], dtype=float32),\n",
       " array([9.999995e-01, 8.646379e-06], dtype=float32),\n",
       " array([0.9999443, 0.0012143], dtype=float32),\n",
       " array([0.03345374, 0.9987288 ], dtype=float32),\n",
       " array([8.2591834e-04, 9.9998391e-01], dtype=float32),\n",
       " array([5.0247606e-04, 9.9999273e-01], dtype=float32),\n",
       " array([1.042316e-05, 9.999995e-01], dtype=float32),\n",
       " array([0.52311796, 0.9872843 ], dtype=float32),\n",
       " array([0.01272723, 0.9996525 ], dtype=float32),\n",
       " array([0.2315055 , 0.99370664], dtype=float32),\n",
       " array([6.1006117e-06, 1.0000000e+00], dtype=float32),\n",
       " array([5.1993055e-05, 9.9999893e-01], dtype=float32),\n",
       " array([0.00773189, 0.99984896], dtype=float32),\n",
       " array([4.015580e-04, 9.999913e-01], dtype=float32),\n",
       " array([0.00295589, 0.99991655], dtype=float32),\n",
       " array([6.103818e-06, 9.999999e-01], dtype=float32),\n",
       " array([5.296824e-05, 9.999976e-01], dtype=float32),\n",
       " array([9.996778e-01, 1.312564e-04], dtype=float32),\n",
       " array([9.9999988e-01, 1.4122517e-07], dtype=float32),\n",
       " array([9.9998951e-01, 3.6825097e-06], dtype=float32),\n",
       " array([1.000000e+00, 8.480544e-09], dtype=float32),\n",
       " array([9.9799418e-01, 7.2234956e-04], dtype=float32),\n",
       " array([9.9999928e-01, 2.0591828e-07], dtype=float32),\n",
       " array([9.9993193e-01, 1.6449349e-05], dtype=float32),\n",
       " array([9.9903774e-01, 2.5408805e-04], dtype=float32),\n",
       " array([9.9999845e-01, 3.2993529e-07], dtype=float32),\n",
       " array([0.86049324, 0.03126658], dtype=float32),\n",
       " array([1.00000e+00, 7.32936e-11], dtype=float32),\n",
       " array([9.9999559e-01, 1.1978625e-06], dtype=float32),\n",
       " array([0.88189006, 0.02592586], dtype=float32),\n",
       " array([9.9978524e-01, 4.4455901e-05], dtype=float32),\n",
       " array([9.984654e-01, 3.035091e-04], dtype=float32),\n",
       " array([9.9858737e-01, 2.2070017e-04], dtype=float32),\n",
       " array([9.9996495e-01, 1.0721684e-05], dtype=float32),\n",
       " array([0.15501553, 0.55604887], dtype=float32),\n",
       " array([9.9999821e-01, 3.9715215e-07], dtype=float32),\n",
       " array([9.999989e-01, 6.600199e-07], dtype=float32),\n",
       " array([1.000000e+00, 9.189558e-10], dtype=float32),\n",
       " array([9.9941993e-01, 2.2518862e-04], dtype=float32),\n",
       " array([0.99688977, 0.00114411], dtype=float32),\n",
       " array([9.998890e-01, 4.696685e-05], dtype=float32),\n",
       " array([9.994136e-01, 1.967767e-04], dtype=float32),\n",
       " array([9.999840e-01, 8.220174e-06], dtype=float32),\n",
       " array([9.9999011e-01, 5.0799135e-06], dtype=float32),\n",
       " array([0.65706736, 0.15924913], dtype=float32),\n",
       " array([1.00000000e+00, 1.19674715e-08], dtype=float32),\n",
       " array([9.999989e-01, 5.597901e-07], dtype=float32),\n",
       " array([0.946437  , 0.02760339], dtype=float32),\n",
       " array([9.9999928e-01, 7.0223047e-07], dtype=float32),\n",
       " array([0.96826476, 0.01167888], dtype=float32),\n",
       " array([9.999993e-01, 6.517776e-07], dtype=float32),\n",
       " array([9.9999940e-01, 4.0968797e-07], dtype=float32),\n",
       " array([1.4004688e-05, 9.9993563e-01], dtype=float32),\n",
       " array([0.1877786, 0.5149536], dtype=float32),\n",
       " array([0.03508415, 0.8279677 ], dtype=float32),\n",
       " array([0.01041829, 0.9734908 ], dtype=float32),\n",
       " array([8.1281684e-04, 9.9652714e-01], dtype=float32),\n",
       " array([0.79144025, 0.08495149], dtype=float32),\n",
       " array([2.3064853e-04, 9.9837363e-01], dtype=float32),\n",
       " array([3.9991478e-06, 9.9998367e-01], dtype=float32),\n",
       " array([0.00237901, 0.98888284], dtype=float32),\n",
       " array([5.577520e-06, 9.999671e-01], dtype=float32),\n",
       " array([0.00977231, 0.9669968 ], dtype=float32),\n",
       " array([1.1631071e-06, 9.9998891e-01], dtype=float32),\n",
       " array([1.8905108e-05, 9.9989235e-01], dtype=float32),\n",
       " array([3.7535334e-05, 9.9988687e-01], dtype=float32),\n",
       " array([0.00438908, 0.96877664], dtype=float32),\n",
       " array([1.000000e+00, 2.018295e-08], dtype=float32),\n",
       " array([0.9791423 , 0.49584064], dtype=float32),\n",
       " array([9.9999845e-01, 2.5964313e-05], dtype=float32),\n",
       " array([9.9999416e-01, 2.4357703e-04], dtype=float32),\n",
       " array([1.0000000e+00, 4.0643313e-21], dtype=float32),\n",
       " array([1.00000000e+00, 1.43988215e-11], dtype=float32),\n",
       " array([1.0000000e+00, 4.6248845e-09], dtype=float32),\n",
       " array([9.9999988e-01, 2.3943185e-06], dtype=float32),\n",
       " array([0.45722464, 0.96400714], dtype=float32),\n",
       " array([0.9976707 , 0.06825961], dtype=float32),\n",
       " array([0.99193126, 0.07140004], dtype=float32),\n",
       " array([0.99882287, 0.04332631], dtype=float32),\n",
       " array([1.00000e+00, 4.83288e-09], dtype=float32),\n",
       " array([1.0000000e+00, 2.1835473e-11], dtype=float32),\n",
       " array([0.385013  , 0.88604033], dtype=float32),\n",
       " array([0.9198012, 0.4294787], dtype=float32),\n",
       " array([0.9998573 , 0.00107227], dtype=float32),\n",
       " array([1.0000000e+00, 1.3401061e-05], dtype=float32),\n",
       " array([9.9996984e-01, 7.2571042e-04], dtype=float32),\n",
       " array([1.000000e+00, 6.849858e-09], dtype=float32),\n",
       " array([9.9999988e-01, 7.6114834e-06], dtype=float32),\n",
       " array([1.0000000e+00, 1.7023897e-06], dtype=float32),\n",
       " array([1.000000e+00, 1.029803e-07], dtype=float32),\n",
       " array([9.999881e-01, 4.002616e-04], dtype=float32),\n",
       " array([9.9999988e-01, 3.8670765e-05], dtype=float32),\n",
       " array([9.9999988e-01, 2.9955329e-05], dtype=float32),\n",
       " array([1.0000000e+00, 6.2219615e-06], dtype=float32),\n",
       " array([9.9999952e-01, 7.0509646e-05], dtype=float32),\n",
       " array([9.99999046e-01, 1.12800175e-04], dtype=float32),\n",
       " array([1.0000000e+00, 3.1316204e-06], dtype=float32),\n",
       " array([9.9998844e-01, 6.5250677e-04], dtype=float32),\n",
       " array([1.0000000e+00, 2.6770474e-06], dtype=float32),\n",
       " array([1.000000e+00, 9.561388e-14], dtype=float32),\n",
       " array([1.000000e+00, 8.823538e-07], dtype=float32),\n",
       " array([1.000000e+00, 6.183943e-16], dtype=float32),\n",
       " array([0.90352654, 0.5869946 ], dtype=float32),\n",
       " array([0.01054257, 0.9991677 ], dtype=float32),\n",
       " array([0.94734925, 0.24315995], dtype=float32),\n",
       " array([9.9999845e-01, 2.8115106e-04], dtype=float32),\n",
       " array([0.15468557, 0.97708523], dtype=float32),\n",
       " array([1.01380116e-04, 9.99983072e-01], dtype=float32),\n",
       " array([2.4259072e-05, 9.9999833e-01], dtype=float32),\n",
       " array([1.0000000e+00, 4.5861793e-07], dtype=float32),\n",
       " array([5.6179819e-05, 9.9998844e-01], dtype=float32),\n",
       " array([0.94513637, 0.43144795], dtype=float32),\n",
       " array([3.126002e-06, 9.999995e-01], dtype=float32),\n",
       " array([0.9803391 , 0.11529239], dtype=float32),\n",
       " array([0.08009317, 0.98013294], dtype=float32),\n",
       " array([0.93184865, 0.65131384], dtype=float32),\n",
       " array([2.0985765e-06, 9.9999964e-01], dtype=float32),\n",
       " array([1.0000000e+00, 2.1156913e-12], dtype=float32),\n",
       " array([1.0000000e+00, 3.8450834e-09], dtype=float32),\n",
       " array([1.0000000e+00, 4.1951542e-10], dtype=float32),\n",
       " array([0.02302899, 0.979479  ], dtype=float32),\n",
       " array([1.0000000e+00, 5.5966526e-10], dtype=float32),\n",
       " array([0.612643  , 0.14370807], dtype=float32),\n",
       " array([0.9549058 , 0.00689449], dtype=float32),\n",
       " array([9.9942625e-01, 2.2362775e-04], dtype=float32),\n",
       " array([1.0000000e+00, 1.4079065e-19], dtype=float32),\n",
       " array([9.9999344e-01, 6.1891478e-07], dtype=float32),\n",
       " array([0.97740346, 0.01258182], dtype=float32),\n",
       " array([9.9992633e-01, 6.8507425e-06], dtype=float32),\n",
       " array([0.88553923, 0.07952009], dtype=float32),\n",
       " array([0.8921312 , 0.07469127], dtype=float32),\n",
       " array([0.20051336, 0.540462  ], dtype=float32),\n",
       " array([0.1544783 , 0.79209936], dtype=float32),\n",
       " array([0.85857964, 0.07077651], dtype=float32),\n",
       " array([9.9995327e-01, 1.0658954e-05], dtype=float32),\n",
       " array([0.7328259 , 0.14319313], dtype=float32),\n",
       " array([9.9999774e-01, 4.7667527e-07], dtype=float32),\n",
       " array([9.9999988e-01, 1.9795673e-08], dtype=float32),\n",
       " array([0.97954834, 0.00585786], dtype=float32),\n",
       " array([9.9973780e-01, 7.1851086e-05], dtype=float32),\n",
       " array([1.0000000e+00, 3.6107972e-10], dtype=float32),\n",
       " array([0.12410785, 0.86008364], dtype=float32),\n",
       " array([9.9999833e-01, 2.6430999e-07], dtype=float32),\n",
       " array([1.0000000e+00, 1.1566016e-09], dtype=float32),\n",
       " array([9.9986100e-01, 3.5799796e-05], dtype=float32),\n",
       " array([1.0000000e+00, 1.0891637e-13], dtype=float32),\n",
       " array([1.000000e+00, 8.327424e-12], dtype=float32),\n",
       " array([1.0000000e+00, 1.5351368e-11], dtype=float32),\n",
       " array([1.000000e+00, 3.230439e-13], dtype=float32),\n",
       " array([9.999994e-01, 6.975563e-08], dtype=float32),\n",
       " array([9.9988616e-01, 2.4100680e-05], dtype=float32),\n",
       " array([9.999999e-01, 4.761094e-09], dtype=float32),\n",
       " array([0.07333328, 0.8865648 ], dtype=float32),\n",
       " array([0.99481946, 0.00159479], dtype=float32),\n",
       " array([0.00619607, 0.99683064], dtype=float32),\n",
       " array([0.99478084, 0.00141034], dtype=float32),\n",
       " array([9.9965894e-01, 7.4234289e-05], dtype=float32),\n",
       " array([0.8469883 , 0.10630248], dtype=float32),\n",
       " array([0.9717315, 0.0081731], dtype=float32),\n",
       " array([9.998989e-01, 2.357183e-05], dtype=float32),\n",
       " array([0.7596248 , 0.10649679], dtype=float32),\n",
       " array([9.677686e-08, 9.999999e-01], dtype=float32),\n",
       " array([0.99822754, 0.00128459], dtype=float32),\n",
       " array([0.07888825, 0.79474896], dtype=float32),\n",
       " array([0.04780133, 0.9416811 ], dtype=float32),\n",
       " array([7.6934649e-04, 9.9900454e-01], dtype=float32),\n",
       " array([1.7633744e-06, 9.9999630e-01], dtype=float32)]"
      ]
     },
     "execution_count": 30,
     "metadata": {},
     "output_type": "execute_result"
    }
   ],
   "source": [
    "y_predict_concatenate_list"
   ]
  },
  {
   "cell_type": "code",
   "execution_count": 31,
   "metadata": {},
   "outputs": [
    {
     "data": {
      "text/plain": [
       "251"
      ]
     },
     "execution_count": 31,
     "metadata": {},
     "output_type": "execute_result"
    }
   ],
   "source": [
    "len(y_predict_concatenate_list)"
   ]
  },
  {
   "cell_type": "code",
   "execution_count": 32,
   "metadata": {},
   "outputs": [
    {
     "ename": "NameError",
     "evalue": "name 'y_predict_concatenate_array' is not defined",
     "output_type": "error",
     "traceback": [
      "\u001b[1;31m---------------------------------------------------------------------------\u001b[0m",
      "\u001b[1;31mNameError\u001b[0m                                 Traceback (most recent call last)",
      "\u001b[1;32m<ipython-input-32-7fe9580d3620>\u001b[0m in \u001b[0;36m<module>\u001b[1;34m\u001b[0m\n\u001b[1;32m----> 1\u001b[1;33m \u001b[0my_predict_concatenate_array\u001b[0m\u001b[1;33m\u001b[0m\u001b[1;33m\u001b[0m\u001b[0m\n\u001b[0m",
      "\u001b[1;31mNameError\u001b[0m: name 'y_predict_concatenate_array' is not defined"
     ]
    }
   ],
   "source": [
    "y_predict_concatenate_array"
   ]
  },
  {
   "cell_type": "code",
   "execution_count": null,
   "metadata": {},
   "outputs": [],
   "source": [
    "y_predict_1D = y_predict[:,0]"
   ]
  },
  {
   "cell_type": "code",
   "execution_count": null,
   "metadata": {},
   "outputs": [],
   "source": [
    "y_predict_1D_processed = 1- y_predict_1D"
   ]
  },
  {
   "cell_type": "code",
   "execution_count": null,
   "metadata": {},
   "outputs": [],
   "source": [
    "fpr , tpr , thresholds = roc_curve(y_test , y_predict_1D_processed)\n",
    "auc_rf = auc(fpr, tpr)"
   ]
  },
  {
   "cell_type": "code",
   "execution_count": null,
   "metadata": {},
   "outputs": [],
   "source": [
    "auc_rf"
   ]
  },
  {
   "cell_type": "code",
   "execution_count": null,
   "metadata": {},
   "outputs": [],
   "source": [
    "x = y = np.arange(0,1.1,0.1)"
   ]
  },
  {
   "cell_type": "code",
   "execution_count": null,
   "metadata": {},
   "outputs": [],
   "source": [
    "x"
   ]
  },
  {
   "cell_type": "code",
   "execution_count": null,
   "metadata": {},
   "outputs": [],
   "source": [
    "plt.plot(fpr, tpr)\n",
    "plt.plot(x, y, '--', color='black')\n",
    "plt.title('ROC curve of 18p11', fontsize=15, fontname = 'Times New Roman')\n",
    "plt.xlabel('False Positive Rate', fontsize=10, fontname = 'Times New Roman')\n",
    "plt.ylabel('True positive Rate', fontsize=10, fontname = 'Times New Roman')\n",
    "plt.axis('equal')\n",
    "plt.xlim(0,1)\n",
    "plt.ylim(0,1.1)\n",
    "plt.xticks(fontsize=10, fontname = 'Times New Roman')\n",
    "plt.yticks(fontsize=10, fontname = 'Times New Roman')\n",
    "\n",
    "plt.savefig('ROC_Curve_Chr_05_' + str(iterationNumber) + '.png', dpi=400)\n",
    "plt.show()"
   ]
  },
  {
   "cell_type": "markdown",
   "metadata": {},
   "source": [
    "#### 3.10.4.1 AUC Value"
   ]
  },
  {
   "cell_type": "code",
   "execution_count": null,
   "metadata": {},
   "outputs": [],
   "source": [
    "auc_value = auc(fpr, tpr)"
   ]
  },
  {
   "cell_type": "code",
   "execution_count": null,
   "metadata": {},
   "outputs": [],
   "source": [
    "print('AUC is ', auc_value)"
   ]
  },
  {
   "cell_type": "markdown",
   "metadata": {},
   "source": [
    "# Results"
   ]
  },
  {
   "cell_type": "code",
   "execution_count": null,
   "metadata": {},
   "outputs": [],
   "source": [
    "print('Test Accuracy: %.3f' % acc)"
   ]
  },
  {
   "cell_type": "code",
   "execution_count": null,
   "metadata": {
    "scrolled": true
   },
   "outputs": [],
   "source": [
    "print(performanceReport)"
   ]
  },
  {
   "cell_type": "code",
   "execution_count": null,
   "metadata": {},
   "outputs": [],
   "source": [
    "type(performanceReport)"
   ]
  },
  {
   "cell_type": "code",
   "execution_count": null,
   "metadata": {},
   "outputs": [],
   "source": [
    "print('AUC is ', auc_value)"
   ]
  },
  {
   "cell_type": "markdown",
   "metadata": {},
   "source": [
    "## Export to a text file"
   ]
  },
  {
   "cell_type": "code",
   "execution_count": null,
   "metadata": {},
   "outputs": [],
   "source": [
    "file_report = open('ResultsCombination.txt', 'w')\n",
    "file_report.write('Accuracy: %s\\n\\n' % acc)\n",
    "file_report.write('AUC: %s.\\n\\n' % auc_value)\n",
    "file_report.write('Performance Report: \\n%s\\n\\n' % performanceReport)\n",
    "file_report.write('Confusion Matrix: \\n%s.\\n\\n' % confusion)\n",
    "file_report.write('Recall of Confusion Matrix: \\n%s.\\n\\n' % confusion_r)\n",
    "file_report.write('Precision of Confusion Matrix: \\n%s.\\n\\n' % confusion_p)\n",
    "file_report.close()"
   ]
  },
  {
   "cell_type": "code",
   "execution_count": null,
   "metadata": {},
   "outputs": [],
   "source": [
    "a = np.array([[1,2],[2,3],[3,4]])\n",
    "b = np.array([[10,20],[20,30],[30,40]])"
   ]
  },
  {
   "cell_type": "code",
   "execution_count": null,
   "metadata": {},
   "outputs": [],
   "source": [
    "a"
   ]
  },
  {
   "cell_type": "code",
   "execution_count": null,
   "metadata": {},
   "outputs": [],
   "source": [
    "b"
   ]
  },
  {
   "cell_type": "code",
   "execution_count": null,
   "metadata": {},
   "outputs": [],
   "source": [
    "np.concatenate((a, b))"
   ]
  },
  {
   "cell_type": "code",
   "execution_count": null,
   "metadata": {},
   "outputs": [],
   "source": []
  }
 ],
 "metadata": {
  "kernelspec": {
   "display_name": "Python 3",
   "language": "python",
   "name": "python3"
  },
  "language_info": {
   "codemirror_mode": {
    "name": "ipython",
    "version": 3
   },
   "file_extension": ".py",
   "mimetype": "text/x-python",
   "name": "python",
   "nbconvert_exporter": "python",
   "pygments_lexer": "ipython3",
   "version": "3.7.3"
  }
 },
 "nbformat": 4,
 "nbformat_minor": 2
}
