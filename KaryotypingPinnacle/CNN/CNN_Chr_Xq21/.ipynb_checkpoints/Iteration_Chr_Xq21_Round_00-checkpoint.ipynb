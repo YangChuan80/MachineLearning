{
 "cells": [
  {
   "cell_type": "markdown",
   "metadata": {
    "colab_type": "text",
    "id": "slIdjqTJhM8B"
   },
   "source": [
    "# Facilitated Machine Learning Models for Karyotyping in the Patients with Chromosomal Abnormalities: Retrospective Study"
   ]
  },
  {
   "cell_type": "markdown",
   "metadata": {
    "colab_type": "text",
    "id": "aBT9lgVVhM8D"
   },
   "source": [
    "- **Chuan Yang**, MD, PhD Student\n",
    "- Mentor: **Yanyan Zhao**, MD, PhD\n",
    "- Shengjing Hospital of China Medical University"
   ]
  },
  {
   "cell_type": "markdown",
   "metadata": {},
   "source": [
    "# Chr 18 vs Chr 18p11"
   ]
  },
  {
   "cell_type": "markdown",
   "metadata": {
    "colab_type": "text",
    "id": "xrnbxOZChM8E"
   },
   "source": [
    "# Modules"
   ]
  },
  {
   "cell_type": "code",
   "execution_count": 1,
   "metadata": {
    "colab": {},
    "colab_type": "code",
    "id": "aKjA8v4hhM8E"
   },
   "outputs": [],
   "source": [
    "from PIL import Image\n",
    "import numpy as np\n",
    "import pandas as pd\n",
    "import matplotlib.pyplot as plt\n",
    "\n",
    "import seaborn as sb\n",
    "\n",
    "from sklearn.metrics import classification_report, confusion_matrix, roc_curve, auc\n",
    "from sklearn.model_selection import KFold\n",
    "\n",
    "from tensorflow.keras import Sequential\n",
    "from tensorflow.keras.layers import Dense, Conv2D, MaxPooling2D, Flatten\n",
    "from tensorflow import keras\n",
    "\n",
    "from os import walk\n",
    "\n",
    "import time\n",
    "import datetime\n",
    "\n",
    "import json\n",
    "\n",
    "%matplotlib inline"
   ]
  },
  {
   "cell_type": "code",
   "execution_count": 2,
   "metadata": {},
   "outputs": [],
   "source": [
    "iterationNumber = 0"
   ]
  },
  {
   "cell_type": "markdown",
   "metadata": {},
   "source": [
    "# 1. Read the File to Acquire the Filename"
   ]
  },
  {
   "cell_type": "code",
   "execution_count": 3,
   "metadata": {
    "scrolled": true
   },
   "outputs": [
    {
     "data": {
      "text/plain": [
       "{'chr_18': {'0': ['D:\\\\Users\\\\Chuan\\\\Documents\\\\Database\\\\Karyotypes\\\\Arrangement_Merged\\\\chr_18\\\\181228-i(18)(q10)+18-10L.bmp',\n",
       "   'D:\\\\Users\\\\Chuan\\\\Documents\\\\Database\\\\Karyotypes\\\\Arrangement_Merged\\\\chr_18\\\\181228-i(18)(q10)+18-11L.bmp',\n",
       "   'D:\\\\Users\\\\Chuan\\\\Documents\\\\Database\\\\Karyotypes\\\\Arrangement_Merged\\\\chr_18\\\\181228-i(18)(q10)+18-12L.bmp',\n",
       "   'D:\\\\Users\\\\Chuan\\\\Documents\\\\Database\\\\Karyotypes\\\\Arrangement_Merged\\\\chr_18\\\\181228-i(18)(q10)+18-13L.bmp',\n",
       "   'D:\\\\Users\\\\Chuan\\\\Documents\\\\Database\\\\Karyotypes\\\\Arrangement_Merged\\\\chr_18\\\\181228-i(18)(q10)+18-2L.bmp',\n",
       "   'D:\\\\Users\\\\Chuan\\\\Documents\\\\Database\\\\Karyotypes\\\\Arrangement_Merged\\\\chr_18\\\\181228-i(18)(q10)+18-3L.bmp',\n",
       "   'D:\\\\Users\\\\Chuan\\\\Documents\\\\Database\\\\Karyotypes\\\\Arrangement_Merged\\\\chr_18\\\\181228-i(18)(q10)+18-4L.bmp',\n",
       "   'D:\\\\Users\\\\Chuan\\\\Documents\\\\Database\\\\Karyotypes\\\\Arrangement_Merged\\\\chr_18\\\\181228-i(18)(q10)+18-5L.bmp',\n",
       "   'D:\\\\Users\\\\Chuan\\\\Documents\\\\Database\\\\Karyotypes\\\\Arrangement_Merged\\\\chr_18\\\\181228-i(18)(q10)+18-7L.bmp',\n",
       "   'D:\\\\Users\\\\Chuan\\\\Documents\\\\Database\\\\Karyotypes\\\\Arrangement_Merged\\\\chr_18\\\\181228-i(18)(q10)+18-9L.bmp',\n",
       "   'D:\\\\Users\\\\Chuan\\\\Documents\\\\Database\\\\Karyotypes\\\\Arrangement_Merged\\\\chr_18\\\\183873-del(18)(p11)-10L.bmp',\n",
       "   'D:\\\\Users\\\\Chuan\\\\Documents\\\\Database\\\\Karyotypes\\\\Arrangement_Merged\\\\chr_18\\\\183873-del(18)(p11)-12L.bmp',\n",
       "   'D:\\\\Users\\\\Chuan\\\\Documents\\\\Database\\\\Karyotypes\\\\Arrangement_Merged\\\\chr_18\\\\183873-del(18)(p11)-14L.bmp',\n",
       "   'D:\\\\Users\\\\Chuan\\\\Documents\\\\Database\\\\Karyotypes\\\\Arrangement_Merged\\\\chr_18\\\\183873-del(18)(p11)-15L.bmp',\n",
       "   'D:\\\\Users\\\\Chuan\\\\Documents\\\\Database\\\\Karyotypes\\\\Arrangement_Merged\\\\chr_18\\\\183873-del(18)(p11)-17L.bmp',\n",
       "   'D:\\\\Users\\\\Chuan\\\\Documents\\\\Database\\\\Karyotypes\\\\Arrangement_Merged\\\\chr_18\\\\183873-del(18)(p11)-18L.bmp',\n",
       "   'D:\\\\Users\\\\Chuan\\\\Documents\\\\Database\\\\Karyotypes\\\\Arrangement_Merged\\\\chr_18\\\\183873-del(18)(p11)-19L.bmp',\n",
       "   'D:\\\\Users\\\\Chuan\\\\Documents\\\\Database\\\\Karyotypes\\\\Arrangement_Merged\\\\chr_18\\\\183873-del(18)(p11)-1L.bmp',\n",
       "   'D:\\\\Users\\\\Chuan\\\\Documents\\\\Database\\\\Karyotypes\\\\Arrangement_Merged\\\\chr_18\\\\183873-del(18)(p11)-20L.bmp',\n",
       "   'D:\\\\Users\\\\Chuan\\\\Documents\\\\Database\\\\Karyotypes\\\\Arrangement_Merged\\\\chr_18\\\\183873-del(18)(p11)-21L.bmp',\n",
       "   'D:\\\\Users\\\\Chuan\\\\Documents\\\\Database\\\\Karyotypes\\\\Arrangement_Merged\\\\chr_18\\\\183873-del(18)(p11)-22L.bmp',\n",
       "   'D:\\\\Users\\\\Chuan\\\\Documents\\\\Database\\\\Karyotypes\\\\Arrangement_Merged\\\\chr_18\\\\183873-del(18)(p11)-23L.bmp',\n",
       "   'D:\\\\Users\\\\Chuan\\\\Documents\\\\Database\\\\Karyotypes\\\\Arrangement_Merged\\\\chr_18\\\\183873-del(18)(p11)-24L.bmp',\n",
       "   'D:\\\\Users\\\\Chuan\\\\Documents\\\\Database\\\\Karyotypes\\\\Arrangement_Merged\\\\chr_18\\\\183873-del(18)(p11)-2L.bmp',\n",
       "   'D:\\\\Users\\\\Chuan\\\\Documents\\\\Database\\\\Karyotypes\\\\Arrangement_Merged\\\\chr_18\\\\183873-del(18)(p11)-4L.bmp',\n",
       "   'D:\\\\Users\\\\Chuan\\\\Documents\\\\Database\\\\Karyotypes\\\\Arrangement_Merged\\\\chr_18\\\\183873-del(18)(p11)-5L.bmp',\n",
       "   'D:\\\\Users\\\\Chuan\\\\Documents\\\\Database\\\\Karyotypes\\\\Arrangement_Merged\\\\chr_18\\\\183873-del(18)(p11)-6L.bmp',\n",
       "   'D:\\\\Users\\\\Chuan\\\\Documents\\\\Database\\\\Karyotypes\\\\Arrangement_Merged\\\\chr_18\\\\183873-del(18)(p11)-8L.bmp',\n",
       "   'D:\\\\Users\\\\Chuan\\\\Documents\\\\Database\\\\Karyotypes\\\\Arrangement_Merged\\\\chr_18\\\\183873-del(18)(p11)-9L.bmp',\n",
       "   'D:\\\\Users\\\\Chuan\\\\Documents\\\\Database\\\\Karyotypes\\\\Arrangement_Merged\\\\chr_18\\\\190325-1.jpg_18L.bmp',\n",
       "   'D:\\\\Users\\\\Chuan\\\\Documents\\\\Database\\\\Karyotypes\\\\Arrangement_Merged\\\\chr_18\\\\190325-10.jpg_18L.bmp',\n",
       "   'D:\\\\Users\\\\Chuan\\\\Documents\\\\Database\\\\Karyotypes\\\\Arrangement_Merged\\\\chr_18\\\\190325-12.jpg_18L.bmp',\n",
       "   'D:\\\\Users\\\\Chuan\\\\Documents\\\\Database\\\\Karyotypes\\\\Arrangement_Merged\\\\chr_18\\\\190325-14.jpg_18L.bmp',\n",
       "   'D:\\\\Users\\\\Chuan\\\\Documents\\\\Database\\\\Karyotypes\\\\Arrangement_Merged\\\\chr_18\\\\190325-15.jpg_18L.bmp',\n",
       "   'D:\\\\Users\\\\Chuan\\\\Documents\\\\Database\\\\Karyotypes\\\\Arrangement_Merged\\\\chr_18\\\\190325-16.jpg_18L.bmp',\n",
       "   'D:\\\\Users\\\\Chuan\\\\Documents\\\\Database\\\\Karyotypes\\\\Arrangement_Merged\\\\chr_18\\\\190325-17.jpg_18L.bmp',\n",
       "   'D:\\\\Users\\\\Chuan\\\\Documents\\\\Database\\\\Karyotypes\\\\Arrangement_Merged\\\\chr_18\\\\190325-19.jpg_18L.bmp',\n",
       "   'D:\\\\Users\\\\Chuan\\\\Documents\\\\Database\\\\Karyotypes\\\\Arrangement_Merged\\\\chr_18\\\\190325-2.jpg_18L.bmp',\n",
       "   'D:\\\\Users\\\\Chuan\\\\Documents\\\\Database\\\\Karyotypes\\\\Arrangement_Merged\\\\chr_18\\\\190325-20.jpg.18L.bmp',\n",
       "   'D:\\\\Users\\\\Chuan\\\\Documents\\\\Database\\\\Karyotypes\\\\Arrangement_Merged\\\\chr_18\\\\190325-4.jpg_18L.bmp',\n",
       "   'D:\\\\Users\\\\Chuan\\\\Documents\\\\Database\\\\Karyotypes\\\\Arrangement_Merged\\\\chr_18\\\\190325-6.jpg_18L.bmp',\n",
       "   'D:\\\\Users\\\\Chuan\\\\Documents\\\\Database\\\\Karyotypes\\\\Arrangement_Merged\\\\chr_18\\\\190325-7.jpg_18L.bmp',\n",
       "   'D:\\\\Users\\\\Chuan\\\\Documents\\\\Database\\\\Karyotypes\\\\Arrangement_Merged\\\\chr_18\\\\190325-8.jpg_18L.bmp',\n",
       "   'D:\\\\Users\\\\Chuan\\\\Documents\\\\Database\\\\Karyotypes\\\\Arrangement_Merged\\\\chr_18\\\\190325-9.jpg_18L.bmp',\n",
       "   'D:\\\\Users\\\\Chuan\\\\Documents\\\\Database\\\\Karyotypes\\\\Arrangement_Merged\\\\chr_18\\\\191225-1.jpg_18L.bmp',\n",
       "   'D:\\\\Users\\\\Chuan\\\\Documents\\\\Database\\\\Karyotypes\\\\Arrangement_Merged\\\\chr_18\\\\191225-10.jpg_18L.bmp',\n",
       "   'D:\\\\Users\\\\Chuan\\\\Documents\\\\Database\\\\Karyotypes\\\\Arrangement_Merged\\\\chr_18\\\\191225-11.jpg_18L.bmp',\n",
       "   'D:\\\\Users\\\\Chuan\\\\Documents\\\\Database\\\\Karyotypes\\\\Arrangement_Merged\\\\chr_18\\\\191225-13.jpg_18L.bmp',\n",
       "   'D:\\\\Users\\\\Chuan\\\\Documents\\\\Database\\\\Karyotypes\\\\Arrangement_Merged\\\\chr_18\\\\191225-14.jpg_18L.bmp',\n",
       "   'D:\\\\Users\\\\Chuan\\\\Documents\\\\Database\\\\Karyotypes\\\\Arrangement_Merged\\\\chr_18\\\\191225-15.jpg_18L.bmp',\n",
       "   'D:\\\\Users\\\\Chuan\\\\Documents\\\\Database\\\\Karyotypes\\\\Arrangement_Merged\\\\chr_18\\\\191225-16.jpg_18L.bmp',\n",
       "   'D:\\\\Users\\\\Chuan\\\\Documents\\\\Database\\\\Karyotypes\\\\Arrangement_Merged\\\\chr_18\\\\191225-17.jpg_18L.bmp',\n",
       "   'D:\\\\Users\\\\Chuan\\\\Documents\\\\Database\\\\Karyotypes\\\\Arrangement_Merged\\\\chr_18\\\\191225-18.jpg_18L.bmp',\n",
       "   'D:\\\\Users\\\\Chuan\\\\Documents\\\\Database\\\\Karyotypes\\\\Arrangement_Merged\\\\chr_18\\\\191225-19.jpg_18L.bmp',\n",
       "   'D:\\\\Users\\\\Chuan\\\\Documents\\\\Database\\\\Karyotypes\\\\Arrangement_Merged\\\\chr_18\\\\191225-2.jpg_18L.bmp',\n",
       "   'D:\\\\Users\\\\Chuan\\\\Documents\\\\Database\\\\Karyotypes\\\\Arrangement_Merged\\\\chr_18\\\\191225-21.jpg_18L.bmp',\n",
       "   'D:\\\\Users\\\\Chuan\\\\Documents\\\\Database\\\\Karyotypes\\\\Arrangement_Merged\\\\chr_18\\\\191225-5.jpg_18L.bmp',\n",
       "   'D:\\\\Users\\\\Chuan\\\\Documents\\\\Database\\\\Karyotypes\\\\Arrangement_Merged\\\\chr_18\\\\191225-6.jpg_18L.bmp',\n",
       "   'D:\\\\Users\\\\Chuan\\\\Documents\\\\Database\\\\Karyotypes\\\\Arrangement_Merged\\\\chr_18\\\\191225-8.jpg_18L.bmp',\n",
       "   'D:\\\\Users\\\\Chuan\\\\Documents\\\\Database\\\\Karyotypes\\\\Arrangement_Merged\\\\chr_18\\\\194161-del(18)(p11)-10L.bmp',\n",
       "   'D:\\\\Users\\\\Chuan\\\\Documents\\\\Database\\\\Karyotypes\\\\Arrangement_Merged\\\\chr_18\\\\194161-del(18)(p11)-11L.bmp',\n",
       "   'D:\\\\Users\\\\Chuan\\\\Documents\\\\Database\\\\Karyotypes\\\\Arrangement_Merged\\\\chr_18\\\\194161-del(18)(p11)-12L.bmp',\n",
       "   'D:\\\\Users\\\\Chuan\\\\Documents\\\\Database\\\\Karyotypes\\\\Arrangement_Merged\\\\chr_18\\\\194161-del(18)(p11)-13L.bmp',\n",
       "   'D:\\\\Users\\\\Chuan\\\\Documents\\\\Database\\\\Karyotypes\\\\Arrangement_Merged\\\\chr_18\\\\194161-del(18)(p11)-14L.bmp',\n",
       "   'D:\\\\Users\\\\Chuan\\\\Documents\\\\Database\\\\Karyotypes\\\\Arrangement_Merged\\\\chr_18\\\\194161-del(18)(p11)-15L.bmp',\n",
       "   'D:\\\\Users\\\\Chuan\\\\Documents\\\\Database\\\\Karyotypes\\\\Arrangement_Merged\\\\chr_18\\\\194161-del(18)(p11)-16L.bmp',\n",
       "   'D:\\\\Users\\\\Chuan\\\\Documents\\\\Database\\\\Karyotypes\\\\Arrangement_Merged\\\\chr_18\\\\194161-del(18)(p11)-17L.bmp',\n",
       "   'D:\\\\Users\\\\Chuan\\\\Documents\\\\Database\\\\Karyotypes\\\\Arrangement_Merged\\\\chr_18\\\\194161-del(18)(p11)-18L.bmp',\n",
       "   'D:\\\\Users\\\\Chuan\\\\Documents\\\\Database\\\\Karyotypes\\\\Arrangement_Merged\\\\chr_18\\\\194161-del(18)(p11)-1L.bmp',\n",
       "   'D:\\\\Users\\\\Chuan\\\\Documents\\\\Database\\\\Karyotypes\\\\Arrangement_Merged\\\\chr_18\\\\194161-del(18)(p11)-20L.bmp',\n",
       "   'D:\\\\Users\\\\Chuan\\\\Documents\\\\Database\\\\Karyotypes\\\\Arrangement_Merged\\\\chr_18\\\\194161-del(18)(p11)-21L.bmp',\n",
       "   'D:\\\\Users\\\\Chuan\\\\Documents\\\\Database\\\\Karyotypes\\\\Arrangement_Merged\\\\chr_18\\\\194161-del(18)(p11)-22L.bmp',\n",
       "   'D:\\\\Users\\\\Chuan\\\\Documents\\\\Database\\\\Karyotypes\\\\Arrangement_Merged\\\\chr_18\\\\194161-del(18)(p11)-24L.bmp',\n",
       "   'D:\\\\Users\\\\Chuan\\\\Documents\\\\Database\\\\Karyotypes\\\\Arrangement_Merged\\\\chr_18\\\\194161-del(18)(p11)-25L.bmp',\n",
       "   'D:\\\\Users\\\\Chuan\\\\Documents\\\\Database\\\\Karyotypes\\\\Arrangement_Merged\\\\chr_18\\\\194161-del(18)(p11)-26L.bmp',\n",
       "   'D:\\\\Users\\\\Chuan\\\\Documents\\\\Database\\\\Karyotypes\\\\Arrangement_Merged\\\\chr_18\\\\194161-del(18)(p11)-28L.bmp',\n",
       "   'D:\\\\Users\\\\Chuan\\\\Documents\\\\Database\\\\Karyotypes\\\\Arrangement_Merged\\\\chr_18\\\\194161-del(18)(p11)-29L.bmp',\n",
       "   'D:\\\\Users\\\\Chuan\\\\Documents\\\\Database\\\\Karyotypes\\\\Arrangement_Merged\\\\chr_18\\\\194161-del(18)(p11)-2L.bmp',\n",
       "   'D:\\\\Users\\\\Chuan\\\\Documents\\\\Database\\\\Karyotypes\\\\Arrangement_Merged\\\\chr_18\\\\194161-del(18)(p11)-30L.bmp',\n",
       "   'D:\\\\Users\\\\Chuan\\\\Documents\\\\Database\\\\Karyotypes\\\\Arrangement_Merged\\\\chr_18\\\\194161-del(18)(p11)-3L.bmp',\n",
       "   'D:\\\\Users\\\\Chuan\\\\Documents\\\\Database\\\\Karyotypes\\\\Arrangement_Merged\\\\chr_18\\\\194161-del(18)(p11)-4L.bmp',\n",
       "   'D:\\\\Users\\\\Chuan\\\\Documents\\\\Database\\\\Karyotypes\\\\Arrangement_Merged\\\\chr_18\\\\194161-del(18)(p11)-5L.bmp',\n",
       "   'D:\\\\Users\\\\Chuan\\\\Documents\\\\Database\\\\Karyotypes\\\\Arrangement_Merged\\\\chr_18\\\\194161-del(18)(p11)-7L.bmp',\n",
       "   'D:\\\\Users\\\\Chuan\\\\Documents\\\\Database\\\\Karyotypes\\\\Arrangement_Merged\\\\chr_18\\\\194161-del(18)(p11)-8L.bmp',\n",
       "   'D:\\\\Users\\\\Chuan\\\\Documents\\\\Database\\\\Karyotypes\\\\Arrangement_Merged\\\\chr_18\\\\w21000~A.0001.K.jpg.18R.bmp',\n",
       "   'D:\\\\Users\\\\Chuan\\\\Documents\\\\Database\\\\Karyotypes\\\\Arrangement_Merged\\\\chr_18\\\\w21001~A.0008.K.jpg.18L.bmp',\n",
       "   'D:\\\\Users\\\\Chuan\\\\Documents\\\\Database\\\\Karyotypes\\\\Arrangement_Merged\\\\chr_18\\\\w21001~A.0008.K.jpg.18R.bmp',\n",
       "   'D:\\\\Users\\\\Chuan\\\\Documents\\\\Database\\\\Karyotypes\\\\Arrangement_Merged\\\\chr_18\\\\w21002~A.0024.K.jpg.18R.bmp',\n",
       "   'D:\\\\Users\\\\Chuan\\\\Documents\\\\Database\\\\Karyotypes\\\\Arrangement_Merged\\\\chr_18\\\\w21008~A.0008.K.jpg.18L.bmp',\n",
       "   'D:\\\\Users\\\\Chuan\\\\Documents\\\\Database\\\\Karyotypes\\\\Arrangement_Merged\\\\chr_18\\\\w21008~A.0008.K.jpg.18R.bmp',\n",
       "   'D:\\\\Users\\\\Chuan\\\\Documents\\\\Database\\\\Karyotypes\\\\Arrangement_Merged\\\\chr_18\\\\W21011~A.0008.K.18L.bmp',\n",
       "   'D:\\\\Users\\\\Chuan\\\\Documents\\\\Database\\\\Karyotypes\\\\Arrangement_Merged\\\\chr_18\\\\W21011~A.0008.K.18R.bmp',\n",
       "   'D:\\\\Users\\\\Chuan\\\\Documents\\\\Database\\\\Karyotypes\\\\Arrangement_Merged\\\\chr_18\\\\W21012~A.0019.K.18L.bmp',\n",
       "   'D:\\\\Users\\\\Chuan\\\\Documents\\\\Database\\\\Karyotypes\\\\Arrangement_Merged\\\\chr_18\\\\W21012~A.0019.K.18R.bmp',\n",
       "   'D:\\\\Users\\\\Chuan\\\\Documents\\\\Database\\\\Karyotypes\\\\Arrangement_Merged\\\\chr_18\\\\W21014~A.0005.K.18L.bmp',\n",
       "   'D:\\\\Users\\\\Chuan\\\\Documents\\\\Database\\\\Karyotypes\\\\Arrangement_Merged\\\\chr_18\\\\W21022~A.0007.K.jpg.18L.bmp',\n",
       "   'D:\\\\Users\\\\Chuan\\\\Documents\\\\Database\\\\Karyotypes\\\\Arrangement_Merged\\\\chr_18\\\\W21022~A.0007.K.jpg.18R.bmp',\n",
       "   'D:\\\\Users\\\\Chuan\\\\Documents\\\\Database\\\\Karyotypes\\\\Arrangement_Merged\\\\chr_18\\\\W21025~A.0002.K.jpg.18L.bmp',\n",
       "   'D:\\\\Users\\\\Chuan\\\\Documents\\\\Database\\\\Karyotypes\\\\Arrangement_Merged\\\\chr_18\\\\W21025~A.0002.K.jpg.18R.bmp',\n",
       "   'D:\\\\Users\\\\Chuan\\\\Documents\\\\Database\\\\Karyotypes\\\\Arrangement_Merged\\\\chr_18\\\\W21027~A.0003.K.18R.bmp',\n",
       "   'D:\\\\Users\\\\Chuan\\\\Documents\\\\Database\\\\Karyotypes\\\\Arrangement_Merged\\\\chr_18\\\\W21563~A.0006.K.18L.bmp',\n",
       "   'D:\\\\Users\\\\Chuan\\\\Documents\\\\Database\\\\Karyotypes\\\\Arrangement_Merged\\\\chr_18\\\\W21563~A.0006.K.18R.bmp',\n",
       "   'D:\\\\Users\\\\Chuan\\\\Documents\\\\Database\\\\Karyotypes\\\\Arrangement_Merged\\\\chr_18\\\\W21570~A.0001.K.jpg.18L.bmp',\n",
       "   'D:\\\\Users\\\\Chuan\\\\Documents\\\\Database\\\\Karyotypes\\\\Arrangement_Merged\\\\chr_18\\\\W21570~A.0001.K.jpg.18R.bmp',\n",
       "   'D:\\\\Users\\\\Chuan\\\\Documents\\\\Database\\\\Karyotypes\\\\Arrangement_Merged\\\\chr_18\\\\W21576~A.0010.K.jpg.18L.bmp',\n",
       "   'D:\\\\Users\\\\Chuan\\\\Documents\\\\Database\\\\Karyotypes\\\\Arrangement_Merged\\\\chr_18\\\\W21576~A.0010.K.jpg.18R.bmp',\n",
       "   'D:\\\\Users\\\\Chuan\\\\Documents\\\\Database\\\\Karyotypes\\\\Arrangement_Merged\\\\chr_18\\\\W21587~A.0008.K.jpg.18L.bmp',\n",
       "   'D:\\\\Users\\\\Chuan\\\\Documents\\\\Database\\\\Karyotypes\\\\Arrangement_Merged\\\\chr_18\\\\W21587~A.0008.K.jpg.18R.bmp',\n",
       "   'D:\\\\Users\\\\Chuan\\\\Documents\\\\Database\\\\Karyotypes\\\\Arrangement_Merged\\\\chr_18\\\\W21587~A.0010.K.jpg.18R.bmp',\n",
       "   'D:\\\\Users\\\\Chuan\\\\Documents\\\\Database\\\\Karyotypes\\\\Arrangement_Merged\\\\chr_18\\\\W21588~A.0001.K.jpg.18L.bmp',\n",
       "   'D:\\\\Users\\\\Chuan\\\\Documents\\\\Database\\\\Karyotypes\\\\Arrangement_Merged\\\\chr_18\\\\W21588~A.0001.K.jpg.18R.bmp',\n",
       "   'D:\\\\Users\\\\Chuan\\\\Documents\\\\Database\\\\Karyotypes\\\\Arrangement_Merged\\\\chr_18\\\\W21766~A.0025.K.jpg.18L.bmp',\n",
       "   'D:\\\\Users\\\\Chuan\\\\Documents\\\\Database\\\\Karyotypes\\\\Arrangement_Merged\\\\chr_18\\\\W21766~A.0025.K.jpg.18R.bmp',\n",
       "   'D:\\\\Users\\\\Chuan\\\\Documents\\\\Database\\\\Karyotypes\\\\Arrangement_Merged\\\\chr_18\\\\W21890~A.0005.K.jpg.18L.bmp',\n",
       "   'D:\\\\Users\\\\Chuan\\\\Documents\\\\Database\\\\Karyotypes\\\\Arrangement_Merged\\\\chr_18\\\\W21890~A.0005.K.jpg.18R.bmp',\n",
       "   'D:\\\\Users\\\\Chuan\\\\Documents\\\\Database\\\\Karyotypes\\\\Arrangement_Merged\\\\chr_18\\\\W21894~A.0009.K.jpg.18L.bmp',\n",
       "   'D:\\\\Users\\\\Chuan\\\\Documents\\\\Database\\\\Karyotypes\\\\Arrangement_Merged\\\\chr_18\\\\W21894~A.0009.K.jpg.18R.bmp',\n",
       "   'D:\\\\Users\\\\Chuan\\\\Documents\\\\Database\\\\Karyotypes\\\\Arrangement_Merged\\\\chr_18\\\\W21902~A.0010.K.jpg.18L.bmp',\n",
       "   'D:\\\\Users\\\\Chuan\\\\Documents\\\\Database\\\\Karyotypes\\\\Arrangement_Merged\\\\chr_18\\\\W21902~A.0010.K.jpg.18R.bmp',\n",
       "   'D:\\\\Users\\\\Chuan\\\\Documents\\\\Database\\\\Karyotypes\\\\Arrangement_Merged\\\\chr_18\\\\W21905~A.0007.K.jpg.18L.bmp',\n",
       "   'D:\\\\Users\\\\Chuan\\\\Documents\\\\Database\\\\Karyotypes\\\\Arrangement_Merged\\\\chr_18\\\\W21906~A.0011.K.jpg.18R.bmp',\n",
       "   'D:\\\\Users\\\\Chuan\\\\Documents\\\\Database\\\\Karyotypes\\\\Arrangement_Merged\\\\chr_18\\\\w22038~A.0017.K.jpg.18L.bmp',\n",
       "   'D:\\\\Users\\\\Chuan\\\\Documents\\\\Database\\\\Karyotypes\\\\Arrangement_Merged\\\\chr_18\\\\w22038~A.0017.K.jpg.18R.bmp',\n",
       "   'D:\\\\Users\\\\Chuan\\\\Documents\\\\Database\\\\Karyotypes\\\\Arrangement_Merged\\\\chr_18\\\\W22451~A.0011.K.jpg.18L.bmp',\n",
       "   'D:\\\\Users\\\\Chuan\\\\Documents\\\\Database\\\\Karyotypes\\\\Arrangement_Merged\\\\chr_18\\\\W22451~A.0011.K.jpg.18R.bmp',\n",
       "   'D:\\\\Users\\\\Chuan\\\\Documents\\\\Database\\\\Karyotypes\\\\Arrangement_Merged\\\\chr_18\\\\W22455~A.0002.K.jpg.18L.bmp',\n",
       "   'D:\\\\Users\\\\Chuan\\\\Documents\\\\Database\\\\Karyotypes\\\\Arrangement_Merged\\\\chr_18\\\\W22666-1.0002.K.jpg.18L.bmp',\n",
       "   'D:\\\\Users\\\\Chuan\\\\Documents\\\\Database\\\\Karyotypes\\\\Arrangement_Merged\\\\chr_18\\\\W22666-1.0002.K.jpg.18R.bmp',\n",
       "   'D:\\\\Users\\\\Chuan\\\\Documents\\\\Database\\\\Karyotypes\\\\Arrangement_Merged\\\\chr_18\\\\W22670~A.0006.K.jpg.18L.bmp',\n",
       "   'D:\\\\Users\\\\Chuan\\\\Documents\\\\Database\\\\Karyotypes\\\\Arrangement_Merged\\\\chr_18\\\\W22672~A.0004.K.jpg.18L.bmp',\n",
       "   'D:\\\\Users\\\\Chuan\\\\Documents\\\\Database\\\\Karyotypes\\\\Arrangement_Merged\\\\chr_18\\\\W22672~A.0004.K.jpg.18R.bmp',\n",
       "   'D:\\\\Users\\\\Chuan\\\\Documents\\\\Database\\\\Karyotypes\\\\Arrangement_Merged\\\\chr_18\\\\w22881~A.0017.K.jpg.18L.bmp',\n",
       "   'D:\\\\Users\\\\Chuan\\\\Documents\\\\Database\\\\Karyotypes\\\\Arrangement_Merged\\\\chr_18\\\\w22881~A.0017.K.jpg.18R.bmp',\n",
       "   'D:\\\\Users\\\\Chuan\\\\Documents\\\\Database\\\\Karyotypes\\\\Arrangement_Merged\\\\chr_18\\\\W23070~A.0001.K.jpg.18L.bmp',\n",
       "   'D:\\\\Users\\\\Chuan\\\\Documents\\\\Database\\\\Karyotypes\\\\Arrangement_Merged\\\\chr_18\\\\W23070~A.0001.K.jpg.18R.bmp',\n",
       "   'D:\\\\Users\\\\Chuan\\\\Documents\\\\Database\\\\Karyotypes\\\\Arrangement_Merged\\\\chr_18\\\\W23075-1~A.0017.K.jpg.18R.bmp',\n",
       "   'D:\\\\Users\\\\Chuan\\\\Documents\\\\Database\\\\Karyotypes\\\\Arrangement_Merged\\\\chr_18\\\\W23082.0026.K.jpg.18L.bmp',\n",
       "   'D:\\\\Users\\\\Chuan\\\\Documents\\\\Database\\\\Karyotypes\\\\Arrangement_Merged\\\\chr_18\\\\W23082.0026.K.jpg.18R.bmp',\n",
       "   'D:\\\\Users\\\\Chuan\\\\Documents\\\\Database\\\\Karyotypes\\\\Arrangement_Merged\\\\chr_18\\\\W23084~A.0003.K.jp.18L.bmp',\n",
       "   'D:\\\\Users\\\\Chuan\\\\Documents\\\\Database\\\\Karyotypes\\\\Arrangement_Merged\\\\chr_18\\\\W23084~A.0003.K.jp.18R.bmp'],\n",
       "  '1': ['D:\\\\Users\\\\Chuan\\\\Documents\\\\Database\\\\Karyotypes\\\\Arrangement_Merged\\\\chr_18\\\\181228-i(18)(q10)+18-10L.bmp',\n",
       "   'D:\\\\Users\\\\Chuan\\\\Documents\\\\Database\\\\Karyotypes\\\\Arrangement_Merged\\\\chr_18\\\\181228-i(18)(q10)+18-11L.bmp',\n",
       "   'D:\\\\Users\\\\Chuan\\\\Documents\\\\Database\\\\Karyotypes\\\\Arrangement_Merged\\\\chr_18\\\\181228-i(18)(q10)+18-12L.bmp',\n",
       "   'D:\\\\Users\\\\Chuan\\\\Documents\\\\Database\\\\Karyotypes\\\\Arrangement_Merged\\\\chr_18\\\\181228-i(18)(q10)+18-13L.bmp',\n",
       "   'D:\\\\Users\\\\Chuan\\\\Documents\\\\Database\\\\Karyotypes\\\\Arrangement_Merged\\\\chr_18\\\\181228-i(18)(q10)+18-14L.bmp',\n",
       "   'D:\\\\Users\\\\Chuan\\\\Documents\\\\Database\\\\Karyotypes\\\\Arrangement_Merged\\\\chr_18\\\\181228-i(18)(q10)+18-1L.bmp',\n",
       "   'D:\\\\Users\\\\Chuan\\\\Documents\\\\Database\\\\Karyotypes\\\\Arrangement_Merged\\\\chr_18\\\\181228-i(18)(q10)+18-2L.bmp',\n",
       "   'D:\\\\Users\\\\Chuan\\\\Documents\\\\Database\\\\Karyotypes\\\\Arrangement_Merged\\\\chr_18\\\\181228-i(18)(q10)+18-3L.bmp',\n",
       "   'D:\\\\Users\\\\Chuan\\\\Documents\\\\Database\\\\Karyotypes\\\\Arrangement_Merged\\\\chr_18\\\\181228-i(18)(q10)+18-4L.bmp',\n",
       "   'D:\\\\Users\\\\Chuan\\\\Documents\\\\Database\\\\Karyotypes\\\\Arrangement_Merged\\\\chr_18\\\\181228-i(18)(q10)+18-5L.bmp',\n",
       "   'D:\\\\Users\\\\Chuan\\\\Documents\\\\Database\\\\Karyotypes\\\\Arrangement_Merged\\\\chr_18\\\\181228-i(18)(q10)+18-7L.bmp',\n",
       "   'D:\\\\Users\\\\Chuan\\\\Documents\\\\Database\\\\Karyotypes\\\\Arrangement_Merged\\\\chr_18\\\\181228-i(18)(q10)+18-8L.bmp',\n",
       "   'D:\\\\Users\\\\Chuan\\\\Documents\\\\Database\\\\Karyotypes\\\\Arrangement_Merged\\\\chr_18\\\\183873-del(18)(p11)-11L.bmp',\n",
       "   'D:\\\\Users\\\\Chuan\\\\Documents\\\\Database\\\\Karyotypes\\\\Arrangement_Merged\\\\chr_18\\\\183873-del(18)(p11)-12L.bmp',\n",
       "   'D:\\\\Users\\\\Chuan\\\\Documents\\\\Database\\\\Karyotypes\\\\Arrangement_Merged\\\\chr_18\\\\183873-del(18)(p11)-13L.bmp',\n",
       "   'D:\\\\Users\\\\Chuan\\\\Documents\\\\Database\\\\Karyotypes\\\\Arrangement_Merged\\\\chr_18\\\\183873-del(18)(p11)-16L.bmp',\n",
       "   'D:\\\\Users\\\\Chuan\\\\Documents\\\\Database\\\\Karyotypes\\\\Arrangement_Merged\\\\chr_18\\\\183873-del(18)(p11)-17L.bmp',\n",
       "   'D:\\\\Users\\\\Chuan\\\\Documents\\\\Database\\\\Karyotypes\\\\Arrangement_Merged\\\\chr_18\\\\183873-del(18)(p11)-18L.bmp',\n",
       "   'D:\\\\Users\\\\Chuan\\\\Documents\\\\Database\\\\Karyotypes\\\\Arrangement_Merged\\\\chr_18\\\\183873-del(18)(p11)-19L.bmp',\n",
       "   'D:\\\\Users\\\\Chuan\\\\Documents\\\\Database\\\\Karyotypes\\\\Arrangement_Merged\\\\chr_18\\\\183873-del(18)(p11)-1L.bmp',\n",
       "   'D:\\\\Users\\\\Chuan\\\\Documents\\\\Database\\\\Karyotypes\\\\Arrangement_Merged\\\\chr_18\\\\183873-del(18)(p11)-20L.bmp',\n",
       "   'D:\\\\Users\\\\Chuan\\\\Documents\\\\Database\\\\Karyotypes\\\\Arrangement_Merged\\\\chr_18\\\\183873-del(18)(p11)-21L.bmp',\n",
       "   'D:\\\\Users\\\\Chuan\\\\Documents\\\\Database\\\\Karyotypes\\\\Arrangement_Merged\\\\chr_18\\\\183873-del(18)(p11)-22L.bmp',\n",
       "   'D:\\\\Users\\\\Chuan\\\\Documents\\\\Database\\\\Karyotypes\\\\Arrangement_Merged\\\\chr_18\\\\183873-del(18)(p11)-23L.bmp',\n",
       "   'D:\\\\Users\\\\Chuan\\\\Documents\\\\Database\\\\Karyotypes\\\\Arrangement_Merged\\\\chr_18\\\\183873-del(18)(p11)-25L.bmp',\n",
       "   'D:\\\\Users\\\\Chuan\\\\Documents\\\\Database\\\\Karyotypes\\\\Arrangement_Merged\\\\chr_18\\\\183873-del(18)(p11)-2L.bmp',\n",
       "   'D:\\\\Users\\\\Chuan\\\\Documents\\\\Database\\\\Karyotypes\\\\Arrangement_Merged\\\\chr_18\\\\183873-del(18)(p11)-3L.bmp',\n",
       "   'D:\\\\Users\\\\Chuan\\\\Documents\\\\Database\\\\Karyotypes\\\\Arrangement_Merged\\\\chr_18\\\\183873-del(18)(p11)-4L.bmp',\n",
       "   'D:\\\\Users\\\\Chuan\\\\Documents\\\\Database\\\\Karyotypes\\\\Arrangement_Merged\\\\chr_18\\\\183873-del(18)(p11)-6L.bmp',\n",
       "   'D:\\\\Users\\\\Chuan\\\\Documents\\\\Database\\\\Karyotypes\\\\Arrangement_Merged\\\\chr_18\\\\183873-del(18)(p11)-7L.bmp',\n",
       "   'D:\\\\Users\\\\Chuan\\\\Documents\\\\Database\\\\Karyotypes\\\\Arrangement_Merged\\\\chr_18\\\\183873-del(18)(p11)-9L.bmp',\n",
       "   'D:\\\\Users\\\\Chuan\\\\Documents\\\\Database\\\\Karyotypes\\\\Arrangement_Merged\\\\chr_18\\\\190325-1.jpg_18L.bmp',\n",
       "   'D:\\\\Users\\\\Chuan\\\\Documents\\\\Database\\\\Karyotypes\\\\Arrangement_Merged\\\\chr_18\\\\190325-11.jpg_18L.bmp',\n",
       "   'D:\\\\Users\\\\Chuan\\\\Documents\\\\Database\\\\Karyotypes\\\\Arrangement_Merged\\\\chr_18\\\\190325-12.jpg_18L.bmp',\n",
       "   'D:\\\\Users\\\\Chuan\\\\Documents\\\\Database\\\\Karyotypes\\\\Arrangement_Merged\\\\chr_18\\\\190325-13.jpg_18L.bmp',\n",
       "   'D:\\\\Users\\\\Chuan\\\\Documents\\\\Database\\\\Karyotypes\\\\Arrangement_Merged\\\\chr_18\\\\190325-14.jpg_18L.bmp',\n",
       "   'D:\\\\Users\\\\Chuan\\\\Documents\\\\Database\\\\Karyotypes\\\\Arrangement_Merged\\\\chr_18\\\\190325-17.jpg_18L.bmp',\n",
       "   'D:\\\\Users\\\\Chuan\\\\Documents\\\\Database\\\\Karyotypes\\\\Arrangement_Merged\\\\chr_18\\\\190325-18.jpg_18L.bmp',\n",
       "   'D:\\\\Users\\\\Chuan\\\\Documents\\\\Database\\\\Karyotypes\\\\Arrangement_Merged\\\\chr_18\\\\190325-2.jpg_18L.bmp',\n",
       "   'D:\\\\Users\\\\Chuan\\\\Documents\\\\Database\\\\Karyotypes\\\\Arrangement_Merged\\\\chr_18\\\\190325-20.jpg.18L.bmp',\n",
       "   'D:\\\\Users\\\\Chuan\\\\Documents\\\\Database\\\\Karyotypes\\\\Arrangement_Merged\\\\chr_18\\\\190325-3.jpg_18L.bmp',\n",
       "   'D:\\\\Users\\\\Chuan\\\\Documents\\\\Database\\\\Karyotypes\\\\Arrangement_Merged\\\\chr_18\\\\190325-4.jpg_18L.bmp',\n",
       "   'D:\\\\Users\\\\Chuan\\\\Documents\\\\Database\\\\Karyotypes\\\\Arrangement_Merged\\\\chr_18\\\\190325-5.jpg_18L.bmp',\n",
       "   'D:\\\\Users\\\\Chuan\\\\Documents\\\\Database\\\\Karyotypes\\\\Arrangement_Merged\\\\chr_18\\\\190325-7.jpg_18L.bmp',\n",
       "   'D:\\\\Users\\\\Chuan\\\\Documents\\\\Database\\\\Karyotypes\\\\Arrangement_Merged\\\\chr_18\\\\190325-9.jpg_18L.bmp',\n",
       "   'D:\\\\Users\\\\Chuan\\\\Documents\\\\Database\\\\Karyotypes\\\\Arrangement_Merged\\\\chr_18\\\\191225-11.jpg_18L.bmp',\n",
       "   'D:\\\\Users\\\\Chuan\\\\Documents\\\\Database\\\\Karyotypes\\\\Arrangement_Merged\\\\chr_18\\\\191225-13.jpg_18L.bmp',\n",
       "   'D:\\\\Users\\\\Chuan\\\\Documents\\\\Database\\\\Karyotypes\\\\Arrangement_Merged\\\\chr_18\\\\191225-14.jpg_18L.bmp',\n",
       "   'D:\\\\Users\\\\Chuan\\\\Documents\\\\Database\\\\Karyotypes\\\\Arrangement_Merged\\\\chr_18\\\\191225-15.jpg_18L.bmp',\n",
       "   'D:\\\\Users\\\\Chuan\\\\Documents\\\\Database\\\\Karyotypes\\\\Arrangement_Merged\\\\chr_18\\\\191225-16.jpg_18L.bmp',\n",
       "   'D:\\\\Users\\\\Chuan\\\\Documents\\\\Database\\\\Karyotypes\\\\Arrangement_Merged\\\\chr_18\\\\191225-17.jpg_18L.bmp',\n",
       "   'D:\\\\Users\\\\Chuan\\\\Documents\\\\Database\\\\Karyotypes\\\\Arrangement_Merged\\\\chr_18\\\\191225-19.jpg_18L.bmp',\n",
       "   'D:\\\\Users\\\\Chuan\\\\Documents\\\\Database\\\\Karyotypes\\\\Arrangement_Merged\\\\chr_18\\\\191225-2.jpg_18L.bmp',\n",
       "   'D:\\\\Users\\\\Chuan\\\\Documents\\\\Database\\\\Karyotypes\\\\Arrangement_Merged\\\\chr_18\\\\191225-20.jpg_18L.bmp',\n",
       "   'D:\\\\Users\\\\Chuan\\\\Documents\\\\Database\\\\Karyotypes\\\\Arrangement_Merged\\\\chr_18\\\\191225-21.jpg_18L.bmp',\n",
       "   'D:\\\\Users\\\\Chuan\\\\Documents\\\\Database\\\\Karyotypes\\\\Arrangement_Merged\\\\chr_18\\\\191225-5.jpg_18L.bmp',\n",
       "   'D:\\\\Users\\\\Chuan\\\\Documents\\\\Database\\\\Karyotypes\\\\Arrangement_Merged\\\\chr_18\\\\191225-6.jpg_18L.bmp',\n",
       "   'D:\\\\Users\\\\Chuan\\\\Documents\\\\Database\\\\Karyotypes\\\\Arrangement_Merged\\\\chr_18\\\\191225-7.jpg_18L.bmp',\n",
       "   'D:\\\\Users\\\\Chuan\\\\Documents\\\\Database\\\\Karyotypes\\\\Arrangement_Merged\\\\chr_18\\\\191225-8.jpg_18L.bmp',\n",
       "   'D:\\\\Users\\\\Chuan\\\\Documents\\\\Database\\\\Karyotypes\\\\Arrangement_Merged\\\\chr_18\\\\191225-9.jpg_18L.bmp',\n",
       "   'D:\\\\Users\\\\Chuan\\\\Documents\\\\Database\\\\Karyotypes\\\\Arrangement_Merged\\\\chr_18\\\\194161-del(18)(p11)-10L.bmp',\n",
       "   'D:\\\\Users\\\\Chuan\\\\Documents\\\\Database\\\\Karyotypes\\\\Arrangement_Merged\\\\chr_18\\\\194161-del(18)(p11)-11L.bmp',\n",
       "   'D:\\\\Users\\\\Chuan\\\\Documents\\\\Database\\\\Karyotypes\\\\Arrangement_Merged\\\\chr_18\\\\194161-del(18)(p11)-13L.bmp',\n",
       "   'D:\\\\Users\\\\Chuan\\\\Documents\\\\Database\\\\Karyotypes\\\\Arrangement_Merged\\\\chr_18\\\\194161-del(18)(p11)-14L.bmp',\n",
       "   'D:\\\\Users\\\\Chuan\\\\Documents\\\\Database\\\\Karyotypes\\\\Arrangement_Merged\\\\chr_18\\\\194161-del(18)(p11)-16L.bmp',\n",
       "   'D:\\\\Users\\\\Chuan\\\\Documents\\\\Database\\\\Karyotypes\\\\Arrangement_Merged\\\\chr_18\\\\194161-del(18)(p11)-17L.bmp',\n",
       "   'D:\\\\Users\\\\Chuan\\\\Documents\\\\Database\\\\Karyotypes\\\\Arrangement_Merged\\\\chr_18\\\\194161-del(18)(p11)-18L.bmp',\n",
       "   'D:\\\\Users\\\\Chuan\\\\Documents\\\\Database\\\\Karyotypes\\\\Arrangement_Merged\\\\chr_18\\\\194161-del(18)(p11)-19L.bmp',\n",
       "   'D:\\\\Users\\\\Chuan\\\\Documents\\\\Database\\\\Karyotypes\\\\Arrangement_Merged\\\\chr_18\\\\194161-del(18)(p11)-1L.bmp',\n",
       "   'D:\\\\Users\\\\Chuan\\\\Documents\\\\Database\\\\Karyotypes\\\\Arrangement_Merged\\\\chr_18\\\\194161-del(18)(p11)-20L.bmp',\n",
       "   'D:\\\\Users\\\\Chuan\\\\Documents\\\\Database\\\\Karyotypes\\\\Arrangement_Merged\\\\chr_18\\\\194161-del(18)(p11)-23L.bmp',\n",
       "   'D:\\\\Users\\\\Chuan\\\\Documents\\\\Database\\\\Karyotypes\\\\Arrangement_Merged\\\\chr_18\\\\194161-del(18)(p11)-25L.bmp',\n",
       "   'D:\\\\Users\\\\Chuan\\\\Documents\\\\Database\\\\Karyotypes\\\\Arrangement_Merged\\\\chr_18\\\\194161-del(18)(p11)-27L.bmp',\n",
       "   'D:\\\\Users\\\\Chuan\\\\Documents\\\\Database\\\\Karyotypes\\\\Arrangement_Merged\\\\chr_18\\\\194161-del(18)(p11)-29L.bmp',\n",
       "   'D:\\\\Users\\\\Chuan\\\\Documents\\\\Database\\\\Karyotypes\\\\Arrangement_Merged\\\\chr_18\\\\194161-del(18)(p11)-2L.bmp',\n",
       "   'D:\\\\Users\\\\Chuan\\\\Documents\\\\Database\\\\Karyotypes\\\\Arrangement_Merged\\\\chr_18\\\\194161-del(18)(p11)-30L.bmp',\n",
       "   'D:\\\\Users\\\\Chuan\\\\Documents\\\\Database\\\\Karyotypes\\\\Arrangement_Merged\\\\chr_18\\\\194161-del(18)(p11)-4L.bmp',\n",
       "   'D:\\\\Users\\\\Chuan\\\\Documents\\\\Database\\\\Karyotypes\\\\Arrangement_Merged\\\\chr_18\\\\194161-del(18)(p11)-5L.bmp',\n",
       "   'D:\\\\Users\\\\Chuan\\\\Documents\\\\Database\\\\Karyotypes\\\\Arrangement_Merged\\\\chr_18\\\\194161-del(18)(p11)-6L.bmp',\n",
       "   'D:\\\\Users\\\\Chuan\\\\Documents\\\\Database\\\\Karyotypes\\\\Arrangement_Merged\\\\chr_18\\\\194161-del(18)(p11)-7L.bmp',\n",
       "   'D:\\\\Users\\\\Chuan\\\\Documents\\\\Database\\\\Karyotypes\\\\Arrangement_Merged\\\\chr_18\\\\194161-del(18)(p11)-8L.bmp',\n",
       "   'D:\\\\Users\\\\Chuan\\\\Documents\\\\Database\\\\Karyotypes\\\\Arrangement_Merged\\\\chr_18\\\\194161-del(18)(p11)-9L.bmp',\n",
       "   'D:\\\\Users\\\\Chuan\\\\Documents\\\\Database\\\\Karyotypes\\\\Arrangement_Merged\\\\chr_18\\\\w21000~A.0001.K.jpg.18L.bmp',\n",
       "   'D:\\\\Users\\\\Chuan\\\\Documents\\\\Database\\\\Karyotypes\\\\Arrangement_Merged\\\\chr_18\\\\w21000~A.0001.K.jpg.18R.bmp',\n",
       "   'D:\\\\Users\\\\Chuan\\\\Documents\\\\Database\\\\Karyotypes\\\\Arrangement_Merged\\\\chr_18\\\\w21001~A.0008.K.jpg.18L.bmp',\n",
       "   'D:\\\\Users\\\\Chuan\\\\Documents\\\\Database\\\\Karyotypes\\\\Arrangement_Merged\\\\chr_18\\\\w21001~A.0008.K.jpg.18R.bmp',\n",
       "   'D:\\\\Users\\\\Chuan\\\\Documents\\\\Database\\\\Karyotypes\\\\Arrangement_Merged\\\\chr_18\\\\w21002~A.0024.K.jpg.18L.bmp',\n",
       "   'D:\\\\Users\\\\Chuan\\\\Documents\\\\Database\\\\Karyotypes\\\\Arrangement_Merged\\\\chr_18\\\\w21002~A.0024.K.jpg.18R.bmp',\n",
       "   'D:\\\\Users\\\\Chuan\\\\Documents\\\\Database\\\\Karyotypes\\\\Arrangement_Merged\\\\chr_18\\\\W21011~A.0008.K.18L.bmp',\n",
       "   'D:\\\\Users\\\\Chuan\\\\Documents\\\\Database\\\\Karyotypes\\\\Arrangement_Merged\\\\chr_18\\\\W21011~A.0008.K.18R.bmp',\n",
       "   'D:\\\\Users\\\\Chuan\\\\Documents\\\\Database\\\\Karyotypes\\\\Arrangement_Merged\\\\chr_18\\\\W21012~A.0019.K.18L.bmp',\n",
       "   'D:\\\\Users\\\\Chuan\\\\Documents\\\\Database\\\\Karyotypes\\\\Arrangement_Merged\\\\chr_18\\\\W21012~A.0019.K.18R.bmp',\n",
       "   'D:\\\\Users\\\\Chuan\\\\Documents\\\\Database\\\\Karyotypes\\\\Arrangement_Merged\\\\chr_18\\\\W21014~A.0005.K.18R.bmp',\n",
       "   'D:\\\\Users\\\\Chuan\\\\Documents\\\\Database\\\\Karyotypes\\\\Arrangement_Merged\\\\chr_18\\\\W21022~A.0007.K.jpg.18L.bmp',\n",
       "   'D:\\\\Users\\\\Chuan\\\\Documents\\\\Database\\\\Karyotypes\\\\Arrangement_Merged\\\\chr_18\\\\W21022~A.0007.K.jpg.18R.bmp',\n",
       "   'D:\\\\Users\\\\Chuan\\\\Documents\\\\Database\\\\Karyotypes\\\\Arrangement_Merged\\\\chr_18\\\\W21025~A.0002.K.jpg.18R.bmp',\n",
       "   'D:\\\\Users\\\\Chuan\\\\Documents\\\\Database\\\\Karyotypes\\\\Arrangement_Merged\\\\chr_18\\\\W21027~A.0003.K.18L.bmp',\n",
       "   'D:\\\\Users\\\\Chuan\\\\Documents\\\\Database\\\\Karyotypes\\\\Arrangement_Merged\\\\chr_18\\\\W21486~A.0020.K.bmp.18L.bmp',\n",
       "   'D:\\\\Users\\\\Chuan\\\\Documents\\\\Database\\\\Karyotypes\\\\Arrangement_Merged\\\\chr_18\\\\W21486~A.0020.K.bmp.18R.bmp',\n",
       "   'D:\\\\Users\\\\Chuan\\\\Documents\\\\Database\\\\Karyotypes\\\\Arrangement_Merged\\\\chr_18\\\\W21563~A.0006.K.18L.bmp',\n",
       "   'D:\\\\Users\\\\Chuan\\\\Documents\\\\Database\\\\Karyotypes\\\\Arrangement_Merged\\\\chr_18\\\\W21563~A.0006.K.18R.bmp',\n",
       "   'D:\\\\Users\\\\Chuan\\\\Documents\\\\Database\\\\Karyotypes\\\\Arrangement_Merged\\\\chr_18\\\\W21570~A.0001.K.jpg.18L.bmp',\n",
       "   'D:\\\\Users\\\\Chuan\\\\Documents\\\\Database\\\\Karyotypes\\\\Arrangement_Merged\\\\chr_18\\\\W21570~A.0001.K.jpg.18R.bmp',\n",
       "   'D:\\\\Users\\\\Chuan\\\\Documents\\\\Database\\\\Karyotypes\\\\Arrangement_Merged\\\\chr_18\\\\W21576~A.0010.K.jpg.18L.bmp',\n",
       "   'D:\\\\Users\\\\Chuan\\\\Documents\\\\Database\\\\Karyotypes\\\\Arrangement_Merged\\\\chr_18\\\\W21576~A.0010.K.jpg.18R.bmp',\n",
       "   'D:\\\\Users\\\\Chuan\\\\Documents\\\\Database\\\\Karyotypes\\\\Arrangement_Merged\\\\chr_18\\\\W21587~A.0008.K.jpg.18L.bmp',\n",
       "   'D:\\\\Users\\\\Chuan\\\\Documents\\\\Database\\\\Karyotypes\\\\Arrangement_Merged\\\\chr_18\\\\W21587~A.0008.K.jpg.18R.bmp',\n",
       "   'D:\\\\Users\\\\Chuan\\\\Documents\\\\Database\\\\Karyotypes\\\\Arrangement_Merged\\\\chr_18\\\\W21587~A.0010.K.jpg.18L.bmp',\n",
       "   'D:\\\\Users\\\\Chuan\\\\Documents\\\\Database\\\\Karyotypes\\\\Arrangement_Merged\\\\chr_18\\\\W21587~A.0010.K.jpg.18R.bmp',\n",
       "   'D:\\\\Users\\\\Chuan\\\\Documents\\\\Database\\\\Karyotypes\\\\Arrangement_Merged\\\\chr_18\\\\W21588~A.0001.K.jpg.18L.bmp',\n",
       "   'D:\\\\Users\\\\Chuan\\\\Documents\\\\Database\\\\Karyotypes\\\\Arrangement_Merged\\\\chr_18\\\\W21588~A.0001.K.jpg.18R.bmp',\n",
       "   'D:\\\\Users\\\\Chuan\\\\Documents\\\\Database\\\\Karyotypes\\\\Arrangement_Merged\\\\chr_18\\\\W21766~A.0025.K.jpg.18L.bmp',\n",
       "   'D:\\\\Users\\\\Chuan\\\\Documents\\\\Database\\\\Karyotypes\\\\Arrangement_Merged\\\\chr_18\\\\W21766~A.0025.K.jpg.18R.bmp',\n",
       "   'D:\\\\Users\\\\Chuan\\\\Documents\\\\Database\\\\Karyotypes\\\\Arrangement_Merged\\\\chr_18\\\\W21890~A.0005.K.jpg.18L.bmp',\n",
       "   'D:\\\\Users\\\\Chuan\\\\Documents\\\\Database\\\\Karyotypes\\\\Arrangement_Merged\\\\chr_18\\\\W21890~A.0005.K.jpg.18R.bmp',\n",
       "   'D:\\\\Users\\\\Chuan\\\\Documents\\\\Database\\\\Karyotypes\\\\Arrangement_Merged\\\\chr_18\\\\W21894~A.0009.K.jpg.18L.bmp',\n",
       "   'D:\\\\Users\\\\Chuan\\\\Documents\\\\Database\\\\Karyotypes\\\\Arrangement_Merged\\\\chr_18\\\\W21902~A.0010.K.jpg.18L.bmp',\n",
       "   'D:\\\\Users\\\\Chuan\\\\Documents\\\\Database\\\\Karyotypes\\\\Arrangement_Merged\\\\chr_18\\\\W21902~A.0010.K.jpg.18R.bmp',\n",
       "   'D:\\\\Users\\\\Chuan\\\\Documents\\\\Database\\\\Karyotypes\\\\Arrangement_Merged\\\\chr_18\\\\W21905~A.0007.K.jpg.18L.bmp',\n",
       "   'D:\\\\Users\\\\Chuan\\\\Documents\\\\Database\\\\Karyotypes\\\\Arrangement_Merged\\\\chr_18\\\\W21905~A.0007.K.jpg.18R.bmp',\n",
       "   'D:\\\\Users\\\\Chuan\\\\Documents\\\\Database\\\\Karyotypes\\\\Arrangement_Merged\\\\chr_18\\\\W21906~A.0011.K.jpg.18L.bmp',\n",
       "   'D:\\\\Users\\\\Chuan\\\\Documents\\\\Database\\\\Karyotypes\\\\Arrangement_Merged\\\\chr_18\\\\W21906~A.0011.K.jpg.18R.bmp',\n",
       "   'D:\\\\Users\\\\Chuan\\\\Documents\\\\Database\\\\Karyotypes\\\\Arrangement_Merged\\\\chr_18\\\\w22038~A.0017.K.jpg.18L.bmp',\n",
       "   'D:\\\\Users\\\\Chuan\\\\Documents\\\\Database\\\\Karyotypes\\\\Arrangement_Merged\\\\chr_18\\\\w22038~A.0017.K.jpg.18R.bmp',\n",
       "   'D:\\\\Users\\\\Chuan\\\\Documents\\\\Database\\\\Karyotypes\\\\Arrangement_Merged\\\\chr_18\\\\w22292~A.0027.K.jpg.18L.bmp',\n",
       "   'D:\\\\Users\\\\Chuan\\\\Documents\\\\Database\\\\Karyotypes\\\\Arrangement_Merged\\\\chr_18\\\\w22292~A.0027.K.jpg.18R.bmp',\n",
       "   'D:\\\\Users\\\\Chuan\\\\Documents\\\\Database\\\\Karyotypes\\\\Arrangement_Merged\\\\chr_18\\\\W22451~A.0011.K.jpg.18L.bmp',\n",
       "   'D:\\\\Users\\\\Chuan\\\\Documents\\\\Database\\\\Karyotypes\\\\Arrangement_Merged\\\\chr_18\\\\W22451~A.0011.K.jpg.18R.bmp',\n",
       "   'D:\\\\Users\\\\Chuan\\\\Documents\\\\Database\\\\Karyotypes\\\\Arrangement_Merged\\\\chr_18\\\\W22455~A.0002.K.jpg.18L.bmp',\n",
       "   'D:\\\\Users\\\\Chuan\\\\Documents\\\\Database\\\\Karyotypes\\\\Arrangement_Merged\\\\chr_18\\\\W22455~A.0002.K.jpg.18R.bmp',\n",
       "   'D:\\\\Users\\\\Chuan\\\\Documents\\\\Database\\\\Karyotypes\\\\Arrangement_Merged\\\\chr_18\\\\W22666-1.0002.K.jpg.18L.bmp',\n",
       "   'D:\\\\Users\\\\Chuan\\\\Documents\\\\Database\\\\Karyotypes\\\\Arrangement_Merged\\\\chr_18\\\\W22670~A.0006.K.jpg.18R.bmp',\n",
       "   'D:\\\\Users\\\\Chuan\\\\Documents\\\\Database\\\\Karyotypes\\\\Arrangement_Merged\\\\chr_18\\\\W22672~A.0004.K.jpg.18L.bmp',\n",
       "   'D:\\\\Users\\\\Chuan\\\\Documents\\\\Database\\\\Karyotypes\\\\Arrangement_Merged\\\\chr_18\\\\W22672~A.0004.K.jpg.18R.bmp',\n",
       "   'D:\\\\Users\\\\Chuan\\\\Documents\\\\Database\\\\Karyotypes\\\\Arrangement_Merged\\\\chr_18\\\\w22881~A.0017.K.jpg.18L.bmp',\n",
       "   'D:\\\\Users\\\\Chuan\\\\Documents\\\\Database\\\\Karyotypes\\\\Arrangement_Merged\\\\chr_18\\\\w22881~A.0017.K.jpg.18R.bmp',\n",
       "   'D:\\\\Users\\\\Chuan\\\\Documents\\\\Database\\\\Karyotypes\\\\Arrangement_Merged\\\\chr_18\\\\W23070~A.0001.K.jpg.18L.bmp',\n",
       "   'D:\\\\Users\\\\Chuan\\\\Documents\\\\Database\\\\Karyotypes\\\\Arrangement_Merged\\\\chr_18\\\\W23075-1~A.0017.K.jpg.18L.bmp',\n",
       "   'D:\\\\Users\\\\Chuan\\\\Documents\\\\Database\\\\Karyotypes\\\\Arrangement_Merged\\\\chr_18\\\\W23082.0026.K.jpg.18L.bmp',\n",
       "   'D:\\\\Users\\\\Chuan\\\\Documents\\\\Database\\\\Karyotypes\\\\Arrangement_Merged\\\\chr_18\\\\W23082.0026.K.jpg.18R.bmp',\n",
       "   'D:\\\\Users\\\\Chuan\\\\Documents\\\\Database\\\\Karyotypes\\\\Arrangement_Merged\\\\chr_18\\\\W23084~A.0003.K.jp.18R.bmp'],\n",
       "  '2': ['D:\\\\Users\\\\Chuan\\\\Documents\\\\Database\\\\Karyotypes\\\\Arrangement_Merged\\\\chr_18\\\\181228-i(18)(q10)+18-11L.bmp',\n",
       "   'D:\\\\Users\\\\Chuan\\\\Documents\\\\Database\\\\Karyotypes\\\\Arrangement_Merged\\\\chr_18\\\\181228-i(18)(q10)+18-13L.bmp',\n",
       "   'D:\\\\Users\\\\Chuan\\\\Documents\\\\Database\\\\Karyotypes\\\\Arrangement_Merged\\\\chr_18\\\\181228-i(18)(q10)+18-14L.bmp',\n",
       "   'D:\\\\Users\\\\Chuan\\\\Documents\\\\Database\\\\Karyotypes\\\\Arrangement_Merged\\\\chr_18\\\\181228-i(18)(q10)+18-1L.bmp',\n",
       "   'D:\\\\Users\\\\Chuan\\\\Documents\\\\Database\\\\Karyotypes\\\\Arrangement_Merged\\\\chr_18\\\\181228-i(18)(q10)+18-3L.bmp',\n",
       "   'D:\\\\Users\\\\Chuan\\\\Documents\\\\Database\\\\Karyotypes\\\\Arrangement_Merged\\\\chr_18\\\\181228-i(18)(q10)+18-4L.bmp',\n",
       "   'D:\\\\Users\\\\Chuan\\\\Documents\\\\Database\\\\Karyotypes\\\\Arrangement_Merged\\\\chr_18\\\\181228-i(18)(q10)+18-5L.bmp',\n",
       "   'D:\\\\Users\\\\Chuan\\\\Documents\\\\Database\\\\Karyotypes\\\\Arrangement_Merged\\\\chr_18\\\\181228-i(18)(q10)+18-8L.bmp',\n",
       "   'D:\\\\Users\\\\Chuan\\\\Documents\\\\Database\\\\Karyotypes\\\\Arrangement_Merged\\\\chr_18\\\\181228-i(18)(q10)+18-9L.bmp',\n",
       "   'D:\\\\Users\\\\Chuan\\\\Documents\\\\Database\\\\Karyotypes\\\\Arrangement_Merged\\\\chr_18\\\\183873-del(18)(p11)-10L.bmp',\n",
       "   'D:\\\\Users\\\\Chuan\\\\Documents\\\\Database\\\\Karyotypes\\\\Arrangement_Merged\\\\chr_18\\\\183873-del(18)(p11)-11L.bmp',\n",
       "   'D:\\\\Users\\\\Chuan\\\\Documents\\\\Database\\\\Karyotypes\\\\Arrangement_Merged\\\\chr_18\\\\183873-del(18)(p11)-12L.bmp',\n",
       "   'D:\\\\Users\\\\Chuan\\\\Documents\\\\Database\\\\Karyotypes\\\\Arrangement_Merged\\\\chr_18\\\\183873-del(18)(p11)-13L.bmp',\n",
       "   'D:\\\\Users\\\\Chuan\\\\Documents\\\\Database\\\\Karyotypes\\\\Arrangement_Merged\\\\chr_18\\\\183873-del(18)(p11)-14L.bmp',\n",
       "   'D:\\\\Users\\\\Chuan\\\\Documents\\\\Database\\\\Karyotypes\\\\Arrangement_Merged\\\\chr_18\\\\183873-del(18)(p11)-15L.bmp',\n",
       "   'D:\\\\Users\\\\Chuan\\\\Documents\\\\Database\\\\Karyotypes\\\\Arrangement_Merged\\\\chr_18\\\\183873-del(18)(p11)-16L.bmp',\n",
       "   'D:\\\\Users\\\\Chuan\\\\Documents\\\\Database\\\\Karyotypes\\\\Arrangement_Merged\\\\chr_18\\\\183873-del(18)(p11)-17L.bmp',\n",
       "   'D:\\\\Users\\\\Chuan\\\\Documents\\\\Database\\\\Karyotypes\\\\Arrangement_Merged\\\\chr_18\\\\183873-del(18)(p11)-19L.bmp',\n",
       "   'D:\\\\Users\\\\Chuan\\\\Documents\\\\Database\\\\Karyotypes\\\\Arrangement_Merged\\\\chr_18\\\\183873-del(18)(p11)-1L.bmp',\n",
       "   'D:\\\\Users\\\\Chuan\\\\Documents\\\\Database\\\\Karyotypes\\\\Arrangement_Merged\\\\chr_18\\\\183873-del(18)(p11)-20L.bmp',\n",
       "   'D:\\\\Users\\\\Chuan\\\\Documents\\\\Database\\\\Karyotypes\\\\Arrangement_Merged\\\\chr_18\\\\183873-del(18)(p11)-21L.bmp',\n",
       "   'D:\\\\Users\\\\Chuan\\\\Documents\\\\Database\\\\Karyotypes\\\\Arrangement_Merged\\\\chr_18\\\\183873-del(18)(p11)-22L.bmp',\n",
       "   'D:\\\\Users\\\\Chuan\\\\Documents\\\\Database\\\\Karyotypes\\\\Arrangement_Merged\\\\chr_18\\\\183873-del(18)(p11)-23L.bmp',\n",
       "   'D:\\\\Users\\\\Chuan\\\\Documents\\\\Database\\\\Karyotypes\\\\Arrangement_Merged\\\\chr_18\\\\183873-del(18)(p11)-24L.bmp',\n",
       "   'D:\\\\Users\\\\Chuan\\\\Documents\\\\Database\\\\Karyotypes\\\\Arrangement_Merged\\\\chr_18\\\\183873-del(18)(p11)-25L.bmp',\n",
       "   'D:\\\\Users\\\\Chuan\\\\Documents\\\\Database\\\\Karyotypes\\\\Arrangement_Merged\\\\chr_18\\\\183873-del(18)(p11)-2L.bmp',\n",
       "   'D:\\\\Users\\\\Chuan\\\\Documents\\\\Database\\\\Karyotypes\\\\Arrangement_Merged\\\\chr_18\\\\183873-del(18)(p11)-3L.bmp',\n",
       "   'D:\\\\Users\\\\Chuan\\\\Documents\\\\Database\\\\Karyotypes\\\\Arrangement_Merged\\\\chr_18\\\\183873-del(18)(p11)-5L.bmp',\n",
       "   'D:\\\\Users\\\\Chuan\\\\Documents\\\\Database\\\\Karyotypes\\\\Arrangement_Merged\\\\chr_18\\\\183873-del(18)(p11)-7L.bmp',\n",
       "   'D:\\\\Users\\\\Chuan\\\\Documents\\\\Database\\\\Karyotypes\\\\Arrangement_Merged\\\\chr_18\\\\183873-del(18)(p11)-8L.bmp',\n",
       "   'D:\\\\Users\\\\Chuan\\\\Documents\\\\Database\\\\Karyotypes\\\\Arrangement_Merged\\\\chr_18\\\\183873-del(18)(p11)-9L.bmp',\n",
       "   'D:\\\\Users\\\\Chuan\\\\Documents\\\\Database\\\\Karyotypes\\\\Arrangement_Merged\\\\chr_18\\\\190325-10.jpg_18L.bmp',\n",
       "   'D:\\\\Users\\\\Chuan\\\\Documents\\\\Database\\\\Karyotypes\\\\Arrangement_Merged\\\\chr_18\\\\190325-11.jpg_18L.bmp',\n",
       "   'D:\\\\Users\\\\Chuan\\\\Documents\\\\Database\\\\Karyotypes\\\\Arrangement_Merged\\\\chr_18\\\\190325-12.jpg_18L.bmp',\n",
       "   'D:\\\\Users\\\\Chuan\\\\Documents\\\\Database\\\\Karyotypes\\\\Arrangement_Merged\\\\chr_18\\\\190325-13.jpg_18L.bmp',\n",
       "   'D:\\\\Users\\\\Chuan\\\\Documents\\\\Database\\\\Karyotypes\\\\Arrangement_Merged\\\\chr_18\\\\190325-14.jpg_18L.bmp',\n",
       "   'D:\\\\Users\\\\Chuan\\\\Documents\\\\Database\\\\Karyotypes\\\\Arrangement_Merged\\\\chr_18\\\\190325-15.jpg_18L.bmp',\n",
       "   'D:\\\\Users\\\\Chuan\\\\Documents\\\\Database\\\\Karyotypes\\\\Arrangement_Merged\\\\chr_18\\\\190325-16.jpg_18L.bmp',\n",
       "   'D:\\\\Users\\\\Chuan\\\\Documents\\\\Database\\\\Karyotypes\\\\Arrangement_Merged\\\\chr_18\\\\190325-18.jpg_18L.bmp',\n",
       "   'D:\\\\Users\\\\Chuan\\\\Documents\\\\Database\\\\Karyotypes\\\\Arrangement_Merged\\\\chr_18\\\\190325-19.jpg_18L.bmp',\n",
       "   'D:\\\\Users\\\\Chuan\\\\Documents\\\\Database\\\\Karyotypes\\\\Arrangement_Merged\\\\chr_18\\\\190325-2.jpg_18L.bmp',\n",
       "   'D:\\\\Users\\\\Chuan\\\\Documents\\\\Database\\\\Karyotypes\\\\Arrangement_Merged\\\\chr_18\\\\190325-20.jpg.18L.bmp',\n",
       "   'D:\\\\Users\\\\Chuan\\\\Documents\\\\Database\\\\Karyotypes\\\\Arrangement_Merged\\\\chr_18\\\\190325-3.jpg_18L.bmp',\n",
       "   'D:\\\\Users\\\\Chuan\\\\Documents\\\\Database\\\\Karyotypes\\\\Arrangement_Merged\\\\chr_18\\\\190325-4.jpg_18L.bmp',\n",
       "   'D:\\\\Users\\\\Chuan\\\\Documents\\\\Database\\\\Karyotypes\\\\Arrangement_Merged\\\\chr_18\\\\190325-5.jpg_18L.bmp',\n",
       "   'D:\\\\Users\\\\Chuan\\\\Documents\\\\Database\\\\Karyotypes\\\\Arrangement_Merged\\\\chr_18\\\\190325-6.jpg_18L.bmp',\n",
       "   'D:\\\\Users\\\\Chuan\\\\Documents\\\\Database\\\\Karyotypes\\\\Arrangement_Merged\\\\chr_18\\\\190325-8.jpg_18L.bmp',\n",
       "   'D:\\\\Users\\\\Chuan\\\\Documents\\\\Database\\\\Karyotypes\\\\Arrangement_Merged\\\\chr_18\\\\190325-9.jpg_18L.bmp',\n",
       "   'D:\\\\Users\\\\Chuan\\\\Documents\\\\Database\\\\Karyotypes\\\\Arrangement_Merged\\\\chr_18\\\\191225-1.jpg_18L.bmp',\n",
       "   'D:\\\\Users\\\\Chuan\\\\Documents\\\\Database\\\\Karyotypes\\\\Arrangement_Merged\\\\chr_18\\\\191225-10.jpg_18L.bmp',\n",
       "   'D:\\\\Users\\\\Chuan\\\\Documents\\\\Database\\\\Karyotypes\\\\Arrangement_Merged\\\\chr_18\\\\191225-11.jpg_18L.bmp',\n",
       "   'D:\\\\Users\\\\Chuan\\\\Documents\\\\Database\\\\Karyotypes\\\\Arrangement_Merged\\\\chr_18\\\\191225-13.jpg_18L.bmp',\n",
       "   'D:\\\\Users\\\\Chuan\\\\Documents\\\\Database\\\\Karyotypes\\\\Arrangement_Merged\\\\chr_18\\\\191225-15.jpg_18L.bmp',\n",
       "   'D:\\\\Users\\\\Chuan\\\\Documents\\\\Database\\\\Karyotypes\\\\Arrangement_Merged\\\\chr_18\\\\191225-16.jpg_18L.bmp',\n",
       "   'D:\\\\Users\\\\Chuan\\\\Documents\\\\Database\\\\Karyotypes\\\\Arrangement_Merged\\\\chr_18\\\\191225-18.jpg_18L.bmp',\n",
       "   'D:\\\\Users\\\\Chuan\\\\Documents\\\\Database\\\\Karyotypes\\\\Arrangement_Merged\\\\chr_18\\\\191225-19.jpg_18L.bmp',\n",
       "   'D:\\\\Users\\\\Chuan\\\\Documents\\\\Database\\\\Karyotypes\\\\Arrangement_Merged\\\\chr_18\\\\191225-2.jpg_18L.bmp',\n",
       "   'D:\\\\Users\\\\Chuan\\\\Documents\\\\Database\\\\Karyotypes\\\\Arrangement_Merged\\\\chr_18\\\\191225-20.jpg_18L.bmp',\n",
       "   'D:\\\\Users\\\\Chuan\\\\Documents\\\\Database\\\\Karyotypes\\\\Arrangement_Merged\\\\chr_18\\\\191225-5.jpg_18L.bmp',\n",
       "   'D:\\\\Users\\\\Chuan\\\\Documents\\\\Database\\\\Karyotypes\\\\Arrangement_Merged\\\\chr_18\\\\191225-6.jpg_18L.bmp',\n",
       "   'D:\\\\Users\\\\Chuan\\\\Documents\\\\Database\\\\Karyotypes\\\\Arrangement_Merged\\\\chr_18\\\\191225-7.jpg_18L.bmp',\n",
       "   'D:\\\\Users\\\\Chuan\\\\Documents\\\\Database\\\\Karyotypes\\\\Arrangement_Merged\\\\chr_18\\\\191225-9.jpg_18L.bmp',\n",
       "   'D:\\\\Users\\\\Chuan\\\\Documents\\\\Database\\\\Karyotypes\\\\Arrangement_Merged\\\\chr_18\\\\194161-del(18)(p11)-10L.bmp',\n",
       "   'D:\\\\Users\\\\Chuan\\\\Documents\\\\Database\\\\Karyotypes\\\\Arrangement_Merged\\\\chr_18\\\\194161-del(18)(p11)-12L.bmp',\n",
       "   'D:\\\\Users\\\\Chuan\\\\Documents\\\\Database\\\\Karyotypes\\\\Arrangement_Merged\\\\chr_18\\\\194161-del(18)(p11)-13L.bmp',\n",
       "   'D:\\\\Users\\\\Chuan\\\\Documents\\\\Database\\\\Karyotypes\\\\Arrangement_Merged\\\\chr_18\\\\194161-del(18)(p11)-14L.bmp',\n",
       "   'D:\\\\Users\\\\Chuan\\\\Documents\\\\Database\\\\Karyotypes\\\\Arrangement_Merged\\\\chr_18\\\\194161-del(18)(p11)-15L.bmp',\n",
       "   'D:\\\\Users\\\\Chuan\\\\Documents\\\\Database\\\\Karyotypes\\\\Arrangement_Merged\\\\chr_18\\\\194161-del(18)(p11)-16L.bmp',\n",
       "   'D:\\\\Users\\\\Chuan\\\\Documents\\\\Database\\\\Karyotypes\\\\Arrangement_Merged\\\\chr_18\\\\194161-del(18)(p11)-19L.bmp',\n",
       "   'D:\\\\Users\\\\Chuan\\\\Documents\\\\Database\\\\Karyotypes\\\\Arrangement_Merged\\\\chr_18\\\\194161-del(18)(p11)-1L.bmp',\n",
       "   'D:\\\\Users\\\\Chuan\\\\Documents\\\\Database\\\\Karyotypes\\\\Arrangement_Merged\\\\chr_18\\\\194161-del(18)(p11)-20L.bmp',\n",
       "   'D:\\\\Users\\\\Chuan\\\\Documents\\\\Database\\\\Karyotypes\\\\Arrangement_Merged\\\\chr_18\\\\194161-del(18)(p11)-21L.bmp',\n",
       "   'D:\\\\Users\\\\Chuan\\\\Documents\\\\Database\\\\Karyotypes\\\\Arrangement_Merged\\\\chr_18\\\\194161-del(18)(p11)-22L.bmp',\n",
       "   'D:\\\\Users\\\\Chuan\\\\Documents\\\\Database\\\\Karyotypes\\\\Arrangement_Merged\\\\chr_18\\\\194161-del(18)(p11)-23L.bmp',\n",
       "   'D:\\\\Users\\\\Chuan\\\\Documents\\\\Database\\\\Karyotypes\\\\Arrangement_Merged\\\\chr_18\\\\194161-del(18)(p11)-24L.bmp',\n",
       "   'D:\\\\Users\\\\Chuan\\\\Documents\\\\Database\\\\Karyotypes\\\\Arrangement_Merged\\\\chr_18\\\\194161-del(18)(p11)-26L.bmp',\n",
       "   'D:\\\\Users\\\\Chuan\\\\Documents\\\\Database\\\\Karyotypes\\\\Arrangement_Merged\\\\chr_18\\\\194161-del(18)(p11)-27L.bmp',\n",
       "   'D:\\\\Users\\\\Chuan\\\\Documents\\\\Database\\\\Karyotypes\\\\Arrangement_Merged\\\\chr_18\\\\194161-del(18)(p11)-28L.bmp',\n",
       "   'D:\\\\Users\\\\Chuan\\\\Documents\\\\Database\\\\Karyotypes\\\\Arrangement_Merged\\\\chr_18\\\\194161-del(18)(p11)-29L.bmp',\n",
       "   'D:\\\\Users\\\\Chuan\\\\Documents\\\\Database\\\\Karyotypes\\\\Arrangement_Merged\\\\chr_18\\\\194161-del(18)(p11)-30L.bmp',\n",
       "   'D:\\\\Users\\\\Chuan\\\\Documents\\\\Database\\\\Karyotypes\\\\Arrangement_Merged\\\\chr_18\\\\194161-del(18)(p11)-3L.bmp',\n",
       "   'D:\\\\Users\\\\Chuan\\\\Documents\\\\Database\\\\Karyotypes\\\\Arrangement_Merged\\\\chr_18\\\\194161-del(18)(p11)-4L.bmp',\n",
       "   'D:\\\\Users\\\\Chuan\\\\Documents\\\\Database\\\\Karyotypes\\\\Arrangement_Merged\\\\chr_18\\\\194161-del(18)(p11)-5L.bmp',\n",
       "   'D:\\\\Users\\\\Chuan\\\\Documents\\\\Database\\\\Karyotypes\\\\Arrangement_Merged\\\\chr_18\\\\194161-del(18)(p11)-6L.bmp',\n",
       "   'D:\\\\Users\\\\Chuan\\\\Documents\\\\Database\\\\Karyotypes\\\\Arrangement_Merged\\\\chr_18\\\\194161-del(18)(p11)-7L.bmp',\n",
       "   'D:\\\\Users\\\\Chuan\\\\Documents\\\\Database\\\\Karyotypes\\\\Arrangement_Merged\\\\chr_18\\\\194161-del(18)(p11)-8L.bmp',\n",
       "   'D:\\\\Users\\\\Chuan\\\\Documents\\\\Database\\\\Karyotypes\\\\Arrangement_Merged\\\\chr_18\\\\194161-del(18)(p11)-9L.bmp',\n",
       "   'D:\\\\Users\\\\Chuan\\\\Documents\\\\Database\\\\Karyotypes\\\\Arrangement_Merged\\\\chr_18\\\\w21000~A.0001.K.jpg.18L.bmp',\n",
       "   'D:\\\\Users\\\\Chuan\\\\Documents\\\\Database\\\\Karyotypes\\\\Arrangement_Merged\\\\chr_18\\\\w21001~A.0008.K.jpg.18R.bmp',\n",
       "   'D:\\\\Users\\\\Chuan\\\\Documents\\\\Database\\\\Karyotypes\\\\Arrangement_Merged\\\\chr_18\\\\w21002~A.0024.K.jpg.18L.bmp',\n",
       "   'D:\\\\Users\\\\Chuan\\\\Documents\\\\Database\\\\Karyotypes\\\\Arrangement_Merged\\\\chr_18\\\\w21002~A.0024.K.jpg.18R.bmp',\n",
       "   'D:\\\\Users\\\\Chuan\\\\Documents\\\\Database\\\\Karyotypes\\\\Arrangement_Merged\\\\chr_18\\\\w21008~A.0008.K.jpg.18L.bmp',\n",
       "   'D:\\\\Users\\\\Chuan\\\\Documents\\\\Database\\\\Karyotypes\\\\Arrangement_Merged\\\\chr_18\\\\w21008~A.0008.K.jpg.18R.bmp',\n",
       "   'D:\\\\Users\\\\Chuan\\\\Documents\\\\Database\\\\Karyotypes\\\\Arrangement_Merged\\\\chr_18\\\\W21011~A.0008.K.18R.bmp',\n",
       "   'D:\\\\Users\\\\Chuan\\\\Documents\\\\Database\\\\Karyotypes\\\\Arrangement_Merged\\\\chr_18\\\\W21014~A.0005.K.18L.bmp',\n",
       "   'D:\\\\Users\\\\Chuan\\\\Documents\\\\Database\\\\Karyotypes\\\\Arrangement_Merged\\\\chr_18\\\\W21014~A.0005.K.18R.bmp',\n",
       "   'D:\\\\Users\\\\Chuan\\\\Documents\\\\Database\\\\Karyotypes\\\\Arrangement_Merged\\\\chr_18\\\\W21022~A.0007.K.jpg.18L.bmp',\n",
       "   'D:\\\\Users\\\\Chuan\\\\Documents\\\\Database\\\\Karyotypes\\\\Arrangement_Merged\\\\chr_18\\\\W21022~A.0007.K.jpg.18R.bmp',\n",
       "   'D:\\\\Users\\\\Chuan\\\\Documents\\\\Database\\\\Karyotypes\\\\Arrangement_Merged\\\\chr_18\\\\W21025~A.0002.K.jpg.18L.bmp',\n",
       "   'D:\\\\Users\\\\Chuan\\\\Documents\\\\Database\\\\Karyotypes\\\\Arrangement_Merged\\\\chr_18\\\\W21027~A.0003.K.18L.bmp',\n",
       "   'D:\\\\Users\\\\Chuan\\\\Documents\\\\Database\\\\Karyotypes\\\\Arrangement_Merged\\\\chr_18\\\\W21027~A.0003.K.18R.bmp',\n",
       "   'D:\\\\Users\\\\Chuan\\\\Documents\\\\Database\\\\Karyotypes\\\\Arrangement_Merged\\\\chr_18\\\\W21486~A.0020.K.bmp.18L.bmp',\n",
       "   'D:\\\\Users\\\\Chuan\\\\Documents\\\\Database\\\\Karyotypes\\\\Arrangement_Merged\\\\chr_18\\\\W21486~A.0020.K.bmp.18R.bmp',\n",
       "   'D:\\\\Users\\\\Chuan\\\\Documents\\\\Database\\\\Karyotypes\\\\Arrangement_Merged\\\\chr_18\\\\W21563~A.0006.K.18L.bmp',\n",
       "   'D:\\\\Users\\\\Chuan\\\\Documents\\\\Database\\\\Karyotypes\\\\Arrangement_Merged\\\\chr_18\\\\W21563~A.0006.K.18R.bmp',\n",
       "   'D:\\\\Users\\\\Chuan\\\\Documents\\\\Database\\\\Karyotypes\\\\Arrangement_Merged\\\\chr_18\\\\W21570~A.0001.K.jpg.18L.bmp',\n",
       "   'D:\\\\Users\\\\Chuan\\\\Documents\\\\Database\\\\Karyotypes\\\\Arrangement_Merged\\\\chr_18\\\\W21570~A.0001.K.jpg.18R.bmp',\n",
       "   'D:\\\\Users\\\\Chuan\\\\Documents\\\\Database\\\\Karyotypes\\\\Arrangement_Merged\\\\chr_18\\\\W21576~A.0010.K.jpg.18R.bmp',\n",
       "   'D:\\\\Users\\\\Chuan\\\\Documents\\\\Database\\\\Karyotypes\\\\Arrangement_Merged\\\\chr_18\\\\W21587~A.0008.K.jpg.18L.bmp',\n",
       "   'D:\\\\Users\\\\Chuan\\\\Documents\\\\Database\\\\Karyotypes\\\\Arrangement_Merged\\\\chr_18\\\\W21587~A.0010.K.jpg.18L.bmp',\n",
       "   'D:\\\\Users\\\\Chuan\\\\Documents\\\\Database\\\\Karyotypes\\\\Arrangement_Merged\\\\chr_18\\\\W21587~A.0010.K.jpg.18R.bmp',\n",
       "   'D:\\\\Users\\\\Chuan\\\\Documents\\\\Database\\\\Karyotypes\\\\Arrangement_Merged\\\\chr_18\\\\W21588~A.0001.K.jpg.18R.bmp',\n",
       "   'D:\\\\Users\\\\Chuan\\\\Documents\\\\Database\\\\Karyotypes\\\\Arrangement_Merged\\\\chr_18\\\\W21766~A.0025.K.jpg.18L.bmp',\n",
       "   'D:\\\\Users\\\\Chuan\\\\Documents\\\\Database\\\\Karyotypes\\\\Arrangement_Merged\\\\chr_18\\\\W21766~A.0025.K.jpg.18R.bmp',\n",
       "   'D:\\\\Users\\\\Chuan\\\\Documents\\\\Database\\\\Karyotypes\\\\Arrangement_Merged\\\\chr_18\\\\W21890~A.0005.K.jpg.18L.bmp',\n",
       "   'D:\\\\Users\\\\Chuan\\\\Documents\\\\Database\\\\Karyotypes\\\\Arrangement_Merged\\\\chr_18\\\\W21894~A.0009.K.jpg.18L.bmp',\n",
       "   'D:\\\\Users\\\\Chuan\\\\Documents\\\\Database\\\\Karyotypes\\\\Arrangement_Merged\\\\chr_18\\\\W21894~A.0009.K.jpg.18R.bmp',\n",
       "   'D:\\\\Users\\\\Chuan\\\\Documents\\\\Database\\\\Karyotypes\\\\Arrangement_Merged\\\\chr_18\\\\W21902~A.0010.K.jpg.18L.bmp',\n",
       "   'D:\\\\Users\\\\Chuan\\\\Documents\\\\Database\\\\Karyotypes\\\\Arrangement_Merged\\\\chr_18\\\\W21902~A.0010.K.jpg.18R.bmp',\n",
       "   'D:\\\\Users\\\\Chuan\\\\Documents\\\\Database\\\\Karyotypes\\\\Arrangement_Merged\\\\chr_18\\\\W21905~A.0007.K.jpg.18L.bmp',\n",
       "   'D:\\\\Users\\\\Chuan\\\\Documents\\\\Database\\\\Karyotypes\\\\Arrangement_Merged\\\\chr_18\\\\W21905~A.0007.K.jpg.18R.bmp',\n",
       "   'D:\\\\Users\\\\Chuan\\\\Documents\\\\Database\\\\Karyotypes\\\\Arrangement_Merged\\\\chr_18\\\\W21906~A.0011.K.jpg.18L.bmp',\n",
       "   'D:\\\\Users\\\\Chuan\\\\Documents\\\\Database\\\\Karyotypes\\\\Arrangement_Merged\\\\chr_18\\\\W21906~A.0011.K.jpg.18R.bmp',\n",
       "   'D:\\\\Users\\\\Chuan\\\\Documents\\\\Database\\\\Karyotypes\\\\Arrangement_Merged\\\\chr_18\\\\w22038~A.0017.K.jpg.18R.bmp',\n",
       "   'D:\\\\Users\\\\Chuan\\\\Documents\\\\Database\\\\Karyotypes\\\\Arrangement_Merged\\\\chr_18\\\\w22292~A.0027.K.jpg.18L.bmp',\n",
       "   'D:\\\\Users\\\\Chuan\\\\Documents\\\\Database\\\\Karyotypes\\\\Arrangement_Merged\\\\chr_18\\\\w22292~A.0027.K.jpg.18R.bmp',\n",
       "   'D:\\\\Users\\\\Chuan\\\\Documents\\\\Database\\\\Karyotypes\\\\Arrangement_Merged\\\\chr_18\\\\W22451~A.0011.K.jpg.18L.bmp',\n",
       "   'D:\\\\Users\\\\Chuan\\\\Documents\\\\Database\\\\Karyotypes\\\\Arrangement_Merged\\\\chr_18\\\\W22451~A.0011.K.jpg.18R.bmp',\n",
       "   'D:\\\\Users\\\\Chuan\\\\Documents\\\\Database\\\\Karyotypes\\\\Arrangement_Merged\\\\chr_18\\\\W22455~A.0002.K.jpg.18L.bmp',\n",
       "   'D:\\\\Users\\\\Chuan\\\\Documents\\\\Database\\\\Karyotypes\\\\Arrangement_Merged\\\\chr_18\\\\W22455~A.0002.K.jpg.18R.bmp',\n",
       "   'D:\\\\Users\\\\Chuan\\\\Documents\\\\Database\\\\Karyotypes\\\\Arrangement_Merged\\\\chr_18\\\\W22666-1.0002.K.jpg.18L.bmp',\n",
       "   'D:\\\\Users\\\\Chuan\\\\Documents\\\\Database\\\\Karyotypes\\\\Arrangement_Merged\\\\chr_18\\\\W22666-1.0002.K.jpg.18R.bmp',\n",
       "   'D:\\\\Users\\\\Chuan\\\\Documents\\\\Database\\\\Karyotypes\\\\Arrangement_Merged\\\\chr_18\\\\W22670~A.0006.K.jpg.18L.bmp',\n",
       "   'D:\\\\Users\\\\Chuan\\\\Documents\\\\Database\\\\Karyotypes\\\\Arrangement_Merged\\\\chr_18\\\\W22670~A.0006.K.jpg.18R.bmp',\n",
       "   'D:\\\\Users\\\\Chuan\\\\Documents\\\\Database\\\\Karyotypes\\\\Arrangement_Merged\\\\chr_18\\\\W22672~A.0004.K.jpg.18R.bmp',\n",
       "   'D:\\\\Users\\\\Chuan\\\\Documents\\\\Database\\\\Karyotypes\\\\Arrangement_Merged\\\\chr_18\\\\w22881~A.0017.K.jpg.18R.bmp',\n",
       "   'D:\\\\Users\\\\Chuan\\\\Documents\\\\Database\\\\Karyotypes\\\\Arrangement_Merged\\\\chr_18\\\\W23070~A.0001.K.jpg.18R.bmp',\n",
       "   'D:\\\\Users\\\\Chuan\\\\Documents\\\\Database\\\\Karyotypes\\\\Arrangement_Merged\\\\chr_18\\\\W23075-1~A.0017.K.jpg.18L.bmp',\n",
       "   'D:\\\\Users\\\\Chuan\\\\Documents\\\\Database\\\\Karyotypes\\\\Arrangement_Merged\\\\chr_18\\\\W23075-1~A.0017.K.jpg.18R.bmp',\n",
       "   'D:\\\\Users\\\\Chuan\\\\Documents\\\\Database\\\\Karyotypes\\\\Arrangement_Merged\\\\chr_18\\\\W23082.0026.K.jpg.18L.bmp',\n",
       "   'D:\\\\Users\\\\Chuan\\\\Documents\\\\Database\\\\Karyotypes\\\\Arrangement_Merged\\\\chr_18\\\\W23084~A.0003.K.jp.18L.bmp'],\n",
       "  '3': ['D:\\\\Users\\\\Chuan\\\\Documents\\\\Database\\\\Karyotypes\\\\Arrangement_Merged\\\\chr_18\\\\181228-i(18)(q10)+18-10L.bmp',\n",
       "   'D:\\\\Users\\\\Chuan\\\\Documents\\\\Database\\\\Karyotypes\\\\Arrangement_Merged\\\\chr_18\\\\181228-i(18)(q10)+18-11L.bmp',\n",
       "   'D:\\\\Users\\\\Chuan\\\\Documents\\\\Database\\\\Karyotypes\\\\Arrangement_Merged\\\\chr_18\\\\181228-i(18)(q10)+18-12L.bmp',\n",
       "   'D:\\\\Users\\\\Chuan\\\\Documents\\\\Database\\\\Karyotypes\\\\Arrangement_Merged\\\\chr_18\\\\181228-i(18)(q10)+18-14L.bmp',\n",
       "   'D:\\\\Users\\\\Chuan\\\\Documents\\\\Database\\\\Karyotypes\\\\Arrangement_Merged\\\\chr_18\\\\181228-i(18)(q10)+18-1L.bmp',\n",
       "   'D:\\\\Users\\\\Chuan\\\\Documents\\\\Database\\\\Karyotypes\\\\Arrangement_Merged\\\\chr_18\\\\181228-i(18)(q10)+18-2L.bmp',\n",
       "   'D:\\\\Users\\\\Chuan\\\\Documents\\\\Database\\\\Karyotypes\\\\Arrangement_Merged\\\\chr_18\\\\181228-i(18)(q10)+18-3L.bmp',\n",
       "   'D:\\\\Users\\\\Chuan\\\\Documents\\\\Database\\\\Karyotypes\\\\Arrangement_Merged\\\\chr_18\\\\181228-i(18)(q10)+18-4L.bmp',\n",
       "   'D:\\\\Users\\\\Chuan\\\\Documents\\\\Database\\\\Karyotypes\\\\Arrangement_Merged\\\\chr_18\\\\181228-i(18)(q10)+18-7L.bmp',\n",
       "   'D:\\\\Users\\\\Chuan\\\\Documents\\\\Database\\\\Karyotypes\\\\Arrangement_Merged\\\\chr_18\\\\181228-i(18)(q10)+18-8L.bmp',\n",
       "   'D:\\\\Users\\\\Chuan\\\\Documents\\\\Database\\\\Karyotypes\\\\Arrangement_Merged\\\\chr_18\\\\181228-i(18)(q10)+18-9L.bmp',\n",
       "   'D:\\\\Users\\\\Chuan\\\\Documents\\\\Database\\\\Karyotypes\\\\Arrangement_Merged\\\\chr_18\\\\183873-del(18)(p11)-10L.bmp',\n",
       "   'D:\\\\Users\\\\Chuan\\\\Documents\\\\Database\\\\Karyotypes\\\\Arrangement_Merged\\\\chr_18\\\\183873-del(18)(p11)-11L.bmp',\n",
       "   'D:\\\\Users\\\\Chuan\\\\Documents\\\\Database\\\\Karyotypes\\\\Arrangement_Merged\\\\chr_18\\\\183873-del(18)(p11)-13L.bmp',\n",
       "   'D:\\\\Users\\\\Chuan\\\\Documents\\\\Database\\\\Karyotypes\\\\Arrangement_Merged\\\\chr_18\\\\183873-del(18)(p11)-14L.bmp',\n",
       "   'D:\\\\Users\\\\Chuan\\\\Documents\\\\Database\\\\Karyotypes\\\\Arrangement_Merged\\\\chr_18\\\\183873-del(18)(p11)-15L.bmp',\n",
       "   'D:\\\\Users\\\\Chuan\\\\Documents\\\\Database\\\\Karyotypes\\\\Arrangement_Merged\\\\chr_18\\\\183873-del(18)(p11)-16L.bmp',\n",
       "   'D:\\\\Users\\\\Chuan\\\\Documents\\\\Database\\\\Karyotypes\\\\Arrangement_Merged\\\\chr_18\\\\183873-del(18)(p11)-17L.bmp',\n",
       "   'D:\\\\Users\\\\Chuan\\\\Documents\\\\Database\\\\Karyotypes\\\\Arrangement_Merged\\\\chr_18\\\\183873-del(18)(p11)-18L.bmp',\n",
       "   'D:\\\\Users\\\\Chuan\\\\Documents\\\\Database\\\\Karyotypes\\\\Arrangement_Merged\\\\chr_18\\\\183873-del(18)(p11)-19L.bmp',\n",
       "   'D:\\\\Users\\\\Chuan\\\\Documents\\\\Database\\\\Karyotypes\\\\Arrangement_Merged\\\\chr_18\\\\183873-del(18)(p11)-21L.bmp',\n",
       "   'D:\\\\Users\\\\Chuan\\\\Documents\\\\Database\\\\Karyotypes\\\\Arrangement_Merged\\\\chr_18\\\\183873-del(18)(p11)-24L.bmp',\n",
       "   'D:\\\\Users\\\\Chuan\\\\Documents\\\\Database\\\\Karyotypes\\\\Arrangement_Merged\\\\chr_18\\\\183873-del(18)(p11)-25L.bmp',\n",
       "   'D:\\\\Users\\\\Chuan\\\\Documents\\\\Database\\\\Karyotypes\\\\Arrangement_Merged\\\\chr_18\\\\183873-del(18)(p11)-3L.bmp',\n",
       "   'D:\\\\Users\\\\Chuan\\\\Documents\\\\Database\\\\Karyotypes\\\\Arrangement_Merged\\\\chr_18\\\\183873-del(18)(p11)-4L.bmp',\n",
       "   'D:\\\\Users\\\\Chuan\\\\Documents\\\\Database\\\\Karyotypes\\\\Arrangement_Merged\\\\chr_18\\\\183873-del(18)(p11)-5L.bmp',\n",
       "   'D:\\\\Users\\\\Chuan\\\\Documents\\\\Database\\\\Karyotypes\\\\Arrangement_Merged\\\\chr_18\\\\183873-del(18)(p11)-6L.bmp',\n",
       "   'D:\\\\Users\\\\Chuan\\\\Documents\\\\Database\\\\Karyotypes\\\\Arrangement_Merged\\\\chr_18\\\\183873-del(18)(p11)-7L.bmp',\n",
       "   'D:\\\\Users\\\\Chuan\\\\Documents\\\\Database\\\\Karyotypes\\\\Arrangement_Merged\\\\chr_18\\\\183873-del(18)(p11)-8L.bmp',\n",
       "   'D:\\\\Users\\\\Chuan\\\\Documents\\\\Database\\\\Karyotypes\\\\Arrangement_Merged\\\\chr_18\\\\183873-del(18)(p11)-9L.bmp',\n",
       "   'D:\\\\Users\\\\Chuan\\\\Documents\\\\Database\\\\Karyotypes\\\\Arrangement_Merged\\\\chr_18\\\\190325-1.jpg_18L.bmp',\n",
       "   'D:\\\\Users\\\\Chuan\\\\Documents\\\\Database\\\\Karyotypes\\\\Arrangement_Merged\\\\chr_18\\\\190325-10.jpg_18L.bmp',\n",
       "   'D:\\\\Users\\\\Chuan\\\\Documents\\\\Database\\\\Karyotypes\\\\Arrangement_Merged\\\\chr_18\\\\190325-11.jpg_18L.bmp',\n",
       "   'D:\\\\Users\\\\Chuan\\\\Documents\\\\Database\\\\Karyotypes\\\\Arrangement_Merged\\\\chr_18\\\\190325-13.jpg_18L.bmp',\n",
       "   'D:\\\\Users\\\\Chuan\\\\Documents\\\\Database\\\\Karyotypes\\\\Arrangement_Merged\\\\chr_18\\\\190325-15.jpg_18L.bmp',\n",
       "   'D:\\\\Users\\\\Chuan\\\\Documents\\\\Database\\\\Karyotypes\\\\Arrangement_Merged\\\\chr_18\\\\190325-16.jpg_18L.bmp',\n",
       "   'D:\\\\Users\\\\Chuan\\\\Documents\\\\Database\\\\Karyotypes\\\\Arrangement_Merged\\\\chr_18\\\\190325-17.jpg_18L.bmp',\n",
       "   'D:\\\\Users\\\\Chuan\\\\Documents\\\\Database\\\\Karyotypes\\\\Arrangement_Merged\\\\chr_18\\\\190325-18.jpg_18L.bmp',\n",
       "   'D:\\\\Users\\\\Chuan\\\\Documents\\\\Database\\\\Karyotypes\\\\Arrangement_Merged\\\\chr_18\\\\190325-19.jpg_18L.bmp',\n",
       "   'D:\\\\Users\\\\Chuan\\\\Documents\\\\Database\\\\Karyotypes\\\\Arrangement_Merged\\\\chr_18\\\\190325-20.jpg.18L.bmp',\n",
       "   'D:\\\\Users\\\\Chuan\\\\Documents\\\\Database\\\\Karyotypes\\\\Arrangement_Merged\\\\chr_18\\\\190325-3.jpg_18L.bmp',\n",
       "   'D:\\\\Users\\\\Chuan\\\\Documents\\\\Database\\\\Karyotypes\\\\Arrangement_Merged\\\\chr_18\\\\190325-5.jpg_18L.bmp',\n",
       "   'D:\\\\Users\\\\Chuan\\\\Documents\\\\Database\\\\Karyotypes\\\\Arrangement_Merged\\\\chr_18\\\\190325-6.jpg_18L.bmp',\n",
       "   'D:\\\\Users\\\\Chuan\\\\Documents\\\\Database\\\\Karyotypes\\\\Arrangement_Merged\\\\chr_18\\\\190325-7.jpg_18L.bmp',\n",
       "   'D:\\\\Users\\\\Chuan\\\\Documents\\\\Database\\\\Karyotypes\\\\Arrangement_Merged\\\\chr_18\\\\190325-8.jpg_18L.bmp',\n",
       "   'D:\\\\Users\\\\Chuan\\\\Documents\\\\Database\\\\Karyotypes\\\\Arrangement_Merged\\\\chr_18\\\\190325-9.jpg_18L.bmp',\n",
       "   'D:\\\\Users\\\\Chuan\\\\Documents\\\\Database\\\\Karyotypes\\\\Arrangement_Merged\\\\chr_18\\\\191225-1.jpg_18L.bmp',\n",
       "   'D:\\\\Users\\\\Chuan\\\\Documents\\\\Database\\\\Karyotypes\\\\Arrangement_Merged\\\\chr_18\\\\191225-10.jpg_18L.bmp',\n",
       "   'D:\\\\Users\\\\Chuan\\\\Documents\\\\Database\\\\Karyotypes\\\\Arrangement_Merged\\\\chr_18\\\\191225-11.jpg_18L.bmp',\n",
       "   'D:\\\\Users\\\\Chuan\\\\Documents\\\\Database\\\\Karyotypes\\\\Arrangement_Merged\\\\chr_18\\\\191225-13.jpg_18L.bmp',\n",
       "   'D:\\\\Users\\\\Chuan\\\\Documents\\\\Database\\\\Karyotypes\\\\Arrangement_Merged\\\\chr_18\\\\191225-14.jpg_18L.bmp',\n",
       "   'D:\\\\Users\\\\Chuan\\\\Documents\\\\Database\\\\Karyotypes\\\\Arrangement_Merged\\\\chr_18\\\\191225-15.jpg_18L.bmp',\n",
       "   'D:\\\\Users\\\\Chuan\\\\Documents\\\\Database\\\\Karyotypes\\\\Arrangement_Merged\\\\chr_18\\\\191225-17.jpg_18L.bmp',\n",
       "   'D:\\\\Users\\\\Chuan\\\\Documents\\\\Database\\\\Karyotypes\\\\Arrangement_Merged\\\\chr_18\\\\191225-18.jpg_18L.bmp',\n",
       "   'D:\\\\Users\\\\Chuan\\\\Documents\\\\Database\\\\Karyotypes\\\\Arrangement_Merged\\\\chr_18\\\\191225-2.jpg_18L.bmp',\n",
       "   'D:\\\\Users\\\\Chuan\\\\Documents\\\\Database\\\\Karyotypes\\\\Arrangement_Merged\\\\chr_18\\\\191225-20.jpg_18L.bmp',\n",
       "   'D:\\\\Users\\\\Chuan\\\\Documents\\\\Database\\\\Karyotypes\\\\Arrangement_Merged\\\\chr_18\\\\191225-21.jpg_18L.bmp',\n",
       "   'D:\\\\Users\\\\Chuan\\\\Documents\\\\Database\\\\Karyotypes\\\\Arrangement_Merged\\\\chr_18\\\\191225-5.jpg_18L.bmp',\n",
       "   'D:\\\\Users\\\\Chuan\\\\Documents\\\\Database\\\\Karyotypes\\\\Arrangement_Merged\\\\chr_18\\\\191225-6.jpg_18L.bmp',\n",
       "   'D:\\\\Users\\\\Chuan\\\\Documents\\\\Database\\\\Karyotypes\\\\Arrangement_Merged\\\\chr_18\\\\191225-7.jpg_18L.bmp',\n",
       "   'D:\\\\Users\\\\Chuan\\\\Documents\\\\Database\\\\Karyotypes\\\\Arrangement_Merged\\\\chr_18\\\\191225-8.jpg_18L.bmp',\n",
       "   'D:\\\\Users\\\\Chuan\\\\Documents\\\\Database\\\\Karyotypes\\\\Arrangement_Merged\\\\chr_18\\\\191225-9.jpg_18L.bmp',\n",
       "   'D:\\\\Users\\\\Chuan\\\\Documents\\\\Database\\\\Karyotypes\\\\Arrangement_Merged\\\\chr_18\\\\194161-del(18)(p11)-11L.bmp',\n",
       "   'D:\\\\Users\\\\Chuan\\\\Documents\\\\Database\\\\Karyotypes\\\\Arrangement_Merged\\\\chr_18\\\\194161-del(18)(p11)-12L.bmp',\n",
       "   'D:\\\\Users\\\\Chuan\\\\Documents\\\\Database\\\\Karyotypes\\\\Arrangement_Merged\\\\chr_18\\\\194161-del(18)(p11)-13L.bmp',\n",
       "   'D:\\\\Users\\\\Chuan\\\\Documents\\\\Database\\\\Karyotypes\\\\Arrangement_Merged\\\\chr_18\\\\194161-del(18)(p11)-15L.bmp',\n",
       "   'D:\\\\Users\\\\Chuan\\\\Documents\\\\Database\\\\Karyotypes\\\\Arrangement_Merged\\\\chr_18\\\\194161-del(18)(p11)-17L.bmp',\n",
       "   'D:\\\\Users\\\\Chuan\\\\Documents\\\\Database\\\\Karyotypes\\\\Arrangement_Merged\\\\chr_18\\\\194161-del(18)(p11)-18L.bmp',\n",
       "   'D:\\\\Users\\\\Chuan\\\\Documents\\\\Database\\\\Karyotypes\\\\Arrangement_Merged\\\\chr_18\\\\194161-del(18)(p11)-19L.bmp',\n",
       "   'D:\\\\Users\\\\Chuan\\\\Documents\\\\Database\\\\Karyotypes\\\\Arrangement_Merged\\\\chr_18\\\\194161-del(18)(p11)-1L.bmp',\n",
       "   'D:\\\\Users\\\\Chuan\\\\Documents\\\\Database\\\\Karyotypes\\\\Arrangement_Merged\\\\chr_18\\\\194161-del(18)(p11)-21L.bmp',\n",
       "   'D:\\\\Users\\\\Chuan\\\\Documents\\\\Database\\\\Karyotypes\\\\Arrangement_Merged\\\\chr_18\\\\194161-del(18)(p11)-22L.bmp',\n",
       "   'D:\\\\Users\\\\Chuan\\\\Documents\\\\Database\\\\Karyotypes\\\\Arrangement_Merged\\\\chr_18\\\\194161-del(18)(p11)-23L.bmp',\n",
       "   'D:\\\\Users\\\\Chuan\\\\Documents\\\\Database\\\\Karyotypes\\\\Arrangement_Merged\\\\chr_18\\\\194161-del(18)(p11)-24L.bmp',\n",
       "   'D:\\\\Users\\\\Chuan\\\\Documents\\\\Database\\\\Karyotypes\\\\Arrangement_Merged\\\\chr_18\\\\194161-del(18)(p11)-25L.bmp',\n",
       "   'D:\\\\Users\\\\Chuan\\\\Documents\\\\Database\\\\Karyotypes\\\\Arrangement_Merged\\\\chr_18\\\\194161-del(18)(p11)-26L.bmp',\n",
       "   'D:\\\\Users\\\\Chuan\\\\Documents\\\\Database\\\\Karyotypes\\\\Arrangement_Merged\\\\chr_18\\\\194161-del(18)(p11)-27L.bmp',\n",
       "   'D:\\\\Users\\\\Chuan\\\\Documents\\\\Database\\\\Karyotypes\\\\Arrangement_Merged\\\\chr_18\\\\194161-del(18)(p11)-28L.bmp',\n",
       "   'D:\\\\Users\\\\Chuan\\\\Documents\\\\Database\\\\Karyotypes\\\\Arrangement_Merged\\\\chr_18\\\\194161-del(18)(p11)-29L.bmp',\n",
       "   'D:\\\\Users\\\\Chuan\\\\Documents\\\\Database\\\\Karyotypes\\\\Arrangement_Merged\\\\chr_18\\\\194161-del(18)(p11)-2L.bmp',\n",
       "   'D:\\\\Users\\\\Chuan\\\\Documents\\\\Database\\\\Karyotypes\\\\Arrangement_Merged\\\\chr_18\\\\194161-del(18)(p11)-3L.bmp',\n",
       "   'D:\\\\Users\\\\Chuan\\\\Documents\\\\Database\\\\Karyotypes\\\\Arrangement_Merged\\\\chr_18\\\\194161-del(18)(p11)-5L.bmp',\n",
       "   'D:\\\\Users\\\\Chuan\\\\Documents\\\\Database\\\\Karyotypes\\\\Arrangement_Merged\\\\chr_18\\\\194161-del(18)(p11)-6L.bmp',\n",
       "   'D:\\\\Users\\\\Chuan\\\\Documents\\\\Database\\\\Karyotypes\\\\Arrangement_Merged\\\\chr_18\\\\194161-del(18)(p11)-9L.bmp',\n",
       "   'D:\\\\Users\\\\Chuan\\\\Documents\\\\Database\\\\Karyotypes\\\\Arrangement_Merged\\\\chr_18\\\\w21000~A.0001.K.jpg.18L.bmp',\n",
       "   'D:\\\\Users\\\\Chuan\\\\Documents\\\\Database\\\\Karyotypes\\\\Arrangement_Merged\\\\chr_18\\\\w21000~A.0001.K.jpg.18R.bmp',\n",
       "   'D:\\\\Users\\\\Chuan\\\\Documents\\\\Database\\\\Karyotypes\\\\Arrangement_Merged\\\\chr_18\\\\w21001~A.0008.K.jpg.18L.bmp',\n",
       "   'D:\\\\Users\\\\Chuan\\\\Documents\\\\Database\\\\Karyotypes\\\\Arrangement_Merged\\\\chr_18\\\\w21002~A.0024.K.jpg.18L.bmp',\n",
       "   'D:\\\\Users\\\\Chuan\\\\Documents\\\\Database\\\\Karyotypes\\\\Arrangement_Merged\\\\chr_18\\\\w21008~A.0008.K.jpg.18L.bmp',\n",
       "   'D:\\\\Users\\\\Chuan\\\\Documents\\\\Database\\\\Karyotypes\\\\Arrangement_Merged\\\\chr_18\\\\w21008~A.0008.K.jpg.18R.bmp',\n",
       "   'D:\\\\Users\\\\Chuan\\\\Documents\\\\Database\\\\Karyotypes\\\\Arrangement_Merged\\\\chr_18\\\\W21011~A.0008.K.18L.bmp',\n",
       "   'D:\\\\Users\\\\Chuan\\\\Documents\\\\Database\\\\Karyotypes\\\\Arrangement_Merged\\\\chr_18\\\\W21011~A.0008.K.18R.bmp',\n",
       "   'D:\\\\Users\\\\Chuan\\\\Documents\\\\Database\\\\Karyotypes\\\\Arrangement_Merged\\\\chr_18\\\\W21012~A.0019.K.18L.bmp',\n",
       "   'D:\\\\Users\\\\Chuan\\\\Documents\\\\Database\\\\Karyotypes\\\\Arrangement_Merged\\\\chr_18\\\\W21012~A.0019.K.18R.bmp',\n",
       "   'D:\\\\Users\\\\Chuan\\\\Documents\\\\Database\\\\Karyotypes\\\\Arrangement_Merged\\\\chr_18\\\\W21014~A.0005.K.18L.bmp',\n",
       "   'D:\\\\Users\\\\Chuan\\\\Documents\\\\Database\\\\Karyotypes\\\\Arrangement_Merged\\\\chr_18\\\\W21014~A.0005.K.18R.bmp',\n",
       "   'D:\\\\Users\\\\Chuan\\\\Documents\\\\Database\\\\Karyotypes\\\\Arrangement_Merged\\\\chr_18\\\\W21025~A.0002.K.jpg.18L.bmp',\n",
       "   'D:\\\\Users\\\\Chuan\\\\Documents\\\\Database\\\\Karyotypes\\\\Arrangement_Merged\\\\chr_18\\\\W21025~A.0002.K.jpg.18R.bmp',\n",
       "   'D:\\\\Users\\\\Chuan\\\\Documents\\\\Database\\\\Karyotypes\\\\Arrangement_Merged\\\\chr_18\\\\W21027~A.0003.K.18L.bmp',\n",
       "   'D:\\\\Users\\\\Chuan\\\\Documents\\\\Database\\\\Karyotypes\\\\Arrangement_Merged\\\\chr_18\\\\W21027~A.0003.K.18R.bmp',\n",
       "   'D:\\\\Users\\\\Chuan\\\\Documents\\\\Database\\\\Karyotypes\\\\Arrangement_Merged\\\\chr_18\\\\W21486~A.0020.K.bmp.18L.bmp',\n",
       "   'D:\\\\Users\\\\Chuan\\\\Documents\\\\Database\\\\Karyotypes\\\\Arrangement_Merged\\\\chr_18\\\\W21486~A.0020.K.bmp.18R.bmp',\n",
       "   'D:\\\\Users\\\\Chuan\\\\Documents\\\\Database\\\\Karyotypes\\\\Arrangement_Merged\\\\chr_18\\\\W21563~A.0006.K.18L.bmp',\n",
       "   'D:\\\\Users\\\\Chuan\\\\Documents\\\\Database\\\\Karyotypes\\\\Arrangement_Merged\\\\chr_18\\\\W21563~A.0006.K.18R.bmp',\n",
       "   'D:\\\\Users\\\\Chuan\\\\Documents\\\\Database\\\\Karyotypes\\\\Arrangement_Merged\\\\chr_18\\\\W21576~A.0010.K.jpg.18L.bmp',\n",
       "   'D:\\\\Users\\\\Chuan\\\\Documents\\\\Database\\\\Karyotypes\\\\Arrangement_Merged\\\\chr_18\\\\W21576~A.0010.K.jpg.18R.bmp',\n",
       "   'D:\\\\Users\\\\Chuan\\\\Documents\\\\Database\\\\Karyotypes\\\\Arrangement_Merged\\\\chr_18\\\\W21587~A.0008.K.jpg.18L.bmp',\n",
       "   'D:\\\\Users\\\\Chuan\\\\Documents\\\\Database\\\\Karyotypes\\\\Arrangement_Merged\\\\chr_18\\\\W21587~A.0008.K.jpg.18R.bmp',\n",
       "   'D:\\\\Users\\\\Chuan\\\\Documents\\\\Database\\\\Karyotypes\\\\Arrangement_Merged\\\\chr_18\\\\W21587~A.0010.K.jpg.18L.bmp',\n",
       "   'D:\\\\Users\\\\Chuan\\\\Documents\\\\Database\\\\Karyotypes\\\\Arrangement_Merged\\\\chr_18\\\\W21587~A.0010.K.jpg.18R.bmp',\n",
       "   'D:\\\\Users\\\\Chuan\\\\Documents\\\\Database\\\\Karyotypes\\\\Arrangement_Merged\\\\chr_18\\\\W21588~A.0001.K.jpg.18L.bmp',\n",
       "   'D:\\\\Users\\\\Chuan\\\\Documents\\\\Database\\\\Karyotypes\\\\Arrangement_Merged\\\\chr_18\\\\W21588~A.0001.K.jpg.18R.bmp',\n",
       "   'D:\\\\Users\\\\Chuan\\\\Documents\\\\Database\\\\Karyotypes\\\\Arrangement_Merged\\\\chr_18\\\\W21766~A.0025.K.jpg.18L.bmp',\n",
       "   'D:\\\\Users\\\\Chuan\\\\Documents\\\\Database\\\\Karyotypes\\\\Arrangement_Merged\\\\chr_18\\\\W21766~A.0025.K.jpg.18R.bmp',\n",
       "   'D:\\\\Users\\\\Chuan\\\\Documents\\\\Database\\\\Karyotypes\\\\Arrangement_Merged\\\\chr_18\\\\W21890~A.0005.K.jpg.18L.bmp',\n",
       "   'D:\\\\Users\\\\Chuan\\\\Documents\\\\Database\\\\Karyotypes\\\\Arrangement_Merged\\\\chr_18\\\\W21890~A.0005.K.jpg.18R.bmp',\n",
       "   'D:\\\\Users\\\\Chuan\\\\Documents\\\\Database\\\\Karyotypes\\\\Arrangement_Merged\\\\chr_18\\\\W21894~A.0009.K.jpg.18L.bmp',\n",
       "   'D:\\\\Users\\\\Chuan\\\\Documents\\\\Database\\\\Karyotypes\\\\Arrangement_Merged\\\\chr_18\\\\W21894~A.0009.K.jpg.18R.bmp',\n",
       "   'D:\\\\Users\\\\Chuan\\\\Documents\\\\Database\\\\Karyotypes\\\\Arrangement_Merged\\\\chr_18\\\\W21902~A.0010.K.jpg.18L.bmp',\n",
       "   'D:\\\\Users\\\\Chuan\\\\Documents\\\\Database\\\\Karyotypes\\\\Arrangement_Merged\\\\chr_18\\\\W21905~A.0007.K.jpg.18R.bmp',\n",
       "   'D:\\\\Users\\\\Chuan\\\\Documents\\\\Database\\\\Karyotypes\\\\Arrangement_Merged\\\\chr_18\\\\W21906~A.0011.K.jpg.18L.bmp',\n",
       "   'D:\\\\Users\\\\Chuan\\\\Documents\\\\Database\\\\Karyotypes\\\\Arrangement_Merged\\\\chr_18\\\\w22038~A.0017.K.jpg.18L.bmp',\n",
       "   'D:\\\\Users\\\\Chuan\\\\Documents\\\\Database\\\\Karyotypes\\\\Arrangement_Merged\\\\chr_18\\\\w22038~A.0017.K.jpg.18R.bmp',\n",
       "   'D:\\\\Users\\\\Chuan\\\\Documents\\\\Database\\\\Karyotypes\\\\Arrangement_Merged\\\\chr_18\\\\w22292~A.0027.K.jpg.18L.bmp',\n",
       "   'D:\\\\Users\\\\Chuan\\\\Documents\\\\Database\\\\Karyotypes\\\\Arrangement_Merged\\\\chr_18\\\\w22292~A.0027.K.jpg.18R.bmp',\n",
       "   'D:\\\\Users\\\\Chuan\\\\Documents\\\\Database\\\\Karyotypes\\\\Arrangement_Merged\\\\chr_18\\\\W22451~A.0011.K.jpg.18L.bmp',\n",
       "   'D:\\\\Users\\\\Chuan\\\\Documents\\\\Database\\\\Karyotypes\\\\Arrangement_Merged\\\\chr_18\\\\W22451~A.0011.K.jpg.18R.bmp',\n",
       "   'D:\\\\Users\\\\Chuan\\\\Documents\\\\Database\\\\Karyotypes\\\\Arrangement_Merged\\\\chr_18\\\\W22455~A.0002.K.jpg.18R.bmp',\n",
       "   'D:\\\\Users\\\\Chuan\\\\Documents\\\\Database\\\\Karyotypes\\\\Arrangement_Merged\\\\chr_18\\\\W22666-1.0002.K.jpg.18R.bmp',\n",
       "   'D:\\\\Users\\\\Chuan\\\\Documents\\\\Database\\\\Karyotypes\\\\Arrangement_Merged\\\\chr_18\\\\W22670~A.0006.K.jpg.18L.bmp',\n",
       "   'D:\\\\Users\\\\Chuan\\\\Documents\\\\Database\\\\Karyotypes\\\\Arrangement_Merged\\\\chr_18\\\\W22670~A.0006.K.jpg.18R.bmp',\n",
       "   'D:\\\\Users\\\\Chuan\\\\Documents\\\\Database\\\\Karyotypes\\\\Arrangement_Merged\\\\chr_18\\\\W22672~A.0004.K.jpg.18L.bmp',\n",
       "   'D:\\\\Users\\\\Chuan\\\\Documents\\\\Database\\\\Karyotypes\\\\Arrangement_Merged\\\\chr_18\\\\w22881~A.0017.K.jpg.18L.bmp',\n",
       "   'D:\\\\Users\\\\Chuan\\\\Documents\\\\Database\\\\Karyotypes\\\\Arrangement_Merged\\\\chr_18\\\\W23070~A.0001.K.jpg.18L.bmp',\n",
       "   'D:\\\\Users\\\\Chuan\\\\Documents\\\\Database\\\\Karyotypes\\\\Arrangement_Merged\\\\chr_18\\\\W23070~A.0001.K.jpg.18R.bmp',\n",
       "   'D:\\\\Users\\\\Chuan\\\\Documents\\\\Database\\\\Karyotypes\\\\Arrangement_Merged\\\\chr_18\\\\W23075-1~A.0017.K.jpg.18L.bmp',\n",
       "   'D:\\\\Users\\\\Chuan\\\\Documents\\\\Database\\\\Karyotypes\\\\Arrangement_Merged\\\\chr_18\\\\W23075-1~A.0017.K.jpg.18R.bmp',\n",
       "   'D:\\\\Users\\\\Chuan\\\\Documents\\\\Database\\\\Karyotypes\\\\Arrangement_Merged\\\\chr_18\\\\W23082.0026.K.jpg.18L.bmp',\n",
       "   'D:\\\\Users\\\\Chuan\\\\Documents\\\\Database\\\\Karyotypes\\\\Arrangement_Merged\\\\chr_18\\\\W23082.0026.K.jpg.18R.bmp',\n",
       "   'D:\\\\Users\\\\Chuan\\\\Documents\\\\Database\\\\Karyotypes\\\\Arrangement_Merged\\\\chr_18\\\\W23084~A.0003.K.jp.18L.bmp',\n",
       "   'D:\\\\Users\\\\Chuan\\\\Documents\\\\Database\\\\Karyotypes\\\\Arrangement_Merged\\\\chr_18\\\\W23084~A.0003.K.jp.18R.bmp'],\n",
       "  '4': ['D:\\\\Users\\\\Chuan\\\\Documents\\\\Database\\\\Karyotypes\\\\Arrangement_Merged\\\\chr_18\\\\181228-i(18)(q10)+18-10L.bmp',\n",
       "   'D:\\\\Users\\\\Chuan\\\\Documents\\\\Database\\\\Karyotypes\\\\Arrangement_Merged\\\\chr_18\\\\181228-i(18)(q10)+18-12L.bmp',\n",
       "   'D:\\\\Users\\\\Chuan\\\\Documents\\\\Database\\\\Karyotypes\\\\Arrangement_Merged\\\\chr_18\\\\181228-i(18)(q10)+18-13L.bmp',\n",
       "   'D:\\\\Users\\\\Chuan\\\\Documents\\\\Database\\\\Karyotypes\\\\Arrangement_Merged\\\\chr_18\\\\181228-i(18)(q10)+18-14L.bmp',\n",
       "   'D:\\\\Users\\\\Chuan\\\\Documents\\\\Database\\\\Karyotypes\\\\Arrangement_Merged\\\\chr_18\\\\181228-i(18)(q10)+18-1L.bmp',\n",
       "   'D:\\\\Users\\\\Chuan\\\\Documents\\\\Database\\\\Karyotypes\\\\Arrangement_Merged\\\\chr_18\\\\181228-i(18)(q10)+18-2L.bmp',\n",
       "   'D:\\\\Users\\\\Chuan\\\\Documents\\\\Database\\\\Karyotypes\\\\Arrangement_Merged\\\\chr_18\\\\181228-i(18)(q10)+18-5L.bmp',\n",
       "   'D:\\\\Users\\\\Chuan\\\\Documents\\\\Database\\\\Karyotypes\\\\Arrangement_Merged\\\\chr_18\\\\181228-i(18)(q10)+18-7L.bmp',\n",
       "   'D:\\\\Users\\\\Chuan\\\\Documents\\\\Database\\\\Karyotypes\\\\Arrangement_Merged\\\\chr_18\\\\181228-i(18)(q10)+18-8L.bmp',\n",
       "   'D:\\\\Users\\\\Chuan\\\\Documents\\\\Database\\\\Karyotypes\\\\Arrangement_Merged\\\\chr_18\\\\181228-i(18)(q10)+18-9L.bmp',\n",
       "   'D:\\\\Users\\\\Chuan\\\\Documents\\\\Database\\\\Karyotypes\\\\Arrangement_Merged\\\\chr_18\\\\183873-del(18)(p11)-10L.bmp',\n",
       "   'D:\\\\Users\\\\Chuan\\\\Documents\\\\Database\\\\Karyotypes\\\\Arrangement_Merged\\\\chr_18\\\\183873-del(18)(p11)-11L.bmp',\n",
       "   'D:\\\\Users\\\\Chuan\\\\Documents\\\\Database\\\\Karyotypes\\\\Arrangement_Merged\\\\chr_18\\\\183873-del(18)(p11)-12L.bmp',\n",
       "   'D:\\\\Users\\\\Chuan\\\\Documents\\\\Database\\\\Karyotypes\\\\Arrangement_Merged\\\\chr_18\\\\183873-del(18)(p11)-13L.bmp',\n",
       "   'D:\\\\Users\\\\Chuan\\\\Documents\\\\Database\\\\Karyotypes\\\\Arrangement_Merged\\\\chr_18\\\\183873-del(18)(p11)-14L.bmp',\n",
       "   'D:\\\\Users\\\\Chuan\\\\Documents\\\\Database\\\\Karyotypes\\\\Arrangement_Merged\\\\chr_18\\\\183873-del(18)(p11)-15L.bmp',\n",
       "   'D:\\\\Users\\\\Chuan\\\\Documents\\\\Database\\\\Karyotypes\\\\Arrangement_Merged\\\\chr_18\\\\183873-del(18)(p11)-16L.bmp',\n",
       "   'D:\\\\Users\\\\Chuan\\\\Documents\\\\Database\\\\Karyotypes\\\\Arrangement_Merged\\\\chr_18\\\\183873-del(18)(p11)-18L.bmp',\n",
       "   'D:\\\\Users\\\\Chuan\\\\Documents\\\\Database\\\\Karyotypes\\\\Arrangement_Merged\\\\chr_18\\\\183873-del(18)(p11)-1L.bmp',\n",
       "   'D:\\\\Users\\\\Chuan\\\\Documents\\\\Database\\\\Karyotypes\\\\Arrangement_Merged\\\\chr_18\\\\183873-del(18)(p11)-20L.bmp',\n",
       "   'D:\\\\Users\\\\Chuan\\\\Documents\\\\Database\\\\Karyotypes\\\\Arrangement_Merged\\\\chr_18\\\\183873-del(18)(p11)-22L.bmp',\n",
       "   'D:\\\\Users\\\\Chuan\\\\Documents\\\\Database\\\\Karyotypes\\\\Arrangement_Merged\\\\chr_18\\\\183873-del(18)(p11)-23L.bmp',\n",
       "   'D:\\\\Users\\\\Chuan\\\\Documents\\\\Database\\\\Karyotypes\\\\Arrangement_Merged\\\\chr_18\\\\183873-del(18)(p11)-24L.bmp',\n",
       "   'D:\\\\Users\\\\Chuan\\\\Documents\\\\Database\\\\Karyotypes\\\\Arrangement_Merged\\\\chr_18\\\\183873-del(18)(p11)-25L.bmp',\n",
       "   'D:\\\\Users\\\\Chuan\\\\Documents\\\\Database\\\\Karyotypes\\\\Arrangement_Merged\\\\chr_18\\\\183873-del(18)(p11)-2L.bmp',\n",
       "   'D:\\\\Users\\\\Chuan\\\\Documents\\\\Database\\\\Karyotypes\\\\Arrangement_Merged\\\\chr_18\\\\183873-del(18)(p11)-3L.bmp',\n",
       "   'D:\\\\Users\\\\Chuan\\\\Documents\\\\Database\\\\Karyotypes\\\\Arrangement_Merged\\\\chr_18\\\\183873-del(18)(p11)-4L.bmp',\n",
       "   'D:\\\\Users\\\\Chuan\\\\Documents\\\\Database\\\\Karyotypes\\\\Arrangement_Merged\\\\chr_18\\\\183873-del(18)(p11)-5L.bmp',\n",
       "   'D:\\\\Users\\\\Chuan\\\\Documents\\\\Database\\\\Karyotypes\\\\Arrangement_Merged\\\\chr_18\\\\183873-del(18)(p11)-6L.bmp',\n",
       "   'D:\\\\Users\\\\Chuan\\\\Documents\\\\Database\\\\Karyotypes\\\\Arrangement_Merged\\\\chr_18\\\\183873-del(18)(p11)-7L.bmp',\n",
       "   'D:\\\\Users\\\\Chuan\\\\Documents\\\\Database\\\\Karyotypes\\\\Arrangement_Merged\\\\chr_18\\\\183873-del(18)(p11)-8L.bmp',\n",
       "   'D:\\\\Users\\\\Chuan\\\\Documents\\\\Database\\\\Karyotypes\\\\Arrangement_Merged\\\\chr_18\\\\190325-1.jpg_18L.bmp',\n",
       "   'D:\\\\Users\\\\Chuan\\\\Documents\\\\Database\\\\Karyotypes\\\\Arrangement_Merged\\\\chr_18\\\\190325-10.jpg_18L.bmp',\n",
       "   'D:\\\\Users\\\\Chuan\\\\Documents\\\\Database\\\\Karyotypes\\\\Arrangement_Merged\\\\chr_18\\\\190325-11.jpg_18L.bmp',\n",
       "   'D:\\\\Users\\\\Chuan\\\\Documents\\\\Database\\\\Karyotypes\\\\Arrangement_Merged\\\\chr_18\\\\190325-12.jpg_18L.bmp',\n",
       "   'D:\\\\Users\\\\Chuan\\\\Documents\\\\Database\\\\Karyotypes\\\\Arrangement_Merged\\\\chr_18\\\\190325-13.jpg_18L.bmp',\n",
       "   'D:\\\\Users\\\\Chuan\\\\Documents\\\\Database\\\\Karyotypes\\\\Arrangement_Merged\\\\chr_18\\\\190325-14.jpg_18L.bmp',\n",
       "   'D:\\\\Users\\\\Chuan\\\\Documents\\\\Database\\\\Karyotypes\\\\Arrangement_Merged\\\\chr_18\\\\190325-15.jpg_18L.bmp',\n",
       "   'D:\\\\Users\\\\Chuan\\\\Documents\\\\Database\\\\Karyotypes\\\\Arrangement_Merged\\\\chr_18\\\\190325-16.jpg_18L.bmp',\n",
       "   'D:\\\\Users\\\\Chuan\\\\Documents\\\\Database\\\\Karyotypes\\\\Arrangement_Merged\\\\chr_18\\\\190325-17.jpg_18L.bmp',\n",
       "   'D:\\\\Users\\\\Chuan\\\\Documents\\\\Database\\\\Karyotypes\\\\Arrangement_Merged\\\\chr_18\\\\190325-18.jpg_18L.bmp',\n",
       "   'D:\\\\Users\\\\Chuan\\\\Documents\\\\Database\\\\Karyotypes\\\\Arrangement_Merged\\\\chr_18\\\\190325-19.jpg_18L.bmp',\n",
       "   'D:\\\\Users\\\\Chuan\\\\Documents\\\\Database\\\\Karyotypes\\\\Arrangement_Merged\\\\chr_18\\\\190325-2.jpg_18L.bmp',\n",
       "   'D:\\\\Users\\\\Chuan\\\\Documents\\\\Database\\\\Karyotypes\\\\Arrangement_Merged\\\\chr_18\\\\190325-3.jpg_18L.bmp',\n",
       "   'D:\\\\Users\\\\Chuan\\\\Documents\\\\Database\\\\Karyotypes\\\\Arrangement_Merged\\\\chr_18\\\\190325-4.jpg_18L.bmp',\n",
       "   'D:\\\\Users\\\\Chuan\\\\Documents\\\\Database\\\\Karyotypes\\\\Arrangement_Merged\\\\chr_18\\\\190325-5.jpg_18L.bmp',\n",
       "   'D:\\\\Users\\\\Chuan\\\\Documents\\\\Database\\\\Karyotypes\\\\Arrangement_Merged\\\\chr_18\\\\190325-6.jpg_18L.bmp',\n",
       "   'D:\\\\Users\\\\Chuan\\\\Documents\\\\Database\\\\Karyotypes\\\\Arrangement_Merged\\\\chr_18\\\\190325-7.jpg_18L.bmp',\n",
       "   'D:\\\\Users\\\\Chuan\\\\Documents\\\\Database\\\\Karyotypes\\\\Arrangement_Merged\\\\chr_18\\\\190325-8.jpg_18L.bmp',\n",
       "   'D:\\\\Users\\\\Chuan\\\\Documents\\\\Database\\\\Karyotypes\\\\Arrangement_Merged\\\\chr_18\\\\191225-1.jpg_18L.bmp',\n",
       "   'D:\\\\Users\\\\Chuan\\\\Documents\\\\Database\\\\Karyotypes\\\\Arrangement_Merged\\\\chr_18\\\\191225-10.jpg_18L.bmp',\n",
       "   'D:\\\\Users\\\\Chuan\\\\Documents\\\\Database\\\\Karyotypes\\\\Arrangement_Merged\\\\chr_18\\\\191225-14.jpg_18L.bmp',\n",
       "   'D:\\\\Users\\\\Chuan\\\\Documents\\\\Database\\\\Karyotypes\\\\Arrangement_Merged\\\\chr_18\\\\191225-16.jpg_18L.bmp',\n",
       "   'D:\\\\Users\\\\Chuan\\\\Documents\\\\Database\\\\Karyotypes\\\\Arrangement_Merged\\\\chr_18\\\\191225-17.jpg_18L.bmp',\n",
       "   'D:\\\\Users\\\\Chuan\\\\Documents\\\\Database\\\\Karyotypes\\\\Arrangement_Merged\\\\chr_18\\\\191225-18.jpg_18L.bmp',\n",
       "   'D:\\\\Users\\\\Chuan\\\\Documents\\\\Database\\\\Karyotypes\\\\Arrangement_Merged\\\\chr_18\\\\191225-19.jpg_18L.bmp',\n",
       "   'D:\\\\Users\\\\Chuan\\\\Documents\\\\Database\\\\Karyotypes\\\\Arrangement_Merged\\\\chr_18\\\\191225-20.jpg_18L.bmp',\n",
       "   'D:\\\\Users\\\\Chuan\\\\Documents\\\\Database\\\\Karyotypes\\\\Arrangement_Merged\\\\chr_18\\\\191225-21.jpg_18L.bmp',\n",
       "   'D:\\\\Users\\\\Chuan\\\\Documents\\\\Database\\\\Karyotypes\\\\Arrangement_Merged\\\\chr_18\\\\191225-7.jpg_18L.bmp',\n",
       "   'D:\\\\Users\\\\Chuan\\\\Documents\\\\Database\\\\Karyotypes\\\\Arrangement_Merged\\\\chr_18\\\\191225-8.jpg_18L.bmp',\n",
       "   'D:\\\\Users\\\\Chuan\\\\Documents\\\\Database\\\\Karyotypes\\\\Arrangement_Merged\\\\chr_18\\\\191225-9.jpg_18L.bmp',\n",
       "   'D:\\\\Users\\\\Chuan\\\\Documents\\\\Database\\\\Karyotypes\\\\Arrangement_Merged\\\\chr_18\\\\194161-del(18)(p11)-10L.bmp',\n",
       "   'D:\\\\Users\\\\Chuan\\\\Documents\\\\Database\\\\Karyotypes\\\\Arrangement_Merged\\\\chr_18\\\\194161-del(18)(p11)-11L.bmp',\n",
       "   'D:\\\\Users\\\\Chuan\\\\Documents\\\\Database\\\\Karyotypes\\\\Arrangement_Merged\\\\chr_18\\\\194161-del(18)(p11)-12L.bmp',\n",
       "   'D:\\\\Users\\\\Chuan\\\\Documents\\\\Database\\\\Karyotypes\\\\Arrangement_Merged\\\\chr_18\\\\194161-del(18)(p11)-14L.bmp',\n",
       "   'D:\\\\Users\\\\Chuan\\\\Documents\\\\Database\\\\Karyotypes\\\\Arrangement_Merged\\\\chr_18\\\\194161-del(18)(p11)-15L.bmp',\n",
       "   'D:\\\\Users\\\\Chuan\\\\Documents\\\\Database\\\\Karyotypes\\\\Arrangement_Merged\\\\chr_18\\\\194161-del(18)(p11)-16L.bmp',\n",
       "   'D:\\\\Users\\\\Chuan\\\\Documents\\\\Database\\\\Karyotypes\\\\Arrangement_Merged\\\\chr_18\\\\194161-del(18)(p11)-17L.bmp',\n",
       "   'D:\\\\Users\\\\Chuan\\\\Documents\\\\Database\\\\Karyotypes\\\\Arrangement_Merged\\\\chr_18\\\\194161-del(18)(p11)-18L.bmp',\n",
       "   'D:\\\\Users\\\\Chuan\\\\Documents\\\\Database\\\\Karyotypes\\\\Arrangement_Merged\\\\chr_18\\\\194161-del(18)(p11)-19L.bmp',\n",
       "   'D:\\\\Users\\\\Chuan\\\\Documents\\\\Database\\\\Karyotypes\\\\Arrangement_Merged\\\\chr_18\\\\194161-del(18)(p11)-20L.bmp',\n",
       "   'D:\\\\Users\\\\Chuan\\\\Documents\\\\Database\\\\Karyotypes\\\\Arrangement_Merged\\\\chr_18\\\\194161-del(18)(p11)-21L.bmp',\n",
       "   'D:\\\\Users\\\\Chuan\\\\Documents\\\\Database\\\\Karyotypes\\\\Arrangement_Merged\\\\chr_18\\\\194161-del(18)(p11)-22L.bmp',\n",
       "   'D:\\\\Users\\\\Chuan\\\\Documents\\\\Database\\\\Karyotypes\\\\Arrangement_Merged\\\\chr_18\\\\194161-del(18)(p11)-23L.bmp',\n",
       "   'D:\\\\Users\\\\Chuan\\\\Documents\\\\Database\\\\Karyotypes\\\\Arrangement_Merged\\\\chr_18\\\\194161-del(18)(p11)-24L.bmp',\n",
       "   'D:\\\\Users\\\\Chuan\\\\Documents\\\\Database\\\\Karyotypes\\\\Arrangement_Merged\\\\chr_18\\\\194161-del(18)(p11)-25L.bmp',\n",
       "   'D:\\\\Users\\\\Chuan\\\\Documents\\\\Database\\\\Karyotypes\\\\Arrangement_Merged\\\\chr_18\\\\194161-del(18)(p11)-26L.bmp',\n",
       "   'D:\\\\Users\\\\Chuan\\\\Documents\\\\Database\\\\Karyotypes\\\\Arrangement_Merged\\\\chr_18\\\\194161-del(18)(p11)-27L.bmp',\n",
       "   'D:\\\\Users\\\\Chuan\\\\Documents\\\\Database\\\\Karyotypes\\\\Arrangement_Merged\\\\chr_18\\\\194161-del(18)(p11)-28L.bmp',\n",
       "   'D:\\\\Users\\\\Chuan\\\\Documents\\\\Database\\\\Karyotypes\\\\Arrangement_Merged\\\\chr_18\\\\194161-del(18)(p11)-2L.bmp',\n",
       "   'D:\\\\Users\\\\Chuan\\\\Documents\\\\Database\\\\Karyotypes\\\\Arrangement_Merged\\\\chr_18\\\\194161-del(18)(p11)-30L.bmp',\n",
       "   'D:\\\\Users\\\\Chuan\\\\Documents\\\\Database\\\\Karyotypes\\\\Arrangement_Merged\\\\chr_18\\\\194161-del(18)(p11)-3L.bmp',\n",
       "   'D:\\\\Users\\\\Chuan\\\\Documents\\\\Database\\\\Karyotypes\\\\Arrangement_Merged\\\\chr_18\\\\194161-del(18)(p11)-4L.bmp',\n",
       "   'D:\\\\Users\\\\Chuan\\\\Documents\\\\Database\\\\Karyotypes\\\\Arrangement_Merged\\\\chr_18\\\\194161-del(18)(p11)-6L.bmp',\n",
       "   'D:\\\\Users\\\\Chuan\\\\Documents\\\\Database\\\\Karyotypes\\\\Arrangement_Merged\\\\chr_18\\\\194161-del(18)(p11)-7L.bmp',\n",
       "   'D:\\\\Users\\\\Chuan\\\\Documents\\\\Database\\\\Karyotypes\\\\Arrangement_Merged\\\\chr_18\\\\194161-del(18)(p11)-8L.bmp',\n",
       "   'D:\\\\Users\\\\Chuan\\\\Documents\\\\Database\\\\Karyotypes\\\\Arrangement_Merged\\\\chr_18\\\\194161-del(18)(p11)-9L.bmp',\n",
       "   'D:\\\\Users\\\\Chuan\\\\Documents\\\\Database\\\\Karyotypes\\\\Arrangement_Merged\\\\chr_18\\\\w21000~A.0001.K.jpg.18L.bmp',\n",
       "   'D:\\\\Users\\\\Chuan\\\\Documents\\\\Database\\\\Karyotypes\\\\Arrangement_Merged\\\\chr_18\\\\w21000~A.0001.K.jpg.18R.bmp',\n",
       "   'D:\\\\Users\\\\Chuan\\\\Documents\\\\Database\\\\Karyotypes\\\\Arrangement_Merged\\\\chr_18\\\\w21001~A.0008.K.jpg.18L.bmp',\n",
       "   'D:\\\\Users\\\\Chuan\\\\Documents\\\\Database\\\\Karyotypes\\\\Arrangement_Merged\\\\chr_18\\\\w21001~A.0008.K.jpg.18R.bmp',\n",
       "   'D:\\\\Users\\\\Chuan\\\\Documents\\\\Database\\\\Karyotypes\\\\Arrangement_Merged\\\\chr_18\\\\w21002~A.0024.K.jpg.18L.bmp',\n",
       "   'D:\\\\Users\\\\Chuan\\\\Documents\\\\Database\\\\Karyotypes\\\\Arrangement_Merged\\\\chr_18\\\\w21002~A.0024.K.jpg.18R.bmp',\n",
       "   'D:\\\\Users\\\\Chuan\\\\Documents\\\\Database\\\\Karyotypes\\\\Arrangement_Merged\\\\chr_18\\\\w21008~A.0008.K.jpg.18L.bmp',\n",
       "   'D:\\\\Users\\\\Chuan\\\\Documents\\\\Database\\\\Karyotypes\\\\Arrangement_Merged\\\\chr_18\\\\w21008~A.0008.K.jpg.18R.bmp',\n",
       "   'D:\\\\Users\\\\Chuan\\\\Documents\\\\Database\\\\Karyotypes\\\\Arrangement_Merged\\\\chr_18\\\\W21011~A.0008.K.18L.bmp',\n",
       "   'D:\\\\Users\\\\Chuan\\\\Documents\\\\Database\\\\Karyotypes\\\\Arrangement_Merged\\\\chr_18\\\\W21012~A.0019.K.18L.bmp',\n",
       "   'D:\\\\Users\\\\Chuan\\\\Documents\\\\Database\\\\Karyotypes\\\\Arrangement_Merged\\\\chr_18\\\\W21012~A.0019.K.18R.bmp',\n",
       "   'D:\\\\Users\\\\Chuan\\\\Documents\\\\Database\\\\Karyotypes\\\\Arrangement_Merged\\\\chr_18\\\\W21014~A.0005.K.18L.bmp',\n",
       "   'D:\\\\Users\\\\Chuan\\\\Documents\\\\Database\\\\Karyotypes\\\\Arrangement_Merged\\\\chr_18\\\\W21014~A.0005.K.18R.bmp',\n",
       "   'D:\\\\Users\\\\Chuan\\\\Documents\\\\Database\\\\Karyotypes\\\\Arrangement_Merged\\\\chr_18\\\\W21022~A.0007.K.jpg.18L.bmp',\n",
       "   'D:\\\\Users\\\\Chuan\\\\Documents\\\\Database\\\\Karyotypes\\\\Arrangement_Merged\\\\chr_18\\\\W21022~A.0007.K.jpg.18R.bmp',\n",
       "   'D:\\\\Users\\\\Chuan\\\\Documents\\\\Database\\\\Karyotypes\\\\Arrangement_Merged\\\\chr_18\\\\W21025~A.0002.K.jpg.18L.bmp',\n",
       "   'D:\\\\Users\\\\Chuan\\\\Documents\\\\Database\\\\Karyotypes\\\\Arrangement_Merged\\\\chr_18\\\\W21025~A.0002.K.jpg.18R.bmp',\n",
       "   'D:\\\\Users\\\\Chuan\\\\Documents\\\\Database\\\\Karyotypes\\\\Arrangement_Merged\\\\chr_18\\\\W21027~A.0003.K.18L.bmp',\n",
       "   'D:\\\\Users\\\\Chuan\\\\Documents\\\\Database\\\\Karyotypes\\\\Arrangement_Merged\\\\chr_18\\\\W21027~A.0003.K.18R.bmp',\n",
       "   'D:\\\\Users\\\\Chuan\\\\Documents\\\\Database\\\\Karyotypes\\\\Arrangement_Merged\\\\chr_18\\\\W21486~A.0020.K.bmp.18L.bmp',\n",
       "   'D:\\\\Users\\\\Chuan\\\\Documents\\\\Database\\\\Karyotypes\\\\Arrangement_Merged\\\\chr_18\\\\W21486~A.0020.K.bmp.18R.bmp',\n",
       "   'D:\\\\Users\\\\Chuan\\\\Documents\\\\Database\\\\Karyotypes\\\\Arrangement_Merged\\\\chr_18\\\\W21570~A.0001.K.jpg.18L.bmp',\n",
       "   'D:\\\\Users\\\\Chuan\\\\Documents\\\\Database\\\\Karyotypes\\\\Arrangement_Merged\\\\chr_18\\\\W21570~A.0001.K.jpg.18R.bmp',\n",
       "   'D:\\\\Users\\\\Chuan\\\\Documents\\\\Database\\\\Karyotypes\\\\Arrangement_Merged\\\\chr_18\\\\W21576~A.0010.K.jpg.18L.bmp',\n",
       "   'D:\\\\Users\\\\Chuan\\\\Documents\\\\Database\\\\Karyotypes\\\\Arrangement_Merged\\\\chr_18\\\\W21587~A.0008.K.jpg.18R.bmp',\n",
       "   'D:\\\\Users\\\\Chuan\\\\Documents\\\\Database\\\\Karyotypes\\\\Arrangement_Merged\\\\chr_18\\\\W21587~A.0010.K.jpg.18L.bmp',\n",
       "   'D:\\\\Users\\\\Chuan\\\\Documents\\\\Database\\\\Karyotypes\\\\Arrangement_Merged\\\\chr_18\\\\W21588~A.0001.K.jpg.18L.bmp',\n",
       "   'D:\\\\Users\\\\Chuan\\\\Documents\\\\Database\\\\Karyotypes\\\\Arrangement_Merged\\\\chr_18\\\\W21890~A.0005.K.jpg.18R.bmp',\n",
       "   'D:\\\\Users\\\\Chuan\\\\Documents\\\\Database\\\\Karyotypes\\\\Arrangement_Merged\\\\chr_18\\\\W21894~A.0009.K.jpg.18R.bmp',\n",
       "   'D:\\\\Users\\\\Chuan\\\\Documents\\\\Database\\\\Karyotypes\\\\Arrangement_Merged\\\\chr_18\\\\W21902~A.0010.K.jpg.18R.bmp',\n",
       "   'D:\\\\Users\\\\Chuan\\\\Documents\\\\Database\\\\Karyotypes\\\\Arrangement_Merged\\\\chr_18\\\\W21905~A.0007.K.jpg.18L.bmp',\n",
       "   'D:\\\\Users\\\\Chuan\\\\Documents\\\\Database\\\\Karyotypes\\\\Arrangement_Merged\\\\chr_18\\\\W21905~A.0007.K.jpg.18R.bmp',\n",
       "   'D:\\\\Users\\\\Chuan\\\\Documents\\\\Database\\\\Karyotypes\\\\Arrangement_Merged\\\\chr_18\\\\W21906~A.0011.K.jpg.18L.bmp',\n",
       "   'D:\\\\Users\\\\Chuan\\\\Documents\\\\Database\\\\Karyotypes\\\\Arrangement_Merged\\\\chr_18\\\\W21906~A.0011.K.jpg.18R.bmp',\n",
       "   'D:\\\\Users\\\\Chuan\\\\Documents\\\\Database\\\\Karyotypes\\\\Arrangement_Merged\\\\chr_18\\\\w22038~A.0017.K.jpg.18L.bmp',\n",
       "   'D:\\\\Users\\\\Chuan\\\\Documents\\\\Database\\\\Karyotypes\\\\Arrangement_Merged\\\\chr_18\\\\w22292~A.0027.K.jpg.18L.bmp',\n",
       "   'D:\\\\Users\\\\Chuan\\\\Documents\\\\Database\\\\Karyotypes\\\\Arrangement_Merged\\\\chr_18\\\\w22292~A.0027.K.jpg.18R.bmp',\n",
       "   'D:\\\\Users\\\\Chuan\\\\Documents\\\\Database\\\\Karyotypes\\\\Arrangement_Merged\\\\chr_18\\\\W22455~A.0002.K.jpg.18L.bmp',\n",
       "   'D:\\\\Users\\\\Chuan\\\\Documents\\\\Database\\\\Karyotypes\\\\Arrangement_Merged\\\\chr_18\\\\W22455~A.0002.K.jpg.18R.bmp',\n",
       "   'D:\\\\Users\\\\Chuan\\\\Documents\\\\Database\\\\Karyotypes\\\\Arrangement_Merged\\\\chr_18\\\\W22666-1.0002.K.jpg.18L.bmp',\n",
       "   'D:\\\\Users\\\\Chuan\\\\Documents\\\\Database\\\\Karyotypes\\\\Arrangement_Merged\\\\chr_18\\\\W22666-1.0002.K.jpg.18R.bmp',\n",
       "   'D:\\\\Users\\\\Chuan\\\\Documents\\\\Database\\\\Karyotypes\\\\Arrangement_Merged\\\\chr_18\\\\W22670~A.0006.K.jpg.18L.bmp',\n",
       "   'D:\\\\Users\\\\Chuan\\\\Documents\\\\Database\\\\Karyotypes\\\\Arrangement_Merged\\\\chr_18\\\\W22670~A.0006.K.jpg.18R.bmp',\n",
       "   'D:\\\\Users\\\\Chuan\\\\Documents\\\\Database\\\\Karyotypes\\\\Arrangement_Merged\\\\chr_18\\\\W22672~A.0004.K.jpg.18L.bmp',\n",
       "   'D:\\\\Users\\\\Chuan\\\\Documents\\\\Database\\\\Karyotypes\\\\Arrangement_Merged\\\\chr_18\\\\W22672~A.0004.K.jpg.18R.bmp',\n",
       "   'D:\\\\Users\\\\Chuan\\\\Documents\\\\Database\\\\Karyotypes\\\\Arrangement_Merged\\\\chr_18\\\\w22881~A.0017.K.jpg.18L.bmp',\n",
       "   'D:\\\\Users\\\\Chuan\\\\Documents\\\\Database\\\\Karyotypes\\\\Arrangement_Merged\\\\chr_18\\\\w22881~A.0017.K.jpg.18R.bmp',\n",
       "   'D:\\\\Users\\\\Chuan\\\\Documents\\\\Database\\\\Karyotypes\\\\Arrangement_Merged\\\\chr_18\\\\W23070~A.0001.K.jpg.18L.bmp',\n",
       "   'D:\\\\Users\\\\Chuan\\\\Documents\\\\Database\\\\Karyotypes\\\\Arrangement_Merged\\\\chr_18\\\\W23070~A.0001.K.jpg.18R.bmp',\n",
       "   'D:\\\\Users\\\\Chuan\\\\Documents\\\\Database\\\\Karyotypes\\\\Arrangement_Merged\\\\chr_18\\\\W23075-1~A.0017.K.jpg.18L.bmp',\n",
       "   'D:\\\\Users\\\\Chuan\\\\Documents\\\\Database\\\\Karyotypes\\\\Arrangement_Merged\\\\chr_18\\\\W23075-1~A.0017.K.jpg.18R.bmp',\n",
       "   'D:\\\\Users\\\\Chuan\\\\Documents\\\\Database\\\\Karyotypes\\\\Arrangement_Merged\\\\chr_18\\\\W23082.0026.K.jpg.18R.bmp',\n",
       "   'D:\\\\Users\\\\Chuan\\\\Documents\\\\Database\\\\Karyotypes\\\\Arrangement_Merged\\\\chr_18\\\\W23084~A.0003.K.jp.18L.bmp',\n",
       "   'D:\\\\Users\\\\Chuan\\\\Documents\\\\Database\\\\Karyotypes\\\\Arrangement_Merged\\\\chr_18\\\\W23084~A.0003.K.jp.18R.bmp']},\n",
       " 'chr_18_p11_deletion': {'0': ['D:\\\\Users\\\\Chuan\\\\Documents\\\\Database\\\\Karyotypes\\\\Arrangement_Merged\\\\chr_18_p11_deletion\\\\183873-del(18)(p11)-10R.bmp',\n",
       "   'D:\\\\Users\\\\Chuan\\\\Documents\\\\Database\\\\Karyotypes\\\\Arrangement_Merged\\\\chr_18_p11_deletion\\\\183873-del(18)(p11)-11R.bmp',\n",
       "   'D:\\\\Users\\\\Chuan\\\\Documents\\\\Database\\\\Karyotypes\\\\Arrangement_Merged\\\\chr_18_p11_deletion\\\\183873-del(18)(p11)-13R.bmp',\n",
       "   'D:\\\\Users\\\\Chuan\\\\Documents\\\\Database\\\\Karyotypes\\\\Arrangement_Merged\\\\chr_18_p11_deletion\\\\183873-del(18)(p11)-14R.bmp',\n",
       "   'D:\\\\Users\\\\Chuan\\\\Documents\\\\Database\\\\Karyotypes\\\\Arrangement_Merged\\\\chr_18_p11_deletion\\\\183873-del(18)(p11)-15R.bmp',\n",
       "   'D:\\\\Users\\\\Chuan\\\\Documents\\\\Database\\\\Karyotypes\\\\Arrangement_Merged\\\\chr_18_p11_deletion\\\\183873-del(18)(p11)-16R.bmp',\n",
       "   'D:\\\\Users\\\\Chuan\\\\Documents\\\\Database\\\\Karyotypes\\\\Arrangement_Merged\\\\chr_18_p11_deletion\\\\183873-del(18)(p11)-17R.bmp',\n",
       "   'D:\\\\Users\\\\Chuan\\\\Documents\\\\Database\\\\Karyotypes\\\\Arrangement_Merged\\\\chr_18_p11_deletion\\\\183873-del(18)(p11)-18R.bmp',\n",
       "   'D:\\\\Users\\\\Chuan\\\\Documents\\\\Database\\\\Karyotypes\\\\Arrangement_Merged\\\\chr_18_p11_deletion\\\\183873-del(18)(p11)-19R.bmp',\n",
       "   'D:\\\\Users\\\\Chuan\\\\Documents\\\\Database\\\\Karyotypes\\\\Arrangement_Merged\\\\chr_18_p11_deletion\\\\183873-del(18)(p11)-20R.bmp',\n",
       "   'D:\\\\Users\\\\Chuan\\\\Documents\\\\Database\\\\Karyotypes\\\\Arrangement_Merged\\\\chr_18_p11_deletion\\\\183873-del(18)(p11)-21R.bmp',\n",
       "   'D:\\\\Users\\\\Chuan\\\\Documents\\\\Database\\\\Karyotypes\\\\Arrangement_Merged\\\\chr_18_p11_deletion\\\\183873-del(18)(p11)-22R.bmp',\n",
       "   'D:\\\\Users\\\\Chuan\\\\Documents\\\\Database\\\\Karyotypes\\\\Arrangement_Merged\\\\chr_18_p11_deletion\\\\183873-del(18)(p11)-23R.bmp',\n",
       "   'D:\\\\Users\\\\Chuan\\\\Documents\\\\Database\\\\Karyotypes\\\\Arrangement_Merged\\\\chr_18_p11_deletion\\\\183873-del(18)(p11)-24R.bmp',\n",
       "   'D:\\\\Users\\\\Chuan\\\\Documents\\\\Database\\\\Karyotypes\\\\Arrangement_Merged\\\\chr_18_p11_deletion\\\\183873-del(18)(p11)-25R.bmp',\n",
       "   'D:\\\\Users\\\\Chuan\\\\Documents\\\\Database\\\\Karyotypes\\\\Arrangement_Merged\\\\chr_18_p11_deletion\\\\183873-del(18)(p11)-2R.bmp',\n",
       "   'D:\\\\Users\\\\Chuan\\\\Documents\\\\Database\\\\Karyotypes\\\\Arrangement_Merged\\\\chr_18_p11_deletion\\\\183873-del(18)(p11)-3R.bmp',\n",
       "   'D:\\\\Users\\\\Chuan\\\\Documents\\\\Database\\\\Karyotypes\\\\Arrangement_Merged\\\\chr_18_p11_deletion\\\\183873-del(18)(p11)-5R.bmp',\n",
       "   'D:\\\\Users\\\\Chuan\\\\Documents\\\\Database\\\\Karyotypes\\\\Arrangement_Merged\\\\chr_18_p11_deletion\\\\183873-del(18)(p11)-6R.bmp',\n",
       "   'D:\\\\Users\\\\Chuan\\\\Documents\\\\Database\\\\Karyotypes\\\\Arrangement_Merged\\\\chr_18_p11_deletion\\\\183873-del(18)(p11)-7R.bmp',\n",
       "   'D:\\\\Users\\\\Chuan\\\\Documents\\\\Database\\\\Karyotypes\\\\Arrangement_Merged\\\\chr_18_p11_deletion\\\\183873-del(18)(p11)-8R.bmp',\n",
       "   'D:\\\\Users\\\\Chuan\\\\Documents\\\\Database\\\\Karyotypes\\\\Arrangement_Merged\\\\chr_18_p11_deletion\\\\183873-del(18)(p11)-9R.bmp',\n",
       "   'D:\\\\Users\\\\Chuan\\\\Documents\\\\Database\\\\Karyotypes\\\\Arrangement_Merged\\\\chr_18_p11_deletion\\\\190325-1.jpg_18p11.bmp',\n",
       "   'D:\\\\Users\\\\Chuan\\\\Documents\\\\Database\\\\Karyotypes\\\\Arrangement_Merged\\\\chr_18_p11_deletion\\\\190325-12.jpg_18p11.bmp',\n",
       "   'D:\\\\Users\\\\Chuan\\\\Documents\\\\Database\\\\Karyotypes\\\\Arrangement_Merged\\\\chr_18_p11_deletion\\\\190325-13.jpg_18p11.bmp',\n",
       "   'D:\\\\Users\\\\Chuan\\\\Documents\\\\Database\\\\Karyotypes\\\\Arrangement_Merged\\\\chr_18_p11_deletion\\\\190325-14.jpg_18p11.bmp',\n",
       "   'D:\\\\Users\\\\Chuan\\\\Documents\\\\Database\\\\Karyotypes\\\\Arrangement_Merged\\\\chr_18_p11_deletion\\\\190325-15.jpg_18p11.bmp',\n",
       "   'D:\\\\Users\\\\Chuan\\\\Documents\\\\Database\\\\Karyotypes\\\\Arrangement_Merged\\\\chr_18_p11_deletion\\\\190325-16.jpg_18p11.bmp',\n",
       "   'D:\\\\Users\\\\Chuan\\\\Documents\\\\Database\\\\Karyotypes\\\\Arrangement_Merged\\\\chr_18_p11_deletion\\\\190325-19.jpg_18del_p11.bmp',\n",
       "   'D:\\\\Users\\\\Chuan\\\\Documents\\\\Database\\\\Karyotypes\\\\Arrangement_Merged\\\\chr_18_p11_deletion\\\\190325-2.jpg_18p11.bmp',\n",
       "   'D:\\\\Users\\\\Chuan\\\\Documents\\\\Database\\\\Karyotypes\\\\Arrangement_Merged\\\\chr_18_p11_deletion\\\\190325-20.jpg.18del_p11.bmp',\n",
       "   'D:\\\\Users\\\\Chuan\\\\Documents\\\\Database\\\\Karyotypes\\\\Arrangement_Merged\\\\chr_18_p11_deletion\\\\190325-3.jpg_18p11.bmp',\n",
       "   'D:\\\\Users\\\\Chuan\\\\Documents\\\\Database\\\\Karyotypes\\\\Arrangement_Merged\\\\chr_18_p11_deletion\\\\190325-4.jpg_18p11.bmp',\n",
       "   'D:\\\\Users\\\\Chuan\\\\Documents\\\\Database\\\\Karyotypes\\\\Arrangement_Merged\\\\chr_18_p11_deletion\\\\190325-6.jpg_18p11.bmp',\n",
       "   'D:\\\\Users\\\\Chuan\\\\Documents\\\\Database\\\\Karyotypes\\\\Arrangement_Merged\\\\chr_18_p11_deletion\\\\190325-7.jpg_18p11.bmp',\n",
       "   'D:\\\\Users\\\\Chuan\\\\Documents\\\\Database\\\\Karyotypes\\\\Arrangement_Merged\\\\chr_18_p11_deletion\\\\190325-8.jpg_18p11.bmp',\n",
       "   'D:\\\\Users\\\\Chuan\\\\Documents\\\\Database\\\\Karyotypes\\\\Arrangement_Merged\\\\chr_18_p11_deletion\\\\194161-del(18)(p11)-10R.bmp',\n",
       "   'D:\\\\Users\\\\Chuan\\\\Documents\\\\Database\\\\Karyotypes\\\\Arrangement_Merged\\\\chr_18_p11_deletion\\\\194161-del(18)(p11)-11R.bmp',\n",
       "   'D:\\\\Users\\\\Chuan\\\\Documents\\\\Database\\\\Karyotypes\\\\Arrangement_Merged\\\\chr_18_p11_deletion\\\\194161-del(18)(p11)-13R.bmp',\n",
       "   'D:\\\\Users\\\\Chuan\\\\Documents\\\\Database\\\\Karyotypes\\\\Arrangement_Merged\\\\chr_18_p11_deletion\\\\194161-del(18)(p11)-14R.bmp',\n",
       "   'D:\\\\Users\\\\Chuan\\\\Documents\\\\Database\\\\Karyotypes\\\\Arrangement_Merged\\\\chr_18_p11_deletion\\\\194161-del(18)(p11)-15R.bmp',\n",
       "   'D:\\\\Users\\\\Chuan\\\\Documents\\\\Database\\\\Karyotypes\\\\Arrangement_Merged\\\\chr_18_p11_deletion\\\\194161-del(18)(p11)-16R.bmp',\n",
       "   'D:\\\\Users\\\\Chuan\\\\Documents\\\\Database\\\\Karyotypes\\\\Arrangement_Merged\\\\chr_18_p11_deletion\\\\194161-del(18)(p11)-17R.bmp',\n",
       "   'D:\\\\Users\\\\Chuan\\\\Documents\\\\Database\\\\Karyotypes\\\\Arrangement_Merged\\\\chr_18_p11_deletion\\\\194161-del(18)(p11)-20R.bmp',\n",
       "   'D:\\\\Users\\\\Chuan\\\\Documents\\\\Database\\\\Karyotypes\\\\Arrangement_Merged\\\\chr_18_p11_deletion\\\\194161-del(18)(p11)-21R.bmp',\n",
       "   'D:\\\\Users\\\\Chuan\\\\Documents\\\\Database\\\\Karyotypes\\\\Arrangement_Merged\\\\chr_18_p11_deletion\\\\194161-del(18)(p11)-22R.bmp',\n",
       "   'D:\\\\Users\\\\Chuan\\\\Documents\\\\Database\\\\Karyotypes\\\\Arrangement_Merged\\\\chr_18_p11_deletion\\\\194161-del(18)(p11)-23R.bmp',\n",
       "   'D:\\\\Users\\\\Chuan\\\\Documents\\\\Database\\\\Karyotypes\\\\Arrangement_Merged\\\\chr_18_p11_deletion\\\\194161-del(18)(p11)-25R.bmp',\n",
       "   'D:\\\\Users\\\\Chuan\\\\Documents\\\\Database\\\\Karyotypes\\\\Arrangement_Merged\\\\chr_18_p11_deletion\\\\194161-del(18)(p11)-26R.bmp',\n",
       "   'D:\\\\Users\\\\Chuan\\\\Documents\\\\Database\\\\Karyotypes\\\\Arrangement_Merged\\\\chr_18_p11_deletion\\\\194161-del(18)(p11)-27R.bmp',\n",
       "   'D:\\\\Users\\\\Chuan\\\\Documents\\\\Database\\\\Karyotypes\\\\Arrangement_Merged\\\\chr_18_p11_deletion\\\\194161-del(18)(p11)-28R.bmp',\n",
       "   'D:\\\\Users\\\\Chuan\\\\Documents\\\\Database\\\\Karyotypes\\\\Arrangement_Merged\\\\chr_18_p11_deletion\\\\194161-del(18)(p11)-29R.bmp',\n",
       "   'D:\\\\Users\\\\Chuan\\\\Documents\\\\Database\\\\Karyotypes\\\\Arrangement_Merged\\\\chr_18_p11_deletion\\\\194161-del(18)(p11)-2R.bmp',\n",
       "   'D:\\\\Users\\\\Chuan\\\\Documents\\\\Database\\\\Karyotypes\\\\Arrangement_Merged\\\\chr_18_p11_deletion\\\\194161-del(18)(p11)-30R.bmp',\n",
       "   'D:\\\\Users\\\\Chuan\\\\Documents\\\\Database\\\\Karyotypes\\\\Arrangement_Merged\\\\chr_18_p11_deletion\\\\194161-del(18)(p11)-3R.bmp',\n",
       "   'D:\\\\Users\\\\Chuan\\\\Documents\\\\Database\\\\Karyotypes\\\\Arrangement_Merged\\\\chr_18_p11_deletion\\\\194161-del(18)(p11)-4R.bmp',\n",
       "   'D:\\\\Users\\\\Chuan\\\\Documents\\\\Database\\\\Karyotypes\\\\Arrangement_Merged\\\\chr_18_p11_deletion\\\\194161-del(18)(p11)-6R.bmp',\n",
       "   'D:\\\\Users\\\\Chuan\\\\Documents\\\\Database\\\\Karyotypes\\\\Arrangement_Merged\\\\chr_18_p11_deletion\\\\194161-del(18)(p11)-7R.bmp',\n",
       "   'D:\\\\Users\\\\Chuan\\\\Documents\\\\Database\\\\Karyotypes\\\\Arrangement_Merged\\\\chr_18_p11_deletion\\\\194161-del(18)(p11)-8R.bmp',\n",
       "   'D:\\\\Users\\\\Chuan\\\\Documents\\\\Database\\\\Karyotypes\\\\Arrangement_Merged\\\\chr_18_p11_deletion\\\\194161-del(18)(p11)-9R.bmp'],\n",
       "  '1': ['D:\\\\Users\\\\Chuan\\\\Documents\\\\Database\\\\Karyotypes\\\\Arrangement_Merged\\\\chr_18_p11_deletion\\\\183873-del(18)(p11)-10R.bmp',\n",
       "   'D:\\\\Users\\\\Chuan\\\\Documents\\\\Database\\\\Karyotypes\\\\Arrangement_Merged\\\\chr_18_p11_deletion\\\\183873-del(18)(p11)-11R.bmp',\n",
       "   'D:\\\\Users\\\\Chuan\\\\Documents\\\\Database\\\\Karyotypes\\\\Arrangement_Merged\\\\chr_18_p11_deletion\\\\183873-del(18)(p11)-12R.bmp',\n",
       "   'D:\\\\Users\\\\Chuan\\\\Documents\\\\Database\\\\Karyotypes\\\\Arrangement_Merged\\\\chr_18_p11_deletion\\\\183873-del(18)(p11)-13R.bmp',\n",
       "   'D:\\\\Users\\\\Chuan\\\\Documents\\\\Database\\\\Karyotypes\\\\Arrangement_Merged\\\\chr_18_p11_deletion\\\\183873-del(18)(p11)-14R.bmp',\n",
       "   'D:\\\\Users\\\\Chuan\\\\Documents\\\\Database\\\\Karyotypes\\\\Arrangement_Merged\\\\chr_18_p11_deletion\\\\183873-del(18)(p11)-15R.bmp',\n",
       "   'D:\\\\Users\\\\Chuan\\\\Documents\\\\Database\\\\Karyotypes\\\\Arrangement_Merged\\\\chr_18_p11_deletion\\\\183873-del(18)(p11)-16R.bmp',\n",
       "   'D:\\\\Users\\\\Chuan\\\\Documents\\\\Database\\\\Karyotypes\\\\Arrangement_Merged\\\\chr_18_p11_deletion\\\\183873-del(18)(p11)-17R.bmp',\n",
       "   'D:\\\\Users\\\\Chuan\\\\Documents\\\\Database\\\\Karyotypes\\\\Arrangement_Merged\\\\chr_18_p11_deletion\\\\183873-del(18)(p11)-18R.bmp',\n",
       "   'D:\\\\Users\\\\Chuan\\\\Documents\\\\Database\\\\Karyotypes\\\\Arrangement_Merged\\\\chr_18_p11_deletion\\\\183873-del(18)(p11)-19R.bmp',\n",
       "   'D:\\\\Users\\\\Chuan\\\\Documents\\\\Database\\\\Karyotypes\\\\Arrangement_Merged\\\\chr_18_p11_deletion\\\\183873-del(18)(p11)-1R.bmp',\n",
       "   'D:\\\\Users\\\\Chuan\\\\Documents\\\\Database\\\\Karyotypes\\\\Arrangement_Merged\\\\chr_18_p11_deletion\\\\183873-del(18)(p11)-20R.bmp',\n",
       "   'D:\\\\Users\\\\Chuan\\\\Documents\\\\Database\\\\Karyotypes\\\\Arrangement_Merged\\\\chr_18_p11_deletion\\\\183873-del(18)(p11)-21R.bmp',\n",
       "   'D:\\\\Users\\\\Chuan\\\\Documents\\\\Database\\\\Karyotypes\\\\Arrangement_Merged\\\\chr_18_p11_deletion\\\\183873-del(18)(p11)-22R.bmp',\n",
       "   'D:\\\\Users\\\\Chuan\\\\Documents\\\\Database\\\\Karyotypes\\\\Arrangement_Merged\\\\chr_18_p11_deletion\\\\183873-del(18)(p11)-23R.bmp',\n",
       "   'D:\\\\Users\\\\Chuan\\\\Documents\\\\Database\\\\Karyotypes\\\\Arrangement_Merged\\\\chr_18_p11_deletion\\\\183873-del(18)(p11)-25R.bmp',\n",
       "   'D:\\\\Users\\\\Chuan\\\\Documents\\\\Database\\\\Karyotypes\\\\Arrangement_Merged\\\\chr_18_p11_deletion\\\\183873-del(18)(p11)-2R.bmp',\n",
       "   'D:\\\\Users\\\\Chuan\\\\Documents\\\\Database\\\\Karyotypes\\\\Arrangement_Merged\\\\chr_18_p11_deletion\\\\183873-del(18)(p11)-3R.bmp',\n",
       "   'D:\\\\Users\\\\Chuan\\\\Documents\\\\Database\\\\Karyotypes\\\\Arrangement_Merged\\\\chr_18_p11_deletion\\\\183873-del(18)(p11)-4R.bmp',\n",
       "   'D:\\\\Users\\\\Chuan\\\\Documents\\\\Database\\\\Karyotypes\\\\Arrangement_Merged\\\\chr_18_p11_deletion\\\\183873-del(18)(p11)-5R.bmp',\n",
       "   'D:\\\\Users\\\\Chuan\\\\Documents\\\\Database\\\\Karyotypes\\\\Arrangement_Merged\\\\chr_18_p11_deletion\\\\183873-del(18)(p11)-7R.bmp',\n",
       "   'D:\\\\Users\\\\Chuan\\\\Documents\\\\Database\\\\Karyotypes\\\\Arrangement_Merged\\\\chr_18_p11_deletion\\\\183873-del(18)(p11)-8R.bmp',\n",
       "   'D:\\\\Users\\\\Chuan\\\\Documents\\\\Database\\\\Karyotypes\\\\Arrangement_Merged\\\\chr_18_p11_deletion\\\\183873-del(18)(p11)-9R.bmp',\n",
       "   'D:\\\\Users\\\\Chuan\\\\Documents\\\\Database\\\\Karyotypes\\\\Arrangement_Merged\\\\chr_18_p11_deletion\\\\190325-1.jpg_18p11.bmp',\n",
       "   'D:\\\\Users\\\\Chuan\\\\Documents\\\\Database\\\\Karyotypes\\\\Arrangement_Merged\\\\chr_18_p11_deletion\\\\190325-10.jpg_18p11.bmp',\n",
       "   'D:\\\\Users\\\\Chuan\\\\Documents\\\\Database\\\\Karyotypes\\\\Arrangement_Merged\\\\chr_18_p11_deletion\\\\190325-11.jpg_18p11.bmp',\n",
       "   'D:\\\\Users\\\\Chuan\\\\Documents\\\\Database\\\\Karyotypes\\\\Arrangement_Merged\\\\chr_18_p11_deletion\\\\190325-12.jpg_18p11.bmp',\n",
       "   'D:\\\\Users\\\\Chuan\\\\Documents\\\\Database\\\\Karyotypes\\\\Arrangement_Merged\\\\chr_18_p11_deletion\\\\190325-13.jpg_18p11.bmp',\n",
       "   'D:\\\\Users\\\\Chuan\\\\Documents\\\\Database\\\\Karyotypes\\\\Arrangement_Merged\\\\chr_18_p11_deletion\\\\190325-14.jpg_18p11.bmp',\n",
       "   'D:\\\\Users\\\\Chuan\\\\Documents\\\\Database\\\\Karyotypes\\\\Arrangement_Merged\\\\chr_18_p11_deletion\\\\190325-16.jpg_18p11.bmp',\n",
       "   'D:\\\\Users\\\\Chuan\\\\Documents\\\\Database\\\\Karyotypes\\\\Arrangement_Merged\\\\chr_18_p11_deletion\\\\190325-17.jpg_18p11.bmp',\n",
       "   'D:\\\\Users\\\\Chuan\\\\Documents\\\\Database\\\\Karyotypes\\\\Arrangement_Merged\\\\chr_18_p11_deletion\\\\190325-18.jpg_18p11.bmp',\n",
       "   'D:\\\\Users\\\\Chuan\\\\Documents\\\\Database\\\\Karyotypes\\\\Arrangement_Merged\\\\chr_18_p11_deletion\\\\190325-20.jpg.18del_p11.bmp',\n",
       "   'D:\\\\Users\\\\Chuan\\\\Documents\\\\Database\\\\Karyotypes\\\\Arrangement_Merged\\\\chr_18_p11_deletion\\\\190325-5.jpg_18p11.bmp',\n",
       "   'D:\\\\Users\\\\Chuan\\\\Documents\\\\Database\\\\Karyotypes\\\\Arrangement_Merged\\\\chr_18_p11_deletion\\\\190325-6.jpg_18p11.bmp',\n",
       "   'D:\\\\Users\\\\Chuan\\\\Documents\\\\Database\\\\Karyotypes\\\\Arrangement_Merged\\\\chr_18_p11_deletion\\\\190325-7.jpg_18p11.bmp',\n",
       "   'D:\\\\Users\\\\Chuan\\\\Documents\\\\Database\\\\Karyotypes\\\\Arrangement_Merged\\\\chr_18_p11_deletion\\\\190325-9.jpg_18p11.bmp',\n",
       "   'D:\\\\Users\\\\Chuan\\\\Documents\\\\Database\\\\Karyotypes\\\\Arrangement_Merged\\\\chr_18_p11_deletion\\\\194161-del(18)(p11)-10R.bmp',\n",
       "   'D:\\\\Users\\\\Chuan\\\\Documents\\\\Database\\\\Karyotypes\\\\Arrangement_Merged\\\\chr_18_p11_deletion\\\\194161-del(18)(p11)-11R.bmp',\n",
       "   'D:\\\\Users\\\\Chuan\\\\Documents\\\\Database\\\\Karyotypes\\\\Arrangement_Merged\\\\chr_18_p11_deletion\\\\194161-del(18)(p11)-12R.bmp',\n",
       "   'D:\\\\Users\\\\Chuan\\\\Documents\\\\Database\\\\Karyotypes\\\\Arrangement_Merged\\\\chr_18_p11_deletion\\\\194161-del(18)(p11)-13R.bmp',\n",
       "   'D:\\\\Users\\\\Chuan\\\\Documents\\\\Database\\\\Karyotypes\\\\Arrangement_Merged\\\\chr_18_p11_deletion\\\\194161-del(18)(p11)-14R.bmp',\n",
       "   'D:\\\\Users\\\\Chuan\\\\Documents\\\\Database\\\\Karyotypes\\\\Arrangement_Merged\\\\chr_18_p11_deletion\\\\194161-del(18)(p11)-15R.bmp',\n",
       "   'D:\\\\Users\\\\Chuan\\\\Documents\\\\Database\\\\Karyotypes\\\\Arrangement_Merged\\\\chr_18_p11_deletion\\\\194161-del(18)(p11)-16R.bmp',\n",
       "   'D:\\\\Users\\\\Chuan\\\\Documents\\\\Database\\\\Karyotypes\\\\Arrangement_Merged\\\\chr_18_p11_deletion\\\\194161-del(18)(p11)-18R.bmp',\n",
       "   'D:\\\\Users\\\\Chuan\\\\Documents\\\\Database\\\\Karyotypes\\\\Arrangement_Merged\\\\chr_18_p11_deletion\\\\194161-del(18)(p11)-19R.bmp',\n",
       "   'D:\\\\Users\\\\Chuan\\\\Documents\\\\Database\\\\Karyotypes\\\\Arrangement_Merged\\\\chr_18_p11_deletion\\\\194161-del(18)(p11)-1R.bmp',\n",
       "   'D:\\\\Users\\\\Chuan\\\\Documents\\\\Database\\\\Karyotypes\\\\Arrangement_Merged\\\\chr_18_p11_deletion\\\\194161-del(18)(p11)-21R.bmp',\n",
       "   'D:\\\\Users\\\\Chuan\\\\Documents\\\\Database\\\\Karyotypes\\\\Arrangement_Merged\\\\chr_18_p11_deletion\\\\194161-del(18)(p11)-24R.bmp',\n",
       "   'D:\\\\Users\\\\Chuan\\\\Documents\\\\Database\\\\Karyotypes\\\\Arrangement_Merged\\\\chr_18_p11_deletion\\\\194161-del(18)(p11)-25R.bmp',\n",
       "   'D:\\\\Users\\\\Chuan\\\\Documents\\\\Database\\\\Karyotypes\\\\Arrangement_Merged\\\\chr_18_p11_deletion\\\\194161-del(18)(p11)-26R.bmp',\n",
       "   'D:\\\\Users\\\\Chuan\\\\Documents\\\\Database\\\\Karyotypes\\\\Arrangement_Merged\\\\chr_18_p11_deletion\\\\194161-del(18)(p11)-27R.bmp',\n",
       "   'D:\\\\Users\\\\Chuan\\\\Documents\\\\Database\\\\Karyotypes\\\\Arrangement_Merged\\\\chr_18_p11_deletion\\\\194161-del(18)(p11)-28R.bmp',\n",
       "   'D:\\\\Users\\\\Chuan\\\\Documents\\\\Database\\\\Karyotypes\\\\Arrangement_Merged\\\\chr_18_p11_deletion\\\\194161-del(18)(p11)-2R.bmp',\n",
       "   'D:\\\\Users\\\\Chuan\\\\Documents\\\\Database\\\\Karyotypes\\\\Arrangement_Merged\\\\chr_18_p11_deletion\\\\194161-del(18)(p11)-30R.bmp',\n",
       "   'D:\\\\Users\\\\Chuan\\\\Documents\\\\Database\\\\Karyotypes\\\\Arrangement_Merged\\\\chr_18_p11_deletion\\\\194161-del(18)(p11)-4R.bmp',\n",
       "   'D:\\\\Users\\\\Chuan\\\\Documents\\\\Database\\\\Karyotypes\\\\Arrangement_Merged\\\\chr_18_p11_deletion\\\\194161-del(18)(p11)-5R.bmp',\n",
       "   'D:\\\\Users\\\\Chuan\\\\Documents\\\\Database\\\\Karyotypes\\\\Arrangement_Merged\\\\chr_18_p11_deletion\\\\194161-del(18)(p11)-6R.bmp',\n",
       "   'D:\\\\Users\\\\Chuan\\\\Documents\\\\Database\\\\Karyotypes\\\\Arrangement_Merged\\\\chr_18_p11_deletion\\\\194161-del(18)(p11)-7R.bmp',\n",
       "   'D:\\\\Users\\\\Chuan\\\\Documents\\\\Database\\\\Karyotypes\\\\Arrangement_Merged\\\\chr_18_p11_deletion\\\\194161-del(18)(p11)-9R.bmp'],\n",
       "  '2': ['D:\\\\Users\\\\Chuan\\\\Documents\\\\Database\\\\Karyotypes\\\\Arrangement_Merged\\\\chr_18_p11_deletion\\\\183873-del(18)(p11)-11R.bmp',\n",
       "   'D:\\\\Users\\\\Chuan\\\\Documents\\\\Database\\\\Karyotypes\\\\Arrangement_Merged\\\\chr_18_p11_deletion\\\\183873-del(18)(p11)-12R.bmp',\n",
       "   'D:\\\\Users\\\\Chuan\\\\Documents\\\\Database\\\\Karyotypes\\\\Arrangement_Merged\\\\chr_18_p11_deletion\\\\183873-del(18)(p11)-14R.bmp',\n",
       "   'D:\\\\Users\\\\Chuan\\\\Documents\\\\Database\\\\Karyotypes\\\\Arrangement_Merged\\\\chr_18_p11_deletion\\\\183873-del(18)(p11)-15R.bmp',\n",
       "   'D:\\\\Users\\\\Chuan\\\\Documents\\\\Database\\\\Karyotypes\\\\Arrangement_Merged\\\\chr_18_p11_deletion\\\\183873-del(18)(p11)-16R.bmp',\n",
       "   'D:\\\\Users\\\\Chuan\\\\Documents\\\\Database\\\\Karyotypes\\\\Arrangement_Merged\\\\chr_18_p11_deletion\\\\183873-del(18)(p11)-19R.bmp',\n",
       "   'D:\\\\Users\\\\Chuan\\\\Documents\\\\Database\\\\Karyotypes\\\\Arrangement_Merged\\\\chr_18_p11_deletion\\\\183873-del(18)(p11)-1R.bmp',\n",
       "   'D:\\\\Users\\\\Chuan\\\\Documents\\\\Database\\\\Karyotypes\\\\Arrangement_Merged\\\\chr_18_p11_deletion\\\\183873-del(18)(p11)-20R.bmp',\n",
       "   'D:\\\\Users\\\\Chuan\\\\Documents\\\\Database\\\\Karyotypes\\\\Arrangement_Merged\\\\chr_18_p11_deletion\\\\183873-del(18)(p11)-21R.bmp',\n",
       "   'D:\\\\Users\\\\Chuan\\\\Documents\\\\Database\\\\Karyotypes\\\\Arrangement_Merged\\\\chr_18_p11_deletion\\\\183873-del(18)(p11)-22R.bmp',\n",
       "   'D:\\\\Users\\\\Chuan\\\\Documents\\\\Database\\\\Karyotypes\\\\Arrangement_Merged\\\\chr_18_p11_deletion\\\\183873-del(18)(p11)-23R.bmp',\n",
       "   'D:\\\\Users\\\\Chuan\\\\Documents\\\\Database\\\\Karyotypes\\\\Arrangement_Merged\\\\chr_18_p11_deletion\\\\183873-del(18)(p11)-24R.bmp',\n",
       "   'D:\\\\Users\\\\Chuan\\\\Documents\\\\Database\\\\Karyotypes\\\\Arrangement_Merged\\\\chr_18_p11_deletion\\\\183873-del(18)(p11)-25R.bmp',\n",
       "   'D:\\\\Users\\\\Chuan\\\\Documents\\\\Database\\\\Karyotypes\\\\Arrangement_Merged\\\\chr_18_p11_deletion\\\\183873-del(18)(p11)-3R.bmp',\n",
       "   'D:\\\\Users\\\\Chuan\\\\Documents\\\\Database\\\\Karyotypes\\\\Arrangement_Merged\\\\chr_18_p11_deletion\\\\183873-del(18)(p11)-4R.bmp',\n",
       "   'D:\\\\Users\\\\Chuan\\\\Documents\\\\Database\\\\Karyotypes\\\\Arrangement_Merged\\\\chr_18_p11_deletion\\\\183873-del(18)(p11)-5R.bmp',\n",
       "   'D:\\\\Users\\\\Chuan\\\\Documents\\\\Database\\\\Karyotypes\\\\Arrangement_Merged\\\\chr_18_p11_deletion\\\\183873-del(18)(p11)-6R.bmp',\n",
       "   'D:\\\\Users\\\\Chuan\\\\Documents\\\\Database\\\\Karyotypes\\\\Arrangement_Merged\\\\chr_18_p11_deletion\\\\183873-del(18)(p11)-7R.bmp',\n",
       "   'D:\\\\Users\\\\Chuan\\\\Documents\\\\Database\\\\Karyotypes\\\\Arrangement_Merged\\\\chr_18_p11_deletion\\\\183873-del(18)(p11)-8R.bmp',\n",
       "   'D:\\\\Users\\\\Chuan\\\\Documents\\\\Database\\\\Karyotypes\\\\Arrangement_Merged\\\\chr_18_p11_deletion\\\\190325-1.jpg_18p11.bmp',\n",
       "   'D:\\\\Users\\\\Chuan\\\\Documents\\\\Database\\\\Karyotypes\\\\Arrangement_Merged\\\\chr_18_p11_deletion\\\\190325-10.jpg_18p11.bmp',\n",
       "   'D:\\\\Users\\\\Chuan\\\\Documents\\\\Database\\\\Karyotypes\\\\Arrangement_Merged\\\\chr_18_p11_deletion\\\\190325-11.jpg_18p11.bmp',\n",
       "   'D:\\\\Users\\\\Chuan\\\\Documents\\\\Database\\\\Karyotypes\\\\Arrangement_Merged\\\\chr_18_p11_deletion\\\\190325-12.jpg_18p11.bmp',\n",
       "   'D:\\\\Users\\\\Chuan\\\\Documents\\\\Database\\\\Karyotypes\\\\Arrangement_Merged\\\\chr_18_p11_deletion\\\\190325-13.jpg_18p11.bmp',\n",
       "   'D:\\\\Users\\\\Chuan\\\\Documents\\\\Database\\\\Karyotypes\\\\Arrangement_Merged\\\\chr_18_p11_deletion\\\\190325-14.jpg_18p11.bmp',\n",
       "   'D:\\\\Users\\\\Chuan\\\\Documents\\\\Database\\\\Karyotypes\\\\Arrangement_Merged\\\\chr_18_p11_deletion\\\\190325-15.jpg_18p11.bmp',\n",
       "   'D:\\\\Users\\\\Chuan\\\\Documents\\\\Database\\\\Karyotypes\\\\Arrangement_Merged\\\\chr_18_p11_deletion\\\\190325-16.jpg_18p11.bmp',\n",
       "   'D:\\\\Users\\\\Chuan\\\\Documents\\\\Database\\\\Karyotypes\\\\Arrangement_Merged\\\\chr_18_p11_deletion\\\\190325-17.jpg_18p11.bmp',\n",
       "   'D:\\\\Users\\\\Chuan\\\\Documents\\\\Database\\\\Karyotypes\\\\Arrangement_Merged\\\\chr_18_p11_deletion\\\\190325-18.jpg_18p11.bmp',\n",
       "   'D:\\\\Users\\\\Chuan\\\\Documents\\\\Database\\\\Karyotypes\\\\Arrangement_Merged\\\\chr_18_p11_deletion\\\\190325-19.jpg_18del_p11.bmp',\n",
       "   'D:\\\\Users\\\\Chuan\\\\Documents\\\\Database\\\\Karyotypes\\\\Arrangement_Merged\\\\chr_18_p11_deletion\\\\190325-2.jpg_18p11.bmp',\n",
       "   'D:\\\\Users\\\\Chuan\\\\Documents\\\\Database\\\\Karyotypes\\\\Arrangement_Merged\\\\chr_18_p11_deletion\\\\190325-20.jpg.18del_p11.bmp',\n",
       "   'D:\\\\Users\\\\Chuan\\\\Documents\\\\Database\\\\Karyotypes\\\\Arrangement_Merged\\\\chr_18_p11_deletion\\\\190325-3.jpg_18p11.bmp',\n",
       "   'D:\\\\Users\\\\Chuan\\\\Documents\\\\Database\\\\Karyotypes\\\\Arrangement_Merged\\\\chr_18_p11_deletion\\\\190325-4.jpg_18p11.bmp',\n",
       "   'D:\\\\Users\\\\Chuan\\\\Documents\\\\Database\\\\Karyotypes\\\\Arrangement_Merged\\\\chr_18_p11_deletion\\\\190325-5.jpg_18p11.bmp',\n",
       "   'D:\\\\Users\\\\Chuan\\\\Documents\\\\Database\\\\Karyotypes\\\\Arrangement_Merged\\\\chr_18_p11_deletion\\\\190325-6.jpg_18p11.bmp',\n",
       "   'D:\\\\Users\\\\Chuan\\\\Documents\\\\Database\\\\Karyotypes\\\\Arrangement_Merged\\\\chr_18_p11_deletion\\\\190325-7.jpg_18p11.bmp',\n",
       "   'D:\\\\Users\\\\Chuan\\\\Documents\\\\Database\\\\Karyotypes\\\\Arrangement_Merged\\\\chr_18_p11_deletion\\\\190325-8.jpg_18p11.bmp',\n",
       "   'D:\\\\Users\\\\Chuan\\\\Documents\\\\Database\\\\Karyotypes\\\\Arrangement_Merged\\\\chr_18_p11_deletion\\\\190325-9.jpg_18p11.bmp',\n",
       "   'D:\\\\Users\\\\Chuan\\\\Documents\\\\Database\\\\Karyotypes\\\\Arrangement_Merged\\\\chr_18_p11_deletion\\\\194161-del(18)(p11)-12R.bmp',\n",
       "   'D:\\\\Users\\\\Chuan\\\\Documents\\\\Database\\\\Karyotypes\\\\Arrangement_Merged\\\\chr_18_p11_deletion\\\\194161-del(18)(p11)-15R.bmp',\n",
       "   'D:\\\\Users\\\\Chuan\\\\Documents\\\\Database\\\\Karyotypes\\\\Arrangement_Merged\\\\chr_18_p11_deletion\\\\194161-del(18)(p11)-16R.bmp',\n",
       "   'D:\\\\Users\\\\Chuan\\\\Documents\\\\Database\\\\Karyotypes\\\\Arrangement_Merged\\\\chr_18_p11_deletion\\\\194161-del(18)(p11)-17R.bmp',\n",
       "   'D:\\\\Users\\\\Chuan\\\\Documents\\\\Database\\\\Karyotypes\\\\Arrangement_Merged\\\\chr_18_p11_deletion\\\\194161-del(18)(p11)-18R.bmp',\n",
       "   'D:\\\\Users\\\\Chuan\\\\Documents\\\\Database\\\\Karyotypes\\\\Arrangement_Merged\\\\chr_18_p11_deletion\\\\194161-del(18)(p11)-19R.bmp',\n",
       "   'D:\\\\Users\\\\Chuan\\\\Documents\\\\Database\\\\Karyotypes\\\\Arrangement_Merged\\\\chr_18_p11_deletion\\\\194161-del(18)(p11)-1R.bmp',\n",
       "   'D:\\\\Users\\\\Chuan\\\\Documents\\\\Database\\\\Karyotypes\\\\Arrangement_Merged\\\\chr_18_p11_deletion\\\\194161-del(18)(p11)-20R.bmp',\n",
       "   'D:\\\\Users\\\\Chuan\\\\Documents\\\\Database\\\\Karyotypes\\\\Arrangement_Merged\\\\chr_18_p11_deletion\\\\194161-del(18)(p11)-22R.bmp',\n",
       "   'D:\\\\Users\\\\Chuan\\\\Documents\\\\Database\\\\Karyotypes\\\\Arrangement_Merged\\\\chr_18_p11_deletion\\\\194161-del(18)(p11)-23R.bmp',\n",
       "   'D:\\\\Users\\\\Chuan\\\\Documents\\\\Database\\\\Karyotypes\\\\Arrangement_Merged\\\\chr_18_p11_deletion\\\\194161-del(18)(p11)-24R.bmp',\n",
       "   'D:\\\\Users\\\\Chuan\\\\Documents\\\\Database\\\\Karyotypes\\\\Arrangement_Merged\\\\chr_18_p11_deletion\\\\194161-del(18)(p11)-26R.bmp',\n",
       "   'D:\\\\Users\\\\Chuan\\\\Documents\\\\Database\\\\Karyotypes\\\\Arrangement_Merged\\\\chr_18_p11_deletion\\\\194161-del(18)(p11)-27R.bmp',\n",
       "   'D:\\\\Users\\\\Chuan\\\\Documents\\\\Database\\\\Karyotypes\\\\Arrangement_Merged\\\\chr_18_p11_deletion\\\\194161-del(18)(p11)-28R.bmp',\n",
       "   'D:\\\\Users\\\\Chuan\\\\Documents\\\\Database\\\\Karyotypes\\\\Arrangement_Merged\\\\chr_18_p11_deletion\\\\194161-del(18)(p11)-29R.bmp',\n",
       "   'D:\\\\Users\\\\Chuan\\\\Documents\\\\Database\\\\Karyotypes\\\\Arrangement_Merged\\\\chr_18_p11_deletion\\\\194161-del(18)(p11)-3R.bmp',\n",
       "   'D:\\\\Users\\\\Chuan\\\\Documents\\\\Database\\\\Karyotypes\\\\Arrangement_Merged\\\\chr_18_p11_deletion\\\\194161-del(18)(p11)-4R.bmp',\n",
       "   'D:\\\\Users\\\\Chuan\\\\Documents\\\\Database\\\\Karyotypes\\\\Arrangement_Merged\\\\chr_18_p11_deletion\\\\194161-del(18)(p11)-5R.bmp',\n",
       "   'D:\\\\Users\\\\Chuan\\\\Documents\\\\Database\\\\Karyotypes\\\\Arrangement_Merged\\\\chr_18_p11_deletion\\\\194161-del(18)(p11)-7R.bmp',\n",
       "   'D:\\\\Users\\\\Chuan\\\\Documents\\\\Database\\\\Karyotypes\\\\Arrangement_Merged\\\\chr_18_p11_deletion\\\\194161-del(18)(p11)-8R.bmp',\n",
       "   'D:\\\\Users\\\\Chuan\\\\Documents\\\\Database\\\\Karyotypes\\\\Arrangement_Merged\\\\chr_18_p11_deletion\\\\194161-del(18)(p11)-9R.bmp'],\n",
       "  '3': ['D:\\\\Users\\\\Chuan\\\\Documents\\\\Database\\\\Karyotypes\\\\Arrangement_Merged\\\\chr_18_p11_deletion\\\\183873-del(18)(p11)-10R.bmp',\n",
       "   'D:\\\\Users\\\\Chuan\\\\Documents\\\\Database\\\\Karyotypes\\\\Arrangement_Merged\\\\chr_18_p11_deletion\\\\183873-del(18)(p11)-11R.bmp',\n",
       "   'D:\\\\Users\\\\Chuan\\\\Documents\\\\Database\\\\Karyotypes\\\\Arrangement_Merged\\\\chr_18_p11_deletion\\\\183873-del(18)(p11)-12R.bmp',\n",
       "   'D:\\\\Users\\\\Chuan\\\\Documents\\\\Database\\\\Karyotypes\\\\Arrangement_Merged\\\\chr_18_p11_deletion\\\\183873-del(18)(p11)-13R.bmp',\n",
       "   'D:\\\\Users\\\\Chuan\\\\Documents\\\\Database\\\\Karyotypes\\\\Arrangement_Merged\\\\chr_18_p11_deletion\\\\183873-del(18)(p11)-15R.bmp',\n",
       "   'D:\\\\Users\\\\Chuan\\\\Documents\\\\Database\\\\Karyotypes\\\\Arrangement_Merged\\\\chr_18_p11_deletion\\\\183873-del(18)(p11)-16R.bmp',\n",
       "   'D:\\\\Users\\\\Chuan\\\\Documents\\\\Database\\\\Karyotypes\\\\Arrangement_Merged\\\\chr_18_p11_deletion\\\\183873-del(18)(p11)-17R.bmp',\n",
       "   'D:\\\\Users\\\\Chuan\\\\Documents\\\\Database\\\\Karyotypes\\\\Arrangement_Merged\\\\chr_18_p11_deletion\\\\183873-del(18)(p11)-18R.bmp',\n",
       "   'D:\\\\Users\\\\Chuan\\\\Documents\\\\Database\\\\Karyotypes\\\\Arrangement_Merged\\\\chr_18_p11_deletion\\\\183873-del(18)(p11)-19R.bmp',\n",
       "   'D:\\\\Users\\\\Chuan\\\\Documents\\\\Database\\\\Karyotypes\\\\Arrangement_Merged\\\\chr_18_p11_deletion\\\\183873-del(18)(p11)-1R.bmp',\n",
       "   'D:\\\\Users\\\\Chuan\\\\Documents\\\\Database\\\\Karyotypes\\\\Arrangement_Merged\\\\chr_18_p11_deletion\\\\183873-del(18)(p11)-21R.bmp',\n",
       "   'D:\\\\Users\\\\Chuan\\\\Documents\\\\Database\\\\Karyotypes\\\\Arrangement_Merged\\\\chr_18_p11_deletion\\\\183873-del(18)(p11)-24R.bmp',\n",
       "   'D:\\\\Users\\\\Chuan\\\\Documents\\\\Database\\\\Karyotypes\\\\Arrangement_Merged\\\\chr_18_p11_deletion\\\\183873-del(18)(p11)-25R.bmp',\n",
       "   'D:\\\\Users\\\\Chuan\\\\Documents\\\\Database\\\\Karyotypes\\\\Arrangement_Merged\\\\chr_18_p11_deletion\\\\183873-del(18)(p11)-2R.bmp',\n",
       "   'D:\\\\Users\\\\Chuan\\\\Documents\\\\Database\\\\Karyotypes\\\\Arrangement_Merged\\\\chr_18_p11_deletion\\\\183873-del(18)(p11)-3R.bmp',\n",
       "   'D:\\\\Users\\\\Chuan\\\\Documents\\\\Database\\\\Karyotypes\\\\Arrangement_Merged\\\\chr_18_p11_deletion\\\\183873-del(18)(p11)-4R.bmp',\n",
       "   'D:\\\\Users\\\\Chuan\\\\Documents\\\\Database\\\\Karyotypes\\\\Arrangement_Merged\\\\chr_18_p11_deletion\\\\183873-del(18)(p11)-5R.bmp',\n",
       "   'D:\\\\Users\\\\Chuan\\\\Documents\\\\Database\\\\Karyotypes\\\\Arrangement_Merged\\\\chr_18_p11_deletion\\\\183873-del(18)(p11)-6R.bmp',\n",
       "   'D:\\\\Users\\\\Chuan\\\\Documents\\\\Database\\\\Karyotypes\\\\Arrangement_Merged\\\\chr_18_p11_deletion\\\\183873-del(18)(p11)-9R.bmp',\n",
       "   'D:\\\\Users\\\\Chuan\\\\Documents\\\\Database\\\\Karyotypes\\\\Arrangement_Merged\\\\chr_18_p11_deletion\\\\190325-1.jpg_18p11.bmp',\n",
       "   'D:\\\\Users\\\\Chuan\\\\Documents\\\\Database\\\\Karyotypes\\\\Arrangement_Merged\\\\chr_18_p11_deletion\\\\190325-10.jpg_18p11.bmp',\n",
       "   'D:\\\\Users\\\\Chuan\\\\Documents\\\\Database\\\\Karyotypes\\\\Arrangement_Merged\\\\chr_18_p11_deletion\\\\190325-11.jpg_18p11.bmp',\n",
       "   'D:\\\\Users\\\\Chuan\\\\Documents\\\\Database\\\\Karyotypes\\\\Arrangement_Merged\\\\chr_18_p11_deletion\\\\190325-15.jpg_18p11.bmp',\n",
       "   'D:\\\\Users\\\\Chuan\\\\Documents\\\\Database\\\\Karyotypes\\\\Arrangement_Merged\\\\chr_18_p11_deletion\\\\190325-17.jpg_18p11.bmp',\n",
       "   'D:\\\\Users\\\\Chuan\\\\Documents\\\\Database\\\\Karyotypes\\\\Arrangement_Merged\\\\chr_18_p11_deletion\\\\190325-18.jpg_18p11.bmp',\n",
       "   'D:\\\\Users\\\\Chuan\\\\Documents\\\\Database\\\\Karyotypes\\\\Arrangement_Merged\\\\chr_18_p11_deletion\\\\190325-19.jpg_18del_p11.bmp',\n",
       "   'D:\\\\Users\\\\Chuan\\\\Documents\\\\Database\\\\Karyotypes\\\\Arrangement_Merged\\\\chr_18_p11_deletion\\\\190325-2.jpg_18p11.bmp',\n",
       "   'D:\\\\Users\\\\Chuan\\\\Documents\\\\Database\\\\Karyotypes\\\\Arrangement_Merged\\\\chr_18_p11_deletion\\\\190325-20.jpg.18del_p11.bmp',\n",
       "   'D:\\\\Users\\\\Chuan\\\\Documents\\\\Database\\\\Karyotypes\\\\Arrangement_Merged\\\\chr_18_p11_deletion\\\\190325-3.jpg_18p11.bmp',\n",
       "   'D:\\\\Users\\\\Chuan\\\\Documents\\\\Database\\\\Karyotypes\\\\Arrangement_Merged\\\\chr_18_p11_deletion\\\\190325-4.jpg_18p11.bmp',\n",
       "   'D:\\\\Users\\\\Chuan\\\\Documents\\\\Database\\\\Karyotypes\\\\Arrangement_Merged\\\\chr_18_p11_deletion\\\\190325-5.jpg_18p11.bmp',\n",
       "   'D:\\\\Users\\\\Chuan\\\\Documents\\\\Database\\\\Karyotypes\\\\Arrangement_Merged\\\\chr_18_p11_deletion\\\\190325-8.jpg_18p11.bmp',\n",
       "   'D:\\\\Users\\\\Chuan\\\\Documents\\\\Database\\\\Karyotypes\\\\Arrangement_Merged\\\\chr_18_p11_deletion\\\\190325-9.jpg_18p11.bmp',\n",
       "   'D:\\\\Users\\\\Chuan\\\\Documents\\\\Database\\\\Karyotypes\\\\Arrangement_Merged\\\\chr_18_p11_deletion\\\\194161-del(18)(p11)-10R.bmp',\n",
       "   'D:\\\\Users\\\\Chuan\\\\Documents\\\\Database\\\\Karyotypes\\\\Arrangement_Merged\\\\chr_18_p11_deletion\\\\194161-del(18)(p11)-11R.bmp',\n",
       "   'D:\\\\Users\\\\Chuan\\\\Documents\\\\Database\\\\Karyotypes\\\\Arrangement_Merged\\\\chr_18_p11_deletion\\\\194161-del(18)(p11)-12R.bmp',\n",
       "   'D:\\\\Users\\\\Chuan\\\\Documents\\\\Database\\\\Karyotypes\\\\Arrangement_Merged\\\\chr_18_p11_deletion\\\\194161-del(18)(p11)-13R.bmp',\n",
       "   'D:\\\\Users\\\\Chuan\\\\Documents\\\\Database\\\\Karyotypes\\\\Arrangement_Merged\\\\chr_18_p11_deletion\\\\194161-del(18)(p11)-14R.bmp',\n",
       "   'D:\\\\Users\\\\Chuan\\\\Documents\\\\Database\\\\Karyotypes\\\\Arrangement_Merged\\\\chr_18_p11_deletion\\\\194161-del(18)(p11)-15R.bmp',\n",
       "   'D:\\\\Users\\\\Chuan\\\\Documents\\\\Database\\\\Karyotypes\\\\Arrangement_Merged\\\\chr_18_p11_deletion\\\\194161-del(18)(p11)-17R.bmp',\n",
       "   'D:\\\\Users\\\\Chuan\\\\Documents\\\\Database\\\\Karyotypes\\\\Arrangement_Merged\\\\chr_18_p11_deletion\\\\194161-del(18)(p11)-18R.bmp',\n",
       "   'D:\\\\Users\\\\Chuan\\\\Documents\\\\Database\\\\Karyotypes\\\\Arrangement_Merged\\\\chr_18_p11_deletion\\\\194161-del(18)(p11)-19R.bmp',\n",
       "   'D:\\\\Users\\\\Chuan\\\\Documents\\\\Database\\\\Karyotypes\\\\Arrangement_Merged\\\\chr_18_p11_deletion\\\\194161-del(18)(p11)-1R.bmp',\n",
       "   'D:\\\\Users\\\\Chuan\\\\Documents\\\\Database\\\\Karyotypes\\\\Arrangement_Merged\\\\chr_18_p11_deletion\\\\194161-del(18)(p11)-20R.bmp',\n",
       "   'D:\\\\Users\\\\Chuan\\\\Documents\\\\Database\\\\Karyotypes\\\\Arrangement_Merged\\\\chr_18_p11_deletion\\\\194161-del(18)(p11)-21R.bmp',\n",
       "   'D:\\\\Users\\\\Chuan\\\\Documents\\\\Database\\\\Karyotypes\\\\Arrangement_Merged\\\\chr_18_p11_deletion\\\\194161-del(18)(p11)-22R.bmp',\n",
       "   'D:\\\\Users\\\\Chuan\\\\Documents\\\\Database\\\\Karyotypes\\\\Arrangement_Merged\\\\chr_18_p11_deletion\\\\194161-del(18)(p11)-23R.bmp',\n",
       "   'D:\\\\Users\\\\Chuan\\\\Documents\\\\Database\\\\Karyotypes\\\\Arrangement_Merged\\\\chr_18_p11_deletion\\\\194161-del(18)(p11)-24R.bmp',\n",
       "   'D:\\\\Users\\\\Chuan\\\\Documents\\\\Database\\\\Karyotypes\\\\Arrangement_Merged\\\\chr_18_p11_deletion\\\\194161-del(18)(p11)-25R.bmp',\n",
       "   'D:\\\\Users\\\\Chuan\\\\Documents\\\\Database\\\\Karyotypes\\\\Arrangement_Merged\\\\chr_18_p11_deletion\\\\194161-del(18)(p11)-26R.bmp',\n",
       "   'D:\\\\Users\\\\Chuan\\\\Documents\\\\Database\\\\Karyotypes\\\\Arrangement_Merged\\\\chr_18_p11_deletion\\\\194161-del(18)(p11)-28R.bmp',\n",
       "   'D:\\\\Users\\\\Chuan\\\\Documents\\\\Database\\\\Karyotypes\\\\Arrangement_Merged\\\\chr_18_p11_deletion\\\\194161-del(18)(p11)-29R.bmp',\n",
       "   'D:\\\\Users\\\\Chuan\\\\Documents\\\\Database\\\\Karyotypes\\\\Arrangement_Merged\\\\chr_18_p11_deletion\\\\194161-del(18)(p11)-2R.bmp',\n",
       "   'D:\\\\Users\\\\Chuan\\\\Documents\\\\Database\\\\Karyotypes\\\\Arrangement_Merged\\\\chr_18_p11_deletion\\\\194161-del(18)(p11)-30R.bmp',\n",
       "   'D:\\\\Users\\\\Chuan\\\\Documents\\\\Database\\\\Karyotypes\\\\Arrangement_Merged\\\\chr_18_p11_deletion\\\\194161-del(18)(p11)-3R.bmp',\n",
       "   'D:\\\\Users\\\\Chuan\\\\Documents\\\\Database\\\\Karyotypes\\\\Arrangement_Merged\\\\chr_18_p11_deletion\\\\194161-del(18)(p11)-5R.bmp',\n",
       "   'D:\\\\Users\\\\Chuan\\\\Documents\\\\Database\\\\Karyotypes\\\\Arrangement_Merged\\\\chr_18_p11_deletion\\\\194161-del(18)(p11)-6R.bmp',\n",
       "   'D:\\\\Users\\\\Chuan\\\\Documents\\\\Database\\\\Karyotypes\\\\Arrangement_Merged\\\\chr_18_p11_deletion\\\\194161-del(18)(p11)-7R.bmp',\n",
       "   'D:\\\\Users\\\\Chuan\\\\Documents\\\\Database\\\\Karyotypes\\\\Arrangement_Merged\\\\chr_18_p11_deletion\\\\194161-del(18)(p11)-8R.bmp',\n",
       "   'D:\\\\Users\\\\Chuan\\\\Documents\\\\Database\\\\Karyotypes\\\\Arrangement_Merged\\\\chr_18_p11_deletion\\\\194161-del(18)(p11)-9R.bmp'],\n",
       "  '4': ['D:\\\\Users\\\\Chuan\\\\Documents\\\\Database\\\\Karyotypes\\\\Arrangement_Merged\\\\chr_18_p11_deletion\\\\183873-del(18)(p11)-10R.bmp',\n",
       "   'D:\\\\Users\\\\Chuan\\\\Documents\\\\Database\\\\Karyotypes\\\\Arrangement_Merged\\\\chr_18_p11_deletion\\\\183873-del(18)(p11)-12R.bmp',\n",
       "   'D:\\\\Users\\\\Chuan\\\\Documents\\\\Database\\\\Karyotypes\\\\Arrangement_Merged\\\\chr_18_p11_deletion\\\\183873-del(18)(p11)-13R.bmp',\n",
       "   'D:\\\\Users\\\\Chuan\\\\Documents\\\\Database\\\\Karyotypes\\\\Arrangement_Merged\\\\chr_18_p11_deletion\\\\183873-del(18)(p11)-14R.bmp',\n",
       "   'D:\\\\Users\\\\Chuan\\\\Documents\\\\Database\\\\Karyotypes\\\\Arrangement_Merged\\\\chr_18_p11_deletion\\\\183873-del(18)(p11)-17R.bmp',\n",
       "   'D:\\\\Users\\\\Chuan\\\\Documents\\\\Database\\\\Karyotypes\\\\Arrangement_Merged\\\\chr_18_p11_deletion\\\\183873-del(18)(p11)-18R.bmp',\n",
       "   'D:\\\\Users\\\\Chuan\\\\Documents\\\\Database\\\\Karyotypes\\\\Arrangement_Merged\\\\chr_18_p11_deletion\\\\183873-del(18)(p11)-1R.bmp',\n",
       "   'D:\\\\Users\\\\Chuan\\\\Documents\\\\Database\\\\Karyotypes\\\\Arrangement_Merged\\\\chr_18_p11_deletion\\\\183873-del(18)(p11)-20R.bmp',\n",
       "   'D:\\\\Users\\\\Chuan\\\\Documents\\\\Database\\\\Karyotypes\\\\Arrangement_Merged\\\\chr_18_p11_deletion\\\\183873-del(18)(p11)-22R.bmp',\n",
       "   'D:\\\\Users\\\\Chuan\\\\Documents\\\\Database\\\\Karyotypes\\\\Arrangement_Merged\\\\chr_18_p11_deletion\\\\183873-del(18)(p11)-23R.bmp',\n",
       "   'D:\\\\Users\\\\Chuan\\\\Documents\\\\Database\\\\Karyotypes\\\\Arrangement_Merged\\\\chr_18_p11_deletion\\\\183873-del(18)(p11)-24R.bmp',\n",
       "   'D:\\\\Users\\\\Chuan\\\\Documents\\\\Database\\\\Karyotypes\\\\Arrangement_Merged\\\\chr_18_p11_deletion\\\\183873-del(18)(p11)-2R.bmp',\n",
       "   'D:\\\\Users\\\\Chuan\\\\Documents\\\\Database\\\\Karyotypes\\\\Arrangement_Merged\\\\chr_18_p11_deletion\\\\183873-del(18)(p11)-4R.bmp',\n",
       "   'D:\\\\Users\\\\Chuan\\\\Documents\\\\Database\\\\Karyotypes\\\\Arrangement_Merged\\\\chr_18_p11_deletion\\\\183873-del(18)(p11)-6R.bmp',\n",
       "   'D:\\\\Users\\\\Chuan\\\\Documents\\\\Database\\\\Karyotypes\\\\Arrangement_Merged\\\\chr_18_p11_deletion\\\\183873-del(18)(p11)-7R.bmp',\n",
       "   'D:\\\\Users\\\\Chuan\\\\Documents\\\\Database\\\\Karyotypes\\\\Arrangement_Merged\\\\chr_18_p11_deletion\\\\183873-del(18)(p11)-8R.bmp',\n",
       "   'D:\\\\Users\\\\Chuan\\\\Documents\\\\Database\\\\Karyotypes\\\\Arrangement_Merged\\\\chr_18_p11_deletion\\\\183873-del(18)(p11)-9R.bmp',\n",
       "   'D:\\\\Users\\\\Chuan\\\\Documents\\\\Database\\\\Karyotypes\\\\Arrangement_Merged\\\\chr_18_p11_deletion\\\\190325-10.jpg_18p11.bmp',\n",
       "   'D:\\\\Users\\\\Chuan\\\\Documents\\\\Database\\\\Karyotypes\\\\Arrangement_Merged\\\\chr_18_p11_deletion\\\\190325-11.jpg_18p11.bmp',\n",
       "   'D:\\\\Users\\\\Chuan\\\\Documents\\\\Database\\\\Karyotypes\\\\Arrangement_Merged\\\\chr_18_p11_deletion\\\\190325-12.jpg_18p11.bmp',\n",
       "   'D:\\\\Users\\\\Chuan\\\\Documents\\\\Database\\\\Karyotypes\\\\Arrangement_Merged\\\\chr_18_p11_deletion\\\\190325-13.jpg_18p11.bmp',\n",
       "   'D:\\\\Users\\\\Chuan\\\\Documents\\\\Database\\\\Karyotypes\\\\Arrangement_Merged\\\\chr_18_p11_deletion\\\\190325-14.jpg_18p11.bmp',\n",
       "   'D:\\\\Users\\\\Chuan\\\\Documents\\\\Database\\\\Karyotypes\\\\Arrangement_Merged\\\\chr_18_p11_deletion\\\\190325-15.jpg_18p11.bmp',\n",
       "   'D:\\\\Users\\\\Chuan\\\\Documents\\\\Database\\\\Karyotypes\\\\Arrangement_Merged\\\\chr_18_p11_deletion\\\\190325-16.jpg_18p11.bmp',\n",
       "   'D:\\\\Users\\\\Chuan\\\\Documents\\\\Database\\\\Karyotypes\\\\Arrangement_Merged\\\\chr_18_p11_deletion\\\\190325-17.jpg_18p11.bmp',\n",
       "   'D:\\\\Users\\\\Chuan\\\\Documents\\\\Database\\\\Karyotypes\\\\Arrangement_Merged\\\\chr_18_p11_deletion\\\\190325-18.jpg_18p11.bmp',\n",
       "   'D:\\\\Users\\\\Chuan\\\\Documents\\\\Database\\\\Karyotypes\\\\Arrangement_Merged\\\\chr_18_p11_deletion\\\\190325-19.jpg_18del_p11.bmp',\n",
       "   'D:\\\\Users\\\\Chuan\\\\Documents\\\\Database\\\\Karyotypes\\\\Arrangement_Merged\\\\chr_18_p11_deletion\\\\190325-2.jpg_18p11.bmp',\n",
       "   'D:\\\\Users\\\\Chuan\\\\Documents\\\\Database\\\\Karyotypes\\\\Arrangement_Merged\\\\chr_18_p11_deletion\\\\190325-3.jpg_18p11.bmp',\n",
       "   'D:\\\\Users\\\\Chuan\\\\Documents\\\\Database\\\\Karyotypes\\\\Arrangement_Merged\\\\chr_18_p11_deletion\\\\190325-4.jpg_18p11.bmp',\n",
       "   'D:\\\\Users\\\\Chuan\\\\Documents\\\\Database\\\\Karyotypes\\\\Arrangement_Merged\\\\chr_18_p11_deletion\\\\190325-5.jpg_18p11.bmp',\n",
       "   'D:\\\\Users\\\\Chuan\\\\Documents\\\\Database\\\\Karyotypes\\\\Arrangement_Merged\\\\chr_18_p11_deletion\\\\190325-6.jpg_18p11.bmp',\n",
       "   'D:\\\\Users\\\\Chuan\\\\Documents\\\\Database\\\\Karyotypes\\\\Arrangement_Merged\\\\chr_18_p11_deletion\\\\190325-7.jpg_18p11.bmp',\n",
       "   'D:\\\\Users\\\\Chuan\\\\Documents\\\\Database\\\\Karyotypes\\\\Arrangement_Merged\\\\chr_18_p11_deletion\\\\190325-8.jpg_18p11.bmp',\n",
       "   'D:\\\\Users\\\\Chuan\\\\Documents\\\\Database\\\\Karyotypes\\\\Arrangement_Merged\\\\chr_18_p11_deletion\\\\190325-9.jpg_18p11.bmp',\n",
       "   'D:\\\\Users\\\\Chuan\\\\Documents\\\\Database\\\\Karyotypes\\\\Arrangement_Merged\\\\chr_18_p11_deletion\\\\194161-del(18)(p11)-10R.bmp',\n",
       "   'D:\\\\Users\\\\Chuan\\\\Documents\\\\Database\\\\Karyotypes\\\\Arrangement_Merged\\\\chr_18_p11_deletion\\\\194161-del(18)(p11)-11R.bmp',\n",
       "   'D:\\\\Users\\\\Chuan\\\\Documents\\\\Database\\\\Karyotypes\\\\Arrangement_Merged\\\\chr_18_p11_deletion\\\\194161-del(18)(p11)-12R.bmp',\n",
       "   'D:\\\\Users\\\\Chuan\\\\Documents\\\\Database\\\\Karyotypes\\\\Arrangement_Merged\\\\chr_18_p11_deletion\\\\194161-del(18)(p11)-13R.bmp',\n",
       "   'D:\\\\Users\\\\Chuan\\\\Documents\\\\Database\\\\Karyotypes\\\\Arrangement_Merged\\\\chr_18_p11_deletion\\\\194161-del(18)(p11)-14R.bmp',\n",
       "   'D:\\\\Users\\\\Chuan\\\\Documents\\\\Database\\\\Karyotypes\\\\Arrangement_Merged\\\\chr_18_p11_deletion\\\\194161-del(18)(p11)-16R.bmp',\n",
       "   'D:\\\\Users\\\\Chuan\\\\Documents\\\\Database\\\\Karyotypes\\\\Arrangement_Merged\\\\chr_18_p11_deletion\\\\194161-del(18)(p11)-17R.bmp',\n",
       "   'D:\\\\Users\\\\Chuan\\\\Documents\\\\Database\\\\Karyotypes\\\\Arrangement_Merged\\\\chr_18_p11_deletion\\\\194161-del(18)(p11)-18R.bmp',\n",
       "   'D:\\\\Users\\\\Chuan\\\\Documents\\\\Database\\\\Karyotypes\\\\Arrangement_Merged\\\\chr_18_p11_deletion\\\\194161-del(18)(p11)-19R.bmp',\n",
       "   'D:\\\\Users\\\\Chuan\\\\Documents\\\\Database\\\\Karyotypes\\\\Arrangement_Merged\\\\chr_18_p11_deletion\\\\194161-del(18)(p11)-1R.bmp',\n",
       "   'D:\\\\Users\\\\Chuan\\\\Documents\\\\Database\\\\Karyotypes\\\\Arrangement_Merged\\\\chr_18_p11_deletion\\\\194161-del(18)(p11)-20R.bmp',\n",
       "   'D:\\\\Users\\\\Chuan\\\\Documents\\\\Database\\\\Karyotypes\\\\Arrangement_Merged\\\\chr_18_p11_deletion\\\\194161-del(18)(p11)-21R.bmp',\n",
       "   'D:\\\\Users\\\\Chuan\\\\Documents\\\\Database\\\\Karyotypes\\\\Arrangement_Merged\\\\chr_18_p11_deletion\\\\194161-del(18)(p11)-22R.bmp',\n",
       "   'D:\\\\Users\\\\Chuan\\\\Documents\\\\Database\\\\Karyotypes\\\\Arrangement_Merged\\\\chr_18_p11_deletion\\\\194161-del(18)(p11)-23R.bmp',\n",
       "   'D:\\\\Users\\\\Chuan\\\\Documents\\\\Database\\\\Karyotypes\\\\Arrangement_Merged\\\\chr_18_p11_deletion\\\\194161-del(18)(p11)-24R.bmp',\n",
       "   'D:\\\\Users\\\\Chuan\\\\Documents\\\\Database\\\\Karyotypes\\\\Arrangement_Merged\\\\chr_18_p11_deletion\\\\194161-del(18)(p11)-25R.bmp',\n",
       "   'D:\\\\Users\\\\Chuan\\\\Documents\\\\Database\\\\Karyotypes\\\\Arrangement_Merged\\\\chr_18_p11_deletion\\\\194161-del(18)(p11)-27R.bmp',\n",
       "   'D:\\\\Users\\\\Chuan\\\\Documents\\\\Database\\\\Karyotypes\\\\Arrangement_Merged\\\\chr_18_p11_deletion\\\\194161-del(18)(p11)-29R.bmp',\n",
       "   'D:\\\\Users\\\\Chuan\\\\Documents\\\\Database\\\\Karyotypes\\\\Arrangement_Merged\\\\chr_18_p11_deletion\\\\194161-del(18)(p11)-2R.bmp',\n",
       "   'D:\\\\Users\\\\Chuan\\\\Documents\\\\Database\\\\Karyotypes\\\\Arrangement_Merged\\\\chr_18_p11_deletion\\\\194161-del(18)(p11)-30R.bmp',\n",
       "   'D:\\\\Users\\\\Chuan\\\\Documents\\\\Database\\\\Karyotypes\\\\Arrangement_Merged\\\\chr_18_p11_deletion\\\\194161-del(18)(p11)-3R.bmp',\n",
       "   'D:\\\\Users\\\\Chuan\\\\Documents\\\\Database\\\\Karyotypes\\\\Arrangement_Merged\\\\chr_18_p11_deletion\\\\194161-del(18)(p11)-4R.bmp',\n",
       "   'D:\\\\Users\\\\Chuan\\\\Documents\\\\Database\\\\Karyotypes\\\\Arrangement_Merged\\\\chr_18_p11_deletion\\\\194161-del(18)(p11)-5R.bmp',\n",
       "   'D:\\\\Users\\\\Chuan\\\\Documents\\\\Database\\\\Karyotypes\\\\Arrangement_Merged\\\\chr_18_p11_deletion\\\\194161-del(18)(p11)-6R.bmp',\n",
       "   'D:\\\\Users\\\\Chuan\\\\Documents\\\\Database\\\\Karyotypes\\\\Arrangement_Merged\\\\chr_18_p11_deletion\\\\194161-del(18)(p11)-8R.bmp']}}"
      ]
     },
     "execution_count": 3,
     "metadata": {},
     "output_type": "execute_result"
    }
   ],
   "source": [
    "with open('data_X_train_name.json') as json_file:\n",
    "    X_train_name = json.load(json_file)\n",
    "X_train_name"
   ]
  },
  {
   "cell_type": "code",
   "execution_count": 4,
   "metadata": {},
   "outputs": [
    {
     "data": {
      "text/plain": [
       "['D:\\\\Users\\\\Chuan\\\\Documents\\\\Database\\\\Karyotypes\\\\Arrangement_Merged\\\\chr_18\\\\181228-i(18)(q10)+18-14L.bmp',\n",
       " 'D:\\\\Users\\\\Chuan\\\\Documents\\\\Database\\\\Karyotypes\\\\Arrangement_Merged\\\\chr_18\\\\181228-i(18)(q10)+18-1L.bmp',\n",
       " 'D:\\\\Users\\\\Chuan\\\\Documents\\\\Database\\\\Karyotypes\\\\Arrangement_Merged\\\\chr_18\\\\181228-i(18)(q10)+18-8L.bmp',\n",
       " 'D:\\\\Users\\\\Chuan\\\\Documents\\\\Database\\\\Karyotypes\\\\Arrangement_Merged\\\\chr_18\\\\183873-del(18)(p11)-11L.bmp',\n",
       " 'D:\\\\Users\\\\Chuan\\\\Documents\\\\Database\\\\Karyotypes\\\\Arrangement_Merged\\\\chr_18\\\\183873-del(18)(p11)-13L.bmp',\n",
       " 'D:\\\\Users\\\\Chuan\\\\Documents\\\\Database\\\\Karyotypes\\\\Arrangement_Merged\\\\chr_18\\\\183873-del(18)(p11)-16L.bmp',\n",
       " 'D:\\\\Users\\\\Chuan\\\\Documents\\\\Database\\\\Karyotypes\\\\Arrangement_Merged\\\\chr_18\\\\183873-del(18)(p11)-25L.bmp',\n",
       " 'D:\\\\Users\\\\Chuan\\\\Documents\\\\Database\\\\Karyotypes\\\\Arrangement_Merged\\\\chr_18\\\\183873-del(18)(p11)-3L.bmp',\n",
       " 'D:\\\\Users\\\\Chuan\\\\Documents\\\\Database\\\\Karyotypes\\\\Arrangement_Merged\\\\chr_18\\\\183873-del(18)(p11)-7L.bmp',\n",
       " 'D:\\\\Users\\\\Chuan\\\\Documents\\\\Database\\\\Karyotypes\\\\Arrangement_Merged\\\\chr_18\\\\190325-11.jpg_18L.bmp',\n",
       " 'D:\\\\Users\\\\Chuan\\\\Documents\\\\Database\\\\Karyotypes\\\\Arrangement_Merged\\\\chr_18\\\\190325-13.jpg_18L.bmp',\n",
       " 'D:\\\\Users\\\\Chuan\\\\Documents\\\\Database\\\\Karyotypes\\\\Arrangement_Merged\\\\chr_18\\\\190325-18.jpg_18L.bmp',\n",
       " 'D:\\\\Users\\\\Chuan\\\\Documents\\\\Database\\\\Karyotypes\\\\Arrangement_Merged\\\\chr_18\\\\190325-3.jpg_18L.bmp',\n",
       " 'D:\\\\Users\\\\Chuan\\\\Documents\\\\Database\\\\Karyotypes\\\\Arrangement_Merged\\\\chr_18\\\\190325-5.jpg_18L.bmp',\n",
       " 'D:\\\\Users\\\\Chuan\\\\Documents\\\\Database\\\\Karyotypes\\\\Arrangement_Merged\\\\chr_18\\\\191225-20.jpg_18L.bmp',\n",
       " 'D:\\\\Users\\\\Chuan\\\\Documents\\\\Database\\\\Karyotypes\\\\Arrangement_Merged\\\\chr_18\\\\191225-7.jpg_18L.bmp',\n",
       " 'D:\\\\Users\\\\Chuan\\\\Documents\\\\Database\\\\Karyotypes\\\\Arrangement_Merged\\\\chr_18\\\\191225-9.jpg_18L.bmp',\n",
       " 'D:\\\\Users\\\\Chuan\\\\Documents\\\\Database\\\\Karyotypes\\\\Arrangement_Merged\\\\chr_18\\\\194161-del(18)(p11)-19L.bmp',\n",
       " 'D:\\\\Users\\\\Chuan\\\\Documents\\\\Database\\\\Karyotypes\\\\Arrangement_Merged\\\\chr_18\\\\194161-del(18)(p11)-23L.bmp',\n",
       " 'D:\\\\Users\\\\Chuan\\\\Documents\\\\Database\\\\Karyotypes\\\\Arrangement_Merged\\\\chr_18\\\\194161-del(18)(p11)-27L.bmp',\n",
       " 'D:\\\\Users\\\\Chuan\\\\Documents\\\\Database\\\\Karyotypes\\\\Arrangement_Merged\\\\chr_18\\\\194161-del(18)(p11)-6L.bmp',\n",
       " 'D:\\\\Users\\\\Chuan\\\\Documents\\\\Database\\\\Karyotypes\\\\Arrangement_Merged\\\\chr_18\\\\194161-del(18)(p11)-9L.bmp',\n",
       " 'D:\\\\Users\\\\Chuan\\\\Documents\\\\Database\\\\Karyotypes\\\\Arrangement_Merged\\\\chr_18\\\\w21000~A.0001.K.jpg.18L.bmp',\n",
       " 'D:\\\\Users\\\\Chuan\\\\Documents\\\\Database\\\\Karyotypes\\\\Arrangement_Merged\\\\chr_18\\\\w21002~A.0024.K.jpg.18L.bmp',\n",
       " 'D:\\\\Users\\\\Chuan\\\\Documents\\\\Database\\\\Karyotypes\\\\Arrangement_Merged\\\\chr_18\\\\W21014~A.0005.K.18R.bmp',\n",
       " 'D:\\\\Users\\\\Chuan\\\\Documents\\\\Database\\\\Karyotypes\\\\Arrangement_Merged\\\\chr_18\\\\W21027~A.0003.K.18L.bmp',\n",
       " 'D:\\\\Users\\\\Chuan\\\\Documents\\\\Database\\\\Karyotypes\\\\Arrangement_Merged\\\\chr_18\\\\W21486~A.0020.K.bmp.18L.bmp',\n",
       " 'D:\\\\Users\\\\Chuan\\\\Documents\\\\Database\\\\Karyotypes\\\\Arrangement_Merged\\\\chr_18\\\\W21486~A.0020.K.bmp.18R.bmp',\n",
       " 'D:\\\\Users\\\\Chuan\\\\Documents\\\\Database\\\\Karyotypes\\\\Arrangement_Merged\\\\chr_18\\\\W21587~A.0010.K.jpg.18L.bmp',\n",
       " 'D:\\\\Users\\\\Chuan\\\\Documents\\\\Database\\\\Karyotypes\\\\Arrangement_Merged\\\\chr_18\\\\W21905~A.0007.K.jpg.18R.bmp',\n",
       " 'D:\\\\Users\\\\Chuan\\\\Documents\\\\Database\\\\Karyotypes\\\\Arrangement_Merged\\\\chr_18\\\\W21906~A.0011.K.jpg.18L.bmp',\n",
       " 'D:\\\\Users\\\\Chuan\\\\Documents\\\\Database\\\\Karyotypes\\\\Arrangement_Merged\\\\chr_18\\\\w22292~A.0027.K.jpg.18L.bmp',\n",
       " 'D:\\\\Users\\\\Chuan\\\\Documents\\\\Database\\\\Karyotypes\\\\Arrangement_Merged\\\\chr_18\\\\w22292~A.0027.K.jpg.18R.bmp',\n",
       " 'D:\\\\Users\\\\Chuan\\\\Documents\\\\Database\\\\Karyotypes\\\\Arrangement_Merged\\\\chr_18\\\\W22455~A.0002.K.jpg.18R.bmp',\n",
       " 'D:\\\\Users\\\\Chuan\\\\Documents\\\\Database\\\\Karyotypes\\\\Arrangement_Merged\\\\chr_18\\\\W22670~A.0006.K.jpg.18R.bmp',\n",
       " 'D:\\\\Users\\\\Chuan\\\\Documents\\\\Database\\\\Karyotypes\\\\Arrangement_Merged\\\\chr_18\\\\W23075-1~A.0017.K.jpg.18L.bmp']"
      ]
     },
     "execution_count": 4,
     "metadata": {},
     "output_type": "execute_result"
    }
   ],
   "source": [
    "with open('data_X_test_name.json') as json_file:\n",
    "    X_test_name = json.load(json_file)\n",
    "X_test_name['chr_x']['0']"
   ]
  },
  {
   "cell_type": "code",
   "execution_count": 5,
   "metadata": {},
   "outputs": [
    {
     "data": {
      "text/plain": [
       "{'chr_18': ['D:\\\\Users\\\\Chuan\\\\Documents\\\\Database\\\\Karyotypes\\\\Arrangement_Merged\\\\chr_18\\\\181228-i(18)(q10)+18-10L.bmp',\n",
       "  'D:\\\\Users\\\\Chuan\\\\Documents\\\\Database\\\\Karyotypes\\\\Arrangement_Merged\\\\chr_18\\\\181228-i(18)(q10)+18-11L.bmp',\n",
       "  'D:\\\\Users\\\\Chuan\\\\Documents\\\\Database\\\\Karyotypes\\\\Arrangement_Merged\\\\chr_18\\\\181228-i(18)(q10)+18-12L.bmp',\n",
       "  'D:\\\\Users\\\\Chuan\\\\Documents\\\\Database\\\\Karyotypes\\\\Arrangement_Merged\\\\chr_18\\\\181228-i(18)(q10)+18-13L.bmp',\n",
       "  'D:\\\\Users\\\\Chuan\\\\Documents\\\\Database\\\\Karyotypes\\\\Arrangement_Merged\\\\chr_18\\\\181228-i(18)(q10)+18-14L.bmp',\n",
       "  'D:\\\\Users\\\\Chuan\\\\Documents\\\\Database\\\\Karyotypes\\\\Arrangement_Merged\\\\chr_18\\\\181228-i(18)(q10)+18-1L.bmp',\n",
       "  'D:\\\\Users\\\\Chuan\\\\Documents\\\\Database\\\\Karyotypes\\\\Arrangement_Merged\\\\chr_18\\\\181228-i(18)(q10)+18-2L.bmp',\n",
       "  'D:\\\\Users\\\\Chuan\\\\Documents\\\\Database\\\\Karyotypes\\\\Arrangement_Merged\\\\chr_18\\\\181228-i(18)(q10)+18-3L.bmp',\n",
       "  'D:\\\\Users\\\\Chuan\\\\Documents\\\\Database\\\\Karyotypes\\\\Arrangement_Merged\\\\chr_18\\\\181228-i(18)(q10)+18-4L.bmp',\n",
       "  'D:\\\\Users\\\\Chuan\\\\Documents\\\\Database\\\\Karyotypes\\\\Arrangement_Merged\\\\chr_18\\\\181228-i(18)(q10)+18-5L.bmp',\n",
       "  'D:\\\\Users\\\\Chuan\\\\Documents\\\\Database\\\\Karyotypes\\\\Arrangement_Merged\\\\chr_18\\\\181228-i(18)(q10)+18-7L.bmp',\n",
       "  'D:\\\\Users\\\\Chuan\\\\Documents\\\\Database\\\\Karyotypes\\\\Arrangement_Merged\\\\chr_18\\\\181228-i(18)(q10)+18-8L.bmp',\n",
       "  'D:\\\\Users\\\\Chuan\\\\Documents\\\\Database\\\\Karyotypes\\\\Arrangement_Merged\\\\chr_18\\\\181228-i(18)(q10)+18-9L.bmp',\n",
       "  'D:\\\\Users\\\\Chuan\\\\Documents\\\\Database\\\\Karyotypes\\\\Arrangement_Merged\\\\chr_18\\\\183873-del(18)(p11)-10L.bmp',\n",
       "  'D:\\\\Users\\\\Chuan\\\\Documents\\\\Database\\\\Karyotypes\\\\Arrangement_Merged\\\\chr_18\\\\183873-del(18)(p11)-11L.bmp',\n",
       "  'D:\\\\Users\\\\Chuan\\\\Documents\\\\Database\\\\Karyotypes\\\\Arrangement_Merged\\\\chr_18\\\\183873-del(18)(p11)-12L.bmp',\n",
       "  'D:\\\\Users\\\\Chuan\\\\Documents\\\\Database\\\\Karyotypes\\\\Arrangement_Merged\\\\chr_18\\\\183873-del(18)(p11)-13L.bmp',\n",
       "  'D:\\\\Users\\\\Chuan\\\\Documents\\\\Database\\\\Karyotypes\\\\Arrangement_Merged\\\\chr_18\\\\183873-del(18)(p11)-14L.bmp',\n",
       "  'D:\\\\Users\\\\Chuan\\\\Documents\\\\Database\\\\Karyotypes\\\\Arrangement_Merged\\\\chr_18\\\\183873-del(18)(p11)-15L.bmp',\n",
       "  'D:\\\\Users\\\\Chuan\\\\Documents\\\\Database\\\\Karyotypes\\\\Arrangement_Merged\\\\chr_18\\\\183873-del(18)(p11)-16L.bmp',\n",
       "  'D:\\\\Users\\\\Chuan\\\\Documents\\\\Database\\\\Karyotypes\\\\Arrangement_Merged\\\\chr_18\\\\183873-del(18)(p11)-17L.bmp',\n",
       "  'D:\\\\Users\\\\Chuan\\\\Documents\\\\Database\\\\Karyotypes\\\\Arrangement_Merged\\\\chr_18\\\\183873-del(18)(p11)-18L.bmp',\n",
       "  'D:\\\\Users\\\\Chuan\\\\Documents\\\\Database\\\\Karyotypes\\\\Arrangement_Merged\\\\chr_18\\\\183873-del(18)(p11)-19L.bmp',\n",
       "  'D:\\\\Users\\\\Chuan\\\\Documents\\\\Database\\\\Karyotypes\\\\Arrangement_Merged\\\\chr_18\\\\183873-del(18)(p11)-1L.bmp',\n",
       "  'D:\\\\Users\\\\Chuan\\\\Documents\\\\Database\\\\Karyotypes\\\\Arrangement_Merged\\\\chr_18\\\\183873-del(18)(p11)-20L.bmp',\n",
       "  'D:\\\\Users\\\\Chuan\\\\Documents\\\\Database\\\\Karyotypes\\\\Arrangement_Merged\\\\chr_18\\\\183873-del(18)(p11)-21L.bmp',\n",
       "  'D:\\\\Users\\\\Chuan\\\\Documents\\\\Database\\\\Karyotypes\\\\Arrangement_Merged\\\\chr_18\\\\183873-del(18)(p11)-22L.bmp',\n",
       "  'D:\\\\Users\\\\Chuan\\\\Documents\\\\Database\\\\Karyotypes\\\\Arrangement_Merged\\\\chr_18\\\\183873-del(18)(p11)-23L.bmp',\n",
       "  'D:\\\\Users\\\\Chuan\\\\Documents\\\\Database\\\\Karyotypes\\\\Arrangement_Merged\\\\chr_18\\\\183873-del(18)(p11)-24L.bmp',\n",
       "  'D:\\\\Users\\\\Chuan\\\\Documents\\\\Database\\\\Karyotypes\\\\Arrangement_Merged\\\\chr_18\\\\183873-del(18)(p11)-25L.bmp',\n",
       "  'D:\\\\Users\\\\Chuan\\\\Documents\\\\Database\\\\Karyotypes\\\\Arrangement_Merged\\\\chr_18\\\\183873-del(18)(p11)-2L.bmp',\n",
       "  'D:\\\\Users\\\\Chuan\\\\Documents\\\\Database\\\\Karyotypes\\\\Arrangement_Merged\\\\chr_18\\\\183873-del(18)(p11)-3L.bmp',\n",
       "  'D:\\\\Users\\\\Chuan\\\\Documents\\\\Database\\\\Karyotypes\\\\Arrangement_Merged\\\\chr_18\\\\183873-del(18)(p11)-4L.bmp',\n",
       "  'D:\\\\Users\\\\Chuan\\\\Documents\\\\Database\\\\Karyotypes\\\\Arrangement_Merged\\\\chr_18\\\\183873-del(18)(p11)-5L.bmp',\n",
       "  'D:\\\\Users\\\\Chuan\\\\Documents\\\\Database\\\\Karyotypes\\\\Arrangement_Merged\\\\chr_18\\\\183873-del(18)(p11)-6L.bmp',\n",
       "  'D:\\\\Users\\\\Chuan\\\\Documents\\\\Database\\\\Karyotypes\\\\Arrangement_Merged\\\\chr_18\\\\183873-del(18)(p11)-7L.bmp',\n",
       "  'D:\\\\Users\\\\Chuan\\\\Documents\\\\Database\\\\Karyotypes\\\\Arrangement_Merged\\\\chr_18\\\\183873-del(18)(p11)-8L.bmp',\n",
       "  'D:\\\\Users\\\\Chuan\\\\Documents\\\\Database\\\\Karyotypes\\\\Arrangement_Merged\\\\chr_18\\\\183873-del(18)(p11)-9L.bmp',\n",
       "  'D:\\\\Users\\\\Chuan\\\\Documents\\\\Database\\\\Karyotypes\\\\Arrangement_Merged\\\\chr_18\\\\190325-1.jpg_18L.bmp',\n",
       "  'D:\\\\Users\\\\Chuan\\\\Documents\\\\Database\\\\Karyotypes\\\\Arrangement_Merged\\\\chr_18\\\\190325-10.jpg_18L.bmp',\n",
       "  'D:\\\\Users\\\\Chuan\\\\Documents\\\\Database\\\\Karyotypes\\\\Arrangement_Merged\\\\chr_18\\\\190325-11.jpg_18L.bmp',\n",
       "  'D:\\\\Users\\\\Chuan\\\\Documents\\\\Database\\\\Karyotypes\\\\Arrangement_Merged\\\\chr_18\\\\190325-12.jpg_18L.bmp',\n",
       "  'D:\\\\Users\\\\Chuan\\\\Documents\\\\Database\\\\Karyotypes\\\\Arrangement_Merged\\\\chr_18\\\\190325-13.jpg_18L.bmp',\n",
       "  'D:\\\\Users\\\\Chuan\\\\Documents\\\\Database\\\\Karyotypes\\\\Arrangement_Merged\\\\chr_18\\\\190325-14.jpg_18L.bmp',\n",
       "  'D:\\\\Users\\\\Chuan\\\\Documents\\\\Database\\\\Karyotypes\\\\Arrangement_Merged\\\\chr_18\\\\190325-15.jpg_18L.bmp',\n",
       "  'D:\\\\Users\\\\Chuan\\\\Documents\\\\Database\\\\Karyotypes\\\\Arrangement_Merged\\\\chr_18\\\\190325-16.jpg_18L.bmp',\n",
       "  'D:\\\\Users\\\\Chuan\\\\Documents\\\\Database\\\\Karyotypes\\\\Arrangement_Merged\\\\chr_18\\\\190325-17.jpg_18L.bmp',\n",
       "  'D:\\\\Users\\\\Chuan\\\\Documents\\\\Database\\\\Karyotypes\\\\Arrangement_Merged\\\\chr_18\\\\190325-18.jpg_18L.bmp',\n",
       "  'D:\\\\Users\\\\Chuan\\\\Documents\\\\Database\\\\Karyotypes\\\\Arrangement_Merged\\\\chr_18\\\\190325-19.jpg_18L.bmp',\n",
       "  'D:\\\\Users\\\\Chuan\\\\Documents\\\\Database\\\\Karyotypes\\\\Arrangement_Merged\\\\chr_18\\\\190325-2.jpg_18L.bmp',\n",
       "  'D:\\\\Users\\\\Chuan\\\\Documents\\\\Database\\\\Karyotypes\\\\Arrangement_Merged\\\\chr_18\\\\190325-20.jpg.18L.bmp',\n",
       "  'D:\\\\Users\\\\Chuan\\\\Documents\\\\Database\\\\Karyotypes\\\\Arrangement_Merged\\\\chr_18\\\\190325-3.jpg_18L.bmp',\n",
       "  'D:\\\\Users\\\\Chuan\\\\Documents\\\\Database\\\\Karyotypes\\\\Arrangement_Merged\\\\chr_18\\\\190325-4.jpg_18L.bmp',\n",
       "  'D:\\\\Users\\\\Chuan\\\\Documents\\\\Database\\\\Karyotypes\\\\Arrangement_Merged\\\\chr_18\\\\190325-5.jpg_18L.bmp',\n",
       "  'D:\\\\Users\\\\Chuan\\\\Documents\\\\Database\\\\Karyotypes\\\\Arrangement_Merged\\\\chr_18\\\\190325-6.jpg_18L.bmp',\n",
       "  'D:\\\\Users\\\\Chuan\\\\Documents\\\\Database\\\\Karyotypes\\\\Arrangement_Merged\\\\chr_18\\\\190325-7.jpg_18L.bmp',\n",
       "  'D:\\\\Users\\\\Chuan\\\\Documents\\\\Database\\\\Karyotypes\\\\Arrangement_Merged\\\\chr_18\\\\190325-8.jpg_18L.bmp',\n",
       "  'D:\\\\Users\\\\Chuan\\\\Documents\\\\Database\\\\Karyotypes\\\\Arrangement_Merged\\\\chr_18\\\\190325-9.jpg_18L.bmp',\n",
       "  'D:\\\\Users\\\\Chuan\\\\Documents\\\\Database\\\\Karyotypes\\\\Arrangement_Merged\\\\chr_18\\\\191225-1.jpg_18L.bmp',\n",
       "  'D:\\\\Users\\\\Chuan\\\\Documents\\\\Database\\\\Karyotypes\\\\Arrangement_Merged\\\\chr_18\\\\191225-10.jpg_18L.bmp',\n",
       "  'D:\\\\Users\\\\Chuan\\\\Documents\\\\Database\\\\Karyotypes\\\\Arrangement_Merged\\\\chr_18\\\\191225-11.jpg_18L.bmp',\n",
       "  'D:\\\\Users\\\\Chuan\\\\Documents\\\\Database\\\\Karyotypes\\\\Arrangement_Merged\\\\chr_18\\\\191225-13.jpg_18L.bmp',\n",
       "  'D:\\\\Users\\\\Chuan\\\\Documents\\\\Database\\\\Karyotypes\\\\Arrangement_Merged\\\\chr_18\\\\191225-14.jpg_18L.bmp',\n",
       "  'D:\\\\Users\\\\Chuan\\\\Documents\\\\Database\\\\Karyotypes\\\\Arrangement_Merged\\\\chr_18\\\\191225-15.jpg_18L.bmp',\n",
       "  'D:\\\\Users\\\\Chuan\\\\Documents\\\\Database\\\\Karyotypes\\\\Arrangement_Merged\\\\chr_18\\\\191225-16.jpg_18L.bmp',\n",
       "  'D:\\\\Users\\\\Chuan\\\\Documents\\\\Database\\\\Karyotypes\\\\Arrangement_Merged\\\\chr_18\\\\191225-17.jpg_18L.bmp',\n",
       "  'D:\\\\Users\\\\Chuan\\\\Documents\\\\Database\\\\Karyotypes\\\\Arrangement_Merged\\\\chr_18\\\\191225-18.jpg_18L.bmp',\n",
       "  'D:\\\\Users\\\\Chuan\\\\Documents\\\\Database\\\\Karyotypes\\\\Arrangement_Merged\\\\chr_18\\\\191225-19.jpg_18L.bmp',\n",
       "  'D:\\\\Users\\\\Chuan\\\\Documents\\\\Database\\\\Karyotypes\\\\Arrangement_Merged\\\\chr_18\\\\191225-2.jpg_18L.bmp',\n",
       "  'D:\\\\Users\\\\Chuan\\\\Documents\\\\Database\\\\Karyotypes\\\\Arrangement_Merged\\\\chr_18\\\\191225-20.jpg_18L.bmp',\n",
       "  'D:\\\\Users\\\\Chuan\\\\Documents\\\\Database\\\\Karyotypes\\\\Arrangement_Merged\\\\chr_18\\\\191225-21.jpg_18L.bmp',\n",
       "  'D:\\\\Users\\\\Chuan\\\\Documents\\\\Database\\\\Karyotypes\\\\Arrangement_Merged\\\\chr_18\\\\191225-5.jpg_18L.bmp',\n",
       "  'D:\\\\Users\\\\Chuan\\\\Documents\\\\Database\\\\Karyotypes\\\\Arrangement_Merged\\\\chr_18\\\\191225-6.jpg_18L.bmp',\n",
       "  'D:\\\\Users\\\\Chuan\\\\Documents\\\\Database\\\\Karyotypes\\\\Arrangement_Merged\\\\chr_18\\\\191225-7.jpg_18L.bmp',\n",
       "  'D:\\\\Users\\\\Chuan\\\\Documents\\\\Database\\\\Karyotypes\\\\Arrangement_Merged\\\\chr_18\\\\191225-8.jpg_18L.bmp',\n",
       "  'D:\\\\Users\\\\Chuan\\\\Documents\\\\Database\\\\Karyotypes\\\\Arrangement_Merged\\\\chr_18\\\\191225-9.jpg_18L.bmp',\n",
       "  'D:\\\\Users\\\\Chuan\\\\Documents\\\\Database\\\\Karyotypes\\\\Arrangement_Merged\\\\chr_18\\\\194161-del(18)(p11)-10L.bmp',\n",
       "  'D:\\\\Users\\\\Chuan\\\\Documents\\\\Database\\\\Karyotypes\\\\Arrangement_Merged\\\\chr_18\\\\194161-del(18)(p11)-11L.bmp',\n",
       "  'D:\\\\Users\\\\Chuan\\\\Documents\\\\Database\\\\Karyotypes\\\\Arrangement_Merged\\\\chr_18\\\\194161-del(18)(p11)-12L.bmp',\n",
       "  'D:\\\\Users\\\\Chuan\\\\Documents\\\\Database\\\\Karyotypes\\\\Arrangement_Merged\\\\chr_18\\\\194161-del(18)(p11)-13L.bmp',\n",
       "  'D:\\\\Users\\\\Chuan\\\\Documents\\\\Database\\\\Karyotypes\\\\Arrangement_Merged\\\\chr_18\\\\194161-del(18)(p11)-14L.bmp',\n",
       "  'D:\\\\Users\\\\Chuan\\\\Documents\\\\Database\\\\Karyotypes\\\\Arrangement_Merged\\\\chr_18\\\\194161-del(18)(p11)-15L.bmp',\n",
       "  'D:\\\\Users\\\\Chuan\\\\Documents\\\\Database\\\\Karyotypes\\\\Arrangement_Merged\\\\chr_18\\\\194161-del(18)(p11)-16L.bmp',\n",
       "  'D:\\\\Users\\\\Chuan\\\\Documents\\\\Database\\\\Karyotypes\\\\Arrangement_Merged\\\\chr_18\\\\194161-del(18)(p11)-17L.bmp',\n",
       "  'D:\\\\Users\\\\Chuan\\\\Documents\\\\Database\\\\Karyotypes\\\\Arrangement_Merged\\\\chr_18\\\\194161-del(18)(p11)-18L.bmp',\n",
       "  'D:\\\\Users\\\\Chuan\\\\Documents\\\\Database\\\\Karyotypes\\\\Arrangement_Merged\\\\chr_18\\\\194161-del(18)(p11)-19L.bmp',\n",
       "  'D:\\\\Users\\\\Chuan\\\\Documents\\\\Database\\\\Karyotypes\\\\Arrangement_Merged\\\\chr_18\\\\194161-del(18)(p11)-1L.bmp',\n",
       "  'D:\\\\Users\\\\Chuan\\\\Documents\\\\Database\\\\Karyotypes\\\\Arrangement_Merged\\\\chr_18\\\\194161-del(18)(p11)-20L.bmp',\n",
       "  'D:\\\\Users\\\\Chuan\\\\Documents\\\\Database\\\\Karyotypes\\\\Arrangement_Merged\\\\chr_18\\\\194161-del(18)(p11)-21L.bmp',\n",
       "  'D:\\\\Users\\\\Chuan\\\\Documents\\\\Database\\\\Karyotypes\\\\Arrangement_Merged\\\\chr_18\\\\194161-del(18)(p11)-22L.bmp',\n",
       "  'D:\\\\Users\\\\Chuan\\\\Documents\\\\Database\\\\Karyotypes\\\\Arrangement_Merged\\\\chr_18\\\\194161-del(18)(p11)-23L.bmp',\n",
       "  'D:\\\\Users\\\\Chuan\\\\Documents\\\\Database\\\\Karyotypes\\\\Arrangement_Merged\\\\chr_18\\\\194161-del(18)(p11)-24L.bmp',\n",
       "  'D:\\\\Users\\\\Chuan\\\\Documents\\\\Database\\\\Karyotypes\\\\Arrangement_Merged\\\\chr_18\\\\194161-del(18)(p11)-25L.bmp',\n",
       "  'D:\\\\Users\\\\Chuan\\\\Documents\\\\Database\\\\Karyotypes\\\\Arrangement_Merged\\\\chr_18\\\\194161-del(18)(p11)-26L.bmp',\n",
       "  'D:\\\\Users\\\\Chuan\\\\Documents\\\\Database\\\\Karyotypes\\\\Arrangement_Merged\\\\chr_18\\\\194161-del(18)(p11)-27L.bmp',\n",
       "  'D:\\\\Users\\\\Chuan\\\\Documents\\\\Database\\\\Karyotypes\\\\Arrangement_Merged\\\\chr_18\\\\194161-del(18)(p11)-28L.bmp',\n",
       "  'D:\\\\Users\\\\Chuan\\\\Documents\\\\Database\\\\Karyotypes\\\\Arrangement_Merged\\\\chr_18\\\\194161-del(18)(p11)-29L.bmp',\n",
       "  'D:\\\\Users\\\\Chuan\\\\Documents\\\\Database\\\\Karyotypes\\\\Arrangement_Merged\\\\chr_18\\\\194161-del(18)(p11)-2L.bmp',\n",
       "  'D:\\\\Users\\\\Chuan\\\\Documents\\\\Database\\\\Karyotypes\\\\Arrangement_Merged\\\\chr_18\\\\194161-del(18)(p11)-30L.bmp',\n",
       "  'D:\\\\Users\\\\Chuan\\\\Documents\\\\Database\\\\Karyotypes\\\\Arrangement_Merged\\\\chr_18\\\\194161-del(18)(p11)-3L.bmp',\n",
       "  'D:\\\\Users\\\\Chuan\\\\Documents\\\\Database\\\\Karyotypes\\\\Arrangement_Merged\\\\chr_18\\\\194161-del(18)(p11)-4L.bmp',\n",
       "  'D:\\\\Users\\\\Chuan\\\\Documents\\\\Database\\\\Karyotypes\\\\Arrangement_Merged\\\\chr_18\\\\194161-del(18)(p11)-5L.bmp',\n",
       "  'D:\\\\Users\\\\Chuan\\\\Documents\\\\Database\\\\Karyotypes\\\\Arrangement_Merged\\\\chr_18\\\\194161-del(18)(p11)-6L.bmp',\n",
       "  'D:\\\\Users\\\\Chuan\\\\Documents\\\\Database\\\\Karyotypes\\\\Arrangement_Merged\\\\chr_18\\\\194161-del(18)(p11)-7L.bmp',\n",
       "  'D:\\\\Users\\\\Chuan\\\\Documents\\\\Database\\\\Karyotypes\\\\Arrangement_Merged\\\\chr_18\\\\194161-del(18)(p11)-8L.bmp',\n",
       "  'D:\\\\Users\\\\Chuan\\\\Documents\\\\Database\\\\Karyotypes\\\\Arrangement_Merged\\\\chr_18\\\\194161-del(18)(p11)-9L.bmp',\n",
       "  'D:\\\\Users\\\\Chuan\\\\Documents\\\\Database\\\\Karyotypes\\\\Arrangement_Merged\\\\chr_18\\\\w21000~A.0001.K.jpg.18L.bmp',\n",
       "  'D:\\\\Users\\\\Chuan\\\\Documents\\\\Database\\\\Karyotypes\\\\Arrangement_Merged\\\\chr_18\\\\w21000~A.0001.K.jpg.18R.bmp',\n",
       "  'D:\\\\Users\\\\Chuan\\\\Documents\\\\Database\\\\Karyotypes\\\\Arrangement_Merged\\\\chr_18\\\\w21001~A.0008.K.jpg.18L.bmp',\n",
       "  'D:\\\\Users\\\\Chuan\\\\Documents\\\\Database\\\\Karyotypes\\\\Arrangement_Merged\\\\chr_18\\\\w21001~A.0008.K.jpg.18R.bmp',\n",
       "  'D:\\\\Users\\\\Chuan\\\\Documents\\\\Database\\\\Karyotypes\\\\Arrangement_Merged\\\\chr_18\\\\w21002~A.0024.K.jpg.18L.bmp',\n",
       "  'D:\\\\Users\\\\Chuan\\\\Documents\\\\Database\\\\Karyotypes\\\\Arrangement_Merged\\\\chr_18\\\\w21002~A.0024.K.jpg.18R.bmp',\n",
       "  'D:\\\\Users\\\\Chuan\\\\Documents\\\\Database\\\\Karyotypes\\\\Arrangement_Merged\\\\chr_18\\\\w21008~A.0008.K.jpg.18L.bmp',\n",
       "  'D:\\\\Users\\\\Chuan\\\\Documents\\\\Database\\\\Karyotypes\\\\Arrangement_Merged\\\\chr_18\\\\w21008~A.0008.K.jpg.18R.bmp',\n",
       "  'D:\\\\Users\\\\Chuan\\\\Documents\\\\Database\\\\Karyotypes\\\\Arrangement_Merged\\\\chr_18\\\\W21011~A.0008.K.18L.bmp',\n",
       "  'D:\\\\Users\\\\Chuan\\\\Documents\\\\Database\\\\Karyotypes\\\\Arrangement_Merged\\\\chr_18\\\\W21011~A.0008.K.18R.bmp',\n",
       "  'D:\\\\Users\\\\Chuan\\\\Documents\\\\Database\\\\Karyotypes\\\\Arrangement_Merged\\\\chr_18\\\\W21012~A.0019.K.18L.bmp',\n",
       "  'D:\\\\Users\\\\Chuan\\\\Documents\\\\Database\\\\Karyotypes\\\\Arrangement_Merged\\\\chr_18\\\\W21012~A.0019.K.18R.bmp',\n",
       "  'D:\\\\Users\\\\Chuan\\\\Documents\\\\Database\\\\Karyotypes\\\\Arrangement_Merged\\\\chr_18\\\\W21014~A.0005.K.18L.bmp',\n",
       "  'D:\\\\Users\\\\Chuan\\\\Documents\\\\Database\\\\Karyotypes\\\\Arrangement_Merged\\\\chr_18\\\\W21014~A.0005.K.18R.bmp',\n",
       "  'D:\\\\Users\\\\Chuan\\\\Documents\\\\Database\\\\Karyotypes\\\\Arrangement_Merged\\\\chr_18\\\\W21022~A.0007.K.jpg.18L.bmp',\n",
       "  'D:\\\\Users\\\\Chuan\\\\Documents\\\\Database\\\\Karyotypes\\\\Arrangement_Merged\\\\chr_18\\\\W21022~A.0007.K.jpg.18R.bmp',\n",
       "  'D:\\\\Users\\\\Chuan\\\\Documents\\\\Database\\\\Karyotypes\\\\Arrangement_Merged\\\\chr_18\\\\W21025~A.0002.K.jpg.18L.bmp',\n",
       "  'D:\\\\Users\\\\Chuan\\\\Documents\\\\Database\\\\Karyotypes\\\\Arrangement_Merged\\\\chr_18\\\\W21025~A.0002.K.jpg.18R.bmp',\n",
       "  'D:\\\\Users\\\\Chuan\\\\Documents\\\\Database\\\\Karyotypes\\\\Arrangement_Merged\\\\chr_18\\\\W21027~A.0003.K.18L.bmp',\n",
       "  'D:\\\\Users\\\\Chuan\\\\Documents\\\\Database\\\\Karyotypes\\\\Arrangement_Merged\\\\chr_18\\\\W21027~A.0003.K.18R.bmp',\n",
       "  'D:\\\\Users\\\\Chuan\\\\Documents\\\\Database\\\\Karyotypes\\\\Arrangement_Merged\\\\chr_18\\\\W21486~A.0020.K.bmp.18L.bmp',\n",
       "  'D:\\\\Users\\\\Chuan\\\\Documents\\\\Database\\\\Karyotypes\\\\Arrangement_Merged\\\\chr_18\\\\W21486~A.0020.K.bmp.18R.bmp',\n",
       "  'D:\\\\Users\\\\Chuan\\\\Documents\\\\Database\\\\Karyotypes\\\\Arrangement_Merged\\\\chr_18\\\\W21563~A.0006.K.18L.bmp',\n",
       "  'D:\\\\Users\\\\Chuan\\\\Documents\\\\Database\\\\Karyotypes\\\\Arrangement_Merged\\\\chr_18\\\\W21563~A.0006.K.18R.bmp',\n",
       "  'D:\\\\Users\\\\Chuan\\\\Documents\\\\Database\\\\Karyotypes\\\\Arrangement_Merged\\\\chr_18\\\\W21570~A.0001.K.jpg.18L.bmp',\n",
       "  'D:\\\\Users\\\\Chuan\\\\Documents\\\\Database\\\\Karyotypes\\\\Arrangement_Merged\\\\chr_18\\\\W21570~A.0001.K.jpg.18R.bmp',\n",
       "  'D:\\\\Users\\\\Chuan\\\\Documents\\\\Database\\\\Karyotypes\\\\Arrangement_Merged\\\\chr_18\\\\W21576~A.0010.K.jpg.18L.bmp',\n",
       "  'D:\\\\Users\\\\Chuan\\\\Documents\\\\Database\\\\Karyotypes\\\\Arrangement_Merged\\\\chr_18\\\\W21576~A.0010.K.jpg.18R.bmp',\n",
       "  'D:\\\\Users\\\\Chuan\\\\Documents\\\\Database\\\\Karyotypes\\\\Arrangement_Merged\\\\chr_18\\\\W21587~A.0008.K.jpg.18L.bmp',\n",
       "  'D:\\\\Users\\\\Chuan\\\\Documents\\\\Database\\\\Karyotypes\\\\Arrangement_Merged\\\\chr_18\\\\W21587~A.0008.K.jpg.18R.bmp',\n",
       "  'D:\\\\Users\\\\Chuan\\\\Documents\\\\Database\\\\Karyotypes\\\\Arrangement_Merged\\\\chr_18\\\\W21587~A.0010.K.jpg.18L.bmp',\n",
       "  'D:\\\\Users\\\\Chuan\\\\Documents\\\\Database\\\\Karyotypes\\\\Arrangement_Merged\\\\chr_18\\\\W21587~A.0010.K.jpg.18R.bmp',\n",
       "  'D:\\\\Users\\\\Chuan\\\\Documents\\\\Database\\\\Karyotypes\\\\Arrangement_Merged\\\\chr_18\\\\W21588~A.0001.K.jpg.18L.bmp',\n",
       "  'D:\\\\Users\\\\Chuan\\\\Documents\\\\Database\\\\Karyotypes\\\\Arrangement_Merged\\\\chr_18\\\\W21588~A.0001.K.jpg.18R.bmp',\n",
       "  'D:\\\\Users\\\\Chuan\\\\Documents\\\\Database\\\\Karyotypes\\\\Arrangement_Merged\\\\chr_18\\\\W21766~A.0025.K.jpg.18L.bmp',\n",
       "  'D:\\\\Users\\\\Chuan\\\\Documents\\\\Database\\\\Karyotypes\\\\Arrangement_Merged\\\\chr_18\\\\W21766~A.0025.K.jpg.18R.bmp',\n",
       "  'D:\\\\Users\\\\Chuan\\\\Documents\\\\Database\\\\Karyotypes\\\\Arrangement_Merged\\\\chr_18\\\\W21890~A.0005.K.jpg.18L.bmp',\n",
       "  'D:\\\\Users\\\\Chuan\\\\Documents\\\\Database\\\\Karyotypes\\\\Arrangement_Merged\\\\chr_18\\\\W21890~A.0005.K.jpg.18R.bmp',\n",
       "  'D:\\\\Users\\\\Chuan\\\\Documents\\\\Database\\\\Karyotypes\\\\Arrangement_Merged\\\\chr_18\\\\W21894~A.0009.K.jpg.18L.bmp',\n",
       "  'D:\\\\Users\\\\Chuan\\\\Documents\\\\Database\\\\Karyotypes\\\\Arrangement_Merged\\\\chr_18\\\\W21894~A.0009.K.jpg.18R.bmp',\n",
       "  'D:\\\\Users\\\\Chuan\\\\Documents\\\\Database\\\\Karyotypes\\\\Arrangement_Merged\\\\chr_18\\\\W21902~A.0010.K.jpg.18L.bmp',\n",
       "  'D:\\\\Users\\\\Chuan\\\\Documents\\\\Database\\\\Karyotypes\\\\Arrangement_Merged\\\\chr_18\\\\W21902~A.0010.K.jpg.18R.bmp',\n",
       "  'D:\\\\Users\\\\Chuan\\\\Documents\\\\Database\\\\Karyotypes\\\\Arrangement_Merged\\\\chr_18\\\\W21905~A.0007.K.jpg.18L.bmp',\n",
       "  'D:\\\\Users\\\\Chuan\\\\Documents\\\\Database\\\\Karyotypes\\\\Arrangement_Merged\\\\chr_18\\\\W21905~A.0007.K.jpg.18R.bmp',\n",
       "  'D:\\\\Users\\\\Chuan\\\\Documents\\\\Database\\\\Karyotypes\\\\Arrangement_Merged\\\\chr_18\\\\W21906~A.0011.K.jpg.18L.bmp',\n",
       "  'D:\\\\Users\\\\Chuan\\\\Documents\\\\Database\\\\Karyotypes\\\\Arrangement_Merged\\\\chr_18\\\\W21906~A.0011.K.jpg.18R.bmp',\n",
       "  'D:\\\\Users\\\\Chuan\\\\Documents\\\\Database\\\\Karyotypes\\\\Arrangement_Merged\\\\chr_18\\\\w22038~A.0017.K.jpg.18L.bmp',\n",
       "  'D:\\\\Users\\\\Chuan\\\\Documents\\\\Database\\\\Karyotypes\\\\Arrangement_Merged\\\\chr_18\\\\w22038~A.0017.K.jpg.18R.bmp',\n",
       "  'D:\\\\Users\\\\Chuan\\\\Documents\\\\Database\\\\Karyotypes\\\\Arrangement_Merged\\\\chr_18\\\\w22292~A.0027.K.jpg.18L.bmp',\n",
       "  'D:\\\\Users\\\\Chuan\\\\Documents\\\\Database\\\\Karyotypes\\\\Arrangement_Merged\\\\chr_18\\\\w22292~A.0027.K.jpg.18R.bmp',\n",
       "  'D:\\\\Users\\\\Chuan\\\\Documents\\\\Database\\\\Karyotypes\\\\Arrangement_Merged\\\\chr_18\\\\W22451~A.0011.K.jpg.18L.bmp',\n",
       "  'D:\\\\Users\\\\Chuan\\\\Documents\\\\Database\\\\Karyotypes\\\\Arrangement_Merged\\\\chr_18\\\\W22451~A.0011.K.jpg.18R.bmp',\n",
       "  'D:\\\\Users\\\\Chuan\\\\Documents\\\\Database\\\\Karyotypes\\\\Arrangement_Merged\\\\chr_18\\\\W22455~A.0002.K.jpg.18L.bmp',\n",
       "  'D:\\\\Users\\\\Chuan\\\\Documents\\\\Database\\\\Karyotypes\\\\Arrangement_Merged\\\\chr_18\\\\W22455~A.0002.K.jpg.18R.bmp',\n",
       "  'D:\\\\Users\\\\Chuan\\\\Documents\\\\Database\\\\Karyotypes\\\\Arrangement_Merged\\\\chr_18\\\\W22666-1.0002.K.jpg.18L.bmp',\n",
       "  'D:\\\\Users\\\\Chuan\\\\Documents\\\\Database\\\\Karyotypes\\\\Arrangement_Merged\\\\chr_18\\\\W22666-1.0002.K.jpg.18R.bmp',\n",
       "  'D:\\\\Users\\\\Chuan\\\\Documents\\\\Database\\\\Karyotypes\\\\Arrangement_Merged\\\\chr_18\\\\W22670~A.0006.K.jpg.18L.bmp',\n",
       "  'D:\\\\Users\\\\Chuan\\\\Documents\\\\Database\\\\Karyotypes\\\\Arrangement_Merged\\\\chr_18\\\\W22670~A.0006.K.jpg.18R.bmp',\n",
       "  'D:\\\\Users\\\\Chuan\\\\Documents\\\\Database\\\\Karyotypes\\\\Arrangement_Merged\\\\chr_18\\\\W22672~A.0004.K.jpg.18L.bmp',\n",
       "  'D:\\\\Users\\\\Chuan\\\\Documents\\\\Database\\\\Karyotypes\\\\Arrangement_Merged\\\\chr_18\\\\W22672~A.0004.K.jpg.18R.bmp',\n",
       "  'D:\\\\Users\\\\Chuan\\\\Documents\\\\Database\\\\Karyotypes\\\\Arrangement_Merged\\\\chr_18\\\\w22881~A.0017.K.jpg.18L.bmp',\n",
       "  'D:\\\\Users\\\\Chuan\\\\Documents\\\\Database\\\\Karyotypes\\\\Arrangement_Merged\\\\chr_18\\\\w22881~A.0017.K.jpg.18R.bmp',\n",
       "  'D:\\\\Users\\\\Chuan\\\\Documents\\\\Database\\\\Karyotypes\\\\Arrangement_Merged\\\\chr_18\\\\W23070~A.0001.K.jpg.18L.bmp',\n",
       "  'D:\\\\Users\\\\Chuan\\\\Documents\\\\Database\\\\Karyotypes\\\\Arrangement_Merged\\\\chr_18\\\\W23070~A.0001.K.jpg.18R.bmp',\n",
       "  'D:\\\\Users\\\\Chuan\\\\Documents\\\\Database\\\\Karyotypes\\\\Arrangement_Merged\\\\chr_18\\\\W23075-1~A.0017.K.jpg.18L.bmp',\n",
       "  'D:\\\\Users\\\\Chuan\\\\Documents\\\\Database\\\\Karyotypes\\\\Arrangement_Merged\\\\chr_18\\\\W23075-1~A.0017.K.jpg.18R.bmp',\n",
       "  'D:\\\\Users\\\\Chuan\\\\Documents\\\\Database\\\\Karyotypes\\\\Arrangement_Merged\\\\chr_18\\\\W23082.0026.K.jpg.18L.bmp',\n",
       "  'D:\\\\Users\\\\Chuan\\\\Documents\\\\Database\\\\Karyotypes\\\\Arrangement_Merged\\\\chr_18\\\\W23082.0026.K.jpg.18R.bmp',\n",
       "  'D:\\\\Users\\\\Chuan\\\\Documents\\\\Database\\\\Karyotypes\\\\Arrangement_Merged\\\\chr_18\\\\W23084~A.0003.K.jp.18L.bmp',\n",
       "  'D:\\\\Users\\\\Chuan\\\\Documents\\\\Database\\\\Karyotypes\\\\Arrangement_Merged\\\\chr_18\\\\W23084~A.0003.K.jp.18R.bmp'],\n",
       " 'chr_18_p11_deletion': ['D:\\\\Users\\\\Chuan\\\\Documents\\\\Database\\\\Karyotypes\\\\Arrangement_Merged\\\\chr_18_p11_deletion\\\\183873-del(18)(p11)-10R.bmp',\n",
       "  'D:\\\\Users\\\\Chuan\\\\Documents\\\\Database\\\\Karyotypes\\\\Arrangement_Merged\\\\chr_18_p11_deletion\\\\183873-del(18)(p11)-11R.bmp',\n",
       "  'D:\\\\Users\\\\Chuan\\\\Documents\\\\Database\\\\Karyotypes\\\\Arrangement_Merged\\\\chr_18_p11_deletion\\\\183873-del(18)(p11)-12R.bmp',\n",
       "  'D:\\\\Users\\\\Chuan\\\\Documents\\\\Database\\\\Karyotypes\\\\Arrangement_Merged\\\\chr_18_p11_deletion\\\\183873-del(18)(p11)-13R.bmp',\n",
       "  'D:\\\\Users\\\\Chuan\\\\Documents\\\\Database\\\\Karyotypes\\\\Arrangement_Merged\\\\chr_18_p11_deletion\\\\183873-del(18)(p11)-14R.bmp',\n",
       "  'D:\\\\Users\\\\Chuan\\\\Documents\\\\Database\\\\Karyotypes\\\\Arrangement_Merged\\\\chr_18_p11_deletion\\\\183873-del(18)(p11)-15R.bmp',\n",
       "  'D:\\\\Users\\\\Chuan\\\\Documents\\\\Database\\\\Karyotypes\\\\Arrangement_Merged\\\\chr_18_p11_deletion\\\\183873-del(18)(p11)-16R.bmp',\n",
       "  'D:\\\\Users\\\\Chuan\\\\Documents\\\\Database\\\\Karyotypes\\\\Arrangement_Merged\\\\chr_18_p11_deletion\\\\183873-del(18)(p11)-17R.bmp',\n",
       "  'D:\\\\Users\\\\Chuan\\\\Documents\\\\Database\\\\Karyotypes\\\\Arrangement_Merged\\\\chr_18_p11_deletion\\\\183873-del(18)(p11)-18R.bmp',\n",
       "  'D:\\\\Users\\\\Chuan\\\\Documents\\\\Database\\\\Karyotypes\\\\Arrangement_Merged\\\\chr_18_p11_deletion\\\\183873-del(18)(p11)-19R.bmp',\n",
       "  'D:\\\\Users\\\\Chuan\\\\Documents\\\\Database\\\\Karyotypes\\\\Arrangement_Merged\\\\chr_18_p11_deletion\\\\183873-del(18)(p11)-1R.bmp',\n",
       "  'D:\\\\Users\\\\Chuan\\\\Documents\\\\Database\\\\Karyotypes\\\\Arrangement_Merged\\\\chr_18_p11_deletion\\\\183873-del(18)(p11)-20R.bmp',\n",
       "  'D:\\\\Users\\\\Chuan\\\\Documents\\\\Database\\\\Karyotypes\\\\Arrangement_Merged\\\\chr_18_p11_deletion\\\\183873-del(18)(p11)-21R.bmp',\n",
       "  'D:\\\\Users\\\\Chuan\\\\Documents\\\\Database\\\\Karyotypes\\\\Arrangement_Merged\\\\chr_18_p11_deletion\\\\183873-del(18)(p11)-22R.bmp',\n",
       "  'D:\\\\Users\\\\Chuan\\\\Documents\\\\Database\\\\Karyotypes\\\\Arrangement_Merged\\\\chr_18_p11_deletion\\\\183873-del(18)(p11)-23R.bmp',\n",
       "  'D:\\\\Users\\\\Chuan\\\\Documents\\\\Database\\\\Karyotypes\\\\Arrangement_Merged\\\\chr_18_p11_deletion\\\\183873-del(18)(p11)-24R.bmp',\n",
       "  'D:\\\\Users\\\\Chuan\\\\Documents\\\\Database\\\\Karyotypes\\\\Arrangement_Merged\\\\chr_18_p11_deletion\\\\183873-del(18)(p11)-25R.bmp',\n",
       "  'D:\\\\Users\\\\Chuan\\\\Documents\\\\Database\\\\Karyotypes\\\\Arrangement_Merged\\\\chr_18_p11_deletion\\\\183873-del(18)(p11)-2R.bmp',\n",
       "  'D:\\\\Users\\\\Chuan\\\\Documents\\\\Database\\\\Karyotypes\\\\Arrangement_Merged\\\\chr_18_p11_deletion\\\\183873-del(18)(p11)-3R.bmp',\n",
       "  'D:\\\\Users\\\\Chuan\\\\Documents\\\\Database\\\\Karyotypes\\\\Arrangement_Merged\\\\chr_18_p11_deletion\\\\183873-del(18)(p11)-4R.bmp',\n",
       "  'D:\\\\Users\\\\Chuan\\\\Documents\\\\Database\\\\Karyotypes\\\\Arrangement_Merged\\\\chr_18_p11_deletion\\\\183873-del(18)(p11)-5R.bmp',\n",
       "  'D:\\\\Users\\\\Chuan\\\\Documents\\\\Database\\\\Karyotypes\\\\Arrangement_Merged\\\\chr_18_p11_deletion\\\\183873-del(18)(p11)-6R.bmp',\n",
       "  'D:\\\\Users\\\\Chuan\\\\Documents\\\\Database\\\\Karyotypes\\\\Arrangement_Merged\\\\chr_18_p11_deletion\\\\183873-del(18)(p11)-7R.bmp',\n",
       "  'D:\\\\Users\\\\Chuan\\\\Documents\\\\Database\\\\Karyotypes\\\\Arrangement_Merged\\\\chr_18_p11_deletion\\\\183873-del(18)(p11)-8R.bmp',\n",
       "  'D:\\\\Users\\\\Chuan\\\\Documents\\\\Database\\\\Karyotypes\\\\Arrangement_Merged\\\\chr_18_p11_deletion\\\\183873-del(18)(p11)-9R.bmp',\n",
       "  'D:\\\\Users\\\\Chuan\\\\Documents\\\\Database\\\\Karyotypes\\\\Arrangement_Merged\\\\chr_18_p11_deletion\\\\190325-1.jpg_18p11.bmp',\n",
       "  'D:\\\\Users\\\\Chuan\\\\Documents\\\\Database\\\\Karyotypes\\\\Arrangement_Merged\\\\chr_18_p11_deletion\\\\190325-10.jpg_18p11.bmp',\n",
       "  'D:\\\\Users\\\\Chuan\\\\Documents\\\\Database\\\\Karyotypes\\\\Arrangement_Merged\\\\chr_18_p11_deletion\\\\190325-11.jpg_18p11.bmp',\n",
       "  'D:\\\\Users\\\\Chuan\\\\Documents\\\\Database\\\\Karyotypes\\\\Arrangement_Merged\\\\chr_18_p11_deletion\\\\190325-12.jpg_18p11.bmp',\n",
       "  'D:\\\\Users\\\\Chuan\\\\Documents\\\\Database\\\\Karyotypes\\\\Arrangement_Merged\\\\chr_18_p11_deletion\\\\190325-13.jpg_18p11.bmp',\n",
       "  'D:\\\\Users\\\\Chuan\\\\Documents\\\\Database\\\\Karyotypes\\\\Arrangement_Merged\\\\chr_18_p11_deletion\\\\190325-14.jpg_18p11.bmp',\n",
       "  'D:\\\\Users\\\\Chuan\\\\Documents\\\\Database\\\\Karyotypes\\\\Arrangement_Merged\\\\chr_18_p11_deletion\\\\190325-15.jpg_18p11.bmp',\n",
       "  'D:\\\\Users\\\\Chuan\\\\Documents\\\\Database\\\\Karyotypes\\\\Arrangement_Merged\\\\chr_18_p11_deletion\\\\190325-16.jpg_18p11.bmp',\n",
       "  'D:\\\\Users\\\\Chuan\\\\Documents\\\\Database\\\\Karyotypes\\\\Arrangement_Merged\\\\chr_18_p11_deletion\\\\190325-17.jpg_18p11.bmp',\n",
       "  'D:\\\\Users\\\\Chuan\\\\Documents\\\\Database\\\\Karyotypes\\\\Arrangement_Merged\\\\chr_18_p11_deletion\\\\190325-18.jpg_18p11.bmp',\n",
       "  'D:\\\\Users\\\\Chuan\\\\Documents\\\\Database\\\\Karyotypes\\\\Arrangement_Merged\\\\chr_18_p11_deletion\\\\190325-19.jpg_18del_p11.bmp',\n",
       "  'D:\\\\Users\\\\Chuan\\\\Documents\\\\Database\\\\Karyotypes\\\\Arrangement_Merged\\\\chr_18_p11_deletion\\\\190325-2.jpg_18p11.bmp',\n",
       "  'D:\\\\Users\\\\Chuan\\\\Documents\\\\Database\\\\Karyotypes\\\\Arrangement_Merged\\\\chr_18_p11_deletion\\\\190325-20.jpg.18del_p11.bmp',\n",
       "  'D:\\\\Users\\\\Chuan\\\\Documents\\\\Database\\\\Karyotypes\\\\Arrangement_Merged\\\\chr_18_p11_deletion\\\\190325-3.jpg_18p11.bmp',\n",
       "  'D:\\\\Users\\\\Chuan\\\\Documents\\\\Database\\\\Karyotypes\\\\Arrangement_Merged\\\\chr_18_p11_deletion\\\\190325-4.jpg_18p11.bmp',\n",
       "  'D:\\\\Users\\\\Chuan\\\\Documents\\\\Database\\\\Karyotypes\\\\Arrangement_Merged\\\\chr_18_p11_deletion\\\\190325-5.jpg_18p11.bmp',\n",
       "  'D:\\\\Users\\\\Chuan\\\\Documents\\\\Database\\\\Karyotypes\\\\Arrangement_Merged\\\\chr_18_p11_deletion\\\\190325-6.jpg_18p11.bmp',\n",
       "  'D:\\\\Users\\\\Chuan\\\\Documents\\\\Database\\\\Karyotypes\\\\Arrangement_Merged\\\\chr_18_p11_deletion\\\\190325-7.jpg_18p11.bmp',\n",
       "  'D:\\\\Users\\\\Chuan\\\\Documents\\\\Database\\\\Karyotypes\\\\Arrangement_Merged\\\\chr_18_p11_deletion\\\\190325-8.jpg_18p11.bmp',\n",
       "  'D:\\\\Users\\\\Chuan\\\\Documents\\\\Database\\\\Karyotypes\\\\Arrangement_Merged\\\\chr_18_p11_deletion\\\\190325-9.jpg_18p11.bmp',\n",
       "  'D:\\\\Users\\\\Chuan\\\\Documents\\\\Database\\\\Karyotypes\\\\Arrangement_Merged\\\\chr_18_p11_deletion\\\\194161-del(18)(p11)-10R.bmp',\n",
       "  'D:\\\\Users\\\\Chuan\\\\Documents\\\\Database\\\\Karyotypes\\\\Arrangement_Merged\\\\chr_18_p11_deletion\\\\194161-del(18)(p11)-11R.bmp',\n",
       "  'D:\\\\Users\\\\Chuan\\\\Documents\\\\Database\\\\Karyotypes\\\\Arrangement_Merged\\\\chr_18_p11_deletion\\\\194161-del(18)(p11)-12R.bmp',\n",
       "  'D:\\\\Users\\\\Chuan\\\\Documents\\\\Database\\\\Karyotypes\\\\Arrangement_Merged\\\\chr_18_p11_deletion\\\\194161-del(18)(p11)-13R.bmp',\n",
       "  'D:\\\\Users\\\\Chuan\\\\Documents\\\\Database\\\\Karyotypes\\\\Arrangement_Merged\\\\chr_18_p11_deletion\\\\194161-del(18)(p11)-14R.bmp',\n",
       "  'D:\\\\Users\\\\Chuan\\\\Documents\\\\Database\\\\Karyotypes\\\\Arrangement_Merged\\\\chr_18_p11_deletion\\\\194161-del(18)(p11)-15R.bmp',\n",
       "  'D:\\\\Users\\\\Chuan\\\\Documents\\\\Database\\\\Karyotypes\\\\Arrangement_Merged\\\\chr_18_p11_deletion\\\\194161-del(18)(p11)-16R.bmp',\n",
       "  'D:\\\\Users\\\\Chuan\\\\Documents\\\\Database\\\\Karyotypes\\\\Arrangement_Merged\\\\chr_18_p11_deletion\\\\194161-del(18)(p11)-17R.bmp',\n",
       "  'D:\\\\Users\\\\Chuan\\\\Documents\\\\Database\\\\Karyotypes\\\\Arrangement_Merged\\\\chr_18_p11_deletion\\\\194161-del(18)(p11)-18R.bmp',\n",
       "  'D:\\\\Users\\\\Chuan\\\\Documents\\\\Database\\\\Karyotypes\\\\Arrangement_Merged\\\\chr_18_p11_deletion\\\\194161-del(18)(p11)-19R.bmp',\n",
       "  'D:\\\\Users\\\\Chuan\\\\Documents\\\\Database\\\\Karyotypes\\\\Arrangement_Merged\\\\chr_18_p11_deletion\\\\194161-del(18)(p11)-1R.bmp',\n",
       "  'D:\\\\Users\\\\Chuan\\\\Documents\\\\Database\\\\Karyotypes\\\\Arrangement_Merged\\\\chr_18_p11_deletion\\\\194161-del(18)(p11)-20R.bmp',\n",
       "  'D:\\\\Users\\\\Chuan\\\\Documents\\\\Database\\\\Karyotypes\\\\Arrangement_Merged\\\\chr_18_p11_deletion\\\\194161-del(18)(p11)-21R.bmp',\n",
       "  'D:\\\\Users\\\\Chuan\\\\Documents\\\\Database\\\\Karyotypes\\\\Arrangement_Merged\\\\chr_18_p11_deletion\\\\194161-del(18)(p11)-22R.bmp',\n",
       "  'D:\\\\Users\\\\Chuan\\\\Documents\\\\Database\\\\Karyotypes\\\\Arrangement_Merged\\\\chr_18_p11_deletion\\\\194161-del(18)(p11)-23R.bmp',\n",
       "  'D:\\\\Users\\\\Chuan\\\\Documents\\\\Database\\\\Karyotypes\\\\Arrangement_Merged\\\\chr_18_p11_deletion\\\\194161-del(18)(p11)-24R.bmp',\n",
       "  'D:\\\\Users\\\\Chuan\\\\Documents\\\\Database\\\\Karyotypes\\\\Arrangement_Merged\\\\chr_18_p11_deletion\\\\194161-del(18)(p11)-25R.bmp',\n",
       "  'D:\\\\Users\\\\Chuan\\\\Documents\\\\Database\\\\Karyotypes\\\\Arrangement_Merged\\\\chr_18_p11_deletion\\\\194161-del(18)(p11)-26R.bmp',\n",
       "  'D:\\\\Users\\\\Chuan\\\\Documents\\\\Database\\\\Karyotypes\\\\Arrangement_Merged\\\\chr_18_p11_deletion\\\\194161-del(18)(p11)-27R.bmp',\n",
       "  'D:\\\\Users\\\\Chuan\\\\Documents\\\\Database\\\\Karyotypes\\\\Arrangement_Merged\\\\chr_18_p11_deletion\\\\194161-del(18)(p11)-28R.bmp',\n",
       "  'D:\\\\Users\\\\Chuan\\\\Documents\\\\Database\\\\Karyotypes\\\\Arrangement_Merged\\\\chr_18_p11_deletion\\\\194161-del(18)(p11)-29R.bmp',\n",
       "  'D:\\\\Users\\\\Chuan\\\\Documents\\\\Database\\\\Karyotypes\\\\Arrangement_Merged\\\\chr_18_p11_deletion\\\\194161-del(18)(p11)-2R.bmp',\n",
       "  'D:\\\\Users\\\\Chuan\\\\Documents\\\\Database\\\\Karyotypes\\\\Arrangement_Merged\\\\chr_18_p11_deletion\\\\194161-del(18)(p11)-30R.bmp',\n",
       "  'D:\\\\Users\\\\Chuan\\\\Documents\\\\Database\\\\Karyotypes\\\\Arrangement_Merged\\\\chr_18_p11_deletion\\\\194161-del(18)(p11)-3R.bmp',\n",
       "  'D:\\\\Users\\\\Chuan\\\\Documents\\\\Database\\\\Karyotypes\\\\Arrangement_Merged\\\\chr_18_p11_deletion\\\\194161-del(18)(p11)-4R.bmp',\n",
       "  'D:\\\\Users\\\\Chuan\\\\Documents\\\\Database\\\\Karyotypes\\\\Arrangement_Merged\\\\chr_18_p11_deletion\\\\194161-del(18)(p11)-5R.bmp',\n",
       "  'D:\\\\Users\\\\Chuan\\\\Documents\\\\Database\\\\Karyotypes\\\\Arrangement_Merged\\\\chr_18_p11_deletion\\\\194161-del(18)(p11)-6R.bmp',\n",
       "  'D:\\\\Users\\\\Chuan\\\\Documents\\\\Database\\\\Karyotypes\\\\Arrangement_Merged\\\\chr_18_p11_deletion\\\\194161-del(18)(p11)-7R.bmp',\n",
       "  'D:\\\\Users\\\\Chuan\\\\Documents\\\\Database\\\\Karyotypes\\\\Arrangement_Merged\\\\chr_18_p11_deletion\\\\194161-del(18)(p11)-8R.bmp',\n",
       "  'D:\\\\Users\\\\Chuan\\\\Documents\\\\Database\\\\Karyotypes\\\\Arrangement_Merged\\\\chr_18_p11_deletion\\\\194161-del(18)(p11)-9R.bmp']}"
      ]
     },
     "execution_count": 5,
     "metadata": {},
     "output_type": "execute_result"
    }
   ],
   "source": [
    "with open('data_theWhole.json') as json_file:\n",
    "    theWhole = json.load(json_file)\n",
    "theWhole"
   ]
  },
  {
   "cell_type": "markdown",
   "metadata": {},
   "source": [
    "# 3. Iteration"
   ]
  },
  {
   "cell_type": "markdown",
   "metadata": {},
   "source": [
    "## 3.1 Image Input"
   ]
  },
  {
   "cell_type": "markdown",
   "metadata": {},
   "source": [
    "### 3.1.x Display the Split Method"
   ]
  },
  {
   "cell_type": "code",
   "execution_count": 6,
   "metadata": {},
   "outputs": [
    {
     "data": {
      "text/plain": [
       "dict"
      ]
     },
     "execution_count": 6,
     "metadata": {},
     "output_type": "execute_result"
    }
   ],
   "source": [
    "type(X_train_name)"
   ]
  },
  {
   "cell_type": "code",
   "execution_count": 7,
   "metadata": {},
   "outputs": [
    {
     "data": {
      "text/plain": [
       "dict_keys(['chr_18', 'chr_18_p11_deletion'])"
      ]
     },
     "execution_count": 7,
     "metadata": {},
     "output_type": "execute_result"
    }
   ],
   "source": [
    "X_train_name.keys()"
   ]
  },
  {
   "cell_type": "code",
   "execution_count": 8,
   "metadata": {},
   "outputs": [
    {
     "name": "stdout",
     "output_type": "stream",
     "text": [
      "Iteration No.  0\n",
      "chr_18\n",
      "   Train: \n",
      "        181228-i(18)(q10)+18-10L.bmp\n",
      "        181228-i(18)(q10)+18-11L.bmp\n",
      "        181228-i(18)(q10)+18-12L.bmp\n",
      "        181228-i(18)(q10)+18-13L.bmp\n",
      "        181228-i(18)(q10)+18-2L.bmp\n",
      "        181228-i(18)(q10)+18-3L.bmp\n",
      "        181228-i(18)(q10)+18-4L.bmp\n",
      "        181228-i(18)(q10)+18-5L.bmp\n",
      "        181228-i(18)(q10)+18-7L.bmp\n",
      "        181228-i(18)(q10)+18-9L.bmp\n",
      "        183873-del(18)(p11)-10L.bmp\n",
      "        183873-del(18)(p11)-12L.bmp\n",
      "        183873-del(18)(p11)-14L.bmp\n",
      "        183873-del(18)(p11)-15L.bmp\n",
      "        183873-del(18)(p11)-17L.bmp\n",
      "        183873-del(18)(p11)-18L.bmp\n",
      "        183873-del(18)(p11)-19L.bmp\n",
      "        183873-del(18)(p11)-1L.bmp\n",
      "        183873-del(18)(p11)-20L.bmp\n",
      "        183873-del(18)(p11)-21L.bmp\n",
      "        183873-del(18)(p11)-22L.bmp\n",
      "        183873-del(18)(p11)-23L.bmp\n",
      "        183873-del(18)(p11)-24L.bmp\n",
      "        183873-del(18)(p11)-2L.bmp\n",
      "        183873-del(18)(p11)-4L.bmp\n",
      "        183873-del(18)(p11)-5L.bmp\n",
      "        183873-del(18)(p11)-6L.bmp\n",
      "        183873-del(18)(p11)-8L.bmp\n",
      "        183873-del(18)(p11)-9L.bmp\n",
      "        190325-1.jpg_18L.bmp\n",
      "        190325-10.jpg_18L.bmp\n",
      "        190325-12.jpg_18L.bmp\n",
      "        190325-14.jpg_18L.bmp\n",
      "        190325-15.jpg_18L.bmp\n",
      "        190325-16.jpg_18L.bmp\n",
      "        190325-17.jpg_18L.bmp\n",
      "        190325-19.jpg_18L.bmp\n",
      "        190325-2.jpg_18L.bmp\n",
      "        190325-20.jpg.18L.bmp\n",
      "        190325-4.jpg_18L.bmp\n",
      "        190325-6.jpg_18L.bmp\n",
      "        190325-7.jpg_18L.bmp\n",
      "        190325-8.jpg_18L.bmp\n",
      "        190325-9.jpg_18L.bmp\n",
      "        191225-1.jpg_18L.bmp\n",
      "        191225-10.jpg_18L.bmp\n",
      "        191225-11.jpg_18L.bmp\n",
      "        191225-13.jpg_18L.bmp\n",
      "        191225-14.jpg_18L.bmp\n",
      "        191225-15.jpg_18L.bmp\n",
      "        191225-16.jpg_18L.bmp\n",
      "        191225-17.jpg_18L.bmp\n",
      "        191225-18.jpg_18L.bmp\n",
      "        191225-19.jpg_18L.bmp\n",
      "        191225-2.jpg_18L.bmp\n",
      "        191225-21.jpg_18L.bmp\n",
      "        191225-5.jpg_18L.bmp\n",
      "        191225-6.jpg_18L.bmp\n",
      "        191225-8.jpg_18L.bmp\n",
      "        194161-del(18)(p11)-10L.bmp\n",
      "        194161-del(18)(p11)-11L.bmp\n",
      "        194161-del(18)(p11)-12L.bmp\n",
      "        194161-del(18)(p11)-13L.bmp\n",
      "        194161-del(18)(p11)-14L.bmp\n",
      "        194161-del(18)(p11)-15L.bmp\n",
      "        194161-del(18)(p11)-16L.bmp\n",
      "        194161-del(18)(p11)-17L.bmp\n",
      "        194161-del(18)(p11)-18L.bmp\n",
      "        194161-del(18)(p11)-1L.bmp\n",
      "        194161-del(18)(p11)-20L.bmp\n",
      "        194161-del(18)(p11)-21L.bmp\n",
      "        194161-del(18)(p11)-22L.bmp\n",
      "        194161-del(18)(p11)-24L.bmp\n",
      "        194161-del(18)(p11)-25L.bmp\n",
      "        194161-del(18)(p11)-26L.bmp\n",
      "        194161-del(18)(p11)-28L.bmp\n",
      "        194161-del(18)(p11)-29L.bmp\n",
      "        194161-del(18)(p11)-2L.bmp\n",
      "        194161-del(18)(p11)-30L.bmp\n",
      "        194161-del(18)(p11)-3L.bmp\n",
      "        194161-del(18)(p11)-4L.bmp\n",
      "        194161-del(18)(p11)-5L.bmp\n",
      "        194161-del(18)(p11)-7L.bmp\n",
      "        194161-del(18)(p11)-8L.bmp\n",
      "        w21000~A.0001.K.jpg.18R.bmp\n",
      "        w21001~A.0008.K.jpg.18L.bmp\n",
      "        w21001~A.0008.K.jpg.18R.bmp\n",
      "        w21002~A.0024.K.jpg.18R.bmp\n",
      "        w21008~A.0008.K.jpg.18L.bmp\n",
      "        w21008~A.0008.K.jpg.18R.bmp\n",
      "        W21011~A.0008.K.18L.bmp\n",
      "        W21011~A.0008.K.18R.bmp\n",
      "        W21012~A.0019.K.18L.bmp\n",
      "        W21012~A.0019.K.18R.bmp\n",
      "        W21014~A.0005.K.18L.bmp\n",
      "        W21022~A.0007.K.jpg.18L.bmp\n",
      "        W21022~A.0007.K.jpg.18R.bmp\n",
      "        W21025~A.0002.K.jpg.18L.bmp\n",
      "        W21025~A.0002.K.jpg.18R.bmp\n",
      "        W21027~A.0003.K.18R.bmp\n",
      "        W21563~A.0006.K.18L.bmp\n",
      "        W21563~A.0006.K.18R.bmp\n",
      "        W21570~A.0001.K.jpg.18L.bmp\n",
      "        W21570~A.0001.K.jpg.18R.bmp\n",
      "        W21576~A.0010.K.jpg.18L.bmp\n",
      "        W21576~A.0010.K.jpg.18R.bmp\n",
      "        W21587~A.0008.K.jpg.18L.bmp\n",
      "        W21587~A.0008.K.jpg.18R.bmp\n",
      "        W21587~A.0010.K.jpg.18R.bmp\n",
      "        W21588~A.0001.K.jpg.18L.bmp\n",
      "        W21588~A.0001.K.jpg.18R.bmp\n",
      "        W21766~A.0025.K.jpg.18L.bmp\n",
      "        W21766~A.0025.K.jpg.18R.bmp\n",
      "        W21890~A.0005.K.jpg.18L.bmp\n",
      "        W21890~A.0005.K.jpg.18R.bmp\n",
      "        W21894~A.0009.K.jpg.18L.bmp\n",
      "        W21894~A.0009.K.jpg.18R.bmp\n",
      "        W21902~A.0010.K.jpg.18L.bmp\n",
      "        W21902~A.0010.K.jpg.18R.bmp\n",
      "        W21905~A.0007.K.jpg.18L.bmp\n",
      "        W21906~A.0011.K.jpg.18R.bmp\n",
      "        w22038~A.0017.K.jpg.18L.bmp\n",
      "        w22038~A.0017.K.jpg.18R.bmp\n",
      "        W22451~A.0011.K.jpg.18L.bmp\n",
      "        W22451~A.0011.K.jpg.18R.bmp\n",
      "        W22455~A.0002.K.jpg.18L.bmp\n",
      "        W22666-1.0002.K.jpg.18L.bmp\n",
      "        W22666-1.0002.K.jpg.18R.bmp\n",
      "        W22670~A.0006.K.jpg.18L.bmp\n",
      "        W22672~A.0004.K.jpg.18L.bmp\n",
      "        W22672~A.0004.K.jpg.18R.bmp\n",
      "        w22881~A.0017.K.jpg.18L.bmp\n",
      "        w22881~A.0017.K.jpg.18R.bmp\n",
      "        W23070~A.0001.K.jpg.18L.bmp\n",
      "        W23070~A.0001.K.jpg.18R.bmp\n",
      "        W23075-1~A.0017.K.jpg.18R.bmp\n",
      "        W23082.0026.K.jpg.18L.bmp\n",
      "        W23082.0026.K.jpg.18R.bmp\n",
      "        W23084~A.0003.K.jp.18L.bmp\n",
      "        W23084~A.0003.K.jp.18R.bmp\n",
      "   Test: \n",
      "        181228-i(18)(q10)+18-14L.bmp\n",
      "        181228-i(18)(q10)+18-1L.bmp\n",
      "        181228-i(18)(q10)+18-8L.bmp\n",
      "        183873-del(18)(p11)-11L.bmp\n",
      "        183873-del(18)(p11)-13L.bmp\n",
      "        183873-del(18)(p11)-16L.bmp\n",
      "        183873-del(18)(p11)-25L.bmp\n",
      "        183873-del(18)(p11)-3L.bmp\n",
      "        183873-del(18)(p11)-7L.bmp\n",
      "        190325-11.jpg_18L.bmp\n",
      "        190325-13.jpg_18L.bmp\n",
      "        190325-18.jpg_18L.bmp\n",
      "        190325-3.jpg_18L.bmp\n",
      "        190325-5.jpg_18L.bmp\n",
      "        191225-20.jpg_18L.bmp\n",
      "        191225-7.jpg_18L.bmp\n",
      "        191225-9.jpg_18L.bmp\n",
      "        194161-del(18)(p11)-19L.bmp\n",
      "        194161-del(18)(p11)-23L.bmp\n",
      "        194161-del(18)(p11)-27L.bmp\n",
      "        194161-del(18)(p11)-6L.bmp\n",
      "        194161-del(18)(p11)-9L.bmp\n",
      "        w21000~A.0001.K.jpg.18L.bmp\n",
      "        w21002~A.0024.K.jpg.18L.bmp\n",
      "        W21014~A.0005.K.18R.bmp\n",
      "        W21027~A.0003.K.18L.bmp\n",
      "        W21486~A.0020.K.bmp.18L.bmp\n",
      "        W21486~A.0020.K.bmp.18R.bmp\n",
      "        W21587~A.0010.K.jpg.18L.bmp\n",
      "        W21905~A.0007.K.jpg.18R.bmp\n",
      "        W21906~A.0011.K.jpg.18L.bmp\n",
      "        w22292~A.0027.K.jpg.18L.bmp\n",
      "        w22292~A.0027.K.jpg.18R.bmp\n",
      "        W22455~A.0002.K.jpg.18R.bmp\n",
      "        W22670~A.0006.K.jpg.18R.bmp\n",
      "        W23075-1~A.0017.K.jpg.18L.bmp\n",
      "chr_18_p11_deletion\n",
      "   Train: \n",
      "        183873-del(18)(p11)-10R.bmp\n",
      "        183873-del(18)(p11)-11R.bmp\n",
      "        183873-del(18)(p11)-13R.bmp\n",
      "        183873-del(18)(p11)-14R.bmp\n",
      "        183873-del(18)(p11)-15R.bmp\n",
      "        183873-del(18)(p11)-16R.bmp\n",
      "        183873-del(18)(p11)-17R.bmp\n",
      "        183873-del(18)(p11)-18R.bmp\n",
      "        183873-del(18)(p11)-19R.bmp\n",
      "        183873-del(18)(p11)-20R.bmp\n",
      "        183873-del(18)(p11)-21R.bmp\n",
      "        183873-del(18)(p11)-22R.bmp\n",
      "        183873-del(18)(p11)-23R.bmp\n",
      "        183873-del(18)(p11)-24R.bmp\n",
      "        183873-del(18)(p11)-25R.bmp\n",
      "        183873-del(18)(p11)-2R.bmp\n",
      "        183873-del(18)(p11)-3R.bmp\n",
      "        183873-del(18)(p11)-5R.bmp\n",
      "        183873-del(18)(p11)-6R.bmp\n",
      "        183873-del(18)(p11)-7R.bmp\n",
      "        183873-del(18)(p11)-8R.bmp\n",
      "        183873-del(18)(p11)-9R.bmp\n",
      "        190325-1.jpg_18p11.bmp\n",
      "        190325-12.jpg_18p11.bmp\n",
      "        190325-13.jpg_18p11.bmp\n",
      "        190325-14.jpg_18p11.bmp\n",
      "        190325-15.jpg_18p11.bmp\n",
      "        190325-16.jpg_18p11.bmp\n",
      "        190325-19.jpg_18del_p11.bmp\n",
      "        190325-2.jpg_18p11.bmp\n",
      "        190325-20.jpg.18del_p11.bmp\n",
      "        190325-3.jpg_18p11.bmp\n",
      "        190325-4.jpg_18p11.bmp\n",
      "        190325-6.jpg_18p11.bmp\n",
      "        190325-7.jpg_18p11.bmp\n",
      "        190325-8.jpg_18p11.bmp\n",
      "        194161-del(18)(p11)-10R.bmp\n",
      "        194161-del(18)(p11)-11R.bmp\n",
      "        194161-del(18)(p11)-13R.bmp\n",
      "        194161-del(18)(p11)-14R.bmp\n",
      "        194161-del(18)(p11)-15R.bmp\n",
      "        194161-del(18)(p11)-16R.bmp\n",
      "        194161-del(18)(p11)-17R.bmp\n",
      "        194161-del(18)(p11)-20R.bmp\n",
      "        194161-del(18)(p11)-21R.bmp\n",
      "        194161-del(18)(p11)-22R.bmp\n",
      "        194161-del(18)(p11)-23R.bmp\n",
      "        194161-del(18)(p11)-25R.bmp\n",
      "        194161-del(18)(p11)-26R.bmp\n",
      "        194161-del(18)(p11)-27R.bmp\n",
      "        194161-del(18)(p11)-28R.bmp\n",
      "        194161-del(18)(p11)-29R.bmp\n",
      "        194161-del(18)(p11)-2R.bmp\n",
      "        194161-del(18)(p11)-30R.bmp\n",
      "        194161-del(18)(p11)-3R.bmp\n",
      "        194161-del(18)(p11)-4R.bmp\n",
      "        194161-del(18)(p11)-6R.bmp\n",
      "        194161-del(18)(p11)-7R.bmp\n",
      "        194161-del(18)(p11)-8R.bmp\n",
      "        194161-del(18)(p11)-9R.bmp\n",
      "   Test: \n",
      "        183873-del(18)(p11)-12R.bmp\n",
      "        183873-del(18)(p11)-1R.bmp\n",
      "        183873-del(18)(p11)-4R.bmp\n",
      "        190325-10.jpg_18p11.bmp\n",
      "        190325-11.jpg_18p11.bmp\n",
      "        190325-17.jpg_18p11.bmp\n",
      "        190325-18.jpg_18p11.bmp\n",
      "        190325-5.jpg_18p11.bmp\n",
      "        190325-9.jpg_18p11.bmp\n",
      "        194161-del(18)(p11)-12R.bmp\n",
      "        194161-del(18)(p11)-18R.bmp\n",
      "        194161-del(18)(p11)-19R.bmp\n",
      "        194161-del(18)(p11)-1R.bmp\n",
      "        194161-del(18)(p11)-24R.bmp\n",
      "        194161-del(18)(p11)-5R.bmp\n"
     ]
    }
   ],
   "source": [
    "file_k_fold = open('KFold_Round_'+str(iterationNumber)+'.txt', 'w')\n",
    "\n",
    "print('Iteration No. ', iterationNumber)\n",
    "file_k_fold.write('Iteration No. %s\\n\\n' % iterationNumber)\n",
    "\n",
    "\n",
    "for chrNo in theWhole.keys():\n",
    "    print(chrNo)\n",
    "    file_k_fold.write('%s\\n' % chrNo)\n",
    "    print('   Train: ')\n",
    "    file_k_fold.write('Train: \\n')\n",
    "    for item in X_train_name[chrNo][str(iterationNumber)]:\n",
    "        print('       ', item.split('\\\\')[-1])\n",
    "        file_k_fold.write('      %s\\n' % item.split('\\\\')[-1])\n",
    "    print('   Test: ')\n",
    "    file_k_fold.write('Test: \\n')\n",
    "    for item in X_test_name[chrNo][str(iterationNumber)]:\n",
    "        print('       ', item.split('\\\\')[-1])\n",
    "        file_k_fold.write('      %s\\n' % item.split('\\\\')[-1])\n",
    "    file_k_fold.write('\\n')\n",
    "        \n",
    "file_k_fold.close()"
   ]
  },
  {
   "cell_type": "markdown",
   "metadata": {},
   "source": [
    "### 3.1.1. Helper Functions"
   ]
  },
  {
   "cell_type": "code",
   "execution_count": 9,
   "metadata": {},
   "outputs": [],
   "source": [
    "def extractData(image):\n",
    "    x = image.size[0]\n",
    "    y = image.size[1]\n",
    "    \n",
    "    matrix = []\n",
    "    rgb_matrix = []\n",
    "\n",
    "    for i in range(x):\n",
    "        matrix.append([])\n",
    "        rgb_matrix.append([])\n",
    "        \n",
    "        for j in range(y):\n",
    "            r, g, b = image.getpixel((j, i))            \n",
    "            value = r * 299.0/1000 + g * 587.0/1000 + b * 114.0/1000\n",
    "            value = int(value)\n",
    "            matrix[i].append(value)\n",
    "            rgb_matrix[i].append((r,g,b))\n",
    "    return matrix, rgb_matrix"
   ]
  },
  {
   "cell_type": "code",
   "execution_count": 10,
   "metadata": {},
   "outputs": [],
   "source": [
    "def imageReconstruct(matrix):\n",
    "    df = np.array(matrix, dtype=np.uint8)\n",
    "    img = Image.fromarray(df, 'RGB')\n",
    "    img.save('image.png')\n",
    "    return img"
   ]
  },
  {
   "cell_type": "markdown",
   "metadata": {},
   "source": [
    "### 3.1.2. Assignment of Training Data"
   ]
  },
  {
   "cell_type": "markdown",
   "metadata": {},
   "source": [
    "#### 3.1.2.1 Training: Image Object Assignment"
   ]
  },
  {
   "cell_type": "code",
   "execution_count": 11,
   "metadata": {},
   "outputs": [],
   "source": [
    "image = {}\n",
    "\n",
    "# 定义容纳图片对象的dictionary类型的变量image\n",
    "\n",
    "i = 0\n",
    "\n",
    "for chrNo in theWhole.keys():\n",
    "    image[chrNo] = []\n",
    "    for case in X_train_name[chrNo][str(iterationNumber)]:\n",
    "        \n",
    "        # 上面一行第二个中括号内为split的序号，0为第0次split分法\n",
    "        \n",
    "        img = Image.open(case)\n",
    "        image[chrNo].append(img)\n",
    "        \n",
    "        # image字典接受的是图片对象"
   ]
  },
  {
   "cell_type": "code",
   "execution_count": 12,
   "metadata": {},
   "outputs": [
    {
     "data": {
      "image/png": "[encoded data removed]",
      "text/plain": [
       "<PIL.BmpImagePlugin.BmpImageFile image mode=RGB size=300x300 at 0x1C17729E1D0>"
      ]
     },
     "execution_count": 12,
     "metadata": {},
     "output_type": "execute_result"
    }
   ],
   "source": [
    "image['chr_18'][1] # 测试一下图像对象"
   ]
  },
  {
   "cell_type": "markdown",
   "metadata": {},
   "source": [
    "#### 3.1.2.2. Training: Data Extraction from Images"
   ]
  },
  {
   "cell_type": "markdown",
   "metadata": {},
   "source": [
    "#### - Training Set Data: 将图像对象转变为矩阵数值"
   ]
  },
  {
   "cell_type": "code",
   "execution_count": 13,
   "metadata": {},
   "outputs": [],
   "source": [
    "data = {}\n",
    "#rgb_data = {}\n",
    "\n",
    "for chrNo in image.keys():\n",
    "    data[chrNo] = []; \n",
    "    #rgb_data[chrNo] = []\n",
    "    for case in image[chrNo]:\n",
    "        grey, rgb = extractData(case)\n",
    "        data[chrNo].append(grey)\n",
    "        #rgb_data[chrNo].append(rgb)"
   ]
  },
  {
   "cell_type": "code",
   "execution_count": 14,
   "metadata": {},
   "outputs": [],
   "source": [
    "array = {}\n",
    "\n",
    "for chrNo in data.keys():\n",
    "    array[chrNo] = []\n",
    "    for case in data[chrNo]:            \n",
    "        array[chrNo].append(case)\n",
    "\n",
    "x_train_list = []\n",
    "y_train_list = []\n",
    "\n",
    "for y, x in array.items():    \n",
    "    for x_item in x:\n",
    "        x_train_list.append(x_item)\n",
    "        y_train_list.append(y)\n",
    "        \n",
    "        # 将图像数据赋值给x_train_list;\n",
    "        # 将标签数据赋值给y_train_list."
   ]
  },
  {
   "cell_type": "markdown",
   "metadata": {},
   "source": [
    "### 3.1.3. Assignment of Testing Data"
   ]
  },
  {
   "cell_type": "markdown",
   "metadata": {},
   "source": [
    "#### 3.1.3.1. Testing: Image Object Assignment"
   ]
  },
  {
   "cell_type": "code",
   "execution_count": 15,
   "metadata": {},
   "outputs": [],
   "source": [
    "# 方法同前面的Training Set\n",
    "\n",
    "image = {}\n",
    "i = 0\n",
    "\n",
    "for chrNo in theWhole.keys():\n",
    "    image[chrNo] = []\n",
    "    for case in X_test_name[chrNo][str(iterationNumber)]: # Change here for different iterations!!!!!\n",
    "        \n",
    "        # 上面一行第二个中括号内为split的序号，0为第0次split分法\n",
    "        \n",
    "        img = Image.open(case)\n",
    "        image[chrNo].append(img)"
   ]
  },
  {
   "cell_type": "markdown",
   "metadata": {},
   "source": [
    "#### 3.1.3.2. Testing: Data Extraction from Images"
   ]
  },
  {
   "cell_type": "code",
   "execution_count": 16,
   "metadata": {},
   "outputs": [],
   "source": [
    "data = {}\n",
    "#rgb_data = {}\n",
    "\n",
    "for chrNo in image.keys():\n",
    "    data[chrNo] = []; \n",
    "    #rgb_data[chrNo] = []\n",
    "    for case in image[chrNo]:\n",
    "        grey, rgb = extractData(case)\n",
    "        data[chrNo].append(grey)\n",
    "        #rgb_data[chrNo].append(rgb)"
   ]
  },
  {
   "cell_type": "code",
   "execution_count": 17,
   "metadata": {},
   "outputs": [],
   "source": [
    "array = {}\n",
    "\n",
    "for chrNo in data.keys():\n",
    "    array[chrNo] = []\n",
    "    for case in data[chrNo]:            \n",
    "        array[chrNo].append(case)\n",
    "\n",
    "x_test_list = []\n",
    "y_test_list = []\n",
    "\n",
    "for y, x in array.items():    \n",
    "    for x_item in x:\n",
    "        x_test_list.append(x_item)\n",
    "        y_test_list.append(y)"
   ]
  },
  {
   "cell_type": "markdown",
   "metadata": {},
   "source": [
    "### 3.1.4. ChromConvert"
   ]
  },
  {
   "cell_type": "code",
   "execution_count": 18,
   "metadata": {},
   "outputs": [],
   "source": [
    "chromConvert = {\n",
    "               'chr_x': 0, \n",
    "               'chr_x_q21_cnv': 1\n",
    "               }"
   ]
  },
  {
   "cell_type": "code",
   "execution_count": 19,
   "metadata": {},
   "outputs": [],
   "source": [
    "chromConvert_reverse = {\n",
    "                0: 'chr_x',\n",
    "                1: 'chr_x_q21_cnv'\n",
    "               }"
   ]
  },
  {
   "cell_type": "code",
   "execution_count": 20,
   "metadata": {},
   "outputs": [],
   "source": [
    "# 将染色体序号和异常核型名称更换为序号，序号定义在程序开始部分\n",
    "\n",
    "y_train_digital_list = []\n",
    "for item in y_train_list:\n",
    "    y_train_digital_list.append(chromConvert[item])\n",
    "    \n",
    "y_test_digital_list = []\n",
    "for item in y_test_list:\n",
    "    y_test_digital_list.append(chromConvert[item])"
   ]
  },
  {
   "cell_type": "markdown",
   "metadata": {},
   "source": [
    "### 3.1.5. Change to Numpy Array"
   ]
  },
  {
   "cell_type": "code",
   "execution_count": 21,
   "metadata": {},
   "outputs": [],
   "source": [
    "X_train = np.array(x_train_list)\n",
    "y_train = np.array(y_train_digital_list)"
   ]
  },
  {
   "cell_type": "code",
   "execution_count": 22,
   "metadata": {},
   "outputs": [],
   "source": [
    "X_test = np.array(x_test_list)\n",
    "y_test = np.array(y_test_digital_list)"
   ]
  },
  {
   "cell_type": "code",
   "execution_count": 23,
   "metadata": {},
   "outputs": [
    {
     "data": {
      "text/plain": [
       "array([0, 0, 0, 0, 0, 0, 0, 0, 0, 0, 0, 0, 0, 0, 0, 0, 0, 0, 0, 0, 0, 0,\n",
       "       0, 0, 0, 0, 0, 0, 0, 0, 0, 0, 0, 0, 0, 0, 1, 1, 1, 1, 1, 1, 1, 1,\n",
       "       1, 1, 1, 1, 1, 1, 1])"
      ]
     },
     "execution_count": 23,
     "metadata": {},
     "output_type": "execute_result"
    }
   ],
   "source": [
    "y_test"
   ]
  },
  {
   "cell_type": "code",
   "execution_count": 24,
   "metadata": {},
   "outputs": [
    {
     "data": {
      "text/plain": [
       "200"
      ]
     },
     "execution_count": 24,
     "metadata": {},
     "output_type": "execute_result"
    }
   ],
   "source": [
    "len(X_train)"
   ]
  },
  {
   "cell_type": "code",
   "execution_count": 25,
   "metadata": {},
   "outputs": [
    {
     "data": {
      "text/plain": [
       "(300, 300)"
      ]
     },
     "execution_count": 25,
     "metadata": {},
     "output_type": "execute_result"
    }
   ],
   "source": [
    "X_train[0].shape"
   ]
  },
  {
   "cell_type": "markdown",
   "metadata": {},
   "source": [
    "## 3.2. Convolutional Neural Network"
   ]
  },
  {
   "cell_type": "markdown",
   "metadata": {},
   "source": [
    "### 3.2.1 Data Preparation"
   ]
  },
  {
   "cell_type": "code",
   "execution_count": 26,
   "metadata": {},
   "outputs": [],
   "source": [
    "X_train = X_train.reshape(-1, 300, 300, 1)\n",
    "X_test = X_test.reshape(-1, 300, 300, 1)"
   ]
  },
  {
   "cell_type": "markdown",
   "metadata": {},
   "source": [
    "### 3.2.3 Training Model Design"
   ]
  },
  {
   "cell_type": "code",
   "execution_count": 27,
   "metadata": {},
   "outputs": [],
   "source": [
    "model = Sequential()"
   ]
  },
  {
   "cell_type": "code",
   "execution_count": 28,
   "metadata": {},
   "outputs": [],
   "source": [
    "model.add(Conv2D(32, (3, 3), activation='relu', input_shape=(300, 300, 1)))\n",
    "model.add(MaxPooling2D((2, 2)))\n",
    "model.add(Conv2D(64, (3, 3), activation='relu'))\n",
    "model.add(MaxPooling2D((2, 2)))\n",
    "model.add(Conv2D(64, (3, 3), activation='relu'))"
   ]
  },
  {
   "cell_type": "code",
   "execution_count": 29,
   "metadata": {},
   "outputs": [],
   "source": [
    "model.add(Flatten())\n",
    "model.add(Dense(300, activation='relu'))\n",
    "model.add(Dense(400, activation='relu'))\n",
    "model.add(Dense(500, activation='relu'))\n",
    "model.add(Dense(600, activation='relu'))\n",
    "model.add(Dense(300, activation='relu'))\n",
    "model.add(Dense(100, activation='relu'))\n",
    "model.add(Dense(50, activation='relu'))\n",
    "model.add(Dense(20, activation='relu'))\n",
    "model.add(Dense(10, activation='relu'))\n",
    "model.add(Dense(2, activation='sigmoid'))"
   ]
  },
  {
   "cell_type": "markdown",
   "metadata": {},
   "source": [
    "### 3.2.4. Tensorboard Initilization"
   ]
  },
  {
   "cell_type": "code",
   "execution_count": 30,
   "metadata": {},
   "outputs": [],
   "source": [
    "%load_ext tensorboard\n",
    "log_dir = \"logs/fit/\" + datetime.datetime.now().strftime(\"%Y%m%d-%H%M%S\")\n",
    "tensorboard_callback = keras.callbacks.TensorBoard(log_dir=log_dir, histogram_freq=1)"
   ]
  },
  {
   "cell_type": "markdown",
   "metadata": {},
   "source": [
    "### 3.2.5. Compile the modal"
   ]
  },
  {
   "cell_type": "code",
   "execution_count": 31,
   "metadata": {},
   "outputs": [],
   "source": [
    "model.compile(optimizer='adam', loss='sparse_categorical_crossentropy', metrics=['accuracy'])"
   ]
  },
  {
   "cell_type": "markdown",
   "metadata": {},
   "source": [
    "### 3.2.6. Fitting (拟合)"
   ]
  },
  {
   "cell_type": "code",
   "execution_count": 32,
   "metadata": {
    "scrolled": false
   },
   "outputs": [
    {
     "name": "stdout",
     "output_type": "stream",
     "text": [
      "Epoch 1/150\n",
      "4/4 [==============================] - 5s 662ms/step - loss: 56.1738 - accuracy: 0.3600 - val_loss: 87.1521 - val_accuracy: 0.2941\n",
      "Epoch 2/150\n",
      "4/4 [==============================] - 0s 121ms/step - loss: 34.0478 - accuracy: 0.3200 - val_loss: 2.5149 - val_accuracy: 0.7059\n",
      "Epoch 3/150\n",
      "4/4 [==============================] - 0s 120ms/step - loss: 1.4153 - accuracy: 0.7000 - val_loss: 0.6657 - val_accuracy: 0.7059\n",
      "Epoch 4/150\n",
      "4/4 [==============================] - 1s 125ms/step - loss: 1.2989 - accuracy: 0.4900 - val_loss: 0.9692 - val_accuracy: 0.2941\n",
      "Epoch 5/150\n",
      "4/4 [==============================] - 0s 115ms/step - loss: 0.8134 - accuracy: 0.4550 - val_loss: 0.6880 - val_accuracy: 0.7059\n",
      "Epoch 6/150\n",
      "4/4 [==============================] - 0s 117ms/step - loss: 0.6833 - accuracy: 0.7000 - val_loss: 1.3764 - val_accuracy: 0.7059\n",
      "Epoch 7/150\n",
      "4/4 [==============================] - 0s 122ms/step - loss: 1.2713 - accuracy: 0.5800 - val_loss: 0.6675 - val_accuracy: 0.7059\n",
      "Epoch 8/150\n",
      "4/4 [==============================] - 0s 118ms/step - loss: 0.7275 - accuracy: 0.5700 - val_loss: 0.6704 - val_accuracy: 0.7059\n",
      "Epoch 9/150\n",
      "4/4 [==============================] - 0s 116ms/step - loss: 0.6767 - accuracy: 0.7000 - val_loss: 0.6815 - val_accuracy: 0.7059\n",
      "Epoch 10/150\n",
      "4/4 [==============================] - 0s 121ms/step - loss: 0.6783 - accuracy: 0.7000 - val_loss: 0.6116 - val_accuracy: 0.7059\n",
      "Epoch 11/150\n",
      "4/4 [==============================] - 0s 118ms/step - loss: 0.6317 - accuracy: 0.7000 - val_loss: 0.6152 - val_accuracy: 0.7059\n",
      "Epoch 12/150\n",
      "4/4 [==============================] - 0s 113ms/step - loss: 0.6284 - accuracy: 0.7000 - val_loss: 0.6504 - val_accuracy: 0.7059\n",
      "Epoch 13/150\n",
      "4/4 [==============================] - 0s 124ms/step - loss: 0.6477 - accuracy: 0.7000 - val_loss: 0.6272 - val_accuracy: 0.7059\n",
      "Epoch 14/150\n",
      "4/4 [==============================] - 0s 121ms/step - loss: 0.6232 - accuracy: 0.7000 - val_loss: 0.5499 - val_accuracy: 0.7059\n",
      "Epoch 15/150\n",
      "4/4 [==============================] - 0s 122ms/step - loss: 0.5042 - accuracy: 0.7000 - val_loss: 0.5445 - val_accuracy: 0.7059\n",
      "Epoch 16/150\n",
      "4/4 [==============================] - 0s 118ms/step - loss: 0.4576 - accuracy: 0.7000 - val_loss: 0.4997 - val_accuracy: 0.7059\n",
      "Epoch 17/150\n",
      "4/4 [==============================] - 0s 124ms/step - loss: 0.4496 - accuracy: 0.6950 - val_loss: 0.9568 - val_accuracy: 0.2941\n",
      "Epoch 18/150\n",
      "4/4 [==============================] - 0s 116ms/step - loss: 0.6188 - accuracy: 0.6350 - val_loss: 0.6243 - val_accuracy: 0.7059\n",
      "Epoch 19/150\n",
      "4/4 [==============================] - 0s 113ms/step - loss: 0.6236 - accuracy: 0.7000 - val_loss: 0.6371 - val_accuracy: 0.7059\n",
      "Epoch 20/150\n",
      "4/4 [==============================] - 0s 119ms/step - loss: 0.6304 - accuracy: 0.7000 - val_loss: 0.5929 - val_accuracy: 0.7059\n",
      "Epoch 21/150\n",
      "4/4 [==============================] - 1s 125ms/step - loss: 0.6075 - accuracy: 0.7000 - val_loss: 0.6124 - val_accuracy: 0.7059\n",
      "Epoch 22/150\n",
      "4/4 [==============================] - 0s 120ms/step - loss: 0.5669 - accuracy: 0.7000 - val_loss: 0.6383 - val_accuracy: 0.7059\n",
      "Epoch 23/150\n",
      "4/4 [==============================] - 0s 121ms/step - loss: 0.4742 - accuracy: 0.7000 - val_loss: 0.6057 - val_accuracy: 0.7059\n",
      "Epoch 24/150\n",
      "4/4 [==============================] - 0s 114ms/step - loss: 0.8250 - accuracy: 0.7650 - val_loss: 0.6314 - val_accuracy: 0.7843\n",
      "Epoch 25/150\n",
      "4/4 [==============================] - 0s 122ms/step - loss: 0.3922 - accuracy: 0.8800 - val_loss: 0.5185 - val_accuracy: 0.8824\n",
      "Epoch 26/150\n",
      "4/4 [==============================] - 0s 119ms/step - loss: 0.2706 - accuracy: 0.9150 - val_loss: 0.7886 - val_accuracy: 0.8431\n",
      "Epoch 27/150\n",
      "4/4 [==============================] - 0s 122ms/step - loss: 0.2429 - accuracy: 0.9100 - val_loss: 0.3257 - val_accuracy: 0.9020\n",
      "Epoch 28/150\n",
      "4/4 [==============================] - 0s 118ms/step - loss: 0.1046 - accuracy: 0.9450 - val_loss: 0.1720 - val_accuracy: 0.9412\n",
      "Epoch 29/150\n",
      "4/4 [==============================] - 0s 123ms/step - loss: 1.0696 - accuracy: 0.7500 - val_loss: 0.6702 - val_accuracy: 0.8627\n",
      "Epoch 30/150\n",
      "4/4 [==============================] - 0s 115ms/step - loss: 0.2997 - accuracy: 0.8800 - val_loss: 0.7275 - val_accuracy: 0.7451\n",
      "Epoch 31/150\n",
      "4/4 [==============================] - 0s 114ms/step - loss: 0.3681 - accuracy: 0.7750 - val_loss: 0.7624 - val_accuracy: 0.8039\n",
      "Epoch 32/150\n",
      "4/4 [==============================] - 0s 114ms/step - loss: 0.3083 - accuracy: 0.8900 - val_loss: 0.7597 - val_accuracy: 0.8431\n",
      "Epoch 33/150\n",
      "4/4 [==============================] - 0s 121ms/step - loss: 1.0348 - accuracy: 0.8750 - val_loss: 42.3401 - val_accuracy: 0.7059\n",
      "Epoch 34/150\n",
      "4/4 [==============================] - 0s 116ms/step - loss: 14.0530 - accuracy: 0.6450 - val_loss: 0.5433 - val_accuracy: 0.7451\n",
      "Epoch 35/150\n",
      "4/4 [==============================] - 0s 120ms/step - loss: 0.4148 - accuracy: 0.9700 - val_loss: 0.7867 - val_accuracy: 0.7059\n",
      "Epoch 36/150\n",
      "4/4 [==============================] - 0s 117ms/step - loss: 0.4974 - accuracy: 0.7000 - val_loss: 0.6021 - val_accuracy: 0.7059\n",
      "Epoch 37/150\n",
      "4/4 [==============================] - 0s 118ms/step - loss: 0.4116 - accuracy: 0.7000 - val_loss: 0.5249 - val_accuracy: 0.7059\n",
      "Epoch 38/150\n",
      "4/4 [==============================] - 0s 119ms/step - loss: 0.3974 - accuracy: 0.7000 - val_loss: 0.6227 - val_accuracy: 0.7059\n",
      "Epoch 39/150\n",
      "4/4 [==============================] - 1s 138ms/step - loss: 0.4435 - accuracy: 0.7450 - val_loss: 0.5892 - val_accuracy: 0.8039\n",
      "Epoch 40/150\n",
      "4/4 [==============================] - 0s 121ms/step - loss: 0.2335 - accuracy: 0.9300 - val_loss: 0.6556 - val_accuracy: 0.7647\n",
      "Epoch 41/150\n",
      "4/4 [==============================] - 0s 120ms/step - loss: 0.1055 - accuracy: 0.9650 - val_loss: 34.7775 - val_accuracy: 0.7059\n",
      "Epoch 42/150\n",
      "4/4 [==============================] - 0s 118ms/step - loss: 10.6171 - accuracy: 0.6450 - val_loss: 0.9172 - val_accuracy: 0.2941\n",
      "Epoch 43/150\n",
      "4/4 [==============================] - 0s 124ms/step - loss: 0.8719 - accuracy: 0.4350 - val_loss: 0.7064 - val_accuracy: 0.6078\n",
      "Epoch 44/150\n",
      "4/4 [==============================] - 0s 120ms/step - loss: 0.6663 - accuracy: 0.6950 - val_loss: 0.7053 - val_accuracy: 0.5882\n",
      "Epoch 45/150\n",
      "4/4 [==============================] - 0s 119ms/step - loss: 0.6527 - accuracy: 0.7500 - val_loss: 0.7108 - val_accuracy: 0.5882\n",
      "Epoch 46/150\n",
      "4/4 [==============================] - 0s 121ms/step - loss: 0.6371 - accuracy: 0.7950 - val_loss: 0.7124 - val_accuracy: 0.6078\n",
      "Epoch 47/150\n",
      "4/4 [==============================] - 0s 119ms/step - loss: 0.6120 - accuracy: 0.8150 - val_loss: 0.7098 - val_accuracy: 0.6471\n",
      "Epoch 48/150\n",
      "4/4 [==============================] - 0s 115ms/step - loss: 0.5812 - accuracy: 0.8650 - val_loss: 0.7399 - val_accuracy: 0.6667\n",
      "Epoch 49/150\n",
      "4/4 [==============================] - 0s 111ms/step - loss: 0.5477 - accuracy: 0.8900 - val_loss: 0.7767 - val_accuracy: 0.6667\n",
      "Epoch 50/150\n",
      "4/4 [==============================] - 0s 116ms/step - loss: 0.5176 - accuracy: 0.8850 - val_loss: 0.8532 - val_accuracy: 0.6863\n",
      "Epoch 51/150\n",
      "4/4 [==============================] - 0s 126ms/step - loss: 0.4839 - accuracy: 0.9100 - val_loss: 0.8994 - val_accuracy: 0.7451\n",
      "Epoch 52/150\n",
      "4/4 [==============================] - 0s 114ms/step - loss: 0.4644 - accuracy: 0.9200 - val_loss: 0.8674 - val_accuracy: 0.7255\n",
      "Epoch 53/150\n",
      "4/4 [==============================] - 0s 121ms/step - loss: 0.4425 - accuracy: 0.9250 - val_loss: 0.9205 - val_accuracy: 0.7647\n",
      "Epoch 54/150\n",
      "4/4 [==============================] - 0s 120ms/step - loss: 0.3818 - accuracy: 0.9350 - val_loss: 1.0550 - val_accuracy: 0.7451\n",
      "Epoch 55/150\n",
      "4/4 [==============================] - 0s 116ms/step - loss: 0.3414 - accuracy: 0.8900 - val_loss: 0.8148 - val_accuracy: 0.7451\n",
      "Epoch 56/150\n",
      "4/4 [==============================] - 0s 118ms/step - loss: 0.3015 - accuracy: 0.9200 - val_loss: 2.6064 - val_accuracy: 0.6667\n",
      "Epoch 57/150\n",
      "4/4 [==============================] - 0s 114ms/step - loss: 0.9345 - accuracy: 0.8450 - val_loss: 0.8492 - val_accuracy: 0.7255\n",
      "Epoch 58/150\n",
      "4/4 [==============================] - 0s 115ms/step - loss: 0.3955 - accuracy: 0.8600 - val_loss: 0.8066 - val_accuracy: 0.6863\n"
     ]
    },
    {
     "name": "stdout",
     "output_type": "stream",
     "text": [
      "Epoch 59/150\n",
      "4/4 [==============================] - 0s 113ms/step - loss: 0.4477 - accuracy: 0.8050 - val_loss: 0.9422 - val_accuracy: 0.6667\n",
      "Epoch 60/150\n",
      "4/4 [==============================] - 0s 122ms/step - loss: 0.3277 - accuracy: 0.8850 - val_loss: 1.1477 - val_accuracy: 0.7255\n",
      "Epoch 61/150\n",
      "4/4 [==============================] - 0s 109ms/step - loss: 0.2695 - accuracy: 0.9150 - val_loss: 1.2253 - val_accuracy: 0.6863\n",
      "Epoch 62/150\n",
      "4/4 [==============================] - 0s 119ms/step - loss: 0.2172 - accuracy: 0.9500 - val_loss: 1.3410 - val_accuracy: 0.6471\n",
      "Epoch 63/150\n",
      "4/4 [==============================] - 0s 116ms/step - loss: 0.1647 - accuracy: 0.9600 - val_loss: 1.9878 - val_accuracy: 0.6471\n",
      "Epoch 64/150\n",
      "4/4 [==============================] - 0s 118ms/step - loss: 0.1433 - accuracy: 0.9550 - val_loss: 2.1484 - val_accuracy: 0.6667\n",
      "Epoch 65/150\n",
      "4/4 [==============================] - 0s 110ms/step - loss: 0.0961 - accuracy: 0.9650 - val_loss: 2.2228 - val_accuracy: 0.6667\n",
      "Epoch 66/150\n",
      "4/4 [==============================] - 0s 118ms/step - loss: 0.0711 - accuracy: 0.9800 - val_loss: 2.8213 - val_accuracy: 0.6471\n",
      "Epoch 67/150\n",
      "4/4 [==============================] - 0s 120ms/step - loss: 0.0573 - accuracy: 0.9750 - val_loss: 3.0630 - val_accuracy: 0.6667\n",
      "Epoch 68/150\n",
      "4/4 [==============================] - 0s 117ms/step - loss: 0.3261 - accuracy: 0.9250 - val_loss: 1.9472 - val_accuracy: 0.6667\n",
      "Epoch 69/150\n",
      "4/4 [==============================] - 0s 117ms/step - loss: 0.1437 - accuracy: 0.9450 - val_loss: 2.2522 - val_accuracy: 0.6078\n",
      "Epoch 70/150\n",
      "4/4 [==============================] - 1s 139ms/step - loss: 0.1381 - accuracy: 0.9650 - val_loss: 3.3580 - val_accuracy: 0.5490\n",
      "Epoch 71/150\n",
      "4/4 [==============================] - 0s 119ms/step - loss: 0.0750 - accuracy: 0.9700 - val_loss: 4.1490 - val_accuracy: 0.5490\n",
      "Epoch 72/150\n",
      "4/4 [==============================] - 0s 114ms/step - loss: 0.0664 - accuracy: 0.9750 - val_loss: 3.6332 - val_accuracy: 0.5882\n",
      "Epoch 73/150\n",
      "4/4 [==============================] - 0s 118ms/step - loss: 0.1042 - accuracy: 0.9600 - val_loss: 3.6708 - val_accuracy: 0.6863\n",
      "Epoch 74/150\n",
      "4/4 [==============================] - 0s 115ms/step - loss: 0.0940 - accuracy: 0.9550 - val_loss: 4.5826 - val_accuracy: 0.6863\n",
      "Epoch 75/150\n",
      "4/4 [==============================] - 0s 123ms/step - loss: 0.1045 - accuracy: 0.9550 - val_loss: 4.5509 - val_accuracy: 0.6863\n",
      "Epoch 76/150\n",
      "4/4 [==============================] - 0s 122ms/step - loss: 0.0412 - accuracy: 0.9850 - val_loss: 5.4869 - val_accuracy: 0.7059\n",
      "Epoch 77/150\n",
      "4/4 [==============================] - 0s 123ms/step - loss: 0.0257 - accuracy: 0.9900 - val_loss: 6.9625 - val_accuracy: 0.6667\n",
      "Epoch 78/150\n",
      "4/4 [==============================] - 0s 114ms/step - loss: 0.0149 - accuracy: 0.9950 - val_loss: 7.8233 - val_accuracy: 0.6667\n",
      "Epoch 79/150\n",
      "4/4 [==============================] - 0s 119ms/step - loss: 0.0042 - accuracy: 1.0000 - val_loss: 8.5761 - val_accuracy: 0.6471\n",
      "Epoch 80/150\n",
      "4/4 [==============================] - 0s 117ms/step - loss: 0.0027 - accuracy: 1.0000 - val_loss: 9.2822 - val_accuracy: 0.6667\n",
      "Epoch 81/150\n",
      "4/4 [==============================] - 0s 116ms/step - loss: 0.0255 - accuracy: 0.9950 - val_loss: 9.9222 - val_accuracy: 0.6471\n",
      "Epoch 82/150\n",
      "4/4 [==============================] - 0s 124ms/step - loss: 0.0011 - accuracy: 1.0000 - val_loss: 10.4727 - val_accuracy: 0.6667\n",
      "Epoch 83/150\n",
      "4/4 [==============================] - 0s 110ms/step - loss: 0.0028 - accuracy: 1.0000 - val_loss: 10.9109 - val_accuracy: 0.6863\n",
      "Epoch 84/150\n",
      "4/4 [==============================] - 0s 123ms/step - loss: 0.0012 - accuracy: 1.0000 - val_loss: 10.6792 - val_accuracy: 0.7059\n",
      "Epoch 85/150\n",
      "4/4 [==============================] - 0s 119ms/step - loss: 3.0907e-04 - accuracy: 1.0000 - val_loss: 10.2726 - val_accuracy: 0.7059\n",
      "Epoch 86/150\n",
      "4/4 [==============================] - 0s 120ms/step - loss: 5.4656e-04 - accuracy: 1.0000 - val_loss: 10.3317 - val_accuracy: 0.7451\n",
      "Epoch 87/150\n",
      "4/4 [==============================] - 0s 117ms/step - loss: 7.6792e-04 - accuracy: 1.0000 - val_loss: 10.6180 - val_accuracy: 0.7255\n",
      "Epoch 88/150\n",
      "4/4 [==============================] - 0s 121ms/step - loss: 5.9198e-04 - accuracy: 1.0000 - val_loss: 11.0220 - val_accuracy: 0.7255\n",
      "Epoch 89/150\n",
      "4/4 [==============================] - 0s 120ms/step - loss: 3.7962e-04 - accuracy: 1.0000 - val_loss: 11.5171 - val_accuracy: 0.7255\n",
      "Epoch 90/150\n",
      "4/4 [==============================] - 0s 115ms/step - loss: 1.9741e-04 - accuracy: 1.0000 - val_loss: 12.0309 - val_accuracy: 0.7255\n",
      "Epoch 91/150\n",
      "4/4 [==============================] - 0s 122ms/step - loss: 1.0714e-04 - accuracy: 1.0000 - val_loss: 12.5898 - val_accuracy: 0.7255\n",
      "Epoch 92/150\n",
      "4/4 [==============================] - 0s 118ms/step - loss: 6.4085e-05 - accuracy: 1.0000 - val_loss: 13.1014 - val_accuracy: 0.7255\n",
      "Epoch 93/150\n",
      "4/4 [==============================] - 0s 119ms/step - loss: 3.7206e-05 - accuracy: 1.0000 - val_loss: 13.5037 - val_accuracy: 0.7255\n",
      "Epoch 94/150\n",
      "4/4 [==============================] - 0s 118ms/step - loss: 2.4922e-05 - accuracy: 1.0000 - val_loss: 13.8295 - val_accuracy: 0.7255\n",
      "Epoch 95/150\n",
      "4/4 [==============================] - 0s 116ms/step - loss: 1.8460e-05 - accuracy: 1.0000 - val_loss: 14.1200 - val_accuracy: 0.7255\n",
      "Epoch 96/150\n",
      "4/4 [==============================] - 0s 115ms/step - loss: 1.4970e-05 - accuracy: 1.0000 - val_loss: 14.3783 - val_accuracy: 0.7255\n",
      "Epoch 97/150\n",
      "4/4 [==============================] - 0s 110ms/step - loss: 1.2174e-05 - accuracy: 1.0000 - val_loss: 14.5874 - val_accuracy: 0.7255\n",
      "Epoch 98/150\n",
      "4/4 [==============================] - 1s 181ms/step - loss: 1.0486e-05 - accuracy: 1.0000 - val_loss: 14.7702 - val_accuracy: 0.7255\n",
      "Epoch 99/150\n",
      "4/4 [==============================] - 1s 135ms/step - loss: 8.9803e-06 - accuracy: 1.0000 - val_loss: 14.9104 - val_accuracy: 0.7255\n",
      "Epoch 100/150\n",
      "4/4 [==============================] - 0s 118ms/step - loss: 8.0889e-06 - accuracy: 1.0000 - val_loss: 15.0406 - val_accuracy: 0.7255\n",
      "Epoch 101/150\n",
      "4/4 [==============================] - 0s 117ms/step - loss: 7.3280e-06 - accuracy: 1.0000 - val_loss: 15.1642 - val_accuracy: 0.7255\n",
      "Epoch 102/150\n",
      "4/4 [==============================] - 0s 124ms/step - loss: 6.5999e-06 - accuracy: 1.0000 - val_loss: 15.2698 - val_accuracy: 0.7255\n",
      "Epoch 103/150\n",
      "4/4 [==============================] - 0s 116ms/step - loss: 6.0684e-06 - accuracy: 1.0000 - val_loss: 15.3693 - val_accuracy: 0.7255\n",
      "Epoch 104/150\n",
      "4/4 [==============================] - 0s 121ms/step - loss: 5.6227e-06 - accuracy: 1.0000 - val_loss: 15.4594 - val_accuracy: 0.7255\n",
      "Epoch 105/150\n",
      "4/4 [==============================] - 0s 119ms/step - loss: 5.3182e-06 - accuracy: 1.0000 - val_loss: 15.5406 - val_accuracy: 0.7255\n",
      "Epoch 106/150\n",
      "4/4 [==============================] - 0s 119ms/step - loss: 5.0173e-06 - accuracy: 1.0000 - val_loss: 15.6173 - val_accuracy: 0.7255\n",
      "Epoch 107/150\n",
      "4/4 [==============================] - 0s 123ms/step - loss: 4.7509e-06 - accuracy: 1.0000 - val_loss: 15.6897 - val_accuracy: 0.7255\n",
      "Epoch 108/150\n",
      "4/4 [==============================] - 0s 121ms/step - loss: 4.4756e-06 - accuracy: 1.0000 - val_loss: 15.7546 - val_accuracy: 0.7255\n",
      "Epoch 109/150\n",
      "4/4 [==============================] - 0s 112ms/step - loss: 4.2927e-06 - accuracy: 1.0000 - val_loss: 15.8194 - val_accuracy: 0.7255\n",
      "Epoch 110/150\n",
      "4/4 [==============================] - 0s 114ms/step - loss: 4.0627e-06 - accuracy: 1.0000 - val_loss: 15.8810 - val_accuracy: 0.7255\n",
      "Epoch 111/150\n",
      "4/4 [==============================] - 0s 120ms/step - loss: 3.8690e-06 - accuracy: 1.0000 - val_loss: 15.9365 - val_accuracy: 0.7255\n",
      "Epoch 112/150\n",
      "4/4 [==============================] - 0s 113ms/step - loss: 3.7427e-06 - accuracy: 1.0000 - val_loss: 15.9953 - val_accuracy: 0.7255\n",
      "Epoch 113/150\n",
      "4/4 [==============================] - 0s 119ms/step - loss: 3.5675e-06 - accuracy: 1.0000 - val_loss: 16.0570 - val_accuracy: 0.7255\n",
      "Epoch 114/150\n",
      "4/4 [==============================] - 0s 119ms/step - loss: 3.3607e-06 - accuracy: 1.0000 - val_loss: 16.1366 - val_accuracy: 0.7255\n",
      "Epoch 115/150\n",
      "4/4 [==============================] - 0s 121ms/step - loss: 3.2230e-06 - accuracy: 1.0000 - val_loss: 16.2276 - val_accuracy: 0.7255\n",
      "Epoch 116/150\n",
      "4/4 [==============================] - 0s 116ms/step - loss: 2.9400e-06 - accuracy: 1.0000 - val_loss: 16.3155 - val_accuracy: 0.7255\n",
      "Epoch 117/150\n",
      "4/4 [==============================] - 0s 116ms/step - loss: 2.7916e-06 - accuracy: 1.0000 - val_loss: 16.4391 - val_accuracy: 0.7255\n",
      "Epoch 118/150\n",
      "4/4 [==============================] - 0s 124ms/step - loss: 2.5955e-06 - accuracy: 1.0000 - val_loss: 16.5411 - val_accuracy: 0.7255\n",
      "Epoch 119/150\n",
      "4/4 [==============================] - 0s 119ms/step - loss: 2.4042e-06 - accuracy: 1.0000 - val_loss: 16.6272 - val_accuracy: 0.7255\n",
      "Epoch 120/150\n",
      "4/4 [==============================] - 0s 119ms/step - loss: 2.2493e-06 - accuracy: 1.0000 - val_loss: 16.6981 - val_accuracy: 0.7255\n",
      "Epoch 121/150\n",
      "4/4 [==============================] - 1s 170ms/step - loss: 2.1754e-06 - accuracy: 1.0000 - val_loss: 16.7676 - val_accuracy: 0.7255\n",
      "Epoch 122/150\n",
      "4/4 [==============================] - 0s 120ms/step - loss: 2.0598e-06 - accuracy: 1.0000 - val_loss: 16.8348 - val_accuracy: 0.7255\n",
      "Epoch 123/150\n",
      "4/4 [==============================] - 0s 114ms/step - loss: 1.9889e-06 - accuracy: 1.0000 - val_loss: 16.8955 - val_accuracy: 0.7255\n",
      "Epoch 124/150\n",
      "4/4 [==============================] - 0s 120ms/step - loss: 1.9042e-06 - accuracy: 1.0000 - val_loss: 16.9522 - val_accuracy: 0.7255\n",
      "Epoch 125/150\n",
      "4/4 [==============================] - 0s 116ms/step - loss: 1.8297e-06 - accuracy: 1.0000 - val_loss: 17.0005 - val_accuracy: 0.7255\n",
      "Epoch 126/150\n",
      "4/4 [==============================] - 0s 118ms/step - loss: 1.7797e-06 - accuracy: 1.0000 - val_loss: 17.0490 - val_accuracy: 0.7255\n",
      "Epoch 127/150\n",
      "4/4 [==============================] - 0s 110ms/step - loss: 1.7260e-06 - accuracy: 1.0000 - val_loss: 17.0961 - val_accuracy: 0.7255\n",
      "Epoch 128/150\n",
      "4/4 [==============================] - 0s 116ms/step - loss: 1.6611e-06 - accuracy: 1.0000 - val_loss: 17.1396 - val_accuracy: 0.7255\n",
      "Epoch 129/150\n",
      "4/4 [==============================] - 0s 126ms/step - loss: 1.6188e-06 - accuracy: 1.0000 - val_loss: 17.1861 - val_accuracy: 0.7255\n",
      "Epoch 130/150\n",
      "4/4 [==============================] - 0s 117ms/step - loss: 1.5574e-06 - accuracy: 1.0000 - val_loss: 17.2263 - val_accuracy: 0.7255\n",
      "Epoch 131/150\n",
      "4/4 [==============================] - 0s 113ms/step - loss: 1.5234e-06 - accuracy: 1.0000 - val_loss: 17.2701 - val_accuracy: 0.7255\n",
      "Epoch 132/150\n",
      "4/4 [==============================] - 0s 122ms/step - loss: 1.4763e-06 - accuracy: 1.0000 - val_loss: 17.3108 - val_accuracy: 0.7255\n",
      "Epoch 133/150\n",
      "4/4 [==============================] - 0s 114ms/step - loss: 1.4435e-06 - accuracy: 1.0000 - val_loss: 17.3539 - val_accuracy: 0.7255\n",
      "Epoch 134/150\n",
      "4/4 [==============================] - 0s 115ms/step - loss: 1.4000e-06 - accuracy: 1.0000 - val_loss: 17.3919 - val_accuracy: 0.7255\n",
      "Epoch 135/150\n",
      "4/4 [==============================] - 0s 123ms/step - loss: 1.3702e-06 - accuracy: 1.0000 - val_loss: 17.4298 - val_accuracy: 0.7255\n",
      "Epoch 136/150\n",
      "4/4 [==============================] - 0s 124ms/step - loss: 1.3291e-06 - accuracy: 1.0000 - val_loss: 17.4673 - val_accuracy: 0.7255\n",
      "Epoch 137/150\n",
      "4/4 [==============================] - 0s 123ms/step - loss: 1.2910e-06 - accuracy: 1.0000 - val_loss: 17.5032 - val_accuracy: 0.7255\n",
      "Epoch 138/150\n",
      "4/4 [==============================] - 0s 120ms/step - loss: 1.2659e-06 - accuracy: 1.0000 - val_loss: 17.5424 - val_accuracy: 0.7255\n",
      "Epoch 139/150\n",
      "4/4 [==============================] - 0s 115ms/step - loss: 1.2308e-06 - accuracy: 1.0000 - val_loss: 17.5804 - val_accuracy: 0.7255\n",
      "Epoch 140/150\n",
      "4/4 [==============================] - 0s 119ms/step - loss: 1.1950e-06 - accuracy: 1.0000 - val_loss: 17.6172 - val_accuracy: 0.7255\n",
      "Epoch 141/150\n",
      "4/4 [==============================] - 0s 118ms/step - loss: 1.1742e-06 - accuracy: 1.0000 - val_loss: 17.6578 - val_accuracy: 0.7255\n",
      "Epoch 142/150\n",
      "4/4 [==============================] - 0s 119ms/step - loss: 1.1378e-06 - accuracy: 1.0000 - val_loss: 17.6948 - val_accuracy: 0.7255\n",
      "Epoch 143/150\n",
      "4/4 [==============================] - 0s 118ms/step - loss: 1.1134e-06 - accuracy: 1.0000 - val_loss: 17.7319 - val_accuracy: 0.7255\n",
      "Epoch 144/150\n",
      "4/4 [==============================] - 0s 112ms/step - loss: 1.0842e-06 - accuracy: 1.0000 - val_loss: 17.7732 - val_accuracy: 0.7451\n",
      "Epoch 145/150\n",
      "4/4 [==============================] - 0s 107ms/step - loss: 1.0591e-06 - accuracy: 1.0000 - val_loss: 17.8121 - val_accuracy: 0.7451\n",
      "Epoch 146/150\n",
      "4/4 [==============================] - 0s 118ms/step - loss: 1.0359e-06 - accuracy: 1.0000 - val_loss: 17.8486 - val_accuracy: 0.7451\n",
      "Epoch 147/150\n",
      "4/4 [==============================] - 0s 118ms/step - loss: 1.0097e-06 - accuracy: 1.0000 - val_loss: 17.8819 - val_accuracy: 0.7451\n",
      "Epoch 148/150\n",
      "4/4 [==============================] - 0s 113ms/step - loss: 9.8821e-07 - accuracy: 1.0000 - val_loss: 17.9226 - val_accuracy: 0.7451\n",
      "Epoch 149/150\n",
      "4/4 [==============================] - 0s 118ms/step - loss: 9.6318e-07 - accuracy: 1.0000 - val_loss: 17.9781 - val_accuracy: 0.7451\n",
      "Epoch 150/150\n",
      "4/4 [==============================] - 0s 114ms/step - loss: 9.3934e-07 - accuracy: 1.0000 - val_loss: 18.0306 - val_accuracy: 0.7451\n"
     ]
    },
    {
     "data": {
      "text/plain": [
       "<tensorflow.python.keras.callbacks.History at 0x1c17e021400>"
      ]
     },
     "execution_count": 32,
     "metadata": {},
     "output_type": "execute_result"
    }
   ],
   "source": [
    "model.fit(X_train, y_train, epochs=150, batch_size=64, verbose=1, \n",
    "          validation_data=(X_test, y_test),\n",
    "          callbacks=[tensorboard_callback])"
   ]
  },
  {
   "cell_type": "markdown",
   "metadata": {},
   "source": [
    "### 3.2.7 Summary"
   ]
  },
  {
   "cell_type": "code",
   "execution_count": 33,
   "metadata": {},
   "outputs": [
    {
     "name": "stdout",
     "output_type": "stream",
     "text": [
      "Model: \"sequential\"\n",
      "_________________________________________________________________\n",
      "Layer (type)                 Output Shape              Param #   \n",
      "=================================================================\n",
      "conv2d (Conv2D)              (None, 298, 298, 32)      320       \n",
      "_________________________________________________________________\n",
      "max_pooling2d (MaxPooling2D) (None, 149, 149, 32)      0         \n",
      "_________________________________________________________________\n",
      "conv2d_1 (Conv2D)            (None, 147, 147, 64)      18496     \n",
      "_________________________________________________________________\n",
      "max_pooling2d_1 (MaxPooling2 (None, 73, 73, 64)        0         \n",
      "_________________________________________________________________\n",
      "conv2d_2 (Conv2D)            (None, 71, 71, 64)        36928     \n",
      "_________________________________________________________________\n",
      "flatten (Flatten)            (None, 322624)            0         \n",
      "_________________________________________________________________\n",
      "dense (Dense)                (None, 300)               96787500  \n",
      "_________________________________________________________________\n",
      "dense_1 (Dense)              (None, 400)               120400    \n",
      "_________________________________________________________________\n",
      "dense_2 (Dense)              (None, 500)               200500    \n",
      "_________________________________________________________________\n",
      "dense_3 (Dense)              (None, 600)               300600    \n",
      "_________________________________________________________________\n",
      "dense_4 (Dense)              (None, 300)               180300    \n",
      "_________________________________________________________________\n",
      "dense_5 (Dense)              (None, 100)               30100     \n",
      "_________________________________________________________________\n",
      "dense_6 (Dense)              (None, 50)                5050      \n",
      "_________________________________________________________________\n",
      "dense_7 (Dense)              (None, 20)                1020      \n",
      "_________________________________________________________________\n",
      "dense_8 (Dense)              (None, 10)                210       \n",
      "_________________________________________________________________\n",
      "dense_9 (Dense)              (None, 2)                 22        \n",
      "=================================================================\n",
      "Total params: 97,681,446\n",
      "Trainable params: 97,681,446\n",
      "Non-trainable params: 0\n",
      "_________________________________________________________________\n"
     ]
    }
   ],
   "source": [
    "model.summary()"
   ]
  },
  {
   "cell_type": "markdown",
   "metadata": {},
   "source": [
    "### 3.2.8. Tensorboard Display"
   ]
  },
  {
   "cell_type": "code",
   "execution_count": 34,
   "metadata": {
    "scrolled": true
   },
   "outputs": [
    {
     "data": {
      "text/plain": [
       "Reusing TensorBoard on port 6006 (pid 15036), started 1:52:44 ago. (Use '!kill 15036' to kill it.)"
      ]
     },
     "metadata": {},
     "output_type": "display_data"
    },
    {
     "data": {
      "text/html": [
       "\n",
       "      <iframe id=\"tensorboard-frame-bf6b23d227f0cee3\" width=\"100%\" height=\"800\" frameborder=\"0\">\n",
       "      </iframe>\n",
       "      <script>\n",
       "        (function() {\n",
       "          const frame = document.getElementById(\"tensorboard-frame-bf6b23d227f0cee3\");\n",
       "          const url = new URL(\"/\", window.location);\n",
       "          const port = 6006;\n",
       "          if (port) {\n",
       "            url.port = port;\n",
       "          }\n",
       "          frame.src = url;\n",
       "        })();\n",
       "      </script>\n",
       "    "
      ],
      "text/plain": [
       "<IPython.core.display.HTML object>"
      ]
     },
     "metadata": {},
     "output_type": "display_data"
    }
   ],
   "source": [
    "%tensorboard --logdir logs/fit"
   ]
  },
  {
   "cell_type": "markdown",
   "metadata": {},
   "source": [
    "## 3.8 Save the Model"
   ]
  },
  {
   "cell_type": "code",
   "execution_count": 35,
   "metadata": {
    "scrolled": true
   },
   "outputs": [
    {
     "name": "stdout",
     "output_type": "stream",
     "text": [
      "INFO:tensorflow:Assets written to: saved_model/model_Chr_18_cnn_iteration_0\\assets\n"
     ]
    }
   ],
   "source": [
    "model.save('saved_model/model_Chr_X_cnn_iteration_'+str(iterationNumber))"
   ]
  },
  {
   "cell_type": "markdown",
   "metadata": {},
   "source": [
    "## 3.9 Load the Model"
   ]
  },
  {
   "cell_type": "code",
   "execution_count": 36,
   "metadata": {},
   "outputs": [],
   "source": [
    "model_reload = keras.models.load_model('saved_model/model_Chr_X_cnn_iteration_'+str(iterationNumber))"
   ]
  },
  {
   "cell_type": "markdown",
   "metadata": {},
   "source": [
    "## 3.10. Performance Measures"
   ]
  },
  {
   "cell_type": "markdown",
   "metadata": {},
   "source": [
    "### 3.10.1. Accuracy"
   ]
  },
  {
   "cell_type": "code",
   "execution_count": 37,
   "metadata": {},
   "outputs": [
    {
     "name": "stdout",
     "output_type": "stream",
     "text": [
      "Test Accuracy: 0.745\n"
     ]
    }
   ],
   "source": [
    "loss, acc = model_reload.evaluate(X_test, y_test, verbose=0)\n",
    "print('Test Accuracy: %.3f' % acc)"
   ]
  },
  {
   "cell_type": "code",
   "execution_count": 38,
   "metadata": {},
   "outputs": [
    {
     "data": {
      "text/plain": [
       "51"
      ]
     },
     "execution_count": 38,
     "metadata": {},
     "output_type": "execute_result"
    }
   ],
   "source": [
    "len(X_test)"
   ]
  },
  {
   "cell_type": "code",
   "execution_count": 39,
   "metadata": {},
   "outputs": [],
   "source": [
    "y_predict = model_reload.predict(X_test)"
   ]
  },
  {
   "cell_type": "code",
   "execution_count": 40,
   "metadata": {},
   "outputs": [
    {
     "data": {
      "text/plain": [
       "51"
      ]
     },
     "execution_count": 40,
     "metadata": {},
     "output_type": "execute_result"
    }
   ],
   "source": [
    "len(y_predict)"
   ]
  },
  {
   "cell_type": "code",
   "execution_count": 41,
   "metadata": {},
   "outputs": [],
   "source": [
    "# The number 32 means the type number of all chromosome class number inlcuding abnormal ones\n",
    "y_predict_filtered = []\n",
    "\n",
    "for sample in y_predict:\n",
    "    maximum = 0\n",
    "    indicator = 0\n",
    "    for i in range(2):\n",
    "        if sample[i] > maximum:\n",
    "            maximum = sample[i]\n",
    "            indicator = i\n",
    "    y_predict_filtered.append(indicator)        "
   ]
  },
  {
   "cell_type": "code",
   "execution_count": 42,
   "metadata": {},
   "outputs": [
    {
     "data": {
      "text/plain": [
       "51"
      ]
     },
     "execution_count": 42,
     "metadata": {},
     "output_type": "execute_result"
    }
   ],
   "source": [
    "len(y_predict_filtered)"
   ]
  },
  {
   "cell_type": "code",
   "execution_count": 43,
   "metadata": {},
   "outputs": [],
   "source": [
    "label = ['chr_x', 'chr_x_q21_cnv']\n",
    "\n",
    "label_convert = []\n",
    "\n",
    "for i in range(2):\n",
    "    label_convert.append(chromConvert_reverse[i])"
   ]
  },
  {
   "cell_type": "markdown",
   "metadata": {},
   "source": [
    "### 3.10.2. Classification Report"
   ]
  },
  {
   "cell_type": "code",
   "execution_count": 44,
   "metadata": {},
   "outputs": [
    {
     "name": "stdout",
     "output_type": "stream",
     "text": [
      "                     precision    recall  f1-score   support\n",
      "\n",
      "             chr_18       0.79      0.86      0.83        36\n",
      "chr_18_p11_deletion       0.58      0.47      0.52        15\n",
      "\n",
      "          micro avg       0.75      0.75      0.75        51\n",
      "          macro avg       0.69      0.66      0.67        51\n",
      "       weighted avg       0.73      0.75      0.74        51\n",
      "\n"
     ]
    }
   ],
   "source": [
    "performanceReport = classification_report(y_test, y_predict_filtered, target_names=label_convert)\n",
    "\n",
    "\n",
    "print(performanceReport)"
   ]
  },
  {
   "cell_type": "markdown",
   "metadata": {},
   "source": [
    "### 3.10.3. Confusion Matrix"
   ]
  },
  {
   "cell_type": "code",
   "execution_count": 45,
   "metadata": {},
   "outputs": [
    {
     "data": {
      "text/html": [
       "<div>\n",
       "<style scoped>\n",
       "    .dataframe tbody tr th:only-of-type {\n",
       "        vertical-align: middle;\n",
       "    }\n",
       "\n",
       "    .dataframe tbody tr th {\n",
       "        vertical-align: top;\n",
       "    }\n",
       "\n",
       "    .dataframe thead th {\n",
       "        text-align: right;\n",
       "    }\n",
       "</style>\n",
       "<table border=\"1\" class=\"dataframe\">\n",
       "  <thead>\n",
       "    <tr style=\"text-align: right;\">\n",
       "      <th></th>\n",
       "      <th>chr_18</th>\n",
       "      <th>chr_18_p11_deletion</th>\n",
       "    </tr>\n",
       "  </thead>\n",
       "  <tbody>\n",
       "    <tr>\n",
       "      <th>chr_18</th>\n",
       "      <td>31</td>\n",
       "      <td>5</td>\n",
       "    </tr>\n",
       "    <tr>\n",
       "      <th>chr_18_p11_deletion</th>\n",
       "      <td>8</td>\n",
       "      <td>7</td>\n",
       "    </tr>\n",
       "  </tbody>\n",
       "</table>\n",
       "</div>"
      ],
      "text/plain": [
       "                     chr_18  chr_18_p11_deletion\n",
       "chr_18                   31                    5\n",
       "chr_18_p11_deletion       8                    7"
      ]
     },
     "execution_count": 45,
     "metadata": {},
     "output_type": "execute_result"
    }
   ],
   "source": [
    "cm = np.array(confusion_matrix(y_test, y_predict_filtered, labels=[0, 1]))\n",
    "confusion = pd.DataFrame(cm, index=label_convert,\n",
    "                        columns=label_convert)\n",
    "confusion.to_csv('ConfusionMatrix_Chr_X_KaryoType_CNN' + str(iterationNumber) + '.csv')\n",
    "confusion"
   ]
  },
  {
   "cell_type": "markdown",
   "metadata": {},
   "source": [
    "#### Heat Map"
   ]
  },
  {
   "cell_type": "code",
   "execution_count": 46,
   "metadata": {
    "scrolled": true
   },
   "outputs": [
    {
     "data": {
      "image/png": "[encoded data removed]",
      "text/plain": [
       "<Figure size 2160x1728 with 2 Axes>"
      ]
     },
     "metadata": {
      "needs_background": "light"
     },
     "output_type": "display_data"
    }
   ],
   "source": [
    "plt.figure(figsize=(30, 24))\n",
    "heat_map = sb.heatmap(confusion, annot=True,  # It's a Seaborn function\n",
    "                      cmap='coolwarm', \n",
    "                      xticklabels=confusion.columns, yticklabels=confusion.index, \n",
    "                      linewidths=.5, \n",
    "                      annot_kws={\"size\": 20})\n",
    "sb.set(font_scale = 2)"
   ]
  },
  {
   "cell_type": "code",
   "execution_count": 47,
   "metadata": {},
   "outputs": [],
   "source": [
    "fig = heat_map.get_figure()    \n",
    "fig.savefig('Heatmap_Chr_X_Iteration_' + str(iterationNumber) + '.png', dpi=400)"
   ]
  },
  {
   "cell_type": "markdown",
   "metadata": {},
   "source": [
    "### 3.10.4. ROC"
   ]
  },
  {
   "cell_type": "code",
   "execution_count": 48,
   "metadata": {},
   "outputs": [
    {
     "data": {
      "text/plain": [
       "array([[1.7660296e-04, 1.0000000e+00],\n",
       "       [1.0000000e+00, 1.0000000e+00],\n",
       "       [1.0000000e+00, 1.0000000e+00],\n",
       "       [1.0000000e+00, 1.0000000e+00],\n",
       "       [1.0000000e+00, 1.0000000e+00],\n",
       "       [1.0000000e+00, 9.9999082e-01],\n",
       "       [1.0000000e+00, 1.0000000e+00],\n",
       "       [2.5331017e-04, 1.0000000e+00],\n",
       "       [1.0000000e+00, 1.0000000e+00],\n",
       "       [1.0000000e+00, 1.0000000e+00],\n",
       "       [1.0000000e+00, 1.0000000e+00],\n",
       "       [6.6894758e-03, 9.9999988e-01],\n",
       "       [1.0000000e+00, 1.0000000e+00],\n",
       "       [1.0000000e+00, 1.0000000e+00],\n",
       "       [1.0000000e+00, 1.0000000e+00],\n",
       "       [1.6320657e-05, 1.0000000e+00],\n",
       "       [1.0000000e+00, 9.9999762e-01],\n",
       "       [1.0000000e+00, 1.0000000e+00],\n",
       "       [1.0000000e+00, 1.0000000e+00],\n",
       "       [1.0000000e+00, 1.0000000e+00],\n",
       "       [1.6677042e-06, 1.0000000e+00],\n",
       "       [9.9999976e-01, 9.9944407e-01],\n",
       "       [1.0000000e+00, 1.0000000e+00],\n",
       "       [1.0000000e+00, 1.0000000e+00],\n",
       "       [1.0000000e+00, 1.0000000e+00],\n",
       "       [1.0000000e+00, 1.0000000e+00],\n",
       "       [1.0000000e+00, 1.0000000e+00],\n",
       "       [1.0000000e+00, 1.0000000e+00],\n",
       "       [1.0000000e+00, 1.0000000e+00],\n",
       "       [1.0000000e+00, 1.0000000e+00],\n",
       "       [1.0000000e+00, 1.0000000e+00],\n",
       "       [1.0000000e+00, 1.0000000e+00],\n",
       "       [1.0000000e+00, 1.0000000e+00],\n",
       "       [1.0000000e+00, 1.0000000e+00],\n",
       "       [1.0000000e+00, 1.0000000e+00],\n",
       "       [1.0000000e+00, 1.0000000e+00],\n",
       "       [1.0000000e+00, 1.0000000e+00],\n",
       "       [1.0000000e+00, 1.0000000e+00],\n",
       "       [1.0000000e+00, 1.0000000e+00],\n",
       "       [4.0371563e-02, 9.9994707e-01],\n",
       "       [1.0000000e+00, 1.0000000e+00],\n",
       "       [1.0000000e+00, 1.0000000e+00],\n",
       "       [1.0000000e+00, 9.9999714e-01],\n",
       "       [2.0064309e-02, 9.9999309e-01],\n",
       "       [4.4167235e-01, 9.9974316e-01],\n",
       "       [1.5003230e-02, 9.9999797e-01],\n",
       "       [7.8761075e-03, 9.9999976e-01],\n",
       "       [5.4903147e-05, 1.0000000e+00],\n",
       "       [1.0000000e+00, 1.0000000e+00],\n",
       "       [1.0000000e+00, 1.0000000e+00],\n",
       "       [1.2500294e-01, 9.9815100e-01]], dtype=float32)"
      ]
     },
     "execution_count": 48,
     "metadata": {},
     "output_type": "execute_result"
    }
   ],
   "source": [
    "y_predict"
   ]
  },
  {
   "cell_type": "code",
   "execution_count": 49,
   "metadata": {},
   "outputs": [
    {
     "data": {
      "text/plain": [
       "[<matplotlib.lines.Line2D at 0x1c3269dc470>,\n",
       " <matplotlib.lines.Line2D at 0x1c3269dc4a8>]"
      ]
     },
     "execution_count": 49,
     "metadata": {},
     "output_type": "execute_result"
    },
    {
     "data": {
      "image/png": "[encoded data removed]",
      "text/plain": [
       "<Figure size 432x288 with 1 Axes>"
      ]
     },
     "metadata": {},
     "output_type": "display_data"
    }
   ],
   "source": [
    "plt.plot(y_predict)"
   ]
  },
  {
   "cell_type": "code",
   "execution_count": 50,
   "metadata": {},
   "outputs": [],
   "source": [
    "y_predict_1D = y_predict[:,0]"
   ]
  },
  {
   "cell_type": "code",
   "execution_count": 51,
   "metadata": {},
   "outputs": [],
   "source": [
    "y_predict_1D_processed = 1- y_predict_1D"
   ]
  },
  {
   "cell_type": "code",
   "execution_count": 52,
   "metadata": {},
   "outputs": [],
   "source": [
    "fpr , tpr , thresholds = roc_curve(y_test , y_predict_1D_processed)\n",
    "auc_rf = auc(fpr, tpr)"
   ]
  },
  {
   "cell_type": "code",
   "execution_count": 53,
   "metadata": {},
   "outputs": [
    {
     "data": {
      "text/plain": [
       "0.6296296296296297"
      ]
     },
     "execution_count": 53,
     "metadata": {},
     "output_type": "execute_result"
    }
   ],
   "source": [
    "auc_rf"
   ]
  },
  {
   "cell_type": "code",
   "execution_count": 54,
   "metadata": {},
   "outputs": [],
   "source": [
    "x = y = np.arange(0,1.1,0.1)"
   ]
  },
  {
   "cell_type": "code",
   "execution_count": 55,
   "metadata": {},
   "outputs": [
    {
     "data": {
      "text/plain": [
       "array([0. , 0.1, 0.2, 0.3, 0.4, 0.5, 0.6, 0.7, 0.8, 0.9, 1. ])"
      ]
     },
     "execution_count": 55,
     "metadata": {},
     "output_type": "execute_result"
    }
   ],
   "source": [
    "x"
   ]
  },
  {
   "cell_type": "code",
   "execution_count": 56,
   "metadata": {},
   "outputs": [
    {
     "data": {
      "image/png": "[encoded data removed]",
      "text/plain": [
       "<Figure size 432x288 with 1 Axes>"
      ]
     },
     "metadata": {},
     "output_type": "display_data"
    }
   ],
   "source": [
    "plt.plot(fpr, tpr)\n",
    "plt.plot(x, y, '--', color='black')\n",
    "plt.title('ROC curve of 18p11', fontsize=15, fontname = 'Times New Roman')\n",
    "plt.xlabel('False Positive Rate', fontsize=10, fontname = 'Times New Roman')\n",
    "plt.ylabel('True positive Rate', fontsize=10, fontname = 'Times New Roman')\n",
    "plt.axis('equal')\n",
    "plt.xlim(0,1)\n",
    "plt.ylim(0,1)\n",
    "plt.xticks(fontsize=10, fontname = 'Times New Roman')\n",
    "plt.yticks(fontsize=10, fontname = 'Times New Roman')\n",
    "\n",
    "plt.savefig('ROC_Curve_Chr_05_' + str(iterationNumber) + '.png', dpi=400)\n",
    "plt.show()"
   ]
  },
  {
   "cell_type": "markdown",
   "metadata": {},
   "source": [
    "#### 3.10.4.1 AUC Value"
   ]
  },
  {
   "cell_type": "code",
   "execution_count": 57,
   "metadata": {},
   "outputs": [],
   "source": [
    "auc_value = auc(fpr, tpr)"
   ]
  },
  {
   "cell_type": "code",
   "execution_count": 58,
   "metadata": {},
   "outputs": [
    {
     "name": "stdout",
     "output_type": "stream",
     "text": [
      "AUC is  0.6296296296296297\n"
     ]
    }
   ],
   "source": [
    "print('AUC is ', auc_value)"
   ]
  },
  {
   "cell_type": "markdown",
   "metadata": {},
   "source": [
    "# Results"
   ]
  },
  {
   "cell_type": "code",
   "execution_count": 59,
   "metadata": {},
   "outputs": [
    {
     "name": "stdout",
     "output_type": "stream",
     "text": [
      "Test Accuracy: 0.745\n"
     ]
    }
   ],
   "source": [
    "print('Test Accuracy: %.3f' % acc)"
   ]
  },
  {
   "cell_type": "code",
   "execution_count": 60,
   "metadata": {
    "scrolled": true
   },
   "outputs": [
    {
     "name": "stdout",
     "output_type": "stream",
     "text": [
      "                     precision    recall  f1-score   support\n",
      "\n",
      "             chr_18       0.79      0.86      0.83        36\n",
      "chr_18_p11_deletion       0.58      0.47      0.52        15\n",
      "\n",
      "          micro avg       0.75      0.75      0.75        51\n",
      "          macro avg       0.69      0.66      0.67        51\n",
      "       weighted avg       0.73      0.75      0.74        51\n",
      "\n"
     ]
    }
   ],
   "source": [
    "print(performanceReport)"
   ]
  },
  {
   "cell_type": "code",
   "execution_count": 61,
   "metadata": {},
   "outputs": [
    {
     "data": {
      "text/plain": [
       "str"
      ]
     },
     "execution_count": 61,
     "metadata": {},
     "output_type": "execute_result"
    }
   ],
   "source": [
    "type(performanceReport)"
   ]
  },
  {
   "cell_type": "code",
   "execution_count": 62,
   "metadata": {},
   "outputs": [
    {
     "data": {
      "text/html": [
       "<div>\n",
       "<style scoped>\n",
       "    .dataframe tbody tr th:only-of-type {\n",
       "        vertical-align: middle;\n",
       "    }\n",
       "\n",
       "    .dataframe tbody tr th {\n",
       "        vertical-align: top;\n",
       "    }\n",
       "\n",
       "    .dataframe thead th {\n",
       "        text-align: right;\n",
       "    }\n",
       "</style>\n",
       "<table border=\"1\" class=\"dataframe\">\n",
       "  <thead>\n",
       "    <tr style=\"text-align: right;\">\n",
       "      <th></th>\n",
       "      <th>chr_18</th>\n",
       "      <th>chr_18_p11_deletion</th>\n",
       "    </tr>\n",
       "  </thead>\n",
       "  <tbody>\n",
       "    <tr>\n",
       "      <th>chr_18</th>\n",
       "      <td>31</td>\n",
       "      <td>5</td>\n",
       "    </tr>\n",
       "    <tr>\n",
       "      <th>chr_18_p11_deletion</th>\n",
       "      <td>8</td>\n",
       "      <td>7</td>\n",
       "    </tr>\n",
       "  </tbody>\n",
       "</table>\n",
       "</div>"
      ],
      "text/plain": [
       "                     chr_18  chr_18_p11_deletion\n",
       "chr_18                   31                    5\n",
       "chr_18_p11_deletion       8                    7"
      ]
     },
     "execution_count": 62,
     "metadata": {},
     "output_type": "execute_result"
    }
   ],
   "source": [
    "confusion"
   ]
  },
  {
   "cell_type": "code",
   "execution_count": 63,
   "metadata": {},
   "outputs": [
    {
     "name": "stdout",
     "output_type": "stream",
     "text": [
      "AUC is  0.6296296296296297\n"
     ]
    }
   ],
   "source": [
    "print('AUC is ', auc_value)"
   ]
  },
  {
   "cell_type": "markdown",
   "metadata": {},
   "source": [
    "## Export to a text file"
   ]
  },
  {
   "cell_type": "code",
   "execution_count": 64,
   "metadata": {},
   "outputs": [],
   "source": [
    "file_report = open('Results'+str(iterationNumber)+'.txt', 'w')\n",
    "file_report.write('Accuracy: %s\\n\\n' % acc)\n",
    "file_report.write('AUC: %s.\\n\\n' % auc_value)\n",
    "file_report.write('Performance Report: \\n%s\\n\\n' % performanceReport)\n",
    "file_report.write('Confusion Matrix: \\n%s.\\n\\n' % confusion)\n",
    "file_report.close()"
   ]
  },
  {
   "cell_type": "code",
   "execution_count": null,
   "metadata": {},
   "outputs": [],
   "source": []
  }
 ],
 "metadata": {
  "anaconda-cloud": {},
  "celltoolbar": "Slideshow",
  "colab": {
   "name": "KaryoChimneyRock_FullyConnectedNN.ipynb",
   "provenance": []
  },
  "kernelspec": {
   "display_name": "Python 3",
   "language": "python",
   "name": "python3"
  },
  "language_info": {
   "codemirror_mode": {
    "name": "ipython",
    "version": 3
   },
   "file_extension": ".py",
   "mimetype": "text/x-python",
   "name": "python",
   "nbconvert_exporter": "python",
   "pygments_lexer": "ipython3",
   "version": "3.7.3"
  }
 },
 "nbformat": 4,
 "nbformat_minor": 1
}
