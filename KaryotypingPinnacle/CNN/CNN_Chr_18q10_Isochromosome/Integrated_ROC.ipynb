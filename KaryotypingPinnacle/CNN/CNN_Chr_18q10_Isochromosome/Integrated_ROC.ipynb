{
 "cells": [
  {
   "cell_type": "code",
   "execution_count": 1,
   "metadata": {},
   "outputs": [
    {
     "name": "stderr",
     "output_type": "stream",
     "text": [
      "C:\\Anaconda3\\lib\\site-packages\\pandas\\compat\\_optional.py:138: UserWarning: Pandas requires version '2.7.0' or newer of 'numexpr' (version '2.6.9' currently installed).\n",
      "  warnings.warn(msg, UserWarning)\n"
     ]
    }
   ],
   "source": [
    "import numpy as np\n",
    "import pandas as pd\n",
    "import matplotlib.pyplot as plt\n",
    "\n",
    "from sklearn.metrics import classification_report, confusion_matrix, roc_curve, auc, accuracy_score\n",
    "\n",
    "import seaborn as sb"
   ]
  },
  {
   "cell_type": "code",
   "execution_count": 2,
   "metadata": {},
   "outputs": [],
   "source": [
    "chromConvert = {\n",
    "               'chr_18': 0, \n",
    "               'chr_18_q10_isochromosome': 1\n",
    "               }"
   ]
  },
  {
   "cell_type": "code",
   "execution_count": 3,
   "metadata": {},
   "outputs": [],
   "source": [
    "chromConvert_reverse = {\n",
    "                0: 'chr_18',\n",
    "                1: 'chr_18_q10_isochromosome',\n",
    "               }"
   ]
  },
  {
   "cell_type": "code",
   "execution_count": 4,
   "metadata": {},
   "outputs": [],
   "source": [
    "label = ['chr_18', 'chr_18_q10_isochromosome']\n",
    "\n",
    "label_convert = []\n",
    "\n",
    "for i in range(2):\n",
    "    label_convert.append(chromConvert_reverse[i])"
   ]
  },
  {
   "cell_type": "markdown",
   "metadata": {},
   "source": [
    "# Load test and predict values"
   ]
  },
  {
   "cell_type": "code",
   "execution_count": 5,
   "metadata": {},
   "outputs": [],
   "source": [
    "y_test_all = []\n",
    "y_predict_all = []\n",
    "y_predict_filtered_all = []"
   ]
  },
  {
   "cell_type": "code",
   "execution_count": 6,
   "metadata": {},
   "outputs": [],
   "source": [
    "for iterationNumber in range(7):\n",
    "    with open('data_y_test_value_iteration_' + str(iterationNumber) + '.npy', 'rb') as f_y_test:\n",
    "        y_test_all.append(np.load(f_y_test))\n",
    "        \n",
    "    with open('data_y_predict_value_iteration_' + str(iterationNumber) + '.npy', 'rb') as f_y_predict:\n",
    "        y_predict_all.append(np.load(f_y_predict))                             \n",
    "                        \n",
    "    with open('data_y_predict_filtered_value_iteration_' + str(iterationNumber) + '.npy', 'rb') as f_y_predict_filtered:\n",
    "        y_predict_filtered_all.append(np.load(f_y_predict_filtered))"
   ]
  },
  {
   "cell_type": "code",
   "execution_count": 7,
   "metadata": {},
   "outputs": [
    {
     "data": {
      "text/plain": [
       "(31, 2)"
      ]
     },
     "execution_count": 7,
     "metadata": {},
     "output_type": "execute_result"
    }
   ],
   "source": [
    "y_predict_all[0].shape"
   ]
  },
  {
   "cell_type": "code",
   "execution_count": 8,
   "metadata": {
    "scrolled": true
   },
   "outputs": [
    {
     "data": {
      "text/plain": [
       "[array([[9.9997926e-01, 6.4085296e-05],\n",
       "        [1.0000000e+00, 2.6582800e-13],\n",
       "        [1.0000000e+00, 4.6529238e-09],\n",
       "        [1.0000000e+00, 5.0008381e-08],\n",
       "        [9.9999952e-01, 6.4984050e-07],\n",
       "        [1.0000000e+00, 3.5591776e-11],\n",
       "        [1.0000000e+00, 1.5762950e-13],\n",
       "        [1.0000000e+00, 3.1779432e-16],\n",
       "        [1.0000000e+00, 1.1873748e-16],\n",
       "        [9.9999928e-01, 4.6792258e-07],\n",
       "        [1.0000000e+00, 9.8796062e-25],\n",
       "        [1.0000000e+00, 4.7418258e-17],\n",
       "        [9.9982738e-01, 2.2167724e-04],\n",
       "        [1.0000000e+00, 3.6667978e-14],\n",
       "        [1.0000000e+00, 1.2937421e-09],\n",
       "        [9.9999940e-01, 3.7797739e-07],\n",
       "        [1.0000000e+00, 2.4664390e-10],\n",
       "        [1.0000000e+00, 6.2029635e-12],\n",
       "        [9.9999940e-01, 5.0978565e-07],\n",
       "        [1.0000000e+00, 1.1196006e-08],\n",
       "        [9.9999404e-01, 5.6967115e-06],\n",
       "        [1.0000000e+00, 2.8845591e-11],\n",
       "        [9.9999762e-01, 3.1261391e-06],\n",
       "        [1.0000000e+00, 2.5973039e-14],\n",
       "        [1.0000000e+00, 1.1068624e-09],\n",
       "        [1.0000000e+00, 3.2242740e-11],\n",
       "        [6.3288171e-04, 9.9999928e-01],\n",
       "        [2.5048722e-03, 9.9998856e-01],\n",
       "        [3.6749477e-04, 9.9999964e-01],\n",
       "        [1.7087186e-06, 1.0000000e+00],\n",
       "        [8.9654714e-06, 1.0000000e+00]], dtype=float32),\n",
       " array([[1.0000000e+00, 9.2396933e-19],\n",
       "        [1.0000000e+00, 3.0432691e-26],\n",
       "        [1.0000000e+00, 1.2088416e-12],\n",
       "        [1.0000000e+00, 4.4914847e-20],\n",
       "        [1.0000000e+00, 0.0000000e+00],\n",
       "        [1.0000000e+00, 2.3337552e-08],\n",
       "        [1.0000000e+00, 2.4794729e-24],\n",
       "        [1.0000000e+00, 6.5017958e-14],\n",
       "        [1.0000000e+00, 0.0000000e+00],\n",
       "        [1.0000000e+00, 4.9285832e-21],\n",
       "        [1.0000000e+00, 2.3225243e-31],\n",
       "        [1.0000000e+00, 0.0000000e+00],\n",
       "        [9.9999964e-01, 1.0409494e-06],\n",
       "        [1.0000000e+00, 3.3624328e-09],\n",
       "        [1.0000000e+00, 9.6311927e-30],\n",
       "        [1.0000000e+00, 1.1177144e-23],\n",
       "        [1.0000000e+00, 9.0375570e-31],\n",
       "        [1.0000000e+00, 0.0000000e+00],\n",
       "        [1.0000000e+00, 4.3871458e-13],\n",
       "        [1.0000000e+00, 6.0663974e-11],\n",
       "        [1.0000000e+00, 2.7706615e-20],\n",
       "        [1.0000000e+00, 7.1670883e-19],\n",
       "        [9.9999964e-01, 7.8755584e-06],\n",
       "        [1.0000000e+00, 1.3833311e-28],\n",
       "        [1.0000000e+00, 1.6149222e-10],\n",
       "        [4.1141096e-04, 1.0000000e+00],\n",
       "        [2.7297774e-06, 1.0000000e+00],\n",
       "        [1.8055359e-06, 1.0000000e+00],\n",
       "        [4.1583848e-05, 1.0000000e+00],\n",
       "        [2.4726372e-05, 1.0000000e+00]], dtype=float32),\n",
       " array([[9.99996901e-01, 9.61407277e-05],\n",
       "        [1.00000000e+00, 8.65371646e-07],\n",
       "        [9.99999762e-01, 2.81815392e-05],\n",
       "        [9.99948263e-01, 1.19856733e-03],\n",
       "        [9.99996543e-01, 1.40852862e-04],\n",
       "        [9.99995947e-01, 2.64420582e-04],\n",
       "        [9.99932051e-01, 1.12700812e-03],\n",
       "        [9.99996305e-01, 1.17696211e-04],\n",
       "        [9.99996781e-01, 7.85521115e-05],\n",
       "        [9.99999523e-01, 2.33469473e-05],\n",
       "        [9.99996066e-01, 1.70596832e-04],\n",
       "        [9.99996424e-01, 8.67255367e-05],\n",
       "        [9.99998927e-01, 4.18798954e-05],\n",
       "        [9.99985218e-01, 2.91448960e-04],\n",
       "        [9.99990940e-01, 1.98377791e-04],\n",
       "        [9.99881506e-01, 1.32892956e-03],\n",
       "        [9.99993324e-01, 1.58625480e-04],\n",
       "        [9.99993086e-01, 1.16489566e-04],\n",
       "        [9.99960542e-01, 4.35181253e-04],\n",
       "        [9.99869108e-01, 1.63283339e-03],\n",
       "        [9.99835730e-01, 1.71166076e-03],\n",
       "        [9.99934316e-01, 9.10095114e-04],\n",
       "        [9.99454319e-01, 2.57136347e-03],\n",
       "        [9.99942660e-01, 5.86805108e-04],\n",
       "        [9.99923110e-01, 8.04374402e-04],\n",
       "        [5.36603034e-01, 9.99594271e-01],\n",
       "        [1.87296548e-03, 9.99999523e-01],\n",
       "        [5.18256463e-02, 9.99984980e-01],\n",
       "        [8.18737000e-02, 9.99986649e-01],\n",
       "        [4.38658923e-01, 9.99813735e-01]], dtype=float32),\n",
       " array([[9.9950171e-01, 7.2645175e-06],\n",
       "        [1.0000000e+00, 2.3834601e-11],\n",
       "        [1.0000000e+00, 1.0911297e-11],\n",
       "        [1.0000000e+00, 2.5924301e-13],\n",
       "        [1.0000000e+00, 6.3947925e-15],\n",
       "        [1.0000000e+00, 5.6348182e-13],\n",
       "        [1.0000000e+00, 8.7216524e-13],\n",
       "        [1.0000000e+00, 2.3470608e-13],\n",
       "        [1.0000000e+00, 5.1462266e-15],\n",
       "        [9.9999690e-01, 8.5714325e-09],\n",
       "        [1.0000000e+00, 3.0812600e-13],\n",
       "        [1.0000000e+00, 1.1793774e-13],\n",
       "        [1.0000000e+00, 1.9477885e-15],\n",
       "        [1.0000000e+00, 1.0649617e-11],\n",
       "        [1.0000000e+00, 2.5732108e-18],\n",
       "        [1.0000000e+00, 3.4651750e-12],\n",
       "        [1.0000000e+00, 5.2687490e-11],\n",
       "        [9.9999988e-01, 1.4672152e-10],\n",
       "        [9.9999988e-01, 1.4988098e-10],\n",
       "        [1.0000000e+00, 7.3994435e-13],\n",
       "        [1.0000000e+00, 1.1851498e-10],\n",
       "        [1.0000000e+00, 4.4315170e-13],\n",
       "        [9.9999988e-01, 2.3197333e-10],\n",
       "        [9.9999988e-01, 1.3320373e-10],\n",
       "        [1.0000000e+00, 2.7404001e-12],\n",
       "        [2.4052467e-06, 9.9999309e-01],\n",
       "        [2.9524986e-06, 9.9999273e-01],\n",
       "        [4.6661586e-02, 6.6822731e-01],\n",
       "        [1.1049365e-09, 1.0000000e+00]], dtype=float32),\n",
       " array([[1.0000000e+00, 4.0210507e-17],\n",
       "        [1.0000000e+00, 7.4753935e-13],\n",
       "        [1.0000000e+00, 7.9517412e-15],\n",
       "        [1.0000000e+00, 1.3470708e-21],\n",
       "        [1.0000000e+00, 7.4542847e-15],\n",
       "        [1.0000000e+00, 1.2510828e-17],\n",
       "        [1.0000000e+00, 1.9283162e-14],\n",
       "        [1.0000000e+00, 1.6735371e-13],\n",
       "        [1.0000000e+00, 1.5582248e-13],\n",
       "        [1.0000000e+00, 9.9019951e-22],\n",
       "        [1.0000000e+00, 2.9378317e-21],\n",
       "        [1.0000000e+00, 2.4932645e-12],\n",
       "        [1.0000000e+00, 4.8183641e-13],\n",
       "        [1.0000000e+00, 1.1298527e-19],\n",
       "        [1.0000000e+00, 6.8680379e-14],\n",
       "        [1.0000000e+00, 3.1847365e-14],\n",
       "        [1.0000000e+00, 5.9915725e-11],\n",
       "        [1.0000000e+00, 2.1997572e-08],\n",
       "        [1.0000000e+00, 1.1290770e-12],\n",
       "        [1.0000000e+00, 6.1517688e-12],\n",
       "        [1.0000000e+00, 5.2803053e-12],\n",
       "        [1.0000000e+00, 7.9471926e-15],\n",
       "        [1.0000000e+00, 3.3460315e-15],\n",
       "        [1.0000000e+00, 7.7434751e-18],\n",
       "        [1.0000000e+00, 1.2986104e-16],\n",
       "        [1.1506944e-15, 1.0000000e+00],\n",
       "        [5.3493462e-13, 1.0000000e+00],\n",
       "        [3.1865062e-13, 1.0000000e+00],\n",
       "        [3.5671234e-14, 1.0000000e+00]], dtype=float32),\n",
       " array([[8.66383851e-01, 1.00399255e-11],\n",
       "        [9.92498219e-01, 3.04341703e-13],\n",
       "        [7.75838673e-01, 3.07607793e-11],\n",
       "        [1.00000000e+00, 1.08731470e-20],\n",
       "        [2.14021638e-01, 2.27967839e-10],\n",
       "        [9.99998093e-01, 1.18000120e-16],\n",
       "        [9.99936342e-01, 2.94302275e-15],\n",
       "        [9.99998212e-01, 5.22794062e-17],\n",
       "        [9.65009093e-01, 1.91230148e-12],\n",
       "        [9.99988556e-01, 3.90926510e-16],\n",
       "        [9.99701917e-01, 2.18923627e-14],\n",
       "        [9.99999881e-01, 1.00718868e-17],\n",
       "        [9.99908924e-01, 8.17126840e-15],\n",
       "        [9.99774992e-01, 1.01321344e-14],\n",
       "        [9.99996781e-01, 1.29139795e-16],\n",
       "        [9.98761892e-01, 5.91209888e-14],\n",
       "        [9.91311550e-01, 1.45138418e-13],\n",
       "        [9.99999642e-01, 1.06934477e-17],\n",
       "        [1.00000000e+00, 2.04568155e-18],\n",
       "        [9.99999523e-01, 1.99611569e-17],\n",
       "        [1.00000000e+00, 5.90162813e-19],\n",
       "        [9.99997258e-01, 5.20714100e-17],\n",
       "        [9.99994159e-01, 1.50392248e-16],\n",
       "        [9.99999523e-01, 1.45687831e-17],\n",
       "        [1.00000000e+00, 1.52793213e-31],\n",
       "        [2.84102393e-19, 1.00000000e+00],\n",
       "        [1.61159443e-12, 9.99117553e-01],\n",
       "        [1.23033355e-18, 1.00000000e+00],\n",
       "        [7.74662249e-14, 9.99989510e-01]], dtype=float32),\n",
       " array([[9.99991298e-01, 1.18602175e-05],\n",
       "        [9.88657176e-01, 1.50954109e-02],\n",
       "        [9.99999523e-01, 3.14270324e-07],\n",
       "        [9.99948144e-01, 2.96899543e-05],\n",
       "        [1.00000000e+00, 1.06758559e-14],\n",
       "        [9.98167038e-01, 1.74849899e-03],\n",
       "        [9.96910989e-01, 2.58325948e-03],\n",
       "        [1.00000000e+00, 2.06351078e-08],\n",
       "        [9.99999642e-01, 2.18317211e-07],\n",
       "        [9.99983668e-01, 2.98642226e-05],\n",
       "        [1.00000000e+00, 1.67740708e-07],\n",
       "        [1.00000000e+00, 1.09544217e-07],\n",
       "        [9.98740494e-01, 1.18747784e-03],\n",
       "        [9.99958992e-01, 5.88166440e-05],\n",
       "        [9.99996185e-01, 8.19523575e-06],\n",
       "        [9.97782290e-01, 2.97505362e-03],\n",
       "        [9.99984384e-01, 2.81845478e-05],\n",
       "        [9.99909163e-01, 1.59144518e-04],\n",
       "        [9.99994636e-01, 8.16230477e-06],\n",
       "        [1.00000000e+00, 5.09594589e-10],\n",
       "        [9.99997616e-01, 4.11095652e-06],\n",
       "        [9.99997497e-01, 4.79507617e-06],\n",
       "        [9.97775257e-01, 4.02400084e-03],\n",
       "        [9.99816835e-01, 2.87092378e-04],\n",
       "        [9.99838829e-01, 2.10619808e-04],\n",
       "        [1.11546591e-02, 9.74450290e-01],\n",
       "        [7.76945974e-09, 9.99999285e-01],\n",
       "        [7.12003279e-03, 9.69231904e-01],\n",
       "        [6.74146069e-13, 1.00000000e+00]], dtype=float32)]"
      ]
     },
     "execution_count": 8,
     "metadata": {},
     "output_type": "execute_result"
    }
   ],
   "source": [
    "y_predict_all"
   ]
  },
  {
   "cell_type": "code",
   "execution_count": 9,
   "metadata": {},
   "outputs": [],
   "source": [
    "y_test_concatenate_list = []\n",
    "y_predict_concatenate_list = []\n",
    "y_predict_filtered_concatenate_list = []"
   ]
  },
  {
   "cell_type": "code",
   "execution_count": 10,
   "metadata": {},
   "outputs": [],
   "source": [
    "for i in range(7):\n",
    "    y_test_concatenate_list.extend(list(y_test_all[i]))\n",
    "    y_predict_concatenate_list.extend(list(y_predict_all[i]))\n",
    "    y_predict_filtered_concatenate_list.extend(list(y_predict_filtered_all[i]))"
   ]
  },
  {
   "cell_type": "code",
   "execution_count": 11,
   "metadata": {},
   "outputs": [
    {
     "data": {
      "text/plain": [
       "(31, 2)"
      ]
     },
     "execution_count": 11,
     "metadata": {},
     "output_type": "execute_result"
    }
   ],
   "source": [
    "y_predict_all[0].shape"
   ]
  },
  {
   "cell_type": "code",
   "execution_count": 12,
   "metadata": {},
   "outputs": [
    {
     "data": {
      "text/plain": [
       "['chr_18', 'chr_18_q10_isochromosome']"
      ]
     },
     "execution_count": 12,
     "metadata": {},
     "output_type": "execute_result"
    }
   ],
   "source": [
    "label_convert"
   ]
  },
  {
   "cell_type": "code",
   "execution_count": 13,
   "metadata": {},
   "outputs": [
    {
     "data": {
      "text/plain": [
       "207"
      ]
     },
     "execution_count": 13,
     "metadata": {},
     "output_type": "execute_result"
    }
   ],
   "source": [
    "len(y_test_concatenate_list)"
   ]
  },
  {
   "cell_type": "code",
   "execution_count": 14,
   "metadata": {},
   "outputs": [
    {
     "data": {
      "text/plain": [
       "207"
      ]
     },
     "execution_count": 14,
     "metadata": {},
     "output_type": "execute_result"
    }
   ],
   "source": [
    "len(y_predict_filtered_concatenate_list)"
   ]
  },
  {
   "cell_type": "code",
   "execution_count": 15,
   "metadata": {},
   "outputs": [
    {
     "data": {
      "text/plain": [
       "207"
      ]
     },
     "execution_count": 15,
     "metadata": {},
     "output_type": "execute_result"
    }
   ],
   "source": [
    "len(y_predict_concatenate_list)"
   ]
  },
  {
   "cell_type": "markdown",
   "metadata": {},
   "source": [
    "# Classification Report"
   ]
  },
  {
   "cell_type": "markdown",
   "metadata": {},
   "source": [
    "## Accuracy"
   ]
  },
  {
   "cell_type": "code",
   "execution_count": 16,
   "metadata": {},
   "outputs": [
    {
     "name": "stdout",
     "output_type": "stream",
     "text": [
      "Accuracy is  1.0\n"
     ]
    }
   ],
   "source": [
    "acc = accuracy_score(y_test_concatenate_list, y_predict_filtered_concatenate_list, normalize=True, sample_weight=None)\n",
    "print('Accuracy is ', acc)"
   ]
  },
  {
   "cell_type": "markdown",
   "metadata": {},
   "source": [
    "## Precision, Recall, and F1"
   ]
  },
  {
   "cell_type": "code",
   "execution_count": 17,
   "metadata": {},
   "outputs": [
    {
     "name": "stdout",
     "output_type": "stream",
     "text": [
      "                          precision    recall  f1-score   support\n",
      "\n",
      "                  chr_18       1.00      1.00      1.00       176\n",
      "chr_18_q10_isochromosome       1.00      1.00      1.00        31\n",
      "\n",
      "               micro avg       1.00      1.00      1.00       207\n",
      "               macro avg       1.00      1.00      1.00       207\n",
      "            weighted avg       1.00      1.00      1.00       207\n",
      "\n"
     ]
    }
   ],
   "source": [
    "performanceReport = classification_report(y_test_concatenate_list, y_predict_filtered_concatenate_list, \n",
    "                                          target_names=label_convert)\n",
    "\n",
    "\n",
    "print(performanceReport)"
   ]
  },
  {
   "cell_type": "markdown",
   "metadata": {},
   "source": [
    "## Confusion Matrix"
   ]
  },
  {
   "cell_type": "code",
   "execution_count": 18,
   "metadata": {},
   "outputs": [
    {
     "data": {
      "text/html": [
       "<div>\n",
       "<style scoped>\n",
       "    .dataframe tbody tr th:only-of-type {\n",
       "        vertical-align: middle;\n",
       "    }\n",
       "\n",
       "    .dataframe tbody tr th {\n",
       "        vertical-align: top;\n",
       "    }\n",
       "\n",
       "    .dataframe thead th {\n",
       "        text-align: right;\n",
       "    }\n",
       "</style>\n",
       "<table border=\"1\" class=\"dataframe\">\n",
       "  <thead>\n",
       "    <tr style=\"text-align: right;\">\n",
       "      <th></th>\n",
       "      <th>chr_18</th>\n",
       "      <th>chr_18_q10_isochromosome</th>\n",
       "    </tr>\n",
       "  </thead>\n",
       "  <tbody>\n",
       "    <tr>\n",
       "      <th>chr_18</th>\n",
       "      <td>176</td>\n",
       "      <td>0</td>\n",
       "    </tr>\n",
       "    <tr>\n",
       "      <th>chr_18_q10_isochromosome</th>\n",
       "      <td>0</td>\n",
       "      <td>31</td>\n",
       "    </tr>\n",
       "  </tbody>\n",
       "</table>\n",
       "</div>"
      ],
      "text/plain": [
       "                          chr_18  chr_18_q10_isochromosome\n",
       "chr_18                       176                         0\n",
       "chr_18_q10_isochromosome       0                        31"
      ]
     },
     "execution_count": 18,
     "metadata": {},
     "output_type": "execute_result"
    }
   ],
   "source": [
    "cm = np.array(confusion_matrix(y_test_concatenate_list, y_predict_filtered_concatenate_list))\n",
    "confusion = pd.DataFrame(cm, index=label_convert,\n",
    "                        columns=label_convert)\n",
    "confusion.to_csv('ConfusionMatrix_Combination_of_CrossValidation_KaryoType_CNN.csv')\n",
    "confusion"
   ]
  },
  {
   "cell_type": "markdown",
   "metadata": {},
   "source": [
    "### 3.10.4 Rate of Confusion Matrix"
   ]
  },
  {
   "cell_type": "markdown",
   "metadata": {},
   "source": [
    "### 3.10.5 Recall (查全率)，(Sensitivity Rate)"
   ]
  },
  {
   "cell_type": "code",
   "execution_count": 19,
   "metadata": {
    "scrolled": true
   },
   "outputs": [],
   "source": [
    "subtotal = [0] * 2  \n",
    "for item in y_test_concatenate_list:\n",
    "    subtotal[item] = subtotal[item] + 1"
   ]
  },
  {
   "cell_type": "markdown",
   "metadata": {},
   "source": [
    "#### predict number divided by y test"
   ]
  },
  {
   "cell_type": "code",
   "execution_count": 20,
   "metadata": {},
   "outputs": [],
   "source": [
    "cm_r = []\n",
    "for i in range(2):\n",
    "    cm_r.append(cm[i]/subtotal[i])"
   ]
  },
  {
   "cell_type": "code",
   "execution_count": 21,
   "metadata": {},
   "outputs": [
    {
     "data": {
      "text/html": [
       "<div>\n",
       "<style scoped>\n",
       "    .dataframe tbody tr th:only-of-type {\n",
       "        vertical-align: middle;\n",
       "    }\n",
       "\n",
       "    .dataframe tbody tr th {\n",
       "        vertical-align: top;\n",
       "    }\n",
       "\n",
       "    .dataframe thead th {\n",
       "        text-align: right;\n",
       "    }\n",
       "</style>\n",
       "<table border=\"1\" class=\"dataframe\">\n",
       "  <thead>\n",
       "    <tr style=\"text-align: right;\">\n",
       "      <th></th>\n",
       "      <th>chr_18</th>\n",
       "      <th>chr_18_q10_isochromosome</th>\n",
       "    </tr>\n",
       "  </thead>\n",
       "  <tbody>\n",
       "    <tr>\n",
       "      <th>chr_18</th>\n",
       "      <td>1.0</td>\n",
       "      <td>0.0</td>\n",
       "    </tr>\n",
       "    <tr>\n",
       "      <th>chr_18_q10_isochromosome</th>\n",
       "      <td>0.0</td>\n",
       "      <td>1.0</td>\n",
       "    </tr>\n",
       "  </tbody>\n",
       "</table>\n",
       "</div>"
      ],
      "text/plain": [
       "                          chr_18  chr_18_q10_isochromosome\n",
       "chr_18                       1.0                       0.0\n",
       "chr_18_q10_isochromosome     0.0                       1.0"
      ]
     },
     "execution_count": 21,
     "metadata": {},
     "output_type": "execute_result"
    }
   ],
   "source": [
    "confusion_r = pd.DataFrame(cm_r, index=label_convert,\n",
    "                        columns=label_convert)\n",
    "confusion_r.to_csv('ConfusionMatrix_Recall_Integration_CNN.csv')\n",
    "confusion_r"
   ]
  },
  {
   "cell_type": "markdown",
   "metadata": {},
   "source": [
    "### 3.10.6 Precision (查准率）"
   ]
  },
  {
   "cell_type": "code",
   "execution_count": 22,
   "metadata": {},
   "outputs": [],
   "source": [
    "subtotal_predict = [0] * 2 \n",
    "for item in y_predict_filtered_concatenate_list:\n",
    "    subtotal_predict[item] = subtotal_predict[item] + 1"
   ]
  },
  {
   "cell_type": "markdown",
   "metadata": {},
   "source": [
    "#### predict number divided by y predicted"
   ]
  },
  {
   "cell_type": "code",
   "execution_count": 23,
   "metadata": {},
   "outputs": [],
   "source": [
    "cm_p = []\n",
    "for i in range(2):\n",
    "    cm_p.append(cm[:,i]/subtotal_predict[i])"
   ]
  },
  {
   "cell_type": "code",
   "execution_count": 24,
   "metadata": {},
   "outputs": [
    {
     "data": {
      "text/html": [
       "<div>\n",
       "<style scoped>\n",
       "    .dataframe tbody tr th:only-of-type {\n",
       "        vertical-align: middle;\n",
       "    }\n",
       "\n",
       "    .dataframe tbody tr th {\n",
       "        vertical-align: top;\n",
       "    }\n",
       "\n",
       "    .dataframe thead th {\n",
       "        text-align: right;\n",
       "    }\n",
       "</style>\n",
       "<table border=\"1\" class=\"dataframe\">\n",
       "  <thead>\n",
       "    <tr style=\"text-align: right;\">\n",
       "      <th></th>\n",
       "      <th>chr_18</th>\n",
       "      <th>chr_18_q10_isochromosome</th>\n",
       "    </tr>\n",
       "  </thead>\n",
       "  <tbody>\n",
       "    <tr>\n",
       "      <th>chr_18</th>\n",
       "      <td>1.0</td>\n",
       "      <td>0.0</td>\n",
       "    </tr>\n",
       "    <tr>\n",
       "      <th>chr_18_q10_isochromosome</th>\n",
       "      <td>0.0</td>\n",
       "      <td>1.0</td>\n",
       "    </tr>\n",
       "  </tbody>\n",
       "</table>\n",
       "</div>"
      ],
      "text/plain": [
       "                          chr_18  chr_18_q10_isochromosome\n",
       "chr_18                       1.0                       0.0\n",
       "chr_18_q10_isochromosome     0.0                       1.0"
      ]
     },
     "execution_count": 24,
     "metadata": {},
     "output_type": "execute_result"
    }
   ],
   "source": [
    "confusion_p = pd.DataFrame(cm_p, index=label_convert,\n",
    "                        columns=label_convert)\n",
    "confusion_p.to_csv('ConfusionMatrix_Precision_Integration_CNN.csv')\n",
    "confusion_p"
   ]
  },
  {
   "cell_type": "markdown",
   "metadata": {},
   "source": [
    "#### Heat Map: Number"
   ]
  },
  {
   "cell_type": "code",
   "execution_count": 25,
   "metadata": {
    "scrolled": false
   },
   "outputs": [
    {
     "data": {
      "image/png": "[encoded data removed]",
      "text/plain": [
       "<Figure size 2160x1728 with 2 Axes>"
      ]
     },
     "metadata": {
      "needs_background": "light"
     },
     "output_type": "display_data"
    }
   ],
   "source": [
    "plt.figure(figsize=(30, 24))\n",
    "heat_map = sb.heatmap(confusion, annot=True, fmt = 'g',  # It's a Seaborn function\n",
    "                      cmap='coolwarm', \n",
    "                      xticklabels=confusion.columns, yticklabels=confusion.index, \n",
    "                      linewidths=.5, \n",
    "                      annot_kws={\"size\": 50})\n",
    "sb.set(font_scale = 4)"
   ]
  },
  {
   "cell_type": "markdown",
   "metadata": {},
   "source": [
    "#### Heat Map of Recall: Rate (important!!!)"
   ]
  },
  {
   "cell_type": "code",
   "execution_count": 26,
   "metadata": {
    "scrolled": false
   },
   "outputs": [
    {
     "data": {
      "image/png": "[encoded data removed]",
      "text/plain": [
       "<Figure size 2160x1728 with 2 Axes>"
      ]
     },
     "metadata": {},
     "output_type": "display_data"
    }
   ],
   "source": [
    "plt.figure(figsize=(30, 24))\n",
    "heat_map_r = sb.heatmap(confusion_r, annot=True,  # It's a Seaborn function\n",
    "                      cmap='coolwarm', \n",
    "                      xticklabels=confusion.columns, yticklabels=confusion.index, \n",
    "                      linewidths=1, \n",
    "                      annot_kws={\"size\": 50})\n",
    "sb.set(font_scale = 4)"
   ]
  },
  {
   "cell_type": "code",
   "execution_count": 27,
   "metadata": {},
   "outputs": [
    {
     "data": {
      "image/png": "[encoded data removed]",
      "text/plain": [
       "<Figure size 2160x1728 with 2 Axes>"
      ]
     },
     "metadata": {},
     "output_type": "display_data"
    }
   ],
   "source": [
    "plt.figure(figsize=(30, 24))\n",
    "heat_map_p = sb.heatmap(confusion_p, annot=True,  # It's a Seaborn function\n",
    "                      cmap='coolwarm', \n",
    "                      xticklabels=confusion.columns, yticklabels=confusion.index, \n",
    "                      linewidths=1, \n",
    "                      annot_kws={\"size\": 50})\n",
    "sb.set(font_scale = 4)"
   ]
  },
  {
   "cell_type": "code",
   "execution_count": 28,
   "metadata": {},
   "outputs": [],
   "source": [
    "fig = heat_map.get_figure()    \n",
    "fig.savefig('Heatmap_Combination.png', dpi=400)"
   ]
  },
  {
   "cell_type": "code",
   "execution_count": 29,
   "metadata": {},
   "outputs": [],
   "source": [
    "fig_r = heat_map_r.get_figure()    \n",
    "fig_r.savefig('Heatmap_Recall_Combination.png', dpi=400)"
   ]
  },
  {
   "cell_type": "code",
   "execution_count": 30,
   "metadata": {},
   "outputs": [],
   "source": [
    "fig_p = heat_map_p.get_figure()    \n",
    "fig_p.savefig('Heatmap_Precision_Combination.png', dpi=400)"
   ]
  },
  {
   "cell_type": "markdown",
   "metadata": {},
   "source": [
    "# ROC Curve"
   ]
  },
  {
   "cell_type": "code",
   "execution_count": 31,
   "metadata": {},
   "outputs": [
    {
     "data": {
      "text/plain": [
       "array([[9.99979258e-01, 6.40852959e-05],\n",
       "       [1.00000000e+00, 2.65827995e-13],\n",
       "       [1.00000000e+00, 4.65292382e-09],\n",
       "       [1.00000000e+00, 5.00083814e-08],\n",
       "       [9.99999523e-01, 6.49840501e-07],\n",
       "       [1.00000000e+00, 3.55917761e-11],\n",
       "       [1.00000000e+00, 1.57629498e-13],\n",
       "       [1.00000000e+00, 3.17794321e-16],\n",
       "       [1.00000000e+00, 1.18737476e-16],\n",
       "       [9.99999285e-01, 4.67922575e-07],\n",
       "       [1.00000000e+00, 9.87960622e-25],\n",
       "       [1.00000000e+00, 4.74182577e-17],\n",
       "       [9.99827385e-01, 2.21677241e-04],\n",
       "       [1.00000000e+00, 3.66679784e-14],\n",
       "       [1.00000000e+00, 1.29374211e-09],\n",
       "       [9.99999404e-01, 3.77977386e-07],\n",
       "       [1.00000000e+00, 2.46643900e-10],\n",
       "       [1.00000000e+00, 6.20296349e-12],\n",
       "       [9.99999404e-01, 5.09785650e-07],\n",
       "       [1.00000000e+00, 1.11960059e-08],\n",
       "       [9.99994040e-01, 5.69671147e-06],\n",
       "       [1.00000000e+00, 2.88455908e-11],\n",
       "       [9.99997616e-01, 3.12613906e-06],\n",
       "       [1.00000000e+00, 2.59730388e-14],\n",
       "       [1.00000000e+00, 1.10686238e-09],\n",
       "       [1.00000000e+00, 3.22427397e-11],\n",
       "       [6.32881711e-04, 9.99999285e-01],\n",
       "       [2.50487216e-03, 9.99988556e-01],\n",
       "       [3.67494766e-04, 9.99999642e-01],\n",
       "       [1.70871863e-06, 1.00000000e+00],\n",
       "       [8.96547135e-06, 1.00000000e+00],\n",
       "       [1.00000000e+00, 9.23969326e-19],\n",
       "       [1.00000000e+00, 3.04326914e-26],\n",
       "       [1.00000000e+00, 1.20884162e-12],\n",
       "       [1.00000000e+00, 4.49148474e-20],\n",
       "       [1.00000000e+00, 0.00000000e+00],\n",
       "       [1.00000000e+00, 2.33375523e-08],\n",
       "       [1.00000000e+00, 2.47947285e-24],\n",
       "       [1.00000000e+00, 6.50179577e-14],\n",
       "       [1.00000000e+00, 0.00000000e+00],\n",
       "       [1.00000000e+00, 4.92858322e-21],\n",
       "       [1.00000000e+00, 2.32252434e-31],\n",
       "       [1.00000000e+00, 0.00000000e+00],\n",
       "       [9.99999642e-01, 1.04094943e-06],\n",
       "       [1.00000000e+00, 3.36243278e-09],\n",
       "       [1.00000000e+00, 9.63119272e-30],\n",
       "       [1.00000000e+00, 1.11771438e-23],\n",
       "       [1.00000000e+00, 9.03755698e-31],\n",
       "       [1.00000000e+00, 0.00000000e+00],\n",
       "       [1.00000000e+00, 4.38714576e-13],\n",
       "       [1.00000000e+00, 6.06639738e-11],\n",
       "       [1.00000000e+00, 2.77066150e-20],\n",
       "       [1.00000000e+00, 7.16708832e-19],\n",
       "       [9.99999642e-01, 7.87555837e-06],\n",
       "       [1.00000000e+00, 1.38333108e-28],\n",
       "       [1.00000000e+00, 1.61492222e-10],\n",
       "       [4.11410962e-04, 1.00000000e+00],\n",
       "       [2.72977741e-06, 1.00000000e+00],\n",
       "       [1.80553593e-06, 1.00000000e+00],\n",
       "       [4.15838476e-05, 1.00000000e+00],\n",
       "       [2.47263724e-05, 1.00000000e+00],\n",
       "       [9.99996901e-01, 9.61407277e-05],\n",
       "       [1.00000000e+00, 8.65371646e-07],\n",
       "       [9.99999762e-01, 2.81815392e-05],\n",
       "       [9.99948263e-01, 1.19856733e-03],\n",
       "       [9.99996543e-01, 1.40852862e-04],\n",
       "       [9.99995947e-01, 2.64420582e-04],\n",
       "       [9.99932051e-01, 1.12700812e-03],\n",
       "       [9.99996305e-01, 1.17696211e-04],\n",
       "       [9.99996781e-01, 7.85521115e-05],\n",
       "       [9.99999523e-01, 2.33469473e-05],\n",
       "       [9.99996066e-01, 1.70596832e-04],\n",
       "       [9.99996424e-01, 8.67255367e-05],\n",
       "       [9.99998927e-01, 4.18798954e-05],\n",
       "       [9.99985218e-01, 2.91448960e-04],\n",
       "       [9.99990940e-01, 1.98377791e-04],\n",
       "       [9.99881506e-01, 1.32892956e-03],\n",
       "       [9.99993324e-01, 1.58625480e-04],\n",
       "       [9.99993086e-01, 1.16489566e-04],\n",
       "       [9.99960542e-01, 4.35181253e-04],\n",
       "       [9.99869108e-01, 1.63283339e-03],\n",
       "       [9.99835730e-01, 1.71166076e-03],\n",
       "       [9.99934316e-01, 9.10095114e-04],\n",
       "       [9.99454319e-01, 2.57136347e-03],\n",
       "       [9.99942660e-01, 5.86805108e-04],\n",
       "       [9.99923110e-01, 8.04374402e-04],\n",
       "       [5.36603034e-01, 9.99594271e-01],\n",
       "       [1.87296548e-03, 9.99999523e-01],\n",
       "       [5.18256463e-02, 9.99984980e-01],\n",
       "       [8.18737000e-02, 9.99986649e-01],\n",
       "       [4.38658923e-01, 9.99813735e-01],\n",
       "       [9.99501705e-01, 7.26451754e-06],\n",
       "       [1.00000000e+00, 2.38346010e-11],\n",
       "       [1.00000000e+00, 1.09112970e-11],\n",
       "       [1.00000000e+00, 2.59243012e-13],\n",
       "       [1.00000000e+00, 6.39479255e-15],\n",
       "       [1.00000000e+00, 5.63481824e-13],\n",
       "       [1.00000000e+00, 8.72165242e-13],\n",
       "       [1.00000000e+00, 2.34706081e-13],\n",
       "       [1.00000000e+00, 5.14622660e-15],\n",
       "       [9.99996901e-01, 8.57143245e-09],\n",
       "       [1.00000000e+00, 3.08126002e-13],\n",
       "       [1.00000000e+00, 1.17937737e-13],\n",
       "       [1.00000000e+00, 1.94778847e-15],\n",
       "       [1.00000000e+00, 1.06496166e-11],\n",
       "       [1.00000000e+00, 2.57321082e-18],\n",
       "       [1.00000000e+00, 3.46517498e-12],\n",
       "       [1.00000000e+00, 5.26874898e-11],\n",
       "       [9.99999881e-01, 1.46721524e-10],\n",
       "       [9.99999881e-01, 1.49880983e-10],\n",
       "       [1.00000000e+00, 7.39944347e-13],\n",
       "       [1.00000000e+00, 1.18514976e-10],\n",
       "       [1.00000000e+00, 4.43151700e-13],\n",
       "       [9.99999881e-01, 2.31973329e-10],\n",
       "       [9.99999881e-01, 1.33203726e-10],\n",
       "       [1.00000000e+00, 2.74040014e-12],\n",
       "       [2.40524673e-06, 9.99993086e-01],\n",
       "       [2.95249856e-06, 9.99992728e-01],\n",
       "       [4.66615856e-02, 6.68227315e-01],\n",
       "       [1.10493648e-09, 1.00000000e+00],\n",
       "       [1.00000000e+00, 4.02105069e-17],\n",
       "       [1.00000000e+00, 7.47539346e-13],\n",
       "       [1.00000000e+00, 7.95174117e-15],\n",
       "       [1.00000000e+00, 1.34707080e-21],\n",
       "       [1.00000000e+00, 7.45428465e-15],\n",
       "       [1.00000000e+00, 1.25108280e-17],\n",
       "       [1.00000000e+00, 1.92831624e-14],\n",
       "       [1.00000000e+00, 1.67353707e-13],\n",
       "       [1.00000000e+00, 1.55822485e-13],\n",
       "       [1.00000000e+00, 9.90199514e-22],\n",
       "       [1.00000000e+00, 2.93783171e-21],\n",
       "       [1.00000000e+00, 2.49326449e-12],\n",
       "       [1.00000000e+00, 4.81836413e-13],\n",
       "       [1.00000000e+00, 1.12985272e-19],\n",
       "       [1.00000000e+00, 6.86803790e-14],\n",
       "       [1.00000000e+00, 3.18473648e-14],\n",
       "       [1.00000000e+00, 5.99157252e-11],\n",
       "       [1.00000000e+00, 2.19975718e-08],\n",
       "       [1.00000000e+00, 1.12907698e-12],\n",
       "       [1.00000000e+00, 6.15176876e-12],\n",
       "       [1.00000000e+00, 5.28030527e-12],\n",
       "       [1.00000000e+00, 7.94719261e-15],\n",
       "       [1.00000000e+00, 3.34603150e-15],\n",
       "       [1.00000000e+00, 7.74347511e-18],\n",
       "       [1.00000000e+00, 1.29861043e-16],\n",
       "       [1.15069436e-15, 1.00000000e+00],\n",
       "       [5.34934618e-13, 1.00000000e+00],\n",
       "       [3.18650623e-13, 1.00000000e+00],\n",
       "       [3.56712340e-14, 1.00000000e+00],\n",
       "       [8.66383851e-01, 1.00399255e-11],\n",
       "       [9.92498219e-01, 3.04341703e-13],\n",
       "       [7.75838673e-01, 3.07607793e-11],\n",
       "       [1.00000000e+00, 1.08731470e-20],\n",
       "       [2.14021638e-01, 2.27967839e-10],\n",
       "       [9.99998093e-01, 1.18000120e-16],\n",
       "       [9.99936342e-01, 2.94302275e-15],\n",
       "       [9.99998212e-01, 5.22794062e-17],\n",
       "       [9.65009093e-01, 1.91230148e-12],\n",
       "       [9.99988556e-01, 3.90926510e-16],\n",
       "       [9.99701917e-01, 2.18923627e-14],\n",
       "       [9.99999881e-01, 1.00718868e-17],\n",
       "       [9.99908924e-01, 8.17126840e-15],\n",
       "       [9.99774992e-01, 1.01321344e-14],\n",
       "       [9.99996781e-01, 1.29139795e-16],\n",
       "       [9.98761892e-01, 5.91209888e-14],\n",
       "       [9.91311550e-01, 1.45138418e-13],\n",
       "       [9.99999642e-01, 1.06934477e-17],\n",
       "       [1.00000000e+00, 2.04568155e-18],\n",
       "       [9.99999523e-01, 1.99611569e-17],\n",
       "       [1.00000000e+00, 5.90162813e-19],\n",
       "       [9.99997258e-01, 5.20714100e-17],\n",
       "       [9.99994159e-01, 1.50392248e-16],\n",
       "       [9.99999523e-01, 1.45687831e-17],\n",
       "       [1.00000000e+00, 1.52793213e-31],\n",
       "       [2.84102393e-19, 1.00000000e+00],\n",
       "       [1.61159443e-12, 9.99117553e-01],\n",
       "       [1.23033355e-18, 1.00000000e+00],\n",
       "       [7.74662249e-14, 9.99989510e-01],\n",
       "       [9.99991298e-01, 1.18602175e-05],\n",
       "       [9.88657176e-01, 1.50954109e-02],\n",
       "       [9.99999523e-01, 3.14270324e-07],\n",
       "       [9.99948144e-01, 2.96899543e-05],\n",
       "       [1.00000000e+00, 1.06758559e-14],\n",
       "       [9.98167038e-01, 1.74849899e-03],\n",
       "       [9.96910989e-01, 2.58325948e-03],\n",
       "       [1.00000000e+00, 2.06351078e-08],\n",
       "       [9.99999642e-01, 2.18317211e-07],\n",
       "       [9.99983668e-01, 2.98642226e-05],\n",
       "       [1.00000000e+00, 1.67740708e-07],\n",
       "       [1.00000000e+00, 1.09544217e-07],\n",
       "       [9.98740494e-01, 1.18747784e-03],\n",
       "       [9.99958992e-01, 5.88166440e-05],\n",
       "       [9.99996185e-01, 8.19523575e-06],\n",
       "       [9.97782290e-01, 2.97505362e-03],\n",
       "       [9.99984384e-01, 2.81845478e-05],\n",
       "       [9.99909163e-01, 1.59144518e-04],\n",
       "       [9.99994636e-01, 8.16230477e-06],\n",
       "       [1.00000000e+00, 5.09594589e-10],\n",
       "       [9.99997616e-01, 4.11095652e-06],\n",
       "       [9.99997497e-01, 4.79507617e-06],\n",
       "       [9.97775257e-01, 4.02400084e-03],\n",
       "       [9.99816835e-01, 2.87092378e-04],\n",
       "       [9.99838829e-01, 2.10619808e-04],\n",
       "       [1.11546591e-02, 9.74450290e-01],\n",
       "       [7.76945974e-09, 9.99999285e-01],\n",
       "       [7.12003279e-03, 9.69231904e-01],\n",
       "       [6.74146069e-13, 1.00000000e+00]], dtype=float32)"
      ]
     },
     "execution_count": 31,
     "metadata": {},
     "output_type": "execute_result"
    }
   ],
   "source": [
    "y_predict_concatenate_array = np.array(y_predict_concatenate_list)\n",
    "y_predict_concatenate_array"
   ]
  },
  {
   "cell_type": "code",
   "execution_count": 32,
   "metadata": {},
   "outputs": [
    {
     "data": {
      "text/plain": [
       "(207, 2)"
      ]
     },
     "execution_count": 32,
     "metadata": {},
     "output_type": "execute_result"
    }
   ],
   "source": [
    "y_predict_concatenate_array.shape"
   ]
  },
  {
   "cell_type": "code",
   "execution_count": 33,
   "metadata": {},
   "outputs": [],
   "source": [
    "y_predict_1D = y_predict_concatenate_array[:,0]"
   ]
  },
  {
   "cell_type": "code",
   "execution_count": 34,
   "metadata": {},
   "outputs": [],
   "source": [
    "y_predict_1D_processed = 1- y_predict_1D"
   ]
  },
  {
   "cell_type": "code",
   "execution_count": 35,
   "metadata": {},
   "outputs": [],
   "source": [
    "fpr , tpr , thresholds = roc_curve(y_test_concatenate_list , y_predict_1D_processed)\n",
    "auc_rf = auc(fpr, tpr)"
   ]
  },
  {
   "cell_type": "code",
   "execution_count": 36,
   "metadata": {},
   "outputs": [
    {
     "data": {
      "text/plain": [
       "0.999633431085044"
      ]
     },
     "execution_count": 36,
     "metadata": {},
     "output_type": "execute_result"
    }
   ],
   "source": [
    "auc_rf"
   ]
  },
  {
   "cell_type": "code",
   "execution_count": 37,
   "metadata": {},
   "outputs": [],
   "source": [
    "x = y = np.arange(0, 1.1, 0.1)"
   ]
  },
  {
   "cell_type": "code",
   "execution_count": 38,
   "metadata": {},
   "outputs": [
    {
     "data": {
      "text/plain": [
       "array([0. , 0.1, 0.2, 0.3, 0.4, 0.5, 0.6, 0.7, 0.8, 0.9, 1. ])"
      ]
     },
     "execution_count": 38,
     "metadata": {},
     "output_type": "execute_result"
    }
   ],
   "source": [
    "x"
   ]
  },
  {
   "cell_type": "code",
   "execution_count": 39,
   "metadata": {
    "scrolled": true
   },
   "outputs": [
    {
     "data": {
      "image/png": "[encoded data removed]",
      "text/plain": [
       "<Figure size 432x288 with 1 Axes>"
      ]
     },
     "metadata": {},
     "output_type": "display_data"
    }
   ],
   "source": [
    "fig = plt.figure()\n",
    "plt.style.use('classic')\n",
    "\n",
    "ax = fig.add_subplot(111)\n",
    "\n",
    "plt.plot(fpr, tpr, color='blue', linewidth=0.9)\n",
    "\n",
    "plt.plot(x, y, '--', color='black', linewidth=0.8)\n",
    "\n",
    "plt.title('ROC curve of Chr_18q10 Isochromosome', fontsize=15, fontname = 'Times New Roman')\n",
    "\n",
    "plt.xlabel('False Positive Rate', fontsize=15, fontname = 'Times New Roman')\n",
    "plt.ylabel('True positive Rate', fontsize=15, fontname = 'Times New Roman')\n",
    "\n",
    "ax.set_aspect('equal', adjustable='box')\n",
    "\n",
    "plt.xlim(-0.08, 1.1)\n",
    "plt.ylim(-0.08, 1.1)\n",
    "\n",
    "plt.xticks(fontsize=15, fontname = 'Arial')\n",
    "plt.yticks(fontsize=15, fontname = 'Arial')\n",
    "\n",
    "plt.savefig('ROC_Curve_Combination.png', dpi=600)\n",
    "plt.show()"
   ]
  },
  {
   "cell_type": "markdown",
   "metadata": {},
   "source": [
    "#### 3.10.4.1 AUC Value"
   ]
  },
  {
   "cell_type": "code",
   "execution_count": 40,
   "metadata": {},
   "outputs": [],
   "source": [
    "auc_value = auc(fpr, tpr)"
   ]
  },
  {
   "cell_type": "code",
   "execution_count": 41,
   "metadata": {},
   "outputs": [
    {
     "name": "stdout",
     "output_type": "stream",
     "text": [
      "AUC is  0.999633431085044\n"
     ]
    }
   ],
   "source": [
    "print('AUC is ', auc_value)"
   ]
  },
  {
   "cell_type": "markdown",
   "metadata": {},
   "source": [
    "# Results"
   ]
  },
  {
   "cell_type": "code",
   "execution_count": 42,
   "metadata": {},
   "outputs": [
    {
     "name": "stdout",
     "output_type": "stream",
     "text": [
      "Test Accuracy: 1.000\n"
     ]
    }
   ],
   "source": [
    "print('Test Accuracy: %.3f' % acc)"
   ]
  },
  {
   "cell_type": "code",
   "execution_count": 43,
   "metadata": {
    "scrolled": true
   },
   "outputs": [
    {
     "name": "stdout",
     "output_type": "stream",
     "text": [
      "                          precision    recall  f1-score   support\n",
      "\n",
      "                  chr_18       1.00      1.00      1.00       176\n",
      "chr_18_q10_isochromosome       1.00      1.00      1.00        31\n",
      "\n",
      "               micro avg       1.00      1.00      1.00       207\n",
      "               macro avg       1.00      1.00      1.00       207\n",
      "            weighted avg       1.00      1.00      1.00       207\n",
      "\n"
     ]
    }
   ],
   "source": [
    "print(performanceReport)"
   ]
  },
  {
   "cell_type": "code",
   "execution_count": 44,
   "metadata": {},
   "outputs": [
    {
     "data": {
      "text/plain": [
       "str"
      ]
     },
     "execution_count": 44,
     "metadata": {},
     "output_type": "execute_result"
    }
   ],
   "source": [
    "type(performanceReport)"
   ]
  },
  {
   "cell_type": "code",
   "execution_count": 45,
   "metadata": {},
   "outputs": [
    {
     "name": "stdout",
     "output_type": "stream",
     "text": [
      "AUC is  0.999633431085044\n"
     ]
    }
   ],
   "source": [
    "print('AUC is ', auc_value)"
   ]
  },
  {
   "cell_type": "markdown",
   "metadata": {},
   "source": [
    "## Export to a text file"
   ]
  },
  {
   "cell_type": "code",
   "execution_count": 46,
   "metadata": {},
   "outputs": [],
   "source": [
    "file_report = open('ResultsCombination.txt', 'w')\n",
    "file_report.write('Accuracy: %s\\n\\n' % acc)\n",
    "file_report.write('AUC: %s.\\n\\n' % auc_value)\n",
    "file_report.write('Performance Report: \\n%s\\n\\n' % performanceReport)\n",
    "file_report.write('Confusion Matrix: \\n%s.\\n\\n' % confusion)\n",
    "file_report.write('Recall of Confusion Matrix: \\n%s.\\n\\n' % confusion_r)\n",
    "file_report.write('Precision of Confusion Matrix: \\n%s.\\n\\n' % confusion_p)\n",
    "file_report.close()"
   ]
  },
  {
   "cell_type": "markdown",
   "metadata": {},
   "source": [
    "## Export ROC Parameters"
   ]
  },
  {
   "cell_type": "code",
   "execution_count": 47,
   "metadata": {},
   "outputs": [],
   "source": [
    "with open('tpr_' + label_convert[1] + '.npy', 'wb') as file_tpr:\n",
    "    np.save(file_tpr, np.array(tpr))\n",
    "    \n",
    "with open('fpr_' + label_convert[1] + '.npy', 'wb') as file_fpr:\n",
    "    np.save(file_fpr, np.array(fpr))\n",
    "    \n",
    "with open('thresholds_' + label_convert[1] + '.npy', 'wb') as file_thresholds:\n",
    "    np.save(file_thresholds, np.array(thresholds))"
   ]
  },
  {
   "cell_type": "code",
   "execution_count": null,
   "metadata": {},
   "outputs": [],
   "source": []
  }
 ],
 "metadata": {
  "kernelspec": {
   "display_name": "Python 3",
   "language": "python",
   "name": "python3"
  },
  "language_info": {
   "codemirror_mode": {
    "name": "ipython",
    "version": 3
   },
   "file_extension": ".py",
   "mimetype": "text/x-python",
   "name": "python",
   "nbconvert_exporter": "python",
   "pygments_lexer": "ipython3",
   "version": "3.7.3"
  }
 },
 "nbformat": 4,
 "nbformat_minor": 2
}
