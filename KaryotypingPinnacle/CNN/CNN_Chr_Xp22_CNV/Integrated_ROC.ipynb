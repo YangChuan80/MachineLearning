{
 "cells": [
  {
   "cell_type": "code",
   "execution_count": 1,
   "metadata": {},
   "outputs": [
    {
     "name": "stderr",
     "output_type": "stream",
     "text": [
      "C:\\Anaconda3\\lib\\site-packages\\pandas\\compat\\_optional.py:138: UserWarning: Pandas requires version '2.7.0' or newer of 'numexpr' (version '2.6.9' currently installed).\n",
      "  warnings.warn(msg, UserWarning)\n"
     ]
    }
   ],
   "source": [
    "import numpy as np\n",
    "import pandas as pd\n",
    "import matplotlib.pyplot as plt\n",
    "\n",
    "from sklearn.metrics import classification_report, confusion_matrix, roc_curve, auc, accuracy_score\n",
    "\n",
    "import seaborn as sb"
   ]
  },
  {
   "cell_type": "code",
   "execution_count": 2,
   "metadata": {},
   "outputs": [],
   "source": [
    "chromConvert = {\n",
    "               'chr_x': 0, \n",
    "               'chr_x_p22_cnv': 1\n",
    "               }"
   ]
  },
  {
   "cell_type": "code",
   "execution_count": 3,
   "metadata": {},
   "outputs": [],
   "source": [
    "chromConvert_reverse = {\n",
    "                0: 'chr_x', \n",
    "                1: 'chr_x_p22_cnv', \n",
    "               }"
   ]
  },
  {
   "cell_type": "code",
   "execution_count": 4,
   "metadata": {},
   "outputs": [],
   "source": [
    "label = ['chr_x', 'chr_x_p22_cnv']\n",
    "\n",
    "label_convert = []\n",
    "\n",
    "for i in range(2):\n",
    "    label_convert.append(chromConvert_reverse[i])"
   ]
  },
  {
   "cell_type": "markdown",
   "metadata": {},
   "source": [
    "# Load test and predict values"
   ]
  },
  {
   "cell_type": "code",
   "execution_count": 5,
   "metadata": {},
   "outputs": [],
   "source": [
    "y_test_all = []\n",
    "y_predict_all = []\n",
    "y_predict_filtered_all = []"
   ]
  },
  {
   "cell_type": "code",
   "execution_count": 6,
   "metadata": {},
   "outputs": [],
   "source": [
    "for iterationNumber in range(7):\n",
    "    with open('data_y_test_value_iteration_' + str(iterationNumber) + '.npy', 'rb') as f_y_test:\n",
    "        y_test_all.append(np.load(f_y_test))\n",
    "        \n",
    "    with open('data_y_predict_value_iteration_' + str(iterationNumber) + '.npy', 'rb') as f_y_predict:\n",
    "        y_predict_all.append(np.load(f_y_predict))                             \n",
    "                        \n",
    "    with open('data_y_predict_filtered_value_iteration_' + str(iterationNumber) + '.npy', 'rb') as f_y_predict_filtered:\n",
    "        y_predict_filtered_all.append(np.load(f_y_predict_filtered))"
   ]
  },
  {
   "cell_type": "code",
   "execution_count": 7,
   "metadata": {},
   "outputs": [
    {
     "data": {
      "text/plain": [
       "(32, 2)"
      ]
     },
     "execution_count": 7,
     "metadata": {},
     "output_type": "execute_result"
    }
   ],
   "source": [
    "y_predict_all[0].shape"
   ]
  },
  {
   "cell_type": "code",
   "execution_count": 8,
   "metadata": {
    "scrolled": true
   },
   "outputs": [
    {
     "data": {
      "text/plain": [
       "[array([[1.0000000e+00, 3.9338673e-19],\n",
       "        [9.9936515e-01, 2.1894175e-05],\n",
       "        [1.0000000e+00, 1.3460663e-10],\n",
       "        [9.4921696e-01, 4.9864794e-03],\n",
       "        [9.9998677e-01, 2.7156520e-07],\n",
       "        [1.0000000e+00, 1.5421673e-16],\n",
       "        [9.9995995e-01, 9.8258873e-08],\n",
       "        [1.0000000e+00, 1.9671435e-11],\n",
       "        [1.0000000e+00, 1.2581524e-16],\n",
       "        [1.0000000e+00, 6.5516637e-22],\n",
       "        [1.0000000e+00, 7.8707949e-13],\n",
       "        [1.0000000e+00, 6.6062467e-30],\n",
       "        [1.0000000e+00, 4.9255386e-21],\n",
       "        [1.0000000e+00, 1.1582825e-15],\n",
       "        [9.9999964e-01, 5.4863860e-09],\n",
       "        [1.0000000e+00, 3.1689260e-15],\n",
       "        [1.0000000e+00, 7.5406994e-19],\n",
       "        [9.9999797e-01, 5.1815039e-08],\n",
       "        [1.0000000e+00, 9.5036419e-14],\n",
       "        [1.0000000e+00, 2.8419930e-16],\n",
       "        [1.0000000e+00, 1.1513015e-13],\n",
       "        [1.0000000e+00, 4.7684637e-13],\n",
       "        [4.5882054e-02, 8.2780415e-01],\n",
       "        [1.0000000e+00, 8.3358936e-12],\n",
       "        [1.0000000e+00, 6.6739262e-12],\n",
       "        [1.0000000e+00, 8.8087090e-12],\n",
       "        [1.0000000e+00, 7.2298927e-18],\n",
       "        [9.8367935e-01, 8.4407191e-04],\n",
       "        [3.7983006e-01, 4.4585265e-02],\n",
       "        [2.6612480e-03, 9.8823380e-01],\n",
       "        [9.9824691e-01, 2.0192469e-04],\n",
       "        [1.0000000e+00, 1.7943846e-10]], dtype=float32),\n",
       " array([[9.99974370e-01, 8.09430130e-05],\n",
       "        [1.00000000e+00, 1.05390294e-10],\n",
       "        [9.99947190e-01, 1.47468585e-04],\n",
       "        [9.99999762e-01, 1.40983116e-06],\n",
       "        [1.00000000e+00, 4.05676737e-08],\n",
       "        [1.00000000e+00, 1.49207704e-08],\n",
       "        [9.98216093e-01, 1.00001553e-02],\n",
       "        [1.00000000e+00, 6.65567044e-16],\n",
       "        [9.99999166e-01, 2.78848438e-06],\n",
       "        [1.00000000e+00, 5.23409049e-08],\n",
       "        [9.99999046e-01, 3.85369731e-06],\n",
       "        [9.64810669e-01, 5.94094172e-02],\n",
       "        [9.99982715e-01, 6.61899830e-05],\n",
       "        [1.00000000e+00, 2.55112886e-09],\n",
       "        [9.99999762e-01, 7.82538905e-07],\n",
       "        [1.00000000e+00, 6.02531998e-08],\n",
       "        [1.00000000e+00, 5.43842056e-08],\n",
       "        [9.99950409e-01, 1.19871693e-04],\n",
       "        [7.87064314e-01, 3.02717328e-01],\n",
       "        [9.99999881e-01, 4.08654330e-07],\n",
       "        [9.99998808e-01, 3.87824457e-06],\n",
       "        [9.99993086e-01, 2.13281837e-05],\n",
       "        [1.00000000e+00, 3.20363341e-07],\n",
       "        [1.00000000e+00, 1.80354334e-07],\n",
       "        [1.00000000e+00, 1.13116246e-10],\n",
       "        [4.08904344e-01, 7.31099963e-01],\n",
       "        [9.99962926e-01, 8.33567392e-05],\n",
       "        [3.42718422e-01, 6.95277810e-01],\n",
       "        [8.09047488e-04, 9.99568760e-01],\n",
       "        [9.12645180e-03, 9.92107093e-01],\n",
       "        [3.08151892e-03, 9.97708321e-01],\n",
       "        [2.07653129e-03, 9.98445570e-01]], dtype=float32),\n",
       " array([[9.6960956e-01, 3.5834804e-02],\n",
       "        [9.9942601e-01, 1.6138763e-03],\n",
       "        [3.1046274e-01, 8.6666489e-01],\n",
       "        [9.9999988e-01, 5.3382445e-07],\n",
       "        [9.9973971e-01, 5.4943335e-04],\n",
       "        [1.0000000e+00, 1.1128436e-07],\n",
       "        [9.9734372e-01, 5.3225104e-03],\n",
       "        [1.0000000e+00, 8.4592823e-17],\n",
       "        [1.0000000e+00, 3.8941957e-12],\n",
       "        [7.6274603e-07, 9.9999964e-01],\n",
       "        [9.9854219e-01, 5.3668735e-03],\n",
       "        [9.9999964e-01, 2.1190615e-06],\n",
       "        [1.0000000e+00, 1.3255634e-07],\n",
       "        [9.9999940e-01, 1.7533599e-06],\n",
       "        [1.0000000e+00, 2.3052003e-10],\n",
       "        [1.0000000e+00, 5.3538729e-11],\n",
       "        [9.9999952e-01, 1.2809976e-06],\n",
       "        [9.9998343e-01, 4.9672217e-05],\n",
       "        [1.0000000e+00, 1.4374422e-08],\n",
       "        [9.9999750e-01, 1.0453303e-05],\n",
       "        [8.4007132e-01, 2.2053586e-01],\n",
       "        [9.9999630e-01, 1.5209059e-05],\n",
       "        [1.0000000e+00, 1.1613381e-10],\n",
       "        [9.9966776e-01, 8.5103419e-04],\n",
       "        [9.9999988e-01, 4.8359800e-07],\n",
       "        [1.0000000e+00, 1.8143401e-08],\n",
       "        [9.9999881e-01, 4.1063959e-06],\n",
       "        [9.5566732e-01, 7.2580069e-02],\n",
       "        [6.9766204e-10, 1.0000000e+00],\n",
       "        [8.0901018e-06, 9.9999726e-01],\n",
       "        [9.7575139e-08, 1.0000000e+00],\n",
       "        [9.9994195e-01, 2.3041575e-04]], dtype=float32),\n",
       " array([[9.99993563e-01, 2.03241449e-04],\n",
       "        [9.92022514e-01, 2.29859531e-01],\n",
       "        [9.99972343e-01, 1.11523364e-03],\n",
       "        [4.71389323e-01, 9.54736412e-01],\n",
       "        [1.00000000e+00, 1.16420917e-08],\n",
       "        [9.99999881e-01, 4.13225280e-06],\n",
       "        [1.00000000e+00, 4.62875249e-07],\n",
       "        [1.00000000e+00, 1.40753844e-08],\n",
       "        [1.00000000e+00, 6.79956003e-09],\n",
       "        [1.00000000e+00, 2.23567355e-07],\n",
       "        [9.98429477e-01, 1.48980208e-02],\n",
       "        [9.99932170e-01, 8.66396527e-04],\n",
       "        [9.99986768e-01, 2.51094112e-04],\n",
       "        [9.21717286e-01, 3.42876732e-01],\n",
       "        [9.99999166e-01, 1.10636165e-05],\n",
       "        [9.99997020e-01, 3.43589709e-05],\n",
       "        [9.99998212e-01, 2.09601585e-05],\n",
       "        [9.99999404e-01, 7.17260173e-06],\n",
       "        [9.92952406e-01, 8.80937725e-02],\n",
       "        [9.97962594e-01, 1.88645627e-02],\n",
       "        [9.99999523e-01, 1.04569117e-05],\n",
       "        [1.00000000e+00, 4.65936068e-07],\n",
       "        [1.00000000e+00, 2.12623661e-07],\n",
       "        [1.00000000e+00, 1.53770909e-12],\n",
       "        [1.00000000e+00, 2.90418606e-10],\n",
       "        [1.00000000e+00, 6.69326677e-11],\n",
       "        [9.99998569e-01, 1.07667265e-05],\n",
       "        [9.97786522e-01, 1.03904977e-01],\n",
       "        [6.56801462e-02, 9.88914788e-01],\n",
       "        [9.99999762e-01, 3.53802261e-06],\n",
       "        [1.15516689e-02, 9.97342288e-01],\n",
       "        [7.37547994e-01, 6.39772952e-01]], dtype=float32),\n",
       " array([[9.90429938e-01, 1.40846998e-03],\n",
       "        [9.99942303e-01, 5.78222216e-06],\n",
       "        [9.99482095e-01, 9.68547902e-05],\n",
       "        [9.99993801e-01, 7.18104332e-08],\n",
       "        [9.99434531e-01, 7.05066268e-05],\n",
       "        [9.98194158e-01, 1.14949151e-04],\n",
       "        [9.99973893e-01, 2.77448135e-06],\n",
       "        [1.00000000e+00, 1.90315454e-11],\n",
       "        [9.99877095e-01, 2.48747801e-05],\n",
       "        [9.99997497e-01, 3.00059924e-07],\n",
       "        [9.99998569e-01, 1.59262811e-07],\n",
       "        [9.99991059e-01, 8.12866290e-07],\n",
       "        [9.99992251e-01, 6.50161610e-07],\n",
       "        [9.99999881e-01, 4.94064212e-09],\n",
       "        [9.99999404e-01, 9.65885789e-08],\n",
       "        [9.99917030e-01, 1.14041568e-05],\n",
       "        [9.99465048e-01, 1.17229254e-04],\n",
       "        [1.56587013e-03, 9.98640716e-01],\n",
       "        [9.96428549e-01, 1.44105882e-03],\n",
       "        [1.00000000e+00, 6.09304884e-10],\n",
       "        [9.99940157e-01, 9.36550077e-06],\n",
       "        [9.99563634e-01, 1.03588543e-04],\n",
       "        [9.99984622e-01, 1.71938143e-06],\n",
       "        [9.99939442e-01, 1.63403565e-05],\n",
       "        [9.99999166e-01, 2.31064632e-07],\n",
       "        [9.99977231e-01, 3.88228955e-06],\n",
       "        [9.99998450e-01, 4.09826754e-07],\n",
       "        [9.87826765e-01, 4.38700401e-04],\n",
       "        [9.99853134e-01, 1.58404036e-05],\n",
       "        [9.88578796e-01, 1.00955518e-03],\n",
       "        [5.65815903e-03, 9.76514578e-01],\n",
       "        [2.03837478e-03, 9.96136367e-01]], dtype=float32),\n",
       " array([[9.98586774e-01, 5.93955883e-06],\n",
       "        [9.99864340e-01, 9.35505113e-07],\n",
       "        [2.00050394e-03, 9.97340024e-01],\n",
       "        [9.84403133e-01, 3.93292321e-05],\n",
       "        [8.37253690e-01, 2.39567459e-02],\n",
       "        [9.99999881e-01, 3.42772283e-10],\n",
       "        [9.92069840e-01, 5.72460849e-05],\n",
       "        [9.99999762e-01, 2.19701812e-09],\n",
       "        [1.16916711e-03, 9.97180343e-01],\n",
       "        [9.99999404e-01, 1.61563082e-10],\n",
       "        [9.99999046e-01, 1.29125297e-08],\n",
       "        [1.00000000e+00, 8.77010290e-15],\n",
       "        [1.00000000e+00, 1.82790672e-13],\n",
       "        [1.00000000e+00, 1.98724701e-19],\n",
       "        [9.98192608e-01, 4.70878040e-05],\n",
       "        [1.00000000e+00, 6.04728966e-15],\n",
       "        [6.24272287e-01, 1.06986493e-01],\n",
       "        [9.99998689e-01, 2.90618978e-08],\n",
       "        [9.99828458e-01, 1.19953402e-05],\n",
       "        [9.99986649e-01, 4.43023509e-07],\n",
       "        [9.99727428e-01, 1.54517456e-05],\n",
       "        [1.00000000e+00, 2.64236077e-10],\n",
       "        [9.99944448e-01, 5.68796531e-06],\n",
       "        [1.00000000e+00, 1.98323372e-11],\n",
       "        [1.00000000e+00, 1.15776194e-10],\n",
       "        [9.99934912e-01, 4.05901574e-06],\n",
       "        [9.99996901e-01, 6.26897574e-08],\n",
       "        [1.47014394e-01, 5.03853619e-01],\n",
       "        [4.86133844e-01, 1.09745674e-01],\n",
       "        [2.82280356e-01, 1.17569789e-01],\n",
       "        [1.00000000e+00, 1.71054392e-12],\n",
       "        [6.00456493e-04, 9.92298901e-01]], dtype=float32),\n",
       " array([[9.9999893e-01, 1.7792052e-05],\n",
       "        [9.9085510e-01, 2.3098141e-01],\n",
       "        [9.4273174e-01, 3.5885024e-01],\n",
       "        [1.0000000e+00, 1.7895029e-07],\n",
       "        [1.0000000e+00, 2.9363286e-11],\n",
       "        [1.0000000e+00, 1.8791132e-08],\n",
       "        [1.0000000e+00, 1.0143438e-08],\n",
       "        [9.9998975e-01, 1.0840757e-04],\n",
       "        [1.0000000e+00, 4.8686083e-10],\n",
       "        [1.0000000e+00, 1.0022691e-10],\n",
       "        [9.9999964e-01, 7.2902794e-06],\n",
       "        [9.9993920e-01, 3.0928696e-04],\n",
       "        [9.9999869e-01, 1.0782490e-05],\n",
       "        [1.0000000e+00, 4.7622947e-08],\n",
       "        [1.0000000e+00, 3.3657773e-08],\n",
       "        [9.9898213e-01, 1.3947097e-02],\n",
       "        [3.1796783e-02, 9.9362999e-01],\n",
       "        [9.9998760e-01, 2.5352859e-04],\n",
       "        [9.9999440e-01, 2.7650883e-04],\n",
       "        [9.9999881e-01, 1.8918256e-05],\n",
       "        [9.9931097e-01, 5.6115687e-03],\n",
       "        [1.0000000e+00, 1.5029853e-08],\n",
       "        [9.9998820e-01, 1.9478807e-04],\n",
       "        [9.9999464e-01, 6.9985996e-05],\n",
       "        [9.9993229e-01, 2.2205761e-04],\n",
       "        [9.9998295e-01, 3.2963094e-04],\n",
       "        [9.9996173e-01, 2.0343221e-04],\n",
       "        [2.5588652e-01, 9.6060234e-01],\n",
       "        [1.5817115e-04, 9.9993312e-01],\n",
       "        [9.8036468e-01, 5.0841415e-01],\n",
       "        [2.7795441e-02, 9.9364811e-01]], dtype=float32)]"
      ]
     },
     "execution_count": 8,
     "metadata": {},
     "output_type": "execute_result"
    }
   ],
   "source": [
    "y_predict_all"
   ]
  },
  {
   "cell_type": "code",
   "execution_count": 9,
   "metadata": {},
   "outputs": [],
   "source": [
    "y_test_concatenate_list = []\n",
    "y_predict_concatenate_list = []\n",
    "y_predict_filtered_concatenate_list = []"
   ]
  },
  {
   "cell_type": "code",
   "execution_count": 10,
   "metadata": {},
   "outputs": [],
   "source": [
    "for i in range(7):\n",
    "    y_test_concatenate_list.extend(list(y_test_all[i]))\n",
    "    y_predict_concatenate_list.extend(list(y_predict_all[i]))\n",
    "    y_predict_filtered_concatenate_list.extend(list(y_predict_filtered_all[i]))"
   ]
  },
  {
   "cell_type": "code",
   "execution_count": 11,
   "metadata": {},
   "outputs": [
    {
     "data": {
      "text/plain": [
       "(32, 2)"
      ]
     },
     "execution_count": 11,
     "metadata": {},
     "output_type": "execute_result"
    }
   ],
   "source": [
    "y_predict_all[0].shape"
   ]
  },
  {
   "cell_type": "code",
   "execution_count": 12,
   "metadata": {},
   "outputs": [
    {
     "data": {
      "text/plain": [
       "['chr_x', 'chr_x_p22_cnv']"
      ]
     },
     "execution_count": 12,
     "metadata": {},
     "output_type": "execute_result"
    }
   ],
   "source": [
    "label_convert"
   ]
  },
  {
   "cell_type": "code",
   "execution_count": 13,
   "metadata": {},
   "outputs": [
    {
     "data": {
      "text/plain": [
       "223"
      ]
     },
     "execution_count": 13,
     "metadata": {},
     "output_type": "execute_result"
    }
   ],
   "source": [
    "len(y_test_concatenate_list)"
   ]
  },
  {
   "cell_type": "code",
   "execution_count": 14,
   "metadata": {},
   "outputs": [
    {
     "data": {
      "text/plain": [
       "223"
      ]
     },
     "execution_count": 14,
     "metadata": {},
     "output_type": "execute_result"
    }
   ],
   "source": [
    "len(y_predict_filtered_concatenate_list)"
   ]
  },
  {
   "cell_type": "code",
   "execution_count": 15,
   "metadata": {},
   "outputs": [
    {
     "data": {
      "text/plain": [
       "223"
      ]
     },
     "execution_count": 15,
     "metadata": {},
     "output_type": "execute_result"
    }
   ],
   "source": [
    "len(y_predict_concatenate_list)"
   ]
  },
  {
   "cell_type": "markdown",
   "metadata": {},
   "source": [
    "# Classification Report"
   ]
  },
  {
   "cell_type": "markdown",
   "metadata": {},
   "source": [
    "## Accuracy"
   ]
  },
  {
   "cell_type": "code",
   "execution_count": 16,
   "metadata": {},
   "outputs": [
    {
     "name": "stdout",
     "output_type": "stream",
     "text": [
      "Accuracy is  0.8878923766816144\n"
     ]
    }
   ],
   "source": [
    "acc = accuracy_score(y_test_concatenate_list, y_predict_filtered_concatenate_list, normalize=True, sample_weight=None)\n",
    "print('Accuracy is ', acc)"
   ]
  },
  {
   "cell_type": "markdown",
   "metadata": {},
   "source": [
    "## Precision, Recall, and F1"
   ]
  },
  {
   "cell_type": "code",
   "execution_count": 17,
   "metadata": {},
   "outputs": [
    {
     "name": "stdout",
     "output_type": "stream",
     "text": [
      "               precision    recall  f1-score   support\n",
      "\n",
      "        chr_x       0.92      0.95      0.94       189\n",
      "chr_x_p22_cnv       0.67      0.53      0.59        34\n",
      "\n",
      "    micro avg       0.89      0.89      0.89       223\n",
      "    macro avg       0.79      0.74      0.76       223\n",
      " weighted avg       0.88      0.89      0.88       223\n",
      "\n"
     ]
    }
   ],
   "source": [
    "performanceReport = classification_report(y_test_concatenate_list, y_predict_filtered_concatenate_list, \n",
    "                                          target_names=label_convert)\n",
    "\n",
    "\n",
    "print(performanceReport)"
   ]
  },
  {
   "cell_type": "markdown",
   "metadata": {},
   "source": [
    "## Confusion Matrix"
   ]
  },
  {
   "cell_type": "code",
   "execution_count": 18,
   "metadata": {},
   "outputs": [
    {
     "data": {
      "text/html": [
       "<div>\n",
       "<style scoped>\n",
       "    .dataframe tbody tr th:only-of-type {\n",
       "        vertical-align: middle;\n",
       "    }\n",
       "\n",
       "    .dataframe tbody tr th {\n",
       "        vertical-align: top;\n",
       "    }\n",
       "\n",
       "    .dataframe thead th {\n",
       "        text-align: right;\n",
       "    }\n",
       "</style>\n",
       "<table border=\"1\" class=\"dataframe\">\n",
       "  <thead>\n",
       "    <tr style=\"text-align: right;\">\n",
       "      <th></th>\n",
       "      <th>chr_x</th>\n",
       "      <th>chr_x_p22_cnv</th>\n",
       "    </tr>\n",
       "  </thead>\n",
       "  <tbody>\n",
       "    <tr>\n",
       "      <th>chr_x</th>\n",
       "      <td>180</td>\n",
       "      <td>9</td>\n",
       "    </tr>\n",
       "    <tr>\n",
       "      <th>chr_x_p22_cnv</th>\n",
       "      <td>16</td>\n",
       "      <td>18</td>\n",
       "    </tr>\n",
       "  </tbody>\n",
       "</table>\n",
       "</div>"
      ],
      "text/plain": [
       "               chr_x  chr_x_p22_cnv\n",
       "chr_x            180              9\n",
       "chr_x_p22_cnv     16             18"
      ]
     },
     "execution_count": 18,
     "metadata": {},
     "output_type": "execute_result"
    }
   ],
   "source": [
    "cm = np.array(confusion_matrix(y_test_concatenate_list, y_predict_filtered_concatenate_list))\n",
    "confusion = pd.DataFrame(cm, index=label_convert,\n",
    "                        columns=label_convert)\n",
    "confusion.to_csv('ConfusionMatrix_Combination_of_CrossValidation_KaryoType_CNN.csv')\n",
    "confusion"
   ]
  },
  {
   "cell_type": "markdown",
   "metadata": {},
   "source": [
    "### 3.10.4 Rate of Confusion Matrix"
   ]
  },
  {
   "cell_type": "markdown",
   "metadata": {},
   "source": [
    "### 3.10.5 Recall (查全率)，(Sensitivity Rate)"
   ]
  },
  {
   "cell_type": "code",
   "execution_count": 19,
   "metadata": {
    "scrolled": true
   },
   "outputs": [],
   "source": [
    "subtotal = [0] * 2  \n",
    "for item in y_test_concatenate_list:\n",
    "    subtotal[item] = subtotal[item] + 1"
   ]
  },
  {
   "cell_type": "markdown",
   "metadata": {},
   "source": [
    "#### predict number divided by y test"
   ]
  },
  {
   "cell_type": "code",
   "execution_count": 20,
   "metadata": {},
   "outputs": [],
   "source": [
    "cm_r = []\n",
    "for i in range(2):\n",
    "    cm_r.append(cm[i]/subtotal[i])"
   ]
  },
  {
   "cell_type": "code",
   "execution_count": 21,
   "metadata": {},
   "outputs": [
    {
     "data": {
      "text/html": [
       "<div>\n",
       "<style scoped>\n",
       "    .dataframe tbody tr th:only-of-type {\n",
       "        vertical-align: middle;\n",
       "    }\n",
       "\n",
       "    .dataframe tbody tr th {\n",
       "        vertical-align: top;\n",
       "    }\n",
       "\n",
       "    .dataframe thead th {\n",
       "        text-align: right;\n",
       "    }\n",
       "</style>\n",
       "<table border=\"1\" class=\"dataframe\">\n",
       "  <thead>\n",
       "    <tr style=\"text-align: right;\">\n",
       "      <th></th>\n",
       "      <th>chr_x</th>\n",
       "      <th>chr_x_p22_cnv</th>\n",
       "    </tr>\n",
       "  </thead>\n",
       "  <tbody>\n",
       "    <tr>\n",
       "      <th>chr_x</th>\n",
       "      <td>0.952381</td>\n",
       "      <td>0.047619</td>\n",
       "    </tr>\n",
       "    <tr>\n",
       "      <th>chr_x_p22_cnv</th>\n",
       "      <td>0.470588</td>\n",
       "      <td>0.529412</td>\n",
       "    </tr>\n",
       "  </tbody>\n",
       "</table>\n",
       "</div>"
      ],
      "text/plain": [
       "                  chr_x  chr_x_p22_cnv\n",
       "chr_x          0.952381       0.047619\n",
       "chr_x_p22_cnv  0.470588       0.529412"
      ]
     },
     "execution_count": 21,
     "metadata": {},
     "output_type": "execute_result"
    }
   ],
   "source": [
    "confusion_r = pd.DataFrame(cm_r, index=label_convert,\n",
    "                        columns=label_convert)\n",
    "confusion_r.to_csv('ConfusionMatrix_Recall_Integration_CNN.csv')\n",
    "confusion_r"
   ]
  },
  {
   "cell_type": "markdown",
   "metadata": {},
   "source": [
    "### 3.10.6 Precision (查准率）"
   ]
  },
  {
   "cell_type": "code",
   "execution_count": 22,
   "metadata": {},
   "outputs": [],
   "source": [
    "subtotal_predict = [0] * 2 \n",
    "for item in y_predict_filtered_concatenate_list:\n",
    "    subtotal_predict[item] = subtotal_predict[item] + 1"
   ]
  },
  {
   "cell_type": "markdown",
   "metadata": {},
   "source": [
    "#### predict number divided by y predicted"
   ]
  },
  {
   "cell_type": "code",
   "execution_count": 23,
   "metadata": {},
   "outputs": [],
   "source": [
    "cm_p = []\n",
    "for i in range(2):\n",
    "    cm_p.append(cm[:,i]/subtotal_predict[i])"
   ]
  },
  {
   "cell_type": "code",
   "execution_count": 24,
   "metadata": {},
   "outputs": [
    {
     "data": {
      "text/html": [
       "<div>\n",
       "<style scoped>\n",
       "    .dataframe tbody tr th:only-of-type {\n",
       "        vertical-align: middle;\n",
       "    }\n",
       "\n",
       "    .dataframe tbody tr th {\n",
       "        vertical-align: top;\n",
       "    }\n",
       "\n",
       "    .dataframe thead th {\n",
       "        text-align: right;\n",
       "    }\n",
       "</style>\n",
       "<table border=\"1\" class=\"dataframe\">\n",
       "  <thead>\n",
       "    <tr style=\"text-align: right;\">\n",
       "      <th></th>\n",
       "      <th>chr_x</th>\n",
       "      <th>chr_x_p22_cnv</th>\n",
       "    </tr>\n",
       "  </thead>\n",
       "  <tbody>\n",
       "    <tr>\n",
       "      <th>chr_x</th>\n",
       "      <td>0.918367</td>\n",
       "      <td>0.081633</td>\n",
       "    </tr>\n",
       "    <tr>\n",
       "      <th>chr_x_p22_cnv</th>\n",
       "      <td>0.333333</td>\n",
       "      <td>0.666667</td>\n",
       "    </tr>\n",
       "  </tbody>\n",
       "</table>\n",
       "</div>"
      ],
      "text/plain": [
       "                  chr_x  chr_x_p22_cnv\n",
       "chr_x          0.918367       0.081633\n",
       "chr_x_p22_cnv  0.333333       0.666667"
      ]
     },
     "execution_count": 24,
     "metadata": {},
     "output_type": "execute_result"
    }
   ],
   "source": [
    "confusion_p = pd.DataFrame(cm_p, index=label_convert,\n",
    "                        columns=label_convert)\n",
    "confusion_p.to_csv('ConfusionMatrix_Precision_Integration_CNN.csv')\n",
    "confusion_p"
   ]
  },
  {
   "cell_type": "markdown",
   "metadata": {},
   "source": [
    "#### Heat Map: Number"
   ]
  },
  {
   "cell_type": "code",
   "execution_count": 25,
   "metadata": {
    "scrolled": false
   },
   "outputs": [
    {
     "data": {
      "image/png": "[encoded data removed]",
      "text/plain": [
       "<Figure size 2160x1728 with 2 Axes>"
      ]
     },
     "metadata": {
      "needs_background": "light"
     },
     "output_type": "display_data"
    }
   ],
   "source": [
    "plt.figure(figsize=(30, 24))\n",
    "heat_map = sb.heatmap(confusion, annot=True, fmt='g',  # It's a Seaborn function\n",
    "                      cmap='coolwarm', \n",
    "                      xticklabels=confusion.columns, yticklabels=confusion.index, \n",
    "                      linewidths=.5, \n",
    "                      annot_kws={\"size\": 50})\n",
    "sb.set(font_scale = 5)"
   ]
  },
  {
   "cell_type": "markdown",
   "metadata": {},
   "source": [
    "#### Heat Map of Recall: Rate (important!!!)"
   ]
  },
  {
   "cell_type": "code",
   "execution_count": 26,
   "metadata": {
    "scrolled": false
   },
   "outputs": [
    {
     "data": {
      "image/png": "[encoded data removed]",
      "text/plain": [
       "<Figure size 2160x1728 with 2 Axes>"
      ]
     },
     "metadata": {},
     "output_type": "display_data"
    }
   ],
   "source": [
    "plt.figure(figsize=(30, 24))\n",
    "heat_map_r = sb.heatmap(confusion_r, annot=True,  # It's a Seaborn function\n",
    "                      cmap='coolwarm', \n",
    "                      xticklabels=confusion.columns, yticklabels=confusion.index, \n",
    "                      linewidths=1, \n",
    "                      annot_kws={\"size\": 50})\n",
    "sb.set(font_scale = 4)"
   ]
  },
  {
   "cell_type": "code",
   "execution_count": 27,
   "metadata": {},
   "outputs": [
    {
     "data": {
      "image/png": "[encoded data removed]",
      "text/plain": [
       "<Figure size 2160x1728 with 2 Axes>"
      ]
     },
     "metadata": {},
     "output_type": "display_data"
    }
   ],
   "source": [
    "plt.figure(figsize=(30, 24))\n",
    "heat_map_p = sb.heatmap(confusion_p, annot=True,  # It's a Seaborn function\n",
    "                      cmap='coolwarm', \n",
    "                      xticklabels=confusion.columns, yticklabels=confusion.index, \n",
    "                      linewidths=1, \n",
    "                      annot_kws={\"size\": 50})\n",
    "sb.set(font_scale = 4)"
   ]
  },
  {
   "cell_type": "code",
   "execution_count": 28,
   "metadata": {},
   "outputs": [],
   "source": [
    "fig = heat_map.get_figure()    \n",
    "fig.savefig('Heatmap_Combination.png', dpi=400)"
   ]
  },
  {
   "cell_type": "code",
   "execution_count": 29,
   "metadata": {},
   "outputs": [],
   "source": [
    "fig_r = heat_map_r.get_figure()    \n",
    "fig_r.savefig('Heatmap_Recall_Combination.png', dpi=400)"
   ]
  },
  {
   "cell_type": "code",
   "execution_count": 30,
   "metadata": {},
   "outputs": [],
   "source": [
    "fig_p = heat_map_p.get_figure()    \n",
    "fig_p.savefig('Heatmap_Precision_Combination.png', dpi=400)"
   ]
  },
  {
   "cell_type": "markdown",
   "metadata": {},
   "source": [
    "# ROC Curve"
   ]
  },
  {
   "cell_type": "code",
   "execution_count": 31,
   "metadata": {},
   "outputs": [
    {
     "data": {
      "text/plain": [
       "array([[1.00000000e+00, 3.93386730e-19],\n",
       "       [9.99365151e-01, 2.18941750e-05],\n",
       "       [1.00000000e+00, 1.34606631e-10],\n",
       "       [9.49216962e-01, 4.98647941e-03],\n",
       "       [9.99986768e-01, 2.71565199e-07],\n",
       "       [1.00000000e+00, 1.54216734e-16],\n",
       "       [9.99959946e-01, 9.82588730e-08],\n",
       "       [1.00000000e+00, 1.96714346e-11],\n",
       "       [1.00000000e+00, 1.25815243e-16],\n",
       "       [1.00000000e+00, 6.55166375e-22],\n",
       "       [1.00000000e+00, 7.87079494e-13],\n",
       "       [1.00000000e+00, 6.60624665e-30],\n",
       "       [1.00000000e+00, 4.92553864e-21],\n",
       "       [1.00000000e+00, 1.15828251e-15],\n",
       "       [9.99999642e-01, 5.48638601e-09],\n",
       "       [1.00000000e+00, 3.16892602e-15],\n",
       "       [1.00000000e+00, 7.54069944e-19],\n",
       "       [9.99997973e-01, 5.18150394e-08],\n",
       "       [1.00000000e+00, 9.50364191e-14],\n",
       "       [1.00000000e+00, 2.84199300e-16],\n",
       "       [1.00000000e+00, 1.15130155e-13],\n",
       "       [1.00000000e+00, 4.76846373e-13],\n",
       "       [4.58820537e-02, 8.27804148e-01],\n",
       "       [1.00000000e+00, 8.33589361e-12],\n",
       "       [1.00000000e+00, 6.67392617e-12],\n",
       "       [1.00000000e+00, 8.80870897e-12],\n",
       "       [1.00000000e+00, 7.22989273e-18],\n",
       "       [9.83679354e-01, 8.44071910e-04],\n",
       "       [3.79830062e-01, 4.45852652e-02],\n",
       "       [2.66124797e-03, 9.88233805e-01],\n",
       "       [9.98246908e-01, 2.01924689e-04],\n",
       "       [1.00000000e+00, 1.79438464e-10],\n",
       "       [9.99974370e-01, 8.09430130e-05],\n",
       "       [1.00000000e+00, 1.05390294e-10],\n",
       "       [9.99947190e-01, 1.47468585e-04],\n",
       "       [9.99999762e-01, 1.40983116e-06],\n",
       "       [1.00000000e+00, 4.05676737e-08],\n",
       "       [1.00000000e+00, 1.49207704e-08],\n",
       "       [9.98216093e-01, 1.00001553e-02],\n",
       "       [1.00000000e+00, 6.65567044e-16],\n",
       "       [9.99999166e-01, 2.78848438e-06],\n",
       "       [1.00000000e+00, 5.23409049e-08],\n",
       "       [9.99999046e-01, 3.85369731e-06],\n",
       "       [9.64810669e-01, 5.94094172e-02],\n",
       "       [9.99982715e-01, 6.61899830e-05],\n",
       "       [1.00000000e+00, 2.55112886e-09],\n",
       "       [9.99999762e-01, 7.82538905e-07],\n",
       "       [1.00000000e+00, 6.02531998e-08],\n",
       "       [1.00000000e+00, 5.43842056e-08],\n",
       "       [9.99950409e-01, 1.19871693e-04],\n",
       "       [7.87064314e-01, 3.02717328e-01],\n",
       "       [9.99999881e-01, 4.08654330e-07],\n",
       "       [9.99998808e-01, 3.87824457e-06],\n",
       "       [9.99993086e-01, 2.13281837e-05],\n",
       "       [1.00000000e+00, 3.20363341e-07],\n",
       "       [1.00000000e+00, 1.80354334e-07],\n",
       "       [1.00000000e+00, 1.13116246e-10],\n",
       "       [4.08904344e-01, 7.31099963e-01],\n",
       "       [9.99962926e-01, 8.33567392e-05],\n",
       "       [3.42718422e-01, 6.95277810e-01],\n",
       "       [8.09047488e-04, 9.99568760e-01],\n",
       "       [9.12645180e-03, 9.92107093e-01],\n",
       "       [3.08151892e-03, 9.97708321e-01],\n",
       "       [2.07653129e-03, 9.98445570e-01],\n",
       "       [9.69609559e-01, 3.58348042e-02],\n",
       "       [9.99426007e-01, 1.61387632e-03],\n",
       "       [3.10462743e-01, 8.66664886e-01],\n",
       "       [9.99999881e-01, 5.33824448e-07],\n",
       "       [9.99739707e-01, 5.49433345e-04],\n",
       "       [1.00000000e+00, 1.11284358e-07],\n",
       "       [9.97343719e-01, 5.32251038e-03],\n",
       "       [1.00000000e+00, 8.45928231e-17],\n",
       "       [1.00000000e+00, 3.89419573e-12],\n",
       "       [7.62746026e-07, 9.99999642e-01],\n",
       "       [9.98542190e-01, 5.36687346e-03],\n",
       "       [9.99999642e-01, 2.11906149e-06],\n",
       "       [1.00000000e+00, 1.32556337e-07],\n",
       "       [9.99999404e-01, 1.75335992e-06],\n",
       "       [1.00000000e+00, 2.30520034e-10],\n",
       "       [1.00000000e+00, 5.35387290e-11],\n",
       "       [9.99999523e-01, 1.28099759e-06],\n",
       "       [9.99983430e-01, 4.96722168e-05],\n",
       "       [1.00000000e+00, 1.43744217e-08],\n",
       "       [9.99997497e-01, 1.04533028e-05],\n",
       "       [8.40071321e-01, 2.20535859e-01],\n",
       "       [9.99996305e-01, 1.52090588e-05],\n",
       "       [1.00000000e+00, 1.16133811e-10],\n",
       "       [9.99667764e-01, 8.51034187e-04],\n",
       "       [9.99999881e-01, 4.83598001e-07],\n",
       "       [1.00000000e+00, 1.81434014e-08],\n",
       "       [9.99998808e-01, 4.10639586e-06],\n",
       "       [9.55667317e-01, 7.25800693e-02],\n",
       "       [6.97662039e-10, 1.00000000e+00],\n",
       "       [8.09010180e-06, 9.99997258e-01],\n",
       "       [9.75751391e-08, 1.00000000e+00],\n",
       "       [9.99941945e-01, 2.30415753e-04],\n",
       "       [9.99993563e-01, 2.03241449e-04],\n",
       "       [9.92022514e-01, 2.29859531e-01],\n",
       "       [9.99972343e-01, 1.11523364e-03],\n",
       "       [4.71389323e-01, 9.54736412e-01],\n",
       "       [1.00000000e+00, 1.16420917e-08],\n",
       "       [9.99999881e-01, 4.13225280e-06],\n",
       "       [1.00000000e+00, 4.62875249e-07],\n",
       "       [1.00000000e+00, 1.40753844e-08],\n",
       "       [1.00000000e+00, 6.79956003e-09],\n",
       "       [1.00000000e+00, 2.23567355e-07],\n",
       "       [9.98429477e-01, 1.48980208e-02],\n",
       "       [9.99932170e-01, 8.66396527e-04],\n",
       "       [9.99986768e-01, 2.51094112e-04],\n",
       "       [9.21717286e-01, 3.42876732e-01],\n",
       "       [9.99999166e-01, 1.10636165e-05],\n",
       "       [9.99997020e-01, 3.43589709e-05],\n",
       "       [9.99998212e-01, 2.09601585e-05],\n",
       "       [9.99999404e-01, 7.17260173e-06],\n",
       "       [9.92952406e-01, 8.80937725e-02],\n",
       "       [9.97962594e-01, 1.88645627e-02],\n",
       "       [9.99999523e-01, 1.04569117e-05],\n",
       "       [1.00000000e+00, 4.65936068e-07],\n",
       "       [1.00000000e+00, 2.12623661e-07],\n",
       "       [1.00000000e+00, 1.53770909e-12],\n",
       "       [1.00000000e+00, 2.90418606e-10],\n",
       "       [1.00000000e+00, 6.69326677e-11],\n",
       "       [9.99998569e-01, 1.07667265e-05],\n",
       "       [9.97786522e-01, 1.03904977e-01],\n",
       "       [6.56801462e-02, 9.88914788e-01],\n",
       "       [9.99999762e-01, 3.53802261e-06],\n",
       "       [1.15516689e-02, 9.97342288e-01],\n",
       "       [7.37547994e-01, 6.39772952e-01],\n",
       "       [9.90429938e-01, 1.40846998e-03],\n",
       "       [9.99942303e-01, 5.78222216e-06],\n",
       "       [9.99482095e-01, 9.68547902e-05],\n",
       "       [9.99993801e-01, 7.18104332e-08],\n",
       "       [9.99434531e-01, 7.05066268e-05],\n",
       "       [9.98194158e-01, 1.14949151e-04],\n",
       "       [9.99973893e-01, 2.77448135e-06],\n",
       "       [1.00000000e+00, 1.90315454e-11],\n",
       "       [9.99877095e-01, 2.48747801e-05],\n",
       "       [9.99997497e-01, 3.00059924e-07],\n",
       "       [9.99998569e-01, 1.59262811e-07],\n",
       "       [9.99991059e-01, 8.12866290e-07],\n",
       "       [9.99992251e-01, 6.50161610e-07],\n",
       "       [9.99999881e-01, 4.94064212e-09],\n",
       "       [9.99999404e-01, 9.65885789e-08],\n",
       "       [9.99917030e-01, 1.14041568e-05],\n",
       "       [9.99465048e-01, 1.17229254e-04],\n",
       "       [1.56587013e-03, 9.98640716e-01],\n",
       "       [9.96428549e-01, 1.44105882e-03],\n",
       "       [1.00000000e+00, 6.09304884e-10],\n",
       "       [9.99940157e-01, 9.36550077e-06],\n",
       "       [9.99563634e-01, 1.03588543e-04],\n",
       "       [9.99984622e-01, 1.71938143e-06],\n",
       "       [9.99939442e-01, 1.63403565e-05],\n",
       "       [9.99999166e-01, 2.31064632e-07],\n",
       "       [9.99977231e-01, 3.88228955e-06],\n",
       "       [9.99998450e-01, 4.09826754e-07],\n",
       "       [9.87826765e-01, 4.38700401e-04],\n",
       "       [9.99853134e-01, 1.58404036e-05],\n",
       "       [9.88578796e-01, 1.00955518e-03],\n",
       "       [5.65815903e-03, 9.76514578e-01],\n",
       "       [2.03837478e-03, 9.96136367e-01],\n",
       "       [9.98586774e-01, 5.93955883e-06],\n",
       "       [9.99864340e-01, 9.35505113e-07],\n",
       "       [2.00050394e-03, 9.97340024e-01],\n",
       "       [9.84403133e-01, 3.93292321e-05],\n",
       "       [8.37253690e-01, 2.39567459e-02],\n",
       "       [9.99999881e-01, 3.42772283e-10],\n",
       "       [9.92069840e-01, 5.72460849e-05],\n",
       "       [9.99999762e-01, 2.19701812e-09],\n",
       "       [1.16916711e-03, 9.97180343e-01],\n",
       "       [9.99999404e-01, 1.61563082e-10],\n",
       "       [9.99999046e-01, 1.29125297e-08],\n",
       "       [1.00000000e+00, 8.77010290e-15],\n",
       "       [1.00000000e+00, 1.82790672e-13],\n",
       "       [1.00000000e+00, 1.98724701e-19],\n",
       "       [9.98192608e-01, 4.70878040e-05],\n",
       "       [1.00000000e+00, 6.04728966e-15],\n",
       "       [6.24272287e-01, 1.06986493e-01],\n",
       "       [9.99998689e-01, 2.90618978e-08],\n",
       "       [9.99828458e-01, 1.19953402e-05],\n",
       "       [9.99986649e-01, 4.43023509e-07],\n",
       "       [9.99727428e-01, 1.54517456e-05],\n",
       "       [1.00000000e+00, 2.64236077e-10],\n",
       "       [9.99944448e-01, 5.68796531e-06],\n",
       "       [1.00000000e+00, 1.98323372e-11],\n",
       "       [1.00000000e+00, 1.15776194e-10],\n",
       "       [9.99934912e-01, 4.05901574e-06],\n",
       "       [9.99996901e-01, 6.26897574e-08],\n",
       "       [1.47014394e-01, 5.03853619e-01],\n",
       "       [4.86133844e-01, 1.09745674e-01],\n",
       "       [2.82280356e-01, 1.17569789e-01],\n",
       "       [1.00000000e+00, 1.71054392e-12],\n",
       "       [6.00456493e-04, 9.92298901e-01],\n",
       "       [9.99998927e-01, 1.77920519e-05],\n",
       "       [9.90855098e-01, 2.30981410e-01],\n",
       "       [9.42731738e-01, 3.58850241e-01],\n",
       "       [1.00000000e+00, 1.78950287e-07],\n",
       "       [1.00000000e+00, 2.93632861e-11],\n",
       "       [1.00000000e+00, 1.87911322e-08],\n",
       "       [1.00000000e+00, 1.01434381e-08],\n",
       "       [9.99989748e-01, 1.08407570e-04],\n",
       "       [1.00000000e+00, 4.86860829e-10],\n",
       "       [1.00000000e+00, 1.00226910e-10],\n",
       "       [9.99999642e-01, 7.29027943e-06],\n",
       "       [9.99939203e-01, 3.09286959e-04],\n",
       "       [9.99998689e-01, 1.07824899e-05],\n",
       "       [1.00000000e+00, 4.76229474e-08],\n",
       "       [1.00000000e+00, 3.36577735e-08],\n",
       "       [9.98982131e-01, 1.39470967e-02],\n",
       "       [3.17967832e-02, 9.93629992e-01],\n",
       "       [9.99987602e-01, 2.53528589e-04],\n",
       "       [9.99994397e-01, 2.76508828e-04],\n",
       "       [9.99998808e-01, 1.89182556e-05],\n",
       "       [9.99310970e-01, 5.61156869e-03],\n",
       "       [1.00000000e+00, 1.50298529e-08],\n",
       "       [9.99988198e-01, 1.94788066e-04],\n",
       "       [9.99994636e-01, 6.99859957e-05],\n",
       "       [9.99932289e-01, 2.22057613e-04],\n",
       "       [9.99982953e-01, 3.29630944e-04],\n",
       "       [9.99961734e-01, 2.03432210e-04],\n",
       "       [2.55886525e-01, 9.60602343e-01],\n",
       "       [1.58171155e-04, 9.99933124e-01],\n",
       "       [9.80364680e-01, 5.08414149e-01],\n",
       "       [2.77954414e-02, 9.93648112e-01]], dtype=float32)"
      ]
     },
     "execution_count": 31,
     "metadata": {},
     "output_type": "execute_result"
    }
   ],
   "source": [
    "y_predict_concatenate_array = np.array(y_predict_concatenate_list)\n",
    "y_predict_concatenate_array"
   ]
  },
  {
   "cell_type": "code",
   "execution_count": 32,
   "metadata": {},
   "outputs": [
    {
     "data": {
      "text/plain": [
       "(223, 2)"
      ]
     },
     "execution_count": 32,
     "metadata": {},
     "output_type": "execute_result"
    }
   ],
   "source": [
    "y_predict_concatenate_array.shape"
   ]
  },
  {
   "cell_type": "code",
   "execution_count": 33,
   "metadata": {},
   "outputs": [],
   "source": [
    "y_predict_1D = y_predict_concatenate_array[:,0]"
   ]
  },
  {
   "cell_type": "code",
   "execution_count": 34,
   "metadata": {},
   "outputs": [],
   "source": [
    "y_predict_1D_processed = 1- y_predict_1D"
   ]
  },
  {
   "cell_type": "code",
   "execution_count": 35,
   "metadata": {},
   "outputs": [],
   "source": [
    "fpr , tpr , thresholds = roc_curve(y_test_concatenate_list , y_predict_1D_processed)\n",
    "auc_rf = auc(fpr, tpr)"
   ]
  },
  {
   "cell_type": "code",
   "execution_count": 36,
   "metadata": {},
   "outputs": [
    {
     "data": {
      "text/plain": [
       "0.8814970432617492"
      ]
     },
     "execution_count": 36,
     "metadata": {},
     "output_type": "execute_result"
    }
   ],
   "source": [
    "auc_rf"
   ]
  },
  {
   "cell_type": "code",
   "execution_count": 37,
   "metadata": {},
   "outputs": [],
   "source": [
    "x = y = np.arange(0, 1.1, 0.1)"
   ]
  },
  {
   "cell_type": "code",
   "execution_count": 38,
   "metadata": {},
   "outputs": [
    {
     "data": {
      "text/plain": [
       "array([0. , 0.1, 0.2, 0.3, 0.4, 0.5, 0.6, 0.7, 0.8, 0.9, 1. ])"
      ]
     },
     "execution_count": 38,
     "metadata": {},
     "output_type": "execute_result"
    }
   ],
   "source": [
    "x"
   ]
  },
  {
   "cell_type": "code",
   "execution_count": 39,
   "metadata": {
    "scrolled": true
   },
   "outputs": [
    {
     "data": {
      "image/png": "[encoded data removed]",
      "text/plain": [
       "<Figure size 432x288 with 1 Axes>"
      ]
     },
     "metadata": {},
     "output_type": "display_data"
    }
   ],
   "source": [
    "fig = plt.figure()\n",
    "plt.style.use('classic')\n",
    "\n",
    "ax = fig.add_subplot(111)\n",
    "\n",
    "plt.plot(fpr, tpr, color='blue', linewidth=0.9)\n",
    "\n",
    "plt.plot(x, y, '--', color='black', linewidth=0.8)\n",
    "\n",
    "plt.title('ROC curve of Chr X p22 CNV', fontsize=15, fontname = 'Times New Roman')\n",
    "\n",
    "plt.xlabel('False Positive Rate', fontsize=15, fontname = 'Times New Roman')\n",
    "plt.ylabel('True positive Rate', fontsize=15, fontname = 'Times New Roman')\n",
    "\n",
    "ax.set_aspect('equal', adjustable='box')\n",
    "\n",
    "plt.xlim(-0.08, 1.1)\n",
    "plt.ylim(-0.08, 1.1)\n",
    "\n",
    "plt.xticks(fontsize=15, fontname = 'Arial')\n",
    "plt.yticks(fontsize=15, fontname = 'Arial')\n",
    "\n",
    "plt.savefig('ROC_Curve_Combination.png', dpi=700)\n",
    "plt.show()"
   ]
  },
  {
   "cell_type": "markdown",
   "metadata": {},
   "source": [
    "#### 3.10.4.1 AUC Value"
   ]
  },
  {
   "cell_type": "code",
   "execution_count": 40,
   "metadata": {},
   "outputs": [],
   "source": [
    "auc_value = auc(fpr, tpr)"
   ]
  },
  {
   "cell_type": "code",
   "execution_count": 41,
   "metadata": {},
   "outputs": [
    {
     "name": "stdout",
     "output_type": "stream",
     "text": [
      "AUC is  0.8814970432617492\n"
     ]
    }
   ],
   "source": [
    "print('AUC is ', auc_value)"
   ]
  },
  {
   "cell_type": "markdown",
   "metadata": {},
   "source": [
    "# Results"
   ]
  },
  {
   "cell_type": "code",
   "execution_count": 42,
   "metadata": {},
   "outputs": [
    {
     "name": "stdout",
     "output_type": "stream",
     "text": [
      "Test Accuracy: 0.888\n"
     ]
    }
   ],
   "source": [
    "print('Test Accuracy: %.3f' % acc)"
   ]
  },
  {
   "cell_type": "code",
   "execution_count": 43,
   "metadata": {
    "scrolled": true
   },
   "outputs": [
    {
     "name": "stdout",
     "output_type": "stream",
     "text": [
      "               precision    recall  f1-score   support\n",
      "\n",
      "        chr_x       0.92      0.95      0.94       189\n",
      "chr_x_p22_cnv       0.67      0.53      0.59        34\n",
      "\n",
      "    micro avg       0.89      0.89      0.89       223\n",
      "    macro avg       0.79      0.74      0.76       223\n",
      " weighted avg       0.88      0.89      0.88       223\n",
      "\n"
     ]
    }
   ],
   "source": [
    "print(performanceReport)"
   ]
  },
  {
   "cell_type": "code",
   "execution_count": 44,
   "metadata": {},
   "outputs": [
    {
     "data": {
      "text/plain": [
       "str"
      ]
     },
     "execution_count": 44,
     "metadata": {},
     "output_type": "execute_result"
    }
   ],
   "source": [
    "type(performanceReport)"
   ]
  },
  {
   "cell_type": "code",
   "execution_count": 45,
   "metadata": {},
   "outputs": [
    {
     "name": "stdout",
     "output_type": "stream",
     "text": [
      "AUC is  0.8814970432617492\n"
     ]
    }
   ],
   "source": [
    "print('AUC is ', auc_value)"
   ]
  },
  {
   "cell_type": "markdown",
   "metadata": {},
   "source": [
    "## Export to a text file"
   ]
  },
  {
   "cell_type": "code",
   "execution_count": 46,
   "metadata": {},
   "outputs": [],
   "source": [
    "file_report = open('ResultsCombination.txt', 'w')\n",
    "file_report.write('Accuracy: %s\\n\\n' % acc)\n",
    "file_report.write('AUC: %s.\\n\\n' % auc_value)\n",
    "file_report.write('Performance Report: \\n%s\\n\\n' % performanceReport)\n",
    "file_report.write('Confusion Matrix: \\n%s.\\n\\n' % confusion)\n",
    "file_report.write('Recall of Confusion Matrix: \\n%s.\\n\\n' % confusion_r)\n",
    "file_report.write('Precision of Confusion Matrix: \\n%s.\\n\\n' % confusion_p)\n",
    "file_report.close()"
   ]
  },
  {
   "cell_type": "markdown",
   "metadata": {},
   "source": [
    "## Export ROC Parameters"
   ]
  },
  {
   "cell_type": "code",
   "execution_count": 47,
   "metadata": {},
   "outputs": [],
   "source": [
    "with open('tpr_' + label_convert[1] + '.npy', 'wb') as file_tpr:\n",
    "    np.save(file_tpr, np.array(tpr))\n",
    "    \n",
    "with open('fpr_' + label_convert[1] + '.npy', 'wb') as file_fpr:\n",
    "    np.save(file_fpr, np.array(fpr))\n",
    "    \n",
    "with open('thresholds_' + label_convert[1] + '.npy', 'wb') as file_thresholds:\n",
    "    np.save(file_thresholds, np.array(thresholds))"
   ]
  },
  {
   "cell_type": "code",
   "execution_count": null,
   "metadata": {},
   "outputs": [],
   "source": []
  }
 ],
 "metadata": {
  "kernelspec": {
   "display_name": "Python 3",
   "language": "python",
   "name": "python3"
  },
  "language_info": {
   "codemirror_mode": {
    "name": "ipython",
    "version": 3
   },
   "file_extension": ".py",
   "mimetype": "text/x-python",
   "name": "python",
   "nbconvert_exporter": "python",
   "pygments_lexer": "ipython3",
   "version": "3.7.3"
  }
 },
 "nbformat": 4,
 "nbformat_minor": 2
}
