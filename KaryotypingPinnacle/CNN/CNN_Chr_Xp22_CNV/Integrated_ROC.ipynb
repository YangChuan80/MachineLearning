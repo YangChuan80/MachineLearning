{
 "cells": [
  {
   "cell_type": "code",
   "execution_count": 1,
   "metadata": {},
   "outputs": [
    {
     "name": "stderr",
     "output_type": "stream",
     "text": [
      "C:\\Anaconda3\\lib\\site-packages\\pandas\\compat\\_optional.py:138: UserWarning: Pandas requires version '2.7.0' or newer of 'numexpr' (version '2.6.9' currently installed).\n",
      "  warnings.warn(msg, UserWarning)\n"
     ]
    }
   ],
   "source": [
    "import numpy as np\n",
    "import pandas as pd\n",
    "import matplotlib.pyplot as plt\n",
    "\n",
    "from sklearn.metrics import classification_report, confusion_matrix, roc_curve, auc, accuracy_score\n",
    "\n",
    "import seaborn as sb"
   ]
  },
  {
   "cell_type": "code",
   "execution_count": 2,
   "metadata": {},
   "outputs": [],
   "source": [
    "chromConvert = {\n",
    "               'chr_x': 0, \n",
    "               'chr_x_p22_cnv': 1\n",
    "               }"
   ]
  },
  {
   "cell_type": "code",
   "execution_count": 3,
   "metadata": {},
   "outputs": [],
   "source": [
    "chromConvert_reverse = {\n",
    "                0: 'chr_x', \n",
    "                1: 'chr_x_p22_cnv', \n",
    "               }"
   ]
  },
  {
   "cell_type": "code",
   "execution_count": 4,
   "metadata": {},
   "outputs": [],
   "source": [
    "label = ['chr_x', 'chr_x_p22_cnv']\n",
    "\n",
    "label_convert = []\n",
    "\n",
    "for i in range(2):\n",
    "    label_convert.append(chromConvert_reverse[i])"
   ]
  },
  {
   "cell_type": "markdown",
   "metadata": {},
   "source": [
    "# Load test and predict values"
   ]
  },
  {
   "cell_type": "code",
   "execution_count": 5,
   "metadata": {},
   "outputs": [],
   "source": [
    "y_test_all = []\n",
    "y_predict_all = []\n",
    "y_predict_filtered_all = []"
   ]
  },
  {
   "cell_type": "code",
   "execution_count": 6,
   "metadata": {},
   "outputs": [],
   "source": [
    "for iterationNumber in range(5):\n",
    "    with open('data_y_test_value_iteration_' + str(iterationNumber) + '.npy', 'rb') as f_y_test:\n",
    "        y_test_all.append(np.load(f_y_test))\n",
    "        \n",
    "    with open('data_y_predict_value_iteration_' + str(iterationNumber) + '.npy', 'rb') as f_y_predict:\n",
    "        y_predict_all.append(np.load(f_y_predict))                             \n",
    "                        \n",
    "    with open('data_y_predict_filtered_value_iteration_' + str(iterationNumber) + '.npy', 'rb') as f_y_predict_filtered:\n",
    "        y_predict_filtered_all.append(np.load(f_y_predict_filtered))"
   ]
  },
  {
   "cell_type": "code",
   "execution_count": 7,
   "metadata": {},
   "outputs": [
    {
     "data": {
      "text/plain": [
       "(45, 2)"
      ]
     },
     "execution_count": 7,
     "metadata": {},
     "output_type": "execute_result"
    }
   ],
   "source": [
    "y_predict_all[0].shape"
   ]
  },
  {
   "cell_type": "code",
   "execution_count": 8,
   "metadata": {
    "scrolled": true
   },
   "outputs": [
    {
     "data": {
      "text/plain": [
       "[array([[9.9999976e-01, 6.4639785e-08],\n",
       "        [9.9999964e-01, 3.6894519e-07],\n",
       "        [1.0000000e+00, 1.3321814e-11],\n",
       "        [9.9984157e-01, 3.0722171e-05],\n",
       "        [9.9999774e-01, 2.2962893e-06],\n",
       "        [9.9996960e-01, 9.6981594e-06],\n",
       "        [9.9896479e-01, 5.8810494e-04],\n",
       "        [1.0000000e+00, 5.8706467e-10],\n",
       "        [9.9992132e-01, 6.3768297e-05],\n",
       "        [1.0000000e+00, 4.6556226e-09],\n",
       "        [9.9999964e-01, 3.3405058e-07],\n",
       "        [1.0000000e+00, 9.3627389e-12],\n",
       "        [1.0000000e+00, 1.0136841e-12],\n",
       "        [1.0000000e+00, 1.1792942e-09],\n",
       "        [1.0000000e+00, 1.5636845e-14],\n",
       "        [1.0000000e+00, 5.3069577e-13],\n",
       "        [7.8310215e-01, 1.1129197e-01],\n",
       "        [9.9998748e-01, 1.1060514e-05],\n",
       "        [9.5965004e-01, 9.7368537e-03],\n",
       "        [9.4659281e-01, 2.2429027e-02],\n",
       "        [9.9999964e-01, 5.9122237e-07],\n",
       "        [9.9999964e-01, 2.9677207e-07],\n",
       "        [1.0000000e+00, 1.9474602e-09],\n",
       "        [9.9999821e-01, 2.3158445e-06],\n",
       "        [1.0000000e+00, 2.0300732e-09],\n",
       "        [1.0000000e+00, 2.8544505e-08],\n",
       "        [9.9948138e-01, 4.1195721e-04],\n",
       "        [9.9997520e-01, 1.9174815e-05],\n",
       "        [1.0000000e+00, 8.1666768e-10],\n",
       "        [1.0000000e+00, 3.8671313e-10],\n",
       "        [9.9999833e-01, 1.9857500e-06],\n",
       "        [9.9992537e-01, 8.5553962e-05],\n",
       "        [9.9690968e-01, 1.2864807e-03],\n",
       "        [9.9999070e-01, 1.2004427e-05],\n",
       "        [9.9999988e-01, 1.7815762e-07],\n",
       "        [8.4651476e-01, 5.9571709e-02],\n",
       "        [9.9999690e-01, 2.6025941e-06],\n",
       "        [9.9644560e-01, 2.1101274e-03],\n",
       "        [9.9075231e-05, 9.9743074e-01],\n",
       "        [3.7766706e-02, 4.3505713e-01],\n",
       "        [4.1455630e-02, 7.6908916e-01],\n",
       "        [7.5979573e-01, 6.0264029e-02],\n",
       "        [9.0857630e-04, 9.9438840e-01],\n",
       "        [2.6913375e-01, 2.8132635e-01],\n",
       "        [9.9999630e-01, 4.8439242e-06]], dtype=float32),\n",
       " array([[9.9999928e-01, 4.7479199e-07],\n",
       "        [5.7274248e-03, 9.8762518e-01],\n",
       "        [9.8835099e-01, 6.3149119e-03],\n",
       "        [1.0000000e+00, 1.5881041e-09],\n",
       "        [7.8007495e-01, 4.0041447e-02],\n",
       "        [9.9873465e-01, 6.5986230e-04],\n",
       "        [9.9830639e-01, 9.9467312e-04],\n",
       "        [9.9589157e-01, 6.1044348e-03],\n",
       "        [1.0000000e+00, 9.6657959e-10],\n",
       "        [9.9966717e-01, 1.4479995e-04],\n",
       "        [9.9773151e-01, 5.5293593e-04],\n",
       "        [1.0000000e+00, 6.7950311e-14],\n",
       "        [9.9999392e-01, 4.0291452e-06],\n",
       "        [1.0000000e+00, 7.2745182e-10],\n",
       "        [9.9804050e-01, 8.0294855e-04],\n",
       "        [8.5448909e-01, 1.1116077e-01],\n",
       "        [1.0000000e+00, 9.8434637e-12],\n",
       "        [9.9999928e-01, 5.8982459e-07],\n",
       "        [9.9999762e-01, 2.3043226e-06],\n",
       "        [1.0000000e+00, 1.7483552e-08],\n",
       "        [1.0000000e+00, 3.9294366e-11],\n",
       "        [1.0000000e+00, 2.1859424e-08],\n",
       "        [9.9999726e-01, 1.7297344e-06],\n",
       "        [1.0000000e+00, 5.3426222e-11],\n",
       "        [9.9999988e-01, 1.3664510e-07],\n",
       "        [1.0000000e+00, 1.4633097e-08],\n",
       "        [1.0000000e+00, 5.4725816e-12],\n",
       "        [1.0000000e+00, 3.9844004e-08],\n",
       "        [1.0000000e+00, 6.1182796e-08],\n",
       "        [9.9818593e-01, 1.7947706e-03],\n",
       "        [9.9999523e-01, 5.2554356e-06],\n",
       "        [1.0000000e+00, 2.3014858e-08],\n",
       "        [9.9999869e-01, 1.2135821e-06],\n",
       "        [1.0000000e+00, 8.5401286e-10],\n",
       "        [9.9999797e-01, 1.8842026e-06],\n",
       "        [9.9999952e-01, 5.5501920e-07],\n",
       "        [9.8917997e-01, 8.5333129e-03],\n",
       "        [1.0000000e+00, 2.5510428e-08],\n",
       "        [4.3542323e-01, 5.3760326e-01],\n",
       "        [1.3037759e-11, 1.0000000e+00],\n",
       "        [2.6023513e-01, 2.5124609e-01],\n",
       "        [2.5130106e-02, 8.9601690e-01],\n",
       "        [7.6547323e-05, 9.9983454e-01],\n",
       "        [1.0599328e-02, 9.7917354e-01],\n",
       "        [6.5841028e-05, 9.9985826e-01]], dtype=float32),\n",
       " array([[9.99843121e-01, 1.69166684e-04],\n",
       "        [9.99331594e-01, 6.26161695e-04],\n",
       "        [9.99989390e-01, 1.14542945e-05],\n",
       "        [4.21150867e-03, 9.79243577e-01],\n",
       "        [9.99999642e-01, 4.90840421e-07],\n",
       "        [1.00000000e+00, 6.52017248e-15],\n",
       "        [1.00000000e+00, 3.29347039e-08],\n",
       "        [1.00000000e+00, 1.16962823e-07],\n",
       "        [9.99978781e-01, 5.95755555e-05],\n",
       "        [9.99999881e-01, 2.62171852e-07],\n",
       "        [9.98739898e-01, 1.08092465e-03],\n",
       "        [1.00000000e+00, 1.37691671e-08],\n",
       "        [1.00000000e+00, 5.24582067e-09],\n",
       "        [9.95599031e-01, 6.16878457e-03],\n",
       "        [9.99113262e-01, 7.69389735e-04],\n",
       "        [9.99998808e-01, 5.62665991e-06],\n",
       "        [9.99991298e-01, 2.43158884e-05],\n",
       "        [9.99999046e-01, 3.45816488e-06],\n",
       "        [9.98149991e-01, 2.28968053e-03],\n",
       "        [9.99999762e-01, 4.11583358e-07],\n",
       "        [9.99999404e-01, 3.33554112e-06],\n",
       "        [9.99082327e-01, 2.01954716e-03],\n",
       "        [9.99998569e-01, 6.76574018e-06],\n",
       "        [9.98681724e-01, 1.31150801e-03],\n",
       "        [9.41503167e-01, 3.19850296e-02],\n",
       "        [9.99998450e-01, 7.51022799e-06],\n",
       "        [1.00000000e+00, 1.11056520e-09],\n",
       "        [6.53499186e-01, 2.32523814e-01],\n",
       "        [9.99995351e-01, 9.88234660e-06],\n",
       "        [1.00000000e+00, 1.07505578e-07],\n",
       "        [1.00000000e+00, 7.18710758e-10],\n",
       "        [1.00000000e+00, 7.44257633e-08],\n",
       "        [1.00000000e+00, 3.01028785e-11],\n",
       "        [1.00000000e+00, 3.33289059e-08],\n",
       "        [9.99539971e-01, 1.00284291e-03],\n",
       "        [1.00000000e+00, 1.59902480e-09],\n",
       "        [9.98403847e-01, 3.07356636e-03],\n",
       "        [9.99971867e-01, 8.85878180e-05],\n",
       "        [3.55359107e-01, 5.13019204e-01],\n",
       "        [9.97196548e-05, 9.98829305e-01],\n",
       "        [9.88613129e-01, 6.12944737e-03],\n",
       "        [9.98666510e-04, 9.95857418e-01],\n",
       "        [9.99997377e-01, 3.19122728e-06],\n",
       "        [3.13073769e-03, 9.87706244e-01],\n",
       "        [9.99963880e-01, 1.08118300e-04]], dtype=float32),\n",
       " array([[1.00000000e+00, 9.54991108e-09],\n",
       "        [9.99995947e-01, 7.02958860e-05],\n",
       "        [9.99935389e-01, 2.37495973e-04],\n",
       "        [9.99999762e-01, 1.30588307e-06],\n",
       "        [9.99998927e-01, 1.85962097e-06],\n",
       "        [1.00000000e+00, 5.65434050e-07],\n",
       "        [9.99999523e-01, 1.71023805e-06],\n",
       "        [1.00000000e+00, 2.93229817e-07],\n",
       "        [9.96310055e-01, 3.60127841e-03],\n",
       "        [9.92761433e-01, 7.53383059e-03],\n",
       "        [9.99999881e-01, 5.30331874e-07],\n",
       "        [5.50910644e-02, 9.82283771e-01],\n",
       "        [9.99999762e-01, 4.03111699e-06],\n",
       "        [1.00000000e+00, 4.22707602e-09],\n",
       "        [1.00000000e+00, 9.68697345e-12],\n",
       "        [9.96421456e-01, 1.06972242e-02],\n",
       "        [1.00000000e+00, 8.61836991e-12],\n",
       "        [9.34162438e-01, 9.96774584e-02],\n",
       "        [9.99539137e-01, 6.68481574e-04],\n",
       "        [1.00000000e+00, 2.31642403e-08],\n",
       "        [1.00000000e+00, 1.23328781e-09],\n",
       "        [9.99999523e-01, 2.60688671e-06],\n",
       "        [1.00000000e+00, 1.32918004e-07],\n",
       "        [9.99999881e-01, 3.94697906e-07],\n",
       "        [9.99981165e-01, 5.81354943e-05],\n",
       "        [9.99995947e-01, 1.02612139e-05],\n",
       "        [1.00000000e+00, 1.37295419e-08],\n",
       "        [1.34712993e-03, 9.96585608e-01],\n",
       "        [7.31416702e-01, 5.42162895e-01],\n",
       "        [9.99999642e-01, 2.11782503e-06],\n",
       "        [1.00000000e+00, 2.14266915e-08],\n",
       "        [1.00000000e+00, 2.13874007e-09],\n",
       "        [9.99997497e-01, 1.08476215e-05],\n",
       "        [9.99842286e-01, 3.77277203e-04],\n",
       "        [9.99990344e-01, 3.17418926e-05],\n",
       "        [9.99998093e-01, 6.39872133e-06],\n",
       "        [9.99999523e-01, 1.25837926e-06],\n",
       "        [9.99989629e-01, 3.71367023e-05],\n",
       "        [3.84155108e-04, 9.99369442e-01],\n",
       "        [9.50259328e-01, 1.12201072e-01],\n",
       "        [9.99992967e-01, 1.52236707e-05],\n",
       "        [8.58268904e-05, 9.99921918e-01],\n",
       "        [9.98526573e-01, 9.63357929e-03],\n",
       "        [6.67880329e-08, 9.99999881e-01],\n",
       "        [4.57939284e-04, 9.98797774e-01]], dtype=float32),\n",
       " array([[9.8055631e-01, 9.0175094e-03],\n",
       "        [1.0000000e+00, 4.2603096e-13],\n",
       "        [5.0539410e-01, 2.9627806e-01],\n",
       "        [9.9999762e-01, 1.3578323e-06],\n",
       "        [9.9482995e-01, 2.1758594e-03],\n",
       "        [8.7386078e-01, 6.6486791e-02],\n",
       "        [3.4530032e-03, 9.9630225e-01],\n",
       "        [9.8680079e-01, 9.7715901e-03],\n",
       "        [1.0000000e+00, 5.3500949e-34],\n",
       "        [1.0000000e+00, 1.5550482e-28],\n",
       "        [1.0000000e+00, 0.0000000e+00],\n",
       "        [1.0000000e+00, 3.0701555e-20],\n",
       "        [1.0000000e+00, 7.3433277e-14],\n",
       "        [1.0000000e+00, 5.6218324e-23],\n",
       "        [1.0000000e+00, 3.0818827e-17],\n",
       "        [1.0000000e+00, 3.6489343e-27],\n",
       "        [9.9471080e-01, 2.3251908e-02],\n",
       "        [1.0000000e+00, 7.7874229e-10],\n",
       "        [1.0000000e+00, 2.4517302e-10],\n",
       "        [1.0000000e+00, 5.4575990e-17],\n",
       "        [9.9840051e-01, 4.3868059e-03],\n",
       "        [1.0000000e+00, 6.5357613e-15],\n",
       "        [1.0000000e+00, 7.9789414e-10],\n",
       "        [1.0000000e+00, 5.5458925e-13],\n",
       "        [9.9999952e-01, 5.8915106e-07],\n",
       "        [8.2912129e-01, 1.4729673e-01],\n",
       "        [9.9999344e-01, 2.3859257e-06],\n",
       "        [9.5124263e-01, 2.9295852e-02],\n",
       "        [1.0000000e+00, 1.5836318e-11],\n",
       "        [1.0000000e+00, 8.1903915e-09],\n",
       "        [1.0000000e+00, 3.3644067e-14],\n",
       "        [9.1376811e-01, 3.4988888e-02],\n",
       "        [9.9999976e-01, 1.6031946e-07],\n",
       "        [1.0000000e+00, 8.0352582e-12],\n",
       "        [1.0000000e+00, 6.1607458e-10],\n",
       "        [1.0000000e+00, 4.3311090e-16],\n",
       "        [1.0000000e+00, 1.0590465e-08],\n",
       "        [4.6405908e-02, 9.2606676e-01],\n",
       "        [4.6886586e-02, 8.7882125e-01],\n",
       "        [3.8577247e-05, 9.9998987e-01],\n",
       "        [2.4290853e-03, 9.9811149e-01],\n",
       "        [9.9983823e-01, 2.1832323e-04],\n",
       "        [9.9998987e-01, 6.1548481e-06]], dtype=float32)]"
      ]
     },
     "execution_count": 8,
     "metadata": {},
     "output_type": "execute_result"
    }
   ],
   "source": [
    "y_predict_all"
   ]
  },
  {
   "cell_type": "code",
   "execution_count": 9,
   "metadata": {},
   "outputs": [],
   "source": [
    "y_test_concatenate_list = []\n",
    "y_predict_concatenate_list = []\n",
    "y_predict_filtered_concatenate_list = []"
   ]
  },
  {
   "cell_type": "code",
   "execution_count": 10,
   "metadata": {},
   "outputs": [],
   "source": [
    "for i in range(5):\n",
    "    y_test_concatenate_list.extend(list(y_test_all[i]))\n",
    "    y_predict_concatenate_list.extend(list(y_predict_all[i]))\n",
    "    y_predict_filtered_concatenate_list.extend(list(y_predict_filtered_all[i]))"
   ]
  },
  {
   "cell_type": "code",
   "execution_count": 11,
   "metadata": {},
   "outputs": [
    {
     "data": {
      "text/plain": [
       "(45, 2)"
      ]
     },
     "execution_count": 11,
     "metadata": {},
     "output_type": "execute_result"
    }
   ],
   "source": [
    "y_predict_all[0].shape"
   ]
  },
  {
   "cell_type": "code",
   "execution_count": 12,
   "metadata": {},
   "outputs": [
    {
     "data": {
      "text/plain": [
       "['chr_x', 'chr_x_p22_cnv']"
      ]
     },
     "execution_count": 12,
     "metadata": {},
     "output_type": "execute_result"
    }
   ],
   "source": [
    "label_convert"
   ]
  },
  {
   "cell_type": "code",
   "execution_count": 13,
   "metadata": {},
   "outputs": [
    {
     "data": {
      "text/plain": [
       "223"
      ]
     },
     "execution_count": 13,
     "metadata": {},
     "output_type": "execute_result"
    }
   ],
   "source": [
    "len(y_test_concatenate_list)"
   ]
  },
  {
   "cell_type": "code",
   "execution_count": 14,
   "metadata": {},
   "outputs": [
    {
     "data": {
      "text/plain": [
       "223"
      ]
     },
     "execution_count": 14,
     "metadata": {},
     "output_type": "execute_result"
    }
   ],
   "source": [
    "len(y_predict_filtered_concatenate_list)"
   ]
  },
  {
   "cell_type": "code",
   "execution_count": 15,
   "metadata": {},
   "outputs": [
    {
     "data": {
      "text/plain": [
       "223"
      ]
     },
     "execution_count": 15,
     "metadata": {},
     "output_type": "execute_result"
    }
   ],
   "source": [
    "len(y_predict_concatenate_list)"
   ]
  },
  {
   "cell_type": "markdown",
   "metadata": {},
   "source": [
    "# Classification Report"
   ]
  },
  {
   "cell_type": "markdown",
   "metadata": {},
   "source": [
    "## Accuracy"
   ]
  },
  {
   "cell_type": "code",
   "execution_count": 16,
   "metadata": {},
   "outputs": [
    {
     "name": "stdout",
     "output_type": "stream",
     "text": [
      "Accuracy is  0.9282511210762332\n"
     ]
    }
   ],
   "source": [
    "acc = accuracy_score(y_test_concatenate_list, y_predict_filtered_concatenate_list, normalize=True, sample_weight=None)\n",
    "print('Accuracy is ', acc)"
   ]
  },
  {
   "cell_type": "markdown",
   "metadata": {},
   "source": [
    "## Precision, Recall, and F1"
   ]
  },
  {
   "cell_type": "code",
   "execution_count": 17,
   "metadata": {},
   "outputs": [
    {
     "name": "stdout",
     "output_type": "stream",
     "text": [
      "               precision    recall  f1-score   support\n",
      "\n",
      "        chr_x       0.94      0.97      0.96       189\n",
      "chr_x_p22_cnv       0.82      0.68      0.74        34\n",
      "\n",
      "    micro avg       0.93      0.93      0.93       223\n",
      "    macro avg       0.88      0.83      0.85       223\n",
      " weighted avg       0.92      0.93      0.93       223\n",
      "\n"
     ]
    }
   ],
   "source": [
    "performanceReport = classification_report(y_test_concatenate_list, y_predict_filtered_concatenate_list, \n",
    "                                          target_names=label_convert)\n",
    "\n",
    "\n",
    "print(performanceReport)"
   ]
  },
  {
   "cell_type": "markdown",
   "metadata": {},
   "source": [
    "## Confusion Matrix"
   ]
  },
  {
   "cell_type": "code",
   "execution_count": 18,
   "metadata": {},
   "outputs": [
    {
     "data": {
      "text/html": [
       "<div>\n",
       "<style scoped>\n",
       "    .dataframe tbody tr th:only-of-type {\n",
       "        vertical-align: middle;\n",
       "    }\n",
       "\n",
       "    .dataframe tbody tr th {\n",
       "        vertical-align: top;\n",
       "    }\n",
       "\n",
       "    .dataframe thead th {\n",
       "        text-align: right;\n",
       "    }\n",
       "</style>\n",
       "<table border=\"1\" class=\"dataframe\">\n",
       "  <thead>\n",
       "    <tr style=\"text-align: right;\">\n",
       "      <th></th>\n",
       "      <th>chr_x</th>\n",
       "      <th>chr_x_p22_cnv</th>\n",
       "    </tr>\n",
       "  </thead>\n",
       "  <tbody>\n",
       "    <tr>\n",
       "      <th>chr_x</th>\n",
       "      <td>184</td>\n",
       "      <td>5</td>\n",
       "    </tr>\n",
       "    <tr>\n",
       "      <th>chr_x_p22_cnv</th>\n",
       "      <td>11</td>\n",
       "      <td>23</td>\n",
       "    </tr>\n",
       "  </tbody>\n",
       "</table>\n",
       "</div>"
      ],
      "text/plain": [
       "               chr_x  chr_x_p22_cnv\n",
       "chr_x            184              5\n",
       "chr_x_p22_cnv     11             23"
      ]
     },
     "execution_count": 18,
     "metadata": {},
     "output_type": "execute_result"
    }
   ],
   "source": [
    "cm = np.array(confusion_matrix(y_test_concatenate_list, y_predict_filtered_concatenate_list))\n",
    "confusion = pd.DataFrame(cm, index=label_convert,\n",
    "                        columns=label_convert)\n",
    "confusion.to_csv('ConfusionMatrix_Combination_of_CrossValidation_KaryoType_CNN.csv')\n",
    "confusion"
   ]
  },
  {
   "cell_type": "markdown",
   "metadata": {},
   "source": [
    "### 3.10.4 Rate of Confusion Matrix"
   ]
  },
  {
   "cell_type": "markdown",
   "metadata": {},
   "source": [
    "### 3.10.5 Recall (查全率)，(Sensitivity Rate)"
   ]
  },
  {
   "cell_type": "code",
   "execution_count": 19,
   "metadata": {
    "scrolled": true
   },
   "outputs": [],
   "source": [
    "subtotal = [0] * 2  \n",
    "for item in y_test_concatenate_list:\n",
    "    subtotal[item] = subtotal[item] + 1"
   ]
  },
  {
   "cell_type": "markdown",
   "metadata": {},
   "source": [
    "#### predict number divided by y test"
   ]
  },
  {
   "cell_type": "code",
   "execution_count": 20,
   "metadata": {},
   "outputs": [],
   "source": [
    "cm_r = []\n",
    "for i in range(2):\n",
    "    cm_r.append(cm[i]/subtotal[i])"
   ]
  },
  {
   "cell_type": "code",
   "execution_count": 21,
   "metadata": {},
   "outputs": [
    {
     "data": {
      "text/html": [
       "<div>\n",
       "<style scoped>\n",
       "    .dataframe tbody tr th:only-of-type {\n",
       "        vertical-align: middle;\n",
       "    }\n",
       "\n",
       "    .dataframe tbody tr th {\n",
       "        vertical-align: top;\n",
       "    }\n",
       "\n",
       "    .dataframe thead th {\n",
       "        text-align: right;\n",
       "    }\n",
       "</style>\n",
       "<table border=\"1\" class=\"dataframe\">\n",
       "  <thead>\n",
       "    <tr style=\"text-align: right;\">\n",
       "      <th></th>\n",
       "      <th>chr_x</th>\n",
       "      <th>chr_x_p22_cnv</th>\n",
       "    </tr>\n",
       "  </thead>\n",
       "  <tbody>\n",
       "    <tr>\n",
       "      <th>chr_x</th>\n",
       "      <td>0.973545</td>\n",
       "      <td>0.026455</td>\n",
       "    </tr>\n",
       "    <tr>\n",
       "      <th>chr_x_p22_cnv</th>\n",
       "      <td>0.323529</td>\n",
       "      <td>0.676471</td>\n",
       "    </tr>\n",
       "  </tbody>\n",
       "</table>\n",
       "</div>"
      ],
      "text/plain": [
       "                  chr_x  chr_x_p22_cnv\n",
       "chr_x          0.973545       0.026455\n",
       "chr_x_p22_cnv  0.323529       0.676471"
      ]
     },
     "execution_count": 21,
     "metadata": {},
     "output_type": "execute_result"
    }
   ],
   "source": [
    "confusion_r = pd.DataFrame(cm_r, index=label_convert,\n",
    "                        columns=label_convert)\n",
    "confusion_r.to_csv('ConfusionMatrix_Recall_Integration_CNN.csv')\n",
    "confusion_r"
   ]
  },
  {
   "cell_type": "markdown",
   "metadata": {},
   "source": [
    "### 3.10.6 Precision (查准率）"
   ]
  },
  {
   "cell_type": "code",
   "execution_count": 22,
   "metadata": {},
   "outputs": [],
   "source": [
    "subtotal_predict = [0] * 2 \n",
    "for item in y_predict_filtered_concatenate_list:\n",
    "    subtotal_predict[item] = subtotal_predict[item] + 1"
   ]
  },
  {
   "cell_type": "markdown",
   "metadata": {},
   "source": [
    "#### predict number divided by y predicted"
   ]
  },
  {
   "cell_type": "code",
   "execution_count": 23,
   "metadata": {},
   "outputs": [],
   "source": [
    "cm_p = []\n",
    "for i in range(2):\n",
    "    cm_p.append(cm[:,i]/subtotal_predict[i])"
   ]
  },
  {
   "cell_type": "code",
   "execution_count": 24,
   "metadata": {},
   "outputs": [
    {
     "data": {
      "text/html": [
       "<div>\n",
       "<style scoped>\n",
       "    .dataframe tbody tr th:only-of-type {\n",
       "        vertical-align: middle;\n",
       "    }\n",
       "\n",
       "    .dataframe tbody tr th {\n",
       "        vertical-align: top;\n",
       "    }\n",
       "\n",
       "    .dataframe thead th {\n",
       "        text-align: right;\n",
       "    }\n",
       "</style>\n",
       "<table border=\"1\" class=\"dataframe\">\n",
       "  <thead>\n",
       "    <tr style=\"text-align: right;\">\n",
       "      <th></th>\n",
       "      <th>chr_x</th>\n",
       "      <th>chr_x_p22_cnv</th>\n",
       "    </tr>\n",
       "  </thead>\n",
       "  <tbody>\n",
       "    <tr>\n",
       "      <th>chr_x</th>\n",
       "      <td>0.943590</td>\n",
       "      <td>0.056410</td>\n",
       "    </tr>\n",
       "    <tr>\n",
       "      <th>chr_x_p22_cnv</th>\n",
       "      <td>0.178571</td>\n",
       "      <td>0.821429</td>\n",
       "    </tr>\n",
       "  </tbody>\n",
       "</table>\n",
       "</div>"
      ],
      "text/plain": [
       "                  chr_x  chr_x_p22_cnv\n",
       "chr_x          0.943590       0.056410\n",
       "chr_x_p22_cnv  0.178571       0.821429"
      ]
     },
     "execution_count": 24,
     "metadata": {},
     "output_type": "execute_result"
    }
   ],
   "source": [
    "confusion_p = pd.DataFrame(cm_p, index=label_convert,\n",
    "                        columns=label_convert)\n",
    "confusion_p.to_csv('ConfusionMatrix_Precision_Integration_CNN.csv')\n",
    "confusion_p"
   ]
  },
  {
   "cell_type": "markdown",
   "metadata": {},
   "source": [
    "#### Heat Map: Number"
   ]
  },
  {
   "cell_type": "code",
   "execution_count": 25,
   "metadata": {
    "scrolled": false
   },
   "outputs": [
    {
     "data": {
      "image/png": "[encoded data removed]",
      "text/plain": [
       "<Figure size 2160x1728 with 2 Axes>"
      ]
     },
     "metadata": {
      "needs_background": "light"
     },
     "output_type": "display_data"
    }
   ],
   "source": [
    "plt.figure(figsize=(30, 24))\n",
    "heat_map = sb.heatmap(confusion, annot=True, fmt='g',  # It's a Seaborn function\n",
    "                      cmap='coolwarm', \n",
    "                      xticklabels=confusion.columns, yticklabels=confusion.index, \n",
    "                      linewidths=.5, \n",
    "                      annot_kws={\"size\": 50})\n",
    "sb.set(font_scale = 5)"
   ]
  },
  {
   "cell_type": "markdown",
   "metadata": {},
   "source": [
    "#### Heat Map of Recall: Rate (important!!!)"
   ]
  },
  {
   "cell_type": "code",
   "execution_count": 26,
   "metadata": {
    "scrolled": false
   },
   "outputs": [
    {
     "data": {
      "image/png": "[encoded data removed]",
      "text/plain": [
       "<Figure size 2160x1728 with 2 Axes>"
      ]
     },
     "metadata": {},
     "output_type": "display_data"
    }
   ],
   "source": [
    "plt.figure(figsize=(30, 24))\n",
    "heat_map_r = sb.heatmap(confusion_r, annot=True,  # It's a Seaborn function\n",
    "                      cmap='coolwarm', \n",
    "                      xticklabels=confusion.columns, yticklabels=confusion.index, \n",
    "                      linewidths=1, \n",
    "                      annot_kws={\"size\": 50})\n",
    "sb.set(font_scale = 4)"
   ]
  },
  {
   "cell_type": "code",
   "execution_count": 27,
   "metadata": {},
   "outputs": [
    {
     "data": {
      "image/png": "[encoded data removed]",
      "text/plain": [
       "<Figure size 2160x1728 with 2 Axes>"
      ]
     },
     "metadata": {},
     "output_type": "display_data"
    }
   ],
   "source": [
    "plt.figure(figsize=(30, 24))\n",
    "heat_map_p = sb.heatmap(confusion_p, annot=True,  # It's a Seaborn function\n",
    "                      cmap='coolwarm', \n",
    "                      xticklabels=confusion.columns, yticklabels=confusion.index, \n",
    "                      linewidths=1, \n",
    "                      annot_kws={\"size\": 50})\n",
    "sb.set(font_scale = 4)"
   ]
  },
  {
   "cell_type": "code",
   "execution_count": 28,
   "metadata": {},
   "outputs": [],
   "source": [
    "fig = heat_map.get_figure()    \n",
    "fig.savefig('Heatmap_Combination.png', dpi=400)"
   ]
  },
  {
   "cell_type": "code",
   "execution_count": 29,
   "metadata": {},
   "outputs": [],
   "source": [
    "fig_r = heat_map_r.get_figure()    \n",
    "fig_r.savefig('Heatmap_Recall_Combination.png', dpi=400)"
   ]
  },
  {
   "cell_type": "code",
   "execution_count": 30,
   "metadata": {},
   "outputs": [],
   "source": [
    "fig_p = heat_map_p.get_figure()    \n",
    "fig_p.savefig('Heatmap_Precision_Combination.png', dpi=400)"
   ]
  },
  {
   "cell_type": "markdown",
   "metadata": {},
   "source": [
    "# ROC Curve"
   ]
  },
  {
   "cell_type": "code",
   "execution_count": 31,
   "metadata": {},
   "outputs": [
    {
     "data": {
      "text/plain": [
       "array([[9.99999762e-01, 6.46397851e-08],\n",
       "       [9.99999642e-01, 3.68945194e-07],\n",
       "       [1.00000000e+00, 1.33218141e-11],\n",
       "       [9.99841571e-01, 3.07221708e-05],\n",
       "       [9.99997735e-01, 2.29628927e-06],\n",
       "       [9.99969602e-01, 9.69815937e-06],\n",
       "       [9.98964787e-01, 5.88104944e-04],\n",
       "       [1.00000000e+00, 5.87064675e-10],\n",
       "       [9.99921322e-01, 6.37682970e-05],\n",
       "       [1.00000000e+00, 4.65562255e-09],\n",
       "       [9.99999642e-01, 3.34050583e-07],\n",
       "       [1.00000000e+00, 9.36273888e-12],\n",
       "       [1.00000000e+00, 1.01368415e-12],\n",
       "       [1.00000000e+00, 1.17929422e-09],\n",
       "       [1.00000000e+00, 1.56368448e-14],\n",
       "       [1.00000000e+00, 5.30695767e-13],\n",
       "       [7.83102155e-01, 1.11291967e-01],\n",
       "       [9.99987483e-01, 1.10605142e-05],\n",
       "       [9.59650040e-01, 9.73685365e-03],\n",
       "       [9.46592808e-01, 2.24290267e-02],\n",
       "       [9.99999642e-01, 5.91222374e-07],\n",
       "       [9.99999642e-01, 2.96772072e-07],\n",
       "       [1.00000000e+00, 1.94746019e-09],\n",
       "       [9.99998212e-01, 2.31584454e-06],\n",
       "       [1.00000000e+00, 2.03007322e-09],\n",
       "       [1.00000000e+00, 2.85445054e-08],\n",
       "       [9.99481380e-01, 4.11957211e-04],\n",
       "       [9.99975204e-01, 1.91748150e-05],\n",
       "       [1.00000000e+00, 8.16667678e-10],\n",
       "       [1.00000000e+00, 3.86713134e-10],\n",
       "       [9.99998331e-01, 1.98575003e-06],\n",
       "       [9.99925375e-01, 8.55539620e-05],\n",
       "       [9.96909678e-01, 1.28648069e-03],\n",
       "       [9.99990702e-01, 1.20044269e-05],\n",
       "       [9.99999881e-01, 1.78157620e-07],\n",
       "       [8.46514761e-01, 5.95717095e-02],\n",
       "       [9.99996901e-01, 2.60259412e-06],\n",
       "       [9.96445596e-01, 2.11012736e-03],\n",
       "       [9.90752305e-05, 9.97430742e-01],\n",
       "       [3.77667062e-02, 4.35057133e-01],\n",
       "       [4.14556302e-02, 7.69089162e-01],\n",
       "       [7.59795725e-01, 6.02640286e-02],\n",
       "       [9.08576301e-04, 9.94388402e-01],\n",
       "       [2.69133747e-01, 2.81326354e-01],\n",
       "       [9.99996305e-01, 4.84392422e-06],\n",
       "       [9.99999285e-01, 4.74791989e-07],\n",
       "       [5.72742475e-03, 9.87625182e-01],\n",
       "       [9.88350987e-01, 6.31491188e-03],\n",
       "       [1.00000000e+00, 1.58810409e-09],\n",
       "       [7.80074954e-01, 4.00414467e-02],\n",
       "       [9.98734653e-01, 6.59862300e-04],\n",
       "       [9.98306394e-01, 9.94673115e-04],\n",
       "       [9.95891571e-01, 6.10443484e-03],\n",
       "       [1.00000000e+00, 9.66579594e-10],\n",
       "       [9.99667168e-01, 1.44799953e-04],\n",
       "       [9.97731507e-01, 5.52935933e-04],\n",
       "       [1.00000000e+00, 6.79503112e-14],\n",
       "       [9.99993920e-01, 4.02914520e-06],\n",
       "       [1.00000000e+00, 7.27451821e-10],\n",
       "       [9.98040497e-01, 8.02948547e-04],\n",
       "       [8.54489088e-01, 1.11160770e-01],\n",
       "       [1.00000000e+00, 9.84346372e-12],\n",
       "       [9.99999285e-01, 5.89824594e-07],\n",
       "       [9.99997616e-01, 2.30432261e-06],\n",
       "       [1.00000000e+00, 1.74835524e-08],\n",
       "       [1.00000000e+00, 3.92943664e-11],\n",
       "       [1.00000000e+00, 2.18594245e-08],\n",
       "       [9.99997258e-01, 1.72973444e-06],\n",
       "       [1.00000000e+00, 5.34262218e-11],\n",
       "       [9.99999881e-01, 1.36645099e-07],\n",
       "       [1.00000000e+00, 1.46330974e-08],\n",
       "       [1.00000000e+00, 5.47258159e-12],\n",
       "       [1.00000000e+00, 3.98440037e-08],\n",
       "       [1.00000000e+00, 6.11827957e-08],\n",
       "       [9.98185933e-01, 1.79477059e-03],\n",
       "       [9.99995232e-01, 5.25543555e-06],\n",
       "       [1.00000000e+00, 2.30148576e-08],\n",
       "       [9.99998689e-01, 1.21358210e-06],\n",
       "       [1.00000000e+00, 8.54012860e-10],\n",
       "       [9.99997973e-01, 1.88420256e-06],\n",
       "       [9.99999523e-01, 5.55019199e-07],\n",
       "       [9.89179969e-01, 8.53331294e-03],\n",
       "       [1.00000000e+00, 2.55104275e-08],\n",
       "       [4.35423225e-01, 5.37603259e-01],\n",
       "       [1.30377592e-11, 1.00000000e+00],\n",
       "       [2.60235131e-01, 2.51246095e-01],\n",
       "       [2.51301061e-02, 8.96016896e-01],\n",
       "       [7.65473233e-05, 9.99834538e-01],\n",
       "       [1.05993282e-02, 9.79173541e-01],\n",
       "       [6.58410281e-05, 9.99858260e-01],\n",
       "       [9.99843121e-01, 1.69166684e-04],\n",
       "       [9.99331594e-01, 6.26161695e-04],\n",
       "       [9.99989390e-01, 1.14542945e-05],\n",
       "       [4.21150867e-03, 9.79243577e-01],\n",
       "       [9.99999642e-01, 4.90840421e-07],\n",
       "       [1.00000000e+00, 6.52017248e-15],\n",
       "       [1.00000000e+00, 3.29347039e-08],\n",
       "       [1.00000000e+00, 1.16962823e-07],\n",
       "       [9.99978781e-01, 5.95755555e-05],\n",
       "       [9.99999881e-01, 2.62171852e-07],\n",
       "       [9.98739898e-01, 1.08092465e-03],\n",
       "       [1.00000000e+00, 1.37691671e-08],\n",
       "       [1.00000000e+00, 5.24582067e-09],\n",
       "       [9.95599031e-01, 6.16878457e-03],\n",
       "       [9.99113262e-01, 7.69389735e-04],\n",
       "       [9.99998808e-01, 5.62665991e-06],\n",
       "       [9.99991298e-01, 2.43158884e-05],\n",
       "       [9.99999046e-01, 3.45816488e-06],\n",
       "       [9.98149991e-01, 2.28968053e-03],\n",
       "       [9.99999762e-01, 4.11583358e-07],\n",
       "       [9.99999404e-01, 3.33554112e-06],\n",
       "       [9.99082327e-01, 2.01954716e-03],\n",
       "       [9.99998569e-01, 6.76574018e-06],\n",
       "       [9.98681724e-01, 1.31150801e-03],\n",
       "       [9.41503167e-01, 3.19850296e-02],\n",
       "       [9.99998450e-01, 7.51022799e-06],\n",
       "       [1.00000000e+00, 1.11056520e-09],\n",
       "       [6.53499186e-01, 2.32523814e-01],\n",
       "       [9.99995351e-01, 9.88234660e-06],\n",
       "       [1.00000000e+00, 1.07505578e-07],\n",
       "       [1.00000000e+00, 7.18710758e-10],\n",
       "       [1.00000000e+00, 7.44257633e-08],\n",
       "       [1.00000000e+00, 3.01028785e-11],\n",
       "       [1.00000000e+00, 3.33289059e-08],\n",
       "       [9.99539971e-01, 1.00284291e-03],\n",
       "       [1.00000000e+00, 1.59902480e-09],\n",
       "       [9.98403847e-01, 3.07356636e-03],\n",
       "       [9.99971867e-01, 8.85878180e-05],\n",
       "       [3.55359107e-01, 5.13019204e-01],\n",
       "       [9.97196548e-05, 9.98829305e-01],\n",
       "       [9.88613129e-01, 6.12944737e-03],\n",
       "       [9.98666510e-04, 9.95857418e-01],\n",
       "       [9.99997377e-01, 3.19122728e-06],\n",
       "       [3.13073769e-03, 9.87706244e-01],\n",
       "       [9.99963880e-01, 1.08118300e-04],\n",
       "       [1.00000000e+00, 9.54991108e-09],\n",
       "       [9.99995947e-01, 7.02958860e-05],\n",
       "       [9.99935389e-01, 2.37495973e-04],\n",
       "       [9.99999762e-01, 1.30588307e-06],\n",
       "       [9.99998927e-01, 1.85962097e-06],\n",
       "       [1.00000000e+00, 5.65434050e-07],\n",
       "       [9.99999523e-01, 1.71023805e-06],\n",
       "       [1.00000000e+00, 2.93229817e-07],\n",
       "       [9.96310055e-01, 3.60127841e-03],\n",
       "       [9.92761433e-01, 7.53383059e-03],\n",
       "       [9.99999881e-01, 5.30331874e-07],\n",
       "       [5.50910644e-02, 9.82283771e-01],\n",
       "       [9.99999762e-01, 4.03111699e-06],\n",
       "       [1.00000000e+00, 4.22707602e-09],\n",
       "       [1.00000000e+00, 9.68697345e-12],\n",
       "       [9.96421456e-01, 1.06972242e-02],\n",
       "       [1.00000000e+00, 8.61836991e-12],\n",
       "       [9.34162438e-01, 9.96774584e-02],\n",
       "       [9.99539137e-01, 6.68481574e-04],\n",
       "       [1.00000000e+00, 2.31642403e-08],\n",
       "       [1.00000000e+00, 1.23328781e-09],\n",
       "       [9.99999523e-01, 2.60688671e-06],\n",
       "       [1.00000000e+00, 1.32918004e-07],\n",
       "       [9.99999881e-01, 3.94697906e-07],\n",
       "       [9.99981165e-01, 5.81354943e-05],\n",
       "       [9.99995947e-01, 1.02612139e-05],\n",
       "       [1.00000000e+00, 1.37295419e-08],\n",
       "       [1.34712993e-03, 9.96585608e-01],\n",
       "       [7.31416702e-01, 5.42162895e-01],\n",
       "       [9.99999642e-01, 2.11782503e-06],\n",
       "       [1.00000000e+00, 2.14266915e-08],\n",
       "       [1.00000000e+00, 2.13874007e-09],\n",
       "       [9.99997497e-01, 1.08476215e-05],\n",
       "       [9.99842286e-01, 3.77277203e-04],\n",
       "       [9.99990344e-01, 3.17418926e-05],\n",
       "       [9.99998093e-01, 6.39872133e-06],\n",
       "       [9.99999523e-01, 1.25837926e-06],\n",
       "       [9.99989629e-01, 3.71367023e-05],\n",
       "       [3.84155108e-04, 9.99369442e-01],\n",
       "       [9.50259328e-01, 1.12201072e-01],\n",
       "       [9.99992967e-01, 1.52236707e-05],\n",
       "       [8.58268904e-05, 9.99921918e-01],\n",
       "       [9.98526573e-01, 9.63357929e-03],\n",
       "       [6.67880329e-08, 9.99999881e-01],\n",
       "       [4.57939284e-04, 9.98797774e-01],\n",
       "       [9.80556309e-01, 9.01750941e-03],\n",
       "       [1.00000000e+00, 4.26030955e-13],\n",
       "       [5.05394101e-01, 2.96278059e-01],\n",
       "       [9.99997616e-01, 1.35783228e-06],\n",
       "       [9.94829953e-01, 2.17585941e-03],\n",
       "       [8.73860776e-01, 6.64867908e-02],\n",
       "       [3.45300324e-03, 9.96302247e-01],\n",
       "       [9.86800790e-01, 9.77159012e-03],\n",
       "       [1.00000000e+00, 5.35009494e-34],\n",
       "       [1.00000000e+00, 1.55504820e-28],\n",
       "       [1.00000000e+00, 0.00000000e+00],\n",
       "       [1.00000000e+00, 3.07015548e-20],\n",
       "       [1.00000000e+00, 7.34332774e-14],\n",
       "       [1.00000000e+00, 5.62183239e-23],\n",
       "       [1.00000000e+00, 3.08188273e-17],\n",
       "       [1.00000000e+00, 3.64893428e-27],\n",
       "       [9.94710803e-01, 2.32519079e-02],\n",
       "       [1.00000000e+00, 7.78742293e-10],\n",
       "       [1.00000000e+00, 2.45173021e-10],\n",
       "       [1.00000000e+00, 5.45759905e-17],\n",
       "       [9.98400509e-01, 4.38680593e-03],\n",
       "       [1.00000000e+00, 6.53576128e-15],\n",
       "       [1.00000000e+00, 7.97894140e-10],\n",
       "       [1.00000000e+00, 5.54589252e-13],\n",
       "       [9.99999523e-01, 5.89151057e-07],\n",
       "       [8.29121292e-01, 1.47296727e-01],\n",
       "       [9.99993443e-01, 2.38592565e-06],\n",
       "       [9.51242626e-01, 2.92958524e-02],\n",
       "       [1.00000000e+00, 1.58363184e-11],\n",
       "       [1.00000000e+00, 8.19039148e-09],\n",
       "       [1.00000000e+00, 3.36440673e-14],\n",
       "       [9.13768113e-01, 3.49888876e-02],\n",
       "       [9.99999762e-01, 1.60319459e-07],\n",
       "       [1.00000000e+00, 8.03525822e-12],\n",
       "       [1.00000000e+00, 6.16074580e-10],\n",
       "       [1.00000000e+00, 4.33110895e-16],\n",
       "       [1.00000000e+00, 1.05904654e-08],\n",
       "       [4.64059077e-02, 9.26066756e-01],\n",
       "       [4.68865857e-02, 8.78821254e-01],\n",
       "       [3.85772473e-05, 9.99989867e-01],\n",
       "       [2.42908532e-03, 9.98111486e-01],\n",
       "       [9.99838233e-01, 2.18323228e-04],\n",
       "       [9.99989867e-01, 6.15484805e-06]], dtype=float32)"
      ]
     },
     "execution_count": 31,
     "metadata": {},
     "output_type": "execute_result"
    }
   ],
   "source": [
    "y_predict_concatenate_array = np.array(y_predict_concatenate_list)\n",
    "y_predict_concatenate_array"
   ]
  },
  {
   "cell_type": "code",
   "execution_count": 32,
   "metadata": {},
   "outputs": [
    {
     "data": {
      "text/plain": [
       "(223, 2)"
      ]
     },
     "execution_count": 32,
     "metadata": {},
     "output_type": "execute_result"
    }
   ],
   "source": [
    "y_predict_concatenate_array.shape"
   ]
  },
  {
   "cell_type": "code",
   "execution_count": 33,
   "metadata": {},
   "outputs": [],
   "source": [
    "y_predict_1D = y_predict_concatenate_array[:,0]"
   ]
  },
  {
   "cell_type": "code",
   "execution_count": 34,
   "metadata": {},
   "outputs": [],
   "source": [
    "y_predict_1D_processed = 1- y_predict_1D"
   ]
  },
  {
   "cell_type": "code",
   "execution_count": 35,
   "metadata": {},
   "outputs": [],
   "source": [
    "fpr , tpr , thresholds = roc_curve(y_test_concatenate_list , y_predict_1D_processed)\n",
    "auc_rf = auc(fpr, tpr)"
   ]
  },
  {
   "cell_type": "code",
   "execution_count": 36,
   "metadata": {},
   "outputs": [
    {
     "data": {
      "text/plain": [
       "0.9181450357920946"
      ]
     },
     "execution_count": 36,
     "metadata": {},
     "output_type": "execute_result"
    }
   ],
   "source": [
    "auc_rf"
   ]
  },
  {
   "cell_type": "code",
   "execution_count": 37,
   "metadata": {},
   "outputs": [],
   "source": [
    "x = y = np.arange(0, 1.1, 0.1)"
   ]
  },
  {
   "cell_type": "code",
   "execution_count": 38,
   "metadata": {},
   "outputs": [
    {
     "data": {
      "text/plain": [
       "array([0. , 0.1, 0.2, 0.3, 0.4, 0.5, 0.6, 0.7, 0.8, 0.9, 1. ])"
      ]
     },
     "execution_count": 38,
     "metadata": {},
     "output_type": "execute_result"
    }
   ],
   "source": [
    "x"
   ]
  },
  {
   "cell_type": "code",
   "execution_count": 39,
   "metadata": {
    "scrolled": true
   },
   "outputs": [
    {
     "data": {
      "image/png": "[encoded data removed]",
      "text/plain": [
       "<Figure size 432x288 with 1 Axes>"
      ]
     },
     "metadata": {},
     "output_type": "display_data"
    }
   ],
   "source": [
    "fig = plt.figure()\n",
    "plt.style.use('classic')\n",
    "\n",
    "ax = fig.add_subplot(111)\n",
    "\n",
    "plt.plot(fpr, tpr, color='blue', linewidth=0.9)\n",
    "\n",
    "plt.plot(x, y, '--', color='black', linewidth=0.8)\n",
    "\n",
    "plt.title('ROC curve of Chr X p22 CNV', fontsize=15, fontname = 'Times New Roman')\n",
    "\n",
    "plt.xlabel('False Positive Rate', fontsize=15, fontname = 'Times New Roman')\n",
    "plt.ylabel('True positive Rate', fontsize=15, fontname = 'Times New Roman')\n",
    "\n",
    "ax.set_aspect('equal', adjustable='box')\n",
    "\n",
    "plt.xlim(-0.08, 1.1)\n",
    "plt.ylim(-0.08, 1.1)\n",
    "\n",
    "plt.xticks(fontsize=15, fontname = 'Arial')\n",
    "plt.yticks(fontsize=15, fontname = 'Arial')\n",
    "\n",
    "plt.savefig('ROC_Curve_Combination.png', dpi=700)\n",
    "plt.show()"
   ]
  },
  {
   "cell_type": "markdown",
   "metadata": {},
   "source": [
    "#### 3.10.4.1 AUC Value"
   ]
  },
  {
   "cell_type": "code",
   "execution_count": 40,
   "metadata": {},
   "outputs": [],
   "source": [
    "auc_value = auc(fpr, tpr)"
   ]
  },
  {
   "cell_type": "code",
   "execution_count": 41,
   "metadata": {},
   "outputs": [
    {
     "name": "stdout",
     "output_type": "stream",
     "text": [
      "AUC is  0.9181450357920946\n"
     ]
    }
   ],
   "source": [
    "print('AUC is ', auc_value)"
   ]
  },
  {
   "cell_type": "markdown",
   "metadata": {},
   "source": [
    "# Results"
   ]
  },
  {
   "cell_type": "code",
   "execution_count": 42,
   "metadata": {},
   "outputs": [
    {
     "name": "stdout",
     "output_type": "stream",
     "text": [
      "Test Accuracy: 0.928\n"
     ]
    }
   ],
   "source": [
    "print('Test Accuracy: %.3f' % acc)"
   ]
  },
  {
   "cell_type": "code",
   "execution_count": 43,
   "metadata": {
    "scrolled": true
   },
   "outputs": [
    {
     "name": "stdout",
     "output_type": "stream",
     "text": [
      "               precision    recall  f1-score   support\n",
      "\n",
      "        chr_x       0.94      0.97      0.96       189\n",
      "chr_x_p22_cnv       0.82      0.68      0.74        34\n",
      "\n",
      "    micro avg       0.93      0.93      0.93       223\n",
      "    macro avg       0.88      0.83      0.85       223\n",
      " weighted avg       0.92      0.93      0.93       223\n",
      "\n"
     ]
    }
   ],
   "source": [
    "print(performanceReport)"
   ]
  },
  {
   "cell_type": "code",
   "execution_count": 44,
   "metadata": {},
   "outputs": [
    {
     "data": {
      "text/plain": [
       "str"
      ]
     },
     "execution_count": 44,
     "metadata": {},
     "output_type": "execute_result"
    }
   ],
   "source": [
    "type(performanceReport)"
   ]
  },
  {
   "cell_type": "code",
   "execution_count": 45,
   "metadata": {},
   "outputs": [
    {
     "name": "stdout",
     "output_type": "stream",
     "text": [
      "AUC is  0.9181450357920946\n"
     ]
    }
   ],
   "source": [
    "print('AUC is ', auc_value)"
   ]
  },
  {
   "cell_type": "markdown",
   "metadata": {},
   "source": [
    "## Export to a text file"
   ]
  },
  {
   "cell_type": "code",
   "execution_count": 46,
   "metadata": {},
   "outputs": [],
   "source": [
    "file_report = open('ResultsCombination.txt', 'w')\n",
    "file_report.write('Accuracy: %s\\n\\n' % acc)\n",
    "file_report.write('AUC: %s.\\n\\n' % auc_value)\n",
    "file_report.write('Performance Report: \\n%s\\n\\n' % performanceReport)\n",
    "file_report.write('Confusion Matrix: \\n%s.\\n\\n' % confusion)\n",
    "file_report.write('Recall of Confusion Matrix: \\n%s.\\n\\n' % confusion_r)\n",
    "file_report.write('Precision of Confusion Matrix: \\n%s.\\n\\n' % confusion_p)\n",
    "file_report.close()"
   ]
  },
  {
   "cell_type": "markdown",
   "metadata": {},
   "source": [
    "## Export ROC Parameters"
   ]
  },
  {
   "cell_type": "code",
   "execution_count": 47,
   "metadata": {},
   "outputs": [],
   "source": [
    "with open('tpr_' + label_convert[1] + '.npy', 'wb') as file_tpr:\n",
    "    np.save(file_tpr, np.array(tpr))\n",
    "    \n",
    "with open('fpr_' + label_convert[1] + '.npy', 'wb') as file_fpr:\n",
    "    np.save(file_fpr, np.array(fpr))\n",
    "    \n",
    "with open('thresholds_' + label_convert[1] + '.npy', 'wb') as file_thresholds:\n",
    "    np.save(file_thresholds, np.array(thresholds))"
   ]
  },
  {
   "cell_type": "code",
   "execution_count": null,
   "metadata": {},
   "outputs": [],
   "source": []
  }
 ],
 "metadata": {
  "kernelspec": {
   "display_name": "Python 3",
   "language": "python",
   "name": "python3"
  },
  "language_info": {
   "codemirror_mode": {
    "name": "ipython",
    "version": 3
   },
   "file_extension": ".py",
   "mimetype": "text/x-python",
   "name": "python",
   "nbconvert_exporter": "python",
   "pygments_lexer": "ipython3",
   "version": "3.7.3"
  }
 },
 "nbformat": 4,
 "nbformat_minor": 2
}
