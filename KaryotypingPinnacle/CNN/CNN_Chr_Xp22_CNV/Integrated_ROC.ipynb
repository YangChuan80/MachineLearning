{
 "cells": [
  {
   "cell_type": "code",
   "execution_count": 1,
   "metadata": {},
   "outputs": [
    {
     "name": "stderr",
     "output_type": "stream",
     "text": [
      "C:\\Anaconda3\\lib\\site-packages\\pandas\\compat\\_optional.py:138: UserWarning: Pandas requires version '2.7.0' or newer of 'numexpr' (version '2.6.9' currently installed).\n",
      "  warnings.warn(msg, UserWarning)\n"
     ]
    }
   ],
   "source": [
    "import numpy as np\n",
    "import pandas as pd\n",
    "import matplotlib.pyplot as plt\n",
    "\n",
    "from sklearn.metrics import classification_report, confusion_matrix, roc_curve, auc, accuracy_score\n",
    "\n",
    "import seaborn as sb"
   ]
  },
  {
   "cell_type": "code",
   "execution_count": 2,
   "metadata": {},
   "outputs": [],
   "source": [
    "chromConvert = {\n",
    "               'chr_x': 0, \n",
    "               'chr_x_p22_cnv': 1\n",
    "               }"
   ]
  },
  {
   "cell_type": "code",
   "execution_count": 3,
   "metadata": {},
   "outputs": [],
   "source": [
    "chromConvert_reverse = {\n",
    "                0: 'chr_x', \n",
    "                1: 'chr_x_p22_cnv', \n",
    "               }"
   ]
  },
  {
   "cell_type": "code",
   "execution_count": 4,
   "metadata": {},
   "outputs": [],
   "source": [
    "label = ['chr_x', 'chr_x_p22_cnv']\n",
    "\n",
    "label_convert = []\n",
    "\n",
    "for i in range(2):\n",
    "    label_convert.append(chromConvert_reverse[i])"
   ]
  },
  {
   "cell_type": "markdown",
   "metadata": {},
   "source": [
    "# Load test and predict values"
   ]
  },
  {
   "cell_type": "code",
   "execution_count": 5,
   "metadata": {},
   "outputs": [],
   "source": [
    "y_test_all = []\n",
    "y_predict_all = []\n",
    "y_predict_filtered_all = []"
   ]
  },
  {
   "cell_type": "code",
   "execution_count": 6,
   "metadata": {},
   "outputs": [],
   "source": [
    "for iterationNumber in range(5):\n",
    "    with open('data_y_test_value_iteration_' + str(iterationNumber) + '.npy', 'rb') as f_y_test:\n",
    "        y_test_all.append(np.load(f_y_test))\n",
    "        \n",
    "    with open('data_y_predict_value_iteration_' + str(iterationNumber) + '.npy', 'rb') as f_y_predict:\n",
    "        y_predict_all.append(np.load(f_y_predict))                             \n",
    "                        \n",
    "    with open('data_y_predict_filtered_value_iteration_' + str(iterationNumber) + '.npy', 'rb') as f_y_predict_filtered:\n",
    "        y_predict_filtered_all.append(np.load(f_y_predict_filtered))"
   ]
  },
  {
   "cell_type": "code",
   "execution_count": 7,
   "metadata": {},
   "outputs": [
    {
     "data": {
      "text/plain": [
       "(45, 2)"
      ]
     },
     "execution_count": 7,
     "metadata": {},
     "output_type": "execute_result"
    }
   ],
   "source": [
    "y_predict_all[0].shape"
   ]
  },
  {
   "cell_type": "code",
   "execution_count": 8,
   "metadata": {
    "scrolled": true
   },
   "outputs": [
    {
     "data": {
      "text/plain": [
       "[array([[9.99626756e-01, 1.72919754e-04],\n",
       "        [9.99028921e-01, 1.73309899e-03],\n",
       "        [1.00000000e+00, 6.01185990e-10],\n",
       "        [9.99998808e-01, 8.87122610e-07],\n",
       "        [9.99929190e-01, 1.33482114e-04],\n",
       "        [9.98637021e-01, 2.19046813e-03],\n",
       "        [9.99951124e-01, 8.88007926e-05],\n",
       "        [1.00000000e+00, 5.29412914e-09],\n",
       "        [9.99997854e-01, 4.77166986e-06],\n",
       "        [9.99993563e-01, 1.17843747e-05],\n",
       "        [9.99998331e-01, 2.31448234e-06],\n",
       "        [1.00000000e+00, 3.42468675e-12],\n",
       "        [1.00000000e+00, 8.35480851e-11],\n",
       "        [1.00000000e+00, 6.58301289e-08],\n",
       "        [1.00000000e+00, 6.90004965e-14],\n",
       "        [1.00000000e+00, 1.25914057e-10],\n",
       "        [9.98933256e-01, 1.70092483e-03],\n",
       "        [9.99999404e-01, 7.87064721e-07],\n",
       "        [9.35077965e-01, 6.66522980e-02],\n",
       "        [9.99817073e-01, 3.02859611e-04],\n",
       "        [9.99999881e-01, 1.64196791e-07],\n",
       "        [9.99998689e-01, 3.75033778e-06],\n",
       "        [1.00000000e+00, 1.49215111e-08],\n",
       "        [9.99986291e-01, 1.53869860e-05],\n",
       "        [1.00000000e+00, 1.60635292e-08],\n",
       "        [1.00000000e+00, 3.15310480e-08],\n",
       "        [9.99995351e-01, 8.79324762e-06],\n",
       "        [9.99990940e-01, 1.37799025e-05],\n",
       "        [1.00000000e+00, 8.88490703e-09],\n",
       "        [1.00000000e+00, 1.65424174e-09],\n",
       "        [9.99999046e-01, 1.34664765e-06],\n",
       "        [9.81853187e-01, 1.77732389e-02],\n",
       "        [9.99996901e-01, 3.78309119e-06],\n",
       "        [9.99997139e-01, 3.56710871e-06],\n",
       "        [9.99958038e-01, 3.96752330e-05],\n",
       "        [9.94245589e-01, 8.17611162e-03],\n",
       "        [1.00000000e+00, 2.86257986e-08],\n",
       "        [9.99639034e-01, 4.34739864e-04],\n",
       "        [6.15390437e-03, 9.93308783e-01],\n",
       "        [7.12788701e-02, 8.74078810e-01],\n",
       "        [8.62364075e-04, 9.97700632e-01],\n",
       "        [8.63783836e-01, 9.61321667e-02],\n",
       "        [1.44040852e-03, 9.97121274e-01],\n",
       "        [9.71332908e-01, 3.57697792e-02],\n",
       "        [9.99979019e-01, 2.72003163e-05]], dtype=float32),\n",
       " array([[1.00000000e+00, 3.05099904e-11],\n",
       "        [1.85546592e-01, 8.60812008e-01],\n",
       "        [9.99612987e-01, 7.22011027e-05],\n",
       "        [1.00000000e+00, 8.24421260e-13],\n",
       "        [8.80562607e-03, 9.81043100e-01],\n",
       "        [1.00000000e+00, 5.71747028e-15],\n",
       "        [9.99997020e-01, 5.81171037e-07],\n",
       "        [1.00000000e+00, 1.20724776e-11],\n",
       "        [1.00000000e+00, 5.40275116e-12],\n",
       "        [9.99997616e-01, 1.53391500e-06],\n",
       "        [9.56445217e-01, 3.53106856e-02],\n",
       "        [1.00000000e+00, 1.02265861e-11],\n",
       "        [1.00000000e+00, 1.81012927e-09],\n",
       "        [1.00000000e+00, 4.40138567e-13],\n",
       "        [1.95272296e-04, 9.99432981e-01],\n",
       "        [9.99999881e-01, 1.93513003e-07],\n",
       "        [1.00000000e+00, 2.52125333e-13],\n",
       "        [1.00000000e+00, 4.56280187e-11],\n",
       "        [9.99998689e-01, 4.28308084e-07],\n",
       "        [1.00000000e+00, 1.11591699e-11],\n",
       "        [9.99998093e-01, 4.19669135e-07],\n",
       "        [9.99997973e-01, 9.79703714e-07],\n",
       "        [9.99996662e-01, 5.59095497e-07],\n",
       "        [9.99999404e-01, 2.48218612e-07],\n",
       "        [9.99995947e-01, 7.73882448e-07],\n",
       "        [1.00000000e+00, 3.97764088e-09],\n",
       "        [1.00000000e+00, 4.53487914e-08],\n",
       "        [9.99999642e-01, 3.00065665e-07],\n",
       "        [9.99998927e-01, 4.35014999e-06],\n",
       "        [9.99999881e-01, 3.19767430e-08],\n",
       "        [1.00000000e+00, 5.19779011e-11],\n",
       "        [1.00000000e+00, 2.28486285e-10],\n",
       "        [9.99999762e-01, 3.13591329e-07],\n",
       "        [1.00000000e+00, 7.10300178e-12],\n",
       "        [9.42053556e-01, 4.33172733e-02],\n",
       "        [9.99999285e-01, 1.43296148e-07],\n",
       "        [9.99999404e-01, 2.86212980e-07],\n",
       "        [9.99999523e-01, 8.70568385e-07],\n",
       "        [1.05759516e-01, 8.18300128e-01],\n",
       "        [1.59347674e-10, 1.00000000e+00],\n",
       "        [1.07688007e-04, 9.99884367e-01],\n",
       "        [1.86207646e-04, 9.99432504e-01],\n",
       "        [5.20192436e-04, 9.98951435e-01],\n",
       "        [6.50774979e-04, 9.98520911e-01],\n",
       "        [1.11921169e-01, 8.69039059e-01]], dtype=float32),\n",
       " array([[9.99840498e-01, 2.02300071e-04],\n",
       "        [9.99919891e-01, 1.00978454e-04],\n",
       "        [6.88858777e-02, 8.85157943e-01],\n",
       "        [9.98062909e-01, 1.56113459e-03],\n",
       "        [9.88570273e-01, 1.33732241e-02],\n",
       "        [1.00000000e+00, 1.66051820e-15],\n",
       "        [1.00000000e+00, 2.86670319e-13],\n",
       "        [1.00000000e+00, 4.99032549e-09],\n",
       "        [1.00000000e+00, 7.86529522e-11],\n",
       "        [1.00000000e+00, 5.24479522e-11],\n",
       "        [1.00000000e+00, 3.68927258e-19],\n",
       "        [1.00000000e+00, 8.35573608e-14],\n",
       "        [1.00000000e+00, 2.78869483e-15],\n",
       "        [9.99998450e-01, 3.57752265e-06],\n",
       "        [9.99932051e-01, 6.25289031e-05],\n",
       "        [9.99999642e-01, 4.00265179e-07],\n",
       "        [9.99992967e-01, 1.12545404e-05],\n",
       "        [8.82796526e-01, 9.59947184e-02],\n",
       "        [1.00000000e+00, 9.92032696e-08],\n",
       "        [1.00000000e+00, 3.78243020e-10],\n",
       "        [9.99999762e-01, 2.59369614e-07],\n",
       "        [9.99999285e-01, 1.07996323e-06],\n",
       "        [9.99996781e-01, 4.58037130e-06],\n",
       "        [9.99706447e-01, 5.07075107e-04],\n",
       "        [9.99939322e-01, 9.48338347e-05],\n",
       "        [9.99838233e-01, 3.57485056e-04],\n",
       "        [1.00000000e+00, 2.27511621e-11],\n",
       "        [9.65448260e-01, 2.93459035e-02],\n",
       "        [9.99999404e-01, 6.76446803e-07],\n",
       "        [1.00000000e+00, 4.21564811e-10],\n",
       "        [1.00000000e+00, 9.18760762e-11],\n",
       "        [1.00000000e+00, 4.26000735e-10],\n",
       "        [1.00000000e+00, 7.12531230e-15],\n",
       "        [1.00000000e+00, 1.78433435e-09],\n",
       "        [1.00000000e+00, 1.96854266e-08],\n",
       "        [1.00000000e+00, 7.87401221e-12],\n",
       "        [9.99981999e-01, 1.64512458e-05],\n",
       "        [1.00000000e+00, 5.00550223e-09],\n",
       "        [9.99980092e-01, 2.07083631e-05],\n",
       "        [1.06162194e-03, 9.98347998e-01],\n",
       "        [5.50607452e-03, 9.88373339e-01],\n",
       "        [8.48115633e-06, 9.99980330e-01],\n",
       "        [9.99999642e-01, 7.66611834e-07],\n",
       "        [3.09021743e-05, 9.99939799e-01],\n",
       "        [6.62810057e-02, 9.06894982e-01]], dtype=float32),\n",
       " array([[1.00000000e+00, 9.04520875e-17],\n",
       "        [1.00000000e+00, 1.43681211e-30],\n",
       "        [9.99996424e-01, 1.00379715e-07],\n",
       "        [9.99999762e-01, 1.47940131e-08],\n",
       "        [9.99864936e-01, 3.43327974e-06],\n",
       "        [1.00000000e+00, 1.81426224e-14],\n",
       "        [9.99905825e-01, 1.20028462e-05],\n",
       "        [1.00000000e+00, 7.44886097e-10],\n",
       "        [1.00000000e+00, 1.43546459e-11],\n",
       "        [9.89292383e-01, 2.95483996e-03],\n",
       "        [1.00000000e+00, 1.49591950e-10],\n",
       "        [5.67699492e-01, 4.27796394e-01],\n",
       "        [1.00000000e+00, 3.48524573e-12],\n",
       "        [1.00000000e+00, 1.82608507e-12],\n",
       "        [1.00000000e+00, 3.27359704e-24],\n",
       "        [9.92405474e-01, 1.82693498e-03],\n",
       "        [1.00000000e+00, 1.33507590e-26],\n",
       "        [7.78625309e-01, 3.37248407e-02],\n",
       "        [9.98182952e-01, 9.92552741e-05],\n",
       "        [1.00000000e+00, 3.47121793e-14],\n",
       "        [1.00000000e+00, 3.47228028e-16],\n",
       "        [1.00000000e+00, 9.01964788e-12],\n",
       "        [1.00000000e+00, 3.98958989e-14],\n",
       "        [9.99998927e-01, 8.66526051e-09],\n",
       "        [9.99999762e-01, 3.14864401e-09],\n",
       "        [9.86633182e-01, 1.58720312e-03],\n",
       "        [1.00000000e+00, 7.36353111e-16],\n",
       "        [9.87405423e-03, 9.92427766e-01],\n",
       "        [2.38715187e-02, 9.86571133e-01],\n",
       "        [9.99733031e-01, 2.30939531e-05],\n",
       "        [1.00000000e+00, 2.34158844e-16],\n",
       "        [1.00000000e+00, 4.16328373e-22],\n",
       "        [1.00000000e+00, 8.17795692e-11],\n",
       "        [9.99999523e-01, 6.32004493e-09],\n",
       "        [1.00000000e+00, 9.81916562e-11],\n",
       "        [9.99985337e-01, 7.51046855e-07],\n",
       "        [9.99999881e-01, 7.66088637e-10],\n",
       "        [9.99907732e-01, 2.07933613e-06],\n",
       "        [1.42801078e-02, 9.85503316e-01],\n",
       "        [5.07986009e-01, 5.43199897e-01],\n",
       "        [9.61611450e-01, 1.46942195e-02],\n",
       "        [1.50916521e-05, 9.99999046e-01],\n",
       "        [9.99871135e-01, 8.98742928e-06],\n",
       "        [1.94980006e-04, 9.99992013e-01],\n",
       "        [1.23082532e-03, 9.99073744e-01]], dtype=float32),\n",
       " array([[9.99999285e-01, 2.24970393e-07],\n",
       "        [1.00000000e+00, 3.84327379e-08],\n",
       "        [4.69408929e-01, 2.80751258e-01],\n",
       "        [9.99997139e-01, 6.75738818e-07],\n",
       "        [9.99028087e-01, 5.69516676e-04],\n",
       "        [2.45901003e-01, 5.12779593e-01],\n",
       "        [1.00000000e+00, 2.22510964e-12],\n",
       "        [1.00000000e+00, 1.76958838e-12],\n",
       "        [1.00000000e+00, 2.76174182e-15],\n",
       "        [1.00000000e+00, 4.09047414e-15],\n",
       "        [1.00000000e+00, 4.53768425e-15],\n",
       "        [1.00000000e+00, 1.12084075e-14],\n",
       "        [1.00000000e+00, 4.88095397e-11],\n",
       "        [1.00000000e+00, 1.03453817e-14],\n",
       "        [1.00000000e+00, 1.74840662e-14],\n",
       "        [1.00000000e+00, 1.65343322e-14],\n",
       "        [9.99999881e-01, 2.50715146e-08],\n",
       "        [9.99995470e-01, 1.17735522e-06],\n",
       "        [9.99999881e-01, 1.80061246e-08],\n",
       "        [1.00000000e+00, 2.16833105e-12],\n",
       "        [9.99999762e-01, 4.00663822e-08],\n",
       "        [1.00000000e+00, 1.63666980e-09],\n",
       "        [9.99996305e-01, 9.52866003e-07],\n",
       "        [9.99903679e-01, 2.39377732e-05],\n",
       "        [9.94463027e-01, 2.21580779e-03],\n",
       "        [9.99663234e-01, 1.46268707e-04],\n",
       "        [1.00000000e+00, 3.78272197e-12],\n",
       "        [9.99999762e-01, 9.94186280e-08],\n",
       "        [9.99999166e-01, 1.81784472e-07],\n",
       "        [9.99998808e-01, 2.16829264e-07],\n",
       "        [9.99999046e-01, 2.15225413e-07],\n",
       "        [9.99999762e-01, 7.39139381e-08],\n",
       "        [9.99989390e-01, 3.34877814e-06],\n",
       "        [9.99992847e-01, 1.88953425e-06],\n",
       "        [9.99980450e-01, 2.62686649e-06],\n",
       "        [9.99956012e-01, 1.88977883e-05],\n",
       "        [9.99999404e-01, 2.34986032e-07],\n",
       "        [2.46092901e-02, 9.56297040e-01],\n",
       "        [2.19109049e-03, 9.86360908e-01],\n",
       "        [1.51553669e-03, 9.95494604e-01],\n",
       "        [2.56649941e-01, 4.15204614e-01],\n",
       "        [7.50294209e-01, 1.53867885e-01],\n",
       "        [7.99049121e-06, 9.99990225e-01]], dtype=float32)]"
      ]
     },
     "execution_count": 8,
     "metadata": {},
     "output_type": "execute_result"
    }
   ],
   "source": [
    "y_predict_all"
   ]
  },
  {
   "cell_type": "code",
   "execution_count": 9,
   "metadata": {},
   "outputs": [],
   "source": [
    "y_test_concatenate_list = []\n",
    "y_predict_concatenate_list = []\n",
    "y_predict_filtered_concatenate_list = []"
   ]
  },
  {
   "cell_type": "code",
   "execution_count": 10,
   "metadata": {},
   "outputs": [],
   "source": [
    "for i in range(5):\n",
    "    y_test_concatenate_list.extend(list(y_test_all[i]))\n",
    "    y_predict_concatenate_list.extend(list(y_predict_all[i]))\n",
    "    y_predict_filtered_concatenate_list.extend(list(y_predict_filtered_all[i]))"
   ]
  },
  {
   "cell_type": "code",
   "execution_count": 11,
   "metadata": {},
   "outputs": [
    {
     "data": {
      "text/plain": [
       "(45, 2)"
      ]
     },
     "execution_count": 11,
     "metadata": {},
     "output_type": "execute_result"
    }
   ],
   "source": [
    "y_predict_all[0].shape"
   ]
  },
  {
   "cell_type": "code",
   "execution_count": 12,
   "metadata": {},
   "outputs": [
    {
     "data": {
      "text/plain": [
       "['chr_x', 'chr_x_p22_cnv']"
      ]
     },
     "execution_count": 12,
     "metadata": {},
     "output_type": "execute_result"
    }
   ],
   "source": [
    "label_convert"
   ]
  },
  {
   "cell_type": "code",
   "execution_count": 13,
   "metadata": {},
   "outputs": [
    {
     "data": {
      "text/plain": [
       "223"
      ]
     },
     "execution_count": 13,
     "metadata": {},
     "output_type": "execute_result"
    }
   ],
   "source": [
    "len(y_test_concatenate_list)"
   ]
  },
  {
   "cell_type": "code",
   "execution_count": 14,
   "metadata": {},
   "outputs": [
    {
     "data": {
      "text/plain": [
       "223"
      ]
     },
     "execution_count": 14,
     "metadata": {},
     "output_type": "execute_result"
    }
   ],
   "source": [
    "len(y_predict_filtered_concatenate_list)"
   ]
  },
  {
   "cell_type": "code",
   "execution_count": 15,
   "metadata": {},
   "outputs": [
    {
     "data": {
      "text/plain": [
       "223"
      ]
     },
     "execution_count": 15,
     "metadata": {},
     "output_type": "execute_result"
    }
   ],
   "source": [
    "len(y_predict_concatenate_list)"
   ]
  },
  {
   "cell_type": "markdown",
   "metadata": {},
   "source": [
    "# Classification Report"
   ]
  },
  {
   "cell_type": "markdown",
   "metadata": {},
   "source": [
    "## Accuracy"
   ]
  },
  {
   "cell_type": "code",
   "execution_count": 16,
   "metadata": {},
   "outputs": [
    {
     "name": "stdout",
     "output_type": "stream",
     "text": [
      "Accuracy is  0.9327354260089686\n"
     ]
    }
   ],
   "source": [
    "acc = accuracy_score(y_test_concatenate_list, y_predict_filtered_concatenate_list, normalize=True, sample_weight=None)\n",
    "print('Accuracy is ', acc)"
   ]
  },
  {
   "cell_type": "markdown",
   "metadata": {},
   "source": [
    "## Precision, Recall, and F1"
   ]
  },
  {
   "cell_type": "code",
   "execution_count": 17,
   "metadata": {},
   "outputs": [
    {
     "name": "stdout",
     "output_type": "stream",
     "text": [
      "               precision    recall  f1-score   support\n",
      "\n",
      "        chr_x       0.96      0.96      0.96       189\n",
      "chr_x_p22_cnv       0.79      0.76      0.78        34\n",
      "\n",
      "    micro avg       0.93      0.93      0.93       223\n",
      "    macro avg       0.87      0.86      0.87       223\n",
      " weighted avg       0.93      0.93      0.93       223\n",
      "\n"
     ]
    }
   ],
   "source": [
    "performanceReport = classification_report(y_test_concatenate_list, y_predict_filtered_concatenate_list, \n",
    "                                          target_names=label_convert)\n",
    "\n",
    "\n",
    "print(performanceReport)"
   ]
  },
  {
   "cell_type": "markdown",
   "metadata": {},
   "source": [
    "## Confusion Matrix"
   ]
  },
  {
   "cell_type": "code",
   "execution_count": 18,
   "metadata": {},
   "outputs": [
    {
     "data": {
      "text/html": [
       "<div>\n",
       "<style scoped>\n",
       "    .dataframe tbody tr th:only-of-type {\n",
       "        vertical-align: middle;\n",
       "    }\n",
       "\n",
       "    .dataframe tbody tr th {\n",
       "        vertical-align: top;\n",
       "    }\n",
       "\n",
       "    .dataframe thead th {\n",
       "        text-align: right;\n",
       "    }\n",
       "</style>\n",
       "<table border=\"1\" class=\"dataframe\">\n",
       "  <thead>\n",
       "    <tr style=\"text-align: right;\">\n",
       "      <th></th>\n",
       "      <th>chr_x</th>\n",
       "      <th>chr_x_p22_cnv</th>\n",
       "    </tr>\n",
       "  </thead>\n",
       "  <tbody>\n",
       "    <tr>\n",
       "      <th>chr_x</th>\n",
       "      <td>182</td>\n",
       "      <td>7</td>\n",
       "    </tr>\n",
       "    <tr>\n",
       "      <th>chr_x_p22_cnv</th>\n",
       "      <td>8</td>\n",
       "      <td>26</td>\n",
       "    </tr>\n",
       "  </tbody>\n",
       "</table>\n",
       "</div>"
      ],
      "text/plain": [
       "               chr_x  chr_x_p22_cnv\n",
       "chr_x            182              7\n",
       "chr_x_p22_cnv      8             26"
      ]
     },
     "execution_count": 18,
     "metadata": {},
     "output_type": "execute_result"
    }
   ],
   "source": [
    "cm = np.array(confusion_matrix(y_test_concatenate_list, y_predict_filtered_concatenate_list))\n",
    "confusion = pd.DataFrame(cm, index=label_convert,\n",
    "                        columns=label_convert)\n",
    "confusion.to_csv('ConfusionMatrix_Combination_of_CrossValidation_KaryoType_CNN.csv')\n",
    "confusion"
   ]
  },
  {
   "cell_type": "markdown",
   "metadata": {},
   "source": [
    "### 3.10.4 Rate of Confusion Matrix"
   ]
  },
  {
   "cell_type": "markdown",
   "metadata": {},
   "source": [
    "### 3.10.5 Recall (查全率)，(Sensitivity Rate)"
   ]
  },
  {
   "cell_type": "code",
   "execution_count": 19,
   "metadata": {
    "scrolled": true
   },
   "outputs": [],
   "source": [
    "subtotal = [0] * 2  \n",
    "for item in y_test_concatenate_list:\n",
    "    subtotal[item] = subtotal[item] + 1"
   ]
  },
  {
   "cell_type": "markdown",
   "metadata": {},
   "source": [
    "#### predict number divided by y test"
   ]
  },
  {
   "cell_type": "code",
   "execution_count": 20,
   "metadata": {},
   "outputs": [],
   "source": [
    "cm_r = []\n",
    "for i in range(2):\n",
    "    cm_r.append(cm[i]/subtotal[i])"
   ]
  },
  {
   "cell_type": "code",
   "execution_count": 21,
   "metadata": {},
   "outputs": [
    {
     "data": {
      "text/html": [
       "<div>\n",
       "<style scoped>\n",
       "    .dataframe tbody tr th:only-of-type {\n",
       "        vertical-align: middle;\n",
       "    }\n",
       "\n",
       "    .dataframe tbody tr th {\n",
       "        vertical-align: top;\n",
       "    }\n",
       "\n",
       "    .dataframe thead th {\n",
       "        text-align: right;\n",
       "    }\n",
       "</style>\n",
       "<table border=\"1\" class=\"dataframe\">\n",
       "  <thead>\n",
       "    <tr style=\"text-align: right;\">\n",
       "      <th></th>\n",
       "      <th>chr_x</th>\n",
       "      <th>chr_x_p22_cnv</th>\n",
       "    </tr>\n",
       "  </thead>\n",
       "  <tbody>\n",
       "    <tr>\n",
       "      <th>chr_x</th>\n",
       "      <td>0.962963</td>\n",
       "      <td>0.037037</td>\n",
       "    </tr>\n",
       "    <tr>\n",
       "      <th>chr_x_p22_cnv</th>\n",
       "      <td>0.235294</td>\n",
       "      <td>0.764706</td>\n",
       "    </tr>\n",
       "  </tbody>\n",
       "</table>\n",
       "</div>"
      ],
      "text/plain": [
       "                  chr_x  chr_x_p22_cnv\n",
       "chr_x          0.962963       0.037037\n",
       "chr_x_p22_cnv  0.235294       0.764706"
      ]
     },
     "execution_count": 21,
     "metadata": {},
     "output_type": "execute_result"
    }
   ],
   "source": [
    "confusion_r = pd.DataFrame(cm_r, index=label_convert,\n",
    "                        columns=label_convert)\n",
    "confusion_r.to_csv('ConfusionMatrix_Recall_Integration_CNN.csv')\n",
    "confusion_r"
   ]
  },
  {
   "cell_type": "markdown",
   "metadata": {},
   "source": [
    "### 3.10.6 Precision (查准率）"
   ]
  },
  {
   "cell_type": "code",
   "execution_count": 22,
   "metadata": {},
   "outputs": [],
   "source": [
    "subtotal_predict = [0] * 2 \n",
    "for item in y_predict_filtered_concatenate_list:\n",
    "    subtotal_predict[item] = subtotal_predict[item] + 1"
   ]
  },
  {
   "cell_type": "markdown",
   "metadata": {},
   "source": [
    "#### predict number divided by y predicted"
   ]
  },
  {
   "cell_type": "code",
   "execution_count": 23,
   "metadata": {},
   "outputs": [],
   "source": [
    "cm_p = []\n",
    "for i in range(2):\n",
    "    cm_p.append(cm[:,i]/subtotal_predict[i])"
   ]
  },
  {
   "cell_type": "code",
   "execution_count": 24,
   "metadata": {},
   "outputs": [
    {
     "data": {
      "text/html": [
       "<div>\n",
       "<style scoped>\n",
       "    .dataframe tbody tr th:only-of-type {\n",
       "        vertical-align: middle;\n",
       "    }\n",
       "\n",
       "    .dataframe tbody tr th {\n",
       "        vertical-align: top;\n",
       "    }\n",
       "\n",
       "    .dataframe thead th {\n",
       "        text-align: right;\n",
       "    }\n",
       "</style>\n",
       "<table border=\"1\" class=\"dataframe\">\n",
       "  <thead>\n",
       "    <tr style=\"text-align: right;\">\n",
       "      <th></th>\n",
       "      <th>chr_x</th>\n",
       "      <th>chr_x_p22_cnv</th>\n",
       "    </tr>\n",
       "  </thead>\n",
       "  <tbody>\n",
       "    <tr>\n",
       "      <th>chr_x</th>\n",
       "      <td>0.957895</td>\n",
       "      <td>0.042105</td>\n",
       "    </tr>\n",
       "    <tr>\n",
       "      <th>chr_x_p22_cnv</th>\n",
       "      <td>0.212121</td>\n",
       "      <td>0.787879</td>\n",
       "    </tr>\n",
       "  </tbody>\n",
       "</table>\n",
       "</div>"
      ],
      "text/plain": [
       "                  chr_x  chr_x_p22_cnv\n",
       "chr_x          0.957895       0.042105\n",
       "chr_x_p22_cnv  0.212121       0.787879"
      ]
     },
     "execution_count": 24,
     "metadata": {},
     "output_type": "execute_result"
    }
   ],
   "source": [
    "confusion_p = pd.DataFrame(cm_p, index=label_convert,\n",
    "                        columns=label_convert)\n",
    "confusion_p.to_csv('ConfusionMatrix_Precision_Integration_CNN.csv')\n",
    "confusion_p"
   ]
  },
  {
   "cell_type": "markdown",
   "metadata": {},
   "source": [
    "#### Heat Map: Number"
   ]
  },
  {
   "cell_type": "code",
   "execution_count": 25,
   "metadata": {
    "scrolled": false
   },
   "outputs": [
    {
     "data": {
      "image/png": "[encoded data removed]",
      "text/plain": [
       "<Figure size 2160x1728 with 2 Axes>"
      ]
     },
     "metadata": {
      "needs_background": "light"
     },
     "output_type": "display_data"
    }
   ],
   "source": [
    "plt.figure(figsize=(30, 24))\n",
    "heat_map = sb.heatmap(confusion, annot=True, fmt='g',  # It's a Seaborn function\n",
    "                      cmap='coolwarm', \n",
    "                      xticklabels=confusion.columns, yticklabels=confusion.index, \n",
    "                      linewidths=.5, \n",
    "                      annot_kws={\"size\": 50})\n",
    "sb.set(font_scale = 5)"
   ]
  },
  {
   "cell_type": "markdown",
   "metadata": {},
   "source": [
    "#### Heat Map of Recall: Rate (important!!!)"
   ]
  },
  {
   "cell_type": "code",
   "execution_count": 26,
   "metadata": {
    "scrolled": false
   },
   "outputs": [
    {
     "data": {
      "image/png": "[encoded data removed]",
      "text/plain": [
       "<Figure size 2160x1728 with 2 Axes>"
      ]
     },
     "metadata": {},
     "output_type": "display_data"
    }
   ],
   "source": [
    "plt.figure(figsize=(30, 24))\n",
    "heat_map_r = sb.heatmap(confusion_r, annot=True,  # It's a Seaborn function\n",
    "                      cmap='coolwarm', \n",
    "                      xticklabels=confusion.columns, yticklabels=confusion.index, \n",
    "                      linewidths=1, \n",
    "                      annot_kws={\"size\": 50})\n",
    "sb.set(font_scale = 4)"
   ]
  },
  {
   "cell_type": "code",
   "execution_count": 27,
   "metadata": {},
   "outputs": [
    {
     "data": {
      "image/png": "[encoded data removed]",
      "text/plain": [
       "<Figure size 2160x1728 with 2 Axes>"
      ]
     },
     "metadata": {},
     "output_type": "display_data"
    }
   ],
   "source": [
    "plt.figure(figsize=(30, 24))\n",
    "heat_map_p = sb.heatmap(confusion_p, annot=True,  # It's a Seaborn function\n",
    "                      cmap='coolwarm', \n",
    "                      xticklabels=confusion.columns, yticklabels=confusion.index, \n",
    "                      linewidths=1, \n",
    "                      annot_kws={\"size\": 50})\n",
    "sb.set(font_scale = 4)"
   ]
  },
  {
   "cell_type": "code",
   "execution_count": 28,
   "metadata": {},
   "outputs": [],
   "source": [
    "fig = heat_map.get_figure()    \n",
    "fig.savefig('Heatmap_Combination.png', dpi=400)"
   ]
  },
  {
   "cell_type": "code",
   "execution_count": 29,
   "metadata": {},
   "outputs": [],
   "source": [
    "fig_r = heat_map_r.get_figure()    \n",
    "fig_r.savefig('Heatmap_Recall_Combination.png', dpi=400)"
   ]
  },
  {
   "cell_type": "code",
   "execution_count": 30,
   "metadata": {},
   "outputs": [],
   "source": [
    "fig_p = heat_map_p.get_figure()    \n",
    "fig_p.savefig('Heatmap_Precision_Combination.png', dpi=400)"
   ]
  },
  {
   "cell_type": "markdown",
   "metadata": {},
   "source": [
    "# ROC Curve"
   ]
  },
  {
   "cell_type": "code",
   "execution_count": 31,
   "metadata": {},
   "outputs": [
    {
     "data": {
      "text/plain": [
       "array([[9.99626756e-01, 1.72919754e-04],\n",
       "       [9.99028921e-01, 1.73309899e-03],\n",
       "       [1.00000000e+00, 6.01185990e-10],\n",
       "       [9.99998808e-01, 8.87122610e-07],\n",
       "       [9.99929190e-01, 1.33482114e-04],\n",
       "       [9.98637021e-01, 2.19046813e-03],\n",
       "       [9.99951124e-01, 8.88007926e-05],\n",
       "       [1.00000000e+00, 5.29412914e-09],\n",
       "       [9.99997854e-01, 4.77166986e-06],\n",
       "       [9.99993563e-01, 1.17843747e-05],\n",
       "       [9.99998331e-01, 2.31448234e-06],\n",
       "       [1.00000000e+00, 3.42468675e-12],\n",
       "       [1.00000000e+00, 8.35480851e-11],\n",
       "       [1.00000000e+00, 6.58301289e-08],\n",
       "       [1.00000000e+00, 6.90004965e-14],\n",
       "       [1.00000000e+00, 1.25914057e-10],\n",
       "       [9.98933256e-01, 1.70092483e-03],\n",
       "       [9.99999404e-01, 7.87064721e-07],\n",
       "       [9.35077965e-01, 6.66522980e-02],\n",
       "       [9.99817073e-01, 3.02859611e-04],\n",
       "       [9.99999881e-01, 1.64196791e-07],\n",
       "       [9.99998689e-01, 3.75033778e-06],\n",
       "       [1.00000000e+00, 1.49215111e-08],\n",
       "       [9.99986291e-01, 1.53869860e-05],\n",
       "       [1.00000000e+00, 1.60635292e-08],\n",
       "       [1.00000000e+00, 3.15310480e-08],\n",
       "       [9.99995351e-01, 8.79324762e-06],\n",
       "       [9.99990940e-01, 1.37799025e-05],\n",
       "       [1.00000000e+00, 8.88490703e-09],\n",
       "       [1.00000000e+00, 1.65424174e-09],\n",
       "       [9.99999046e-01, 1.34664765e-06],\n",
       "       [9.81853187e-01, 1.77732389e-02],\n",
       "       [9.99996901e-01, 3.78309119e-06],\n",
       "       [9.99997139e-01, 3.56710871e-06],\n",
       "       [9.99958038e-01, 3.96752330e-05],\n",
       "       [9.94245589e-01, 8.17611162e-03],\n",
       "       [1.00000000e+00, 2.86257986e-08],\n",
       "       [9.99639034e-01, 4.34739864e-04],\n",
       "       [6.15390437e-03, 9.93308783e-01],\n",
       "       [7.12788701e-02, 8.74078810e-01],\n",
       "       [8.62364075e-04, 9.97700632e-01],\n",
       "       [8.63783836e-01, 9.61321667e-02],\n",
       "       [1.44040852e-03, 9.97121274e-01],\n",
       "       [9.71332908e-01, 3.57697792e-02],\n",
       "       [9.99979019e-01, 2.72003163e-05],\n",
       "       [1.00000000e+00, 3.05099904e-11],\n",
       "       [1.85546592e-01, 8.60812008e-01],\n",
       "       [9.99612987e-01, 7.22011027e-05],\n",
       "       [1.00000000e+00, 8.24421260e-13],\n",
       "       [8.80562607e-03, 9.81043100e-01],\n",
       "       [1.00000000e+00, 5.71747028e-15],\n",
       "       [9.99997020e-01, 5.81171037e-07],\n",
       "       [1.00000000e+00, 1.20724776e-11],\n",
       "       [1.00000000e+00, 5.40275116e-12],\n",
       "       [9.99997616e-01, 1.53391500e-06],\n",
       "       [9.56445217e-01, 3.53106856e-02],\n",
       "       [1.00000000e+00, 1.02265861e-11],\n",
       "       [1.00000000e+00, 1.81012927e-09],\n",
       "       [1.00000000e+00, 4.40138567e-13],\n",
       "       [1.95272296e-04, 9.99432981e-01],\n",
       "       [9.99999881e-01, 1.93513003e-07],\n",
       "       [1.00000000e+00, 2.52125333e-13],\n",
       "       [1.00000000e+00, 4.56280187e-11],\n",
       "       [9.99998689e-01, 4.28308084e-07],\n",
       "       [1.00000000e+00, 1.11591699e-11],\n",
       "       [9.99998093e-01, 4.19669135e-07],\n",
       "       [9.99997973e-01, 9.79703714e-07],\n",
       "       [9.99996662e-01, 5.59095497e-07],\n",
       "       [9.99999404e-01, 2.48218612e-07],\n",
       "       [9.99995947e-01, 7.73882448e-07],\n",
       "       [1.00000000e+00, 3.97764088e-09],\n",
       "       [1.00000000e+00, 4.53487914e-08],\n",
       "       [9.99999642e-01, 3.00065665e-07],\n",
       "       [9.99998927e-01, 4.35014999e-06],\n",
       "       [9.99999881e-01, 3.19767430e-08],\n",
       "       [1.00000000e+00, 5.19779011e-11],\n",
       "       [1.00000000e+00, 2.28486285e-10],\n",
       "       [9.99999762e-01, 3.13591329e-07],\n",
       "       [1.00000000e+00, 7.10300178e-12],\n",
       "       [9.42053556e-01, 4.33172733e-02],\n",
       "       [9.99999285e-01, 1.43296148e-07],\n",
       "       [9.99999404e-01, 2.86212980e-07],\n",
       "       [9.99999523e-01, 8.70568385e-07],\n",
       "       [1.05759516e-01, 8.18300128e-01],\n",
       "       [1.59347674e-10, 1.00000000e+00],\n",
       "       [1.07688007e-04, 9.99884367e-01],\n",
       "       [1.86207646e-04, 9.99432504e-01],\n",
       "       [5.20192436e-04, 9.98951435e-01],\n",
       "       [6.50774979e-04, 9.98520911e-01],\n",
       "       [1.11921169e-01, 8.69039059e-01],\n",
       "       [9.99840498e-01, 2.02300071e-04],\n",
       "       [9.99919891e-01, 1.00978454e-04],\n",
       "       [6.88858777e-02, 8.85157943e-01],\n",
       "       [9.98062909e-01, 1.56113459e-03],\n",
       "       [9.88570273e-01, 1.33732241e-02],\n",
       "       [1.00000000e+00, 1.66051820e-15],\n",
       "       [1.00000000e+00, 2.86670319e-13],\n",
       "       [1.00000000e+00, 4.99032549e-09],\n",
       "       [1.00000000e+00, 7.86529522e-11],\n",
       "       [1.00000000e+00, 5.24479522e-11],\n",
       "       [1.00000000e+00, 3.68927258e-19],\n",
       "       [1.00000000e+00, 8.35573608e-14],\n",
       "       [1.00000000e+00, 2.78869483e-15],\n",
       "       [9.99998450e-01, 3.57752265e-06],\n",
       "       [9.99932051e-01, 6.25289031e-05],\n",
       "       [9.99999642e-01, 4.00265179e-07],\n",
       "       [9.99992967e-01, 1.12545404e-05],\n",
       "       [8.82796526e-01, 9.59947184e-02],\n",
       "       [1.00000000e+00, 9.92032696e-08],\n",
       "       [1.00000000e+00, 3.78243020e-10],\n",
       "       [9.99999762e-01, 2.59369614e-07],\n",
       "       [9.99999285e-01, 1.07996323e-06],\n",
       "       [9.99996781e-01, 4.58037130e-06],\n",
       "       [9.99706447e-01, 5.07075107e-04],\n",
       "       [9.99939322e-01, 9.48338347e-05],\n",
       "       [9.99838233e-01, 3.57485056e-04],\n",
       "       [1.00000000e+00, 2.27511621e-11],\n",
       "       [9.65448260e-01, 2.93459035e-02],\n",
       "       [9.99999404e-01, 6.76446803e-07],\n",
       "       [1.00000000e+00, 4.21564811e-10],\n",
       "       [1.00000000e+00, 9.18760762e-11],\n",
       "       [1.00000000e+00, 4.26000735e-10],\n",
       "       [1.00000000e+00, 7.12531230e-15],\n",
       "       [1.00000000e+00, 1.78433435e-09],\n",
       "       [1.00000000e+00, 1.96854266e-08],\n",
       "       [1.00000000e+00, 7.87401221e-12],\n",
       "       [9.99981999e-01, 1.64512458e-05],\n",
       "       [1.00000000e+00, 5.00550223e-09],\n",
       "       [9.99980092e-01, 2.07083631e-05],\n",
       "       [1.06162194e-03, 9.98347998e-01],\n",
       "       [5.50607452e-03, 9.88373339e-01],\n",
       "       [8.48115633e-06, 9.99980330e-01],\n",
       "       [9.99999642e-01, 7.66611834e-07],\n",
       "       [3.09021743e-05, 9.99939799e-01],\n",
       "       [6.62810057e-02, 9.06894982e-01],\n",
       "       [1.00000000e+00, 9.04520875e-17],\n",
       "       [1.00000000e+00, 1.43681211e-30],\n",
       "       [9.99996424e-01, 1.00379715e-07],\n",
       "       [9.99999762e-01, 1.47940131e-08],\n",
       "       [9.99864936e-01, 3.43327974e-06],\n",
       "       [1.00000000e+00, 1.81426224e-14],\n",
       "       [9.99905825e-01, 1.20028462e-05],\n",
       "       [1.00000000e+00, 7.44886097e-10],\n",
       "       [1.00000000e+00, 1.43546459e-11],\n",
       "       [9.89292383e-01, 2.95483996e-03],\n",
       "       [1.00000000e+00, 1.49591950e-10],\n",
       "       [5.67699492e-01, 4.27796394e-01],\n",
       "       [1.00000000e+00, 3.48524573e-12],\n",
       "       [1.00000000e+00, 1.82608507e-12],\n",
       "       [1.00000000e+00, 3.27359704e-24],\n",
       "       [9.92405474e-01, 1.82693498e-03],\n",
       "       [1.00000000e+00, 1.33507590e-26],\n",
       "       [7.78625309e-01, 3.37248407e-02],\n",
       "       [9.98182952e-01, 9.92552741e-05],\n",
       "       [1.00000000e+00, 3.47121793e-14],\n",
       "       [1.00000000e+00, 3.47228028e-16],\n",
       "       [1.00000000e+00, 9.01964788e-12],\n",
       "       [1.00000000e+00, 3.98958989e-14],\n",
       "       [9.99998927e-01, 8.66526051e-09],\n",
       "       [9.99999762e-01, 3.14864401e-09],\n",
       "       [9.86633182e-01, 1.58720312e-03],\n",
       "       [1.00000000e+00, 7.36353111e-16],\n",
       "       [9.87405423e-03, 9.92427766e-01],\n",
       "       [2.38715187e-02, 9.86571133e-01],\n",
       "       [9.99733031e-01, 2.30939531e-05],\n",
       "       [1.00000000e+00, 2.34158844e-16],\n",
       "       [1.00000000e+00, 4.16328373e-22],\n",
       "       [1.00000000e+00, 8.17795692e-11],\n",
       "       [9.99999523e-01, 6.32004493e-09],\n",
       "       [1.00000000e+00, 9.81916562e-11],\n",
       "       [9.99985337e-01, 7.51046855e-07],\n",
       "       [9.99999881e-01, 7.66088637e-10],\n",
       "       [9.99907732e-01, 2.07933613e-06],\n",
       "       [1.42801078e-02, 9.85503316e-01],\n",
       "       [5.07986009e-01, 5.43199897e-01],\n",
       "       [9.61611450e-01, 1.46942195e-02],\n",
       "       [1.50916521e-05, 9.99999046e-01],\n",
       "       [9.99871135e-01, 8.98742928e-06],\n",
       "       [1.94980006e-04, 9.99992013e-01],\n",
       "       [1.23082532e-03, 9.99073744e-01],\n",
       "       [9.99999285e-01, 2.24970393e-07],\n",
       "       [1.00000000e+00, 3.84327379e-08],\n",
       "       [4.69408929e-01, 2.80751258e-01],\n",
       "       [9.99997139e-01, 6.75738818e-07],\n",
       "       [9.99028087e-01, 5.69516676e-04],\n",
       "       [2.45901003e-01, 5.12779593e-01],\n",
       "       [1.00000000e+00, 2.22510964e-12],\n",
       "       [1.00000000e+00, 1.76958838e-12],\n",
       "       [1.00000000e+00, 2.76174182e-15],\n",
       "       [1.00000000e+00, 4.09047414e-15],\n",
       "       [1.00000000e+00, 4.53768425e-15],\n",
       "       [1.00000000e+00, 1.12084075e-14],\n",
       "       [1.00000000e+00, 4.88095397e-11],\n",
       "       [1.00000000e+00, 1.03453817e-14],\n",
       "       [1.00000000e+00, 1.74840662e-14],\n",
       "       [1.00000000e+00, 1.65343322e-14],\n",
       "       [9.99999881e-01, 2.50715146e-08],\n",
       "       [9.99995470e-01, 1.17735522e-06],\n",
       "       [9.99999881e-01, 1.80061246e-08],\n",
       "       [1.00000000e+00, 2.16833105e-12],\n",
       "       [9.99999762e-01, 4.00663822e-08],\n",
       "       [1.00000000e+00, 1.63666980e-09],\n",
       "       [9.99996305e-01, 9.52866003e-07],\n",
       "       [9.99903679e-01, 2.39377732e-05],\n",
       "       [9.94463027e-01, 2.21580779e-03],\n",
       "       [9.99663234e-01, 1.46268707e-04],\n",
       "       [1.00000000e+00, 3.78272197e-12],\n",
       "       [9.99999762e-01, 9.94186280e-08],\n",
       "       [9.99999166e-01, 1.81784472e-07],\n",
       "       [9.99998808e-01, 2.16829264e-07],\n",
       "       [9.99999046e-01, 2.15225413e-07],\n",
       "       [9.99999762e-01, 7.39139381e-08],\n",
       "       [9.99989390e-01, 3.34877814e-06],\n",
       "       [9.99992847e-01, 1.88953425e-06],\n",
       "       [9.99980450e-01, 2.62686649e-06],\n",
       "       [9.99956012e-01, 1.88977883e-05],\n",
       "       [9.99999404e-01, 2.34986032e-07],\n",
       "       [2.46092901e-02, 9.56297040e-01],\n",
       "       [2.19109049e-03, 9.86360908e-01],\n",
       "       [1.51553669e-03, 9.95494604e-01],\n",
       "       [2.56649941e-01, 4.15204614e-01],\n",
       "       [7.50294209e-01, 1.53867885e-01],\n",
       "       [7.99049121e-06, 9.99990225e-01]], dtype=float32)"
      ]
     },
     "execution_count": 31,
     "metadata": {},
     "output_type": "execute_result"
    }
   ],
   "source": [
    "y_predict_concatenate_array = np.array(y_predict_concatenate_list)\n",
    "y_predict_concatenate_array"
   ]
  },
  {
   "cell_type": "code",
   "execution_count": 32,
   "metadata": {},
   "outputs": [
    {
     "data": {
      "text/plain": [
       "(223, 2)"
      ]
     },
     "execution_count": 32,
     "metadata": {},
     "output_type": "execute_result"
    }
   ],
   "source": [
    "y_predict_concatenate_array.shape"
   ]
  },
  {
   "cell_type": "code",
   "execution_count": 33,
   "metadata": {},
   "outputs": [],
   "source": [
    "y_predict_1D = y_predict_concatenate_array[:,0]"
   ]
  },
  {
   "cell_type": "code",
   "execution_count": 34,
   "metadata": {},
   "outputs": [],
   "source": [
    "y_predict_1D_processed = 1- y_predict_1D"
   ]
  },
  {
   "cell_type": "code",
   "execution_count": 35,
   "metadata": {},
   "outputs": [],
   "source": [
    "fpr , tpr , thresholds = roc_curve(y_test_concatenate_list , y_predict_1D_processed)\n",
    "auc_rf = auc(fpr, tpr)"
   ]
  },
  {
   "cell_type": "code",
   "execution_count": 36,
   "metadata": {},
   "outputs": [
    {
     "data": {
      "text/plain": [
       "0.9491129785247432"
      ]
     },
     "execution_count": 36,
     "metadata": {},
     "output_type": "execute_result"
    }
   ],
   "source": [
    "auc_rf"
   ]
  },
  {
   "cell_type": "code",
   "execution_count": 37,
   "metadata": {},
   "outputs": [],
   "source": [
    "x = y = np.arange(0, 1.1, 0.1)"
   ]
  },
  {
   "cell_type": "code",
   "execution_count": 38,
   "metadata": {},
   "outputs": [
    {
     "data": {
      "text/plain": [
       "array([0. , 0.1, 0.2, 0.3, 0.4, 0.5, 0.6, 0.7, 0.8, 0.9, 1. ])"
      ]
     },
     "execution_count": 38,
     "metadata": {},
     "output_type": "execute_result"
    }
   ],
   "source": [
    "x"
   ]
  },
  {
   "cell_type": "code",
   "execution_count": 39,
   "metadata": {
    "scrolled": true
   },
   "outputs": [
    {
     "data": {
      "image/png": "[encoded data removed]",
      "text/plain": [
       "<Figure size 432x288 with 1 Axes>"
      ]
     },
     "metadata": {},
     "output_type": "display_data"
    }
   ],
   "source": [
    "fig = plt.figure()\n",
    "plt.style.use('classic')\n",
    "\n",
    "ax = fig.add_subplot(111)\n",
    "\n",
    "plt.plot(fpr, tpr, color='blue', linewidth=0.9)\n",
    "\n",
    "plt.plot(x, y, '--', color='black', linewidth=0.8)\n",
    "\n",
    "plt.title('ROC curve of Chr X p22 CNV', fontsize=15, fontname = 'Times New Roman')\n",
    "\n",
    "plt.xlabel('False Positive Rate', fontsize=15, fontname = 'Times New Roman')\n",
    "plt.ylabel('True positive Rate', fontsize=15, fontname = 'Times New Roman')\n",
    "\n",
    "ax.set_aspect('equal', adjustable='box')\n",
    "\n",
    "plt.xlim(-0.08, 1.1)\n",
    "plt.ylim(-0.08, 1.1)\n",
    "\n",
    "plt.xticks(fontsize=15, fontname = 'Arial')\n",
    "plt.yticks(fontsize=15, fontname = 'Arial')\n",
    "\n",
    "plt.savefig('ROC_Curve_Combination.png', dpi=700)\n",
    "plt.show()"
   ]
  },
  {
   "cell_type": "markdown",
   "metadata": {},
   "source": [
    "#### 3.10.4.1 AUC Value"
   ]
  },
  {
   "cell_type": "code",
   "execution_count": 40,
   "metadata": {},
   "outputs": [],
   "source": [
    "auc_value = auc(fpr, tpr)"
   ]
  },
  {
   "cell_type": "code",
   "execution_count": 41,
   "metadata": {},
   "outputs": [
    {
     "name": "stdout",
     "output_type": "stream",
     "text": [
      "AUC is  0.9491129785247432\n"
     ]
    }
   ],
   "source": [
    "print('AUC is ', auc_value)"
   ]
  },
  {
   "cell_type": "markdown",
   "metadata": {},
   "source": [
    "# Results"
   ]
  },
  {
   "cell_type": "code",
   "execution_count": 42,
   "metadata": {},
   "outputs": [
    {
     "name": "stdout",
     "output_type": "stream",
     "text": [
      "Test Accuracy: 0.933\n"
     ]
    }
   ],
   "source": [
    "print('Test Accuracy: %.3f' % acc)"
   ]
  },
  {
   "cell_type": "code",
   "execution_count": 43,
   "metadata": {
    "scrolled": true
   },
   "outputs": [
    {
     "name": "stdout",
     "output_type": "stream",
     "text": [
      "               precision    recall  f1-score   support\n",
      "\n",
      "        chr_x       0.96      0.96      0.96       189\n",
      "chr_x_p22_cnv       0.79      0.76      0.78        34\n",
      "\n",
      "    micro avg       0.93      0.93      0.93       223\n",
      "    macro avg       0.87      0.86      0.87       223\n",
      " weighted avg       0.93      0.93      0.93       223\n",
      "\n"
     ]
    }
   ],
   "source": [
    "print(performanceReport)"
   ]
  },
  {
   "cell_type": "code",
   "execution_count": 44,
   "metadata": {},
   "outputs": [
    {
     "data": {
      "text/plain": [
       "str"
      ]
     },
     "execution_count": 44,
     "metadata": {},
     "output_type": "execute_result"
    }
   ],
   "source": [
    "type(performanceReport)"
   ]
  },
  {
   "cell_type": "code",
   "execution_count": 45,
   "metadata": {},
   "outputs": [
    {
     "name": "stdout",
     "output_type": "stream",
     "text": [
      "AUC is  0.9491129785247432\n"
     ]
    }
   ],
   "source": [
    "print('AUC is ', auc_value)"
   ]
  },
  {
   "cell_type": "markdown",
   "metadata": {},
   "source": [
    "## Export to a text file"
   ]
  },
  {
   "cell_type": "code",
   "execution_count": 46,
   "metadata": {},
   "outputs": [],
   "source": [
    "file_report = open('ResultsCombination.txt', 'w')\n",
    "file_report.write('Accuracy: %s\\n\\n' % acc)\n",
    "file_report.write('AUC: %s.\\n\\n' % auc_value)\n",
    "file_report.write('Performance Report: \\n%s\\n\\n' % performanceReport)\n",
    "file_report.write('Confusion Matrix: \\n%s.\\n\\n' % confusion)\n",
    "file_report.write('Recall of Confusion Matrix: \\n%s.\\n\\n' % confusion_r)\n",
    "file_report.write('Precision of Confusion Matrix: \\n%s.\\n\\n' % confusion_p)\n",
    "file_report.close()"
   ]
  },
  {
   "cell_type": "markdown",
   "metadata": {},
   "source": [
    "## Export ROC Parameters"
   ]
  },
  {
   "cell_type": "code",
   "execution_count": 47,
   "metadata": {},
   "outputs": [],
   "source": [
    "with open('tpr_' + label_convert[1] + '.npy', 'wb') as file_tpr:\n",
    "    np.save(file_tpr, np.array(tpr))\n",
    "    \n",
    "with open('fpr_' + label_convert[1] + '.npy', 'wb') as file_fpr:\n",
    "    np.save(file_fpr, np.array(fpr))\n",
    "    \n",
    "with open('thresholds_' + label_convert[1] + '.npy', 'wb') as file_thresholds:\n",
    "    np.save(file_thresholds, np.array(thresholds))"
   ]
  },
  {
   "cell_type": "code",
   "execution_count": null,
   "metadata": {},
   "outputs": [],
   "source": []
  }
 ],
 "metadata": {
  "kernelspec": {
   "display_name": "Python 3",
   "language": "python",
   "name": "python3"
  },
  "language_info": {
   "codemirror_mode": {
    "name": "ipython",
    "version": 3
   },
   "file_extension": ".py",
   "mimetype": "text/x-python",
   "name": "python",
   "nbconvert_exporter": "python",
   "pygments_lexer": "ipython3",
   "version": "3.7.3"
  }
 },
 "nbformat": 4,
 "nbformat_minor": 2
}
