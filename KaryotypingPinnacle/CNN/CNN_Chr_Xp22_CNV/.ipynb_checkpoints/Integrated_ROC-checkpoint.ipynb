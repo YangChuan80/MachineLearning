{
 "cells": [
  {
   "cell_type": "code",
   "execution_count": 1,
   "metadata": {},
   "outputs": [
    {
     "name": "stderr",
     "output_type": "stream",
     "text": [
      "C:\\Anaconda3\\lib\\site-packages\\pandas\\compat\\_optional.py:138: UserWarning: Pandas requires version '2.7.0' or newer of 'numexpr' (version '2.6.9' currently installed).\n",
      "  warnings.warn(msg, UserWarning)\n"
     ]
    }
   ],
   "source": [
    "import numpy as np\n",
    "import pandas as pd\n",
    "import matplotlib.pyplot as plt\n",
    "\n",
    "from sklearn.metrics import classification_report, confusion_matrix, roc_curve, auc, accuracy_score\n",
    "\n",
    "import seaborn as sb"
   ]
  },
  {
   "cell_type": "code",
   "execution_count": 2,
   "metadata": {},
   "outputs": [],
   "source": [
    "chromConvert = {\n",
    "               'chr_x': 0, \n",
    "               'chr_x_p22_cnv': 1\n",
    "               }"
   ]
  },
  {
   "cell_type": "code",
   "execution_count": 3,
   "metadata": {},
   "outputs": [],
   "source": [
    "chromConvert_reverse = {\n",
    "                0: 'chr_x', \n",
    "                1: 'chr_x_p22_cnv', \n",
    "               }"
   ]
  },
  {
   "cell_type": "code",
   "execution_count": 4,
   "metadata": {},
   "outputs": [],
   "source": [
    "label = ['chr_x', 'chr_x_p22_cnv']\n",
    "\n",
    "label_convert = []\n",
    "\n",
    "for i in range(2):\n",
    "    label_convert.append(chromConvert_reverse[i])"
   ]
  },
  {
   "cell_type": "markdown",
   "metadata": {},
   "source": [
    "# Load test and predict values"
   ]
  },
  {
   "cell_type": "code",
   "execution_count": 5,
   "metadata": {},
   "outputs": [],
   "source": [
    "y_test_all = []\n",
    "y_predict_all = []\n",
    "y_predict_filtered_all = []"
   ]
  },
  {
   "cell_type": "code",
   "execution_count": 6,
   "metadata": {},
   "outputs": [],
   "source": [
    "for iterationNumber in range(7):\n",
    "    with open('data_y_test_value_iteration_' + str(iterationNumber) + '.npy', 'rb') as f_y_test:\n",
    "        y_test_all.append(np.load(f_y_test))\n",
    "        \n",
    "    with open('data_y_predict_value_iteration_' + str(iterationNumber) + '.npy', 'rb') as f_y_predict:\n",
    "        y_predict_all.append(np.load(f_y_predict))                             \n",
    "                        \n",
    "    with open('data_y_predict_filtered_value_iteration_' + str(iterationNumber) + '.npy', 'rb') as f_y_predict_filtered:\n",
    "        y_predict_filtered_all.append(np.load(f_y_predict_filtered))"
   ]
  },
  {
   "cell_type": "code",
   "execution_count": 7,
   "metadata": {},
   "outputs": [
    {
     "data": {
      "text/plain": [
       "(33, 2)"
      ]
     },
     "execution_count": 7,
     "metadata": {},
     "output_type": "execute_result"
    }
   ],
   "source": [
    "y_predict_all[0].shape"
   ]
  },
  {
   "cell_type": "code",
   "execution_count": 8,
   "metadata": {
    "scrolled": true
   },
   "outputs": [
    {
     "data": {
      "text/plain": [
       "[array([[9.9999988e-01, 1.3994888e-08],\n",
       "        [9.9998367e-01, 3.1125467e-06],\n",
       "        [9.9908626e-01, 3.6653923e-04],\n",
       "        [9.9975628e-01, 4.6440597e-05],\n",
       "        [9.9865556e-01, 1.7986774e-04],\n",
       "        [1.0000000e+00, 6.2767215e-14],\n",
       "        [9.9999821e-01, 9.3481070e-08],\n",
       "        [9.9999857e-01, 6.7887420e-08],\n",
       "        [1.0000000e+00, 6.2570081e-11],\n",
       "        [1.0000000e+00, 6.0360067e-19],\n",
       "        [1.0000000e+00, 1.8501716e-11],\n",
       "        [1.0000000e+00, 6.4932612e-24],\n",
       "        [1.0000000e+00, 6.8014586e-15],\n",
       "        [9.9999964e-01, 4.9860827e-09],\n",
       "        [1.0000000e+00, 1.1396076e-11],\n",
       "        [9.9999928e-01, 5.3418347e-08],\n",
       "        [1.0000000e+00, 1.7477708e-13],\n",
       "        [9.9999988e-01, 1.0177735e-09],\n",
       "        [1.0000000e+00, 5.1726790e-11],\n",
       "        [1.0000000e+00, 2.4154589e-15],\n",
       "        [1.0000000e+00, 1.8634132e-15],\n",
       "        [1.0000000e+00, 6.1783384e-10],\n",
       "        [9.9805498e-01, 2.9963630e-04],\n",
       "        [9.9994624e-01, 1.8030753e-06],\n",
       "        [9.9999928e-01, 1.9221163e-08],\n",
       "        [1.0000000e+00, 1.9981262e-10],\n",
       "        [9.9999976e-01, 6.8021673e-09],\n",
       "        [5.6177238e-04, 9.9972850e-01],\n",
       "        [9.9999905e-01, 6.5524731e-08],\n",
       "        [1.5721608e-02, 9.8810786e-01],\n",
       "        [7.6356041e-04, 9.9963474e-01],\n",
       "        [2.8415523e-02, 9.8600811e-01],\n",
       "        [9.9998581e-01, 3.4539056e-07]], dtype=float32),\n",
       " array([[9.9999118e-01, 5.9795141e-04],\n",
       "        [1.0000000e+00, 6.1794156e-16],\n",
       "        [1.0000000e+00, 8.5473593e-11],\n",
       "        [1.0000000e+00, 1.6311675e-07],\n",
       "        [9.9995136e-01, 2.9644847e-04],\n",
       "        [1.0000000e+00, 3.7213255e-10],\n",
       "        [9.9980444e-01, 1.3342090e-03],\n",
       "        [1.0000000e+00, 8.9414564e-19],\n",
       "        [9.9998581e-01, 5.7361717e-04],\n",
       "        [1.0000000e+00, 4.2549018e-09],\n",
       "        [9.9833304e-01, 5.8320677e-03],\n",
       "        [7.6081598e-01, 9.0935659e-01],\n",
       "        [9.9611354e-01, 5.1122297e-02],\n",
       "        [1.0000000e+00, 2.9371297e-11],\n",
       "        [9.9997044e-01, 2.1299880e-04],\n",
       "        [1.0000000e+00, 2.0406277e-10],\n",
       "        [1.0000000e+00, 1.8694634e-07],\n",
       "        [9.9999988e-01, 2.6133960e-06],\n",
       "        [1.0000000e+00, 3.8412591e-07],\n",
       "        [9.9999976e-01, 5.0853237e-07],\n",
       "        [9.9999976e-01, 3.4998864e-06],\n",
       "        [9.9999845e-01, 3.8333670e-05],\n",
       "        [9.9999678e-01, 4.3998709e-05],\n",
       "        [9.9989057e-01, 3.9365757e-03],\n",
       "        [1.0000000e+00, 4.3611389e-10],\n",
       "        [7.6689899e-01, 9.1451359e-01],\n",
       "        [9.9999821e-01, 2.4300134e-06],\n",
       "        [5.2299511e-02, 9.9936885e-01],\n",
       "        [9.3070365e-02, 9.9900609e-01],\n",
       "        [7.1721026e-03, 9.9989843e-01],\n",
       "        [3.4938278e-03, 9.9983490e-01],\n",
       "        [9.5034748e-01, 7.5596011e-01]], dtype=float32),\n",
       " array([[9.9996364e-01, 5.1122029e-06],\n",
       "        [9.9329585e-01, 1.4161741e-03],\n",
       "        [3.0540395e-01, 4.1818395e-01],\n",
       "        [9.9997509e-01, 1.6963691e-06],\n",
       "        [9.9709547e-01, 5.1743229e-04],\n",
       "        [9.3630934e-01, 2.7550556e-02],\n",
       "        [9.9999988e-01, 1.6200876e-09],\n",
       "        [1.0000000e+00, 9.7644010e-16],\n",
       "        [1.0000000e+00, 7.4242487e-18],\n",
       "        [1.2773259e-01, 8.6742055e-01],\n",
       "        [1.0364136e-01, 8.8587236e-01],\n",
       "        [1.0000000e+00, 4.7000208e-12],\n",
       "        [1.0000000e+00, 9.4443155e-11],\n",
       "        [1.0000000e+00, 1.2642505e-12],\n",
       "        [1.0000000e+00, 2.8586058e-13],\n",
       "        [1.0000000e+00, 3.2596399e-17],\n",
       "        [1.0000000e+00, 1.2256524e-09],\n",
       "        [9.9999988e-01, 6.7083299e-09],\n",
       "        [1.0000000e+00, 1.9660780e-15],\n",
       "        [1.0000000e+00, 1.7860280e-15],\n",
       "        [9.9965107e-01, 4.1981741e-05],\n",
       "        [1.0000000e+00, 8.1991792e-12],\n",
       "        [1.0000000e+00, 1.4034313e-12],\n",
       "        [9.9999988e-01, 5.9985314e-09],\n",
       "        [9.9999976e-01, 8.8029104e-09],\n",
       "        [9.9842358e-01, 2.1498530e-04],\n",
       "        [9.9999940e-01, 4.2203588e-08],\n",
       "        [9.9692374e-01, 5.9630978e-04],\n",
       "        [4.2685841e-08, 1.0000000e+00],\n",
       "        [3.5558599e-01, 6.2223566e-01],\n",
       "        [9.9967182e-01, 6.7990077e-05],\n",
       "        [2.3888597e-02, 9.7081751e-01]], dtype=float32),\n",
       " array([[9.9999976e-01, 1.9434505e-07],\n",
       "        [7.7625245e-01, 1.7822627e-02],\n",
       "        [9.9353552e-01, 3.7401036e-04],\n",
       "        [1.4001329e-03, 9.9540907e-01],\n",
       "        [9.9999070e-01, 3.8748990e-06],\n",
       "        [1.0000000e+00, 1.2575714e-07],\n",
       "        [1.0000000e+00, 6.4003154e-09],\n",
       "        [1.0000000e+00, 4.4660562e-15],\n",
       "        [1.0000000e+00, 3.5742408e-25],\n",
       "        [1.0000000e+00, 1.7476573e-13],\n",
       "        [9.9871147e-01, 3.5196552e-03],\n",
       "        [9.9751174e-01, 4.2152577e-03],\n",
       "        [1.0000000e+00, 4.4993382e-09],\n",
       "        [9.9161303e-01, 1.2538076e-02],\n",
       "        [9.9984002e-01, 5.8645004e-04],\n",
       "        [1.0000000e+00, 5.4080357e-10],\n",
       "        [1.0000000e+00, 6.0209089e-08],\n",
       "        [9.9985659e-01, 8.5174048e-05],\n",
       "        [9.9524587e-01, 3.7352338e-03],\n",
       "        [4.8003370e-01, 5.4754454e-01],\n",
       "        [1.0000000e+00, 1.2973227e-09],\n",
       "        [1.0000000e+00, 7.7557779e-13],\n",
       "        [1.0000000e+00, 2.0367588e-10],\n",
       "        [1.0000000e+00, 4.0947029e-16],\n",
       "        [1.0000000e+00, 7.0077069e-14],\n",
       "        [1.0000000e+00, 2.1327646e-16],\n",
       "        [1.0000000e+00, 2.4507044e-08],\n",
       "        [4.4239846e-01, 6.1502475e-01],\n",
       "        [5.6007642e-01, 8.4825540e-01],\n",
       "        [6.3110769e-01, 6.3504434e-01],\n",
       "        [9.9999809e-01, 3.5179764e-06],\n",
       "        [2.1527071e-02, 9.6958566e-01]], dtype=float32),\n",
       " array([[1.0000000e+00, 3.5892398e-08],\n",
       "        [9.9965942e-01, 5.3748360e-04],\n",
       "        [9.9981230e-01, 9.4670081e-04],\n",
       "        [9.9998713e-01, 2.6042716e-04],\n",
       "        [9.8120016e-01, 1.8904509e-02],\n",
       "        [9.9257880e-01, 1.1263588e-02],\n",
       "        [9.9997890e-01, 2.4833256e-05],\n",
       "        [1.0000000e+00, 9.2146429e-13],\n",
       "        [9.9999833e-01, 3.5404869e-06],\n",
       "        [1.0000000e+00, 8.3965439e-09],\n",
       "        [1.0000000e+00, 5.6918434e-08],\n",
       "        [9.9999917e-01, 3.5785943e-06],\n",
       "        [9.9999988e-01, 3.8314471e-07],\n",
       "        [1.0000000e+00, 2.9380680e-09],\n",
       "        [9.9999952e-01, 6.5460131e-07],\n",
       "        [9.9994302e-01, 1.7230339e-04],\n",
       "        [9.9843794e-01, 2.2939076e-03],\n",
       "        [1.5290807e-03, 9.9699938e-01],\n",
       "        [9.9996388e-01, 2.6571861e-05],\n",
       "        [9.9999988e-01, 1.9527918e-07],\n",
       "        [9.9999368e-01, 1.7560807e-05],\n",
       "        [9.9878269e-01, 2.1067704e-03],\n",
       "        [9.9999905e-01, 2.8361051e-06],\n",
       "        [9.6968305e-01, 2.7134558e-02],\n",
       "        [1.0000000e+00, 1.2996937e-08],\n",
       "        [9.9999809e-01, 2.4812634e-06],\n",
       "        [1.0000000e+00, 7.0355178e-08],\n",
       "        [9.9999750e-01, 1.7437482e-06],\n",
       "        [1.0000000e+00, 2.2877520e-08],\n",
       "        [5.8263104e-02, 9.5644814e-01],\n",
       "        [9.0609853e-07, 9.9999940e-01],\n",
       "        [3.0715657e-02, 9.6684527e-01]], dtype=float32),\n",
       " array([[1.0000000e+00, 6.9132892e-07],\n",
       "        [1.0000000e+00, 1.2916398e-08],\n",
       "        [2.9887600e-04, 9.9997544e-01],\n",
       "        [1.0000000e+00, 4.1452310e-08],\n",
       "        [1.7217238e-01, 9.6928161e-01],\n",
       "        [1.0000000e+00, 4.2086165e-05],\n",
       "        [9.9999750e-01, 3.3471003e-04],\n",
       "        [9.9983621e-01, 2.2787886e-02],\n",
       "        [9.9997997e-01, 1.2823188e-03],\n",
       "        [1.0000000e+00, 3.5972907e-13],\n",
       "        [9.9999523e-01, 1.1440564e-03],\n",
       "        [1.0000000e+00, 2.2735373e-11],\n",
       "        [1.0000000e+00, 5.9121985e-11],\n",
       "        [1.0000000e+00, 1.0551541e-10],\n",
       "        [9.9880254e-01, 2.4655674e-02],\n",
       "        [1.0000000e+00, 9.5584718e-10],\n",
       "        [9.9508202e-01, 2.2938676e-01],\n",
       "        [1.0000000e+00, 2.7126259e-06],\n",
       "        [9.9993253e-01, 1.7884893e-02],\n",
       "        [9.9997520e-01, 5.6843031e-03],\n",
       "        [9.9999535e-01, 1.6830354e-03],\n",
       "        [1.0000000e+00, 7.8183325e-07],\n",
       "        [9.7043252e-01, 3.4162080e-01],\n",
       "        [1.0000000e+00, 3.1875239e-05],\n",
       "        [1.0000000e+00, 5.8009846e-07],\n",
       "        [9.9999976e-01, 5.1643983e-05],\n",
       "        [9.9997807e-01, 3.7894247e-03],\n",
       "        [3.8578545e-03, 9.9991059e-01],\n",
       "        [6.9275284e-01, 9.7822189e-01],\n",
       "        [3.4342257e-03, 9.9995208e-01],\n",
       "        [9.9999917e-01, 6.3961796e-03],\n",
       "        [6.8994761e-02, 9.9731928e-01]], dtype=float32),\n",
       " array([[1.00000000e+00, 6.17000062e-10],\n",
       "        [9.99997497e-01, 3.66254625e-07],\n",
       "        [9.89026248e-01, 7.11151748e-04],\n",
       "        [9.99999881e-01, 9.95362370e-07],\n",
       "        [1.00000000e+00, 1.79673624e-15],\n",
       "        [1.00000000e+00, 4.90065304e-08],\n",
       "        [1.00000000e+00, 8.99393476e-11],\n",
       "        [1.00000000e+00, 4.58680843e-10],\n",
       "        [1.00000000e+00, 1.92784955e-10],\n",
       "        [1.00000000e+00, 7.00877285e-15],\n",
       "        [9.99999166e-01, 3.11484627e-07],\n",
       "        [9.96480286e-01, 7.97321089e-03],\n",
       "        [9.99964595e-01, 2.15015498e-05],\n",
       "        [1.00000000e+00, 3.29468164e-09],\n",
       "        [9.99999046e-01, 1.06298512e-05],\n",
       "        [9.99975801e-01, 1.15003975e-04],\n",
       "        [6.69811189e-01, 6.05385900e-01],\n",
       "        [9.99978900e-01, 3.63840700e-05],\n",
       "        [9.99990821e-01, 2.37372042e-05],\n",
       "        [9.99994636e-01, 5.32969125e-06],\n",
       "        [9.99984026e-01, 1.20254415e-04],\n",
       "        [9.99999881e-01, 4.02026444e-07],\n",
       "        [9.99999046e-01, 6.98143776e-06],\n",
       "        [9.99996901e-01, 1.00052448e-05],\n",
       "        [1.00000000e+00, 2.88931412e-09],\n",
       "        [9.96851265e-01, 4.42685839e-03],\n",
       "        [9.99998093e-01, 6.11799862e-07],\n",
       "        [4.18420918e-02, 9.41957295e-01],\n",
       "        [2.26572946e-01, 4.89502661e-02],\n",
       "        [9.99928713e-01, 4.42640558e-05],\n",
       "        [1.40227548e-05, 9.99975562e-01],\n",
       "        [7.09325122e-03, 9.85608995e-01]], dtype=float32)]"
      ]
     },
     "execution_count": 8,
     "metadata": {},
     "output_type": "execute_result"
    }
   ],
   "source": [
    "y_predict_all"
   ]
  },
  {
   "cell_type": "code",
   "execution_count": 9,
   "metadata": {},
   "outputs": [],
   "source": [
    "y_test_concatenate_list = []\n",
    "y_predict_concatenate_list = []\n",
    "y_predict_filtered_concatenate_list = []"
   ]
  },
  {
   "cell_type": "code",
   "execution_count": 10,
   "metadata": {},
   "outputs": [],
   "source": [
    "for i in range(7):\n",
    "    y_test_concatenate_list.extend(list(y_test_all[i]))\n",
    "    y_predict_concatenate_list.extend(list(y_predict_all[i]))\n",
    "    y_predict_filtered_concatenate_list.extend(list(y_predict_filtered_all[i]))"
   ]
  },
  {
   "cell_type": "code",
   "execution_count": 11,
   "metadata": {},
   "outputs": [
    {
     "data": {
      "text/plain": [
       "(33, 2)"
      ]
     },
     "execution_count": 11,
     "metadata": {},
     "output_type": "execute_result"
    }
   ],
   "source": [
    "y_predict_all[0].shape"
   ]
  },
  {
   "cell_type": "code",
   "execution_count": 12,
   "metadata": {},
   "outputs": [
    {
     "data": {
      "text/plain": [
       "['chr_x', 'chr_x_p22_cnv']"
      ]
     },
     "execution_count": 12,
     "metadata": {},
     "output_type": "execute_result"
    }
   ],
   "source": [
    "label_convert"
   ]
  },
  {
   "cell_type": "code",
   "execution_count": 13,
   "metadata": {},
   "outputs": [
    {
     "data": {
      "text/plain": [
       "225"
      ]
     },
     "execution_count": 13,
     "metadata": {},
     "output_type": "execute_result"
    }
   ],
   "source": [
    "len(y_test_concatenate_list)"
   ]
  },
  {
   "cell_type": "code",
   "execution_count": 14,
   "metadata": {},
   "outputs": [
    {
     "data": {
      "text/plain": [
       "225"
      ]
     },
     "execution_count": 14,
     "metadata": {},
     "output_type": "execute_result"
    }
   ],
   "source": [
    "len(y_predict_filtered_concatenate_list)"
   ]
  },
  {
   "cell_type": "code",
   "execution_count": 15,
   "metadata": {},
   "outputs": [
    {
     "data": {
      "text/plain": [
       "225"
      ]
     },
     "execution_count": 15,
     "metadata": {},
     "output_type": "execute_result"
    }
   ],
   "source": [
    "len(y_predict_concatenate_list)"
   ]
  },
  {
   "cell_type": "markdown",
   "metadata": {},
   "source": [
    "# Classification Report"
   ]
  },
  {
   "cell_type": "markdown",
   "metadata": {},
   "source": [
    "## Accuracy"
   ]
  },
  {
   "cell_type": "code",
   "execution_count": 16,
   "metadata": {},
   "outputs": [
    {
     "name": "stdout",
     "output_type": "stream",
     "text": [
      "Accuracy is  0.9066666666666666\n"
     ]
    }
   ],
   "source": [
    "acc = accuracy_score(y_test_concatenate_list, y_predict_filtered_concatenate_list, normalize=True, sample_weight=None)\n",
    "print('Accuracy is ', acc)"
   ]
  },
  {
   "cell_type": "markdown",
   "metadata": {},
   "source": [
    "## Precision, Recall, and F1"
   ]
  },
  {
   "cell_type": "code",
   "execution_count": 17,
   "metadata": {},
   "outputs": [
    {
     "name": "stdout",
     "output_type": "stream",
     "text": [
      "               precision    recall  f1-score   support\n",
      "\n",
      "        chr_x       0.94      0.95      0.94       189\n",
      "chr_x_p22_cnv       0.71      0.69      0.70        36\n",
      "\n",
      "    micro avg       0.91      0.91      0.91       225\n",
      "    macro avg       0.83      0.82      0.82       225\n",
      " weighted avg       0.91      0.91      0.91       225\n",
      "\n"
     ]
    }
   ],
   "source": [
    "performanceReport = classification_report(y_test_concatenate_list, y_predict_filtered_concatenate_list, \n",
    "                                          target_names=label_convert)\n",
    "\n",
    "\n",
    "print(performanceReport)"
   ]
  },
  {
   "cell_type": "markdown",
   "metadata": {},
   "source": [
    "## Confusion Matrix"
   ]
  },
  {
   "cell_type": "code",
   "execution_count": 18,
   "metadata": {},
   "outputs": [
    {
     "data": {
      "text/html": [
       "<div>\n",
       "<style scoped>\n",
       "    .dataframe tbody tr th:only-of-type {\n",
       "        vertical-align: middle;\n",
       "    }\n",
       "\n",
       "    .dataframe tbody tr th {\n",
       "        vertical-align: top;\n",
       "    }\n",
       "\n",
       "    .dataframe thead th {\n",
       "        text-align: right;\n",
       "    }\n",
       "</style>\n",
       "<table border=\"1\" class=\"dataframe\">\n",
       "  <thead>\n",
       "    <tr style=\"text-align: right;\">\n",
       "      <th></th>\n",
       "      <th>chr_x</th>\n",
       "      <th>chr_x_p22_cnv</th>\n",
       "    </tr>\n",
       "  </thead>\n",
       "  <tbody>\n",
       "    <tr>\n",
       "      <th>chr_x</th>\n",
       "      <td>179</td>\n",
       "      <td>10</td>\n",
       "    </tr>\n",
       "    <tr>\n",
       "      <th>chr_x_p22_cnv</th>\n",
       "      <td>11</td>\n",
       "      <td>25</td>\n",
       "    </tr>\n",
       "  </tbody>\n",
       "</table>\n",
       "</div>"
      ],
      "text/plain": [
       "               chr_x  chr_x_p22_cnv\n",
       "chr_x            179             10\n",
       "chr_x_p22_cnv     11             25"
      ]
     },
     "execution_count": 18,
     "metadata": {},
     "output_type": "execute_result"
    }
   ],
   "source": [
    "cm = np.array(confusion_matrix(y_test_concatenate_list, y_predict_filtered_concatenate_list))\n",
    "confusion = pd.DataFrame(cm, index=label_convert,\n",
    "                        columns=label_convert)\n",
    "confusion.to_csv('ConfusionMatrix_Combination_of_CrossValidation_KaryoType_CNN.csv')\n",
    "confusion"
   ]
  },
  {
   "cell_type": "markdown",
   "metadata": {},
   "source": [
    "### 3.10.4 Rate of Confusion Matrix"
   ]
  },
  {
   "cell_type": "markdown",
   "metadata": {},
   "source": [
    "### 3.10.5 Recall (查全率)，(Sensitivity Rate)"
   ]
  },
  {
   "cell_type": "code",
   "execution_count": 19,
   "metadata": {
    "scrolled": true
   },
   "outputs": [],
   "source": [
    "subtotal = [0] * 2  \n",
    "for item in y_test_concatenate_list:\n",
    "    subtotal[item] = subtotal[item] + 1"
   ]
  },
  {
   "cell_type": "markdown",
   "metadata": {},
   "source": [
    "#### predict number divided by y test"
   ]
  },
  {
   "cell_type": "code",
   "execution_count": 20,
   "metadata": {},
   "outputs": [],
   "source": [
    "cm_r = []\n",
    "for i in range(2):\n",
    "    cm_r.append(cm[i]/subtotal[i])"
   ]
  },
  {
   "cell_type": "code",
   "execution_count": 21,
   "metadata": {},
   "outputs": [
    {
     "data": {
      "text/html": [
       "<div>\n",
       "<style scoped>\n",
       "    .dataframe tbody tr th:only-of-type {\n",
       "        vertical-align: middle;\n",
       "    }\n",
       "\n",
       "    .dataframe tbody tr th {\n",
       "        vertical-align: top;\n",
       "    }\n",
       "\n",
       "    .dataframe thead th {\n",
       "        text-align: right;\n",
       "    }\n",
       "</style>\n",
       "<table border=\"1\" class=\"dataframe\">\n",
       "  <thead>\n",
       "    <tr style=\"text-align: right;\">\n",
       "      <th></th>\n",
       "      <th>chr_x</th>\n",
       "      <th>chr_x_p22_cnv</th>\n",
       "    </tr>\n",
       "  </thead>\n",
       "  <tbody>\n",
       "    <tr>\n",
       "      <th>chr_x</th>\n",
       "      <td>0.947090</td>\n",
       "      <td>0.052910</td>\n",
       "    </tr>\n",
       "    <tr>\n",
       "      <th>chr_x_p22_cnv</th>\n",
       "      <td>0.305556</td>\n",
       "      <td>0.694444</td>\n",
       "    </tr>\n",
       "  </tbody>\n",
       "</table>\n",
       "</div>"
      ],
      "text/plain": [
       "                  chr_x  chr_x_p22_cnv\n",
       "chr_x          0.947090       0.052910\n",
       "chr_x_p22_cnv  0.305556       0.694444"
      ]
     },
     "execution_count": 21,
     "metadata": {},
     "output_type": "execute_result"
    }
   ],
   "source": [
    "confusion_r = pd.DataFrame(cm_r, index=label_convert,\n",
    "                        columns=label_convert)\n",
    "confusion_r.to_csv('ConfusionMatrix_Recall_Integration_CNN.csv')\n",
    "confusion_r"
   ]
  },
  {
   "cell_type": "markdown",
   "metadata": {},
   "source": [
    "### 3.10.6 Precision (查准率）"
   ]
  },
  {
   "cell_type": "code",
   "execution_count": 22,
   "metadata": {},
   "outputs": [],
   "source": [
    "subtotal_predict = [0] * 2 \n",
    "for item in y_predict_filtered_concatenate_list:\n",
    "    subtotal_predict[item] = subtotal_predict[item] + 1"
   ]
  },
  {
   "cell_type": "markdown",
   "metadata": {},
   "source": [
    "#### predict number divided by y predicted"
   ]
  },
  {
   "cell_type": "code",
   "execution_count": 23,
   "metadata": {},
   "outputs": [],
   "source": [
    "cm_p = []\n",
    "for i in range(2):\n",
    "    cm_p.append(cm[:,i]/subtotal_predict[i])"
   ]
  },
  {
   "cell_type": "code",
   "execution_count": 24,
   "metadata": {},
   "outputs": [
    {
     "data": {
      "text/html": [
       "<div>\n",
       "<style scoped>\n",
       "    .dataframe tbody tr th:only-of-type {\n",
       "        vertical-align: middle;\n",
       "    }\n",
       "\n",
       "    .dataframe tbody tr th {\n",
       "        vertical-align: top;\n",
       "    }\n",
       "\n",
       "    .dataframe thead th {\n",
       "        text-align: right;\n",
       "    }\n",
       "</style>\n",
       "<table border=\"1\" class=\"dataframe\">\n",
       "  <thead>\n",
       "    <tr style=\"text-align: right;\">\n",
       "      <th></th>\n",
       "      <th>chr_x</th>\n",
       "      <th>chr_x_p22_cnv</th>\n",
       "    </tr>\n",
       "  </thead>\n",
       "  <tbody>\n",
       "    <tr>\n",
       "      <th>chr_x</th>\n",
       "      <td>0.942105</td>\n",
       "      <td>0.057895</td>\n",
       "    </tr>\n",
       "    <tr>\n",
       "      <th>chr_x_p22_cnv</th>\n",
       "      <td>0.285714</td>\n",
       "      <td>0.714286</td>\n",
       "    </tr>\n",
       "  </tbody>\n",
       "</table>\n",
       "</div>"
      ],
      "text/plain": [
       "                  chr_x  chr_x_p22_cnv\n",
       "chr_x          0.942105       0.057895\n",
       "chr_x_p22_cnv  0.285714       0.714286"
      ]
     },
     "execution_count": 24,
     "metadata": {},
     "output_type": "execute_result"
    }
   ],
   "source": [
    "confusion_p = pd.DataFrame(cm_p, index=label_convert,\n",
    "                        columns=label_convert)\n",
    "confusion_p.to_csv('ConfusionMatrix_Precision_Integration_CNN.csv')\n",
    "confusion_p"
   ]
  },
  {
   "cell_type": "markdown",
   "metadata": {},
   "source": [
    "#### Heat Map: Number"
   ]
  },
  {
   "cell_type": "code",
   "execution_count": 25,
   "metadata": {
    "scrolled": false
   },
   "outputs": [
    {
     "data": {
      "image/png": "[encoded data removed]",
      "text/plain": [
       "<Figure size 2160x1728 with 2 Axes>"
      ]
     },
     "metadata": {
      "needs_background": "light"
     },
     "output_type": "display_data"
    }
   ],
   "source": [
    "plt.figure(figsize=(30, 24))\n",
    "heat_map = sb.heatmap(confusion, annot=True,  # It's a Seaborn function\n",
    "                      cmap='coolwarm', \n",
    "                      xticklabels=confusion.columns, yticklabels=confusion.index, \n",
    "                      linewidths=.5, \n",
    "                      annot_kws={\"size\": 20})\n",
    "sb.set(font_scale = 2)"
   ]
  },
  {
   "cell_type": "markdown",
   "metadata": {},
   "source": [
    "#### Heat Map of Recall: Rate (important!!!)"
   ]
  },
  {
   "cell_type": "code",
   "execution_count": 26,
   "metadata": {
    "scrolled": false
   },
   "outputs": [
    {
     "data": {
      "image/png": "[encoded data removed]",
      "text/plain": [
       "<Figure size 2160x1728 with 2 Axes>"
      ]
     },
     "metadata": {},
     "output_type": "display_data"
    }
   ],
   "source": [
    "plt.figure(figsize=(30, 24))\n",
    "heat_map_r = sb.heatmap(confusion_r, annot=True,  # It's a Seaborn function\n",
    "                      cmap='coolwarm', \n",
    "                      xticklabels=confusion.columns, yticklabels=confusion.index, \n",
    "                      linewidths=1, \n",
    "                      annot_kws={\"size\": 18})\n",
    "sb.set(font_scale = 2)"
   ]
  },
  {
   "cell_type": "code",
   "execution_count": 27,
   "metadata": {},
   "outputs": [
    {
     "data": {
      "image/png": "[encoded data removed]",
      "text/plain": [
       "<Figure size 2160x1728 with 2 Axes>"
      ]
     },
     "metadata": {},
     "output_type": "display_data"
    }
   ],
   "source": [
    "plt.figure(figsize=(30, 24))\n",
    "heat_map_p = sb.heatmap(confusion_p, annot=True,  # It's a Seaborn function\n",
    "                      cmap='coolwarm', \n",
    "                      xticklabels=confusion.columns, yticklabels=confusion.index, \n",
    "                      linewidths=1, \n",
    "                      annot_kws={\"size\": 18})\n",
    "sb.set(font_scale = 2)"
   ]
  },
  {
   "cell_type": "code",
   "execution_count": 28,
   "metadata": {},
   "outputs": [],
   "source": [
    "fig = heat_map.get_figure()    \n",
    "fig.savefig('Heatmap_Combination.png', dpi=400)"
   ]
  },
  {
   "cell_type": "code",
   "execution_count": 29,
   "metadata": {},
   "outputs": [],
   "source": [
    "fig_r = heat_map_r.get_figure()    \n",
    "fig_r.savefig('Heatmap_Recall_Combination.png', dpi=400)"
   ]
  },
  {
   "cell_type": "code",
   "execution_count": 30,
   "metadata": {},
   "outputs": [],
   "source": [
    "fig_p = heat_map_p.get_figure()    \n",
    "fig_p.savefig('Heatmap_Precision_Combination.png', dpi=400)"
   ]
  },
  {
   "cell_type": "markdown",
   "metadata": {},
   "source": [
    "# ROC Curve"
   ]
  },
  {
   "cell_type": "code",
   "execution_count": 31,
   "metadata": {},
   "outputs": [
    {
     "data": {
      "text/plain": [
       "array([[9.99999881e-01, 1.39948879e-08],\n",
       "       [9.99983668e-01, 3.11254666e-06],\n",
       "       [9.99086261e-01, 3.66539229e-04],\n",
       "       [9.99756277e-01, 4.64405966e-05],\n",
       "       [9.98655558e-01, 1.79867740e-04],\n",
       "       [1.00000000e+00, 6.27672149e-14],\n",
       "       [9.99998212e-01, 9.34810700e-08],\n",
       "       [9.99998569e-01, 6.78874201e-08],\n",
       "       [1.00000000e+00, 6.25700811e-11],\n",
       "       [1.00000000e+00, 6.03600672e-19],\n",
       "       [1.00000000e+00, 1.85017158e-11],\n",
       "       [1.00000000e+00, 6.49326123e-24],\n",
       "       [1.00000000e+00, 6.80145857e-15],\n",
       "       [9.99999642e-01, 4.98608266e-09],\n",
       "       [1.00000000e+00, 1.13960759e-11],\n",
       "       [9.99999285e-01, 5.34183471e-08],\n",
       "       [1.00000000e+00, 1.74777076e-13],\n",
       "       [9.99999881e-01, 1.01777353e-09],\n",
       "       [1.00000000e+00, 5.17267895e-11],\n",
       "       [1.00000000e+00, 2.41545887e-15],\n",
       "       [1.00000000e+00, 1.86341319e-15],\n",
       "       [1.00000000e+00, 6.17833840e-10],\n",
       "       [9.98054981e-01, 2.99636304e-04],\n",
       "       [9.99946237e-01, 1.80307529e-06],\n",
       "       [9.99999285e-01, 1.92211633e-08],\n",
       "       [1.00000000e+00, 1.99812625e-10],\n",
       "       [9.99999762e-01, 6.80216727e-09],\n",
       "       [5.61772380e-04, 9.99728501e-01],\n",
       "       [9.99999046e-01, 6.55247305e-08],\n",
       "       [1.57216080e-02, 9.88107860e-01],\n",
       "       [7.63560412e-04, 9.99634743e-01],\n",
       "       [2.84155235e-02, 9.86008108e-01],\n",
       "       [9.99985814e-01, 3.45390561e-07],\n",
       "       [9.99991179e-01, 5.97951410e-04],\n",
       "       [1.00000000e+00, 6.17941558e-16],\n",
       "       [1.00000000e+00, 8.54735935e-11],\n",
       "       [1.00000000e+00, 1.63116752e-07],\n",
       "       [9.99951363e-01, 2.96448474e-04],\n",
       "       [1.00000000e+00, 3.72132547e-10],\n",
       "       [9.99804437e-01, 1.33420900e-03],\n",
       "       [1.00000000e+00, 8.94145639e-19],\n",
       "       [9.99985814e-01, 5.73617173e-04],\n",
       "       [1.00000000e+00, 4.25490176e-09],\n",
       "       [9.98333037e-01, 5.83206769e-03],\n",
       "       [7.60815978e-01, 9.09356594e-01],\n",
       "       [9.96113539e-01, 5.11222966e-02],\n",
       "       [1.00000000e+00, 2.93712971e-11],\n",
       "       [9.99970436e-01, 2.12998799e-04],\n",
       "       [1.00000000e+00, 2.04062767e-10],\n",
       "       [1.00000000e+00, 1.86946338e-07],\n",
       "       [9.99999881e-01, 2.61339596e-06],\n",
       "       [1.00000000e+00, 3.84125912e-07],\n",
       "       [9.99999762e-01, 5.08532366e-07],\n",
       "       [9.99999762e-01, 3.49988636e-06],\n",
       "       [9.99998450e-01, 3.83336701e-05],\n",
       "       [9.99996781e-01, 4.39987089e-05],\n",
       "       [9.99890566e-01, 3.93657573e-03],\n",
       "       [1.00000000e+00, 4.36113895e-10],\n",
       "       [7.66898990e-01, 9.14513588e-01],\n",
       "       [9.99998212e-01, 2.43001341e-06],\n",
       "       [5.22995107e-02, 9.99368846e-01],\n",
       "       [9.30703655e-02, 9.99006093e-01],\n",
       "       [7.17210257e-03, 9.99898434e-01],\n",
       "       [3.49382777e-03, 9.99834895e-01],\n",
       "       [9.50347483e-01, 7.55960107e-01],\n",
       "       [9.99963641e-01, 5.11220287e-06],\n",
       "       [9.93295848e-01, 1.41617411e-03],\n",
       "       [3.05403948e-01, 4.18183953e-01],\n",
       "       [9.99975085e-01, 1.69636905e-06],\n",
       "       [9.97095466e-01, 5.17432287e-04],\n",
       "       [9.36309338e-01, 2.75505558e-02],\n",
       "       [9.99999881e-01, 1.62008762e-09],\n",
       "       [1.00000000e+00, 9.76440100e-16],\n",
       "       [1.00000000e+00, 7.42424875e-18],\n",
       "       [1.27732590e-01, 8.67420554e-01],\n",
       "       [1.03641361e-01, 8.85872364e-01],\n",
       "       [1.00000000e+00, 4.70002075e-12],\n",
       "       [1.00000000e+00, 9.44431547e-11],\n",
       "       [1.00000000e+00, 1.26425053e-12],\n",
       "       [1.00000000e+00, 2.85860582e-13],\n",
       "       [1.00000000e+00, 3.25963987e-17],\n",
       "       [1.00000000e+00, 1.22565236e-09],\n",
       "       [9.99999881e-01, 6.70832989e-09],\n",
       "       [1.00000000e+00, 1.96607803e-15],\n",
       "       [1.00000000e+00, 1.78602805e-15],\n",
       "       [9.99651074e-01, 4.19817407e-05],\n",
       "       [1.00000000e+00, 8.19917918e-12],\n",
       "       [1.00000000e+00, 1.40343130e-12],\n",
       "       [9.99999881e-01, 5.99853145e-09],\n",
       "       [9.99999762e-01, 8.80291040e-09],\n",
       "       [9.98423576e-01, 2.14985295e-04],\n",
       "       [9.99999404e-01, 4.22035882e-08],\n",
       "       [9.96923745e-01, 5.96309779e-04],\n",
       "       [4.26858406e-08, 1.00000000e+00],\n",
       "       [3.55585992e-01, 6.22235656e-01],\n",
       "       [9.99671817e-01, 6.79900768e-05],\n",
       "       [2.38885973e-02, 9.70817506e-01],\n",
       "       [9.99999762e-01, 1.94345048e-07],\n",
       "       [7.76252449e-01, 1.78226270e-02],\n",
       "       [9.93535519e-01, 3.74010357e-04],\n",
       "       [1.40013290e-03, 9.95409071e-01],\n",
       "       [9.99990702e-01, 3.87489899e-06],\n",
       "       [1.00000000e+00, 1.25757140e-07],\n",
       "       [1.00000000e+00, 6.40031539e-09],\n",
       "       [1.00000000e+00, 4.46605618e-15],\n",
       "       [1.00000000e+00, 3.57424075e-25],\n",
       "       [1.00000000e+00, 1.74765733e-13],\n",
       "       [9.98711467e-01, 3.51965521e-03],\n",
       "       [9.97511744e-01, 4.21525771e-03],\n",
       "       [1.00000000e+00, 4.49933824e-09],\n",
       "       [9.91613030e-01, 1.25380764e-02],\n",
       "       [9.99840021e-01, 5.86450042e-04],\n",
       "       [1.00000000e+00, 5.40803569e-10],\n",
       "       [1.00000000e+00, 6.02090893e-08],\n",
       "       [9.99856591e-01, 8.51740479e-05],\n",
       "       [9.95245874e-01, 3.73523380e-03],\n",
       "       [4.80033696e-01, 5.47544539e-01],\n",
       "       [1.00000000e+00, 1.29732269e-09],\n",
       "       [1.00000000e+00, 7.75577790e-13],\n",
       "       [1.00000000e+00, 2.03675882e-10],\n",
       "       [1.00000000e+00, 4.09470285e-16],\n",
       "       [1.00000000e+00, 7.00770686e-14],\n",
       "       [1.00000000e+00, 2.13276464e-16],\n",
       "       [1.00000000e+00, 2.45070435e-08],\n",
       "       [4.42398459e-01, 6.15024745e-01],\n",
       "       [5.60076416e-01, 8.48255396e-01],\n",
       "       [6.31107688e-01, 6.35044336e-01],\n",
       "       [9.99998093e-01, 3.51797644e-06],\n",
       "       [2.15270706e-02, 9.69585657e-01],\n",
       "       [1.00000000e+00, 3.58923984e-08],\n",
       "       [9.99659419e-01, 5.37483604e-04],\n",
       "       [9.99812305e-01, 9.46700806e-04],\n",
       "       [9.99987125e-01, 2.60427158e-04],\n",
       "       [9.81200159e-01, 1.89045090e-02],\n",
       "       [9.92578804e-01, 1.12635884e-02],\n",
       "       [9.99978900e-01, 2.48332562e-05],\n",
       "       [1.00000000e+00, 9.21464294e-13],\n",
       "       [9.99998331e-01, 3.54048689e-06],\n",
       "       [1.00000000e+00, 8.39654390e-09],\n",
       "       [1.00000000e+00, 5.69184344e-08],\n",
       "       [9.99999166e-01, 3.57859426e-06],\n",
       "       [9.99999881e-01, 3.83144709e-07],\n",
       "       [1.00000000e+00, 2.93806801e-09],\n",
       "       [9.99999523e-01, 6.54601308e-07],\n",
       "       [9.99943018e-01, 1.72303393e-04],\n",
       "       [9.98437941e-01, 2.29390757e-03],\n",
       "       [1.52908068e-03, 9.96999383e-01],\n",
       "       [9.99963880e-01, 2.65718609e-05],\n",
       "       [9.99999881e-01, 1.95279185e-07],\n",
       "       [9.99993682e-01, 1.75608075e-05],\n",
       "       [9.98782694e-01, 2.10677041e-03],\n",
       "       [9.99999046e-01, 2.83610507e-06],\n",
       "       [9.69683051e-01, 2.71345582e-02],\n",
       "       [1.00000000e+00, 1.29969369e-08],\n",
       "       [9.99998093e-01, 2.48126344e-06],\n",
       "       [1.00000000e+00, 7.03551777e-08],\n",
       "       [9.99997497e-01, 1.74374816e-06],\n",
       "       [1.00000000e+00, 2.28775203e-08],\n",
       "       [5.82631044e-02, 9.56448138e-01],\n",
       "       [9.06098535e-07, 9.99999404e-01],\n",
       "       [3.07156574e-02, 9.66845274e-01],\n",
       "       [1.00000000e+00, 6.91328921e-07],\n",
       "       [1.00000000e+00, 1.29163977e-08],\n",
       "       [2.98875995e-04, 9.99975443e-01],\n",
       "       [1.00000000e+00, 4.14523100e-08],\n",
       "       [1.72172382e-01, 9.69281614e-01],\n",
       "       [1.00000000e+00, 4.20861652e-05],\n",
       "       [9.99997497e-01, 3.34710028e-04],\n",
       "       [9.99836206e-01, 2.27878857e-02],\n",
       "       [9.99979973e-01, 1.28231884e-03],\n",
       "       [1.00000000e+00, 3.59729065e-13],\n",
       "       [9.99995232e-01, 1.14405644e-03],\n",
       "       [1.00000000e+00, 2.27353726e-11],\n",
       "       [1.00000000e+00, 5.91219851e-11],\n",
       "       [1.00000000e+00, 1.05515409e-10],\n",
       "       [9.98802543e-01, 2.46556737e-02],\n",
       "       [1.00000000e+00, 9.55847179e-10],\n",
       "       [9.95082021e-01, 2.29386762e-01],\n",
       "       [1.00000000e+00, 2.71262593e-06],\n",
       "       [9.99932528e-01, 1.78848933e-02],\n",
       "       [9.99975204e-01, 5.68430312e-03],\n",
       "       [9.99995351e-01, 1.68303540e-03],\n",
       "       [1.00000000e+00, 7.81833251e-07],\n",
       "       [9.70432520e-01, 3.41620803e-01],\n",
       "       [1.00000000e+00, 3.18752391e-05],\n",
       "       [1.00000000e+00, 5.80098458e-07],\n",
       "       [9.99999762e-01, 5.16439832e-05],\n",
       "       [9.99978065e-01, 3.78942466e-03],\n",
       "       [3.85785452e-03, 9.99910593e-01],\n",
       "       [6.92752838e-01, 9.78221893e-01],\n",
       "       [3.43422568e-03, 9.99952078e-01],\n",
       "       [9.99999166e-01, 6.39617955e-03],\n",
       "       [6.89947605e-02, 9.97319281e-01],\n",
       "       [1.00000000e+00, 6.17000062e-10],\n",
       "       [9.99997497e-01, 3.66254625e-07],\n",
       "       [9.89026248e-01, 7.11151748e-04],\n",
       "       [9.99999881e-01, 9.95362370e-07],\n",
       "       [1.00000000e+00, 1.79673624e-15],\n",
       "       [1.00000000e+00, 4.90065304e-08],\n",
       "       [1.00000000e+00, 8.99393476e-11],\n",
       "       [1.00000000e+00, 4.58680843e-10],\n",
       "       [1.00000000e+00, 1.92784955e-10],\n",
       "       [1.00000000e+00, 7.00877285e-15],\n",
       "       [9.99999166e-01, 3.11484627e-07],\n",
       "       [9.96480286e-01, 7.97321089e-03],\n",
       "       [9.99964595e-01, 2.15015498e-05],\n",
       "       [1.00000000e+00, 3.29468164e-09],\n",
       "       [9.99999046e-01, 1.06298512e-05],\n",
       "       [9.99975801e-01, 1.15003975e-04],\n",
       "       [6.69811189e-01, 6.05385900e-01],\n",
       "       [9.99978900e-01, 3.63840700e-05],\n",
       "       [9.99990821e-01, 2.37372042e-05],\n",
       "       [9.99994636e-01, 5.32969125e-06],\n",
       "       [9.99984026e-01, 1.20254415e-04],\n",
       "       [9.99999881e-01, 4.02026444e-07],\n",
       "       [9.99999046e-01, 6.98143776e-06],\n",
       "       [9.99996901e-01, 1.00052448e-05],\n",
       "       [1.00000000e+00, 2.88931412e-09],\n",
       "       [9.96851265e-01, 4.42685839e-03],\n",
       "       [9.99998093e-01, 6.11799862e-07],\n",
       "       [4.18420918e-02, 9.41957295e-01],\n",
       "       [2.26572946e-01, 4.89502661e-02],\n",
       "       [9.99928713e-01, 4.42640558e-05],\n",
       "       [1.40227548e-05, 9.99975562e-01],\n",
       "       [7.09325122e-03, 9.85608995e-01]], dtype=float32)"
      ]
     },
     "execution_count": 31,
     "metadata": {},
     "output_type": "execute_result"
    }
   ],
   "source": [
    "y_predict_concatenate_array = np.array(y_predict_concatenate_list)\n",
    "y_predict_concatenate_array"
   ]
  },
  {
   "cell_type": "code",
   "execution_count": 32,
   "metadata": {},
   "outputs": [
    {
     "data": {
      "text/plain": [
       "(225, 2)"
      ]
     },
     "execution_count": 32,
     "metadata": {},
     "output_type": "execute_result"
    }
   ],
   "source": [
    "y_predict_concatenate_array.shape"
   ]
  },
  {
   "cell_type": "code",
   "execution_count": 33,
   "metadata": {},
   "outputs": [],
   "source": [
    "y_predict_1D = y_predict_concatenate_array[:,0]"
   ]
  },
  {
   "cell_type": "code",
   "execution_count": 34,
   "metadata": {},
   "outputs": [],
   "source": [
    "y_predict_1D_processed = 1- y_predict_1D"
   ]
  },
  {
   "cell_type": "code",
   "execution_count": 35,
   "metadata": {},
   "outputs": [],
   "source": [
    "fpr , tpr , thresholds = roc_curve(y_test_concatenate_list , y_predict_1D_processed)\n",
    "auc_rf = auc(fpr, tpr)"
   ]
  },
  {
   "cell_type": "code",
   "execution_count": 36,
   "metadata": {},
   "outputs": [
    {
     "data": {
      "text/plain": [
       "0.8894767783656672"
      ]
     },
     "execution_count": 36,
     "metadata": {},
     "output_type": "execute_result"
    }
   ],
   "source": [
    "auc_rf"
   ]
  },
  {
   "cell_type": "code",
   "execution_count": 37,
   "metadata": {},
   "outputs": [],
   "source": [
    "x = y = np.arange(0, 1.1, 0.1)"
   ]
  },
  {
   "cell_type": "code",
   "execution_count": 38,
   "metadata": {},
   "outputs": [
    {
     "data": {
      "text/plain": [
       "array([0. , 0.1, 0.2, 0.3, 0.4, 0.5, 0.6, 0.7, 0.8, 0.9, 1. ])"
      ]
     },
     "execution_count": 38,
     "metadata": {},
     "output_type": "execute_result"
    }
   ],
   "source": [
    "x"
   ]
  },
  {
   "cell_type": "code",
   "execution_count": 39,
   "metadata": {
    "scrolled": true
   },
   "outputs": [
    {
     "data": {
      "image/png": "[encoded data removed]",
      "text/plain": [
       "<Figure size 432x288 with 1 Axes>"
      ]
     },
     "metadata": {},
     "output_type": "display_data"
    }
   ],
   "source": [
    "fig = plt.figure()\n",
    "plt.style.use('classic')\n",
    "\n",
    "ax = fig.add_subplot(111)\n",
    "\n",
    "plt.plot(fpr, tpr, color='blue', linewidth=0.9)\n",
    "\n",
    "plt.plot(x, y, '--', color='black', linewidth=0.8)\n",
    "\n",
    "plt.title('ROC curve of Chr X p22 CNV', fontsize=12, fontname = 'Times New Roman')\n",
    "\n",
    "plt.xlabel('False Positive Rate', fontsize=11, fontname = 'Times New Roman')\n",
    "plt.ylabel('True positive Rate', fontsize=11, fontname = 'Times New Roman')\n",
    "\n",
    "ax.set_aspect('equal', adjustable='box')\n",
    "\n",
    "plt.xlim(-0.08, 1.1)\n",
    "plt.ylim(-0.08, 1.1)\n",
    "\n",
    "plt.xticks(fontsize=9, fontname = 'Arial')\n",
    "plt.yticks(fontsize=9, fontname = 'Arial')\n",
    "\n",
    "plt.savefig('ROC_Curve_Combination.png', dpi=400)\n",
    "plt.show()"
   ]
  },
  {
   "cell_type": "markdown",
   "metadata": {},
   "source": [
    "#### 3.10.4.1 AUC Value"
   ]
  },
  {
   "cell_type": "code",
   "execution_count": 40,
   "metadata": {},
   "outputs": [],
   "source": [
    "auc_value = auc(fpr, tpr)"
   ]
  },
  {
   "cell_type": "code",
   "execution_count": 41,
   "metadata": {},
   "outputs": [
    {
     "name": "stdout",
     "output_type": "stream",
     "text": [
      "AUC is  0.8894767783656672\n"
     ]
    }
   ],
   "source": [
    "print('AUC is ', auc_value)"
   ]
  },
  {
   "cell_type": "markdown",
   "metadata": {},
   "source": [
    "# Results"
   ]
  },
  {
   "cell_type": "code",
   "execution_count": 42,
   "metadata": {},
   "outputs": [
    {
     "name": "stdout",
     "output_type": "stream",
     "text": [
      "Test Accuracy: 0.907\n"
     ]
    }
   ],
   "source": [
    "print('Test Accuracy: %.3f' % acc)"
   ]
  },
  {
   "cell_type": "code",
   "execution_count": 43,
   "metadata": {
    "scrolled": true
   },
   "outputs": [
    {
     "name": "stdout",
     "output_type": "stream",
     "text": [
      "               precision    recall  f1-score   support\n",
      "\n",
      "        chr_x       0.94      0.95      0.94       189\n",
      "chr_x_p22_cnv       0.71      0.69      0.70        36\n",
      "\n",
      "    micro avg       0.91      0.91      0.91       225\n",
      "    macro avg       0.83      0.82      0.82       225\n",
      " weighted avg       0.91      0.91      0.91       225\n",
      "\n"
     ]
    }
   ],
   "source": [
    "print(performanceReport)"
   ]
  },
  {
   "cell_type": "code",
   "execution_count": 44,
   "metadata": {},
   "outputs": [
    {
     "data": {
      "text/plain": [
       "str"
      ]
     },
     "execution_count": 44,
     "metadata": {},
     "output_type": "execute_result"
    }
   ],
   "source": [
    "type(performanceReport)"
   ]
  },
  {
   "cell_type": "code",
   "execution_count": 45,
   "metadata": {},
   "outputs": [
    {
     "name": "stdout",
     "output_type": "stream",
     "text": [
      "AUC is  0.8894767783656672\n"
     ]
    }
   ],
   "source": [
    "print('AUC is ', auc_value)"
   ]
  },
  {
   "cell_type": "markdown",
   "metadata": {},
   "source": [
    "## Export to a text file"
   ]
  },
  {
   "cell_type": "code",
   "execution_count": 46,
   "metadata": {},
   "outputs": [],
   "source": [
    "file_report = open('ResultsCombination.txt', 'w')\n",
    "file_report.write('Accuracy: %s\\n\\n' % acc)\n",
    "file_report.write('AUC: %s.\\n\\n' % auc_value)\n",
    "file_report.write('Performance Report: \\n%s\\n\\n' % performanceReport)\n",
    "file_report.write('Confusion Matrix: \\n%s.\\n\\n' % confusion)\n",
    "file_report.write('Recall of Confusion Matrix: \\n%s.\\n\\n' % confusion_r)\n",
    "file_report.write('Precision of Confusion Matrix: \\n%s.\\n\\n' % confusion_p)\n",
    "file_report.close()"
   ]
  }
 ],
 "metadata": {
  "kernelspec": {
   "display_name": "Python 3",
   "language": "python",
   "name": "python3"
  },
  "language_info": {
   "codemirror_mode": {
    "name": "ipython",
    "version": 3
   },
   "file_extension": ".py",
   "mimetype": "text/x-python",
   "name": "python",
   "nbconvert_exporter": "python",
   "pygments_lexer": "ipython3",
   "version": "3.7.3"
  }
 },
 "nbformat": 4,
 "nbformat_minor": 2
}
