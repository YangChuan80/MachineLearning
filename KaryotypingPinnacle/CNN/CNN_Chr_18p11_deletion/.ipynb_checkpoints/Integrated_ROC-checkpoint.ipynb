{
 "cells": [
  {
   "cell_type": "code",
   "execution_count": 1,
   "metadata": {},
   "outputs": [],
   "source": [
    "import numpy as np\n",
    "import pandas as pd\n",
    "import matplotlib.pyplot as plt\n",
    "\n",
    "from sklearn.metrics import classification_report, confusion_matrix, roc_curve, auc, accuracy_score\n",
    "\n",
    "import seaborn as sb"
   ]
  },
  {
   "cell_type": "code",
   "execution_count": 2,
   "metadata": {},
   "outputs": [],
   "source": [
    "chromConvert = {\n",
    "               'chr_18': 0, \n",
    "               'chr_18_p11_deletion': 1\n",
    "               }"
   ]
  },
  {
   "cell_type": "code",
   "execution_count": 3,
   "metadata": {},
   "outputs": [],
   "source": [
    "chromConvert_reverse = {\n",
    "                0: 'chr_18',\n",
    "                1: 'chr_18_p11_deletion'\n",
    "               }"
   ]
  },
  {
   "cell_type": "code",
   "execution_count": 4,
   "metadata": {},
   "outputs": [],
   "source": [
    "label = ['chr_18', 'chr_18_p11_deletion']\n",
    "\n",
    "label_convert = []\n",
    "\n",
    "for i in range(2):\n",
    "    label_convert.append(chromConvert_reverse[i])"
   ]
  },
  {
   "cell_type": "markdown",
   "metadata": {},
   "source": [
    "# Load test and predict values"
   ]
  },
  {
   "cell_type": "code",
   "execution_count": 5,
   "metadata": {},
   "outputs": [],
   "source": [
    "y_test_all = []\n",
    "y_predict_all = []\n",
    "y_predict_filtered_all = []"
   ]
  },
  {
   "cell_type": "code",
   "execution_count": 6,
   "metadata": {},
   "outputs": [],
   "source": [
    "for iterationNumber in range(7):\n",
    "    with open('data_y_test_value_iteration_' + str(iterationNumber) + '.npy', 'rb') as f_y_test:\n",
    "        y_test_all.append(np.load(f_y_test))\n",
    "        \n",
    "    with open('data_y_predict_value_iteration_' + str(iterationNumber) + '.npy', 'rb') as f_y_predict:\n",
    "        y_predict_all.append(np.load(f_y_predict))                             \n",
    "                        \n",
    "    with open('data_y_predict_filtered_value_iteration_' + str(iterationNumber) + '.npy', 'rb') as f_y_predict_filtered:\n",
    "        y_predict_filtered_all.append(np.load(f_y_predict_filtered))"
   ]
  },
  {
   "cell_type": "code",
   "execution_count": 7,
   "metadata": {},
   "outputs": [
    {
     "data": {
      "text/plain": [
       "(37, 2)"
      ]
     },
     "execution_count": 7,
     "metadata": {},
     "output_type": "execute_result"
    }
   ],
   "source": [
    "y_predict_all[0].shape"
   ]
  },
  {
   "cell_type": "code",
   "execution_count": 8,
   "metadata": {
    "scrolled": true
   },
   "outputs": [
    {
     "data": {
      "text/plain": [
       "[array([[1.0000000e+00, 7.6423561e-09],\n",
       "        [1.0000000e+00, 1.2593979e-13],\n",
       "        [9.8733437e-01, 9.9365590e-03],\n",
       "        [9.9999332e-01, 2.7388255e-06],\n",
       "        [1.0000000e+00, 3.0100176e-11],\n",
       "        [9.6250629e-01, 2.5520314e-02],\n",
       "        [9.9991620e-01, 3.6489881e-05],\n",
       "        [1.0000000e+00, 1.1548579e-09],\n",
       "        [1.0000000e+00, 9.0724690e-18],\n",
       "        [9.9999964e-01, 9.1135291e-07],\n",
       "        [1.0000000e+00, 4.4747361e-15],\n",
       "        [1.0000000e+00, 3.0641337e-10],\n",
       "        [9.9220604e-01, 5.1638591e-03],\n",
       "        [9.9999547e-01, 5.2819805e-06],\n",
       "        [9.9999988e-01, 2.3629163e-07],\n",
       "        [4.1328854e-05, 9.9964714e-01],\n",
       "        [1.0000000e+00, 2.5752053e-10],\n",
       "        [1.0000000e+00, 3.8809440e-09],\n",
       "        [9.9931240e-01, 5.6766404e-04],\n",
       "        [9.9993312e-01, 4.1871273e-05],\n",
       "        [1.0000000e+00, 3.1158066e-11],\n",
       "        [9.8917985e-01, 7.7520884e-03],\n",
       "        [1.0000000e+00, 2.1953789e-10],\n",
       "        [1.0000000e+00, 7.2733869e-08],\n",
       "        [9.9999654e-01, 3.4098282e-06],\n",
       "        [1.0000000e+00, 6.2828600e-16],\n",
       "        [2.5747913e-06, 9.9995422e-01],\n",
       "        [1.0000000e+00, 1.8904878e-08],\n",
       "        [1.2810804e-03, 9.9428141e-01],\n",
       "        [9.9999154e-01, 8.1963772e-06],\n",
       "        [1.4162496e-01, 7.2416234e-01],\n",
       "        [2.1426320e-02, 9.3486643e-01],\n",
       "        [2.6262451e-03, 9.8906612e-01],\n",
       "        [1.2153192e-04, 9.9874264e-01],\n",
       "        [5.5605619e-06, 9.9994862e-01],\n",
       "        [9.5961016e-01, 4.3446410e-02],\n",
       "        [8.6208070e-03, 9.7582269e-01]], dtype=float32),\n",
       " array([[9.99903083e-01, 3.19641258e-05],\n",
       "        [9.99996305e-01, 8.63528328e-07],\n",
       "        [5.31874776e-01, 4.57457781e-01],\n",
       "        [9.99052823e-01, 4.52946231e-04],\n",
       "        [9.99999762e-01, 4.07321288e-08],\n",
       "        [1.62577465e-01, 7.99588323e-01],\n",
       "        [9.99999523e-01, 5.94987775e-08],\n",
       "        [9.99987364e-01, 3.32660807e-06],\n",
       "        [1.38135348e-03, 9.98836458e-01],\n",
       "        [8.18615615e-01, 1.38688534e-01],\n",
       "        [8.73249352e-01, 7.75557384e-02],\n",
       "        [9.94105697e-01, 3.52131925e-03],\n",
       "        [4.96419609e-01, 4.40706670e-01],\n",
       "        [9.99986529e-01, 3.62728179e-06],\n",
       "        [9.99999404e-01, 9.66775957e-08],\n",
       "        [9.92966175e-01, 2.94372486e-03],\n",
       "        [9.99999404e-01, 1.10016373e-07],\n",
       "        [9.99990225e-01, 3.11566509e-06],\n",
       "        [1.00000000e+00, 2.72981948e-09],\n",
       "        [9.76549387e-01, 8.38861614e-03],\n",
       "        [9.99993324e-01, 1.27750229e-06],\n",
       "        [9.99963045e-01, 8.89174134e-06],\n",
       "        [9.99873281e-01, 4.01939942e-05],\n",
       "        [1.59265213e-02, 9.83460784e-01],\n",
       "        [9.96916175e-01, 1.11107063e-03],\n",
       "        [7.89338897e-04, 9.99367654e-01],\n",
       "        [4.42027897e-01, 4.85026896e-01],\n",
       "        [3.45121354e-01, 5.03295541e-01],\n",
       "        [2.84892440e-06, 9.99998331e-01],\n",
       "        [9.59595563e-05, 9.99934793e-01],\n",
       "        [9.01770964e-03, 9.90853906e-01],\n",
       "        [9.14216855e-07, 9.99999642e-01],\n",
       "        [1.52304965e-05, 9.99991298e-01],\n",
       "        [6.43060484e-05, 9.99963999e-01],\n",
       "        [9.04486660e-06, 9.99994755e-01],\n",
       "        [1.41562459e-05, 9.99994040e-01]], dtype=float32),\n",
       " array([[3.3732715e-01, 8.5370183e-01],\n",
       "        [1.0000000e+00, 1.0118492e-08],\n",
       "        [9.9999952e-01, 3.6090184e-06],\n",
       "        [9.9148554e-01, 2.4285017e-02],\n",
       "        [9.9712211e-01, 5.0656400e-03],\n",
       "        [8.9926267e-01, 1.9360138e-01],\n",
       "        [9.7187322e-01, 5.0224256e-02],\n",
       "        [1.2531087e-01, 9.7333443e-01],\n",
       "        [1.0000000e+00, 8.5491690e-11],\n",
       "        [9.9295419e-01, 2.4527235e-02],\n",
       "        [9.9686819e-01, 2.9210686e-03],\n",
       "        [9.9992573e-01, 2.0098212e-04],\n",
       "        [9.9999118e-01, 2.1280299e-05],\n",
       "        [1.0000000e+00, 2.8458815e-09],\n",
       "        [9.9999475e-01, 1.9191571e-05],\n",
       "        [1.0000000e+00, 5.7236749e-09],\n",
       "        [9.9999046e-01, 2.9749755e-05],\n",
       "        [1.0000000e+00, 6.1196382e-14],\n",
       "        [9.9999976e-01, 9.9677106e-07],\n",
       "        [9.3064964e-01, 1.3240121e-01],\n",
       "        [9.9999988e-01, 2.3621368e-07],\n",
       "        [9.9998415e-01, 4.3227919e-05],\n",
       "        [9.9284053e-01, 1.8191187e-02],\n",
       "        [9.9824822e-01, 6.2803868e-03],\n",
       "        [9.9998403e-01, 5.3082520e-05],\n",
       "        [8.6813823e-05, 9.9997890e-01],\n",
       "        [4.4644959e-05, 9.9996948e-01],\n",
       "        [3.1069041e-05, 9.9999297e-01],\n",
       "        [1.6310154e-03, 9.9871290e-01],\n",
       "        [3.7418918e-06, 9.9999845e-01],\n",
       "        [1.4004762e-06, 9.9999940e-01],\n",
       "        [2.3545521e-05, 9.9998355e-01],\n",
       "        [1.3691239e-04, 9.9994695e-01],\n",
       "        [2.2756995e-03, 9.9876815e-01],\n",
       "        [2.4841311e-03, 9.9803811e-01],\n",
       "        [9.8153652e-11, 1.0000000e+00]], dtype=float32),\n",
       " array([[1.0000000e+00, 5.5115916e-12],\n",
       "        [9.9999917e-01, 1.3669705e-08],\n",
       "        [1.0000000e+00, 9.7883923e-10],\n",
       "        [1.0000000e+00, 4.6753934e-10],\n",
       "        [1.0000000e+00, 1.0289245e-09],\n",
       "        [9.9741119e-01, 9.3403251e-05],\n",
       "        [1.0000000e+00, 1.7667178e-09],\n",
       "        [9.9995708e-01, 1.7092142e-06],\n",
       "        [1.0000000e+00, 6.5947021e-19],\n",
       "        [9.9999940e-01, 9.7817905e-09],\n",
       "        [4.6800798e-01, 1.2014290e-01],\n",
       "        [9.8746955e-01, 3.5173103e-04],\n",
       "        [8.8734055e-01, 1.1577215e-02],\n",
       "        [9.9999988e-01, 3.9566128e-09],\n",
       "        [9.1323620e-01, 8.0673620e-03],\n",
       "        [9.9999988e-01, 6.6299859e-09],\n",
       "        [9.9999988e-01, 2.0915097e-08],\n",
       "        [9.9999976e-01, 1.7583814e-08],\n",
       "        [1.0000000e+00, 2.6131133e-12],\n",
       "        [9.9999952e-01, 4.1384379e-08],\n",
       "        [9.9999976e-01, 2.7695323e-08],\n",
       "        [7.7598590e-01, 3.6556996e-02],\n",
       "        [1.0000000e+00, 1.3135086e-10],\n",
       "        [9.9999988e-01, 2.0198044e-08],\n",
       "        [6.2347889e-02, 8.0020535e-01],\n",
       "        [1.0443182e-06, 9.9937242e-01],\n",
       "        [9.8317980e-07, 9.9997234e-01],\n",
       "        [9.9924785e-01, 7.2468807e-05],\n",
       "        [9.9625224e-01, 1.7067233e-04],\n",
       "        [9.9999964e-01, 2.3284063e-08],\n",
       "        [2.2089393e-06, 9.9993241e-01],\n",
       "        [7.1115755e-07, 9.9999106e-01],\n",
       "        [8.8277966e-07, 9.9998939e-01],\n",
       "        [8.0323443e-06, 9.9994850e-01],\n",
       "        [1.4220937e-05, 9.9967098e-01],\n",
       "        [1.7533482e-06, 9.9998617e-01]], dtype=float32),\n",
       " array([[9.9993873e-01, 7.7947194e-04],\n",
       "        [9.9999988e-01, 1.9431072e-06],\n",
       "        [9.9999881e-01, 4.5286743e-05],\n",
       "        [1.0000000e+00, 8.2162967e-07],\n",
       "        [9.9999976e-01, 1.9574378e-05],\n",
       "        [9.9857974e-01, 1.9243032e-02],\n",
       "        [1.0000000e+00, 1.8779029e-07],\n",
       "        [1.0000000e+00, 4.0605423e-07],\n",
       "        [9.9997127e-01, 9.3412644e-04],\n",
       "        [9.9998927e-01, 3.8338426e-04],\n",
       "        [1.0000000e+00, 4.9063914e-07],\n",
       "        [9.9993443e-01, 1.2006938e-03],\n",
       "        [9.9999917e-01, 1.6524693e-05],\n",
       "        [9.9999630e-01, 1.2499545e-04],\n",
       "        [9.9999285e-01, 1.9332577e-04],\n",
       "        [9.9999893e-01, 1.0627185e-05],\n",
       "        [9.9998939e-01, 7.0436727e-05],\n",
       "        [9.9997222e-01, 1.9702075e-04],\n",
       "        [9.9999988e-01, 1.7758882e-06],\n",
       "        [1.0000000e+00, 2.2816866e-07],\n",
       "        [9.9999988e-01, 6.4367140e-07],\n",
       "        [1.0000000e+00, 8.3106107e-07],\n",
       "        [9.9999583e-01, 3.9567287e-05],\n",
       "        [9.9997401e-01, 1.8792333e-04],\n",
       "        [9.9999988e-01, 2.5958170e-06],\n",
       "        [1.8469889e-02, 9.9411941e-01],\n",
       "        [1.2775480e-03, 9.9941957e-01],\n",
       "        [1.6625482e-01, 9.3635881e-01],\n",
       "        [7.7271429e-03, 9.9715662e-01],\n",
       "        [3.3402682e-06, 9.9999630e-01],\n",
       "        [8.4093335e-05, 9.9992001e-01],\n",
       "        [1.0143408e-05, 9.9997509e-01],\n",
       "        [3.6414019e-07, 9.9999928e-01],\n",
       "        [2.7642025e-07, 9.9999940e-01],\n",
       "        [7.1587522e-07, 9.9999857e-01],\n",
       "        [3.9365427e-06, 9.9999225e-01]], dtype=float32),\n",
       " array([[1.0000000e+00, 8.5911164e-14],\n",
       "        [1.0000000e+00, 4.2740606e-11],\n",
       "        [1.0000000e+00, 1.2306300e-13],\n",
       "        [1.0000000e+00, 1.8163200e-09],\n",
       "        [1.0000000e+00, 2.2752054e-24],\n",
       "        [9.9998522e-01, 2.2694185e-04],\n",
       "        [1.0000000e+00, 1.3931520e-09],\n",
       "        [1.0000000e+00, 1.5484804e-13],\n",
       "        [9.9994349e-01, 2.3909000e-04],\n",
       "        [9.8208767e-01, 5.3208403e-02],\n",
       "        [1.0000000e+00, 1.2891049e-15],\n",
       "        [1.0000000e+00, 1.2830957e-06],\n",
       "        [1.0000000e+00, 1.3146254e-08],\n",
       "        [9.9826908e-01, 6.3011367e-03],\n",
       "        [9.9998319e-01, 5.6054916e-05],\n",
       "        [9.9999857e-01, 1.1801322e-05],\n",
       "        [1.0000000e+00, 4.0899248e-09],\n",
       "        [9.9999595e-01, 4.4560820e-05],\n",
       "        [1.0000000e+00, 5.4533679e-08],\n",
       "        [1.0000000e+00, 5.1221525e-09],\n",
       "        [1.0000000e+00, 3.8016729e-08],\n",
       "        [1.0000000e+00, 4.5082487e-07],\n",
       "        [1.0000000e+00, 3.3548594e-10],\n",
       "        [1.0000000e+00, 1.6935188e-10],\n",
       "        [1.0000000e+00, 9.7263579e-11],\n",
       "        [7.0334076e-13, 1.0000000e+00],\n",
       "        [5.0926927e-02, 8.3300310e-01],\n",
       "        [9.9999750e-01, 4.4583350e-05],\n",
       "        [1.2750791e-06, 9.9999368e-01],\n",
       "        [1.0000000e+00, 3.8332992e-10],\n",
       "        [1.0388521e-02, 9.7591859e-01],\n",
       "        [9.9459189e-01, 1.1481221e-02],\n",
       "        [2.6209027e-02, 9.8680347e-01],\n",
       "        [1.5909454e-05, 9.9991286e-01],\n",
       "        [1.1703485e-10, 1.0000000e+00]], dtype=float32),\n",
       " array([[9.9999726e-01, 1.1799544e-05],\n",
       "        [9.9933881e-01, 2.6978506e-04],\n",
       "        [2.0630170e-05, 9.9955720e-01],\n",
       "        [1.0000000e+00, 8.4085755e-10],\n",
       "        [1.0000000e+00, 1.5099733e-08],\n",
       "        [9.9999726e-01, 7.8213243e-06],\n",
       "        [9.9999642e-01, 8.6806076e-06],\n",
       "        [9.9999988e-01, 2.6457604e-07],\n",
       "        [9.9989128e-01, 1.5847142e-04],\n",
       "        [9.9985838e-01, 1.5397661e-04],\n",
       "        [5.5252290e-01, 3.4495521e-01],\n",
       "        [9.9961543e-01, 2.4660665e-04],\n",
       "        [9.9998784e-01, 5.2542728e-05],\n",
       "        [9.9999964e-01, 2.7633828e-06],\n",
       "        [9.9999237e-01, 3.8470815e-05],\n",
       "        [1.0000000e+00, 1.1672014e-07],\n",
       "        [1.0000000e+00, 4.1753612e-08],\n",
       "        [9.9999952e-01, 7.3826327e-06],\n",
       "        [9.9986565e-01, 3.7522693e-04],\n",
       "        [9.9999630e-01, 1.5930147e-05],\n",
       "        [9.9988830e-01, 4.2014083e-04],\n",
       "        [9.9999976e-01, 3.8817006e-06],\n",
       "        [9.9991262e-01, 4.1257366e-04],\n",
       "        [9.9993491e-01, 1.4909203e-04],\n",
       "        [9.9999976e-01, 3.5598562e-06],\n",
       "        [8.1226778e-01, 6.1805926e-02],\n",
       "        [2.5439420e-01, 6.0346901e-01],\n",
       "        [2.2571212e-06, 9.9999321e-01],\n",
       "        [7.8279126e-01, 1.7193069e-01],\n",
       "        [5.6765907e-06, 9.9945849e-01],\n",
       "        [6.5621954e-01, 1.4836438e-01],\n",
       "        [2.8780905e-05, 9.9992728e-01],\n",
       "        [3.7841157e-06, 9.9997091e-01],\n",
       "        [8.0591963e-05, 9.9974424e-01],\n",
       "        [1.6387530e-02, 9.7617447e-01]], dtype=float32)]"
      ]
     },
     "execution_count": 8,
     "metadata": {},
     "output_type": "execute_result"
    }
   ],
   "source": [
    "y_predict_all"
   ]
  },
  {
   "cell_type": "code",
   "execution_count": 9,
   "metadata": {},
   "outputs": [],
   "source": [
    "y_test_concatenate_list = []\n",
    "y_predict_concatenate_list = []\n",
    "y_predict_filtered_concatenate_list = []"
   ]
  },
  {
   "cell_type": "code",
   "execution_count": 10,
   "metadata": {},
   "outputs": [],
   "source": [
    "for i in range(7):\n",
    "    y_test_concatenate_list.extend(list(y_test_all[i]))\n",
    "    y_predict_concatenate_list.extend(list(y_predict_all[i]))\n",
    "    y_predict_filtered_concatenate_list.extend(list(y_predict_filtered_all[i]))"
   ]
  },
  {
   "cell_type": "code",
   "execution_count": 11,
   "metadata": {},
   "outputs": [
    {
     "data": {
      "text/plain": [
       "(37, 2)"
      ]
     },
     "execution_count": 11,
     "metadata": {},
     "output_type": "execute_result"
    }
   ],
   "source": [
    "y_predict_all[0].shape"
   ]
  },
  {
   "cell_type": "code",
   "execution_count": 12,
   "metadata": {},
   "outputs": [
    {
     "data": {
      "text/plain": [
       "['chr_18', 'chr_18_p11_deletion']"
      ]
     },
     "execution_count": 12,
     "metadata": {},
     "output_type": "execute_result"
    }
   ],
   "source": [
    "label_convert"
   ]
  },
  {
   "cell_type": "code",
   "execution_count": 13,
   "metadata": {},
   "outputs": [
    {
     "data": {
      "text/plain": [
       "251"
      ]
     },
     "execution_count": 13,
     "metadata": {},
     "output_type": "execute_result"
    }
   ],
   "source": [
    "len(y_test_concatenate_list)"
   ]
  },
  {
   "cell_type": "code",
   "execution_count": 14,
   "metadata": {},
   "outputs": [
    {
     "data": {
      "text/plain": [
       "251"
      ]
     },
     "execution_count": 14,
     "metadata": {},
     "output_type": "execute_result"
    }
   ],
   "source": [
    "len(y_predict_filtered_concatenate_list)"
   ]
  },
  {
   "cell_type": "code",
   "execution_count": 15,
   "metadata": {},
   "outputs": [
    {
     "data": {
      "text/plain": [
       "251"
      ]
     },
     "execution_count": 15,
     "metadata": {},
     "output_type": "execute_result"
    }
   ],
   "source": [
    "len(y_predict_concatenate_list)"
   ]
  },
  {
   "cell_type": "markdown",
   "metadata": {},
   "source": [
    "# Classification Report"
   ]
  },
  {
   "cell_type": "markdown",
   "metadata": {},
   "source": [
    "## Accuracy"
   ]
  },
  {
   "cell_type": "code",
   "execution_count": 16,
   "metadata": {},
   "outputs": [
    {
     "name": "stdout",
     "output_type": "stream",
     "text": [
      "Accuracy is  0.9203187250996016\n"
     ]
    }
   ],
   "source": [
    "acc = accuracy_score(y_test_concatenate_list, y_predict_filtered_concatenate_list, normalize=True, sample_weight=None)\n",
    "print('Accuracy is ', acc)"
   ]
  },
  {
   "cell_type": "markdown",
   "metadata": {},
   "source": [
    "## Precision, Recall, and F1"
   ]
  },
  {
   "cell_type": "code",
   "execution_count": 17,
   "metadata": {},
   "outputs": [
    {
     "name": "stdout",
     "output_type": "stream",
     "text": [
      "                     precision    recall  f1-score   support\n",
      "\n",
      "             chr_18       0.93      0.95      0.94       176\n",
      "chr_18_p11_deletion       0.89      0.84      0.86        75\n",
      "\n",
      "           accuracy                           0.92       251\n",
      "          macro avg       0.91      0.90      0.90       251\n",
      "       weighted avg       0.92      0.92      0.92       251\n",
      "\n"
     ]
    }
   ],
   "source": [
    "performanceReport = classification_report(y_test_concatenate_list, y_predict_filtered_concatenate_list, \n",
    "                                          target_names=label_convert)\n",
    "\n",
    "\n",
    "print(performanceReport)"
   ]
  },
  {
   "cell_type": "markdown",
   "metadata": {},
   "source": [
    "## Confusion Matrix"
   ]
  },
  {
   "cell_type": "code",
   "execution_count": 18,
   "metadata": {},
   "outputs": [
    {
     "data": {
      "text/html": [
       "<div>\n",
       "<style scoped>\n",
       "    .dataframe tbody tr th:only-of-type {\n",
       "        vertical-align: middle;\n",
       "    }\n",
       "\n",
       "    .dataframe tbody tr th {\n",
       "        vertical-align: top;\n",
       "    }\n",
       "\n",
       "    .dataframe thead th {\n",
       "        text-align: right;\n",
       "    }\n",
       "</style>\n",
       "<table border=\"1\" class=\"dataframe\">\n",
       "  <thead>\n",
       "    <tr style=\"text-align: right;\">\n",
       "      <th></th>\n",
       "      <th>chr_18</th>\n",
       "      <th>chr_18_p11_deletion</th>\n",
       "    </tr>\n",
       "  </thead>\n",
       "  <tbody>\n",
       "    <tr>\n",
       "      <td>chr_18</td>\n",
       "      <td>168</td>\n",
       "      <td>8</td>\n",
       "    </tr>\n",
       "    <tr>\n",
       "      <td>chr_18_p11_deletion</td>\n",
       "      <td>12</td>\n",
       "      <td>63</td>\n",
       "    </tr>\n",
       "  </tbody>\n",
       "</table>\n",
       "</div>"
      ],
      "text/plain": [
       "                     chr_18  chr_18_p11_deletion\n",
       "chr_18                  168                    8\n",
       "chr_18_p11_deletion      12                   63"
      ]
     },
     "execution_count": 18,
     "metadata": {},
     "output_type": "execute_result"
    }
   ],
   "source": [
    "cm = np.array(confusion_matrix(y_test_concatenate_list, y_predict_filtered_concatenate_list))\n",
    "confusion = pd.DataFrame(cm, index=label_convert,\n",
    "                        columns=label_convert)\n",
    "confusion.to_csv('ConfusionMatrix_Combination_of_CrossValidation_KaryoType_CNN' + str(iterationNumber) + '.csv')\n",
    "confusion"
   ]
  },
  {
   "cell_type": "markdown",
   "metadata": {},
   "source": [
    "### 3.10.4 Rate of Confusion Matrix"
   ]
  },
  {
   "cell_type": "markdown",
   "metadata": {},
   "source": [
    "### 3.10.5 Recall (查全率)，(Sensitivity Rate)"
   ]
  },
  {
   "cell_type": "code",
   "execution_count": 19,
   "metadata": {
    "scrolled": true
   },
   "outputs": [],
   "source": [
    "subtotal = [0] * 2  \n",
    "for item in y_test_concatenate_list:\n",
    "    subtotal[item] = subtotal[item] + 1"
   ]
  },
  {
   "cell_type": "markdown",
   "metadata": {},
   "source": [
    "#### predict number divided by y test"
   ]
  },
  {
   "cell_type": "code",
   "execution_count": 20,
   "metadata": {},
   "outputs": [],
   "source": [
    "cm_r = []\n",
    "for i in range(2):\n",
    "    cm_r.append(cm[i]/subtotal[i])"
   ]
  },
  {
   "cell_type": "code",
   "execution_count": 21,
   "metadata": {},
   "outputs": [
    {
     "data": {
      "text/html": [
       "<div>\n",
       "<style scoped>\n",
       "    .dataframe tbody tr th:only-of-type {\n",
       "        vertical-align: middle;\n",
       "    }\n",
       "\n",
       "    .dataframe tbody tr th {\n",
       "        vertical-align: top;\n",
       "    }\n",
       "\n",
       "    .dataframe thead th {\n",
       "        text-align: right;\n",
       "    }\n",
       "</style>\n",
       "<table border=\"1\" class=\"dataframe\">\n",
       "  <thead>\n",
       "    <tr style=\"text-align: right;\">\n",
       "      <th></th>\n",
       "      <th>chr_18</th>\n",
       "      <th>chr_18_p11_deletion</th>\n",
       "    </tr>\n",
       "  </thead>\n",
       "  <tbody>\n",
       "    <tr>\n",
       "      <td>chr_18</td>\n",
       "      <td>0.954545</td>\n",
       "      <td>0.045455</td>\n",
       "    </tr>\n",
       "    <tr>\n",
       "      <td>chr_18_p11_deletion</td>\n",
       "      <td>0.160000</td>\n",
       "      <td>0.840000</td>\n",
       "    </tr>\n",
       "  </tbody>\n",
       "</table>\n",
       "</div>"
      ],
      "text/plain": [
       "                       chr_18  chr_18_p11_deletion\n",
       "chr_18               0.954545             0.045455\n",
       "chr_18_p11_deletion  0.160000             0.840000"
      ]
     },
     "execution_count": 21,
     "metadata": {},
     "output_type": "execute_result"
    }
   ],
   "source": [
    "confusion_r = pd.DataFrame(cm_r, index=label_convert,\n",
    "                        columns=label_convert)\n",
    "confusion_r.to_csv('ConfusionMatrix_Recall_Integration_CNN.csv')\n",
    "confusion_r"
   ]
  },
  {
   "cell_type": "markdown",
   "metadata": {},
   "source": [
    "### 3.10.6 Precision (查准率）"
   ]
  },
  {
   "cell_type": "code",
   "execution_count": 22,
   "metadata": {},
   "outputs": [],
   "source": [
    "subtotal_predict = [0] * 2 \n",
    "for item in y_predict_filtered_concatenate_list:\n",
    "    subtotal_predict[item] = subtotal_predict[item] + 1"
   ]
  },
  {
   "cell_type": "markdown",
   "metadata": {},
   "source": [
    "#### predict number divided by y predicted"
   ]
  },
  {
   "cell_type": "code",
   "execution_count": 23,
   "metadata": {},
   "outputs": [],
   "source": [
    "cm_p = []\n",
    "for i in range(2):\n",
    "    cm_p.append(cm[:,i]/subtotal_predict[i])"
   ]
  },
  {
   "cell_type": "code",
   "execution_count": 24,
   "metadata": {},
   "outputs": [
    {
     "data": {
      "text/html": [
       "<div>\n",
       "<style scoped>\n",
       "    .dataframe tbody tr th:only-of-type {\n",
       "        vertical-align: middle;\n",
       "    }\n",
       "\n",
       "    .dataframe tbody tr th {\n",
       "        vertical-align: top;\n",
       "    }\n",
       "\n",
       "    .dataframe thead th {\n",
       "        text-align: right;\n",
       "    }\n",
       "</style>\n",
       "<table border=\"1\" class=\"dataframe\">\n",
       "  <thead>\n",
       "    <tr style=\"text-align: right;\">\n",
       "      <th></th>\n",
       "      <th>chr_18</th>\n",
       "      <th>chr_18_p11_deletion</th>\n",
       "    </tr>\n",
       "  </thead>\n",
       "  <tbody>\n",
       "    <tr>\n",
       "      <td>chr_18</td>\n",
       "      <td>0.933333</td>\n",
       "      <td>0.066667</td>\n",
       "    </tr>\n",
       "    <tr>\n",
       "      <td>chr_18_p11_deletion</td>\n",
       "      <td>0.112676</td>\n",
       "      <td>0.887324</td>\n",
       "    </tr>\n",
       "  </tbody>\n",
       "</table>\n",
       "</div>"
      ],
      "text/plain": [
       "                       chr_18  chr_18_p11_deletion\n",
       "chr_18               0.933333             0.066667\n",
       "chr_18_p11_deletion  0.112676             0.887324"
      ]
     },
     "execution_count": 24,
     "metadata": {},
     "output_type": "execute_result"
    }
   ],
   "source": [
    "confusion_p = pd.DataFrame(cm_p, index=label_convert,\n",
    "                        columns=label_convert)\n",
    "confusion_p.to_csv('ConfusionMatrix_Precision_Integration_CNN.csv')\n",
    "confusion_p"
   ]
  },
  {
   "cell_type": "markdown",
   "metadata": {},
   "source": [
    "#### Heat Map: Number"
   ]
  },
  {
   "cell_type": "code",
   "execution_count": 25,
   "metadata": {
    "scrolled": false
   },
   "outputs": [
    {
     "data": {
      "image/png": "[encoded data removed]",
      "text/plain": [
       "<Figure size 2160x1728 with 2 Axes>"
      ]
     },
     "metadata": {
      "needs_background": "light"
     },
     "output_type": "display_data"
    }
   ],
   "source": [
    "plt.figure(figsize=(30, 24))\n",
    "heat_map = sb.heatmap(confusion, annot=True,  # It's a Seaborn function\n",
    "                      cmap='coolwarm', \n",
    "                      xticklabels=confusion.columns, yticklabels=confusion.index, \n",
    "                      linewidths=.5, \n",
    "                      annot_kws={\"size\": 20})\n",
    "sb.set(font_scale = 2)"
   ]
  },
  {
   "cell_type": "markdown",
   "metadata": {},
   "source": [
    "#### Heat Map of Recall: Rate (important!!!)"
   ]
  },
  {
   "cell_type": "code",
   "execution_count": 26,
   "metadata": {
    "scrolled": false
   },
   "outputs": [
    {
     "data": {
      "image/png": "[encoded data removed]",
      "text/plain": [
       "<Figure size 2160x1728 with 2 Axes>"
      ]
     },
     "metadata": {},
     "output_type": "display_data"
    }
   ],
   "source": [
    "plt.figure(figsize=(30, 24))\n",
    "heat_map_r = sb.heatmap(confusion_r, annot=True,  # It's a Seaborn function\n",
    "                      cmap='coolwarm', \n",
    "                      xticklabels=confusion.columns, yticklabels=confusion.index, \n",
    "                      linewidths=1, \n",
    "                      annot_kws={\"size\": 18})\n",
    "sb.set(font_scale = 2)"
   ]
  },
  {
   "cell_type": "code",
   "execution_count": 27,
   "metadata": {},
   "outputs": [
    {
     "data": {
      "image/png": "[encoded data removed]",
      "text/plain": [
       "<Figure size 2160x1728 with 2 Axes>"
      ]
     },
     "metadata": {},
     "output_type": "display_data"
    }
   ],
   "source": [
    "plt.figure(figsize=(30, 24))\n",
    "heat_map_p = sb.heatmap(confusion_p, annot=True,  # It's a Seaborn function\n",
    "                      cmap='coolwarm', \n",
    "                      xticklabels=confusion.columns, yticklabels=confusion.index, \n",
    "                      linewidths=1, \n",
    "                      annot_kws={\"size\": 18})\n",
    "sb.set(font_scale = 2)"
   ]
  },
  {
   "cell_type": "code",
   "execution_count": 28,
   "metadata": {},
   "outputs": [],
   "source": [
    "fig = heat_map.get_figure()    \n",
    "fig.savefig('Heatmap_Combination.png', dpi=400)"
   ]
  },
  {
   "cell_type": "code",
   "execution_count": 29,
   "metadata": {},
   "outputs": [],
   "source": [
    "fig_r = heat_map_r.get_figure()    \n",
    "fig_r.savefig('Heatmap_Recall_Combination.png', dpi=400)"
   ]
  },
  {
   "cell_type": "code",
   "execution_count": 30,
   "metadata": {},
   "outputs": [
    {
     "ename": "MemoryError",
     "evalue": "In RendererAgg: Out of memory",
     "output_type": "error",
     "traceback": [
      "\u001b[1;31m---------------------------------------------------------------------------\u001b[0m",
      "\u001b[1;31mMemoryError\u001b[0m                               Traceback (most recent call last)",
      "\u001b[1;32m<ipython-input-30-351307d9f472>\u001b[0m in \u001b[0;36m<module>\u001b[1;34m\u001b[0m\n\u001b[0;32m      1\u001b[0m \u001b[0mfig_p\u001b[0m \u001b[1;33m=\u001b[0m \u001b[0mheat_map_p\u001b[0m\u001b[1;33m.\u001b[0m\u001b[0mget_figure\u001b[0m\u001b[1;33m(\u001b[0m\u001b[1;33m)\u001b[0m\u001b[1;33m\u001b[0m\u001b[1;33m\u001b[0m\u001b[0m\n\u001b[1;32m----> 2\u001b[1;33m \u001b[0mfig_p\u001b[0m\u001b[1;33m.\u001b[0m\u001b[0msavefig\u001b[0m\u001b[1;33m(\u001b[0m\u001b[1;34m'Heatmap_Precision_Combination.png'\u001b[0m\u001b[1;33m,\u001b[0m \u001b[0mdpi\u001b[0m\u001b[1;33m=\u001b[0m\u001b[1;36m400\u001b[0m\u001b[1;33m)\u001b[0m\u001b[1;33m\u001b[0m\u001b[1;33m\u001b[0m\u001b[0m\n\u001b[0m",
      "\u001b[1;32mC:\\Anaconda3\\lib\\site-packages\\matplotlib\\figure.py\u001b[0m in \u001b[0;36msavefig\u001b[1;34m(self, fname, transparent, **kwargs)\u001b[0m\n\u001b[0;32m   2178\u001b[0m             \u001b[0mself\u001b[0m\u001b[1;33m.\u001b[0m\u001b[0mpatch\u001b[0m\u001b[1;33m.\u001b[0m\u001b[0mset_visible\u001b[0m\u001b[1;33m(\u001b[0m\u001b[0mframeon\u001b[0m\u001b[1;33m)\u001b[0m\u001b[1;33m\u001b[0m\u001b[1;33m\u001b[0m\u001b[0m\n\u001b[0;32m   2179\u001b[0m \u001b[1;33m\u001b[0m\u001b[0m\n\u001b[1;32m-> 2180\u001b[1;33m         \u001b[0mself\u001b[0m\u001b[1;33m.\u001b[0m\u001b[0mcanvas\u001b[0m\u001b[1;33m.\u001b[0m\u001b[0mprint_figure\u001b[0m\u001b[1;33m(\u001b[0m\u001b[0mfname\u001b[0m\u001b[1;33m,\u001b[0m \u001b[1;33m**\u001b[0m\u001b[0mkwargs\u001b[0m\u001b[1;33m)\u001b[0m\u001b[1;33m\u001b[0m\u001b[1;33m\u001b[0m\u001b[0m\n\u001b[0m\u001b[0;32m   2181\u001b[0m \u001b[1;33m\u001b[0m\u001b[0m\n\u001b[0;32m   2182\u001b[0m         \u001b[1;32mif\u001b[0m \u001b[0mframeon\u001b[0m\u001b[1;33m:\u001b[0m\u001b[1;33m\u001b[0m\u001b[1;33m\u001b[0m\u001b[0m\n",
      "\u001b[1;32mC:\\Anaconda3\\lib\\site-packages\\matplotlib\\backend_bases.py\u001b[0m in \u001b[0;36mprint_figure\u001b[1;34m(self, filename, dpi, facecolor, edgecolor, orientation, format, bbox_inches, **kwargs)\u001b[0m\n\u001b[0;32m   2080\u001b[0m                     \u001b[0morientation\u001b[0m\u001b[1;33m=\u001b[0m\u001b[0morientation\u001b[0m\u001b[1;33m,\u001b[0m\u001b[1;33m\u001b[0m\u001b[1;33m\u001b[0m\u001b[0m\n\u001b[0;32m   2081\u001b[0m                     \u001b[0mbbox_inches_restore\u001b[0m\u001b[1;33m=\u001b[0m\u001b[0m_bbox_inches_restore\u001b[0m\u001b[1;33m,\u001b[0m\u001b[1;33m\u001b[0m\u001b[1;33m\u001b[0m\u001b[0m\n\u001b[1;32m-> 2082\u001b[1;33m                     **kwargs)\n\u001b[0m\u001b[0;32m   2083\u001b[0m             \u001b[1;32mfinally\u001b[0m\u001b[1;33m:\u001b[0m\u001b[1;33m\u001b[0m\u001b[1;33m\u001b[0m\u001b[0m\n\u001b[0;32m   2084\u001b[0m                 \u001b[1;32mif\u001b[0m \u001b[0mbbox_inches\u001b[0m \u001b[1;32mand\u001b[0m \u001b[0mrestore_bbox\u001b[0m\u001b[1;33m:\u001b[0m\u001b[1;33m\u001b[0m\u001b[1;33m\u001b[0m\u001b[0m\n",
      "\u001b[1;32mC:\\Anaconda3\\lib\\site-packages\\matplotlib\\backends\\backend_agg.py\u001b[0m in \u001b[0;36mprint_png\u001b[1;34m(self, filename_or_obj, metadata, pil_kwargs, *args, **kwargs)\u001b[0m\n\u001b[0;32m    525\u001b[0m \u001b[1;33m\u001b[0m\u001b[0m\n\u001b[0;32m    526\u001b[0m         \u001b[1;32melse\u001b[0m\u001b[1;33m:\u001b[0m\u001b[1;33m\u001b[0m\u001b[1;33m\u001b[0m\u001b[0m\n\u001b[1;32m--> 527\u001b[1;33m             \u001b[0mFigureCanvasAgg\u001b[0m\u001b[1;33m.\u001b[0m\u001b[0mdraw\u001b[0m\u001b[1;33m(\u001b[0m\u001b[0mself\u001b[0m\u001b[1;33m)\u001b[0m\u001b[1;33m\u001b[0m\u001b[1;33m\u001b[0m\u001b[0m\n\u001b[0m\u001b[0;32m    528\u001b[0m             \u001b[0mrenderer\u001b[0m \u001b[1;33m=\u001b[0m \u001b[0mself\u001b[0m\u001b[1;33m.\u001b[0m\u001b[0mget_renderer\u001b[0m\u001b[1;33m(\u001b[0m\u001b[1;33m)\u001b[0m\u001b[1;33m\u001b[0m\u001b[1;33m\u001b[0m\u001b[0m\n\u001b[0;32m    529\u001b[0m             \u001b[1;32mwith\u001b[0m \u001b[0mcbook\u001b[0m\u001b[1;33m.\u001b[0m\u001b[0m_setattr_cm\u001b[0m\u001b[1;33m(\u001b[0m\u001b[0mrenderer\u001b[0m\u001b[1;33m,\u001b[0m \u001b[0mdpi\u001b[0m\u001b[1;33m=\u001b[0m\u001b[0mself\u001b[0m\u001b[1;33m.\u001b[0m\u001b[0mfigure\u001b[0m\u001b[1;33m.\u001b[0m\u001b[0mdpi\u001b[0m\u001b[1;33m)\u001b[0m\u001b[1;33m,\u001b[0m\u001b[0;31m \u001b[0m\u001b[0;31m\\\u001b[0m\u001b[1;33m\u001b[0m\u001b[1;33m\u001b[0m\u001b[0m\n",
      "\u001b[1;32mC:\\Anaconda3\\lib\\site-packages\\matplotlib\\backends\\backend_agg.py\u001b[0m in \u001b[0;36mdraw\u001b[1;34m(self)\u001b[0m\n\u001b[0;32m    384\u001b[0m         \u001b[0mDraw\u001b[0m \u001b[0mthe\u001b[0m \u001b[0mfigure\u001b[0m \u001b[0musing\u001b[0m \u001b[0mthe\u001b[0m \u001b[0mrenderer\u001b[0m\u001b[1;33m.\u001b[0m\u001b[1;33m\u001b[0m\u001b[1;33m\u001b[0m\u001b[0m\n\u001b[0;32m    385\u001b[0m         \"\"\"\n\u001b[1;32m--> 386\u001b[1;33m         \u001b[0mself\u001b[0m\u001b[1;33m.\u001b[0m\u001b[0mrenderer\u001b[0m \u001b[1;33m=\u001b[0m \u001b[0mself\u001b[0m\u001b[1;33m.\u001b[0m\u001b[0mget_renderer\u001b[0m\u001b[1;33m(\u001b[0m\u001b[0mcleared\u001b[0m\u001b[1;33m=\u001b[0m\u001b[1;32mTrue\u001b[0m\u001b[1;33m)\u001b[0m\u001b[1;33m\u001b[0m\u001b[1;33m\u001b[0m\u001b[0m\n\u001b[0m\u001b[0;32m    387\u001b[0m         \u001b[1;32mwith\u001b[0m \u001b[0mRendererAgg\u001b[0m\u001b[1;33m.\u001b[0m\u001b[0mlock\u001b[0m\u001b[1;33m:\u001b[0m\u001b[1;33m\u001b[0m\u001b[1;33m\u001b[0m\u001b[0m\n\u001b[0;32m    388\u001b[0m             \u001b[0mself\u001b[0m\u001b[1;33m.\u001b[0m\u001b[0mfigure\u001b[0m\u001b[1;33m.\u001b[0m\u001b[0mdraw\u001b[0m\u001b[1;33m(\u001b[0m\u001b[0mself\u001b[0m\u001b[1;33m.\u001b[0m\u001b[0mrenderer\u001b[0m\u001b[1;33m)\u001b[0m\u001b[1;33m\u001b[0m\u001b[1;33m\u001b[0m\u001b[0m\n",
      "\u001b[1;32mC:\\Anaconda3\\lib\\site-packages\\matplotlib\\backends\\backend_agg.py\u001b[0m in \u001b[0;36mget_renderer\u001b[1;34m(self, cleared)\u001b[0m\n\u001b[0;32m    397\u001b[0m                           and getattr(self, \"_lastKey\", None) == key)\n\u001b[0;32m    398\u001b[0m         \u001b[1;32mif\u001b[0m \u001b[1;32mnot\u001b[0m \u001b[0mreuse_renderer\u001b[0m\u001b[1;33m:\u001b[0m\u001b[1;33m\u001b[0m\u001b[1;33m\u001b[0m\u001b[0m\n\u001b[1;32m--> 399\u001b[1;33m             \u001b[0mself\u001b[0m\u001b[1;33m.\u001b[0m\u001b[0mrenderer\u001b[0m \u001b[1;33m=\u001b[0m \u001b[0mRendererAgg\u001b[0m\u001b[1;33m(\u001b[0m\u001b[0mw\u001b[0m\u001b[1;33m,\u001b[0m \u001b[0mh\u001b[0m\u001b[1;33m,\u001b[0m \u001b[0mself\u001b[0m\u001b[1;33m.\u001b[0m\u001b[0mfigure\u001b[0m\u001b[1;33m.\u001b[0m\u001b[0mdpi\u001b[0m\u001b[1;33m)\u001b[0m\u001b[1;33m\u001b[0m\u001b[1;33m\u001b[0m\u001b[0m\n\u001b[0m\u001b[0;32m    400\u001b[0m             \u001b[0mself\u001b[0m\u001b[1;33m.\u001b[0m\u001b[0m_lastKey\u001b[0m \u001b[1;33m=\u001b[0m \u001b[0mkey\u001b[0m\u001b[1;33m\u001b[0m\u001b[1;33m\u001b[0m\u001b[0m\n\u001b[0;32m    401\u001b[0m         \u001b[1;32melif\u001b[0m \u001b[0mcleared\u001b[0m\u001b[1;33m:\u001b[0m\u001b[1;33m\u001b[0m\u001b[1;33m\u001b[0m\u001b[0m\n",
      "\u001b[1;32mC:\\Anaconda3\\lib\\site-packages\\matplotlib\\backends\\backend_agg.py\u001b[0m in \u001b[0;36m__init__\u001b[1;34m(self, width, height, dpi)\u001b[0m\n\u001b[0;32m     84\u001b[0m         \u001b[0mself\u001b[0m\u001b[1;33m.\u001b[0m\u001b[0mwidth\u001b[0m \u001b[1;33m=\u001b[0m \u001b[0mwidth\u001b[0m\u001b[1;33m\u001b[0m\u001b[1;33m\u001b[0m\u001b[0m\n\u001b[0;32m     85\u001b[0m         \u001b[0mself\u001b[0m\u001b[1;33m.\u001b[0m\u001b[0mheight\u001b[0m \u001b[1;33m=\u001b[0m \u001b[0mheight\u001b[0m\u001b[1;33m\u001b[0m\u001b[1;33m\u001b[0m\u001b[0m\n\u001b[1;32m---> 86\u001b[1;33m         \u001b[0mself\u001b[0m\u001b[1;33m.\u001b[0m\u001b[0m_renderer\u001b[0m \u001b[1;33m=\u001b[0m \u001b[0m_RendererAgg\u001b[0m\u001b[1;33m(\u001b[0m\u001b[0mint\u001b[0m\u001b[1;33m(\u001b[0m\u001b[0mwidth\u001b[0m\u001b[1;33m)\u001b[0m\u001b[1;33m,\u001b[0m \u001b[0mint\u001b[0m\u001b[1;33m(\u001b[0m\u001b[0mheight\u001b[0m\u001b[1;33m)\u001b[0m\u001b[1;33m,\u001b[0m \u001b[0mdpi\u001b[0m\u001b[1;33m)\u001b[0m\u001b[1;33m\u001b[0m\u001b[1;33m\u001b[0m\u001b[0m\n\u001b[0m\u001b[0;32m     87\u001b[0m         \u001b[0mself\u001b[0m\u001b[1;33m.\u001b[0m\u001b[0m_filter_renderers\u001b[0m \u001b[1;33m=\u001b[0m \u001b[1;33m[\u001b[0m\u001b[1;33m]\u001b[0m\u001b[1;33m\u001b[0m\u001b[1;33m\u001b[0m\u001b[0m\n\u001b[0;32m     88\u001b[0m \u001b[1;33m\u001b[0m\u001b[0m\n",
      "\u001b[1;31mMemoryError\u001b[0m: In RendererAgg: Out of memory"
     ]
    }
   ],
   "source": [
    "fig_p = heat_map_p.get_figure()    \n",
    "fig_p.savefig('Heatmap_Precision_Combination.png', dpi=400)"
   ]
  },
  {
   "cell_type": "markdown",
   "metadata": {},
   "source": [
    "# ROC Curve"
   ]
  },
  {
   "cell_type": "code",
   "execution_count": 45,
   "metadata": {},
   "outputs": [
    {
     "data": {
      "text/plain": [
       "array([[1.00000000e+00, 7.64235608e-09],\n",
       "       [1.00000000e+00, 1.25939786e-13],\n",
       "       [9.87334371e-01, 9.93655901e-03],\n",
       "       [9.99993324e-01, 2.73882551e-06],\n",
       "       [1.00000000e+00, 3.01001758e-11],\n",
       "       [9.62506294e-01, 2.55203135e-02],\n",
       "       [9.99916196e-01, 3.64898806e-05],\n",
       "       [1.00000000e+00, 1.15485788e-09],\n",
       "       [1.00000000e+00, 9.07246898e-18],\n",
       "       [9.99999642e-01, 9.11352913e-07],\n",
       "       [1.00000000e+00, 4.47473615e-15],\n",
       "       [1.00000000e+00, 3.06413367e-10],\n",
       "       [9.92206037e-01, 5.16385911e-03],\n",
       "       [9.99995470e-01, 5.28198052e-06],\n",
       "       [9.99999881e-01, 2.36291626e-07],\n",
       "       [4.13288544e-05, 9.99647141e-01],\n",
       "       [1.00000000e+00, 2.57520533e-10],\n",
       "       [1.00000000e+00, 3.88094401e-09],\n",
       "       [9.99312401e-01, 5.67664043e-04],\n",
       "       [9.99933124e-01, 4.18712734e-05],\n",
       "       [1.00000000e+00, 3.11580657e-11],\n",
       "       [9.89179850e-01, 7.75208836e-03],\n",
       "       [1.00000000e+00, 2.19537888e-10],\n",
       "       [1.00000000e+00, 7.27338687e-08],\n",
       "       [9.99996543e-01, 3.40982820e-06],\n",
       "       [1.00000000e+00, 6.28286000e-16],\n",
       "       [2.57479132e-06, 9.99954224e-01],\n",
       "       [1.00000000e+00, 1.89048777e-08],\n",
       "       [1.28108042e-03, 9.94281411e-01],\n",
       "       [9.99991536e-01, 8.19637717e-06],\n",
       "       [1.41624957e-01, 7.24162340e-01],\n",
       "       [2.14263201e-02, 9.34866428e-01],\n",
       "       [2.62624514e-03, 9.89066124e-01],\n",
       "       [1.21531921e-04, 9.98742640e-01],\n",
       "       [5.56056193e-06, 9.99948621e-01],\n",
       "       [9.59610164e-01, 4.34464104e-02],\n",
       "       [8.62080697e-03, 9.75822687e-01],\n",
       "       [9.99903083e-01, 3.19641258e-05],\n",
       "       [9.99996305e-01, 8.63528328e-07],\n",
       "       [5.31874776e-01, 4.57457781e-01],\n",
       "       [9.99052823e-01, 4.52946231e-04],\n",
       "       [9.99999762e-01, 4.07321288e-08],\n",
       "       [1.62577465e-01, 7.99588323e-01],\n",
       "       [9.99999523e-01, 5.94987775e-08],\n",
       "       [9.99987364e-01, 3.32660807e-06],\n",
       "       [1.38135348e-03, 9.98836458e-01],\n",
       "       [8.18615615e-01, 1.38688534e-01],\n",
       "       [8.73249352e-01, 7.75557384e-02],\n",
       "       [9.94105697e-01, 3.52131925e-03],\n",
       "       [4.96419609e-01, 4.40706670e-01],\n",
       "       [9.99986529e-01, 3.62728179e-06],\n",
       "       [9.99999404e-01, 9.66775957e-08],\n",
       "       [9.92966175e-01, 2.94372486e-03],\n",
       "       [9.99999404e-01, 1.10016373e-07],\n",
       "       [9.99990225e-01, 3.11566509e-06],\n",
       "       [1.00000000e+00, 2.72981948e-09],\n",
       "       [9.76549387e-01, 8.38861614e-03],\n",
       "       [9.99993324e-01, 1.27750229e-06],\n",
       "       [9.99963045e-01, 8.89174134e-06],\n",
       "       [9.99873281e-01, 4.01939942e-05],\n",
       "       [1.59265213e-02, 9.83460784e-01],\n",
       "       [9.96916175e-01, 1.11107063e-03],\n",
       "       [7.89338897e-04, 9.99367654e-01],\n",
       "       [4.42027897e-01, 4.85026896e-01],\n",
       "       [3.45121354e-01, 5.03295541e-01],\n",
       "       [2.84892440e-06, 9.99998331e-01],\n",
       "       [9.59595563e-05, 9.99934793e-01],\n",
       "       [9.01770964e-03, 9.90853906e-01],\n",
       "       [9.14216855e-07, 9.99999642e-01],\n",
       "       [1.52304965e-05, 9.99991298e-01],\n",
       "       [6.43060484e-05, 9.99963999e-01],\n",
       "       [9.04486660e-06, 9.99994755e-01],\n",
       "       [1.41562459e-05, 9.99994040e-01],\n",
       "       [3.37327152e-01, 8.53701830e-01],\n",
       "       [1.00000000e+00, 1.01184918e-08],\n",
       "       [9.99999523e-01, 3.60901845e-06],\n",
       "       [9.91485536e-01, 2.42850166e-02],\n",
       "       [9.97122109e-01, 5.06563997e-03],\n",
       "       [8.99262667e-01, 1.93601385e-01],\n",
       "       [9.71873224e-01, 5.02242558e-02],\n",
       "       [1.25310868e-01, 9.73334432e-01],\n",
       "       [1.00000000e+00, 8.54916901e-11],\n",
       "       [9.92954195e-01, 2.45272350e-02],\n",
       "       [9.96868193e-01, 2.92106858e-03],\n",
       "       [9.99925733e-01, 2.00982118e-04],\n",
       "       [9.99991179e-01, 2.12802988e-05],\n",
       "       [1.00000000e+00, 2.84588153e-09],\n",
       "       [9.99994755e-01, 1.91915715e-05],\n",
       "       [1.00000000e+00, 5.72367487e-09],\n",
       "       [9.99990463e-01, 2.97497554e-05],\n",
       "       [1.00000000e+00, 6.11963822e-14],\n",
       "       [9.99999762e-01, 9.96771064e-07],\n",
       "       [9.30649638e-01, 1.32401213e-01],\n",
       "       [9.99999881e-01, 2.36213680e-07],\n",
       "       [9.99984145e-01, 4.32279194e-05],\n",
       "       [9.92840528e-01, 1.81911867e-02],\n",
       "       [9.98248219e-01, 6.28038682e-03],\n",
       "       [9.99984026e-01, 5.30825200e-05],\n",
       "       [8.68138231e-05, 9.99978900e-01],\n",
       "       [4.46449594e-05, 9.99969482e-01],\n",
       "       [3.10690411e-05, 9.99992967e-01],\n",
       "       [1.63101545e-03, 9.98712897e-01],\n",
       "       [3.74189176e-06, 9.99998450e-01],\n",
       "       [1.40047621e-06, 9.99999404e-01],\n",
       "       [2.35455209e-05, 9.99983549e-01],\n",
       "       [1.36912393e-04, 9.99946952e-01],\n",
       "       [2.27569952e-03, 9.98768151e-01],\n",
       "       [2.48413114e-03, 9.98038113e-01],\n",
       "       [9.81536519e-11, 1.00000000e+00],\n",
       "       [1.00000000e+00, 5.51159162e-12],\n",
       "       [9.99999166e-01, 1.36697054e-08],\n",
       "       [1.00000000e+00, 9.78839232e-10],\n",
       "       [1.00000000e+00, 4.67539341e-10],\n",
       "       [1.00000000e+00, 1.02892450e-09],\n",
       "       [9.97411191e-01, 9.34032505e-05],\n",
       "       [1.00000000e+00, 1.76671777e-09],\n",
       "       [9.99957085e-01, 1.70921419e-06],\n",
       "       [1.00000000e+00, 6.59470209e-19],\n",
       "       [9.99999404e-01, 9.78179049e-09],\n",
       "       [4.68007982e-01, 1.20142899e-01],\n",
       "       [9.87469554e-01, 3.51731025e-04],\n",
       "       [8.87340546e-01, 1.15772150e-02],\n",
       "       [9.99999881e-01, 3.95661282e-09],\n",
       "       [9.13236201e-01, 8.06736201e-03],\n",
       "       [9.99999881e-01, 6.62998589e-09],\n",
       "       [9.99999881e-01, 2.09150972e-08],\n",
       "       [9.99999762e-01, 1.75838135e-08],\n",
       "       [1.00000000e+00, 2.61311328e-12],\n",
       "       [9.99999523e-01, 4.13843786e-08],\n",
       "       [9.99999762e-01, 2.76953234e-08],\n",
       "       [7.75985897e-01, 3.65569964e-02],\n",
       "       [1.00000000e+00, 1.31350861e-10],\n",
       "       [9.99999881e-01, 2.01980441e-08],\n",
       "       [6.23478889e-02, 8.00205350e-01],\n",
       "       [1.04431820e-06, 9.99372423e-01],\n",
       "       [9.83179802e-07, 9.99972343e-01],\n",
       "       [9.99247849e-01, 7.24688070e-05],\n",
       "       [9.96252239e-01, 1.70672327e-04],\n",
       "       [9.99999642e-01, 2.32840627e-08],\n",
       "       [2.20893935e-06, 9.99932408e-01],\n",
       "       [7.11157554e-07, 9.99991059e-01],\n",
       "       [8.82779659e-07, 9.99989390e-01],\n",
       "       [8.03234434e-06, 9.99948502e-01],\n",
       "       [1.42209374e-05, 9.99670982e-01],\n",
       "       [1.75334822e-06, 9.99986172e-01],\n",
       "       [9.99938726e-01, 7.79471942e-04],\n",
       "       [9.99999881e-01, 1.94310724e-06],\n",
       "       [9.99998808e-01, 4.52867425e-05],\n",
       "       [1.00000000e+00, 8.21629669e-07],\n",
       "       [9.99999762e-01, 1.95743778e-05],\n",
       "       [9.98579741e-01, 1.92430317e-02],\n",
       "       [1.00000000e+00, 1.87790292e-07],\n",
       "       [1.00000000e+00, 4.06054227e-07],\n",
       "       [9.99971271e-01, 9.34126438e-04],\n",
       "       [9.99989271e-01, 3.83384264e-04],\n",
       "       [1.00000000e+00, 4.90639138e-07],\n",
       "       [9.99934435e-01, 1.20069378e-03],\n",
       "       [9.99999166e-01, 1.65246929e-05],\n",
       "       [9.99996305e-01, 1.24995451e-04],\n",
       "       [9.99992847e-01, 1.93325774e-04],\n",
       "       [9.99998927e-01, 1.06271846e-05],\n",
       "       [9.99989390e-01, 7.04367267e-05],\n",
       "       [9.99972224e-01, 1.97020752e-04],\n",
       "       [9.99999881e-01, 1.77588822e-06],\n",
       "       [1.00000000e+00, 2.28168659e-07],\n",
       "       [9.99999881e-01, 6.43671399e-07],\n",
       "       [1.00000000e+00, 8.31061072e-07],\n",
       "       [9.99995828e-01, 3.95672869e-05],\n",
       "       [9.99974012e-01, 1.87923331e-04],\n",
       "       [9.99999881e-01, 2.59581702e-06],\n",
       "       [1.84698887e-02, 9.94119406e-01],\n",
       "       [1.27754803e-03, 9.99419570e-01],\n",
       "       [1.66254818e-01, 9.36358809e-01],\n",
       "       [7.72714289e-03, 9.97156620e-01],\n",
       "       [3.34026822e-06, 9.99996305e-01],\n",
       "       [8.40933353e-05, 9.99920011e-01],\n",
       "       [1.01434080e-05, 9.99975085e-01],\n",
       "       [3.64140192e-07, 9.99999285e-01],\n",
       "       [2.76420252e-07, 9.99999404e-01],\n",
       "       [7.15875217e-07, 9.99998569e-01],\n",
       "       [3.93654273e-06, 9.99992251e-01],\n",
       "       [1.00000000e+00, 8.59111637e-14],\n",
       "       [1.00000000e+00, 4.27406062e-11],\n",
       "       [1.00000000e+00, 1.23063005e-13],\n",
       "       [1.00000000e+00, 1.81631998e-09],\n",
       "       [1.00000000e+00, 2.27520541e-24],\n",
       "       [9.99985218e-01, 2.26941847e-04],\n",
       "       [1.00000000e+00, 1.39315204e-09],\n",
       "       [1.00000000e+00, 1.54848045e-13],\n",
       "       [9.99943495e-01, 2.39090004e-04],\n",
       "       [9.82087672e-01, 5.32084033e-02],\n",
       "       [1.00000000e+00, 1.28910495e-15],\n",
       "       [1.00000000e+00, 1.28309568e-06],\n",
       "       [1.00000000e+00, 1.31462539e-08],\n",
       "       [9.98269081e-01, 6.30113669e-03],\n",
       "       [9.99983191e-01, 5.60549161e-05],\n",
       "       [9.99998569e-01, 1.18013222e-05],\n",
       "       [1.00000000e+00, 4.08992484e-09],\n",
       "       [9.99995947e-01, 4.45608202e-05],\n",
       "       [1.00000000e+00, 5.45336789e-08],\n",
       "       [1.00000000e+00, 5.12215248e-09],\n",
       "       [1.00000000e+00, 3.80167293e-08],\n",
       "       [1.00000000e+00, 4.50824871e-07],\n",
       "       [1.00000000e+00, 3.35485945e-10],\n",
       "       [1.00000000e+00, 1.69351880e-10],\n",
       "       [1.00000000e+00, 9.72635791e-11],\n",
       "       [7.03340760e-13, 1.00000000e+00],\n",
       "       [5.09269275e-02, 8.33003104e-01],\n",
       "       [9.99997497e-01, 4.45833502e-05],\n",
       "       [1.27507906e-06, 9.99993682e-01],\n",
       "       [1.00000000e+00, 3.83329923e-10],\n",
       "       [1.03885205e-02, 9.75918591e-01],\n",
       "       [9.94591892e-01, 1.14812208e-02],\n",
       "       [2.62090266e-02, 9.86803472e-01],\n",
       "       [1.59094543e-05, 9.99912858e-01],\n",
       "       [1.17034854e-10, 1.00000000e+00],\n",
       "       [9.99997258e-01, 1.17995442e-05],\n",
       "       [9.99338806e-01, 2.69785058e-04],\n",
       "       [2.06301702e-05, 9.99557197e-01],\n",
       "       [1.00000000e+00, 8.40857550e-10],\n",
       "       [1.00000000e+00, 1.50997330e-08],\n",
       "       [9.99997258e-01, 7.82132429e-06],\n",
       "       [9.99996424e-01, 8.68060761e-06],\n",
       "       [9.99999881e-01, 2.64576045e-07],\n",
       "       [9.99891281e-01, 1.58471419e-04],\n",
       "       [9.99858379e-01, 1.53976609e-04],\n",
       "       [5.52522898e-01, 3.44955206e-01],\n",
       "       [9.99615431e-01, 2.46606651e-04],\n",
       "       [9.99987841e-01, 5.25427276e-05],\n",
       "       [9.99999642e-01, 2.76338278e-06],\n",
       "       [9.99992371e-01, 3.84708146e-05],\n",
       "       [1.00000000e+00, 1.16720138e-07],\n",
       "       [1.00000000e+00, 4.17536121e-08],\n",
       "       [9.99999523e-01, 7.38263270e-06],\n",
       "       [9.99865651e-01, 3.75226926e-04],\n",
       "       [9.99996305e-01, 1.59301471e-05],\n",
       "       [9.99888301e-01, 4.20140830e-04],\n",
       "       [9.99999762e-01, 3.88170065e-06],\n",
       "       [9.99912620e-01, 4.12573660e-04],\n",
       "       [9.99934912e-01, 1.49092026e-04],\n",
       "       [9.99999762e-01, 3.55985617e-06],\n",
       "       [8.12267780e-01, 6.18059263e-02],\n",
       "       [2.54394203e-01, 6.03469014e-01],\n",
       "       [2.25712120e-06, 9.99993205e-01],\n",
       "       [7.82791257e-01, 1.71930686e-01],\n",
       "       [5.67659072e-06, 9.99458492e-01],\n",
       "       [6.56219542e-01, 1.48364380e-01],\n",
       "       [2.87809053e-05, 9.99927282e-01],\n",
       "       [3.78411573e-06, 9.99970913e-01],\n",
       "       [8.05919626e-05, 9.99744236e-01],\n",
       "       [1.63875297e-02, 9.76174474e-01]], dtype=float32)"
      ]
     },
     "execution_count": 45,
     "metadata": {},
     "output_type": "execute_result"
    }
   ],
   "source": [
    "y_predict_concatenate_array = np.array(y_predict_concatenate_list)\n",
    "y_predict_concatenate_array"
   ]
  },
  {
   "cell_type": "code",
   "execution_count": 46,
   "metadata": {},
   "outputs": [
    {
     "data": {
      "text/plain": [
       "(251, 2)"
      ]
     },
     "execution_count": 46,
     "metadata": {},
     "output_type": "execute_result"
    }
   ],
   "source": [
    "y_predict_concatenate_array.shape"
   ]
  },
  {
   "cell_type": "code",
   "execution_count": 47,
   "metadata": {},
   "outputs": [],
   "source": [
    "y_predict_1D = y_predict_concatenate_array[:,0]"
   ]
  },
  {
   "cell_type": "code",
   "execution_count": 48,
   "metadata": {},
   "outputs": [],
   "source": [
    "y_predict_1D_processed = 1- y_predict_1D"
   ]
  },
  {
   "cell_type": "code",
   "execution_count": 49,
   "metadata": {},
   "outputs": [],
   "source": [
    "fpr , tpr , thresholds = roc_curve(y_test_concatenate_list , y_predict_1D_processed)\n",
    "auc_rf = auc(fpr, tpr)"
   ]
  },
  {
   "cell_type": "code",
   "execution_count": 50,
   "metadata": {},
   "outputs": [
    {
     "data": {
      "text/plain": [
       "0.9372727272727273"
      ]
     },
     "execution_count": 50,
     "metadata": {},
     "output_type": "execute_result"
    }
   ],
   "source": [
    "auc_rf"
   ]
  },
  {
   "cell_type": "code",
   "execution_count": 51,
   "metadata": {},
   "outputs": [],
   "source": [
    "x = y = np.arange(0, 1.1, 0.1)"
   ]
  },
  {
   "cell_type": "code",
   "execution_count": 52,
   "metadata": {},
   "outputs": [
    {
     "data": {
      "text/plain": [
       "array([0. , 0.1, 0.2, 0.3, 0.4, 0.5, 0.6, 0.7, 0.8, 0.9, 1. ])"
      ]
     },
     "execution_count": 52,
     "metadata": {},
     "output_type": "execute_result"
    }
   ],
   "source": [
    "x"
   ]
  },
  {
   "cell_type": "code",
   "execution_count": 53,
   "metadata": {
    "scrolled": false
   },
   "outputs": [
    {
     "data": {
      "image/png": "[encoded data removed]",
      "text/plain": [
       "<Figure size 640x480 with 1 Axes>"
      ]
     },
     "metadata": {},
     "output_type": "display_data"
    }
   ],
   "source": [
    "fig = plt.figure()\n",
    "plt.style.use('classic')\n",
    "ax = fig.add_subplot(111)\n",
    "\n",
    "plt.plot(fpr, tpr, color='blue', linewidth=0.9)\n",
    "\n",
    "plt.plot(x, y, '--', color='black', linewidth=0.8)\n",
    "\n",
    "plt.title('ROC curve of 18p11', fontsize=12, fontname = 'Times New Roman')\n",
    "plt.xlabel('False Positive Rate', fontsize=11, fontname = 'Times New Roman')\n",
    "plt.ylabel('True positive Rate', fontsize=11, fontname = 'Times New Roman')\n",
    "ax.set_aspect('equal', adjustable='box')\n",
    "plt.xlim(-0.08, 1.1)\n",
    "plt.ylim(-0.08, 1.1)\n",
    "plt.xticks(fontsize=9, fontname = 'Arial')\n",
    "plt.yticks(fontsize=9, fontname = 'Arial')\n",
    "\n",
    "plt.savefig('ROC_Curve_Combination.png', dpi=400)\n",
    "plt.show()"
   ]
  },
  {
   "cell_type": "markdown",
   "metadata": {},
   "source": [
    "#### 3.10.4.1 AUC Value"
   ]
  },
  {
   "cell_type": "code",
   "execution_count": 54,
   "metadata": {},
   "outputs": [],
   "source": [
    "auc_value = auc(fpr, tpr)"
   ]
  },
  {
   "cell_type": "code",
   "execution_count": 55,
   "metadata": {},
   "outputs": [
    {
     "name": "stdout",
     "output_type": "stream",
     "text": [
      "AUC is  0.9372727272727273\n"
     ]
    }
   ],
   "source": [
    "print('AUC is ', auc_value)"
   ]
  },
  {
   "cell_type": "markdown",
   "metadata": {},
   "source": [
    "# Results"
   ]
  },
  {
   "cell_type": "code",
   "execution_count": null,
   "metadata": {},
   "outputs": [],
   "source": [
    "print('Test Accuracy: %.3f' % acc)"
   ]
  },
  {
   "cell_type": "code",
   "execution_count": null,
   "metadata": {
    "scrolled": true
   },
   "outputs": [],
   "source": [
    "print(performanceReport)"
   ]
  },
  {
   "cell_type": "code",
   "execution_count": null,
   "metadata": {},
   "outputs": [],
   "source": [
    "type(performanceReport)"
   ]
  },
  {
   "cell_type": "code",
   "execution_count": null,
   "metadata": {},
   "outputs": [],
   "source": [
    "print('AUC is ', auc_value)"
   ]
  },
  {
   "cell_type": "markdown",
   "metadata": {},
   "source": [
    "## Export to a text file"
   ]
  },
  {
   "cell_type": "code",
   "execution_count": null,
   "metadata": {},
   "outputs": [],
   "source": [
    "file_report = open('ResultsCombination.txt', 'w')\n",
    "file_report.write('Accuracy: %s\\n\\n' % acc)\n",
    "file_report.write('AUC: %s.\\n\\n' % auc_value)\n",
    "file_report.write('Performance Report: \\n%s\\n\\n' % performanceReport)\n",
    "file_report.write('Confusion Matrix: \\n%s.\\n\\n' % confusion)\n",
    "file_report.write('Recall of Confusion Matrix: \\n%s.\\n\\n' % confusion_r)\n",
    "file_report.write('Precision of Confusion Matrix: \\n%s.\\n\\n' % confusion_p)\n",
    "file_report.close()"
   ]
  },
  {
   "cell_type": "code",
   "execution_count": null,
   "metadata": {},
   "outputs": [],
   "source": []
  }
 ],
 "metadata": {
  "kernelspec": {
   "display_name": "Python 3",
   "language": "python",
   "name": "python3"
  },
  "language_info": {
   "codemirror_mode": {
    "name": "ipython",
    "version": 3
   },
   "file_extension": ".py",
   "mimetype": "text/x-python",
   "name": "python",
   "nbconvert_exporter": "python",
   "pygments_lexer": "ipython3",
   "version": "3.7.4"
  }
 },
 "nbformat": 4,
 "nbformat_minor": 2
}
