{
 "cells": [
  {
   "cell_type": "code",
   "execution_count": 1,
   "metadata": {},
   "outputs": [
    {
     "name": "stderr",
     "output_type": "stream",
     "text": [
      "C:\\Anaconda3\\lib\\site-packages\\pandas\\compat\\_optional.py:138: UserWarning: Pandas requires version '2.7.0' or newer of 'numexpr' (version '2.6.9' currently installed).\n",
      "  warnings.warn(msg, UserWarning)\n"
     ]
    }
   ],
   "source": [
    "import numpy as np\n",
    "import pandas as pd\n",
    "import matplotlib.pyplot as plt\n",
    "\n",
    "from sklearn.metrics import classification_report, confusion_matrix, roc_curve, auc, accuracy_score\n",
    "\n",
    "import seaborn as sb"
   ]
  },
  {
   "cell_type": "code",
   "execution_count": 2,
   "metadata": {},
   "outputs": [],
   "source": [
    "chromConvert = {\n",
    "               'chr_18': 0, \n",
    "               'chr_18_p11_deletion': 1\n",
    "               }"
   ]
  },
  {
   "cell_type": "code",
   "execution_count": 3,
   "metadata": {},
   "outputs": [],
   "source": [
    "chromConvert_reverse = {\n",
    "                0: 'chr_18',\n",
    "                1: 'chr_18_p11_deletion'\n",
    "               }"
   ]
  },
  {
   "cell_type": "code",
   "execution_count": 4,
   "metadata": {},
   "outputs": [],
   "source": [
    "label = ['chr_18', 'chr_18_p11_deletion']\n",
    "\n",
    "label_convert = []\n",
    "\n",
    "for i in range(2):\n",
    "    label_convert.append(chromConvert_reverse[i])"
   ]
  },
  {
   "cell_type": "markdown",
   "metadata": {},
   "source": [
    "# Load test and predict values"
   ]
  },
  {
   "cell_type": "code",
   "execution_count": 5,
   "metadata": {},
   "outputs": [],
   "source": [
    "y_test_all = []\n",
    "y_predict_all = []\n",
    "y_predict_filtered_all = []"
   ]
  },
  {
   "cell_type": "code",
   "execution_count": 6,
   "metadata": {},
   "outputs": [],
   "source": [
    "for iterationNumber in range(5):\n",
    "    with open('data_y_test_value_iteration_' + str(iterationNumber) + '.npy', 'rb') as f_y_test:\n",
    "        y_test_all.append(np.load(f_y_test))\n",
    "        \n",
    "    with open('data_y_predict_value_iteration_' + str(iterationNumber) + '.npy', 'rb') as f_y_predict:\n",
    "        y_predict_all.append(np.load(f_y_predict))                             \n",
    "                        \n",
    "    with open('data_y_predict_filtered_value_iteration_' + str(iterationNumber) + '.npy', 'rb') as f_y_predict_filtered:\n",
    "        y_predict_filtered_all.append(np.load(f_y_predict_filtered))"
   ]
  },
  {
   "cell_type": "code",
   "execution_count": 7,
   "metadata": {},
   "outputs": [
    {
     "data": {
      "text/plain": [
       "(51, 2)"
      ]
     },
     "execution_count": 7,
     "metadata": {},
     "output_type": "execute_result"
    }
   ],
   "source": [
    "y_predict_all[0].shape"
   ]
  },
  {
   "cell_type": "code",
   "execution_count": 8,
   "metadata": {
    "scrolled": true
   },
   "outputs": [
    {
     "data": {
      "text/plain": [
       "[array([[1.0000000e+00, 1.2312318e-23],\n",
       "        [6.7604752e-03, 9.5155877e-01],\n",
       "        [1.0000000e+00, 8.8520859e-14],\n",
       "        [1.0000000e+00, 6.4229478e-14],\n",
       "        [1.0000000e+00, 5.5082700e-20],\n",
       "        [9.9935323e-01, 3.2376873e-04],\n",
       "        [9.6061248e-01, 1.3578196e-02],\n",
       "        [1.0000000e+00, 1.4069217e-22],\n",
       "        [1.0000000e+00, 1.6295723e-11],\n",
       "        [9.9742907e-01, 7.0581841e-06],\n",
       "        [1.0000000e+00, 4.1072284e-11],\n",
       "        [1.0000000e+00, 4.7891096e-09],\n",
       "        [1.0000000e+00, 5.8143286e-17],\n",
       "        [1.0000000e+00, 1.4643116e-16],\n",
       "        [9.9982351e-01, 6.2782165e-06],\n",
       "        [1.0000000e+00, 5.5046652e-13],\n",
       "        [1.0000000e+00, 9.1051540e-09],\n",
       "        [4.5790064e-01, 8.4590949e-02],\n",
       "        [9.9999940e-01, 1.1951440e-07],\n",
       "        [9.9992955e-01, 1.7126264e-05],\n",
       "        [9.4244057e-01, 1.2890375e-02],\n",
       "        [3.6406636e-01, 2.1736875e-01],\n",
       "        [1.0000000e+00, 3.6396054e-20],\n",
       "        [1.0000000e+00, 7.7210243e-19],\n",
       "        [9.9999428e-01, 1.3442491e-07],\n",
       "        [9.9470621e-01, 4.3546362e-04],\n",
       "        [9.9559832e-01, 9.1812566e-05],\n",
       "        [9.9999213e-01, 4.4059536e-07],\n",
       "        [1.0000000e+00, 2.7947086e-10],\n",
       "        [1.0000000e+00, 1.0469846e-14],\n",
       "        [9.9999666e-01, 4.4951289e-08],\n",
       "        [9.9950719e-01, 8.3877785e-06],\n",
       "        [2.8858515e-02, 6.2378401e-01],\n",
       "        [9.9983764e-01, 2.5521242e-06],\n",
       "        [9.9999738e-01, 4.8174023e-08],\n",
       "        [1.0000000e+00, 1.6630711e-17],\n",
       "        [4.3835586e-05, 9.9692863e-01],\n",
       "        [4.3982113e-04, 9.8992378e-01],\n",
       "        [5.0005116e-03, 9.4875640e-01],\n",
       "        [1.4307652e-08, 9.9999917e-01],\n",
       "        [9.9999011e-01, 9.2539567e-09],\n",
       "        [3.8352169e-05, 9.9943727e-01],\n",
       "        [8.5256770e-06, 9.9981421e-01],\n",
       "        [1.0512404e-07, 9.9999630e-01],\n",
       "        [9.5364012e-06, 9.9951339e-01],\n",
       "        [2.7647850e-04, 9.7106141e-01],\n",
       "        [2.5885515e-07, 9.9998343e-01],\n",
       "        [1.2446503e-08, 9.9999917e-01],\n",
       "        [2.2066867e-08, 9.9999368e-01],\n",
       "        [9.7480351e-01, 5.3673801e-03],\n",
       "        [3.0108725e-07, 9.9998784e-01]], dtype=float32),\n",
       " array([[9.9999988e-01, 5.6397216e-09],\n",
       "        [1.3627365e-01, 8.0136813e-02],\n",
       "        [1.0000000e+00, 2.3817606e-11],\n",
       "        [9.9454558e-01, 1.9198828e-04],\n",
       "        [9.9999821e-01, 5.0507520e-08],\n",
       "        [5.0350990e-02, 6.5135670e-01],\n",
       "        [9.9999809e-01, 1.0563956e-08],\n",
       "        [9.9995720e-01, 2.0136847e-06],\n",
       "        [9.9999475e-01, 2.6822147e-07],\n",
       "        [9.9985754e-01, 5.6778358e-06],\n",
       "        [9.9115831e-01, 1.7813231e-04],\n",
       "        [9.9990809e-01, 1.6969951e-06],\n",
       "        [4.9882747e-11, 1.0000000e+00],\n",
       "        [9.9391079e-01, 2.6977016e-04],\n",
       "        [9.9773574e-01, 6.6128152e-05],\n",
       "        [9.8231816e-01, 1.4497587e-03],\n",
       "        [9.9999750e-01, 1.1817339e-07],\n",
       "        [9.9997211e-01, 2.1176795e-06],\n",
       "        [9.9838495e-01, 1.8670064e-04],\n",
       "        [9.9999988e-01, 6.0968883e-09],\n",
       "        [5.7533139e-01, 2.1300269e-02],\n",
       "        [9.9360549e-01, 3.3230442e-04],\n",
       "        [1.0000000e+00, 2.3437136e-10],\n",
       "        [9.9999964e-01, 2.1794841e-09],\n",
       "        [1.0000000e+00, 3.7277761e-10],\n",
       "        [1.0000000e+00, 3.5024308e-09],\n",
       "        [9.9999464e-01, 6.2450823e-07],\n",
       "        [9.9999785e-01, 1.5184158e-07],\n",
       "        [9.9961662e-01, 5.2815809e-05],\n",
       "        [9.9999762e-01, 2.2867516e-07],\n",
       "        [9.9982905e-01, 2.1946164e-05],\n",
       "        [9.9940383e-01, 5.2761341e-05],\n",
       "        [9.9997449e-01, 3.2183000e-06],\n",
       "        [6.1670744e-01, 9.3701527e-02],\n",
       "        [9.9411845e-01, 7.2886888e-04],\n",
       "        [3.9794661e-02, 8.7749761e-01],\n",
       "        [4.6770860e-05, 9.9930310e-01],\n",
       "        [2.6332891e-10, 1.0000000e+00],\n",
       "        [1.4653152e-08, 1.0000000e+00],\n",
       "        [5.3895306e-04, 9.9927515e-01],\n",
       "        [6.8677963e-08, 9.9999988e-01],\n",
       "        [1.4989084e-05, 9.9998832e-01],\n",
       "        [1.4236505e-04, 9.9979311e-01],\n",
       "        [5.1522840e-12, 1.0000000e+00],\n",
       "        [2.5111362e-07, 9.9999964e-01],\n",
       "        [1.1495575e-06, 9.9999869e-01],\n",
       "        [1.9001747e-07, 9.9999964e-01],\n",
       "        [5.9238673e-08, 9.9999988e-01],\n",
       "        [1.8299326e-10, 1.0000000e+00],\n",
       "        [4.2794488e-09, 1.0000000e+00]], dtype=float32),\n",
       " array([[1.00000000e+00, 2.29198864e-08],\n",
       "        [1.00000000e+00, 5.56162405e-09],\n",
       "        [9.99999285e-01, 1.27321744e-06],\n",
       "        [9.99999881e-01, 4.59097969e-08],\n",
       "        [9.96092618e-01, 1.94364844e-03],\n",
       "        [1.00000000e+00, 2.05282973e-07],\n",
       "        [9.99999404e-01, 1.94875611e-06],\n",
       "        [9.99997497e-01, 2.20642119e-06],\n",
       "        [1.00000000e+00, 7.14651520e-08],\n",
       "        [9.99870539e-01, 8.97303180e-05],\n",
       "        [9.99999285e-01, 3.56540646e-08],\n",
       "        [9.99967456e-01, 3.10664036e-05],\n",
       "        [9.99813378e-01, 1.02031852e-04],\n",
       "        [9.99992967e-01, 5.67734833e-06],\n",
       "        [9.99997020e-01, 3.38060931e-06],\n",
       "        [9.99998450e-01, 5.86947067e-07],\n",
       "        [9.99999166e-01, 1.67088649e-06],\n",
       "        [9.91933286e-01, 1.20476994e-03],\n",
       "        [9.99999881e-01, 2.40617510e-07],\n",
       "        [9.99991059e-01, 9.08611401e-06],\n",
       "        [1.00000000e+00, 7.01615335e-08],\n",
       "        [9.99995589e-01, 1.09011025e-05],\n",
       "        [9.99976516e-01, 2.05797296e-05],\n",
       "        [9.99999166e-01, 1.55323266e-06],\n",
       "        [9.99998450e-01, 1.57632826e-06],\n",
       "        [9.99998450e-01, 2.24056021e-06],\n",
       "        [1.00000000e+00, 3.50985516e-08],\n",
       "        [9.97428596e-01, 2.18082592e-03],\n",
       "        [9.99999762e-01, 5.72157603e-07],\n",
       "        [9.99999881e-01, 2.60286953e-07],\n",
       "        [9.99975204e-01, 2.79594587e-05],\n",
       "        [9.99999642e-01, 4.41807146e-07],\n",
       "        [9.96885478e-01, 2.27243663e-03],\n",
       "        [9.99998689e-01, 2.81658777e-06],\n",
       "        [9.99999404e-01, 4.69824300e-07],\n",
       "        [4.27054694e-08, 9.99991417e-01],\n",
       "        [8.84071487e-05, 9.97248352e-01],\n",
       "        [1.26840059e-05, 9.98829663e-01],\n",
       "        [7.97865272e-01, 6.54658303e-02],\n",
       "        [6.82788948e-03, 8.32826793e-01],\n",
       "        [9.99839902e-01, 2.41324829e-04],\n",
       "        [1.76138288e-11, 1.00000000e+00],\n",
       "        [1.34134098e-07, 9.99997973e-01],\n",
       "        [1.18439823e-06, 9.99986887e-01],\n",
       "        [1.67068572e-06, 9.99973655e-01],\n",
       "        [1.47217957e-04, 9.93186474e-01],\n",
       "        [3.30303562e-10, 1.00000000e+00],\n",
       "        [1.06114273e-09, 1.00000000e+00],\n",
       "        [1.52667994e-08, 9.99999523e-01],\n",
       "        [7.07263052e-06, 9.99937773e-01]], dtype=float32),\n",
       " array([[1.00000000e+00, 2.42807115e-21],\n",
       "        [9.99997616e-01, 2.84094790e-06],\n",
       "        [1.00000000e+00, 4.02324216e-11],\n",
       "        [9.99998331e-01, 4.30044111e-06],\n",
       "        [1.00000000e+00, 0.00000000e+00],\n",
       "        [1.00000000e+00, 2.52067042e-25],\n",
       "        [1.00000000e+00, 7.49357343e-15],\n",
       "        [1.00000000e+00, 5.91093670e-18],\n",
       "        [9.99919891e-01, 2.44426599e-04],\n",
       "        [1.00000000e+00, 1.77519277e-09],\n",
       "        [1.00000000e+00, 5.77119758e-16],\n",
       "        [1.00000000e+00, 2.14242461e-11],\n",
       "        [1.00000000e+00, 1.15359342e-18],\n",
       "        [1.00000000e+00, 1.94884620e-09],\n",
       "        [9.99999642e-01, 4.90421201e-07],\n",
       "        [1.00000000e+00, 1.26963748e-15],\n",
       "        [1.00000000e+00, 2.24642331e-08],\n",
       "        [1.00000000e+00, 1.55223036e-16],\n",
       "        [9.99999762e-01, 2.76020899e-07],\n",
       "        [1.00000000e+00, 3.34796409e-20],\n",
       "        [9.99999523e-01, 3.14039625e-07],\n",
       "        [9.99718964e-01, 1.93574218e-04],\n",
       "        [1.00000000e+00, 3.42829660e-22],\n",
       "        [1.00000000e+00, 3.11192131e-12],\n",
       "        [9.99845028e-01, 6.85425694e-05],\n",
       "        [9.99999285e-01, 3.63033763e-07],\n",
       "        [9.99999642e-01, 2.55677662e-07],\n",
       "        [9.99999881e-01, 6.33489208e-08],\n",
       "        [9.99999642e-01, 4.03037603e-07],\n",
       "        [9.99999881e-01, 5.28714814e-08],\n",
       "        [1.00000000e+00, 1.26012685e-08],\n",
       "        [9.99999404e-01, 3.13884556e-07],\n",
       "        [9.99874473e-01, 1.84760953e-04],\n",
       "        [1.00000000e+00, 3.87319725e-11],\n",
       "        [9.99994159e-01, 1.19812989e-06],\n",
       "        [1.17992675e-02, 9.95207608e-01],\n",
       "        [9.36731756e-01, 7.80584291e-02],\n",
       "        [1.66007158e-05, 9.99997854e-01],\n",
       "        [1.70932827e-03, 9.99390483e-01],\n",
       "        [1.76718517e-04, 9.99988079e-01],\n",
       "        [1.18775768e-06, 9.99999881e-01],\n",
       "        [4.23991615e-08, 1.00000000e+00],\n",
       "        [4.37586661e-03, 9.97392893e-01],\n",
       "        [3.21551488e-05, 9.99991894e-01],\n",
       "        [2.23406623e-05, 9.99996901e-01],\n",
       "        [4.31559101e-07, 1.00000000e+00],\n",
       "        [1.54529098e-05, 9.99998212e-01],\n",
       "        [1.04054052e-04, 9.99979019e-01],\n",
       "        [1.77368122e-06, 9.99999404e-01],\n",
       "        [6.50815127e-06, 9.99998689e-01]], dtype=float32),\n",
       " array([[1.00000000e+00, 7.30652872e-10],\n",
       "        [1.00000000e+00, 1.34726994e-08],\n",
       "        [1.00000000e+00, 1.29251021e-07],\n",
       "        [3.65720093e-01, 7.73083389e-01],\n",
       "        [1.00000000e+00, 8.76553514e-08],\n",
       "        [1.00000000e+00, 4.35837052e-07],\n",
       "        [9.99998093e-01, 9.73196620e-06],\n",
       "        [9.92327869e-01, 6.08311314e-03],\n",
       "        [1.00000000e+00, 2.02986050e-09],\n",
       "        [9.99995351e-01, 2.51984929e-05],\n",
       "        [9.99999762e-01, 2.82234464e-06],\n",
       "        [1.00000000e+00, 5.90205502e-07],\n",
       "        [9.99923825e-01, 7.60333263e-04],\n",
       "        [1.00000000e+00, 6.59473130e-07],\n",
       "        [9.99997854e-01, 2.88344527e-05],\n",
       "        [9.99997258e-01, 1.17976533e-05],\n",
       "        [9.99999404e-01, 7.39276402e-06],\n",
       "        [9.99996185e-01, 2.28664521e-05],\n",
       "        [9.96332765e-01, 1.14862602e-02],\n",
       "        [1.00000000e+00, 3.80405282e-07],\n",
       "        [1.00000000e+00, 5.00981645e-10],\n",
       "        [9.99966741e-01, 2.27962446e-04],\n",
       "        [9.99998808e-01, 1.61497737e-05],\n",
       "        [1.00000000e+00, 6.67181894e-07],\n",
       "        [1.00000000e+00, 5.38723448e-08],\n",
       "        [1.00000000e+00, 1.36183873e-08],\n",
       "        [1.00000000e+00, 1.67768846e-07],\n",
       "        [9.99999404e-01, 8.03366220e-06],\n",
       "        [1.00000000e+00, 1.14533542e-07],\n",
       "        [9.99999762e-01, 3.10963947e-06],\n",
       "        [1.00000000e+00, 1.13275632e-07],\n",
       "        [1.00000000e+00, 1.15249090e-08],\n",
       "        [1.00000000e+00, 1.08993004e-06],\n",
       "        [9.99980450e-01, 1.62705997e-04],\n",
       "        [1.00000000e+00, 1.59782957e-07],\n",
       "        [2.84912020e-01, 8.32761884e-01],\n",
       "        [9.48339164e-01, 8.88770893e-02],\n",
       "        [2.96020508e-01, 8.93342376e-01],\n",
       "        [7.76069792e-05, 9.99864101e-01],\n",
       "        [1.13014877e-01, 9.05135453e-01],\n",
       "        [1.00349236e-04, 9.99829888e-01],\n",
       "        [5.00561995e-03, 9.95493650e-01],\n",
       "        [9.99901295e-01, 3.34058772e-04],\n",
       "        [9.11859729e-07, 9.99997735e-01],\n",
       "        [5.31413716e-05, 9.99833345e-01],\n",
       "        [1.87395269e-03, 9.98279452e-01],\n",
       "        [3.18706414e-04, 9.99392033e-01],\n",
       "        [9.01137944e-04, 9.98706818e-01],\n",
       "        [4.36315895e-04, 9.99122441e-01],\n",
       "        [1.05559636e-07, 9.99999642e-01]], dtype=float32)]"
      ]
     },
     "execution_count": 8,
     "metadata": {},
     "output_type": "execute_result"
    }
   ],
   "source": [
    "y_predict_all"
   ]
  },
  {
   "cell_type": "code",
   "execution_count": 9,
   "metadata": {},
   "outputs": [],
   "source": [
    "y_test_concatenate_list = []\n",
    "y_predict_concatenate_list = []\n",
    "y_predict_filtered_concatenate_list = []"
   ]
  },
  {
   "cell_type": "code",
   "execution_count": 10,
   "metadata": {},
   "outputs": [],
   "source": [
    "for i in range(5):\n",
    "    y_test_concatenate_list.extend(list(y_test_all[i]))\n",
    "    y_predict_concatenate_list.extend(list(y_predict_all[i]))\n",
    "    y_predict_filtered_concatenate_list.extend(list(y_predict_filtered_all[i]))"
   ]
  },
  {
   "cell_type": "code",
   "execution_count": 11,
   "metadata": {},
   "outputs": [
    {
     "data": {
      "text/plain": [
       "(51, 2)"
      ]
     },
     "execution_count": 11,
     "metadata": {},
     "output_type": "execute_result"
    }
   ],
   "source": [
    "y_predict_all[0].shape"
   ]
  },
  {
   "cell_type": "code",
   "execution_count": 12,
   "metadata": {},
   "outputs": [
    {
     "data": {
      "text/plain": [
       "['chr_18', 'chr_18_p11_deletion']"
      ]
     },
     "execution_count": 12,
     "metadata": {},
     "output_type": "execute_result"
    }
   ],
   "source": [
    "label_convert"
   ]
  },
  {
   "cell_type": "code",
   "execution_count": 13,
   "metadata": {},
   "outputs": [
    {
     "data": {
      "text/plain": [
       "251"
      ]
     },
     "execution_count": 13,
     "metadata": {},
     "output_type": "execute_result"
    }
   ],
   "source": [
    "len(y_test_concatenate_list)"
   ]
  },
  {
   "cell_type": "code",
   "execution_count": 14,
   "metadata": {},
   "outputs": [
    {
     "data": {
      "text/plain": [
       "251"
      ]
     },
     "execution_count": 14,
     "metadata": {},
     "output_type": "execute_result"
    }
   ],
   "source": [
    "len(y_predict_filtered_concatenate_list)"
   ]
  },
  {
   "cell_type": "code",
   "execution_count": 15,
   "metadata": {},
   "outputs": [
    {
     "data": {
      "text/plain": [
       "251"
      ]
     },
     "execution_count": 15,
     "metadata": {},
     "output_type": "execute_result"
    }
   ],
   "source": [
    "len(y_predict_concatenate_list)"
   ]
  },
  {
   "cell_type": "markdown",
   "metadata": {},
   "source": [
    "# Classification Report"
   ]
  },
  {
   "cell_type": "markdown",
   "metadata": {},
   "source": [
    "## Accuracy"
   ]
  },
  {
   "cell_type": "code",
   "execution_count": 16,
   "metadata": {},
   "outputs": [
    {
     "name": "stdout",
     "output_type": "stream",
     "text": [
      "Accuracy is  0.952191235059761\n"
     ]
    }
   ],
   "source": [
    "acc = accuracy_score(y_test_concatenate_list, y_predict_filtered_concatenate_list, normalize=True, sample_weight=None)\n",
    "print('Accuracy is ', acc)"
   ]
  },
  {
   "cell_type": "markdown",
   "metadata": {},
   "source": [
    "## Precision, Recall, and F1"
   ]
  },
  {
   "cell_type": "code",
   "execution_count": 17,
   "metadata": {},
   "outputs": [
    {
     "name": "stdout",
     "output_type": "stream",
     "text": [
      "                     precision    recall  f1-score   support\n",
      "\n",
      "             chr_18       0.96      0.97      0.97       176\n",
      "chr_18_p11_deletion       0.93      0.91      0.92        75\n",
      "\n",
      "          micro avg       0.95      0.95      0.95       251\n",
      "          macro avg       0.95      0.94      0.94       251\n",
      "       weighted avg       0.95      0.95      0.95       251\n",
      "\n"
     ]
    }
   ],
   "source": [
    "performanceReport = classification_report(y_test_concatenate_list, y_predict_filtered_concatenate_list, \n",
    "                                          target_names=label_convert)\n",
    "\n",
    "\n",
    "print(performanceReport)"
   ]
  },
  {
   "cell_type": "markdown",
   "metadata": {},
   "source": [
    "## Confusion Matrix"
   ]
  },
  {
   "cell_type": "code",
   "execution_count": 18,
   "metadata": {},
   "outputs": [
    {
     "data": {
      "text/html": [
       "<div>\n",
       "<style scoped>\n",
       "    .dataframe tbody tr th:only-of-type {\n",
       "        vertical-align: middle;\n",
       "    }\n",
       "\n",
       "    .dataframe tbody tr th {\n",
       "        vertical-align: top;\n",
       "    }\n",
       "\n",
       "    .dataframe thead th {\n",
       "        text-align: right;\n",
       "    }\n",
       "</style>\n",
       "<table border=\"1\" class=\"dataframe\">\n",
       "  <thead>\n",
       "    <tr style=\"text-align: right;\">\n",
       "      <th></th>\n",
       "      <th>chr_18</th>\n",
       "      <th>chr_18_p11_deletion</th>\n",
       "    </tr>\n",
       "  </thead>\n",
       "  <tbody>\n",
       "    <tr>\n",
       "      <th>chr_18</th>\n",
       "      <td>171</td>\n",
       "      <td>5</td>\n",
       "    </tr>\n",
       "    <tr>\n",
       "      <th>chr_18_p11_deletion</th>\n",
       "      <td>7</td>\n",
       "      <td>68</td>\n",
       "    </tr>\n",
       "  </tbody>\n",
       "</table>\n",
       "</div>"
      ],
      "text/plain": [
       "                     chr_18  chr_18_p11_deletion\n",
       "chr_18                  171                    5\n",
       "chr_18_p11_deletion       7                   68"
      ]
     },
     "execution_count": 18,
     "metadata": {},
     "output_type": "execute_result"
    }
   ],
   "source": [
    "cm = np.array(confusion_matrix(y_test_concatenate_list, y_predict_filtered_concatenate_list))\n",
    "confusion = pd.DataFrame(cm, index=label_convert,\n",
    "                        columns=label_convert)\n",
    "confusion.to_csv('ConfusionMatrix_Combination_of_CrossValidation_KaryoType_CNN' + str(iterationNumber) + '.csv')\n",
    "confusion"
   ]
  },
  {
   "cell_type": "markdown",
   "metadata": {},
   "source": [
    "### 3.10.4 Rate of Confusion Matrix"
   ]
  },
  {
   "cell_type": "markdown",
   "metadata": {},
   "source": [
    "### 3.10.5 Recall (查全率)，(Sensitivity Rate)"
   ]
  },
  {
   "cell_type": "code",
   "execution_count": 19,
   "metadata": {
    "scrolled": true
   },
   "outputs": [],
   "source": [
    "subtotal = [0] * 2  \n",
    "for item in y_test_concatenate_list:\n",
    "    subtotal[item] = subtotal[item] + 1"
   ]
  },
  {
   "cell_type": "markdown",
   "metadata": {},
   "source": [
    "#### predict number divided by y test"
   ]
  },
  {
   "cell_type": "code",
   "execution_count": 20,
   "metadata": {},
   "outputs": [],
   "source": [
    "cm_r = []\n",
    "for i in range(2):\n",
    "    cm_r.append(cm[i]/subtotal[i])"
   ]
  },
  {
   "cell_type": "code",
   "execution_count": 21,
   "metadata": {},
   "outputs": [
    {
     "data": {
      "text/html": [
       "<div>\n",
       "<style scoped>\n",
       "    .dataframe tbody tr th:only-of-type {\n",
       "        vertical-align: middle;\n",
       "    }\n",
       "\n",
       "    .dataframe tbody tr th {\n",
       "        vertical-align: top;\n",
       "    }\n",
       "\n",
       "    .dataframe thead th {\n",
       "        text-align: right;\n",
       "    }\n",
       "</style>\n",
       "<table border=\"1\" class=\"dataframe\">\n",
       "  <thead>\n",
       "    <tr style=\"text-align: right;\">\n",
       "      <th></th>\n",
       "      <th>chr_18</th>\n",
       "      <th>chr_18_p11_deletion</th>\n",
       "    </tr>\n",
       "  </thead>\n",
       "  <tbody>\n",
       "    <tr>\n",
       "      <th>chr_18</th>\n",
       "      <td>0.971591</td>\n",
       "      <td>0.028409</td>\n",
       "    </tr>\n",
       "    <tr>\n",
       "      <th>chr_18_p11_deletion</th>\n",
       "      <td>0.093333</td>\n",
       "      <td>0.906667</td>\n",
       "    </tr>\n",
       "  </tbody>\n",
       "</table>\n",
       "</div>"
      ],
      "text/plain": [
       "                       chr_18  chr_18_p11_deletion\n",
       "chr_18               0.971591             0.028409\n",
       "chr_18_p11_deletion  0.093333             0.906667"
      ]
     },
     "execution_count": 21,
     "metadata": {},
     "output_type": "execute_result"
    }
   ],
   "source": [
    "confusion_r = pd.DataFrame(cm_r, index=label_convert,\n",
    "                        columns=label_convert)\n",
    "confusion_r.to_csv('ConfusionMatrix_Recall_Integration_CNN.csv')\n",
    "confusion_r"
   ]
  },
  {
   "cell_type": "markdown",
   "metadata": {},
   "source": [
    "### 3.10.6 Precision (查准率）"
   ]
  },
  {
   "cell_type": "code",
   "execution_count": 22,
   "metadata": {},
   "outputs": [],
   "source": [
    "subtotal_predict = [0] * 2 \n",
    "for item in y_predict_filtered_concatenate_list:\n",
    "    subtotal_predict[item] = subtotal_predict[item] + 1"
   ]
  },
  {
   "cell_type": "markdown",
   "metadata": {},
   "source": [
    "#### predict number divided by y predicted"
   ]
  },
  {
   "cell_type": "code",
   "execution_count": 23,
   "metadata": {},
   "outputs": [],
   "source": [
    "cm_p = []\n",
    "for i in range(2):\n",
    "    cm_p.append(cm[:,i]/subtotal_predict[i])"
   ]
  },
  {
   "cell_type": "code",
   "execution_count": 24,
   "metadata": {},
   "outputs": [
    {
     "data": {
      "text/html": [
       "<div>\n",
       "<style scoped>\n",
       "    .dataframe tbody tr th:only-of-type {\n",
       "        vertical-align: middle;\n",
       "    }\n",
       "\n",
       "    .dataframe tbody tr th {\n",
       "        vertical-align: top;\n",
       "    }\n",
       "\n",
       "    .dataframe thead th {\n",
       "        text-align: right;\n",
       "    }\n",
       "</style>\n",
       "<table border=\"1\" class=\"dataframe\">\n",
       "  <thead>\n",
       "    <tr style=\"text-align: right;\">\n",
       "      <th></th>\n",
       "      <th>chr_18</th>\n",
       "      <th>chr_18_p11_deletion</th>\n",
       "    </tr>\n",
       "  </thead>\n",
       "  <tbody>\n",
       "    <tr>\n",
       "      <th>chr_18</th>\n",
       "      <td>0.960674</td>\n",
       "      <td>0.039326</td>\n",
       "    </tr>\n",
       "    <tr>\n",
       "      <th>chr_18_p11_deletion</th>\n",
       "      <td>0.068493</td>\n",
       "      <td>0.931507</td>\n",
       "    </tr>\n",
       "  </tbody>\n",
       "</table>\n",
       "</div>"
      ],
      "text/plain": [
       "                       chr_18  chr_18_p11_deletion\n",
       "chr_18               0.960674             0.039326\n",
       "chr_18_p11_deletion  0.068493             0.931507"
      ]
     },
     "execution_count": 24,
     "metadata": {},
     "output_type": "execute_result"
    }
   ],
   "source": [
    "confusion_p = pd.DataFrame(cm_p, index=label_convert,\n",
    "                        columns=label_convert)\n",
    "confusion_p.to_csv('ConfusionMatrix_Precision_Integration_CNN.csv')\n",
    "confusion_p"
   ]
  },
  {
   "cell_type": "markdown",
   "metadata": {},
   "source": [
    "#### Heat Map: Number"
   ]
  },
  {
   "cell_type": "code",
   "execution_count": 25,
   "metadata": {
    "scrolled": false
   },
   "outputs": [
    {
     "data": {
      "image/png": "[encoded data removed]",
      "text/plain": [
       "<Figure size 2160x1728 with 2 Axes>"
      ]
     },
     "metadata": {
      "needs_background": "light"
     },
     "output_type": "display_data"
    }
   ],
   "source": [
    "plt.figure(figsize=(30, 24))\n",
    "heat_map = sb.heatmap(confusion, annot=True, fmt = 'g', # It's a Seaborn function\n",
    "                      cmap='coolwarm', \n",
    "                      xticklabels=confusion.columns, yticklabels=confusion.index, \n",
    "                      linewidths=.5, \n",
    "                      annot_kws={\"size\": 50})\n",
    "sb.set(font_scale = 4)"
   ]
  },
  {
   "cell_type": "markdown",
   "metadata": {},
   "source": [
    "#### Heat Map of Recall: Rate (important!!!)"
   ]
  },
  {
   "cell_type": "code",
   "execution_count": 26,
   "metadata": {
    "scrolled": false
   },
   "outputs": [
    {
     "data": {
      "image/png": "[encoded data removed]",
      "text/plain": [
       "<Figure size 2160x1728 with 2 Axes>"
      ]
     },
     "metadata": {},
     "output_type": "display_data"
    }
   ],
   "source": [
    "plt.figure(figsize=(30, 24))\n",
    "heat_map_r = sb.heatmap(confusion_r, annot=True,   # It's a Seaborn function\n",
    "                      cmap='coolwarm', \n",
    "                      xticklabels=confusion.columns, yticklabels=confusion.index, \n",
    "                      linewidths=1, \n",
    "                      annot_kws={\"size\": 50})\n",
    "sb.set(font_scale = 4)"
   ]
  },
  {
   "cell_type": "code",
   "execution_count": 27,
   "metadata": {},
   "outputs": [
    {
     "data": {
      "image/png": "[encoded data removed]",
      "text/plain": [
       "<Figure size 2160x1728 with 2 Axes>"
      ]
     },
     "metadata": {},
     "output_type": "display_data"
    }
   ],
   "source": [
    "plt.figure(figsize=(30, 24))\n",
    "heat_map_p = sb.heatmap(confusion_p, annot=True,  # It's a Seaborn function\n",
    "                      cmap='coolwarm', \n",
    "                      xticklabels=confusion.columns, yticklabels=confusion.index, \n",
    "                      linewidths=1, \n",
    "                      annot_kws={\"size\": 50})\n",
    "sb.set(font_scale = 4)"
   ]
  },
  {
   "cell_type": "code",
   "execution_count": 28,
   "metadata": {},
   "outputs": [],
   "source": [
    "fig = heat_map.get_figure()    \n",
    "fig.savefig('Heatmap_Combination.png', dpi=400)"
   ]
  },
  {
   "cell_type": "code",
   "execution_count": 29,
   "metadata": {},
   "outputs": [],
   "source": [
    "fig_r = heat_map_r.get_figure()    \n",
    "fig_r.savefig('Heatmap_Recall_Combination.png', dpi=400)"
   ]
  },
  {
   "cell_type": "code",
   "execution_count": 30,
   "metadata": {},
   "outputs": [],
   "source": [
    "fig_p = heat_map_p.get_figure()    \n",
    "fig_p.savefig('Heatmap_Precision_Combination.png', dpi=400)"
   ]
  },
  {
   "cell_type": "markdown",
   "metadata": {},
   "source": [
    "# ROC Curve"
   ]
  },
  {
   "cell_type": "code",
   "execution_count": 31,
   "metadata": {},
   "outputs": [
    {
     "data": {
      "text/plain": [
       "array([[1.00000000e+00, 1.23123178e-23],\n",
       "       [6.76047523e-03, 9.51558769e-01],\n",
       "       [1.00000000e+00, 8.85208587e-14],\n",
       "       [1.00000000e+00, 6.42294784e-14],\n",
       "       [1.00000000e+00, 5.50827002e-20],\n",
       "       [9.99353230e-01, 3.23768734e-04],\n",
       "       [9.60612476e-01, 1.35781961e-02],\n",
       "       [1.00000000e+00, 1.40692169e-22],\n",
       "       [1.00000000e+00, 1.62957235e-11],\n",
       "       [9.97429073e-01, 7.05818411e-06],\n",
       "       [1.00000000e+00, 4.10722845e-11],\n",
       "       [1.00000000e+00, 4.78910955e-09],\n",
       "       [1.00000000e+00, 5.81432863e-17],\n",
       "       [1.00000000e+00, 1.46431165e-16],\n",
       "       [9.99823511e-01, 6.27821646e-06],\n",
       "       [1.00000000e+00, 5.50466519e-13],\n",
       "       [1.00000000e+00, 9.10515396e-09],\n",
       "       [4.57900643e-01, 8.45909491e-02],\n",
       "       [9.99999404e-01, 1.19514397e-07],\n",
       "       [9.99929547e-01, 1.71262636e-05],\n",
       "       [9.42440569e-01, 1.28903752e-02],\n",
       "       [3.64066362e-01, 2.17368752e-01],\n",
       "       [1.00000000e+00, 3.63960536e-20],\n",
       "       [1.00000000e+00, 7.72102430e-19],\n",
       "       [9.99994278e-01, 1.34424909e-07],\n",
       "       [9.94706213e-01, 4.35463618e-04],\n",
       "       [9.95598316e-01, 9.18125661e-05],\n",
       "       [9.99992132e-01, 4.40595358e-07],\n",
       "       [1.00000000e+00, 2.79470863e-10],\n",
       "       [1.00000000e+00, 1.04698456e-14],\n",
       "       [9.99996662e-01, 4.49512889e-08],\n",
       "       [9.99507189e-01, 8.38777851e-06],\n",
       "       [2.88585145e-02, 6.23784006e-01],\n",
       "       [9.99837637e-01, 2.55212422e-06],\n",
       "       [9.99997377e-01, 4.81740230e-08],\n",
       "       [1.00000000e+00, 1.66307111e-17],\n",
       "       [4.38355855e-05, 9.96928632e-01],\n",
       "       [4.39821131e-04, 9.89923775e-01],\n",
       "       [5.00051165e-03, 9.48756397e-01],\n",
       "       [1.43076520e-08, 9.99999166e-01],\n",
       "       [9.99990106e-01, 9.25395671e-09],\n",
       "       [3.83521692e-05, 9.99437273e-01],\n",
       "       [8.52567700e-06, 9.99814212e-01],\n",
       "       [1.05124037e-07, 9.99996305e-01],\n",
       "       [9.53640119e-06, 9.99513388e-01],\n",
       "       [2.76478502e-04, 9.71061409e-01],\n",
       "       [2.58855152e-07, 9.99983430e-01],\n",
       "       [1.24465034e-08, 9.99999166e-01],\n",
       "       [2.20668674e-08, 9.99993682e-01],\n",
       "       [9.74803507e-01, 5.36738010e-03],\n",
       "       [3.01087255e-07, 9.99987841e-01],\n",
       "       [9.99999881e-01, 5.63972158e-09],\n",
       "       [1.36273652e-01, 8.01368132e-02],\n",
       "       [1.00000000e+00, 2.38176059e-11],\n",
       "       [9.94545579e-01, 1.91988278e-04],\n",
       "       [9.99998212e-01, 5.05075199e-08],\n",
       "       [5.03509901e-02, 6.51356697e-01],\n",
       "       [9.99998093e-01, 1.05639559e-08],\n",
       "       [9.99957204e-01, 2.01368471e-06],\n",
       "       [9.99994755e-01, 2.68221470e-07],\n",
       "       [9.99857545e-01, 5.67783582e-06],\n",
       "       [9.91158307e-01, 1.78132308e-04],\n",
       "       [9.99908090e-01, 1.69699513e-06],\n",
       "       [4.98827472e-11, 1.00000000e+00],\n",
       "       [9.93910789e-01, 2.69770157e-04],\n",
       "       [9.97735739e-01, 6.61281520e-05],\n",
       "       [9.82318163e-01, 1.44975865e-03],\n",
       "       [9.99997497e-01, 1.18173389e-07],\n",
       "       [9.99972105e-01, 2.11767951e-06],\n",
       "       [9.98384953e-01, 1.86700636e-04],\n",
       "       [9.99999881e-01, 6.09688833e-09],\n",
       "       [5.75331390e-01, 2.13002693e-02],\n",
       "       [9.93605494e-01, 3.32304422e-04],\n",
       "       [1.00000000e+00, 2.34371356e-10],\n",
       "       [9.99999642e-01, 2.17948415e-09],\n",
       "       [1.00000000e+00, 3.72777614e-10],\n",
       "       [1.00000000e+00, 3.50243079e-09],\n",
       "       [9.99994636e-01, 6.24508232e-07],\n",
       "       [9.99997854e-01, 1.51841576e-07],\n",
       "       [9.99616623e-01, 5.28158089e-05],\n",
       "       [9.99997616e-01, 2.28675162e-07],\n",
       "       [9.99829054e-01, 2.19461635e-05],\n",
       "       [9.99403834e-01, 5.27613411e-05],\n",
       "       [9.99974489e-01, 3.21829998e-06],\n",
       "       [6.16707444e-01, 9.37015265e-02],\n",
       "       [9.94118452e-01, 7.28868879e-04],\n",
       "       [3.97946611e-02, 8.77497613e-01],\n",
       "       [4.67708596e-05, 9.99303102e-01],\n",
       "       [2.63328914e-10, 1.00000000e+00],\n",
       "       [1.46531516e-08, 1.00000000e+00],\n",
       "       [5.38953056e-04, 9.99275148e-01],\n",
       "       [6.86779629e-08, 9.99999881e-01],\n",
       "       [1.49890839e-05, 9.99988317e-01],\n",
       "       [1.42365054e-04, 9.99793112e-01],\n",
       "       [5.15228398e-12, 1.00000000e+00],\n",
       "       [2.51113619e-07, 9.99999642e-01],\n",
       "       [1.14955753e-06, 9.99998689e-01],\n",
       "       [1.90017474e-07, 9.99999642e-01],\n",
       "       [5.92386726e-08, 9.99999881e-01],\n",
       "       [1.82993259e-10, 1.00000000e+00],\n",
       "       [4.27944880e-09, 1.00000000e+00],\n",
       "       [1.00000000e+00, 2.29198864e-08],\n",
       "       [1.00000000e+00, 5.56162405e-09],\n",
       "       [9.99999285e-01, 1.27321744e-06],\n",
       "       [9.99999881e-01, 4.59097969e-08],\n",
       "       [9.96092618e-01, 1.94364844e-03],\n",
       "       [1.00000000e+00, 2.05282973e-07],\n",
       "       [9.99999404e-01, 1.94875611e-06],\n",
       "       [9.99997497e-01, 2.20642119e-06],\n",
       "       [1.00000000e+00, 7.14651520e-08],\n",
       "       [9.99870539e-01, 8.97303180e-05],\n",
       "       [9.99999285e-01, 3.56540646e-08],\n",
       "       [9.99967456e-01, 3.10664036e-05],\n",
       "       [9.99813378e-01, 1.02031852e-04],\n",
       "       [9.99992967e-01, 5.67734833e-06],\n",
       "       [9.99997020e-01, 3.38060931e-06],\n",
       "       [9.99998450e-01, 5.86947067e-07],\n",
       "       [9.99999166e-01, 1.67088649e-06],\n",
       "       [9.91933286e-01, 1.20476994e-03],\n",
       "       [9.99999881e-01, 2.40617510e-07],\n",
       "       [9.99991059e-01, 9.08611401e-06],\n",
       "       [1.00000000e+00, 7.01615335e-08],\n",
       "       [9.99995589e-01, 1.09011025e-05],\n",
       "       [9.99976516e-01, 2.05797296e-05],\n",
       "       [9.99999166e-01, 1.55323266e-06],\n",
       "       [9.99998450e-01, 1.57632826e-06],\n",
       "       [9.99998450e-01, 2.24056021e-06],\n",
       "       [1.00000000e+00, 3.50985516e-08],\n",
       "       [9.97428596e-01, 2.18082592e-03],\n",
       "       [9.99999762e-01, 5.72157603e-07],\n",
       "       [9.99999881e-01, 2.60286953e-07],\n",
       "       [9.99975204e-01, 2.79594587e-05],\n",
       "       [9.99999642e-01, 4.41807146e-07],\n",
       "       [9.96885478e-01, 2.27243663e-03],\n",
       "       [9.99998689e-01, 2.81658777e-06],\n",
       "       [9.99999404e-01, 4.69824300e-07],\n",
       "       [4.27054694e-08, 9.99991417e-01],\n",
       "       [8.84071487e-05, 9.97248352e-01],\n",
       "       [1.26840059e-05, 9.98829663e-01],\n",
       "       [7.97865272e-01, 6.54658303e-02],\n",
       "       [6.82788948e-03, 8.32826793e-01],\n",
       "       [9.99839902e-01, 2.41324829e-04],\n",
       "       [1.76138288e-11, 1.00000000e+00],\n",
       "       [1.34134098e-07, 9.99997973e-01],\n",
       "       [1.18439823e-06, 9.99986887e-01],\n",
       "       [1.67068572e-06, 9.99973655e-01],\n",
       "       [1.47217957e-04, 9.93186474e-01],\n",
       "       [3.30303562e-10, 1.00000000e+00],\n",
       "       [1.06114273e-09, 1.00000000e+00],\n",
       "       [1.52667994e-08, 9.99999523e-01],\n",
       "       [7.07263052e-06, 9.99937773e-01],\n",
       "       [1.00000000e+00, 2.42807115e-21],\n",
       "       [9.99997616e-01, 2.84094790e-06],\n",
       "       [1.00000000e+00, 4.02324216e-11],\n",
       "       [9.99998331e-01, 4.30044111e-06],\n",
       "       [1.00000000e+00, 0.00000000e+00],\n",
       "       [1.00000000e+00, 2.52067042e-25],\n",
       "       [1.00000000e+00, 7.49357343e-15],\n",
       "       [1.00000000e+00, 5.91093670e-18],\n",
       "       [9.99919891e-01, 2.44426599e-04],\n",
       "       [1.00000000e+00, 1.77519277e-09],\n",
       "       [1.00000000e+00, 5.77119758e-16],\n",
       "       [1.00000000e+00, 2.14242461e-11],\n",
       "       [1.00000000e+00, 1.15359342e-18],\n",
       "       [1.00000000e+00, 1.94884620e-09],\n",
       "       [9.99999642e-01, 4.90421201e-07],\n",
       "       [1.00000000e+00, 1.26963748e-15],\n",
       "       [1.00000000e+00, 2.24642331e-08],\n",
       "       [1.00000000e+00, 1.55223036e-16],\n",
       "       [9.99999762e-01, 2.76020899e-07],\n",
       "       [1.00000000e+00, 3.34796409e-20],\n",
       "       [9.99999523e-01, 3.14039625e-07],\n",
       "       [9.99718964e-01, 1.93574218e-04],\n",
       "       [1.00000000e+00, 3.42829660e-22],\n",
       "       [1.00000000e+00, 3.11192131e-12],\n",
       "       [9.99845028e-01, 6.85425694e-05],\n",
       "       [9.99999285e-01, 3.63033763e-07],\n",
       "       [9.99999642e-01, 2.55677662e-07],\n",
       "       [9.99999881e-01, 6.33489208e-08],\n",
       "       [9.99999642e-01, 4.03037603e-07],\n",
       "       [9.99999881e-01, 5.28714814e-08],\n",
       "       [1.00000000e+00, 1.26012685e-08],\n",
       "       [9.99999404e-01, 3.13884556e-07],\n",
       "       [9.99874473e-01, 1.84760953e-04],\n",
       "       [1.00000000e+00, 3.87319725e-11],\n",
       "       [9.99994159e-01, 1.19812989e-06],\n",
       "       [1.17992675e-02, 9.95207608e-01],\n",
       "       [9.36731756e-01, 7.80584291e-02],\n",
       "       [1.66007158e-05, 9.99997854e-01],\n",
       "       [1.70932827e-03, 9.99390483e-01],\n",
       "       [1.76718517e-04, 9.99988079e-01],\n",
       "       [1.18775768e-06, 9.99999881e-01],\n",
       "       [4.23991615e-08, 1.00000000e+00],\n",
       "       [4.37586661e-03, 9.97392893e-01],\n",
       "       [3.21551488e-05, 9.99991894e-01],\n",
       "       [2.23406623e-05, 9.99996901e-01],\n",
       "       [4.31559101e-07, 1.00000000e+00],\n",
       "       [1.54529098e-05, 9.99998212e-01],\n",
       "       [1.04054052e-04, 9.99979019e-01],\n",
       "       [1.77368122e-06, 9.99999404e-01],\n",
       "       [6.50815127e-06, 9.99998689e-01],\n",
       "       [1.00000000e+00, 7.30652872e-10],\n",
       "       [1.00000000e+00, 1.34726994e-08],\n",
       "       [1.00000000e+00, 1.29251021e-07],\n",
       "       [3.65720093e-01, 7.73083389e-01],\n",
       "       [1.00000000e+00, 8.76553514e-08],\n",
       "       [1.00000000e+00, 4.35837052e-07],\n",
       "       [9.99998093e-01, 9.73196620e-06],\n",
       "       [9.92327869e-01, 6.08311314e-03],\n",
       "       [1.00000000e+00, 2.02986050e-09],\n",
       "       [9.99995351e-01, 2.51984929e-05],\n",
       "       [9.99999762e-01, 2.82234464e-06],\n",
       "       [1.00000000e+00, 5.90205502e-07],\n",
       "       [9.99923825e-01, 7.60333263e-04],\n",
       "       [1.00000000e+00, 6.59473130e-07],\n",
       "       [9.99997854e-01, 2.88344527e-05],\n",
       "       [9.99997258e-01, 1.17976533e-05],\n",
       "       [9.99999404e-01, 7.39276402e-06],\n",
       "       [9.99996185e-01, 2.28664521e-05],\n",
       "       [9.96332765e-01, 1.14862602e-02],\n",
       "       [1.00000000e+00, 3.80405282e-07],\n",
       "       [1.00000000e+00, 5.00981645e-10],\n",
       "       [9.99966741e-01, 2.27962446e-04],\n",
       "       [9.99998808e-01, 1.61497737e-05],\n",
       "       [1.00000000e+00, 6.67181894e-07],\n",
       "       [1.00000000e+00, 5.38723448e-08],\n",
       "       [1.00000000e+00, 1.36183873e-08],\n",
       "       [1.00000000e+00, 1.67768846e-07],\n",
       "       [9.99999404e-01, 8.03366220e-06],\n",
       "       [1.00000000e+00, 1.14533542e-07],\n",
       "       [9.99999762e-01, 3.10963947e-06],\n",
       "       [1.00000000e+00, 1.13275632e-07],\n",
       "       [1.00000000e+00, 1.15249090e-08],\n",
       "       [1.00000000e+00, 1.08993004e-06],\n",
       "       [9.99980450e-01, 1.62705997e-04],\n",
       "       [1.00000000e+00, 1.59782957e-07],\n",
       "       [2.84912020e-01, 8.32761884e-01],\n",
       "       [9.48339164e-01, 8.88770893e-02],\n",
       "       [2.96020508e-01, 8.93342376e-01],\n",
       "       [7.76069792e-05, 9.99864101e-01],\n",
       "       [1.13014877e-01, 9.05135453e-01],\n",
       "       [1.00349236e-04, 9.99829888e-01],\n",
       "       [5.00561995e-03, 9.95493650e-01],\n",
       "       [9.99901295e-01, 3.34058772e-04],\n",
       "       [9.11859729e-07, 9.99997735e-01],\n",
       "       [5.31413716e-05, 9.99833345e-01],\n",
       "       [1.87395269e-03, 9.98279452e-01],\n",
       "       [3.18706414e-04, 9.99392033e-01],\n",
       "       [9.01137944e-04, 9.98706818e-01],\n",
       "       [4.36315895e-04, 9.99122441e-01],\n",
       "       [1.05559636e-07, 9.99999642e-01]], dtype=float32)"
      ]
     },
     "execution_count": 31,
     "metadata": {},
     "output_type": "execute_result"
    }
   ],
   "source": [
    "y_predict_concatenate_array = np.array(y_predict_concatenate_list)\n",
    "y_predict_concatenate_array"
   ]
  },
  {
   "cell_type": "code",
   "execution_count": 32,
   "metadata": {},
   "outputs": [
    {
     "data": {
      "text/plain": [
       "(251, 2)"
      ]
     },
     "execution_count": 32,
     "metadata": {},
     "output_type": "execute_result"
    }
   ],
   "source": [
    "y_predict_concatenate_array.shape"
   ]
  },
  {
   "cell_type": "code",
   "execution_count": 33,
   "metadata": {},
   "outputs": [],
   "source": [
    "y_predict_1D = y_predict_concatenate_array[:,0]"
   ]
  },
  {
   "cell_type": "code",
   "execution_count": 34,
   "metadata": {},
   "outputs": [],
   "source": [
    "y_predict_1D_processed = 1- y_predict_1D"
   ]
  },
  {
   "cell_type": "code",
   "execution_count": 35,
   "metadata": {},
   "outputs": [],
   "source": [
    "fpr , tpr , thresholds = roc_curve(y_test_concatenate_list , y_predict_1D_processed)\n",
    "auc_rf = auc(fpr, tpr)"
   ]
  },
  {
   "cell_type": "code",
   "execution_count": 36,
   "metadata": {},
   "outputs": [
    {
     "data": {
      "text/plain": [
       "0.9807575757575758"
      ]
     },
     "execution_count": 36,
     "metadata": {},
     "output_type": "execute_result"
    }
   ],
   "source": [
    "auc_rf"
   ]
  },
  {
   "cell_type": "code",
   "execution_count": 37,
   "metadata": {},
   "outputs": [],
   "source": [
    "x = y = np.arange(0, 1.1, 0.1)"
   ]
  },
  {
   "cell_type": "code",
   "execution_count": 38,
   "metadata": {},
   "outputs": [
    {
     "data": {
      "text/plain": [
       "array([0. , 0.1, 0.2, 0.3, 0.4, 0.5, 0.6, 0.7, 0.8, 0.9, 1. ])"
      ]
     },
     "execution_count": 38,
     "metadata": {},
     "output_type": "execute_result"
    }
   ],
   "source": [
    "x"
   ]
  },
  {
   "cell_type": "code",
   "execution_count": 39,
   "metadata": {
    "scrolled": false
   },
   "outputs": [
    {
     "data": {
      "image/png": "[encoded data removed]",
      "text/plain": [
       "<Figure size 432x288 with 1 Axes>"
      ]
     },
     "metadata": {},
     "output_type": "display_data"
    }
   ],
   "source": [
    "fig = plt.figure()\n",
    "plt.style.use('classic')\n",
    "\n",
    "ax = fig.add_subplot(111)\n",
    "\n",
    "plt.plot(fpr, tpr, color='blue', linewidth=0.9)\n",
    "\n",
    "plt.plot(x, y, '--', color='black', linewidth=0.8)\n",
    "\n",
    "plt.title('ROC curve of 18p11', fontsize=15, fontname = 'Times New Roman')\n",
    "\n",
    "plt.xlabel('False Positive Rate', fontsize=15, fontname = 'Times New Roman')\n",
    "plt.ylabel('True positive Rate', fontsize=15, fontname = 'Times New Roman')\n",
    "\n",
    "ax.set_aspect('equal', adjustable='box')\n",
    "\n",
    "plt.xlim(-0.08, 1.1)\n",
    "plt.ylim(-0.08, 1.1)\n",
    "\n",
    "plt.xticks(fontsize=15, fontname = 'Arial')\n",
    "plt.yticks(fontsize=15, fontname = 'Arial')\n",
    "\n",
    "plt.savefig('ROC_Curve_Combination.png', dpi=600)\n",
    "plt.show()"
   ]
  },
  {
   "cell_type": "markdown",
   "metadata": {},
   "source": [
    "#### 3.10.4.1 AUC Value"
   ]
  },
  {
   "cell_type": "code",
   "execution_count": 40,
   "metadata": {},
   "outputs": [],
   "source": [
    "auc_value = auc(fpr, tpr)"
   ]
  },
  {
   "cell_type": "code",
   "execution_count": 41,
   "metadata": {},
   "outputs": [
    {
     "name": "stdout",
     "output_type": "stream",
     "text": [
      "AUC is  0.9807575757575758\n"
     ]
    }
   ],
   "source": [
    "print('AUC is ', auc_value)"
   ]
  },
  {
   "cell_type": "markdown",
   "metadata": {},
   "source": [
    "# Results"
   ]
  },
  {
   "cell_type": "code",
   "execution_count": 42,
   "metadata": {},
   "outputs": [
    {
     "name": "stdout",
     "output_type": "stream",
     "text": [
      "Test Accuracy: 0.952\n"
     ]
    }
   ],
   "source": [
    "print('Test Accuracy: %.3f' % acc)"
   ]
  },
  {
   "cell_type": "code",
   "execution_count": 43,
   "metadata": {
    "scrolled": true
   },
   "outputs": [
    {
     "name": "stdout",
     "output_type": "stream",
     "text": [
      "                     precision    recall  f1-score   support\n",
      "\n",
      "             chr_18       0.96      0.97      0.97       176\n",
      "chr_18_p11_deletion       0.93      0.91      0.92        75\n",
      "\n",
      "          micro avg       0.95      0.95      0.95       251\n",
      "          macro avg       0.95      0.94      0.94       251\n",
      "       weighted avg       0.95      0.95      0.95       251\n",
      "\n"
     ]
    }
   ],
   "source": [
    "print(performanceReport)"
   ]
  },
  {
   "cell_type": "code",
   "execution_count": 44,
   "metadata": {},
   "outputs": [
    {
     "data": {
      "text/plain": [
       "str"
      ]
     },
     "execution_count": 44,
     "metadata": {},
     "output_type": "execute_result"
    }
   ],
   "source": [
    "type(performanceReport)"
   ]
  },
  {
   "cell_type": "code",
   "execution_count": 45,
   "metadata": {},
   "outputs": [
    {
     "name": "stdout",
     "output_type": "stream",
     "text": [
      "AUC is  0.9807575757575758\n"
     ]
    }
   ],
   "source": [
    "print('AUC is ', auc_value)"
   ]
  },
  {
   "cell_type": "markdown",
   "metadata": {},
   "source": [
    "## Export to a text file"
   ]
  },
  {
   "cell_type": "code",
   "execution_count": 46,
   "metadata": {},
   "outputs": [],
   "source": [
    "file_report = open('ResultsCombination.txt', 'w')\n",
    "file_report.write('Accuracy: %s\\n\\n' % acc)\n",
    "file_report.write('AUC: %s.\\n\\n' % auc_value)\n",
    "file_report.write('Performance Report: \\n%s\\n\\n' % performanceReport)\n",
    "file_report.write('Confusion Matrix: \\n%s.\\n\\n' % confusion)\n",
    "file_report.write('Recall of Confusion Matrix: \\n%s.\\n\\n' % confusion_r)\n",
    "file_report.write('Precision of Confusion Matrix: \\n%s.\\n\\n' % confusion_p)\n",
    "file_report.close()"
   ]
  },
  {
   "cell_type": "markdown",
   "metadata": {},
   "source": [
    "## Export ROC Parameters"
   ]
  },
  {
   "cell_type": "code",
   "execution_count": 47,
   "metadata": {},
   "outputs": [],
   "source": [
    "with open('tpr_' + label_convert[1] + '.npy', 'wb') as file_tpr:\n",
    "    np.save(file_tpr, np.array(tpr))\n",
    "    \n",
    "with open('fpr_' + label_convert[1] + '.npy', 'wb') as file_fpr:\n",
    "    np.save(file_fpr, np.array(fpr))\n",
    "    \n",
    "with open('thresholds_' + label_convert[1] + '.npy', 'wb') as file_thresholds:\n",
    "    np.save(file_thresholds, np.array(thresholds))"
   ]
  },
  {
   "cell_type": "code",
   "execution_count": null,
   "metadata": {},
   "outputs": [],
   "source": []
  }
 ],
 "metadata": {
  "kernelspec": {
   "display_name": "Python 3",
   "language": "python",
   "name": "python3"
  },
  "language_info": {
   "codemirror_mode": {
    "name": "ipython",
    "version": 3
   },
   "file_extension": ".py",
   "mimetype": "text/x-python",
   "name": "python",
   "nbconvert_exporter": "python",
   "pygments_lexer": "ipython3",
   "version": "3.7.3"
  }
 },
 "nbformat": 4,
 "nbformat_minor": 2
}
