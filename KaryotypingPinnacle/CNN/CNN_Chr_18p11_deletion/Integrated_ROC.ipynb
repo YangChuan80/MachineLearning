{
 "cells": [
  {
   "cell_type": "code",
   "execution_count": 1,
   "metadata": {},
   "outputs": [],
   "source": [
    "import numpy as np\n",
    "import pandas as pd\n",
    "import matplotlib.pyplot as plt\n",
    "\n",
    "from sklearn.metrics import classification_report, confusion_matrix, roc_curve, auc, accuracy_score\n",
    "\n",
    "import seaborn as sb"
   ]
  },
  {
   "cell_type": "code",
   "execution_count": 2,
   "metadata": {},
   "outputs": [],
   "source": [
    "chromConvert = {\n",
    "               'chr_18': 0, \n",
    "               'chr_18_p11_deletion': 1\n",
    "               }"
   ]
  },
  {
   "cell_type": "code",
   "execution_count": 3,
   "metadata": {},
   "outputs": [],
   "source": [
    "chromConvert_reverse = {\n",
    "                0: 'chr_18',\n",
    "                1: 'chr_18_p11_deletion'\n",
    "               }"
   ]
  },
  {
   "cell_type": "code",
   "execution_count": 4,
   "metadata": {},
   "outputs": [],
   "source": [
    "label = ['chr_18', 'chr_18_p11_deletion']\n",
    "\n",
    "label_convert = []\n",
    "\n",
    "for i in range(2):\n",
    "    label_convert.append(chromConvert_reverse[i])"
   ]
  },
  {
   "cell_type": "markdown",
   "metadata": {},
   "source": [
    "# Load test and predict values"
   ]
  },
  {
   "cell_type": "code",
   "execution_count": 5,
   "metadata": {},
   "outputs": [],
   "source": [
    "y_test_all = []\n",
    "y_predict_all = []\n",
    "y_predict_filtered_all = []"
   ]
  },
  {
   "cell_type": "code",
   "execution_count": 6,
   "metadata": {},
   "outputs": [],
   "source": [
    "for iterationNumber in range(5):\n",
    "    with open('data_y_test_value_iteration_' + str(iterationNumber) + '.npy', 'rb') as f_y_test:\n",
    "        y_test_all.append(np.load(f_y_test))\n",
    "        \n",
    "    with open('data_y_predict_value_iteration_' + str(iterationNumber) + '.npy', 'rb') as f_y_predict:\n",
    "        y_predict_all.append(np.load(f_y_predict))                             \n",
    "                        \n",
    "    with open('data_y_predict_filtered_value_iteration_' + str(iterationNumber) + '.npy', 'rb') as f_y_predict_filtered:\n",
    "        y_predict_filtered_all.append(np.load(f_y_predict_filtered))"
   ]
  },
  {
   "cell_type": "code",
   "execution_count": 7,
   "metadata": {},
   "outputs": [
    {
     "data": {
      "text/plain": [
       "(51, 2)"
      ]
     },
     "execution_count": 7,
     "metadata": {},
     "output_type": "execute_result"
    }
   ],
   "source": [
    "y_predict_all[0].shape"
   ]
  },
  {
   "cell_type": "code",
   "execution_count": 8,
   "metadata": {
    "scrolled": true
   },
   "outputs": [
    {
     "data": {
      "text/plain": [
       "[array([[1.00000000e+00, 1.26359259e-23],\n",
       "        [9.99999046e-01, 1.18055505e-06],\n",
       "        [1.00000000e+00, 2.06130402e-08],\n",
       "        [1.00000000e+00, 4.97908135e-19],\n",
       "        [1.00000000e+00, 3.43676438e-17],\n",
       "        [9.99991536e-01, 8.42741156e-06],\n",
       "        [9.99999881e-01, 9.49334407e-08],\n",
       "        [1.00000000e+00, 1.15383965e-26],\n",
       "        [1.00000000e+00, 1.63695300e-14],\n",
       "        [1.00000000e+00, 7.21215798e-09],\n",
       "        [1.00000000e+00, 3.31764304e-12],\n",
       "        [1.00000000e+00, 1.31622546e-09],\n",
       "        [1.00000000e+00, 9.11000706e-15],\n",
       "        [1.00000000e+00, 4.61892216e-14],\n",
       "        [1.00000000e+00, 4.06618561e-09],\n",
       "        [9.99998093e-01, 4.78334243e-08],\n",
       "        [9.99999881e-01, 2.29615068e-07],\n",
       "        [9.99978304e-01, 9.48372690e-06],\n",
       "        [9.55235422e-01, 7.91004598e-02],\n",
       "        [1.00000000e+00, 1.10188543e-08],\n",
       "        [3.56711261e-03, 9.98437703e-01],\n",
       "        [9.99694824e-01, 2.67356372e-04],\n",
       "        [1.00000000e+00, 1.84858517e-10],\n",
       "        [1.00000000e+00, 5.45901594e-13],\n",
       "        [1.00000000e+00, 4.70471040e-09],\n",
       "        [9.99999166e-01, 1.56870851e-06],\n",
       "        [1.00000000e+00, 3.51374374e-10],\n",
       "        [9.99996901e-01, 2.52257382e-06],\n",
       "        [1.00000000e+00, 1.84998349e-12],\n",
       "        [9.98735726e-01, 9.69900633e-04],\n",
       "        [9.99999762e-01, 3.31091144e-07],\n",
       "        [1.00000000e+00, 3.03066940e-08],\n",
       "        [2.05538876e-04, 9.99935627e-01],\n",
       "        [1.00000000e+00, 1.11143716e-11],\n",
       "        [1.00000000e+00, 1.61073628e-13],\n",
       "        [1.00000000e+00, 1.62428456e-11],\n",
       "        [3.29351760e-02, 9.79833007e-01],\n",
       "        [2.40300149e-02, 9.78488207e-01],\n",
       "        [5.92517018e-01, 1.64180592e-01],\n",
       "        [5.24364793e-07, 9.99999642e-01],\n",
       "        [8.06314588e-01, 8.22830349e-02],\n",
       "        [1.91833187e-05, 9.99985814e-01],\n",
       "        [1.51699540e-04, 9.99860525e-01],\n",
       "        [1.76014983e-05, 9.99985814e-01],\n",
       "        [2.25313101e-03, 9.99272168e-01],\n",
       "        [1.59554627e-08, 1.00000000e+00],\n",
       "        [8.14922601e-08, 1.00000000e+00],\n",
       "        [2.85374799e-08, 1.00000000e+00],\n",
       "        [2.21071410e-08, 1.00000000e+00],\n",
       "        [7.09639251e-01, 5.32915413e-01],\n",
       "        [9.54903726e-07, 9.99999404e-01]], dtype=float32),\n",
       " array([[9.9982232e-01, 1.1855130e-03],\n",
       "        [4.2614236e-01, 3.1726176e-01],\n",
       "        [9.9999917e-01, 1.0562520e-05],\n",
       "        [9.9808168e-01, 7.4316990e-03],\n",
       "        [8.6249101e-01, 3.0178916e-01],\n",
       "        [9.9997365e-01, 2.1351752e-04],\n",
       "        [9.9999785e-01, 2.8562006e-05],\n",
       "        [9.9984396e-01, 7.9346821e-04],\n",
       "        [9.9990952e-01, 3.5040555e-04],\n",
       "        [3.4554037e-01, 8.2405549e-01],\n",
       "        [8.6712188e-01, 2.9714003e-01],\n",
       "        [9.9976772e-01, 1.8597629e-03],\n",
       "        [9.9622858e-01, 1.0376962e-02],\n",
       "        [1.0000000e+00, 1.2911194e-07],\n",
       "        [9.9938929e-01, 2.6138581e-03],\n",
       "        [9.9996579e-01, 1.7294582e-04],\n",
       "        [1.0000000e+00, 3.9529034e-08],\n",
       "        [9.9749666e-01, 7.4687158e-03],\n",
       "        [1.3103111e-03, 9.9847239e-01],\n",
       "        [9.9999988e-01, 1.9636659e-06],\n",
       "        [9.8899394e-01, 3.2774601e-02],\n",
       "        [9.9990690e-01, 4.0590391e-04],\n",
       "        [9.9984181e-01, 6.5154018e-04],\n",
       "        [9.9999905e-01, 9.8963328e-06],\n",
       "        [9.9999905e-01, 1.0100896e-05],\n",
       "        [9.9999940e-01, 6.6212074e-06],\n",
       "        [9.9999356e-01, 4.2687265e-05],\n",
       "        [9.9998188e-01, 1.1325057e-04],\n",
       "        [9.9988389e-01, 6.6283700e-04],\n",
       "        [9.9999928e-01, 7.8950879e-06],\n",
       "        [9.9999940e-01, 8.0084728e-06],\n",
       "        [9.9963951e-01, 1.2808638e-03],\n",
       "        [9.9951911e-01, 1.9348356e-03],\n",
       "        [9.9990153e-01, 4.1697084e-04],\n",
       "        [9.9999559e-01, 3.2174594e-05],\n",
       "        [4.5548789e-03, 9.9468225e-01],\n",
       "        [8.2472684e-03, 9.9537933e-01],\n",
       "        [5.6664357e-03, 9.9674678e-01],\n",
       "        [4.9444765e-07, 9.9999917e-01],\n",
       "        [4.3087464e-04, 9.9949348e-01],\n",
       "        [9.9936241e-01, 2.0138198e-03],\n",
       "        [1.2406953e-02, 9.9130160e-01],\n",
       "        [6.8897009e-01, 5.7834589e-01],\n",
       "        [1.8717243e-03, 9.9934715e-01],\n",
       "        [2.0719663e-05, 9.9997997e-01],\n",
       "        [9.7801022e-02, 9.5732594e-01],\n",
       "        [3.9505103e-06, 9.9999535e-01],\n",
       "        [6.7722617e-04, 9.9967039e-01],\n",
       "        [2.3536587e-10, 1.0000000e+00],\n",
       "        [1.3074448e-04, 9.9982065e-01]], dtype=float32),\n",
       " array([[9.9999976e-01, 5.8100729e-09],\n",
       "        [8.4701067e-01, 3.6175118e-03],\n",
       "        [9.9998021e-01, 9.4645043e-07],\n",
       "        [9.9997067e-01, 4.1664780e-06],\n",
       "        [9.9990153e-01, 6.5113923e-06],\n",
       "        [1.0000000e+00, 1.5133962e-15],\n",
       "        [1.0000000e+00, 8.6858570e-10],\n",
       "        [9.9999928e-01, 1.9782687e-08],\n",
       "        [1.0000000e+00, 8.6063903e-13],\n",
       "        [9.9999976e-01, 3.1694378e-09],\n",
       "        [1.0000000e+00, 2.3751097e-30],\n",
       "        [6.4019032e-02, 9.0500820e-01],\n",
       "        [9.9999928e-01, 2.4369768e-08],\n",
       "        [1.3424593e-01, 1.4652723e-01],\n",
       "        [9.9935263e-01, 4.3337732e-06],\n",
       "        [9.9999917e-01, 1.1805259e-08],\n",
       "        [9.9999976e-01, 1.5542751e-08],\n",
       "        [3.7905964e-01, 1.6790481e-01],\n",
       "        [9.9983490e-01, 1.6580067e-05],\n",
       "        [1.0000000e+00, 2.1804768e-10],\n",
       "        [1.0000000e+00, 3.7822143e-10],\n",
       "        [1.0000000e+00, 8.8663149e-10],\n",
       "        [9.9999857e-01, 7.4875416e-08],\n",
       "        [1.0000000e+00, 3.1693936e-10],\n",
       "        [9.9431157e-01, 5.4937886e-04],\n",
       "        [1.0000000e+00, 2.4090402e-19],\n",
       "        [9.9998879e-01, 6.0873282e-07],\n",
       "        [6.8537736e-01, 7.5496279e-02],\n",
       "        [9.9994135e-01, 1.0635945e-05],\n",
       "        [1.0000000e+00, 2.6501358e-12],\n",
       "        [9.9999809e-01, 1.6475472e-07],\n",
       "        [1.0000000e+00, 4.9278794e-13],\n",
       "        [9.2325580e-01, 1.5886065e-02],\n",
       "        [1.5020916e-03, 9.9704307e-01],\n",
       "        [9.9999988e-01, 9.0073176e-09],\n",
       "        [4.5233789e-01, 3.6205325e-02],\n",
       "        [4.1669675e-05, 9.9994946e-01],\n",
       "        [9.4744384e-01, 2.5591236e-03],\n",
       "        [9.9045616e-01, 9.9663006e-04],\n",
       "        [7.1865237e-01, 1.8926842e-02],\n",
       "        [9.9787498e-01, 1.6991516e-04],\n",
       "        [8.1127922e-09, 1.0000000e+00],\n",
       "        [1.2977788e-08, 1.0000000e+00],\n",
       "        [1.7658464e-06, 9.9999511e-01],\n",
       "        [1.8996467e-04, 9.9956840e-01],\n",
       "        [5.4629755e-01, 1.9738172e-01],\n",
       "        [3.7959171e-07, 9.9999881e-01],\n",
       "        [7.5078402e-05, 9.9920565e-01],\n",
       "        [6.2588453e-01, 5.5145998e-02],\n",
       "        [2.8983068e-08, 9.9999988e-01]], dtype=float32),\n",
       " array([[1.00000000e+00, 2.42807115e-21],\n",
       "        [9.99997616e-01, 2.84094790e-06],\n",
       "        [1.00000000e+00, 4.02324216e-11],\n",
       "        [9.99998331e-01, 4.30044111e-06],\n",
       "        [1.00000000e+00, 0.00000000e+00],\n",
       "        [1.00000000e+00, 2.52067042e-25],\n",
       "        [1.00000000e+00, 7.49357343e-15],\n",
       "        [1.00000000e+00, 5.91093670e-18],\n",
       "        [9.99919891e-01, 2.44426599e-04],\n",
       "        [1.00000000e+00, 1.77519277e-09],\n",
       "        [1.00000000e+00, 5.77119758e-16],\n",
       "        [1.00000000e+00, 2.14242461e-11],\n",
       "        [1.00000000e+00, 1.15359342e-18],\n",
       "        [1.00000000e+00, 1.94884620e-09],\n",
       "        [9.99999642e-01, 4.90421201e-07],\n",
       "        [1.00000000e+00, 1.26963748e-15],\n",
       "        [1.00000000e+00, 2.24642331e-08],\n",
       "        [1.00000000e+00, 1.55223036e-16],\n",
       "        [9.99999762e-01, 2.76020899e-07],\n",
       "        [1.00000000e+00, 3.34796409e-20],\n",
       "        [9.99999523e-01, 3.14039625e-07],\n",
       "        [9.99718964e-01, 1.93574218e-04],\n",
       "        [1.00000000e+00, 3.42829660e-22],\n",
       "        [1.00000000e+00, 3.11192131e-12],\n",
       "        [9.99845028e-01, 6.85425694e-05],\n",
       "        [9.99999285e-01, 3.63033763e-07],\n",
       "        [9.99999642e-01, 2.55677662e-07],\n",
       "        [9.99999881e-01, 6.33489208e-08],\n",
       "        [9.99999642e-01, 4.03037603e-07],\n",
       "        [9.99999881e-01, 5.28714814e-08],\n",
       "        [1.00000000e+00, 1.26012685e-08],\n",
       "        [9.99999404e-01, 3.13884556e-07],\n",
       "        [9.99874473e-01, 1.84760953e-04],\n",
       "        [1.00000000e+00, 3.87319725e-11],\n",
       "        [9.99994159e-01, 1.19812989e-06],\n",
       "        [1.17992675e-02, 9.95207608e-01],\n",
       "        [9.36731756e-01, 7.80584291e-02],\n",
       "        [1.66007158e-05, 9.99997854e-01],\n",
       "        [1.70932827e-03, 9.99390483e-01],\n",
       "        [1.76718517e-04, 9.99988079e-01],\n",
       "        [1.18775768e-06, 9.99999881e-01],\n",
       "        [4.23991615e-08, 1.00000000e+00],\n",
       "        [4.37586661e-03, 9.97392893e-01],\n",
       "        [3.21551488e-05, 9.99991894e-01],\n",
       "        [2.23406623e-05, 9.99996901e-01],\n",
       "        [4.31559101e-07, 1.00000000e+00],\n",
       "        [1.54529098e-05, 9.99998212e-01],\n",
       "        [1.04054052e-04, 9.99979019e-01],\n",
       "        [1.77368122e-06, 9.99999404e-01],\n",
       "        [6.50815127e-06, 9.99998689e-01]], dtype=float32),\n",
       " array([[1.00000000e+00, 7.30652872e-10],\n",
       "        [1.00000000e+00, 1.34726994e-08],\n",
       "        [1.00000000e+00, 1.29251021e-07],\n",
       "        [3.65720093e-01, 7.73083389e-01],\n",
       "        [1.00000000e+00, 8.76553514e-08],\n",
       "        [1.00000000e+00, 4.35837052e-07],\n",
       "        [9.99998093e-01, 9.73196620e-06],\n",
       "        [9.92327869e-01, 6.08311314e-03],\n",
       "        [1.00000000e+00, 2.02986050e-09],\n",
       "        [9.99995351e-01, 2.51984929e-05],\n",
       "        [9.99999762e-01, 2.82234464e-06],\n",
       "        [1.00000000e+00, 5.90205502e-07],\n",
       "        [9.99923825e-01, 7.60333263e-04],\n",
       "        [1.00000000e+00, 6.59473130e-07],\n",
       "        [9.99997854e-01, 2.88344527e-05],\n",
       "        [9.99997258e-01, 1.17976533e-05],\n",
       "        [9.99999404e-01, 7.39276402e-06],\n",
       "        [9.99996185e-01, 2.28664521e-05],\n",
       "        [9.96332765e-01, 1.14862602e-02],\n",
       "        [1.00000000e+00, 3.80405282e-07],\n",
       "        [1.00000000e+00, 5.00981645e-10],\n",
       "        [9.99966741e-01, 2.27962446e-04],\n",
       "        [9.99998808e-01, 1.61497737e-05],\n",
       "        [1.00000000e+00, 6.67181894e-07],\n",
       "        [1.00000000e+00, 5.38723448e-08],\n",
       "        [1.00000000e+00, 1.36183873e-08],\n",
       "        [1.00000000e+00, 1.67768846e-07],\n",
       "        [9.99999404e-01, 8.03366220e-06],\n",
       "        [1.00000000e+00, 1.14533542e-07],\n",
       "        [9.99999762e-01, 3.10963947e-06],\n",
       "        [1.00000000e+00, 1.13275632e-07],\n",
       "        [1.00000000e+00, 1.15249090e-08],\n",
       "        [1.00000000e+00, 1.08993004e-06],\n",
       "        [9.99980450e-01, 1.62705997e-04],\n",
       "        [1.00000000e+00, 1.59782957e-07],\n",
       "        [2.84912020e-01, 8.32761884e-01],\n",
       "        [9.48339164e-01, 8.88770893e-02],\n",
       "        [2.96020508e-01, 8.93342376e-01],\n",
       "        [7.76069792e-05, 9.99864101e-01],\n",
       "        [1.13014877e-01, 9.05135453e-01],\n",
       "        [1.00349236e-04, 9.99829888e-01],\n",
       "        [5.00561995e-03, 9.95493650e-01],\n",
       "        [9.99901295e-01, 3.34058772e-04],\n",
       "        [9.11859729e-07, 9.99997735e-01],\n",
       "        [5.31413716e-05, 9.99833345e-01],\n",
       "        [1.87395269e-03, 9.98279452e-01],\n",
       "        [3.18706414e-04, 9.99392033e-01],\n",
       "        [9.01137944e-04, 9.98706818e-01],\n",
       "        [4.36315895e-04, 9.99122441e-01],\n",
       "        [1.05559636e-07, 9.99999642e-01]], dtype=float32)]"
      ]
     },
     "execution_count": 8,
     "metadata": {},
     "output_type": "execute_result"
    }
   ],
   "source": [
    "y_predict_all"
   ]
  },
  {
   "cell_type": "code",
   "execution_count": 9,
   "metadata": {},
   "outputs": [],
   "source": [
    "y_test_concatenate_list = []\n",
    "y_predict_concatenate_list = []\n",
    "y_predict_filtered_concatenate_list = []"
   ]
  },
  {
   "cell_type": "code",
   "execution_count": 10,
   "metadata": {},
   "outputs": [],
   "source": [
    "for i in range(5):\n",
    "    y_test_concatenate_list.extend(list(y_test_all[i]))\n",
    "    y_predict_concatenate_list.extend(list(y_predict_all[i]))\n",
    "    y_predict_filtered_concatenate_list.extend(list(y_predict_filtered_all[i]))"
   ]
  },
  {
   "cell_type": "code",
   "execution_count": 11,
   "metadata": {},
   "outputs": [
    {
     "data": {
      "text/plain": [
       "(51, 2)"
      ]
     },
     "execution_count": 11,
     "metadata": {},
     "output_type": "execute_result"
    }
   ],
   "source": [
    "y_predict_all[0].shape"
   ]
  },
  {
   "cell_type": "code",
   "execution_count": 12,
   "metadata": {},
   "outputs": [
    {
     "data": {
      "text/plain": [
       "['chr_18', 'chr_18_p11_deletion']"
      ]
     },
     "execution_count": 12,
     "metadata": {},
     "output_type": "execute_result"
    }
   ],
   "source": [
    "label_convert"
   ]
  },
  {
   "cell_type": "code",
   "execution_count": 13,
   "metadata": {},
   "outputs": [
    {
     "data": {
      "text/plain": [
       "251"
      ]
     },
     "execution_count": 13,
     "metadata": {},
     "output_type": "execute_result"
    }
   ],
   "source": [
    "len(y_test_concatenate_list)"
   ]
  },
  {
   "cell_type": "code",
   "execution_count": 14,
   "metadata": {},
   "outputs": [
    {
     "data": {
      "text/plain": [
       "251"
      ]
     },
     "execution_count": 14,
     "metadata": {},
     "output_type": "execute_result"
    }
   ],
   "source": [
    "len(y_predict_filtered_concatenate_list)"
   ]
  },
  {
   "cell_type": "code",
   "execution_count": 15,
   "metadata": {},
   "outputs": [
    {
     "data": {
      "text/plain": [
       "251"
      ]
     },
     "execution_count": 15,
     "metadata": {},
     "output_type": "execute_result"
    }
   ],
   "source": [
    "len(y_predict_concatenate_list)"
   ]
  },
  {
   "cell_type": "markdown",
   "metadata": {},
   "source": [
    "# Classification Report"
   ]
  },
  {
   "cell_type": "markdown",
   "metadata": {},
   "source": [
    "## Accuracy"
   ]
  },
  {
   "cell_type": "code",
   "execution_count": 16,
   "metadata": {},
   "outputs": [
    {
     "name": "stdout",
     "output_type": "stream",
     "text": [
      "Accuracy is  0.9083665338645418\n"
     ]
    }
   ],
   "source": [
    "acc = accuracy_score(y_test_concatenate_list, y_predict_filtered_concatenate_list, normalize=True, sample_weight=None)\n",
    "print('Accuracy is ', acc)"
   ]
  },
  {
   "cell_type": "markdown",
   "metadata": {},
   "source": [
    "## Precision, Recall, and F1"
   ]
  },
  {
   "cell_type": "code",
   "execution_count": 17,
   "metadata": {},
   "outputs": [
    {
     "name": "stdout",
     "output_type": "stream",
     "text": [
      "                     precision    recall  f1-score   support\n",
      "\n",
      "             chr_18   0.918033  0.954545  0.935933       176\n",
      "chr_18_p11_deletion   0.882353  0.800000  0.839161        75\n",
      "\n",
      "           accuracy                       0.908367       251\n",
      "          macro avg   0.900193  0.877273  0.887547       251\n",
      "       weighted avg   0.907371  0.908367  0.907017       251\n",
      "\n"
     ]
    }
   ],
   "source": [
    "performanceReport = classification_report(y_test_concatenate_list, y_predict_filtered_concatenate_list, digits=6,\n",
    "                                          target_names=label_convert)\n",
    "\n",
    "\n",
    "print(performanceReport)"
   ]
  },
  {
   "cell_type": "markdown",
   "metadata": {},
   "source": [
    "## Confusion Matrix"
   ]
  },
  {
   "cell_type": "code",
   "execution_count": 18,
   "metadata": {},
   "outputs": [
    {
     "data": {
      "text/html": [
       "<div>\n",
       "<style scoped>\n",
       "    .dataframe tbody tr th:only-of-type {\n",
       "        vertical-align: middle;\n",
       "    }\n",
       "\n",
       "    .dataframe tbody tr th {\n",
       "        vertical-align: top;\n",
       "    }\n",
       "\n",
       "    .dataframe thead th {\n",
       "        text-align: right;\n",
       "    }\n",
       "</style>\n",
       "<table border=\"1\" class=\"dataframe\">\n",
       "  <thead>\n",
       "    <tr style=\"text-align: right;\">\n",
       "      <th></th>\n",
       "      <th>chr_18</th>\n",
       "      <th>chr_18_p11_deletion</th>\n",
       "    </tr>\n",
       "  </thead>\n",
       "  <tbody>\n",
       "    <tr>\n",
       "      <td>chr_18</td>\n",
       "      <td>168</td>\n",
       "      <td>8</td>\n",
       "    </tr>\n",
       "    <tr>\n",
       "      <td>chr_18_p11_deletion</td>\n",
       "      <td>15</td>\n",
       "      <td>60</td>\n",
       "    </tr>\n",
       "  </tbody>\n",
       "</table>\n",
       "</div>"
      ],
      "text/plain": [
       "                     chr_18  chr_18_p11_deletion\n",
       "chr_18                  168                    8\n",
       "chr_18_p11_deletion      15                   60"
      ]
     },
     "execution_count": 18,
     "metadata": {},
     "output_type": "execute_result"
    }
   ],
   "source": [
    "cm = np.array(confusion_matrix(y_test_concatenate_list, y_predict_filtered_concatenate_list))\n",
    "confusion = pd.DataFrame(cm, index=label_convert,\n",
    "                        columns=label_convert)\n",
    "confusion.to_csv('ConfusionMatrix_Combination_of_CrossValidation_KaryoType_CNN' + str(iterationNumber) + '.csv')\n",
    "confusion"
   ]
  },
  {
   "cell_type": "markdown",
   "metadata": {},
   "source": [
    "### 3.10.4 Rate of Confusion Matrix"
   ]
  },
  {
   "cell_type": "markdown",
   "metadata": {},
   "source": [
    "### 3.10.5 Recall (查全率)，(Sensitivity Rate)"
   ]
  },
  {
   "cell_type": "code",
   "execution_count": 19,
   "metadata": {
    "scrolled": true
   },
   "outputs": [],
   "source": [
    "subtotal = [0] * 2  \n",
    "for item in y_test_concatenate_list:\n",
    "    subtotal[item] = subtotal[item] + 1"
   ]
  },
  {
   "cell_type": "markdown",
   "metadata": {},
   "source": [
    "#### predict number divided by y test"
   ]
  },
  {
   "cell_type": "code",
   "execution_count": 20,
   "metadata": {},
   "outputs": [],
   "source": [
    "cm_r = []\n",
    "for i in range(2):\n",
    "    cm_r.append(cm[i]/subtotal[i])"
   ]
  },
  {
   "cell_type": "code",
   "execution_count": 21,
   "metadata": {},
   "outputs": [
    {
     "data": {
      "text/html": [
       "<div>\n",
       "<style scoped>\n",
       "    .dataframe tbody tr th:only-of-type {\n",
       "        vertical-align: middle;\n",
       "    }\n",
       "\n",
       "    .dataframe tbody tr th {\n",
       "        vertical-align: top;\n",
       "    }\n",
       "\n",
       "    .dataframe thead th {\n",
       "        text-align: right;\n",
       "    }\n",
       "</style>\n",
       "<table border=\"1\" class=\"dataframe\">\n",
       "  <thead>\n",
       "    <tr style=\"text-align: right;\">\n",
       "      <th></th>\n",
       "      <th>chr_18</th>\n",
       "      <th>chr_18_p11_deletion</th>\n",
       "    </tr>\n",
       "  </thead>\n",
       "  <tbody>\n",
       "    <tr>\n",
       "      <td>chr_18</td>\n",
       "      <td>0.954545</td>\n",
       "      <td>0.045455</td>\n",
       "    </tr>\n",
       "    <tr>\n",
       "      <td>chr_18_p11_deletion</td>\n",
       "      <td>0.200000</td>\n",
       "      <td>0.800000</td>\n",
       "    </tr>\n",
       "  </tbody>\n",
       "</table>\n",
       "</div>"
      ],
      "text/plain": [
       "                       chr_18  chr_18_p11_deletion\n",
       "chr_18               0.954545             0.045455\n",
       "chr_18_p11_deletion  0.200000             0.800000"
      ]
     },
     "execution_count": 21,
     "metadata": {},
     "output_type": "execute_result"
    }
   ],
   "source": [
    "confusion_r = pd.DataFrame(cm_r, index=label_convert,\n",
    "                        columns=label_convert)\n",
    "confusion_r.to_csv('ConfusionMatrix_Recall_Integration_CNN.csv')\n",
    "confusion_r"
   ]
  },
  {
   "cell_type": "markdown",
   "metadata": {},
   "source": [
    "### 3.10.6 Precision (查准率）"
   ]
  },
  {
   "cell_type": "code",
   "execution_count": 22,
   "metadata": {},
   "outputs": [],
   "source": [
    "subtotal_predict = [0] * 2 \n",
    "for item in y_predict_filtered_concatenate_list:\n",
    "    subtotal_predict[item] = subtotal_predict[item] + 1"
   ]
  },
  {
   "cell_type": "markdown",
   "metadata": {},
   "source": [
    "#### predict number divided by y predicted"
   ]
  },
  {
   "cell_type": "code",
   "execution_count": 23,
   "metadata": {},
   "outputs": [],
   "source": [
    "cm_p = []\n",
    "for i in range(2):\n",
    "    cm_p.append(cm[:,i]/subtotal_predict[i])"
   ]
  },
  {
   "cell_type": "code",
   "execution_count": 24,
   "metadata": {},
   "outputs": [
    {
     "data": {
      "text/html": [
       "<div>\n",
       "<style scoped>\n",
       "    .dataframe tbody tr th:only-of-type {\n",
       "        vertical-align: middle;\n",
       "    }\n",
       "\n",
       "    .dataframe tbody tr th {\n",
       "        vertical-align: top;\n",
       "    }\n",
       "\n",
       "    .dataframe thead th {\n",
       "        text-align: right;\n",
       "    }\n",
       "</style>\n",
       "<table border=\"1\" class=\"dataframe\">\n",
       "  <thead>\n",
       "    <tr style=\"text-align: right;\">\n",
       "      <th></th>\n",
       "      <th>chr_18</th>\n",
       "      <th>chr_18_p11_deletion</th>\n",
       "    </tr>\n",
       "  </thead>\n",
       "  <tbody>\n",
       "    <tr>\n",
       "      <td>chr_18</td>\n",
       "      <td>0.918033</td>\n",
       "      <td>0.081967</td>\n",
       "    </tr>\n",
       "    <tr>\n",
       "      <td>chr_18_p11_deletion</td>\n",
       "      <td>0.117647</td>\n",
       "      <td>0.882353</td>\n",
       "    </tr>\n",
       "  </tbody>\n",
       "</table>\n",
       "</div>"
      ],
      "text/plain": [
       "                       chr_18  chr_18_p11_deletion\n",
       "chr_18               0.918033             0.081967\n",
       "chr_18_p11_deletion  0.117647             0.882353"
      ]
     },
     "execution_count": 24,
     "metadata": {},
     "output_type": "execute_result"
    }
   ],
   "source": [
    "confusion_p = pd.DataFrame(cm_p, index=label_convert,\n",
    "                        columns=label_convert)\n",
    "confusion_p.to_csv('ConfusionMatrix_Precision_Integration_CNN.csv')\n",
    "confusion_p"
   ]
  },
  {
   "cell_type": "markdown",
   "metadata": {},
   "source": [
    "#### Heat Map: Number"
   ]
  },
  {
   "cell_type": "code",
   "execution_count": 25,
   "metadata": {
    "scrolled": false
   },
   "outputs": [
    {
     "data": {
      "image/png": "[encoded data removed]",
      "text/plain": [
       "<Figure size 2160x1728 with 2 Axes>"
      ]
     },
     "metadata": {
      "needs_background": "light"
     },
     "output_type": "display_data"
    }
   ],
   "source": [
    "plt.figure(figsize=(30, 24))\n",
    "heat_map = sb.heatmap(confusion, annot=True, fmt = 'g', # It's a Seaborn function\n",
    "                      cmap='coolwarm', \n",
    "                      xticklabels=confusion.columns, yticklabels=confusion.index, \n",
    "                      linewidths=.5, \n",
    "                      annot_kws={\"size\": 50})\n",
    "sb.set(font_scale = 4)"
   ]
  },
  {
   "cell_type": "markdown",
   "metadata": {},
   "source": [
    "#### Heat Map of Recall: Rate (important!!!)"
   ]
  },
  {
   "cell_type": "code",
   "execution_count": 26,
   "metadata": {
    "scrolled": false
   },
   "outputs": [
    {
     "data": {
      "image/png": "[encoded data removed]",
      "text/plain": [
       "<Figure size 2160x1728 with 2 Axes>"
      ]
     },
     "metadata": {},
     "output_type": "display_data"
    }
   ],
   "source": [
    "plt.figure(figsize=(30, 24))\n",
    "heat_map_r = sb.heatmap(confusion_r, annot=True,   # It's a Seaborn function\n",
    "                      cmap='coolwarm', \n",
    "                      xticklabels=confusion.columns, yticklabels=confusion.index, \n",
    "                      linewidths=1, \n",
    "                      annot_kws={\"size\": 50})\n",
    "sb.set(font_scale = 4)"
   ]
  },
  {
   "cell_type": "code",
   "execution_count": 27,
   "metadata": {},
   "outputs": [
    {
     "data": {
      "image/png": "[encoded data removed]",
      "text/plain": [
       "<Figure size 2160x1728 with 2 Axes>"
      ]
     },
     "metadata": {},
     "output_type": "display_data"
    }
   ],
   "source": [
    "plt.figure(figsize=(30, 24))\n",
    "heat_map_p = sb.heatmap(confusion_p, annot=True,  # It's a Seaborn function\n",
    "                      cmap='coolwarm', \n",
    "                      xticklabels=confusion.columns, yticklabels=confusion.index, \n",
    "                      linewidths=1, \n",
    "                      annot_kws={\"size\": 50})\n",
    "sb.set(font_scale = 4)"
   ]
  },
  {
   "cell_type": "code",
   "execution_count": 28,
   "metadata": {},
   "outputs": [],
   "source": [
    "fig = heat_map.get_figure()    \n",
    "fig.savefig('Heatmap_Combination.png', dpi=400)"
   ]
  },
  {
   "cell_type": "code",
   "execution_count": 29,
   "metadata": {},
   "outputs": [],
   "source": [
    "fig_r = heat_map_r.get_figure()    \n",
    "fig_r.savefig('Heatmap_Recall_Combination.png', dpi=400)"
   ]
  },
  {
   "cell_type": "code",
   "execution_count": 30,
   "metadata": {},
   "outputs": [
    {
     "ename": "MemoryError",
     "evalue": "In RendererAgg: Out of memory",
     "output_type": "error",
     "traceback": [
      "\u001b[1;31m---------------------------------------------------------------------------\u001b[0m",
      "\u001b[1;31mMemoryError\u001b[0m                               Traceback (most recent call last)",
      "\u001b[1;32m<ipython-input-30-351307d9f472>\u001b[0m in \u001b[0;36m<module>\u001b[1;34m\u001b[0m\n\u001b[0;32m      1\u001b[0m \u001b[0mfig_p\u001b[0m \u001b[1;33m=\u001b[0m \u001b[0mheat_map_p\u001b[0m\u001b[1;33m.\u001b[0m\u001b[0mget_figure\u001b[0m\u001b[1;33m(\u001b[0m\u001b[1;33m)\u001b[0m\u001b[1;33m\u001b[0m\u001b[1;33m\u001b[0m\u001b[0m\n\u001b[1;32m----> 2\u001b[1;33m \u001b[0mfig_p\u001b[0m\u001b[1;33m.\u001b[0m\u001b[0msavefig\u001b[0m\u001b[1;33m(\u001b[0m\u001b[1;34m'Heatmap_Precision_Combination.png'\u001b[0m\u001b[1;33m,\u001b[0m \u001b[0mdpi\u001b[0m\u001b[1;33m=\u001b[0m\u001b[1;36m400\u001b[0m\u001b[1;33m)\u001b[0m\u001b[1;33m\u001b[0m\u001b[1;33m\u001b[0m\u001b[0m\n\u001b[0m",
      "\u001b[1;32mC:\\Anaconda3\\lib\\site-packages\\matplotlib\\figure.py\u001b[0m in \u001b[0;36msavefig\u001b[1;34m(self, fname, transparent, **kwargs)\u001b[0m\n\u001b[0;32m   2178\u001b[0m             \u001b[0mself\u001b[0m\u001b[1;33m.\u001b[0m\u001b[0mpatch\u001b[0m\u001b[1;33m.\u001b[0m\u001b[0mset_visible\u001b[0m\u001b[1;33m(\u001b[0m\u001b[0mframeon\u001b[0m\u001b[1;33m)\u001b[0m\u001b[1;33m\u001b[0m\u001b[1;33m\u001b[0m\u001b[0m\n\u001b[0;32m   2179\u001b[0m \u001b[1;33m\u001b[0m\u001b[0m\n\u001b[1;32m-> 2180\u001b[1;33m         \u001b[0mself\u001b[0m\u001b[1;33m.\u001b[0m\u001b[0mcanvas\u001b[0m\u001b[1;33m.\u001b[0m\u001b[0mprint_figure\u001b[0m\u001b[1;33m(\u001b[0m\u001b[0mfname\u001b[0m\u001b[1;33m,\u001b[0m \u001b[1;33m**\u001b[0m\u001b[0mkwargs\u001b[0m\u001b[1;33m)\u001b[0m\u001b[1;33m\u001b[0m\u001b[1;33m\u001b[0m\u001b[0m\n\u001b[0m\u001b[0;32m   2181\u001b[0m \u001b[1;33m\u001b[0m\u001b[0m\n\u001b[0;32m   2182\u001b[0m         \u001b[1;32mif\u001b[0m \u001b[0mframeon\u001b[0m\u001b[1;33m:\u001b[0m\u001b[1;33m\u001b[0m\u001b[1;33m\u001b[0m\u001b[0m\n",
      "\u001b[1;32mC:\\Anaconda3\\lib\\site-packages\\matplotlib\\backend_bases.py\u001b[0m in \u001b[0;36mprint_figure\u001b[1;34m(self, filename, dpi, facecolor, edgecolor, orientation, format, bbox_inches, **kwargs)\u001b[0m\n\u001b[0;32m   2080\u001b[0m                     \u001b[0morientation\u001b[0m\u001b[1;33m=\u001b[0m\u001b[0morientation\u001b[0m\u001b[1;33m,\u001b[0m\u001b[1;33m\u001b[0m\u001b[1;33m\u001b[0m\u001b[0m\n\u001b[0;32m   2081\u001b[0m                     \u001b[0mbbox_inches_restore\u001b[0m\u001b[1;33m=\u001b[0m\u001b[0m_bbox_inches_restore\u001b[0m\u001b[1;33m,\u001b[0m\u001b[1;33m\u001b[0m\u001b[1;33m\u001b[0m\u001b[0m\n\u001b[1;32m-> 2082\u001b[1;33m                     **kwargs)\n\u001b[0m\u001b[0;32m   2083\u001b[0m             \u001b[1;32mfinally\u001b[0m\u001b[1;33m:\u001b[0m\u001b[1;33m\u001b[0m\u001b[1;33m\u001b[0m\u001b[0m\n\u001b[0;32m   2084\u001b[0m                 \u001b[1;32mif\u001b[0m \u001b[0mbbox_inches\u001b[0m \u001b[1;32mand\u001b[0m \u001b[0mrestore_bbox\u001b[0m\u001b[1;33m:\u001b[0m\u001b[1;33m\u001b[0m\u001b[1;33m\u001b[0m\u001b[0m\n",
      "\u001b[1;32mC:\\Anaconda3\\lib\\site-packages\\matplotlib\\backends\\backend_agg.py\u001b[0m in \u001b[0;36mprint_png\u001b[1;34m(self, filename_or_obj, metadata, pil_kwargs, *args, **kwargs)\u001b[0m\n\u001b[0;32m    525\u001b[0m \u001b[1;33m\u001b[0m\u001b[0m\n\u001b[0;32m    526\u001b[0m         \u001b[1;32melse\u001b[0m\u001b[1;33m:\u001b[0m\u001b[1;33m\u001b[0m\u001b[1;33m\u001b[0m\u001b[0m\n\u001b[1;32m--> 527\u001b[1;33m             \u001b[0mFigureCanvasAgg\u001b[0m\u001b[1;33m.\u001b[0m\u001b[0mdraw\u001b[0m\u001b[1;33m(\u001b[0m\u001b[0mself\u001b[0m\u001b[1;33m)\u001b[0m\u001b[1;33m\u001b[0m\u001b[1;33m\u001b[0m\u001b[0m\n\u001b[0m\u001b[0;32m    528\u001b[0m             \u001b[0mrenderer\u001b[0m \u001b[1;33m=\u001b[0m \u001b[0mself\u001b[0m\u001b[1;33m.\u001b[0m\u001b[0mget_renderer\u001b[0m\u001b[1;33m(\u001b[0m\u001b[1;33m)\u001b[0m\u001b[1;33m\u001b[0m\u001b[1;33m\u001b[0m\u001b[0m\n\u001b[0;32m    529\u001b[0m             \u001b[1;32mwith\u001b[0m \u001b[0mcbook\u001b[0m\u001b[1;33m.\u001b[0m\u001b[0m_setattr_cm\u001b[0m\u001b[1;33m(\u001b[0m\u001b[0mrenderer\u001b[0m\u001b[1;33m,\u001b[0m \u001b[0mdpi\u001b[0m\u001b[1;33m=\u001b[0m\u001b[0mself\u001b[0m\u001b[1;33m.\u001b[0m\u001b[0mfigure\u001b[0m\u001b[1;33m.\u001b[0m\u001b[0mdpi\u001b[0m\u001b[1;33m)\u001b[0m\u001b[1;33m,\u001b[0m\u001b[0;31m \u001b[0m\u001b[0;31m\\\u001b[0m\u001b[1;33m\u001b[0m\u001b[1;33m\u001b[0m\u001b[0m\n",
      "\u001b[1;32mC:\\Anaconda3\\lib\\site-packages\\matplotlib\\backends\\backend_agg.py\u001b[0m in \u001b[0;36mdraw\u001b[1;34m(self)\u001b[0m\n\u001b[0;32m    384\u001b[0m         \u001b[0mDraw\u001b[0m \u001b[0mthe\u001b[0m \u001b[0mfigure\u001b[0m \u001b[0musing\u001b[0m \u001b[0mthe\u001b[0m \u001b[0mrenderer\u001b[0m\u001b[1;33m.\u001b[0m\u001b[1;33m\u001b[0m\u001b[1;33m\u001b[0m\u001b[0m\n\u001b[0;32m    385\u001b[0m         \"\"\"\n\u001b[1;32m--> 386\u001b[1;33m         \u001b[0mself\u001b[0m\u001b[1;33m.\u001b[0m\u001b[0mrenderer\u001b[0m \u001b[1;33m=\u001b[0m \u001b[0mself\u001b[0m\u001b[1;33m.\u001b[0m\u001b[0mget_renderer\u001b[0m\u001b[1;33m(\u001b[0m\u001b[0mcleared\u001b[0m\u001b[1;33m=\u001b[0m\u001b[1;32mTrue\u001b[0m\u001b[1;33m)\u001b[0m\u001b[1;33m\u001b[0m\u001b[1;33m\u001b[0m\u001b[0m\n\u001b[0m\u001b[0;32m    387\u001b[0m         \u001b[1;32mwith\u001b[0m \u001b[0mRendererAgg\u001b[0m\u001b[1;33m.\u001b[0m\u001b[0mlock\u001b[0m\u001b[1;33m:\u001b[0m\u001b[1;33m\u001b[0m\u001b[1;33m\u001b[0m\u001b[0m\n\u001b[0;32m    388\u001b[0m             \u001b[0mself\u001b[0m\u001b[1;33m.\u001b[0m\u001b[0mfigure\u001b[0m\u001b[1;33m.\u001b[0m\u001b[0mdraw\u001b[0m\u001b[1;33m(\u001b[0m\u001b[0mself\u001b[0m\u001b[1;33m.\u001b[0m\u001b[0mrenderer\u001b[0m\u001b[1;33m)\u001b[0m\u001b[1;33m\u001b[0m\u001b[1;33m\u001b[0m\u001b[0m\n",
      "\u001b[1;32mC:\\Anaconda3\\lib\\site-packages\\matplotlib\\backends\\backend_agg.py\u001b[0m in \u001b[0;36mget_renderer\u001b[1;34m(self, cleared)\u001b[0m\n\u001b[0;32m    397\u001b[0m                           and getattr(self, \"_lastKey\", None) == key)\n\u001b[0;32m    398\u001b[0m         \u001b[1;32mif\u001b[0m \u001b[1;32mnot\u001b[0m \u001b[0mreuse_renderer\u001b[0m\u001b[1;33m:\u001b[0m\u001b[1;33m\u001b[0m\u001b[1;33m\u001b[0m\u001b[0m\n\u001b[1;32m--> 399\u001b[1;33m             \u001b[0mself\u001b[0m\u001b[1;33m.\u001b[0m\u001b[0mrenderer\u001b[0m \u001b[1;33m=\u001b[0m \u001b[0mRendererAgg\u001b[0m\u001b[1;33m(\u001b[0m\u001b[0mw\u001b[0m\u001b[1;33m,\u001b[0m \u001b[0mh\u001b[0m\u001b[1;33m,\u001b[0m \u001b[0mself\u001b[0m\u001b[1;33m.\u001b[0m\u001b[0mfigure\u001b[0m\u001b[1;33m.\u001b[0m\u001b[0mdpi\u001b[0m\u001b[1;33m)\u001b[0m\u001b[1;33m\u001b[0m\u001b[1;33m\u001b[0m\u001b[0m\n\u001b[0m\u001b[0;32m    400\u001b[0m             \u001b[0mself\u001b[0m\u001b[1;33m.\u001b[0m\u001b[0m_lastKey\u001b[0m \u001b[1;33m=\u001b[0m \u001b[0mkey\u001b[0m\u001b[1;33m\u001b[0m\u001b[1;33m\u001b[0m\u001b[0m\n\u001b[0;32m    401\u001b[0m         \u001b[1;32melif\u001b[0m \u001b[0mcleared\u001b[0m\u001b[1;33m:\u001b[0m\u001b[1;33m\u001b[0m\u001b[1;33m\u001b[0m\u001b[0m\n",
      "\u001b[1;32mC:\\Anaconda3\\lib\\site-packages\\matplotlib\\backends\\backend_agg.py\u001b[0m in \u001b[0;36m__init__\u001b[1;34m(self, width, height, dpi)\u001b[0m\n\u001b[0;32m     84\u001b[0m         \u001b[0mself\u001b[0m\u001b[1;33m.\u001b[0m\u001b[0mwidth\u001b[0m \u001b[1;33m=\u001b[0m \u001b[0mwidth\u001b[0m\u001b[1;33m\u001b[0m\u001b[1;33m\u001b[0m\u001b[0m\n\u001b[0;32m     85\u001b[0m         \u001b[0mself\u001b[0m\u001b[1;33m.\u001b[0m\u001b[0mheight\u001b[0m \u001b[1;33m=\u001b[0m \u001b[0mheight\u001b[0m\u001b[1;33m\u001b[0m\u001b[1;33m\u001b[0m\u001b[0m\n\u001b[1;32m---> 86\u001b[1;33m         \u001b[0mself\u001b[0m\u001b[1;33m.\u001b[0m\u001b[0m_renderer\u001b[0m \u001b[1;33m=\u001b[0m \u001b[0m_RendererAgg\u001b[0m\u001b[1;33m(\u001b[0m\u001b[0mint\u001b[0m\u001b[1;33m(\u001b[0m\u001b[0mwidth\u001b[0m\u001b[1;33m)\u001b[0m\u001b[1;33m,\u001b[0m \u001b[0mint\u001b[0m\u001b[1;33m(\u001b[0m\u001b[0mheight\u001b[0m\u001b[1;33m)\u001b[0m\u001b[1;33m,\u001b[0m \u001b[0mdpi\u001b[0m\u001b[1;33m)\u001b[0m\u001b[1;33m\u001b[0m\u001b[1;33m\u001b[0m\u001b[0m\n\u001b[0m\u001b[0;32m     87\u001b[0m         \u001b[0mself\u001b[0m\u001b[1;33m.\u001b[0m\u001b[0m_filter_renderers\u001b[0m \u001b[1;33m=\u001b[0m \u001b[1;33m[\u001b[0m\u001b[1;33m]\u001b[0m\u001b[1;33m\u001b[0m\u001b[1;33m\u001b[0m\u001b[0m\n\u001b[0;32m     88\u001b[0m \u001b[1;33m\u001b[0m\u001b[0m\n",
      "\u001b[1;31mMemoryError\u001b[0m: In RendererAgg: Out of memory"
     ]
    }
   ],
   "source": [
    "fig_p = heat_map_p.get_figure()    \n",
    "fig_p.savefig('Heatmap_Precision_Combination.png', dpi=400)"
   ]
  },
  {
   "cell_type": "markdown",
   "metadata": {},
   "source": [
    "# ROC Curve"
   ]
  },
  {
   "cell_type": "code",
   "execution_count": null,
   "metadata": {},
   "outputs": [],
   "source": [
    "y_predict_concatenate_array = np.array(y_predict_concatenate_list)\n",
    "y_predict_concatenate_array"
   ]
  },
  {
   "cell_type": "code",
   "execution_count": null,
   "metadata": {},
   "outputs": [],
   "source": [
    "y_predict_concatenate_array.shape"
   ]
  },
  {
   "cell_type": "code",
   "execution_count": null,
   "metadata": {},
   "outputs": [],
   "source": [
    "y_predict_1D = y_predict_concatenate_array[:,0]"
   ]
  },
  {
   "cell_type": "code",
   "execution_count": null,
   "metadata": {},
   "outputs": [],
   "source": [
    "y_predict_1D_processed = 1- y_predict_1D"
   ]
  },
  {
   "cell_type": "code",
   "execution_count": null,
   "metadata": {},
   "outputs": [],
   "source": [
    "fpr , tpr , thresholds = roc_curve(y_test_concatenate_list , y_predict_1D_processed)\n",
    "auc_rf = auc(fpr, tpr)"
   ]
  },
  {
   "cell_type": "code",
   "execution_count": null,
   "metadata": {},
   "outputs": [],
   "source": [
    "auc_rf"
   ]
  },
  {
   "cell_type": "code",
   "execution_count": null,
   "metadata": {},
   "outputs": [],
   "source": [
    "x = y = np.arange(0, 1.1, 0.1)"
   ]
  },
  {
   "cell_type": "code",
   "execution_count": null,
   "metadata": {},
   "outputs": [],
   "source": [
    "x"
   ]
  },
  {
   "cell_type": "code",
   "execution_count": null,
   "metadata": {
    "scrolled": false
   },
   "outputs": [],
   "source": [
    "fig = plt.figure()\n",
    "plt.style.use('classic')\n",
    "\n",
    "ax = fig.add_subplot(111)\n",
    "\n",
    "plt.plot(fpr, tpr, color='blue', linewidth=0.9)\n",
    "\n",
    "plt.plot(x, y, '--', color='black', linewidth=0.8)\n",
    "\n",
    "plt.title('ROC curve of 18p11', fontsize=15, fontname = 'Times New Roman')\n",
    "\n",
    "plt.xlabel('False Positive Rate', fontsize=15, fontname = 'Times New Roman')\n",
    "plt.ylabel('True positive Rate', fontsize=15, fontname = 'Times New Roman')\n",
    "\n",
    "ax.set_aspect('equal', adjustable='box')\n",
    "\n",
    "plt.xlim(-0.08, 1.1)\n",
    "plt.ylim(-0.08, 1.1)\n",
    "\n",
    "plt.xticks(fontsize=15, fontname = 'Arial')\n",
    "plt.yticks(fontsize=15, fontname = 'Arial')\n",
    "\n",
    "plt.savefig('ROC_Curve_Combination.png', dpi=600)\n",
    "plt.show()"
   ]
  },
  {
   "cell_type": "markdown",
   "metadata": {},
   "source": [
    "#### 3.10.4.1 AUC Value"
   ]
  },
  {
   "cell_type": "code",
   "execution_count": null,
   "metadata": {},
   "outputs": [],
   "source": [
    "auc_value = auc(fpr, tpr)"
   ]
  },
  {
   "cell_type": "code",
   "execution_count": null,
   "metadata": {},
   "outputs": [],
   "source": [
    "print('AUC is ', auc_value)"
   ]
  },
  {
   "cell_type": "markdown",
   "metadata": {},
   "source": [
    "# Results"
   ]
  },
  {
   "cell_type": "code",
   "execution_count": null,
   "metadata": {},
   "outputs": [],
   "source": [
    "print('Test Accuracy: %.3f' % acc)"
   ]
  },
  {
   "cell_type": "code",
   "execution_count": null,
   "metadata": {
    "scrolled": true
   },
   "outputs": [],
   "source": [
    "print(performanceReport)"
   ]
  },
  {
   "cell_type": "code",
   "execution_count": null,
   "metadata": {},
   "outputs": [],
   "source": [
    "type(performanceReport)"
   ]
  },
  {
   "cell_type": "code",
   "execution_count": null,
   "metadata": {},
   "outputs": [],
   "source": [
    "print('AUC is ', auc_value)"
   ]
  },
  {
   "cell_type": "markdown",
   "metadata": {},
   "source": [
    "## Export to a text file"
   ]
  },
  {
   "cell_type": "code",
   "execution_count": null,
   "metadata": {},
   "outputs": [],
   "source": [
    "file_report = open('ResultsCombination.txt', 'w')\n",
    "file_report.write('Accuracy: %s\\n\\n' % acc)\n",
    "file_report.write('AUC: %s.\\n\\n' % auc_value)\n",
    "file_report.write('Performance Report: \\n%s\\n\\n' % performanceReport)\n",
    "file_report.write('Confusion Matrix: \\n%s.\\n\\n' % confusion)\n",
    "file_report.write('Recall of Confusion Matrix: \\n%s.\\n\\n' % confusion_r)\n",
    "file_report.write('Precision of Confusion Matrix: \\n%s.\\n\\n' % confusion_p)\n",
    "file_report.close()"
   ]
  },
  {
   "cell_type": "markdown",
   "metadata": {},
   "source": [
    "## Export ROC Parameters"
   ]
  },
  {
   "cell_type": "code",
   "execution_count": null,
   "metadata": {},
   "outputs": [],
   "source": [
    "with open('tpr_' + label_convert[1] + '.npy', 'wb') as file_tpr:\n",
    "    np.save(file_tpr, np.array(tpr))\n",
    "    \n",
    "with open('fpr_' + label_convert[1] + '.npy', 'wb') as file_fpr:\n",
    "    np.save(file_fpr, np.array(fpr))\n",
    "    \n",
    "with open('thresholds_' + label_convert[1] + '.npy', 'wb') as file_thresholds:\n",
    "    np.save(file_thresholds, np.array(thresholds))"
   ]
  },
  {
   "cell_type": "code",
   "execution_count": null,
   "metadata": {},
   "outputs": [],
   "source": []
  }
 ],
 "metadata": {
  "kernelspec": {
   "display_name": "Python 3",
   "language": "python",
   "name": "python3"
  },
  "language_info": {
   "codemirror_mode": {
    "name": "ipython",
    "version": 3
   },
   "file_extension": ".py",
   "mimetype": "text/x-python",
   "name": "python",
   "nbconvert_exporter": "python",
   "pygments_lexer": "ipython3",
   "version": "3.7.4"
  }
 },
 "nbformat": 4,
 "nbformat_minor": 2
}
