{
 "cells": [
  {
   "cell_type": "code",
   "execution_count": 1,
   "metadata": {},
   "outputs": [
    {
     "name": "stderr",
     "output_type": "stream",
     "text": [
      "C:\\Anaconda3\\lib\\site-packages\\pandas\\compat\\_optional.py:138: UserWarning: Pandas requires version '2.7.0' or newer of 'numexpr' (version '2.6.9' currently installed).\n",
      "  warnings.warn(msg, UserWarning)\n"
     ]
    }
   ],
   "source": [
    "import numpy as np\n",
    "import pandas as pd\n",
    "import matplotlib.pyplot as plt\n",
    "\n",
    "from sklearn.metrics import classification_report, confusion_matrix, roc_curve, auc, accuracy_score\n",
    "\n",
    "import seaborn as sb"
   ]
  },
  {
   "cell_type": "code",
   "execution_count": 2,
   "metadata": {},
   "outputs": [],
   "source": [
    "chromConvert = {\n",
    "               'chr_x': 0, \n",
    "               'chr_x_q22_deletion': 1\n",
    "               }"
   ]
  },
  {
   "cell_type": "code",
   "execution_count": 3,
   "metadata": {},
   "outputs": [],
   "source": [
    "chromConvert_reverse = {\n",
    "                0: 'chr_x', \n",
    "                1: 'chr_x_q22_deletion'\n",
    "               }"
   ]
  },
  {
   "cell_type": "code",
   "execution_count": 4,
   "metadata": {},
   "outputs": [],
   "source": [
    "label = ['chr_x', 'chr_x_q22_deletion']\n",
    "\n",
    "label_convert = []\n",
    "\n",
    "for i in range(2):\n",
    "    label_convert.append(chromConvert_reverse[i])"
   ]
  },
  {
   "cell_type": "markdown",
   "metadata": {},
   "source": [
    "# Load test and predict values"
   ]
  },
  {
   "cell_type": "code",
   "execution_count": 5,
   "metadata": {},
   "outputs": [],
   "source": [
    "y_test_all = []\n",
    "y_predict_all = []\n",
    "y_predict_filtered_all = []"
   ]
  },
  {
   "cell_type": "code",
   "execution_count": 6,
   "metadata": {},
   "outputs": [],
   "source": [
    "for iterationNumber in range(5):\n",
    "    with open('data_y_test_value_iteration_' + str(iterationNumber) + '.npy', 'rb') as f_y_test:\n",
    "        y_test_all.append(np.load(f_y_test))\n",
    "        \n",
    "    with open('data_y_predict_value_iteration_' + str(iterationNumber) + '.npy', 'rb') as f_y_predict:\n",
    "        y_predict_all.append(np.load(f_y_predict))                             \n",
    "                        \n",
    "    with open('data_y_predict_filtered_value_iteration_' + str(iterationNumber) + '.npy', 'rb') as f_y_predict_filtered:\n",
    "        y_predict_filtered_all.append(np.load(f_y_predict_filtered))"
   ]
  },
  {
   "cell_type": "code",
   "execution_count": 7,
   "metadata": {},
   "outputs": [
    {
     "data": {
      "text/plain": [
       "(47, 2)"
      ]
     },
     "execution_count": 7,
     "metadata": {},
     "output_type": "execute_result"
    }
   ],
   "source": [
    "y_predict_all[0].shape"
   ]
  },
  {
   "cell_type": "code",
   "execution_count": 8,
   "metadata": {
    "scrolled": true
   },
   "outputs": [
    {
     "data": {
      "text/plain": [
       "[array([[1.00000000e+00, 0.00000000e+00],\n",
       "        [1.00000000e+00, 2.61253324e-21],\n",
       "        [1.00000000e+00, 4.15145162e-15],\n",
       "        [1.00000000e+00, 2.71469889e-28],\n",
       "        [9.99913692e-01, 7.57980742e-05],\n",
       "        [1.00000000e+00, 3.97024996e-13],\n",
       "        [1.00000000e+00, 2.40198649e-13],\n",
       "        [1.00000000e+00, 2.02583608e-22],\n",
       "        [1.00000000e+00, 3.39686124e-13],\n",
       "        [1.00000000e+00, 4.44072470e-12],\n",
       "        [1.00000000e+00, 4.30025964e-15],\n",
       "        [1.00000000e+00, 7.68915864e-09],\n",
       "        [1.00000000e+00, 9.81266201e-20],\n",
       "        [1.00000000e+00, 3.35546332e-16],\n",
       "        [1.00000000e+00, 7.57049849e-20],\n",
       "        [9.99980450e-01, 8.52977610e-06],\n",
       "        [9.96698439e-01, 2.55951192e-03],\n",
       "        [9.86457765e-01, 7.63842184e-03],\n",
       "        [9.55913782e-01, 3.71164568e-02],\n",
       "        [1.00000000e+00, 5.86692295e-09],\n",
       "        [9.79799688e-01, 1.42515823e-02],\n",
       "        [9.99999881e-01, 5.08775457e-08],\n",
       "        [9.99993086e-01, 5.78654135e-06],\n",
       "        [9.99999642e-01, 3.02174357e-07],\n",
       "        [1.00000000e+00, 1.69213062e-17],\n",
       "        [9.84316826e-01, 1.16722081e-02],\n",
       "        [1.15464056e-04, 9.99790490e-01],\n",
       "        [1.00000000e+00, 1.13248779e-14],\n",
       "        [9.99949336e-01, 3.54592012e-05],\n",
       "        [1.00000000e+00, 2.50442578e-09],\n",
       "        [9.90806639e-01, 6.92874240e-03],\n",
       "        [1.00000000e+00, 8.21730878e-12],\n",
       "        [1.00000000e+00, 2.95569063e-08],\n",
       "        [9.99827087e-01, 1.40382355e-04],\n",
       "        [1.00000000e+00, 7.56348022e-21],\n",
       "        [9.85735953e-01, 1.42992837e-02],\n",
       "        [1.00000000e+00, 7.85818077e-09],\n",
       "        [9.99793351e-01, 1.89700790e-04],\n",
       "        [5.39774299e-02, 9.34591651e-01],\n",
       "        [9.98258054e-01, 8.44015158e-04],\n",
       "        [2.01444561e-03, 9.95910525e-01],\n",
       "        [9.99999881e-01, 9.35340410e-08],\n",
       "        [1.88431460e-02, 9.68993425e-01],\n",
       "        [9.43917483e-02, 8.78164351e-01],\n",
       "        [4.11694981e-02, 9.43913162e-01],\n",
       "        [6.42866269e-02, 8.63896728e-01],\n",
       "        [9.99979138e-01, 1.96166293e-05]], dtype=float32),\n",
       " array([[9.99999881e-01, 1.63743778e-07],\n",
       "        [1.00000000e+00, 1.79787636e-13],\n",
       "        [7.69881845e-01, 2.32378677e-01],\n",
       "        [1.00000000e+00, 2.50141883e-31],\n",
       "        [1.00000000e+00, 3.30996515e-11],\n",
       "        [1.00000000e+00, 2.24391794e-08],\n",
       "        [9.26307082e-01, 6.27750531e-02],\n",
       "        [9.99992967e-01, 7.63698245e-06],\n",
       "        [9.99999881e-01, 2.70694841e-07],\n",
       "        [9.99784052e-01, 2.68369738e-04],\n",
       "        [1.00000000e+00, 2.89527335e-08],\n",
       "        [9.99602139e-01, 7.11329631e-04],\n",
       "        [1.00000000e+00, 4.52671761e-10],\n",
       "        [1.00000000e+00, 1.73702741e-08],\n",
       "        [1.56490862e-01, 8.61635983e-01],\n",
       "        [9.98095691e-01, 3.23048653e-03],\n",
       "        [1.00000000e+00, 4.65653045e-08],\n",
       "        [9.99999762e-01, 7.41609085e-07],\n",
       "        [9.99004900e-01, 1.58177561e-03],\n",
       "        [9.99957800e-01, 8.61474109e-05],\n",
       "        [1.00000000e+00, 7.45755386e-08],\n",
       "        [9.99976993e-01, 4.44770194e-05],\n",
       "        [9.99999762e-01, 5.15774673e-07],\n",
       "        [9.99999762e-01, 7.08740458e-07],\n",
       "        [9.99983549e-01, 3.45962944e-05],\n",
       "        [1.00000000e+00, 6.26763030e-10],\n",
       "        [9.99896884e-01, 2.05645119e-04],\n",
       "        [9.99875903e-01, 2.17897934e-04],\n",
       "        [9.76314366e-01, 3.46738100e-02],\n",
       "        [9.65898812e-01, 4.50261720e-02],\n",
       "        [9.99998927e-01, 1.63782033e-06],\n",
       "        [9.99940515e-01, 1.27675885e-04],\n",
       "        [9.52405751e-01, 6.69732541e-02],\n",
       "        [9.48638558e-01, 6.14405498e-02],\n",
       "        [9.99956250e-01, 8.73528479e-05],\n",
       "        [9.99771297e-01, 4.25549166e-04],\n",
       "        [9.98586059e-01, 2.26581679e-03],\n",
       "        [9.99769151e-01, 3.76189506e-04],\n",
       "        [9.91761804e-01, 1.00899534e-02],\n",
       "        [1.08467564e-01, 8.90067279e-01],\n",
       "        [9.67245400e-01, 5.02738655e-02],\n",
       "        [3.51069402e-03, 9.96992826e-01],\n",
       "        [1.57474354e-03, 9.98401225e-01],\n",
       "        [4.11009230e-02, 9.48849559e-01],\n",
       "        [1.00563683e-01, 9.00604129e-01],\n",
       "        [2.59542674e-01, 7.82895744e-01]], dtype=float32),\n",
       " array([[1.0000000e+00, 2.2313522e-09],\n",
       "        [1.0000000e+00, 5.9518521e-07],\n",
       "        [1.0000000e+00, 4.1784404e-10],\n",
       "        [9.9999869e-01, 3.0099707e-05],\n",
       "        [1.0000000e+00, 1.6275416e-10],\n",
       "        [1.0000000e+00, 4.9600686e-26],\n",
       "        [1.0000000e+00, 5.7473808e-09],\n",
       "        [1.0000000e+00, 1.6850223e-21],\n",
       "        [9.9999976e-01, 1.1587571e-06],\n",
       "        [1.0000000e+00, 1.1837585e-28],\n",
       "        [1.3445037e-03, 9.9999285e-01],\n",
       "        [1.0000000e+00, 1.2321246e-08],\n",
       "        [1.0000000e+00, 1.0250557e-13],\n",
       "        [1.0000000e+00, 5.9927318e-13],\n",
       "        [1.0000000e+00, 1.3660713e-08],\n",
       "        [9.9823689e-01, 8.0632307e-03],\n",
       "        [9.9998581e-01, 2.0506770e-04],\n",
       "        [1.0000000e+00, 3.8335626e-10],\n",
       "        [9.9999380e-01, 6.7073946e-05],\n",
       "        [1.0000000e+00, 1.3148967e-07],\n",
       "        [9.9962950e-01, 1.2203262e-03],\n",
       "        [9.9999917e-01, 3.5292171e-06],\n",
       "        [9.9999988e-01, 6.3859679e-06],\n",
       "        [9.9975568e-01, 4.5387636e-04],\n",
       "        [8.8362616e-01, 2.2129051e-01],\n",
       "        [9.9942005e-01, 1.9893858e-03],\n",
       "        [1.0000000e+00, 2.0839945e-09],\n",
       "        [1.0000000e+00, 2.7298778e-08],\n",
       "        [7.9243731e-01, 3.4234840e-01],\n",
       "        [9.9999964e-01, 4.1248704e-06],\n",
       "        [1.0000000e+00, 9.0297395e-11],\n",
       "        [1.0000000e+00, 4.3983019e-11],\n",
       "        [1.0000000e+00, 7.0850978e-09],\n",
       "        [1.0000000e+00, 1.5774768e-21],\n",
       "        [1.0000000e+00, 1.4081456e-15],\n",
       "        [1.0000000e+00, 1.0850806e-10],\n",
       "        [9.9999070e-01, 3.7192840e-05],\n",
       "        [1.0000000e+00, 2.8026629e-13],\n",
       "        [1.2204591e-02, 9.9518836e-01],\n",
       "        [3.7201336e-01, 8.7334907e-01],\n",
       "        [3.8108566e-01, 9.7338063e-01],\n",
       "        [7.6849174e-05, 9.9998438e-01],\n",
       "        [7.9243714e-01, 3.4234840e-01],\n",
       "        [2.0900033e-01, 7.1723312e-01],\n",
       "        [3.4803423e-04, 9.9992514e-01],\n",
       "        [1.6391996e-02, 9.9482560e-01]], dtype=float32),\n",
       " array([[1.0000000e+00, 1.0244174e-15],\n",
       "        [1.0000000e+00, 2.6490403e-15],\n",
       "        [1.0000000e+00, 1.4443340e-09],\n",
       "        [1.0000000e+00, 7.3160395e-25],\n",
       "        [9.9999964e-01, 3.4472432e-06],\n",
       "        [1.0000000e+00, 1.1722165e-17],\n",
       "        [1.0000000e+00, 2.0406170e-09],\n",
       "        [1.0000000e+00, 2.1203697e-38],\n",
       "        [9.9824119e-01, 4.2419020e-02],\n",
       "        [1.0000000e+00, 7.4902514e-13],\n",
       "        [1.0000000e+00, 3.2583105e-09],\n",
       "        [1.0000000e+00, 4.0178066e-14],\n",
       "        [1.0000000e+00, 9.8093951e-37],\n",
       "        [1.0000000e+00, 8.6522613e-13],\n",
       "        [1.0000000e+00, 7.2089328e-11],\n",
       "        [1.0000000e+00, 5.0242133e-12],\n",
       "        [1.0000000e+00, 1.4393736e-08],\n",
       "        [9.5851666e-01, 8.6297132e-02],\n",
       "        [9.9558794e-01, 1.0893539e-02],\n",
       "        [9.9999964e-01, 2.7132596e-06],\n",
       "        [9.9982589e-01, 1.1115279e-03],\n",
       "        [1.0000000e+00, 3.7692655e-10],\n",
       "        [1.0000000e+00, 1.4688997e-08],\n",
       "        [1.0000000e+00, 1.2103777e-09],\n",
       "        [1.0000000e+00, 3.2532538e-10],\n",
       "        [9.9908650e-01, 2.0025652e-03],\n",
       "        [9.9999976e-01, 1.6981625e-06],\n",
       "        [9.9990094e-01, 3.2090285e-04],\n",
       "        [9.4730175e-01, 9.0687841e-02],\n",
       "        [3.6607906e-03, 9.9852484e-01],\n",
       "        [9.9999988e-01, 1.3141022e-06],\n",
       "        [1.0000000e+00, 3.9173642e-08],\n",
       "        [1.0000000e+00, 4.9860775e-11],\n",
       "        [9.8592991e-01, 2.9491164e-02],\n",
       "        [9.9999988e-01, 5.8759622e-07],\n",
       "        [9.9999976e-01, 1.6316110e-06],\n",
       "        [9.9999607e-01, 2.4386671e-05],\n",
       "        [9.9999452e-01, 2.1268672e-05],\n",
       "        [9.8362595e-01, 3.8655456e-02],\n",
       "        [5.7515517e-02, 9.8004925e-01],\n",
       "        [9.9957532e-01, 1.3495948e-03],\n",
       "        [8.4120119e-01, 4.2533231e-01],\n",
       "        [1.0198282e-04, 9.9999189e-01],\n",
       "        [1.0000000e+00, 4.0160142e-10],\n",
       "        [2.5424425e-02, 9.9456376e-01],\n",
       "        [1.2084163e-02, 9.9457437e-01]], dtype=float32),\n",
       " array([[1.00000000e+00, 2.34354017e-28],\n",
       "        [1.00000000e+00, 1.31769155e-14],\n",
       "        [1.00000000e+00, 1.90322589e-05],\n",
       "        [1.00000000e+00, 2.16043609e-05],\n",
       "        [9.99669194e-01, 4.41099051e-03],\n",
       "        [1.00000000e+00, 9.07183676e-07],\n",
       "        [1.00000000e+00, 4.52718363e-10],\n",
       "        [1.00000000e+00, 2.03617559e-18],\n",
       "        [1.00000000e+00, 5.47183521e-14],\n",
       "        [1.00000000e+00, 1.31083695e-08],\n",
       "        [1.00000000e+00, 0.00000000e+00],\n",
       "        [1.00000000e+00, 1.41108574e-13],\n",
       "        [1.00000000e+00, 3.65677757e-13],\n",
       "        [1.00000000e+00, 7.21574578e-10],\n",
       "        [1.00000000e+00, 1.45895362e-12],\n",
       "        [1.00000000e+00, 3.43589767e-14],\n",
       "        [4.76838827e-01, 9.76191759e-01],\n",
       "        [9.99964952e-01, 4.24784957e-04],\n",
       "        [9.99999046e-01, 2.86970171e-05],\n",
       "        [1.00000000e+00, 1.29274635e-08],\n",
       "        [9.99999881e-01, 1.30718299e-05],\n",
       "        [1.00000000e+00, 4.25463611e-07],\n",
       "        [1.00000000e+00, 1.21477592e-06],\n",
       "        [9.99999762e-01, 7.75851277e-06],\n",
       "        [1.00000000e+00, 1.33973908e-11],\n",
       "        [9.99999523e-01, 8.73356039e-05],\n",
       "        [1.00000000e+00, 1.72231083e-07],\n",
       "        [1.00000000e+00, 1.57902302e-11],\n",
       "        [9.61595476e-01, 1.69930160e-01],\n",
       "        [1.00000000e+00, 3.44498332e-08],\n",
       "        [9.96113062e-01, 7.05291927e-02],\n",
       "        [9.99649286e-01, 4.52984683e-03],\n",
       "        [1.00000000e+00, 8.25630025e-07],\n",
       "        [3.32825780e-01, 7.82337546e-01],\n",
       "        [1.00000000e+00, 1.03673080e-14],\n",
       "        [1.00000000e+00, 1.18177388e-06],\n",
       "        [9.45907772e-01, 1.91761300e-01],\n",
       "        [1.16477013e-02, 9.92709875e-01],\n",
       "        [1.57948394e-04, 9.99961495e-01],\n",
       "        [1.96113001e-06, 9.99997616e-01],\n",
       "        [1.41609043e-01, 9.49620664e-01],\n",
       "        [8.89512421e-07, 9.99999285e-01],\n",
       "        [1.04763918e-01, 9.57914889e-01],\n",
       "        [1.18947007e-01, 9.47266757e-01],\n",
       "        [6.31973904e-04, 9.99298811e-01]], dtype=float32)]"
      ]
     },
     "execution_count": 8,
     "metadata": {},
     "output_type": "execute_result"
    }
   ],
   "source": [
    "y_predict_all"
   ]
  },
  {
   "cell_type": "code",
   "execution_count": 9,
   "metadata": {},
   "outputs": [],
   "source": [
    "y_test_concatenate_list = []\n",
    "y_predict_concatenate_list = []\n",
    "y_predict_filtered_concatenate_list = []"
   ]
  },
  {
   "cell_type": "code",
   "execution_count": 10,
   "metadata": {},
   "outputs": [],
   "source": [
    "for i in range(5):\n",
    "    y_test_concatenate_list.extend(list(y_test_all[i]))\n",
    "    y_predict_concatenate_list.extend(list(y_predict_all[i]))\n",
    "    y_predict_filtered_concatenate_list.extend(list(y_predict_filtered_all[i]))"
   ]
  },
  {
   "cell_type": "code",
   "execution_count": 11,
   "metadata": {},
   "outputs": [
    {
     "data": {
      "text/plain": [
       "(47, 2)"
      ]
     },
     "execution_count": 11,
     "metadata": {},
     "output_type": "execute_result"
    }
   ],
   "source": [
    "y_predict_all[0].shape"
   ]
  },
  {
   "cell_type": "code",
   "execution_count": 12,
   "metadata": {},
   "outputs": [
    {
     "data": {
      "text/plain": [
       "['chr_x', 'chr_x_q22_deletion']"
      ]
     },
     "execution_count": 12,
     "metadata": {},
     "output_type": "execute_result"
    }
   ],
   "source": [
    "label_convert"
   ]
  },
  {
   "cell_type": "code",
   "execution_count": 13,
   "metadata": {},
   "outputs": [
    {
     "data": {
      "text/plain": [
       "230"
      ]
     },
     "execution_count": 13,
     "metadata": {},
     "output_type": "execute_result"
    }
   ],
   "source": [
    "len(y_test_concatenate_list)"
   ]
  },
  {
   "cell_type": "code",
   "execution_count": 14,
   "metadata": {},
   "outputs": [
    {
     "data": {
      "text/plain": [
       "230"
      ]
     },
     "execution_count": 14,
     "metadata": {},
     "output_type": "execute_result"
    }
   ],
   "source": [
    "len(y_predict_filtered_concatenate_list)"
   ]
  },
  {
   "cell_type": "code",
   "execution_count": 15,
   "metadata": {},
   "outputs": [
    {
     "data": {
      "text/plain": [
       "230"
      ]
     },
     "execution_count": 15,
     "metadata": {},
     "output_type": "execute_result"
    }
   ],
   "source": [
    "len(y_predict_concatenate_list)"
   ]
  },
  {
   "cell_type": "markdown",
   "metadata": {},
   "source": [
    "# Classification Report"
   ]
  },
  {
   "cell_type": "markdown",
   "metadata": {},
   "source": [
    "## Accuracy"
   ]
  },
  {
   "cell_type": "code",
   "execution_count": 16,
   "metadata": {},
   "outputs": [
    {
     "name": "stdout",
     "output_type": "stream",
     "text": [
      "Accuracy is  0.9304347826086956\n"
     ]
    }
   ],
   "source": [
    "acc = accuracy_score(y_test_concatenate_list, y_predict_filtered_concatenate_list, normalize=True, sample_weight=None)\n",
    "print('Accuracy is ', acc)"
   ]
  },
  {
   "cell_type": "markdown",
   "metadata": {},
   "source": [
    "## Precision, Recall, and F1"
   ]
  },
  {
   "cell_type": "code",
   "execution_count": 17,
   "metadata": {},
   "outputs": [
    {
     "name": "stdout",
     "output_type": "stream",
     "text": [
      "                    precision    recall  f1-score   support\n",
      "\n",
      "             chr_x       0.95      0.97      0.96       189\n",
      "chr_x_q22_deletion       0.84      0.76      0.79        41\n",
      "\n",
      "         micro avg       0.93      0.93      0.93       230\n",
      "         macro avg       0.89      0.86      0.88       230\n",
      "      weighted avg       0.93      0.93      0.93       230\n",
      "\n"
     ]
    }
   ],
   "source": [
    "performanceReport = classification_report(y_test_concatenate_list, y_predict_filtered_concatenate_list, \n",
    "                                          target_names=label_convert)\n",
    "\n",
    "\n",
    "print(performanceReport)"
   ]
  },
  {
   "cell_type": "markdown",
   "metadata": {},
   "source": [
    "## Confusion Matrix"
   ]
  },
  {
   "cell_type": "code",
   "execution_count": 18,
   "metadata": {},
   "outputs": [
    {
     "data": {
      "text/html": [
       "<div>\n",
       "<style scoped>\n",
       "    .dataframe tbody tr th:only-of-type {\n",
       "        vertical-align: middle;\n",
       "    }\n",
       "\n",
       "    .dataframe tbody tr th {\n",
       "        vertical-align: top;\n",
       "    }\n",
       "\n",
       "    .dataframe thead th {\n",
       "        text-align: right;\n",
       "    }\n",
       "</style>\n",
       "<table border=\"1\" class=\"dataframe\">\n",
       "  <thead>\n",
       "    <tr style=\"text-align: right;\">\n",
       "      <th></th>\n",
       "      <th>chr_x</th>\n",
       "      <th>chr_x_q22_deletion</th>\n",
       "    </tr>\n",
       "  </thead>\n",
       "  <tbody>\n",
       "    <tr>\n",
       "      <th>chr_x</th>\n",
       "      <td>183</td>\n",
       "      <td>6</td>\n",
       "    </tr>\n",
       "    <tr>\n",
       "      <th>chr_x_q22_deletion</th>\n",
       "      <td>10</td>\n",
       "      <td>31</td>\n",
       "    </tr>\n",
       "  </tbody>\n",
       "</table>\n",
       "</div>"
      ],
      "text/plain": [
       "                    chr_x  chr_x_q22_deletion\n",
       "chr_x                 183                   6\n",
       "chr_x_q22_deletion     10                  31"
      ]
     },
     "execution_count": 18,
     "metadata": {},
     "output_type": "execute_result"
    }
   ],
   "source": [
    "cm = np.array(confusion_matrix(y_test_concatenate_list, y_predict_filtered_concatenate_list))\n",
    "confusion = pd.DataFrame(cm, index=label_convert,\n",
    "                        columns=label_convert)\n",
    "confusion.to_csv('ConfusionMatrix_Combination_of_CrossValidation_KaryoType_CNN.csv')\n",
    "confusion"
   ]
  },
  {
   "cell_type": "markdown",
   "metadata": {},
   "source": [
    "### 3.10.4 Rate of Confusion Matrix"
   ]
  },
  {
   "cell_type": "markdown",
   "metadata": {},
   "source": [
    "### 3.10.5 Recall (查全率)，(Sensitivity Rate)"
   ]
  },
  {
   "cell_type": "code",
   "execution_count": 19,
   "metadata": {
    "scrolled": true
   },
   "outputs": [],
   "source": [
    "subtotal = [0] * 2  \n",
    "for item in y_test_concatenate_list:\n",
    "    subtotal[item] = subtotal[item] + 1"
   ]
  },
  {
   "cell_type": "markdown",
   "metadata": {},
   "source": [
    "#### predict number divided by y test"
   ]
  },
  {
   "cell_type": "code",
   "execution_count": 20,
   "metadata": {},
   "outputs": [],
   "source": [
    "cm_r = []\n",
    "for i in range(2):\n",
    "    cm_r.append(cm[i]/subtotal[i])"
   ]
  },
  {
   "cell_type": "code",
   "execution_count": 21,
   "metadata": {},
   "outputs": [
    {
     "data": {
      "text/html": [
       "<div>\n",
       "<style scoped>\n",
       "    .dataframe tbody tr th:only-of-type {\n",
       "        vertical-align: middle;\n",
       "    }\n",
       "\n",
       "    .dataframe tbody tr th {\n",
       "        vertical-align: top;\n",
       "    }\n",
       "\n",
       "    .dataframe thead th {\n",
       "        text-align: right;\n",
       "    }\n",
       "</style>\n",
       "<table border=\"1\" class=\"dataframe\">\n",
       "  <thead>\n",
       "    <tr style=\"text-align: right;\">\n",
       "      <th></th>\n",
       "      <th>chr_x</th>\n",
       "      <th>chr_x_q22_deletion</th>\n",
       "    </tr>\n",
       "  </thead>\n",
       "  <tbody>\n",
       "    <tr>\n",
       "      <th>chr_x</th>\n",
       "      <td>0.968254</td>\n",
       "      <td>0.031746</td>\n",
       "    </tr>\n",
       "    <tr>\n",
       "      <th>chr_x_q22_deletion</th>\n",
       "      <td>0.243902</td>\n",
       "      <td>0.756098</td>\n",
       "    </tr>\n",
       "  </tbody>\n",
       "</table>\n",
       "</div>"
      ],
      "text/plain": [
       "                       chr_x  chr_x_q22_deletion\n",
       "chr_x               0.968254            0.031746\n",
       "chr_x_q22_deletion  0.243902            0.756098"
      ]
     },
     "execution_count": 21,
     "metadata": {},
     "output_type": "execute_result"
    }
   ],
   "source": [
    "confusion_r = pd.DataFrame(cm_r, index=label_convert,\n",
    "                        columns=label_convert)\n",
    "confusion_r.to_csv('ConfusionMatrix_Recall_Integration_CNN.csv')\n",
    "confusion_r"
   ]
  },
  {
   "cell_type": "markdown",
   "metadata": {},
   "source": [
    "### 3.10.6 Precision (查准率）"
   ]
  },
  {
   "cell_type": "code",
   "execution_count": 22,
   "metadata": {},
   "outputs": [],
   "source": [
    "subtotal_predict = [0] * 2 \n",
    "for item in y_predict_filtered_concatenate_list:\n",
    "    subtotal_predict[item] = subtotal_predict[item] + 1"
   ]
  },
  {
   "cell_type": "markdown",
   "metadata": {},
   "source": [
    "#### predict number divided by y predicted"
   ]
  },
  {
   "cell_type": "code",
   "execution_count": 23,
   "metadata": {},
   "outputs": [],
   "source": [
    "cm_p = []\n",
    "for i in range(2):\n",
    "    cm_p.append(cm[:,i]/subtotal_predict[i])"
   ]
  },
  {
   "cell_type": "code",
   "execution_count": 24,
   "metadata": {},
   "outputs": [
    {
     "data": {
      "text/html": [
       "<div>\n",
       "<style scoped>\n",
       "    .dataframe tbody tr th:only-of-type {\n",
       "        vertical-align: middle;\n",
       "    }\n",
       "\n",
       "    .dataframe tbody tr th {\n",
       "        vertical-align: top;\n",
       "    }\n",
       "\n",
       "    .dataframe thead th {\n",
       "        text-align: right;\n",
       "    }\n",
       "</style>\n",
       "<table border=\"1\" class=\"dataframe\">\n",
       "  <thead>\n",
       "    <tr style=\"text-align: right;\">\n",
       "      <th></th>\n",
       "      <th>chr_x</th>\n",
       "      <th>chr_x_q22_deletion</th>\n",
       "    </tr>\n",
       "  </thead>\n",
       "  <tbody>\n",
       "    <tr>\n",
       "      <th>chr_x</th>\n",
       "      <td>0.948187</td>\n",
       "      <td>0.051813</td>\n",
       "    </tr>\n",
       "    <tr>\n",
       "      <th>chr_x_q22_deletion</th>\n",
       "      <td>0.162162</td>\n",
       "      <td>0.837838</td>\n",
       "    </tr>\n",
       "  </tbody>\n",
       "</table>\n",
       "</div>"
      ],
      "text/plain": [
       "                       chr_x  chr_x_q22_deletion\n",
       "chr_x               0.948187            0.051813\n",
       "chr_x_q22_deletion  0.162162            0.837838"
      ]
     },
     "execution_count": 24,
     "metadata": {},
     "output_type": "execute_result"
    }
   ],
   "source": [
    "confusion_p = pd.DataFrame(cm_p, index=label_convert,\n",
    "                        columns=label_convert)\n",
    "confusion_p.to_csv('ConfusionMatrix_Precision_Integration_CNN.csv')\n",
    "confusion_p"
   ]
  },
  {
   "cell_type": "markdown",
   "metadata": {},
   "source": [
    "#### Heat Map: Number"
   ]
  },
  {
   "cell_type": "code",
   "execution_count": 25,
   "metadata": {
    "scrolled": false
   },
   "outputs": [
    {
     "data": {
      "image/png": "[encoded data removed]",
      "text/plain": [
       "<Figure size 2160x1728 with 2 Axes>"
      ]
     },
     "metadata": {
      "needs_background": "light"
     },
     "output_type": "display_data"
    }
   ],
   "source": [
    "plt.figure(figsize=(30, 24))\n",
    "heat_map = sb.heatmap(confusion, annot=True, fmt = 'g',  # It's a Seaborn function\n",
    "                      cmap='coolwarm', \n",
    "                      xticklabels=confusion.columns, yticklabels=confusion.index, \n",
    "                      linewidths=.5, \n",
    "                      annot_kws={\"size\": 50})\n",
    "sb.set(font_scale = 6)"
   ]
  },
  {
   "cell_type": "markdown",
   "metadata": {},
   "source": [
    "#### Heat Map of Recall: Rate (important!!!)"
   ]
  },
  {
   "cell_type": "code",
   "execution_count": 26,
   "metadata": {
    "scrolled": false
   },
   "outputs": [
    {
     "data": {
      "image/png": "[encoded data removed]",
      "text/plain": [
       "<Figure size 2160x1728 with 2 Axes>"
      ]
     },
     "metadata": {},
     "output_type": "display_data"
    }
   ],
   "source": [
    "plt.figure(figsize=(30, 24))\n",
    "heat_map_r = sb.heatmap(confusion_r, annot=True,  # It's a Seaborn function\n",
    "                      cmap='coolwarm', \n",
    "                      xticklabels=confusion.columns, yticklabels=confusion.index, \n",
    "                      linewidths=1, \n",
    "                      annot_kws={\"size\": 50})\n",
    "sb.set(font_scale = 3)"
   ]
  },
  {
   "cell_type": "code",
   "execution_count": 27,
   "metadata": {},
   "outputs": [
    {
     "data": {
      "image/png": "[encoded data removed]",
      "text/plain": [
       "<Figure size 2160x1728 with 2 Axes>"
      ]
     },
     "metadata": {},
     "output_type": "display_data"
    }
   ],
   "source": [
    "plt.figure(figsize=(30, 24))\n",
    "heat_map_p = sb.heatmap(confusion_p, annot=True,  # It's a Seaborn function\n",
    "                      cmap='coolwarm', \n",
    "                      xticklabels=confusion.columns, yticklabels=confusion.index, \n",
    "                      linewidths=1, \n",
    "                      annot_kws={\"size\": 50})\n",
    "sb.set(font_scale = 4)"
   ]
  },
  {
   "cell_type": "code",
   "execution_count": 28,
   "metadata": {},
   "outputs": [],
   "source": [
    "fig = heat_map.get_figure()    \n",
    "fig.savefig('Heatmap_Combination.png', dpi=400)"
   ]
  },
  {
   "cell_type": "code",
   "execution_count": 29,
   "metadata": {},
   "outputs": [],
   "source": [
    "fig_r = heat_map_r.get_figure()    \n",
    "fig_r.savefig('Heatmap_Recall_Combination.png', dpi=400)"
   ]
  },
  {
   "cell_type": "code",
   "execution_count": 30,
   "metadata": {},
   "outputs": [],
   "source": [
    "fig_p = heat_map_p.get_figure()    \n",
    "fig_p.savefig('Heatmap_Precision_Combination.png', dpi=400)"
   ]
  },
  {
   "cell_type": "markdown",
   "metadata": {},
   "source": [
    "# ROC Curve"
   ]
  },
  {
   "cell_type": "code",
   "execution_count": 31,
   "metadata": {},
   "outputs": [
    {
     "data": {
      "text/plain": [
       "array([[1.00000000e+00, 0.00000000e+00],\n",
       "       [1.00000000e+00, 2.61253324e-21],\n",
       "       [1.00000000e+00, 4.15145162e-15],\n",
       "       [1.00000000e+00, 2.71469889e-28],\n",
       "       [9.99913692e-01, 7.57980742e-05],\n",
       "       [1.00000000e+00, 3.97024996e-13],\n",
       "       [1.00000000e+00, 2.40198649e-13],\n",
       "       [1.00000000e+00, 2.02583608e-22],\n",
       "       [1.00000000e+00, 3.39686124e-13],\n",
       "       [1.00000000e+00, 4.44072470e-12],\n",
       "       [1.00000000e+00, 4.30025964e-15],\n",
       "       [1.00000000e+00, 7.68915864e-09],\n",
       "       [1.00000000e+00, 9.81266201e-20],\n",
       "       [1.00000000e+00, 3.35546332e-16],\n",
       "       [1.00000000e+00, 7.57049849e-20],\n",
       "       [9.99980450e-01, 8.52977610e-06],\n",
       "       [9.96698439e-01, 2.55951192e-03],\n",
       "       [9.86457765e-01, 7.63842184e-03],\n",
       "       [9.55913782e-01, 3.71164568e-02],\n",
       "       [1.00000000e+00, 5.86692295e-09],\n",
       "       [9.79799688e-01, 1.42515823e-02],\n",
       "       [9.99999881e-01, 5.08775457e-08],\n",
       "       [9.99993086e-01, 5.78654135e-06],\n",
       "       [9.99999642e-01, 3.02174357e-07],\n",
       "       [1.00000000e+00, 1.69213062e-17],\n",
       "       [9.84316826e-01, 1.16722081e-02],\n",
       "       [1.15464056e-04, 9.99790490e-01],\n",
       "       [1.00000000e+00, 1.13248779e-14],\n",
       "       [9.99949336e-01, 3.54592012e-05],\n",
       "       [1.00000000e+00, 2.50442578e-09],\n",
       "       [9.90806639e-01, 6.92874240e-03],\n",
       "       [1.00000000e+00, 8.21730878e-12],\n",
       "       [1.00000000e+00, 2.95569063e-08],\n",
       "       [9.99827087e-01, 1.40382355e-04],\n",
       "       [1.00000000e+00, 7.56348022e-21],\n",
       "       [9.85735953e-01, 1.42992837e-02],\n",
       "       [1.00000000e+00, 7.85818077e-09],\n",
       "       [9.99793351e-01, 1.89700790e-04],\n",
       "       [5.39774299e-02, 9.34591651e-01],\n",
       "       [9.98258054e-01, 8.44015158e-04],\n",
       "       [2.01444561e-03, 9.95910525e-01],\n",
       "       [9.99999881e-01, 9.35340410e-08],\n",
       "       [1.88431460e-02, 9.68993425e-01],\n",
       "       [9.43917483e-02, 8.78164351e-01],\n",
       "       [4.11694981e-02, 9.43913162e-01],\n",
       "       [6.42866269e-02, 8.63896728e-01],\n",
       "       [9.99979138e-01, 1.96166293e-05],\n",
       "       [9.99999881e-01, 1.63743778e-07],\n",
       "       [1.00000000e+00, 1.79787636e-13],\n",
       "       [7.69881845e-01, 2.32378677e-01],\n",
       "       [1.00000000e+00, 2.50141883e-31],\n",
       "       [1.00000000e+00, 3.30996515e-11],\n",
       "       [1.00000000e+00, 2.24391794e-08],\n",
       "       [9.26307082e-01, 6.27750531e-02],\n",
       "       [9.99992967e-01, 7.63698245e-06],\n",
       "       [9.99999881e-01, 2.70694841e-07],\n",
       "       [9.99784052e-01, 2.68369738e-04],\n",
       "       [1.00000000e+00, 2.89527335e-08],\n",
       "       [9.99602139e-01, 7.11329631e-04],\n",
       "       [1.00000000e+00, 4.52671761e-10],\n",
       "       [1.00000000e+00, 1.73702741e-08],\n",
       "       [1.56490862e-01, 8.61635983e-01],\n",
       "       [9.98095691e-01, 3.23048653e-03],\n",
       "       [1.00000000e+00, 4.65653045e-08],\n",
       "       [9.99999762e-01, 7.41609085e-07],\n",
       "       [9.99004900e-01, 1.58177561e-03],\n",
       "       [9.99957800e-01, 8.61474109e-05],\n",
       "       [1.00000000e+00, 7.45755386e-08],\n",
       "       [9.99976993e-01, 4.44770194e-05],\n",
       "       [9.99999762e-01, 5.15774673e-07],\n",
       "       [9.99999762e-01, 7.08740458e-07],\n",
       "       [9.99983549e-01, 3.45962944e-05],\n",
       "       [1.00000000e+00, 6.26763030e-10],\n",
       "       [9.99896884e-01, 2.05645119e-04],\n",
       "       [9.99875903e-01, 2.17897934e-04],\n",
       "       [9.76314366e-01, 3.46738100e-02],\n",
       "       [9.65898812e-01, 4.50261720e-02],\n",
       "       [9.99998927e-01, 1.63782033e-06],\n",
       "       [9.99940515e-01, 1.27675885e-04],\n",
       "       [9.52405751e-01, 6.69732541e-02],\n",
       "       [9.48638558e-01, 6.14405498e-02],\n",
       "       [9.99956250e-01, 8.73528479e-05],\n",
       "       [9.99771297e-01, 4.25549166e-04],\n",
       "       [9.98586059e-01, 2.26581679e-03],\n",
       "       [9.99769151e-01, 3.76189506e-04],\n",
       "       [9.91761804e-01, 1.00899534e-02],\n",
       "       [1.08467564e-01, 8.90067279e-01],\n",
       "       [9.67245400e-01, 5.02738655e-02],\n",
       "       [3.51069402e-03, 9.96992826e-01],\n",
       "       [1.57474354e-03, 9.98401225e-01],\n",
       "       [4.11009230e-02, 9.48849559e-01],\n",
       "       [1.00563683e-01, 9.00604129e-01],\n",
       "       [2.59542674e-01, 7.82895744e-01],\n",
       "       [1.00000000e+00, 2.23135221e-09],\n",
       "       [1.00000000e+00, 5.95185213e-07],\n",
       "       [1.00000000e+00, 4.17844037e-10],\n",
       "       [9.99998689e-01, 3.00997071e-05],\n",
       "       [1.00000000e+00, 1.62754157e-10],\n",
       "       [1.00000000e+00, 4.96006864e-26],\n",
       "       [1.00000000e+00, 5.74738079e-09],\n",
       "       [1.00000000e+00, 1.68502234e-21],\n",
       "       [9.99999762e-01, 1.15875707e-06],\n",
       "       [1.00000000e+00, 1.18375852e-28],\n",
       "       [1.34450372e-03, 9.99992847e-01],\n",
       "       [1.00000000e+00, 1.23212462e-08],\n",
       "       [1.00000000e+00, 1.02505569e-13],\n",
       "       [1.00000000e+00, 5.99273181e-13],\n",
       "       [1.00000000e+00, 1.36607126e-08],\n",
       "       [9.98236895e-01, 8.06323066e-03],\n",
       "       [9.99985814e-01, 2.05067699e-04],\n",
       "       [1.00000000e+00, 3.83356263e-10],\n",
       "       [9.99993801e-01, 6.70739464e-05],\n",
       "       [1.00000000e+00, 1.31489671e-07],\n",
       "       [9.99629498e-01, 1.22032617e-03],\n",
       "       [9.99999166e-01, 3.52921711e-06],\n",
       "       [9.99999881e-01, 6.38596794e-06],\n",
       "       [9.99755681e-01, 4.53876361e-04],\n",
       "       [8.83626163e-01, 2.21290514e-01],\n",
       "       [9.99420047e-01, 1.98938581e-03],\n",
       "       [1.00000000e+00, 2.08399453e-09],\n",
       "       [1.00000000e+00, 2.72987783e-08],\n",
       "       [7.92437315e-01, 3.42348397e-01],\n",
       "       [9.99999642e-01, 4.12487043e-06],\n",
       "       [1.00000000e+00, 9.02973946e-11],\n",
       "       [1.00000000e+00, 4.39830186e-11],\n",
       "       [1.00000000e+00, 7.08509784e-09],\n",
       "       [1.00000000e+00, 1.57747685e-21],\n",
       "       [1.00000000e+00, 1.40814558e-15],\n",
       "       [1.00000000e+00, 1.08508057e-10],\n",
       "       [9.99990702e-01, 3.71928400e-05],\n",
       "       [1.00000000e+00, 2.80266289e-13],\n",
       "       [1.22045912e-02, 9.95188355e-01],\n",
       "       [3.72013360e-01, 8.73349071e-01],\n",
       "       [3.81085664e-01, 9.73380625e-01],\n",
       "       [7.68491736e-05, 9.99984384e-01],\n",
       "       [7.92437136e-01, 3.42348397e-01],\n",
       "       [2.09000334e-01, 7.17233121e-01],\n",
       "       [3.48034227e-04, 9.99925137e-01],\n",
       "       [1.63919963e-02, 9.94825602e-01],\n",
       "       [1.00000000e+00, 1.02441742e-15],\n",
       "       [1.00000000e+00, 2.64904027e-15],\n",
       "       [1.00000000e+00, 1.44433399e-09],\n",
       "       [1.00000000e+00, 7.31603951e-25],\n",
       "       [9.99999642e-01, 3.44724322e-06],\n",
       "       [1.00000000e+00, 1.17221651e-17],\n",
       "       [1.00000000e+00, 2.04061701e-09],\n",
       "       [1.00000000e+00, 2.12036973e-38],\n",
       "       [9.98241186e-01, 4.24190201e-02],\n",
       "       [1.00000000e+00, 7.49025137e-13],\n",
       "       [1.00000000e+00, 3.25831051e-09],\n",
       "       [1.00000000e+00, 4.01780660e-14],\n",
       "       [1.00000000e+00, 9.80939507e-37],\n",
       "       [1.00000000e+00, 8.65226131e-13],\n",
       "       [1.00000000e+00, 7.20893276e-11],\n",
       "       [1.00000000e+00, 5.02421325e-12],\n",
       "       [1.00000000e+00, 1.43937360e-08],\n",
       "       [9.58516657e-01, 8.62971321e-02],\n",
       "       [9.95587945e-01, 1.08935386e-02],\n",
       "       [9.99999642e-01, 2.71325962e-06],\n",
       "       [9.99825895e-01, 1.11152790e-03],\n",
       "       [1.00000000e+00, 3.76926546e-10],\n",
       "       [1.00000000e+00, 1.46889967e-08],\n",
       "       [1.00000000e+00, 1.21037769e-09],\n",
       "       [1.00000000e+00, 3.25325378e-10],\n",
       "       [9.99086499e-01, 2.00256519e-03],\n",
       "       [9.99999762e-01, 1.69816246e-06],\n",
       "       [9.99900937e-01, 3.20902851e-04],\n",
       "       [9.47301745e-01, 9.06878412e-02],\n",
       "       [3.66079062e-03, 9.98524845e-01],\n",
       "       [9.99999881e-01, 1.31410218e-06],\n",
       "       [1.00000000e+00, 3.91736421e-08],\n",
       "       [1.00000000e+00, 4.98607752e-11],\n",
       "       [9.85929906e-01, 2.94911638e-02],\n",
       "       [9.99999881e-01, 5.87596219e-07],\n",
       "       [9.99999762e-01, 1.63161098e-06],\n",
       "       [9.99996066e-01, 2.43866707e-05],\n",
       "       [9.99994516e-01, 2.12686718e-05],\n",
       "       [9.83625948e-01, 3.86554562e-02],\n",
       "       [5.75155169e-02, 9.80049253e-01],\n",
       "       [9.99575317e-01, 1.34959479e-03],\n",
       "       [8.41201186e-01, 4.25332308e-01],\n",
       "       [1.01982820e-04, 9.99991894e-01],\n",
       "       [1.00000000e+00, 4.01601419e-10],\n",
       "       [2.54244246e-02, 9.94563758e-01],\n",
       "       [1.20841628e-02, 9.94574368e-01],\n",
       "       [1.00000000e+00, 2.34354017e-28],\n",
       "       [1.00000000e+00, 1.31769155e-14],\n",
       "       [1.00000000e+00, 1.90322589e-05],\n",
       "       [1.00000000e+00, 2.16043609e-05],\n",
       "       [9.99669194e-01, 4.41099051e-03],\n",
       "       [1.00000000e+00, 9.07183676e-07],\n",
       "       [1.00000000e+00, 4.52718363e-10],\n",
       "       [1.00000000e+00, 2.03617559e-18],\n",
       "       [1.00000000e+00, 5.47183521e-14],\n",
       "       [1.00000000e+00, 1.31083695e-08],\n",
       "       [1.00000000e+00, 0.00000000e+00],\n",
       "       [1.00000000e+00, 1.41108574e-13],\n",
       "       [1.00000000e+00, 3.65677757e-13],\n",
       "       [1.00000000e+00, 7.21574578e-10],\n",
       "       [1.00000000e+00, 1.45895362e-12],\n",
       "       [1.00000000e+00, 3.43589767e-14],\n",
       "       [4.76838827e-01, 9.76191759e-01],\n",
       "       [9.99964952e-01, 4.24784957e-04],\n",
       "       [9.99999046e-01, 2.86970171e-05],\n",
       "       [1.00000000e+00, 1.29274635e-08],\n",
       "       [9.99999881e-01, 1.30718299e-05],\n",
       "       [1.00000000e+00, 4.25463611e-07],\n",
       "       [1.00000000e+00, 1.21477592e-06],\n",
       "       [9.99999762e-01, 7.75851277e-06],\n",
       "       [1.00000000e+00, 1.33973908e-11],\n",
       "       [9.99999523e-01, 8.73356039e-05],\n",
       "       [1.00000000e+00, 1.72231083e-07],\n",
       "       [1.00000000e+00, 1.57902302e-11],\n",
       "       [9.61595476e-01, 1.69930160e-01],\n",
       "       [1.00000000e+00, 3.44498332e-08],\n",
       "       [9.96113062e-01, 7.05291927e-02],\n",
       "       [9.99649286e-01, 4.52984683e-03],\n",
       "       [1.00000000e+00, 8.25630025e-07],\n",
       "       [3.32825780e-01, 7.82337546e-01],\n",
       "       [1.00000000e+00, 1.03673080e-14],\n",
       "       [1.00000000e+00, 1.18177388e-06],\n",
       "       [9.45907772e-01, 1.91761300e-01],\n",
       "       [1.16477013e-02, 9.92709875e-01],\n",
       "       [1.57948394e-04, 9.99961495e-01],\n",
       "       [1.96113001e-06, 9.99997616e-01],\n",
       "       [1.41609043e-01, 9.49620664e-01],\n",
       "       [8.89512421e-07, 9.99999285e-01],\n",
       "       [1.04763918e-01, 9.57914889e-01],\n",
       "       [1.18947007e-01, 9.47266757e-01],\n",
       "       [6.31973904e-04, 9.99298811e-01]], dtype=float32)"
      ]
     },
     "execution_count": 31,
     "metadata": {},
     "output_type": "execute_result"
    }
   ],
   "source": [
    "y_predict_concatenate_array = np.array(y_predict_concatenate_list)\n",
    "y_predict_concatenate_array"
   ]
  },
  {
   "cell_type": "code",
   "execution_count": 32,
   "metadata": {},
   "outputs": [
    {
     "data": {
      "text/plain": [
       "(230, 2)"
      ]
     },
     "execution_count": 32,
     "metadata": {},
     "output_type": "execute_result"
    }
   ],
   "source": [
    "y_predict_concatenate_array.shape"
   ]
  },
  {
   "cell_type": "code",
   "execution_count": 33,
   "metadata": {},
   "outputs": [],
   "source": [
    "y_predict_1D = y_predict_concatenate_array[:,0]"
   ]
  },
  {
   "cell_type": "code",
   "execution_count": 34,
   "metadata": {},
   "outputs": [],
   "source": [
    "y_predict_1D_processed = 1- y_predict_1D"
   ]
  },
  {
   "cell_type": "code",
   "execution_count": 35,
   "metadata": {},
   "outputs": [],
   "source": [
    "fpr , tpr , thresholds = roc_curve(y_test_concatenate_list , y_predict_1D_processed)\n",
    "auc_rf = auc(fpr, tpr)"
   ]
  },
  {
   "cell_type": "code",
   "execution_count": 36,
   "metadata": {},
   "outputs": [
    {
     "data": {
      "text/plain": [
       "0.9353464963221061"
      ]
     },
     "execution_count": 36,
     "metadata": {},
     "output_type": "execute_result"
    }
   ],
   "source": [
    "auc_rf"
   ]
  },
  {
   "cell_type": "code",
   "execution_count": 37,
   "metadata": {},
   "outputs": [],
   "source": [
    "x = y = np.arange(0, 1.1, 0.1)"
   ]
  },
  {
   "cell_type": "code",
   "execution_count": 38,
   "metadata": {},
   "outputs": [
    {
     "data": {
      "text/plain": [
       "array([0. , 0.1, 0.2, 0.3, 0.4, 0.5, 0.6, 0.7, 0.8, 0.9, 1. ])"
      ]
     },
     "execution_count": 38,
     "metadata": {},
     "output_type": "execute_result"
    }
   ],
   "source": [
    "x"
   ]
  },
  {
   "cell_type": "code",
   "execution_count": 39,
   "metadata": {
    "scrolled": true
   },
   "outputs": [
    {
     "data": {
      "image/png": "[encoded data removed]",
      "text/plain": [
       "<Figure size 432x288 with 1 Axes>"
      ]
     },
     "metadata": {},
     "output_type": "display_data"
    }
   ],
   "source": [
    "fig = plt.figure()\n",
    "plt.style.use('classic')\n",
    "\n",
    "ax = fig.add_subplot(111)\n",
    "\n",
    "plt.plot(fpr, tpr, color='blue', linewidth=0.9)\n",
    "\n",
    "plt.plot(x, y, '--', color='black', linewidth=0.8)\n",
    "\n",
    "plt.title('ROC curve of Chr X q22 CNV', fontsize=15, fontname = 'Times New Roman')\n",
    "plt.xlabel('False Positive Rate', fontsize=15, fontname = 'Times New Roman')\n",
    "\n",
    "plt.ylabel('True positive Rate', fontsize=15, fontname = 'Times New Roman')\n",
    "\n",
    "ax.set_aspect('equal', adjustable='box')\n",
    "\n",
    "plt.xlim(-0.08, 1.1)\n",
    "plt.ylim(-0.08, 1.1)\n",
    "\n",
    "plt.xticks(fontsize=15, fontname = 'Arial')\n",
    "plt.yticks(fontsize=15, fontname = 'Arial')\n",
    "\n",
    "plt.savefig('ROC_Curve_Combination.png', dpi=700)\n",
    "plt.show()"
   ]
  },
  {
   "cell_type": "markdown",
   "metadata": {},
   "source": [
    "#### 3.10.4.1 AUC Value"
   ]
  },
  {
   "cell_type": "code",
   "execution_count": 40,
   "metadata": {},
   "outputs": [],
   "source": [
    "auc_value = auc(fpr, tpr)"
   ]
  },
  {
   "cell_type": "code",
   "execution_count": 41,
   "metadata": {},
   "outputs": [
    {
     "name": "stdout",
     "output_type": "stream",
     "text": [
      "AUC is  0.9353464963221061\n"
     ]
    }
   ],
   "source": [
    "print('AUC is ', auc_value)"
   ]
  },
  {
   "cell_type": "markdown",
   "metadata": {},
   "source": [
    "# Results"
   ]
  },
  {
   "cell_type": "code",
   "execution_count": 42,
   "metadata": {},
   "outputs": [
    {
     "name": "stdout",
     "output_type": "stream",
     "text": [
      "Test Accuracy: 0.930\n"
     ]
    }
   ],
   "source": [
    "print('Test Accuracy: %.3f' % acc)"
   ]
  },
  {
   "cell_type": "code",
   "execution_count": 43,
   "metadata": {
    "scrolled": true
   },
   "outputs": [
    {
     "name": "stdout",
     "output_type": "stream",
     "text": [
      "                    precision    recall  f1-score   support\n",
      "\n",
      "             chr_x       0.95      0.97      0.96       189\n",
      "chr_x_q22_deletion       0.84      0.76      0.79        41\n",
      "\n",
      "         micro avg       0.93      0.93      0.93       230\n",
      "         macro avg       0.89      0.86      0.88       230\n",
      "      weighted avg       0.93      0.93      0.93       230\n",
      "\n"
     ]
    }
   ],
   "source": [
    "print(performanceReport)"
   ]
  },
  {
   "cell_type": "code",
   "execution_count": 44,
   "metadata": {},
   "outputs": [
    {
     "data": {
      "text/plain": [
       "str"
      ]
     },
     "execution_count": 44,
     "metadata": {},
     "output_type": "execute_result"
    }
   ],
   "source": [
    "type(performanceReport)"
   ]
  },
  {
   "cell_type": "code",
   "execution_count": 45,
   "metadata": {},
   "outputs": [
    {
     "name": "stdout",
     "output_type": "stream",
     "text": [
      "AUC is  0.9353464963221061\n"
     ]
    }
   ],
   "source": [
    "print('AUC is ', auc_value)"
   ]
  },
  {
   "cell_type": "markdown",
   "metadata": {},
   "source": [
    "## Export to a text file"
   ]
  },
  {
   "cell_type": "code",
   "execution_count": 46,
   "metadata": {},
   "outputs": [],
   "source": [
    "file_report = open('ResultsCombination.txt', 'w')\n",
    "file_report.write('Accuracy: %s\\n\\n' % acc)\n",
    "file_report.write('AUC: %s.\\n\\n' % auc_value)\n",
    "file_report.write('Performance Report: \\n%s\\n\\n' % performanceReport)\n",
    "file_report.write('Confusion Matrix: \\n%s.\\n\\n' % confusion)\n",
    "file_report.write('Recall of Confusion Matrix: \\n%s.\\n\\n' % confusion_r)\n",
    "file_report.write('Precision of Confusion Matrix: \\n%s.\\n\\n' % confusion_p)\n",
    "file_report.close()"
   ]
  },
  {
   "cell_type": "markdown",
   "metadata": {},
   "source": [
    "## Export ROC Parameters"
   ]
  },
  {
   "cell_type": "code",
   "execution_count": 47,
   "metadata": {},
   "outputs": [],
   "source": [
    "with open('tpr_' + label_convert[1] + '.npy', 'wb') as file_tpr:\n",
    "    np.save(file_tpr, np.array(tpr))\n",
    "    \n",
    "with open('fpr_' + label_convert[1] + '.npy', 'wb') as file_fpr:\n",
    "    np.save(file_fpr, np.array(fpr))\n",
    "    \n",
    "with open('thresholds_' + label_convert[1] + '.npy', 'wb') as file_thresholds:\n",
    "    np.save(file_thresholds, np.array(thresholds))"
   ]
  },
  {
   "cell_type": "code",
   "execution_count": null,
   "metadata": {},
   "outputs": [],
   "source": []
  }
 ],
 "metadata": {
  "kernelspec": {
   "display_name": "Python 3",
   "language": "python",
   "name": "python3"
  },
  "language_info": {
   "codemirror_mode": {
    "name": "ipython",
    "version": 3
   },
   "file_extension": ".py",
   "mimetype": "text/x-python",
   "name": "python",
   "nbconvert_exporter": "python",
   "pygments_lexer": "ipython3",
   "version": "3.7.3"
  }
 },
 "nbformat": 4,
 "nbformat_minor": 2
}
