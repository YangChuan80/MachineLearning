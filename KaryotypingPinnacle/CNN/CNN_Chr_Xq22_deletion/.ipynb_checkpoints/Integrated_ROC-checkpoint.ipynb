{
 "cells": [
  {
   "cell_type": "code",
   "execution_count": 1,
   "metadata": {},
   "outputs": [
    {
     "name": "stderr",
     "output_type": "stream",
     "text": [
      "C:\\Anaconda3\\lib\\site-packages\\pandas\\compat\\_optional.py:138: UserWarning: Pandas requires version '2.7.0' or newer of 'numexpr' (version '2.6.9' currently installed).\n",
      "  warnings.warn(msg, UserWarning)\n"
     ]
    }
   ],
   "source": [
    "import numpy as np\n",
    "import pandas as pd\n",
    "import matplotlib.pyplot as plt\n",
    "\n",
    "from sklearn.metrics import classification_report, confusion_matrix, roc_curve, auc, accuracy_score\n",
    "\n",
    "import seaborn as sb"
   ]
  },
  {
   "cell_type": "code",
   "execution_count": 2,
   "metadata": {},
   "outputs": [],
   "source": [
    "chromConvert = {\n",
    "               'chr_x': 0, \n",
    "               'chr_x_q22_deletion': 1\n",
    "               }"
   ]
  },
  {
   "cell_type": "code",
   "execution_count": 3,
   "metadata": {},
   "outputs": [],
   "source": [
    "chromConvert_reverse = {\n",
    "                0: 'chr_x', \n",
    "                1: 'chr_x_q22_deletion'\n",
    "               }"
   ]
  },
  {
   "cell_type": "code",
   "execution_count": 4,
   "metadata": {},
   "outputs": [],
   "source": [
    "label = ['chr_x', 'chr_x_q22_deletion']\n",
    "\n",
    "label_convert = []\n",
    "\n",
    "for i in range(2):\n",
    "    label_convert.append(chromConvert_reverse[i])"
   ]
  },
  {
   "cell_type": "markdown",
   "metadata": {},
   "source": [
    "# Load test and predict values"
   ]
  },
  {
   "cell_type": "code",
   "execution_count": 5,
   "metadata": {},
   "outputs": [],
   "source": [
    "y_test_all = []\n",
    "y_predict_all = []\n",
    "y_predict_filtered_all = []"
   ]
  },
  {
   "cell_type": "code",
   "execution_count": 6,
   "metadata": {},
   "outputs": [],
   "source": [
    "for iterationNumber in range(7):\n",
    "    with open('data_y_test_value_iteration_' + str(iterationNumber) + '.npy', 'rb') as f_y_test:\n",
    "        y_test_all.append(np.load(f_y_test))\n",
    "        \n",
    "    with open('data_y_predict_value_iteration_' + str(iterationNumber) + '.npy', 'rb') as f_y_predict:\n",
    "        y_predict_all.append(np.load(f_y_predict))                             \n",
    "                        \n",
    "    with open('data_y_predict_filtered_value_iteration_' + str(iterationNumber) + '.npy', 'rb') as f_y_predict_filtered:\n",
    "        y_predict_filtered_all.append(np.load(f_y_predict_filtered))"
   ]
  },
  {
   "cell_type": "code",
   "execution_count": 7,
   "metadata": {},
   "outputs": [
    {
     "data": {
      "text/plain": [
       "(33, 2)"
      ]
     },
     "execution_count": 7,
     "metadata": {},
     "output_type": "execute_result"
    }
   ],
   "source": [
    "y_predict_all[0].shape"
   ]
  },
  {
   "cell_type": "code",
   "execution_count": 8,
   "metadata": {
    "scrolled": true
   },
   "outputs": [
    {
     "data": {
      "text/plain": [
       "[array([[1.0000000e+00, 1.9235110e-22],\n",
       "        [1.0000000e+00, 4.8261915e-13],\n",
       "        [1.0000000e+00, 4.3753910e-19],\n",
       "        [1.0000000e+00, 2.8874482e-19],\n",
       "        [1.0000000e+00, 3.0149619e-13],\n",
       "        [1.0000000e+00, 6.9741442e-18],\n",
       "        [1.0000000e+00, 7.2046844e-15],\n",
       "        [1.0000000e+00, 3.5960855e-12],\n",
       "        [1.0000000e+00, 2.9225458e-10],\n",
       "        [1.0000000e+00, 6.5904358e-09],\n",
       "        [9.9999988e-01, 3.3778814e-08],\n",
       "        [9.9999988e-01, 3.2055129e-07],\n",
       "        [1.0000000e+00, 5.1324396e-13],\n",
       "        [9.9885654e-01, 1.0029625e-03],\n",
       "        [9.8452777e-01, 9.0807667e-03],\n",
       "        [1.0000000e+00, 8.3316701e-11],\n",
       "        [9.9997556e-01, 1.8615086e-05],\n",
       "        [9.9999940e-01, 6.3961687e-07],\n",
       "        [9.9764144e-01, 3.4314755e-03],\n",
       "        [1.0000000e+00, 2.3617938e-10],\n",
       "        [1.0000000e+00, 5.1196704e-13],\n",
       "        [9.9648958e-01, 4.1159312e-03],\n",
       "        [1.0000000e+00, 1.1962884e-08],\n",
       "        [9.9988651e-01, 7.0164620e-05],\n",
       "        [9.9078548e-01, 6.6764569e-03],\n",
       "        [1.0000000e+00, 4.8083302e-09],\n",
       "        [1.0000000e+00, 1.9406661e-10],\n",
       "        [3.5184905e-02, 9.6427929e-01],\n",
       "        [9.9795306e-01, 2.1199267e-03],\n",
       "        [3.2280368e-01, 7.6431280e-01],\n",
       "        [4.1181312e-04, 9.9976605e-01],\n",
       "        [1.4894068e-03, 9.9778217e-01],\n",
       "        [5.3061944e-01, 4.8098725e-01]], dtype=float32),\n",
       " array([[1.0000000e+00, 2.7117455e-12],\n",
       "        [1.0000000e+00, 7.0531910e-22],\n",
       "        [1.0000000e+00, 0.0000000e+00],\n",
       "        [1.0000000e+00, 1.6991052e-15],\n",
       "        [9.9998355e-01, 1.0394075e-05],\n",
       "        [1.0000000e+00, 2.6597069e-08],\n",
       "        [9.9999988e-01, 1.0502382e-07],\n",
       "        [1.0000000e+00, 2.2405997e-15],\n",
       "        [1.0000000e+00, 1.7109775e-09],\n",
       "        [9.9999440e-01, 1.0498219e-05],\n",
       "        [2.7962637e-01, 7.0626134e-01],\n",
       "        [9.9999988e-01, 3.2509689e-07],\n",
       "        [8.1120783e-01, 2.3801374e-01],\n",
       "        [9.9998677e-01, 7.9157966e-05],\n",
       "        [1.0000000e+00, 2.4770060e-16],\n",
       "        [1.0000000e+00, 6.5128109e-16],\n",
       "        [4.2237372e-07, 9.9999857e-01],\n",
       "        [1.0000000e+00, 1.4861410e-08],\n",
       "        [9.9999928e-01, 5.7009825e-06],\n",
       "        [1.0000000e+00, 1.2190073e-10],\n",
       "        [9.9981326e-01, 4.2830475e-04],\n",
       "        [9.9560589e-01, 7.3601413e-03],\n",
       "        [1.0000000e+00, 3.7978740e-09],\n",
       "        [9.9999607e-01, 1.1641820e-05],\n",
       "        [9.9876887e-01, 1.6570818e-03],\n",
       "        [8.6158246e-01, 1.8119904e-01],\n",
       "        [9.9942434e-01, 6.7625521e-04],\n",
       "        [2.1915203e-02, 9.7900724e-01],\n",
       "        [9.6100014e-01, 4.7275148e-02],\n",
       "        [1.1055600e-02, 9.8653096e-01],\n",
       "        [9.6722217e-03, 9.8142081e-01],\n",
       "        [6.3220193e-03, 9.9134946e-01],\n",
       "        [4.4519811e-06, 9.9999416e-01]], dtype=float32),\n",
       " array([[1.0000000e+00, 6.7452399e-10],\n",
       "        [9.9802101e-01, 2.1675951e-03],\n",
       "        [1.0000000e+00, 3.5978062e-20],\n",
       "        [1.0000000e+00, 8.4598657e-09],\n",
       "        [9.9998975e-01, 9.4638235e-06],\n",
       "        [1.0000000e+00, 2.9826665e-18],\n",
       "        [9.9999976e-01, 1.1218283e-07],\n",
       "        [1.0000000e+00, 0.0000000e+00],\n",
       "        [1.8850293e-02, 9.5210665e-01],\n",
       "        [8.1017085e-08, 9.9999988e-01],\n",
       "        [6.5506947e-01, 3.4261340e-01],\n",
       "        [9.9998367e-01, 9.6404428e-06],\n",
       "        [9.9882776e-01, 9.0848148e-04],\n",
       "        [9.9995053e-01, 2.9452844e-05],\n",
       "        [9.9999940e-01, 3.3293776e-07],\n",
       "        [9.9999893e-01, 5.5185347e-07],\n",
       "        [9.9998295e-01, 1.6983366e-05],\n",
       "        [9.8424029e-01, 1.9031042e-02],\n",
       "        [1.0000000e+00, 9.3543280e-09],\n",
       "        [9.8511767e-01, 1.7750045e-02],\n",
       "        [9.9937880e-01, 7.7789137e-04],\n",
       "        [9.9999964e-01, 1.5192761e-07],\n",
       "        [1.0000000e+00, 3.1588655e-08],\n",
       "        [5.1909328e-01, 4.8247275e-01],\n",
       "        [9.9995899e-01, 2.8382932e-05],\n",
       "        [9.9999869e-01, 1.4676193e-06],\n",
       "        [9.9949539e-01, 4.6221924e-04],\n",
       "        [4.8105329e-02, 9.4657433e-01],\n",
       "        [4.5234534e-01, 5.8301032e-01],\n",
       "        [6.0366398e-01, 3.7731501e-01],\n",
       "        [4.6696970e-03, 9.9403316e-01],\n",
       "        [5.6852102e-02, 9.4584566e-01],\n",
       "        [7.1439378e-02, 9.3128920e-01]], dtype=float32),\n",
       " array([[9.9999917e-01, 4.5361398e-06],\n",
       "        [1.0000000e+00, 2.1937675e-10],\n",
       "        [1.0000000e+00, 1.3940617e-12],\n",
       "        [1.0000000e+00, 8.8686525e-09],\n",
       "        [1.0000000e+00, 3.9656601e-11],\n",
       "        [1.0000000e+00, 6.6806533e-11],\n",
       "        [9.6476161e-01, 2.7640936e-01],\n",
       "        [1.0000000e+00, 4.2281560e-09],\n",
       "        [9.9999952e-01, 2.6723667e-06],\n",
       "        [1.0000000e+00, 4.2604604e-11],\n",
       "        [9.9986947e-01, 2.2742056e-04],\n",
       "        [1.0000000e+00, 8.9229864e-08],\n",
       "        [1.0000000e+00, 4.7105758e-08],\n",
       "        [9.9999261e-01, 2.8577399e-05],\n",
       "        [9.9993706e-01, 1.5959462e-04],\n",
       "        [8.2588369e-01, 5.5010921e-01],\n",
       "        [9.9999213e-01, 2.6394440e-05],\n",
       "        [9.8162043e-01, 1.3237080e-01],\n",
       "        [9.9991095e-01, 3.7046924e-04],\n",
       "        [1.0000000e+00, 5.3137164e-08],\n",
       "        [9.9986207e-01, 7.8488659e-04],\n",
       "        [9.9999857e-01, 3.7662978e-06],\n",
       "        [1.0000000e+00, 7.2778165e-11],\n",
       "        [9.9999869e-01, 4.3614859e-06],\n",
       "        [1.0000000e+00, 8.3969431e-13],\n",
       "        [1.0000000e+00, 1.5610703e-07],\n",
       "        [9.9999988e-01, 2.5852285e-07],\n",
       "        [4.3792296e-03, 9.9911767e-01],\n",
       "        [1.6250996e-02, 9.9898416e-01],\n",
       "        [9.9986207e-01, 7.8488659e-04],\n",
       "        [2.6556546e-02, 9.9854231e-01],\n",
       "        [7.2420330e-04, 9.9993825e-01],\n",
       "        [3.9111585e-03, 9.9968791e-01]], dtype=float32),\n",
       " array([[1.00000000e+00, 3.58562511e-28],\n",
       "        [1.00000000e+00, 3.18316231e-15],\n",
       "        [9.99997497e-01, 1.79433570e-07],\n",
       "        [1.00000000e+00, 0.00000000e+00],\n",
       "        [4.28041117e-03, 8.68857384e-01],\n",
       "        [1.00000000e+00, 1.49028399e-17],\n",
       "        [9.99998927e-01, 2.10452995e-07],\n",
       "        [1.00000000e+00, 5.69237777e-15],\n",
       "        [2.46040866e-01, 3.73622745e-01],\n",
       "        [9.99988675e-01, 5.42891200e-07],\n",
       "        [9.92082834e-01, 3.79786221e-03],\n",
       "        [1.00000000e+00, 1.54200541e-09],\n",
       "        [9.99998569e-01, 2.34687931e-07],\n",
       "        [9.99288678e-01, 5.09377742e-06],\n",
       "        [1.00000000e+00, 1.74956785e-10],\n",
       "        [1.00000000e+00, 8.79848278e-12],\n",
       "        [9.98481572e-01, 1.07478103e-04],\n",
       "        [1.00000000e+00, 4.84388842e-13],\n",
       "        [6.65113270e-01, 2.00861782e-01],\n",
       "        [9.99999762e-01, 2.06825099e-08],\n",
       "        [1.00000000e+00, 1.46746300e-27],\n",
       "        [1.00000000e+00, 7.80039892e-14],\n",
       "        [1.00000000e+00, 2.12665063e-09],\n",
       "        [9.99999881e-01, 7.88404808e-09],\n",
       "        [1.00000000e+00, 1.51592860e-09],\n",
       "        [1.00000000e+00, 3.83996376e-11],\n",
       "        [9.99999881e-01, 1.05076285e-08],\n",
       "        [1.09176844e-01, 7.81650305e-01],\n",
       "        [9.99996662e-01, 2.82730156e-07],\n",
       "        [8.18215489e-01, 6.97398260e-02],\n",
       "        [1.00000000e+00, 7.33832889e-14],\n",
       "        [1.16425973e-07, 9.99998331e-01],\n",
       "        [9.86441851e-01, 7.74489090e-05]], dtype=float32),\n",
       " array([[1.0000000e+00, 0.0000000e+00],\n",
       "        [1.0000000e+00, 0.0000000e+00],\n",
       "        [1.0000000e+00, 1.7188315e-12],\n",
       "        [1.0000000e+00, 0.0000000e+00],\n",
       "        [9.9094534e-01, 2.6069207e-03],\n",
       "        [1.0000000e+00, 1.2357532e-24],\n",
       "        [1.0000000e+00, 8.2064040e-24],\n",
       "        [1.0000000e+00, 2.7287246e-14],\n",
       "        [9.9758387e-01, 5.4947886e-04],\n",
       "        [1.0000000e+00, 0.0000000e+00],\n",
       "        [2.8131455e-01, 7.6152337e-01],\n",
       "        [1.0000000e+00, 4.5128412e-16],\n",
       "        [9.8240227e-01, 1.0188053e-02],\n",
       "        [1.0000000e+00, 0.0000000e+00],\n",
       "        [9.9939573e-01, 4.1550549e-05],\n",
       "        [1.0000000e+00, 1.0347441e-09],\n",
       "        [9.7906333e-01, 3.9307602e-02],\n",
       "        [1.0000000e+00, 2.0966837e-14],\n",
       "        [1.0000000e+00, 2.2653312e-14],\n",
       "        [1.0000000e+00, 5.1454029e-11],\n",
       "        [3.1779310e-01, 6.2398726e-01],\n",
       "        [9.9999952e-01, 1.1451671e-07],\n",
       "        [6.0758680e-01, 4.3216252e-01],\n",
       "        [1.0000000e+00, 2.1635525e-11],\n",
       "        [9.9981838e-01, 8.8225228e-05],\n",
       "        [9.9999523e-01, 8.8171868e-07],\n",
       "        [9.9964976e-01, 2.0488143e-04],\n",
       "        [2.0321354e-04, 9.9997330e-01],\n",
       "        [1.8902691e-02, 9.9136400e-01],\n",
       "        [5.1149735e-03, 9.9842501e-01],\n",
       "        [9.9954337e-01, 2.4175638e-04],\n",
       "        [3.6668692e-07, 1.0000000e+00],\n",
       "        [3.7976625e-07, 1.0000000e+00]], dtype=float32),\n",
       " array([[9.9999964e-01, 2.4811399e-07],\n",
       "        [9.9985993e-01, 1.3727700e-05],\n",
       "        [9.9997902e-01, 2.2385322e-05],\n",
       "        [1.0000000e+00, 8.2771918e-20],\n",
       "        [1.0000000e+00, 1.2919858e-10],\n",
       "        [1.0000000e+00, 1.2987443e-12],\n",
       "        [1.0000000e+00, 6.3203779e-18],\n",
       "        [1.0000000e+00, 8.7507590e-10],\n",
       "        [1.0000000e+00, 6.8798678e-13],\n",
       "        [1.0000000e+00, 7.8534240e-18],\n",
       "        [1.0000000e+00, 4.7852390e-16],\n",
       "        [9.9627787e-01, 5.6437333e-03],\n",
       "        [9.9999833e-01, 4.6215196e-06],\n",
       "        [1.0000000e+00, 4.3689594e-16],\n",
       "        [2.3687169e-01, 6.5872276e-01],\n",
       "        [1.0000000e+00, 1.5023502e-10],\n",
       "        [9.9998546e-01, 1.9693669e-05],\n",
       "        [9.9973017e-01, 9.4268878e-05],\n",
       "        [9.9999952e-01, 9.8947211e-08],\n",
       "        [4.4899237e-01, 3.4767830e-01],\n",
       "        [1.0000000e+00, 1.5363394e-09],\n",
       "        [9.9980778e-01, 1.9980874e-04],\n",
       "        [9.9930131e-01, 6.1498018e-04],\n",
       "        [1.0000000e+00, 4.1785636e-08],\n",
       "        [3.9535113e-02, 9.5276725e-01],\n",
       "        [1.0000000e+00, 6.2049916e-18],\n",
       "        [7.3363239e-01, 2.1962020e-01],\n",
       "        [8.8701499e-01, 7.5256743e-02],\n",
       "        [2.1227105e-03, 9.9625444e-01],\n",
       "        [3.1218522e-05, 9.9991751e-01],\n",
       "        [1.1222964e-01, 7.4089295e-01],\n",
       "        [9.9308954e-07, 9.9999654e-01]], dtype=float32)]"
      ]
     },
     "execution_count": 8,
     "metadata": {},
     "output_type": "execute_result"
    }
   ],
   "source": [
    "y_predict_all"
   ]
  },
  {
   "cell_type": "code",
   "execution_count": 9,
   "metadata": {},
   "outputs": [],
   "source": [
    "y_test_concatenate_list = []\n",
    "y_predict_concatenate_list = []\n",
    "y_predict_filtered_concatenate_list = []"
   ]
  },
  {
   "cell_type": "code",
   "execution_count": 10,
   "metadata": {},
   "outputs": [],
   "source": [
    "for i in range(7):\n",
    "    y_test_concatenate_list.extend(list(y_test_all[i]))\n",
    "    y_predict_concatenate_list.extend(list(y_predict_all[i]))\n",
    "    y_predict_filtered_concatenate_list.extend(list(y_predict_filtered_all[i]))"
   ]
  },
  {
   "cell_type": "code",
   "execution_count": 11,
   "metadata": {},
   "outputs": [
    {
     "data": {
      "text/plain": [
       "(33, 2)"
      ]
     },
     "execution_count": 11,
     "metadata": {},
     "output_type": "execute_result"
    }
   ],
   "source": [
    "y_predict_all[0].shape"
   ]
  },
  {
   "cell_type": "code",
   "execution_count": 12,
   "metadata": {},
   "outputs": [
    {
     "data": {
      "text/plain": [
       "['chr_x', 'chr_x_q22_deletion']"
      ]
     },
     "execution_count": 12,
     "metadata": {},
     "output_type": "execute_result"
    }
   ],
   "source": [
    "label_convert"
   ]
  },
  {
   "cell_type": "code",
   "execution_count": 13,
   "metadata": {},
   "outputs": [
    {
     "data": {
      "text/plain": [
       "230"
      ]
     },
     "execution_count": 13,
     "metadata": {},
     "output_type": "execute_result"
    }
   ],
   "source": [
    "len(y_test_concatenate_list)"
   ]
  },
  {
   "cell_type": "code",
   "execution_count": 14,
   "metadata": {},
   "outputs": [
    {
     "data": {
      "text/plain": [
       "230"
      ]
     },
     "execution_count": 14,
     "metadata": {},
     "output_type": "execute_result"
    }
   ],
   "source": [
    "len(y_predict_filtered_concatenate_list)"
   ]
  },
  {
   "cell_type": "code",
   "execution_count": 15,
   "metadata": {},
   "outputs": [
    {
     "data": {
      "text/plain": [
       "230"
      ]
     },
     "execution_count": 15,
     "metadata": {},
     "output_type": "execute_result"
    }
   ],
   "source": [
    "len(y_predict_concatenate_list)"
   ]
  },
  {
   "cell_type": "markdown",
   "metadata": {},
   "source": [
    "# Classification Report"
   ]
  },
  {
   "cell_type": "markdown",
   "metadata": {},
   "source": [
    "## Accuracy"
   ]
  },
  {
   "cell_type": "code",
   "execution_count": 16,
   "metadata": {},
   "outputs": [
    {
     "name": "stdout",
     "output_type": "stream",
     "text": [
      "Accuracy is  0.908695652173913\n"
     ]
    }
   ],
   "source": [
    "acc = accuracy_score(y_test_concatenate_list, y_predict_filtered_concatenate_list, normalize=True, sample_weight=None)\n",
    "print('Accuracy is ', acc)"
   ]
  },
  {
   "cell_type": "markdown",
   "metadata": {},
   "source": [
    "## Precision, Recall, and F1"
   ]
  },
  {
   "cell_type": "code",
   "execution_count": 17,
   "metadata": {},
   "outputs": [
    {
     "name": "stdout",
     "output_type": "stream",
     "text": [
      "                    precision    recall  f1-score   support\n",
      "\n",
      "             chr_x       0.94      0.95      0.94       189\n",
      "chr_x_q22_deletion       0.75      0.73      0.74        41\n",
      "\n",
      "         micro avg       0.91      0.91      0.91       230\n",
      "         macro avg       0.85      0.84      0.84       230\n",
      "      weighted avg       0.91      0.91      0.91       230\n",
      "\n"
     ]
    }
   ],
   "source": [
    "performanceReport = classification_report(y_test_concatenate_list, y_predict_filtered_concatenate_list, \n",
    "                                          target_names=label_convert)\n",
    "\n",
    "\n",
    "print(performanceReport)"
   ]
  },
  {
   "cell_type": "markdown",
   "metadata": {},
   "source": [
    "## Confusion Matrix"
   ]
  },
  {
   "cell_type": "code",
   "execution_count": 18,
   "metadata": {},
   "outputs": [
    {
     "data": {
      "text/html": [
       "<div>\n",
       "<style scoped>\n",
       "    .dataframe tbody tr th:only-of-type {\n",
       "        vertical-align: middle;\n",
       "    }\n",
       "\n",
       "    .dataframe tbody tr th {\n",
       "        vertical-align: top;\n",
       "    }\n",
       "\n",
       "    .dataframe thead th {\n",
       "        text-align: right;\n",
       "    }\n",
       "</style>\n",
       "<table border=\"1\" class=\"dataframe\">\n",
       "  <thead>\n",
       "    <tr style=\"text-align: right;\">\n",
       "      <th></th>\n",
       "      <th>chr_x</th>\n",
       "      <th>chr_x_q22_deletion</th>\n",
       "    </tr>\n",
       "  </thead>\n",
       "  <tbody>\n",
       "    <tr>\n",
       "      <th>chr_x</th>\n",
       "      <td>179</td>\n",
       "      <td>10</td>\n",
       "    </tr>\n",
       "    <tr>\n",
       "      <th>chr_x_q22_deletion</th>\n",
       "      <td>11</td>\n",
       "      <td>30</td>\n",
       "    </tr>\n",
       "  </tbody>\n",
       "</table>\n",
       "</div>"
      ],
      "text/plain": [
       "                    chr_x  chr_x_q22_deletion\n",
       "chr_x                 179                  10\n",
       "chr_x_q22_deletion     11                  30"
      ]
     },
     "execution_count": 18,
     "metadata": {},
     "output_type": "execute_result"
    }
   ],
   "source": [
    "cm = np.array(confusion_matrix(y_test_concatenate_list, y_predict_filtered_concatenate_list))\n",
    "confusion = pd.DataFrame(cm, index=label_convert,\n",
    "                        columns=label_convert)\n",
    "confusion.to_csv('ConfusionMatrix_Combination_of_CrossValidation_KaryoType_CNN.csv')\n",
    "confusion"
   ]
  },
  {
   "cell_type": "markdown",
   "metadata": {},
   "source": [
    "### 3.10.4 Rate of Confusion Matrix"
   ]
  },
  {
   "cell_type": "markdown",
   "metadata": {},
   "source": [
    "### 3.10.5 Recall (查全率)，(Sensitivity Rate)"
   ]
  },
  {
   "cell_type": "code",
   "execution_count": 19,
   "metadata": {
    "scrolled": true
   },
   "outputs": [],
   "source": [
    "subtotal = [0] * 2  \n",
    "for item in y_test_concatenate_list:\n",
    "    subtotal[item] = subtotal[item] + 1"
   ]
  },
  {
   "cell_type": "markdown",
   "metadata": {},
   "source": [
    "#### predict number divided by y test"
   ]
  },
  {
   "cell_type": "code",
   "execution_count": 20,
   "metadata": {},
   "outputs": [],
   "source": [
    "cm_r = []\n",
    "for i in range(2):\n",
    "    cm_r.append(cm[i]/subtotal[i])"
   ]
  },
  {
   "cell_type": "code",
   "execution_count": 21,
   "metadata": {},
   "outputs": [
    {
     "data": {
      "text/html": [
       "<div>\n",
       "<style scoped>\n",
       "    .dataframe tbody tr th:only-of-type {\n",
       "        vertical-align: middle;\n",
       "    }\n",
       "\n",
       "    .dataframe tbody tr th {\n",
       "        vertical-align: top;\n",
       "    }\n",
       "\n",
       "    .dataframe thead th {\n",
       "        text-align: right;\n",
       "    }\n",
       "</style>\n",
       "<table border=\"1\" class=\"dataframe\">\n",
       "  <thead>\n",
       "    <tr style=\"text-align: right;\">\n",
       "      <th></th>\n",
       "      <th>chr_x</th>\n",
       "      <th>chr_x_q22_deletion</th>\n",
       "    </tr>\n",
       "  </thead>\n",
       "  <tbody>\n",
       "    <tr>\n",
       "      <th>chr_x</th>\n",
       "      <td>0.947090</td>\n",
       "      <td>0.052910</td>\n",
       "    </tr>\n",
       "    <tr>\n",
       "      <th>chr_x_q22_deletion</th>\n",
       "      <td>0.268293</td>\n",
       "      <td>0.731707</td>\n",
       "    </tr>\n",
       "  </tbody>\n",
       "</table>\n",
       "</div>"
      ],
      "text/plain": [
       "                       chr_x  chr_x_q22_deletion\n",
       "chr_x               0.947090            0.052910\n",
       "chr_x_q22_deletion  0.268293            0.731707"
      ]
     },
     "execution_count": 21,
     "metadata": {},
     "output_type": "execute_result"
    }
   ],
   "source": [
    "confusion_r = pd.DataFrame(cm_r, index=label_convert,\n",
    "                        columns=label_convert)\n",
    "confusion_r.to_csv('ConfusionMatrix_Recall_Integration_CNN.csv')\n",
    "confusion_r"
   ]
  },
  {
   "cell_type": "markdown",
   "metadata": {},
   "source": [
    "### 3.10.6 Precision (查准率）"
   ]
  },
  {
   "cell_type": "code",
   "execution_count": 22,
   "metadata": {},
   "outputs": [],
   "source": [
    "subtotal_predict = [0] * 2 \n",
    "for item in y_predict_filtered_concatenate_list:\n",
    "    subtotal_predict[item] = subtotal_predict[item] + 1"
   ]
  },
  {
   "cell_type": "markdown",
   "metadata": {},
   "source": [
    "#### predict number divided by y predicted"
   ]
  },
  {
   "cell_type": "code",
   "execution_count": 23,
   "metadata": {},
   "outputs": [],
   "source": [
    "cm_p = []\n",
    "for i in range(2):\n",
    "    cm_p.append(cm[:,i]/subtotal_predict[i])"
   ]
  },
  {
   "cell_type": "code",
   "execution_count": 24,
   "metadata": {},
   "outputs": [
    {
     "data": {
      "text/html": [
       "<div>\n",
       "<style scoped>\n",
       "    .dataframe tbody tr th:only-of-type {\n",
       "        vertical-align: middle;\n",
       "    }\n",
       "\n",
       "    .dataframe tbody tr th {\n",
       "        vertical-align: top;\n",
       "    }\n",
       "\n",
       "    .dataframe thead th {\n",
       "        text-align: right;\n",
       "    }\n",
       "</style>\n",
       "<table border=\"1\" class=\"dataframe\">\n",
       "  <thead>\n",
       "    <tr style=\"text-align: right;\">\n",
       "      <th></th>\n",
       "      <th>chr_x</th>\n",
       "      <th>chr_x_q22_deletion</th>\n",
       "    </tr>\n",
       "  </thead>\n",
       "  <tbody>\n",
       "    <tr>\n",
       "      <th>chr_x</th>\n",
       "      <td>0.942105</td>\n",
       "      <td>0.057895</td>\n",
       "    </tr>\n",
       "    <tr>\n",
       "      <th>chr_x_q22_deletion</th>\n",
       "      <td>0.250000</td>\n",
       "      <td>0.750000</td>\n",
       "    </tr>\n",
       "  </tbody>\n",
       "</table>\n",
       "</div>"
      ],
      "text/plain": [
       "                       chr_x  chr_x_q22_deletion\n",
       "chr_x               0.942105            0.057895\n",
       "chr_x_q22_deletion  0.250000            0.750000"
      ]
     },
     "execution_count": 24,
     "metadata": {},
     "output_type": "execute_result"
    }
   ],
   "source": [
    "confusion_p = pd.DataFrame(cm_p, index=label_convert,\n",
    "                        columns=label_convert)\n",
    "confusion_p.to_csv('ConfusionMatrix_Precision_Integration_CNN.csv')\n",
    "confusion_p"
   ]
  },
  {
   "cell_type": "markdown",
   "metadata": {},
   "source": [
    "#### Heat Map: Number"
   ]
  },
  {
   "cell_type": "code",
   "execution_count": 25,
   "metadata": {
    "scrolled": false
   },
   "outputs": [
    {
     "data": {
      "image/png": "[encoded data removed]",
      "text/plain": [
       "<Figure size 2160x1728 with 2 Axes>"
      ]
     },
     "metadata": {
      "needs_background": "light"
     },
     "output_type": "display_data"
    }
   ],
   "source": [
    "plt.figure(figsize=(30, 24))\n",
    "heat_map = sb.heatmap(confusion, annot=True,  # It's a Seaborn function\n",
    "                      cmap='coolwarm', \n",
    "                      xticklabels=confusion.columns, yticklabels=confusion.index, \n",
    "                      linewidths=.5, \n",
    "                      annot_kws={\"size\": 20})\n",
    "sb.set(font_scale = 2)"
   ]
  },
  {
   "cell_type": "markdown",
   "metadata": {},
   "source": [
    "#### Heat Map of Recall: Rate (important!!!)"
   ]
  },
  {
   "cell_type": "code",
   "execution_count": 26,
   "metadata": {
    "scrolled": false
   },
   "outputs": [
    {
     "data": {
      "image/png": "[encoded data removed]",
      "text/plain": [
       "<Figure size 2160x1728 with 2 Axes>"
      ]
     },
     "metadata": {},
     "output_type": "display_data"
    }
   ],
   "source": [
    "plt.figure(figsize=(30, 24))\n",
    "heat_map_r = sb.heatmap(confusion_r, annot=True,  # It's a Seaborn function\n",
    "                      cmap='coolwarm', \n",
    "                      xticklabels=confusion.columns, yticklabels=confusion.index, \n",
    "                      linewidths=1, \n",
    "                      annot_kws={\"size\": 18})\n",
    "sb.set(font_scale = 2)"
   ]
  },
  {
   "cell_type": "code",
   "execution_count": 27,
   "metadata": {},
   "outputs": [
    {
     "data": {
      "image/png": "[encoded data removed]",
      "text/plain": [
       "<Figure size 2160x1728 with 2 Axes>"
      ]
     },
     "metadata": {},
     "output_type": "display_data"
    }
   ],
   "source": [
    "plt.figure(figsize=(30, 24))\n",
    "heat_map_p = sb.heatmap(confusion_p, annot=True,  # It's a Seaborn function\n",
    "                      cmap='coolwarm', \n",
    "                      xticklabels=confusion.columns, yticklabels=confusion.index, \n",
    "                      linewidths=1, \n",
    "                      annot_kws={\"size\": 18})\n",
    "sb.set(font_scale = 2)"
   ]
  },
  {
   "cell_type": "code",
   "execution_count": 28,
   "metadata": {},
   "outputs": [],
   "source": [
    "fig = heat_map.get_figure()    \n",
    "fig.savefig('Heatmap_Combination.png', dpi=400)"
   ]
  },
  {
   "cell_type": "code",
   "execution_count": 29,
   "metadata": {},
   "outputs": [],
   "source": [
    "fig_r = heat_map_r.get_figure()    \n",
    "fig_r.savefig('Heatmap_Recall_Combination.png', dpi=400)"
   ]
  },
  {
   "cell_type": "code",
   "execution_count": 30,
   "metadata": {},
   "outputs": [],
   "source": [
    "fig_p = heat_map_p.get_figure()    \n",
    "fig_p.savefig('Heatmap_Precision_Combination.png', dpi=400)"
   ]
  },
  {
   "cell_type": "markdown",
   "metadata": {},
   "source": [
    "# ROC Curve"
   ]
  },
  {
   "cell_type": "code",
   "execution_count": 31,
   "metadata": {},
   "outputs": [
    {
     "data": {
      "text/plain": [
       "array([[1.00000000e+00, 1.92351097e-22],\n",
       "       [1.00000000e+00, 4.82619153e-13],\n",
       "       [1.00000000e+00, 4.37539098e-19],\n",
       "       [1.00000000e+00, 2.88744815e-19],\n",
       "       [1.00000000e+00, 3.01496187e-13],\n",
       "       [1.00000000e+00, 6.97414421e-18],\n",
       "       [1.00000000e+00, 7.20468437e-15],\n",
       "       [1.00000000e+00, 3.59608545e-12],\n",
       "       [1.00000000e+00, 2.92254582e-10],\n",
       "       [1.00000000e+00, 6.59043575e-09],\n",
       "       [9.99999881e-01, 3.37788144e-08],\n",
       "       [9.99999881e-01, 3.20551294e-07],\n",
       "       [1.00000000e+00, 5.13243961e-13],\n",
       "       [9.98856544e-01, 1.00296247e-03],\n",
       "       [9.84527767e-01, 9.08076670e-03],\n",
       "       [1.00000000e+00, 8.33167008e-11],\n",
       "       [9.99975562e-01, 1.86150864e-05],\n",
       "       [9.99999404e-01, 6.39616871e-07],\n",
       "       [9.97641444e-01, 3.43147549e-03],\n",
       "       [1.00000000e+00, 2.36179382e-10],\n",
       "       [1.00000000e+00, 5.11967042e-13],\n",
       "       [9.96489584e-01, 4.11593122e-03],\n",
       "       [1.00000000e+00, 1.19628840e-08],\n",
       "       [9.99886513e-01, 7.01646204e-05],\n",
       "       [9.90785480e-01, 6.67645689e-03],\n",
       "       [1.00000000e+00, 4.80833018e-09],\n",
       "       [1.00000000e+00, 1.94066610e-10],\n",
       "       [3.51849049e-02, 9.64279294e-01],\n",
       "       [9.97953057e-01, 2.11992674e-03],\n",
       "       [3.22803676e-01, 7.64312804e-01],\n",
       "       [4.11813118e-04, 9.99766052e-01],\n",
       "       [1.48940680e-03, 9.97782171e-01],\n",
       "       [5.30619442e-01, 4.80987251e-01],\n",
       "       [1.00000000e+00, 2.71174554e-12],\n",
       "       [1.00000000e+00, 7.05319096e-22],\n",
       "       [1.00000000e+00, 0.00000000e+00],\n",
       "       [1.00000000e+00, 1.69910521e-15],\n",
       "       [9.99983549e-01, 1.03940747e-05],\n",
       "       [1.00000000e+00, 2.65970694e-08],\n",
       "       [9.99999881e-01, 1.05023823e-07],\n",
       "       [1.00000000e+00, 2.24059972e-15],\n",
       "       [1.00000000e+00, 1.71097747e-09],\n",
       "       [9.99994397e-01, 1.04982191e-05],\n",
       "       [2.79626369e-01, 7.06261337e-01],\n",
       "       [9.99999881e-01, 3.25096892e-07],\n",
       "       [8.11207831e-01, 2.38013744e-01],\n",
       "       [9.99986768e-01, 7.91579660e-05],\n",
       "       [1.00000000e+00, 2.47700598e-16],\n",
       "       [1.00000000e+00, 6.51281092e-16],\n",
       "       [4.22373716e-07, 9.99998569e-01],\n",
       "       [1.00000000e+00, 1.48614099e-08],\n",
       "       [9.99999285e-01, 5.70098246e-06],\n",
       "       [1.00000000e+00, 1.21900726e-10],\n",
       "       [9.99813259e-01, 4.28304746e-04],\n",
       "       [9.95605886e-01, 7.36014126e-03],\n",
       "       [1.00000000e+00, 3.79787402e-09],\n",
       "       [9.99996066e-01, 1.16418196e-05],\n",
       "       [9.98768866e-01, 1.65708177e-03],\n",
       "       [8.61582458e-01, 1.81199044e-01],\n",
       "       [9.99424338e-01, 6.76255208e-04],\n",
       "       [2.19152030e-02, 9.79007244e-01],\n",
       "       [9.61000144e-01, 4.72751483e-02],\n",
       "       [1.10555999e-02, 9.86530960e-01],\n",
       "       [9.67222173e-03, 9.81420815e-01],\n",
       "       [6.32201927e-03, 9.91349459e-01],\n",
       "       [4.45198111e-06, 9.99994159e-01],\n",
       "       [1.00000000e+00, 6.74523992e-10],\n",
       "       [9.98021007e-01, 2.16759508e-03],\n",
       "       [1.00000000e+00, 3.59780624e-20],\n",
       "       [1.00000000e+00, 8.45986570e-09],\n",
       "       [9.99989748e-01, 9.46382352e-06],\n",
       "       [1.00000000e+00, 2.98266646e-18],\n",
       "       [9.99999762e-01, 1.12182832e-07],\n",
       "       [1.00000000e+00, 0.00000000e+00],\n",
       "       [1.88502930e-02, 9.52106655e-01],\n",
       "       [8.10170846e-08, 9.99999881e-01],\n",
       "       [6.55069470e-01, 3.42613399e-01],\n",
       "       [9.99983668e-01, 9.64044284e-06],\n",
       "       [9.98827755e-01, 9.08481481e-04],\n",
       "       [9.99950528e-01, 2.94528436e-05],\n",
       "       [9.99999404e-01, 3.32937759e-07],\n",
       "       [9.99998927e-01, 5.51853475e-07],\n",
       "       [9.99982953e-01, 1.69833656e-05],\n",
       "       [9.84240294e-01, 1.90310422e-02],\n",
       "       [1.00000000e+00, 9.35432798e-09],\n",
       "       [9.85117674e-01, 1.77500453e-02],\n",
       "       [9.99378800e-01, 7.77891371e-04],\n",
       "       [9.99999642e-01, 1.51927608e-07],\n",
       "       [1.00000000e+00, 3.15886552e-08],\n",
       "       [5.19093275e-01, 4.82472748e-01],\n",
       "       [9.99958992e-01, 2.83829322e-05],\n",
       "       [9.99998689e-01, 1.46761931e-06],\n",
       "       [9.99495387e-01, 4.62219235e-04],\n",
       "       [4.81053293e-02, 9.46574330e-01],\n",
       "       [4.52345341e-01, 5.83010316e-01],\n",
       "       [6.03663981e-01, 3.77315015e-01],\n",
       "       [4.66969702e-03, 9.94033158e-01],\n",
       "       [5.68521023e-02, 9.45845664e-01],\n",
       "       [7.14393780e-02, 9.31289196e-01],\n",
       "       [9.99999166e-01, 4.53613984e-06],\n",
       "       [1.00000000e+00, 2.19376753e-10],\n",
       "       [1.00000000e+00, 1.39406173e-12],\n",
       "       [1.00000000e+00, 8.86865248e-09],\n",
       "       [1.00000000e+00, 3.96566009e-11],\n",
       "       [1.00000000e+00, 6.68065325e-11],\n",
       "       [9.64761615e-01, 2.76409358e-01],\n",
       "       [1.00000000e+00, 4.22815605e-09],\n",
       "       [9.99999523e-01, 2.67236669e-06],\n",
       "       [1.00000000e+00, 4.26046039e-11],\n",
       "       [9.99869466e-01, 2.27420562e-04],\n",
       "       [1.00000000e+00, 8.92298644e-08],\n",
       "       [1.00000000e+00, 4.71057575e-08],\n",
       "       [9.99992609e-01, 2.85773986e-05],\n",
       "       [9.99937057e-01, 1.59594623e-04],\n",
       "       [8.25883687e-01, 5.50109208e-01],\n",
       "       [9.99992132e-01, 2.63944403e-05],\n",
       "       [9.81620431e-01, 1.32370800e-01],\n",
       "       [9.99910951e-01, 3.70469235e-04],\n",
       "       [1.00000000e+00, 5.31371640e-08],\n",
       "       [9.99862075e-01, 7.84886593e-04],\n",
       "       [9.99998569e-01, 3.76629782e-06],\n",
       "       [1.00000000e+00, 7.27781654e-11],\n",
       "       [9.99998689e-01, 4.36148594e-06],\n",
       "       [1.00000000e+00, 8.39694308e-13],\n",
       "       [1.00000000e+00, 1.56107035e-07],\n",
       "       [9.99999881e-01, 2.58522846e-07],\n",
       "       [4.37922962e-03, 9.99117672e-01],\n",
       "       [1.62509959e-02, 9.98984158e-01],\n",
       "       [9.99862075e-01, 7.84886593e-04],\n",
       "       [2.65565459e-02, 9.98542309e-01],\n",
       "       [7.24203303e-04, 9.99938250e-01],\n",
       "       [3.91115854e-03, 9.99687910e-01],\n",
       "       [1.00000000e+00, 3.58562511e-28],\n",
       "       [1.00000000e+00, 3.18316231e-15],\n",
       "       [9.99997497e-01, 1.79433570e-07],\n",
       "       [1.00000000e+00, 0.00000000e+00],\n",
       "       [4.28041117e-03, 8.68857384e-01],\n",
       "       [1.00000000e+00, 1.49028399e-17],\n",
       "       [9.99998927e-01, 2.10452995e-07],\n",
       "       [1.00000000e+00, 5.69237777e-15],\n",
       "       [2.46040866e-01, 3.73622745e-01],\n",
       "       [9.99988675e-01, 5.42891200e-07],\n",
       "       [9.92082834e-01, 3.79786221e-03],\n",
       "       [1.00000000e+00, 1.54200541e-09],\n",
       "       [9.99998569e-01, 2.34687931e-07],\n",
       "       [9.99288678e-01, 5.09377742e-06],\n",
       "       [1.00000000e+00, 1.74956785e-10],\n",
       "       [1.00000000e+00, 8.79848278e-12],\n",
       "       [9.98481572e-01, 1.07478103e-04],\n",
       "       [1.00000000e+00, 4.84388842e-13],\n",
       "       [6.65113270e-01, 2.00861782e-01],\n",
       "       [9.99999762e-01, 2.06825099e-08],\n",
       "       [1.00000000e+00, 1.46746300e-27],\n",
       "       [1.00000000e+00, 7.80039892e-14],\n",
       "       [1.00000000e+00, 2.12665063e-09],\n",
       "       [9.99999881e-01, 7.88404808e-09],\n",
       "       [1.00000000e+00, 1.51592860e-09],\n",
       "       [1.00000000e+00, 3.83996376e-11],\n",
       "       [9.99999881e-01, 1.05076285e-08],\n",
       "       [1.09176844e-01, 7.81650305e-01],\n",
       "       [9.99996662e-01, 2.82730156e-07],\n",
       "       [8.18215489e-01, 6.97398260e-02],\n",
       "       [1.00000000e+00, 7.33832889e-14],\n",
       "       [1.16425973e-07, 9.99998331e-01],\n",
       "       [9.86441851e-01, 7.74489090e-05],\n",
       "       [1.00000000e+00, 0.00000000e+00],\n",
       "       [1.00000000e+00, 0.00000000e+00],\n",
       "       [1.00000000e+00, 1.71883146e-12],\n",
       "       [1.00000000e+00, 0.00000000e+00],\n",
       "       [9.90945339e-01, 2.60692067e-03],\n",
       "       [1.00000000e+00, 1.23575317e-24],\n",
       "       [1.00000000e+00, 8.20640403e-24],\n",
       "       [1.00000000e+00, 2.72872460e-14],\n",
       "       [9.97583866e-01, 5.49478864e-04],\n",
       "       [1.00000000e+00, 0.00000000e+00],\n",
       "       [2.81314552e-01, 7.61523366e-01],\n",
       "       [1.00000000e+00, 4.51284119e-16],\n",
       "       [9.82402265e-01, 1.01880534e-02],\n",
       "       [1.00000000e+00, 0.00000000e+00],\n",
       "       [9.99395728e-01, 4.15505492e-05],\n",
       "       [1.00000000e+00, 1.03474407e-09],\n",
       "       [9.79063332e-01, 3.93076017e-02],\n",
       "       [1.00000000e+00, 2.09668369e-14],\n",
       "       [1.00000000e+00, 2.26533117e-14],\n",
       "       [1.00000000e+00, 5.14540285e-11],\n",
       "       [3.17793101e-01, 6.23987257e-01],\n",
       "       [9.99999523e-01, 1.14516709e-07],\n",
       "       [6.07586801e-01, 4.32162523e-01],\n",
       "       [1.00000000e+00, 2.16355250e-11],\n",
       "       [9.99818385e-01, 8.82252280e-05],\n",
       "       [9.99995232e-01, 8.81718677e-07],\n",
       "       [9.99649763e-01, 2.04881435e-04],\n",
       "       [2.03213538e-04, 9.99973297e-01],\n",
       "       [1.89026911e-02, 9.91364002e-01],\n",
       "       [5.11497352e-03, 9.98425007e-01],\n",
       "       [9.99543369e-01, 2.41756381e-04],\n",
       "       [3.66686919e-07, 1.00000000e+00],\n",
       "       [3.79766249e-07, 1.00000000e+00],\n",
       "       [9.99999642e-01, 2.48113992e-07],\n",
       "       [9.99859929e-01, 1.37277002e-05],\n",
       "       [9.99979019e-01, 2.23853222e-05],\n",
       "       [1.00000000e+00, 8.27719185e-20],\n",
       "       [1.00000000e+00, 1.29198582e-10],\n",
       "       [1.00000000e+00, 1.29874432e-12],\n",
       "       [1.00000000e+00, 6.32037787e-18],\n",
       "       [1.00000000e+00, 8.75075901e-10],\n",
       "       [1.00000000e+00, 6.87986777e-13],\n",
       "       [1.00000000e+00, 7.85342396e-18],\n",
       "       [1.00000000e+00, 4.78523905e-16],\n",
       "       [9.96277869e-01, 5.64373331e-03],\n",
       "       [9.99998331e-01, 4.62151957e-06],\n",
       "       [1.00000000e+00, 4.36895941e-16],\n",
       "       [2.36871690e-01, 6.58722758e-01],\n",
       "       [1.00000000e+00, 1.50235019e-10],\n",
       "       [9.99985456e-01, 1.96936689e-05],\n",
       "       [9.99730170e-01, 9.42688785e-05],\n",
       "       [9.99999523e-01, 9.89472113e-08],\n",
       "       [4.48992372e-01, 3.47678304e-01],\n",
       "       [1.00000000e+00, 1.53633939e-09],\n",
       "       [9.99807775e-01, 1.99808739e-04],\n",
       "       [9.99301314e-01, 6.14980177e-04],\n",
       "       [1.00000000e+00, 4.17856363e-08],\n",
       "       [3.95351127e-02, 9.52767253e-01],\n",
       "       [1.00000000e+00, 6.20499155e-18],\n",
       "       [7.33632386e-01, 2.19620198e-01],\n",
       "       [8.87014985e-01, 7.52567425e-02],\n",
       "       [2.12271046e-03, 9.96254444e-01],\n",
       "       [3.12185221e-05, 9.99917507e-01],\n",
       "       [1.12229638e-01, 7.40892947e-01],\n",
       "       [9.93089543e-07, 9.99996543e-01]], dtype=float32)"
      ]
     },
     "execution_count": 31,
     "metadata": {},
     "output_type": "execute_result"
    }
   ],
   "source": [
    "y_predict_concatenate_array = np.array(y_predict_concatenate_list)\n",
    "y_predict_concatenate_array"
   ]
  },
  {
   "cell_type": "code",
   "execution_count": 32,
   "metadata": {},
   "outputs": [
    {
     "data": {
      "text/plain": [
       "(230, 2)"
      ]
     },
     "execution_count": 32,
     "metadata": {},
     "output_type": "execute_result"
    }
   ],
   "source": [
    "y_predict_concatenate_array.shape"
   ]
  },
  {
   "cell_type": "code",
   "execution_count": 33,
   "metadata": {},
   "outputs": [],
   "source": [
    "y_predict_1D = y_predict_concatenate_array[:,0]"
   ]
  },
  {
   "cell_type": "code",
   "execution_count": 34,
   "metadata": {},
   "outputs": [],
   "source": [
    "y_predict_1D_processed = 1- y_predict_1D"
   ]
  },
  {
   "cell_type": "code",
   "execution_count": 35,
   "metadata": {},
   "outputs": [],
   "source": [
    "fpr , tpr , thresholds = roc_curve(y_test_concatenate_list , y_predict_1D_processed)\n",
    "auc_rf = auc(fpr, tpr)"
   ]
  },
  {
   "cell_type": "code",
   "execution_count": 36,
   "metadata": {},
   "outputs": [
    {
     "data": {
      "text/plain": [
       "0.9283778552071236"
      ]
     },
     "execution_count": 36,
     "metadata": {},
     "output_type": "execute_result"
    }
   ],
   "source": [
    "auc_rf"
   ]
  },
  {
   "cell_type": "code",
   "execution_count": 37,
   "metadata": {},
   "outputs": [],
   "source": [
    "x = y = np.arange(0, 1.1, 0.1)"
   ]
  },
  {
   "cell_type": "code",
   "execution_count": 38,
   "metadata": {},
   "outputs": [
    {
     "data": {
      "text/plain": [
       "array([0. , 0.1, 0.2, 0.3, 0.4, 0.5, 0.6, 0.7, 0.8, 0.9, 1. ])"
      ]
     },
     "execution_count": 38,
     "metadata": {},
     "output_type": "execute_result"
    }
   ],
   "source": [
    "x"
   ]
  },
  {
   "cell_type": "code",
   "execution_count": 39,
   "metadata": {
    "scrolled": true
   },
   "outputs": [
    {
     "data": {
      "image/png": "[encoded data removed]",
      "text/plain": [
       "<Figure size 432x288 with 1 Axes>"
      ]
     },
     "metadata": {},
     "output_type": "display_data"
    }
   ],
   "source": [
    "fig = plt.figure()\n",
    "plt.style.use('classic')\n",
    "\n",
    "ax = fig.add_subplot(111)\n",
    "\n",
    "plt.plot(fpr, tpr, color='blue', linewidth=0.9)\n",
    "\n",
    "plt.plot(x, y, '--', color='black', linewidth=0.8)\n",
    "\n",
    "plt.title('ROC curve of Chr X q22 CNV', fontsize=12, fontname = 'Times New Roman')\n",
    "plt.xlabel('False Positive Rate', fontsize=11, fontname = 'Times New Roman')\n",
    "\n",
    "plt.ylabel('True positive Rate', fontsize=11, fontname = 'Times New Roman')\n",
    "\n",
    "ax.set_aspect('equal', adjustable='box')\n",
    "\n",
    "plt.xlim(-0.08, 1.1)\n",
    "plt.ylim(-0.08, 1.1)\n",
    "\n",
    "plt.xticks(fontsize=9, fontname = 'Arial')\n",
    "plt.yticks(fontsize=9, fontname = 'Arial')\n",
    "\n",
    "plt.savefig('ROC_Curve_Combination.png', dpi=400)\n",
    "plt.show()"
   ]
  },
  {
   "cell_type": "markdown",
   "metadata": {},
   "source": [
    "#### 3.10.4.1 AUC Value"
   ]
  },
  {
   "cell_type": "code",
   "execution_count": 40,
   "metadata": {},
   "outputs": [],
   "source": [
    "auc_value = auc(fpr, tpr)"
   ]
  },
  {
   "cell_type": "code",
   "execution_count": 41,
   "metadata": {},
   "outputs": [
    {
     "name": "stdout",
     "output_type": "stream",
     "text": [
      "AUC is  0.9283778552071236\n"
     ]
    }
   ],
   "source": [
    "print('AUC is ', auc_value)"
   ]
  },
  {
   "cell_type": "markdown",
   "metadata": {},
   "source": [
    "# Results"
   ]
  },
  {
   "cell_type": "code",
   "execution_count": 42,
   "metadata": {},
   "outputs": [
    {
     "name": "stdout",
     "output_type": "stream",
     "text": [
      "Test Accuracy: 0.909\n"
     ]
    }
   ],
   "source": [
    "print('Test Accuracy: %.3f' % acc)"
   ]
  },
  {
   "cell_type": "code",
   "execution_count": 43,
   "metadata": {
    "scrolled": true
   },
   "outputs": [
    {
     "name": "stdout",
     "output_type": "stream",
     "text": [
      "                    precision    recall  f1-score   support\n",
      "\n",
      "             chr_x       0.94      0.95      0.94       189\n",
      "chr_x_q22_deletion       0.75      0.73      0.74        41\n",
      "\n",
      "         micro avg       0.91      0.91      0.91       230\n",
      "         macro avg       0.85      0.84      0.84       230\n",
      "      weighted avg       0.91      0.91      0.91       230\n",
      "\n"
     ]
    }
   ],
   "source": [
    "print(performanceReport)"
   ]
  },
  {
   "cell_type": "code",
   "execution_count": 44,
   "metadata": {},
   "outputs": [
    {
     "data": {
      "text/plain": [
       "str"
      ]
     },
     "execution_count": 44,
     "metadata": {},
     "output_type": "execute_result"
    }
   ],
   "source": [
    "type(performanceReport)"
   ]
  },
  {
   "cell_type": "code",
   "execution_count": 45,
   "metadata": {},
   "outputs": [
    {
     "name": "stdout",
     "output_type": "stream",
     "text": [
      "AUC is  0.9283778552071236\n"
     ]
    }
   ],
   "source": [
    "print('AUC is ', auc_value)"
   ]
  },
  {
   "cell_type": "markdown",
   "metadata": {},
   "source": [
    "## Export to a text file"
   ]
  },
  {
   "cell_type": "code",
   "execution_count": 46,
   "metadata": {},
   "outputs": [],
   "source": [
    "file_report = open('ResultsCombination.txt', 'w')\n",
    "file_report.write('Accuracy: %s\\n\\n' % acc)\n",
    "file_report.write('AUC: %s.\\n\\n' % auc_value)\n",
    "file_report.write('Performance Report: \\n%s\\n\\n' % performanceReport)\n",
    "file_report.write('Confusion Matrix: \\n%s.\\n\\n' % confusion)\n",
    "file_report.write('Recall of Confusion Matrix: \\n%s.\\n\\n' % confusion_r)\n",
    "file_report.write('Precision of Confusion Matrix: \\n%s.\\n\\n' % confusion_p)\n",
    "file_report.close()"
   ]
  }
 ],
 "metadata": {
  "kernelspec": {
   "display_name": "Python 3",
   "language": "python",
   "name": "python3"
  },
  "language_info": {
   "codemirror_mode": {
    "name": "ipython",
    "version": 3
   },
   "file_extension": ".py",
   "mimetype": "text/x-python",
   "name": "python",
   "nbconvert_exporter": "python",
   "pygments_lexer": "ipython3",
   "version": "3.7.3"
  }
 },
 "nbformat": 4,
 "nbformat_minor": 2
}
