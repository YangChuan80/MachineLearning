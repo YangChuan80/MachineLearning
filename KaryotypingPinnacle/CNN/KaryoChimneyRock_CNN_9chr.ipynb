{
 "cells": [
  {
   "cell_type": "markdown",
   "metadata": {
    "colab_type": "text",
    "id": "slIdjqTJhM8B"
   },
   "source": [
    "# A Semi-automatic Classification of Normal Karyotypes using Convolutional Neural Network Algorithm"
   ]
  },
  {
   "cell_type": "markdown",
   "metadata": {
    "colab_type": "text",
    "id": "aBT9lgVVhM8D"
   },
   "source": [
    "- **Chuan Yang**, MD, PhD Student\n",
    "- Mentor: **Yanyan Zhao**, MD, PhD\n",
    "- Shengjing Hospital of China Medical University"
   ]
  },
  {
   "cell_type": "markdown",
   "metadata": {
    "colab_type": "text",
    "id": "xrnbxOZChM8E"
   },
   "source": [
    "## Modules"
   ]
  },
  {
   "cell_type": "code",
   "execution_count": 1,
   "metadata": {
    "colab": {},
    "colab_type": "code",
    "id": "aKjA8v4hhM8E"
   },
   "outputs": [],
   "source": [
    "from PIL import Image\n",
    "import numpy as np\n",
    "import pandas as pd\n",
    "import matplotlib.pyplot as plt\n",
    "\n",
    "import seaborn as sb\n",
    "\n",
    "from sklearn.metrics import classification_report, confusion_matrix\n",
    "\n",
    "from tensorflow.keras import Sequential\n",
    "from tensorflow.keras.layers import Dense, Conv2D, MaxPooling2D, Flatten\n",
    "from tensorflow import keras\n",
    "\n",
    "from os import walk\n",
    "\n",
    "import time\n",
    "import datetime\n",
    "\n",
    "%matplotlib inline"
   ]
  },
  {
   "cell_type": "markdown",
   "metadata": {
    "colab_type": "text",
    "id": "2KFSsnYohM8H"
   },
   "source": [
    "## Samples\n"
   ]
  },
  {
   "cell_type": "markdown",
   "metadata": {},
   "source": [
    "## Chormosome Label Convert by using Dictionary"
   ]
  },
  {
   "cell_type": "code",
   "execution_count": 2,
   "metadata": {},
   "outputs": [],
   "source": [
    "chromConvert = {'chr_01': 1, \n",
    "               'chr_02': 2, \n",
    "               'chr_03': 3, \n",
    "               'chr_04': 4, \n",
    "               'chr_05': 5, \n",
    "               'chr_06': 6, \n",
    "               'chr_07': 7, \n",
    "               'chr_08': 8, \n",
    "               'chr_09': 9, \n",
    "               'chr_10': 10, \n",
    "               'chr_11': 11, \n",
    "               'chr_12': 12, \n",
    "               'chr_13': 13, \n",
    "               'chr_14': 14, \n",
    "               'chr_15': 15, \n",
    "               'chr_16': 16, \n",
    "               'chr_17': 17, \n",
    "               'chr_18': 18, \n",
    "               'chr_19': 19, \n",
    "               'chr_20': 20, \n",
    "               'chr_21': 21, \n",
    "               'chr_22': 22, \n",
    "               'chr_x': 0, \n",
    "               'chr_y': 23, \n",
    "                'chr_18_p11_deletion': 24,\n",
    "                'chr_18_q10_isochromosome': 25,\n",
    "                'chr_9_inversion': 26,\n",
    "                'chr_5_p14_deletion': 27,\n",
    "                'chr_x_isochromosome': 28,\n",
    "                'chr_x_p22_cnv': 29, \n",
    "                'chr_x_q21_cnv': 30,\n",
    "                'chr_x_q22_deletion': 31\n",
    "               }"
   ]
  },
  {
   "cell_type": "markdown",
   "metadata": {},
   "source": [
    "## File Import"
   ]
  },
  {
   "cell_type": "code",
   "execution_count": 3,
   "metadata": {
    "colab": {},
    "colab_type": "code",
    "id": "8YcabYh2hM8I"
   },
   "outputs": [],
   "source": [
    "#pathBase = 'C:\\\\Users\\\\Chuan\\\\OneDrive\\\\Dowrun\\\\Database\\\\PhD\\\\KaryoTypes\\\\Arrangement\\\\'\n",
    "pathBase = 'I:\\\\Chuan\\\\Documents\\\\MyData\\\\PhD\\\\Karyotype\\\\Arrangement\\\\'\n",
    "#pathBase = 'D:\\\\Users\\\\Chuan\\\\Documents\\\\Database\\\\Karyotypes\\\\Arrangement\\\\'\n",
    "\n",
    "theWhole = {}\n",
    "\n",
    "\n",
    "f = []\n",
    "f_09 = []\n",
    "mypath_09 = pathBase + 'chr_09'\n",
    "for (dirpath, dirnames, filenames) in walk(mypath_09):\n",
    "    f.extend(filenames)\n",
    "for l in f:\n",
    "    f_09.append(mypath_09 + '\\\\' + l)    \n",
    "    \n",
    "  \n",
    "# ///////// Abnormal ones //////////////\n",
    "\n",
    "f = []\n",
    "f_9_inversion = []\n",
    "mypath_9_inversion = pathBase + 'chr_9_inversion'\n",
    "for (dirpath, dirnames, filenames) in walk(mypath_9_inversion):\n",
    "    f.extend(filenames)\n",
    "for l in f:\n",
    "    f_9_inversion.append(mypath_9_inversion + '\\\\' + l)  \n",
    "\n",
    "theWhole['chr_09'] = f_09\n",
    "\n",
    "theWhole['chr_9_inversion'] = f_9_inversion"
   ]
  },
  {
   "cell_type": "code",
   "execution_count": 4,
   "metadata": {
    "colab": {},
    "colab_type": "code",
    "id": "6d8Ej2MShM8K",
    "outputId": "da32c938-49bb-4cec-9ded-708887ff9d05",
    "scrolled": false
   },
   "outputs": [
    {
     "data": {
      "text/plain": [
       "['I:\\\\Chuan\\\\Documents\\\\MyData\\\\PhD\\\\Karyotype\\\\Arrangement\\\\chr_9_inversion\\\\W27694-1.jpg.9inv.bmp',\n",
       " 'I:\\\\Chuan\\\\Documents\\\\MyData\\\\PhD\\\\Karyotype\\\\Arrangement\\\\chr_9_inversion\\\\W27694-10.jpg.9inv.bmp',\n",
       " 'I:\\\\Chuan\\\\Documents\\\\MyData\\\\PhD\\\\Karyotype\\\\Arrangement\\\\chr_9_inversion\\\\W27694-11.jpg.9inv.bmp',\n",
       " 'I:\\\\Chuan\\\\Documents\\\\MyData\\\\PhD\\\\Karyotype\\\\Arrangement\\\\chr_9_inversion\\\\W27694-12.jpg.9inv.bmp',\n",
       " 'I:\\\\Chuan\\\\Documents\\\\MyData\\\\PhD\\\\Karyotype\\\\Arrangement\\\\chr_9_inversion\\\\W27694-2_.jpg.9invs.bmp',\n",
       " 'I:\\\\Chuan\\\\Documents\\\\MyData\\\\PhD\\\\Karyotype\\\\Arrangement\\\\chr_9_inversion\\\\W27694-3.jpg.9inv.bmp',\n",
       " 'I:\\\\Chuan\\\\Documents\\\\MyData\\\\PhD\\\\Karyotype\\\\Arrangement\\\\chr_9_inversion\\\\W27694-4.jpg.9inv.bmp',\n",
       " 'I:\\\\Chuan\\\\Documents\\\\MyData\\\\PhD\\\\Karyotype\\\\Arrangement\\\\chr_9_inversion\\\\W27694-5.jpg.9inv.bmp',\n",
       " 'I:\\\\Chuan\\\\Documents\\\\MyData\\\\PhD\\\\Karyotype\\\\Arrangement\\\\chr_9_inversion\\\\W27694-6.jpg.9inv.bmp',\n",
       " 'I:\\\\Chuan\\\\Documents\\\\MyData\\\\PhD\\\\Karyotype\\\\Arrangement\\\\chr_9_inversion\\\\W27694-7.jpg.9inv.bmp',\n",
       " 'I:\\\\Chuan\\\\Documents\\\\MyData\\\\PhD\\\\Karyotype\\\\Arrangement\\\\chr_9_inversion\\\\W27694-8.jpg.9inv.bmp',\n",
       " 'I:\\\\Chuan\\\\Documents\\\\MyData\\\\PhD\\\\Karyotype\\\\Arrangement\\\\chr_9_inversion\\\\W27694-9.jpg.9inv.bmp']"
      ]
     },
     "execution_count": 4,
     "metadata": {},
     "output_type": "execute_result"
    }
   ],
   "source": [
    "theWhole['chr_9_inversion']"
   ]
  },
  {
   "cell_type": "markdown",
   "metadata": {
    "colab_type": "text",
    "id": "cKiAborxhM8N"
   },
   "source": [
    "## Image Input"
   ]
  },
  {
   "cell_type": "code",
   "execution_count": 5,
   "metadata": {
    "colab": {},
    "colab_type": "code",
    "id": "h88BOm8UhM8N",
    "outputId": "4f89df64-4a3c-43f0-a34e-00d88a3d8d16",
    "scrolled": false
   },
   "outputs": [
    {
     "name": "stdout",
     "output_type": "stream",
     "text": [
      "0.12737298011779785\n"
     ]
    }
   ],
   "source": [
    "start = time.time()\n",
    "\n",
    "image = {}\n",
    "i = 0\n",
    "\n",
    "for chrNo in theWhole.keys():\n",
    "    image[chrNo] = []\n",
    "    for case in theWhole[chrNo]:\n",
    "        img = Image.open(case)\n",
    "        image[chrNo].append(img)\n",
    "    \n",
    "end = time.time()\n",
    "print(end - start)"
   ]
  },
  {
   "cell_type": "code",
   "execution_count": 6,
   "metadata": {
    "colab": {},
    "colab_type": "code",
    "id": "u7iYn89ShM8Q",
    "outputId": "95b42047-da5a-4f15-df45-dd89f5d37a72",
    "scrolled": true
   },
   "outputs": [
    {
     "data": {
      "image/png": "[encoded data removed]",
      "text/plain": [
       "<PIL.BmpImagePlugin.BmpImageFile image mode=RGB size=300x300 at 0x171F53806D8>"
      ]
     },
     "execution_count": 6,
     "metadata": {},
     "output_type": "execute_result"
    }
   ],
   "source": [
    "image['chr_9_inversion'][1]"
   ]
  },
  {
   "cell_type": "markdown",
   "metadata": {
    "colab_type": "text",
    "id": "LMxjgFtHhM8S"
   },
   "source": [
    "## Functions"
   ]
  },
  {
   "cell_type": "code",
   "execution_count": 7,
   "metadata": {
    "colab": {},
    "colab_type": "code",
    "id": "EXeUvXLqhM8T"
   },
   "outputs": [],
   "source": [
    "def extractData(image):\n",
    "    x = image.size[0]\n",
    "    y = image.size[1]\n",
    "    \n",
    "    matrix = []\n",
    "    rgb_matrix = []\n",
    "\n",
    "    for i in range(x):\n",
    "        matrix.append([])\n",
    "        rgb_matrix.append([])\n",
    "        \n",
    "        for j in range(y):\n",
    "            r, g, b = image.getpixel((j, i))            \n",
    "            value = r * 299.0/1000 + g * 587.0/1000 + b * 114.0/1000\n",
    "            value = int(value)\n",
    "            matrix[i].append(value)\n",
    "            rgb_matrix[i].append((r,g,b))\n",
    "    return matrix, rgb_matrix"
   ]
  },
  {
   "cell_type": "code",
   "execution_count": 8,
   "metadata": {
    "colab": {},
    "colab_type": "code",
    "id": "PFXaHegmhM8V"
   },
   "outputs": [],
   "source": [
    "def imageReconstruct(matrix):\n",
    "    df = np.array(matrix, dtype=np.uint8)\n",
    "    img = Image.fromarray(df, 'RGB')\n",
    "    img.save('image.png')\n",
    "    return img"
   ]
  },
  {
   "cell_type": "markdown",
   "metadata": {
    "colab_type": "text",
    "id": "rW4l1hHBhM8X"
   },
   "source": [
    "## Data Extraction from Images"
   ]
  },
  {
   "cell_type": "code",
   "execution_count": 9,
   "metadata": {
    "colab": {},
    "colab_type": "code",
    "id": "9dHTmTyihM8Y",
    "outputId": "8868d731-9e6d-4f0a-bf56-39b488bbb765"
   },
   "outputs": [
    {
     "name": "stdout",
     "output_type": "stream",
     "text": [
      "14.459371328353882\n"
     ]
    }
   ],
   "source": [
    "start = time.time()\n",
    "\n",
    "data = {}\n",
    "#rgb_data = {}\n",
    "\n",
    "for chrNo in image.keys():\n",
    "    data[chrNo] = []; \n",
    "    #rgb_data[chrNo] = []\n",
    "    for case in image[chrNo]:\n",
    "        grey, rgb = extractData(case)\n",
    "        data[chrNo].append(grey)\n",
    "        #rgb_data[chrNo].append(rgb)\n",
    "        \n",
    "end = time.time()\n",
    "print(end - start)"
   ]
  },
  {
   "cell_type": "code",
   "execution_count": 10,
   "metadata": {
    "colab": {},
    "colab_type": "code",
    "id": "vjwPnXT9hM8a"
   },
   "outputs": [],
   "source": [
    "imageMatrix = np.array(data['chr_9_inversion'][1])"
   ]
  },
  {
   "cell_type": "code",
   "execution_count": 11,
   "metadata": {
    "colab": {},
    "colab_type": "code",
    "id": "1muxYWbyhM8e"
   },
   "outputs": [],
   "source": [
    "array = {}\n",
    "\n",
    "for chrNo in data.keys():\n",
    "    array[chrNo] = []\n",
    "    for case in data[chrNo]:            \n",
    "        array[chrNo].append(case)\n",
    "\n",
    "x_train_list = []\n",
    "y_train_list = []\n",
    "\n",
    "for y, x in array.items():    \n",
    "    for x_item in x:\n",
    "        x_train_list.append(x_item)\n",
    "        y_train_list.append(y)"
   ]
  },
  {
   "cell_type": "code",
   "execution_count": 12,
   "metadata": {
    "colab": {},
    "colab_type": "code",
    "id": "5wgG3agthM8i"
   },
   "outputs": [
    {
     "data": {
      "text/plain": [
       "300"
      ]
     },
     "execution_count": 12,
     "metadata": {},
     "output_type": "execute_result"
    }
   ],
   "source": [
    "len(x_train_list[1])"
   ]
  },
  {
   "cell_type": "code",
   "execution_count": 13,
   "metadata": {},
   "outputs": [
    {
     "data": {
      "text/plain": [
       "109"
      ]
     },
     "execution_count": 13,
     "metadata": {},
     "output_type": "execute_result"
    }
   ],
   "source": [
    "len(y_train_list)"
   ]
  },
  {
   "cell_type": "markdown",
   "metadata": {
    "colab_type": "text",
    "id": "dFpbXmQ6hM8j"
   },
   "source": [
    "### Validation Dataset"
   ]
  },
  {
   "cell_type": "code",
   "execution_count": 14,
   "metadata": {
    "colab": {},
    "colab_type": "code",
    "id": "Js0BRFerhM8k"
   },
   "outputs": [],
   "source": [
    "#pathBase = 'C:\\\\Users\\\\Chuan\\\\OneDrive\\\\Dowrun\\\\Database\\\\PhD\\\\KaryoTypes\\\\Arrangement\\\\test\\\\'\n",
    "pathBase = 'I:\\\\Chuan\\\\Documents\\\\MyData\\\\PhD\\\\Karyotype\\\\Arrangement\\\\test\\\\'\n",
    "#pathBase = 'D:\\\\Users\\\\Chuan\\\\Documents\\\\Database\\\\Karyotypes\\\\Arrangement\\\\test\\\\'\n",
    "\n",
    "theWhole = {}\n",
    "\n",
    "f = []\n",
    "f_09 = []\n",
    "mypath_09 = pathBase + 'chr_09'\n",
    "for (dirpath, dirnames, filenames) in walk(mypath_09):\n",
    "    f.extend(filenames)\n",
    "for l in f:\n",
    "    f_09.append(mypath_09 + '\\\\' + l)    \n",
    "    \n",
    "  \n",
    "# ///////// Abnormal ones //////////////\n",
    "\n",
    "f = []\n",
    "f_9_inversion = []\n",
    "mypath_9_inversion = pathBase + 'chr_9_inversion'\n",
    "for (dirpath, dirnames, filenames) in walk(mypath_9_inversion):\n",
    "    f.extend(filenames)\n",
    "for l in f:\n",
    "    f_9_inversion.append(mypath_9_inversion + '\\\\' + l)  \n",
    "\n",
    "theWhole['chr_09'] = f_09\n",
    "\n",
    "theWhole['chr_9_inversion'] = f_9_inversion"
   ]
  },
  {
   "cell_type": "code",
   "execution_count": 15,
   "metadata": {
    "colab": {},
    "colab_type": "code",
    "id": "NfFLITEfhM8n",
    "outputId": "f2767cf1-5d98-45a9-8a88-3d3d1afbed6c"
   },
   "outputs": [],
   "source": [
    "image = {}\n",
    "i = 0\n",
    "\n",
    "for chrNo in theWhole.keys():\n",
    "    image[chrNo] = []\n",
    "    for case in theWhole[chrNo]:\n",
    "        img = Image.open(case)\n",
    "        image[chrNo].append(img)    "
   ]
  },
  {
   "cell_type": "markdown",
   "metadata": {
    "colab_type": "text",
    "id": "3XDMPsD9hM8p"
   },
   "source": [
    "### Data Extraction"
   ]
  },
  {
   "cell_type": "code",
   "execution_count": 16,
   "metadata": {
    "colab": {},
    "colab_type": "code",
    "id": "Gb06RhsmhM8p",
    "outputId": "5e1c3d39-1202-4ebb-ab81-0290b816226f"
   },
   "outputs": [],
   "source": [
    "data = {}\n",
    "#rgb_data = {}\n",
    "\n",
    "for chrNo in image.keys():\n",
    "    data[chrNo] = []; \n",
    "    #rgb_data[chrNo] = []\n",
    "    for case in image[chrNo]:\n",
    "        grey, rgb = extractData(case)\n",
    "        data[chrNo].append(grey)\n",
    "        #rgb_data[chrNo].append(rgb)"
   ]
  },
  {
   "cell_type": "code",
   "execution_count": 17,
   "metadata": {
    "colab": {},
    "colab_type": "code",
    "id": "FeStRxHbhM8s"
   },
   "outputs": [],
   "source": [
    "array = {}\n",
    "\n",
    "for chrNo in data.keys():\n",
    "    array[chrNo] = []\n",
    "    for case in data[chrNo]:            \n",
    "        array[chrNo].append(case)\n",
    "\n",
    "x_test_list = []\n",
    "y_test_list = []\n",
    "\n",
    "for y, x in array.items():    \n",
    "    for x_item in x:\n",
    "        x_test_list.append(x_item)\n",
    "        y_test_list.append(y)"
   ]
  },
  {
   "cell_type": "markdown",
   "metadata": {},
   "source": [
    "## ChromConvert"
   ]
  },
  {
   "cell_type": "code",
   "execution_count": 18,
   "metadata": {},
   "outputs": [],
   "source": [
    "y_train_digital_list = []\n",
    "for item in y_train_list:\n",
    "    y_train_digital_list.append(chromConvert[item])\n",
    "    \n",
    "y_test_digital_list = []\n",
    "for item in y_test_list:\n",
    "    y_test_digital_list.append(chromConvert[item])"
   ]
  },
  {
   "cell_type": "markdown",
   "metadata": {},
   "source": [
    "## Numpy Array"
   ]
  },
  {
   "cell_type": "code",
   "execution_count": 19,
   "metadata": {},
   "outputs": [],
   "source": [
    "X_train = np.array(x_train_list)\n",
    "y_train = np.array(y_train_digital_list)"
   ]
  },
  {
   "cell_type": "code",
   "execution_count": 20,
   "metadata": {
    "colab": {},
    "colab_type": "code",
    "id": "ilm3FNfchM8w"
   },
   "outputs": [],
   "source": [
    "X_test = np.array(x_test_list)\n",
    "y_test = np.array(y_test_digital_list)"
   ]
  },
  {
   "cell_type": "code",
   "execution_count": 21,
   "metadata": {
    "scrolled": true
   },
   "outputs": [
    {
     "data": {
      "text/plain": [
       "array([ 9,  9,  9,  9,  9,  9,  9,  9,  9,  9, 26, 26, 26, 26, 26, 26, 26,\n",
       "       26, 26, 26])"
      ]
     },
     "execution_count": 21,
     "metadata": {},
     "output_type": "execute_result"
    }
   ],
   "source": [
    "y_test"
   ]
  },
  {
   "cell_type": "code",
   "execution_count": 22,
   "metadata": {},
   "outputs": [
    {
     "data": {
      "text/plain": [
       "109"
      ]
     },
     "execution_count": 22,
     "metadata": {},
     "output_type": "execute_result"
    }
   ],
   "source": [
    "len(X_train)"
   ]
  },
  {
   "cell_type": "code",
   "execution_count": 23,
   "metadata": {},
   "outputs": [
    {
     "data": {
      "text/plain": [
       "109"
      ]
     },
     "execution_count": 23,
     "metadata": {},
     "output_type": "execute_result"
    }
   ],
   "source": [
    "len(y_train)"
   ]
  },
  {
   "cell_type": "code",
   "execution_count": 24,
   "metadata": {},
   "outputs": [
    {
     "data": {
      "text/plain": [
       "(300, 300)"
      ]
     },
     "execution_count": 24,
     "metadata": {},
     "output_type": "execute_result"
    }
   ],
   "source": [
    "X_train[0].shape"
   ]
  },
  {
   "cell_type": "markdown",
   "metadata": {
    "colab_type": "text",
    "id": "w6JHLc0khM8y"
   },
   "source": [
    "## Save the Datasets"
   ]
  },
  {
   "cell_type": "code",
   "execution_count": 25,
   "metadata": {
    "colab": {},
    "colab_type": "code",
    "id": "ZwZnN84ghM8y"
   },
   "outputs": [],
   "source": [
    "np.save('X_train_2D_KaryoLearning_Abnormal', X_train)\n",
    "np.save('y_train_2D_KaryoLearning_Abnormal', y_train)"
   ]
  },
  {
   "cell_type": "code",
   "execution_count": 26,
   "metadata": {
    "colab": {},
    "colab_type": "code",
    "id": "2DV0IIz7hM80"
   },
   "outputs": [],
   "source": [
    "np.save('X_test_2D_KaryoLearning_Abnormal', X_test)\n",
    "np.save('y_test_2D_KaryoLearning_Abnormal', y_test)"
   ]
  },
  {
   "cell_type": "markdown",
   "metadata": {
    "colab_type": "text",
    "id": "tHi_7uq7hM81"
   },
   "source": [
    "## Load the Datasets"
   ]
  },
  {
   "cell_type": "code",
   "execution_count": 27,
   "metadata": {
    "colab": {},
    "colab_type": "code",
    "id": "tP5TTXkJhM82"
   },
   "outputs": [],
   "source": [
    "X_train = np.load('X_train_2D_KaryoLearning_Abnormal.npy')\n",
    "y_train = np.load('y_train_2D_KaryoLearning_Abnormal.npy')\n",
    "\n",
    "X_test = np.load('X_test_2D_KaryoLearning_Abnormal.npy')\n",
    "y_test = np.load('y_test_2D_KaryoLearning_Abnormal.npy')"
   ]
  },
  {
   "cell_type": "markdown",
   "metadata": {
    "colab_type": "text",
    "id": "zKWSId2nhM83"
   },
   "source": [
    "## Convolutional Neural Network"
   ]
  },
  {
   "cell_type": "markdown",
   "metadata": {},
   "source": [
    "## Data Preparation"
   ]
  },
  {
   "cell_type": "code",
   "execution_count": 28,
   "metadata": {},
   "outputs": [],
   "source": [
    "X_train = X_train.reshape(-1, 300, 300, 1)\n",
    "X_test = X_test.reshape(-1, 300, 300, 1)"
   ]
  },
  {
   "cell_type": "markdown",
   "metadata": {
    "colab_type": "text",
    "id": "U9HLQx8dhM84"
   },
   "source": [
    "### Training"
   ]
  },
  {
   "cell_type": "markdown",
   "metadata": {
    "colab_type": "text",
    "id": "xpM5Mh8fhM84"
   },
   "source": [
    "#### Model"
   ]
  },
  {
   "cell_type": "code",
   "execution_count": 35,
   "metadata": {
    "colab": {},
    "colab_type": "code",
    "id": "jeX02jNmhM85"
   },
   "outputs": [],
   "source": [
    "model = Sequential()"
   ]
  },
  {
   "cell_type": "code",
   "execution_count": 36,
   "metadata": {},
   "outputs": [],
   "source": [
    "model.add(Conv2D(32, (3, 3), activation='relu', input_shape=(300, 300, 1)))\n",
    "model.add(MaxPooling2D((2, 2)))\n",
    "model.add(Conv2D(64, (3, 3), activation='relu'))\n",
    "model.add(MaxPooling2D((2, 2)))\n",
    "model.add(Conv2D(64, (3, 3), activation='relu'))"
   ]
  },
  {
   "cell_type": "code",
   "execution_count": 37,
   "metadata": {},
   "outputs": [],
   "source": [
    "model.add(Flatten())\n",
    "model.add(Dense(300, activation='relu'))\n",
    "model.add(Dense(400, activation='relu'))\n",
    "model.add(Dense(200, activation='relu'))\n",
    "model.add(Dense(100, activation='relu'))\n",
    "model.add(Dense(50, activation='relu'))\n",
    "model.add(Dense(32, activation='softmax'))"
   ]
  },
  {
   "cell_type": "markdown",
   "metadata": {
    "colab_type": "text",
    "id": "rOtNj0jlhM87"
   },
   "source": [
    "#### Tensorboard Initilization"
   ]
  },
  {
   "cell_type": "code",
   "execution_count": 38,
   "metadata": {
    "colab": {},
    "colab_type": "code",
    "id": "VEg0lb4OhM87"
   },
   "outputs": [
    {
     "name": "stdout",
     "output_type": "stream",
     "text": [
      "The tensorboard extension is already loaded. To reload it, use:\n",
      "  %reload_ext tensorboard\n"
     ]
    }
   ],
   "source": [
    "%load_ext tensorboard\n",
    "log_dir = \"logs/fit/\" + datetime.datetime.now().strftime(\"%Y%m%d-%H%M%S\")\n",
    "tensorboard_callback = keras.callbacks.TensorBoard(log_dir=log_dir, histogram_freq=1)"
   ]
  },
  {
   "cell_type": "markdown",
   "metadata": {
    "colab_type": "text",
    "id": "P4zqonYwhM8-"
   },
   "source": [
    "#### Compile the modal"
   ]
  },
  {
   "cell_type": "code",
   "execution_count": 39,
   "metadata": {
    "colab": {},
    "colab_type": "code",
    "id": "wYvievAshM8_"
   },
   "outputs": [],
   "source": [
    "model.compile(optimizer='adam', loss='sparse_categorical_crossentropy', metrics=['accuracy'])"
   ]
  },
  {
   "cell_type": "markdown",
   "metadata": {
    "colab_type": "text",
    "id": "ElbCMim9hM9D"
   },
   "source": [
    "#### Training"
   ]
  },
  {
   "cell_type": "code",
   "execution_count": 40,
   "metadata": {
    "colab": {},
    "colab_type": "code",
    "id": "_PtUAhxphM9D",
    "scrolled": true
   },
   "outputs": [
    {
     "name": "stdout",
     "output_type": "stream",
     "text": [
      "Epoch 1/200\n",
      "2/2 [==============================] - 6s 3s/step - loss: 256.3949 - accuracy: 0.0000e+00 - val_loss: 492.2177 - val_accuracy: 0.5000\n",
      "Epoch 2/200\n",
      "2/2 [==============================] - 5s 2s/step - loss: 130.1821 - accuracy: 0.5321 - val_loss: 150.5021 - val_accuracy: 0.5000\n",
      "Epoch 3/200\n",
      "2/2 [==============================] - 5s 2s/step - loss: 60.8370 - accuracy: 0.4954 - val_loss: 83.5275 - val_accuracy: 0.5000\n",
      "Epoch 4/200\n",
      "2/2 [==============================] - 5s 2s/step - loss: 17.7703 - accuracy: 0.8899 - val_loss: 47.0390 - val_accuracy: 0.5000\n",
      "Epoch 5/200\n",
      "2/2 [==============================] - 5s 2s/step - loss: 6.3154 - accuracy: 0.8899 - val_loss: 21.2860 - val_accuracy: 0.5000\n",
      "Epoch 6/200\n",
      "2/2 [==============================] - 5s 2s/step - loss: 28.2967 - accuracy: 0.3394 - val_loss: 12.1640 - val_accuracy: 0.5000\n",
      "Epoch 7/200\n",
      "2/2 [==============================] - 5s 2s/step - loss: 2.7370 - accuracy: 0.5321 - val_loss: 2.1874 - val_accuracy: 0.5000\n",
      "Epoch 8/200\n",
      "2/2 [==============================] - 5s 2s/step - loss: 0.7180 - accuracy: 0.8899 - val_loss: 4.3421 - val_accuracy: 0.5000\n",
      "Epoch 9/200\n",
      "2/2 [==============================] - 5s 2s/step - loss: 0.7560 - accuracy: 0.8899 - val_loss: 7.0103 - val_accuracy: 0.5000\n",
      "Epoch 10/200\n",
      "2/2 [==============================] - 5s 2s/step - loss: 7.4247 - accuracy: 0.4679 - val_loss: 8.2371 - val_accuracy: 0.5000\n",
      "Epoch 11/200\n",
      "2/2 [==============================] - 5s 2s/step - loss: 2.1734 - accuracy: 0.8899 - val_loss: 3.1374 - val_accuracy: 0.5000\n",
      "Epoch 12/200\n",
      "2/2 [==============================] - 5s 2s/step - loss: 2.9164 - accuracy: 0.8899 - val_loss: 2.0925 - val_accuracy: 0.5000\n",
      "Epoch 13/200\n",
      "2/2 [==============================] - 5s 2s/step - loss: 4.8507 - accuracy: 0.8899 - val_loss: 12.5753 - val_accuracy: 0.5000\n",
      "Epoch 14/200\n",
      "2/2 [==============================] - 5s 2s/step - loss: 2.2626 - accuracy: 0.8899 - val_loss: 1.6371 - val_accuracy: 0.5000\n",
      "Epoch 15/200\n",
      "2/2 [==============================] - 5s 2s/step - loss: 0.5223 - accuracy: 0.8899 - val_loss: 1.4323 - val_accuracy: 0.5000\n",
      "Epoch 16/200\n",
      "2/2 [==============================] - 5s 2s/step - loss: 0.3520 - accuracy: 0.8899 - val_loss: 1.6811 - val_accuracy: 0.5000\n",
      "Epoch 17/200\n",
      "2/2 [==============================] - 5s 2s/step - loss: 1.7789 - accuracy: 0.4312 - val_loss: 1.0408 - val_accuracy: 0.5000\n",
      "Epoch 18/200\n",
      "2/2 [==============================] - 5s 2s/step - loss: 0.4909 - accuracy: 0.8899 - val_loss: 1.0549 - val_accuracy: 0.5000\n",
      "Epoch 19/200\n",
      "2/2 [==============================] - 5s 2s/step - loss: 1.0578 - accuracy: 0.8899 - val_loss: 0.8853 - val_accuracy: 0.5000\n",
      "Epoch 20/200\n",
      "2/2 [==============================] - 5s 2s/step - loss: 0.3218 - accuracy: 0.8991 - val_loss: 1.2319 - val_accuracy: 0.5000\n",
      "Epoch 21/200\n",
      "2/2 [==============================] - 5s 2s/step - loss: 0.6796 - accuracy: 0.8899 - val_loss: 0.6839 - val_accuracy: 0.5000\n",
      "Epoch 22/200\n",
      "2/2 [==============================] - 5s 2s/step - loss: 0.7540 - accuracy: 0.4771 - val_loss: 18.5350 - val_accuracy: 0.5000\n",
      "Epoch 23/200\n",
      "2/2 [==============================] - 5s 2s/step - loss: 2.9840 - accuracy: 0.8899 - val_loss: 1.7525 - val_accuracy: 0.5000\n",
      "Epoch 24/200\n",
      "2/2 [==============================] - 5s 2s/step - loss: 0.9687 - accuracy: 0.8899 - val_loss: 8.9239 - val_accuracy: 0.5000\n",
      "Epoch 25/200\n",
      "2/2 [==============================] - 5s 2s/step - loss: 1.2112 - accuracy: 0.8899 - val_loss: 1.4061 - val_accuracy: 0.5000\n",
      "Epoch 26/200\n",
      "2/2 [==============================] - 5s 2s/step - loss: 0.5082 - accuracy: 0.8899 - val_loss: 36.7589 - val_accuracy: 0.5000\n",
      "Epoch 27/200\n",
      "2/2 [==============================] - 5s 2s/step - loss: 4.2227 - accuracy: 0.8899 - val_loss: 1.4233 - val_accuracy: 0.5000\n",
      "Epoch 28/200\n",
      "2/2 [==============================] - 5s 2s/step - loss: 0.7532 - accuracy: 0.8991 - val_loss: 1.0829 - val_accuracy: 0.5000\n",
      "Epoch 29/200\n",
      "2/2 [==============================] - 5s 2s/step - loss: 0.3744 - accuracy: 0.8991 - val_loss: 0.8790 - val_accuracy: 0.5000\n",
      "Epoch 30/200\n",
      "2/2 [==============================] - 5s 2s/step - loss: 0.2019 - accuracy: 0.8991 - val_loss: 1.0226 - val_accuracy: 0.5000\n",
      "Epoch 31/200\n",
      "2/2 [==============================] - 5s 2s/step - loss: 0.1407 - accuracy: 0.9358 - val_loss: 0.3286 - val_accuracy: 0.9500\n",
      "Epoch 32/200\n",
      "2/2 [==============================] - 5s 2s/step - loss: 0.1550 - accuracy: 0.9908 - val_loss: 0.8175 - val_accuracy: 0.9500\n",
      "Epoch 33/200\n",
      "2/2 [==============================] - 5s 2s/step - loss: 0.3513 - accuracy: 0.9908 - val_loss: 1.0009 - val_accuracy: 0.6500\n",
      "Epoch 34/200\n",
      "2/2 [==============================] - 5s 3s/step - loss: 0.2397 - accuracy: 0.9725 - val_loss: 0.8564 - val_accuracy: 0.5000\n",
      "Epoch 35/200\n",
      "2/2 [==============================] - 5s 2s/step - loss: 0.0992 - accuracy: 0.9358 - val_loss: 0.3043 - val_accuracy: 0.8500\n",
      "Epoch 36/200\n",
      "2/2 [==============================] - 5s 2s/step - loss: 0.4580 - accuracy: 0.7615 - val_loss: 2.4697 - val_accuracy: 0.5000\n",
      "Epoch 37/200\n",
      "2/2 [==============================] - 5s 2s/step - loss: 0.3431 - accuracy: 0.8991 - val_loss: 1.3157 - val_accuracy: 0.5000\n",
      "Epoch 38/200\n",
      "2/2 [==============================] - 5s 2s/step - loss: 0.1067 - accuracy: 0.9450 - val_loss: 0.3301 - val_accuracy: 0.8500\n",
      "Epoch 39/200\n",
      "2/2 [==============================] - 5s 2s/step - loss: 0.0449 - accuracy: 1.0000 - val_loss: 0.2011 - val_accuracy: 1.0000\n",
      "Epoch 40/200\n",
      "2/2 [==============================] - 5s 2s/step - loss: 0.0502 - accuracy: 0.9817 - val_loss: 0.1180 - val_accuracy: 1.0000\n",
      "Epoch 41/200\n",
      "2/2 [==============================] - 5s 2s/step - loss: 0.0166 - accuracy: 1.0000 - val_loss: 0.1347 - val_accuracy: 0.9000\n",
      "Epoch 42/200\n",
      "2/2 [==============================] - 5s 2s/step - loss: 0.2671 - accuracy: 0.9541 - val_loss: 0.1146 - val_accuracy: 0.9500\n",
      "Epoch 43/200\n",
      "2/2 [==============================] - 5s 2s/step - loss: 0.0038 - accuracy: 1.0000 - val_loss: 0.0498 - val_accuracy: 1.0000\n",
      "Epoch 44/200\n",
      "2/2 [==============================] - 5s 2s/step - loss: 0.0068 - accuracy: 1.0000 - val_loss: 0.0397 - val_accuracy: 1.0000\n",
      "Epoch 45/200\n",
      "2/2 [==============================] - 5s 2s/step - loss: 0.0088 - accuracy: 1.0000 - val_loss: 0.0425 - val_accuracy: 1.0000\n",
      "Epoch 46/200\n",
      "2/2 [==============================] - 5s 2s/step - loss: 0.0045 - accuracy: 1.0000 - val_loss: 0.0465 - val_accuracy: 1.0000\n",
      "Epoch 47/200\n",
      "2/2 [==============================] - 5s 2s/step - loss: 0.0021 - accuracy: 1.0000 - val_loss: 0.0628 - val_accuracy: 1.0000\n",
      "Epoch 48/200\n",
      "2/2 [==============================] - 5s 2s/step - loss: 0.0013 - accuracy: 1.0000 - val_loss: 0.0816 - val_accuracy: 0.9500\n",
      "Epoch 49/200\n",
      "2/2 [==============================] - 5s 2s/step - loss: 0.0012 - accuracy: 1.0000 - val_loss: 0.1007 - val_accuracy: 0.9500\n",
      "Epoch 50/200\n",
      "2/2 [==============================] - 5s 2s/step - loss: 6.3244e-04 - accuracy: 1.0000 - val_loss: 0.0574 - val_accuracy: 0.9500\n",
      "Epoch 51/200\n",
      "2/2 [==============================] - 5s 2s/step - loss: 2.1191e-04 - accuracy: 1.0000 - val_loss: 0.0059 - val_accuracy: 1.0000\n",
      "Epoch 52/200\n",
      "2/2 [==============================] - 5s 2s/step - loss: 4.7412e-04 - accuracy: 1.0000 - val_loss: 0.0240 - val_accuracy: 1.0000\n",
      "Epoch 53/200\n",
      "2/2 [==============================] - 5s 2s/step - loss: 1.3675e-04 - accuracy: 1.0000 - val_loss: 0.0949 - val_accuracy: 0.9500\n",
      "Epoch 54/200\n",
      "2/2 [==============================] - 5s 2s/step - loss: 2.7634e-04 - accuracy: 1.0000 - val_loss: 0.1503 - val_accuracy: 0.9000\n",
      "Epoch 55/200\n",
      "2/2 [==============================] - 5s 2s/step - loss: 2.3663e-04 - accuracy: 1.0000 - val_loss: 0.1264 - val_accuracy: 0.9000\n",
      "Epoch 56/200\n",
      "2/2 [==============================] - 5s 2s/step - loss: 7.4402e-05 - accuracy: 1.0000 - val_loss: 0.0831 - val_accuracy: 0.9500\n",
      "Epoch 57/200\n",
      "2/2 [==============================] - 5s 2s/step - loss: 2.8054e-05 - accuracy: 1.0000 - val_loss: 0.0365 - val_accuracy: 1.0000\n",
      "Epoch 58/200\n",
      "2/2 [==============================] - 5s 2s/step - loss: 1.4698e-04 - accuracy: 1.0000 - val_loss: 0.1037 - val_accuracy: 0.9500\n",
      "Epoch 59/200\n"
     ]
    },
    {
     "name": "stdout",
     "output_type": "stream",
     "text": [
      "2/2 [==============================] - 5s 2s/step - loss: 1.5747e-04 - accuracy: 1.0000 - val_loss: 0.2040 - val_accuracy: 0.9000\n",
      "Epoch 60/200\n",
      "2/2 [==============================] - 5s 2s/step - loss: 8.5794e-04 - accuracy: 1.0000 - val_loss: 0.1942 - val_accuracy: 0.9000\n",
      "Epoch 61/200\n",
      "2/2 [==============================] - 5s 2s/step - loss: 7.5422e-04 - accuracy: 1.0000 - val_loss: 0.1380 - val_accuracy: 0.9000\n",
      "Epoch 62/200\n",
      "2/2 [==============================] - 5s 2s/step - loss: 6.1726e-04 - accuracy: 1.0000 - val_loss: 0.0904 - val_accuracy: 0.9000\n",
      "Epoch 63/200\n",
      "2/2 [==============================] - 5s 2s/step - loss: 4.0900e-04 - accuracy: 1.0000 - val_loss: 0.0641 - val_accuracy: 1.0000\n",
      "Epoch 64/200\n",
      "2/2 [==============================] - 5s 2s/step - loss: 2.9066e-04 - accuracy: 1.0000 - val_loss: 0.0509 - val_accuracy: 1.0000\n",
      "Epoch 65/200\n",
      "2/2 [==============================] - 5s 2s/step - loss: 2.8927e-04 - accuracy: 1.0000 - val_loss: 0.0429 - val_accuracy: 1.0000\n",
      "Epoch 66/200\n",
      "2/2 [==============================] - 5s 2s/step - loss: 3.1152e-04 - accuracy: 1.0000 - val_loss: 0.0379 - val_accuracy: 1.0000\n",
      "Epoch 67/200\n",
      "2/2 [==============================] - 5s 2s/step - loss: 3.3068e-04 - accuracy: 1.0000 - val_loss: 0.0348 - val_accuracy: 1.0000\n",
      "Epoch 68/200\n",
      "2/2 [==============================] - 5s 2s/step - loss: 3.6733e-04 - accuracy: 1.0000 - val_loss: 0.0324 - val_accuracy: 1.0000\n",
      "Epoch 69/200\n",
      "2/2 [==============================] - 5s 2s/step - loss: 3.2804e-04 - accuracy: 1.0000 - val_loss: 0.0643 - val_accuracy: 0.9500\n",
      "Epoch 70/200\n",
      "2/2 [==============================] - 5s 2s/step - loss: 1.2075e-04 - accuracy: 1.0000 - val_loss: 0.1522 - val_accuracy: 0.9500\n",
      "Epoch 71/200\n",
      "2/2 [==============================] - 5s 2s/step - loss: 1.0572e-04 - accuracy: 1.0000 - val_loss: 0.1844 - val_accuracy: 0.9500\n",
      "Epoch 72/200\n",
      "2/2 [==============================] - 5s 2s/step - loss: 7.6493 - accuracy: 0.6330 - val_loss: 0.2510 - val_accuracy: 0.8500\n",
      "Epoch 73/200\n",
      "2/2 [==============================] - 5s 2s/step - loss: 0.1740 - accuracy: 1.0000 - val_loss: 1.4043 - val_accuracy: 0.6000\n",
      "Epoch 74/200\n",
      "2/2 [==============================] - 5s 2s/step - loss: 0.3571 - accuracy: 0.9450 - val_loss: 1.4328 - val_accuracy: 0.5000\n",
      "Epoch 75/200\n",
      "2/2 [==============================] - 5s 2s/step - loss: 0.2731 - accuracy: 0.8899 - val_loss: 2.0632 - val_accuracy: 0.5000\n",
      "Epoch 76/200\n",
      "2/2 [==============================] - 5s 2s/step - loss: 0.3453 - accuracy: 0.8899 - val_loss: 0.8139 - val_accuracy: 0.6000\n",
      "Epoch 77/200\n",
      "2/2 [==============================] - 5s 2s/step - loss: 0.1125 - accuracy: 0.9541 - val_loss: 0.0376 - val_accuracy: 1.0000\n",
      "Epoch 78/200\n",
      "2/2 [==============================] - 5s 2s/step - loss: 0.0546 - accuracy: 0.9725 - val_loss: 0.0307 - val_accuracy: 1.0000\n",
      "Epoch 79/200\n",
      "2/2 [==============================] - 5s 2s/step - loss: 0.0614 - accuracy: 0.9725 - val_loss: 0.0561 - val_accuracy: 1.0000\n",
      "Epoch 80/200\n",
      "2/2 [==============================] - 5s 2s/step - loss: 0.0252 - accuracy: 0.9908 - val_loss: 0.1901 - val_accuracy: 0.9500\n",
      "Epoch 81/200\n",
      "2/2 [==============================] - 5s 2s/step - loss: 0.0271 - accuracy: 0.9908 - val_loss: 0.2508 - val_accuracy: 0.9500\n",
      "Epoch 82/200\n",
      "2/2 [==============================] - 5s 2s/step - loss: 0.0190 - accuracy: 1.0000 - val_loss: 0.1720 - val_accuracy: 0.9500\n",
      "Epoch 83/200\n",
      "2/2 [==============================] - 5s 2s/step - loss: 0.0072 - accuracy: 1.0000 - val_loss: 0.1249 - val_accuracy: 0.9500\n",
      "Epoch 84/200\n",
      "2/2 [==============================] - 5s 2s/step - loss: 0.0029 - accuracy: 1.0000 - val_loss: 0.1015 - val_accuracy: 1.0000\n",
      "Epoch 85/200\n",
      "2/2 [==============================] - 5s 2s/step - loss: 0.0026 - accuracy: 1.0000 - val_loss: 0.0889 - val_accuracy: 1.0000\n",
      "Epoch 86/200\n",
      "2/2 [==============================] - 5s 2s/step - loss: 0.0024 - accuracy: 1.0000 - val_loss: 0.0797 - val_accuracy: 1.0000\n",
      "Epoch 87/200\n",
      "2/2 [==============================] - 5s 2s/step - loss: 0.0022 - accuracy: 1.0000 - val_loss: 0.0730 - val_accuracy: 1.0000\n",
      "Epoch 88/200\n",
      "2/2 [==============================] - 5s 2s/step - loss: 0.0017 - accuracy: 1.0000 - val_loss: 0.0668 - val_accuracy: 1.0000\n",
      "Epoch 89/200\n",
      "2/2 [==============================] - 5s 2s/step - loss: 0.0012 - accuracy: 1.0000 - val_loss: 0.0613 - val_accuracy: 1.0000\n",
      "Epoch 90/200\n",
      "2/2 [==============================] - 5s 2s/step - loss: 7.6312e-04 - accuracy: 1.0000 - val_loss: 0.0571 - val_accuracy: 1.0000\n",
      "Epoch 91/200\n",
      "2/2 [==============================] - 5s 2s/step - loss: 4.7253e-04 - accuracy: 1.0000 - val_loss: 0.0539 - val_accuracy: 1.0000\n",
      "Epoch 92/200\n",
      "2/2 [==============================] - 5s 2s/step - loss: 2.9737e-04 - accuracy: 1.0000 - val_loss: 0.0519 - val_accuracy: 1.0000\n",
      "Epoch 93/200\n",
      "2/2 [==============================] - 5s 2s/step - loss: 1.9433e-04 - accuracy: 1.0000 - val_loss: 0.0511 - val_accuracy: 1.0000\n",
      "Epoch 94/200\n",
      "2/2 [==============================] - 5s 2s/step - loss: 1.2443e-04 - accuracy: 1.0000 - val_loss: 0.0510 - val_accuracy: 1.0000\n",
      "Epoch 95/200\n",
      "2/2 [==============================] - 5s 2s/step - loss: 9.2556e-05 - accuracy: 1.0000 - val_loss: 0.0511 - val_accuracy: 1.0000\n",
      "Epoch 96/200\n",
      "2/2 [==============================] - 5s 2s/step - loss: 6.5859e-05 - accuracy: 1.0000 - val_loss: 0.0514 - val_accuracy: 1.0000\n",
      "Epoch 97/200\n",
      "2/2 [==============================] - 5s 2s/step - loss: 5.2752e-05 - accuracy: 1.0000 - val_loss: 0.0510 - val_accuracy: 1.0000\n",
      "Epoch 98/200\n",
      "2/2 [==============================] - 5s 2s/step - loss: 4.1356e-05 - accuracy: 1.0000 - val_loss: 0.0506 - val_accuracy: 1.0000\n",
      "Epoch 99/200\n",
      "2/2 [==============================] - 5s 2s/step - loss: 3.2794e-05 - accuracy: 1.0000 - val_loss: 0.0502 - val_accuracy: 1.0000\n",
      "Epoch 100/200\n",
      "2/2 [==============================] - 5s 2s/step - loss: 2.8021e-05 - accuracy: 1.0000 - val_loss: 0.0489 - val_accuracy: 1.0000\n",
      "Epoch 101/200\n",
      "2/2 [==============================] - 5s 2s/step - loss: 2.2206e-05 - accuracy: 1.0000 - val_loss: 0.0473 - val_accuracy: 1.0000\n",
      "Epoch 102/200\n",
      "2/2 [==============================] - 5s 2s/step - loss: 1.9344e-05 - accuracy: 1.0000 - val_loss: 0.0452 - val_accuracy: 1.0000\n",
      "Epoch 103/200\n",
      "2/2 [==============================] - 5s 2s/step - loss: 1.6244e-05 - accuracy: 1.0000 - val_loss: 0.0429 - val_accuracy: 1.0000\n",
      "Epoch 104/200\n",
      "2/2 [==============================] - 5s 2s/step - loss: 1.3871e-05 - accuracy: 1.0000 - val_loss: 0.0408 - val_accuracy: 1.0000\n",
      "Epoch 105/200\n",
      "2/2 [==============================] - 5s 2s/step - loss: 1.2495e-05 - accuracy: 1.0000 - val_loss: 0.0390 - val_accuracy: 1.0000\n",
      "Epoch 106/200\n",
      "2/2 [==============================] - 5s 2s/step - loss: 1.1082e-05 - accuracy: 1.0000 - val_loss: 0.0374 - val_accuracy: 1.0000\n",
      "Epoch 107/200\n",
      "2/2 [==============================] - 5s 2s/step - loss: 1.0074e-05 - accuracy: 1.0000 - val_loss: 0.0361 - val_accuracy: 1.0000\n",
      "Epoch 108/200\n",
      "2/2 [==============================] - 5s 2s/step - loss: 9.1567e-06 - accuracy: 1.0000 - val_loss: 0.0350 - val_accuracy: 1.0000\n",
      "Epoch 109/200\n",
      "2/2 [==============================] - 5s 2s/step - loss: 8.5487e-06 - accuracy: 1.0000 - val_loss: 0.0340 - val_accuracy: 1.0000\n",
      "Epoch 110/200\n",
      "2/2 [==============================] - 5s 2s/step - loss: 8.0249e-06 - accuracy: 1.0000 - val_loss: 0.0331 - val_accuracy: 1.0000\n",
      "Epoch 111/200\n",
      "2/2 [==============================] - 5s 2s/step - loss: 7.6028e-06 - accuracy: 1.0000 - val_loss: 0.0324 - val_accuracy: 1.0000\n",
      "Epoch 112/200\n",
      "2/2 [==============================] - 5s 2s/step - loss: 7.1916e-06 - accuracy: 1.0000 - val_loss: 0.0318 - val_accuracy: 1.0000\n",
      "Epoch 113/200\n",
      "2/2 [==============================] - 5s 2s/step - loss: 6.8460e-06 - accuracy: 1.0000 - val_loss: 0.0314 - val_accuracy: 1.0000\n",
      "Epoch 114/200\n",
      "2/2 [==============================] - 5s 2s/step - loss: 6.5201e-06 - accuracy: 1.0000 - val_loss: 0.0311 - val_accuracy: 1.0000\n",
      "Epoch 115/200\n",
      "2/2 [==============================] - 5s 2s/step - loss: 6.2478e-06 - accuracy: 1.0000 - val_loss: 0.0309 - val_accuracy: 1.0000\n",
      "Epoch 116/200\n",
      "2/2 [==============================] - 5s 2s/step - loss: 5.9930e-06 - accuracy: 1.0000 - val_loss: 0.0308 - val_accuracy: 1.0000\n"
     ]
    },
    {
     "name": "stdout",
     "output_type": "stream",
     "text": [
      "Epoch 117/200\n",
      "2/2 [==============================] - 5s 2s/step - loss: 5.8126e-06 - accuracy: 1.0000 - val_loss: 0.0307 - val_accuracy: 1.0000\n",
      "Epoch 118/200\n",
      "2/2 [==============================] - 5s 2s/step - loss: 5.6037e-06 - accuracy: 1.0000 - val_loss: 0.0306 - val_accuracy: 1.0000\n",
      "Epoch 119/200\n",
      "2/2 [==============================] - 5s 2s/step - loss: 5.4463e-06 - accuracy: 1.0000 - val_loss: 0.0305 - val_accuracy: 1.0000\n",
      "Epoch 120/200\n",
      "2/2 [==============================] - 5s 2s/step - loss: 5.2680e-06 - accuracy: 1.0000 - val_loss: 0.0304 - val_accuracy: 1.0000\n",
      "Epoch 121/200\n",
      "2/2 [==============================] - 5s 2s/step - loss: 5.1116e-06 - accuracy: 1.0000 - val_loss: 0.0303 - val_accuracy: 1.0000\n",
      "Epoch 122/200\n",
      "2/2 [==============================] - 5s 2s/step - loss: 4.9585e-06 - accuracy: 1.0000 - val_loss: 0.0303 - val_accuracy: 1.0000\n",
      "Epoch 123/200\n",
      "2/2 [==============================] - 5s 2s/step - loss: 4.8623e-06 - accuracy: 1.0000 - val_loss: 0.0302 - val_accuracy: 1.0000\n",
      "Epoch 124/200\n",
      "2/2 [==============================] - 5s 2s/step - loss: 4.7300e-06 - accuracy: 1.0000 - val_loss: 0.0302 - val_accuracy: 1.0000\n",
      "Epoch 125/200\n",
      "2/2 [==============================] - 5s 2s/step - loss: 4.5911e-06 - accuracy: 1.0000 - val_loss: 0.0301 - val_accuracy: 1.0000\n",
      "Epoch 126/200\n",
      "2/2 [==============================] - 5s 2s/step - loss: 4.4741e-06 - accuracy: 1.0000 - val_loss: 0.0301 - val_accuracy: 1.0000\n",
      "Epoch 127/200\n",
      "2/2 [==============================] - 5s 2s/step - loss: 4.3691e-06 - accuracy: 1.0000 - val_loss: 0.0301 - val_accuracy: 1.0000\n",
      "Epoch 128/200\n",
      "2/2 [==============================] - 5s 2s/step - loss: 4.2914e-06 - accuracy: 1.0000 - val_loss: 0.0301 - val_accuracy: 1.0000\n",
      "Epoch 129/200\n",
      "2/2 [==============================] - 5s 2s/step - loss: 4.1963e-06 - accuracy: 1.0000 - val_loss: 0.0300 - val_accuracy: 1.0000\n",
      "Epoch 130/200\n",
      "2/2 [==============================] - 5s 2s/step - loss: 4.1000e-06 - accuracy: 1.0000 - val_loss: 0.0300 - val_accuracy: 1.0000\n",
      "Epoch 131/200\n",
      "2/2 [==============================] - 5s 2s/step - loss: 4.0235e-06 - accuracy: 1.0000 - val_loss: 0.0299 - val_accuracy: 1.0000\n",
      "Epoch 132/200\n",
      "2/2 [==============================] - 5s 2s/step - loss: 3.9316e-06 - accuracy: 1.0000 - val_loss: 0.0298 - val_accuracy: 1.0000\n",
      "Epoch 133/200\n",
      "2/2 [==============================] - 5s 2s/step - loss: 3.8441e-06 - accuracy: 1.0000 - val_loss: 0.0297 - val_accuracy: 1.0000\n",
      "Epoch 134/200\n",
      "2/2 [==============================] - 5s 2s/step - loss: 3.7774e-06 - accuracy: 1.0000 - val_loss: 0.0296 - val_accuracy: 1.0000\n",
      "Epoch 135/200\n",
      "2/2 [==============================] - 5s 2s/step - loss: 3.6998e-06 - accuracy: 1.0000 - val_loss: 0.0296 - val_accuracy: 1.0000\n",
      "Epoch 136/200\n",
      "2/2 [==============================] - 5s 2s/step - loss: 3.6309e-06 - accuracy: 1.0000 - val_loss: 0.0295 - val_accuracy: 1.0000\n",
      "Epoch 137/200\n",
      "2/2 [==============================] - 5s 2s/step - loss: 3.5642e-06 - accuracy: 1.0000 - val_loss: 0.0294 - val_accuracy: 1.0000\n",
      "Epoch 138/200\n",
      "2/2 [==============================] - 5s 2s/step - loss: 3.4986e-06 - accuracy: 1.0000 - val_loss: 0.0293 - val_accuracy: 1.0000\n",
      "Epoch 139/200\n",
      "2/2 [==============================] - 5s 2s/step - loss: 3.4351e-06 - accuracy: 1.0000 - val_loss: 0.0293 - val_accuracy: 1.0000\n",
      "Epoch 140/200\n",
      "2/2 [==============================] - 5s 2s/step - loss: 3.3717e-06 - accuracy: 1.0000 - val_loss: 0.0293 - val_accuracy: 1.0000\n",
      "Epoch 141/200\n",
      "2/2 [==============================] - 5s 2s/step - loss: 3.3225e-06 - accuracy: 1.0000 - val_loss: 0.0293 - val_accuracy: 1.0000\n",
      "Epoch 142/200\n",
      "2/2 [==============================] - 5s 2s/step - loss: 3.2623e-06 - accuracy: 1.0000 - val_loss: 0.0293 - val_accuracy: 1.0000\n",
      "Epoch 143/200\n",
      "2/2 [==============================] - 5s 2s/step - loss: 3.2142e-06 - accuracy: 1.0000 - val_loss: 0.0292 - val_accuracy: 1.0000\n",
      "Epoch 144/200\n",
      "2/2 [==============================] - 5s 2s/step - loss: 3.1530e-06 - accuracy: 1.0000 - val_loss: 0.0292 - val_accuracy: 1.0000\n",
      "Epoch 145/200\n",
      "2/2 [==============================] - 5s 2s/step - loss: 3.1059e-06 - accuracy: 1.0000 - val_loss: 0.0292 - val_accuracy: 1.0000\n",
      "Epoch 146/200\n",
      "2/2 [==============================] - 5s 2s/step - loss: 3.0425e-06 - accuracy: 1.0000 - val_loss: 0.0292 - val_accuracy: 1.0000\n",
      "Epoch 147/200\n",
      "2/2 [==============================] - 5s 2s/step - loss: 2.9966e-06 - accuracy: 1.0000 - val_loss: 0.0292 - val_accuracy: 1.0000\n",
      "Epoch 148/200\n",
      "2/2 [==============================] - 5s 2s/step - loss: 2.9561e-06 - accuracy: 1.0000 - val_loss: 0.0292 - val_accuracy: 1.0000\n",
      "Epoch 149/200\n",
      "2/2 [==============================] - 5s 2s/step - loss: 2.9135e-06 - accuracy: 1.0000 - val_loss: 0.0291 - val_accuracy: 1.0000\n",
      "Epoch 150/200\n",
      "2/2 [==============================] - 5s 2s/step - loss: 2.8610e-06 - accuracy: 1.0000 - val_loss: 0.0291 - val_accuracy: 1.0000\n",
      "Epoch 151/200\n",
      "2/2 [==============================] - 5s 2s/step - loss: 2.8161e-06 - accuracy: 1.0000 - val_loss: 0.0291 - val_accuracy: 1.0000\n",
      "Epoch 152/200\n",
      "2/2 [==============================] - 5s 2s/step - loss: 2.7724e-06 - accuracy: 1.0000 - val_loss: 0.0291 - val_accuracy: 1.0000\n",
      "Epoch 153/200\n",
      "2/2 [==============================] - 5s 2s/step - loss: 2.7385e-06 - accuracy: 1.0000 - val_loss: 0.0291 - val_accuracy: 1.0000\n",
      "Epoch 154/200\n",
      "2/2 [==============================] - 5s 2s/step - loss: 2.6860e-06 - accuracy: 1.0000 - val_loss: 0.0290 - val_accuracy: 1.0000\n",
      "Epoch 155/200\n",
      "2/2 [==============================] - 5s 2s/step - loss: 2.6510e-06 - accuracy: 1.0000 - val_loss: 0.0290 - val_accuracy: 1.0000\n",
      "Epoch 156/200\n",
      "2/2 [==============================] - 5s 2s/step - loss: 2.6215e-06 - accuracy: 1.0000 - val_loss: 0.0289 - val_accuracy: 1.0000\n",
      "Epoch 157/200\n",
      "2/2 [==============================] - 5s 2s/step - loss: 2.5766e-06 - accuracy: 1.0000 - val_loss: 0.0288 - val_accuracy: 1.0000\n",
      "Epoch 158/200\n",
      "2/2 [==============================] - 5s 2s/step - loss: 2.5405e-06 - accuracy: 1.0000 - val_loss: 0.0287 - val_accuracy: 1.0000\n",
      "Epoch 159/200\n",
      "2/2 [==============================] - 5s 2s/step - loss: 2.5088e-06 - accuracy: 1.0000 - val_loss: 0.0287 - val_accuracy: 1.0000\n",
      "Epoch 160/200\n",
      "2/2 [==============================] - 5s 2s/step - loss: 2.4705e-06 - accuracy: 1.0000 - val_loss: 0.0286 - val_accuracy: 1.0000\n",
      "Epoch 161/200\n",
      "2/2 [==============================] - 5s 2s/step - loss: 2.4443e-06 - accuracy: 1.0000 - val_loss: 0.0285 - val_accuracy: 1.0000\n",
      "Epoch 162/200\n",
      "2/2 [==============================] - 5s 2s/step - loss: 2.4049e-06 - accuracy: 1.0000 - val_loss: 0.0285 - val_accuracy: 1.0000\n",
      "Epoch 163/200\n",
      "2/2 [==============================] - 5s 2s/step - loss: 2.3721e-06 - accuracy: 1.0000 - val_loss: 0.0284 - val_accuracy: 1.0000\n",
      "Epoch 164/200\n",
      "2/2 [==============================] - 5s 2s/step - loss: 2.3426e-06 - accuracy: 1.0000 - val_loss: 0.0284 - val_accuracy: 1.0000\n",
      "Epoch 165/200\n",
      "2/2 [==============================] - 5s 2s/step - loss: 2.3087e-06 - accuracy: 1.0000 - val_loss: 0.0284 - val_accuracy: 1.0000\n",
      "Epoch 166/200\n",
      "2/2 [==============================] - 5s 2s/step - loss: 2.2803e-06 - accuracy: 1.0000 - val_loss: 0.0283 - val_accuracy: 1.0000\n",
      "Epoch 167/200\n",
      "2/2 [==============================] - 5s 2s/step - loss: 2.2507e-06 - accuracy: 1.0000 - val_loss: 0.0283 - val_accuracy: 1.0000\n",
      "Epoch 168/200\n",
      "2/2 [==============================] - 5s 2s/step - loss: 2.2212e-06 - accuracy: 1.0000 - val_loss: 0.0283 - val_accuracy: 1.0000\n",
      "Epoch 169/200\n",
      "2/2 [==============================] - 5s 2s/step - loss: 2.1873e-06 - accuracy: 1.0000 - val_loss: 0.0283 - val_accuracy: 1.0000\n",
      "Epoch 170/200\n",
      "2/2 [==============================] - 5s 2s/step - loss: 2.1600e-06 - accuracy: 1.0000 - val_loss: 0.0282 - val_accuracy: 1.0000\n",
      "Epoch 171/200\n",
      "2/2 [==============================] - 5s 2s/step - loss: 2.1315e-06 - accuracy: 1.0000 - val_loss: 0.0282 - val_accuracy: 1.0000\n",
      "Epoch 172/200\n",
      "2/2 [==============================] - 5s 2s/step - loss: 2.1064e-06 - accuracy: 1.0000 - val_loss: 0.0281 - val_accuracy: 1.0000\n",
      "Epoch 173/200\n",
      "2/2 [==============================] - 5s 2s/step - loss: 2.0757e-06 - accuracy: 1.0000 - val_loss: 0.0281 - val_accuracy: 1.0000\n"
     ]
    },
    {
     "name": "stdout",
     "output_type": "stream",
     "text": [
      "Epoch 174/200\n",
      "2/2 [==============================] - 5s 2s/step - loss: 2.0539e-06 - accuracy: 1.0000 - val_loss: 0.0280 - val_accuracy: 1.0000\n",
      "Epoch 175/200\n",
      "2/2 [==============================] - 5s 2s/step - loss: 2.0265e-06 - accuracy: 1.0000 - val_loss: 0.0280 - val_accuracy: 1.0000\n",
      "Epoch 176/200\n",
      "2/2 [==============================] - 5s 2s/step - loss: 2.0014e-06 - accuracy: 1.0000 - val_loss: 0.0280 - val_accuracy: 1.0000\n",
      "Epoch 177/200\n",
      "2/2 [==============================] - 5s 2s/step - loss: 1.9784e-06 - accuracy: 1.0000 - val_loss: 0.0280 - val_accuracy: 1.0000\n",
      "Epoch 178/200\n",
      "2/2 [==============================] - 5s 2s/step - loss: 1.9609e-06 - accuracy: 1.0000 - val_loss: 0.0279 - val_accuracy: 1.0000\n",
      "Epoch 179/200\n",
      "2/2 [==============================] - 5s 2s/step - loss: 1.9369e-06 - accuracy: 1.0000 - val_loss: 0.0279 - val_accuracy: 1.0000\n",
      "Epoch 180/200\n",
      "2/2 [==============================] - 5s 2s/step - loss: 1.9183e-06 - accuracy: 1.0000 - val_loss: 0.0278 - val_accuracy: 1.0000\n",
      "Epoch 181/200\n",
      "2/2 [==============================] - 5s 2s/step - loss: 1.8833e-06 - accuracy: 1.0000 - val_loss: 0.0277 - val_accuracy: 1.0000\n",
      "Epoch 182/200\n",
      "2/2 [==============================] - 5s 2s/step - loss: 1.8658e-06 - accuracy: 1.0000 - val_loss: 0.0277 - val_accuracy: 1.0000\n",
      "Epoch 183/200\n",
      "2/2 [==============================] - 5s 2s/step - loss: 1.8450e-06 - accuracy: 1.0000 - val_loss: 0.0276 - val_accuracy: 1.0000\n",
      "Epoch 184/200\n",
      "2/2 [==============================] - 5s 2s/step - loss: 1.8275e-06 - accuracy: 1.0000 - val_loss: 0.0276 - val_accuracy: 1.0000\n",
      "Epoch 185/200\n",
      "2/2 [==============================] - 5s 2s/step - loss: 1.8034e-06 - accuracy: 1.0000 - val_loss: 0.0275 - val_accuracy: 1.0000\n",
      "Epoch 186/200\n",
      "2/2 [==============================] - 5s 2s/step - loss: 1.7827e-06 - accuracy: 1.0000 - val_loss: 0.0274 - val_accuracy: 1.0000\n",
      "Epoch 187/200\n",
      "2/2 [==============================] - 5s 2s/step - loss: 1.7608e-06 - accuracy: 1.0000 - val_loss: 0.0274 - val_accuracy: 1.0000\n",
      "Epoch 188/200\n",
      "2/2 [==============================] - 5s 2s/step - loss: 1.7455e-06 - accuracy: 1.0000 - val_loss: 0.0273 - val_accuracy: 1.0000\n",
      "Epoch 189/200\n",
      "2/2 [==============================] - 5s 2s/step - loss: 1.7247e-06 - accuracy: 1.0000 - val_loss: 0.0272 - val_accuracy: 1.0000\n",
      "Epoch 190/200\n",
      "2/2 [==============================] - 5s 2s/step - loss: 1.7061e-06 - accuracy: 1.0000 - val_loss: 0.0272 - val_accuracy: 1.0000\n",
      "Epoch 191/200\n",
      "2/2 [==============================] - 5s 2s/step - loss: 1.6886e-06 - accuracy: 1.0000 - val_loss: 0.0271 - val_accuracy: 1.0000\n",
      "Epoch 192/200\n",
      "2/2 [==============================] - 5s 2s/step - loss: 1.6667e-06 - accuracy: 1.0000 - val_loss: 0.0271 - val_accuracy: 1.0000\n",
      "Epoch 193/200\n",
      "2/2 [==============================] - 5s 2s/step - loss: 1.6492e-06 - accuracy: 1.0000 - val_loss: 0.0271 - val_accuracy: 1.0000\n",
      "Epoch 194/200\n",
      "2/2 [==============================] - 5s 2s/step - loss: 1.6295e-06 - accuracy: 1.0000 - val_loss: 0.0270 - val_accuracy: 1.0000\n",
      "Epoch 195/200\n",
      "2/2 [==============================] - 5s 2s/step - loss: 1.6120e-06 - accuracy: 1.0000 - val_loss: 0.0270 - val_accuracy: 1.0000\n",
      "Epoch 196/200\n",
      "2/2 [==============================] - 5s 2s/step - loss: 1.5967e-06 - accuracy: 1.0000 - val_loss: 0.0270 - val_accuracy: 1.0000\n",
      "Epoch 197/200\n",
      "2/2 [==============================] - 5s 2s/step - loss: 1.5792e-06 - accuracy: 1.0000 - val_loss: 0.0270 - val_accuracy: 1.0000\n",
      "Epoch 198/200\n",
      "2/2 [==============================] - 5s 2s/step - loss: 1.5639e-06 - accuracy: 1.0000 - val_loss: 0.0270 - val_accuracy: 1.0000\n",
      "Epoch 199/200\n",
      "2/2 [==============================] - 5s 2s/step - loss: 1.5475e-06 - accuracy: 1.0000 - val_loss: 0.0270 - val_accuracy: 1.0000\n",
      "Epoch 200/200\n",
      "2/2 [==============================] - 5s 2s/step - loss: 1.5311e-06 - accuracy: 1.0000 - val_loss: 0.0270 - val_accuracy: 1.0000\n"
     ]
    },
    {
     "data": {
      "text/plain": [
       "<tensorflow.python.keras.callbacks.History at 0x17180b5c1d0>"
      ]
     },
     "execution_count": 40,
     "metadata": {},
     "output_type": "execute_result"
    }
   ],
   "source": [
    "model.fit(X_train, y_train, epochs=200, batch_size=64, verbose=1, \n",
    "          validation_data=(X_test, y_test),\n",
    "          callbacks=[tensorboard_callback])"
   ]
  },
  {
   "cell_type": "code",
   "execution_count": 41,
   "metadata": {
    "colab": {},
    "colab_type": "code",
    "id": "oc6qL9tKhM9F"
   },
   "outputs": [
    {
     "name": "stdout",
     "output_type": "stream",
     "text": [
      "Model: \"sequential_1\"\n",
      "_________________________________________________________________\n",
      "Layer (type)                 Output Shape              Param #   \n",
      "=================================================================\n",
      "conv2d_3 (Conv2D)            (None, 298, 298, 32)      320       \n",
      "_________________________________________________________________\n",
      "max_pooling2d_2 (MaxPooling2 (None, 149, 149, 32)      0         \n",
      "_________________________________________________________________\n",
      "conv2d_4 (Conv2D)            (None, 147, 147, 64)      18496     \n",
      "_________________________________________________________________\n",
      "max_pooling2d_3 (MaxPooling2 (None, 73, 73, 64)        0         \n",
      "_________________________________________________________________\n",
      "conv2d_5 (Conv2D)            (None, 71, 71, 64)        36928     \n",
      "_________________________________________________________________\n",
      "flatten_1 (Flatten)          (None, 322624)            0         \n",
      "_________________________________________________________________\n",
      "dense_11 (Dense)             (None, 300)               96787500  \n",
      "_________________________________________________________________\n",
      "dense_12 (Dense)             (None, 400)               120400    \n",
      "_________________________________________________________________\n",
      "dense_13 (Dense)             (None, 200)               80200     \n",
      "_________________________________________________________________\n",
      "dense_14 (Dense)             (None, 100)               20100     \n",
      "_________________________________________________________________\n",
      "dense_15 (Dense)             (None, 50)                5050      \n",
      "_________________________________________________________________\n",
      "dense_16 (Dense)             (None, 32)                1632      \n",
      "=================================================================\n",
      "Total params: 97,070,626\n",
      "Trainable params: 97,070,626\n",
      "Non-trainable params: 0\n",
      "_________________________________________________________________\n"
     ]
    }
   ],
   "source": [
    "model.summary()"
   ]
  },
  {
   "cell_type": "markdown",
   "metadata": {
    "colab_type": "text",
    "id": "6IOse7UahM9H"
   },
   "source": [
    "### Tensorboard Display"
   ]
  },
  {
   "cell_type": "code",
   "execution_count": 42,
   "metadata": {
    "colab": {},
    "colab_type": "code",
    "id": "V7O2fNf7hM9I"
   },
   "outputs": [
    {
     "data": {
      "text/html": [
       "\n",
       "      <iframe id=\"tensorboard-frame-ee737923a33a55fa\" width=\"100%\" height=\"800\" frameborder=\"0\">\n",
       "      </iframe>\n",
       "      <script>\n",
       "        (function() {\n",
       "          const frame = document.getElementById(\"tensorboard-frame-ee737923a33a55fa\");\n",
       "          const url = new URL(\"/\", window.location);\n",
       "          const port = 6006;\n",
       "          if (port) {\n",
       "            url.port = port;\n",
       "          }\n",
       "          frame.src = url;\n",
       "        })();\n",
       "      </script>\n",
       "    "
      ],
      "text/plain": [
       "<IPython.core.display.HTML object>"
      ]
     },
     "metadata": {},
     "output_type": "display_data"
    }
   ],
   "source": [
    "%tensorboard --logdir logs/fit"
   ]
  },
  {
   "cell_type": "markdown",
   "metadata": {
    "colab_type": "text",
    "id": "XQJKzdwChM9J"
   },
   "source": [
    "## Performance Measures"
   ]
  },
  {
   "cell_type": "code",
   "execution_count": 43,
   "metadata": {
    "colab": {},
    "colab_type": "code",
    "id": "gIs4_UUvhM9K"
   },
   "outputs": [
    {
     "name": "stdout",
     "output_type": "stream",
     "text": [
      "Test Accuracy: 1.000\n"
     ]
    }
   ],
   "source": [
    "#y_predict = clf.predict(X_test)\n",
    "#y_test = y_test\n",
    "\n",
    "loss, acc = model.evaluate(X_test, y_test, verbose=0)\n",
    "print('Test Accuracy: %.3f' % acc)"
   ]
  },
  {
   "cell_type": "code",
   "execution_count": 44,
   "metadata": {},
   "outputs": [
    {
     "data": {
      "text/plain": [
       "20"
      ]
     },
     "execution_count": 44,
     "metadata": {},
     "output_type": "execute_result"
    }
   ],
   "source": [
    "len(X_test)"
   ]
  },
  {
   "cell_type": "code",
   "execution_count": 45,
   "metadata": {
    "colab": {},
    "colab_type": "code",
    "id": "Jm6MN7H5hM9M",
    "outputId": "888aa2d6-e546-458c-ba2a-b4206f2222f5",
    "scrolled": false
   },
   "outputs": [],
   "source": [
    "y_predict = model.predict(X_test)"
   ]
  },
  {
   "cell_type": "code",
   "execution_count": 46,
   "metadata": {
    "scrolled": true
   },
   "outputs": [
    {
     "data": {
      "text/plain": [
       "20"
      ]
     },
     "execution_count": 46,
     "metadata": {},
     "output_type": "execute_result"
    }
   ],
   "source": [
    "len(y_predict)"
   ]
  },
  {
   "cell_type": "code",
   "execution_count": 47,
   "metadata": {},
   "outputs": [
    {
     "data": {
      "text/plain": [
       "array([1.8968056e-11, 4.1559048e-11, 5.2276471e-11, 6.6156009e-12,\n",
       "       8.1148657e-13, 1.8084327e-15, 7.6758521e-13, 1.1412754e-12,\n",
       "       7.3957953e-15, 7.7036871e-10, 1.1514687e-20, 1.5198870e-12,\n",
       "       3.3354890e-17, 4.6705283e-13, 1.1891891e-14, 2.1476931e-27,\n",
       "       3.0644409e-23, 8.9928531e-15, 2.3047204e-18, 2.6775705e-21,\n",
       "       3.0332254e-23, 1.9743512e-24, 6.9864886e-21, 1.0744975e-16,\n",
       "       1.6092432e-25, 3.4215899e-17, 1.0000000e+00, 2.0868191e-16,\n",
       "       1.4131937e-22, 2.1122283e-19, 2.6905882e-18, 3.4720550e-16],\n",
       "      dtype=float32)"
      ]
     },
     "execution_count": 47,
     "metadata": {},
     "output_type": "execute_result"
    }
   ],
   "source": [
    "y_predict[12]"
   ]
  },
  {
   "cell_type": "code",
   "execution_count": 48,
   "metadata": {},
   "outputs": [],
   "source": [
    "# The number 34 means the type number of all chromosome class number inlcuding abnormal ones\n",
    "y_predict_filtered = []\n",
    "\n",
    "for sample in y_predict:\n",
    "    maximum = 0\n",
    "    indicator = 0\n",
    "    for i in range(32):\n",
    "        if sample[i] > maximum:\n",
    "            maximum = sample[i]\n",
    "            indicator = i\n",
    "    y_predict_filtered.append(indicator)        "
   ]
  },
  {
   "cell_type": "code",
   "execution_count": 49,
   "metadata": {},
   "outputs": [
    {
     "data": {
      "text/plain": [
       "26"
      ]
     },
     "execution_count": 49,
     "metadata": {},
     "output_type": "execute_result"
    }
   ],
   "source": [
    "y_predict_filtered[12]"
   ]
  },
  {
   "cell_type": "code",
   "execution_count": 50,
   "metadata": {},
   "outputs": [
    {
     "data": {
      "text/plain": [
       "20"
      ]
     },
     "execution_count": 50,
     "metadata": {},
     "output_type": "execute_result"
    }
   ],
   "source": [
    "len(y_predict_filtered)"
   ]
  },
  {
   "cell_type": "code",
   "execution_count": 51,
   "metadata": {
    "colab": {},
    "colab_type": "code",
    "id": "pP-vPuuUhM9O",
    "outputId": "22db63cd-ab18-4569-afe2-033c36a10cd4"
   },
   "outputs": [
    {
     "data": {
      "text/plain": [
       "20"
      ]
     },
     "execution_count": 51,
     "metadata": {},
     "output_type": "execute_result"
    }
   ],
   "source": [
    "len(y_test)"
   ]
  },
  {
   "cell_type": "code",
   "execution_count": null,
   "metadata": {},
   "outputs": [],
   "source": []
  },
  {
   "cell_type": "markdown",
   "metadata": {
    "colab_type": "text",
    "id": "wFuk9U3RhM9Q"
   },
   "source": [
    "### Confusion Matrix (混淆矩阵)"
   ]
  },
  {
   "cell_type": "code",
   "execution_count": 52,
   "metadata": {},
   "outputs": [],
   "source": [
    "label = ['chr_01', 'chr_02', 'chr_03',  'chr_04', 'chr_05', 'chr_06', 'chr_07',  'chr_08',  'chr_09', 'chr_10',\n",
    "'chr_11', 'chr_12', 'chr_13', 'chr_14', 'chr_15',  'chr_16', 'chr_17', 'chr_18', 'chr_19',  'chr_20',  \n",
    "'chr_21', 'chr_22', 'chr_x', 'chr_y',  'chr_18_p11_deletion', 'chr_18_q10_isochromosome', \n",
    "'chr_9_inversion', 'chr_5_p14_deletion', \n",
    "'chr_x_isochromosome', 'chr_x_p22_cnv', 'chr_x_q21_cnv',  'chr_x_q22_deletion']"
   ]
  },
  {
   "cell_type": "code",
   "execution_count": 53,
   "metadata": {
    "colab": {},
    "colab_type": "code",
    "id": "nzASGN6ghM9Q",
    "outputId": "87b406d2-255d-4119-d862-5f6a6f2a8c96",
    "scrolled": false
   },
   "outputs": [
    {
     "data": {
      "text/html": [
       "<div>\n",
       "<style scoped>\n",
       "    .dataframe tbody tr th:only-of-type {\n",
       "        vertical-align: middle;\n",
       "    }\n",
       "\n",
       "    .dataframe tbody tr th {\n",
       "        vertical-align: top;\n",
       "    }\n",
       "\n",
       "    .dataframe thead th {\n",
       "        text-align: right;\n",
       "    }\n",
       "</style>\n",
       "<table border=\"1\" class=\"dataframe\">\n",
       "  <thead>\n",
       "    <tr style=\"text-align: right;\">\n",
       "      <th></th>\n",
       "      <th>chr_01</th>\n",
       "      <th>chr_02</th>\n",
       "      <th>chr_03</th>\n",
       "      <th>chr_04</th>\n",
       "      <th>chr_05</th>\n",
       "      <th>chr_06</th>\n",
       "      <th>chr_07</th>\n",
       "      <th>chr_08</th>\n",
       "      <th>chr_09</th>\n",
       "      <th>chr_10</th>\n",
       "      <th>...</th>\n",
       "      <th>chr_x</th>\n",
       "      <th>chr_y</th>\n",
       "      <th>chr_18_p11_deletion</th>\n",
       "      <th>chr_18_q10_isochromosome</th>\n",
       "      <th>chr_9_inversion</th>\n",
       "      <th>chr_5_p14_deletion</th>\n",
       "      <th>chr_x_isochromosome</th>\n",
       "      <th>chr_x_p22_cnv</th>\n",
       "      <th>chr_x_q21_cnv</th>\n",
       "      <th>chr_x_q22_deletion</th>\n",
       "    </tr>\n",
       "  </thead>\n",
       "  <tbody>\n",
       "    <tr>\n",
       "      <th>chr_01</th>\n",
       "      <td>0</td>\n",
       "      <td>0</td>\n",
       "      <td>0</td>\n",
       "      <td>0</td>\n",
       "      <td>0</td>\n",
       "      <td>0</td>\n",
       "      <td>0</td>\n",
       "      <td>0</td>\n",
       "      <td>0</td>\n",
       "      <td>0</td>\n",
       "      <td>...</td>\n",
       "      <td>0</td>\n",
       "      <td>0</td>\n",
       "      <td>0</td>\n",
       "      <td>0</td>\n",
       "      <td>0</td>\n",
       "      <td>0</td>\n",
       "      <td>0</td>\n",
       "      <td>0</td>\n",
       "      <td>0</td>\n",
       "      <td>0</td>\n",
       "    </tr>\n",
       "    <tr>\n",
       "      <th>chr_02</th>\n",
       "      <td>0</td>\n",
       "      <td>0</td>\n",
       "      <td>0</td>\n",
       "      <td>0</td>\n",
       "      <td>0</td>\n",
       "      <td>0</td>\n",
       "      <td>0</td>\n",
       "      <td>0</td>\n",
       "      <td>0</td>\n",
       "      <td>0</td>\n",
       "      <td>...</td>\n",
       "      <td>0</td>\n",
       "      <td>0</td>\n",
       "      <td>0</td>\n",
       "      <td>0</td>\n",
       "      <td>0</td>\n",
       "      <td>0</td>\n",
       "      <td>0</td>\n",
       "      <td>0</td>\n",
       "      <td>0</td>\n",
       "      <td>0</td>\n",
       "    </tr>\n",
       "    <tr>\n",
       "      <th>chr_03</th>\n",
       "      <td>0</td>\n",
       "      <td>0</td>\n",
       "      <td>0</td>\n",
       "      <td>0</td>\n",
       "      <td>0</td>\n",
       "      <td>0</td>\n",
       "      <td>0</td>\n",
       "      <td>0</td>\n",
       "      <td>0</td>\n",
       "      <td>0</td>\n",
       "      <td>...</td>\n",
       "      <td>0</td>\n",
       "      <td>0</td>\n",
       "      <td>0</td>\n",
       "      <td>0</td>\n",
       "      <td>0</td>\n",
       "      <td>0</td>\n",
       "      <td>0</td>\n",
       "      <td>0</td>\n",
       "      <td>0</td>\n",
       "      <td>0</td>\n",
       "    </tr>\n",
       "    <tr>\n",
       "      <th>chr_04</th>\n",
       "      <td>0</td>\n",
       "      <td>0</td>\n",
       "      <td>0</td>\n",
       "      <td>0</td>\n",
       "      <td>0</td>\n",
       "      <td>0</td>\n",
       "      <td>0</td>\n",
       "      <td>0</td>\n",
       "      <td>0</td>\n",
       "      <td>0</td>\n",
       "      <td>...</td>\n",
       "      <td>0</td>\n",
       "      <td>0</td>\n",
       "      <td>0</td>\n",
       "      <td>0</td>\n",
       "      <td>0</td>\n",
       "      <td>0</td>\n",
       "      <td>0</td>\n",
       "      <td>0</td>\n",
       "      <td>0</td>\n",
       "      <td>0</td>\n",
       "    </tr>\n",
       "    <tr>\n",
       "      <th>chr_05</th>\n",
       "      <td>0</td>\n",
       "      <td>0</td>\n",
       "      <td>0</td>\n",
       "      <td>0</td>\n",
       "      <td>0</td>\n",
       "      <td>0</td>\n",
       "      <td>0</td>\n",
       "      <td>0</td>\n",
       "      <td>0</td>\n",
       "      <td>0</td>\n",
       "      <td>...</td>\n",
       "      <td>0</td>\n",
       "      <td>0</td>\n",
       "      <td>0</td>\n",
       "      <td>0</td>\n",
       "      <td>0</td>\n",
       "      <td>0</td>\n",
       "      <td>0</td>\n",
       "      <td>0</td>\n",
       "      <td>0</td>\n",
       "      <td>0</td>\n",
       "    </tr>\n",
       "    <tr>\n",
       "      <th>chr_06</th>\n",
       "      <td>0</td>\n",
       "      <td>0</td>\n",
       "      <td>0</td>\n",
       "      <td>0</td>\n",
       "      <td>0</td>\n",
       "      <td>0</td>\n",
       "      <td>0</td>\n",
       "      <td>0</td>\n",
       "      <td>0</td>\n",
       "      <td>0</td>\n",
       "      <td>...</td>\n",
       "      <td>0</td>\n",
       "      <td>0</td>\n",
       "      <td>0</td>\n",
       "      <td>0</td>\n",
       "      <td>0</td>\n",
       "      <td>0</td>\n",
       "      <td>0</td>\n",
       "      <td>0</td>\n",
       "      <td>0</td>\n",
       "      <td>0</td>\n",
       "    </tr>\n",
       "    <tr>\n",
       "      <th>chr_07</th>\n",
       "      <td>0</td>\n",
       "      <td>0</td>\n",
       "      <td>0</td>\n",
       "      <td>0</td>\n",
       "      <td>0</td>\n",
       "      <td>0</td>\n",
       "      <td>0</td>\n",
       "      <td>0</td>\n",
       "      <td>0</td>\n",
       "      <td>0</td>\n",
       "      <td>...</td>\n",
       "      <td>0</td>\n",
       "      <td>0</td>\n",
       "      <td>0</td>\n",
       "      <td>0</td>\n",
       "      <td>0</td>\n",
       "      <td>0</td>\n",
       "      <td>0</td>\n",
       "      <td>0</td>\n",
       "      <td>0</td>\n",
       "      <td>0</td>\n",
       "    </tr>\n",
       "    <tr>\n",
       "      <th>chr_08</th>\n",
       "      <td>0</td>\n",
       "      <td>0</td>\n",
       "      <td>0</td>\n",
       "      <td>0</td>\n",
       "      <td>0</td>\n",
       "      <td>0</td>\n",
       "      <td>0</td>\n",
       "      <td>0</td>\n",
       "      <td>0</td>\n",
       "      <td>0</td>\n",
       "      <td>...</td>\n",
       "      <td>0</td>\n",
       "      <td>0</td>\n",
       "      <td>0</td>\n",
       "      <td>0</td>\n",
       "      <td>0</td>\n",
       "      <td>0</td>\n",
       "      <td>0</td>\n",
       "      <td>0</td>\n",
       "      <td>0</td>\n",
       "      <td>0</td>\n",
       "    </tr>\n",
       "    <tr>\n",
       "      <th>chr_09</th>\n",
       "      <td>0</td>\n",
       "      <td>0</td>\n",
       "      <td>0</td>\n",
       "      <td>0</td>\n",
       "      <td>0</td>\n",
       "      <td>0</td>\n",
       "      <td>0</td>\n",
       "      <td>0</td>\n",
       "      <td>0</td>\n",
       "      <td>0</td>\n",
       "      <td>...</td>\n",
       "      <td>0</td>\n",
       "      <td>0</td>\n",
       "      <td>0</td>\n",
       "      <td>0</td>\n",
       "      <td>0</td>\n",
       "      <td>0</td>\n",
       "      <td>0</td>\n",
       "      <td>0</td>\n",
       "      <td>0</td>\n",
       "      <td>0</td>\n",
       "    </tr>\n",
       "    <tr>\n",
       "      <th>chr_10</th>\n",
       "      <td>0</td>\n",
       "      <td>0</td>\n",
       "      <td>0</td>\n",
       "      <td>0</td>\n",
       "      <td>0</td>\n",
       "      <td>0</td>\n",
       "      <td>0</td>\n",
       "      <td>0</td>\n",
       "      <td>0</td>\n",
       "      <td>10</td>\n",
       "      <td>...</td>\n",
       "      <td>0</td>\n",
       "      <td>0</td>\n",
       "      <td>0</td>\n",
       "      <td>0</td>\n",
       "      <td>0</td>\n",
       "      <td>0</td>\n",
       "      <td>0</td>\n",
       "      <td>0</td>\n",
       "      <td>0</td>\n",
       "      <td>0</td>\n",
       "    </tr>\n",
       "    <tr>\n",
       "      <th>chr_11</th>\n",
       "      <td>0</td>\n",
       "      <td>0</td>\n",
       "      <td>0</td>\n",
       "      <td>0</td>\n",
       "      <td>0</td>\n",
       "      <td>0</td>\n",
       "      <td>0</td>\n",
       "      <td>0</td>\n",
       "      <td>0</td>\n",
       "      <td>0</td>\n",
       "      <td>...</td>\n",
       "      <td>0</td>\n",
       "      <td>0</td>\n",
       "      <td>0</td>\n",
       "      <td>0</td>\n",
       "      <td>0</td>\n",
       "      <td>0</td>\n",
       "      <td>0</td>\n",
       "      <td>0</td>\n",
       "      <td>0</td>\n",
       "      <td>0</td>\n",
       "    </tr>\n",
       "    <tr>\n",
       "      <th>chr_12</th>\n",
       "      <td>0</td>\n",
       "      <td>0</td>\n",
       "      <td>0</td>\n",
       "      <td>0</td>\n",
       "      <td>0</td>\n",
       "      <td>0</td>\n",
       "      <td>0</td>\n",
       "      <td>0</td>\n",
       "      <td>0</td>\n",
       "      <td>0</td>\n",
       "      <td>...</td>\n",
       "      <td>0</td>\n",
       "      <td>0</td>\n",
       "      <td>0</td>\n",
       "      <td>0</td>\n",
       "      <td>0</td>\n",
       "      <td>0</td>\n",
       "      <td>0</td>\n",
       "      <td>0</td>\n",
       "      <td>0</td>\n",
       "      <td>0</td>\n",
       "    </tr>\n",
       "    <tr>\n",
       "      <th>chr_13</th>\n",
       "      <td>0</td>\n",
       "      <td>0</td>\n",
       "      <td>0</td>\n",
       "      <td>0</td>\n",
       "      <td>0</td>\n",
       "      <td>0</td>\n",
       "      <td>0</td>\n",
       "      <td>0</td>\n",
       "      <td>0</td>\n",
       "      <td>0</td>\n",
       "      <td>...</td>\n",
       "      <td>0</td>\n",
       "      <td>0</td>\n",
       "      <td>0</td>\n",
       "      <td>0</td>\n",
       "      <td>0</td>\n",
       "      <td>0</td>\n",
       "      <td>0</td>\n",
       "      <td>0</td>\n",
       "      <td>0</td>\n",
       "      <td>0</td>\n",
       "    </tr>\n",
       "    <tr>\n",
       "      <th>chr_14</th>\n",
       "      <td>0</td>\n",
       "      <td>0</td>\n",
       "      <td>0</td>\n",
       "      <td>0</td>\n",
       "      <td>0</td>\n",
       "      <td>0</td>\n",
       "      <td>0</td>\n",
       "      <td>0</td>\n",
       "      <td>0</td>\n",
       "      <td>0</td>\n",
       "      <td>...</td>\n",
       "      <td>0</td>\n",
       "      <td>0</td>\n",
       "      <td>0</td>\n",
       "      <td>0</td>\n",
       "      <td>0</td>\n",
       "      <td>0</td>\n",
       "      <td>0</td>\n",
       "      <td>0</td>\n",
       "      <td>0</td>\n",
       "      <td>0</td>\n",
       "    </tr>\n",
       "    <tr>\n",
       "      <th>chr_15</th>\n",
       "      <td>0</td>\n",
       "      <td>0</td>\n",
       "      <td>0</td>\n",
       "      <td>0</td>\n",
       "      <td>0</td>\n",
       "      <td>0</td>\n",
       "      <td>0</td>\n",
       "      <td>0</td>\n",
       "      <td>0</td>\n",
       "      <td>0</td>\n",
       "      <td>...</td>\n",
       "      <td>0</td>\n",
       "      <td>0</td>\n",
       "      <td>0</td>\n",
       "      <td>0</td>\n",
       "      <td>0</td>\n",
       "      <td>0</td>\n",
       "      <td>0</td>\n",
       "      <td>0</td>\n",
       "      <td>0</td>\n",
       "      <td>0</td>\n",
       "    </tr>\n",
       "    <tr>\n",
       "      <th>chr_16</th>\n",
       "      <td>0</td>\n",
       "      <td>0</td>\n",
       "      <td>0</td>\n",
       "      <td>0</td>\n",
       "      <td>0</td>\n",
       "      <td>0</td>\n",
       "      <td>0</td>\n",
       "      <td>0</td>\n",
       "      <td>0</td>\n",
       "      <td>0</td>\n",
       "      <td>...</td>\n",
       "      <td>0</td>\n",
       "      <td>0</td>\n",
       "      <td>0</td>\n",
       "      <td>0</td>\n",
       "      <td>0</td>\n",
       "      <td>0</td>\n",
       "      <td>0</td>\n",
       "      <td>0</td>\n",
       "      <td>0</td>\n",
       "      <td>0</td>\n",
       "    </tr>\n",
       "    <tr>\n",
       "      <th>chr_17</th>\n",
       "      <td>0</td>\n",
       "      <td>0</td>\n",
       "      <td>0</td>\n",
       "      <td>0</td>\n",
       "      <td>0</td>\n",
       "      <td>0</td>\n",
       "      <td>0</td>\n",
       "      <td>0</td>\n",
       "      <td>0</td>\n",
       "      <td>0</td>\n",
       "      <td>...</td>\n",
       "      <td>0</td>\n",
       "      <td>0</td>\n",
       "      <td>0</td>\n",
       "      <td>0</td>\n",
       "      <td>0</td>\n",
       "      <td>0</td>\n",
       "      <td>0</td>\n",
       "      <td>0</td>\n",
       "      <td>0</td>\n",
       "      <td>0</td>\n",
       "    </tr>\n",
       "    <tr>\n",
       "      <th>chr_18</th>\n",
       "      <td>0</td>\n",
       "      <td>0</td>\n",
       "      <td>0</td>\n",
       "      <td>0</td>\n",
       "      <td>0</td>\n",
       "      <td>0</td>\n",
       "      <td>0</td>\n",
       "      <td>0</td>\n",
       "      <td>0</td>\n",
       "      <td>0</td>\n",
       "      <td>...</td>\n",
       "      <td>0</td>\n",
       "      <td>0</td>\n",
       "      <td>0</td>\n",
       "      <td>0</td>\n",
       "      <td>0</td>\n",
       "      <td>0</td>\n",
       "      <td>0</td>\n",
       "      <td>0</td>\n",
       "      <td>0</td>\n",
       "      <td>0</td>\n",
       "    </tr>\n",
       "    <tr>\n",
       "      <th>chr_19</th>\n",
       "      <td>0</td>\n",
       "      <td>0</td>\n",
       "      <td>0</td>\n",
       "      <td>0</td>\n",
       "      <td>0</td>\n",
       "      <td>0</td>\n",
       "      <td>0</td>\n",
       "      <td>0</td>\n",
       "      <td>0</td>\n",
       "      <td>0</td>\n",
       "      <td>...</td>\n",
       "      <td>0</td>\n",
       "      <td>0</td>\n",
       "      <td>0</td>\n",
       "      <td>0</td>\n",
       "      <td>0</td>\n",
       "      <td>0</td>\n",
       "      <td>0</td>\n",
       "      <td>0</td>\n",
       "      <td>0</td>\n",
       "      <td>0</td>\n",
       "    </tr>\n",
       "    <tr>\n",
       "      <th>chr_20</th>\n",
       "      <td>0</td>\n",
       "      <td>0</td>\n",
       "      <td>0</td>\n",
       "      <td>0</td>\n",
       "      <td>0</td>\n",
       "      <td>0</td>\n",
       "      <td>0</td>\n",
       "      <td>0</td>\n",
       "      <td>0</td>\n",
       "      <td>0</td>\n",
       "      <td>...</td>\n",
       "      <td>0</td>\n",
       "      <td>0</td>\n",
       "      <td>0</td>\n",
       "      <td>0</td>\n",
       "      <td>0</td>\n",
       "      <td>0</td>\n",
       "      <td>0</td>\n",
       "      <td>0</td>\n",
       "      <td>0</td>\n",
       "      <td>0</td>\n",
       "    </tr>\n",
       "    <tr>\n",
       "      <th>chr_21</th>\n",
       "      <td>0</td>\n",
       "      <td>0</td>\n",
       "      <td>0</td>\n",
       "      <td>0</td>\n",
       "      <td>0</td>\n",
       "      <td>0</td>\n",
       "      <td>0</td>\n",
       "      <td>0</td>\n",
       "      <td>0</td>\n",
       "      <td>0</td>\n",
       "      <td>...</td>\n",
       "      <td>0</td>\n",
       "      <td>0</td>\n",
       "      <td>0</td>\n",
       "      <td>0</td>\n",
       "      <td>0</td>\n",
       "      <td>0</td>\n",
       "      <td>0</td>\n",
       "      <td>0</td>\n",
       "      <td>0</td>\n",
       "      <td>0</td>\n",
       "    </tr>\n",
       "    <tr>\n",
       "      <th>chr_22</th>\n",
       "      <td>0</td>\n",
       "      <td>0</td>\n",
       "      <td>0</td>\n",
       "      <td>0</td>\n",
       "      <td>0</td>\n",
       "      <td>0</td>\n",
       "      <td>0</td>\n",
       "      <td>0</td>\n",
       "      <td>0</td>\n",
       "      <td>0</td>\n",
       "      <td>...</td>\n",
       "      <td>0</td>\n",
       "      <td>0</td>\n",
       "      <td>0</td>\n",
       "      <td>0</td>\n",
       "      <td>0</td>\n",
       "      <td>0</td>\n",
       "      <td>0</td>\n",
       "      <td>0</td>\n",
       "      <td>0</td>\n",
       "      <td>0</td>\n",
       "    </tr>\n",
       "    <tr>\n",
       "      <th>chr_x</th>\n",
       "      <td>0</td>\n",
       "      <td>0</td>\n",
       "      <td>0</td>\n",
       "      <td>0</td>\n",
       "      <td>0</td>\n",
       "      <td>0</td>\n",
       "      <td>0</td>\n",
       "      <td>0</td>\n",
       "      <td>0</td>\n",
       "      <td>0</td>\n",
       "      <td>...</td>\n",
       "      <td>0</td>\n",
       "      <td>0</td>\n",
       "      <td>0</td>\n",
       "      <td>0</td>\n",
       "      <td>0</td>\n",
       "      <td>0</td>\n",
       "      <td>0</td>\n",
       "      <td>0</td>\n",
       "      <td>0</td>\n",
       "      <td>0</td>\n",
       "    </tr>\n",
       "    <tr>\n",
       "      <th>chr_y</th>\n",
       "      <td>0</td>\n",
       "      <td>0</td>\n",
       "      <td>0</td>\n",
       "      <td>0</td>\n",
       "      <td>0</td>\n",
       "      <td>0</td>\n",
       "      <td>0</td>\n",
       "      <td>0</td>\n",
       "      <td>0</td>\n",
       "      <td>0</td>\n",
       "      <td>...</td>\n",
       "      <td>0</td>\n",
       "      <td>0</td>\n",
       "      <td>0</td>\n",
       "      <td>0</td>\n",
       "      <td>0</td>\n",
       "      <td>0</td>\n",
       "      <td>0</td>\n",
       "      <td>0</td>\n",
       "      <td>0</td>\n",
       "      <td>0</td>\n",
       "    </tr>\n",
       "    <tr>\n",
       "      <th>chr_18_p11_deletion</th>\n",
       "      <td>0</td>\n",
       "      <td>0</td>\n",
       "      <td>0</td>\n",
       "      <td>0</td>\n",
       "      <td>0</td>\n",
       "      <td>0</td>\n",
       "      <td>0</td>\n",
       "      <td>0</td>\n",
       "      <td>0</td>\n",
       "      <td>0</td>\n",
       "      <td>...</td>\n",
       "      <td>0</td>\n",
       "      <td>0</td>\n",
       "      <td>0</td>\n",
       "      <td>0</td>\n",
       "      <td>0</td>\n",
       "      <td>0</td>\n",
       "      <td>0</td>\n",
       "      <td>0</td>\n",
       "      <td>0</td>\n",
       "      <td>0</td>\n",
       "    </tr>\n",
       "    <tr>\n",
       "      <th>chr_18_q10_isochromosome</th>\n",
       "      <td>0</td>\n",
       "      <td>0</td>\n",
       "      <td>0</td>\n",
       "      <td>0</td>\n",
       "      <td>0</td>\n",
       "      <td>0</td>\n",
       "      <td>0</td>\n",
       "      <td>0</td>\n",
       "      <td>0</td>\n",
       "      <td>0</td>\n",
       "      <td>...</td>\n",
       "      <td>0</td>\n",
       "      <td>0</td>\n",
       "      <td>0</td>\n",
       "      <td>0</td>\n",
       "      <td>0</td>\n",
       "      <td>0</td>\n",
       "      <td>0</td>\n",
       "      <td>0</td>\n",
       "      <td>0</td>\n",
       "      <td>0</td>\n",
       "    </tr>\n",
       "    <tr>\n",
       "      <th>chr_9_inversion</th>\n",
       "      <td>0</td>\n",
       "      <td>0</td>\n",
       "      <td>0</td>\n",
       "      <td>0</td>\n",
       "      <td>0</td>\n",
       "      <td>0</td>\n",
       "      <td>0</td>\n",
       "      <td>0</td>\n",
       "      <td>0</td>\n",
       "      <td>0</td>\n",
       "      <td>...</td>\n",
       "      <td>0</td>\n",
       "      <td>0</td>\n",
       "      <td>0</td>\n",
       "      <td>0</td>\n",
       "      <td>10</td>\n",
       "      <td>0</td>\n",
       "      <td>0</td>\n",
       "      <td>0</td>\n",
       "      <td>0</td>\n",
       "      <td>0</td>\n",
       "    </tr>\n",
       "    <tr>\n",
       "      <th>chr_5_p14_deletion</th>\n",
       "      <td>0</td>\n",
       "      <td>0</td>\n",
       "      <td>0</td>\n",
       "      <td>0</td>\n",
       "      <td>0</td>\n",
       "      <td>0</td>\n",
       "      <td>0</td>\n",
       "      <td>0</td>\n",
       "      <td>0</td>\n",
       "      <td>0</td>\n",
       "      <td>...</td>\n",
       "      <td>0</td>\n",
       "      <td>0</td>\n",
       "      <td>0</td>\n",
       "      <td>0</td>\n",
       "      <td>0</td>\n",
       "      <td>0</td>\n",
       "      <td>0</td>\n",
       "      <td>0</td>\n",
       "      <td>0</td>\n",
       "      <td>0</td>\n",
       "    </tr>\n",
       "    <tr>\n",
       "      <th>chr_x_isochromosome</th>\n",
       "      <td>0</td>\n",
       "      <td>0</td>\n",
       "      <td>0</td>\n",
       "      <td>0</td>\n",
       "      <td>0</td>\n",
       "      <td>0</td>\n",
       "      <td>0</td>\n",
       "      <td>0</td>\n",
       "      <td>0</td>\n",
       "      <td>0</td>\n",
       "      <td>...</td>\n",
       "      <td>0</td>\n",
       "      <td>0</td>\n",
       "      <td>0</td>\n",
       "      <td>0</td>\n",
       "      <td>0</td>\n",
       "      <td>0</td>\n",
       "      <td>0</td>\n",
       "      <td>0</td>\n",
       "      <td>0</td>\n",
       "      <td>0</td>\n",
       "    </tr>\n",
       "    <tr>\n",
       "      <th>chr_x_p22_cnv</th>\n",
       "      <td>0</td>\n",
       "      <td>0</td>\n",
       "      <td>0</td>\n",
       "      <td>0</td>\n",
       "      <td>0</td>\n",
       "      <td>0</td>\n",
       "      <td>0</td>\n",
       "      <td>0</td>\n",
       "      <td>0</td>\n",
       "      <td>0</td>\n",
       "      <td>...</td>\n",
       "      <td>0</td>\n",
       "      <td>0</td>\n",
       "      <td>0</td>\n",
       "      <td>0</td>\n",
       "      <td>0</td>\n",
       "      <td>0</td>\n",
       "      <td>0</td>\n",
       "      <td>0</td>\n",
       "      <td>0</td>\n",
       "      <td>0</td>\n",
       "    </tr>\n",
       "    <tr>\n",
       "      <th>chr_x_q21_cnv</th>\n",
       "      <td>0</td>\n",
       "      <td>0</td>\n",
       "      <td>0</td>\n",
       "      <td>0</td>\n",
       "      <td>0</td>\n",
       "      <td>0</td>\n",
       "      <td>0</td>\n",
       "      <td>0</td>\n",
       "      <td>0</td>\n",
       "      <td>0</td>\n",
       "      <td>...</td>\n",
       "      <td>0</td>\n",
       "      <td>0</td>\n",
       "      <td>0</td>\n",
       "      <td>0</td>\n",
       "      <td>0</td>\n",
       "      <td>0</td>\n",
       "      <td>0</td>\n",
       "      <td>0</td>\n",
       "      <td>0</td>\n",
       "      <td>0</td>\n",
       "    </tr>\n",
       "    <tr>\n",
       "      <th>chr_x_q22_deletion</th>\n",
       "      <td>0</td>\n",
       "      <td>0</td>\n",
       "      <td>0</td>\n",
       "      <td>0</td>\n",
       "      <td>0</td>\n",
       "      <td>0</td>\n",
       "      <td>0</td>\n",
       "      <td>0</td>\n",
       "      <td>0</td>\n",
       "      <td>0</td>\n",
       "      <td>...</td>\n",
       "      <td>0</td>\n",
       "      <td>0</td>\n",
       "      <td>0</td>\n",
       "      <td>0</td>\n",
       "      <td>0</td>\n",
       "      <td>0</td>\n",
       "      <td>0</td>\n",
       "      <td>0</td>\n",
       "      <td>0</td>\n",
       "      <td>0</td>\n",
       "    </tr>\n",
       "  </tbody>\n",
       "</table>\n",
       "<p>32 rows × 32 columns</p>\n",
       "</div>"
      ],
      "text/plain": [
       "                          chr_01  chr_02  chr_03  chr_04  chr_05  chr_06  \\\n",
       "chr_01                         0       0       0       0       0       0   \n",
       "chr_02                         0       0       0       0       0       0   \n",
       "chr_03                         0       0       0       0       0       0   \n",
       "chr_04                         0       0       0       0       0       0   \n",
       "chr_05                         0       0       0       0       0       0   \n",
       "chr_06                         0       0       0       0       0       0   \n",
       "chr_07                         0       0       0       0       0       0   \n",
       "chr_08                         0       0       0       0       0       0   \n",
       "chr_09                         0       0       0       0       0       0   \n",
       "chr_10                         0       0       0       0       0       0   \n",
       "chr_11                         0       0       0       0       0       0   \n",
       "chr_12                         0       0       0       0       0       0   \n",
       "chr_13                         0       0       0       0       0       0   \n",
       "chr_14                         0       0       0       0       0       0   \n",
       "chr_15                         0       0       0       0       0       0   \n",
       "chr_16                         0       0       0       0       0       0   \n",
       "chr_17                         0       0       0       0       0       0   \n",
       "chr_18                         0       0       0       0       0       0   \n",
       "chr_19                         0       0       0       0       0       0   \n",
       "chr_20                         0       0       0       0       0       0   \n",
       "chr_21                         0       0       0       0       0       0   \n",
       "chr_22                         0       0       0       0       0       0   \n",
       "chr_x                          0       0       0       0       0       0   \n",
       "chr_y                          0       0       0       0       0       0   \n",
       "chr_18_p11_deletion            0       0       0       0       0       0   \n",
       "chr_18_q10_isochromosome       0       0       0       0       0       0   \n",
       "chr_9_inversion                0       0       0       0       0       0   \n",
       "chr_5_p14_deletion             0       0       0       0       0       0   \n",
       "chr_x_isochromosome            0       0       0       0       0       0   \n",
       "chr_x_p22_cnv                  0       0       0       0       0       0   \n",
       "chr_x_q21_cnv                  0       0       0       0       0       0   \n",
       "chr_x_q22_deletion             0       0       0       0       0       0   \n",
       "\n",
       "                          chr_07  chr_08  chr_09  chr_10  ...  chr_x  chr_y  \\\n",
       "chr_01                         0       0       0       0  ...      0      0   \n",
       "chr_02                         0       0       0       0  ...      0      0   \n",
       "chr_03                         0       0       0       0  ...      0      0   \n",
       "chr_04                         0       0       0       0  ...      0      0   \n",
       "chr_05                         0       0       0       0  ...      0      0   \n",
       "chr_06                         0       0       0       0  ...      0      0   \n",
       "chr_07                         0       0       0       0  ...      0      0   \n",
       "chr_08                         0       0       0       0  ...      0      0   \n",
       "chr_09                         0       0       0       0  ...      0      0   \n",
       "chr_10                         0       0       0      10  ...      0      0   \n",
       "chr_11                         0       0       0       0  ...      0      0   \n",
       "chr_12                         0       0       0       0  ...      0      0   \n",
       "chr_13                         0       0       0       0  ...      0      0   \n",
       "chr_14                         0       0       0       0  ...      0      0   \n",
       "chr_15                         0       0       0       0  ...      0      0   \n",
       "chr_16                         0       0       0       0  ...      0      0   \n",
       "chr_17                         0       0       0       0  ...      0      0   \n",
       "chr_18                         0       0       0       0  ...      0      0   \n",
       "chr_19                         0       0       0       0  ...      0      0   \n",
       "chr_20                         0       0       0       0  ...      0      0   \n",
       "chr_21                         0       0       0       0  ...      0      0   \n",
       "chr_22                         0       0       0       0  ...      0      0   \n",
       "chr_x                          0       0       0       0  ...      0      0   \n",
       "chr_y                          0       0       0       0  ...      0      0   \n",
       "chr_18_p11_deletion            0       0       0       0  ...      0      0   \n",
       "chr_18_q10_isochromosome       0       0       0       0  ...      0      0   \n",
       "chr_9_inversion                0       0       0       0  ...      0      0   \n",
       "chr_5_p14_deletion             0       0       0       0  ...      0      0   \n",
       "chr_x_isochromosome            0       0       0       0  ...      0      0   \n",
       "chr_x_p22_cnv                  0       0       0       0  ...      0      0   \n",
       "chr_x_q21_cnv                  0       0       0       0  ...      0      0   \n",
       "chr_x_q22_deletion             0       0       0       0  ...      0      0   \n",
       "\n",
       "                          chr_18_p11_deletion  chr_18_q10_isochromosome  \\\n",
       "chr_01                                      0                         0   \n",
       "chr_02                                      0                         0   \n",
       "chr_03                                      0                         0   \n",
       "chr_04                                      0                         0   \n",
       "chr_05                                      0                         0   \n",
       "chr_06                                      0                         0   \n",
       "chr_07                                      0                         0   \n",
       "chr_08                                      0                         0   \n",
       "chr_09                                      0                         0   \n",
       "chr_10                                      0                         0   \n",
       "chr_11                                      0                         0   \n",
       "chr_12                                      0                         0   \n",
       "chr_13                                      0                         0   \n",
       "chr_14                                      0                         0   \n",
       "chr_15                                      0                         0   \n",
       "chr_16                                      0                         0   \n",
       "chr_17                                      0                         0   \n",
       "chr_18                                      0                         0   \n",
       "chr_19                                      0                         0   \n",
       "chr_20                                      0                         0   \n",
       "chr_21                                      0                         0   \n",
       "chr_22                                      0                         0   \n",
       "chr_x                                       0                         0   \n",
       "chr_y                                       0                         0   \n",
       "chr_18_p11_deletion                         0                         0   \n",
       "chr_18_q10_isochromosome                    0                         0   \n",
       "chr_9_inversion                             0                         0   \n",
       "chr_5_p14_deletion                          0                         0   \n",
       "chr_x_isochromosome                         0                         0   \n",
       "chr_x_p22_cnv                               0                         0   \n",
       "chr_x_q21_cnv                               0                         0   \n",
       "chr_x_q22_deletion                          0                         0   \n",
       "\n",
       "                          chr_9_inversion  chr_5_p14_deletion  \\\n",
       "chr_01                                  0                   0   \n",
       "chr_02                                  0                   0   \n",
       "chr_03                                  0                   0   \n",
       "chr_04                                  0                   0   \n",
       "chr_05                                  0                   0   \n",
       "chr_06                                  0                   0   \n",
       "chr_07                                  0                   0   \n",
       "chr_08                                  0                   0   \n",
       "chr_09                                  0                   0   \n",
       "chr_10                                  0                   0   \n",
       "chr_11                                  0                   0   \n",
       "chr_12                                  0                   0   \n",
       "chr_13                                  0                   0   \n",
       "chr_14                                  0                   0   \n",
       "chr_15                                  0                   0   \n",
       "chr_16                                  0                   0   \n",
       "chr_17                                  0                   0   \n",
       "chr_18                                  0                   0   \n",
       "chr_19                                  0                   0   \n",
       "chr_20                                  0                   0   \n",
       "chr_21                                  0                   0   \n",
       "chr_22                                  0                   0   \n",
       "chr_x                                   0                   0   \n",
       "chr_y                                   0                   0   \n",
       "chr_18_p11_deletion                     0                   0   \n",
       "chr_18_q10_isochromosome                0                   0   \n",
       "chr_9_inversion                        10                   0   \n",
       "chr_5_p14_deletion                      0                   0   \n",
       "chr_x_isochromosome                     0                   0   \n",
       "chr_x_p22_cnv                           0                   0   \n",
       "chr_x_q21_cnv                           0                   0   \n",
       "chr_x_q22_deletion                      0                   0   \n",
       "\n",
       "                          chr_x_isochromosome  chr_x_p22_cnv  chr_x_q21_cnv  \\\n",
       "chr_01                                      0              0              0   \n",
       "chr_02                                      0              0              0   \n",
       "chr_03                                      0              0              0   \n",
       "chr_04                                      0              0              0   \n",
       "chr_05                                      0              0              0   \n",
       "chr_06                                      0              0              0   \n",
       "chr_07                                      0              0              0   \n",
       "chr_08                                      0              0              0   \n",
       "chr_09                                      0              0              0   \n",
       "chr_10                                      0              0              0   \n",
       "chr_11                                      0              0              0   \n",
       "chr_12                                      0              0              0   \n",
       "chr_13                                      0              0              0   \n",
       "chr_14                                      0              0              0   \n",
       "chr_15                                      0              0              0   \n",
       "chr_16                                      0              0              0   \n",
       "chr_17                                      0              0              0   \n",
       "chr_18                                      0              0              0   \n",
       "chr_19                                      0              0              0   \n",
       "chr_20                                      0              0              0   \n",
       "chr_21                                      0              0              0   \n",
       "chr_22                                      0              0              0   \n",
       "chr_x                                       0              0              0   \n",
       "chr_y                                       0              0              0   \n",
       "chr_18_p11_deletion                         0              0              0   \n",
       "chr_18_q10_isochromosome                    0              0              0   \n",
       "chr_9_inversion                             0              0              0   \n",
       "chr_5_p14_deletion                          0              0              0   \n",
       "chr_x_isochromosome                         0              0              0   \n",
       "chr_x_p22_cnv                               0              0              0   \n",
       "chr_x_q21_cnv                               0              0              0   \n",
       "chr_x_q22_deletion                          0              0              0   \n",
       "\n",
       "                          chr_x_q22_deletion  \n",
       "chr_01                                     0  \n",
       "chr_02                                     0  \n",
       "chr_03                                     0  \n",
       "chr_04                                     0  \n",
       "chr_05                                     0  \n",
       "chr_06                                     0  \n",
       "chr_07                                     0  \n",
       "chr_08                                     0  \n",
       "chr_09                                     0  \n",
       "chr_10                                     0  \n",
       "chr_11                                     0  \n",
       "chr_12                                     0  \n",
       "chr_13                                     0  \n",
       "chr_14                                     0  \n",
       "chr_15                                     0  \n",
       "chr_16                                     0  \n",
       "chr_17                                     0  \n",
       "chr_18                                     0  \n",
       "chr_19                                     0  \n",
       "chr_20                                     0  \n",
       "chr_21                                     0  \n",
       "chr_22                                     0  \n",
       "chr_x                                      0  \n",
       "chr_y                                      0  \n",
       "chr_18_p11_deletion                        0  \n",
       "chr_18_q10_isochromosome                   0  \n",
       "chr_9_inversion                            0  \n",
       "chr_5_p14_deletion                         0  \n",
       "chr_x_isochromosome                        0  \n",
       "chr_x_p22_cnv                              0  \n",
       "chr_x_q21_cnv                              0  \n",
       "chr_x_q22_deletion                         0  \n",
       "\n",
       "[32 rows x 32 columns]"
      ]
     },
     "execution_count": 53,
     "metadata": {},
     "output_type": "execute_result"
    }
   ],
   "source": [
    "cm = np.array(confusion_matrix(y_test, y_predict_filtered, labels=[0, 1, 2, 3, 4, 5, 6, 7, 8, 9 ,\n",
    "                                                                   10, 11, 12, 13, 14, 15, 16, 17, 18, 19, \n",
    "                                                                  20, 21, 22, 23, 24, 25, 26, 27, 28, 29,\n",
    "                                                                  30, 31]))\n",
    "confusion = pd.DataFrame(cm, index=label,\n",
    "                        columns=label)\n",
    "confusion.to_csv('ConfusionMatrix_KaryoType_CNN.csv')\n",
    "confusion"
   ]
  },
  {
   "cell_type": "code",
   "execution_count": 54,
   "metadata": {
    "colab": {},
    "colab_type": "code",
    "id": "s12C84CQhM9S",
    "outputId": "5e2f474b-13ef-434d-b8e0-7d6e49f7ccb9",
    "scrolled": true
   },
   "outputs": [
    {
     "name": "stdout",
     "output_type": "stream",
     "text": [
      "              precision    recall  f1-score   support\n",
      "\n",
      "           9       1.00      1.00      1.00        10\n",
      "          26       1.00      1.00      1.00        10\n",
      "\n",
      "   micro avg       1.00      1.00      1.00        20\n",
      "   macro avg       1.00      1.00      1.00        20\n",
      "weighted avg       1.00      1.00      1.00        20\n",
      "\n"
     ]
    }
   ],
   "source": [
    "print(classification_report(y_test, y_predict_filtered))"
   ]
  },
  {
   "cell_type": "code",
   "execution_count": 49,
   "metadata": {},
   "outputs": [
    {
     "data": {
      "image/png": "[encoded data removed]",
      "text/plain": [
       "<Figure size 2160x1728 with 2 Axes>"
      ]
     },
     "metadata": {
      "needs_background": "light"
     },
     "output_type": "display_data"
    }
   ],
   "source": [
    "plt.figure(figsize=(30, 24))\n",
    "heat_map = sb.heatmap(confusion, annot=True, \n",
    "                      cmap='coolwarm', \n",
    "                      xticklabels=confusion.columns, yticklabels=confusion.index, \n",
    "                      linewidths=.5, \n",
    "                      annot_kws={\"size\": 20})"
   ]
  },
  {
   "cell_type": "markdown",
   "metadata": {
    "colab_type": "text",
    "id": "B4J3frv1hM9U"
   },
   "source": [
    "## Save the Model"
   ]
  },
  {
   "cell_type": "code",
   "execution_count": 50,
   "metadata": {},
   "outputs": [
    {
     "name": "stdout",
     "output_type": "stream",
     "text": [
      "INFO:tensorflow:Assets written to: saved_model/model_cnn\\assets\n"
     ]
    }
   ],
   "source": [
    "model.save('saved_model/model_cnn')"
   ]
  },
  {
   "cell_type": "markdown",
   "metadata": {
    "colab_type": "text",
    "id": "FEUhOZ7rhM9X"
   },
   "source": [
    "## Load the Model"
   ]
  },
  {
   "cell_type": "code",
   "execution_count": 51,
   "metadata": {},
   "outputs": [],
   "source": [
    "model_reload = keras.models.load_model('saved_model/model_cnn')"
   ]
  }
 ],
 "metadata": {
  "anaconda-cloud": {},
  "celltoolbar": "Slideshow",
  "colab": {
   "name": "KaryoChimneyRock_FullyConnectedNN.ipynb",
   "provenance": []
  },
  "kernelspec": {
   "display_name": "Python 3",
   "language": "python",
   "name": "python3"
  },
  "language_info": {
   "codemirror_mode": {
    "name": "ipython",
    "version": 3
   },
   "file_extension": ".py",
   "mimetype": "text/x-python",
   "name": "python",
   "nbconvert_exporter": "python",
   "pygments_lexer": "ipython3",
   "version": "3.7.3"
  }
 },
 "nbformat": 4,
 "nbformat_minor": 1
}
