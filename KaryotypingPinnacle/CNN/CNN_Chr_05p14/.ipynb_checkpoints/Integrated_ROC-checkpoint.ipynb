{
 "cells": [
  {
   "cell_type": "code",
   "execution_count": 1,
   "metadata": {},
   "outputs": [
    {
     "name": "stderr",
     "output_type": "stream",
     "text": [
      "C:\\Anaconda3\\lib\\site-packages\\pandas\\compat\\_optional.py:138: UserWarning: Pandas requires version '2.7.0' or newer of 'numexpr' (version '2.6.9' currently installed).\n",
      "  warnings.warn(msg, UserWarning)\n"
     ]
    }
   ],
   "source": [
    "import numpy as np\n",
    "import pandas as pd\n",
    "import matplotlib.pyplot as plt\n",
    "\n",
    "from sklearn.metrics import classification_report, confusion_matrix, roc_curve, auc, accuracy_score\n",
    "\n",
    "import seaborn as sb"
   ]
  },
  {
   "cell_type": "code",
   "execution_count": 2,
   "metadata": {},
   "outputs": [],
   "source": [
    "chromConvert = {\n",
    "               'chr_05': 0, \n",
    "               'chr_5_p14_deletion': 1\n",
    "               }"
   ]
  },
  {
   "cell_type": "code",
   "execution_count": 3,
   "metadata": {},
   "outputs": [],
   "source": [
    "chromConvert_reverse = {\n",
    "                0: 'chr_05',\n",
    "                1: 'chr_5_p14_deletion'\n",
    "               }"
   ]
  },
  {
   "cell_type": "code",
   "execution_count": 4,
   "metadata": {},
   "outputs": [],
   "source": [
    "label = ['chr_05', 'chr_5_p14_deletion']\n",
    "\n",
    "label_convert = []\n",
    "\n",
    "for i in range(2):\n",
    "    label_convert.append(chromConvert_reverse[i])"
   ]
  },
  {
   "cell_type": "markdown",
   "metadata": {},
   "source": [
    "# Load test and predict values"
   ]
  },
  {
   "cell_type": "code",
   "execution_count": 5,
   "metadata": {},
   "outputs": [],
   "source": [
    "y_test_all = []\n",
    "y_predict_all = []\n",
    "y_predict_filtered_all = []"
   ]
  },
  {
   "cell_type": "code",
   "execution_count": 6,
   "metadata": {},
   "outputs": [],
   "source": [
    "for iterationNumber in range(5):\n",
    "    with open('data_y_test_value_iteration_' + str(iterationNumber) + '.npy', 'rb') as f_y_test:\n",
    "        y_test_all.append(np.load(f_y_test))\n",
    "        \n",
    "    with open('data_y_predict_value_iteration_' + str(iterationNumber) + '.npy', 'rb') as f_y_predict:\n",
    "        y_predict_all.append(np.load(f_y_predict))                             \n",
    "                        \n",
    "    with open('data_y_predict_filtered_value_iteration_' + str(iterationNumber) + '.npy', 'rb') as f_y_predict_filtered:\n",
    "        y_predict_filtered_all.append(np.load(f_y_predict_filtered))"
   ]
  },
  {
   "cell_type": "code",
   "execution_count": 7,
   "metadata": {},
   "outputs": [
    {
     "data": {
      "text/plain": [
       "(57, 2)"
      ]
     },
     "execution_count": 7,
     "metadata": {},
     "output_type": "execute_result"
    }
   ],
   "source": [
    "y_predict_all[0].shape"
   ]
  },
  {
   "cell_type": "code",
   "execution_count": 8,
   "metadata": {
    "scrolled": true
   },
   "outputs": [
    {
     "data": {
      "text/plain": [
       "[array([[9.9999809e-01, 1.0857953e-09],\n",
       "        [1.0182521e-04, 9.9994767e-01],\n",
       "        [9.9999499e-01, 5.3533995e-09],\n",
       "        [9.9998307e-01, 1.0322510e-08],\n",
       "        [9.7330350e-01, 8.0917351e-04],\n",
       "        [9.9999988e-01, 9.5494966e-12],\n",
       "        [9.9051172e-01, 4.6562636e-04],\n",
       "        [9.9994683e-01, 1.4003732e-07],\n",
       "        [9.9981993e-01, 1.6865775e-06],\n",
       "        [9.9999201e-01, 1.8969532e-08],\n",
       "        [9.9999845e-01, 9.4204811e-10],\n",
       "        [9.9999845e-01, 6.1877259e-10],\n",
       "        [9.9994290e-01, 7.0529573e-08],\n",
       "        [9.9990594e-01, 3.8022358e-07],\n",
       "        [9.9999738e-01, 3.3660970e-09],\n",
       "        [9.9999940e-01, 4.0559586e-10],\n",
       "        [9.9996650e-01, 1.0401471e-07],\n",
       "        [9.9985993e-01, 4.4490596e-07],\n",
       "        [9.9999821e-01, 1.1084426e-09],\n",
       "        [3.4540835e-01, 3.2899392e-01],\n",
       "        [4.0193386e-02, 7.9977041e-01],\n",
       "        [9.9999714e-01, 2.9466436e-09],\n",
       "        [9.9999988e-01, 1.2828701e-11],\n",
       "        [9.9996769e-01, 6.5017538e-08],\n",
       "        [9.9999571e-01, 2.6194849e-09],\n",
       "        [7.5188392e-01, 8.4035788e-03],\n",
       "        [9.9979693e-01, 2.1487094e-06],\n",
       "        [9.9999750e-01, 3.4653189e-09],\n",
       "        [9.9996746e-01, 1.0624074e-07],\n",
       "        [9.9999964e-01, 1.9498006e-10],\n",
       "        [9.9999845e-01, 2.1961675e-09],\n",
       "        [9.9972373e-01, 2.1795991e-06],\n",
       "        [9.9999511e-01, 9.4316333e-09],\n",
       "        [9.9996269e-01, 1.7676732e-07],\n",
       "        [9.9997222e-01, 6.0298497e-08],\n",
       "        [9.9999225e-01, 1.7795566e-08],\n",
       "        [9.9998975e-01, 1.5942778e-08],\n",
       "        [9.8956597e-01, 4.1327570e-04],\n",
       "        [9.9981397e-01, 8.6786844e-07],\n",
       "        [9.9985111e-01, 1.4439057e-06],\n",
       "        [9.9997520e-01, 7.4027376e-08],\n",
       "        [2.5871227e-06, 9.9999940e-01],\n",
       "        [1.9434670e-05, 9.9997497e-01],\n",
       "        [7.2616704e-06, 9.9999583e-01],\n",
       "        [2.5742996e-04, 9.9968791e-01],\n",
       "        [1.5411168e-01, 1.2491506e-01],\n",
       "        [1.0622060e-02, 9.3969673e-01],\n",
       "        [2.7715624e-04, 9.9976343e-01],\n",
       "        [1.2840525e-03, 9.9641269e-01],\n",
       "        [2.4922531e-06, 9.9999893e-01],\n",
       "        [1.5436722e-02, 9.6417767e-01],\n",
       "        [8.6552807e-04, 9.9824762e-01],\n",
       "        [2.6510557e-05, 9.9999225e-01],\n",
       "        [5.6467048e-10, 1.0000000e+00],\n",
       "        [2.5220388e-08, 1.0000000e+00],\n",
       "        [5.8853111e-06, 9.9999809e-01],\n",
       "        [2.1001440e-04, 9.9909437e-01]], dtype=float32),\n",
       " array([[9.9998987e-01, 1.6032859e-04],\n",
       "        [3.4176500e-04, 9.9997056e-01],\n",
       "        [9.3970960e-01, 4.4371966e-01],\n",
       "        [1.1767307e-01, 9.4820589e-01],\n",
       "        [9.9995792e-01, 5.3413660e-04],\n",
       "        [9.9999833e-01, 4.6428817e-05],\n",
       "        [9.9999988e-01, 3.8103992e-06],\n",
       "        [9.9748224e-01, 4.5059185e-02],\n",
       "        [9.9999952e-01, 8.4905769e-06],\n",
       "        [9.9890363e-01, 9.0873381e-03],\n",
       "        [1.0000000e+00, 6.5393061e-07],\n",
       "        [9.9999654e-01, 3.1878371e-05],\n",
       "        [9.9999869e-01, 2.3445657e-05],\n",
       "        [1.0000000e+00, 1.5482009e-08],\n",
       "        [1.0000000e+00, 2.7412873e-06],\n",
       "        [1.0000000e+00, 1.9932445e-06],\n",
       "        [9.9999988e-01, 1.7811938e-06],\n",
       "        [8.8586992e-01, 2.0118330e-01],\n",
       "        [1.0000000e+00, 3.1661401e-08],\n",
       "        [9.9996781e-01, 1.9507040e-04],\n",
       "        [1.0000000e+00, 9.5330512e-07],\n",
       "        [9.9994111e-01, 3.4670415e-04],\n",
       "        [9.9996614e-01, 1.1619169e-04],\n",
       "        [1.0000000e+00, 1.0779074e-08],\n",
       "        [1.0000000e+00, 5.5554079e-07],\n",
       "        [9.9999130e-01, 8.6815713e-04],\n",
       "        [9.9999988e-01, 2.5203328e-06],\n",
       "        [9.9991691e-01, 7.6060399e-04],\n",
       "        [1.0000000e+00, 2.8268837e-06],\n",
       "        [9.9996293e-01, 1.8252973e-03],\n",
       "        [9.9999940e-01, 2.3127142e-05],\n",
       "        [9.9744785e-01, 2.5903219e-02],\n",
       "        [1.0000000e+00, 4.0577669e-07],\n",
       "        [1.0000000e+00, 2.7154972e-09],\n",
       "        [1.0000000e+00, 9.1113475e-07],\n",
       "        [9.9995768e-01, 1.3779553e-04],\n",
       "        [9.9961579e-01, 4.5292289e-03],\n",
       "        [9.9999964e-01, 2.6690566e-05],\n",
       "        [9.9999940e-01, 2.2405269e-05],\n",
       "        [9.9999964e-01, 1.3648867e-05],\n",
       "        [2.5602963e-04, 9.9997199e-01],\n",
       "        [2.1934208e-07, 9.9999976e-01],\n",
       "        [3.6350924e-01, 8.6339849e-01],\n",
       "        [2.5496101e-02, 9.9728966e-01],\n",
       "        [2.3023725e-02, 9.9032497e-01],\n",
       "        [4.6899654e-06, 9.9999821e-01],\n",
       "        [4.5050122e-04, 9.9963331e-01],\n",
       "        [2.8854294e-02, 9.8646706e-01],\n",
       "        [1.7618182e-09, 1.0000000e+00],\n",
       "        [6.4444782e-12, 1.0000000e+00],\n",
       "        [4.8527517e-04, 9.9991226e-01],\n",
       "        [7.4613057e-02, 9.9639612e-01],\n",
       "        [9.9978322e-01, 3.6801889e-03],\n",
       "        [3.6459234e-05, 9.9998558e-01],\n",
       "        [1.1162093e-03, 9.9957389e-01]], dtype=float32),\n",
       " array([[9.9999166e-01, 2.2709117e-05],\n",
       "        [1.0000000e+00, 8.4183569e-08],\n",
       "        [9.9999917e-01, 8.4836156e-06],\n",
       "        [9.9378127e-01, 6.5119833e-02],\n",
       "        [9.3630797e-01, 1.7284913e-01],\n",
       "        [9.9999881e-01, 1.9955607e-05],\n",
       "        [9.9999428e-01, 3.9795203e-05],\n",
       "        [9.9999976e-01, 6.5078632e-07],\n",
       "        [1.0000000e+00, 2.2139170e-08],\n",
       "        [9.9808371e-01, 2.8575113e-02],\n",
       "        [9.9999976e-01, 2.4030066e-06],\n",
       "        [9.9999928e-01, 2.1758151e-06],\n",
       "        [9.9999905e-01, 3.6167121e-06],\n",
       "        [9.9999988e-01, 5.2600814e-07],\n",
       "        [1.0000000e+00, 1.0912006e-07],\n",
       "        [9.9999046e-01, 6.6388471e-05],\n",
       "        [1.0000000e+00, 4.7372279e-08],\n",
       "        [9.9998915e-01, 1.5415641e-04],\n",
       "        [9.9999881e-01, 7.3770580e-06],\n",
       "        [9.9998939e-01, 5.1869396e-05],\n",
       "        [9.9999845e-01, 1.0951139e-05],\n",
       "        [9.9859029e-01, 2.6749233e-02],\n",
       "        [6.5262651e-04, 9.9995244e-01],\n",
       "        [9.9994743e-01, 3.3397181e-04],\n",
       "        [1.0000000e+00, 7.4058826e-09],\n",
       "        [9.9998951e-01, 1.5627578e-05],\n",
       "        [9.9732947e-01, 1.1636513e-02],\n",
       "        [9.4884449e-01, 2.9513779e-01],\n",
       "        [5.6184619e-03, 9.9955052e-01],\n",
       "        [9.9996936e-01, 1.4304937e-04],\n",
       "        [9.9996650e-01, 1.1098010e-04],\n",
       "        [9.9997771e-01, 7.2459894e-05],\n",
       "        [9.9999976e-01, 2.9181879e-07],\n",
       "        [9.9987173e-01, 4.3575803e-04],\n",
       "        [9.9999869e-01, 3.0266542e-06],\n",
       "        [9.9969184e-01, 1.1614796e-03],\n",
       "        [9.9982184e-01, 6.4104545e-04],\n",
       "        [9.9999809e-01, 2.1874996e-06],\n",
       "        [9.9965405e-01, 7.6364266e-04],\n",
       "        [9.9999261e-01, 1.2367543e-05],\n",
       "        [7.8864268e-06, 9.9999988e-01],\n",
       "        [2.0591782e-05, 9.9999928e-01],\n",
       "        [2.2611539e-01, 9.7345567e-01],\n",
       "        [1.0962518e-02, 9.9979621e-01],\n",
       "        [9.9942774e-01, 2.7749396e-03],\n",
       "        [8.8328146e-04, 9.9995196e-01],\n",
       "        [4.1875588e-05, 9.9999988e-01],\n",
       "        [7.2448148e-04, 9.9999583e-01],\n",
       "        [9.9999332e-01, 1.9549510e-05],\n",
       "        [9.6079668e-07, 1.0000000e+00],\n",
       "        [7.5098741e-01, 9.4494313e-01],\n",
       "        [9.6010774e-01, 7.0907217e-01],\n",
       "        [3.5770228e-03, 9.9992979e-01],\n",
       "        [5.1049548e-01, 9.7607988e-01],\n",
       "        [4.5233401e-03, 9.9992990e-01]], dtype=float32),\n",
       " array([[9.99999523e-01, 5.35793220e-07],\n",
       "        [9.99700069e-01, 1.08045642e-04],\n",
       "        [4.01289389e-02, 7.65963793e-01],\n",
       "        [7.77221203e-01, 2.96957511e-02],\n",
       "        [9.99879479e-01, 6.87286520e-05],\n",
       "        [9.99992728e-01, 5.16848422e-06],\n",
       "        [1.00000000e+00, 3.41840263e-08],\n",
       "        [9.99995947e-01, 4.12686904e-06],\n",
       "        [9.99980807e-01, 7.52183223e-06],\n",
       "        [9.99977589e-01, 2.41909202e-05],\n",
       "        [9.99996662e-01, 2.32053594e-06],\n",
       "        [1.33271813e-01, 2.23560855e-01],\n",
       "        [5.88619888e-01, 1.12108052e-01],\n",
       "        [1.00000000e+00, 2.13028417e-09],\n",
       "        [9.06359375e-01, 3.03780530e-02],\n",
       "        [4.50849114e-03, 9.31999743e-01],\n",
       "        [9.99991655e-01, 1.19929391e-05],\n",
       "        [9.07896012e-02, 7.62458205e-01],\n",
       "        [9.99999285e-01, 1.46458092e-06],\n",
       "        [9.99684572e-01, 1.92596068e-04],\n",
       "        [1.00000000e+00, 1.42222989e-08],\n",
       "        [9.99998569e-01, 2.70439114e-06],\n",
       "        [9.99997139e-01, 2.25495887e-06],\n",
       "        [6.24528408e-01, 1.40717521e-01],\n",
       "        [9.97917950e-01, 6.32182986e-04],\n",
       "        [1.00000000e+00, 7.69169173e-10],\n",
       "        [9.99978304e-01, 3.27791386e-05],\n",
       "        [9.99998927e-01, 5.61493744e-06],\n",
       "        [9.99921441e-01, 1.09854671e-04],\n",
       "        [9.99961972e-01, 6.25794855e-05],\n",
       "        [1.00000000e+00, 1.72672998e-07],\n",
       "        [9.98120010e-01, 1.22546765e-03],\n",
       "        [9.99995708e-01, 7.83224368e-06],\n",
       "        [9.99999523e-01, 9.54483198e-07],\n",
       "        [9.99774158e-01, 3.05022462e-04],\n",
       "        [9.99991179e-01, 1.46020975e-05],\n",
       "        [9.99999881e-01, 4.96151415e-07],\n",
       "        [9.99996424e-01, 9.65330401e-06],\n",
       "        [9.99999166e-01, 3.92042921e-06],\n",
       "        [9.99800980e-01, 2.07957433e-04],\n",
       "        [7.57735491e-01, 3.98858599e-02],\n",
       "        [6.62885886e-03, 9.48948205e-01],\n",
       "        [3.19676693e-15, 1.00000000e+00],\n",
       "        [9.99997973e-01, 1.12749740e-06],\n",
       "        [3.82124749e-03, 9.21540260e-01],\n",
       "        [8.66414121e-06, 9.99926925e-01],\n",
       "        [1.99057627e-04, 9.98328865e-01],\n",
       "        [3.95532995e-01, 2.09642038e-01],\n",
       "        [8.60390603e-04, 9.75086331e-01],\n",
       "        [4.50595170e-01, 3.15584779e-01],\n",
       "        [3.97261053e-01, 3.23032558e-01],\n",
       "        [1.83965324e-06, 9.99925256e-01],\n",
       "        [9.97176176e-06, 9.99439657e-01],\n",
       "        [2.02448387e-02, 8.80578220e-01],\n",
       "        [1.05854258e-01, 7.94186831e-01]], dtype=float32),\n",
       " array([[9.99985933e-01, 1.49427851e-05],\n",
       "        [1.84205070e-03, 9.98964190e-01],\n",
       "        [9.99999881e-01, 9.66535829e-09],\n",
       "        [1.00000000e+00, 5.58314313e-14],\n",
       "        [9.99999523e-01, 3.62781776e-07],\n",
       "        [9.99999762e-01, 1.56623884e-07],\n",
       "        [1.00000000e+00, 3.41031248e-09],\n",
       "        [1.00000000e+00, 1.36295133e-11],\n",
       "        [1.00000000e+00, 3.45994988e-09],\n",
       "        [9.99992013e-01, 8.91391846e-06],\n",
       "        [9.99992371e-01, 4.55619602e-06],\n",
       "        [1.00000000e+00, 5.72459191e-09],\n",
       "        [1.00000000e+00, 7.85063037e-09],\n",
       "        [1.00000000e+00, 2.53034316e-10],\n",
       "        [1.00000000e+00, 5.33018962e-09],\n",
       "        [9.98732030e-01, 1.57025829e-03],\n",
       "        [9.99984264e-01, 1.39654094e-05],\n",
       "        [9.99999881e-01, 1.16879534e-07],\n",
       "        [1.00000000e+00, 2.67970592e-21],\n",
       "        [1.00000000e+00, 4.88045985e-15],\n",
       "        [9.99971151e-01, 7.84601798e-05],\n",
       "        [9.99997497e-01, 1.11444660e-06],\n",
       "        [1.00000000e+00, 1.24900634e-09],\n",
       "        [1.00000000e+00, 5.96862891e-13],\n",
       "        [1.00000000e+00, 5.52159555e-13],\n",
       "        [1.00000000e+00, 3.56499008e-09],\n",
       "        [9.99999762e-01, 5.02470243e-08],\n",
       "        [9.99999642e-01, 8.18483556e-08],\n",
       "        [9.99981046e-01, 1.30487260e-05],\n",
       "        [9.99976039e-01, 1.95816410e-05],\n",
       "        [9.99999642e-01, 2.41458622e-07],\n",
       "        [9.99999881e-01, 6.60905570e-08],\n",
       "        [9.99999642e-01, 1.41779680e-07],\n",
       "        [9.98366296e-01, 2.60706572e-03],\n",
       "        [1.00000000e+00, 3.90100202e-10],\n",
       "        [1.00000000e+00, 1.61811109e-09],\n",
       "        [9.99999762e-01, 6.75985135e-08],\n",
       "        [1.00000000e+00, 5.76436121e-10],\n",
       "        [9.99999285e-01, 1.13754680e-07],\n",
       "        [1.00000000e+00, 1.21534438e-09],\n",
       "        [1.22495136e-09, 1.00000000e+00],\n",
       "        [3.11752856e-02, 9.81944203e-01],\n",
       "        [1.75236821e-08, 1.00000000e+00],\n",
       "        [8.17424208e-02, 9.65800405e-01],\n",
       "        [2.41928943e-03, 9.98514116e-01],\n",
       "        [2.04413794e-02, 9.89366174e-01],\n",
       "        [6.53230403e-09, 1.00000000e+00],\n",
       "        [6.87973341e-07, 9.99999762e-01],\n",
       "        [8.98091983e-08, 1.00000000e+00],\n",
       "        [6.28451380e-05, 9.99958754e-01],\n",
       "        [6.51186585e-01, 5.63921094e-01],\n",
       "        [4.39541452e-02, 9.74769711e-01],\n",
       "        [1.01101100e-02, 9.95299041e-01],\n",
       "        [6.56739330e-10, 1.00000000e+00],\n",
       "        [4.88821836e-03, 9.97943819e-01]], dtype=float32)]"
      ]
     },
     "execution_count": 8,
     "metadata": {},
     "output_type": "execute_result"
    }
   ],
   "source": [
    "y_predict_all"
   ]
  },
  {
   "cell_type": "code",
   "execution_count": 9,
   "metadata": {},
   "outputs": [],
   "source": [
    "y_test_concatenate_list = []\n",
    "y_predict_concatenate_list = []\n",
    "y_predict_filtered_concatenate_list = []"
   ]
  },
  {
   "cell_type": "code",
   "execution_count": 10,
   "metadata": {},
   "outputs": [],
   "source": [
    "for i in range(5):\n",
    "    y_test_concatenate_list.extend(list(y_test_all[i]))\n",
    "    y_predict_concatenate_list.extend(list(y_predict_all[i]))\n",
    "    y_predict_filtered_concatenate_list.extend(list(y_predict_filtered_all[i]))"
   ]
  },
  {
   "cell_type": "code",
   "execution_count": 11,
   "metadata": {},
   "outputs": [
    {
     "data": {
      "text/plain": [
       "(57, 2)"
      ]
     },
     "execution_count": 11,
     "metadata": {},
     "output_type": "execute_result"
    }
   ],
   "source": [
    "y_predict_all[0].shape"
   ]
  },
  {
   "cell_type": "code",
   "execution_count": 12,
   "metadata": {},
   "outputs": [
    {
     "data": {
      "text/plain": [
       "['chr_05', 'chr_5_p14_deletion']"
      ]
     },
     "execution_count": 12,
     "metadata": {},
     "output_type": "execute_result"
    }
   ],
   "source": [
    "label_convert"
   ]
  },
  {
   "cell_type": "code",
   "execution_count": 13,
   "metadata": {},
   "outputs": [
    {
     "data": {
      "text/plain": [
       "277"
      ]
     },
     "execution_count": 13,
     "metadata": {},
     "output_type": "execute_result"
    }
   ],
   "source": [
    "len(y_test_concatenate_list)"
   ]
  },
  {
   "cell_type": "code",
   "execution_count": 14,
   "metadata": {},
   "outputs": [
    {
     "data": {
      "text/plain": [
       "277"
      ]
     },
     "execution_count": 14,
     "metadata": {},
     "output_type": "execute_result"
    }
   ],
   "source": [
    "len(y_predict_filtered_concatenate_list)"
   ]
  },
  {
   "cell_type": "code",
   "execution_count": 15,
   "metadata": {},
   "outputs": [
    {
     "data": {
      "text/plain": [
       "277"
      ]
     },
     "execution_count": 15,
     "metadata": {},
     "output_type": "execute_result"
    }
   ],
   "source": [
    "len(y_predict_concatenate_list)"
   ]
  },
  {
   "cell_type": "markdown",
   "metadata": {},
   "source": [
    "# Classification Report"
   ]
  },
  {
   "cell_type": "markdown",
   "metadata": {},
   "source": [
    "## Accuracy"
   ]
  },
  {
   "cell_type": "code",
   "execution_count": 16,
   "metadata": {},
   "outputs": [
    {
     "name": "stdout",
     "output_type": "stream",
     "text": [
      "Accuracy is  0.9205776173285198\n"
     ]
    }
   ],
   "source": [
    "acc = accuracy_score(y_test_concatenate_list, y_predict_filtered_concatenate_list, normalize=True, sample_weight=None)\n",
    "print('Accuracy is ', acc)"
   ]
  },
  {
   "cell_type": "markdown",
   "metadata": {},
   "source": [
    "## Precision, Recall, and F1"
   ]
  },
  {
   "cell_type": "code",
   "execution_count": 17,
   "metadata": {},
   "outputs": [
    {
     "name": "stdout",
     "output_type": "stream",
     "text": [
      "                    precision    recall  f1-score   support\n",
      "\n",
      "            chr_05       0.95      0.95      0.95       201\n",
      "chr_5_p14_deletion       0.86      0.86      0.86        76\n",
      "\n",
      "         micro avg       0.92      0.92      0.92       277\n",
      "         macro avg       0.90      0.90      0.90       277\n",
      "      weighted avg       0.92      0.92      0.92       277\n",
      "\n"
     ]
    }
   ],
   "source": [
    "performanceReport = classification_report(y_test_concatenate_list, y_predict_filtered_concatenate_list, \n",
    "                                          target_names=label_convert)\n",
    "\n",
    "\n",
    "print(performanceReport)"
   ]
  },
  {
   "cell_type": "markdown",
   "metadata": {},
   "source": [
    "## Confusion Matrix"
   ]
  },
  {
   "cell_type": "code",
   "execution_count": 18,
   "metadata": {},
   "outputs": [
    {
     "data": {
      "text/html": [
       "<div>\n",
       "<style scoped>\n",
       "    .dataframe tbody tr th:only-of-type {\n",
       "        vertical-align: middle;\n",
       "    }\n",
       "\n",
       "    .dataframe tbody tr th {\n",
       "        vertical-align: top;\n",
       "    }\n",
       "\n",
       "    .dataframe thead th {\n",
       "        text-align: right;\n",
       "    }\n",
       "</style>\n",
       "<table border=\"1\" class=\"dataframe\">\n",
       "  <thead>\n",
       "    <tr style=\"text-align: right;\">\n",
       "      <th></th>\n",
       "      <th>chr_05</th>\n",
       "      <th>chr_5_p14_deletion</th>\n",
       "    </tr>\n",
       "  </thead>\n",
       "  <tbody>\n",
       "    <tr>\n",
       "      <th>chr_05</th>\n",
       "      <td>190</td>\n",
       "      <td>11</td>\n",
       "    </tr>\n",
       "    <tr>\n",
       "      <th>chr_5_p14_deletion</th>\n",
       "      <td>11</td>\n",
       "      <td>65</td>\n",
       "    </tr>\n",
       "  </tbody>\n",
       "</table>\n",
       "</div>"
      ],
      "text/plain": [
       "                    chr_05  chr_5_p14_deletion\n",
       "chr_05                 190                  11\n",
       "chr_5_p14_deletion      11                  65"
      ]
     },
     "execution_count": 18,
     "metadata": {},
     "output_type": "execute_result"
    }
   ],
   "source": [
    "cm = np.array(confusion_matrix(y_test_concatenate_list, y_predict_filtered_concatenate_list))\n",
    "confusion = pd.DataFrame(cm, index=label_convert,\n",
    "                        columns=label_convert)\n",
    "confusion.to_csv('ConfusionMatrix_Combination_of_CrossValidation_KaryoType_CNN.csv')\n",
    "confusion"
   ]
  },
  {
   "cell_type": "markdown",
   "metadata": {},
   "source": [
    "### 3.10.4 Rate of Confusion Matrix"
   ]
  },
  {
   "cell_type": "markdown",
   "metadata": {},
   "source": [
    "### 3.10.5 Recall (查全率)，(Sensitivity Rate)"
   ]
  },
  {
   "cell_type": "code",
   "execution_count": 19,
   "metadata": {
    "scrolled": true
   },
   "outputs": [],
   "source": [
    "subtotal = [0] * 2  \n",
    "for item in y_test_concatenate_list:\n",
    "    subtotal[item] = subtotal[item] + 1"
   ]
  },
  {
   "cell_type": "markdown",
   "metadata": {},
   "source": [
    "#### predict number divided by y test"
   ]
  },
  {
   "cell_type": "code",
   "execution_count": 20,
   "metadata": {},
   "outputs": [],
   "source": [
    "cm_r = []\n",
    "for i in range(2):\n",
    "    cm_r.append(cm[i]/subtotal[i])"
   ]
  },
  {
   "cell_type": "code",
   "execution_count": 21,
   "metadata": {},
   "outputs": [
    {
     "data": {
      "text/html": [
       "<div>\n",
       "<style scoped>\n",
       "    .dataframe tbody tr th:only-of-type {\n",
       "        vertical-align: middle;\n",
       "    }\n",
       "\n",
       "    .dataframe tbody tr th {\n",
       "        vertical-align: top;\n",
       "    }\n",
       "\n",
       "    .dataframe thead th {\n",
       "        text-align: right;\n",
       "    }\n",
       "</style>\n",
       "<table border=\"1\" class=\"dataframe\">\n",
       "  <thead>\n",
       "    <tr style=\"text-align: right;\">\n",
       "      <th></th>\n",
       "      <th>chr_05</th>\n",
       "      <th>chr_5_p14_deletion</th>\n",
       "    </tr>\n",
       "  </thead>\n",
       "  <tbody>\n",
       "    <tr>\n",
       "      <th>chr_05</th>\n",
       "      <td>0.945274</td>\n",
       "      <td>0.054726</td>\n",
       "    </tr>\n",
       "    <tr>\n",
       "      <th>chr_5_p14_deletion</th>\n",
       "      <td>0.144737</td>\n",
       "      <td>0.855263</td>\n",
       "    </tr>\n",
       "  </tbody>\n",
       "</table>\n",
       "</div>"
      ],
      "text/plain": [
       "                      chr_05  chr_5_p14_deletion\n",
       "chr_05              0.945274            0.054726\n",
       "chr_5_p14_deletion  0.144737            0.855263"
      ]
     },
     "execution_count": 21,
     "metadata": {},
     "output_type": "execute_result"
    }
   ],
   "source": [
    "confusion_r = pd.DataFrame(cm_r, index=label_convert,\n",
    "                        columns=label_convert)\n",
    "confusion_r.to_csv('ConfusionMatrix_Recall_Integration_CNN.csv')\n",
    "confusion_r"
   ]
  },
  {
   "cell_type": "markdown",
   "metadata": {},
   "source": [
    "### 3.10.6 Precision (查准率）"
   ]
  },
  {
   "cell_type": "code",
   "execution_count": 22,
   "metadata": {},
   "outputs": [],
   "source": [
    "subtotal_predict = [0] * 2 \n",
    "for item in y_predict_filtered_concatenate_list:\n",
    "    subtotal_predict[item] = subtotal_predict[item] + 1"
   ]
  },
  {
   "cell_type": "markdown",
   "metadata": {},
   "source": [
    "#### predict number divided by y predicted"
   ]
  },
  {
   "cell_type": "code",
   "execution_count": 23,
   "metadata": {},
   "outputs": [],
   "source": [
    "cm_p = []\n",
    "for i in range(2):\n",
    "    cm_p.append(cm[:,i]/subtotal_predict[i])"
   ]
  },
  {
   "cell_type": "code",
   "execution_count": 24,
   "metadata": {},
   "outputs": [
    {
     "data": {
      "text/html": [
       "<div>\n",
       "<style scoped>\n",
       "    .dataframe tbody tr th:only-of-type {\n",
       "        vertical-align: middle;\n",
       "    }\n",
       "\n",
       "    .dataframe tbody tr th {\n",
       "        vertical-align: top;\n",
       "    }\n",
       "\n",
       "    .dataframe thead th {\n",
       "        text-align: right;\n",
       "    }\n",
       "</style>\n",
       "<table border=\"1\" class=\"dataframe\">\n",
       "  <thead>\n",
       "    <tr style=\"text-align: right;\">\n",
       "      <th></th>\n",
       "      <th>chr_05</th>\n",
       "      <th>chr_5_p14_deletion</th>\n",
       "    </tr>\n",
       "  </thead>\n",
       "  <tbody>\n",
       "    <tr>\n",
       "      <th>chr_05</th>\n",
       "      <td>0.945274</td>\n",
       "      <td>0.054726</td>\n",
       "    </tr>\n",
       "    <tr>\n",
       "      <th>chr_5_p14_deletion</th>\n",
       "      <td>0.144737</td>\n",
       "      <td>0.855263</td>\n",
       "    </tr>\n",
       "  </tbody>\n",
       "</table>\n",
       "</div>"
      ],
      "text/plain": [
       "                      chr_05  chr_5_p14_deletion\n",
       "chr_05              0.945274            0.054726\n",
       "chr_5_p14_deletion  0.144737            0.855263"
      ]
     },
     "execution_count": 24,
     "metadata": {},
     "output_type": "execute_result"
    }
   ],
   "source": [
    "confusion_p = pd.DataFrame(cm_p, index=label_convert,\n",
    "                        columns=label_convert)\n",
    "confusion_p.to_csv('ConfusionMatrix_Precision_Integration_CNN.csv')\n",
    "confusion_p"
   ]
  },
  {
   "cell_type": "markdown",
   "metadata": {},
   "source": [
    "#### Heat Map: Number"
   ]
  },
  {
   "cell_type": "code",
   "execution_count": 25,
   "metadata": {
    "scrolled": false
   },
   "outputs": [
    {
     "data": {
      "image/png": "[encoded data removed]",
      "text/plain": [
       "<Figure size 2160x1728 with 2 Axes>"
      ]
     },
     "metadata": {
      "needs_background": "light"
     },
     "output_type": "display_data"
    }
   ],
   "source": [
    "plt.figure(figsize=(30, 24))\n",
    "heat_map = sb.heatmap(confusion, annot=True,  fmt='g',# It's a Seaborn function\n",
    "                      cmap='coolwarm', \n",
    "                      xticklabels=confusion.columns, yticklabels=confusion.index, \n",
    "                      linewidths=.5, \n",
    "                      annot_kws={\"size\": 50})\n",
    "sb.set(font_scale = 4)"
   ]
  },
  {
   "cell_type": "markdown",
   "metadata": {},
   "source": [
    "#### Heat Map of Recall: Rate (important!!!)"
   ]
  },
  {
   "cell_type": "code",
   "execution_count": 26,
   "metadata": {
    "scrolled": false
   },
   "outputs": [
    {
     "data": {
      "image/png": "[encoded data removed]",
      "text/plain": [
       "<Figure size 2160x1728 with 2 Axes>"
      ]
     },
     "metadata": {},
     "output_type": "display_data"
    }
   ],
   "source": [
    "plt.figure(figsize=(30, 24))\n",
    "heat_map_r = sb.heatmap(confusion_r, annot=True,  # It's a Seaborn function\n",
    "                      cmap='coolwarm', \n",
    "                      xticklabels=confusion.columns, yticklabels=confusion.index, \n",
    "                      linewidths=1, \n",
    "                      annot_kws={\"size\": 50})\n",
    "sb.set(font_scale = 4)"
   ]
  },
  {
   "cell_type": "code",
   "execution_count": 27,
   "metadata": {},
   "outputs": [
    {
     "data": {
      "image/png": "[encoded data removed]",
      "text/plain": [
       "<Figure size 2160x1728 with 2 Axes>"
      ]
     },
     "metadata": {},
     "output_type": "display_data"
    }
   ],
   "source": [
    "plt.figure(figsize=(30, 24))\n",
    "heat_map_p = sb.heatmap(confusion_p, annot=True,  # It's a Seaborn function\n",
    "                      cmap='coolwarm', \n",
    "                      xticklabels=confusion.columns, yticklabels=confusion.index, \n",
    "                      linewidths=1, \n",
    "                      annot_kws={\"size\": 50})\n",
    "sb.set(font_scale = 4)"
   ]
  },
  {
   "cell_type": "code",
   "execution_count": 28,
   "metadata": {},
   "outputs": [],
   "source": [
    "fig = heat_map.get_figure()    \n",
    "fig.savefig('Heatmap_Combination.png', dpi=400)"
   ]
  },
  {
   "cell_type": "code",
   "execution_count": 29,
   "metadata": {},
   "outputs": [],
   "source": [
    "fig_r = heat_map_r.get_figure()    \n",
    "fig_r.savefig('Heatmap_Recall_Combination.png', dpi=400)"
   ]
  },
  {
   "cell_type": "code",
   "execution_count": 30,
   "metadata": {},
   "outputs": [],
   "source": [
    "fig_p = heat_map_p.get_figure()    \n",
    "fig_p.savefig('Heatmap_Precision_Combination.png', dpi=400)"
   ]
  },
  {
   "cell_type": "markdown",
   "metadata": {},
   "source": [
    "# ROC Curve"
   ]
  },
  {
   "cell_type": "code",
   "execution_count": 31,
   "metadata": {},
   "outputs": [
    {
     "data": {
      "text/plain": [
       "array([[9.99998093e-01, 1.08579534e-09],\n",
       "       [1.01825208e-04, 9.99947667e-01],\n",
       "       [9.99994993e-01, 5.35339950e-09],\n",
       "       [9.99983072e-01, 1.03225100e-08],\n",
       "       [9.73303497e-01, 8.09173507e-04],\n",
       "       [9.99999881e-01, 9.54949661e-12],\n",
       "       [9.90511715e-01, 4.65626363e-04],\n",
       "       [9.99946833e-01, 1.40037315e-07],\n",
       "       [9.99819934e-01, 1.68657755e-06],\n",
       "       [9.99992013e-01, 1.89695317e-08],\n",
       "       [9.99998450e-01, 9.42048106e-10],\n",
       "       [9.99998450e-01, 6.18772589e-10],\n",
       "       [9.99942899e-01, 7.05295733e-08],\n",
       "       [9.99905944e-01, 3.80223582e-07],\n",
       "       [9.99997377e-01, 3.36609696e-09],\n",
       "       [9.99999404e-01, 4.05595862e-10],\n",
       "       [9.99966502e-01, 1.04014710e-07],\n",
       "       [9.99859929e-01, 4.44905965e-07],\n",
       "       [9.99998212e-01, 1.10844256e-09],\n",
       "       [3.45408350e-01, 3.28993917e-01],\n",
       "       [4.01933864e-02, 7.99770415e-01],\n",
       "       [9.99997139e-01, 2.94664360e-09],\n",
       "       [9.99999881e-01, 1.28287008e-11],\n",
       "       [9.99967694e-01, 6.50175380e-08],\n",
       "       [9.99995708e-01, 2.61948485e-09],\n",
       "       [7.51883924e-01, 8.40357877e-03],\n",
       "       [9.99796927e-01, 2.14870943e-06],\n",
       "       [9.99997497e-01, 3.46531892e-09],\n",
       "       [9.99967456e-01, 1.06240741e-07],\n",
       "       [9.99999642e-01, 1.94980060e-10],\n",
       "       [9.99998450e-01, 2.19616747e-09],\n",
       "       [9.99723732e-01, 2.17959905e-06],\n",
       "       [9.99995112e-01, 9.43163325e-09],\n",
       "       [9.99962687e-01, 1.76767315e-07],\n",
       "       [9.99972224e-01, 6.02984969e-08],\n",
       "       [9.99992251e-01, 1.77955659e-08],\n",
       "       [9.99989748e-01, 1.59427778e-08],\n",
       "       [9.89565969e-01, 4.13275702e-04],\n",
       "       [9.99813974e-01, 8.67868437e-07],\n",
       "       [9.99851108e-01, 1.44390572e-06],\n",
       "       [9.99975204e-01, 7.40273762e-08],\n",
       "       [2.58712271e-06, 9.99999404e-01],\n",
       "       [1.94346703e-05, 9.99974966e-01],\n",
       "       [7.26167036e-06, 9.99995828e-01],\n",
       "       [2.57429958e-04, 9.99687910e-01],\n",
       "       [1.54111683e-01, 1.24915063e-01],\n",
       "       [1.06220599e-02, 9.39696729e-01],\n",
       "       [2.77156243e-04, 9.99763429e-01],\n",
       "       [1.28405250e-03, 9.96412694e-01],\n",
       "       [2.49225309e-06, 9.99998927e-01],\n",
       "       [1.54367220e-02, 9.64177668e-01],\n",
       "       [8.65528069e-04, 9.98247623e-01],\n",
       "       [2.65105573e-05, 9.99992251e-01],\n",
       "       [5.64670477e-10, 1.00000000e+00],\n",
       "       [2.52203876e-08, 1.00000000e+00],\n",
       "       [5.88531111e-06, 9.99998093e-01],\n",
       "       [2.10014405e-04, 9.99094367e-01],\n",
       "       [9.99989867e-01, 1.60328593e-04],\n",
       "       [3.41765000e-04, 9.99970555e-01],\n",
       "       [9.39709604e-01, 4.43719655e-01],\n",
       "       [1.17673069e-01, 9.48205888e-01],\n",
       "       [9.99957919e-01, 5.34136605e-04],\n",
       "       [9.99998331e-01, 4.64288169e-05],\n",
       "       [9.99999881e-01, 3.81039922e-06],\n",
       "       [9.97482240e-01, 4.50591855e-02],\n",
       "       [9.99999523e-01, 8.49057687e-06],\n",
       "       [9.98903632e-01, 9.08733811e-03],\n",
       "       [1.00000000e+00, 6.53930613e-07],\n",
       "       [9.99996543e-01, 3.18783714e-05],\n",
       "       [9.99998689e-01, 2.34456566e-05],\n",
       "       [1.00000000e+00, 1.54820086e-08],\n",
       "       [1.00000000e+00, 2.74128729e-06],\n",
       "       [1.00000000e+00, 1.99324450e-06],\n",
       "       [9.99999881e-01, 1.78119376e-06],\n",
       "       [8.85869920e-01, 2.01183304e-01],\n",
       "       [1.00000000e+00, 3.16614006e-08],\n",
       "       [9.99967813e-01, 1.95070403e-04],\n",
       "       [1.00000000e+00, 9.53305118e-07],\n",
       "       [9.99941111e-01, 3.46704153e-04],\n",
       "       [9.99966145e-01, 1.16191688e-04],\n",
       "       [1.00000000e+00, 1.07790736e-08],\n",
       "       [1.00000000e+00, 5.55540794e-07],\n",
       "       [9.99991298e-01, 8.68157134e-04],\n",
       "       [9.99999881e-01, 2.52033283e-06],\n",
       "       [9.99916911e-01, 7.60603987e-04],\n",
       "       [1.00000000e+00, 2.82688370e-06],\n",
       "       [9.99962926e-01, 1.82529725e-03],\n",
       "       [9.99999404e-01, 2.31271424e-05],\n",
       "       [9.97447848e-01, 2.59032194e-02],\n",
       "       [1.00000000e+00, 4.05776689e-07],\n",
       "       [1.00000000e+00, 2.71549716e-09],\n",
       "       [1.00000000e+00, 9.11134748e-07],\n",
       "       [9.99957681e-01, 1.37795534e-04],\n",
       "       [9.99615788e-01, 4.52922890e-03],\n",
       "       [9.99999642e-01, 2.66905663e-05],\n",
       "       [9.99999404e-01, 2.24052692e-05],\n",
       "       [9.99999642e-01, 1.36488670e-05],\n",
       "       [2.56029627e-04, 9.99971986e-01],\n",
       "       [2.19342084e-07, 9.99999762e-01],\n",
       "       [3.63509238e-01, 8.63398492e-01],\n",
       "       [2.54961010e-02, 9.97289658e-01],\n",
       "       [2.30237246e-02, 9.90324974e-01],\n",
       "       [4.68996541e-06, 9.99998212e-01],\n",
       "       [4.50501218e-04, 9.99633312e-01],\n",
       "       [2.88542937e-02, 9.86467063e-01],\n",
       "       [1.76181825e-09, 1.00000000e+00],\n",
       "       [6.44447820e-12, 1.00000000e+00],\n",
       "       [4.85275174e-04, 9.99912262e-01],\n",
       "       [7.46130571e-02, 9.96396124e-01],\n",
       "       [9.99783218e-01, 3.68018891e-03],\n",
       "       [3.64592343e-05, 9.99985576e-01],\n",
       "       [1.11620931e-03, 9.99573886e-01],\n",
       "       [9.99991655e-01, 2.27091168e-05],\n",
       "       [1.00000000e+00, 8.41835686e-08],\n",
       "       [9.99999166e-01, 8.48361560e-06],\n",
       "       [9.93781269e-01, 6.51198328e-02],\n",
       "       [9.36307967e-01, 1.72849134e-01],\n",
       "       [9.99998808e-01, 1.99556071e-05],\n",
       "       [9.99994278e-01, 3.97952026e-05],\n",
       "       [9.99999762e-01, 6.50786319e-07],\n",
       "       [1.00000000e+00, 2.21391705e-08],\n",
       "       [9.98083711e-01, 2.85751130e-02],\n",
       "       [9.99999762e-01, 2.40300665e-06],\n",
       "       [9.99999285e-01, 2.17581510e-06],\n",
       "       [9.99999046e-01, 3.61671209e-06],\n",
       "       [9.99999881e-01, 5.26008137e-07],\n",
       "       [1.00000000e+00, 1.09120059e-07],\n",
       "       [9.99990463e-01, 6.63884712e-05],\n",
       "       [1.00000000e+00, 4.73722785e-08],\n",
       "       [9.99989152e-01, 1.54156412e-04],\n",
       "       [9.99998808e-01, 7.37705795e-06],\n",
       "       [9.99989390e-01, 5.18693960e-05],\n",
       "       [9.99998450e-01, 1.09511393e-05],\n",
       "       [9.98590291e-01, 2.67492328e-02],\n",
       "       [6.52626506e-04, 9.99952435e-01],\n",
       "       [9.99947429e-01, 3.33971810e-04],\n",
       "       [1.00000000e+00, 7.40588257e-09],\n",
       "       [9.99989510e-01, 1.56275783e-05],\n",
       "       [9.97329473e-01, 1.16365133e-02],\n",
       "       [9.48844492e-01, 2.95137793e-01],\n",
       "       [5.61846187e-03, 9.99550521e-01],\n",
       "       [9.99969363e-01, 1.43049372e-04],\n",
       "       [9.99966502e-01, 1.10980101e-04],\n",
       "       [9.99977708e-01, 7.24598940e-05],\n",
       "       [9.99999762e-01, 2.91818793e-07],\n",
       "       [9.99871731e-01, 4.35758033e-04],\n",
       "       [9.99998689e-01, 3.02665421e-06],\n",
       "       [9.99691844e-01, 1.16147962e-03],\n",
       "       [9.99821842e-01, 6.41045452e-04],\n",
       "       [9.99998093e-01, 2.18749960e-06],\n",
       "       [9.99654055e-01, 7.63642660e-04],\n",
       "       [9.99992609e-01, 1.23675427e-05],\n",
       "       [7.88642683e-06, 9.99999881e-01],\n",
       "       [2.05917822e-05, 9.99999285e-01],\n",
       "       [2.26115391e-01, 9.73455667e-01],\n",
       "       [1.09625179e-02, 9.99796212e-01],\n",
       "       [9.99427736e-01, 2.77493964e-03],\n",
       "       [8.83281464e-04, 9.99951959e-01],\n",
       "       [4.18755881e-05, 9.99999881e-01],\n",
       "       [7.24481477e-04, 9.99995828e-01],\n",
       "       [9.99993324e-01, 1.95495104e-05],\n",
       "       [9.60796683e-07, 1.00000000e+00],\n",
       "       [7.50987411e-01, 9.44943130e-01],\n",
       "       [9.60107744e-01, 7.09072173e-01],\n",
       "       [3.57702281e-03, 9.99929786e-01],\n",
       "       [5.10495484e-01, 9.76079881e-01],\n",
       "       [4.52334015e-03, 9.99929905e-01],\n",
       "       [9.99999523e-01, 5.35793220e-07],\n",
       "       [9.99700069e-01, 1.08045642e-04],\n",
       "       [4.01289389e-02, 7.65963793e-01],\n",
       "       [7.77221203e-01, 2.96957511e-02],\n",
       "       [9.99879479e-01, 6.87286520e-05],\n",
       "       [9.99992728e-01, 5.16848422e-06],\n",
       "       [1.00000000e+00, 3.41840263e-08],\n",
       "       [9.99995947e-01, 4.12686904e-06],\n",
       "       [9.99980807e-01, 7.52183223e-06],\n",
       "       [9.99977589e-01, 2.41909202e-05],\n",
       "       [9.99996662e-01, 2.32053594e-06],\n",
       "       [1.33271813e-01, 2.23560855e-01],\n",
       "       [5.88619888e-01, 1.12108052e-01],\n",
       "       [1.00000000e+00, 2.13028417e-09],\n",
       "       [9.06359375e-01, 3.03780530e-02],\n",
       "       [4.50849114e-03, 9.31999743e-01],\n",
       "       [9.99991655e-01, 1.19929391e-05],\n",
       "       [9.07896012e-02, 7.62458205e-01],\n",
       "       [9.99999285e-01, 1.46458092e-06],\n",
       "       [9.99684572e-01, 1.92596068e-04],\n",
       "       [1.00000000e+00, 1.42222989e-08],\n",
       "       [9.99998569e-01, 2.70439114e-06],\n",
       "       [9.99997139e-01, 2.25495887e-06],\n",
       "       [6.24528408e-01, 1.40717521e-01],\n",
       "       [9.97917950e-01, 6.32182986e-04],\n",
       "       [1.00000000e+00, 7.69169173e-10],\n",
       "       [9.99978304e-01, 3.27791386e-05],\n",
       "       [9.99998927e-01, 5.61493744e-06],\n",
       "       [9.99921441e-01, 1.09854671e-04],\n",
       "       [9.99961972e-01, 6.25794855e-05],\n",
       "       [1.00000000e+00, 1.72672998e-07],\n",
       "       [9.98120010e-01, 1.22546765e-03],\n",
       "       [9.99995708e-01, 7.83224368e-06],\n",
       "       [9.99999523e-01, 9.54483198e-07],\n",
       "       [9.99774158e-01, 3.05022462e-04],\n",
       "       [9.99991179e-01, 1.46020975e-05],\n",
       "       [9.99999881e-01, 4.96151415e-07],\n",
       "       [9.99996424e-01, 9.65330401e-06],\n",
       "       [9.99999166e-01, 3.92042921e-06],\n",
       "       [9.99800980e-01, 2.07957433e-04],\n",
       "       [7.57735491e-01, 3.98858599e-02],\n",
       "       [6.62885886e-03, 9.48948205e-01],\n",
       "       [3.19676693e-15, 1.00000000e+00],\n",
       "       [9.99997973e-01, 1.12749740e-06],\n",
       "       [3.82124749e-03, 9.21540260e-01],\n",
       "       [8.66414121e-06, 9.99926925e-01],\n",
       "       [1.99057627e-04, 9.98328865e-01],\n",
       "       [3.95532995e-01, 2.09642038e-01],\n",
       "       [8.60390603e-04, 9.75086331e-01],\n",
       "       [4.50595170e-01, 3.15584779e-01],\n",
       "       [3.97261053e-01, 3.23032558e-01],\n",
       "       [1.83965324e-06, 9.99925256e-01],\n",
       "       [9.97176176e-06, 9.99439657e-01],\n",
       "       [2.02448387e-02, 8.80578220e-01],\n",
       "       [1.05854258e-01, 7.94186831e-01],\n",
       "       [9.99985933e-01, 1.49427851e-05],\n",
       "       [1.84205070e-03, 9.98964190e-01],\n",
       "       [9.99999881e-01, 9.66535829e-09],\n",
       "       [1.00000000e+00, 5.58314313e-14],\n",
       "       [9.99999523e-01, 3.62781776e-07],\n",
       "       [9.99999762e-01, 1.56623884e-07],\n",
       "       [1.00000000e+00, 3.41031248e-09],\n",
       "       [1.00000000e+00, 1.36295133e-11],\n",
       "       [1.00000000e+00, 3.45994988e-09],\n",
       "       [9.99992013e-01, 8.91391846e-06],\n",
       "       [9.99992371e-01, 4.55619602e-06],\n",
       "       [1.00000000e+00, 5.72459191e-09],\n",
       "       [1.00000000e+00, 7.85063037e-09],\n",
       "       [1.00000000e+00, 2.53034316e-10],\n",
       "       [1.00000000e+00, 5.33018962e-09],\n",
       "       [9.98732030e-01, 1.57025829e-03],\n",
       "       [9.99984264e-01, 1.39654094e-05],\n",
       "       [9.99999881e-01, 1.16879534e-07],\n",
       "       [1.00000000e+00, 2.67970592e-21],\n",
       "       [1.00000000e+00, 4.88045985e-15],\n",
       "       [9.99971151e-01, 7.84601798e-05],\n",
       "       [9.99997497e-01, 1.11444660e-06],\n",
       "       [1.00000000e+00, 1.24900634e-09],\n",
       "       [1.00000000e+00, 5.96862891e-13],\n",
       "       [1.00000000e+00, 5.52159555e-13],\n",
       "       [1.00000000e+00, 3.56499008e-09],\n",
       "       [9.99999762e-01, 5.02470243e-08],\n",
       "       [9.99999642e-01, 8.18483556e-08],\n",
       "       [9.99981046e-01, 1.30487260e-05],\n",
       "       [9.99976039e-01, 1.95816410e-05],\n",
       "       [9.99999642e-01, 2.41458622e-07],\n",
       "       [9.99999881e-01, 6.60905570e-08],\n",
       "       [9.99999642e-01, 1.41779680e-07],\n",
       "       [9.98366296e-01, 2.60706572e-03],\n",
       "       [1.00000000e+00, 3.90100202e-10],\n",
       "       [1.00000000e+00, 1.61811109e-09],\n",
       "       [9.99999762e-01, 6.75985135e-08],\n",
       "       [1.00000000e+00, 5.76436121e-10],\n",
       "       [9.99999285e-01, 1.13754680e-07],\n",
       "       [1.00000000e+00, 1.21534438e-09],\n",
       "       [1.22495136e-09, 1.00000000e+00],\n",
       "       [3.11752856e-02, 9.81944203e-01],\n",
       "       [1.75236821e-08, 1.00000000e+00],\n",
       "       [8.17424208e-02, 9.65800405e-01],\n",
       "       [2.41928943e-03, 9.98514116e-01],\n",
       "       [2.04413794e-02, 9.89366174e-01],\n",
       "       [6.53230403e-09, 1.00000000e+00],\n",
       "       [6.87973341e-07, 9.99999762e-01],\n",
       "       [8.98091983e-08, 1.00000000e+00],\n",
       "       [6.28451380e-05, 9.99958754e-01],\n",
       "       [6.51186585e-01, 5.63921094e-01],\n",
       "       [4.39541452e-02, 9.74769711e-01],\n",
       "       [1.01101100e-02, 9.95299041e-01],\n",
       "       [6.56739330e-10, 1.00000000e+00],\n",
       "       [4.88821836e-03, 9.97943819e-01]], dtype=float32)"
      ]
     },
     "execution_count": 31,
     "metadata": {},
     "output_type": "execute_result"
    }
   ],
   "source": [
    "y_predict_concatenate_array = np.array(y_predict_concatenate_list)\n",
    "y_predict_concatenate_array"
   ]
  },
  {
   "cell_type": "code",
   "execution_count": 32,
   "metadata": {},
   "outputs": [
    {
     "data": {
      "text/plain": [
       "(277, 2)"
      ]
     },
     "execution_count": 32,
     "metadata": {},
     "output_type": "execute_result"
    }
   ],
   "source": [
    "y_predict_concatenate_array.shape"
   ]
  },
  {
   "cell_type": "code",
   "execution_count": 33,
   "metadata": {},
   "outputs": [],
   "source": [
    "y_predict_1D = y_predict_concatenate_array[:,0]"
   ]
  },
  {
   "cell_type": "code",
   "execution_count": 34,
   "metadata": {},
   "outputs": [],
   "source": [
    "y_predict_1D_processed = 1- y_predict_1D"
   ]
  },
  {
   "cell_type": "code",
   "execution_count": 35,
   "metadata": {},
   "outputs": [],
   "source": [
    "fpr , tpr , thresholds = roc_curve(y_test_concatenate_list , y_predict_1D_processed)\n",
    "auc_rf = auc(fpr, tpr)"
   ]
  },
  {
   "cell_type": "code",
   "execution_count": 36,
   "metadata": {},
   "outputs": [
    {
     "data": {
      "text/plain": [
       "array([0.        , 0.        , 0.        , 0.00497512, 0.00497512,\n",
       "       0.00995025, 0.00995025, 0.01492537, 0.01492537, 0.0199005 ,\n",
       "       0.0199005 , 0.02487562, 0.02487562, 0.02985075, 0.02985075,\n",
       "       0.039801  , 0.039801  , 0.04477612, 0.04477612, 0.05472637,\n",
       "       0.05472637, 0.05970149, 0.05970149, 0.06965174, 0.06965174,\n",
       "       0.07462687, 0.07462687, 0.10447761, 0.10447761, 0.17412935,\n",
       "       0.17412935, 0.20895522, 0.20895522, 0.31840796, 0.32835821,\n",
       "       0.44776119, 0.46766169, 0.48756219, 0.48756219, 0.50248756,\n",
       "       0.51243781, 0.53233831, 0.54228856, 0.54726368, 0.55721393,\n",
       "       0.55721393, 0.56716418, 0.57711443, 0.59701493, 0.60199005,\n",
       "       0.62189055, 0.6318408 , 0.64179104, 0.67164179, 0.69154229,\n",
       "       0.75124378, 0.80099502, 1.        ])"
      ]
     },
     "execution_count": 36,
     "metadata": {},
     "output_type": "execute_result"
    }
   ],
   "source": [
    "fpr"
   ]
  },
  {
   "cell_type": "code",
   "execution_count": 37,
   "metadata": {},
   "outputs": [
    {
     "data": {
      "text/plain": [
       "array([0.        , 0.11842105, 0.36842105, 0.36842105, 0.43421053,\n",
       "       0.43421053, 0.46052632, 0.46052632, 0.53947368, 0.53947368,\n",
       "       0.57894737, 0.57894737, 0.60526316, 0.60526316, 0.75      ,\n",
       "       0.75      , 0.78947368, 0.78947368, 0.80263158, 0.80263158,\n",
       "       0.82894737, 0.82894737, 0.89473684, 0.89473684, 0.92105263,\n",
       "       0.92105263, 0.93421053, 0.93421053, 0.94736842, 0.94736842,\n",
       "       0.96052632, 0.96052632, 0.97368421, 0.97368421, 0.97368421,\n",
       "       0.97368421, 0.97368421, 0.97368421, 0.98684211, 0.98684211,\n",
       "       0.98684211, 0.98684211, 0.98684211, 0.98684211, 0.98684211,\n",
       "       1.        , 1.        , 1.        , 1.        , 1.        ,\n",
       "       1.        , 1.        , 1.        , 1.        , 1.        ,\n",
       "       1.        , 1.        , 1.        ])"
      ]
     },
     "execution_count": 37,
     "metadata": {},
     "output_type": "execute_result"
    }
   ],
   "source": [
    "tpr"
   ]
  },
  {
   "cell_type": "code",
   "execution_count": 38,
   "metadata": {},
   "outputs": [
    {
     "data": {
      "text/plain": [
       "array([2.0000000e+00, 1.0000000e+00, 9.9993718e-01, 9.9989820e-01,\n",
       "       9.9972284e-01, 9.9965823e-01, 9.9951470e-01, 9.9934739e-01,\n",
       "       9.9871594e-01, 9.9815798e-01, 9.9617875e-01, 9.9549150e-01,\n",
       "       9.9511176e-01, 9.9438155e-01, 9.6882474e-01, 9.5980662e-01,\n",
       "       9.1825759e-01, 9.0921038e-01, 8.9414573e-01, 8.6672819e-01,\n",
       "       7.7388459e-01, 6.5459168e-01, 4.8950452e-01, 3.7547159e-01,\n",
       "       2.4901259e-01, 2.4811608e-01, 2.4226451e-01, 5.1155508e-02,\n",
       "       3.9892256e-02, 1.0963678e-03, 5.7226419e-04, 2.2584200e-04,\n",
       "       2.1678209e-04, 3.3855438e-05, 3.3497810e-05, 8.7022781e-06,\n",
       "       7.9870224e-06, 7.2717667e-06, 6.6757202e-06, 4.8875809e-06,\n",
       "       4.2915344e-06, 3.3378601e-06, 2.8610229e-06, 2.6226044e-06,\n",
       "       2.5033951e-06, 2.0265579e-06, 1.9073486e-06, 1.6689301e-06,\n",
       "       1.5497208e-06, 1.4305115e-06, 1.1920929e-06, 9.5367432e-07,\n",
       "       8.3446503e-07, 5.9604645e-07, 4.7683716e-07, 2.3841858e-07,\n",
       "       1.1920929e-07, 0.0000000e+00], dtype=float32)"
      ]
     },
     "execution_count": 38,
     "metadata": {},
     "output_type": "execute_result"
    }
   ],
   "source": [
    "thresholds"
   ]
  },
  {
   "cell_type": "code",
   "execution_count": 39,
   "metadata": {},
   "outputs": [
    {
     "data": {
      "text/plain": [
       "0.9619664833726106"
      ]
     },
     "execution_count": 39,
     "metadata": {},
     "output_type": "execute_result"
    }
   ],
   "source": [
    "auc_rf"
   ]
  },
  {
   "cell_type": "code",
   "execution_count": 40,
   "metadata": {},
   "outputs": [],
   "source": [
    "x = y = np.arange(0, 1.1, 0.1)"
   ]
  },
  {
   "cell_type": "code",
   "execution_count": 41,
   "metadata": {},
   "outputs": [
    {
     "data": {
      "text/plain": [
       "array([0. , 0.1, 0.2, 0.3, 0.4, 0.5, 0.6, 0.7, 0.8, 0.9, 1. ])"
      ]
     },
     "execution_count": 41,
     "metadata": {},
     "output_type": "execute_result"
    }
   ],
   "source": [
    "x"
   ]
  },
  {
   "cell_type": "code",
   "execution_count": 42,
   "metadata": {
    "scrolled": false
   },
   "outputs": [
    {
     "data": {
      "image/png": "[encoded data removed]",
      "text/plain": [
       "<Figure size 432x288 with 1 Axes>"
      ]
     },
     "metadata": {},
     "output_type": "display_data"
    }
   ],
   "source": [
    "fig = plt.figure()\n",
    "plt.style.use('classic')\n",
    "\n",
    "ax = fig.add_subplot(111)\n",
    "\n",
    "plt.plot(fpr, tpr, color='blue', linewidth=1.5)\n",
    "\n",
    "plt.plot(x, y, '--', color='black', linewidth=1.5)\n",
    "\n",
    "plt.title('ROC curve of Chr_05p14', fontsize=15, fontname = 'Times New Roman')\n",
    "plt.xlabel('False Positive Rate', fontsize=15, fontname = 'Times New Roman')\n",
    "plt.ylabel('True positive Rate', fontsize=15, fontname = 'Times New Roman')\n",
    "\n",
    "ax.set_aspect('equal', adjustable='box')\n",
    "\n",
    "plt.xlim(-0.08, 1.1)\n",
    "plt.ylim(-0.08, 1.1)\n",
    "\n",
    "plt.xticks(fontsize=15, fontname = 'Arial')\n",
    "plt.yticks(fontsize=15, fontname = 'Arial')\n",
    "\n",
    "plt.savefig('ROC_Curve_Combination.png', dpi=600)\n",
    "plt.show()"
   ]
  },
  {
   "cell_type": "markdown",
   "metadata": {},
   "source": [
    "#### 3.10.4.1 AUC Value"
   ]
  },
  {
   "cell_type": "code",
   "execution_count": 43,
   "metadata": {},
   "outputs": [],
   "source": [
    "auc_value = auc(fpr, tpr)"
   ]
  },
  {
   "cell_type": "code",
   "execution_count": 44,
   "metadata": {},
   "outputs": [
    {
     "name": "stdout",
     "output_type": "stream",
     "text": [
      "AUC is  0.9619664833726106\n"
     ]
    }
   ],
   "source": [
    "print('AUC is ', auc_value)"
   ]
  },
  {
   "cell_type": "markdown",
   "metadata": {},
   "source": [
    "# Results"
   ]
  },
  {
   "cell_type": "code",
   "execution_count": 45,
   "metadata": {},
   "outputs": [
    {
     "name": "stdout",
     "output_type": "stream",
     "text": [
      "Test Accuracy: 0.921\n"
     ]
    }
   ],
   "source": [
    "print('Test Accuracy: %.3f' % acc)"
   ]
  },
  {
   "cell_type": "code",
   "execution_count": 46,
   "metadata": {
    "scrolled": true
   },
   "outputs": [
    {
     "name": "stdout",
     "output_type": "stream",
     "text": [
      "                    precision    recall  f1-score   support\n",
      "\n",
      "            chr_05       0.95      0.95      0.95       201\n",
      "chr_5_p14_deletion       0.86      0.86      0.86        76\n",
      "\n",
      "         micro avg       0.92      0.92      0.92       277\n",
      "         macro avg       0.90      0.90      0.90       277\n",
      "      weighted avg       0.92      0.92      0.92       277\n",
      "\n"
     ]
    }
   ],
   "source": [
    "print(performanceReport)"
   ]
  },
  {
   "cell_type": "code",
   "execution_count": 47,
   "metadata": {},
   "outputs": [
    {
     "data": {
      "text/plain": [
       "str"
      ]
     },
     "execution_count": 47,
     "metadata": {},
     "output_type": "execute_result"
    }
   ],
   "source": [
    "type(performanceReport)"
   ]
  },
  {
   "cell_type": "code",
   "execution_count": 48,
   "metadata": {},
   "outputs": [
    {
     "name": "stdout",
     "output_type": "stream",
     "text": [
      "AUC is  0.9619664833726106\n"
     ]
    }
   ],
   "source": [
    "print('AUC is ', auc_value)"
   ]
  },
  {
   "cell_type": "markdown",
   "metadata": {},
   "source": [
    "## Export to a text file"
   ]
  },
  {
   "cell_type": "code",
   "execution_count": 49,
   "metadata": {},
   "outputs": [],
   "source": [
    "file_report = open('ResultsCombination.txt', 'w')\n",
    "file_report.write('Accuracy: %s\\n\\n' % acc)\n",
    "file_report.write('AUC: %s.\\n\\n' % auc_value)\n",
    "file_report.write('Performance Report: \\n%s\\n\\n' % performanceReport)\n",
    "file_report.write('Confusion Matrix: \\n%s.\\n\\n' % confusion)\n",
    "file_report.write('Recall of Confusion Matrix: \\n%s.\\n\\n' % confusion_r)\n",
    "file_report.write('Precision of Confusion Matrix: \\n%s.\\n\\n' % confusion_p)\n",
    "file_report.close()"
   ]
  },
  {
   "cell_type": "markdown",
   "metadata": {},
   "source": [
    "## Export ROC Parameters"
   ]
  },
  {
   "cell_type": "code",
   "execution_count": 50,
   "metadata": {},
   "outputs": [],
   "source": [
    "with open('tpr_' + label_convert[1] + '.npy', 'wb') as file_tpr:\n",
    "    np.save(file_tpr, np.array(tpr))\n",
    "    \n",
    "with open('fpr_' + label_convert[1] + '.npy', 'wb') as file_fpr:\n",
    "    np.save(file_fpr, np.array(fpr))\n",
    "    \n",
    "with open('thresholds_' + label_convert[1] + '.npy', 'wb') as file_thresholds:\n",
    "    np.save(file_thresholds, np.array(thresholds))"
   ]
  }
 ],
 "metadata": {
  "kernelspec": {
   "display_name": "Python 3",
   "language": "python",
   "name": "python3"
  },
  "language_info": {
   "codemirror_mode": {
    "name": "ipython",
    "version": 3
   },
   "file_extension": ".py",
   "mimetype": "text/x-python",
   "name": "python",
   "nbconvert_exporter": "python",
   "pygments_lexer": "ipython3",
   "version": "3.7.3"
  }
 },
 "nbformat": 4,
 "nbformat_minor": 2
}
