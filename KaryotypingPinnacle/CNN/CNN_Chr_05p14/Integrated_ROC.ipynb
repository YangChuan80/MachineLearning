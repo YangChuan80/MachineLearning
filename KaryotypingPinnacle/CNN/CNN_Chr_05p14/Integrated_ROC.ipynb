{
 "cells": [
  {
   "cell_type": "code",
   "execution_count": 1,
   "metadata": {},
   "outputs": [],
   "source": [
    "import numpy as np\n",
    "import pandas as pd\n",
    "import matplotlib.pyplot as plt\n",
    "\n",
    "from sklearn.metrics import classification_report, confusion_matrix, roc_curve, auc, accuracy_score\n",
    "\n",
    "import seaborn as sb"
   ]
  },
  {
   "cell_type": "code",
   "execution_count": 2,
   "metadata": {},
   "outputs": [],
   "source": [
    "chromConvert = {\n",
    "               'chr_05': 0, \n",
    "               'chr_5_p14_deletion': 1\n",
    "               }"
   ]
  },
  {
   "cell_type": "code",
   "execution_count": 3,
   "metadata": {},
   "outputs": [],
   "source": [
    "chromConvert_reverse = {\n",
    "                0: 'chr_05',\n",
    "                1: 'chr_5_p14_deletion'\n",
    "               }"
   ]
  },
  {
   "cell_type": "code",
   "execution_count": 4,
   "metadata": {},
   "outputs": [],
   "source": [
    "label = ['chr_05', 'chr_5_p14_deletion']\n",
    "\n",
    "label_convert = []\n",
    "\n",
    "for i in range(2):\n",
    "    label_convert.append(chromConvert_reverse[i])"
   ]
  },
  {
   "cell_type": "markdown",
   "metadata": {},
   "source": [
    "# Load test and predict values"
   ]
  },
  {
   "cell_type": "code",
   "execution_count": 5,
   "metadata": {},
   "outputs": [],
   "source": [
    "y_test_all = []\n",
    "y_predict_all = []\n",
    "y_predict_filtered_all = []"
   ]
  },
  {
   "cell_type": "code",
   "execution_count": 6,
   "metadata": {},
   "outputs": [],
   "source": [
    "for iterationNumber in range(5):\n",
    "    with open('data_y_test_value_iteration_' + str(iterationNumber) + '.npy', 'rb') as f_y_test:\n",
    "        y_test_all.append(np.load(f_y_test))\n",
    "        \n",
    "    with open('data_y_predict_value_iteration_' + str(iterationNumber) + '.npy', 'rb') as f_y_predict:\n",
    "        y_predict_all.append(np.load(f_y_predict))                             \n",
    "                        \n",
    "    with open('data_y_predict_filtered_value_iteration_' + str(iterationNumber) + '.npy', 'rb') as f_y_predict_filtered:\n",
    "        y_predict_filtered_all.append(np.load(f_y_predict_filtered))"
   ]
  },
  {
   "cell_type": "code",
   "execution_count": 7,
   "metadata": {},
   "outputs": [
    {
     "data": {
      "text/plain": [
       "(57, 2)"
      ]
     },
     "execution_count": 7,
     "metadata": {},
     "output_type": "execute_result"
    }
   ],
   "source": [
    "y_predict_all[0].shape"
   ]
  },
  {
   "cell_type": "code",
   "execution_count": 8,
   "metadata": {
    "scrolled": true
   },
   "outputs": [
    {
     "data": {
      "text/plain": [
       "[array([[9.9999809e-01, 1.0857953e-09],\n",
       "        [1.0182521e-04, 9.9994767e-01],\n",
       "        [9.9999499e-01, 5.3533995e-09],\n",
       "        [9.9998307e-01, 1.0322510e-08],\n",
       "        [9.7330350e-01, 8.0917351e-04],\n",
       "        [9.9999988e-01, 9.5494966e-12],\n",
       "        [9.9051172e-01, 4.6562636e-04],\n",
       "        [9.9994683e-01, 1.4003732e-07],\n",
       "        [9.9981993e-01, 1.6865775e-06],\n",
       "        [9.9999201e-01, 1.8969532e-08],\n",
       "        [9.9999845e-01, 9.4204811e-10],\n",
       "        [9.9999845e-01, 6.1877259e-10],\n",
       "        [9.9994290e-01, 7.0529573e-08],\n",
       "        [9.9990594e-01, 3.8022358e-07],\n",
       "        [9.9999738e-01, 3.3660970e-09],\n",
       "        [9.9999940e-01, 4.0559586e-10],\n",
       "        [9.9996650e-01, 1.0401471e-07],\n",
       "        [9.9985993e-01, 4.4490596e-07],\n",
       "        [9.9999821e-01, 1.1084426e-09],\n",
       "        [3.4540835e-01, 3.2899392e-01],\n",
       "        [4.0193386e-02, 7.9977041e-01],\n",
       "        [9.9999714e-01, 2.9466436e-09],\n",
       "        [9.9999988e-01, 1.2828701e-11],\n",
       "        [9.9996769e-01, 6.5017538e-08],\n",
       "        [9.9999571e-01, 2.6194849e-09],\n",
       "        [7.5188392e-01, 8.4035788e-03],\n",
       "        [9.9979693e-01, 2.1487094e-06],\n",
       "        [9.9999750e-01, 3.4653189e-09],\n",
       "        [9.9996746e-01, 1.0624074e-07],\n",
       "        [9.9999964e-01, 1.9498006e-10],\n",
       "        [9.9999845e-01, 2.1961675e-09],\n",
       "        [9.9972373e-01, 2.1795991e-06],\n",
       "        [9.9999511e-01, 9.4316333e-09],\n",
       "        [9.9996269e-01, 1.7676732e-07],\n",
       "        [9.9997222e-01, 6.0298497e-08],\n",
       "        [9.9999225e-01, 1.7795566e-08],\n",
       "        [9.9998975e-01, 1.5942778e-08],\n",
       "        [9.8956597e-01, 4.1327570e-04],\n",
       "        [9.9981397e-01, 8.6786844e-07],\n",
       "        [9.9985111e-01, 1.4439057e-06],\n",
       "        [9.9997520e-01, 7.4027376e-08],\n",
       "        [2.5871227e-06, 9.9999940e-01],\n",
       "        [1.9434670e-05, 9.9997497e-01],\n",
       "        [7.2616704e-06, 9.9999583e-01],\n",
       "        [2.5742996e-04, 9.9968791e-01],\n",
       "        [1.5411168e-01, 1.2491506e-01],\n",
       "        [1.0622060e-02, 9.3969673e-01],\n",
       "        [2.7715624e-04, 9.9976343e-01],\n",
       "        [1.2840525e-03, 9.9641269e-01],\n",
       "        [2.4922531e-06, 9.9999893e-01],\n",
       "        [1.5436722e-02, 9.6417767e-01],\n",
       "        [8.6552807e-04, 9.9824762e-01],\n",
       "        [2.6510557e-05, 9.9999225e-01],\n",
       "        [5.6467048e-10, 1.0000000e+00],\n",
       "        [2.5220388e-08, 1.0000000e+00],\n",
       "        [5.8853111e-06, 9.9999809e-01],\n",
       "        [2.1001440e-04, 9.9909437e-01]], dtype=float32),\n",
       " array([[9.9998987e-01, 1.6032859e-04],\n",
       "        [3.4176500e-04, 9.9997056e-01],\n",
       "        [9.3970960e-01, 4.4371966e-01],\n",
       "        [1.1767307e-01, 9.4820589e-01],\n",
       "        [9.9995792e-01, 5.3413660e-04],\n",
       "        [9.9999833e-01, 4.6428817e-05],\n",
       "        [9.9999988e-01, 3.8103992e-06],\n",
       "        [9.9748224e-01, 4.5059185e-02],\n",
       "        [9.9999952e-01, 8.4905769e-06],\n",
       "        [9.9890363e-01, 9.0873381e-03],\n",
       "        [1.0000000e+00, 6.5393061e-07],\n",
       "        [9.9999654e-01, 3.1878371e-05],\n",
       "        [9.9999869e-01, 2.3445657e-05],\n",
       "        [1.0000000e+00, 1.5482009e-08],\n",
       "        [1.0000000e+00, 2.7412873e-06],\n",
       "        [1.0000000e+00, 1.9932445e-06],\n",
       "        [9.9999988e-01, 1.7811938e-06],\n",
       "        [8.8586992e-01, 2.0118330e-01],\n",
       "        [1.0000000e+00, 3.1661401e-08],\n",
       "        [9.9996781e-01, 1.9507040e-04],\n",
       "        [1.0000000e+00, 9.5330512e-07],\n",
       "        [9.9994111e-01, 3.4670415e-04],\n",
       "        [9.9996614e-01, 1.1619169e-04],\n",
       "        [1.0000000e+00, 1.0779074e-08],\n",
       "        [1.0000000e+00, 5.5554079e-07],\n",
       "        [9.9999130e-01, 8.6815713e-04],\n",
       "        [9.9999988e-01, 2.5203328e-06],\n",
       "        [9.9991691e-01, 7.6060399e-04],\n",
       "        [1.0000000e+00, 2.8268837e-06],\n",
       "        [9.9996293e-01, 1.8252973e-03],\n",
       "        [9.9999940e-01, 2.3127142e-05],\n",
       "        [9.9744785e-01, 2.5903219e-02],\n",
       "        [1.0000000e+00, 4.0577669e-07],\n",
       "        [1.0000000e+00, 2.7154972e-09],\n",
       "        [1.0000000e+00, 9.1113475e-07],\n",
       "        [9.9995768e-01, 1.3779553e-04],\n",
       "        [9.9961579e-01, 4.5292289e-03],\n",
       "        [9.9999964e-01, 2.6690566e-05],\n",
       "        [9.9999940e-01, 2.2405269e-05],\n",
       "        [9.9999964e-01, 1.3648867e-05],\n",
       "        [2.5602963e-04, 9.9997199e-01],\n",
       "        [2.1934208e-07, 9.9999976e-01],\n",
       "        [3.6350924e-01, 8.6339849e-01],\n",
       "        [2.5496101e-02, 9.9728966e-01],\n",
       "        [2.3023725e-02, 9.9032497e-01],\n",
       "        [4.6899654e-06, 9.9999821e-01],\n",
       "        [4.5050122e-04, 9.9963331e-01],\n",
       "        [2.8854294e-02, 9.8646706e-01],\n",
       "        [1.7618182e-09, 1.0000000e+00],\n",
       "        [6.4444782e-12, 1.0000000e+00],\n",
       "        [4.8527517e-04, 9.9991226e-01],\n",
       "        [7.4613057e-02, 9.9639612e-01],\n",
       "        [9.9978322e-01, 3.6801889e-03],\n",
       "        [3.6459234e-05, 9.9998558e-01],\n",
       "        [1.1162093e-03, 9.9957389e-01]], dtype=float32),\n",
       " array([[9.9999964e-01, 8.2646174e-09],\n",
       "        [1.0000000e+00, 5.5329553e-11],\n",
       "        [1.0000000e+00, 7.4306611e-12],\n",
       "        [9.9752527e-01, 3.3297096e-05],\n",
       "        [7.1005780e-01, 2.5406644e-02],\n",
       "        [1.0000000e+00, 4.9590175e-15],\n",
       "        [9.9873763e-01, 8.2010292e-06],\n",
       "        [2.4136212e-01, 4.4830993e-02],\n",
       "        [1.0000000e+00, 1.0288102e-10],\n",
       "        [1.7117482e-02, 4.1311884e-01],\n",
       "        [1.0000000e+00, 1.4944307e-14],\n",
       "        [9.9999952e-01, 2.1680779e-09],\n",
       "        [9.9978381e-01, 3.0526915e-06],\n",
       "        [9.9999952e-01, 3.5712171e-09],\n",
       "        [1.0000000e+00, 5.1357589e-13],\n",
       "        [9.9991703e-01, 5.6871619e-07],\n",
       "        [9.9999964e-01, 2.9071472e-09],\n",
       "        [9.9973458e-01, 1.1613193e-06],\n",
       "        [9.9990833e-01, 3.6129092e-07],\n",
       "        [9.9999976e-01, 1.9028699e-09],\n",
       "        [9.9997509e-01, 5.3071535e-08],\n",
       "        [1.5458916e-01, 1.7500570e-02],\n",
       "        [2.0228415e-05, 9.5990032e-01],\n",
       "        [9.9999285e-01, 4.7876505e-08],\n",
       "        [9.9994648e-01, 2.4919129e-07],\n",
       "        [9.9996543e-01, 4.2176011e-06],\n",
       "        [9.9823135e-01, 7.6110897e-05],\n",
       "        [9.8116493e-01, 2.9338096e-04],\n",
       "        [1.6109910e-02, 6.0022426e-01],\n",
       "        [9.9999666e-01, 3.7775312e-08],\n",
       "        [9.9999642e-01, 8.9591239e-08],\n",
       "        [9.9971575e-01, 1.0263053e-05],\n",
       "        [1.0000000e+00, 2.0724162e-09],\n",
       "        [9.8694962e-01, 8.5425803e-05],\n",
       "        [9.9999416e-01, 2.5911746e-07],\n",
       "        [9.9996364e-01, 8.5377241e-07],\n",
       "        [8.5980934e-01, 6.0589518e-03],\n",
       "        [9.9999893e-01, 5.2442026e-08],\n",
       "        [9.9998903e-01, 2.9099286e-07],\n",
       "        [9.9990773e-01, 8.0607451e-06],\n",
       "        [1.3845423e-05, 9.9981135e-01],\n",
       "        [1.7362547e-07, 9.9999619e-01],\n",
       "        [1.7466601e-02, 3.3047420e-01],\n",
       "        [5.8042006e-06, 9.9863178e-01],\n",
       "        [1.5511373e-01, 1.2271739e-01],\n",
       "        [3.7731766e-04, 9.8159009e-01],\n",
       "        [2.0497570e-09, 9.9999869e-01],\n",
       "        [1.9898971e-09, 9.9999654e-01],\n",
       "        [9.9997783e-01, 3.4157051e-07],\n",
       "        [2.7922025e-07, 9.9997139e-01],\n",
       "        [6.3327738e-05, 9.0365261e-01],\n",
       "        [3.8975471e-04, 5.3082687e-01],\n",
       "        [6.4248246e-01, 4.7997795e-03],\n",
       "        [1.7505953e-04, 2.2985572e-01],\n",
       "        [8.7435901e-02, 4.8502710e-01]], dtype=float32),\n",
       " array([[9.99992728e-01, 6.36821933e-05],\n",
       "        [8.03382754e-01, 1.42741263e-01],\n",
       "        [2.89575458e-01, 7.49576449e-01],\n",
       "        [9.99093771e-01, 1.67576619e-03],\n",
       "        [9.99999881e-01, 3.56566602e-07],\n",
       "        [9.99999642e-01, 9.72678549e-07],\n",
       "        [1.00000000e+00, 5.97749836e-11],\n",
       "        [1.00000000e+00, 2.96607610e-08],\n",
       "        [1.00000000e+00, 7.60987859e-08],\n",
       "        [9.82815444e-01, 3.05014383e-02],\n",
       "        [9.99998927e-01, 3.61449133e-06],\n",
       "        [3.04118451e-03, 9.97876763e-01],\n",
       "        [9.97607827e-01, 4.97931568e-03],\n",
       "        [1.00000000e+00, 1.52125812e-09],\n",
       "        [9.99997139e-01, 6.68560369e-06],\n",
       "        [7.63901055e-01, 4.55412537e-01],\n",
       "        [1.00000000e+00, 2.34959373e-07],\n",
       "        [2.58907765e-01, 8.39624941e-01],\n",
       "        [1.00000000e+00, 6.10649517e-11],\n",
       "        [1.00000000e+00, 3.37790507e-09],\n",
       "        [1.00000000e+00, 7.29556859e-10],\n",
       "        [1.00000000e+00, 5.82401150e-08],\n",
       "        [1.00000000e+00, 2.59099338e-08],\n",
       "        [9.91343498e-01, 4.00181599e-02],\n",
       "        [1.00000000e+00, 8.70906991e-09],\n",
       "        [1.00000000e+00, 2.26137581e-11],\n",
       "        [1.00000000e+00, 5.44273448e-13],\n",
       "        [1.00000000e+00, 9.91164928e-11],\n",
       "        [1.00000000e+00, 3.62940597e-07],\n",
       "        [9.99999762e-01, 1.62927563e-06],\n",
       "        [1.00000000e+00, 6.69120250e-14],\n",
       "        [9.99993801e-01, 4.63550241e-05],\n",
       "        [1.00000000e+00, 1.05750274e-07],\n",
       "        [1.00000000e+00, 1.20867749e-09],\n",
       "        [9.99991298e-01, 7.00105666e-05],\n",
       "        [9.99994874e-01, 2.12795676e-05],\n",
       "        [1.00000000e+00, 3.48113227e-09],\n",
       "        [9.99999404e-01, 1.35313712e-06],\n",
       "        [9.99999642e-01, 4.33856167e-06],\n",
       "        [9.99997258e-01, 2.17931429e-05],\n",
       "        [9.30552185e-01, 8.04592073e-02],\n",
       "        [7.73632109e-01, 7.16869175e-01],\n",
       "        [2.00119914e-07, 9.99999881e-01],\n",
       "        [9.99671936e-01, 6.28581736e-04],\n",
       "        [3.81036758e-01, 6.20105863e-01],\n",
       "        [4.04871253e-06, 9.99995112e-01],\n",
       "        [1.42290927e-02, 9.92969334e-01],\n",
       "        [1.47831012e-02, 9.87760365e-01],\n",
       "        [7.39565527e-04, 9.99724209e-01],\n",
       "        [7.21619814e-04, 9.98729885e-01],\n",
       "        [4.14910205e-02, 9.35889542e-01],\n",
       "        [1.88352555e-01, 9.30507183e-01],\n",
       "        [2.34600357e-05, 9.99980569e-01],\n",
       "        [4.67300275e-03, 9.96025085e-01],\n",
       "        [2.28842765e-01, 8.14368188e-01]], dtype=float32),\n",
       " array([[9.99985933e-01, 1.49427851e-05],\n",
       "        [1.84205070e-03, 9.98964190e-01],\n",
       "        [9.99999881e-01, 9.66535829e-09],\n",
       "        [1.00000000e+00, 5.58314313e-14],\n",
       "        [9.99999523e-01, 3.62781776e-07],\n",
       "        [9.99999762e-01, 1.56623884e-07],\n",
       "        [1.00000000e+00, 3.41031248e-09],\n",
       "        [1.00000000e+00, 1.36295133e-11],\n",
       "        [1.00000000e+00, 3.45994988e-09],\n",
       "        [9.99992013e-01, 8.91391846e-06],\n",
       "        [9.99992371e-01, 4.55619602e-06],\n",
       "        [1.00000000e+00, 5.72459191e-09],\n",
       "        [1.00000000e+00, 7.85063037e-09],\n",
       "        [1.00000000e+00, 2.53034316e-10],\n",
       "        [1.00000000e+00, 5.33018962e-09],\n",
       "        [9.98732030e-01, 1.57025829e-03],\n",
       "        [9.99984264e-01, 1.39654094e-05],\n",
       "        [9.99999881e-01, 1.16879534e-07],\n",
       "        [1.00000000e+00, 2.67970592e-21],\n",
       "        [1.00000000e+00, 4.88045985e-15],\n",
       "        [9.99971151e-01, 7.84601798e-05],\n",
       "        [9.99997497e-01, 1.11444660e-06],\n",
       "        [1.00000000e+00, 1.24900634e-09],\n",
       "        [1.00000000e+00, 5.96862891e-13],\n",
       "        [1.00000000e+00, 5.52159555e-13],\n",
       "        [1.00000000e+00, 3.56499008e-09],\n",
       "        [9.99999762e-01, 5.02470243e-08],\n",
       "        [9.99999642e-01, 8.18483556e-08],\n",
       "        [9.99981046e-01, 1.30487260e-05],\n",
       "        [9.99976039e-01, 1.95816410e-05],\n",
       "        [9.99999642e-01, 2.41458622e-07],\n",
       "        [9.99999881e-01, 6.60905570e-08],\n",
       "        [9.99999642e-01, 1.41779680e-07],\n",
       "        [9.98366296e-01, 2.60706572e-03],\n",
       "        [1.00000000e+00, 3.90100202e-10],\n",
       "        [1.00000000e+00, 1.61811109e-09],\n",
       "        [9.99999762e-01, 6.75985135e-08],\n",
       "        [1.00000000e+00, 5.76436121e-10],\n",
       "        [9.99999285e-01, 1.13754680e-07],\n",
       "        [1.00000000e+00, 1.21534438e-09],\n",
       "        [1.22495136e-09, 1.00000000e+00],\n",
       "        [3.11752856e-02, 9.81944203e-01],\n",
       "        [1.75236821e-08, 1.00000000e+00],\n",
       "        [8.17424208e-02, 9.65800405e-01],\n",
       "        [2.41928943e-03, 9.98514116e-01],\n",
       "        [2.04413794e-02, 9.89366174e-01],\n",
       "        [6.53230403e-09, 1.00000000e+00],\n",
       "        [6.87973341e-07, 9.99999762e-01],\n",
       "        [8.98091983e-08, 1.00000000e+00],\n",
       "        [6.28451380e-05, 9.99958754e-01],\n",
       "        [6.51186585e-01, 5.63921094e-01],\n",
       "        [4.39541452e-02, 9.74769711e-01],\n",
       "        [1.01101100e-02, 9.95299041e-01],\n",
       "        [6.56739330e-10, 1.00000000e+00],\n",
       "        [4.88821836e-03, 9.97943819e-01]], dtype=float32)]"
      ]
     },
     "execution_count": 8,
     "metadata": {},
     "output_type": "execute_result"
    }
   ],
   "source": [
    "y_predict_all"
   ]
  },
  {
   "cell_type": "code",
   "execution_count": 9,
   "metadata": {},
   "outputs": [],
   "source": [
    "y_test_concatenate_list = []\n",
    "y_predict_concatenate_list = []\n",
    "y_predict_filtered_concatenate_list = []"
   ]
  },
  {
   "cell_type": "code",
   "execution_count": 10,
   "metadata": {},
   "outputs": [],
   "source": [
    "for i in range(5):\n",
    "    y_test_concatenate_list.extend(list(y_test_all[i]))\n",
    "    y_predict_concatenate_list.extend(list(y_predict_all[i]))\n",
    "    y_predict_filtered_concatenate_list.extend(list(y_predict_filtered_all[i]))"
   ]
  },
  {
   "cell_type": "code",
   "execution_count": 11,
   "metadata": {},
   "outputs": [
    {
     "data": {
      "text/plain": [
       "(57, 2)"
      ]
     },
     "execution_count": 11,
     "metadata": {},
     "output_type": "execute_result"
    }
   ],
   "source": [
    "y_predict_all[0].shape"
   ]
  },
  {
   "cell_type": "code",
   "execution_count": 12,
   "metadata": {},
   "outputs": [
    {
     "data": {
      "text/plain": [
       "['chr_05', 'chr_5_p14_deletion']"
      ]
     },
     "execution_count": 12,
     "metadata": {},
     "output_type": "execute_result"
    }
   ],
   "source": [
    "label_convert"
   ]
  },
  {
   "cell_type": "code",
   "execution_count": 13,
   "metadata": {},
   "outputs": [
    {
     "data": {
      "text/plain": [
       "277"
      ]
     },
     "execution_count": 13,
     "metadata": {},
     "output_type": "execute_result"
    }
   ],
   "source": [
    "len(y_test_concatenate_list)"
   ]
  },
  {
   "cell_type": "code",
   "execution_count": 14,
   "metadata": {},
   "outputs": [
    {
     "data": {
      "text/plain": [
       "277"
      ]
     },
     "execution_count": 14,
     "metadata": {},
     "output_type": "execute_result"
    }
   ],
   "source": [
    "len(y_predict_filtered_concatenate_list)"
   ]
  },
  {
   "cell_type": "code",
   "execution_count": 15,
   "metadata": {},
   "outputs": [
    {
     "data": {
      "text/plain": [
       "277"
      ]
     },
     "execution_count": 15,
     "metadata": {},
     "output_type": "execute_result"
    }
   ],
   "source": [
    "len(y_predict_concatenate_list)"
   ]
  },
  {
   "cell_type": "markdown",
   "metadata": {},
   "source": [
    "# Classification Report"
   ]
  },
  {
   "cell_type": "markdown",
   "metadata": {},
   "source": [
    "## Accuracy"
   ]
  },
  {
   "cell_type": "code",
   "execution_count": 16,
   "metadata": {},
   "outputs": [
    {
     "name": "stdout",
     "output_type": "stream",
     "text": [
      "Accuracy is  0.927797833935018\n"
     ]
    }
   ],
   "source": [
    "acc = accuracy_score(y_test_concatenate_list, y_predict_filtered_concatenate_list, normalize=True, sample_weight=None)\n",
    "print('Accuracy is ', acc)"
   ]
  },
  {
   "cell_type": "markdown",
   "metadata": {},
   "source": [
    "## Precision, Recall, and F1"
   ]
  },
  {
   "cell_type": "code",
   "execution_count": 17,
   "metadata": {},
   "outputs": [
    {
     "name": "stdout",
     "output_type": "stream",
     "text": [
      "                    precision    recall  f1-score   support\n",
      "\n",
      "            chr_05   0.954774  0.945274  0.950000       201\n",
      "chr_5_p14_deletion   0.858974  0.881579  0.870130        76\n",
      "\n",
      "          accuracy                       0.927798       277\n",
      "         macro avg   0.906874  0.913426  0.910065       277\n",
      "      weighted avg   0.928490  0.927798  0.928086       277\n",
      "\n"
     ]
    }
   ],
   "source": [
    "performanceReport = classification_report(y_test_concatenate_list, y_predict_filtered_concatenate_list, digits=6,\n",
    "                                          target_names=label_convert)\n",
    "\n",
    "\n",
    "print(performanceReport)"
   ]
  },
  {
   "cell_type": "markdown",
   "metadata": {},
   "source": [
    "## Confusion Matrix"
   ]
  },
  {
   "cell_type": "code",
   "execution_count": 18,
   "metadata": {},
   "outputs": [
    {
     "data": {
      "text/html": [
       "<div>\n",
       "<style scoped>\n",
       "    .dataframe tbody tr th:only-of-type {\n",
       "        vertical-align: middle;\n",
       "    }\n",
       "\n",
       "    .dataframe tbody tr th {\n",
       "        vertical-align: top;\n",
       "    }\n",
       "\n",
       "    .dataframe thead th {\n",
       "        text-align: right;\n",
       "    }\n",
       "</style>\n",
       "<table border=\"1\" class=\"dataframe\">\n",
       "  <thead>\n",
       "    <tr style=\"text-align: right;\">\n",
       "      <th></th>\n",
       "      <th>chr_05</th>\n",
       "      <th>chr_5_p14_deletion</th>\n",
       "    </tr>\n",
       "  </thead>\n",
       "  <tbody>\n",
       "    <tr>\n",
       "      <td>chr_05</td>\n",
       "      <td>190</td>\n",
       "      <td>11</td>\n",
       "    </tr>\n",
       "    <tr>\n",
       "      <td>chr_5_p14_deletion</td>\n",
       "      <td>9</td>\n",
       "      <td>67</td>\n",
       "    </tr>\n",
       "  </tbody>\n",
       "</table>\n",
       "</div>"
      ],
      "text/plain": [
       "                    chr_05  chr_5_p14_deletion\n",
       "chr_05                 190                  11\n",
       "chr_5_p14_deletion       9                  67"
      ]
     },
     "execution_count": 18,
     "metadata": {},
     "output_type": "execute_result"
    }
   ],
   "source": [
    "cm = np.array(confusion_matrix(y_test_concatenate_list, y_predict_filtered_concatenate_list))\n",
    "confusion = pd.DataFrame(cm, index=label_convert,\n",
    "                        columns=label_convert)\n",
    "confusion.to_csv('ConfusionMatrix_Combination_of_CrossValidation_KaryoType_CNN.csv')\n",
    "confusion"
   ]
  },
  {
   "cell_type": "markdown",
   "metadata": {},
   "source": [
    "### 3.10.4 Rate of Confusion Matrix"
   ]
  },
  {
   "cell_type": "markdown",
   "metadata": {},
   "source": [
    "### 3.10.5 Recall (查全率)，(Sensitivity Rate)"
   ]
  },
  {
   "cell_type": "code",
   "execution_count": 19,
   "metadata": {
    "scrolled": true
   },
   "outputs": [],
   "source": [
    "subtotal = [0] * 2  \n",
    "for item in y_test_concatenate_list:\n",
    "    subtotal[item] = subtotal[item] + 1"
   ]
  },
  {
   "cell_type": "markdown",
   "metadata": {},
   "source": [
    "#### predict number divided by y test"
   ]
  },
  {
   "cell_type": "code",
   "execution_count": 20,
   "metadata": {},
   "outputs": [],
   "source": [
    "cm_r = []\n",
    "for i in range(2):\n",
    "    cm_r.append(cm[i]/subtotal[i])"
   ]
  },
  {
   "cell_type": "code",
   "execution_count": 21,
   "metadata": {},
   "outputs": [
    {
     "data": {
      "text/html": [
       "<div>\n",
       "<style scoped>\n",
       "    .dataframe tbody tr th:only-of-type {\n",
       "        vertical-align: middle;\n",
       "    }\n",
       "\n",
       "    .dataframe tbody tr th {\n",
       "        vertical-align: top;\n",
       "    }\n",
       "\n",
       "    .dataframe thead th {\n",
       "        text-align: right;\n",
       "    }\n",
       "</style>\n",
       "<table border=\"1\" class=\"dataframe\">\n",
       "  <thead>\n",
       "    <tr style=\"text-align: right;\">\n",
       "      <th></th>\n",
       "      <th>chr_05</th>\n",
       "      <th>chr_5_p14_deletion</th>\n",
       "    </tr>\n",
       "  </thead>\n",
       "  <tbody>\n",
       "    <tr>\n",
       "      <td>chr_05</td>\n",
       "      <td>0.945274</td>\n",
       "      <td>0.054726</td>\n",
       "    </tr>\n",
       "    <tr>\n",
       "      <td>chr_5_p14_deletion</td>\n",
       "      <td>0.118421</td>\n",
       "      <td>0.881579</td>\n",
       "    </tr>\n",
       "  </tbody>\n",
       "</table>\n",
       "</div>"
      ],
      "text/plain": [
       "                      chr_05  chr_5_p14_deletion\n",
       "chr_05              0.945274            0.054726\n",
       "chr_5_p14_deletion  0.118421            0.881579"
      ]
     },
     "execution_count": 21,
     "metadata": {},
     "output_type": "execute_result"
    }
   ],
   "source": [
    "confusion_r = pd.DataFrame(cm_r, index=label_convert,\n",
    "                        columns=label_convert)\n",
    "confusion_r.to_csv('ConfusionMatrix_Recall_Integration_CNN.csv')\n",
    "confusion_r"
   ]
  },
  {
   "cell_type": "markdown",
   "metadata": {},
   "source": [
    "### 3.10.6 Precision (查准率）"
   ]
  },
  {
   "cell_type": "code",
   "execution_count": 22,
   "metadata": {},
   "outputs": [],
   "source": [
    "subtotal_predict = [0] * 2 \n",
    "for item in y_predict_filtered_concatenate_list:\n",
    "    subtotal_predict[item] = subtotal_predict[item] + 1"
   ]
  },
  {
   "cell_type": "markdown",
   "metadata": {},
   "source": [
    "#### predict number divided by y predicted"
   ]
  },
  {
   "cell_type": "code",
   "execution_count": 23,
   "metadata": {},
   "outputs": [],
   "source": [
    "cm_p = []\n",
    "for i in range(2):\n",
    "    cm_p.append(cm[:,i]/subtotal_predict[i])"
   ]
  },
  {
   "cell_type": "code",
   "execution_count": 24,
   "metadata": {},
   "outputs": [
    {
     "data": {
      "text/html": [
       "<div>\n",
       "<style scoped>\n",
       "    .dataframe tbody tr th:only-of-type {\n",
       "        vertical-align: middle;\n",
       "    }\n",
       "\n",
       "    .dataframe tbody tr th {\n",
       "        vertical-align: top;\n",
       "    }\n",
       "\n",
       "    .dataframe thead th {\n",
       "        text-align: right;\n",
       "    }\n",
       "</style>\n",
       "<table border=\"1\" class=\"dataframe\">\n",
       "  <thead>\n",
       "    <tr style=\"text-align: right;\">\n",
       "      <th></th>\n",
       "      <th>chr_05</th>\n",
       "      <th>chr_5_p14_deletion</th>\n",
       "    </tr>\n",
       "  </thead>\n",
       "  <tbody>\n",
       "    <tr>\n",
       "      <td>chr_05</td>\n",
       "      <td>0.954774</td>\n",
       "      <td>0.045226</td>\n",
       "    </tr>\n",
       "    <tr>\n",
       "      <td>chr_5_p14_deletion</td>\n",
       "      <td>0.141026</td>\n",
       "      <td>0.858974</td>\n",
       "    </tr>\n",
       "  </tbody>\n",
       "</table>\n",
       "</div>"
      ],
      "text/plain": [
       "                      chr_05  chr_5_p14_deletion\n",
       "chr_05              0.954774            0.045226\n",
       "chr_5_p14_deletion  0.141026            0.858974"
      ]
     },
     "execution_count": 24,
     "metadata": {},
     "output_type": "execute_result"
    }
   ],
   "source": [
    "confusion_p = pd.DataFrame(cm_p, index=label_convert,\n",
    "                        columns=label_convert)\n",
    "confusion_p.to_csv('ConfusionMatrix_Precision_Integration_CNN.csv')\n",
    "confusion_p"
   ]
  },
  {
   "cell_type": "markdown",
   "metadata": {},
   "source": [
    "#### Heat Map: Number"
   ]
  },
  {
   "cell_type": "code",
   "execution_count": 25,
   "metadata": {
    "scrolled": false
   },
   "outputs": [
    {
     "data": {
      "image/png": "[encoded data removed]",
      "text/plain": [
       "<Figure size 2160x1728 with 2 Axes>"
      ]
     },
     "metadata": {
      "needs_background": "light"
     },
     "output_type": "display_data"
    }
   ],
   "source": [
    "plt.figure(figsize=(30, 24))\n",
    "heat_map = sb.heatmap(confusion, annot=True,  fmt='g',# It's a Seaborn function\n",
    "                      cmap='coolwarm', \n",
    "                      xticklabels=confusion.columns, yticklabels=confusion.index, \n",
    "                      linewidths=.5, \n",
    "                      annot_kws={\"size\": 50})\n",
    "sb.set(font_scale = 4)"
   ]
  },
  {
   "cell_type": "markdown",
   "metadata": {},
   "source": [
    "#### Heat Map of Recall: Rate (important!!!)"
   ]
  },
  {
   "cell_type": "code",
   "execution_count": 26,
   "metadata": {
    "scrolled": false
   },
   "outputs": [
    {
     "data": {
      "image/png": "[encoded data removed]",
      "text/plain": [
       "<Figure size 2160x1728 with 2 Axes>"
      ]
     },
     "metadata": {},
     "output_type": "display_data"
    }
   ],
   "source": [
    "plt.figure(figsize=(30, 24))\n",
    "heat_map_r = sb.heatmap(confusion_r, annot=True,  # It's a Seaborn function\n",
    "                      cmap='coolwarm', \n",
    "                      xticklabels=confusion.columns, yticklabels=confusion.index, \n",
    "                      linewidths=1, \n",
    "                      annot_kws={\"size\": 50})\n",
    "sb.set(font_scale = 4)"
   ]
  },
  {
   "cell_type": "code",
   "execution_count": 27,
   "metadata": {},
   "outputs": [
    {
     "data": {
      "image/png": "[encoded data removed]",
      "text/plain": [
       "<Figure size 2160x1728 with 2 Axes>"
      ]
     },
     "metadata": {},
     "output_type": "display_data"
    }
   ],
   "source": [
    "plt.figure(figsize=(30, 24))\n",
    "heat_map_p = sb.heatmap(confusion_p, annot=True,  # It's a Seaborn function\n",
    "                      cmap='coolwarm', \n",
    "                      xticklabels=confusion.columns, yticklabels=confusion.index, \n",
    "                      linewidths=1, \n",
    "                      annot_kws={\"size\": 50})\n",
    "sb.set(font_scale = 4)"
   ]
  },
  {
   "cell_type": "code",
   "execution_count": 28,
   "metadata": {},
   "outputs": [],
   "source": [
    "fig = heat_map.get_figure()    \n",
    "fig.savefig('Heatmap_Combination.png', dpi=400)"
   ]
  },
  {
   "cell_type": "code",
   "execution_count": 29,
   "metadata": {},
   "outputs": [],
   "source": [
    "fig_r = heat_map_r.get_figure()    \n",
    "fig_r.savefig('Heatmap_Recall_Combination.png', dpi=400)"
   ]
  },
  {
   "cell_type": "code",
   "execution_count": 30,
   "metadata": {},
   "outputs": [
    {
     "ename": "MemoryError",
     "evalue": "In RendererAgg: Out of memory",
     "output_type": "error",
     "traceback": [
      "\u001b[1;31m---------------------------------------------------------------------------\u001b[0m",
      "\u001b[1;31mMemoryError\u001b[0m                               Traceback (most recent call last)",
      "\u001b[1;32m<ipython-input-30-351307d9f472>\u001b[0m in \u001b[0;36m<module>\u001b[1;34m\u001b[0m\n\u001b[0;32m      1\u001b[0m \u001b[0mfig_p\u001b[0m \u001b[1;33m=\u001b[0m \u001b[0mheat_map_p\u001b[0m\u001b[1;33m.\u001b[0m\u001b[0mget_figure\u001b[0m\u001b[1;33m(\u001b[0m\u001b[1;33m)\u001b[0m\u001b[1;33m\u001b[0m\u001b[1;33m\u001b[0m\u001b[0m\n\u001b[1;32m----> 2\u001b[1;33m \u001b[0mfig_p\u001b[0m\u001b[1;33m.\u001b[0m\u001b[0msavefig\u001b[0m\u001b[1;33m(\u001b[0m\u001b[1;34m'Heatmap_Precision_Combination.png'\u001b[0m\u001b[1;33m,\u001b[0m \u001b[0mdpi\u001b[0m\u001b[1;33m=\u001b[0m\u001b[1;36m400\u001b[0m\u001b[1;33m)\u001b[0m\u001b[1;33m\u001b[0m\u001b[1;33m\u001b[0m\u001b[0m\n\u001b[0m",
      "\u001b[1;32mC:\\Anaconda3\\lib\\site-packages\\matplotlib\\figure.py\u001b[0m in \u001b[0;36msavefig\u001b[1;34m(self, fname, transparent, **kwargs)\u001b[0m\n\u001b[0;32m   2178\u001b[0m             \u001b[0mself\u001b[0m\u001b[1;33m.\u001b[0m\u001b[0mpatch\u001b[0m\u001b[1;33m.\u001b[0m\u001b[0mset_visible\u001b[0m\u001b[1;33m(\u001b[0m\u001b[0mframeon\u001b[0m\u001b[1;33m)\u001b[0m\u001b[1;33m\u001b[0m\u001b[1;33m\u001b[0m\u001b[0m\n\u001b[0;32m   2179\u001b[0m \u001b[1;33m\u001b[0m\u001b[0m\n\u001b[1;32m-> 2180\u001b[1;33m         \u001b[0mself\u001b[0m\u001b[1;33m.\u001b[0m\u001b[0mcanvas\u001b[0m\u001b[1;33m.\u001b[0m\u001b[0mprint_figure\u001b[0m\u001b[1;33m(\u001b[0m\u001b[0mfname\u001b[0m\u001b[1;33m,\u001b[0m \u001b[1;33m**\u001b[0m\u001b[0mkwargs\u001b[0m\u001b[1;33m)\u001b[0m\u001b[1;33m\u001b[0m\u001b[1;33m\u001b[0m\u001b[0m\n\u001b[0m\u001b[0;32m   2181\u001b[0m \u001b[1;33m\u001b[0m\u001b[0m\n\u001b[0;32m   2182\u001b[0m         \u001b[1;32mif\u001b[0m \u001b[0mframeon\u001b[0m\u001b[1;33m:\u001b[0m\u001b[1;33m\u001b[0m\u001b[1;33m\u001b[0m\u001b[0m\n",
      "\u001b[1;32mC:\\Anaconda3\\lib\\site-packages\\matplotlib\\backend_bases.py\u001b[0m in \u001b[0;36mprint_figure\u001b[1;34m(self, filename, dpi, facecolor, edgecolor, orientation, format, bbox_inches, **kwargs)\u001b[0m\n\u001b[0;32m   2080\u001b[0m                     \u001b[0morientation\u001b[0m\u001b[1;33m=\u001b[0m\u001b[0morientation\u001b[0m\u001b[1;33m,\u001b[0m\u001b[1;33m\u001b[0m\u001b[1;33m\u001b[0m\u001b[0m\n\u001b[0;32m   2081\u001b[0m                     \u001b[0mbbox_inches_restore\u001b[0m\u001b[1;33m=\u001b[0m\u001b[0m_bbox_inches_restore\u001b[0m\u001b[1;33m,\u001b[0m\u001b[1;33m\u001b[0m\u001b[1;33m\u001b[0m\u001b[0m\n\u001b[1;32m-> 2082\u001b[1;33m                     **kwargs)\n\u001b[0m\u001b[0;32m   2083\u001b[0m             \u001b[1;32mfinally\u001b[0m\u001b[1;33m:\u001b[0m\u001b[1;33m\u001b[0m\u001b[1;33m\u001b[0m\u001b[0m\n\u001b[0;32m   2084\u001b[0m                 \u001b[1;32mif\u001b[0m \u001b[0mbbox_inches\u001b[0m \u001b[1;32mand\u001b[0m \u001b[0mrestore_bbox\u001b[0m\u001b[1;33m:\u001b[0m\u001b[1;33m\u001b[0m\u001b[1;33m\u001b[0m\u001b[0m\n",
      "\u001b[1;32mC:\\Anaconda3\\lib\\site-packages\\matplotlib\\backends\\backend_agg.py\u001b[0m in \u001b[0;36mprint_png\u001b[1;34m(self, filename_or_obj, metadata, pil_kwargs, *args, **kwargs)\u001b[0m\n\u001b[0;32m    525\u001b[0m \u001b[1;33m\u001b[0m\u001b[0m\n\u001b[0;32m    526\u001b[0m         \u001b[1;32melse\u001b[0m\u001b[1;33m:\u001b[0m\u001b[1;33m\u001b[0m\u001b[1;33m\u001b[0m\u001b[0m\n\u001b[1;32m--> 527\u001b[1;33m             \u001b[0mFigureCanvasAgg\u001b[0m\u001b[1;33m.\u001b[0m\u001b[0mdraw\u001b[0m\u001b[1;33m(\u001b[0m\u001b[0mself\u001b[0m\u001b[1;33m)\u001b[0m\u001b[1;33m\u001b[0m\u001b[1;33m\u001b[0m\u001b[0m\n\u001b[0m\u001b[0;32m    528\u001b[0m             \u001b[0mrenderer\u001b[0m \u001b[1;33m=\u001b[0m \u001b[0mself\u001b[0m\u001b[1;33m.\u001b[0m\u001b[0mget_renderer\u001b[0m\u001b[1;33m(\u001b[0m\u001b[1;33m)\u001b[0m\u001b[1;33m\u001b[0m\u001b[1;33m\u001b[0m\u001b[0m\n\u001b[0;32m    529\u001b[0m             \u001b[1;32mwith\u001b[0m \u001b[0mcbook\u001b[0m\u001b[1;33m.\u001b[0m\u001b[0m_setattr_cm\u001b[0m\u001b[1;33m(\u001b[0m\u001b[0mrenderer\u001b[0m\u001b[1;33m,\u001b[0m \u001b[0mdpi\u001b[0m\u001b[1;33m=\u001b[0m\u001b[0mself\u001b[0m\u001b[1;33m.\u001b[0m\u001b[0mfigure\u001b[0m\u001b[1;33m.\u001b[0m\u001b[0mdpi\u001b[0m\u001b[1;33m)\u001b[0m\u001b[1;33m,\u001b[0m\u001b[0;31m \u001b[0m\u001b[0;31m\\\u001b[0m\u001b[1;33m\u001b[0m\u001b[1;33m\u001b[0m\u001b[0m\n",
      "\u001b[1;32mC:\\Anaconda3\\lib\\site-packages\\matplotlib\\backends\\backend_agg.py\u001b[0m in \u001b[0;36mdraw\u001b[1;34m(self)\u001b[0m\n\u001b[0;32m    384\u001b[0m         \u001b[0mDraw\u001b[0m \u001b[0mthe\u001b[0m \u001b[0mfigure\u001b[0m \u001b[0musing\u001b[0m \u001b[0mthe\u001b[0m \u001b[0mrenderer\u001b[0m\u001b[1;33m.\u001b[0m\u001b[1;33m\u001b[0m\u001b[1;33m\u001b[0m\u001b[0m\n\u001b[0;32m    385\u001b[0m         \"\"\"\n\u001b[1;32m--> 386\u001b[1;33m         \u001b[0mself\u001b[0m\u001b[1;33m.\u001b[0m\u001b[0mrenderer\u001b[0m \u001b[1;33m=\u001b[0m \u001b[0mself\u001b[0m\u001b[1;33m.\u001b[0m\u001b[0mget_renderer\u001b[0m\u001b[1;33m(\u001b[0m\u001b[0mcleared\u001b[0m\u001b[1;33m=\u001b[0m\u001b[1;32mTrue\u001b[0m\u001b[1;33m)\u001b[0m\u001b[1;33m\u001b[0m\u001b[1;33m\u001b[0m\u001b[0m\n\u001b[0m\u001b[0;32m    387\u001b[0m         \u001b[1;32mwith\u001b[0m \u001b[0mRendererAgg\u001b[0m\u001b[1;33m.\u001b[0m\u001b[0mlock\u001b[0m\u001b[1;33m:\u001b[0m\u001b[1;33m\u001b[0m\u001b[1;33m\u001b[0m\u001b[0m\n\u001b[0;32m    388\u001b[0m             \u001b[0mself\u001b[0m\u001b[1;33m.\u001b[0m\u001b[0mfigure\u001b[0m\u001b[1;33m.\u001b[0m\u001b[0mdraw\u001b[0m\u001b[1;33m(\u001b[0m\u001b[0mself\u001b[0m\u001b[1;33m.\u001b[0m\u001b[0mrenderer\u001b[0m\u001b[1;33m)\u001b[0m\u001b[1;33m\u001b[0m\u001b[1;33m\u001b[0m\u001b[0m\n",
      "\u001b[1;32mC:\\Anaconda3\\lib\\site-packages\\matplotlib\\backends\\backend_agg.py\u001b[0m in \u001b[0;36mget_renderer\u001b[1;34m(self, cleared)\u001b[0m\n\u001b[0;32m    397\u001b[0m                           and getattr(self, \"_lastKey\", None) == key)\n\u001b[0;32m    398\u001b[0m         \u001b[1;32mif\u001b[0m \u001b[1;32mnot\u001b[0m \u001b[0mreuse_renderer\u001b[0m\u001b[1;33m:\u001b[0m\u001b[1;33m\u001b[0m\u001b[1;33m\u001b[0m\u001b[0m\n\u001b[1;32m--> 399\u001b[1;33m             \u001b[0mself\u001b[0m\u001b[1;33m.\u001b[0m\u001b[0mrenderer\u001b[0m \u001b[1;33m=\u001b[0m \u001b[0mRendererAgg\u001b[0m\u001b[1;33m(\u001b[0m\u001b[0mw\u001b[0m\u001b[1;33m,\u001b[0m \u001b[0mh\u001b[0m\u001b[1;33m,\u001b[0m \u001b[0mself\u001b[0m\u001b[1;33m.\u001b[0m\u001b[0mfigure\u001b[0m\u001b[1;33m.\u001b[0m\u001b[0mdpi\u001b[0m\u001b[1;33m)\u001b[0m\u001b[1;33m\u001b[0m\u001b[1;33m\u001b[0m\u001b[0m\n\u001b[0m\u001b[0;32m    400\u001b[0m             \u001b[0mself\u001b[0m\u001b[1;33m.\u001b[0m\u001b[0m_lastKey\u001b[0m \u001b[1;33m=\u001b[0m \u001b[0mkey\u001b[0m\u001b[1;33m\u001b[0m\u001b[1;33m\u001b[0m\u001b[0m\n\u001b[0;32m    401\u001b[0m         \u001b[1;32melif\u001b[0m \u001b[0mcleared\u001b[0m\u001b[1;33m:\u001b[0m\u001b[1;33m\u001b[0m\u001b[1;33m\u001b[0m\u001b[0m\n",
      "\u001b[1;32mC:\\Anaconda3\\lib\\site-packages\\matplotlib\\backends\\backend_agg.py\u001b[0m in \u001b[0;36m__init__\u001b[1;34m(self, width, height, dpi)\u001b[0m\n\u001b[0;32m     84\u001b[0m         \u001b[0mself\u001b[0m\u001b[1;33m.\u001b[0m\u001b[0mwidth\u001b[0m \u001b[1;33m=\u001b[0m \u001b[0mwidth\u001b[0m\u001b[1;33m\u001b[0m\u001b[1;33m\u001b[0m\u001b[0m\n\u001b[0;32m     85\u001b[0m         \u001b[0mself\u001b[0m\u001b[1;33m.\u001b[0m\u001b[0mheight\u001b[0m \u001b[1;33m=\u001b[0m \u001b[0mheight\u001b[0m\u001b[1;33m\u001b[0m\u001b[1;33m\u001b[0m\u001b[0m\n\u001b[1;32m---> 86\u001b[1;33m         \u001b[0mself\u001b[0m\u001b[1;33m.\u001b[0m\u001b[0m_renderer\u001b[0m \u001b[1;33m=\u001b[0m \u001b[0m_RendererAgg\u001b[0m\u001b[1;33m(\u001b[0m\u001b[0mint\u001b[0m\u001b[1;33m(\u001b[0m\u001b[0mwidth\u001b[0m\u001b[1;33m)\u001b[0m\u001b[1;33m,\u001b[0m \u001b[0mint\u001b[0m\u001b[1;33m(\u001b[0m\u001b[0mheight\u001b[0m\u001b[1;33m)\u001b[0m\u001b[1;33m,\u001b[0m \u001b[0mdpi\u001b[0m\u001b[1;33m)\u001b[0m\u001b[1;33m\u001b[0m\u001b[1;33m\u001b[0m\u001b[0m\n\u001b[0m\u001b[0;32m     87\u001b[0m         \u001b[0mself\u001b[0m\u001b[1;33m.\u001b[0m\u001b[0m_filter_renderers\u001b[0m \u001b[1;33m=\u001b[0m \u001b[1;33m[\u001b[0m\u001b[1;33m]\u001b[0m\u001b[1;33m\u001b[0m\u001b[1;33m\u001b[0m\u001b[0m\n\u001b[0;32m     88\u001b[0m \u001b[1;33m\u001b[0m\u001b[0m\n",
      "\u001b[1;31mMemoryError\u001b[0m: In RendererAgg: Out of memory"
     ]
    }
   ],
   "source": [
    "fig_p = heat_map_p.get_figure()    \n",
    "fig_p.savefig('Heatmap_Precision_Combination.png', dpi=400)"
   ]
  },
  {
   "cell_type": "markdown",
   "metadata": {},
   "source": [
    "# ROC Curve"
   ]
  },
  {
   "cell_type": "code",
   "execution_count": null,
   "metadata": {},
   "outputs": [],
   "source": [
    "y_predict_concatenate_array = np.array(y_predict_concatenate_list)\n",
    "y_predict_concatenate_array"
   ]
  },
  {
   "cell_type": "code",
   "execution_count": null,
   "metadata": {},
   "outputs": [],
   "source": [
    "y_predict_concatenate_array.shape"
   ]
  },
  {
   "cell_type": "code",
   "execution_count": null,
   "metadata": {},
   "outputs": [],
   "source": [
    "y_predict_1D = y_predict_concatenate_array[:,0]"
   ]
  },
  {
   "cell_type": "code",
   "execution_count": null,
   "metadata": {},
   "outputs": [],
   "source": [
    "y_predict_1D_processed = 1- y_predict_1D"
   ]
  },
  {
   "cell_type": "code",
   "execution_count": null,
   "metadata": {},
   "outputs": [],
   "source": [
    "fpr , tpr , thresholds = roc_curve(y_test_concatenate_list , y_predict_1D_processed)\n",
    "auc_rf = auc(fpr, tpr)"
   ]
  },
  {
   "cell_type": "code",
   "execution_count": null,
   "metadata": {},
   "outputs": [],
   "source": [
    "fpr"
   ]
  },
  {
   "cell_type": "code",
   "execution_count": null,
   "metadata": {},
   "outputs": [],
   "source": [
    "tpr"
   ]
  },
  {
   "cell_type": "code",
   "execution_count": null,
   "metadata": {},
   "outputs": [],
   "source": [
    "thresholds"
   ]
  },
  {
   "cell_type": "code",
   "execution_count": null,
   "metadata": {},
   "outputs": [],
   "source": [
    "auc_rf"
   ]
  },
  {
   "cell_type": "code",
   "execution_count": null,
   "metadata": {},
   "outputs": [],
   "source": [
    "x = y = np.arange(0, 1.1, 0.1)"
   ]
  },
  {
   "cell_type": "code",
   "execution_count": null,
   "metadata": {},
   "outputs": [],
   "source": [
    "x"
   ]
  },
  {
   "cell_type": "code",
   "execution_count": null,
   "metadata": {
    "scrolled": false
   },
   "outputs": [],
   "source": [
    "fig = plt.figure()\n",
    "plt.style.use('classic')\n",
    "\n",
    "ax = fig.add_subplot(111)\n",
    "\n",
    "plt.plot(fpr, tpr, color='blue', linewidth=1.5)\n",
    "\n",
    "plt.plot(x, y, '--', color='black', linewidth=1.5)\n",
    "\n",
    "plt.title('ROC curve of Chr_05p14', fontsize=15, fontname = 'Times New Roman')\n",
    "plt.xlabel('False Positive Rate', fontsize=15, fontname = 'Times New Roman')\n",
    "plt.ylabel('True positive Rate', fontsize=15, fontname = 'Times New Roman')\n",
    "\n",
    "ax.set_aspect('equal', adjustable='box')\n",
    "\n",
    "plt.xlim(-0.08, 1.1)\n",
    "plt.ylim(-0.08, 1.1)\n",
    "\n",
    "plt.xticks(fontsize=15, fontname = 'Arial')\n",
    "plt.yticks(fontsize=15, fontname = 'Arial')\n",
    "\n",
    "plt.savefig('ROC_Curve_Combination.png', dpi=600)\n",
    "plt.show()"
   ]
  },
  {
   "cell_type": "markdown",
   "metadata": {},
   "source": [
    "#### 3.10.4.1 AUC Value"
   ]
  },
  {
   "cell_type": "code",
   "execution_count": null,
   "metadata": {},
   "outputs": [],
   "source": [
    "auc_value = auc(fpr, tpr)"
   ]
  },
  {
   "cell_type": "code",
   "execution_count": null,
   "metadata": {},
   "outputs": [],
   "source": [
    "print('AUC is ', auc_value)"
   ]
  },
  {
   "cell_type": "markdown",
   "metadata": {},
   "source": [
    "# Results"
   ]
  },
  {
   "cell_type": "code",
   "execution_count": null,
   "metadata": {},
   "outputs": [],
   "source": [
    "print('Test Accuracy: %.3f' % acc)"
   ]
  },
  {
   "cell_type": "code",
   "execution_count": null,
   "metadata": {
    "scrolled": true
   },
   "outputs": [],
   "source": [
    "print(performanceReport)"
   ]
  },
  {
   "cell_type": "code",
   "execution_count": null,
   "metadata": {},
   "outputs": [],
   "source": [
    "type(performanceReport)"
   ]
  },
  {
   "cell_type": "code",
   "execution_count": null,
   "metadata": {},
   "outputs": [],
   "source": [
    "print('AUC is ', auc_value)"
   ]
  },
  {
   "cell_type": "markdown",
   "metadata": {},
   "source": [
    "## Export to a text file"
   ]
  },
  {
   "cell_type": "code",
   "execution_count": null,
   "metadata": {},
   "outputs": [],
   "source": [
    "file_report = open('ResultsCombination.txt', 'w')\n",
    "file_report.write('Accuracy: %s\\n\\n' % acc)\n",
    "file_report.write('AUC: %s.\\n\\n' % auc_value)\n",
    "file_report.write('Performance Report: \\n%s\\n\\n' % performanceReport)\n",
    "file_report.write('Confusion Matrix: \\n%s.\\n\\n' % confusion)\n",
    "file_report.write('Recall of Confusion Matrix: \\n%s.\\n\\n' % confusion_r)\n",
    "file_report.write('Precision of Confusion Matrix: \\n%s.\\n\\n' % confusion_p)\n",
    "file_report.close()"
   ]
  },
  {
   "cell_type": "markdown",
   "metadata": {},
   "source": [
    "## Export ROC Parameters"
   ]
  },
  {
   "cell_type": "code",
   "execution_count": null,
   "metadata": {},
   "outputs": [],
   "source": [
    "with open('tpr_' + label_convert[1] + '.npy', 'wb') as file_tpr:\n",
    "    np.save(file_tpr, np.array(tpr))\n",
    "    \n",
    "with open('fpr_' + label_convert[1] + '.npy', 'wb') as file_fpr:\n",
    "    np.save(file_fpr, np.array(fpr))\n",
    "    \n",
    "with open('thresholds_' + label_convert[1] + '.npy', 'wb') as file_thresholds:\n",
    "    np.save(file_thresholds, np.array(thresholds))"
   ]
  }
 ],
 "metadata": {
  "kernelspec": {
   "display_name": "Python 3",
   "language": "python",
   "name": "python3"
  },
  "language_info": {
   "codemirror_mode": {
    "name": "ipython",
    "version": 3
   },
   "file_extension": ".py",
   "mimetype": "text/x-python",
   "name": "python",
   "nbconvert_exporter": "python",
   "pygments_lexer": "ipython3",
   "version": "3.7.4"
  }
 },
 "nbformat": 4,
 "nbformat_minor": 2
}
