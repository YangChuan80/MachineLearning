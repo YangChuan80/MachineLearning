{
 "cells": [
  {
   "cell_type": "code",
   "execution_count": 1,
   "metadata": {},
   "outputs": [
    {
     "name": "stderr",
     "output_type": "stream",
     "text": [
      "C:\\Anaconda3\\lib\\site-packages\\pandas\\compat\\_optional.py:138: UserWarning: Pandas requires version '2.7.0' or newer of 'numexpr' (version '2.6.9' currently installed).\n",
      "  warnings.warn(msg, UserWarning)\n"
     ]
    }
   ],
   "source": [
    "import numpy as np\n",
    "import pandas as pd\n",
    "import matplotlib.pyplot as plt\n",
    "\n",
    "from sklearn.metrics import classification_report, confusion_matrix, roc_curve, auc, accuracy_score\n",
    "\n",
    "import seaborn as sb"
   ]
  },
  {
   "cell_type": "code",
   "execution_count": 2,
   "metadata": {},
   "outputs": [],
   "source": [
    "chromConvert = {\n",
    "               'chr_05': 0, \n",
    "               'chr_5_p14_deletion': 1\n",
    "               }"
   ]
  },
  {
   "cell_type": "code",
   "execution_count": 3,
   "metadata": {},
   "outputs": [],
   "source": [
    "chromConvert_reverse = {\n",
    "                0: 'chr_05',\n",
    "                1: 'chr_5_p14_deletion'\n",
    "               }"
   ]
  },
  {
   "cell_type": "code",
   "execution_count": 4,
   "metadata": {},
   "outputs": [],
   "source": [
    "label = ['chr_05', 'chr_5_p14_deletion']\n",
    "\n",
    "label_convert = []\n",
    "\n",
    "for i in range(2):\n",
    "    label_convert.append(chromConvert_reverse[i])"
   ]
  },
  {
   "cell_type": "markdown",
   "metadata": {},
   "source": [
    "# Load test and predict values"
   ]
  },
  {
   "cell_type": "code",
   "execution_count": 5,
   "metadata": {},
   "outputs": [],
   "source": [
    "y_test_all = []\n",
    "y_predict_all = []\n",
    "y_predict_filtered_all = []"
   ]
  },
  {
   "cell_type": "code",
   "execution_count": 6,
   "metadata": {},
   "outputs": [],
   "source": [
    "for iterationNumber in range(7):\n",
    "    with open('data_y_test_value_iteration_' + str(iterationNumber) + '.npy', 'rb') as f_y_test:\n",
    "        y_test_all.append(np.load(f_y_test))\n",
    "        \n",
    "    with open('data_y_predict_value_iteration_' + str(iterationNumber) + '.npy', 'rb') as f_y_predict:\n",
    "        y_predict_all.append(np.load(f_y_predict))                             \n",
    "                        \n",
    "    with open('data_y_predict_filtered_value_iteration_' + str(iterationNumber) + '.npy', 'rb') as f_y_predict_filtered:\n",
    "        y_predict_filtered_all.append(np.load(f_y_predict_filtered))"
   ]
  },
  {
   "cell_type": "code",
   "execution_count": 7,
   "metadata": {},
   "outputs": [
    {
     "data": {
      "text/plain": [
       "(40, 2)"
      ]
     },
     "execution_count": 7,
     "metadata": {},
     "output_type": "execute_result"
    }
   ],
   "source": [
    "y_predict_all[0].shape"
   ]
  },
  {
   "cell_type": "code",
   "execution_count": 8,
   "metadata": {
    "scrolled": true
   },
   "outputs": [
    {
     "data": {
      "text/plain": [
       "[array([[1.0000000e+00, 6.9965148e-07],\n",
       "        [7.0786780e-01, 3.3203268e-01],\n",
       "        [9.9999869e-01, 4.1121788e-05],\n",
       "        [9.9999356e-01, 9.9405872e-05],\n",
       "        [1.0000000e+00, 2.0722155e-06],\n",
       "        [9.9525225e-01, 1.4807526e-02],\n",
       "        [9.9999988e-01, 3.8294666e-06],\n",
       "        [9.9997962e-01, 4.7025684e-04],\n",
       "        [9.9548727e-01, 4.4729412e-02],\n",
       "        [1.0000000e+00, 2.5075323e-07],\n",
       "        [9.9998856e-01, 4.7930109e-05],\n",
       "        [9.9999940e-01, 4.4749173e-05],\n",
       "        [1.0000000e+00, 9.3860700e-07],\n",
       "        [9.9999976e-01, 1.1835980e-05],\n",
       "        [9.9992967e-01, 6.9684733e-04],\n",
       "        [1.0000000e+00, 1.0590940e-06],\n",
       "        [9.9999976e-01, 6.6987886e-06],\n",
       "        [9.9999702e-01, 8.1211067e-05],\n",
       "        [9.9097365e-01, 1.5582975e-02],\n",
       "        [9.9999130e-01, 3.7619023e-04],\n",
       "        [1.0000000e+00, 4.9192386e-07],\n",
       "        [1.0000000e+00, 2.6464215e-06],\n",
       "        [9.9999821e-01, 8.0025784e-05],\n",
       "        [9.9999952e-01, 2.7157914e-05],\n",
       "        [9.9999845e-01, 9.1391797e-05],\n",
       "        [9.9112636e-01, 3.2090411e-02],\n",
       "        [9.9998391e-01, 4.4870548e-04],\n",
       "        [9.9996388e-01, 6.5152184e-04],\n",
       "        [9.9999893e-01, 7.3048846e-05],\n",
       "        [1.7980758e-05, 9.9900514e-01],\n",
       "        [6.5467066e-07, 9.9995220e-01],\n",
       "        [4.6422228e-01, 6.0451806e-01],\n",
       "        [6.1595184e-03, 9.7148526e-01],\n",
       "        [6.7700617e-05, 9.9918824e-01],\n",
       "        [1.0245608e-06, 9.9984813e-01],\n",
       "        [6.7983960e-06, 9.9966598e-01],\n",
       "        [6.1813677e-07, 9.9991298e-01],\n",
       "        [2.1506275e-09, 9.9999726e-01],\n",
       "        [8.2194136e-05, 9.9802339e-01],\n",
       "        [2.0944464e-07, 9.9997103e-01]], dtype=float32),\n",
       " array([[6.4145738e-01, 3.7273441e-02],\n",
       "        [9.9999940e-01, 3.2941899e-10],\n",
       "        [3.3943839e-03, 9.0864730e-01],\n",
       "        [9.9997449e-01, 6.2847103e-06],\n",
       "        [1.0000000e+00, 9.9969304e-12],\n",
       "        [1.0000000e+00, 1.8990801e-10],\n",
       "        [9.9999535e-01, 1.2984329e-07],\n",
       "        [9.9994659e-01, 1.3056515e-06],\n",
       "        [1.0000000e+00, 3.9661814e-15],\n",
       "        [1.0000000e+00, 4.8198372e-12],\n",
       "        [1.0000000e+00, 2.8402061e-15],\n",
       "        [1.0000000e+00, 9.3792397e-11],\n",
       "        [9.9997103e-01, 1.4277140e-06],\n",
       "        [1.0000000e+00, 2.2142399e-10],\n",
       "        [1.3643199e-01, 3.9384541e-01],\n",
       "        [9.9999976e-01, 3.5298402e-09],\n",
       "        [1.0000000e+00, 1.1472231e-15],\n",
       "        [1.0000000e+00, 7.7917714e-11],\n",
       "        [1.0000000e+00, 1.4448547e-09],\n",
       "        [1.0000000e+00, 2.9879044e-11],\n",
       "        [9.9992406e-01, 6.8566119e-06],\n",
       "        [9.9997640e-01, 1.6253646e-06],\n",
       "        [9.9999952e-01, 6.9262441e-08],\n",
       "        [1.0000000e+00, 6.3238423e-13],\n",
       "        [9.9994528e-01, 3.3687625e-06],\n",
       "        [8.9922929e-01, 1.3779984e-02],\n",
       "        [9.5114857e-01, 8.5940734e-03],\n",
       "        [9.9993944e-01, 5.0500184e-06],\n",
       "        [9.9265492e-01, 8.1930222e-04],\n",
       "        [9.5030729e-05, 9.9855191e-01],\n",
       "        [6.8548028e-03, 5.8721727e-01],\n",
       "        [4.7453832e-02, 4.6506944e-01],\n",
       "        [1.6357105e-02, 2.4230397e-01],\n",
       "        [2.6790065e-01, 8.2424708e-02],\n",
       "        [2.3973912e-03, 9.8401147e-01],\n",
       "        [4.4988794e-03, 8.8041395e-01],\n",
       "        [1.0927634e-01, 4.5648700e-01],\n",
       "        [1.2709131e-05, 9.9971813e-01],\n",
       "        [1.0885670e-02, 9.0906960e-01],\n",
       "        [8.7984197e-05, 9.9604684e-01]], dtype=float32),\n",
       " array([[9.99629259e-01, 2.05606618e-03],\n",
       "        [3.98641592e-03, 9.99473155e-01],\n",
       "        [9.06808794e-01, 3.74026448e-01],\n",
       "        [5.64007610e-02, 9.95493770e-01],\n",
       "        [9.99982119e-01, 3.80887010e-04],\n",
       "        [9.99692082e-01, 2.41569569e-03],\n",
       "        [1.00000000e+00, 4.54878339e-08],\n",
       "        [1.00000000e+00, 1.81953226e-07],\n",
       "        [9.99999762e-01, 5.57972771e-06],\n",
       "        [9.99854922e-01, 1.70344557e-03],\n",
       "        [1.00000000e+00, 8.18345256e-07],\n",
       "        [9.32364225e-01, 1.27288252e-01],\n",
       "        [9.99999762e-01, 3.00561624e-06],\n",
       "        [9.99987841e-01, 7.01926620e-05],\n",
       "        [9.99895930e-01, 4.62659547e-04],\n",
       "        [9.98249829e-01, 1.84161458e-02],\n",
       "        [9.23341155e-01, 4.42261428e-01],\n",
       "        [9.99998569e-01, 9.38788344e-06],\n",
       "        [1.33951614e-02, 9.98361766e-01],\n",
       "        [9.99998212e-01, 3.63958352e-05],\n",
       "        [9.99999881e-01, 4.73370989e-07],\n",
       "        [9.99957919e-01, 5.55637234e-04],\n",
       "        [9.99991775e-01, 6.58999561e-05],\n",
       "        [9.83905733e-01, 3.81044522e-02],\n",
       "        [1.00000000e+00, 1.91365164e-08],\n",
       "        [9.99999881e-01, 1.61554362e-06],\n",
       "        [9.99979973e-01, 2.66874791e-04],\n",
       "        [9.99995947e-01, 6.84852712e-05],\n",
       "        [9.99999523e-01, 1.10256351e-05],\n",
       "        [2.65710382e-03, 9.99672890e-01],\n",
       "        [2.52440035e-01, 9.68254983e-01],\n",
       "        [1.49775725e-02, 9.98779833e-01],\n",
       "        [3.99168675e-05, 9.99989152e-01],\n",
       "        [1.11728696e-04, 9.99995470e-01],\n",
       "        [2.78946711e-04, 9.99942780e-01],\n",
       "        [5.24825789e-03, 9.99834180e-01],\n",
       "        [9.99998093e-01, 9.18280639e-05],\n",
       "        [2.73999348e-07, 1.00000000e+00],\n",
       "        [7.40755081e-01, 8.83800447e-01],\n",
       "        [9.93327618e-01, 2.24195737e-02]], dtype=float32),\n",
       " array([[9.9999988e-01, 8.1593879e-07],\n",
       "        [9.9999940e-01, 8.4990626e-07],\n",
       "        [1.0000000e+00, 1.6489430e-13],\n",
       "        [9.6635467e-01, 5.2272264e-02],\n",
       "        [5.9057310e-02, 8.7973410e-01],\n",
       "        [1.0000000e+00, 1.3860797e-14],\n",
       "        [9.9999619e-01, 1.3837779e-05],\n",
       "        [9.9999475e-01, 2.1751781e-05],\n",
       "        [1.0000000e+00, 3.5736087e-09],\n",
       "        [9.9999988e-01, 1.0760749e-06],\n",
       "        [9.9999928e-01, 3.6053136e-06],\n",
       "        [1.0000000e+00, 2.7520273e-09],\n",
       "        [9.9999964e-01, 1.1417882e-06],\n",
       "        [9.9999988e-01, 4.6278299e-07],\n",
       "        [9.9999762e-01, 1.5054109e-05],\n",
       "        [1.0000000e+00, 4.2521780e-08],\n",
       "        [9.9999988e-01, 1.4765521e-06],\n",
       "        [9.9997592e-01, 5.9893751e-05],\n",
       "        [9.4446766e-01, 4.0225524e-02],\n",
       "        [6.0655761e-01, 3.6886069e-01],\n",
       "        [9.1231201e-04, 9.9793601e-01],\n",
       "        [9.9976832e-01, 6.0871261e-04],\n",
       "        [1.0000000e+00, 1.1896482e-09],\n",
       "        [1.0000000e+00, 1.4497047e-07],\n",
       "        [9.9988127e-01, 2.7260385e-04],\n",
       "        [9.9990988e-01, 2.7115771e-04],\n",
       "        [9.9859470e-01, 3.2417313e-03],\n",
       "        [9.9999988e-01, 1.9537066e-07],\n",
       "        [9.9997747e-01, 2.6260070e-05],\n",
       "        [2.5690124e-06, 9.9998713e-01],\n",
       "        [4.7964132e-01, 6.2380582e-01],\n",
       "        [5.2747285e-01, 6.4570838e-01],\n",
       "        [6.3186797e-04, 9.9836391e-01],\n",
       "        [5.8929782e-08, 9.9999928e-01],\n",
       "        [6.9542664e-05, 9.9992883e-01],\n",
       "        [9.9999750e-01, 4.3106943e-06],\n",
       "        [2.6969196e-06, 9.9998343e-01],\n",
       "        [6.2388463e-05, 9.9978000e-01],\n",
       "        [4.2767613e-05, 9.9979645e-01],\n",
       "        [1.6563897e-08, 9.9999976e-01]], dtype=float32),\n",
       " array([[1.00000000e+00, 6.96159304e-07],\n",
       "        [1.03886448e-01, 9.89277720e-01],\n",
       "        [9.99995589e-01, 1.31024804e-04],\n",
       "        [1.00000000e+00, 1.30823514e-06],\n",
       "        [1.00000000e+00, 3.94457933e-09],\n",
       "        [1.00000000e+00, 5.65767948e-07],\n",
       "        [1.00000000e+00, 8.99460390e-15],\n",
       "        [1.00000000e+00, 1.19366730e-08],\n",
       "        [1.59744211e-02, 9.99367893e-01],\n",
       "        [1.00000000e+00, 5.53111654e-08],\n",
       "        [1.00000000e+00, 1.58387192e-09],\n",
       "        [9.99998093e-01, 9.81549019e-05],\n",
       "        [1.00000000e+00, 3.16995389e-15],\n",
       "        [1.00000000e+00, 1.93967325e-11],\n",
       "        [1.00000000e+00, 7.76969267e-10],\n",
       "        [9.99999285e-01, 5.37298256e-05],\n",
       "        [1.00000000e+00, 2.64559173e-11],\n",
       "        [9.99995470e-01, 1.19157012e-04],\n",
       "        [1.00000000e+00, 2.06553551e-07],\n",
       "        [1.00000000e+00, 5.44656977e-08],\n",
       "        [1.00000000e+00, 1.19189780e-11],\n",
       "        [1.00000000e+00, 2.44597698e-09],\n",
       "        [1.00000000e+00, 1.39957795e-14],\n",
       "        [1.00000000e+00, 1.07835841e-14],\n",
       "        [1.00000000e+00, 1.31486662e-11],\n",
       "        [1.00000000e+00, 1.91081109e-11],\n",
       "        [1.00000000e+00, 1.05037206e-08],\n",
       "        [1.00000000e+00, 2.94265199e-08],\n",
       "        [1.00000000e+00, 1.87554917e-07],\n",
       "        [9.99978423e-01, 5.38807246e-04],\n",
       "        [2.14067757e-01, 9.62660789e-01],\n",
       "        [1.00000000e+00, 1.13088150e-11],\n",
       "        [2.72808485e-02, 9.89826441e-01],\n",
       "        [9.47984338e-01, 3.22477728e-01],\n",
       "        [1.38732939e-04, 9.99965429e-01],\n",
       "        [9.94464815e-01, 3.86544764e-02],\n",
       "        [7.68729296e-06, 9.99999046e-01],\n",
       "        [3.78370464e-06, 9.99999523e-01],\n",
       "        [2.66200416e-02, 9.98444259e-01],\n",
       "        [1.86271090e-02, 9.95750189e-01]], dtype=float32),\n",
       " array([[9.35998857e-01, 2.09790558e-01],\n",
       "        [1.00000000e+00, 6.75453782e-09],\n",
       "        [9.99980330e-01, 1.13540249e-04],\n",
       "        [9.66749340e-02, 9.72236931e-01],\n",
       "        [9.99999285e-01, 1.48480376e-05],\n",
       "        [9.99999881e-01, 1.62640663e-06],\n",
       "        [9.99999881e-01, 7.78340393e-07],\n",
       "        [1.00000000e+00, 2.33749713e-08],\n",
       "        [1.00000000e+00, 3.91044780e-10],\n",
       "        [9.99801099e-01, 4.86685953e-04],\n",
       "        [1.06563032e-01, 9.84669447e-01],\n",
       "        [9.95635092e-01, 2.98949499e-02],\n",
       "        [9.96294796e-01, 3.28261815e-02],\n",
       "        [9.99999523e-01, 3.44117279e-06],\n",
       "        [1.00000000e+00, 2.49265213e-07],\n",
       "        [9.99422669e-01, 8.38241074e-03],\n",
       "        [1.00000000e+00, 5.41856959e-09],\n",
       "        [2.70550221e-01, 8.46937537e-01],\n",
       "        [8.79850937e-04, 9.99624491e-01],\n",
       "        [9.98772562e-01, 6.86319591e-03],\n",
       "        [9.99998569e-01, 9.49081095e-06],\n",
       "        [1.00000000e+00, 1.20789267e-07],\n",
       "        [9.99999881e-01, 4.22940872e-07],\n",
       "        [9.99428332e-01, 2.63088313e-03],\n",
       "        [9.99983668e-01, 7.57849120e-05],\n",
       "        [9.99995470e-01, 2.36578344e-05],\n",
       "        [1.00000000e+00, 1.37531844e-08],\n",
       "        [9.99998569e-01, 1.48570598e-05],\n",
       "        [9.92651880e-01, 2.54308004e-02],\n",
       "        [5.11365927e-09, 1.00000000e+00],\n",
       "        [4.02909927e-06, 9.99998808e-01],\n",
       "        [2.67941814e-05, 9.99991417e-01],\n",
       "        [5.75780286e-05, 9.99953747e-01],\n",
       "        [9.09881853e-03, 9.96249974e-01],\n",
       "        [1.58185847e-02, 9.88581836e-01],\n",
       "        [9.99886036e-01, 1.33742846e-03],\n",
       "        [1.34524265e-02, 9.96758759e-01],\n",
       "        [1.95642591e-01, 9.45366859e-01],\n",
       "        [5.79993963e-01, 6.97699785e-01]], dtype=float32),\n",
       " array([[1.3738039e-06, 9.9999964e-01],\n",
       "        [1.0000000e+00, 2.0755219e-16],\n",
       "        [1.0000000e+00, 4.1769803e-11],\n",
       "        [1.0000000e+00, 2.1415715e-06],\n",
       "        [1.0000000e+00, 3.2770306e-06],\n",
       "        [1.0000000e+00, 5.5145547e-13],\n",
       "        [1.0000000e+00, 2.2779832e-10],\n",
       "        [9.9999809e-01, 3.6889757e-04],\n",
       "        [9.9999678e-01, 1.4816306e-04],\n",
       "        [9.9999976e-01, 5.0196154e-06],\n",
       "        [9.9999630e-01, 2.1417282e-04],\n",
       "        [1.0000000e+00, 1.9153685e-15],\n",
       "        [1.0000000e+00, 3.3022824e-16],\n",
       "        [1.0000000e+00, 9.1484376e-11],\n",
       "        [1.0000000e+00, 2.1206599e-09],\n",
       "        [9.9999988e-01, 2.1191242e-06],\n",
       "        [9.9992502e-01, 6.2410376e-04],\n",
       "        [9.9936146e-01, 5.5922242e-03],\n",
       "        [9.9999976e-01, 4.5722709e-06],\n",
       "        [9.9999487e-01, 6.3816660e-05],\n",
       "        [1.0000000e+00, 5.0203244e-08],\n",
       "        [1.0000000e+00, 4.7644394e-07],\n",
       "        [9.9999988e-01, 4.2321462e-06],\n",
       "        [9.9872226e-01, 9.6417945e-03],\n",
       "        [1.0000000e+00, 9.0907548e-08],\n",
       "        [9.9999881e-01, 1.0950637e-05],\n",
       "        [9.9999988e-01, 1.7861148e-06],\n",
       "        [9.9998987e-01, 1.5374465e-04],\n",
       "        [4.3680604e-05, 9.9997473e-01],\n",
       "        [9.1033703e-01, 3.8926449e-01],\n",
       "        [4.3016863e-07, 9.9999976e-01],\n",
       "        [4.6943709e-01, 8.9242882e-01],\n",
       "        [1.3523460e-04, 9.9990988e-01],\n",
       "        [4.5405529e-04, 9.9979120e-01],\n",
       "        [1.8535036e-05, 9.9999142e-01],\n",
       "        [3.4077334e-07, 9.9999988e-01],\n",
       "        [7.7010728e-02, 9.7698075e-01],\n",
       "        [6.3494212e-05, 9.9997711e-01]], dtype=float32)]"
      ]
     },
     "execution_count": 8,
     "metadata": {},
     "output_type": "execute_result"
    }
   ],
   "source": [
    "y_predict_all"
   ]
  },
  {
   "cell_type": "code",
   "execution_count": 9,
   "metadata": {},
   "outputs": [],
   "source": [
    "y_test_concatenate_list = []\n",
    "y_predict_concatenate_list = []\n",
    "y_predict_filtered_concatenate_list = []"
   ]
  },
  {
   "cell_type": "code",
   "execution_count": 10,
   "metadata": {},
   "outputs": [],
   "source": [
    "for i in range(7):\n",
    "    y_test_concatenate_list.extend(list(y_test_all[i]))\n",
    "    y_predict_concatenate_list.extend(list(y_predict_all[i]))\n",
    "    y_predict_filtered_concatenate_list.extend(list(y_predict_filtered_all[i]))"
   ]
  },
  {
   "cell_type": "code",
   "execution_count": 11,
   "metadata": {},
   "outputs": [
    {
     "data": {
      "text/plain": [
       "(40, 2)"
      ]
     },
     "execution_count": 11,
     "metadata": {},
     "output_type": "execute_result"
    }
   ],
   "source": [
    "y_predict_all[0].shape"
   ]
  },
  {
   "cell_type": "code",
   "execution_count": 12,
   "metadata": {},
   "outputs": [
    {
     "data": {
      "text/plain": [
       "['chr_05', 'chr_5_p14_deletion']"
      ]
     },
     "execution_count": 12,
     "metadata": {},
     "output_type": "execute_result"
    }
   ],
   "source": [
    "label_convert"
   ]
  },
  {
   "cell_type": "code",
   "execution_count": 13,
   "metadata": {},
   "outputs": [
    {
     "data": {
      "text/plain": [
       "277"
      ]
     },
     "execution_count": 13,
     "metadata": {},
     "output_type": "execute_result"
    }
   ],
   "source": [
    "len(y_test_concatenate_list)"
   ]
  },
  {
   "cell_type": "code",
   "execution_count": 14,
   "metadata": {},
   "outputs": [
    {
     "data": {
      "text/plain": [
       "277"
      ]
     },
     "execution_count": 14,
     "metadata": {},
     "output_type": "execute_result"
    }
   ],
   "source": [
    "len(y_predict_filtered_concatenate_list)"
   ]
  },
  {
   "cell_type": "code",
   "execution_count": 15,
   "metadata": {},
   "outputs": [
    {
     "data": {
      "text/plain": [
       "277"
      ]
     },
     "execution_count": 15,
     "metadata": {},
     "output_type": "execute_result"
    }
   ],
   "source": [
    "len(y_predict_concatenate_list)"
   ]
  },
  {
   "cell_type": "markdown",
   "metadata": {},
   "source": [
    "# Classification Report"
   ]
  },
  {
   "cell_type": "markdown",
   "metadata": {},
   "source": [
    "## Accuracy"
   ]
  },
  {
   "cell_type": "code",
   "execution_count": 16,
   "metadata": {},
   "outputs": [
    {
     "name": "stdout",
     "output_type": "stream",
     "text": [
      "Accuracy is  0.9097472924187726\n"
     ]
    }
   ],
   "source": [
    "acc = accuracy_score(y_test_concatenate_list, y_predict_filtered_concatenate_list, normalize=True, sample_weight=None)\n",
    "print('Accuracy is ', acc)"
   ]
  },
  {
   "cell_type": "markdown",
   "metadata": {},
   "source": [
    "## Precision, Recall, and F1"
   ]
  },
  {
   "cell_type": "code",
   "execution_count": 17,
   "metadata": {},
   "outputs": [
    {
     "name": "stdout",
     "output_type": "stream",
     "text": [
      "                    precision    recall  f1-score   support\n",
      "\n",
      "            chr_05       0.94      0.93      0.94       201\n",
      "chr_5_p14_deletion       0.82      0.86      0.84        76\n",
      "\n",
      "         micro avg       0.91      0.91      0.91       277\n",
      "         macro avg       0.88      0.89      0.89       277\n",
      "      weighted avg       0.91      0.91      0.91       277\n",
      "\n"
     ]
    }
   ],
   "source": [
    "performanceReport = classification_report(y_test_concatenate_list, y_predict_filtered_concatenate_list, \n",
    "                                          target_names=label_convert)\n",
    "\n",
    "\n",
    "print(performanceReport)"
   ]
  },
  {
   "cell_type": "markdown",
   "metadata": {},
   "source": [
    "## Confusion Matrix"
   ]
  },
  {
   "cell_type": "code",
   "execution_count": 18,
   "metadata": {},
   "outputs": [
    {
     "data": {
      "text/html": [
       "<div>\n",
       "<style scoped>\n",
       "    .dataframe tbody tr th:only-of-type {\n",
       "        vertical-align: middle;\n",
       "    }\n",
       "\n",
       "    .dataframe tbody tr th {\n",
       "        vertical-align: top;\n",
       "    }\n",
       "\n",
       "    .dataframe thead th {\n",
       "        text-align: right;\n",
       "    }\n",
       "</style>\n",
       "<table border=\"1\" class=\"dataframe\">\n",
       "  <thead>\n",
       "    <tr style=\"text-align: right;\">\n",
       "      <th></th>\n",
       "      <th>chr_05</th>\n",
       "      <th>chr_5_p14_deletion</th>\n",
       "    </tr>\n",
       "  </thead>\n",
       "  <tbody>\n",
       "    <tr>\n",
       "      <th>chr_05</th>\n",
       "      <td>187</td>\n",
       "      <td>14</td>\n",
       "    </tr>\n",
       "    <tr>\n",
       "      <th>chr_5_p14_deletion</th>\n",
       "      <td>11</td>\n",
       "      <td>65</td>\n",
       "    </tr>\n",
       "  </tbody>\n",
       "</table>\n",
       "</div>"
      ],
      "text/plain": [
       "                    chr_05  chr_5_p14_deletion\n",
       "chr_05                 187                  14\n",
       "chr_5_p14_deletion      11                  65"
      ]
     },
     "execution_count": 18,
     "metadata": {},
     "output_type": "execute_result"
    }
   ],
   "source": [
    "cm = np.array(confusion_matrix(y_test_concatenate_list, y_predict_filtered_concatenate_list))\n",
    "confusion = pd.DataFrame(cm, index=label_convert,\n",
    "                        columns=label_convert)\n",
    "confusion.to_csv('ConfusionMatrix_Combination_of_CrossValidation_KaryoType_CNN.csv')\n",
    "confusion"
   ]
  },
  {
   "cell_type": "markdown",
   "metadata": {},
   "source": [
    "### 3.10.4 Rate of Confusion Matrix"
   ]
  },
  {
   "cell_type": "markdown",
   "metadata": {},
   "source": [
    "### 3.10.5 Recall (查全率)，(Sensitivity Rate)"
   ]
  },
  {
   "cell_type": "code",
   "execution_count": 19,
   "metadata": {
    "scrolled": true
   },
   "outputs": [],
   "source": [
    "subtotal = [0] * 2  \n",
    "for item in y_test_concatenate_list:\n",
    "    subtotal[item] = subtotal[item] + 1"
   ]
  },
  {
   "cell_type": "markdown",
   "metadata": {},
   "source": [
    "#### predict number divided by y test"
   ]
  },
  {
   "cell_type": "code",
   "execution_count": 20,
   "metadata": {},
   "outputs": [],
   "source": [
    "cm_r = []\n",
    "for i in range(2):\n",
    "    cm_r.append(cm[i]/subtotal[i])"
   ]
  },
  {
   "cell_type": "code",
   "execution_count": 21,
   "metadata": {},
   "outputs": [
    {
     "data": {
      "text/html": [
       "<div>\n",
       "<style scoped>\n",
       "    .dataframe tbody tr th:only-of-type {\n",
       "        vertical-align: middle;\n",
       "    }\n",
       "\n",
       "    .dataframe tbody tr th {\n",
       "        vertical-align: top;\n",
       "    }\n",
       "\n",
       "    .dataframe thead th {\n",
       "        text-align: right;\n",
       "    }\n",
       "</style>\n",
       "<table border=\"1\" class=\"dataframe\">\n",
       "  <thead>\n",
       "    <tr style=\"text-align: right;\">\n",
       "      <th></th>\n",
       "      <th>chr_05</th>\n",
       "      <th>chr_5_p14_deletion</th>\n",
       "    </tr>\n",
       "  </thead>\n",
       "  <tbody>\n",
       "    <tr>\n",
       "      <th>chr_05</th>\n",
       "      <td>0.930348</td>\n",
       "      <td>0.069652</td>\n",
       "    </tr>\n",
       "    <tr>\n",
       "      <th>chr_5_p14_deletion</th>\n",
       "      <td>0.144737</td>\n",
       "      <td>0.855263</td>\n",
       "    </tr>\n",
       "  </tbody>\n",
       "</table>\n",
       "</div>"
      ],
      "text/plain": [
       "                      chr_05  chr_5_p14_deletion\n",
       "chr_05              0.930348            0.069652\n",
       "chr_5_p14_deletion  0.144737            0.855263"
      ]
     },
     "execution_count": 21,
     "metadata": {},
     "output_type": "execute_result"
    }
   ],
   "source": [
    "confusion_r = pd.DataFrame(cm_r, index=label_convert,\n",
    "                        columns=label_convert)\n",
    "confusion_r.to_csv('ConfusionMatrix_Recall_Integration_CNN.csv')\n",
    "confusion_r"
   ]
  },
  {
   "cell_type": "markdown",
   "metadata": {},
   "source": [
    "### 3.10.6 Precision (查准率）"
   ]
  },
  {
   "cell_type": "code",
   "execution_count": 22,
   "metadata": {},
   "outputs": [],
   "source": [
    "subtotal_predict = [0] * 2 \n",
    "for item in y_predict_filtered_concatenate_list:\n",
    "    subtotal_predict[item] = subtotal_predict[item] + 1"
   ]
  },
  {
   "cell_type": "markdown",
   "metadata": {},
   "source": [
    "#### predict number divided by y predicted"
   ]
  },
  {
   "cell_type": "code",
   "execution_count": 23,
   "metadata": {},
   "outputs": [],
   "source": [
    "cm_p = []\n",
    "for i in range(2):\n",
    "    cm_p.append(cm[:,i]/subtotal_predict[i])"
   ]
  },
  {
   "cell_type": "code",
   "execution_count": 24,
   "metadata": {},
   "outputs": [
    {
     "data": {
      "text/html": [
       "<div>\n",
       "<style scoped>\n",
       "    .dataframe tbody tr th:only-of-type {\n",
       "        vertical-align: middle;\n",
       "    }\n",
       "\n",
       "    .dataframe tbody tr th {\n",
       "        vertical-align: top;\n",
       "    }\n",
       "\n",
       "    .dataframe thead th {\n",
       "        text-align: right;\n",
       "    }\n",
       "</style>\n",
       "<table border=\"1\" class=\"dataframe\">\n",
       "  <thead>\n",
       "    <tr style=\"text-align: right;\">\n",
       "      <th></th>\n",
       "      <th>chr_05</th>\n",
       "      <th>chr_5_p14_deletion</th>\n",
       "    </tr>\n",
       "  </thead>\n",
       "  <tbody>\n",
       "    <tr>\n",
       "      <th>chr_05</th>\n",
       "      <td>0.944444</td>\n",
       "      <td>0.055556</td>\n",
       "    </tr>\n",
       "    <tr>\n",
       "      <th>chr_5_p14_deletion</th>\n",
       "      <td>0.177215</td>\n",
       "      <td>0.822785</td>\n",
       "    </tr>\n",
       "  </tbody>\n",
       "</table>\n",
       "</div>"
      ],
      "text/plain": [
       "                      chr_05  chr_5_p14_deletion\n",
       "chr_05              0.944444            0.055556\n",
       "chr_5_p14_deletion  0.177215            0.822785"
      ]
     },
     "execution_count": 24,
     "metadata": {},
     "output_type": "execute_result"
    }
   ],
   "source": [
    "confusion_p = pd.DataFrame(cm_p, index=label_convert,\n",
    "                        columns=label_convert)\n",
    "confusion_p.to_csv('ConfusionMatrix_Precision_Integration_CNN.csv')\n",
    "confusion_p"
   ]
  },
  {
   "cell_type": "markdown",
   "metadata": {},
   "source": [
    "#### Heat Map: Number"
   ]
  },
  {
   "cell_type": "code",
   "execution_count": 25,
   "metadata": {
    "scrolled": false
   },
   "outputs": [
    {
     "data": {
      "image/png": "[encoded data removed]",
      "text/plain": [
       "<Figure size 2160x1728 with 2 Axes>"
      ]
     },
     "metadata": {
      "needs_background": "light"
     },
     "output_type": "display_data"
    }
   ],
   "source": [
    "plt.figure(figsize=(30, 24))\n",
    "heat_map = sb.heatmap(confusion, annot=True,  # It's a Seaborn function\n",
    "                      cmap='coolwarm', \n",
    "                      xticklabels=confusion.columns, yticklabels=confusion.index, \n",
    "                      linewidths=.5, \n",
    "                      annot_kws={\"size\": 20})\n",
    "sb.set(font_scale = 2)"
   ]
  },
  {
   "cell_type": "markdown",
   "metadata": {},
   "source": [
    "#### Heat Map of Recall: Rate (important!!!)"
   ]
  },
  {
   "cell_type": "code",
   "execution_count": 26,
   "metadata": {
    "scrolled": false
   },
   "outputs": [
    {
     "data": {
      "image/png": "[encoded data removed]",
      "text/plain": [
       "<Figure size 2160x1728 with 2 Axes>"
      ]
     },
     "metadata": {},
     "output_type": "display_data"
    }
   ],
   "source": [
    "plt.figure(figsize=(30, 24))\n",
    "heat_map_r = sb.heatmap(confusion_r, annot=True,  # It's a Seaborn function\n",
    "                      cmap='coolwarm', \n",
    "                      xticklabels=confusion.columns, yticklabels=confusion.index, \n",
    "                      linewidths=1, \n",
    "                      annot_kws={\"size\": 18})\n",
    "sb.set(font_scale = 2)"
   ]
  },
  {
   "cell_type": "code",
   "execution_count": 27,
   "metadata": {},
   "outputs": [
    {
     "data": {
      "image/png": "[encoded data removed]",
      "text/plain": [
       "<Figure size 2160x1728 with 2 Axes>"
      ]
     },
     "metadata": {},
     "output_type": "display_data"
    }
   ],
   "source": [
    "plt.figure(figsize=(30, 24))\n",
    "heat_map_p = sb.heatmap(confusion_p, annot=True,  # It's a Seaborn function\n",
    "                      cmap='coolwarm', \n",
    "                      xticklabels=confusion.columns, yticklabels=confusion.index, \n",
    "                      linewidths=1, \n",
    "                      annot_kws={\"size\": 18})\n",
    "sb.set(font_scale = 2)"
   ]
  },
  {
   "cell_type": "code",
   "execution_count": 28,
   "metadata": {},
   "outputs": [],
   "source": [
    "fig = heat_map.get_figure()    \n",
    "fig.savefig('Heatmap_Combination.png', dpi=400)"
   ]
  },
  {
   "cell_type": "code",
   "execution_count": 29,
   "metadata": {},
   "outputs": [],
   "source": [
    "fig_r = heat_map_r.get_figure()    \n",
    "fig_r.savefig('Heatmap_Recall_Combination.png', dpi=400)"
   ]
  },
  {
   "cell_type": "code",
   "execution_count": 30,
   "metadata": {},
   "outputs": [],
   "source": [
    "fig_p = heat_map_p.get_figure()    \n",
    "fig_p.savefig('Heatmap_Precision_Combination.png', dpi=400)"
   ]
  },
  {
   "cell_type": "markdown",
   "metadata": {},
   "source": [
    "# ROC Curve"
   ]
  },
  {
   "cell_type": "code",
   "execution_count": 31,
   "metadata": {},
   "outputs": [
    {
     "data": {
      "text/plain": [
       "array([[1.00000000e+00, 6.99651480e-07],\n",
       "       [7.07867801e-01, 3.32032681e-01],\n",
       "       [9.99998689e-01, 4.11217879e-05],\n",
       "       [9.99993563e-01, 9.94058719e-05],\n",
       "       [1.00000000e+00, 2.07221547e-06],\n",
       "       [9.95252252e-01, 1.48075260e-02],\n",
       "       [9.99999881e-01, 3.82946655e-06],\n",
       "       [9.99979615e-01, 4.70256840e-04],\n",
       "       [9.95487273e-01, 4.47294116e-02],\n",
       "       [1.00000000e+00, 2.50753232e-07],\n",
       "       [9.99988556e-01, 4.79301088e-05],\n",
       "       [9.99999404e-01, 4.47491730e-05],\n",
       "       [1.00000000e+00, 9.38607002e-07],\n",
       "       [9.99999762e-01, 1.18359803e-05],\n",
       "       [9.99929667e-01, 6.96847332e-04],\n",
       "       [1.00000000e+00, 1.05909396e-06],\n",
       "       [9.99999762e-01, 6.69878864e-06],\n",
       "       [9.99997020e-01, 8.12110666e-05],\n",
       "       [9.90973651e-01, 1.55829750e-02],\n",
       "       [9.99991298e-01, 3.76190234e-04],\n",
       "       [1.00000000e+00, 4.91923856e-07],\n",
       "       [1.00000000e+00, 2.64642154e-06],\n",
       "       [9.99998212e-01, 8.00257840e-05],\n",
       "       [9.99999523e-01, 2.71579138e-05],\n",
       "       [9.99998450e-01, 9.13917975e-05],\n",
       "       [9.91126359e-01, 3.20904106e-02],\n",
       "       [9.99983907e-01, 4.48705483e-04],\n",
       "       [9.99963880e-01, 6.51521841e-04],\n",
       "       [9.99998927e-01, 7.30488464e-05],\n",
       "       [1.79807575e-05, 9.99005139e-01],\n",
       "       [6.54670657e-07, 9.99952197e-01],\n",
       "       [4.64222282e-01, 6.04518056e-01],\n",
       "       [6.15951838e-03, 9.71485257e-01],\n",
       "       [6.77006174e-05, 9.99188244e-01],\n",
       "       [1.02456079e-06, 9.99848127e-01],\n",
       "       [6.79839604e-06, 9.99665976e-01],\n",
       "       [6.18136767e-07, 9.99912977e-01],\n",
       "       [2.15062745e-09, 9.99997258e-01],\n",
       "       [8.21941358e-05, 9.98023391e-01],\n",
       "       [2.09444636e-07, 9.99971032e-01],\n",
       "       [6.41457379e-01, 3.72734405e-02],\n",
       "       [9.99999404e-01, 3.29418992e-10],\n",
       "       [3.39438394e-03, 9.08647299e-01],\n",
       "       [9.99974489e-01, 6.28471025e-06],\n",
       "       [1.00000000e+00, 9.99693037e-12],\n",
       "       [1.00000000e+00, 1.89908006e-10],\n",
       "       [9.99995351e-01, 1.29843286e-07],\n",
       "       [9.99946594e-01, 1.30565149e-06],\n",
       "       [1.00000000e+00, 3.96618138e-15],\n",
       "       [1.00000000e+00, 4.81983724e-12],\n",
       "       [1.00000000e+00, 2.84020608e-15],\n",
       "       [1.00000000e+00, 9.37923975e-11],\n",
       "       [9.99971032e-01, 1.42771398e-06],\n",
       "       [1.00000000e+00, 2.21423990e-10],\n",
       "       [1.36431992e-01, 3.93845409e-01],\n",
       "       [9.99999762e-01, 3.52984020e-09],\n",
       "       [1.00000000e+00, 1.14722312e-15],\n",
       "       [1.00000000e+00, 7.79177139e-11],\n",
       "       [1.00000000e+00, 1.44485468e-09],\n",
       "       [1.00000000e+00, 2.98790437e-11],\n",
       "       [9.99924064e-01, 6.85661189e-06],\n",
       "       [9.99976397e-01, 1.62536458e-06],\n",
       "       [9.99999523e-01, 6.92624411e-08],\n",
       "       [1.00000000e+00, 6.32384227e-13],\n",
       "       [9.99945283e-01, 3.36876246e-06],\n",
       "       [8.99229288e-01, 1.37799839e-02],\n",
       "       [9.51148570e-01, 8.59407336e-03],\n",
       "       [9.99939442e-01, 5.05001844e-06],\n",
       "       [9.92654920e-01, 8.19302222e-04],\n",
       "       [9.50307294e-05, 9.98551905e-01],\n",
       "       [6.85480284e-03, 5.87217271e-01],\n",
       "       [4.74538319e-02, 4.65069443e-01],\n",
       "       [1.63571052e-02, 2.42303967e-01],\n",
       "       [2.67900646e-01, 8.24247077e-02],\n",
       "       [2.39739125e-03, 9.84011471e-01],\n",
       "       [4.49887943e-03, 8.80413949e-01],\n",
       "       [1.09276339e-01, 4.56487000e-01],\n",
       "       [1.27091307e-05, 9.99718130e-01],\n",
       "       [1.08856698e-02, 9.09069598e-01],\n",
       "       [8.79841973e-05, 9.96046841e-01],\n",
       "       [9.99629259e-01, 2.05606618e-03],\n",
       "       [3.98641592e-03, 9.99473155e-01],\n",
       "       [9.06808794e-01, 3.74026448e-01],\n",
       "       [5.64007610e-02, 9.95493770e-01],\n",
       "       [9.99982119e-01, 3.80887010e-04],\n",
       "       [9.99692082e-01, 2.41569569e-03],\n",
       "       [1.00000000e+00, 4.54878339e-08],\n",
       "       [1.00000000e+00, 1.81953226e-07],\n",
       "       [9.99999762e-01, 5.57972771e-06],\n",
       "       [9.99854922e-01, 1.70344557e-03],\n",
       "       [1.00000000e+00, 8.18345256e-07],\n",
       "       [9.32364225e-01, 1.27288252e-01],\n",
       "       [9.99999762e-01, 3.00561624e-06],\n",
       "       [9.99987841e-01, 7.01926620e-05],\n",
       "       [9.99895930e-01, 4.62659547e-04],\n",
       "       [9.98249829e-01, 1.84161458e-02],\n",
       "       [9.23341155e-01, 4.42261428e-01],\n",
       "       [9.99998569e-01, 9.38788344e-06],\n",
       "       [1.33951614e-02, 9.98361766e-01],\n",
       "       [9.99998212e-01, 3.63958352e-05],\n",
       "       [9.99999881e-01, 4.73370989e-07],\n",
       "       [9.99957919e-01, 5.55637234e-04],\n",
       "       [9.99991775e-01, 6.58999561e-05],\n",
       "       [9.83905733e-01, 3.81044522e-02],\n",
       "       [1.00000000e+00, 1.91365164e-08],\n",
       "       [9.99999881e-01, 1.61554362e-06],\n",
       "       [9.99979973e-01, 2.66874791e-04],\n",
       "       [9.99995947e-01, 6.84852712e-05],\n",
       "       [9.99999523e-01, 1.10256351e-05],\n",
       "       [2.65710382e-03, 9.99672890e-01],\n",
       "       [2.52440035e-01, 9.68254983e-01],\n",
       "       [1.49775725e-02, 9.98779833e-01],\n",
       "       [3.99168675e-05, 9.99989152e-01],\n",
       "       [1.11728696e-04, 9.99995470e-01],\n",
       "       [2.78946711e-04, 9.99942780e-01],\n",
       "       [5.24825789e-03, 9.99834180e-01],\n",
       "       [9.99998093e-01, 9.18280639e-05],\n",
       "       [2.73999348e-07, 1.00000000e+00],\n",
       "       [7.40755081e-01, 8.83800447e-01],\n",
       "       [9.93327618e-01, 2.24195737e-02],\n",
       "       [9.99999881e-01, 8.15938790e-07],\n",
       "       [9.99999404e-01, 8.49906257e-07],\n",
       "       [1.00000000e+00, 1.64894303e-13],\n",
       "       [9.66354668e-01, 5.22722639e-02],\n",
       "       [5.90573102e-02, 8.79734099e-01],\n",
       "       [1.00000000e+00, 1.38607972e-14],\n",
       "       [9.99996185e-01, 1.38377791e-05],\n",
       "       [9.99994755e-01, 2.17517809e-05],\n",
       "       [1.00000000e+00, 3.57360874e-09],\n",
       "       [9.99999881e-01, 1.07607491e-06],\n",
       "       [9.99999285e-01, 3.60531362e-06],\n",
       "       [1.00000000e+00, 2.75202727e-09],\n",
       "       [9.99999642e-01, 1.14178818e-06],\n",
       "       [9.99999881e-01, 4.62782992e-07],\n",
       "       [9.99997616e-01, 1.50541091e-05],\n",
       "       [1.00000000e+00, 4.25217799e-08],\n",
       "       [9.99999881e-01, 1.47655214e-06],\n",
       "       [9.99975920e-01, 5.98937513e-05],\n",
       "       [9.44467664e-01, 4.02255245e-02],\n",
       "       [6.06557608e-01, 3.68860692e-01],\n",
       "       [9.12312011e-04, 9.97936010e-01],\n",
       "       [9.99768317e-01, 6.08712609e-04],\n",
       "       [1.00000000e+00, 1.18964816e-09],\n",
       "       [1.00000000e+00, 1.44970471e-07],\n",
       "       [9.99881268e-01, 2.72603851e-04],\n",
       "       [9.99909878e-01, 2.71157711e-04],\n",
       "       [9.98594701e-01, 3.24173132e-03],\n",
       "       [9.99999881e-01, 1.95370660e-07],\n",
       "       [9.99977469e-01, 2.62600697e-05],\n",
       "       [2.56901239e-06, 9.99987125e-01],\n",
       "       [4.79641318e-01, 6.23805821e-01],\n",
       "       [5.27472854e-01, 6.45708382e-01],\n",
       "       [6.31867966e-04, 9.98363912e-01],\n",
       "       [5.89297819e-08, 9.99999285e-01],\n",
       "       [6.95426643e-05, 9.99928832e-01],\n",
       "       [9.99997497e-01, 4.31069429e-06],\n",
       "       [2.69691964e-06, 9.99983430e-01],\n",
       "       [6.23884625e-05, 9.99779999e-01],\n",
       "       [4.27676132e-05, 9.99796450e-01],\n",
       "       [1.65638969e-08, 9.99999762e-01],\n",
       "       [1.00000000e+00, 6.96159304e-07],\n",
       "       [1.03886448e-01, 9.89277720e-01],\n",
       "       [9.99995589e-01, 1.31024804e-04],\n",
       "       [1.00000000e+00, 1.30823514e-06],\n",
       "       [1.00000000e+00, 3.94457933e-09],\n",
       "       [1.00000000e+00, 5.65767948e-07],\n",
       "       [1.00000000e+00, 8.99460390e-15],\n",
       "       [1.00000000e+00, 1.19366730e-08],\n",
       "       [1.59744211e-02, 9.99367893e-01],\n",
       "       [1.00000000e+00, 5.53111654e-08],\n",
       "       [1.00000000e+00, 1.58387192e-09],\n",
       "       [9.99998093e-01, 9.81549019e-05],\n",
       "       [1.00000000e+00, 3.16995389e-15],\n",
       "       [1.00000000e+00, 1.93967325e-11],\n",
       "       [1.00000000e+00, 7.76969267e-10],\n",
       "       [9.99999285e-01, 5.37298256e-05],\n",
       "       [1.00000000e+00, 2.64559173e-11],\n",
       "       [9.99995470e-01, 1.19157012e-04],\n",
       "       [1.00000000e+00, 2.06553551e-07],\n",
       "       [1.00000000e+00, 5.44656977e-08],\n",
       "       [1.00000000e+00, 1.19189780e-11],\n",
       "       [1.00000000e+00, 2.44597698e-09],\n",
       "       [1.00000000e+00, 1.39957795e-14],\n",
       "       [1.00000000e+00, 1.07835841e-14],\n",
       "       [1.00000000e+00, 1.31486662e-11],\n",
       "       [1.00000000e+00, 1.91081109e-11],\n",
       "       [1.00000000e+00, 1.05037206e-08],\n",
       "       [1.00000000e+00, 2.94265199e-08],\n",
       "       [1.00000000e+00, 1.87554917e-07],\n",
       "       [9.99978423e-01, 5.38807246e-04],\n",
       "       [2.14067757e-01, 9.62660789e-01],\n",
       "       [1.00000000e+00, 1.13088150e-11],\n",
       "       [2.72808485e-02, 9.89826441e-01],\n",
       "       [9.47984338e-01, 3.22477728e-01],\n",
       "       [1.38732939e-04, 9.99965429e-01],\n",
       "       [9.94464815e-01, 3.86544764e-02],\n",
       "       [7.68729296e-06, 9.99999046e-01],\n",
       "       [3.78370464e-06, 9.99999523e-01],\n",
       "       [2.66200416e-02, 9.98444259e-01],\n",
       "       [1.86271090e-02, 9.95750189e-01],\n",
       "       [9.35998857e-01, 2.09790558e-01],\n",
       "       [1.00000000e+00, 6.75453782e-09],\n",
       "       [9.99980330e-01, 1.13540249e-04],\n",
       "       [9.66749340e-02, 9.72236931e-01],\n",
       "       [9.99999285e-01, 1.48480376e-05],\n",
       "       [9.99999881e-01, 1.62640663e-06],\n",
       "       [9.99999881e-01, 7.78340393e-07],\n",
       "       [1.00000000e+00, 2.33749713e-08],\n",
       "       [1.00000000e+00, 3.91044780e-10],\n",
       "       [9.99801099e-01, 4.86685953e-04],\n",
       "       [1.06563032e-01, 9.84669447e-01],\n",
       "       [9.95635092e-01, 2.98949499e-02],\n",
       "       [9.96294796e-01, 3.28261815e-02],\n",
       "       [9.99999523e-01, 3.44117279e-06],\n",
       "       [1.00000000e+00, 2.49265213e-07],\n",
       "       [9.99422669e-01, 8.38241074e-03],\n",
       "       [1.00000000e+00, 5.41856959e-09],\n",
       "       [2.70550221e-01, 8.46937537e-01],\n",
       "       [8.79850937e-04, 9.99624491e-01],\n",
       "       [9.98772562e-01, 6.86319591e-03],\n",
       "       [9.99998569e-01, 9.49081095e-06],\n",
       "       [1.00000000e+00, 1.20789267e-07],\n",
       "       [9.99999881e-01, 4.22940872e-07],\n",
       "       [9.99428332e-01, 2.63088313e-03],\n",
       "       [9.99983668e-01, 7.57849120e-05],\n",
       "       [9.99995470e-01, 2.36578344e-05],\n",
       "       [1.00000000e+00, 1.37531844e-08],\n",
       "       [9.99998569e-01, 1.48570598e-05],\n",
       "       [9.92651880e-01, 2.54308004e-02],\n",
       "       [5.11365927e-09, 1.00000000e+00],\n",
       "       [4.02909927e-06, 9.99998808e-01],\n",
       "       [2.67941814e-05, 9.99991417e-01],\n",
       "       [5.75780286e-05, 9.99953747e-01],\n",
       "       [9.09881853e-03, 9.96249974e-01],\n",
       "       [1.58185847e-02, 9.88581836e-01],\n",
       "       [9.99886036e-01, 1.33742846e-03],\n",
       "       [1.34524265e-02, 9.96758759e-01],\n",
       "       [1.95642591e-01, 9.45366859e-01],\n",
       "       [5.79993963e-01, 6.97699785e-01],\n",
       "       [1.37380391e-06, 9.99999642e-01],\n",
       "       [1.00000000e+00, 2.07552189e-16],\n",
       "       [1.00000000e+00, 4.17698029e-11],\n",
       "       [1.00000000e+00, 2.14157149e-06],\n",
       "       [1.00000000e+00, 3.27703060e-06],\n",
       "       [1.00000000e+00, 5.51455474e-13],\n",
       "       [1.00000000e+00, 2.27798322e-10],\n",
       "       [9.99998093e-01, 3.68897570e-04],\n",
       "       [9.99996781e-01, 1.48163061e-04],\n",
       "       [9.99999762e-01, 5.01961540e-06],\n",
       "       [9.99996305e-01, 2.14172818e-04],\n",
       "       [1.00000000e+00, 1.91536850e-15],\n",
       "       [1.00000000e+00, 3.30228235e-16],\n",
       "       [1.00000000e+00, 9.14843756e-11],\n",
       "       [1.00000000e+00, 2.12065987e-09],\n",
       "       [9.99999881e-01, 2.11912425e-06],\n",
       "       [9.99925017e-01, 6.24103763e-04],\n",
       "       [9.99361455e-01, 5.59222419e-03],\n",
       "       [9.99999762e-01, 4.57227088e-06],\n",
       "       [9.99994874e-01, 6.38166603e-05],\n",
       "       [1.00000000e+00, 5.02032442e-08],\n",
       "       [1.00000000e+00, 4.76443944e-07],\n",
       "       [9.99999881e-01, 4.23214624e-06],\n",
       "       [9.98722255e-01, 9.64179449e-03],\n",
       "       [1.00000000e+00, 9.09075482e-08],\n",
       "       [9.99998808e-01, 1.09506373e-05],\n",
       "       [9.99999881e-01, 1.78611481e-06],\n",
       "       [9.99989867e-01, 1.53744651e-04],\n",
       "       [4.36806040e-05, 9.99974728e-01],\n",
       "       [9.10337031e-01, 3.89264494e-01],\n",
       "       [4.30168626e-07, 9.99999762e-01],\n",
       "       [4.69437093e-01, 8.92428815e-01],\n",
       "       [1.35234601e-04, 9.99909878e-01],\n",
       "       [4.54055291e-04, 9.99791205e-01],\n",
       "       [1.85350364e-05, 9.99991417e-01],\n",
       "       [3.40773340e-07, 9.99999881e-01],\n",
       "       [7.70107284e-02, 9.76980746e-01],\n",
       "       [6.34942116e-05, 9.99977112e-01]], dtype=float32)"
      ]
     },
     "execution_count": 31,
     "metadata": {},
     "output_type": "execute_result"
    }
   ],
   "source": [
    "y_predict_concatenate_array = np.array(y_predict_concatenate_list)\n",
    "y_predict_concatenate_array"
   ]
  },
  {
   "cell_type": "code",
   "execution_count": 32,
   "metadata": {},
   "outputs": [
    {
     "data": {
      "text/plain": [
       "(277, 2)"
      ]
     },
     "execution_count": 32,
     "metadata": {},
     "output_type": "execute_result"
    }
   ],
   "source": [
    "y_predict_concatenate_array.shape"
   ]
  },
  {
   "cell_type": "code",
   "execution_count": 33,
   "metadata": {},
   "outputs": [],
   "source": [
    "y_predict_1D = y_predict_concatenate_array[:,0]"
   ]
  },
  {
   "cell_type": "code",
   "execution_count": 34,
   "metadata": {},
   "outputs": [],
   "source": [
    "y_predict_1D_processed = 1- y_predict_1D"
   ]
  },
  {
   "cell_type": "code",
   "execution_count": 35,
   "metadata": {},
   "outputs": [],
   "source": [
    "fpr , tpr , thresholds = roc_curve(y_test_concatenate_list , y_predict_1D_processed)\n",
    "auc_rf = auc(fpr, tpr)"
   ]
  },
  {
   "cell_type": "code",
   "execution_count": 36,
   "metadata": {},
   "outputs": [
    {
     "data": {
      "text/plain": [
       "0.9446517412935324"
      ]
     },
     "execution_count": 36,
     "metadata": {},
     "output_type": "execute_result"
    }
   ],
   "source": [
    "auc_rf"
   ]
  },
  {
   "cell_type": "code",
   "execution_count": 37,
   "metadata": {},
   "outputs": [],
   "source": [
    "x = y = np.arange(0, 1.1, 0.1)"
   ]
  },
  {
   "cell_type": "code",
   "execution_count": 38,
   "metadata": {},
   "outputs": [
    {
     "data": {
      "text/plain": [
       "array([0. , 0.1, 0.2, 0.3, 0.4, 0.5, 0.6, 0.7, 0.8, 0.9, 1. ])"
      ]
     },
     "execution_count": 38,
     "metadata": {},
     "output_type": "execute_result"
    }
   ],
   "source": [
    "x"
   ]
  },
  {
   "cell_type": "code",
   "execution_count": 39,
   "metadata": {
    "scrolled": false
   },
   "outputs": [
    {
     "data": {
      "image/png": "[encoded data removed]",
      "text/plain": [
       "<Figure size 432x288 with 1 Axes>"
      ]
     },
     "metadata": {},
     "output_type": "display_data"
    }
   ],
   "source": [
    "fig = plt.figure()\n",
    "plt.style.use('classic')\n",
    "ax = fig.add_subplot(111)\n",
    "\n",
    "\n",
    "\n",
    "plt.plot(fpr, tpr, color='blue', linewidth=0.9)\n",
    "\n",
    "plt.plot(x, y, '--', color='black', linewidth=0.8)\n",
    "\n",
    "plt.title('ROC curve of Chr_05p14', fontsize=12, fontname = 'Times New Roman')\n",
    "plt.xlabel('False Positive Rate', fontsize=11, fontname = 'Times New Roman')\n",
    "plt.ylabel('True positive Rate', fontsize=11, fontname = 'Times New Roman')\n",
    "ax.set_aspect('equal', adjustable='box')\n",
    "plt.xlim(-0.08, 1.1)\n",
    "plt.ylim(-0.08, 1.1)\n",
    "plt.xticks(fontsize=9, fontname = 'Arial')\n",
    "plt.yticks(fontsize=9, fontname = 'Arial')\n",
    "\n",
    "plt.savefig('ROC_Curve_Combination.png', dpi=400)\n",
    "plt.show()"
   ]
  },
  {
   "cell_type": "markdown",
   "metadata": {},
   "source": [
    "#### 3.10.4.1 AUC Value"
   ]
  },
  {
   "cell_type": "code",
   "execution_count": 40,
   "metadata": {},
   "outputs": [],
   "source": [
    "auc_value = auc(fpr, tpr)"
   ]
  },
  {
   "cell_type": "code",
   "execution_count": 41,
   "metadata": {},
   "outputs": [
    {
     "name": "stdout",
     "output_type": "stream",
     "text": [
      "AUC is  0.9446517412935324\n"
     ]
    }
   ],
   "source": [
    "print('AUC is ', auc_value)"
   ]
  },
  {
   "cell_type": "markdown",
   "metadata": {},
   "source": [
    "# Results"
   ]
  },
  {
   "cell_type": "code",
   "execution_count": 42,
   "metadata": {},
   "outputs": [
    {
     "name": "stdout",
     "output_type": "stream",
     "text": [
      "Test Accuracy: 0.910\n"
     ]
    }
   ],
   "source": [
    "print('Test Accuracy: %.3f' % acc)"
   ]
  },
  {
   "cell_type": "code",
   "execution_count": 43,
   "metadata": {
    "scrolled": true
   },
   "outputs": [
    {
     "name": "stdout",
     "output_type": "stream",
     "text": [
      "                    precision    recall  f1-score   support\n",
      "\n",
      "            chr_05       0.94      0.93      0.94       201\n",
      "chr_5_p14_deletion       0.82      0.86      0.84        76\n",
      "\n",
      "         micro avg       0.91      0.91      0.91       277\n",
      "         macro avg       0.88      0.89      0.89       277\n",
      "      weighted avg       0.91      0.91      0.91       277\n",
      "\n"
     ]
    }
   ],
   "source": [
    "print(performanceReport)"
   ]
  },
  {
   "cell_type": "code",
   "execution_count": 44,
   "metadata": {},
   "outputs": [
    {
     "data": {
      "text/plain": [
       "str"
      ]
     },
     "execution_count": 44,
     "metadata": {},
     "output_type": "execute_result"
    }
   ],
   "source": [
    "type(performanceReport)"
   ]
  },
  {
   "cell_type": "code",
   "execution_count": 45,
   "metadata": {},
   "outputs": [
    {
     "name": "stdout",
     "output_type": "stream",
     "text": [
      "AUC is  0.9446517412935324\n"
     ]
    }
   ],
   "source": [
    "print('AUC is ', auc_value)"
   ]
  },
  {
   "cell_type": "markdown",
   "metadata": {},
   "source": [
    "## Export to a text file"
   ]
  },
  {
   "cell_type": "code",
   "execution_count": 46,
   "metadata": {},
   "outputs": [],
   "source": [
    "file_report = open('ResultsCombination.txt', 'w')\n",
    "file_report.write('Accuracy: %s\\n\\n' % acc)\n",
    "file_report.write('AUC: %s.\\n\\n' % auc_value)\n",
    "file_report.write('Performance Report: \\n%s\\n\\n' % performanceReport)\n",
    "file_report.write('Confusion Matrix: \\n%s.\\n\\n' % confusion)\n",
    "file_report.write('Recall of Confusion Matrix: \\n%s.\\n\\n' % confusion_r)\n",
    "file_report.write('Precision of Confusion Matrix: \\n%s.\\n\\n' % confusion_p)\n",
    "file_report.close()"
   ]
  }
 ],
 "metadata": {
  "kernelspec": {
   "display_name": "Python 3",
   "language": "python",
   "name": "python3"
  },
  "language_info": {
   "codemirror_mode": {
    "name": "ipython",
    "version": 3
   },
   "file_extension": ".py",
   "mimetype": "text/x-python",
   "name": "python",
   "nbconvert_exporter": "python",
   "pygments_lexer": "ipython3",
   "version": "3.7.3"
  }
 },
 "nbformat": 4,
 "nbformat_minor": 2
}
