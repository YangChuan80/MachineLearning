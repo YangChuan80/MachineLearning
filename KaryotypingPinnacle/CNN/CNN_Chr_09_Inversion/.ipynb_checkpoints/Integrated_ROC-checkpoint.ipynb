{
 "cells": [
  {
   "cell_type": "code",
   "execution_count": 7,
   "metadata": {},
   "outputs": [],
   "source": [
    "import numpy as np\n",
    "import pandas as pd\n",
    "import matplotlib.pyplot as plt\n",
    "\n",
    "from sklearn.metrics import classification_report, confusion_matrix, roc_curve, auc, accuracy_score\n",
    "\n",
    "import seaborn as sb"
   ]
  },
  {
   "cell_type": "code",
   "execution_count": 8,
   "metadata": {},
   "outputs": [],
   "source": [
    "chromConvert = {\n",
    "               'chr_09': 0, \n",
    "               'chr_9_inversion': 1\n",
    "               }"
   ]
  },
  {
   "cell_type": "code",
   "execution_count": 9,
   "metadata": {},
   "outputs": [],
   "source": [
    "chromConvert_reverse = {\n",
    "                0: 'chr_09',\n",
    "                1: 'chr_9_inversion'\n",
    "               }"
   ]
  },
  {
   "cell_type": "code",
   "execution_count": 10,
   "metadata": {},
   "outputs": [],
   "source": [
    "label = ['chr_09', 'chr_9_inversion']\n",
    "\n",
    "label_convert = []\n",
    "\n",
    "for i in range(2):\n",
    "    label_convert.append(chromConvert_reverse[i])"
   ]
  },
  {
   "cell_type": "markdown",
   "metadata": {},
   "source": [
    "# Load test and predict values"
   ]
  },
  {
   "cell_type": "code",
   "execution_count": 11,
   "metadata": {},
   "outputs": [],
   "source": [
    "y_test_all = []\n",
    "y_predict_all = []\n",
    "y_predict_filtered_all = []"
   ]
  },
  {
   "cell_type": "code",
   "execution_count": 12,
   "metadata": {},
   "outputs": [],
   "source": [
    "for iterationNumber in range(5):\n",
    "    with open('data_y_test_value_iteration_' + str(iterationNumber) + '.npy', 'rb') as f_y_test:\n",
    "        y_test_all.append(np.load(f_y_test))\n",
    "        \n",
    "    with open('data_y_predict_value_iteration_' + str(iterationNumber) + '.npy', 'rb') as f_y_predict:\n",
    "        y_predict_all.append(np.load(f_y_predict))                             \n",
    "                        \n",
    "    with open('data_y_predict_filtered_value_iteration_' + str(iterationNumber) + '.npy', 'rb') as f_y_predict_filtered:\n",
    "        y_predict_filtered_all.append(np.load(f_y_predict_filtered))"
   ]
  },
  {
   "cell_type": "code",
   "execution_count": 13,
   "metadata": {},
   "outputs": [
    {
     "data": {
      "text/plain": [
       "(87, 2)"
      ]
     },
     "execution_count": 13,
     "metadata": {},
     "output_type": "execute_result"
    }
   ],
   "source": [
    "y_predict_all[0].shape"
   ]
  },
  {
   "cell_type": "code",
   "execution_count": 14,
   "metadata": {
    "scrolled": true
   },
   "outputs": [
    {
     "data": {
      "text/plain": [
       "[array([[9.9999976e-01, 3.2608989e-07],\n",
       "        [1.0000000e+00, 4.2159273e-11],\n",
       "        [1.0000000e+00, 1.4825360e-09],\n",
       "        [9.9999535e-01, 1.1079063e-05],\n",
       "        [9.9986112e-01, 1.5910809e-04],\n",
       "        [9.9999869e-01, 3.2101982e-06],\n",
       "        [1.0000000e+00, 7.5027256e-15],\n",
       "        [1.0000000e+00, 1.1465010e-08],\n",
       "        [9.9999988e-01, 2.0915742e-07],\n",
       "        [1.0000000e+00, 3.7356196e-10],\n",
       "        [1.0000000e+00, 2.3466940e-09],\n",
       "        [1.0000000e+00, 1.9241530e-11],\n",
       "        [9.9999940e-01, 1.3048175e-06],\n",
       "        [9.9999988e-01, 1.8779440e-07],\n",
       "        [9.9999988e-01, 2.3467472e-07],\n",
       "        [1.0000000e+00, 5.4436282e-09],\n",
       "        [9.9999928e-01, 9.5818973e-07],\n",
       "        [9.9991262e-01, 1.9883568e-04],\n",
       "        [1.0000000e+00, 3.5510663e-08],\n",
       "        [1.0000000e+00, 7.2741604e-09],\n",
       "        [9.9799013e-01, 2.9717884e-03],\n",
       "        [1.0000000e+00, 6.7229486e-08],\n",
       "        [9.3224436e-01, 9.8669261e-02],\n",
       "        [1.0000000e+00, 8.3102719e-08],\n",
       "        [9.9999988e-01, 2.0277878e-07],\n",
       "        [1.0000000e+00, 2.9590751e-08],\n",
       "        [9.9861777e-01, 3.4685652e-03],\n",
       "        [9.9968147e-01, 3.7434569e-04],\n",
       "        [9.9999905e-01, 8.8361685e-07],\n",
       "        [9.9998927e-01, 4.8810794e-05],\n",
       "        [1.0000000e+00, 7.6420346e-09],\n",
       "        [9.9999130e-01, 9.8786059e-06],\n",
       "        [9.9984765e-01, 1.4862731e-04],\n",
       "        [9.9994349e-01, 9.5947849e-05],\n",
       "        [9.9942881e-01, 9.1964874e-04],\n",
       "        [1.0000000e+00, 1.5637533e-10],\n",
       "        [1.0000000e+00, 1.7572175e-16],\n",
       "        [1.0000000e+00, 4.1942422e-10],\n",
       "        [7.8261994e-02, 8.9269143e-01],\n",
       "        [9.9967051e-01, 8.3922554e-04],\n",
       "        [9.9999988e-01, 7.6486430e-07],\n",
       "        [9.9999988e-01, 3.1427814e-07],\n",
       "        [9.9725467e-01, 3.0576615e-03],\n",
       "        [1.0000000e+00, 1.8257665e-10],\n",
       "        [9.9999976e-01, 4.4927287e-07],\n",
       "        [1.0000000e+00, 4.6894594e-10],\n",
       "        [9.9981743e-01, 1.6720334e-04],\n",
       "        [1.0000000e+00, 1.3477318e-09],\n",
       "        [1.0000000e+00, 1.9125205e-08],\n",
       "        [1.6126600e-04, 9.9998939e-01],\n",
       "        [9.9999452e-01, 1.4157206e-05],\n",
       "        [9.9999893e-01, 1.0471546e-06],\n",
       "        [1.7906895e-01, 9.6187454e-01],\n",
       "        [9.2286117e-02, 9.7387987e-01],\n",
       "        [1.2141111e-05, 9.9999642e-01],\n",
       "        [3.2725468e-02, 9.6920925e-01],\n",
       "        [9.3357205e-01, 1.6427280e-01],\n",
       "        [9.9996579e-01, 4.5148281e-05],\n",
       "        [1.3974184e-04, 9.9997342e-01],\n",
       "        [2.1109343e-05, 9.9999917e-01],\n",
       "        [2.8036947e-03, 9.9948251e-01],\n",
       "        [5.6849502e-02, 9.9420893e-01],\n",
       "        [3.3696645e-07, 1.0000000e+00],\n",
       "        [3.4004476e-08, 1.0000000e+00],\n",
       "        [3.1666225e-06, 9.9999988e-01],\n",
       "        [5.2822344e-07, 1.0000000e+00],\n",
       "        [1.0000000e+00, 3.9710370e-17],\n",
       "        [2.3287706e-01, 9.2438924e-01],\n",
       "        [5.5747067e-05, 9.9999344e-01],\n",
       "        [5.5149850e-04, 9.9993742e-01],\n",
       "        [3.1348696e-07, 1.0000000e+00],\n",
       "        [3.2297737e-04, 9.9996686e-01],\n",
       "        [2.4033996e-08, 1.0000000e+00],\n",
       "        [1.3316786e-06, 1.0000000e+00],\n",
       "        [1.9237380e-04, 9.9997234e-01],\n",
       "        [3.1486887e-03, 9.9943990e-01],\n",
       "        [1.0696485e-03, 9.9995959e-01],\n",
       "        [1.3990949e-05, 9.9999917e-01],\n",
       "        [1.2888471e-07, 1.0000000e+00],\n",
       "        [2.2757722e-05, 9.9999738e-01],\n",
       "        [2.3878878e-05, 9.9999940e-01],\n",
       "        [1.8067002e-06, 1.0000000e+00],\n",
       "        [8.9279018e-13, 1.0000000e+00],\n",
       "        [4.3748119e-03, 9.9975473e-01],\n",
       "        [1.0668234e-06, 1.0000000e+00],\n",
       "        [4.5126182e-08, 1.0000000e+00],\n",
       "        [2.2569719e-04, 9.9995363e-01]], dtype=float32),\n",
       " array([[9.94767547e-01, 4.92231287e-02],\n",
       "        [9.99768198e-01, 1.01504521e-02],\n",
       "        [9.99999762e-01, 2.33776027e-05],\n",
       "        [9.99999642e-01, 2.85238420e-05],\n",
       "        [9.99999642e-01, 3.16678452e-05],\n",
       "        [9.99999881e-01, 6.44154861e-05],\n",
       "        [9.99997139e-01, 5.77330764e-04],\n",
       "        [9.99999523e-01, 2.08868354e-04],\n",
       "        [9.99609292e-01, 6.71222582e-02],\n",
       "        [9.99950886e-01, 1.28241233e-03],\n",
       "        [9.99999881e-01, 6.39999098e-06],\n",
       "        [9.99977469e-01, 4.83482523e-04],\n",
       "        [9.99999762e-01, 8.53876918e-05],\n",
       "        [9.99986053e-01, 3.12830467e-04],\n",
       "        [9.69070554e-01, 5.45362055e-01],\n",
       "        [9.99999881e-01, 1.19360020e-05],\n",
       "        [9.15438294e-01, 7.11423278e-01],\n",
       "        [9.99999762e-01, 1.41359696e-05],\n",
       "        [1.00000000e+00, 1.29277942e-06],\n",
       "        [9.91543174e-01, 4.27371301e-02],\n",
       "        [9.99999881e-01, 1.07563110e-05],\n",
       "        [9.99901652e-01, 1.02019997e-03],\n",
       "        [1.00000000e+00, 1.94970221e-06],\n",
       "        [9.99999285e-01, 2.60280995e-05],\n",
       "        [9.96502638e-01, 3.68506610e-02],\n",
       "        [9.99994755e-01, 1.77700902e-04],\n",
       "        [9.99999762e-01, 1.90447499e-05],\n",
       "        [6.21764481e-01, 9.54757810e-01],\n",
       "        [9.99998808e-01, 6.75470801e-05],\n",
       "        [1.00000000e+00, 1.61442131e-05],\n",
       "        [1.00000000e+00, 1.04904630e-05],\n",
       "        [1.00000000e+00, 3.97515521e-07],\n",
       "        [9.99998331e-01, 3.79937082e-05],\n",
       "        [9.99894857e-01, 3.89531441e-03],\n",
       "        [9.99999404e-01, 1.93519991e-05],\n",
       "        [9.99999881e-01, 1.05388157e-04],\n",
       "        [9.99971390e-01, 3.85610998e-04],\n",
       "        [9.99998212e-01, 3.23619373e-04],\n",
       "        [9.99999642e-01, 1.93184256e-04],\n",
       "        [9.99999881e-01, 3.85456187e-05],\n",
       "        [1.00000000e+00, 2.07452011e-09],\n",
       "        [9.99985933e-01, 4.75653418e-04],\n",
       "        [1.00000000e+00, 3.56121791e-06],\n",
       "        [1.00000000e+00, 5.31018304e-06],\n",
       "        [1.00000000e+00, 1.12520671e-09],\n",
       "        [6.62536740e-01, 8.88103008e-01],\n",
       "        [1.00000000e+00, 3.97889920e-07],\n",
       "        [1.00000000e+00, 2.71904128e-07],\n",
       "        [9.99999762e-01, 1.39919503e-05],\n",
       "        [5.47270514e-02, 9.85986531e-01],\n",
       "        [9.99999404e-01, 3.30775249e-04],\n",
       "        [1.00000000e+00, 7.44201816e-06],\n",
       "        [5.29354718e-03, 9.98622537e-01],\n",
       "        [2.34877666e-06, 9.99999523e-01],\n",
       "        [9.99962449e-01, 6.28505426e-04],\n",
       "        [1.13689009e-06, 9.99999642e-01],\n",
       "        [3.31926867e-06, 9.99999762e-01],\n",
       "        [2.17816987e-10, 1.00000000e+00],\n",
       "        [6.54763135e-05, 9.99994397e-01],\n",
       "        [9.94708896e-01, 1.05404817e-01],\n",
       "        [4.97419504e-04, 9.99808848e-01],\n",
       "        [1.97474583e-06, 9.99999404e-01],\n",
       "        [9.99760449e-01, 2.97304871e-03],\n",
       "        [4.30272473e-03, 9.98865366e-01],\n",
       "        [6.09554127e-06, 9.99999285e-01],\n",
       "        [5.60034066e-03, 9.99865890e-01],\n",
       "        [1.10821325e-07, 1.00000000e+00],\n",
       "        [9.42915380e-01, 1.92765012e-01],\n",
       "        [2.91197037e-04, 9.99976754e-01],\n",
       "        [3.58408876e-08, 1.00000000e+00],\n",
       "        [3.19593426e-07, 1.00000000e+00],\n",
       "        [2.51308724e-04, 9.99878407e-01],\n",
       "        [5.30856596e-07, 1.00000000e+00],\n",
       "        [5.65492009e-09, 1.00000000e+00],\n",
       "        [2.40580481e-03, 9.99792278e-01],\n",
       "        [9.60842967e-01, 8.81486833e-01],\n",
       "        [1.12561449e-13, 1.00000000e+00],\n",
       "        [2.66112220e-02, 9.96679783e-01],\n",
       "        [3.27124059e-01, 9.10034895e-01],\n",
       "        [1.50208652e-05, 9.99997497e-01],\n",
       "        [7.76029538e-06, 9.99998212e-01],\n",
       "        [5.50135262e-08, 1.00000000e+00],\n",
       "        [9.27629415e-04, 9.99792755e-01],\n",
       "        [1.07337975e-07, 1.00000000e+00],\n",
       "        [8.08065863e-08, 1.00000000e+00],\n",
       "        [9.97812890e-08, 1.00000000e+00],\n",
       "        [8.10433412e-05, 9.99992847e-01]], dtype=float32),\n",
       " array([[1.00000000e+00, 3.08275938e-09],\n",
       "        [9.99999762e-01, 2.85542569e-07],\n",
       "        [9.99880672e-01, 7.31691602e-04],\n",
       "        [1.00000000e+00, 1.55362962e-11],\n",
       "        [1.00000000e+00, 9.98355087e-09],\n",
       "        [9.99996662e-01, 3.16940095e-05],\n",
       "        [1.05979096e-03, 9.99720752e-01],\n",
       "        [9.99999881e-01, 6.63263222e-08],\n",
       "        [9.99986172e-01, 1.02259573e-05],\n",
       "        [1.02102838e-03, 9.99907732e-01],\n",
       "        [1.00000000e+00, 3.45479090e-10],\n",
       "        [1.00000000e+00, 3.79325712e-07],\n",
       "        [9.52719748e-01, 8.23006406e-02],\n",
       "        [1.00000000e+00, 1.39003342e-09],\n",
       "        [1.00000000e+00, 2.33010852e-07],\n",
       "        [1.00000000e+00, 2.52612615e-08],\n",
       "        [9.99857187e-01, 3.36046534e-04],\n",
       "        [1.00000000e+00, 6.50612009e-08],\n",
       "        [9.61451232e-01, 6.52142242e-02],\n",
       "        [9.99999881e-01, 6.16766513e-08],\n",
       "        [1.00000000e+00, 1.05204921e-10],\n",
       "        [9.98654962e-01, 3.20668099e-03],\n",
       "        [9.99999881e-01, 5.52733042e-08],\n",
       "        [4.73003477e-01, 7.81084478e-01],\n",
       "        [1.00000000e+00, 2.10498047e-12],\n",
       "        [9.94809031e-01, 1.24446545e-02],\n",
       "        [9.99999762e-01, 1.22477411e-06],\n",
       "        [1.00000000e+00, 2.33640520e-08],\n",
       "        [9.89801705e-01, 1.04916450e-02],\n",
       "        [9.99999642e-01, 5.32567412e-07],\n",
       "        [9.99995708e-01, 3.97753229e-06],\n",
       "        [9.99921322e-01, 1.29352877e-04],\n",
       "        [1.00000000e+00, 1.20265061e-12],\n",
       "        [9.99997020e-01, 8.51251571e-06],\n",
       "        [8.91294479e-01, 1.64784268e-01],\n",
       "        [9.99997616e-01, 9.14726115e-06],\n",
       "        [1.00000000e+00, 4.48007009e-09],\n",
       "        [9.85646546e-01, 1.87336002e-02],\n",
       "        [9.99976397e-01, 1.34577509e-04],\n",
       "        [1.00000000e+00, 4.42588277e-09],\n",
       "        [1.00000000e+00, 2.46728877e-08],\n",
       "        [1.00000000e+00, 1.31473996e-07],\n",
       "        [4.40573424e-01, 8.28453302e-01],\n",
       "        [1.00000000e+00, 4.15476570e-10],\n",
       "        [9.99995351e-01, 1.11955560e-05],\n",
       "        [1.00000000e+00, 1.63060523e-10],\n",
       "        [1.00000000e+00, 5.97666050e-09],\n",
       "        [1.00000000e+00, 2.26163372e-08],\n",
       "        [6.88648701e-01, 7.35042214e-01],\n",
       "        [1.00000000e+00, 6.85282053e-10],\n",
       "        [9.99991536e-01, 4.91772022e-04],\n",
       "        [9.99527097e-01, 8.66993156e-04],\n",
       "        [1.36650442e-07, 1.00000000e+00],\n",
       "        [2.75259405e-01, 9.28891659e-01],\n",
       "        [5.90991658e-05, 9.99995708e-01],\n",
       "        [1.28432048e-05, 9.99995708e-01],\n",
       "        [5.24678262e-06, 9.99998331e-01],\n",
       "        [1.08171385e-07, 1.00000000e+00],\n",
       "        [1.16931871e-01, 9.43888068e-01],\n",
       "        [3.44451519e-06, 9.99999404e-01],\n",
       "        [1.27566148e-06, 9.99999762e-01],\n",
       "        [2.92638703e-07, 9.99999881e-01],\n",
       "        [1.15554925e-04, 9.99951363e-01],\n",
       "        [1.13548676e-03, 9.99714077e-01],\n",
       "        [6.15167975e-01, 6.68706238e-01],\n",
       "        [5.92151105e-01, 6.04148507e-01],\n",
       "        [4.70753747e-09, 1.00000000e+00],\n",
       "        [1.50543883e-06, 9.99999881e-01],\n",
       "        [4.14193180e-10, 1.00000000e+00],\n",
       "        [2.91503710e-09, 1.00000000e+00],\n",
       "        [2.19543763e-02, 9.94607389e-01],\n",
       "        [2.18029754e-06, 9.99999046e-01],\n",
       "        [6.05756213e-05, 9.99989152e-01],\n",
       "        [8.25069658e-03, 9.97731030e-01],\n",
       "        [2.16050194e-05, 9.99997497e-01],\n",
       "        [1.09306013e-03, 9.99300599e-01],\n",
       "        [4.52600517e-08, 1.00000000e+00],\n",
       "        [6.10425673e-07, 9.99999881e-01],\n",
       "        [9.68975067e-01, 3.20952386e-02],\n",
       "        [1.70602976e-10, 1.00000000e+00],\n",
       "        [9.95906830e-01, 1.21342391e-02],\n",
       "        [3.64641428e-01, 6.92490458e-01],\n",
       "        [2.06305431e-05, 9.99992609e-01],\n",
       "        [6.53963710e-08, 1.00000000e+00],\n",
       "        [9.99883056e-01, 1.02933508e-03],\n",
       "        [1.73179469e-05, 9.99996662e-01],\n",
       "        [7.83795433e-04, 9.99927282e-01]], dtype=float32),\n",
       " array([[1.00000000e+00, 1.44450825e-08],\n",
       "        [1.00000000e+00, 4.42354704e-08],\n",
       "        [1.00000000e+00, 4.42845050e-09],\n",
       "        [1.00000000e+00, 8.61740401e-11],\n",
       "        [9.99971986e-01, 2.61296445e-05],\n",
       "        [9.77594435e-01, 3.17165665e-02],\n",
       "        [9.99998212e-01, 1.84627925e-06],\n",
       "        [9.99999881e-01, 3.60638843e-08],\n",
       "        [9.99996185e-01, 2.31690501e-06],\n",
       "        [9.99999762e-01, 2.01880198e-07],\n",
       "        [9.99994874e-01, 5.98471615e-06],\n",
       "        [1.00000000e+00, 8.68663128e-11],\n",
       "        [9.99999166e-01, 5.54409837e-07],\n",
       "        [1.00000000e+00, 4.46585657e-09],\n",
       "        [1.00000000e+00, 1.32038744e-08],\n",
       "        [9.45320845e-01, 9.68085323e-03],\n",
       "        [1.64827183e-01, 6.67538166e-01],\n",
       "        [9.85950410e-01, 2.07381174e-02],\n",
       "        [9.99999881e-01, 2.09316056e-07],\n",
       "        [1.25120087e-02, 9.19748068e-01],\n",
       "        [9.99992490e-01, 2.33745618e-06],\n",
       "        [9.99970317e-01, 2.56642743e-05],\n",
       "        [9.95697141e-01, 3.65803856e-03],\n",
       "        [9.99999285e-01, 4.14995498e-07],\n",
       "        [9.99991775e-01, 7.75592343e-06],\n",
       "        [9.99994755e-01, 3.33268599e-06],\n",
       "        [9.99999285e-01, 1.28482043e-07],\n",
       "        [9.99999642e-01, 2.07140616e-07],\n",
       "        [1.00000000e+00, 1.83139761e-08],\n",
       "        [9.99256432e-01, 7.18290510e-04],\n",
       "        [9.98439968e-01, 2.69281003e-03],\n",
       "        [9.95222270e-01, 1.05784712e-02],\n",
       "        [6.87859297e-01, 1.96773291e-01],\n",
       "        [7.47682333e-01, 3.33150208e-01],\n",
       "        [3.12850587e-02, 9.78396833e-01],\n",
       "        [9.99202669e-01, 5.83517831e-04],\n",
       "        [9.99998569e-01, 2.50575636e-06],\n",
       "        [9.99957561e-01, 1.78479131e-05],\n",
       "        [9.99991775e-01, 4.23074607e-06],\n",
       "        [9.99999881e-01, 8.22850694e-08],\n",
       "        [1.00000000e+00, 3.14887352e-08],\n",
       "        [9.99999881e-01, 1.22807080e-07],\n",
       "        [9.99986053e-01, 1.38321602e-05],\n",
       "        [9.99993443e-01, 6.22486959e-06],\n",
       "        [9.99975085e-01, 1.79063045e-05],\n",
       "        [9.99999404e-01, 3.99093466e-07],\n",
       "        [9.99996781e-01, 1.85662429e-06],\n",
       "        [9.99949336e-01, 4.19177377e-05],\n",
       "        [1.00000000e+00, 5.73139802e-09],\n",
       "        [9.99830484e-01, 2.56966741e-04],\n",
       "        [9.99999762e-01, 2.03462591e-07],\n",
       "        [9.99548018e-01, 4.50388587e-04],\n",
       "        [2.58801106e-11, 1.00000000e+00],\n",
       "        [2.92937815e-01, 7.63340592e-01],\n",
       "        [9.98416543e-01, 1.17603375e-03],\n",
       "        [1.60506170e-05, 9.99909878e-01],\n",
       "        [1.69095729e-04, 9.99546468e-01],\n",
       "        [5.82543062e-03, 9.94363666e-01],\n",
       "        [2.11471534e-08, 9.99999881e-01],\n",
       "        [4.62949323e-08, 9.99999762e-01],\n",
       "        [1.24412543e-16, 1.00000000e+00],\n",
       "        [1.28185150e-07, 9.99999523e-01],\n",
       "        [6.21106722e-10, 1.00000000e+00],\n",
       "        [1.80575566e-14, 1.00000000e+00],\n",
       "        [5.71256442e-06, 9.99967694e-01],\n",
       "        [3.15265451e-03, 9.81584787e-01],\n",
       "        [2.44889929e-06, 9.99993443e-01],\n",
       "        [9.45814128e-04, 9.94581163e-01],\n",
       "        [1.57712050e-15, 1.00000000e+00],\n",
       "        [6.28821593e-13, 1.00000000e+00],\n",
       "        [1.38123855e-02, 9.92045522e-01],\n",
       "        [4.21937648e-03, 9.87835586e-01],\n",
       "        [3.00447262e-14, 1.00000000e+00],\n",
       "        [9.32970628e-12, 1.00000000e+00],\n",
       "        [2.96973135e-09, 9.99999881e-01],\n",
       "        [4.03770842e-02, 6.21938050e-01],\n",
       "        [3.48665926e-05, 9.99653459e-01],\n",
       "        [1.20961907e-08, 9.99999881e-01],\n",
       "        [7.08983862e-07, 9.99996662e-01],\n",
       "        [4.64019993e-19, 1.00000000e+00],\n",
       "        [7.93524578e-06, 9.99903679e-01],\n",
       "        [4.53861766e-08, 9.99999762e-01],\n",
       "        [3.84299941e-02, 9.52667058e-01],\n",
       "        [2.17658218e-11, 1.00000000e+00],\n",
       "        [1.30612031e-03, 9.97330189e-01],\n",
       "        [1.80847373e-08, 9.99999523e-01]], dtype=float32),\n",
       " array([[3.31946040e-07, 9.99999404e-01],\n",
       "        [9.99456108e-01, 4.24781698e-04],\n",
       "        [9.99975324e-01, 1.51762415e-05],\n",
       "        [9.97299969e-01, 4.44184011e-03],\n",
       "        [1.00000000e+00, 3.45282452e-08],\n",
       "        [1.00000000e+00, 2.79895703e-12],\n",
       "        [1.00000000e+00, 2.49939136e-09],\n",
       "        [9.99197423e-01, 5.22597809e-04],\n",
       "        [9.99772489e-01, 2.06230659e-04],\n",
       "        [9.98614788e-01, 1.98507705e-03],\n",
       "        [1.00000000e+00, 2.98278269e-09],\n",
       "        [1.00000000e+00, 7.40579864e-09],\n",
       "        [4.85934287e-01, 4.06547397e-01],\n",
       "        [9.99963045e-01, 7.25467326e-05],\n",
       "        [1.00000000e+00, 4.74944355e-11],\n",
       "        [1.00000000e+00, 3.63337416e-10],\n",
       "        [8.53685498e-01, 2.76925892e-01],\n",
       "        [9.99989629e-01, 1.36214685e-05],\n",
       "        [9.99587834e-01, 7.06919760e-04],\n",
       "        [9.99295712e-01, 9.29017493e-04],\n",
       "        [9.99991059e-01, 9.05520574e-06],\n",
       "        [9.99576747e-01, 3.41080187e-04],\n",
       "        [9.99980688e-01, 2.57259253e-05],\n",
       "        [9.99998331e-01, 1.06977291e-06],\n",
       "        [9.99202311e-01, 5.81733126e-04],\n",
       "        [9.99986053e-01, 1.26370032e-05],\n",
       "        [9.99909639e-01, 6.59548823e-06],\n",
       "        [4.05119295e-07, 9.99998093e-01],\n",
       "        [9.99882460e-01, 1.01462123e-04],\n",
       "        [1.00000000e+00, 3.77684134e-11],\n",
       "        [4.88787991e-05, 9.99966741e-01],\n",
       "        [9.77857232e-01, 2.04439517e-02],\n",
       "        [1.00000000e+00, 5.05314084e-08],\n",
       "        [1.00000000e+00, 2.38721274e-08],\n",
       "        [9.99983072e-01, 1.29200935e-05],\n",
       "        [9.99996185e-01, 4.07067182e-06],\n",
       "        [9.99875546e-01, 1.17209020e-04],\n",
       "        [9.99712169e-01, 1.31593508e-04],\n",
       "        [9.98345613e-01, 8.56430910e-04],\n",
       "        [9.99985814e-01, 1.53932378e-05],\n",
       "        [9.99998808e-01, 9.29365740e-07],\n",
       "        [9.99994516e-01, 4.70539499e-06],\n",
       "        [7.34625518e-01, 1.32870391e-01],\n",
       "        [9.94989574e-01, 6.23952970e-03],\n",
       "        [9.99999642e-01, 3.30180228e-07],\n",
       "        [1.00000000e+00, 4.67196980e-14],\n",
       "        [9.99964237e-01, 5.10542231e-05],\n",
       "        [6.02223687e-02, 9.71905291e-01],\n",
       "        [9.99999881e-01, 6.38000017e-08],\n",
       "        [9.99938607e-01, 4.65362209e-05],\n",
       "        [9.99998569e-01, 2.55007581e-06],\n",
       "        [9.86593962e-01, 1.32493284e-02],\n",
       "        [7.91293642e-05, 9.99938607e-01],\n",
       "        [6.81532297e-09, 1.00000000e+00],\n",
       "        [2.85923830e-03, 9.93241072e-01],\n",
       "        [4.32149228e-03, 9.90547359e-01],\n",
       "        [5.43495515e-09, 1.00000000e+00],\n",
       "        [1.00000000e+00, 8.53027840e-14],\n",
       "        [4.31232584e-05, 9.99956727e-01],\n",
       "        [9.99786153e-07, 9.99997735e-01],\n",
       "        [9.05031084e-06, 9.99986410e-01],\n",
       "        [2.44328845e-07, 9.99998808e-01],\n",
       "        [4.06613395e-07, 9.99999523e-01],\n",
       "        [8.34592655e-02, 9.17368650e-01],\n",
       "        [9.94464881e-06, 9.99985099e-01],\n",
       "        [8.78317714e-01, 1.65219009e-01],\n",
       "        [2.62224039e-05, 9.99961138e-01],\n",
       "        [1.37899620e-02, 9.90456879e-01],\n",
       "        [4.16255048e-08, 9.99999762e-01],\n",
       "        [2.05052211e-10, 1.00000000e+00],\n",
       "        [7.00188195e-07, 9.99999046e-01],\n",
       "        [3.13769269e-04, 9.99689221e-01],\n",
       "        [4.59281821e-08, 9.99999881e-01],\n",
       "        [2.23302006e-04, 9.99736011e-01],\n",
       "        [5.50404047e-06, 9.99991775e-01],\n",
       "        [5.88183795e-08, 9.99999881e-01],\n",
       "        [1.92317148e-05, 9.99979377e-01],\n",
       "        [4.22183570e-04, 9.99634743e-01],\n",
       "        [1.25173827e-07, 9.99999762e-01],\n",
       "        [1.94764880e-06, 9.99994516e-01],\n",
       "        [9.97392563e-05, 9.99894500e-01],\n",
       "        [4.85242708e-08, 9.99999881e-01],\n",
       "        [4.68239523e-06, 9.99994993e-01],\n",
       "        [8.77808179e-06, 9.99992847e-01],\n",
       "        [9.66137409e-01, 4.69344184e-02],\n",
       "        [2.64208624e-03, 9.99395967e-01]], dtype=float32)]"
      ]
     },
     "execution_count": 14,
     "metadata": {},
     "output_type": "execute_result"
    }
   ],
   "source": [
    "y_predict_all"
   ]
  },
  {
   "cell_type": "code",
   "execution_count": 15,
   "metadata": {},
   "outputs": [],
   "source": [
    "y_test_concatenate_list = []\n",
    "y_predict_concatenate_list = []\n",
    "y_predict_filtered_concatenate_list = []"
   ]
  },
  {
   "cell_type": "code",
   "execution_count": 16,
   "metadata": {},
   "outputs": [],
   "source": [
    "for i in range(5):\n",
    "    y_test_concatenate_list.extend(list(y_test_all[i]))\n",
    "    y_predict_concatenate_list.extend(list(y_predict_all[i]))\n",
    "    y_predict_filtered_concatenate_list.extend(list(y_predict_filtered_all[i]))"
   ]
  },
  {
   "cell_type": "code",
   "execution_count": 17,
   "metadata": {},
   "outputs": [
    {
     "data": {
      "text/plain": [
       "(87, 2)"
      ]
     },
     "execution_count": 17,
     "metadata": {},
     "output_type": "execute_result"
    }
   ],
   "source": [
    "y_predict_all[0].shape"
   ]
  },
  {
   "cell_type": "code",
   "execution_count": 18,
   "metadata": {},
   "outputs": [
    {
     "data": {
      "text/plain": [
       "['chr_09', 'chr_9_inversion']"
      ]
     },
     "execution_count": 18,
     "metadata": {},
     "output_type": "execute_result"
    }
   ],
   "source": [
    "label_convert"
   ]
  },
  {
   "cell_type": "code",
   "execution_count": 19,
   "metadata": {},
   "outputs": [
    {
     "data": {
      "text/plain": [
       "433"
      ]
     },
     "execution_count": 19,
     "metadata": {},
     "output_type": "execute_result"
    }
   ],
   "source": [
    "len(y_test_concatenate_list)"
   ]
  },
  {
   "cell_type": "code",
   "execution_count": 20,
   "metadata": {},
   "outputs": [
    {
     "data": {
      "text/plain": [
       "433"
      ]
     },
     "execution_count": 20,
     "metadata": {},
     "output_type": "execute_result"
    }
   ],
   "source": [
    "len(y_predict_filtered_concatenate_list)"
   ]
  },
  {
   "cell_type": "code",
   "execution_count": 21,
   "metadata": {},
   "outputs": [
    {
     "data": {
      "text/plain": [
       "433"
      ]
     },
     "execution_count": 21,
     "metadata": {},
     "output_type": "execute_result"
    }
   ],
   "source": [
    "len(y_predict_concatenate_list)"
   ]
  },
  {
   "cell_type": "markdown",
   "metadata": {},
   "source": [
    "# Classification Report"
   ]
  },
  {
   "cell_type": "markdown",
   "metadata": {},
   "source": [
    "## Accuracy"
   ]
  },
  {
   "cell_type": "code",
   "execution_count": 22,
   "metadata": {},
   "outputs": [
    {
     "name": "stdout",
     "output_type": "stream",
     "text": [
      "Accuracy is  0.9260969976905312\n"
     ]
    }
   ],
   "source": [
    "acc = accuracy_score(y_test_concatenate_list, y_predict_filtered_concatenate_list, normalize=True, sample_weight=None)\n",
    "print('Accuracy is ', acc)"
   ]
  },
  {
   "cell_type": "markdown",
   "metadata": {},
   "source": [
    "## Precision, Recall, and F1"
   ]
  },
  {
   "cell_type": "code",
   "execution_count": 23,
   "metadata": {},
   "outputs": [
    {
     "name": "stdout",
     "output_type": "stream",
     "text": [
      "                 precision    recall  f1-score   support\n",
      "\n",
      "         chr_09       0.94      0.93      0.94       260\n",
      "chr_9_inversion       0.90      0.91      0.91       173\n",
      "\n",
      "      micro avg       0.93      0.93      0.93       433\n",
      "      macro avg       0.92      0.92      0.92       433\n",
      "   weighted avg       0.93      0.93      0.93       433\n",
      "\n"
     ]
    }
   ],
   "source": [
    "performanceReport = classification_report(y_test_concatenate_list, y_predict_filtered_concatenate_list, \n",
    "                                          target_names=label_convert)\n",
    "\n",
    "\n",
    "print(performanceReport)"
   ]
  },
  {
   "cell_type": "markdown",
   "metadata": {},
   "source": [
    "## Confusion Matrix"
   ]
  },
  {
   "cell_type": "code",
   "execution_count": 24,
   "metadata": {},
   "outputs": [
    {
     "data": {
      "text/html": [
       "<div>\n",
       "<style scoped>\n",
       "    .dataframe tbody tr th:only-of-type {\n",
       "        vertical-align: middle;\n",
       "    }\n",
       "\n",
       "    .dataframe tbody tr th {\n",
       "        vertical-align: top;\n",
       "    }\n",
       "\n",
       "    .dataframe thead th {\n",
       "        text-align: right;\n",
       "    }\n",
       "</style>\n",
       "<table border=\"1\" class=\"dataframe\">\n",
       "  <thead>\n",
       "    <tr style=\"text-align: right;\">\n",
       "      <th></th>\n",
       "      <th>chr_09</th>\n",
       "      <th>chr_9_inversion</th>\n",
       "    </tr>\n",
       "  </thead>\n",
       "  <tbody>\n",
       "    <tr>\n",
       "      <th>chr_09</th>\n",
       "      <td>243</td>\n",
       "      <td>17</td>\n",
       "    </tr>\n",
       "    <tr>\n",
       "      <th>chr_9_inversion</th>\n",
       "      <td>15</td>\n",
       "      <td>158</td>\n",
       "    </tr>\n",
       "  </tbody>\n",
       "</table>\n",
       "</div>"
      ],
      "text/plain": [
       "                 chr_09  chr_9_inversion\n",
       "chr_09              243               17\n",
       "chr_9_inversion      15              158"
      ]
     },
     "execution_count": 24,
     "metadata": {},
     "output_type": "execute_result"
    }
   ],
   "source": [
    "cm = np.array(confusion_matrix(y_test_concatenate_list, y_predict_filtered_concatenate_list))\n",
    "confusion = pd.DataFrame(cm, index=label_convert,\n",
    "                        columns=label_convert)\n",
    "confusion.to_csv('ConfusionMatrix_Combination_of_CrossValidation_KaryoType_CNN.csv')\n",
    "confusion"
   ]
  },
  {
   "cell_type": "markdown",
   "metadata": {},
   "source": [
    "### 3.10.4 Rate of Confusion Matrix"
   ]
  },
  {
   "cell_type": "markdown",
   "metadata": {},
   "source": [
    "### 3.10.5 Recall (查全率)，(Sensitivity Rate)"
   ]
  },
  {
   "cell_type": "code",
   "execution_count": 25,
   "metadata": {
    "scrolled": true
   },
   "outputs": [],
   "source": [
    "subtotal = [0] * 2  \n",
    "for item in y_test_concatenate_list:\n",
    "    subtotal[item] = subtotal[item] + 1"
   ]
  },
  {
   "cell_type": "markdown",
   "metadata": {},
   "source": [
    "#### predict number divided by y test"
   ]
  },
  {
   "cell_type": "code",
   "execution_count": 26,
   "metadata": {},
   "outputs": [],
   "source": [
    "cm_r = []\n",
    "for i in range(2):\n",
    "    cm_r.append(cm[i]/subtotal[i])"
   ]
  },
  {
   "cell_type": "code",
   "execution_count": 27,
   "metadata": {},
   "outputs": [
    {
     "data": {
      "text/html": [
       "<div>\n",
       "<style scoped>\n",
       "    .dataframe tbody tr th:only-of-type {\n",
       "        vertical-align: middle;\n",
       "    }\n",
       "\n",
       "    .dataframe tbody tr th {\n",
       "        vertical-align: top;\n",
       "    }\n",
       "\n",
       "    .dataframe thead th {\n",
       "        text-align: right;\n",
       "    }\n",
       "</style>\n",
       "<table border=\"1\" class=\"dataframe\">\n",
       "  <thead>\n",
       "    <tr style=\"text-align: right;\">\n",
       "      <th></th>\n",
       "      <th>chr_09</th>\n",
       "      <th>chr_9_inversion</th>\n",
       "    </tr>\n",
       "  </thead>\n",
       "  <tbody>\n",
       "    <tr>\n",
       "      <th>chr_09</th>\n",
       "      <td>0.934615</td>\n",
       "      <td>0.065385</td>\n",
       "    </tr>\n",
       "    <tr>\n",
       "      <th>chr_9_inversion</th>\n",
       "      <td>0.086705</td>\n",
       "      <td>0.913295</td>\n",
       "    </tr>\n",
       "  </tbody>\n",
       "</table>\n",
       "</div>"
      ],
      "text/plain": [
       "                   chr_09  chr_9_inversion\n",
       "chr_09           0.934615         0.065385\n",
       "chr_9_inversion  0.086705         0.913295"
      ]
     },
     "execution_count": 27,
     "metadata": {},
     "output_type": "execute_result"
    }
   ],
   "source": [
    "confusion_r = pd.DataFrame(cm_r, index=label_convert,\n",
    "                        columns=label_convert)\n",
    "confusion_r.to_csv('ConfusionMatrix_Recall_Integration_CNN.csv')\n",
    "confusion_r"
   ]
  },
  {
   "cell_type": "markdown",
   "metadata": {},
   "source": [
    "### 3.10.6 Precision (查准率）"
   ]
  },
  {
   "cell_type": "code",
   "execution_count": 28,
   "metadata": {},
   "outputs": [],
   "source": [
    "subtotal_predict = [0] * 2 \n",
    "for item in y_predict_filtered_concatenate_list:\n",
    "    subtotal_predict[item] = subtotal_predict[item] + 1"
   ]
  },
  {
   "cell_type": "markdown",
   "metadata": {},
   "source": [
    "#### predict number divided by y predicted"
   ]
  },
  {
   "cell_type": "code",
   "execution_count": 29,
   "metadata": {},
   "outputs": [],
   "source": [
    "cm_p = []\n",
    "for i in range(2):\n",
    "    cm_p.append(cm[:,i]/subtotal_predict[i])"
   ]
  },
  {
   "cell_type": "code",
   "execution_count": 30,
   "metadata": {},
   "outputs": [
    {
     "data": {
      "text/html": [
       "<div>\n",
       "<style scoped>\n",
       "    .dataframe tbody tr th:only-of-type {\n",
       "        vertical-align: middle;\n",
       "    }\n",
       "\n",
       "    .dataframe tbody tr th {\n",
       "        vertical-align: top;\n",
       "    }\n",
       "\n",
       "    .dataframe thead th {\n",
       "        text-align: right;\n",
       "    }\n",
       "</style>\n",
       "<table border=\"1\" class=\"dataframe\">\n",
       "  <thead>\n",
       "    <tr style=\"text-align: right;\">\n",
       "      <th></th>\n",
       "      <th>chr_09</th>\n",
       "      <th>chr_9_inversion</th>\n",
       "    </tr>\n",
       "  </thead>\n",
       "  <tbody>\n",
       "    <tr>\n",
       "      <th>chr_09</th>\n",
       "      <td>0.941860</td>\n",
       "      <td>0.058140</td>\n",
       "    </tr>\n",
       "    <tr>\n",
       "      <th>chr_9_inversion</th>\n",
       "      <td>0.097143</td>\n",
       "      <td>0.902857</td>\n",
       "    </tr>\n",
       "  </tbody>\n",
       "</table>\n",
       "</div>"
      ],
      "text/plain": [
       "                   chr_09  chr_9_inversion\n",
       "chr_09           0.941860         0.058140\n",
       "chr_9_inversion  0.097143         0.902857"
      ]
     },
     "execution_count": 30,
     "metadata": {},
     "output_type": "execute_result"
    }
   ],
   "source": [
    "confusion_p = pd.DataFrame(cm_p, index=label_convert,\n",
    "                        columns=label_convert)\n",
    "confusion_p.to_csv('ConfusionMatrix_Precision_Integration_CNN.csv')\n",
    "confusion_p"
   ]
  },
  {
   "cell_type": "markdown",
   "metadata": {},
   "source": [
    "#### Heat Map: Number"
   ]
  },
  {
   "cell_type": "code",
   "execution_count": 31,
   "metadata": {
    "scrolled": false
   },
   "outputs": [
    {
     "data": {
      "image/png": "[encoded data removed]",
      "text/plain": [
       "<Figure size 2160x1728 with 2 Axes>"
      ]
     },
     "metadata": {
      "needs_background": "light"
     },
     "output_type": "display_data"
    }
   ],
   "source": [
    "plt.figure(figsize=(30, 24))\n",
    "heat_map = sb.heatmap(confusion, annot=True, fmt='g', # It's a Seaborn function\n",
    "                      cmap='coolwarm', \n",
    "                      xticklabels=confusion.columns, yticklabels=confusion.index, \n",
    "                      linewidths=.5, \n",
    "                      annot_kws={\"size\": 50})\n",
    "sb.set(font_scale = 3)\n"
   ]
  },
  {
   "cell_type": "markdown",
   "metadata": {},
   "source": [
    "#### Heat Map of Recall: Rate (important!!!)"
   ]
  },
  {
   "cell_type": "code",
   "execution_count": 32,
   "metadata": {
    "scrolled": false
   },
   "outputs": [
    {
     "data": {
      "image/png": "[encoded data removed]",
      "text/plain": [
       "<Figure size 2160x1728 with 2 Axes>"
      ]
     },
     "metadata": {},
     "output_type": "display_data"
    }
   ],
   "source": [
    "plt.figure(figsize=(30, 24))\n",
    "heat_map_r = sb.heatmap(confusion_r, annot=True,  # It's a Seaborn function\n",
    "                      cmap='coolwarm', \n",
    "                      xticklabels=confusion.columns, yticklabels=confusion.index, \n",
    "                      linewidths=1, \n",
    "                      annot_kws={\"size\": 50})\n",
    "sb.set(font_scale = 4)"
   ]
  },
  {
   "cell_type": "code",
   "execution_count": 33,
   "metadata": {},
   "outputs": [
    {
     "data": {
      "image/png": "[encoded data removed]",
      "text/plain": [
       "<Figure size 2160x1728 with 2 Axes>"
      ]
     },
     "metadata": {},
     "output_type": "display_data"
    }
   ],
   "source": [
    "plt.figure(figsize=(30, 24))\n",
    "heat_map_p = sb.heatmap(confusion_p, annot=True,  # It's a Seaborn function\n",
    "                      cmap='coolwarm', \n",
    "                      xticklabels=confusion.columns, yticklabels=confusion.index, \n",
    "                      linewidths=1, \n",
    "                      annot_kws={\"size\": 50})\n",
    "sb.set(font_scale = 4)"
   ]
  },
  {
   "cell_type": "code",
   "execution_count": 34,
   "metadata": {},
   "outputs": [],
   "source": [
    "fig = heat_map.get_figure()    \n",
    "fig.savefig('Heatmap_Combination.png', dpi=400)"
   ]
  },
  {
   "cell_type": "code",
   "execution_count": 35,
   "metadata": {},
   "outputs": [],
   "source": [
    "fig_r = heat_map_r.get_figure()    \n",
    "fig_r.savefig('Heatmap_Recall_Combination.png', dpi=400)"
   ]
  },
  {
   "cell_type": "code",
   "execution_count": 36,
   "metadata": {},
   "outputs": [],
   "source": [
    "fig_p = heat_map_p.get_figure()    \n",
    "fig_p.savefig('Heatmap_Precision_Combination.png', dpi=400)"
   ]
  },
  {
   "cell_type": "markdown",
   "metadata": {},
   "source": [
    "# ROC Curve"
   ]
  },
  {
   "cell_type": "code",
   "execution_count": 37,
   "metadata": {},
   "outputs": [
    {
     "data": {
      "text/plain": [
       "array([[9.99999762e-01, 3.26089889e-07],\n",
       "       [1.00000000e+00, 4.21592726e-11],\n",
       "       [1.00000000e+00, 1.48253598e-09],\n",
       "       [9.99995351e-01, 1.10790634e-05],\n",
       "       [9.99861121e-01, 1.59108095e-04],\n",
       "       [9.99998689e-01, 3.21019820e-06],\n",
       "       [1.00000000e+00, 7.50272562e-15],\n",
       "       [1.00000000e+00, 1.14650103e-08],\n",
       "       [9.99999881e-01, 2.09157420e-07],\n",
       "       [1.00000000e+00, 3.73561959e-10],\n",
       "       [1.00000000e+00, 2.34669395e-09],\n",
       "       [1.00000000e+00, 1.92415302e-11],\n",
       "       [9.99999404e-01, 1.30481749e-06],\n",
       "       [9.99999881e-01, 1.87794399e-07],\n",
       "       [9.99999881e-01, 2.34674715e-07],\n",
       "       [1.00000000e+00, 5.44362821e-09],\n",
       "       [9.99999285e-01, 9.58189730e-07],\n",
       "       [9.99912620e-01, 1.98835682e-04],\n",
       "       [1.00000000e+00, 3.55106629e-08],\n",
       "       [1.00000000e+00, 7.27416039e-09],\n",
       "       [9.97990131e-01, 2.97178840e-03],\n",
       "       [1.00000000e+00, 6.72294860e-08],\n",
       "       [9.32244360e-01, 9.86692607e-02],\n",
       "       [1.00000000e+00, 8.31027194e-08],\n",
       "       [9.99999881e-01, 2.02778779e-07],\n",
       "       [1.00000000e+00, 2.95907512e-08],\n",
       "       [9.98617768e-01, 3.46856518e-03],\n",
       "       [9.99681473e-01, 3.74345691e-04],\n",
       "       [9.99999046e-01, 8.83616849e-07],\n",
       "       [9.99989271e-01, 4.88107944e-05],\n",
       "       [1.00000000e+00, 7.64203456e-09],\n",
       "       [9.99991298e-01, 9.87860585e-06],\n",
       "       [9.99847651e-01, 1.48627310e-04],\n",
       "       [9.99943495e-01, 9.59478493e-05],\n",
       "       [9.99428809e-01, 9.19648737e-04],\n",
       "       [1.00000000e+00, 1.56375329e-10],\n",
       "       [1.00000000e+00, 1.75721749e-16],\n",
       "       [1.00000000e+00, 4.19424218e-10],\n",
       "       [7.82619938e-02, 8.92691433e-01],\n",
       "       [9.99670506e-01, 8.39225540e-04],\n",
       "       [9.99999881e-01, 7.64864296e-07],\n",
       "       [9.99999881e-01, 3.14278140e-07],\n",
       "       [9.97254670e-01, 3.05766147e-03],\n",
       "       [1.00000000e+00, 1.82576648e-10],\n",
       "       [9.99999762e-01, 4.49272875e-07],\n",
       "       [1.00000000e+00, 4.68945938e-10],\n",
       "       [9.99817431e-01, 1.67203340e-04],\n",
       "       [1.00000000e+00, 1.34773182e-09],\n",
       "       [1.00000000e+00, 1.91252045e-08],\n",
       "       [1.61265998e-04, 9.99989390e-01],\n",
       "       [9.99994516e-01, 1.41572064e-05],\n",
       "       [9.99998927e-01, 1.04715457e-06],\n",
       "       [1.79068953e-01, 9.61874545e-01],\n",
       "       [9.22861174e-02, 9.73879874e-01],\n",
       "       [1.21411113e-05, 9.99996424e-01],\n",
       "       [3.27254683e-02, 9.69209254e-01],\n",
       "       [9.33572054e-01, 1.64272800e-01],\n",
       "       [9.99965787e-01, 4.51482811e-05],\n",
       "       [1.39741838e-04, 9.99973416e-01],\n",
       "       [2.11093429e-05, 9.99999166e-01],\n",
       "       [2.80369469e-03, 9.99482512e-01],\n",
       "       [5.68495020e-02, 9.94208932e-01],\n",
       "       [3.36966451e-07, 1.00000000e+00],\n",
       "       [3.40044757e-08, 1.00000000e+00],\n",
       "       [3.16662249e-06, 9.99999881e-01],\n",
       "       [5.28223438e-07, 1.00000000e+00],\n",
       "       [1.00000000e+00, 3.97103703e-17],\n",
       "       [2.32877061e-01, 9.24389243e-01],\n",
       "       [5.57470667e-05, 9.99993443e-01],\n",
       "       [5.51498495e-04, 9.99937415e-01],\n",
       "       [3.13486964e-07, 1.00000000e+00],\n",
       "       [3.22977372e-04, 9.99966860e-01],\n",
       "       [2.40339961e-08, 1.00000000e+00],\n",
       "       [1.33167862e-06, 1.00000000e+00],\n",
       "       [1.92373802e-04, 9.99972343e-01],\n",
       "       [3.14868870e-03, 9.99439895e-01],\n",
       "       [1.06964854e-03, 9.99959588e-01],\n",
       "       [1.39909489e-05, 9.99999166e-01],\n",
       "       [1.28884707e-07, 1.00000000e+00],\n",
       "       [2.27577220e-05, 9.99997377e-01],\n",
       "       [2.38788780e-05, 9.99999404e-01],\n",
       "       [1.80670020e-06, 1.00000000e+00],\n",
       "       [8.92790182e-13, 1.00000000e+00],\n",
       "       [4.37481189e-03, 9.99754727e-01],\n",
       "       [1.06682342e-06, 1.00000000e+00],\n",
       "       [4.51261819e-08, 1.00000000e+00],\n",
       "       [2.25697193e-04, 9.99953628e-01],\n",
       "       [9.94767547e-01, 4.92231287e-02],\n",
       "       [9.99768198e-01, 1.01504521e-02],\n",
       "       [9.99999762e-01, 2.33776027e-05],\n",
       "       [9.99999642e-01, 2.85238420e-05],\n",
       "       [9.99999642e-01, 3.16678452e-05],\n",
       "       [9.99999881e-01, 6.44154861e-05],\n",
       "       [9.99997139e-01, 5.77330764e-04],\n",
       "       [9.99999523e-01, 2.08868354e-04],\n",
       "       [9.99609292e-01, 6.71222582e-02],\n",
       "       [9.99950886e-01, 1.28241233e-03],\n",
       "       [9.99999881e-01, 6.39999098e-06],\n",
       "       [9.99977469e-01, 4.83482523e-04],\n",
       "       [9.99999762e-01, 8.53876918e-05],\n",
       "       [9.99986053e-01, 3.12830467e-04],\n",
       "       [9.69070554e-01, 5.45362055e-01],\n",
       "       [9.99999881e-01, 1.19360020e-05],\n",
       "       [9.15438294e-01, 7.11423278e-01],\n",
       "       [9.99999762e-01, 1.41359696e-05],\n",
       "       [1.00000000e+00, 1.29277942e-06],\n",
       "       [9.91543174e-01, 4.27371301e-02],\n",
       "       [9.99999881e-01, 1.07563110e-05],\n",
       "       [9.99901652e-01, 1.02019997e-03],\n",
       "       [1.00000000e+00, 1.94970221e-06],\n",
       "       [9.99999285e-01, 2.60280995e-05],\n",
       "       [9.96502638e-01, 3.68506610e-02],\n",
       "       [9.99994755e-01, 1.77700902e-04],\n",
       "       [9.99999762e-01, 1.90447499e-05],\n",
       "       [6.21764481e-01, 9.54757810e-01],\n",
       "       [9.99998808e-01, 6.75470801e-05],\n",
       "       [1.00000000e+00, 1.61442131e-05],\n",
       "       [1.00000000e+00, 1.04904630e-05],\n",
       "       [1.00000000e+00, 3.97515521e-07],\n",
       "       [9.99998331e-01, 3.79937082e-05],\n",
       "       [9.99894857e-01, 3.89531441e-03],\n",
       "       [9.99999404e-01, 1.93519991e-05],\n",
       "       [9.99999881e-01, 1.05388157e-04],\n",
       "       [9.99971390e-01, 3.85610998e-04],\n",
       "       [9.99998212e-01, 3.23619373e-04],\n",
       "       [9.99999642e-01, 1.93184256e-04],\n",
       "       [9.99999881e-01, 3.85456187e-05],\n",
       "       [1.00000000e+00, 2.07452011e-09],\n",
       "       [9.99985933e-01, 4.75653418e-04],\n",
       "       [1.00000000e+00, 3.56121791e-06],\n",
       "       [1.00000000e+00, 5.31018304e-06],\n",
       "       [1.00000000e+00, 1.12520671e-09],\n",
       "       [6.62536740e-01, 8.88103008e-01],\n",
       "       [1.00000000e+00, 3.97889920e-07],\n",
       "       [1.00000000e+00, 2.71904128e-07],\n",
       "       [9.99999762e-01, 1.39919503e-05],\n",
       "       [5.47270514e-02, 9.85986531e-01],\n",
       "       [9.99999404e-01, 3.30775249e-04],\n",
       "       [1.00000000e+00, 7.44201816e-06],\n",
       "       [5.29354718e-03, 9.98622537e-01],\n",
       "       [2.34877666e-06, 9.99999523e-01],\n",
       "       [9.99962449e-01, 6.28505426e-04],\n",
       "       [1.13689009e-06, 9.99999642e-01],\n",
       "       [3.31926867e-06, 9.99999762e-01],\n",
       "       [2.17816987e-10, 1.00000000e+00],\n",
       "       [6.54763135e-05, 9.99994397e-01],\n",
       "       [9.94708896e-01, 1.05404817e-01],\n",
       "       [4.97419504e-04, 9.99808848e-01],\n",
       "       [1.97474583e-06, 9.99999404e-01],\n",
       "       [9.99760449e-01, 2.97304871e-03],\n",
       "       [4.30272473e-03, 9.98865366e-01],\n",
       "       [6.09554127e-06, 9.99999285e-01],\n",
       "       [5.60034066e-03, 9.99865890e-01],\n",
       "       [1.10821325e-07, 1.00000000e+00],\n",
       "       [9.42915380e-01, 1.92765012e-01],\n",
       "       [2.91197037e-04, 9.99976754e-01],\n",
       "       [3.58408876e-08, 1.00000000e+00],\n",
       "       [3.19593426e-07, 1.00000000e+00],\n",
       "       [2.51308724e-04, 9.99878407e-01],\n",
       "       [5.30856596e-07, 1.00000000e+00],\n",
       "       [5.65492009e-09, 1.00000000e+00],\n",
       "       [2.40580481e-03, 9.99792278e-01],\n",
       "       [9.60842967e-01, 8.81486833e-01],\n",
       "       [1.12561449e-13, 1.00000000e+00],\n",
       "       [2.66112220e-02, 9.96679783e-01],\n",
       "       [3.27124059e-01, 9.10034895e-01],\n",
       "       [1.50208652e-05, 9.99997497e-01],\n",
       "       [7.76029538e-06, 9.99998212e-01],\n",
       "       [5.50135262e-08, 1.00000000e+00],\n",
       "       [9.27629415e-04, 9.99792755e-01],\n",
       "       [1.07337975e-07, 1.00000000e+00],\n",
       "       [8.08065863e-08, 1.00000000e+00],\n",
       "       [9.97812890e-08, 1.00000000e+00],\n",
       "       [8.10433412e-05, 9.99992847e-01],\n",
       "       [1.00000000e+00, 3.08275938e-09],\n",
       "       [9.99999762e-01, 2.85542569e-07],\n",
       "       [9.99880672e-01, 7.31691602e-04],\n",
       "       [1.00000000e+00, 1.55362962e-11],\n",
       "       [1.00000000e+00, 9.98355087e-09],\n",
       "       [9.99996662e-01, 3.16940095e-05],\n",
       "       [1.05979096e-03, 9.99720752e-01],\n",
       "       [9.99999881e-01, 6.63263222e-08],\n",
       "       [9.99986172e-01, 1.02259573e-05],\n",
       "       [1.02102838e-03, 9.99907732e-01],\n",
       "       [1.00000000e+00, 3.45479090e-10],\n",
       "       [1.00000000e+00, 3.79325712e-07],\n",
       "       [9.52719748e-01, 8.23006406e-02],\n",
       "       [1.00000000e+00, 1.39003342e-09],\n",
       "       [1.00000000e+00, 2.33010852e-07],\n",
       "       [1.00000000e+00, 2.52612615e-08],\n",
       "       [9.99857187e-01, 3.36046534e-04],\n",
       "       [1.00000000e+00, 6.50612009e-08],\n",
       "       [9.61451232e-01, 6.52142242e-02],\n",
       "       [9.99999881e-01, 6.16766513e-08],\n",
       "       [1.00000000e+00, 1.05204921e-10],\n",
       "       [9.98654962e-01, 3.20668099e-03],\n",
       "       [9.99999881e-01, 5.52733042e-08],\n",
       "       [4.73003477e-01, 7.81084478e-01],\n",
       "       [1.00000000e+00, 2.10498047e-12],\n",
       "       [9.94809031e-01, 1.24446545e-02],\n",
       "       [9.99999762e-01, 1.22477411e-06],\n",
       "       [1.00000000e+00, 2.33640520e-08],\n",
       "       [9.89801705e-01, 1.04916450e-02],\n",
       "       [9.99999642e-01, 5.32567412e-07],\n",
       "       [9.99995708e-01, 3.97753229e-06],\n",
       "       [9.99921322e-01, 1.29352877e-04],\n",
       "       [1.00000000e+00, 1.20265061e-12],\n",
       "       [9.99997020e-01, 8.51251571e-06],\n",
       "       [8.91294479e-01, 1.64784268e-01],\n",
       "       [9.99997616e-01, 9.14726115e-06],\n",
       "       [1.00000000e+00, 4.48007009e-09],\n",
       "       [9.85646546e-01, 1.87336002e-02],\n",
       "       [9.99976397e-01, 1.34577509e-04],\n",
       "       [1.00000000e+00, 4.42588277e-09],\n",
       "       [1.00000000e+00, 2.46728877e-08],\n",
       "       [1.00000000e+00, 1.31473996e-07],\n",
       "       [4.40573424e-01, 8.28453302e-01],\n",
       "       [1.00000000e+00, 4.15476570e-10],\n",
       "       [9.99995351e-01, 1.11955560e-05],\n",
       "       [1.00000000e+00, 1.63060523e-10],\n",
       "       [1.00000000e+00, 5.97666050e-09],\n",
       "       [1.00000000e+00, 2.26163372e-08],\n",
       "       [6.88648701e-01, 7.35042214e-01],\n",
       "       [1.00000000e+00, 6.85282053e-10],\n",
       "       [9.99991536e-01, 4.91772022e-04],\n",
       "       [9.99527097e-01, 8.66993156e-04],\n",
       "       [1.36650442e-07, 1.00000000e+00],\n",
       "       [2.75259405e-01, 9.28891659e-01],\n",
       "       [5.90991658e-05, 9.99995708e-01],\n",
       "       [1.28432048e-05, 9.99995708e-01],\n",
       "       [5.24678262e-06, 9.99998331e-01],\n",
       "       [1.08171385e-07, 1.00000000e+00],\n",
       "       [1.16931871e-01, 9.43888068e-01],\n",
       "       [3.44451519e-06, 9.99999404e-01],\n",
       "       [1.27566148e-06, 9.99999762e-01],\n",
       "       [2.92638703e-07, 9.99999881e-01],\n",
       "       [1.15554925e-04, 9.99951363e-01],\n",
       "       [1.13548676e-03, 9.99714077e-01],\n",
       "       [6.15167975e-01, 6.68706238e-01],\n",
       "       [5.92151105e-01, 6.04148507e-01],\n",
       "       [4.70753747e-09, 1.00000000e+00],\n",
       "       [1.50543883e-06, 9.99999881e-01],\n",
       "       [4.14193180e-10, 1.00000000e+00],\n",
       "       [2.91503710e-09, 1.00000000e+00],\n",
       "       [2.19543763e-02, 9.94607389e-01],\n",
       "       [2.18029754e-06, 9.99999046e-01],\n",
       "       [6.05756213e-05, 9.99989152e-01],\n",
       "       [8.25069658e-03, 9.97731030e-01],\n",
       "       [2.16050194e-05, 9.99997497e-01],\n",
       "       [1.09306013e-03, 9.99300599e-01],\n",
       "       [4.52600517e-08, 1.00000000e+00],\n",
       "       [6.10425673e-07, 9.99999881e-01],\n",
       "       [9.68975067e-01, 3.20952386e-02],\n",
       "       [1.70602976e-10, 1.00000000e+00],\n",
       "       [9.95906830e-01, 1.21342391e-02],\n",
       "       [3.64641428e-01, 6.92490458e-01],\n",
       "       [2.06305431e-05, 9.99992609e-01],\n",
       "       [6.53963710e-08, 1.00000000e+00],\n",
       "       [9.99883056e-01, 1.02933508e-03],\n",
       "       [1.73179469e-05, 9.99996662e-01],\n",
       "       [7.83795433e-04, 9.99927282e-01],\n",
       "       [1.00000000e+00, 1.44450825e-08],\n",
       "       [1.00000000e+00, 4.42354704e-08],\n",
       "       [1.00000000e+00, 4.42845050e-09],\n",
       "       [1.00000000e+00, 8.61740401e-11],\n",
       "       [9.99971986e-01, 2.61296445e-05],\n",
       "       [9.77594435e-01, 3.17165665e-02],\n",
       "       [9.99998212e-01, 1.84627925e-06],\n",
       "       [9.99999881e-01, 3.60638843e-08],\n",
       "       [9.99996185e-01, 2.31690501e-06],\n",
       "       [9.99999762e-01, 2.01880198e-07],\n",
       "       [9.99994874e-01, 5.98471615e-06],\n",
       "       [1.00000000e+00, 8.68663128e-11],\n",
       "       [9.99999166e-01, 5.54409837e-07],\n",
       "       [1.00000000e+00, 4.46585657e-09],\n",
       "       [1.00000000e+00, 1.32038744e-08],\n",
       "       [9.45320845e-01, 9.68085323e-03],\n",
       "       [1.64827183e-01, 6.67538166e-01],\n",
       "       [9.85950410e-01, 2.07381174e-02],\n",
       "       [9.99999881e-01, 2.09316056e-07],\n",
       "       [1.25120087e-02, 9.19748068e-01],\n",
       "       [9.99992490e-01, 2.33745618e-06],\n",
       "       [9.99970317e-01, 2.56642743e-05],\n",
       "       [9.95697141e-01, 3.65803856e-03],\n",
       "       [9.99999285e-01, 4.14995498e-07],\n",
       "       [9.99991775e-01, 7.75592343e-06],\n",
       "       [9.99994755e-01, 3.33268599e-06],\n",
       "       [9.99999285e-01, 1.28482043e-07],\n",
       "       [9.99999642e-01, 2.07140616e-07],\n",
       "       [1.00000000e+00, 1.83139761e-08],\n",
       "       [9.99256432e-01, 7.18290510e-04],\n",
       "       [9.98439968e-01, 2.69281003e-03],\n",
       "       [9.95222270e-01, 1.05784712e-02],\n",
       "       [6.87859297e-01, 1.96773291e-01],\n",
       "       [7.47682333e-01, 3.33150208e-01],\n",
       "       [3.12850587e-02, 9.78396833e-01],\n",
       "       [9.99202669e-01, 5.83517831e-04],\n",
       "       [9.99998569e-01, 2.50575636e-06],\n",
       "       [9.99957561e-01, 1.78479131e-05],\n",
       "       [9.99991775e-01, 4.23074607e-06],\n",
       "       [9.99999881e-01, 8.22850694e-08],\n",
       "       [1.00000000e+00, 3.14887352e-08],\n",
       "       [9.99999881e-01, 1.22807080e-07],\n",
       "       [9.99986053e-01, 1.38321602e-05],\n",
       "       [9.99993443e-01, 6.22486959e-06],\n",
       "       [9.99975085e-01, 1.79063045e-05],\n",
       "       [9.99999404e-01, 3.99093466e-07],\n",
       "       [9.99996781e-01, 1.85662429e-06],\n",
       "       [9.99949336e-01, 4.19177377e-05],\n",
       "       [1.00000000e+00, 5.73139802e-09],\n",
       "       [9.99830484e-01, 2.56966741e-04],\n",
       "       [9.99999762e-01, 2.03462591e-07],\n",
       "       [9.99548018e-01, 4.50388587e-04],\n",
       "       [2.58801106e-11, 1.00000000e+00],\n",
       "       [2.92937815e-01, 7.63340592e-01],\n",
       "       [9.98416543e-01, 1.17603375e-03],\n",
       "       [1.60506170e-05, 9.99909878e-01],\n",
       "       [1.69095729e-04, 9.99546468e-01],\n",
       "       [5.82543062e-03, 9.94363666e-01],\n",
       "       [2.11471534e-08, 9.99999881e-01],\n",
       "       [4.62949323e-08, 9.99999762e-01],\n",
       "       [1.24412543e-16, 1.00000000e+00],\n",
       "       [1.28185150e-07, 9.99999523e-01],\n",
       "       [6.21106722e-10, 1.00000000e+00],\n",
       "       [1.80575566e-14, 1.00000000e+00],\n",
       "       [5.71256442e-06, 9.99967694e-01],\n",
       "       [3.15265451e-03, 9.81584787e-01],\n",
       "       [2.44889929e-06, 9.99993443e-01],\n",
       "       [9.45814128e-04, 9.94581163e-01],\n",
       "       [1.57712050e-15, 1.00000000e+00],\n",
       "       [6.28821593e-13, 1.00000000e+00],\n",
       "       [1.38123855e-02, 9.92045522e-01],\n",
       "       [4.21937648e-03, 9.87835586e-01],\n",
       "       [3.00447262e-14, 1.00000000e+00],\n",
       "       [9.32970628e-12, 1.00000000e+00],\n",
       "       [2.96973135e-09, 9.99999881e-01],\n",
       "       [4.03770842e-02, 6.21938050e-01],\n",
       "       [3.48665926e-05, 9.99653459e-01],\n",
       "       [1.20961907e-08, 9.99999881e-01],\n",
       "       [7.08983862e-07, 9.99996662e-01],\n",
       "       [4.64019993e-19, 1.00000000e+00],\n",
       "       [7.93524578e-06, 9.99903679e-01],\n",
       "       [4.53861766e-08, 9.99999762e-01],\n",
       "       [3.84299941e-02, 9.52667058e-01],\n",
       "       [2.17658218e-11, 1.00000000e+00],\n",
       "       [1.30612031e-03, 9.97330189e-01],\n",
       "       [1.80847373e-08, 9.99999523e-01],\n",
       "       [3.31946040e-07, 9.99999404e-01],\n",
       "       [9.99456108e-01, 4.24781698e-04],\n",
       "       [9.99975324e-01, 1.51762415e-05],\n",
       "       [9.97299969e-01, 4.44184011e-03],\n",
       "       [1.00000000e+00, 3.45282452e-08],\n",
       "       [1.00000000e+00, 2.79895703e-12],\n",
       "       [1.00000000e+00, 2.49939136e-09],\n",
       "       [9.99197423e-01, 5.22597809e-04],\n",
       "       [9.99772489e-01, 2.06230659e-04],\n",
       "       [9.98614788e-01, 1.98507705e-03],\n",
       "       [1.00000000e+00, 2.98278269e-09],\n",
       "       [1.00000000e+00, 7.40579864e-09],\n",
       "       [4.85934287e-01, 4.06547397e-01],\n",
       "       [9.99963045e-01, 7.25467326e-05],\n",
       "       [1.00000000e+00, 4.74944355e-11],\n",
       "       [1.00000000e+00, 3.63337416e-10],\n",
       "       [8.53685498e-01, 2.76925892e-01],\n",
       "       [9.99989629e-01, 1.36214685e-05],\n",
       "       [9.99587834e-01, 7.06919760e-04],\n",
       "       [9.99295712e-01, 9.29017493e-04],\n",
       "       [9.99991059e-01, 9.05520574e-06],\n",
       "       [9.99576747e-01, 3.41080187e-04],\n",
       "       [9.99980688e-01, 2.57259253e-05],\n",
       "       [9.99998331e-01, 1.06977291e-06],\n",
       "       [9.99202311e-01, 5.81733126e-04],\n",
       "       [9.99986053e-01, 1.26370032e-05],\n",
       "       [9.99909639e-01, 6.59548823e-06],\n",
       "       [4.05119295e-07, 9.99998093e-01],\n",
       "       [9.99882460e-01, 1.01462123e-04],\n",
       "       [1.00000000e+00, 3.77684134e-11],\n",
       "       [4.88787991e-05, 9.99966741e-01],\n",
       "       [9.77857232e-01, 2.04439517e-02],\n",
       "       [1.00000000e+00, 5.05314084e-08],\n",
       "       [1.00000000e+00, 2.38721274e-08],\n",
       "       [9.99983072e-01, 1.29200935e-05],\n",
       "       [9.99996185e-01, 4.07067182e-06],\n",
       "       [9.99875546e-01, 1.17209020e-04],\n",
       "       [9.99712169e-01, 1.31593508e-04],\n",
       "       [9.98345613e-01, 8.56430910e-04],\n",
       "       [9.99985814e-01, 1.53932378e-05],\n",
       "       [9.99998808e-01, 9.29365740e-07],\n",
       "       [9.99994516e-01, 4.70539499e-06],\n",
       "       [7.34625518e-01, 1.32870391e-01],\n",
       "       [9.94989574e-01, 6.23952970e-03],\n",
       "       [9.99999642e-01, 3.30180228e-07],\n",
       "       [1.00000000e+00, 4.67196980e-14],\n",
       "       [9.99964237e-01, 5.10542231e-05],\n",
       "       [6.02223687e-02, 9.71905291e-01],\n",
       "       [9.99999881e-01, 6.38000017e-08],\n",
       "       [9.99938607e-01, 4.65362209e-05],\n",
       "       [9.99998569e-01, 2.55007581e-06],\n",
       "       [9.86593962e-01, 1.32493284e-02],\n",
       "       [7.91293642e-05, 9.99938607e-01],\n",
       "       [6.81532297e-09, 1.00000000e+00],\n",
       "       [2.85923830e-03, 9.93241072e-01],\n",
       "       [4.32149228e-03, 9.90547359e-01],\n",
       "       [5.43495515e-09, 1.00000000e+00],\n",
       "       [1.00000000e+00, 8.53027840e-14],\n",
       "       [4.31232584e-05, 9.99956727e-01],\n",
       "       [9.99786153e-07, 9.99997735e-01],\n",
       "       [9.05031084e-06, 9.99986410e-01],\n",
       "       [2.44328845e-07, 9.99998808e-01],\n",
       "       [4.06613395e-07, 9.99999523e-01],\n",
       "       [8.34592655e-02, 9.17368650e-01],\n",
       "       [9.94464881e-06, 9.99985099e-01],\n",
       "       [8.78317714e-01, 1.65219009e-01],\n",
       "       [2.62224039e-05, 9.99961138e-01],\n",
       "       [1.37899620e-02, 9.90456879e-01],\n",
       "       [4.16255048e-08, 9.99999762e-01],\n",
       "       [2.05052211e-10, 1.00000000e+00],\n",
       "       [7.00188195e-07, 9.99999046e-01],\n",
       "       [3.13769269e-04, 9.99689221e-01],\n",
       "       [4.59281821e-08, 9.99999881e-01],\n",
       "       [2.23302006e-04, 9.99736011e-01],\n",
       "       [5.50404047e-06, 9.99991775e-01],\n",
       "       [5.88183795e-08, 9.99999881e-01],\n",
       "       [1.92317148e-05, 9.99979377e-01],\n",
       "       [4.22183570e-04, 9.99634743e-01],\n",
       "       [1.25173827e-07, 9.99999762e-01],\n",
       "       [1.94764880e-06, 9.99994516e-01],\n",
       "       [9.97392563e-05, 9.99894500e-01],\n",
       "       [4.85242708e-08, 9.99999881e-01],\n",
       "       [4.68239523e-06, 9.99994993e-01],\n",
       "       [8.77808179e-06, 9.99992847e-01],\n",
       "       [9.66137409e-01, 4.69344184e-02],\n",
       "       [2.64208624e-03, 9.99395967e-01]], dtype=float32)"
      ]
     },
     "execution_count": 37,
     "metadata": {},
     "output_type": "execute_result"
    }
   ],
   "source": [
    "y_predict_concatenate_array = np.array(y_predict_concatenate_list)\n",
    "y_predict_concatenate_array"
   ]
  },
  {
   "cell_type": "code",
   "execution_count": 38,
   "metadata": {},
   "outputs": [
    {
     "data": {
      "text/plain": [
       "(433, 2)"
      ]
     },
     "execution_count": 38,
     "metadata": {},
     "output_type": "execute_result"
    }
   ],
   "source": [
    "y_predict_concatenate_array.shape"
   ]
  },
  {
   "cell_type": "code",
   "execution_count": 39,
   "metadata": {},
   "outputs": [],
   "source": [
    "y_predict_1D = y_predict_concatenate_array[:,0]"
   ]
  },
  {
   "cell_type": "code",
   "execution_count": 40,
   "metadata": {},
   "outputs": [],
   "source": [
    "y_predict_1D_processed = 1- y_predict_1D"
   ]
  },
  {
   "cell_type": "code",
   "execution_count": 41,
   "metadata": {},
   "outputs": [],
   "source": [
    "fpr , tpr , thresholds = roc_curve(y_test_concatenate_list , y_predict_1D_processed)\n",
    "auc_rf = auc(fpr, tpr)"
   ]
  },
  {
   "cell_type": "code",
   "execution_count": 42,
   "metadata": {},
   "outputs": [
    {
     "data": {
      "text/plain": [
       "0.9663628279235216"
      ]
     },
     "execution_count": 42,
     "metadata": {},
     "output_type": "execute_result"
    }
   ],
   "source": [
    "auc_rf"
   ]
  },
  {
   "cell_type": "code",
   "execution_count": 43,
   "metadata": {},
   "outputs": [],
   "source": [
    "x = y = np.arange(0, 1.1, 0.1)"
   ]
  },
  {
   "cell_type": "code",
   "execution_count": 44,
   "metadata": {},
   "outputs": [
    {
     "data": {
      "text/plain": [
       "array([0. , 0.1, 0.2, 0.3, 0.4, 0.5, 0.6, 0.7, 0.8, 0.9, 1. ])"
      ]
     },
     "execution_count": 44,
     "metadata": {},
     "output_type": "execute_result"
    }
   ],
   "source": [
    "x"
   ]
  },
  {
   "cell_type": "code",
   "execution_count": 45,
   "metadata": {
    "scrolled": true
   },
   "outputs": [
    {
     "data": {
      "image/png": "[encoded data removed]",
      "text/plain": [
       "<Figure size 432x288 with 1 Axes>"
      ]
     },
     "metadata": {},
     "output_type": "display_data"
    }
   ],
   "source": [
    "fig = plt.figure()\n",
    "plt.style.use('classic')\n",
    "\n",
    "ax = fig.add_subplot(111)\n",
    "\n",
    "plt.plot(fpr, tpr, color='blue', linewidth=0.9)\n",
    "\n",
    "plt.plot(x, y, '--', color='black', linewidth=0.8)\n",
    "\n",
    "plt.title('ROC curve of Chr_09 Inversion', fontsize=15, fontname = 'Times New Roman')\n",
    "plt.xlabel('False Positive Rate', fontsize=15, fontname = 'Times New Roman')\n",
    "plt.ylabel('True positive Rate', fontsize=15, fontname = 'Times New Roman')\n",
    "ax.set_aspect('equal', adjustable='box')\n",
    "plt.xlim(-0.08, 1.1)\n",
    "plt.ylim(-0.08, 1.1)\n",
    "plt.xticks(fontsize=15, fontname = 'Arial')\n",
    "plt.yticks(fontsize=15, fontname = 'Arial')\n",
    "\n",
    "plt.savefig('ROC_Curve_Combination.png', dpi=800)\n",
    "plt.show()"
   ]
  },
  {
   "cell_type": "markdown",
   "metadata": {},
   "source": [
    "#### 3.10.4.1 AUC Value"
   ]
  },
  {
   "cell_type": "code",
   "execution_count": 46,
   "metadata": {},
   "outputs": [],
   "source": [
    "auc_value = auc(fpr, tpr)"
   ]
  },
  {
   "cell_type": "code",
   "execution_count": 47,
   "metadata": {},
   "outputs": [
    {
     "name": "stdout",
     "output_type": "stream",
     "text": [
      "AUC is  0.9663628279235216\n"
     ]
    }
   ],
   "source": [
    "print('AUC is ', auc_value)"
   ]
  },
  {
   "cell_type": "markdown",
   "metadata": {},
   "source": [
    "# Results"
   ]
  },
  {
   "cell_type": "code",
   "execution_count": 48,
   "metadata": {},
   "outputs": [
    {
     "name": "stdout",
     "output_type": "stream",
     "text": [
      "Test Accuracy: 0.926\n"
     ]
    }
   ],
   "source": [
    "print('Test Accuracy: %.3f' % acc)"
   ]
  },
  {
   "cell_type": "code",
   "execution_count": 49,
   "metadata": {
    "scrolled": true
   },
   "outputs": [
    {
     "name": "stdout",
     "output_type": "stream",
     "text": [
      "                 precision    recall  f1-score   support\n",
      "\n",
      "         chr_09       0.94      0.93      0.94       260\n",
      "chr_9_inversion       0.90      0.91      0.91       173\n",
      "\n",
      "      micro avg       0.93      0.93      0.93       433\n",
      "      macro avg       0.92      0.92      0.92       433\n",
      "   weighted avg       0.93      0.93      0.93       433\n",
      "\n"
     ]
    }
   ],
   "source": [
    "print(performanceReport)"
   ]
  },
  {
   "cell_type": "code",
   "execution_count": 50,
   "metadata": {},
   "outputs": [
    {
     "data": {
      "text/plain": [
       "str"
      ]
     },
     "execution_count": 50,
     "metadata": {},
     "output_type": "execute_result"
    }
   ],
   "source": [
    "type(performanceReport)"
   ]
  },
  {
   "cell_type": "code",
   "execution_count": 51,
   "metadata": {},
   "outputs": [
    {
     "name": "stdout",
     "output_type": "stream",
     "text": [
      "AUC is  0.9663628279235216\n"
     ]
    }
   ],
   "source": [
    "print('AUC is ', auc_value)"
   ]
  },
  {
   "cell_type": "markdown",
   "metadata": {},
   "source": [
    "## Export to a text file"
   ]
  },
  {
   "cell_type": "code",
   "execution_count": 52,
   "metadata": {},
   "outputs": [],
   "source": [
    "file_report = open('ResultsCombination.txt', 'w')\n",
    "file_report.write('Accuracy: %s\\n\\n' % acc)\n",
    "file_report.write('AUC: %s.\\n\\n' % auc_value)\n",
    "file_report.write('Performance Report: \\n%s\\n\\n' % performanceReport)\n",
    "file_report.write('Confusion Matrix: \\n%s.\\n\\n' % confusion)\n",
    "file_report.write('Recall of Confusion Matrix: \\n%s.\\n\\n' % confusion_r)\n",
    "file_report.write('Precision of Confusion Matrix: \\n%s.\\n\\n' % confusion_p)\n",
    "file_report.close()"
   ]
  },
  {
   "cell_type": "markdown",
   "metadata": {},
   "source": [
    "## Export ROC Parameters"
   ]
  },
  {
   "cell_type": "code",
   "execution_count": 53,
   "metadata": {},
   "outputs": [],
   "source": [
    "with open('tpr_' + label_convert[1] + '.npy', 'wb') as file_tpr:\n",
    "    np.save(file_tpr, np.array(tpr))\n",
    "    \n",
    "with open('fpr_' + label_convert[1] + '.npy', 'wb') as file_fpr:\n",
    "    np.save(file_fpr, np.array(fpr))\n",
    "    \n",
    "with open('thresholds_' + label_convert[1] + '.npy', 'wb') as file_thresholds:\n",
    "    np.save(file_thresholds, np.array(thresholds))"
   ]
  },
  {
   "cell_type": "code",
   "execution_count": null,
   "metadata": {},
   "outputs": [],
   "source": []
  }
 ],
 "metadata": {
  "kernelspec": {
   "display_name": "Python 3",
   "language": "python",
   "name": "python3"
  },
  "language_info": {
   "codemirror_mode": {
    "name": "ipython",
    "version": 3
   },
   "file_extension": ".py",
   "mimetype": "text/x-python",
   "name": "python",
   "nbconvert_exporter": "python",
   "pygments_lexer": "ipython3",
   "version": "3.7.3"
  }
 },
 "nbformat": 4,
 "nbformat_minor": 2
}
