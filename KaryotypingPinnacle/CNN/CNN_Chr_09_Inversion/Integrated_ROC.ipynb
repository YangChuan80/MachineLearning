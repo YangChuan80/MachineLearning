{
 "cells": [
  {
   "cell_type": "code",
   "execution_count": 1,
   "metadata": {},
   "outputs": [
    {
     "name": "stderr",
     "output_type": "stream",
     "text": [
      "C:\\Anaconda3\\lib\\site-packages\\pandas\\compat\\_optional.py:138: UserWarning: Pandas requires version '2.7.0' or newer of 'numexpr' (version '2.6.9' currently installed).\n",
      "  warnings.warn(msg, UserWarning)\n"
     ]
    }
   ],
   "source": [
    "import numpy as np\n",
    "import pandas as pd\n",
    "import matplotlib.pyplot as plt\n",
    "\n",
    "from sklearn.metrics import classification_report, confusion_matrix, roc_curve, auc, accuracy_score\n",
    "\n",
    "import seaborn as sb"
   ]
  },
  {
   "cell_type": "code",
   "execution_count": 2,
   "metadata": {},
   "outputs": [],
   "source": [
    "chromConvert = {\n",
    "               'chr_09': 0, \n",
    "               'chr_9_inversion': 1\n",
    "               }"
   ]
  },
  {
   "cell_type": "code",
   "execution_count": 3,
   "metadata": {},
   "outputs": [],
   "source": [
    "chromConvert_reverse = {\n",
    "                0: 'chr_09',\n",
    "                1: 'chr_9_inversion'\n",
    "               }"
   ]
  },
  {
   "cell_type": "code",
   "execution_count": 4,
   "metadata": {},
   "outputs": [],
   "source": [
    "label = ['chr_09', 'chr_9_inversion']\n",
    "\n",
    "label_convert = []\n",
    "\n",
    "for i in range(2):\n",
    "    label_convert.append(chromConvert_reverse[i])"
   ]
  },
  {
   "cell_type": "markdown",
   "metadata": {},
   "source": [
    "# Load test and predict values"
   ]
  },
  {
   "cell_type": "code",
   "execution_count": 5,
   "metadata": {},
   "outputs": [],
   "source": [
    "y_test_all = []\n",
    "y_predict_all = []\n",
    "y_predict_filtered_all = []"
   ]
  },
  {
   "cell_type": "code",
   "execution_count": 6,
   "metadata": {},
   "outputs": [],
   "source": [
    "for iterationNumber in range(7):\n",
    "    with open('data_y_test_value_iteration_' + str(iterationNumber) + '.npy', 'rb') as f_y_test:\n",
    "        y_test_all.append(np.load(f_y_test))\n",
    "        \n",
    "    with open('data_y_predict_value_iteration_' + str(iterationNumber) + '.npy', 'rb') as f_y_predict:\n",
    "        y_predict_all.append(np.load(f_y_predict))                             \n",
    "                        \n",
    "    with open('data_y_predict_filtered_value_iteration_' + str(iterationNumber) + '.npy', 'rb') as f_y_predict_filtered:\n",
    "        y_predict_filtered_all.append(np.load(f_y_predict_filtered))"
   ]
  },
  {
   "cell_type": "code",
   "execution_count": 7,
   "metadata": {},
   "outputs": [
    {
     "data": {
      "text/plain": [
       "(63, 2)"
      ]
     },
     "execution_count": 7,
     "metadata": {},
     "output_type": "execute_result"
    }
   ],
   "source": [
    "y_predict_all[0].shape"
   ]
  },
  {
   "cell_type": "code",
   "execution_count": 8,
   "metadata": {
    "scrolled": true
   },
   "outputs": [
    {
     "data": {
      "text/plain": [
       "[array([[9.76126432e-01, 5.12033722e-08],\n",
       "        [1.00000000e+00, 1.25864761e-11],\n",
       "        [1.47422515e-02, 9.67322732e-04],\n",
       "        [9.99999166e-01, 1.73908429e-10],\n",
       "        [9.99617577e-01, 1.69427210e-07],\n",
       "        [9.99533892e-01, 1.04911912e-07],\n",
       "        [9.96803999e-01, 6.89776769e-08],\n",
       "        [9.99998212e-01, 2.25349872e-09],\n",
       "        [9.99999881e-01, 3.55360151e-11],\n",
       "        [9.99999881e-01, 7.80545628e-11],\n",
       "        [9.99998212e-01, 1.19980914e-09],\n",
       "        [9.99871731e-01, 1.38249590e-08],\n",
       "        [9.99862552e-01, 8.82941578e-08],\n",
       "        [9.99998093e-01, 1.92180760e-09],\n",
       "        [9.99938488e-01, 8.13152568e-08],\n",
       "        [9.99907255e-01, 7.47328812e-08],\n",
       "        [9.99835491e-01, 7.46644844e-08],\n",
       "        [9.99884248e-01, 5.24374286e-08],\n",
       "        [9.66637611e-01, 2.91914466e-06],\n",
       "        [1.00000000e+00, 1.19758552e-11],\n",
       "        [9.99999404e-01, 8.81365869e-10],\n",
       "        [9.99999404e-01, 2.75784284e-10],\n",
       "        [9.99647021e-01, 4.62624339e-09],\n",
       "        [9.98725593e-01, 4.28756863e-07],\n",
       "        [1.00000000e+00, 2.62959749e-12],\n",
       "        [5.99735022e-01, 3.31625006e-06],\n",
       "        [9.99996185e-01, 6.73872336e-09],\n",
       "        [9.99874353e-01, 3.63266239e-09],\n",
       "        [9.99932528e-01, 4.53032420e-08],\n",
       "        [3.41576129e-01, 2.33823757e-05],\n",
       "        [7.11674452e-01, 3.67901384e-06],\n",
       "        [9.99377310e-01, 1.66967684e-08],\n",
       "        [9.99992847e-01, 8.44986747e-09],\n",
       "        [9.99942422e-01, 8.45642933e-09],\n",
       "        [9.99999046e-01, 2.85443696e-10],\n",
       "        [1.04965551e-07, 7.76549935e-01],\n",
       "        [9.99755204e-01, 8.70367671e-08],\n",
       "        [9.99908090e-01, 2.03203836e-08],\n",
       "        [3.47491103e-08, 4.31667119e-01],\n",
       "        [1.72317178e-11, 9.97481287e-01],\n",
       "        [9.07514490e-08, 9.26979959e-01],\n",
       "        [9.80699897e-01, 6.69749170e-06],\n",
       "        [1.40018150e-10, 9.97714043e-01],\n",
       "        [1.06979272e-07, 5.43436885e-01],\n",
       "        [1.98602200e-01, 6.89299632e-05],\n",
       "        [4.96698121e-14, 9.99997258e-01],\n",
       "        [3.32433962e-15, 9.99999285e-01],\n",
       "        [6.17770429e-13, 9.99963880e-01],\n",
       "        [9.99931812e-01, 2.59182120e-10],\n",
       "        [3.11405696e-02, 2.18086672e-04],\n",
       "        [1.36645717e-08, 9.84580040e-01],\n",
       "        [8.55753068e-09, 9.75493014e-01],\n",
       "        [7.71131847e-17, 9.99999762e-01],\n",
       "        [1.78971398e-08, 9.25523162e-01],\n",
       "        [3.35853672e-16, 9.99999881e-01],\n",
       "        [4.71880348e-08, 9.28247631e-01],\n",
       "        [5.61489830e-12, 9.99808252e-01],\n",
       "        [6.69390585e-11, 9.98913050e-01],\n",
       "        [1.57967310e-08, 9.29386914e-01],\n",
       "        [3.32217088e-12, 9.99758542e-01],\n",
       "        [8.80797879e-10, 9.92569983e-01],\n",
       "        [3.79938356e-30, 1.00000000e+00],\n",
       "        [1.46323473e-05, 1.98919043e-01]], dtype=float32),\n",
       " array([[9.99971747e-01, 2.09784798e-06],\n",
       "        [8.72596145e-01, 1.03924135e-02],\n",
       "        [9.99998450e-01, 1.37214855e-07],\n",
       "        [9.99988556e-01, 5.19266507e-07],\n",
       "        [9.99976039e-01, 2.03335844e-06],\n",
       "        [9.99968886e-01, 2.78124503e-07],\n",
       "        [9.75154877e-01, 2.51404330e-04],\n",
       "        [1.00000000e+00, 1.79644858e-11],\n",
       "        [9.99772251e-01, 3.10829319e-06],\n",
       "        [9.99970675e-01, 3.81635289e-07],\n",
       "        [1.00000000e+00, 1.80124526e-11],\n",
       "        [9.99921441e-01, 9.00136001e-06],\n",
       "        [9.99591649e-01, 1.56439546e-06],\n",
       "        [1.78337824e-02, 4.52137180e-02],\n",
       "        [9.99972701e-01, 5.90687534e-07],\n",
       "        [9.96092975e-01, 5.72145102e-04],\n",
       "        [9.97021735e-01, 1.35551280e-04],\n",
       "        [9.99995828e-01, 7.08742576e-08],\n",
       "        [9.99578297e-01, 3.75756972e-05],\n",
       "        [9.97837722e-01, 9.39704551e-05],\n",
       "        [1.00000000e+00, 1.52505148e-14],\n",
       "        [9.99975562e-01, 3.19379524e-07],\n",
       "        [9.99802053e-01, 1.94061304e-05],\n",
       "        [9.98492718e-01, 2.22373536e-04],\n",
       "        [9.85123694e-01, 2.90409522e-03],\n",
       "        [9.98685300e-01, 2.32735663e-04],\n",
       "        [9.99197185e-01, 1.39877942e-04],\n",
       "        [9.99713004e-01, 1.43014104e-05],\n",
       "        [9.99995112e-01, 1.16172977e-07],\n",
       "        [9.99999762e-01, 1.19138532e-09],\n",
       "        [1.00000000e+00, 2.98874779e-11],\n",
       "        [9.99840140e-01, 2.77325398e-06],\n",
       "        [1.00000000e+00, 2.15849092e-11],\n",
       "        [9.32490826e-01, 6.63578743e-04],\n",
       "        [9.99999166e-01, 2.59551918e-08],\n",
       "        [7.55976811e-02, 5.51082790e-01],\n",
       "        [9.99982357e-01, 9.56980912e-08],\n",
       "        [3.13999364e-04, 9.66548502e-01],\n",
       "        [9.09933448e-01, 7.75023643e-03],\n",
       "        [3.75771293e-07, 9.99996185e-01],\n",
       "        [2.59921979e-02, 7.14433730e-01],\n",
       "        [3.96231599e-08, 9.99999166e-01],\n",
       "        [9.90471840e-01, 7.48377293e-04],\n",
       "        [2.31046462e-04, 9.97890294e-01],\n",
       "        [4.05247874e-06, 9.99980330e-01],\n",
       "        [9.96833742e-01, 4.41288430e-04],\n",
       "        [6.50876062e-03, 9.86587703e-01],\n",
       "        [6.47760956e-10, 1.00000000e+00],\n",
       "        [3.59896338e-04, 9.93614137e-01],\n",
       "        [3.19131715e-07, 9.99999046e-01],\n",
       "        [3.45046089e-08, 9.99999166e-01],\n",
       "        [1.76475768e-03, 9.23759878e-01],\n",
       "        [9.30925235e-02, 2.05073372e-01],\n",
       "        [4.56685439e-06, 9.98948276e-01],\n",
       "        [2.18662079e-02, 9.40254271e-01],\n",
       "        [1.99879631e-02, 7.33608663e-01],\n",
       "        [1.52567154e-04, 9.98457670e-01],\n",
       "        [4.99195303e-05, 9.99322414e-01],\n",
       "        [5.10852161e-09, 1.00000000e+00],\n",
       "        [2.34932986e-06, 9.99881625e-01],\n",
       "        [7.05568027e-06, 9.99967575e-01],\n",
       "        [4.06832442e-06, 9.99964595e-01]], dtype=float32),\n",
       " array([[1.0000000e+00, 2.3845672e-07],\n",
       "        [1.0000000e+00, 2.2404101e-09],\n",
       "        [1.0000000e+00, 4.6388006e-12],\n",
       "        [1.0000000e+00, 7.3333200e-07],\n",
       "        [1.3428950e-02, 9.9220818e-01],\n",
       "        [9.9999964e-01, 5.7749758e-06],\n",
       "        [1.0000000e+00, 1.0931102e-08],\n",
       "        [1.0000000e+00, 1.2557568e-07],\n",
       "        [1.0000000e+00, 9.4262740e-09],\n",
       "        [9.4602448e-01, 2.2293980e-01],\n",
       "        [1.0000000e+00, 2.7388020e-07],\n",
       "        [9.9944085e-01, 1.1572527e-03],\n",
       "        [9.9999976e-01, 2.1157882e-06],\n",
       "        [1.0000000e+00, 1.0894973e-07],\n",
       "        [9.9999893e-01, 6.1880482e-06],\n",
       "        [9.9999678e-01, 1.5508656e-05],\n",
       "        [9.9998140e-01, 7.3191863e-05],\n",
       "        [9.9960750e-01, 3.0414651e-03],\n",
       "        [1.0000000e+00, 2.4979393e-08],\n",
       "        [2.6197765e-06, 9.9999976e-01],\n",
       "        [1.0000000e+00, 2.5187891e-08],\n",
       "        [1.0000000e+00, 7.4899091e-09],\n",
       "        [1.0000000e+00, 1.7617593e-11],\n",
       "        [9.9999499e-01, 1.6247267e-04],\n",
       "        [9.9999928e-01, 4.9118589e-06],\n",
       "        [9.9998939e-01, 3.0551577e-04],\n",
       "        [1.0000000e+00, 5.5426597e-08],\n",
       "        [1.0000000e+00, 5.1545723e-09],\n",
       "        [1.0000000e+00, 5.2931299e-09],\n",
       "        [1.0000000e+00, 3.4888117e-07],\n",
       "        [9.9999928e-01, 4.7617641e-06],\n",
       "        [1.0000000e+00, 1.1466633e-07],\n",
       "        [1.0000000e+00, 4.2344628e-11],\n",
       "        [1.0000000e+00, 2.4847253e-11],\n",
       "        [1.0000000e+00, 9.1857560e-10],\n",
       "        [2.9164613e-03, 9.9905151e-01],\n",
       "        [9.9999988e-01, 4.2608754e-06],\n",
       "        [2.6914674e-07, 9.9999988e-01],\n",
       "        [6.7758577e-08, 1.0000000e+00],\n",
       "        [9.9968600e-01, 6.7153660e-04],\n",
       "        [3.1856109e-06, 9.9999976e-01],\n",
       "        [4.1470997e-11, 1.0000000e+00],\n",
       "        [1.3673812e-10, 1.0000000e+00],\n",
       "        [4.8156414e-02, 9.6802717e-01],\n",
       "        [6.1124806e-06, 9.9999917e-01],\n",
       "        [1.0368857e-09, 1.0000000e+00],\n",
       "        [3.0361076e-12, 1.0000000e+00],\n",
       "        [2.6340868e-02, 9.9806291e-01],\n",
       "        [1.5997637e-05, 9.9999845e-01],\n",
       "        [1.5748059e-15, 1.0000000e+00],\n",
       "        [2.3311632e-02, 9.9114776e-01],\n",
       "        [2.8111162e-07, 1.0000000e+00],\n",
       "        [7.1260571e-12, 1.0000000e+00],\n",
       "        [5.8881295e-05, 9.9999344e-01],\n",
       "        [4.3940798e-09, 1.0000000e+00],\n",
       "        [1.6410990e-13, 1.0000000e+00],\n",
       "        [2.1919288e-06, 9.9999952e-01],\n",
       "        [2.7819549e-10, 1.0000000e+00],\n",
       "        [2.8657970e-12, 1.0000000e+00],\n",
       "        [5.8534397e-07, 9.9999988e-01],\n",
       "        [2.2996088e-05, 9.9999857e-01],\n",
       "        [4.2198662e-06, 9.9999976e-01]], dtype=float32),\n",
       " array([[1.00000000e+00, 1.19409871e-10],\n",
       "        [2.38941563e-03, 9.98149633e-01],\n",
       "        [1.00000000e+00, 2.05532391e-09],\n",
       "        [5.23720197e-02, 9.66926455e-01],\n",
       "        [9.99999523e-01, 3.32047364e-07],\n",
       "        [9.96115565e-01, 4.82757902e-03],\n",
       "        [9.94548738e-01, 4.47038934e-03],\n",
       "        [1.00000000e+00, 7.04148462e-10],\n",
       "        [9.99999881e-01, 1.44810471e-07],\n",
       "        [9.99999881e-01, 2.17091866e-07],\n",
       "        [9.99999762e-01, 2.51196269e-07],\n",
       "        [9.99996662e-01, 4.38265488e-06],\n",
       "        [1.44938549e-05, 9.99992847e-01],\n",
       "        [9.99999762e-01, 3.71624765e-07],\n",
       "        [9.99996424e-01, 4.66066786e-06],\n",
       "        [1.14735833e-03, 9.98712778e-01],\n",
       "        [1.00000000e+00, 2.62779789e-08],\n",
       "        [9.99999523e-01, 5.12971212e-07],\n",
       "        [9.99735892e-01, 4.63325763e-04],\n",
       "        [9.99999762e-01, 3.18287022e-07],\n",
       "        [9.99998569e-01, 1.45345382e-06],\n",
       "        [9.99998450e-01, 1.70527221e-06],\n",
       "        [9.99992609e-01, 6.53426559e-06],\n",
       "        [9.99882221e-01, 1.01314297e-04],\n",
       "        [9.99996543e-01, 2.97073575e-06],\n",
       "        [4.04152006e-01, 5.47123492e-01],\n",
       "        [9.99932051e-01, 1.03187005e-04],\n",
       "        [1.00000000e+00, 1.05111212e-07],\n",
       "        [1.00000000e+00, 8.61861693e-08],\n",
       "        [9.99999881e-01, 2.48267128e-07],\n",
       "        [9.96243000e-01, 3.73557443e-03],\n",
       "        [1.00000000e+00, 1.76962232e-08],\n",
       "        [1.00000000e+00, 4.35948361e-10],\n",
       "        [1.00000000e+00, 3.29412253e-09],\n",
       "        [9.97689962e-01, 1.94370863e-03],\n",
       "        [1.00000000e+00, 3.81434190e-11],\n",
       "        [9.84084189e-01, 1.96149293e-02],\n",
       "        [7.00812166e-07, 9.99999642e-01],\n",
       "        [5.55523066e-03, 9.96858358e-01],\n",
       "        [9.08820002e-05, 9.99947190e-01],\n",
       "        [9.97126281e-01, 2.42027128e-03],\n",
       "        [2.46947366e-07, 9.99999881e-01],\n",
       "        [1.54700821e-08, 1.00000000e+00],\n",
       "        [8.59092176e-01, 2.27571115e-01],\n",
       "        [2.80662906e-08, 1.00000000e+00],\n",
       "        [5.49434735e-05, 9.99963164e-01],\n",
       "        [3.34680481e-05, 9.99980927e-01],\n",
       "        [2.99130415e-10, 1.00000000e+00],\n",
       "        [9.80296195e-01, 2.27977596e-02],\n",
       "        [9.70860541e-01, 3.94775830e-02],\n",
       "        [2.77600276e-10, 1.00000000e+00],\n",
       "        [3.30480471e-15, 1.00000000e+00],\n",
       "        [1.72949871e-13, 1.00000000e+00],\n",
       "        [5.21046692e-04, 9.99718368e-01],\n",
       "        [1.40506744e-01, 9.06270683e-01],\n",
       "        [8.72882828e-03, 9.92588639e-01],\n",
       "        [3.15747566e-05, 9.99971509e-01],\n",
       "        [1.00462593e-03, 9.99166846e-01],\n",
       "        [2.88260341e-01, 8.04485738e-01],\n",
       "        [3.79225991e-11, 1.00000000e+00],\n",
       "        [6.63785115e-02, 9.45679665e-01],\n",
       "        [8.98148179e-01, 1.24084152e-01]], dtype=float32),\n",
       " array([[9.99898911e-01, 1.07071746e-05],\n",
       "        [8.98704052e-01, 6.86999178e-03],\n",
       "        [9.99995470e-01, 1.76656769e-07],\n",
       "        [1.00000000e+00, 7.28023697e-10],\n",
       "        [9.99997735e-01, 1.04846698e-07],\n",
       "        [1.00000000e+00, 6.38272102e-10],\n",
       "        [9.99972343e-01, 1.93029086e-06],\n",
       "        [1.00000000e+00, 1.07667542e-10],\n",
       "        [2.30383072e-02, 9.16605711e-01],\n",
       "        [4.95696366e-01, 3.70463163e-01],\n",
       "        [2.10727677e-01, 5.02059996e-01],\n",
       "        [7.86309063e-01, 5.02797849e-02],\n",
       "        [9.99305248e-01, 9.16439240e-05],\n",
       "        [9.98947680e-01, 8.21430513e-05],\n",
       "        [9.99800980e-01, 1.80908555e-05],\n",
       "        [9.99992847e-01, 2.25582468e-07],\n",
       "        [9.99918461e-01, 6.62594493e-06],\n",
       "        [9.99990821e-01, 4.03461428e-07],\n",
       "        [3.76553312e-02, 7.19527721e-01],\n",
       "        [9.98122752e-01, 3.44791391e-04],\n",
       "        [9.99634862e-01, 5.64534457e-05],\n",
       "        [9.99999523e-01, 1.98646983e-08],\n",
       "        [9.99324083e-01, 1.40577133e-04],\n",
       "        [9.99959350e-01, 5.68669611e-06],\n",
       "        [9.99978662e-01, 7.56173961e-07],\n",
       "        [9.99969602e-01, 1.95490998e-06],\n",
       "        [9.99417782e-01, 5.15662796e-05],\n",
       "        [9.99980211e-01, 1.34675031e-06],\n",
       "        [9.99996305e-01, 1.08747933e-07],\n",
       "        [9.99963999e-01, 4.87114903e-06],\n",
       "        [9.99999523e-01, 1.81998985e-08],\n",
       "        [9.99986172e-01, 8.81381595e-07],\n",
       "        [9.98610735e-01, 1.43149126e-04],\n",
       "        [9.99998689e-01, 1.29659359e-08],\n",
       "        [9.99990940e-01, 7.15638976e-07],\n",
       "        [9.99901533e-01, 4.75400930e-06],\n",
       "        [9.99938726e-01, 6.45017462e-06],\n",
       "        [8.53182554e-01, 2.70789471e-02],\n",
       "        [1.10296704e-01, 6.42534792e-01],\n",
       "        [8.04428055e-06, 9.99993443e-01],\n",
       "        [2.06162658e-05, 9.99965549e-01],\n",
       "        [4.48298035e-03, 9.91071522e-01],\n",
       "        [9.19048671e-10, 1.00000000e+00],\n",
       "        [8.68618041e-02, 6.96321130e-01],\n",
       "        [5.77944377e-07, 9.99999285e-01],\n",
       "        [2.18171770e-09, 1.00000000e+00],\n",
       "        [1.70614434e-09, 1.00000000e+00],\n",
       "        [4.02235791e-08, 1.00000000e+00],\n",
       "        [2.05267947e-02, 8.67519498e-01],\n",
       "        [1.67954331e-05, 9.99964476e-01],\n",
       "        [4.01037883e-11, 1.00000000e+00],\n",
       "        [2.39718531e-07, 9.99999881e-01],\n",
       "        [1.48056555e-04, 9.99498725e-01],\n",
       "        [4.23797261e-04, 9.99406338e-01],\n",
       "        [1.30897734e-13, 1.00000000e+00],\n",
       "        [9.79713321e-01, 4.22149291e-03],\n",
       "        [1.93295364e-07, 9.99999881e-01],\n",
       "        [1.18558759e-07, 9.99999881e-01],\n",
       "        [9.99827087e-01, 9.62400009e-06],\n",
       "        [1.07235855e-05, 9.99995351e-01],\n",
       "        [5.25230935e-05, 9.99795139e-01],\n",
       "        [9.90373373e-01, 8.52002238e-04]], dtype=float32),\n",
       " array([[8.8049762e-04, 1.3290361e-01],\n",
       "        [9.9999690e-01, 4.1092501e-11],\n",
       "        [9.9844790e-01, 1.0598128e-07],\n",
       "        [9.9999940e-01, 9.6871218e-12],\n",
       "        [9.9999404e-01, 2.1220951e-10],\n",
       "        [9.5186919e-01, 6.5588138e-06],\n",
       "        [9.9999321e-01, 2.2436676e-10],\n",
       "        [9.9994814e-01, 1.1163077e-09],\n",
       "        [9.9999845e-01, 1.2048990e-11],\n",
       "        [9.9999964e-01, 4.1193637e-12],\n",
       "        [1.0000000e+00, 5.7696545e-13],\n",
       "        [9.9961925e-01, 1.1162295e-08],\n",
       "        [9.9999964e-01, 3.9471772e-12],\n",
       "        [9.9999022e-01, 2.4303828e-10],\n",
       "        [9.9993706e-01, 1.3493625e-09],\n",
       "        [9.9709928e-01, 3.1479491e-08],\n",
       "        [5.5807263e-01, 2.7230684e-05],\n",
       "        [1.0000000e+00, 4.8585826e-13],\n",
       "        [9.9826187e-01, 2.8903850e-08],\n",
       "        [9.9842262e-01, 3.3186623e-08],\n",
       "        [9.9093139e-01, 1.6642200e-07],\n",
       "        [9.1784805e-01, 2.7753281e-06],\n",
       "        [9.9985445e-01, 4.2191739e-09],\n",
       "        [9.9990582e-01, 9.6255603e-10],\n",
       "        [9.9979419e-01, 9.9522381e-09],\n",
       "        [8.6361937e-02, 9.3901652e-04],\n",
       "        [9.9574560e-01, 6.9590975e-08],\n",
       "        [9.9999952e-01, 2.6166443e-12],\n",
       "        [9.9891794e-01, 2.6940320e-08],\n",
       "        [9.9947208e-01, 8.2364959e-09],\n",
       "        [9.9976021e-01, 5.3559015e-09],\n",
       "        [9.9999893e-01, 2.9916621e-11],\n",
       "        [9.9611217e-01, 6.8316467e-08],\n",
       "        [9.9999070e-01, 2.8066313e-10],\n",
       "        [9.9861014e-01, 4.7393151e-08],\n",
       "        [9.9993169e-01, 2.3005586e-09],\n",
       "        [1.2994675e-01, 2.5599543e-04],\n",
       "        [6.9966035e-08, 9.9920398e-01],\n",
       "        [1.0988468e-11, 1.0000000e+00],\n",
       "        [3.1903949e-07, 9.9759263e-01],\n",
       "        [3.0867127e-13, 1.0000000e+00],\n",
       "        [9.4812335e-03, 9.0405652e-03],\n",
       "        [1.1503955e-06, 9.7498703e-01],\n",
       "        [1.4767119e-08, 9.9994230e-01],\n",
       "        [1.5795687e-14, 1.0000000e+00],\n",
       "        [1.3492467e-09, 9.9999905e-01],\n",
       "        [1.2943073e-09, 9.9999702e-01],\n",
       "        [1.7117444e-09, 9.9999619e-01],\n",
       "        [4.3191654e-15, 1.0000000e+00],\n",
       "        [2.2175343e-12, 1.0000000e+00],\n",
       "        [1.1328035e-01, 5.8016082e-04],\n",
       "        [6.7092927e-08, 9.9987793e-01],\n",
       "        [1.0687414e-09, 9.9999869e-01],\n",
       "        [5.2420202e-09, 9.9995482e-01],\n",
       "        [5.9605154e-05, 5.2928627e-01],\n",
       "        [1.0084604e-11, 1.0000000e+00],\n",
       "        [1.0437895e-08, 9.9994504e-01],\n",
       "        [2.8890511e-06, 9.7792459e-01],\n",
       "        [9.9062381e-05, 7.5137168e-01],\n",
       "        [3.1106542e-10, 9.9999940e-01],\n",
       "        [8.2659437e-07, 9.9581367e-01]], dtype=float32),\n",
       " array([[1.00000000e+00, 3.48881731e-12],\n",
       "        [9.99996185e-01, 1.48328079e-08],\n",
       "        [1.00000000e+00, 5.94860545e-16],\n",
       "        [9.99994397e-01, 3.45706269e-07],\n",
       "        [9.99971747e-01, 1.42426529e-06],\n",
       "        [9.82555032e-01, 2.79250764e-03],\n",
       "        [9.93472099e-01, 5.40287816e-04],\n",
       "        [9.99998808e-01, 6.13495166e-09],\n",
       "        [9.99998689e-01, 1.38387293e-08],\n",
       "        [9.67571378e-01, 1.00283725e-02],\n",
       "        [9.99997139e-01, 3.24948729e-07],\n",
       "        [9.97899175e-01, 5.90085227e-04],\n",
       "        [9.99471366e-01, 8.01046481e-05],\n",
       "        [1.00000000e+00, 3.34832784e-09],\n",
       "        [3.46549332e-01, 1.31781697e-01],\n",
       "        [9.99970913e-01, 9.09894698e-06],\n",
       "        [9.99999881e-01, 2.06526596e-09],\n",
       "        [6.63235784e-03, 9.82406616e-01],\n",
       "        [9.70406175e-01, 3.93562455e-04],\n",
       "        [9.99994874e-01, 1.46306746e-07],\n",
       "        [1.80232562e-02, 9.46278751e-01],\n",
       "        [9.99725640e-01, 1.49320576e-05],\n",
       "        [9.99998808e-01, 2.57789097e-08],\n",
       "        [9.99998331e-01, 3.64370472e-08],\n",
       "        [9.99991775e-01, 3.96137267e-07],\n",
       "        [9.99731719e-01, 1.59969641e-05],\n",
       "        [9.96785283e-01, 1.91957908e-04],\n",
       "        [9.99989510e-01, 1.08775055e-06],\n",
       "        [9.99905825e-01, 8.91129184e-06],\n",
       "        [4.40993952e-03, 8.82585704e-01],\n",
       "        [9.94668543e-01, 8.54422525e-03],\n",
       "        [1.00000000e+00, 9.97178588e-21],\n",
       "        [9.42032784e-02, 9.28524911e-01],\n",
       "        [8.31786036e-01, 4.22522333e-03],\n",
       "        [9.99992967e-01, 6.32919125e-07],\n",
       "        [9.99993086e-01, 6.93928186e-08],\n",
       "        [9.99603927e-01, 5.06062861e-05],\n",
       "        [2.04348064e-04, 9.99276340e-01],\n",
       "        [1.06814150e-02, 9.83716488e-01],\n",
       "        [1.00000000e+00, 1.21898662e-17],\n",
       "        [5.75102912e-03, 9.87388492e-01],\n",
       "        [6.64995402e-14, 1.00000000e+00],\n",
       "        [8.12505677e-05, 9.99971986e-01],\n",
       "        [7.59835064e-01, 1.66013747e-01],\n",
       "        [1.17043845e-01, 7.25495219e-01],\n",
       "        [4.31150757e-03, 9.90768015e-01],\n",
       "        [1.44391601e-08, 9.99999046e-01],\n",
       "        [9.82215700e-16, 1.00000000e+00],\n",
       "        [1.57660732e-10, 1.00000000e+00],\n",
       "        [1.21192315e-07, 9.99999881e-01],\n",
       "        [4.42693207e-08, 9.99999881e-01],\n",
       "        [5.45989606e-04, 9.99637485e-01],\n",
       "        [2.76461378e-06, 9.99998689e-01],\n",
       "        [3.37710762e-12, 1.00000000e+00],\n",
       "        [6.07429718e-10, 1.00000000e+00],\n",
       "        [1.97603789e-04, 9.99845982e-01],\n",
       "        [4.08328205e-10, 1.00000000e+00],\n",
       "        [1.05245772e-03, 9.98004615e-01],\n",
       "        [1.16607932e-10, 1.00000000e+00],\n",
       "        [6.72177002e-02, 8.86182129e-01],\n",
       "        [8.53571619e-05, 9.99918222e-01]], dtype=float32)]"
      ]
     },
     "execution_count": 8,
     "metadata": {},
     "output_type": "execute_result"
    }
   ],
   "source": [
    "y_predict_all"
   ]
  },
  {
   "cell_type": "code",
   "execution_count": 9,
   "metadata": {},
   "outputs": [],
   "source": [
    "y_test_concatenate_list = []\n",
    "y_predict_concatenate_list = []\n",
    "y_predict_filtered_concatenate_list = []"
   ]
  },
  {
   "cell_type": "code",
   "execution_count": 10,
   "metadata": {},
   "outputs": [],
   "source": [
    "for i in range(7):\n",
    "    y_test_concatenate_list.extend(list(y_test_all[i]))\n",
    "    y_predict_concatenate_list.extend(list(y_predict_all[i]))\n",
    "    y_predict_filtered_concatenate_list.extend(list(y_predict_filtered_all[i]))"
   ]
  },
  {
   "cell_type": "code",
   "execution_count": 11,
   "metadata": {},
   "outputs": [
    {
     "data": {
      "text/plain": [
       "(63, 2)"
      ]
     },
     "execution_count": 11,
     "metadata": {},
     "output_type": "execute_result"
    }
   ],
   "source": [
    "y_predict_all[0].shape"
   ]
  },
  {
   "cell_type": "code",
   "execution_count": 12,
   "metadata": {},
   "outputs": [
    {
     "data": {
      "text/plain": [
       "['chr_09', 'chr_9_inversion']"
      ]
     },
     "execution_count": 12,
     "metadata": {},
     "output_type": "execute_result"
    }
   ],
   "source": [
    "label_convert"
   ]
  },
  {
   "cell_type": "code",
   "execution_count": 13,
   "metadata": {},
   "outputs": [
    {
     "data": {
      "text/plain": [
       "433"
      ]
     },
     "execution_count": 13,
     "metadata": {},
     "output_type": "execute_result"
    }
   ],
   "source": [
    "len(y_test_concatenate_list)"
   ]
  },
  {
   "cell_type": "code",
   "execution_count": 14,
   "metadata": {},
   "outputs": [
    {
     "data": {
      "text/plain": [
       "433"
      ]
     },
     "execution_count": 14,
     "metadata": {},
     "output_type": "execute_result"
    }
   ],
   "source": [
    "len(y_predict_filtered_concatenate_list)"
   ]
  },
  {
   "cell_type": "code",
   "execution_count": 15,
   "metadata": {},
   "outputs": [
    {
     "data": {
      "text/plain": [
       "433"
      ]
     },
     "execution_count": 15,
     "metadata": {},
     "output_type": "execute_result"
    }
   ],
   "source": [
    "len(y_predict_concatenate_list)"
   ]
  },
  {
   "cell_type": "markdown",
   "metadata": {},
   "source": [
    "# Classification Report"
   ]
  },
  {
   "cell_type": "markdown",
   "metadata": {},
   "source": [
    "## Accuracy"
   ]
  },
  {
   "cell_type": "code",
   "execution_count": 16,
   "metadata": {},
   "outputs": [
    {
     "name": "stdout",
     "output_type": "stream",
     "text": [
      "Accuracy is  0.9076212471131639\n"
     ]
    }
   ],
   "source": [
    "acc = accuracy_score(y_test_concatenate_list, y_predict_filtered_concatenate_list, normalize=True, sample_weight=None)\n",
    "print('Accuracy is ', acc)"
   ]
  },
  {
   "cell_type": "markdown",
   "metadata": {},
   "source": [
    "## Precision, Recall, and F1"
   ]
  },
  {
   "cell_type": "code",
   "execution_count": 17,
   "metadata": {},
   "outputs": [
    {
     "name": "stdout",
     "output_type": "stream",
     "text": [
      "                 precision    recall  f1-score   support\n",
      "\n",
      "         chr_09       0.92      0.93      0.92       260\n",
      "chr_9_inversion       0.89      0.88      0.88       173\n",
      "\n",
      "      micro avg       0.91      0.91      0.91       433\n",
      "      macro avg       0.90      0.90      0.90       433\n",
      "   weighted avg       0.91      0.91      0.91       433\n",
      "\n"
     ]
    }
   ],
   "source": [
    "performanceReport = classification_report(y_test_concatenate_list, y_predict_filtered_concatenate_list, \n",
    "                                          target_names=label_convert)\n",
    "\n",
    "\n",
    "print(performanceReport)"
   ]
  },
  {
   "cell_type": "markdown",
   "metadata": {},
   "source": [
    "## Confusion Matrix"
   ]
  },
  {
   "cell_type": "code",
   "execution_count": 18,
   "metadata": {},
   "outputs": [
    {
     "data": {
      "text/html": [
       "<div>\n",
       "<style scoped>\n",
       "    .dataframe tbody tr th:only-of-type {\n",
       "        vertical-align: middle;\n",
       "    }\n",
       "\n",
       "    .dataframe tbody tr th {\n",
       "        vertical-align: top;\n",
       "    }\n",
       "\n",
       "    .dataframe thead th {\n",
       "        text-align: right;\n",
       "    }\n",
       "</style>\n",
       "<table border=\"1\" class=\"dataframe\">\n",
       "  <thead>\n",
       "    <tr style=\"text-align: right;\">\n",
       "      <th></th>\n",
       "      <th>chr_09</th>\n",
       "      <th>chr_9_inversion</th>\n",
       "    </tr>\n",
       "  </thead>\n",
       "  <tbody>\n",
       "    <tr>\n",
       "      <th>chr_09</th>\n",
       "      <td>241</td>\n",
       "      <td>19</td>\n",
       "    </tr>\n",
       "    <tr>\n",
       "      <th>chr_9_inversion</th>\n",
       "      <td>21</td>\n",
       "      <td>152</td>\n",
       "    </tr>\n",
       "  </tbody>\n",
       "</table>\n",
       "</div>"
      ],
      "text/plain": [
       "                 chr_09  chr_9_inversion\n",
       "chr_09              241               19\n",
       "chr_9_inversion      21              152"
      ]
     },
     "execution_count": 18,
     "metadata": {},
     "output_type": "execute_result"
    }
   ],
   "source": [
    "cm = np.array(confusion_matrix(y_test_concatenate_list, y_predict_filtered_concatenate_list))\n",
    "confusion = pd.DataFrame(cm, index=label_convert,\n",
    "                        columns=label_convert)\n",
    "confusion.to_csv('ConfusionMatrix_Combination_of_CrossValidation_KaryoType_CNN.csv')\n",
    "confusion"
   ]
  },
  {
   "cell_type": "markdown",
   "metadata": {},
   "source": [
    "### 3.10.4 Rate of Confusion Matrix"
   ]
  },
  {
   "cell_type": "markdown",
   "metadata": {},
   "source": [
    "### 3.10.5 Recall (查全率)，(Sensitivity Rate)"
   ]
  },
  {
   "cell_type": "code",
   "execution_count": 19,
   "metadata": {
    "scrolled": true
   },
   "outputs": [],
   "source": [
    "subtotal = [0] * 2  \n",
    "for item in y_test_concatenate_list:\n",
    "    subtotal[item] = subtotal[item] + 1"
   ]
  },
  {
   "cell_type": "markdown",
   "metadata": {},
   "source": [
    "#### predict number divided by y test"
   ]
  },
  {
   "cell_type": "code",
   "execution_count": 20,
   "metadata": {},
   "outputs": [],
   "source": [
    "cm_r = []\n",
    "for i in range(2):\n",
    "    cm_r.append(cm[i]/subtotal[i])"
   ]
  },
  {
   "cell_type": "code",
   "execution_count": 21,
   "metadata": {},
   "outputs": [
    {
     "data": {
      "text/html": [
       "<div>\n",
       "<style scoped>\n",
       "    .dataframe tbody tr th:only-of-type {\n",
       "        vertical-align: middle;\n",
       "    }\n",
       "\n",
       "    .dataframe tbody tr th {\n",
       "        vertical-align: top;\n",
       "    }\n",
       "\n",
       "    .dataframe thead th {\n",
       "        text-align: right;\n",
       "    }\n",
       "</style>\n",
       "<table border=\"1\" class=\"dataframe\">\n",
       "  <thead>\n",
       "    <tr style=\"text-align: right;\">\n",
       "      <th></th>\n",
       "      <th>chr_09</th>\n",
       "      <th>chr_9_inversion</th>\n",
       "    </tr>\n",
       "  </thead>\n",
       "  <tbody>\n",
       "    <tr>\n",
       "      <th>chr_09</th>\n",
       "      <td>0.926923</td>\n",
       "      <td>0.073077</td>\n",
       "    </tr>\n",
       "    <tr>\n",
       "      <th>chr_9_inversion</th>\n",
       "      <td>0.121387</td>\n",
       "      <td>0.878613</td>\n",
       "    </tr>\n",
       "  </tbody>\n",
       "</table>\n",
       "</div>"
      ],
      "text/plain": [
       "                   chr_09  chr_9_inversion\n",
       "chr_09           0.926923         0.073077\n",
       "chr_9_inversion  0.121387         0.878613"
      ]
     },
     "execution_count": 21,
     "metadata": {},
     "output_type": "execute_result"
    }
   ],
   "source": [
    "confusion_r = pd.DataFrame(cm_r, index=label_convert,\n",
    "                        columns=label_convert)\n",
    "confusion_r.to_csv('ConfusionMatrix_Recall_Integration_CNN.csv')\n",
    "confusion_r"
   ]
  },
  {
   "cell_type": "markdown",
   "metadata": {},
   "source": [
    "### 3.10.6 Precision (查准率）"
   ]
  },
  {
   "cell_type": "code",
   "execution_count": 22,
   "metadata": {},
   "outputs": [],
   "source": [
    "subtotal_predict = [0] * 2 \n",
    "for item in y_predict_filtered_concatenate_list:\n",
    "    subtotal_predict[item] = subtotal_predict[item] + 1"
   ]
  },
  {
   "cell_type": "markdown",
   "metadata": {},
   "source": [
    "#### predict number divided by y predicted"
   ]
  },
  {
   "cell_type": "code",
   "execution_count": 23,
   "metadata": {},
   "outputs": [],
   "source": [
    "cm_p = []\n",
    "for i in range(2):\n",
    "    cm_p.append(cm[:,i]/subtotal_predict[i])"
   ]
  },
  {
   "cell_type": "code",
   "execution_count": 24,
   "metadata": {},
   "outputs": [
    {
     "data": {
      "text/html": [
       "<div>\n",
       "<style scoped>\n",
       "    .dataframe tbody tr th:only-of-type {\n",
       "        vertical-align: middle;\n",
       "    }\n",
       "\n",
       "    .dataframe tbody tr th {\n",
       "        vertical-align: top;\n",
       "    }\n",
       "\n",
       "    .dataframe thead th {\n",
       "        text-align: right;\n",
       "    }\n",
       "</style>\n",
       "<table border=\"1\" class=\"dataframe\">\n",
       "  <thead>\n",
       "    <tr style=\"text-align: right;\">\n",
       "      <th></th>\n",
       "      <th>chr_09</th>\n",
       "      <th>chr_9_inversion</th>\n",
       "    </tr>\n",
       "  </thead>\n",
       "  <tbody>\n",
       "    <tr>\n",
       "      <th>chr_09</th>\n",
       "      <td>0.919847</td>\n",
       "      <td>0.080153</td>\n",
       "    </tr>\n",
       "    <tr>\n",
       "      <th>chr_9_inversion</th>\n",
       "      <td>0.111111</td>\n",
       "      <td>0.888889</td>\n",
       "    </tr>\n",
       "  </tbody>\n",
       "</table>\n",
       "</div>"
      ],
      "text/plain": [
       "                   chr_09  chr_9_inversion\n",
       "chr_09           0.919847         0.080153\n",
       "chr_9_inversion  0.111111         0.888889"
      ]
     },
     "execution_count": 24,
     "metadata": {},
     "output_type": "execute_result"
    }
   ],
   "source": [
    "confusion_p = pd.DataFrame(cm_p, index=label_convert,\n",
    "                        columns=label_convert)\n",
    "confusion_p.to_csv('ConfusionMatrix_Precision_Integration_CNN.csv')\n",
    "confusion_p"
   ]
  },
  {
   "cell_type": "markdown",
   "metadata": {},
   "source": [
    "#### Heat Map: Number"
   ]
  },
  {
   "cell_type": "code",
   "execution_count": 52,
   "metadata": {
    "scrolled": false
   },
   "outputs": [
    {
     "data": {
      "image/png": "[encoded data removed]",
      "text/plain": [
       "<Figure size 2400x1920 with 2 Axes>"
      ]
     },
     "metadata": {},
     "output_type": "display_data"
    }
   ],
   "source": [
    "plt.figure(figsize=(30, 24))\n",
    "heat_map = sb.heatmap(confusion, annot=True, fmt='g', # It's a Seaborn function\n",
    "                      cmap='coolwarm', \n",
    "                      xticklabels=confusion.columns, yticklabels=confusion.index, \n",
    "                      linewidths=.5, \n",
    "                      annot_kws={\"size\": 50})\n",
    "sb.set(font_scale = 3)\n"
   ]
  },
  {
   "cell_type": "markdown",
   "metadata": {},
   "source": [
    "#### Heat Map of Recall: Rate (important!!!)"
   ]
  },
  {
   "cell_type": "code",
   "execution_count": 53,
   "metadata": {
    "scrolled": false
   },
   "outputs": [
    {
     "data": {
      "image/png": "[encoded data removed]",
      "text/plain": [
       "<Figure size 2400x1920 with 2 Axes>"
      ]
     },
     "metadata": {},
     "output_type": "display_data"
    }
   ],
   "source": [
    "plt.figure(figsize=(30, 24))\n",
    "heat_map_r = sb.heatmap(confusion_r, annot=True,  # It's a Seaborn function\n",
    "                      cmap='coolwarm', \n",
    "                      xticklabels=confusion.columns, yticklabels=confusion.index, \n",
    "                      linewidths=1, \n",
    "                      annot_kws={\"size\": 50})\n",
    "sb.set(font_scale = 4)"
   ]
  },
  {
   "cell_type": "code",
   "execution_count": 54,
   "metadata": {},
   "outputs": [
    {
     "data": {
      "image/png": "[encoded data removed]",
      "text/plain": [
       "<Figure size 2400x1920 with 2 Axes>"
      ]
     },
     "metadata": {},
     "output_type": "display_data"
    }
   ],
   "source": [
    "plt.figure(figsize=(30, 24))\n",
    "heat_map_p = sb.heatmap(confusion_p, annot=True,  # It's a Seaborn function\n",
    "                      cmap='coolwarm', \n",
    "                      xticklabels=confusion.columns, yticklabels=confusion.index, \n",
    "                      linewidths=1, \n",
    "                      annot_kws={\"size\": 50})\n",
    "sb.set(font_scale = 4)"
   ]
  },
  {
   "cell_type": "code",
   "execution_count": 55,
   "metadata": {},
   "outputs": [],
   "source": [
    "fig = heat_map.get_figure()    \n",
    "fig.savefig('Heatmap_Combination.png', dpi=400)"
   ]
  },
  {
   "cell_type": "code",
   "execution_count": 56,
   "metadata": {},
   "outputs": [],
   "source": [
    "fig_r = heat_map_r.get_figure()    \n",
    "fig_r.savefig('Heatmap_Recall_Combination.png', dpi=400)"
   ]
  },
  {
   "cell_type": "code",
   "execution_count": 57,
   "metadata": {},
   "outputs": [],
   "source": [
    "fig_p = heat_map_p.get_figure()    \n",
    "fig_p.savefig('Heatmap_Precision_Combination.png', dpi=400)"
   ]
  },
  {
   "cell_type": "markdown",
   "metadata": {},
   "source": [
    "# ROC Curve"
   ]
  },
  {
   "cell_type": "code",
   "execution_count": 31,
   "metadata": {},
   "outputs": [
    {
     "data": {
      "text/plain": [
       "array([[9.76126432e-01, 5.12033722e-08],\n",
       "       [1.00000000e+00, 1.25864761e-11],\n",
       "       [1.47422515e-02, 9.67322732e-04],\n",
       "       [9.99999166e-01, 1.73908429e-10],\n",
       "       [9.99617577e-01, 1.69427210e-07],\n",
       "       [9.99533892e-01, 1.04911912e-07],\n",
       "       [9.96803999e-01, 6.89776769e-08],\n",
       "       [9.99998212e-01, 2.25349872e-09],\n",
       "       [9.99999881e-01, 3.55360151e-11],\n",
       "       [9.99999881e-01, 7.80545628e-11],\n",
       "       [9.99998212e-01, 1.19980914e-09],\n",
       "       [9.99871731e-01, 1.38249590e-08],\n",
       "       [9.99862552e-01, 8.82941578e-08],\n",
       "       [9.99998093e-01, 1.92180760e-09],\n",
       "       [9.99938488e-01, 8.13152568e-08],\n",
       "       [9.99907255e-01, 7.47328812e-08],\n",
       "       [9.99835491e-01, 7.46644844e-08],\n",
       "       [9.99884248e-01, 5.24374286e-08],\n",
       "       [9.66637611e-01, 2.91914466e-06],\n",
       "       [1.00000000e+00, 1.19758552e-11],\n",
       "       [9.99999404e-01, 8.81365869e-10],\n",
       "       [9.99999404e-01, 2.75784284e-10],\n",
       "       [9.99647021e-01, 4.62624339e-09],\n",
       "       [9.98725593e-01, 4.28756863e-07],\n",
       "       [1.00000000e+00, 2.62959749e-12],\n",
       "       [5.99735022e-01, 3.31625006e-06],\n",
       "       [9.99996185e-01, 6.73872336e-09],\n",
       "       [9.99874353e-01, 3.63266239e-09],\n",
       "       [9.99932528e-01, 4.53032420e-08],\n",
       "       [3.41576129e-01, 2.33823757e-05],\n",
       "       [7.11674452e-01, 3.67901384e-06],\n",
       "       [9.99377310e-01, 1.66967684e-08],\n",
       "       [9.99992847e-01, 8.44986747e-09],\n",
       "       [9.99942422e-01, 8.45642933e-09],\n",
       "       [9.99999046e-01, 2.85443696e-10],\n",
       "       [1.04965551e-07, 7.76549935e-01],\n",
       "       [9.99755204e-01, 8.70367671e-08],\n",
       "       [9.99908090e-01, 2.03203836e-08],\n",
       "       [3.47491103e-08, 4.31667119e-01],\n",
       "       [1.72317178e-11, 9.97481287e-01],\n",
       "       [9.07514490e-08, 9.26979959e-01],\n",
       "       [9.80699897e-01, 6.69749170e-06],\n",
       "       [1.40018150e-10, 9.97714043e-01],\n",
       "       [1.06979272e-07, 5.43436885e-01],\n",
       "       [1.98602200e-01, 6.89299632e-05],\n",
       "       [4.96698121e-14, 9.99997258e-01],\n",
       "       [3.32433962e-15, 9.99999285e-01],\n",
       "       [6.17770429e-13, 9.99963880e-01],\n",
       "       [9.99931812e-01, 2.59182120e-10],\n",
       "       [3.11405696e-02, 2.18086672e-04],\n",
       "       [1.36645717e-08, 9.84580040e-01],\n",
       "       [8.55753068e-09, 9.75493014e-01],\n",
       "       [7.71131847e-17, 9.99999762e-01],\n",
       "       [1.78971398e-08, 9.25523162e-01],\n",
       "       [3.35853672e-16, 9.99999881e-01],\n",
       "       [4.71880348e-08, 9.28247631e-01],\n",
       "       [5.61489830e-12, 9.99808252e-01],\n",
       "       [6.69390585e-11, 9.98913050e-01],\n",
       "       [1.57967310e-08, 9.29386914e-01],\n",
       "       [3.32217088e-12, 9.99758542e-01],\n",
       "       [8.80797879e-10, 9.92569983e-01],\n",
       "       [3.79938356e-30, 1.00000000e+00],\n",
       "       [1.46323473e-05, 1.98919043e-01],\n",
       "       [9.99971747e-01, 2.09784798e-06],\n",
       "       [8.72596145e-01, 1.03924135e-02],\n",
       "       [9.99998450e-01, 1.37214855e-07],\n",
       "       [9.99988556e-01, 5.19266507e-07],\n",
       "       [9.99976039e-01, 2.03335844e-06],\n",
       "       [9.99968886e-01, 2.78124503e-07],\n",
       "       [9.75154877e-01, 2.51404330e-04],\n",
       "       [1.00000000e+00, 1.79644858e-11],\n",
       "       [9.99772251e-01, 3.10829319e-06],\n",
       "       [9.99970675e-01, 3.81635289e-07],\n",
       "       [1.00000000e+00, 1.80124526e-11],\n",
       "       [9.99921441e-01, 9.00136001e-06],\n",
       "       [9.99591649e-01, 1.56439546e-06],\n",
       "       [1.78337824e-02, 4.52137180e-02],\n",
       "       [9.99972701e-01, 5.90687534e-07],\n",
       "       [9.96092975e-01, 5.72145102e-04],\n",
       "       [9.97021735e-01, 1.35551280e-04],\n",
       "       [9.99995828e-01, 7.08742576e-08],\n",
       "       [9.99578297e-01, 3.75756972e-05],\n",
       "       [9.97837722e-01, 9.39704551e-05],\n",
       "       [1.00000000e+00, 1.52505148e-14],\n",
       "       [9.99975562e-01, 3.19379524e-07],\n",
       "       [9.99802053e-01, 1.94061304e-05],\n",
       "       [9.98492718e-01, 2.22373536e-04],\n",
       "       [9.85123694e-01, 2.90409522e-03],\n",
       "       [9.98685300e-01, 2.32735663e-04],\n",
       "       [9.99197185e-01, 1.39877942e-04],\n",
       "       [9.99713004e-01, 1.43014104e-05],\n",
       "       [9.99995112e-01, 1.16172977e-07],\n",
       "       [9.99999762e-01, 1.19138532e-09],\n",
       "       [1.00000000e+00, 2.98874779e-11],\n",
       "       [9.99840140e-01, 2.77325398e-06],\n",
       "       [1.00000000e+00, 2.15849092e-11],\n",
       "       [9.32490826e-01, 6.63578743e-04],\n",
       "       [9.99999166e-01, 2.59551918e-08],\n",
       "       [7.55976811e-02, 5.51082790e-01],\n",
       "       [9.99982357e-01, 9.56980912e-08],\n",
       "       [3.13999364e-04, 9.66548502e-01],\n",
       "       [9.09933448e-01, 7.75023643e-03],\n",
       "       [3.75771293e-07, 9.99996185e-01],\n",
       "       [2.59921979e-02, 7.14433730e-01],\n",
       "       [3.96231599e-08, 9.99999166e-01],\n",
       "       [9.90471840e-01, 7.48377293e-04],\n",
       "       [2.31046462e-04, 9.97890294e-01],\n",
       "       [4.05247874e-06, 9.99980330e-01],\n",
       "       [9.96833742e-01, 4.41288430e-04],\n",
       "       [6.50876062e-03, 9.86587703e-01],\n",
       "       [6.47760956e-10, 1.00000000e+00],\n",
       "       [3.59896338e-04, 9.93614137e-01],\n",
       "       [3.19131715e-07, 9.99999046e-01],\n",
       "       [3.45046089e-08, 9.99999166e-01],\n",
       "       [1.76475768e-03, 9.23759878e-01],\n",
       "       [9.30925235e-02, 2.05073372e-01],\n",
       "       [4.56685439e-06, 9.98948276e-01],\n",
       "       [2.18662079e-02, 9.40254271e-01],\n",
       "       [1.99879631e-02, 7.33608663e-01],\n",
       "       [1.52567154e-04, 9.98457670e-01],\n",
       "       [4.99195303e-05, 9.99322414e-01],\n",
       "       [5.10852161e-09, 1.00000000e+00],\n",
       "       [2.34932986e-06, 9.99881625e-01],\n",
       "       [7.05568027e-06, 9.99967575e-01],\n",
       "       [4.06832442e-06, 9.99964595e-01],\n",
       "       [1.00000000e+00, 2.38456721e-07],\n",
       "       [1.00000000e+00, 2.24041008e-09],\n",
       "       [1.00000000e+00, 4.63880063e-12],\n",
       "       [1.00000000e+00, 7.33332001e-07],\n",
       "       [1.34289498e-02, 9.92208183e-01],\n",
       "       [9.99999642e-01, 5.77497576e-06],\n",
       "       [1.00000000e+00, 1.09311022e-08],\n",
       "       [1.00000000e+00, 1.25575681e-07],\n",
       "       [1.00000000e+00, 9.42627398e-09],\n",
       "       [9.46024477e-01, 2.22939804e-01],\n",
       "       [1.00000000e+00, 2.73880204e-07],\n",
       "       [9.99440849e-01, 1.15725270e-03],\n",
       "       [9.99999762e-01, 2.11578822e-06],\n",
       "       [1.00000000e+00, 1.08949727e-07],\n",
       "       [9.99998927e-01, 6.18804825e-06],\n",
       "       [9.99996781e-01, 1.55086564e-05],\n",
       "       [9.99981403e-01, 7.31918626e-05],\n",
       "       [9.99607503e-01, 3.04146507e-03],\n",
       "       [1.00000000e+00, 2.49793928e-08],\n",
       "       [2.61977652e-06, 9.99999762e-01],\n",
       "       [1.00000000e+00, 2.51878909e-08],\n",
       "       [1.00000000e+00, 7.48990914e-09],\n",
       "       [1.00000000e+00, 1.76175931e-11],\n",
       "       [9.99994993e-01, 1.62472672e-04],\n",
       "       [9.99999285e-01, 4.91185892e-06],\n",
       "       [9.99989390e-01, 3.05515772e-04],\n",
       "       [1.00000000e+00, 5.54265966e-08],\n",
       "       [1.00000000e+00, 5.15457232e-09],\n",
       "       [1.00000000e+00, 5.29312993e-09],\n",
       "       [1.00000000e+00, 3.48881173e-07],\n",
       "       [9.99999285e-01, 4.76176410e-06],\n",
       "       [1.00000000e+00, 1.14666328e-07],\n",
       "       [1.00000000e+00, 4.23446278e-11],\n",
       "       [1.00000000e+00, 2.48472527e-11],\n",
       "       [1.00000000e+00, 9.18575604e-10],\n",
       "       [2.91646132e-03, 9.99051511e-01],\n",
       "       [9.99999881e-01, 4.26087536e-06],\n",
       "       [2.69146739e-07, 9.99999881e-01],\n",
       "       [6.77585774e-08, 1.00000000e+00],\n",
       "       [9.99686003e-01, 6.71536603e-04],\n",
       "       [3.18561092e-06, 9.99999762e-01],\n",
       "       [4.14709968e-11, 1.00000000e+00],\n",
       "       [1.36738121e-10, 1.00000000e+00],\n",
       "       [4.81564142e-02, 9.68027174e-01],\n",
       "       [6.11248061e-06, 9.99999166e-01],\n",
       "       [1.03688569e-09, 1.00000000e+00],\n",
       "       [3.03610761e-12, 1.00000000e+00],\n",
       "       [2.63408683e-02, 9.98062909e-01],\n",
       "       [1.59976371e-05, 9.99998450e-01],\n",
       "       [1.57480588e-15, 1.00000000e+00],\n",
       "       [2.33116318e-02, 9.91147757e-01],\n",
       "       [2.81111625e-07, 1.00000000e+00],\n",
       "       [7.12605712e-12, 1.00000000e+00],\n",
       "       [5.88812945e-05, 9.99993443e-01],\n",
       "       [4.39407977e-09, 1.00000000e+00],\n",
       "       [1.64109896e-13, 1.00000000e+00],\n",
       "       [2.19192884e-06, 9.99999523e-01],\n",
       "       [2.78195494e-10, 1.00000000e+00],\n",
       "       [2.86579701e-12, 1.00000000e+00],\n",
       "       [5.85343969e-07, 9.99999881e-01],\n",
       "       [2.29960879e-05, 9.99998569e-01],\n",
       "       [4.21986624e-06, 9.99999762e-01],\n",
       "       [1.00000000e+00, 1.19409871e-10],\n",
       "       [2.38941563e-03, 9.98149633e-01],\n",
       "       [1.00000000e+00, 2.05532391e-09],\n",
       "       [5.23720197e-02, 9.66926455e-01],\n",
       "       [9.99999523e-01, 3.32047364e-07],\n",
       "       [9.96115565e-01, 4.82757902e-03],\n",
       "       [9.94548738e-01, 4.47038934e-03],\n",
       "       [1.00000000e+00, 7.04148462e-10],\n",
       "       [9.99999881e-01, 1.44810471e-07],\n",
       "       [9.99999881e-01, 2.17091866e-07],\n",
       "       [9.99999762e-01, 2.51196269e-07],\n",
       "       [9.99996662e-01, 4.38265488e-06],\n",
       "       [1.44938549e-05, 9.99992847e-01],\n",
       "       [9.99999762e-01, 3.71624765e-07],\n",
       "       [9.99996424e-01, 4.66066786e-06],\n",
       "       [1.14735833e-03, 9.98712778e-01],\n",
       "       [1.00000000e+00, 2.62779789e-08],\n",
       "       [9.99999523e-01, 5.12971212e-07],\n",
       "       [9.99735892e-01, 4.63325763e-04],\n",
       "       [9.99999762e-01, 3.18287022e-07],\n",
       "       [9.99998569e-01, 1.45345382e-06],\n",
       "       [9.99998450e-01, 1.70527221e-06],\n",
       "       [9.99992609e-01, 6.53426559e-06],\n",
       "       [9.99882221e-01, 1.01314297e-04],\n",
       "       [9.99996543e-01, 2.97073575e-06],\n",
       "       [4.04152006e-01, 5.47123492e-01],\n",
       "       [9.99932051e-01, 1.03187005e-04],\n",
       "       [1.00000000e+00, 1.05111212e-07],\n",
       "       [1.00000000e+00, 8.61861693e-08],\n",
       "       [9.99999881e-01, 2.48267128e-07],\n",
       "       [9.96243000e-01, 3.73557443e-03],\n",
       "       [1.00000000e+00, 1.76962232e-08],\n",
       "       [1.00000000e+00, 4.35948361e-10],\n",
       "       [1.00000000e+00, 3.29412253e-09],\n",
       "       [9.97689962e-01, 1.94370863e-03],\n",
       "       [1.00000000e+00, 3.81434190e-11],\n",
       "       [9.84084189e-01, 1.96149293e-02],\n",
       "       [7.00812166e-07, 9.99999642e-01],\n",
       "       [5.55523066e-03, 9.96858358e-01],\n",
       "       [9.08820002e-05, 9.99947190e-01],\n",
       "       [9.97126281e-01, 2.42027128e-03],\n",
       "       [2.46947366e-07, 9.99999881e-01],\n",
       "       [1.54700821e-08, 1.00000000e+00],\n",
       "       [8.59092176e-01, 2.27571115e-01],\n",
       "       [2.80662906e-08, 1.00000000e+00],\n",
       "       [5.49434735e-05, 9.99963164e-01],\n",
       "       [3.34680481e-05, 9.99980927e-01],\n",
       "       [2.99130415e-10, 1.00000000e+00],\n",
       "       [9.80296195e-01, 2.27977596e-02],\n",
       "       [9.70860541e-01, 3.94775830e-02],\n",
       "       [2.77600276e-10, 1.00000000e+00],\n",
       "       [3.30480471e-15, 1.00000000e+00],\n",
       "       [1.72949871e-13, 1.00000000e+00],\n",
       "       [5.21046692e-04, 9.99718368e-01],\n",
       "       [1.40506744e-01, 9.06270683e-01],\n",
       "       [8.72882828e-03, 9.92588639e-01],\n",
       "       [3.15747566e-05, 9.99971509e-01],\n",
       "       [1.00462593e-03, 9.99166846e-01],\n",
       "       [2.88260341e-01, 8.04485738e-01],\n",
       "       [3.79225991e-11, 1.00000000e+00],\n",
       "       [6.63785115e-02, 9.45679665e-01],\n",
       "       [8.98148179e-01, 1.24084152e-01],\n",
       "       [9.99898911e-01, 1.07071746e-05],\n",
       "       [8.98704052e-01, 6.86999178e-03],\n",
       "       [9.99995470e-01, 1.76656769e-07],\n",
       "       [1.00000000e+00, 7.28023697e-10],\n",
       "       [9.99997735e-01, 1.04846698e-07],\n",
       "       [1.00000000e+00, 6.38272102e-10],\n",
       "       [9.99972343e-01, 1.93029086e-06],\n",
       "       [1.00000000e+00, 1.07667542e-10],\n",
       "       [2.30383072e-02, 9.16605711e-01],\n",
       "       [4.95696366e-01, 3.70463163e-01],\n",
       "       [2.10727677e-01, 5.02059996e-01],\n",
       "       [7.86309063e-01, 5.02797849e-02],\n",
       "       [9.99305248e-01, 9.16439240e-05],\n",
       "       [9.98947680e-01, 8.21430513e-05],\n",
       "       [9.99800980e-01, 1.80908555e-05],\n",
       "       [9.99992847e-01, 2.25582468e-07],\n",
       "       [9.99918461e-01, 6.62594493e-06],\n",
       "       [9.99990821e-01, 4.03461428e-07],\n",
       "       [3.76553312e-02, 7.19527721e-01],\n",
       "       [9.98122752e-01, 3.44791391e-04],\n",
       "       [9.99634862e-01, 5.64534457e-05],\n",
       "       [9.99999523e-01, 1.98646983e-08],\n",
       "       [9.99324083e-01, 1.40577133e-04],\n",
       "       [9.99959350e-01, 5.68669611e-06],\n",
       "       [9.99978662e-01, 7.56173961e-07],\n",
       "       [9.99969602e-01, 1.95490998e-06],\n",
       "       [9.99417782e-01, 5.15662796e-05],\n",
       "       [9.99980211e-01, 1.34675031e-06],\n",
       "       [9.99996305e-01, 1.08747933e-07],\n",
       "       [9.99963999e-01, 4.87114903e-06],\n",
       "       [9.99999523e-01, 1.81998985e-08],\n",
       "       [9.99986172e-01, 8.81381595e-07],\n",
       "       [9.98610735e-01, 1.43149126e-04],\n",
       "       [9.99998689e-01, 1.29659359e-08],\n",
       "       [9.99990940e-01, 7.15638976e-07],\n",
       "       [9.99901533e-01, 4.75400930e-06],\n",
       "       [9.99938726e-01, 6.45017462e-06],\n",
       "       [8.53182554e-01, 2.70789471e-02],\n",
       "       [1.10296704e-01, 6.42534792e-01],\n",
       "       [8.04428055e-06, 9.99993443e-01],\n",
       "       [2.06162658e-05, 9.99965549e-01],\n",
       "       [4.48298035e-03, 9.91071522e-01],\n",
       "       [9.19048671e-10, 1.00000000e+00],\n",
       "       [8.68618041e-02, 6.96321130e-01],\n",
       "       [5.77944377e-07, 9.99999285e-01],\n",
       "       [2.18171770e-09, 1.00000000e+00],\n",
       "       [1.70614434e-09, 1.00000000e+00],\n",
       "       [4.02235791e-08, 1.00000000e+00],\n",
       "       [2.05267947e-02, 8.67519498e-01],\n",
       "       [1.67954331e-05, 9.99964476e-01],\n",
       "       [4.01037883e-11, 1.00000000e+00],\n",
       "       [2.39718531e-07, 9.99999881e-01],\n",
       "       [1.48056555e-04, 9.99498725e-01],\n",
       "       [4.23797261e-04, 9.99406338e-01],\n",
       "       [1.30897734e-13, 1.00000000e+00],\n",
       "       [9.79713321e-01, 4.22149291e-03],\n",
       "       [1.93295364e-07, 9.99999881e-01],\n",
       "       [1.18558759e-07, 9.99999881e-01],\n",
       "       [9.99827087e-01, 9.62400009e-06],\n",
       "       [1.07235855e-05, 9.99995351e-01],\n",
       "       [5.25230935e-05, 9.99795139e-01],\n",
       "       [9.90373373e-01, 8.52002238e-04],\n",
       "       [8.80497624e-04, 1.32903606e-01],\n",
       "       [9.99996901e-01, 4.10925009e-11],\n",
       "       [9.98447895e-01, 1.05981279e-07],\n",
       "       [9.99999404e-01, 9.68712176e-12],\n",
       "       [9.99994040e-01, 2.12209514e-10],\n",
       "       [9.51869190e-01, 6.55881377e-06],\n",
       "       [9.99993205e-01, 2.24366761e-10],\n",
       "       [9.99948144e-01, 1.11630771e-09],\n",
       "       [9.99998450e-01, 1.20489903e-11],\n",
       "       [9.99999642e-01, 4.11936370e-12],\n",
       "       [1.00000000e+00, 5.76965450e-13],\n",
       "       [9.99619246e-01, 1.11622951e-08],\n",
       "       [9.99999642e-01, 3.94717722e-12],\n",
       "       [9.99990225e-01, 2.43038284e-10],\n",
       "       [9.99937057e-01, 1.34936251e-09],\n",
       "       [9.97099280e-01, 3.14794910e-08],\n",
       "       [5.58072627e-01, 2.72306843e-05],\n",
       "       [1.00000000e+00, 4.85858261e-13],\n",
       "       [9.98261869e-01, 2.89038500e-08],\n",
       "       [9.98422623e-01, 3.31866232e-08],\n",
       "       [9.90931392e-01, 1.66421998e-07],\n",
       "       [9.17848051e-01, 2.77532808e-06],\n",
       "       [9.99854445e-01, 4.21917390e-09],\n",
       "       [9.99905825e-01, 9.62556035e-10],\n",
       "       [9.99794185e-01, 9.95223814e-09],\n",
       "       [8.63619372e-02, 9.39016521e-04],\n",
       "       [9.95745599e-01, 6.95909748e-08],\n",
       "       [9.99999523e-01, 2.61664431e-12],\n",
       "       [9.98917937e-01, 2.69403202e-08],\n",
       "       [9.99472082e-01, 8.23649593e-09],\n",
       "       [9.99760211e-01, 5.35590150e-09],\n",
       "       [9.99998927e-01, 2.99166213e-11],\n",
       "       [9.96112168e-01, 6.83164671e-08],\n",
       "       [9.99990702e-01, 2.80663132e-10],\n",
       "       [9.98610139e-01, 4.73931507e-08],\n",
       "       [9.99931693e-01, 2.30055863e-09],\n",
       "       [1.29946753e-01, 2.55995430e-04],\n",
       "       [6.99660347e-08, 9.99203980e-01],\n",
       "       [1.09884679e-11, 1.00000000e+00],\n",
       "       [3.19039486e-07, 9.97592628e-01],\n",
       "       [3.08671274e-13, 1.00000000e+00],\n",
       "       [9.48123354e-03, 9.04056523e-03],\n",
       "       [1.15039552e-06, 9.74987030e-01],\n",
       "       [1.47671191e-08, 9.99942303e-01],\n",
       "       [1.57956872e-14, 1.00000000e+00],\n",
       "       [1.34924671e-09, 9.99999046e-01],\n",
       "       [1.29430733e-09, 9.99997020e-01],\n",
       "       [1.71174441e-09, 9.99996185e-01],\n",
       "       [4.31916542e-15, 1.00000000e+00],\n",
       "       [2.21753432e-12, 1.00000000e+00],\n",
       "       [1.13280348e-01, 5.80160820e-04],\n",
       "       [6.70929268e-08, 9.99877930e-01],\n",
       "       [1.06874143e-09, 9.99998689e-01],\n",
       "       [5.24202015e-09, 9.99954820e-01],\n",
       "       [5.96051541e-05, 5.29286265e-01],\n",
       "       [1.00846042e-11, 1.00000000e+00],\n",
       "       [1.04378950e-08, 9.99945045e-01],\n",
       "       [2.88905107e-06, 9.77924585e-01],\n",
       "       [9.90623812e-05, 7.51371682e-01],\n",
       "       [3.11065423e-10, 9.99999404e-01],\n",
       "       [8.26594373e-07, 9.95813668e-01],\n",
       "       [1.00000000e+00, 3.48881731e-12],\n",
       "       [9.99996185e-01, 1.48328079e-08],\n",
       "       [1.00000000e+00, 5.94860545e-16],\n",
       "       [9.99994397e-01, 3.45706269e-07],\n",
       "       [9.99971747e-01, 1.42426529e-06],\n",
       "       [9.82555032e-01, 2.79250764e-03],\n",
       "       [9.93472099e-01, 5.40287816e-04],\n",
       "       [9.99998808e-01, 6.13495166e-09],\n",
       "       [9.99998689e-01, 1.38387293e-08],\n",
       "       [9.67571378e-01, 1.00283725e-02],\n",
       "       [9.99997139e-01, 3.24948729e-07],\n",
       "       [9.97899175e-01, 5.90085227e-04],\n",
       "       [9.99471366e-01, 8.01046481e-05],\n",
       "       [1.00000000e+00, 3.34832784e-09],\n",
       "       [3.46549332e-01, 1.31781697e-01],\n",
       "       [9.99970913e-01, 9.09894698e-06],\n",
       "       [9.99999881e-01, 2.06526596e-09],\n",
       "       [6.63235784e-03, 9.82406616e-01],\n",
       "       [9.70406175e-01, 3.93562455e-04],\n",
       "       [9.99994874e-01, 1.46306746e-07],\n",
       "       [1.80232562e-02, 9.46278751e-01],\n",
       "       [9.99725640e-01, 1.49320576e-05],\n",
       "       [9.99998808e-01, 2.57789097e-08],\n",
       "       [9.99998331e-01, 3.64370472e-08],\n",
       "       [9.99991775e-01, 3.96137267e-07],\n",
       "       [9.99731719e-01, 1.59969641e-05],\n",
       "       [9.96785283e-01, 1.91957908e-04],\n",
       "       [9.99989510e-01, 1.08775055e-06],\n",
       "       [9.99905825e-01, 8.91129184e-06],\n",
       "       [4.40993952e-03, 8.82585704e-01],\n",
       "       [9.94668543e-01, 8.54422525e-03],\n",
       "       [1.00000000e+00, 9.97178588e-21],\n",
       "       [9.42032784e-02, 9.28524911e-01],\n",
       "       [8.31786036e-01, 4.22522333e-03],\n",
       "       [9.99992967e-01, 6.32919125e-07],\n",
       "       [9.99993086e-01, 6.93928186e-08],\n",
       "       [9.99603927e-01, 5.06062861e-05],\n",
       "       [2.04348064e-04, 9.99276340e-01],\n",
       "       [1.06814150e-02, 9.83716488e-01],\n",
       "       [1.00000000e+00, 1.21898662e-17],\n",
       "       [5.75102912e-03, 9.87388492e-01],\n",
       "       [6.64995402e-14, 1.00000000e+00],\n",
       "       [8.12505677e-05, 9.99971986e-01],\n",
       "       [7.59835064e-01, 1.66013747e-01],\n",
       "       [1.17043845e-01, 7.25495219e-01],\n",
       "       [4.31150757e-03, 9.90768015e-01],\n",
       "       [1.44391601e-08, 9.99999046e-01],\n",
       "       [9.82215700e-16, 1.00000000e+00],\n",
       "       [1.57660732e-10, 1.00000000e+00],\n",
       "       [1.21192315e-07, 9.99999881e-01],\n",
       "       [4.42693207e-08, 9.99999881e-01],\n",
       "       [5.45989606e-04, 9.99637485e-01],\n",
       "       [2.76461378e-06, 9.99998689e-01],\n",
       "       [3.37710762e-12, 1.00000000e+00],\n",
       "       [6.07429718e-10, 1.00000000e+00],\n",
       "       [1.97603789e-04, 9.99845982e-01],\n",
       "       [4.08328205e-10, 1.00000000e+00],\n",
       "       [1.05245772e-03, 9.98004615e-01],\n",
       "       [1.16607932e-10, 1.00000000e+00],\n",
       "       [6.72177002e-02, 8.86182129e-01],\n",
       "       [8.53571619e-05, 9.99918222e-01]], dtype=float32)"
      ]
     },
     "execution_count": 31,
     "metadata": {},
     "output_type": "execute_result"
    }
   ],
   "source": [
    "y_predict_concatenate_array = np.array(y_predict_concatenate_list)\n",
    "y_predict_concatenate_array"
   ]
  },
  {
   "cell_type": "code",
   "execution_count": 32,
   "metadata": {},
   "outputs": [
    {
     "data": {
      "text/plain": [
       "(433, 2)"
      ]
     },
     "execution_count": 32,
     "metadata": {},
     "output_type": "execute_result"
    }
   ],
   "source": [
    "y_predict_concatenate_array.shape"
   ]
  },
  {
   "cell_type": "code",
   "execution_count": 33,
   "metadata": {},
   "outputs": [],
   "source": [
    "y_predict_1D = y_predict_concatenate_array[:,0]"
   ]
  },
  {
   "cell_type": "code",
   "execution_count": 34,
   "metadata": {},
   "outputs": [],
   "source": [
    "y_predict_1D_processed = 1- y_predict_1D"
   ]
  },
  {
   "cell_type": "code",
   "execution_count": 35,
   "metadata": {},
   "outputs": [],
   "source": [
    "fpr , tpr , thresholds = roc_curve(y_test_concatenate_list , y_predict_1D_processed)\n",
    "auc_rf = auc(fpr, tpr)"
   ]
  },
  {
   "cell_type": "code",
   "execution_count": 36,
   "metadata": {},
   "outputs": [
    {
     "data": {
      "text/plain": [
       "0.9657180969319699"
      ]
     },
     "execution_count": 36,
     "metadata": {},
     "output_type": "execute_result"
    }
   ],
   "source": [
    "auc_rf"
   ]
  },
  {
   "cell_type": "code",
   "execution_count": 37,
   "metadata": {},
   "outputs": [],
   "source": [
    "x = y = np.arange(0, 1.1, 0.1)"
   ]
  },
  {
   "cell_type": "code",
   "execution_count": 38,
   "metadata": {},
   "outputs": [
    {
     "data": {
      "text/plain": [
       "array([0. , 0.1, 0.2, 0.3, 0.4, 0.5, 0.6, 0.7, 0.8, 0.9, 1. ])"
      ]
     },
     "execution_count": 38,
     "metadata": {},
     "output_type": "execute_result"
    }
   ],
   "source": [
    "x"
   ]
  },
  {
   "cell_type": "code",
   "execution_count": 58,
   "metadata": {
    "scrolled": true
   },
   "outputs": [
    {
     "data": {
      "image/png": "[encoded data removed]",
      "text/plain": [
       "<Figure size 640x480 with 1 Axes>"
      ]
     },
     "metadata": {},
     "output_type": "display_data"
    }
   ],
   "source": [
    "fig = plt.figure()\n",
    "plt.style.use('classic')\n",
    "\n",
    "ax = fig.add_subplot(111)\n",
    "\n",
    "plt.plot(fpr, tpr, color='blue', linewidth=0.9)\n",
    "\n",
    "plt.plot(x, y, '--', color='black', linewidth=0.8)\n",
    "\n",
    "plt.title('ROC curve of Chr_09 Inversion', fontsize=15, fontname = 'Times New Roman')\n",
    "plt.xlabel('False Positive Rate', fontsize=15, fontname = 'Times New Roman')\n",
    "plt.ylabel('True positive Rate', fontsize=15, fontname = 'Times New Roman')\n",
    "ax.set_aspect('equal', adjustable='box')\n",
    "plt.xlim(-0.08, 1.1)\n",
    "plt.ylim(-0.08, 1.1)\n",
    "plt.xticks(fontsize=15, fontname = 'Arial')\n",
    "plt.yticks(fontsize=15, fontname = 'Arial')\n",
    "\n",
    "plt.savefig('ROC_Curve_Combination.png', dpi=800)\n",
    "plt.show()"
   ]
  },
  {
   "cell_type": "markdown",
   "metadata": {},
   "source": [
    "#### 3.10.4.1 AUC Value"
   ]
  },
  {
   "cell_type": "code",
   "execution_count": 40,
   "metadata": {},
   "outputs": [],
   "source": [
    "auc_value = auc(fpr, tpr)"
   ]
  },
  {
   "cell_type": "code",
   "execution_count": 41,
   "metadata": {},
   "outputs": [
    {
     "name": "stdout",
     "output_type": "stream",
     "text": [
      "AUC is  0.9657180969319699\n"
     ]
    }
   ],
   "source": [
    "print('AUC is ', auc_value)"
   ]
  },
  {
   "cell_type": "markdown",
   "metadata": {},
   "source": [
    "# Results"
   ]
  },
  {
   "cell_type": "code",
   "execution_count": 42,
   "metadata": {},
   "outputs": [
    {
     "name": "stdout",
     "output_type": "stream",
     "text": [
      "Test Accuracy: 0.908\n"
     ]
    }
   ],
   "source": [
    "print('Test Accuracy: %.3f' % acc)"
   ]
  },
  {
   "cell_type": "code",
   "execution_count": 43,
   "metadata": {
    "scrolled": true
   },
   "outputs": [
    {
     "name": "stdout",
     "output_type": "stream",
     "text": [
      "                 precision    recall  f1-score   support\n",
      "\n",
      "         chr_09       0.92      0.93      0.92       260\n",
      "chr_9_inversion       0.89      0.88      0.88       173\n",
      "\n",
      "      micro avg       0.91      0.91      0.91       433\n",
      "      macro avg       0.90      0.90      0.90       433\n",
      "   weighted avg       0.91      0.91      0.91       433\n",
      "\n"
     ]
    }
   ],
   "source": [
    "print(performanceReport)"
   ]
  },
  {
   "cell_type": "code",
   "execution_count": 44,
   "metadata": {},
   "outputs": [
    {
     "data": {
      "text/plain": [
       "str"
      ]
     },
     "execution_count": 44,
     "metadata": {},
     "output_type": "execute_result"
    }
   ],
   "source": [
    "type(performanceReport)"
   ]
  },
  {
   "cell_type": "code",
   "execution_count": 45,
   "metadata": {},
   "outputs": [
    {
     "name": "stdout",
     "output_type": "stream",
     "text": [
      "AUC is  0.9657180969319699\n"
     ]
    }
   ],
   "source": [
    "print('AUC is ', auc_value)"
   ]
  },
  {
   "cell_type": "markdown",
   "metadata": {},
   "source": [
    "## Export to a text file"
   ]
  },
  {
   "cell_type": "code",
   "execution_count": 46,
   "metadata": {},
   "outputs": [],
   "source": [
    "file_report = open('ResultsCombination.txt', 'w')\n",
    "file_report.write('Accuracy: %s\\n\\n' % acc)\n",
    "file_report.write('AUC: %s.\\n\\n' % auc_value)\n",
    "file_report.write('Performance Report: \\n%s\\n\\n' % performanceReport)\n",
    "file_report.write('Confusion Matrix: \\n%s.\\n\\n' % confusion)\n",
    "file_report.write('Recall of Confusion Matrix: \\n%s.\\n\\n' % confusion_r)\n",
    "file_report.write('Precision of Confusion Matrix: \\n%s.\\n\\n' % confusion_p)\n",
    "file_report.close()"
   ]
  }
 ],
 "metadata": {
  "kernelspec": {
   "display_name": "Python 3",
   "language": "python",
   "name": "python3"
  },
  "language_info": {
   "codemirror_mode": {
    "name": "ipython",
    "version": 3
   },
   "file_extension": ".py",
   "mimetype": "text/x-python",
   "name": "python",
   "nbconvert_exporter": "python",
   "pygments_lexer": "ipython3",
   "version": "3.7.3"
  }
 },
 "nbformat": 4,
 "nbformat_minor": 2
}
