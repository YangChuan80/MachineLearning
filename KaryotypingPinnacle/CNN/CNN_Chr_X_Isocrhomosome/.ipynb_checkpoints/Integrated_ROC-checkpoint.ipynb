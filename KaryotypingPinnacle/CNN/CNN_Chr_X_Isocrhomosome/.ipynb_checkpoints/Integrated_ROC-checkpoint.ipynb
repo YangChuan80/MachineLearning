{
 "cells": [
  {
   "cell_type": "code",
   "execution_count": 1,
   "metadata": {},
   "outputs": [
    {
     "name": "stderr",
     "output_type": "stream",
     "text": [
      "C:\\Anaconda3\\lib\\site-packages\\pandas\\compat\\_optional.py:138: UserWarning: Pandas requires version '2.7.0' or newer of 'numexpr' (version '2.6.9' currently installed).\n",
      "  warnings.warn(msg, UserWarning)\n"
     ]
    }
   ],
   "source": [
    "import numpy as np\n",
    "import pandas as pd\n",
    "import matplotlib.pyplot as plt\n",
    "\n",
    "from sklearn.metrics import classification_report, confusion_matrix, roc_curve, auc, accuracy_score\n",
    "\n",
    "import seaborn as sb"
   ]
  },
  {
   "cell_type": "code",
   "execution_count": 2,
   "metadata": {},
   "outputs": [],
   "source": [
    "chromConvert = {\n",
    "               'chr_x': 0, \n",
    "               'chr_x_isochromosome': 1\n",
    "               }"
   ]
  },
  {
   "cell_type": "code",
   "execution_count": 3,
   "metadata": {},
   "outputs": [],
   "source": [
    "chromConvert_reverse = {\n",
    "                0: 'chr_x', \n",
    "                1: 'chr_x_isochromosome'\n",
    "               }"
   ]
  },
  {
   "cell_type": "code",
   "execution_count": 4,
   "metadata": {},
   "outputs": [],
   "source": [
    "label = ['chr_x', 'chr_x_isochromosome']\n",
    "\n",
    "label_convert = []\n",
    "\n",
    "for i in range(2):\n",
    "    label_convert.append(chromConvert_reverse[i])"
   ]
  },
  {
   "cell_type": "markdown",
   "metadata": {},
   "source": [
    "# Load test and predict values"
   ]
  },
  {
   "cell_type": "code",
   "execution_count": 5,
   "metadata": {},
   "outputs": [],
   "source": [
    "y_test_all = []\n",
    "y_predict_all = []\n",
    "y_predict_filtered_all = []"
   ]
  },
  {
   "cell_type": "code",
   "execution_count": 6,
   "metadata": {},
   "outputs": [],
   "source": [
    "for iterationNumber in range(7):\n",
    "    with open('data_y_test_value_iteration_' + str(iterationNumber) + '.npy', 'rb') as f_y_test:\n",
    "        y_test_all.append(np.load(f_y_test))\n",
    "        \n",
    "    with open('data_y_predict_value_iteration_' + str(iterationNumber) + '.npy', 'rb') as f_y_predict:\n",
    "        y_predict_all.append(np.load(f_y_predict))                             \n",
    "                        \n",
    "    with open('data_y_predict_filtered_value_iteration_' + str(iterationNumber) + '.npy', 'rb') as f_y_predict_filtered:\n",
    "        y_predict_filtered_all.append(np.load(f_y_predict_filtered))"
   ]
  },
  {
   "cell_type": "code",
   "execution_count": 7,
   "metadata": {},
   "outputs": [
    {
     "data": {
      "text/plain": [
       "(36, 2)"
      ]
     },
     "execution_count": 7,
     "metadata": {},
     "output_type": "execute_result"
    }
   ],
   "source": [
    "y_predict_all[0].shape"
   ]
  },
  {
   "cell_type": "code",
   "execution_count": 8,
   "metadata": {
    "scrolled": true
   },
   "outputs": [
    {
     "data": {
      "text/plain": [
       "[array([[1.00000000e+00, 1.41964496e-11],\n",
       "        [1.00000000e+00, 2.73697265e-09],\n",
       "        [1.00000000e+00, 1.24059901e-13],\n",
       "        [1.00000000e+00, 1.01538370e-11],\n",
       "        [9.96503353e-01, 2.07159435e-03],\n",
       "        [1.00000000e+00, 4.94483920e-08],\n",
       "        [9.99987841e-01, 5.51385983e-06],\n",
       "        [1.00000000e+00, 5.35543623e-11],\n",
       "        [9.99999881e-01, 2.55633296e-07],\n",
       "        [1.00000000e+00, 1.01425424e-09],\n",
       "        [9.99943018e-01, 1.06845575e-04],\n",
       "        [9.99999642e-01, 1.63253389e-07],\n",
       "        [1.00000000e+00, 8.73564190e-08],\n",
       "        [9.99996543e-01, 5.95783195e-06],\n",
       "        [9.99980688e-01, 1.43426041e-05],\n",
       "        [9.99989390e-01, 8.16818465e-06],\n",
       "        [9.99999881e-01, 3.37882256e-07],\n",
       "        [9.99999881e-01, 8.01501301e-07],\n",
       "        [9.99853015e-01, 2.07808378e-04],\n",
       "        [9.96531069e-01, 2.47061159e-03],\n",
       "        [9.97263312e-01, 3.04602156e-03],\n",
       "        [9.99998808e-01, 1.40038537e-06],\n",
       "        [9.99999046e-01, 5.83406745e-06],\n",
       "        [9.99999523e-01, 1.55913608e-06],\n",
       "        [1.00000000e+00, 1.23988599e-07],\n",
       "        [1.00000000e+00, 3.88432797e-09],\n",
       "        [9.99794543e-01, 3.00160988e-04],\n",
       "        [5.80620544e-04, 9.97099161e-01],\n",
       "        [7.58688556e-10, 1.00000000e+00],\n",
       "        [9.97018099e-01, 5.93081582e-03],\n",
       "        [4.78560338e-03, 9.87328529e-01],\n",
       "        [4.00517347e-05, 9.99421120e-01],\n",
       "        [2.90230359e-03, 9.92417097e-01],\n",
       "        [7.97124267e-06, 9.99953747e-01],\n",
       "        [6.61600083e-02, 8.49518836e-01],\n",
       "        [5.44914983e-05, 9.99388456e-01]], dtype=float32),\n",
       " array([[1.0000000e+00, 2.2285522e-10],\n",
       "        [1.0000000e+00, 1.0325648e-05],\n",
       "        [1.0000000e+00, 4.9994220e-10],\n",
       "        [1.0000000e+00, 1.5882001e-10],\n",
       "        [1.0000000e+00, 1.6294184e-07],\n",
       "        [1.0000000e+00, 5.7718199e-07],\n",
       "        [1.0000000e+00, 1.1986585e-07],\n",
       "        [1.0000000e+00, 4.0725833e-08],\n",
       "        [1.0000000e+00, 5.5063072e-08],\n",
       "        [1.0000000e+00, 1.4218064e-05],\n",
       "        [9.9999952e-01, 2.5838635e-05],\n",
       "        [1.0000000e+00, 5.1425033e-09],\n",
       "        [9.9999964e-01, 3.6879843e-05],\n",
       "        [1.0000000e+00, 3.7056008e-05],\n",
       "        [1.0000000e+00, 1.9602098e-08],\n",
       "        [1.0000000e+00, 2.2322636e-06],\n",
       "        [1.0000000e+00, 3.0603273e-09],\n",
       "        [1.0000000e+00, 1.8522087e-07],\n",
       "        [1.0000000e+00, 1.2972060e-05],\n",
       "        [1.0000000e+00, 4.3922088e-10],\n",
       "        [1.0000000e+00, 1.4327500e-06],\n",
       "        [1.0000000e+00, 3.8862638e-08],\n",
       "        [9.9998891e-01, 1.5499009e-03],\n",
       "        [1.0000000e+00, 8.0071131e-06],\n",
       "        [1.0000000e+00, 1.2484777e-09],\n",
       "        [1.0000000e+00, 9.7706248e-08],\n",
       "        [9.9996912e-01, 5.8680458e-04],\n",
       "        [5.6657091e-02, 9.9994493e-01],\n",
       "        [9.9999988e-01, 8.7425935e-05],\n",
       "        [3.1769876e-05, 9.9999762e-01],\n",
       "        [5.1683364e-03, 9.9983311e-01],\n",
       "        [3.5832927e-03, 9.9994242e-01],\n",
       "        [5.8001392e-03, 9.9987519e-01],\n",
       "        [1.3000941e-01, 9.9932396e-01],\n",
       "        [2.8823151e-05, 9.9999988e-01],\n",
       "        [4.3874188e-05, 9.9999189e-01]], dtype=float32),\n",
       " array([[6.9346893e-01, 1.7110368e-02],\n",
       "        [1.0000000e+00, 6.3081783e-14],\n",
       "        [1.0000000e+00, 9.7370072e-12],\n",
       "        [1.0000000e+00, 2.2719773e-18],\n",
       "        [1.0000000e+00, 5.6986004e-12],\n",
       "        [1.0000000e+00, 1.5417148e-12],\n",
       "        [1.0000000e+00, 7.2181253e-18],\n",
       "        [1.0000000e+00, 9.0175637e-20],\n",
       "        [1.0000000e+00, 1.4788001e-16],\n",
       "        [9.9999917e-01, 9.6121028e-08],\n",
       "        [1.0000000e+00, 1.1427533e-10],\n",
       "        [1.0000000e+00, 9.1913716e-12],\n",
       "        [1.0000000e+00, 2.0757220e-14],\n",
       "        [1.0000000e+00, 4.4136489e-10],\n",
       "        [1.0000000e+00, 3.9103561e-11],\n",
       "        [9.9999988e-01, 1.1293765e-08],\n",
       "        [1.0000000e+00, 2.3054529e-12],\n",
       "        [1.0000000e+00, 5.2007893e-13],\n",
       "        [9.9999988e-01, 1.6645130e-08],\n",
       "        [1.0000000e+00, 5.6888730e-11],\n",
       "        [1.0000000e+00, 1.7245119e-09],\n",
       "        [1.0000000e+00, 1.3840729e-09],\n",
       "        [1.0000000e+00, 1.3863243e-16],\n",
       "        [9.9999988e-01, 6.7482673e-09],\n",
       "        [1.0000000e+00, 4.0885303e-12],\n",
       "        [9.9999988e-01, 6.1695453e-09],\n",
       "        [1.0000000e+00, 5.0931959e-10],\n",
       "        [3.0832106e-10, 9.9999988e-01],\n",
       "        [5.8555529e-09, 9.9999678e-01],\n",
       "        [9.7152531e-01, 6.1195390e-04],\n",
       "        [9.9999988e-01, 2.4104237e-08],\n",
       "        [5.7096216e-12, 1.0000000e+00],\n",
       "        [4.1045427e-05, 9.9586844e-01],\n",
       "        [2.3341656e-01, 2.3802677e-01],\n",
       "        [9.9503607e-01, 3.4821334e-03],\n",
       "        [8.7051609e-07, 9.9994886e-01]], dtype=float32),\n",
       " array([[9.9999690e-01, 1.2233896e-06],\n",
       "        [9.9996185e-01, 8.3919795e-06],\n",
       "        [1.0000000e+00, 7.4669870e-09],\n",
       "        [9.9999356e-01, 1.3716711e-06],\n",
       "        [9.9991810e-01, 1.2617988e-05],\n",
       "        [1.0000000e+00, 2.7190015e-12],\n",
       "        [9.9208528e-01, 2.0167178e-03],\n",
       "        [9.9999189e-01, 8.0695213e-07],\n",
       "        [1.0000000e+00, 4.0573983e-10],\n",
       "        [9.9999988e-01, 8.5291765e-09],\n",
       "        [9.9964607e-01, 1.6336124e-04],\n",
       "        [9.9998546e-01, 8.0128038e-06],\n",
       "        [9.9999309e-01, 1.9142960e-06],\n",
       "        [9.8115116e-01, 9.9455044e-03],\n",
       "        [9.9999857e-01, 5.2194156e-07],\n",
       "        [9.9996758e-01, 9.9649751e-06],\n",
       "        [9.9999928e-01, 2.4919603e-07],\n",
       "        [9.9990821e-01, 5.0855921e-05],\n",
       "        [9.9966013e-01, 1.7538466e-04],\n",
       "        [9.9999857e-01, 4.0948214e-07],\n",
       "        [9.9999988e-01, 5.1200644e-08],\n",
       "        [9.9990606e-01, 6.1768413e-05],\n",
       "        [9.9999094e-01, 2.8110223e-06],\n",
       "        [9.9999976e-01, 1.5481453e-07],\n",
       "        [9.9999988e-01, 2.8611550e-08],\n",
       "        [9.9999821e-01, 1.1450104e-06],\n",
       "        [1.0000000e+00, 3.9053591e-09],\n",
       "        [4.4347495e-08, 1.0000000e+00],\n",
       "        [1.2916214e-05, 9.9998486e-01],\n",
       "        [1.2359172e-05, 9.9999046e-01],\n",
       "        [1.4206448e-05, 9.9997962e-01],\n",
       "        [7.1103095e-05, 9.9996674e-01],\n",
       "        [8.7489482e-08, 1.0000000e+00],\n",
       "        [9.9995899e-01, 2.6580425e-05],\n",
       "        [2.9600727e-05, 9.9995983e-01],\n",
       "        [6.4978615e-04, 9.9934214e-01]], dtype=float32),\n",
       " array([[9.99991894e-01, 5.16507316e-05],\n",
       "        [9.99996305e-01, 2.37357090e-05],\n",
       "        [9.99996901e-01, 7.68071186e-05],\n",
       "        [1.00000000e+00, 2.72187384e-10],\n",
       "        [9.99797761e-01, 3.22726206e-04],\n",
       "        [1.00000000e+00, 3.15796257e-07],\n",
       "        [9.99999881e-01, 7.53766301e-07],\n",
       "        [9.99968529e-01, 6.89370572e-05],\n",
       "        [9.99992490e-01, 1.52539957e-04],\n",
       "        [9.99962926e-01, 5.24503121e-04],\n",
       "        [9.99999762e-01, 1.28645815e-05],\n",
       "        [9.99996662e-01, 8.09782141e-05],\n",
       "        [9.99999762e-01, 5.70759221e-06],\n",
       "        [9.99999881e-01, 1.06226144e-05],\n",
       "        [9.99999523e-01, 1.69803843e-05],\n",
       "        [9.99994755e-01, 6.50054790e-05],\n",
       "        [9.99988556e-01, 8.61815133e-05],\n",
       "        [9.99990225e-01, 1.67400503e-04],\n",
       "        [9.99311090e-01, 8.03292147e-04],\n",
       "        [9.99999881e-01, 1.16807096e-05],\n",
       "        [9.99997735e-01, 9.57798329e-05],\n",
       "        [9.99998093e-01, 5.13321975e-05],\n",
       "        [9.99999285e-01, 2.04906046e-05],\n",
       "        [9.99994993e-01, 4.44613252e-05],\n",
       "        [9.99744713e-01, 2.24088412e-03],\n",
       "        [9.99959469e-01, 3.28751252e-04],\n",
       "        [9.99851465e-01, 1.46689557e-03],\n",
       "        [9.98063266e-01, 2.38208659e-02],\n",
       "        [6.33018964e-04, 9.99858379e-01],\n",
       "        [7.29980692e-02, 9.09950197e-01],\n",
       "        [1.77156448e-01, 9.87243950e-01],\n",
       "        [8.65687907e-05, 9.99641418e-01],\n",
       "        [3.84828490e-05, 9.99923110e-01],\n",
       "        [4.79159169e-02, 8.99189472e-01],\n",
       "        [8.10781773e-03, 9.98746991e-01],\n",
       "        [1.11378595e-01, 9.47861910e-01]], dtype=float32),\n",
       " array([[1.0000000e+00, 3.9628589e-09],\n",
       "        [1.0000000e+00, 2.8771381e-13],\n",
       "        [9.9998569e-01, 9.3657427e-06],\n",
       "        [1.0000000e+00, 1.9366573e-14],\n",
       "        [9.9996781e-01, 1.8837241e-05],\n",
       "        [9.9998271e-01, 7.3014467e-06],\n",
       "        [1.0000000e+00, 4.4183261e-09],\n",
       "        [9.9999988e-01, 4.5534016e-08],\n",
       "        [9.9967813e-01, 2.8942674e-04],\n",
       "        [9.9998605e-01, 9.8932851e-06],\n",
       "        [9.9999928e-01, 5.2102399e-07],\n",
       "        [9.9999917e-01, 2.0439707e-07],\n",
       "        [9.9404752e-01, 2.8859330e-03],\n",
       "        [1.0000000e+00, 4.2752184e-11],\n",
       "        [9.9998701e-01, 4.9934652e-06],\n",
       "        [3.2930592e-01, 4.2007384e-01],\n",
       "        [9.9999988e-01, 2.9968120e-08],\n",
       "        [1.0000000e+00, 1.4601509e-08],\n",
       "        [1.0000000e+00, 6.2707957e-11],\n",
       "        [1.0000000e+00, 2.6235086e-10],\n",
       "        [1.0000000e+00, 1.1129996e-09],\n",
       "        [1.0000000e+00, 9.1661609e-12],\n",
       "        [5.0393343e-01, 4.5648625e-01],\n",
       "        [1.0000000e+00, 5.1764326e-10],\n",
       "        [9.9999976e-01, 7.2384836e-08],\n",
       "        [9.9997818e-01, 1.0045093e-05],\n",
       "        [1.0000000e+00, 7.9463378e-09],\n",
       "        [6.0890708e-02, 9.1196203e-01],\n",
       "        [6.5729188e-07, 9.9999976e-01],\n",
       "        [3.9864454e-04, 9.9978763e-01],\n",
       "        [1.7153179e-04, 9.9986601e-01],\n",
       "        [1.5679183e-05, 9.9998760e-01],\n",
       "        [9.0671136e-05, 9.9992275e-01],\n",
       "        [2.4967589e-05, 9.9998677e-01],\n",
       "        [2.8991173e-05, 9.9997818e-01],\n",
       "        [5.0340595e-06, 9.9999368e-01]], dtype=float32),\n",
       " array([[1.0000000e+00, 9.0980840e-10],\n",
       "        [1.0000000e+00, 3.4592351e-10],\n",
       "        [1.0000000e+00, 2.6171886e-08],\n",
       "        [1.0000000e+00, 3.9256069e-08],\n",
       "        [9.6938163e-01, 1.4426024e-01],\n",
       "        [9.9999988e-01, 1.5725160e-06],\n",
       "        [9.9984980e-01, 6.7797006e-04],\n",
       "        [9.9947256e-01, 3.7532612e-03],\n",
       "        [9.9997878e-01, 3.5903719e-04],\n",
       "        [9.9999869e-01, 1.7158125e-05],\n",
       "        [1.0000000e+00, 2.1271538e-09],\n",
       "        [1.0000000e+00, 4.4098209e-07],\n",
       "        [1.0000000e+00, 3.3772989e-07],\n",
       "        [1.0000000e+00, 5.5681704e-07],\n",
       "        [1.0000000e+00, 4.4854595e-08],\n",
       "        [1.0000000e+00, 7.8442874e-08],\n",
       "        [1.0000000e+00, 1.0093270e-06],\n",
       "        [1.0000000e+00, 1.2596792e-07],\n",
       "        [1.0000000e+00, 1.2899206e-07],\n",
       "        [9.9999654e-01, 3.8751834e-05],\n",
       "        [1.0000000e+00, 9.9796000e-07],\n",
       "        [1.0000000e+00, 8.9413749e-07],\n",
       "        [9.9999988e-01, 2.3649509e-06],\n",
       "        [1.0000000e+00, 1.4375169e-06],\n",
       "        [9.9999976e-01, 5.3107406e-06],\n",
       "        [1.0000000e+00, 2.6571603e-09],\n",
       "        [9.9999464e-01, 5.7372705e-05],\n",
       "        [4.7476392e-06, 9.9999881e-01],\n",
       "        [7.7705413e-01, 6.9681472e-01],\n",
       "        [1.7451008e-06, 9.9999988e-01],\n",
       "        [1.8786220e-01, 9.9821329e-01],\n",
       "        [9.9998629e-01, 1.4458637e-04],\n",
       "        [3.0468439e-03, 9.9963212e-01],\n",
       "        [9.4808696e-05, 9.9997497e-01],\n",
       "        [1.8605761e-02, 9.8856968e-01]], dtype=float32)]"
      ]
     },
     "execution_count": 8,
     "metadata": {},
     "output_type": "execute_result"
    }
   ],
   "source": [
    "y_predict_all"
   ]
  },
  {
   "cell_type": "code",
   "execution_count": 9,
   "metadata": {},
   "outputs": [],
   "source": [
    "y_test_concatenate_list = []\n",
    "y_predict_concatenate_list = []\n",
    "y_predict_filtered_concatenate_list = []"
   ]
  },
  {
   "cell_type": "code",
   "execution_count": 10,
   "metadata": {},
   "outputs": [],
   "source": [
    "for i in range(7):\n",
    "    y_test_concatenate_list.extend(list(y_test_all[i]))\n",
    "    y_predict_concatenate_list.extend(list(y_predict_all[i]))\n",
    "    y_predict_filtered_concatenate_list.extend(list(y_predict_filtered_all[i]))"
   ]
  },
  {
   "cell_type": "code",
   "execution_count": 11,
   "metadata": {},
   "outputs": [
    {
     "data": {
      "text/plain": [
       "(36, 2)"
      ]
     },
     "execution_count": 11,
     "metadata": {},
     "output_type": "execute_result"
    }
   ],
   "source": [
    "y_predict_all[0].shape"
   ]
  },
  {
   "cell_type": "code",
   "execution_count": 12,
   "metadata": {},
   "outputs": [
    {
     "data": {
      "text/plain": [
       "['chr_x', 'chr_x_isochromosome']"
      ]
     },
     "execution_count": 12,
     "metadata": {},
     "output_type": "execute_result"
    }
   ],
   "source": [
    "label_convert"
   ]
  },
  {
   "cell_type": "code",
   "execution_count": 13,
   "metadata": {},
   "outputs": [
    {
     "data": {
      "text/plain": [
       "251"
      ]
     },
     "execution_count": 13,
     "metadata": {},
     "output_type": "execute_result"
    }
   ],
   "source": [
    "len(y_test_concatenate_list)"
   ]
  },
  {
   "cell_type": "code",
   "execution_count": 14,
   "metadata": {},
   "outputs": [
    {
     "data": {
      "text/plain": [
       "251"
      ]
     },
     "execution_count": 14,
     "metadata": {},
     "output_type": "execute_result"
    }
   ],
   "source": [
    "len(y_predict_filtered_concatenate_list)"
   ]
  },
  {
   "cell_type": "code",
   "execution_count": 15,
   "metadata": {},
   "outputs": [
    {
     "data": {
      "text/plain": [
       "251"
      ]
     },
     "execution_count": 15,
     "metadata": {},
     "output_type": "execute_result"
    }
   ],
   "source": [
    "len(y_predict_concatenate_list)"
   ]
  },
  {
   "cell_type": "markdown",
   "metadata": {},
   "source": [
    "# Classification Report"
   ]
  },
  {
   "cell_type": "markdown",
   "metadata": {},
   "source": [
    "## Accuracy"
   ]
  },
  {
   "cell_type": "code",
   "execution_count": 16,
   "metadata": {},
   "outputs": [
    {
     "name": "stdout",
     "output_type": "stream",
     "text": [
      "Accuracy is  0.9601593625498008\n"
     ]
    }
   ],
   "source": [
    "acc = accuracy_score(y_test_concatenate_list, y_predict_filtered_concatenate_list, normalize=True, sample_weight=None)\n",
    "print('Accuracy is ', acc)"
   ]
  },
  {
   "cell_type": "markdown",
   "metadata": {},
   "source": [
    "## Precision, Recall, and F1"
   ]
  },
  {
   "cell_type": "code",
   "execution_count": 17,
   "metadata": {},
   "outputs": [
    {
     "name": "stdout",
     "output_type": "stream",
     "text": [
      "                     precision    recall  f1-score   support\n",
      "\n",
      "              chr_x       0.95      0.99      0.97       189\n",
      "chr_x_isochromosome       0.98      0.85      0.91        62\n",
      "\n",
      "          micro avg       0.96      0.96      0.96       251\n",
      "          macro avg       0.97      0.92      0.94       251\n",
      "       weighted avg       0.96      0.96      0.96       251\n",
      "\n"
     ]
    }
   ],
   "source": [
    "performanceReport = classification_report(y_test_concatenate_list, y_predict_filtered_concatenate_list, \n",
    "                                          target_names=label_convert)\n",
    "\n",
    "\n",
    "print(performanceReport)"
   ]
  },
  {
   "cell_type": "markdown",
   "metadata": {},
   "source": [
    "## Confusion Matrix"
   ]
  },
  {
   "cell_type": "code",
   "execution_count": 18,
   "metadata": {},
   "outputs": [
    {
     "data": {
      "text/html": [
       "<div>\n",
       "<style scoped>\n",
       "    .dataframe tbody tr th:only-of-type {\n",
       "        vertical-align: middle;\n",
       "    }\n",
       "\n",
       "    .dataframe tbody tr th {\n",
       "        vertical-align: top;\n",
       "    }\n",
       "\n",
       "    .dataframe thead th {\n",
       "        text-align: right;\n",
       "    }\n",
       "</style>\n",
       "<table border=\"1\" class=\"dataframe\">\n",
       "  <thead>\n",
       "    <tr style=\"text-align: right;\">\n",
       "      <th></th>\n",
       "      <th>chr_x</th>\n",
       "      <th>chr_x_isochromosome</th>\n",
       "    </tr>\n",
       "  </thead>\n",
       "  <tbody>\n",
       "    <tr>\n",
       "      <th>chr_x</th>\n",
       "      <td>188</td>\n",
       "      <td>1</td>\n",
       "    </tr>\n",
       "    <tr>\n",
       "      <th>chr_x_isochromosome</th>\n",
       "      <td>9</td>\n",
       "      <td>53</td>\n",
       "    </tr>\n",
       "  </tbody>\n",
       "</table>\n",
       "</div>"
      ],
      "text/plain": [
       "                     chr_x  chr_x_isochromosome\n",
       "chr_x                  188                    1\n",
       "chr_x_isochromosome      9                   53"
      ]
     },
     "execution_count": 18,
     "metadata": {},
     "output_type": "execute_result"
    }
   ],
   "source": [
    "cm = np.array(confusion_matrix(y_test_concatenate_list, y_predict_filtered_concatenate_list))\n",
    "confusion = pd.DataFrame(cm, index=label_convert,\n",
    "                        columns=label_convert)\n",
    "confusion.to_csv('ConfusionMatrix_Combination_of_CrossValidation_KaryoType_CNN.csv')\n",
    "confusion"
   ]
  },
  {
   "cell_type": "markdown",
   "metadata": {},
   "source": [
    "### 3.10.4 Rate of Confusion Matrix"
   ]
  },
  {
   "cell_type": "markdown",
   "metadata": {},
   "source": [
    "### 3.10.5 Recall (查全率)，(Sensitivity Rate)"
   ]
  },
  {
   "cell_type": "code",
   "execution_count": 19,
   "metadata": {
    "scrolled": true
   },
   "outputs": [],
   "source": [
    "subtotal = [0] * 2  \n",
    "for item in y_test_concatenate_list:\n",
    "    subtotal[item] = subtotal[item] + 1"
   ]
  },
  {
   "cell_type": "markdown",
   "metadata": {},
   "source": [
    "#### predict number divided by y test"
   ]
  },
  {
   "cell_type": "code",
   "execution_count": 20,
   "metadata": {},
   "outputs": [],
   "source": [
    "cm_r = []\n",
    "for i in range(2):\n",
    "    cm_r.append(cm[i]/subtotal[i])"
   ]
  },
  {
   "cell_type": "code",
   "execution_count": 21,
   "metadata": {},
   "outputs": [
    {
     "data": {
      "text/html": [
       "<div>\n",
       "<style scoped>\n",
       "    .dataframe tbody tr th:only-of-type {\n",
       "        vertical-align: middle;\n",
       "    }\n",
       "\n",
       "    .dataframe tbody tr th {\n",
       "        vertical-align: top;\n",
       "    }\n",
       "\n",
       "    .dataframe thead th {\n",
       "        text-align: right;\n",
       "    }\n",
       "</style>\n",
       "<table border=\"1\" class=\"dataframe\">\n",
       "  <thead>\n",
       "    <tr style=\"text-align: right;\">\n",
       "      <th></th>\n",
       "      <th>chr_x</th>\n",
       "      <th>chr_x_isochromosome</th>\n",
       "    </tr>\n",
       "  </thead>\n",
       "  <tbody>\n",
       "    <tr>\n",
       "      <th>chr_x</th>\n",
       "      <td>0.994709</td>\n",
       "      <td>0.005291</td>\n",
       "    </tr>\n",
       "    <tr>\n",
       "      <th>chr_x_isochromosome</th>\n",
       "      <td>0.145161</td>\n",
       "      <td>0.854839</td>\n",
       "    </tr>\n",
       "  </tbody>\n",
       "</table>\n",
       "</div>"
      ],
      "text/plain": [
       "                        chr_x  chr_x_isochromosome\n",
       "chr_x                0.994709             0.005291\n",
       "chr_x_isochromosome  0.145161             0.854839"
      ]
     },
     "execution_count": 21,
     "metadata": {},
     "output_type": "execute_result"
    }
   ],
   "source": [
    "confusion_r = pd.DataFrame(cm_r, index=label_convert,\n",
    "                        columns=label_convert)\n",
    "confusion_r.to_csv('ConfusionMatrix_Recall_Integration_CNN.csv')\n",
    "confusion_r"
   ]
  },
  {
   "cell_type": "markdown",
   "metadata": {},
   "source": [
    "### 3.10.6 Precision (查准率）"
   ]
  },
  {
   "cell_type": "code",
   "execution_count": 22,
   "metadata": {},
   "outputs": [],
   "source": [
    "subtotal_predict = [0] * 2 \n",
    "for item in y_predict_filtered_concatenate_list:\n",
    "    subtotal_predict[item] = subtotal_predict[item] + 1"
   ]
  },
  {
   "cell_type": "markdown",
   "metadata": {},
   "source": [
    "#### predict number divided by y predicted"
   ]
  },
  {
   "cell_type": "code",
   "execution_count": 23,
   "metadata": {},
   "outputs": [],
   "source": [
    "cm_p = []\n",
    "for i in range(2):\n",
    "    cm_p.append(cm[:,i]/subtotal_predict[i])"
   ]
  },
  {
   "cell_type": "code",
   "execution_count": 24,
   "metadata": {},
   "outputs": [
    {
     "data": {
      "text/html": [
       "<div>\n",
       "<style scoped>\n",
       "    .dataframe tbody tr th:only-of-type {\n",
       "        vertical-align: middle;\n",
       "    }\n",
       "\n",
       "    .dataframe tbody tr th {\n",
       "        vertical-align: top;\n",
       "    }\n",
       "\n",
       "    .dataframe thead th {\n",
       "        text-align: right;\n",
       "    }\n",
       "</style>\n",
       "<table border=\"1\" class=\"dataframe\">\n",
       "  <thead>\n",
       "    <tr style=\"text-align: right;\">\n",
       "      <th></th>\n",
       "      <th>chr_x</th>\n",
       "      <th>chr_x_isochromosome</th>\n",
       "    </tr>\n",
       "  </thead>\n",
       "  <tbody>\n",
       "    <tr>\n",
       "      <th>chr_x</th>\n",
       "      <td>0.954315</td>\n",
       "      <td>0.045685</td>\n",
       "    </tr>\n",
       "    <tr>\n",
       "      <th>chr_x_isochromosome</th>\n",
       "      <td>0.018519</td>\n",
       "      <td>0.981481</td>\n",
       "    </tr>\n",
       "  </tbody>\n",
       "</table>\n",
       "</div>"
      ],
      "text/plain": [
       "                        chr_x  chr_x_isochromosome\n",
       "chr_x                0.954315             0.045685\n",
       "chr_x_isochromosome  0.018519             0.981481"
      ]
     },
     "execution_count": 24,
     "metadata": {},
     "output_type": "execute_result"
    }
   ],
   "source": [
    "confusion_p = pd.DataFrame(cm_p, index=label_convert,\n",
    "                        columns=label_convert)\n",
    "confusion_p.to_csv('ConfusionMatrix_Precision_Integration_CNN.csv')\n",
    "confusion_p"
   ]
  },
  {
   "cell_type": "markdown",
   "metadata": {},
   "source": [
    "#### Heat Map: Number"
   ]
  },
  {
   "cell_type": "code",
   "execution_count": 25,
   "metadata": {
    "scrolled": false
   },
   "outputs": [
    {
     "data": {
      "image/png": "[encoded data removed]",
      "text/plain": [
       "<Figure size 2160x1728 with 2 Axes>"
      ]
     },
     "metadata": {
      "needs_background": "light"
     },
     "output_type": "display_data"
    }
   ],
   "source": [
    "plt.figure(figsize=(30, 24))\n",
    "heat_map = sb.heatmap(confusion, annot=True,  # It's a Seaborn function\n",
    "                      cmap='coolwarm', \n",
    "                      xticklabels=confusion.columns, yticklabels=confusion.index, \n",
    "                      linewidths=.5, \n",
    "                      annot_kws={\"size\": 20})\n",
    "sb.set(font_scale = 2)"
   ]
  },
  {
   "cell_type": "markdown",
   "metadata": {},
   "source": [
    "#### Heat Map of Recall: Rate (important!!!)"
   ]
  },
  {
   "cell_type": "code",
   "execution_count": 26,
   "metadata": {
    "scrolled": false
   },
   "outputs": [
    {
     "data": {
      "image/png": "[encoded data removed]",
      "text/plain": [
       "<Figure size 2160x1728 with 2 Axes>"
      ]
     },
     "metadata": {},
     "output_type": "display_data"
    }
   ],
   "source": [
    "plt.figure(figsize=(30, 24))\n",
    "heat_map_r = sb.heatmap(confusion_r, annot=True,  # It's a Seaborn function\n",
    "                      cmap='coolwarm', \n",
    "                      xticklabels=confusion.columns, yticklabels=confusion.index, \n",
    "                      linewidths=1, \n",
    "                      annot_kws={\"size\": 18})\n",
    "sb.set(font_scale = 2)"
   ]
  },
  {
   "cell_type": "code",
   "execution_count": 27,
   "metadata": {},
   "outputs": [
    {
     "data": {
      "image/png": "[encoded data removed]",
      "text/plain": [
       "<Figure size 2160x1728 with 2 Axes>"
      ]
     },
     "metadata": {},
     "output_type": "display_data"
    }
   ],
   "source": [
    "plt.figure(figsize=(30, 24))\n",
    "heat_map_p = sb.heatmap(confusion_p, annot=True,  # It's a Seaborn function\n",
    "                      cmap='coolwarm', \n",
    "                      xticklabels=confusion.columns, yticklabels=confusion.index, \n",
    "                      linewidths=1, \n",
    "                      annot_kws={\"size\": 18})\n",
    "sb.set(font_scale = 2)"
   ]
  },
  {
   "cell_type": "code",
   "execution_count": 28,
   "metadata": {},
   "outputs": [],
   "source": [
    "fig = heat_map.get_figure()    \n",
    "fig.savefig('Heatmap_Combination.png', dpi=400)"
   ]
  },
  {
   "cell_type": "code",
   "execution_count": 29,
   "metadata": {},
   "outputs": [],
   "source": [
    "fig_r = heat_map_r.get_figure()    \n",
    "fig_r.savefig('Heatmap_Recall_Combination.png', dpi=400)"
   ]
  },
  {
   "cell_type": "code",
   "execution_count": 30,
   "metadata": {},
   "outputs": [],
   "source": [
    "fig_p = heat_map_p.get_figure()    \n",
    "fig_p.savefig('Heatmap_Precision_Combination.png', dpi=400)"
   ]
  },
  {
   "cell_type": "markdown",
   "metadata": {},
   "source": [
    "# ROC Curve"
   ]
  },
  {
   "cell_type": "code",
   "execution_count": 31,
   "metadata": {},
   "outputs": [
    {
     "data": {
      "text/plain": [
       "array([[1.00000000e+00, 1.41964496e-11],\n",
       "       [1.00000000e+00, 2.73697265e-09],\n",
       "       [1.00000000e+00, 1.24059901e-13],\n",
       "       [1.00000000e+00, 1.01538370e-11],\n",
       "       [9.96503353e-01, 2.07159435e-03],\n",
       "       [1.00000000e+00, 4.94483920e-08],\n",
       "       [9.99987841e-01, 5.51385983e-06],\n",
       "       [1.00000000e+00, 5.35543623e-11],\n",
       "       [9.99999881e-01, 2.55633296e-07],\n",
       "       [1.00000000e+00, 1.01425424e-09],\n",
       "       [9.99943018e-01, 1.06845575e-04],\n",
       "       [9.99999642e-01, 1.63253389e-07],\n",
       "       [1.00000000e+00, 8.73564190e-08],\n",
       "       [9.99996543e-01, 5.95783195e-06],\n",
       "       [9.99980688e-01, 1.43426041e-05],\n",
       "       [9.99989390e-01, 8.16818465e-06],\n",
       "       [9.99999881e-01, 3.37882256e-07],\n",
       "       [9.99999881e-01, 8.01501301e-07],\n",
       "       [9.99853015e-01, 2.07808378e-04],\n",
       "       [9.96531069e-01, 2.47061159e-03],\n",
       "       [9.97263312e-01, 3.04602156e-03],\n",
       "       [9.99998808e-01, 1.40038537e-06],\n",
       "       [9.99999046e-01, 5.83406745e-06],\n",
       "       [9.99999523e-01, 1.55913608e-06],\n",
       "       [1.00000000e+00, 1.23988599e-07],\n",
       "       [1.00000000e+00, 3.88432797e-09],\n",
       "       [9.99794543e-01, 3.00160988e-04],\n",
       "       [5.80620544e-04, 9.97099161e-01],\n",
       "       [7.58688556e-10, 1.00000000e+00],\n",
       "       [9.97018099e-01, 5.93081582e-03],\n",
       "       [4.78560338e-03, 9.87328529e-01],\n",
       "       [4.00517347e-05, 9.99421120e-01],\n",
       "       [2.90230359e-03, 9.92417097e-01],\n",
       "       [7.97124267e-06, 9.99953747e-01],\n",
       "       [6.61600083e-02, 8.49518836e-01],\n",
       "       [5.44914983e-05, 9.99388456e-01],\n",
       "       [1.00000000e+00, 2.22855220e-10],\n",
       "       [1.00000000e+00, 1.03256480e-05],\n",
       "       [1.00000000e+00, 4.99942199e-10],\n",
       "       [1.00000000e+00, 1.58820013e-10],\n",
       "       [1.00000000e+00, 1.62941845e-07],\n",
       "       [1.00000000e+00, 5.77181993e-07],\n",
       "       [1.00000000e+00, 1.19865845e-07],\n",
       "       [1.00000000e+00, 4.07258334e-08],\n",
       "       [1.00000000e+00, 5.50630723e-08],\n",
       "       [1.00000000e+00, 1.42180643e-05],\n",
       "       [9.99999523e-01, 2.58386353e-05],\n",
       "       [1.00000000e+00, 5.14250331e-09],\n",
       "       [9.99999642e-01, 3.68798428e-05],\n",
       "       [1.00000000e+00, 3.70560083e-05],\n",
       "       [1.00000000e+00, 1.96020977e-08],\n",
       "       [1.00000000e+00, 2.23226357e-06],\n",
       "       [1.00000000e+00, 3.06032732e-09],\n",
       "       [1.00000000e+00, 1.85220870e-07],\n",
       "       [1.00000000e+00, 1.29720602e-05],\n",
       "       [1.00000000e+00, 4.39220882e-10],\n",
       "       [1.00000000e+00, 1.43274997e-06],\n",
       "       [1.00000000e+00, 3.88626376e-08],\n",
       "       [9.99988914e-01, 1.54990086e-03],\n",
       "       [1.00000000e+00, 8.00711314e-06],\n",
       "       [1.00000000e+00, 1.24847765e-09],\n",
       "       [1.00000000e+00, 9.77062484e-08],\n",
       "       [9.99969125e-01, 5.86804585e-04],\n",
       "       [5.66570908e-02, 9.99944925e-01],\n",
       "       [9.99999881e-01, 8.74259349e-05],\n",
       "       [3.17698759e-05, 9.99997616e-01],\n",
       "       [5.16833644e-03, 9.99833107e-01],\n",
       "       [3.58329271e-03, 9.99942422e-01],\n",
       "       [5.80013916e-03, 9.99875188e-01],\n",
       "       [1.30009413e-01, 9.99323964e-01],\n",
       "       [2.88231513e-05, 9.99999881e-01],\n",
       "       [4.38741881e-05, 9.99991894e-01],\n",
       "       [6.93468928e-01, 1.71103682e-02],\n",
       "       [1.00000000e+00, 6.30817826e-14],\n",
       "       [1.00000000e+00, 9.73700721e-12],\n",
       "       [1.00000000e+00, 2.27197728e-18],\n",
       "       [1.00000000e+00, 5.69860045e-12],\n",
       "       [1.00000000e+00, 1.54171478e-12],\n",
       "       [1.00000000e+00, 7.21812526e-18],\n",
       "       [1.00000000e+00, 9.01756373e-20],\n",
       "       [1.00000000e+00, 1.47880015e-16],\n",
       "       [9.99999166e-01, 9.61210276e-08],\n",
       "       [1.00000000e+00, 1.14275332e-10],\n",
       "       [1.00000000e+00, 9.19137162e-12],\n",
       "       [1.00000000e+00, 2.07572200e-14],\n",
       "       [1.00000000e+00, 4.41364889e-10],\n",
       "       [1.00000000e+00, 3.91035607e-11],\n",
       "       [9.99999881e-01, 1.12937650e-08],\n",
       "       [1.00000000e+00, 2.30545292e-12],\n",
       "       [1.00000000e+00, 5.20078934e-13],\n",
       "       [9.99999881e-01, 1.66451297e-08],\n",
       "       [1.00000000e+00, 5.68887298e-11],\n",
       "       [1.00000000e+00, 1.72451187e-09],\n",
       "       [1.00000000e+00, 1.38407286e-09],\n",
       "       [1.00000000e+00, 1.38632427e-16],\n",
       "       [9.99999881e-01, 6.74826728e-09],\n",
       "       [1.00000000e+00, 4.08853030e-12],\n",
       "       [9.99999881e-01, 6.16954532e-09],\n",
       "       [1.00000000e+00, 5.09319587e-10],\n",
       "       [3.08321063e-10, 9.99999881e-01],\n",
       "       [5.85555293e-09, 9.99996781e-01],\n",
       "       [9.71525311e-01, 6.11953903e-04],\n",
       "       [9.99999881e-01, 2.41042368e-08],\n",
       "       [5.70962158e-12, 1.00000000e+00],\n",
       "       [4.10454268e-05, 9.95868444e-01],\n",
       "       [2.33416557e-01, 2.38026768e-01],\n",
       "       [9.95036066e-01, 3.48213338e-03],\n",
       "       [8.70516089e-07, 9.99948859e-01],\n",
       "       [9.99996901e-01, 1.22338963e-06],\n",
       "       [9.99961853e-01, 8.39197946e-06],\n",
       "       [1.00000000e+00, 7.46698703e-09],\n",
       "       [9.99993563e-01, 1.37167115e-06],\n",
       "       [9.99918103e-01, 1.26179884e-05],\n",
       "       [1.00000000e+00, 2.71900146e-12],\n",
       "       [9.92085278e-01, 2.01671780e-03],\n",
       "       [9.99991894e-01, 8.06952130e-07],\n",
       "       [1.00000000e+00, 4.05739831e-10],\n",
       "       [9.99999881e-01, 8.52917648e-09],\n",
       "       [9.99646068e-01, 1.63361241e-04],\n",
       "       [9.99985456e-01, 8.01280385e-06],\n",
       "       [9.99993086e-01, 1.91429604e-06],\n",
       "       [9.81151164e-01, 9.94550437e-03],\n",
       "       [9.99998569e-01, 5.21941558e-07],\n",
       "       [9.99967575e-01, 9.96497511e-06],\n",
       "       [9.99999285e-01, 2.49196034e-07],\n",
       "       [9.99908209e-01, 5.08559206e-05],\n",
       "       [9.99660134e-01, 1.75384659e-04],\n",
       "       [9.99998569e-01, 4.09482141e-07],\n",
       "       [9.99999881e-01, 5.12006437e-08],\n",
       "       [9.99906063e-01, 6.17684127e-05],\n",
       "       [9.99990940e-01, 2.81102234e-06],\n",
       "       [9.99999762e-01, 1.54814529e-07],\n",
       "       [9.99999881e-01, 2.86115505e-08],\n",
       "       [9.99998212e-01, 1.14501040e-06],\n",
       "       [1.00000000e+00, 3.90535915e-09],\n",
       "       [4.43474946e-08, 1.00000000e+00],\n",
       "       [1.29162136e-05, 9.99984860e-01],\n",
       "       [1.23591717e-05, 9.99990463e-01],\n",
       "       [1.42064482e-05, 9.99979615e-01],\n",
       "       [7.11030953e-05, 9.99966741e-01],\n",
       "       [8.74894823e-08, 1.00000000e+00],\n",
       "       [9.99958992e-01, 2.65804247e-05],\n",
       "       [2.96007274e-05, 9.99959826e-01],\n",
       "       [6.49786147e-04, 9.99342144e-01],\n",
       "       [9.99991894e-01, 5.16507316e-05],\n",
       "       [9.99996305e-01, 2.37357090e-05],\n",
       "       [9.99996901e-01, 7.68071186e-05],\n",
       "       [1.00000000e+00, 2.72187384e-10],\n",
       "       [9.99797761e-01, 3.22726206e-04],\n",
       "       [1.00000000e+00, 3.15796257e-07],\n",
       "       [9.99999881e-01, 7.53766301e-07],\n",
       "       [9.99968529e-01, 6.89370572e-05],\n",
       "       [9.99992490e-01, 1.52539957e-04],\n",
       "       [9.99962926e-01, 5.24503121e-04],\n",
       "       [9.99999762e-01, 1.28645815e-05],\n",
       "       [9.99996662e-01, 8.09782141e-05],\n",
       "       [9.99999762e-01, 5.70759221e-06],\n",
       "       [9.99999881e-01, 1.06226144e-05],\n",
       "       [9.99999523e-01, 1.69803843e-05],\n",
       "       [9.99994755e-01, 6.50054790e-05],\n",
       "       [9.99988556e-01, 8.61815133e-05],\n",
       "       [9.99990225e-01, 1.67400503e-04],\n",
       "       [9.99311090e-01, 8.03292147e-04],\n",
       "       [9.99999881e-01, 1.16807096e-05],\n",
       "       [9.99997735e-01, 9.57798329e-05],\n",
       "       [9.99998093e-01, 5.13321975e-05],\n",
       "       [9.99999285e-01, 2.04906046e-05],\n",
       "       [9.99994993e-01, 4.44613252e-05],\n",
       "       [9.99744713e-01, 2.24088412e-03],\n",
       "       [9.99959469e-01, 3.28751252e-04],\n",
       "       [9.99851465e-01, 1.46689557e-03],\n",
       "       [9.98063266e-01, 2.38208659e-02],\n",
       "       [6.33018964e-04, 9.99858379e-01],\n",
       "       [7.29980692e-02, 9.09950197e-01],\n",
       "       [1.77156448e-01, 9.87243950e-01],\n",
       "       [8.65687907e-05, 9.99641418e-01],\n",
       "       [3.84828490e-05, 9.99923110e-01],\n",
       "       [4.79159169e-02, 8.99189472e-01],\n",
       "       [8.10781773e-03, 9.98746991e-01],\n",
       "       [1.11378595e-01, 9.47861910e-01],\n",
       "       [1.00000000e+00, 3.96285893e-09],\n",
       "       [1.00000000e+00, 2.87713809e-13],\n",
       "       [9.99985695e-01, 9.36574270e-06],\n",
       "       [1.00000000e+00, 1.93665732e-14],\n",
       "       [9.99967813e-01, 1.88372414e-05],\n",
       "       [9.99982715e-01, 7.30144666e-06],\n",
       "       [1.00000000e+00, 4.41832615e-09],\n",
       "       [9.99999881e-01, 4.55340157e-08],\n",
       "       [9.99678135e-01, 2.89426738e-04],\n",
       "       [9.99986053e-01, 9.89328510e-06],\n",
       "       [9.99999285e-01, 5.21023992e-07],\n",
       "       [9.99999166e-01, 2.04397068e-07],\n",
       "       [9.94047523e-01, 2.88593303e-03],\n",
       "       [1.00000000e+00, 4.27521837e-11],\n",
       "       [9.99987006e-01, 4.99346515e-06],\n",
       "       [3.29305917e-01, 4.20073837e-01],\n",
       "       [9.99999881e-01, 2.99681204e-08],\n",
       "       [1.00000000e+00, 1.46015093e-08],\n",
       "       [1.00000000e+00, 6.27079569e-11],\n",
       "       [1.00000000e+00, 2.62350863e-10],\n",
       "       [1.00000000e+00, 1.11299958e-09],\n",
       "       [1.00000000e+00, 9.16616089e-12],\n",
       "       [5.03933430e-01, 4.56486255e-01],\n",
       "       [1.00000000e+00, 5.17643262e-10],\n",
       "       [9.99999762e-01, 7.23848359e-08],\n",
       "       [9.99978185e-01, 1.00450934e-05],\n",
       "       [1.00000000e+00, 7.94633781e-09],\n",
       "       [6.08907081e-02, 9.11962032e-01],\n",
       "       [6.57291878e-07, 9.99999762e-01],\n",
       "       [3.98644537e-04, 9.99787629e-01],\n",
       "       [1.71531792e-04, 9.99866009e-01],\n",
       "       [1.56791830e-05, 9.99987602e-01],\n",
       "       [9.06711357e-05, 9.99922752e-01],\n",
       "       [2.49675886e-05, 9.99986768e-01],\n",
       "       [2.89911732e-05, 9.99978185e-01],\n",
       "       [5.03405954e-06, 9.99993682e-01],\n",
       "       [1.00000000e+00, 9.09808395e-10],\n",
       "       [1.00000000e+00, 3.45923512e-10],\n",
       "       [1.00000000e+00, 2.61718860e-08],\n",
       "       [1.00000000e+00, 3.92560686e-08],\n",
       "       [9.69381630e-01, 1.44260243e-01],\n",
       "       [9.99999881e-01, 1.57251600e-06],\n",
       "       [9.99849796e-01, 6.77970063e-04],\n",
       "       [9.99472558e-01, 3.75326118e-03],\n",
       "       [9.99978781e-01, 3.59037193e-04],\n",
       "       [9.99998689e-01, 1.71581250e-05],\n",
       "       [1.00000000e+00, 2.12715379e-09],\n",
       "       [1.00000000e+00, 4.40982092e-07],\n",
       "       [1.00000000e+00, 3.37729887e-07],\n",
       "       [1.00000000e+00, 5.56817042e-07],\n",
       "       [1.00000000e+00, 4.48545947e-08],\n",
       "       [1.00000000e+00, 7.84428735e-08],\n",
       "       [1.00000000e+00, 1.00932698e-06],\n",
       "       [1.00000000e+00, 1.25967915e-07],\n",
       "       [1.00000000e+00, 1.28992056e-07],\n",
       "       [9.99996543e-01, 3.87518339e-05],\n",
       "       [1.00000000e+00, 9.97960001e-07],\n",
       "       [1.00000000e+00, 8.94137486e-07],\n",
       "       [9.99999881e-01, 2.36495089e-06],\n",
       "       [1.00000000e+00, 1.43751686e-06],\n",
       "       [9.99999762e-01, 5.31074056e-06],\n",
       "       [1.00000000e+00, 2.65716027e-09],\n",
       "       [9.99994636e-01, 5.73727048e-05],\n",
       "       [4.74763920e-06, 9.99998808e-01],\n",
       "       [7.77054131e-01, 6.96814716e-01],\n",
       "       [1.74510080e-06, 9.99999881e-01],\n",
       "       [1.87862203e-01, 9.98213291e-01],\n",
       "       [9.99986291e-01, 1.44586375e-04],\n",
       "       [3.04684392e-03, 9.99632120e-01],\n",
       "       [9.48086963e-05, 9.99974966e-01],\n",
       "       [1.86057612e-02, 9.88569677e-01]], dtype=float32)"
      ]
     },
     "execution_count": 31,
     "metadata": {},
     "output_type": "execute_result"
    }
   ],
   "source": [
    "y_predict_concatenate_array = np.array(y_predict_concatenate_list)\n",
    "y_predict_concatenate_array"
   ]
  },
  {
   "cell_type": "code",
   "execution_count": 32,
   "metadata": {},
   "outputs": [
    {
     "data": {
      "text/plain": [
       "(251, 2)"
      ]
     },
     "execution_count": 32,
     "metadata": {},
     "output_type": "execute_result"
    }
   ],
   "source": [
    "y_predict_concatenate_array.shape"
   ]
  },
  {
   "cell_type": "code",
   "execution_count": 33,
   "metadata": {},
   "outputs": [],
   "source": [
    "y_predict_1D = y_predict_concatenate_array[:,0]"
   ]
  },
  {
   "cell_type": "code",
   "execution_count": 34,
   "metadata": {},
   "outputs": [],
   "source": [
    "y_predict_1D_processed = 1- y_predict_1D"
   ]
  },
  {
   "cell_type": "code",
   "execution_count": 35,
   "metadata": {},
   "outputs": [],
   "source": [
    "fpr , tpr , thresholds = roc_curve(y_test_concatenate_list , y_predict_1D_processed)\n",
    "auc_rf = auc(fpr, tpr)"
   ]
  },
  {
   "cell_type": "code",
   "execution_count": 36,
   "metadata": {},
   "outputs": [
    {
     "data": {
      "text/plain": [
       "0.9761051373954599"
      ]
     },
     "execution_count": 36,
     "metadata": {},
     "output_type": "execute_result"
    }
   ],
   "source": [
    "auc_rf"
   ]
  },
  {
   "cell_type": "code",
   "execution_count": 37,
   "metadata": {},
   "outputs": [],
   "source": [
    "x = y = np.arange(0, 1.1, 0.1)"
   ]
  },
  {
   "cell_type": "code",
   "execution_count": 38,
   "metadata": {},
   "outputs": [
    {
     "data": {
      "text/plain": [
       "array([0. , 0.1, 0.2, 0.3, 0.4, 0.5, 0.6, 0.7, 0.8, 0.9, 1. ])"
      ]
     },
     "execution_count": 38,
     "metadata": {},
     "output_type": "execute_result"
    }
   ],
   "source": [
    "x"
   ]
  },
  {
   "cell_type": "code",
   "execution_count": 39,
   "metadata": {
    "scrolled": true
   },
   "outputs": [
    {
     "data": {
      "image/png": "[encoded data removed]",
      "text/plain": [
       "<Figure size 432x288 with 1 Axes>"
      ]
     },
     "metadata": {},
     "output_type": "display_data"
    }
   ],
   "source": [
    "fig = plt.figure()\n",
    "plt.style.use('classic')\n",
    "\n",
    "ax = fig.add_subplot(111)\n",
    "\n",
    "plt.plot(fpr, tpr, color='blue', linewidth=0.9)\n",
    "\n",
    "plt.plot(x, y, '--', color='black', linewidth=0.8)\n",
    "\n",
    "plt.title('ROC curve of Chr X Isochromosome', fontsize=12, fontname = 'Times New Roman')\n",
    "\n",
    "plt.xlabel('False Positive Rate', fontsize=11, fontname = 'Times New Roman')\n",
    "plt.ylabel('True positive Rate', fontsize=11, fontname = 'Times New Roman')\n",
    "\n",
    "ax.set_aspect('equal', adjustable='box')\n",
    "\n",
    "plt.xlim(-0.08, 1.1)\n",
    "plt.ylim(-0.08, 1.1)\n",
    "\n",
    "plt.xticks(fontsize=9, fontname = 'Arial')\n",
    "plt.yticks(fontsize=9, fontname = 'Arial')\n",
    "\n",
    "plt.savefig('ROC_Curve_Combination.png', dpi=400)\n",
    "plt.show()"
   ]
  },
  {
   "cell_type": "markdown",
   "metadata": {},
   "source": [
    "#### 3.10.4.1 AUC Value"
   ]
  },
  {
   "cell_type": "code",
   "execution_count": 40,
   "metadata": {},
   "outputs": [],
   "source": [
    "auc_value = auc(fpr, tpr)"
   ]
  },
  {
   "cell_type": "code",
   "execution_count": 41,
   "metadata": {},
   "outputs": [
    {
     "name": "stdout",
     "output_type": "stream",
     "text": [
      "AUC is  0.9761051373954599\n"
     ]
    }
   ],
   "source": [
    "print('AUC is ', auc_value)"
   ]
  },
  {
   "cell_type": "markdown",
   "metadata": {},
   "source": [
    "# Results"
   ]
  },
  {
   "cell_type": "code",
   "execution_count": 42,
   "metadata": {},
   "outputs": [
    {
     "name": "stdout",
     "output_type": "stream",
     "text": [
      "Test Accuracy: 0.960\n"
     ]
    }
   ],
   "source": [
    "print('Test Accuracy: %.3f' % acc)"
   ]
  },
  {
   "cell_type": "code",
   "execution_count": 43,
   "metadata": {
    "scrolled": true
   },
   "outputs": [
    {
     "name": "stdout",
     "output_type": "stream",
     "text": [
      "                     precision    recall  f1-score   support\n",
      "\n",
      "              chr_x       0.95      0.99      0.97       189\n",
      "chr_x_isochromosome       0.98      0.85      0.91        62\n",
      "\n",
      "          micro avg       0.96      0.96      0.96       251\n",
      "          macro avg       0.97      0.92      0.94       251\n",
      "       weighted avg       0.96      0.96      0.96       251\n",
      "\n"
     ]
    }
   ],
   "source": [
    "print(performanceReport)"
   ]
  },
  {
   "cell_type": "code",
   "execution_count": 44,
   "metadata": {},
   "outputs": [
    {
     "data": {
      "text/plain": [
       "str"
      ]
     },
     "execution_count": 44,
     "metadata": {},
     "output_type": "execute_result"
    }
   ],
   "source": [
    "type(performanceReport)"
   ]
  },
  {
   "cell_type": "code",
   "execution_count": 45,
   "metadata": {},
   "outputs": [
    {
     "name": "stdout",
     "output_type": "stream",
     "text": [
      "AUC is  0.9761051373954599\n"
     ]
    }
   ],
   "source": [
    "print('AUC is ', auc_value)"
   ]
  },
  {
   "cell_type": "markdown",
   "metadata": {},
   "source": [
    "## Export to a text file"
   ]
  },
  {
   "cell_type": "code",
   "execution_count": 46,
   "metadata": {},
   "outputs": [],
   "source": [
    "file_report = open('ResultsCombination.txt', 'w')\n",
    "file_report.write('Accuracy: %s\\n\\n' % acc)\n",
    "file_report.write('AUC: %s.\\n\\n' % auc_value)\n",
    "file_report.write('Performance Report: \\n%s\\n\\n' % performanceReport)\n",
    "file_report.write('Confusion Matrix: \\n%s.\\n\\n' % confusion)\n",
    "file_report.write('Recall of Confusion Matrix: \\n%s.\\n\\n' % confusion_r)\n",
    "file_report.write('Precision of Confusion Matrix: \\n%s.\\n\\n' % confusion_p)\n",
    "file_report.close()"
   ]
  }
 ],
 "metadata": {
  "kernelspec": {
   "display_name": "Python 3",
   "language": "python",
   "name": "python3"
  },
  "language_info": {
   "codemirror_mode": {
    "name": "ipython",
    "version": 3
   },
   "file_extension": ".py",
   "mimetype": "text/x-python",
   "name": "python",
   "nbconvert_exporter": "python",
   "pygments_lexer": "ipython3",
   "version": "3.7.3"
  }
 },
 "nbformat": 4,
 "nbformat_minor": 2
}
