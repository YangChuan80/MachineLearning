{
 "cells": [
  {
   "cell_type": "markdown",
   "metadata": {
    "colab_type": "text",
    "id": "slIdjqTJhM8B"
   },
   "source": [
    "# A Semi-automatic Classification of Normal Karyotypes using Convolutional Neural Network Algorithm"
   ]
  },
  {
   "cell_type": "markdown",
   "metadata": {
    "colab_type": "text",
    "id": "aBT9lgVVhM8D"
   },
   "source": [
    "- **Chuan Yang**, MD, PhD Student\n",
    "- Mentor: **Yanyan Zhao**, MD, PhD\n",
    "- Shengjing Hospital of China Medical University"
   ]
  },
  {
   "cell_type": "markdown",
   "metadata": {
    "colab_type": "text",
    "id": "xrnbxOZChM8E"
   },
   "source": [
    "## Modules"
   ]
  },
  {
   "cell_type": "code",
   "execution_count": 1,
   "metadata": {
    "colab": {},
    "colab_type": "code",
    "id": "aKjA8v4hhM8E"
   },
   "outputs": [],
   "source": [
    "from PIL import Image\n",
    "import numpy as np\n",
    "import pandas as pd\n",
    "import matplotlib.pyplot as plt\n",
    "\n",
    "import seaborn as sb\n",
    "\n",
    "from sklearn.metrics import classification_report, confusion_matrix, roc_curve\n",
    "\n",
    "from tensorflow.keras import Sequential\n",
    "from tensorflow.keras.layers import Dense, Conv2D, MaxPooling2D, Flatten\n",
    "from tensorflow import keras\n",
    "\n",
    "from os import walk\n",
    "\n",
    "import time\n",
    "import datetime\n",
    "\n",
    "%matplotlib inline"
   ]
  },
  {
   "cell_type": "markdown",
   "metadata": {
    "colab_type": "text",
    "id": "2KFSsnYohM8H"
   },
   "source": [
    "## Samples\n"
   ]
  },
  {
   "cell_type": "markdown",
   "metadata": {},
   "source": [
    "## Chormosome Label Convert by using Dictionary"
   ]
  },
  {
   "cell_type": "code",
   "execution_count": 2,
   "metadata": {},
   "outputs": [],
   "source": [
    "chromConvert = {'chr_01': 1, \n",
    "               'chr_02': 2, \n",
    "               'chr_03': 3, \n",
    "               'chr_04': 4, \n",
    "               'chr_05': 5, \n",
    "               'chr_06': 6, \n",
    "               'chr_07': 7, \n",
    "               'chr_08': 8, \n",
    "               'chr_09': 9, \n",
    "               'chr_10': 10, \n",
    "               'chr_11': 11, \n",
    "               'chr_12': 12, \n",
    "               'chr_13': 13, \n",
    "               'chr_14': 14, \n",
    "               'chr_15': 15, \n",
    "               'chr_16': 16, \n",
    "               'chr_17': 17, \n",
    "               'chr_18': 18, \n",
    "               'chr_19': 19, \n",
    "               'chr_20': 20, \n",
    "               'chr_21': 21, \n",
    "               'chr_22': 22, \n",
    "               'chr_x': 0, \n",
    "               'chr_y': 23, \n",
    "                'chr_18_p11_deletion': 24,\n",
    "                'chr_18_q10_isochromosome': 25,\n",
    "                'chr_9_inversion': 26,\n",
    "                'chr_5_p14_deletion': 27,\n",
    "                'chr_x_isochromosome': 28,\n",
    "                'chr_x_p22_cnv': 29, \n",
    "                'chr_x_q21_cnv': 30,\n",
    "                'chr_x_q22_deletion': 31\n",
    "               }"
   ]
  },
  {
   "cell_type": "markdown",
   "metadata": {},
   "source": [
    "## File Import"
   ]
  },
  {
   "cell_type": "code",
   "execution_count": 3,
   "metadata": {
    "colab": {},
    "colab_type": "code",
    "id": "8YcabYh2hM8I"
   },
   "outputs": [],
   "source": [
    "#pathBase = 'C:\\\\Users\\\\Chuan\\\\OneDrive\\\\Dowrun\\\\Database\\\\PhD\\\\KaryoTypes\\\\Arrangement\\\\'\n",
    "pathBase = 'I:\\\\Chuan\\\\Documents\\\\MyData\\\\PhD\\\\Karyotype\\\\Arrangement\\\\'\n",
    "#pathBase = 'D:\\\\Users\\\\Chuan\\\\Documents\\\\Database\\\\Karyotypes\\\\Arrangement\\\\'\n",
    "\n",
    "theWhole = {}\n",
    "\n",
    "\n",
    "f = []\n",
    "f_09 = []\n",
    "mypath_09 = pathBase + 'chr_09'\n",
    "for (dirpath, dirnames, filenames) in walk(mypath_09):\n",
    "    f.extend(filenames)\n",
    "for l in f:\n",
    "    f_09.append(mypath_09 + '\\\\' + l)    \n",
    "    \n",
    "  \n",
    "# ///////// Abnormal ones //////////////\n",
    "\n",
    "f = []\n",
    "f_9_inversion = []\n",
    "mypath_9_inversion = pathBase + 'chr_9_inversion'\n",
    "for (dirpath, dirnames, filenames) in walk(mypath_9_inversion):\n",
    "    f.extend(filenames)\n",
    "for l in f:\n",
    "    f_9_inversion.append(mypath_9_inversion + '\\\\' + l)  \n",
    "\n",
    "theWhole['chr_09'] = f_09\n",
    "\n",
    "theWhole['chr_9_inversion'] = f_9_inversion"
   ]
  },
  {
   "cell_type": "code",
   "execution_count": 4,
   "metadata": {
    "colab": {},
    "colab_type": "code",
    "id": "6d8Ej2MShM8K",
    "outputId": "da32c938-49bb-4cec-9ded-708887ff9d05",
    "scrolled": false
   },
   "outputs": [
    {
     "data": {
      "text/plain": [
       "['I:\\\\Chuan\\\\Documents\\\\MyData\\\\PhD\\\\Karyotype\\\\Arrangement\\\\chr_9_inversion\\\\W27694-1.jpg.9inv.bmp',\n",
       " 'I:\\\\Chuan\\\\Documents\\\\MyData\\\\PhD\\\\Karyotype\\\\Arrangement\\\\chr_9_inversion\\\\W27694-10.jpg.9inv.bmp',\n",
       " 'I:\\\\Chuan\\\\Documents\\\\MyData\\\\PhD\\\\Karyotype\\\\Arrangement\\\\chr_9_inversion\\\\W27694-11.jpg.9inv.bmp',\n",
       " 'I:\\\\Chuan\\\\Documents\\\\MyData\\\\PhD\\\\Karyotype\\\\Arrangement\\\\chr_9_inversion\\\\W27694-12.jpg.9inv.bmp',\n",
       " 'I:\\\\Chuan\\\\Documents\\\\MyData\\\\PhD\\\\Karyotype\\\\Arrangement\\\\chr_9_inversion\\\\W27694-2_.jpg.9invs.bmp',\n",
       " 'I:\\\\Chuan\\\\Documents\\\\MyData\\\\PhD\\\\Karyotype\\\\Arrangement\\\\chr_9_inversion\\\\W27694-3.jpg.9inv.bmp',\n",
       " 'I:\\\\Chuan\\\\Documents\\\\MyData\\\\PhD\\\\Karyotype\\\\Arrangement\\\\chr_9_inversion\\\\W27694-4.jpg.9inv.bmp',\n",
       " 'I:\\\\Chuan\\\\Documents\\\\MyData\\\\PhD\\\\Karyotype\\\\Arrangement\\\\chr_9_inversion\\\\W27694-5.jpg.9inv.bmp',\n",
       " 'I:\\\\Chuan\\\\Documents\\\\MyData\\\\PhD\\\\Karyotype\\\\Arrangement\\\\chr_9_inversion\\\\W27694-6.jpg.9inv.bmp',\n",
       " 'I:\\\\Chuan\\\\Documents\\\\MyData\\\\PhD\\\\Karyotype\\\\Arrangement\\\\chr_9_inversion\\\\W27694-7.jpg.9inv.bmp',\n",
       " 'I:\\\\Chuan\\\\Documents\\\\MyData\\\\PhD\\\\Karyotype\\\\Arrangement\\\\chr_9_inversion\\\\W27694-8.jpg.9inv.bmp',\n",
       " 'I:\\\\Chuan\\\\Documents\\\\MyData\\\\PhD\\\\Karyotype\\\\Arrangement\\\\chr_9_inversion\\\\W27694-9.jpg.9inv.bmp']"
      ]
     },
     "execution_count": 4,
     "metadata": {},
     "output_type": "execute_result"
    }
   ],
   "source": [
    "theWhole['chr_9_inversion']"
   ]
  },
  {
   "cell_type": "markdown",
   "metadata": {
    "colab_type": "text",
    "id": "cKiAborxhM8N"
   },
   "source": [
    "## Image Input"
   ]
  },
  {
   "cell_type": "code",
   "execution_count": 5,
   "metadata": {
    "colab": {},
    "colab_type": "code",
    "id": "h88BOm8UhM8N",
    "outputId": "4f89df64-4a3c-43f0-a34e-00d88a3d8d16",
    "scrolled": false
   },
   "outputs": [
    {
     "name": "stdout",
     "output_type": "stream",
     "text": [
      "0.09672927856445312\n"
     ]
    }
   ],
   "source": [
    "start = time.time()\n",
    "\n",
    "image = {}\n",
    "i = 0\n",
    "\n",
    "for chrNo in theWhole.keys():\n",
    "    image[chrNo] = []\n",
    "    for case in theWhole[chrNo]:\n",
    "        img = Image.open(case)\n",
    "        image[chrNo].append(img)\n",
    "    \n",
    "end = time.time()\n",
    "print(end - start)"
   ]
  },
  {
   "cell_type": "code",
   "execution_count": 6,
   "metadata": {
    "colab": {},
    "colab_type": "code",
    "id": "u7iYn89ShM8Q",
    "outputId": "95b42047-da5a-4f15-df45-dd89f5d37a72",
    "scrolled": true
   },
   "outputs": [
    {
     "data": {
      "image/png": "[encoded data removed]",
      "text/plain": [
       "<PIL.BmpImagePlugin.BmpImageFile image mode=RGB size=300x300 at 0x19E93414DA0>"
      ]
     },
     "execution_count": 6,
     "metadata": {},
     "output_type": "execute_result"
    }
   ],
   "source": [
    "image['chr_9_inversion'][1]"
   ]
  },
  {
   "cell_type": "markdown",
   "metadata": {
    "colab_type": "text",
    "id": "LMxjgFtHhM8S"
   },
   "source": [
    "## Functions"
   ]
  },
  {
   "cell_type": "code",
   "execution_count": 7,
   "metadata": {
    "colab": {},
    "colab_type": "code",
    "id": "EXeUvXLqhM8T"
   },
   "outputs": [],
   "source": [
    "def extractData(image):\n",
    "    x = image.size[0]\n",
    "    y = image.size[1]\n",
    "    \n",
    "    matrix = []\n",
    "    rgb_matrix = []\n",
    "\n",
    "    for i in range(x):\n",
    "        matrix.append([])\n",
    "        rgb_matrix.append([])\n",
    "        \n",
    "        for j in range(y):\n",
    "            r, g, b = image.getpixel((j, i))            \n",
    "            value = r * 299.0/1000 + g * 587.0/1000 + b * 114.0/1000\n",
    "            value = int(value)\n",
    "            matrix[i].append(value)\n",
    "            rgb_matrix[i].append((r,g,b))\n",
    "    return matrix, rgb_matrix"
   ]
  },
  {
   "cell_type": "code",
   "execution_count": 8,
   "metadata": {
    "colab": {},
    "colab_type": "code",
    "id": "PFXaHegmhM8V"
   },
   "outputs": [],
   "source": [
    "def imageReconstruct(matrix):\n",
    "    df = np.array(matrix, dtype=np.uint8)\n",
    "    img = Image.fromarray(df, 'RGB')\n",
    "    img.save('image.png')\n",
    "    return img"
   ]
  },
  {
   "cell_type": "markdown",
   "metadata": {
    "colab_type": "text",
    "id": "rW4l1hHBhM8X"
   },
   "source": [
    "## Data Extraction from Images"
   ]
  },
  {
   "cell_type": "code",
   "execution_count": 9,
   "metadata": {
    "colab": {},
    "colab_type": "code",
    "id": "9dHTmTyihM8Y",
    "outputId": "8868d731-9e6d-4f0a-bf56-39b488bbb765"
   },
   "outputs": [
    {
     "name": "stdout",
     "output_type": "stream",
     "text": [
      "19.54973340034485\n"
     ]
    }
   ],
   "source": [
    "start = time.time()\n",
    "\n",
    "data = {}\n",
    "#rgb_data = {}\n",
    "\n",
    "for chrNo in image.keys():\n",
    "    data[chrNo] = []; \n",
    "    #rgb_data[chrNo] = []\n",
    "    for case in image[chrNo]:\n",
    "        grey, rgb = extractData(case)\n",
    "        data[chrNo].append(grey)\n",
    "        #rgb_data[chrNo].append(rgb)\n",
    "        \n",
    "end = time.time()\n",
    "print(end - start)"
   ]
  },
  {
   "cell_type": "code",
   "execution_count": 10,
   "metadata": {
    "colab": {},
    "colab_type": "code",
    "id": "vjwPnXT9hM8a"
   },
   "outputs": [],
   "source": [
    "imageMatrix = np.array(data['chr_9_inversion'][1])"
   ]
  },
  {
   "cell_type": "code",
   "execution_count": 11,
   "metadata": {
    "colab": {},
    "colab_type": "code",
    "id": "1muxYWbyhM8e"
   },
   "outputs": [],
   "source": [
    "array = {}\n",
    "\n",
    "for chrNo in data.keys():\n",
    "    array[chrNo] = []\n",
    "    for case in data[chrNo]:            \n",
    "        array[chrNo].append(case)\n",
    "\n",
    "x_train_list = []\n",
    "y_train_list = []\n",
    "\n",
    "for y, x in array.items():    \n",
    "    for x_item in x:\n",
    "        x_train_list.append(x_item)\n",
    "        y_train_list.append(y)"
   ]
  },
  {
   "cell_type": "code",
   "execution_count": 12,
   "metadata": {
    "colab": {},
    "colab_type": "code",
    "id": "5wgG3agthM8i"
   },
   "outputs": [
    {
     "data": {
      "text/plain": [
       "300"
      ]
     },
     "execution_count": 12,
     "metadata": {},
     "output_type": "execute_result"
    }
   ],
   "source": [
    "len(x_train_list[1])"
   ]
  },
  {
   "cell_type": "code",
   "execution_count": 13,
   "metadata": {},
   "outputs": [
    {
     "data": {
      "text/plain": [
       "109"
      ]
     },
     "execution_count": 13,
     "metadata": {},
     "output_type": "execute_result"
    }
   ],
   "source": [
    "len(y_train_list)"
   ]
  },
  {
   "cell_type": "markdown",
   "metadata": {
    "colab_type": "text",
    "id": "dFpbXmQ6hM8j"
   },
   "source": [
    "### Validation Dataset"
   ]
  },
  {
   "cell_type": "code",
   "execution_count": 14,
   "metadata": {
    "colab": {},
    "colab_type": "code",
    "id": "Js0BRFerhM8k"
   },
   "outputs": [],
   "source": [
    "#pathBase = 'C:\\\\Users\\\\Chuan\\\\OneDrive\\\\Dowrun\\\\Database\\\\PhD\\\\KaryoTypes\\\\Arrangement\\\\test\\\\'\n",
    "pathBase = 'I:\\\\Chuan\\\\Documents\\\\MyData\\\\PhD\\\\Karyotype\\\\Arrangement\\\\test\\\\'\n",
    "#pathBase = 'D:\\\\Users\\\\Chuan\\\\Documents\\\\Database\\\\Karyotypes\\\\Arrangement\\\\test\\\\'\n",
    "\n",
    "theWhole = {}\n",
    "\n",
    "f = []\n",
    "f_09 = []\n",
    "mypath_09 = pathBase + 'chr_09'\n",
    "for (dirpath, dirnames, filenames) in walk(mypath_09):\n",
    "    f.extend(filenames)\n",
    "for l in f:\n",
    "    f_09.append(mypath_09 + '\\\\' + l)    \n",
    "    \n",
    "  \n",
    "# ///////// Abnormal ones //////////////\n",
    "\n",
    "f = []\n",
    "f_9_inversion = []\n",
    "mypath_9_inversion = pathBase + 'chr_9_inversion'\n",
    "for (dirpath, dirnames, filenames) in walk(mypath_9_inversion):\n",
    "    f.extend(filenames)\n",
    "for l in f:\n",
    "    f_9_inversion.append(mypath_9_inversion + '\\\\' + l)  \n",
    "\n",
    "theWhole['chr_09'] = f_09\n",
    "\n",
    "theWhole['chr_9_inversion'] = f_9_inversion"
   ]
  },
  {
   "cell_type": "code",
   "execution_count": 15,
   "metadata": {
    "colab": {},
    "colab_type": "code",
    "id": "NfFLITEfhM8n",
    "outputId": "f2767cf1-5d98-45a9-8a88-3d3d1afbed6c"
   },
   "outputs": [],
   "source": [
    "image = {}\n",
    "i = 0\n",
    "\n",
    "for chrNo in theWhole.keys():\n",
    "    image[chrNo] = []\n",
    "    for case in theWhole[chrNo]:\n",
    "        img = Image.open(case)\n",
    "        image[chrNo].append(img)    "
   ]
  },
  {
   "cell_type": "markdown",
   "metadata": {
    "colab_type": "text",
    "id": "3XDMPsD9hM8p"
   },
   "source": [
    "### Data Extraction"
   ]
  },
  {
   "cell_type": "code",
   "execution_count": 16,
   "metadata": {
    "colab": {},
    "colab_type": "code",
    "id": "Gb06RhsmhM8p",
    "outputId": "5e1c3d39-1202-4ebb-ab81-0290b816226f"
   },
   "outputs": [],
   "source": [
    "data = {}\n",
    "#rgb_data = {}\n",
    "\n",
    "for chrNo in image.keys():\n",
    "    data[chrNo] = []; \n",
    "    #rgb_data[chrNo] = []\n",
    "    for case in image[chrNo]:\n",
    "        grey, rgb = extractData(case)\n",
    "        data[chrNo].append(grey)\n",
    "        #rgb_data[chrNo].append(rgb)"
   ]
  },
  {
   "cell_type": "code",
   "execution_count": 17,
   "metadata": {
    "colab": {},
    "colab_type": "code",
    "id": "FeStRxHbhM8s"
   },
   "outputs": [],
   "source": [
    "array = {}\n",
    "\n",
    "for chrNo in data.keys():\n",
    "    array[chrNo] = []\n",
    "    for case in data[chrNo]:            \n",
    "        array[chrNo].append(case)\n",
    "\n",
    "x_test_list = []\n",
    "y_test_list = []\n",
    "\n",
    "for y, x in array.items():    \n",
    "    for x_item in x:\n",
    "        x_test_list.append(x_item)\n",
    "        y_test_list.append(y)"
   ]
  },
  {
   "cell_type": "markdown",
   "metadata": {},
   "source": [
    "## ChromConvert"
   ]
  },
  {
   "cell_type": "code",
   "execution_count": 18,
   "metadata": {},
   "outputs": [],
   "source": [
    "y_train_digital_list = []\n",
    "for item in y_train_list:\n",
    "    y_train_digital_list.append(chromConvert[item])\n",
    "    \n",
    "y_test_digital_list = []\n",
    "for item in y_test_list:\n",
    "    y_test_digital_list.append(chromConvert[item])"
   ]
  },
  {
   "cell_type": "markdown",
   "metadata": {},
   "source": [
    "## Numpy Array"
   ]
  },
  {
   "cell_type": "code",
   "execution_count": 19,
   "metadata": {},
   "outputs": [],
   "source": [
    "X_train = np.array(x_train_list)\n",
    "y_train = np.array(y_train_digital_list)"
   ]
  },
  {
   "cell_type": "code",
   "execution_count": 20,
   "metadata": {
    "colab": {},
    "colab_type": "code",
    "id": "ilm3FNfchM8w"
   },
   "outputs": [],
   "source": [
    "X_test = np.array(x_test_list)\n",
    "y_test = np.array(y_test_digital_list)"
   ]
  },
  {
   "cell_type": "code",
   "execution_count": 21,
   "metadata": {
    "scrolled": true
   },
   "outputs": [
    {
     "data": {
      "text/plain": [
       "array([ 9,  9,  9,  9,  9,  9,  9,  9,  9,  9, 26, 26, 26, 26, 26, 26, 26,\n",
       "       26, 26, 26])"
      ]
     },
     "execution_count": 21,
     "metadata": {},
     "output_type": "execute_result"
    }
   ],
   "source": [
    "y_test"
   ]
  },
  {
   "cell_type": "code",
   "execution_count": 22,
   "metadata": {},
   "outputs": [
    {
     "data": {
      "text/plain": [
       "109"
      ]
     },
     "execution_count": 22,
     "metadata": {},
     "output_type": "execute_result"
    }
   ],
   "source": [
    "len(X_train)"
   ]
  },
  {
   "cell_type": "code",
   "execution_count": 23,
   "metadata": {},
   "outputs": [
    {
     "data": {
      "text/plain": [
       "109"
      ]
     },
     "execution_count": 23,
     "metadata": {},
     "output_type": "execute_result"
    }
   ],
   "source": [
    "len(y_train)"
   ]
  },
  {
   "cell_type": "code",
   "execution_count": 24,
   "metadata": {},
   "outputs": [
    {
     "data": {
      "text/plain": [
       "(300, 300)"
      ]
     },
     "execution_count": 24,
     "metadata": {},
     "output_type": "execute_result"
    }
   ],
   "source": [
    "X_train[0].shape"
   ]
  },
  {
   "cell_type": "markdown",
   "metadata": {
    "colab_type": "text",
    "id": "w6JHLc0khM8y"
   },
   "source": [
    "## Save the Datasets"
   ]
  },
  {
   "cell_type": "code",
   "execution_count": 25,
   "metadata": {
    "colab": {},
    "colab_type": "code",
    "id": "ZwZnN84ghM8y"
   },
   "outputs": [],
   "source": [
    "np.save('X_train_2D_KaryoLearning_Abnormal', X_train)\n",
    "np.save('y_train_2D_KaryoLearning_Abnormal', y_train)"
   ]
  },
  {
   "cell_type": "code",
   "execution_count": 26,
   "metadata": {
    "colab": {},
    "colab_type": "code",
    "id": "2DV0IIz7hM80"
   },
   "outputs": [],
   "source": [
    "np.save('X_test_2D_KaryoLearning_Abnormal', X_test)\n",
    "np.save('y_test_2D_KaryoLearning_Abnormal', y_test)"
   ]
  },
  {
   "cell_type": "markdown",
   "metadata": {
    "colab_type": "text",
    "id": "tHi_7uq7hM81"
   },
   "source": [
    "## Load the Datasets"
   ]
  },
  {
   "cell_type": "code",
   "execution_count": 27,
   "metadata": {
    "colab": {},
    "colab_type": "code",
    "id": "tP5TTXkJhM82"
   },
   "outputs": [],
   "source": [
    "X_train = np.load('X_train_2D_KaryoLearning_Abnormal.npy')\n",
    "y_train = np.load('y_train_2D_KaryoLearning_Abnormal.npy')\n",
    "\n",
    "X_test = np.load('X_test_2D_KaryoLearning_Abnormal.npy')\n",
    "y_test = np.load('y_test_2D_KaryoLearning_Abnormal.npy')"
   ]
  },
  {
   "cell_type": "markdown",
   "metadata": {
    "colab_type": "text",
    "id": "zKWSId2nhM83"
   },
   "source": [
    "## Convolutional Neural Network"
   ]
  },
  {
   "cell_type": "markdown",
   "metadata": {},
   "source": [
    "## Data Preparation"
   ]
  },
  {
   "cell_type": "code",
   "execution_count": 28,
   "metadata": {},
   "outputs": [],
   "source": [
    "X_train = X_train.reshape(-1, 300, 300, 1)\n",
    "X_test = X_test.reshape(-1, 300, 300, 1)"
   ]
  },
  {
   "cell_type": "markdown",
   "metadata": {
    "colab_type": "text",
    "id": "U9HLQx8dhM84"
   },
   "source": [
    "### Training"
   ]
  },
  {
   "cell_type": "markdown",
   "metadata": {
    "colab_type": "text",
    "id": "xpM5Mh8fhM84"
   },
   "source": [
    "#### Model"
   ]
  },
  {
   "cell_type": "code",
   "execution_count": 29,
   "metadata": {
    "colab": {},
    "colab_type": "code",
    "id": "jeX02jNmhM85"
   },
   "outputs": [],
   "source": [
    "model = Sequential()"
   ]
  },
  {
   "cell_type": "code",
   "execution_count": 30,
   "metadata": {},
   "outputs": [],
   "source": [
    "model.add(Conv2D(32, (3, 3), activation='relu', input_shape=(300, 300, 1)))\n",
    "model.add(MaxPooling2D((2, 2)))\n",
    "model.add(Conv2D(64, (3, 3), activation='relu'))\n",
    "model.add(MaxPooling2D((2, 2)))\n",
    "model.add(Conv2D(64, (3, 3), activation='relu'))"
   ]
  },
  {
   "cell_type": "code",
   "execution_count": 31,
   "metadata": {},
   "outputs": [],
   "source": [
    "model.add(Flatten())\n",
    "model.add(Dense(300, activation='relu'))\n",
    "model.add(Dense(400, activation='relu'))\n",
    "model.add(Dense(100, activation='relu'))\n",
    "model.add(Dense(50, activation='relu'))\n",
    "model.add(Dense(32, activation='softmax'))"
   ]
  },
  {
   "cell_type": "markdown",
   "metadata": {
    "colab_type": "text",
    "id": "rOtNj0jlhM87"
   },
   "source": [
    "#### Tensorboard Initilization"
   ]
  },
  {
   "cell_type": "code",
   "execution_count": 32,
   "metadata": {
    "colab": {},
    "colab_type": "code",
    "id": "VEg0lb4OhM87"
   },
   "outputs": [],
   "source": [
    "%load_ext tensorboard\n",
    "log_dir = \"logs/fit/\" + datetime.datetime.now().strftime(\"%Y%m%d-%H%M%S\")\n",
    "tensorboard_callback = keras.callbacks.TensorBoard(log_dir=log_dir, histogram_freq=1)"
   ]
  },
  {
   "cell_type": "markdown",
   "metadata": {
    "colab_type": "text",
    "id": "P4zqonYwhM8-"
   },
   "source": [
    "#### Compile the modal"
   ]
  },
  {
   "cell_type": "code",
   "execution_count": 33,
   "metadata": {
    "colab": {},
    "colab_type": "code",
    "id": "wYvievAshM8_"
   },
   "outputs": [],
   "source": [
    "model.compile(optimizer='adam', loss='sparse_categorical_crossentropy', metrics=['accuracy'])"
   ]
  },
  {
   "cell_type": "markdown",
   "metadata": {
    "colab_type": "text",
    "id": "ElbCMim9hM9D"
   },
   "source": [
    "#### Training"
   ]
  },
  {
   "cell_type": "code",
   "execution_count": 34,
   "metadata": {
    "colab": {},
    "colab_type": "code",
    "id": "_PtUAhxphM9D",
    "scrolled": false
   },
   "outputs": [
    {
     "name": "stdout",
     "output_type": "stream",
     "text": [
      "Epoch 1/200\n",
      "2/2 [==============================] - 7s 3s/step - loss: 216.5765 - accuracy: 0.0000e+00 - val_loss: 565.1299 - val_accuracy: 0.0000e+00\n",
      "Epoch 2/200\n",
      "2/2 [==============================] - 6s 3s/step - loss: 424.8974 - accuracy: 0.3394 - val_loss: 178.8170 - val_accuracy: 0.0000e+00\n",
      "Epoch 3/200\n",
      "2/2 [==============================] - 5s 2s/step - loss: 40.6040 - accuracy: 0.3761 - val_loss: 21.4148 - val_accuracy: 0.5000\n",
      "Epoch 4/200\n",
      "2/2 [==============================] - 5s 2s/step - loss: 24.3198 - accuracy: 0.4312 - val_loss: 12.2032 - val_accuracy: 0.5000\n",
      "Epoch 5/200\n",
      "2/2 [==============================] - 5s 2s/step - loss: 20.2337 - accuracy: 0.6055 - val_loss: 3.1279 - val_accuracy: 0.5000\n",
      "Epoch 6/200\n",
      "2/2 [==============================] - 5s 2s/step - loss: 4.3835 - accuracy: 0.4312 - val_loss: 1.7330 - val_accuracy: 0.5000\n",
      "Epoch 7/200\n",
      "2/2 [==============================] - 5s 2s/step - loss: 2.3640 - accuracy: 0.5688 - val_loss: 31.1635 - val_accuracy: 0.5000\n",
      "Epoch 8/200\n",
      "2/2 [==============================] - 5s 2s/step - loss: 6.5963 - accuracy: 0.8899 - val_loss: 12.2912 - val_accuracy: 0.5000\n",
      "Epoch 9/200\n",
      "2/2 [==============================] - 5s 2s/step - loss: 3.0667 - accuracy: 0.5505 - val_loss: 10.3985 - val_accuracy: 0.5000\n",
      "Epoch 10/200\n",
      "2/2 [==============================] - 5s 2s/step - loss: 2.3613 - accuracy: 0.8899 - val_loss: 7.4527 - val_accuracy: 0.5000\n",
      "Epoch 11/200\n",
      "2/2 [==============================] - 5s 2s/step - loss: 1.1895 - accuracy: 0.8899 - val_loss: 0.9586 - val_accuracy: 0.5000\n",
      "Epoch 12/200\n",
      "2/2 [==============================] - 5s 2s/step - loss: 0.3030 - accuracy: 0.8899 - val_loss: 0.7433 - val_accuracy: 0.5000\n",
      "Epoch 13/200\n",
      "2/2 [==============================] - 5s 2s/step - loss: 0.2310 - accuracy: 0.9083 - val_loss: 1.2944 - val_accuracy: 0.5000\n",
      "Epoch 14/200\n",
      "2/2 [==============================] - 5s 2s/step - loss: 0.9984 - accuracy: 0.5505 - val_loss: 0.4533 - val_accuracy: 0.9000\n",
      "Epoch 15/200\n",
      "2/2 [==============================] - 6s 3s/step - loss: 0.9117 - accuracy: 0.8624 - val_loss: 1.3291 - val_accuracy: 0.5000\n",
      "Epoch 16/200\n",
      "2/2 [==============================] - 5s 2s/step - loss: 0.2403 - accuracy: 0.8899 - val_loss: 5.0474 - val_accuracy: 0.5000\n",
      "Epoch 17/200\n",
      "2/2 [==============================] - 5s 2s/step - loss: 0.6636 - accuracy: 0.9541 - val_loss: 0.9854 - val_accuracy: 0.5000\n",
      "Epoch 18/200\n",
      "2/2 [==============================] - 5s 2s/step - loss: 0.3405 - accuracy: 0.9083 - val_loss: 2.4189 - val_accuracy: 0.5000\n",
      "Epoch 19/200\n",
      "2/2 [==============================] - 5s 2s/step - loss: 0.3961 - accuracy: 0.9174 - val_loss: 0.4849 - val_accuracy: 0.7000\n",
      "Epoch 20/200\n",
      "2/2 [==============================] - 5s 2s/step - loss: 0.1185 - accuracy: 0.9450 - val_loss: 1.6264 - val_accuracy: 0.5000\n",
      "Epoch 21/200\n",
      "2/2 [==============================] - 5s 2s/step - loss: 1.7595 - accuracy: 0.4679 - val_loss: 0.7444 - val_accuracy: 0.5000\n",
      "Epoch 22/200\n",
      "2/2 [==============================] - 6s 3s/step - loss: 0.4184 - accuracy: 0.9083 - val_loss: 0.9052 - val_accuracy: 0.7000\n",
      "Epoch 23/200\n",
      "2/2 [==============================] - 5s 2s/step - loss: 0.4011 - accuracy: 0.9358 - val_loss: 23.3668 - val_accuracy: 0.5000\n",
      "Epoch 24/200\n",
      "2/2 [==============================] - 6s 3s/step - loss: 3.5447 - accuracy: 0.8899 - val_loss: 1.6677 - val_accuracy: 0.5500\n",
      "Epoch 25/200\n",
      "2/2 [==============================] - 5s 3s/step - loss: 1.0014 - accuracy: 0.9358 - val_loss: 20.1945 - val_accuracy: 0.5000\n",
      "Epoch 26/200\n",
      "2/2 [==============================] - 5s 2s/step - loss: 4.2618 - accuracy: 0.8991 - val_loss: 1.1317 - val_accuracy: 0.6000\n",
      "Epoch 27/200\n",
      "2/2 [==============================] - 5s 2s/step - loss: 0.4581 - accuracy: 0.9450 - val_loss: 24.4293 - val_accuracy: 0.5000\n",
      "Epoch 28/200\n",
      "2/2 [==============================] - 6s 3s/step - loss: 2.6019 - accuracy: 0.9358 - val_loss: 0.3900 - val_accuracy: 0.9500\n",
      "Epoch 29/200\n",
      "2/2 [==============================] - 5s 2s/step - loss: 0.1509 - accuracy: 0.9817 - val_loss: 0.1488 - val_accuracy: 1.0000\n",
      "Epoch 30/200\n",
      "2/2 [==============================] - 5s 2s/step - loss: 0.7429 - accuracy: 0.6330 - val_loss: 0.3467 - val_accuracy: 0.7500\n",
      "Epoch 31/200\n",
      "2/2 [==============================] - 5s 2s/step - loss: 0.0793 - accuracy: 0.9633 - val_loss: 0.2623 - val_accuracy: 0.8500\n",
      "Epoch 32/200\n",
      "2/2 [==============================] - 5s 2s/step - loss: 0.0276 - accuracy: 1.0000 - val_loss: 0.1488 - val_accuracy: 0.9000\n",
      "Epoch 33/200\n",
      "2/2 [==============================] - 5s 2s/step - loss: 0.0284 - accuracy: 0.9908 - val_loss: 0.9019 - val_accuracy: 0.6500\n",
      "Epoch 34/200\n",
      "2/2 [==============================] - 5s 2s/step - loss: 0.8030 - accuracy: 0.6697 - val_loss: 0.3327 - val_accuracy: 0.7500\n",
      "Epoch 35/200\n",
      "2/2 [==============================] - 5s 2s/step - loss: 0.0813 - accuracy: 0.9633 - val_loss: 0.9502 - val_accuracy: 0.5500\n",
      "Epoch 36/200\n",
      "2/2 [==============================] - 5s 2s/step - loss: 0.1634 - accuracy: 0.9174 - val_loss: 1.2076 - val_accuracy: 0.5000\n",
      "Epoch 37/200\n",
      "2/2 [==============================] - 5s 2s/step - loss: 0.3433 - accuracy: 0.9083 - val_loss: 1.3093 - val_accuracy: 0.6000\n",
      "Epoch 38/200\n",
      "2/2 [==============================] - 5s 2s/step - loss: 0.4309 - accuracy: 0.9633 - val_loss: 0.7516 - val_accuracy: 0.5500\n",
      "Epoch 39/200\n",
      "2/2 [==============================] - 5s 2s/step - loss: 0.0902 - accuracy: 0.9541 - val_loss: 1.7675 - val_accuracy: 0.5000\n",
      "Epoch 40/200\n",
      "2/2 [==============================] - 5s 2s/step - loss: 0.5744 - accuracy: 0.7890 - val_loss: 2.6367 - val_accuracy: 0.5500\n",
      "Epoch 41/200\n",
      "2/2 [==============================] - 5s 2s/step - loss: 4.5632 - accuracy: 0.6055 - val_loss: 1.0583 - val_accuracy: 0.6000\n",
      "Epoch 42/200\n",
      "2/2 [==============================] - 5s 2s/step - loss: 0.0974 - accuracy: 0.9633 - val_loss: 0.5709 - val_accuracy: 0.6000\n",
      "Epoch 43/200\n",
      "2/2 [==============================] - 5s 3s/step - loss: 0.0458 - accuracy: 0.9725 - val_loss: 1.1738 - val_accuracy: 0.5000\n",
      "Epoch 44/200\n",
      "2/2 [==============================] - 5s 2s/step - loss: 0.1885 - accuracy: 0.9358 - val_loss: 0.7397 - val_accuracy: 0.5000\n",
      "Epoch 45/200\n",
      "2/2 [==============================] - 5s 2s/step - loss: 0.0624 - accuracy: 0.9725 - val_loss: 0.7480 - val_accuracy: 0.5500\n",
      "Epoch 46/200\n",
      "2/2 [==============================] - 5s 2s/step - loss: 0.0475 - accuracy: 0.9725 - val_loss: 0.3751 - val_accuracy: 0.9000\n",
      "Epoch 47/200\n",
      "2/2 [==============================] - 5s 2s/step - loss: 0.0094 - accuracy: 1.0000 - val_loss: 0.4825 - val_accuracy: 0.8500\n",
      "Epoch 48/200\n",
      "2/2 [==============================] - 5s 2s/step - loss: 0.1324 - accuracy: 0.9817 - val_loss: 0.0628 - val_accuracy: 0.9500\n",
      "Epoch 49/200\n",
      "2/2 [==============================] - 5s 2s/step - loss: 0.0586 - accuracy: 0.9725 - val_loss: 0.2519 - val_accuracy: 0.9500\n",
      "Epoch 50/200\n",
      "2/2 [==============================] - 5s 2s/step - loss: 0.0131 - accuracy: 1.0000 - val_loss: 1.8111 - val_accuracy: 0.7000\n",
      "Epoch 51/200\n",
      "2/2 [==============================] - 5s 2s/step - loss: 0.0095 - accuracy: 1.0000 - val_loss: 0.6796 - val_accuracy: 0.8500\n",
      "Epoch 52/200\n",
      "2/2 [==============================] - 5s 2s/step - loss: 0.0042 - accuracy: 1.0000 - val_loss: 0.6963 - val_accuracy: 0.7500\n",
      "Epoch 53/200\n",
      "2/2 [==============================] - 5s 2s/step - loss: 0.0204 - accuracy: 1.0000 - val_loss: 0.8723 - val_accuracy: 0.7000\n",
      "Epoch 54/200\n",
      "2/2 [==============================] - 5s 2s/step - loss: 0.0190 - accuracy: 1.0000 - val_loss: 0.9972 - val_accuracy: 0.7500\n",
      "Epoch 55/200\n",
      "2/2 [==============================] - 5s 2s/step - loss: 0.0047 - accuracy: 1.0000 - val_loss: 1.0788 - val_accuracy: 0.7500\n",
      "Epoch 56/200\n",
      "2/2 [==============================] - 5s 2s/step - loss: 0.0017 - accuracy: 1.0000 - val_loss: 1.1459 - val_accuracy: 0.8000\n",
      "Epoch 57/200\n",
      "2/2 [==============================] - 5s 3s/step - loss: 0.0011 - accuracy: 1.0000 - val_loss: 0.9905 - val_accuracy: 0.8000\n",
      "Epoch 58/200\n",
      "2/2 [==============================] - 5s 2s/step - loss: 1.7204e-04 - accuracy: 1.0000 - val_loss: 0.7728 - val_accuracy: 0.8000\n"
     ]
    },
    {
     "ename": "KeyboardInterrupt",
     "evalue": "",
     "output_type": "error",
     "traceback": [
      "\u001b[1;31m---------------------------------------------------------------------------\u001b[0m",
      "\u001b[1;31mKeyboardInterrupt\u001b[0m                         Traceback (most recent call last)",
      "\u001b[1;32m<ipython-input-34-e529605d3d49>\u001b[0m in \u001b[0;36m<module>\u001b[1;34m\u001b[0m\n\u001b[0;32m      1\u001b[0m model.fit(X_train, y_train, epochs=200, batch_size=64, verbose=1, \n\u001b[0;32m      2\u001b[0m           \u001b[0mvalidation_data\u001b[0m\u001b[1;33m=\u001b[0m\u001b[1;33m(\u001b[0m\u001b[0mX_test\u001b[0m\u001b[1;33m,\u001b[0m \u001b[0my_test\u001b[0m\u001b[1;33m)\u001b[0m\u001b[1;33m,\u001b[0m\u001b[1;33m\u001b[0m\u001b[1;33m\u001b[0m\u001b[0m\n\u001b[1;32m----> 3\u001b[1;33m           callbacks=[tensorboard_callback])\n\u001b[0m",
      "\u001b[1;32mC:\\Anaconda3\\lib\\site-packages\\tensorflow\\python\\keras\\engine\\training.py\u001b[0m in \u001b[0;36mfit\u001b[1;34m(self, x, y, batch_size, epochs, verbose, callbacks, validation_split, validation_data, shuffle, class_weight, sample_weight, initial_epoch, steps_per_epoch, validation_steps, validation_batch_size, validation_freq, max_queue_size, workers, use_multiprocessing)\u001b[0m\n\u001b[0;32m   1227\u001b[0m           \u001b[0mepoch_logs\u001b[0m\u001b[1;33m.\u001b[0m\u001b[0mupdate\u001b[0m\u001b[1;33m(\u001b[0m\u001b[0mval_logs\u001b[0m\u001b[1;33m)\u001b[0m\u001b[1;33m\u001b[0m\u001b[1;33m\u001b[0m\u001b[0m\n\u001b[0;32m   1228\u001b[0m \u001b[1;33m\u001b[0m\u001b[0m\n\u001b[1;32m-> 1229\u001b[1;33m         \u001b[0mcallbacks\u001b[0m\u001b[1;33m.\u001b[0m\u001b[0mon_epoch_end\u001b[0m\u001b[1;33m(\u001b[0m\u001b[0mepoch\u001b[0m\u001b[1;33m,\u001b[0m \u001b[0mepoch_logs\u001b[0m\u001b[1;33m)\u001b[0m\u001b[1;33m\u001b[0m\u001b[1;33m\u001b[0m\u001b[0m\n\u001b[0m\u001b[0;32m   1230\u001b[0m         \u001b[0mtraining_logs\u001b[0m \u001b[1;33m=\u001b[0m \u001b[0mepoch_logs\u001b[0m\u001b[1;33m\u001b[0m\u001b[1;33m\u001b[0m\u001b[0m\n\u001b[0;32m   1231\u001b[0m         \u001b[1;32mif\u001b[0m \u001b[0mself\u001b[0m\u001b[1;33m.\u001b[0m\u001b[0mstop_training\u001b[0m\u001b[1;33m:\u001b[0m\u001b[1;33m\u001b[0m\u001b[1;33m\u001b[0m\u001b[0m\n",
      "\u001b[1;32mC:\\Anaconda3\\lib\\site-packages\\tensorflow\\python\\keras\\callbacks.py\u001b[0m in \u001b[0;36mon_epoch_end\u001b[1;34m(self, epoch, logs)\u001b[0m\n\u001b[0;32m    433\u001b[0m     \u001b[0mlogs\u001b[0m \u001b[1;33m=\u001b[0m \u001b[0mself\u001b[0m\u001b[1;33m.\u001b[0m\u001b[0m_process_logs\u001b[0m\u001b[1;33m(\u001b[0m\u001b[0mlogs\u001b[0m\u001b[1;33m)\u001b[0m\u001b[1;33m\u001b[0m\u001b[1;33m\u001b[0m\u001b[0m\n\u001b[0;32m    434\u001b[0m     \u001b[1;32mfor\u001b[0m \u001b[0mcallback\u001b[0m \u001b[1;32min\u001b[0m \u001b[0mself\u001b[0m\u001b[1;33m.\u001b[0m\u001b[0mcallbacks\u001b[0m\u001b[1;33m:\u001b[0m\u001b[1;33m\u001b[0m\u001b[1;33m\u001b[0m\u001b[0m\n\u001b[1;32m--> 435\u001b[1;33m       \u001b[0mcallback\u001b[0m\u001b[1;33m.\u001b[0m\u001b[0mon_epoch_end\u001b[0m\u001b[1;33m(\u001b[0m\u001b[0mepoch\u001b[0m\u001b[1;33m,\u001b[0m \u001b[0mlogs\u001b[0m\u001b[1;33m)\u001b[0m\u001b[1;33m\u001b[0m\u001b[1;33m\u001b[0m\u001b[0m\n\u001b[0m\u001b[0;32m    436\u001b[0m \u001b[1;33m\u001b[0m\u001b[0m\n\u001b[0;32m    437\u001b[0m   \u001b[1;32mdef\u001b[0m \u001b[0mon_train_batch_begin\u001b[0m\u001b[1;33m(\u001b[0m\u001b[0mself\u001b[0m\u001b[1;33m,\u001b[0m \u001b[0mbatch\u001b[0m\u001b[1;33m,\u001b[0m \u001b[0mlogs\u001b[0m\u001b[1;33m=\u001b[0m\u001b[1;32mNone\u001b[0m\u001b[1;33m)\u001b[0m\u001b[1;33m:\u001b[0m\u001b[1;33m\u001b[0m\u001b[1;33m\u001b[0m\u001b[0m\n",
      "\u001b[1;32mC:\\Anaconda3\\lib\\site-packages\\tensorflow\\python\\keras\\callbacks.py\u001b[0m in \u001b[0;36mon_epoch_end\u001b[1;34m(self, epoch, logs)\u001b[0m\n\u001b[0;32m   2437\u001b[0m \u001b[1;33m\u001b[0m\u001b[0m\n\u001b[0;32m   2438\u001b[0m     \u001b[1;32mif\u001b[0m \u001b[0mself\u001b[0m\u001b[1;33m.\u001b[0m\u001b[0mhistogram_freq\u001b[0m \u001b[1;32mand\u001b[0m \u001b[0mepoch\u001b[0m \u001b[1;33m%\u001b[0m \u001b[0mself\u001b[0m\u001b[1;33m.\u001b[0m\u001b[0mhistogram_freq\u001b[0m \u001b[1;33m==\u001b[0m \u001b[1;36m0\u001b[0m\u001b[1;33m:\u001b[0m\u001b[1;33m\u001b[0m\u001b[1;33m\u001b[0m\u001b[0m\n\u001b[1;32m-> 2439\u001b[1;33m       \u001b[0mself\u001b[0m\u001b[1;33m.\u001b[0m\u001b[0m_log_weights\u001b[0m\u001b[1;33m(\u001b[0m\u001b[0mepoch\u001b[0m\u001b[1;33m)\u001b[0m\u001b[1;33m\u001b[0m\u001b[1;33m\u001b[0m\u001b[0m\n\u001b[0m\u001b[0;32m   2440\u001b[0m \u001b[1;33m\u001b[0m\u001b[0m\n\u001b[0;32m   2441\u001b[0m     \u001b[1;32mif\u001b[0m \u001b[0mself\u001b[0m\u001b[1;33m.\u001b[0m\u001b[0membeddings_freq\u001b[0m \u001b[1;32mand\u001b[0m \u001b[0mepoch\u001b[0m \u001b[1;33m%\u001b[0m \u001b[0mself\u001b[0m\u001b[1;33m.\u001b[0m\u001b[0membeddings_freq\u001b[0m \u001b[1;33m==\u001b[0m \u001b[1;36m0\u001b[0m\u001b[1;33m:\u001b[0m\u001b[1;33m\u001b[0m\u001b[1;33m\u001b[0m\u001b[0m\n",
      "\u001b[1;32mC:\\Anaconda3\\lib\\site-packages\\tensorflow\\python\\keras\\callbacks.py\u001b[0m in \u001b[0;36m_log_weights\u001b[1;34m(self, epoch)\u001b[0m\n\u001b[0;32m   2504\u001b[0m           \u001b[1;32mfor\u001b[0m \u001b[0mweight\u001b[0m \u001b[1;32min\u001b[0m \u001b[0mlayer\u001b[0m\u001b[1;33m.\u001b[0m\u001b[0mweights\u001b[0m\u001b[1;33m:\u001b[0m\u001b[1;33m\u001b[0m\u001b[1;33m\u001b[0m\u001b[0m\n\u001b[0;32m   2505\u001b[0m             \u001b[0mweight_name\u001b[0m \u001b[1;33m=\u001b[0m \u001b[0mweight\u001b[0m\u001b[1;33m.\u001b[0m\u001b[0mname\u001b[0m\u001b[1;33m.\u001b[0m\u001b[0mreplace\u001b[0m\u001b[1;33m(\u001b[0m\u001b[1;34m':'\u001b[0m\u001b[1;33m,\u001b[0m \u001b[1;34m'_'\u001b[0m\u001b[1;33m)\u001b[0m\u001b[1;33m\u001b[0m\u001b[1;33m\u001b[0m\u001b[0m\n\u001b[1;32m-> 2506\u001b[1;33m             \u001b[0msummary_ops_v2\u001b[0m\u001b[1;33m.\u001b[0m\u001b[0mhistogram\u001b[0m\u001b[1;33m(\u001b[0m\u001b[0mweight_name\u001b[0m\u001b[1;33m,\u001b[0m \u001b[0mweight\u001b[0m\u001b[1;33m,\u001b[0m \u001b[0mstep\u001b[0m\u001b[1;33m=\u001b[0m\u001b[0mepoch\u001b[0m\u001b[1;33m)\u001b[0m\u001b[1;33m\u001b[0m\u001b[1;33m\u001b[0m\u001b[0m\n\u001b[0m\u001b[0;32m   2507\u001b[0m             \u001b[1;32mif\u001b[0m \u001b[0mself\u001b[0m\u001b[1;33m.\u001b[0m\u001b[0mwrite_images\u001b[0m\u001b[1;33m:\u001b[0m\u001b[1;33m\u001b[0m\u001b[1;33m\u001b[0m\u001b[0m\n\u001b[0;32m   2508\u001b[0m               \u001b[0mself\u001b[0m\u001b[1;33m.\u001b[0m\u001b[0m_log_weight_as_image\u001b[0m\u001b[1;33m(\u001b[0m\u001b[0mweight\u001b[0m\u001b[1;33m,\u001b[0m \u001b[0mweight_name\u001b[0m\u001b[1;33m,\u001b[0m \u001b[0mepoch\u001b[0m\u001b[1;33m)\u001b[0m\u001b[1;33m\u001b[0m\u001b[1;33m\u001b[0m\u001b[0m\n",
      "\u001b[1;32mC:\\Anaconda3\\lib\\site-packages\\tensorflow\\python\\ops\\summary_ops_v2.py\u001b[0m in \u001b[0;36mhistogram\u001b[1;34m(name, tensor, family, step)\u001b[0m\n\u001b[0;32m    877\u001b[0m         name=scope)\n\u001b[0;32m    878\u001b[0m \u001b[1;33m\u001b[0m\u001b[0m\n\u001b[1;32m--> 879\u001b[1;33m   \u001b[1;32mreturn\u001b[0m \u001b[0msummary_writer_function\u001b[0m\u001b[1;33m(\u001b[0m\u001b[0mname\u001b[0m\u001b[1;33m,\u001b[0m \u001b[0mtensor\u001b[0m\u001b[1;33m,\u001b[0m \u001b[0mfunction\u001b[0m\u001b[1;33m,\u001b[0m \u001b[0mfamily\u001b[0m\u001b[1;33m=\u001b[0m\u001b[0mfamily\u001b[0m\u001b[1;33m)\u001b[0m\u001b[1;33m\u001b[0m\u001b[1;33m\u001b[0m\u001b[0m\n\u001b[0m\u001b[0;32m    880\u001b[0m \u001b[1;33m\u001b[0m\u001b[0m\n\u001b[0;32m    881\u001b[0m \u001b[1;33m\u001b[0m\u001b[0m\n",
      "\u001b[1;32mC:\\Anaconda3\\lib\\site-packages\\tensorflow\\python\\ops\\summary_ops_v2.py\u001b[0m in \u001b[0;36msummary_writer_function\u001b[1;34m(name, tensor, function, family)\u001b[0m\n\u001b[0;32m    806\u001b[0m   \u001b[1;32mwith\u001b[0m \u001b[0mops\u001b[0m\u001b[1;33m.\u001b[0m\u001b[0mdevice\u001b[0m\u001b[1;33m(\u001b[0m\u001b[1;34m\"cpu:0\"\u001b[0m\u001b[1;33m)\u001b[0m\u001b[1;33m:\u001b[0m\u001b[1;33m\u001b[0m\u001b[1;33m\u001b[0m\u001b[0m\n\u001b[0;32m    807\u001b[0m     op = smart_cond.smart_cond(\n\u001b[1;32m--> 808\u001b[1;33m         should_record_summaries(), record, _nothing, name=\"\")\n\u001b[0m\u001b[0;32m    809\u001b[0m     \u001b[1;32mif\u001b[0m \u001b[1;32mnot\u001b[0m \u001b[0mcontext\u001b[0m\u001b[1;33m.\u001b[0m\u001b[0mexecuting_eagerly\u001b[0m\u001b[1;33m(\u001b[0m\u001b[1;33m)\u001b[0m\u001b[1;33m:\u001b[0m\u001b[1;33m\u001b[0m\u001b[1;33m\u001b[0m\u001b[0m\n\u001b[0;32m    810\u001b[0m       \u001b[0mops\u001b[0m\u001b[1;33m.\u001b[0m\u001b[0madd_to_collection\u001b[0m\u001b[1;33m(\u001b[0m\u001b[0mops\u001b[0m\u001b[1;33m.\u001b[0m\u001b[0mGraphKeys\u001b[0m\u001b[1;33m.\u001b[0m\u001b[0m_SUMMARY_COLLECTION\u001b[0m\u001b[1;33m,\u001b[0m \u001b[0mop\u001b[0m\u001b[1;33m)\u001b[0m  \u001b[1;31m# pylint: disable=protected-access\u001b[0m\u001b[1;33m\u001b[0m\u001b[1;33m\u001b[0m\u001b[0m\n",
      "\u001b[1;32mC:\\Anaconda3\\lib\\site-packages\\tensorflow\\python\\framework\\smart_cond.py\u001b[0m in \u001b[0;36msmart_cond\u001b[1;34m(pred, true_fn, false_fn, name)\u001b[0m\n\u001b[0;32m     52\u001b[0m   \u001b[1;32mif\u001b[0m \u001b[0mpred_value\u001b[0m \u001b[1;32mis\u001b[0m \u001b[1;32mnot\u001b[0m \u001b[1;32mNone\u001b[0m\u001b[1;33m:\u001b[0m\u001b[1;33m\u001b[0m\u001b[1;33m\u001b[0m\u001b[0m\n\u001b[0;32m     53\u001b[0m     \u001b[1;32mif\u001b[0m \u001b[0mpred_value\u001b[0m\u001b[1;33m:\u001b[0m\u001b[1;33m\u001b[0m\u001b[1;33m\u001b[0m\u001b[0m\n\u001b[1;32m---> 54\u001b[1;33m       \u001b[1;32mreturn\u001b[0m \u001b[0mtrue_fn\u001b[0m\u001b[1;33m(\u001b[0m\u001b[1;33m)\u001b[0m\u001b[1;33m\u001b[0m\u001b[1;33m\u001b[0m\u001b[0m\n\u001b[0m\u001b[0;32m     55\u001b[0m     \u001b[1;32melse\u001b[0m\u001b[1;33m:\u001b[0m\u001b[1;33m\u001b[0m\u001b[1;33m\u001b[0m\u001b[0m\n\u001b[0;32m     56\u001b[0m       \u001b[1;32mreturn\u001b[0m \u001b[0mfalse_fn\u001b[0m\u001b[1;33m(\u001b[0m\u001b[1;33m)\u001b[0m\u001b[1;33m\u001b[0m\u001b[1;33m\u001b[0m\u001b[0m\n",
      "\u001b[1;32mC:\\Anaconda3\\lib\\site-packages\\tensorflow\\python\\ops\\summary_ops_v2.py\u001b[0m in \u001b[0;36mrecord\u001b[1;34m()\u001b[0m\n\u001b[0;32m    799\u001b[0m     with ops.name_scope(name_scope), summary_op_util.summary_scope(\n\u001b[0;32m    800\u001b[0m         name, family, values=[tensor]) as (tag, scope):\n\u001b[1;32m--> 801\u001b[1;33m       \u001b[1;32mwith\u001b[0m \u001b[0mops\u001b[0m\u001b[1;33m.\u001b[0m\u001b[0mcontrol_dependencies\u001b[0m\u001b[1;33m(\u001b[0m\u001b[1;33m[\u001b[0m\u001b[0mfunction\u001b[0m\u001b[1;33m(\u001b[0m\u001b[0mtag\u001b[0m\u001b[1;33m,\u001b[0m \u001b[0mscope\u001b[0m\u001b[1;33m)\u001b[0m\u001b[1;33m]\u001b[0m\u001b[1;33m)\u001b[0m\u001b[1;33m:\u001b[0m\u001b[1;33m\u001b[0m\u001b[1;33m\u001b[0m\u001b[0m\n\u001b[0m\u001b[0;32m    802\u001b[0m         \u001b[1;32mreturn\u001b[0m \u001b[0mconstant_op\u001b[0m\u001b[1;33m.\u001b[0m\u001b[0mconstant\u001b[0m\u001b[1;33m(\u001b[0m\u001b[1;32mTrue\u001b[0m\u001b[1;33m)\u001b[0m\u001b[1;33m\u001b[0m\u001b[1;33m\u001b[0m\u001b[0m\n\u001b[0;32m    803\u001b[0m \u001b[1;33m\u001b[0m\u001b[0m\n",
      "\u001b[1;32mC:\\Anaconda3\\lib\\site-packages\\tensorflow\\python\\ops\\summary_ops_v2.py\u001b[0m in \u001b[0;36mfunction\u001b[1;34m(tag, scope)\u001b[0m\n\u001b[0;32m    875\u001b[0m         \u001b[0mtag\u001b[0m\u001b[1;33m,\u001b[0m\u001b[1;33m\u001b[0m\u001b[1;33m\u001b[0m\u001b[0m\n\u001b[0;32m    876\u001b[0m         \u001b[0marray_ops\u001b[0m\u001b[1;33m.\u001b[0m\u001b[0midentity\u001b[0m\u001b[1;33m(\u001b[0m\u001b[0mtensor\u001b[0m\u001b[1;33m)\u001b[0m\u001b[1;33m,\u001b[0m\u001b[1;33m\u001b[0m\u001b[1;33m\u001b[0m\u001b[0m\n\u001b[1;32m--> 877\u001b[1;33m         name=scope)\n\u001b[0m\u001b[0;32m    878\u001b[0m \u001b[1;33m\u001b[0m\u001b[0m\n\u001b[0;32m    879\u001b[0m   \u001b[1;32mreturn\u001b[0m \u001b[0msummary_writer_function\u001b[0m\u001b[1;33m(\u001b[0m\u001b[0mname\u001b[0m\u001b[1;33m,\u001b[0m \u001b[0mtensor\u001b[0m\u001b[1;33m,\u001b[0m \u001b[0mfunction\u001b[0m\u001b[1;33m,\u001b[0m \u001b[0mfamily\u001b[0m\u001b[1;33m=\u001b[0m\u001b[0mfamily\u001b[0m\u001b[1;33m)\u001b[0m\u001b[1;33m\u001b[0m\u001b[1;33m\u001b[0m\u001b[0m\n",
      "\u001b[1;32mC:\\Anaconda3\\lib\\site-packages\\tensorflow\\python\\ops\\gen_summary_ops.py\u001b[0m in \u001b[0;36mwrite_histogram_summary\u001b[1;34m(writer, step, tag, values, name)\u001b[0m\n\u001b[0;32m    477\u001b[0m     \u001b[1;32mtry\u001b[0m\u001b[1;33m:\u001b[0m\u001b[1;33m\u001b[0m\u001b[1;33m\u001b[0m\u001b[0m\n\u001b[0;32m    478\u001b[0m       return write_histogram_summary_eager_fallback(\n\u001b[1;32m--> 479\u001b[1;33m           writer, step, tag, values, name=name, ctx=_ctx)\n\u001b[0m\u001b[0;32m    480\u001b[0m     \u001b[1;32mexcept\u001b[0m \u001b[0m_core\u001b[0m\u001b[1;33m.\u001b[0m\u001b[0m_SymbolicException\u001b[0m\u001b[1;33m:\u001b[0m\u001b[1;33m\u001b[0m\u001b[1;33m\u001b[0m\u001b[0m\n\u001b[0;32m    481\u001b[0m       \u001b[1;32mpass\u001b[0m  \u001b[1;31m# Add nodes to the TensorFlow graph.\u001b[0m\u001b[1;33m\u001b[0m\u001b[1;33m\u001b[0m\u001b[0m\n",
      "\u001b[1;32mC:\\Anaconda3\\lib\\site-packages\\tensorflow\\python\\ops\\gen_summary_ops.py\u001b[0m in \u001b[0;36mwrite_histogram_summary_eager_fallback\u001b[1;34m(writer, step, tag, values, name, ctx)\u001b[0m\n\u001b[0;32m    496\u001b[0m   \u001b[0m_attrs\u001b[0m \u001b[1;33m=\u001b[0m \u001b[1;33m(\u001b[0m\u001b[1;34m\"T\"\u001b[0m\u001b[1;33m,\u001b[0m \u001b[0m_attr_T\u001b[0m\u001b[1;33m)\u001b[0m\u001b[1;33m\u001b[0m\u001b[1;33m\u001b[0m\u001b[0m\n\u001b[0;32m    497\u001b[0m   _result = _execute.execute(b\"WriteHistogramSummary\", 0, inputs=_inputs_flat,\n\u001b[1;32m--> 498\u001b[1;33m                              attrs=_attrs, ctx=ctx, name=name)\n\u001b[0m\u001b[0;32m    499\u001b[0m   \u001b[0m_result\u001b[0m \u001b[1;33m=\u001b[0m \u001b[1;32mNone\u001b[0m\u001b[1;33m\u001b[0m\u001b[1;33m\u001b[0m\u001b[0m\n\u001b[0;32m    500\u001b[0m   \u001b[1;32mreturn\u001b[0m \u001b[0m_result\u001b[0m\u001b[1;33m\u001b[0m\u001b[1;33m\u001b[0m\u001b[0m\n",
      "\u001b[1;32mC:\\Anaconda3\\lib\\site-packages\\tensorflow\\python\\eager\\execute.py\u001b[0m in \u001b[0;36mquick_execute\u001b[1;34m(op_name, num_outputs, inputs, attrs, ctx, name)\u001b[0m\n\u001b[0;32m     58\u001b[0m     \u001b[0mctx\u001b[0m\u001b[1;33m.\u001b[0m\u001b[0mensure_initialized\u001b[0m\u001b[1;33m(\u001b[0m\u001b[1;33m)\u001b[0m\u001b[1;33m\u001b[0m\u001b[1;33m\u001b[0m\u001b[0m\n\u001b[0;32m     59\u001b[0m     tensors = pywrap_tfe.TFE_Py_Execute(ctx._handle, device_name, op_name,\n\u001b[1;32m---> 60\u001b[1;33m                                         inputs, attrs, num_outputs)\n\u001b[0m\u001b[0;32m     61\u001b[0m   \u001b[1;32mexcept\u001b[0m \u001b[0mcore\u001b[0m\u001b[1;33m.\u001b[0m\u001b[0m_NotOkStatusException\u001b[0m \u001b[1;32mas\u001b[0m \u001b[0me\u001b[0m\u001b[1;33m:\u001b[0m\u001b[1;33m\u001b[0m\u001b[1;33m\u001b[0m\u001b[0m\n\u001b[0;32m     62\u001b[0m     \u001b[1;32mif\u001b[0m \u001b[0mname\u001b[0m \u001b[1;32mis\u001b[0m \u001b[1;32mnot\u001b[0m \u001b[1;32mNone\u001b[0m\u001b[1;33m:\u001b[0m\u001b[1;33m\u001b[0m\u001b[1;33m\u001b[0m\u001b[0m\n",
      "\u001b[1;31mKeyboardInterrupt\u001b[0m: "
     ]
    }
   ],
   "source": [
    "model.fit(X_train, y_train, epochs=200, batch_size=64, verbose=1, \n",
    "          validation_data=(X_test, y_test),\n",
    "          callbacks=[tensorboard_callback])"
   ]
  },
  {
   "cell_type": "code",
   "execution_count": null,
   "metadata": {
    "colab": {},
    "colab_type": "code",
    "id": "oc6qL9tKhM9F"
   },
   "outputs": [],
   "source": [
    "model.summary()"
   ]
  },
  {
   "cell_type": "markdown",
   "metadata": {
    "colab_type": "text",
    "id": "6IOse7UahM9H"
   },
   "source": [
    "### Tensorboard Display"
   ]
  },
  {
   "cell_type": "code",
   "execution_count": null,
   "metadata": {
    "colab": {},
    "colab_type": "code",
    "id": "V7O2fNf7hM9I"
   },
   "outputs": [],
   "source": [
    "%tensorboard --logdir logs/fit"
   ]
  },
  {
   "cell_type": "markdown",
   "metadata": {
    "colab_type": "text",
    "id": "XQJKzdwChM9J"
   },
   "source": [
    "## Performance Measures"
   ]
  },
  {
   "cell_type": "code",
   "execution_count": null,
   "metadata": {
    "colab": {},
    "colab_type": "code",
    "id": "gIs4_UUvhM9K"
   },
   "outputs": [],
   "source": [
    "#y_predict = clf.predict(X_test)\n",
    "#y_test = y_test\n",
    "\n",
    "loss, acc = model.evaluate(X_test, y_test, verbose=0)\n",
    "print('Test Accuracy: %.3f' % acc)"
   ]
  },
  {
   "cell_type": "code",
   "execution_count": null,
   "metadata": {},
   "outputs": [],
   "source": [
    "len(X_test)"
   ]
  },
  {
   "cell_type": "code",
   "execution_count": null,
   "metadata": {
    "colab": {},
    "colab_type": "code",
    "id": "Jm6MN7H5hM9M",
    "outputId": "888aa2d6-e546-458c-ba2a-b4206f2222f5",
    "scrolled": false
   },
   "outputs": [],
   "source": [
    "y_predict = model.predict(X_test)"
   ]
  },
  {
   "cell_type": "code",
   "execution_count": null,
   "metadata": {
    "scrolled": false
   },
   "outputs": [],
   "source": [
    "y_predict"
   ]
  },
  {
   "cell_type": "code",
   "execution_count": null,
   "metadata": {},
   "outputs": [],
   "source": [
    "y_predict[0]"
   ]
  },
  {
   "cell_type": "code",
   "execution_count": null,
   "metadata": {},
   "outputs": [],
   "source": [
    "# The number 34 means the type number of all chromosome class number inlcuding abnormal ones\n",
    "y_predict_filtered = []\n",
    "y_predict_filtered_prob = []\n",
    "\n",
    "for sample in y_predict:\n",
    "    maximum = 0\n",
    "    indicator = 0\n",
    "    for i in range(32):\n",
    "        if sample[i] > maximum:\n",
    "            maximum = sample[i]\n",
    "            indicator = i\n",
    "    y_predict_filtered.append(indicator)\n",
    "    y_predict_filtered_prob.append(maximum)"
   ]
  },
  {
   "cell_type": "code",
   "execution_count": null,
   "metadata": {},
   "outputs": [],
   "source": [
    "y_predict_filtered_prob"
   ]
  },
  {
   "cell_type": "code",
   "execution_count": null,
   "metadata": {},
   "outputs": [],
   "source": [
    "len(y_predict_filtered)"
   ]
  },
  {
   "cell_type": "code",
   "execution_count": null,
   "metadata": {
    "colab": {},
    "colab_type": "code",
    "id": "pP-vPuuUhM9O",
    "outputId": "22db63cd-ab18-4569-afe2-033c36a10cd4"
   },
   "outputs": [],
   "source": [
    "len(y_test)"
   ]
  },
  {
   "cell_type": "markdown",
   "metadata": {
    "colab_type": "text",
    "id": "wFuk9U3RhM9Q"
   },
   "source": [
    "### Confusion Matrix (混淆矩阵)"
   ]
  },
  {
   "cell_type": "code",
   "execution_count": null,
   "metadata": {},
   "outputs": [],
   "source": [
    "label = ['chr_09', 'chr_9_inversion']"
   ]
  },
  {
   "cell_type": "code",
   "execution_count": null,
   "metadata": {
    "colab": {},
    "colab_type": "code",
    "id": "nzASGN6ghM9Q",
    "outputId": "87b406d2-255d-4119-d862-5f6a6f2a8c96",
    "scrolled": false
   },
   "outputs": [],
   "source": [
    "cm = np.array(confusion_matrix(y_test, y_predict_filtered, labels=[9, 26]))\n",
    "confusion = pd.DataFrame(cm, index=label,\n",
    "                        columns=label)\n",
    "confusion.to_csv('ConfusionMatrix_KaryoType_CNN.csv')\n",
    "confusion"
   ]
  },
  {
   "cell_type": "code",
   "execution_count": null,
   "metadata": {
    "colab": {},
    "colab_type": "code",
    "id": "s12C84CQhM9S",
    "outputId": "5e2f474b-13ef-434d-b8e0-7d6e49f7ccb9",
    "scrolled": true
   },
   "outputs": [],
   "source": [
    "print(classification_report(y_test, y_predict_filtered))"
   ]
  },
  {
   "cell_type": "code",
   "execution_count": null,
   "metadata": {},
   "outputs": [],
   "source": [
    "plt.figure(figsize=(30, 24))\n",
    "heat_map = sb.heatmap(confusion, annot=True, \n",
    "                      cmap='coolwarm', \n",
    "                      xticklabels=confusion.columns, yticklabels=confusion.index, \n",
    "                      linewidths=.5, \n",
    "                      annot_kws={\"size\": 40})"
   ]
  },
  {
   "cell_type": "markdown",
   "metadata": {
    "colab_type": "text",
    "id": "B4J3frv1hM9U"
   },
   "source": [
    "## Save the Model"
   ]
  },
  {
   "cell_type": "code",
   "execution_count": null,
   "metadata": {},
   "outputs": [],
   "source": [
    "model.save('saved_model/model_cnn')"
   ]
  },
  {
   "cell_type": "markdown",
   "metadata": {
    "colab_type": "text",
    "id": "FEUhOZ7rhM9X"
   },
   "source": [
    "## Load the Model"
   ]
  },
  {
   "cell_type": "code",
   "execution_count": null,
   "metadata": {},
   "outputs": [],
   "source": [
    "model_reload = keras.models.load_model('saved_model/model_cnn')"
   ]
  },
  {
   "cell_type": "code",
   "execution_count": null,
   "metadata": {},
   "outputs": [],
   "source": [
    "y_predict = model.predict(X_test)"
   ]
  },
  {
   "cell_type": "code",
   "execution_count": null,
   "metadata": {},
   "outputs": [],
   "source": [
    "y_predict[:, 9]"
   ]
  },
  {
   "cell_type": "markdown",
   "metadata": {},
   "source": [
    "## ROC"
   ]
  },
  {
   "cell_type": "code",
   "execution_count": null,
   "metadata": {},
   "outputs": [],
   "source": [
    "y_predict_selected = y_predict[:, [9,26]]"
   ]
  },
  {
   "cell_type": "code",
   "execution_count": null,
   "metadata": {},
   "outputs": [],
   "source": [
    "y_predict_selected"
   ]
  },
  {
   "cell_type": "code",
   "execution_count": null,
   "metadata": {},
   "outputs": [],
   "source": [
    "fpr_keras, tpr_keras, thresholds_keras = roc_curve(y_test, y_predict)"
   ]
  },
  {
   "cell_type": "code",
   "execution_count": null,
   "metadata": {},
   "outputs": [],
   "source": [
    "y_predict_selected"
   ]
  },
  {
   "cell_type": "code",
   "execution_count": null,
   "metadata": {},
   "outputs": [],
   "source": [
    "fpr_keras, tpr_keras, thresholds_keras = roc_curve(y_test, y_predict_selected)"
   ]
  },
  {
   "cell_type": "code",
   "execution_count": null,
   "metadata": {},
   "outputs": [],
   "source": [
    "metrics.plot_roc_curve(model, X_test, y_test)"
   ]
  },
  {
   "cell_type": "code",
   "execution_count": null,
   "metadata": {},
   "outputs": [],
   "source": [
    "y = np.array([1, 1, 2, 2])\n",
    "scores = np.array([0.1, 0.4, 0.35, 0.8])\n",
    "fpr, tpr, thresholds = roc_curve(y, scores, pos_label=2)"
   ]
  },
  {
   "cell_type": "code",
   "execution_count": null,
   "metadata": {},
   "outputs": [],
   "source": [
    "fpr"
   ]
  },
  {
   "cell_type": "code",
   "execution_count": null,
   "metadata": {},
   "outputs": [],
   "source": [
    "tpr"
   ]
  },
  {
   "cell_type": "code",
   "execution_count": null,
   "metadata": {},
   "outputs": [],
   "source": [
    "roc_auc = auc(fpr, tpr)\n",
    "\n",
    "plt.figure()\n",
    "plt.plot(fpr, tpr, color='darkorange', lw=1, label='ROC curve (area = %0.2f)' % roc_auc)"
   ]
  },
  {
   "cell_type": "code",
   "execution_count": null,
   "metadata": {},
   "outputs": [],
   "source": []
  }
 ],
 "metadata": {
  "anaconda-cloud": {},
  "celltoolbar": "Slideshow",
  "colab": {
   "name": "KaryoChimneyRock_FullyConnectedNN.ipynb",
   "provenance": []
  },
  "kernelspec": {
   "display_name": "Python 3",
   "language": "python",
   "name": "python3"
  },
  "language_info": {
   "codemirror_mode": {
    "name": "ipython",
    "version": 3
   },
   "file_extension": ".py",
   "mimetype": "text/x-python",
   "name": "python",
   "nbconvert_exporter": "python",
   "pygments_lexer": "ipython3",
   "version": "3.7.3"
  }
 },
 "nbformat": 4,
 "nbformat_minor": 1
}
