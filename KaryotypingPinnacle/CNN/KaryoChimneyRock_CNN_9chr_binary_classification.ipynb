{
 "cells": [
  {
   "cell_type": "markdown",
   "metadata": {
    "colab_type": "text",
    "id": "slIdjqTJhM8B"
   },
   "source": [
    "# A Semi-automatic Classification of Normal Karyotypes using Convolutional Neural Network Algorithm"
   ]
  },
  {
   "cell_type": "markdown",
   "metadata": {
    "colab_type": "text",
    "id": "aBT9lgVVhM8D"
   },
   "source": [
    "- **Chuan Yang**, MD, PhD Student\n",
    "- Mentor: **Yanyan Zhao**, MD, PhD\n",
    "- Shengjing Hospital of China Medical University"
   ]
  },
  {
   "cell_type": "markdown",
   "metadata": {
    "colab_type": "text",
    "id": "xrnbxOZChM8E"
   },
   "source": [
    "## Modules"
   ]
  },
  {
   "cell_type": "code",
   "execution_count": 1,
   "metadata": {
    "colab": {},
    "colab_type": "code",
    "id": "aKjA8v4hhM8E"
   },
   "outputs": [],
   "source": [
    "from PIL import Image\n",
    "import numpy as np\n",
    "import pandas as pd\n",
    "import matplotlib.pyplot as plt\n",
    "\n",
    "import seaborn as sb\n",
    "\n",
    "from sklearn.metrics import classification_report, confusion_matrix, roc_curve, auc\n",
    "\n",
    "from tensorflow.keras import Sequential\n",
    "from tensorflow.keras.layers import Dense, Conv2D, MaxPooling2D, Flatten\n",
    "from tensorflow import keras\n",
    "\n",
    "from os import walk\n",
    "\n",
    "import time\n",
    "import datetime\n",
    "\n",
    "%matplotlib inline"
   ]
  },
  {
   "cell_type": "markdown",
   "metadata": {
    "colab_type": "text",
    "id": "2KFSsnYohM8H"
   },
   "source": [
    "## Samples\n"
   ]
  },
  {
   "cell_type": "markdown",
   "metadata": {},
   "source": [
    "## Chormosome Label Convert by using Dictionary"
   ]
  },
  {
   "cell_type": "code",
   "execution_count": 2,
   "metadata": {},
   "outputs": [],
   "source": [
    "chromConvert = {'chr_09': 0,\n",
    "                'chr_9_inversion': 1                \n",
    "               }"
   ]
  },
  {
   "cell_type": "markdown",
   "metadata": {},
   "source": [
    "## File Import"
   ]
  },
  {
   "cell_type": "code",
   "execution_count": 3,
   "metadata": {
    "colab": {},
    "colab_type": "code",
    "id": "8YcabYh2hM8I"
   },
   "outputs": [],
   "source": [
    "#pathBase = 'C:\\\\Users\\\\Chuan\\\\OneDrive\\\\Dowrun\\\\Database\\\\PhD\\\\KaryoTypes\\\\Arrangement\\\\'\n",
    "#pathBase = 'I:\\\\Chuan\\\\Documents\\\\MyData\\\\PhD\\\\Karyotype\\\\Arrangement\\\\'\n",
    "pathBase = 'D:\\\\Users\\\\Chuan\\\\Documents\\\\Database\\\\Karyotypes\\\\Arrangement\\\\'\n",
    "\n",
    "theWhole = {}\n",
    "\n",
    "\n",
    "f = []\n",
    "f_09 = []\n",
    "mypath_09 = pathBase + 'chr_09'\n",
    "for (dirpath, dirnames, filenames) in walk(mypath_09):\n",
    "    f.extend(filenames)\n",
    "for l in f:\n",
    "    f_09.append(mypath_09 + '\\\\' + l)    \n",
    "    \n",
    "  \n",
    "# ///////// Abnormal ones //////////////\n",
    "\n",
    "f = []\n",
    "f_9_inversion = []\n",
    "mypath_9_inversion = pathBase + 'chr_9_inversion'\n",
    "for (dirpath, dirnames, filenames) in walk(mypath_9_inversion):\n",
    "    f.extend(filenames)\n",
    "for l in f:\n",
    "    f_9_inversion.append(mypath_9_inversion + '\\\\' + l)  \n",
    "\n",
    "theWhole['chr_09'] = f_09\n",
    "\n",
    "theWhole['chr_9_inversion'] = f_9_inversion"
   ]
  },
  {
   "cell_type": "code",
   "execution_count": 4,
   "metadata": {
    "colab": {},
    "colab_type": "code",
    "id": "6d8Ej2MShM8K",
    "outputId": "da32c938-49bb-4cec-9ded-708887ff9d05",
    "scrolled": false
   },
   "outputs": [
    {
     "data": {
      "text/plain": [
       "['D:\\\\Users\\\\Chuan\\\\Documents\\\\Database\\\\Karyotypes\\\\Arrangement\\\\chr_9_inversion\\\\W27694-1.jpg.9inv.bmp',\n",
       " 'D:\\\\Users\\\\Chuan\\\\Documents\\\\Database\\\\Karyotypes\\\\Arrangement\\\\chr_9_inversion\\\\W27694-10.jpg.9inv.bmp',\n",
       " 'D:\\\\Users\\\\Chuan\\\\Documents\\\\Database\\\\Karyotypes\\\\Arrangement\\\\chr_9_inversion\\\\W27694-11.jpg.9inv.bmp',\n",
       " 'D:\\\\Users\\\\Chuan\\\\Documents\\\\Database\\\\Karyotypes\\\\Arrangement\\\\chr_9_inversion\\\\W27694-12.jpg.9inv.bmp',\n",
       " 'D:\\\\Users\\\\Chuan\\\\Documents\\\\Database\\\\Karyotypes\\\\Arrangement\\\\chr_9_inversion\\\\W27694-2_.jpg.9invs.bmp',\n",
       " 'D:\\\\Users\\\\Chuan\\\\Documents\\\\Database\\\\Karyotypes\\\\Arrangement\\\\chr_9_inversion\\\\W27694-3.jpg.9inv.bmp',\n",
       " 'D:\\\\Users\\\\Chuan\\\\Documents\\\\Database\\\\Karyotypes\\\\Arrangement\\\\chr_9_inversion\\\\W27694-4.jpg.9inv.bmp',\n",
       " 'D:\\\\Users\\\\Chuan\\\\Documents\\\\Database\\\\Karyotypes\\\\Arrangement\\\\chr_9_inversion\\\\W27694-5.jpg.9inv.bmp',\n",
       " 'D:\\\\Users\\\\Chuan\\\\Documents\\\\Database\\\\Karyotypes\\\\Arrangement\\\\chr_9_inversion\\\\W27694-6.jpg.9inv.bmp',\n",
       " 'D:\\\\Users\\\\Chuan\\\\Documents\\\\Database\\\\Karyotypes\\\\Arrangement\\\\chr_9_inversion\\\\W27694-7.jpg.9inv.bmp',\n",
       " 'D:\\\\Users\\\\Chuan\\\\Documents\\\\Database\\\\Karyotypes\\\\Arrangement\\\\chr_9_inversion\\\\W27694-8.jpg.9inv.bmp',\n",
       " 'D:\\\\Users\\\\Chuan\\\\Documents\\\\Database\\\\Karyotypes\\\\Arrangement\\\\chr_9_inversion\\\\W27694-9.jpg.9inv.bmp']"
      ]
     },
     "execution_count": 4,
     "metadata": {},
     "output_type": "execute_result"
    }
   ],
   "source": [
    "theWhole['chr_9_inversion']"
   ]
  },
  {
   "cell_type": "markdown",
   "metadata": {
    "colab_type": "text",
    "id": "cKiAborxhM8N"
   },
   "source": [
    "## Image Input"
   ]
  },
  {
   "cell_type": "code",
   "execution_count": 5,
   "metadata": {
    "colab": {},
    "colab_type": "code",
    "id": "h88BOm8UhM8N",
    "outputId": "4f89df64-4a3c-43f0-a34e-00d88a3d8d16",
    "scrolled": false
   },
   "outputs": [
    {
     "name": "stdout",
     "output_type": "stream",
     "text": [
      "0.008969545364379883\n"
     ]
    }
   ],
   "source": [
    "start = time.time()\n",
    "\n",
    "image = {}\n",
    "i = 0\n",
    "\n",
    "for chrNo in theWhole.keys():\n",
    "    image[chrNo] = []\n",
    "    for case in theWhole[chrNo]:\n",
    "        img = Image.open(case)\n",
    "        image[chrNo].append(img)\n",
    "    \n",
    "end = time.time()\n",
    "print(end - start)"
   ]
  },
  {
   "cell_type": "code",
   "execution_count": 6,
   "metadata": {
    "colab": {},
    "colab_type": "code",
    "id": "u7iYn89ShM8Q",
    "outputId": "95b42047-da5a-4f15-df45-dd89f5d37a72",
    "scrolled": true
   },
   "outputs": [
    {
     "data": {
      "image/png": "[encoded data removed]",
      "text/plain": [
       "<PIL.BmpImagePlugin.BmpImageFile image mode=RGB size=300x300 at 0x23A12F866A0>"
      ]
     },
     "execution_count": 6,
     "metadata": {},
     "output_type": "execute_result"
    }
   ],
   "source": [
    "image['chr_9_inversion'][1]"
   ]
  },
  {
   "cell_type": "markdown",
   "metadata": {
    "colab_type": "text",
    "id": "LMxjgFtHhM8S"
   },
   "source": [
    "## Functions"
   ]
  },
  {
   "cell_type": "code",
   "execution_count": 7,
   "metadata": {
    "colab": {},
    "colab_type": "code",
    "id": "EXeUvXLqhM8T"
   },
   "outputs": [],
   "source": [
    "def extractData(image):\n",
    "    x = image.size[0]\n",
    "    y = image.size[1]\n",
    "    \n",
    "    matrix = []\n",
    "    rgb_matrix = []\n",
    "\n",
    "    for i in range(x):\n",
    "        matrix.append([])\n",
    "        rgb_matrix.append([])\n",
    "        \n",
    "        for j in range(y):\n",
    "            r, g, b = image.getpixel((j, i))            \n",
    "            value = r * 299.0/1000 + g * 587.0/1000 + b * 114.0/1000\n",
    "            value = int(value)\n",
    "            matrix[i].append(value)\n",
    "            rgb_matrix[i].append((r,g,b))\n",
    "    return matrix, rgb_matrix"
   ]
  },
  {
   "cell_type": "code",
   "execution_count": 8,
   "metadata": {
    "colab": {},
    "colab_type": "code",
    "id": "PFXaHegmhM8V"
   },
   "outputs": [],
   "source": [
    "def imageReconstruct(matrix):\n",
    "    df = np.array(matrix, dtype=np.uint8)\n",
    "    img = Image.fromarray(df, 'RGB')\n",
    "    img.save('image.png')\n",
    "    return img"
   ]
  },
  {
   "cell_type": "markdown",
   "metadata": {
    "colab_type": "text",
    "id": "rW4l1hHBhM8X"
   },
   "source": [
    "## Data Extraction from Images"
   ]
  },
  {
   "cell_type": "code",
   "execution_count": 9,
   "metadata": {
    "colab": {},
    "colab_type": "code",
    "id": "9dHTmTyihM8Y",
    "outputId": "8868d731-9e6d-4f0a-bf56-39b488bbb765"
   },
   "outputs": [
    {
     "name": "stdout",
     "output_type": "stream",
     "text": [
      "12.032837867736816\n"
     ]
    }
   ],
   "source": [
    "start = time.time()\n",
    "\n",
    "data = {}\n",
    "#rgb_data = {}\n",
    "\n",
    "for chrNo in image.keys():\n",
    "    data[chrNo] = []; \n",
    "    #rgb_data[chrNo] = []\n",
    "    for case in image[chrNo]:\n",
    "        grey, rgb = extractData(case)\n",
    "        data[chrNo].append(grey)\n",
    "        #rgb_data[chrNo].append(rgb)\n",
    "        \n",
    "end = time.time()\n",
    "print(end - start)"
   ]
  },
  {
   "cell_type": "code",
   "execution_count": 10,
   "metadata": {
    "colab": {},
    "colab_type": "code",
    "id": "vjwPnXT9hM8a"
   },
   "outputs": [],
   "source": [
    "imageMatrix = np.array(data['chr_9_inversion'][1])"
   ]
  },
  {
   "cell_type": "code",
   "execution_count": 11,
   "metadata": {
    "colab": {},
    "colab_type": "code",
    "id": "1muxYWbyhM8e"
   },
   "outputs": [],
   "source": [
    "array = {}\n",
    "\n",
    "for chrNo in data.keys():\n",
    "    array[chrNo] = []\n",
    "    for case in data[chrNo]:            \n",
    "        array[chrNo].append(case)\n",
    "\n",
    "x_train_list = []\n",
    "y_train_list = []\n",
    "\n",
    "for y, x in array.items():    \n",
    "    for x_item in x:\n",
    "        x_train_list.append(x_item)\n",
    "        y_train_list.append(y)"
   ]
  },
  {
   "cell_type": "code",
   "execution_count": 12,
   "metadata": {
    "colab": {},
    "colab_type": "code",
    "id": "5wgG3agthM8i"
   },
   "outputs": [
    {
     "data": {
      "text/plain": [
       "300"
      ]
     },
     "execution_count": 12,
     "metadata": {},
     "output_type": "execute_result"
    }
   ],
   "source": [
    "len(x_train_list[1])"
   ]
  },
  {
   "cell_type": "code",
   "execution_count": 13,
   "metadata": {},
   "outputs": [
    {
     "data": {
      "text/plain": [
       "109"
      ]
     },
     "execution_count": 13,
     "metadata": {},
     "output_type": "execute_result"
    }
   ],
   "source": [
    "len(y_train_list)"
   ]
  },
  {
   "cell_type": "markdown",
   "metadata": {
    "colab_type": "text",
    "id": "dFpbXmQ6hM8j"
   },
   "source": [
    "### Validation Dataset"
   ]
  },
  {
   "cell_type": "code",
   "execution_count": 14,
   "metadata": {
    "colab": {},
    "colab_type": "code",
    "id": "Js0BRFerhM8k"
   },
   "outputs": [],
   "source": [
    "#pathBase = 'C:\\\\Users\\\\Chuan\\\\OneDrive\\\\Dowrun\\\\Database\\\\PhD\\\\KaryoTypes\\\\Arrangement\\\\test\\\\'\n",
    "#pathBase = 'I:\\\\Chuan\\\\Documents\\\\MyData\\\\PhD\\\\Karyotype\\\\Arrangement\\\\test\\\\'\n",
    "pathBase = 'D:\\\\Users\\\\Chuan\\\\Documents\\\\Database\\\\Karyotypes\\\\Arrangement\\\\test\\\\'\n",
    "\n",
    "theWhole = {}\n",
    "\n",
    "f = []\n",
    "f_09 = []\n",
    "mypath_09 = pathBase + 'chr_09'\n",
    "for (dirpath, dirnames, filenames) in walk(mypath_09):\n",
    "    f.extend(filenames)\n",
    "for l in f:\n",
    "    f_09.append(mypath_09 + '\\\\' + l)    \n",
    "    \n",
    "  \n",
    "# ///////// Abnormal ones //////////////\n",
    "\n",
    "f = []\n",
    "f_9_inversion = []\n",
    "mypath_9_inversion = pathBase + 'chr_9_inversion'\n",
    "for (dirpath, dirnames, filenames) in walk(mypath_9_inversion):\n",
    "    f.extend(filenames)\n",
    "for l in f:\n",
    "    f_9_inversion.append(mypath_9_inversion + '\\\\' + l)  \n",
    "\n",
    "theWhole['chr_09'] = f_09\n",
    "\n",
    "theWhole['chr_9_inversion'] = f_9_inversion"
   ]
  },
  {
   "cell_type": "code",
   "execution_count": 15,
   "metadata": {
    "colab": {},
    "colab_type": "code",
    "id": "NfFLITEfhM8n",
    "outputId": "f2767cf1-5d98-45a9-8a88-3d3d1afbed6c"
   },
   "outputs": [],
   "source": [
    "image = {}\n",
    "i = 0\n",
    "\n",
    "for chrNo in theWhole.keys():\n",
    "    image[chrNo] = []\n",
    "    for case in theWhole[chrNo]:\n",
    "        img = Image.open(case)\n",
    "        image[chrNo].append(img)    "
   ]
  },
  {
   "cell_type": "markdown",
   "metadata": {
    "colab_type": "text",
    "id": "3XDMPsD9hM8p"
   },
   "source": [
    "### Data Extraction"
   ]
  },
  {
   "cell_type": "code",
   "execution_count": 16,
   "metadata": {
    "colab": {},
    "colab_type": "code",
    "id": "Gb06RhsmhM8p",
    "outputId": "5e1c3d39-1202-4ebb-ab81-0290b816226f"
   },
   "outputs": [],
   "source": [
    "data = {}\n",
    "#rgb_data = {}\n",
    "\n",
    "for chrNo in image.keys():\n",
    "    data[chrNo] = []; \n",
    "    #rgb_data[chrNo] = []\n",
    "    for case in image[chrNo]:\n",
    "        grey, rgb = extractData(case)\n",
    "        data[chrNo].append(grey)\n",
    "        #rgb_data[chrNo].append(rgb)"
   ]
  },
  {
   "cell_type": "code",
   "execution_count": 17,
   "metadata": {
    "colab": {},
    "colab_type": "code",
    "id": "FeStRxHbhM8s"
   },
   "outputs": [],
   "source": [
    "array = {}\n",
    "\n",
    "for chrNo in data.keys():\n",
    "    array[chrNo] = []\n",
    "    for case in data[chrNo]:            \n",
    "        array[chrNo].append(case)\n",
    "\n",
    "x_test_list = []\n",
    "y_test_list = []\n",
    "\n",
    "for y, x in array.items():    \n",
    "    for x_item in x:\n",
    "        x_test_list.append(x_item)\n",
    "        y_test_list.append(y)"
   ]
  },
  {
   "cell_type": "markdown",
   "metadata": {},
   "source": [
    "## ChromConvert"
   ]
  },
  {
   "cell_type": "code",
   "execution_count": 18,
   "metadata": {},
   "outputs": [],
   "source": [
    "y_train_digital_list = []\n",
    "for item in y_train_list:\n",
    "    y_train_digital_list.append(chromConvert[item])\n",
    "    \n",
    "y_test_digital_list = []\n",
    "for item in y_test_list:\n",
    "    y_test_digital_list.append(chromConvert[item])"
   ]
  },
  {
   "cell_type": "markdown",
   "metadata": {},
   "source": [
    "## Numpy Array"
   ]
  },
  {
   "cell_type": "code",
   "execution_count": 19,
   "metadata": {},
   "outputs": [],
   "source": [
    "X_train = np.array(x_train_list)\n",
    "y_train = np.array(y_train_digital_list)"
   ]
  },
  {
   "cell_type": "code",
   "execution_count": 20,
   "metadata": {
    "colab": {},
    "colab_type": "code",
    "id": "ilm3FNfchM8w"
   },
   "outputs": [],
   "source": [
    "X_test = np.array(x_test_list)\n",
    "y_test = np.array(y_test_digital_list)"
   ]
  },
  {
   "cell_type": "code",
   "execution_count": 21,
   "metadata": {
    "scrolled": true
   },
   "outputs": [
    {
     "data": {
      "text/plain": [
       "array([0, 0, 0, 0, 0, 0, 0, 0, 0, 0, 1, 1, 1, 1, 1, 1, 1, 1, 1, 1])"
      ]
     },
     "execution_count": 21,
     "metadata": {},
     "output_type": "execute_result"
    }
   ],
   "source": [
    "y_test"
   ]
  },
  {
   "cell_type": "code",
   "execution_count": 22,
   "metadata": {},
   "outputs": [
    {
     "data": {
      "text/plain": [
       "109"
      ]
     },
     "execution_count": 22,
     "metadata": {},
     "output_type": "execute_result"
    }
   ],
   "source": [
    "len(X_train)"
   ]
  },
  {
   "cell_type": "code",
   "execution_count": 23,
   "metadata": {},
   "outputs": [
    {
     "data": {
      "text/plain": [
       "109"
      ]
     },
     "execution_count": 23,
     "metadata": {},
     "output_type": "execute_result"
    }
   ],
   "source": [
    "len(y_train)"
   ]
  },
  {
   "cell_type": "code",
   "execution_count": 24,
   "metadata": {},
   "outputs": [
    {
     "data": {
      "text/plain": [
       "(300, 300)"
      ]
     },
     "execution_count": 24,
     "metadata": {},
     "output_type": "execute_result"
    }
   ],
   "source": [
    "X_train[0].shape"
   ]
  },
  {
   "cell_type": "markdown",
   "metadata": {
    "colab_type": "text",
    "id": "w6JHLc0khM8y"
   },
   "source": [
    "## Save the Datasets"
   ]
  },
  {
   "cell_type": "code",
   "execution_count": 25,
   "metadata": {
    "colab": {},
    "colab_type": "code",
    "id": "ZwZnN84ghM8y"
   },
   "outputs": [],
   "source": [
    "np.save('X_train_2D_KaryoLearning_Abnormal', X_train)\n",
    "np.save('y_train_2D_KaryoLearning_Abnormal', y_train)"
   ]
  },
  {
   "cell_type": "code",
   "execution_count": 26,
   "metadata": {
    "colab": {},
    "colab_type": "code",
    "id": "2DV0IIz7hM80"
   },
   "outputs": [],
   "source": [
    "np.save('X_test_2D_KaryoLearning_Abnormal', X_test)\n",
    "np.save('y_test_2D_KaryoLearning_Abnormal', y_test)"
   ]
  },
  {
   "cell_type": "markdown",
   "metadata": {
    "colab_type": "text",
    "id": "tHi_7uq7hM81"
   },
   "source": [
    "## Load the Datasets"
   ]
  },
  {
   "cell_type": "code",
   "execution_count": 27,
   "metadata": {
    "colab": {},
    "colab_type": "code",
    "id": "tP5TTXkJhM82"
   },
   "outputs": [],
   "source": [
    "X_train = np.load('X_train_2D_KaryoLearning_Abnormal.npy')\n",
    "y_train = np.load('y_train_2D_KaryoLearning_Abnormal.npy')\n",
    "\n",
    "X_test = np.load('X_test_2D_KaryoLearning_Abnormal.npy')\n",
    "y_test = np.load('y_test_2D_KaryoLearning_Abnormal.npy')"
   ]
  },
  {
   "cell_type": "markdown",
   "metadata": {
    "colab_type": "text",
    "id": "zKWSId2nhM83"
   },
   "source": [
    "## Convolutional Neural Network"
   ]
  },
  {
   "cell_type": "markdown",
   "metadata": {},
   "source": [
    "## Data Preparation"
   ]
  },
  {
   "cell_type": "code",
   "execution_count": 28,
   "metadata": {},
   "outputs": [],
   "source": [
    "X_train = X_train.reshape(-1, 300, 300, 1)\n",
    "X_test = X_test.reshape(-1, 300, 300, 1)"
   ]
  },
  {
   "cell_type": "markdown",
   "metadata": {
    "colab_type": "text",
    "id": "U9HLQx8dhM84"
   },
   "source": [
    "### Training"
   ]
  },
  {
   "cell_type": "markdown",
   "metadata": {
    "colab_type": "text",
    "id": "xpM5Mh8fhM84"
   },
   "source": [
    "#### Model"
   ]
  },
  {
   "cell_type": "code",
   "execution_count": 29,
   "metadata": {
    "colab": {},
    "colab_type": "code",
    "id": "jeX02jNmhM85"
   },
   "outputs": [],
   "source": [
    "model = Sequential()"
   ]
  },
  {
   "cell_type": "code",
   "execution_count": 30,
   "metadata": {},
   "outputs": [],
   "source": [
    "model.add(Conv2D(32, (3, 3), activation='relu', input_shape=(300, 300, 1)))\n",
    "model.add(MaxPooling2D((2, 2)))\n",
    "model.add(Conv2D(64, (3, 3), activation='relu'))\n",
    "model.add(MaxPooling2D((2, 2)))\n",
    "model.add(Conv2D(64, (3, 3), activation='relu'))"
   ]
  },
  {
   "cell_type": "code",
   "execution_count": 31,
   "metadata": {},
   "outputs": [],
   "source": [
    "model.add(Flatten())\n",
    "model.add(Dense(300, activation='relu'))\n",
    "model.add(Dense(400, activation='relu'))\n",
    "model.add(Dense(500, activation='relu'))\n",
    "model.add(Dense(600, activation='relu'))\n",
    "model.add(Dense(400, activation='relu'))\n",
    "model.add(Dense(300, activation='relu'))\n",
    "model.add(Dense(100, activation='relu'))\n",
    "model.add(Dense(50, activation='relu'))\n",
    "model.add(Dense(20, activation='relu'))\n",
    "model.add(Dense(10, activation='relu'))\n",
    "model.add(Dense(2, activation='sigmoid'))"
   ]
  },
  {
   "cell_type": "markdown",
   "metadata": {
    "colab_type": "text",
    "id": "rOtNj0jlhM87"
   },
   "source": [
    "#### Tensorboard Initilization"
   ]
  },
  {
   "cell_type": "code",
   "execution_count": 32,
   "metadata": {
    "colab": {},
    "colab_type": "code",
    "id": "VEg0lb4OhM87"
   },
   "outputs": [],
   "source": [
    "%load_ext tensorboard\n",
    "log_dir = \"logs/fit/\" + datetime.datetime.now().strftime(\"%Y%m%d-%H%M%S\")\n",
    "tensorboard_callback = keras.callbacks.TensorBoard(log_dir=log_dir, histogram_freq=1)"
   ]
  },
  {
   "cell_type": "markdown",
   "metadata": {
    "colab_type": "text",
    "id": "P4zqonYwhM8-"
   },
   "source": [
    "#### Compile the modal"
   ]
  },
  {
   "cell_type": "code",
   "execution_count": 33,
   "metadata": {
    "colab": {},
    "colab_type": "code",
    "id": "wYvievAshM8_"
   },
   "outputs": [],
   "source": [
    "model.compile(optimizer='adam', loss='sparse_categorical_crossentropy', metrics=['accuracy'])"
   ]
  },
  {
   "cell_type": "markdown",
   "metadata": {
    "colab_type": "text",
    "id": "ElbCMim9hM9D"
   },
   "source": [
    "#### Training"
   ]
  },
  {
   "cell_type": "code",
   "execution_count": 34,
   "metadata": {
    "colab": {},
    "colab_type": "code",
    "id": "_PtUAhxphM9D",
    "scrolled": false
   },
   "outputs": [
    {
     "name": "stdout",
     "output_type": "stream",
     "text": [
      "Epoch 1/1000\n",
      "4/4 [==============================] - 5s 574ms/step - loss: 15.3987 - accuracy: 0.7706 - val_loss: 17.8681 - val_accuracy: 0.5000\n",
      "Epoch 2/1000\n",
      "4/4 [==============================] - 0s 102ms/step - loss: 2.3268 - accuracy: 0.8899 - val_loss: 0.7384 - val_accuracy: 0.5000\n",
      "Epoch 3/1000\n",
      "4/4 [==============================] - 0s 87ms/step - loss: 0.9860 - accuracy: 0.8899 - val_loss: 0.8815 - val_accuracy: 0.5000\n",
      "Epoch 4/1000\n",
      "4/4 [==============================] - 0s 79ms/step - loss: 0.8420 - accuracy: 0.6147 - val_loss: 7.6505 - val_accuracy: 0.5000\n",
      "Epoch 5/1000\n",
      "4/4 [==============================] - 0s 86ms/step - loss: 1.3004 - accuracy: 0.8899 - val_loss: 0.6915 - val_accuracy: 0.5000\n",
      "Epoch 6/1000\n",
      "4/4 [==============================] - 0s 86ms/step - loss: 0.8095 - accuracy: 0.8899 - val_loss: 0.7709 - val_accuracy: 0.5000\n",
      "Epoch 7/1000\n",
      "4/4 [==============================] - 0s 90ms/step - loss: 0.6877 - accuracy: 0.8899 - val_loss: 1.0632 - val_accuracy: 0.5000\n",
      "Epoch 8/1000\n",
      "4/4 [==============================] - 0s 87ms/step - loss: 0.4081 - accuracy: 0.8899 - val_loss: 1.2833 - val_accuracy: 0.5000\n",
      "Epoch 9/1000\n",
      "4/4 [==============================] - 0s 92ms/step - loss: 0.3636 - accuracy: 0.8899 - val_loss: 1.0575 - val_accuracy: 0.5000\n",
      "Epoch 10/1000\n",
      "4/4 [==============================] - 0s 83ms/step - loss: 0.4308 - accuracy: 0.8899 - val_loss: 0.7318 - val_accuracy: 0.5000\n",
      "Epoch 11/1000\n",
      "4/4 [==============================] - 0s 87ms/step - loss: 0.4641 - accuracy: 0.8899 - val_loss: 0.9828 - val_accuracy: 0.5000\n",
      "Epoch 12/1000\n",
      "4/4 [==============================] - 0s 89ms/step - loss: 0.3948 - accuracy: 0.8899 - val_loss: 0.8826 - val_accuracy: 0.5000\n",
      "Epoch 13/1000\n",
      "4/4 [==============================] - 0s 87ms/step - loss: 0.3782 - accuracy: 0.8899 - val_loss: 1.4375 - val_accuracy: 0.5000\n",
      "Epoch 14/1000\n",
      "4/4 [==============================] - 0s 86ms/step - loss: 0.3726 - accuracy: 0.8899 - val_loss: 1.3120 - val_accuracy: 0.5000\n",
      "Epoch 15/1000\n",
      "4/4 [==============================] - 0s 83ms/step - loss: 0.3489 - accuracy: 0.8899 - val_loss: 1.2879 - val_accuracy: 0.5000\n",
      "Epoch 16/1000\n",
      "4/4 [==============================] - 0s 89ms/step - loss: 0.3441 - accuracy: 0.8899 - val_loss: 0.9089 - val_accuracy: 0.5000\n",
      "Epoch 17/1000\n",
      "4/4 [==============================] - 0s 87ms/step - loss: 0.3023 - accuracy: 0.8899 - val_loss: 2.4433 - val_accuracy: 0.5000\n",
      "Epoch 18/1000\n",
      "4/4 [==============================] - 0s 92ms/step - loss: 0.4090 - accuracy: 0.8899 - val_loss: 0.9734 - val_accuracy: 0.5000\n",
      "Epoch 19/1000\n",
      "4/4 [==============================] - 0s 84ms/step - loss: 0.3671 - accuracy: 0.8899 - val_loss: 0.9225 - val_accuracy: 0.5000\n",
      "Epoch 20/1000\n",
      "4/4 [==============================] - 0s 89ms/step - loss: 0.3928 - accuracy: 0.8899 - val_loss: 1.0350 - val_accuracy: 0.5000\n",
      "Epoch 21/1000\n",
      "4/4 [==============================] - 0s 87ms/step - loss: 0.4260 - accuracy: 0.8899 - val_loss: 0.6846 - val_accuracy: 1.0000\n",
      "Epoch 22/1000\n",
      "4/4 [==============================] - 0s 86ms/step - loss: 0.5178 - accuracy: 0.8257 - val_loss: 1.2089 - val_accuracy: 0.5000\n",
      "Epoch 23/1000\n",
      "4/4 [==============================] - 0s 86ms/step - loss: 0.4182 - accuracy: 0.8899 - val_loss: 0.9192 - val_accuracy: 0.5000\n",
      "Epoch 24/1000\n",
      "4/4 [==============================] - 0s 86ms/step - loss: 0.4481 - accuracy: 0.8899 - val_loss: 0.7742 - val_accuracy: 0.5000\n",
      "Epoch 25/1000\n",
      "4/4 [==============================] - 0s 87ms/step - loss: 0.4017 - accuracy: 0.8899 - val_loss: 0.7816 - val_accuracy: 0.5000\n",
      "Epoch 26/1000\n",
      "4/4 [==============================] - 0s 81ms/step - loss: 0.3818 - accuracy: 0.8899 - val_loss: 1.4150 - val_accuracy: 0.5000\n",
      "Epoch 27/1000\n",
      "4/4 [==============================] - 0s 86ms/step - loss: 0.3449 - accuracy: 0.8899 - val_loss: 1.1852 - val_accuracy: 0.5000\n",
      "Epoch 28/1000\n",
      "4/4 [==============================] - 0s 86ms/step - loss: 0.3118 - accuracy: 0.8899 - val_loss: 0.5965 - val_accuracy: 0.5000\n",
      "Epoch 29/1000\n",
      "4/4 [==============================] - 0s 88ms/step - loss: 0.2937 - accuracy: 0.8899 - val_loss: 0.5278 - val_accuracy: 0.5000\n",
      "Epoch 30/1000\n",
      "4/4 [==============================] - 0s 84ms/step - loss: 0.2168 - accuracy: 0.9083 - val_loss: 0.3502 - val_accuracy: 0.8500\n",
      "Epoch 31/1000\n",
      "4/4 [==============================] - 0s 86ms/step - loss: 0.1412 - accuracy: 0.9174 - val_loss: 0.2501 - val_accuracy: 1.0000\n",
      "Epoch 32/1000\n",
      "4/4 [==============================] - 0s 89ms/step - loss: 1.5078 - accuracy: 0.8716 - val_loss: 4.2895 - val_accuracy: 0.5000\n",
      "Epoch 33/1000\n",
      "4/4 [==============================] - 0s 81ms/step - loss: 1.1146 - accuracy: 0.8899 - val_loss: 12.7967 - val_accuracy: 0.5000\n",
      "Epoch 34/1000\n",
      "4/4 [==============================] - 0s 86ms/step - loss: 1.0065 - accuracy: 0.8899 - val_loss: 0.6039 - val_accuracy: 0.5000\n",
      "Epoch 35/1000\n",
      "4/4 [==============================] - 0s 86ms/step - loss: 0.2955 - accuracy: 0.8899 - val_loss: 0.5195 - val_accuracy: 0.5000\n",
      "Epoch 36/1000\n",
      "4/4 [==============================] - 0s 86ms/step - loss: 0.1746 - accuracy: 0.8899 - val_loss: 0.5325 - val_accuracy: 0.5000\n",
      "Epoch 37/1000\n",
      "4/4 [==============================] - 0s 86ms/step - loss: 0.1202 - accuracy: 0.8899 - val_loss: 0.4383 - val_accuracy: 0.5000\n",
      "Epoch 38/1000\n",
      "4/4 [==============================] - 0s 86ms/step - loss: 0.0852 - accuracy: 0.9541 - val_loss: 0.3395 - val_accuracy: 0.8500\n",
      "Epoch 39/1000\n",
      "4/4 [==============================] - 0s 85ms/step - loss: 0.0410 - accuracy: 1.0000 - val_loss: 0.0173 - val_accuracy: 1.0000\n",
      "Epoch 40/1000\n",
      "4/4 [==============================] - 0s 81ms/step - loss: 0.0139 - accuracy: 0.9908 - val_loss: 0.2762 - val_accuracy: 0.8500\n",
      "Epoch 41/1000\n",
      "4/4 [==============================] - 0s 92ms/step - loss: 0.0120 - accuracy: 0.9908 - val_loss: 0.0125 - val_accuracy: 1.0000\n",
      "Epoch 42/1000\n",
      "4/4 [==============================] - 0s 87ms/step - loss: 7.0813e-05 - accuracy: 1.0000 - val_loss: 0.0045 - val_accuracy: 1.0000\n",
      "Epoch 43/1000\n",
      "4/4 [==============================] - 0s 88ms/step - loss: 1.5023e-04 - accuracy: 1.0000 - val_loss: 0.0030 - val_accuracy: 1.0000\n",
      "Epoch 44/1000\n",
      "4/4 [==============================] - 0s 84ms/step - loss: 2.8534e-04 - accuracy: 1.0000 - val_loss: 0.0023 - val_accuracy: 1.0000\n",
      "Epoch 45/1000\n",
      "4/4 [==============================] - 0s 84ms/step - loss: 1.1115e-04 - accuracy: 1.0000 - val_loss: 0.0018 - val_accuracy: 1.0000\n",
      "Epoch 46/1000\n",
      "4/4 [==============================] - 0s 86ms/step - loss: 6.5532e-05 - accuracy: 1.0000 - val_loss: 0.0013 - val_accuracy: 1.0000\n",
      "Epoch 47/1000\n",
      "4/4 [==============================] - 0s 90ms/step - loss: 3.1089e-05 - accuracy: 1.0000 - val_loss: 0.0011 - val_accuracy: 1.0000\n",
      "Epoch 48/1000\n",
      "4/4 [==============================] - 0s 89ms/step - loss: 2.1518e-05 - accuracy: 1.0000 - val_loss: 8.6310e-04 - val_accuracy: 1.0000\n",
      "Epoch 49/1000\n",
      "4/4 [==============================] - 0s 87ms/step - loss: 1.4228e-05 - accuracy: 1.0000 - val_loss: 7.3066e-04 - val_accuracy: 1.0000\n",
      "Epoch 50/1000\n",
      "4/4 [==============================] - 0s 84ms/step - loss: 9.8912e-06 - accuracy: 1.0000 - val_loss: 6.4433e-04 - val_accuracy: 1.0000\n",
      "Epoch 51/1000\n",
      "4/4 [==============================] - 0s 87ms/step - loss: 7.2942e-06 - accuracy: 1.0000 - val_loss: 5.8511e-04 - val_accuracy: 1.0000\n",
      "Epoch 52/1000\n",
      "4/4 [==============================] - 0s 89ms/step - loss: 5.6692e-06 - accuracy: 1.0000 - val_loss: 5.4318e-04 - val_accuracy: 1.0000\n",
      "Epoch 53/1000\n",
      "4/4 [==============================] - 0s 90ms/step - loss: 4.6708e-06 - accuracy: 1.0000 - val_loss: 5.1249e-04 - val_accuracy: 1.0000\n",
      "Epoch 54/1000\n",
      "4/4 [==============================] - 0s 87ms/step - loss: 3.9294e-06 - accuracy: 1.0000 - val_loss: 4.8824e-04 - val_accuracy: 1.0000\n",
      "Epoch 55/1000\n",
      "4/4 [==============================] - 0s 86ms/step - loss: 3.4898e-06 - accuracy: 1.0000 - val_loss: 4.6788e-04 - val_accuracy: 1.0000\n",
      "Epoch 56/1000\n",
      "4/4 [==============================] - 0s 90ms/step - loss: 3.0337e-06 - accuracy: 1.0000 - val_loss: 4.5204e-04 - val_accuracy: 1.0000\n",
      "Epoch 57/1000\n",
      "4/4 [==============================] - 0s 84ms/step - loss: 2.7581e-06 - accuracy: 1.0000 - val_loss: 4.3881e-04 - val_accuracy: 1.0000\n"
     ]
    },
    {
     "name": "stdout",
     "output_type": "stream",
     "text": [
      "Epoch 58/1000\n",
      "4/4 [==============================] - 0s 81ms/step - loss: 2.4902e-06 - accuracy: 1.0000 - val_loss: 4.2758e-04 - val_accuracy: 1.0000\n",
      "Epoch 59/1000\n",
      "4/4 [==============================] - 0s 83ms/step - loss: 2.2398e-06 - accuracy: 1.0000 - val_loss: 4.1789e-04 - val_accuracy: 1.0000\n",
      "Epoch 60/1000\n",
      "4/4 [==============================] - 0s 87ms/step - loss: 2.0724e-06 - accuracy: 1.0000 - val_loss: 4.0849e-04 - val_accuracy: 1.0000\n",
      "Epoch 61/1000\n",
      "4/4 [==============================] - 0s 84ms/step - loss: 1.9084e-06 - accuracy: 1.0000 - val_loss: 4.0041e-04 - val_accuracy: 1.0000\n",
      "Epoch 62/1000\n",
      "4/4 [==============================] - 0s 82ms/step - loss: 1.7465e-06 - accuracy: 1.0000 - val_loss: 3.9300e-04 - val_accuracy: 1.0000\n",
      "Epoch 63/1000\n",
      "4/4 [==============================] - 0s 84ms/step - loss: 1.6416e-06 - accuracy: 1.0000 - val_loss: 3.8577e-04 - val_accuracy: 1.0000\n",
      "Epoch 64/1000\n",
      "4/4 [==============================] - 0s 89ms/step - loss: 1.5027e-06 - accuracy: 1.0000 - val_loss: 3.7989e-04 - val_accuracy: 1.0000\n",
      "Epoch 65/1000\n",
      "4/4 [==============================] - 0s 82ms/step - loss: 1.4097e-06 - accuracy: 1.0000 - val_loss: 3.7459e-04 - val_accuracy: 1.0000\n",
      "Epoch 66/1000\n",
      "4/4 [==============================] - 0s 86ms/step - loss: 1.3058e-06 - accuracy: 1.0000 - val_loss: 3.6973e-04 - val_accuracy: 1.0000\n",
      "Epoch 67/1000\n",
      "4/4 [==============================] - 0s 86ms/step - loss: 1.2107e-06 - accuracy: 1.0000 - val_loss: 3.6481e-04 - val_accuracy: 1.0000\n",
      "Epoch 68/1000\n",
      "4/4 [==============================] - 0s 86ms/step - loss: 1.1472e-06 - accuracy: 1.0000 - val_loss: 3.5986e-04 - val_accuracy: 1.0000\n",
      "Epoch 69/1000\n",
      "4/4 [==============================] - 0s 84ms/step - loss: 1.0608e-06 - accuracy: 1.0000 - val_loss: 3.5542e-04 - val_accuracy: 1.0000\n",
      "Epoch 70/1000\n",
      "4/4 [==============================] - 0s 85ms/step - loss: 9.8319e-07 - accuracy: 1.0000 - val_loss: 3.5124e-04 - val_accuracy: 1.0000\n",
      "Epoch 71/1000\n",
      "4/4 [==============================] - 0s 86ms/step - loss: 9.0992e-07 - accuracy: 1.0000 - val_loss: 3.4736e-04 - val_accuracy: 1.0000\n",
      "Epoch 72/1000\n",
      "4/4 [==============================] - 0s 85ms/step - loss: 8.4539e-07 - accuracy: 1.0000 - val_loss: 3.4374e-04 - val_accuracy: 1.0000\n",
      "Epoch 73/1000\n",
      "4/4 [==============================] - 0s 86ms/step - loss: 7.8634e-07 - accuracy: 1.0000 - val_loss: 3.4024e-04 - val_accuracy: 1.0000\n",
      "Epoch 74/1000\n",
      "4/4 [==============================] - 0s 86ms/step - loss: 7.2947e-07 - accuracy: 1.0000 - val_loss: 3.3660e-04 - val_accuracy: 1.0000\n",
      "Epoch 75/1000\n",
      "4/4 [==============================] - 0s 83ms/step - loss: 6.8244e-07 - accuracy: 1.0000 - val_loss: 3.3325e-04 - val_accuracy: 1.0000\n",
      "Epoch 76/1000\n",
      "4/4 [==============================] - 0s 84ms/step - loss: 6.3979e-07 - accuracy: 1.0000 - val_loss: 3.3008e-04 - val_accuracy: 1.0000\n",
      "Epoch 77/1000\n",
      "4/4 [==============================] - 0s 81ms/step - loss: 5.9714e-07 - accuracy: 1.0000 - val_loss: 3.2705e-04 - val_accuracy: 1.0000\n",
      "Epoch 78/1000\n",
      "4/4 [==============================] - 0s 83ms/step - loss: 5.6542e-07 - accuracy: 1.0000 - val_loss: 3.2390e-04 - val_accuracy: 1.0000\n",
      "Epoch 79/1000\n",
      "4/4 [==============================] - 0s 81ms/step - loss: 5.2495e-07 - accuracy: 1.0000 - val_loss: 3.2110e-04 - val_accuracy: 1.0000\n",
      "Epoch 80/1000\n",
      "4/4 [==============================] - 0s 83ms/step - loss: 4.8449e-07 - accuracy: 1.0000 - val_loss: 3.1857e-04 - val_accuracy: 1.0000\n",
      "Epoch 81/1000\n",
      "4/4 [==============================] - 0s 84ms/step - loss: 4.5824e-07 - accuracy: 1.0000 - val_loss: 3.1574e-04 - val_accuracy: 1.0000\n",
      "Epoch 82/1000\n",
      "4/4 [==============================] - 0s 86ms/step - loss: 4.1996e-07 - accuracy: 1.0000 - val_loss: 3.1305e-04 - val_accuracy: 1.0000\n",
      "Epoch 83/1000\n",
      "4/4 [==============================] - 0s 85ms/step - loss: 3.9372e-07 - accuracy: 1.0000 - val_loss: 3.1015e-04 - val_accuracy: 1.0000\n",
      "Epoch 84/1000\n",
      "4/4 [==============================] - 0s 87ms/step - loss: 3.5981e-07 - accuracy: 1.0000 - val_loss: 3.0759e-04 - val_accuracy: 1.0000\n",
      "Epoch 85/1000\n",
      "4/4 [==============================] - 0s 86ms/step - loss: 3.4013e-07 - accuracy: 1.0000 - val_loss: 3.0492e-04 - val_accuracy: 1.0000\n",
      "Epoch 86/1000\n",
      "4/4 [==============================] - 0s 86ms/step - loss: 3.1169e-07 - accuracy: 1.0000 - val_loss: 3.0238e-04 - val_accuracy: 1.0000\n",
      "Epoch 87/1000\n",
      "4/4 [==============================] - 0s 86ms/step - loss: 2.8545e-07 - accuracy: 1.0000 - val_loss: 2.9996e-04 - val_accuracy: 1.0000\n",
      "Epoch 88/1000\n",
      "4/4 [==============================] - 0s 89ms/step - loss: 2.7013e-07 - accuracy: 1.0000 - val_loss: 2.9766e-04 - val_accuracy: 1.0000\n",
      "Epoch 89/1000\n",
      "4/4 [==============================] - 0s 81ms/step - loss: 2.4935e-07 - accuracy: 1.0000 - val_loss: 2.9546e-04 - val_accuracy: 1.0000\n",
      "Epoch 90/1000\n",
      "4/4 [==============================] - 0s 86ms/step - loss: 2.3514e-07 - accuracy: 1.0000 - val_loss: 2.9351e-04 - val_accuracy: 1.0000\n",
      "Epoch 91/1000\n",
      "4/4 [==============================] - 0s 87ms/step - loss: 2.1983e-07 - accuracy: 1.0000 - val_loss: 2.9166e-04 - val_accuracy: 1.0000\n",
      "Epoch 92/1000\n",
      "4/4 [==============================] - 0s 92ms/step - loss: 2.0780e-07 - accuracy: 1.0000 - val_loss: 2.8975e-04 - val_accuracy: 1.0000\n",
      "Epoch 93/1000\n",
      "4/4 [==============================] - 0s 87ms/step - loss: 1.9795e-07 - accuracy: 1.0000 - val_loss: 2.8789e-04 - val_accuracy: 1.0000\n",
      "Epoch 94/1000\n",
      "4/4 [==============================] - 0s 86ms/step - loss: 1.8592e-07 - accuracy: 1.0000 - val_loss: 2.8637e-04 - val_accuracy: 1.0000\n",
      "Epoch 95/1000\n",
      "4/4 [==============================] - 0s 84ms/step - loss: 1.7827e-07 - accuracy: 1.0000 - val_loss: 2.8488e-04 - val_accuracy: 1.0000\n",
      "Epoch 96/1000\n",
      "4/4 [==============================] - 0s 86ms/step - loss: 1.6952e-07 - accuracy: 1.0000 - val_loss: 2.8352e-04 - val_accuracy: 1.0000\n",
      "Epoch 97/1000\n",
      "4/4 [==============================] - 0s 88ms/step - loss: 1.5858e-07 - accuracy: 1.0000 - val_loss: 2.8200e-04 - val_accuracy: 1.0000\n",
      "Epoch 98/1000\n",
      "4/4 [==============================] - 0s 78ms/step - loss: 1.5530e-07 - accuracy: 1.0000 - val_loss: 2.7660e-04 - val_accuracy: 1.0000\n",
      "Epoch 99/1000\n",
      "4/4 [==============================] - 0s 87ms/step - loss: 1.4108e-07 - accuracy: 1.0000 - val_loss: 2.7190e-04 - val_accuracy: 1.0000\n",
      "Epoch 100/1000\n",
      "4/4 [==============================] - 0s 84ms/step - loss: 1.3671e-07 - accuracy: 1.0000 - val_loss: 2.6781e-04 - val_accuracy: 1.0000\n",
      "Epoch 101/1000\n",
      "4/4 [==============================] - 0s 90ms/step - loss: 1.2905e-07 - accuracy: 1.0000 - val_loss: 2.6381e-04 - val_accuracy: 1.0000\n",
      "Epoch 102/1000\n",
      "4/4 [==============================] - 0s 89ms/step - loss: 1.2140e-07 - accuracy: 1.0000 - val_loss: 2.6000e-04 - val_accuracy: 1.0000\n",
      "Epoch 103/1000\n",
      "4/4 [==============================] - 0s 86ms/step - loss: 1.1702e-07 - accuracy: 1.0000 - val_loss: 2.5676e-04 - val_accuracy: 1.0000\n",
      "Epoch 104/1000\n",
      "4/4 [==============================] - 0s 81ms/step - loss: 1.1265e-07 - accuracy: 1.0000 - val_loss: 2.5262e-04 - val_accuracy: 1.0000\n",
      "Epoch 105/1000\n",
      "4/4 [==============================] - 0s 86ms/step - loss: 1.0827e-07 - accuracy: 1.0000 - val_loss: 2.4886e-04 - val_accuracy: 1.0000\n",
      "Epoch 106/1000\n",
      "4/4 [==============================] - 0s 87ms/step - loss: 1.0280e-07 - accuracy: 1.0000 - val_loss: 2.4534e-04 - val_accuracy: 1.0000\n",
      "Epoch 107/1000\n",
      "4/4 [==============================] - 0s 89ms/step - loss: 9.7336e-08 - accuracy: 1.0000 - val_loss: 2.4232e-04 - val_accuracy: 1.0000\n",
      "Epoch 108/1000\n",
      "4/4 [==============================] - 0s 86ms/step - loss: 9.6242e-08 - accuracy: 1.0000 - val_loss: 2.3848e-04 - val_accuracy: 1.0000\n",
      "Epoch 109/1000\n",
      "4/4 [==============================] - 0s 87ms/step - loss: 9.0774e-08 - accuracy: 1.0000 - val_loss: 2.3431e-04 - val_accuracy: 1.0000\n",
      "Epoch 110/1000\n",
      "4/4 [==============================] - 0s 87ms/step - loss: 8.8587e-08 - accuracy: 1.0000 - val_loss: 2.3083e-04 - val_accuracy: 1.0000\n",
      "Epoch 111/1000\n",
      "4/4 [==============================] - 0s 83ms/step - loss: 8.5306e-08 - accuracy: 1.0000 - val_loss: 2.2773e-04 - val_accuracy: 1.0000\n",
      "Epoch 112/1000\n"
     ]
    },
    {
     "name": "stdout",
     "output_type": "stream",
     "text": [
      "4/4 [==============================] - 0s 86ms/step - loss: 8.2025e-08 - accuracy: 1.0000 - val_loss: 2.2406e-04 - val_accuracy: 1.0000\n",
      "Epoch 113/1000\n",
      "4/4 [==============================] - 0s 87ms/step - loss: 7.6556e-08 - accuracy: 1.0000 - val_loss: 2.2019e-04 - val_accuracy: 1.0000\n",
      "Epoch 114/1000\n",
      "4/4 [==============================] - 0s 87ms/step - loss: 7.4369e-08 - accuracy: 1.0000 - val_loss: 2.1701e-04 - val_accuracy: 1.0000\n",
      "Epoch 115/1000\n",
      "4/4 [==============================] - 0s 84ms/step - loss: 7.3275e-08 - accuracy: 1.0000 - val_loss: 2.1416e-04 - val_accuracy: 1.0000\n",
      "Epoch 116/1000\n",
      "4/4 [==============================] - 0s 81ms/step - loss: 7.1088e-08 - accuracy: 1.0000 - val_loss: 2.1182e-04 - val_accuracy: 1.0000\n",
      "Epoch 117/1000\n",
      "4/4 [==============================] - 0s 86ms/step - loss: 6.8901e-08 - accuracy: 1.0000 - val_loss: 2.0955e-04 - val_accuracy: 1.0000\n",
      "Epoch 118/1000\n",
      "4/4 [==============================] - 0s 92ms/step - loss: 6.5620e-08 - accuracy: 1.0000 - val_loss: 2.0746e-04 - val_accuracy: 1.0000\n",
      "Epoch 119/1000\n",
      "4/4 [==============================] - 0s 84ms/step - loss: 6.2339e-08 - accuracy: 1.0000 - val_loss: 2.0536e-04 - val_accuracy: 1.0000\n",
      "Epoch 120/1000\n",
      "4/4 [==============================] - 0s 82ms/step - loss: 6.1245e-08 - accuracy: 1.0000 - val_loss: 2.0352e-04 - val_accuracy: 1.0000\n",
      "Epoch 121/1000\n",
      "4/4 [==============================] - 0s 86ms/step - loss: 5.7964e-08 - accuracy: 1.0000 - val_loss: 2.0175e-04 - val_accuracy: 1.0000\n",
      "Epoch 122/1000\n",
      "4/4 [==============================] - 0s 89ms/step - loss: 5.6870e-08 - accuracy: 1.0000 - val_loss: 2.0002e-04 - val_accuracy: 1.0000\n",
      "Epoch 123/1000\n",
      "4/4 [==============================] - 0s 86ms/step - loss: 5.5777e-08 - accuracy: 1.0000 - val_loss: 1.9831e-04 - val_accuracy: 1.0000\n",
      "Epoch 124/1000\n",
      "4/4 [==============================] - 0s 87ms/step - loss: 5.3589e-08 - accuracy: 1.0000 - val_loss: 1.9676e-04 - val_accuracy: 1.0000\n",
      "Epoch 125/1000\n",
      "4/4 [==============================] - 0s 88ms/step - loss: 5.2496e-08 - accuracy: 1.0000 - val_loss: 1.9496e-04 - val_accuracy: 1.0000\n",
      "Epoch 126/1000\n",
      "4/4 [==============================] - 0s 84ms/step - loss: 4.9215e-08 - accuracy: 1.0000 - val_loss: 1.9326e-04 - val_accuracy: 1.0000\n",
      "Epoch 127/1000\n",
      "4/4 [==============================] - 0s 86ms/step - loss: 4.8121e-08 - accuracy: 1.0000 - val_loss: 1.9171e-04 - val_accuracy: 1.0000\n",
      "Epoch 128/1000\n",
      "4/4 [==============================] - 0s 89ms/step - loss: 4.7027e-08 - accuracy: 1.0000 - val_loss: 1.9031e-04 - val_accuracy: 1.0000\n",
      "Epoch 129/1000\n",
      "4/4 [==============================] - 0s 84ms/step - loss: 4.5934e-08 - accuracy: 1.0000 - val_loss: 1.8868e-04 - val_accuracy: 1.0000\n",
      "Epoch 130/1000\n",
      "4/4 [==============================] - 0s 83ms/step - loss: 4.3746e-08 - accuracy: 1.0000 - val_loss: 1.8746e-04 - val_accuracy: 1.0000\n",
      "Epoch 131/1000\n",
      "4/4 [==============================] - 0s 87ms/step - loss: 4.2653e-08 - accuracy: 1.0000 - val_loss: 1.8627e-04 - val_accuracy: 1.0000\n",
      "Epoch 132/1000\n",
      "4/4 [==============================] - 0s 86ms/step - loss: 4.1559e-08 - accuracy: 1.0000 - val_loss: 1.8508e-04 - val_accuracy: 1.0000\n",
      "Epoch 133/1000\n",
      "4/4 [==============================] - 0s 89ms/step - loss: 4.0466e-08 - accuracy: 1.0000 - val_loss: 1.8410e-04 - val_accuracy: 1.0000\n",
      "Epoch 134/1000\n",
      "4/4 [==============================] - 0s 83ms/step - loss: 4.0466e-08 - accuracy: 1.0000 - val_loss: 1.8328e-04 - val_accuracy: 1.0000\n",
      "Epoch 135/1000\n",
      "4/4 [==============================] - 0s 90ms/step - loss: 3.9372e-08 - accuracy: 1.0000 - val_loss: 1.8259e-04 - val_accuracy: 1.0000\n",
      "Epoch 136/1000\n",
      "4/4 [==============================] - 0s 84ms/step - loss: 3.8278e-08 - accuracy: 1.0000 - val_loss: 1.8199e-04 - val_accuracy: 1.0000\n",
      "Epoch 137/1000\n",
      "4/4 [==============================] - 0s 87ms/step - loss: 3.6091e-08 - accuracy: 1.0000 - val_loss: 1.8124e-04 - val_accuracy: 1.0000\n",
      "Epoch 138/1000\n",
      "4/4 [==============================] - 0s 92ms/step - loss: 3.4997e-08 - accuracy: 1.0000 - val_loss: 1.8054e-04 - val_accuracy: 1.0000\n",
      "Epoch 139/1000\n",
      "4/4 [==============================] - 0s 91ms/step - loss: 3.4997e-08 - accuracy: 1.0000 - val_loss: 1.7997e-04 - val_accuracy: 1.0000\n",
      "Epoch 140/1000\n",
      "4/4 [==============================] - 0s 88ms/step - loss: 3.3904e-08 - accuracy: 1.0000 - val_loss: 1.7941e-04 - val_accuracy: 1.0000\n",
      "Epoch 141/1000\n",
      "4/4 [==============================] - 0s 83ms/step - loss: 3.3904e-08 - accuracy: 1.0000 - val_loss: 1.7891e-04 - val_accuracy: 1.0000\n",
      "Epoch 142/1000\n",
      "4/4 [==============================] - 0s 84ms/step - loss: 3.3904e-08 - accuracy: 1.0000 - val_loss: 1.7841e-04 - val_accuracy: 1.0000\n",
      "Epoch 143/1000\n",
      "4/4 [==============================] - 0s 84ms/step - loss: 3.2810e-08 - accuracy: 1.0000 - val_loss: 1.7771e-04 - val_accuracy: 1.0000\n",
      "Epoch 144/1000\n",
      "4/4 [==============================] - 0s 89ms/step - loss: 3.2810e-08 - accuracy: 1.0000 - val_loss: 1.7711e-04 - val_accuracy: 1.0000\n",
      "Epoch 145/1000\n",
      "4/4 [==============================] - 0s 84ms/step - loss: 3.2810e-08 - accuracy: 1.0000 - val_loss: 1.7635e-04 - val_accuracy: 1.0000\n",
      "Epoch 146/1000\n",
      "4/4 [==============================] - 0s 84ms/step - loss: 3.0623e-08 - accuracy: 1.0000 - val_loss: 1.7577e-04 - val_accuracy: 1.0000\n",
      "Epoch 147/1000\n",
      "4/4 [==============================] - 0s 87ms/step - loss: 2.8435e-08 - accuracy: 1.0000 - val_loss: 1.7517e-04 - val_accuracy: 1.0000\n",
      "Epoch 148/1000\n",
      "4/4 [==============================] - 0s 91ms/step - loss: 2.8435e-08 - accuracy: 1.0000 - val_loss: 1.7468e-04 - val_accuracy: 1.0000\n",
      "Epoch 149/1000\n",
      "4/4 [==============================] - 0s 86ms/step - loss: 2.7342e-08 - accuracy: 1.0000 - val_loss: 1.7420e-04 - val_accuracy: 1.0000\n",
      "Epoch 150/1000\n",
      "4/4 [==============================] - 0s 91ms/step - loss: 2.6248e-08 - accuracy: 1.0000 - val_loss: 1.7371e-04 - val_accuracy: 1.0000\n",
      "Epoch 151/1000\n",
      "4/4 [==============================] - 0s 86ms/step - loss: 2.6248e-08 - accuracy: 1.0000 - val_loss: 1.7325e-04 - val_accuracy: 1.0000\n",
      "Epoch 152/1000\n",
      "4/4 [==============================] - 0s 92ms/step - loss: 2.6248e-08 - accuracy: 1.0000 - val_loss: 1.7284e-04 - val_accuracy: 1.0000\n",
      "Epoch 153/1000\n",
      "4/4 [==============================] - 0s 87ms/step - loss: 2.6248e-08 - accuracy: 1.0000 - val_loss: 1.7223e-04 - val_accuracy: 1.0000\n",
      "Epoch 154/1000\n",
      "4/4 [==============================] - 0s 83ms/step - loss: 2.5154e-08 - accuracy: 1.0000 - val_loss: 1.7175e-04 - val_accuracy: 1.0000\n",
      "Epoch 155/1000\n",
      "4/4 [==============================] - 0s 86ms/step - loss: 2.5154e-08 - accuracy: 1.0000 - val_loss: 1.7125e-04 - val_accuracy: 1.0000\n",
      "Epoch 156/1000\n",
      "4/4 [==============================] - 0s 86ms/step - loss: 2.5154e-08 - accuracy: 1.0000 - val_loss: 1.7078e-04 - val_accuracy: 1.0000\n",
      "Epoch 157/1000\n",
      "4/4 [==============================] - 0s 87ms/step - loss: 2.5154e-08 - accuracy: 1.0000 - val_loss: 1.7034e-04 - val_accuracy: 1.0000\n",
      "Epoch 158/1000\n",
      "4/4 [==============================] - 0s 85ms/step - loss: 2.1873e-08 - accuracy: 1.0000 - val_loss: 1.6995e-04 - val_accuracy: 1.0000\n",
      "Epoch 159/1000\n",
      "4/4 [==============================] - 0s 78ms/step - loss: 2.1873e-08 - accuracy: 1.0000 - val_loss: 1.6954e-04 - val_accuracy: 1.0000\n",
      "Epoch 160/1000\n",
      "4/4 [==============================] - 0s 83ms/step - loss: 2.1873e-08 - accuracy: 1.0000 - val_loss: 1.6916e-04 - val_accuracy: 1.0000\n",
      "Epoch 161/1000\n",
      "4/4 [==============================] - 0s 84ms/step - loss: 2.1873e-08 - accuracy: 1.0000 - val_loss: 1.6878e-04 - val_accuracy: 1.0000\n",
      "Epoch 162/1000\n",
      "4/4 [==============================] - 0s 92ms/step - loss: 2.0780e-08 - accuracy: 1.0000 - val_loss: 1.6841e-04 - val_accuracy: 1.0000\n",
      "Epoch 163/1000\n",
      "4/4 [==============================] - 0s 86ms/step - loss: 2.0780e-08 - accuracy: 1.0000 - val_loss: 1.6805e-04 - val_accuracy: 1.0000\n",
      "Epoch 164/1000\n",
      "4/4 [==============================] - 0s 86ms/step - loss: 2.0780e-08 - accuracy: 1.0000 - val_loss: 1.6766e-04 - val_accuracy: 1.0000\n",
      "Epoch 165/1000\n",
      "4/4 [==============================] - 0s 84ms/step - loss: 2.0780e-08 - accuracy: 1.0000 - val_loss: 1.6729e-04 - val_accuracy: 1.0000\n",
      "Epoch 166/1000\n"
     ]
    },
    {
     "name": "stdout",
     "output_type": "stream",
     "text": [
      "4/4 [==============================] - 0s 90ms/step - loss: 2.0780e-08 - accuracy: 1.0000 - val_loss: 1.6691e-04 - val_accuracy: 1.0000\n",
      "Epoch 167/1000\n",
      "4/4 [==============================] - 0s 87ms/step - loss: 1.9686e-08 - accuracy: 1.0000 - val_loss: 1.6655e-04 - val_accuracy: 1.0000\n",
      "Epoch 168/1000\n",
      "4/4 [==============================] - 2s 521ms/step - loss: 1.9686e-08 - accuracy: 1.0000 - val_loss: 1.6616e-04 - val_accuracy: 1.0000\n",
      "Epoch 169/1000\n",
      "4/4 [==============================] - 0s 86ms/step - loss: 1.8592e-08 - accuracy: 1.0000 - val_loss: 1.6581e-04 - val_accuracy: 1.0000\n",
      "Epoch 170/1000\n",
      "4/4 [==============================] - 0s 81ms/step - loss: 1.8592e-08 - accuracy: 1.0000 - val_loss: 1.6541e-04 - val_accuracy: 1.0000\n",
      "Epoch 171/1000\n",
      "4/4 [==============================] - 0s 81ms/step - loss: 1.7499e-08 - accuracy: 1.0000 - val_loss: 1.6508e-04 - val_accuracy: 1.0000\n",
      "Epoch 172/1000\n",
      "4/4 [==============================] - 0s 84ms/step - loss: 1.7499e-08 - accuracy: 1.0000 - val_loss: 1.6474e-04 - val_accuracy: 1.0000\n",
      "Epoch 173/1000\n",
      "4/4 [==============================] - 0s 86ms/step - loss: 1.7499e-08 - accuracy: 1.0000 - val_loss: 1.6433e-04 - val_accuracy: 1.0000\n",
      "Epoch 174/1000\n",
      "4/4 [==============================] - 0s 90ms/step - loss: 1.7499e-08 - accuracy: 1.0000 - val_loss: 1.6397e-04 - val_accuracy: 1.0000\n",
      "Epoch 175/1000\n",
      "4/4 [==============================] - 0s 84ms/step - loss: 1.7499e-08 - accuracy: 1.0000 - val_loss: 1.6362e-04 - val_accuracy: 1.0000\n",
      "Epoch 176/1000\n",
      "4/4 [==============================] - 0s 92ms/step - loss: 1.6405e-08 - accuracy: 1.0000 - val_loss: 1.6326e-04 - val_accuracy: 1.0000\n",
      "Epoch 177/1000\n",
      "4/4 [==============================] - 0s 86ms/step - loss: 1.5311e-08 - accuracy: 1.0000 - val_loss: 1.6293e-04 - val_accuracy: 1.0000\n",
      "Epoch 178/1000\n",
      "4/4 [==============================] - 0s 86ms/step - loss: 1.5311e-08 - accuracy: 1.0000 - val_loss: 1.6247e-04 - val_accuracy: 1.0000\n",
      "Epoch 179/1000\n",
      "4/4 [==============================] - 0s 83ms/step - loss: 1.5311e-08 - accuracy: 1.0000 - val_loss: 1.6202e-04 - val_accuracy: 1.0000\n",
      "Epoch 180/1000\n",
      "4/4 [==============================] - 0s 83ms/step - loss: 1.5311e-08 - accuracy: 1.0000 - val_loss: 1.6164e-04 - val_accuracy: 1.0000\n",
      "Epoch 181/1000\n",
      "4/4 [==============================] - 0s 86ms/step - loss: 1.5311e-08 - accuracy: 1.0000 - val_loss: 1.6113e-04 - val_accuracy: 1.0000\n",
      "Epoch 182/1000\n",
      "4/4 [==============================] - 0s 80ms/step - loss: 1.5311e-08 - accuracy: 1.0000 - val_loss: 1.6052e-04 - val_accuracy: 1.0000\n",
      "Epoch 183/1000\n",
      "4/4 [==============================] - 0s 89ms/step - loss: 1.5311e-08 - accuracy: 1.0000 - val_loss: 1.6000e-04 - val_accuracy: 1.0000\n",
      "Epoch 184/1000\n",
      "4/4 [==============================] - 0s 86ms/step - loss: 1.4218e-08 - accuracy: 1.0000 - val_loss: 1.5960e-04 - val_accuracy: 1.0000\n",
      "Epoch 185/1000\n",
      "4/4 [==============================] - 0s 86ms/step - loss: 1.4218e-08 - accuracy: 1.0000 - val_loss: 1.5922e-04 - val_accuracy: 1.0000\n",
      "Epoch 186/1000\n",
      "4/4 [==============================] - 0s 88ms/step - loss: 1.4218e-08 - accuracy: 1.0000 - val_loss: 1.5885e-04 - val_accuracy: 1.0000\n",
      "Epoch 187/1000\n",
      "4/4 [==============================] - 0s 86ms/step - loss: 1.4218e-08 - accuracy: 1.0000 - val_loss: 1.5854e-04 - val_accuracy: 1.0000\n",
      "Epoch 188/1000\n",
      "4/4 [==============================] - 0s 86ms/step - loss: 1.4218e-08 - accuracy: 1.0000 - val_loss: 1.5819e-04 - val_accuracy: 1.0000\n",
      "Epoch 189/1000\n",
      "4/4 [==============================] - 0s 83ms/step - loss: 1.4218e-08 - accuracy: 1.0000 - val_loss: 1.5791e-04 - val_accuracy: 1.0000\n",
      "Epoch 190/1000\n",
      "4/4 [==============================] - 0s 83ms/step - loss: 1.4218e-08 - accuracy: 1.0000 - val_loss: 1.5762e-04 - val_accuracy: 1.0000\n",
      "Epoch 191/1000\n",
      "4/4 [==============================] - 0s 87ms/step - loss: 1.4218e-08 - accuracy: 1.0000 - val_loss: 1.5732e-04 - val_accuracy: 1.0000\n",
      "Epoch 192/1000\n",
      "4/4 [==============================] - 0s 91ms/step - loss: 1.3124e-08 - accuracy: 1.0000 - val_loss: 1.5700e-04 - val_accuracy: 1.0000\n",
      "Epoch 193/1000\n",
      "4/4 [==============================] - 0s 87ms/step - loss: 1.3124e-08 - accuracy: 1.0000 - val_loss: 1.5668e-04 - val_accuracy: 1.0000\n",
      "Epoch 194/1000\n",
      "4/4 [==============================] - 0s 89ms/step - loss: 1.3124e-08 - accuracy: 1.0000 - val_loss: 1.5639e-04 - val_accuracy: 1.0000\n",
      "Epoch 195/1000\n",
      "4/4 [==============================] - 0s 87ms/step - loss: 1.2030e-08 - accuracy: 1.0000 - val_loss: 1.5595e-04 - val_accuracy: 1.0000\n",
      "Epoch 196/1000\n",
      "4/4 [==============================] - 0s 82ms/step - loss: 1.2030e-08 - accuracy: 1.0000 - val_loss: 1.5556e-04 - val_accuracy: 1.0000\n",
      "Epoch 197/1000\n",
      "4/4 [==============================] - 0s 84ms/step - loss: 1.2030e-08 - accuracy: 1.0000 - val_loss: 1.5522e-04 - val_accuracy: 1.0000\n",
      "Epoch 198/1000\n",
      "4/4 [==============================] - 0s 83ms/step - loss: 1.2030e-08 - accuracy: 1.0000 - val_loss: 1.5490e-04 - val_accuracy: 1.0000\n",
      "Epoch 199/1000\n",
      "4/4 [==============================] - 0s 85ms/step - loss: 1.2030e-08 - accuracy: 1.0000 - val_loss: 1.5459e-04 - val_accuracy: 1.0000\n",
      "Epoch 200/1000\n",
      "4/4 [==============================] - 0s 87ms/step - loss: 1.2030e-08 - accuracy: 1.0000 - val_loss: 1.5430e-04 - val_accuracy: 1.0000\n",
      "Epoch 201/1000\n",
      "4/4 [==============================] - 0s 84ms/step - loss: 1.2030e-08 - accuracy: 1.0000 - val_loss: 1.5401e-04 - val_accuracy: 1.0000\n",
      "Epoch 202/1000\n",
      "4/4 [==============================] - 0s 81ms/step - loss: 1.2030e-08 - accuracy: 1.0000 - val_loss: 1.5371e-04 - val_accuracy: 1.0000\n",
      "Epoch 203/1000\n",
      "4/4 [==============================] - 0s 86ms/step - loss: 1.2030e-08 - accuracy: 1.0000 - val_loss: 1.5329e-04 - val_accuracy: 1.0000\n",
      "Epoch 204/1000\n",
      "4/4 [==============================] - 0s 84ms/step - loss: 1.2030e-08 - accuracy: 1.0000 - val_loss: 1.5294e-04 - val_accuracy: 1.0000\n",
      "Epoch 205/1000\n",
      "4/4 [==============================] - 0s 84ms/step - loss: 1.2030e-08 - accuracy: 1.0000 - val_loss: 1.5262e-04 - val_accuracy: 1.0000\n",
      "Epoch 206/1000\n",
      "4/4 [==============================] - 0s 83ms/step - loss: 1.2030e-08 - accuracy: 1.0000 - val_loss: 1.5230e-04 - val_accuracy: 1.0000\n",
      "Epoch 207/1000\n",
      "4/4 [==============================] - 0s 84ms/step - loss: 1.0937e-08 - accuracy: 1.0000 - val_loss: 1.5197e-04 - val_accuracy: 1.0000\n",
      "Epoch 208/1000\n",
      "4/4 [==============================] - 0s 83ms/step - loss: 1.0937e-08 - accuracy: 1.0000 - val_loss: 1.5169e-04 - val_accuracy: 1.0000\n",
      "Epoch 209/1000\n",
      "4/4 [==============================] - 0s 89ms/step - loss: 1.0937e-08 - accuracy: 1.0000 - val_loss: 1.5130e-04 - val_accuracy: 1.0000\n",
      "Epoch 210/1000\n",
      "4/4 [==============================] - 0s 88ms/step - loss: 1.0937e-08 - accuracy: 1.0000 - val_loss: 1.5095e-04 - val_accuracy: 1.0000\n",
      "Epoch 211/1000\n",
      "4/4 [==============================] - 0s 87ms/step - loss: 9.8430e-09 - accuracy: 1.0000 - val_loss: 1.5061e-04 - val_accuracy: 1.0000\n",
      "Epoch 212/1000\n",
      "4/4 [==============================] - 0s 81ms/step - loss: 8.7493e-09 - accuracy: 1.0000 - val_loss: 1.5032e-04 - val_accuracy: 1.0000\n",
      "Epoch 213/1000\n",
      "4/4 [==============================] - 0s 83ms/step - loss: 8.7493e-09 - accuracy: 1.0000 - val_loss: 1.4993e-04 - val_accuracy: 1.0000\n",
      "Epoch 214/1000\n",
      "4/4 [==============================] - 0s 87ms/step - loss: 8.7493e-09 - accuracy: 1.0000 - val_loss: 1.4954e-04 - val_accuracy: 1.0000\n",
      "Epoch 215/1000\n",
      "4/4 [==============================] - 0s 87ms/step - loss: 8.7493e-09 - accuracy: 1.0000 - val_loss: 1.4925e-04 - val_accuracy: 1.0000\n",
      "Epoch 216/1000\n",
      "4/4 [==============================] - 0s 89ms/step - loss: 8.7493e-09 - accuracy: 1.0000 - val_loss: 1.4894e-04 - val_accuracy: 1.0000\n",
      "Epoch 217/1000\n",
      "4/4 [==============================] - 0s 86ms/step - loss: 8.7493e-09 - accuracy: 1.0000 - val_loss: 1.4867e-04 - val_accuracy: 1.0000\n",
      "Epoch 218/1000\n",
      "4/4 [==============================] - 0s 86ms/step - loss: 8.7493e-09 - accuracy: 1.0000 - val_loss: 1.4841e-04 - val_accuracy: 1.0000\n",
      "Epoch 219/1000\n",
      "4/4 [==============================] - 0s 87ms/step - loss: 8.7493e-09 - accuracy: 1.0000 - val_loss: 1.4812e-04 - val_accuracy: 1.0000\n",
      "Epoch 220/1000\n"
     ]
    },
    {
     "name": "stdout",
     "output_type": "stream",
     "text": [
      "4/4 [==============================] - 0s 89ms/step - loss: 8.7493e-09 - accuracy: 1.0000 - val_loss: 1.4788e-04 - val_accuracy: 1.0000\n",
      "Epoch 221/1000\n",
      "4/4 [==============================] - 0s 84ms/step - loss: 8.7493e-09 - accuracy: 1.0000 - val_loss: 1.4763e-04 - val_accuracy: 1.0000\n",
      "Epoch 222/1000\n",
      "4/4 [==============================] - 0s 89ms/step - loss: 8.7493e-09 - accuracy: 1.0000 - val_loss: 1.4726e-04 - val_accuracy: 1.0000\n",
      "Epoch 223/1000\n",
      "4/4 [==============================] - 0s 91ms/step - loss: 8.7493e-09 - accuracy: 1.0000 - val_loss: 1.4694e-04 - val_accuracy: 1.0000\n",
      "Epoch 224/1000\n",
      "4/4 [==============================] - 0s 88ms/step - loss: 8.7493e-09 - accuracy: 1.0000 - val_loss: 1.4665e-04 - val_accuracy: 1.0000\n",
      "Epoch 225/1000\n",
      "4/4 [==============================] - 0s 86ms/step - loss: 8.7493e-09 - accuracy: 1.0000 - val_loss: 1.4627e-04 - val_accuracy: 1.0000\n",
      "Epoch 226/1000\n",
      "4/4 [==============================] - 0s 87ms/step - loss: 7.6556e-09 - accuracy: 1.0000 - val_loss: 1.4581e-04 - val_accuracy: 1.0000\n",
      "Epoch 227/1000\n",
      "4/4 [==============================] - 0s 90ms/step - loss: 7.6556e-09 - accuracy: 1.0000 - val_loss: 1.4544e-04 - val_accuracy: 1.0000\n",
      "Epoch 228/1000\n",
      "4/4 [==============================] - 0s 88ms/step - loss: 7.6556e-09 - accuracy: 1.0000 - val_loss: 1.4515e-04 - val_accuracy: 1.0000\n",
      "Epoch 229/1000\n",
      "4/4 [==============================] - 0s 88ms/step - loss: 7.6556e-09 - accuracy: 1.0000 - val_loss: 1.4485e-04 - val_accuracy: 1.0000\n",
      "Epoch 230/1000\n",
      "4/4 [==============================] - 0s 87ms/step - loss: 7.6556e-09 - accuracy: 1.0000 - val_loss: 1.4450e-04 - val_accuracy: 1.0000\n",
      "Epoch 231/1000\n",
      "4/4 [==============================] - 0s 86ms/step - loss: 6.5620e-09 - accuracy: 1.0000 - val_loss: 1.4418e-04 - val_accuracy: 1.0000\n",
      "Epoch 232/1000\n",
      "4/4 [==============================] - 0s 87ms/step - loss: 6.5620e-09 - accuracy: 1.0000 - val_loss: 1.4386e-04 - val_accuracy: 1.0000\n",
      "Epoch 233/1000\n",
      "4/4 [==============================] - 0s 87ms/step - loss: 6.5620e-09 - accuracy: 1.0000 - val_loss: 1.4359e-04 - val_accuracy: 1.0000\n",
      "Epoch 234/1000\n",
      "4/4 [==============================] - 0s 87ms/step - loss: 6.5620e-09 - accuracy: 1.0000 - val_loss: 1.4332e-04 - val_accuracy: 1.0000\n",
      "Epoch 235/1000\n",
      "4/4 [==============================] - 0s 89ms/step - loss: 6.5620e-09 - accuracy: 1.0000 - val_loss: 1.4310e-04 - val_accuracy: 1.0000\n",
      "Epoch 236/1000\n",
      "4/4 [==============================] - 0s 87ms/step - loss: 6.5620e-09 - accuracy: 1.0000 - val_loss: 1.4285e-04 - val_accuracy: 1.0000\n",
      "Epoch 237/1000\n",
      "4/4 [==============================] - 0s 86ms/step - loss: 6.5620e-09 - accuracy: 1.0000 - val_loss: 1.4260e-04 - val_accuracy: 1.0000\n",
      "Epoch 238/1000\n",
      "4/4 [==============================] - 0s 87ms/step - loss: 6.5620e-09 - accuracy: 1.0000 - val_loss: 1.4238e-04 - val_accuracy: 1.0000\n",
      "Epoch 239/1000\n",
      "4/4 [==============================] - 0s 86ms/step - loss: 6.5620e-09 - accuracy: 1.0000 - val_loss: 1.4203e-04 - val_accuracy: 1.0000\n",
      "Epoch 240/1000\n",
      "4/4 [==============================] - 0s 79ms/step - loss: 6.5620e-09 - accuracy: 1.0000 - val_loss: 1.4174e-04 - val_accuracy: 1.0000\n",
      "Epoch 241/1000\n",
      "4/4 [==============================] - 0s 86ms/step - loss: 6.5620e-09 - accuracy: 1.0000 - val_loss: 1.4147e-04 - val_accuracy: 1.0000\n",
      "Epoch 242/1000\n",
      "4/4 [==============================] - 0s 83ms/step - loss: 6.5620e-09 - accuracy: 1.0000 - val_loss: 1.4121e-04 - val_accuracy: 1.0000\n",
      "Epoch 243/1000\n",
      "4/4 [==============================] - 0s 87ms/step - loss: 6.5620e-09 - accuracy: 1.0000 - val_loss: 1.4100e-04 - val_accuracy: 1.0000\n",
      "Epoch 244/1000\n",
      "4/4 [==============================] - 0s 86ms/step - loss: 6.5620e-09 - accuracy: 1.0000 - val_loss: 1.4079e-04 - val_accuracy: 1.0000\n",
      "Epoch 245/1000\n",
      "4/4 [==============================] - 0s 83ms/step - loss: 6.5620e-09 - accuracy: 1.0000 - val_loss: 1.4058e-04 - val_accuracy: 1.0000\n",
      "Epoch 246/1000\n",
      "4/4 [==============================] - 0s 86ms/step - loss: 6.5620e-09 - accuracy: 1.0000 - val_loss: 1.4036e-04 - val_accuracy: 1.0000\n",
      "Epoch 247/1000\n",
      "4/4 [==============================] - 0s 86ms/step - loss: 6.5620e-09 - accuracy: 1.0000 - val_loss: 1.4014e-04 - val_accuracy: 1.0000\n",
      "Epoch 248/1000\n",
      "4/4 [==============================] - 0s 91ms/step - loss: 6.5620e-09 - accuracy: 1.0000 - val_loss: 1.3983e-04 - val_accuracy: 1.0000\n",
      "Epoch 249/1000\n",
      "4/4 [==============================] - 0s 86ms/step - loss: 6.5620e-09 - accuracy: 1.0000 - val_loss: 1.3945e-04 - val_accuracy: 1.0000\n",
      "Epoch 250/1000\n",
      "4/4 [==============================] - 0s 87ms/step - loss: 6.5620e-09 - accuracy: 1.0000 - val_loss: 1.3905e-04 - val_accuracy: 1.0000\n",
      "Epoch 251/1000\n",
      "4/4 [==============================] - 0s 89ms/step - loss: 6.5620e-09 - accuracy: 1.0000 - val_loss: 1.3870e-04 - val_accuracy: 1.0000\n",
      "Epoch 252/1000\n",
      "4/4 [==============================] - 0s 83ms/step - loss: 6.5620e-09 - accuracy: 1.0000 - val_loss: 1.3839e-04 - val_accuracy: 1.0000\n",
      "Epoch 253/1000\n",
      "4/4 [==============================] - 0s 86ms/step - loss: 6.5620e-09 - accuracy: 1.0000 - val_loss: 1.3814e-04 - val_accuracy: 1.0000\n",
      "Epoch 254/1000\n",
      "4/4 [==============================] - 0s 87ms/step - loss: 6.5620e-09 - accuracy: 1.0000 - val_loss: 1.3789e-04 - val_accuracy: 1.0000\n",
      "Epoch 255/1000\n",
      "4/4 [==============================] - 0s 86ms/step - loss: 6.5620e-09 - accuracy: 1.0000 - val_loss: 1.3768e-04 - val_accuracy: 1.0000\n",
      "Epoch 256/1000\n",
      "4/4 [==============================] - 0s 87ms/step - loss: 6.5620e-09 - accuracy: 1.0000 - val_loss: 1.3746e-04 - val_accuracy: 1.0000\n",
      "Epoch 257/1000\n",
      "4/4 [==============================] - 0s 79ms/step - loss: 6.5620e-09 - accuracy: 1.0000 - val_loss: 1.3725e-04 - val_accuracy: 1.0000\n",
      "Epoch 258/1000\n",
      "4/4 [==============================] - 0s 89ms/step - loss: 5.4683e-09 - accuracy: 1.0000 - val_loss: 1.3702e-04 - val_accuracy: 1.0000\n",
      "Epoch 259/1000\n",
      "4/4 [==============================] - 0s 86ms/step - loss: 5.4683e-09 - accuracy: 1.0000 - val_loss: 1.3683e-04 - val_accuracy: 1.0000\n",
      "Epoch 260/1000\n",
      "4/4 [==============================] - 0s 86ms/step - loss: 5.4683e-09 - accuracy: 1.0000 - val_loss: 1.3663e-04 - val_accuracy: 1.0000\n",
      "Epoch 261/1000\n",
      "4/4 [==============================] - 0s 87ms/step - loss: 5.4683e-09 - accuracy: 1.0000 - val_loss: 1.3636e-04 - val_accuracy: 1.0000\n",
      "Epoch 262/1000\n",
      "4/4 [==============================] - 0s 84ms/step - loss: 4.3747e-09 - accuracy: 1.0000 - val_loss: 1.3608e-04 - val_accuracy: 1.0000\n",
      "Epoch 263/1000\n",
      "4/4 [==============================] - 0s 87ms/step - loss: 4.3747e-09 - accuracy: 1.0000 - val_loss: 1.3584e-04 - val_accuracy: 1.0000\n",
      "Epoch 264/1000\n",
      "4/4 [==============================] - 0s 84ms/step - loss: 4.3747e-09 - accuracy: 1.0000 - val_loss: 1.3563e-04 - val_accuracy: 1.0000\n",
      "Epoch 265/1000\n",
      "4/4 [==============================] - 0s 89ms/step - loss: 4.3747e-09 - accuracy: 1.0000 - val_loss: 1.3534e-04 - val_accuracy: 1.0000\n",
      "Epoch 266/1000\n",
      "4/4 [==============================] - 0s 87ms/step - loss: 4.3747e-09 - accuracy: 1.0000 - val_loss: 1.3510e-04 - val_accuracy: 1.0000\n",
      "Epoch 267/1000\n",
      "4/4 [==============================] - 0s 86ms/step - loss: 4.3747e-09 - accuracy: 1.0000 - val_loss: 1.3485e-04 - val_accuracy: 1.0000\n",
      "Epoch 268/1000\n",
      "4/4 [==============================] - 0s 89ms/step - loss: 4.3747e-09 - accuracy: 1.0000 - val_loss: 1.3464e-04 - val_accuracy: 1.0000\n",
      "Epoch 269/1000\n",
      "4/4 [==============================] - 0s 92ms/step - loss: 4.3747e-09 - accuracy: 1.0000 - val_loss: 1.3442e-04 - val_accuracy: 1.0000\n",
      "Epoch 270/1000\n",
      "4/4 [==============================] - 0s 89ms/step - loss: 4.3747e-09 - accuracy: 1.0000 - val_loss: 1.3421e-04 - val_accuracy: 1.0000\n",
      "Epoch 271/1000\n",
      "4/4 [==============================] - 0s 81ms/step - loss: 4.3747e-09 - accuracy: 1.0000 - val_loss: 1.3404e-04 - val_accuracy: 1.0000\n",
      "Epoch 272/1000\n",
      "4/4 [==============================] - 0s 89ms/step - loss: 4.3747e-09 - accuracy: 1.0000 - val_loss: 1.3391e-04 - val_accuracy: 1.0000\n",
      "Epoch 273/1000\n",
      "4/4 [==============================] - 0s 86ms/step - loss: 4.3747e-09 - accuracy: 1.0000 - val_loss: 1.3369e-04 - val_accuracy: 1.0000\n",
      "Epoch 274/1000\n"
     ]
    },
    {
     "name": "stdout",
     "output_type": "stream",
     "text": [
      "4/4 [==============================] - 0s 84ms/step - loss: 4.3747e-09 - accuracy: 1.0000 - val_loss: 1.3353e-04 - val_accuracy: 1.0000\n",
      "Epoch 275/1000\n",
      "4/4 [==============================] - 0s 82ms/step - loss: 4.3747e-09 - accuracy: 1.0000 - val_loss: 1.3327e-04 - val_accuracy: 1.0000\n",
      "Epoch 276/1000\n",
      "4/4 [==============================] - 0s 107ms/step - loss: 4.3747e-09 - accuracy: 1.0000 - val_loss: 1.3309e-04 - val_accuracy: 1.0000\n",
      "Epoch 277/1000\n",
      "4/4 [==============================] - 0s 84ms/step - loss: 4.3747e-09 - accuracy: 1.0000 - val_loss: 1.3293e-04 - val_accuracy: 1.0000\n",
      "Epoch 278/1000\n",
      "4/4 [==============================] - 0s 85ms/step - loss: 4.3747e-09 - accuracy: 1.0000 - val_loss: 1.3279e-04 - val_accuracy: 1.0000\n",
      "Epoch 279/1000\n",
      "4/4 [==============================] - 0s 84ms/step - loss: 4.3747e-09 - accuracy: 1.0000 - val_loss: 1.3268e-04 - val_accuracy: 1.0000\n",
      "Epoch 280/1000\n",
      "4/4 [==============================] - 0s 85ms/step - loss: 4.3747e-09 - accuracy: 1.0000 - val_loss: 1.3256e-04 - val_accuracy: 1.0000\n",
      "Epoch 281/1000\n",
      "4/4 [==============================] - 0s 84ms/step - loss: 4.3747e-09 - accuracy: 1.0000 - val_loss: 1.3234e-04 - val_accuracy: 1.0000\n",
      "Epoch 282/1000\n",
      "4/4 [==============================] - 0s 87ms/step - loss: 4.3747e-09 - accuracy: 1.0000 - val_loss: 1.3217e-04 - val_accuracy: 1.0000\n",
      "Epoch 283/1000\n",
      "4/4 [==============================] - 0s 81ms/step - loss: 4.3747e-09 - accuracy: 1.0000 - val_loss: 1.3202e-04 - val_accuracy: 1.0000\n",
      "Epoch 284/1000\n",
      "4/4 [==============================] - 0s 90ms/step - loss: 4.3747e-09 - accuracy: 1.0000 - val_loss: 1.3187e-04 - val_accuracy: 1.0000\n",
      "Epoch 285/1000\n",
      "4/4 [==============================] - 0s 87ms/step - loss: 4.3747e-09 - accuracy: 1.0000 - val_loss: 1.3177e-04 - val_accuracy: 1.0000\n",
      "Epoch 286/1000\n",
      "4/4 [==============================] - 0s 83ms/step - loss: 4.3747e-09 - accuracy: 1.0000 - val_loss: 1.3169e-04 - val_accuracy: 1.0000\n",
      "Epoch 287/1000\n",
      "4/4 [==============================] - 0s 89ms/step - loss: 4.3747e-09 - accuracy: 1.0000 - val_loss: 1.3150e-04 - val_accuracy: 1.0000\n",
      "Epoch 288/1000\n",
      "4/4 [==============================] - 0s 83ms/step - loss: 4.3747e-09 - accuracy: 1.0000 - val_loss: 1.3136e-04 - val_accuracy: 1.0000\n",
      "Epoch 289/1000\n",
      "4/4 [==============================] - 0s 81ms/step - loss: 4.3747e-09 - accuracy: 1.0000 - val_loss: 1.3115e-04 - val_accuracy: 1.0000\n",
      "Epoch 290/1000\n",
      "4/4 [==============================] - 0s 87ms/step - loss: 4.3747e-09 - accuracy: 1.0000 - val_loss: 1.3096e-04 - val_accuracy: 1.0000\n",
      "Epoch 291/1000\n",
      "4/4 [==============================] - 0s 81ms/step - loss: 4.3747e-09 - accuracy: 1.0000 - val_loss: 1.3086e-04 - val_accuracy: 1.0000\n",
      "Epoch 292/1000\n",
      "4/4 [==============================] - 0s 89ms/step - loss: 4.3747e-09 - accuracy: 1.0000 - val_loss: 1.3074e-04 - val_accuracy: 1.0000\n",
      "Epoch 293/1000\n",
      "4/4 [==============================] - 0s 86ms/step - loss: 4.3747e-09 - accuracy: 1.0000 - val_loss: 1.3066e-04 - val_accuracy: 1.0000\n",
      "Epoch 294/1000\n",
      "4/4 [==============================] - 0s 85ms/step - loss: 4.3747e-09 - accuracy: 1.0000 - val_loss: 1.3055e-04 - val_accuracy: 1.0000\n",
      "Epoch 295/1000\n",
      "4/4 [==============================] - 0s 87ms/step - loss: 4.3747e-09 - accuracy: 1.0000 - val_loss: 1.3047e-04 - val_accuracy: 1.0000\n",
      "Epoch 296/1000\n",
      "4/4 [==============================] - 0s 87ms/step - loss: 4.3747e-09 - accuracy: 1.0000 - val_loss: 1.3037e-04 - val_accuracy: 1.0000\n",
      "Epoch 297/1000\n",
      "4/4 [==============================] - 0s 86ms/step - loss: 4.3747e-09 - accuracy: 1.0000 - val_loss: 1.3021e-04 - val_accuracy: 1.0000\n",
      "Epoch 298/1000\n",
      "4/4 [==============================] - 0s 89ms/step - loss: 4.3747e-09 - accuracy: 1.0000 - val_loss: 1.3005e-04 - val_accuracy: 1.0000\n",
      "Epoch 299/1000\n",
      "4/4 [==============================] - 0s 86ms/step - loss: 4.3747e-09 - accuracy: 1.0000 - val_loss: 1.2993e-04 - val_accuracy: 1.0000\n",
      "Epoch 300/1000\n",
      "4/4 [==============================] - 0s 92ms/step - loss: 4.3747e-09 - accuracy: 1.0000 - val_loss: 1.2980e-04 - val_accuracy: 1.0000\n",
      "Epoch 301/1000\n",
      "4/4 [==============================] - 0s 86ms/step - loss: 4.3747e-09 - accuracy: 1.0000 - val_loss: 1.2971e-04 - val_accuracy: 1.0000\n",
      "Epoch 302/1000\n",
      "4/4 [==============================] - 0s 84ms/step - loss: 4.3747e-09 - accuracy: 1.0000 - val_loss: 1.2962e-04 - val_accuracy: 1.0000\n",
      "Epoch 303/1000\n",
      "4/4 [==============================] - 0s 83ms/step - loss: 4.3747e-09 - accuracy: 1.0000 - val_loss: 1.2954e-04 - val_accuracy: 1.0000\n",
      "Epoch 304/1000\n",
      "4/4 [==============================] - 0s 90ms/step - loss: 4.3747e-09 - accuracy: 1.0000 - val_loss: 1.2946e-04 - val_accuracy: 1.0000\n",
      "Epoch 305/1000\n",
      "4/4 [==============================] - 0s 86ms/step - loss: 4.3747e-09 - accuracy: 1.0000 - val_loss: 1.2939e-04 - val_accuracy: 1.0000\n",
      "Epoch 306/1000\n",
      "4/4 [==============================] - 0s 95ms/step - loss: 4.3747e-09 - accuracy: 1.0000 - val_loss: 1.2924e-04 - val_accuracy: 1.0000\n",
      "Epoch 307/1000\n",
      "4/4 [==============================] - 0s 91ms/step - loss: 4.3747e-09 - accuracy: 1.0000 - val_loss: 1.2909e-04 - val_accuracy: 1.0000\n",
      "Epoch 308/1000\n",
      "4/4 [==============================] - 0s 89ms/step - loss: 3.2810e-09 - accuracy: 1.0000 - val_loss: 1.2897e-04 - val_accuracy: 1.0000\n",
      "Epoch 309/1000\n",
      "4/4 [==============================] - 0s 87ms/step - loss: 3.2810e-09 - accuracy: 1.0000 - val_loss: 1.2886e-04 - val_accuracy: 1.0000\n",
      "Epoch 310/1000\n",
      "4/4 [==============================] - 0s 84ms/step - loss: 3.2810e-09 - accuracy: 1.0000 - val_loss: 1.2876e-04 - val_accuracy: 1.0000\n",
      "Epoch 311/1000\n",
      "4/4 [==============================] - 0s 89ms/step - loss: 3.2810e-09 - accuracy: 1.0000 - val_loss: 1.2864e-04 - val_accuracy: 1.0000\n",
      "Epoch 312/1000\n",
      "4/4 [==============================] - 0s 87ms/step - loss: 3.2810e-09 - accuracy: 1.0000 - val_loss: 1.2857e-04 - val_accuracy: 1.0000\n",
      "Epoch 313/1000\n",
      "4/4 [==============================] - 0s 84ms/step - loss: 3.2810e-09 - accuracy: 1.0000 - val_loss: 1.2847e-04 - val_accuracy: 1.0000\n",
      "Epoch 314/1000\n",
      "4/4 [==============================] - 0s 86ms/step - loss: 3.2810e-09 - accuracy: 1.0000 - val_loss: 1.2839e-04 - val_accuracy: 1.0000\n",
      "Epoch 315/1000\n",
      "4/4 [==============================] - 0s 86ms/step - loss: 3.2810e-09 - accuracy: 1.0000 - val_loss: 1.2827e-04 - val_accuracy: 1.0000\n",
      "Epoch 316/1000\n",
      "4/4 [==============================] - 0s 83ms/step - loss: 3.2810e-09 - accuracy: 1.0000 - val_loss: 1.2817e-04 - val_accuracy: 1.0000\n",
      "Epoch 317/1000\n",
      "4/4 [==============================] - 0s 86ms/step - loss: 3.2810e-09 - accuracy: 1.0000 - val_loss: 1.2808e-04 - val_accuracy: 1.0000\n",
      "Epoch 318/1000\n",
      "4/4 [==============================] - 0s 89ms/step - loss: 3.2810e-09 - accuracy: 1.0000 - val_loss: 1.2798e-04 - val_accuracy: 1.0000\n",
      "Epoch 319/1000\n",
      "4/4 [==============================] - 0s 89ms/step - loss: 3.2810e-09 - accuracy: 1.0000 - val_loss: 1.2789e-04 - val_accuracy: 1.0000\n",
      "Epoch 320/1000\n",
      "4/4 [==============================] - 0s 87ms/step - loss: 3.2810e-09 - accuracy: 1.0000 - val_loss: 1.2778e-04 - val_accuracy: 1.0000\n",
      "Epoch 321/1000\n",
      "4/4 [==============================] - 0s 87ms/step - loss: 3.2810e-09 - accuracy: 1.0000 - val_loss: 1.2769e-04 - val_accuracy: 1.0000\n",
      "Epoch 322/1000\n",
      "4/4 [==============================] - 0s 86ms/step - loss: 3.2810e-09 - accuracy: 1.0000 - val_loss: 1.2760e-04 - val_accuracy: 1.0000\n",
      "Epoch 323/1000\n",
      "4/4 [==============================] - 0s 87ms/step - loss: 3.2810e-09 - accuracy: 1.0000 - val_loss: 1.2750e-04 - val_accuracy: 1.0000\n",
      "Epoch 324/1000\n",
      "4/4 [==============================] - 0s 83ms/step - loss: 3.2810e-09 - accuracy: 1.0000 - val_loss: 1.2741e-04 - val_accuracy: 1.0000\n",
      "Epoch 325/1000\n",
      "4/4 [==============================] - 0s 89ms/step - loss: 3.2810e-09 - accuracy: 1.0000 - val_loss: 1.2731e-04 - val_accuracy: 1.0000\n",
      "Epoch 326/1000\n",
      "4/4 [==============================] - 0s 87ms/step - loss: 3.2810e-09 - accuracy: 1.0000 - val_loss: 1.2722e-04 - val_accuracy: 1.0000\n",
      "Epoch 327/1000\n",
      "4/4 [==============================] - 0s 86ms/step - loss: 3.2810e-09 - accuracy: 1.0000 - val_loss: 1.2707e-04 - val_accuracy: 1.0000\n",
      "Epoch 328/1000\n"
     ]
    },
    {
     "name": "stdout",
     "output_type": "stream",
     "text": [
      "4/4 [==============================] - 0s 90ms/step - loss: 3.2810e-09 - accuracy: 1.0000 - val_loss: 1.2694e-04 - val_accuracy: 1.0000\n",
      "Epoch 329/1000\n",
      "4/4 [==============================] - 0s 84ms/step - loss: 3.2810e-09 - accuracy: 1.0000 - val_loss: 1.2684e-04 - val_accuracy: 1.0000\n",
      "Epoch 330/1000\n",
      "4/4 [==============================] - 0s 89ms/step - loss: 3.2810e-09 - accuracy: 1.0000 - val_loss: 1.2672e-04 - val_accuracy: 1.0000\n",
      "Epoch 331/1000\n",
      "4/4 [==============================] - 0s 89ms/step - loss: 3.2810e-09 - accuracy: 1.0000 - val_loss: 1.2653e-04 - val_accuracy: 1.0000\n",
      "Epoch 332/1000\n",
      "4/4 [==============================] - 0s 89ms/step - loss: 3.2810e-09 - accuracy: 1.0000 - val_loss: 1.2640e-04 - val_accuracy: 1.0000\n",
      "Epoch 333/1000\n",
      "4/4 [==============================] - 0s 83ms/step - loss: 3.2810e-09 - accuracy: 1.0000 - val_loss: 1.2627e-04 - val_accuracy: 1.0000\n",
      "Epoch 334/1000\n",
      "4/4 [==============================] - 0s 79ms/step - loss: 3.2810e-09 - accuracy: 1.0000 - val_loss: 1.2618e-04 - val_accuracy: 1.0000\n",
      "Epoch 335/1000\n",
      "4/4 [==============================] - 0s 87ms/step - loss: 3.2810e-09 - accuracy: 1.0000 - val_loss: 1.2605e-04 - val_accuracy: 1.0000\n",
      "Epoch 336/1000\n",
      "4/4 [==============================] - 0s 86ms/step - loss: 3.2810e-09 - accuracy: 1.0000 - val_loss: 1.2596e-04 - val_accuracy: 1.0000\n",
      "Epoch 337/1000\n",
      "4/4 [==============================] - 0s 86ms/step - loss: 3.2810e-09 - accuracy: 1.0000 - val_loss: 1.2587e-04 - val_accuracy: 1.0000\n",
      "Epoch 338/1000\n",
      "4/4 [==============================] - 0s 87ms/step - loss: 3.2810e-09 - accuracy: 1.0000 - val_loss: 1.2574e-04 - val_accuracy: 1.0000\n",
      "Epoch 339/1000\n",
      "4/4 [==============================] - 0s 87ms/step - loss: 3.2810e-09 - accuracy: 1.0000 - val_loss: 1.2562e-04 - val_accuracy: 1.0000\n",
      "Epoch 340/1000\n",
      "4/4 [==============================] - 0s 86ms/step - loss: 3.2810e-09 - accuracy: 1.0000 - val_loss: 1.2549e-04 - val_accuracy: 1.0000\n",
      "Epoch 341/1000\n",
      "4/4 [==============================] - 0s 84ms/step - loss: 3.2810e-09 - accuracy: 1.0000 - val_loss: 1.2540e-04 - val_accuracy: 1.0000\n",
      "Epoch 342/1000\n",
      "4/4 [==============================] - 0s 78ms/step - loss: 3.2810e-09 - accuracy: 1.0000 - val_loss: 1.2531e-04 - val_accuracy: 1.0000\n",
      "Epoch 343/1000\n",
      "4/4 [==============================] - 0s 86ms/step - loss: 3.2810e-09 - accuracy: 1.0000 - val_loss: 1.2523e-04 - val_accuracy: 1.0000\n",
      "Epoch 344/1000\n",
      "4/4 [==============================] - 0s 81ms/step - loss: 3.2810e-09 - accuracy: 1.0000 - val_loss: 1.2516e-04 - val_accuracy: 1.0000\n",
      "Epoch 345/1000\n",
      "4/4 [==============================] - 0s 86ms/step - loss: 3.2810e-09 - accuracy: 1.0000 - val_loss: 1.2512e-04 - val_accuracy: 1.0000\n",
      "Epoch 346/1000\n",
      "4/4 [==============================] - 0s 89ms/step - loss: 3.2810e-09 - accuracy: 1.0000 - val_loss: 1.2504e-04 - val_accuracy: 1.0000\n",
      "Epoch 347/1000\n",
      "4/4 [==============================] - 0s 81ms/step - loss: 3.2810e-09 - accuracy: 1.0000 - val_loss: 1.2497e-04 - val_accuracy: 1.0000\n",
      "Epoch 348/1000\n",
      "4/4 [==============================] - 0s 86ms/step - loss: 3.2810e-09 - accuracy: 1.0000 - val_loss: 1.2490e-04 - val_accuracy: 1.0000\n",
      "Epoch 349/1000\n",
      "4/4 [==============================] - 0s 84ms/step - loss: 3.2810e-09 - accuracy: 1.0000 - val_loss: 1.2483e-04 - val_accuracy: 1.0000\n",
      "Epoch 350/1000\n",
      "4/4 [==============================] - 0s 84ms/step - loss: 3.2810e-09 - accuracy: 1.0000 - val_loss: 1.2476e-04 - val_accuracy: 1.0000\n",
      "Epoch 351/1000\n",
      "4/4 [==============================] - 0s 86ms/step - loss: 3.2810e-09 - accuracy: 1.0000 - val_loss: 1.2468e-04 - val_accuracy: 1.0000\n",
      "Epoch 352/1000\n",
      "4/4 [==============================] - 0s 84ms/step - loss: 3.2810e-09 - accuracy: 1.0000 - val_loss: 1.2461e-04 - val_accuracy: 1.0000\n",
      "Epoch 353/1000\n",
      "4/4 [==============================] - 0s 95ms/step - loss: 3.2810e-09 - accuracy: 1.0000 - val_loss: 1.2447e-04 - val_accuracy: 1.0000\n",
      "Epoch 354/1000\n",
      "4/4 [==============================] - 0s 84ms/step - loss: 3.2810e-09 - accuracy: 1.0000 - val_loss: 1.2436e-04 - val_accuracy: 1.0000\n",
      "Epoch 355/1000\n",
      "4/4 [==============================] - 0s 91ms/step - loss: 3.2810e-09 - accuracy: 1.0000 - val_loss: 1.2427e-04 - val_accuracy: 1.0000\n",
      "Epoch 356/1000\n",
      "4/4 [==============================] - 0s 87ms/step - loss: 3.2810e-09 - accuracy: 1.0000 - val_loss: 1.2419e-04 - val_accuracy: 1.0000\n",
      "Epoch 357/1000\n",
      "4/4 [==============================] - 0s 86ms/step - loss: 3.2810e-09 - accuracy: 1.0000 - val_loss: 1.2411e-04 - val_accuracy: 1.0000\n",
      "Epoch 358/1000\n",
      "4/4 [==============================] - 0s 84ms/step - loss: 3.2810e-09 - accuracy: 1.0000 - val_loss: 1.2402e-04 - val_accuracy: 1.0000\n",
      "Epoch 359/1000\n",
      "4/4 [==============================] - 0s 83ms/step - loss: 3.2810e-09 - accuracy: 1.0000 - val_loss: 1.2396e-04 - val_accuracy: 1.0000\n",
      "Epoch 360/1000\n",
      "4/4 [==============================] - 0s 89ms/step - loss: 2.1873e-09 - accuracy: 1.0000 - val_loss: 1.2388e-04 - val_accuracy: 1.0000\n",
      "Epoch 361/1000\n",
      "4/4 [==============================] - 0s 87ms/step - loss: 2.1873e-09 - accuracy: 1.0000 - val_loss: 1.2378e-04 - val_accuracy: 1.0000\n",
      "Epoch 362/1000\n",
      "4/4 [==============================] - 0s 80ms/step - loss: 2.1873e-09 - accuracy: 1.0000 - val_loss: 1.2371e-04 - val_accuracy: 1.0000\n",
      "Epoch 363/1000\n",
      "4/4 [==============================] - 0s 84ms/step - loss: 2.1873e-09 - accuracy: 1.0000 - val_loss: 1.2356e-04 - val_accuracy: 1.0000\n",
      "Epoch 364/1000\n",
      "4/4 [==============================] - 0s 89ms/step - loss: 2.1873e-09 - accuracy: 1.0000 - val_loss: 1.2345e-04 - val_accuracy: 1.0000\n",
      "Epoch 365/1000\n",
      "4/4 [==============================] - 0s 81ms/step - loss: 2.1873e-09 - accuracy: 1.0000 - val_loss: 1.2333e-04 - val_accuracy: 1.0000\n",
      "Epoch 366/1000\n",
      "4/4 [==============================] - 0s 87ms/step - loss: 2.1873e-09 - accuracy: 1.0000 - val_loss: 1.2324e-04 - val_accuracy: 1.0000\n",
      "Epoch 367/1000\n",
      "4/4 [==============================] - 0s 85ms/step - loss: 2.1873e-09 - accuracy: 1.0000 - val_loss: 1.2312e-04 - val_accuracy: 1.0000\n",
      "Epoch 368/1000\n",
      "4/4 [==============================] - 0s 84ms/step - loss: 2.1873e-09 - accuracy: 1.0000 - val_loss: 1.2304e-04 - val_accuracy: 1.0000\n",
      "Epoch 369/1000\n",
      "4/4 [==============================] - 0s 84ms/step - loss: 2.1873e-09 - accuracy: 1.0000 - val_loss: 1.2294e-04 - val_accuracy: 1.0000\n",
      "Epoch 370/1000\n",
      "4/4 [==============================] - 0s 86ms/step - loss: 2.1873e-09 - accuracy: 1.0000 - val_loss: 1.2285e-04 - val_accuracy: 1.0000\n",
      "Epoch 371/1000\n",
      "4/4 [==============================] - 0s 87ms/step - loss: 2.1873e-09 - accuracy: 1.0000 - val_loss: 1.2277e-04 - val_accuracy: 1.0000\n",
      "Epoch 372/1000\n",
      "4/4 [==============================] - 0s 83ms/step - loss: 2.1873e-09 - accuracy: 1.0000 - val_loss: 1.2266e-04 - val_accuracy: 1.0000\n",
      "Epoch 373/1000\n",
      "4/4 [==============================] - 0s 84ms/step - loss: 2.1873e-09 - accuracy: 1.0000 - val_loss: 1.2258e-04 - val_accuracy: 1.0000\n",
      "Epoch 374/1000\n",
      "4/4 [==============================] - 0s 86ms/step - loss: 2.1873e-09 - accuracy: 1.0000 - val_loss: 1.2249e-04 - val_accuracy: 1.0000\n",
      "Epoch 375/1000\n",
      "4/4 [==============================] - 0s 87ms/step - loss: 2.1873e-09 - accuracy: 1.0000 - val_loss: 1.2239e-04 - val_accuracy: 1.0000\n",
      "Epoch 376/1000\n",
      "4/4 [==============================] - 0s 90ms/step - loss: 2.1873e-09 - accuracy: 1.0000 - val_loss: 1.2230e-04 - val_accuracy: 1.0000\n",
      "Epoch 377/1000\n",
      "4/4 [==============================] - 0s 92ms/step - loss: 2.1873e-09 - accuracy: 1.0000 - val_loss: 1.2224e-04 - val_accuracy: 1.0000\n",
      "Epoch 378/1000\n",
      "4/4 [==============================] - 0s 87ms/step - loss: 2.1873e-09 - accuracy: 1.0000 - val_loss: 1.2215e-04 - val_accuracy: 1.0000\n",
      "Epoch 379/1000\n",
      "4/4 [==============================] - 0s 89ms/step - loss: 2.1873e-09 - accuracy: 1.0000 - val_loss: 1.2208e-04 - val_accuracy: 1.0000\n",
      "Epoch 380/1000\n",
      "4/4 [==============================] - 0s 81ms/step - loss: 2.1873e-09 - accuracy: 1.0000 - val_loss: 1.2200e-04 - val_accuracy: 1.0000\n",
      "Epoch 381/1000\n",
      "4/4 [==============================] - 0s 88ms/step - loss: 2.1873e-09 - accuracy: 1.0000 - val_loss: 1.2192e-04 - val_accuracy: 1.0000\n",
      "Epoch 382/1000\n"
     ]
    },
    {
     "name": "stdout",
     "output_type": "stream",
     "text": [
      "4/4 [==============================] - 0s 85ms/step - loss: 2.1873e-09 - accuracy: 1.0000 - val_loss: 1.2183e-04 - val_accuracy: 1.0000\n",
      "Epoch 383/1000\n",
      "4/4 [==============================] - 0s 86ms/step - loss: 2.1873e-09 - accuracy: 1.0000 - val_loss: 1.2176e-04 - val_accuracy: 1.0000\n",
      "Epoch 384/1000\n",
      "4/4 [==============================] - 0s 84ms/step - loss: 2.1873e-09 - accuracy: 1.0000 - val_loss: 1.2168e-04 - val_accuracy: 1.0000\n",
      "Epoch 385/1000\n",
      "4/4 [==============================] - 0s 86ms/step - loss: 2.1873e-09 - accuracy: 1.0000 - val_loss: 1.2158e-04 - val_accuracy: 1.0000\n",
      "Epoch 386/1000\n",
      "4/4 [==============================] - 0s 84ms/step - loss: 2.1873e-09 - accuracy: 1.0000 - val_loss: 1.2150e-04 - val_accuracy: 1.0000\n",
      "Epoch 387/1000\n",
      "4/4 [==============================] - 0s 86ms/step - loss: 2.1873e-09 - accuracy: 1.0000 - val_loss: 1.2141e-04 - val_accuracy: 1.0000\n",
      "Epoch 388/1000\n",
      "4/4 [==============================] - 0s 81ms/step - loss: 2.1873e-09 - accuracy: 1.0000 - val_loss: 1.2132e-04 - val_accuracy: 1.0000\n",
      "Epoch 389/1000\n",
      "4/4 [==============================] - 0s 84ms/step - loss: 2.1873e-09 - accuracy: 1.0000 - val_loss: 1.2126e-04 - val_accuracy: 1.0000\n",
      "Epoch 390/1000\n",
      "4/4 [==============================] - 0s 84ms/step - loss: 2.1873e-09 - accuracy: 1.0000 - val_loss: 1.2117e-04 - val_accuracy: 1.0000\n",
      "Epoch 391/1000\n",
      "4/4 [==============================] - 0s 92ms/step - loss: 2.1873e-09 - accuracy: 1.0000 - val_loss: 1.2110e-04 - val_accuracy: 1.0000\n",
      "Epoch 392/1000\n",
      "4/4 [==============================] - 0s 83ms/step - loss: 2.1873e-09 - accuracy: 1.0000 - val_loss: 1.2096e-04 - val_accuracy: 1.0000\n",
      "Epoch 393/1000\n",
      "4/4 [==============================] - 0s 89ms/step - loss: 2.1873e-09 - accuracy: 1.0000 - val_loss: 1.2084e-04 - val_accuracy: 1.0000\n",
      "Epoch 394/1000\n",
      "4/4 [==============================] - 0s 86ms/step - loss: 2.1873e-09 - accuracy: 1.0000 - val_loss: 1.2074e-04 - val_accuracy: 1.0000\n",
      "Epoch 395/1000\n",
      "4/4 [==============================] - 0s 84ms/step - loss: 2.1873e-09 - accuracy: 1.0000 - val_loss: 1.2067e-04 - val_accuracy: 1.0000\n",
      "Epoch 396/1000\n",
      "4/4 [==============================] - 0s 87ms/step - loss: 2.1873e-09 - accuracy: 1.0000 - val_loss: 1.2061e-04 - val_accuracy: 1.0000\n",
      "Epoch 397/1000\n",
      "4/4 [==============================] - 0s 87ms/step - loss: 2.1873e-09 - accuracy: 1.0000 - val_loss: 1.2053e-04 - val_accuracy: 1.0000\n",
      "Epoch 398/1000\n",
      "4/4 [==============================] - 0s 86ms/step - loss: 2.1873e-09 - accuracy: 1.0000 - val_loss: 1.2045e-04 - val_accuracy: 1.0000\n",
      "Epoch 399/1000\n",
      "4/4 [==============================] - 0s 87ms/step - loss: 2.1873e-09 - accuracy: 1.0000 - val_loss: 1.2038e-04 - val_accuracy: 1.0000\n",
      "Epoch 400/1000\n",
      "4/4 [==============================] - 0s 89ms/step - loss: 2.1873e-09 - accuracy: 1.0000 - val_loss: 1.2033e-04 - val_accuracy: 1.0000\n",
      "Epoch 401/1000\n",
      "4/4 [==============================] - 0s 86ms/step - loss: 2.1873e-09 - accuracy: 1.0000 - val_loss: 1.2027e-04 - val_accuracy: 1.0000\n",
      "Epoch 402/1000\n",
      "4/4 [==============================] - 0s 89ms/step - loss: 2.1873e-09 - accuracy: 1.0000 - val_loss: 1.2018e-04 - val_accuracy: 1.0000\n",
      "Epoch 403/1000\n",
      "4/4 [==============================] - 0s 92ms/step - loss: 2.1873e-09 - accuracy: 1.0000 - val_loss: 1.2014e-04 - val_accuracy: 1.0000\n",
      "Epoch 404/1000\n",
      "4/4 [==============================] - 0s 89ms/step - loss: 2.1873e-09 - accuracy: 1.0000 - val_loss: 1.2007e-04 - val_accuracy: 1.0000\n",
      "Epoch 405/1000\n",
      "4/4 [==============================] - 0s 85ms/step - loss: 2.1873e-09 - accuracy: 1.0000 - val_loss: 1.2001e-04 - val_accuracy: 1.0000\n",
      "Epoch 406/1000\n",
      "4/4 [==============================] - 0s 81ms/step - loss: 2.1873e-09 - accuracy: 1.0000 - val_loss: 1.1994e-04 - val_accuracy: 1.0000\n",
      "Epoch 407/1000\n",
      "4/4 [==============================] - 0s 84ms/step - loss: 2.1873e-09 - accuracy: 1.0000 - val_loss: 1.1986e-04 - val_accuracy: 1.0000\n",
      "Epoch 408/1000\n",
      "4/4 [==============================] - 0s 87ms/step - loss: 1.0937e-09 - accuracy: 1.0000 - val_loss: 1.1980e-04 - val_accuracy: 1.0000\n",
      "Epoch 409/1000\n",
      "4/4 [==============================] - 0s 84ms/step - loss: 1.0937e-09 - accuracy: 1.0000 - val_loss: 1.1972e-04 - val_accuracy: 1.0000\n",
      "Epoch 410/1000\n",
      "4/4 [==============================] - 0s 87ms/step - loss: 1.0937e-09 - accuracy: 1.0000 - val_loss: 1.1963e-04 - val_accuracy: 1.0000\n",
      "Epoch 411/1000\n",
      "4/4 [==============================] - 0s 89ms/step - loss: 1.0937e-09 - accuracy: 1.0000 - val_loss: 1.1954e-04 - val_accuracy: 1.0000\n",
      "Epoch 412/1000\n",
      "4/4 [==============================] - 0s 86ms/step - loss: 1.0937e-09 - accuracy: 1.0000 - val_loss: 1.1947e-04 - val_accuracy: 1.0000\n",
      "Epoch 413/1000\n",
      "4/4 [==============================] - 0s 92ms/step - loss: 1.0937e-09 - accuracy: 1.0000 - val_loss: 1.1938e-04 - val_accuracy: 1.0000\n",
      "Epoch 414/1000\n",
      "4/4 [==============================] - 0s 86ms/step - loss: 1.0937e-09 - accuracy: 1.0000 - val_loss: 1.1931e-04 - val_accuracy: 1.0000\n",
      "Epoch 415/1000\n",
      "4/4 [==============================] - 0s 87ms/step - loss: 1.0937e-09 - accuracy: 1.0000 - val_loss: 1.1918e-04 - val_accuracy: 1.0000\n",
      "Epoch 416/1000\n",
      "4/4 [==============================] - 0s 92ms/step - loss: 1.0937e-09 - accuracy: 1.0000 - val_loss: 1.1904e-04 - val_accuracy: 1.0000\n",
      "Epoch 417/1000\n",
      "4/4 [==============================] - 0s 84ms/step - loss: 1.0937e-09 - accuracy: 1.0000 - val_loss: 1.1894e-04 - val_accuracy: 1.0000\n",
      "Epoch 418/1000\n",
      "4/4 [==============================] - 0s 92ms/step - loss: 1.0937e-09 - accuracy: 1.0000 - val_loss: 1.1883e-04 - val_accuracy: 1.0000\n",
      "Epoch 419/1000\n",
      "4/4 [==============================] - 0s 83ms/step - loss: 1.0937e-09 - accuracy: 1.0000 - val_loss: 1.1874e-04 - val_accuracy: 1.0000\n",
      "Epoch 420/1000\n",
      "4/4 [==============================] - 0s 78ms/step - loss: 1.0937e-09 - accuracy: 1.0000 - val_loss: 1.1865e-04 - val_accuracy: 1.0000\n",
      "Epoch 421/1000\n",
      "4/4 [==============================] - 0s 84ms/step - loss: 1.0937e-09 - accuracy: 1.0000 - val_loss: 1.1856e-04 - val_accuracy: 1.0000\n",
      "Epoch 422/1000\n",
      "4/4 [==============================] - 0s 86ms/step - loss: 1.0937e-09 - accuracy: 1.0000 - val_loss: 1.1841e-04 - val_accuracy: 1.0000\n",
      "Epoch 423/1000\n",
      "4/4 [==============================] - 0s 87ms/step - loss: 1.0937e-09 - accuracy: 1.0000 - val_loss: 1.1829e-04 - val_accuracy: 1.0000\n",
      "Epoch 424/1000\n",
      "4/4 [==============================] - 0s 83ms/step - loss: 1.0937e-09 - accuracy: 1.0000 - val_loss: 1.1817e-04 - val_accuracy: 1.0000\n",
      "Epoch 425/1000\n",
      "4/4 [==============================] - 0s 91ms/step - loss: 1.0937e-09 - accuracy: 1.0000 - val_loss: 1.1807e-04 - val_accuracy: 1.0000\n",
      "Epoch 426/1000\n",
      "4/4 [==============================] - 0s 86ms/step - loss: 1.0937e-09 - accuracy: 1.0000 - val_loss: 1.1796e-04 - val_accuracy: 1.0000\n",
      "Epoch 427/1000\n",
      "4/4 [==============================] - 0s 81ms/step - loss: 1.0937e-09 - accuracy: 1.0000 - val_loss: 1.1788e-04 - val_accuracy: 1.0000\n",
      "Epoch 428/1000\n",
      "4/4 [==============================] - 0s 83ms/step - loss: 1.0937e-09 - accuracy: 1.0000 - val_loss: 1.1780e-04 - val_accuracy: 1.0000\n",
      "Epoch 429/1000\n",
      "4/4 [==============================] - 0s 86ms/step - loss: 1.0937e-09 - accuracy: 1.0000 - val_loss: 1.1766e-04 - val_accuracy: 1.0000\n",
      "Epoch 430/1000\n",
      "4/4 [==============================] - 0s 89ms/step - loss: 1.0937e-09 - accuracy: 1.0000 - val_loss: 1.1754e-04 - val_accuracy: 1.0000\n",
      "Epoch 431/1000\n",
      "4/4 [==============================] - 0s 86ms/step - loss: 1.0937e-09 - accuracy: 1.0000 - val_loss: 1.1737e-04 - val_accuracy: 1.0000\n",
      "Epoch 432/1000\n",
      "4/4 [==============================] - 0s 83ms/step - loss: 1.0937e-09 - accuracy: 1.0000 - val_loss: 1.1723e-04 - val_accuracy: 1.0000\n",
      "Epoch 433/1000\n",
      "4/4 [==============================] - 0s 83ms/step - loss: 1.0937e-09 - accuracy: 1.0000 - val_loss: 1.1712e-04 - val_accuracy: 1.0000\n",
      "Epoch 434/1000\n",
      "4/4 [==============================] - 0s 84ms/step - loss: 1.0937e-09 - accuracy: 1.0000 - val_loss: 1.1700e-04 - val_accuracy: 1.0000\n",
      "Epoch 435/1000\n",
      "4/4 [==============================] - 0s 89ms/step - loss: 1.0937e-09 - accuracy: 1.0000 - val_loss: 1.1690e-04 - val_accuracy: 1.0000\n",
      "Epoch 436/1000\n"
     ]
    },
    {
     "name": "stdout",
     "output_type": "stream",
     "text": [
      "4/4 [==============================] - 0s 85ms/step - loss: 1.0937e-09 - accuracy: 1.0000 - val_loss: 1.1682e-04 - val_accuracy: 1.0000\n",
      "Epoch 437/1000\n",
      "4/4 [==============================] - 0s 84ms/step - loss: 1.0937e-09 - accuracy: 1.0000 - val_loss: 1.1672e-04 - val_accuracy: 1.0000\n",
      "Epoch 438/1000\n",
      "4/4 [==============================] - 0s 89ms/step - loss: 1.0937e-09 - accuracy: 1.0000 - val_loss: 1.1664e-04 - val_accuracy: 1.0000\n",
      "Epoch 439/1000\n",
      "4/4 [==============================] - 0s 90ms/step - loss: 1.0937e-09 - accuracy: 1.0000 - val_loss: 1.1653e-04 - val_accuracy: 1.0000\n",
      "Epoch 440/1000\n",
      "4/4 [==============================] - 0s 87ms/step - loss: 1.0937e-09 - accuracy: 1.0000 - val_loss: 1.1646e-04 - val_accuracy: 1.0000\n",
      "Epoch 441/1000\n",
      "4/4 [==============================] - 0s 86ms/step - loss: 1.0937e-09 - accuracy: 1.0000 - val_loss: 1.1638e-04 - val_accuracy: 1.0000\n",
      "Epoch 442/1000\n",
      "4/4 [==============================] - 0s 87ms/step - loss: 1.0937e-09 - accuracy: 1.0000 - val_loss: 1.1628e-04 - val_accuracy: 1.0000\n",
      "Epoch 443/1000\n",
      "4/4 [==============================] - 0s 87ms/step - loss: 1.0937e-09 - accuracy: 1.0000 - val_loss: 1.1620e-04 - val_accuracy: 1.0000\n",
      "Epoch 444/1000\n",
      "4/4 [==============================] - 0s 85ms/step - loss: 1.0937e-09 - accuracy: 1.0000 - val_loss: 1.1607e-04 - val_accuracy: 1.0000\n",
      "Epoch 445/1000\n",
      "4/4 [==============================] - 0s 84ms/step - loss: 1.0937e-09 - accuracy: 1.0000 - val_loss: 1.1595e-04 - val_accuracy: 1.0000\n",
      "Epoch 446/1000\n",
      "4/4 [==============================] - 0s 84ms/step - loss: 1.0937e-09 - accuracy: 1.0000 - val_loss: 1.1584e-04 - val_accuracy: 1.0000\n",
      "Epoch 447/1000\n",
      "4/4 [==============================] - 0s 83ms/step - loss: 1.0937e-09 - accuracy: 1.0000 - val_loss: 1.1576e-04 - val_accuracy: 1.0000\n",
      "Epoch 448/1000\n",
      "4/4 [==============================] - 0s 81ms/step - loss: 1.0937e-09 - accuracy: 1.0000 - val_loss: 1.1567e-04 - val_accuracy: 1.0000\n",
      "Epoch 449/1000\n",
      "4/4 [==============================] - 0s 86ms/step - loss: 1.0937e-09 - accuracy: 1.0000 - val_loss: 1.1559e-04 - val_accuracy: 1.0000\n",
      "Epoch 450/1000\n",
      "4/4 [==============================] - 0s 84ms/step - loss: 1.0937e-09 - accuracy: 1.0000 - val_loss: 1.1543e-04 - val_accuracy: 1.0000\n",
      "Epoch 451/1000\n",
      "4/4 [==============================] - 0s 84ms/step - loss: 1.0937e-09 - accuracy: 1.0000 - val_loss: 1.1533e-04 - val_accuracy: 1.0000\n",
      "Epoch 452/1000\n",
      "4/4 [==============================] - 0s 85ms/step - loss: 1.0937e-09 - accuracy: 1.0000 - val_loss: 1.1523e-04 - val_accuracy: 1.0000\n",
      "Epoch 453/1000\n",
      "4/4 [==============================] - 0s 81ms/step - loss: 1.0937e-09 - accuracy: 1.0000 - val_loss: 1.1512e-04 - val_accuracy: 1.0000\n",
      "Epoch 454/1000\n",
      "4/4 [==============================] - 0s 83ms/step - loss: 1.0937e-09 - accuracy: 1.0000 - val_loss: 1.1503e-04 - val_accuracy: 1.0000\n",
      "Epoch 455/1000\n",
      "4/4 [==============================] - 0s 84ms/step - loss: 1.0937e-09 - accuracy: 1.0000 - val_loss: 1.1493e-04 - val_accuracy: 1.0000\n",
      "Epoch 456/1000\n",
      "4/4 [==============================] - 0s 78ms/step - loss: 1.0937e-09 - accuracy: 1.0000 - val_loss: 1.1485e-04 - val_accuracy: 1.0000\n",
      "Epoch 457/1000\n",
      "4/4 [==============================] - 0s 83ms/step - loss: 1.0937e-09 - accuracy: 1.0000 - val_loss: 1.1478e-04 - val_accuracy: 1.0000\n",
      "Epoch 458/1000\n",
      "4/4 [==============================] - 0s 81ms/step - loss: 1.0937e-09 - accuracy: 1.0000 - val_loss: 1.1469e-04 - val_accuracy: 1.0000\n",
      "Epoch 459/1000\n",
      "4/4 [==============================] - 0s 89ms/step - loss: 1.0937e-09 - accuracy: 1.0000 - val_loss: 1.1460e-04 - val_accuracy: 1.0000\n",
      "Epoch 460/1000\n",
      "4/4 [==============================] - 0s 85ms/step - loss: 1.0937e-09 - accuracy: 1.0000 - val_loss: 1.1452e-04 - val_accuracy: 1.0000\n",
      "Epoch 461/1000\n",
      "4/4 [==============================] - 0s 88ms/step - loss: 1.0937e-09 - accuracy: 1.0000 - val_loss: 1.1441e-04 - val_accuracy: 1.0000\n",
      "Epoch 462/1000\n",
      "4/4 [==============================] - 0s 86ms/step - loss: 1.0937e-09 - accuracy: 1.0000 - val_loss: 1.1429e-04 - val_accuracy: 1.0000\n",
      "Epoch 463/1000\n",
      "4/4 [==============================] - 0s 89ms/step - loss: 1.0937e-09 - accuracy: 1.0000 - val_loss: 1.1418e-04 - val_accuracy: 1.0000\n",
      "Epoch 464/1000\n",
      "4/4 [==============================] - 0s 84ms/step - loss: 1.0937e-09 - accuracy: 1.0000 - val_loss: 1.1408e-04 - val_accuracy: 1.0000\n",
      "Epoch 465/1000\n",
      "4/4 [==============================] - 0s 89ms/step - loss: 1.0937e-09 - accuracy: 1.0000 - val_loss: 1.1399e-04 - val_accuracy: 1.0000\n",
      "Epoch 466/1000\n",
      "4/4 [==============================] - 0s 83ms/step - loss: 1.0937e-09 - accuracy: 1.0000 - val_loss: 1.1391e-04 - val_accuracy: 1.0000\n",
      "Epoch 467/1000\n",
      "4/4 [==============================] - 0s 83ms/step - loss: 1.0937e-09 - accuracy: 1.0000 - val_loss: 1.1383e-04 - val_accuracy: 1.0000\n",
      "Epoch 468/1000\n",
      "4/4 [==============================] - 0s 90ms/step - loss: 1.0937e-09 - accuracy: 1.0000 - val_loss: 1.1377e-04 - val_accuracy: 1.0000\n",
      "Epoch 469/1000\n",
      "4/4 [==============================] - 0s 86ms/step - loss: 1.0937e-09 - accuracy: 1.0000 - val_loss: 1.1365e-04 - val_accuracy: 1.0000\n",
      "Epoch 470/1000\n",
      "4/4 [==============================] - 0s 84ms/step - loss: 1.0937e-09 - accuracy: 1.0000 - val_loss: 1.1354e-04 - val_accuracy: 1.0000\n",
      "Epoch 471/1000\n",
      "4/4 [==============================] - 0s 103ms/step - loss: 1.0937e-09 - accuracy: 1.0000 - val_loss: 1.1345e-04 - val_accuracy: 1.0000\n",
      "Epoch 472/1000\n",
      "4/4 [==============================] - 0s 87ms/step - loss: 1.0937e-09 - accuracy: 1.0000 - val_loss: 1.1336e-04 - val_accuracy: 1.0000\n",
      "Epoch 473/1000\n",
      "4/4 [==============================] - 0s 90ms/step - loss: 1.0937e-09 - accuracy: 1.0000 - val_loss: 1.1328e-04 - val_accuracy: 1.0000\n",
      "Epoch 474/1000\n",
      "4/4 [==============================] - 0s 89ms/step - loss: 1.0937e-09 - accuracy: 1.0000 - val_loss: 1.1321e-04 - val_accuracy: 1.0000\n",
      "Epoch 475/1000\n",
      "4/4 [==============================] - 0s 87ms/step - loss: 1.0937e-09 - accuracy: 1.0000 - val_loss: 1.1312e-04 - val_accuracy: 1.0000\n",
      "Epoch 476/1000\n",
      "4/4 [==============================] - 0s 87ms/step - loss: 1.0937e-09 - accuracy: 1.0000 - val_loss: 1.1300e-04 - val_accuracy: 1.0000\n",
      "Epoch 477/1000\n",
      "4/4 [==============================] - 0s 89ms/step - loss: 1.0937e-09 - accuracy: 1.0000 - val_loss: 1.1291e-04 - val_accuracy: 1.0000\n",
      "Epoch 478/1000\n",
      "4/4 [==============================] - 0s 87ms/step - loss: 1.0937e-09 - accuracy: 1.0000 - val_loss: 1.1280e-04 - val_accuracy: 1.0000\n",
      "Epoch 479/1000\n",
      "4/4 [==============================] - 0s 89ms/step - loss: 1.0937e-09 - accuracy: 1.0000 - val_loss: 1.1273e-04 - val_accuracy: 1.0000\n",
      "Epoch 480/1000\n",
      "4/4 [==============================] - 0s 86ms/step - loss: 1.0937e-09 - accuracy: 1.0000 - val_loss: 1.1264e-04 - val_accuracy: 1.0000\n",
      "Epoch 481/1000\n",
      "4/4 [==============================] - 0s 89ms/step - loss: 1.0937e-09 - accuracy: 1.0000 - val_loss: 1.1256e-04 - val_accuracy: 1.0000\n",
      "Epoch 482/1000\n",
      "4/4 [==============================] - 0s 87ms/step - loss: 1.0937e-09 - accuracy: 1.0000 - val_loss: 1.1248e-04 - val_accuracy: 1.0000\n",
      "Epoch 483/1000\n",
      "4/4 [==============================] - 0s 92ms/step - loss: 1.0937e-09 - accuracy: 1.0000 - val_loss: 1.1241e-04 - val_accuracy: 1.0000\n",
      "Epoch 484/1000\n",
      "4/4 [==============================] - 0s 86ms/step - loss: 1.0937e-09 - accuracy: 1.0000 - val_loss: 1.1233e-04 - val_accuracy: 1.0000\n",
      "Epoch 485/1000\n",
      "4/4 [==============================] - 0s 89ms/step - loss: 1.0937e-09 - accuracy: 1.0000 - val_loss: 1.1227e-04 - val_accuracy: 1.0000\n",
      "Epoch 486/1000\n",
      "4/4 [==============================] - 0s 77ms/step - loss: 1.0937e-09 - accuracy: 1.0000 - val_loss: 1.1219e-04 - val_accuracy: 1.0000\n",
      "Epoch 487/1000\n",
      "4/4 [==============================] - 0s 92ms/step - loss: 1.0937e-09 - accuracy: 1.0000 - val_loss: 1.1213e-04 - val_accuracy: 1.0000\n",
      "Epoch 488/1000\n",
      "4/4 [==============================] - 0s 84ms/step - loss: 1.0937e-09 - accuracy: 1.0000 - val_loss: 1.1206e-04 - val_accuracy: 1.0000\n",
      "Epoch 489/1000\n",
      "4/4 [==============================] - 0s 86ms/step - loss: 1.0937e-09 - accuracy: 1.0000 - val_loss: 1.1200e-04 - val_accuracy: 1.0000\n",
      "Epoch 490/1000\n"
     ]
    },
    {
     "name": "stdout",
     "output_type": "stream",
     "text": [
      "4/4 [==============================] - 0s 87ms/step - loss: 1.0937e-09 - accuracy: 1.0000 - val_loss: 1.1192e-04 - val_accuracy: 1.0000\n",
      "Epoch 491/1000\n",
      "4/4 [==============================] - 0s 88ms/step - loss: 1.0937e-09 - accuracy: 1.0000 - val_loss: 1.1186e-04 - val_accuracy: 1.0000\n",
      "Epoch 492/1000\n",
      "4/4 [==============================] - 0s 89ms/step - loss: 1.0937e-09 - accuracy: 1.0000 - val_loss: 1.1181e-04 - val_accuracy: 1.0000\n",
      "Epoch 493/1000\n",
      "4/4 [==============================] - 0s 84ms/step - loss: 1.0937e-09 - accuracy: 1.0000 - val_loss: 1.1174e-04 - val_accuracy: 1.0000\n",
      "Epoch 494/1000\n",
      "4/4 [==============================] - 0s 90ms/step - loss: 1.0937e-09 - accuracy: 1.0000 - val_loss: 1.1166e-04 - val_accuracy: 1.0000\n",
      "Epoch 495/1000\n",
      "4/4 [==============================] - 0s 84ms/step - loss: 1.0937e-09 - accuracy: 1.0000 - val_loss: 1.1154e-04 - val_accuracy: 1.0000\n",
      "Epoch 496/1000\n",
      "4/4 [==============================] - 0s 90ms/step - loss: 1.0937e-09 - accuracy: 1.0000 - val_loss: 1.1144e-04 - val_accuracy: 1.0000\n",
      "Epoch 497/1000\n",
      "4/4 [==============================] - 0s 89ms/step - loss: 1.0937e-09 - accuracy: 1.0000 - val_loss: 1.1134e-04 - val_accuracy: 1.0000\n",
      "Epoch 498/1000\n",
      "4/4 [==============================] - 0s 87ms/step - loss: 1.0937e-09 - accuracy: 1.0000 - val_loss: 1.1126e-04 - val_accuracy: 1.0000\n",
      "Epoch 499/1000\n",
      "4/4 [==============================] - 0s 87ms/step - loss: 1.0937e-09 - accuracy: 1.0000 - val_loss: 1.1120e-04 - val_accuracy: 1.0000\n",
      "Epoch 500/1000\n",
      "4/4 [==============================] - 0s 86ms/step - loss: 1.0937e-09 - accuracy: 1.0000 - val_loss: 1.1112e-04 - val_accuracy: 1.0000\n",
      "Epoch 501/1000\n",
      "4/4 [==============================] - 0s 83ms/step - loss: 1.0937e-09 - accuracy: 1.0000 - val_loss: 1.1105e-04 - val_accuracy: 1.0000\n",
      "Epoch 502/1000\n",
      "4/4 [==============================] - 0s 89ms/step - loss: 1.0937e-09 - accuracy: 1.0000 - val_loss: 1.1099e-04 - val_accuracy: 1.0000\n",
      "Epoch 503/1000\n",
      "4/4 [==============================] - 0s 81ms/step - loss: 1.0937e-09 - accuracy: 1.0000 - val_loss: 1.1088e-04 - val_accuracy: 1.0000\n",
      "Epoch 504/1000\n",
      "4/4 [==============================] - 0s 89ms/step - loss: 1.0937e-09 - accuracy: 1.0000 - val_loss: 1.1077e-04 - val_accuracy: 1.0000\n",
      "Epoch 505/1000\n",
      "4/4 [==============================] - 0s 84ms/step - loss: 1.0937e-09 - accuracy: 1.0000 - val_loss: 1.1064e-04 - val_accuracy: 1.0000\n",
      "Epoch 506/1000\n",
      "4/4 [==============================] - 0s 84ms/step - loss: 1.0937e-09 - accuracy: 1.0000 - val_loss: 1.1053e-04 - val_accuracy: 1.0000\n",
      "Epoch 507/1000\n",
      "4/4 [==============================] - 0s 83ms/step - loss: 1.0937e-09 - accuracy: 1.0000 - val_loss: 1.1043e-04 - val_accuracy: 1.0000\n",
      "Epoch 508/1000\n",
      "4/4 [==============================] - 0s 86ms/step - loss: 1.0937e-09 - accuracy: 1.0000 - val_loss: 1.1035e-04 - val_accuracy: 1.0000\n",
      "Epoch 509/1000\n",
      "4/4 [==============================] - 0s 83ms/step - loss: 1.0937e-09 - accuracy: 1.0000 - val_loss: 1.1028e-04 - val_accuracy: 1.0000\n",
      "Epoch 510/1000\n",
      "4/4 [==============================] - 0s 90ms/step - loss: 1.0937e-09 - accuracy: 1.0000 - val_loss: 1.1020e-04 - val_accuracy: 1.0000\n",
      "Epoch 511/1000\n",
      "4/4 [==============================] - 0s 92ms/step - loss: 1.0937e-09 - accuracy: 1.0000 - val_loss: 1.1009e-04 - val_accuracy: 1.0000\n",
      "Epoch 512/1000\n",
      "4/4 [==============================] - 0s 84ms/step - loss: 1.0937e-09 - accuracy: 1.0000 - val_loss: 1.1000e-04 - val_accuracy: 1.0000\n",
      "Epoch 513/1000\n",
      "4/4 [==============================] - 0s 84ms/step - loss: 1.0937e-09 - accuracy: 1.0000 - val_loss: 1.0990e-04 - val_accuracy: 1.0000\n",
      "Epoch 514/1000\n",
      "4/4 [==============================] - 0s 84ms/step - loss: 1.0937e-09 - accuracy: 1.0000 - val_loss: 1.0983e-04 - val_accuracy: 1.0000\n",
      "Epoch 515/1000\n",
      "4/4 [==============================] - 0s 81ms/step - loss: 1.0937e-09 - accuracy: 1.0000 - val_loss: 1.0975e-04 - val_accuracy: 1.0000\n",
      "Epoch 516/1000\n",
      "4/4 [==============================] - 0s 84ms/step - loss: 1.0937e-09 - accuracy: 1.0000 - val_loss: 1.0968e-04 - val_accuracy: 1.0000\n",
      "Epoch 517/1000\n",
      "4/4 [==============================] - ETA: 0s - loss: 1.2418e-09 - accuracy: 1.00 - 0s 84ms/step - loss: 1.0937e-09 - accuracy: 1.0000 - val_loss: 1.0960e-04 - val_accuracy: 1.0000\n",
      "Epoch 518/1000\n",
      "4/4 [==============================] - 0s 86ms/step - loss: 1.0937e-09 - accuracy: 1.0000 - val_loss: 1.0954e-04 - val_accuracy: 1.0000\n",
      "Epoch 519/1000\n",
      "4/4 [==============================] - 0s 89ms/step - loss: 1.0937e-09 - accuracy: 1.0000 - val_loss: 1.0943e-04 - val_accuracy: 1.0000\n",
      "Epoch 520/1000\n",
      "4/4 [==============================] - 0s 87ms/step - loss: 1.0937e-09 - accuracy: 1.0000 - val_loss: 1.0934e-04 - val_accuracy: 1.0000\n",
      "Epoch 521/1000\n",
      "4/4 [==============================] - 0s 95ms/step - loss: 1.0937e-09 - accuracy: 1.0000 - val_loss: 1.0925e-04 - val_accuracy: 1.0000\n",
      "Epoch 522/1000\n",
      "4/4 [==============================] - 0s 83ms/step - loss: 1.0937e-09 - accuracy: 1.0000 - val_loss: 1.0918e-04 - val_accuracy: 1.0000\n",
      "Epoch 523/1000\n",
      "4/4 [==============================] - 0s 86ms/step - loss: 1.0937e-09 - accuracy: 1.0000 - val_loss: 1.0907e-04 - val_accuracy: 1.0000\n",
      "Epoch 524/1000\n",
      "4/4 [==============================] - 0s 84ms/step - loss: 1.0937e-09 - accuracy: 1.0000 - val_loss: 1.0899e-04 - val_accuracy: 1.0000\n",
      "Epoch 525/1000\n",
      "4/4 [==============================] - 0s 84ms/step - loss: 1.0937e-09 - accuracy: 1.0000 - val_loss: 1.0890e-04 - val_accuracy: 1.0000\n",
      "Epoch 526/1000\n",
      "4/4 [==============================] - 0s 87ms/step - loss: 1.0937e-09 - accuracy: 1.0000 - val_loss: 1.0884e-04 - val_accuracy: 1.0000\n",
      "Epoch 527/1000\n",
      "4/4 [==============================] - 0s 86ms/step - loss: 1.0937e-09 - accuracy: 1.0000 - val_loss: 1.0877e-04 - val_accuracy: 1.0000\n",
      "Epoch 528/1000\n",
      "4/4 [==============================] - 0s 83ms/step - loss: 1.0937e-09 - accuracy: 1.0000 - val_loss: 1.0870e-04 - val_accuracy: 1.0000\n",
      "Epoch 529/1000\n",
      "4/4 [==============================] - 0s 82ms/step - loss: 1.0937e-09 - accuracy: 1.0000 - val_loss: 1.0866e-04 - val_accuracy: 1.0000\n",
      "Epoch 530/1000\n",
      "4/4 [==============================] - 0s 87ms/step - loss: 1.0937e-09 - accuracy: 1.0000 - val_loss: 1.0862e-04 - val_accuracy: 1.0000\n",
      "Epoch 531/1000\n",
      "4/4 [==============================] - 0s 89ms/step - loss: 1.0937e-09 - accuracy: 1.0000 - val_loss: 1.0853e-04 - val_accuracy: 1.0000\n",
      "Epoch 532/1000\n",
      "4/4 [==============================] - 0s 84ms/step - loss: 1.0937e-09 - accuracy: 1.0000 - val_loss: 1.0845e-04 - val_accuracy: 1.0000\n",
      "Epoch 533/1000\n",
      "4/4 [==============================] - 0s 86ms/step - loss: 1.0937e-09 - accuracy: 1.0000 - val_loss: 1.0839e-04 - val_accuracy: 1.0000\n",
      "Epoch 534/1000\n",
      "4/4 [==============================] - 0s 85ms/step - loss: 1.0937e-09 - accuracy: 1.0000 - val_loss: 1.0827e-04 - val_accuracy: 1.0000\n",
      "Epoch 535/1000\n",
      "4/4 [==============================] - 0s 81ms/step - loss: 1.0937e-09 - accuracy: 1.0000 - val_loss: 1.0818e-04 - val_accuracy: 1.0000\n",
      "Epoch 536/1000\n",
      "4/4 [==============================] - 0s 84ms/step - loss: 1.0937e-09 - accuracy: 1.0000 - val_loss: 1.0811e-04 - val_accuracy: 1.0000\n",
      "Epoch 537/1000\n",
      "4/4 [==============================] - 0s 78ms/step - loss: 1.0937e-09 - accuracy: 1.0000 - val_loss: 1.0806e-04 - val_accuracy: 1.0000\n",
      "Epoch 538/1000\n",
      "4/4 [==============================] - 0s 86ms/step - loss: 1.0937e-09 - accuracy: 1.0000 - val_loss: 1.0802e-04 - val_accuracy: 1.0000\n",
      "Epoch 539/1000\n",
      "4/4 [==============================] - 0s 86ms/step - loss: 1.0937e-09 - accuracy: 1.0000 - val_loss: 1.0798e-04 - val_accuracy: 1.0000\n",
      "Epoch 540/1000\n",
      "4/4 [==============================] - 0s 94ms/step - loss: 1.0937e-09 - accuracy: 1.0000 - val_loss: 1.0793e-04 - val_accuracy: 1.0000\n",
      "Epoch 541/1000\n",
      "4/4 [==============================] - 0s 81ms/step - loss: 1.0937e-09 - accuracy: 1.0000 - val_loss: 1.0789e-04 - val_accuracy: 1.0000\n",
      "Epoch 542/1000\n",
      "4/4 [==============================] - 0s 81ms/step - loss: 1.0937e-09 - accuracy: 1.0000 - val_loss: 1.0783e-04 - val_accuracy: 1.0000\n",
      "Epoch 543/1000\n",
      "4/4 [==============================] - 0s 84ms/step - loss: 1.0937e-09 - accuracy: 1.0000 - val_loss: 1.0778e-04 - val_accuracy: 1.0000\n",
      "Epoch 544/1000\n"
     ]
    },
    {
     "name": "stdout",
     "output_type": "stream",
     "text": [
      "4/4 [==============================] - 0s 88ms/step - loss: 1.0937e-09 - accuracy: 1.0000 - val_loss: 1.0775e-04 - val_accuracy: 1.0000\n",
      "Epoch 545/1000\n",
      "4/4 [==============================] - 0s 92ms/step - loss: 1.0937e-09 - accuracy: 1.0000 - val_loss: 1.0767e-04 - val_accuracy: 1.0000\n",
      "Epoch 546/1000\n",
      "4/4 [==============================] - 0s 80ms/step - loss: 1.0937e-09 - accuracy: 1.0000 - val_loss: 1.0759e-04 - val_accuracy: 1.0000\n",
      "Epoch 547/1000\n",
      "4/4 [==============================] - 0s 84ms/step - loss: 1.0937e-09 - accuracy: 1.0000 - val_loss: 1.0753e-04 - val_accuracy: 1.0000\n",
      "Epoch 548/1000\n",
      "4/4 [==============================] - 0s 86ms/step - loss: 1.0937e-09 - accuracy: 1.0000 - val_loss: 1.0748e-04 - val_accuracy: 1.0000\n",
      "Epoch 549/1000\n",
      "4/4 [==============================] - 0s 83ms/step - loss: 1.0937e-09 - accuracy: 1.0000 - val_loss: 1.0742e-04 - val_accuracy: 1.0000\n",
      "Epoch 550/1000\n",
      "4/4 [==============================] - 0s 91ms/step - loss: 1.0937e-09 - accuracy: 1.0000 - val_loss: 1.0732e-04 - val_accuracy: 1.0000\n",
      "Epoch 551/1000\n",
      "4/4 [==============================] - 0s 87ms/step - loss: 1.0937e-09 - accuracy: 1.0000 - val_loss: 1.0725e-04 - val_accuracy: 1.0000\n",
      "Epoch 552/1000\n",
      "4/4 [==============================] - 0s 84ms/step - loss: 1.0937e-09 - accuracy: 1.0000 - val_loss: 1.0715e-04 - val_accuracy: 1.0000\n",
      "Epoch 553/1000\n",
      "4/4 [==============================] - 0s 86ms/step - loss: 1.0937e-09 - accuracy: 1.0000 - val_loss: 1.0707e-04 - val_accuracy: 1.0000\n",
      "Epoch 554/1000\n",
      "4/4 [==============================] - 0s 84ms/step - loss: 1.0937e-09 - accuracy: 1.0000 - val_loss: 1.0695e-04 - val_accuracy: 1.0000\n",
      "Epoch 555/1000\n",
      "4/4 [==============================] - 0s 86ms/step - loss: 1.0937e-09 - accuracy: 1.0000 - val_loss: 1.0687e-04 - val_accuracy: 1.0000\n",
      "Epoch 556/1000\n",
      "4/4 [==============================] - 0s 84ms/step - loss: 1.0937e-09 - accuracy: 1.0000 - val_loss: 1.0676e-04 - val_accuracy: 1.0000\n",
      "Epoch 557/1000\n",
      "4/4 [==============================] - 0s 92ms/step - loss: 1.0937e-09 - accuracy: 1.0000 - val_loss: 1.0667e-04 - val_accuracy: 1.0000\n",
      "Epoch 558/1000\n",
      "4/4 [==============================] - 0s 86ms/step - loss: 1.0937e-09 - accuracy: 1.0000 - val_loss: 1.0660e-04 - val_accuracy: 1.0000\n",
      "Epoch 559/1000\n",
      "4/4 [==============================] - 0s 81ms/step - loss: 1.0937e-09 - accuracy: 1.0000 - val_loss: 1.0653e-04 - val_accuracy: 1.0000\n",
      "Epoch 560/1000\n",
      "4/4 [==============================] - 0s 89ms/step - loss: 1.0937e-09 - accuracy: 1.0000 - val_loss: 1.0647e-04 - val_accuracy: 1.0000\n",
      "Epoch 561/1000\n",
      "4/4 [==============================] - 0s 81ms/step - loss: 1.0937e-09 - accuracy: 1.0000 - val_loss: 1.0642e-04 - val_accuracy: 1.0000\n",
      "Epoch 562/1000\n",
      "4/4 [==============================] - 0s 81ms/step - loss: 1.0937e-09 - accuracy: 1.0000 - val_loss: 1.0636e-04 - val_accuracy: 1.0000\n",
      "Epoch 563/1000\n",
      "4/4 [==============================] - 0s 86ms/step - loss: 1.0937e-09 - accuracy: 1.0000 - val_loss: 1.0628e-04 - val_accuracy: 1.0000\n",
      "Epoch 564/1000\n",
      "4/4 [==============================] - 0s 84ms/step - loss: 1.0937e-09 - accuracy: 1.0000 - val_loss: 1.0621e-04 - val_accuracy: 1.0000\n",
      "Epoch 565/1000\n",
      "4/4 [==============================] - 0s 87ms/step - loss: 1.0937e-09 - accuracy: 1.0000 - val_loss: 1.0614e-04 - val_accuracy: 1.0000\n",
      "Epoch 566/1000\n",
      "4/4 [==============================] - 0s 78ms/step - loss: 1.0937e-09 - accuracy: 1.0000 - val_loss: 1.0604e-04 - val_accuracy: 1.0000\n",
      "Epoch 567/1000\n",
      "4/4 [==============================] - 0s 89ms/step - loss: 1.0937e-09 - accuracy: 1.0000 - val_loss: 1.0596e-04 - val_accuracy: 1.0000\n",
      "Epoch 568/1000\n",
      "4/4 [==============================] - 0s 84ms/step - loss: 1.0937e-09 - accuracy: 1.0000 - val_loss: 1.0586e-04 - val_accuracy: 1.0000\n",
      "Epoch 569/1000\n",
      "4/4 [==============================] - 0s 89ms/step - loss: 1.0937e-09 - accuracy: 1.0000 - val_loss: 1.0580e-04 - val_accuracy: 1.0000\n",
      "Epoch 570/1000\n",
      "4/4 [==============================] - 0s 88ms/step - loss: 1.0937e-09 - accuracy: 1.0000 - val_loss: 1.0573e-04 - val_accuracy: 1.0000\n",
      "Epoch 571/1000\n",
      "4/4 [==============================] - 0s 87ms/step - loss: 1.0937e-09 - accuracy: 1.0000 - val_loss: 1.0568e-04 - val_accuracy: 1.0000\n",
      "Epoch 572/1000\n",
      "4/4 [==============================] - 0s 82ms/step - loss: 1.0937e-09 - accuracy: 1.0000 - val_loss: 1.0564e-04 - val_accuracy: 1.0000\n",
      "Epoch 573/1000\n",
      "4/4 [==============================] - 0s 82ms/step - loss: 1.0937e-09 - accuracy: 1.0000 - val_loss: 1.0560e-04 - val_accuracy: 1.0000\n",
      "Epoch 574/1000\n",
      "4/4 [==============================] - 0s 83ms/step - loss: 1.0937e-09 - accuracy: 1.0000 - val_loss: 1.0556e-04 - val_accuracy: 1.0000\n",
      "Epoch 575/1000\n",
      "4/4 [==============================] - 0s 82ms/step - loss: 1.0937e-09 - accuracy: 1.0000 - val_loss: 1.0552e-04 - val_accuracy: 1.0000\n",
      "Epoch 576/1000\n",
      "4/4 [==============================] - 0s 87ms/step - loss: 1.0937e-09 - accuracy: 1.0000 - val_loss: 1.0549e-04 - val_accuracy: 1.0000\n",
      "Epoch 577/1000\n",
      "4/4 [==============================] - 0s 86ms/step - loss: 1.0937e-09 - accuracy: 1.0000 - val_loss: 1.0544e-04 - val_accuracy: 1.0000\n",
      "Epoch 578/1000\n",
      "4/4 [==============================] - 0s 81ms/step - loss: 1.0937e-09 - accuracy: 1.0000 - val_loss: 1.0541e-04 - val_accuracy: 1.0000\n",
      "Epoch 579/1000\n",
      "4/4 [==============================] - 0s 87ms/step - loss: 1.0937e-09 - accuracy: 1.0000 - val_loss: 1.0537e-04 - val_accuracy: 1.0000\n",
      "Epoch 580/1000\n",
      "4/4 [==============================] - 0s 84ms/step - loss: 1.0937e-09 - accuracy: 1.0000 - val_loss: 1.0533e-04 - val_accuracy: 1.0000\n",
      "Epoch 581/1000\n",
      "4/4 [==============================] - 0s 89ms/step - loss: 1.0937e-09 - accuracy: 1.0000 - val_loss: 1.0529e-04 - val_accuracy: 1.0000\n",
      "Epoch 582/1000\n",
      "4/4 [==============================] - 0s 89ms/step - loss: 1.0937e-09 - accuracy: 1.0000 - val_loss: 1.0524e-04 - val_accuracy: 1.0000\n",
      "Epoch 583/1000\n",
      "4/4 [==============================] - 0s 84ms/step - loss: 1.0937e-09 - accuracy: 1.0000 - val_loss: 1.0521e-04 - val_accuracy: 1.0000\n",
      "Epoch 584/1000\n",
      "4/4 [==============================] - 0s 84ms/step - loss: 1.0937e-09 - accuracy: 1.0000 - val_loss: 1.0513e-04 - val_accuracy: 1.0000\n",
      "Epoch 585/1000\n",
      "4/4 [==============================] - 0s 87ms/step - loss: 1.0937e-09 - accuracy: 1.0000 - val_loss: 1.0506e-04 - val_accuracy: 1.0000\n",
      "Epoch 586/1000\n",
      "4/4 [==============================] - 0s 86ms/step - loss: 1.0937e-09 - accuracy: 1.0000 - val_loss: 1.0501e-04 - val_accuracy: 1.0000\n",
      "Epoch 587/1000\n",
      "4/4 [==============================] - 0s 92ms/step - loss: 1.0937e-09 - accuracy: 1.0000 - val_loss: 1.0498e-04 - val_accuracy: 1.0000\n",
      "Epoch 588/1000\n",
      "4/4 [==============================] - 0s 86ms/step - loss: 1.0937e-09 - accuracy: 1.0000 - val_loss: 1.0493e-04 - val_accuracy: 1.0000\n",
      "Epoch 589/1000\n",
      "4/4 [==============================] - 0s 89ms/step - loss: 1.0937e-09 - accuracy: 1.0000 - val_loss: 1.0492e-04 - val_accuracy: 1.0000\n",
      "Epoch 590/1000\n",
      "4/4 [==============================] - 0s 86ms/step - loss: 1.0937e-09 - accuracy: 1.0000 - val_loss: 1.0488e-04 - val_accuracy: 1.0000\n",
      "Epoch 591/1000\n",
      "4/4 [==============================] - 0s 87ms/step - loss: 1.0937e-09 - accuracy: 1.0000 - val_loss: 1.0485e-04 - val_accuracy: 1.0000\n",
      "Epoch 592/1000\n",
      "4/4 [==============================] - 0s 92ms/step - loss: 1.0937e-09 - accuracy: 1.0000 - val_loss: 1.0483e-04 - val_accuracy: 1.0000\n",
      "Epoch 593/1000\n",
      "4/4 [==============================] - 0s 81ms/step - loss: 1.0937e-09 - accuracy: 1.0000 - val_loss: 1.0479e-04 - val_accuracy: 1.0000\n",
      "Epoch 594/1000\n",
      "4/4 [==============================] - 0s 89ms/step - loss: 1.0937e-09 - accuracy: 1.0000 - val_loss: 1.0477e-04 - val_accuracy: 1.0000\n",
      "Epoch 595/1000\n",
      "4/4 [==============================] - 0s 87ms/step - loss: 1.0937e-09 - accuracy: 1.0000 - val_loss: 1.0473e-04 - val_accuracy: 1.0000\n",
      "Epoch 596/1000\n",
      "4/4 [==============================] - 0s 89ms/step - loss: 1.0937e-09 - accuracy: 1.0000 - val_loss: 1.0470e-04 - val_accuracy: 1.0000\n",
      "Epoch 597/1000\n",
      "4/4 [==============================] - 0s 84ms/step - loss: 1.0937e-09 - accuracy: 1.0000 - val_loss: 1.0466e-04 - val_accuracy: 1.0000\n",
      "Epoch 598/1000\n"
     ]
    },
    {
     "name": "stdout",
     "output_type": "stream",
     "text": [
      "4/4 [==============================] - 0s 83ms/step - loss: 1.0937e-09 - accuracy: 1.0000 - val_loss: 1.0458e-04 - val_accuracy: 1.0000\n",
      "Epoch 599/1000\n",
      "4/4 [==============================] - 0s 82ms/step - loss: 1.0937e-09 - accuracy: 1.0000 - val_loss: 1.0453e-04 - val_accuracy: 1.0000\n",
      "Epoch 600/1000\n",
      "4/4 [==============================] - 0s 87ms/step - loss: 1.0937e-09 - accuracy: 1.0000 - val_loss: 1.0447e-04 - val_accuracy: 1.0000\n",
      "Epoch 601/1000\n",
      "4/4 [==============================] - 0s 84ms/step - loss: 1.0937e-09 - accuracy: 1.0000 - val_loss: 1.0443e-04 - val_accuracy: 1.0000\n",
      "Epoch 602/1000\n",
      "4/4 [==============================] - 0s 89ms/step - loss: 1.0937e-09 - accuracy: 1.0000 - val_loss: 1.0439e-04 - val_accuracy: 1.0000\n",
      "Epoch 603/1000\n",
      "4/4 [==============================] - 0s 90ms/step - loss: 1.0937e-09 - accuracy: 1.0000 - val_loss: 1.0435e-04 - val_accuracy: 1.0000\n",
      "Epoch 604/1000\n",
      "4/4 [==============================] - 0s 92ms/step - loss: 1.0937e-09 - accuracy: 1.0000 - val_loss: 1.0429e-04 - val_accuracy: 1.0000\n",
      "Epoch 605/1000\n",
      "4/4 [==============================] - 0s 92ms/step - loss: 1.0937e-09 - accuracy: 1.0000 - val_loss: 1.0425e-04 - val_accuracy: 1.0000\n",
      "Epoch 606/1000\n",
      "4/4 [==============================] - 0s 89ms/step - loss: 1.0937e-09 - accuracy: 1.0000 - val_loss: 1.0421e-04 - val_accuracy: 1.0000\n",
      "Epoch 607/1000\n",
      "4/4 [==============================] - 0s 84ms/step - loss: 1.0937e-09 - accuracy: 1.0000 - val_loss: 1.0417e-04 - val_accuracy: 1.0000\n",
      "Epoch 608/1000\n",
      "4/4 [==============================] - 0s 86ms/step - loss: 1.0937e-09 - accuracy: 1.0000 - val_loss: 1.0414e-04 - val_accuracy: 1.0000\n",
      "Epoch 609/1000\n",
      "4/4 [==============================] - 0s 87ms/step - loss: 1.0937e-09 - accuracy: 1.0000 - val_loss: 1.0409e-04 - val_accuracy: 1.0000\n",
      "Epoch 610/1000\n",
      "4/4 [==============================] - 0s 84ms/step - loss: 1.0937e-09 - accuracy: 1.0000 - val_loss: 1.0405e-04 - val_accuracy: 1.0000\n",
      "Epoch 611/1000\n",
      "4/4 [==============================] - 0s 87ms/step - loss: 1.0937e-09 - accuracy: 1.0000 - val_loss: 1.0404e-04 - val_accuracy: 1.0000\n",
      "Epoch 612/1000\n",
      "4/4 [==============================] - 0s 81ms/step - loss: 1.0937e-09 - accuracy: 1.0000 - val_loss: 1.0401e-04 - val_accuracy: 1.0000\n",
      "Epoch 613/1000\n",
      "4/4 [==============================] - 0s 84ms/step - loss: 1.0937e-09 - accuracy: 1.0000 - val_loss: 1.0395e-04 - val_accuracy: 1.0000\n",
      "Epoch 614/1000\n",
      "4/4 [==============================] - 0s 86ms/step - loss: 1.0937e-09 - accuracy: 1.0000 - val_loss: 1.0387e-04 - val_accuracy: 1.0000\n",
      "Epoch 615/1000\n",
      "4/4 [==============================] - 0s 80ms/step - loss: 1.0937e-09 - accuracy: 1.0000 - val_loss: 1.0379e-04 - val_accuracy: 1.0000\n",
      "Epoch 616/1000\n",
      "4/4 [==============================] - 0s 83ms/step - loss: 1.0937e-09 - accuracy: 1.0000 - val_loss: 1.0375e-04 - val_accuracy: 1.0000\n",
      "Epoch 617/1000\n",
      "4/4 [==============================] - 0s 92ms/step - loss: 1.0937e-09 - accuracy: 1.0000 - val_loss: 1.0372e-04 - val_accuracy: 1.0000\n",
      "Epoch 618/1000\n",
      "4/4 [==============================] - 0s 84ms/step - loss: 1.0937e-09 - accuracy: 1.0000 - val_loss: 1.0368e-04 - val_accuracy: 1.0000\n",
      "Epoch 619/1000\n",
      "4/4 [==============================] - 0s 92ms/step - loss: 1.0937e-09 - accuracy: 1.0000 - val_loss: 1.0363e-04 - val_accuracy: 1.0000\n",
      "Epoch 620/1000\n",
      "4/4 [==============================] - 0s 87ms/step - loss: 1.0937e-09 - accuracy: 1.0000 - val_loss: 1.0360e-04 - val_accuracy: 1.0000\n",
      "Epoch 621/1000\n",
      "4/4 [==============================] - 0s 84ms/step - loss: 1.0937e-09 - accuracy: 1.0000 - val_loss: 1.0356e-04 - val_accuracy: 1.0000\n",
      "Epoch 622/1000\n",
      "4/4 [==============================] - 0s 86ms/step - loss: 1.0937e-09 - accuracy: 1.0000 - val_loss: 1.0353e-04 - val_accuracy: 1.0000\n",
      "Epoch 623/1000\n",
      "4/4 [==============================] - 0s 86ms/step - loss: 1.0937e-09 - accuracy: 1.0000 - val_loss: 1.0348e-04 - val_accuracy: 1.0000\n",
      "Epoch 624/1000\n",
      "4/4 [==============================] - 0s 81ms/step - loss: 1.0937e-09 - accuracy: 1.0000 - val_loss: 1.0345e-04 - val_accuracy: 1.0000\n",
      "Epoch 625/1000\n",
      "4/4 [==============================] - 0s 86ms/step - loss: 1.0937e-09 - accuracy: 1.0000 - val_loss: 1.0341e-04 - val_accuracy: 1.0000\n",
      "Epoch 626/1000\n",
      "4/4 [==============================] - 0s 89ms/step - loss: 1.0937e-09 - accuracy: 1.0000 - val_loss: 1.0338e-04 - val_accuracy: 1.0000\n",
      "Epoch 627/1000\n",
      "4/4 [==============================] - 0s 85ms/step - loss: 1.0937e-09 - accuracy: 1.0000 - val_loss: 1.0334e-04 - val_accuracy: 1.0000\n",
      "Epoch 628/1000\n",
      "4/4 [==============================] - 0s 86ms/step - loss: 1.0937e-09 - accuracy: 1.0000 - val_loss: 1.0331e-04 - val_accuracy: 1.0000\n",
      "Epoch 629/1000\n",
      "4/4 [==============================] - 0s 87ms/step - loss: 1.0937e-09 - accuracy: 1.0000 - val_loss: 1.0328e-04 - val_accuracy: 1.0000\n",
      "Epoch 630/1000\n",
      "4/4 [==============================] - 0s 86ms/step - loss: 1.0937e-09 - accuracy: 1.0000 - val_loss: 1.0325e-04 - val_accuracy: 1.0000\n",
      "Epoch 631/1000\n",
      "4/4 [==============================] - 0s 89ms/step - loss: 1.0937e-09 - accuracy: 1.0000 - val_loss: 1.0320e-04 - val_accuracy: 1.0000\n",
      "Epoch 632/1000\n",
      "4/4 [==============================] - 0s 89ms/step - loss: 1.0937e-09 - accuracy: 1.0000 - val_loss: 1.0317e-04 - val_accuracy: 1.0000\n",
      "Epoch 633/1000\n",
      "4/4 [==============================] - 0s 84ms/step - loss: 1.0937e-09 - accuracy: 1.0000 - val_loss: 1.0315e-04 - val_accuracy: 1.0000\n",
      "Epoch 634/1000\n",
      "4/4 [==============================] - 0s 84ms/step - loss: 1.0937e-09 - accuracy: 1.0000 - val_loss: 1.0312e-04 - val_accuracy: 1.0000\n",
      "Epoch 635/1000\n",
      "4/4 [==============================] - 0s 84ms/step - loss: 1.0937e-09 - accuracy: 1.0000 - val_loss: 1.0310e-04 - val_accuracy: 1.0000\n",
      "Epoch 636/1000\n",
      "4/4 [==============================] - 0s 81ms/step - loss: 1.0937e-09 - accuracy: 1.0000 - val_loss: 1.0308e-04 - val_accuracy: 1.0000\n",
      "Epoch 637/1000\n",
      "4/4 [==============================] - 0s 89ms/step - loss: 1.0937e-09 - accuracy: 1.0000 - val_loss: 1.0304e-04 - val_accuracy: 1.0000\n",
      "Epoch 638/1000\n",
      "4/4 [==============================] - 0s 84ms/step - loss: 1.0937e-09 - accuracy: 1.0000 - val_loss: 1.0302e-04 - val_accuracy: 1.0000\n",
      "Epoch 639/1000\n",
      "4/4 [==============================] - 0s 86ms/step - loss: 1.0937e-09 - accuracy: 1.0000 - val_loss: 1.0300e-04 - val_accuracy: 1.0000\n",
      "Epoch 640/1000\n",
      "4/4 [==============================] - 0s 92ms/step - loss: 1.0937e-09 - accuracy: 1.0000 - val_loss: 1.0297e-04 - val_accuracy: 1.0000\n",
      "Epoch 641/1000\n",
      "4/4 [==============================] - 0s 84ms/step - loss: 1.0937e-09 - accuracy: 1.0000 - val_loss: 1.0292e-04 - val_accuracy: 1.0000\n",
      "Epoch 642/1000\n",
      "4/4 [==============================] - 0s 86ms/step - loss: 1.0937e-09 - accuracy: 1.0000 - val_loss: 1.0289e-04 - val_accuracy: 1.0000\n",
      "Epoch 643/1000\n",
      "4/4 [==============================] - 0s 86ms/step - loss: 1.0937e-09 - accuracy: 1.0000 - val_loss: 1.0282e-04 - val_accuracy: 1.0000\n",
      "Epoch 644/1000\n",
      "4/4 [==============================] - 0s 95ms/step - loss: 1.0937e-09 - accuracy: 1.0000 - val_loss: 1.0279e-04 - val_accuracy: 1.0000\n",
      "Epoch 645/1000\n",
      "4/4 [==============================] - 0s 93ms/step - loss: 1.0937e-09 - accuracy: 1.0000 - val_loss: 1.0276e-04 - val_accuracy: 1.0000\n",
      "Epoch 646/1000\n",
      "4/4 [==============================] - 0s 84ms/step - loss: 1.0937e-09 - accuracy: 1.0000 - val_loss: 1.0272e-04 - val_accuracy: 1.0000\n",
      "Epoch 647/1000\n",
      "4/4 [==============================] - 0s 83ms/step - loss: 1.0937e-09 - accuracy: 1.0000 - val_loss: 1.0269e-04 - val_accuracy: 1.0000\n",
      "Epoch 648/1000\n",
      "4/4 [==============================] - 0s 84ms/step - loss: 1.0937e-09 - accuracy: 1.0000 - val_loss: 1.0266e-04 - val_accuracy: 1.0000\n",
      "Epoch 649/1000\n",
      "4/4 [==============================] - 0s 83ms/step - loss: 1.0937e-09 - accuracy: 1.0000 - val_loss: 1.0263e-04 - val_accuracy: 1.0000\n",
      "Epoch 650/1000\n",
      "4/4 [==============================] - 0s 78ms/step - loss: 1.0937e-09 - accuracy: 1.0000 - val_loss: 1.0260e-04 - val_accuracy: 1.0000\n",
      "Epoch 651/1000\n",
      "4/4 [==============================] - 0s 81ms/step - loss: 1.0937e-09 - accuracy: 1.0000 - val_loss: 1.0256e-04 - val_accuracy: 1.0000\n",
      "Epoch 652/1000\n"
     ]
    },
    {
     "name": "stdout",
     "output_type": "stream",
     "text": [
      "4/4 [==============================] - 0s 90ms/step - loss: 1.0937e-09 - accuracy: 1.0000 - val_loss: 1.0254e-04 - val_accuracy: 1.0000\n",
      "Epoch 653/1000\n",
      "4/4 [==============================] - 0s 90ms/step - loss: 1.0937e-09 - accuracy: 1.0000 - val_loss: 1.0251e-04 - val_accuracy: 1.0000\n",
      "Epoch 654/1000\n",
      "4/4 [==============================] - 0s 84ms/step - loss: 1.0937e-09 - accuracy: 1.0000 - val_loss: 1.0247e-04 - val_accuracy: 1.0000\n",
      "Epoch 655/1000\n",
      "4/4 [==============================] - 0s 87ms/step - loss: 1.0937e-09 - accuracy: 1.0000 - val_loss: 1.0244e-04 - val_accuracy: 1.0000\n",
      "Epoch 656/1000\n",
      "4/4 [==============================] - 0s 86ms/step - loss: 1.0937e-09 - accuracy: 1.0000 - val_loss: 1.0241e-04 - val_accuracy: 1.0000\n",
      "Epoch 657/1000\n",
      "4/4 [==============================] - 0s 84ms/step - loss: 1.0937e-09 - accuracy: 1.0000 - val_loss: 1.0239e-04 - val_accuracy: 1.0000\n",
      "Epoch 658/1000\n",
      "4/4 [==============================] - 0s 92ms/step - loss: 1.0937e-09 - accuracy: 1.0000 - val_loss: 1.0234e-04 - val_accuracy: 1.0000\n",
      "Epoch 659/1000\n",
      "4/4 [==============================] - 0s 84ms/step - loss: 1.0937e-09 - accuracy: 1.0000 - val_loss: 1.0229e-04 - val_accuracy: 1.0000\n",
      "Epoch 660/1000\n",
      "4/4 [==============================] - 0s 92ms/step - loss: 1.0937e-09 - accuracy: 1.0000 - val_loss: 1.0223e-04 - val_accuracy: 1.0000\n",
      "Epoch 661/1000\n",
      "4/4 [==============================] - 0s 78ms/step - loss: 1.0937e-09 - accuracy: 1.0000 - val_loss: 1.0220e-04 - val_accuracy: 1.0000\n",
      "Epoch 662/1000\n",
      "4/4 [==============================] - 0s 83ms/step - loss: 1.0937e-09 - accuracy: 1.0000 - val_loss: 1.0217e-04 - val_accuracy: 1.0000\n",
      "Epoch 663/1000\n",
      "4/4 [==============================] - 0s 82ms/step - loss: 1.0937e-09 - accuracy: 1.0000 - val_loss: 1.0213e-04 - val_accuracy: 1.0000\n",
      "Epoch 664/1000\n",
      "4/4 [==============================] - 0s 99ms/step - loss: 1.0937e-09 - accuracy: 1.0000 - val_loss: 1.0210e-04 - val_accuracy: 1.0000\n",
      "Epoch 665/1000\n",
      "4/4 [==============================] - 0s 89ms/step - loss: 1.0937e-09 - accuracy: 1.0000 - val_loss: 1.0207e-04 - val_accuracy: 1.0000\n",
      "Epoch 666/1000\n",
      "4/4 [==============================] - 0s 89ms/step - loss: 1.0937e-09 - accuracy: 1.0000 - val_loss: 1.0204e-04 - val_accuracy: 1.0000\n",
      "Epoch 667/1000\n",
      "4/4 [==============================] - 0s 89ms/step - loss: 1.0937e-09 - accuracy: 1.0000 - val_loss: 1.0201e-04 - val_accuracy: 1.0000\n",
      "Epoch 668/1000\n",
      "4/4 [==============================] - 0s 89ms/step - loss: 1.0937e-09 - accuracy: 1.0000 - val_loss: 1.0195e-04 - val_accuracy: 1.0000\n",
      "Epoch 669/1000\n",
      "4/4 [==============================] - 0s 86ms/step - loss: 1.0937e-09 - accuracy: 1.0000 - val_loss: 1.0190e-04 - val_accuracy: 1.0000\n",
      "Epoch 670/1000\n",
      "4/4 [==============================] - 0s 81ms/step - loss: 1.0937e-09 - accuracy: 1.0000 - val_loss: 1.0186e-04 - val_accuracy: 1.0000\n",
      "Epoch 671/1000\n",
      "4/4 [==============================] - 0s 86ms/step - loss: 1.0937e-09 - accuracy: 1.0000 - val_loss: 1.0182e-04 - val_accuracy: 1.0000\n",
      "Epoch 672/1000\n",
      "4/4 [==============================] - 0s 84ms/step - loss: 1.0937e-09 - accuracy: 1.0000 - val_loss: 1.0179e-04 - val_accuracy: 1.0000\n",
      "Epoch 673/1000\n",
      "4/4 [==============================] - 0s 83ms/step - loss: 1.0937e-09 - accuracy: 1.0000 - val_loss: 1.0176e-04 - val_accuracy: 1.0000\n",
      "Epoch 674/1000\n",
      "4/4 [==============================] - 0s 83ms/step - loss: 1.0937e-09 - accuracy: 1.0000 - val_loss: 1.0173e-04 - val_accuracy: 1.0000\n",
      "Epoch 675/1000\n",
      "4/4 [==============================] - 0s 84ms/step - loss: 1.0937e-09 - accuracy: 1.0000 - val_loss: 1.0167e-04 - val_accuracy: 1.0000\n",
      "Epoch 676/1000\n",
      "4/4 [==============================] - 0s 92ms/step - loss: 1.0937e-09 - accuracy: 1.0000 - val_loss: 1.0163e-04 - val_accuracy: 1.0000\n",
      "Epoch 677/1000\n",
      "4/4 [==============================] - 0s 82ms/step - loss: 1.0937e-09 - accuracy: 1.0000 - val_loss: 1.0157e-04 - val_accuracy: 1.0000\n",
      "Epoch 678/1000\n",
      "4/4 [==============================] - 0s 86ms/step - loss: 1.0937e-09 - accuracy: 1.0000 - val_loss: 1.0156e-04 - val_accuracy: 1.0000\n",
      "Epoch 679/1000\n",
      "4/4 [==============================] - 0s 89ms/step - loss: 1.0937e-09 - accuracy: 1.0000 - val_loss: 1.0151e-04 - val_accuracy: 1.0000\n",
      "Epoch 680/1000\n",
      "4/4 [==============================] - 0s 90ms/step - loss: 1.0937e-09 - accuracy: 1.0000 - val_loss: 1.0147e-04 - val_accuracy: 1.0000\n",
      "Epoch 681/1000\n",
      "4/4 [==============================] - 0s 92ms/step - loss: 1.0937e-09 - accuracy: 1.0000 - val_loss: 1.0144e-04 - val_accuracy: 1.0000\n",
      "Epoch 682/1000\n",
      "4/4 [==============================] - 0s 92ms/step - loss: 1.0937e-09 - accuracy: 1.0000 - val_loss: 1.0141e-04 - val_accuracy: 1.0000\n",
      "Epoch 683/1000\n",
      "4/4 [==============================] - 0s 94ms/step - loss: 1.0937e-09 - accuracy: 1.0000 - val_loss: 1.0137e-04 - val_accuracy: 1.0000\n",
      "Epoch 684/1000\n",
      "4/4 [==============================] - 0s 95ms/step - loss: 1.0937e-09 - accuracy: 1.0000 - val_loss: 1.0137e-04 - val_accuracy: 1.0000\n",
      "Epoch 685/1000\n",
      "4/4 [==============================] - 0s 95ms/step - loss: 1.0937e-09 - accuracy: 1.0000 - val_loss: 1.0134e-04 - val_accuracy: 1.0000\n",
      "Epoch 686/1000\n",
      "4/4 [==============================] - 0s 91ms/step - loss: 1.0937e-09 - accuracy: 1.0000 - val_loss: 1.0132e-04 - val_accuracy: 1.0000\n",
      "Epoch 687/1000\n",
      "4/4 [==============================] - 0s 92ms/step - loss: 1.0937e-09 - accuracy: 1.0000 - val_loss: 1.0128e-04 - val_accuracy: 1.0000\n",
      "Epoch 688/1000\n",
      "4/4 [==============================] - 0s 95ms/step - loss: 1.0937e-09 - accuracy: 1.0000 - val_loss: 1.0123e-04 - val_accuracy: 1.0000\n",
      "Epoch 689/1000\n",
      "4/4 [==============================] - 0s 95ms/step - loss: 1.0937e-09 - accuracy: 1.0000 - val_loss: 1.0119e-04 - val_accuracy: 1.0000\n",
      "Epoch 690/1000\n",
      "4/4 [==============================] - 0s 91ms/step - loss: 1.0937e-09 - accuracy: 1.0000 - val_loss: 1.0116e-04 - val_accuracy: 1.0000\n",
      "Epoch 691/1000\n",
      "4/4 [==============================] - 0s 95ms/step - loss: 1.0937e-09 - accuracy: 1.0000 - val_loss: 1.0113e-04 - val_accuracy: 1.0000\n",
      "Epoch 692/1000\n",
      "4/4 [==============================] - 0s 94ms/step - loss: 1.0937e-09 - accuracy: 1.0000 - val_loss: 1.0113e-04 - val_accuracy: 1.0000\n",
      "Epoch 693/1000\n",
      "4/4 [==============================] - 0s 92ms/step - loss: 1.0937e-09 - accuracy: 1.0000 - val_loss: 1.0111e-04 - val_accuracy: 1.0000\n",
      "Epoch 694/1000\n",
      "4/4 [==============================] - 0s 95ms/step - loss: 1.0937e-09 - accuracy: 1.0000 - val_loss: 1.0109e-04 - val_accuracy: 1.0000\n",
      "Epoch 695/1000\n",
      "4/4 [==============================] - 0s 96ms/step - loss: 1.0937e-09 - accuracy: 1.0000 - val_loss: 1.0107e-04 - val_accuracy: 1.0000\n",
      "Epoch 696/1000\n",
      "4/4 [==============================] - 0s 91ms/step - loss: 1.0937e-09 - accuracy: 1.0000 - val_loss: 1.0101e-04 - val_accuracy: 1.0000\n",
      "Epoch 697/1000\n",
      "4/4 [==============================] - 0s 89ms/step - loss: 1.0937e-09 - accuracy: 1.0000 - val_loss: 1.0097e-04 - val_accuracy: 1.0000\n",
      "Epoch 698/1000\n",
      "4/4 [==============================] - 0s 92ms/step - loss: 1.0937e-09 - accuracy: 1.0000 - val_loss: 1.0094e-04 - val_accuracy: 1.0000\n",
      "Epoch 699/1000\n",
      "4/4 [==============================] - 0s 94ms/step - loss: 1.0937e-09 - accuracy: 1.0000 - val_loss: 1.0091e-04 - val_accuracy: 1.0000\n",
      "Epoch 700/1000\n",
      "4/4 [==============================] - 0s 93ms/step - loss: 1.0937e-09 - accuracy: 1.0000 - val_loss: 1.0088e-04 - val_accuracy: 1.0000\n",
      "Epoch 701/1000\n",
      "4/4 [==============================] - 0s 100ms/step - loss: 1.0937e-09 - accuracy: 1.0000 - val_loss: 1.0087e-04 - val_accuracy: 1.0000\n",
      "Epoch 702/1000\n",
      "4/4 [==============================] - 0s 101ms/step - loss: 1.0937e-09 - accuracy: 1.0000 - val_loss: 1.0084e-04 - val_accuracy: 1.0000\n",
      "Epoch 703/1000\n",
      "4/4 [==============================] - 0s 95ms/step - loss: 1.0937e-09 - accuracy: 1.0000 - val_loss: 1.0082e-04 - val_accuracy: 1.0000\n",
      "Epoch 704/1000\n",
      "4/4 [==============================] - 0s 92ms/step - loss: 1.0937e-09 - accuracy: 1.0000 - val_loss: 1.0080e-04 - val_accuracy: 1.0000\n",
      "Epoch 705/1000\n",
      "4/4 [==============================] - 0s 97ms/step - loss: 1.0937e-09 - accuracy: 1.0000 - val_loss: 1.0078e-04 - val_accuracy: 1.0000\n",
      "Epoch 706/1000\n"
     ]
    },
    {
     "name": "stdout",
     "output_type": "stream",
     "text": [
      "4/4 [==============================] - 0s 96ms/step - loss: 1.0937e-09 - accuracy: 1.0000 - val_loss: 1.0074e-04 - val_accuracy: 1.0000\n",
      "Epoch 707/1000\n",
      "4/4 [==============================] - 0s 94ms/step - loss: 1.0937e-09 - accuracy: 1.0000 - val_loss: 1.0074e-04 - val_accuracy: 1.0000\n",
      "Epoch 708/1000\n",
      "4/4 [==============================] - 0s 87ms/step - loss: 1.0937e-09 - accuracy: 1.0000 - val_loss: 1.0073e-04 - val_accuracy: 1.0000\n",
      "Epoch 709/1000\n",
      "4/4 [==============================] - 0s 92ms/step - loss: 1.0937e-09 - accuracy: 1.0000 - val_loss: 1.0073e-04 - val_accuracy: 1.0000\n",
      "Epoch 710/1000\n",
      "4/4 [==============================] - 0s 92ms/step - loss: 1.0937e-09 - accuracy: 1.0000 - val_loss: 1.0072e-04 - val_accuracy: 1.0000\n",
      "Epoch 711/1000\n",
      "4/4 [==============================] - 0s 94ms/step - loss: 1.0937e-09 - accuracy: 1.0000 - val_loss: 1.0067e-04 - val_accuracy: 1.0000\n",
      "Epoch 712/1000\n",
      "4/4 [==============================] - 0s 92ms/step - loss: 1.0937e-09 - accuracy: 1.0000 - val_loss: 1.0064e-04 - val_accuracy: 1.0000\n",
      "Epoch 713/1000\n",
      "4/4 [==============================] - 0s 95ms/step - loss: 1.0937e-09 - accuracy: 1.0000 - val_loss: 1.0063e-04 - val_accuracy: 1.0000\n",
      "Epoch 714/1000\n",
      "4/4 [==============================] - 0s 97ms/step - loss: 1.0937e-09 - accuracy: 1.0000 - val_loss: 1.0060e-04 - val_accuracy: 1.0000\n",
      "Epoch 715/1000\n",
      "4/4 [==============================] - 0s 95ms/step - loss: 1.0937e-09 - accuracy: 1.0000 - val_loss: 1.0057e-04 - val_accuracy: 1.0000\n",
      "Epoch 716/1000\n",
      "4/4 [==============================] - 0s 92ms/step - loss: 1.0937e-09 - accuracy: 1.0000 - val_loss: 1.0056e-04 - val_accuracy: 1.0000\n",
      "Epoch 717/1000\n",
      "4/4 [==============================] - 0s 88ms/step - loss: 1.0937e-09 - accuracy: 1.0000 - val_loss: 1.0052e-04 - val_accuracy: 1.0000\n",
      "Epoch 718/1000\n",
      "4/4 [==============================] - 0s 94ms/step - loss: 1.0937e-09 - accuracy: 1.0000 - val_loss: 1.0049e-04 - val_accuracy: 1.0000\n",
      "Epoch 719/1000\n",
      "4/4 [==============================] - 0s 94ms/step - loss: 1.0937e-09 - accuracy: 1.0000 - val_loss: 1.0049e-04 - val_accuracy: 1.0000\n",
      "Epoch 720/1000\n",
      "4/4 [==============================] - 0s 95ms/step - loss: 1.0937e-09 - accuracy: 1.0000 - val_loss: 1.0045e-04 - val_accuracy: 1.0000\n",
      "Epoch 721/1000\n",
      "4/4 [==============================] - 0s 92ms/step - loss: 1.0937e-09 - accuracy: 1.0000 - val_loss: 1.0042e-04 - val_accuracy: 1.0000\n",
      "Epoch 722/1000\n",
      "4/4 [==============================] - 0s 94ms/step - loss: 1.0937e-09 - accuracy: 1.0000 - val_loss: 1.0041e-04 - val_accuracy: 1.0000\n",
      "Epoch 723/1000\n",
      "4/4 [==============================] - 0s 88ms/step - loss: 1.0937e-09 - accuracy: 1.0000 - val_loss: 1.0040e-04 - val_accuracy: 1.0000\n",
      "Epoch 724/1000\n",
      "4/4 [==============================] - 0s 95ms/step - loss: 1.0937e-09 - accuracy: 1.0000 - val_loss: 1.0038e-04 - val_accuracy: 1.0000\n",
      "Epoch 725/1000\n",
      "4/4 [==============================] - 0s 97ms/step - loss: 1.0937e-09 - accuracy: 1.0000 - val_loss: 1.0037e-04 - val_accuracy: 1.0000\n",
      "Epoch 726/1000\n",
      "4/4 [==============================] - 0s 95ms/step - loss: 1.0937e-09 - accuracy: 1.0000 - val_loss: 1.0035e-04 - val_accuracy: 1.0000\n",
      "Epoch 727/1000\n",
      "4/4 [==============================] - 0s 102ms/step - loss: 1.0937e-09 - accuracy: 1.0000 - val_loss: 1.0034e-04 - val_accuracy: 1.0000\n",
      "Epoch 728/1000\n",
      "4/4 [==============================] - 0s 94ms/step - loss: 1.0937e-09 - accuracy: 1.0000 - val_loss: 1.0033e-04 - val_accuracy: 1.0000\n",
      "Epoch 729/1000\n",
      "4/4 [==============================] - 0s 93ms/step - loss: 1.0937e-09 - accuracy: 1.0000 - val_loss: 1.0031e-04 - val_accuracy: 1.0000\n",
      "Epoch 730/1000\n",
      "4/4 [==============================] - 0s 92ms/step - loss: 1.0937e-09 - accuracy: 1.0000 - val_loss: 1.0029e-04 - val_accuracy: 1.0000\n",
      "Epoch 731/1000\n",
      "4/4 [==============================] - 0s 100ms/step - loss: 1.0937e-09 - accuracy: 1.0000 - val_loss: 1.0031e-04 - val_accuracy: 1.0000\n",
      "Epoch 732/1000\n",
      "4/4 [==============================] - 0s 94ms/step - loss: 0.0000e+00 - accuracy: 1.0000 - val_loss: 1.0029e-04 - val_accuracy: 1.0000\n",
      "Epoch 733/1000\n",
      "4/4 [==============================] - 0s 89ms/step - loss: 0.0000e+00 - accuracy: 1.0000 - val_loss: 1.0027e-04 - val_accuracy: 1.0000\n",
      "Epoch 734/1000\n",
      "4/4 [==============================] - 0s 89ms/step - loss: 0.0000e+00 - accuracy: 1.0000 - val_loss: 1.0024e-04 - val_accuracy: 1.0000\n",
      "Epoch 735/1000\n",
      "4/4 [==============================] - 0s 93ms/step - loss: 0.0000e+00 - accuracy: 1.0000 - val_loss: 1.0019e-04 - val_accuracy: 1.0000\n",
      "Epoch 736/1000\n",
      "4/4 [==============================] - 0s 91ms/step - loss: 0.0000e+00 - accuracy: 1.0000 - val_loss: 1.0013e-04 - val_accuracy: 1.0000\n",
      "Epoch 737/1000\n",
      "4/4 [==============================] - 0s 97ms/step - loss: 0.0000e+00 - accuracy: 1.0000 - val_loss: 1.0005e-04 - val_accuracy: 1.0000\n",
      "Epoch 738/1000\n",
      "4/4 [==============================] - 0s 98ms/step - loss: 0.0000e+00 - accuracy: 1.0000 - val_loss: 9.9991e-05 - val_accuracy: 1.0000\n",
      "Epoch 739/1000\n",
      "4/4 [==============================] - 0s 97ms/step - loss: 0.0000e+00 - accuracy: 1.0000 - val_loss: 9.9932e-05 - val_accuracy: 1.0000\n",
      "Epoch 740/1000\n",
      "4/4 [==============================] - 0s 98ms/step - loss: 0.0000e+00 - accuracy: 1.0000 - val_loss: 9.9878e-05 - val_accuracy: 1.0000\n",
      "Epoch 741/1000\n",
      "4/4 [==============================] - 0s 96ms/step - loss: 0.0000e+00 - accuracy: 1.0000 - val_loss: 9.9825e-05 - val_accuracy: 1.0000\n",
      "Epoch 742/1000\n",
      "4/4 [==============================] - 0s 95ms/step - loss: 0.0000e+00 - accuracy: 1.0000 - val_loss: 9.9765e-05 - val_accuracy: 1.0000\n",
      "Epoch 743/1000\n",
      "4/4 [==============================] - 0s 91ms/step - loss: 0.0000e+00 - accuracy: 1.0000 - val_loss: 9.9718e-05 - val_accuracy: 1.0000\n",
      "Epoch 744/1000\n",
      "4/4 [==============================] - 0s 90ms/step - loss: 0.0000e+00 - accuracy: 1.0000 - val_loss: 9.9634e-05 - val_accuracy: 1.0000\n",
      "Epoch 745/1000\n",
      "4/4 [==============================] - 0s 93ms/step - loss: 0.0000e+00 - accuracy: 1.0000 - val_loss: 9.9545e-05 - val_accuracy: 1.0000\n",
      "Epoch 746/1000\n",
      "4/4 [==============================] - 0s 99ms/step - loss: 0.0000e+00 - accuracy: 1.0000 - val_loss: 9.9432e-05 - val_accuracy: 1.0000\n",
      "Epoch 747/1000\n",
      "4/4 [==============================] - 0s 89ms/step - loss: 0.0000e+00 - accuracy: 1.0000 - val_loss: 9.9349e-05 - val_accuracy: 1.0000\n",
      "Epoch 748/1000\n",
      "4/4 [==============================] - 0s 90ms/step - loss: 0.0000e+00 - accuracy: 1.0000 - val_loss: 9.9266e-05 - val_accuracy: 1.0000\n",
      "Epoch 749/1000\n",
      "4/4 [==============================] - 0s 95ms/step - loss: 0.0000e+00 - accuracy: 1.0000 - val_loss: 9.9200e-05 - val_accuracy: 1.0000\n",
      "Epoch 750/1000\n",
      "4/4 [==============================] - 0s 96ms/step - loss: 0.0000e+00 - accuracy: 1.0000 - val_loss: 9.9135e-05 - val_accuracy: 1.0000\n",
      "Epoch 751/1000\n",
      "4/4 [==============================] - 0s 94ms/step - loss: 0.0000e+00 - accuracy: 1.0000 - val_loss: 9.9081e-05 - val_accuracy: 1.0000\n",
      "Epoch 752/1000\n",
      "4/4 [==============================] - 0s 94ms/step - loss: 0.0000e+00 - accuracy: 1.0000 - val_loss: 9.9022e-05 - val_accuracy: 1.0000\n",
      "Epoch 753/1000\n",
      "4/4 [==============================] - 0s 99ms/step - loss: 0.0000e+00 - accuracy: 1.0000 - val_loss: 9.8968e-05 - val_accuracy: 1.0000\n",
      "Epoch 754/1000\n",
      "4/4 [==============================] - 0s 97ms/step - loss: 0.0000e+00 - accuracy: 1.0000 - val_loss: 9.8915e-05 - val_accuracy: 1.0000\n",
      "Epoch 755/1000\n",
      "4/4 [==============================] - 0s 95ms/step - loss: 0.0000e+00 - accuracy: 1.0000 - val_loss: 9.8861e-05 - val_accuracy: 1.0000\n",
      "Epoch 756/1000\n",
      "4/4 [==============================] - 0s 92ms/step - loss: 0.0000e+00 - accuracy: 1.0000 - val_loss: 9.8813e-05 - val_accuracy: 1.0000\n",
      "Epoch 757/1000\n",
      "4/4 [==============================] - 0s 92ms/step - loss: 0.0000e+00 - accuracy: 1.0000 - val_loss: 9.8724e-05 - val_accuracy: 1.0000\n",
      "Epoch 758/1000\n",
      "4/4 [==============================] - 0s 94ms/step - loss: 0.0000e+00 - accuracy: 1.0000 - val_loss: 9.8659e-05 - val_accuracy: 1.0000\n",
      "Epoch 759/1000\n",
      "4/4 [==============================] - 0s 88ms/step - loss: 0.0000e+00 - accuracy: 1.0000 - val_loss: 9.8605e-05 - val_accuracy: 1.0000\n",
      "Epoch 760/1000\n"
     ]
    },
    {
     "name": "stdout",
     "output_type": "stream",
     "text": [
      "4/4 [==============================] - 0s 92ms/step - loss: 0.0000e+00 - accuracy: 1.0000 - val_loss: 9.8540e-05 - val_accuracy: 1.0000\n",
      "Epoch 761/1000\n",
      "4/4 [==============================] - 0s 92ms/step - loss: 0.0000e+00 - accuracy: 1.0000 - val_loss: 9.8480e-05 - val_accuracy: 1.0000\n",
      "Epoch 762/1000\n",
      "4/4 [==============================] - 0s 97ms/step - loss: 0.0000e+00 - accuracy: 1.0000 - val_loss: 9.8433e-05 - val_accuracy: 1.0000\n",
      "Epoch 763/1000\n",
      "4/4 [==============================] - 0s 94ms/step - loss: 0.0000e+00 - accuracy: 1.0000 - val_loss: 9.8361e-05 - val_accuracy: 1.0000\n",
      "Epoch 764/1000\n",
      "4/4 [==============================] - 0s 101ms/step - loss: 0.0000e+00 - accuracy: 1.0000 - val_loss: 9.8290e-05 - val_accuracy: 1.0000\n",
      "Epoch 765/1000\n",
      "4/4 [==============================] - 0s 92ms/step - loss: 0.0000e+00 - accuracy: 1.0000 - val_loss: 9.8219e-05 - val_accuracy: 1.0000\n",
      "Epoch 766/1000\n",
      "4/4 [==============================] - 0s 100ms/step - loss: 0.0000e+00 - accuracy: 1.0000 - val_loss: 9.8159e-05 - val_accuracy: 1.0000\n",
      "Epoch 767/1000\n",
      "4/4 [==============================] - 0s 91ms/step - loss: 0.0000e+00 - accuracy: 1.0000 - val_loss: 9.8100e-05 - val_accuracy: 1.0000\n",
      "Epoch 768/1000\n",
      "4/4 [==============================] - 0s 92ms/step - loss: 0.0000e+00 - accuracy: 1.0000 - val_loss: 9.8052e-05 - val_accuracy: 1.0000\n",
      "Epoch 769/1000\n",
      "4/4 [==============================] - 0s 95ms/step - loss: 0.0000e+00 - accuracy: 1.0000 - val_loss: 9.8004e-05 - val_accuracy: 1.0000\n",
      "Epoch 770/1000\n",
      "4/4 [==============================] - 0s 91ms/step - loss: 0.0000e+00 - accuracy: 1.0000 - val_loss: 9.7957e-05 - val_accuracy: 1.0000\n",
      "Epoch 771/1000\n",
      "4/4 [==============================] - 0s 95ms/step - loss: 0.0000e+00 - accuracy: 1.0000 - val_loss: 9.7885e-05 - val_accuracy: 1.0000\n",
      "Epoch 772/1000\n",
      "4/4 [==============================] - 0s 92ms/step - loss: 0.0000e+00 - accuracy: 1.0000 - val_loss: 9.7784e-05 - val_accuracy: 1.0000\n",
      "Epoch 773/1000\n",
      "4/4 [==============================] - 0s 89ms/step - loss: 0.0000e+00 - accuracy: 1.0000 - val_loss: 9.7713e-05 - val_accuracy: 1.0000\n",
      "Epoch 774/1000\n",
      "4/4 [==============================] - 0s 89ms/step - loss: 0.0000e+00 - accuracy: 1.0000 - val_loss: 9.7641e-05 - val_accuracy: 1.0000\n",
      "Epoch 775/1000\n",
      "4/4 [==============================] - 0s 94ms/step - loss: 0.0000e+00 - accuracy: 1.0000 - val_loss: 9.7558e-05 - val_accuracy: 1.0000\n",
      "Epoch 776/1000\n",
      "4/4 [==============================] - 0s 97ms/step - loss: 0.0000e+00 - accuracy: 1.0000 - val_loss: 9.7481e-05 - val_accuracy: 1.0000\n",
      "Epoch 777/1000\n",
      "4/4 [==============================] - 0s 95ms/step - loss: 0.0000e+00 - accuracy: 1.0000 - val_loss: 9.7392e-05 - val_accuracy: 1.0000\n",
      "Epoch 778/1000\n",
      "4/4 [==============================] - 0s 95ms/step - loss: 0.0000e+00 - accuracy: 1.0000 - val_loss: 9.7314e-05 - val_accuracy: 1.0000\n",
      "Epoch 779/1000\n",
      "4/4 [==============================] - 0s 97ms/step - loss: 0.0000e+00 - accuracy: 1.0000 - val_loss: 9.7249e-05 - val_accuracy: 1.0000\n",
      "Epoch 780/1000\n",
      "4/4 [==============================] - 0s 89ms/step - loss: 0.0000e+00 - accuracy: 1.0000 - val_loss: 9.7195e-05 - val_accuracy: 1.0000\n",
      "Epoch 781/1000\n",
      "4/4 [==============================] - 0s 92ms/step - loss: 0.0000e+00 - accuracy: 1.0000 - val_loss: 9.7136e-05 - val_accuracy: 1.0000\n",
      "Epoch 782/1000\n",
      "4/4 [==============================] - 0s 92ms/step - loss: 0.0000e+00 - accuracy: 1.0000 - val_loss: 9.7082e-05 - val_accuracy: 1.0000\n",
      "Epoch 783/1000\n",
      "4/4 [==============================] - 0s 92ms/step - loss: 0.0000e+00 - accuracy: 1.0000 - val_loss: 9.7011e-05 - val_accuracy: 1.0000\n",
      "Epoch 784/1000\n",
      "4/4 [==============================] - 0s 92ms/step - loss: 0.0000e+00 - accuracy: 1.0000 - val_loss: 9.6945e-05 - val_accuracy: 1.0000\n",
      "Epoch 785/1000\n",
      "4/4 [==============================] - 0s 97ms/step - loss: 0.0000e+00 - accuracy: 1.0000 - val_loss: 9.6880e-05 - val_accuracy: 1.0000\n",
      "Epoch 786/1000\n",
      "4/4 [==============================] - 0s 94ms/step - loss: 0.0000e+00 - accuracy: 1.0000 - val_loss: 9.6826e-05 - val_accuracy: 1.0000\n",
      "Epoch 787/1000\n",
      "4/4 [==============================] - 0s 90ms/step - loss: 0.0000e+00 - accuracy: 1.0000 - val_loss: 9.6755e-05 - val_accuracy: 1.0000\n",
      "Epoch 788/1000\n",
      "4/4 [==============================] - 0s 94ms/step - loss: 0.0000e+00 - accuracy: 1.0000 - val_loss: 9.6678e-05 - val_accuracy: 1.0000\n",
      "Epoch 789/1000\n",
      "4/4 [==============================] - 0s 96ms/step - loss: 0.0000e+00 - accuracy: 1.0000 - val_loss: 9.6618e-05 - val_accuracy: 1.0000\n",
      "Epoch 790/1000\n",
      "4/4 [==============================] - 0s 98ms/step - loss: 0.0000e+00 - accuracy: 1.0000 - val_loss: 9.6565e-05 - val_accuracy: 1.0000\n",
      "Epoch 791/1000\n",
      "4/4 [==============================] - 0s 98ms/step - loss: 0.0000e+00 - accuracy: 1.0000 - val_loss: 9.6517e-05 - val_accuracy: 1.0000\n",
      "Epoch 792/1000\n",
      "4/4 [==============================] - 0s 94ms/step - loss: 0.0000e+00 - accuracy: 1.0000 - val_loss: 9.6469e-05 - val_accuracy: 1.0000\n",
      "Epoch 793/1000\n",
      "4/4 [==============================] - 0s 94ms/step - loss: 0.0000e+00 - accuracy: 1.0000 - val_loss: 9.6410e-05 - val_accuracy: 1.0000\n",
      "Epoch 794/1000\n",
      "4/4 [==============================] - 0s 98ms/step - loss: 0.0000e+00 - accuracy: 1.0000 - val_loss: 9.6368e-05 - val_accuracy: 1.0000\n",
      "Epoch 795/1000\n",
      "4/4 [==============================] - 0s 91ms/step - loss: 0.0000e+00 - accuracy: 1.0000 - val_loss: 9.6315e-05 - val_accuracy: 1.0000\n",
      "Epoch 796/1000\n",
      "4/4 [==============================] - 0s 91ms/step - loss: 0.0000e+00 - accuracy: 1.0000 - val_loss: 9.6267e-05 - val_accuracy: 1.0000\n",
      "Epoch 797/1000\n",
      "4/4 [==============================] - 0s 91ms/step - loss: 0.0000e+00 - accuracy: 1.0000 - val_loss: 9.6214e-05 - val_accuracy: 1.0000\n",
      "Epoch 798/1000\n",
      "4/4 [==============================] - 0s 90ms/step - loss: 0.0000e+00 - accuracy: 1.0000 - val_loss: 9.6172e-05 - val_accuracy: 1.0000\n",
      "Epoch 799/1000\n",
      "4/4 [==============================] - 0s 100ms/step - loss: 0.0000e+00 - accuracy: 1.0000 - val_loss: 9.6130e-05 - val_accuracy: 1.0000\n",
      "Epoch 800/1000\n",
      "4/4 [==============================] - 0s 92ms/step - loss: 0.0000e+00 - accuracy: 1.0000 - val_loss: 9.6077e-05 - val_accuracy: 1.0000\n",
      "Epoch 801/1000\n",
      "4/4 [==============================] - 0s 101ms/step - loss: 0.0000e+00 - accuracy: 1.0000 - val_loss: 9.6035e-05 - val_accuracy: 1.0000\n",
      "Epoch 802/1000\n",
      "4/4 [==============================] - 0s 95ms/step - loss: 0.0000e+00 - accuracy: 1.0000 - val_loss: 9.5958e-05 - val_accuracy: 1.0000\n",
      "Epoch 803/1000\n",
      "4/4 [==============================] - 0s 89ms/step - loss: 0.0000e+00 - accuracy: 1.0000 - val_loss: 9.5898e-05 - val_accuracy: 1.0000\n",
      "Epoch 804/1000\n",
      "4/4 [==============================] - 0s 94ms/step - loss: 0.0000e+00 - accuracy: 1.0000 - val_loss: 9.5839e-05 - val_accuracy: 1.0000\n",
      "Epoch 805/1000\n",
      "4/4 [==============================] - 0s 88ms/step - loss: 0.0000e+00 - accuracy: 1.0000 - val_loss: 9.5779e-05 - val_accuracy: 1.0000\n",
      "Epoch 806/1000\n",
      "4/4 [==============================] - 0s 95ms/step - loss: 0.0000e+00 - accuracy: 1.0000 - val_loss: 9.5732e-05 - val_accuracy: 1.0000\n",
      "Epoch 807/1000\n",
      "4/4 [==============================] - 0s 92ms/step - loss: 0.0000e+00 - accuracy: 1.0000 - val_loss: 9.5684e-05 - val_accuracy: 1.0000\n",
      "Epoch 808/1000\n",
      "4/4 [==============================] - 0s 95ms/step - loss: 0.0000e+00 - accuracy: 1.0000 - val_loss: 9.5636e-05 - val_accuracy: 1.0000\n",
      "Epoch 809/1000\n",
      "4/4 [==============================] - 0s 92ms/step - loss: 0.0000e+00 - accuracy: 1.0000 - val_loss: 9.5571e-05 - val_accuracy: 1.0000\n",
      "Epoch 810/1000\n",
      "4/4 [==============================] - 0s 92ms/step - loss: 0.0000e+00 - accuracy: 1.0000 - val_loss: 9.5512e-05 - val_accuracy: 1.0000\n",
      "Epoch 811/1000\n",
      "4/4 [==============================] - 0s 98ms/step - loss: 0.0000e+00 - accuracy: 1.0000 - val_loss: 9.5422e-05 - val_accuracy: 1.0000\n",
      "Epoch 812/1000\n",
      "4/4 [==============================] - 0s 94ms/step - loss: 0.0000e+00 - accuracy: 1.0000 - val_loss: 9.5357e-05 - val_accuracy: 1.0000\n",
      "Epoch 813/1000\n",
      "4/4 [==============================] - 0s 97ms/step - loss: 0.0000e+00 - accuracy: 1.0000 - val_loss: 9.5297e-05 - val_accuracy: 1.0000\n",
      "Epoch 814/1000\n"
     ]
    },
    {
     "name": "stdout",
     "output_type": "stream",
     "text": [
      "4/4 [==============================] - 0s 95ms/step - loss: 0.0000e+00 - accuracy: 1.0000 - val_loss: 9.5238e-05 - val_accuracy: 1.0000\n",
      "Epoch 815/1000\n",
      "4/4 [==============================] - 0s 96ms/step - loss: 0.0000e+00 - accuracy: 1.0000 - val_loss: 9.5196e-05 - val_accuracy: 1.0000\n",
      "Epoch 816/1000\n",
      "4/4 [==============================] - 0s 91ms/step - loss: 0.0000e+00 - accuracy: 1.0000 - val_loss: 9.5143e-05 - val_accuracy: 1.0000\n",
      "Epoch 817/1000\n",
      "4/4 [==============================] - 0s 92ms/step - loss: 0.0000e+00 - accuracy: 1.0000 - val_loss: 9.5095e-05 - val_accuracy: 1.0000\n",
      "Epoch 818/1000\n",
      "4/4 [==============================] - 0s 92ms/step - loss: 0.0000e+00 - accuracy: 1.0000 - val_loss: 9.5042e-05 - val_accuracy: 1.0000\n",
      "Epoch 819/1000\n",
      "4/4 [==============================] - 0s 92ms/step - loss: 0.0000e+00 - accuracy: 1.0000 - val_loss: 9.4994e-05 - val_accuracy: 1.0000\n",
      "Epoch 820/1000\n",
      "4/4 [==============================] - 0s 92ms/step - loss: 0.0000e+00 - accuracy: 1.0000 - val_loss: 9.4946e-05 - val_accuracy: 1.0000\n",
      "Epoch 821/1000\n",
      "4/4 [==============================] - 0s 91ms/step - loss: 0.0000e+00 - accuracy: 1.0000 - val_loss: 9.4887e-05 - val_accuracy: 1.0000\n",
      "Epoch 822/1000\n",
      "4/4 [==============================] - 0s 89ms/step - loss: 0.0000e+00 - accuracy: 1.0000 - val_loss: 9.4821e-05 - val_accuracy: 1.0000\n",
      "Epoch 823/1000\n",
      "4/4 [==============================] - 0s 94ms/step - loss: 0.0000e+00 - accuracy: 1.0000 - val_loss: 9.4768e-05 - val_accuracy: 1.0000\n",
      "Epoch 824/1000\n",
      "4/4 [==============================] - 0s 91ms/step - loss: 0.0000e+00 - accuracy: 1.0000 - val_loss: 9.4714e-05 - val_accuracy: 1.0000\n",
      "Epoch 825/1000\n",
      "4/4 [==============================] - 0s 97ms/step - loss: 0.0000e+00 - accuracy: 1.0000 - val_loss: 9.4667e-05 - val_accuracy: 1.0000\n",
      "Epoch 826/1000\n",
      "4/4 [==============================] - 0s 92ms/step - loss: 0.0000e+00 - accuracy: 1.0000 - val_loss: 9.4601e-05 - val_accuracy: 1.0000\n",
      "Epoch 827/1000\n",
      "4/4 [==============================] - 0s 100ms/step - loss: 0.0000e+00 - accuracy: 1.0000 - val_loss: 9.4512e-05 - val_accuracy: 1.0000\n",
      "Epoch 828/1000\n",
      "4/4 [==============================] - 0s 95ms/step - loss: 0.0000e+00 - accuracy: 1.0000 - val_loss: 9.4447e-05 - val_accuracy: 1.0000\n",
      "Epoch 829/1000\n",
      "4/4 [==============================] - 0s 89ms/step - loss: 0.0000e+00 - accuracy: 1.0000 - val_loss: 9.4387e-05 - val_accuracy: 1.0000\n",
      "Epoch 830/1000\n",
      "4/4 [==============================] - 0s 96ms/step - loss: 0.0000e+00 - accuracy: 1.0000 - val_loss: 9.4328e-05 - val_accuracy: 1.0000\n",
      "Epoch 831/1000\n",
      "4/4 [==============================] - 0s 89ms/step - loss: 0.0000e+00 - accuracy: 1.0000 - val_loss: 9.4280e-05 - val_accuracy: 1.0000\n",
      "Epoch 832/1000\n",
      "4/4 [==============================] - 0s 94ms/step - loss: 0.0000e+00 - accuracy: 1.0000 - val_loss: 9.4209e-05 - val_accuracy: 1.0000\n",
      "Epoch 833/1000\n",
      "4/4 [==============================] - 0s 97ms/step - loss: 0.0000e+00 - accuracy: 1.0000 - val_loss: 9.4155e-05 - val_accuracy: 1.0000\n",
      "Epoch 834/1000\n",
      "4/4 [==============================] - 0s 89ms/step - loss: 0.0000e+00 - accuracy: 1.0000 - val_loss: 9.4096e-05 - val_accuracy: 1.0000\n",
      "Epoch 835/1000\n",
      "4/4 [==============================] - 0s 89ms/step - loss: 0.0000e+00 - accuracy: 1.0000 - val_loss: 9.4036e-05 - val_accuracy: 1.0000\n",
      "Epoch 836/1000\n",
      "4/4 [==============================] - 0s 92ms/step - loss: 0.0000e+00 - accuracy: 1.0000 - val_loss: 9.3982e-05 - val_accuracy: 1.0000\n",
      "Epoch 837/1000\n",
      "4/4 [==============================] - 0s 97ms/step - loss: 0.0000e+00 - accuracy: 1.0000 - val_loss: 9.3935e-05 - val_accuracy: 1.0000\n",
      "Epoch 838/1000\n",
      "4/4 [==============================] - 0s 95ms/step - loss: 0.0000e+00 - accuracy: 1.0000 - val_loss: 9.3893e-05 - val_accuracy: 1.0000\n",
      "Epoch 839/1000\n",
      "4/4 [==============================] - 0s 94ms/step - loss: 0.0000e+00 - accuracy: 1.0000 - val_loss: 9.3828e-05 - val_accuracy: 1.0000\n",
      "Epoch 840/1000\n",
      "4/4 [==============================] - 0s 94ms/step - loss: 0.0000e+00 - accuracy: 1.0000 - val_loss: 9.3744e-05 - val_accuracy: 1.0000\n",
      "Epoch 841/1000\n",
      "4/4 [==============================] - 0s 92ms/step - loss: 0.0000e+00 - accuracy: 1.0000 - val_loss: 9.3685e-05 - val_accuracy: 1.0000\n",
      "Epoch 842/1000\n",
      "4/4 [==============================] - 0s 95ms/step - loss: 0.0000e+00 - accuracy: 1.0000 - val_loss: 9.3626e-05 - val_accuracy: 1.0000\n",
      "Epoch 843/1000\n",
      "4/4 [==============================] - 0s 97ms/step - loss: 0.0000e+00 - accuracy: 1.0000 - val_loss: 9.3566e-05 - val_accuracy: 1.0000\n",
      "Epoch 844/1000\n",
      "4/4 [==============================] - 0s 90ms/step - loss: 0.0000e+00 - accuracy: 1.0000 - val_loss: 9.3518e-05 - val_accuracy: 1.0000\n",
      "Epoch 845/1000\n",
      "4/4 [==============================] - 0s 94ms/step - loss: 0.0000e+00 - accuracy: 1.0000 - val_loss: 9.3471e-05 - val_accuracy: 1.0000\n",
      "Epoch 846/1000\n",
      "4/4 [==============================] - 0s 92ms/step - loss: 0.0000e+00 - accuracy: 1.0000 - val_loss: 9.3423e-05 - val_accuracy: 1.0000\n",
      "Epoch 847/1000\n",
      "4/4 [==============================] - 0s 97ms/step - loss: 0.0000e+00 - accuracy: 1.0000 - val_loss: 9.3382e-05 - val_accuracy: 1.0000\n",
      "Epoch 848/1000\n",
      "4/4 [==============================] - 0s 88ms/step - loss: 0.0000e+00 - accuracy: 1.0000 - val_loss: 9.3334e-05 - val_accuracy: 1.0000\n",
      "Epoch 849/1000\n",
      "4/4 [==============================] - 0s 92ms/step - loss: 0.0000e+00 - accuracy: 1.0000 - val_loss: 9.3292e-05 - val_accuracy: 1.0000\n",
      "Epoch 850/1000\n",
      "4/4 [==============================] - 0s 92ms/step - loss: 0.0000e+00 - accuracy: 1.0000 - val_loss: 9.3251e-05 - val_accuracy: 1.0000\n",
      "Epoch 851/1000\n",
      "4/4 [==============================] - 0s 97ms/step - loss: 0.0000e+00 - accuracy: 1.0000 - val_loss: 9.3185e-05 - val_accuracy: 1.0000\n",
      "Epoch 852/1000\n",
      "4/4 [==============================] - 0s 92ms/step - loss: 0.0000e+00 - accuracy: 1.0000 - val_loss: 9.3102e-05 - val_accuracy: 1.0000\n",
      "Epoch 853/1000\n",
      "4/4 [==============================] - 0s 99ms/step - loss: 0.0000e+00 - accuracy: 1.0000 - val_loss: 9.3036e-05 - val_accuracy: 1.0000\n",
      "Epoch 854/1000\n",
      "4/4 [==============================] - 0s 95ms/step - loss: 0.0000e+00 - accuracy: 1.0000 - val_loss: 9.2983e-05 - val_accuracy: 1.0000\n",
      "Epoch 855/1000\n",
      "4/4 [==============================] - 0s 88ms/step - loss: 0.0000e+00 - accuracy: 1.0000 - val_loss: 9.2929e-05 - val_accuracy: 1.0000\n",
      "Epoch 856/1000\n",
      "4/4 [==============================] - 0s 104ms/step - loss: 0.0000e+00 - accuracy: 1.0000 - val_loss: 9.2882e-05 - val_accuracy: 1.0000\n",
      "Epoch 857/1000\n",
      "4/4 [==============================] - 0s 94ms/step - loss: 0.0000e+00 - accuracy: 1.0000 - val_loss: 9.2840e-05 - val_accuracy: 1.0000\n",
      "Epoch 858/1000\n",
      "4/4 [==============================] - 0s 95ms/step - loss: 0.0000e+00 - accuracy: 1.0000 - val_loss: 9.2793e-05 - val_accuracy: 1.0000\n",
      "Epoch 859/1000\n",
      "4/4 [==============================] - 0s 88ms/step - loss: 0.0000e+00 - accuracy: 1.0000 - val_loss: 9.2745e-05 - val_accuracy: 1.0000\n",
      "Epoch 860/1000\n",
      "4/4 [==============================] - 0s 89ms/step - loss: 0.0000e+00 - accuracy: 1.0000 - val_loss: 9.2703e-05 - val_accuracy: 1.0000\n",
      "Epoch 861/1000\n",
      "4/4 [==============================] - 0s 92ms/step - loss: 0.0000e+00 - accuracy: 1.0000 - val_loss: 9.2638e-05 - val_accuracy: 1.0000\n",
      "Epoch 862/1000\n",
      "4/4 [==============================] - 0s 109ms/step - loss: 0.0000e+00 - accuracy: 1.0000 - val_loss: 9.2584e-05 - val_accuracy: 1.0000\n",
      "Epoch 863/1000\n",
      "4/4 [==============================] - 0s 91ms/step - loss: 0.0000e+00 - accuracy: 1.0000 - val_loss: 9.2537e-05 - val_accuracy: 1.0000\n",
      "Epoch 864/1000\n",
      "4/4 [==============================] - 0s 101ms/step - loss: 0.0000e+00 - accuracy: 1.0000 - val_loss: 9.2489e-05 - val_accuracy: 1.0000\n",
      "Epoch 865/1000\n",
      "4/4 [==============================] - 0s 100ms/step - loss: 0.0000e+00 - accuracy: 1.0000 - val_loss: 9.2424e-05 - val_accuracy: 1.0000\n",
      "Epoch 866/1000\n",
      "4/4 [==============================] - 0s 95ms/step - loss: 0.0000e+00 - accuracy: 1.0000 - val_loss: 9.2364e-05 - val_accuracy: 1.0000\n",
      "Epoch 867/1000\n",
      "4/4 [==============================] - 0s 90ms/step - loss: 0.0000e+00 - accuracy: 1.0000 - val_loss: 9.2317e-05 - val_accuracy: 1.0000\n",
      "Epoch 868/1000\n"
     ]
    },
    {
     "name": "stdout",
     "output_type": "stream",
     "text": [
      "4/4 [==============================] - 0s 95ms/step - loss: 0.0000e+00 - accuracy: 1.0000 - val_loss: 9.2269e-05 - val_accuracy: 1.0000\n",
      "Epoch 869/1000\n",
      "4/4 [==============================] - 0s 98ms/step - loss: 0.0000e+00 - accuracy: 1.0000 - val_loss: 9.2221e-05 - val_accuracy: 1.0000\n",
      "Epoch 870/1000\n",
      "4/4 [==============================] - 0s 91ms/step - loss: 0.0000e+00 - accuracy: 1.0000 - val_loss: 9.2168e-05 - val_accuracy: 1.0000\n",
      "Epoch 871/1000\n",
      "4/4 [==============================] - 0s 100ms/step - loss: 0.0000e+00 - accuracy: 1.0000 - val_loss: 9.2126e-05 - val_accuracy: 1.0000\n",
      "Epoch 872/1000\n",
      "4/4 [==============================] - 0s 94ms/step - loss: 0.0000e+00 - accuracy: 1.0000 - val_loss: 9.2090e-05 - val_accuracy: 1.0000\n",
      "Epoch 873/1000\n",
      "4/4 [==============================] - 0s 91ms/step - loss: 0.0000e+00 - accuracy: 1.0000 - val_loss: 9.2049e-05 - val_accuracy: 1.0000\n",
      "Epoch 874/1000\n",
      "4/4 [==============================] - 0s 95ms/step - loss: 0.0000e+00 - accuracy: 1.0000 - val_loss: 9.2007e-05 - val_accuracy: 1.0000\n",
      "Epoch 875/1000\n",
      "4/4 [==============================] - 0s 90ms/step - loss: 0.0000e+00 - accuracy: 1.0000 - val_loss: 9.1960e-05 - val_accuracy: 1.0000\n",
      "Epoch 876/1000\n",
      "4/4 [==============================] - 0s 92ms/step - loss: 0.0000e+00 - accuracy: 1.0000 - val_loss: 9.1924e-05 - val_accuracy: 1.0000\n",
      "Epoch 877/1000\n",
      "4/4 [==============================] - 0s 95ms/step - loss: 0.0000e+00 - accuracy: 1.0000 - val_loss: 9.1882e-05 - val_accuracy: 1.0000\n",
      "Epoch 878/1000\n",
      "4/4 [==============================] - 0s 98ms/step - loss: 0.0000e+00 - accuracy: 1.0000 - val_loss: 9.1841e-05 - val_accuracy: 1.0000\n",
      "Epoch 879/1000\n",
      "4/4 [==============================] - 0s 92ms/step - loss: 0.0000e+00 - accuracy: 1.0000 - val_loss: 9.1787e-05 - val_accuracy: 1.0000\n",
      "Epoch 880/1000\n",
      "4/4 [==============================] - 0s 89ms/step - loss: 0.0000e+00 - accuracy: 1.0000 - val_loss: 9.1727e-05 - val_accuracy: 1.0000\n",
      "Epoch 881/1000\n",
      "4/4 [==============================] - 0s 91ms/step - loss: 0.0000e+00 - accuracy: 1.0000 - val_loss: 9.1668e-05 - val_accuracy: 1.0000\n",
      "Epoch 882/1000\n",
      "4/4 [==============================] - 0s 103ms/step - loss: 0.0000e+00 - accuracy: 1.0000 - val_loss: 9.1626e-05 - val_accuracy: 1.0000\n",
      "Epoch 883/1000\n",
      "4/4 [==============================] - 0s 92ms/step - loss: 0.0000e+00 - accuracy: 1.0000 - val_loss: 9.1585e-05 - val_accuracy: 1.0000\n",
      "Epoch 884/1000\n",
      "4/4 [==============================] - 0s 93ms/step - loss: 0.0000e+00 - accuracy: 1.0000 - val_loss: 9.1543e-05 - val_accuracy: 1.0000\n",
      "Epoch 885/1000\n",
      "4/4 [==============================] - 0s 100ms/step - loss: 0.0000e+00 - accuracy: 1.0000 - val_loss: 9.1501e-05 - val_accuracy: 1.0000\n",
      "Epoch 886/1000\n",
      "4/4 [==============================] - 0s 91ms/step - loss: 0.0000e+00 - accuracy: 1.0000 - val_loss: 9.1448e-05 - val_accuracy: 1.0000\n",
      "Epoch 887/1000\n",
      "4/4 [==============================] - 0s 94ms/step - loss: 0.0000e+00 - accuracy: 1.0000 - val_loss: 9.1394e-05 - val_accuracy: 1.0000\n",
      "Epoch 888/1000\n",
      "4/4 [==============================] - 0s 93ms/step - loss: 0.0000e+00 - accuracy: 1.0000 - val_loss: 9.1353e-05 - val_accuracy: 1.0000\n",
      "Epoch 889/1000\n",
      "4/4 [==============================] - 0s 98ms/step - loss: 0.0000e+00 - accuracy: 1.0000 - val_loss: 9.1305e-05 - val_accuracy: 1.0000\n",
      "Epoch 890/1000\n",
      "4/4 [==============================] - 0s 94ms/step - loss: 0.0000e+00 - accuracy: 1.0000 - val_loss: 9.1257e-05 - val_accuracy: 1.0000\n",
      "Epoch 891/1000\n",
      "4/4 [==============================] - 0s 90ms/step - loss: 0.0000e+00 - accuracy: 1.0000 - val_loss: 9.1210e-05 - val_accuracy: 1.0000\n",
      "Epoch 892/1000\n",
      "4/4 [==============================] - 0s 89ms/step - loss: 0.0000e+00 - accuracy: 1.0000 - val_loss: 9.1168e-05 - val_accuracy: 1.0000\n",
      "Epoch 893/1000\n",
      "4/4 [==============================] - 0s 96ms/step - loss: 0.0000e+00 - accuracy: 1.0000 - val_loss: 9.1121e-05 - val_accuracy: 1.0000\n",
      "Epoch 894/1000\n",
      "4/4 [==============================] - 0s 86ms/step - loss: 0.0000e+00 - accuracy: 1.0000 - val_loss: 9.1085e-05 - val_accuracy: 1.0000\n",
      "Epoch 895/1000\n",
      "4/4 [==============================] - 0s 95ms/step - loss: 0.0000e+00 - accuracy: 1.0000 - val_loss: 9.1043e-05 - val_accuracy: 1.0000\n",
      "Epoch 896/1000\n",
      "4/4 [==============================] - 0s 91ms/step - loss: 0.0000e+00 - accuracy: 1.0000 - val_loss: 9.1008e-05 - val_accuracy: 1.0000\n",
      "Epoch 897/1000\n",
      "4/4 [==============================] - 0s 91ms/step - loss: 0.0000e+00 - accuracy: 1.0000 - val_loss: 9.0948e-05 - val_accuracy: 1.0000\n",
      "Epoch 898/1000\n",
      "4/4 [==============================] - 0s 97ms/step - loss: 0.0000e+00 - accuracy: 1.0000 - val_loss: 9.0894e-05 - val_accuracy: 1.0000\n",
      "Epoch 899/1000\n",
      "4/4 [==============================] - 0s 93ms/step - loss: 0.0000e+00 - accuracy: 1.0000 - val_loss: 9.0847e-05 - val_accuracy: 1.0000\n",
      "Epoch 900/1000\n",
      "4/4 [==============================] - 0s 92ms/step - loss: 0.0000e+00 - accuracy: 1.0000 - val_loss: 9.0805e-05 - val_accuracy: 1.0000\n",
      "Epoch 901/1000\n",
      "4/4 [==============================] - 0s 95ms/step - loss: 0.0000e+00 - accuracy: 1.0000 - val_loss: 9.0764e-05 - val_accuracy: 1.0000\n",
      "Epoch 902/1000\n",
      "4/4 [==============================] - 0s 97ms/step - loss: 0.0000e+00 - accuracy: 1.0000 - val_loss: 9.0698e-05 - val_accuracy: 1.0000\n",
      "Epoch 903/1000\n",
      "4/4 [==============================] - 0s 103ms/step - loss: 0.0000e+00 - accuracy: 1.0000 - val_loss: 9.0651e-05 - val_accuracy: 1.0000\n",
      "Epoch 904/1000\n",
      "4/4 [==============================] - 0s 92ms/step - loss: 0.0000e+00 - accuracy: 1.0000 - val_loss: 9.0597e-05 - val_accuracy: 1.0000\n",
      "Epoch 905/1000\n",
      "4/4 [==============================] - 0s 95ms/step - loss: 0.0000e+00 - accuracy: 1.0000 - val_loss: 9.0549e-05 - val_accuracy: 1.0000\n",
      "Epoch 906/1000\n",
      "4/4 [==============================] - 0s 89ms/step - loss: 0.0000e+00 - accuracy: 1.0000 - val_loss: 9.0514e-05 - val_accuracy: 1.0000\n",
      "Epoch 907/1000\n",
      "4/4 [==============================] - 0s 97ms/step - loss: 0.0000e+00 - accuracy: 1.0000 - val_loss: 9.0472e-05 - val_accuracy: 1.0000\n",
      "Epoch 908/1000\n",
      "4/4 [==============================] - 0s 92ms/step - loss: 0.0000e+00 - accuracy: 1.0000 - val_loss: 9.0436e-05 - val_accuracy: 1.0000\n",
      "Epoch 909/1000\n",
      "4/4 [==============================] - 0s 91ms/step - loss: 0.0000e+00 - accuracy: 1.0000 - val_loss: 9.0389e-05 - val_accuracy: 1.0000\n",
      "Epoch 910/1000\n",
      "4/4 [==============================] - 0s 99ms/step - loss: 0.0000e+00 - accuracy: 1.0000 - val_loss: 9.0347e-05 - val_accuracy: 1.0000\n",
      "Epoch 911/1000\n",
      "4/4 [==============================] - 0s 92ms/step - loss: 0.0000e+00 - accuracy: 1.0000 - val_loss: 9.0311e-05 - val_accuracy: 1.0000\n",
      "Epoch 912/1000\n",
      "4/4 [==============================] - 0s 94ms/step - loss: 0.0000e+00 - accuracy: 1.0000 - val_loss: 9.0276e-05 - val_accuracy: 1.0000\n",
      "Epoch 913/1000\n",
      "4/4 [==============================] - 0s 100ms/step - loss: 0.0000e+00 - accuracy: 1.0000 - val_loss: 9.0234e-05 - val_accuracy: 1.0000\n",
      "Epoch 914/1000\n",
      "4/4 [==============================] - 0s 91ms/step - loss: 0.0000e+00 - accuracy: 1.0000 - val_loss: 9.0192e-05 - val_accuracy: 1.0000\n",
      "Epoch 915/1000\n",
      "4/4 [==============================] - 0s 91ms/step - loss: 0.0000e+00 - accuracy: 1.0000 - val_loss: 9.0151e-05 - val_accuracy: 1.0000\n",
      "Epoch 916/1000\n",
      "4/4 [==============================] - 0s 96ms/step - loss: 0.0000e+00 - accuracy: 1.0000 - val_loss: 9.0115e-05 - val_accuracy: 1.0000\n",
      "Epoch 917/1000\n",
      "4/4 [==============================] - 0s 90ms/step - loss: 0.0000e+00 - accuracy: 1.0000 - val_loss: 9.0079e-05 - val_accuracy: 1.0000\n",
      "Epoch 918/1000\n",
      "4/4 [==============================] - 0s 95ms/step - loss: 0.0000e+00 - accuracy: 1.0000 - val_loss: 9.0038e-05 - val_accuracy: 1.0000\n",
      "Epoch 919/1000\n",
      "4/4 [==============================] - 0s 95ms/step - loss: 0.0000e+00 - accuracy: 1.0000 - val_loss: 9.0002e-05 - val_accuracy: 1.0000\n",
      "Epoch 920/1000\n",
      "4/4 [==============================] - 0s 91ms/step - loss: 0.0000e+00 - accuracy: 1.0000 - val_loss: 8.9948e-05 - val_accuracy: 1.0000\n",
      "Epoch 921/1000\n",
      "4/4 [==============================] - 0s 87ms/step - loss: 0.0000e+00 - accuracy: 1.0000 - val_loss: 8.9895e-05 - val_accuracy: 1.0000\n",
      "Epoch 922/1000\n"
     ]
    },
    {
     "name": "stdout",
     "output_type": "stream",
     "text": [
      "4/4 [==============================] - 0s 92ms/step - loss: 0.0000e+00 - accuracy: 1.0000 - val_loss: 8.9853e-05 - val_accuracy: 1.0000\n",
      "Epoch 923/1000\n",
      "4/4 [==============================] - 0s 93ms/step - loss: 0.0000e+00 - accuracy: 1.0000 - val_loss: 8.9812e-05 - val_accuracy: 1.0000\n",
      "Epoch 924/1000\n",
      "4/4 [==============================] - 0s 94ms/step - loss: 0.0000e+00 - accuracy: 1.0000 - val_loss: 8.9770e-05 - val_accuracy: 1.0000\n",
      "Epoch 925/1000\n",
      "4/4 [==============================] - 0s 92ms/step - loss: 0.0000e+00 - accuracy: 1.0000 - val_loss: 8.9722e-05 - val_accuracy: 1.0000\n",
      "Epoch 926/1000\n",
      "4/4 [==============================] - 0s 98ms/step - loss: 0.0000e+00 - accuracy: 1.0000 - val_loss: 8.9687e-05 - val_accuracy: 1.0000\n",
      "Epoch 927/1000\n",
      "4/4 [==============================] - 0s 97ms/step - loss: 0.0000e+00 - accuracy: 1.0000 - val_loss: 8.9627e-05 - val_accuracy: 1.0000\n",
      "Epoch 928/1000\n",
      "4/4 [==============================] - 0s 92ms/step - loss: 0.0000e+00 - accuracy: 1.0000 - val_loss: 8.9580e-05 - val_accuracy: 1.0000\n",
      "Epoch 929/1000\n",
      "4/4 [==============================] - 0s 94ms/step - loss: 0.0000e+00 - accuracy: 1.0000 - val_loss: 8.9538e-05 - val_accuracy: 1.0000\n",
      "Epoch 930/1000\n",
      "4/4 [==============================] - 0s 87ms/step - loss: 0.0000e+00 - accuracy: 1.0000 - val_loss: 8.9490e-05 - val_accuracy: 1.0000\n",
      "Epoch 931/1000\n",
      "4/4 [==============================] - 0s 90ms/step - loss: 0.0000e+00 - accuracy: 1.0000 - val_loss: 8.9455e-05 - val_accuracy: 1.0000\n",
      "Epoch 932/1000\n",
      "4/4 [==============================] - 0s 92ms/step - loss: 0.0000e+00 - accuracy: 1.0000 - val_loss: 8.9419e-05 - val_accuracy: 1.0000\n",
      "Epoch 933/1000\n",
      "4/4 [==============================] - 0s 95ms/step - loss: 0.0000e+00 - accuracy: 1.0000 - val_loss: 8.9377e-05 - val_accuracy: 1.0000\n",
      "Epoch 934/1000\n",
      "4/4 [==============================] - 0s 92ms/step - loss: 0.0000e+00 - accuracy: 1.0000 - val_loss: 8.9342e-05 - val_accuracy: 1.0000\n",
      "Epoch 935/1000\n",
      "4/4 [==============================] - 0s 100ms/step - loss: 0.0000e+00 - accuracy: 1.0000 - val_loss: 8.9276e-05 - val_accuracy: 1.0000\n",
      "Epoch 936/1000\n",
      "4/4 [==============================] - 0s 97ms/step - loss: 0.0000e+00 - accuracy: 1.0000 - val_loss: 8.9211e-05 - val_accuracy: 1.0000\n",
      "Epoch 937/1000\n",
      "4/4 [==============================] - 0s 101ms/step - loss: 0.0000e+00 - accuracy: 1.0000 - val_loss: 8.9151e-05 - val_accuracy: 1.0000\n",
      "Epoch 938/1000\n",
      "4/4 [==============================] - 0s 94ms/step - loss: 0.0000e+00 - accuracy: 1.0000 - val_loss: 8.9104e-05 - val_accuracy: 1.0000\n",
      "Epoch 939/1000\n",
      "4/4 [==============================] - 0s 92ms/step - loss: 0.0000e+00 - accuracy: 1.0000 - val_loss: 8.9062e-05 - val_accuracy: 1.0000\n",
      "Epoch 940/1000\n",
      "4/4 [==============================] - 0s 91ms/step - loss: 0.0000e+00 - accuracy: 1.0000 - val_loss: 8.9020e-05 - val_accuracy: 1.0000\n",
      "Epoch 941/1000\n",
      "4/4 [==============================] - 0s 94ms/step - loss: 0.0000e+00 - accuracy: 1.0000 - val_loss: 8.8979e-05 - val_accuracy: 1.0000\n",
      "Epoch 942/1000\n",
      "4/4 [==============================] - 0s 97ms/step - loss: 0.0000e+00 - accuracy: 1.0000 - val_loss: 8.8937e-05 - val_accuracy: 1.0000\n",
      "Epoch 943/1000\n",
      "4/4 [==============================] - 0s 93ms/step - loss: 0.0000e+00 - accuracy: 1.0000 - val_loss: 8.8895e-05 - val_accuracy: 1.0000\n",
      "Epoch 944/1000\n",
      "4/4 [==============================] - 0s 94ms/step - loss: 0.0000e+00 - accuracy: 1.0000 - val_loss: 8.8860e-05 - val_accuracy: 1.0000\n",
      "Epoch 945/1000\n",
      "4/4 [==============================] - 0s 97ms/step - loss: 0.0000e+00 - accuracy: 1.0000 - val_loss: 8.8824e-05 - val_accuracy: 1.0000\n",
      "Epoch 946/1000\n",
      "4/4 [==============================] - 0s 100ms/step - loss: 0.0000e+00 - accuracy: 1.0000 - val_loss: 8.8782e-05 - val_accuracy: 1.0000\n",
      "Epoch 947/1000\n",
      "4/4 [==============================] - 0s 98ms/step - loss: 0.0000e+00 - accuracy: 1.0000 - val_loss: 8.8746e-05 - val_accuracy: 1.0000\n",
      "Epoch 948/1000\n",
      "4/4 [==============================] - 0s 98ms/step - loss: 0.0000e+00 - accuracy: 1.0000 - val_loss: 8.8711e-05 - val_accuracy: 1.0000\n",
      "Epoch 949/1000\n",
      "4/4 [==============================] - 0s 109ms/step - loss: 0.0000e+00 - accuracy: 1.0000 - val_loss: 8.8675e-05 - val_accuracy: 1.0000\n",
      "Epoch 950/1000\n",
      "4/4 [==============================] - 0s 90ms/step - loss: 0.0000e+00 - accuracy: 1.0000 - val_loss: 8.8639e-05 - val_accuracy: 1.0000\n",
      "Epoch 951/1000\n",
      "4/4 [==============================] - 0s 89ms/step - loss: 0.0000e+00 - accuracy: 1.0000 - val_loss: 8.8604e-05 - val_accuracy: 1.0000\n",
      "Epoch 952/1000\n",
      "4/4 [==============================] - 0s 99ms/step - loss: 0.0000e+00 - accuracy: 1.0000 - val_loss: 8.8574e-05 - val_accuracy: 1.0000\n",
      "Epoch 953/1000\n",
      "4/4 [==============================] - 0s 91ms/step - loss: 0.0000e+00 - accuracy: 1.0000 - val_loss: 8.8538e-05 - val_accuracy: 1.0000\n",
      "Epoch 954/1000\n",
      "4/4 [==============================] - 0s 92ms/step - loss: 0.0000e+00 - accuracy: 1.0000 - val_loss: 8.8503e-05 - val_accuracy: 1.0000\n",
      "Epoch 955/1000\n",
      "4/4 [==============================] - 0s 107ms/step - loss: 0.0000e+00 - accuracy: 1.0000 - val_loss: 8.8455e-05 - val_accuracy: 1.0000\n",
      "Epoch 956/1000\n",
      "4/4 [==============================] - 0s 92ms/step - loss: 0.0000e+00 - accuracy: 1.0000 - val_loss: 8.8425e-05 - val_accuracy: 1.0000\n",
      "Epoch 957/1000\n",
      "4/4 [==============================] - 0s 97ms/step - loss: 0.0000e+00 - accuracy: 1.0000 - val_loss: 8.8366e-05 - val_accuracy: 1.0000\n",
      "Epoch 958/1000\n",
      "4/4 [==============================] - 0s 95ms/step - loss: 0.0000e+00 - accuracy: 1.0000 - val_loss: 8.8306e-05 - val_accuracy: 1.0000\n",
      "Epoch 959/1000\n",
      "4/4 [==============================] - 0s 97ms/step - loss: 0.0000e+00 - accuracy: 1.0000 - val_loss: 8.8264e-05 - val_accuracy: 1.0000\n",
      "Epoch 960/1000\n",
      "4/4 [==============================] - 0s 98ms/step - loss: 0.0000e+00 - accuracy: 1.0000 - val_loss: 8.8223e-05 - val_accuracy: 1.0000\n",
      "Epoch 961/1000\n",
      "4/4 [==============================] - 0s 95ms/step - loss: 0.0000e+00 - accuracy: 1.0000 - val_loss: 8.8187e-05 - val_accuracy: 1.0000\n",
      "Epoch 962/1000\n",
      "4/4 [==============================] - 0s 92ms/step - loss: 0.0000e+00 - accuracy: 1.0000 - val_loss: 8.8151e-05 - val_accuracy: 1.0000\n",
      "Epoch 963/1000\n",
      "4/4 [==============================] - 0s 95ms/step - loss: 0.0000e+00 - accuracy: 1.0000 - val_loss: 8.8122e-05 - val_accuracy: 1.0000\n",
      "Epoch 964/1000\n",
      "4/4 [==============================] - 0s 94ms/step - loss: 0.0000e+00 - accuracy: 1.0000 - val_loss: 8.8086e-05 - val_accuracy: 1.0000\n",
      "Epoch 965/1000\n",
      "4/4 [==============================] - 0s 92ms/step - loss: 0.0000e+00 - accuracy: 1.0000 - val_loss: 8.8050e-05 - val_accuracy: 1.0000\n",
      "Epoch 966/1000\n",
      "4/4 [==============================] - 0s 91ms/step - loss: 0.0000e+00 - accuracy: 1.0000 - val_loss: 8.7997e-05 - val_accuracy: 1.0000\n",
      "Epoch 967/1000\n",
      "4/4 [==============================] - 0s 89ms/step - loss: 0.0000e+00 - accuracy: 1.0000 - val_loss: 8.7949e-05 - val_accuracy: 1.0000\n",
      "Epoch 968/1000\n",
      "4/4 [==============================] - 0s 92ms/step - loss: 0.0000e+00 - accuracy: 1.0000 - val_loss: 8.7907e-05 - val_accuracy: 1.0000\n",
      "Epoch 969/1000\n",
      "4/4 [==============================] - 0s 89ms/step - loss: 0.0000e+00 - accuracy: 1.0000 - val_loss: 8.7866e-05 - val_accuracy: 1.0000\n",
      "Epoch 970/1000\n",
      "4/4 [==============================] - 0s 98ms/step - loss: 0.0000e+00 - accuracy: 1.0000 - val_loss: 8.7824e-05 - val_accuracy: 1.0000\n",
      "Epoch 971/1000\n",
      "4/4 [==============================] - 0s 91ms/step - loss: 0.0000e+00 - accuracy: 1.0000 - val_loss: 8.7783e-05 - val_accuracy: 1.0000\n",
      "Epoch 972/1000\n",
      "4/4 [==============================] - 0s 98ms/step - loss: 0.0000e+00 - accuracy: 1.0000 - val_loss: 8.7747e-05 - val_accuracy: 1.0000\n",
      "Epoch 973/1000\n",
      "4/4 [==============================] - 0s 94ms/step - loss: 0.0000e+00 - accuracy: 1.0000 - val_loss: 8.7711e-05 - val_accuracy: 1.0000\n",
      "Epoch 974/1000\n",
      "4/4 [==============================] - 0s 86ms/step - loss: 0.0000e+00 - accuracy: 1.0000 - val_loss: 8.7664e-05 - val_accuracy: 1.0000\n",
      "Epoch 975/1000\n",
      "4/4 [==============================] - 0s 95ms/step - loss: 0.0000e+00 - accuracy: 1.0000 - val_loss: 8.7622e-05 - val_accuracy: 1.0000\n",
      "Epoch 976/1000\n"
     ]
    },
    {
     "name": "stdout",
     "output_type": "stream",
     "text": [
      "4/4 [==============================] - 0s 89ms/step - loss: 0.0000e+00 - accuracy: 1.0000 - val_loss: 8.7574e-05 - val_accuracy: 1.0000\n",
      "Epoch 977/1000\n",
      "4/4 [==============================] - 0s 92ms/step - loss: 0.0000e+00 - accuracy: 1.0000 - val_loss: 8.7533e-05 - val_accuracy: 1.0000\n",
      "Epoch 978/1000\n",
      "4/4 [==============================] - 0s 94ms/step - loss: 0.0000e+00 - accuracy: 1.0000 - val_loss: 8.7497e-05 - val_accuracy: 1.0000\n",
      "Epoch 979/1000\n",
      "4/4 [==============================] - 0s 96ms/step - loss: 0.0000e+00 - accuracy: 1.0000 - val_loss: 8.7461e-05 - val_accuracy: 1.0000\n",
      "Epoch 980/1000\n",
      "4/4 [==============================] - 0s 92ms/step - loss: 0.0000e+00 - accuracy: 1.0000 - val_loss: 8.7425e-05 - val_accuracy: 1.0000\n",
      "Epoch 981/1000\n",
      "4/4 [==============================] - 0s 114ms/step - loss: 0.0000e+00 - accuracy: 1.0000 - val_loss: 8.7384e-05 - val_accuracy: 1.0000\n",
      "Epoch 982/1000\n",
      "4/4 [==============================] - 0s 95ms/step - loss: 0.0000e+00 - accuracy: 1.0000 - val_loss: 8.7342e-05 - val_accuracy: 1.0000\n",
      "Epoch 983/1000\n",
      "4/4 [==============================] - 0s 97ms/step - loss: 0.0000e+00 - accuracy: 1.0000 - val_loss: 8.7312e-05 - val_accuracy: 1.0000\n",
      "Epoch 984/1000\n",
      "4/4 [==============================] - 0s 97ms/step - loss: 0.0000e+00 - accuracy: 1.0000 - val_loss: 8.7277e-05 - val_accuracy: 1.0000\n",
      "Epoch 985/1000\n",
      "4/4 [==============================] - 0s 86ms/step - loss: 0.0000e+00 - accuracy: 1.0000 - val_loss: 8.7247e-05 - val_accuracy: 1.0000\n",
      "Epoch 986/1000\n",
      "4/4 [==============================] - 0s 96ms/step - loss: 0.0000e+00 - accuracy: 1.0000 - val_loss: 8.7217e-05 - val_accuracy: 1.0000\n",
      "Epoch 987/1000\n",
      "4/4 [==============================] - 0s 94ms/step - loss: 0.0000e+00 - accuracy: 1.0000 - val_loss: 8.7164e-05 - val_accuracy: 1.0000\n",
      "Epoch 988/1000\n",
      "4/4 [==============================] - 0s 95ms/step - loss: 0.0000e+00 - accuracy: 1.0000 - val_loss: 8.7116e-05 - val_accuracy: 1.0000\n",
      "Epoch 989/1000\n",
      "4/4 [==============================] - 0s 94ms/step - loss: 0.0000e+00 - accuracy: 1.0000 - val_loss: 8.7074e-05 - val_accuracy: 1.0000\n",
      "Epoch 990/1000\n",
      "4/4 [==============================] - 0s 93ms/step - loss: 0.0000e+00 - accuracy: 1.0000 - val_loss: 8.7039e-05 - val_accuracy: 1.0000\n",
      "Epoch 991/1000\n",
      "4/4 [==============================] - 0s 87ms/step - loss: 0.0000e+00 - accuracy: 1.0000 - val_loss: 8.7003e-05 - val_accuracy: 1.0000\n",
      "Epoch 992/1000\n",
      "4/4 [==============================] - 0s 97ms/step - loss: 0.0000e+00 - accuracy: 1.0000 - val_loss: 8.6967e-05 - val_accuracy: 1.0000\n",
      "Epoch 993/1000\n",
      "4/4 [==============================] - 0s 96ms/step - loss: 0.0000e+00 - accuracy: 1.0000 - val_loss: 8.6932e-05 - val_accuracy: 1.0000\n",
      "Epoch 994/1000\n",
      "4/4 [==============================] - 0s 93ms/step - loss: 0.0000e+00 - accuracy: 1.0000 - val_loss: 8.6890e-05 - val_accuracy: 1.0000\n",
      "Epoch 995/1000\n",
      "4/4 [==============================] - 0s 95ms/step - loss: 0.0000e+00 - accuracy: 1.0000 - val_loss: 8.6854e-05 - val_accuracy: 1.0000\n",
      "Epoch 996/1000\n",
      "4/4 [==============================] - 0s 93ms/step - loss: 0.0000e+00 - accuracy: 1.0000 - val_loss: 8.6824e-05 - val_accuracy: 1.0000\n",
      "Epoch 997/1000\n",
      "4/4 [==============================] - 0s 95ms/step - loss: 0.0000e+00 - accuracy: 1.0000 - val_loss: 8.6789e-05 - val_accuracy: 1.0000\n",
      "Epoch 998/1000\n",
      "4/4 [==============================] - 0s 89ms/step - loss: 0.0000e+00 - accuracy: 1.0000 - val_loss: 8.6759e-05 - val_accuracy: 1.0000\n",
      "Epoch 999/1000\n",
      "4/4 [==============================] - 0s 93ms/step - loss: 0.0000e+00 - accuracy: 1.0000 - val_loss: 8.6723e-05 - val_accuracy: 1.0000\n",
      "Epoch 1000/1000\n",
      "4/4 [==============================] - 0s 92ms/step - loss: 0.0000e+00 - accuracy: 1.0000 - val_loss: 8.6670e-05 - val_accuracy: 1.0000\n"
     ]
    },
    {
     "data": {
      "text/plain": [
       "<tensorflow.python.keras.callbacks.History at 0x23a14a28dd8>"
      ]
     },
     "execution_count": 34,
     "metadata": {},
     "output_type": "execute_result"
    }
   ],
   "source": [
    "model.fit(X_train, y_train, epochs=1000, batch_size=32, verbose=1, \n",
    "          validation_data=(X_test, y_test),\n",
    "          callbacks=[tensorboard_callback])"
   ]
  },
  {
   "cell_type": "code",
   "execution_count": 35,
   "metadata": {
    "colab": {},
    "colab_type": "code",
    "id": "oc6qL9tKhM9F"
   },
   "outputs": [
    {
     "name": "stdout",
     "output_type": "stream",
     "text": [
      "Model: \"sequential\"\n",
      "_________________________________________________________________\n",
      "Layer (type)                 Output Shape              Param #   \n",
      "=================================================================\n",
      "conv2d (Conv2D)              (None, 298, 298, 32)      320       \n",
      "_________________________________________________________________\n",
      "max_pooling2d (MaxPooling2D) (None, 149, 149, 32)      0         \n",
      "_________________________________________________________________\n",
      "conv2d_1 (Conv2D)            (None, 147, 147, 64)      18496     \n",
      "_________________________________________________________________\n",
      "max_pooling2d_1 (MaxPooling2 (None, 73, 73, 64)        0         \n",
      "_________________________________________________________________\n",
      "conv2d_2 (Conv2D)            (None, 71, 71, 64)        36928     \n",
      "_________________________________________________________________\n",
      "flatten (Flatten)            (None, 322624)            0         \n",
      "_________________________________________________________________\n",
      "dense (Dense)                (None, 300)               96787500  \n",
      "_________________________________________________________________\n",
      "dense_1 (Dense)              (None, 400)               120400    \n",
      "_________________________________________________________________\n",
      "dense_2 (Dense)              (None, 500)               200500    \n",
      "_________________________________________________________________\n",
      "dense_3 (Dense)              (None, 600)               300600    \n",
      "_________________________________________________________________\n",
      "dense_4 (Dense)              (None, 400)               240400    \n",
      "_________________________________________________________________\n",
      "dense_5 (Dense)              (None, 300)               120300    \n",
      "_________________________________________________________________\n",
      "dense_6 (Dense)              (None, 100)               30100     \n",
      "_________________________________________________________________\n",
      "dense_7 (Dense)              (None, 50)                5050      \n",
      "_________________________________________________________________\n",
      "dense_8 (Dense)              (None, 20)                1020      \n",
      "_________________________________________________________________\n",
      "dense_9 (Dense)              (None, 10)                210       \n",
      "_________________________________________________________________\n",
      "dense_10 (Dense)             (None, 2)                 22        \n",
      "=================================================================\n",
      "Total params: 97,861,846\n",
      "Trainable params: 97,861,846\n",
      "Non-trainable params: 0\n",
      "_________________________________________________________________\n"
     ]
    }
   ],
   "source": [
    "model.summary()"
   ]
  },
  {
   "cell_type": "markdown",
   "metadata": {
    "colab_type": "text",
    "id": "6IOse7UahM9H"
   },
   "source": [
    "### Tensorboard Display"
   ]
  },
  {
   "cell_type": "code",
   "execution_count": 36,
   "metadata": {
    "colab": {},
    "colab_type": "code",
    "id": "V7O2fNf7hM9I"
   },
   "outputs": [
    {
     "data": {
      "text/plain": [
       "Reusing TensorBoard on port 6006 (pid 19276), started 5:38:47 ago. (Use '!kill 19276' to kill it.)"
      ]
     },
     "metadata": {},
     "output_type": "display_data"
    },
    {
     "data": {
      "text/html": [
       "\n",
       "      <iframe id=\"tensorboard-frame-fe2ca9a63053d290\" width=\"100%\" height=\"800\" frameborder=\"0\">\n",
       "      </iframe>\n",
       "      <script>\n",
       "        (function() {\n",
       "          const frame = document.getElementById(\"tensorboard-frame-fe2ca9a63053d290\");\n",
       "          const url = new URL(\"/\", window.location);\n",
       "          const port = 6006;\n",
       "          if (port) {\n",
       "            url.port = port;\n",
       "          }\n",
       "          frame.src = url;\n",
       "        })();\n",
       "      </script>\n",
       "    "
      ],
      "text/plain": [
       "<IPython.core.display.HTML object>"
      ]
     },
     "metadata": {},
     "output_type": "display_data"
    }
   ],
   "source": [
    "%tensorboard --logdir logs/fit"
   ]
  },
  {
   "cell_type": "markdown",
   "metadata": {
    "colab_type": "text",
    "id": "XQJKzdwChM9J"
   },
   "source": [
    "## Performance Measures"
   ]
  },
  {
   "cell_type": "code",
   "execution_count": 37,
   "metadata": {
    "colab": {},
    "colab_type": "code",
    "id": "gIs4_UUvhM9K"
   },
   "outputs": [
    {
     "name": "stdout",
     "output_type": "stream",
     "text": [
      "Test Accuracy: 1.000\n"
     ]
    }
   ],
   "source": [
    "#y_predict = clf.predict(X_test)\n",
    "#y_test = y_test\n",
    "\n",
    "loss, acc = model.evaluate(X_test, y_test, verbose=0)\n",
    "print('Test Accuracy: %.3f' % acc)"
   ]
  },
  {
   "cell_type": "code",
   "execution_count": 38,
   "metadata": {},
   "outputs": [
    {
     "data": {
      "text/plain": [
       "20"
      ]
     },
     "execution_count": 38,
     "metadata": {},
     "output_type": "execute_result"
    }
   ],
   "source": [
    "len(X_test)"
   ]
  },
  {
   "cell_type": "code",
   "execution_count": 39,
   "metadata": {
    "colab": {},
    "colab_type": "code",
    "id": "Jm6MN7H5hM9M",
    "outputId": "888aa2d6-e546-458c-ba2a-b4206f2222f5",
    "scrolled": false
   },
   "outputs": [],
   "source": [
    "y_predict = model.predict(X_test)"
   ]
  },
  {
   "cell_type": "code",
   "execution_count": 40,
   "metadata": {
    "scrolled": false
   },
   "outputs": [
    {
     "data": {
      "text/plain": [
       "array([[1.00000000e+00, 3.25636589e-03],\n",
       "       [1.00000000e+00, 5.28640160e-03],\n",
       "       [1.00000000e+00, 7.35977367e-02],\n",
       "       [9.99951720e-01, 1.73722118e-01],\n",
       "       [1.00000000e+00, 6.39594952e-03],\n",
       "       [1.00000000e+00, 2.24205595e-03],\n",
       "       [1.00000000e+00, 8.59729294e-03],\n",
       "       [1.00000000e+00, 3.06860544e-03],\n",
       "       [1.00000000e+00, 2.69924216e-02],\n",
       "       [1.00000000e+00, 6.21295460e-02],\n",
       "       [7.57982050e-08, 1.00000000e+00],\n",
       "       [2.17916421e-03, 9.99982834e-01],\n",
       "       [6.32666675e-09, 1.00000000e+00],\n",
       "       [7.30803322e-07, 1.00000000e+00],\n",
       "       [1.78292971e-02, 9.99264419e-01],\n",
       "       [1.15515426e-01, 9.87090528e-01],\n",
       "       [1.67566114e-07, 1.00000000e+00],\n",
       "       [2.09929445e-03, 9.99984622e-01],\n",
       "       [1.27304187e-02, 9.99754608e-01],\n",
       "       [3.19423177e-03, 9.99969125e-01]], dtype=float32)"
      ]
     },
     "execution_count": 40,
     "metadata": {},
     "output_type": "execute_result"
    }
   ],
   "source": [
    "y_predict"
   ]
  },
  {
   "cell_type": "code",
   "execution_count": 41,
   "metadata": {},
   "outputs": [
    {
     "data": {
      "text/plain": [
       "array([1.        , 0.00325637], dtype=float32)"
      ]
     },
     "execution_count": 41,
     "metadata": {},
     "output_type": "execute_result"
    }
   ],
   "source": [
    "y_predict[0]"
   ]
  },
  {
   "cell_type": "code",
   "execution_count": 42,
   "metadata": {},
   "outputs": [],
   "source": [
    "# The number 34 means the type number of all chromosome class number inlcuding abnormal ones\n",
    "y_predict_filtered = []\n",
    "y_predict_filtered_prob = []\n",
    "\n",
    "for sample in y_predict:\n",
    "    maximum = 0\n",
    "    indicator = 0\n",
    "    for i in range(2):\n",
    "        if sample[i] > maximum:\n",
    "            maximum = sample[i]\n",
    "            indicator = i\n",
    "    y_predict_filtered.append(indicator)\n",
    "    y_predict_filtered_prob.append(maximum)"
   ]
  },
  {
   "cell_type": "markdown",
   "metadata": {
    "colab_type": "text",
    "id": "wFuk9U3RhM9Q"
   },
   "source": [
    "### Confusion Matrix (混淆矩阵)"
   ]
  },
  {
   "cell_type": "code",
   "execution_count": 43,
   "metadata": {},
   "outputs": [],
   "source": [
    "label = ['chr_09', 'chr_9_inversion']"
   ]
  },
  {
   "cell_type": "code",
   "execution_count": 44,
   "metadata": {
    "colab": {},
    "colab_type": "code",
    "id": "nzASGN6ghM9Q",
    "outputId": "87b406d2-255d-4119-d862-5f6a6f2a8c96",
    "scrolled": false
   },
   "outputs": [
    {
     "data": {
      "text/html": [
       "<div>\n",
       "<style scoped>\n",
       "    .dataframe tbody tr th:only-of-type {\n",
       "        vertical-align: middle;\n",
       "    }\n",
       "\n",
       "    .dataframe tbody tr th {\n",
       "        vertical-align: top;\n",
       "    }\n",
       "\n",
       "    .dataframe thead th {\n",
       "        text-align: right;\n",
       "    }\n",
       "</style>\n",
       "<table border=\"1\" class=\"dataframe\">\n",
       "  <thead>\n",
       "    <tr style=\"text-align: right;\">\n",
       "      <th></th>\n",
       "      <th>chr_09</th>\n",
       "      <th>chr_9_inversion</th>\n",
       "    </tr>\n",
       "  </thead>\n",
       "  <tbody>\n",
       "    <tr>\n",
       "      <th>chr_09</th>\n",
       "      <td>10</td>\n",
       "      <td>0</td>\n",
       "    </tr>\n",
       "    <tr>\n",
       "      <th>chr_9_inversion</th>\n",
       "      <td>0</td>\n",
       "      <td>10</td>\n",
       "    </tr>\n",
       "  </tbody>\n",
       "</table>\n",
       "</div>"
      ],
      "text/plain": [
       "                 chr_09  chr_9_inversion\n",
       "chr_09               10                0\n",
       "chr_9_inversion       0               10"
      ]
     },
     "execution_count": 44,
     "metadata": {},
     "output_type": "execute_result"
    }
   ],
   "source": [
    "cm = np.array(confusion_matrix(y_test, y_predict_filtered, labels=[0, 1]))\n",
    "confusion = pd.DataFrame(cm, index=label,\n",
    "                        columns=label)\n",
    "confusion.to_csv('ConfusionMatrix_KaryoType_CNN.csv')\n",
    "confusion"
   ]
  },
  {
   "cell_type": "code",
   "execution_count": 45,
   "metadata": {
    "colab": {},
    "colab_type": "code",
    "id": "s12C84CQhM9S",
    "outputId": "5e2f474b-13ef-434d-b8e0-7d6e49f7ccb9",
    "scrolled": true
   },
   "outputs": [
    {
     "name": "stdout",
     "output_type": "stream",
     "text": [
      "              precision    recall  f1-score   support\n",
      "\n",
      "           0       1.00      1.00      1.00        10\n",
      "           1       1.00      1.00      1.00        10\n",
      "\n",
      "   micro avg       1.00      1.00      1.00        20\n",
      "   macro avg       1.00      1.00      1.00        20\n",
      "weighted avg       1.00      1.00      1.00        20\n",
      "\n"
     ]
    }
   ],
   "source": [
    "print(classification_report(y_test, y_predict_filtered))"
   ]
  },
  {
   "cell_type": "code",
   "execution_count": 46,
   "metadata": {},
   "outputs": [
    {
     "data": {
      "image/png": "[encoded data removed]",
      "text/plain": [
       "<Figure size 2160x1728 with 2 Axes>"
      ]
     },
     "metadata": {
      "needs_background": "light"
     },
     "output_type": "display_data"
    }
   ],
   "source": [
    "plt.figure(figsize=(30, 24))\n",
    "heat_map = sb.heatmap(confusion, annot=True, \n",
    "                      cmap='coolwarm', \n",
    "                      xticklabels=confusion.columns, yticklabels=confusion.index, \n",
    "                      linewidths=.5, \n",
    "                      annot_kws={\"size\": 40})"
   ]
  },
  {
   "cell_type": "markdown",
   "metadata": {
    "colab_type": "text",
    "id": "B4J3frv1hM9U"
   },
   "source": [
    "## Save the Model"
   ]
  },
  {
   "cell_type": "code",
   "execution_count": 47,
   "metadata": {},
   "outputs": [
    {
     "name": "stdout",
     "output_type": "stream",
     "text": [
      "INFO:tensorflow:Assets written to: saved_model/model_cnn\\assets\n"
     ]
    }
   ],
   "source": [
    "model.save('saved_model/model_cnn')"
   ]
  },
  {
   "cell_type": "markdown",
   "metadata": {
    "colab_type": "text",
    "id": "FEUhOZ7rhM9X"
   },
   "source": [
    "## Load the Model"
   ]
  },
  {
   "cell_type": "code",
   "execution_count": 48,
   "metadata": {},
   "outputs": [],
   "source": [
    "model_reload = keras.models.load_model('saved_model/model_cnn')"
   ]
  },
  {
   "cell_type": "code",
   "execution_count": 49,
   "metadata": {},
   "outputs": [],
   "source": [
    "y_predict = model_reload.predict(X_test)"
   ]
  },
  {
   "cell_type": "code",
   "execution_count": 50,
   "metadata": {
    "scrolled": false
   },
   "outputs": [
    {
     "data": {
      "text/plain": [
       "array([[1.00000000e+00, 3.25636589e-03],\n",
       "       [1.00000000e+00, 5.28640160e-03],\n",
       "       [1.00000000e+00, 7.35977367e-02],\n",
       "       [9.99951720e-01, 1.73722118e-01],\n",
       "       [1.00000000e+00, 6.39594952e-03],\n",
       "       [1.00000000e+00, 2.24205595e-03],\n",
       "       [1.00000000e+00, 8.59729294e-03],\n",
       "       [1.00000000e+00, 3.06860544e-03],\n",
       "       [1.00000000e+00, 2.69924216e-02],\n",
       "       [1.00000000e+00, 6.21295460e-02],\n",
       "       [7.57982050e-08, 1.00000000e+00],\n",
       "       [2.17916421e-03, 9.99982834e-01],\n",
       "       [6.32666675e-09, 1.00000000e+00],\n",
       "       [7.30803322e-07, 1.00000000e+00],\n",
       "       [1.78292971e-02, 9.99264419e-01],\n",
       "       [1.15515426e-01, 9.87090528e-01],\n",
       "       [1.67566114e-07, 1.00000000e+00],\n",
       "       [2.09929445e-03, 9.99984622e-01],\n",
       "       [1.27304187e-02, 9.99754608e-01],\n",
       "       [3.19423177e-03, 9.99969125e-01]], dtype=float32)"
      ]
     },
     "execution_count": 50,
     "metadata": {},
     "output_type": "execute_result"
    }
   ],
   "source": [
    "y_predict"
   ]
  },
  {
   "cell_type": "code",
   "execution_count": 51,
   "metadata": {},
   "outputs": [
    {
     "data": {
      "text/plain": [
       "[<matplotlib.lines.Line2D at 0x23c1a2289e8>,\n",
       " <matplotlib.lines.Line2D at 0x23c1a228e48>]"
      ]
     },
     "execution_count": 51,
     "metadata": {},
     "output_type": "execute_result"
    },
    {
     "data": {
      "image/png": "[encoded data removed]",
      "text/plain": [
       "<Figure size 432x288 with 1 Axes>"
      ]
     },
     "metadata": {
      "needs_background": "light"
     },
     "output_type": "display_data"
    }
   ],
   "source": [
    "plt.plot(y_predict)"
   ]
  },
  {
   "cell_type": "code",
   "execution_count": 52,
   "metadata": {},
   "outputs": [],
   "source": [
    "y_predict_score = np.round_(y_predict[:,1])"
   ]
  },
  {
   "cell_type": "code",
   "execution_count": 53,
   "metadata": {},
   "outputs": [
    {
     "data": {
      "text/plain": [
       "[<matplotlib.lines.Line2D at 0x23c1a2c17b8>]"
      ]
     },
     "execution_count": 53,
     "metadata": {},
     "output_type": "execute_result"
    },
    {
     "data": {
      "image/png": "[encoded data removed]",
      "text/plain": [
       "<Figure size 432x288 with 1 Axes>"
      ]
     },
     "metadata": {
      "needs_background": "light"
     },
     "output_type": "display_data"
    }
   ],
   "source": [
    "plt.plot(y_predict_score)"
   ]
  },
  {
   "cell_type": "code",
   "execution_count": 54,
   "metadata": {},
   "outputs": [
    {
     "data": {
      "text/plain": [
       "array([0, 0, 0, 0, 0, 0, 0, 0, 0, 0, 1, 1, 1, 1, 1, 1, 1, 1, 1, 1])"
      ]
     },
     "execution_count": 54,
     "metadata": {},
     "output_type": "execute_result"
    }
   ],
   "source": [
    "y_test"
   ]
  },
  {
   "cell_type": "code",
   "execution_count": 55,
   "metadata": {},
   "outputs": [
    {
     "data": {
      "text/plain": [
       "array([0., 0., 0., 0., 0., 0., 0., 0., 0., 0., 1., 1., 1., 1., 1., 1., 1.,\n",
       "       1., 1., 1.], dtype=float32)"
      ]
     },
     "execution_count": 55,
     "metadata": {},
     "output_type": "execute_result"
    }
   ],
   "source": [
    "y_predict_score"
   ]
  },
  {
   "cell_type": "markdown",
   "metadata": {},
   "source": [
    "## ROC"
   ]
  },
  {
   "cell_type": "code",
   "execution_count": 56,
   "metadata": {},
   "outputs": [
    {
     "data": {
      "text/plain": [
       "array([[1.00000000e+00, 3.25636589e-03],\n",
       "       [1.00000000e+00, 5.28640160e-03],\n",
       "       [1.00000000e+00, 7.35977367e-02],\n",
       "       [9.99951720e-01, 1.73722118e-01],\n",
       "       [1.00000000e+00, 6.39594952e-03],\n",
       "       [1.00000000e+00, 2.24205595e-03],\n",
       "       [1.00000000e+00, 8.59729294e-03],\n",
       "       [1.00000000e+00, 3.06860544e-03],\n",
       "       [1.00000000e+00, 2.69924216e-02],\n",
       "       [1.00000000e+00, 6.21295460e-02],\n",
       "       [7.57982050e-08, 1.00000000e+00],\n",
       "       [2.17916421e-03, 9.99982834e-01],\n",
       "       [6.32666675e-09, 1.00000000e+00],\n",
       "       [7.30803322e-07, 1.00000000e+00],\n",
       "       [1.78292971e-02, 9.99264419e-01],\n",
       "       [1.15515426e-01, 9.87090528e-01],\n",
       "       [1.67566114e-07, 1.00000000e+00],\n",
       "       [2.09929445e-03, 9.99984622e-01],\n",
       "       [1.27304187e-02, 9.99754608e-01],\n",
       "       [3.19423177e-03, 9.99969125e-01]], dtype=float32)"
      ]
     },
     "execution_count": 56,
     "metadata": {},
     "output_type": "execute_result"
    }
   ],
   "source": [
    "y_predict"
   ]
  },
  {
   "cell_type": "code",
   "execution_count": 57,
   "metadata": {},
   "outputs": [
    {
     "data": {
      "text/plain": [
       "array([0., 0., 0., 0., 0., 0., 0., 0., 0., 0., 1., 1., 1., 1., 1., 1., 1.,\n",
       "       1., 1., 1.], dtype=float32)"
      ]
     },
     "execution_count": 57,
     "metadata": {},
     "output_type": "execute_result"
    }
   ],
   "source": [
    "np.round_(y_predict_score)"
   ]
  },
  {
   "cell_type": "code",
   "execution_count": 71,
   "metadata": {},
   "outputs": [],
   "source": [
    "fpr , tpr , thresholds = roc_curve(y_test , y_predict[:,1])\n",
    "auc_rf = auc(fpr, tpr)"
   ]
  },
  {
   "cell_type": "code",
   "execution_count": 72,
   "metadata": {},
   "outputs": [
    {
     "data": {
      "text/plain": [
       "array([0., 0., 0., 1.])"
      ]
     },
     "execution_count": 72,
     "metadata": {},
     "output_type": "execute_result"
    }
   ],
   "source": [
    "fpr"
   ]
  },
  {
   "cell_type": "code",
   "execution_count": 73,
   "metadata": {},
   "outputs": [
    {
     "data": {
      "text/plain": [
       "array([0. , 0.4, 1. , 1. ])"
      ]
     },
     "execution_count": 73,
     "metadata": {},
     "output_type": "execute_result"
    }
   ],
   "source": [
    "tpr"
   ]
  },
  {
   "cell_type": "code",
   "execution_count": 74,
   "metadata": {},
   "outputs": [
    {
     "data": {
      "image/png": "[encoded data removed]",
      "text/plain": [
       "<Figure size 432x288 with 1 Axes>"
      ]
     },
     "metadata": {
      "needs_background": "light"
     },
     "output_type": "display_data"
    }
   ],
   "source": [
    "plt.plot(fpr, tpr)\n",
    "plt.title('ROC curve')\n",
    "plt.xlabel('false positive rate')\n",
    "plt.ylabel('true positive rate')\n",
    "plt.xlim(0,)\n",
    "plt.ylim(0,)\n",
    "plt.show()"
   ]
  },
  {
   "cell_type": "code",
   "execution_count": 75,
   "metadata": {
    "scrolled": true
   },
   "outputs": [
    {
     "data": {
      "image/png": "[encoded data removed]",
      "text/plain": [
       "<Figure size 432x288 with 1 Axes>"
      ]
     },
     "metadata": {
      "needs_background": "light"
     },
     "output_type": "display_data"
    }
   ],
   "source": [
    "def plot_roc_curve(fpr,tpr): \n",
    "    plt.plot(tpr, fpr) \n",
    "    plt.axis([0,1.5,0,1.5]) \n",
    "    plt.xlabel('False Positive Rate') \n",
    "    plt.ylabel('True Positive Rate') \n",
    "    plt.show()    \n",
    "\n",
    "plot_roc_curve (fpr,tpr) "
   ]
  },
  {
   "cell_type": "code",
   "execution_count": 76,
   "metadata": {},
   "outputs": [
    {
     "ename": "ValueError",
     "evalue": "bad input shape (20, 2)",
     "output_type": "error",
     "traceback": [
      "\u001b[1;31m---------------------------------------------------------------------------\u001b[0m",
      "\u001b[1;31mValueError\u001b[0m                                Traceback (most recent call last)",
      "\u001b[1;32m<ipython-input-76-58e5af0c6f5b>\u001b[0m in \u001b[0;36m<module>\u001b[1;34m\u001b[0m\n\u001b[1;32m----> 1\u001b[1;33m \u001b[0mfpr_keras\u001b[0m\u001b[1;33m,\u001b[0m \u001b[0mtpr_keras\u001b[0m\u001b[1;33m,\u001b[0m \u001b[0mthresholds_keras\u001b[0m \u001b[1;33m=\u001b[0m \u001b[0mroc_curve\u001b[0m\u001b[1;33m(\u001b[0m\u001b[0my_test\u001b[0m\u001b[1;33m,\u001b[0m \u001b[0my_predict\u001b[0m\u001b[1;33m)\u001b[0m\u001b[1;33m\u001b[0m\u001b[1;33m\u001b[0m\u001b[0m\n\u001b[0m",
      "\u001b[1;32mC:\\Anaconda3\\lib\\site-packages\\sklearn\\metrics\\ranking.py\u001b[0m in \u001b[0;36mroc_curve\u001b[1;34m(y_true, y_score, pos_label, sample_weight, drop_intermediate)\u001b[0m\n\u001b[0;32m    616\u001b[0m     \"\"\"\n\u001b[0;32m    617\u001b[0m     fps, tps, thresholds = _binary_clf_curve(\n\u001b[1;32m--> 618\u001b[1;33m         y_true, y_score, pos_label=pos_label, sample_weight=sample_weight)\n\u001b[0m\u001b[0;32m    619\u001b[0m \u001b[1;33m\u001b[0m\u001b[0m\n\u001b[0;32m    620\u001b[0m     \u001b[1;31m# Attempt to drop thresholds corresponding to points in between and\u001b[0m\u001b[1;33m\u001b[0m\u001b[1;33m\u001b[0m\u001b[1;33m\u001b[0m\u001b[0m\n",
      "\u001b[1;32mC:\\Anaconda3\\lib\\site-packages\\sklearn\\metrics\\ranking.py\u001b[0m in \u001b[0;36m_binary_clf_curve\u001b[1;34m(y_true, y_score, pos_label, sample_weight)\u001b[0m\n\u001b[0;32m    399\u001b[0m     \u001b[0mcheck_consistent_length\u001b[0m\u001b[1;33m(\u001b[0m\u001b[0my_true\u001b[0m\u001b[1;33m,\u001b[0m \u001b[0my_score\u001b[0m\u001b[1;33m,\u001b[0m \u001b[0msample_weight\u001b[0m\u001b[1;33m)\u001b[0m\u001b[1;33m\u001b[0m\u001b[1;33m\u001b[0m\u001b[0m\n\u001b[0;32m    400\u001b[0m     \u001b[0my_true\u001b[0m \u001b[1;33m=\u001b[0m \u001b[0mcolumn_or_1d\u001b[0m\u001b[1;33m(\u001b[0m\u001b[0my_true\u001b[0m\u001b[1;33m)\u001b[0m\u001b[1;33m\u001b[0m\u001b[1;33m\u001b[0m\u001b[0m\n\u001b[1;32m--> 401\u001b[1;33m     \u001b[0my_score\u001b[0m \u001b[1;33m=\u001b[0m \u001b[0mcolumn_or_1d\u001b[0m\u001b[1;33m(\u001b[0m\u001b[0my_score\u001b[0m\u001b[1;33m)\u001b[0m\u001b[1;33m\u001b[0m\u001b[1;33m\u001b[0m\u001b[0m\n\u001b[0m\u001b[0;32m    402\u001b[0m     \u001b[0massert_all_finite\u001b[0m\u001b[1;33m(\u001b[0m\u001b[0my_true\u001b[0m\u001b[1;33m)\u001b[0m\u001b[1;33m\u001b[0m\u001b[1;33m\u001b[0m\u001b[0m\n\u001b[0;32m    403\u001b[0m     \u001b[0massert_all_finite\u001b[0m\u001b[1;33m(\u001b[0m\u001b[0my_score\u001b[0m\u001b[1;33m)\u001b[0m\u001b[1;33m\u001b[0m\u001b[1;33m\u001b[0m\u001b[0m\n",
      "\u001b[1;32mC:\\Anaconda3\\lib\\site-packages\\sklearn\\utils\\validation.py\u001b[0m in \u001b[0;36mcolumn_or_1d\u001b[1;34m(y, warn)\u001b[0m\n\u001b[0;32m    795\u001b[0m         \u001b[1;32mreturn\u001b[0m \u001b[0mnp\u001b[0m\u001b[1;33m.\u001b[0m\u001b[0mravel\u001b[0m\u001b[1;33m(\u001b[0m\u001b[0my\u001b[0m\u001b[1;33m)\u001b[0m\u001b[1;33m\u001b[0m\u001b[1;33m\u001b[0m\u001b[0m\n\u001b[0;32m    796\u001b[0m \u001b[1;33m\u001b[0m\u001b[0m\n\u001b[1;32m--> 797\u001b[1;33m     \u001b[1;32mraise\u001b[0m \u001b[0mValueError\u001b[0m\u001b[1;33m(\u001b[0m\u001b[1;34m\"bad input shape {0}\"\u001b[0m\u001b[1;33m.\u001b[0m\u001b[0mformat\u001b[0m\u001b[1;33m(\u001b[0m\u001b[0mshape\u001b[0m\u001b[1;33m)\u001b[0m\u001b[1;33m)\u001b[0m\u001b[1;33m\u001b[0m\u001b[1;33m\u001b[0m\u001b[0m\n\u001b[0m\u001b[0;32m    798\u001b[0m \u001b[1;33m\u001b[0m\u001b[0m\n\u001b[0;32m    799\u001b[0m \u001b[1;33m\u001b[0m\u001b[0m\n",
      "\u001b[1;31mValueError\u001b[0m: bad input shape (20, 2)"
     ]
    }
   ],
   "source": [
    "fpr_keras, tpr_keras, thresholds_keras = roc_curve(y_test, y_predict)"
   ]
  },
  {
   "cell_type": "code",
   "execution_count": null,
   "metadata": {},
   "outputs": [],
   "source": [
    "y_predict_selected"
   ]
  },
  {
   "cell_type": "code",
   "execution_count": null,
   "metadata": {},
   "outputs": [],
   "source": [
    "fpr_keras, tpr_keras, thresholds_keras = roc_curve(y_test, y_predict_selected)"
   ]
  },
  {
   "cell_type": "code",
   "execution_count": null,
   "metadata": {},
   "outputs": [],
   "source": [
    "metrics.plot_roc_curve(model, X_test, y_test)"
   ]
  },
  {
   "cell_type": "code",
   "execution_count": null,
   "metadata": {},
   "outputs": [],
   "source": [
    "y = np.array([1, 1, 2, 2])\n",
    "scores = np.array([0.1, 0.4, 0.35, 0.8])\n",
    "fpr, tpr, thresholds = roc_curve(y, scores, pos_label=2)"
   ]
  },
  {
   "cell_type": "code",
   "execution_count": null,
   "metadata": {},
   "outputs": [],
   "source": [
    "fpr"
   ]
  },
  {
   "cell_type": "code",
   "execution_count": null,
   "metadata": {},
   "outputs": [],
   "source": [
    "tpr"
   ]
  },
  {
   "cell_type": "code",
   "execution_count": null,
   "metadata": {},
   "outputs": [],
   "source": [
    "roc_auc = auc(fpr, tpr)\n",
    "\n",
    "plt.figure()\n",
    "plt.plot(fpr, tpr, color='darkorange', lw=1, label='ROC curve (area = %0.2f)' % roc_auc)"
   ]
  },
  {
   "cell_type": "code",
   "execution_count": null,
   "metadata": {},
   "outputs": [],
   "source": [
    "y = np.array([1, 1, 2, 2])\n",
    "scores = np.array([0.1, 0.4, 0.35, 0.8])\n",
    "fpr, tpr, thresholds = roc_curve(y, scores, pos_label=2)"
   ]
  },
  {
   "cell_type": "code",
   "execution_count": null,
   "metadata": {},
   "outputs": [],
   "source": [
    "fpr"
   ]
  },
  {
   "cell_type": "code",
   "execution_count": null,
   "metadata": {},
   "outputs": [],
   "source": [
    "tpr"
   ]
  },
  {
   "cell_type": "code",
   "execution_count": null,
   "metadata": {},
   "outputs": [],
   "source": [
    "def plot_roc_curve(fpr,tpr): \n",
    "  plt.plot(tpr, fpr) \n",
    "  plt.axis([0,1,0,1]) \n",
    "  plt.xlabel('False Positive Rate') \n",
    "  plt.ylabel('True Positive Rate') \n",
    "  plt.show()    \n",
    "  \n",
    "plot_roc_curve (fpr,tpr) "
   ]
  },
  {
   "cell_type": "code",
   "execution_count": null,
   "metadata": {},
   "outputs": [],
   "source": [
    "y_score"
   ]
  },
  {
   "cell_type": "code",
   "execution_count": null,
   "metadata": {},
   "outputs": [],
   "source": []
  }
 ],
 "metadata": {
  "anaconda-cloud": {},
  "celltoolbar": "Slideshow",
  "colab": {
   "name": "KaryoChimneyRock_FullyConnectedNN.ipynb",
   "provenance": []
  },
  "kernelspec": {
   "display_name": "Python 3",
   "language": "python",
   "name": "python3"
  },
  "language_info": {
   "codemirror_mode": {
    "name": "ipython",
    "version": 3
   },
   "file_extension": ".py",
   "mimetype": "text/x-python",
   "name": "python",
   "nbconvert_exporter": "python",
   "pygments_lexer": "ipython3",
   "version": "3.7.3"
  }
 },
 "nbformat": 4,
 "nbformat_minor": 1
}
