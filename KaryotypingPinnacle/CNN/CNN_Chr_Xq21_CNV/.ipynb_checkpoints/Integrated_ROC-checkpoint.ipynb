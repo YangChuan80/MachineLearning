{
 "cells": [
  {
   "cell_type": "code",
   "execution_count": 1,
   "metadata": {},
   "outputs": [],
   "source": [
    "import numpy as np\n",
    "import pandas as pd\n",
    "import matplotlib.pyplot as plt\n",
    "\n",
    "from sklearn.metrics import classification_report, confusion_matrix, roc_curve, auc, accuracy_score\n",
    "\n",
    "import seaborn as sb"
   ]
  },
  {
   "cell_type": "code",
   "execution_count": 2,
   "metadata": {},
   "outputs": [],
   "source": [
    "chromConvert = {\n",
    "               'chr_x': 0, \n",
    "               'chr_x_q21_cnv': 1\n",
    "               }"
   ]
  },
  {
   "cell_type": "code",
   "execution_count": 3,
   "metadata": {},
   "outputs": [],
   "source": [
    "chromConvert_reverse = {\n",
    "                0: 'chr_x', \n",
    "                1: 'chr_x_q21_cnv'\n",
    "               }"
   ]
  },
  {
   "cell_type": "code",
   "execution_count": 4,
   "metadata": {},
   "outputs": [],
   "source": [
    "label = ['chr_x', 'chr_x_q21_cnv']\n",
    "\n",
    "label_convert = []\n",
    "\n",
    "for i in range(2):\n",
    "    label_convert.append(chromConvert_reverse[i])"
   ]
  },
  {
   "cell_type": "markdown",
   "metadata": {},
   "source": [
    "# Load test and predict values"
   ]
  },
  {
   "cell_type": "code",
   "execution_count": 5,
   "metadata": {},
   "outputs": [],
   "source": [
    "y_test_all = []\n",
    "y_predict_all = []\n",
    "y_predict_filtered_all = []"
   ]
  },
  {
   "cell_type": "code",
   "execution_count": 6,
   "metadata": {},
   "outputs": [],
   "source": [
    "for iterationNumber in range(5):\n",
    "    with open('data_y_test_value_iteration_' + str(iterationNumber) + '.npy', 'rb') as f_y_test:\n",
    "        y_test_all.append(np.load(f_y_test))\n",
    "        \n",
    "    with open('data_y_predict_value_iteration_' + str(iterationNumber) + '.npy', 'rb') as f_y_predict:\n",
    "        y_predict_all.append(np.load(f_y_predict))                             \n",
    "                        \n",
    "    with open('data_y_predict_filtered_value_iteration_' + str(iterationNumber) + '.npy', 'rb') as f_y_predict_filtered:\n",
    "        y_predict_filtered_all.append(np.load(f_y_predict_filtered))"
   ]
  },
  {
   "cell_type": "code",
   "execution_count": 7,
   "metadata": {},
   "outputs": [
    {
     "data": {
      "text/plain": [
       "(48, 2)"
      ]
     },
     "execution_count": 7,
     "metadata": {},
     "output_type": "execute_result"
    }
   ],
   "source": [
    "y_predict_all[0].shape"
   ]
  },
  {
   "cell_type": "code",
   "execution_count": 8,
   "metadata": {
    "scrolled": true
   },
   "outputs": [
    {
     "data": {
      "text/plain": [
       "[array([[1.0000000e+00, 5.2883604e-15],\n",
       "        [1.0000000e+00, 1.6814911e-06],\n",
       "        [1.0000000e+00, 9.5083574e-10],\n",
       "        [1.0000000e+00, 9.7594129e-12],\n",
       "        [1.0000000e+00, 7.1309722e-07],\n",
       "        [1.0000000e+00, 3.3248380e-09],\n",
       "        [9.9999988e-01, 4.3775221e-05],\n",
       "        [1.0000000e+00, 1.2731187e-09],\n",
       "        [1.0000000e+00, 1.3888515e-09],\n",
       "        [1.0000000e+00, 1.8411097e-08],\n",
       "        [1.0000000e+00, 1.8081374e-10],\n",
       "        [1.0000000e+00, 5.5891263e-08],\n",
       "        [1.0000000e+00, 3.5354879e-12],\n",
       "        [1.0000000e+00, 3.4601729e-07],\n",
       "        [1.0000000e+00, 6.7552341e-09],\n",
       "        [1.0000000e+00, 6.0319604e-07],\n",
       "        [1.0000000e+00, 2.4595488e-06],\n",
       "        [1.0000000e+00, 4.1510102e-06],\n",
       "        [1.0000000e+00, 1.1087562e-08],\n",
       "        [9.9999988e-01, 1.1246268e-05],\n",
       "        [1.0000000e+00, 1.0873702e-05],\n",
       "        [1.0000000e+00, 5.6081957e-09],\n",
       "        [1.0000000e+00, 6.5333961e-07],\n",
       "        [1.0000000e+00, 2.3572857e-06],\n",
       "        [1.0000000e+00, 3.5579174e-07],\n",
       "        [1.0000000e+00, 1.5545231e-07],\n",
       "        [1.0000000e+00, 2.1299638e-06],\n",
       "        [1.0000000e+00, 4.5956622e-07],\n",
       "        [1.0000000e+00, 2.2458121e-06],\n",
       "        [1.0000000e+00, 4.2469155e-06],\n",
       "        [9.9999988e-01, 4.1927691e-05],\n",
       "        [9.9998319e-01, 5.9172194e-03],\n",
       "        [9.9999809e-01, 1.5132116e-04],\n",
       "        [1.0000000e+00, 2.3080322e-07],\n",
       "        [1.0000000e+00, 2.8990890e-10],\n",
       "        [1.0000000e+00, 4.4541372e-07],\n",
       "        [9.9999833e-01, 1.9788567e-04],\n",
       "        [9.9999988e-01, 4.1389303e-06],\n",
       "        [6.3954540e-02, 9.9986839e-01],\n",
       "        [4.4586095e-06, 1.0000000e+00],\n",
       "        [1.2497713e-03, 9.9999404e-01],\n",
       "        [1.8896364e-05, 1.0000000e+00],\n",
       "        [1.9895498e-04, 9.9999654e-01],\n",
       "        [2.1943799e-05, 9.9999976e-01],\n",
       "        [5.3450407e-07, 1.0000000e+00],\n",
       "        [2.0728576e-05, 9.9999917e-01],\n",
       "        [9.9988198e-01, 3.5425390e-03],\n",
       "        [1.9165564e-05, 9.9999976e-01]], dtype=float32),\n",
       " array([[1.00000000e+00, 3.10418580e-15],\n",
       "        [1.00000000e+00, 1.05238883e-13],\n",
       "        [1.00000000e+00, 2.85372448e-17],\n",
       "        [1.00000000e+00, 9.06663312e-38],\n",
       "        [1.00000000e+00, 1.09579840e-24],\n",
       "        [1.00000000e+00, 3.15080925e-15],\n",
       "        [1.00000000e+00, 3.47395008e-12],\n",
       "        [1.00000000e+00, 1.03110164e-12],\n",
       "        [1.00000000e+00, 1.50729009e-21],\n",
       "        [1.00000000e+00, 1.16153077e-14],\n",
       "        [1.00000000e+00, 1.37094058e-10],\n",
       "        [9.99984026e-01, 4.13971648e-08],\n",
       "        [1.00000000e+00, 3.08972578e-30],\n",
       "        [1.00000000e+00, 1.98024360e-15],\n",
       "        [1.00000000e+00, 4.43455223e-13],\n",
       "        [1.00000000e+00, 4.25380824e-12],\n",
       "        [1.00000000e+00, 2.70791139e-15],\n",
       "        [1.00000000e+00, 5.42623790e-15],\n",
       "        [1.00000000e+00, 1.17316391e-11],\n",
       "        [1.00000000e+00, 4.17121615e-11],\n",
       "        [1.00000000e+00, 3.60397991e-13],\n",
       "        [1.00000000e+00, 6.24629677e-16],\n",
       "        [1.00000000e+00, 2.20501948e-13],\n",
       "        [1.00000000e+00, 7.98857982e-14],\n",
       "        [1.00000000e+00, 8.26776882e-17],\n",
       "        [1.00000000e+00, 1.24369834e-16],\n",
       "        [1.00000000e+00, 4.90714807e-18],\n",
       "        [1.00000000e+00, 1.05558939e-09],\n",
       "        [1.00000000e+00, 1.13714919e-12],\n",
       "        [1.00000000e+00, 1.12595121e-10],\n",
       "        [1.00000000e+00, 1.20755490e-17],\n",
       "        [1.00000000e+00, 1.19144912e-16],\n",
       "        [1.00000000e+00, 2.55145579e-12],\n",
       "        [1.00000000e+00, 4.54604236e-12],\n",
       "        [9.99991894e-01, 2.68882985e-07],\n",
       "        [1.00000000e+00, 2.92823404e-12],\n",
       "        [9.99999642e-01, 1.13639258e-08],\n",
       "        [1.00000000e+00, 1.15600820e-13],\n",
       "        [4.99601010e-05, 9.99767721e-01],\n",
       "        [2.31678058e-07, 9.99998927e-01],\n",
       "        [1.17402199e-10, 1.00000000e+00],\n",
       "        [6.04111943e-12, 1.00000000e+00],\n",
       "        [2.30162200e-08, 9.99999762e-01],\n",
       "        [1.29522959e-04, 9.99544919e-01],\n",
       "        [3.89936831e-05, 9.99868035e-01],\n",
       "        [4.94864711e-04, 9.98685181e-01],\n",
       "        [5.16878354e-05, 9.99769509e-01],\n",
       "        [4.65686014e-03, 9.86728489e-01]], dtype=float32),\n",
       " array([[9.9952149e-01, 3.4550027e-07],\n",
       "        [9.9999678e-01, 1.5528135e-09],\n",
       "        [1.0000000e+00, 2.2155682e-12],\n",
       "        [9.9999714e-01, 1.9744528e-09],\n",
       "        [9.9998558e-01, 8.1025862e-09],\n",
       "        [1.0000000e+00, 4.0649520e-13],\n",
       "        [9.9999857e-01, 6.1717749e-11],\n",
       "        [1.0000000e+00, 1.7090561e-13],\n",
       "        [9.9995041e-01, 4.4434792e-08],\n",
       "        [9.9999988e-01, 1.3662580e-13],\n",
       "        [2.1875161e-18, 1.0000000e+00],\n",
       "        [9.8890722e-01, 1.4751386e-05],\n",
       "        [9.9995685e-01, 1.8634438e-09],\n",
       "        [9.9999261e-01, 1.8829225e-09],\n",
       "        [9.9998093e-01, 1.7447775e-08],\n",
       "        [9.9998248e-01, 7.4882944e-09],\n",
       "        [9.9997246e-01, 1.0114498e-08],\n",
       "        [9.9997663e-01, 2.1462849e-08],\n",
       "        [9.9998498e-01, 1.3893819e-08],\n",
       "        [9.9999416e-01, 4.5233710e-09],\n",
       "        [9.9988031e-01, 1.1586814e-07],\n",
       "        [9.9998164e-01, 7.7051165e-09],\n",
       "        [9.9993682e-01, 3.7217688e-08],\n",
       "        [9.9998963e-01, 9.7165964e-09],\n",
       "        [9.9999321e-01, 6.1510863e-09],\n",
       "        [9.9994755e-01, 5.6821680e-08],\n",
       "        [9.9997497e-01, 1.6446378e-08],\n",
       "        [9.9999654e-01, 1.0814695e-09],\n",
       "        [9.9987602e-01, 2.8935460e-07],\n",
       "        [9.9995220e-01, 5.3700813e-08],\n",
       "        [9.9997354e-01, 1.5200813e-08],\n",
       "        [9.9999559e-01, 8.8769081e-10],\n",
       "        [9.9998093e-01, 1.7571610e-08],\n",
       "        [9.9999952e-01, 3.4510221e-11],\n",
       "        [9.9999416e-01, 1.4083057e-09],\n",
       "        [9.9998677e-01, 4.5746140e-09],\n",
       "        [9.9892944e-01, 3.1766526e-06],\n",
       "        [9.9999797e-01, 1.4792643e-10],\n",
       "        [1.9559673e-08, 1.0000000e+00],\n",
       "        [9.3051911e-10, 1.0000000e+00],\n",
       "        [1.7435968e-05, 9.9998510e-01],\n",
       "        [6.0664820e-07, 9.9999976e-01],\n",
       "        [2.0493788e-05, 9.9998665e-01],\n",
       "        [4.2186127e-08, 1.0000000e+00],\n",
       "        [1.3700901e-05, 9.9998772e-01],\n",
       "        [4.4142609e-05, 9.9998128e-01],\n",
       "        [1.3170770e-05, 9.9999440e-01],\n",
       "        [2.4588482e-05, 9.9999046e-01]], dtype=float32),\n",
       " array([[1.0000000e+00, 1.0136647e-16],\n",
       "        [1.0000000e+00, 1.1313930e-18],\n",
       "        [1.0000000e+00, 7.3831146e-14],\n",
       "        [1.0000000e+00, 8.4977813e-22],\n",
       "        [1.0000000e+00, 6.6144056e-11],\n",
       "        [1.0000000e+00, 9.5559411e-13],\n",
       "        [1.0000000e+00, 2.3384333e-12],\n",
       "        [1.0000000e+00, 2.0180031e-26],\n",
       "        [9.9621385e-01, 7.8697153e-04],\n",
       "        [1.0000000e+00, 7.0401379e-11],\n",
       "        [1.0000000e+00, 8.4488430e-11],\n",
       "        [1.0000000e+00, 4.4412356e-11],\n",
       "        [1.0000000e+00, 5.8746629e-23],\n",
       "        [1.0000000e+00, 1.1329963e-09],\n",
       "        [1.0000000e+00, 3.4814487e-14],\n",
       "        [1.0000000e+00, 4.3097124e-14],\n",
       "        [1.0000000e+00, 2.3725833e-15],\n",
       "        [1.0000000e+00, 4.6653004e-10],\n",
       "        [9.9999511e-01, 5.1770201e-07],\n",
       "        [9.9999964e-01, 1.5756527e-08],\n",
       "        [9.9999988e-01, 8.1712610e-09],\n",
       "        [9.9999988e-01, 4.3123221e-09],\n",
       "        [9.9851447e-01, 4.5636922e-04],\n",
       "        [9.9996912e-01, 4.8233369e-06],\n",
       "        [9.9942940e-01, 1.6851274e-04],\n",
       "        [9.9998665e-01, 1.8820170e-06],\n",
       "        [1.0000000e+00, 1.3025711e-10],\n",
       "        [1.0000000e+00, 9.8989783e-10],\n",
       "        [9.9999666e-01, 3.4464662e-07],\n",
       "        [9.9992812e-01, 8.8571105e-06],\n",
       "        [1.0000000e+00, 7.9889229e-12],\n",
       "        [1.0000000e+00, 6.6117029e-12],\n",
       "        [9.9999988e-01, 5.0390003e-09],\n",
       "        [1.0000000e+00, 2.1809563e-09],\n",
       "        [1.0000000e+00, 3.3885381e-10],\n",
       "        [9.9999976e-01, 1.9665425e-08],\n",
       "        [1.0000000e+00, 1.9552762e-09],\n",
       "        [9.9980444e-01, 4.7718586e-05],\n",
       "        [1.0143423e-07, 1.0000000e+00],\n",
       "        [9.1040974e-08, 1.0000000e+00],\n",
       "        [1.3110657e-10, 1.0000000e+00],\n",
       "        [6.1043133e-06, 9.9999595e-01],\n",
       "        [2.9990706e-06, 9.9999893e-01],\n",
       "        [5.3718913e-06, 9.9999714e-01],\n",
       "        [1.1543877e-05, 9.9999547e-01],\n",
       "        [1.5139423e-06, 9.9999893e-01],\n",
       "        [4.3731783e-05, 9.9997139e-01],\n",
       "        [1.1293969e-06, 9.9999940e-01]], dtype=float32),\n",
       " array([[9.9999833e-01, 1.3002693e-07],\n",
       "        [9.9996805e-01, 4.0000518e-06],\n",
       "        [9.9990821e-01, 1.3222142e-05],\n",
       "        [9.9999964e-01, 1.5612068e-08],\n",
       "        [9.9869555e-01, 2.2124652e-04],\n",
       "        [9.9989021e-01, 9.3076787e-06],\n",
       "        [9.9998963e-01, 7.6841604e-07],\n",
       "        [9.9999952e-01, 1.9591186e-08],\n",
       "        [9.9999988e-01, 5.3842837e-09],\n",
       "        [9.9999416e-01, 5.3909861e-07],\n",
       "        [1.0000000e+00, 1.3928306e-09],\n",
       "        [9.9999213e-01, 7.2834030e-07],\n",
       "        [9.9999905e-01, 7.2129460e-08],\n",
       "        [9.9995637e-01, 3.0448728e-06],\n",
       "        [9.9999976e-01, 1.1522512e-08],\n",
       "        [9.9999976e-01, 1.0100982e-08],\n",
       "        [9.9999237e-01, 8.3675445e-07],\n",
       "        [9.9988699e-01, 2.1301192e-05],\n",
       "        [9.9992323e-01, 1.2892377e-05],\n",
       "        [9.9994838e-01, 7.1870832e-06],\n",
       "        [9.9994087e-01, 5.9919294e-06],\n",
       "        [9.9999547e-01, 6.1123535e-07],\n",
       "        [9.9997246e-01, 3.4091097e-06],\n",
       "        [9.9987757e-01, 1.9072486e-05],\n",
       "        [9.9999249e-01, 7.6390131e-07],\n",
       "        [9.9999726e-01, 3.7214681e-07],\n",
       "        [9.9999869e-01, 2.0938153e-07],\n",
       "        [9.9998736e-01, 1.5685110e-06],\n",
       "        [9.9777764e-01, 4.2340500e-04],\n",
       "        [9.9999607e-01, 4.0092607e-07],\n",
       "        [9.9999869e-01, 9.9454105e-08],\n",
       "        [9.9996364e-01, 3.2524622e-06],\n",
       "        [9.9980801e-01, 1.9716708e-05],\n",
       "        [9.9948221e-01, 5.2407864e-05],\n",
       "        [9.9999964e-01, 3.4720490e-08],\n",
       "        [9.9998260e-01, 3.3722376e-06],\n",
       "        [7.2105354e-06, 9.9997246e-01],\n",
       "        [4.5897803e-08, 9.9999952e-01],\n",
       "        [1.5273105e-04, 9.9882025e-01],\n",
       "        [5.3722456e-06, 9.9996173e-01],\n",
       "        [2.4139070e-05, 9.9981838e-01],\n",
       "        [4.3522394e-07, 9.9999523e-01],\n",
       "        [4.7882168e-07, 9.9999654e-01],\n",
       "        [8.1734825e-06, 9.9989378e-01],\n",
       "        [9.9325262e-06, 9.9989462e-01],\n",
       "        [1.1144042e-05, 9.9994922e-01],\n",
       "        [3.0183817e-05, 9.9979717e-01]], dtype=float32)]"
      ]
     },
     "execution_count": 8,
     "metadata": {},
     "output_type": "execute_result"
    }
   ],
   "source": [
    "y_predict_all"
   ]
  },
  {
   "cell_type": "code",
   "execution_count": 9,
   "metadata": {},
   "outputs": [],
   "source": [
    "y_test_concatenate_list = []\n",
    "y_predict_concatenate_list = []\n",
    "y_predict_filtered_concatenate_list = []"
   ]
  },
  {
   "cell_type": "code",
   "execution_count": 10,
   "metadata": {},
   "outputs": [],
   "source": [
    "for i in range(5):\n",
    "    y_test_concatenate_list.extend(list(y_test_all[i]))\n",
    "    y_predict_concatenate_list.extend(list(y_predict_all[i]))\n",
    "    y_predict_filtered_concatenate_list.extend(list(y_predict_filtered_all[i]))"
   ]
  },
  {
   "cell_type": "code",
   "execution_count": 11,
   "metadata": {},
   "outputs": [
    {
     "data": {
      "text/plain": [
       "(48, 2)"
      ]
     },
     "execution_count": 11,
     "metadata": {},
     "output_type": "execute_result"
    }
   ],
   "source": [
    "y_predict_all[0].shape"
   ]
  },
  {
   "cell_type": "code",
   "execution_count": 12,
   "metadata": {},
   "outputs": [
    {
     "data": {
      "text/plain": [
       "['chr_x', 'chr_x_q21_cnv']"
      ]
     },
     "execution_count": 12,
     "metadata": {},
     "output_type": "execute_result"
    }
   ],
   "source": [
    "label_convert"
   ]
  },
  {
   "cell_type": "code",
   "execution_count": 13,
   "metadata": {},
   "outputs": [
    {
     "data": {
      "text/plain": [
       "239"
      ]
     },
     "execution_count": 13,
     "metadata": {},
     "output_type": "execute_result"
    }
   ],
   "source": [
    "len(y_test_concatenate_list)"
   ]
  },
  {
   "cell_type": "code",
   "execution_count": 14,
   "metadata": {},
   "outputs": [
    {
     "data": {
      "text/plain": [
       "239"
      ]
     },
     "execution_count": 14,
     "metadata": {},
     "output_type": "execute_result"
    }
   ],
   "source": [
    "len(y_predict_filtered_concatenate_list)"
   ]
  },
  {
   "cell_type": "code",
   "execution_count": 15,
   "metadata": {},
   "outputs": [
    {
     "data": {
      "text/plain": [
       "239"
      ]
     },
     "execution_count": 15,
     "metadata": {},
     "output_type": "execute_result"
    }
   ],
   "source": [
    "len(y_predict_concatenate_list)"
   ]
  },
  {
   "cell_type": "markdown",
   "metadata": {},
   "source": [
    "# Classification Report"
   ]
  },
  {
   "cell_type": "markdown",
   "metadata": {},
   "source": [
    "## Accuracy"
   ]
  },
  {
   "cell_type": "code",
   "execution_count": 16,
   "metadata": {},
   "outputs": [
    {
     "name": "stdout",
     "output_type": "stream",
     "text": [
      "Accuracy is  0.9874476987447699\n"
     ]
    }
   ],
   "source": [
    "acc = accuracy_score(y_test_concatenate_list, y_predict_filtered_concatenate_list, normalize=True, sample_weight=None)\n",
    "print('Accuracy is ', acc)"
   ]
  },
  {
   "cell_type": "markdown",
   "metadata": {},
   "source": [
    "## Precision, Recall, and F1"
   ]
  },
  {
   "cell_type": "code",
   "execution_count": 17,
   "metadata": {},
   "outputs": [
    {
     "name": "stdout",
     "output_type": "stream",
     "text": [
      "               precision    recall  f1-score   support\n",
      "\n",
      "        chr_x   0.994681  0.989418  0.992042       189\n",
      "chr_x_q21_cnv   0.960784  0.980000  0.970297        50\n",
      "\n",
      "     accuracy                       0.987448       239\n",
      "    macro avg   0.977733  0.984709  0.981170       239\n",
      " weighted avg   0.987590  0.987448  0.987493       239\n",
      "\n"
     ]
    }
   ],
   "source": [
    "performanceReport = classification_report(y_test_concatenate_list, y_predict_filtered_concatenate_list, digits=6,\n",
    "                                          target_names=label_convert)\n",
    "\n",
    "\n",
    "print(performanceReport)"
   ]
  },
  {
   "cell_type": "markdown",
   "metadata": {},
   "source": [
    "## Confusion Matrix"
   ]
  },
  {
   "cell_type": "code",
   "execution_count": 18,
   "metadata": {},
   "outputs": [
    {
     "data": {
      "text/html": [
       "<div>\n",
       "<style scoped>\n",
       "    .dataframe tbody tr th:only-of-type {\n",
       "        vertical-align: middle;\n",
       "    }\n",
       "\n",
       "    .dataframe tbody tr th {\n",
       "        vertical-align: top;\n",
       "    }\n",
       "\n",
       "    .dataframe thead th {\n",
       "        text-align: right;\n",
       "    }\n",
       "</style>\n",
       "<table border=\"1\" class=\"dataframe\">\n",
       "  <thead>\n",
       "    <tr style=\"text-align: right;\">\n",
       "      <th></th>\n",
       "      <th>chr_x</th>\n",
       "      <th>chr_x_q21_cnv</th>\n",
       "    </tr>\n",
       "  </thead>\n",
       "  <tbody>\n",
       "    <tr>\n",
       "      <td>chr_x</td>\n",
       "      <td>187</td>\n",
       "      <td>2</td>\n",
       "    </tr>\n",
       "    <tr>\n",
       "      <td>chr_x_q21_cnv</td>\n",
       "      <td>1</td>\n",
       "      <td>49</td>\n",
       "    </tr>\n",
       "  </tbody>\n",
       "</table>\n",
       "</div>"
      ],
      "text/plain": [
       "               chr_x  chr_x_q21_cnv\n",
       "chr_x            187              2\n",
       "chr_x_q21_cnv      1             49"
      ]
     },
     "execution_count": 18,
     "metadata": {},
     "output_type": "execute_result"
    }
   ],
   "source": [
    "cm = np.array(confusion_matrix(y_test_concatenate_list, y_predict_filtered_concatenate_list))\n",
    "confusion = pd.DataFrame(cm, index=label_convert,\n",
    "                        columns=label_convert)\n",
    "confusion.to_csv('ConfusionMatrix_Combination_of_CrossValidation_KaryoType_CNN.csv')\n",
    "confusion"
   ]
  },
  {
   "cell_type": "markdown",
   "metadata": {},
   "source": [
    "### 3.10.4 Rate of Confusion Matrix"
   ]
  },
  {
   "cell_type": "markdown",
   "metadata": {},
   "source": [
    "### 3.10.5 Recall (查全率)，(Sensitivity Rate)"
   ]
  },
  {
   "cell_type": "code",
   "execution_count": 19,
   "metadata": {
    "scrolled": true
   },
   "outputs": [],
   "source": [
    "subtotal = [0] * 2  \n",
    "for item in y_test_concatenate_list:\n",
    "    subtotal[item] = subtotal[item] + 1"
   ]
  },
  {
   "cell_type": "markdown",
   "metadata": {},
   "source": [
    "#### predict number divided by y test"
   ]
  },
  {
   "cell_type": "code",
   "execution_count": 20,
   "metadata": {},
   "outputs": [],
   "source": [
    "cm_r = []\n",
    "for i in range(2):\n",
    "    cm_r.append(cm[i]/subtotal[i])"
   ]
  },
  {
   "cell_type": "code",
   "execution_count": 21,
   "metadata": {},
   "outputs": [
    {
     "data": {
      "text/html": [
       "<div>\n",
       "<style scoped>\n",
       "    .dataframe tbody tr th:only-of-type {\n",
       "        vertical-align: middle;\n",
       "    }\n",
       "\n",
       "    .dataframe tbody tr th {\n",
       "        vertical-align: top;\n",
       "    }\n",
       "\n",
       "    .dataframe thead th {\n",
       "        text-align: right;\n",
       "    }\n",
       "</style>\n",
       "<table border=\"1\" class=\"dataframe\">\n",
       "  <thead>\n",
       "    <tr style=\"text-align: right;\">\n",
       "      <th></th>\n",
       "      <th>chr_x</th>\n",
       "      <th>chr_x_q21_cnv</th>\n",
       "    </tr>\n",
       "  </thead>\n",
       "  <tbody>\n",
       "    <tr>\n",
       "      <td>chr_x</td>\n",
       "      <td>0.989418</td>\n",
       "      <td>0.010582</td>\n",
       "    </tr>\n",
       "    <tr>\n",
       "      <td>chr_x_q21_cnv</td>\n",
       "      <td>0.020000</td>\n",
       "      <td>0.980000</td>\n",
       "    </tr>\n",
       "  </tbody>\n",
       "</table>\n",
       "</div>"
      ],
      "text/plain": [
       "                  chr_x  chr_x_q21_cnv\n",
       "chr_x          0.989418       0.010582\n",
       "chr_x_q21_cnv  0.020000       0.980000"
      ]
     },
     "execution_count": 21,
     "metadata": {},
     "output_type": "execute_result"
    }
   ],
   "source": [
    "confusion_r = pd.DataFrame(cm_r, index=label_convert,\n",
    "                        columns=label_convert)\n",
    "confusion_r.to_csv('ConfusionMatrix_Recall_Integration_CNN.csv')\n",
    "confusion_r"
   ]
  },
  {
   "cell_type": "markdown",
   "metadata": {},
   "source": [
    "### 3.10.6 Precision (查准率）"
   ]
  },
  {
   "cell_type": "code",
   "execution_count": 22,
   "metadata": {},
   "outputs": [],
   "source": [
    "subtotal_predict = [0] * 2 \n",
    "for item in y_predict_filtered_concatenate_list:\n",
    "    subtotal_predict[item] = subtotal_predict[item] + 1"
   ]
  },
  {
   "cell_type": "markdown",
   "metadata": {},
   "source": [
    "#### predict number divided by y predicted"
   ]
  },
  {
   "cell_type": "code",
   "execution_count": 23,
   "metadata": {},
   "outputs": [],
   "source": [
    "cm_p = []\n",
    "for i in range(2):\n",
    "    cm_p.append(cm[:,i]/subtotal_predict[i])"
   ]
  },
  {
   "cell_type": "code",
   "execution_count": 24,
   "metadata": {},
   "outputs": [
    {
     "data": {
      "text/html": [
       "<div>\n",
       "<style scoped>\n",
       "    .dataframe tbody tr th:only-of-type {\n",
       "        vertical-align: middle;\n",
       "    }\n",
       "\n",
       "    .dataframe tbody tr th {\n",
       "        vertical-align: top;\n",
       "    }\n",
       "\n",
       "    .dataframe thead th {\n",
       "        text-align: right;\n",
       "    }\n",
       "</style>\n",
       "<table border=\"1\" class=\"dataframe\">\n",
       "  <thead>\n",
       "    <tr style=\"text-align: right;\">\n",
       "      <th></th>\n",
       "      <th>chr_x</th>\n",
       "      <th>chr_x_q21_cnv</th>\n",
       "    </tr>\n",
       "  </thead>\n",
       "  <tbody>\n",
       "    <tr>\n",
       "      <td>chr_x</td>\n",
       "      <td>0.994681</td>\n",
       "      <td>0.005319</td>\n",
       "    </tr>\n",
       "    <tr>\n",
       "      <td>chr_x_q21_cnv</td>\n",
       "      <td>0.039216</td>\n",
       "      <td>0.960784</td>\n",
       "    </tr>\n",
       "  </tbody>\n",
       "</table>\n",
       "</div>"
      ],
      "text/plain": [
       "                  chr_x  chr_x_q21_cnv\n",
       "chr_x          0.994681       0.005319\n",
       "chr_x_q21_cnv  0.039216       0.960784"
      ]
     },
     "execution_count": 24,
     "metadata": {},
     "output_type": "execute_result"
    }
   ],
   "source": [
    "confusion_p = pd.DataFrame(cm_p, index=label_convert,\n",
    "                        columns=label_convert)\n",
    "confusion_p.to_csv('ConfusionMatrix_Precision_Integration_CNN.csv')\n",
    "confusion_p"
   ]
  },
  {
   "cell_type": "markdown",
   "metadata": {},
   "source": [
    "#### Heat Map: Number"
   ]
  },
  {
   "cell_type": "code",
   "execution_count": 25,
   "metadata": {
    "scrolled": false
   },
   "outputs": [
    {
     "data": {
      "image/png": "[encoded data removed]",
      "text/plain": [
       "<Figure size 2160x1728 with 2 Axes>"
      ]
     },
     "metadata": {
      "needs_background": "light"
     },
     "output_type": "display_data"
    }
   ],
   "source": [
    "plt.figure(figsize=(30, 24))\n",
    "heat_map = sb.heatmap(confusion, annot=True, fmt = 'g',  # It's a Seaborn function\n",
    "                      cmap='coolwarm', \n",
    "                      xticklabels=confusion.columns, yticklabels=confusion.index, \n",
    "                      linewidths=.5, \n",
    "                      annot_kws={\"size\": 50})\n",
    "sb.set(font_scale = 4)"
   ]
  },
  {
   "cell_type": "markdown",
   "metadata": {},
   "source": [
    "#### Heat Map of Recall: Rate (important!!!)"
   ]
  },
  {
   "cell_type": "code",
   "execution_count": 26,
   "metadata": {
    "scrolled": false
   },
   "outputs": [
    {
     "data": {
      "image/png": "[encoded data removed]",
      "text/plain": [
       "<Figure size 2160x1728 with 2 Axes>"
      ]
     },
     "metadata": {},
     "output_type": "display_data"
    }
   ],
   "source": [
    "plt.figure(figsize=(30, 24))\n",
    "heat_map_r = sb.heatmap(confusion_r, annot=True,  # It's a Seaborn function\n",
    "                      cmap='coolwarm', \n",
    "                      xticklabels=confusion.columns, yticklabels=confusion.index, \n",
    "                      linewidths=1, \n",
    "                      annot_kws={\"size\": 50})\n",
    "sb.set(font_scale = 4)"
   ]
  },
  {
   "cell_type": "code",
   "execution_count": 27,
   "metadata": {},
   "outputs": [
    {
     "data": {
      "image/png": "[encoded data removed]",
      "text/plain": [
       "<Figure size 2160x1728 with 2 Axes>"
      ]
     },
     "metadata": {},
     "output_type": "display_data"
    }
   ],
   "source": [
    "plt.figure(figsize=(30, 24))\n",
    "heat_map_p = sb.heatmap(confusion_p, annot=True,  # It's a Seaborn function\n",
    "                      cmap='coolwarm', \n",
    "                      xticklabels=confusion.columns, yticklabels=confusion.index, \n",
    "                      linewidths=1, \n",
    "                      annot_kws={\"size\": 50})\n",
    "sb.set(font_scale = 4)"
   ]
  },
  {
   "cell_type": "code",
   "execution_count": 28,
   "metadata": {},
   "outputs": [],
   "source": [
    "fig = heat_map.get_figure()    \n",
    "fig.savefig('Heatmap_Combination.png', dpi=400)"
   ]
  },
  {
   "cell_type": "code",
   "execution_count": 29,
   "metadata": {},
   "outputs": [],
   "source": [
    "fig_r = heat_map_r.get_figure()    \n",
    "fig_r.savefig('Heatmap_Recall_Combination.png', dpi=400)"
   ]
  },
  {
   "cell_type": "code",
   "execution_count": 30,
   "metadata": {},
   "outputs": [
    {
     "ename": "MemoryError",
     "evalue": "In RendererAgg: Out of memory",
     "output_type": "error",
     "traceback": [
      "\u001b[1;31m---------------------------------------------------------------------------\u001b[0m",
      "\u001b[1;31mMemoryError\u001b[0m                               Traceback (most recent call last)",
      "\u001b[1;32m<ipython-input-30-351307d9f472>\u001b[0m in \u001b[0;36m<module>\u001b[1;34m\u001b[0m\n\u001b[0;32m      1\u001b[0m \u001b[0mfig_p\u001b[0m \u001b[1;33m=\u001b[0m \u001b[0mheat_map_p\u001b[0m\u001b[1;33m.\u001b[0m\u001b[0mget_figure\u001b[0m\u001b[1;33m(\u001b[0m\u001b[1;33m)\u001b[0m\u001b[1;33m\u001b[0m\u001b[1;33m\u001b[0m\u001b[0m\n\u001b[1;32m----> 2\u001b[1;33m \u001b[0mfig_p\u001b[0m\u001b[1;33m.\u001b[0m\u001b[0msavefig\u001b[0m\u001b[1;33m(\u001b[0m\u001b[1;34m'Heatmap_Precision_Combination.png'\u001b[0m\u001b[1;33m,\u001b[0m \u001b[0mdpi\u001b[0m\u001b[1;33m=\u001b[0m\u001b[1;36m400\u001b[0m\u001b[1;33m)\u001b[0m\u001b[1;33m\u001b[0m\u001b[1;33m\u001b[0m\u001b[0m\n\u001b[0m",
      "\u001b[1;32mC:\\Anaconda3\\lib\\site-packages\\matplotlib\\figure.py\u001b[0m in \u001b[0;36msavefig\u001b[1;34m(self, fname, transparent, **kwargs)\u001b[0m\n\u001b[0;32m   2178\u001b[0m             \u001b[0mself\u001b[0m\u001b[1;33m.\u001b[0m\u001b[0mpatch\u001b[0m\u001b[1;33m.\u001b[0m\u001b[0mset_visible\u001b[0m\u001b[1;33m(\u001b[0m\u001b[0mframeon\u001b[0m\u001b[1;33m)\u001b[0m\u001b[1;33m\u001b[0m\u001b[1;33m\u001b[0m\u001b[0m\n\u001b[0;32m   2179\u001b[0m \u001b[1;33m\u001b[0m\u001b[0m\n\u001b[1;32m-> 2180\u001b[1;33m         \u001b[0mself\u001b[0m\u001b[1;33m.\u001b[0m\u001b[0mcanvas\u001b[0m\u001b[1;33m.\u001b[0m\u001b[0mprint_figure\u001b[0m\u001b[1;33m(\u001b[0m\u001b[0mfname\u001b[0m\u001b[1;33m,\u001b[0m \u001b[1;33m**\u001b[0m\u001b[0mkwargs\u001b[0m\u001b[1;33m)\u001b[0m\u001b[1;33m\u001b[0m\u001b[1;33m\u001b[0m\u001b[0m\n\u001b[0m\u001b[0;32m   2181\u001b[0m \u001b[1;33m\u001b[0m\u001b[0m\n\u001b[0;32m   2182\u001b[0m         \u001b[1;32mif\u001b[0m \u001b[0mframeon\u001b[0m\u001b[1;33m:\u001b[0m\u001b[1;33m\u001b[0m\u001b[1;33m\u001b[0m\u001b[0m\n",
      "\u001b[1;32mC:\\Anaconda3\\lib\\site-packages\\matplotlib\\backend_bases.py\u001b[0m in \u001b[0;36mprint_figure\u001b[1;34m(self, filename, dpi, facecolor, edgecolor, orientation, format, bbox_inches, **kwargs)\u001b[0m\n\u001b[0;32m   2080\u001b[0m                     \u001b[0morientation\u001b[0m\u001b[1;33m=\u001b[0m\u001b[0morientation\u001b[0m\u001b[1;33m,\u001b[0m\u001b[1;33m\u001b[0m\u001b[1;33m\u001b[0m\u001b[0m\n\u001b[0;32m   2081\u001b[0m                     \u001b[0mbbox_inches_restore\u001b[0m\u001b[1;33m=\u001b[0m\u001b[0m_bbox_inches_restore\u001b[0m\u001b[1;33m,\u001b[0m\u001b[1;33m\u001b[0m\u001b[1;33m\u001b[0m\u001b[0m\n\u001b[1;32m-> 2082\u001b[1;33m                     **kwargs)\n\u001b[0m\u001b[0;32m   2083\u001b[0m             \u001b[1;32mfinally\u001b[0m\u001b[1;33m:\u001b[0m\u001b[1;33m\u001b[0m\u001b[1;33m\u001b[0m\u001b[0m\n\u001b[0;32m   2084\u001b[0m                 \u001b[1;32mif\u001b[0m \u001b[0mbbox_inches\u001b[0m \u001b[1;32mand\u001b[0m \u001b[0mrestore_bbox\u001b[0m\u001b[1;33m:\u001b[0m\u001b[1;33m\u001b[0m\u001b[1;33m\u001b[0m\u001b[0m\n",
      "\u001b[1;32mC:\\Anaconda3\\lib\\site-packages\\matplotlib\\backends\\backend_agg.py\u001b[0m in \u001b[0;36mprint_png\u001b[1;34m(self, filename_or_obj, metadata, pil_kwargs, *args, **kwargs)\u001b[0m\n\u001b[0;32m    525\u001b[0m \u001b[1;33m\u001b[0m\u001b[0m\n\u001b[0;32m    526\u001b[0m         \u001b[1;32melse\u001b[0m\u001b[1;33m:\u001b[0m\u001b[1;33m\u001b[0m\u001b[1;33m\u001b[0m\u001b[0m\n\u001b[1;32m--> 527\u001b[1;33m             \u001b[0mFigureCanvasAgg\u001b[0m\u001b[1;33m.\u001b[0m\u001b[0mdraw\u001b[0m\u001b[1;33m(\u001b[0m\u001b[0mself\u001b[0m\u001b[1;33m)\u001b[0m\u001b[1;33m\u001b[0m\u001b[1;33m\u001b[0m\u001b[0m\n\u001b[0m\u001b[0;32m    528\u001b[0m             \u001b[0mrenderer\u001b[0m \u001b[1;33m=\u001b[0m \u001b[0mself\u001b[0m\u001b[1;33m.\u001b[0m\u001b[0mget_renderer\u001b[0m\u001b[1;33m(\u001b[0m\u001b[1;33m)\u001b[0m\u001b[1;33m\u001b[0m\u001b[1;33m\u001b[0m\u001b[0m\n\u001b[0;32m    529\u001b[0m             \u001b[1;32mwith\u001b[0m \u001b[0mcbook\u001b[0m\u001b[1;33m.\u001b[0m\u001b[0m_setattr_cm\u001b[0m\u001b[1;33m(\u001b[0m\u001b[0mrenderer\u001b[0m\u001b[1;33m,\u001b[0m \u001b[0mdpi\u001b[0m\u001b[1;33m=\u001b[0m\u001b[0mself\u001b[0m\u001b[1;33m.\u001b[0m\u001b[0mfigure\u001b[0m\u001b[1;33m.\u001b[0m\u001b[0mdpi\u001b[0m\u001b[1;33m)\u001b[0m\u001b[1;33m,\u001b[0m\u001b[0;31m \u001b[0m\u001b[0;31m\\\u001b[0m\u001b[1;33m\u001b[0m\u001b[1;33m\u001b[0m\u001b[0m\n",
      "\u001b[1;32mC:\\Anaconda3\\lib\\site-packages\\matplotlib\\backends\\backend_agg.py\u001b[0m in \u001b[0;36mdraw\u001b[1;34m(self)\u001b[0m\n\u001b[0;32m    384\u001b[0m         \u001b[0mDraw\u001b[0m \u001b[0mthe\u001b[0m \u001b[0mfigure\u001b[0m \u001b[0musing\u001b[0m \u001b[0mthe\u001b[0m \u001b[0mrenderer\u001b[0m\u001b[1;33m.\u001b[0m\u001b[1;33m\u001b[0m\u001b[1;33m\u001b[0m\u001b[0m\n\u001b[0;32m    385\u001b[0m         \"\"\"\n\u001b[1;32m--> 386\u001b[1;33m         \u001b[0mself\u001b[0m\u001b[1;33m.\u001b[0m\u001b[0mrenderer\u001b[0m \u001b[1;33m=\u001b[0m \u001b[0mself\u001b[0m\u001b[1;33m.\u001b[0m\u001b[0mget_renderer\u001b[0m\u001b[1;33m(\u001b[0m\u001b[0mcleared\u001b[0m\u001b[1;33m=\u001b[0m\u001b[1;32mTrue\u001b[0m\u001b[1;33m)\u001b[0m\u001b[1;33m\u001b[0m\u001b[1;33m\u001b[0m\u001b[0m\n\u001b[0m\u001b[0;32m    387\u001b[0m         \u001b[1;32mwith\u001b[0m \u001b[0mRendererAgg\u001b[0m\u001b[1;33m.\u001b[0m\u001b[0mlock\u001b[0m\u001b[1;33m:\u001b[0m\u001b[1;33m\u001b[0m\u001b[1;33m\u001b[0m\u001b[0m\n\u001b[0;32m    388\u001b[0m             \u001b[0mself\u001b[0m\u001b[1;33m.\u001b[0m\u001b[0mfigure\u001b[0m\u001b[1;33m.\u001b[0m\u001b[0mdraw\u001b[0m\u001b[1;33m(\u001b[0m\u001b[0mself\u001b[0m\u001b[1;33m.\u001b[0m\u001b[0mrenderer\u001b[0m\u001b[1;33m)\u001b[0m\u001b[1;33m\u001b[0m\u001b[1;33m\u001b[0m\u001b[0m\n",
      "\u001b[1;32mC:\\Anaconda3\\lib\\site-packages\\matplotlib\\backends\\backend_agg.py\u001b[0m in \u001b[0;36mget_renderer\u001b[1;34m(self, cleared)\u001b[0m\n\u001b[0;32m    397\u001b[0m                           and getattr(self, \"_lastKey\", None) == key)\n\u001b[0;32m    398\u001b[0m         \u001b[1;32mif\u001b[0m \u001b[1;32mnot\u001b[0m \u001b[0mreuse_renderer\u001b[0m\u001b[1;33m:\u001b[0m\u001b[1;33m\u001b[0m\u001b[1;33m\u001b[0m\u001b[0m\n\u001b[1;32m--> 399\u001b[1;33m             \u001b[0mself\u001b[0m\u001b[1;33m.\u001b[0m\u001b[0mrenderer\u001b[0m \u001b[1;33m=\u001b[0m \u001b[0mRendererAgg\u001b[0m\u001b[1;33m(\u001b[0m\u001b[0mw\u001b[0m\u001b[1;33m,\u001b[0m \u001b[0mh\u001b[0m\u001b[1;33m,\u001b[0m \u001b[0mself\u001b[0m\u001b[1;33m.\u001b[0m\u001b[0mfigure\u001b[0m\u001b[1;33m.\u001b[0m\u001b[0mdpi\u001b[0m\u001b[1;33m)\u001b[0m\u001b[1;33m\u001b[0m\u001b[1;33m\u001b[0m\u001b[0m\n\u001b[0m\u001b[0;32m    400\u001b[0m             \u001b[0mself\u001b[0m\u001b[1;33m.\u001b[0m\u001b[0m_lastKey\u001b[0m \u001b[1;33m=\u001b[0m \u001b[0mkey\u001b[0m\u001b[1;33m\u001b[0m\u001b[1;33m\u001b[0m\u001b[0m\n\u001b[0;32m    401\u001b[0m         \u001b[1;32melif\u001b[0m \u001b[0mcleared\u001b[0m\u001b[1;33m:\u001b[0m\u001b[1;33m\u001b[0m\u001b[1;33m\u001b[0m\u001b[0m\n",
      "\u001b[1;32mC:\\Anaconda3\\lib\\site-packages\\matplotlib\\backends\\backend_agg.py\u001b[0m in \u001b[0;36m__init__\u001b[1;34m(self, width, height, dpi)\u001b[0m\n\u001b[0;32m     84\u001b[0m         \u001b[0mself\u001b[0m\u001b[1;33m.\u001b[0m\u001b[0mwidth\u001b[0m \u001b[1;33m=\u001b[0m \u001b[0mwidth\u001b[0m\u001b[1;33m\u001b[0m\u001b[1;33m\u001b[0m\u001b[0m\n\u001b[0;32m     85\u001b[0m         \u001b[0mself\u001b[0m\u001b[1;33m.\u001b[0m\u001b[0mheight\u001b[0m \u001b[1;33m=\u001b[0m \u001b[0mheight\u001b[0m\u001b[1;33m\u001b[0m\u001b[1;33m\u001b[0m\u001b[0m\n\u001b[1;32m---> 86\u001b[1;33m         \u001b[0mself\u001b[0m\u001b[1;33m.\u001b[0m\u001b[0m_renderer\u001b[0m \u001b[1;33m=\u001b[0m \u001b[0m_RendererAgg\u001b[0m\u001b[1;33m(\u001b[0m\u001b[0mint\u001b[0m\u001b[1;33m(\u001b[0m\u001b[0mwidth\u001b[0m\u001b[1;33m)\u001b[0m\u001b[1;33m,\u001b[0m \u001b[0mint\u001b[0m\u001b[1;33m(\u001b[0m\u001b[0mheight\u001b[0m\u001b[1;33m)\u001b[0m\u001b[1;33m,\u001b[0m \u001b[0mdpi\u001b[0m\u001b[1;33m)\u001b[0m\u001b[1;33m\u001b[0m\u001b[1;33m\u001b[0m\u001b[0m\n\u001b[0m\u001b[0;32m     87\u001b[0m         \u001b[0mself\u001b[0m\u001b[1;33m.\u001b[0m\u001b[0m_filter_renderers\u001b[0m \u001b[1;33m=\u001b[0m \u001b[1;33m[\u001b[0m\u001b[1;33m]\u001b[0m\u001b[1;33m\u001b[0m\u001b[1;33m\u001b[0m\u001b[0m\n\u001b[0;32m     88\u001b[0m \u001b[1;33m\u001b[0m\u001b[0m\n",
      "\u001b[1;31mMemoryError\u001b[0m: In RendererAgg: Out of memory"
     ]
    }
   ],
   "source": [
    "fig_p = heat_map_p.get_figure()    \n",
    "fig_p.savefig('Heatmap_Precision_Combination.png', dpi=400)"
   ]
  },
  {
   "cell_type": "markdown",
   "metadata": {},
   "source": [
    "# ROC Curve"
   ]
  },
  {
   "cell_type": "code",
   "execution_count": null,
   "metadata": {},
   "outputs": [],
   "source": [
    "y_predict_concatenate_array = np.array(y_predict_concatenate_list)\n",
    "y_predict_concatenate_array"
   ]
  },
  {
   "cell_type": "code",
   "execution_count": null,
   "metadata": {},
   "outputs": [],
   "source": [
    "y_predict_concatenate_array.shape"
   ]
  },
  {
   "cell_type": "code",
   "execution_count": null,
   "metadata": {},
   "outputs": [],
   "source": [
    "y_predict_1D = y_predict_concatenate_array[:,0]"
   ]
  },
  {
   "cell_type": "code",
   "execution_count": null,
   "metadata": {},
   "outputs": [],
   "source": [
    "y_predict_1D_processed = 1- y_predict_1D"
   ]
  },
  {
   "cell_type": "code",
   "execution_count": null,
   "metadata": {},
   "outputs": [],
   "source": [
    "fpr , tpr , thresholds = roc_curve(y_test_concatenate_list , y_predict_1D_processed)\n",
    "auc_rf = auc(fpr, tpr)"
   ]
  },
  {
   "cell_type": "code",
   "execution_count": null,
   "metadata": {},
   "outputs": [],
   "source": [
    "auc_rf"
   ]
  },
  {
   "cell_type": "code",
   "execution_count": null,
   "metadata": {},
   "outputs": [],
   "source": [
    "x = y = np.arange(0, 1.1, 0.1)"
   ]
  },
  {
   "cell_type": "code",
   "execution_count": null,
   "metadata": {},
   "outputs": [],
   "source": [
    "x"
   ]
  },
  {
   "cell_type": "code",
   "execution_count": null,
   "metadata": {
    "scrolled": true
   },
   "outputs": [],
   "source": [
    "fig = plt.figure()\n",
    "plt.style.use('classic')\n",
    "\n",
    "ax = fig.add_subplot(111)\n",
    "\n",
    "plt.plot(fpr, tpr, color='blue', linewidth=0.9)\n",
    "\n",
    "plt.plot(x, y, '--', color='black', linewidth=0.8)\n",
    "\n",
    "plt.title('ROC curve of Chr X q21 CNV', fontsize=15, fontname = 'Times New Roman')\n",
    "\n",
    "plt.xlabel('False Positive Rate', fontsize=15, fontname = 'Times New Roman')\n",
    "plt.ylabel('True positive Rate', fontsize=15, fontname = 'Times New Roman')\n",
    "\n",
    "ax.set_aspect('equal', adjustable='box')\n",
    "\n",
    "plt.xlim(-0.08, 1.1)\n",
    "plt.ylim(-0.08, 1.1)\n",
    "\n",
    "plt.xticks(fontsize=15, fontname = 'Arial')\n",
    "plt.yticks(fontsize=15, fontname = 'Arial')\n",
    "\n",
    "plt.savefig('ROC_Curve_Combination.png', dpi=700)\n",
    "plt.show()"
   ]
  },
  {
   "cell_type": "markdown",
   "metadata": {},
   "source": [
    "#### 3.10.4.1 AUC Value"
   ]
  },
  {
   "cell_type": "code",
   "execution_count": null,
   "metadata": {},
   "outputs": [],
   "source": [
    "auc_value = auc(fpr, tpr)"
   ]
  },
  {
   "cell_type": "code",
   "execution_count": null,
   "metadata": {},
   "outputs": [],
   "source": [
    "print('AUC is ', auc_value)"
   ]
  },
  {
   "cell_type": "markdown",
   "metadata": {},
   "source": [
    "# Results"
   ]
  },
  {
   "cell_type": "code",
   "execution_count": null,
   "metadata": {},
   "outputs": [],
   "source": [
    "print('Test Accuracy: %.3f' % acc)"
   ]
  },
  {
   "cell_type": "code",
   "execution_count": null,
   "metadata": {
    "scrolled": true
   },
   "outputs": [],
   "source": [
    "print(performanceReport)"
   ]
  },
  {
   "cell_type": "code",
   "execution_count": null,
   "metadata": {},
   "outputs": [],
   "source": [
    "type(performanceReport)"
   ]
  },
  {
   "cell_type": "code",
   "execution_count": null,
   "metadata": {},
   "outputs": [],
   "source": [
    "print('AUC is ', auc_value)"
   ]
  },
  {
   "cell_type": "markdown",
   "metadata": {},
   "source": [
    "## Export to a text file"
   ]
  },
  {
   "cell_type": "code",
   "execution_count": null,
   "metadata": {},
   "outputs": [],
   "source": [
    "file_report = open('ResultsCombination.txt', 'w')\n",
    "file_report.write('Accuracy: %s\\n\\n' % acc)\n",
    "file_report.write('AUC: %s.\\n\\n' % auc_value)\n",
    "file_report.write('Performance Report: \\n%s\\n\\n' % performanceReport)\n",
    "file_report.write('Confusion Matrix: \\n%s.\\n\\n' % confusion)\n",
    "file_report.write('Recall of Confusion Matrix: \\n%s.\\n\\n' % confusion_r)\n",
    "file_report.write('Precision of Confusion Matrix: \\n%s.\\n\\n' % confusion_p)\n",
    "file_report.close()"
   ]
  },
  {
   "cell_type": "markdown",
   "metadata": {},
   "source": [
    "## Export ROC Parameters"
   ]
  },
  {
   "cell_type": "code",
   "execution_count": null,
   "metadata": {},
   "outputs": [],
   "source": [
    "with open('tpr_' + label_convert[1] + '.npy', 'wb') as file_tpr:\n",
    "    np.save(file_tpr, np.array(tpr))\n",
    "    \n",
    "with open('fpr_' + label_convert[1] + '.npy', 'wb') as file_fpr:\n",
    "    np.save(file_fpr, np.array(fpr))\n",
    "    \n",
    "with open('thresholds_' + label_convert[1] + '.npy', 'wb') as file_thresholds:\n",
    "    np.save(file_thresholds, np.array(thresholds))"
   ]
  },
  {
   "cell_type": "code",
   "execution_count": null,
   "metadata": {},
   "outputs": [],
   "source": []
  }
 ],
 "metadata": {
  "kernelspec": {
   "display_name": "Python 3",
   "language": "python",
   "name": "python3"
  },
  "language_info": {
   "codemirror_mode": {
    "name": "ipython",
    "version": 3
   },
   "file_extension": ".py",
   "mimetype": "text/x-python",
   "name": "python",
   "nbconvert_exporter": "python",
   "pygments_lexer": "ipython3",
   "version": "3.7.4"
  }
 },
 "nbformat": 4,
 "nbformat_minor": 2
}
