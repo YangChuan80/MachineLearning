{
 "cells": [
  {
   "cell_type": "code",
   "execution_count": 1,
   "metadata": {},
   "outputs": [
    {
     "name": "stderr",
     "output_type": "stream",
     "text": [
      "C:\\Anaconda3\\lib\\site-packages\\pandas\\compat\\_optional.py:138: UserWarning: Pandas requires version '2.7.0' or newer of 'numexpr' (version '2.6.9' currently installed).\n",
      "  warnings.warn(msg, UserWarning)\n"
     ]
    }
   ],
   "source": [
    "import numpy as np\n",
    "import pandas as pd\n",
    "import matplotlib.pyplot as plt\n",
    "\n",
    "from sklearn.metrics import classification_report, confusion_matrix, roc_curve, auc, accuracy_score\n",
    "\n",
    "import seaborn as sb"
   ]
  },
  {
   "cell_type": "code",
   "execution_count": 2,
   "metadata": {},
   "outputs": [],
   "source": [
    "chromConvert = {\n",
    "               'chr_x': 0, \n",
    "               'chr_x_q21_cnv': 1\n",
    "               }"
   ]
  },
  {
   "cell_type": "code",
   "execution_count": 3,
   "metadata": {},
   "outputs": [],
   "source": [
    "chromConvert_reverse = {\n",
    "                0: 'chr_x', \n",
    "                1: 'chr_x_q21_cnv'\n",
    "               }"
   ]
  },
  {
   "cell_type": "code",
   "execution_count": 4,
   "metadata": {},
   "outputs": [],
   "source": [
    "label = ['chr_x', 'chr_x_q21_cnv']\n",
    "\n",
    "label_convert = []\n",
    "\n",
    "for i in range(2):\n",
    "    label_convert.append(chromConvert_reverse[i])"
   ]
  },
  {
   "cell_type": "markdown",
   "metadata": {},
   "source": [
    "# Load test and predict values"
   ]
  },
  {
   "cell_type": "code",
   "execution_count": 5,
   "metadata": {},
   "outputs": [],
   "source": [
    "y_test_all = []\n",
    "y_predict_all = []\n",
    "y_predict_filtered_all = []"
   ]
  },
  {
   "cell_type": "code",
   "execution_count": 6,
   "metadata": {},
   "outputs": [],
   "source": [
    "for iterationNumber in range(7):\n",
    "    with open('data_y_test_value_iteration_' + str(iterationNumber) + '.npy', 'rb') as f_y_test:\n",
    "        y_test_all.append(np.load(f_y_test))\n",
    "        \n",
    "    with open('data_y_predict_value_iteration_' + str(iterationNumber) + '.npy', 'rb') as f_y_predict:\n",
    "        y_predict_all.append(np.load(f_y_predict))                             \n",
    "                        \n",
    "    with open('data_y_predict_filtered_value_iteration_' + str(iterationNumber) + '.npy', 'rb') as f_y_predict_filtered:\n",
    "        y_predict_filtered_all.append(np.load(f_y_predict_filtered))"
   ]
  },
  {
   "cell_type": "code",
   "execution_count": 7,
   "metadata": {},
   "outputs": [
    {
     "data": {
      "text/plain": [
       "(35, 2)"
      ]
     },
     "execution_count": 7,
     "metadata": {},
     "output_type": "execute_result"
    }
   ],
   "source": [
    "y_predict_all[0].shape"
   ]
  },
  {
   "cell_type": "code",
   "execution_count": 8,
   "metadata": {
    "scrolled": true
   },
   "outputs": [
    {
     "data": {
      "text/plain": [
       "[array([[1.00000000e+00, 0.00000000e+00],\n",
       "        [1.00000000e+00, 2.44393738e-18],\n",
       "        [1.00000000e+00, 3.02069385e-25],\n",
       "        [1.00000000e+00, 2.59809520e-19],\n",
       "        [1.00000000e+00, 3.04277437e-12],\n",
       "        [1.00000000e+00, 1.29701573e-17],\n",
       "        [1.00000000e+00, 3.95199417e-14],\n",
       "        [1.00000000e+00, 5.90848849e-15],\n",
       "        [1.00000000e+00, 3.42296039e-17],\n",
       "        [1.00000000e+00, 3.52395901e-25],\n",
       "        [1.00000000e+00, 7.26287197e-10],\n",
       "        [1.00000000e+00, 4.83993327e-29],\n",
       "        [1.00000000e+00, 1.06689656e-16],\n",
       "        [1.00000000e+00, 1.06245386e-15],\n",
       "        [1.00000000e+00, 1.18816398e-11],\n",
       "        [1.00000000e+00, 3.23991051e-13],\n",
       "        [1.00000000e+00, 1.22245972e-11],\n",
       "        [1.00000000e+00, 1.50727120e-12],\n",
       "        [1.00000000e+00, 4.71617849e-11],\n",
       "        [1.00000000e+00, 1.21355362e-17],\n",
       "        [1.00000000e+00, 1.65545288e-14],\n",
       "        [1.00000000e+00, 4.46828209e-14],\n",
       "        [1.00000000e+00, 2.51820998e-14],\n",
       "        [1.00000000e+00, 2.20624249e-14],\n",
       "        [1.00000000e+00, 5.68845304e-10],\n",
       "        [1.00000000e+00, 3.06431850e-19],\n",
       "        [1.00000000e+00, 6.03434132e-14],\n",
       "        [7.11276371e-08, 1.00000000e+00],\n",
       "        [2.32040914e-11, 1.00000000e+00],\n",
       "        [4.48330211e-05, 9.99992013e-01],\n",
       "        [6.46213472e-10, 1.00000000e+00],\n",
       "        [8.06160045e-08, 1.00000000e+00],\n",
       "        [7.79497725e-07, 9.99999762e-01],\n",
       "        [5.96618506e-08, 1.00000000e+00],\n",
       "        [4.61308218e-06, 9.99999166e-01]], dtype=float32),\n",
       " array([[1.0000000e+00, 1.2567538e-09],\n",
       "        [1.0000000e+00, 1.0150301e-17],\n",
       "        [1.0000000e+00, 1.1206693e-22],\n",
       "        [1.0000000e+00, 1.7411929e-09],\n",
       "        [1.0000000e+00, 7.4730995e-09],\n",
       "        [1.0000000e+00, 1.9692834e-11],\n",
       "        [9.9999988e-01, 4.6571525e-08],\n",
       "        [1.0000000e+00, 1.0179775e-16],\n",
       "        [1.0000000e+00, 1.0489995e-14],\n",
       "        [1.0000000e+00, 1.5648257e-12],\n",
       "        [9.9999988e-01, 3.1669128e-08],\n",
       "        [1.0000000e+00, 1.7346252e-10],\n",
       "        [9.9999785e-01, 1.6798260e-06],\n",
       "        [9.9999988e-01, 7.3669739e-08],\n",
       "        [1.0000000e+00, 4.6106307e-14],\n",
       "        [1.0000000e+00, 4.0084761e-10],\n",
       "        [1.0000000e+00, 1.6617278e-12],\n",
       "        [1.0000000e+00, 2.6137961e-12],\n",
       "        [1.0000000e+00, 2.2860225e-10],\n",
       "        [1.0000000e+00, 2.0025289e-14],\n",
       "        [1.0000000e+00, 3.4403079e-08],\n",
       "        [9.9999976e-01, 1.6321385e-07],\n",
       "        [1.0000000e+00, 1.2013456e-09],\n",
       "        [9.9999988e-01, 4.6366431e-08],\n",
       "        [1.0000000e+00, 2.9310365e-10],\n",
       "        [9.9999988e-01, 4.0559396e-08],\n",
       "        [9.9999988e-01, 6.6258174e-08],\n",
       "        [2.2244933e-05, 9.9991477e-01],\n",
       "        [1.8952980e-05, 9.9997175e-01],\n",
       "        [7.4337637e-05, 9.9993134e-01],\n",
       "        [5.4675556e-06, 9.9999416e-01],\n",
       "        [1.6018550e-05, 9.9998045e-01],\n",
       "        [2.4458406e-05, 9.9997759e-01],\n",
       "        [9.9856418e-01, 1.3299792e-03]], dtype=float32),\n",
       " array([[1.00000000e+00, 1.15951823e-11],\n",
       "        [1.00000000e+00, 7.63915597e-11],\n",
       "        [1.00000000e+00, 7.73766119e-17],\n",
       "        [1.00000000e+00, 2.51023979e-10],\n",
       "        [1.00000000e+00, 3.93265316e-11],\n",
       "        [1.00000000e+00, 1.95099670e-08],\n",
       "        [1.00000000e+00, 4.99040392e-12],\n",
       "        [1.00000000e+00, 1.17951439e-17],\n",
       "        [1.00000000e+00, 1.28504554e-10],\n",
       "        [1.00000000e+00, 6.97624145e-08],\n",
       "        [1.00000000e+00, 6.80953937e-13],\n",
       "        [9.99999285e-01, 1.48338052e-06],\n",
       "        [1.00000000e+00, 1.87140598e-11],\n",
       "        [1.00000000e+00, 1.60560774e-07],\n",
       "        [1.00000000e+00, 2.39129472e-09],\n",
       "        [1.00000000e+00, 2.89921367e-08],\n",
       "        [1.00000000e+00, 9.97373419e-08],\n",
       "        [1.00000000e+00, 2.30923369e-08],\n",
       "        [1.00000000e+00, 1.45378087e-09],\n",
       "        [1.00000000e+00, 7.89896788e-08],\n",
       "        [9.99999762e-01, 1.37620748e-06],\n",
       "        [1.00000000e+00, 1.01782735e-10],\n",
       "        [1.00000000e+00, 1.98674237e-12],\n",
       "        [9.99999285e-01, 2.01616922e-06],\n",
       "        [1.00000000e+00, 2.77267959e-10],\n",
       "        [9.99997973e-01, 5.60429089e-06],\n",
       "        [9.99999523e-01, 2.00211480e-06],\n",
       "        [7.96079927e-04, 9.97291386e-01],\n",
       "        [6.87831489e-04, 9.97851729e-01],\n",
       "        [3.64575953e-07, 9.99995112e-01],\n",
       "        [4.46638325e-07, 9.99992490e-01],\n",
       "        [4.37802868e-07, 9.99996543e-01],\n",
       "        [5.30773036e-07, 9.99995828e-01],\n",
       "        [1.80212385e-03, 9.95864511e-01]], dtype=float32),\n",
       " array([[1.0000000e+00, 8.4372662e-18],\n",
       "        [1.0000000e+00, 9.9193434e-23],\n",
       "        [1.0000000e+00, 1.1165240e-18],\n",
       "        [9.9999869e-01, 1.5675645e-09],\n",
       "        [1.0000000e+00, 1.2480299e-28],\n",
       "        [1.0000000e+00, 7.9353246e-21],\n",
       "        [1.0000000e+00, 1.6926175e-14],\n",
       "        [1.0000000e+00, 8.5968543e-25],\n",
       "        [1.0000000e+00, 8.7824302e-21],\n",
       "        [1.0000000e+00, 3.4317413e-20],\n",
       "        [1.0000000e+00, 6.4852919e-16],\n",
       "        [1.0000000e+00, 1.7537929e-19],\n",
       "        [1.0000000e+00, 1.3365154e-15],\n",
       "        [1.0000000e+00, 7.3440662e-15],\n",
       "        [1.0000000e+00, 6.7122960e-17],\n",
       "        [1.0000000e+00, 8.9095381e-15],\n",
       "        [1.0000000e+00, 7.3817448e-19],\n",
       "        [1.0000000e+00, 2.0468790e-15],\n",
       "        [1.0000000e+00, 5.2094728e-22],\n",
       "        [1.0000000e+00, 4.5045918e-21],\n",
       "        [1.0000000e+00, 1.5387399e-18],\n",
       "        [1.0000000e+00, 6.9140854e-20],\n",
       "        [1.0000000e+00, 2.2876253e-23],\n",
       "        [1.0000000e+00, 8.3044192e-21],\n",
       "        [1.0000000e+00, 4.1399673e-24],\n",
       "        [1.0000000e+00, 1.7291272e-19],\n",
       "        [1.0000000e+00, 1.5047637e-19],\n",
       "        [1.0247441e-07, 9.9999809e-01],\n",
       "        [3.2312583e-13, 1.0000000e+00],\n",
       "        [6.4081629e-05, 9.9822956e-01],\n",
       "        [1.6964072e-12, 1.0000000e+00],\n",
       "        [4.5090567e-07, 9.9980015e-01],\n",
       "        [1.2347053e-08, 9.9999976e-01],\n",
       "        [4.0587471e-09, 9.9999988e-01]], dtype=float32),\n",
       " array([[1.0000000e+00, 4.7473096e-17],\n",
       "        [1.0000000e+00, 1.7819035e-08],\n",
       "        [1.0000000e+00, 1.0725678e-10],\n",
       "        [1.0000000e+00, 9.4844281e-18],\n",
       "        [9.0472281e-01, 8.6022075e-03],\n",
       "        [1.0000000e+00, 2.4924006e-11],\n",
       "        [1.0000000e+00, 8.9240038e-09],\n",
       "        [9.9949992e-01, 1.4897579e-05],\n",
       "        [1.0000000e+00, 9.1451280e-10],\n",
       "        [1.0000000e+00, 6.8336656e-12],\n",
       "        [1.0000000e+00, 8.0159474e-10],\n",
       "        [1.0000000e+00, 1.5941233e-11],\n",
       "        [1.0000000e+00, 7.1013083e-12],\n",
       "        [1.0000000e+00, 4.3603025e-12],\n",
       "        [1.0000000e+00, 4.0367991e-12],\n",
       "        [9.9999976e-01, 3.2780285e-08],\n",
       "        [1.0000000e+00, 5.6600347e-09],\n",
       "        [1.0000000e+00, 3.5639354e-13],\n",
       "        [8.6290938e-01, 5.2232854e-02],\n",
       "        [9.9999952e-01, 7.9282351e-08],\n",
       "        [1.0000000e+00, 1.9334464e-14],\n",
       "        [1.0000000e+00, 3.0151315e-11],\n",
       "        [1.0000000e+00, 6.7661010e-10],\n",
       "        [9.9999988e-01, 2.2509266e-08],\n",
       "        [1.0000000e+00, 4.3565187e-09],\n",
       "        [9.9999964e-01, 1.9145375e-07],\n",
       "        [1.0000000e+00, 3.5940271e-09],\n",
       "        [6.3236223e-07, 9.9997902e-01],\n",
       "        [2.2226598e-06, 9.9994016e-01],\n",
       "        [1.9876891e-01, 4.6136868e-01],\n",
       "        [3.5251162e-07, 9.9998403e-01],\n",
       "        [7.2741430e-10, 9.9999976e-01],\n",
       "        [7.5349016e-09, 9.9999928e-01],\n",
       "        [3.9825504e-06, 9.9990785e-01]], dtype=float32),\n",
       " array([[1.0000000e+00, 7.9930824e-20],\n",
       "        [1.0000000e+00, 8.8184804e-22],\n",
       "        [9.9999821e-01, 4.4739070e-07],\n",
       "        [1.0000000e+00, 6.2034306e-25],\n",
       "        [9.9999666e-01, 1.4476533e-06],\n",
       "        [1.0000000e+00, 9.5549245e-16],\n",
       "        [1.0000000e+00, 6.5950790e-19],\n",
       "        [1.0000000e+00, 1.6570247e-12],\n",
       "        [1.0000000e+00, 5.7738590e-17],\n",
       "        [1.0000000e+00, 3.1932354e-28],\n",
       "        [1.0000000e+00, 1.6163581e-14],\n",
       "        [1.0000000e+00, 2.8858801e-22],\n",
       "        [1.0000000e+00, 2.6569114e-13],\n",
       "        [1.0000000e+00, 0.0000000e+00],\n",
       "        [1.0000000e+00, 1.6676151e-15],\n",
       "        [1.0000000e+00, 4.9526806e-24],\n",
       "        [1.0000000e+00, 7.9317202e-14],\n",
       "        [1.0000000e+00, 2.1771764e-18],\n",
       "        [1.0000000e+00, 5.6338558e-15],\n",
       "        [1.0000000e+00, 4.0111155e-21],\n",
       "        [1.0000000e+00, 6.7633410e-17],\n",
       "        [1.0000000e+00, 4.5005812e-17],\n",
       "        [1.0000000e+00, 3.8748466e-10],\n",
       "        [1.0000000e+00, 4.2873796e-25],\n",
       "        [1.0000000e+00, 1.7719511e-25],\n",
       "        [1.0000000e+00, 2.0161725e-18],\n",
       "        [1.0000000e+00, 1.6686943e-18],\n",
       "        [5.9778360e-04, 9.9840420e-01],\n",
       "        [5.1572768e-09, 1.0000000e+00],\n",
       "        [3.1257457e-08, 9.9999988e-01],\n",
       "        [1.4874553e-10, 1.0000000e+00],\n",
       "        [2.2186017e-11, 1.0000000e+00],\n",
       "        [2.4643592e-07, 9.9999917e-01],\n",
       "        [8.0474342e-07, 9.9999404e-01]], dtype=float32),\n",
       " array([[1.0000000e+00, 3.6755115e-09],\n",
       "        [1.0000000e+00, 4.2773603e-20],\n",
       "        [9.9998593e-01, 9.7441598e-06],\n",
       "        [1.0000000e+00, 7.1356157e-09],\n",
       "        [1.0000000e+00, 1.5059915e-13],\n",
       "        [9.9999690e-01, 2.5514914e-06],\n",
       "        [1.0000000e+00, 1.4358336e-08],\n",
       "        [9.9893636e-01, 8.2996202e-04],\n",
       "        [9.9999976e-01, 1.5986754e-07],\n",
       "        [9.9999940e-01, 3.0811213e-07],\n",
       "        [9.9999630e-01, 1.6803804e-06],\n",
       "        [9.9841797e-01, 9.0305397e-04],\n",
       "        [9.9984121e-01, 1.0047592e-04],\n",
       "        [9.9993539e-01, 4.1662563e-05],\n",
       "        [9.9991584e-01, 5.4678108e-05],\n",
       "        [9.9999547e-01, 2.2599772e-06],\n",
       "        [9.9999487e-01, 2.9177672e-06],\n",
       "        [9.9999988e-01, 1.1900032e-07],\n",
       "        [9.9999964e-01, 2.4097369e-07],\n",
       "        [9.9934012e-01, 3.7845026e-04],\n",
       "        [9.9999750e-01, 1.2853626e-06],\n",
       "        [1.0000000e+00, 3.0520733e-09],\n",
       "        [9.9988151e-01, 7.3259311e-05],\n",
       "        [9.9962580e-01, 2.0971445e-04],\n",
       "        [9.9919015e-01, 3.1725311e-04],\n",
       "        [1.0000000e+00, 1.9819927e-08],\n",
       "        [3.4834465e-04, 9.9971515e-01],\n",
       "        [2.1386273e-05, 9.9998105e-01],\n",
       "        [5.1672519e-06, 9.9999571e-01],\n",
       "        [1.2527216e-04, 9.9982005e-01],\n",
       "        [6.9733601e-06, 9.9999285e-01],\n",
       "        [1.0783107e-05, 9.9999142e-01],\n",
       "        [1.8245375e-04, 9.9980551e-01],\n",
       "        [6.4267905e-04, 9.9910092e-01]], dtype=float32)]"
      ]
     },
     "execution_count": 8,
     "metadata": {},
     "output_type": "execute_result"
    }
   ],
   "source": [
    "y_predict_all"
   ]
  },
  {
   "cell_type": "code",
   "execution_count": 9,
   "metadata": {},
   "outputs": [],
   "source": [
    "y_test_concatenate_list = []\n",
    "y_predict_concatenate_list = []\n",
    "y_predict_filtered_concatenate_list = []"
   ]
  },
  {
   "cell_type": "code",
   "execution_count": 10,
   "metadata": {},
   "outputs": [],
   "source": [
    "for i in range(7):\n",
    "    y_test_concatenate_list.extend(list(y_test_all[i]))\n",
    "    y_predict_concatenate_list.extend(list(y_predict_all[i]))\n",
    "    y_predict_filtered_concatenate_list.extend(list(y_predict_filtered_all[i]))"
   ]
  },
  {
   "cell_type": "code",
   "execution_count": 11,
   "metadata": {},
   "outputs": [
    {
     "data": {
      "text/plain": [
       "(35, 2)"
      ]
     },
     "execution_count": 11,
     "metadata": {},
     "output_type": "execute_result"
    }
   ],
   "source": [
    "y_predict_all[0].shape"
   ]
  },
  {
   "cell_type": "code",
   "execution_count": 12,
   "metadata": {},
   "outputs": [
    {
     "data": {
      "text/plain": [
       "['chr_x', 'chr_x_q21_cnv']"
      ]
     },
     "execution_count": 12,
     "metadata": {},
     "output_type": "execute_result"
    }
   ],
   "source": [
    "label_convert"
   ]
  },
  {
   "cell_type": "code",
   "execution_count": 13,
   "metadata": {},
   "outputs": [
    {
     "data": {
      "text/plain": [
       "239"
      ]
     },
     "execution_count": 13,
     "metadata": {},
     "output_type": "execute_result"
    }
   ],
   "source": [
    "len(y_test_concatenate_list)"
   ]
  },
  {
   "cell_type": "code",
   "execution_count": 14,
   "metadata": {},
   "outputs": [
    {
     "data": {
      "text/plain": [
       "239"
      ]
     },
     "execution_count": 14,
     "metadata": {},
     "output_type": "execute_result"
    }
   ],
   "source": [
    "len(y_predict_filtered_concatenate_list)"
   ]
  },
  {
   "cell_type": "code",
   "execution_count": 15,
   "metadata": {},
   "outputs": [
    {
     "data": {
      "text/plain": [
       "239"
      ]
     },
     "execution_count": 15,
     "metadata": {},
     "output_type": "execute_result"
    }
   ],
   "source": [
    "len(y_predict_concatenate_list)"
   ]
  },
  {
   "cell_type": "markdown",
   "metadata": {},
   "source": [
    "# Classification Report"
   ]
  },
  {
   "cell_type": "markdown",
   "metadata": {},
   "source": [
    "## Accuracy"
   ]
  },
  {
   "cell_type": "code",
   "execution_count": 16,
   "metadata": {},
   "outputs": [
    {
     "name": "stdout",
     "output_type": "stream",
     "text": [
      "Accuracy is  0.9916317991631799\n"
     ]
    }
   ],
   "source": [
    "acc = accuracy_score(y_test_concatenate_list, y_predict_filtered_concatenate_list, normalize=True, sample_weight=None)\n",
    "print('Accuracy is ', acc)"
   ]
  },
  {
   "cell_type": "markdown",
   "metadata": {},
   "source": [
    "## Precision, Recall, and F1"
   ]
  },
  {
   "cell_type": "code",
   "execution_count": 17,
   "metadata": {},
   "outputs": [
    {
     "name": "stdout",
     "output_type": "stream",
     "text": [
      "               precision    recall  f1-score   support\n",
      "\n",
      "        chr_x       0.99      0.99      0.99       189\n",
      "chr_x_q21_cnv       0.98      0.98      0.98        50\n",
      "\n",
      "    micro avg       0.99      0.99      0.99       239\n",
      "    macro avg       0.99      0.99      0.99       239\n",
      " weighted avg       0.99      0.99      0.99       239\n",
      "\n"
     ]
    }
   ],
   "source": [
    "performanceReport = classification_report(y_test_concatenate_list, y_predict_filtered_concatenate_list, \n",
    "                                          target_names=label_convert)\n",
    "\n",
    "\n",
    "print(performanceReport)"
   ]
  },
  {
   "cell_type": "markdown",
   "metadata": {},
   "source": [
    "## Confusion Matrix"
   ]
  },
  {
   "cell_type": "code",
   "execution_count": 18,
   "metadata": {},
   "outputs": [
    {
     "data": {
      "text/html": [
       "<div>\n",
       "<style scoped>\n",
       "    .dataframe tbody tr th:only-of-type {\n",
       "        vertical-align: middle;\n",
       "    }\n",
       "\n",
       "    .dataframe tbody tr th {\n",
       "        vertical-align: top;\n",
       "    }\n",
       "\n",
       "    .dataframe thead th {\n",
       "        text-align: right;\n",
       "    }\n",
       "</style>\n",
       "<table border=\"1\" class=\"dataframe\">\n",
       "  <thead>\n",
       "    <tr style=\"text-align: right;\">\n",
       "      <th></th>\n",
       "      <th>chr_x</th>\n",
       "      <th>chr_x_q21_cnv</th>\n",
       "    </tr>\n",
       "  </thead>\n",
       "  <tbody>\n",
       "    <tr>\n",
       "      <th>chr_x</th>\n",
       "      <td>188</td>\n",
       "      <td>1</td>\n",
       "    </tr>\n",
       "    <tr>\n",
       "      <th>chr_x_q21_cnv</th>\n",
       "      <td>1</td>\n",
       "      <td>49</td>\n",
       "    </tr>\n",
       "  </tbody>\n",
       "</table>\n",
       "</div>"
      ],
      "text/plain": [
       "               chr_x  chr_x_q21_cnv\n",
       "chr_x            188              1\n",
       "chr_x_q21_cnv      1             49"
      ]
     },
     "execution_count": 18,
     "metadata": {},
     "output_type": "execute_result"
    }
   ],
   "source": [
    "cm = np.array(confusion_matrix(y_test_concatenate_list, y_predict_filtered_concatenate_list))\n",
    "confusion = pd.DataFrame(cm, index=label_convert,\n",
    "                        columns=label_convert)\n",
    "confusion.to_csv('ConfusionMatrix_Combination_of_CrossValidation_KaryoType_CNN.csv')\n",
    "confusion"
   ]
  },
  {
   "cell_type": "markdown",
   "metadata": {},
   "source": [
    "### 3.10.4 Rate of Confusion Matrix"
   ]
  },
  {
   "cell_type": "markdown",
   "metadata": {},
   "source": [
    "### 3.10.5 Recall (查全率)，(Sensitivity Rate)"
   ]
  },
  {
   "cell_type": "code",
   "execution_count": 19,
   "metadata": {
    "scrolled": true
   },
   "outputs": [],
   "source": [
    "subtotal = [0] * 2  \n",
    "for item in y_test_concatenate_list:\n",
    "    subtotal[item] = subtotal[item] + 1"
   ]
  },
  {
   "cell_type": "markdown",
   "metadata": {},
   "source": [
    "#### predict number divided by y test"
   ]
  },
  {
   "cell_type": "code",
   "execution_count": 20,
   "metadata": {},
   "outputs": [],
   "source": [
    "cm_r = []\n",
    "for i in range(2):\n",
    "    cm_r.append(cm[i]/subtotal[i])"
   ]
  },
  {
   "cell_type": "code",
   "execution_count": 21,
   "metadata": {},
   "outputs": [
    {
     "data": {
      "text/html": [
       "<div>\n",
       "<style scoped>\n",
       "    .dataframe tbody tr th:only-of-type {\n",
       "        vertical-align: middle;\n",
       "    }\n",
       "\n",
       "    .dataframe tbody tr th {\n",
       "        vertical-align: top;\n",
       "    }\n",
       "\n",
       "    .dataframe thead th {\n",
       "        text-align: right;\n",
       "    }\n",
       "</style>\n",
       "<table border=\"1\" class=\"dataframe\">\n",
       "  <thead>\n",
       "    <tr style=\"text-align: right;\">\n",
       "      <th></th>\n",
       "      <th>chr_x</th>\n",
       "      <th>chr_x_q21_cnv</th>\n",
       "    </tr>\n",
       "  </thead>\n",
       "  <tbody>\n",
       "    <tr>\n",
       "      <th>chr_x</th>\n",
       "      <td>0.994709</td>\n",
       "      <td>0.005291</td>\n",
       "    </tr>\n",
       "    <tr>\n",
       "      <th>chr_x_q21_cnv</th>\n",
       "      <td>0.020000</td>\n",
       "      <td>0.980000</td>\n",
       "    </tr>\n",
       "  </tbody>\n",
       "</table>\n",
       "</div>"
      ],
      "text/plain": [
       "                  chr_x  chr_x_q21_cnv\n",
       "chr_x          0.994709       0.005291\n",
       "chr_x_q21_cnv  0.020000       0.980000"
      ]
     },
     "execution_count": 21,
     "metadata": {},
     "output_type": "execute_result"
    }
   ],
   "source": [
    "confusion_r = pd.DataFrame(cm_r, index=label_convert,\n",
    "                        columns=label_convert)\n",
    "confusion_r.to_csv('ConfusionMatrix_Recall_Integration_CNN.csv')\n",
    "confusion_r"
   ]
  },
  {
   "cell_type": "markdown",
   "metadata": {},
   "source": [
    "### 3.10.6 Precision (查准率）"
   ]
  },
  {
   "cell_type": "code",
   "execution_count": 22,
   "metadata": {},
   "outputs": [],
   "source": [
    "subtotal_predict = [0] * 2 \n",
    "for item in y_predict_filtered_concatenate_list:\n",
    "    subtotal_predict[item] = subtotal_predict[item] + 1"
   ]
  },
  {
   "cell_type": "markdown",
   "metadata": {},
   "source": [
    "#### predict number divided by y predicted"
   ]
  },
  {
   "cell_type": "code",
   "execution_count": 23,
   "metadata": {},
   "outputs": [],
   "source": [
    "cm_p = []\n",
    "for i in range(2):\n",
    "    cm_p.append(cm[:,i]/subtotal_predict[i])"
   ]
  },
  {
   "cell_type": "code",
   "execution_count": 24,
   "metadata": {},
   "outputs": [
    {
     "data": {
      "text/html": [
       "<div>\n",
       "<style scoped>\n",
       "    .dataframe tbody tr th:only-of-type {\n",
       "        vertical-align: middle;\n",
       "    }\n",
       "\n",
       "    .dataframe tbody tr th {\n",
       "        vertical-align: top;\n",
       "    }\n",
       "\n",
       "    .dataframe thead th {\n",
       "        text-align: right;\n",
       "    }\n",
       "</style>\n",
       "<table border=\"1\" class=\"dataframe\">\n",
       "  <thead>\n",
       "    <tr style=\"text-align: right;\">\n",
       "      <th></th>\n",
       "      <th>chr_x</th>\n",
       "      <th>chr_x_q21_cnv</th>\n",
       "    </tr>\n",
       "  </thead>\n",
       "  <tbody>\n",
       "    <tr>\n",
       "      <th>chr_x</th>\n",
       "      <td>0.994709</td>\n",
       "      <td>0.005291</td>\n",
       "    </tr>\n",
       "    <tr>\n",
       "      <th>chr_x_q21_cnv</th>\n",
       "      <td>0.020000</td>\n",
       "      <td>0.980000</td>\n",
       "    </tr>\n",
       "  </tbody>\n",
       "</table>\n",
       "</div>"
      ],
      "text/plain": [
       "                  chr_x  chr_x_q21_cnv\n",
       "chr_x          0.994709       0.005291\n",
       "chr_x_q21_cnv  0.020000       0.980000"
      ]
     },
     "execution_count": 24,
     "metadata": {},
     "output_type": "execute_result"
    }
   ],
   "source": [
    "confusion_p = pd.DataFrame(cm_p, index=label_convert,\n",
    "                        columns=label_convert)\n",
    "confusion_p.to_csv('ConfusionMatrix_Precision_Integration_CNN.csv')\n",
    "confusion_p"
   ]
  },
  {
   "cell_type": "markdown",
   "metadata": {},
   "source": [
    "#### Heat Map: Number"
   ]
  },
  {
   "cell_type": "code",
   "execution_count": 25,
   "metadata": {
    "scrolled": false
   },
   "outputs": [
    {
     "data": {
      "image/png": "[encoded data removed]",
      "text/plain": [
       "<Figure size 2160x1728 with 2 Axes>"
      ]
     },
     "metadata": {
      "needs_background": "light"
     },
     "output_type": "display_data"
    }
   ],
   "source": [
    "plt.figure(figsize=(30, 24))\n",
    "heat_map = sb.heatmap(confusion, annot=True, fmt = 'g',  # It's a Seaborn function\n",
    "                      cmap='coolwarm', \n",
    "                      xticklabels=confusion.columns, yticklabels=confusion.index, \n",
    "                      linewidths=.5, \n",
    "                      annot_kws={\"size\": 20})\n",
    "sb.set(font_scale = 2)"
   ]
  },
  {
   "cell_type": "markdown",
   "metadata": {},
   "source": [
    "#### Heat Map of Recall: Rate (important!!!)"
   ]
  },
  {
   "cell_type": "code",
   "execution_count": 26,
   "metadata": {
    "scrolled": false
   },
   "outputs": [
    {
     "data": {
      "image/png": "[encoded data removed]",
      "text/plain": [
       "<Figure size 2160x1728 with 2 Axes>"
      ]
     },
     "metadata": {},
     "output_type": "display_data"
    }
   ],
   "source": [
    "plt.figure(figsize=(30, 24))\n",
    "heat_map_r = sb.heatmap(confusion_r, annot=True,  # It's a Seaborn function\n",
    "                      cmap='coolwarm', \n",
    "                      xticklabels=confusion.columns, yticklabels=confusion.index, \n",
    "                      linewidths=1, \n",
    "                      annot_kws={\"size\": 18})\n",
    "sb.set(font_scale = 2)"
   ]
  },
  {
   "cell_type": "code",
   "execution_count": 27,
   "metadata": {},
   "outputs": [
    {
     "data": {
      "image/png": "[encoded data removed]",
      "text/plain": [
       "<Figure size 2160x1728 with 2 Axes>"
      ]
     },
     "metadata": {},
     "output_type": "display_data"
    }
   ],
   "source": [
    "plt.figure(figsize=(30, 24))\n",
    "heat_map_p = sb.heatmap(confusion_p, annot=True,  # It's a Seaborn function\n",
    "                      cmap='coolwarm', \n",
    "                      xticklabels=confusion.columns, yticklabels=confusion.index, \n",
    "                      linewidths=1, \n",
    "                      annot_kws={\"size\": 18})\n",
    "sb.set(font_scale = 2)"
   ]
  },
  {
   "cell_type": "code",
   "execution_count": 28,
   "metadata": {},
   "outputs": [],
   "source": [
    "fig = heat_map.get_figure()    \n",
    "fig.savefig('Heatmap_Combination.png', dpi=400)"
   ]
  },
  {
   "cell_type": "code",
   "execution_count": 29,
   "metadata": {},
   "outputs": [],
   "source": [
    "fig_r = heat_map_r.get_figure()    \n",
    "fig_r.savefig('Heatmap_Recall_Combination.png', dpi=400)"
   ]
  },
  {
   "cell_type": "code",
   "execution_count": 30,
   "metadata": {},
   "outputs": [],
   "source": [
    "fig_p = heat_map_p.get_figure()    \n",
    "fig_p.savefig('Heatmap_Precision_Combination.png', dpi=400)"
   ]
  },
  {
   "cell_type": "markdown",
   "metadata": {},
   "source": [
    "# ROC Curve"
   ]
  },
  {
   "cell_type": "code",
   "execution_count": 31,
   "metadata": {},
   "outputs": [
    {
     "data": {
      "text/plain": [
       "array([[1.00000000e+00, 0.00000000e+00],\n",
       "       [1.00000000e+00, 2.44393738e-18],\n",
       "       [1.00000000e+00, 3.02069385e-25],\n",
       "       [1.00000000e+00, 2.59809520e-19],\n",
       "       [1.00000000e+00, 3.04277437e-12],\n",
       "       [1.00000000e+00, 1.29701573e-17],\n",
       "       [1.00000000e+00, 3.95199417e-14],\n",
       "       [1.00000000e+00, 5.90848849e-15],\n",
       "       [1.00000000e+00, 3.42296039e-17],\n",
       "       [1.00000000e+00, 3.52395901e-25],\n",
       "       [1.00000000e+00, 7.26287197e-10],\n",
       "       [1.00000000e+00, 4.83993327e-29],\n",
       "       [1.00000000e+00, 1.06689656e-16],\n",
       "       [1.00000000e+00, 1.06245386e-15],\n",
       "       [1.00000000e+00, 1.18816398e-11],\n",
       "       [1.00000000e+00, 3.23991051e-13],\n",
       "       [1.00000000e+00, 1.22245972e-11],\n",
       "       [1.00000000e+00, 1.50727120e-12],\n",
       "       [1.00000000e+00, 4.71617849e-11],\n",
       "       [1.00000000e+00, 1.21355362e-17],\n",
       "       [1.00000000e+00, 1.65545288e-14],\n",
       "       [1.00000000e+00, 4.46828209e-14],\n",
       "       [1.00000000e+00, 2.51820998e-14],\n",
       "       [1.00000000e+00, 2.20624249e-14],\n",
       "       [1.00000000e+00, 5.68845304e-10],\n",
       "       [1.00000000e+00, 3.06431850e-19],\n",
       "       [1.00000000e+00, 6.03434132e-14],\n",
       "       [7.11276371e-08, 1.00000000e+00],\n",
       "       [2.32040914e-11, 1.00000000e+00],\n",
       "       [4.48330211e-05, 9.99992013e-01],\n",
       "       [6.46213472e-10, 1.00000000e+00],\n",
       "       [8.06160045e-08, 1.00000000e+00],\n",
       "       [7.79497725e-07, 9.99999762e-01],\n",
       "       [5.96618506e-08, 1.00000000e+00],\n",
       "       [4.61308218e-06, 9.99999166e-01],\n",
       "       [1.00000000e+00, 1.25675381e-09],\n",
       "       [1.00000000e+00, 1.01503010e-17],\n",
       "       [1.00000000e+00, 1.12066931e-22],\n",
       "       [1.00000000e+00, 1.74119286e-09],\n",
       "       [1.00000000e+00, 7.47309947e-09],\n",
       "       [1.00000000e+00, 1.96928342e-11],\n",
       "       [9.99999881e-01, 4.65715253e-08],\n",
       "       [1.00000000e+00, 1.01797750e-16],\n",
       "       [1.00000000e+00, 1.04899948e-14],\n",
       "       [1.00000000e+00, 1.56482574e-12],\n",
       "       [9.99999881e-01, 3.16691278e-08],\n",
       "       [1.00000000e+00, 1.73462522e-10],\n",
       "       [9.99997854e-01, 1.67982603e-06],\n",
       "       [9.99999881e-01, 7.36697388e-08],\n",
       "       [1.00000000e+00, 4.61063072e-14],\n",
       "       [1.00000000e+00, 4.00847605e-10],\n",
       "       [1.00000000e+00, 1.66172783e-12],\n",
       "       [1.00000000e+00, 2.61379612e-12],\n",
       "       [1.00000000e+00, 2.28602248e-10],\n",
       "       [1.00000000e+00, 2.00252887e-14],\n",
       "       [1.00000000e+00, 3.44030795e-08],\n",
       "       [9.99999762e-01, 1.63213855e-07],\n",
       "       [1.00000000e+00, 1.20134558e-09],\n",
       "       [9.99999881e-01, 4.63664307e-08],\n",
       "       [1.00000000e+00, 2.93103652e-10],\n",
       "       [9.99999881e-01, 4.05593958e-08],\n",
       "       [9.99999881e-01, 6.62581741e-08],\n",
       "       [2.22449326e-05, 9.99914765e-01],\n",
       "       [1.89529801e-05, 9.99971747e-01],\n",
       "       [7.43376368e-05, 9.99931335e-01],\n",
       "       [5.46755564e-06, 9.99994159e-01],\n",
       "       [1.60185500e-05, 9.99980450e-01],\n",
       "       [2.44584062e-05, 9.99977589e-01],\n",
       "       [9.98564184e-01, 1.32997916e-03],\n",
       "       [1.00000000e+00, 1.15951823e-11],\n",
       "       [1.00000000e+00, 7.63915597e-11],\n",
       "       [1.00000000e+00, 7.73766119e-17],\n",
       "       [1.00000000e+00, 2.51023979e-10],\n",
       "       [1.00000000e+00, 3.93265316e-11],\n",
       "       [1.00000000e+00, 1.95099670e-08],\n",
       "       [1.00000000e+00, 4.99040392e-12],\n",
       "       [1.00000000e+00, 1.17951439e-17],\n",
       "       [1.00000000e+00, 1.28504554e-10],\n",
       "       [1.00000000e+00, 6.97624145e-08],\n",
       "       [1.00000000e+00, 6.80953937e-13],\n",
       "       [9.99999285e-01, 1.48338052e-06],\n",
       "       [1.00000000e+00, 1.87140598e-11],\n",
       "       [1.00000000e+00, 1.60560774e-07],\n",
       "       [1.00000000e+00, 2.39129472e-09],\n",
       "       [1.00000000e+00, 2.89921367e-08],\n",
       "       [1.00000000e+00, 9.97373419e-08],\n",
       "       [1.00000000e+00, 2.30923369e-08],\n",
       "       [1.00000000e+00, 1.45378087e-09],\n",
       "       [1.00000000e+00, 7.89896788e-08],\n",
       "       [9.99999762e-01, 1.37620748e-06],\n",
       "       [1.00000000e+00, 1.01782735e-10],\n",
       "       [1.00000000e+00, 1.98674237e-12],\n",
       "       [9.99999285e-01, 2.01616922e-06],\n",
       "       [1.00000000e+00, 2.77267959e-10],\n",
       "       [9.99997973e-01, 5.60429089e-06],\n",
       "       [9.99999523e-01, 2.00211480e-06],\n",
       "       [7.96079927e-04, 9.97291386e-01],\n",
       "       [6.87831489e-04, 9.97851729e-01],\n",
       "       [3.64575953e-07, 9.99995112e-01],\n",
       "       [4.46638325e-07, 9.99992490e-01],\n",
       "       [4.37802868e-07, 9.99996543e-01],\n",
       "       [5.30773036e-07, 9.99995828e-01],\n",
       "       [1.80212385e-03, 9.95864511e-01],\n",
       "       [1.00000000e+00, 8.43726624e-18],\n",
       "       [1.00000000e+00, 9.91934339e-23],\n",
       "       [1.00000000e+00, 1.11652405e-18],\n",
       "       [9.99998689e-01, 1.56756452e-09],\n",
       "       [1.00000000e+00, 1.24802993e-28],\n",
       "       [1.00000000e+00, 7.93532456e-21],\n",
       "       [1.00000000e+00, 1.69261747e-14],\n",
       "       [1.00000000e+00, 8.59685429e-25],\n",
       "       [1.00000000e+00, 8.78243021e-21],\n",
       "       [1.00000000e+00, 3.43174133e-20],\n",
       "       [1.00000000e+00, 6.48529188e-16],\n",
       "       [1.00000000e+00, 1.75379286e-19],\n",
       "       [1.00000000e+00, 1.33651539e-15],\n",
       "       [1.00000000e+00, 7.34406618e-15],\n",
       "       [1.00000000e+00, 6.71229605e-17],\n",
       "       [1.00000000e+00, 8.90953808e-15],\n",
       "       [1.00000000e+00, 7.38174479e-19],\n",
       "       [1.00000000e+00, 2.04687905e-15],\n",
       "       [1.00000000e+00, 5.20947283e-22],\n",
       "       [1.00000000e+00, 4.50459176e-21],\n",
       "       [1.00000000e+00, 1.53873988e-18],\n",
       "       [1.00000000e+00, 6.91408544e-20],\n",
       "       [1.00000000e+00, 2.28762531e-23],\n",
       "       [1.00000000e+00, 8.30441918e-21],\n",
       "       [1.00000000e+00, 4.13996727e-24],\n",
       "       [1.00000000e+00, 1.72912724e-19],\n",
       "       [1.00000000e+00, 1.50476367e-19],\n",
       "       [1.02474409e-07, 9.99998093e-01],\n",
       "       [3.23125831e-13, 1.00000000e+00],\n",
       "       [6.40816288e-05, 9.98229563e-01],\n",
       "       [1.69640723e-12, 1.00000000e+00],\n",
       "       [4.50905674e-07, 9.99800146e-01],\n",
       "       [1.23470532e-08, 9.99999762e-01],\n",
       "       [4.05874712e-09, 9.99999881e-01],\n",
       "       [1.00000000e+00, 4.74730964e-17],\n",
       "       [1.00000000e+00, 1.78190351e-08],\n",
       "       [1.00000000e+00, 1.07256780e-10],\n",
       "       [1.00000000e+00, 9.48442809e-18],\n",
       "       [9.04722810e-01, 8.60220753e-03],\n",
       "       [1.00000000e+00, 2.49240056e-11],\n",
       "       [1.00000000e+00, 8.92400376e-09],\n",
       "       [9.99499917e-01, 1.48975787e-05],\n",
       "       [1.00000000e+00, 9.14512799e-10],\n",
       "       [1.00000000e+00, 6.83366558e-12],\n",
       "       [1.00000000e+00, 8.01594735e-10],\n",
       "       [1.00000000e+00, 1.59412327e-11],\n",
       "       [1.00000000e+00, 7.10130826e-12],\n",
       "       [1.00000000e+00, 4.36030248e-12],\n",
       "       [1.00000000e+00, 4.03679911e-12],\n",
       "       [9.99999762e-01, 3.27802852e-08],\n",
       "       [1.00000000e+00, 5.66003466e-09],\n",
       "       [1.00000000e+00, 3.56393544e-13],\n",
       "       [8.62909377e-01, 5.22328541e-02],\n",
       "       [9.99999523e-01, 7.92823514e-08],\n",
       "       [1.00000000e+00, 1.93344638e-14],\n",
       "       [1.00000000e+00, 3.01513155e-11],\n",
       "       [1.00000000e+00, 6.76610101e-10],\n",
       "       [9.99999881e-01, 2.25092656e-08],\n",
       "       [1.00000000e+00, 4.35651870e-09],\n",
       "       [9.99999642e-01, 1.91453751e-07],\n",
       "       [1.00000000e+00, 3.59402708e-09],\n",
       "       [6.32362230e-07, 9.99979019e-01],\n",
       "       [2.22265976e-06, 9.99940157e-01],\n",
       "       [1.98768914e-01, 4.61368680e-01],\n",
       "       [3.52511620e-07, 9.99984026e-01],\n",
       "       [7.27414295e-10, 9.99999762e-01],\n",
       "       [7.53490159e-09, 9.99999285e-01],\n",
       "       [3.98255042e-06, 9.99907851e-01],\n",
       "       [1.00000000e+00, 7.99308245e-20],\n",
       "       [1.00000000e+00, 8.81848042e-22],\n",
       "       [9.99998212e-01, 4.47390704e-07],\n",
       "       [1.00000000e+00, 6.20343058e-25],\n",
       "       [9.99996662e-01, 1.44765329e-06],\n",
       "       [1.00000000e+00, 9.55492446e-16],\n",
       "       [1.00000000e+00, 6.59507897e-19],\n",
       "       [1.00000000e+00, 1.65702467e-12],\n",
       "       [1.00000000e+00, 5.77385898e-17],\n",
       "       [1.00000000e+00, 3.19323542e-28],\n",
       "       [1.00000000e+00, 1.61635808e-14],\n",
       "       [1.00000000e+00, 2.88588013e-22],\n",
       "       [1.00000000e+00, 2.65691142e-13],\n",
       "       [1.00000000e+00, 0.00000000e+00],\n",
       "       [1.00000000e+00, 1.66761507e-15],\n",
       "       [1.00000000e+00, 4.95268057e-24],\n",
       "       [1.00000000e+00, 7.93172019e-14],\n",
       "       [1.00000000e+00, 2.17717639e-18],\n",
       "       [1.00000000e+00, 5.63385584e-15],\n",
       "       [1.00000000e+00, 4.01111552e-21],\n",
       "       [1.00000000e+00, 6.76334103e-17],\n",
       "       [1.00000000e+00, 4.50058119e-17],\n",
       "       [1.00000000e+00, 3.87484655e-10],\n",
       "       [1.00000000e+00, 4.28737964e-25],\n",
       "       [1.00000000e+00, 1.77195107e-25],\n",
       "       [1.00000000e+00, 2.01617251e-18],\n",
       "       [1.00000000e+00, 1.66869430e-18],\n",
       "       [5.97783597e-04, 9.98404205e-01],\n",
       "       [5.15727683e-09, 1.00000000e+00],\n",
       "       [3.12574571e-08, 9.99999881e-01],\n",
       "       [1.48745530e-10, 1.00000000e+00],\n",
       "       [2.21860169e-11, 1.00000000e+00],\n",
       "       [2.46435917e-07, 9.99999166e-01],\n",
       "       [8.04743422e-07, 9.99994040e-01],\n",
       "       [1.00000000e+00, 3.67551145e-09],\n",
       "       [1.00000000e+00, 4.27736032e-20],\n",
       "       [9.99985933e-01, 9.74415980e-06],\n",
       "       [1.00000000e+00, 7.13561565e-09],\n",
       "       [1.00000000e+00, 1.50599151e-13],\n",
       "       [9.99996901e-01, 2.55149143e-06],\n",
       "       [1.00000000e+00, 1.43583359e-08],\n",
       "       [9.98936355e-01, 8.29962024e-04],\n",
       "       [9.99999762e-01, 1.59867540e-07],\n",
       "       [9.99999404e-01, 3.08112135e-07],\n",
       "       [9.99996305e-01, 1.68038036e-06],\n",
       "       [9.98417974e-01, 9.03053966e-04],\n",
       "       [9.99841213e-01, 1.00475918e-04],\n",
       "       [9.99935389e-01, 4.16625626e-05],\n",
       "       [9.99915838e-01, 5.46781084e-05],\n",
       "       [9.99995470e-01, 2.25997724e-06],\n",
       "       [9.99994874e-01, 2.91776723e-06],\n",
       "       [9.99999881e-01, 1.19000319e-07],\n",
       "       [9.99999642e-01, 2.40973691e-07],\n",
       "       [9.99340117e-01, 3.78450262e-04],\n",
       "       [9.99997497e-01, 1.28536260e-06],\n",
       "       [1.00000000e+00, 3.05207326e-09],\n",
       "       [9.99881506e-01, 7.32593107e-05],\n",
       "       [9.99625802e-01, 2.09714446e-04],\n",
       "       [9.99190152e-01, 3.17253114e-04],\n",
       "       [1.00000000e+00, 1.98199270e-08],\n",
       "       [3.48344649e-04, 9.99715149e-01],\n",
       "       [2.13862731e-05, 9.99981046e-01],\n",
       "       [5.16725186e-06, 9.99995708e-01],\n",
       "       [1.25272156e-04, 9.99820054e-01],\n",
       "       [6.97336009e-06, 9.99992847e-01],\n",
       "       [1.07831074e-05, 9.99991417e-01],\n",
       "       [1.82453747e-04, 9.99805510e-01],\n",
       "       [6.42679050e-04, 9.99100924e-01]], dtype=float32)"
      ]
     },
     "execution_count": 31,
     "metadata": {},
     "output_type": "execute_result"
    }
   ],
   "source": [
    "y_predict_concatenate_array = np.array(y_predict_concatenate_list)\n",
    "y_predict_concatenate_array"
   ]
  },
  {
   "cell_type": "code",
   "execution_count": 32,
   "metadata": {},
   "outputs": [
    {
     "data": {
      "text/plain": [
       "(239, 2)"
      ]
     },
     "execution_count": 32,
     "metadata": {},
     "output_type": "execute_result"
    }
   ],
   "source": [
    "y_predict_concatenate_array.shape"
   ]
  },
  {
   "cell_type": "code",
   "execution_count": 33,
   "metadata": {},
   "outputs": [],
   "source": [
    "y_predict_1D = y_predict_concatenate_array[:,0]"
   ]
  },
  {
   "cell_type": "code",
   "execution_count": 34,
   "metadata": {},
   "outputs": [],
   "source": [
    "y_predict_1D_processed = 1- y_predict_1D"
   ]
  },
  {
   "cell_type": "code",
   "execution_count": 35,
   "metadata": {},
   "outputs": [],
   "source": [
    "fpr , tpr , thresholds = roc_curve(y_test_concatenate_list , y_predict_1D_processed)\n",
    "auc_rf = auc(fpr, tpr)"
   ]
  },
  {
   "cell_type": "code",
   "execution_count": 36,
   "metadata": {},
   "outputs": [
    {
     "data": {
      "text/plain": [
       "0.998941798941799"
      ]
     },
     "execution_count": 36,
     "metadata": {},
     "output_type": "execute_result"
    }
   ],
   "source": [
    "auc_rf"
   ]
  },
  {
   "cell_type": "code",
   "execution_count": 37,
   "metadata": {},
   "outputs": [],
   "source": [
    "x = y = np.arange(0, 1.1, 0.1)"
   ]
  },
  {
   "cell_type": "code",
   "execution_count": 38,
   "metadata": {},
   "outputs": [
    {
     "data": {
      "text/plain": [
       "array([0. , 0.1, 0.2, 0.3, 0.4, 0.5, 0.6, 0.7, 0.8, 0.9, 1. ])"
      ]
     },
     "execution_count": 38,
     "metadata": {},
     "output_type": "execute_result"
    }
   ],
   "source": [
    "x"
   ]
  },
  {
   "cell_type": "code",
   "execution_count": 39,
   "metadata": {
    "scrolled": true
   },
   "outputs": [
    {
     "data": {
      "image/png": "[encoded data removed]",
      "text/plain": [
       "<Figure size 432x288 with 1 Axes>"
      ]
     },
     "metadata": {},
     "output_type": "display_data"
    }
   ],
   "source": [
    "fig = plt.figure()\n",
    "plt.style.use('classic')\n",
    "\n",
    "ax = fig.add_subplot(111)\n",
    "\n",
    "plt.plot(fpr, tpr, color='blue', linewidth=0.9)\n",
    "\n",
    "plt.plot(x, y, '--', color='black', linewidth=0.8)\n",
    "\n",
    "plt.title('ROC curve of Chr X q21 CNV', fontsize=12, fontname = 'Times New Roman')\n",
    "\n",
    "plt.xlabel('False Positive Rate', fontsize=11, fontname = 'Times New Roman')\n",
    "plt.ylabel('True positive Rate', fontsize=11, fontname = 'Times New Roman')\n",
    "\n",
    "ax.set_aspect('equal', adjustable='box')\n",
    "\n",
    "plt.xlim(-0.08, 1.1)\n",
    "plt.ylim(-0.08, 1.1)\n",
    "\n",
    "plt.xticks(fontsize=9, fontname = 'Arial')\n",
    "plt.yticks(fontsize=9, fontname = 'Arial')\n",
    "\n",
    "plt.savefig('ROC_Curve_Combination.png', dpi=400)\n",
    "plt.show()"
   ]
  },
  {
   "cell_type": "markdown",
   "metadata": {},
   "source": [
    "#### 3.10.4.1 AUC Value"
   ]
  },
  {
   "cell_type": "code",
   "execution_count": 40,
   "metadata": {},
   "outputs": [],
   "source": [
    "auc_value = auc(fpr, tpr)"
   ]
  },
  {
   "cell_type": "code",
   "execution_count": 41,
   "metadata": {},
   "outputs": [
    {
     "name": "stdout",
     "output_type": "stream",
     "text": [
      "AUC is  0.998941798941799\n"
     ]
    }
   ],
   "source": [
    "print('AUC is ', auc_value)"
   ]
  },
  {
   "cell_type": "markdown",
   "metadata": {},
   "source": [
    "# Results"
   ]
  },
  {
   "cell_type": "code",
   "execution_count": 42,
   "metadata": {},
   "outputs": [
    {
     "name": "stdout",
     "output_type": "stream",
     "text": [
      "Test Accuracy: 0.992\n"
     ]
    }
   ],
   "source": [
    "print('Test Accuracy: %.3f' % acc)"
   ]
  },
  {
   "cell_type": "code",
   "execution_count": 43,
   "metadata": {
    "scrolled": true
   },
   "outputs": [
    {
     "name": "stdout",
     "output_type": "stream",
     "text": [
      "               precision    recall  f1-score   support\n",
      "\n",
      "        chr_x       0.99      0.99      0.99       189\n",
      "chr_x_q21_cnv       0.98      0.98      0.98        50\n",
      "\n",
      "    micro avg       0.99      0.99      0.99       239\n",
      "    macro avg       0.99      0.99      0.99       239\n",
      " weighted avg       0.99      0.99      0.99       239\n",
      "\n"
     ]
    }
   ],
   "source": [
    "print(performanceReport)"
   ]
  },
  {
   "cell_type": "code",
   "execution_count": 44,
   "metadata": {},
   "outputs": [
    {
     "data": {
      "text/plain": [
       "str"
      ]
     },
     "execution_count": 44,
     "metadata": {},
     "output_type": "execute_result"
    }
   ],
   "source": [
    "type(performanceReport)"
   ]
  },
  {
   "cell_type": "code",
   "execution_count": 45,
   "metadata": {},
   "outputs": [
    {
     "name": "stdout",
     "output_type": "stream",
     "text": [
      "AUC is  0.998941798941799\n"
     ]
    }
   ],
   "source": [
    "print('AUC is ', auc_value)"
   ]
  },
  {
   "cell_type": "markdown",
   "metadata": {},
   "source": [
    "## Export to a text file"
   ]
  },
  {
   "cell_type": "code",
   "execution_count": 46,
   "metadata": {},
   "outputs": [],
   "source": [
    "file_report = open('ResultsCombination.txt', 'w')\n",
    "file_report.write('Accuracy: %s\\n\\n' % acc)\n",
    "file_report.write('AUC: %s.\\n\\n' % auc_value)\n",
    "file_report.write('Performance Report: \\n%s\\n\\n' % performanceReport)\n",
    "file_report.write('Confusion Matrix: \\n%s.\\n\\n' % confusion)\n",
    "file_report.write('Recall of Confusion Matrix: \\n%s.\\n\\n' % confusion_r)\n",
    "file_report.write('Precision of Confusion Matrix: \\n%s.\\n\\n' % confusion_p)\n",
    "file_report.close()"
   ]
  }
 ],
 "metadata": {
  "kernelspec": {
   "display_name": "Python 3",
   "language": "python",
   "name": "python3"
  },
  "language_info": {
   "codemirror_mode": {
    "name": "ipython",
    "version": 3
   },
   "file_extension": ".py",
   "mimetype": "text/x-python",
   "name": "python",
   "nbconvert_exporter": "python",
   "pygments_lexer": "ipython3",
   "version": "3.7.3"
  }
 },
 "nbformat": 4,
 "nbformat_minor": 2
}
