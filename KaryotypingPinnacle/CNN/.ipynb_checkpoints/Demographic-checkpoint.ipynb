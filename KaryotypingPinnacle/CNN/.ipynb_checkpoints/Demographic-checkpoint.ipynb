{
 "cells": [
  {
   "cell_type": "markdown",
   "metadata": {
    "colab_type": "text",
    "id": "slIdjqTJhM8B"
   },
   "source": [
    "# A Semi-automatic Classification of Normal Karyotypes using Convolutional Neural Network Algorithm"
   ]
  },
  {
   "cell_type": "markdown",
   "metadata": {
    "colab_type": "text",
    "id": "aBT9lgVVhM8D"
   },
   "source": [
    "- **Chuan Yang**, MD, PhD Student\n",
    "- Mentor: **Yanyan Zhao**, MD, PhD\n",
    "- Shengjing Hospital of China Medical University"
   ]
  },
  {
   "cell_type": "markdown",
   "metadata": {
    "colab_type": "text",
    "id": "xrnbxOZChM8E"
   },
   "source": [
    "## Modules"
   ]
  },
  {
   "cell_type": "code",
   "execution_count": 1,
   "metadata": {
    "colab": {},
    "colab_type": "code",
    "id": "aKjA8v4hhM8E"
   },
   "outputs": [],
   "source": [
    "from PIL import Image\n",
    "import numpy as np\n",
    "import pandas as pd\n",
    "import matplotlib.pyplot as plt\n",
    "\n",
    "import seaborn as sb\n",
    "\n",
    "from sklearn.metrics import classification_report, confusion_matrix\n",
    "\n",
    "from tensorflow.keras import Sequential\n",
    "from tensorflow.keras.layers import Dense, Conv2D, MaxPooling2D, Flatten\n",
    "from tensorflow import keras\n",
    "\n",
    "from os import walk\n",
    "\n",
    "import time\n",
    "import datetime\n",
    "\n",
    "%matplotlib inline"
   ]
  },
  {
   "cell_type": "markdown",
   "metadata": {
    "colab_type": "text",
    "id": "2KFSsnYohM8H"
   },
   "source": [
    "## Samples\n"
   ]
  },
  {
   "cell_type": "markdown",
   "metadata": {},
   "source": [
    "## Chormosome Label Convert by using Dictionary"
   ]
  },
  {
   "cell_type": "code",
   "execution_count": 2,
   "metadata": {},
   "outputs": [],
   "source": [
    "chromConvert = {'chr_01': 1, \n",
    "               'chr_02': 2, \n",
    "               'chr_03': 3, \n",
    "               'chr_04': 4, \n",
    "               'chr_05': 5, \n",
    "               'chr_06': 6, \n",
    "               'chr_07': 7, \n",
    "               'chr_08': 8, \n",
    "               'chr_09': 9, \n",
    "               'chr_10': 10, \n",
    "               'chr_11': 11, \n",
    "               'chr_12': 12, \n",
    "               'chr_13': 13, \n",
    "               'chr_14': 14, \n",
    "               'chr_15': 15, \n",
    "               'chr_16': 16, \n",
    "               'chr_17': 17, \n",
    "               'chr_18': 18, \n",
    "               'chr_19': 19, \n",
    "               'chr_20': 20, \n",
    "               'chr_21': 21, \n",
    "               'chr_22': 22, \n",
    "               'chr_x': 0, \n",
    "               'chr_y': 23, \n",
    "                'chr_18_p11_deletion': 24,\n",
    "                'chr_18_q10_isochromosome': 25,\n",
    "                'chr_9_inversion': 26,\n",
    "                'chr_5_p14_deletion': 27,\n",
    "                'chr_x_isochromosome': 28,\n",
    "                'chr_x_p22_cnv': 29, \n",
    "                'chr_x_q21_cnv': 30,\n",
    "                'chr_x_q22_deletion': 31\n",
    "               }"
   ]
  },
  {
   "cell_type": "markdown",
   "metadata": {},
   "source": [
    "## File Import"
   ]
  },
  {
   "cell_type": "code",
   "execution_count": 3,
   "metadata": {
    "colab": {},
    "colab_type": "code",
    "id": "8YcabYh2hM8I"
   },
   "outputs": [],
   "source": [
    "# pathBase = 'C:\\\\Users\\\\Chuan\\\\OneDrive\\\\Dowrun\\\\Database\\\\PhD\\\\KaryoTypes\\\\Arrangement\\\\'\n",
    "# pathBase = 'I:\\\\Chuan\\\\Documents\\\\MyData\\\\PhD\\\\Karyotype\\\\Arrangement\\\\'\n",
    "# pathBase = 'D:\\\\Users\\\\Chuan\\\\Documents\\\\Database\\\\Karyotypes\\\\Arrangement\\\\'\n",
    "# ///////////////////////////////////////////////\n",
    "# Merged Database\n",
    "pathBase = 'D:\\\\Users\\\\Chuan\\\\Documents\\\\Database\\\\Karyotypes\\\\Arrangement_Merged\\\\'\n",
    "#pathBase = 'I:\\\\Chuan\\\\Documents\\\\MyData\\\\PhD\\\\Karyotype\\\\Arrangement_Merged\\\\'\n",
    "\n",
    "theWhole = {}\n",
    "\n",
    "\n",
    "f = []\n",
    "f_01 = []\n",
    "mypath_01 = pathBase + 'chr_01'\n",
    "for (dirpath, dirnames, filenames) in walk(mypath_01):\n",
    "    f.extend(filenames)\n",
    "for l in f:\n",
    "    f_01.append(mypath_01 + '\\\\' + l) \n",
    "        \n",
    "f = []\n",
    "f_02 = []\n",
    "mypath_02 = pathBase + 'chr_02'\n",
    "for (dirpath, dirnames, filenames) in walk(mypath_02):\n",
    "    f.extend(filenames)\n",
    "for l in f:\n",
    "    f_02.append(mypath_02 + '\\\\' + l)    \n",
    "        \n",
    "f = []\n",
    "f_03 = []\n",
    "mypath_03 = pathBase + 'chr_03'\n",
    "for (dirpath, dirnames, filenames) in walk(mypath_03):\n",
    "    f.extend(filenames)\n",
    "for l in f:\n",
    "    f_03.append(mypath_03 + '\\\\' + l)    \n",
    "        \n",
    "f = []\n",
    "f_04 = []\n",
    "mypath_04 = pathBase + 'chr_04'\n",
    "for (dirpath, dirnames, filenames) in walk(mypath_04):\n",
    "    f.extend(filenames)\n",
    "for l in f:\n",
    "    f_04.append(mypath_04 + '\\\\' + l)    \n",
    "        \n",
    "f = []\n",
    "f_05 = []\n",
    "mypath_05 = pathBase + 'chr_05'\n",
    "for (dirpath, dirnames, filenames) in walk(mypath_05):\n",
    "    f.extend(filenames)\n",
    "for l in f:\n",
    "    f_05.append(mypath_05 + '\\\\' + l)    \n",
    "        \n",
    "f = []\n",
    "f_06 = []\n",
    "mypath_06 = pathBase + 'chr_06'\n",
    "for (dirpath, dirnames, filenames) in walk(mypath_06):\n",
    "    f.extend(filenames)\n",
    "for l in f:\n",
    "    f_06.append(mypath_06 + '\\\\' + l)    \n",
    "    \n",
    "f = []\n",
    "f_07 = []\n",
    "mypath_07 = pathBase + 'chr_07'\n",
    "for (dirpath, dirnames, filenames) in walk(mypath_07):\n",
    "    f.extend(filenames)\n",
    "for l in f:\n",
    "    f_07.append(mypath_07 + '\\\\' + l)    \n",
    "        \n",
    "f = []\n",
    "f_08 = []\n",
    "mypath_08 = pathBase + 'chr_08'\n",
    "for (dirpath, dirnames, filenames) in walk(mypath_08):\n",
    "    f.extend(filenames)\n",
    "for l in f:\n",
    "    f_08.append(mypath_08 + '\\\\' + l)    \n",
    "        \n",
    "f = []\n",
    "f_09 = []\n",
    "mypath_09 = pathBase + 'chr_09'\n",
    "for (dirpath, dirnames, filenames) in walk(mypath_09):\n",
    "    f.extend(filenames)\n",
    "for l in f:\n",
    "    f_09.append(mypath_09 + '\\\\' + l)    \n",
    "    \n",
    "f = []\n",
    "f_10 = []\n",
    "mypath_10 = pathBase + 'chr_10'\n",
    "for (dirpath, dirnames, filenames) in walk(mypath_10):\n",
    "    f.extend(filenames)\n",
    "for l in f:\n",
    "    f_10.append(mypath_10 + '\\\\' + l)    \n",
    "    \n",
    "f = []\n",
    "f_11 = []\n",
    "mypath_11 = pathBase + 'chr_11'\n",
    "for (dirpath, dirnames, filenames) in walk(mypath_11):\n",
    "    f.extend(filenames)\n",
    "for l in f:\n",
    "    f_11.append(mypath_11 + '\\\\' + l)    \n",
    "    \n",
    "    \n",
    "f = []\n",
    "f_12 = []\n",
    "mypath_12 = pathBase + 'chr_12'\n",
    "for (dirpath, dirnames, filenames) in walk(mypath_12):\n",
    "    f.extend(filenames)\n",
    "for l in f:\n",
    "    f_12.append(mypath_12 + '\\\\' + l)    \n",
    "    \n",
    "    \n",
    "f = []\n",
    "f_13 = []\n",
    "mypath_13 = pathBase + 'chr_13'\n",
    "for (dirpath, dirnames, filenames) in walk(mypath_13):\n",
    "    f.extend(filenames)\n",
    "for l in f:\n",
    "    f_13.append(mypath_13 + '\\\\' + l)    \n",
    "    \n",
    "    \n",
    "f = []\n",
    "f_14 = []\n",
    "mypath_14 = pathBase + 'chr_14'\n",
    "for (dirpath, dirnames, filenames) in walk(mypath_14):\n",
    "    f.extend(filenames)\n",
    "for l in f:\n",
    "    f_14.append(mypath_14 + '\\\\' + l)    \n",
    "    \n",
    "\n",
    "    \n",
    "f = []\n",
    "f_15 = []\n",
    "mypath_15 = pathBase + 'chr_15'\n",
    "for (dirpath, dirnames, filenames) in walk(mypath_15):\n",
    "    f.extend(filenames)\n",
    "for l in f:\n",
    "    f_15.append(mypath_15 + '\\\\' + l)    \n",
    "    \n",
    "        \n",
    "f = []\n",
    "f_16 = []\n",
    "mypath_16 = pathBase + 'chr_16'\n",
    "for (dirpath, dirnames, filenames) in walk(mypath_16):\n",
    "    f.extend(filenames)\n",
    "for l in f:\n",
    "    f_16.append(mypath_16 + '\\\\' + l)    \n",
    "    \n",
    "        \n",
    "f = []\n",
    "f_17 = []\n",
    "mypath_17 = pathBase + 'chr_17'\n",
    "for (dirpath, dirnames, filenames) in walk(mypath_17):\n",
    "    f.extend(filenames)\n",
    "for l in f:\n",
    "    f_17.append(mypath_17 + '\\\\' + l)    \n",
    "    \n",
    "        \n",
    "f = []\n",
    "f_18 = []\n",
    "mypath_18 = pathBase + 'chr_18'\n",
    "for (dirpath, dirnames, filenames) in walk(mypath_18):\n",
    "    f.extend(filenames)\n",
    "for l in f:\n",
    "    f_18.append(mypath_18 + '\\\\' + l)    \n",
    "    \n",
    "        \n",
    "f = []\n",
    "f_19 = []\n",
    "mypath_19 = pathBase + 'chr_19'\n",
    "for (dirpath, dirnames, filenames) in walk(mypath_19):\n",
    "    f.extend(filenames)\n",
    "for l in f:\n",
    "    f_19.append(mypath_19 + '\\\\' + l)    \n",
    "    \n",
    "        \n",
    "f = []\n",
    "f_20 = []\n",
    "mypath_20 = pathBase + 'chr_20'\n",
    "for (dirpath, dirnames, filenames) in walk(mypath_20):\n",
    "    f.extend(filenames)\n",
    "for l in f:\n",
    "    f_20.append(mypath_20 + '\\\\' + l)    \n",
    "   \n",
    "        \n",
    "f = []\n",
    "f_21 = []\n",
    "mypath_21 = pathBase + 'chr_21'\n",
    "for (dirpath, dirnames, filenames) in walk(mypath_21):\n",
    "    f.extend(filenames)\n",
    "for l in f:\n",
    "    f_21.append(mypath_21 + '\\\\' + l)    \n",
    "   \n",
    "        \n",
    "f = []\n",
    "f_22 = []\n",
    "mypath_22 = pathBase + 'chr_22'\n",
    "for (dirpath, dirnames, filenames) in walk(mypath_22):\n",
    "    f.extend(filenames)\n",
    "for l in f:\n",
    "    f_22.append(mypath_22 + '\\\\' + l)    \n",
    "   \n",
    "f = []\n",
    "f_x = []\n",
    "mypath_x = pathBase + 'chr_x'\n",
    "for (dirpath, dirnames, filenames) in walk(mypath_x):\n",
    "    f.extend(filenames)\n",
    "for l in f:\n",
    "    f_x.append(mypath_x + '\\\\' + l)    \n",
    "   \n",
    "f = []\n",
    "f_y = []\n",
    "mypath_y = pathBase + 'chr_y'\n",
    "for (dirpath, dirnames, filenames) in walk(mypath_y):\n",
    "    f.extend(filenames)\n",
    "for l in f:\n",
    "    f_y.append(mypath_y + '\\\\' + l)  \n",
    "    \n",
    "# ///////// Abnormal ones //////////////\n",
    "\n",
    "f = []\n",
    "f_18_p11_deletion = []\n",
    "mypath_18_p11_deletion = pathBase + 'chr_18_p11_deletion'\n",
    "for (dirpath, dirnames, filenames) in walk(mypath_18_p11_deletion):\n",
    "    f.extend(filenames)\n",
    "for l in f:\n",
    "    f_18_p11_deletion.append(mypath_18_p11_deletion + '\\\\' + l)  \n",
    "\n",
    "\n",
    "f = []\n",
    "f_18_q10_isochromosome = []\n",
    "mypath_18_q10_isochromosome = pathBase + 'chr_18_q10_isochromosome'\n",
    "for (dirpath, dirnames, filenames) in walk(mypath_18_q10_isochromosome):\n",
    "    f.extend(filenames)\n",
    "for l in f:\n",
    "    f_18_q10_isochromosome.append(mypath_18_q10_isochromosome + '\\\\' + l)  \n",
    "    \n",
    "# ///////// Abnormal ones //////////////\n",
    "\n",
    "f = []\n",
    "f_9_inversion = []\n",
    "mypath_9_inversion = pathBase + 'chr_9_inversion'\n",
    "for (dirpath, dirnames, filenames) in walk(mypath_9_inversion):\n",
    "    f.extend(filenames)\n",
    "for l in f:\n",
    "    f_9_inversion.append(mypath_9_inversion + '\\\\' + l)  \n",
    "    \n",
    "\n",
    "f = []\n",
    "f_5_p14_deletion = []\n",
    "mypath_5_p14_deletion = pathBase + 'chr_5_p14_deletion'\n",
    "for (dirpath, dirnames, filenames) in walk(mypath_5_p14_deletion):\n",
    "    f.extend(filenames)\n",
    "for l in f:\n",
    "    f_5_p14_deletion.append(mypath_5_p14_deletion + '\\\\' + l)  \n",
    "    \n",
    "\n",
    "f = []\n",
    "f_x_isochromosome = []\n",
    "mypath_x_isochromosome = pathBase + 'chr_x_isochromosome'\n",
    "for (dirpath, dirnames, filenames) in walk(mypath_x_isochromosome):\n",
    "    f.extend(filenames)\n",
    "for l in f:\n",
    "    f_x_isochromosome.append(mypath_x_isochromosome + '\\\\' + l)  \n",
    "    \n",
    "    \n",
    "f = []\n",
    "f_x_p22_cnv = []\n",
    "mypath_x_p22_cnv = pathBase + 'chr_x_p22_cnv'\n",
    "for (dirpath, dirnames, filenames) in walk(mypath_x_p22_cnv):\n",
    "    f.extend(filenames)\n",
    "for l in f:\n",
    "    f_x_p22_cnv.append(mypath_x_p22_cnv + '\\\\' + l)\n",
    "    \n",
    "    \n",
    "f = []\n",
    "f_x_q21_cnv = []\n",
    "mypath_x_q21_cnv = pathBase + 'chr_x_q21_cnv'\n",
    "for (dirpath, dirnames, filenames) in walk(mypath_x_q21_cnv):\n",
    "    f.extend(filenames)\n",
    "for l in f:\n",
    "    f_x_q21_cnv.append(mypath_x_q21_cnv + '\\\\' + l)  \n",
    "    \n",
    "    \n",
    "f = []\n",
    "f_x_q22_deletion = []\n",
    "mypath_x_q22_deletion = pathBase + 'chr_x_q22_deletion'\n",
    "for (dirpath, dirnames, filenames) in walk(mypath_x_q22_deletion):\n",
    "    f.extend(filenames)\n",
    "for l in f:\n",
    "    f_x_q22_deletion.append(mypath_x_q22_deletion + '\\\\' + l)      \n",
    "\n",
    "    \n",
    "theWhole['chr_01'] = f_01\n",
    "theWhole['chr_02'] = f_02\n",
    "theWhole['chr_03'] = f_03\n",
    "theWhole['chr_04'] = f_04\n",
    "theWhole['chr_05'] = f_05\n",
    "theWhole['chr_06'] = f_06\n",
    "theWhole['chr_07'] = f_07\n",
    "theWhole['chr_08'] = f_08\n",
    "theWhole['chr_09'] = f_09\n",
    "theWhole['chr_10'] = f_10\n",
    "theWhole['chr_11'] = f_11\n",
    "theWhole['chr_12'] = f_12\n",
    "theWhole['chr_13'] = f_13\n",
    "theWhole['chr_14'] = f_14\n",
    "theWhole['chr_15'] = f_15\n",
    "theWhole['chr_16'] = f_16\n",
    "theWhole['chr_17'] = f_17\n",
    "theWhole['chr_18'] = f_18\n",
    "theWhole['chr_19'] = f_19\n",
    "theWhole['chr_20'] = f_20\n",
    "theWhole['chr_21'] = f_21\n",
    "theWhole['chr_22'] = f_22\n",
    "theWhole['chr_x'] = f_x\n",
    "theWhole['chr_y'] = f_y\n",
    "\n",
    "theWhole['chr_18_p11_deletion'] = f_18_p11_deletion\n",
    "theWhole['chr_18_q10_isochromosome'] = f_18_q10_isochromosome\n",
    "\n",
    "theWhole['chr_9_inversion'] = f_9_inversion\n",
    "\n",
    "theWhole['chr_5_p14_deletion'] = f_5_p14_deletion    \n",
    "\n",
    "theWhole['chr_x_isochromosome'] = f_x_isochromosome\n",
    "theWhole['chr_x_p22_cnv'] = f_x_p22_cnv\n",
    "theWhole['chr_x_q21_cnv'] = f_x_q21_cnv\n",
    "theWhole['chr_x_q22_deletion'] = f_x_q22_deletion"
   ]
  },
  {
   "cell_type": "code",
   "execution_count": 4,
   "metadata": {
    "colab": {},
    "colab_type": "code",
    "id": "6d8Ej2MShM8K",
    "outputId": "da32c938-49bb-4cec-9ded-708887ff9d05",
    "scrolled": true
   },
   "outputs": [
    {
     "data": {
      "text/plain": [
       "[]"
      ]
     },
     "execution_count": 4,
     "metadata": {},
     "output_type": "execute_result"
    }
   ],
   "source": [
    "theWhole['chr_x']"
   ]
  },
  {
   "cell_type": "code",
   "execution_count": 5,
   "metadata": {},
   "outputs": [
    {
     "data": {
      "text/plain": [
       "list"
      ]
     },
     "execution_count": 5,
     "metadata": {},
     "output_type": "execute_result"
    }
   ],
   "source": [
    "type(theWhole['chr_x'])"
   ]
  },
  {
   "cell_type": "code",
   "execution_count": 6,
   "metadata": {},
   "outputs": [
    {
     "data": {
      "text/plain": [
       "32"
      ]
     },
     "execution_count": 6,
     "metadata": {},
     "output_type": "execute_result"
    }
   ],
   "source": [
    "len(theWhole)"
   ]
  },
  {
   "cell_type": "code",
   "execution_count": 7,
   "metadata": {},
   "outputs": [
    {
     "data": {
      "text/plain": [
       "dict"
      ]
     },
     "execution_count": 7,
     "metadata": {},
     "output_type": "execute_result"
    }
   ],
   "source": [
    "type(theWhole)"
   ]
  },
  {
   "cell_type": "code",
   "execution_count": 8,
   "metadata": {},
   "outputs": [
    {
     "data": {
      "text/plain": [
       "dict_keys(['chr_01', 'chr_02', 'chr_03', 'chr_04', 'chr_05', 'chr_06', 'chr_07', 'chr_08', 'chr_09', 'chr_10', 'chr_11', 'chr_12', 'chr_13', 'chr_14', 'chr_15', 'chr_16', 'chr_17', 'chr_18', 'chr_19', 'chr_20', 'chr_21', 'chr_22', 'chr_x', 'chr_y', 'chr_18_p11_deletion', 'chr_18_q10_isochromosome', 'chr_9_inversion', 'chr_5_p14_deletion', 'chr_x_isochromosome', 'chr_x_p22_cnv', 'chr_x_q21_cnv', 'chr_x_q22_deletion'])"
      ]
     },
     "execution_count": 8,
     "metadata": {},
     "output_type": "execute_result"
    }
   ],
   "source": [
    "theWhole.keys()"
   ]
  },
  {
   "cell_type": "code",
   "execution_count": 9,
   "metadata": {
    "scrolled": true
   },
   "outputs": [],
   "source": [
    "theWholeCount_dict = {}\n",
    "for chromosome in theWhole.keys():\n",
    "    theWholeCount_dict[chromosome] = 0\n",
    "    i = 0\n",
    "    for item in theWhole[chromosome]:\n",
    "        i = i + 1\n",
    "        theWholeCount_dict[chromosome] = i"
   ]
  },
  {
   "cell_type": "code",
   "execution_count": 10,
   "metadata": {
    "scrolled": true
   },
   "outputs": [
    {
     "data": {
      "text/plain": [
       "{'chr_01': 0,\n",
       " 'chr_02': 0,\n",
       " 'chr_03': 0,\n",
       " 'chr_04': 0,\n",
       " 'chr_05': 0,\n",
       " 'chr_06': 0,\n",
       " 'chr_07': 0,\n",
       " 'chr_08': 0,\n",
       " 'chr_09': 0,\n",
       " 'chr_10': 0,\n",
       " 'chr_11': 0,\n",
       " 'chr_12': 0,\n",
       " 'chr_13': 0,\n",
       " 'chr_14': 0,\n",
       " 'chr_15': 0,\n",
       " 'chr_16': 0,\n",
       " 'chr_17': 0,\n",
       " 'chr_18': 0,\n",
       " 'chr_19': 0,\n",
       " 'chr_20': 0,\n",
       " 'chr_21': 0,\n",
       " 'chr_22': 0,\n",
       " 'chr_x': 0,\n",
       " 'chr_y': 0,\n",
       " 'chr_18_p11_deletion': 0,\n",
       " 'chr_18_q10_isochromosome': 0,\n",
       " 'chr_9_inversion': 0,\n",
       " 'chr_5_p14_deletion': 0,\n",
       " 'chr_x_isochromosome': 0,\n",
       " 'chr_x_p22_cnv': 0,\n",
       " 'chr_x_q21_cnv': 0,\n",
       " 'chr_x_q22_deletion': 0}"
      ]
     },
     "execution_count": 10,
     "metadata": {},
     "output_type": "execute_result"
    }
   ],
   "source": [
    "theWholeCount_dict"
   ]
  },
  {
   "cell_type": "code",
   "execution_count": 11,
   "metadata": {},
   "outputs": [],
   "source": [
    "theWholeCount_list = []\n",
    "for item in theWholeCount_dict.items():\n",
    "    theWholeCount_list.append(item)"
   ]
  },
  {
   "cell_type": "code",
   "execution_count": 12,
   "metadata": {},
   "outputs": [
    {
     "data": {
      "text/plain": [
       "[('chr_01', 0),\n",
       " ('chr_02', 0),\n",
       " ('chr_03', 0),\n",
       " ('chr_04', 0),\n",
       " ('chr_05', 0),\n",
       " ('chr_06', 0),\n",
       " ('chr_07', 0),\n",
       " ('chr_08', 0),\n",
       " ('chr_09', 0),\n",
       " ('chr_10', 0),\n",
       " ('chr_11', 0),\n",
       " ('chr_12', 0),\n",
       " ('chr_13', 0),\n",
       " ('chr_14', 0),\n",
       " ('chr_15', 0),\n",
       " ('chr_16', 0),\n",
       " ('chr_17', 0),\n",
       " ('chr_18', 0),\n",
       " ('chr_19', 0),\n",
       " ('chr_20', 0),\n",
       " ('chr_21', 0),\n",
       " ('chr_22', 0),\n",
       " ('chr_x', 0),\n",
       " ('chr_y', 0),\n",
       " ('chr_18_p11_deletion', 0),\n",
       " ('chr_18_q10_isochromosome', 0),\n",
       " ('chr_9_inversion', 0),\n",
       " ('chr_5_p14_deletion', 0),\n",
       " ('chr_x_isochromosome', 0),\n",
       " ('chr_x_p22_cnv', 0),\n",
       " ('chr_x_q21_cnv', 0),\n",
       " ('chr_x_q22_deletion', 0)]"
      ]
     },
     "execution_count": 12,
     "metadata": {},
     "output_type": "execute_result"
    }
   ],
   "source": [
    "theWholeCount_list"
   ]
  },
  {
   "cell_type": "code",
   "execution_count": 13,
   "metadata": {},
   "outputs": [],
   "source": [
    "theWholeCount_npArray = np.array(theWholeCount_list)"
   ]
  },
  {
   "cell_type": "code",
   "execution_count": 14,
   "metadata": {
    "scrolled": true
   },
   "outputs": [
    {
     "data": {
      "text/plain": [
       "array([['chr_01', '0'],\n",
       "       ['chr_02', '0'],\n",
       "       ['chr_03', '0'],\n",
       "       ['chr_04', '0'],\n",
       "       ['chr_05', '0'],\n",
       "       ['chr_06', '0'],\n",
       "       ['chr_07', '0'],\n",
       "       ['chr_08', '0'],\n",
       "       ['chr_09', '0'],\n",
       "       ['chr_10', '0'],\n",
       "       ['chr_11', '0'],\n",
       "       ['chr_12', '0'],\n",
       "       ['chr_13', '0'],\n",
       "       ['chr_14', '0'],\n",
       "       ['chr_15', '0'],\n",
       "       ['chr_16', '0'],\n",
       "       ['chr_17', '0'],\n",
       "       ['chr_18', '0'],\n",
       "       ['chr_19', '0'],\n",
       "       ['chr_20', '0'],\n",
       "       ['chr_21', '0'],\n",
       "       ['chr_22', '0'],\n",
       "       ['chr_x', '0'],\n",
       "       ['chr_y', '0'],\n",
       "       ['chr_18_p11_deletion', '0'],\n",
       "       ['chr_18_q10_isochromosome', '0'],\n",
       "       ['chr_9_inversion', '0'],\n",
       "       ['chr_5_p14_deletion', '0'],\n",
       "       ['chr_x_isochromosome', '0'],\n",
       "       ['chr_x_p22_cnv', '0'],\n",
       "       ['chr_x_q21_cnv', '0'],\n",
       "       ['chr_x_q22_deletion', '0']], dtype='<U24')"
      ]
     },
     "execution_count": 14,
     "metadata": {},
     "output_type": "execute_result"
    }
   ],
   "source": [
    "theWholeCount_npArray"
   ]
  },
  {
   "cell_type": "code",
   "execution_count": 15,
   "metadata": {},
   "outputs": [],
   "source": [
    "theWholeCount_DataFrame = pd.DataFrame(theWholeCount_npArray, columns=['Chromosome', 'Count'])"
   ]
  },
  {
   "cell_type": "code",
   "execution_count": 16,
   "metadata": {},
   "outputs": [
    {
     "data": {
      "text/html": [
       "<div>\n",
       "<style scoped>\n",
       "    .dataframe tbody tr th:only-of-type {\n",
       "        vertical-align: middle;\n",
       "    }\n",
       "\n",
       "    .dataframe tbody tr th {\n",
       "        vertical-align: top;\n",
       "    }\n",
       "\n",
       "    .dataframe thead th {\n",
       "        text-align: right;\n",
       "    }\n",
       "</style>\n",
       "<table border=\"1\" class=\"dataframe\">\n",
       "  <thead>\n",
       "    <tr style=\"text-align: right;\">\n",
       "      <th></th>\n",
       "      <th>Chromosome</th>\n",
       "      <th>Count</th>\n",
       "    </tr>\n",
       "  </thead>\n",
       "  <tbody>\n",
       "    <tr>\n",
       "      <th>0</th>\n",
       "      <td>chr_01</td>\n",
       "      <td>0</td>\n",
       "    </tr>\n",
       "    <tr>\n",
       "      <th>1</th>\n",
       "      <td>chr_02</td>\n",
       "      <td>0</td>\n",
       "    </tr>\n",
       "    <tr>\n",
       "      <th>2</th>\n",
       "      <td>chr_03</td>\n",
       "      <td>0</td>\n",
       "    </tr>\n",
       "    <tr>\n",
       "      <th>3</th>\n",
       "      <td>chr_04</td>\n",
       "      <td>0</td>\n",
       "    </tr>\n",
       "    <tr>\n",
       "      <th>4</th>\n",
       "      <td>chr_05</td>\n",
       "      <td>0</td>\n",
       "    </tr>\n",
       "    <tr>\n",
       "      <th>5</th>\n",
       "      <td>chr_06</td>\n",
       "      <td>0</td>\n",
       "    </tr>\n",
       "    <tr>\n",
       "      <th>6</th>\n",
       "      <td>chr_07</td>\n",
       "      <td>0</td>\n",
       "    </tr>\n",
       "    <tr>\n",
       "      <th>7</th>\n",
       "      <td>chr_08</td>\n",
       "      <td>0</td>\n",
       "    </tr>\n",
       "    <tr>\n",
       "      <th>8</th>\n",
       "      <td>chr_09</td>\n",
       "      <td>0</td>\n",
       "    </tr>\n",
       "    <tr>\n",
       "      <th>9</th>\n",
       "      <td>chr_10</td>\n",
       "      <td>0</td>\n",
       "    </tr>\n",
       "    <tr>\n",
       "      <th>10</th>\n",
       "      <td>chr_11</td>\n",
       "      <td>0</td>\n",
       "    </tr>\n",
       "    <tr>\n",
       "      <th>11</th>\n",
       "      <td>chr_12</td>\n",
       "      <td>0</td>\n",
       "    </tr>\n",
       "    <tr>\n",
       "      <th>12</th>\n",
       "      <td>chr_13</td>\n",
       "      <td>0</td>\n",
       "    </tr>\n",
       "    <tr>\n",
       "      <th>13</th>\n",
       "      <td>chr_14</td>\n",
       "      <td>0</td>\n",
       "    </tr>\n",
       "    <tr>\n",
       "      <th>14</th>\n",
       "      <td>chr_15</td>\n",
       "      <td>0</td>\n",
       "    </tr>\n",
       "    <tr>\n",
       "      <th>15</th>\n",
       "      <td>chr_16</td>\n",
       "      <td>0</td>\n",
       "    </tr>\n",
       "    <tr>\n",
       "      <th>16</th>\n",
       "      <td>chr_17</td>\n",
       "      <td>0</td>\n",
       "    </tr>\n",
       "    <tr>\n",
       "      <th>17</th>\n",
       "      <td>chr_18</td>\n",
       "      <td>0</td>\n",
       "    </tr>\n",
       "    <tr>\n",
       "      <th>18</th>\n",
       "      <td>chr_19</td>\n",
       "      <td>0</td>\n",
       "    </tr>\n",
       "    <tr>\n",
       "      <th>19</th>\n",
       "      <td>chr_20</td>\n",
       "      <td>0</td>\n",
       "    </tr>\n",
       "    <tr>\n",
       "      <th>20</th>\n",
       "      <td>chr_21</td>\n",
       "      <td>0</td>\n",
       "    </tr>\n",
       "    <tr>\n",
       "      <th>21</th>\n",
       "      <td>chr_22</td>\n",
       "      <td>0</td>\n",
       "    </tr>\n",
       "    <tr>\n",
       "      <th>22</th>\n",
       "      <td>chr_x</td>\n",
       "      <td>0</td>\n",
       "    </tr>\n",
       "    <tr>\n",
       "      <th>23</th>\n",
       "      <td>chr_y</td>\n",
       "      <td>0</td>\n",
       "    </tr>\n",
       "    <tr>\n",
       "      <th>24</th>\n",
       "      <td>chr_18_p11_deletion</td>\n",
       "      <td>0</td>\n",
       "    </tr>\n",
       "    <tr>\n",
       "      <th>25</th>\n",
       "      <td>chr_18_q10_isochromosome</td>\n",
       "      <td>0</td>\n",
       "    </tr>\n",
       "    <tr>\n",
       "      <th>26</th>\n",
       "      <td>chr_9_inversion</td>\n",
       "      <td>0</td>\n",
       "    </tr>\n",
       "    <tr>\n",
       "      <th>27</th>\n",
       "      <td>chr_5_p14_deletion</td>\n",
       "      <td>0</td>\n",
       "    </tr>\n",
       "    <tr>\n",
       "      <th>28</th>\n",
       "      <td>chr_x_isochromosome</td>\n",
       "      <td>0</td>\n",
       "    </tr>\n",
       "    <tr>\n",
       "      <th>29</th>\n",
       "      <td>chr_x_p22_cnv</td>\n",
       "      <td>0</td>\n",
       "    </tr>\n",
       "    <tr>\n",
       "      <th>30</th>\n",
       "      <td>chr_x_q21_cnv</td>\n",
       "      <td>0</td>\n",
       "    </tr>\n",
       "    <tr>\n",
       "      <th>31</th>\n",
       "      <td>chr_x_q22_deletion</td>\n",
       "      <td>0</td>\n",
       "    </tr>\n",
       "  </tbody>\n",
       "</table>\n",
       "</div>"
      ],
      "text/plain": [
       "                  Chromosome Count\n",
       "0                     chr_01     0\n",
       "1                     chr_02     0\n",
       "2                     chr_03     0\n",
       "3                     chr_04     0\n",
       "4                     chr_05     0\n",
       "5                     chr_06     0\n",
       "6                     chr_07     0\n",
       "7                     chr_08     0\n",
       "8                     chr_09     0\n",
       "9                     chr_10     0\n",
       "10                    chr_11     0\n",
       "11                    chr_12     0\n",
       "12                    chr_13     0\n",
       "13                    chr_14     0\n",
       "14                    chr_15     0\n",
       "15                    chr_16     0\n",
       "16                    chr_17     0\n",
       "17                    chr_18     0\n",
       "18                    chr_19     0\n",
       "19                    chr_20     0\n",
       "20                    chr_21     0\n",
       "21                    chr_22     0\n",
       "22                     chr_x     0\n",
       "23                     chr_y     0\n",
       "24       chr_18_p11_deletion     0\n",
       "25  chr_18_q10_isochromosome     0\n",
       "26           chr_9_inversion     0\n",
       "27        chr_5_p14_deletion     0\n",
       "28       chr_x_isochromosome     0\n",
       "29             chr_x_p22_cnv     0\n",
       "30             chr_x_q21_cnv     0\n",
       "31        chr_x_q22_deletion     0"
      ]
     },
     "execution_count": 16,
     "metadata": {},
     "output_type": "execute_result"
    }
   ],
   "source": [
    "theWholeCount_DataFrame"
   ]
  },
  {
   "cell_type": "code",
   "execution_count": 17,
   "metadata": {},
   "outputs": [],
   "source": [
    "theWholeCount_DataFrame.to_excel('theWholeCount.xlsx')"
   ]
  },
  {
   "cell_type": "code",
   "execution_count": 18,
   "metadata": {},
   "outputs": [
    {
     "ename": "IndexError",
     "evalue": "list index out of range",
     "output_type": "error",
     "traceback": [
      "\u001b[1;31m---------------------------------------------------------------------------\u001b[0m",
      "\u001b[1;31mIndexError\u001b[0m                                Traceback (most recent call last)",
      "\u001b[1;32m<ipython-input-18-c95250861df0>\u001b[0m in \u001b[0;36m<module>\u001b[1;34m\u001b[0m\n\u001b[1;32m----> 1\u001b[1;33m \u001b[0mtheWhole\u001b[0m\u001b[1;33m[\u001b[0m\u001b[1;34m'chr_01'\u001b[0m\u001b[1;33m]\u001b[0m\u001b[1;33m[\u001b[0m\u001b[1;36m0\u001b[0m\u001b[1;33m]\u001b[0m\u001b[1;33m.\u001b[0m\u001b[0msplit\u001b[0m\u001b[1;33m(\u001b[0m\u001b[1;34m'\\\\'\u001b[0m\u001b[1;33m)\u001b[0m\u001b[1;33m\u001b[0m\u001b[1;33m\u001b[0m\u001b[0m\n\u001b[0m",
      "\u001b[1;31mIndexError\u001b[0m: list index out of range"
     ]
    }
   ],
   "source": [
    "theWhole['chr_01'][0].split('\\\\')"
   ]
  },
  {
   "cell_type": "code",
   "execution_count": null,
   "metadata": {},
   "outputs": [],
   "source": [
    "theWholeSampleID = {}\n",
    "\n",
    "for chromosome in theWhole.keys():\n",
    "    theWholeSampleID[chromosome] = []\n",
    "    for item in theWhole[chromosome]:\n",
    "        item_short = item.split('\\\\')[-1]\n",
    "        theWholeSampleID[chromosome].append(item_short)\n",
    "        \n",
    "        "
   ]
  },
  {
   "cell_type": "code",
   "execution_count": null,
   "metadata": {
    "scrolled": true
   },
   "outputs": [],
   "source": [
    "theWholeSampleID"
   ]
  },
  {
   "cell_type": "code",
   "execution_count": null,
   "metadata": {},
   "outputs": [],
   "source": [
    "theWholeSampleID_list = []\n",
    "for chromosome in theWholeSampleID.keys():\n",
    "    \n",
    "    for item in theWholeSampleID[chromosome]:\n",
    "        theWholeSampleID_list.append([chromosome, item])\n",
    "        \n",
    "        "
   ]
  },
  {
   "cell_type": "code",
   "execution_count": null,
   "metadata": {},
   "outputs": [],
   "source": [
    "theWholeSampleID_list"
   ]
  },
  {
   "cell_type": "code",
   "execution_count": null,
   "metadata": {},
   "outputs": [],
   "source": [
    "len(theWholeSampleID_list)"
   ]
  },
  {
   "cell_type": "code",
   "execution_count": null,
   "metadata": {
    "scrolled": true
   },
   "outputs": [],
   "source": [
    "theWholeSampleID_npArray = np.array(theWholeSampleID_list)\n",
    "theWholeSampleID_DataFrame = pd.DataFrame(theWholeSampleID_npArray, columns=['Chromosome', 'Sample ID'])"
   ]
  },
  {
   "cell_type": "code",
   "execution_count": null,
   "metadata": {
    "scrolled": true
   },
   "outputs": [],
   "source": [
    "theWholeSampleID_npArray"
   ]
  },
  {
   "cell_type": "code",
   "execution_count": null,
   "metadata": {
    "scrolled": false
   },
   "outputs": [],
   "source": [
    "theWholeSampleID_DataFrame"
   ]
  },
  {
   "cell_type": "code",
   "execution_count": null,
   "metadata": {},
   "outputs": [],
   "source": [
    "theWholeSampleID_DataFrame.to_excel('theWholeSampleID.xlsx')"
   ]
  },
  {
   "cell_type": "code",
   "execution_count": null,
   "metadata": {},
   "outputs": [],
   "source": [
    "theWholePatientID_list = []\n",
    "for chromosome in theWholeSampleID.keys():\n",
    "    \n",
    "    for item in theWholeSampleID[chromosome]:\n",
    "        theWholePatientID_list.append([chromosome, item[:6]])"
   ]
  },
  {
   "cell_type": "code",
   "execution_count": null,
   "metadata": {},
   "outputs": [],
   "source": [
    "theWholePatientID_list"
   ]
  },
  {
   "cell_type": "code",
   "execution_count": null,
   "metadata": {},
   "outputs": [],
   "source": [
    "theWholePatientID_npArray = np.array(theWholePatientID_list)\n",
    "theWholePatientID_DataFrame = pd.DataFrame(theWholePatientID_npArray, columns=['Chromosome', 'Patient ID'])\n",
    "theWholePatientID_DataFrame.to_excel('theWholePatientID.xlsx')"
   ]
  },
  {
   "cell_type": "code",
   "execution_count": null,
   "metadata": {},
   "outputs": [],
   "source": [
    "theWholePatientID_npArray_unique = np.unique(theWholePatientID_npArray, axis=0)\n",
    "\n",
    "theWholePatientID_DataFrame_unique = pd.DataFrame(theWholePatientID_npArray_unique, columns=['Chromosome', 'Patient ID'])\n",
    "theWholePatientID_DataFrame_unique.to_excel('theWholePatientID_unique.xlsx')"
   ]
  },
  {
   "cell_type": "code",
   "execution_count": null,
   "metadata": {},
   "outputs": [],
   "source": [
    "theWholePatientID_npArray[:,1]"
   ]
  },
  {
   "cell_type": "code",
   "execution_count": null,
   "metadata": {},
   "outputs": [],
   "source": [
    "patient_unique = np.unique(theWholePatientID_npArray[:,1])"
   ]
  },
  {
   "cell_type": "code",
   "execution_count": null,
   "metadata": {},
   "outputs": [],
   "source": [
    "patient_unique"
   ]
  },
  {
   "cell_type": "code",
   "execution_count": null,
   "metadata": {},
   "outputs": [],
   "source": [
    "patient_unique_series = pd.Series(patient_unique)"
   ]
  },
  {
   "cell_type": "code",
   "execution_count": null,
   "metadata": {},
   "outputs": [],
   "source": [
    "patient_unique_series.to_excel('Unique_patientID.xlsx')"
   ]
  },
  {
   "cell_type": "code",
   "execution_count": null,
   "metadata": {},
   "outputs": [],
   "source": [
    "len(patient_unique)"
   ]
  },
  {
   "cell_type": "code",
   "execution_count": null,
   "metadata": {},
   "outputs": [],
   "source": [
    "# scikit-learn k-fold cross-validation\n",
    "from numpy import array\n",
    "from sklearn.model_selection import KFold\n",
    "# data sample\n",
    "data = array([0.1, 0.2, 0.3, 0.4, 0.5, 0.6])\n",
    "# prepare cross validation\n",
    "kfold = KFold(3, True, 1)\n",
    "# enumerate splits\n",
    "for train, test in kfold.split(data):\n",
    "\tprint('train: %s, test: %s' % (data[train], data[test]))"
   ]
  },
  {
   "cell_type": "code",
   "execution_count": null,
   "metadata": {},
   "outputs": [],
   "source": [
    "kfold = KFold(7, True, 1)\n",
    "\n",
    "kfold.split(theWhole['chr_01'])"
   ]
  },
  {
   "cell_type": "code",
   "execution_count": null,
   "metadata": {},
   "outputs": [],
   "source": [
    "X_train_name = []\n",
    "X_test_name = []\n",
    "\n",
    "for train, test in kfold.split(theWhole['chr_01']):\n",
    "    print('Train: ', train, 'Test: ', test)\n",
    "    X_train_name = []\n",
    "    X_test_name = []\n",
    "    for item in train:\n",
    "        X_train_name.append(theWhole['chr_01'][item])\n",
    "    for item in test:\n",
    "        X_test_name.append(theWhole['chr_01'][item])"
   ]
  },
  {
   "cell_type": "code",
   "execution_count": null,
   "metadata": {},
   "outputs": [],
   "source": [
    "len(X_train_name)"
   ]
  },
  {
   "cell_type": "code",
   "execution_count": null,
   "metadata": {},
   "outputs": [],
   "source": [
    "len(X_test_name)"
   ]
  },
  {
   "cell_type": "code",
   "execution_count": null,
   "metadata": {},
   "outputs": [],
   "source": [
    "len(theWhole['chr_01'])"
   ]
  },
  {
   "cell_type": "code",
   "execution_count": null,
   "metadata": {},
   "outputs": [],
   "source": []
  }
 ],
 "metadata": {
  "anaconda-cloud": {},
  "celltoolbar": "Slideshow",
  "colab": {
   "name": "KaryoChimneyRock_FullyConnectedNN.ipynb",
   "provenance": []
  },
  "kernelspec": {
   "display_name": "Python 3",
   "language": "python",
   "name": "python3"
  },
  "language_info": {
   "codemirror_mode": {
    "name": "ipython",
    "version": 3
   },
   "file_extension": ".py",
   "mimetype": "text/x-python",
   "name": "python",
   "nbconvert_exporter": "python",
   "pygments_lexer": "ipython3",
   "version": "3.7.3"
  }
 },
 "nbformat": 4,
 "nbformat_minor": 1
}
