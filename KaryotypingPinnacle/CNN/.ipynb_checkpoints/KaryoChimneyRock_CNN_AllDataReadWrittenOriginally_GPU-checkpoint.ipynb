{
 "cells": [
  {
   "cell_type": "markdown",
   "metadata": {
    "colab_type": "text",
    "id": "slIdjqTJhM8B"
   },
   "source": [
    "# A Semi-automatic Classification of Normal Karyotypes using Convolutional Neural Network Algorithm"
   ]
  },
  {
   "cell_type": "markdown",
   "metadata": {
    "colab_type": "text",
    "id": "aBT9lgVVhM8D"
   },
   "source": [
    "- **Chuan Yang**, MD, PhD Student\n",
    "- Mentor: **Yanyan Zhao**, MD, PhD\n",
    "- Shengjing Hospital of China Medical University"
   ]
  },
  {
   "cell_type": "markdown",
   "metadata": {
    "colab_type": "text",
    "id": "xrnbxOZChM8E"
   },
   "source": [
    "## Modules"
   ]
  },
  {
   "cell_type": "code",
   "execution_count": 1,
   "metadata": {
    "colab": {},
    "colab_type": "code",
    "id": "aKjA8v4hhM8E"
   },
   "outputs": [],
   "source": [
    "from PIL import Image\n",
    "import numpy as np\n",
    "import pandas as pd\n",
    "import matplotlib.pyplot as plt\n",
    "\n",
    "import seaborn as sb\n",
    "\n",
    "from sklearn.metrics import classification_report, confusion_matrix\n",
    "\n",
    "from tensorflow.keras import Sequential\n",
    "from tensorflow.keras.layers import Dense, Conv2D, MaxPooling2D, Flatten\n",
    "from tensorflow import keras\n",
    "\n",
    "from os import walk\n",
    "\n",
    "import time\n",
    "import datetime\n",
    "\n",
    "%matplotlib inline"
   ]
  },
  {
   "cell_type": "markdown",
   "metadata": {
    "colab_type": "text",
    "id": "2KFSsnYohM8H"
   },
   "source": [
    "## Samples\n"
   ]
  },
  {
   "cell_type": "markdown",
   "metadata": {},
   "source": [
    "## Chormosome Label Convert by using Dictionary"
   ]
  },
  {
   "cell_type": "code",
   "execution_count": 2,
   "metadata": {},
   "outputs": [],
   "source": [
    "chromConvert = {'chr_01': 1, \n",
    "               'chr_02': 2, \n",
    "               'chr_03': 3, \n",
    "               'chr_04': 4, \n",
    "               'chr_05': 5, \n",
    "               'chr_06': 6, \n",
    "               'chr_07': 7, \n",
    "               'chr_08': 8, \n",
    "               'chr_09': 9, \n",
    "               'chr_10': 10, \n",
    "               'chr_11': 11, \n",
    "               'chr_12': 12, \n",
    "               'chr_13': 13, \n",
    "               'chr_14': 14, \n",
    "               'chr_15': 15, \n",
    "               'chr_16': 16, \n",
    "               'chr_17': 17, \n",
    "               'chr_18': 18, \n",
    "               'chr_19': 19, \n",
    "               'chr_20': 20, \n",
    "               'chr_21': 21, \n",
    "               'chr_22': 22, \n",
    "               'chr_x': 0, \n",
    "               'chr_y': 23, \n",
    "                'chr_18_p11_deletion': 24,\n",
    "                'chr_18_q10_isochromosome': 25,\n",
    "                'chr_9_inversion': 26,\n",
    "                'chr_5_p14_deletion': 27,\n",
    "                'chr_x_isochromosome': 28,\n",
    "                'chr_x_p22_cnv': 29, \n",
    "                'chr_x_q21_cnv': 30,\n",
    "                'chr_x_q22_deletion': 31\n",
    "               }"
   ]
  },
  {
   "cell_type": "markdown",
   "metadata": {},
   "source": [
    "## File Import"
   ]
  },
  {
   "cell_type": "code",
   "execution_count": 3,
   "metadata": {
    "colab": {},
    "colab_type": "code",
    "id": "8YcabYh2hM8I"
   },
   "outputs": [],
   "source": [
    "#pathBase = 'C:\\\\Users\\\\Chuan\\\\OneDrive\\\\Dowrun\\\\Database\\\\PhD\\\\KaryoTypes\\\\Arrangement\\\\'\n",
    "#pathBase = 'I:\\\\Chuan\\\\Documents\\\\MyData\\\\PhD\\\\Karyotype\\\\Arrangement\\\\'\n",
    "pathBase = 'D:\\\\Users\\\\Chuan\\\\Documents\\\\Database\\\\Karyotypes\\\\Arrangement\\\\'\n",
    "\n",
    "theWhole = {}\n",
    "\n",
    "\n",
    "f = []\n",
    "f_01 = []\n",
    "mypath_01 = pathBase + 'chr_01'\n",
    "for (dirpath, dirnames, filenames) in walk(mypath_01):\n",
    "    f.extend(filenames)\n",
    "for l in f:\n",
    "    f_01.append(mypath_01 + '\\\\' + l) \n",
    "        \n",
    "f = []\n",
    "f_02 = []\n",
    "mypath_02 = pathBase + 'chr_02'\n",
    "for (dirpath, dirnames, filenames) in walk(mypath_02):\n",
    "    f.extend(filenames)\n",
    "for l in f:\n",
    "    f_02.append(mypath_02 + '\\\\' + l)    \n",
    "        \n",
    "f = []\n",
    "f_03 = []\n",
    "mypath_03 = pathBase + 'chr_03'\n",
    "for (dirpath, dirnames, filenames) in walk(mypath_03):\n",
    "    f.extend(filenames)\n",
    "for l in f:\n",
    "    f_03.append(mypath_03 + '\\\\' + l)    \n",
    "        \n",
    "f = []\n",
    "f_04 = []\n",
    "mypath_04 = pathBase + 'chr_04'\n",
    "for (dirpath, dirnames, filenames) in walk(mypath_04):\n",
    "    f.extend(filenames)\n",
    "for l in f:\n",
    "    f_04.append(mypath_04 + '\\\\' + l)    \n",
    "        \n",
    "f = []\n",
    "f_05 = []\n",
    "mypath_05 = pathBase + 'chr_05'\n",
    "for (dirpath, dirnames, filenames) in walk(mypath_05):\n",
    "    f.extend(filenames)\n",
    "for l in f:\n",
    "    f_05.append(mypath_05 + '\\\\' + l)    \n",
    "        \n",
    "f = []\n",
    "f_06 = []\n",
    "mypath_06 = pathBase + 'chr_06'\n",
    "for (dirpath, dirnames, filenames) in walk(mypath_06):\n",
    "    f.extend(filenames)\n",
    "for l in f:\n",
    "    f_06.append(mypath_06 + '\\\\' + l)    \n",
    "    \n",
    "f = []\n",
    "f_07 = []\n",
    "mypath_07 = pathBase + 'chr_07'\n",
    "for (dirpath, dirnames, filenames) in walk(mypath_07):\n",
    "    f.extend(filenames)\n",
    "for l in f:\n",
    "    f_07.append(mypath_07 + '\\\\' + l)    \n",
    "        \n",
    "f = []\n",
    "f_08 = []\n",
    "mypath_08 = pathBase + 'chr_08'\n",
    "for (dirpath, dirnames, filenames) in walk(mypath_08):\n",
    "    f.extend(filenames)\n",
    "for l in f:\n",
    "    f_08.append(mypath_08 + '\\\\' + l)    \n",
    "        \n",
    "f = []\n",
    "f_09 = []\n",
    "mypath_09 = pathBase + 'chr_09'\n",
    "for (dirpath, dirnames, filenames) in walk(mypath_09):\n",
    "    f.extend(filenames)\n",
    "for l in f:\n",
    "    f_09.append(mypath_09 + '\\\\' + l)    \n",
    "    \n",
    "f = []\n",
    "f_10 = []\n",
    "mypath_10 = pathBase + 'chr_10'\n",
    "for (dirpath, dirnames, filenames) in walk(mypath_10):\n",
    "    f.extend(filenames)\n",
    "for l in f:\n",
    "    f_10.append(mypath_10 + '\\\\' + l)    \n",
    "    \n",
    "f = []\n",
    "f_11 = []\n",
    "mypath_11 = pathBase + 'chr_11'\n",
    "for (dirpath, dirnames, filenames) in walk(mypath_11):\n",
    "    f.extend(filenames)\n",
    "for l in f:\n",
    "    f_11.append(mypath_11 + '\\\\' + l)    \n",
    "    \n",
    "    \n",
    "f = []\n",
    "f_12 = []\n",
    "mypath_12 = pathBase + 'chr_12'\n",
    "for (dirpath, dirnames, filenames) in walk(mypath_12):\n",
    "    f.extend(filenames)\n",
    "for l in f:\n",
    "    f_12.append(mypath_12 + '\\\\' + l)    \n",
    "    \n",
    "    \n",
    "f = []\n",
    "f_13 = []\n",
    "mypath_13 = pathBase + 'chr_13'\n",
    "for (dirpath, dirnames, filenames) in walk(mypath_13):\n",
    "    f.extend(filenames)\n",
    "for l in f:\n",
    "    f_13.append(mypath_13 + '\\\\' + l)    \n",
    "    \n",
    "    \n",
    "f = []\n",
    "f_14 = []\n",
    "mypath_14 = pathBase + 'chr_14'\n",
    "for (dirpath, dirnames, filenames) in walk(mypath_14):\n",
    "    f.extend(filenames)\n",
    "for l in f:\n",
    "    f_14.append(mypath_14 + '\\\\' + l)    \n",
    "    \n",
    "\n",
    "    \n",
    "f = []\n",
    "f_15 = []\n",
    "mypath_15 = pathBase + 'chr_15'\n",
    "for (dirpath, dirnames, filenames) in walk(mypath_15):\n",
    "    f.extend(filenames)\n",
    "for l in f:\n",
    "    f_15.append(mypath_15 + '\\\\' + l)    \n",
    "    \n",
    "        \n",
    "f = []\n",
    "f_16 = []\n",
    "mypath_16 = pathBase + 'chr_16'\n",
    "for (dirpath, dirnames, filenames) in walk(mypath_16):\n",
    "    f.extend(filenames)\n",
    "for l in f:\n",
    "    f_16.append(mypath_16 + '\\\\' + l)    \n",
    "    \n",
    "        \n",
    "f = []\n",
    "f_17 = []\n",
    "mypath_17 = pathBase + 'chr_17'\n",
    "for (dirpath, dirnames, filenames) in walk(mypath_17):\n",
    "    f.extend(filenames)\n",
    "for l in f:\n",
    "    f_17.append(mypath_17 + '\\\\' + l)    \n",
    "    \n",
    "        \n",
    "f = []\n",
    "f_18 = []\n",
    "mypath_18 = pathBase + 'chr_18'\n",
    "for (dirpath, dirnames, filenames) in walk(mypath_18):\n",
    "    f.extend(filenames)\n",
    "for l in f:\n",
    "    f_18.append(mypath_18 + '\\\\' + l)    \n",
    "    \n",
    "        \n",
    "f = []\n",
    "f_19 = []\n",
    "mypath_19 = pathBase + 'chr_19'\n",
    "for (dirpath, dirnames, filenames) in walk(mypath_19):\n",
    "    f.extend(filenames)\n",
    "for l in f:\n",
    "    f_19.append(mypath_19 + '\\\\' + l)    \n",
    "    \n",
    "        \n",
    "f = []\n",
    "f_20 = []\n",
    "mypath_20 = pathBase + 'chr_20'\n",
    "for (dirpath, dirnames, filenames) in walk(mypath_20):\n",
    "    f.extend(filenames)\n",
    "for l in f:\n",
    "    f_20.append(mypath_20 + '\\\\' + l)    \n",
    "   \n",
    "        \n",
    "f = []\n",
    "f_21 = []\n",
    "mypath_21 = pathBase + 'chr_21'\n",
    "for (dirpath, dirnames, filenames) in walk(mypath_21):\n",
    "    f.extend(filenames)\n",
    "for l in f:\n",
    "    f_21.append(mypath_21 + '\\\\' + l)    \n",
    "   \n",
    "        \n",
    "f = []\n",
    "f_22 = []\n",
    "mypath_22 = pathBase + 'chr_22'\n",
    "for (dirpath, dirnames, filenames) in walk(mypath_22):\n",
    "    f.extend(filenames)\n",
    "for l in f:\n",
    "    f_22.append(mypath_22 + '\\\\' + l)    \n",
    "   \n",
    "f = []\n",
    "f_x = []\n",
    "mypath_x = pathBase + 'chr_x'\n",
    "for (dirpath, dirnames, filenames) in walk(mypath_x):\n",
    "    f.extend(filenames)\n",
    "for l in f:\n",
    "    f_x.append(mypath_x + '\\\\' + l)    \n",
    "   \n",
    "f = []\n",
    "f_y = []\n",
    "mypath_y = pathBase + 'chr_y'\n",
    "for (dirpath, dirnames, filenames) in walk(mypath_y):\n",
    "    f.extend(filenames)\n",
    "for l in f:\n",
    "    f_y.append(mypath_y + '\\\\' + l)  \n",
    "    \n",
    "# ///////// Abnormal ones //////////////\n",
    "\n",
    "f = []\n",
    "f_18_p11_deletion = []\n",
    "mypath_18_p11_deletion = pathBase + 'chr_18_p11_deletion'\n",
    "for (dirpath, dirnames, filenames) in walk(mypath_18_p11_deletion):\n",
    "    f.extend(filenames)\n",
    "for l in f:\n",
    "    f_18_p11_deletion.append(mypath_18_p11_deletion + '\\\\' + l)  \n",
    "\n",
    "\n",
    "f = []\n",
    "f_18_q10_isochromosome = []\n",
    "mypath_18_q10_isochromosome = pathBase + 'chr_18_q10_isochromosome'\n",
    "for (dirpath, dirnames, filenames) in walk(mypath_18_q10_isochromosome):\n",
    "    f.extend(filenames)\n",
    "for l in f:\n",
    "    f_18_q10_isochromosome.append(mypath_18_q10_isochromosome + '\\\\' + l)  \n",
    "    \n",
    "# ///////// Abnormal ones //////////////\n",
    "\n",
    "f = []\n",
    "f_9_inversion = []\n",
    "mypath_9_inversion = pathBase + 'chr_9_inversion'\n",
    "for (dirpath, dirnames, filenames) in walk(mypath_9_inversion):\n",
    "    f.extend(filenames)\n",
    "for l in f:\n",
    "    f_9_inversion.append(mypath_9_inversion + '\\\\' + l)  \n",
    "    \n",
    "\n",
    "f = []\n",
    "f_5_p14_deletion = []\n",
    "mypath_5_p14_deletion = pathBase + 'chr_5_p14_deletion'\n",
    "for (dirpath, dirnames, filenames) in walk(mypath_5_p14_deletion):\n",
    "    f.extend(filenames)\n",
    "for l in f:\n",
    "    f_5_p14_deletion.append(mypath_5_p14_deletion + '\\\\' + l)  \n",
    "    \n",
    "\n",
    "f = []\n",
    "f_x_isochromosome = []\n",
    "mypath_x_isochromosome = pathBase + 'chr_x_isochromosome'\n",
    "for (dirpath, dirnames, filenames) in walk(mypath_x_isochromosome):\n",
    "    f.extend(filenames)\n",
    "for l in f:\n",
    "    f_x_isochromosome.append(mypath_x_isochromosome + '\\\\' + l)  \n",
    "    \n",
    "    \n",
    "f = []\n",
    "f_x_p22_cnv = []\n",
    "mypath_x_p22_cnv = pathBase + 'chr_x_p22_cnv'\n",
    "for (dirpath, dirnames, filenames) in walk(mypath_x_p22_cnv):\n",
    "    f.extend(filenames)\n",
    "for l in f:\n",
    "    f_x_p22_cnv.append(mypath_x_p22_cnv + '\\\\' + l)\n",
    "    \n",
    "    \n",
    "f = []\n",
    "f_x_q21_cnv = []\n",
    "mypath_x_q21_cnv = pathBase + 'chr_x_q21_cnv'\n",
    "for (dirpath, dirnames, filenames) in walk(mypath_x_q21_cnv):\n",
    "    f.extend(filenames)\n",
    "for l in f:\n",
    "    f_x_q21_cnv.append(mypath_x_q21_cnv + '\\\\' + l)  \n",
    "    \n",
    "    \n",
    "f = []\n",
    "f_x_q22_deletion = []\n",
    "mypath_x_q22_deletion = pathBase + 'chr_x_q22_deletion'\n",
    "for (dirpath, dirnames, filenames) in walk(mypath_x_q22_deletion):\n",
    "    f.extend(filenames)\n",
    "for l in f:\n",
    "    f_x_q22_deletion.append(mypath_x_q22_deletion + '\\\\' + l)      \n",
    "\n",
    "    \n",
    "theWhole['chr_01'] = f_01\n",
    "theWhole['chr_02'] = f_02\n",
    "theWhole['chr_03'] = f_03\n",
    "theWhole['chr_04'] = f_04\n",
    "theWhole['chr_05'] = f_05\n",
    "theWhole['chr_06'] = f_06\n",
    "theWhole['chr_07'] = f_07\n",
    "theWhole['chr_08'] = f_08\n",
    "theWhole['chr_09'] = f_09\n",
    "theWhole['chr_10'] = f_10\n",
    "theWhole['chr_11'] = f_11\n",
    "theWhole['chr_12'] = f_12\n",
    "theWhole['chr_13'] = f_13\n",
    "theWhole['chr_14'] = f_14\n",
    "theWhole['chr_15'] = f_15\n",
    "theWhole['chr_16'] = f_16\n",
    "theWhole['chr_17'] = f_17\n",
    "theWhole['chr_18'] = f_18\n",
    "theWhole['chr_19'] = f_19\n",
    "theWhole['chr_20'] = f_20\n",
    "theWhole['chr_21'] = f_21\n",
    "theWhole['chr_22'] = f_22\n",
    "theWhole['chr_x'] = f_x\n",
    "theWhole['chr_y'] = f_y\n",
    "\n",
    "theWhole['chr_18_p11_deletion'] = f_18_p11_deletion\n",
    "theWhole['chr_18_q10_isochromosome'] = f_18_q10_isochromosome\n",
    "\n",
    "theWhole['chr_9_inversion'] = f_9_inversion\n",
    "\n",
    "theWhole['chr_5_p14_deletion'] = f_5_p14_deletion    \n",
    "\n",
    "theWhole['chr_x_isochromosome'] = f_x_isochromosome\n",
    "theWhole['chr_x_p22_cnv'] = f_x_p22_cnv\n",
    "theWhole['chr_x_q21_cnv'] = f_x_q21_cnv\n",
    "theWhole['chr_x_q22_deletion'] = f_x_q22_deletion"
   ]
  },
  {
   "cell_type": "code",
   "execution_count": 4,
   "metadata": {
    "colab": {},
    "colab_type": "code",
    "id": "6d8Ej2MShM8K",
    "outputId": "da32c938-49bb-4cec-9ded-708887ff9d05",
    "scrolled": false
   },
   "outputs": [
    {
     "data": {
      "text/plain": [
       "['D:\\\\Users\\\\Chuan\\\\Documents\\\\Database\\\\Karyotypes\\\\Arrangement\\\\chr_x\\\\W17068~A.0003.K.jpg.X.bmp',\n",
       " 'D:\\\\Users\\\\Chuan\\\\Documents\\\\Database\\\\Karyotypes\\\\Arrangement\\\\chr_x\\\\W17068~A.0004.K.jpg.X.bmp',\n",
       " 'D:\\\\Users\\\\Chuan\\\\Documents\\\\Database\\\\Karyotypes\\\\Arrangement\\\\chr_x\\\\W17068~A.0006.K.jpg.X.bmp',\n",
       " 'D:\\\\Users\\\\Chuan\\\\Documents\\\\Database\\\\Karyotypes\\\\Arrangement\\\\chr_x\\\\W17068~A.0008.K.X.bmp',\n",
       " 'D:\\\\Users\\\\Chuan\\\\Documents\\\\Database\\\\Karyotypes\\\\Arrangement\\\\chr_x\\\\W17068~A.0009.K.X.bmp',\n",
       " 'D:\\\\Users\\\\Chuan\\\\Documents\\\\Database\\\\Karyotypes\\\\Arrangement\\\\chr_x\\\\W17068~A.0010.K.X.bmp',\n",
       " 'D:\\\\Users\\\\Chuan\\\\Documents\\\\Database\\\\Karyotypes\\\\Arrangement\\\\chr_x\\\\W17068~A.0011.K.X.bmp',\n",
       " 'D:\\\\Users\\\\Chuan\\\\Documents\\\\Database\\\\Karyotypes\\\\Arrangement\\\\chr_x\\\\W17068~A.0012.K.X.bmp',\n",
       " 'D:\\\\Users\\\\Chuan\\\\Documents\\\\Database\\\\Karyotypes\\\\Arrangement\\\\chr_x\\\\W17068~A.0014.K.X.bmp',\n",
       " 'D:\\\\Users\\\\Chuan\\\\Documents\\\\Database\\\\Karyotypes\\\\Arrangement\\\\chr_x\\\\W17068~A.0016.K.X.bmp',\n",
       " 'D:\\\\Users\\\\Chuan\\\\Documents\\\\Database\\\\Karyotypes\\\\Arrangement\\\\chr_x\\\\W17068~A.0019.K.X.bmp',\n",
       " 'D:\\\\Users\\\\Chuan\\\\Documents\\\\Database\\\\Karyotypes\\\\Arrangement\\\\chr_x\\\\W17068~A.0020.K.X.bmp',\n",
       " 'D:\\\\Users\\\\Chuan\\\\Documents\\\\Database\\\\Karyotypes\\\\Arrangement\\\\chr_x\\\\W17068~A.0023.K.X.bmp',\n",
       " 'D:\\\\Users\\\\Chuan\\\\Documents\\\\Database\\\\Karyotypes\\\\Arrangement\\\\chr_x\\\\W17068~A.0024.X_.bmp',\n",
       " 'D:\\\\Users\\\\Chuan\\\\Documents\\\\Database\\\\Karyotypes\\\\Arrangement\\\\chr_x\\\\W17068~A.0025.X.bmp',\n",
       " 'D:\\\\Users\\\\Chuan\\\\Documents\\\\Database\\\\Karyotypes\\\\Arrangement\\\\chr_x\\\\W17068~A.0026.X.bmp',\n",
       " 'D:\\\\Users\\\\Chuan\\\\Documents\\\\Database\\\\Karyotypes\\\\Arrangement\\\\chr_x\\\\W17068~A.0034.K.jpg.X.bmp',\n",
       " 'D:\\\\Users\\\\Chuan\\\\Documents\\\\Database\\\\Karyotypes\\\\Arrangement\\\\chr_x\\\\W17068~A.0036.K.jpg.X.bmp',\n",
       " 'D:\\\\Users\\\\Chuan\\\\Documents\\\\Database\\\\Karyotypes\\\\Arrangement\\\\chr_x\\\\W17068~A.0039.K.jpg.X.bmp',\n",
       " 'D:\\\\Users\\\\Chuan\\\\Documents\\\\Database\\\\Karyotypes\\\\Arrangement\\\\chr_x\\\\w21000~A.0001.K.jpg.X.bmp',\n",
       " 'D:\\\\Users\\\\Chuan\\\\Documents\\\\Database\\\\Karyotypes\\\\Arrangement\\\\chr_x\\\\w21000~A.0001.K.jpg.XR.bmp',\n",
       " 'D:\\\\Users\\\\Chuan\\\\Documents\\\\Database\\\\Karyotypes\\\\Arrangement\\\\chr_x\\\\w21001~A.0008.K.jpg.x.bmp',\n",
       " 'D:\\\\Users\\\\Chuan\\\\Documents\\\\Database\\\\Karyotypes\\\\Arrangement\\\\chr_x\\\\w21002~A.0024.K.jpg.x.bmp',\n",
       " 'D:\\\\Users\\\\Chuan\\\\Documents\\\\Database\\\\Karyotypes\\\\Arrangement\\\\chr_x\\\\w21008~A.0008.K.jpg.XL.bmp',\n",
       " 'D:\\\\Users\\\\Chuan\\\\Documents\\\\Database\\\\Karyotypes\\\\Arrangement\\\\chr_x\\\\w21008~A.0008.K.jpg.XR.bmp',\n",
       " 'D:\\\\Users\\\\Chuan\\\\Documents\\\\Database\\\\Karyotypes\\\\Arrangement\\\\chr_x\\\\W21012~A.0019.K.XL.bmp',\n",
       " 'D:\\\\Users\\\\Chuan\\\\Documents\\\\Database\\\\Karyotypes\\\\Arrangement\\\\chr_x\\\\W21012~A.0019.K.XR.bmp',\n",
       " 'D:\\\\Users\\\\Chuan\\\\Documents\\\\Database\\\\Karyotypes\\\\Arrangement\\\\chr_x\\\\W21022~A.0007.K.jpg.XL.bmp',\n",
       " 'D:\\\\Users\\\\Chuan\\\\Documents\\\\Database\\\\Karyotypes\\\\Arrangement\\\\chr_x\\\\W21022~A.0007.K.jpg.XR.bmp',\n",
       " 'D:\\\\Users\\\\Chuan\\\\Documents\\\\Database\\\\Karyotypes\\\\Arrangement\\\\chr_x\\\\W21025~A.0002.K.jpg.X.bmp',\n",
       " 'D:\\\\Users\\\\Chuan\\\\Documents\\\\Database\\\\Karyotypes\\\\Arrangement\\\\chr_x\\\\W21027~A.0003.K.X.bmp',\n",
       " 'D:\\\\Users\\\\Chuan\\\\Documents\\\\Database\\\\Karyotypes\\\\Arrangement\\\\chr_x\\\\W21486~A.0020.K.bmp.X.bmp',\n",
       " 'D:\\\\Users\\\\Chuan\\\\Documents\\\\Database\\\\Karyotypes\\\\Arrangement\\\\chr_x\\\\W21570~A.0001.K.jpg.X.bmp',\n",
       " 'D:\\\\Users\\\\Chuan\\\\Documents\\\\Database\\\\Karyotypes\\\\Arrangement\\\\chr_x\\\\W21576~A.0010.K.jpg.X.bmp',\n",
       " 'D:\\\\Users\\\\Chuan\\\\Documents\\\\Database\\\\Karyotypes\\\\Arrangement\\\\chr_x\\\\W21587~A.0008.K.jpg.X.bmp',\n",
       " 'D:\\\\Users\\\\Chuan\\\\Documents\\\\Database\\\\Karyotypes\\\\Arrangement\\\\chr_x\\\\W21587~A.0010.K.jpg.X.bmp',\n",
       " 'D:\\\\Users\\\\Chuan\\\\Documents\\\\Database\\\\Karyotypes\\\\Arrangement\\\\chr_x\\\\W21588~A.0001.K.jpg.X.bmp',\n",
       " 'D:\\\\Users\\\\Chuan\\\\Documents\\\\Database\\\\Karyotypes\\\\Arrangement\\\\chr_x\\\\W21766~A.0025.K.jpg.X.bmp',\n",
       " 'D:\\\\Users\\\\Chuan\\\\Documents\\\\Database\\\\Karyotypes\\\\Arrangement\\\\chr_x\\\\W21890~A.0005.K.jpg.XL.bmp',\n",
       " 'D:\\\\Users\\\\Chuan\\\\Documents\\\\Database\\\\Karyotypes\\\\Arrangement\\\\chr_x\\\\W21890~A.0005.K.jpg.XR.bmp',\n",
       " 'D:\\\\Users\\\\Chuan\\\\Documents\\\\Database\\\\Karyotypes\\\\Arrangement\\\\chr_x\\\\W21894~A.0009.K.jpg.X.bmp',\n",
       " 'D:\\\\Users\\\\Chuan\\\\Documents\\\\Database\\\\Karyotypes\\\\Arrangement\\\\chr_x\\\\W21902~A.0010.K.jpg.X.bmp',\n",
       " 'D:\\\\Users\\\\Chuan\\\\Documents\\\\Database\\\\Karyotypes\\\\Arrangement\\\\chr_x\\\\W21905~A.0007.K.jpg.X.bmp',\n",
       " 'D:\\\\Users\\\\Chuan\\\\Documents\\\\Database\\\\Karyotypes\\\\Arrangement\\\\chr_x\\\\W21906~A.0011.K.jpg.X.bmp',\n",
       " 'D:\\\\Users\\\\Chuan\\\\Documents\\\\Database\\\\Karyotypes\\\\Arrangement\\\\chr_x\\\\w22038~A.0017.K.jpg.X.bmp',\n",
       " 'D:\\\\Users\\\\Chuan\\\\Documents\\\\Database\\\\Karyotypes\\\\Arrangement\\\\chr_x\\\\w22292~A.0027.K.jpg.X.bmp',\n",
       " 'D:\\\\Users\\\\Chuan\\\\Documents\\\\Database\\\\Karyotypes\\\\Arrangement\\\\chr_x\\\\W22451~A.0011.K.jpg.X.bmp',\n",
       " 'D:\\\\Users\\\\Chuan\\\\Documents\\\\Database\\\\Karyotypes\\\\Arrangement\\\\chr_x\\\\W22455~A.0002.K.jpg.X.bmp',\n",
       " 'D:\\\\Users\\\\Chuan\\\\Documents\\\\Database\\\\Karyotypes\\\\Arrangement\\\\chr_x\\\\W22666-1.0002.K.jpg.X.bmp',\n",
       " 'D:\\\\Users\\\\Chuan\\\\Documents\\\\Database\\\\Karyotypes\\\\Arrangement\\\\chr_x\\\\W22670~A.0006.K.jpg.X.bmp',\n",
       " 'D:\\\\Users\\\\Chuan\\\\Documents\\\\Database\\\\Karyotypes\\\\Arrangement\\\\chr_x\\\\W22672~A.0004.K.jpg.X.bmp',\n",
       " 'D:\\\\Users\\\\Chuan\\\\Documents\\\\Database\\\\Karyotypes\\\\Arrangement\\\\chr_x\\\\W23060-1~A.0003.K.jpg.X.bmp',\n",
       " 'D:\\\\Users\\\\Chuan\\\\Documents\\\\Database\\\\Karyotypes\\\\Arrangement\\\\chr_x\\\\W23060-1~A.0005.K.jpg.X.bmp',\n",
       " 'D:\\\\Users\\\\Chuan\\\\Documents\\\\Database\\\\Karyotypes\\\\Arrangement\\\\chr_x\\\\W23060-1~A.0007.K.jpg.X.bmp',\n",
       " 'D:\\\\Users\\\\Chuan\\\\Documents\\\\Database\\\\Karyotypes\\\\Arrangement\\\\chr_x\\\\W23060-1~A.0009.K.jpg.X.bmp',\n",
       " 'D:\\\\Users\\\\Chuan\\\\Documents\\\\Database\\\\Karyotypes\\\\Arrangement\\\\chr_x\\\\W23060-1~A.0018.K.jpg.X.bmp',\n",
       " 'D:\\\\Users\\\\Chuan\\\\Documents\\\\Database\\\\Karyotypes\\\\Arrangement\\\\chr_x\\\\W23060-1~A.0025.K.jpg.X.bmp',\n",
       " 'D:\\\\Users\\\\Chuan\\\\Documents\\\\Database\\\\Karyotypes\\\\Arrangement\\\\chr_x\\\\W23060-1~A.0029.K.jpg.X.bmp',\n",
       " 'D:\\\\Users\\\\Chuan\\\\Documents\\\\Database\\\\Karyotypes\\\\Arrangement\\\\chr_x\\\\W23060-1~A.0032.K.jpg.X.bmp',\n",
       " 'D:\\\\Users\\\\Chuan\\\\Documents\\\\Database\\\\Karyotypes\\\\Arrangement\\\\chr_x\\\\W23060-1~A.0033.K.jpg.X.bmp',\n",
       " 'D:\\\\Users\\\\Chuan\\\\Documents\\\\Database\\\\Karyotypes\\\\Arrangement\\\\chr_x\\\\W23060-1~A.0035.K.jpg.X.bmp',\n",
       " 'D:\\\\Users\\\\Chuan\\\\Documents\\\\Database\\\\Karyotypes\\\\Arrangement\\\\chr_x\\\\W23060-1~A.0040.K.jpg.X.bmp',\n",
       " 'D:\\\\Users\\\\Chuan\\\\Documents\\\\Database\\\\Karyotypes\\\\Arrangement\\\\chr_x\\\\W23060-1~A.0042.K.jpg.X.bmp',\n",
       " 'D:\\\\Users\\\\Chuan\\\\Documents\\\\Database\\\\Karyotypes\\\\Arrangement\\\\chr_x\\\\W23060-1~A.0046.K.jpg.X.bmp',\n",
       " 'D:\\\\Users\\\\Chuan\\\\Documents\\\\Database\\\\Karyotypes\\\\Arrangement\\\\chr_x\\\\W23060-CW190327.jpg.X.bmp',\n",
       " 'D:\\\\Users\\\\Chuan\\\\Documents\\\\Database\\\\Karyotypes\\\\Arrangement\\\\chr_x\\\\w25443~A.0001.K.jpg.X.bmp',\n",
       " 'D:\\\\Users\\\\Chuan\\\\Documents\\\\Database\\\\Karyotypes\\\\Arrangement\\\\chr_x\\\\w25443~A.0004.K.jpg.X.bmp',\n",
       " 'D:\\\\Users\\\\Chuan\\\\Documents\\\\Database\\\\Karyotypes\\\\Arrangement\\\\chr_x\\\\w25443~A.0005.K.jpg.X.bmp',\n",
       " 'D:\\\\Users\\\\Chuan\\\\Documents\\\\Database\\\\Karyotypes\\\\Arrangement\\\\chr_x\\\\w25443~A.0006.K.jpg.X.bmp',\n",
       " 'D:\\\\Users\\\\Chuan\\\\Documents\\\\Database\\\\Karyotypes\\\\Arrangement\\\\chr_x\\\\w25443~A.0007.K.jpg.X.bmp',\n",
       " 'D:\\\\Users\\\\Chuan\\\\Documents\\\\Database\\\\Karyotypes\\\\Arrangement\\\\chr_x\\\\w25443~A.0010.K.jpg.X.bmp',\n",
       " 'D:\\\\Users\\\\Chuan\\\\Documents\\\\Database\\\\Karyotypes\\\\Arrangement\\\\chr_x\\\\w25443~A.0014.K.jpg.X.bmp',\n",
       " 'D:\\\\Users\\\\Chuan\\\\Documents\\\\Database\\\\Karyotypes\\\\Arrangement\\\\chr_x\\\\w25443~A.0023.K.jpg.X.bmp',\n",
       " 'D:\\\\Users\\\\Chuan\\\\Documents\\\\Database\\\\Karyotypes\\\\Arrangement\\\\chr_x\\\\w25443~A.0031.K.jpg.X.bmp',\n",
       " 'D:\\\\Users\\\\Chuan\\\\Documents\\\\Database\\\\Karyotypes\\\\Arrangement\\\\chr_x\\\\w25443~A.0032.K.jpg.X.bmp',\n",
       " 'D:\\\\Users\\\\Chuan\\\\Documents\\\\Database\\\\Karyotypes\\\\Arrangement\\\\chr_x\\\\w25443~A.0033.K.jpg.X.bmp',\n",
       " 'D:\\\\Users\\\\Chuan\\\\Documents\\\\Database\\\\Karyotypes\\\\Arrangement\\\\chr_x\\\\w25443~A.0035.K.jpg.X.bmp',\n",
       " 'D:\\\\Users\\\\Chuan\\\\Documents\\\\Database\\\\Karyotypes\\\\Arrangement\\\\chr_x\\\\w25443~A.0036.K.jpg.X.bmp',\n",
       " 'D:\\\\Users\\\\Chuan\\\\Documents\\\\Database\\\\Karyotypes\\\\Arrangement\\\\chr_x\\\\w25443~A.0037.K.jpg.X.bmp',\n",
       " 'D:\\\\Users\\\\Chuan\\\\Documents\\\\Database\\\\Karyotypes\\\\Arrangement\\\\chr_x\\\\w25443~A.0038.K.jpg.X.bmp',\n",
       " 'D:\\\\Users\\\\Chuan\\\\Documents\\\\Database\\\\Karyotypes\\\\Arrangement\\\\chr_x\\\\w25443~A.0040.K.jpg.X.bmp',\n",
       " 'D:\\\\Users\\\\Chuan\\\\Documents\\\\Database\\\\Karyotypes\\\\Arrangement\\\\chr_x\\\\w25443~A.0041.K.jpg.X.bmp',\n",
       " 'D:\\\\Users\\\\Chuan\\\\Documents\\\\Database\\\\Karyotypes\\\\Arrangement\\\\chr_x\\\\w25443~A.0043.K.jpg.X.bmp',\n",
       " 'D:\\\\Users\\\\Chuan\\\\Documents\\\\Database\\\\Karyotypes\\\\Arrangement\\\\chr_x\\\\w25443~A.0047.K.jpg.X.bmp',\n",
       " 'D:\\\\Users\\\\Chuan\\\\Documents\\\\Database\\\\Karyotypes\\\\Arrangement\\\\chr_x\\\\W28055-1~A.0001.X.bmp',\n",
       " 'D:\\\\Users\\\\Chuan\\\\Documents\\\\Database\\\\Karyotypes\\\\Arrangement\\\\chr_x\\\\W28055-1~A.0002.X.bmp',\n",
       " 'D:\\\\Users\\\\Chuan\\\\Documents\\\\Database\\\\Karyotypes\\\\Arrangement\\\\chr_x\\\\W28055-1~A.0006.X.bmp',\n",
       " 'D:\\\\Users\\\\Chuan\\\\Documents\\\\Database\\\\Karyotypes\\\\Arrangement\\\\chr_x\\\\W28055-1~A.0009.X.bmp',\n",
       " 'D:\\\\Users\\\\Chuan\\\\Documents\\\\Database\\\\Karyotypes\\\\Arrangement\\\\chr_x\\\\W28055-1~A.0010.X.bmp',\n",
       " 'D:\\\\Users\\\\Chuan\\\\Documents\\\\Database\\\\Karyotypes\\\\Arrangement\\\\chr_x\\\\W28055-1~A.0012.X.bmp',\n",
       " 'D:\\\\Users\\\\Chuan\\\\Documents\\\\Database\\\\Karyotypes\\\\Arrangement\\\\chr_x\\\\W28055-1~A.0013.X.bmp',\n",
       " 'D:\\\\Users\\\\Chuan\\\\Documents\\\\Database\\\\Karyotypes\\\\Arrangement\\\\chr_x\\\\W28055-1~A.0015.X.bmp',\n",
       " 'D:\\\\Users\\\\Chuan\\\\Documents\\\\Database\\\\Karyotypes\\\\Arrangement\\\\chr_x\\\\W28055-1~A.0016.X.bmp',\n",
       " 'D:\\\\Users\\\\Chuan\\\\Documents\\\\Database\\\\Karyotypes\\\\Arrangement\\\\chr_x\\\\W28055-1~A.0020.X.bmp',\n",
       " 'D:\\\\Users\\\\Chuan\\\\Documents\\\\Database\\\\Karyotypes\\\\Arrangement\\\\chr_x\\\\W28055-1~A.0021.X.bmp',\n",
       " 'D:\\\\Users\\\\Chuan\\\\Documents\\\\Database\\\\Karyotypes\\\\Arrangement\\\\chr_x\\\\W28055-1~A.0022.X.bmp',\n",
       " 'D:\\\\Users\\\\Chuan\\\\Documents\\\\Database\\\\Karyotypes\\\\Arrangement\\\\chr_x\\\\W28055-1~A.0032.X.bmp',\n",
       " 'D:\\\\Users\\\\Chuan\\\\Documents\\\\Database\\\\Karyotypes\\\\Arrangement\\\\chr_x\\\\W28055-1~A.0037.X.bmp',\n",
       " 'D:\\\\Users\\\\Chuan\\\\Documents\\\\Database\\\\Karyotypes\\\\Arrangement\\\\chr_x\\\\W28055-1~A.0038.X.bmp',\n",
       " 'D:\\\\Users\\\\Chuan\\\\Documents\\\\Database\\\\Karyotypes\\\\Arrangement\\\\chr_x\\\\W28055-1~A.0039.K.jpg.X.bmp',\n",
       " 'D:\\\\Users\\\\Chuan\\\\Documents\\\\Database\\\\Karyotypes\\\\Arrangement\\\\chr_x\\\\W28055-1~A.0049.K.jpg.X.bmp',\n",
       " 'D:\\\\Users\\\\Chuan\\\\Documents\\\\Database\\\\Karyotypes\\\\Arrangement\\\\chr_x\\\\W28055~A.0010.X.bmp',\n",
       " 'D:\\\\Users\\\\Chuan\\\\Documents\\\\Database\\\\Karyotypes\\\\Arrangement\\\\chr_x\\\\W28055~A.0012.X.bmp']"
      ]
     },
     "execution_count": 4,
     "metadata": {},
     "output_type": "execute_result"
    }
   ],
   "source": [
    "theWhole['chr_x']"
   ]
  },
  {
   "cell_type": "markdown",
   "metadata": {
    "colab_type": "text",
    "id": "cKiAborxhM8N"
   },
   "source": [
    "## Image Input"
   ]
  },
  {
   "cell_type": "code",
   "execution_count": 5,
   "metadata": {
    "colab": {},
    "colab_type": "code",
    "id": "h88BOm8UhM8N",
    "outputId": "4f89df64-4a3c-43f0-a34e-00d88a3d8d16",
    "scrolled": false
   },
   "outputs": [
    {
     "name": "stdout",
     "output_type": "stream",
     "text": [
      "0.10176491737365723\n"
     ]
    }
   ],
   "source": [
    "start = time.time()\n",
    "\n",
    "image = {}\n",
    "i = 0\n",
    "\n",
    "for chrNo in theWhole.keys():\n",
    "    image[chrNo] = []\n",
    "    for case in theWhole[chrNo]:\n",
    "        img = Image.open(case)\n",
    "        image[chrNo].append(img)\n",
    "    \n",
    "end = time.time()\n",
    "print(end - start)"
   ]
  },
  {
   "cell_type": "code",
   "execution_count": 6,
   "metadata": {
    "colab": {},
    "colab_type": "code",
    "id": "u7iYn89ShM8Q",
    "outputId": "95b42047-da5a-4f15-df45-dd89f5d37a72",
    "scrolled": true
   },
   "outputs": [
    {
     "data": {
      "image/png": "[encoded data removed]",
      "text/plain": [
       "<PIL.BmpImagePlugin.BmpImageFile image mode=RGB size=300x300 at 0x2793EADAA90>"
      ]
     },
     "execution_count": 6,
     "metadata": {},
     "output_type": "execute_result"
    }
   ],
   "source": [
    "image['chr_01'][1]"
   ]
  },
  {
   "cell_type": "markdown",
   "metadata": {
    "colab_type": "text",
    "id": "LMxjgFtHhM8S"
   },
   "source": [
    "## Functions"
   ]
  },
  {
   "cell_type": "code",
   "execution_count": 7,
   "metadata": {
    "colab": {},
    "colab_type": "code",
    "id": "EXeUvXLqhM8T"
   },
   "outputs": [],
   "source": [
    "def extractData(image):\n",
    "    x = image.size[0]\n",
    "    y = image.size[1]\n",
    "    \n",
    "    matrix = []\n",
    "    rgb_matrix = []\n",
    "\n",
    "    for i in range(x):\n",
    "        matrix.append([])\n",
    "        rgb_matrix.append([])\n",
    "        \n",
    "        for j in range(y):\n",
    "            r, g, b = image.getpixel((j, i))            \n",
    "            value = r * 299.0/1000 + g * 587.0/1000 + b * 114.0/1000\n",
    "            value = int(value)\n",
    "            matrix[i].append(value)\n",
    "            rgb_matrix[i].append((r,g,b))\n",
    "    return matrix, rgb_matrix"
   ]
  },
  {
   "cell_type": "code",
   "execution_count": 8,
   "metadata": {
    "colab": {},
    "colab_type": "code",
    "id": "PFXaHegmhM8V"
   },
   "outputs": [],
   "source": [
    "def imageReconstruct(matrix):\n",
    "    df = np.array(matrix, dtype=np.uint8)\n",
    "    img = Image.fromarray(df, 'RGB')\n",
    "    img.save('image.png')\n",
    "    return img"
   ]
  },
  {
   "cell_type": "markdown",
   "metadata": {
    "colab_type": "text",
    "id": "rW4l1hHBhM8X"
   },
   "source": [
    "## Data Extraction from Images"
   ]
  },
  {
   "cell_type": "code",
   "execution_count": 9,
   "metadata": {
    "colab": {},
    "colab_type": "code",
    "id": "9dHTmTyihM8Y",
    "outputId": "8868d731-9e6d-4f0a-bf56-39b488bbb765"
   },
   "outputs": [
    {
     "name": "stdout",
     "output_type": "stream",
     "text": [
      "172.24368333816528\n"
     ]
    }
   ],
   "source": [
    "start = time.time()\n",
    "\n",
    "data = {}\n",
    "#rgb_data = {}\n",
    "\n",
    "for chrNo in image.keys():\n",
    "    data[chrNo] = []; \n",
    "    #rgb_data[chrNo] = []\n",
    "    for case in image[chrNo]:\n",
    "        grey, rgb = extractData(case)\n",
    "        data[chrNo].append(grey)\n",
    "        #rgb_data[chrNo].append(rgb)\n",
    "        \n",
    "end = time.time()\n",
    "print(end - start)"
   ]
  },
  {
   "cell_type": "code",
   "execution_count": 10,
   "metadata": {
    "colab": {},
    "colab_type": "code",
    "id": "vjwPnXT9hM8a"
   },
   "outputs": [],
   "source": [
    "imageMatrix = np.array(data['chr_02'][1])"
   ]
  },
  {
   "cell_type": "code",
   "execution_count": 11,
   "metadata": {
    "colab": {},
    "colab_type": "code",
    "id": "1muxYWbyhM8e"
   },
   "outputs": [],
   "source": [
    "array = {}\n",
    "\n",
    "for chrNo in data.keys():\n",
    "    array[chrNo] = []\n",
    "    for case in data[chrNo]:            \n",
    "        array[chrNo].append(case)\n",
    "\n",
    "x_train_list = []\n",
    "y_train_list = []\n",
    "\n",
    "for y, x in array.items():    \n",
    "    for x_item in x:\n",
    "        x_train_list.append(x_item)\n",
    "        y_train_list.append(y)"
   ]
  },
  {
   "cell_type": "code",
   "execution_count": 12,
   "metadata": {
    "colab": {},
    "colab_type": "code",
    "id": "5wgG3agthM8i"
   },
   "outputs": [
    {
     "data": {
      "text/plain": [
       "300"
      ]
     },
     "execution_count": 12,
     "metadata": {},
     "output_type": "execute_result"
    }
   ],
   "source": [
    "len(x_train_list[1])"
   ]
  },
  {
   "cell_type": "code",
   "execution_count": 13,
   "metadata": {},
   "outputs": [
    {
     "data": {
      "text/plain": [
       "1653"
      ]
     },
     "execution_count": 13,
     "metadata": {},
     "output_type": "execute_result"
    }
   ],
   "source": [
    "len(y_train_list)"
   ]
  },
  {
   "cell_type": "markdown",
   "metadata": {
    "colab_type": "text",
    "id": "dFpbXmQ6hM8j"
   },
   "source": [
    "### Validation Dataset"
   ]
  },
  {
   "cell_type": "code",
   "execution_count": 14,
   "metadata": {
    "colab": {},
    "colab_type": "code",
    "id": "Js0BRFerhM8k"
   },
   "outputs": [],
   "source": [
    "#pathBase = 'C:\\\\Users\\\\Chuan\\\\OneDrive\\\\Dowrun\\\\Database\\\\PhD\\\\KaryoTypes\\\\Arrangement\\\\test\\\\'\n",
    "#pathBase = 'I:\\\\Chuan\\\\Documents\\\\MyData\\\\PhD\\\\Karyotype\\\\Arrangement\\\\test\\\\'\n",
    "pathBase = 'D:\\\\Users\\\\Chuan\\\\Documents\\\\Database\\\\Karyotypes\\\\Arrangement\\\\test\\\\'\n",
    "\n",
    "theWhole = {}\n",
    "\n",
    "f = []\n",
    "f_01 = []\n",
    "mypath_01 = pathBase + 'chr_01'\n",
    "for (dirpath, dirnames, filenames) in walk(mypath_01):\n",
    "    f.extend(filenames)\n",
    "for l in f:\n",
    "    f_01.append(mypath_01 + '\\\\' + l) \n",
    "        \n",
    "f = []\n",
    "f_02 = []\n",
    "mypath_02 = pathBase + 'chr_02'\n",
    "for (dirpath, dirnames, filenames) in walk(mypath_02):\n",
    "    f.extend(filenames)\n",
    "for l in f:\n",
    "    f_02.append(mypath_02 + '\\\\' + l)    \n",
    "        \n",
    "f = []\n",
    "f_03 = []\n",
    "mypath_03 = pathBase + 'chr_03'\n",
    "for (dirpath, dirnames, filenames) in walk(mypath_03):\n",
    "    f.extend(filenames)\n",
    "for l in f:\n",
    "    f_03.append(mypath_03 + '\\\\' + l)    \n",
    "        \n",
    "f = []\n",
    "f_04 = []\n",
    "mypath_04 = pathBase + 'chr_04'\n",
    "for (dirpath, dirnames, filenames) in walk(mypath_04):\n",
    "    f.extend(filenames)\n",
    "for l in f:\n",
    "    f_04.append(mypath_04 + '\\\\' + l)    \n",
    "        \n",
    "f = []\n",
    "f_05 = []\n",
    "mypath_05 = pathBase + 'chr_05'\n",
    "for (dirpath, dirnames, filenames) in walk(mypath_05):\n",
    "    f.extend(filenames)\n",
    "for l in f:\n",
    "    f_05.append(mypath_05 + '\\\\' + l)    \n",
    "        \n",
    "f = []\n",
    "f_06 = []\n",
    "mypath_06 = pathBase + 'chr_06'\n",
    "for (dirpath, dirnames, filenames) in walk(mypath_06):\n",
    "    f.extend(filenames)\n",
    "for l in f:\n",
    "    f_06.append(mypath_06 + '\\\\' + l)    \n",
    "    \n",
    "f = []\n",
    "f_07 = []\n",
    "mypath_07 = pathBase + 'chr_07'\n",
    "for (dirpath, dirnames, filenames) in walk(mypath_07):\n",
    "    f.extend(filenames)\n",
    "for l in f:\n",
    "    f_07.append(mypath_07 + '\\\\' + l)    \n",
    "        \n",
    "f = []\n",
    "f_08 = []\n",
    "mypath_08 = pathBase + 'chr_08'\n",
    "for (dirpath, dirnames, filenames) in walk(mypath_08):\n",
    "    f.extend(filenames)\n",
    "for l in f:\n",
    "    f_08.append(mypath_08 + '\\\\' + l)    \n",
    "        \n",
    "f = []\n",
    "f_09 = []\n",
    "mypath_09 = pathBase + 'chr_09'\n",
    "for (dirpath, dirnames, filenames) in walk(mypath_09):\n",
    "    f.extend(filenames)\n",
    "for l in f:\n",
    "    f_09.append(mypath_09 + '\\\\' + l)    \n",
    "    \n",
    "f = []\n",
    "f_10 = []\n",
    "mypath_10 = pathBase + 'chr_10'\n",
    "for (dirpath, dirnames, filenames) in walk(mypath_10):\n",
    "    f.extend(filenames)\n",
    "for l in f:\n",
    "    f_10.append(mypath_10 + '\\\\' + l)    \n",
    "    \n",
    "f = []\n",
    "f_11 = []\n",
    "mypath_11 = pathBase + 'chr_11'\n",
    "for (dirpath, dirnames, filenames) in walk(mypath_11):\n",
    "    f.extend(filenames)\n",
    "for l in f:\n",
    "    f_11.append(mypath_11 + '\\\\' + l)    \n",
    "    \n",
    "    \n",
    "f = []\n",
    "f_12 = []\n",
    "mypath_12 = pathBase + 'chr_12'\n",
    "for (dirpath, dirnames, filenames) in walk(mypath_12):\n",
    "    f.extend(filenames)\n",
    "for l in f:\n",
    "    f_12.append(mypath_12 + '\\\\' + l)    \n",
    "    \n",
    "    \n",
    "f = []\n",
    "f_13 = []\n",
    "mypath_13 = pathBase + 'chr_13'\n",
    "for (dirpath, dirnames, filenames) in walk(mypath_13):\n",
    "    f.extend(filenames)\n",
    "for l in f:\n",
    "    f_13.append(mypath_13 + '\\\\' + l)    \n",
    "    \n",
    "    \n",
    "f = []\n",
    "f_14 = []\n",
    "mypath_14 = pathBase + 'chr_14'\n",
    "for (dirpath, dirnames, filenames) in walk(mypath_14):\n",
    "    f.extend(filenames)\n",
    "for l in f:\n",
    "    f_14.append(mypath_14 + '\\\\' + l)    \n",
    "    \n",
    "\n",
    "    \n",
    "f = []\n",
    "f_15 = []\n",
    "mypath_15 = pathBase + 'chr_15'\n",
    "for (dirpath, dirnames, filenames) in walk(mypath_15):\n",
    "    f.extend(filenames)\n",
    "for l in f:\n",
    "    f_15.append(mypath_15 + '\\\\' + l)    \n",
    "    \n",
    "        \n",
    "f = []\n",
    "f_16 = []\n",
    "mypath_16 = pathBase + 'chr_16'\n",
    "for (dirpath, dirnames, filenames) in walk(mypath_16):\n",
    "    f.extend(filenames)\n",
    "for l in f:\n",
    "    f_16.append(mypath_16 + '\\\\' + l)    \n",
    "    \n",
    "        \n",
    "f = []\n",
    "f_17 = []\n",
    "mypath_17 = pathBase + 'chr_17'\n",
    "for (dirpath, dirnames, filenames) in walk(mypath_17):\n",
    "    f.extend(filenames)\n",
    "for l in f:\n",
    "    f_17.append(mypath_17 + '\\\\' + l)    \n",
    "    \n",
    "        \n",
    "f = []\n",
    "f_18 = []\n",
    "mypath_18 = pathBase + 'chr_18'\n",
    "for (dirpath, dirnames, filenames) in walk(mypath_18):\n",
    "    f.extend(filenames)\n",
    "for l in f:\n",
    "    f_18.append(mypath_18 + '\\\\' + l)    \n",
    "    \n",
    "        \n",
    "f = []\n",
    "f_19 = []\n",
    "mypath_19 = pathBase + 'chr_19'\n",
    "for (dirpath, dirnames, filenames) in walk(mypath_19):\n",
    "    f.extend(filenames)\n",
    "for l in f:\n",
    "    f_19.append(mypath_19 + '\\\\' + l)    \n",
    "    \n",
    "        \n",
    "f = []\n",
    "f_20 = []\n",
    "mypath_20 = pathBase + 'chr_20'\n",
    "for (dirpath, dirnames, filenames) in walk(mypath_20):\n",
    "    f.extend(filenames)\n",
    "for l in f:\n",
    "    f_20.append(mypath_20 + '\\\\' + l)    \n",
    "   \n",
    "        \n",
    "f = []\n",
    "f_21 = []\n",
    "mypath_21 = pathBase + 'chr_21'\n",
    "for (dirpath, dirnames, filenames) in walk(mypath_21):\n",
    "    f.extend(filenames)\n",
    "for l in f:\n",
    "    f_21.append(mypath_21 + '\\\\' + l)    \n",
    "   \n",
    "        \n",
    "f = []\n",
    "f_22 = []\n",
    "mypath_22 = pathBase + 'chr_22'\n",
    "for (dirpath, dirnames, filenames) in walk(mypath_22):\n",
    "    f.extend(filenames)\n",
    "for l in f:\n",
    "    f_22.append(mypath_22 + '\\\\' + l)    \n",
    "   \n",
    "f = []\n",
    "f_x = []\n",
    "mypath_x = pathBase + 'chr_x'\n",
    "for (dirpath, dirnames, filenames) in walk(mypath_x):\n",
    "    f.extend(filenames)\n",
    "for l in f:\n",
    "    f_x.append(mypath_x + '\\\\' + l)    \n",
    "   \n",
    "f = []\n",
    "f_y = []\n",
    "mypath_y = pathBase + 'chr_y'\n",
    "for (dirpath, dirnames, filenames) in walk(mypath_y):\n",
    "    f.extend(filenames)\n",
    "for l in f:\n",
    "    f_y.append(mypath_y + '\\\\' + l)  \n",
    "    \n",
    "\n",
    "# ///////// Abnormal ones //////////////\n",
    "\n",
    "f = []\n",
    "f_18_p11_deletion = []\n",
    "mypath_18_p11_deletion = pathBase + 'chr_18_p11_deletion'\n",
    "for (dirpath, dirnames, filenames) in walk(mypath_18_p11_deletion):\n",
    "    f.extend(filenames)\n",
    "for l in f:\n",
    "    f_18_p11_deletion.append(mypath_18_p11_deletion + '\\\\' + l)  \n",
    "\n",
    "\n",
    "f = []\n",
    "f_18_q10_isochromosome = []\n",
    "mypath_18_q10_isochromosome = pathBase + 'chr_18_q10_isochromosome'\n",
    "for (dirpath, dirnames, filenames) in walk(mypath_18_q10_isochromosome):\n",
    "    f.extend(filenames)\n",
    "for l in f:\n",
    "    f_18_q10_isochromosome.append(mypath_18_q10_isochromosome + '\\\\' + l)  \n",
    "    \n",
    "\n",
    "\n",
    "f = []\n",
    "f_9_inversion = []\n",
    "mypath_9_inversion = pathBase + 'chr_9_inversion'\n",
    "for (dirpath, dirnames, filenames) in walk(mypath_9_inversion):\n",
    "    f.extend(filenames)\n",
    "for l in f:\n",
    "    f_9_inversion.append(mypath_9_inversion + '\\\\' + l)  \n",
    "    \n",
    "\n",
    "f = []\n",
    "f_5_p14_deletion = []\n",
    "mypath_5_p14_deletion = pathBase + 'chr_5_p14_deletion'\n",
    "for (dirpath, dirnames, filenames) in walk(mypath_5_p14_deletion):\n",
    "    f.extend(filenames)\n",
    "for l in f:\n",
    "    f_5_p14_deletion.append(mypath_5_p14_deletion + '\\\\' + l)  \n",
    "    \n",
    "\n",
    "f = []\n",
    "f_x_isochromosome = []\n",
    "mypath_x_isochromosome = pathBase + 'chr_x_isochromosome'\n",
    "for (dirpath, dirnames, filenames) in walk(mypath_x_isochromosome):\n",
    "    f.extend(filenames)\n",
    "for l in f:\n",
    "    f_x_isochromosome.append(mypath_x_isochromosome + '\\\\' + l)  \n",
    "    \n",
    "    \n",
    "f = []\n",
    "f_x_p22_cnv = []\n",
    "mypath_x_p22_cnv = pathBase + 'chr_x_p22_cnv'\n",
    "for (dirpath, dirnames, filenames) in walk(mypath_x_p22_cnv):\n",
    "    f.extend(filenames)\n",
    "for l in f:\n",
    "    f_x_p22_cnv.append(mypath_x_p22_cnv + '\\\\' + l)\n",
    "    \n",
    "    \n",
    "f = []\n",
    "f_x_q21_cnv = []\n",
    "mypath_x_q21_cnv = pathBase + 'chr_x_q21_cnv'\n",
    "for (dirpath, dirnames, filenames) in walk(mypath_x_q21_cnv):\n",
    "    f.extend(filenames)\n",
    "for l in f:\n",
    "    f_x_q21_cnv.append(mypath_x_q21_cnv + '\\\\' + l)  \n",
    "    \n",
    "    \n",
    "f = []\n",
    "f_x_q22_deletion = []\n",
    "mypath_x_q22_deletion = pathBase + 'chr_x_q22_deletion'\n",
    "for (dirpath, dirnames, filenames) in walk(mypath_x_q22_deletion):\n",
    "    f.extend(filenames)\n",
    "for l in f:\n",
    "    f_x_q22_deletion.append(mypath_x_q22_deletion + '\\\\' + l)      \n",
    "\n",
    "    \n",
    "theWhole['chr_01'] = f_01\n",
    "theWhole['chr_02'] = f_02\n",
    "theWhole['chr_03'] = f_03\n",
    "theWhole['chr_04'] = f_04\n",
    "theWhole['chr_05'] = f_05\n",
    "theWhole['chr_06'] = f_06\n",
    "theWhole['chr_07'] = f_07\n",
    "theWhole['chr_08'] = f_08\n",
    "theWhole['chr_09'] = f_09\n",
    "theWhole['chr_10'] = f_10\n",
    "theWhole['chr_11'] = f_11\n",
    "theWhole['chr_12'] = f_12\n",
    "theWhole['chr_13'] = f_13\n",
    "theWhole['chr_14'] = f_14\n",
    "theWhole['chr_15'] = f_15\n",
    "theWhole['chr_16'] = f_16\n",
    "theWhole['chr_17'] = f_17\n",
    "theWhole['chr_18'] = f_18\n",
    "theWhole['chr_19'] = f_19\n",
    "theWhole['chr_20'] = f_20\n",
    "theWhole['chr_21'] = f_21\n",
    "theWhole['chr_22'] = f_22\n",
    "theWhole['chr_x'] = f_x\n",
    "theWhole['chr_y'] = f_y\n",
    "\n",
    "theWhole['chr_18_p11_deletion'] = f_18_p11_deletion\n",
    "theWhole['chr_18_q10_isochromosome'] = f_18_q10_isochromosome\n",
    "\n",
    "theWhole['chr_9_inversion'] = f_9_inversion\n",
    "\n",
    "theWhole['chr_5_p14_deletion'] = f_5_p14_deletion    \n",
    "\n",
    "theWhole['chr_x_isochromosome'] = f_x_isochromosome\n",
    "theWhole['chr_x_p22_cnv'] = f_x_p22_cnv\n",
    "theWhole['chr_x_q21_cnv'] = f_x_q21_cnv\n",
    "theWhole['chr_x_q22_deletion'] = f_x_q22_deletion"
   ]
  },
  {
   "cell_type": "code",
   "execution_count": 15,
   "metadata": {
    "colab": {},
    "colab_type": "code",
    "id": "NfFLITEfhM8n",
    "outputId": "f2767cf1-5d98-45a9-8a88-3d3d1afbed6c"
   },
   "outputs": [],
   "source": [
    "image = {}\n",
    "i = 0\n",
    "\n",
    "for chrNo in theWhole.keys():\n",
    "    image[chrNo] = []\n",
    "    for case in theWhole[chrNo]:\n",
    "        img = Image.open(case)\n",
    "        image[chrNo].append(img)    "
   ]
  },
  {
   "cell_type": "markdown",
   "metadata": {
    "colab_type": "text",
    "id": "3XDMPsD9hM8p"
   },
   "source": [
    "### Data Extraction"
   ]
  },
  {
   "cell_type": "code",
   "execution_count": 16,
   "metadata": {
    "colab": {},
    "colab_type": "code",
    "id": "Gb06RhsmhM8p",
    "outputId": "5e1c3d39-1202-4ebb-ab81-0290b816226f"
   },
   "outputs": [],
   "source": [
    "data = {}\n",
    "#rgb_data = {}\n",
    "\n",
    "for chrNo in image.keys():\n",
    "    data[chrNo] = []; \n",
    "    #rgb_data[chrNo] = []\n",
    "    for case in image[chrNo]:\n",
    "        grey, rgb = extractData(case)\n",
    "        data[chrNo].append(grey)\n",
    "        #rgb_data[chrNo].append(rgb)"
   ]
  },
  {
   "cell_type": "code",
   "execution_count": 17,
   "metadata": {
    "colab": {},
    "colab_type": "code",
    "id": "FeStRxHbhM8s"
   },
   "outputs": [],
   "source": [
    "array = {}\n",
    "\n",
    "for chrNo in data.keys():\n",
    "    array[chrNo] = []\n",
    "    for case in data[chrNo]:            \n",
    "        array[chrNo].append(case)\n",
    "\n",
    "x_test_list = []\n",
    "y_test_list = []\n",
    "\n",
    "for y, x in array.items():    \n",
    "    for x_item in x:\n",
    "        x_test_list.append(x_item)\n",
    "        y_test_list.append(y)"
   ]
  },
  {
   "cell_type": "markdown",
   "metadata": {},
   "source": [
    "## ChromConvert"
   ]
  },
  {
   "cell_type": "code",
   "execution_count": 18,
   "metadata": {},
   "outputs": [],
   "source": [
    "y_train_digital_list = []\n",
    "for item in y_train_list:\n",
    "    y_train_digital_list.append(chromConvert[item])\n",
    "    \n",
    "y_test_digital_list = []\n",
    "for item in y_test_list:\n",
    "    y_test_digital_list.append(chromConvert[item])"
   ]
  },
  {
   "cell_type": "markdown",
   "metadata": {},
   "source": [
    "## Numpy Array"
   ]
  },
  {
   "cell_type": "code",
   "execution_count": 19,
   "metadata": {},
   "outputs": [],
   "source": [
    "X_train = np.array(x_train_list)\n",
    "y_train = np.array(y_train_digital_list)"
   ]
  },
  {
   "cell_type": "code",
   "execution_count": 20,
   "metadata": {
    "colab": {},
    "colab_type": "code",
    "id": "ilm3FNfchM8w"
   },
   "outputs": [],
   "source": [
    "X_test = np.array(x_test_list)\n",
    "y_test = np.array(y_test_digital_list)"
   ]
  },
  {
   "cell_type": "code",
   "execution_count": 21,
   "metadata": {
    "scrolled": true
   },
   "outputs": [
    {
     "data": {
      "text/plain": [
       "array([ 1,  1,  1,  1,  1,  1,  1,  1,  1,  1,  2,  2,  2,  2,  2,  2,  2,\n",
       "        2,  2,  2,  3,  3,  3,  3,  3,  3,  3,  3,  3,  3,  4,  4,  4,  4,\n",
       "        4,  4,  4,  4,  4,  4,  5,  5,  5,  5,  5,  5,  5,  5,  5,  5,  6,\n",
       "        6,  6,  6,  6,  6,  6,  6,  6,  6,  7,  7,  7,  7,  7,  7,  7,  7,\n",
       "        7,  7,  8,  8,  8,  8,  8,  8,  8,  8,  8,  8,  9,  9,  9,  9,  9,\n",
       "        9,  9,  9,  9,  9, 10, 10, 10, 10, 10, 10, 10, 10, 10, 10, 11, 11,\n",
       "       11, 11, 11, 11, 11, 11, 11, 11, 12, 12, 12, 12, 12, 12, 12, 12, 12,\n",
       "       12, 13, 13, 13, 13, 13, 13, 13, 13, 13, 13, 14, 14, 14, 14, 14, 14,\n",
       "       14, 14, 14, 14, 15, 15, 15, 15, 15, 15, 15, 15, 15, 15, 16, 16, 16,\n",
       "       16, 16, 16, 16, 16, 16, 16, 17, 17, 17, 17, 17, 17, 17, 17, 17, 17,\n",
       "       18, 18, 18, 18, 18, 18, 18, 18, 18, 18, 19, 19, 19, 19, 19, 19, 19,\n",
       "       19, 19, 19, 20, 20, 20, 20, 20, 20, 20, 20, 20, 20, 21, 21, 21, 21,\n",
       "       21, 21, 21, 21, 21, 21, 22, 22, 22, 22, 22, 22, 22, 22, 22, 22,  0,\n",
       "        0,  0,  0,  0,  0,  0,  0,  0,  0, 23, 23, 23, 23, 23, 23, 23, 23,\n",
       "       23, 23, 24, 24, 24, 24, 24, 24, 24, 24, 24, 24, 25, 25, 25, 25, 25,\n",
       "       25, 25, 25, 25, 26, 26, 26, 26, 26, 26, 26, 26, 26, 26, 27, 27, 27,\n",
       "       27, 27, 27, 27, 27, 27, 28, 28, 28, 28, 28, 28, 28, 28, 28, 28, 29,\n",
       "       29, 29, 29, 29, 29, 29, 30, 30, 30, 30, 30, 30, 30, 30, 30, 30, 31,\n",
       "       31, 31, 31, 31, 31, 31, 31, 31, 31])"
      ]
     },
     "execution_count": 21,
     "metadata": {},
     "output_type": "execute_result"
    }
   ],
   "source": [
    "y_test"
   ]
  },
  {
   "cell_type": "code",
   "execution_count": 22,
   "metadata": {},
   "outputs": [
    {
     "data": {
      "text/plain": [
       "1653"
      ]
     },
     "execution_count": 22,
     "metadata": {},
     "output_type": "execute_result"
    }
   ],
   "source": [
    "len(X_train)"
   ]
  },
  {
   "cell_type": "code",
   "execution_count": 23,
   "metadata": {},
   "outputs": [
    {
     "data": {
      "text/plain": [
       "1653"
      ]
     },
     "execution_count": 23,
     "metadata": {},
     "output_type": "execute_result"
    }
   ],
   "source": [
    "len(y_train)"
   ]
  },
  {
   "cell_type": "code",
   "execution_count": 24,
   "metadata": {},
   "outputs": [
    {
     "data": {
      "text/plain": [
       "(300, 300)"
      ]
     },
     "execution_count": 24,
     "metadata": {},
     "output_type": "execute_result"
    }
   ],
   "source": [
    "X_train[0].shape"
   ]
  },
  {
   "cell_type": "markdown",
   "metadata": {
    "colab_type": "text",
    "id": "w6JHLc0khM8y"
   },
   "source": [
    "## Save the Datasets"
   ]
  },
  {
   "cell_type": "code",
   "execution_count": 25,
   "metadata": {
    "colab": {},
    "colab_type": "code",
    "id": "ZwZnN84ghM8y"
   },
   "outputs": [],
   "source": [
    "np.save('X_train_2D_KaryoLearning_Abnormal', X_train)\n",
    "np.save('y_train_2D_KaryoLearning_Abnormal', y_train)"
   ]
  },
  {
   "cell_type": "code",
   "execution_count": 26,
   "metadata": {
    "colab": {},
    "colab_type": "code",
    "id": "2DV0IIz7hM80"
   },
   "outputs": [],
   "source": [
    "np.save('X_test_2D_KaryoLearning_Abnormal', X_test)\n",
    "np.save('y_test_2D_KaryoLearning_Abnormal', y_test)"
   ]
  },
  {
   "cell_type": "markdown",
   "metadata": {
    "colab_type": "text",
    "id": "tHi_7uq7hM81"
   },
   "source": [
    "## Load the Datasets"
   ]
  },
  {
   "cell_type": "code",
   "execution_count": 27,
   "metadata": {
    "colab": {},
    "colab_type": "code",
    "id": "tP5TTXkJhM82"
   },
   "outputs": [],
   "source": [
    "X_train = np.load('X_train_2D_KaryoLearning_Abnormal.npy')\n",
    "y_train = np.load('y_train_2D_KaryoLearning_Abnormal.npy')\n",
    "\n",
    "X_test = np.load('X_test_2D_KaryoLearning_Abnormal.npy')\n",
    "y_test = np.load('y_test_2D_KaryoLearning_Abnormal.npy')"
   ]
  },
  {
   "cell_type": "markdown",
   "metadata": {
    "colab_type": "text",
    "id": "zKWSId2nhM83"
   },
   "source": [
    "## Convolutional Neural Network"
   ]
  },
  {
   "cell_type": "markdown",
   "metadata": {},
   "source": [
    "## Data Preparation"
   ]
  },
  {
   "cell_type": "code",
   "execution_count": 28,
   "metadata": {},
   "outputs": [],
   "source": [
    "X_train = X_train.reshape(-1, 300, 300, 1)\n",
    "X_test = X_test.reshape(-1, 300, 300, 1)"
   ]
  },
  {
   "cell_type": "markdown",
   "metadata": {
    "colab_type": "text",
    "id": "U9HLQx8dhM84"
   },
   "source": [
    "### Training"
   ]
  },
  {
   "cell_type": "markdown",
   "metadata": {
    "colab_type": "text",
    "id": "xpM5Mh8fhM84"
   },
   "source": [
    "#### Model"
   ]
  },
  {
   "cell_type": "code",
   "execution_count": 29,
   "metadata": {
    "colab": {},
    "colab_type": "code",
    "id": "jeX02jNmhM85"
   },
   "outputs": [],
   "source": [
    "model = Sequential()"
   ]
  },
  {
   "cell_type": "code",
   "execution_count": 30,
   "metadata": {},
   "outputs": [],
   "source": [
    "model.add(Conv2D(32, (3, 3), activation='relu', input_shape=(300, 300, 1)))\n",
    "model.add(MaxPooling2D((2, 2)))\n",
    "model.add(Conv2D(64, (3, 3), activation='relu'))\n",
    "model.add(MaxPooling2D((2, 2)))\n",
    "model.add(Conv2D(64, (3, 3), activation='relu'))"
   ]
  },
  {
   "cell_type": "code",
   "execution_count": 31,
   "metadata": {},
   "outputs": [],
   "source": [
    "model.add(Flatten())\n",
    "model.add(Dense(300, activation='relu'))\n",
    "model.add(Dense(400, activation='relu'))\n",
    "model.add(Dense(500, activation='relu'))\n",
    "model.add(Dense(600, activation='relu'))\n",
    "model.add(Dense(800, activation='relu'))\n",
    "model.add(Dense(500, activation='relu'))\n",
    "model.add(Dense(400, activation='relu'))\n",
    "model.add(Dense(300, activation='relu'))\n",
    "model.add(Dense(200, activation='relu'))\n",
    "model.add(Dense(100, activation='relu'))\n",
    "model.add(Dense(50, activation='relu'))\n",
    "model.add(Dense(32, activation='softmax'))"
   ]
  },
  {
   "cell_type": "markdown",
   "metadata": {
    "colab_type": "text",
    "id": "rOtNj0jlhM87"
   },
   "source": [
    "#### Tensorboard Initilization"
   ]
  },
  {
   "cell_type": "code",
   "execution_count": 32,
   "metadata": {
    "colab": {},
    "colab_type": "code",
    "id": "VEg0lb4OhM87"
   },
   "outputs": [],
   "source": [
    "%load_ext tensorboard\n",
    "log_dir = \"logs/fit/\" + datetime.datetime.now().strftime(\"%Y%m%d-%H%M%S\")\n",
    "tensorboard_callback = keras.callbacks.TensorBoard(log_dir=log_dir, histogram_freq=1)"
   ]
  },
  {
   "cell_type": "markdown",
   "metadata": {
    "colab_type": "text",
    "id": "P4zqonYwhM8-"
   },
   "source": [
    "#### Compile the modal"
   ]
  },
  {
   "cell_type": "code",
   "execution_count": 33,
   "metadata": {
    "colab": {},
    "colab_type": "code",
    "id": "wYvievAshM8_"
   },
   "outputs": [],
   "source": [
    "model.compile(optimizer='adam', loss='sparse_categorical_crossentropy', metrics=['accuracy'])"
   ]
  },
  {
   "cell_type": "markdown",
   "metadata": {
    "colab_type": "text",
    "id": "ElbCMim9hM9D"
   },
   "source": [
    "#### Training"
   ]
  },
  {
   "cell_type": "code",
   "execution_count": 34,
   "metadata": {
    "colab": {},
    "colab_type": "code",
    "id": "_PtUAhxphM9D",
    "scrolled": true
   },
   "outputs": [
    {
     "name": "stdout",
     "output_type": "stream",
     "text": [
      "Epoch 1/300\n",
      "52/52 [==============================] - 8s 113ms/step - loss: 6.7348 - accuracy: 0.0490 - val_loss: 3.4658 - val_accuracy: 0.0317\n",
      "Epoch 2/300\n",
      "52/52 [==============================] - 4s 73ms/step - loss: 3.8512 - accuracy: 0.0544 - val_loss: 3.4696 - val_accuracy: 0.0317\n",
      "Epoch 3/300\n",
      "52/52 [==============================] - 4s 77ms/step - loss: 3.3853 - accuracy: 0.0623 - val_loss: 3.5263 - val_accuracy: 0.0317\n",
      "Epoch 4/300\n",
      "52/52 [==============================] - 5s 97ms/step - loss: 3.3418 - accuracy: 0.0544 - val_loss: 3.6365 - val_accuracy: 0.0317\n",
      "Epoch 5/300\n",
      "52/52 [==============================] - 4s 80ms/step - loss: 3.3506 - accuracy: 0.0551 - val_loss: 3.5246 - val_accuracy: 0.0317\n",
      "Epoch 6/300\n",
      "52/52 [==============================] - 4s 86ms/step - loss: 3.3235 - accuracy: 0.0538 - val_loss: 3.6108 - val_accuracy: 0.0317\n",
      "Epoch 7/300\n",
      "52/52 [==============================] - 5s 90ms/step - loss: 3.3257 - accuracy: 0.0532 - val_loss: 3.6383 - val_accuracy: 0.0317\n",
      "Epoch 8/300\n",
      "52/52 [==============================] - 4s 69ms/step - loss: 3.3204 - accuracy: 0.0593 - val_loss: 3.6746 - val_accuracy: 0.0317\n",
      "Epoch 9/300\n",
      "52/52 [==============================] - 4s 70ms/step - loss: 3.3156 - accuracy: 0.0623 - val_loss: 3.5871 - val_accuracy: 0.0381\n",
      "Epoch 10/300\n",
      "52/52 [==============================] - 4s 84ms/step - loss: 3.3211 - accuracy: 0.0551 - val_loss: 3.6168 - val_accuracy: 0.0317\n",
      "Epoch 11/300\n",
      "52/52 [==============================] - 4s 73ms/step - loss: 3.3175 - accuracy: 0.0575 - val_loss: 3.5929 - val_accuracy: 0.0317\n",
      "Epoch 12/300\n",
      "52/52 [==============================] - 4s 69ms/step - loss: 3.3164 - accuracy: 0.0538 - val_loss: 3.6169 - val_accuracy: 0.0317\n",
      "Epoch 13/300\n",
      "52/52 [==============================] - 5s 91ms/step - loss: 3.2841 - accuracy: 0.0629 - val_loss: 3.5890 - val_accuracy: 0.0413\n",
      "Epoch 14/300\n",
      "52/52 [==============================] - 4s 69ms/step - loss: 2.9624 - accuracy: 0.1373 - val_loss: 3.5745 - val_accuracy: 0.1492\n",
      "Epoch 15/300\n",
      "52/52 [==============================] - 4s 83ms/step - loss: 2.5391 - accuracy: 0.2208 - val_loss: 2.9172 - val_accuracy: 0.2127\n",
      "Epoch 16/300\n",
      "52/52 [==============================] - 4s 71ms/step - loss: 1.9911 - accuracy: 0.3606 - val_loss: 2.9851 - val_accuracy: 0.3016\n",
      "Epoch 17/300\n",
      "52/52 [==============================] - 4s 69ms/step - loss: 2.6250 - accuracy: 0.2692 - val_loss: 3.4018 - val_accuracy: 0.1905\n",
      "Epoch 18/300\n",
      "52/52 [==============================] - 5s 92ms/step - loss: 2.4793 - accuracy: 0.2728 - val_loss: 2.7643 - val_accuracy: 0.2032\n",
      "Epoch 19/300\n",
      "52/52 [==============================] - 4s 69ms/step - loss: 1.9998 - accuracy: 0.3376 - val_loss: 2.7234 - val_accuracy: 0.2540\n",
      "Epoch 20/300\n",
      "52/52 [==============================] - 4s 69ms/step - loss: 1.6137 - accuracy: 0.4471 - val_loss: 2.5128 - val_accuracy: 0.3397\n",
      "Epoch 21/300\n",
      "52/52 [==============================] - 4s 70ms/step - loss: 1.3851 - accuracy: 0.4991 - val_loss: 2.1445 - val_accuracy: 0.3460\n",
      "Epoch 22/300\n",
      "52/52 [==============================] - 4s 77ms/step - loss: 1.0366 - accuracy: 0.6243 - val_loss: 2.2899 - val_accuracy: 0.4540\n",
      "Epoch 23/300\n",
      "52/52 [==============================] - 4s 69ms/step - loss: 0.8867 - accuracy: 0.6848 - val_loss: 2.1683 - val_accuracy: 0.4857\n",
      "Epoch 24/300\n",
      "52/52 [==============================] - 5s 96ms/step - loss: 0.6658 - accuracy: 0.7677 - val_loss: 2.2667 - val_accuracy: 0.4921: 0.6664 - accuracy: 0.76\n",
      "Epoch 25/300\n",
      "52/52 [==============================] - 4s 83ms/step - loss: 0.6655 - accuracy: 0.7780 - val_loss: 2.1296 - val_accuracy: 0.4540\n",
      "Epoch 26/300\n",
      "52/52 [==============================] - 4s 84ms/step - loss: 0.6346 - accuracy: 0.8076 - val_loss: 2.0868 - val_accuracy: 0.5397\n",
      "Epoch 27/300\n",
      "52/52 [==============================] - 4s 78ms/step - loss: 0.4862 - accuracy: 0.8379 - val_loss: 1.9234 - val_accuracy: 0.5206\n",
      "Epoch 28/300\n",
      "52/52 [==============================] - 4s 69ms/step - loss: 0.5066 - accuracy: 0.8276 - val_loss: 2.0224 - val_accuracy: 0.5905\n",
      "Epoch 29/300\n",
      "52/52 [==============================] - 5s 91ms/step - loss: 0.4856 - accuracy: 0.8524 - val_loss: 2.0736 - val_accuracy: 0.5587\n",
      "Epoch 30/300\n",
      "52/52 [==============================] - 4s 71ms/step - loss: 0.3733 - accuracy: 0.8736 - val_loss: 2.4093 - val_accuracy: 0.5778\n",
      "Epoch 31/300\n",
      "52/52 [==============================] - 4s 73ms/step - loss: 0.2779 - accuracy: 0.9020 - val_loss: 2.2674 - val_accuracy: 0.6476\n",
      "Epoch 32/300\n",
      "52/52 [==============================] - 4s 70ms/step - loss: 0.2248 - accuracy: 0.9310 - val_loss: 2.2375 - val_accuracy: 0.6794\n",
      "Epoch 33/300\n",
      "52/52 [==============================] - 4s 70ms/step - loss: 0.1668 - accuracy: 0.9492 - val_loss: 2.4355 - val_accuracy: 0.6698\n",
      "Epoch 34/300\n",
      "52/52 [==============================] - 4s 72ms/step - loss: 0.3429 - accuracy: 0.9201 - val_loss: 3.1523 - val_accuracy: 0.6571\n",
      "Epoch 35/300\n",
      "52/52 [==============================] - 5s 87ms/step - loss: 5.3133 - accuracy: 0.2777 - val_loss: 3.4599 - val_accuracy: 0.0349\n",
      "Epoch 36/300\n",
      "52/52 [==============================] - 4s 77ms/step - loss: 2.9196 - accuracy: 0.1627 - val_loss: 2.9178 - val_accuracy: 0.2190\n",
      "Epoch 37/300\n",
      "52/52 [==============================] - 4s 75ms/step - loss: 2.0628 - accuracy: 0.3466 - val_loss: 2.5408 - val_accuracy: 0.2730\n",
      "Epoch 38/300\n",
      "52/52 [==============================] - 5s 92ms/step - loss: 3.3616 - accuracy: 0.0684 - val_loss: 3.6881 - val_accuracy: 0.0984\n",
      "Epoch 39/300\n",
      "52/52 [==============================] - 4s 77ms/step - loss: 2.8457 - accuracy: 0.1815 - val_loss: 3.0662 - val_accuracy: 0.1968\n",
      "Epoch 40/300\n",
      "52/52 [==============================] - 4s 85ms/step - loss: 2.0773 - accuracy: 0.3303 - val_loss: 2.4991 - val_accuracy: 0.2794\n",
      "Epoch 41/300\n",
      "52/52 [==============================] - 4s 71ms/step - loss: 1.5638 - accuracy: 0.4713 - val_loss: 2.3190 - val_accuracy: 0.3333\n",
      "Epoch 42/300\n",
      "52/52 [==============================] - 4s 71ms/step - loss: 1.2629 - accuracy: 0.5390 - val_loss: 2.0201 - val_accuracy: 0.4698\n",
      "Epoch 43/300\n",
      "52/52 [==============================] - 4s 71ms/step - loss: 5.7162 - accuracy: 0.4186 - val_loss: 3.5905 - val_accuracy: 0.0317\n",
      "Epoch 44/300\n",
      "52/52 [==============================] - 4s 70ms/step - loss: 3.3877 - accuracy: 0.0599 - val_loss: 3.5772 - val_accuracy: 0.0317\n",
      "Epoch 45/300\n",
      "52/52 [==============================] - 4s 70ms/step - loss: 3.3436 - accuracy: 0.0593 - val_loss: 3.6051 - val_accuracy: 0.0317\n",
      "Epoch 46/300\n",
      "52/52 [==============================] - 4s 71ms/step - loss: 3.3263 - accuracy: 0.0617 - val_loss: 3.6196 - val_accuracy: 0.0317\n",
      "Epoch 47/300\n",
      "52/52 [==============================] - 5s 100ms/step - loss: 3.3183 - accuracy: 0.0593 - val_loss: 3.6329 - val_accuracy: 0.0317\n",
      "Epoch 48/300\n",
      "52/52 [==============================] - 4s 71ms/step - loss: 3.3130 - accuracy: 0.0581 - val_loss: 3.6429 - val_accuracy: 0.0317\n",
      "Epoch 49/300\n",
      "52/52 [==============================] - 4s 71ms/step - loss: 3.3002 - accuracy: 0.0696 - val_loss: 3.8082 - val_accuracy: 0.0286\n",
      "Epoch 50/300\n",
      "52/52 [==============================] - 5s 98ms/step - loss: 3.3056 - accuracy: 0.0690 - val_loss: 3.6608 - val_accuracy: 0.0317\n",
      "Epoch 51/300\n",
      "52/52 [==============================] - 4s 77ms/step - loss: 3.3111 - accuracy: 0.0599 - val_loss: 3.6875 - val_accuracy: 0.0317\n",
      "Epoch 52/300\n",
      "52/52 [==============================] - 5s 89ms/step - loss: 3.2982 - accuracy: 0.0714 - val_loss: 3.7605 - val_accuracy: 0.0317\n",
      "Epoch 53/300\n",
      "52/52 [==============================] - 4s 72ms/step - loss: 2.7577 - accuracy: 0.2093 - val_loss: 2.5115 - val_accuracy: 0.3016\n",
      "Epoch 54/300\n",
      "52/52 [==============================] - 5s 96ms/step - loss: 1.6349 - accuracy: 0.4555 - val_loss: 2.4524 - val_accuracy: 0.4095\n",
      "Epoch 55/300\n",
      "52/52 [==============================] - 4s 70ms/step - loss: 1.3947 - accuracy: 0.5523 - val_loss: 2.2204 - val_accuracy: 0.3238\n",
      "Epoch 56/300\n",
      "52/52 [==============================] - 4s 71ms/step - loss: 1.0179 - accuracy: 0.6449 - val_loss: 1.8269 - val_accuracy: 0.5302\n",
      "Epoch 57/300\n",
      "52/52 [==============================] - 4s 71ms/step - loss: 0.7646 - accuracy: 0.7235 - val_loss: 1.9547 - val_accuracy: 0.5270\n",
      "Epoch 58/300\n"
     ]
    },
    {
     "name": "stdout",
     "output_type": "stream",
     "text": [
      "52/52 [==============================] - 4s 69ms/step - loss: 0.6916 - accuracy: 0.7610 - val_loss: 1.9639 - val_accuracy: 0.4984\n",
      "Epoch 59/300\n",
      "52/52 [==============================] - 4s 69ms/step - loss: 0.6041 - accuracy: 0.7877 - val_loss: 1.5936 - val_accuracy: 0.6063\n",
      "Epoch 60/300\n",
      "52/52 [==============================] - 5s 88ms/step - loss: 0.5041 - accuracy: 0.8264 - val_loss: 1.6275 - val_accuracy: 0.5651\n",
      "Epoch 61/300\n",
      "52/52 [==============================] - 4s 83ms/step - loss: 0.4303 - accuracy: 0.8530 - val_loss: 2.0689 - val_accuracy: 0.6095\n",
      "Epoch 62/300\n",
      "52/52 [==============================] - 4s 76ms/step - loss: 0.5990 - accuracy: 0.8336 - val_loss: 1.9446 - val_accuracy: 0.6095\n",
      "Epoch 63/300\n",
      "52/52 [==============================] - 5s 103ms/step - loss: 0.3747 - accuracy: 0.8826 - val_loss: 1.4572 - val_accuracy: 0.6444\n",
      "Epoch 64/300\n",
      "52/52 [==============================] - 4s 69ms/step - loss: 0.3095 - accuracy: 0.9014 - val_loss: 1.7845 - val_accuracy: 0.6571\n",
      "Epoch 65/300\n",
      "52/52 [==============================] - 5s 94ms/step - loss: 0.3130 - accuracy: 0.8984 - val_loss: 1.7753 - val_accuracy: 0.6889\n",
      "Epoch 66/300\n",
      "52/52 [==============================] - 4s 69ms/step - loss: 0.3732 - accuracy: 0.9002 - val_loss: 1.3876 - val_accuracy: 0.6952\n",
      "Epoch 67/300\n",
      "52/52 [==============================] - 4s 70ms/step - loss: 0.2346 - accuracy: 0.9298 - val_loss: 1.9438 - val_accuracy: 0.6508\n",
      "Epoch 68/300\n",
      "52/52 [==============================] - 5s 89ms/step - loss: 8.5142 - accuracy: 0.4979 - val_loss: 3.6340 - val_accuracy: 0.0317\n",
      "Epoch 69/300\n",
      "52/52 [==============================] - 4s 70ms/step - loss: 3.3145 - accuracy: 0.0696 - val_loss: 3.8363 - val_accuracy: 0.0222\n",
      "Epoch 70/300\n",
      "52/52 [==============================] - 4s 77ms/step - loss: 3.3016 - accuracy: 0.0635 - val_loss: 3.7817 - val_accuracy: 0.0349\n",
      "Epoch 71/300\n",
      "52/52 [==============================] - 4s 69ms/step - loss: 2.8426 - accuracy: 0.2136 - val_loss: 2.8033 - val_accuracy: 0.2063\n",
      "Epoch 72/300\n",
      "52/52 [==============================] - 4s 70ms/step - loss: 2.0027 - accuracy: 0.3878 - val_loss: 2.7022 - val_accuracy: 0.3048\n",
      "Epoch 73/300\n",
      "52/52 [==============================] - 4s 69ms/step - loss: 1.6677 - accuracy: 0.4658 - val_loss: 3.0714 - val_accuracy: 0.4286\n",
      "Epoch 74/300\n",
      "52/52 [==============================] - 5s 93ms/step - loss: 1.1920 - accuracy: 0.6056 - val_loss: 1.9709 - val_accuracy: 0.4825\n",
      "Epoch 75/300\n",
      "52/52 [==============================] - 5s 96ms/step - loss: 0.8742 - accuracy: 0.7175 - val_loss: 1.7186 - val_accuracy: 0.4921\n",
      "Epoch 76/300\n",
      "52/52 [==============================] - 5s 101ms/step - loss: 0.6881 - accuracy: 0.7750 - val_loss: 2.0542 - val_accuracy: 0.5556\n",
      "Epoch 77/300\n",
      "52/52 [==============================] - 5s 97ms/step - loss: 0.6203 - accuracy: 0.8106 - val_loss: 1.8939 - val_accuracy: 0.5810\n",
      "Epoch 78/300\n",
      "52/52 [==============================] - 5s 89ms/step - loss: 0.7072 - accuracy: 0.7816 - val_loss: 3.6188 - val_accuracy: 0.0667\n",
      "Epoch 79/300\n",
      "52/52 [==============================] - 4s 74ms/step - loss: 3.2643 - accuracy: 0.0998 - val_loss: 3.7398 - val_accuracy: 0.0349\n",
      "Epoch 80/300\n",
      "52/52 [==============================] - 4s 71ms/step - loss: 3.3067 - accuracy: 0.0738 - val_loss: 3.8155 - val_accuracy: 0.0317\n",
      "Epoch 81/300\n",
      "52/52 [==============================] - 4s 71ms/step - loss: 3.2762 - accuracy: 0.0853 - val_loss: 4.2396 - val_accuracy: 0.1714\n",
      "Epoch 82/300\n",
      "52/52 [==============================] - 4s 71ms/step - loss: 4.3108 - accuracy: 0.1434 - val_loss: 3.6527 - val_accuracy: 0.0317\n",
      "Epoch 83/300\n",
      "52/52 [==============================] - 5s 98ms/step - loss: 3.2941 - accuracy: 0.0714 - val_loss: 2.8360 - val_accuracy: 0.2286\n",
      "Epoch 84/300\n",
      "52/52 [==============================] - 4s 74ms/step - loss: 3.8436 - accuracy: 0.0859 - val_loss: 3.6736 - val_accuracy: 0.0317\n",
      "Epoch 85/300\n",
      "52/52 [==============================] - 4s 71ms/step - loss: 3.3157 - accuracy: 0.0629 - val_loss: 3.6688 - val_accuracy: 0.0317\n",
      "Epoch 86/300\n",
      "52/52 [==============================] - 4s 77ms/step - loss: 3.3150 - accuracy: 0.0629 - val_loss: 3.6619 - val_accuracy: 0.0317\n",
      "Epoch 87/300\n",
      "52/52 [==============================] - 4s 71ms/step - loss: 3.3133 - accuracy: 0.0575 - val_loss: 3.6586 - val_accuracy: 0.0317\n",
      "Epoch 88/300\n",
      "52/52 [==============================] - 4s 70ms/step - loss: 3.3120 - accuracy: 0.0635 - val_loss: 3.6678 - val_accuracy: 0.0317\n",
      "Epoch 89/300\n",
      "52/52 [==============================] - 4s 71ms/step - loss: 3.3115 - accuracy: 0.0635 - val_loss: 3.6628 - val_accuracy: 0.0317\n",
      "Epoch 90/300\n",
      "52/52 [==============================] - 4s 70ms/step - loss: 3.3096 - accuracy: 0.0653 - val_loss: 3.6575 - val_accuracy: 0.0317\n",
      "Epoch 91/300\n",
      "52/52 [==============================] - 4s 76ms/step - loss: 3.2047 - accuracy: 0.0926 - val_loss: 3.4939 - val_accuracy: 0.1587\n",
      "Epoch 92/300\n",
      "52/52 [==============================] - 4s 72ms/step - loss: 2.9566 - accuracy: 0.1700 - val_loss: 3.7007 - val_accuracy: 0.0317\n",
      "Epoch 93/300\n",
      "52/52 [==============================] - 5s 96ms/step - loss: 3.3120 - accuracy: 0.0665 - val_loss: 3.6746 - val_accuracy: 0.0317\n",
      "Epoch 94/300\n",
      "52/52 [==============================] - 5s 98ms/step - loss: 3.2988 - accuracy: 0.0744 - val_loss: 3.6252 - val_accuracy: 0.0317\n",
      "Epoch 95/300\n",
      "52/52 [==============================] - 5s 96ms/step - loss: 3.2773 - accuracy: 0.0792 - val_loss: 3.6153 - val_accuracy: 0.0381\n",
      "Epoch 96/300\n",
      "52/52 [==============================] - 4s 70ms/step - loss: 3.4919 - accuracy: 0.1113 - val_loss: 3.7276 - val_accuracy: 0.0317\n",
      "Epoch 97/300\n",
      "52/52 [==============================] - 4s 71ms/step - loss: 3.3157 - accuracy: 0.0659 - val_loss: 3.7074 - val_accuracy: 0.0317\n",
      "Epoch 98/300\n",
      "52/52 [==============================] - 5s 97ms/step - loss: 3.3078 - accuracy: 0.0690 - val_loss: 3.7067 - val_accuracy: 0.0317\n",
      "Epoch 99/300\n",
      "52/52 [==============================] - 4s 74ms/step - loss: 3.3119 - accuracy: 0.0702 - val_loss: 3.7123 - val_accuracy: 0.0317\n",
      "Epoch 100/300\n",
      "52/52 [==============================] - 5s 91ms/step - loss: 3.3072 - accuracy: 0.0702 - val_loss: 3.7294 - val_accuracy: 0.0317\n",
      "Epoch 101/300\n",
      "52/52 [==============================] - 5s 99ms/step - loss: 3.2892 - accuracy: 0.0720 - val_loss: 3.7743 - val_accuracy: 0.0317\n",
      "Epoch 102/300\n",
      "52/52 [==============================] - 4s 74ms/step - loss: 3.2776 - accuracy: 0.0780 - val_loss: 3.9195 - val_accuracy: 0.0349\n",
      "Epoch 103/300\n",
      "52/52 [==============================] - 4s 70ms/step - loss: 3.2569 - accuracy: 0.0774 - val_loss: 3.9426 - val_accuracy: 0.0317\n",
      "Epoch 104/300\n",
      "52/52 [==============================] - 4s 79ms/step - loss: 3.1014 - accuracy: 0.1397 - val_loss: 3.2432 - val_accuracy: 0.1175\n",
      "Epoch 105/300\n",
      "52/52 [==============================] - 4s 71ms/step - loss: 2.3589 - accuracy: 0.2698 - val_loss: 2.6351 - val_accuracy: 0.2698\n",
      "Epoch 106/300\n",
      "52/52 [==============================] - 5s 88ms/step - loss: 1.8900 - accuracy: 0.3817 - val_loss: 2.2782 - val_accuracy: 0.3079\n",
      "Epoch 107/300\n",
      "52/52 [==============================] - 4s 70ms/step - loss: 1.5368 - accuracy: 0.5076 - val_loss: 2.4022 - val_accuracy: 0.4032\n",
      "Epoch 108/300\n",
      "52/52 [==============================] - 5s 91ms/step - loss: 1.2981 - accuracy: 0.5898 - val_loss: 2.3749 - val_accuracy: 0.3524\n",
      "Epoch 109/300\n",
      "52/52 [==============================] - 4s 71ms/step - loss: 6.3211 - accuracy: 0.5995 - val_loss: 3.7334 - val_accuracy: 0.0317\n",
      "Epoch 110/300\n",
      "52/52 [==============================] - 4s 77ms/step - loss: 3.3217 - accuracy: 0.0641 - val_loss: 3.6901 - val_accuracy: 0.0317\n",
      "Epoch 111/300\n",
      "52/52 [==============================] - 4s 70ms/step - loss: 3.3160 - accuracy: 0.0641 - val_loss: 3.6751 - val_accuracy: 0.0317\n",
      "Epoch 112/300\n",
      "52/52 [==============================] - 4s 70ms/step - loss: 3.3130 - accuracy: 0.0641 - val_loss: 3.6658 - val_accuracy: 0.0317\n",
      "Epoch 113/300\n",
      "52/52 [==============================] - 5s 97ms/step - loss: 3.3104 - accuracy: 0.0641 - val_loss: 3.6653 - val_accuracy: 0.0317\n",
      "Epoch 114/300\n",
      "52/52 [==============================] - 4s 70ms/step - loss: 3.3098 - accuracy: 0.0647 - val_loss: 3.6620 - val_accuracy: 0.0317\n",
      "Epoch 115/300\n"
     ]
    },
    {
     "name": "stdout",
     "output_type": "stream",
     "text": [
      "52/52 [==============================] - 4s 69ms/step - loss: 3.3077 - accuracy: 0.0593 - val_loss: 3.6553 - val_accuracy: 0.0317\n",
      "Epoch 116/300\n",
      "52/52 [==============================] - 5s 91ms/step - loss: 3.3064 - accuracy: 0.0665 - val_loss: 3.6580 - val_accuracy: 0.0317\n",
      "Epoch 117/300\n",
      "52/52 [==============================] - 4s 72ms/step - loss: 3.3073 - accuracy: 0.0678 - val_loss: 3.6564 - val_accuracy: 0.0317\n",
      "Epoch 118/300\n",
      "52/52 [==============================] - 4s 69ms/step - loss: 3.3014 - accuracy: 0.0599 - val_loss: 3.6653 - val_accuracy: 0.0317\n",
      "Epoch 119/300\n",
      "52/52 [==============================] - 4s 69ms/step - loss: 3.2916 - accuracy: 0.0714 - val_loss: 3.6538 - val_accuracy: 0.0317\n",
      "Epoch 120/300\n",
      "52/52 [==============================] - 5s 89ms/step - loss: 3.2872 - accuracy: 0.0732 - val_loss: 3.6652 - val_accuracy: 0.0317\n",
      "Epoch 121/300\n",
      "52/52 [==============================] - 4s 69ms/step - loss: 3.2723 - accuracy: 0.0762 - val_loss: 3.8844 - val_accuracy: 0.0317\n",
      "Epoch 122/300\n",
      "52/52 [==============================] - 4s 69ms/step - loss: 3.2673 - accuracy: 0.0780 - val_loss: 3.7048 - val_accuracy: 0.0317\n",
      "Epoch 123/300\n",
      "52/52 [==============================] - 4s 71ms/step - loss: 3.2742 - accuracy: 0.0756 - val_loss: 3.6769 - val_accuracy: 0.0317\n",
      "Epoch 124/300\n",
      "52/52 [==============================] - 5s 94ms/step - loss: 3.2582 - accuracy: 0.0811 - val_loss: 3.7323 - val_accuracy: 0.0317\n",
      "Epoch 125/300\n",
      "52/52 [==============================] - 4s 71ms/step - loss: 3.2265 - accuracy: 0.0859 - val_loss: 4.0844 - val_accuracy: 0.0317\n",
      "Epoch 126/300\n",
      "52/52 [==============================] - 4s 74ms/step - loss: 3.2241 - accuracy: 0.0901 - val_loss: 3.9623 - val_accuracy: 0.0317\n",
      "Epoch 127/300\n",
      "52/52 [==============================] - 5s 94ms/step - loss: 3.2052 - accuracy: 0.0907 - val_loss: 4.0110 - val_accuracy: 0.0317\n",
      "Epoch 128/300\n",
      "52/52 [==============================] - 5s 95ms/step - loss: 3.1965 - accuracy: 0.0926 - val_loss: 4.0747 - val_accuracy: 0.0317\n",
      "Epoch 129/300\n",
      "52/52 [==============================] - 5s 97ms/step - loss: 3.2017 - accuracy: 0.0926 - val_loss: 4.0079 - val_accuracy: 0.0317\n",
      "Epoch 130/300\n",
      "52/52 [==============================] - 5s 88ms/step - loss: 3.2101 - accuracy: 0.0901 - val_loss: 4.1576 - val_accuracy: 0.0317\n",
      "Epoch 131/300\n",
      "52/52 [==============================] - 4s 69ms/step - loss: 3.2014 - accuracy: 0.0926 - val_loss: 4.2060 - val_accuracy: 0.0317\n",
      "Epoch 132/300\n",
      "52/52 [==============================] - 5s 98ms/step - loss: 3.2020 - accuracy: 0.0889 - val_loss: 4.5686 - val_accuracy: 0.0317\n",
      "Epoch 133/300\n",
      "52/52 [==============================] - 4s 68ms/step - loss: 3.1842 - accuracy: 0.0944 - val_loss: 5.4389 - val_accuracy: 0.0317\n",
      "Epoch 134/300\n",
      "52/52 [==============================] - 4s 72ms/step - loss: 3.2706 - accuracy: 0.0805 - val_loss: 3.7955 - val_accuracy: 0.0317\n",
      "Epoch 135/300\n",
      "52/52 [==============================] - 4s 73ms/step - loss: 3.2401 - accuracy: 0.0829 - val_loss: 4.7468 - val_accuracy: 0.0317\n",
      "Epoch 136/300\n",
      "52/52 [==============================] - 5s 95ms/step - loss: 3.2068 - accuracy: 0.0895 - val_loss: 5.1665 - val_accuracy: 0.0317\n",
      "Epoch 137/300\n",
      "52/52 [==============================] - 5s 97ms/step - loss: 3.2044 - accuracy: 0.0913 - val_loss: 5.1400 - val_accuracy: 0.0317\n",
      "Epoch 138/300\n",
      "52/52 [==============================] - 5s 98ms/step - loss: 3.1938 - accuracy: 0.0920 - val_loss: 5.1903 - val_accuracy: 0.0349\n",
      "Epoch 139/300\n",
      "52/52 [==============================] - 4s 71ms/step - loss: 3.1869 - accuracy: 0.0932 - val_loss: 5.7995 - val_accuracy: 0.0317\n",
      "Epoch 140/300\n",
      "52/52 [==============================] - 4s 70ms/step - loss: 3.2096 - accuracy: 0.0907 - val_loss: 3.9197 - val_accuracy: 0.0317\n",
      "Epoch 141/300\n",
      "52/52 [==============================] - 4s 70ms/step - loss: 3.2118 - accuracy: 0.0907 - val_loss: 4.5315 - val_accuracy: 0.0317\n",
      "Epoch 142/300\n",
      "52/52 [==============================] - 5s 96ms/step - loss: 3.2005 - accuracy: 0.0920 - val_loss: 4.5591 - val_accuracy: 0.0317\n",
      "Epoch 143/300\n",
      "52/52 [==============================] - 4s 70ms/step - loss: 3.1957 - accuracy: 0.0926 - val_loss: 4.8560 - val_accuracy: 0.0317\n",
      "Epoch 144/300\n",
      "52/52 [==============================] - 5s 96ms/step - loss: 3.1953 - accuracy: 0.0926 - val_loss: 5.0915 - val_accuracy: 0.0317\n",
      "Epoch 145/300\n",
      "52/52 [==============================] - 4s 71ms/step - loss: 3.1920 - accuracy: 0.0920 - val_loss: 4.4442 - val_accuracy: 0.0317\n",
      "Epoch 146/300\n",
      "52/52 [==============================] - 4s 71ms/step - loss: 3.1831 - accuracy: 0.0926 - val_loss: 4.5979 - val_accuracy: 0.0317\n",
      "Epoch 147/300\n",
      "52/52 [==============================] - 4s 71ms/step - loss: 3.1789 - accuracy: 0.0962 - val_loss: 4.5913 - val_accuracy: 0.0349\n",
      "Epoch 148/300\n",
      "52/52 [==============================] - 4s 71ms/step - loss: 3.1805 - accuracy: 0.0956 - val_loss: 4.1931 - val_accuracy: 0.0317\n",
      "Epoch 149/300\n",
      "52/52 [==============================] - 4s 75ms/step - loss: 3.2437 - accuracy: 0.0944 - val_loss: 4.2533 - val_accuracy: 0.0317\n",
      "Epoch 150/300\n",
      "52/52 [==============================] - 4s 75ms/step - loss: 3.1987 - accuracy: 0.0944 - val_loss: 4.3332 - val_accuracy: 0.0444\n",
      "Epoch 151/300\n",
      "52/52 [==============================] - 4s 86ms/step - loss: 3.1924 - accuracy: 0.0938 - val_loss: 4.6445 - val_accuracy: 0.0349\n",
      "Epoch 152/300\n",
      "52/52 [==============================] - 5s 95ms/step - loss: 3.2026 - accuracy: 0.0950 - val_loss: 4.4093 - val_accuracy: 0.0349\n",
      "Epoch 153/300\n",
      "52/52 [==============================] - 4s 70ms/step - loss: 3.1817 - accuracy: 0.0944 - val_loss: 4.3017 - val_accuracy: 0.0349\n",
      "Epoch 154/300\n",
      "52/52 [==============================] - 4s 75ms/step - loss: 3.1657 - accuracy: 0.1041 - val_loss: 3.7838 - val_accuracy: 0.0159\n",
      "Epoch 155/300\n",
      "52/52 [==============================] - 4s 69ms/step - loss: 2.9361 - accuracy: 0.1482 - val_loss: 3.6508 - val_accuracy: 0.0984\n",
      "Epoch 156/300\n",
      "52/52 [==============================] - 4s 69ms/step - loss: 2.4551 - accuracy: 0.2444 - val_loss: 3.2361 - val_accuracy: 0.1905\n",
      "Epoch 157/300\n",
      "52/52 [==============================] - 4s 69ms/step - loss: 2.0717 - accuracy: 0.3394 - val_loss: 2.5216 - val_accuracy: 0.2413\n",
      "Epoch 158/300\n",
      "52/52 [==============================] - 4s 71ms/step - loss: 1.8741 - accuracy: 0.4029 - val_loss: 3.2285 - val_accuracy: 0.2540\n",
      "Epoch 159/300\n",
      "52/52 [==============================] - 4s 70ms/step - loss: 1.6615 - accuracy: 0.4604 - val_loss: 2.3815 - val_accuracy: 0.3651\n",
      "Epoch 160/300\n",
      "52/52 [==============================] - 5s 93ms/step - loss: 1.3709 - accuracy: 0.5451 - val_loss: 2.1393 - val_accuracy: 0.3492\n",
      "Epoch 161/300\n",
      "52/52 [==============================] - 4s 73ms/step - loss: 1.1529 - accuracy: 0.6298 - val_loss: 1.9490 - val_accuracy: 0.4317\n",
      "Epoch 162/300\n",
      "52/52 [==============================] - 5s 96ms/step - loss: 1.0577 - accuracy: 0.6697 - val_loss: 2.0502 - val_accuracy: 0.4444\n",
      "Epoch 163/300\n",
      "52/52 [==============================] - 4s 73ms/step - loss: 0.8459 - accuracy: 0.7326 - val_loss: 2.2746 - val_accuracy: 0.3873\n",
      "Epoch 164/300\n",
      "52/52 [==============================] - 4s 71ms/step - loss: 0.9072 - accuracy: 0.7163 - val_loss: 1.9225 - val_accuracy: 0.4571\n",
      "Epoch 165/300\n",
      "52/52 [==============================] - 5s 93ms/step - loss: 0.6623 - accuracy: 0.7998 - val_loss: 1.8572 - val_accuracy: 0.5270\n",
      "Epoch 166/300\n",
      "52/52 [==============================] - 4s 71ms/step - loss: 0.5593 - accuracy: 0.8409 - val_loss: 1.9842 - val_accuracy: 0.5270\n",
      "Epoch 167/300\n",
      "52/52 [==============================] - 4s 70ms/step - loss: 0.5494 - accuracy: 0.8469 - val_loss: 1.8753 - val_accuracy: 0.5524\n",
      "Epoch 168/300\n",
      "52/52 [==============================] - 4s 71ms/step - loss: 0.5545 - accuracy: 0.8475 - val_loss: 1.7355 - val_accuracy: 0.6095\n",
      "Epoch 169/300\n",
      "52/52 [==============================] - 4s 71ms/step - loss: 0.4204 - accuracy: 0.8705 - val_loss: 1.9949 - val_accuracy: 0.6222\n",
      "Epoch 170/300\n",
      "52/52 [==============================] - 4s 70ms/step - loss: 0.3334 - accuracy: 0.8899 - val_loss: 1.9558 - val_accuracy: 0.6127\n",
      "Epoch 171/300\n",
      "52/52 [==============================] - 4s 71ms/step - loss: 0.4014 - accuracy: 0.8845 - val_loss: 1.7789 - val_accuracy: 0.6000\n"
     ]
    },
    {
     "name": "stdout",
     "output_type": "stream",
     "text": [
      "Epoch 172/300\n",
      "52/52 [==============================] - 4s 69ms/step - loss: 0.2470 - accuracy: 0.9208 - val_loss: 2.0395 - val_accuracy: 0.6063\n",
      "Epoch 173/300\n",
      "52/52 [==============================] - 4s 69ms/step - loss: 0.3167 - accuracy: 0.9087 - val_loss: 2.4764 - val_accuracy: 0.5238\n",
      "Epoch 174/300\n",
      "52/52 [==============================] - 4s 69ms/step - loss: 0.3639 - accuracy: 0.8984 - val_loss: 2.2669 - val_accuracy: 0.6063\n",
      "Epoch 175/300\n",
      "52/52 [==============================] - 4s 69ms/step - loss: 0.2969 - accuracy: 0.9080 - val_loss: 1.7720 - val_accuracy: 0.6032\n",
      "Epoch 176/300\n",
      "52/52 [==============================] - 4s 69ms/step - loss: 0.2458 - accuracy: 0.9201 - val_loss: 2.1635 - val_accuracy: 0.5873\n",
      "Epoch 177/300\n",
      "52/52 [==============================] - 4s 69ms/step - loss: 0.2281 - accuracy: 0.9226 - val_loss: 2.1375 - val_accuracy: 0.6825\n",
      "Epoch 178/300\n",
      "52/52 [==============================] - 4s 69ms/step - loss: 0.1584 - accuracy: 0.9504 - val_loss: 2.3558 - val_accuracy: 0.6825\n",
      "Epoch 179/300\n",
      "52/52 [==============================] - 4s 69ms/step - loss: 0.1325 - accuracy: 0.9601 - val_loss: 2.1327 - val_accuracy: 0.6540\n",
      "Epoch 180/300\n",
      "52/52 [==============================] - 4s 69ms/step - loss: 0.1047 - accuracy: 0.9619 - val_loss: 2.5139 - val_accuracy: 0.6825\n",
      "Epoch 181/300\n",
      "52/52 [==============================] - 5s 102ms/step - loss: 0.4761 - accuracy: 0.8875 - val_loss: 3.4991 - val_accuracy: 0.6000\n",
      "Epoch 182/300\n",
      "52/52 [==============================] - 4s 69ms/step - loss: 0.5535 - accuracy: 0.8596 - val_loss: 2.0348 - val_accuracy: 0.6540\n",
      "Epoch 183/300\n",
      "52/52 [==============================] - 4s 69ms/step - loss: 0.1694 - accuracy: 0.9413 - val_loss: 2.0868 - val_accuracy: 0.6190\n",
      "Epoch 184/300\n",
      "52/52 [==============================] - 4s 69ms/step - loss: 0.1512 - accuracy: 0.9510 - val_loss: 1.8478 - val_accuracy: 0.7048\n",
      "Epoch 185/300\n",
      "52/52 [==============================] - 4s 69ms/step - loss: 0.1267 - accuracy: 0.9691 - val_loss: 2.2942 - val_accuracy: 0.7238\n",
      "Epoch 186/300\n",
      "52/52 [==============================] - 4s 69ms/step - loss: 0.1891 - accuracy: 0.9480 - val_loss: 2.0792 - val_accuracy: 0.6952\n",
      "Epoch 187/300\n",
      "52/52 [==============================] - 4s 69ms/step - loss: 0.1305 - accuracy: 0.9667 - val_loss: 1.8726 - val_accuracy: 0.7429\n",
      "Epoch 188/300\n",
      "52/52 [==============================] - 4s 69ms/step - loss: 0.0602 - accuracy: 0.9843 - val_loss: 2.2003 - val_accuracy: 0.7556\n",
      "Epoch 189/300\n",
      "52/52 [==============================] - 4s 69ms/step - loss: 0.0513 - accuracy: 0.9891 - val_loss: 2.2173 - val_accuracy: 0.7460\n",
      "Epoch 190/300\n",
      "52/52 [==============================] - 4s 69ms/step - loss: 0.0270 - accuracy: 0.9921 - val_loss: 2.4680 - val_accuracy: 0.7302\n",
      "Epoch 191/300\n",
      "52/52 [==============================] - 4s 69ms/step - loss: 0.0239 - accuracy: 0.9921 - val_loss: 2.8513 - val_accuracy: 0.7333\n",
      "Epoch 192/300\n",
      "52/52 [==============================] - 4s 69ms/step - loss: 2.3484 - accuracy: 0.3593 - val_loss: 3.7090 - val_accuracy: 0.0317\n",
      "Epoch 193/300\n",
      "52/52 [==============================] - 4s 69ms/step - loss: 3.2777 - accuracy: 0.0805 - val_loss: 3.7215 - val_accuracy: 0.0317\n",
      "Epoch 194/300\n",
      "52/52 [==============================] - 4s 69ms/step - loss: 3.2419 - accuracy: 0.0877 - val_loss: 3.6440 - val_accuracy: 0.0317\n",
      "Epoch 195/300\n",
      "52/52 [==============================] - 4s 69ms/step - loss: 3.2703 - accuracy: 0.0835 - val_loss: 3.7781 - val_accuracy: 0.0317\n",
      "Epoch 196/300\n",
      "52/52 [==============================] - 4s 70ms/step - loss: 3.2243 - accuracy: 0.0920 - val_loss: 3.6896 - val_accuracy: 0.0286\n",
      "Epoch 197/300\n",
      "52/52 [==============================] - 4s 72ms/step - loss: 3.9495 - accuracy: 0.1881 - val_loss: 3.1460 - val_accuracy: 0.1778\n",
      "Epoch 198/300\n",
      "52/52 [==============================] - 4s 71ms/step - loss: 3.2743 - accuracy: 0.0799 - val_loss: 3.7104 - val_accuracy: 0.0317\n",
      "Epoch 199/300\n",
      "52/52 [==============================] - 4s 71ms/step - loss: 3.2744 - accuracy: 0.0786 - val_loss: 3.8482 - val_accuracy: 0.0317\n",
      "Epoch 200/300\n",
      "52/52 [==============================] - 4s 71ms/step - loss: 3.2434 - accuracy: 0.0853 - val_loss: 4.1492 - val_accuracy: 0.0317\n",
      "Epoch 201/300\n",
      "52/52 [==============================] - 4s 71ms/step - loss: 3.2494 - accuracy: 0.0847 - val_loss: 3.7227 - val_accuracy: 0.0317\n",
      "Epoch 202/300\n",
      "52/52 [==============================] - 4s 71ms/step - loss: 3.2066 - accuracy: 0.0907 - val_loss: 3.7271 - val_accuracy: 0.0317\n",
      "Epoch 203/300\n",
      "52/52 [==============================] - 4s 70ms/step - loss: 3.2027 - accuracy: 0.0901 - val_loss: 3.8373 - val_accuracy: 0.0317\n",
      "Epoch 204/300\n",
      "52/52 [==============================] - 4s 70ms/step - loss: 3.1841 - accuracy: 0.0920 - val_loss: 3.9243 - val_accuracy: 0.0349\n",
      "Epoch 205/300\n",
      "52/52 [==============================] - 4s 71ms/step - loss: 3.1711 - accuracy: 0.0913 - val_loss: 3.7947 - val_accuracy: 0.0317\n",
      "Epoch 206/300\n",
      "52/52 [==============================] - 4s 70ms/step - loss: 2.9993 - accuracy: 0.1404 - val_loss: 3.0681 - val_accuracy: 0.1619\n",
      "Epoch 207/300\n",
      "52/52 [==============================] - 4s 71ms/step - loss: 2.2003 - accuracy: 0.3224 - val_loss: 2.4923 - val_accuracy: 0.2762\n",
      "Epoch 208/300\n",
      "52/52 [==============================] - 4s 71ms/step - loss: 1.7464 - accuracy: 0.3969 - val_loss: 2.9526 - val_accuracy: 0.3429\n",
      "Epoch 209/300\n",
      "52/52 [==============================] - 4s 71ms/step - loss: 1.4751 - accuracy: 0.4997 - val_loss: 2.2651 - val_accuracy: 0.3778\n",
      "Epoch 210/300\n",
      "52/52 [==============================] - 4s 71ms/step - loss: 1.3535 - accuracy: 0.5511 - val_loss: 2.2793 - val_accuracy: 0.3778\n",
      "Epoch 211/300\n",
      "52/52 [==============================] - 4s 70ms/step - loss: 1.0449 - accuracy: 0.6146 - val_loss: 2.1658 - val_accuracy: 0.4095\n",
      "Epoch 212/300\n",
      "52/52 [==============================] - 4s 71ms/step - loss: 1.9819 - accuracy: 0.4041 - val_loss: 3.6945 - val_accuracy: 0.0317\n",
      "Epoch 213/300\n",
      "52/52 [==============================] - 4s 71ms/step - loss: 3.3206 - accuracy: 0.0563 - val_loss: 3.7123 - val_accuracy: 0.0317\n",
      "Epoch 214/300\n",
      "52/52 [==============================] - 4s 71ms/step - loss: 3.3002 - accuracy: 0.0702 - val_loss: 3.7199 - val_accuracy: 0.0317\n",
      "Epoch 215/300\n",
      "52/52 [==============================] - 4s 70ms/step - loss: 3.2745 - accuracy: 0.0799 - val_loss: 4.0175 - val_accuracy: 0.0317\n",
      "Epoch 216/300\n",
      "52/52 [==============================] - 4s 71ms/step - loss: 2.6669 - accuracy: 0.3043 - val_loss: 3.7295 - val_accuracy: 0.0317\n",
      "Epoch 217/300\n",
      "52/52 [==============================] - 4s 70ms/step - loss: 3.2760 - accuracy: 0.0762 - val_loss: 3.7295 - val_accuracy: 0.0317\n",
      "Epoch 218/300\n",
      "52/52 [==============================] - 4s 71ms/step - loss: 3.2499 - accuracy: 0.0853 - val_loss: 3.7809 - val_accuracy: 0.0317\n",
      "Epoch 219/300\n",
      "52/52 [==============================] - 4s 72ms/step - loss: 3.2265 - accuracy: 0.0877 - val_loss: 3.8340 - val_accuracy: 0.0317\n",
      "Epoch 220/300\n",
      "52/52 [==============================] - 4s 70ms/step - loss: 3.2506 - accuracy: 0.0877 - val_loss: 3.7624 - val_accuracy: 0.0317\n",
      "Epoch 221/300\n",
      "52/52 [==============================] - 4s 71ms/step - loss: 3.2056 - accuracy: 0.0901 - val_loss: 3.8485 - val_accuracy: 0.0317\n",
      "Epoch 222/300\n",
      "52/52 [==============================] - 4s 71ms/step - loss: 3.1941 - accuracy: 0.0956 - val_loss: 4.0576 - val_accuracy: 0.0317\n",
      "Epoch 223/300\n",
      "52/52 [==============================] - 4s 70ms/step - loss: 3.1699 - accuracy: 0.1004 - val_loss: 3.8939 - val_accuracy: 0.0317\n",
      "Epoch 224/300\n",
      "52/52 [==============================] - 4s 70ms/step - loss: 3.1545 - accuracy: 0.1034 - val_loss: 3.9306 - val_accuracy: 0.0317\n",
      "Epoch 225/300\n",
      "52/52 [==============================] - 4s 72ms/step - loss: 2.9726 - accuracy: 0.1706 - val_loss: 3.1587 - val_accuracy: 0.1397\n",
      "Epoch 226/300\n",
      "52/52 [==============================] - 4s 70ms/step - loss: 8.2113 - accuracy: 0.1240 - val_loss: 3.7099 - val_accuracy: 0.0286\n",
      "Epoch 227/300\n",
      "52/52 [==============================] - 4s 72ms/step - loss: 3.2952 - accuracy: 0.0720 - val_loss: 3.7599 - val_accuracy: 0.0317\n",
      "Epoch 228/300\n",
      "52/52 [==============================] - 4s 71ms/step - loss: 3.2731 - accuracy: 0.0786 - val_loss: 3.8433 - val_accuracy: 0.0317\n"
     ]
    },
    {
     "name": "stdout",
     "output_type": "stream",
     "text": [
      "Epoch 229/300\n",
      "52/52 [==============================] - 4s 70ms/step - loss: 3.2368 - accuracy: 0.0835 - val_loss: 3.7859 - val_accuracy: 0.0286\n",
      "Epoch 230/300\n",
      "52/52 [==============================] - 4s 69ms/step - loss: 3.2973 - accuracy: 0.0853 - val_loss: 3.8379 - val_accuracy: 0.0317\n",
      "Epoch 231/300\n",
      "52/52 [==============================] - 4s 69ms/step - loss: 3.2304 - accuracy: 0.0865 - val_loss: 3.9612 - val_accuracy: 0.0317\n",
      "Epoch 232/300\n",
      "52/52 [==============================] - 4s 68ms/step - loss: 3.2170 - accuracy: 0.0877 - val_loss: 3.9867 - val_accuracy: 0.0317\n",
      "Epoch 233/300\n",
      "52/52 [==============================] - 4s 69ms/step - loss: 3.2113 - accuracy: 0.0895 - val_loss: 4.0120 - val_accuracy: 0.0317\n",
      "Epoch 234/300\n",
      "52/52 [==============================] - 4s 70ms/step - loss: 3.1973 - accuracy: 0.0926 - val_loss: 3.7993 - val_accuracy: 0.0286\n",
      "Epoch 235/300\n",
      "52/52 [==============================] - 4s 69ms/step - loss: 3.1911 - accuracy: 0.0920 - val_loss: 3.6401 - val_accuracy: 0.0286\n",
      "Epoch 236/300\n",
      "52/52 [==============================] - 4s 69ms/step - loss: 3.1867 - accuracy: 0.0913 - val_loss: 3.8492 - val_accuracy: 0.0286\n",
      "Epoch 237/300\n",
      "52/52 [==============================] - 4s 72ms/step - loss: 3.1816 - accuracy: 0.0920 - val_loss: 3.9645 - val_accuracy: 0.0286\n",
      "Epoch 238/300\n",
      "52/52 [==============================] - 4s 69ms/step - loss: 3.1639 - accuracy: 0.0938 - val_loss: 3.7587 - val_accuracy: 0.0349\n",
      "Epoch 239/300\n",
      "52/52 [==============================] - 4s 69ms/step - loss: 2.9547 - accuracy: 0.1379 - val_loss: 3.3691 - val_accuracy: 0.1651\n",
      "Epoch 240/300\n",
      "52/52 [==============================] - 4s 69ms/step - loss: 2.3473 - accuracy: 0.2613 - val_loss: 2.4152 - val_accuracy: 0.2413 accuracy: 0.\n",
      "Epoch 241/300\n",
      "52/52 [==============================] - 4s 69ms/step - loss: 1.8412 - accuracy: 0.3551 - val_loss: 2.5333 - val_accuracy: 0.2476\n",
      "Epoch 242/300\n",
      "52/52 [==============================] - 4s 69ms/step - loss: 5.5664 - accuracy: 0.2813 - val_loss: 3.7290 - val_accuracy: 0.0317\n",
      "Epoch 243/300\n",
      "52/52 [==============================] - 4s 69ms/step - loss: 3.3148 - accuracy: 0.0659 - val_loss: 3.6812 - val_accuracy: 0.0317\n",
      "Epoch 244/300\n",
      "52/52 [==============================] - 4s 69ms/step - loss: 3.3049 - accuracy: 0.0678 - val_loss: 3.6898 - val_accuracy: 0.0317\n",
      "Epoch 245/300\n",
      "52/52 [==============================] - 4s 69ms/step - loss: 3.2995 - accuracy: 0.0678 - val_loss: 3.6833 - val_accuracy: 0.0317\n",
      "Epoch 246/300\n",
      "52/52 [==============================] - 4s 69ms/step - loss: 3.2956 - accuracy: 0.0702 - val_loss: 3.6789 - val_accuracy: 0.0317\n",
      "Epoch 247/300\n",
      "52/52 [==============================] - 4s 69ms/step - loss: 3.2888 - accuracy: 0.0672 - val_loss: 3.6858 - val_accuracy: 0.0317\n",
      "Epoch 248/300\n",
      "52/52 [==============================] - 4s 69ms/step - loss: 3.2834 - accuracy: 0.0720 - val_loss: 3.6802 - val_accuracy: 0.0317\n",
      "Epoch 249/300\n",
      "52/52 [==============================] - 4s 75ms/step - loss: 3.2777 - accuracy: 0.0744 - val_loss: 3.7066 - val_accuracy: 0.0317\n",
      "Epoch 250/300\n",
      "52/52 [==============================] - 4s 69ms/step - loss: 3.2730 - accuracy: 0.0756 - val_loss: 3.7632 - val_accuracy: 0.0317\n",
      "Epoch 251/300\n",
      "52/52 [==============================] - 4s 72ms/step - loss: 3.2669 - accuracy: 0.0774 - val_loss: 3.7408 - val_accuracy: 0.0317\n",
      "Epoch 252/300\n",
      "52/52 [==============================] - 4s 69ms/step - loss: 3.2625 - accuracy: 0.0786 - val_loss: 3.9018 - val_accuracy: 0.0317\n",
      "Epoch 253/300\n",
      "52/52 [==============================] - 4s 69ms/step - loss: 3.2570 - accuracy: 0.0792 - val_loss: 3.7667 - val_accuracy: 0.0317\n",
      "Epoch 254/300\n",
      "52/52 [==============================] - 4s 69ms/step - loss: 3.2488 - accuracy: 0.0817 - val_loss: 3.9905 - val_accuracy: 0.0317\n",
      "Epoch 255/300\n",
      "52/52 [==============================] - 4s 70ms/step - loss: 3.2236 - accuracy: 0.0895 - val_loss: 3.8379 - val_accuracy: 0.0317\n",
      "Epoch 256/300\n",
      "52/52 [==============================] - 4s 69ms/step - loss: 3.2312 - accuracy: 0.0895 - val_loss: 3.7421 - val_accuracy: 0.0317\n",
      "Epoch 257/300\n",
      "52/52 [==============================] - 4s 69ms/step - loss: 3.2078 - accuracy: 0.0920 - val_loss: 3.9702 - val_accuracy: 0.0317\n",
      "Epoch 258/300\n",
      "52/52 [==============================] - 4s 69ms/step - loss: 3.1947 - accuracy: 0.0968 - val_loss: 4.4331 - val_accuracy: 0.0349\n",
      "Epoch 259/300\n",
      "52/52 [==============================] - 4s 69ms/step - loss: 3.2069 - accuracy: 0.0932 - val_loss: 3.9114 - val_accuracy: 0.0317\n",
      "Epoch 260/300\n",
      "52/52 [==============================] - 4s 69ms/step - loss: 3.2347 - accuracy: 0.0889 - val_loss: 4.0843 - val_accuracy: 0.0317\n",
      "Epoch 261/300\n",
      "52/52 [==============================] - 4s 69ms/step - loss: 3.2999 - accuracy: 0.0799 - val_loss: 3.6806 - val_accuracy: 0.0317\n",
      "Epoch 262/300\n",
      "52/52 [==============================] - 4s 69ms/step - loss: 3.2810 - accuracy: 0.0738 - val_loss: 3.6644 - val_accuracy: 0.0317\n",
      "Epoch 263/300\n",
      "52/52 [==============================] - 4s 69ms/step - loss: 3.2765 - accuracy: 0.0762 - val_loss: 3.6760 - val_accuracy: 0.0317\n",
      "Epoch 264/300\n",
      "52/52 [==============================] - 4s 69ms/step - loss: 3.3121 - accuracy: 0.0756 - val_loss: 3.6706 - val_accuracy: 0.0317\n",
      "Epoch 265/300\n",
      "52/52 [==============================] - 4s 69ms/step - loss: 3.2767 - accuracy: 0.0744 - val_loss: 3.6974 - val_accuracy: 0.0317\n",
      "Epoch 266/300\n",
      "52/52 [==============================] - 4s 69ms/step - loss: 3.2693 - accuracy: 0.0762 - val_loss: 3.7085 - val_accuracy: 0.0317\n",
      "Epoch 267/300\n",
      "52/52 [==============================] - 4s 69ms/step - loss: 3.2683 - accuracy: 0.0756 - val_loss: 3.6930 - val_accuracy: 0.0317\n",
      "Epoch 268/300\n",
      "52/52 [==============================] - 4s 69ms/step - loss: 3.3288 - accuracy: 0.0756 - val_loss: 3.7016 - val_accuracy: 0.0317\n",
      "Epoch 269/300\n",
      "52/52 [==============================] - 4s 69ms/step - loss: 3.2742 - accuracy: 0.0750 - val_loss: 3.7531 - val_accuracy: 0.0317\n",
      "Epoch 270/300\n",
      "52/52 [==============================] - 4s 69ms/step - loss: 3.2670 - accuracy: 0.0756 - val_loss: 3.7419 - val_accuracy: 0.0317\n",
      "Epoch 271/300\n",
      "52/52 [==============================] - 4s 69ms/step - loss: 3.2667 - accuracy: 0.0756 - val_loss: 3.7645 - val_accuracy: 0.0317\n",
      "Epoch 272/300\n",
      "52/52 [==============================] - 4s 69ms/step - loss: 3.2657 - accuracy: 0.0756 - val_loss: 3.7604 - val_accuracy: 0.0317\n",
      "Epoch 273/300\n",
      "52/52 [==============================] - 4s 69ms/step - loss: 3.2668 - accuracy: 0.0756 - val_loss: 3.7440 - val_accuracy: 0.0317\n",
      "Epoch 274/300\n",
      "52/52 [==============================] - 4s 69ms/step - loss: 3.2653 - accuracy: 0.0756 - val_loss: 3.7593 - val_accuracy: 0.0317\n",
      "Epoch 275/300\n",
      "52/52 [==============================] - 4s 69ms/step - loss: 3.2652 - accuracy: 0.0756 - val_loss: 3.7559 - val_accuracy: 0.0317\n",
      "Epoch 276/300\n",
      "52/52 [==============================] - 4s 69ms/step - loss: 3.2638 - accuracy: 0.0768 - val_loss: 3.7632 - val_accuracy: 0.0317\n",
      "Epoch 277/300\n",
      "52/52 [==============================] - 4s 69ms/step - loss: 3.2635 - accuracy: 0.0774 - val_loss: 3.7964 - val_accuracy: 0.0317\n",
      "Epoch 278/300\n",
      "52/52 [==============================] - 4s 69ms/step - loss: 3.2629 - accuracy: 0.0774 - val_loss: 3.7450 - val_accuracy: 0.0317\n",
      "Epoch 279/300\n",
      "52/52 [==============================] - 4s 69ms/step - loss: 3.2628 - accuracy: 0.0774 - val_loss: 3.7771 - val_accuracy: 0.0317\n",
      "Epoch 280/300\n",
      "52/52 [==============================] - 4s 69ms/step - loss: 3.2624 - accuracy: 0.0774 - val_loss: 3.7553 - val_accuracy: 0.0349\n",
      "Epoch 281/300\n",
      "52/52 [==============================] - 4s 69ms/step - loss: 3.2638 - accuracy: 0.0774 - val_loss: 3.7251 - val_accuracy: 0.0349\n",
      "Epoch 282/300\n",
      "52/52 [==============================] - 4s 69ms/step - loss: 3.2614 - accuracy: 0.0780 - val_loss: 3.7459 - val_accuracy: 0.0349\n",
      "Epoch 283/300\n",
      "52/52 [==============================] - 5s 90ms/step - loss: 3.2533 - accuracy: 0.0823 - val_loss: 3.8412 - val_accuracy: 0.0381\n",
      "Epoch 284/300\n",
      "52/52 [==============================] - 5s 98ms/step - loss: 3.3392 - accuracy: 0.0786 - val_loss: 3.6601 - val_accuracy: 0.0317\n",
      "Epoch 285/300\n",
      "52/52 [==============================] - 4s 70ms/step - loss: 3.2553 - accuracy: 0.0817 - val_loss: 3.7144 - val_accuracy: 0.0317\n"
     ]
    },
    {
     "name": "stdout",
     "output_type": "stream",
     "text": [
      "Epoch 286/300\n",
      "52/52 [==============================] - 4s 69ms/step - loss: 3.2321 - accuracy: 0.0871 - val_loss: 4.0338 - val_accuracy: 0.0349\n",
      "Epoch 287/300\n",
      "52/52 [==============================] - 4s 69ms/step - loss: 3.2247 - accuracy: 0.0895 - val_loss: 3.9571 - val_accuracy: 0.0317\n",
      "Epoch 288/300\n",
      "52/52 [==============================] - 4s 69ms/step - loss: 3.2211 - accuracy: 0.0895 - val_loss: 3.8513 - val_accuracy: 0.0317ss: 3.2085 - ac\n",
      "Epoch 289/300\n",
      "52/52 [==============================] - 4s 69ms/step - loss: 3.2473 - accuracy: 0.0895 - val_loss: 3.8365 - val_accuracy: 0.0317\n",
      "Epoch 290/300\n",
      "52/52 [==============================] - 4s 69ms/step - loss: 3.2365 - accuracy: 0.0841 - val_loss: 3.8440 - val_accuracy: 0.0317\n",
      "Epoch 291/300\n",
      "52/52 [==============================] - 4s 69ms/step - loss: 3.2133 - accuracy: 0.0889 - val_loss: 4.5378 - val_accuracy: 0.0349\n",
      "Epoch 292/300\n",
      "52/52 [==============================] - 4s 69ms/step - loss: 3.2157 - accuracy: 0.0895 - val_loss: 4.2622 - val_accuracy: 0.0317\n",
      "Epoch 293/300\n",
      "52/52 [==============================] - 4s 70ms/step - loss: 3.2085 - accuracy: 0.0895 - val_loss: 4.3544 - val_accuracy: 0.0349\n",
      "Epoch 294/300\n",
      "52/52 [==============================] - 4s 70ms/step - loss: 3.2047 - accuracy: 0.0901 - val_loss: 4.4209 - val_accuracy: 0.0349\n",
      "Epoch 295/300\n",
      "52/52 [==============================] - 4s 69ms/step - loss: 3.2043 - accuracy: 0.0901 - val_loss: 4.5315 - val_accuracy: 0.0349\n",
      "Epoch 296/300\n",
      "52/52 [==============================] - 4s 70ms/step - loss: 3.1945 - accuracy: 0.0926 - val_loss: 4.8486 - val_accuracy: 0.0349\n",
      "Epoch 297/300\n",
      "52/52 [==============================] - 4s 71ms/step - loss: 3.1885 - accuracy: 0.0938 - val_loss: 5.6565 - val_accuracy: 0.0349\n",
      "Epoch 298/300\n",
      "52/52 [==============================] - 4s 72ms/step - loss: 3.2347 - accuracy: 0.0938 - val_loss: 3.7317 - val_accuracy: 0.0349\n"
     ]
    },
    {
     "ename": "KeyboardInterrupt",
     "evalue": "",
     "output_type": "error",
     "traceback": [
      "\u001b[1;31m---------------------------------------------------------------------------\u001b[0m",
      "\u001b[1;31mKeyboardInterrupt\u001b[0m                         Traceback (most recent call last)",
      "\u001b[1;32m<ipython-input-34-92e468b7a20e>\u001b[0m in \u001b[0;36m<module>\u001b[1;34m\u001b[0m\n\u001b[0;32m      1\u001b[0m model.fit(X_train, y_train, epochs=300, batch_size=32, verbose=1, \n\u001b[0;32m      2\u001b[0m           \u001b[0mvalidation_data\u001b[0m\u001b[1;33m=\u001b[0m\u001b[1;33m(\u001b[0m\u001b[0mX_test\u001b[0m\u001b[1;33m,\u001b[0m \u001b[0my_test\u001b[0m\u001b[1;33m)\u001b[0m\u001b[1;33m,\u001b[0m\u001b[1;33m\u001b[0m\u001b[1;33m\u001b[0m\u001b[0m\n\u001b[1;32m----> 3\u001b[1;33m           callbacks=[tensorboard_callback])\n\u001b[0m",
      "\u001b[1;32mC:\\Anaconda3\\lib\\site-packages\\tensorflow\\python\\keras\\engine\\training.py\u001b[0m in \u001b[0;36mfit\u001b[1;34m(self, x, y, batch_size, epochs, verbose, callbacks, validation_split, validation_data, shuffle, class_weight, sample_weight, initial_epoch, steps_per_epoch, validation_steps, validation_batch_size, validation_freq, max_queue_size, workers, use_multiprocessing)\u001b[0m\n\u001b[0;32m   1227\u001b[0m           \u001b[0mepoch_logs\u001b[0m\u001b[1;33m.\u001b[0m\u001b[0mupdate\u001b[0m\u001b[1;33m(\u001b[0m\u001b[0mval_logs\u001b[0m\u001b[1;33m)\u001b[0m\u001b[1;33m\u001b[0m\u001b[1;33m\u001b[0m\u001b[0m\n\u001b[0;32m   1228\u001b[0m \u001b[1;33m\u001b[0m\u001b[0m\n\u001b[1;32m-> 1229\u001b[1;33m         \u001b[0mcallbacks\u001b[0m\u001b[1;33m.\u001b[0m\u001b[0mon_epoch_end\u001b[0m\u001b[1;33m(\u001b[0m\u001b[0mepoch\u001b[0m\u001b[1;33m,\u001b[0m \u001b[0mepoch_logs\u001b[0m\u001b[1;33m)\u001b[0m\u001b[1;33m\u001b[0m\u001b[1;33m\u001b[0m\u001b[0m\n\u001b[0m\u001b[0;32m   1230\u001b[0m         \u001b[0mtraining_logs\u001b[0m \u001b[1;33m=\u001b[0m \u001b[0mepoch_logs\u001b[0m\u001b[1;33m\u001b[0m\u001b[1;33m\u001b[0m\u001b[0m\n\u001b[0;32m   1231\u001b[0m         \u001b[1;32mif\u001b[0m \u001b[0mself\u001b[0m\u001b[1;33m.\u001b[0m\u001b[0mstop_training\u001b[0m\u001b[1;33m:\u001b[0m\u001b[1;33m\u001b[0m\u001b[1;33m\u001b[0m\u001b[0m\n",
      "\u001b[1;32mC:\\Anaconda3\\lib\\site-packages\\tensorflow\\python\\keras\\callbacks.py\u001b[0m in \u001b[0;36mon_epoch_end\u001b[1;34m(self, epoch, logs)\u001b[0m\n\u001b[0;32m    433\u001b[0m     \u001b[0mlogs\u001b[0m \u001b[1;33m=\u001b[0m \u001b[0mself\u001b[0m\u001b[1;33m.\u001b[0m\u001b[0m_process_logs\u001b[0m\u001b[1;33m(\u001b[0m\u001b[0mlogs\u001b[0m\u001b[1;33m)\u001b[0m\u001b[1;33m\u001b[0m\u001b[1;33m\u001b[0m\u001b[0m\n\u001b[0;32m    434\u001b[0m     \u001b[1;32mfor\u001b[0m \u001b[0mcallback\u001b[0m \u001b[1;32min\u001b[0m \u001b[0mself\u001b[0m\u001b[1;33m.\u001b[0m\u001b[0mcallbacks\u001b[0m\u001b[1;33m:\u001b[0m\u001b[1;33m\u001b[0m\u001b[1;33m\u001b[0m\u001b[0m\n\u001b[1;32m--> 435\u001b[1;33m       \u001b[0mcallback\u001b[0m\u001b[1;33m.\u001b[0m\u001b[0mon_epoch_end\u001b[0m\u001b[1;33m(\u001b[0m\u001b[0mepoch\u001b[0m\u001b[1;33m,\u001b[0m \u001b[0mlogs\u001b[0m\u001b[1;33m)\u001b[0m\u001b[1;33m\u001b[0m\u001b[1;33m\u001b[0m\u001b[0m\n\u001b[0m\u001b[0;32m    436\u001b[0m \u001b[1;33m\u001b[0m\u001b[0m\n\u001b[0;32m    437\u001b[0m   \u001b[1;32mdef\u001b[0m \u001b[0mon_train_batch_begin\u001b[0m\u001b[1;33m(\u001b[0m\u001b[0mself\u001b[0m\u001b[1;33m,\u001b[0m \u001b[0mbatch\u001b[0m\u001b[1;33m,\u001b[0m \u001b[0mlogs\u001b[0m\u001b[1;33m=\u001b[0m\u001b[1;32mNone\u001b[0m\u001b[1;33m)\u001b[0m\u001b[1;33m:\u001b[0m\u001b[1;33m\u001b[0m\u001b[1;33m\u001b[0m\u001b[0m\n",
      "\u001b[1;32mC:\\Anaconda3\\lib\\site-packages\\tensorflow\\python\\keras\\callbacks.py\u001b[0m in \u001b[0;36mon_epoch_end\u001b[1;34m(self, epoch, logs)\u001b[0m\n\u001b[0;32m   2434\u001b[0m   \u001b[1;32mdef\u001b[0m \u001b[0mon_epoch_end\u001b[0m\u001b[1;33m(\u001b[0m\u001b[0mself\u001b[0m\u001b[1;33m,\u001b[0m \u001b[0mepoch\u001b[0m\u001b[1;33m,\u001b[0m \u001b[0mlogs\u001b[0m\u001b[1;33m=\u001b[0m\u001b[1;32mNone\u001b[0m\u001b[1;33m)\u001b[0m\u001b[1;33m:\u001b[0m\u001b[1;33m\u001b[0m\u001b[1;33m\u001b[0m\u001b[0m\n\u001b[0;32m   2435\u001b[0m     \u001b[1;34m\"\"\"Runs metrics and histogram summaries at epoch end.\"\"\"\u001b[0m\u001b[1;33m\u001b[0m\u001b[1;33m\u001b[0m\u001b[0m\n\u001b[1;32m-> 2436\u001b[1;33m     \u001b[0mself\u001b[0m\u001b[1;33m.\u001b[0m\u001b[0m_log_epoch_metrics\u001b[0m\u001b[1;33m(\u001b[0m\u001b[0mepoch\u001b[0m\u001b[1;33m,\u001b[0m \u001b[0mlogs\u001b[0m\u001b[1;33m)\u001b[0m\u001b[1;33m\u001b[0m\u001b[1;33m\u001b[0m\u001b[0m\n\u001b[0m\u001b[0;32m   2437\u001b[0m \u001b[1;33m\u001b[0m\u001b[0m\n\u001b[0;32m   2438\u001b[0m     \u001b[1;32mif\u001b[0m \u001b[0mself\u001b[0m\u001b[1;33m.\u001b[0m\u001b[0mhistogram_freq\u001b[0m \u001b[1;32mand\u001b[0m \u001b[0mepoch\u001b[0m \u001b[1;33m%\u001b[0m \u001b[0mself\u001b[0m\u001b[1;33m.\u001b[0m\u001b[0mhistogram_freq\u001b[0m \u001b[1;33m==\u001b[0m \u001b[1;36m0\u001b[0m\u001b[1;33m:\u001b[0m\u001b[1;33m\u001b[0m\u001b[1;33m\u001b[0m\u001b[0m\n",
      "\u001b[1;32mC:\\Anaconda3\\lib\\site-packages\\tensorflow\\python\\keras\\callbacks.py\u001b[0m in \u001b[0;36m_log_epoch_metrics\u001b[1;34m(self, epoch, logs)\u001b[0m\n\u001b[0;32m   2490\u001b[0m         \u001b[1;32mwith\u001b[0m \u001b[0mself\u001b[0m\u001b[1;33m.\u001b[0m\u001b[0m_train_writer\u001b[0m\u001b[1;33m.\u001b[0m\u001b[0mas_default\u001b[0m\u001b[1;33m(\u001b[0m\u001b[1;33m)\u001b[0m\u001b[1;33m:\u001b[0m\u001b[1;33m\u001b[0m\u001b[1;33m\u001b[0m\u001b[0m\n\u001b[0;32m   2491\u001b[0m           \u001b[1;32mfor\u001b[0m \u001b[0mname\u001b[0m\u001b[1;33m,\u001b[0m \u001b[0mvalue\u001b[0m \u001b[1;32min\u001b[0m \u001b[0mtrain_logs\u001b[0m\u001b[1;33m.\u001b[0m\u001b[0mitems\u001b[0m\u001b[1;33m(\u001b[0m\u001b[1;33m)\u001b[0m\u001b[1;33m:\u001b[0m\u001b[1;33m\u001b[0m\u001b[1;33m\u001b[0m\u001b[0m\n\u001b[1;32m-> 2492\u001b[1;33m             \u001b[0msummary_ops_v2\u001b[0m\u001b[1;33m.\u001b[0m\u001b[0mscalar\u001b[0m\u001b[1;33m(\u001b[0m\u001b[1;34m'epoch_'\u001b[0m \u001b[1;33m+\u001b[0m \u001b[0mname\u001b[0m\u001b[1;33m,\u001b[0m \u001b[0mvalue\u001b[0m\u001b[1;33m,\u001b[0m \u001b[0mstep\u001b[0m\u001b[1;33m=\u001b[0m\u001b[0mepoch\u001b[0m\u001b[1;33m)\u001b[0m\u001b[1;33m\u001b[0m\u001b[1;33m\u001b[0m\u001b[0m\n\u001b[0m\u001b[0;32m   2493\u001b[0m       \u001b[1;32mif\u001b[0m \u001b[0mval_logs\u001b[0m\u001b[1;33m:\u001b[0m\u001b[1;33m\u001b[0m\u001b[1;33m\u001b[0m\u001b[0m\n\u001b[0;32m   2494\u001b[0m         \u001b[1;32mwith\u001b[0m \u001b[0mself\u001b[0m\u001b[1;33m.\u001b[0m\u001b[0m_val_writer\u001b[0m\u001b[1;33m.\u001b[0m\u001b[0mas_default\u001b[0m\u001b[1;33m(\u001b[0m\u001b[1;33m)\u001b[0m\u001b[1;33m:\u001b[0m\u001b[1;33m\u001b[0m\u001b[1;33m\u001b[0m\u001b[0m\n",
      "\u001b[1;32mC:\\Anaconda3\\lib\\contextlib.py\u001b[0m in \u001b[0;36m__exit__\u001b[1;34m(self, type, value, traceback)\u001b[0m\n\u001b[0;32m    117\u001b[0m         \u001b[1;32mif\u001b[0m \u001b[0mtype\u001b[0m \u001b[1;32mis\u001b[0m \u001b[1;32mNone\u001b[0m\u001b[1;33m:\u001b[0m\u001b[1;33m\u001b[0m\u001b[1;33m\u001b[0m\u001b[0m\n\u001b[0;32m    118\u001b[0m             \u001b[1;32mtry\u001b[0m\u001b[1;33m:\u001b[0m\u001b[1;33m\u001b[0m\u001b[1;33m\u001b[0m\u001b[0m\n\u001b[1;32m--> 119\u001b[1;33m                 \u001b[0mnext\u001b[0m\u001b[1;33m(\u001b[0m\u001b[0mself\u001b[0m\u001b[1;33m.\u001b[0m\u001b[0mgen\u001b[0m\u001b[1;33m)\u001b[0m\u001b[1;33m\u001b[0m\u001b[1;33m\u001b[0m\u001b[0m\n\u001b[0m\u001b[0;32m    120\u001b[0m             \u001b[1;32mexcept\u001b[0m \u001b[0mStopIteration\u001b[0m\u001b[1;33m:\u001b[0m\u001b[1;33m\u001b[0m\u001b[1;33m\u001b[0m\u001b[0m\n\u001b[0;32m    121\u001b[0m                 \u001b[1;32mreturn\u001b[0m \u001b[1;32mFalse\u001b[0m\u001b[1;33m\u001b[0m\u001b[1;33m\u001b[0m\u001b[0m\n",
      "\u001b[1;32mC:\\Anaconda3\\lib\\site-packages\\tensorflow\\python\\ops\\summary_ops_v2.py\u001b[0m in \u001b[0;36mas_default\u001b[1;34m(self, step)\u001b[0m\n\u001b[0;32m    359\u001b[0m       \u001b[1;31m# Flushes the summary writer in eager mode or in graph functions, but\u001b[0m\u001b[1;33m\u001b[0m\u001b[1;33m\u001b[0m\u001b[1;33m\u001b[0m\u001b[0m\n\u001b[0;32m    360\u001b[0m       \u001b[1;31m# not in legacy graph mode (you're on your own there).\u001b[0m\u001b[1;33m\u001b[0m\u001b[1;33m\u001b[0m\u001b[1;33m\u001b[0m\u001b[0m\n\u001b[1;32m--> 361\u001b[1;33m       \u001b[0mself\u001b[0m\u001b[1;33m.\u001b[0m\u001b[0mflush\u001b[0m\u001b[1;33m(\u001b[0m\u001b[1;33m)\u001b[0m\u001b[1;33m\u001b[0m\u001b[1;33m\u001b[0m\u001b[0m\n\u001b[0m\u001b[0;32m    362\u001b[0m     \u001b[1;32mfinally\u001b[0m\u001b[1;33m:\u001b[0m\u001b[1;33m\u001b[0m\u001b[1;33m\u001b[0m\u001b[0m\n\u001b[0;32m    363\u001b[0m       \u001b[0m_summary_state\u001b[0m\u001b[1;33m.\u001b[0m\u001b[0mwriter\u001b[0m \u001b[1;33m=\u001b[0m \u001b[0mold\u001b[0m\u001b[1;33m\u001b[0m\u001b[1;33m\u001b[0m\u001b[0m\n",
      "\u001b[1;32mC:\\Anaconda3\\lib\\site-packages\\tensorflow\\python\\ops\\summary_ops_v2.py\u001b[0m in \u001b[0;36mflush\u001b[1;34m(self)\u001b[0m\n\u001b[0;32m    378\u001b[0m     \u001b[1;32mif\u001b[0m \u001b[0mself\u001b[0m\u001b[1;33m.\u001b[0m\u001b[0m_v2\u001b[0m \u001b[1;32mand\u001b[0m \u001b[0mcontext\u001b[0m\u001b[1;33m.\u001b[0m\u001b[0mexecuting_eagerly\u001b[0m\u001b[1;33m(\u001b[0m\u001b[1;33m)\u001b[0m \u001b[1;32mand\u001b[0m \u001b[0mself\u001b[0m\u001b[1;33m.\u001b[0m\u001b[0m_closed\u001b[0m\u001b[1;33m:\u001b[0m\u001b[1;33m\u001b[0m\u001b[1;33m\u001b[0m\u001b[0m\n\u001b[0;32m    379\u001b[0m       \u001b[1;32mreturn\u001b[0m\u001b[1;33m\u001b[0m\u001b[1;33m\u001b[0m\u001b[0m\n\u001b[1;32m--> 380\u001b[1;33m     \u001b[1;32mreturn\u001b[0m \u001b[0m_flush_fn\u001b[0m\u001b[1;33m(\u001b[0m\u001b[0mwriter\u001b[0m\u001b[1;33m=\u001b[0m\u001b[0mself\u001b[0m\u001b[1;33m)\u001b[0m\u001b[1;33m\u001b[0m\u001b[1;33m\u001b[0m\u001b[0m\n\u001b[0m\u001b[0;32m    381\u001b[0m \u001b[1;33m\u001b[0m\u001b[0m\n\u001b[0;32m    382\u001b[0m   \u001b[1;32mdef\u001b[0m \u001b[0mclose\u001b[0m\u001b[1;33m(\u001b[0m\u001b[0mself\u001b[0m\u001b[1;33m)\u001b[0m\u001b[1;33m:\u001b[0m\u001b[1;33m\u001b[0m\u001b[1;33m\u001b[0m\u001b[0m\n",
      "\u001b[1;32mC:\\Anaconda3\\lib\\site-packages\\tensorflow\\python\\ops\\summary_ops_v2.py\u001b[0m in \u001b[0;36mflush\u001b[1;34m(writer, name)\u001b[0m\n\u001b[0;32m   1072\u001b[0m     \u001b[0mresource\u001b[0m \u001b[1;33m=\u001b[0m \u001b[0mwriter\u001b[0m\u001b[1;33m\u001b[0m\u001b[1;33m\u001b[0m\u001b[0m\n\u001b[0;32m   1073\u001b[0m   \u001b[1;32mwith\u001b[0m \u001b[0mops\u001b[0m\u001b[1;33m.\u001b[0m\u001b[0mdevice\u001b[0m\u001b[1;33m(\u001b[0m\u001b[1;34m\"cpu:0\"\u001b[0m\u001b[1;33m)\u001b[0m\u001b[1;33m:\u001b[0m\u001b[1;33m\u001b[0m\u001b[1;33m\u001b[0m\u001b[0m\n\u001b[1;32m-> 1074\u001b[1;33m     \u001b[1;32mreturn\u001b[0m \u001b[0mgen_summary_ops\u001b[0m\u001b[1;33m.\u001b[0m\u001b[0mflush_summary_writer\u001b[0m\u001b[1;33m(\u001b[0m\u001b[0mresource\u001b[0m\u001b[1;33m,\u001b[0m \u001b[0mname\u001b[0m\u001b[1;33m=\u001b[0m\u001b[0mname\u001b[0m\u001b[1;33m)\u001b[0m\u001b[1;33m\u001b[0m\u001b[1;33m\u001b[0m\u001b[0m\n\u001b[0m\u001b[0;32m   1075\u001b[0m \u001b[1;33m\u001b[0m\u001b[0m\n\u001b[0;32m   1076\u001b[0m \u001b[1;33m\u001b[0m\u001b[0m\n",
      "\u001b[1;32mC:\\Anaconda3\\lib\\site-packages\\tensorflow\\python\\ops\\gen_summary_ops.py\u001b[0m in \u001b[0;36mflush_summary_writer\u001b[1;34m(writer, name)\u001b[0m\n\u001b[0;32m    192\u001b[0m     \u001b[1;32mtry\u001b[0m\u001b[1;33m:\u001b[0m\u001b[1;33m\u001b[0m\u001b[1;33m\u001b[0m\u001b[0m\n\u001b[0;32m    193\u001b[0m       _result = pywrap_tfe.TFE_Py_FastPathExecute(\n\u001b[1;32m--> 194\u001b[1;33m         _ctx, \"FlushSummaryWriter\", name, writer)\n\u001b[0m\u001b[0;32m    195\u001b[0m       \u001b[1;32mreturn\u001b[0m \u001b[0m_result\u001b[0m\u001b[1;33m\u001b[0m\u001b[1;33m\u001b[0m\u001b[0m\n\u001b[0;32m    196\u001b[0m     \u001b[1;32mexcept\u001b[0m \u001b[0m_core\u001b[0m\u001b[1;33m.\u001b[0m\u001b[0m_NotOkStatusException\u001b[0m \u001b[1;32mas\u001b[0m \u001b[0me\u001b[0m\u001b[1;33m:\u001b[0m\u001b[1;33m\u001b[0m\u001b[1;33m\u001b[0m\u001b[0m\n",
      "\u001b[1;31mKeyboardInterrupt\u001b[0m: "
     ]
    }
   ],
   "source": [
    "model.fit(X_train, y_train, epochs=300, batch_size=32, verbose=1, \n",
    "          validation_data=(X_test, y_test),\n",
    "          callbacks=[tensorboard_callback])"
   ]
  },
  {
   "cell_type": "code",
   "execution_count": null,
   "metadata": {
    "colab": {},
    "colab_type": "code",
    "id": "oc6qL9tKhM9F"
   },
   "outputs": [],
   "source": [
    "model.summary()"
   ]
  },
  {
   "cell_type": "markdown",
   "metadata": {
    "colab_type": "text",
    "id": "6IOse7UahM9H"
   },
   "source": [
    "### Tensorboard Display"
   ]
  },
  {
   "cell_type": "code",
   "execution_count": null,
   "metadata": {
    "colab": {},
    "colab_type": "code",
    "id": "V7O2fNf7hM9I"
   },
   "outputs": [],
   "source": [
    "%tensorboard --logdir logs/fit"
   ]
  },
  {
   "cell_type": "markdown",
   "metadata": {
    "colab_type": "text",
    "id": "XQJKzdwChM9J"
   },
   "source": [
    "## Performance Measures"
   ]
  },
  {
   "cell_type": "code",
   "execution_count": null,
   "metadata": {
    "colab": {},
    "colab_type": "code",
    "id": "gIs4_UUvhM9K"
   },
   "outputs": [],
   "source": [
    "#y_predict = clf.predict(X_test)\n",
    "#y_test = y_test\n",
    "\n",
    "loss, acc = model.evaluate(X_test, y_test, verbose=0)\n",
    "print('Test Accuracy: %.3f' % acc)"
   ]
  },
  {
   "cell_type": "code",
   "execution_count": null,
   "metadata": {},
   "outputs": [],
   "source": [
    "len(X_test)"
   ]
  },
  {
   "cell_type": "code",
   "execution_count": null,
   "metadata": {
    "colab": {},
    "colab_type": "code",
    "id": "Jm6MN7H5hM9M",
    "outputId": "888aa2d6-e546-458c-ba2a-b4206f2222f5",
    "scrolled": false
   },
   "outputs": [],
   "source": [
    "y_predict = model.predict(X_test)"
   ]
  },
  {
   "cell_type": "code",
   "execution_count": null,
   "metadata": {
    "scrolled": true
   },
   "outputs": [],
   "source": [
    "len(y_predict)"
   ]
  },
  {
   "cell_type": "code",
   "execution_count": null,
   "metadata": {},
   "outputs": [],
   "source": [
    "y_predict[12]"
   ]
  },
  {
   "cell_type": "code",
   "execution_count": null,
   "metadata": {},
   "outputs": [],
   "source": [
    "# The number 34 means the type number of all chromosome class number inlcuding abnormal ones\n",
    "y_predict_filtered = []\n",
    "\n",
    "for sample in y_predict:\n",
    "    maximum = 0\n",
    "    indicator = 0\n",
    "    for i in range(32):\n",
    "        if sample[i] > maximum:\n",
    "            maximum = sample[i]\n",
    "            indicator = i\n",
    "    y_predict_filtered.append(indicator)        "
   ]
  },
  {
   "cell_type": "code",
   "execution_count": null,
   "metadata": {},
   "outputs": [],
   "source": [
    "y_predict_filtered[12]"
   ]
  },
  {
   "cell_type": "code",
   "execution_count": null,
   "metadata": {},
   "outputs": [],
   "source": [
    "len(y_predict_filtered)"
   ]
  },
  {
   "cell_type": "code",
   "execution_count": null,
   "metadata": {
    "colab": {},
    "colab_type": "code",
    "id": "pP-vPuuUhM9O",
    "outputId": "22db63cd-ab18-4569-afe2-033c36a10cd4"
   },
   "outputs": [],
   "source": [
    "len(y_test)"
   ]
  },
  {
   "cell_type": "code",
   "execution_count": null,
   "metadata": {},
   "outputs": [],
   "source": []
  },
  {
   "cell_type": "markdown",
   "metadata": {
    "colab_type": "text",
    "id": "wFuk9U3RhM9Q"
   },
   "source": [
    "### Confusion Matrix (混淆矩阵)"
   ]
  },
  {
   "cell_type": "code",
   "execution_count": null,
   "metadata": {},
   "outputs": [],
   "source": [
    "label = ['chr_01', 'chr_02', 'chr_03',  'chr_04', 'chr_05', 'chr_06', 'chr_07',  'chr_08',  'chr_09', 'chr_10',\n",
    "'chr_11', 'chr_12', 'chr_13', 'chr_14', 'chr_15',  'chr_16', 'chr_17', 'chr_18', 'chr_19',  'chr_20',  \n",
    "'chr_21', 'chr_22', 'chr_x', 'chr_y',  'chr_18_p11_deletion', 'chr_18_q10_isochromosome', \n",
    "'chr_9_inversion', 'chr_5_p14_deletion', \n",
    "'chr_x_isochromosome', 'chr_x_p22_cnv', 'chr_x_q21_cnv',  'chr_x_q22_deletion']"
   ]
  },
  {
   "cell_type": "code",
   "execution_count": null,
   "metadata": {
    "colab": {},
    "colab_type": "code",
    "id": "nzASGN6ghM9Q",
    "outputId": "87b406d2-255d-4119-d862-5f6a6f2a8c96",
    "scrolled": false
   },
   "outputs": [],
   "source": [
    "cm = np.array(confusion_matrix(y_test, y_predict_filtered, labels=[0, 1, 2, 3, 4, 5, 6, 7, 8, 9 ,\n",
    "                                                                   10, 11, 12, 13, 14, 15, 16, 17, 18, 19, \n",
    "                                                                  20, 21, 22, 23, 24, 25, 26, 27, 28, 29,\n",
    "                                                                  30, 31]))\n",
    "confusion = pd.DataFrame(cm, index=label,\n",
    "                        columns=label)\n",
    "confusion.to_csv('ConfusionMatrix_KaryoType_CNN.csv')\n",
    "confusion"
   ]
  },
  {
   "cell_type": "code",
   "execution_count": null,
   "metadata": {
    "colab": {},
    "colab_type": "code",
    "id": "s12C84CQhM9S",
    "outputId": "5e2f474b-13ef-434d-b8e0-7d6e49f7ccb9",
    "scrolled": true
   },
   "outputs": [],
   "source": [
    "print(classification_report(y_test, y_predict_filtered))"
   ]
  },
  {
   "cell_type": "code",
   "execution_count": null,
   "metadata": {},
   "outputs": [],
   "source": [
    "plt.figure(figsize=(30, 24))\n",
    "heat_map = sb.heatmap(confusion, annot=True, \n",
    "                      cmap='coolwarm', \n",
    "                      xticklabels=confusion.columns, yticklabels=confusion.index, \n",
    "                      linewidths=.5, \n",
    "                      annot_kws={\"size\": 20})"
   ]
  },
  {
   "cell_type": "markdown",
   "metadata": {
    "colab_type": "text",
    "id": "B4J3frv1hM9U"
   },
   "source": [
    "## Save the Model"
   ]
  },
  {
   "cell_type": "code",
   "execution_count": null,
   "metadata": {},
   "outputs": [],
   "source": [
    "model.save('saved_model/model_cnn')"
   ]
  },
  {
   "cell_type": "markdown",
   "metadata": {
    "colab_type": "text",
    "id": "FEUhOZ7rhM9X"
   },
   "source": [
    "## Load the Model"
   ]
  },
  {
   "cell_type": "code",
   "execution_count": null,
   "metadata": {},
   "outputs": [],
   "source": [
    "model_reload = keras.models.load_model('saved_model/model_cnn')"
   ]
  }
 ],
 "metadata": {
  "anaconda-cloud": {},
  "celltoolbar": "Slideshow",
  "colab": {
   "name": "KaryoChimneyRock_FullyConnectedNN.ipynb",
   "provenance": []
  },
  "kernelspec": {
   "display_name": "Python 3",
   "language": "python",
   "name": "python3"
  },
  "language_info": {
   "codemirror_mode": {
    "name": "ipython",
    "version": 3
   },
   "file_extension": ".py",
   "mimetype": "text/x-python",
   "name": "python",
   "nbconvert_exporter": "python",
   "pygments_lexer": "ipython3",
   "version": "3.7.3"
  }
 },
 "nbformat": 4,
 "nbformat_minor": 1
}
