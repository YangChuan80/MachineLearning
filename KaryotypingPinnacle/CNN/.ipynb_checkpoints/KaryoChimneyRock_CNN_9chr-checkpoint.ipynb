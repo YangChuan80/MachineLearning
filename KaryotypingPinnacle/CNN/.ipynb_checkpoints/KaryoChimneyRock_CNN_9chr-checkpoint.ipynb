{
 "cells": [
  {
   "cell_type": "markdown",
   "metadata": {
    "colab_type": "text",
    "id": "slIdjqTJhM8B"
   },
   "source": [
    "# A Semi-automatic Classification of Normal Karyotypes using Convolutional Neural Network Algorithm"
   ]
  },
  {
   "cell_type": "markdown",
   "metadata": {
    "colab_type": "text",
    "id": "aBT9lgVVhM8D"
   },
   "source": [
    "- **Chuan Yang**, MD, PhD Student\n",
    "- Mentor: **Yanyan Zhao**, MD, PhD\n",
    "- Shengjing Hospital of China Medical University"
   ]
  },
  {
   "cell_type": "markdown",
   "metadata": {
    "colab_type": "text",
    "id": "xrnbxOZChM8E"
   },
   "source": [
    "## Modules"
   ]
  },
  {
   "cell_type": "code",
   "execution_count": 1,
   "metadata": {
    "colab": {},
    "colab_type": "code",
    "id": "aKjA8v4hhM8E"
   },
   "outputs": [],
   "source": [
    "from PIL import Image\n",
    "import numpy as np\n",
    "import pandas as pd\n",
    "import matplotlib.pyplot as plt\n",
    "\n",
    "import seaborn as sb\n",
    "\n",
    "from sklearn.metrics import classification_report, confusion_matrix, roc_curve\n",
    "\n",
    "from tensorflow.keras import Sequential\n",
    "from tensorflow.keras.layers import Dense, Conv2D, MaxPooling2D, Flatten\n",
    "from tensorflow import keras\n",
    "\n",
    "from os import walk\n",
    "\n",
    "import time\n",
    "import datetime\n",
    "\n",
    "%matplotlib inline"
   ]
  },
  {
   "cell_type": "markdown",
   "metadata": {
    "colab_type": "text",
    "id": "2KFSsnYohM8H"
   },
   "source": [
    "## Samples\n"
   ]
  },
  {
   "cell_type": "markdown",
   "metadata": {},
   "source": [
    "## Chormosome Label Convert by using Dictionary"
   ]
  },
  {
   "cell_type": "code",
   "execution_count": 2,
   "metadata": {},
   "outputs": [],
   "source": [
    "chromConvert = {'chr_01': 1, \n",
    "               'chr_02': 2, \n",
    "               'chr_03': 3, \n",
    "               'chr_04': 4, \n",
    "               'chr_05': 5, \n",
    "               'chr_06': 6, \n",
    "               'chr_07': 7, \n",
    "               'chr_08': 8, \n",
    "               'chr_09': 9, \n",
    "               'chr_10': 10, \n",
    "               'chr_11': 11, \n",
    "               'chr_12': 12, \n",
    "               'chr_13': 13, \n",
    "               'chr_14': 14, \n",
    "               'chr_15': 15, \n",
    "               'chr_16': 16, \n",
    "               'chr_17': 17, \n",
    "               'chr_18': 18, \n",
    "               'chr_19': 19, \n",
    "               'chr_20': 20, \n",
    "               'chr_21': 21, \n",
    "               'chr_22': 22, \n",
    "               'chr_x': 0, \n",
    "               'chr_y': 23, \n",
    "                'chr_18_p11_deletion': 24,\n",
    "                'chr_18_q10_isochromosome': 25,\n",
    "                'chr_9_inversion': 26,\n",
    "                'chr_5_p14_deletion': 27,\n",
    "                'chr_x_isochromosome': 28,\n",
    "                'chr_x_p22_cnv': 29, \n",
    "                'chr_x_q21_cnv': 30,\n",
    "                'chr_x_q22_deletion': 31\n",
    "               }"
   ]
  },
  {
   "cell_type": "markdown",
   "metadata": {},
   "source": [
    "## File Import"
   ]
  },
  {
   "cell_type": "code",
   "execution_count": 3,
   "metadata": {
    "colab": {},
    "colab_type": "code",
    "id": "8YcabYh2hM8I"
   },
   "outputs": [],
   "source": [
    "#pathBase = 'C:\\\\Users\\\\Chuan\\\\OneDrive\\\\Dowrun\\\\Database\\\\PhD\\\\KaryoTypes\\\\Arrangement\\\\'\n",
    "pathBase = 'I:\\\\Chuan\\\\Documents\\\\MyData\\\\PhD\\\\Karyotype\\\\Arrangement\\\\'\n",
    "#pathBase = 'D:\\\\Users\\\\Chuan\\\\Documents\\\\Database\\\\Karyotypes\\\\Arrangement\\\\'\n",
    "\n",
    "theWhole = {}\n",
    "\n",
    "\n",
    "f = []\n",
    "f_09 = []\n",
    "mypath_09 = pathBase + 'chr_09'\n",
    "for (dirpath, dirnames, filenames) in walk(mypath_09):\n",
    "    f.extend(filenames)\n",
    "for l in f:\n",
    "    f_09.append(mypath_09 + '\\\\' + l)    \n",
    "    \n",
    "  \n",
    "# ///////// Abnormal ones //////////////\n",
    "\n",
    "f = []\n",
    "f_9_inversion = []\n",
    "mypath_9_inversion = pathBase + 'chr_9_inversion'\n",
    "for (dirpath, dirnames, filenames) in walk(mypath_9_inversion):\n",
    "    f.extend(filenames)\n",
    "for l in f:\n",
    "    f_9_inversion.append(mypath_9_inversion + '\\\\' + l)  \n",
    "\n",
    "theWhole['chr_09'] = f_09\n",
    "\n",
    "theWhole['chr_9_inversion'] = f_9_inversion"
   ]
  },
  {
   "cell_type": "code",
   "execution_count": 4,
   "metadata": {
    "colab": {},
    "colab_type": "code",
    "id": "6d8Ej2MShM8K",
    "outputId": "da32c938-49bb-4cec-9ded-708887ff9d05",
    "scrolled": false
   },
   "outputs": [
    {
     "data": {
      "text/plain": [
       "['I:\\\\Chuan\\\\Documents\\\\MyData\\\\PhD\\\\Karyotype\\\\Arrangement\\\\chr_9_inversion\\\\W27694-1.jpg.9inv.bmp',\n",
       " 'I:\\\\Chuan\\\\Documents\\\\MyData\\\\PhD\\\\Karyotype\\\\Arrangement\\\\chr_9_inversion\\\\W27694-10.jpg.9inv.bmp',\n",
       " 'I:\\\\Chuan\\\\Documents\\\\MyData\\\\PhD\\\\Karyotype\\\\Arrangement\\\\chr_9_inversion\\\\W27694-11.jpg.9inv.bmp',\n",
       " 'I:\\\\Chuan\\\\Documents\\\\MyData\\\\PhD\\\\Karyotype\\\\Arrangement\\\\chr_9_inversion\\\\W27694-12.jpg.9inv.bmp',\n",
       " 'I:\\\\Chuan\\\\Documents\\\\MyData\\\\PhD\\\\Karyotype\\\\Arrangement\\\\chr_9_inversion\\\\W27694-2_.jpg.9invs.bmp',\n",
       " 'I:\\\\Chuan\\\\Documents\\\\MyData\\\\PhD\\\\Karyotype\\\\Arrangement\\\\chr_9_inversion\\\\W27694-3.jpg.9inv.bmp',\n",
       " 'I:\\\\Chuan\\\\Documents\\\\MyData\\\\PhD\\\\Karyotype\\\\Arrangement\\\\chr_9_inversion\\\\W27694-4.jpg.9inv.bmp',\n",
       " 'I:\\\\Chuan\\\\Documents\\\\MyData\\\\PhD\\\\Karyotype\\\\Arrangement\\\\chr_9_inversion\\\\W27694-5.jpg.9inv.bmp',\n",
       " 'I:\\\\Chuan\\\\Documents\\\\MyData\\\\PhD\\\\Karyotype\\\\Arrangement\\\\chr_9_inversion\\\\W27694-6.jpg.9inv.bmp',\n",
       " 'I:\\\\Chuan\\\\Documents\\\\MyData\\\\PhD\\\\Karyotype\\\\Arrangement\\\\chr_9_inversion\\\\W27694-7.jpg.9inv.bmp',\n",
       " 'I:\\\\Chuan\\\\Documents\\\\MyData\\\\PhD\\\\Karyotype\\\\Arrangement\\\\chr_9_inversion\\\\W27694-8.jpg.9inv.bmp',\n",
       " 'I:\\\\Chuan\\\\Documents\\\\MyData\\\\PhD\\\\Karyotype\\\\Arrangement\\\\chr_9_inversion\\\\W27694-9.jpg.9inv.bmp']"
      ]
     },
     "execution_count": 4,
     "metadata": {},
     "output_type": "execute_result"
    }
   ],
   "source": [
    "theWhole['chr_9_inversion']"
   ]
  },
  {
   "cell_type": "markdown",
   "metadata": {
    "colab_type": "text",
    "id": "cKiAborxhM8N"
   },
   "source": [
    "## Image Input"
   ]
  },
  {
   "cell_type": "code",
   "execution_count": 5,
   "metadata": {
    "colab": {},
    "colab_type": "code",
    "id": "h88BOm8UhM8N",
    "outputId": "4f89df64-4a3c-43f0-a34e-00d88a3d8d16",
    "scrolled": false
   },
   "outputs": [
    {
     "name": "stdout",
     "output_type": "stream",
     "text": [
      "0.017954349517822266\n"
     ]
    }
   ],
   "source": [
    "start = time.time()\n",
    "\n",
    "image = {}\n",
    "i = 0\n",
    "\n",
    "for chrNo in theWhole.keys():\n",
    "    image[chrNo] = []\n",
    "    for case in theWhole[chrNo]:\n",
    "        img = Image.open(case)\n",
    "        image[chrNo].append(img)\n",
    "    \n",
    "end = time.time()\n",
    "print(end - start)"
   ]
  },
  {
   "cell_type": "code",
   "execution_count": 6,
   "metadata": {
    "colab": {},
    "colab_type": "code",
    "id": "u7iYn89ShM8Q",
    "outputId": "95b42047-da5a-4f15-df45-dd89f5d37a72",
    "scrolled": true
   },
   "outputs": [
    {
     "data": {
      "image/png": "[encoded data removed]",
      "text/plain": [
       "<PIL.BmpImagePlugin.BmpImageFile image mode=RGB size=300x300 at 0x16CAD0E7DA0>"
      ]
     },
     "execution_count": 6,
     "metadata": {},
     "output_type": "execute_result"
    }
   ],
   "source": [
    "image['chr_9_inversion'][1]"
   ]
  },
  {
   "cell_type": "markdown",
   "metadata": {
    "colab_type": "text",
    "id": "LMxjgFtHhM8S"
   },
   "source": [
    "## Functions"
   ]
  },
  {
   "cell_type": "code",
   "execution_count": 7,
   "metadata": {
    "colab": {},
    "colab_type": "code",
    "id": "EXeUvXLqhM8T"
   },
   "outputs": [],
   "source": [
    "def extractData(image):\n",
    "    x = image.size[0]\n",
    "    y = image.size[1]\n",
    "    \n",
    "    matrix = []\n",
    "    rgb_matrix = []\n",
    "\n",
    "    for i in range(x):\n",
    "        matrix.append([])\n",
    "        rgb_matrix.append([])\n",
    "        \n",
    "        for j in range(y):\n",
    "            r, g, b = image.getpixel((j, i))            \n",
    "            value = r * 299.0/1000 + g * 587.0/1000 + b * 114.0/1000\n",
    "            value = int(value)\n",
    "            matrix[i].append(value)\n",
    "            rgb_matrix[i].append((r,g,b))\n",
    "    return matrix, rgb_matrix"
   ]
  },
  {
   "cell_type": "code",
   "execution_count": 8,
   "metadata": {
    "colab": {},
    "colab_type": "code",
    "id": "PFXaHegmhM8V"
   },
   "outputs": [],
   "source": [
    "def imageReconstruct(matrix):\n",
    "    df = np.array(matrix, dtype=np.uint8)\n",
    "    img = Image.fromarray(df, 'RGB')\n",
    "    img.save('image.png')\n",
    "    return img"
   ]
  },
  {
   "cell_type": "markdown",
   "metadata": {
    "colab_type": "text",
    "id": "rW4l1hHBhM8X"
   },
   "source": [
    "## Data Extraction from Images"
   ]
  },
  {
   "cell_type": "code",
   "execution_count": 9,
   "metadata": {
    "colab": {},
    "colab_type": "code",
    "id": "9dHTmTyihM8Y",
    "outputId": "8868d731-9e6d-4f0a-bf56-39b488bbb765"
   },
   "outputs": [
    {
     "name": "stdout",
     "output_type": "stream",
     "text": [
      "17.33366060256958\n"
     ]
    }
   ],
   "source": [
    "start = time.time()\n",
    "\n",
    "data = {}\n",
    "#rgb_data = {}\n",
    "\n",
    "for chrNo in image.keys():\n",
    "    data[chrNo] = []; \n",
    "    #rgb_data[chrNo] = []\n",
    "    for case in image[chrNo]:\n",
    "        grey, rgb = extractData(case)\n",
    "        data[chrNo].append(grey)\n",
    "        #rgb_data[chrNo].append(rgb)\n",
    "        \n",
    "end = time.time()\n",
    "print(end - start)"
   ]
  },
  {
   "cell_type": "code",
   "execution_count": 10,
   "metadata": {
    "colab": {},
    "colab_type": "code",
    "id": "vjwPnXT9hM8a"
   },
   "outputs": [],
   "source": [
    "imageMatrix = np.array(data['chr_9_inversion'][1])"
   ]
  },
  {
   "cell_type": "code",
   "execution_count": 11,
   "metadata": {
    "colab": {},
    "colab_type": "code",
    "id": "1muxYWbyhM8e"
   },
   "outputs": [],
   "source": [
    "array = {}\n",
    "\n",
    "for chrNo in data.keys():\n",
    "    array[chrNo] = []\n",
    "    for case in data[chrNo]:            \n",
    "        array[chrNo].append(case)\n",
    "\n",
    "x_train_list = []\n",
    "y_train_list = []\n",
    "\n",
    "for y, x in array.items():    \n",
    "    for x_item in x:\n",
    "        x_train_list.append(x_item)\n",
    "        y_train_list.append(y)"
   ]
  },
  {
   "cell_type": "code",
   "execution_count": 12,
   "metadata": {
    "colab": {},
    "colab_type": "code",
    "id": "5wgG3agthM8i"
   },
   "outputs": [
    {
     "data": {
      "text/plain": [
       "300"
      ]
     },
     "execution_count": 12,
     "metadata": {},
     "output_type": "execute_result"
    }
   ],
   "source": [
    "len(x_train_list[1])"
   ]
  },
  {
   "cell_type": "code",
   "execution_count": 13,
   "metadata": {},
   "outputs": [
    {
     "data": {
      "text/plain": [
       "109"
      ]
     },
     "execution_count": 13,
     "metadata": {},
     "output_type": "execute_result"
    }
   ],
   "source": [
    "len(y_train_list)"
   ]
  },
  {
   "cell_type": "markdown",
   "metadata": {
    "colab_type": "text",
    "id": "dFpbXmQ6hM8j"
   },
   "source": [
    "### Validation Dataset"
   ]
  },
  {
   "cell_type": "code",
   "execution_count": 14,
   "metadata": {
    "colab": {},
    "colab_type": "code",
    "id": "Js0BRFerhM8k"
   },
   "outputs": [],
   "source": [
    "#pathBase = 'C:\\\\Users\\\\Chuan\\\\OneDrive\\\\Dowrun\\\\Database\\\\PhD\\\\KaryoTypes\\\\Arrangement\\\\test\\\\'\n",
    "pathBase = 'I:\\\\Chuan\\\\Documents\\\\MyData\\\\PhD\\\\Karyotype\\\\Arrangement\\\\test\\\\'\n",
    "#pathBase = 'D:\\\\Users\\\\Chuan\\\\Documents\\\\Database\\\\Karyotypes\\\\Arrangement\\\\test\\\\'\n",
    "\n",
    "theWhole = {}\n",
    "\n",
    "f = []\n",
    "f_09 = []\n",
    "mypath_09 = pathBase + 'chr_09'\n",
    "for (dirpath, dirnames, filenames) in walk(mypath_09):\n",
    "    f.extend(filenames)\n",
    "for l in f:\n",
    "    f_09.append(mypath_09 + '\\\\' + l)    \n",
    "    \n",
    "  \n",
    "# ///////// Abnormal ones //////////////\n",
    "\n",
    "f = []\n",
    "f_9_inversion = []\n",
    "mypath_9_inversion = pathBase + 'chr_9_inversion'\n",
    "for (dirpath, dirnames, filenames) in walk(mypath_9_inversion):\n",
    "    f.extend(filenames)\n",
    "for l in f:\n",
    "    f_9_inversion.append(mypath_9_inversion + '\\\\' + l)  \n",
    "\n",
    "theWhole['chr_09'] = f_09\n",
    "\n",
    "theWhole['chr_9_inversion'] = f_9_inversion"
   ]
  },
  {
   "cell_type": "code",
   "execution_count": 15,
   "metadata": {
    "colab": {},
    "colab_type": "code",
    "id": "NfFLITEfhM8n",
    "outputId": "f2767cf1-5d98-45a9-8a88-3d3d1afbed6c"
   },
   "outputs": [],
   "source": [
    "image = {}\n",
    "i = 0\n",
    "\n",
    "for chrNo in theWhole.keys():\n",
    "    image[chrNo] = []\n",
    "    for case in theWhole[chrNo]:\n",
    "        img = Image.open(case)\n",
    "        image[chrNo].append(img)    "
   ]
  },
  {
   "cell_type": "markdown",
   "metadata": {
    "colab_type": "text",
    "id": "3XDMPsD9hM8p"
   },
   "source": [
    "### Data Extraction"
   ]
  },
  {
   "cell_type": "code",
   "execution_count": 16,
   "metadata": {
    "colab": {},
    "colab_type": "code",
    "id": "Gb06RhsmhM8p",
    "outputId": "5e1c3d39-1202-4ebb-ab81-0290b816226f"
   },
   "outputs": [],
   "source": [
    "data = {}\n",
    "#rgb_data = {}\n",
    "\n",
    "for chrNo in image.keys():\n",
    "    data[chrNo] = []; \n",
    "    #rgb_data[chrNo] = []\n",
    "    for case in image[chrNo]:\n",
    "        grey, rgb = extractData(case)\n",
    "        data[chrNo].append(grey)\n",
    "        #rgb_data[chrNo].append(rgb)"
   ]
  },
  {
   "cell_type": "code",
   "execution_count": 17,
   "metadata": {
    "colab": {},
    "colab_type": "code",
    "id": "FeStRxHbhM8s"
   },
   "outputs": [],
   "source": [
    "array = {}\n",
    "\n",
    "for chrNo in data.keys():\n",
    "    array[chrNo] = []\n",
    "    for case in data[chrNo]:            \n",
    "        array[chrNo].append(case)\n",
    "\n",
    "x_test_list = []\n",
    "y_test_list = []\n",
    "\n",
    "for y, x in array.items():    \n",
    "    for x_item in x:\n",
    "        x_test_list.append(x_item)\n",
    "        y_test_list.append(y)"
   ]
  },
  {
   "cell_type": "markdown",
   "metadata": {},
   "source": [
    "## ChromConvert"
   ]
  },
  {
   "cell_type": "code",
   "execution_count": 18,
   "metadata": {},
   "outputs": [],
   "source": [
    "y_train_digital_list = []\n",
    "for item in y_train_list:\n",
    "    y_train_digital_list.append(chromConvert[item])\n",
    "    \n",
    "y_test_digital_list = []\n",
    "for item in y_test_list:\n",
    "    y_test_digital_list.append(chromConvert[item])"
   ]
  },
  {
   "cell_type": "markdown",
   "metadata": {},
   "source": [
    "## Numpy Array"
   ]
  },
  {
   "cell_type": "code",
   "execution_count": 19,
   "metadata": {},
   "outputs": [],
   "source": [
    "X_train = np.array(x_train_list)\n",
    "y_train = np.array(y_train_digital_list)"
   ]
  },
  {
   "cell_type": "code",
   "execution_count": 20,
   "metadata": {
    "colab": {},
    "colab_type": "code",
    "id": "ilm3FNfchM8w"
   },
   "outputs": [],
   "source": [
    "X_test = np.array(x_test_list)\n",
    "y_test = np.array(y_test_digital_list)"
   ]
  },
  {
   "cell_type": "code",
   "execution_count": 21,
   "metadata": {
    "scrolled": true
   },
   "outputs": [
    {
     "data": {
      "text/plain": [
       "array([ 9,  9,  9,  9,  9,  9,  9,  9,  9,  9, 26, 26, 26, 26, 26, 26, 26,\n",
       "       26, 26, 26])"
      ]
     },
     "execution_count": 21,
     "metadata": {},
     "output_type": "execute_result"
    }
   ],
   "source": [
    "y_test"
   ]
  },
  {
   "cell_type": "code",
   "execution_count": 22,
   "metadata": {},
   "outputs": [
    {
     "data": {
      "text/plain": [
       "109"
      ]
     },
     "execution_count": 22,
     "metadata": {},
     "output_type": "execute_result"
    }
   ],
   "source": [
    "len(X_train)"
   ]
  },
  {
   "cell_type": "code",
   "execution_count": 23,
   "metadata": {},
   "outputs": [
    {
     "data": {
      "text/plain": [
       "109"
      ]
     },
     "execution_count": 23,
     "metadata": {},
     "output_type": "execute_result"
    }
   ],
   "source": [
    "len(y_train)"
   ]
  },
  {
   "cell_type": "code",
   "execution_count": 24,
   "metadata": {},
   "outputs": [
    {
     "data": {
      "text/plain": [
       "(300, 300)"
      ]
     },
     "execution_count": 24,
     "metadata": {},
     "output_type": "execute_result"
    }
   ],
   "source": [
    "X_train[0].shape"
   ]
  },
  {
   "cell_type": "markdown",
   "metadata": {
    "colab_type": "text",
    "id": "w6JHLc0khM8y"
   },
   "source": [
    "## Save the Datasets"
   ]
  },
  {
   "cell_type": "code",
   "execution_count": 25,
   "metadata": {
    "colab": {},
    "colab_type": "code",
    "id": "ZwZnN84ghM8y"
   },
   "outputs": [],
   "source": [
    "np.save('X_train_2D_KaryoLearning_Abnormal', X_train)\n",
    "np.save('y_train_2D_KaryoLearning_Abnormal', y_train)"
   ]
  },
  {
   "cell_type": "code",
   "execution_count": 26,
   "metadata": {
    "colab": {},
    "colab_type": "code",
    "id": "2DV0IIz7hM80"
   },
   "outputs": [],
   "source": [
    "np.save('X_test_2D_KaryoLearning_Abnormal', X_test)\n",
    "np.save('y_test_2D_KaryoLearning_Abnormal', y_test)"
   ]
  },
  {
   "cell_type": "markdown",
   "metadata": {
    "colab_type": "text",
    "id": "tHi_7uq7hM81"
   },
   "source": [
    "## Load the Datasets"
   ]
  },
  {
   "cell_type": "code",
   "execution_count": 27,
   "metadata": {
    "colab": {},
    "colab_type": "code",
    "id": "tP5TTXkJhM82"
   },
   "outputs": [],
   "source": [
    "X_train = np.load('X_train_2D_KaryoLearning_Abnormal.npy')\n",
    "y_train = np.load('y_train_2D_KaryoLearning_Abnormal.npy')\n",
    "\n",
    "X_test = np.load('X_test_2D_KaryoLearning_Abnormal.npy')\n",
    "y_test = np.load('y_test_2D_KaryoLearning_Abnormal.npy')"
   ]
  },
  {
   "cell_type": "markdown",
   "metadata": {
    "colab_type": "text",
    "id": "zKWSId2nhM83"
   },
   "source": [
    "## Convolutional Neural Network"
   ]
  },
  {
   "cell_type": "markdown",
   "metadata": {},
   "source": [
    "## Data Preparation"
   ]
  },
  {
   "cell_type": "code",
   "execution_count": 28,
   "metadata": {},
   "outputs": [],
   "source": [
    "X_train = X_train.reshape(-1, 300, 300, 1)\n",
    "X_test = X_test.reshape(-1, 300, 300, 1)"
   ]
  },
  {
   "cell_type": "markdown",
   "metadata": {
    "colab_type": "text",
    "id": "U9HLQx8dhM84"
   },
   "source": [
    "### Training"
   ]
  },
  {
   "cell_type": "markdown",
   "metadata": {
    "colab_type": "text",
    "id": "xpM5Mh8fhM84"
   },
   "source": [
    "#### Model"
   ]
  },
  {
   "cell_type": "code",
   "execution_count": 29,
   "metadata": {
    "colab": {},
    "colab_type": "code",
    "id": "jeX02jNmhM85"
   },
   "outputs": [],
   "source": [
    "model = Sequential()"
   ]
  },
  {
   "cell_type": "code",
   "execution_count": 31,
   "metadata": {},
   "outputs": [],
   "source": [
    "model.add(Conv2D(32, (3, 3), activation='relu', input_shape=(300, 300, 1)))\n",
    "model.add(MaxPooling2D((2, 2)))\n",
    "model.add(Conv2D(64, (3, 3), activation='relu'))\n",
    "model.add(MaxPooling2D((2, 2)))\n",
    "model.add(Conv2D(64, (3, 3), activation='relu'))"
   ]
  },
  {
   "cell_type": "code",
   "execution_count": 32,
   "metadata": {},
   "outputs": [],
   "source": [
    "model.add(Flatten())\n",
    "model.add(Dense(300, activation='relu'))\n",
    "model.add(Dense(400, activation='relu'))\n",
    "model.add(Dense(300, activation='relu'))\n",
    "model.add(Dense(100, activation='relu'))\n",
    "model.add(Dense(50, activation='relu'))\n",
    "model.add(Dense(32, activation='softmax'))"
   ]
  },
  {
   "cell_type": "markdown",
   "metadata": {
    "colab_type": "text",
    "id": "rOtNj0jlhM87"
   },
   "source": [
    "#### Tensorboard Initilization"
   ]
  },
  {
   "cell_type": "code",
   "execution_count": 33,
   "metadata": {
    "colab": {},
    "colab_type": "code",
    "id": "VEg0lb4OhM87"
   },
   "outputs": [],
   "source": [
    "%load_ext tensorboard\n",
    "log_dir = \"logs/fit/\" + datetime.datetime.now().strftime(\"%Y%m%d-%H%M%S\")\n",
    "tensorboard_callback = keras.callbacks.TensorBoard(log_dir=log_dir, histogram_freq=1)"
   ]
  },
  {
   "cell_type": "markdown",
   "metadata": {
    "colab_type": "text",
    "id": "P4zqonYwhM8-"
   },
   "source": [
    "#### Compile the modal"
   ]
  },
  {
   "cell_type": "code",
   "execution_count": 34,
   "metadata": {
    "colab": {},
    "colab_type": "code",
    "id": "wYvievAshM8_"
   },
   "outputs": [],
   "source": [
    "model.compile(optimizer='adam', loss='sparse_categorical_crossentropy', metrics=['accuracy'])"
   ]
  },
  {
   "cell_type": "markdown",
   "metadata": {
    "colab_type": "text",
    "id": "ElbCMim9hM9D"
   },
   "source": [
    "#### Training"
   ]
  },
  {
   "cell_type": "code",
   "execution_count": 35,
   "metadata": {
    "colab": {},
    "colab_type": "code",
    "id": "_PtUAhxphM9D",
    "scrolled": false
   },
   "outputs": [
    {
     "name": "stdout",
     "output_type": "stream",
     "text": [
      "Epoch 1/200\n",
      "2/2 [==============================] - 6s 3s/step - loss: 3.1007 - accuracy: 0.3761 - val_loss: 2.4543 - val_accuracy: 0.0000e+00\n",
      "Epoch 2/200\n",
      "2/2 [==============================] - 5s 2s/step - loss: 2.1292 - accuracy: 0.3670 - val_loss: 5.2797 - val_accuracy: 0.5000\n",
      "Epoch 3/200\n",
      "2/2 [==============================] - 5s 2s/step - loss: 1.0488 - accuracy: 0.8899 - val_loss: 2.3678 - val_accuracy: 0.5000\n",
      "Epoch 4/200\n",
      "2/2 [==============================] - 5s 2s/step - loss: 0.5181 - accuracy: 0.8899 - val_loss: 1.5842 - val_accuracy: 0.5000\n",
      "Epoch 5/200\n",
      "2/2 [==============================] - 5s 2s/step - loss: 0.3928 - accuracy: 0.8899 - val_loss: 0.9253 - val_accuracy: 0.5000\n",
      "Epoch 6/200\n",
      "2/2 [==============================] - 5s 2s/step - loss: 0.4380 - accuracy: 0.8899 - val_loss: 1.5910 - val_accuracy: 0.5000\n",
      "Epoch 7/200\n",
      "2/2 [==============================] - 5s 2s/step - loss: 0.4830 - accuracy: 0.8899 - val_loss: 1.3293 - val_accuracy: 0.5000\n",
      "Epoch 8/200\n",
      "2/2 [==============================] - 5s 2s/step - loss: 0.3582 - accuracy: 0.8899 - val_loss: 1.7091 - val_accuracy: 0.5000\n",
      "Epoch 9/200\n",
      "2/2 [==============================] - 5s 2s/step - loss: 0.3853 - accuracy: 0.8899 - val_loss: 1.1344 - val_accuracy: 0.5000\n",
      "Epoch 10/200\n",
      "2/2 [==============================] - 5s 2s/step - loss: 0.3804 - accuracy: 0.8899 - val_loss: 1.1484 - val_accuracy: 0.5000\n",
      "Epoch 11/200\n",
      "2/2 [==============================] - 5s 2s/step - loss: 0.3715 - accuracy: 0.8899 - val_loss: 1.3272 - val_accuracy: 0.5000\n",
      "Epoch 12/200\n",
      "2/2 [==============================] - 5s 2s/step - loss: 0.3519 - accuracy: 0.8899 - val_loss: 1.0555 - val_accuracy: 0.5000\n",
      "Epoch 13/200\n",
      "2/2 [==============================] - 5s 2s/step - loss: 0.3529 - accuracy: 0.8899 - val_loss: 1.0662 - val_accuracy: 0.5000\n",
      "Epoch 14/200\n",
      "2/2 [==============================] - 5s 2s/step - loss: 0.3796 - accuracy: 0.8899 - val_loss: 1.2134 - val_accuracy: 0.5000\n",
      "Epoch 15/200\n",
      "2/2 [==============================] - 5s 2s/step - loss: 0.3467 - accuracy: 0.8899 - val_loss: 0.9576 - val_accuracy: 0.5000\n",
      "Epoch 16/200\n",
      "2/2 [==============================] - 5s 2s/step - loss: 0.3978 - accuracy: 0.8899 - val_loss: 1.1554 - val_accuracy: 0.5000\n",
      "Epoch 17/200\n",
      "2/2 [==============================] - 5s 2s/step - loss: 0.3681 - accuracy: 0.8899 - val_loss: 1.0414 - val_accuracy: 0.5000\n",
      "Epoch 18/200\n",
      "2/2 [==============================] - 5s 2s/step - loss: 0.3448 - accuracy: 0.8899 - val_loss: 1.3668 - val_accuracy: 0.5000\n",
      "Epoch 19/200\n",
      "2/2 [==============================] - 5s 2s/step - loss: 0.3493 - accuracy: 0.8899 - val_loss: 1.0617 - val_accuracy: 0.5000\n",
      "Epoch 20/200\n",
      "2/2 [==============================] - 5s 2s/step - loss: 0.3414 - accuracy: 0.8899 - val_loss: 1.0430 - val_accuracy: 0.5000\n",
      "Epoch 21/200\n",
      "2/2 [==============================] - 5s 2s/step - loss: 0.3329 - accuracy: 0.8899 - val_loss: 1.2496 - val_accuracy: 0.5000\n",
      "Epoch 22/200\n",
      "2/2 [==============================] - 5s 2s/step - loss: 0.3372 - accuracy: 0.8899 - val_loss: 1.0333 - val_accuracy: 0.5000\n",
      "Epoch 23/200\n",
      "2/2 [==============================] - 5s 2s/step - loss: 0.3284 - accuracy: 0.8899 - val_loss: 0.9673 - val_accuracy: 0.5000\n",
      "Epoch 24/200\n",
      "2/2 [==============================] - 5s 2s/step - loss: 0.3103 - accuracy: 0.8899 - val_loss: 1.2501 - val_accuracy: 0.5000\n",
      "Epoch 25/200\n",
      "2/2 [==============================] - 5s 2s/step - loss: 0.3203 - accuracy: 0.8899 - val_loss: 0.8785 - val_accuracy: 0.5000\n",
      "Epoch 26/200\n",
      "2/2 [==============================] - 5s 2s/step - loss: 0.3302 - accuracy: 0.8899 - val_loss: 0.7662 - val_accuracy: 0.5000\n",
      "Epoch 27/200\n",
      "2/2 [==============================] - 5s 2s/step - loss: 0.2635 - accuracy: 0.8899 - val_loss: 1.0636 - val_accuracy: 0.5000\n",
      "Epoch 28/200\n",
      "2/2 [==============================] - 5s 2s/step - loss: 0.2539 - accuracy: 0.8899 - val_loss: 0.5175 - val_accuracy: 0.6000\n",
      "Epoch 29/200\n",
      "2/2 [==============================] - 5s 2s/step - loss: 0.1663 - accuracy: 0.9358 - val_loss: 0.3951 - val_accuracy: 0.8000\n",
      "Epoch 30/200\n",
      "2/2 [==============================] - 5s 2s/step - loss: 0.1041 - accuracy: 0.9541 - val_loss: 0.2523 - val_accuracy: 0.8500\n",
      "Epoch 31/200\n",
      "2/2 [==============================] - 5s 2s/step - loss: 0.0653 - accuracy: 0.9725 - val_loss: 0.1301 - val_accuracy: 0.9500\n",
      "Epoch 32/200\n",
      "2/2 [==============================] - 5s 2s/step - loss: 0.0560 - accuracy: 0.9725 - val_loss: 0.0080 - val_accuracy: 1.0000\n",
      "Epoch 33/200\n",
      "2/2 [==============================] - 5s 2s/step - loss: 0.0630 - accuracy: 0.9817 - val_loss: 0.2857 - val_accuracy: 0.8500\n",
      "Epoch 34/200\n",
      "2/2 [==============================] - 5s 2s/step - loss: 0.0372 - accuracy: 0.9908 - val_loss: 0.0100 - val_accuracy: 1.0000\n",
      "Epoch 35/200\n",
      "2/2 [==============================] - 5s 2s/step - loss: 0.0485 - accuracy: 0.9908 - val_loss: 0.0471 - val_accuracy: 1.0000\n",
      "Epoch 36/200\n",
      "2/2 [==============================] - 5s 2s/step - loss: 0.0261 - accuracy: 0.9817 - val_loss: 0.0909 - val_accuracy: 0.9500\n",
      "Epoch 37/200\n",
      "2/2 [==============================] - 5s 2s/step - loss: 0.0121 - accuracy: 1.0000 - val_loss: 0.0060 - val_accuracy: 1.0000\n",
      "Epoch 38/200\n",
      "2/2 [==============================] - 5s 2s/step - loss: 0.0209 - accuracy: 0.9908 - val_loss: 0.0117 - val_accuracy: 1.0000\n",
      "Epoch 39/200\n",
      "2/2 [==============================] - 5s 2s/step - loss: 0.0096 - accuracy: 1.0000 - val_loss: 0.0281 - val_accuracy: 1.0000\n",
      "Epoch 40/200\n",
      "2/2 [==============================] - 5s 2s/step - loss: 0.0038 - accuracy: 1.0000 - val_loss: 0.0055 - val_accuracy: 1.0000\n",
      "Epoch 41/200\n",
      "2/2 [==============================] - 5s 2s/step - loss: 0.0039 - accuracy: 1.0000 - val_loss: 0.0032 - val_accuracy: 1.0000\n",
      "Epoch 42/200\n",
      "2/2 [==============================] - 5s 2s/step - loss: 5.8899e-04 - accuracy: 1.0000 - val_loss: 0.0098 - val_accuracy: 1.0000\n",
      "Epoch 43/200\n",
      "2/2 [==============================] - 5s 2s/step - loss: 0.0011 - accuracy: 1.0000 - val_loss: 0.0078 - val_accuracy: 1.0000\n",
      "Epoch 44/200\n",
      "2/2 [==============================] - 5s 2s/step - loss: 6.5508e-04 - accuracy: 1.0000 - val_loss: 0.0019 - val_accuracy: 1.0000\n",
      "Epoch 45/200\n",
      "2/2 [==============================] - 5s 2s/step - loss: 1.2299e-04 - accuracy: 1.0000 - val_loss: 3.2514e-04 - val_accuracy: 1.0000\n",
      "Epoch 46/200\n",
      "2/2 [==============================] - 5s 2s/step - loss: 2.2719e-05 - accuracy: 1.0000 - val_loss: 7.6646e-05 - val_accuracy: 1.0000\n",
      "Epoch 47/200\n",
      "2/2 [==============================] - 5s 2s/step - loss: 3.5131e-05 - accuracy: 1.0000 - val_loss: 2.3950e-05 - val_accuracy: 1.0000\n",
      "Epoch 48/200\n",
      "2/2 [==============================] - 5s 2s/step - loss: 3.0609e-05 - accuracy: 1.0000 - val_loss: 1.7050e-05 - val_accuracy: 1.0000\n",
      "Epoch 49/200\n",
      "2/2 [==============================] - 5s 2s/step - loss: 1.4873e-05 - accuracy: 1.0000 - val_loss: 2.6672e-05 - val_accuracy: 1.0000\n",
      "Epoch 50/200\n",
      "2/2 [==============================] - 5s 2s/step - loss: 4.7090e-06 - accuracy: 1.0000 - val_loss: 7.4076e-05 - val_accuracy: 1.0000\n",
      "Epoch 51/200\n",
      "2/2 [==============================] - 5s 2s/step - loss: 2.0681e-06 - accuracy: 1.0000 - val_loss: 2.0820e-04 - val_accuracy: 1.0000\n",
      "Epoch 52/200\n",
      "2/2 [==============================] - 5s 2s/step - loss: 1.7870e-06 - accuracy: 1.0000 - val_loss: 3.0514e-04 - val_accuracy: 1.0000\n",
      "Epoch 53/200\n",
      "2/2 [==============================] - 5s 2s/step - loss: 1.6120e-06 - accuracy: 1.0000 - val_loss: 2.1935e-04 - val_accuracy: 1.0000\n",
      "Epoch 54/200\n",
      "2/2 [==============================] - 5s 2s/step - loss: 1.0816e-06 - accuracy: 1.0000 - val_loss: 1.1796e-04 - val_accuracy: 1.0000\n",
      "Epoch 55/200\n",
      "2/2 [==============================] - 5s 2s/step - loss: 5.3589e-07 - accuracy: 1.0000 - val_loss: 6.5308e-05 - val_accuracy: 1.0000\n",
      "Epoch 56/200\n",
      "2/2 [==============================] - 5s 2s/step - loss: 5.2386e-07 - accuracy: 1.0000 - val_loss: 3.7102e-05 - val_accuracy: 1.0000\n",
      "Epoch 57/200\n",
      "2/2 [==============================] - 5s 2s/step - loss: 5.9823e-07 - accuracy: 1.0000 - val_loss: 2.7905e-05 - val_accuracy: 1.0000\n",
      "Epoch 58/200\n",
      "2/2 [==============================] - 5s 2s/step - loss: 5.2167e-07 - accuracy: 1.0000 - val_loss: 3.0687e-05 - val_accuracy: 1.0000\n",
      "Epoch 59/200\n"
     ]
    },
    {
     "name": "stdout",
     "output_type": "stream",
     "text": [
      "2/2 [==============================] - 5s 2s/step - loss: 3.8278e-07 - accuracy: 1.0000 - val_loss: 4.6929e-05 - val_accuracy: 1.0000\n",
      "Epoch 60/200\n",
      "2/2 [==============================] - 5s 2s/step - loss: 2.4935e-07 - accuracy: 1.0000 - val_loss: 6.8623e-05 - val_accuracy: 1.0000\n",
      "Epoch 61/200\n",
      "2/2 [==============================] - 5s 2s/step - loss: 2.4826e-07 - accuracy: 1.0000 - val_loss: 9.3129e-05 - val_accuracy: 1.0000\n",
      "Epoch 62/200\n",
      "2/2 [==============================] - 5s 2s/step - loss: 2.4717e-07 - accuracy: 1.0000 - val_loss: 1.0522e-04 - val_accuracy: 1.0000\n",
      "Epoch 63/200\n",
      "2/2 [==============================] - 5s 2s/step - loss: 2.4498e-07 - accuracy: 1.0000 - val_loss: 1.0429e-04 - val_accuracy: 1.0000\n",
      "Epoch 64/200\n",
      "2/2 [==============================] - 5s 2s/step - loss: 2.3076e-07 - accuracy: 1.0000 - val_loss: 9.4997e-05 - val_accuracy: 1.0000\n",
      "Epoch 65/200\n",
      "2/2 [==============================] - 5s 2s/step - loss: 2.0451e-07 - accuracy: 1.0000 - val_loss: 8.0098e-05 - val_accuracy: 1.0000\n",
      "Epoch 66/200\n",
      "2/2 [==============================] - 5s 2s/step - loss: 1.7827e-07 - accuracy: 1.0000 - val_loss: 6.4659e-05 - val_accuracy: 1.0000\n",
      "Epoch 67/200\n",
      "2/2 [==============================] - 5s 2s/step - loss: 1.5530e-07 - accuracy: 1.0000 - val_loss: 5.2949e-05 - val_accuracy: 1.0000\n",
      "Epoch 68/200\n",
      "2/2 [==============================] - 5s 2s/step - loss: 1.3889e-07 - accuracy: 1.0000 - val_loss: 4.5374e-05 - val_accuracy: 1.0000\n",
      "Epoch 69/200\n",
      "2/2 [==============================] - 5s 2s/step - loss: 1.2577e-07 - accuracy: 1.0000 - val_loss: 4.0330e-05 - val_accuracy: 1.0000\n",
      "Epoch 70/200\n",
      "2/2 [==============================] - 5s 2s/step - loss: 1.2140e-07 - accuracy: 1.0000 - val_loss: 3.7001e-05 - val_accuracy: 1.0000\n",
      "Epoch 71/200\n",
      "2/2 [==============================] - 5s 2s/step - loss: 1.1702e-07 - accuracy: 1.0000 - val_loss: 3.5762e-05 - val_accuracy: 1.0000\n",
      "Epoch 72/200\n",
      "2/2 [==============================] - 5s 2s/step - loss: 1.1374e-07 - accuracy: 1.0000 - val_loss: 3.4577e-05 - val_accuracy: 1.0000\n",
      "Epoch 73/200\n",
      "2/2 [==============================] - 5s 2s/step - loss: 1.1046e-07 - accuracy: 1.0000 - val_loss: 3.4714e-05 - val_accuracy: 1.0000\n",
      "Epoch 74/200\n",
      "2/2 [==============================] - 5s 2s/step - loss: 1.0609e-07 - accuracy: 1.0000 - val_loss: 3.4916e-05 - val_accuracy: 1.0000\n",
      "Epoch 75/200\n",
      "2/2 [==============================] - 5s 2s/step - loss: 9.9523e-08 - accuracy: 1.0000 - val_loss: 3.4851e-05 - val_accuracy: 1.0000\n",
      "Epoch 76/200\n",
      "2/2 [==============================] - 5s 2s/step - loss: 9.5149e-08 - accuracy: 1.0000 - val_loss: 3.4928e-05 - val_accuracy: 1.0000\n",
      "Epoch 77/200\n",
      "2/2 [==============================] - 5s 2s/step - loss: 9.2961e-08 - accuracy: 1.0000 - val_loss: 3.5941e-05 - val_accuracy: 1.0000\n",
      "Epoch 78/200\n",
      "2/2 [==============================] - 5s 2s/step - loss: 9.0774e-08 - accuracy: 1.0000 - val_loss: 3.6250e-05 - val_accuracy: 1.0000\n",
      "Epoch 79/200\n",
      "2/2 [==============================] - 5s 2s/step - loss: 8.6399e-08 - accuracy: 1.0000 - val_loss: 3.6953e-05 - val_accuracy: 1.0000\n",
      "Epoch 80/200\n",
      "2/2 [==============================] - 5s 2s/step - loss: 8.4212e-08 - accuracy: 1.0000 - val_loss: 3.7507e-05 - val_accuracy: 1.0000\n",
      "Epoch 81/200\n",
      "2/2 [==============================] - 5s 2s/step - loss: 8.2025e-08 - accuracy: 1.0000 - val_loss: 3.8335e-05 - val_accuracy: 1.0000\n",
      "Epoch 82/200\n",
      "2/2 [==============================] - 5s 2s/step - loss: 7.9837e-08 - accuracy: 1.0000 - val_loss: 3.8871e-05 - val_accuracy: 1.0000\n",
      "Epoch 83/200\n",
      "2/2 [==============================] - 5s 2s/step - loss: 7.9837e-08 - accuracy: 1.0000 - val_loss: 3.9741e-05 - val_accuracy: 1.0000\n",
      "Epoch 84/200\n",
      "2/2 [==============================] - 5s 2s/step - loss: 7.5463e-08 - accuracy: 1.0000 - val_loss: 3.9371e-05 - val_accuracy: 1.0000\n",
      "Epoch 85/200\n",
      "2/2 [==============================] - 5s 2s/step - loss: 7.3275e-08 - accuracy: 1.0000 - val_loss: 3.8972e-05 - val_accuracy: 1.0000\n",
      "Epoch 86/200\n",
      "2/2 [==============================] - 5s 2s/step - loss: 7.3275e-08 - accuracy: 1.0000 - val_loss: 3.8496e-05 - val_accuracy: 1.0000\n",
      "Epoch 87/200\n",
      "2/2 [==============================] - 5s 2s/step - loss: 7.1088e-08 - accuracy: 1.0000 - val_loss: 3.8144e-05 - val_accuracy: 1.0000\n",
      "Epoch 88/200\n",
      "2/2 [==============================] - 5s 2s/step - loss: 7.1088e-08 - accuracy: 1.0000 - val_loss: 3.8144e-05 - val_accuracy: 1.0000\n",
      "Epoch 89/200\n",
      "2/2 [==============================] - 5s 2s/step - loss: 6.9994e-08 - accuracy: 1.0000 - val_loss: 3.7007e-05 - val_accuracy: 1.0000\n",
      "Epoch 90/200\n",
      "2/2 [==============================] - 5s 2s/step - loss: 6.8901e-08 - accuracy: 1.0000 - val_loss: 3.6495e-05 - val_accuracy: 1.0000\n",
      "Epoch 91/200\n",
      "2/2 [==============================] - 5s 2s/step - loss: 6.6713e-08 - accuracy: 1.0000 - val_loss: 3.6643e-05 - val_accuracy: 1.0000\n",
      "Epoch 92/200\n",
      "2/2 [==============================] - 5s 2s/step - loss: 6.6713e-08 - accuracy: 1.0000 - val_loss: 3.6614e-05 - val_accuracy: 1.0000\n",
      "Epoch 93/200\n",
      "2/2 [==============================] - 5s 2s/step - loss: 6.4526e-08 - accuracy: 1.0000 - val_loss: 3.6798e-05 - val_accuracy: 1.0000\n",
      "Epoch 94/200\n",
      "2/2 [==============================] - 5s 2s/step - loss: 6.3432e-08 - accuracy: 1.0000 - val_loss: 3.6411e-05 - val_accuracy: 1.0000\n",
      "Epoch 95/200\n",
      "2/2 [==============================] - 5s 2s/step - loss: 6.2339e-08 - accuracy: 1.0000 - val_loss: 3.5381e-05 - val_accuracy: 1.0000\n",
      "Epoch 96/200\n",
      "2/2 [==============================] - 5s 2s/step - loss: 6.1245e-08 - accuracy: 1.0000 - val_loss: 3.4374e-05 - val_accuracy: 1.0000\n",
      "Epoch 97/200\n",
      "2/2 [==============================] - 5s 2s/step - loss: 5.9058e-08 - accuracy: 1.0000 - val_loss: 3.3820e-05 - val_accuracy: 1.0000\n",
      "Epoch 98/200\n",
      "2/2 [==============================] - 5s 2s/step - loss: 5.9058e-08 - accuracy: 1.0000 - val_loss: 3.3379e-05 - val_accuracy: 1.0000\n",
      "Epoch 99/200\n",
      "2/2 [==============================] - 5s 2s/step - loss: 5.7964e-08 - accuracy: 1.0000 - val_loss: 3.2962e-05 - val_accuracy: 1.0000\n",
      "Epoch 100/200\n",
      "2/2 [==============================] - 5s 2s/step - loss: 5.6870e-08 - accuracy: 1.0000 - val_loss: 3.2778e-05 - val_accuracy: 1.0000\n",
      "Epoch 101/200\n",
      "2/2 [==============================] - 5s 2s/step - loss: 5.5777e-08 - accuracy: 1.0000 - val_loss: 3.2837e-05 - val_accuracy: 1.0000\n",
      "Epoch 102/200\n",
      "2/2 [==============================] - 5s 2s/step - loss: 5.5777e-08 - accuracy: 1.0000 - val_loss: 3.2688e-05 - val_accuracy: 1.0000\n",
      "Epoch 103/200\n",
      "2/2 [==============================] - 5s 2s/step - loss: 5.4683e-08 - accuracy: 1.0000 - val_loss: 3.2492e-05 - val_accuracy: 1.0000\n",
      "Epoch 104/200\n",
      "2/2 [==============================] - 5s 2s/step - loss: 5.4683e-08 - accuracy: 1.0000 - val_loss: 3.2373e-05 - val_accuracy: 1.0000\n",
      "Epoch 105/200\n",
      "2/2 [==============================] - 5s 2s/step - loss: 5.3589e-08 - accuracy: 1.0000 - val_loss: 3.2420e-05 - val_accuracy: 1.0000\n",
      "Epoch 106/200\n",
      "2/2 [==============================] - 5s 2s/step - loss: 5.3589e-08 - accuracy: 1.0000 - val_loss: 3.2760e-05 - val_accuracy: 1.0000\n",
      "Epoch 107/200\n",
      "2/2 [==============================] - 5s 2s/step - loss: 5.1402e-08 - accuracy: 1.0000 - val_loss: 3.2480e-05 - val_accuracy: 1.0000\n",
      "Epoch 108/200\n",
      "2/2 [==============================] - 5s 2s/step - loss: 5.1402e-08 - accuracy: 1.0000 - val_loss: 3.2623e-05 - val_accuracy: 1.0000\n",
      "Epoch 109/200\n",
      "2/2 [==============================] - 5s 2s/step - loss: 5.1402e-08 - accuracy: 1.0000 - val_loss: 3.3189e-05 - val_accuracy: 1.0000\n",
      "Epoch 110/200\n",
      "2/2 [==============================] - 5s 2s/step - loss: 5.0308e-08 - accuracy: 1.0000 - val_loss: 3.3671e-05 - val_accuracy: 1.0000\n",
      "Epoch 111/200\n",
      "2/2 [==============================] - 5s 2s/step - loss: 5.0308e-08 - accuracy: 1.0000 - val_loss: 3.4124e-05 - val_accuracy: 1.0000\n",
      "Epoch 112/200\n",
      "2/2 [==============================] - 5s 2s/step - loss: 4.8121e-08 - accuracy: 1.0000 - val_loss: 3.4398e-05 - val_accuracy: 1.0000\n",
      "Epoch 113/200\n",
      "2/2 [==============================] - 5s 2s/step - loss: 4.8121e-08 - accuracy: 1.0000 - val_loss: 3.3969e-05 - val_accuracy: 1.0000\n",
      "Epoch 114/200\n",
      "2/2 [==============================] - 5s 2s/step - loss: 4.8121e-08 - accuracy: 1.0000 - val_loss: 3.3320e-05 - val_accuracy: 1.0000\n"
     ]
    },
    {
     "name": "stdout",
     "output_type": "stream",
     "text": [
      "Epoch 115/200\n",
      "2/2 [==============================] - 5s 2s/step - loss: 4.7027e-08 - accuracy: 1.0000 - val_loss: 3.3278e-05 - val_accuracy: 1.0000\n",
      "Epoch 116/200\n",
      "2/2 [==============================] - 5s 2s/step - loss: 4.7027e-08 - accuracy: 1.0000 - val_loss: 3.2921e-05 - val_accuracy: 1.0000\n",
      "Epoch 117/200\n",
      "2/2 [==============================] - 5s 2s/step - loss: 4.5934e-08 - accuracy: 1.0000 - val_loss: 3.2867e-05 - val_accuracy: 1.0000\n",
      "Epoch 118/200\n",
      "2/2 [==============================] - 5s 2s/step - loss: 4.5934e-08 - accuracy: 1.0000 - val_loss: 3.3385e-05 - val_accuracy: 1.0000\n",
      "Epoch 119/200\n",
      "2/2 [==============================] - 5s 2s/step - loss: 4.4840e-08 - accuracy: 1.0000 - val_loss: 3.3445e-05 - val_accuracy: 1.0000\n",
      "Epoch 120/200\n",
      "2/2 [==============================] - 5s 2s/step - loss: 4.3747e-08 - accuracy: 1.0000 - val_loss: 3.3052e-05 - val_accuracy: 1.0000\n",
      "Epoch 121/200\n",
      "2/2 [==============================] - 5s 2s/step - loss: 4.3746e-08 - accuracy: 1.0000 - val_loss: 3.2522e-05 - val_accuracy: 1.0000\n",
      "Epoch 122/200\n",
      "2/2 [==============================] - 5s 2s/step - loss: 4.2653e-08 - accuracy: 1.0000 - val_loss: 3.2504e-05 - val_accuracy: 1.0000\n",
      "Epoch 123/200\n",
      "2/2 [==============================] - 5s 2s/step - loss: 4.1559e-08 - accuracy: 1.0000 - val_loss: 3.2420e-05 - val_accuracy: 1.0000\n",
      "Epoch 124/200\n",
      "2/2 [==============================] - 5s 2s/step - loss: 4.1559e-08 - accuracy: 1.0000 - val_loss: 3.1938e-05 - val_accuracy: 1.0000\n",
      "Epoch 125/200\n",
      "2/2 [==============================] - 5s 2s/step - loss: 4.1559e-08 - accuracy: 1.0000 - val_loss: 3.1557e-05 - val_accuracy: 1.0000\n",
      "Epoch 126/200\n",
      "2/2 [==============================] - 5s 2s/step - loss: 4.0466e-08 - accuracy: 1.0000 - val_loss: 3.1128e-05 - val_accuracy: 1.0000\n",
      "Epoch 127/200\n",
      "2/2 [==============================] - 5s 2s/step - loss: 4.0466e-08 - accuracy: 1.0000 - val_loss: 3.0568e-05 - val_accuracy: 1.0000\n",
      "Epoch 128/200\n",
      "2/2 [==============================] - 5s 2s/step - loss: 4.0466e-08 - accuracy: 1.0000 - val_loss: 3.0568e-05 - val_accuracy: 1.0000\n",
      "Epoch 129/200\n",
      "2/2 [==============================] - 5s 3s/step - loss: 4.0466e-08 - accuracy: 1.0000 - val_loss: 3.0413e-05 - val_accuracy: 1.0000\n",
      "Epoch 130/200\n",
      "2/2 [==============================] - 5s 2s/step - loss: 4.0466e-08 - accuracy: 1.0000 - val_loss: 3.0717e-05 - val_accuracy: 1.0000\n",
      "Epoch 131/200\n",
      "2/2 [==============================] - 5s 2s/step - loss: 3.9372e-08 - accuracy: 1.0000 - val_loss: 3.1211e-05 - val_accuracy: 1.0000\n",
      "Epoch 132/200\n",
      "2/2 [==============================] - 5s 2s/step - loss: 3.9372e-08 - accuracy: 1.0000 - val_loss: 3.1235e-05 - val_accuracy: 1.0000\n",
      "Epoch 133/200\n",
      "2/2 [==============================] - 5s 2s/step - loss: 3.9372e-08 - accuracy: 1.0000 - val_loss: 3.0848e-05 - val_accuracy: 1.0000\n",
      "Epoch 134/200\n",
      "2/2 [==============================] - 5s 2s/step - loss: 3.8278e-08 - accuracy: 1.0000 - val_loss: 3.0592e-05 - val_accuracy: 1.0000\n",
      "Epoch 135/200\n",
      "2/2 [==============================] - 5s 2s/step - loss: 3.8278e-08 - accuracy: 1.0000 - val_loss: 2.9871e-05 - val_accuracy: 1.0000\n",
      "Epoch 136/200\n",
      "2/2 [==============================] - 5s 2s/step - loss: 3.8278e-08 - accuracy: 1.0000 - val_loss: 2.9829e-05 - val_accuracy: 1.0000\n",
      "Epoch 137/200\n",
      "2/2 [==============================] - 5s 2s/step - loss: 3.8278e-08 - accuracy: 1.0000 - val_loss: 2.9371e-05 - val_accuracy: 1.0000\n",
      "Epoch 138/200\n",
      "2/2 [==============================] - 5s 2s/step - loss: 3.7185e-08 - accuracy: 1.0000 - val_loss: 2.9007e-05 - val_accuracy: 1.0000\n",
      "Epoch 139/200\n",
      "2/2 [==============================] - 5s 2s/step - loss: 3.7185e-08 - accuracy: 1.0000 - val_loss: 2.9049e-05 - val_accuracy: 1.0000\n",
      "Epoch 140/200\n",
      "2/2 [==============================] - 5s 2s/step - loss: 3.7185e-08 - accuracy: 1.0000 - val_loss: 2.9144e-05 - val_accuracy: 1.0000\n",
      "Epoch 141/200\n",
      "2/2 [==============================] - 5s 2s/step - loss: 3.6091e-08 - accuracy: 1.0000 - val_loss: 2.9454e-05 - val_accuracy: 1.0000\n",
      "Epoch 142/200\n",
      "2/2 [==============================] - 5s 2s/step - loss: 3.6091e-08 - accuracy: 1.0000 - val_loss: 2.9966e-05 - val_accuracy: 1.0000\n",
      "Epoch 143/200\n",
      "2/2 [==============================] - 5s 2s/step - loss: 3.4997e-08 - accuracy: 1.0000 - val_loss: 3.0073e-05 - val_accuracy: 1.0000\n",
      "Epoch 144/200\n",
      "2/2 [==============================] - 5s 2s/step - loss: 3.4997e-08 - accuracy: 1.0000 - val_loss: 2.9704e-05 - val_accuracy: 1.0000\n",
      "Epoch 145/200\n",
      "2/2 [==============================] - 5s 2s/step - loss: 3.3904e-08 - accuracy: 1.0000 - val_loss: 2.9674e-05 - val_accuracy: 1.0000\n",
      "Epoch 146/200\n",
      "2/2 [==============================] - 5s 2s/step - loss: 3.2810e-08 - accuracy: 1.0000 - val_loss: 2.9865e-05 - val_accuracy: 1.0000\n",
      "Epoch 147/200\n",
      "2/2 [==============================] - 5s 2s/step - loss: 3.1716e-08 - accuracy: 1.0000 - val_loss: 3.0365e-05 - val_accuracy: 1.0000\n",
      "Epoch 148/200\n",
      "2/2 [==============================] - 5s 2s/step - loss: 3.2810e-08 - accuracy: 1.0000 - val_loss: 3.0717e-05 - val_accuracy: 1.0000\n",
      "Epoch 149/200\n",
      "2/2 [==============================] - 5s 2s/step - loss: 3.2810e-08 - accuracy: 1.0000 - val_loss: 3.1009e-05 - val_accuracy: 1.0000\n",
      "Epoch 150/200\n",
      "2/2 [==============================] - 5s 2s/step - loss: 3.1716e-08 - accuracy: 1.0000 - val_loss: 3.1050e-05 - val_accuracy: 1.0000\n",
      "Epoch 151/200\n",
      "2/2 [==============================] - 5s 2s/step - loss: 3.1716e-08 - accuracy: 1.0000 - val_loss: 3.0848e-05 - val_accuracy: 1.0000\n",
      "Epoch 152/200\n",
      "2/2 [==============================] - 5s 2s/step - loss: 3.0623e-08 - accuracy: 1.0000 - val_loss: 3.0651e-05 - val_accuracy: 1.0000\n",
      "Epoch 153/200\n",
      "2/2 [==============================] - 5s 2s/step - loss: 2.9529e-08 - accuracy: 1.0000 - val_loss: 3.0336e-05 - val_accuracy: 1.0000\n",
      "Epoch 154/200\n",
      "2/2 [==============================] - 5s 2s/step - loss: 2.9529e-08 - accuracy: 1.0000 - val_loss: 3.0032e-05 - val_accuracy: 1.0000\n",
      "Epoch 155/200\n",
      "2/2 [==============================] - 5s 2s/step - loss: 2.9529e-08 - accuracy: 1.0000 - val_loss: 2.9639e-05 - val_accuracy: 1.0000\n",
      "Epoch 156/200\n",
      "2/2 [==============================] - 5s 2s/step - loss: 2.9529e-08 - accuracy: 1.0000 - val_loss: 2.9055e-05 - val_accuracy: 1.0000\n",
      "Epoch 157/200\n",
      "2/2 [==============================] - 5s 2s/step - loss: 2.9529e-08 - accuracy: 1.0000 - val_loss: 2.8828e-05 - val_accuracy: 1.0000\n",
      "Epoch 158/200\n",
      "2/2 [==============================] - 5s 2s/step - loss: 2.9529e-08 - accuracy: 1.0000 - val_loss: 2.8525e-05 - val_accuracy: 1.0000\n",
      "Epoch 159/200\n",
      "2/2 [==============================] - 5s 2s/step - loss: 2.8435e-08 - accuracy: 1.0000 - val_loss: 2.8620e-05 - val_accuracy: 1.0000\n",
      "Epoch 160/200\n",
      "2/2 [==============================] - 5s 2s/step - loss: 2.8435e-08 - accuracy: 1.0000 - val_loss: 2.8328e-05 - val_accuracy: 1.0000\n",
      "Epoch 161/200\n",
      "2/2 [==============================] - 5s 2s/step - loss: 2.7342e-08 - accuracy: 1.0000 - val_loss: 2.8161e-05 - val_accuracy: 1.0000\n",
      "Epoch 162/200\n",
      "2/2 [==============================] - 5s 2s/step - loss: 2.7342e-08 - accuracy: 1.0000 - val_loss: 2.7637e-05 - val_accuracy: 1.0000\n",
      "Epoch 163/200\n",
      "2/2 [==============================] - 5s 2s/step - loss: 2.7342e-08 - accuracy: 1.0000 - val_loss: 2.7339e-05 - val_accuracy: 1.0000\n",
      "Epoch 164/200\n",
      "2/2 [==============================] - 5s 2s/step - loss: 2.7342e-08 - accuracy: 1.0000 - val_loss: 2.7607e-05 - val_accuracy: 1.0000\n",
      "Epoch 165/200\n",
      "2/2 [==============================] - 5s 2s/step - loss: 2.7342e-08 - accuracy: 1.0000 - val_loss: 2.7661e-05 - val_accuracy: 1.0000\n",
      "Epoch 166/200\n",
      "2/2 [==============================] - 5s 2s/step - loss: 2.7342e-08 - accuracy: 1.0000 - val_loss: 2.7297e-05 - val_accuracy: 1.0000\n",
      "Epoch 167/200\n",
      "2/2 [==============================] - 5s 2s/step - loss: 2.6248e-08 - accuracy: 1.0000 - val_loss: 2.7345e-05 - val_accuracy: 1.0000\n",
      "Epoch 168/200\n",
      "2/2 [==============================] - 5s 2s/step - loss: 2.5154e-08 - accuracy: 1.0000 - val_loss: 2.7250e-05 - val_accuracy: 1.0000\n",
      "Epoch 169/200\n",
      "2/2 [==============================] - 5s 2s/step - loss: 2.5154e-08 - accuracy: 1.0000 - val_loss: 2.7291e-05 - val_accuracy: 1.0000\n",
      "Epoch 170/200\n"
     ]
    },
    {
     "name": "stdout",
     "output_type": "stream",
     "text": [
      "2/2 [==============================] - 5s 2s/step - loss: 2.5154e-08 - accuracy: 1.0000 - val_loss: 2.6964e-05 - val_accuracy: 1.0000\n",
      "Epoch 171/200\n",
      "2/2 [==============================] - 5s 2s/step - loss: 2.5154e-08 - accuracy: 1.0000 - val_loss: 2.6976e-05 - val_accuracy: 1.0000\n",
      "Epoch 172/200\n",
      "2/2 [==============================] - 5s 2s/step - loss: 2.5154e-08 - accuracy: 1.0000 - val_loss: 2.7017e-05 - val_accuracy: 1.0000\n",
      "Epoch 173/200\n",
      "2/2 [==============================] - 5s 2s/step - loss: 2.5154e-08 - accuracy: 1.0000 - val_loss: 2.6976e-05 - val_accuracy: 1.0000\n",
      "Epoch 174/200\n",
      "2/2 [==============================] - 5s 2s/step - loss: 2.5154e-08 - accuracy: 1.0000 - val_loss: 2.7345e-05 - val_accuracy: 1.0000\n",
      "Epoch 175/200\n",
      "2/2 [==============================] - 5s 2s/step - loss: 2.5154e-08 - accuracy: 1.0000 - val_loss: 2.7452e-05 - val_accuracy: 1.0000\n",
      "Epoch 176/200\n",
      "2/2 [==============================] - 5s 2s/step - loss: 2.5154e-08 - accuracy: 1.0000 - val_loss: 2.7280e-05 - val_accuracy: 1.0000\n",
      "Epoch 177/200\n",
      "2/2 [==============================] - 5s 2s/step - loss: 2.5154e-08 - accuracy: 1.0000 - val_loss: 2.7149e-05 - val_accuracy: 1.0000\n",
      "Epoch 178/200\n",
      "2/2 [==============================] - 5s 2s/step - loss: 2.5154e-08 - accuracy: 1.0000 - val_loss: 2.6964e-05 - val_accuracy: 1.0000\n",
      "Epoch 179/200\n",
      "2/2 [==============================] - 5s 2s/step - loss: 2.4061e-08 - accuracy: 1.0000 - val_loss: 2.6940e-05 - val_accuracy: 1.0000\n",
      "Epoch 180/200\n",
      "2/2 [==============================] - 5s 2s/step - loss: 2.4061e-08 - accuracy: 1.0000 - val_loss: 2.7262e-05 - val_accuracy: 1.0000\n",
      "Epoch 181/200\n",
      "2/2 [==============================] - 5s 2s/step - loss: 2.4061e-08 - accuracy: 1.0000 - val_loss: 2.7464e-05 - val_accuracy: 1.0000\n",
      "Epoch 182/200\n",
      "2/2 [==============================] - 5s 2s/step - loss: 2.4061e-08 - accuracy: 1.0000 - val_loss: 2.7417e-05 - val_accuracy: 1.0000\n",
      "Epoch 183/200\n",
      "2/2 [==============================] - 5s 2s/step - loss: 2.4061e-08 - accuracy: 1.0000 - val_loss: 2.7673e-05 - val_accuracy: 1.0000\n",
      "Epoch 184/200\n",
      "2/2 [==============================] - 5s 2s/step - loss: 2.4061e-08 - accuracy: 1.0000 - val_loss: 2.7905e-05 - val_accuracy: 1.0000\n",
      "Epoch 185/200\n",
      "2/2 [==============================] - 5s 2s/step - loss: 2.4061e-08 - accuracy: 1.0000 - val_loss: 2.8012e-05 - val_accuracy: 1.0000\n",
      "Epoch 186/200\n",
      "2/2 [==============================] - 5s 2s/step - loss: 2.4061e-08 - accuracy: 1.0000 - val_loss: 2.7846e-05 - val_accuracy: 1.0000\n",
      "Epoch 187/200\n",
      "2/2 [==============================] - 5s 2s/step - loss: 2.4061e-08 - accuracy: 1.0000 - val_loss: 2.8048e-05 - val_accuracy: 1.0000\n",
      "Epoch 188/200\n",
      "2/2 [==============================] - 5s 2s/step - loss: 2.2967e-08 - accuracy: 1.0000 - val_loss: 2.8030e-05 - val_accuracy: 1.0000\n",
      "Epoch 189/200\n",
      "2/2 [==============================] - 6s 3s/step - loss: 2.1873e-08 - accuracy: 1.0000 - val_loss: 2.7601e-05 - val_accuracy: 1.0000\n",
      "Epoch 190/200\n",
      "2/2 [==============================] - 6s 3s/step - loss: 2.1873e-08 - accuracy: 1.0000 - val_loss: 2.7381e-05 - val_accuracy: 1.0000\n",
      "Epoch 191/200\n",
      "2/2 [==============================] - 6s 3s/step - loss: 2.1873e-08 - accuracy: 1.0000 - val_loss: 2.7429e-05 - val_accuracy: 1.0000\n",
      "Epoch 192/200\n",
      "2/2 [==============================] - 6s 3s/step - loss: 2.1873e-08 - accuracy: 1.0000 - val_loss: 2.7411e-05 - val_accuracy: 1.0000\n",
      "Epoch 193/200\n",
      "2/2 [==============================] - 6s 2s/step - loss: 2.1873e-08 - accuracy: 1.0000 - val_loss: 2.7411e-05 - val_accuracy: 1.0000\n",
      "Epoch 194/200\n",
      "2/2 [==============================] - 6s 3s/step - loss: 2.1873e-08 - accuracy: 1.0000 - val_loss: 2.7363e-05 - val_accuracy: 1.0000\n",
      "Epoch 195/200\n",
      "2/2 [==============================] - 6s 3s/step - loss: 2.1873e-08 - accuracy: 1.0000 - val_loss: 2.7280e-05 - val_accuracy: 1.0000\n",
      "Epoch 196/200\n",
      "2/2 [==============================] - 6s 2s/step - loss: 2.1873e-08 - accuracy: 1.0000 - val_loss: 2.7297e-05 - val_accuracy: 1.0000\n",
      "Epoch 197/200\n",
      "2/2 [==============================] - 6s 2s/step - loss: 2.1873e-08 - accuracy: 1.0000 - val_loss: 2.7113e-05 - val_accuracy: 1.0000\n",
      "Epoch 198/200\n",
      "2/2 [==============================] - 6s 3s/step - loss: 2.1873e-08 - accuracy: 1.0000 - val_loss: 2.7184e-05 - val_accuracy: 1.0000\n",
      "Epoch 199/200\n",
      "2/2 [==============================] - 6s 3s/step - loss: 2.1873e-08 - accuracy: 1.0000 - val_loss: 2.7065e-05 - val_accuracy: 1.0000\n",
      "Epoch 200/200\n",
      "2/2 [==============================] - 6s 2s/step - loss: 2.1873e-08 - accuracy: 1.0000 - val_loss: 2.7220e-05 - val_accuracy: 1.0000\n"
     ]
    },
    {
     "data": {
      "text/plain": [
       "<tensorflow.python.keras.callbacks.History at 0x16cad8dd748>"
      ]
     },
     "execution_count": 35,
     "metadata": {},
     "output_type": "execute_result"
    }
   ],
   "source": [
    "model.fit(X_train, y_train, epochs=200, batch_size=64, verbose=1, \n",
    "          validation_data=(X_test, y_test),\n",
    "          callbacks=[tensorboard_callback])"
   ]
  },
  {
   "cell_type": "code",
   "execution_count": 36,
   "metadata": {
    "colab": {},
    "colab_type": "code",
    "id": "oc6qL9tKhM9F"
   },
   "outputs": [
    {
     "name": "stdout",
     "output_type": "stream",
     "text": [
      "Model: \"sequential\"\n",
      "_________________________________________________________________\n",
      "Layer (type)                 Output Shape              Param #   \n",
      "=================================================================\n",
      "conv2d (Conv2D)              (None, 298, 298, 32)      320       \n",
      "_________________________________________________________________\n",
      "max_pooling2d (MaxPooling2D) (None, 149, 149, 32)      0         \n",
      "_________________________________________________________________\n",
      "conv2d_1 (Conv2D)            (None, 147, 147, 64)      18496     \n",
      "_________________________________________________________________\n",
      "max_pooling2d_1 (MaxPooling2 (None, 73, 73, 64)        0         \n",
      "_________________________________________________________________\n",
      "conv2d_2 (Conv2D)            (None, 71, 71, 64)        36928     \n",
      "_________________________________________________________________\n",
      "conv2d_3 (Conv2D)            (None, 69, 69, 32)        18464     \n",
      "_________________________________________________________________\n",
      "max_pooling2d_2 (MaxPooling2 (None, 34, 34, 32)        0         \n",
      "_________________________________________________________________\n",
      "conv2d_4 (Conv2D)            (None, 32, 32, 64)        18496     \n",
      "_________________________________________________________________\n",
      "max_pooling2d_3 (MaxPooling2 (None, 16, 16, 64)        0         \n",
      "_________________________________________________________________\n",
      "conv2d_5 (Conv2D)            (None, 14, 14, 64)        36928     \n",
      "_________________________________________________________________\n",
      "flatten (Flatten)            (None, 12544)             0         \n",
      "_________________________________________________________________\n",
      "dense (Dense)                (None, 300)               3763500   \n",
      "_________________________________________________________________\n",
      "dense_1 (Dense)              (None, 400)               120400    \n",
      "_________________________________________________________________\n",
      "dense_2 (Dense)              (None, 300)               120300    \n",
      "_________________________________________________________________\n",
      "dense_3 (Dense)              (None, 100)               30100     \n",
      "_________________________________________________________________\n",
      "dense_4 (Dense)              (None, 50)                5050      \n",
      "_________________________________________________________________\n",
      "dense_5 (Dense)              (None, 32)                1632      \n",
      "=================================================================\n",
      "Total params: 4,170,614\n",
      "Trainable params: 4,170,614\n",
      "Non-trainable params: 0\n",
      "_________________________________________________________________\n"
     ]
    }
   ],
   "source": [
    "model.summary()"
   ]
  },
  {
   "cell_type": "markdown",
   "metadata": {
    "colab_type": "text",
    "id": "6IOse7UahM9H"
   },
   "source": [
    "### Tensorboard Display"
   ]
  },
  {
   "cell_type": "code",
   "execution_count": 37,
   "metadata": {
    "colab": {},
    "colab_type": "code",
    "id": "V7O2fNf7hM9I"
   },
   "outputs": [
    {
     "data": {
      "text/plain": [
       "Reusing TensorBoard on port 6006 (pid 19732), started 2:58:19 ago. (Use '!kill 19732' to kill it.)"
      ]
     },
     "metadata": {},
     "output_type": "display_data"
    },
    {
     "data": {
      "text/html": [
       "\n",
       "      <iframe id=\"tensorboard-frame-5ca249c50f4db245\" width=\"100%\" height=\"800\" frameborder=\"0\">\n",
       "      </iframe>\n",
       "      <script>\n",
       "        (function() {\n",
       "          const frame = document.getElementById(\"tensorboard-frame-5ca249c50f4db245\");\n",
       "          const url = new URL(\"/\", window.location);\n",
       "          const port = 6006;\n",
       "          if (port) {\n",
       "            url.port = port;\n",
       "          }\n",
       "          frame.src = url;\n",
       "        })();\n",
       "      </script>\n",
       "    "
      ],
      "text/plain": [
       "<IPython.core.display.HTML object>"
      ]
     },
     "metadata": {},
     "output_type": "display_data"
    }
   ],
   "source": [
    "%tensorboard --logdir logs/fit"
   ]
  },
  {
   "cell_type": "markdown",
   "metadata": {
    "colab_type": "text",
    "id": "XQJKzdwChM9J"
   },
   "source": [
    "## Performance Measures"
   ]
  },
  {
   "cell_type": "code",
   "execution_count": 38,
   "metadata": {
    "colab": {},
    "colab_type": "code",
    "id": "gIs4_UUvhM9K"
   },
   "outputs": [
    {
     "name": "stdout",
     "output_type": "stream",
     "text": [
      "Test Accuracy: 1.000\n"
     ]
    }
   ],
   "source": [
    "#y_predict = clf.predict(X_test)\n",
    "#y_test = y_test\n",
    "\n",
    "loss, acc = model.evaluate(X_test, y_test, verbose=0)\n",
    "print('Test Accuracy: %.3f' % acc)"
   ]
  },
  {
   "cell_type": "code",
   "execution_count": 39,
   "metadata": {},
   "outputs": [
    {
     "data": {
      "text/plain": [
       "20"
      ]
     },
     "execution_count": 39,
     "metadata": {},
     "output_type": "execute_result"
    }
   ],
   "source": [
    "len(X_test)"
   ]
  },
  {
   "cell_type": "code",
   "execution_count": 80,
   "metadata": {
    "colab": {},
    "colab_type": "code",
    "id": "Jm6MN7H5hM9M",
    "outputId": "888aa2d6-e546-458c-ba2a-b4206f2222f5",
    "scrolled": false
   },
   "outputs": [],
   "source": [
    "y_predict = model.predict(X_test)"
   ]
  },
  {
   "cell_type": "code",
   "execution_count": 81,
   "metadata": {
    "scrolled": false
   },
   "outputs": [
    {
     "data": {
      "text/plain": [
       "array([[3.44411176e-33, 2.71210586e-32, 1.25142459e-20, 8.21148954e-36,\n",
       "        0.00000000e+00, 1.39238416e-28, 1.73607408e-26, 1.68871808e-26,\n",
       "        0.00000000e+00, 1.00000000e+00, 0.00000000e+00, 3.59763894e-29,\n",
       "        6.42680612e-22, 5.35151943e-28, 0.00000000e+00, 0.00000000e+00,\n",
       "        2.85323255e-26, 2.01877229e-27, 1.58162667e-23, 1.33858791e-36,\n",
       "        2.98245012e-33, 1.12484212e-20, 7.20747943e-25, 0.00000000e+00,\n",
       "        1.94717156e-23, 4.05600322e-26, 1.04436089e-12, 4.06212366e-24,\n",
       "        4.84094170e-32, 4.66258189e-31, 0.00000000e+00, 4.46728390e-37],\n",
       "       [1.93759823e-38, 1.90788064e-36, 3.27590840e-24, 0.00000000e+00,\n",
       "        0.00000000e+00, 4.14514720e-33, 5.30073543e-32, 3.79020198e-32,\n",
       "        0.00000000e+00, 1.00000000e+00, 0.00000000e+00, 2.48531235e-34,\n",
       "        1.36572087e-25, 3.31152745e-32, 0.00000000e+00, 0.00000000e+00,\n",
       "        2.84706180e-30, 9.06191901e-33, 2.70118023e-26, 0.00000000e+00,\n",
       "        0.00000000e+00, 8.17048672e-23, 1.03793873e-27, 0.00000000e+00,\n",
       "        4.35334508e-28, 4.33339383e-29, 1.48143614e-17, 4.58665904e-29,\n",
       "        1.29337726e-35, 2.01499587e-33, 0.00000000e+00, 0.00000000e+00],\n",
       "       [0.00000000e+00, 2.96910454e-38, 1.60610934e-25, 0.00000000e+00,\n",
       "        0.00000000e+00, 6.71546147e-35, 4.86121878e-34, 3.73588015e-34,\n",
       "        0.00000000e+00, 1.00000000e+00, 0.00000000e+00, 2.63747671e-36,\n",
       "        4.16027215e-27, 7.71852090e-34, 0.00000000e+00, 0.00000000e+00,\n",
       "        8.32949948e-32, 8.13538575e-35, 1.66770665e-27, 0.00000000e+00,\n",
       "        0.00000000e+00, 7.59796824e-24, 4.92433474e-29, 0.00000000e+00,\n",
       "        8.35311778e-30, 1.87717570e-30, 5.92018593e-19, 7.19833479e-31,\n",
       "        2.72948368e-37, 8.31034845e-35, 0.00000000e+00, 0.00000000e+00],\n",
       "       [5.10674924e-35, 1.37851802e-33, 7.57026013e-22, 2.96855102e-37,\n",
       "        0.00000000e+00, 4.00343847e-30, 1.66168574e-28, 1.29635043e-28,\n",
       "        0.00000000e+00, 1.00000000e+00, 0.00000000e+00, 4.13728402e-31,\n",
       "        2.36845011e-23, 1.62939571e-29, 0.00000000e+00, 0.00000000e+00,\n",
       "        1.17602656e-27, 2.61814919e-29, 1.86287866e-24, 5.96512690e-38,\n",
       "        2.99478279e-35, 2.09222613e-21, 6.59090636e-26, 0.00000000e+00,\n",
       "        3.64151259e-25, 3.01594697e-27, 1.32928573e-14, 4.88266690e-26,\n",
       "        3.34781416e-33, 7.59063605e-32, 0.00000000e+00, 0.00000000e+00],\n",
       "       [3.66073669e-38, 2.99047729e-36, 1.10228489e-23, 0.00000000e+00,\n",
       "        0.00000000e+00, 1.20914067e-32, 2.34408197e-31, 2.48356284e-31,\n",
       "        0.00000000e+00, 1.00000000e+00, 0.00000000e+00, 7.33047598e-34,\n",
       "        2.26302525e-25, 7.51234048e-32, 0.00000000e+00, 0.00000000e+00,\n",
       "        4.31042569e-30, 5.83167685e-32, 2.09796710e-26, 0.00000000e+00,\n",
       "        2.73612297e-38, 5.61970940e-23, 6.10684989e-28, 0.00000000e+00,\n",
       "        1.69947082e-27, 3.14035908e-29, 1.98399296e-16, 1.63072112e-28,\n",
       "        1.18813802e-35, 5.68451114e-34, 0.00000000e+00, 0.00000000e+00],\n",
       "       [0.00000000e+00, 7.24796497e-37, 2.99766848e-24, 0.00000000e+00,\n",
       "        0.00000000e+00, 2.44257643e-33, 3.25444633e-32, 3.35885521e-32,\n",
       "        0.00000000e+00, 1.00000000e+00, 0.00000000e+00, 1.37530807e-34,\n",
       "        7.17849988e-26, 1.64439817e-32, 0.00000000e+00, 0.00000000e+00,\n",
       "        1.29151198e-30, 6.81898395e-33, 1.13207926e-26, 0.00000000e+00,\n",
       "        0.00000000e+00, 3.35442747e-23, 2.55104106e-28, 0.00000000e+00,\n",
       "        3.32500249e-28, 1.47943348e-29, 2.59570037e-17, 2.76552767e-29,\n",
       "        4.07320882e-36, 3.80015857e-34, 0.00000000e+00, 0.00000000e+00],\n",
       "       [0.00000000e+00, 5.94218876e-38, 2.03687522e-25, 0.00000000e+00,\n",
       "        0.00000000e+00, 1.61101696e-34, 8.20773961e-34, 5.93857496e-34,\n",
       "        0.00000000e+00, 1.00000000e+00, 0.00000000e+00, 8.39474728e-36,\n",
       "        7.76867754e-27, 1.26614829e-33, 0.00000000e+00, 0.00000000e+00,\n",
       "        1.32953795e-31, 9.78212764e-35, 4.18103444e-27, 0.00000000e+00,\n",
       "        0.00000000e+00, 1.34019611e-23, 6.88302686e-29, 0.00000000e+00,\n",
       "        2.16721255e-29, 5.68239800e-30, 6.35531033e-19, 1.24891451e-30,\n",
       "        7.71494757e-37, 2.62273085e-34, 0.00000000e+00, 0.00000000e+00],\n",
       "       [0.00000000e+00, 0.00000000e+00, 5.27066875e-26, 0.00000000e+00,\n",
       "        0.00000000e+00, 1.83064591e-35, 8.94581851e-35, 8.19206433e-35,\n",
       "        0.00000000e+00, 1.00000000e+00, 0.00000000e+00, 7.71430006e-37,\n",
       "        1.41223079e-27, 1.68497266e-34, 0.00000000e+00, 0.00000000e+00,\n",
       "        1.93091918e-32, 1.19516580e-35, 7.80250121e-28, 0.00000000e+00,\n",
       "        0.00000000e+00, 3.69313555e-24, 1.19870354e-29, 0.00000000e+00,\n",
       "        2.77202200e-30, 8.00970190e-31, 1.60106740e-19, 1.64326399e-31,\n",
       "        8.95512620e-38, 3.82264908e-35, 0.00000000e+00, 0.00000000e+00],\n",
       "       [3.73419521e-36, 2.01710996e-34, 8.55179179e-23, 7.63294897e-38,\n",
       "        0.00000000e+00, 3.72011471e-31, 5.14813111e-30, 3.67300494e-30,\n",
       "        0.00000000e+00, 1.00000000e+00, 0.00000000e+00, 3.00079081e-32,\n",
       "        3.73782373e-24, 2.47691273e-30, 0.00000000e+00, 0.00000000e+00,\n",
       "        1.29734974e-28, 1.01940431e-30, 7.22840544e-25, 1.21187066e-38,\n",
       "        1.18095731e-36, 1.11588371e-21, 2.31187876e-26, 0.00000000e+00,\n",
       "        2.82395287e-26, 1.62284693e-27, 3.07384154e-16, 3.07417612e-27,\n",
       "        1.00241603e-33, 7.71105427e-32, 0.00000000e+00, 0.00000000e+00],\n",
       "       [4.63754081e-36, 2.13649886e-34, 1.07022361e-22, 7.95143608e-38,\n",
       "        0.00000000e+00, 4.74479502e-31, 8.18780453e-30, 5.76466567e-30,\n",
       "        0.00000000e+00, 1.00000000e+00, 0.00000000e+00, 3.86740551e-32,\n",
       "        4.77602858e-24, 3.07305764e-30, 0.00000000e+00, 0.00000000e+00,\n",
       "        1.85365244e-28, 1.43489492e-30, 7.69418689e-25, 0.00000000e+00,\n",
       "        1.68330052e-36, 1.06214262e-21, 2.69535406e-26, 0.00000000e+00,\n",
       "        3.70579058e-26, 1.55477599e-27, 5.38027070e-16, 4.29993789e-27,\n",
       "        9.89491196e-34, 6.58013349e-32, 0.00000000e+00, 0.00000000e+00],\n",
       "       [8.93566167e-26, 5.97842932e-31, 1.38508664e-17, 4.50733951e-37,\n",
       "        1.45033402e-26, 1.57398729e-25, 6.31777132e-19, 2.57523526e-17,\n",
       "        2.90024192e-27, 3.31390536e-12, 3.85960676e-33, 6.11679284e-17,\n",
       "        2.65970230e-15, 1.02948596e-24, 3.03358027e-33, 2.28306313e-33,\n",
       "        1.83378947e-22, 3.04591186e-22, 1.36423761e-24, 1.85607272e-35,\n",
       "        1.66622292e-22, 1.95516184e-19, 1.55457010e-25, 0.00000000e+00,\n",
       "        3.56945105e-14, 8.57464440e-26, 1.00000000e+00, 3.75214284e-14,\n",
       "        9.10432084e-35, 5.73781319e-37, 1.17874376e-27, 1.94004679e-30],\n",
       "       [5.23519375e-24, 4.72521365e-27, 2.78880685e-14, 5.45918913e-32,\n",
       "        2.73254515e-26, 3.60607959e-22, 6.84707024e-17, 4.20428694e-16,\n",
       "        2.13907839e-27, 5.43910428e-04, 1.76208089e-30, 4.61616545e-17,\n",
       "        2.71688894e-13, 2.33924678e-21, 3.26789927e-32, 1.51191966e-32,\n",
       "        2.30433597e-19, 1.00187037e-19, 9.52787601e-20, 2.99551296e-31,\n",
       "        9.15094806e-22, 1.24220251e-15, 1.15847574e-20, 4.18719444e-38,\n",
       "        2.11250776e-13, 1.63220426e-21, 9.99456108e-01, 1.45111489e-13,\n",
       "        3.11862435e-29, 1.46756351e-30, 6.40315313e-29, 6.28453233e-28],\n",
       "       [8.75053281e-27, 1.02151311e-32, 6.94461913e-19, 0.00000000e+00,\n",
       "        2.33393281e-27, 4.93584953e-27, 6.40693648e-20, 3.48363351e-18,\n",
       "        6.97498641e-28, 1.84586131e-14, 1.55422486e-34, 3.08281148e-17,\n",
       "        5.06031565e-16, 3.73541108e-26, 2.40853489e-34, 4.29256420e-34,\n",
       "        5.54866577e-24, 2.56712583e-23, 2.95437869e-26, 2.54390625e-37,\n",
       "        3.21731871e-23, 9.11634138e-21, 1.98697364e-27, 0.00000000e+00,\n",
       "        1.44749359e-14, 3.15200410e-27, 1.00000000e+00, 1.67212588e-14,\n",
       "        6.66955201e-37, 0.00000000e+00, 1.03231578e-27, 7.30123639e-32],\n",
       "       [2.17319300e-26, 4.12588731e-32, 1.53688628e-18, 0.00000000e+00,\n",
       "        4.52764521e-27, 1.18895960e-26, 1.33181003e-19, 5.69549710e-18,\n",
       "        1.38345316e-27, 5.86058844e-14, 4.93588838e-34, 3.51906985e-17,\n",
       "        6.33460101e-16, 7.53334185e-26, 4.26273511e-34, 7.88343633e-34,\n",
       "        1.61918955e-23, 6.86998515e-23, 8.62539589e-26, 7.80231685e-37,\n",
       "        4.68994753e-23, 1.92159145e-20, 4.97395444e-27, 0.00000000e+00,\n",
       "        2.07843962e-14, 6.23450216e-27, 1.00000000e+00, 2.09597202e-14,\n",
       "        2.61653247e-36, 0.00000000e+00, 1.48341913e-27, 1.23012827e-31],\n",
       "       [9.32386258e-25, 1.61362799e-30, 4.67163899e-18, 3.93617340e-37,\n",
       "        4.34837239e-25, 1.72146780e-25, 1.67855171e-18, 5.02451673e-17,\n",
       "        4.07837809e-25, 1.79514776e-14, 6.46750056e-32, 1.22085866e-15,\n",
       "        6.76533516e-15, 1.12245667e-24, 9.80130422e-32, 2.54426325e-31,\n",
       "        1.31040525e-22, 9.38962380e-22, 1.35115504e-24, 9.53724312e-35,\n",
       "        1.71851215e-21, 2.16434845e-19, 6.23395851e-26, 1.36209717e-36,\n",
       "        2.08354520e-13, 1.59229799e-25, 1.00000000e+00, 2.40123514e-13,\n",
       "        9.92844454e-35, 8.39170164e-37, 5.75200591e-25, 5.81937186e-30],\n",
       "       [2.07270422e-24, 2.55075819e-28, 1.87875846e-15, 1.27147209e-33,\n",
       "        5.59571950e-26, 3.04669978e-23, 1.80523930e-17, 2.28032307e-16,\n",
       "        8.06327472e-27, 1.81230035e-07, 3.37047215e-31, 8.57154197e-17,\n",
       "        3.73604549e-14, 1.81124976e-22, 3.94777641e-32, 1.71097317e-32,\n",
       "        2.49330606e-20, 1.12771625e-20, 1.75856720e-21, 1.18019383e-32,\n",
       "        9.48180213e-22, 3.92586503e-17, 1.44858377e-22, 8.00164068e-38,\n",
       "        1.29493909e-13, 3.39578051e-23, 9.99999762e-01, 1.01872869e-13,\n",
       "        3.83782237e-31, 6.09740565e-33, 3.54957315e-28, 1.19256928e-28],\n",
       "       [4.54987622e-27, 2.57304546e-32, 2.28866131e-18, 0.00000000e+00,\n",
       "        6.43419442e-28, 9.21378598e-27, 7.39778059e-20, 2.99982798e-18,\n",
       "        1.06876774e-28, 2.05439572e-12, 1.06162924e-34, 7.17341036e-18,\n",
       "        5.41009261e-16, 8.76430136e-26, 7.42223090e-35, 3.46183775e-35,\n",
       "        2.12969205e-23, 2.35842463e-23, 1.28693659e-25, 4.05941681e-37,\n",
       "        1.37084793e-23, 3.13153325e-20, 1.64790732e-26, 0.00000000e+00,\n",
       "        5.46120766e-15, 4.99460310e-27, 1.00000000e+00, 6.87541344e-15,\n",
       "        2.64834504e-36, 0.00000000e+00, 2.63341429e-29, 8.85183628e-32],\n",
       "       [1.76010862e-24, 1.07780682e-30, 3.18324225e-18, 2.07570552e-37,\n",
       "        1.36260447e-24, 1.42036341e-25, 1.59885885e-18, 4.71840431e-17,\n",
       "        2.69233573e-24, 2.77512197e-15, 8.82553694e-32, 3.76368079e-15,\n",
       "        1.14216269e-14, 5.85072742e-25, 2.67970253e-31, 7.64151215e-31,\n",
       "        9.76697396e-23, 9.33060135e-22, 8.97710990e-25, 1.34644532e-34,\n",
       "        2.60353927e-21, 1.90984139e-19, 3.37477869e-26, 3.92491494e-36,\n",
       "        4.30302902e-13, 2.31815898e-25, 1.00000000e+00, 3.79244433e-13,\n",
       "        6.31890088e-35, 7.94971103e-37, 4.98355383e-24, 5.02906651e-30],\n",
       "       [2.31471464e-23, 3.04635683e-27, 4.24439147e-15, 1.89957624e-32,\n",
       "        1.16976437e-24, 2.54319769e-22, 1.20581546e-16, 1.02133867e-15,\n",
       "        2.11669032e-25, 9.03793662e-08, 7.32769399e-30, 5.57059529e-16,\n",
       "        8.76615878e-14, 1.21611373e-21, 1.04793488e-30, 6.52317832e-31,\n",
       "        1.38364866e-19, 7.66453019e-20, 9.64855536e-21, 2.37430205e-31,\n",
       "        8.92413578e-21, 1.05513055e-16, 6.86338674e-22, 6.37514050e-36,\n",
       "        5.64992714e-13, 2.05113150e-22, 9.99999881e-01, 3.65701420e-13,\n",
       "        4.96740440e-30, 9.42445484e-32, 1.09139184e-26, 1.80179047e-27],\n",
       "       [6.22369346e-26, 1.76026353e-31, 2.20666724e-18, 3.66669025e-38,\n",
       "        1.74990380e-26, 3.01006395e-26, 3.32134135e-19, 1.53678147e-17,\n",
       "        8.53863660e-27, 3.73165244e-14, 2.87255224e-33, 1.23294235e-16,\n",
       "        1.22542660e-15, 2.43915077e-25, 3.32764598e-33, 6.44388077e-33,\n",
       "        3.30702324e-23, 1.65187575e-22, 1.99176421e-25, 5.42974107e-36,\n",
       "        1.81255649e-22, 4.34150494e-20, 1.35418267e-26, 1.70897232e-38,\n",
       "        4.13003473e-14, 1.60659258e-26, 1.00000000e+00, 4.76802469e-14,\n",
       "        8.49447919e-36, 5.03054266e-38, 8.40407727e-27, 5.46572759e-31]],\n",
       "      dtype=float32)"
      ]
     },
     "execution_count": 81,
     "metadata": {},
     "output_type": "execute_result"
    }
   ],
   "source": [
    "y_predict"
   ]
  },
  {
   "cell_type": "code",
   "execution_count": 43,
   "metadata": {},
   "outputs": [
    {
     "data": {
      "text/plain": [
       "array([3.4441118e-33, 2.7121059e-32, 1.2514246e-20, 8.2114895e-36,\n",
       "       0.0000000e+00, 1.3923842e-28, 1.7360741e-26, 1.6887181e-26,\n",
       "       0.0000000e+00, 1.0000000e+00, 0.0000000e+00, 3.5976389e-29,\n",
       "       6.4268061e-22, 5.3515194e-28, 0.0000000e+00, 0.0000000e+00,\n",
       "       2.8532325e-26, 2.0187723e-27, 1.5816267e-23, 1.3385879e-36,\n",
       "       2.9824501e-33, 1.1248421e-20, 7.2074794e-25, 0.0000000e+00,\n",
       "       1.9471716e-23, 4.0560032e-26, 1.0443609e-12, 4.0621237e-24,\n",
       "       4.8409417e-32, 4.6625819e-31, 0.0000000e+00, 4.4672839e-37],\n",
       "      dtype=float32)"
      ]
     },
     "execution_count": 43,
     "metadata": {},
     "output_type": "execute_result"
    }
   ],
   "source": [
    "y_predict[0]"
   ]
  },
  {
   "cell_type": "code",
   "execution_count": 44,
   "metadata": {},
   "outputs": [],
   "source": [
    "# The number 34 means the type number of all chromosome class number inlcuding abnormal ones\n",
    "y_predict_filtered = []\n",
    "y_predict_filtered_prob = []\n",
    "\n",
    "for sample in y_predict:\n",
    "    maximum = 0\n",
    "    indicator = 0\n",
    "    for i in range(32):\n",
    "        if sample[i] > maximum:\n",
    "            maximum = sample[i]\n",
    "            indicator = i\n",
    "    y_predict_filtered.append(indicator)\n",
    "    y_predict_filtered_prob.append(maximum)"
   ]
  },
  {
   "cell_type": "code",
   "execution_count": 45,
   "metadata": {},
   "outputs": [
    {
     "data": {
      "text/plain": [
       "[1.0,\n",
       " 1.0,\n",
       " 1.0,\n",
       " 1.0,\n",
       " 1.0,\n",
       " 1.0,\n",
       " 1.0,\n",
       " 1.0,\n",
       " 1.0,\n",
       " 1.0,\n",
       " 1.0,\n",
       " 0.9994561,\n",
       " 1.0,\n",
       " 1.0,\n",
       " 1.0,\n",
       " 0.99999976,\n",
       " 1.0,\n",
       " 1.0,\n",
       " 0.9999999,\n",
       " 1.0]"
      ]
     },
     "execution_count": 45,
     "metadata": {},
     "output_type": "execute_result"
    }
   ],
   "source": [
    "y_predict_filtered_prob"
   ]
  },
  {
   "cell_type": "code",
   "execution_count": 46,
   "metadata": {},
   "outputs": [
    {
     "data": {
      "text/plain": [
       "20"
      ]
     },
     "execution_count": 46,
     "metadata": {},
     "output_type": "execute_result"
    }
   ],
   "source": [
    "len(y_predict_filtered)"
   ]
  },
  {
   "cell_type": "code",
   "execution_count": 47,
   "metadata": {
    "colab": {},
    "colab_type": "code",
    "id": "pP-vPuuUhM9O",
    "outputId": "22db63cd-ab18-4569-afe2-033c36a10cd4"
   },
   "outputs": [
    {
     "data": {
      "text/plain": [
       "20"
      ]
     },
     "execution_count": 47,
     "metadata": {},
     "output_type": "execute_result"
    }
   ],
   "source": [
    "len(y_test)"
   ]
  },
  {
   "cell_type": "markdown",
   "metadata": {
    "colab_type": "text",
    "id": "wFuk9U3RhM9Q"
   },
   "source": [
    "### Confusion Matrix (混淆矩阵)"
   ]
  },
  {
   "cell_type": "code",
   "execution_count": 48,
   "metadata": {},
   "outputs": [],
   "source": [
    "label = ['chr_09', 'chr_9_inversion']"
   ]
  },
  {
   "cell_type": "code",
   "execution_count": 49,
   "metadata": {
    "colab": {},
    "colab_type": "code",
    "id": "nzASGN6ghM9Q",
    "outputId": "87b406d2-255d-4119-d862-5f6a6f2a8c96",
    "scrolled": false
   },
   "outputs": [
    {
     "data": {
      "text/html": [
       "<div>\n",
       "<style scoped>\n",
       "    .dataframe tbody tr th:only-of-type {\n",
       "        vertical-align: middle;\n",
       "    }\n",
       "\n",
       "    .dataframe tbody tr th {\n",
       "        vertical-align: top;\n",
       "    }\n",
       "\n",
       "    .dataframe thead th {\n",
       "        text-align: right;\n",
       "    }\n",
       "</style>\n",
       "<table border=\"1\" class=\"dataframe\">\n",
       "  <thead>\n",
       "    <tr style=\"text-align: right;\">\n",
       "      <th></th>\n",
       "      <th>chr_09</th>\n",
       "      <th>chr_9_inversion</th>\n",
       "    </tr>\n",
       "  </thead>\n",
       "  <tbody>\n",
       "    <tr>\n",
       "      <th>chr_09</th>\n",
       "      <td>10</td>\n",
       "      <td>0</td>\n",
       "    </tr>\n",
       "    <tr>\n",
       "      <th>chr_9_inversion</th>\n",
       "      <td>0</td>\n",
       "      <td>10</td>\n",
       "    </tr>\n",
       "  </tbody>\n",
       "</table>\n",
       "</div>"
      ],
      "text/plain": [
       "                 chr_09  chr_9_inversion\n",
       "chr_09               10                0\n",
       "chr_9_inversion       0               10"
      ]
     },
     "execution_count": 49,
     "metadata": {},
     "output_type": "execute_result"
    }
   ],
   "source": [
    "cm = np.array(confusion_matrix(y_test, y_predict_filtered, labels=[9, 26]))\n",
    "confusion = pd.DataFrame(cm, index=label,\n",
    "                        columns=label)\n",
    "confusion.to_csv('ConfusionMatrix_KaryoType_CNN.csv')\n",
    "confusion"
   ]
  },
  {
   "cell_type": "code",
   "execution_count": 50,
   "metadata": {
    "colab": {},
    "colab_type": "code",
    "id": "s12C84CQhM9S",
    "outputId": "5e2f474b-13ef-434d-b8e0-7d6e49f7ccb9",
    "scrolled": true
   },
   "outputs": [
    {
     "name": "stdout",
     "output_type": "stream",
     "text": [
      "              precision    recall  f1-score   support\n",
      "\n",
      "           9       1.00      1.00      1.00        10\n",
      "          26       1.00      1.00      1.00        10\n",
      "\n",
      "   micro avg       1.00      1.00      1.00        20\n",
      "   macro avg       1.00      1.00      1.00        20\n",
      "weighted avg       1.00      1.00      1.00        20\n",
      "\n"
     ]
    }
   ],
   "source": [
    "print(classification_report(y_test, y_predict_filtered))"
   ]
  },
  {
   "cell_type": "code",
   "execution_count": 51,
   "metadata": {},
   "outputs": [
    {
     "data": {
      "image/png": "[encoded data removed]",
      "text/plain": [
       "<Figure size 2160x1728 with 2 Axes>"
      ]
     },
     "metadata": {
      "needs_background": "light"
     },
     "output_type": "display_data"
    }
   ],
   "source": [
    "plt.figure(figsize=(30, 24))\n",
    "heat_map = sb.heatmap(confusion, annot=True, \n",
    "                      cmap='coolwarm', \n",
    "                      xticklabels=confusion.columns, yticklabels=confusion.index, \n",
    "                      linewidths=.5, \n",
    "                      annot_kws={\"size\": 40})"
   ]
  },
  {
   "cell_type": "markdown",
   "metadata": {
    "colab_type": "text",
    "id": "B4J3frv1hM9U"
   },
   "source": [
    "## Save the Model"
   ]
  },
  {
   "cell_type": "code",
   "execution_count": null,
   "metadata": {},
   "outputs": [],
   "source": [
    "model.save('saved_model/model_cnn')"
   ]
  },
  {
   "cell_type": "markdown",
   "metadata": {
    "colab_type": "text",
    "id": "FEUhOZ7rhM9X"
   },
   "source": [
    "## Load the Model"
   ]
  },
  {
   "cell_type": "code",
   "execution_count": 36,
   "metadata": {},
   "outputs": [],
   "source": [
    "model_reload = keras.models.load_model('saved_model/model_cnn')"
   ]
  },
  {
   "cell_type": "code",
   "execution_count": 37,
   "metadata": {},
   "outputs": [],
   "source": [
    "y_predict = model.predict(X_test)"
   ]
  },
  {
   "cell_type": "code",
   "execution_count": 39,
   "metadata": {},
   "outputs": [
    {
     "data": {
      "text/plain": [
       "array([1.00000000e+00, 1.00000000e+00, 1.00000000e+00, 1.00000000e+00,\n",
       "       1.00000000e+00, 1.00000000e+00, 1.00000000e+00, 1.00000000e+00,\n",
       "       1.00000000e+00, 1.00000000e+00, 6.41539710e-09, 2.58133169e-02,\n",
       "       5.72047654e-09, 8.48488241e-07, 2.80622521e-06, 3.74989547e-02,\n",
       "       9.73360592e-09, 1.02380035e-07, 5.74591994e-01, 2.97840650e-08],\n",
       "      dtype=float32)"
      ]
     },
     "execution_count": 39,
     "metadata": {},
     "output_type": "execute_result"
    }
   ],
   "source": [
    "y_predict[:, 9]"
   ]
  },
  {
   "cell_type": "markdown",
   "metadata": {},
   "source": [
    "## ROC"
   ]
  },
  {
   "cell_type": "code",
   "execution_count": 74,
   "metadata": {},
   "outputs": [],
   "source": [
    "y_predict_selected = y_predict[:, [9,26]]"
   ]
  },
  {
   "cell_type": "code",
   "execution_count": 75,
   "metadata": {},
   "outputs": [
    {
     "data": {
      "text/plain": [
       "array([[1.0000000e+00, 1.0443609e-12],\n",
       "       [1.0000000e+00, 1.4814361e-17],\n",
       "       [1.0000000e+00, 5.9201859e-19],\n",
       "       [1.0000000e+00, 1.3292857e-14],\n",
       "       [1.0000000e+00, 1.9839930e-16],\n",
       "       [1.0000000e+00, 2.5957004e-17],\n",
       "       [1.0000000e+00, 6.3553103e-19],\n",
       "       [1.0000000e+00, 1.6010674e-19],\n",
       "       [1.0000000e+00, 3.0738415e-16],\n",
       "       [1.0000000e+00, 5.3802707e-16],\n",
       "       [3.3139054e-12, 1.0000000e+00],\n",
       "       [5.4391043e-04, 9.9945611e-01],\n",
       "       [1.8458613e-14, 1.0000000e+00],\n",
       "       [5.8605884e-14, 1.0000000e+00],\n",
       "       [1.7951478e-14, 1.0000000e+00],\n",
       "       [1.8123004e-07, 9.9999976e-01],\n",
       "       [2.0543957e-12, 1.0000000e+00],\n",
       "       [2.7751220e-15, 1.0000000e+00],\n",
       "       [9.0379366e-08, 9.9999988e-01],\n",
       "       [3.7316524e-14, 1.0000000e+00]], dtype=float32)"
      ]
     },
     "execution_count": 75,
     "metadata": {},
     "output_type": "execute_result"
    }
   ],
   "source": [
    "y_predict_selected"
   ]
  },
  {
   "cell_type": "code",
   "execution_count": 79,
   "metadata": {},
   "outputs": [
    {
     "ename": "ValueError",
     "evalue": "Found input variables with inconsistent numbers of samples: [20, 640]",
     "output_type": "error",
     "traceback": [
      "\u001b[1;31m---------------------------------------------------------------------------\u001b[0m",
      "\u001b[1;31mValueError\u001b[0m                                Traceback (most recent call last)",
      "\u001b[1;32m<ipython-input-79-58e5af0c6f5b>\u001b[0m in \u001b[0;36m<module>\u001b[1;34m\u001b[0m\n\u001b[1;32m----> 1\u001b[1;33m \u001b[0mfpr_keras\u001b[0m\u001b[1;33m,\u001b[0m \u001b[0mtpr_keras\u001b[0m\u001b[1;33m,\u001b[0m \u001b[0mthresholds_keras\u001b[0m \u001b[1;33m=\u001b[0m \u001b[0mroc_curve\u001b[0m\u001b[1;33m(\u001b[0m\u001b[0my_test\u001b[0m\u001b[1;33m,\u001b[0m \u001b[0my_predict\u001b[0m\u001b[1;33m)\u001b[0m\u001b[1;33m\u001b[0m\u001b[1;33m\u001b[0m\u001b[0m\n\u001b[0m",
      "\u001b[1;32mC:\\Anaconda3\\lib\\site-packages\\sklearn\\metrics\\ranking.py\u001b[0m in \u001b[0;36mroc_curve\u001b[1;34m(y_true, y_score, pos_label, sample_weight, drop_intermediate)\u001b[0m\n\u001b[0;32m    616\u001b[0m     \"\"\"\n\u001b[0;32m    617\u001b[0m     fps, tps, thresholds = _binary_clf_curve(\n\u001b[1;32m--> 618\u001b[1;33m         y_true, y_score, pos_label=pos_label, sample_weight=sample_weight)\n\u001b[0m\u001b[0;32m    619\u001b[0m \u001b[1;33m\u001b[0m\u001b[0m\n\u001b[0;32m    620\u001b[0m     \u001b[1;31m# Attempt to drop thresholds corresponding to points in between and\u001b[0m\u001b[1;33m\u001b[0m\u001b[1;33m\u001b[0m\u001b[1;33m\u001b[0m\u001b[0m\n",
      "\u001b[1;32mC:\\Anaconda3\\lib\\site-packages\\sklearn\\metrics\\ranking.py\u001b[0m in \u001b[0;36m_binary_clf_curve\u001b[1;34m(y_true, y_score, pos_label, sample_weight)\u001b[0m\n\u001b[0;32m    397\u001b[0m         \u001b[1;32mraise\u001b[0m \u001b[0mValueError\u001b[0m\u001b[1;33m(\u001b[0m\u001b[1;34m\"{0} format is not supported\"\u001b[0m\u001b[1;33m.\u001b[0m\u001b[0mformat\u001b[0m\u001b[1;33m(\u001b[0m\u001b[0my_type\u001b[0m\u001b[1;33m)\u001b[0m\u001b[1;33m)\u001b[0m\u001b[1;33m\u001b[0m\u001b[1;33m\u001b[0m\u001b[0m\n\u001b[0;32m    398\u001b[0m \u001b[1;33m\u001b[0m\u001b[0m\n\u001b[1;32m--> 399\u001b[1;33m     \u001b[0mcheck_consistent_length\u001b[0m\u001b[1;33m(\u001b[0m\u001b[0my_true\u001b[0m\u001b[1;33m,\u001b[0m \u001b[0my_score\u001b[0m\u001b[1;33m,\u001b[0m \u001b[0msample_weight\u001b[0m\u001b[1;33m)\u001b[0m\u001b[1;33m\u001b[0m\u001b[1;33m\u001b[0m\u001b[0m\n\u001b[0m\u001b[0;32m    400\u001b[0m     \u001b[0my_true\u001b[0m \u001b[1;33m=\u001b[0m \u001b[0mcolumn_or_1d\u001b[0m\u001b[1;33m(\u001b[0m\u001b[0my_true\u001b[0m\u001b[1;33m)\u001b[0m\u001b[1;33m\u001b[0m\u001b[1;33m\u001b[0m\u001b[0m\n\u001b[0;32m    401\u001b[0m     \u001b[0my_score\u001b[0m \u001b[1;33m=\u001b[0m \u001b[0mcolumn_or_1d\u001b[0m\u001b[1;33m(\u001b[0m\u001b[0my_score\u001b[0m\u001b[1;33m)\u001b[0m\u001b[1;33m\u001b[0m\u001b[1;33m\u001b[0m\u001b[0m\n",
      "\u001b[1;32mC:\\Anaconda3\\lib\\site-packages\\sklearn\\utils\\validation.py\u001b[0m in \u001b[0;36mcheck_consistent_length\u001b[1;34m(*arrays)\u001b[0m\n\u001b[0;32m    233\u001b[0m     \u001b[1;32mif\u001b[0m \u001b[0mlen\u001b[0m\u001b[1;33m(\u001b[0m\u001b[0muniques\u001b[0m\u001b[1;33m)\u001b[0m \u001b[1;33m>\u001b[0m \u001b[1;36m1\u001b[0m\u001b[1;33m:\u001b[0m\u001b[1;33m\u001b[0m\u001b[1;33m\u001b[0m\u001b[0m\n\u001b[0;32m    234\u001b[0m         raise ValueError(\"Found input variables with inconsistent numbers of\"\n\u001b[1;32m--> 235\u001b[1;33m                          \" samples: %r\" % [int(l) for l in lengths])\n\u001b[0m\u001b[0;32m    236\u001b[0m \u001b[1;33m\u001b[0m\u001b[0m\n\u001b[0;32m    237\u001b[0m \u001b[1;33m\u001b[0m\u001b[0m\n",
      "\u001b[1;31mValueError\u001b[0m: Found input variables with inconsistent numbers of samples: [20, 640]"
     ]
    }
   ],
   "source": [
    "fpr_keras, tpr_keras, thresholds_keras = roc_curve(y_test, y_predict)"
   ]
  },
  {
   "cell_type": "code",
   "execution_count": 61,
   "metadata": {},
   "outputs": [
    {
     "data": {
      "text/plain": [
       "array([[1.0000000e+00, 1.0443609e-12],\n",
       "       [1.0000000e+00, 1.4814361e-17],\n",
       "       [1.0000000e+00, 5.9201859e-19],\n",
       "       [1.0000000e+00, 1.3292857e-14],\n",
       "       [1.0000000e+00, 1.9839930e-16],\n",
       "       [1.0000000e+00, 2.5957004e-17],\n",
       "       [1.0000000e+00, 6.3553103e-19],\n",
       "       [1.0000000e+00, 1.6010674e-19],\n",
       "       [1.0000000e+00, 3.0738415e-16],\n",
       "       [1.0000000e+00, 5.3802707e-16],\n",
       "       [3.3139054e-12, 1.0000000e+00],\n",
       "       [5.4391043e-04, 9.9945611e-01],\n",
       "       [1.8458613e-14, 1.0000000e+00],\n",
       "       [5.8605884e-14, 1.0000000e+00],\n",
       "       [1.7951478e-14, 1.0000000e+00],\n",
       "       [1.8123004e-07, 9.9999976e-01],\n",
       "       [2.0543957e-12, 1.0000000e+00],\n",
       "       [2.7751220e-15, 1.0000000e+00],\n",
       "       [9.0379366e-08, 9.9999988e-01],\n",
       "       [3.7316524e-14, 1.0000000e+00]], dtype=float32)"
      ]
     },
     "execution_count": 61,
     "metadata": {},
     "output_type": "execute_result"
    }
   ],
   "source": [
    "y_predict_selected"
   ]
  },
  {
   "cell_type": "code",
   "execution_count": 62,
   "metadata": {},
   "outputs": [
    {
     "ename": "ValueError",
     "evalue": "bad input shape (20, 2)",
     "output_type": "error",
     "traceback": [
      "\u001b[1;31m---------------------------------------------------------------------------\u001b[0m",
      "\u001b[1;31mValueError\u001b[0m                                Traceback (most recent call last)",
      "\u001b[1;32m<ipython-input-62-f4ebe3b8454b>\u001b[0m in \u001b[0;36m<module>\u001b[1;34m\u001b[0m\n\u001b[1;32m----> 1\u001b[1;33m \u001b[0mfpr_keras\u001b[0m\u001b[1;33m,\u001b[0m \u001b[0mtpr_keras\u001b[0m\u001b[1;33m,\u001b[0m \u001b[0mthresholds_keras\u001b[0m \u001b[1;33m=\u001b[0m \u001b[0mroc_curve\u001b[0m\u001b[1;33m(\u001b[0m\u001b[0my_test\u001b[0m\u001b[1;33m,\u001b[0m \u001b[0my_predict_selected\u001b[0m\u001b[1;33m)\u001b[0m\u001b[1;33m\u001b[0m\u001b[1;33m\u001b[0m\u001b[0m\n\u001b[0m",
      "\u001b[1;32mC:\\Anaconda3\\lib\\site-packages\\sklearn\\metrics\\ranking.py\u001b[0m in \u001b[0;36mroc_curve\u001b[1;34m(y_true, y_score, pos_label, sample_weight, drop_intermediate)\u001b[0m\n\u001b[0;32m    616\u001b[0m     \"\"\"\n\u001b[0;32m    617\u001b[0m     fps, tps, thresholds = _binary_clf_curve(\n\u001b[1;32m--> 618\u001b[1;33m         y_true, y_score, pos_label=pos_label, sample_weight=sample_weight)\n\u001b[0m\u001b[0;32m    619\u001b[0m \u001b[1;33m\u001b[0m\u001b[0m\n\u001b[0;32m    620\u001b[0m     \u001b[1;31m# Attempt to drop thresholds corresponding to points in between and\u001b[0m\u001b[1;33m\u001b[0m\u001b[1;33m\u001b[0m\u001b[1;33m\u001b[0m\u001b[0m\n",
      "\u001b[1;32mC:\\Anaconda3\\lib\\site-packages\\sklearn\\metrics\\ranking.py\u001b[0m in \u001b[0;36m_binary_clf_curve\u001b[1;34m(y_true, y_score, pos_label, sample_weight)\u001b[0m\n\u001b[0;32m    399\u001b[0m     \u001b[0mcheck_consistent_length\u001b[0m\u001b[1;33m(\u001b[0m\u001b[0my_true\u001b[0m\u001b[1;33m,\u001b[0m \u001b[0my_score\u001b[0m\u001b[1;33m,\u001b[0m \u001b[0msample_weight\u001b[0m\u001b[1;33m)\u001b[0m\u001b[1;33m\u001b[0m\u001b[1;33m\u001b[0m\u001b[0m\n\u001b[0;32m    400\u001b[0m     \u001b[0my_true\u001b[0m \u001b[1;33m=\u001b[0m \u001b[0mcolumn_or_1d\u001b[0m\u001b[1;33m(\u001b[0m\u001b[0my_true\u001b[0m\u001b[1;33m)\u001b[0m\u001b[1;33m\u001b[0m\u001b[1;33m\u001b[0m\u001b[0m\n\u001b[1;32m--> 401\u001b[1;33m     \u001b[0my_score\u001b[0m \u001b[1;33m=\u001b[0m \u001b[0mcolumn_or_1d\u001b[0m\u001b[1;33m(\u001b[0m\u001b[0my_score\u001b[0m\u001b[1;33m)\u001b[0m\u001b[1;33m\u001b[0m\u001b[1;33m\u001b[0m\u001b[0m\n\u001b[0m\u001b[0;32m    402\u001b[0m     \u001b[0massert_all_finite\u001b[0m\u001b[1;33m(\u001b[0m\u001b[0my_true\u001b[0m\u001b[1;33m)\u001b[0m\u001b[1;33m\u001b[0m\u001b[1;33m\u001b[0m\u001b[0m\n\u001b[0;32m    403\u001b[0m     \u001b[0massert_all_finite\u001b[0m\u001b[1;33m(\u001b[0m\u001b[0my_score\u001b[0m\u001b[1;33m)\u001b[0m\u001b[1;33m\u001b[0m\u001b[1;33m\u001b[0m\u001b[0m\n",
      "\u001b[1;32mC:\\Anaconda3\\lib\\site-packages\\sklearn\\utils\\validation.py\u001b[0m in \u001b[0;36mcolumn_or_1d\u001b[1;34m(y, warn)\u001b[0m\n\u001b[0;32m    795\u001b[0m         \u001b[1;32mreturn\u001b[0m \u001b[0mnp\u001b[0m\u001b[1;33m.\u001b[0m\u001b[0mravel\u001b[0m\u001b[1;33m(\u001b[0m\u001b[0my\u001b[0m\u001b[1;33m)\u001b[0m\u001b[1;33m\u001b[0m\u001b[1;33m\u001b[0m\u001b[0m\n\u001b[0;32m    796\u001b[0m \u001b[1;33m\u001b[0m\u001b[0m\n\u001b[1;32m--> 797\u001b[1;33m     \u001b[1;32mraise\u001b[0m \u001b[0mValueError\u001b[0m\u001b[1;33m(\u001b[0m\u001b[1;34m\"bad input shape {0}\"\u001b[0m\u001b[1;33m.\u001b[0m\u001b[0mformat\u001b[0m\u001b[1;33m(\u001b[0m\u001b[0mshape\u001b[0m\u001b[1;33m)\u001b[0m\u001b[1;33m)\u001b[0m\u001b[1;33m\u001b[0m\u001b[1;33m\u001b[0m\u001b[0m\n\u001b[0m\u001b[0;32m    798\u001b[0m \u001b[1;33m\u001b[0m\u001b[0m\n\u001b[0;32m    799\u001b[0m \u001b[1;33m\u001b[0m\u001b[0m\n",
      "\u001b[1;31mValueError\u001b[0m: bad input shape (20, 2)"
     ]
    }
   ],
   "source": [
    "fpr_keras, tpr_keras, thresholds_keras = roc_curve(y_test, y_predict_selected)"
   ]
  },
  {
   "cell_type": "code",
   "execution_count": 65,
   "metadata": {},
   "outputs": [
    {
     "ename": "NameError",
     "evalue": "name 'metrics' is not defined",
     "output_type": "error",
     "traceback": [
      "\u001b[1;31m---------------------------------------------------------------------------\u001b[0m",
      "\u001b[1;31mNameError\u001b[0m                                 Traceback (most recent call last)",
      "\u001b[1;32m<ipython-input-65-156ad7c15531>\u001b[0m in \u001b[0;36m<module>\u001b[1;34m\u001b[0m\n\u001b[1;32m----> 1\u001b[1;33m \u001b[0mmetrics\u001b[0m\u001b[1;33m.\u001b[0m\u001b[0mplot_roc_curve\u001b[0m\u001b[1;33m(\u001b[0m\u001b[0mmodel\u001b[0m\u001b[1;33m,\u001b[0m \u001b[0mX_test\u001b[0m\u001b[1;33m,\u001b[0m \u001b[0my_test\u001b[0m\u001b[1;33m)\u001b[0m\u001b[1;33m\u001b[0m\u001b[1;33m\u001b[0m\u001b[0m\n\u001b[0m",
      "\u001b[1;31mNameError\u001b[0m: name 'metrics' is not defined"
     ]
    }
   ],
   "source": [
    "metrics.plot_roc_curve(model, X_test, y_test)"
   ]
  },
  {
   "cell_type": "code",
   "execution_count": 63,
   "metadata": {},
   "outputs": [],
   "source": [
    "y = np.array([1, 1, 2, 2])\n",
    "scores = np.array([0.1, 0.4, 0.35, 0.8])\n",
    "fpr, tpr, thresholds = roc_curve(y, scores, pos_label=2)"
   ]
  },
  {
   "cell_type": "code",
   "execution_count": 67,
   "metadata": {},
   "outputs": [
    {
     "data": {
      "text/plain": [
       "array([0. , 0. , 0.5, 0.5, 1. ])"
      ]
     },
     "execution_count": 67,
     "metadata": {},
     "output_type": "execute_result"
    }
   ],
   "source": [
    "fpr"
   ]
  },
  {
   "cell_type": "code",
   "execution_count": 68,
   "metadata": {},
   "outputs": [
    {
     "data": {
      "text/plain": [
       "array([0. , 0.5, 0.5, 1. , 1. ])"
      ]
     },
     "execution_count": 68,
     "metadata": {},
     "output_type": "execute_result"
    }
   ],
   "source": [
    "tpr"
   ]
  },
  {
   "cell_type": "code",
   "execution_count": 70,
   "metadata": {},
   "outputs": [
    {
     "ename": "NameError",
     "evalue": "name 'auc' is not defined",
     "output_type": "error",
     "traceback": [
      "\u001b[1;31m---------------------------------------------------------------------------\u001b[0m",
      "\u001b[1;31mNameError\u001b[0m                                 Traceback (most recent call last)",
      "\u001b[1;32m<ipython-input-70-281125b4f630>\u001b[0m in \u001b[0;36m<module>\u001b[1;34m\u001b[0m\n\u001b[1;32m----> 1\u001b[1;33m \u001b[0mroc_auc\u001b[0m \u001b[1;33m=\u001b[0m \u001b[0mauc\u001b[0m\u001b[1;33m(\u001b[0m\u001b[0mfpr\u001b[0m\u001b[1;33m,\u001b[0m \u001b[0mtpr\u001b[0m\u001b[1;33m)\u001b[0m\u001b[1;33m\u001b[0m\u001b[1;33m\u001b[0m\u001b[0m\n\u001b[0m\u001b[0;32m      2\u001b[0m \u001b[1;33m\u001b[0m\u001b[0m\n\u001b[0;32m      3\u001b[0m \u001b[0mplt\u001b[0m\u001b[1;33m.\u001b[0m\u001b[0mfigure\u001b[0m\u001b[1;33m(\u001b[0m\u001b[1;33m)\u001b[0m\u001b[1;33m\u001b[0m\u001b[1;33m\u001b[0m\u001b[0m\n\u001b[0;32m      4\u001b[0m \u001b[0mplt\u001b[0m\u001b[1;33m.\u001b[0m\u001b[0mplot\u001b[0m\u001b[1;33m(\u001b[0m\u001b[0mfpr\u001b[0m\u001b[1;33m,\u001b[0m \u001b[0mtpr\u001b[0m\u001b[1;33m,\u001b[0m \u001b[0mcolor\u001b[0m\u001b[1;33m=\u001b[0m\u001b[1;34m'darkorange'\u001b[0m\u001b[1;33m,\u001b[0m \u001b[0mlw\u001b[0m\u001b[1;33m=\u001b[0m\u001b[1;36m1\u001b[0m\u001b[1;33m,\u001b[0m \u001b[0mlabel\u001b[0m\u001b[1;33m=\u001b[0m\u001b[1;34m'ROC curve (area = %0.2f)'\u001b[0m \u001b[1;33m%\u001b[0m \u001b[0mroc_auc\u001b[0m\u001b[1;33m)\u001b[0m\u001b[1;33m\u001b[0m\u001b[1;33m\u001b[0m\u001b[0m\n",
      "\u001b[1;31mNameError\u001b[0m: name 'auc' is not defined"
     ]
    }
   ],
   "source": [
    "roc_auc = auc(fpr, tpr)\n",
    "\n",
    "plt.figure()\n",
    "plt.plot(fpr, tpr, color='darkorange', lw=1, label='ROC curve (area = %0.2f)' % roc_auc)"
   ]
  },
  {
   "cell_type": "code",
   "execution_count": null,
   "metadata": {},
   "outputs": [],
   "source": []
  }
 ],
 "metadata": {
  "anaconda-cloud": {},
  "celltoolbar": "Slideshow",
  "colab": {
   "name": "KaryoChimneyRock_FullyConnectedNN.ipynb",
   "provenance": []
  },
  "kernelspec": {
   "display_name": "Python 3",
   "language": "python",
   "name": "python3"
  },
  "language_info": {
   "codemirror_mode": {
    "name": "ipython",
    "version": 3
   },
   "file_extension": ".py",
   "mimetype": "text/x-python",
   "name": "python",
   "nbconvert_exporter": "python",
   "pygments_lexer": "ipython3",
   "version": "3.7.3"
  }
 },
 "nbformat": 4,
 "nbformat_minor": 1
}
