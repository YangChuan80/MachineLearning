{
 "cells": [
  {
   "cell_type": "markdown",
   "metadata": {
    "colab_type": "text",
    "id": "slIdjqTJhM8B"
   },
   "source": [
    "# Facilitated Machine Learning Models for Karyotyping in the Patients with Chromosomal Abnormalities: Retrospective Study"
   ]
  },
  {
   "cell_type": "markdown",
   "metadata": {
    "colab_type": "text",
    "id": "aBT9lgVVhM8D"
   },
   "source": [
    "- **Chuan Yang**, MD, PhD Student\n",
    "- Mentor: **Yanyan Zhao**, MD, PhD\n",
    "- Shengjing Hospital of China Medical University"
   ]
  },
  {
   "cell_type": "markdown",
   "metadata": {},
   "source": [
    "# All Chromosomes"
   ]
  },
  {
   "cell_type": "markdown",
   "metadata": {
    "colab_type": "text",
    "id": "xrnbxOZChM8E"
   },
   "source": [
    "# Modules"
   ]
  },
  {
   "cell_type": "code",
   "execution_count": 1,
   "metadata": {
    "colab": {},
    "colab_type": "code",
    "id": "aKjA8v4hhM8E"
   },
   "outputs": [
    {
     "name": "stderr",
     "output_type": "stream",
     "text": [
      "C:\\Anaconda3\\lib\\site-packages\\pandas\\compat\\_optional.py:138: UserWarning: Pandas requires version '2.7.0' or newer of 'numexpr' (version '2.6.9' currently installed).\n",
      "  warnings.warn(msg, UserWarning)\n",
      "C:\\Anaconda3\\lib\\site-packages\\sklearn\\linear_model\\least_angle.py:35: DeprecationWarning: `np.float` is a deprecated alias for the builtin `float`. To silence this warning, use `float` by itself. Doing this will not modify any behavior and is safe. If you specifically wanted the numpy scalar type, use `np.float64` here.\n",
      "Deprecated in NumPy 1.20; for more details and guidance: https://numpy.org/devdocs/release/1.20.0-notes.html#deprecations\n",
      "  eps=np.finfo(np.float).eps,\n",
      "C:\\Anaconda3\\lib\\site-packages\\sklearn\\linear_model\\least_angle.py:597: DeprecationWarning: `np.float` is a deprecated alias for the builtin `float`. To silence this warning, use `float` by itself. Doing this will not modify any behavior and is safe. If you specifically wanted the numpy scalar type, use `np.float64` here.\n",
      "Deprecated in NumPy 1.20; for more details and guidance: https://numpy.org/devdocs/release/1.20.0-notes.html#deprecations\n",
      "  eps=np.finfo(np.float).eps, copy_X=True, fit_path=True,\n",
      "C:\\Anaconda3\\lib\\site-packages\\sklearn\\linear_model\\least_angle.py:836: DeprecationWarning: `np.float` is a deprecated alias for the builtin `float`. To silence this warning, use `float` by itself. Doing this will not modify any behavior and is safe. If you specifically wanted the numpy scalar type, use `np.float64` here.\n",
      "Deprecated in NumPy 1.20; for more details and guidance: https://numpy.org/devdocs/release/1.20.0-notes.html#deprecations\n",
      "  eps=np.finfo(np.float).eps, copy_X=True, fit_path=True,\n",
      "C:\\Anaconda3\\lib\\site-packages\\sklearn\\linear_model\\least_angle.py:862: DeprecationWarning: `np.float` is a deprecated alias for the builtin `float`. To silence this warning, use `float` by itself. Doing this will not modify any behavior and is safe. If you specifically wanted the numpy scalar type, use `np.float64` here.\n",
      "Deprecated in NumPy 1.20; for more details and guidance: https://numpy.org/devdocs/release/1.20.0-notes.html#deprecations\n",
      "  eps=np.finfo(np.float).eps, positive=False):\n",
      "C:\\Anaconda3\\lib\\site-packages\\sklearn\\linear_model\\least_angle.py:1097: DeprecationWarning: `np.float` is a deprecated alias for the builtin `float`. To silence this warning, use `float` by itself. Doing this will not modify any behavior and is safe. If you specifically wanted the numpy scalar type, use `np.float64` here.\n",
      "Deprecated in NumPy 1.20; for more details and guidance: https://numpy.org/devdocs/release/1.20.0-notes.html#deprecations\n",
      "  max_n_alphas=1000, n_jobs=None, eps=np.finfo(np.float).eps,\n",
      "C:\\Anaconda3\\lib\\site-packages\\sklearn\\linear_model\\least_angle.py:1344: DeprecationWarning: `np.float` is a deprecated alias for the builtin `float`. To silence this warning, use `float` by itself. Doing this will not modify any behavior and is safe. If you specifically wanted the numpy scalar type, use `np.float64` here.\n",
      "Deprecated in NumPy 1.20; for more details and guidance: https://numpy.org/devdocs/release/1.20.0-notes.html#deprecations\n",
      "  max_n_alphas=1000, n_jobs=None, eps=np.finfo(np.float).eps,\n",
      "C:\\Anaconda3\\lib\\site-packages\\sklearn\\linear_model\\least_angle.py:1480: DeprecationWarning: `np.float` is a deprecated alias for the builtin `float`. To silence this warning, use `float` by itself. Doing this will not modify any behavior and is safe. If you specifically wanted the numpy scalar type, use `np.float64` here.\n",
      "Deprecated in NumPy 1.20; for more details and guidance: https://numpy.org/devdocs/release/1.20.0-notes.html#deprecations\n",
      "  eps=np.finfo(np.float).eps, copy_X=True, positive=False):\n",
      "C:\\Anaconda3\\lib\\site-packages\\sklearn\\linear_model\\randomized_l1.py:152: DeprecationWarning: `np.float` is a deprecated alias for the builtin `float`. To silence this warning, use `float` by itself. Doing this will not modify any behavior and is safe. If you specifically wanted the numpy scalar type, use `np.float64` here.\n",
      "Deprecated in NumPy 1.20; for more details and guidance: https://numpy.org/devdocs/release/1.20.0-notes.html#deprecations\n",
      "  precompute=False, eps=np.finfo(np.float).eps,\n",
      "C:\\Anaconda3\\lib\\site-packages\\sklearn\\linear_model\\randomized_l1.py:320: DeprecationWarning: `np.float` is a deprecated alias for the builtin `float`. To silence this warning, use `float` by itself. Doing this will not modify any behavior and is safe. If you specifically wanted the numpy scalar type, use `np.float64` here.\n",
      "Deprecated in NumPy 1.20; for more details and guidance: https://numpy.org/devdocs/release/1.20.0-notes.html#deprecations\n",
      "  eps=np.finfo(np.float).eps, random_state=None,\n",
      "C:\\Anaconda3\\lib\\site-packages\\sklearn\\linear_model\\randomized_l1.py:580: DeprecationWarning: `np.float` is a deprecated alias for the builtin `float`. To silence this warning, use `float` by itself. Doing this will not modify any behavior and is safe. If you specifically wanted the numpy scalar type, use `np.float64` here.\n",
      "Deprecated in NumPy 1.20; for more details and guidance: https://numpy.org/devdocs/release/1.20.0-notes.html#deprecations\n",
      "  eps=4 * np.finfo(np.float).eps, n_jobs=None,\n"
     ]
    }
   ],
   "source": [
    "from PIL import Image\n",
    "import numpy as np\n",
    "import pandas as pd\n",
    "import matplotlib.pyplot as plt\n",
    "\n",
    "import seaborn as sb\n",
    "\n",
    "from sklearn import svm\n",
    "from sklearn.metrics import classification_report, confusion_matrix, roc_curve, auc\n",
    "from sklearn.externals import joblib\n",
    "from sklearn.model_selection import KFold\n",
    "\n",
    "from tensorflow.keras import Sequential\n",
    "from tensorflow.keras.layers import Dense, Conv2D, MaxPooling2D, Flatten\n",
    "from tensorflow import keras\n",
    "\n",
    "from os import walk\n",
    "\n",
    "import time\n",
    "import datetime\n",
    "\n",
    "import json\n",
    "\n",
    "%matplotlib inline"
   ]
  },
  {
   "cell_type": "code",
   "execution_count": 2,
   "metadata": {},
   "outputs": [],
   "source": [
    "iterationNumber = 0"
   ]
  },
  {
   "cell_type": "markdown",
   "metadata": {},
   "source": [
    "# 1. Read the File to Acquire the Filename"
   ]
  },
  {
   "cell_type": "code",
   "execution_count": 3,
   "metadata": {
    "scrolled": true
   },
   "outputs": [
    {
     "data": {
      "text/plain": [
       "{'chr_x': {'0': ['D:\\\\Users\\\\Chuan\\\\Documents\\\\Database\\\\Karyotypes\\\\Arrangement_Merged\\\\chr_x\\\\191128-del(X)(p22)-10L.bmp',\n",
       "   'D:\\\\Users\\\\Chuan\\\\Documents\\\\Database\\\\Karyotypes\\\\Arrangement_Merged\\\\chr_x\\\\191128-del(X)(p22)-11L.bmp',\n",
       "   'D:\\\\Users\\\\Chuan\\\\Documents\\\\Database\\\\Karyotypes\\\\Arrangement_Merged\\\\chr_x\\\\191128-del(X)(p22)-12L.bmp',\n",
       "   'D:\\\\Users\\\\Chuan\\\\Documents\\\\Database\\\\Karyotypes\\\\Arrangement_Merged\\\\chr_x\\\\191128-del(X)(p22)-13L.bmp',\n",
       "   'D:\\\\Users\\\\Chuan\\\\Documents\\\\Database\\\\Karyotypes\\\\Arrangement_Merged\\\\chr_x\\\\191128-del(X)(p22)-15L.bmp',\n",
       "   'D:\\\\Users\\\\Chuan\\\\Documents\\\\Database\\\\Karyotypes\\\\Arrangement_Merged\\\\chr_x\\\\191128-del(X)(p22)-16L.bmp',\n",
       "   'D:\\\\Users\\\\Chuan\\\\Documents\\\\Database\\\\Karyotypes\\\\Arrangement_Merged\\\\chr_x\\\\191128-del(X)(p22)-17L.bmp',\n",
       "   'D:\\\\Users\\\\Chuan\\\\Documents\\\\Database\\\\Karyotypes\\\\Arrangement_Merged\\\\chr_x\\\\191128-del(X)(p22)-18L.bmp',\n",
       "   'D:\\\\Users\\\\Chuan\\\\Documents\\\\Database\\\\Karyotypes\\\\Arrangement_Merged\\\\chr_x\\\\191128-del(X)(p22)-19L.bmp',\n",
       "   'D:\\\\Users\\\\Chuan\\\\Documents\\\\Database\\\\Karyotypes\\\\Arrangement_Merged\\\\chr_x\\\\191128-del(X)(p22)-1L.bmp',\n",
       "   'D:\\\\Users\\\\Chuan\\\\Documents\\\\Database\\\\Karyotypes\\\\Arrangement_Merged\\\\chr_x\\\\191128-del(X)(p22)-21L.bmp',\n",
       "   'D:\\\\Users\\\\Chuan\\\\Documents\\\\Database\\\\Karyotypes\\\\Arrangement_Merged\\\\chr_x\\\\191128-del(X)(p22)-22L.bmp',\n",
       "   'D:\\\\Users\\\\Chuan\\\\Documents\\\\Database\\\\Karyotypes\\\\Arrangement_Merged\\\\chr_x\\\\191128-del(X)(p22)-3L.bmp',\n",
       "   'D:\\\\Users\\\\Chuan\\\\Documents\\\\Database\\\\Karyotypes\\\\Arrangement_Merged\\\\chr_x\\\\191128-del(X)(p22)-6L.bmp',\n",
       "   'D:\\\\Users\\\\Chuan\\\\Documents\\\\Database\\\\Karyotypes\\\\Arrangement_Merged\\\\chr_x\\\\191128-del(X)(p22)-7L.bmp',\n",
       "   'D:\\\\Users\\\\Chuan\\\\Documents\\\\Database\\\\Karyotypes\\\\Arrangement_Merged\\\\chr_x\\\\191128-del(X)(p22)-9L.bmp',\n",
       "   'D:\\\\Users\\\\Chuan\\\\Documents\\\\Database\\\\Karyotypes\\\\Arrangement_Merged\\\\chr_x\\\\192478-delXq21-10L.bmp',\n",
       "   'D:\\\\Users\\\\Chuan\\\\Documents\\\\Database\\\\Karyotypes\\\\Arrangement_Merged\\\\chr_x\\\\192478-delXq21-11L.bmp',\n",
       "   'D:\\\\Users\\\\Chuan\\\\Documents\\\\Database\\\\Karyotypes\\\\Arrangement_Merged\\\\chr_x\\\\192478-delXq21-12L.bmp',\n",
       "   'D:\\\\Users\\\\Chuan\\\\Documents\\\\Database\\\\Karyotypes\\\\Arrangement_Merged\\\\chr_x\\\\192478-delXq21-13L.bmp',\n",
       "   'D:\\\\Users\\\\Chuan\\\\Documents\\\\Database\\\\Karyotypes\\\\Arrangement_Merged\\\\chr_x\\\\192478-delXq21-14L.bmp',\n",
       "   'D:\\\\Users\\\\Chuan\\\\Documents\\\\Database\\\\Karyotypes\\\\Arrangement_Merged\\\\chr_x\\\\192478-delXq21-15L.bmp',\n",
       "   'D:\\\\Users\\\\Chuan\\\\Documents\\\\Database\\\\Karyotypes\\\\Arrangement_Merged\\\\chr_x\\\\192478-delXq21-16L.bmp',\n",
       "   'D:\\\\Users\\\\Chuan\\\\Documents\\\\Database\\\\Karyotypes\\\\Arrangement_Merged\\\\chr_x\\\\192478-delXq21-17L.bmp',\n",
       "   'D:\\\\Users\\\\Chuan\\\\Documents\\\\Database\\\\Karyotypes\\\\Arrangement_Merged\\\\chr_x\\\\192478-delXq21-19L.bmp',\n",
       "   'D:\\\\Users\\\\Chuan\\\\Documents\\\\Database\\\\Karyotypes\\\\Arrangement_Merged\\\\chr_x\\\\192478-delXq21-20L.bmp',\n",
       "   'D:\\\\Users\\\\Chuan\\\\Documents\\\\Database\\\\Karyotypes\\\\Arrangement_Merged\\\\chr_x\\\\192478-delXq21-21L.bmp',\n",
       "   'D:\\\\Users\\\\Chuan\\\\Documents\\\\Database\\\\Karyotypes\\\\Arrangement_Merged\\\\chr_x\\\\192478-delXq21-22L.bmp',\n",
       "   'D:\\\\Users\\\\Chuan\\\\Documents\\\\Database\\\\Karyotypes\\\\Arrangement_Merged\\\\chr_x\\\\192478-delXq21-24L.bmp',\n",
       "   'D:\\\\Users\\\\Chuan\\\\Documents\\\\Database\\\\Karyotypes\\\\Arrangement_Merged\\\\chr_x\\\\192478-delXq21-25L.bmp',\n",
       "   'D:\\\\Users\\\\Chuan\\\\Documents\\\\Database\\\\Karyotypes\\\\Arrangement_Merged\\\\chr_x\\\\192478-delXq21-26L.bmp',\n",
       "   'D:\\\\Users\\\\Chuan\\\\Documents\\\\Database\\\\Karyotypes\\\\Arrangement_Merged\\\\chr_x\\\\192478-delXq21-27L.bmp',\n",
       "   'D:\\\\Users\\\\Chuan\\\\Documents\\\\Database\\\\Karyotypes\\\\Arrangement_Merged\\\\chr_x\\\\192478-delXq21-29L.bmp',\n",
       "   'D:\\\\Users\\\\Chuan\\\\Documents\\\\Database\\\\Karyotypes\\\\Arrangement_Merged\\\\chr_x\\\\192478-delXq21-2L.bmp',\n",
       "   'D:\\\\Users\\\\Chuan\\\\Documents\\\\Database\\\\Karyotypes\\\\Arrangement_Merged\\\\chr_x\\\\192478-delXq21-30L.bmp',\n",
       "   'D:\\\\Users\\\\Chuan\\\\Documents\\\\Database\\\\Karyotypes\\\\Arrangement_Merged\\\\chr_x\\\\192478-delXq21-31L.bmp',\n",
       "   'D:\\\\Users\\\\Chuan\\\\Documents\\\\Database\\\\Karyotypes\\\\Arrangement_Merged\\\\chr_x\\\\192478-delXq21-3L.bmp',\n",
       "   'D:\\\\Users\\\\Chuan\\\\Documents\\\\Database\\\\Karyotypes\\\\Arrangement_Merged\\\\chr_x\\\\192478-delXq21-4L.bmp',\n",
       "   'D:\\\\Users\\\\Chuan\\\\Documents\\\\Database\\\\Karyotypes\\\\Arrangement_Merged\\\\chr_x\\\\192478-delXq21-7L.bmp',\n",
       "   'D:\\\\Users\\\\Chuan\\\\Documents\\\\Database\\\\Karyotypes\\\\Arrangement_Merged\\\\chr_x\\\\192478-delXq21-8L.bmp',\n",
       "   'D:\\\\Users\\\\Chuan\\\\Documents\\\\Database\\\\Karyotypes\\\\Arrangement_Merged\\\\chr_x\\\\192478-delXq21-9L.bmp',\n",
       "   'D:\\\\Users\\\\Chuan\\\\Documents\\\\Database\\\\Karyotypes\\\\Arrangement_Merged\\\\chr_x\\\\87092-i(X)(q10)-11L.bmp',\n",
       "   'D:\\\\Users\\\\Chuan\\\\Documents\\\\Database\\\\Karyotypes\\\\Arrangement_Merged\\\\chr_x\\\\87092-i(X)(q10)-13L.bmp',\n",
       "   'D:\\\\Users\\\\Chuan\\\\Documents\\\\Database\\\\Karyotypes\\\\Arrangement_Merged\\\\chr_x\\\\87092-i(X)(q10)-14L.bmp',\n",
       "   'D:\\\\Users\\\\Chuan\\\\Documents\\\\Database\\\\Karyotypes\\\\Arrangement_Merged\\\\chr_x\\\\87092-i(X)(q10)-16L.bmp',\n",
       "   'D:\\\\Users\\\\Chuan\\\\Documents\\\\Database\\\\Karyotypes\\\\Arrangement_Merged\\\\chr_x\\\\87092-i(X)(q10)-17L.bmp',\n",
       "   'D:\\\\Users\\\\Chuan\\\\Documents\\\\Database\\\\Karyotypes\\\\Arrangement_Merged\\\\chr_x\\\\87092-i(X)(q10)-18L.bmp',\n",
       "   'D:\\\\Users\\\\Chuan\\\\Documents\\\\Database\\\\Karyotypes\\\\Arrangement_Merged\\\\chr_x\\\\87092-i(X)(q10)-19L.bmp',\n",
       "   'D:\\\\Users\\\\Chuan\\\\Documents\\\\Database\\\\Karyotypes\\\\Arrangement_Merged\\\\chr_x\\\\87092-i(X)(q10)-20L.bmp',\n",
       "   'D:\\\\Users\\\\Chuan\\\\Documents\\\\Database\\\\Karyotypes\\\\Arrangement_Merged\\\\chr_x\\\\87092-i(X)(q10)-21L.bmp',\n",
       "   'D:\\\\Users\\\\Chuan\\\\Documents\\\\Database\\\\Karyotypes\\\\Arrangement_Merged\\\\chr_x\\\\87092-i(X)(q10)-22L.bmp',\n",
       "   'D:\\\\Users\\\\Chuan\\\\Documents\\\\Database\\\\Karyotypes\\\\Arrangement_Merged\\\\chr_x\\\\87092-i(X)(q10)-23L.bmp',\n",
       "   'D:\\\\Users\\\\Chuan\\\\Documents\\\\Database\\\\Karyotypes\\\\Arrangement_Merged\\\\chr_x\\\\87092-i(X)(q10)-25L.bmp',\n",
       "   'D:\\\\Users\\\\Chuan\\\\Documents\\\\Database\\\\Karyotypes\\\\Arrangement_Merged\\\\chr_x\\\\87092-i(X)(q10)-28L.bmp',\n",
       "   'D:\\\\Users\\\\Chuan\\\\Documents\\\\Database\\\\Karyotypes\\\\Arrangement_Merged\\\\chr_x\\\\87092-i(X)(q10)-29L.bmp',\n",
       "   'D:\\\\Users\\\\Chuan\\\\Documents\\\\Database\\\\Karyotypes\\\\Arrangement_Merged\\\\chr_x\\\\87092-i(X)(q10)-2L.bmp',\n",
       "   'D:\\\\Users\\\\Chuan\\\\Documents\\\\Database\\\\Karyotypes\\\\Arrangement_Merged\\\\chr_x\\\\87092-i(X)(q10)-3L.bmp',\n",
       "   'D:\\\\Users\\\\Chuan\\\\Documents\\\\Database\\\\Karyotypes\\\\Arrangement_Merged\\\\chr_x\\\\87092-i(X)(q10)-4L.bmp',\n",
       "   'D:\\\\Users\\\\Chuan\\\\Documents\\\\Database\\\\Karyotypes\\\\Arrangement_Merged\\\\chr_x\\\\87092-i(X)(q10)-6L.bmp',\n",
       "   'D:\\\\Users\\\\Chuan\\\\Documents\\\\Database\\\\Karyotypes\\\\Arrangement_Merged\\\\chr_x\\\\87092-i(X)(q10)-7L.bmp',\n",
       "   'D:\\\\Users\\\\Chuan\\\\Documents\\\\Database\\\\Karyotypes\\\\Arrangement_Merged\\\\chr_x\\\\87092-i(X)(q10)-8L.bmp',\n",
       "   'D:\\\\Users\\\\Chuan\\\\Documents\\\\Database\\\\Karyotypes\\\\Arrangement_Merged\\\\chr_x\\\\W17068~A.0003.K.jpg.X.bmp',\n",
       "   'D:\\\\Users\\\\Chuan\\\\Documents\\\\Database\\\\Karyotypes\\\\Arrangement_Merged\\\\chr_x\\\\W17068~A.0006.K.jpg.X.bmp',\n",
       "   'D:\\\\Users\\\\Chuan\\\\Documents\\\\Database\\\\Karyotypes\\\\Arrangement_Merged\\\\chr_x\\\\W17068~A.0008.K.X.bmp',\n",
       "   'D:\\\\Users\\\\Chuan\\\\Documents\\\\Database\\\\Karyotypes\\\\Arrangement_Merged\\\\chr_x\\\\W17068~A.0010.K.X.bmp',\n",
       "   'D:\\\\Users\\\\Chuan\\\\Documents\\\\Database\\\\Karyotypes\\\\Arrangement_Merged\\\\chr_x\\\\W17068~A.0011.K.X.bmp',\n",
       "   'D:\\\\Users\\\\Chuan\\\\Documents\\\\Database\\\\Karyotypes\\\\Arrangement_Merged\\\\chr_x\\\\W17068~A.0014.K.X.bmp',\n",
       "   'D:\\\\Users\\\\Chuan\\\\Documents\\\\Database\\\\Karyotypes\\\\Arrangement_Merged\\\\chr_x\\\\W17068~A.0016.K.X.bmp',\n",
       "   'D:\\\\Users\\\\Chuan\\\\Documents\\\\Database\\\\Karyotypes\\\\Arrangement_Merged\\\\chr_x\\\\W17068~A.0019.K.X.bmp',\n",
       "   'D:\\\\Users\\\\Chuan\\\\Documents\\\\Database\\\\Karyotypes\\\\Arrangement_Merged\\\\chr_x\\\\W17068~A.0020.K.X.bmp',\n",
       "   'D:\\\\Users\\\\Chuan\\\\Documents\\\\Database\\\\Karyotypes\\\\Arrangement_Merged\\\\chr_x\\\\W17068~A.0023.K.X.bmp',\n",
       "   'D:\\\\Users\\\\Chuan\\\\Documents\\\\Database\\\\Karyotypes\\\\Arrangement_Merged\\\\chr_x\\\\W17068~A.0025.X.bmp',\n",
       "   'D:\\\\Users\\\\Chuan\\\\Documents\\\\Database\\\\Karyotypes\\\\Arrangement_Merged\\\\chr_x\\\\W17068~A.0026.X.bmp',\n",
       "   'D:\\\\Users\\\\Chuan\\\\Documents\\\\Database\\\\Karyotypes\\\\Arrangement_Merged\\\\chr_x\\\\W17068~A.0034.K.jpg.X.bmp',\n",
       "   'D:\\\\Users\\\\Chuan\\\\Documents\\\\Database\\\\Karyotypes\\\\Arrangement_Merged\\\\chr_x\\\\W17068~A.0036.K.jpg.X.bmp',\n",
       "   'D:\\\\Users\\\\Chuan\\\\Documents\\\\Database\\\\Karyotypes\\\\Arrangement_Merged\\\\chr_x\\\\w21000~A.0001.K.jpg.X.bmp',\n",
       "   'D:\\\\Users\\\\Chuan\\\\Documents\\\\Database\\\\Karyotypes\\\\Arrangement_Merged\\\\chr_x\\\\w21000~A.0001.K.jpg.XR.bmp',\n",
       "   'D:\\\\Users\\\\Chuan\\\\Documents\\\\Database\\\\Karyotypes\\\\Arrangement_Merged\\\\chr_x\\\\w21008~A.0008.K.jpg.XL.bmp',\n",
       "   'D:\\\\Users\\\\Chuan\\\\Documents\\\\Database\\\\Karyotypes\\\\Arrangement_Merged\\\\chr_x\\\\w21008~A.0008.K.jpg.XR.bmp',\n",
       "   'D:\\\\Users\\\\Chuan\\\\Documents\\\\Database\\\\Karyotypes\\\\Arrangement_Merged\\\\chr_x\\\\W21011~A.0008.K.XR.bmp',\n",
       "   'D:\\\\Users\\\\Chuan\\\\Documents\\\\Database\\\\Karyotypes\\\\Arrangement_Merged\\\\chr_x\\\\W21012~A.0019.K.XL.bmp',\n",
       "   'D:\\\\Users\\\\Chuan\\\\Documents\\\\Database\\\\Karyotypes\\\\Arrangement_Merged\\\\chr_x\\\\W21012~A.0019.K.XR.bmp',\n",
       "   'D:\\\\Users\\\\Chuan\\\\Documents\\\\Database\\\\Karyotypes\\\\Arrangement_Merged\\\\chr_x\\\\W21022~A.0007.K.jpg.XR.bmp',\n",
       "   'D:\\\\Users\\\\Chuan\\\\Documents\\\\Database\\\\Karyotypes\\\\Arrangement_Merged\\\\chr_x\\\\W21025~A.0002.K.jpg.X.bmp',\n",
       "   'D:\\\\Users\\\\Chuan\\\\Documents\\\\Database\\\\Karyotypes\\\\Arrangement_Merged\\\\chr_x\\\\W21027~A.0003.K.X.bmp',\n",
       "   'D:\\\\Users\\\\Chuan\\\\Documents\\\\Database\\\\Karyotypes\\\\Arrangement_Merged\\\\chr_x\\\\W21486~A.0020.K.bmp.X.bmp',\n",
       "   'D:\\\\Users\\\\Chuan\\\\Documents\\\\Database\\\\Karyotypes\\\\Arrangement_Merged\\\\chr_x\\\\W21576~A.0010.K.jpg.X.bmp',\n",
       "   'D:\\\\Users\\\\Chuan\\\\Documents\\\\Database\\\\Karyotypes\\\\Arrangement_Merged\\\\chr_x\\\\W21587~A.0008.K.jpg.X.bmp',\n",
       "   'D:\\\\Users\\\\Chuan\\\\Documents\\\\Database\\\\Karyotypes\\\\Arrangement_Merged\\\\chr_x\\\\W21587~A.0010.K.jpg.X.bmp',\n",
       "   'D:\\\\Users\\\\Chuan\\\\Documents\\\\Database\\\\Karyotypes\\\\Arrangement_Merged\\\\chr_x\\\\W21588~A.0001.K.jpg.X.bmp',\n",
       "   'D:\\\\Users\\\\Chuan\\\\Documents\\\\Database\\\\Karyotypes\\\\Arrangement_Merged\\\\chr_x\\\\W21766~A.0025.K.jpg.X.bmp',\n",
       "   'D:\\\\Users\\\\Chuan\\\\Documents\\\\Database\\\\Karyotypes\\\\Arrangement_Merged\\\\chr_x\\\\W21894~A.0009.K.jpg.X.bmp',\n",
       "   'D:\\\\Users\\\\Chuan\\\\Documents\\\\Database\\\\Karyotypes\\\\Arrangement_Merged\\\\chr_x\\\\W21902~A.0010.K.jpg.X.bmp',\n",
       "   'D:\\\\Users\\\\Chuan\\\\Documents\\\\Database\\\\Karyotypes\\\\Arrangement_Merged\\\\chr_x\\\\W21905~A.0007.K.jpg.X.bmp',\n",
       "   'D:\\\\Users\\\\Chuan\\\\Documents\\\\Database\\\\Karyotypes\\\\Arrangement_Merged\\\\chr_x\\\\w22038~A.0017.K.jpg.X.bmp',\n",
       "   'D:\\\\Users\\\\Chuan\\\\Documents\\\\Database\\\\Karyotypes\\\\Arrangement_Merged\\\\chr_x\\\\w22292~A.0027.K.jpg.X.bmp',\n",
       "   'D:\\\\Users\\\\Chuan\\\\Documents\\\\Database\\\\Karyotypes\\\\Arrangement_Merged\\\\chr_x\\\\W22451~A.0011.K.jpg.X.bmp',\n",
       "   'D:\\\\Users\\\\Chuan\\\\Documents\\\\Database\\\\Karyotypes\\\\Arrangement_Merged\\\\chr_x\\\\W22455~A.0002.K.jpg.X.bmp',\n",
       "   'D:\\\\Users\\\\Chuan\\\\Documents\\\\Database\\\\Karyotypes\\\\Arrangement_Merged\\\\chr_x\\\\W22666-1.0002.K.jpg.X.bmp',\n",
       "   'D:\\\\Users\\\\Chuan\\\\Documents\\\\Database\\\\Karyotypes\\\\Arrangement_Merged\\\\chr_x\\\\W22670~A.0006.K.jpg.X.bmp',\n",
       "   'D:\\\\Users\\\\Chuan\\\\Documents\\\\Database\\\\Karyotypes\\\\Arrangement_Merged\\\\chr_x\\\\W22672~A.0004.K.jpg.X.bmp',\n",
       "   'D:\\\\Users\\\\Chuan\\\\Documents\\\\Database\\\\Karyotypes\\\\Arrangement_Merged\\\\chr_x\\\\W23060-1~A.0003.K.jpg.X.bmp',\n",
       "   'D:\\\\Users\\\\Chuan\\\\Documents\\\\Database\\\\Karyotypes\\\\Arrangement_Merged\\\\chr_x\\\\W23060-1~A.0005.K.jpg.X.bmp',\n",
       "   'D:\\\\Users\\\\Chuan\\\\Documents\\\\Database\\\\Karyotypes\\\\Arrangement_Merged\\\\chr_x\\\\W23060-1~A.0007.K.jpg.X.bmp',\n",
       "   'D:\\\\Users\\\\Chuan\\\\Documents\\\\Database\\\\Karyotypes\\\\Arrangement_Merged\\\\chr_x\\\\W23060-1~A.0009.K.jpg.X.bmp',\n",
       "   'D:\\\\Users\\\\Chuan\\\\Documents\\\\Database\\\\Karyotypes\\\\Arrangement_Merged\\\\chr_x\\\\W23060-1~A.0018.K.jpg.X.bmp',\n",
       "   'D:\\\\Users\\\\Chuan\\\\Documents\\\\Database\\\\Karyotypes\\\\Arrangement_Merged\\\\chr_x\\\\W23060-1~A.0025.K.jpg.X.bmp',\n",
       "   'D:\\\\Users\\\\Chuan\\\\Documents\\\\Database\\\\Karyotypes\\\\Arrangement_Merged\\\\chr_x\\\\W23060-1~A.0029.K.jpg.X.bmp',\n",
       "   'D:\\\\Users\\\\Chuan\\\\Documents\\\\Database\\\\Karyotypes\\\\Arrangement_Merged\\\\chr_x\\\\W23060-1~A.0032.K.jpg.X.bmp',\n",
       "   'D:\\\\Users\\\\Chuan\\\\Documents\\\\Database\\\\Karyotypes\\\\Arrangement_Merged\\\\chr_x\\\\W23060-1~A.0033.K.jpg.X.bmp',\n",
       "   'D:\\\\Users\\\\Chuan\\\\Documents\\\\Database\\\\Karyotypes\\\\Arrangement_Merged\\\\chr_x\\\\W23060-1~A.0035.K.jpg.X.bmp',\n",
       "   'D:\\\\Users\\\\Chuan\\\\Documents\\\\Database\\\\Karyotypes\\\\Arrangement_Merged\\\\chr_x\\\\W23060-1~A.0040.K.jpg.X.bmp',\n",
       "   'D:\\\\Users\\\\Chuan\\\\Documents\\\\Database\\\\Karyotypes\\\\Arrangement_Merged\\\\chr_x\\\\W23060-1~A.0042.K.jpg.X.bmp',\n",
       "   'D:\\\\Users\\\\Chuan\\\\Documents\\\\Database\\\\Karyotypes\\\\Arrangement_Merged\\\\chr_x\\\\W23060-1~A.0046.K.jpg.X.bmp',\n",
       "   'D:\\\\Users\\\\Chuan\\\\Documents\\\\Database\\\\Karyotypes\\\\Arrangement_Merged\\\\chr_x\\\\W23060-CW190327.jpg.X.bmp',\n",
       "   'D:\\\\Users\\\\Chuan\\\\Documents\\\\Database\\\\Karyotypes\\\\Arrangement_Merged\\\\chr_x\\\\W23070~A.0001.K.jpg.X.bmp',\n",
       "   'D:\\\\Users\\\\Chuan\\\\Documents\\\\Database\\\\Karyotypes\\\\Arrangement_Merged\\\\chr_x\\\\W23082.0026.K.jpg.X.bmp',\n",
       "   'D:\\\\Users\\\\Chuan\\\\Documents\\\\Database\\\\Karyotypes\\\\Arrangement_Merged\\\\chr_x\\\\W23084~A.0003.K.jp.X.bmp',\n",
       "   'D:\\\\Users\\\\Chuan\\\\Documents\\\\Database\\\\Karyotypes\\\\Arrangement_Merged\\\\chr_x\\\\w25443~A.0001.K.jpg.X.bmp',\n",
       "   'D:\\\\Users\\\\Chuan\\\\Documents\\\\Database\\\\Karyotypes\\\\Arrangement_Merged\\\\chr_x\\\\w25443~A.0004.K.jpg.X.bmp',\n",
       "   'D:\\\\Users\\\\Chuan\\\\Documents\\\\Database\\\\Karyotypes\\\\Arrangement_Merged\\\\chr_x\\\\w25443~A.0006.K.jpg.X.bmp',\n",
       "   'D:\\\\Users\\\\Chuan\\\\Documents\\\\Database\\\\Karyotypes\\\\Arrangement_Merged\\\\chr_x\\\\w25443~A.0007.K.jpg.X.bmp',\n",
       "   'D:\\\\Users\\\\Chuan\\\\Documents\\\\Database\\\\Karyotypes\\\\Arrangement_Merged\\\\chr_x\\\\w25443~A.0010.K.jpg.X.bmp',\n",
       "   'D:\\\\Users\\\\Chuan\\\\Documents\\\\Database\\\\Karyotypes\\\\Arrangement_Merged\\\\chr_x\\\\w25443~A.0014.K.jpg.X.bmp',\n",
       "   'D:\\\\Users\\\\Chuan\\\\Documents\\\\Database\\\\Karyotypes\\\\Arrangement_Merged\\\\chr_x\\\\w25443~A.0023.K.jpg.X.bmp',\n",
       "   'D:\\\\Users\\\\Chuan\\\\Documents\\\\Database\\\\Karyotypes\\\\Arrangement_Merged\\\\chr_x\\\\w25443~A.0032.K.jpg.X.bmp',\n",
       "   'D:\\\\Users\\\\Chuan\\\\Documents\\\\Database\\\\Karyotypes\\\\Arrangement_Merged\\\\chr_x\\\\w25443~A.0033.K.jpg.X.bmp',\n",
       "   'D:\\\\Users\\\\Chuan\\\\Documents\\\\Database\\\\Karyotypes\\\\Arrangement_Merged\\\\chr_x\\\\w25443~A.0035.K.jpg.X.bmp',\n",
       "   'D:\\\\Users\\\\Chuan\\\\Documents\\\\Database\\\\Karyotypes\\\\Arrangement_Merged\\\\chr_x\\\\w25443~A.0036.K.jpg.X.bmp',\n",
       "   'D:\\\\Users\\\\Chuan\\\\Documents\\\\Database\\\\Karyotypes\\\\Arrangement_Merged\\\\chr_x\\\\w25443~A.0037.K.jpg.X.bmp',\n",
       "   'D:\\\\Users\\\\Chuan\\\\Documents\\\\Database\\\\Karyotypes\\\\Arrangement_Merged\\\\chr_x\\\\w25443~A.0038.K.jpg.X.bmp',\n",
       "   'D:\\\\Users\\\\Chuan\\\\Documents\\\\Database\\\\Karyotypes\\\\Arrangement_Merged\\\\chr_x\\\\w25443~A.0040.K.jpg.X.bmp',\n",
       "   'D:\\\\Users\\\\Chuan\\\\Documents\\\\Database\\\\Karyotypes\\\\Arrangement_Merged\\\\chr_x\\\\w25443~A.0041.K.jpg.X.bmp',\n",
       "   'D:\\\\Users\\\\Chuan\\\\Documents\\\\Database\\\\Karyotypes\\\\Arrangement_Merged\\\\chr_x\\\\w25443~A.0043.K.jpg.X.bmp',\n",
       "   'D:\\\\Users\\\\Chuan\\\\Documents\\\\Database\\\\Karyotypes\\\\Arrangement_Merged\\\\chr_x\\\\w25443~A.0047.K.jpg.X.bmp',\n",
       "   'D:\\\\Users\\\\Chuan\\\\Documents\\\\Database\\\\Karyotypes\\\\Arrangement_Merged\\\\chr_x\\\\W28055-1~A.0002.X.bmp',\n",
       "   'D:\\\\Users\\\\Chuan\\\\Documents\\\\Database\\\\Karyotypes\\\\Arrangement_Merged\\\\chr_x\\\\W28055-1~A.0006.X.bmp',\n",
       "   'D:\\\\Users\\\\Chuan\\\\Documents\\\\Database\\\\Karyotypes\\\\Arrangement_Merged\\\\chr_x\\\\W28055-1~A.0009.X.bmp',\n",
       "   'D:\\\\Users\\\\Chuan\\\\Documents\\\\Database\\\\Karyotypes\\\\Arrangement_Merged\\\\chr_x\\\\W28055-1~A.0010.X.bmp',\n",
       "   'D:\\\\Users\\\\Chuan\\\\Documents\\\\Database\\\\Karyotypes\\\\Arrangement_Merged\\\\chr_x\\\\W28055-1~A.0012.X.bmp',\n",
       "   'D:\\\\Users\\\\Chuan\\\\Documents\\\\Database\\\\Karyotypes\\\\Arrangement_Merged\\\\chr_x\\\\W28055-1~A.0013.X.bmp',\n",
       "   'D:\\\\Users\\\\Chuan\\\\Documents\\\\Database\\\\Karyotypes\\\\Arrangement_Merged\\\\chr_x\\\\W28055-1~A.0015.X.bmp',\n",
       "   'D:\\\\Users\\\\Chuan\\\\Documents\\\\Database\\\\Karyotypes\\\\Arrangement_Merged\\\\chr_x\\\\W28055-1~A.0016.X.bmp',\n",
       "   'D:\\\\Users\\\\Chuan\\\\Documents\\\\Database\\\\Karyotypes\\\\Arrangement_Merged\\\\chr_x\\\\W28055-1~A.0020.X.bmp',\n",
       "   'D:\\\\Users\\\\Chuan\\\\Documents\\\\Database\\\\Karyotypes\\\\Arrangement_Merged\\\\chr_x\\\\W28055-1~A.0021.X.bmp',\n",
       "   'D:\\\\Users\\\\Chuan\\\\Documents\\\\Database\\\\Karyotypes\\\\Arrangement_Merged\\\\chr_x\\\\W28055-1~A.0032.X.bmp',\n",
       "   'D:\\\\Users\\\\Chuan\\\\Documents\\\\Database\\\\Karyotypes\\\\Arrangement_Merged\\\\chr_x\\\\W28055-1~A.0037.X.bmp',\n",
       "   'D:\\\\Users\\\\Chuan\\\\Documents\\\\Database\\\\Karyotypes\\\\Arrangement_Merged\\\\chr_x\\\\W28055-1~A.0038.X.bmp',\n",
       "   'D:\\\\Users\\\\Chuan\\\\Documents\\\\Database\\\\Karyotypes\\\\Arrangement_Merged\\\\chr_x\\\\W28055-1~A.0039.K.jpg.X.bmp',\n",
       "   'D:\\\\Users\\\\Chuan\\\\Documents\\\\Database\\\\Karyotypes\\\\Arrangement_Merged\\\\chr_x\\\\W28055-1~A.0049.K.jpg.X.bmp',\n",
       "   'D:\\\\Users\\\\Chuan\\\\Documents\\\\Database\\\\Karyotypes\\\\Arrangement_Merged\\\\chr_x\\\\W28055~A.0012.X.bmp'],\n",
       "  '1': ['D:\\\\Users\\\\Chuan\\\\Documents\\\\Database\\\\Karyotypes\\\\Arrangement_Merged\\\\chr_x\\\\191128-del(X)(p22)-10L.bmp',\n",
       "   'D:\\\\Users\\\\Chuan\\\\Documents\\\\Database\\\\Karyotypes\\\\Arrangement_Merged\\\\chr_x\\\\191128-del(X)(p22)-11L.bmp',\n",
       "   'D:\\\\Users\\\\Chuan\\\\Documents\\\\Database\\\\Karyotypes\\\\Arrangement_Merged\\\\chr_x\\\\191128-del(X)(p22)-12L.bmp',\n",
       "   'D:\\\\Users\\\\Chuan\\\\Documents\\\\Database\\\\Karyotypes\\\\Arrangement_Merged\\\\chr_x\\\\191128-del(X)(p22)-13L.bmp',\n",
       "   'D:\\\\Users\\\\Chuan\\\\Documents\\\\Database\\\\Karyotypes\\\\Arrangement_Merged\\\\chr_x\\\\191128-del(X)(p22)-14L.bmp',\n",
       "   'D:\\\\Users\\\\Chuan\\\\Documents\\\\Database\\\\Karyotypes\\\\Arrangement_Merged\\\\chr_x\\\\191128-del(X)(p22)-16L.bmp',\n",
       "   'D:\\\\Users\\\\Chuan\\\\Documents\\\\Database\\\\Karyotypes\\\\Arrangement_Merged\\\\chr_x\\\\191128-del(X)(p22)-17L.bmp',\n",
       "   'D:\\\\Users\\\\Chuan\\\\Documents\\\\Database\\\\Karyotypes\\\\Arrangement_Merged\\\\chr_x\\\\191128-del(X)(p22)-18L.bmp',\n",
       "   'D:\\\\Users\\\\Chuan\\\\Documents\\\\Database\\\\Karyotypes\\\\Arrangement_Merged\\\\chr_x\\\\191128-del(X)(p22)-19L.bmp',\n",
       "   'D:\\\\Users\\\\Chuan\\\\Documents\\\\Database\\\\Karyotypes\\\\Arrangement_Merged\\\\chr_x\\\\191128-del(X)(p22)-1L.bmp',\n",
       "   'D:\\\\Users\\\\Chuan\\\\Documents\\\\Database\\\\Karyotypes\\\\Arrangement_Merged\\\\chr_x\\\\191128-del(X)(p22)-20L.bmp',\n",
       "   'D:\\\\Users\\\\Chuan\\\\Documents\\\\Database\\\\Karyotypes\\\\Arrangement_Merged\\\\chr_x\\\\191128-del(X)(p22)-2L.bmp',\n",
       "   'D:\\\\Users\\\\Chuan\\\\Documents\\\\Database\\\\Karyotypes\\\\Arrangement_Merged\\\\chr_x\\\\191128-del(X)(p22)-3L.bmp',\n",
       "   'D:\\\\Users\\\\Chuan\\\\Documents\\\\Database\\\\Karyotypes\\\\Arrangement_Merged\\\\chr_x\\\\191128-del(X)(p22)-4L.bmp',\n",
       "   'D:\\\\Users\\\\Chuan\\\\Documents\\\\Database\\\\Karyotypes\\\\Arrangement_Merged\\\\chr_x\\\\191128-del(X)(p22)-8L.bmp',\n",
       "   'D:\\\\Users\\\\Chuan\\\\Documents\\\\Database\\\\Karyotypes\\\\Arrangement_Merged\\\\chr_x\\\\191128-del(X)(p22)-9L.bmp',\n",
       "   'D:\\\\Users\\\\Chuan\\\\Documents\\\\Database\\\\Karyotypes\\\\Arrangement_Merged\\\\chr_x\\\\192478-delXq21-10L.bmp',\n",
       "   'D:\\\\Users\\\\Chuan\\\\Documents\\\\Database\\\\Karyotypes\\\\Arrangement_Merged\\\\chr_x\\\\192478-delXq21-11L.bmp',\n",
       "   'D:\\\\Users\\\\Chuan\\\\Documents\\\\Database\\\\Karyotypes\\\\Arrangement_Merged\\\\chr_x\\\\192478-delXq21-12L.bmp',\n",
       "   'D:\\\\Users\\\\Chuan\\\\Documents\\\\Database\\\\Karyotypes\\\\Arrangement_Merged\\\\chr_x\\\\192478-delXq21-13L.bmp',\n",
       "   'D:\\\\Users\\\\Chuan\\\\Documents\\\\Database\\\\Karyotypes\\\\Arrangement_Merged\\\\chr_x\\\\192478-delXq21-14L.bmp',\n",
       "   'D:\\\\Users\\\\Chuan\\\\Documents\\\\Database\\\\Karyotypes\\\\Arrangement_Merged\\\\chr_x\\\\192478-delXq21-15L.bmp',\n",
       "   'D:\\\\Users\\\\Chuan\\\\Documents\\\\Database\\\\Karyotypes\\\\Arrangement_Merged\\\\chr_x\\\\192478-delXq21-16L.bmp',\n",
       "   'D:\\\\Users\\\\Chuan\\\\Documents\\\\Database\\\\Karyotypes\\\\Arrangement_Merged\\\\chr_x\\\\192478-delXq21-18L.bmp',\n",
       "   'D:\\\\Users\\\\Chuan\\\\Documents\\\\Database\\\\Karyotypes\\\\Arrangement_Merged\\\\chr_x\\\\192478-delXq21-19L.bmp',\n",
       "   'D:\\\\Users\\\\Chuan\\\\Documents\\\\Database\\\\Karyotypes\\\\Arrangement_Merged\\\\chr_x\\\\192478-delXq21-1L.bmp',\n",
       "   'D:\\\\Users\\\\Chuan\\\\Documents\\\\Database\\\\Karyotypes\\\\Arrangement_Merged\\\\chr_x\\\\192478-delXq21-20L.bmp',\n",
       "   'D:\\\\Users\\\\Chuan\\\\Documents\\\\Database\\\\Karyotypes\\\\Arrangement_Merged\\\\chr_x\\\\192478-delXq21-22L.bmp',\n",
       "   'D:\\\\Users\\\\Chuan\\\\Documents\\\\Database\\\\Karyotypes\\\\Arrangement_Merged\\\\chr_x\\\\192478-delXq21-23L.bmp',\n",
       "   'D:\\\\Users\\\\Chuan\\\\Documents\\\\Database\\\\Karyotypes\\\\Arrangement_Merged\\\\chr_x\\\\192478-delXq21-24L.bmp',\n",
       "   'D:\\\\Users\\\\Chuan\\\\Documents\\\\Database\\\\Karyotypes\\\\Arrangement_Merged\\\\chr_x\\\\192478-delXq21-25L.bmp',\n",
       "   'D:\\\\Users\\\\Chuan\\\\Documents\\\\Database\\\\Karyotypes\\\\Arrangement_Merged\\\\chr_x\\\\192478-delXq21-26L.bmp',\n",
       "   'D:\\\\Users\\\\Chuan\\\\Documents\\\\Database\\\\Karyotypes\\\\Arrangement_Merged\\\\chr_x\\\\192478-delXq21-28L.bmp',\n",
       "   'D:\\\\Users\\\\Chuan\\\\Documents\\\\Database\\\\Karyotypes\\\\Arrangement_Merged\\\\chr_x\\\\192478-delXq21-29L.bmp',\n",
       "   'D:\\\\Users\\\\Chuan\\\\Documents\\\\Database\\\\Karyotypes\\\\Arrangement_Merged\\\\chr_x\\\\192478-delXq21-30L.bmp',\n",
       "   'D:\\\\Users\\\\Chuan\\\\Documents\\\\Database\\\\Karyotypes\\\\Arrangement_Merged\\\\chr_x\\\\192478-delXq21-3L.bmp',\n",
       "   'D:\\\\Users\\\\Chuan\\\\Documents\\\\Database\\\\Karyotypes\\\\Arrangement_Merged\\\\chr_x\\\\192478-delXq21-4L.bmp',\n",
       "   'D:\\\\Users\\\\Chuan\\\\Documents\\\\Database\\\\Karyotypes\\\\Arrangement_Merged\\\\chr_x\\\\192478-delXq21-6L.bmp',\n",
       "   'D:\\\\Users\\\\Chuan\\\\Documents\\\\Database\\\\Karyotypes\\\\Arrangement_Merged\\\\chr_x\\\\192478-delXq21-8L.bmp',\n",
       "   'D:\\\\Users\\\\Chuan\\\\Documents\\\\Database\\\\Karyotypes\\\\Arrangement_Merged\\\\chr_x\\\\192478-delXq21-9L.bmp',\n",
       "   'D:\\\\Users\\\\Chuan\\\\Documents\\\\Database\\\\Karyotypes\\\\Arrangement_Merged\\\\chr_x\\\\87092-i(X)(q10)-10L.bmp',\n",
       "   'D:\\\\Users\\\\Chuan\\\\Documents\\\\Database\\\\Karyotypes\\\\Arrangement_Merged\\\\chr_x\\\\87092-i(X)(q10)-11L.bmp',\n",
       "   'D:\\\\Users\\\\Chuan\\\\Documents\\\\Database\\\\Karyotypes\\\\Arrangement_Merged\\\\chr_x\\\\87092-i(X)(q10)-12L.bmp',\n",
       "   'D:\\\\Users\\\\Chuan\\\\Documents\\\\Database\\\\Karyotypes\\\\Arrangement_Merged\\\\chr_x\\\\87092-i(X)(q10)-14L.bmp',\n",
       "   'D:\\\\Users\\\\Chuan\\\\Documents\\\\Database\\\\Karyotypes\\\\Arrangement_Merged\\\\chr_x\\\\87092-i(X)(q10)-15L.bmp',\n",
       "   'D:\\\\Users\\\\Chuan\\\\Documents\\\\Database\\\\Karyotypes\\\\Arrangement_Merged\\\\chr_x\\\\87092-i(X)(q10)-16L.bmp',\n",
       "   'D:\\\\Users\\\\Chuan\\\\Documents\\\\Database\\\\Karyotypes\\\\Arrangement_Merged\\\\chr_x\\\\87092-i(X)(q10)-19L.bmp',\n",
       "   'D:\\\\Users\\\\Chuan\\\\Documents\\\\Database\\\\Karyotypes\\\\Arrangement_Merged\\\\chr_x\\\\87092-i(X)(q10)-20L.bmp',\n",
       "   'D:\\\\Users\\\\Chuan\\\\Documents\\\\Database\\\\Karyotypes\\\\Arrangement_Merged\\\\chr_x\\\\87092-i(X)(q10)-21L.bmp',\n",
       "   'D:\\\\Users\\\\Chuan\\\\Documents\\\\Database\\\\Karyotypes\\\\Arrangement_Merged\\\\chr_x\\\\87092-i(X)(q10)-22L.bmp',\n",
       "   'D:\\\\Users\\\\Chuan\\\\Documents\\\\Database\\\\Karyotypes\\\\Arrangement_Merged\\\\chr_x\\\\87092-i(X)(q10)-23L.bmp',\n",
       "   'D:\\\\Users\\\\Chuan\\\\Documents\\\\Database\\\\Karyotypes\\\\Arrangement_Merged\\\\chr_x\\\\87092-i(X)(q10)-25L.bmp',\n",
       "   'D:\\\\Users\\\\Chuan\\\\Documents\\\\Database\\\\Karyotypes\\\\Arrangement_Merged\\\\chr_x\\\\87092-i(X)(q10)-26L.bmp',\n",
       "   'D:\\\\Users\\\\Chuan\\\\Documents\\\\Database\\\\Karyotypes\\\\Arrangement_Merged\\\\chr_x\\\\87092-i(X)(q10)-27L.bmp',\n",
       "   'D:\\\\Users\\\\Chuan\\\\Documents\\\\Database\\\\Karyotypes\\\\Arrangement_Merged\\\\chr_x\\\\87092-i(X)(q10)-28L.bmp',\n",
       "   'D:\\\\Users\\\\Chuan\\\\Documents\\\\Database\\\\Karyotypes\\\\Arrangement_Merged\\\\chr_x\\\\87092-i(X)(q10)-2L.bmp',\n",
       "   'D:\\\\Users\\\\Chuan\\\\Documents\\\\Database\\\\Karyotypes\\\\Arrangement_Merged\\\\chr_x\\\\87092-i(X)(q10)-3L.bmp',\n",
       "   'D:\\\\Users\\\\Chuan\\\\Documents\\\\Database\\\\Karyotypes\\\\Arrangement_Merged\\\\chr_x\\\\87092-i(X)(q10)-4L.bmp',\n",
       "   'D:\\\\Users\\\\Chuan\\\\Documents\\\\Database\\\\Karyotypes\\\\Arrangement_Merged\\\\chr_x\\\\87092-i(X)(q10)-5L.bmp',\n",
       "   'D:\\\\Users\\\\Chuan\\\\Documents\\\\Database\\\\Karyotypes\\\\Arrangement_Merged\\\\chr_x\\\\87092-i(X)(q10)-6L.bmp',\n",
       "   'D:\\\\Users\\\\Chuan\\\\Documents\\\\Database\\\\Karyotypes\\\\Arrangement_Merged\\\\chr_x\\\\87092-i(X)(q10)-7L.bmp',\n",
       "   'D:\\\\Users\\\\Chuan\\\\Documents\\\\Database\\\\Karyotypes\\\\Arrangement_Merged\\\\chr_x\\\\87092-i(X)(q10)-8L.bmp',\n",
       "   'D:\\\\Users\\\\Chuan\\\\Documents\\\\Database\\\\Karyotypes\\\\Arrangement_Merged\\\\chr_x\\\\W17068~A.0003.K.jpg.X.bmp',\n",
       "   'D:\\\\Users\\\\Chuan\\\\Documents\\\\Database\\\\Karyotypes\\\\Arrangement_Merged\\\\chr_x\\\\W17068~A.0004.K.jpg.X.bmp',\n",
       "   'D:\\\\Users\\\\Chuan\\\\Documents\\\\Database\\\\Karyotypes\\\\Arrangement_Merged\\\\chr_x\\\\W17068~A.0006.K.jpg.X.bmp',\n",
       "   'D:\\\\Users\\\\Chuan\\\\Documents\\\\Database\\\\Karyotypes\\\\Arrangement_Merged\\\\chr_x\\\\W17068~A.0008.K.X.bmp',\n",
       "   'D:\\\\Users\\\\Chuan\\\\Documents\\\\Database\\\\Karyotypes\\\\Arrangement_Merged\\\\chr_x\\\\W17068~A.0009.K.X.bmp',\n",
       "   'D:\\\\Users\\\\Chuan\\\\Documents\\\\Database\\\\Karyotypes\\\\Arrangement_Merged\\\\chr_x\\\\W17068~A.0011.K.X.bmp',\n",
       "   'D:\\\\Users\\\\Chuan\\\\Documents\\\\Database\\\\Karyotypes\\\\Arrangement_Merged\\\\chr_x\\\\W17068~A.0012.K.X.bmp',\n",
       "   'D:\\\\Users\\\\Chuan\\\\Documents\\\\Database\\\\Karyotypes\\\\Arrangement_Merged\\\\chr_x\\\\W17068~A.0014.K.X.bmp',\n",
       "   'D:\\\\Users\\\\Chuan\\\\Documents\\\\Database\\\\Karyotypes\\\\Arrangement_Merged\\\\chr_x\\\\W17068~A.0016.K.X.bmp',\n",
       "   'D:\\\\Users\\\\Chuan\\\\Documents\\\\Database\\\\Karyotypes\\\\Arrangement_Merged\\\\chr_x\\\\W17068~A.0019.K.X.bmp',\n",
       "   'D:\\\\Users\\\\Chuan\\\\Documents\\\\Database\\\\Karyotypes\\\\Arrangement_Merged\\\\chr_x\\\\W17068~A.0020.K.X.bmp',\n",
       "   'D:\\\\Users\\\\Chuan\\\\Documents\\\\Database\\\\Karyotypes\\\\Arrangement_Merged\\\\chr_x\\\\W17068~A.0023.K.X.bmp',\n",
       "   'D:\\\\Users\\\\Chuan\\\\Documents\\\\Database\\\\Karyotypes\\\\Arrangement_Merged\\\\chr_x\\\\W17068~A.0024.X_.bmp',\n",
       "   'D:\\\\Users\\\\Chuan\\\\Documents\\\\Database\\\\Karyotypes\\\\Arrangement_Merged\\\\chr_x\\\\W17068~A.0025.X.bmp',\n",
       "   'D:\\\\Users\\\\Chuan\\\\Documents\\\\Database\\\\Karyotypes\\\\Arrangement_Merged\\\\chr_x\\\\W17068~A.0026.X.bmp',\n",
       "   'D:\\\\Users\\\\Chuan\\\\Documents\\\\Database\\\\Karyotypes\\\\Arrangement_Merged\\\\chr_x\\\\W17068~A.0039.K.jpg.X.bmp',\n",
       "   'D:\\\\Users\\\\Chuan\\\\Documents\\\\Database\\\\Karyotypes\\\\Arrangement_Merged\\\\chr_x\\\\w21000~A.0001.K.jpg.X.bmp',\n",
       "   'D:\\\\Users\\\\Chuan\\\\Documents\\\\Database\\\\Karyotypes\\\\Arrangement_Merged\\\\chr_x\\\\w21000~A.0001.K.jpg.XR.bmp',\n",
       "   'D:\\\\Users\\\\Chuan\\\\Documents\\\\Database\\\\Karyotypes\\\\Arrangement_Merged\\\\chr_x\\\\w21001~A.0008.K.jpg.x.bmp',\n",
       "   'D:\\\\Users\\\\Chuan\\\\Documents\\\\Database\\\\Karyotypes\\\\Arrangement_Merged\\\\chr_x\\\\w21002~A.0024.K.jpg.x.bmp',\n",
       "   'D:\\\\Users\\\\Chuan\\\\Documents\\\\Database\\\\Karyotypes\\\\Arrangement_Merged\\\\chr_x\\\\w21008~A.0008.K.jpg.XL.bmp',\n",
       "   'D:\\\\Users\\\\Chuan\\\\Documents\\\\Database\\\\Karyotypes\\\\Arrangement_Merged\\\\chr_x\\\\w21008~A.0008.K.jpg.XR.bmp',\n",
       "   'D:\\\\Users\\\\Chuan\\\\Documents\\\\Database\\\\Karyotypes\\\\Arrangement_Merged\\\\chr_x\\\\W21011~A.0008.K.XL.bmp',\n",
       "   'D:\\\\Users\\\\Chuan\\\\Documents\\\\Database\\\\Karyotypes\\\\Arrangement_Merged\\\\chr_x\\\\W21012~A.0019.K.XL.bmp',\n",
       "   'D:\\\\Users\\\\Chuan\\\\Documents\\\\Database\\\\Karyotypes\\\\Arrangement_Merged\\\\chr_x\\\\W21014~A.0005.K.X.bmp',\n",
       "   'D:\\\\Users\\\\Chuan\\\\Documents\\\\Database\\\\Karyotypes\\\\Arrangement_Merged\\\\chr_x\\\\W21022~A.0007.K.jpg.XL.bmp',\n",
       "   'D:\\\\Users\\\\Chuan\\\\Documents\\\\Database\\\\Karyotypes\\\\Arrangement_Merged\\\\chr_x\\\\W21025~A.0002.K.jpg.X.bmp',\n",
       "   'D:\\\\Users\\\\Chuan\\\\Documents\\\\Database\\\\Karyotypes\\\\Arrangement_Merged\\\\chr_x\\\\W21486~A.0020.K.bmp.X.bmp',\n",
       "   'D:\\\\Users\\\\Chuan\\\\Documents\\\\Database\\\\Karyotypes\\\\Arrangement_Merged\\\\chr_x\\\\W21563~A.0006.K.x.bmp',\n",
       "   'D:\\\\Users\\\\Chuan\\\\Documents\\\\Database\\\\Karyotypes\\\\Arrangement_Merged\\\\chr_x\\\\W21570~A.0001.K.jpg.X.bmp',\n",
       "   'D:\\\\Users\\\\Chuan\\\\Documents\\\\Database\\\\Karyotypes\\\\Arrangement_Merged\\\\chr_x\\\\W21587~A.0008.K.jpg.X.bmp',\n",
       "   'D:\\\\Users\\\\Chuan\\\\Documents\\\\Database\\\\Karyotypes\\\\Arrangement_Merged\\\\chr_x\\\\W21766~A.0025.K.jpg.X.bmp',\n",
       "   'D:\\\\Users\\\\Chuan\\\\Documents\\\\Database\\\\Karyotypes\\\\Arrangement_Merged\\\\chr_x\\\\W21890~A.0005.K.jpg.XL.bmp',\n",
       "   'D:\\\\Users\\\\Chuan\\\\Documents\\\\Database\\\\Karyotypes\\\\Arrangement_Merged\\\\chr_x\\\\W21890~A.0005.K.jpg.XR.bmp',\n",
       "   'D:\\\\Users\\\\Chuan\\\\Documents\\\\Database\\\\Karyotypes\\\\Arrangement_Merged\\\\chr_x\\\\W21894~A.0009.K.jpg.X.bmp',\n",
       "   'D:\\\\Users\\\\Chuan\\\\Documents\\\\Database\\\\Karyotypes\\\\Arrangement_Merged\\\\chr_x\\\\W21902~A.0010.K.jpg.X.bmp',\n",
       "   'D:\\\\Users\\\\Chuan\\\\Documents\\\\Database\\\\Karyotypes\\\\Arrangement_Merged\\\\chr_x\\\\W21906~A.0011.K.jpg.X.bmp',\n",
       "   'D:\\\\Users\\\\Chuan\\\\Documents\\\\Database\\\\Karyotypes\\\\Arrangement_Merged\\\\chr_x\\\\w22038~A.0017.K.jpg.X.bmp',\n",
       "   'D:\\\\Users\\\\Chuan\\\\Documents\\\\Database\\\\Karyotypes\\\\Arrangement_Merged\\\\chr_x\\\\w22292~A.0027.K.jpg.X.bmp',\n",
       "   'D:\\\\Users\\\\Chuan\\\\Documents\\\\Database\\\\Karyotypes\\\\Arrangement_Merged\\\\chr_x\\\\W22451~A.0011.K.jpg.X.bmp',\n",
       "   'D:\\\\Users\\\\Chuan\\\\Documents\\\\Database\\\\Karyotypes\\\\Arrangement_Merged\\\\chr_x\\\\W22455~A.0002.K.jpg.X.bmp',\n",
       "   'D:\\\\Users\\\\Chuan\\\\Documents\\\\Database\\\\Karyotypes\\\\Arrangement_Merged\\\\chr_x\\\\W22666-1.0002.K.jpg.X.bmp',\n",
       "   'D:\\\\Users\\\\Chuan\\\\Documents\\\\Database\\\\Karyotypes\\\\Arrangement_Merged\\\\chr_x\\\\W22672~A.0004.K.jpg.X.bmp',\n",
       "   'D:\\\\Users\\\\Chuan\\\\Documents\\\\Database\\\\Karyotypes\\\\Arrangement_Merged\\\\chr_x\\\\w22881~A.0017.K.jpg.X.bmp',\n",
       "   'D:\\\\Users\\\\Chuan\\\\Documents\\\\Database\\\\Karyotypes\\\\Arrangement_Merged\\\\chr_x\\\\W23060-1~A.0003.K.jpg.X.bmp',\n",
       "   'D:\\\\Users\\\\Chuan\\\\Documents\\\\Database\\\\Karyotypes\\\\Arrangement_Merged\\\\chr_x\\\\W23060-1~A.0005.K.jpg.X.bmp',\n",
       "   'D:\\\\Users\\\\Chuan\\\\Documents\\\\Database\\\\Karyotypes\\\\Arrangement_Merged\\\\chr_x\\\\W23060-1~A.0009.K.jpg.X.bmp',\n",
       "   'D:\\\\Users\\\\Chuan\\\\Documents\\\\Database\\\\Karyotypes\\\\Arrangement_Merged\\\\chr_x\\\\W23060-1~A.0018.K.jpg.X.bmp',\n",
       "   'D:\\\\Users\\\\Chuan\\\\Documents\\\\Database\\\\Karyotypes\\\\Arrangement_Merged\\\\chr_x\\\\W23060-1~A.0025.K.jpg.X.bmp',\n",
       "   'D:\\\\Users\\\\Chuan\\\\Documents\\\\Database\\\\Karyotypes\\\\Arrangement_Merged\\\\chr_x\\\\W23060-1~A.0029.K.jpg.X.bmp',\n",
       "   'D:\\\\Users\\\\Chuan\\\\Documents\\\\Database\\\\Karyotypes\\\\Arrangement_Merged\\\\chr_x\\\\W23060-1~A.0032.K.jpg.X.bmp',\n",
       "   'D:\\\\Users\\\\Chuan\\\\Documents\\\\Database\\\\Karyotypes\\\\Arrangement_Merged\\\\chr_x\\\\W23060-1~A.0033.K.jpg.X.bmp',\n",
       "   'D:\\\\Users\\\\Chuan\\\\Documents\\\\Database\\\\Karyotypes\\\\Arrangement_Merged\\\\chr_x\\\\W23060-1~A.0035.K.jpg.X.bmp',\n",
       "   'D:\\\\Users\\\\Chuan\\\\Documents\\\\Database\\\\Karyotypes\\\\Arrangement_Merged\\\\chr_x\\\\W23060-1~A.0040.K.jpg.X.bmp',\n",
       "   'D:\\\\Users\\\\Chuan\\\\Documents\\\\Database\\\\Karyotypes\\\\Arrangement_Merged\\\\chr_x\\\\W23060-1~A.0042.K.jpg.X.bmp',\n",
       "   'D:\\\\Users\\\\Chuan\\\\Documents\\\\Database\\\\Karyotypes\\\\Arrangement_Merged\\\\chr_x\\\\W23060-CW190327.jpg.X.bmp',\n",
       "   'D:\\\\Users\\\\Chuan\\\\Documents\\\\Database\\\\Karyotypes\\\\Arrangement_Merged\\\\chr_x\\\\W23070~A.0001.K.jpg.X.bmp',\n",
       "   'D:\\\\Users\\\\Chuan\\\\Documents\\\\Database\\\\Karyotypes\\\\Arrangement_Merged\\\\chr_x\\\\W23075-1~A.0017.K.jpg.X.bmp',\n",
       "   'D:\\\\Users\\\\Chuan\\\\Documents\\\\Database\\\\Karyotypes\\\\Arrangement_Merged\\\\chr_x\\\\W23082.0026.K.jpg.X.bmp',\n",
       "   'D:\\\\Users\\\\Chuan\\\\Documents\\\\Database\\\\Karyotypes\\\\Arrangement_Merged\\\\chr_x\\\\W23084~A.0003.K.jp.X.bmp',\n",
       "   'D:\\\\Users\\\\Chuan\\\\Documents\\\\Database\\\\Karyotypes\\\\Arrangement_Merged\\\\chr_x\\\\w25443~A.0001.K.jpg.X.bmp',\n",
       "   'D:\\\\Users\\\\Chuan\\\\Documents\\\\Database\\\\Karyotypes\\\\Arrangement_Merged\\\\chr_x\\\\w25443~A.0004.K.jpg.X.bmp',\n",
       "   'D:\\\\Users\\\\Chuan\\\\Documents\\\\Database\\\\Karyotypes\\\\Arrangement_Merged\\\\chr_x\\\\w25443~A.0005.K.jpg.X.bmp',\n",
       "   'D:\\\\Users\\\\Chuan\\\\Documents\\\\Database\\\\Karyotypes\\\\Arrangement_Merged\\\\chr_x\\\\w25443~A.0006.K.jpg.X.bmp',\n",
       "   'D:\\\\Users\\\\Chuan\\\\Documents\\\\Database\\\\Karyotypes\\\\Arrangement_Merged\\\\chr_x\\\\w25443~A.0007.K.jpg.X.bmp',\n",
       "   'D:\\\\Users\\\\Chuan\\\\Documents\\\\Database\\\\Karyotypes\\\\Arrangement_Merged\\\\chr_x\\\\w25443~A.0010.K.jpg.X.bmp',\n",
       "   'D:\\\\Users\\\\Chuan\\\\Documents\\\\Database\\\\Karyotypes\\\\Arrangement_Merged\\\\chr_x\\\\w25443~A.0014.K.jpg.X.bmp',\n",
       "   'D:\\\\Users\\\\Chuan\\\\Documents\\\\Database\\\\Karyotypes\\\\Arrangement_Merged\\\\chr_x\\\\w25443~A.0023.K.jpg.X.bmp',\n",
       "   'D:\\\\Users\\\\Chuan\\\\Documents\\\\Database\\\\Karyotypes\\\\Arrangement_Merged\\\\chr_x\\\\w25443~A.0031.K.jpg.X.bmp',\n",
       "   'D:\\\\Users\\\\Chuan\\\\Documents\\\\Database\\\\Karyotypes\\\\Arrangement_Merged\\\\chr_x\\\\w25443~A.0032.K.jpg.X.bmp',\n",
       "   'D:\\\\Users\\\\Chuan\\\\Documents\\\\Database\\\\Karyotypes\\\\Arrangement_Merged\\\\chr_x\\\\w25443~A.0033.K.jpg.X.bmp',\n",
       "   'D:\\\\Users\\\\Chuan\\\\Documents\\\\Database\\\\Karyotypes\\\\Arrangement_Merged\\\\chr_x\\\\w25443~A.0037.K.jpg.X.bmp',\n",
       "   'D:\\\\Users\\\\Chuan\\\\Documents\\\\Database\\\\Karyotypes\\\\Arrangement_Merged\\\\chr_x\\\\w25443~A.0040.K.jpg.X.bmp',\n",
       "   'D:\\\\Users\\\\Chuan\\\\Documents\\\\Database\\\\Karyotypes\\\\Arrangement_Merged\\\\chr_x\\\\w25443~A.0047.K.jpg.X.bmp',\n",
       "   'D:\\\\Users\\\\Chuan\\\\Documents\\\\Database\\\\Karyotypes\\\\Arrangement_Merged\\\\chr_x\\\\W28055-1~A.0001.X.bmp',\n",
       "   'D:\\\\Users\\\\Chuan\\\\Documents\\\\Database\\\\Karyotypes\\\\Arrangement_Merged\\\\chr_x\\\\W28055-1~A.0002.X.bmp',\n",
       "   'D:\\\\Users\\\\Chuan\\\\Documents\\\\Database\\\\Karyotypes\\\\Arrangement_Merged\\\\chr_x\\\\W28055-1~A.0009.X.bmp',\n",
       "   'D:\\\\Users\\\\Chuan\\\\Documents\\\\Database\\\\Karyotypes\\\\Arrangement_Merged\\\\chr_x\\\\W28055-1~A.0012.X.bmp',\n",
       "   'D:\\\\Users\\\\Chuan\\\\Documents\\\\Database\\\\Karyotypes\\\\Arrangement_Merged\\\\chr_x\\\\W28055-1~A.0015.X.bmp',\n",
       "   'D:\\\\Users\\\\Chuan\\\\Documents\\\\Database\\\\Karyotypes\\\\Arrangement_Merged\\\\chr_x\\\\W28055-1~A.0016.X.bmp',\n",
       "   'D:\\\\Users\\\\Chuan\\\\Documents\\\\Database\\\\Karyotypes\\\\Arrangement_Merged\\\\chr_x\\\\W28055-1~A.0020.X.bmp',\n",
       "   'D:\\\\Users\\\\Chuan\\\\Documents\\\\Database\\\\Karyotypes\\\\Arrangement_Merged\\\\chr_x\\\\W28055-1~A.0021.X.bmp',\n",
       "   'D:\\\\Users\\\\Chuan\\\\Documents\\\\Database\\\\Karyotypes\\\\Arrangement_Merged\\\\chr_x\\\\W28055-1~A.0022.X.bmp',\n",
       "   'D:\\\\Users\\\\Chuan\\\\Documents\\\\Database\\\\Karyotypes\\\\Arrangement_Merged\\\\chr_x\\\\W28055-1~A.0032.X.bmp',\n",
       "   'D:\\\\Users\\\\Chuan\\\\Documents\\\\Database\\\\Karyotypes\\\\Arrangement_Merged\\\\chr_x\\\\W28055-1~A.0038.X.bmp',\n",
       "   'D:\\\\Users\\\\Chuan\\\\Documents\\\\Database\\\\Karyotypes\\\\Arrangement_Merged\\\\chr_x\\\\W28055-1~A.0039.K.jpg.X.bmp',\n",
       "   'D:\\\\Users\\\\Chuan\\\\Documents\\\\Database\\\\Karyotypes\\\\Arrangement_Merged\\\\chr_x\\\\W28055-1~A.0049.K.jpg.X.bmp',\n",
       "   'D:\\\\Users\\\\Chuan\\\\Documents\\\\Database\\\\Karyotypes\\\\Arrangement_Merged\\\\chr_x\\\\W28055~A.0010.X.bmp',\n",
       "   'D:\\\\Users\\\\Chuan\\\\Documents\\\\Database\\\\Karyotypes\\\\Arrangement_Merged\\\\chr_x\\\\W28055~A.0012.X.bmp'],\n",
       "  '2': ['D:\\\\Users\\\\Chuan\\\\Documents\\\\Database\\\\Karyotypes\\\\Arrangement_Merged\\\\chr_x\\\\191128-del(X)(p22)-11L.bmp',\n",
       "   'D:\\\\Users\\\\Chuan\\\\Documents\\\\Database\\\\Karyotypes\\\\Arrangement_Merged\\\\chr_x\\\\191128-del(X)(p22)-13L.bmp',\n",
       "   'D:\\\\Users\\\\Chuan\\\\Documents\\\\Database\\\\Karyotypes\\\\Arrangement_Merged\\\\chr_x\\\\191128-del(X)(p22)-14L.bmp',\n",
       "   'D:\\\\Users\\\\Chuan\\\\Documents\\\\Database\\\\Karyotypes\\\\Arrangement_Merged\\\\chr_x\\\\191128-del(X)(p22)-15L.bmp',\n",
       "   'D:\\\\Users\\\\Chuan\\\\Documents\\\\Database\\\\Karyotypes\\\\Arrangement_Merged\\\\chr_x\\\\191128-del(X)(p22)-17L.bmp',\n",
       "   'D:\\\\Users\\\\Chuan\\\\Documents\\\\Database\\\\Karyotypes\\\\Arrangement_Merged\\\\chr_x\\\\191128-del(X)(p22)-18L.bmp',\n",
       "   'D:\\\\Users\\\\Chuan\\\\Documents\\\\Database\\\\Karyotypes\\\\Arrangement_Merged\\\\chr_x\\\\191128-del(X)(p22)-19L.bmp',\n",
       "   'D:\\\\Users\\\\Chuan\\\\Documents\\\\Database\\\\Karyotypes\\\\Arrangement_Merged\\\\chr_x\\\\191128-del(X)(p22)-1L.bmp',\n",
       "   'D:\\\\Users\\\\Chuan\\\\Documents\\\\Database\\\\Karyotypes\\\\Arrangement_Merged\\\\chr_x\\\\191128-del(X)(p22)-20L.bmp',\n",
       "   'D:\\\\Users\\\\Chuan\\\\Documents\\\\Database\\\\Karyotypes\\\\Arrangement_Merged\\\\chr_x\\\\191128-del(X)(p22)-21L.bmp',\n",
       "   'D:\\\\Users\\\\Chuan\\\\Documents\\\\Database\\\\Karyotypes\\\\Arrangement_Merged\\\\chr_x\\\\191128-del(X)(p22)-22L.bmp',\n",
       "   'D:\\\\Users\\\\Chuan\\\\Documents\\\\Database\\\\Karyotypes\\\\Arrangement_Merged\\\\chr_x\\\\191128-del(X)(p22)-2L.bmp',\n",
       "   'D:\\\\Users\\\\Chuan\\\\Documents\\\\Database\\\\Karyotypes\\\\Arrangement_Merged\\\\chr_x\\\\191128-del(X)(p22)-3L.bmp',\n",
       "   'D:\\\\Users\\\\Chuan\\\\Documents\\\\Database\\\\Karyotypes\\\\Arrangement_Merged\\\\chr_x\\\\191128-del(X)(p22)-4L.bmp',\n",
       "   'D:\\\\Users\\\\Chuan\\\\Documents\\\\Database\\\\Karyotypes\\\\Arrangement_Merged\\\\chr_x\\\\191128-del(X)(p22)-6L.bmp',\n",
       "   'D:\\\\Users\\\\Chuan\\\\Documents\\\\Database\\\\Karyotypes\\\\Arrangement_Merged\\\\chr_x\\\\191128-del(X)(p22)-7L.bmp',\n",
       "   'D:\\\\Users\\\\Chuan\\\\Documents\\\\Database\\\\Karyotypes\\\\Arrangement_Merged\\\\chr_x\\\\191128-del(X)(p22)-8L.bmp',\n",
       "   'D:\\\\Users\\\\Chuan\\\\Documents\\\\Database\\\\Karyotypes\\\\Arrangement_Merged\\\\chr_x\\\\191128-del(X)(p22)-9L.bmp',\n",
       "   'D:\\\\Users\\\\Chuan\\\\Documents\\\\Database\\\\Karyotypes\\\\Arrangement_Merged\\\\chr_x\\\\192478-delXq21-11L.bmp',\n",
       "   'D:\\\\Users\\\\Chuan\\\\Documents\\\\Database\\\\Karyotypes\\\\Arrangement_Merged\\\\chr_x\\\\192478-delXq21-12L.bmp',\n",
       "   'D:\\\\Users\\\\Chuan\\\\Documents\\\\Database\\\\Karyotypes\\\\Arrangement_Merged\\\\chr_x\\\\192478-delXq21-13L.bmp',\n",
       "   'D:\\\\Users\\\\Chuan\\\\Documents\\\\Database\\\\Karyotypes\\\\Arrangement_Merged\\\\chr_x\\\\192478-delXq21-14L.bmp',\n",
       "   'D:\\\\Users\\\\Chuan\\\\Documents\\\\Database\\\\Karyotypes\\\\Arrangement_Merged\\\\chr_x\\\\192478-delXq21-15L.bmp',\n",
       "   'D:\\\\Users\\\\Chuan\\\\Documents\\\\Database\\\\Karyotypes\\\\Arrangement_Merged\\\\chr_x\\\\192478-delXq21-16L.bmp',\n",
       "   'D:\\\\Users\\\\Chuan\\\\Documents\\\\Database\\\\Karyotypes\\\\Arrangement_Merged\\\\chr_x\\\\192478-delXq21-17L.bmp',\n",
       "   'D:\\\\Users\\\\Chuan\\\\Documents\\\\Database\\\\Karyotypes\\\\Arrangement_Merged\\\\chr_x\\\\192478-delXq21-18L.bmp',\n",
       "   'D:\\\\Users\\\\Chuan\\\\Documents\\\\Database\\\\Karyotypes\\\\Arrangement_Merged\\\\chr_x\\\\192478-delXq21-19L.bmp',\n",
       "   'D:\\\\Users\\\\Chuan\\\\Documents\\\\Database\\\\Karyotypes\\\\Arrangement_Merged\\\\chr_x\\\\192478-delXq21-1L.bmp',\n",
       "   'D:\\\\Users\\\\Chuan\\\\Documents\\\\Database\\\\Karyotypes\\\\Arrangement_Merged\\\\chr_x\\\\192478-delXq21-20L.bmp',\n",
       "   'D:\\\\Users\\\\Chuan\\\\Documents\\\\Database\\\\Karyotypes\\\\Arrangement_Merged\\\\chr_x\\\\192478-delXq21-21L.bmp',\n",
       "   'D:\\\\Users\\\\Chuan\\\\Documents\\\\Database\\\\Karyotypes\\\\Arrangement_Merged\\\\chr_x\\\\192478-delXq21-22L.bmp',\n",
       "   'D:\\\\Users\\\\Chuan\\\\Documents\\\\Database\\\\Karyotypes\\\\Arrangement_Merged\\\\chr_x\\\\192478-delXq21-23L.bmp',\n",
       "   'D:\\\\Users\\\\Chuan\\\\Documents\\\\Database\\\\Karyotypes\\\\Arrangement_Merged\\\\chr_x\\\\192478-delXq21-25L.bmp',\n",
       "   'D:\\\\Users\\\\Chuan\\\\Documents\\\\Database\\\\Karyotypes\\\\Arrangement_Merged\\\\chr_x\\\\192478-delXq21-26L.bmp',\n",
       "   'D:\\\\Users\\\\Chuan\\\\Documents\\\\Database\\\\Karyotypes\\\\Arrangement_Merged\\\\chr_x\\\\192478-delXq21-27L.bmp',\n",
       "   'D:\\\\Users\\\\Chuan\\\\Documents\\\\Database\\\\Karyotypes\\\\Arrangement_Merged\\\\chr_x\\\\192478-delXq21-28L.bmp',\n",
       "   'D:\\\\Users\\\\Chuan\\\\Documents\\\\Database\\\\Karyotypes\\\\Arrangement_Merged\\\\chr_x\\\\192478-delXq21-29L.bmp',\n",
       "   'D:\\\\Users\\\\Chuan\\\\Documents\\\\Database\\\\Karyotypes\\\\Arrangement_Merged\\\\chr_x\\\\192478-delXq21-2L.bmp',\n",
       "   'D:\\\\Users\\\\Chuan\\\\Documents\\\\Database\\\\Karyotypes\\\\Arrangement_Merged\\\\chr_x\\\\192478-delXq21-30L.bmp',\n",
       "   'D:\\\\Users\\\\Chuan\\\\Documents\\\\Database\\\\Karyotypes\\\\Arrangement_Merged\\\\chr_x\\\\192478-delXq21-31L.bmp',\n",
       "   'D:\\\\Users\\\\Chuan\\\\Documents\\\\Database\\\\Karyotypes\\\\Arrangement_Merged\\\\chr_x\\\\192478-delXq21-6L.bmp',\n",
       "   'D:\\\\Users\\\\Chuan\\\\Documents\\\\Database\\\\Karyotypes\\\\Arrangement_Merged\\\\chr_x\\\\192478-delXq21-7L.bmp',\n",
       "   'D:\\\\Users\\\\Chuan\\\\Documents\\\\Database\\\\Karyotypes\\\\Arrangement_Merged\\\\chr_x\\\\192478-delXq21-8L.bmp',\n",
       "   'D:\\\\Users\\\\Chuan\\\\Documents\\\\Database\\\\Karyotypes\\\\Arrangement_Merged\\\\chr_x\\\\192478-delXq21-9L.bmp',\n",
       "   'D:\\\\Users\\\\Chuan\\\\Documents\\\\Database\\\\Karyotypes\\\\Arrangement_Merged\\\\chr_x\\\\87092-i(X)(q10)-10L.bmp',\n",
       "   'D:\\\\Users\\\\Chuan\\\\Documents\\\\Database\\\\Karyotypes\\\\Arrangement_Merged\\\\chr_x\\\\87092-i(X)(q10)-11L.bmp',\n",
       "   'D:\\\\Users\\\\Chuan\\\\Documents\\\\Database\\\\Karyotypes\\\\Arrangement_Merged\\\\chr_x\\\\87092-i(X)(q10)-12L.bmp',\n",
       "   'D:\\\\Users\\\\Chuan\\\\Documents\\\\Database\\\\Karyotypes\\\\Arrangement_Merged\\\\chr_x\\\\87092-i(X)(q10)-13L.bmp',\n",
       "   'D:\\\\Users\\\\Chuan\\\\Documents\\\\Database\\\\Karyotypes\\\\Arrangement_Merged\\\\chr_x\\\\87092-i(X)(q10)-15L.bmp',\n",
       "   'D:\\\\Users\\\\Chuan\\\\Documents\\\\Database\\\\Karyotypes\\\\Arrangement_Merged\\\\chr_x\\\\87092-i(X)(q10)-16L.bmp',\n",
       "   'D:\\\\Users\\\\Chuan\\\\Documents\\\\Database\\\\Karyotypes\\\\Arrangement_Merged\\\\chr_x\\\\87092-i(X)(q10)-17L.bmp',\n",
       "   'D:\\\\Users\\\\Chuan\\\\Documents\\\\Database\\\\Karyotypes\\\\Arrangement_Merged\\\\chr_x\\\\87092-i(X)(q10)-18L.bmp',\n",
       "   'D:\\\\Users\\\\Chuan\\\\Documents\\\\Database\\\\Karyotypes\\\\Arrangement_Merged\\\\chr_x\\\\87092-i(X)(q10)-19L.bmp',\n",
       "   'D:\\\\Users\\\\Chuan\\\\Documents\\\\Database\\\\Karyotypes\\\\Arrangement_Merged\\\\chr_x\\\\87092-i(X)(q10)-20L.bmp',\n",
       "   'D:\\\\Users\\\\Chuan\\\\Documents\\\\Database\\\\Karyotypes\\\\Arrangement_Merged\\\\chr_x\\\\87092-i(X)(q10)-22L.bmp',\n",
       "   'D:\\\\Users\\\\Chuan\\\\Documents\\\\Database\\\\Karyotypes\\\\Arrangement_Merged\\\\chr_x\\\\87092-i(X)(q10)-23L.bmp',\n",
       "   'D:\\\\Users\\\\Chuan\\\\Documents\\\\Database\\\\Karyotypes\\\\Arrangement_Merged\\\\chr_x\\\\87092-i(X)(q10)-26L.bmp',\n",
       "   'D:\\\\Users\\\\Chuan\\\\Documents\\\\Database\\\\Karyotypes\\\\Arrangement_Merged\\\\chr_x\\\\87092-i(X)(q10)-27L.bmp',\n",
       "   'D:\\\\Users\\\\Chuan\\\\Documents\\\\Database\\\\Karyotypes\\\\Arrangement_Merged\\\\chr_x\\\\87092-i(X)(q10)-28L.bmp',\n",
       "   'D:\\\\Users\\\\Chuan\\\\Documents\\\\Database\\\\Karyotypes\\\\Arrangement_Merged\\\\chr_x\\\\87092-i(X)(q10)-29L.bmp',\n",
       "   'D:\\\\Users\\\\Chuan\\\\Documents\\\\Database\\\\Karyotypes\\\\Arrangement_Merged\\\\chr_x\\\\87092-i(X)(q10)-3L.bmp',\n",
       "   'D:\\\\Users\\\\Chuan\\\\Documents\\\\Database\\\\Karyotypes\\\\Arrangement_Merged\\\\chr_x\\\\87092-i(X)(q10)-4L.bmp',\n",
       "   'D:\\\\Users\\\\Chuan\\\\Documents\\\\Database\\\\Karyotypes\\\\Arrangement_Merged\\\\chr_x\\\\87092-i(X)(q10)-5L.bmp',\n",
       "   'D:\\\\Users\\\\Chuan\\\\Documents\\\\Database\\\\Karyotypes\\\\Arrangement_Merged\\\\chr_x\\\\87092-i(X)(q10)-8L.bmp',\n",
       "   'D:\\\\Users\\\\Chuan\\\\Documents\\\\Database\\\\Karyotypes\\\\Arrangement_Merged\\\\chr_x\\\\W17068~A.0004.K.jpg.X.bmp',\n",
       "   'D:\\\\Users\\\\Chuan\\\\Documents\\\\Database\\\\Karyotypes\\\\Arrangement_Merged\\\\chr_x\\\\W17068~A.0006.K.jpg.X.bmp',\n",
       "   'D:\\\\Users\\\\Chuan\\\\Documents\\\\Database\\\\Karyotypes\\\\Arrangement_Merged\\\\chr_x\\\\W17068~A.0008.K.X.bmp',\n",
       "   'D:\\\\Users\\\\Chuan\\\\Documents\\\\Database\\\\Karyotypes\\\\Arrangement_Merged\\\\chr_x\\\\W17068~A.0009.K.X.bmp',\n",
       "   'D:\\\\Users\\\\Chuan\\\\Documents\\\\Database\\\\Karyotypes\\\\Arrangement_Merged\\\\chr_x\\\\W17068~A.0010.K.X.bmp',\n",
       "   'D:\\\\Users\\\\Chuan\\\\Documents\\\\Database\\\\Karyotypes\\\\Arrangement_Merged\\\\chr_x\\\\W17068~A.0011.K.X.bmp',\n",
       "   'D:\\\\Users\\\\Chuan\\\\Documents\\\\Database\\\\Karyotypes\\\\Arrangement_Merged\\\\chr_x\\\\W17068~A.0012.K.X.bmp',\n",
       "   'D:\\\\Users\\\\Chuan\\\\Documents\\\\Database\\\\Karyotypes\\\\Arrangement_Merged\\\\chr_x\\\\W17068~A.0016.K.X.bmp',\n",
       "   'D:\\\\Users\\\\Chuan\\\\Documents\\\\Database\\\\Karyotypes\\\\Arrangement_Merged\\\\chr_x\\\\W17068~A.0024.X_.bmp',\n",
       "   'D:\\\\Users\\\\Chuan\\\\Documents\\\\Database\\\\Karyotypes\\\\Arrangement_Merged\\\\chr_x\\\\W17068~A.0034.K.jpg.X.bmp',\n",
       "   'D:\\\\Users\\\\Chuan\\\\Documents\\\\Database\\\\Karyotypes\\\\Arrangement_Merged\\\\chr_x\\\\W17068~A.0036.K.jpg.X.bmp',\n",
       "   'D:\\\\Users\\\\Chuan\\\\Documents\\\\Database\\\\Karyotypes\\\\Arrangement_Merged\\\\chr_x\\\\W17068~A.0039.K.jpg.X.bmp',\n",
       "   'D:\\\\Users\\\\Chuan\\\\Documents\\\\Database\\\\Karyotypes\\\\Arrangement_Merged\\\\chr_x\\\\w21000~A.0001.K.jpg.X.bmp',\n",
       "   'D:\\\\Users\\\\Chuan\\\\Documents\\\\Database\\\\Karyotypes\\\\Arrangement_Merged\\\\chr_x\\\\w21001~A.0008.K.jpg.x.bmp',\n",
       "   'D:\\\\Users\\\\Chuan\\\\Documents\\\\Database\\\\Karyotypes\\\\Arrangement_Merged\\\\chr_x\\\\w21002~A.0024.K.jpg.x.bmp',\n",
       "   'D:\\\\Users\\\\Chuan\\\\Documents\\\\Database\\\\Karyotypes\\\\Arrangement_Merged\\\\chr_x\\\\w21008~A.0008.K.jpg.XL.bmp',\n",
       "   'D:\\\\Users\\\\Chuan\\\\Documents\\\\Database\\\\Karyotypes\\\\Arrangement_Merged\\\\chr_x\\\\w21008~A.0008.K.jpg.XR.bmp',\n",
       "   'D:\\\\Users\\\\Chuan\\\\Documents\\\\Database\\\\Karyotypes\\\\Arrangement_Merged\\\\chr_x\\\\W21011~A.0008.K.XL.bmp',\n",
       "   'D:\\\\Users\\\\Chuan\\\\Documents\\\\Database\\\\Karyotypes\\\\Arrangement_Merged\\\\chr_x\\\\W21011~A.0008.K.XR.bmp',\n",
       "   'D:\\\\Users\\\\Chuan\\\\Documents\\\\Database\\\\Karyotypes\\\\Arrangement_Merged\\\\chr_x\\\\W21012~A.0019.K.XL.bmp',\n",
       "   'D:\\\\Users\\\\Chuan\\\\Documents\\\\Database\\\\Karyotypes\\\\Arrangement_Merged\\\\chr_x\\\\W21012~A.0019.K.XR.bmp',\n",
       "   'D:\\\\Users\\\\Chuan\\\\Documents\\\\Database\\\\Karyotypes\\\\Arrangement_Merged\\\\chr_x\\\\W21014~A.0005.K.X.bmp',\n",
       "   'D:\\\\Users\\\\Chuan\\\\Documents\\\\Database\\\\Karyotypes\\\\Arrangement_Merged\\\\chr_x\\\\W21022~A.0007.K.jpg.XL.bmp',\n",
       "   'D:\\\\Users\\\\Chuan\\\\Documents\\\\Database\\\\Karyotypes\\\\Arrangement_Merged\\\\chr_x\\\\W21022~A.0007.K.jpg.XR.bmp',\n",
       "   'D:\\\\Users\\\\Chuan\\\\Documents\\\\Database\\\\Karyotypes\\\\Arrangement_Merged\\\\chr_x\\\\W21025~A.0002.K.jpg.X.bmp',\n",
       "   'D:\\\\Users\\\\Chuan\\\\Documents\\\\Database\\\\Karyotypes\\\\Arrangement_Merged\\\\chr_x\\\\W21027~A.0003.K.X.bmp',\n",
       "   'D:\\\\Users\\\\Chuan\\\\Documents\\\\Database\\\\Karyotypes\\\\Arrangement_Merged\\\\chr_x\\\\W21486~A.0020.K.bmp.X.bmp',\n",
       "   'D:\\\\Users\\\\Chuan\\\\Documents\\\\Database\\\\Karyotypes\\\\Arrangement_Merged\\\\chr_x\\\\W21563~A.0006.K.x.bmp',\n",
       "   'D:\\\\Users\\\\Chuan\\\\Documents\\\\Database\\\\Karyotypes\\\\Arrangement_Merged\\\\chr_x\\\\W21570~A.0001.K.jpg.X.bmp',\n",
       "   'D:\\\\Users\\\\Chuan\\\\Documents\\\\Database\\\\Karyotypes\\\\Arrangement_Merged\\\\chr_x\\\\W21576~A.0010.K.jpg.X.bmp',\n",
       "   'D:\\\\Users\\\\Chuan\\\\Documents\\\\Database\\\\Karyotypes\\\\Arrangement_Merged\\\\chr_x\\\\W21587~A.0008.K.jpg.X.bmp',\n",
       "   'D:\\\\Users\\\\Chuan\\\\Documents\\\\Database\\\\Karyotypes\\\\Arrangement_Merged\\\\chr_x\\\\W21587~A.0010.K.jpg.X.bmp',\n",
       "   'D:\\\\Users\\\\Chuan\\\\Documents\\\\Database\\\\Karyotypes\\\\Arrangement_Merged\\\\chr_x\\\\W21588~A.0001.K.jpg.X.bmp',\n",
       "   'D:\\\\Users\\\\Chuan\\\\Documents\\\\Database\\\\Karyotypes\\\\Arrangement_Merged\\\\chr_x\\\\W21890~A.0005.K.jpg.XL.bmp',\n",
       "   'D:\\\\Users\\\\Chuan\\\\Documents\\\\Database\\\\Karyotypes\\\\Arrangement_Merged\\\\chr_x\\\\W21890~A.0005.K.jpg.XR.bmp',\n",
       "   'D:\\\\Users\\\\Chuan\\\\Documents\\\\Database\\\\Karyotypes\\\\Arrangement_Merged\\\\chr_x\\\\W21894~A.0009.K.jpg.X.bmp',\n",
       "   'D:\\\\Users\\\\Chuan\\\\Documents\\\\Database\\\\Karyotypes\\\\Arrangement_Merged\\\\chr_x\\\\W21905~A.0007.K.jpg.X.bmp',\n",
       "   'D:\\\\Users\\\\Chuan\\\\Documents\\\\Database\\\\Karyotypes\\\\Arrangement_Merged\\\\chr_x\\\\W21906~A.0011.K.jpg.X.bmp',\n",
       "   'D:\\\\Users\\\\Chuan\\\\Documents\\\\Database\\\\Karyotypes\\\\Arrangement_Merged\\\\chr_x\\\\w22038~A.0017.K.jpg.X.bmp',\n",
       "   'D:\\\\Users\\\\Chuan\\\\Documents\\\\Database\\\\Karyotypes\\\\Arrangement_Merged\\\\chr_x\\\\w22292~A.0027.K.jpg.X.bmp',\n",
       "   'D:\\\\Users\\\\Chuan\\\\Documents\\\\Database\\\\Karyotypes\\\\Arrangement_Merged\\\\chr_x\\\\W22451~A.0011.K.jpg.X.bmp',\n",
       "   'D:\\\\Users\\\\Chuan\\\\Documents\\\\Database\\\\Karyotypes\\\\Arrangement_Merged\\\\chr_x\\\\W22455~A.0002.K.jpg.X.bmp',\n",
       "   'D:\\\\Users\\\\Chuan\\\\Documents\\\\Database\\\\Karyotypes\\\\Arrangement_Merged\\\\chr_x\\\\W22666-1.0002.K.jpg.X.bmp',\n",
       "   'D:\\\\Users\\\\Chuan\\\\Documents\\\\Database\\\\Karyotypes\\\\Arrangement_Merged\\\\chr_x\\\\W22670~A.0006.K.jpg.X.bmp',\n",
       "   'D:\\\\Users\\\\Chuan\\\\Documents\\\\Database\\\\Karyotypes\\\\Arrangement_Merged\\\\chr_x\\\\W22672~A.0004.K.jpg.X.bmp',\n",
       "   'D:\\\\Users\\\\Chuan\\\\Documents\\\\Database\\\\Karyotypes\\\\Arrangement_Merged\\\\chr_x\\\\w22881~A.0017.K.jpg.X.bmp',\n",
       "   'D:\\\\Users\\\\Chuan\\\\Documents\\\\Database\\\\Karyotypes\\\\Arrangement_Merged\\\\chr_x\\\\W23060-1~A.0003.K.jpg.X.bmp',\n",
       "   'D:\\\\Users\\\\Chuan\\\\Documents\\\\Database\\\\Karyotypes\\\\Arrangement_Merged\\\\chr_x\\\\W23060-1~A.0005.K.jpg.X.bmp',\n",
       "   'D:\\\\Users\\\\Chuan\\\\Documents\\\\Database\\\\Karyotypes\\\\Arrangement_Merged\\\\chr_x\\\\W23060-1~A.0007.K.jpg.X.bmp',\n",
       "   'D:\\\\Users\\\\Chuan\\\\Documents\\\\Database\\\\Karyotypes\\\\Arrangement_Merged\\\\chr_x\\\\W23060-1~A.0009.K.jpg.X.bmp',\n",
       "   'D:\\\\Users\\\\Chuan\\\\Documents\\\\Database\\\\Karyotypes\\\\Arrangement_Merged\\\\chr_x\\\\W23060-1~A.0018.K.jpg.X.bmp',\n",
       "   'D:\\\\Users\\\\Chuan\\\\Documents\\\\Database\\\\Karyotypes\\\\Arrangement_Merged\\\\chr_x\\\\W23060-1~A.0029.K.jpg.X.bmp',\n",
       "   'D:\\\\Users\\\\Chuan\\\\Documents\\\\Database\\\\Karyotypes\\\\Arrangement_Merged\\\\chr_x\\\\W23060-1~A.0032.K.jpg.X.bmp',\n",
       "   'D:\\\\Users\\\\Chuan\\\\Documents\\\\Database\\\\Karyotypes\\\\Arrangement_Merged\\\\chr_x\\\\W23060-1~A.0033.K.jpg.X.bmp',\n",
       "   'D:\\\\Users\\\\Chuan\\\\Documents\\\\Database\\\\Karyotypes\\\\Arrangement_Merged\\\\chr_x\\\\W23060-1~A.0035.K.jpg.X.bmp',\n",
       "   'D:\\\\Users\\\\Chuan\\\\Documents\\\\Database\\\\Karyotypes\\\\Arrangement_Merged\\\\chr_x\\\\W23060-1~A.0042.K.jpg.X.bmp',\n",
       "   'D:\\\\Users\\\\Chuan\\\\Documents\\\\Database\\\\Karyotypes\\\\Arrangement_Merged\\\\chr_x\\\\W23060-1~A.0046.K.jpg.X.bmp',\n",
       "   'D:\\\\Users\\\\Chuan\\\\Documents\\\\Database\\\\Karyotypes\\\\Arrangement_Merged\\\\chr_x\\\\W23060-CW190327.jpg.X.bmp',\n",
       "   'D:\\\\Users\\\\Chuan\\\\Documents\\\\Database\\\\Karyotypes\\\\Arrangement_Merged\\\\chr_x\\\\W23070~A.0001.K.jpg.X.bmp',\n",
       "   'D:\\\\Users\\\\Chuan\\\\Documents\\\\Database\\\\Karyotypes\\\\Arrangement_Merged\\\\chr_x\\\\W23075-1~A.0017.K.jpg.X.bmp',\n",
       "   'D:\\\\Users\\\\Chuan\\\\Documents\\\\Database\\\\Karyotypes\\\\Arrangement_Merged\\\\chr_x\\\\W23082.0026.K.jpg.X.bmp',\n",
       "   'D:\\\\Users\\\\Chuan\\\\Documents\\\\Database\\\\Karyotypes\\\\Arrangement_Merged\\\\chr_x\\\\w25443~A.0005.K.jpg.X.bmp',\n",
       "   'D:\\\\Users\\\\Chuan\\\\Documents\\\\Database\\\\Karyotypes\\\\Arrangement_Merged\\\\chr_x\\\\w25443~A.0006.K.jpg.X.bmp',\n",
       "   'D:\\\\Users\\\\Chuan\\\\Documents\\\\Database\\\\Karyotypes\\\\Arrangement_Merged\\\\chr_x\\\\w25443~A.0010.K.jpg.X.bmp',\n",
       "   'D:\\\\Users\\\\Chuan\\\\Documents\\\\Database\\\\Karyotypes\\\\Arrangement_Merged\\\\chr_x\\\\w25443~A.0014.K.jpg.X.bmp',\n",
       "   'D:\\\\Users\\\\Chuan\\\\Documents\\\\Database\\\\Karyotypes\\\\Arrangement_Merged\\\\chr_x\\\\w25443~A.0031.K.jpg.X.bmp',\n",
       "   'D:\\\\Users\\\\Chuan\\\\Documents\\\\Database\\\\Karyotypes\\\\Arrangement_Merged\\\\chr_x\\\\w25443~A.0032.K.jpg.X.bmp',\n",
       "   'D:\\\\Users\\\\Chuan\\\\Documents\\\\Database\\\\Karyotypes\\\\Arrangement_Merged\\\\chr_x\\\\w25443~A.0033.K.jpg.X.bmp',\n",
       "   'D:\\\\Users\\\\Chuan\\\\Documents\\\\Database\\\\Karyotypes\\\\Arrangement_Merged\\\\chr_x\\\\w25443~A.0035.K.jpg.X.bmp',\n",
       "   'D:\\\\Users\\\\Chuan\\\\Documents\\\\Database\\\\Karyotypes\\\\Arrangement_Merged\\\\chr_x\\\\w25443~A.0036.K.jpg.X.bmp',\n",
       "   'D:\\\\Users\\\\Chuan\\\\Documents\\\\Database\\\\Karyotypes\\\\Arrangement_Merged\\\\chr_x\\\\w25443~A.0038.K.jpg.X.bmp',\n",
       "   'D:\\\\Users\\\\Chuan\\\\Documents\\\\Database\\\\Karyotypes\\\\Arrangement_Merged\\\\chr_x\\\\w25443~A.0040.K.jpg.X.bmp',\n",
       "   'D:\\\\Users\\\\Chuan\\\\Documents\\\\Database\\\\Karyotypes\\\\Arrangement_Merged\\\\chr_x\\\\w25443~A.0041.K.jpg.X.bmp',\n",
       "   'D:\\\\Users\\\\Chuan\\\\Documents\\\\Database\\\\Karyotypes\\\\Arrangement_Merged\\\\chr_x\\\\w25443~A.0043.K.jpg.X.bmp',\n",
       "   'D:\\\\Users\\\\Chuan\\\\Documents\\\\Database\\\\Karyotypes\\\\Arrangement_Merged\\\\chr_x\\\\W28055-1~A.0001.X.bmp',\n",
       "   'D:\\\\Users\\\\Chuan\\\\Documents\\\\Database\\\\Karyotypes\\\\Arrangement_Merged\\\\chr_x\\\\W28055-1~A.0002.X.bmp',\n",
       "   'D:\\\\Users\\\\Chuan\\\\Documents\\\\Database\\\\Karyotypes\\\\Arrangement_Merged\\\\chr_x\\\\W28055-1~A.0006.X.bmp',\n",
       "   'D:\\\\Users\\\\Chuan\\\\Documents\\\\Database\\\\Karyotypes\\\\Arrangement_Merged\\\\chr_x\\\\W28055-1~A.0009.X.bmp',\n",
       "   'D:\\\\Users\\\\Chuan\\\\Documents\\\\Database\\\\Karyotypes\\\\Arrangement_Merged\\\\chr_x\\\\W28055-1~A.0010.X.bmp',\n",
       "   'D:\\\\Users\\\\Chuan\\\\Documents\\\\Database\\\\Karyotypes\\\\Arrangement_Merged\\\\chr_x\\\\W28055-1~A.0013.X.bmp',\n",
       "   'D:\\\\Users\\\\Chuan\\\\Documents\\\\Database\\\\Karyotypes\\\\Arrangement_Merged\\\\chr_x\\\\W28055-1~A.0016.X.bmp',\n",
       "   'D:\\\\Users\\\\Chuan\\\\Documents\\\\Database\\\\Karyotypes\\\\Arrangement_Merged\\\\chr_x\\\\W28055-1~A.0021.X.bmp',\n",
       "   'D:\\\\Users\\\\Chuan\\\\Documents\\\\Database\\\\Karyotypes\\\\Arrangement_Merged\\\\chr_x\\\\W28055-1~A.0022.X.bmp',\n",
       "   'D:\\\\Users\\\\Chuan\\\\Documents\\\\Database\\\\Karyotypes\\\\Arrangement_Merged\\\\chr_x\\\\W28055-1~A.0037.X.bmp',\n",
       "   'D:\\\\Users\\\\Chuan\\\\Documents\\\\Database\\\\Karyotypes\\\\Arrangement_Merged\\\\chr_x\\\\W28055-1~A.0039.K.jpg.X.bmp',\n",
       "   'D:\\\\Users\\\\Chuan\\\\Documents\\\\Database\\\\Karyotypes\\\\Arrangement_Merged\\\\chr_x\\\\W28055~A.0010.X.bmp',\n",
       "   'D:\\\\Users\\\\Chuan\\\\Documents\\\\Database\\\\Karyotypes\\\\Arrangement_Merged\\\\chr_x\\\\W28055~A.0012.X.bmp'],\n",
       "  '3': ['D:\\\\Users\\\\Chuan\\\\Documents\\\\Database\\\\Karyotypes\\\\Arrangement_Merged\\\\chr_x\\\\191128-del(X)(p22)-10L.bmp',\n",
       "   'D:\\\\Users\\\\Chuan\\\\Documents\\\\Database\\\\Karyotypes\\\\Arrangement_Merged\\\\chr_x\\\\191128-del(X)(p22)-11L.bmp',\n",
       "   'D:\\\\Users\\\\Chuan\\\\Documents\\\\Database\\\\Karyotypes\\\\Arrangement_Merged\\\\chr_x\\\\191128-del(X)(p22)-12L.bmp',\n",
       "   'D:\\\\Users\\\\Chuan\\\\Documents\\\\Database\\\\Karyotypes\\\\Arrangement_Merged\\\\chr_x\\\\191128-del(X)(p22)-14L.bmp',\n",
       "   'D:\\\\Users\\\\Chuan\\\\Documents\\\\Database\\\\Karyotypes\\\\Arrangement_Merged\\\\chr_x\\\\191128-del(X)(p22)-15L.bmp',\n",
       "   'D:\\\\Users\\\\Chuan\\\\Documents\\\\Database\\\\Karyotypes\\\\Arrangement_Merged\\\\chr_x\\\\191128-del(X)(p22)-16L.bmp',\n",
       "   'D:\\\\Users\\\\Chuan\\\\Documents\\\\Database\\\\Karyotypes\\\\Arrangement_Merged\\\\chr_x\\\\191128-del(X)(p22)-17L.bmp',\n",
       "   'D:\\\\Users\\\\Chuan\\\\Documents\\\\Database\\\\Karyotypes\\\\Arrangement_Merged\\\\chr_x\\\\191128-del(X)(p22)-18L.bmp',\n",
       "   'D:\\\\Users\\\\Chuan\\\\Documents\\\\Database\\\\Karyotypes\\\\Arrangement_Merged\\\\chr_x\\\\191128-del(X)(p22)-20L.bmp',\n",
       "   'D:\\\\Users\\\\Chuan\\\\Documents\\\\Database\\\\Karyotypes\\\\Arrangement_Merged\\\\chr_x\\\\191128-del(X)(p22)-21L.bmp',\n",
       "   'D:\\\\Users\\\\Chuan\\\\Documents\\\\Database\\\\Karyotypes\\\\Arrangement_Merged\\\\chr_x\\\\191128-del(X)(p22)-22L.bmp',\n",
       "   'D:\\\\Users\\\\Chuan\\\\Documents\\\\Database\\\\Karyotypes\\\\Arrangement_Merged\\\\chr_x\\\\191128-del(X)(p22)-2L.bmp',\n",
       "   'D:\\\\Users\\\\Chuan\\\\Documents\\\\Database\\\\Karyotypes\\\\Arrangement_Merged\\\\chr_x\\\\191128-del(X)(p22)-4L.bmp',\n",
       "   'D:\\\\Users\\\\Chuan\\\\Documents\\\\Database\\\\Karyotypes\\\\Arrangement_Merged\\\\chr_x\\\\191128-del(X)(p22)-6L.bmp',\n",
       "   'D:\\\\Users\\\\Chuan\\\\Documents\\\\Database\\\\Karyotypes\\\\Arrangement_Merged\\\\chr_x\\\\191128-del(X)(p22)-7L.bmp',\n",
       "   'D:\\\\Users\\\\Chuan\\\\Documents\\\\Database\\\\Karyotypes\\\\Arrangement_Merged\\\\chr_x\\\\191128-del(X)(p22)-8L.bmp',\n",
       "   'D:\\\\Users\\\\Chuan\\\\Documents\\\\Database\\\\Karyotypes\\\\Arrangement_Merged\\\\chr_x\\\\191128-del(X)(p22)-9L.bmp',\n",
       "   'D:\\\\Users\\\\Chuan\\\\Documents\\\\Database\\\\Karyotypes\\\\Arrangement_Merged\\\\chr_x\\\\192478-delXq21-10L.bmp',\n",
       "   'D:\\\\Users\\\\Chuan\\\\Documents\\\\Database\\\\Karyotypes\\\\Arrangement_Merged\\\\chr_x\\\\192478-delXq21-11L.bmp',\n",
       "   'D:\\\\Users\\\\Chuan\\\\Documents\\\\Database\\\\Karyotypes\\\\Arrangement_Merged\\\\chr_x\\\\192478-delXq21-14L.bmp',\n",
       "   'D:\\\\Users\\\\Chuan\\\\Documents\\\\Database\\\\Karyotypes\\\\Arrangement_Merged\\\\chr_x\\\\192478-delXq21-17L.bmp',\n",
       "   'D:\\\\Users\\\\Chuan\\\\Documents\\\\Database\\\\Karyotypes\\\\Arrangement_Merged\\\\chr_x\\\\192478-delXq21-18L.bmp',\n",
       "   'D:\\\\Users\\\\Chuan\\\\Documents\\\\Database\\\\Karyotypes\\\\Arrangement_Merged\\\\chr_x\\\\192478-delXq21-19L.bmp',\n",
       "   'D:\\\\Users\\\\Chuan\\\\Documents\\\\Database\\\\Karyotypes\\\\Arrangement_Merged\\\\chr_x\\\\192478-delXq21-1L.bmp',\n",
       "   'D:\\\\Users\\\\Chuan\\\\Documents\\\\Database\\\\Karyotypes\\\\Arrangement_Merged\\\\chr_x\\\\192478-delXq21-21L.bmp',\n",
       "   'D:\\\\Users\\\\Chuan\\\\Documents\\\\Database\\\\Karyotypes\\\\Arrangement_Merged\\\\chr_x\\\\192478-delXq21-23L.bmp',\n",
       "   'D:\\\\Users\\\\Chuan\\\\Documents\\\\Database\\\\Karyotypes\\\\Arrangement_Merged\\\\chr_x\\\\192478-delXq21-24L.bmp',\n",
       "   'D:\\\\Users\\\\Chuan\\\\Documents\\\\Database\\\\Karyotypes\\\\Arrangement_Merged\\\\chr_x\\\\192478-delXq21-25L.bmp',\n",
       "   'D:\\\\Users\\\\Chuan\\\\Documents\\\\Database\\\\Karyotypes\\\\Arrangement_Merged\\\\chr_x\\\\192478-delXq21-27L.bmp',\n",
       "   'D:\\\\Users\\\\Chuan\\\\Documents\\\\Database\\\\Karyotypes\\\\Arrangement_Merged\\\\chr_x\\\\192478-delXq21-28L.bmp',\n",
       "   'D:\\\\Users\\\\Chuan\\\\Documents\\\\Database\\\\Karyotypes\\\\Arrangement_Merged\\\\chr_x\\\\192478-delXq21-2L.bmp',\n",
       "   'D:\\\\Users\\\\Chuan\\\\Documents\\\\Database\\\\Karyotypes\\\\Arrangement_Merged\\\\chr_x\\\\192478-delXq21-31L.bmp',\n",
       "   'D:\\\\Users\\\\Chuan\\\\Documents\\\\Database\\\\Karyotypes\\\\Arrangement_Merged\\\\chr_x\\\\192478-delXq21-3L.bmp',\n",
       "   'D:\\\\Users\\\\Chuan\\\\Documents\\\\Database\\\\Karyotypes\\\\Arrangement_Merged\\\\chr_x\\\\192478-delXq21-4L.bmp',\n",
       "   'D:\\\\Users\\\\Chuan\\\\Documents\\\\Database\\\\Karyotypes\\\\Arrangement_Merged\\\\chr_x\\\\192478-delXq21-6L.bmp',\n",
       "   'D:\\\\Users\\\\Chuan\\\\Documents\\\\Database\\\\Karyotypes\\\\Arrangement_Merged\\\\chr_x\\\\192478-delXq21-7L.bmp',\n",
       "   'D:\\\\Users\\\\Chuan\\\\Documents\\\\Database\\\\Karyotypes\\\\Arrangement_Merged\\\\chr_x\\\\192478-delXq21-9L.bmp',\n",
       "   'D:\\\\Users\\\\Chuan\\\\Documents\\\\Database\\\\Karyotypes\\\\Arrangement_Merged\\\\chr_x\\\\87092-i(X)(q10)-10L.bmp',\n",
       "   'D:\\\\Users\\\\Chuan\\\\Documents\\\\Database\\\\Karyotypes\\\\Arrangement_Merged\\\\chr_x\\\\87092-i(X)(q10)-12L.bmp',\n",
       "   'D:\\\\Users\\\\Chuan\\\\Documents\\\\Database\\\\Karyotypes\\\\Arrangement_Merged\\\\chr_x\\\\87092-i(X)(q10)-13L.bmp',\n",
       "   'D:\\\\Users\\\\Chuan\\\\Documents\\\\Database\\\\Karyotypes\\\\Arrangement_Merged\\\\chr_x\\\\87092-i(X)(q10)-14L.bmp',\n",
       "   'D:\\\\Users\\\\Chuan\\\\Documents\\\\Database\\\\Karyotypes\\\\Arrangement_Merged\\\\chr_x\\\\87092-i(X)(q10)-15L.bmp',\n",
       "   'D:\\\\Users\\\\Chuan\\\\Documents\\\\Database\\\\Karyotypes\\\\Arrangement_Merged\\\\chr_x\\\\87092-i(X)(q10)-16L.bmp',\n",
       "   'D:\\\\Users\\\\Chuan\\\\Documents\\\\Database\\\\Karyotypes\\\\Arrangement_Merged\\\\chr_x\\\\87092-i(X)(q10)-17L.bmp',\n",
       "   'D:\\\\Users\\\\Chuan\\\\Documents\\\\Database\\\\Karyotypes\\\\Arrangement_Merged\\\\chr_x\\\\87092-i(X)(q10)-18L.bmp',\n",
       "   'D:\\\\Users\\\\Chuan\\\\Documents\\\\Database\\\\Karyotypes\\\\Arrangement_Merged\\\\chr_x\\\\87092-i(X)(q10)-19L.bmp',\n",
       "   'D:\\\\Users\\\\Chuan\\\\Documents\\\\Database\\\\Karyotypes\\\\Arrangement_Merged\\\\chr_x\\\\87092-i(X)(q10)-20L.bmp',\n",
       "   'D:\\\\Users\\\\Chuan\\\\Documents\\\\Database\\\\Karyotypes\\\\Arrangement_Merged\\\\chr_x\\\\87092-i(X)(q10)-21L.bmp',\n",
       "   'D:\\\\Users\\\\Chuan\\\\Documents\\\\Database\\\\Karyotypes\\\\Arrangement_Merged\\\\chr_x\\\\87092-i(X)(q10)-22L.bmp',\n",
       "   'D:\\\\Users\\\\Chuan\\\\Documents\\\\Database\\\\Karyotypes\\\\Arrangement_Merged\\\\chr_x\\\\87092-i(X)(q10)-25L.bmp',\n",
       "   'D:\\\\Users\\\\Chuan\\\\Documents\\\\Database\\\\Karyotypes\\\\Arrangement_Merged\\\\chr_x\\\\87092-i(X)(q10)-26L.bmp',\n",
       "   'D:\\\\Users\\\\Chuan\\\\Documents\\\\Database\\\\Karyotypes\\\\Arrangement_Merged\\\\chr_x\\\\87092-i(X)(q10)-27L.bmp',\n",
       "   'D:\\\\Users\\\\Chuan\\\\Documents\\\\Database\\\\Karyotypes\\\\Arrangement_Merged\\\\chr_x\\\\87092-i(X)(q10)-28L.bmp',\n",
       "   'D:\\\\Users\\\\Chuan\\\\Documents\\\\Database\\\\Karyotypes\\\\Arrangement_Merged\\\\chr_x\\\\87092-i(X)(q10)-29L.bmp',\n",
       "   'D:\\\\Users\\\\Chuan\\\\Documents\\\\Database\\\\Karyotypes\\\\Arrangement_Merged\\\\chr_x\\\\87092-i(X)(q10)-2L.bmp',\n",
       "   'D:\\\\Users\\\\Chuan\\\\Documents\\\\Database\\\\Karyotypes\\\\Arrangement_Merged\\\\chr_x\\\\87092-i(X)(q10)-3L.bmp',\n",
       "   'D:\\\\Users\\\\Chuan\\\\Documents\\\\Database\\\\Karyotypes\\\\Arrangement_Merged\\\\chr_x\\\\87092-i(X)(q10)-4L.bmp',\n",
       "   'D:\\\\Users\\\\Chuan\\\\Documents\\\\Database\\\\Karyotypes\\\\Arrangement_Merged\\\\chr_x\\\\87092-i(X)(q10)-5L.bmp',\n",
       "   'D:\\\\Users\\\\Chuan\\\\Documents\\\\Database\\\\Karyotypes\\\\Arrangement_Merged\\\\chr_x\\\\87092-i(X)(q10)-6L.bmp',\n",
       "   'D:\\\\Users\\\\Chuan\\\\Documents\\\\Database\\\\Karyotypes\\\\Arrangement_Merged\\\\chr_x\\\\87092-i(X)(q10)-7L.bmp',\n",
       "   'D:\\\\Users\\\\Chuan\\\\Documents\\\\Database\\\\Karyotypes\\\\Arrangement_Merged\\\\chr_x\\\\W17068~A.0003.K.jpg.X.bmp',\n",
       "   'D:\\\\Users\\\\Chuan\\\\Documents\\\\Database\\\\Karyotypes\\\\Arrangement_Merged\\\\chr_x\\\\W17068~A.0004.K.jpg.X.bmp',\n",
       "   'D:\\\\Users\\\\Chuan\\\\Documents\\\\Database\\\\Karyotypes\\\\Arrangement_Merged\\\\chr_x\\\\W17068~A.0006.K.jpg.X.bmp',\n",
       "   'D:\\\\Users\\\\Chuan\\\\Documents\\\\Database\\\\Karyotypes\\\\Arrangement_Merged\\\\chr_x\\\\W17068~A.0009.K.X.bmp',\n",
       "   'D:\\\\Users\\\\Chuan\\\\Documents\\\\Database\\\\Karyotypes\\\\Arrangement_Merged\\\\chr_x\\\\W17068~A.0010.K.X.bmp',\n",
       "   'D:\\\\Users\\\\Chuan\\\\Documents\\\\Database\\\\Karyotypes\\\\Arrangement_Merged\\\\chr_x\\\\W17068~A.0012.K.X.bmp',\n",
       "   'D:\\\\Users\\\\Chuan\\\\Documents\\\\Database\\\\Karyotypes\\\\Arrangement_Merged\\\\chr_x\\\\W17068~A.0014.K.X.bmp',\n",
       "   'D:\\\\Users\\\\Chuan\\\\Documents\\\\Database\\\\Karyotypes\\\\Arrangement_Merged\\\\chr_x\\\\W17068~A.0016.K.X.bmp',\n",
       "   'D:\\\\Users\\\\Chuan\\\\Documents\\\\Database\\\\Karyotypes\\\\Arrangement_Merged\\\\chr_x\\\\W17068~A.0019.K.X.bmp',\n",
       "   'D:\\\\Users\\\\Chuan\\\\Documents\\\\Database\\\\Karyotypes\\\\Arrangement_Merged\\\\chr_x\\\\W17068~A.0020.K.X.bmp',\n",
       "   'D:\\\\Users\\\\Chuan\\\\Documents\\\\Database\\\\Karyotypes\\\\Arrangement_Merged\\\\chr_x\\\\W17068~A.0023.K.X.bmp',\n",
       "   'D:\\\\Users\\\\Chuan\\\\Documents\\\\Database\\\\Karyotypes\\\\Arrangement_Merged\\\\chr_x\\\\W17068~A.0024.X_.bmp',\n",
       "   'D:\\\\Users\\\\Chuan\\\\Documents\\\\Database\\\\Karyotypes\\\\Arrangement_Merged\\\\chr_x\\\\W17068~A.0025.X.bmp',\n",
       "   'D:\\\\Users\\\\Chuan\\\\Documents\\\\Database\\\\Karyotypes\\\\Arrangement_Merged\\\\chr_x\\\\W17068~A.0026.X.bmp',\n",
       "   'D:\\\\Users\\\\Chuan\\\\Documents\\\\Database\\\\Karyotypes\\\\Arrangement_Merged\\\\chr_x\\\\W17068~A.0034.K.jpg.X.bmp',\n",
       "   'D:\\\\Users\\\\Chuan\\\\Documents\\\\Database\\\\Karyotypes\\\\Arrangement_Merged\\\\chr_x\\\\W17068~A.0036.K.jpg.X.bmp',\n",
       "   'D:\\\\Users\\\\Chuan\\\\Documents\\\\Database\\\\Karyotypes\\\\Arrangement_Merged\\\\chr_x\\\\W17068~A.0039.K.jpg.X.bmp',\n",
       "   'D:\\\\Users\\\\Chuan\\\\Documents\\\\Database\\\\Karyotypes\\\\Arrangement_Merged\\\\chr_x\\\\w21000~A.0001.K.jpg.X.bmp',\n",
       "   'D:\\\\Users\\\\Chuan\\\\Documents\\\\Database\\\\Karyotypes\\\\Arrangement_Merged\\\\chr_x\\\\w21000~A.0001.K.jpg.XR.bmp',\n",
       "   'D:\\\\Users\\\\Chuan\\\\Documents\\\\Database\\\\Karyotypes\\\\Arrangement_Merged\\\\chr_x\\\\w21001~A.0008.K.jpg.x.bmp',\n",
       "   'D:\\\\Users\\\\Chuan\\\\Documents\\\\Database\\\\Karyotypes\\\\Arrangement_Merged\\\\chr_x\\\\w21002~A.0024.K.jpg.x.bmp',\n",
       "   'D:\\\\Users\\\\Chuan\\\\Documents\\\\Database\\\\Karyotypes\\\\Arrangement_Merged\\\\chr_x\\\\w21008~A.0008.K.jpg.XR.bmp',\n",
       "   'D:\\\\Users\\\\Chuan\\\\Documents\\\\Database\\\\Karyotypes\\\\Arrangement_Merged\\\\chr_x\\\\W21011~A.0008.K.XL.bmp',\n",
       "   'D:\\\\Users\\\\Chuan\\\\Documents\\\\Database\\\\Karyotypes\\\\Arrangement_Merged\\\\chr_x\\\\W21011~A.0008.K.XR.bmp',\n",
       "   'D:\\\\Users\\\\Chuan\\\\Documents\\\\Database\\\\Karyotypes\\\\Arrangement_Merged\\\\chr_x\\\\W21012~A.0019.K.XR.bmp',\n",
       "   'D:\\\\Users\\\\Chuan\\\\Documents\\\\Database\\\\Karyotypes\\\\Arrangement_Merged\\\\chr_x\\\\W21014~A.0005.K.X.bmp',\n",
       "   'D:\\\\Users\\\\Chuan\\\\Documents\\\\Database\\\\Karyotypes\\\\Arrangement_Merged\\\\chr_x\\\\W21022~A.0007.K.jpg.XL.bmp',\n",
       "   'D:\\\\Users\\\\Chuan\\\\Documents\\\\Database\\\\Karyotypes\\\\Arrangement_Merged\\\\chr_x\\\\W21022~A.0007.K.jpg.XR.bmp',\n",
       "   'D:\\\\Users\\\\Chuan\\\\Documents\\\\Database\\\\Karyotypes\\\\Arrangement_Merged\\\\chr_x\\\\W21027~A.0003.K.X.bmp',\n",
       "   'D:\\\\Users\\\\Chuan\\\\Documents\\\\Database\\\\Karyotypes\\\\Arrangement_Merged\\\\chr_x\\\\W21563~A.0006.K.x.bmp',\n",
       "   'D:\\\\Users\\\\Chuan\\\\Documents\\\\Database\\\\Karyotypes\\\\Arrangement_Merged\\\\chr_x\\\\W21570~A.0001.K.jpg.X.bmp',\n",
       "   'D:\\\\Users\\\\Chuan\\\\Documents\\\\Database\\\\Karyotypes\\\\Arrangement_Merged\\\\chr_x\\\\W21576~A.0010.K.jpg.X.bmp',\n",
       "   'D:\\\\Users\\\\Chuan\\\\Documents\\\\Database\\\\Karyotypes\\\\Arrangement_Merged\\\\chr_x\\\\W21587~A.0008.K.jpg.X.bmp',\n",
       "   'D:\\\\Users\\\\Chuan\\\\Documents\\\\Database\\\\Karyotypes\\\\Arrangement_Merged\\\\chr_x\\\\W21587~A.0010.K.jpg.X.bmp',\n",
       "   'D:\\\\Users\\\\Chuan\\\\Documents\\\\Database\\\\Karyotypes\\\\Arrangement_Merged\\\\chr_x\\\\W21588~A.0001.K.jpg.X.bmp',\n",
       "   'D:\\\\Users\\\\Chuan\\\\Documents\\\\Database\\\\Karyotypes\\\\Arrangement_Merged\\\\chr_x\\\\W21766~A.0025.K.jpg.X.bmp',\n",
       "   'D:\\\\Users\\\\Chuan\\\\Documents\\\\Database\\\\Karyotypes\\\\Arrangement_Merged\\\\chr_x\\\\W21890~A.0005.K.jpg.XL.bmp',\n",
       "   'D:\\\\Users\\\\Chuan\\\\Documents\\\\Database\\\\Karyotypes\\\\Arrangement_Merged\\\\chr_x\\\\W21890~A.0005.K.jpg.XR.bmp',\n",
       "   'D:\\\\Users\\\\Chuan\\\\Documents\\\\Database\\\\Karyotypes\\\\Arrangement_Merged\\\\chr_x\\\\W21894~A.0009.K.jpg.X.bmp',\n",
       "   'D:\\\\Users\\\\Chuan\\\\Documents\\\\Database\\\\Karyotypes\\\\Arrangement_Merged\\\\chr_x\\\\W21902~A.0010.K.jpg.X.bmp',\n",
       "   'D:\\\\Users\\\\Chuan\\\\Documents\\\\Database\\\\Karyotypes\\\\Arrangement_Merged\\\\chr_x\\\\W21905~A.0007.K.jpg.X.bmp',\n",
       "   'D:\\\\Users\\\\Chuan\\\\Documents\\\\Database\\\\Karyotypes\\\\Arrangement_Merged\\\\chr_x\\\\W21906~A.0011.K.jpg.X.bmp',\n",
       "   'D:\\\\Users\\\\Chuan\\\\Documents\\\\Database\\\\Karyotypes\\\\Arrangement_Merged\\\\chr_x\\\\W22455~A.0002.K.jpg.X.bmp',\n",
       "   'D:\\\\Users\\\\Chuan\\\\Documents\\\\Database\\\\Karyotypes\\\\Arrangement_Merged\\\\chr_x\\\\W22666-1.0002.K.jpg.X.bmp',\n",
       "   'D:\\\\Users\\\\Chuan\\\\Documents\\\\Database\\\\Karyotypes\\\\Arrangement_Merged\\\\chr_x\\\\W22670~A.0006.K.jpg.X.bmp',\n",
       "   'D:\\\\Users\\\\Chuan\\\\Documents\\\\Database\\\\Karyotypes\\\\Arrangement_Merged\\\\chr_x\\\\w22881~A.0017.K.jpg.X.bmp',\n",
       "   'D:\\\\Users\\\\Chuan\\\\Documents\\\\Database\\\\Karyotypes\\\\Arrangement_Merged\\\\chr_x\\\\W23060-1~A.0003.K.jpg.X.bmp',\n",
       "   'D:\\\\Users\\\\Chuan\\\\Documents\\\\Database\\\\Karyotypes\\\\Arrangement_Merged\\\\chr_x\\\\W23060-1~A.0005.K.jpg.X.bmp',\n",
       "   'D:\\\\Users\\\\Chuan\\\\Documents\\\\Database\\\\Karyotypes\\\\Arrangement_Merged\\\\chr_x\\\\W23060-1~A.0007.K.jpg.X.bmp',\n",
       "   'D:\\\\Users\\\\Chuan\\\\Documents\\\\Database\\\\Karyotypes\\\\Arrangement_Merged\\\\chr_x\\\\W23060-1~A.0018.K.jpg.X.bmp',\n",
       "   'D:\\\\Users\\\\Chuan\\\\Documents\\\\Database\\\\Karyotypes\\\\Arrangement_Merged\\\\chr_x\\\\W23060-1~A.0025.K.jpg.X.bmp',\n",
       "   'D:\\\\Users\\\\Chuan\\\\Documents\\\\Database\\\\Karyotypes\\\\Arrangement_Merged\\\\chr_x\\\\W23060-1~A.0029.K.jpg.X.bmp',\n",
       "   'D:\\\\Users\\\\Chuan\\\\Documents\\\\Database\\\\Karyotypes\\\\Arrangement_Merged\\\\chr_x\\\\W23060-1~A.0032.K.jpg.X.bmp',\n",
       "   'D:\\\\Users\\\\Chuan\\\\Documents\\\\Database\\\\Karyotypes\\\\Arrangement_Merged\\\\chr_x\\\\W23060-1~A.0033.K.jpg.X.bmp',\n",
       "   'D:\\\\Users\\\\Chuan\\\\Documents\\\\Database\\\\Karyotypes\\\\Arrangement_Merged\\\\chr_x\\\\W23060-1~A.0035.K.jpg.X.bmp',\n",
       "   'D:\\\\Users\\\\Chuan\\\\Documents\\\\Database\\\\Karyotypes\\\\Arrangement_Merged\\\\chr_x\\\\W23060-1~A.0040.K.jpg.X.bmp',\n",
       "   'D:\\\\Users\\\\Chuan\\\\Documents\\\\Database\\\\Karyotypes\\\\Arrangement_Merged\\\\chr_x\\\\W23060-1~A.0042.K.jpg.X.bmp',\n",
       "   'D:\\\\Users\\\\Chuan\\\\Documents\\\\Database\\\\Karyotypes\\\\Arrangement_Merged\\\\chr_x\\\\W23060-1~A.0046.K.jpg.X.bmp',\n",
       "   'D:\\\\Users\\\\Chuan\\\\Documents\\\\Database\\\\Karyotypes\\\\Arrangement_Merged\\\\chr_x\\\\W23060-CW190327.jpg.X.bmp',\n",
       "   'D:\\\\Users\\\\Chuan\\\\Documents\\\\Database\\\\Karyotypes\\\\Arrangement_Merged\\\\chr_x\\\\W23075-1~A.0017.K.jpg.X.bmp',\n",
       "   'D:\\\\Users\\\\Chuan\\\\Documents\\\\Database\\\\Karyotypes\\\\Arrangement_Merged\\\\chr_x\\\\W23084~A.0003.K.jp.X.bmp',\n",
       "   'D:\\\\Users\\\\Chuan\\\\Documents\\\\Database\\\\Karyotypes\\\\Arrangement_Merged\\\\chr_x\\\\w25443~A.0001.K.jpg.X.bmp',\n",
       "   'D:\\\\Users\\\\Chuan\\\\Documents\\\\Database\\\\Karyotypes\\\\Arrangement_Merged\\\\chr_x\\\\w25443~A.0004.K.jpg.X.bmp',\n",
       "   'D:\\\\Users\\\\Chuan\\\\Documents\\\\Database\\\\Karyotypes\\\\Arrangement_Merged\\\\chr_x\\\\w25443~A.0005.K.jpg.X.bmp',\n",
       "   'D:\\\\Users\\\\Chuan\\\\Documents\\\\Database\\\\Karyotypes\\\\Arrangement_Merged\\\\chr_x\\\\w25443~A.0007.K.jpg.X.bmp',\n",
       "   'D:\\\\Users\\\\Chuan\\\\Documents\\\\Database\\\\Karyotypes\\\\Arrangement_Merged\\\\chr_x\\\\w25443~A.0010.K.jpg.X.bmp',\n",
       "   'D:\\\\Users\\\\Chuan\\\\Documents\\\\Database\\\\Karyotypes\\\\Arrangement_Merged\\\\chr_x\\\\w25443~A.0014.K.jpg.X.bmp',\n",
       "   'D:\\\\Users\\\\Chuan\\\\Documents\\\\Database\\\\Karyotypes\\\\Arrangement_Merged\\\\chr_x\\\\w25443~A.0023.K.jpg.X.bmp',\n",
       "   'D:\\\\Users\\\\Chuan\\\\Documents\\\\Database\\\\Karyotypes\\\\Arrangement_Merged\\\\chr_x\\\\w25443~A.0031.K.jpg.X.bmp',\n",
       "   'D:\\\\Users\\\\Chuan\\\\Documents\\\\Database\\\\Karyotypes\\\\Arrangement_Merged\\\\chr_x\\\\w25443~A.0035.K.jpg.X.bmp',\n",
       "   'D:\\\\Users\\\\Chuan\\\\Documents\\\\Database\\\\Karyotypes\\\\Arrangement_Merged\\\\chr_x\\\\w25443~A.0036.K.jpg.X.bmp',\n",
       "   'D:\\\\Users\\\\Chuan\\\\Documents\\\\Database\\\\Karyotypes\\\\Arrangement_Merged\\\\chr_x\\\\w25443~A.0037.K.jpg.X.bmp',\n",
       "   'D:\\\\Users\\\\Chuan\\\\Documents\\\\Database\\\\Karyotypes\\\\Arrangement_Merged\\\\chr_x\\\\w25443~A.0038.K.jpg.X.bmp',\n",
       "   'D:\\\\Users\\\\Chuan\\\\Documents\\\\Database\\\\Karyotypes\\\\Arrangement_Merged\\\\chr_x\\\\w25443~A.0040.K.jpg.X.bmp',\n",
       "   'D:\\\\Users\\\\Chuan\\\\Documents\\\\Database\\\\Karyotypes\\\\Arrangement_Merged\\\\chr_x\\\\w25443~A.0041.K.jpg.X.bmp',\n",
       "   'D:\\\\Users\\\\Chuan\\\\Documents\\\\Database\\\\Karyotypes\\\\Arrangement_Merged\\\\chr_x\\\\w25443~A.0043.K.jpg.X.bmp',\n",
       "   'D:\\\\Users\\\\Chuan\\\\Documents\\\\Database\\\\Karyotypes\\\\Arrangement_Merged\\\\chr_x\\\\w25443~A.0047.K.jpg.X.bmp',\n",
       "   'D:\\\\Users\\\\Chuan\\\\Documents\\\\Database\\\\Karyotypes\\\\Arrangement_Merged\\\\chr_x\\\\W28055-1~A.0001.X.bmp',\n",
       "   'D:\\\\Users\\\\Chuan\\\\Documents\\\\Database\\\\Karyotypes\\\\Arrangement_Merged\\\\chr_x\\\\W28055-1~A.0006.X.bmp',\n",
       "   'D:\\\\Users\\\\Chuan\\\\Documents\\\\Database\\\\Karyotypes\\\\Arrangement_Merged\\\\chr_x\\\\W28055-1~A.0010.X.bmp',\n",
       "   'D:\\\\Users\\\\Chuan\\\\Documents\\\\Database\\\\Karyotypes\\\\Arrangement_Merged\\\\chr_x\\\\W28055-1~A.0012.X.bmp',\n",
       "   'D:\\\\Users\\\\Chuan\\\\Documents\\\\Database\\\\Karyotypes\\\\Arrangement_Merged\\\\chr_x\\\\W28055-1~A.0013.X.bmp',\n",
       "   'D:\\\\Users\\\\Chuan\\\\Documents\\\\Database\\\\Karyotypes\\\\Arrangement_Merged\\\\chr_x\\\\W28055-1~A.0015.X.bmp',\n",
       "   'D:\\\\Users\\\\Chuan\\\\Documents\\\\Database\\\\Karyotypes\\\\Arrangement_Merged\\\\chr_x\\\\W28055-1~A.0020.X.bmp',\n",
       "   'D:\\\\Users\\\\Chuan\\\\Documents\\\\Database\\\\Karyotypes\\\\Arrangement_Merged\\\\chr_x\\\\W28055-1~A.0022.X.bmp',\n",
       "   'D:\\\\Users\\\\Chuan\\\\Documents\\\\Database\\\\Karyotypes\\\\Arrangement_Merged\\\\chr_x\\\\W28055-1~A.0032.X.bmp',\n",
       "   'D:\\\\Users\\\\Chuan\\\\Documents\\\\Database\\\\Karyotypes\\\\Arrangement_Merged\\\\chr_x\\\\W28055-1~A.0037.X.bmp',\n",
       "   'D:\\\\Users\\\\Chuan\\\\Documents\\\\Database\\\\Karyotypes\\\\Arrangement_Merged\\\\chr_x\\\\W28055-1~A.0038.X.bmp',\n",
       "   'D:\\\\Users\\\\Chuan\\\\Documents\\\\Database\\\\Karyotypes\\\\Arrangement_Merged\\\\chr_x\\\\W28055-1~A.0039.K.jpg.X.bmp',\n",
       "   'D:\\\\Users\\\\Chuan\\\\Documents\\\\Database\\\\Karyotypes\\\\Arrangement_Merged\\\\chr_x\\\\W28055-1~A.0049.K.jpg.X.bmp',\n",
       "   'D:\\\\Users\\\\Chuan\\\\Documents\\\\Database\\\\Karyotypes\\\\Arrangement_Merged\\\\chr_x\\\\W28055~A.0010.X.bmp'],\n",
       "  '4': ['D:\\\\Users\\\\Chuan\\\\Documents\\\\Database\\\\Karyotypes\\\\Arrangement_Merged\\\\chr_x\\\\191128-del(X)(p22)-10L.bmp',\n",
       "   'D:\\\\Users\\\\Chuan\\\\Documents\\\\Database\\\\Karyotypes\\\\Arrangement_Merged\\\\chr_x\\\\191128-del(X)(p22)-12L.bmp',\n",
       "   'D:\\\\Users\\\\Chuan\\\\Documents\\\\Database\\\\Karyotypes\\\\Arrangement_Merged\\\\chr_x\\\\191128-del(X)(p22)-13L.bmp',\n",
       "   'D:\\\\Users\\\\Chuan\\\\Documents\\\\Database\\\\Karyotypes\\\\Arrangement_Merged\\\\chr_x\\\\191128-del(X)(p22)-14L.bmp',\n",
       "   'D:\\\\Users\\\\Chuan\\\\Documents\\\\Database\\\\Karyotypes\\\\Arrangement_Merged\\\\chr_x\\\\191128-del(X)(p22)-15L.bmp',\n",
       "   'D:\\\\Users\\\\Chuan\\\\Documents\\\\Database\\\\Karyotypes\\\\Arrangement_Merged\\\\chr_x\\\\191128-del(X)(p22)-16L.bmp',\n",
       "   'D:\\\\Users\\\\Chuan\\\\Documents\\\\Database\\\\Karyotypes\\\\Arrangement_Merged\\\\chr_x\\\\191128-del(X)(p22)-19L.bmp',\n",
       "   'D:\\\\Users\\\\Chuan\\\\Documents\\\\Database\\\\Karyotypes\\\\Arrangement_Merged\\\\chr_x\\\\191128-del(X)(p22)-1L.bmp',\n",
       "   'D:\\\\Users\\\\Chuan\\\\Documents\\\\Database\\\\Karyotypes\\\\Arrangement_Merged\\\\chr_x\\\\191128-del(X)(p22)-20L.bmp',\n",
       "   'D:\\\\Users\\\\Chuan\\\\Documents\\\\Database\\\\Karyotypes\\\\Arrangement_Merged\\\\chr_x\\\\191128-del(X)(p22)-21L.bmp',\n",
       "   'D:\\\\Users\\\\Chuan\\\\Documents\\\\Database\\\\Karyotypes\\\\Arrangement_Merged\\\\chr_x\\\\191128-del(X)(p22)-22L.bmp',\n",
       "   'D:\\\\Users\\\\Chuan\\\\Documents\\\\Database\\\\Karyotypes\\\\Arrangement_Merged\\\\chr_x\\\\191128-del(X)(p22)-2L.bmp',\n",
       "   'D:\\\\Users\\\\Chuan\\\\Documents\\\\Database\\\\Karyotypes\\\\Arrangement_Merged\\\\chr_x\\\\191128-del(X)(p22)-3L.bmp',\n",
       "   'D:\\\\Users\\\\Chuan\\\\Documents\\\\Database\\\\Karyotypes\\\\Arrangement_Merged\\\\chr_x\\\\191128-del(X)(p22)-4L.bmp',\n",
       "   'D:\\\\Users\\\\Chuan\\\\Documents\\\\Database\\\\Karyotypes\\\\Arrangement_Merged\\\\chr_x\\\\191128-del(X)(p22)-6L.bmp',\n",
       "   'D:\\\\Users\\\\Chuan\\\\Documents\\\\Database\\\\Karyotypes\\\\Arrangement_Merged\\\\chr_x\\\\191128-del(X)(p22)-7L.bmp',\n",
       "   'D:\\\\Users\\\\Chuan\\\\Documents\\\\Database\\\\Karyotypes\\\\Arrangement_Merged\\\\chr_x\\\\191128-del(X)(p22)-8L.bmp',\n",
       "   'D:\\\\Users\\\\Chuan\\\\Documents\\\\Database\\\\Karyotypes\\\\Arrangement_Merged\\\\chr_x\\\\192478-delXq21-10L.bmp',\n",
       "   'D:\\\\Users\\\\Chuan\\\\Documents\\\\Database\\\\Karyotypes\\\\Arrangement_Merged\\\\chr_x\\\\192478-delXq21-12L.bmp',\n",
       "   'D:\\\\Users\\\\Chuan\\\\Documents\\\\Database\\\\Karyotypes\\\\Arrangement_Merged\\\\chr_x\\\\192478-delXq21-13L.bmp',\n",
       "   'D:\\\\Users\\\\Chuan\\\\Documents\\\\Database\\\\Karyotypes\\\\Arrangement_Merged\\\\chr_x\\\\192478-delXq21-15L.bmp',\n",
       "   'D:\\\\Users\\\\Chuan\\\\Documents\\\\Database\\\\Karyotypes\\\\Arrangement_Merged\\\\chr_x\\\\192478-delXq21-16L.bmp',\n",
       "   'D:\\\\Users\\\\Chuan\\\\Documents\\\\Database\\\\Karyotypes\\\\Arrangement_Merged\\\\chr_x\\\\192478-delXq21-17L.bmp',\n",
       "   'D:\\\\Users\\\\Chuan\\\\Documents\\\\Database\\\\Karyotypes\\\\Arrangement_Merged\\\\chr_x\\\\192478-delXq21-18L.bmp',\n",
       "   'D:\\\\Users\\\\Chuan\\\\Documents\\\\Database\\\\Karyotypes\\\\Arrangement_Merged\\\\chr_x\\\\192478-delXq21-1L.bmp',\n",
       "   'D:\\\\Users\\\\Chuan\\\\Documents\\\\Database\\\\Karyotypes\\\\Arrangement_Merged\\\\chr_x\\\\192478-delXq21-20L.bmp',\n",
       "   'D:\\\\Users\\\\Chuan\\\\Documents\\\\Database\\\\Karyotypes\\\\Arrangement_Merged\\\\chr_x\\\\192478-delXq21-21L.bmp',\n",
       "   'D:\\\\Users\\\\Chuan\\\\Documents\\\\Database\\\\Karyotypes\\\\Arrangement_Merged\\\\chr_x\\\\192478-delXq21-22L.bmp',\n",
       "   'D:\\\\Users\\\\Chuan\\\\Documents\\\\Database\\\\Karyotypes\\\\Arrangement_Merged\\\\chr_x\\\\192478-delXq21-23L.bmp',\n",
       "   'D:\\\\Users\\\\Chuan\\\\Documents\\\\Database\\\\Karyotypes\\\\Arrangement_Merged\\\\chr_x\\\\192478-delXq21-24L.bmp',\n",
       "   'D:\\\\Users\\\\Chuan\\\\Documents\\\\Database\\\\Karyotypes\\\\Arrangement_Merged\\\\chr_x\\\\192478-delXq21-26L.bmp',\n",
       "   'D:\\\\Users\\\\Chuan\\\\Documents\\\\Database\\\\Karyotypes\\\\Arrangement_Merged\\\\chr_x\\\\192478-delXq21-27L.bmp',\n",
       "   'D:\\\\Users\\\\Chuan\\\\Documents\\\\Database\\\\Karyotypes\\\\Arrangement_Merged\\\\chr_x\\\\192478-delXq21-28L.bmp',\n",
       "   'D:\\\\Users\\\\Chuan\\\\Documents\\\\Database\\\\Karyotypes\\\\Arrangement_Merged\\\\chr_x\\\\192478-delXq21-29L.bmp',\n",
       "   'D:\\\\Users\\\\Chuan\\\\Documents\\\\Database\\\\Karyotypes\\\\Arrangement_Merged\\\\chr_x\\\\192478-delXq21-2L.bmp',\n",
       "   'D:\\\\Users\\\\Chuan\\\\Documents\\\\Database\\\\Karyotypes\\\\Arrangement_Merged\\\\chr_x\\\\192478-delXq21-30L.bmp',\n",
       "   'D:\\\\Users\\\\Chuan\\\\Documents\\\\Database\\\\Karyotypes\\\\Arrangement_Merged\\\\chr_x\\\\192478-delXq21-31L.bmp',\n",
       "   'D:\\\\Users\\\\Chuan\\\\Documents\\\\Database\\\\Karyotypes\\\\Arrangement_Merged\\\\chr_x\\\\192478-delXq21-3L.bmp',\n",
       "   'D:\\\\Users\\\\Chuan\\\\Documents\\\\Database\\\\Karyotypes\\\\Arrangement_Merged\\\\chr_x\\\\192478-delXq21-4L.bmp',\n",
       "   'D:\\\\Users\\\\Chuan\\\\Documents\\\\Database\\\\Karyotypes\\\\Arrangement_Merged\\\\chr_x\\\\192478-delXq21-6L.bmp',\n",
       "   'D:\\\\Users\\\\Chuan\\\\Documents\\\\Database\\\\Karyotypes\\\\Arrangement_Merged\\\\chr_x\\\\192478-delXq21-7L.bmp',\n",
       "   'D:\\\\Users\\\\Chuan\\\\Documents\\\\Database\\\\Karyotypes\\\\Arrangement_Merged\\\\chr_x\\\\192478-delXq21-8L.bmp',\n",
       "   'D:\\\\Users\\\\Chuan\\\\Documents\\\\Database\\\\Karyotypes\\\\Arrangement_Merged\\\\chr_x\\\\87092-i(X)(q10)-10L.bmp',\n",
       "   'D:\\\\Users\\\\Chuan\\\\Documents\\\\Database\\\\Karyotypes\\\\Arrangement_Merged\\\\chr_x\\\\87092-i(X)(q10)-11L.bmp',\n",
       "   'D:\\\\Users\\\\Chuan\\\\Documents\\\\Database\\\\Karyotypes\\\\Arrangement_Merged\\\\chr_x\\\\87092-i(X)(q10)-12L.bmp',\n",
       "   'D:\\\\Users\\\\Chuan\\\\Documents\\\\Database\\\\Karyotypes\\\\Arrangement_Merged\\\\chr_x\\\\87092-i(X)(q10)-13L.bmp',\n",
       "   'D:\\\\Users\\\\Chuan\\\\Documents\\\\Database\\\\Karyotypes\\\\Arrangement_Merged\\\\chr_x\\\\87092-i(X)(q10)-14L.bmp',\n",
       "   'D:\\\\Users\\\\Chuan\\\\Documents\\\\Database\\\\Karyotypes\\\\Arrangement_Merged\\\\chr_x\\\\87092-i(X)(q10)-15L.bmp',\n",
       "   'D:\\\\Users\\\\Chuan\\\\Documents\\\\Database\\\\Karyotypes\\\\Arrangement_Merged\\\\chr_x\\\\87092-i(X)(q10)-17L.bmp',\n",
       "   'D:\\\\Users\\\\Chuan\\\\Documents\\\\Database\\\\Karyotypes\\\\Arrangement_Merged\\\\chr_x\\\\87092-i(X)(q10)-18L.bmp',\n",
       "   'D:\\\\Users\\\\Chuan\\\\Documents\\\\Database\\\\Karyotypes\\\\Arrangement_Merged\\\\chr_x\\\\87092-i(X)(q10)-21L.bmp',\n",
       "   'D:\\\\Users\\\\Chuan\\\\Documents\\\\Database\\\\Karyotypes\\\\Arrangement_Merged\\\\chr_x\\\\87092-i(X)(q10)-23L.bmp',\n",
       "   'D:\\\\Users\\\\Chuan\\\\Documents\\\\Database\\\\Karyotypes\\\\Arrangement_Merged\\\\chr_x\\\\87092-i(X)(q10)-25L.bmp',\n",
       "   'D:\\\\Users\\\\Chuan\\\\Documents\\\\Database\\\\Karyotypes\\\\Arrangement_Merged\\\\chr_x\\\\87092-i(X)(q10)-26L.bmp',\n",
       "   'D:\\\\Users\\\\Chuan\\\\Documents\\\\Database\\\\Karyotypes\\\\Arrangement_Merged\\\\chr_x\\\\87092-i(X)(q10)-27L.bmp',\n",
       "   'D:\\\\Users\\\\Chuan\\\\Documents\\\\Database\\\\Karyotypes\\\\Arrangement_Merged\\\\chr_x\\\\87092-i(X)(q10)-29L.bmp',\n",
       "   'D:\\\\Users\\\\Chuan\\\\Documents\\\\Database\\\\Karyotypes\\\\Arrangement_Merged\\\\chr_x\\\\87092-i(X)(q10)-2L.bmp',\n",
       "   'D:\\\\Users\\\\Chuan\\\\Documents\\\\Database\\\\Karyotypes\\\\Arrangement_Merged\\\\chr_x\\\\87092-i(X)(q10)-5L.bmp',\n",
       "   'D:\\\\Users\\\\Chuan\\\\Documents\\\\Database\\\\Karyotypes\\\\Arrangement_Merged\\\\chr_x\\\\87092-i(X)(q10)-6L.bmp',\n",
       "   'D:\\\\Users\\\\Chuan\\\\Documents\\\\Database\\\\Karyotypes\\\\Arrangement_Merged\\\\chr_x\\\\87092-i(X)(q10)-7L.bmp',\n",
       "   'D:\\\\Users\\\\Chuan\\\\Documents\\\\Database\\\\Karyotypes\\\\Arrangement_Merged\\\\chr_x\\\\87092-i(X)(q10)-8L.bmp',\n",
       "   'D:\\\\Users\\\\Chuan\\\\Documents\\\\Database\\\\Karyotypes\\\\Arrangement_Merged\\\\chr_x\\\\W17068~A.0003.K.jpg.X.bmp',\n",
       "   'D:\\\\Users\\\\Chuan\\\\Documents\\\\Database\\\\Karyotypes\\\\Arrangement_Merged\\\\chr_x\\\\W17068~A.0004.K.jpg.X.bmp',\n",
       "   'D:\\\\Users\\\\Chuan\\\\Documents\\\\Database\\\\Karyotypes\\\\Arrangement_Merged\\\\chr_x\\\\W17068~A.0008.K.X.bmp',\n",
       "   'D:\\\\Users\\\\Chuan\\\\Documents\\\\Database\\\\Karyotypes\\\\Arrangement_Merged\\\\chr_x\\\\W17068~A.0009.K.X.bmp',\n",
       "   'D:\\\\Users\\\\Chuan\\\\Documents\\\\Database\\\\Karyotypes\\\\Arrangement_Merged\\\\chr_x\\\\W17068~A.0010.K.X.bmp',\n",
       "   'D:\\\\Users\\\\Chuan\\\\Documents\\\\Database\\\\Karyotypes\\\\Arrangement_Merged\\\\chr_x\\\\W17068~A.0011.K.X.bmp',\n",
       "   'D:\\\\Users\\\\Chuan\\\\Documents\\\\Database\\\\Karyotypes\\\\Arrangement_Merged\\\\chr_x\\\\W17068~A.0012.K.X.bmp',\n",
       "   'D:\\\\Users\\\\Chuan\\\\Documents\\\\Database\\\\Karyotypes\\\\Arrangement_Merged\\\\chr_x\\\\W17068~A.0014.K.X.bmp',\n",
       "   'D:\\\\Users\\\\Chuan\\\\Documents\\\\Database\\\\Karyotypes\\\\Arrangement_Merged\\\\chr_x\\\\W17068~A.0019.K.X.bmp',\n",
       "   'D:\\\\Users\\\\Chuan\\\\Documents\\\\Database\\\\Karyotypes\\\\Arrangement_Merged\\\\chr_x\\\\W17068~A.0020.K.X.bmp',\n",
       "   'D:\\\\Users\\\\Chuan\\\\Documents\\\\Database\\\\Karyotypes\\\\Arrangement_Merged\\\\chr_x\\\\W17068~A.0023.K.X.bmp',\n",
       "   'D:\\\\Users\\\\Chuan\\\\Documents\\\\Database\\\\Karyotypes\\\\Arrangement_Merged\\\\chr_x\\\\W17068~A.0024.X_.bmp',\n",
       "   'D:\\\\Users\\\\Chuan\\\\Documents\\\\Database\\\\Karyotypes\\\\Arrangement_Merged\\\\chr_x\\\\W17068~A.0025.X.bmp',\n",
       "   'D:\\\\Users\\\\Chuan\\\\Documents\\\\Database\\\\Karyotypes\\\\Arrangement_Merged\\\\chr_x\\\\W17068~A.0026.X.bmp',\n",
       "   'D:\\\\Users\\\\Chuan\\\\Documents\\\\Database\\\\Karyotypes\\\\Arrangement_Merged\\\\chr_x\\\\W17068~A.0034.K.jpg.X.bmp',\n",
       "   'D:\\\\Users\\\\Chuan\\\\Documents\\\\Database\\\\Karyotypes\\\\Arrangement_Merged\\\\chr_x\\\\W17068~A.0036.K.jpg.X.bmp',\n",
       "   'D:\\\\Users\\\\Chuan\\\\Documents\\\\Database\\\\Karyotypes\\\\Arrangement_Merged\\\\chr_x\\\\W17068~A.0039.K.jpg.X.bmp',\n",
       "   'D:\\\\Users\\\\Chuan\\\\Documents\\\\Database\\\\Karyotypes\\\\Arrangement_Merged\\\\chr_x\\\\w21000~A.0001.K.jpg.XR.bmp',\n",
       "   'D:\\\\Users\\\\Chuan\\\\Documents\\\\Database\\\\Karyotypes\\\\Arrangement_Merged\\\\chr_x\\\\w21001~A.0008.K.jpg.x.bmp',\n",
       "   'D:\\\\Users\\\\Chuan\\\\Documents\\\\Database\\\\Karyotypes\\\\Arrangement_Merged\\\\chr_x\\\\w21002~A.0024.K.jpg.x.bmp',\n",
       "   'D:\\\\Users\\\\Chuan\\\\Documents\\\\Database\\\\Karyotypes\\\\Arrangement_Merged\\\\chr_x\\\\w21008~A.0008.K.jpg.XL.bmp',\n",
       "   'D:\\\\Users\\\\Chuan\\\\Documents\\\\Database\\\\Karyotypes\\\\Arrangement_Merged\\\\chr_x\\\\W21011~A.0008.K.XL.bmp',\n",
       "   'D:\\\\Users\\\\Chuan\\\\Documents\\\\Database\\\\Karyotypes\\\\Arrangement_Merged\\\\chr_x\\\\W21011~A.0008.K.XR.bmp',\n",
       "   'D:\\\\Users\\\\Chuan\\\\Documents\\\\Database\\\\Karyotypes\\\\Arrangement_Merged\\\\chr_x\\\\W21012~A.0019.K.XL.bmp',\n",
       "   'D:\\\\Users\\\\Chuan\\\\Documents\\\\Database\\\\Karyotypes\\\\Arrangement_Merged\\\\chr_x\\\\W21012~A.0019.K.XR.bmp',\n",
       "   'D:\\\\Users\\\\Chuan\\\\Documents\\\\Database\\\\Karyotypes\\\\Arrangement_Merged\\\\chr_x\\\\W21014~A.0005.K.X.bmp',\n",
       "   'D:\\\\Users\\\\Chuan\\\\Documents\\\\Database\\\\Karyotypes\\\\Arrangement_Merged\\\\chr_x\\\\W21022~A.0007.K.jpg.XL.bmp',\n",
       "   'D:\\\\Users\\\\Chuan\\\\Documents\\\\Database\\\\Karyotypes\\\\Arrangement_Merged\\\\chr_x\\\\W21022~A.0007.K.jpg.XR.bmp',\n",
       "   'D:\\\\Users\\\\Chuan\\\\Documents\\\\Database\\\\Karyotypes\\\\Arrangement_Merged\\\\chr_x\\\\W21025~A.0002.K.jpg.X.bmp',\n",
       "   'D:\\\\Users\\\\Chuan\\\\Documents\\\\Database\\\\Karyotypes\\\\Arrangement_Merged\\\\chr_x\\\\W21027~A.0003.K.X.bmp',\n",
       "   'D:\\\\Users\\\\Chuan\\\\Documents\\\\Database\\\\Karyotypes\\\\Arrangement_Merged\\\\chr_x\\\\W21486~A.0020.K.bmp.X.bmp',\n",
       "   'D:\\\\Users\\\\Chuan\\\\Documents\\\\Database\\\\Karyotypes\\\\Arrangement_Merged\\\\chr_x\\\\W21563~A.0006.K.x.bmp',\n",
       "   'D:\\\\Users\\\\Chuan\\\\Documents\\\\Database\\\\Karyotypes\\\\Arrangement_Merged\\\\chr_x\\\\W21570~A.0001.K.jpg.X.bmp',\n",
       "   'D:\\\\Users\\\\Chuan\\\\Documents\\\\Database\\\\Karyotypes\\\\Arrangement_Merged\\\\chr_x\\\\W21576~A.0010.K.jpg.X.bmp',\n",
       "   'D:\\\\Users\\\\Chuan\\\\Documents\\\\Database\\\\Karyotypes\\\\Arrangement_Merged\\\\chr_x\\\\W21587~A.0010.K.jpg.X.bmp',\n",
       "   'D:\\\\Users\\\\Chuan\\\\Documents\\\\Database\\\\Karyotypes\\\\Arrangement_Merged\\\\chr_x\\\\W21588~A.0001.K.jpg.X.bmp',\n",
       "   'D:\\\\Users\\\\Chuan\\\\Documents\\\\Database\\\\Karyotypes\\\\Arrangement_Merged\\\\chr_x\\\\W21766~A.0025.K.jpg.X.bmp',\n",
       "   'D:\\\\Users\\\\Chuan\\\\Documents\\\\Database\\\\Karyotypes\\\\Arrangement_Merged\\\\chr_x\\\\W21890~A.0005.K.jpg.XL.bmp',\n",
       "   'D:\\\\Users\\\\Chuan\\\\Documents\\\\Database\\\\Karyotypes\\\\Arrangement_Merged\\\\chr_x\\\\W21890~A.0005.K.jpg.XR.bmp',\n",
       "   'D:\\\\Users\\\\Chuan\\\\Documents\\\\Database\\\\Karyotypes\\\\Arrangement_Merged\\\\chr_x\\\\W21902~A.0010.K.jpg.X.bmp',\n",
       "   'D:\\\\Users\\\\Chuan\\\\Documents\\\\Database\\\\Karyotypes\\\\Arrangement_Merged\\\\chr_x\\\\W21905~A.0007.K.jpg.X.bmp',\n",
       "   'D:\\\\Users\\\\Chuan\\\\Documents\\\\Database\\\\Karyotypes\\\\Arrangement_Merged\\\\chr_x\\\\W21906~A.0011.K.jpg.X.bmp',\n",
       "   'D:\\\\Users\\\\Chuan\\\\Documents\\\\Database\\\\Karyotypes\\\\Arrangement_Merged\\\\chr_x\\\\w22038~A.0017.K.jpg.X.bmp',\n",
       "   'D:\\\\Users\\\\Chuan\\\\Documents\\\\Database\\\\Karyotypes\\\\Arrangement_Merged\\\\chr_x\\\\w22292~A.0027.K.jpg.X.bmp',\n",
       "   'D:\\\\Users\\\\Chuan\\\\Documents\\\\Database\\\\Karyotypes\\\\Arrangement_Merged\\\\chr_x\\\\W22451~A.0011.K.jpg.X.bmp',\n",
       "   'D:\\\\Users\\\\Chuan\\\\Documents\\\\Database\\\\Karyotypes\\\\Arrangement_Merged\\\\chr_x\\\\W22670~A.0006.K.jpg.X.bmp',\n",
       "   'D:\\\\Users\\\\Chuan\\\\Documents\\\\Database\\\\Karyotypes\\\\Arrangement_Merged\\\\chr_x\\\\W22672~A.0004.K.jpg.X.bmp',\n",
       "   'D:\\\\Users\\\\Chuan\\\\Documents\\\\Database\\\\Karyotypes\\\\Arrangement_Merged\\\\chr_x\\\\w22881~A.0017.K.jpg.X.bmp',\n",
       "   'D:\\\\Users\\\\Chuan\\\\Documents\\\\Database\\\\Karyotypes\\\\Arrangement_Merged\\\\chr_x\\\\W23060-1~A.0007.K.jpg.X.bmp',\n",
       "   'D:\\\\Users\\\\Chuan\\\\Documents\\\\Database\\\\Karyotypes\\\\Arrangement_Merged\\\\chr_x\\\\W23060-1~A.0009.K.jpg.X.bmp',\n",
       "   'D:\\\\Users\\\\Chuan\\\\Documents\\\\Database\\\\Karyotypes\\\\Arrangement_Merged\\\\chr_x\\\\W23060-1~A.0025.K.jpg.X.bmp',\n",
       "   'D:\\\\Users\\\\Chuan\\\\Documents\\\\Database\\\\Karyotypes\\\\Arrangement_Merged\\\\chr_x\\\\W23060-1~A.0040.K.jpg.X.bmp',\n",
       "   'D:\\\\Users\\\\Chuan\\\\Documents\\\\Database\\\\Karyotypes\\\\Arrangement_Merged\\\\chr_x\\\\W23060-1~A.0046.K.jpg.X.bmp',\n",
       "   'D:\\\\Users\\\\Chuan\\\\Documents\\\\Database\\\\Karyotypes\\\\Arrangement_Merged\\\\chr_x\\\\W23070~A.0001.K.jpg.X.bmp',\n",
       "   'D:\\\\Users\\\\Chuan\\\\Documents\\\\Database\\\\Karyotypes\\\\Arrangement_Merged\\\\chr_x\\\\W23075-1~A.0017.K.jpg.X.bmp',\n",
       "   'D:\\\\Users\\\\Chuan\\\\Documents\\\\Database\\\\Karyotypes\\\\Arrangement_Merged\\\\chr_x\\\\W23082.0026.K.jpg.X.bmp',\n",
       "   'D:\\\\Users\\\\Chuan\\\\Documents\\\\Database\\\\Karyotypes\\\\Arrangement_Merged\\\\chr_x\\\\W23084~A.0003.K.jp.X.bmp',\n",
       "   'D:\\\\Users\\\\Chuan\\\\Documents\\\\Database\\\\Karyotypes\\\\Arrangement_Merged\\\\chr_x\\\\w25443~A.0001.K.jpg.X.bmp',\n",
       "   'D:\\\\Users\\\\Chuan\\\\Documents\\\\Database\\\\Karyotypes\\\\Arrangement_Merged\\\\chr_x\\\\w25443~A.0004.K.jpg.X.bmp',\n",
       "   'D:\\\\Users\\\\Chuan\\\\Documents\\\\Database\\\\Karyotypes\\\\Arrangement_Merged\\\\chr_x\\\\w25443~A.0005.K.jpg.X.bmp',\n",
       "   'D:\\\\Users\\\\Chuan\\\\Documents\\\\Database\\\\Karyotypes\\\\Arrangement_Merged\\\\chr_x\\\\w25443~A.0006.K.jpg.X.bmp',\n",
       "   'D:\\\\Users\\\\Chuan\\\\Documents\\\\Database\\\\Karyotypes\\\\Arrangement_Merged\\\\chr_x\\\\w25443~A.0007.K.jpg.X.bmp',\n",
       "   'D:\\\\Users\\\\Chuan\\\\Documents\\\\Database\\\\Karyotypes\\\\Arrangement_Merged\\\\chr_x\\\\w25443~A.0023.K.jpg.X.bmp',\n",
       "   'D:\\\\Users\\\\Chuan\\\\Documents\\\\Database\\\\Karyotypes\\\\Arrangement_Merged\\\\chr_x\\\\w25443~A.0031.K.jpg.X.bmp',\n",
       "   'D:\\\\Users\\\\Chuan\\\\Documents\\\\Database\\\\Karyotypes\\\\Arrangement_Merged\\\\chr_x\\\\w25443~A.0032.K.jpg.X.bmp',\n",
       "   'D:\\\\Users\\\\Chuan\\\\Documents\\\\Database\\\\Karyotypes\\\\Arrangement_Merged\\\\chr_x\\\\w25443~A.0033.K.jpg.X.bmp',\n",
       "   'D:\\\\Users\\\\Chuan\\\\Documents\\\\Database\\\\Karyotypes\\\\Arrangement_Merged\\\\chr_x\\\\w25443~A.0035.K.jpg.X.bmp',\n",
       "   'D:\\\\Users\\\\Chuan\\\\Documents\\\\Database\\\\Karyotypes\\\\Arrangement_Merged\\\\chr_x\\\\w25443~A.0036.K.jpg.X.bmp',\n",
       "   'D:\\\\Users\\\\Chuan\\\\Documents\\\\Database\\\\Karyotypes\\\\Arrangement_Merged\\\\chr_x\\\\w25443~A.0037.K.jpg.X.bmp',\n",
       "   'D:\\\\Users\\\\Chuan\\\\Documents\\\\Database\\\\Karyotypes\\\\Arrangement_Merged\\\\chr_x\\\\w25443~A.0038.K.jpg.X.bmp',\n",
       "   'D:\\\\Users\\\\Chuan\\\\Documents\\\\Database\\\\Karyotypes\\\\Arrangement_Merged\\\\chr_x\\\\w25443~A.0041.K.jpg.X.bmp',\n",
       "   'D:\\\\Users\\\\Chuan\\\\Documents\\\\Database\\\\Karyotypes\\\\Arrangement_Merged\\\\chr_x\\\\w25443~A.0043.K.jpg.X.bmp',\n",
       "   'D:\\\\Users\\\\Chuan\\\\Documents\\\\Database\\\\Karyotypes\\\\Arrangement_Merged\\\\chr_x\\\\w25443~A.0047.K.jpg.X.bmp',\n",
       "   'D:\\\\Users\\\\Chuan\\\\Documents\\\\Database\\\\Karyotypes\\\\Arrangement_Merged\\\\chr_x\\\\W28055-1~A.0001.X.bmp',\n",
       "   'D:\\\\Users\\\\Chuan\\\\Documents\\\\Database\\\\Karyotypes\\\\Arrangement_Merged\\\\chr_x\\\\W28055-1~A.0002.X.bmp',\n",
       "   'D:\\\\Users\\\\Chuan\\\\Documents\\\\Database\\\\Karyotypes\\\\Arrangement_Merged\\\\chr_x\\\\W28055-1~A.0006.X.bmp',\n",
       "   'D:\\\\Users\\\\Chuan\\\\Documents\\\\Database\\\\Karyotypes\\\\Arrangement_Merged\\\\chr_x\\\\W28055-1~A.0009.X.bmp',\n",
       "   'D:\\\\Users\\\\Chuan\\\\Documents\\\\Database\\\\Karyotypes\\\\Arrangement_Merged\\\\chr_x\\\\W28055-1~A.0010.X.bmp',\n",
       "   'D:\\\\Users\\\\Chuan\\\\Documents\\\\Database\\\\Karyotypes\\\\Arrangement_Merged\\\\chr_x\\\\W28055-1~A.0012.X.bmp',\n",
       "   'D:\\\\Users\\\\Chuan\\\\Documents\\\\Database\\\\Karyotypes\\\\Arrangement_Merged\\\\chr_x\\\\W28055-1~A.0013.X.bmp',\n",
       "   'D:\\\\Users\\\\Chuan\\\\Documents\\\\Database\\\\Karyotypes\\\\Arrangement_Merged\\\\chr_x\\\\W28055-1~A.0015.X.bmp',\n",
       "   'D:\\\\Users\\\\Chuan\\\\Documents\\\\Database\\\\Karyotypes\\\\Arrangement_Merged\\\\chr_x\\\\W28055-1~A.0016.X.bmp',\n",
       "   'D:\\\\Users\\\\Chuan\\\\Documents\\\\Database\\\\Karyotypes\\\\Arrangement_Merged\\\\chr_x\\\\W28055-1~A.0020.X.bmp',\n",
       "   'D:\\\\Users\\\\Chuan\\\\Documents\\\\Database\\\\Karyotypes\\\\Arrangement_Merged\\\\chr_x\\\\W28055-1~A.0021.X.bmp',\n",
       "   'D:\\\\Users\\\\Chuan\\\\Documents\\\\Database\\\\Karyotypes\\\\Arrangement_Merged\\\\chr_x\\\\W28055-1~A.0022.X.bmp',\n",
       "   'D:\\\\Users\\\\Chuan\\\\Documents\\\\Database\\\\Karyotypes\\\\Arrangement_Merged\\\\chr_x\\\\W28055-1~A.0032.X.bmp',\n",
       "   'D:\\\\Users\\\\Chuan\\\\Documents\\\\Database\\\\Karyotypes\\\\Arrangement_Merged\\\\chr_x\\\\W28055-1~A.0037.X.bmp',\n",
       "   'D:\\\\Users\\\\Chuan\\\\Documents\\\\Database\\\\Karyotypes\\\\Arrangement_Merged\\\\chr_x\\\\W28055-1~A.0038.X.bmp',\n",
       "   'D:\\\\Users\\\\Chuan\\\\Documents\\\\Database\\\\Karyotypes\\\\Arrangement_Merged\\\\chr_x\\\\W28055-1~A.0049.K.jpg.X.bmp',\n",
       "   'D:\\\\Users\\\\Chuan\\\\Documents\\\\Database\\\\Karyotypes\\\\Arrangement_Merged\\\\chr_x\\\\W28055~A.0010.X.bmp',\n",
       "   'D:\\\\Users\\\\Chuan\\\\Documents\\\\Database\\\\Karyotypes\\\\Arrangement_Merged\\\\chr_x\\\\W28055~A.0012.X.bmp']},\n",
       " 'chr_x_p22_cnv': {'0': ['D:\\\\Users\\\\Chuan\\\\Documents\\\\Database\\\\Karyotypes\\\\Arrangement_Merged\\\\chr_x_p22_cnv\\\\191128-del(X)(p22)-10R.bmp',\n",
       "   'D:\\\\Users\\\\Chuan\\\\Documents\\\\Database\\\\Karyotypes\\\\Arrangement_Merged\\\\chr_x_p22_cnv\\\\191128-del(X)(p22)-11R.bmp',\n",
       "   'D:\\\\Users\\\\Chuan\\\\Documents\\\\Database\\\\Karyotypes\\\\Arrangement_Merged\\\\chr_x_p22_cnv\\\\191128-del(X)(p22)-12R.bmp',\n",
       "   'D:\\\\Users\\\\Chuan\\\\Documents\\\\Database\\\\Karyotypes\\\\Arrangement_Merged\\\\chr_x_p22_cnv\\\\191128-del(X)(p22)-14R.bmp',\n",
       "   'D:\\\\Users\\\\Chuan\\\\Documents\\\\Database\\\\Karyotypes\\\\Arrangement_Merged\\\\chr_x_p22_cnv\\\\191128-del(X)(p22)-15R.bmp',\n",
       "   'D:\\\\Users\\\\Chuan\\\\Documents\\\\Database\\\\Karyotypes\\\\Arrangement_Merged\\\\chr_x_p22_cnv\\\\191128-del(X)(p22)-16R.bmp',\n",
       "   'D:\\\\Users\\\\Chuan\\\\Documents\\\\Database\\\\Karyotypes\\\\Arrangement_Merged\\\\chr_x_p22_cnv\\\\191128-del(X)(p22)-18R.bmp',\n",
       "   'D:\\\\Users\\\\Chuan\\\\Documents\\\\Database\\\\Karyotypes\\\\Arrangement_Merged\\\\chr_x_p22_cnv\\\\191128-del(X)(p22)-19R.bmp',\n",
       "   'D:\\\\Users\\\\Chuan\\\\Documents\\\\Database\\\\Karyotypes\\\\Arrangement_Merged\\\\chr_x_p22_cnv\\\\191128-del(X)(p22)-20R.bmp',\n",
       "   'D:\\\\Users\\\\Chuan\\\\Documents\\\\Database\\\\Karyotypes\\\\Arrangement_Merged\\\\chr_x_p22_cnv\\\\191128-del(X)(p22)-21R.bmp',\n",
       "   'D:\\\\Users\\\\Chuan\\\\Documents\\\\Database\\\\Karyotypes\\\\Arrangement_Merged\\\\chr_x_p22_cnv\\\\191128-del(X)(p22)-22R.bmp',\n",
       "   'D:\\\\Users\\\\Chuan\\\\Documents\\\\Database\\\\Karyotypes\\\\Arrangement_Merged\\\\chr_x_p22_cnv\\\\191128-del(X)(p22)-2R.bmp',\n",
       "   'D:\\\\Users\\\\Chuan\\\\Documents\\\\Database\\\\Karyotypes\\\\Arrangement_Merged\\\\chr_x_p22_cnv\\\\191128-del(X)(p22)-3R.bmp',\n",
       "   'D:\\\\Users\\\\Chuan\\\\Documents\\\\Database\\\\Karyotypes\\\\Arrangement_Merged\\\\chr_x_p22_cnv\\\\191128-del(X)(p22)-5R.bmp',\n",
       "   'D:\\\\Users\\\\Chuan\\\\Documents\\\\Database\\\\Karyotypes\\\\Arrangement_Merged\\\\chr_x_p22_cnv\\\\191128-del(X)(p22)-6R.bmp',\n",
       "   'D:\\\\Users\\\\Chuan\\\\Documents\\\\Database\\\\Karyotypes\\\\Arrangement_Merged\\\\chr_x_p22_cnv\\\\191128-del(X)(p22)-7R.bmp',\n",
       "   'D:\\\\Users\\\\Chuan\\\\Documents\\\\Database\\\\Karyotypes\\\\Arrangement_Merged\\\\chr_x_p22_cnv\\\\191128-del(X)(p22)-8R.bmp',\n",
       "   'D:\\\\Users\\\\Chuan\\\\Documents\\\\Database\\\\Karyotypes\\\\Arrangement_Merged\\\\chr_x_p22_cnv\\\\W23060-1~A.0005.K.jpg.X_p22cnv_deletion.bmp',\n",
       "   'D:\\\\Users\\\\Chuan\\\\Documents\\\\Database\\\\Karyotypes\\\\Arrangement_Merged\\\\chr_x_p22_cnv\\\\W23060-1~A.0007.K.jpg.X_p22cnv_deletion.bmp',\n",
       "   'D:\\\\Users\\\\Chuan\\\\Documents\\\\Database\\\\Karyotypes\\\\Arrangement_Merged\\\\chr_x_p22_cnv\\\\W23060-1~A.0009.K.jpg.X_p22cnv_deletion.bmp',\n",
       "   'D:\\\\Users\\\\Chuan\\\\Documents\\\\Database\\\\Karyotypes\\\\Arrangement_Merged\\\\chr_x_p22_cnv\\\\W23060-1~A.0018.K.jpg.X_p22cnv_deletion.bmp',\n",
       "   'D:\\\\Users\\\\Chuan\\\\Documents\\\\Database\\\\Karyotypes\\\\Arrangement_Merged\\\\chr_x_p22_cnv\\\\W23060-1~A.0025.K.jpg.X_p22cnv_deletion.bmp',\n",
       "   'D:\\\\Users\\\\Chuan\\\\Documents\\\\Database\\\\Karyotypes\\\\Arrangement_Merged\\\\chr_x_p22_cnv\\\\W23060-1~A.0033.K.jpg.X_p22cnv_deletion.bmp',\n",
       "   'D:\\\\Users\\\\Chuan\\\\Documents\\\\Database\\\\Karyotypes\\\\Arrangement_Merged\\\\chr_x_p22_cnv\\\\W23060-1~A.0035.K.jpg.X_p22cnv_deletion.bmp',\n",
       "   'D:\\\\Users\\\\Chuan\\\\Documents\\\\Database\\\\Karyotypes\\\\Arrangement_Merged\\\\chr_x_p22_cnv\\\\W23060-1~A.0040.K.jpg.X_p22cnv_deletion.bmp',\n",
       "   'D:\\\\Users\\\\Chuan\\\\Documents\\\\Database\\\\Karyotypes\\\\Arrangement_Merged\\\\chr_x_p22_cnv\\\\W23060-1~A.0042.K.jpg.X_p22cnv_deletion_cnv.bmp',\n",
       "   'D:\\\\Users\\\\Chuan\\\\Documents\\\\Database\\\\Karyotypes\\\\Arrangement_Merged\\\\chr_x_p22_cnv\\\\W23060-CW190327.jpg.X_p22cnv_deletion_cnv.bmp'],\n",
       "  '1': ['D:\\\\Users\\\\Chuan\\\\Documents\\\\Database\\\\Karyotypes\\\\Arrangement_Merged\\\\chr_x_p22_cnv\\\\191128-del(X)(p22)-10R.bmp',\n",
       "   'D:\\\\Users\\\\Chuan\\\\Documents\\\\Database\\\\Karyotypes\\\\Arrangement_Merged\\\\chr_x_p22_cnv\\\\191128-del(X)(p22)-11R.bmp',\n",
       "   'D:\\\\Users\\\\Chuan\\\\Documents\\\\Database\\\\Karyotypes\\\\Arrangement_Merged\\\\chr_x_p22_cnv\\\\191128-del(X)(p22)-13R.bmp',\n",
       "   'D:\\\\Users\\\\Chuan\\\\Documents\\\\Database\\\\Karyotypes\\\\Arrangement_Merged\\\\chr_x_p22_cnv\\\\191128-del(X)(p22)-15R.bmp',\n",
       "   'D:\\\\Users\\\\Chuan\\\\Documents\\\\Database\\\\Karyotypes\\\\Arrangement_Merged\\\\chr_x_p22_cnv\\\\191128-del(X)(p22)-16R.bmp',\n",
       "   'D:\\\\Users\\\\Chuan\\\\Documents\\\\Database\\\\Karyotypes\\\\Arrangement_Merged\\\\chr_x_p22_cnv\\\\191128-del(X)(p22)-18R.bmp',\n",
       "   'D:\\\\Users\\\\Chuan\\\\Documents\\\\Database\\\\Karyotypes\\\\Arrangement_Merged\\\\chr_x_p22_cnv\\\\191128-del(X)(p22)-19R.bmp',\n",
       "   'D:\\\\Users\\\\Chuan\\\\Documents\\\\Database\\\\Karyotypes\\\\Arrangement_Merged\\\\chr_x_p22_cnv\\\\191128-del(X)(p22)-20R.bmp',\n",
       "   'D:\\\\Users\\\\Chuan\\\\Documents\\\\Database\\\\Karyotypes\\\\Arrangement_Merged\\\\chr_x_p22_cnv\\\\191128-del(X)(p22)-21R.bmp',\n",
       "   'D:\\\\Users\\\\Chuan\\\\Documents\\\\Database\\\\Karyotypes\\\\Arrangement_Merged\\\\chr_x_p22_cnv\\\\191128-del(X)(p22)-22R.bmp',\n",
       "   'D:\\\\Users\\\\Chuan\\\\Documents\\\\Database\\\\Karyotypes\\\\Arrangement_Merged\\\\chr_x_p22_cnv\\\\191128-del(X)(p22)-2R.bmp',\n",
       "   'D:\\\\Users\\\\Chuan\\\\Documents\\\\Database\\\\Karyotypes\\\\Arrangement_Merged\\\\chr_x_p22_cnv\\\\191128-del(X)(p22)-3R.bmp',\n",
       "   'D:\\\\Users\\\\Chuan\\\\Documents\\\\Database\\\\Karyotypes\\\\Arrangement_Merged\\\\chr_x_p22_cnv\\\\191128-del(X)(p22)-4R.bmp',\n",
       "   'D:\\\\Users\\\\Chuan\\\\Documents\\\\Database\\\\Karyotypes\\\\Arrangement_Merged\\\\chr_x_p22_cnv\\\\191128-del(X)(p22)-5R.bmp',\n",
       "   'D:\\\\Users\\\\Chuan\\\\Documents\\\\Database\\\\Karyotypes\\\\Arrangement_Merged\\\\chr_x_p22_cnv\\\\191128-del(X)(p22)-6R.bmp',\n",
       "   'D:\\\\Users\\\\Chuan\\\\Documents\\\\Database\\\\Karyotypes\\\\Arrangement_Merged\\\\chr_x_p22_cnv\\\\191128-del(X)(p22)-8R.bmp',\n",
       "   'D:\\\\Users\\\\Chuan\\\\Documents\\\\Database\\\\Karyotypes\\\\Arrangement_Merged\\\\chr_x_p22_cnv\\\\191128-del(X)(p22)-9R.bmp',\n",
       "   'D:\\\\Users\\\\Chuan\\\\Documents\\\\Database\\\\Karyotypes\\\\Arrangement_Merged\\\\chr_x_p22_cnv\\\\W23060-1~A.0003.K.jpg.X_p22cnv_deletion_cnv.bmp',\n",
       "   'D:\\\\Users\\\\Chuan\\\\Documents\\\\Database\\\\Karyotypes\\\\Arrangement_Merged\\\\chr_x_p22_cnv\\\\W23060-1~A.0005.K.jpg.X_p22cnv_deletion.bmp',\n",
       "   'D:\\\\Users\\\\Chuan\\\\Documents\\\\Database\\\\Karyotypes\\\\Arrangement_Merged\\\\chr_x_p22_cnv\\\\W23060-1~A.0009.K.jpg.X_p22cnv_deletion.bmp',\n",
       "   'D:\\\\Users\\\\Chuan\\\\Documents\\\\Database\\\\Karyotypes\\\\Arrangement_Merged\\\\chr_x_p22_cnv\\\\W23060-1~A.0029.K.jpg.X_p22cnv_deletion.bmp',\n",
       "   'D:\\\\Users\\\\Chuan\\\\Documents\\\\Database\\\\Karyotypes\\\\Arrangement_Merged\\\\chr_x_p22_cnv\\\\W23060-1~A.0032.K.jpg.X_p22cnv_deletion.bmp',\n",
       "   'D:\\\\Users\\\\Chuan\\\\Documents\\\\Database\\\\Karyotypes\\\\Arrangement_Merged\\\\chr_x_p22_cnv\\\\W23060-1~A.0033.K.jpg.X_p22cnv_deletion.bmp',\n",
       "   'D:\\\\Users\\\\Chuan\\\\Documents\\\\Database\\\\Karyotypes\\\\Arrangement_Merged\\\\chr_x_p22_cnv\\\\W23060-1~A.0035.K.jpg.X_p22cnv_deletion.bmp',\n",
       "   'D:\\\\Users\\\\Chuan\\\\Documents\\\\Database\\\\Karyotypes\\\\Arrangement_Merged\\\\chr_x_p22_cnv\\\\W23060-1~A.0042.K.jpg.X_p22cnv_deletion_cnv.bmp',\n",
       "   'D:\\\\Users\\\\Chuan\\\\Documents\\\\Database\\\\Karyotypes\\\\Arrangement_Merged\\\\chr_x_p22_cnv\\\\W23060-1~A.0046.K.jpg.X_p22cnv_deletion_cnv.bmp',\n",
       "   'D:\\\\Users\\\\Chuan\\\\Documents\\\\Database\\\\Karyotypes\\\\Arrangement_Merged\\\\chr_x_p22_cnv\\\\W23060-CW190327.jpg.X_p22cnv_deletion_cnv.bmp'],\n",
       "  '2': ['D:\\\\Users\\\\Chuan\\\\Documents\\\\Database\\\\Karyotypes\\\\Arrangement_Merged\\\\chr_x_p22_cnv\\\\191128-del(X)(p22)-10R.bmp',\n",
       "   'D:\\\\Users\\\\Chuan\\\\Documents\\\\Database\\\\Karyotypes\\\\Arrangement_Merged\\\\chr_x_p22_cnv\\\\191128-del(X)(p22)-11R.bmp',\n",
       "   'D:\\\\Users\\\\Chuan\\\\Documents\\\\Database\\\\Karyotypes\\\\Arrangement_Merged\\\\chr_x_p22_cnv\\\\191128-del(X)(p22)-12R.bmp',\n",
       "   'D:\\\\Users\\\\Chuan\\\\Documents\\\\Database\\\\Karyotypes\\\\Arrangement_Merged\\\\chr_x_p22_cnv\\\\191128-del(X)(p22)-13R.bmp',\n",
       "   'D:\\\\Users\\\\Chuan\\\\Documents\\\\Database\\\\Karyotypes\\\\Arrangement_Merged\\\\chr_x_p22_cnv\\\\191128-del(X)(p22)-14R.bmp',\n",
       "   'D:\\\\Users\\\\Chuan\\\\Documents\\\\Database\\\\Karyotypes\\\\Arrangement_Merged\\\\chr_x_p22_cnv\\\\191128-del(X)(p22)-15R.bmp',\n",
       "   'D:\\\\Users\\\\Chuan\\\\Documents\\\\Database\\\\Karyotypes\\\\Arrangement_Merged\\\\chr_x_p22_cnv\\\\191128-del(X)(p22)-18R.bmp',\n",
       "   'D:\\\\Users\\\\Chuan\\\\Documents\\\\Database\\\\Karyotypes\\\\Arrangement_Merged\\\\chr_x_p22_cnv\\\\191128-del(X)(p22)-19R.bmp',\n",
       "   'D:\\\\Users\\\\Chuan\\\\Documents\\\\Database\\\\Karyotypes\\\\Arrangement_Merged\\\\chr_x_p22_cnv\\\\191128-del(X)(p22)-20R.bmp',\n",
       "   'D:\\\\Users\\\\Chuan\\\\Documents\\\\Database\\\\Karyotypes\\\\Arrangement_Merged\\\\chr_x_p22_cnv\\\\191128-del(X)(p22)-22R.bmp',\n",
       "   'D:\\\\Users\\\\Chuan\\\\Documents\\\\Database\\\\Karyotypes\\\\Arrangement_Merged\\\\chr_x_p22_cnv\\\\191128-del(X)(p22)-2R.bmp',\n",
       "   'D:\\\\Users\\\\Chuan\\\\Documents\\\\Database\\\\Karyotypes\\\\Arrangement_Merged\\\\chr_x_p22_cnv\\\\191128-del(X)(p22)-3R.bmp',\n",
       "   'D:\\\\Users\\\\Chuan\\\\Documents\\\\Database\\\\Karyotypes\\\\Arrangement_Merged\\\\chr_x_p22_cnv\\\\191128-del(X)(p22)-4R.bmp',\n",
       "   'D:\\\\Users\\\\Chuan\\\\Documents\\\\Database\\\\Karyotypes\\\\Arrangement_Merged\\\\chr_x_p22_cnv\\\\191128-del(X)(p22)-5R.bmp',\n",
       "   'D:\\\\Users\\\\Chuan\\\\Documents\\\\Database\\\\Karyotypes\\\\Arrangement_Merged\\\\chr_x_p22_cnv\\\\191128-del(X)(p22)-6R.bmp',\n",
       "   'D:\\\\Users\\\\Chuan\\\\Documents\\\\Database\\\\Karyotypes\\\\Arrangement_Merged\\\\chr_x_p22_cnv\\\\191128-del(X)(p22)-7R.bmp',\n",
       "   'D:\\\\Users\\\\Chuan\\\\Documents\\\\Database\\\\Karyotypes\\\\Arrangement_Merged\\\\chr_x_p22_cnv\\\\191128-del(X)(p22)-9R.bmp',\n",
       "   'D:\\\\Users\\\\Chuan\\\\Documents\\\\Database\\\\Karyotypes\\\\Arrangement_Merged\\\\chr_x_p22_cnv\\\\W23060-1~A.0003.K.jpg.X_p22cnv_deletion_cnv.bmp',\n",
       "   'D:\\\\Users\\\\Chuan\\\\Documents\\\\Database\\\\Karyotypes\\\\Arrangement_Merged\\\\chr_x_p22_cnv\\\\W23060-1~A.0007.K.jpg.X_p22cnv_deletion.bmp',\n",
       "   'D:\\\\Users\\\\Chuan\\\\Documents\\\\Database\\\\Karyotypes\\\\Arrangement_Merged\\\\chr_x_p22_cnv\\\\W23060-1~A.0018.K.jpg.X_p22cnv_deletion.bmp',\n",
       "   'D:\\\\Users\\\\Chuan\\\\Documents\\\\Database\\\\Karyotypes\\\\Arrangement_Merged\\\\chr_x_p22_cnv\\\\W23060-1~A.0025.K.jpg.X_p22cnv_deletion.bmp',\n",
       "   'D:\\\\Users\\\\Chuan\\\\Documents\\\\Database\\\\Karyotypes\\\\Arrangement_Merged\\\\chr_x_p22_cnv\\\\W23060-1~A.0029.K.jpg.X_p22cnv_deletion.bmp',\n",
       "   'D:\\\\Users\\\\Chuan\\\\Documents\\\\Database\\\\Karyotypes\\\\Arrangement_Merged\\\\chr_x_p22_cnv\\\\W23060-1~A.0032.K.jpg.X_p22cnv_deletion.bmp',\n",
       "   'D:\\\\Users\\\\Chuan\\\\Documents\\\\Database\\\\Karyotypes\\\\Arrangement_Merged\\\\chr_x_p22_cnv\\\\W23060-1~A.0040.K.jpg.X_p22cnv_deletion.bmp',\n",
       "   'D:\\\\Users\\\\Chuan\\\\Documents\\\\Database\\\\Karyotypes\\\\Arrangement_Merged\\\\chr_x_p22_cnv\\\\W23060-1~A.0042.K.jpg.X_p22cnv_deletion_cnv.bmp',\n",
       "   'D:\\\\Users\\\\Chuan\\\\Documents\\\\Database\\\\Karyotypes\\\\Arrangement_Merged\\\\chr_x_p22_cnv\\\\W23060-1~A.0046.K.jpg.X_p22cnv_deletion_cnv.bmp',\n",
       "   'D:\\\\Users\\\\Chuan\\\\Documents\\\\Database\\\\Karyotypes\\\\Arrangement_Merged\\\\chr_x_p22_cnv\\\\W23060-CW190327.jpg.X_p22cnv_deletion_cnv.bmp'],\n",
       "  '3': ['D:\\\\Users\\\\Chuan\\\\Documents\\\\Database\\\\Karyotypes\\\\Arrangement_Merged\\\\chr_x_p22_cnv\\\\191128-del(X)(p22)-12R.bmp',\n",
       "   'D:\\\\Users\\\\Chuan\\\\Documents\\\\Database\\\\Karyotypes\\\\Arrangement_Merged\\\\chr_x_p22_cnv\\\\191128-del(X)(p22)-13R.bmp',\n",
       "   'D:\\\\Users\\\\Chuan\\\\Documents\\\\Database\\\\Karyotypes\\\\Arrangement_Merged\\\\chr_x_p22_cnv\\\\191128-del(X)(p22)-14R.bmp',\n",
       "   'D:\\\\Users\\\\Chuan\\\\Documents\\\\Database\\\\Karyotypes\\\\Arrangement_Merged\\\\chr_x_p22_cnv\\\\191128-del(X)(p22)-15R.bmp',\n",
       "   'D:\\\\Users\\\\Chuan\\\\Documents\\\\Database\\\\Karyotypes\\\\Arrangement_Merged\\\\chr_x_p22_cnv\\\\191128-del(X)(p22)-16R.bmp',\n",
       "   'D:\\\\Users\\\\Chuan\\\\Documents\\\\Database\\\\Karyotypes\\\\Arrangement_Merged\\\\chr_x_p22_cnv\\\\191128-del(X)(p22)-19R.bmp',\n",
       "   'D:\\\\Users\\\\Chuan\\\\Documents\\\\Database\\\\Karyotypes\\\\Arrangement_Merged\\\\chr_x_p22_cnv\\\\191128-del(X)(p22)-20R.bmp',\n",
       "   'D:\\\\Users\\\\Chuan\\\\Documents\\\\Database\\\\Karyotypes\\\\Arrangement_Merged\\\\chr_x_p22_cnv\\\\191128-del(X)(p22)-21R.bmp',\n",
       "   'D:\\\\Users\\\\Chuan\\\\Documents\\\\Database\\\\Karyotypes\\\\Arrangement_Merged\\\\chr_x_p22_cnv\\\\191128-del(X)(p22)-22R.bmp',\n",
       "   'D:\\\\Users\\\\Chuan\\\\Documents\\\\Database\\\\Karyotypes\\\\Arrangement_Merged\\\\chr_x_p22_cnv\\\\191128-del(X)(p22)-2R.bmp',\n",
       "   'D:\\\\Users\\\\Chuan\\\\Documents\\\\Database\\\\Karyotypes\\\\Arrangement_Merged\\\\chr_x_p22_cnv\\\\191128-del(X)(p22)-4R.bmp',\n",
       "   'D:\\\\Users\\\\Chuan\\\\Documents\\\\Database\\\\Karyotypes\\\\Arrangement_Merged\\\\chr_x_p22_cnv\\\\191128-del(X)(p22)-7R.bmp',\n",
       "   'D:\\\\Users\\\\Chuan\\\\Documents\\\\Database\\\\Karyotypes\\\\Arrangement_Merged\\\\chr_x_p22_cnv\\\\191128-del(X)(p22)-8R.bmp',\n",
       "   'D:\\\\Users\\\\Chuan\\\\Documents\\\\Database\\\\Karyotypes\\\\Arrangement_Merged\\\\chr_x_p22_cnv\\\\191128-del(X)(p22)-9R.bmp',\n",
       "   'D:\\\\Users\\\\Chuan\\\\Documents\\\\Database\\\\Karyotypes\\\\Arrangement_Merged\\\\chr_x_p22_cnv\\\\W23060-1~A.0003.K.jpg.X_p22cnv_deletion_cnv.bmp',\n",
       "   'D:\\\\Users\\\\Chuan\\\\Documents\\\\Database\\\\Karyotypes\\\\Arrangement_Merged\\\\chr_x_p22_cnv\\\\W23060-1~A.0005.K.jpg.X_p22cnv_deletion.bmp',\n",
       "   'D:\\\\Users\\\\Chuan\\\\Documents\\\\Database\\\\Karyotypes\\\\Arrangement_Merged\\\\chr_x_p22_cnv\\\\W23060-1~A.0007.K.jpg.X_p22cnv_deletion.bmp',\n",
       "   'D:\\\\Users\\\\Chuan\\\\Documents\\\\Database\\\\Karyotypes\\\\Arrangement_Merged\\\\chr_x_p22_cnv\\\\W23060-1~A.0009.K.jpg.X_p22cnv_deletion.bmp',\n",
       "   'D:\\\\Users\\\\Chuan\\\\Documents\\\\Database\\\\Karyotypes\\\\Arrangement_Merged\\\\chr_x_p22_cnv\\\\W23060-1~A.0018.K.jpg.X_p22cnv_deletion.bmp',\n",
       "   'D:\\\\Users\\\\Chuan\\\\Documents\\\\Database\\\\Karyotypes\\\\Arrangement_Merged\\\\chr_x_p22_cnv\\\\W23060-1~A.0025.K.jpg.X_p22cnv_deletion.bmp',\n",
       "   'D:\\\\Users\\\\Chuan\\\\Documents\\\\Database\\\\Karyotypes\\\\Arrangement_Merged\\\\chr_x_p22_cnv\\\\W23060-1~A.0029.K.jpg.X_p22cnv_deletion.bmp',\n",
       "   'D:\\\\Users\\\\Chuan\\\\Documents\\\\Database\\\\Karyotypes\\\\Arrangement_Merged\\\\chr_x_p22_cnv\\\\W23060-1~A.0032.K.jpg.X_p22cnv_deletion.bmp',\n",
       "   'D:\\\\Users\\\\Chuan\\\\Documents\\\\Database\\\\Karyotypes\\\\Arrangement_Merged\\\\chr_x_p22_cnv\\\\W23060-1~A.0033.K.jpg.X_p22cnv_deletion.bmp',\n",
       "   'D:\\\\Users\\\\Chuan\\\\Documents\\\\Database\\\\Karyotypes\\\\Arrangement_Merged\\\\chr_x_p22_cnv\\\\W23060-1~A.0035.K.jpg.X_p22cnv_deletion.bmp',\n",
       "   'D:\\\\Users\\\\Chuan\\\\Documents\\\\Database\\\\Karyotypes\\\\Arrangement_Merged\\\\chr_x_p22_cnv\\\\W23060-1~A.0040.K.jpg.X_p22cnv_deletion.bmp',\n",
       "   'D:\\\\Users\\\\Chuan\\\\Documents\\\\Database\\\\Karyotypes\\\\Arrangement_Merged\\\\chr_x_p22_cnv\\\\W23060-1~A.0042.K.jpg.X_p22cnv_deletion_cnv.bmp',\n",
       "   'D:\\\\Users\\\\Chuan\\\\Documents\\\\Database\\\\Karyotypes\\\\Arrangement_Merged\\\\chr_x_p22_cnv\\\\W23060-1~A.0046.K.jpg.X_p22cnv_deletion_cnv.bmp'],\n",
       "  '4': ['D:\\\\Users\\\\Chuan\\\\Documents\\\\Database\\\\Karyotypes\\\\Arrangement_Merged\\\\chr_x_p22_cnv\\\\191128-del(X)(p22)-10R.bmp',\n",
       "   'D:\\\\Users\\\\Chuan\\\\Documents\\\\Database\\\\Karyotypes\\\\Arrangement_Merged\\\\chr_x_p22_cnv\\\\191128-del(X)(p22)-11R.bmp',\n",
       "   'D:\\\\Users\\\\Chuan\\\\Documents\\\\Database\\\\Karyotypes\\\\Arrangement_Merged\\\\chr_x_p22_cnv\\\\191128-del(X)(p22)-12R.bmp',\n",
       "   'D:\\\\Users\\\\Chuan\\\\Documents\\\\Database\\\\Karyotypes\\\\Arrangement_Merged\\\\chr_x_p22_cnv\\\\191128-del(X)(p22)-13R.bmp',\n",
       "   'D:\\\\Users\\\\Chuan\\\\Documents\\\\Database\\\\Karyotypes\\\\Arrangement_Merged\\\\chr_x_p22_cnv\\\\191128-del(X)(p22)-14R.bmp',\n",
       "   'D:\\\\Users\\\\Chuan\\\\Documents\\\\Database\\\\Karyotypes\\\\Arrangement_Merged\\\\chr_x_p22_cnv\\\\191128-del(X)(p22)-16R.bmp',\n",
       "   'D:\\\\Users\\\\Chuan\\\\Documents\\\\Database\\\\Karyotypes\\\\Arrangement_Merged\\\\chr_x_p22_cnv\\\\191128-del(X)(p22)-18R.bmp',\n",
       "   'D:\\\\Users\\\\Chuan\\\\Documents\\\\Database\\\\Karyotypes\\\\Arrangement_Merged\\\\chr_x_p22_cnv\\\\191128-del(X)(p22)-21R.bmp',\n",
       "   'D:\\\\Users\\\\Chuan\\\\Documents\\\\Database\\\\Karyotypes\\\\Arrangement_Merged\\\\chr_x_p22_cnv\\\\191128-del(X)(p22)-3R.bmp',\n",
       "   'D:\\\\Users\\\\Chuan\\\\Documents\\\\Database\\\\Karyotypes\\\\Arrangement_Merged\\\\chr_x_p22_cnv\\\\191128-del(X)(p22)-4R.bmp',\n",
       "   'D:\\\\Users\\\\Chuan\\\\Documents\\\\Database\\\\Karyotypes\\\\Arrangement_Merged\\\\chr_x_p22_cnv\\\\191128-del(X)(p22)-5R.bmp',\n",
       "   'D:\\\\Users\\\\Chuan\\\\Documents\\\\Database\\\\Karyotypes\\\\Arrangement_Merged\\\\chr_x_p22_cnv\\\\191128-del(X)(p22)-6R.bmp',\n",
       "   'D:\\\\Users\\\\Chuan\\\\Documents\\\\Database\\\\Karyotypes\\\\Arrangement_Merged\\\\chr_x_p22_cnv\\\\191128-del(X)(p22)-7R.bmp',\n",
       "   'D:\\\\Users\\\\Chuan\\\\Documents\\\\Database\\\\Karyotypes\\\\Arrangement_Merged\\\\chr_x_p22_cnv\\\\191128-del(X)(p22)-8R.bmp',\n",
       "   'D:\\\\Users\\\\Chuan\\\\Documents\\\\Database\\\\Karyotypes\\\\Arrangement_Merged\\\\chr_x_p22_cnv\\\\191128-del(X)(p22)-9R.bmp',\n",
       "   'D:\\\\Users\\\\Chuan\\\\Documents\\\\Database\\\\Karyotypes\\\\Arrangement_Merged\\\\chr_x_p22_cnv\\\\W23060-1~A.0003.K.jpg.X_p22cnv_deletion_cnv.bmp',\n",
       "   'D:\\\\Users\\\\Chuan\\\\Documents\\\\Database\\\\Karyotypes\\\\Arrangement_Merged\\\\chr_x_p22_cnv\\\\W23060-1~A.0005.K.jpg.X_p22cnv_deletion.bmp',\n",
       "   'D:\\\\Users\\\\Chuan\\\\Documents\\\\Database\\\\Karyotypes\\\\Arrangement_Merged\\\\chr_x_p22_cnv\\\\W23060-1~A.0007.K.jpg.X_p22cnv_deletion.bmp',\n",
       "   'D:\\\\Users\\\\Chuan\\\\Documents\\\\Database\\\\Karyotypes\\\\Arrangement_Merged\\\\chr_x_p22_cnv\\\\W23060-1~A.0009.K.jpg.X_p22cnv_deletion.bmp',\n",
       "   'D:\\\\Users\\\\Chuan\\\\Documents\\\\Database\\\\Karyotypes\\\\Arrangement_Merged\\\\chr_x_p22_cnv\\\\W23060-1~A.0018.K.jpg.X_p22cnv_deletion.bmp',\n",
       "   'D:\\\\Users\\\\Chuan\\\\Documents\\\\Database\\\\Karyotypes\\\\Arrangement_Merged\\\\chr_x_p22_cnv\\\\W23060-1~A.0025.K.jpg.X_p22cnv_deletion.bmp',\n",
       "   'D:\\\\Users\\\\Chuan\\\\Documents\\\\Database\\\\Karyotypes\\\\Arrangement_Merged\\\\chr_x_p22_cnv\\\\W23060-1~A.0029.K.jpg.X_p22cnv_deletion.bmp',\n",
       "   'D:\\\\Users\\\\Chuan\\\\Documents\\\\Database\\\\Karyotypes\\\\Arrangement_Merged\\\\chr_x_p22_cnv\\\\W23060-1~A.0032.K.jpg.X_p22cnv_deletion.bmp',\n",
       "   'D:\\\\Users\\\\Chuan\\\\Documents\\\\Database\\\\Karyotypes\\\\Arrangement_Merged\\\\chr_x_p22_cnv\\\\W23060-1~A.0033.K.jpg.X_p22cnv_deletion.bmp',\n",
       "   'D:\\\\Users\\\\Chuan\\\\Documents\\\\Database\\\\Karyotypes\\\\Arrangement_Merged\\\\chr_x_p22_cnv\\\\W23060-1~A.0035.K.jpg.X_p22cnv_deletion.bmp',\n",
       "   'D:\\\\Users\\\\Chuan\\\\Documents\\\\Database\\\\Karyotypes\\\\Arrangement_Merged\\\\chr_x_p22_cnv\\\\W23060-1~A.0040.K.jpg.X_p22cnv_deletion.bmp',\n",
       "   'D:\\\\Users\\\\Chuan\\\\Documents\\\\Database\\\\Karyotypes\\\\Arrangement_Merged\\\\chr_x_p22_cnv\\\\W23060-1~A.0046.K.jpg.X_p22cnv_deletion_cnv.bmp',\n",
       "   'D:\\\\Users\\\\Chuan\\\\Documents\\\\Database\\\\Karyotypes\\\\Arrangement_Merged\\\\chr_x_p22_cnv\\\\W23060-CW190327.jpg.X_p22cnv_deletion_cnv.bmp']}}"
      ]
     },
     "execution_count": 3,
     "metadata": {},
     "output_type": "execute_result"
    }
   ],
   "source": [
    "with open('data_X_train_name.json') as json_file:\n",
    "    X_train_name = json.load(json_file)\n",
    "X_train_name"
   ]
  },
  {
   "cell_type": "code",
   "execution_count": 4,
   "metadata": {},
   "outputs": [],
   "source": [
    "with open('data_X_test_name.json') as json_file:\n",
    "    X_test_name = json.load(json_file)"
   ]
  },
  {
   "cell_type": "code",
   "execution_count": 5,
   "metadata": {},
   "outputs": [
    {
     "data": {
      "text/plain": [
       "{'chr_x': ['D:\\\\Users\\\\Chuan\\\\Documents\\\\Database\\\\Karyotypes\\\\Arrangement_Merged\\\\chr_x\\\\191128-del(X)(p22)-10L.bmp',\n",
       "  'D:\\\\Users\\\\Chuan\\\\Documents\\\\Database\\\\Karyotypes\\\\Arrangement_Merged\\\\chr_x\\\\191128-del(X)(p22)-11L.bmp',\n",
       "  'D:\\\\Users\\\\Chuan\\\\Documents\\\\Database\\\\Karyotypes\\\\Arrangement_Merged\\\\chr_x\\\\191128-del(X)(p22)-12L.bmp',\n",
       "  'D:\\\\Users\\\\Chuan\\\\Documents\\\\Database\\\\Karyotypes\\\\Arrangement_Merged\\\\chr_x\\\\191128-del(X)(p22)-13L.bmp',\n",
       "  'D:\\\\Users\\\\Chuan\\\\Documents\\\\Database\\\\Karyotypes\\\\Arrangement_Merged\\\\chr_x\\\\191128-del(X)(p22)-14L.bmp',\n",
       "  'D:\\\\Users\\\\Chuan\\\\Documents\\\\Database\\\\Karyotypes\\\\Arrangement_Merged\\\\chr_x\\\\191128-del(X)(p22)-15L.bmp',\n",
       "  'D:\\\\Users\\\\Chuan\\\\Documents\\\\Database\\\\Karyotypes\\\\Arrangement_Merged\\\\chr_x\\\\191128-del(X)(p22)-16L.bmp',\n",
       "  'D:\\\\Users\\\\Chuan\\\\Documents\\\\Database\\\\Karyotypes\\\\Arrangement_Merged\\\\chr_x\\\\191128-del(X)(p22)-17L.bmp',\n",
       "  'D:\\\\Users\\\\Chuan\\\\Documents\\\\Database\\\\Karyotypes\\\\Arrangement_Merged\\\\chr_x\\\\191128-del(X)(p22)-18L.bmp',\n",
       "  'D:\\\\Users\\\\Chuan\\\\Documents\\\\Database\\\\Karyotypes\\\\Arrangement_Merged\\\\chr_x\\\\191128-del(X)(p22)-19L.bmp',\n",
       "  'D:\\\\Users\\\\Chuan\\\\Documents\\\\Database\\\\Karyotypes\\\\Arrangement_Merged\\\\chr_x\\\\191128-del(X)(p22)-1L.bmp',\n",
       "  'D:\\\\Users\\\\Chuan\\\\Documents\\\\Database\\\\Karyotypes\\\\Arrangement_Merged\\\\chr_x\\\\191128-del(X)(p22)-20L.bmp',\n",
       "  'D:\\\\Users\\\\Chuan\\\\Documents\\\\Database\\\\Karyotypes\\\\Arrangement_Merged\\\\chr_x\\\\191128-del(X)(p22)-21L.bmp',\n",
       "  'D:\\\\Users\\\\Chuan\\\\Documents\\\\Database\\\\Karyotypes\\\\Arrangement_Merged\\\\chr_x\\\\191128-del(X)(p22)-22L.bmp',\n",
       "  'D:\\\\Users\\\\Chuan\\\\Documents\\\\Database\\\\Karyotypes\\\\Arrangement_Merged\\\\chr_x\\\\191128-del(X)(p22)-2L.bmp',\n",
       "  'D:\\\\Users\\\\Chuan\\\\Documents\\\\Database\\\\Karyotypes\\\\Arrangement_Merged\\\\chr_x\\\\191128-del(X)(p22)-3L.bmp',\n",
       "  'D:\\\\Users\\\\Chuan\\\\Documents\\\\Database\\\\Karyotypes\\\\Arrangement_Merged\\\\chr_x\\\\191128-del(X)(p22)-4L.bmp',\n",
       "  'D:\\\\Users\\\\Chuan\\\\Documents\\\\Database\\\\Karyotypes\\\\Arrangement_Merged\\\\chr_x\\\\191128-del(X)(p22)-6L.bmp',\n",
       "  'D:\\\\Users\\\\Chuan\\\\Documents\\\\Database\\\\Karyotypes\\\\Arrangement_Merged\\\\chr_x\\\\191128-del(X)(p22)-7L.bmp',\n",
       "  'D:\\\\Users\\\\Chuan\\\\Documents\\\\Database\\\\Karyotypes\\\\Arrangement_Merged\\\\chr_x\\\\191128-del(X)(p22)-8L.bmp',\n",
       "  'D:\\\\Users\\\\Chuan\\\\Documents\\\\Database\\\\Karyotypes\\\\Arrangement_Merged\\\\chr_x\\\\191128-del(X)(p22)-9L.bmp',\n",
       "  'D:\\\\Users\\\\Chuan\\\\Documents\\\\Database\\\\Karyotypes\\\\Arrangement_Merged\\\\chr_x\\\\192478-delXq21-10L.bmp',\n",
       "  'D:\\\\Users\\\\Chuan\\\\Documents\\\\Database\\\\Karyotypes\\\\Arrangement_Merged\\\\chr_x\\\\192478-delXq21-11L.bmp',\n",
       "  'D:\\\\Users\\\\Chuan\\\\Documents\\\\Database\\\\Karyotypes\\\\Arrangement_Merged\\\\chr_x\\\\192478-delXq21-12L.bmp',\n",
       "  'D:\\\\Users\\\\Chuan\\\\Documents\\\\Database\\\\Karyotypes\\\\Arrangement_Merged\\\\chr_x\\\\192478-delXq21-13L.bmp',\n",
       "  'D:\\\\Users\\\\Chuan\\\\Documents\\\\Database\\\\Karyotypes\\\\Arrangement_Merged\\\\chr_x\\\\192478-delXq21-14L.bmp',\n",
       "  'D:\\\\Users\\\\Chuan\\\\Documents\\\\Database\\\\Karyotypes\\\\Arrangement_Merged\\\\chr_x\\\\192478-delXq21-15L.bmp',\n",
       "  'D:\\\\Users\\\\Chuan\\\\Documents\\\\Database\\\\Karyotypes\\\\Arrangement_Merged\\\\chr_x\\\\192478-delXq21-16L.bmp',\n",
       "  'D:\\\\Users\\\\Chuan\\\\Documents\\\\Database\\\\Karyotypes\\\\Arrangement_Merged\\\\chr_x\\\\192478-delXq21-17L.bmp',\n",
       "  'D:\\\\Users\\\\Chuan\\\\Documents\\\\Database\\\\Karyotypes\\\\Arrangement_Merged\\\\chr_x\\\\192478-delXq21-18L.bmp',\n",
       "  'D:\\\\Users\\\\Chuan\\\\Documents\\\\Database\\\\Karyotypes\\\\Arrangement_Merged\\\\chr_x\\\\192478-delXq21-19L.bmp',\n",
       "  'D:\\\\Users\\\\Chuan\\\\Documents\\\\Database\\\\Karyotypes\\\\Arrangement_Merged\\\\chr_x\\\\192478-delXq21-1L.bmp',\n",
       "  'D:\\\\Users\\\\Chuan\\\\Documents\\\\Database\\\\Karyotypes\\\\Arrangement_Merged\\\\chr_x\\\\192478-delXq21-20L.bmp',\n",
       "  'D:\\\\Users\\\\Chuan\\\\Documents\\\\Database\\\\Karyotypes\\\\Arrangement_Merged\\\\chr_x\\\\192478-delXq21-21L.bmp',\n",
       "  'D:\\\\Users\\\\Chuan\\\\Documents\\\\Database\\\\Karyotypes\\\\Arrangement_Merged\\\\chr_x\\\\192478-delXq21-22L.bmp',\n",
       "  'D:\\\\Users\\\\Chuan\\\\Documents\\\\Database\\\\Karyotypes\\\\Arrangement_Merged\\\\chr_x\\\\192478-delXq21-23L.bmp',\n",
       "  'D:\\\\Users\\\\Chuan\\\\Documents\\\\Database\\\\Karyotypes\\\\Arrangement_Merged\\\\chr_x\\\\192478-delXq21-24L.bmp',\n",
       "  'D:\\\\Users\\\\Chuan\\\\Documents\\\\Database\\\\Karyotypes\\\\Arrangement_Merged\\\\chr_x\\\\192478-delXq21-25L.bmp',\n",
       "  'D:\\\\Users\\\\Chuan\\\\Documents\\\\Database\\\\Karyotypes\\\\Arrangement_Merged\\\\chr_x\\\\192478-delXq21-26L.bmp',\n",
       "  'D:\\\\Users\\\\Chuan\\\\Documents\\\\Database\\\\Karyotypes\\\\Arrangement_Merged\\\\chr_x\\\\192478-delXq21-27L.bmp',\n",
       "  'D:\\\\Users\\\\Chuan\\\\Documents\\\\Database\\\\Karyotypes\\\\Arrangement_Merged\\\\chr_x\\\\192478-delXq21-28L.bmp',\n",
       "  'D:\\\\Users\\\\Chuan\\\\Documents\\\\Database\\\\Karyotypes\\\\Arrangement_Merged\\\\chr_x\\\\192478-delXq21-29L.bmp',\n",
       "  'D:\\\\Users\\\\Chuan\\\\Documents\\\\Database\\\\Karyotypes\\\\Arrangement_Merged\\\\chr_x\\\\192478-delXq21-2L.bmp',\n",
       "  'D:\\\\Users\\\\Chuan\\\\Documents\\\\Database\\\\Karyotypes\\\\Arrangement_Merged\\\\chr_x\\\\192478-delXq21-30L.bmp',\n",
       "  'D:\\\\Users\\\\Chuan\\\\Documents\\\\Database\\\\Karyotypes\\\\Arrangement_Merged\\\\chr_x\\\\192478-delXq21-31L.bmp',\n",
       "  'D:\\\\Users\\\\Chuan\\\\Documents\\\\Database\\\\Karyotypes\\\\Arrangement_Merged\\\\chr_x\\\\192478-delXq21-3L.bmp',\n",
       "  'D:\\\\Users\\\\Chuan\\\\Documents\\\\Database\\\\Karyotypes\\\\Arrangement_Merged\\\\chr_x\\\\192478-delXq21-4L.bmp',\n",
       "  'D:\\\\Users\\\\Chuan\\\\Documents\\\\Database\\\\Karyotypes\\\\Arrangement_Merged\\\\chr_x\\\\192478-delXq21-6L.bmp',\n",
       "  'D:\\\\Users\\\\Chuan\\\\Documents\\\\Database\\\\Karyotypes\\\\Arrangement_Merged\\\\chr_x\\\\192478-delXq21-7L.bmp',\n",
       "  'D:\\\\Users\\\\Chuan\\\\Documents\\\\Database\\\\Karyotypes\\\\Arrangement_Merged\\\\chr_x\\\\192478-delXq21-8L.bmp',\n",
       "  'D:\\\\Users\\\\Chuan\\\\Documents\\\\Database\\\\Karyotypes\\\\Arrangement_Merged\\\\chr_x\\\\192478-delXq21-9L.bmp',\n",
       "  'D:\\\\Users\\\\Chuan\\\\Documents\\\\Database\\\\Karyotypes\\\\Arrangement_Merged\\\\chr_x\\\\87092-i(X)(q10)-10L.bmp',\n",
       "  'D:\\\\Users\\\\Chuan\\\\Documents\\\\Database\\\\Karyotypes\\\\Arrangement_Merged\\\\chr_x\\\\87092-i(X)(q10)-11L.bmp',\n",
       "  'D:\\\\Users\\\\Chuan\\\\Documents\\\\Database\\\\Karyotypes\\\\Arrangement_Merged\\\\chr_x\\\\87092-i(X)(q10)-12L.bmp',\n",
       "  'D:\\\\Users\\\\Chuan\\\\Documents\\\\Database\\\\Karyotypes\\\\Arrangement_Merged\\\\chr_x\\\\87092-i(X)(q10)-13L.bmp',\n",
       "  'D:\\\\Users\\\\Chuan\\\\Documents\\\\Database\\\\Karyotypes\\\\Arrangement_Merged\\\\chr_x\\\\87092-i(X)(q10)-14L.bmp',\n",
       "  'D:\\\\Users\\\\Chuan\\\\Documents\\\\Database\\\\Karyotypes\\\\Arrangement_Merged\\\\chr_x\\\\87092-i(X)(q10)-15L.bmp',\n",
       "  'D:\\\\Users\\\\Chuan\\\\Documents\\\\Database\\\\Karyotypes\\\\Arrangement_Merged\\\\chr_x\\\\87092-i(X)(q10)-16L.bmp',\n",
       "  'D:\\\\Users\\\\Chuan\\\\Documents\\\\Database\\\\Karyotypes\\\\Arrangement_Merged\\\\chr_x\\\\87092-i(X)(q10)-17L.bmp',\n",
       "  'D:\\\\Users\\\\Chuan\\\\Documents\\\\Database\\\\Karyotypes\\\\Arrangement_Merged\\\\chr_x\\\\87092-i(X)(q10)-18L.bmp',\n",
       "  'D:\\\\Users\\\\Chuan\\\\Documents\\\\Database\\\\Karyotypes\\\\Arrangement_Merged\\\\chr_x\\\\87092-i(X)(q10)-19L.bmp',\n",
       "  'D:\\\\Users\\\\Chuan\\\\Documents\\\\Database\\\\Karyotypes\\\\Arrangement_Merged\\\\chr_x\\\\87092-i(X)(q10)-20L.bmp',\n",
       "  'D:\\\\Users\\\\Chuan\\\\Documents\\\\Database\\\\Karyotypes\\\\Arrangement_Merged\\\\chr_x\\\\87092-i(X)(q10)-21L.bmp',\n",
       "  'D:\\\\Users\\\\Chuan\\\\Documents\\\\Database\\\\Karyotypes\\\\Arrangement_Merged\\\\chr_x\\\\87092-i(X)(q10)-22L.bmp',\n",
       "  'D:\\\\Users\\\\Chuan\\\\Documents\\\\Database\\\\Karyotypes\\\\Arrangement_Merged\\\\chr_x\\\\87092-i(X)(q10)-23L.bmp',\n",
       "  'D:\\\\Users\\\\Chuan\\\\Documents\\\\Database\\\\Karyotypes\\\\Arrangement_Merged\\\\chr_x\\\\87092-i(X)(q10)-25L.bmp',\n",
       "  'D:\\\\Users\\\\Chuan\\\\Documents\\\\Database\\\\Karyotypes\\\\Arrangement_Merged\\\\chr_x\\\\87092-i(X)(q10)-26L.bmp',\n",
       "  'D:\\\\Users\\\\Chuan\\\\Documents\\\\Database\\\\Karyotypes\\\\Arrangement_Merged\\\\chr_x\\\\87092-i(X)(q10)-27L.bmp',\n",
       "  'D:\\\\Users\\\\Chuan\\\\Documents\\\\Database\\\\Karyotypes\\\\Arrangement_Merged\\\\chr_x\\\\87092-i(X)(q10)-28L.bmp',\n",
       "  'D:\\\\Users\\\\Chuan\\\\Documents\\\\Database\\\\Karyotypes\\\\Arrangement_Merged\\\\chr_x\\\\87092-i(X)(q10)-29L.bmp',\n",
       "  'D:\\\\Users\\\\Chuan\\\\Documents\\\\Database\\\\Karyotypes\\\\Arrangement_Merged\\\\chr_x\\\\87092-i(X)(q10)-2L.bmp',\n",
       "  'D:\\\\Users\\\\Chuan\\\\Documents\\\\Database\\\\Karyotypes\\\\Arrangement_Merged\\\\chr_x\\\\87092-i(X)(q10)-3L.bmp',\n",
       "  'D:\\\\Users\\\\Chuan\\\\Documents\\\\Database\\\\Karyotypes\\\\Arrangement_Merged\\\\chr_x\\\\87092-i(X)(q10)-4L.bmp',\n",
       "  'D:\\\\Users\\\\Chuan\\\\Documents\\\\Database\\\\Karyotypes\\\\Arrangement_Merged\\\\chr_x\\\\87092-i(X)(q10)-5L.bmp',\n",
       "  'D:\\\\Users\\\\Chuan\\\\Documents\\\\Database\\\\Karyotypes\\\\Arrangement_Merged\\\\chr_x\\\\87092-i(X)(q10)-6L.bmp',\n",
       "  'D:\\\\Users\\\\Chuan\\\\Documents\\\\Database\\\\Karyotypes\\\\Arrangement_Merged\\\\chr_x\\\\87092-i(X)(q10)-7L.bmp',\n",
       "  'D:\\\\Users\\\\Chuan\\\\Documents\\\\Database\\\\Karyotypes\\\\Arrangement_Merged\\\\chr_x\\\\87092-i(X)(q10)-8L.bmp',\n",
       "  'D:\\\\Users\\\\Chuan\\\\Documents\\\\Database\\\\Karyotypes\\\\Arrangement_Merged\\\\chr_x\\\\W17068~A.0003.K.jpg.X.bmp',\n",
       "  'D:\\\\Users\\\\Chuan\\\\Documents\\\\Database\\\\Karyotypes\\\\Arrangement_Merged\\\\chr_x\\\\W17068~A.0004.K.jpg.X.bmp',\n",
       "  'D:\\\\Users\\\\Chuan\\\\Documents\\\\Database\\\\Karyotypes\\\\Arrangement_Merged\\\\chr_x\\\\W17068~A.0006.K.jpg.X.bmp',\n",
       "  'D:\\\\Users\\\\Chuan\\\\Documents\\\\Database\\\\Karyotypes\\\\Arrangement_Merged\\\\chr_x\\\\W17068~A.0008.K.X.bmp',\n",
       "  'D:\\\\Users\\\\Chuan\\\\Documents\\\\Database\\\\Karyotypes\\\\Arrangement_Merged\\\\chr_x\\\\W17068~A.0009.K.X.bmp',\n",
       "  'D:\\\\Users\\\\Chuan\\\\Documents\\\\Database\\\\Karyotypes\\\\Arrangement_Merged\\\\chr_x\\\\W17068~A.0010.K.X.bmp',\n",
       "  'D:\\\\Users\\\\Chuan\\\\Documents\\\\Database\\\\Karyotypes\\\\Arrangement_Merged\\\\chr_x\\\\W17068~A.0011.K.X.bmp',\n",
       "  'D:\\\\Users\\\\Chuan\\\\Documents\\\\Database\\\\Karyotypes\\\\Arrangement_Merged\\\\chr_x\\\\W17068~A.0012.K.X.bmp',\n",
       "  'D:\\\\Users\\\\Chuan\\\\Documents\\\\Database\\\\Karyotypes\\\\Arrangement_Merged\\\\chr_x\\\\W17068~A.0014.K.X.bmp',\n",
       "  'D:\\\\Users\\\\Chuan\\\\Documents\\\\Database\\\\Karyotypes\\\\Arrangement_Merged\\\\chr_x\\\\W17068~A.0016.K.X.bmp',\n",
       "  'D:\\\\Users\\\\Chuan\\\\Documents\\\\Database\\\\Karyotypes\\\\Arrangement_Merged\\\\chr_x\\\\W17068~A.0019.K.X.bmp',\n",
       "  'D:\\\\Users\\\\Chuan\\\\Documents\\\\Database\\\\Karyotypes\\\\Arrangement_Merged\\\\chr_x\\\\W17068~A.0020.K.X.bmp',\n",
       "  'D:\\\\Users\\\\Chuan\\\\Documents\\\\Database\\\\Karyotypes\\\\Arrangement_Merged\\\\chr_x\\\\W17068~A.0023.K.X.bmp',\n",
       "  'D:\\\\Users\\\\Chuan\\\\Documents\\\\Database\\\\Karyotypes\\\\Arrangement_Merged\\\\chr_x\\\\W17068~A.0024.X_.bmp',\n",
       "  'D:\\\\Users\\\\Chuan\\\\Documents\\\\Database\\\\Karyotypes\\\\Arrangement_Merged\\\\chr_x\\\\W17068~A.0025.X.bmp',\n",
       "  'D:\\\\Users\\\\Chuan\\\\Documents\\\\Database\\\\Karyotypes\\\\Arrangement_Merged\\\\chr_x\\\\W17068~A.0026.X.bmp',\n",
       "  'D:\\\\Users\\\\Chuan\\\\Documents\\\\Database\\\\Karyotypes\\\\Arrangement_Merged\\\\chr_x\\\\W17068~A.0034.K.jpg.X.bmp',\n",
       "  'D:\\\\Users\\\\Chuan\\\\Documents\\\\Database\\\\Karyotypes\\\\Arrangement_Merged\\\\chr_x\\\\W17068~A.0036.K.jpg.X.bmp',\n",
       "  'D:\\\\Users\\\\Chuan\\\\Documents\\\\Database\\\\Karyotypes\\\\Arrangement_Merged\\\\chr_x\\\\W17068~A.0039.K.jpg.X.bmp',\n",
       "  'D:\\\\Users\\\\Chuan\\\\Documents\\\\Database\\\\Karyotypes\\\\Arrangement_Merged\\\\chr_x\\\\w21000~A.0001.K.jpg.X.bmp',\n",
       "  'D:\\\\Users\\\\Chuan\\\\Documents\\\\Database\\\\Karyotypes\\\\Arrangement_Merged\\\\chr_x\\\\w21000~A.0001.K.jpg.XR.bmp',\n",
       "  'D:\\\\Users\\\\Chuan\\\\Documents\\\\Database\\\\Karyotypes\\\\Arrangement_Merged\\\\chr_x\\\\w21001~A.0008.K.jpg.x.bmp',\n",
       "  'D:\\\\Users\\\\Chuan\\\\Documents\\\\Database\\\\Karyotypes\\\\Arrangement_Merged\\\\chr_x\\\\w21002~A.0024.K.jpg.x.bmp',\n",
       "  'D:\\\\Users\\\\Chuan\\\\Documents\\\\Database\\\\Karyotypes\\\\Arrangement_Merged\\\\chr_x\\\\w21008~A.0008.K.jpg.XL.bmp',\n",
       "  'D:\\\\Users\\\\Chuan\\\\Documents\\\\Database\\\\Karyotypes\\\\Arrangement_Merged\\\\chr_x\\\\w21008~A.0008.K.jpg.XR.bmp',\n",
       "  'D:\\\\Users\\\\Chuan\\\\Documents\\\\Database\\\\Karyotypes\\\\Arrangement_Merged\\\\chr_x\\\\W21011~A.0008.K.XL.bmp',\n",
       "  'D:\\\\Users\\\\Chuan\\\\Documents\\\\Database\\\\Karyotypes\\\\Arrangement_Merged\\\\chr_x\\\\W21011~A.0008.K.XR.bmp',\n",
       "  'D:\\\\Users\\\\Chuan\\\\Documents\\\\Database\\\\Karyotypes\\\\Arrangement_Merged\\\\chr_x\\\\W21012~A.0019.K.XL.bmp',\n",
       "  'D:\\\\Users\\\\Chuan\\\\Documents\\\\Database\\\\Karyotypes\\\\Arrangement_Merged\\\\chr_x\\\\W21012~A.0019.K.XR.bmp',\n",
       "  'D:\\\\Users\\\\Chuan\\\\Documents\\\\Database\\\\Karyotypes\\\\Arrangement_Merged\\\\chr_x\\\\W21014~A.0005.K.X.bmp',\n",
       "  'D:\\\\Users\\\\Chuan\\\\Documents\\\\Database\\\\Karyotypes\\\\Arrangement_Merged\\\\chr_x\\\\W21022~A.0007.K.jpg.XL.bmp',\n",
       "  'D:\\\\Users\\\\Chuan\\\\Documents\\\\Database\\\\Karyotypes\\\\Arrangement_Merged\\\\chr_x\\\\W21022~A.0007.K.jpg.XR.bmp',\n",
       "  'D:\\\\Users\\\\Chuan\\\\Documents\\\\Database\\\\Karyotypes\\\\Arrangement_Merged\\\\chr_x\\\\W21025~A.0002.K.jpg.X.bmp',\n",
       "  'D:\\\\Users\\\\Chuan\\\\Documents\\\\Database\\\\Karyotypes\\\\Arrangement_Merged\\\\chr_x\\\\W21027~A.0003.K.X.bmp',\n",
       "  'D:\\\\Users\\\\Chuan\\\\Documents\\\\Database\\\\Karyotypes\\\\Arrangement_Merged\\\\chr_x\\\\W21486~A.0020.K.bmp.X.bmp',\n",
       "  'D:\\\\Users\\\\Chuan\\\\Documents\\\\Database\\\\Karyotypes\\\\Arrangement_Merged\\\\chr_x\\\\W21563~A.0006.K.x.bmp',\n",
       "  'D:\\\\Users\\\\Chuan\\\\Documents\\\\Database\\\\Karyotypes\\\\Arrangement_Merged\\\\chr_x\\\\W21570~A.0001.K.jpg.X.bmp',\n",
       "  'D:\\\\Users\\\\Chuan\\\\Documents\\\\Database\\\\Karyotypes\\\\Arrangement_Merged\\\\chr_x\\\\W21576~A.0010.K.jpg.X.bmp',\n",
       "  'D:\\\\Users\\\\Chuan\\\\Documents\\\\Database\\\\Karyotypes\\\\Arrangement_Merged\\\\chr_x\\\\W21587~A.0008.K.jpg.X.bmp',\n",
       "  'D:\\\\Users\\\\Chuan\\\\Documents\\\\Database\\\\Karyotypes\\\\Arrangement_Merged\\\\chr_x\\\\W21587~A.0010.K.jpg.X.bmp',\n",
       "  'D:\\\\Users\\\\Chuan\\\\Documents\\\\Database\\\\Karyotypes\\\\Arrangement_Merged\\\\chr_x\\\\W21588~A.0001.K.jpg.X.bmp',\n",
       "  'D:\\\\Users\\\\Chuan\\\\Documents\\\\Database\\\\Karyotypes\\\\Arrangement_Merged\\\\chr_x\\\\W21766~A.0025.K.jpg.X.bmp',\n",
       "  'D:\\\\Users\\\\Chuan\\\\Documents\\\\Database\\\\Karyotypes\\\\Arrangement_Merged\\\\chr_x\\\\W21890~A.0005.K.jpg.XL.bmp',\n",
       "  'D:\\\\Users\\\\Chuan\\\\Documents\\\\Database\\\\Karyotypes\\\\Arrangement_Merged\\\\chr_x\\\\W21890~A.0005.K.jpg.XR.bmp',\n",
       "  'D:\\\\Users\\\\Chuan\\\\Documents\\\\Database\\\\Karyotypes\\\\Arrangement_Merged\\\\chr_x\\\\W21894~A.0009.K.jpg.X.bmp',\n",
       "  'D:\\\\Users\\\\Chuan\\\\Documents\\\\Database\\\\Karyotypes\\\\Arrangement_Merged\\\\chr_x\\\\W21902~A.0010.K.jpg.X.bmp',\n",
       "  'D:\\\\Users\\\\Chuan\\\\Documents\\\\Database\\\\Karyotypes\\\\Arrangement_Merged\\\\chr_x\\\\W21905~A.0007.K.jpg.X.bmp',\n",
       "  'D:\\\\Users\\\\Chuan\\\\Documents\\\\Database\\\\Karyotypes\\\\Arrangement_Merged\\\\chr_x\\\\W21906~A.0011.K.jpg.X.bmp',\n",
       "  'D:\\\\Users\\\\Chuan\\\\Documents\\\\Database\\\\Karyotypes\\\\Arrangement_Merged\\\\chr_x\\\\w22038~A.0017.K.jpg.X.bmp',\n",
       "  'D:\\\\Users\\\\Chuan\\\\Documents\\\\Database\\\\Karyotypes\\\\Arrangement_Merged\\\\chr_x\\\\w22292~A.0027.K.jpg.X.bmp',\n",
       "  'D:\\\\Users\\\\Chuan\\\\Documents\\\\Database\\\\Karyotypes\\\\Arrangement_Merged\\\\chr_x\\\\W22451~A.0011.K.jpg.X.bmp',\n",
       "  'D:\\\\Users\\\\Chuan\\\\Documents\\\\Database\\\\Karyotypes\\\\Arrangement_Merged\\\\chr_x\\\\W22455~A.0002.K.jpg.X.bmp',\n",
       "  'D:\\\\Users\\\\Chuan\\\\Documents\\\\Database\\\\Karyotypes\\\\Arrangement_Merged\\\\chr_x\\\\W22666-1.0002.K.jpg.X.bmp',\n",
       "  'D:\\\\Users\\\\Chuan\\\\Documents\\\\Database\\\\Karyotypes\\\\Arrangement_Merged\\\\chr_x\\\\W22670~A.0006.K.jpg.X.bmp',\n",
       "  'D:\\\\Users\\\\Chuan\\\\Documents\\\\Database\\\\Karyotypes\\\\Arrangement_Merged\\\\chr_x\\\\W22672~A.0004.K.jpg.X.bmp',\n",
       "  'D:\\\\Users\\\\Chuan\\\\Documents\\\\Database\\\\Karyotypes\\\\Arrangement_Merged\\\\chr_x\\\\w22881~A.0017.K.jpg.X.bmp',\n",
       "  'D:\\\\Users\\\\Chuan\\\\Documents\\\\Database\\\\Karyotypes\\\\Arrangement_Merged\\\\chr_x\\\\W23060-1~A.0003.K.jpg.X.bmp',\n",
       "  'D:\\\\Users\\\\Chuan\\\\Documents\\\\Database\\\\Karyotypes\\\\Arrangement_Merged\\\\chr_x\\\\W23060-1~A.0005.K.jpg.X.bmp',\n",
       "  'D:\\\\Users\\\\Chuan\\\\Documents\\\\Database\\\\Karyotypes\\\\Arrangement_Merged\\\\chr_x\\\\W23060-1~A.0007.K.jpg.X.bmp',\n",
       "  'D:\\\\Users\\\\Chuan\\\\Documents\\\\Database\\\\Karyotypes\\\\Arrangement_Merged\\\\chr_x\\\\W23060-1~A.0009.K.jpg.X.bmp',\n",
       "  'D:\\\\Users\\\\Chuan\\\\Documents\\\\Database\\\\Karyotypes\\\\Arrangement_Merged\\\\chr_x\\\\W23060-1~A.0018.K.jpg.X.bmp',\n",
       "  'D:\\\\Users\\\\Chuan\\\\Documents\\\\Database\\\\Karyotypes\\\\Arrangement_Merged\\\\chr_x\\\\W23060-1~A.0025.K.jpg.X.bmp',\n",
       "  'D:\\\\Users\\\\Chuan\\\\Documents\\\\Database\\\\Karyotypes\\\\Arrangement_Merged\\\\chr_x\\\\W23060-1~A.0029.K.jpg.X.bmp',\n",
       "  'D:\\\\Users\\\\Chuan\\\\Documents\\\\Database\\\\Karyotypes\\\\Arrangement_Merged\\\\chr_x\\\\W23060-1~A.0032.K.jpg.X.bmp',\n",
       "  'D:\\\\Users\\\\Chuan\\\\Documents\\\\Database\\\\Karyotypes\\\\Arrangement_Merged\\\\chr_x\\\\W23060-1~A.0033.K.jpg.X.bmp',\n",
       "  'D:\\\\Users\\\\Chuan\\\\Documents\\\\Database\\\\Karyotypes\\\\Arrangement_Merged\\\\chr_x\\\\W23060-1~A.0035.K.jpg.X.bmp',\n",
       "  'D:\\\\Users\\\\Chuan\\\\Documents\\\\Database\\\\Karyotypes\\\\Arrangement_Merged\\\\chr_x\\\\W23060-1~A.0040.K.jpg.X.bmp',\n",
       "  'D:\\\\Users\\\\Chuan\\\\Documents\\\\Database\\\\Karyotypes\\\\Arrangement_Merged\\\\chr_x\\\\W23060-1~A.0042.K.jpg.X.bmp',\n",
       "  'D:\\\\Users\\\\Chuan\\\\Documents\\\\Database\\\\Karyotypes\\\\Arrangement_Merged\\\\chr_x\\\\W23060-1~A.0046.K.jpg.X.bmp',\n",
       "  'D:\\\\Users\\\\Chuan\\\\Documents\\\\Database\\\\Karyotypes\\\\Arrangement_Merged\\\\chr_x\\\\W23060-CW190327.jpg.X.bmp',\n",
       "  'D:\\\\Users\\\\Chuan\\\\Documents\\\\Database\\\\Karyotypes\\\\Arrangement_Merged\\\\chr_x\\\\W23070~A.0001.K.jpg.X.bmp',\n",
       "  'D:\\\\Users\\\\Chuan\\\\Documents\\\\Database\\\\Karyotypes\\\\Arrangement_Merged\\\\chr_x\\\\W23075-1~A.0017.K.jpg.X.bmp',\n",
       "  'D:\\\\Users\\\\Chuan\\\\Documents\\\\Database\\\\Karyotypes\\\\Arrangement_Merged\\\\chr_x\\\\W23082.0026.K.jpg.X.bmp',\n",
       "  'D:\\\\Users\\\\Chuan\\\\Documents\\\\Database\\\\Karyotypes\\\\Arrangement_Merged\\\\chr_x\\\\W23084~A.0003.K.jp.X.bmp',\n",
       "  'D:\\\\Users\\\\Chuan\\\\Documents\\\\Database\\\\Karyotypes\\\\Arrangement_Merged\\\\chr_x\\\\w25443~A.0001.K.jpg.X.bmp',\n",
       "  'D:\\\\Users\\\\Chuan\\\\Documents\\\\Database\\\\Karyotypes\\\\Arrangement_Merged\\\\chr_x\\\\w25443~A.0004.K.jpg.X.bmp',\n",
       "  'D:\\\\Users\\\\Chuan\\\\Documents\\\\Database\\\\Karyotypes\\\\Arrangement_Merged\\\\chr_x\\\\w25443~A.0005.K.jpg.X.bmp',\n",
       "  'D:\\\\Users\\\\Chuan\\\\Documents\\\\Database\\\\Karyotypes\\\\Arrangement_Merged\\\\chr_x\\\\w25443~A.0006.K.jpg.X.bmp',\n",
       "  'D:\\\\Users\\\\Chuan\\\\Documents\\\\Database\\\\Karyotypes\\\\Arrangement_Merged\\\\chr_x\\\\w25443~A.0007.K.jpg.X.bmp',\n",
       "  'D:\\\\Users\\\\Chuan\\\\Documents\\\\Database\\\\Karyotypes\\\\Arrangement_Merged\\\\chr_x\\\\w25443~A.0010.K.jpg.X.bmp',\n",
       "  'D:\\\\Users\\\\Chuan\\\\Documents\\\\Database\\\\Karyotypes\\\\Arrangement_Merged\\\\chr_x\\\\w25443~A.0014.K.jpg.X.bmp',\n",
       "  'D:\\\\Users\\\\Chuan\\\\Documents\\\\Database\\\\Karyotypes\\\\Arrangement_Merged\\\\chr_x\\\\w25443~A.0023.K.jpg.X.bmp',\n",
       "  'D:\\\\Users\\\\Chuan\\\\Documents\\\\Database\\\\Karyotypes\\\\Arrangement_Merged\\\\chr_x\\\\w25443~A.0031.K.jpg.X.bmp',\n",
       "  'D:\\\\Users\\\\Chuan\\\\Documents\\\\Database\\\\Karyotypes\\\\Arrangement_Merged\\\\chr_x\\\\w25443~A.0032.K.jpg.X.bmp',\n",
       "  'D:\\\\Users\\\\Chuan\\\\Documents\\\\Database\\\\Karyotypes\\\\Arrangement_Merged\\\\chr_x\\\\w25443~A.0033.K.jpg.X.bmp',\n",
       "  'D:\\\\Users\\\\Chuan\\\\Documents\\\\Database\\\\Karyotypes\\\\Arrangement_Merged\\\\chr_x\\\\w25443~A.0035.K.jpg.X.bmp',\n",
       "  'D:\\\\Users\\\\Chuan\\\\Documents\\\\Database\\\\Karyotypes\\\\Arrangement_Merged\\\\chr_x\\\\w25443~A.0036.K.jpg.X.bmp',\n",
       "  'D:\\\\Users\\\\Chuan\\\\Documents\\\\Database\\\\Karyotypes\\\\Arrangement_Merged\\\\chr_x\\\\w25443~A.0037.K.jpg.X.bmp',\n",
       "  'D:\\\\Users\\\\Chuan\\\\Documents\\\\Database\\\\Karyotypes\\\\Arrangement_Merged\\\\chr_x\\\\w25443~A.0038.K.jpg.X.bmp',\n",
       "  'D:\\\\Users\\\\Chuan\\\\Documents\\\\Database\\\\Karyotypes\\\\Arrangement_Merged\\\\chr_x\\\\w25443~A.0040.K.jpg.X.bmp',\n",
       "  'D:\\\\Users\\\\Chuan\\\\Documents\\\\Database\\\\Karyotypes\\\\Arrangement_Merged\\\\chr_x\\\\w25443~A.0041.K.jpg.X.bmp',\n",
       "  'D:\\\\Users\\\\Chuan\\\\Documents\\\\Database\\\\Karyotypes\\\\Arrangement_Merged\\\\chr_x\\\\w25443~A.0043.K.jpg.X.bmp',\n",
       "  'D:\\\\Users\\\\Chuan\\\\Documents\\\\Database\\\\Karyotypes\\\\Arrangement_Merged\\\\chr_x\\\\w25443~A.0047.K.jpg.X.bmp',\n",
       "  'D:\\\\Users\\\\Chuan\\\\Documents\\\\Database\\\\Karyotypes\\\\Arrangement_Merged\\\\chr_x\\\\W28055-1~A.0001.X.bmp',\n",
       "  'D:\\\\Users\\\\Chuan\\\\Documents\\\\Database\\\\Karyotypes\\\\Arrangement_Merged\\\\chr_x\\\\W28055-1~A.0002.X.bmp',\n",
       "  'D:\\\\Users\\\\Chuan\\\\Documents\\\\Database\\\\Karyotypes\\\\Arrangement_Merged\\\\chr_x\\\\W28055-1~A.0006.X.bmp',\n",
       "  'D:\\\\Users\\\\Chuan\\\\Documents\\\\Database\\\\Karyotypes\\\\Arrangement_Merged\\\\chr_x\\\\W28055-1~A.0009.X.bmp',\n",
       "  'D:\\\\Users\\\\Chuan\\\\Documents\\\\Database\\\\Karyotypes\\\\Arrangement_Merged\\\\chr_x\\\\W28055-1~A.0010.X.bmp',\n",
       "  'D:\\\\Users\\\\Chuan\\\\Documents\\\\Database\\\\Karyotypes\\\\Arrangement_Merged\\\\chr_x\\\\W28055-1~A.0012.X.bmp',\n",
       "  'D:\\\\Users\\\\Chuan\\\\Documents\\\\Database\\\\Karyotypes\\\\Arrangement_Merged\\\\chr_x\\\\W28055-1~A.0013.X.bmp',\n",
       "  'D:\\\\Users\\\\Chuan\\\\Documents\\\\Database\\\\Karyotypes\\\\Arrangement_Merged\\\\chr_x\\\\W28055-1~A.0015.X.bmp',\n",
       "  'D:\\\\Users\\\\Chuan\\\\Documents\\\\Database\\\\Karyotypes\\\\Arrangement_Merged\\\\chr_x\\\\W28055-1~A.0016.X.bmp',\n",
       "  'D:\\\\Users\\\\Chuan\\\\Documents\\\\Database\\\\Karyotypes\\\\Arrangement_Merged\\\\chr_x\\\\W28055-1~A.0020.X.bmp',\n",
       "  'D:\\\\Users\\\\Chuan\\\\Documents\\\\Database\\\\Karyotypes\\\\Arrangement_Merged\\\\chr_x\\\\W28055-1~A.0021.X.bmp',\n",
       "  'D:\\\\Users\\\\Chuan\\\\Documents\\\\Database\\\\Karyotypes\\\\Arrangement_Merged\\\\chr_x\\\\W28055-1~A.0022.X.bmp',\n",
       "  'D:\\\\Users\\\\Chuan\\\\Documents\\\\Database\\\\Karyotypes\\\\Arrangement_Merged\\\\chr_x\\\\W28055-1~A.0032.X.bmp',\n",
       "  'D:\\\\Users\\\\Chuan\\\\Documents\\\\Database\\\\Karyotypes\\\\Arrangement_Merged\\\\chr_x\\\\W28055-1~A.0037.X.bmp',\n",
       "  'D:\\\\Users\\\\Chuan\\\\Documents\\\\Database\\\\Karyotypes\\\\Arrangement_Merged\\\\chr_x\\\\W28055-1~A.0038.X.bmp',\n",
       "  'D:\\\\Users\\\\Chuan\\\\Documents\\\\Database\\\\Karyotypes\\\\Arrangement_Merged\\\\chr_x\\\\W28055-1~A.0039.K.jpg.X.bmp',\n",
       "  'D:\\\\Users\\\\Chuan\\\\Documents\\\\Database\\\\Karyotypes\\\\Arrangement_Merged\\\\chr_x\\\\W28055-1~A.0049.K.jpg.X.bmp',\n",
       "  'D:\\\\Users\\\\Chuan\\\\Documents\\\\Database\\\\Karyotypes\\\\Arrangement_Merged\\\\chr_x\\\\W28055~A.0010.X.bmp',\n",
       "  'D:\\\\Users\\\\Chuan\\\\Documents\\\\Database\\\\Karyotypes\\\\Arrangement_Merged\\\\chr_x\\\\W28055~A.0012.X.bmp'],\n",
       " 'chr_x_p22_cnv': ['D:\\\\Users\\\\Chuan\\\\Documents\\\\Database\\\\Karyotypes\\\\Arrangement_Merged\\\\chr_x_p22_cnv\\\\191128-del(X)(p22)-10R.bmp',\n",
       "  'D:\\\\Users\\\\Chuan\\\\Documents\\\\Database\\\\Karyotypes\\\\Arrangement_Merged\\\\chr_x_p22_cnv\\\\191128-del(X)(p22)-11R.bmp',\n",
       "  'D:\\\\Users\\\\Chuan\\\\Documents\\\\Database\\\\Karyotypes\\\\Arrangement_Merged\\\\chr_x_p22_cnv\\\\191128-del(X)(p22)-12R.bmp',\n",
       "  'D:\\\\Users\\\\Chuan\\\\Documents\\\\Database\\\\Karyotypes\\\\Arrangement_Merged\\\\chr_x_p22_cnv\\\\191128-del(X)(p22)-13R.bmp',\n",
       "  'D:\\\\Users\\\\Chuan\\\\Documents\\\\Database\\\\Karyotypes\\\\Arrangement_Merged\\\\chr_x_p22_cnv\\\\191128-del(X)(p22)-14R.bmp',\n",
       "  'D:\\\\Users\\\\Chuan\\\\Documents\\\\Database\\\\Karyotypes\\\\Arrangement_Merged\\\\chr_x_p22_cnv\\\\191128-del(X)(p22)-15R.bmp',\n",
       "  'D:\\\\Users\\\\Chuan\\\\Documents\\\\Database\\\\Karyotypes\\\\Arrangement_Merged\\\\chr_x_p22_cnv\\\\191128-del(X)(p22)-16R.bmp',\n",
       "  'D:\\\\Users\\\\Chuan\\\\Documents\\\\Database\\\\Karyotypes\\\\Arrangement_Merged\\\\chr_x_p22_cnv\\\\191128-del(X)(p22)-18R.bmp',\n",
       "  'D:\\\\Users\\\\Chuan\\\\Documents\\\\Database\\\\Karyotypes\\\\Arrangement_Merged\\\\chr_x_p22_cnv\\\\191128-del(X)(p22)-19R.bmp',\n",
       "  'D:\\\\Users\\\\Chuan\\\\Documents\\\\Database\\\\Karyotypes\\\\Arrangement_Merged\\\\chr_x_p22_cnv\\\\191128-del(X)(p22)-20R.bmp',\n",
       "  'D:\\\\Users\\\\Chuan\\\\Documents\\\\Database\\\\Karyotypes\\\\Arrangement_Merged\\\\chr_x_p22_cnv\\\\191128-del(X)(p22)-21R.bmp',\n",
       "  'D:\\\\Users\\\\Chuan\\\\Documents\\\\Database\\\\Karyotypes\\\\Arrangement_Merged\\\\chr_x_p22_cnv\\\\191128-del(X)(p22)-22R.bmp',\n",
       "  'D:\\\\Users\\\\Chuan\\\\Documents\\\\Database\\\\Karyotypes\\\\Arrangement_Merged\\\\chr_x_p22_cnv\\\\191128-del(X)(p22)-2R.bmp',\n",
       "  'D:\\\\Users\\\\Chuan\\\\Documents\\\\Database\\\\Karyotypes\\\\Arrangement_Merged\\\\chr_x_p22_cnv\\\\191128-del(X)(p22)-3R.bmp',\n",
       "  'D:\\\\Users\\\\Chuan\\\\Documents\\\\Database\\\\Karyotypes\\\\Arrangement_Merged\\\\chr_x_p22_cnv\\\\191128-del(X)(p22)-4R.bmp',\n",
       "  'D:\\\\Users\\\\Chuan\\\\Documents\\\\Database\\\\Karyotypes\\\\Arrangement_Merged\\\\chr_x_p22_cnv\\\\191128-del(X)(p22)-5R.bmp',\n",
       "  'D:\\\\Users\\\\Chuan\\\\Documents\\\\Database\\\\Karyotypes\\\\Arrangement_Merged\\\\chr_x_p22_cnv\\\\191128-del(X)(p22)-6R.bmp',\n",
       "  'D:\\\\Users\\\\Chuan\\\\Documents\\\\Database\\\\Karyotypes\\\\Arrangement_Merged\\\\chr_x_p22_cnv\\\\191128-del(X)(p22)-7R.bmp',\n",
       "  'D:\\\\Users\\\\Chuan\\\\Documents\\\\Database\\\\Karyotypes\\\\Arrangement_Merged\\\\chr_x_p22_cnv\\\\191128-del(X)(p22)-8R.bmp',\n",
       "  'D:\\\\Users\\\\Chuan\\\\Documents\\\\Database\\\\Karyotypes\\\\Arrangement_Merged\\\\chr_x_p22_cnv\\\\191128-del(X)(p22)-9R.bmp',\n",
       "  'D:\\\\Users\\\\Chuan\\\\Documents\\\\Database\\\\Karyotypes\\\\Arrangement_Merged\\\\chr_x_p22_cnv\\\\W23060-1~A.0003.K.jpg.X_p22cnv_deletion_cnv.bmp',\n",
       "  'D:\\\\Users\\\\Chuan\\\\Documents\\\\Database\\\\Karyotypes\\\\Arrangement_Merged\\\\chr_x_p22_cnv\\\\W23060-1~A.0005.K.jpg.X_p22cnv_deletion.bmp',\n",
       "  'D:\\\\Users\\\\Chuan\\\\Documents\\\\Database\\\\Karyotypes\\\\Arrangement_Merged\\\\chr_x_p22_cnv\\\\W23060-1~A.0007.K.jpg.X_p22cnv_deletion.bmp',\n",
       "  'D:\\\\Users\\\\Chuan\\\\Documents\\\\Database\\\\Karyotypes\\\\Arrangement_Merged\\\\chr_x_p22_cnv\\\\W23060-1~A.0009.K.jpg.X_p22cnv_deletion.bmp',\n",
       "  'D:\\\\Users\\\\Chuan\\\\Documents\\\\Database\\\\Karyotypes\\\\Arrangement_Merged\\\\chr_x_p22_cnv\\\\W23060-1~A.0018.K.jpg.X_p22cnv_deletion.bmp',\n",
       "  'D:\\\\Users\\\\Chuan\\\\Documents\\\\Database\\\\Karyotypes\\\\Arrangement_Merged\\\\chr_x_p22_cnv\\\\W23060-1~A.0025.K.jpg.X_p22cnv_deletion.bmp',\n",
       "  'D:\\\\Users\\\\Chuan\\\\Documents\\\\Database\\\\Karyotypes\\\\Arrangement_Merged\\\\chr_x_p22_cnv\\\\W23060-1~A.0029.K.jpg.X_p22cnv_deletion.bmp',\n",
       "  'D:\\\\Users\\\\Chuan\\\\Documents\\\\Database\\\\Karyotypes\\\\Arrangement_Merged\\\\chr_x_p22_cnv\\\\W23060-1~A.0032.K.jpg.X_p22cnv_deletion.bmp',\n",
       "  'D:\\\\Users\\\\Chuan\\\\Documents\\\\Database\\\\Karyotypes\\\\Arrangement_Merged\\\\chr_x_p22_cnv\\\\W23060-1~A.0033.K.jpg.X_p22cnv_deletion.bmp',\n",
       "  'D:\\\\Users\\\\Chuan\\\\Documents\\\\Database\\\\Karyotypes\\\\Arrangement_Merged\\\\chr_x_p22_cnv\\\\W23060-1~A.0035.K.jpg.X_p22cnv_deletion.bmp',\n",
       "  'D:\\\\Users\\\\Chuan\\\\Documents\\\\Database\\\\Karyotypes\\\\Arrangement_Merged\\\\chr_x_p22_cnv\\\\W23060-1~A.0040.K.jpg.X_p22cnv_deletion.bmp',\n",
       "  'D:\\\\Users\\\\Chuan\\\\Documents\\\\Database\\\\Karyotypes\\\\Arrangement_Merged\\\\chr_x_p22_cnv\\\\W23060-1~A.0042.K.jpg.X_p22cnv_deletion_cnv.bmp',\n",
       "  'D:\\\\Users\\\\Chuan\\\\Documents\\\\Database\\\\Karyotypes\\\\Arrangement_Merged\\\\chr_x_p22_cnv\\\\W23060-1~A.0046.K.jpg.X_p22cnv_deletion_cnv.bmp',\n",
       "  'D:\\\\Users\\\\Chuan\\\\Documents\\\\Database\\\\Karyotypes\\\\Arrangement_Merged\\\\chr_x_p22_cnv\\\\W23060-CW190327.jpg.X_p22cnv_deletion_cnv.bmp']}"
      ]
     },
     "execution_count": 5,
     "metadata": {},
     "output_type": "execute_result"
    }
   ],
   "source": [
    "with open('data_theWhole.json') as json_file:\n",
    "    theWhole = json.load(json_file)\n",
    "theWhole"
   ]
  },
  {
   "cell_type": "markdown",
   "metadata": {},
   "source": [
    "# Iteration Starts Here:"
   ]
  },
  {
   "cell_type": "markdown",
   "metadata": {},
   "source": [
    "# 3. Iteration"
   ]
  },
  {
   "cell_type": "markdown",
   "metadata": {},
   "source": [
    "## 3.1 Image Input"
   ]
  },
  {
   "cell_type": "markdown",
   "metadata": {},
   "source": [
    "### 3.1.x Display the Split Method"
   ]
  },
  {
   "cell_type": "code",
   "execution_count": 6,
   "metadata": {},
   "outputs": [
    {
     "name": "stdout",
     "output_type": "stream",
     "text": [
      "Iteration No.  0\n",
      "chr_x\n",
      "   Train: \n",
      "        191128-del(X)(p22)-10L.bmp\n",
      "        191128-del(X)(p22)-11L.bmp\n",
      "        191128-del(X)(p22)-12L.bmp\n",
      "        191128-del(X)(p22)-13L.bmp\n",
      "        191128-del(X)(p22)-15L.bmp\n",
      "        191128-del(X)(p22)-16L.bmp\n",
      "        191128-del(X)(p22)-17L.bmp\n",
      "        191128-del(X)(p22)-18L.bmp\n",
      "        191128-del(X)(p22)-19L.bmp\n",
      "        191128-del(X)(p22)-1L.bmp\n",
      "        191128-del(X)(p22)-21L.bmp\n",
      "        191128-del(X)(p22)-22L.bmp\n",
      "        191128-del(X)(p22)-3L.bmp\n",
      "        191128-del(X)(p22)-6L.bmp\n",
      "        191128-del(X)(p22)-7L.bmp\n",
      "        191128-del(X)(p22)-9L.bmp\n",
      "        192478-delXq21-10L.bmp\n",
      "        192478-delXq21-11L.bmp\n",
      "        192478-delXq21-12L.bmp\n",
      "        192478-delXq21-13L.bmp\n",
      "        192478-delXq21-14L.bmp\n",
      "        192478-delXq21-15L.bmp\n",
      "        192478-delXq21-16L.bmp\n",
      "        192478-delXq21-17L.bmp\n",
      "        192478-delXq21-19L.bmp\n",
      "        192478-delXq21-20L.bmp\n",
      "        192478-delXq21-21L.bmp\n",
      "        192478-delXq21-22L.bmp\n",
      "        192478-delXq21-24L.bmp\n",
      "        192478-delXq21-25L.bmp\n",
      "        192478-delXq21-26L.bmp\n",
      "        192478-delXq21-27L.bmp\n",
      "        192478-delXq21-29L.bmp\n",
      "        192478-delXq21-2L.bmp\n",
      "        192478-delXq21-30L.bmp\n",
      "        192478-delXq21-31L.bmp\n",
      "        192478-delXq21-3L.bmp\n",
      "        192478-delXq21-4L.bmp\n",
      "        192478-delXq21-7L.bmp\n",
      "        192478-delXq21-8L.bmp\n",
      "        192478-delXq21-9L.bmp\n",
      "        87092-i(X)(q10)-11L.bmp\n",
      "        87092-i(X)(q10)-13L.bmp\n",
      "        87092-i(X)(q10)-14L.bmp\n",
      "        87092-i(X)(q10)-16L.bmp\n",
      "        87092-i(X)(q10)-17L.bmp\n",
      "        87092-i(X)(q10)-18L.bmp\n",
      "        87092-i(X)(q10)-19L.bmp\n",
      "        87092-i(X)(q10)-20L.bmp\n",
      "        87092-i(X)(q10)-21L.bmp\n",
      "        87092-i(X)(q10)-22L.bmp\n",
      "        87092-i(X)(q10)-23L.bmp\n",
      "        87092-i(X)(q10)-25L.bmp\n",
      "        87092-i(X)(q10)-28L.bmp\n",
      "        87092-i(X)(q10)-29L.bmp\n",
      "        87092-i(X)(q10)-2L.bmp\n",
      "        87092-i(X)(q10)-3L.bmp\n",
      "        87092-i(X)(q10)-4L.bmp\n",
      "        87092-i(X)(q10)-6L.bmp\n",
      "        87092-i(X)(q10)-7L.bmp\n",
      "        87092-i(X)(q10)-8L.bmp\n",
      "        W17068~A.0003.K.jpg.X.bmp\n",
      "        W17068~A.0006.K.jpg.X.bmp\n",
      "        W17068~A.0008.K.X.bmp\n",
      "        W17068~A.0010.K.X.bmp\n",
      "        W17068~A.0011.K.X.bmp\n",
      "        W17068~A.0014.K.X.bmp\n",
      "        W17068~A.0016.K.X.bmp\n",
      "        W17068~A.0019.K.X.bmp\n",
      "        W17068~A.0020.K.X.bmp\n",
      "        W17068~A.0023.K.X.bmp\n",
      "        W17068~A.0025.X.bmp\n",
      "        W17068~A.0026.X.bmp\n",
      "        W17068~A.0034.K.jpg.X.bmp\n",
      "        W17068~A.0036.K.jpg.X.bmp\n",
      "        w21000~A.0001.K.jpg.X.bmp\n",
      "        w21000~A.0001.K.jpg.XR.bmp\n",
      "        w21008~A.0008.K.jpg.XL.bmp\n",
      "        w21008~A.0008.K.jpg.XR.bmp\n",
      "        W21011~A.0008.K.XR.bmp\n",
      "        W21012~A.0019.K.XL.bmp\n",
      "        W21012~A.0019.K.XR.bmp\n",
      "        W21022~A.0007.K.jpg.XR.bmp\n",
      "        W21025~A.0002.K.jpg.X.bmp\n",
      "        W21027~A.0003.K.X.bmp\n",
      "        W21486~A.0020.K.bmp.X.bmp\n",
      "        W21576~A.0010.K.jpg.X.bmp\n",
      "        W21587~A.0008.K.jpg.X.bmp\n",
      "        W21587~A.0010.K.jpg.X.bmp\n",
      "        W21588~A.0001.K.jpg.X.bmp\n",
      "        W21766~A.0025.K.jpg.X.bmp\n",
      "        W21894~A.0009.K.jpg.X.bmp\n",
      "        W21902~A.0010.K.jpg.X.bmp\n",
      "        W21905~A.0007.K.jpg.X.bmp\n",
      "        w22038~A.0017.K.jpg.X.bmp\n",
      "        w22292~A.0027.K.jpg.X.bmp\n",
      "        W22451~A.0011.K.jpg.X.bmp\n",
      "        W22455~A.0002.K.jpg.X.bmp\n",
      "        W22666-1.0002.K.jpg.X.bmp\n",
      "        W22670~A.0006.K.jpg.X.bmp\n",
      "        W22672~A.0004.K.jpg.X.bmp\n",
      "        W23060-1~A.0003.K.jpg.X.bmp\n",
      "        W23060-1~A.0005.K.jpg.X.bmp\n",
      "        W23060-1~A.0007.K.jpg.X.bmp\n",
      "        W23060-1~A.0009.K.jpg.X.bmp\n",
      "        W23060-1~A.0018.K.jpg.X.bmp\n",
      "        W23060-1~A.0025.K.jpg.X.bmp\n",
      "        W23060-1~A.0029.K.jpg.X.bmp\n",
      "        W23060-1~A.0032.K.jpg.X.bmp\n",
      "        W23060-1~A.0033.K.jpg.X.bmp\n",
      "        W23060-1~A.0035.K.jpg.X.bmp\n",
      "        W23060-1~A.0040.K.jpg.X.bmp\n",
      "        W23060-1~A.0042.K.jpg.X.bmp\n",
      "        W23060-1~A.0046.K.jpg.X.bmp\n",
      "        W23060-CW190327.jpg.X.bmp\n",
      "        W23070~A.0001.K.jpg.X.bmp\n",
      "        W23082.0026.K.jpg.X.bmp\n",
      "        W23084~A.0003.K.jp.X.bmp\n",
      "        w25443~A.0001.K.jpg.X.bmp\n",
      "        w25443~A.0004.K.jpg.X.bmp\n",
      "        w25443~A.0006.K.jpg.X.bmp\n",
      "        w25443~A.0007.K.jpg.X.bmp\n",
      "        w25443~A.0010.K.jpg.X.bmp\n",
      "        w25443~A.0014.K.jpg.X.bmp\n",
      "        w25443~A.0023.K.jpg.X.bmp\n",
      "        w25443~A.0032.K.jpg.X.bmp\n",
      "        w25443~A.0033.K.jpg.X.bmp\n",
      "        w25443~A.0035.K.jpg.X.bmp\n",
      "        w25443~A.0036.K.jpg.X.bmp\n",
      "        w25443~A.0037.K.jpg.X.bmp\n",
      "        w25443~A.0038.K.jpg.X.bmp\n",
      "        w25443~A.0040.K.jpg.X.bmp\n",
      "        w25443~A.0041.K.jpg.X.bmp\n",
      "        w25443~A.0043.K.jpg.X.bmp\n",
      "        w25443~A.0047.K.jpg.X.bmp\n",
      "        W28055-1~A.0002.X.bmp\n",
      "        W28055-1~A.0006.X.bmp\n",
      "        W28055-1~A.0009.X.bmp\n",
      "        W28055-1~A.0010.X.bmp\n",
      "        W28055-1~A.0012.X.bmp\n",
      "        W28055-1~A.0013.X.bmp\n",
      "        W28055-1~A.0015.X.bmp\n",
      "        W28055-1~A.0016.X.bmp\n",
      "        W28055-1~A.0020.X.bmp\n",
      "        W28055-1~A.0021.X.bmp\n",
      "        W28055-1~A.0032.X.bmp\n",
      "        W28055-1~A.0037.X.bmp\n",
      "        W28055-1~A.0038.X.bmp\n",
      "        W28055-1~A.0039.K.jpg.X.bmp\n",
      "        W28055-1~A.0049.K.jpg.X.bmp\n",
      "        W28055~A.0012.X.bmp\n",
      "   Test: \n",
      "        191128-del(X)(p22)-14L.bmp\n",
      "        191128-del(X)(p22)-20L.bmp\n",
      "        191128-del(X)(p22)-2L.bmp\n",
      "        191128-del(X)(p22)-4L.bmp\n",
      "        191128-del(X)(p22)-8L.bmp\n",
      "        192478-delXq21-18L.bmp\n",
      "        192478-delXq21-1L.bmp\n",
      "        192478-delXq21-23L.bmp\n",
      "        192478-delXq21-28L.bmp\n",
      "        192478-delXq21-6L.bmp\n",
      "        87092-i(X)(q10)-10L.bmp\n",
      "        87092-i(X)(q10)-12L.bmp\n",
      "        87092-i(X)(q10)-15L.bmp\n",
      "        87092-i(X)(q10)-26L.bmp\n",
      "        87092-i(X)(q10)-27L.bmp\n",
      "        87092-i(X)(q10)-5L.bmp\n",
      "        W17068~A.0004.K.jpg.X.bmp\n",
      "        W17068~A.0009.K.X.bmp\n",
      "        W17068~A.0012.K.X.bmp\n",
      "        W17068~A.0024.X_.bmp\n",
      "        W17068~A.0039.K.jpg.X.bmp\n",
      "        w21001~A.0008.K.jpg.x.bmp\n",
      "        w21002~A.0024.K.jpg.x.bmp\n",
      "        W21011~A.0008.K.XL.bmp\n",
      "        W21014~A.0005.K.X.bmp\n",
      "        W21022~A.0007.K.jpg.XL.bmp\n",
      "        W21563~A.0006.K.x.bmp\n",
      "        W21570~A.0001.K.jpg.X.bmp\n",
      "        W21890~A.0005.K.jpg.XL.bmp\n",
      "        W21890~A.0005.K.jpg.XR.bmp\n",
      "        W21906~A.0011.K.jpg.X.bmp\n",
      "        w22881~A.0017.K.jpg.X.bmp\n",
      "        W23075-1~A.0017.K.jpg.X.bmp\n",
      "        w25443~A.0005.K.jpg.X.bmp\n",
      "        w25443~A.0031.K.jpg.X.bmp\n",
      "        W28055-1~A.0001.X.bmp\n",
      "        W28055-1~A.0022.X.bmp\n",
      "        W28055~A.0010.X.bmp\n",
      "chr_x_p22_cnv\n",
      "   Train: \n",
      "        191128-del(X)(p22)-10R.bmp\n",
      "        191128-del(X)(p22)-11R.bmp\n",
      "        191128-del(X)(p22)-12R.bmp\n",
      "        191128-del(X)(p22)-14R.bmp\n",
      "        191128-del(X)(p22)-15R.bmp\n",
      "        191128-del(X)(p22)-16R.bmp\n",
      "        191128-del(X)(p22)-18R.bmp\n",
      "        191128-del(X)(p22)-19R.bmp\n",
      "        191128-del(X)(p22)-20R.bmp\n",
      "        191128-del(X)(p22)-21R.bmp\n",
      "        191128-del(X)(p22)-22R.bmp\n",
      "        191128-del(X)(p22)-2R.bmp\n",
      "        191128-del(X)(p22)-3R.bmp\n",
      "        191128-del(X)(p22)-5R.bmp\n",
      "        191128-del(X)(p22)-6R.bmp\n",
      "        191128-del(X)(p22)-7R.bmp\n",
      "        191128-del(X)(p22)-8R.bmp\n",
      "        W23060-1~A.0005.K.jpg.X_p22cnv_deletion.bmp\n",
      "        W23060-1~A.0007.K.jpg.X_p22cnv_deletion.bmp\n",
      "        W23060-1~A.0009.K.jpg.X_p22cnv_deletion.bmp\n",
      "        W23060-1~A.0018.K.jpg.X_p22cnv_deletion.bmp\n",
      "        W23060-1~A.0025.K.jpg.X_p22cnv_deletion.bmp\n",
      "        W23060-1~A.0033.K.jpg.X_p22cnv_deletion.bmp\n",
      "        W23060-1~A.0035.K.jpg.X_p22cnv_deletion.bmp\n",
      "        W23060-1~A.0040.K.jpg.X_p22cnv_deletion.bmp\n",
      "        W23060-1~A.0042.K.jpg.X_p22cnv_deletion_cnv.bmp\n",
      "        W23060-CW190327.jpg.X_p22cnv_deletion_cnv.bmp\n",
      "   Test: \n",
      "        191128-del(X)(p22)-13R.bmp\n",
      "        191128-del(X)(p22)-4R.bmp\n",
      "        191128-del(X)(p22)-9R.bmp\n",
      "        W23060-1~A.0003.K.jpg.X_p22cnv_deletion_cnv.bmp\n",
      "        W23060-1~A.0029.K.jpg.X_p22cnv_deletion.bmp\n",
      "        W23060-1~A.0032.K.jpg.X_p22cnv_deletion.bmp\n",
      "        W23060-1~A.0046.K.jpg.X_p22cnv_deletion_cnv.bmp\n"
     ]
    }
   ],
   "source": [
    "file_k_fold = open('KFold_Round_'+str(iterationNumber)+'.txt', 'w')\n",
    "\n",
    "print('Iteration No. ', iterationNumber)\n",
    "file_k_fold.write('Iteration No. %s\\n\\n' % iterationNumber)\n",
    "\n",
    "\n",
    "for chrNo in theWhole.keys():\n",
    "    print(chrNo)\n",
    "    file_k_fold.write('%s\\n' % chrNo)\n",
    "    print('   Train: ')\n",
    "    file_k_fold.write('Train: \\n')\n",
    "    for item in X_train_name[chrNo][str(iterationNumber)]:\n",
    "        print('       ', item.split('\\\\')[-1])\n",
    "        file_k_fold.write('      %s\\n' % item.split('\\\\')[-1])\n",
    "    print('   Test: ')\n",
    "    file_k_fold.write('Test: \\n')\n",
    "    for item in X_test_name[chrNo][str(iterationNumber)]:\n",
    "        print('       ', item.split('\\\\')[-1])\n",
    "        file_k_fold.write('      %s\\n' % item.split('\\\\')[-1])\n",
    "    file_k_fold.write('\\n')\n",
    "        \n",
    "file_k_fold.close()"
   ]
  },
  {
   "cell_type": "markdown",
   "metadata": {},
   "source": [
    "### 3.1.1. Helper Functions"
   ]
  },
  {
   "cell_type": "code",
   "execution_count": 7,
   "metadata": {},
   "outputs": [],
   "source": [
    "def extractData(image):\n",
    "    x = image.size[0]\n",
    "    y = image.size[1]\n",
    "    \n",
    "    matrix = []\n",
    "    rgb_matrix = []\n",
    "\n",
    "    for i in range(x):\n",
    "        matrix.append([])\n",
    "        rgb_matrix.append([])\n",
    "        \n",
    "        for j in range(y):\n",
    "            r, g, b = image.getpixel((j, i))            \n",
    "            value = r * 299.0/1000 + g * 587.0/1000 + b * 114.0/1000\n",
    "            value = int(value)\n",
    "            matrix[i].append(value)\n",
    "            rgb_matrix[i].append((r,g,b))\n",
    "    return matrix, rgb_matrix"
   ]
  },
  {
   "cell_type": "code",
   "execution_count": 8,
   "metadata": {},
   "outputs": [],
   "source": [
    "def imageReconstruct(matrix):\n",
    "    df = np.array(matrix, dtype=np.uint8)\n",
    "    img = Image.fromarray(df, 'RGB')\n",
    "    img.save('image.png')\n",
    "    return img"
   ]
  },
  {
   "cell_type": "markdown",
   "metadata": {},
   "source": [
    "### 3.1.2. Assignment of Training Data"
   ]
  },
  {
   "cell_type": "markdown",
   "metadata": {},
   "source": [
    "#### 3.1.2.1 Training: Image Object Assignment"
   ]
  },
  {
   "cell_type": "code",
   "execution_count": 9,
   "metadata": {},
   "outputs": [],
   "source": [
    "image = {}\n",
    "\n",
    "# 定义容纳图片对象的dictionary类型的变量image\n",
    "\n",
    "i = 0\n",
    "\n",
    "for chrNo in theWhole.keys():\n",
    "    image[chrNo] = []\n",
    "    for case in X_train_name[chrNo][str(iterationNumber)]:\n",
    "        \n",
    "        # 上面一行第二个中括号内为split的序号，0为第0次split分法\n",
    "        \n",
    "        img = Image.open(case)\n",
    "        image[chrNo].append(img)\n",
    "        \n",
    "        # image字典接受的是图片对象"
   ]
  },
  {
   "cell_type": "markdown",
   "metadata": {},
   "source": [
    "#### 3.1.2.2. Training: Data Extraction from Images"
   ]
  },
  {
   "cell_type": "markdown",
   "metadata": {},
   "source": [
    "#### - Training Set Data: 将图像对象转变为矩阵数值"
   ]
  },
  {
   "cell_type": "code",
   "execution_count": 10,
   "metadata": {},
   "outputs": [],
   "source": [
    "data = {}\n",
    "#rgb_data = {}\n",
    "\n",
    "for chrNo in image.keys():\n",
    "    data[chrNo] = []; \n",
    "    #rgb_data[chrNo] = []\n",
    "    for case in image[chrNo]:\n",
    "        grey, rgb = extractData(case)\n",
    "        data[chrNo].append(grey)\n",
    "        #rgb_data[chrNo].append(rgb)"
   ]
  },
  {
   "cell_type": "markdown",
   "metadata": {},
   "source": [
    "#### Train 2D to 1D"
   ]
  },
  {
   "cell_type": "code",
   "execution_count": 11,
   "metadata": {
    "slideshow": {
     "slide_type": "-"
    }
   },
   "outputs": [],
   "source": [
    "data_flat = {}\n",
    "\n",
    "for chrNo in data.keys():\n",
    "    data_flat[chrNo] = []\n",
    "    for case in data[chrNo]:\n",
    "        case_flat = []\n",
    "        for row in case:\n",
    "            for column in row:\n",
    "                case_flat.append(column)            \n",
    "        data_flat[chrNo].append(case_flat)"
   ]
  },
  {
   "cell_type": "code",
   "execution_count": 12,
   "metadata": {
    "slideshow": {
     "slide_type": "-"
    }
   },
   "outputs": [],
   "source": [
    "x_train_list = []\n",
    "y_train_list = []\n",
    "\n",
    "for y, x in data_flat.items():    \n",
    "    for x_item in x:\n",
    "        x_train_list.append(x_item)\n",
    "        y_train_list.append(y)"
   ]
  },
  {
   "cell_type": "markdown",
   "metadata": {},
   "source": [
    "### 3.1.3. Assignment of Testing Data"
   ]
  },
  {
   "cell_type": "markdown",
   "metadata": {},
   "source": [
    "#### 3.1.3.1. Testing: Image Object Assignment"
   ]
  },
  {
   "cell_type": "code",
   "execution_count": 13,
   "metadata": {},
   "outputs": [],
   "source": [
    "# 方法同前面的Training Set\n",
    "\n",
    "image = {}\n",
    "i = 0\n",
    "\n",
    "for chrNo in theWhole.keys():\n",
    "    image[chrNo] = []\n",
    "    for case in X_test_name[chrNo][str(iterationNumber)]: # Change here for different iterations!!!!!\n",
    "        \n",
    "        # 上面一行第二个中括号内为split的序号，0为第0次split分法\n",
    "        \n",
    "        img = Image.open(case)\n",
    "        image[chrNo].append(img)"
   ]
  },
  {
   "cell_type": "markdown",
   "metadata": {},
   "source": [
    "#### 3.1.3.2. Testing: Data Extraction from Images"
   ]
  },
  {
   "cell_type": "code",
   "execution_count": 14,
   "metadata": {},
   "outputs": [],
   "source": [
    "data = {}\n",
    "#rgb_data = {}\n",
    "\n",
    "for chrNo in image.keys():\n",
    "    data[chrNo] = []; \n",
    "    #rgb_data[chrNo] = []\n",
    "    for case in image[chrNo]:\n",
    "        grey, rgb = extractData(case)\n",
    "        data[chrNo].append(grey)\n",
    "        #rgb_data[chrNo].append(rgb)"
   ]
  },
  {
   "cell_type": "markdown",
   "metadata": {
    "slideshow": {
     "slide_type": "slide"
    }
   },
   "source": [
    "#### Test 2D to 1D"
   ]
  },
  {
   "cell_type": "code",
   "execution_count": 15,
   "metadata": {
    "slideshow": {
     "slide_type": "-"
    }
   },
   "outputs": [],
   "source": [
    "data_flat = {}\n",
    "\n",
    "for chrNo in data.keys():\n",
    "    data_flat[chrNo] = []\n",
    "    for case in data[chrNo]:\n",
    "        case_flat = []\n",
    "        for row in case:\n",
    "            for column in row:\n",
    "                case_flat.append(column)            \n",
    "        data_flat[chrNo].append(case_flat)"
   ]
  },
  {
   "cell_type": "code",
   "execution_count": 16,
   "metadata": {
    "slideshow": {
     "slide_type": "-"
    }
   },
   "outputs": [],
   "source": [
    "x_test_list = []\n",
    "y_test_list = []\n",
    "\n",
    "for y, x in data_flat.items():    \n",
    "    for x_item in x:\n",
    "        x_test_list.append(x_item)\n",
    "        y_test_list.append(y)"
   ]
  },
  {
   "cell_type": "markdown",
   "metadata": {},
   "source": [
    "### 3.1.4. ChromConvert"
   ]
  },
  {
   "cell_type": "code",
   "execution_count": 17,
   "metadata": {},
   "outputs": [],
   "source": [
    "chromConvert = {\n",
    "               'chr_x': 0, \n",
    "               'chr_x_p22_cnv': 1\n",
    "               }"
   ]
  },
  {
   "cell_type": "code",
   "execution_count": 18,
   "metadata": {},
   "outputs": [],
   "source": [
    "chromConvert_reverse = {\n",
    "                0: 'chr_x', \n",
    "                1: 'chr_x_p22_cnv', \n",
    "               }"
   ]
  },
  {
   "cell_type": "code",
   "execution_count": 19,
   "metadata": {},
   "outputs": [],
   "source": [
    "# 将染色体序号和异常核型名称更换为序号，序号定义在程序开始部分\n",
    "\n",
    "y_train_digital_list = []\n",
    "for item in y_train_list:\n",
    "    y_train_digital_list.append(chromConvert[item])\n",
    "    \n",
    "y_test_digital_list = []\n",
    "for item in y_test_list:\n",
    "    y_test_digital_list.append(chromConvert[item])"
   ]
  },
  {
   "cell_type": "markdown",
   "metadata": {},
   "source": [
    "### 3.1.5. Change to Numpy Array"
   ]
  },
  {
   "cell_type": "code",
   "execution_count": 20,
   "metadata": {},
   "outputs": [],
   "source": [
    "X_train = np.array(x_train_list)\n",
    "y_train = np.array(y_train_digital_list)"
   ]
  },
  {
   "cell_type": "code",
   "execution_count": 21,
   "metadata": {},
   "outputs": [],
   "source": [
    "X_test = np.array(x_test_list)\n",
    "y_test = np.array(y_test_digital_list)"
   ]
  },
  {
   "cell_type": "code",
   "execution_count": 22,
   "metadata": {},
   "outputs": [
    {
     "data": {
      "text/plain": [
       "array([0, 0, 0, 0, 0, 0, 0, 0, 0, 0, 0, 0, 0, 0, 0, 0, 0, 0, 0, 0, 0, 0,\n",
       "       0, 0, 0, 0, 0, 0, 0, 0, 0, 0, 0, 0, 0, 0, 0, 0, 1, 1, 1, 1, 1, 1,\n",
       "       1])"
      ]
     },
     "execution_count": 22,
     "metadata": {},
     "output_type": "execute_result"
    }
   ],
   "source": [
    "y_test"
   ]
  },
  {
   "cell_type": "code",
   "execution_count": 23,
   "metadata": {},
   "outputs": [
    {
     "data": {
      "text/plain": [
       "178"
      ]
     },
     "execution_count": 23,
     "metadata": {},
     "output_type": "execute_result"
    }
   ],
   "source": [
    "len(X_train)"
   ]
  },
  {
   "cell_type": "code",
   "execution_count": 24,
   "metadata": {},
   "outputs": [
    {
     "data": {
      "text/plain": [
       "(90000,)"
      ]
     },
     "execution_count": 24,
     "metadata": {},
     "output_type": "execute_result"
    }
   ],
   "source": [
    "X_train[0].shape"
   ]
  },
  {
   "cell_type": "markdown",
   "metadata": {},
   "source": [
    "## 3.2. Support Vector Machine"
   ]
  },
  {
   "cell_type": "code",
   "execution_count": 25,
   "metadata": {},
   "outputs": [],
   "source": [
    "start = time.time()\n",
    "\n",
    "\n",
    "\n",
    "clf = svm.SVC(kernel='linear', decision_function_shape='ovo')\n",
    "clf.fit(X_train, y_train)\n",
    "\n",
    "end = time.time()"
   ]
  },
  {
   "cell_type": "code",
   "execution_count": 26,
   "metadata": {},
   "outputs": [
    {
     "name": "stdout",
     "output_type": "stream",
     "text": [
      "w =  [[4.87890978e-19 4.87890978e-19 4.87890978e-19 ... 4.87890978e-19\n",
      "  4.87890978e-19 4.87890978e-19]]\n",
      "b =  [-7.56158063]\n",
      "Indices of support vectors =  [  1   2  10  11  14  16  17  20  35  38  61  64  65  66  70  72  74  94\n",
      " 102 104 114 115 119 150 151 153 154 155 156 157 158 159 161 162 163 164\n",
      " 165 167 170 171 173 174 176 177]\n",
      "Support vectors =  [[255. 255. 255. ... 255. 255. 255.]\n",
      " [255. 255. 255. ... 255. 255. 255.]\n",
      " [255. 255. 255. ... 255. 255. 255.]\n",
      " ...\n",
      " [255. 255. 255. ... 255. 255. 255.]\n",
      " [255. 255. 255. ... 255. 255. 255.]\n",
      " [255. 255. 255. ... 255. 255. 255.]]\n",
      "Number of support vectors for each class =  [24 20]\n",
      "Coefficients of the support vector in the decision function =  [[2.64461330e-07 1.16769066e-07 1.36590421e-07 1.54891504e-07\n",
      "  1.89136839e-07 6.21994010e-08 1.31565717e-07 1.24575496e-07\n",
      "  4.81904127e-09 1.19693827e-07 1.28406372e-07 1.83650735e-07\n",
      "  9.23054376e-08 2.32740636e-08 2.09119533e-07 6.60068972e-08\n",
      "  5.69894341e-08 4.30241874e-08 3.11643547e-07 4.84478516e-06\n",
      "  5.33992835e-08 1.37912760e-07 2.23409858e-07 1.31873366e-07\n",
      "  2.00603046e-07 1.72673629e-07 7.96796230e-08 1.55136791e-07\n",
      "  4.88212028e-07 2.16234910e-08 1.05936209e-07 1.76031320e-07\n",
      "  9.50928674e-08 2.62459477e-08 6.14312512e-08 1.24614709e-07\n",
      "  7.77102104e-08 7.23404864e-08 5.01244166e-06 4.24519219e-08\n",
      "  3.28808815e-07 2.78314151e-07 3.47256337e-08 2.56429484e-07]]\n"
     ]
    }
   ],
   "source": [
    "print('w = ',clf.coef_)\n",
    "print('b = ',clf.intercept_)\n",
    "print('Indices of support vectors = ', clf.support_)\n",
    "print('Support vectors = ', clf.support_vectors_)\n",
    "print('Number of support vectors for each class = ', clf.n_support_)\n",
    "print('Coefficients of the support vector in the decision function = ', np.abs(clf.dual_coef_))"
   ]
  },
  {
   "cell_type": "markdown",
   "metadata": {},
   "source": [
    "## 3.8 Save the Model"
   ]
  },
  {
   "cell_type": "code",
   "execution_count": 27,
   "metadata": {
    "scrolled": true
   },
   "outputs": [
    {
     "name": "stdout",
     "output_type": "stream",
     "text": [
      "['model_allClass_svm_iteration_0']\n"
     ]
    },
    {
     "name": "stderr",
     "output_type": "stream",
     "text": [
      "C:\\Anaconda3\\lib\\site-packages\\sklearn\\externals\\joblib\\numpy_pickle.py:104: DeprecationWarning: tostring() is deprecated. Use tobytes() instead.\n",
      "  pickler.file_handle.write(chunk.tostring('C'))\n",
      "C:\\Anaconda3\\lib\\site-packages\\sklearn\\externals\\joblib\\numpy_pickle.py:104: DeprecationWarning: tostring() is deprecated. Use tobytes() instead.\n",
      "  pickler.file_handle.write(chunk.tostring('C'))\n",
      "C:\\Anaconda3\\lib\\site-packages\\sklearn\\externals\\joblib\\numpy_pickle.py:104: DeprecationWarning: tostring() is deprecated. Use tobytes() instead.\n",
      "  pickler.file_handle.write(chunk.tostring('C'))\n",
      "C:\\Anaconda3\\lib\\site-packages\\sklearn\\externals\\joblib\\numpy_pickle.py:104: DeprecationWarning: tostring() is deprecated. Use tobytes() instead.\n",
      "  pickler.file_handle.write(chunk.tostring('C'))\n",
      "C:\\Anaconda3\\lib\\site-packages\\sklearn\\externals\\joblib\\numpy_pickle.py:104: DeprecationWarning: tostring() is deprecated. Use tobytes() instead.\n",
      "  pickler.file_handle.write(chunk.tostring('C'))\n",
      "C:\\Anaconda3\\lib\\site-packages\\sklearn\\externals\\joblib\\numpy_pickle.py:104: DeprecationWarning: tostring() is deprecated. Use tobytes() instead.\n",
      "  pickler.file_handle.write(chunk.tostring('C'))\n",
      "C:\\Anaconda3\\lib\\site-packages\\sklearn\\externals\\joblib\\numpy_pickle.py:104: DeprecationWarning: tostring() is deprecated. Use tobytes() instead.\n",
      "  pickler.file_handle.write(chunk.tostring('C'))\n",
      "C:\\Anaconda3\\lib\\site-packages\\sklearn\\externals\\joblib\\numpy_pickle.py:104: DeprecationWarning: tostring() is deprecated. Use tobytes() instead.\n",
      "  pickler.file_handle.write(chunk.tostring('C'))\n",
      "C:\\Anaconda3\\lib\\site-packages\\sklearn\\externals\\joblib\\numpy_pickle.py:104: DeprecationWarning: tostring() is deprecated. Use tobytes() instead.\n",
      "  pickler.file_handle.write(chunk.tostring('C'))\n",
      "C:\\Anaconda3\\lib\\site-packages\\sklearn\\externals\\joblib\\numpy_pickle.py:104: DeprecationWarning: tostring() is deprecated. Use tobytes() instead.\n",
      "  pickler.file_handle.write(chunk.tostring('C'))\n"
     ]
    }
   ],
   "source": [
    "c = joblib.dump(clf, 'model_allClass_svm_iteration_'+str(iterationNumber))\n",
    "print(c)"
   ]
  },
  {
   "cell_type": "markdown",
   "metadata": {},
   "source": [
    "## 3.9 Load the Model"
   ]
  },
  {
   "cell_type": "code",
   "execution_count": 28,
   "metadata": {},
   "outputs": [],
   "source": [
    "model_reload = joblib.load('model_allClass_svm_iteration_'+str(iterationNumber))"
   ]
  },
  {
   "cell_type": "markdown",
   "metadata": {},
   "source": [
    "## 3.10. Performance Measures"
   ]
  },
  {
   "cell_type": "markdown",
   "metadata": {},
   "source": [
    "### 3.10.1. Accuracy"
   ]
  },
  {
   "cell_type": "code",
   "execution_count": 29,
   "metadata": {},
   "outputs": [
    {
     "name": "stdout",
     "output_type": "stream",
     "text": [
      "Test Accuracy: 0.978\n"
     ]
    }
   ],
   "source": [
    "acc = model_reload.score(X_test, y_test)\n",
    "print('Test Accuracy: %.3f' % acc)"
   ]
  },
  {
   "cell_type": "code",
   "execution_count": 30,
   "metadata": {},
   "outputs": [
    {
     "data": {
      "text/plain": [
       "45"
      ]
     },
     "execution_count": 30,
     "metadata": {},
     "output_type": "execute_result"
    }
   ],
   "source": [
    "len(X_test)"
   ]
  },
  {
   "cell_type": "code",
   "execution_count": 31,
   "metadata": {},
   "outputs": [],
   "source": [
    "y_predict = model_reload.predict(X_test)"
   ]
  },
  {
   "cell_type": "code",
   "execution_count": 32,
   "metadata": {},
   "outputs": [
    {
     "data": {
      "text/plain": [
       "45"
      ]
     },
     "execution_count": 32,
     "metadata": {},
     "output_type": "execute_result"
    }
   ],
   "source": [
    "len(y_predict)"
   ]
  },
  {
   "cell_type": "markdown",
   "metadata": {},
   "source": [
    "# The number 32 means the type number of all chromosome class number inlcuding abnormal ones\n",
    "y_predict_filtered = []\n",
    "\n",
    "for sample in y_predict:\n",
    "    maximum = 0\n",
    "    indicator = 0\n",
    "    for i in range(32):\n",
    "        if sample[i] > maximum:\n",
    "            maximum = sample[i]\n",
    "            indicator = i\n",
    "    y_predict_filtered.append(indicator)        "
   ]
  },
  {
   "cell_type": "code",
   "execution_count": 33,
   "metadata": {},
   "outputs": [],
   "source": [
    "label = ['chr_x', 'chr_x_p22_cnv']\n",
    "\n",
    "label_convert = []\n",
    "\n",
    "for i in range(2):\n",
    "    label_convert.append(chromConvert_reverse[i])"
   ]
  },
  {
   "cell_type": "markdown",
   "metadata": {},
   "source": [
    "### 3.10.2. Classification Report"
   ]
  },
  {
   "cell_type": "code",
   "execution_count": 34,
   "metadata": {},
   "outputs": [
    {
     "name": "stdout",
     "output_type": "stream",
     "text": [
      "               precision    recall  f1-score   support\n",
      "\n",
      "        chr_x       0.97      1.00      0.99        38\n",
      "chr_x_p22_cnv       1.00      0.86      0.92         7\n",
      "\n",
      "    micro avg       0.98      0.98      0.98        45\n",
      "    macro avg       0.99      0.93      0.96        45\n",
      " weighted avg       0.98      0.98      0.98        45\n",
      "\n"
     ]
    }
   ],
   "source": [
    "performanceReport = classification_report(y_test, y_predict, target_names=label_convert)\n",
    "\n",
    "# Change here for different iteration!!!!!\n",
    "\n",
    "print(performanceReport)"
   ]
  },
  {
   "cell_type": "markdown",
   "metadata": {},
   "source": [
    "### 3.10.3. Confusion Matrix"
   ]
  },
  {
   "cell_type": "code",
   "execution_count": 35,
   "metadata": {
    "scrolled": false
   },
   "outputs": [
    {
     "data": {
      "text/html": [
       "<div>\n",
       "<style scoped>\n",
       "    .dataframe tbody tr th:only-of-type {\n",
       "        vertical-align: middle;\n",
       "    }\n",
       "\n",
       "    .dataframe tbody tr th {\n",
       "        vertical-align: top;\n",
       "    }\n",
       "\n",
       "    .dataframe thead th {\n",
       "        text-align: right;\n",
       "    }\n",
       "</style>\n",
       "<table border=\"1\" class=\"dataframe\">\n",
       "  <thead>\n",
       "    <tr style=\"text-align: right;\">\n",
       "      <th></th>\n",
       "      <th>chr_x</th>\n",
       "      <th>chr_x_p22_cnv</th>\n",
       "    </tr>\n",
       "  </thead>\n",
       "  <tbody>\n",
       "    <tr>\n",
       "      <th>chr_x</th>\n",
       "      <td>38</td>\n",
       "      <td>0</td>\n",
       "    </tr>\n",
       "    <tr>\n",
       "      <th>chr_x_p22_cnv</th>\n",
       "      <td>1</td>\n",
       "      <td>6</td>\n",
       "    </tr>\n",
       "  </tbody>\n",
       "</table>\n",
       "</div>"
      ],
      "text/plain": [
       "               chr_x  chr_x_p22_cnv\n",
       "chr_x             38              0\n",
       "chr_x_p22_cnv      1              6"
      ]
     },
     "execution_count": 35,
     "metadata": {},
     "output_type": "execute_result"
    }
   ],
   "source": [
    "cm = np.array(confusion_matrix(y_test, y_predict, labels=[0, 1]))\n",
    "confusion = pd.DataFrame(cm, index=label_convert,\n",
    "                        columns=label_convert)\n",
    "confusion.to_csv('ConfusionMatrix_KaryoType_SVM' + str(iterationNumber) + '.csv')\n",
    "confusion"
   ]
  },
  {
   "cell_type": "markdown",
   "metadata": {},
   "source": [
    "### 3.10.4 Rate of Confusion Matrix"
   ]
  },
  {
   "cell_type": "code",
   "execution_count": 36,
   "metadata": {
    "scrolled": true
   },
   "outputs": [],
   "source": [
    "subtotal = [0] * 2 \n",
    "for item in y_test:\n",
    "    subtotal[item] = subtotal[item] + 1"
   ]
  },
  {
   "cell_type": "code",
   "execution_count": 37,
   "metadata": {},
   "outputs": [],
   "source": [
    "cm_r = []\n",
    "for i in range(2):\n",
    "    cm_r.append(cm[i]/subtotal[i])"
   ]
  },
  {
   "cell_type": "code",
   "execution_count": 38,
   "metadata": {},
   "outputs": [],
   "source": [
    "cm_array = np.array(cm_r)"
   ]
  },
  {
   "cell_type": "code",
   "execution_count": 39,
   "metadata": {},
   "outputs": [
    {
     "data": {
      "text/html": [
       "<div>\n",
       "<style scoped>\n",
       "    .dataframe tbody tr th:only-of-type {\n",
       "        vertical-align: middle;\n",
       "    }\n",
       "\n",
       "    .dataframe tbody tr th {\n",
       "        vertical-align: top;\n",
       "    }\n",
       "\n",
       "    .dataframe thead th {\n",
       "        text-align: right;\n",
       "    }\n",
       "</style>\n",
       "<table border=\"1\" class=\"dataframe\">\n",
       "  <thead>\n",
       "    <tr style=\"text-align: right;\">\n",
       "      <th></th>\n",
       "      <th>chr_x</th>\n",
       "      <th>chr_x_p22_cnv</th>\n",
       "    </tr>\n",
       "  </thead>\n",
       "  <tbody>\n",
       "    <tr>\n",
       "      <th>chr_x</th>\n",
       "      <td>1.000000</td>\n",
       "      <td>0.000000</td>\n",
       "    </tr>\n",
       "    <tr>\n",
       "      <th>chr_x_p22_cnv</th>\n",
       "      <td>0.142857</td>\n",
       "      <td>0.857143</td>\n",
       "    </tr>\n",
       "  </tbody>\n",
       "</table>\n",
       "</div>"
      ],
      "text/plain": [
       "                  chr_x  chr_x_p22_cnv\n",
       "chr_x          1.000000       0.000000\n",
       "chr_x_p22_cnv  0.142857       0.857143"
      ]
     },
     "execution_count": 39,
     "metadata": {},
     "output_type": "execute_result"
    }
   ],
   "source": [
    "confusion_r = pd.DataFrame(cm_r, index=label_convert,\n",
    "                        columns=label_convert)\n",
    "confusion.to_csv('ConfusionMatrix_Rate_KaryoType_SVM' + str(iterationNumber) + '.csv')\n",
    "confusion_r"
   ]
  },
  {
   "cell_type": "markdown",
   "metadata": {},
   "source": [
    "#### Heat Map: Number"
   ]
  },
  {
   "cell_type": "code",
   "execution_count": 40,
   "metadata": {
    "scrolled": true
   },
   "outputs": [
    {
     "data": {
      "image/png": "[encoded data removed]",
      "text/plain": [
       "<Figure size 2160x1728 with 2 Axes>"
      ]
     },
     "metadata": {
      "needs_background": "light"
     },
     "output_type": "display_data"
    }
   ],
   "source": [
    "plt.figure(figsize=(30, 24))\n",
    "heat_map = sb.heatmap(confusion, annot=True,  # It's a Seaborn function\n",
    "                      cmap='coolwarm', \n",
    "                      xticklabels=confusion.columns, yticklabels=confusion.index, \n",
    "                      linewidths=.5, \n",
    "                      annot_kws={\"size\": 20})\n",
    "sb.set(font_scale = 2)"
   ]
  },
  {
   "cell_type": "markdown",
   "metadata": {},
   "source": [
    "#### Heat Map: Rate (important!!!)"
   ]
  },
  {
   "cell_type": "code",
   "execution_count": 41,
   "metadata": {
    "scrolled": false
   },
   "outputs": [
    {
     "data": {
      "image/png": "[encoded data removed]",
      "text/plain": [
       "<Figure size 2160x1728 with 2 Axes>"
      ]
     },
     "metadata": {},
     "output_type": "display_data"
    }
   ],
   "source": [
    "plt.figure(figsize=(30, 24))\n",
    "heat_map_r = sb.heatmap(confusion_r, annot=True,  # It's a Seaborn function\n",
    "                      cmap='coolwarm', \n",
    "                      xticklabels=confusion.columns, yticklabels=confusion.index, \n",
    "                      linewidths=.5, \n",
    "                      annot_kws={\"size\": 20})\n",
    "sb.set(font_scale = 2)"
   ]
  },
  {
   "cell_type": "code",
   "execution_count": 42,
   "metadata": {},
   "outputs": [],
   "source": [
    "fig = heat_map.get_figure()    \n",
    "fig.savefig('Heatmap_Iteration_' + str(iterationNumber) + '.png', dpi=400)"
   ]
  },
  {
   "cell_type": "code",
   "execution_count": 43,
   "metadata": {},
   "outputs": [],
   "source": [
    "fig_r = heat_map_r.get_figure()    \n",
    "fig_r.savefig('Heatmap_Rate_Iteration_' + str(iterationNumber) + '.png', dpi=400)"
   ]
  },
  {
   "cell_type": "markdown",
   "metadata": {},
   "source": [
    "# Results"
   ]
  },
  {
   "cell_type": "code",
   "execution_count": 44,
   "metadata": {},
   "outputs": [
    {
     "name": "stdout",
     "output_type": "stream",
     "text": [
      "Test Accuracy: 0.978\n"
     ]
    }
   ],
   "source": [
    "print('Test Accuracy: %.3f' % acc)"
   ]
  },
  {
   "cell_type": "code",
   "execution_count": 45,
   "metadata": {
    "scrolled": true
   },
   "outputs": [
    {
     "name": "stdout",
     "output_type": "stream",
     "text": [
      "               precision    recall  f1-score   support\n",
      "\n",
      "        chr_x       0.97      1.00      0.99        38\n",
      "chr_x_p22_cnv       1.00      0.86      0.92         7\n",
      "\n",
      "    micro avg       0.98      0.98      0.98        45\n",
      "    macro avg       0.99      0.93      0.96        45\n",
      " weighted avg       0.98      0.98      0.98        45\n",
      "\n"
     ]
    }
   ],
   "source": [
    "print(performanceReport)"
   ]
  },
  {
   "cell_type": "code",
   "execution_count": 46,
   "metadata": {},
   "outputs": [
    {
     "data": {
      "text/plain": [
       "str"
      ]
     },
     "execution_count": 46,
     "metadata": {},
     "output_type": "execute_result"
    }
   ],
   "source": [
    "type(performanceReport)"
   ]
  },
  {
   "cell_type": "code",
   "execution_count": 47,
   "metadata": {},
   "outputs": [
    {
     "data": {
      "text/html": [
       "<div>\n",
       "<style scoped>\n",
       "    .dataframe tbody tr th:only-of-type {\n",
       "        vertical-align: middle;\n",
       "    }\n",
       "\n",
       "    .dataframe tbody tr th {\n",
       "        vertical-align: top;\n",
       "    }\n",
       "\n",
       "    .dataframe thead th {\n",
       "        text-align: right;\n",
       "    }\n",
       "</style>\n",
       "<table border=\"1\" class=\"dataframe\">\n",
       "  <thead>\n",
       "    <tr style=\"text-align: right;\">\n",
       "      <th></th>\n",
       "      <th>chr_x</th>\n",
       "      <th>chr_x_p22_cnv</th>\n",
       "    </tr>\n",
       "  </thead>\n",
       "  <tbody>\n",
       "    <tr>\n",
       "      <th>chr_x</th>\n",
       "      <td>38</td>\n",
       "      <td>0</td>\n",
       "    </tr>\n",
       "    <tr>\n",
       "      <th>chr_x_p22_cnv</th>\n",
       "      <td>1</td>\n",
       "      <td>6</td>\n",
       "    </tr>\n",
       "  </tbody>\n",
       "</table>\n",
       "</div>"
      ],
      "text/plain": [
       "               chr_x  chr_x_p22_cnv\n",
       "chr_x             38              0\n",
       "chr_x_p22_cnv      1              6"
      ]
     },
     "execution_count": 47,
     "metadata": {},
     "output_type": "execute_result"
    }
   ],
   "source": [
    "confusion"
   ]
  },
  {
   "cell_type": "markdown",
   "metadata": {},
   "source": [
    "## Export to a text file"
   ]
  },
  {
   "cell_type": "code",
   "execution_count": 48,
   "metadata": {},
   "outputs": [],
   "source": [
    "file_report = open('Results_'+str(iterationNumber)+'.txt', 'w')\n",
    "file_report.write('Accuracy: %s\\n\\n' % acc)\n",
    "file_report.write('Performance Report: \\n%s\\n\\n' % performanceReport)\n",
    "file_report.write('Confusion Matrix: \\n%s.\\n\\n' % confusion)\n",
    "file_report.close()"
   ]
  },
  {
   "cell_type": "code",
   "execution_count": null,
   "metadata": {},
   "outputs": [],
   "source": []
  }
 ],
 "metadata": {
  "kernelspec": {
   "display_name": "Python 3",
   "language": "python",
   "name": "python3"
  },
  "language_info": {
   "codemirror_mode": {
    "name": "ipython",
    "version": 3
   },
   "file_extension": ".py",
   "mimetype": "text/x-python",
   "name": "python",
   "nbconvert_exporter": "python",
   "pygments_lexer": "ipython3",
   "version": "3.7.3"
  }
 },
 "nbformat": 4,
 "nbformat_minor": 2
}
