{
 "cells": [
  {
   "cell_type": "code",
   "execution_count": 1,
   "metadata": {},
   "outputs": [],
   "source": [
    "import scipy.integrate as spi\n",
    "import numpy as np\n",
    "import pylab as pl\n",
    "import math\n",
    "%matplotlib inline"
   ]
  },
  {
   "cell_type": "markdown",
   "metadata": {},
   "source": [
    "# SIR Model"
   ]
  },
  {
   "cell_type": "code",
   "execution_count": 2,
   "metadata": {},
   "outputs": [
    {
     "data": {
      "text/latex": [
       "\\begin{equation}\n",
       "\n",
       "\\frac{dS(t)}{dt} = -\\frac{\\beta S(t)I(t)}{N} \\\\\n",
       "\\frac{dI(t)}{dt} = \\frac{\\beta S(t)I(t)}{N} - \\gamma I(t) \\\\\n",
       "\\frac{dR(t)}{dt} = \\gamma I(t)\n",
       "\n",
       "\\end{equation}\n"
      ],
      "text/plain": [
       "<IPython.core.display.Latex object>"
      ]
     },
     "metadata": {},
     "output_type": "display_data"
    }
   ],
   "source": [
    "%%latex\n",
    "\\begin{equation}\n",
    "\n",
    "\\frac{dS(t)}{dt} = -\\frac{\\beta S(t)I(t)}{N} \\\\\n",
    "\\frac{dI(t)}{dt} = \\frac{\\beta S(t)I(t)}{N} - \\gamma I(t) \\\\\n",
    "\\frac{dR(t)}{dt} = \\gamma I(t)\n",
    "\n",
    "\\end{equation}"
   ]
  },
  {
   "cell_type": "code",
   "execution_count": 21,
   "metadata": {},
   "outputs": [
    {
     "data": {
      "text/latex": [
       "\\begin{equation}\n",
       "\n",
       "J(w) = -\\frac{1}{N}\\sum_{i=1}^{n}y_i{log((\\hat{y_i})+ (1-y_i)log(1-\\hat{y_i}))} \n",
       "\n",
       "\n",
       "\\end{equation}\n"
      ],
      "text/plain": [
       "<IPython.core.display.Latex object>"
      ]
     },
     "metadata": {},
     "output_type": "display_data"
    }
   ],
   "source": [
    "%%latex\n",
    "\\begin{equation}\n",
    "\n",
    "J(w) = -\\frac{1}{N}\\sum_{i=1}^{n}y_i{log((\\hat{y_i})+ (1-y_i)log(1-\\hat{y_i}))} \n",
    "\n",
    "\n",
    "\\end{equation}"
   ]
  },
  {
   "cell_type": "code",
   "execution_count": null,
   "metadata": {},
   "outputs": [],
   "source": []
  },
  {
   "cell_type": "code",
   "execution_count": null,
   "metadata": {},
   "outputs": [],
   "source": []
  }
 ],
 "metadata": {
  "kernelspec": {
   "display_name": "Python 3",
   "language": "python",
   "name": "python3"
  },
  "language_info": {
   "codemirror_mode": {
    "name": "ipython",
    "version": 3
   },
   "file_extension": ".py",
   "mimetype": "text/x-python",
   "name": "python",
   "nbconvert_exporter": "python",
   "pygments_lexer": "ipython3",
   "version": "3.7.4"
  }
 },
 "nbformat": 4,
 "nbformat_minor": 2
}
