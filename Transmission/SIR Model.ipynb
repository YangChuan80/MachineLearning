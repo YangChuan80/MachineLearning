{
 "cells": [
  {
   "cell_type": "code",
   "execution_count": 1,
   "metadata": {},
   "outputs": [],
   "source": [
    "import scipy.integrate as spi\n",
    "import numpy as np\n",
    "import pylab as pl\n",
    "%matplotlib inline"
   ]
  },
  {
   "cell_type": "markdown",
   "metadata": {},
   "source": [
    "# SI Model"
   ]
  },
  {
   "cell_type": "code",
   "execution_count": 2,
   "metadata": {},
   "outputs": [],
   "source": [
    "beta = 0.8\n",
    "\n",
    "t_start = 0.0\n",
    "t_end = 30       # Transmit Time\n",
    "\n",
    "N = 100\n",
    "\n",
    "\n",
    "I0 = 1      # Initial Number of Infected\n",
    "S0 = N - I0    # Initial Number of Susceptible\n",
    "\n",
    "INPUT = (S0, I0)"
   ]
  },
  {
   "cell_type": "code",
   "execution_count": 3,
   "metadata": {},
   "outputs": [
    {
     "data": {
      "text/latex": [
       "\\begin{align}\n",
       "\n",
       "\\frac{dS(t)}{dt} = -\\frac{\\beta S(t)I(t)}{N} \\\\\n",
       "S + I = N\\\\\n",
       "\n",
       "\\\\\n",
       "\n",
       "equals  to\\\\\n",
       "\n",
       "\\\\\n",
       "\n",
       "\\frac{dS(t)}{dt} = -\\frac{\\beta S(t)I(t)}{N} \\\\\n",
       "\n",
       "\\frac{dI(t)}{dt} = \\beta S(t)I(t) \\\\\n",
       "\n",
       "\\end{align}\n"
      ],
      "text/plain": [
       "<IPython.core.display.Latex object>"
      ]
     },
     "metadata": {},
     "output_type": "display_data"
    }
   ],
   "source": [
    "%%latex\n",
    "\\begin{align}\n",
    "\n",
    "\\frac{dS(t)}{dt} = -\\frac{\\beta S(t)I(t)}{N} \\\\\n",
    "S + I = N\\\\\n",
    "\n",
    "\\\\\n",
    "\n",
    "equals  to\\\\\n",
    "\n",
    "\\\\\n",
    "\n",
    "\\frac{dS(t)}{dt} = -\\frac{\\beta S(t)I(t)}{N} \\\\\n",
    "\n",
    "\\frac{dI(t)}{dt} = \\beta S(t)I(t) \\\\\n",
    "\n",
    "\\end{align}"
   ]
  },
  {
   "cell_type": "code",
   "execution_count": 4,
   "metadata": {},
   "outputs": [],
   "source": [
    "def diff_eqs(INP,t):  \n",
    "    # Y 为微分方程组的3个以t为分母的导数\n",
    "    Y=np.zeros((2))\n",
    "    V = INP\n",
    "    Y[0] = - beta * V[0] * V[1]/N  \n",
    "    Y[1] = beta * V[0] * V[1]/N\n",
    "    return Y   # For odeint"
   ]
  },
  {
   "cell_type": "code",
   "execution_count": 5,
   "metadata": {},
   "outputs": [],
   "source": [
    "t_range = np.arange(t_start, t_end)\n",
    "\n",
    "RES = spi.odeint(diff_eqs, INPUT, t_range)   # INPUT is the first parameter of func diff_eqs\n",
    "                                             # t_range is the second parameter of func diff_eqs"
   ]
  },
  {
   "cell_type": "code",
   "execution_count": 6,
   "metadata": {},
   "outputs": [
    {
     "data": {
      "text/plain": [
       "Text(0, 0.5, 'Susceptibles and Recovereds')"
      ]
     },
     "execution_count": 6,
     "metadata": {},
     "output_type": "execute_result"
    },
    {
     "data": {
      "image/png": "[encoded data removed]",
      "text/plain": [
       "<Figure size 432x288 with 1 Axes>"
      ]
     },
     "metadata": {
      "needs_background": "light"
     },
     "output_type": "display_data"
    }
   ],
   "source": [
    "#Ploting\n",
    "# pl.subplot(211)\n",
    "pl.plot(RES[:,0], '-b', label='Susceptibles')\n",
    "pl.plot(RES[:,1], '-r', label='Infecteds')\n",
    "pl.legend(loc=0)\n",
    "pl.title('SIR Model')\n",
    "pl.xlabel('Time')\n",
    "pl.ylabel('Susceptibles and Recovereds')"
   ]
  },
  {
   "cell_type": "markdown",
   "metadata": {},
   "source": [
    "# SIR Model"
   ]
  },
  {
   "cell_type": "code",
   "execution_count": 7,
   "metadata": {},
   "outputs": [],
   "source": [
    "beta = 0.8\n",
    "gamma = 0.14286\n",
    "\n",
    "t_start = 0.0\n",
    "t_end = 30       # Transmit Time\n",
    "\n",
    "N = 100\n",
    "R0 = 0\n",
    "I0 = 1      # Initial Number of Infectious\n",
    "S0 = N - I0 - R0    # Initial Number of Susceptible\n",
    "\n",
    "INPUT = (S0, I0, R0)"
   ]
  },
  {
   "cell_type": "code",
   "execution_count": 8,
   "metadata": {},
   "outputs": [
    {
     "data": {
      "text/latex": [
       "\\begin{align}\n",
       "\n",
       "\\frac{dS(t)}{dt} = -\\beta S(t)I(t) \\\\\n",
       "\\frac{dI(t)}{dt} = \\beta S(t)I(t) - \\gamma I(t) \\\\\n",
       "\\frac{dR(t)}{dt} = \\gamma I(t)\n",
       "\n",
       "\\end{align}\n"
      ],
      "text/plain": [
       "<IPython.core.display.Latex object>"
      ]
     },
     "metadata": {},
     "output_type": "display_data"
    }
   ],
   "source": [
    "%%latex\n",
    "\\begin{align}\n",
    "\n",
    "\\frac{dS(t)}{dt} = -\\beta S(t)I(t) \\\\\n",
    "\\frac{dI(t)}{dt} = \\beta S(t)I(t) - \\gamma I(t) \\\\\n",
    "\\frac{dR(t)}{dt} = \\gamma I(t)\n",
    "\n",
    "\\end{align}"
   ]
  },
  {
   "cell_type": "code",
   "execution_count": 9,
   "metadata": {},
   "outputs": [],
   "source": [
    "def diff_eqs(INP,t):  \n",
    "    # Y 为微分方程组的3个以t为分母的导数\n",
    "    Y = np.zeros((3))\n",
    "    V = INP\n",
    "    Y[0] = - beta * V[0] * V[1]/N                    # Y[0] is dS(t)/dt, V[0] is S(t)\n",
    "    Y[1] = beta * V[0] * V[1]/N - gamma * V[1]       # Y[1] is dI(t)/dt, V[1] is I(t)\n",
    "    Y[2] = gamma * V[1]                            # Y[2] is dR(t)/dt.\n",
    "    return Y   # For odeint"
   ]
  },
  {
   "cell_type": "code",
   "execution_count": 10,
   "metadata": {},
   "outputs": [],
   "source": [
    "t_range = np.arange(t_start, t_end)\n",
    "\n",
    "RES = spi.odeint(diff_eqs, INPUT, t_range)   # INPUT is the first parameter of func diff_eqs\n",
    "                                             # t_range is the second parameter of func diff_eqs"
   ]
  },
  {
   "cell_type": "code",
   "execution_count": 11,
   "metadata": {},
   "outputs": [
    {
     "data": {
      "text/plain": [
       "Text(0, 0.5, 'Susceptibles, Infectious and Recovereds')"
      ]
     },
     "execution_count": 11,
     "metadata": {},
     "output_type": "execute_result"
    },
    {
     "data": {
      "image/png": "[encoded data removed]",
      "text/plain": [
       "<Figure size 432x288 with 1 Axes>"
      ]
     },
     "metadata": {
      "needs_background": "light"
     },
     "output_type": "display_data"
    }
   ],
   "source": [
    "#Ploting\n",
    "pl.plot(RES[:,0], '-b', label='Susceptibles')\n",
    "pl.plot(RES[:,1], '-r', label='Infecteds')\n",
    "pl.plot(RES[:,2], '-g', label='Recovereds')\n",
    "\n",
    "pl.legend(loc=0)\n",
    "pl.title('SIR Model')\n",
    "pl.xlabel('Time')\n",
    "pl.ylabel('Susceptibles, Infectious and Recovereds')"
   ]
  },
  {
   "cell_type": "markdown",
   "metadata": {},
   "source": [
    "# SEIR Model"
   ]
  },
  {
   "cell_type": "code",
   "execution_count": 58,
   "metadata": {},
   "outputs": [],
   "source": [
    "beta = 1.2\n",
    "gamma = 0.1\n",
    "\n",
    "t_start = 0.0\n",
    "t_end = 60       # Transmit Time\n",
    "t_latent = 7    # Latent Period/Incubation Period\n",
    "\n",
    "N = 100\n",
    "\n",
    "I0 = 3      # Initial Number of Infectious\n",
    "E0 = 0\n",
    "R0 = 0\n",
    "S0 = 100 - I0 - E0 - R0    # Initial Number of Susceptible\n",
    "\n",
    "INPUT = (S0, E0, I0, R0)"
   ]
  },
  {
   "cell_type": "code",
   "execution_count": 70,
   "metadata": {},
   "outputs": [
    {
     "data": {
      "text/latex": [
       "\\begin{align}\n",
       "\n",
       "\\frac{dS}{dt} = -\\beta SI \\\\\n",
       "\\frac{dE}{dt} = \\beta SI - \\frac{E}{T_{latent}} \\\\\n",
       "\\frac{dI}{dt} = \\frac{E}{T_{latent}} - \\gamma I \\\\\n",
       "\\frac{dR}{dt} = \\gamma I\n",
       "\n",
       "\\end{align}\n"
      ],
      "text/plain": [
       "<IPython.core.display.Latex object>"
      ]
     },
     "metadata": {},
     "output_type": "display_data"
    }
   ],
   "source": [
    "%%latex\n",
    "\\begin{align}\n",
    "\n",
    "\\frac{dS}{dt} = -\\beta SI \\\\\n",
    "\\frac{dE}{dt} = \\beta SI - \\frac{E}{T_{latent}} \\\\\n",
    "\\frac{dI}{dt} = \\frac{E}{T_{latent}} - \\gamma I \\\\\n",
    "\\frac{dR}{dt} = \\gamma I\n",
    "\n",
    "\\end{align}"
   ]
  },
  {
   "cell_type": "code",
   "execution_count": 60,
   "metadata": {},
   "outputs": [],
   "source": [
    "def diff_eqs(INP,t):  \n",
    "    # Y 为微分方程组的3个以t为分母的导数\n",
    "    Y= np.zeros((4))\n",
    "    V = INP\n",
    "    Y[0] = - beta * V[0] * V[2]/N    \n",
    "    Y[1] = beta * V[0] * V[2]/N - V[1]/t_latent\n",
    "    Y[2] = V[1]/t_latent - gamma * V[2]\n",
    "    Y[3] = gamma * V[2]\n",
    "    return Y   # For odeint"
   ]
  },
  {
   "cell_type": "code",
   "execution_count": 61,
   "metadata": {},
   "outputs": [],
   "source": [
    "t_range = np.arange(t_start, t_end)\n",
    "\n",
    "RES = spi.odeint(diff_eqs, INPUT, t_range)   # INPUT is the first parameter of func diff_eqs\n",
    "                                             # t_range is the second parameter of func diff_eqs"
   ]
  },
  {
   "cell_type": "code",
   "execution_count": 63,
   "metadata": {},
   "outputs": [
    {
     "data": {
      "text/plain": [
       "Text(0, 0.5, 'Susceptibles, Infectious and Recovereds')"
      ]
     },
     "execution_count": 63,
     "metadata": {},
     "output_type": "execute_result"
    },
    {
     "data": {
      "image/png": "[encoded data removed]",
      "text/plain": [
       "<Figure size 432x288 with 1 Axes>"
      ]
     },
     "metadata": {
      "needs_background": "light"
     },
     "output_type": "display_data"
    }
   ],
   "source": [
    "#Ploting\n",
    "pl.plot(RES[:,0], '-b', label='Susceptibles')\n",
    "pl.plot(RES[:,1], 'orange', label='Exposeds')\n",
    "pl.plot(RES[:,2], '-r', label='Infecteds')\n",
    "pl.plot(RES[:,3], '-g', label='Recovereds')\n",
    "\n",
    "pl.legend(loc=0)\n",
    "pl.title('SEIR Model')\n",
    "pl.xlabel('Time')\n",
    "pl.ylabel('Susceptibles, Infectious and Recovereds')"
   ]
  },
  {
   "cell_type": "code",
   "execution_count": null,
   "metadata": {},
   "outputs": [],
   "source": []
  },
  {
   "cell_type": "code",
   "execution_count": null,
   "metadata": {},
   "outputs": [],
   "source": []
  }
 ],
 "metadata": {
  "kernelspec": {
   "display_name": "Python 3",
   "language": "python",
   "name": "python3"
  },
  "language_info": {
   "codemirror_mode": {
    "name": "ipython",
    "version": 3
   },
   "file_extension": ".py",
   "mimetype": "text/x-python",
   "name": "python",
   "nbconvert_exporter": "python",
   "pygments_lexer": "ipython3",
   "version": "3.7.4"
  }
 },
 "nbformat": 4,
 "nbformat_minor": 2
}
