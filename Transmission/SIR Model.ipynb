{
 "cells": [
  {
   "cell_type": "code",
   "execution_count": 1,
   "metadata": {},
   "outputs": [],
   "source": [
    "import scipy.integrate as spi\n",
    "import numpy as np\n",
    "import pylab as pl\n",
    "%matplotlib inline"
   ]
  },
  {
   "cell_type": "code",
   "execution_count": 2,
   "metadata": {},
   "outputs": [],
   "source": [
    "beta = 1.4247\n",
    "gamma = 0.14286\n",
    "\n",
    "TS = 1.0       # Interval of Observation\n",
    "ND = 70.0      # End Time of Observation\n",
    "\n",
    "S0 = 1 - 1e-6    # Initial Number of Susceptible\n",
    "I0 = 1e-6      # Initial Number of Infectious\n",
    "\n",
    "INPUT = (S0, I0, 0.0)"
   ]
  },
  {
   "cell_type": "code",
   "execution_count": 3,
   "metadata": {},
   "outputs": [
    {
     "data": {
      "text/latex": [
       "\\begin{align}\n",
       "\n",
       "\\frac{dS(t)}{dt} = -\\beta S(t)I(t) \\\\\n",
       "\\frac{dI(t)}{dt} = \\beta S(t)I(t) - \\gamma I(t) \\\\\n",
       "\\frac{dR(t)}{dt} = \\gamma I(t)\n",
       "\n",
       "\\end{align}\n"
      ],
      "text/plain": [
       "<IPython.core.display.Latex object>"
      ]
     },
     "metadata": {},
     "output_type": "display_data"
    }
   ],
   "source": [
    "%%latex\n",
    "\\begin{align}\n",
    "\n",
    "\\frac{dS(t)}{dt} = -\\beta S(t)I(t) \\\\\n",
    "\\frac{dI(t)}{dt} = \\beta S(t)I(t) - \\gamma I(t) \\\\\n",
    "\\frac{dR(t)}{dt} = \\gamma I(t)\n",
    "\n",
    "\\end{align}"
   ]
  },
  {
   "cell_type": "code",
   "execution_count": 4,
   "metadata": {},
   "outputs": [],
   "source": [
    "def diff_eqs(INP,t):  \n",
    "    # Y 为微分方程组的3个以t为分母的导数\n",
    "    Y=np.zeros((3))\n",
    "    V = INP\n",
    "    Y[0] = - beta * V[0] * V[1]                    # Y[0] is dS(t)/dt, V[0] is S(t)\n",
    "    Y[1] = beta * V[0] * V[1] - gamma * V[1]       # Y[1] is dI(t)/dt, V[1] is I(t)\n",
    "    Y[2] = gamma * V[1]                            # Y[2] is dR(t)/dt.\n",
    "    return Y   # For odeint"
   ]
  },
  {
   "cell_type": "code",
   "execution_count": 5,
   "metadata": {},
   "outputs": [],
   "source": [
    "t_start = 0.0; t_end = ND; t_inc = TS\n",
    "t_range = np.arange(t_start, t_end+t_inc, t_inc)\n",
    "\n",
    "RES = spi.odeint(diff_eqs, INPUT, t_range)   # INPUT is the first parameter of func diff_eqs\n",
    "                                             # t_range is the second parameter of func diff_eqs"
   ]
  },
  {
   "cell_type": "code",
   "execution_count": 7,
   "metadata": {},
   "outputs": [
    {
     "data": {
      "image/png": "[encoded data removed]",
      "text/plain": [
       "<Figure size 432x288 with 2 Axes>"
      ]
     },
     "metadata": {
      "needs_background": "light"
     },
     "output_type": "display_data"
    }
   ],
   "source": [
    "#Ploting\n",
    "pl.subplot(211)\n",
    "pl.plot(RES[:,0], '-b', label='Susceptibles')\n",
    "pl.plot(RES[:,2], '-g', label='Recovereds')\n",
    "pl.legend(loc=0)\n",
    "pl.title('Program_2_1.py')\n",
    "pl.xlabel('Time')\n",
    "pl.ylabel('Susceptibles and Recovereds')\n",
    "\n",
    "pl.subplot(212)\n",
    "pl.plot(RES[:,1], '-r', label='Infectious')\n",
    "pl.xlabel('Time')\n",
    "pl.ylabel('Infectious')\n",
    "pl.show()"
   ]
  },
  {
   "cell_type": "code",
   "execution_count": null,
   "metadata": {},
   "outputs": [],
   "source": []
  }
 ],
 "metadata": {
  "kernelspec": {
   "display_name": "Python 3",
   "language": "python",
   "name": "python3"
  },
  "language_info": {
   "codemirror_mode": {
    "name": "ipython",
    "version": 3
   },
   "file_extension": ".py",
   "mimetype": "text/x-python",
   "name": "python",
   "nbconvert_exporter": "python",
   "pygments_lexer": "ipython3",
   "version": "3.7.4"
  }
 },
 "nbformat": 4,
 "nbformat_minor": 2
}
