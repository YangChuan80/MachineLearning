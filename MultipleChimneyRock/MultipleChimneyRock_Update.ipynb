{
 "cells": [
  {
   "cell_type": "markdown",
   "metadata": {
    "slideshow": {
     "slide_type": "slide"
    }
   },
   "source": [
    "# A Prediction of Cardiac Imaging based on Support Vector Machine Algorithm"
   ]
  },
  {
   "cell_type": "markdown",
   "metadata": {
    "slideshow": {
     "slide_type": "-"
    }
   },
   "source": [
    "- **Chuan Yang**, MD, PhD Student\n",
    "- Mentor: **Yanyan Zhao**, MD, PhD\n",
    "- Shengjing Hospital of China Medical University"
   ]
  },
  {
   "cell_type": "markdown",
   "metadata": {
    "slideshow": {
     "slide_type": "slide"
    }
   },
   "source": [
    "## Modules"
   ]
  },
  {
   "cell_type": "code",
   "execution_count": null,
   "metadata": {
    "slideshow": {
     "slide_type": "-"
    }
   },
   "outputs": [],
   "source": [
    "from PIL import Image\n",
    "import numpy as np\n",
    "import pandas as pd\n",
    "import matplotlib.pyplot as plt\n",
    "\n",
    "\n",
    "from sklearn import svm\n",
    "from sklearn.metrics import classification_report, confusion_matrix\n",
    "from sklearn.externals import joblib\n",
    "from os import walk\n",
    "\n",
    "import time\n",
    "\n",
    "%matplotlib inline"
   ]
  },
  {
   "cell_type": "markdown",
   "metadata": {
    "slideshow": {
     "slide_type": "slide"
    }
   },
   "source": [
    "## Samples\n",
    "### File Import"
   ]
  },
  {
   "cell_type": "code",
   "execution_count": null,
   "metadata": {
    "slideshow": {
     "slide_type": "-"
    }
   },
   "outputs": [],
   "source": [
    "pathBase = 'C:\\\\Users\\\\Chuan\\\\OneDrive\\\\Dowrun\\\\Database\\\\PhD\\\\KaryoTypes\\\\Arrangement\\\\'\n",
    "theWhole = {}\n",
    "\n",
    "f = []\n",
    "f_01 = []\n",
    "mypath_01 = pathBase + 'chr_01'\n",
    "for (dirpath, dirnames, filenames) in walk(mypath_01):\n",
    "    f.extend(filenames)\n",
    "for l in f:\n",
    "    f_01.append(mypath_01 + '\\\\' + l) \n",
    "        \n",
    "f = []\n",
    "f_02 = []\n",
    "mypath_02 = pathBase + 'chr_02'\n",
    "for (dirpath, dirnames, filenames) in walk(mypath_02):\n",
    "    f.extend(filenames)\n",
    "for l in f:\n",
    "    f_02.append(mypath_02 + '\\\\' + l)    \n",
    "        \n",
    "f = []\n",
    "f_03 = []\n",
    "mypath_03 = pathBase + 'chr_03'\n",
    "for (dirpath, dirnames, filenames) in walk(mypath_03):\n",
    "    f.extend(filenames)\n",
    "for l in f:\n",
    "    f_03.append(mypath_03 + '\\\\' + l)    \n",
    "        \n",
    "f = []\n",
    "f_04 = []\n",
    "mypath_04 = pathBase + 'chr_04'\n",
    "for (dirpath, dirnames, filenames) in walk(mypath_04):\n",
    "    f.extend(filenames)\n",
    "for l in f:\n",
    "    f_04.append(mypath_04 + '\\\\' + l)    \n",
    "        \n",
    "f = []\n",
    "f_05 = []\n",
    "mypath_05 = pathBase + 'chr_05'\n",
    "for (dirpath, dirnames, filenames) in walk(mypath_05):\n",
    "    f.extend(filenames)\n",
    "for l in f:\n",
    "    f_05.append(mypath_05 + '\\\\' + l)    \n",
    "        \n",
    "f = []\n",
    "f_06 = []\n",
    "mypath_06 = pathBase + 'chr_06'\n",
    "for (dirpath, dirnames, filenames) in walk(mypath_06):\n",
    "    f.extend(filenames)\n",
    "for l in f:\n",
    "    f_06.append(mypath_06 + '\\\\' + l)    \n",
    "    \n",
    "f = []\n",
    "f_07 = []\n",
    "mypath_07 = pathBase + 'chr_07'\n",
    "for (dirpath, dirnames, filenames) in walk(mypath_07):\n",
    "    f.extend(filenames)\n",
    "for l in f:\n",
    "    f_07.append(mypath_07 + '\\\\' + l)    \n",
    "        \n",
    "f = []\n",
    "f_08 = []\n",
    "mypath_08 = pathBase + 'chr_08'\n",
    "for (dirpath, dirnames, filenames) in walk(mypath_08):\n",
    "    f.extend(filenames)\n",
    "for l in f:\n",
    "    f_08.append(mypath_08 + '\\\\' + l)    \n",
    "        \n",
    "f = []\n",
    "f_09 = []\n",
    "mypath_09 = pathBase + 'chr_09'\n",
    "for (dirpath, dirnames, filenames) in walk(mypath_09):\n",
    "    f.extend(filenames)\n",
    "for l in f:\n",
    "    f_09.append(mypath_09 + '\\\\' + l)    \n",
    "    \n",
    "f = []\n",
    "f_10 = []\n",
    "mypath_10 = pathBase + 'chr_10'\n",
    "for (dirpath, dirnames, filenames) in walk(mypath_10):\n",
    "    f.extend(filenames)\n",
    "for l in f:\n",
    "    f_10.append(mypath_10 + '\\\\' + l)    \n",
    "    \n",
    "f = []\n",
    "f_11 = []\n",
    "mypath_11 = pathBase + 'chr_11'\n",
    "for (dirpath, dirnames, filenames) in walk(mypath_11):\n",
    "    f.extend(filenames)\n",
    "for l in f:\n",
    "    f_11.append(mypath_11 + '\\\\' + l)    \n",
    "    \n",
    "    \n",
    "f = []\n",
    "f_12 = []\n",
    "mypath_12 = pathBase + 'chr_12'\n",
    "for (dirpath, dirnames, filenames) in walk(mypath_12):\n",
    "    f.extend(filenames)\n",
    "for l in f:\n",
    "    f_12.append(mypath_12 + '\\\\' + l)    \n",
    "    \n",
    "    \n",
    "f = []\n",
    "f_13 = []\n",
    "mypath_13 = pathBase + 'chr_13'\n",
    "for (dirpath, dirnames, filenames) in walk(mypath_13):\n",
    "    f.extend(filenames)\n",
    "for l in f:\n",
    "    f_13.append(mypath_13 + '\\\\' + l)    \n",
    "    \n",
    "    \n",
    "f = []\n",
    "f_14 = []\n",
    "mypath_14 = pathBase + 'chr_14'\n",
    "for (dirpath, dirnames, filenames) in walk(mypath_14):\n",
    "    f.extend(filenames)\n",
    "for l in f:\n",
    "    f_14.append(mypath_14 + '\\\\' + l)    \n",
    "    \n",
    "\n",
    "    \n",
    "f = []\n",
    "f_15 = []\n",
    "mypath_15 = pathBase + 'chr_15'\n",
    "for (dirpath, dirnames, filenames) in walk(mypath_15):\n",
    "    f.extend(filenames)\n",
    "for l in f:\n",
    "    f_15.append(mypath_15 + '\\\\' + l)    \n",
    "    \n",
    "        \n",
    "f = []\n",
    "f_16 = []\n",
    "mypath_16 = pathBase + 'chr_16'\n",
    "for (dirpath, dirnames, filenames) in walk(mypath_16):\n",
    "    f.extend(filenames)\n",
    "for l in f:\n",
    "    f_16.append(mypath_16 + '\\\\' + l)    \n",
    "    \n",
    "        \n",
    "f = []\n",
    "f_17 = []\n",
    "mypath_17 = pathBase + 'chr_17'\n",
    "for (dirpath, dirnames, filenames) in walk(mypath_17):\n",
    "    f.extend(filenames)\n",
    "for l in f:\n",
    "    f_17.append(mypath_17 + '\\\\' + l)    \n",
    "    \n",
    "        \n",
    "f = []\n",
    "f_18 = []\n",
    "mypath_18 = pathBase + 'chr_18'\n",
    "for (dirpath, dirnames, filenames) in walk(mypath_18):\n",
    "    f.extend(filenames)\n",
    "for l in f:\n",
    "    f_18.append(mypath_18 + '\\\\' + l)    \n",
    "    \n",
    "        \n",
    "f = []\n",
    "f_19 = []\n",
    "mypath_19 = pathBase + 'chr_19'\n",
    "for (dirpath, dirnames, filenames) in walk(mypath_19):\n",
    "    f.extend(filenames)\n",
    "for l in f:\n",
    "    f_19.append(mypath_19 + '\\\\' + l)    \n",
    "    \n",
    "        \n",
    "f = []\n",
    "f_20 = []\n",
    "mypath_20 = pathBase + 'chr_20'\n",
    "for (dirpath, dirnames, filenames) in walk(mypath_20):\n",
    "    f.extend(filenames)\n",
    "for l in f:\n",
    "    f_20.append(mypath_20 + '\\\\' + l)    \n",
    "   \n",
    "        \n",
    "f = []\n",
    "f_21 = []\n",
    "mypath_21 = pathBase + 'chr_21'\n",
    "for (dirpath, dirnames, filenames) in walk(mypath_21):\n",
    "    f.extend(filenames)\n",
    "for l in f:\n",
    "    f_21.append(mypath_21 + '\\\\' + l)    \n",
    "   \n",
    "        \n",
    "f = []\n",
    "f_22 = []\n",
    "mypath_22 = pathBase + 'chr_22'\n",
    "for (dirpath, dirnames, filenames) in walk(mypath_22):\n",
    "    f.extend(filenames)\n",
    "for l in f:\n",
    "    f_22.append(mypath_22 + '\\\\' + l)    \n",
    "   \n",
    "f = []\n",
    "f_x = []\n",
    "mypath_x = pathBase + 'chr_x'\n",
    "for (dirpath, dirnames, filenames) in walk(mypath_x):\n",
    "    f.extend(filenames)\n",
    "for l in f:\n",
    "    f_x.append(mypath_x + '\\\\' + l)    \n",
    "   \n",
    "f = []\n",
    "f_y = []\n",
    "mypath_y = pathBase + 'chr_y'\n",
    "for (dirpath, dirnames, filenames) in walk(mypath_y):\n",
    "    f.extend(filenames)\n",
    "for l in f:\n",
    "    f_y.append(mypath_y + '\\\\' + l)  \n",
    "    \n",
    "theWhole['chr_01'] = f_01\n",
    "theWhole['chr_02'] = f_02\n",
    "theWhole['chr_03'] = f_03\n",
    "theWhole['chr_04'] = f_04\n",
    "theWhole['chr_05'] = f_05\n",
    "theWhole['chr_06'] = f_06\n",
    "theWhole['chr_07'] = f_07\n",
    "theWhole['chr_08'] = f_08\n",
    "theWhole['chr_09'] = f_09\n",
    "theWhole['chr_10'] = f_10\n",
    "theWhole['chr_11'] = f_11\n",
    "theWhole['chr_12'] = f_12\n",
    "theWhole['chr_13'] = f_13\n",
    "theWhole['chr_14'] = f_14\n",
    "theWhole['chr_15'] = f_15\n",
    "theWhole['chr_16'] = f_16\n",
    "theWhole['chr_17'] = f_17\n",
    "theWhole['chr_18'] = f_18\n",
    "theWhole['chr_19'] = f_19\n",
    "theWhole['chr_20'] = f_20\n",
    "theWhole['chr_21'] = f_21\n",
    "theWhole['chr_22'] = f_22\n",
    "theWhole['chr_x'] = f_x\n",
    "theWhole['chr_y'] = f_y"
   ]
  },
  {
   "cell_type": "code",
   "execution_count": null,
   "metadata": {
    "slideshow": {
     "slide_type": "slide"
    }
   },
   "outputs": [],
   "source": [
    "theWhole['chr_05']"
   ]
  },
  {
   "cell_type": "markdown",
   "metadata": {
    "slideshow": {
     "slide_type": "slide"
    }
   },
   "source": [
    "## Image Input"
   ]
  },
  {
   "cell_type": "code",
   "execution_count": null,
   "metadata": {
    "scrolled": false,
    "slideshow": {
     "slide_type": "-"
    }
   },
   "outputs": [],
   "source": [
    "start = time.time()\n",
    "\n",
    "image = {}\n",
    "i = 0\n",
    "\n",
    "for chrNo in theWhole.keys():\n",
    "    image[chrNo] = []\n",
    "    for case in theWhole[chrNo]:\n",
    "        img = Image.open(case)\n",
    "        image[chrNo].append(img)\n",
    "    \n",
    "end = time.time()\n",
    "print(end - start)"
   ]
  },
  {
   "cell_type": "code",
   "execution_count": null,
   "metadata": {
    "scrolled": true,
    "slideshow": {
     "slide_type": "slide"
    }
   },
   "outputs": [],
   "source": [
    "image['chr_01'][1]"
   ]
  },
  {
   "cell_type": "markdown",
   "metadata": {
    "slideshow": {
     "slide_type": "slide"
    }
   },
   "source": [
    "## Functions"
   ]
  },
  {
   "cell_type": "code",
   "execution_count": null,
   "metadata": {
    "slideshow": {
     "slide_type": "-"
    }
   },
   "outputs": [],
   "source": [
    "def extractData(image):\n",
    "    x = image.size[0]\n",
    "    y = image.size[1]\n",
    "    \n",
    "    matrix = []\n",
    "    rgb_matrix = []\n",
    "\n",
    "    for i in range(x):\n",
    "        matrix.append([])\n",
    "        rgb_matrix.append([])\n",
    "        \n",
    "        for j in range(y):\n",
    "            r, g, b = image.getpixel((j, i))            \n",
    "            value = r * 299.0/1000 + g * 587.0/1000 + b * 114.0/1000\n",
    "            value = int(value)\n",
    "            matrix[i].append(value)\n",
    "            rgb_matrix[i].append((r,g,b))\n",
    "    return matrix, rgb_matrix"
   ]
  },
  {
   "cell_type": "code",
   "execution_count": null,
   "metadata": {
    "slideshow": {
     "slide_type": "-"
    }
   },
   "outputs": [],
   "source": [
    "def imageReconstruct(matrix):\n",
    "    df = np.array(matrix, dtype=np.uint8)\n",
    "    img = Image.fromarray(df, 'RGB')\n",
    "    img.save('image.png')\n",
    "    return img"
   ]
  },
  {
   "cell_type": "markdown",
   "metadata": {
    "slideshow": {
     "slide_type": "slide"
    }
   },
   "source": [
    "## Data Extraction from Images"
   ]
  },
  {
   "cell_type": "code",
   "execution_count": null,
   "metadata": {
    "slideshow": {
     "slide_type": "-"
    }
   },
   "outputs": [],
   "source": [
    "start = time.time()\n",
    "\n",
    "data = {}\n",
    "rgb_data = {}\n",
    "\n",
    "for chrNo in image.keys():\n",
    "    data[chrNo] = []; rgb_data[chrNo] = []\n",
    "    for case in image[chrNo]:\n",
    "        grey, rgb = extractData(case)\n",
    "        data[chrNo].append(grey)\n",
    "        rgb_data[chrNo].append(rgb)\n",
    "        \n",
    "end = time.time()\n",
    "print(end - start)"
   ]
  },
  {
   "cell_type": "code",
   "execution_count": null,
   "metadata": {
    "slideshow": {
     "slide_type": "slide"
    }
   },
   "outputs": [],
   "source": [
    "imageMatrix = np.array(rgb_data['chr_02'][1])"
   ]
  },
  {
   "cell_type": "code",
   "execution_count": null,
   "metadata": {
    "slideshow": {
     "slide_type": "-"
    }
   },
   "outputs": [],
   "source": [
    "img = imageReconstruct(imageMatrix)\n",
    "img"
   ]
  },
  {
   "cell_type": "markdown",
   "metadata": {
    "slideshow": {
     "slide_type": "slide"
    }
   },
   "source": [
    "## Flat Transformation from 2D to 1D"
   ]
  },
  {
   "cell_type": "code",
   "execution_count": null,
   "metadata": {
    "slideshow": {
     "slide_type": "-"
    }
   },
   "outputs": [],
   "source": [
    "data_flat = {}\n",
    "\n",
    "for chrNo in data.keys():\n",
    "    data_flat[chrNo] = []\n",
    "    for case in data[chrNo]:\n",
    "        case_flat = []\n",
    "        for row in case:\n",
    "            for column in row:\n",
    "                case_flat.append(column)            \n",
    "        data_flat[chrNo].append(case_flat)"
   ]
  },
  {
   "cell_type": "markdown",
   "metadata": {
    "slideshow": {
     "slide_type": "slide"
    }
   },
   "source": [
    "## Support Vector Classification"
   ]
  },
  {
   "cell_type": "code",
   "execution_count": null,
   "metadata": {
    "slideshow": {
     "slide_type": "-"
    }
   },
   "outputs": [],
   "source": [
    "x_train_list = []\n",
    "y_train_list = []\n",
    "\n",
    "for y, x in data_flat.items():    \n",
    "    for x_item in x:\n",
    "        x_train_list.append(x_item)\n",
    "        y_train_list.append(y)"
   ]
  },
  {
   "cell_type": "markdown",
   "metadata": {
    "slideshow": {
     "slide_type": "slide"
    }
   },
   "source": [
    "### Training"
   ]
  },
  {
   "cell_type": "code",
   "execution_count": null,
   "metadata": {
    "scrolled": true,
    "slideshow": {
     "slide_type": "-"
    }
   },
   "outputs": [],
   "source": [
    "start = time.time()\n",
    "\n",
    "X_train = np.array(x_train_list)\n",
    "y_train = np.array(y_train_list)\n",
    "\n",
    "clf = svm.SVC(kernel='linear', decision_function_shape='ovo')\n",
    "clf.fit(X_train, y_train)\n",
    "\n",
    "end = time.time()"
   ]
  },
  {
   "cell_type": "code",
   "execution_count": null,
   "metadata": {},
   "outputs": [],
   "source": [
    "print(end - start)"
   ]
  },
  {
   "cell_type": "markdown",
   "metadata": {
    "slideshow": {
     "slide_type": "slide"
    }
   },
   "source": [
    "### Prediction"
   ]
  },
  {
   "cell_type": "code",
   "execution_count": null,
   "metadata": {
    "scrolled": false,
    "slideshow": {
     "slide_type": "-"
    }
   },
   "outputs": [],
   "source": [
    "print('w = ',clf.coef_)\n",
    "print('b = ',clf.intercept_)\n",
    "print('Indices of support vectors = ', clf.support_)\n",
    "print('Support vectors = ', clf.support_vectors_)\n",
    "print('Number of support vectors for each class = ', clf.n_support_)\n",
    "print('Coefficients of the support vector in the decision function = ', np.abs(clf.dual_coef_))"
   ]
  },
  {
   "cell_type": "code",
   "execution_count": null,
   "metadata": {
    "slideshow": {
     "slide_type": "slide"
    }
   },
   "outputs": [],
   "source": [
    "pathBase = 'C:\\\\Users\\\\Chuan\\\\OneDrive\\\\Dowrun\\\\Database\\\\PhD\\\\KaryoTypes\\\\Arrangement\\\\test\\\\'\n",
    "theWhole = {}\n",
    "\n",
    "f = []\n",
    "f_01 = []\n",
    "mypath_01 = pathBase + 'chr_01'\n",
    "for (dirpath, dirnames, filenames) in walk(mypath_01):\n",
    "    f.extend(filenames)\n",
    "for l in f:\n",
    "    f_01.append(mypath_01 + '\\\\' + l) \n",
    "        \n",
    "f = []\n",
    "f_02 = []\n",
    "mypath_02 = pathBase + 'chr_02'\n",
    "for (dirpath, dirnames, filenames) in walk(mypath_02):\n",
    "    f.extend(filenames)\n",
    "for l in f:\n",
    "    f_02.append(mypath_02 + '\\\\' + l)    \n",
    "        \n",
    "f = []\n",
    "f_03 = []\n",
    "mypath_03 = pathBase + 'chr_03'\n",
    "for (dirpath, dirnames, filenames) in walk(mypath_03):\n",
    "    f.extend(filenames)\n",
    "for l in f:\n",
    "    f_03.append(mypath_03 + '\\\\' + l)    \n",
    "        \n",
    "f = []\n",
    "f_04 = []\n",
    "mypath_04 = pathBase + 'chr_04'\n",
    "for (dirpath, dirnames, filenames) in walk(mypath_04):\n",
    "    f.extend(filenames)\n",
    "for l in f:\n",
    "    f_04.append(mypath_04 + '\\\\' + l)    \n",
    "        \n",
    "f = []\n",
    "f_05 = []\n",
    "mypath_05 = pathBase + 'chr_05'\n",
    "for (dirpath, dirnames, filenames) in walk(mypath_05):\n",
    "    f.extend(filenames)\n",
    "for l in f:\n",
    "    f_05.append(mypath_05 + '\\\\' + l)    \n",
    "        \n",
    "f = []\n",
    "f_06 = []\n",
    "mypath_06 = pathBase + 'chr_06'\n",
    "for (dirpath, dirnames, filenames) in walk(mypath_06):\n",
    "    f.extend(filenames)\n",
    "for l in f:\n",
    "    f_06.append(mypath_06 + '\\\\' + l)    \n",
    "    \n",
    "f = []\n",
    "f_07 = []\n",
    "mypath_07 = pathBase + 'chr_07'\n",
    "for (dirpath, dirnames, filenames) in walk(mypath_07):\n",
    "    f.extend(filenames)\n",
    "for l in f:\n",
    "    f_07.append(mypath_07 + '\\\\' + l)    \n",
    "        \n",
    "f = []\n",
    "f_08 = []\n",
    "mypath_08 = pathBase + 'chr_08'\n",
    "for (dirpath, dirnames, filenames) in walk(mypath_08):\n",
    "    f.extend(filenames)\n",
    "for l in f:\n",
    "    f_08.append(mypath_08 + '\\\\' + l)    \n",
    "        \n",
    "f = []\n",
    "f_09 = []\n",
    "mypath_09 = pathBase + 'chr_09'\n",
    "for (dirpath, dirnames, filenames) in walk(mypath_09):\n",
    "    f.extend(filenames)\n",
    "for l in f:\n",
    "    f_09.append(mypath_09 + '\\\\' + l)    \n",
    "    \n",
    "f = []\n",
    "f_10 = []\n",
    "mypath_10 = pathBase + 'chr_10'\n",
    "for (dirpath, dirnames, filenames) in walk(mypath_10):\n",
    "    f.extend(filenames)\n",
    "for l in f:\n",
    "    f_10.append(mypath_10 + '\\\\' + l)    \n",
    "    \n",
    "f = []\n",
    "f_11 = []\n",
    "mypath_11 = pathBase + 'chr_11'\n",
    "for (dirpath, dirnames, filenames) in walk(mypath_11):\n",
    "    f.extend(filenames)\n",
    "for l in f:\n",
    "    f_11.append(mypath_11 + '\\\\' + l)    \n",
    "    \n",
    "    \n",
    "f = []\n",
    "f_12 = []\n",
    "mypath_12 = pathBase + 'chr_12'\n",
    "for (dirpath, dirnames, filenames) in walk(mypath_12):\n",
    "    f.extend(filenames)\n",
    "for l in f:\n",
    "    f_12.append(mypath_12 + '\\\\' + l)    \n",
    "    \n",
    "    \n",
    "f = []\n",
    "f_13 = []\n",
    "mypath_13 = pathBase + 'chr_13'\n",
    "for (dirpath, dirnames, filenames) in walk(mypath_13):\n",
    "    f.extend(filenames)\n",
    "for l in f:\n",
    "    f_13.append(mypath_13 + '\\\\' + l)    \n",
    "    \n",
    "    \n",
    "f = []\n",
    "f_14 = []\n",
    "mypath_14 = pathBase + 'chr_14'\n",
    "for (dirpath, dirnames, filenames) in walk(mypath_14):\n",
    "    f.extend(filenames)\n",
    "for l in f:\n",
    "    f_14.append(mypath_14 + '\\\\' + l)    \n",
    "    \n",
    "\n",
    "    \n",
    "f = []\n",
    "f_15 = []\n",
    "mypath_15 = pathBase + 'chr_15'\n",
    "for (dirpath, dirnames, filenames) in walk(mypath_15):\n",
    "    f.extend(filenames)\n",
    "for l in f:\n",
    "    f_15.append(mypath_15 + '\\\\' + l)    \n",
    "    \n",
    "        \n",
    "f = []\n",
    "f_16 = []\n",
    "mypath_16 = pathBase + 'chr_16'\n",
    "for (dirpath, dirnames, filenames) in walk(mypath_16):\n",
    "    f.extend(filenames)\n",
    "for l in f:\n",
    "    f_16.append(mypath_16 + '\\\\' + l)    \n",
    "    \n",
    "        \n",
    "f = []\n",
    "f_17 = []\n",
    "mypath_17 = pathBase + 'chr_17'\n",
    "for (dirpath, dirnames, filenames) in walk(mypath_17):\n",
    "    f.extend(filenames)\n",
    "for l in f:\n",
    "    f_17.append(mypath_17 + '\\\\' + l)    \n",
    "    \n",
    "        \n",
    "f = []\n",
    "f_18 = []\n",
    "mypath_18 = pathBase + 'chr_18'\n",
    "for (dirpath, dirnames, filenames) in walk(mypath_18):\n",
    "    f.extend(filenames)\n",
    "for l in f:\n",
    "    f_18.append(mypath_18 + '\\\\' + l)    \n",
    "    \n",
    "        \n",
    "f = []\n",
    "f_19 = []\n",
    "mypath_19 = pathBase + 'chr_19'\n",
    "for (dirpath, dirnames, filenames) in walk(mypath_19):\n",
    "    f.extend(filenames)\n",
    "for l in f:\n",
    "    f_19.append(mypath_19 + '\\\\' + l)    \n",
    "    \n",
    "        \n",
    "f = []\n",
    "f_20 = []\n",
    "mypath_20 = pathBase + 'chr_20'\n",
    "for (dirpath, dirnames, filenames) in walk(mypath_20):\n",
    "    f.extend(filenames)\n",
    "for l in f:\n",
    "    f_20.append(mypath_20 + '\\\\' + l)    \n",
    "   \n",
    "        \n",
    "f = []\n",
    "f_21 = []\n",
    "mypath_21 = pathBase + 'chr_21'\n",
    "for (dirpath, dirnames, filenames) in walk(mypath_21):\n",
    "    f.extend(filenames)\n",
    "for l in f:\n",
    "    f_21.append(mypath_21 + '\\\\' + l)    \n",
    "   \n",
    "        \n",
    "f = []\n",
    "f_22 = []\n",
    "mypath_22 = pathBase + 'chr_22'\n",
    "for (dirpath, dirnames, filenames) in walk(mypath_22):\n",
    "    f.extend(filenames)\n",
    "for l in f:\n",
    "    f_22.append(mypath_22 + '\\\\' + l)    \n",
    "   \n",
    "f = []\n",
    "f_x = []\n",
    "mypath_x = pathBase + 'chr_x'\n",
    "for (dirpath, dirnames, filenames) in walk(mypath_x):\n",
    "    f.extend(filenames)\n",
    "for l in f:\n",
    "    f_x.append(mypath_x + '\\\\' + l)    \n",
    "   \n",
    "f = []\n",
    "f_y = []\n",
    "mypath_y = pathBase + 'chr_y'\n",
    "for (dirpath, dirnames, filenames) in walk(mypath_y):\n",
    "    f.extend(filenames)\n",
    "for l in f:\n",
    "    f_y.append(mypath_y + '\\\\' + l)  \n",
    "    \n",
    "theWhole['chr_01'] = f_01\n",
    "theWhole['chr_02'] = f_02\n",
    "theWhole['chr_03'] = f_03\n",
    "theWhole['chr_04'] = f_04\n",
    "theWhole['chr_05'] = f_05\n",
    "theWhole['chr_06'] = f_06\n",
    "theWhole['chr_07'] = f_07\n",
    "theWhole['chr_08'] = f_08\n",
    "theWhole['chr_09'] = f_09\n",
    "theWhole['chr_10'] = f_10\n",
    "theWhole['chr_11'] = f_11\n",
    "theWhole['chr_12'] = f_12\n",
    "theWhole['chr_13'] = f_13\n",
    "theWhole['chr_14'] = f_14\n",
    "theWhole['chr_15'] = f_15\n",
    "theWhole['chr_16'] = f_16\n",
    "theWhole['chr_17'] = f_17\n",
    "theWhole['chr_18'] = f_18\n",
    "theWhole['chr_19'] = f_19\n",
    "theWhole['chr_20'] = f_20\n",
    "theWhole['chr_21'] = f_21\n",
    "theWhole['chr_22'] = f_22\n",
    "theWhole['chr_x'] = f_x\n",
    "theWhole['chr_y'] = f_y"
   ]
  },
  {
   "cell_type": "code",
   "execution_count": null,
   "metadata": {
    "slideshow": {
     "slide_type": "slide"
    }
   },
   "outputs": [],
   "source": [
    "start = time.time()\n",
    "\n",
    "image = {}\n",
    "i = 0\n",
    "\n",
    "for chrNo in theWhole.keys():\n",
    "    image[chrNo] = []\n",
    "    for case in theWhole[chrNo]:\n",
    "        img = Image.open(case)\n",
    "        image[chrNo].append(img)\n",
    "    \n",
    "end = time.time()\n",
    "print(end - start)"
   ]
  },
  {
   "cell_type": "markdown",
   "metadata": {
    "slideshow": {
     "slide_type": "slide"
    }
   },
   "source": [
    "### Data Extraction"
   ]
  },
  {
   "cell_type": "code",
   "execution_count": null,
   "metadata": {
    "slideshow": {
     "slide_type": "-"
    }
   },
   "outputs": [],
   "source": [
    "start = time.time()\n",
    "\n",
    "data = {}\n",
    "rgb_data = {}\n",
    "\n",
    "for chrNo in image.keys():\n",
    "    data[chrNo] = []; rgb_data[chrNo] = []\n",
    "    for case in image[chrNo]:\n",
    "        grey, rgb = extractData(case)\n",
    "        data[chrNo].append(grey)\n",
    "        rgb_data[chrNo].append(rgb)\n",
    "        \n",
    "end = time.time()\n",
    "print(end - start)"
   ]
  },
  {
   "cell_type": "markdown",
   "metadata": {
    "slideshow": {
     "slide_type": "slide"
    }
   },
   "source": [
    "### 2D to 1D"
   ]
  },
  {
   "cell_type": "code",
   "execution_count": null,
   "metadata": {
    "slideshow": {
     "slide_type": "-"
    }
   },
   "outputs": [],
   "source": [
    "data_flat = {}\n",
    "\n",
    "for chrNo in data.keys():\n",
    "    data_flat[chrNo] = []\n",
    "    for case in data[chrNo]:\n",
    "        case_flat = []\n",
    "        for row in case:\n",
    "            for column in row:\n",
    "                case_flat.append(column)            \n",
    "        data_flat[chrNo].append(case_flat)"
   ]
  },
  {
   "cell_type": "code",
   "execution_count": null,
   "metadata": {
    "slideshow": {
     "slide_type": "-"
    }
   },
   "outputs": [],
   "source": [
    "x_test_list = []\n",
    "y_test_list = []\n",
    "\n",
    "for y, x in data_flat.items():    \n",
    "    for x_item in x:\n",
    "        x_test_list.append(x_item)\n",
    "        y_test_list.append(y)"
   ]
  },
  {
   "cell_type": "code",
   "execution_count": null,
   "metadata": {
    "slideshow": {
     "slide_type": "slide"
    }
   },
   "outputs": [],
   "source": [
    "X_test = np.array(x_test_list)\n",
    "y_test = np.array(y_test_list)"
   ]
  },
  {
   "cell_type": "markdown",
   "metadata": {
    "slideshow": {
     "slide_type": "slide"
    }
   },
   "source": [
    "## Performance Measures"
   ]
  },
  {
   "cell_type": "code",
   "execution_count": null,
   "metadata": {
    "slideshow": {
     "slide_type": "-"
    }
   },
   "outputs": [],
   "source": [
    "y_predict = clf.predict(X_test)\n",
    "y_test = y_test"
   ]
  },
  {
   "cell_type": "code",
   "execution_count": null,
   "metadata": {
    "scrolled": true,
    "slideshow": {
     "slide_type": "slide"
    }
   },
   "outputs": [],
   "source": [
    "y_predict"
   ]
  },
  {
   "cell_type": "code",
   "execution_count": null,
   "metadata": {
    "slideshow": {
     "slide_type": "slide"
    }
   },
   "outputs": [],
   "source": [
    "y_test"
   ]
  },
  {
   "cell_type": "markdown",
   "metadata": {
    "slideshow": {
     "slide_type": "slide"
    }
   },
   "source": [
    "### Confusion Matrix (混淆矩阵)"
   ]
  },
  {
   "cell_type": "code",
   "execution_count": null,
   "metadata": {
    "scrolled": true,
    "slideshow": {
     "slide_type": "-"
    }
   },
   "outputs": [],
   "source": [
    "cm = np.array(confusion_matrix(y_test, y_predict, labels=['chr_01', 'chr_02', 'chr_03', 'chr_04', 'chr_05', \n",
    "                                    'chr_06', 'chr_07', 'chr_08', 'chr_09', 'chr_10', \n",
    "                                    'chr_11', 'chr_12', 'chr_13', 'chr_14', 'chr_15', \n",
    "                                    'chr_16', 'chr_17', 'chr_18', 'chr_19', 'chr_20', \n",
    "                                    'chr_21', 'chr_22', 'chr_x', 'chr_y' ]))\n",
    "confusion = pd.DataFrame(cm, index=['chr_01', 'chr_02', 'chr_03', 'chr_04', 'chr_05', \n",
    "                                    'chr_06', 'chr_07', 'chr_08', 'chr_09', 'chr_10', \n",
    "                                    'chr_11', 'chr_12', 'chr_13', 'chr_14', 'chr_15', \n",
    "                                    'chr_16', 'chr_17', 'chr_18', 'chr_19', 'chr_20', \n",
    "                                    'chr_21', 'chr_22', 'chr_x', 'chr_y' ],\n",
    "                        columns=['Predictive chr_01', 'Predictive chr_02', 'Predictive chr_03', 'Predictive chr_04', 'Predictive chr_05', \n",
    "                                    'Predictive chr_06', 'Predictive chr_07', 'Predictive chr_08', 'Predictive chr_09', 'Predictive chr_10', \n",
    "                                    'Predictive chr_11', 'Predictive chr_12', 'Predictive chr_13', 'Predictive chr_14', 'Predictive chr_15', \n",
    "                                    'Predictive chr_16', 'Predictive chr_17', 'Predictive chr_18', 'Predictive chr_19', 'Predictive chr_20', \n",
    "                                    'Predictive chr_21', 'Predictive chr_22', 'Predictive chr_x', 'Predictive chr_y' ],)\n",
    "confusion"
   ]
  },
  {
   "cell_type": "code",
   "execution_count": null,
   "metadata": {
    "slideshow": {
     "slide_type": "slide"
    }
   },
   "outputs": [],
   "source": [
    "print(classification_report(y_test, y_predict))"
   ]
  },
  {
   "cell_type": "markdown",
   "metadata": {
    "slideshow": {
     "slide_type": "slide"
    }
   },
   "source": [
    "## Save the Model"
   ]
  },
  {
   "cell_type": "code",
   "execution_count": null,
   "metadata": {
    "slideshow": {
     "slide_type": "-"
    }
   },
   "outputs": [],
   "source": [
    "c = joblib.dump(clf, 'trained_model.m')\n",
    "print(c)"
   ]
  },
  {
   "cell_type": "markdown",
   "metadata": {
    "slideshow": {
     "slide_type": "slide"
    }
   },
   "source": [
    "## Load the Model"
   ]
  },
  {
   "cell_type": "code",
   "execution_count": null,
   "metadata": {
    "slideshow": {
     "slide_type": "-"
    }
   },
   "outputs": [],
   "source": [
    "d = joblib.load('trained_model.m')\n",
    "print(d)"
   ]
  }
 ],
 "metadata": {
  "celltoolbar": "Slideshow",
  "kernelspec": {
   "display_name": "Python 3",
   "language": "python",
   "name": "python3"
  },
  "language_info": {
   "codemirror_mode": {
    "name": "ipython",
    "version": 3
   },
   "file_extension": ".py",
   "mimetype": "text/x-python",
   "name": "python",
   "nbconvert_exporter": "python",
   "pygments_lexer": "ipython3",
   "version": "3.7.0"
  }
 },
 "nbformat": 4,
 "nbformat_minor": 2
}
