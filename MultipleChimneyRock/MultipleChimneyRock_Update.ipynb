{
 "cells": [
  {
   "cell_type": "markdown",
   "metadata": {
    "slideshow": {
     "slide_type": "slide"
    }
   },
   "source": [
    "## Modules"
   ]
  },
  {
   "cell_type": "code",
   "execution_count": 1,
   "metadata": {
    "slideshow": {
     "slide_type": "-"
    }
   },
   "outputs": [],
   "source": [
    "from PIL import Image\n",
    "import numpy as np\n",
    "import pandas as pd\n",
    "import matplotlib.pyplot as plt\n",
    "\n",
    "\n",
    "from sklearn import svm\n",
    "from sklearn.metrics import classification_report, confusion_matrix\n",
    "from sklearn.externals import joblib\n",
    "from os import walk\n",
    "\n",
    "%matplotlib inline"
   ]
  },
  {
   "cell_type": "markdown",
   "metadata": {
    "slideshow": {
     "slide_type": "slide"
    }
   },
   "source": [
    "## Samples\n",
    "### Assignments of amounts"
   ]
  },
  {
   "cell_type": "code",
   "execution_count": 2,
   "metadata": {
    "slideshow": {
     "slide_type": "-"
    }
   },
   "outputs": [],
   "source": []
  },
  {
   "cell_type": "markdown",
   "metadata": {},
   "source": [
    "## File Import"
   ]
  },
  {
   "cell_type": "code",
   "execution_count": 3,
   "metadata": {},
   "outputs": [],
   "source": [
    "f_01 = []\n",
    "mypath_01 = 'C:\\\\Users\\\\Chuan\\\\OneDrive\\\\Dowrun\\\\Database\\\\PhD\\\\KaryoTypes\\\\Arrangement\\\\chr_01'\n",
    "for (dirpath, dirnames, filenames) in walk(mypath_01):\n",
    "    f_01.extend(filenames)\n",
    "    break\n",
    "\n",
    "f_02 = []\n",
    "mypath_02 = 'C:\\\\Users\\\\Chuan\\\\OneDrive\\\\Dowrun\\\\Database\\\\PhD\\\\KaryoTypes\\\\Arrangement\\\\chr_02'\n",
    "for (dirpath, dirnames, filenames) in walk(mypath_02):\n",
    "    f_02.extend(filenames)\n",
    "    break\n",
    "\n",
    "f_03 = []\n",
    "mypath_03 = 'C:\\\\Users\\\\Chuan\\\\OneDrive\\\\Dowrun\\\\Database\\\\PhD\\\\KaryoTypes\\\\Arrangement\\\\chr_03'\n",
    "for (dirpath, dirnames, filenames) in walk(mypath_03):\n",
    "    f_03.extend(filenames)\n",
    "    break\n",
    "\n",
    "f_04 = []\n",
    "mypath_04 = 'C:\\\\Users\\\\Chuan\\\\OneDrive\\\\Dowrun\\\\Database\\\\PhD\\\\KaryoTypes\\\\Arrangement\\\\chr_04'\n",
    "for (dirpath, dirnames, filenames) in walk(mypath_04):\n",
    "    f_04.extend(filenames)\n",
    "    break\n",
    "\n",
    "f_05 = []\n",
    "mypath_05 = 'C:\\\\Users\\\\Chuan\\\\OneDrive\\\\Dowrun\\\\Database\\\\PhD\\\\KaryoTypes\\\\Arrangement\\\\chr_05'\n",
    "for (dirpath, dirnames, filenames) in walk(mypath_05):\n",
    "    f_05.extend(filenames)\n",
    "    break\n",
    "\n",
    "f_06 = []\n",
    "mypath_06 = 'C:\\\\Users\\\\Chuan\\\\OneDrive\\\\Dowrun\\\\Database\\\\PhD\\\\KaryoTypes\\\\Arrangement\\\\chr_06'\n",
    "for (dirpath, dirnames, filenames) in walk(mypath_06):\n",
    "    f_06.extend(filenames)\n",
    "    break\n",
    "\n",
    "f_07 = []\n",
    "mypath_07 = 'C:\\\\Users\\\\Chuan\\\\OneDrive\\\\Dowrun\\\\Database\\\\PhD\\\\KaryoTypes\\\\Arrangement\\\\chr_07'\n",
    "for (dirpath, dirnames, filenames) in walk(mypath_07):\n",
    "    f_07.extend(filenames)\n",
    "    break\n",
    "\n",
    "f_08 = []\n",
    "mypath_08 = 'C:\\\\Users\\\\Chuan\\\\OneDrive\\\\Dowrun\\\\Database\\\\PhD\\\\KaryoTypes\\\\Arrangement\\\\chr_08'\n",
    "for (dirpath, dirnames, filenames) in walk(mypath_08):\n",
    "    f_08.extend(filenames)\n",
    "    break\n",
    "    \n",
    "f_09 = []\n",
    "mypath_09 = 'C:\\\\Users\\\\Chuan\\\\OneDrive\\\\Dowrun\\\\Database\\\\PhD\\\\KaryoTypes\\\\Arrangement\\\\chr_09'\n",
    "for (dirpath, dirnames, filenames) in walk(mypath_09):\n",
    "    f_09.extend(filenames)\n",
    "    break\n",
    "    \n",
    "f_10 = []\n",
    "mypath_10 = 'C:\\\\Users\\\\Chuan\\\\OneDrive\\\\Dowrun\\\\Database\\\\PhD\\\\KaryoTypes\\\\Arrangement\\\\chr_10'\n",
    "for (dirpath, dirnames, filenames) in walk(mypath_10):\n",
    "    f_10.extend(filenames)\n",
    "    break\n",
    "    \n",
    "f_11 = []\n",
    "mypath_11 = 'C:\\\\Users\\\\Chuan\\\\OneDrive\\\\Dowrun\\\\Database\\\\PhD\\\\KaryoTypes\\\\Arrangement\\\\chr_11'\n",
    "for (dirpath, dirnames, filenames) in walk(mypath_11):\n",
    "    f_11.extend(filenames)\n",
    "    break\n",
    "    \n",
    "f_12 = []\n",
    "mypath_12 = 'C:\\\\Users\\\\Chuan\\\\OneDrive\\\\Dowrun\\\\Database\\\\PhD\\\\KaryoTypes\\\\Arrangement\\\\chr_12'\n",
    "for (dirpath, dirnames, filenames) in walk(mypath_12):\n",
    "    f_12.extend(filenames)\n",
    "    break\n",
    "    \n",
    "f_13 = []\n",
    "mypath_13 = 'C:\\\\Users\\\\Chuan\\\\OneDrive\\\\Dowrun\\\\Database\\\\PhD\\\\KaryoTypes\\\\Arrangement\\\\chr_13'\n",
    "for (dirpath, dirnames, filenames) in walk(mypath_13):\n",
    "    f_13.extend(filenames)\n",
    "    break\n",
    "    \n",
    "f_14 = []\n",
    "mypath_14 = 'C:\\\\Users\\\\Chuan\\\\OneDrive\\\\Dowrun\\\\Database\\\\PhD\\\\KaryoTypes\\\\Arrangement\\\\chr_14'\n",
    "for (dirpath, dirnames, filenames) in walk(mypath_14):\n",
    "    f_14.extend(filenames)\n",
    "    break\n",
    "    \n",
    "f_15 = []\n",
    "mypath_15 = 'C:\\\\Users\\\\Chuan\\\\OneDrive\\\\Dowrun\\\\Database\\\\PhD\\\\KaryoTypes\\\\Arrangement\\\\chr_15'\n",
    "for (dirpath, dirnames, filenames) in walk(mypath_15):\n",
    "    f_15.extend(filenames)\n",
    "    break\n",
    "    \n",
    "f_16 = []\n",
    "mypath_16 = 'C:\\\\Users\\\\Chuan\\\\OneDrive\\\\Dowrun\\\\Database\\\\PhD\\\\KaryoTypes\\\\Arrangement\\\\chr_16'\n",
    "for (dirpath, dirnames, filenames) in walk(mypath_16):\n",
    "    f_16.extend(filenames)\n",
    "    break\n",
    "    \n",
    "f_17 = []\n",
    "mypath_17 = 'C:\\\\Users\\\\Chuan\\\\OneDrive\\\\Dowrun\\\\Database\\\\PhD\\\\KaryoTypes\\\\Arrangement\\\\chr_17'\n",
    "for (dirpath, dirnames, filenames) in walk(mypath_17):\n",
    "    f_17.extend(filenames)\n",
    "    break\n",
    "    \n",
    "f_18 = []\n",
    "mypath_18 = 'C:\\\\Users\\\\Chuan\\\\OneDrive\\\\Dowrun\\\\Database\\\\PhD\\\\KaryoTypes\\\\Arrangement\\\\chr_18'\n",
    "for (dirpath, dirnames, filenames) in walk(mypath_18):\n",
    "    f_18.extend(filenames)\n",
    "    break\n",
    "    \n",
    "f_19 = []\n",
    "mypath_19 = 'C:\\\\Users\\\\Chuan\\\\OneDrive\\\\Dowrun\\\\Database\\\\PhD\\\\KaryoTypes\\\\Arrangement\\\\chr_19'\n",
    "for (dirpath, dirnames, filenames) in walk(mypath_19):\n",
    "    f_19.extend(filenames)\n",
    "    break\n",
    "    \n",
    "f_20 = []\n",
    "mypath_20 = 'C:\\\\Users\\\\Chuan\\\\OneDrive\\\\Dowrun\\\\Database\\\\PhD\\\\KaryoTypes\\\\Arrangement\\\\chr_20'\n",
    "for (dirpath, dirnames, filenames) in walk(mypath_20):\n",
    "    f_20.extend(filenames)\n",
    "    break\n",
    "    \n",
    "f_21 = []\n",
    "mypath_21 = 'C:\\\\Users\\\\Chuan\\\\OneDrive\\\\Dowrun\\\\Database\\\\PhD\\\\KaryoTypes\\\\Arrangement\\\\chr_21'\n",
    "for (dirpath, dirnames, filenames) in walk(mypath_21):\n",
    "    f_21.extend(filenames)\n",
    "    break\n",
    "    \n",
    "f_22 = []\n",
    "mypath_22 = 'C:\\\\Users\\\\Chuan\\\\OneDrive\\\\Dowrun\\\\Database\\\\PhD\\\\KaryoTypes\\\\Arrangement\\\\chr_22'\n",
    "for (dirpath, dirnames, filenames) in walk(mypath_22):\n",
    "    f_22.extend(filenames)\n",
    "    break\n",
    "    \n",
    "f_x = []\n",
    "mypath_x = 'C:\\\\Users\\\\Chuan\\\\OneDrive\\\\Dowrun\\\\Database\\\\PhD\\\\KaryoTypes\\\\Arrangement\\\\chr_x'\n",
    "for (dirpath, dirnames, filenames) in walk(mypath_x):\n",
    "    f_x.extend(filenames)\n",
    "    break\n",
    "    \n",
    "f_y = []\n",
    "mypath_y = 'C:\\\\Users\\\\Chuan\\\\OneDrive\\\\Dowrun\\\\Database\\\\PhD\\\\KaryoTypes\\\\Arrangement\\\\chr_y'\n",
    "for (dirpath, dirnames, filenames) in walk(mypath_y):\n",
    "    f_y.extend(filenames)\n",
    "    break"
   ]
  },
  {
   "cell_type": "code",
   "execution_count": 4,
   "metadata": {},
   "outputs": [
    {
     "data": {
      "text/plain": [
       "<generator object walk at 0x0000028608FEDC78>"
      ]
     },
     "execution_count": 4,
     "metadata": {},
     "output_type": "execute_result"
    }
   ],
   "source": [
    "walk('C:\\\\Users\\\\Chuan\\\\OneDrive\\\\Dowrun\\\\Database\\\\PhD\\\\KaryoTypes\\\\Arrangement\\\\chr_01')"
   ]
  },
  {
   "cell_type": "code",
   "execution_count": 8,
   "metadata": {
    "scrolled": true
   },
   "outputs": [
    {
     "data": {
      "text/plain": [
       "['w21000~A.0001.K.jpg.10L.bmp',\n",
       " 'w21000~A.0001.K.jpg.10R.bmp',\n",
       " 'w21001~A.0008.K.jpg.10L.bmp',\n",
       " 'w21001~A.0008.K.jpg.10R.bmp',\n",
       " 'w21002~A.0024.K.jpg.10L.bmp',\n",
       " 'w21002~A.0024.K.jpg.10R.bmp',\n",
       " 'w21008~A.0008.K.jpg.10L.bmp',\n",
       " 'w21008~A.0008.K.jpg.10R.bmp',\n",
       " 'W21011~A.0008.K.10L.bmp',\n",
       " 'W21011~A.0008.K.10R.bmp',\n",
       " 'W21014~A.0005.K.10L.bmp',\n",
       " 'W21014~A.0005.K.10R.bmp']"
      ]
     },
     "execution_count": 8,
     "metadata": {},
     "output_type": "execute_result"
    }
   ],
   "source": [
    "f_10"
   ]
  },
  {
   "cell_type": "code",
   "execution_count": null,
   "metadata": {},
   "outputs": [],
   "source": [
    "chr_01 = []; chr_02 = []; chr_03 = []; chr_04 = []; chr_05 = [];\n",
    "chr_06 = []; chr_07 = []; chr_08 = []; chr_09 = []; chr_10 = [];\n",
    "chr_11 = []; chr_12 = []; chr_13 = []; chr_14 = []; chr_15 = []; \n",
    "chr_16 = []; chr_17 = []; chr_18 = []; chr_19 = []; chr_20 = [];\n",
    "chr_21 = []; chr_22 = []; \n",
    "chr_x = []; chr_y = [];\n",
    "\n",
    "img_chr = []\n",
    "\n",
    "num_chr_autosome = 20\n",
    "num_chr_sex = 20\n",
    "\n",
    "num_x = 20\n",
    "num_y = 20\n",
    "\n",
    "num_train = 14\n",
    "num_test = 6"
   ]
  },
  {
   "cell_type": "markdown",
   "metadata": {
    "slideshow": {
     "slide_type": "slide"
    }
   },
   "source": [
    "## Image Input"
   ]
  },
  {
   "cell_type": "code",
   "execution_count": 5,
   "metadata": {
    "slideshow": {
     "slide_type": "-"
    }
   },
   "outputs": [
    {
     "ename": "FileNotFoundError",
     "evalue": "[Errno 2] No such file or directory: 'chr/chr_0000.bmp'",
     "output_type": "error",
     "traceback": [
      "\u001b[1;31m---------------------------------------------------------------------------\u001b[0m",
      "\u001b[1;31mFileNotFoundError\u001b[0m                         Traceback (most recent call last)",
      "\u001b[1;32m<ipython-input-5-4b97bbeb717e>\u001b[0m in \u001b[0;36m<module>\u001b[1;34m\u001b[0m\n\u001b[0;32m      9\u001b[0m         \u001b[0mfilename\u001b[0m \u001b[1;33m=\u001b[0m \u001b[1;34m'chr/chr_0'\u001b[0m\u001b[1;33m+\u001b[0m\u001b[0mstr\u001b[0m\u001b[1;33m(\u001b[0m\u001b[0mi\u001b[0m\u001b[1;33m)\u001b[0m\u001b[1;33m+\u001b[0m\u001b[1;34m'.bmp'\u001b[0m\u001b[1;33m\u001b[0m\u001b[1;33m\u001b[0m\u001b[0m\n\u001b[0;32m     10\u001b[0m \u001b[1;33m\u001b[0m\u001b[0m\n\u001b[1;32m---> 11\u001b[1;33m     \u001b[0mimg\u001b[0m \u001b[1;33m=\u001b[0m \u001b[0mImage\u001b[0m\u001b[1;33m.\u001b[0m\u001b[0mopen\u001b[0m\u001b[1;33m(\u001b[0m\u001b[0mfilename\u001b[0m\u001b[1;33m)\u001b[0m\u001b[1;33m\u001b[0m\u001b[1;33m\u001b[0m\u001b[0m\n\u001b[0m\u001b[0;32m     12\u001b[0m     \u001b[0mimg_chr\u001b[0m\u001b[1;33m.\u001b[0m\u001b[0mappend\u001b[0m\u001b[1;33m(\u001b[0m\u001b[0mimg\u001b[0m\u001b[1;33m)\u001b[0m\u001b[1;33m\u001b[0m\u001b[1;33m\u001b[0m\u001b[0m\n",
      "\u001b[1;32mC:\\Anaconda3\\lib\\site-packages\\PIL\\Image.py\u001b[0m in \u001b[0;36mopen\u001b[1;34m(fp, mode)\u001b[0m\n\u001b[0;32m   2632\u001b[0m \u001b[1;33m\u001b[0m\u001b[0m\n\u001b[0;32m   2633\u001b[0m     \u001b[1;32mif\u001b[0m \u001b[0mfilename\u001b[0m\u001b[1;33m:\u001b[0m\u001b[1;33m\u001b[0m\u001b[1;33m\u001b[0m\u001b[0m\n\u001b[1;32m-> 2634\u001b[1;33m         \u001b[0mfp\u001b[0m \u001b[1;33m=\u001b[0m \u001b[0mbuiltins\u001b[0m\u001b[1;33m.\u001b[0m\u001b[0mopen\u001b[0m\u001b[1;33m(\u001b[0m\u001b[0mfilename\u001b[0m\u001b[1;33m,\u001b[0m \u001b[1;34m\"rb\"\u001b[0m\u001b[1;33m)\u001b[0m\u001b[1;33m\u001b[0m\u001b[1;33m\u001b[0m\u001b[0m\n\u001b[0m\u001b[0;32m   2635\u001b[0m         \u001b[0mexclusive_fp\u001b[0m \u001b[1;33m=\u001b[0m \u001b[1;32mTrue\u001b[0m\u001b[1;33m\u001b[0m\u001b[1;33m\u001b[0m\u001b[0m\n\u001b[0;32m   2636\u001b[0m \u001b[1;33m\u001b[0m\u001b[0m\n",
      "\u001b[1;31mFileNotFoundError\u001b[0m: [Errno 2] No such file or directory: 'chr/chr_0000.bmp'"
     ]
    }
   ],
   "source": [
    "for i in range(len(f_01):\n",
    "    filename = f_01[i]\n",
    "        \n",
    "    img = Image.open(filename)\n",
    "    img_chr_01.append(img)"
   ]
  },
  {
   "cell_type": "code",
   "execution_count": null,
   "metadata": {
    "scrolled": true
   },
   "outputs": [],
   "source": [
    "img_chr_01[3]"
   ]
  },
  {
   "cell_type": "markdown",
   "metadata": {},
   "source": [
    "## Functions"
   ]
  },
  {
   "cell_type": "code",
   "execution_count": null,
   "metadata": {},
   "outputs": [],
   "source": [
    "def extractData(image):\n",
    "    x = image.size[0]\n",
    "    y = image.size[1]\n",
    "    \n",
    "    matrix = []\n",
    "    rgb_matrix = []\n",
    "\n",
    "    for i in range(x):\n",
    "        matrix.append([])\n",
    "        rgb_matrix.append([])\n",
    "        \n",
    "        for j in range(y):\n",
    "            r, g, b = image.getpixel((j, i))            \n",
    "            value = r * 299.0/1000 + g * 587.0/1000 + b * 114.0/1000\n",
    "            value = int(value)\n",
    "            matrix[i].append(value)\n",
    "            rgb_matrix[i].append((r,g,b))\n",
    "    return matrix, rgb_matrix"
   ]
  },
  {
   "cell_type": "code",
   "execution_count": null,
   "metadata": {},
   "outputs": [],
   "source": [
    "def imageReconstruct(matrix):\n",
    "    df = np.array(matrix, dtype=np.uint8)\n",
    "    img = Image.fromarray(df, 'RGB')\n",
    "    img.save('image.png')\n",
    "    return img"
   ]
  },
  {
   "cell_type": "markdown",
   "metadata": {},
   "source": [
    "## Data Extraction from Images"
   ]
  },
  {
   "cell_type": "code",
   "execution_count": null,
   "metadata": {},
   "outputs": [],
   "source": [
    "\n",
    "data_chr_01 = []\n",
    "\n",
    "rgb_data_chr_01 = []\n",
    "\n",
    "for item_chr in img_chr_01:\n",
    "    grey, rgb = extractData(item_chr)\n",
    "    data_chr_01.append(grey)\n",
    "    rgb_data_chr_01.append(rgb)"
   ]
  },
  {
   "cell_type": "code",
   "execution_count": null,
   "metadata": {},
   "outputs": [],
   "source": [
    "imageMatrix = np.array(rgb_data_chr[0])"
   ]
  },
  {
   "cell_type": "code",
   "execution_count": null,
   "metadata": {},
   "outputs": [],
   "source": [
    "img = imageReconstruct(imageMatrix)\n",
    "img"
   ]
  },
  {
   "cell_type": "markdown",
   "metadata": {},
   "source": [
    "## Flat Transformation from 2D to 1D"
   ]
  },
  {
   "cell_type": "code",
   "execution_count": null,
   "metadata": {},
   "outputs": [],
   "source": [
    "data_chr_flat = []\n",
    "\n",
    "for item_chr in data_chr: \n",
    "    case_flat = []\n",
    "    for row in item_chr:\n",
    "        for column in row:\n",
    "            case_flat.append(column)            \n",
    "    data_chr_flat.append(case_flat)"
   ]
  },
  {
   "cell_type": "markdown",
   "metadata": {},
   "source": [
    "## Support Vector Classification"
   ]
  },
  {
   "cell_type": "code",
   "execution_count": null,
   "metadata": {
    "scrolled": true
   },
   "outputs": [],
   "source": [
    "c = []\n",
    "for i in range(22):\n",
    "    c += ['chr '+ str(i+1)] * num_chr_autosome\n",
    "c += ['chr x'] * num_x\n",
    "c += ['chr y'] * num_y\n",
    "c"
   ]
  },
  {
   "cell_type": "markdown",
   "metadata": {},
   "source": [
    "### Training"
   ]
  },
  {
   "cell_type": "code",
   "execution_count": null,
   "metadata": {
    "scrolled": true
   },
   "outputs": [],
   "source": [
    "X_train = np.array(data_chr_flat[:num_train])\n",
    "y_train = np.array(c)\n",
    "\n",
    "clf = svm.SVC(kernel='linear', decision_function_shape='ovo')\n",
    "clf.fit(X_train, y_train)"
   ]
  },
  {
   "cell_type": "markdown",
   "metadata": {},
   "source": [
    "### Prediction"
   ]
  },
  {
   "cell_type": "code",
   "execution_count": null,
   "metadata": {
    "scrolled": true
   },
   "outputs": [],
   "source": [
    "print('w = ',clf.coef_)\n",
    "print('b = ',clf.intercept_)\n",
    "print('Indices of support vectors = ', clf.support_)\n",
    "print('Support vectors = ', clf.support_vectors_)\n",
    "print('Number of support vectors for each class = ', clf.n_support_)\n",
    "print('Coefficients of the support vector in the decision function = ', np.abs(clf.dual_coef_))"
   ]
  },
  {
   "cell_type": "code",
   "execution_count": null,
   "metadata": {},
   "outputs": [],
   "source": [
    "clf.predict(data_lao_flat[-num_test:] + data_rao_flat[-num_test:])"
   ]
  },
  {
   "cell_type": "markdown",
   "metadata": {},
   "source": [
    "## Performance Measures"
   ]
  },
  {
   "cell_type": "code",
   "execution_count": null,
   "metadata": {},
   "outputs": [],
   "source": [
    "y_predict = clf.predict(data_lao_flat[-num_test:] + data_rao_flat[-num_test:])"
   ]
  },
  {
   "cell_type": "code",
   "execution_count": null,
   "metadata": {},
   "outputs": [],
   "source": [
    "y_test = [1] * num_test + [2] * num_test"
   ]
  },
  {
   "cell_type": "code",
   "execution_count": null,
   "metadata": {},
   "outputs": [],
   "source": [
    "y_predict"
   ]
  },
  {
   "cell_type": "markdown",
   "metadata": {},
   "source": [
    "### Confusion Matrix (混淆矩阵)"
   ]
  },
  {
   "cell_type": "code",
   "execution_count": null,
   "metadata": {},
   "outputs": [],
   "source": [
    "cm = np.array(confusion_matrix(y_test, y_predict, labels=[1,2]))\n",
    "confusion = pd.DataFrame(cm, index=['LCA', 'RCA'],\n",
    "                        columns=['Predictive LCA,', 'Predictive RCA'])\n",
    "confusion"
   ]
  },
  {
   "cell_type": "code",
   "execution_count": null,
   "metadata": {},
   "outputs": [],
   "source": [
    "print(classification_report(y_test, y_predict))"
   ]
  },
  {
   "cell_type": "markdown",
   "metadata": {},
   "source": [
    "## Save the Model"
   ]
  },
  {
   "cell_type": "code",
   "execution_count": null,
   "metadata": {},
   "outputs": [],
   "source": [
    "c = joblib.dump(clf, 'trained_model.m')\n",
    "print(c)"
   ]
  },
  {
   "cell_type": "markdown",
   "metadata": {},
   "source": [
    "## Load the Model"
   ]
  },
  {
   "cell_type": "code",
   "execution_count": null,
   "metadata": {},
   "outputs": [],
   "source": [
    "d = joblib.load('trained_model.m')\n",
    "print(d)"
   ]
  },
  {
   "cell_type": "code",
   "execution_count": null,
   "metadata": {},
   "outputs": [],
   "source": [
    "img_weird = []\n",
    "filenames = ['CAG/p0088l.bmp', 'CAG/p0088r.bmp', 'CAG/p0066l.bmp']\n",
    "for filename in filenames:\n",
    "    img = Image.open(filename)\n",
    "    img_weird.append(img)\n",
    "    \n",
    "data_weird = []\n",
    "rgb_data_weird = []\n",
    "\n",
    "for case_weird in img_weird:\n",
    "    grey, rgb = extractData(case_weird)\n",
    "    data_weird.append(grey)\n",
    "    rgb_data_weird.append(rgb)\n",
    "    \n",
    "data_weird_flat = []\n",
    "\n",
    "for case_weird in data_weird:    \n",
    "    #data_case = extractData(case_rao)\n",
    "    case_flat = []\n",
    "    for row in case_weird:\n",
    "        for column in row:\n",
    "            case_flat.append(column)            \n",
    "    data_weird_flat.append(case_flat)\n"
   ]
  },
  {
   "cell_type": "code",
   "execution_count": null,
   "metadata": {},
   "outputs": [],
   "source": [
    "d.predict(data_weird_flat)"
   ]
  },
  {
   "cell_type": "code",
   "execution_count": null,
   "metadata": {},
   "outputs": [],
   "source": [
    "img = imageReconstruct(np.array(rgb_data_weird[1]))\n",
    "img"
   ]
  }
 ],
 "metadata": {
  "celltoolbar": "Slideshow",
  "kernelspec": {
   "display_name": "Python 3",
   "language": "python",
   "name": "python3"
  },
  "language_info": {
   "codemirror_mode": {
    "name": "ipython",
    "version": 3
   },
   "file_extension": ".py",
   "mimetype": "text/x-python",
   "name": "python",
   "nbconvert_exporter": "python",
   "pygments_lexer": "ipython3",
   "version": "3.7.3"
  }
 },
 "nbformat": 4,
 "nbformat_minor": 2
}
