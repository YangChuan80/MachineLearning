{
 "cells": [
  {
   "cell_type": "markdown",
   "metadata": {
    "slideshow": {
     "slide_type": "slide"
    }
   },
   "source": [
    "# A Prediction of Cardiac Imaging based on Support Vector Machine Algorithm"
   ]
  },
  {
   "cell_type": "markdown",
   "metadata": {
    "slideshow": {
     "slide_type": "-"
    }
   },
   "source": [
    "- **Chuan Yang**, MD, PhD Student\n",
    "- Mentor: **Yanyan Zhao**, MD, PhD\n",
    "- Shengjing Hospital of China Medical University"
   ]
  },
  {
   "cell_type": "markdown",
   "metadata": {
    "slideshow": {
     "slide_type": "slide"
    }
   },
   "source": [
    "## Modules"
   ]
  },
  {
   "cell_type": "code",
   "execution_count": 1,
   "metadata": {
    "slideshow": {
     "slide_type": "-"
    }
   },
   "outputs": [],
   "source": [
    "from PIL import Image\n",
    "import numpy as np\n",
    "import pandas as pd\n",
    "import matplotlib.pyplot as plt\n",
    "\n",
    "\n",
    "from sklearn import svm\n",
    "from sklearn.metrics import classification_report, confusion_matrix\n",
    "from sklearn.externals import joblib\n",
    "from os import walk\n",
    "\n",
    "import time\n",
    "\n",
    "%matplotlib inline"
   ]
  },
  {
   "cell_type": "markdown",
   "metadata": {
    "slideshow": {
     "slide_type": "slide"
    }
   },
   "source": [
    "## Samples\n",
    "### File Import"
   ]
  },
  {
   "cell_type": "code",
   "execution_count": 2,
   "metadata": {
    "slideshow": {
     "slide_type": "-"
    }
   },
   "outputs": [],
   "source": [
    "pathBase = 'C:\\\\Users\\\\Chuan\\\\OneDrive\\\\Dowrun\\\\Database\\\\PhD\\\\KaryoTypes\\\\Arrangement\\\\'\n",
    "theWhole = {}\n",
    "\n",
    "f = []\n",
    "f_01 = []\n",
    "mypath_01 = pathBase + 'chr_01'\n",
    "for (dirpath, dirnames, filenames) in walk(mypath_01):\n",
    "    f.extend(filenames)\n",
    "for l in f:\n",
    "    f_01.append(mypath_01 + '\\\\' + l) \n",
    "        \n",
    "f = []\n",
    "f_02 = []\n",
    "mypath_02 = pathBase + 'chr_02'\n",
    "for (dirpath, dirnames, filenames) in walk(mypath_02):\n",
    "    f.extend(filenames)\n",
    "for l in f:\n",
    "    f_02.append(mypath_02 + '\\\\' + l)    \n",
    "        \n",
    "f = []\n",
    "f_03 = []\n",
    "mypath_03 = pathBase + 'chr_03'\n",
    "for (dirpath, dirnames, filenames) in walk(mypath_03):\n",
    "    f.extend(filenames)\n",
    "for l in f:\n",
    "    f_03.append(mypath_03 + '\\\\' + l)    \n",
    "        \n",
    "f = []\n",
    "f_04 = []\n",
    "mypath_04 = pathBase + 'chr_04'\n",
    "for (dirpath, dirnames, filenames) in walk(mypath_04):\n",
    "    f.extend(filenames)\n",
    "for l in f:\n",
    "    f_04.append(mypath_04 + '\\\\' + l)    \n",
    "        \n",
    "f = []\n",
    "f_05 = []\n",
    "mypath_05 = pathBase + 'chr_05'\n",
    "for (dirpath, dirnames, filenames) in walk(mypath_05):\n",
    "    f.extend(filenames)\n",
    "for l in f:\n",
    "    f_05.append(mypath_05 + '\\\\' + l)    \n",
    "        \n",
    "f = []\n",
    "f_06 = []\n",
    "mypath_06 = pathBase + 'chr_06'\n",
    "for (dirpath, dirnames, filenames) in walk(mypath_06):\n",
    "    f.extend(filenames)\n",
    "for l in f:\n",
    "    f_06.append(mypath_06 + '\\\\' + l)    \n",
    "    \n",
    "f = []\n",
    "f_07 = []\n",
    "mypath_07 = pathBase + 'chr_07'\n",
    "for (dirpath, dirnames, filenames) in walk(mypath_07):\n",
    "    f.extend(filenames)\n",
    "for l in f:\n",
    "    f_07.append(mypath_07 + '\\\\' + l)    \n",
    "        \n",
    "f = []\n",
    "f_08 = []\n",
    "mypath_08 = pathBase + 'chr_08'\n",
    "for (dirpath, dirnames, filenames) in walk(mypath_08):\n",
    "    f.extend(filenames)\n",
    "for l in f:\n",
    "    f_08.append(mypath_08 + '\\\\' + l)    \n",
    "        \n",
    "f = []\n",
    "f_09 = []\n",
    "mypath_09 = pathBase + 'chr_09'\n",
    "for (dirpath, dirnames, filenames) in walk(mypath_09):\n",
    "    f.extend(filenames)\n",
    "for l in f:\n",
    "    f_09.append(mypath_09 + '\\\\' + l)    \n",
    "    \n",
    "f = []\n",
    "f_10 = []\n",
    "mypath_10 = pathBase + 'chr_10'\n",
    "for (dirpath, dirnames, filenames) in walk(mypath_10):\n",
    "    f.extend(filenames)\n",
    "for l in f:\n",
    "    f_10.append(mypath_10 + '\\\\' + l)    \n",
    "    \n",
    "f = []\n",
    "f_11 = []\n",
    "mypath_11 = pathBase + 'chr_11'\n",
    "for (dirpath, dirnames, filenames) in walk(mypath_11):\n",
    "    f.extend(filenames)\n",
    "for l in f:\n",
    "    f_11.append(mypath_11 + '\\\\' + l)    \n",
    "    \n",
    "    \n",
    "f = []\n",
    "f_12 = []\n",
    "mypath_12 = pathBase + 'chr_12'\n",
    "for (dirpath, dirnames, filenames) in walk(mypath_12):\n",
    "    f.extend(filenames)\n",
    "for l in f:\n",
    "    f_12.append(mypath_12 + '\\\\' + l)    \n",
    "    \n",
    "    \n",
    "f = []\n",
    "f_13 = []\n",
    "mypath_13 = pathBase + 'chr_13'\n",
    "for (dirpath, dirnames, filenames) in walk(mypath_13):\n",
    "    f.extend(filenames)\n",
    "for l in f:\n",
    "    f_13.append(mypath_13 + '\\\\' + l)    \n",
    "    \n",
    "    \n",
    "f = []\n",
    "f_14 = []\n",
    "mypath_14 = pathBase + 'chr_14'\n",
    "for (dirpath, dirnames, filenames) in walk(mypath_14):\n",
    "    f.extend(filenames)\n",
    "for l in f:\n",
    "    f_14.append(mypath_14 + '\\\\' + l)    \n",
    "    \n",
    "\n",
    "    \n",
    "f = []\n",
    "f_15 = []\n",
    "mypath_15 = pathBase + 'chr_15'\n",
    "for (dirpath, dirnames, filenames) in walk(mypath_15):\n",
    "    f.extend(filenames)\n",
    "for l in f:\n",
    "    f_15.append(mypath_15 + '\\\\' + l)    \n",
    "    \n",
    "        \n",
    "f = []\n",
    "f_16 = []\n",
    "mypath_16 = pathBase + 'chr_16'\n",
    "for (dirpath, dirnames, filenames) in walk(mypath_16):\n",
    "    f.extend(filenames)\n",
    "for l in f:\n",
    "    f_16.append(mypath_16 + '\\\\' + l)    \n",
    "    \n",
    "        \n",
    "f = []\n",
    "f_17 = []\n",
    "mypath_17 = pathBase + 'chr_17'\n",
    "for (dirpath, dirnames, filenames) in walk(mypath_17):\n",
    "    f.extend(filenames)\n",
    "for l in f:\n",
    "    f_17.append(mypath_17 + '\\\\' + l)    \n",
    "    \n",
    "        \n",
    "f = []\n",
    "f_18 = []\n",
    "mypath_18 = pathBase + 'chr_18'\n",
    "for (dirpath, dirnames, filenames) in walk(mypath_18):\n",
    "    f.extend(filenames)\n",
    "for l in f:\n",
    "    f_18.append(mypath_18 + '\\\\' + l)    \n",
    "    \n",
    "        \n",
    "f = []\n",
    "f_19 = []\n",
    "mypath_19 = pathBase + 'chr_19'\n",
    "for (dirpath, dirnames, filenames) in walk(mypath_19):\n",
    "    f.extend(filenames)\n",
    "for l in f:\n",
    "    f_19.append(mypath_19 + '\\\\' + l)    \n",
    "    \n",
    "        \n",
    "f = []\n",
    "f_20 = []\n",
    "mypath_20 = pathBase + 'chr_20'\n",
    "for (dirpath, dirnames, filenames) in walk(mypath_20):\n",
    "    f.extend(filenames)\n",
    "for l in f:\n",
    "    f_20.append(mypath_20 + '\\\\' + l)    \n",
    "   \n",
    "        \n",
    "f = []\n",
    "f_21 = []\n",
    "mypath_21 = pathBase + 'chr_21'\n",
    "for (dirpath, dirnames, filenames) in walk(mypath_21):\n",
    "    f.extend(filenames)\n",
    "for l in f:\n",
    "    f_21.append(mypath_21 + '\\\\' + l)    \n",
    "   \n",
    "        \n",
    "f = []\n",
    "f_22 = []\n",
    "mypath_22 = pathBase + 'chr_22'\n",
    "for (dirpath, dirnames, filenames) in walk(mypath_22):\n",
    "    f.extend(filenames)\n",
    "for l in f:\n",
    "    f_22.append(mypath_22 + '\\\\' + l)    \n",
    "   \n",
    "f = []\n",
    "f_x = []\n",
    "mypath_x = pathBase + 'chr_x'\n",
    "for (dirpath, dirnames, filenames) in walk(mypath_x):\n",
    "    f.extend(filenames)\n",
    "for l in f:\n",
    "    f_x.append(mypath_x + '\\\\' + l)    \n",
    "   \n",
    "f = []\n",
    "f_y = []\n",
    "mypath_y = pathBase + 'chr_y'\n",
    "for (dirpath, dirnames, filenames) in walk(mypath_y):\n",
    "    f.extend(filenames)\n",
    "for l in f:\n",
    "    f_y.append(mypath_y + '\\\\' + l)  \n",
    "    \n",
    "theWhole['chr_01'] = f_01\n",
    "theWhole['chr_02'] = f_02\n",
    "theWhole['chr_03'] = f_03\n",
    "theWhole['chr_04'] = f_04\n",
    "theWhole['chr_05'] = f_05\n",
    "theWhole['chr_06'] = f_06\n",
    "theWhole['chr_07'] = f_07\n",
    "theWhole['chr_08'] = f_08\n",
    "theWhole['chr_09'] = f_09\n",
    "theWhole['chr_10'] = f_10\n",
    "theWhole['chr_11'] = f_11\n",
    "theWhole['chr_12'] = f_12\n",
    "theWhole['chr_13'] = f_13\n",
    "theWhole['chr_14'] = f_14\n",
    "theWhole['chr_15'] = f_15\n",
    "theWhole['chr_16'] = f_16\n",
    "theWhole['chr_17'] = f_17\n",
    "theWhole['chr_18'] = f_18\n",
    "theWhole['chr_19'] = f_19\n",
    "theWhole['chr_20'] = f_20\n",
    "theWhole['chr_21'] = f_21\n",
    "theWhole['chr_22'] = f_22\n",
    "theWhole['chr_x'] = f_x\n",
    "theWhole['chr_y'] = f_y"
   ]
  },
  {
   "cell_type": "code",
   "execution_count": 3,
   "metadata": {
    "slideshow": {
     "slide_type": "slide"
    }
   },
   "outputs": [
    {
     "data": {
      "text/plain": [
       "['C:\\\\Users\\\\Chuan\\\\OneDrive\\\\Dowrun\\\\Database\\\\PhD\\\\KaryoTypes\\\\Arrangement\\\\chr_05\\\\w21000~A.0001.K.jpg.5R.bmp',\n",
       " 'C:\\\\Users\\\\Chuan\\\\OneDrive\\\\Dowrun\\\\Database\\\\PhD\\\\KaryoTypes\\\\Arrangement\\\\chr_05\\\\w21000~A.0001.K.jpg5L.bmp',\n",
       " 'C:\\\\Users\\\\Chuan\\\\OneDrive\\\\Dowrun\\\\Database\\\\PhD\\\\KaryoTypes\\\\Arrangement\\\\chr_05\\\\w21001~A.0008.K.jpg.05L.bmp',\n",
       " 'C:\\\\Users\\\\Chuan\\\\OneDrive\\\\Dowrun\\\\Database\\\\PhD\\\\KaryoTypes\\\\Arrangement\\\\chr_05\\\\w21001~A.0008.K.jpg.05R.bmp',\n",
       " 'C:\\\\Users\\\\Chuan\\\\OneDrive\\\\Dowrun\\\\Database\\\\PhD\\\\KaryoTypes\\\\Arrangement\\\\chr_05\\\\w21002~A.0024.K.jpg.5L.bmp',\n",
       " 'C:\\\\Users\\\\Chuan\\\\OneDrive\\\\Dowrun\\\\Database\\\\PhD\\\\KaryoTypes\\\\Arrangement\\\\chr_05\\\\w21002~A.0024.K.jpg.5R.bmp',\n",
       " 'C:\\\\Users\\\\Chuan\\\\OneDrive\\\\Dowrun\\\\Database\\\\PhD\\\\KaryoTypes\\\\Arrangement\\\\chr_05\\\\w21008~A.0008.K.jpg.5L.bmp',\n",
       " 'C:\\\\Users\\\\Chuan\\\\OneDrive\\\\Dowrun\\\\Database\\\\PhD\\\\KaryoTypes\\\\Arrangement\\\\chr_05\\\\w21008~A.0008.K.jpg.5R.bmp',\n",
       " 'C:\\\\Users\\\\Chuan\\\\OneDrive\\\\Dowrun\\\\Database\\\\PhD\\\\KaryoTypes\\\\Arrangement\\\\chr_05\\\\W21011~A.0008.K.5L.bmp',\n",
       " 'C:\\\\Users\\\\Chuan\\\\OneDrive\\\\Dowrun\\\\Database\\\\PhD\\\\KaryoTypes\\\\Arrangement\\\\chr_05\\\\W21012~A.0019.K.5L.bmp',\n",
       " 'C:\\\\Users\\\\Chuan\\\\OneDrive\\\\Dowrun\\\\Database\\\\PhD\\\\KaryoTypes\\\\Arrangement\\\\chr_05\\\\W21012~A.0019.K.5R.bmp']"
      ]
     },
     "execution_count": 3,
     "metadata": {},
     "output_type": "execute_result"
    }
   ],
   "source": [
    "theWhole['chr_05']"
   ]
  },
  {
   "cell_type": "markdown",
   "metadata": {
    "slideshow": {
     "slide_type": "slide"
    }
   },
   "source": [
    "## Image Input"
   ]
  },
  {
   "cell_type": "code",
   "execution_count": 4,
   "metadata": {
    "scrolled": false,
    "slideshow": {
     "slide_type": "-"
    }
   },
   "outputs": [
    {
     "name": "stdout",
     "output_type": "stream",
     "text": [
      "0.06800127029418945\n"
     ]
    }
   ],
   "source": [
    "start = time.time()\n",
    "\n",
    "image = {}\n",
    "i = 0\n",
    "\n",
    "for chrNo in theWhole.keys():\n",
    "    image[chrNo] = []\n",
    "    for case in theWhole[chrNo]:\n",
    "        img = Image.open(case)\n",
    "        image[chrNo].append(img)\n",
    "    \n",
    "end = time.time()\n",
    "print(end - start)"
   ]
  },
  {
   "cell_type": "code",
   "execution_count": 5,
   "metadata": {
    "scrolled": true,
    "slideshow": {
     "slide_type": "slide"
    }
   },
   "outputs": [
    {
     "data": {
      "image/png": "[encoded data removed]",
      "text/plain": [
       "<PIL.BmpImagePlugin.BmpImageFile image mode=RGB size=300x300 at 0x651E940>"
      ]
     },
     "execution_count": 5,
     "metadata": {},
     "output_type": "execute_result"
    }
   ],
   "source": [
    "image['chr_01'][1]"
   ]
  },
  {
   "cell_type": "markdown",
   "metadata": {
    "slideshow": {
     "slide_type": "slide"
    }
   },
   "source": [
    "## Functions"
   ]
  },
  {
   "cell_type": "code",
   "execution_count": 6,
   "metadata": {
    "slideshow": {
     "slide_type": "-"
    }
   },
   "outputs": [],
   "source": [
    "def extractData(image):\n",
    "    x = image.size[0]\n",
    "    y = image.size[1]\n",
    "    \n",
    "    matrix = []\n",
    "    rgb_matrix = []\n",
    "\n",
    "    for i in range(x):\n",
    "        matrix.append([])\n",
    "        rgb_matrix.append([])\n",
    "        \n",
    "        for j in range(y):\n",
    "            r, g, b = image.getpixel((j, i))            \n",
    "            value = r * 299.0/1000 + g * 587.0/1000 + b * 114.0/1000\n",
    "            value = int(value)\n",
    "            matrix[i].append(value)\n",
    "            rgb_matrix[i].append((r,g,b))\n",
    "    return matrix, rgb_matrix"
   ]
  },
  {
   "cell_type": "code",
   "execution_count": 7,
   "metadata": {
    "slideshow": {
     "slide_type": "-"
    }
   },
   "outputs": [],
   "source": [
    "def imageReconstruct(matrix):\n",
    "    df = np.array(matrix, dtype=np.uint8)\n",
    "    img = Image.fromarray(df, 'RGB')\n",
    "    img.save('image.png')\n",
    "    return img"
   ]
  },
  {
   "cell_type": "markdown",
   "metadata": {
    "slideshow": {
     "slide_type": "slide"
    }
   },
   "source": [
    "## Data Extraction from Images"
   ]
  },
  {
   "cell_type": "code",
   "execution_count": 8,
   "metadata": {
    "slideshow": {
     "slide_type": "-"
    }
   },
   "outputs": [
    {
     "name": "stdout",
     "output_type": "stream",
     "text": [
      "50.7564594745636\n"
     ]
    }
   ],
   "source": [
    "start = time.time()\n",
    "\n",
    "data = {}\n",
    "rgb_data = {}\n",
    "\n",
    "for chrNo in image.keys():\n",
    "    data[chrNo] = []; rgb_data[chrNo] = []\n",
    "    for case in image[chrNo]:\n",
    "        grey, rgb = extractData(case)\n",
    "        data[chrNo].append(grey)\n",
    "        rgb_data[chrNo].append(rgb)\n",
    "        \n",
    "end = time.time()\n",
    "print(end - start)"
   ]
  },
  {
   "cell_type": "code",
   "execution_count": 9,
   "metadata": {
    "slideshow": {
     "slide_type": "slide"
    }
   },
   "outputs": [],
   "source": [
    "imageMatrix = np.array(rgb_data['chr_02'][1])"
   ]
  },
  {
   "cell_type": "code",
   "execution_count": 10,
   "metadata": {
    "slideshow": {
     "slide_type": "-"
    }
   },
   "outputs": [
    {
     "data": {
      "image/png": "[encoded data removed]",
      "text/plain": [
       "<PIL.Image.Image image mode=RGB size=300x300 at 0x4E1D710>"
      ]
     },
     "execution_count": 10,
     "metadata": {},
     "output_type": "execute_result"
    }
   ],
   "source": [
    "img = imageReconstruct(imageMatrix)\n",
    "img"
   ]
  },
  {
   "cell_type": "markdown",
   "metadata": {
    "slideshow": {
     "slide_type": "slide"
    }
   },
   "source": [
    "## Flat Transformation from 2D to 1D"
   ]
  },
  {
   "cell_type": "code",
   "execution_count": 11,
   "metadata": {
    "slideshow": {
     "slide_type": "-"
    }
   },
   "outputs": [],
   "source": [
    "data_flat = {}\n",
    "\n",
    "for chrNo in data.keys():\n",
    "    data_flat[chrNo] = []\n",
    "    for case in data[chrNo]:\n",
    "        case_flat = []\n",
    "        for row in case:\n",
    "            for column in row:\n",
    "                case_flat.append(column)            \n",
    "        data_flat[chrNo].append(case_flat)"
   ]
  },
  {
   "cell_type": "markdown",
   "metadata": {
    "slideshow": {
     "slide_type": "slide"
    }
   },
   "source": [
    "## Support Vector Classification"
   ]
  },
  {
   "cell_type": "code",
   "execution_count": 12,
   "metadata": {
    "slideshow": {
     "slide_type": "-"
    }
   },
   "outputs": [],
   "source": [
    "x_train_list = []\n",
    "y_train_list = []\n",
    "\n",
    "for y, x in data_flat.items():    \n",
    "    for x_item in x:\n",
    "        x_train_list.append(x_item)\n",
    "        y_train_list.append(y)"
   ]
  },
  {
   "cell_type": "markdown",
   "metadata": {
    "slideshow": {
     "slide_type": "slide"
    }
   },
   "source": [
    "### Training"
   ]
  },
  {
   "cell_type": "code",
   "execution_count": 14,
   "metadata": {
    "scrolled": true,
    "slideshow": {
     "slide_type": "-"
    }
   },
   "outputs": [],
   "source": [
    "start = time.time()\n",
    "\n",
    "X_train = np.array(x_train_list)\n",
    "y_train = np.array(y_train_list)\n",
    "\n",
    "clf = svm.SVC(kernel='linear', decision_function_shape='ovo')\n",
    "clf.fit(X_train, y_train)\n",
    "\n",
    "end = time.time()"
   ]
  },
  {
   "cell_type": "code",
   "execution_count": 15,
   "metadata": {},
   "outputs": [
    {
     "name": "stdout",
     "output_type": "stream",
     "text": [
      "10.508601427078247\n"
     ]
    }
   ],
   "source": [
    "print(end - start)"
   ]
  },
  {
   "cell_type": "markdown",
   "metadata": {
    "slideshow": {
     "slide_type": "slide"
    }
   },
   "source": [
    "### Prediction"
   ]
  },
  {
   "cell_type": "code",
   "execution_count": 16,
   "metadata": {
    "scrolled": false,
    "slideshow": {
     "slide_type": "-"
    }
   },
   "outputs": [
    {
     "name": "stdout",
     "output_type": "stream",
     "text": [
      "w =  [[ 1.35525272e-20  1.35525272e-20  1.35525272e-20 ...  1.35525272e-20\n",
      "   1.35525272e-20  1.35525272e-20]\n",
      " [ 0.00000000e+00  0.00000000e+00  0.00000000e+00 ...  0.00000000e+00\n",
      "   0.00000000e+00  0.00000000e+00]\n",
      " [ 0.00000000e+00  0.00000000e+00  0.00000000e+00 ...  0.00000000e+00\n",
      "   0.00000000e+00  0.00000000e+00]\n",
      " ...\n",
      " [-1.69406589e-21 -1.69406589e-21 -1.69406589e-21 ... -1.69406589e-21\n",
      "  -1.69406589e-21 -1.69406589e-21]\n",
      " [ 0.00000000e+00  0.00000000e+00  0.00000000e+00 ...  0.00000000e+00\n",
      "   0.00000000e+00  0.00000000e+00]\n",
      " [ 0.00000000e+00  0.00000000e+00  0.00000000e+00 ...  0.00000000e+00\n",
      "   0.00000000e+00  0.00000000e+00]]\n",
      "b =  [ 2.68054119  3.68598414  3.84470898  3.68886894  5.43629834  7.14558052\n",
      "  6.23749205  6.11809786  6.19482706  5.75660163  4.81245177  4.87516627\n",
      "  5.39752839  5.06292569  6.64075705  5.6439732   5.89264722  6.72651407\n",
      "  6.2418734   6.38828592  6.37340167  5.9471053   5.63136163  4.04979197\n",
      "  4.97677284  5.1527739   6.29920939  6.68112842  5.40275373  5.21975441\n",
      "  5.42166224  5.2521518   4.76723788  5.00430532  5.07950366  4.89048133\n",
      "  4.16046082  4.29321111  4.27581824  4.23089367  3.959567    4.23198286\n",
      "  4.23725931  5.60212931  3.9867533   1.64411147  2.86127253  4.40689962\n",
      "  5.61767574  5.41427323  5.73080611  6.45642819  5.68511493  5.56321727\n",
      "  5.42915771  6.27651188  6.05217324  6.90103456  6.43192398  6.36958131\n",
      "  7.36063164  7.10620658  6.73521106  6.56034696  4.27451608  6.05091024\n",
      "  2.47369001  0.78724779  2.59528935  3.25305507  2.94289886  3.53592192\n",
      "  3.20708423  3.87321351  3.73906257  3.76979932  3.53287346  3.11392003\n",
      "  3.1944841   3.19795278  3.19912249  2.95182572  3.14111201  3.13673094\n",
      "  2.11959458  2.90411845 -0.75026894  2.55001161  4.61073817  4.15147827\n",
      "  3.72550274  4.21568722  5.27942681  4.40106984  4.17293155  4.1667862\n",
      "  3.47803269  3.59971217  3.34891258  3.15719738  2.74526345  3.23692199\n",
      "  3.1463454   2.34321383  3.06159984  5.72110253  6.80898233  5.63349866\n",
      "  6.20457116  4.4732559   6.2354107   6.3817287   7.21002329  6.79604723\n",
      "  6.73577795  6.71365215  6.34404733  6.19574868  5.84072773  5.92249439\n",
      "  5.97160929  3.7162249   6.22377236  3.5888189   7.08520233  4.62921672\n",
      "  4.39408381  2.97578283  3.7673453   4.36074358  4.23794945  6.03764569\n",
      "  5.93871276  5.78409223  5.77853261  5.0403771   5.60101432  5.56632643\n",
      "  2.98465538  5.29127973  4.27905262  3.90936199  1.81983298  2.28181301\n",
      "  4.44601201  5.54840533  5.33614659  4.83357861  5.42699864  4.87240592\n",
      "  4.98205206  3.82761324  5.29656696  5.36569403 -1.92749693  4.69442986\n",
      "  1.0714008   0.11569106  1.14230321  2.24605175  2.60490804  2.79271756\n",
      "  5.64060834  5.24258739  5.33654295  4.06590619  3.13563176  3.76180545\n",
      "  3.71562389 -4.50869375  3.7114486   0.13080335  1.30646472  2.47096919\n",
      "  3.47396405  3.03465793  4.06978798  4.32718709  4.05983958  3.86984375\n",
      "  3.26671009  3.68231793  3.66092621 -2.66565007  3.57849567 -1.245744\n",
      "  0.83551299  0.88826565  1.14783277  1.938826    2.72243744  2.48637268\n",
      "  2.28844443  1.88947389  2.51258084  2.47914416 -2.9865786   1.8086324\n",
      "  2.85977785  2.79839898  2.46133681  3.4322223   4.92510786  3.51296223\n",
      "  3.32853627  2.76827098  3.3678979   3.2494556  -2.02142161  3.14616896\n",
      "  5.5116136   2.67823399  1.32177488  1.73579169  2.39497066  2.79752368\n",
      "  2.02066479  3.93388381  3.71286578 -2.37761993  2.68335455 -3.86689072\n",
      "  0.82414895  1.32578993  2.85041414  3.60410661  2.06581668  5.32107266\n",
      "  5.50177879 -2.77229786  3.58222521  0.35038508  1.06379981  2.17817904\n",
      "  2.83339455  1.88613855  4.48734556  4.32562006 -2.75249997  3.07141453\n",
      " -0.04926785  3.21768899  6.71518622  3.46238767  5.99013646  5.80998762\n",
      " -3.57560298  5.03303001  2.3534806   3.55560388  3.2464781   5.11675255\n",
      "  4.74660165 -3.11403977  3.83192119  2.46225941  1.65561975  4.79367545\n",
      "  4.10469597 -3.14603858  4.30083438 -2.17378045  8.4738005   3.84262448\n",
      " -3.08779486  1.05459804  2.70333612  1.92112141 -2.70039701  0.38674342\n",
      " -7.13385635 -3.34515358 -3.24800388 -3.29833703 -3.1729587   2.87518784]\n",
      "Indices of support vectors =  [  0   1   2   3   4   5   6   7   8   9  10  11  12  13  14  15  16  17\n",
      "  18  19  20  21  22  23  24  25  26  27  28  29  30  31  32  33  36  37\n",
      "  38  39  40  41  42  43  44  45  46  47  48  49  50  51  52  53  54  55\n",
      "  56  57  58  59  60  61  62  63  64  65  66  67  68  69  70  71  72  73\n",
      "  74  75  76  77  78  79  80  81  82  83  84  85  86  87  88  89  90  91\n",
      "  92  93  94  95  96  97  98  99 100 101 102 103 104 105 106 107 108 109\n",
      " 110 111 112 113 114 115 116 117 118 119 120 121 122 124 125 126 127 128\n",
      " 129 130 131 132 133 134 135 136 137 138 139 140 141 142 143 144 145 146\n",
      " 147 148 149 150 151 152 153 154 155 156 157 158 159 160 161 162 163 164\n",
      " 165 166 167 168 169 170 171 172 173 174 175 176 177 178 179 180 181 182\n",
      " 183 184 185 186 187 188 189 190 191 192 193 194 195 196 197 198 199 200\n",
      " 202 203 204 205 206 207 208 209 210 211 213 214 215 216 217 218 219 220\n",
      " 222 223 224 226 227 228 229 230 231 233 235 236 237 238 239 240 241 242\n",
      " 243 244 245 246 247 248 249 250 251 252 253 254]\n",
      "Support vectors =  [[255. 255. 255. ... 255. 255. 255.]\n",
      " [255. 255. 255. ... 255. 255. 255.]\n",
      " [255. 255. 255. ... 255. 255. 255.]\n",
      " ...\n",
      " [255. 255. 255. ... 255. 255. 255.]\n",
      " [255. 255. 255. ... 255. 255. 255.]\n",
      " [255. 255. 255. ... 255. 255. 255.]]\n",
      "Number of support vectors for each class =  [12 12 10 11 11 11 11 11 11 11 10 11 11 11 11 11 11 11 10  9  8 10  8  3]\n",
      "Coefficients of the support vector in the decision function =  [[2.65493028e-08 0.00000000e+00 3.49296894e-08 ... 1.21993005e-08\n",
      "  1.11210654e-08 1.14406559e-08]\n",
      " [1.60881510e-08 7.84101407e-09 6.17036864e-09 ... 5.61848293e-09\n",
      "  1.21259462e-09 1.91690987e-08]\n",
      " [5.84285674e-09 6.82322645e-09 6.63312522e-09 ... 1.64803196e-08\n",
      "  0.00000000e+00 3.84037305e-08]\n",
      " ...\n",
      " [4.62567881e-09 9.85399261e-09 0.00000000e+00 ... 2.07489699e-07\n",
      "  4.23311321e-07 1.04257331e-07]\n",
      " [1.27986199e-08 6.37357381e-09 1.39776576e-09 ... 2.91179073e-07\n",
      "  3.12516691e-07 4.28587987e-08]\n",
      " [3.88460324e-09 8.93187366e-09 0.00000000e+00 ... 9.32191505e-09\n",
      "  7.99337218e-09 3.08229322e-08]]\n"
     ]
    }
   ],
   "source": [
    "print('w = ',clf.coef_)\n",
    "print('b = ',clf.intercept_)\n",
    "print('Indices of support vectors = ', clf.support_)\n",
    "print('Support vectors = ', clf.support_vectors_)\n",
    "print('Number of support vectors for each class = ', clf.n_support_)\n",
    "print('Coefficients of the support vector in the decision function = ', np.abs(clf.dual_coef_))"
   ]
  },
  {
   "cell_type": "code",
   "execution_count": 17,
   "metadata": {
    "slideshow": {
     "slide_type": "slide"
    }
   },
   "outputs": [],
   "source": [
    "pathBase = 'C:\\\\Users\\\\Chuan\\\\OneDrive\\\\Dowrun\\\\Database\\\\PhD\\\\KaryoTypes\\\\Arrangement\\\\test\\\\'\n",
    "theWhole = {}\n",
    "\n",
    "f = []\n",
    "f_01 = []\n",
    "mypath_01 = pathBase + 'chr_01'\n",
    "for (dirpath, dirnames, filenames) in walk(mypath_01):\n",
    "    f.extend(filenames)\n",
    "for l in f:\n",
    "    f_01.append(mypath_01 + '\\\\' + l) \n",
    "        \n",
    "f = []\n",
    "f_02 = []\n",
    "mypath_02 = pathBase + 'chr_02'\n",
    "for (dirpath, dirnames, filenames) in walk(mypath_02):\n",
    "    f.extend(filenames)\n",
    "for l in f:\n",
    "    f_02.append(mypath_02 + '\\\\' + l)    \n",
    "        \n",
    "f = []\n",
    "f_03 = []\n",
    "mypath_03 = pathBase + 'chr_03'\n",
    "for (dirpath, dirnames, filenames) in walk(mypath_03):\n",
    "    f.extend(filenames)\n",
    "for l in f:\n",
    "    f_03.append(mypath_03 + '\\\\' + l)    \n",
    "        \n",
    "f = []\n",
    "f_04 = []\n",
    "mypath_04 = pathBase + 'chr_04'\n",
    "for (dirpath, dirnames, filenames) in walk(mypath_04):\n",
    "    f.extend(filenames)\n",
    "for l in f:\n",
    "    f_04.append(mypath_04 + '\\\\' + l)    \n",
    "        \n",
    "f = []\n",
    "f_05 = []\n",
    "mypath_05 = pathBase + 'chr_05'\n",
    "for (dirpath, dirnames, filenames) in walk(mypath_05):\n",
    "    f.extend(filenames)\n",
    "for l in f:\n",
    "    f_05.append(mypath_05 + '\\\\' + l)    \n",
    "        \n",
    "f = []\n",
    "f_06 = []\n",
    "mypath_06 = pathBase + 'chr_06'\n",
    "for (dirpath, dirnames, filenames) in walk(mypath_06):\n",
    "    f.extend(filenames)\n",
    "for l in f:\n",
    "    f_06.append(mypath_06 + '\\\\' + l)    \n",
    "    \n",
    "f = []\n",
    "f_07 = []\n",
    "mypath_07 = pathBase + 'chr_07'\n",
    "for (dirpath, dirnames, filenames) in walk(mypath_07):\n",
    "    f.extend(filenames)\n",
    "for l in f:\n",
    "    f_07.append(mypath_07 + '\\\\' + l)    \n",
    "        \n",
    "f = []\n",
    "f_08 = []\n",
    "mypath_08 = pathBase + 'chr_08'\n",
    "for (dirpath, dirnames, filenames) in walk(mypath_08):\n",
    "    f.extend(filenames)\n",
    "for l in f:\n",
    "    f_08.append(mypath_08 + '\\\\' + l)    \n",
    "        \n",
    "f = []\n",
    "f_09 = []\n",
    "mypath_09 = pathBase + 'chr_09'\n",
    "for (dirpath, dirnames, filenames) in walk(mypath_09):\n",
    "    f.extend(filenames)\n",
    "for l in f:\n",
    "    f_09.append(mypath_09 + '\\\\' + l)    \n",
    "    \n",
    "f = []\n",
    "f_10 = []\n",
    "mypath_10 = pathBase + 'chr_10'\n",
    "for (dirpath, dirnames, filenames) in walk(mypath_10):\n",
    "    f.extend(filenames)\n",
    "for l in f:\n",
    "    f_10.append(mypath_10 + '\\\\' + l)    \n",
    "    \n",
    "f = []\n",
    "f_11 = []\n",
    "mypath_11 = pathBase + 'chr_11'\n",
    "for (dirpath, dirnames, filenames) in walk(mypath_11):\n",
    "    f.extend(filenames)\n",
    "for l in f:\n",
    "    f_11.append(mypath_11 + '\\\\' + l)    \n",
    "    \n",
    "    \n",
    "f = []\n",
    "f_12 = []\n",
    "mypath_12 = pathBase + 'chr_12'\n",
    "for (dirpath, dirnames, filenames) in walk(mypath_12):\n",
    "    f.extend(filenames)\n",
    "for l in f:\n",
    "    f_12.append(mypath_12 + '\\\\' + l)    \n",
    "    \n",
    "    \n",
    "f = []\n",
    "f_13 = []\n",
    "mypath_13 = pathBase + 'chr_13'\n",
    "for (dirpath, dirnames, filenames) in walk(mypath_13):\n",
    "    f.extend(filenames)\n",
    "for l in f:\n",
    "    f_13.append(mypath_13 + '\\\\' + l)    \n",
    "    \n",
    "    \n",
    "f = []\n",
    "f_14 = []\n",
    "mypath_14 = pathBase + 'chr_14'\n",
    "for (dirpath, dirnames, filenames) in walk(mypath_14):\n",
    "    f.extend(filenames)\n",
    "for l in f:\n",
    "    f_14.append(mypath_14 + '\\\\' + l)    \n",
    "    \n",
    "\n",
    "    \n",
    "f = []\n",
    "f_15 = []\n",
    "mypath_15 = pathBase + 'chr_15'\n",
    "for (dirpath, dirnames, filenames) in walk(mypath_15):\n",
    "    f.extend(filenames)\n",
    "for l in f:\n",
    "    f_15.append(mypath_15 + '\\\\' + l)    \n",
    "    \n",
    "        \n",
    "f = []\n",
    "f_16 = []\n",
    "mypath_16 = pathBase + 'chr_16'\n",
    "for (dirpath, dirnames, filenames) in walk(mypath_16):\n",
    "    f.extend(filenames)\n",
    "for l in f:\n",
    "    f_16.append(mypath_16 + '\\\\' + l)    \n",
    "    \n",
    "        \n",
    "f = []\n",
    "f_17 = []\n",
    "mypath_17 = pathBase + 'chr_17'\n",
    "for (dirpath, dirnames, filenames) in walk(mypath_17):\n",
    "    f.extend(filenames)\n",
    "for l in f:\n",
    "    f_17.append(mypath_17 + '\\\\' + l)    \n",
    "    \n",
    "        \n",
    "f = []\n",
    "f_18 = []\n",
    "mypath_18 = pathBase + 'chr_18'\n",
    "for (dirpath, dirnames, filenames) in walk(mypath_18):\n",
    "    f.extend(filenames)\n",
    "for l in f:\n",
    "    f_18.append(mypath_18 + '\\\\' + l)    \n",
    "    \n",
    "        \n",
    "f = []\n",
    "f_19 = []\n",
    "mypath_19 = pathBase + 'chr_19'\n",
    "for (dirpath, dirnames, filenames) in walk(mypath_19):\n",
    "    f.extend(filenames)\n",
    "for l in f:\n",
    "    f_19.append(mypath_19 + '\\\\' + l)    \n",
    "    \n",
    "        \n",
    "f = []\n",
    "f_20 = []\n",
    "mypath_20 = pathBase + 'chr_20'\n",
    "for (dirpath, dirnames, filenames) in walk(mypath_20):\n",
    "    f.extend(filenames)\n",
    "for l in f:\n",
    "    f_20.append(mypath_20 + '\\\\' + l)    \n",
    "   \n",
    "        \n",
    "f = []\n",
    "f_21 = []\n",
    "mypath_21 = pathBase + 'chr_21'\n",
    "for (dirpath, dirnames, filenames) in walk(mypath_21):\n",
    "    f.extend(filenames)\n",
    "for l in f:\n",
    "    f_21.append(mypath_21 + '\\\\' + l)    \n",
    "   \n",
    "        \n",
    "f = []\n",
    "f_22 = []\n",
    "mypath_22 = pathBase + 'chr_22'\n",
    "for (dirpath, dirnames, filenames) in walk(mypath_22):\n",
    "    f.extend(filenames)\n",
    "for l in f:\n",
    "    f_22.append(mypath_22 + '\\\\' + l)    \n",
    "   \n",
    "f = []\n",
    "f_x = []\n",
    "mypath_x = pathBase + 'chr_x'\n",
    "for (dirpath, dirnames, filenames) in walk(mypath_x):\n",
    "    f.extend(filenames)\n",
    "for l in f:\n",
    "    f_x.append(mypath_x + '\\\\' + l)    \n",
    "   \n",
    "f = []\n",
    "f_y = []\n",
    "mypath_y = pathBase + 'chr_y'\n",
    "for (dirpath, dirnames, filenames) in walk(mypath_y):\n",
    "    f.extend(filenames)\n",
    "for l in f:\n",
    "    f_y.append(mypath_y + '\\\\' + l)  \n",
    "    \n",
    "theWhole['chr_01'] = f_01\n",
    "theWhole['chr_02'] = f_02\n",
    "theWhole['chr_03'] = f_03\n",
    "theWhole['chr_04'] = f_04\n",
    "theWhole['chr_05'] = f_05\n",
    "theWhole['chr_06'] = f_06\n",
    "theWhole['chr_07'] = f_07\n",
    "theWhole['chr_08'] = f_08\n",
    "theWhole['chr_09'] = f_09\n",
    "theWhole['chr_10'] = f_10\n",
    "theWhole['chr_11'] = f_11\n",
    "theWhole['chr_12'] = f_12\n",
    "theWhole['chr_13'] = f_13\n",
    "theWhole['chr_14'] = f_14\n",
    "theWhole['chr_15'] = f_15\n",
    "theWhole['chr_16'] = f_16\n",
    "theWhole['chr_17'] = f_17\n",
    "theWhole['chr_18'] = f_18\n",
    "theWhole['chr_19'] = f_19\n",
    "theWhole['chr_20'] = f_20\n",
    "theWhole['chr_21'] = f_21\n",
    "theWhole['chr_22'] = f_22\n",
    "theWhole['chr_x'] = f_x\n",
    "theWhole['chr_y'] = f_y"
   ]
  },
  {
   "cell_type": "code",
   "execution_count": 18,
   "metadata": {
    "slideshow": {
     "slide_type": "slide"
    }
   },
   "outputs": [
    {
     "name": "stdout",
     "output_type": "stream",
     "text": [
      "0.5290300846099854\n"
     ]
    }
   ],
   "source": [
    "start = time.time()\n",
    "\n",
    "image = {}\n",
    "i = 0\n",
    "\n",
    "for chrNo in theWhole.keys():\n",
    "    image[chrNo] = []\n",
    "    for case in theWhole[chrNo]:\n",
    "        img = Image.open(case)\n",
    "        image[chrNo].append(img)\n",
    "    \n",
    "end = time.time()\n",
    "print(end - start)"
   ]
  },
  {
   "cell_type": "markdown",
   "metadata": {
    "slideshow": {
     "slide_type": "slide"
    }
   },
   "source": [
    "### Data Extraction"
   ]
  },
  {
   "cell_type": "code",
   "execution_count": 19,
   "metadata": {
    "slideshow": {
     "slide_type": "-"
    }
   },
   "outputs": [
    {
     "name": "stdout",
     "output_type": "stream",
     "text": [
      "23.414467811584473\n"
     ]
    }
   ],
   "source": [
    "start = time.time()\n",
    "\n",
    "data = {}\n",
    "rgb_data = {}\n",
    "\n",
    "for chrNo in image.keys():\n",
    "    data[chrNo] = []; rgb_data[chrNo] = []\n",
    "    for case in image[chrNo]:\n",
    "        grey, rgb = extractData(case)\n",
    "        data[chrNo].append(grey)\n",
    "        rgb_data[chrNo].append(rgb)\n",
    "        \n",
    "end = time.time()\n",
    "print(end - start)"
   ]
  },
  {
   "cell_type": "markdown",
   "metadata": {
    "slideshow": {
     "slide_type": "slide"
    }
   },
   "source": [
    "### 2D to 1D"
   ]
  },
  {
   "cell_type": "code",
   "execution_count": 20,
   "metadata": {
    "slideshow": {
     "slide_type": "-"
    }
   },
   "outputs": [],
   "source": [
    "data_flat = {}\n",
    "\n",
    "for chrNo in data.keys():\n",
    "    data_flat[chrNo] = []\n",
    "    for case in data[chrNo]:\n",
    "        case_flat = []\n",
    "        for row in case:\n",
    "            for column in row:\n",
    "                case_flat.append(column)            \n",
    "        data_flat[chrNo].append(case_flat)"
   ]
  },
  {
   "cell_type": "code",
   "execution_count": 21,
   "metadata": {
    "slideshow": {
     "slide_type": "-"
    }
   },
   "outputs": [],
   "source": [
    "x_test_list = []\n",
    "y_test_list = []\n",
    "\n",
    "for y, x in data_flat.items():    \n",
    "    for x_item in x:\n",
    "        x_test_list.append(x_item)\n",
    "        y_test_list.append(y)"
   ]
  },
  {
   "cell_type": "code",
   "execution_count": 22,
   "metadata": {
    "slideshow": {
     "slide_type": "slide"
    }
   },
   "outputs": [],
   "source": [
    "X_test = np.array(x_test_list)\n",
    "y_test = np.array(y_test_list)"
   ]
  },
  {
   "cell_type": "markdown",
   "metadata": {
    "slideshow": {
     "slide_type": "slide"
    }
   },
   "source": [
    "## Performance Measures"
   ]
  },
  {
   "cell_type": "code",
   "execution_count": 25,
   "metadata": {
    "slideshow": {
     "slide_type": "-"
    }
   },
   "outputs": [],
   "source": [
    "y_predict = clf.predict(X_test)\n",
    "y_test = y_test"
   ]
  },
  {
   "cell_type": "code",
   "execution_count": 26,
   "metadata": {
    "scrolled": true,
    "slideshow": {
     "slide_type": "slide"
    }
   },
   "outputs": [
    {
     "data": {
      "text/plain": [
       "array(['chr_01', 'chr_01', 'chr_01', 'chr_01', 'chr_01', 'chr_07',\n",
       "       'chr_02', 'chr_02', 'chr_07', 'chr_02', 'chr_03', 'chr_03',\n",
       "       'chr_03', 'chr_03', 'chr_05', 'chr_04', 'chr_04', 'chr_04',\n",
       "       'chr_04', 'chr_05', 'chr_05', 'chr_05', 'chr_05', 'chr_04',\n",
       "       'chr_06', 'chr_06', 'chr_06', 'chr_06', 'chr_06', 'chr_07',\n",
       "       'chr_07', 'chr_07', 'chr_07', 'chr_07', 'chr_08', 'chr_08',\n",
       "       'chr_08', 'chr_08', 'chr_08', 'chr_07', 'chr_11', 'chr_09',\n",
       "       'chr_09', 'chr_09', 'chr_16', 'chr_10', 'chr_05', 'chr_10',\n",
       "       'chr_10', 'chr_11', 'chr_11', 'chr_11', 'chr_11', 'chr_11',\n",
       "       'chr_12', 'chr_12', 'chr_12', 'chr_12', 'chr_12', 'chr_15',\n",
       "       'chr_13', 'chr_15', 'chr_13', 'chr_14', 'chr_14', 'chr_15',\n",
       "       'chr_15', 'chr_14', 'chr_15', 'chr_16', 'chr_15', 'chr_14',\n",
       "       'chr_14', 'chr_14', 'chr_16', 'chr_16', 'chr_10', 'chr_19',\n",
       "       'chr_19', 'chr_17', 'chr_17', 'chr_17', 'chr_17', 'chr_17',\n",
       "       'chr_18', 'chr_18', 'chr_18', 'chr_18', 'chr_18', 'chr_19',\n",
       "       'chr_19', 'chr_19', 'chr_19', 'chr_19', 'chr_20', 'chr_20',\n",
       "       'chr_20', 'chr_20', 'chr_20', 'chr_21', 'chr_21', 'chr_22',\n",
       "       'chr_21', 'chr_21', 'chr_21', 'chr_22', 'chr_21', 'chr_21',\n",
       "       'chr_21', 'chr_07', 'chr_09', 'chr_x', 'chr_07', 'chr_19'],\n",
       "      dtype='<U6')"
      ]
     },
     "execution_count": 26,
     "metadata": {},
     "output_type": "execute_result"
    }
   ],
   "source": [
    "y_predict"
   ]
  },
  {
   "cell_type": "code",
   "execution_count": null,
   "metadata": {
    "slideshow": {
     "slide_type": "slide"
    }
   },
   "outputs": [],
   "source": [
    "y_test"
   ]
  },
  {
   "cell_type": "markdown",
   "metadata": {
    "slideshow": {
     "slide_type": "slide"
    }
   },
   "source": [
    "### Confusion Matrix (混淆矩阵)"
   ]
  },
  {
   "cell_type": "code",
   "execution_count": 27,
   "metadata": {
    "scrolled": true,
    "slideshow": {
     "slide_type": "-"
    }
   },
   "outputs": [
    {
     "data": {
      "text/html": [
       "<div>\n",
       "<style scoped>\n",
       "    .dataframe tbody tr th:only-of-type {\n",
       "        vertical-align: middle;\n",
       "    }\n",
       "\n",
       "    .dataframe tbody tr th {\n",
       "        vertical-align: top;\n",
       "    }\n",
       "\n",
       "    .dataframe thead th {\n",
       "        text-align: right;\n",
       "    }\n",
       "</style>\n",
       "<table border=\"1\" class=\"dataframe\">\n",
       "  <thead>\n",
       "    <tr style=\"text-align: right;\">\n",
       "      <th></th>\n",
       "      <th>Predictive chr_01</th>\n",
       "      <th>Predictive chr_02</th>\n",
       "      <th>Predictive chr_03</th>\n",
       "      <th>Predictive chr_04</th>\n",
       "      <th>Predictive chr_05</th>\n",
       "      <th>Predictive chr_06</th>\n",
       "      <th>Predictive chr_07</th>\n",
       "      <th>Predictive chr_08</th>\n",
       "      <th>Predictive chr_09</th>\n",
       "      <th>Predictive chr_10</th>\n",
       "      <th>...</th>\n",
       "      <th>Predictive chr_15</th>\n",
       "      <th>Predictive chr_16</th>\n",
       "      <th>Predictive chr_17</th>\n",
       "      <th>Predictive chr_18</th>\n",
       "      <th>Predictive chr_19</th>\n",
       "      <th>Predictive chr_20</th>\n",
       "      <th>Predictive chr_21</th>\n",
       "      <th>Predictive chr_22</th>\n",
       "      <th>Predictive chr_x</th>\n",
       "      <th>Predictive chr_y</th>\n",
       "    </tr>\n",
       "  </thead>\n",
       "  <tbody>\n",
       "    <tr>\n",
       "      <th>chr_01</th>\n",
       "      <td>5</td>\n",
       "      <td>0</td>\n",
       "      <td>0</td>\n",
       "      <td>0</td>\n",
       "      <td>0</td>\n",
       "      <td>0</td>\n",
       "      <td>0</td>\n",
       "      <td>0</td>\n",
       "      <td>0</td>\n",
       "      <td>0</td>\n",
       "      <td>...</td>\n",
       "      <td>0</td>\n",
       "      <td>0</td>\n",
       "      <td>0</td>\n",
       "      <td>0</td>\n",
       "      <td>0</td>\n",
       "      <td>0</td>\n",
       "      <td>0</td>\n",
       "      <td>0</td>\n",
       "      <td>0</td>\n",
       "      <td>0</td>\n",
       "    </tr>\n",
       "    <tr>\n",
       "      <th>chr_02</th>\n",
       "      <td>0</td>\n",
       "      <td>3</td>\n",
       "      <td>0</td>\n",
       "      <td>0</td>\n",
       "      <td>0</td>\n",
       "      <td>0</td>\n",
       "      <td>2</td>\n",
       "      <td>0</td>\n",
       "      <td>0</td>\n",
       "      <td>0</td>\n",
       "      <td>...</td>\n",
       "      <td>0</td>\n",
       "      <td>0</td>\n",
       "      <td>0</td>\n",
       "      <td>0</td>\n",
       "      <td>0</td>\n",
       "      <td>0</td>\n",
       "      <td>0</td>\n",
       "      <td>0</td>\n",
       "      <td>0</td>\n",
       "      <td>0</td>\n",
       "    </tr>\n",
       "    <tr>\n",
       "      <th>chr_03</th>\n",
       "      <td>0</td>\n",
       "      <td>0</td>\n",
       "      <td>4</td>\n",
       "      <td>0</td>\n",
       "      <td>0</td>\n",
       "      <td>0</td>\n",
       "      <td>0</td>\n",
       "      <td>0</td>\n",
       "      <td>0</td>\n",
       "      <td>0</td>\n",
       "      <td>...</td>\n",
       "      <td>0</td>\n",
       "      <td>0</td>\n",
       "      <td>0</td>\n",
       "      <td>0</td>\n",
       "      <td>0</td>\n",
       "      <td>0</td>\n",
       "      <td>0</td>\n",
       "      <td>0</td>\n",
       "      <td>0</td>\n",
       "      <td>0</td>\n",
       "    </tr>\n",
       "    <tr>\n",
       "      <th>chr_04</th>\n",
       "      <td>0</td>\n",
       "      <td>0</td>\n",
       "      <td>0</td>\n",
       "      <td>4</td>\n",
       "      <td>1</td>\n",
       "      <td>0</td>\n",
       "      <td>0</td>\n",
       "      <td>0</td>\n",
       "      <td>0</td>\n",
       "      <td>0</td>\n",
       "      <td>...</td>\n",
       "      <td>0</td>\n",
       "      <td>0</td>\n",
       "      <td>0</td>\n",
       "      <td>0</td>\n",
       "      <td>0</td>\n",
       "      <td>0</td>\n",
       "      <td>0</td>\n",
       "      <td>0</td>\n",
       "      <td>0</td>\n",
       "      <td>0</td>\n",
       "    </tr>\n",
       "    <tr>\n",
       "      <th>chr_05</th>\n",
       "      <td>0</td>\n",
       "      <td>0</td>\n",
       "      <td>0</td>\n",
       "      <td>1</td>\n",
       "      <td>4</td>\n",
       "      <td>0</td>\n",
       "      <td>0</td>\n",
       "      <td>0</td>\n",
       "      <td>0</td>\n",
       "      <td>0</td>\n",
       "      <td>...</td>\n",
       "      <td>0</td>\n",
       "      <td>0</td>\n",
       "      <td>0</td>\n",
       "      <td>0</td>\n",
       "      <td>0</td>\n",
       "      <td>0</td>\n",
       "      <td>0</td>\n",
       "      <td>0</td>\n",
       "      <td>0</td>\n",
       "      <td>0</td>\n",
       "    </tr>\n",
       "    <tr>\n",
       "      <th>chr_06</th>\n",
       "      <td>0</td>\n",
       "      <td>0</td>\n",
       "      <td>0</td>\n",
       "      <td>0</td>\n",
       "      <td>0</td>\n",
       "      <td>5</td>\n",
       "      <td>0</td>\n",
       "      <td>0</td>\n",
       "      <td>0</td>\n",
       "      <td>0</td>\n",
       "      <td>...</td>\n",
       "      <td>0</td>\n",
       "      <td>0</td>\n",
       "      <td>0</td>\n",
       "      <td>0</td>\n",
       "      <td>0</td>\n",
       "      <td>0</td>\n",
       "      <td>0</td>\n",
       "      <td>0</td>\n",
       "      <td>0</td>\n",
       "      <td>0</td>\n",
       "    </tr>\n",
       "    <tr>\n",
       "      <th>chr_07</th>\n",
       "      <td>0</td>\n",
       "      <td>0</td>\n",
       "      <td>0</td>\n",
       "      <td>0</td>\n",
       "      <td>0</td>\n",
       "      <td>0</td>\n",
       "      <td>5</td>\n",
       "      <td>0</td>\n",
       "      <td>0</td>\n",
       "      <td>0</td>\n",
       "      <td>...</td>\n",
       "      <td>0</td>\n",
       "      <td>0</td>\n",
       "      <td>0</td>\n",
       "      <td>0</td>\n",
       "      <td>0</td>\n",
       "      <td>0</td>\n",
       "      <td>0</td>\n",
       "      <td>0</td>\n",
       "      <td>0</td>\n",
       "      <td>0</td>\n",
       "    </tr>\n",
       "    <tr>\n",
       "      <th>chr_08</th>\n",
       "      <td>0</td>\n",
       "      <td>0</td>\n",
       "      <td>0</td>\n",
       "      <td>0</td>\n",
       "      <td>0</td>\n",
       "      <td>0</td>\n",
       "      <td>0</td>\n",
       "      <td>5</td>\n",
       "      <td>0</td>\n",
       "      <td>0</td>\n",
       "      <td>...</td>\n",
       "      <td>0</td>\n",
       "      <td>0</td>\n",
       "      <td>0</td>\n",
       "      <td>0</td>\n",
       "      <td>0</td>\n",
       "      <td>0</td>\n",
       "      <td>0</td>\n",
       "      <td>0</td>\n",
       "      <td>0</td>\n",
       "      <td>0</td>\n",
       "    </tr>\n",
       "    <tr>\n",
       "      <th>chr_09</th>\n",
       "      <td>0</td>\n",
       "      <td>0</td>\n",
       "      <td>0</td>\n",
       "      <td>0</td>\n",
       "      <td>0</td>\n",
       "      <td>0</td>\n",
       "      <td>1</td>\n",
       "      <td>0</td>\n",
       "      <td>3</td>\n",
       "      <td>0</td>\n",
       "      <td>...</td>\n",
       "      <td>0</td>\n",
       "      <td>0</td>\n",
       "      <td>0</td>\n",
       "      <td>0</td>\n",
       "      <td>0</td>\n",
       "      <td>0</td>\n",
       "      <td>0</td>\n",
       "      <td>0</td>\n",
       "      <td>0</td>\n",
       "      <td>0</td>\n",
       "    </tr>\n",
       "    <tr>\n",
       "      <th>chr_10</th>\n",
       "      <td>0</td>\n",
       "      <td>0</td>\n",
       "      <td>0</td>\n",
       "      <td>0</td>\n",
       "      <td>1</td>\n",
       "      <td>0</td>\n",
       "      <td>0</td>\n",
       "      <td>0</td>\n",
       "      <td>0</td>\n",
       "      <td>3</td>\n",
       "      <td>...</td>\n",
       "      <td>0</td>\n",
       "      <td>1</td>\n",
       "      <td>0</td>\n",
       "      <td>0</td>\n",
       "      <td>0</td>\n",
       "      <td>0</td>\n",
       "      <td>0</td>\n",
       "      <td>0</td>\n",
       "      <td>0</td>\n",
       "      <td>0</td>\n",
       "    </tr>\n",
       "    <tr>\n",
       "      <th>chr_11</th>\n",
       "      <td>0</td>\n",
       "      <td>0</td>\n",
       "      <td>0</td>\n",
       "      <td>0</td>\n",
       "      <td>0</td>\n",
       "      <td>0</td>\n",
       "      <td>0</td>\n",
       "      <td>0</td>\n",
       "      <td>0</td>\n",
       "      <td>0</td>\n",
       "      <td>...</td>\n",
       "      <td>0</td>\n",
       "      <td>0</td>\n",
       "      <td>0</td>\n",
       "      <td>0</td>\n",
       "      <td>0</td>\n",
       "      <td>0</td>\n",
       "      <td>0</td>\n",
       "      <td>0</td>\n",
       "      <td>0</td>\n",
       "      <td>0</td>\n",
       "    </tr>\n",
       "    <tr>\n",
       "      <th>chr_12</th>\n",
       "      <td>0</td>\n",
       "      <td>0</td>\n",
       "      <td>0</td>\n",
       "      <td>0</td>\n",
       "      <td>0</td>\n",
       "      <td>0</td>\n",
       "      <td>0</td>\n",
       "      <td>0</td>\n",
       "      <td>0</td>\n",
       "      <td>0</td>\n",
       "      <td>...</td>\n",
       "      <td>0</td>\n",
       "      <td>0</td>\n",
       "      <td>0</td>\n",
       "      <td>0</td>\n",
       "      <td>0</td>\n",
       "      <td>0</td>\n",
       "      <td>0</td>\n",
       "      <td>0</td>\n",
       "      <td>0</td>\n",
       "      <td>0</td>\n",
       "    </tr>\n",
       "    <tr>\n",
       "      <th>chr_13</th>\n",
       "      <td>0</td>\n",
       "      <td>0</td>\n",
       "      <td>0</td>\n",
       "      <td>0</td>\n",
       "      <td>0</td>\n",
       "      <td>0</td>\n",
       "      <td>0</td>\n",
       "      <td>0</td>\n",
       "      <td>0</td>\n",
       "      <td>0</td>\n",
       "      <td>...</td>\n",
       "      <td>2</td>\n",
       "      <td>0</td>\n",
       "      <td>0</td>\n",
       "      <td>0</td>\n",
       "      <td>0</td>\n",
       "      <td>0</td>\n",
       "      <td>0</td>\n",
       "      <td>0</td>\n",
       "      <td>0</td>\n",
       "      <td>0</td>\n",
       "    </tr>\n",
       "    <tr>\n",
       "      <th>chr_14</th>\n",
       "      <td>0</td>\n",
       "      <td>0</td>\n",
       "      <td>0</td>\n",
       "      <td>0</td>\n",
       "      <td>0</td>\n",
       "      <td>0</td>\n",
       "      <td>0</td>\n",
       "      <td>0</td>\n",
       "      <td>0</td>\n",
       "      <td>0</td>\n",
       "      <td>...</td>\n",
       "      <td>3</td>\n",
       "      <td>0</td>\n",
       "      <td>0</td>\n",
       "      <td>0</td>\n",
       "      <td>0</td>\n",
       "      <td>0</td>\n",
       "      <td>0</td>\n",
       "      <td>0</td>\n",
       "      <td>0</td>\n",
       "      <td>0</td>\n",
       "    </tr>\n",
       "    <tr>\n",
       "      <th>chr_15</th>\n",
       "      <td>0</td>\n",
       "      <td>0</td>\n",
       "      <td>0</td>\n",
       "      <td>0</td>\n",
       "      <td>0</td>\n",
       "      <td>0</td>\n",
       "      <td>0</td>\n",
       "      <td>0</td>\n",
       "      <td>0</td>\n",
       "      <td>0</td>\n",
       "      <td>...</td>\n",
       "      <td>1</td>\n",
       "      <td>1</td>\n",
       "      <td>0</td>\n",
       "      <td>0</td>\n",
       "      <td>0</td>\n",
       "      <td>0</td>\n",
       "      <td>0</td>\n",
       "      <td>0</td>\n",
       "      <td>0</td>\n",
       "      <td>0</td>\n",
       "    </tr>\n",
       "    <tr>\n",
       "      <th>chr_16</th>\n",
       "      <td>0</td>\n",
       "      <td>0</td>\n",
       "      <td>0</td>\n",
       "      <td>0</td>\n",
       "      <td>0</td>\n",
       "      <td>0</td>\n",
       "      <td>0</td>\n",
       "      <td>0</td>\n",
       "      <td>0</td>\n",
       "      <td>1</td>\n",
       "      <td>...</td>\n",
       "      <td>0</td>\n",
       "      <td>2</td>\n",
       "      <td>0</td>\n",
       "      <td>0</td>\n",
       "      <td>2</td>\n",
       "      <td>0</td>\n",
       "      <td>0</td>\n",
       "      <td>0</td>\n",
       "      <td>0</td>\n",
       "      <td>0</td>\n",
       "    </tr>\n",
       "    <tr>\n",
       "      <th>chr_17</th>\n",
       "      <td>0</td>\n",
       "      <td>0</td>\n",
       "      <td>0</td>\n",
       "      <td>0</td>\n",
       "      <td>0</td>\n",
       "      <td>0</td>\n",
       "      <td>0</td>\n",
       "      <td>0</td>\n",
       "      <td>0</td>\n",
       "      <td>0</td>\n",
       "      <td>...</td>\n",
       "      <td>0</td>\n",
       "      <td>0</td>\n",
       "      <td>5</td>\n",
       "      <td>0</td>\n",
       "      <td>0</td>\n",
       "      <td>0</td>\n",
       "      <td>0</td>\n",
       "      <td>0</td>\n",
       "      <td>0</td>\n",
       "      <td>0</td>\n",
       "    </tr>\n",
       "    <tr>\n",
       "      <th>chr_18</th>\n",
       "      <td>0</td>\n",
       "      <td>0</td>\n",
       "      <td>0</td>\n",
       "      <td>0</td>\n",
       "      <td>0</td>\n",
       "      <td>0</td>\n",
       "      <td>0</td>\n",
       "      <td>0</td>\n",
       "      <td>0</td>\n",
       "      <td>0</td>\n",
       "      <td>...</td>\n",
       "      <td>0</td>\n",
       "      <td>0</td>\n",
       "      <td>0</td>\n",
       "      <td>5</td>\n",
       "      <td>0</td>\n",
       "      <td>0</td>\n",
       "      <td>0</td>\n",
       "      <td>0</td>\n",
       "      <td>0</td>\n",
       "      <td>0</td>\n",
       "    </tr>\n",
       "    <tr>\n",
       "      <th>chr_19</th>\n",
       "      <td>0</td>\n",
       "      <td>0</td>\n",
       "      <td>0</td>\n",
       "      <td>0</td>\n",
       "      <td>0</td>\n",
       "      <td>0</td>\n",
       "      <td>0</td>\n",
       "      <td>0</td>\n",
       "      <td>0</td>\n",
       "      <td>0</td>\n",
       "      <td>...</td>\n",
       "      <td>0</td>\n",
       "      <td>0</td>\n",
       "      <td>0</td>\n",
       "      <td>0</td>\n",
       "      <td>5</td>\n",
       "      <td>0</td>\n",
       "      <td>0</td>\n",
       "      <td>0</td>\n",
       "      <td>0</td>\n",
       "      <td>0</td>\n",
       "    </tr>\n",
       "    <tr>\n",
       "      <th>chr_20</th>\n",
       "      <td>0</td>\n",
       "      <td>0</td>\n",
       "      <td>0</td>\n",
       "      <td>0</td>\n",
       "      <td>0</td>\n",
       "      <td>0</td>\n",
       "      <td>0</td>\n",
       "      <td>0</td>\n",
       "      <td>0</td>\n",
       "      <td>0</td>\n",
       "      <td>...</td>\n",
       "      <td>0</td>\n",
       "      <td>0</td>\n",
       "      <td>0</td>\n",
       "      <td>0</td>\n",
       "      <td>0</td>\n",
       "      <td>5</td>\n",
       "      <td>0</td>\n",
       "      <td>0</td>\n",
       "      <td>0</td>\n",
       "      <td>0</td>\n",
       "    </tr>\n",
       "    <tr>\n",
       "      <th>chr_21</th>\n",
       "      <td>0</td>\n",
       "      <td>0</td>\n",
       "      <td>0</td>\n",
       "      <td>0</td>\n",
       "      <td>0</td>\n",
       "      <td>0</td>\n",
       "      <td>0</td>\n",
       "      <td>0</td>\n",
       "      <td>0</td>\n",
       "      <td>0</td>\n",
       "      <td>...</td>\n",
       "      <td>0</td>\n",
       "      <td>0</td>\n",
       "      <td>0</td>\n",
       "      <td>0</td>\n",
       "      <td>0</td>\n",
       "      <td>0</td>\n",
       "      <td>4</td>\n",
       "      <td>1</td>\n",
       "      <td>0</td>\n",
       "      <td>0</td>\n",
       "    </tr>\n",
       "    <tr>\n",
       "      <th>chr_22</th>\n",
       "      <td>0</td>\n",
       "      <td>0</td>\n",
       "      <td>0</td>\n",
       "      <td>0</td>\n",
       "      <td>0</td>\n",
       "      <td>0</td>\n",
       "      <td>0</td>\n",
       "      <td>0</td>\n",
       "      <td>0</td>\n",
       "      <td>0</td>\n",
       "      <td>...</td>\n",
       "      <td>0</td>\n",
       "      <td>0</td>\n",
       "      <td>0</td>\n",
       "      <td>0</td>\n",
       "      <td>0</td>\n",
       "      <td>0</td>\n",
       "      <td>4</td>\n",
       "      <td>1</td>\n",
       "      <td>0</td>\n",
       "      <td>0</td>\n",
       "    </tr>\n",
       "    <tr>\n",
       "      <th>chr_x</th>\n",
       "      <td>0</td>\n",
       "      <td>0</td>\n",
       "      <td>0</td>\n",
       "      <td>0</td>\n",
       "      <td>0</td>\n",
       "      <td>0</td>\n",
       "      <td>2</td>\n",
       "      <td>0</td>\n",
       "      <td>1</td>\n",
       "      <td>0</td>\n",
       "      <td>...</td>\n",
       "      <td>0</td>\n",
       "      <td>0</td>\n",
       "      <td>0</td>\n",
       "      <td>0</td>\n",
       "      <td>0</td>\n",
       "      <td>0</td>\n",
       "      <td>0</td>\n",
       "      <td>0</td>\n",
       "      <td>1</td>\n",
       "      <td>0</td>\n",
       "    </tr>\n",
       "    <tr>\n",
       "      <th>chr_y</th>\n",
       "      <td>0</td>\n",
       "      <td>0</td>\n",
       "      <td>0</td>\n",
       "      <td>0</td>\n",
       "      <td>0</td>\n",
       "      <td>0</td>\n",
       "      <td>0</td>\n",
       "      <td>0</td>\n",
       "      <td>0</td>\n",
       "      <td>0</td>\n",
       "      <td>...</td>\n",
       "      <td>0</td>\n",
       "      <td>0</td>\n",
       "      <td>0</td>\n",
       "      <td>0</td>\n",
       "      <td>1</td>\n",
       "      <td>0</td>\n",
       "      <td>0</td>\n",
       "      <td>0</td>\n",
       "      <td>0</td>\n",
       "      <td>0</td>\n",
       "    </tr>\n",
       "  </tbody>\n",
       "</table>\n",
       "<p>24 rows × 24 columns</p>\n",
       "</div>"
      ],
      "text/plain": [
       "        Predictive chr_01  Predictive chr_02  Predictive chr_03  \\\n",
       "chr_01                  5                  0                  0   \n",
       "chr_02                  0                  3                  0   \n",
       "chr_03                  0                  0                  4   \n",
       "chr_04                  0                  0                  0   \n",
       "chr_05                  0                  0                  0   \n",
       "chr_06                  0                  0                  0   \n",
       "chr_07                  0                  0                  0   \n",
       "chr_08                  0                  0                  0   \n",
       "chr_09                  0                  0                  0   \n",
       "chr_10                  0                  0                  0   \n",
       "chr_11                  0                  0                  0   \n",
       "chr_12                  0                  0                  0   \n",
       "chr_13                  0                  0                  0   \n",
       "chr_14                  0                  0                  0   \n",
       "chr_15                  0                  0                  0   \n",
       "chr_16                  0                  0                  0   \n",
       "chr_17                  0                  0                  0   \n",
       "chr_18                  0                  0                  0   \n",
       "chr_19                  0                  0                  0   \n",
       "chr_20                  0                  0                  0   \n",
       "chr_21                  0                  0                  0   \n",
       "chr_22                  0                  0                  0   \n",
       "chr_x                   0                  0                  0   \n",
       "chr_y                   0                  0                  0   \n",
       "\n",
       "        Predictive chr_04  Predictive chr_05  Predictive chr_06  \\\n",
       "chr_01                  0                  0                  0   \n",
       "chr_02                  0                  0                  0   \n",
       "chr_03                  0                  0                  0   \n",
       "chr_04                  4                  1                  0   \n",
       "chr_05                  1                  4                  0   \n",
       "chr_06                  0                  0                  5   \n",
       "chr_07                  0                  0                  0   \n",
       "chr_08                  0                  0                  0   \n",
       "chr_09                  0                  0                  0   \n",
       "chr_10                  0                  1                  0   \n",
       "chr_11                  0                  0                  0   \n",
       "chr_12                  0                  0                  0   \n",
       "chr_13                  0                  0                  0   \n",
       "chr_14                  0                  0                  0   \n",
       "chr_15                  0                  0                  0   \n",
       "chr_16                  0                  0                  0   \n",
       "chr_17                  0                  0                  0   \n",
       "chr_18                  0                  0                  0   \n",
       "chr_19                  0                  0                  0   \n",
       "chr_20                  0                  0                  0   \n",
       "chr_21                  0                  0                  0   \n",
       "chr_22                  0                  0                  0   \n",
       "chr_x                   0                  0                  0   \n",
       "chr_y                   0                  0                  0   \n",
       "\n",
       "        Predictive chr_07  Predictive chr_08  Predictive chr_09  \\\n",
       "chr_01                  0                  0                  0   \n",
       "chr_02                  2                  0                  0   \n",
       "chr_03                  0                  0                  0   \n",
       "chr_04                  0                  0                  0   \n",
       "chr_05                  0                  0                  0   \n",
       "chr_06                  0                  0                  0   \n",
       "chr_07                  5                  0                  0   \n",
       "chr_08                  0                  5                  0   \n",
       "chr_09                  1                  0                  3   \n",
       "chr_10                  0                  0                  0   \n",
       "chr_11                  0                  0                  0   \n",
       "chr_12                  0                  0                  0   \n",
       "chr_13                  0                  0                  0   \n",
       "chr_14                  0                  0                  0   \n",
       "chr_15                  0                  0                  0   \n",
       "chr_16                  0                  0                  0   \n",
       "chr_17                  0                  0                  0   \n",
       "chr_18                  0                  0                  0   \n",
       "chr_19                  0                  0                  0   \n",
       "chr_20                  0                  0                  0   \n",
       "chr_21                  0                  0                  0   \n",
       "chr_22                  0                  0                  0   \n",
       "chr_x                   2                  0                  1   \n",
       "chr_y                   0                  0                  0   \n",
       "\n",
       "        Predictive chr_10        ...         Predictive chr_15  \\\n",
       "chr_01                  0        ...                         0   \n",
       "chr_02                  0        ...                         0   \n",
       "chr_03                  0        ...                         0   \n",
       "chr_04                  0        ...                         0   \n",
       "chr_05                  0        ...                         0   \n",
       "chr_06                  0        ...                         0   \n",
       "chr_07                  0        ...                         0   \n",
       "chr_08                  0        ...                         0   \n",
       "chr_09                  0        ...                         0   \n",
       "chr_10                  3        ...                         0   \n",
       "chr_11                  0        ...                         0   \n",
       "chr_12                  0        ...                         0   \n",
       "chr_13                  0        ...                         2   \n",
       "chr_14                  0        ...                         3   \n",
       "chr_15                  0        ...                         1   \n",
       "chr_16                  1        ...                         0   \n",
       "chr_17                  0        ...                         0   \n",
       "chr_18                  0        ...                         0   \n",
       "chr_19                  0        ...                         0   \n",
       "chr_20                  0        ...                         0   \n",
       "chr_21                  0        ...                         0   \n",
       "chr_22                  0        ...                         0   \n",
       "chr_x                   0        ...                         0   \n",
       "chr_y                   0        ...                         0   \n",
       "\n",
       "        Predictive chr_16  Predictive chr_17  Predictive chr_18  \\\n",
       "chr_01                  0                  0                  0   \n",
       "chr_02                  0                  0                  0   \n",
       "chr_03                  0                  0                  0   \n",
       "chr_04                  0                  0                  0   \n",
       "chr_05                  0                  0                  0   \n",
       "chr_06                  0                  0                  0   \n",
       "chr_07                  0                  0                  0   \n",
       "chr_08                  0                  0                  0   \n",
       "chr_09                  0                  0                  0   \n",
       "chr_10                  1                  0                  0   \n",
       "chr_11                  0                  0                  0   \n",
       "chr_12                  0                  0                  0   \n",
       "chr_13                  0                  0                  0   \n",
       "chr_14                  0                  0                  0   \n",
       "chr_15                  1                  0                  0   \n",
       "chr_16                  2                  0                  0   \n",
       "chr_17                  0                  5                  0   \n",
       "chr_18                  0                  0                  5   \n",
       "chr_19                  0                  0                  0   \n",
       "chr_20                  0                  0                  0   \n",
       "chr_21                  0                  0                  0   \n",
       "chr_22                  0                  0                  0   \n",
       "chr_x                   0                  0                  0   \n",
       "chr_y                   0                  0                  0   \n",
       "\n",
       "        Predictive chr_19  Predictive chr_20  Predictive chr_21  \\\n",
       "chr_01                  0                  0                  0   \n",
       "chr_02                  0                  0                  0   \n",
       "chr_03                  0                  0                  0   \n",
       "chr_04                  0                  0                  0   \n",
       "chr_05                  0                  0                  0   \n",
       "chr_06                  0                  0                  0   \n",
       "chr_07                  0                  0                  0   \n",
       "chr_08                  0                  0                  0   \n",
       "chr_09                  0                  0                  0   \n",
       "chr_10                  0                  0                  0   \n",
       "chr_11                  0                  0                  0   \n",
       "chr_12                  0                  0                  0   \n",
       "chr_13                  0                  0                  0   \n",
       "chr_14                  0                  0                  0   \n",
       "chr_15                  0                  0                  0   \n",
       "chr_16                  2                  0                  0   \n",
       "chr_17                  0                  0                  0   \n",
       "chr_18                  0                  0                  0   \n",
       "chr_19                  5                  0                  0   \n",
       "chr_20                  0                  5                  0   \n",
       "chr_21                  0                  0                  4   \n",
       "chr_22                  0                  0                  4   \n",
       "chr_x                   0                  0                  0   \n",
       "chr_y                   1                  0                  0   \n",
       "\n",
       "        Predictive chr_22  Predictive chr_x  Predictive chr_y  \n",
       "chr_01                  0                 0                 0  \n",
       "chr_02                  0                 0                 0  \n",
       "chr_03                  0                 0                 0  \n",
       "chr_04                  0                 0                 0  \n",
       "chr_05                  0                 0                 0  \n",
       "chr_06                  0                 0                 0  \n",
       "chr_07                  0                 0                 0  \n",
       "chr_08                  0                 0                 0  \n",
       "chr_09                  0                 0                 0  \n",
       "chr_10                  0                 0                 0  \n",
       "chr_11                  0                 0                 0  \n",
       "chr_12                  0                 0                 0  \n",
       "chr_13                  0                 0                 0  \n",
       "chr_14                  0                 0                 0  \n",
       "chr_15                  0                 0                 0  \n",
       "chr_16                  0                 0                 0  \n",
       "chr_17                  0                 0                 0  \n",
       "chr_18                  0                 0                 0  \n",
       "chr_19                  0                 0                 0  \n",
       "chr_20                  0                 0                 0  \n",
       "chr_21                  1                 0                 0  \n",
       "chr_22                  1                 0                 0  \n",
       "chr_x                   0                 1                 0  \n",
       "chr_y                   0                 0                 0  \n",
       "\n",
       "[24 rows x 24 columns]"
      ]
     },
     "execution_count": 27,
     "metadata": {},
     "output_type": "execute_result"
    }
   ],
   "source": [
    "cm = np.array(confusion_matrix(y_test, y_predict, labels=['chr_01', 'chr_02', 'chr_03', 'chr_04', 'chr_05', \n",
    "                                    'chr_06', 'chr_07', 'chr_08', 'chr_09', 'chr_10', \n",
    "                                    'chr_11', 'chr_12', 'chr_13', 'chr_14', 'chr_15', \n",
    "                                    'chr_16', 'chr_17', 'chr_18', 'chr_19', 'chr_20', \n",
    "                                    'chr_21', 'chr_22', 'chr_x', 'chr_y' ]))\n",
    "confusion = pd.DataFrame(cm, index=['chr_01', 'chr_02', 'chr_03', 'chr_04', 'chr_05', \n",
    "                                    'chr_06', 'chr_07', 'chr_08', 'chr_09', 'chr_10', \n",
    "                                    'chr_11', 'chr_12', 'chr_13', 'chr_14', 'chr_15', \n",
    "                                    'chr_16', 'chr_17', 'chr_18', 'chr_19', 'chr_20', \n",
    "                                    'chr_21', 'chr_22', 'chr_x', 'chr_y' ],\n",
    "                        columns=['Predictive chr_01', 'Predictive chr_02', 'Predictive chr_03', 'Predictive chr_04', 'Predictive chr_05', \n",
    "                                    'Predictive chr_06', 'Predictive chr_07', 'Predictive chr_08', 'Predictive chr_09', 'Predictive chr_10', \n",
    "                                    'Predictive chr_11', 'Predictive chr_12', 'Predictive chr_13', 'Predictive chr_14', 'Predictive chr_15', \n",
    "                                    'Predictive chr_16', 'Predictive chr_17', 'Predictive chr_18', 'Predictive chr_19', 'Predictive chr_20', \n",
    "                                    'Predictive chr_21', 'Predictive chr_22', 'Predictive chr_x', 'Predictive chr_y' ],)\n",
    "confusion"
   ]
  },
  {
   "cell_type": "code",
   "execution_count": 28,
   "metadata": {
    "slideshow": {
     "slide_type": "slide"
    }
   },
   "outputs": [
    {
     "name": "stdout",
     "output_type": "stream",
     "text": [
      "             precision    recall  f1-score   support\n",
      "\n",
      "     chr_01       1.00      1.00      1.00         5\n",
      "     chr_02       1.00      0.60      0.75         5\n",
      "     chr_03       1.00      1.00      1.00         4\n",
      "     chr_04       0.80      0.80      0.80         5\n",
      "     chr_05       0.67      0.80      0.73         5\n",
      "     chr_06       1.00      1.00      1.00         5\n",
      "     chr_07       0.50      1.00      0.67         5\n",
      "     chr_08       1.00      1.00      1.00         5\n",
      "     chr_09       0.75      0.60      0.67         5\n",
      "     chr_10       0.75      0.60      0.67         5\n",
      "     chr_11       0.83      1.00      0.91         5\n",
      "     chr_12       1.00      1.00      1.00         5\n",
      "     chr_13       1.00      0.40      0.57         5\n",
      "     chr_14       0.33      0.40      0.36         5\n",
      "     chr_15       0.17      0.20      0.18         5\n",
      "     chr_16       0.50      0.40      0.44         5\n",
      "     chr_17       1.00      1.00      1.00         5\n",
      "     chr_18       1.00      1.00      1.00         5\n",
      "     chr_19       0.62      1.00      0.77         5\n",
      "     chr_20       1.00      1.00      1.00         5\n",
      "     chr_21       0.50      0.80      0.62         5\n",
      "     chr_22       0.50      0.20      0.29         5\n",
      "      chr_x       1.00      0.25      0.40         4\n",
      "      chr_y       0.00      0.00      0.00         1\n",
      "\n",
      "avg / total       0.77      0.74      0.73       114\n",
      "\n"
     ]
    },
    {
     "name": "stderr",
     "output_type": "stream",
     "text": [
      "C:\\Anaconda3\\lib\\site-packages\\sklearn\\metrics\\classification.py:1135: UndefinedMetricWarning: Precision and F-score are ill-defined and being set to 0.0 in labels with no predicted samples.\n",
      "  'precision', 'predicted', average, warn_for)\n"
     ]
    }
   ],
   "source": [
    "print(classification_report(y_test, y_predict))"
   ]
  },
  {
   "cell_type": "markdown",
   "metadata": {
    "slideshow": {
     "slide_type": "slide"
    }
   },
   "source": [
    "## Save the Model"
   ]
  },
  {
   "cell_type": "code",
   "execution_count": 29,
   "metadata": {
    "slideshow": {
     "slide_type": "-"
    }
   },
   "outputs": [
    {
     "name": "stdout",
     "output_type": "stream",
     "text": [
      "['trained_model.m']\n"
     ]
    }
   ],
   "source": [
    "c = joblib.dump(clf, 'trained_model.m')\n",
    "print(c)"
   ]
  },
  {
   "cell_type": "markdown",
   "metadata": {
    "slideshow": {
     "slide_type": "slide"
    }
   },
   "source": [
    "## Load the Model"
   ]
  },
  {
   "cell_type": "code",
   "execution_count": 30,
   "metadata": {
    "slideshow": {
     "slide_type": "-"
    }
   },
   "outputs": [
    {
     "name": "stdout",
     "output_type": "stream",
     "text": [
      "SVC(C=1.0, cache_size=200, class_weight=None, coef0=0.0,\n",
      "  decision_function_shape='ovo', degree=3, gamma='auto', kernel='linear',\n",
      "  max_iter=-1, probability=False, random_state=None, shrinking=True,\n",
      "  tol=0.001, verbose=False)\n"
     ]
    }
   ],
   "source": [
    "d = joblib.load('trained_model.m')\n",
    "print(d)"
   ]
  }
 ],
 "metadata": {
  "celltoolbar": "Slideshow",
  "kernelspec": {
   "display_name": "Python 3",
   "language": "python",
   "name": "python3"
  },
  "language_info": {
   "codemirror_mode": {
    "name": "ipython",
    "version": 3
   },
   "file_extension": ".py",
   "mimetype": "text/x-python",
   "name": "python",
   "nbconvert_exporter": "python",
   "pygments_lexer": "ipython3",
   "version": "3.7.0"
  }
 },
 "nbformat": 4,
 "nbformat_minor": 2
}
