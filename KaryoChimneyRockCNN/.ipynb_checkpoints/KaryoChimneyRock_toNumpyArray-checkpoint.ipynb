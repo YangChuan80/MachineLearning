{
 "cells": [
  {
   "cell_type": "markdown",
   "metadata": {
    "id": "slIdjqTJhM8B"
   },
   "source": [
    "# A Semi-automatic Classification of Normal Karyotypes using Convolutional Neural Network Algorithm"
   ]
  },
  {
   "cell_type": "markdown",
   "metadata": {
    "id": "aBT9lgVVhM8D"
   },
   "source": [
    "- **Chuan Yang**, MD, PhD Student\n",
    "- Mentor: **Yanyan Zhao**, MD, PhD\n",
    "- Shengjing Hospital of China Medical University"
   ]
  },
  {
   "cell_type": "markdown",
   "metadata": {
    "id": "xrnbxOZChM8E"
   },
   "source": [
    "## Modules"
   ]
  },
  {
   "cell_type": "code",
   "execution_count": 1,
   "metadata": {
    "id": "aKjA8v4hhM8E"
   },
   "outputs": [],
   "source": [
    "from PIL import Image\n",
    "import numpy as np\n",
    "import pandas as pd\n",
    "import matplotlib.pyplot as plt\n",
    "\n",
    "import seaborn as sb\n",
    "\n",
    "from sklearn.metrics import classification_report, confusion_matrix\n",
    "\n",
    "from tensorflow.keras import Sequential\n",
    "from tensorflow.keras.layers import Dense, Conv2D, MaxPooling2D, Flatten\n",
    "from tensorflow import keras\n",
    "\n",
    "from os import walk\n",
    "\n",
    "import time\n",
    "import datetime\n",
    "\n",
    "%matplotlib inline"
   ]
  },
  {
   "cell_type": "markdown",
   "metadata": {
    "id": "2KFSsnYohM8H"
   },
   "source": [
    "## Samples\n"
   ]
  },
  {
   "cell_type": "markdown",
   "metadata": {
    "id": "NexNYXEi6eSy"
   },
   "source": [
    "## Chormosome Label Convert"
   ]
  },
  {
   "cell_type": "code",
   "execution_count": null,
   "metadata": {
    "id": "lvJ-gwnt6eSz"
   },
   "outputs": [],
   "source": [
    "chromConvert = {'chr_01': 1, \n",
    "               'chr_02': 2, \n",
    "               'chr_03': 3, \n",
    "               'chr_04': 4, \n",
    "               'chr_05': 5, \n",
    "               'chr_06': 6, \n",
    "               'chr_07': 7, \n",
    "               'chr_08': 8, \n",
    "               'chr_09': 9, \n",
    "               'chr_10': 10, \n",
    "               'chr_11': 11, \n",
    "               'chr_12': 12, \n",
    "               'chr_13': 13, \n",
    "               'chr_14': 14, \n",
    "               'chr_15': 15, \n",
    "               'chr_16': 16, \n",
    "               'chr_17': 17, \n",
    "               'chr_18': 18, \n",
    "               'chr_19': 19, \n",
    "               'chr_20': 20, \n",
    "               'chr_21': 21, \n",
    "               'chr_22': 22, \n",
    "               'chr_x': 0, \n",
    "               'chr_y': 23, \n",
    "                'chr_18_p11_deletion': 24,\n",
    "                'chr_18_q10_isochromosome': 25,\n",
    "                'chr_9_inversion': 26,\n",
    "                'chr_5_p14_deletion': 27,\n",
    "                'chr_x_isochromosome': 28,\n",
    "                'chr_x_p22_cnv': 29, \n",
    "                'chr_x_q21_cnv': 30,\n",
    "                'chr_x_q22_deletion': 31\n",
    "               }"
   ]
  },
  {
   "cell_type": "markdown",
   "metadata": {
    "id": "ZYh82e9P6eS1"
   },
   "source": [
    "## File Import"
   ]
  },
  {
   "cell_type": "code",
   "execution_count": null,
   "metadata": {
    "id": "8YcabYh2hM8I"
   },
   "outputs": [],
   "source": [
    "pathBase = 'C:\\\\Users\\\\Chuan\\\\OneDrive\\\\Dowrun\\\\Database\\\\PhD\\\\KaryoTypes\\\\Arrangement\\\\'\n",
    "theWhole = {}\n",
    "\n",
    "\n",
    "f = []\n",
    "f_01 = []\n",
    "mypath_01 = pathBase + 'chr_01'\n",
    "for (dirpath, dirnames, filenames) in walk(mypath_01):\n",
    "    f.extend(filenames)\n",
    "for l in f:\n",
    "    f_01.append(mypath_01 + '\\\\' + l) \n",
    "        \n",
    "f = []\n",
    "f_02 = []\n",
    "mypath_02 = pathBase + 'chr_02'\n",
    "for (dirpath, dirnames, filenames) in walk(mypath_02):\n",
    "    f.extend(filenames)\n",
    "for l in f:\n",
    "    f_02.append(mypath_02 + '\\\\' + l)    \n",
    "        \n",
    "f = []\n",
    "f_03 = []\n",
    "mypath_03 = pathBase + 'chr_03'\n",
    "for (dirpath, dirnames, filenames) in walk(mypath_03):\n",
    "    f.extend(filenames)\n",
    "for l in f:\n",
    "    f_03.append(mypath_03 + '\\\\' + l)    \n",
    "        \n",
    "f = []\n",
    "f_04 = []\n",
    "mypath_04 = pathBase + 'chr_04'\n",
    "for (dirpath, dirnames, filenames) in walk(mypath_04):\n",
    "    f.extend(filenames)\n",
    "for l in f:\n",
    "    f_04.append(mypath_04 + '\\\\' + l)    \n",
    "        \n",
    "f = []\n",
    "f_05 = []\n",
    "mypath_05 = pathBase + 'chr_05'\n",
    "for (dirpath, dirnames, filenames) in walk(mypath_05):\n",
    "    f.extend(filenames)\n",
    "for l in f:\n",
    "    f_05.append(mypath_05 + '\\\\' + l)    \n",
    "        \n",
    "f = []\n",
    "f_06 = []\n",
    "mypath_06 = pathBase + 'chr_06'\n",
    "for (dirpath, dirnames, filenames) in walk(mypath_06):\n",
    "    f.extend(filenames)\n",
    "for l in f:\n",
    "    f_06.append(mypath_06 + '\\\\' + l)    \n",
    "    \n",
    "f = []\n",
    "f_07 = []\n",
    "mypath_07 = pathBase + 'chr_07'\n",
    "for (dirpath, dirnames, filenames) in walk(mypath_07):\n",
    "    f.extend(filenames)\n",
    "for l in f:\n",
    "    f_07.append(mypath_07 + '\\\\' + l)    \n",
    "        \n",
    "f = []\n",
    "f_08 = []\n",
    "mypath_08 = pathBase + 'chr_08'\n",
    "for (dirpath, dirnames, filenames) in walk(mypath_08):\n",
    "    f.extend(filenames)\n",
    "for l in f:\n",
    "    f_08.append(mypath_08 + '\\\\' + l)    \n",
    "        \n",
    "f = []\n",
    "f_09 = []\n",
    "mypath_09 = pathBase + 'chr_09'\n",
    "for (dirpath, dirnames, filenames) in walk(mypath_09):\n",
    "    f.extend(filenames)\n",
    "for l in f:\n",
    "    f_09.append(mypath_09 + '\\\\' + l)    \n",
    "    \n",
    "f = []\n",
    "f_10 = []\n",
    "mypath_10 = pathBase + 'chr_10'\n",
    "for (dirpath, dirnames, filenames) in walk(mypath_10):\n",
    "    f.extend(filenames)\n",
    "for l in f:\n",
    "    f_10.append(mypath_10 + '\\\\' + l)    \n",
    "    \n",
    "f = []\n",
    "f_11 = []\n",
    "mypath_11 = pathBase + 'chr_11'\n",
    "for (dirpath, dirnames, filenames) in walk(mypath_11):\n",
    "    f.extend(filenames)\n",
    "for l in f:\n",
    "    f_11.append(mypath_11 + '\\\\' + l)    \n",
    "    \n",
    "    \n",
    "f = []\n",
    "f_12 = []\n",
    "mypath_12 = pathBase + 'chr_12'\n",
    "for (dirpath, dirnames, filenames) in walk(mypath_12):\n",
    "    f.extend(filenames)\n",
    "for l in f:\n",
    "    f_12.append(mypath_12 + '\\\\' + l)    \n",
    "    \n",
    "    \n",
    "f = []\n",
    "f_13 = []\n",
    "mypath_13 = pathBase + 'chr_13'\n",
    "for (dirpath, dirnames, filenames) in walk(mypath_13):\n",
    "    f.extend(filenames)\n",
    "for l in f:\n",
    "    f_13.append(mypath_13 + '\\\\' + l)    \n",
    "    \n",
    "    \n",
    "f = []\n",
    "f_14 = []\n",
    "mypath_14 = pathBase + 'chr_14'\n",
    "for (dirpath, dirnames, filenames) in walk(mypath_14):\n",
    "    f.extend(filenames)\n",
    "for l in f:\n",
    "    f_14.append(mypath_14 + '\\\\' + l)    \n",
    "    \n",
    "\n",
    "    \n",
    "f = []\n",
    "f_15 = []\n",
    "mypath_15 = pathBase + 'chr_15'\n",
    "for (dirpath, dirnames, filenames) in walk(mypath_15):\n",
    "    f.extend(filenames)\n",
    "for l in f:\n",
    "    f_15.append(mypath_15 + '\\\\' + l)    \n",
    "    \n",
    "        \n",
    "f = []\n",
    "f_16 = []\n",
    "mypath_16 = pathBase + 'chr_16'\n",
    "for (dirpath, dirnames, filenames) in walk(mypath_16):\n",
    "    f.extend(filenames)\n",
    "for l in f:\n",
    "    f_16.append(mypath_16 + '\\\\' + l)    \n",
    "    \n",
    "        \n",
    "f = []\n",
    "f_17 = []\n",
    "mypath_17 = pathBase + 'chr_17'\n",
    "for (dirpath, dirnames, filenames) in walk(mypath_17):\n",
    "    f.extend(filenames)\n",
    "for l in f:\n",
    "    f_17.append(mypath_17 + '\\\\' + l)    \n",
    "    \n",
    "        \n",
    "f = []\n",
    "f_18 = []\n",
    "mypath_18 = pathBase + 'chr_18'\n",
    "for (dirpath, dirnames, filenames) in walk(mypath_18):\n",
    "    f.extend(filenames)\n",
    "for l in f:\n",
    "    f_18.append(mypath_18 + '\\\\' + l)    \n",
    "    \n",
    "        \n",
    "f = []\n",
    "f_19 = []\n",
    "mypath_19 = pathBase + 'chr_19'\n",
    "for (dirpath, dirnames, filenames) in walk(mypath_19):\n",
    "    f.extend(filenames)\n",
    "for l in f:\n",
    "    f_19.append(mypath_19 + '\\\\' + l)    \n",
    "    \n",
    "        \n",
    "f = []\n",
    "f_20 = []\n",
    "mypath_20 = pathBase + 'chr_20'\n",
    "for (dirpath, dirnames, filenames) in walk(mypath_20):\n",
    "    f.extend(filenames)\n",
    "for l in f:\n",
    "    f_20.append(mypath_20 + '\\\\' + l)    \n",
    "   \n",
    "        \n",
    "f = []\n",
    "f_21 = []\n",
    "mypath_21 = pathBase + 'chr_21'\n",
    "for (dirpath, dirnames, filenames) in walk(mypath_21):\n",
    "    f.extend(filenames)\n",
    "for l in f:\n",
    "    f_21.append(mypath_21 + '\\\\' + l)    \n",
    "   \n",
    "        \n",
    "f = []\n",
    "f_22 = []\n",
    "mypath_22 = pathBase + 'chr_22'\n",
    "for (dirpath, dirnames, filenames) in walk(mypath_22):\n",
    "    f.extend(filenames)\n",
    "for l in f:\n",
    "    f_22.append(mypath_22 + '\\\\' + l)    \n",
    "   \n",
    "f = []\n",
    "f_x = []\n",
    "mypath_x = pathBase + 'chr_x'\n",
    "for (dirpath, dirnames, filenames) in walk(mypath_x):\n",
    "    f.extend(filenames)\n",
    "for l in f:\n",
    "    f_x.append(mypath_x + '\\\\' + l)    \n",
    "   \n",
    "f = []\n",
    "f_y = []\n",
    "mypath_y = pathBase + 'chr_y'\n",
    "for (dirpath, dirnames, filenames) in walk(mypath_y):\n",
    "    f.extend(filenames)\n",
    "for l in f:\n",
    "    f_y.append(mypath_y + '\\\\' + l)  \n",
    "    \n",
    "# ///////// Abnormal ones //////////////\n",
    "\n",
    "f = []\n",
    "f_18_p11_deletion = []\n",
    "mypath_18_p11_deletion = pathBase + 'chr_18_p11_deletion'\n",
    "for (dirpath, dirnames, filenames) in walk(mypath_18_p11_deletion):\n",
    "    f.extend(filenames)\n",
    "for l in f:\n",
    "    f_18_p11_deletion.append(mypath_18_p11_deletion + '\\\\' + l)  \n",
    "\n",
    "\n",
    "f = []\n",
    "f_18_q10_isochromosome = []\n",
    "mypath_18_q10_isochromosome = pathBase + 'chr_18_q10_isochromosome'\n",
    "for (dirpath, dirnames, filenames) in walk(mypath_18_q10_isochromosome):\n",
    "    f.extend(filenames)\n",
    "for l in f:\n",
    "    f_18_q10_isochromosome.append(mypath_18_q10_isochromosome + '\\\\' + l)  \n",
    "    \n",
    "# ///////// Abnormal ones //////////////\n",
    "\n",
    "f = []\n",
    "f_9_inversion = []\n",
    "mypath_9_inversion = pathBase + 'chr_9_inversion'\n",
    "for (dirpath, dirnames, filenames) in walk(mypath_9_inversion):\n",
    "    f.extend(filenames)\n",
    "for l in f:\n",
    "    f_9_inversion.append(mypath_9_inversion + '\\\\' + l)  \n",
    "    \n",
    "\n",
    "f = []\n",
    "f_5_p14_deletion = []\n",
    "mypath_5_p14_deletion = pathBase + 'chr_5_p14_deletion'\n",
    "for (dirpath, dirnames, filenames) in walk(mypath_5_p14_deletion):\n",
    "    f.extend(filenames)\n",
    "for l in f:\n",
    "    f_5_p14_deletion.append(mypath_5_p14_deletion + '\\\\' + l)  \n",
    "    \n",
    "\n",
    "f = []\n",
    "f_x_isochromosome = []\n",
    "mypath_x_isochromosome = pathBase + 'chr_x_isochromosome'\n",
    "for (dirpath, dirnames, filenames) in walk(mypath_x_isochromosome):\n",
    "    f.extend(filenames)\n",
    "for l in f:\n",
    "    f_x_isochromosome.append(mypath_x_isochromosome + '\\\\' + l)  \n",
    "    \n",
    "    \n",
    "f = []\n",
    "f_x_p22_cnv = []\n",
    "mypath_x_p22_cnv = pathBase + 'chr_x_p22_cnv'\n",
    "for (dirpath, dirnames, filenames) in walk(mypath_x_p22_cnv):\n",
    "    f.extend(filenames)\n",
    "for l in f:\n",
    "    f_x_p22_cnv.append(mypath_x_p22_cnv + '\\\\' + l)\n",
    "    \n",
    "    \n",
    "f = []\n",
    "f_x_q21_cnv = []\n",
    "mypath_x_q21_cnv = pathBase + 'chr_x_q21_cnv'\n",
    "for (dirpath, dirnames, filenames) in walk(mypath_x_q21_cnv):\n",
    "    f.extend(filenames)\n",
    "for l in f:\n",
    "    f_x_q21_cnv.append(mypath_x_q21_cnv + '\\\\' + l)  \n",
    "    \n",
    "    \n",
    "f = []\n",
    "f_x_q22_deletion = []\n",
    "mypath_x_q22_deletion = pathBase + 'chr_x_q22_deletion'\n",
    "for (dirpath, dirnames, filenames) in walk(mypath_x_q22_deletion):\n",
    "    f.extend(filenames)\n",
    "for l in f:\n",
    "    f_x_q22_deletion.append(mypath_x_q22_deletion + '\\\\' + l)      \n",
    "\n",
    "    \n",
    "theWhole['chr_01'] = f_01\n",
    "theWhole['chr_02'] = f_02\n",
    "theWhole['chr_03'] = f_03\n",
    "theWhole['chr_04'] = f_04\n",
    "theWhole['chr_05'] = f_05\n",
    "theWhole['chr_06'] = f_06\n",
    "theWhole['chr_07'] = f_07\n",
    "theWhole['chr_08'] = f_08\n",
    "theWhole['chr_09'] = f_09\n",
    "theWhole['chr_10'] = f_10\n",
    "theWhole['chr_11'] = f_11\n",
    "theWhole['chr_12'] = f_12\n",
    "theWhole['chr_13'] = f_13\n",
    "theWhole['chr_14'] = f_14\n",
    "theWhole['chr_15'] = f_15\n",
    "theWhole['chr_16'] = f_16\n",
    "theWhole['chr_17'] = f_17\n",
    "theWhole['chr_18'] = f_18\n",
    "theWhole['chr_19'] = f_19\n",
    "theWhole['chr_20'] = f_20\n",
    "theWhole['chr_21'] = f_21\n",
    "theWhole['chr_22'] = f_22\n",
    "theWhole['chr_x'] = f_x\n",
    "theWhole['chr_y'] = f_y\n",
    "\n",
    "theWhole['chr_18_p11_deletion'] = f_18_p11_deletion\n",
    "theWhole['chr_18_q10_isochromosome'] = f_18_q10_isochromosome\n",
    "\n",
    "theWhole['chr_9_inversion'] = f_9_inversion\n",
    "\n",
    "theWhole['chr_5_p14_deletion'] = f_5_p14_deletion    \n",
    "\n",
    "theWhole['chr_x_isochromosome'] = f_x_isochromosome\n",
    "theWhole['chr_x_p22_cnv'] = f_x_p22_cnv\n",
    "theWhole['chr_x_q21_cnv'] = f_x_q21_cnv\n",
    "theWhole['chr_x_q22_deletion'] = f_x_q22_deletion"
   ]
  },
  {
   "cell_type": "code",
   "execution_count": null,
   "metadata": {
    "id": "6d8Ej2MShM8K",
    "outputId": "da32c938-49bb-4cec-9ded-708887ff9d05",
    "scrolled": false
   },
   "outputs": [
    {
     "data": {
      "text/plain": [
       "['C:\\\\Users\\\\Chuan\\\\OneDrive\\\\Dowrun\\\\Database\\\\PhD\\\\KaryoTypes\\\\Arrangement\\\\chr_x\\\\W17068~A.0003.K.jpg.X.bmp',\n",
       " 'C:\\\\Users\\\\Chuan\\\\OneDrive\\\\Dowrun\\\\Database\\\\PhD\\\\KaryoTypes\\\\Arrangement\\\\chr_x\\\\W17068~A.0004.K.jpg.X.bmp',\n",
       " 'C:\\\\Users\\\\Chuan\\\\OneDrive\\\\Dowrun\\\\Database\\\\PhD\\\\KaryoTypes\\\\Arrangement\\\\chr_x\\\\W17068~A.0006.K.jpg.X.bmp',\n",
       " 'C:\\\\Users\\\\Chuan\\\\OneDrive\\\\Dowrun\\\\Database\\\\PhD\\\\KaryoTypes\\\\Arrangement\\\\chr_x\\\\W17068~A.0008.K.X.bmp',\n",
       " 'C:\\\\Users\\\\Chuan\\\\OneDrive\\\\Dowrun\\\\Database\\\\PhD\\\\KaryoTypes\\\\Arrangement\\\\chr_x\\\\W17068~A.0009.K.X.bmp',\n",
       " 'C:\\\\Users\\\\Chuan\\\\OneDrive\\\\Dowrun\\\\Database\\\\PhD\\\\KaryoTypes\\\\Arrangement\\\\chr_x\\\\W17068~A.0010.K.X.bmp',\n",
       " 'C:\\\\Users\\\\Chuan\\\\OneDrive\\\\Dowrun\\\\Database\\\\PhD\\\\KaryoTypes\\\\Arrangement\\\\chr_x\\\\W17068~A.0011.K.X.bmp',\n",
       " 'C:\\\\Users\\\\Chuan\\\\OneDrive\\\\Dowrun\\\\Database\\\\PhD\\\\KaryoTypes\\\\Arrangement\\\\chr_x\\\\W17068~A.0012.K.X.bmp',\n",
       " 'C:\\\\Users\\\\Chuan\\\\OneDrive\\\\Dowrun\\\\Database\\\\PhD\\\\KaryoTypes\\\\Arrangement\\\\chr_x\\\\W17068~A.0014.K.X.bmp',\n",
       " 'C:\\\\Users\\\\Chuan\\\\OneDrive\\\\Dowrun\\\\Database\\\\PhD\\\\KaryoTypes\\\\Arrangement\\\\chr_x\\\\W17068~A.0016.K.X.bmp',\n",
       " 'C:\\\\Users\\\\Chuan\\\\OneDrive\\\\Dowrun\\\\Database\\\\PhD\\\\KaryoTypes\\\\Arrangement\\\\chr_x\\\\W17068~A.0019.K.X.bmp',\n",
       " 'C:\\\\Users\\\\Chuan\\\\OneDrive\\\\Dowrun\\\\Database\\\\PhD\\\\KaryoTypes\\\\Arrangement\\\\chr_x\\\\W17068~A.0020.K.X.bmp',\n",
       " 'C:\\\\Users\\\\Chuan\\\\OneDrive\\\\Dowrun\\\\Database\\\\PhD\\\\KaryoTypes\\\\Arrangement\\\\chr_x\\\\W17068~A.0023.K.X.bmp',\n",
       " 'C:\\\\Users\\\\Chuan\\\\OneDrive\\\\Dowrun\\\\Database\\\\PhD\\\\KaryoTypes\\\\Arrangement\\\\chr_x\\\\W17068~A.0024.X_.bmp',\n",
       " 'C:\\\\Users\\\\Chuan\\\\OneDrive\\\\Dowrun\\\\Database\\\\PhD\\\\KaryoTypes\\\\Arrangement\\\\chr_x\\\\W17068~A.0025.X.bmp',\n",
       " 'C:\\\\Users\\\\Chuan\\\\OneDrive\\\\Dowrun\\\\Database\\\\PhD\\\\KaryoTypes\\\\Arrangement\\\\chr_x\\\\W17068~A.0026.X.bmp',\n",
       " 'C:\\\\Users\\\\Chuan\\\\OneDrive\\\\Dowrun\\\\Database\\\\PhD\\\\KaryoTypes\\\\Arrangement\\\\chr_x\\\\W17068~A.0034.K.jpg.X.bmp',\n",
       " 'C:\\\\Users\\\\Chuan\\\\OneDrive\\\\Dowrun\\\\Database\\\\PhD\\\\KaryoTypes\\\\Arrangement\\\\chr_x\\\\W17068~A.0036.K.jpg.X.bmp',\n",
       " 'C:\\\\Users\\\\Chuan\\\\OneDrive\\\\Dowrun\\\\Database\\\\PhD\\\\KaryoTypes\\\\Arrangement\\\\chr_x\\\\W17068~A.0039.K.jpg.X.bmp',\n",
       " 'C:\\\\Users\\\\Chuan\\\\OneDrive\\\\Dowrun\\\\Database\\\\PhD\\\\KaryoTypes\\\\Arrangement\\\\chr_x\\\\w21000~A.0001.K.jpg.X.bmp',\n",
       " 'C:\\\\Users\\\\Chuan\\\\OneDrive\\\\Dowrun\\\\Database\\\\PhD\\\\KaryoTypes\\\\Arrangement\\\\chr_x\\\\w21000~A.0001.K.jpg.XR.bmp',\n",
       " 'C:\\\\Users\\\\Chuan\\\\OneDrive\\\\Dowrun\\\\Database\\\\PhD\\\\KaryoTypes\\\\Arrangement\\\\chr_x\\\\w21001~A.0008.K.jpg.x.bmp',\n",
       " 'C:\\\\Users\\\\Chuan\\\\OneDrive\\\\Dowrun\\\\Database\\\\PhD\\\\KaryoTypes\\\\Arrangement\\\\chr_x\\\\w21002~A.0024.K.jpg.x.bmp',\n",
       " 'C:\\\\Users\\\\Chuan\\\\OneDrive\\\\Dowrun\\\\Database\\\\PhD\\\\KaryoTypes\\\\Arrangement\\\\chr_x\\\\w21008~A.0008.K.jpg.XL.bmp',\n",
       " 'C:\\\\Users\\\\Chuan\\\\OneDrive\\\\Dowrun\\\\Database\\\\PhD\\\\KaryoTypes\\\\Arrangement\\\\chr_x\\\\w21008~A.0008.K.jpg.XR.bmp',\n",
       " 'C:\\\\Users\\\\Chuan\\\\OneDrive\\\\Dowrun\\\\Database\\\\PhD\\\\KaryoTypes\\\\Arrangement\\\\chr_x\\\\W21012~A.0019.K.XL.bmp',\n",
       " 'C:\\\\Users\\\\Chuan\\\\OneDrive\\\\Dowrun\\\\Database\\\\PhD\\\\KaryoTypes\\\\Arrangement\\\\chr_x\\\\W21012~A.0019.K.XR.bmp',\n",
       " 'C:\\\\Users\\\\Chuan\\\\OneDrive\\\\Dowrun\\\\Database\\\\PhD\\\\KaryoTypes\\\\Arrangement\\\\chr_x\\\\W21022~A.0007.K.jpg.XL.bmp',\n",
       " 'C:\\\\Users\\\\Chuan\\\\OneDrive\\\\Dowrun\\\\Database\\\\PhD\\\\KaryoTypes\\\\Arrangement\\\\chr_x\\\\W21022~A.0007.K.jpg.XR.bmp',\n",
       " 'C:\\\\Users\\\\Chuan\\\\OneDrive\\\\Dowrun\\\\Database\\\\PhD\\\\KaryoTypes\\\\Arrangement\\\\chr_x\\\\W21025~A.0002.K.jpg.X.bmp',\n",
       " 'C:\\\\Users\\\\Chuan\\\\OneDrive\\\\Dowrun\\\\Database\\\\PhD\\\\KaryoTypes\\\\Arrangement\\\\chr_x\\\\W21027~A.0003.K.X.bmp',\n",
       " 'C:\\\\Users\\\\Chuan\\\\OneDrive\\\\Dowrun\\\\Database\\\\PhD\\\\KaryoTypes\\\\Arrangement\\\\chr_x\\\\W21486~A.0020.K.bmp.X.bmp',\n",
       " 'C:\\\\Users\\\\Chuan\\\\OneDrive\\\\Dowrun\\\\Database\\\\PhD\\\\KaryoTypes\\\\Arrangement\\\\chr_x\\\\W21570~A.0001.K.jpg.X.bmp',\n",
       " 'C:\\\\Users\\\\Chuan\\\\OneDrive\\\\Dowrun\\\\Database\\\\PhD\\\\KaryoTypes\\\\Arrangement\\\\chr_x\\\\W21576~A.0010.K.jpg.X.bmp',\n",
       " 'C:\\\\Users\\\\Chuan\\\\OneDrive\\\\Dowrun\\\\Database\\\\PhD\\\\KaryoTypes\\\\Arrangement\\\\chr_x\\\\W21587~A.0008.K.jpg.X.bmp',\n",
       " 'C:\\\\Users\\\\Chuan\\\\OneDrive\\\\Dowrun\\\\Database\\\\PhD\\\\KaryoTypes\\\\Arrangement\\\\chr_x\\\\W21587~A.0010.K.jpg.X.bmp',\n",
       " 'C:\\\\Users\\\\Chuan\\\\OneDrive\\\\Dowrun\\\\Database\\\\PhD\\\\KaryoTypes\\\\Arrangement\\\\chr_x\\\\W21588~A.0001.K.jpg.X.bmp',\n",
       " 'C:\\\\Users\\\\Chuan\\\\OneDrive\\\\Dowrun\\\\Database\\\\PhD\\\\KaryoTypes\\\\Arrangement\\\\chr_x\\\\W21766~A.0025.K.jpg.X.bmp',\n",
       " 'C:\\\\Users\\\\Chuan\\\\OneDrive\\\\Dowrun\\\\Database\\\\PhD\\\\KaryoTypes\\\\Arrangement\\\\chr_x\\\\W21890~A.0005.K.jpg.XL.bmp',\n",
       " 'C:\\\\Users\\\\Chuan\\\\OneDrive\\\\Dowrun\\\\Database\\\\PhD\\\\KaryoTypes\\\\Arrangement\\\\chr_x\\\\W21890~A.0005.K.jpg.XR.bmp',\n",
       " 'C:\\\\Users\\\\Chuan\\\\OneDrive\\\\Dowrun\\\\Database\\\\PhD\\\\KaryoTypes\\\\Arrangement\\\\chr_x\\\\W21894~A.0009.K.jpg.X.bmp',\n",
       " 'C:\\\\Users\\\\Chuan\\\\OneDrive\\\\Dowrun\\\\Database\\\\PhD\\\\KaryoTypes\\\\Arrangement\\\\chr_x\\\\W21902~A.0010.K.jpg.X.bmp',\n",
       " 'C:\\\\Users\\\\Chuan\\\\OneDrive\\\\Dowrun\\\\Database\\\\PhD\\\\KaryoTypes\\\\Arrangement\\\\chr_x\\\\W21905~A.0007.K.jpg.X.bmp',\n",
       " 'C:\\\\Users\\\\Chuan\\\\OneDrive\\\\Dowrun\\\\Database\\\\PhD\\\\KaryoTypes\\\\Arrangement\\\\chr_x\\\\W21906~A.0011.K.jpg.X.bmp',\n",
       " 'C:\\\\Users\\\\Chuan\\\\OneDrive\\\\Dowrun\\\\Database\\\\PhD\\\\KaryoTypes\\\\Arrangement\\\\chr_x\\\\w22038~A.0017.K.jpg.X.bmp',\n",
       " 'C:\\\\Users\\\\Chuan\\\\OneDrive\\\\Dowrun\\\\Database\\\\PhD\\\\KaryoTypes\\\\Arrangement\\\\chr_x\\\\w22292~A.0027.K.jpg.X.bmp',\n",
       " 'C:\\\\Users\\\\Chuan\\\\OneDrive\\\\Dowrun\\\\Database\\\\PhD\\\\KaryoTypes\\\\Arrangement\\\\chr_x\\\\W22451~A.0011.K.jpg.X.bmp',\n",
       " 'C:\\\\Users\\\\Chuan\\\\OneDrive\\\\Dowrun\\\\Database\\\\PhD\\\\KaryoTypes\\\\Arrangement\\\\chr_x\\\\W22455~A.0002.K.jpg.X.bmp',\n",
       " 'C:\\\\Users\\\\Chuan\\\\OneDrive\\\\Dowrun\\\\Database\\\\PhD\\\\KaryoTypes\\\\Arrangement\\\\chr_x\\\\W22666-1.0002.K.jpg.X.bmp',\n",
       " 'C:\\\\Users\\\\Chuan\\\\OneDrive\\\\Dowrun\\\\Database\\\\PhD\\\\KaryoTypes\\\\Arrangement\\\\chr_x\\\\W22670~A.0006.K.jpg.X.bmp',\n",
       " 'C:\\\\Users\\\\Chuan\\\\OneDrive\\\\Dowrun\\\\Database\\\\PhD\\\\KaryoTypes\\\\Arrangement\\\\chr_x\\\\W22672~A.0004.K.jpg.X.bmp',\n",
       " 'C:\\\\Users\\\\Chuan\\\\OneDrive\\\\Dowrun\\\\Database\\\\PhD\\\\KaryoTypes\\\\Arrangement\\\\chr_x\\\\W23060-1~A.0003.K.jpg.X.bmp',\n",
       " 'C:\\\\Users\\\\Chuan\\\\OneDrive\\\\Dowrun\\\\Database\\\\PhD\\\\KaryoTypes\\\\Arrangement\\\\chr_x\\\\W23060-1~A.0005.K.jpg.X.bmp',\n",
       " 'C:\\\\Users\\\\Chuan\\\\OneDrive\\\\Dowrun\\\\Database\\\\PhD\\\\KaryoTypes\\\\Arrangement\\\\chr_x\\\\W23060-1~A.0007.K.jpg.X.bmp',\n",
       " 'C:\\\\Users\\\\Chuan\\\\OneDrive\\\\Dowrun\\\\Database\\\\PhD\\\\KaryoTypes\\\\Arrangement\\\\chr_x\\\\W23060-1~A.0009.K.jpg.X.bmp',\n",
       " 'C:\\\\Users\\\\Chuan\\\\OneDrive\\\\Dowrun\\\\Database\\\\PhD\\\\KaryoTypes\\\\Arrangement\\\\chr_x\\\\W23060-1~A.0018.K.jpg.X.bmp',\n",
       " 'C:\\\\Users\\\\Chuan\\\\OneDrive\\\\Dowrun\\\\Database\\\\PhD\\\\KaryoTypes\\\\Arrangement\\\\chr_x\\\\W23060-1~A.0025.K.jpg.X.bmp',\n",
       " 'C:\\\\Users\\\\Chuan\\\\OneDrive\\\\Dowrun\\\\Database\\\\PhD\\\\KaryoTypes\\\\Arrangement\\\\chr_x\\\\W23060-1~A.0029.K.jpg.X.bmp',\n",
       " 'C:\\\\Users\\\\Chuan\\\\OneDrive\\\\Dowrun\\\\Database\\\\PhD\\\\KaryoTypes\\\\Arrangement\\\\chr_x\\\\W23060-1~A.0032.K.jpg.X.bmp',\n",
       " 'C:\\\\Users\\\\Chuan\\\\OneDrive\\\\Dowrun\\\\Database\\\\PhD\\\\KaryoTypes\\\\Arrangement\\\\chr_x\\\\W23060-1~A.0033.K.jpg.X.bmp',\n",
       " 'C:\\\\Users\\\\Chuan\\\\OneDrive\\\\Dowrun\\\\Database\\\\PhD\\\\KaryoTypes\\\\Arrangement\\\\chr_x\\\\W23060-1~A.0035.K.jpg.X.bmp',\n",
       " 'C:\\\\Users\\\\Chuan\\\\OneDrive\\\\Dowrun\\\\Database\\\\PhD\\\\KaryoTypes\\\\Arrangement\\\\chr_x\\\\W23060-1~A.0040.K.jpg.X.bmp',\n",
       " 'C:\\\\Users\\\\Chuan\\\\OneDrive\\\\Dowrun\\\\Database\\\\PhD\\\\KaryoTypes\\\\Arrangement\\\\chr_x\\\\W23060-1~A.0042.K.jpg.X.bmp',\n",
       " 'C:\\\\Users\\\\Chuan\\\\OneDrive\\\\Dowrun\\\\Database\\\\PhD\\\\KaryoTypes\\\\Arrangement\\\\chr_x\\\\W23060-1~A.0046.K.jpg.X.bmp',\n",
       " 'C:\\\\Users\\\\Chuan\\\\OneDrive\\\\Dowrun\\\\Database\\\\PhD\\\\KaryoTypes\\\\Arrangement\\\\chr_x\\\\W23060-CW190327.jpg.X.bmp',\n",
       " 'C:\\\\Users\\\\Chuan\\\\OneDrive\\\\Dowrun\\\\Database\\\\PhD\\\\KaryoTypes\\\\Arrangement\\\\chr_x\\\\w25443~A.0001.K.jpg.X.bmp',\n",
       " 'C:\\\\Users\\\\Chuan\\\\OneDrive\\\\Dowrun\\\\Database\\\\PhD\\\\KaryoTypes\\\\Arrangement\\\\chr_x\\\\w25443~A.0004.K.jpg.X.bmp',\n",
       " 'C:\\\\Users\\\\Chuan\\\\OneDrive\\\\Dowrun\\\\Database\\\\PhD\\\\KaryoTypes\\\\Arrangement\\\\chr_x\\\\w25443~A.0005.K.jpg.X.bmp',\n",
       " 'C:\\\\Users\\\\Chuan\\\\OneDrive\\\\Dowrun\\\\Database\\\\PhD\\\\KaryoTypes\\\\Arrangement\\\\chr_x\\\\w25443~A.0006.K.jpg.X.bmp',\n",
       " 'C:\\\\Users\\\\Chuan\\\\OneDrive\\\\Dowrun\\\\Database\\\\PhD\\\\KaryoTypes\\\\Arrangement\\\\chr_x\\\\w25443~A.0007.K.jpg.X.bmp',\n",
       " 'C:\\\\Users\\\\Chuan\\\\OneDrive\\\\Dowrun\\\\Database\\\\PhD\\\\KaryoTypes\\\\Arrangement\\\\chr_x\\\\w25443~A.0010.K.jpg.X.bmp',\n",
       " 'C:\\\\Users\\\\Chuan\\\\OneDrive\\\\Dowrun\\\\Database\\\\PhD\\\\KaryoTypes\\\\Arrangement\\\\chr_x\\\\w25443~A.0014.K.jpg.X.bmp',\n",
       " 'C:\\\\Users\\\\Chuan\\\\OneDrive\\\\Dowrun\\\\Database\\\\PhD\\\\KaryoTypes\\\\Arrangement\\\\chr_x\\\\w25443~A.0023.K.jpg.X.bmp',\n",
       " 'C:\\\\Users\\\\Chuan\\\\OneDrive\\\\Dowrun\\\\Database\\\\PhD\\\\KaryoTypes\\\\Arrangement\\\\chr_x\\\\w25443~A.0031.K.jpg.X.bmp',\n",
       " 'C:\\\\Users\\\\Chuan\\\\OneDrive\\\\Dowrun\\\\Database\\\\PhD\\\\KaryoTypes\\\\Arrangement\\\\chr_x\\\\w25443~A.0032.K.jpg.X.bmp',\n",
       " 'C:\\\\Users\\\\Chuan\\\\OneDrive\\\\Dowrun\\\\Database\\\\PhD\\\\KaryoTypes\\\\Arrangement\\\\chr_x\\\\w25443~A.0033.K.jpg.X.bmp',\n",
       " 'C:\\\\Users\\\\Chuan\\\\OneDrive\\\\Dowrun\\\\Database\\\\PhD\\\\KaryoTypes\\\\Arrangement\\\\chr_x\\\\w25443~A.0035.K.jpg.X.bmp',\n",
       " 'C:\\\\Users\\\\Chuan\\\\OneDrive\\\\Dowrun\\\\Database\\\\PhD\\\\KaryoTypes\\\\Arrangement\\\\chr_x\\\\w25443~A.0036.K.jpg.X.bmp',\n",
       " 'C:\\\\Users\\\\Chuan\\\\OneDrive\\\\Dowrun\\\\Database\\\\PhD\\\\KaryoTypes\\\\Arrangement\\\\chr_x\\\\w25443~A.0037.K.jpg.X.bmp',\n",
       " 'C:\\\\Users\\\\Chuan\\\\OneDrive\\\\Dowrun\\\\Database\\\\PhD\\\\KaryoTypes\\\\Arrangement\\\\chr_x\\\\w25443~A.0038.K.jpg.X.bmp',\n",
       " 'C:\\\\Users\\\\Chuan\\\\OneDrive\\\\Dowrun\\\\Database\\\\PhD\\\\KaryoTypes\\\\Arrangement\\\\chr_x\\\\w25443~A.0040.K.jpg.X.bmp',\n",
       " 'C:\\\\Users\\\\Chuan\\\\OneDrive\\\\Dowrun\\\\Database\\\\PhD\\\\KaryoTypes\\\\Arrangement\\\\chr_x\\\\w25443~A.0041.K.jpg.X.bmp',\n",
       " 'C:\\\\Users\\\\Chuan\\\\OneDrive\\\\Dowrun\\\\Database\\\\PhD\\\\KaryoTypes\\\\Arrangement\\\\chr_x\\\\w25443~A.0043.K.jpg.X.bmp',\n",
       " 'C:\\\\Users\\\\Chuan\\\\OneDrive\\\\Dowrun\\\\Database\\\\PhD\\\\KaryoTypes\\\\Arrangement\\\\chr_x\\\\w25443~A.0047.K.jpg.X.bmp',\n",
       " 'C:\\\\Users\\\\Chuan\\\\OneDrive\\\\Dowrun\\\\Database\\\\PhD\\\\KaryoTypes\\\\Arrangement\\\\chr_x\\\\W28055-1~A.0001.X.bmp',\n",
       " 'C:\\\\Users\\\\Chuan\\\\OneDrive\\\\Dowrun\\\\Database\\\\PhD\\\\KaryoTypes\\\\Arrangement\\\\chr_x\\\\W28055-1~A.0002.X.bmp',\n",
       " 'C:\\\\Users\\\\Chuan\\\\OneDrive\\\\Dowrun\\\\Database\\\\PhD\\\\KaryoTypes\\\\Arrangement\\\\chr_x\\\\W28055-1~A.0006.X.bmp',\n",
       " 'C:\\\\Users\\\\Chuan\\\\OneDrive\\\\Dowrun\\\\Database\\\\PhD\\\\KaryoTypes\\\\Arrangement\\\\chr_x\\\\W28055-1~A.0009.X.bmp',\n",
       " 'C:\\\\Users\\\\Chuan\\\\OneDrive\\\\Dowrun\\\\Database\\\\PhD\\\\KaryoTypes\\\\Arrangement\\\\chr_x\\\\W28055-1~A.0010.X.bmp',\n",
       " 'C:\\\\Users\\\\Chuan\\\\OneDrive\\\\Dowrun\\\\Database\\\\PhD\\\\KaryoTypes\\\\Arrangement\\\\chr_x\\\\W28055-1~A.0012.X.bmp',\n",
       " 'C:\\\\Users\\\\Chuan\\\\OneDrive\\\\Dowrun\\\\Database\\\\PhD\\\\KaryoTypes\\\\Arrangement\\\\chr_x\\\\W28055-1~A.0013.X.bmp',\n",
       " 'C:\\\\Users\\\\Chuan\\\\OneDrive\\\\Dowrun\\\\Database\\\\PhD\\\\KaryoTypes\\\\Arrangement\\\\chr_x\\\\W28055-1~A.0015.X.bmp',\n",
       " 'C:\\\\Users\\\\Chuan\\\\OneDrive\\\\Dowrun\\\\Database\\\\PhD\\\\KaryoTypes\\\\Arrangement\\\\chr_x\\\\W28055-1~A.0016.X.bmp',\n",
       " 'C:\\\\Users\\\\Chuan\\\\OneDrive\\\\Dowrun\\\\Database\\\\PhD\\\\KaryoTypes\\\\Arrangement\\\\chr_x\\\\W28055-1~A.0020.X.bmp',\n",
       " 'C:\\\\Users\\\\Chuan\\\\OneDrive\\\\Dowrun\\\\Database\\\\PhD\\\\KaryoTypes\\\\Arrangement\\\\chr_x\\\\W28055-1~A.0021.X.bmp',\n",
       " 'C:\\\\Users\\\\Chuan\\\\OneDrive\\\\Dowrun\\\\Database\\\\PhD\\\\KaryoTypes\\\\Arrangement\\\\chr_x\\\\W28055-1~A.0022.X.bmp',\n",
       " 'C:\\\\Users\\\\Chuan\\\\OneDrive\\\\Dowrun\\\\Database\\\\PhD\\\\KaryoTypes\\\\Arrangement\\\\chr_x\\\\W28055-1~A.0032.X.bmp',\n",
       " 'C:\\\\Users\\\\Chuan\\\\OneDrive\\\\Dowrun\\\\Database\\\\PhD\\\\KaryoTypes\\\\Arrangement\\\\chr_x\\\\W28055-1~A.0037.X.bmp',\n",
       " 'C:\\\\Users\\\\Chuan\\\\OneDrive\\\\Dowrun\\\\Database\\\\PhD\\\\KaryoTypes\\\\Arrangement\\\\chr_x\\\\W28055-1~A.0038.X.bmp',\n",
       " 'C:\\\\Users\\\\Chuan\\\\OneDrive\\\\Dowrun\\\\Database\\\\PhD\\\\KaryoTypes\\\\Arrangement\\\\chr_x\\\\W28055-1~A.0039.K.jpg.X.bmp',\n",
       " 'C:\\\\Users\\\\Chuan\\\\OneDrive\\\\Dowrun\\\\Database\\\\PhD\\\\KaryoTypes\\\\Arrangement\\\\chr_x\\\\W28055-1~A.0049.K.jpg.X.bmp',\n",
       " 'C:\\\\Users\\\\Chuan\\\\OneDrive\\\\Dowrun\\\\Database\\\\PhD\\\\KaryoTypes\\\\Arrangement\\\\chr_x\\\\W28055~A.0010.X.bmp',\n",
       " 'C:\\\\Users\\\\Chuan\\\\OneDrive\\\\Dowrun\\\\Database\\\\PhD\\\\KaryoTypes\\\\Arrangement\\\\chr_x\\\\W28055~A.0012.X.bmp']"
      ]
     },
     "execution_count": 4,
     "metadata": {
      "tags": []
     },
     "output_type": "execute_result"
    }
   ],
   "source": [
    "theWhole['chr_x']"
   ]
  },
  {
   "cell_type": "markdown",
   "metadata": {
    "id": "cKiAborxhM8N"
   },
   "source": [
    "## Image Input"
   ]
  },
  {
   "cell_type": "code",
   "execution_count": null,
   "metadata": {
    "id": "h88BOm8UhM8N",
    "outputId": "4f89df64-4a3c-43f0-a34e-00d88a3d8d16",
    "scrolled": false
   },
   "outputs": [
    {
     "name": "stdout",
     "output_type": "stream",
     "text": [
      "0.20644164085388184\n"
     ]
    }
   ],
   "source": [
    "start = time.time()\n",
    "\n",
    "image = {}\n",
    "i = 0\n",
    "\n",
    "for chrNo in theWhole.keys():\n",
    "    image[chrNo] = []\n",
    "    for case in theWhole[chrNo]:\n",
    "        img = Image.open(case)\n",
    "        image[chrNo].append(img)\n",
    "    \n",
    "end = time.time()\n",
    "print(end - start)"
   ]
  },
  {
   "cell_type": "code",
   "execution_count": null,
   "metadata": {
    "id": "u7iYn89ShM8Q",
    "outputId": "95b42047-da5a-4f15-df45-dd89f5d37a72",
    "scrolled": true
   },
   "outputs": [
    {
     "data": {
      "image/png": "[encoded data removed]",
      "text/plain": [
       "<PIL.BmpImagePlugin.BmpImageFile image mode=RGB size=300x300 at 0x203D6319908>"
      ]
     },
     "execution_count": 6,
     "metadata": {
      "tags": []
     },
     "output_type": "execute_result"
    }
   ],
   "source": [
    "image['chr_01'][1]"
   ]
  },
  {
   "cell_type": "markdown",
   "metadata": {
    "id": "LMxjgFtHhM8S"
   },
   "source": [
    "## Functions"
   ]
  },
  {
   "cell_type": "code",
   "execution_count": null,
   "metadata": {
    "id": "EXeUvXLqhM8T"
   },
   "outputs": [],
   "source": [
    "def extractData(image):\n",
    "    x = image.size[0]\n",
    "    y = image.size[1]\n",
    "    \n",
    "    matrix = []\n",
    "    rgb_matrix = []\n",
    "\n",
    "    for i in range(x):\n",
    "        matrix.append([])\n",
    "        rgb_matrix.append([])\n",
    "        \n",
    "        for j in range(y):\n",
    "            r, g, b = image.getpixel((j, i))            \n",
    "            value = r * 299.0/1000 + g * 587.0/1000 + b * 114.0/1000\n",
    "            value = int(value)\n",
    "            matrix[i].append(value)\n",
    "            rgb_matrix[i].append((r,g,b))\n",
    "    return matrix, rgb_matrix"
   ]
  },
  {
   "cell_type": "code",
   "execution_count": null,
   "metadata": {
    "id": "PFXaHegmhM8V"
   },
   "outputs": [],
   "source": [
    "def imageReconstruct(matrix):\n",
    "    df = np.array(matrix, dtype=np.uint8)\n",
    "    img = Image.fromarray(df, 'RGB')\n",
    "    img.save('image.png')\n",
    "    return img"
   ]
  },
  {
   "cell_type": "markdown",
   "metadata": {
    "id": "rW4l1hHBhM8X"
   },
   "source": [
    "## Data Extraction from Images"
   ]
  },
  {
   "cell_type": "code",
   "execution_count": null,
   "metadata": {
    "id": "9dHTmTyihM8Y",
    "outputId": "8868d731-9e6d-4f0a-bf56-39b488bbb765"
   },
   "outputs": [
    {
     "name": "stdout",
     "output_type": "stream",
     "text": [
      "261.761182308197\n"
     ]
    }
   ],
   "source": [
    "start = time.time()\n",
    "\n",
    "data = {}\n",
    "#rgb_data = {}\n",
    "\n",
    "for chrNo in image.keys():\n",
    "    data[chrNo] = []; \n",
    "    #rgb_data[chrNo] = []\n",
    "    for case in image[chrNo]:\n",
    "        grey, rgb = extractData(case)\n",
    "        data[chrNo].append(grey)\n",
    "        #rgb_data[chrNo].append(rgb)\n",
    "        \n",
    "end = time.time()\n",
    "print(end - start)"
   ]
  },
  {
   "cell_type": "code",
   "execution_count": null,
   "metadata": {
    "id": "vjwPnXT9hM8a"
   },
   "outputs": [],
   "source": [
    "imageMatrix = np.array(data['chr_02'][1])"
   ]
  },
  {
   "cell_type": "code",
   "execution_count": null,
   "metadata": {
    "id": "1muxYWbyhM8e"
   },
   "outputs": [],
   "source": [
    "array = {}\n",
    "\n",
    "for chrNo in data.keys():\n",
    "    array[chrNo] = []\n",
    "    for case in data[chrNo]:            \n",
    "        array[chrNo].append(case)\n",
    "\n",
    "x_train_list = []\n",
    "y_train_list = []\n",
    "\n",
    "for y, x in array.items():    \n",
    "    for x_item in x:\n",
    "        x_train_list.append(x_item)\n",
    "        y_train_list.append(y)"
   ]
  },
  {
   "cell_type": "code",
   "execution_count": null,
   "metadata": {
    "id": "5wgG3agthM8i",
    "outputId": "7970757a-529d-44ce-e85a-7490cca0397f"
   },
   "outputs": [
    {
     "data": {
      "text/plain": [
       "300"
      ]
     },
     "execution_count": 12,
     "metadata": {
      "tags": []
     },
     "output_type": "execute_result"
    }
   ],
   "source": [
    "len(x_train_list[1])"
   ]
  },
  {
   "cell_type": "code",
   "execution_count": null,
   "metadata": {
    "id": "a40F8oM56eTW",
    "outputId": "cbcbc387-aa18-455e-a045-67769b3907c0"
   },
   "outputs": [
    {
     "data": {
      "text/plain": [
       "1653"
      ]
     },
     "execution_count": 13,
     "metadata": {
      "tags": []
     },
     "output_type": "execute_result"
    }
   ],
   "source": [
    "len(y_train_list)"
   ]
  },
  {
   "cell_type": "markdown",
   "metadata": {
    "id": "dFpbXmQ6hM8j"
   },
   "source": [
    "### Validation Dataset"
   ]
  },
  {
   "cell_type": "code",
   "execution_count": null,
   "metadata": {
    "id": "Js0BRFerhM8k"
   },
   "outputs": [],
   "source": [
    "pathBase = 'C:\\\\Users\\\\Chuan\\\\OneDrive\\\\Dowrun\\\\Database\\\\PhD\\\\KaryoTypes\\\\Arrangement\\\\test\\\\'\n",
    "theWhole = {}\n",
    "\n",
    "f = []\n",
    "f_01 = []\n",
    "mypath_01 = pathBase + 'chr_01'\n",
    "for (dirpath, dirnames, filenames) in walk(mypath_01):\n",
    "    f.extend(filenames)\n",
    "for l in f:\n",
    "    f_01.append(mypath_01 + '\\\\' + l) \n",
    "        \n",
    "f = []\n",
    "f_02 = []\n",
    "mypath_02 = pathBase + 'chr_02'\n",
    "for (dirpath, dirnames, filenames) in walk(mypath_02):\n",
    "    f.extend(filenames)\n",
    "for l in f:\n",
    "    f_02.append(mypath_02 + '\\\\' + l)    \n",
    "        \n",
    "f = []\n",
    "f_03 = []\n",
    "mypath_03 = pathBase + 'chr_03'\n",
    "for (dirpath, dirnames, filenames) in walk(mypath_03):\n",
    "    f.extend(filenames)\n",
    "for l in f:\n",
    "    f_03.append(mypath_03 + '\\\\' + l)    \n",
    "        \n",
    "f = []\n",
    "f_04 = []\n",
    "mypath_04 = pathBase + 'chr_04'\n",
    "for (dirpath, dirnames, filenames) in walk(mypath_04):\n",
    "    f.extend(filenames)\n",
    "for l in f:\n",
    "    f_04.append(mypath_04 + '\\\\' + l)    \n",
    "        \n",
    "f = []\n",
    "f_05 = []\n",
    "mypath_05 = pathBase + 'chr_05'\n",
    "for (dirpath, dirnames, filenames) in walk(mypath_05):\n",
    "    f.extend(filenames)\n",
    "for l in f:\n",
    "    f_05.append(mypath_05 + '\\\\' + l)    \n",
    "        \n",
    "f = []\n",
    "f_06 = []\n",
    "mypath_06 = pathBase + 'chr_06'\n",
    "for (dirpath, dirnames, filenames) in walk(mypath_06):\n",
    "    f.extend(filenames)\n",
    "for l in f:\n",
    "    f_06.append(mypath_06 + '\\\\' + l)    \n",
    "    \n",
    "f = []\n",
    "f_07 = []\n",
    "mypath_07 = pathBase + 'chr_07'\n",
    "for (dirpath, dirnames, filenames) in walk(mypath_07):\n",
    "    f.extend(filenames)\n",
    "for l in f:\n",
    "    f_07.append(mypath_07 + '\\\\' + l)    \n",
    "        \n",
    "f = []\n",
    "f_08 = []\n",
    "mypath_08 = pathBase + 'chr_08'\n",
    "for (dirpath, dirnames, filenames) in walk(mypath_08):\n",
    "    f.extend(filenames)\n",
    "for l in f:\n",
    "    f_08.append(mypath_08 + '\\\\' + l)    \n",
    "        \n",
    "f = []\n",
    "f_09 = []\n",
    "mypath_09 = pathBase + 'chr_09'\n",
    "for (dirpath, dirnames, filenames) in walk(mypath_09):\n",
    "    f.extend(filenames)\n",
    "for l in f:\n",
    "    f_09.append(mypath_09 + '\\\\' + l)    \n",
    "    \n",
    "f = []\n",
    "f_10 = []\n",
    "mypath_10 = pathBase + 'chr_10'\n",
    "for (dirpath, dirnames, filenames) in walk(mypath_10):\n",
    "    f.extend(filenames)\n",
    "for l in f:\n",
    "    f_10.append(mypath_10 + '\\\\' + l)    \n",
    "    \n",
    "f = []\n",
    "f_11 = []\n",
    "mypath_11 = pathBase + 'chr_11'\n",
    "for (dirpath, dirnames, filenames) in walk(mypath_11):\n",
    "    f.extend(filenames)\n",
    "for l in f:\n",
    "    f_11.append(mypath_11 + '\\\\' + l)    \n",
    "    \n",
    "    \n",
    "f = []\n",
    "f_12 = []\n",
    "mypath_12 = pathBase + 'chr_12'\n",
    "for (dirpath, dirnames, filenames) in walk(mypath_12):\n",
    "    f.extend(filenames)\n",
    "for l in f:\n",
    "    f_12.append(mypath_12 + '\\\\' + l)    \n",
    "    \n",
    "    \n",
    "f = []\n",
    "f_13 = []\n",
    "mypath_13 = pathBase + 'chr_13'\n",
    "for (dirpath, dirnames, filenames) in walk(mypath_13):\n",
    "    f.extend(filenames)\n",
    "for l in f:\n",
    "    f_13.append(mypath_13 + '\\\\' + l)    \n",
    "    \n",
    "    \n",
    "f = []\n",
    "f_14 = []\n",
    "mypath_14 = pathBase + 'chr_14'\n",
    "for (dirpath, dirnames, filenames) in walk(mypath_14):\n",
    "    f.extend(filenames)\n",
    "for l in f:\n",
    "    f_14.append(mypath_14 + '\\\\' + l)    \n",
    "    \n",
    "\n",
    "    \n",
    "f = []\n",
    "f_15 = []\n",
    "mypath_15 = pathBase + 'chr_15'\n",
    "for (dirpath, dirnames, filenames) in walk(mypath_15):\n",
    "    f.extend(filenames)\n",
    "for l in f:\n",
    "    f_15.append(mypath_15 + '\\\\' + l)    \n",
    "    \n",
    "        \n",
    "f = []\n",
    "f_16 = []\n",
    "mypath_16 = pathBase + 'chr_16'\n",
    "for (dirpath, dirnames, filenames) in walk(mypath_16):\n",
    "    f.extend(filenames)\n",
    "for l in f:\n",
    "    f_16.append(mypath_16 + '\\\\' + l)    \n",
    "    \n",
    "        \n",
    "f = []\n",
    "f_17 = []\n",
    "mypath_17 = pathBase + 'chr_17'\n",
    "for (dirpath, dirnames, filenames) in walk(mypath_17):\n",
    "    f.extend(filenames)\n",
    "for l in f:\n",
    "    f_17.append(mypath_17 + '\\\\' + l)    \n",
    "    \n",
    "        \n",
    "f = []\n",
    "f_18 = []\n",
    "mypath_18 = pathBase + 'chr_18'\n",
    "for (dirpath, dirnames, filenames) in walk(mypath_18):\n",
    "    f.extend(filenames)\n",
    "for l in f:\n",
    "    f_18.append(mypath_18 + '\\\\' + l)    \n",
    "    \n",
    "        \n",
    "f = []\n",
    "f_19 = []\n",
    "mypath_19 = pathBase + 'chr_19'\n",
    "for (dirpath, dirnames, filenames) in walk(mypath_19):\n",
    "    f.extend(filenames)\n",
    "for l in f:\n",
    "    f_19.append(mypath_19 + '\\\\' + l)    \n",
    "    \n",
    "        \n",
    "f = []\n",
    "f_20 = []\n",
    "mypath_20 = pathBase + 'chr_20'\n",
    "for (dirpath, dirnames, filenames) in walk(mypath_20):\n",
    "    f.extend(filenames)\n",
    "for l in f:\n",
    "    f_20.append(mypath_20 + '\\\\' + l)    \n",
    "   \n",
    "        \n",
    "f = []\n",
    "f_21 = []\n",
    "mypath_21 = pathBase + 'chr_21'\n",
    "for (dirpath, dirnames, filenames) in walk(mypath_21):\n",
    "    f.extend(filenames)\n",
    "for l in f:\n",
    "    f_21.append(mypath_21 + '\\\\' + l)    \n",
    "   \n",
    "        \n",
    "f = []\n",
    "f_22 = []\n",
    "mypath_22 = pathBase + 'chr_22'\n",
    "for (dirpath, dirnames, filenames) in walk(mypath_22):\n",
    "    f.extend(filenames)\n",
    "for l in f:\n",
    "    f_22.append(mypath_22 + '\\\\' + l)    \n",
    "   \n",
    "f = []\n",
    "f_x = []\n",
    "mypath_x = pathBase + 'chr_x'\n",
    "for (dirpath, dirnames, filenames) in walk(mypath_x):\n",
    "    f.extend(filenames)\n",
    "for l in f:\n",
    "    f_x.append(mypath_x + '\\\\' + l)    \n",
    "   \n",
    "f = []\n",
    "f_y = []\n",
    "mypath_y = pathBase + 'chr_y'\n",
    "for (dirpath, dirnames, filenames) in walk(mypath_y):\n",
    "    f.extend(filenames)\n",
    "for l in f:\n",
    "    f_y.append(mypath_y + '\\\\' + l)  \n",
    "    \n",
    "\n",
    "# ///////// Abnormal ones //////////////\n",
    "\n",
    "f = []\n",
    "f_18_p11_deletion = []\n",
    "mypath_18_p11_deletion = pathBase + 'chr_18_p11_deletion'\n",
    "for (dirpath, dirnames, filenames) in walk(mypath_18_p11_deletion):\n",
    "    f.extend(filenames)\n",
    "for l in f:\n",
    "    f_18_p11_deletion.append(mypath_18_p11_deletion + '\\\\' + l)  \n",
    "\n",
    "\n",
    "f = []\n",
    "f_18_q10_isochromosome = []\n",
    "mypath_18_q10_isochromosome = pathBase + 'chr_18_q10_isochromosome'\n",
    "for (dirpath, dirnames, filenames) in walk(mypath_18_q10_isochromosome):\n",
    "    f.extend(filenames)\n",
    "for l in f:\n",
    "    f_18_q10_isochromosome.append(mypath_18_q10_isochromosome + '\\\\' + l)  \n",
    "    \n",
    "\n",
    "\n",
    "f = []\n",
    "f_9_inversion = []\n",
    "mypath_9_inversion = pathBase + 'chr_9_inversion'\n",
    "for (dirpath, dirnames, filenames) in walk(mypath_9_inversion):\n",
    "    f.extend(filenames)\n",
    "for l in f:\n",
    "    f_9_inversion.append(mypath_9_inversion + '\\\\' + l)  \n",
    "    \n",
    "\n",
    "f = []\n",
    "f_5_p14_deletion = []\n",
    "mypath_5_p14_deletion = pathBase + 'chr_5_p14_deletion'\n",
    "for (dirpath, dirnames, filenames) in walk(mypath_5_p14_deletion):\n",
    "    f.extend(filenames)\n",
    "for l in f:\n",
    "    f_5_p14_deletion.append(mypath_5_p14_deletion + '\\\\' + l)  \n",
    "    \n",
    "\n",
    "f = []\n",
    "f_x_isochromosome = []\n",
    "mypath_x_isochromosome = pathBase + 'chr_x_isochromosome'\n",
    "for (dirpath, dirnames, filenames) in walk(mypath_x_isochromosome):\n",
    "    f.extend(filenames)\n",
    "for l in f:\n",
    "    f_x_isochromosome.append(mypath_x_isochromosome + '\\\\' + l)  \n",
    "    \n",
    "    \n",
    "f = []\n",
    "f_x_p22_cnv = []\n",
    "mypath_x_p22_cnv = pathBase + 'chr_x_p22_cnv'\n",
    "for (dirpath, dirnames, filenames) in walk(mypath_x_p22_cnv):\n",
    "    f.extend(filenames)\n",
    "for l in f:\n",
    "    f_x_p22_cnv.append(mypath_x_p22_cnv + '\\\\' + l)\n",
    "    \n",
    "    \n",
    "f = []\n",
    "f_x_q21_cnv = []\n",
    "mypath_x_q21_cnv = pathBase + 'chr_x_q21_cnv'\n",
    "for (dirpath, dirnames, filenames) in walk(mypath_x_q21_cnv):\n",
    "    f.extend(filenames)\n",
    "for l in f:\n",
    "    f_x_q21_cnv.append(mypath_x_q21_cnv + '\\\\' + l)  \n",
    "    \n",
    "    \n",
    "f = []\n",
    "f_x_q22_deletion = []\n",
    "mypath_x_q22_deletion = pathBase + 'chr_x_q22_deletion'\n",
    "for (dirpath, dirnames, filenames) in walk(mypath_x_q22_deletion):\n",
    "    f.extend(filenames)\n",
    "for l in f:\n",
    "    f_x_q22_deletion.append(mypath_x_q22_deletion + '\\\\' + l)      \n",
    "\n",
    "    \n",
    "theWhole['chr_01'] = f_01\n",
    "theWhole['chr_02'] = f_02\n",
    "theWhole['chr_03'] = f_03\n",
    "theWhole['chr_04'] = f_04\n",
    "theWhole['chr_05'] = f_05\n",
    "theWhole['chr_06'] = f_06\n",
    "theWhole['chr_07'] = f_07\n",
    "theWhole['chr_08'] = f_08\n",
    "theWhole['chr_09'] = f_09\n",
    "theWhole['chr_10'] = f_10\n",
    "theWhole['chr_11'] = f_11\n",
    "theWhole['chr_12'] = f_12\n",
    "theWhole['chr_13'] = f_13\n",
    "theWhole['chr_14'] = f_14\n",
    "theWhole['chr_15'] = f_15\n",
    "theWhole['chr_16'] = f_16\n",
    "theWhole['chr_17'] = f_17\n",
    "theWhole['chr_18'] = f_18\n",
    "theWhole['chr_19'] = f_19\n",
    "theWhole['chr_20'] = f_20\n",
    "theWhole['chr_21'] = f_21\n",
    "theWhole['chr_22'] = f_22\n",
    "theWhole['chr_x'] = f_x\n",
    "theWhole['chr_y'] = f_y\n",
    "\n",
    "theWhole['chr_18_p11_deletion'] = f_18_p11_deletion\n",
    "theWhole['chr_18_q10_isochromosome'] = f_18_q10_isochromosome\n",
    "\n",
    "theWhole['chr_9_inversion'] = f_9_inversion\n",
    "\n",
    "theWhole['chr_5_p14_deletion'] = f_5_p14_deletion    \n",
    "\n",
    "theWhole['chr_x_isochromosome'] = f_x_isochromosome\n",
    "theWhole['chr_x_p22_cnv'] = f_x_p22_cnv\n",
    "theWhole['chr_x_q21_cnv'] = f_x_q21_cnv\n",
    "theWhole['chr_x_q22_deletion'] = f_x_q22_deletion"
   ]
  },
  {
   "cell_type": "code",
   "execution_count": null,
   "metadata": {
    "id": "NfFLITEfhM8n"
   },
   "outputs": [],
   "source": [
    "image = {}\n",
    "i = 0\n",
    "\n",
    "for chrNo in theWhole.keys():\n",
    "    image[chrNo] = []\n",
    "    for case in theWhole[chrNo]:\n",
    "        img = Image.open(case)\n",
    "        image[chrNo].append(img)    "
   ]
  },
  {
   "cell_type": "markdown",
   "metadata": {
    "id": "3XDMPsD9hM8p"
   },
   "source": [
    "### Data Extraction"
   ]
  },
  {
   "cell_type": "code",
   "execution_count": null,
   "metadata": {
    "id": "Gb06RhsmhM8p"
   },
   "outputs": [],
   "source": [
    "data = {}\n",
    "#rgb_data = {}\n",
    "\n",
    "for chrNo in image.keys():\n",
    "    data[chrNo] = []; \n",
    "    #rgb_data[chrNo] = []\n",
    "    for case in image[chrNo]:\n",
    "        grey, rgb = extractData(case)\n",
    "        data[chrNo].append(grey)\n",
    "        #rgb_data[chrNo].append(rgb)"
   ]
  },
  {
   "cell_type": "code",
   "execution_count": null,
   "metadata": {
    "id": "FeStRxHbhM8s"
   },
   "outputs": [],
   "source": [
    "array = {}\n",
    "\n",
    "for chrNo in data.keys():\n",
    "    array[chrNo] = []\n",
    "    for case in data[chrNo]:            \n",
    "        array[chrNo].append(case)\n",
    "\n",
    "x_test_list = []\n",
    "y_test_list = []\n",
    "\n",
    "for y, x in array.items():    \n",
    "    for x_item in x:\n",
    "        x_test_list.append(x_item)\n",
    "        y_test_list.append(y)"
   ]
  },
  {
   "cell_type": "markdown",
   "metadata": {
    "id": "RnCeMOFb6eTi"
   },
   "source": [
    "## ChromConvert"
   ]
  },
  {
   "cell_type": "code",
   "execution_count": null,
   "metadata": {
    "id": "s_tsRiRR6eTi"
   },
   "outputs": [],
   "source": [
    "y_train_digital_list = []\n",
    "for item in y_train_list:\n",
    "    y_train_digital_list.append(chromConvert[item])\n",
    "    \n",
    "y_test_digital_list = []\n",
    "for item in y_test_list:\n",
    "    y_test_digital_list.append(chromConvert[item])"
   ]
  },
  {
   "cell_type": "markdown",
   "metadata": {
    "id": "vro81GFs6eTk"
   },
   "source": [
    "## Numpy Array"
   ]
  },
  {
   "cell_type": "code",
   "execution_count": null,
   "metadata": {
    "id": "_icbrlte6eTk"
   },
   "outputs": [],
   "source": [
    "X_train = np.array(x_train_list)\n",
    "y_train = np.array(y_train_digital_list)"
   ]
  },
  {
   "cell_type": "code",
   "execution_count": null,
   "metadata": {
    "id": "ilm3FNfchM8w"
   },
   "outputs": [],
   "source": [
    "X_test = np.array(x_test_list)\n",
    "y_test = np.array(y_test_digital_list)"
   ]
  },
  {
   "cell_type": "code",
   "execution_count": null,
   "metadata": {
    "id": "fd4IshKW6eTn",
    "outputId": "5b94f76c-edd5-48f2-c399-c2379916fa40",
    "scrolled": true
   },
   "outputs": [
    {
     "data": {
      "text/plain": [
       "array([ 1,  1,  1,  1,  1,  1,  1,  1,  1,  1,  2,  2,  2,  2,  2,  2,  2,\n",
       "        2,  2,  2,  3,  3,  3,  3,  3,  3,  3,  3,  3,  3,  4,  4,  4,  4,\n",
       "        4,  4,  4,  4,  4,  4,  5,  5,  5,  5,  5,  5,  5,  5,  5,  5,  6,\n",
       "        6,  6,  6,  6,  6,  6,  6,  6,  6,  7,  7,  7,  7,  7,  7,  7,  7,\n",
       "        7,  7,  8,  8,  8,  8,  8,  8,  8,  8,  8,  8,  9,  9,  9,  9,  9,\n",
       "        9,  9,  9,  9,  9, 10, 10, 10, 10, 10, 10, 10, 10, 10, 10, 11, 11,\n",
       "       11, 11, 11, 11, 11, 11, 11, 11, 12, 12, 12, 12, 12, 12, 12, 12, 12,\n",
       "       12, 13, 13, 13, 13, 13, 13, 13, 13, 13, 13, 14, 14, 14, 14, 14, 14,\n",
       "       14, 14, 14, 14, 15, 15, 15, 15, 15, 15, 15, 15, 15, 15, 16, 16, 16,\n",
       "       16, 16, 16, 16, 16, 16, 16, 17, 17, 17, 17, 17, 17, 17, 17, 17, 17,\n",
       "       18, 18, 18, 18, 18, 18, 18, 18, 18, 18, 19, 19, 19, 19, 19, 19, 19,\n",
       "       19, 19, 19, 20, 20, 20, 20, 20, 20, 20, 20, 20, 20, 21, 21, 21, 21,\n",
       "       21, 21, 21, 21, 21, 21, 22, 22, 22, 22, 22, 22, 22, 22, 22, 22,  0,\n",
       "        0,  0,  0,  0,  0,  0,  0,  0,  0, 23, 23, 23, 23, 23, 23, 23, 23,\n",
       "       23, 23, 24, 24, 24, 24, 24, 24, 24, 24, 24, 24, 25, 25, 25, 25, 25,\n",
       "       25, 25, 25, 25, 26, 26, 26, 26, 26, 26, 26, 26, 26, 26, 27, 27, 27,\n",
       "       27, 27, 27, 27, 27, 27, 28, 28, 28, 28, 28, 28, 28, 28, 28, 28, 29,\n",
       "       29, 29, 29, 29, 29, 29, 30, 30, 30, 30, 30, 30, 30, 30, 30, 30, 31,\n",
       "       31, 31, 31, 31, 31, 31, 31, 31, 31])"
      ]
     },
     "execution_count": 21,
     "metadata": {
      "tags": []
     },
     "output_type": "execute_result"
    }
   ],
   "source": [
    "y_test"
   ]
  },
  {
   "cell_type": "code",
   "execution_count": null,
   "metadata": {
    "id": "g0slwa5t6eTq",
    "outputId": "d8c5e025-3661-43bc-f1b4-4592d1323b92"
   },
   "outputs": [
    {
     "data": {
      "text/plain": [
       "1653"
      ]
     },
     "execution_count": 22,
     "metadata": {
      "tags": []
     },
     "output_type": "execute_result"
    }
   ],
   "source": [
    "len(X_train)"
   ]
  },
  {
   "cell_type": "code",
   "execution_count": null,
   "metadata": {
    "id": "FaBK6CRp6eTs",
    "outputId": "3a411b59-1b63-4116-f9dd-8495ee1d50e7"
   },
   "outputs": [
    {
     "data": {
      "text/plain": [
       "1653"
      ]
     },
     "execution_count": 23,
     "metadata": {
      "tags": []
     },
     "output_type": "execute_result"
    }
   ],
   "source": [
    "len(y_train)"
   ]
  },
  {
   "cell_type": "code",
   "execution_count": null,
   "metadata": {
    "id": "8r_PGmkn6eTv",
    "outputId": "3da386aa-d07a-4285-9b02-7f834c9bcdba"
   },
   "outputs": [
    {
     "data": {
      "text/plain": [
       "(300, 300)"
      ]
     },
     "execution_count": 25,
     "metadata": {
      "tags": []
     },
     "output_type": "execute_result"
    }
   ],
   "source": [
    "X_train[0].shape"
   ]
  },
  {
   "cell_type": "markdown",
   "metadata": {
    "id": "w6JHLc0khM8y"
   },
   "source": [
    "## Save the Datasets"
   ]
  },
  {
   "cell_type": "code",
   "execution_count": null,
   "metadata": {
    "id": "ZwZnN84ghM8y"
   },
   "outputs": [],
   "source": [
    "np.save('X_train_2D_KaryoLearning_Abnormal', X_train)\n",
    "np.save('y_train_2D_KaryoLearning_Abnormal', y_train)"
   ]
  },
  {
   "cell_type": "code",
   "execution_count": null,
   "metadata": {
    "id": "2DV0IIz7hM80"
   },
   "outputs": [],
   "source": [
    "np.save('X_test_2D_KaryoLearning_Abnormal', X_test)\n",
    "np.save('y_test_2D_KaryoLearning_Abnormal', y_test)"
   ]
  },
  {
   "cell_type": "markdown",
   "metadata": {
    "id": "tHi_7uq7hM81"
   },
   "source": [
    "## Load the Datasets"
   ]
  },
  {
   "cell_type": "code",
   "execution_count": null,
   "metadata": {
    "id": "tP5TTXkJhM82"
   },
   "outputs": [],
   "source": [
    "X_train = np.load('X_train_2D_KaryoLearning_Abnormal.npy')\n",
    "y_train = np.load('y_train_2D_KaryoLearning_Abnormal.npy')\n",
    "\n",
    "X_test = np.load('X_test_2D_KaryoLearning_Abnormal.npy')\n",
    "y_test = np.load('y_test_2D_KaryoLearning_Abnormal.npy')"
   ]
  },
  {
   "cell_type": "markdown",
   "metadata": {
    "id": "zKWSId2nhM83"
   },
   "source": [
    "## Convolutional Neural Network"
   ]
  },
  {
   "cell_type": "markdown",
   "metadata": {
    "id": "8aiKh0ll6eT4"
   },
   "source": [
    "## Data Preparation"
   ]
  },
  {
   "cell_type": "code",
   "execution_count": null,
   "metadata": {
    "id": "H6Oqod2-6eT5"
   },
   "outputs": [],
   "source": [
    "X_train = X_train.reshape(-1, 300, 300, 1)\n",
    "X_test = X_test.reshape(-1, 300, 300, 1)"
   ]
  },
  {
   "cell_type": "markdown",
   "metadata": {
    "id": "U9HLQx8dhM84"
   },
   "source": [
    "### Training"
   ]
  },
  {
   "cell_type": "markdown",
   "metadata": {
    "id": "xpM5Mh8fhM84"
   },
   "source": [
    "#### Modal"
   ]
  },
  {
   "cell_type": "code",
   "execution_count": null,
   "metadata": {
    "id": "jeX02jNmhM85"
   },
   "outputs": [],
   "source": [
    "model = Sequential()"
   ]
  },
  {
   "cell_type": "code",
   "execution_count": null,
   "metadata": {
    "id": "Ye4CMPeK6eT9"
   },
   "outputs": [],
   "source": [
    "model.add(Conv2D(32, (3, 3), activation='relu', input_shape=(300, 300, 1)))\n",
    "model.add(MaxPooling2D((2, 2)))\n",
    "model.add(Conv2D(64, (3, 3), activation='relu'))\n",
    "model.add(MaxPooling2D((2, 2)))\n",
    "model.add(Conv2D(64, (3, 3), activation='relu'))"
   ]
  },
  {
   "cell_type": "code",
   "execution_count": null,
   "metadata": {
    "id": "lX1mieLJ6eT_"
   },
   "outputs": [],
   "source": [
    "model.add(Flatten())\n",
    "model.add(Dense(300, activation='relu'))\n",
    "model.add(Dense(200, activation='relu'))\n",
    "model.add(Dense(32, activation='softmax'))"
   ]
  },
  {
   "cell_type": "markdown",
   "metadata": {
    "id": "rOtNj0jlhM87"
   },
   "source": [
    "#### Tensorboard Initilization"
   ]
  },
  {
   "cell_type": "code",
   "execution_count": null,
   "metadata": {
    "id": "VEg0lb4OhM87"
   },
   "outputs": [],
   "source": [
    "%load_ext tensorboard\n",
    "log_dir = \"logs/fit/\" + datetime.datetime.now().strftime(\"%Y%m%d-%H%M%S\")\n",
    "tensorboard_callback = keras.callbacks.TensorBoard(log_dir=log_dir, histogram_freq=1)"
   ]
  },
  {
   "cell_type": "markdown",
   "metadata": {
    "id": "P4zqonYwhM8-"
   },
   "source": [
    "#### Compile the modal"
   ]
  },
  {
   "cell_type": "code",
   "execution_count": null,
   "metadata": {
    "id": "wYvievAshM8_"
   },
   "outputs": [],
   "source": [
    "model.compile(optimizer='adam', loss='sparse_categorical_crossentropy', metrics=['accuracy'])"
   ]
  },
  {
   "cell_type": "markdown",
   "metadata": {
    "id": "ElbCMim9hM9D"
   },
   "source": [
    "#### Training"
   ]
  },
  {
   "cell_type": "code",
   "execution_count": null,
   "metadata": {
    "id": "_PtUAhxphM9D",
    "outputId": "4b6365a1-9647-48ce-d5db-1a9c7a7da795"
   },
   "outputs": [
    {
     "name": "stdout",
     "output_type": "stream",
     "text": [
      "Epoch 1/10\n",
      " 1/26 [>.............................] - ETA: 0s - loss: 38.4976 - accuracy: 0.0625WARNING:tensorflow:From C:\\Anaconda3\\lib\\site-packages\\tensorflow\\python\\ops\\summary_ops_v2.py:1277: stop (from tensorflow.python.eager.profiler) is deprecated and will be removed after 2020-07-01.\n",
      "Instructions for updating:\n",
      "use `tf.profiler.experimental.stop` instead.\n",
      "26/26 [==============================] - 89s 3s/step - loss: 435.8221 - accuracy: 0.1500 - val_loss: 5.1224 - val_accuracy: 0.0317\n",
      "Epoch 2/10\n",
      "26/26 [==============================] - 87s 3s/step - loss: 2.6093 - accuracy: 0.3866 - val_loss: 2.2721 - val_accuracy: 0.4889\n",
      "Epoch 3/10\n",
      "26/26 [==============================] - 87s 3s/step - loss: 0.6832 - accuracy: 0.8058 - val_loss: 1.4553 - val_accuracy: 0.6603\n",
      "Epoch 4/10\n",
      "26/26 [==============================] - 87s 3s/step - loss: 0.1625 - accuracy: 0.9540 - val_loss: 1.0818 - val_accuracy: 0.7619\n",
      "Epoch 5/10\n",
      "26/26 [==============================] - 88s 3s/step - loss: 1.1104 - accuracy: 0.8621 - val_loss: 2.0823 - val_accuracy: 0.5683\n",
      "Epoch 6/10\n",
      "26/26 [==============================] - 87s 3s/step - loss: 0.4859 - accuracy: 0.8639 - val_loss: 1.5961 - val_accuracy: 0.6317\n",
      "Epoch 7/10\n",
      "26/26 [==============================] - 87s 3s/step - loss: 0.1170 - accuracy: 0.9649 - val_loss: 1.4132 - val_accuracy: 0.7111\n",
      "Epoch 8/10\n",
      "26/26 [==============================] - 89s 3s/step - loss: 0.0617 - accuracy: 0.9867 - val_loss: 1.3967 - val_accuracy: 0.7397\n",
      "Epoch 9/10\n",
      "26/26 [==============================] - 87s 3s/step - loss: 0.0550 - accuracy: 0.9909 - val_loss: 1.5049 - val_accuracy: 0.7365\n",
      "Epoch 10/10\n",
      "26/26 [==============================] - 88s 3s/step - loss: 0.0279 - accuracy: 0.9964 - val_loss: 1.4086 - val_accuracy: 0.7365\n"
     ]
    },
    {
     "data": {
      "text/plain": [
       "<tensorflow.python.keras.callbacks.History at 0x2042015c0b8>"
      ]
     },
     "execution_count": 32,
     "metadata": {
      "tags": []
     },
     "output_type": "execute_result"
    }
   ],
   "source": [
    "model.fit(X_train, y_train, epochs=10, batch_size=64, verbose=1, \n",
    "          validation_data=(X_test, y_test),\n",
    "          callbacks=[tensorboard_callback])"
   ]
  },
  {
   "cell_type": "code",
   "execution_count": null,
   "metadata": {
    "id": "oc6qL9tKhM9F",
    "outputId": "c1edf375-20b1-4fc9-e2dc-5dca20b67058"
   },
   "outputs": [
    {
     "name": "stdout",
     "output_type": "stream",
     "text": [
      "Model: \"sequential\"\n",
      "_________________________________________________________________\n",
      "Layer (type)                 Output Shape              Param #   \n",
      "=================================================================\n",
      "conv2d (Conv2D)              (None, 298, 298, 32)      320       \n",
      "_________________________________________________________________\n",
      "max_pooling2d (MaxPooling2D) (None, 149, 149, 32)      0         \n",
      "_________________________________________________________________\n",
      "conv2d_1 (Conv2D)            (None, 147, 147, 64)      18496     \n",
      "_________________________________________________________________\n",
      "max_pooling2d_1 (MaxPooling2 (None, 73, 73, 64)        0         \n",
      "_________________________________________________________________\n",
      "conv2d_2 (Conv2D)            (None, 71, 71, 64)        36928     \n",
      "_________________________________________________________________\n",
      "flatten (Flatten)            (None, 322624)            0         \n",
      "_________________________________________________________________\n",
      "dense (Dense)                (None, 300)               96787500  \n",
      "_________________________________________________________________\n",
      "dense_1 (Dense)              (None, 200)               60200     \n",
      "_________________________________________________________________\n",
      "dense_2 (Dense)              (None, 32)                6432      \n",
      "=================================================================\n",
      "Total params: 96,909,876\n",
      "Trainable params: 96,909,876\n",
      "Non-trainable params: 0\n",
      "_________________________________________________________________\n"
     ]
    }
   ],
   "source": [
    "model.summary()"
   ]
  },
  {
   "cell_type": "markdown",
   "metadata": {
    "id": "6IOse7UahM9H"
   },
   "source": [
    "### Tensorboard Display"
   ]
  },
  {
   "cell_type": "code",
   "execution_count": null,
   "metadata": {
    "id": "V7O2fNf7hM9I",
    "outputId": "f0ffcc4e-8ca3-4d75-feb4-d1788acaf4c8"
   },
   "outputs": [
    {
     "data": {
      "text/plain": [
       "Reusing TensorBoard on port 6006 (pid 28884), started 16:32:53 ago. (Use '!kill 28884' to kill it.)"
      ]
     },
     "metadata": {
      "tags": []
     },
     "output_type": "display_data"
    },
    {
     "data": {
      "text/html": [
       "\n",
       "      <iframe id=\"tensorboard-frame-ac322a063df3500c\" width=\"100%\" height=\"800\" frameborder=\"0\">\n",
       "      </iframe>\n",
       "      <script>\n",
       "        (function() {\n",
       "          const frame = document.getElementById(\"tensorboard-frame-ac322a063df3500c\");\n",
       "          const url = new URL(\"/\", window.location);\n",
       "          const port = 6006;\n",
       "          if (port) {\n",
       "            url.port = port;\n",
       "          }\n",
       "          frame.src = url;\n",
       "        })();\n",
       "      </script>\n",
       "    "
      ],
      "text/plain": [
       "<IPython.core.display.HTML object>"
      ]
     },
     "metadata": {
      "tags": []
     },
     "output_type": "display_data"
    }
   ],
   "source": [
    "%tensorboard --logdir logs/fit"
   ]
  },
  {
   "cell_type": "markdown",
   "metadata": {
    "id": "XQJKzdwChM9J"
   },
   "source": [
    "## Performance Measures"
   ]
  },
  {
   "cell_type": "code",
   "execution_count": null,
   "metadata": {
    "id": "gIs4_UUvhM9K",
    "outputId": "c1ac50e2-38a5-46bb-f869-e1673675e1a6"
   },
   "outputs": [
    {
     "name": "stdout",
     "output_type": "stream",
     "text": [
      "Test Accuracy: 0.737\n"
     ]
    }
   ],
   "source": [
    "#y_predict = clf.predict(X_test)\n",
    "#y_test = y_test\n",
    "\n",
    "loss, acc = model.evaluate(X_test, y_test, verbose=0)\n",
    "print('Test Accuracy: %.3f' % acc)"
   ]
  },
  {
   "cell_type": "code",
   "execution_count": null,
   "metadata": {
    "id": "93XNN2Wx6eUQ",
    "outputId": "c6e76c66-8bfd-4c39-fc91-a779226eb977"
   },
   "outputs": [
    {
     "data": {
      "text/plain": [
       "315"
      ]
     },
     "execution_count": 36,
     "metadata": {
      "tags": []
     },
     "output_type": "execute_result"
    }
   ],
   "source": [
    "len(X_test)"
   ]
  },
  {
   "cell_type": "code",
   "execution_count": null,
   "metadata": {
    "id": "Jm6MN7H5hM9M",
    "scrolled": false
   },
   "outputs": [],
   "source": [
    "y_predict = model.predict(X_test)"
   ]
  },
  {
   "cell_type": "code",
   "execution_count": null,
   "metadata": {
    "id": "DZf8umyT6eUV",
    "outputId": "37eabade-8f0a-4a19-e6dc-423bf129c3e9",
    "scrolled": true
   },
   "outputs": [
    {
     "data": {
      "text/plain": [
       "315"
      ]
     },
     "execution_count": 38,
     "metadata": {
      "tags": []
     },
     "output_type": "execute_result"
    }
   ],
   "source": [
    "len(y_predict)"
   ]
  },
  {
   "cell_type": "code",
   "execution_count": null,
   "metadata": {
    "id": "VdJGvieR6eUY"
   },
   "outputs": [],
   "source": [
    "y_predict_filtered = []\n",
    "\n",
    "for sample in y_predict:\n",
    "    maximum = 0\n",
    "    indicator = 0\n",
    "    for i in range(32):\n",
    "        if sample[i] > maximum:\n",
    "            maximum = sample[i]\n",
    "            indicator = i\n",
    "    y_predict_filtered.append(indicator)        "
   ]
  },
  {
   "cell_type": "code",
   "execution_count": null,
   "metadata": {
    "id": "p5fk-IHP6eUb",
    "outputId": "191ef101-e2f8-4dab-f4a6-2fd7418ac959"
   },
   "outputs": [
    {
     "data": {
      "text/plain": [
       "315"
      ]
     },
     "execution_count": 45,
     "metadata": {
      "tags": []
     },
     "output_type": "execute_result"
    }
   ],
   "source": [
    "len(y_predict_filtered)"
   ]
  },
  {
   "cell_type": "code",
   "execution_count": null,
   "metadata": {
    "id": "pP-vPuuUhM9O",
    "outputId": "22db63cd-ab18-4569-afe2-033c36a10cd4"
   },
   "outputs": [
    {
     "data": {
      "text/plain": [
       "315"
      ]
     },
     "execution_count": 46,
     "metadata": {
      "tags": []
     },
     "output_type": "execute_result"
    }
   ],
   "source": [
    "len(y_test)"
   ]
  },
  {
   "cell_type": "code",
   "execution_count": null,
   "metadata": {
    "id": "ITpfGWxg6eUf"
   },
   "outputs": [],
   "source": []
  },
  {
   "cell_type": "markdown",
   "metadata": {
    "id": "wFuk9U3RhM9Q"
   },
   "source": [
    "### Confusion Matrix (混淆矩阵)"
   ]
  },
  {
   "cell_type": "code",
   "execution_count": null,
   "metadata": {
    "id": "nzASGN6ghM9Q",
    "outputId": "87b406d2-255d-4119-d862-5f6a6f2a8c96",
    "scrolled": false
   },
   "outputs": [
    {
     "data": {
      "text/html": [
       "<div>\n",
       "<style scoped>\n",
       "    .dataframe tbody tr th:only-of-type {\n",
       "        vertical-align: middle;\n",
       "    }\n",
       "\n",
       "    .dataframe tbody tr th {\n",
       "        vertical-align: top;\n",
       "    }\n",
       "\n",
       "    .dataframe thead th {\n",
       "        text-align: right;\n",
       "    }\n",
       "</style>\n",
       "<table border=\"1\" class=\"dataframe\">\n",
       "  <thead>\n",
       "    <tr style=\"text-align: right;\">\n",
       "      <th></th>\n",
       "      <th>0</th>\n",
       "      <th>1</th>\n",
       "      <th>2</th>\n",
       "      <th>3</th>\n",
       "      <th>4</th>\n",
       "      <th>5</th>\n",
       "      <th>6</th>\n",
       "      <th>7</th>\n",
       "      <th>8</th>\n",
       "      <th>9</th>\n",
       "      <th>...</th>\n",
       "      <th>22</th>\n",
       "      <th>23</th>\n",
       "      <th>24</th>\n",
       "      <th>25</th>\n",
       "      <th>26</th>\n",
       "      <th>27</th>\n",
       "      <th>28</th>\n",
       "      <th>29</th>\n",
       "      <th>30</th>\n",
       "      <th>31</th>\n",
       "    </tr>\n",
       "  </thead>\n",
       "  <tbody>\n",
       "    <tr>\n",
       "      <th>0</th>\n",
       "      <td>6</td>\n",
       "      <td>0</td>\n",
       "      <td>0</td>\n",
       "      <td>0</td>\n",
       "      <td>0</td>\n",
       "      <td>0</td>\n",
       "      <td>0</td>\n",
       "      <td>0</td>\n",
       "      <td>0</td>\n",
       "      <td>3</td>\n",
       "      <td>...</td>\n",
       "      <td>0</td>\n",
       "      <td>0</td>\n",
       "      <td>0</td>\n",
       "      <td>0</td>\n",
       "      <td>0</td>\n",
       "      <td>0</td>\n",
       "      <td>0</td>\n",
       "      <td>0</td>\n",
       "      <td>0</td>\n",
       "      <td>0</td>\n",
       "    </tr>\n",
       "    <tr>\n",
       "      <th>1</th>\n",
       "      <td>0</td>\n",
       "      <td>10</td>\n",
       "      <td>0</td>\n",
       "      <td>0</td>\n",
       "      <td>0</td>\n",
       "      <td>0</td>\n",
       "      <td>0</td>\n",
       "      <td>0</td>\n",
       "      <td>0</td>\n",
       "      <td>0</td>\n",
       "      <td>...</td>\n",
       "      <td>0</td>\n",
       "      <td>0</td>\n",
       "      <td>0</td>\n",
       "      <td>0</td>\n",
       "      <td>0</td>\n",
       "      <td>0</td>\n",
       "      <td>0</td>\n",
       "      <td>0</td>\n",
       "      <td>0</td>\n",
       "      <td>0</td>\n",
       "    </tr>\n",
       "    <tr>\n",
       "      <th>2</th>\n",
       "      <td>0</td>\n",
       "      <td>1</td>\n",
       "      <td>8</td>\n",
       "      <td>0</td>\n",
       "      <td>0</td>\n",
       "      <td>0</td>\n",
       "      <td>0</td>\n",
       "      <td>0</td>\n",
       "      <td>0</td>\n",
       "      <td>1</td>\n",
       "      <td>...</td>\n",
       "      <td>0</td>\n",
       "      <td>0</td>\n",
       "      <td>0</td>\n",
       "      <td>0</td>\n",
       "      <td>0</td>\n",
       "      <td>0</td>\n",
       "      <td>0</td>\n",
       "      <td>0</td>\n",
       "      <td>0</td>\n",
       "      <td>0</td>\n",
       "    </tr>\n",
       "    <tr>\n",
       "      <th>3</th>\n",
       "      <td>0</td>\n",
       "      <td>0</td>\n",
       "      <td>0</td>\n",
       "      <td>9</td>\n",
       "      <td>0</td>\n",
       "      <td>0</td>\n",
       "      <td>0</td>\n",
       "      <td>1</td>\n",
       "      <td>0</td>\n",
       "      <td>0</td>\n",
       "      <td>...</td>\n",
       "      <td>0</td>\n",
       "      <td>0</td>\n",
       "      <td>0</td>\n",
       "      <td>0</td>\n",
       "      <td>0</td>\n",
       "      <td>0</td>\n",
       "      <td>0</td>\n",
       "      <td>0</td>\n",
       "      <td>0</td>\n",
       "      <td>0</td>\n",
       "    </tr>\n",
       "    <tr>\n",
       "      <th>4</th>\n",
       "      <td>0</td>\n",
       "      <td>0</td>\n",
       "      <td>0</td>\n",
       "      <td>1</td>\n",
       "      <td>8</td>\n",
       "      <td>1</td>\n",
       "      <td>0</td>\n",
       "      <td>0</td>\n",
       "      <td>0</td>\n",
       "      <td>0</td>\n",
       "      <td>...</td>\n",
       "      <td>0</td>\n",
       "      <td>0</td>\n",
       "      <td>0</td>\n",
       "      <td>0</td>\n",
       "      <td>0</td>\n",
       "      <td>0</td>\n",
       "      <td>0</td>\n",
       "      <td>0</td>\n",
       "      <td>0</td>\n",
       "      <td>0</td>\n",
       "    </tr>\n",
       "    <tr>\n",
       "      <th>5</th>\n",
       "      <td>0</td>\n",
       "      <td>0</td>\n",
       "      <td>1</td>\n",
       "      <td>0</td>\n",
       "      <td>1</td>\n",
       "      <td>8</td>\n",
       "      <td>0</td>\n",
       "      <td>0</td>\n",
       "      <td>0</td>\n",
       "      <td>0</td>\n",
       "      <td>...</td>\n",
       "      <td>0</td>\n",
       "      <td>0</td>\n",
       "      <td>0</td>\n",
       "      <td>0</td>\n",
       "      <td>0</td>\n",
       "      <td>0</td>\n",
       "      <td>0</td>\n",
       "      <td>0</td>\n",
       "      <td>0</td>\n",
       "      <td>0</td>\n",
       "    </tr>\n",
       "    <tr>\n",
       "      <th>6</th>\n",
       "      <td>0</td>\n",
       "      <td>0</td>\n",
       "      <td>0</td>\n",
       "      <td>0</td>\n",
       "      <td>0</td>\n",
       "      <td>0</td>\n",
       "      <td>9</td>\n",
       "      <td>0</td>\n",
       "      <td>0</td>\n",
       "      <td>0</td>\n",
       "      <td>...</td>\n",
       "      <td>0</td>\n",
       "      <td>0</td>\n",
       "      <td>0</td>\n",
       "      <td>0</td>\n",
       "      <td>0</td>\n",
       "      <td>0</td>\n",
       "      <td>0</td>\n",
       "      <td>0</td>\n",
       "      <td>0</td>\n",
       "      <td>0</td>\n",
       "    </tr>\n",
       "    <tr>\n",
       "      <th>7</th>\n",
       "      <td>0</td>\n",
       "      <td>0</td>\n",
       "      <td>0</td>\n",
       "      <td>0</td>\n",
       "      <td>0</td>\n",
       "      <td>0</td>\n",
       "      <td>0</td>\n",
       "      <td>10</td>\n",
       "      <td>0</td>\n",
       "      <td>0</td>\n",
       "      <td>...</td>\n",
       "      <td>0</td>\n",
       "      <td>0</td>\n",
       "      <td>0</td>\n",
       "      <td>0</td>\n",
       "      <td>0</td>\n",
       "      <td>0</td>\n",
       "      <td>0</td>\n",
       "      <td>0</td>\n",
       "      <td>0</td>\n",
       "      <td>0</td>\n",
       "    </tr>\n",
       "    <tr>\n",
       "      <th>8</th>\n",
       "      <td>0</td>\n",
       "      <td>0</td>\n",
       "      <td>0</td>\n",
       "      <td>0</td>\n",
       "      <td>0</td>\n",
       "      <td>0</td>\n",
       "      <td>0</td>\n",
       "      <td>0</td>\n",
       "      <td>10</td>\n",
       "      <td>0</td>\n",
       "      <td>...</td>\n",
       "      <td>0</td>\n",
       "      <td>0</td>\n",
       "      <td>0</td>\n",
       "      <td>0</td>\n",
       "      <td>0</td>\n",
       "      <td>0</td>\n",
       "      <td>0</td>\n",
       "      <td>0</td>\n",
       "      <td>0</td>\n",
       "      <td>0</td>\n",
       "    </tr>\n",
       "    <tr>\n",
       "      <th>9</th>\n",
       "      <td>0</td>\n",
       "      <td>0</td>\n",
       "      <td>0</td>\n",
       "      <td>0</td>\n",
       "      <td>0</td>\n",
       "      <td>0</td>\n",
       "      <td>0</td>\n",
       "      <td>1</td>\n",
       "      <td>0</td>\n",
       "      <td>9</td>\n",
       "      <td>...</td>\n",
       "      <td>0</td>\n",
       "      <td>0</td>\n",
       "      <td>0</td>\n",
       "      <td>0</td>\n",
       "      <td>0</td>\n",
       "      <td>0</td>\n",
       "      <td>0</td>\n",
       "      <td>0</td>\n",
       "      <td>0</td>\n",
       "      <td>0</td>\n",
       "    </tr>\n",
       "    <tr>\n",
       "      <th>10</th>\n",
       "      <td>1</td>\n",
       "      <td>0</td>\n",
       "      <td>0</td>\n",
       "      <td>0</td>\n",
       "      <td>0</td>\n",
       "      <td>0</td>\n",
       "      <td>1</td>\n",
       "      <td>0</td>\n",
       "      <td>0</td>\n",
       "      <td>1</td>\n",
       "      <td>...</td>\n",
       "      <td>0</td>\n",
       "      <td>0</td>\n",
       "      <td>0</td>\n",
       "      <td>0</td>\n",
       "      <td>0</td>\n",
       "      <td>0</td>\n",
       "      <td>0</td>\n",
       "      <td>0</td>\n",
       "      <td>0</td>\n",
       "      <td>0</td>\n",
       "    </tr>\n",
       "    <tr>\n",
       "      <th>11</th>\n",
       "      <td>0</td>\n",
       "      <td>0</td>\n",
       "      <td>0</td>\n",
       "      <td>0</td>\n",
       "      <td>0</td>\n",
       "      <td>0</td>\n",
       "      <td>0</td>\n",
       "      <td>0</td>\n",
       "      <td>0</td>\n",
       "      <td>0</td>\n",
       "      <td>...</td>\n",
       "      <td>0</td>\n",
       "      <td>0</td>\n",
       "      <td>0</td>\n",
       "      <td>0</td>\n",
       "      <td>0</td>\n",
       "      <td>0</td>\n",
       "      <td>0</td>\n",
       "      <td>0</td>\n",
       "      <td>0</td>\n",
       "      <td>0</td>\n",
       "    </tr>\n",
       "    <tr>\n",
       "      <th>12</th>\n",
       "      <td>0</td>\n",
       "      <td>0</td>\n",
       "      <td>0</td>\n",
       "      <td>0</td>\n",
       "      <td>0</td>\n",
       "      <td>0</td>\n",
       "      <td>0</td>\n",
       "      <td>0</td>\n",
       "      <td>0</td>\n",
       "      <td>0</td>\n",
       "      <td>...</td>\n",
       "      <td>0</td>\n",
       "      <td>0</td>\n",
       "      <td>0</td>\n",
       "      <td>0</td>\n",
       "      <td>0</td>\n",
       "      <td>0</td>\n",
       "      <td>0</td>\n",
       "      <td>0</td>\n",
       "      <td>0</td>\n",
       "      <td>0</td>\n",
       "    </tr>\n",
       "    <tr>\n",
       "      <th>13</th>\n",
       "      <td>0</td>\n",
       "      <td>0</td>\n",
       "      <td>0</td>\n",
       "      <td>0</td>\n",
       "      <td>1</td>\n",
       "      <td>0</td>\n",
       "      <td>1</td>\n",
       "      <td>0</td>\n",
       "      <td>0</td>\n",
       "      <td>0</td>\n",
       "      <td>...</td>\n",
       "      <td>0</td>\n",
       "      <td>0</td>\n",
       "      <td>0</td>\n",
       "      <td>0</td>\n",
       "      <td>0</td>\n",
       "      <td>0</td>\n",
       "      <td>0</td>\n",
       "      <td>0</td>\n",
       "      <td>0</td>\n",
       "      <td>0</td>\n",
       "    </tr>\n",
       "    <tr>\n",
       "      <th>14</th>\n",
       "      <td>1</td>\n",
       "      <td>0</td>\n",
       "      <td>0</td>\n",
       "      <td>0</td>\n",
       "      <td>0</td>\n",
       "      <td>0</td>\n",
       "      <td>0</td>\n",
       "      <td>0</td>\n",
       "      <td>0</td>\n",
       "      <td>0</td>\n",
       "      <td>...</td>\n",
       "      <td>0</td>\n",
       "      <td>0</td>\n",
       "      <td>0</td>\n",
       "      <td>0</td>\n",
       "      <td>0</td>\n",
       "      <td>0</td>\n",
       "      <td>0</td>\n",
       "      <td>0</td>\n",
       "      <td>0</td>\n",
       "      <td>0</td>\n",
       "    </tr>\n",
       "    <tr>\n",
       "      <th>15</th>\n",
       "      <td>0</td>\n",
       "      <td>0</td>\n",
       "      <td>0</td>\n",
       "      <td>0</td>\n",
       "      <td>0</td>\n",
       "      <td>0</td>\n",
       "      <td>0</td>\n",
       "      <td>0</td>\n",
       "      <td>0</td>\n",
       "      <td>0</td>\n",
       "      <td>...</td>\n",
       "      <td>0</td>\n",
       "      <td>0</td>\n",
       "      <td>0</td>\n",
       "      <td>0</td>\n",
       "      <td>0</td>\n",
       "      <td>0</td>\n",
       "      <td>0</td>\n",
       "      <td>0</td>\n",
       "      <td>0</td>\n",
       "      <td>0</td>\n",
       "    </tr>\n",
       "    <tr>\n",
       "      <th>16</th>\n",
       "      <td>0</td>\n",
       "      <td>0</td>\n",
       "      <td>0</td>\n",
       "      <td>0</td>\n",
       "      <td>0</td>\n",
       "      <td>0</td>\n",
       "      <td>0</td>\n",
       "      <td>0</td>\n",
       "      <td>0</td>\n",
       "      <td>0</td>\n",
       "      <td>...</td>\n",
       "      <td>0</td>\n",
       "      <td>0</td>\n",
       "      <td>0</td>\n",
       "      <td>0</td>\n",
       "      <td>0</td>\n",
       "      <td>0</td>\n",
       "      <td>0</td>\n",
       "      <td>0</td>\n",
       "      <td>0</td>\n",
       "      <td>0</td>\n",
       "    </tr>\n",
       "    <tr>\n",
       "      <th>17</th>\n",
       "      <td>0</td>\n",
       "      <td>0</td>\n",
       "      <td>0</td>\n",
       "      <td>0</td>\n",
       "      <td>0</td>\n",
       "      <td>0</td>\n",
       "      <td>0</td>\n",
       "      <td>0</td>\n",
       "      <td>0</td>\n",
       "      <td>0</td>\n",
       "      <td>...</td>\n",
       "      <td>0</td>\n",
       "      <td>0</td>\n",
       "      <td>0</td>\n",
       "      <td>0</td>\n",
       "      <td>0</td>\n",
       "      <td>0</td>\n",
       "      <td>0</td>\n",
       "      <td>0</td>\n",
       "      <td>0</td>\n",
       "      <td>0</td>\n",
       "    </tr>\n",
       "    <tr>\n",
       "      <th>18</th>\n",
       "      <td>0</td>\n",
       "      <td>0</td>\n",
       "      <td>0</td>\n",
       "      <td>0</td>\n",
       "      <td>0</td>\n",
       "      <td>0</td>\n",
       "      <td>0</td>\n",
       "      <td>0</td>\n",
       "      <td>0</td>\n",
       "      <td>0</td>\n",
       "      <td>...</td>\n",
       "      <td>0</td>\n",
       "      <td>0</td>\n",
       "      <td>0</td>\n",
       "      <td>0</td>\n",
       "      <td>0</td>\n",
       "      <td>0</td>\n",
       "      <td>0</td>\n",
       "      <td>0</td>\n",
       "      <td>0</td>\n",
       "      <td>0</td>\n",
       "    </tr>\n",
       "    <tr>\n",
       "      <th>19</th>\n",
       "      <td>0</td>\n",
       "      <td>0</td>\n",
       "      <td>0</td>\n",
       "      <td>0</td>\n",
       "      <td>0</td>\n",
       "      <td>0</td>\n",
       "      <td>0</td>\n",
       "      <td>0</td>\n",
       "      <td>0</td>\n",
       "      <td>0</td>\n",
       "      <td>...</td>\n",
       "      <td>0</td>\n",
       "      <td>0</td>\n",
       "      <td>0</td>\n",
       "      <td>0</td>\n",
       "      <td>0</td>\n",
       "      <td>0</td>\n",
       "      <td>0</td>\n",
       "      <td>0</td>\n",
       "      <td>0</td>\n",
       "      <td>0</td>\n",
       "    </tr>\n",
       "    <tr>\n",
       "      <th>20</th>\n",
       "      <td>0</td>\n",
       "      <td>0</td>\n",
       "      <td>0</td>\n",
       "      <td>0</td>\n",
       "      <td>0</td>\n",
       "      <td>0</td>\n",
       "      <td>0</td>\n",
       "      <td>0</td>\n",
       "      <td>0</td>\n",
       "      <td>0</td>\n",
       "      <td>...</td>\n",
       "      <td>0</td>\n",
       "      <td>0</td>\n",
       "      <td>0</td>\n",
       "      <td>0</td>\n",
       "      <td>0</td>\n",
       "      <td>0</td>\n",
       "      <td>0</td>\n",
       "      <td>0</td>\n",
       "      <td>0</td>\n",
       "      <td>0</td>\n",
       "    </tr>\n",
       "    <tr>\n",
       "      <th>21</th>\n",
       "      <td>0</td>\n",
       "      <td>0</td>\n",
       "      <td>0</td>\n",
       "      <td>0</td>\n",
       "      <td>0</td>\n",
       "      <td>0</td>\n",
       "      <td>0</td>\n",
       "      <td>0</td>\n",
       "      <td>0</td>\n",
       "      <td>0</td>\n",
       "      <td>...</td>\n",
       "      <td>1</td>\n",
       "      <td>0</td>\n",
       "      <td>0</td>\n",
       "      <td>0</td>\n",
       "      <td>0</td>\n",
       "      <td>0</td>\n",
       "      <td>0</td>\n",
       "      <td>0</td>\n",
       "      <td>0</td>\n",
       "      <td>0</td>\n",
       "    </tr>\n",
       "    <tr>\n",
       "      <th>22</th>\n",
       "      <td>0</td>\n",
       "      <td>0</td>\n",
       "      <td>0</td>\n",
       "      <td>0</td>\n",
       "      <td>0</td>\n",
       "      <td>0</td>\n",
       "      <td>0</td>\n",
       "      <td>0</td>\n",
       "      <td>0</td>\n",
       "      <td>0</td>\n",
       "      <td>...</td>\n",
       "      <td>6</td>\n",
       "      <td>0</td>\n",
       "      <td>0</td>\n",
       "      <td>0</td>\n",
       "      <td>0</td>\n",
       "      <td>0</td>\n",
       "      <td>0</td>\n",
       "      <td>0</td>\n",
       "      <td>0</td>\n",
       "      <td>0</td>\n",
       "    </tr>\n",
       "    <tr>\n",
       "      <th>23</th>\n",
       "      <td>0</td>\n",
       "      <td>0</td>\n",
       "      <td>0</td>\n",
       "      <td>0</td>\n",
       "      <td>0</td>\n",
       "      <td>0</td>\n",
       "      <td>0</td>\n",
       "      <td>0</td>\n",
       "      <td>0</td>\n",
       "      <td>0</td>\n",
       "      <td>...</td>\n",
       "      <td>2</td>\n",
       "      <td>5</td>\n",
       "      <td>0</td>\n",
       "      <td>0</td>\n",
       "      <td>0</td>\n",
       "      <td>0</td>\n",
       "      <td>0</td>\n",
       "      <td>0</td>\n",
       "      <td>0</td>\n",
       "      <td>0</td>\n",
       "    </tr>\n",
       "    <tr>\n",
       "      <th>24</th>\n",
       "      <td>0</td>\n",
       "      <td>0</td>\n",
       "      <td>0</td>\n",
       "      <td>0</td>\n",
       "      <td>0</td>\n",
       "      <td>0</td>\n",
       "      <td>0</td>\n",
       "      <td>0</td>\n",
       "      <td>0</td>\n",
       "      <td>0</td>\n",
       "      <td>...</td>\n",
       "      <td>1</td>\n",
       "      <td>0</td>\n",
       "      <td>7</td>\n",
       "      <td>0</td>\n",
       "      <td>0</td>\n",
       "      <td>0</td>\n",
       "      <td>0</td>\n",
       "      <td>0</td>\n",
       "      <td>0</td>\n",
       "      <td>0</td>\n",
       "    </tr>\n",
       "    <tr>\n",
       "      <th>25</th>\n",
       "      <td>0</td>\n",
       "      <td>0</td>\n",
       "      <td>0</td>\n",
       "      <td>0</td>\n",
       "      <td>0</td>\n",
       "      <td>0</td>\n",
       "      <td>0</td>\n",
       "      <td>0</td>\n",
       "      <td>0</td>\n",
       "      <td>0</td>\n",
       "      <td>...</td>\n",
       "      <td>0</td>\n",
       "      <td>0</td>\n",
       "      <td>1</td>\n",
       "      <td>5</td>\n",
       "      <td>1</td>\n",
       "      <td>0</td>\n",
       "      <td>0</td>\n",
       "      <td>0</td>\n",
       "      <td>0</td>\n",
       "      <td>1</td>\n",
       "    </tr>\n",
       "    <tr>\n",
       "      <th>26</th>\n",
       "      <td>0</td>\n",
       "      <td>0</td>\n",
       "      <td>0</td>\n",
       "      <td>2</td>\n",
       "      <td>0</td>\n",
       "      <td>0</td>\n",
       "      <td>0</td>\n",
       "      <td>1</td>\n",
       "      <td>0</td>\n",
       "      <td>0</td>\n",
       "      <td>...</td>\n",
       "      <td>0</td>\n",
       "      <td>0</td>\n",
       "      <td>0</td>\n",
       "      <td>0</td>\n",
       "      <td>7</td>\n",
       "      <td>0</td>\n",
       "      <td>0</td>\n",
       "      <td>0</td>\n",
       "      <td>0</td>\n",
       "      <td>0</td>\n",
       "    </tr>\n",
       "    <tr>\n",
       "      <th>27</th>\n",
       "      <td>0</td>\n",
       "      <td>0</td>\n",
       "      <td>0</td>\n",
       "      <td>1</td>\n",
       "      <td>2</td>\n",
       "      <td>4</td>\n",
       "      <td>0</td>\n",
       "      <td>0</td>\n",
       "      <td>0</td>\n",
       "      <td>0</td>\n",
       "      <td>...</td>\n",
       "      <td>0</td>\n",
       "      <td>0</td>\n",
       "      <td>0</td>\n",
       "      <td>0</td>\n",
       "      <td>0</td>\n",
       "      <td>2</td>\n",
       "      <td>0</td>\n",
       "      <td>0</td>\n",
       "      <td>0</td>\n",
       "      <td>0</td>\n",
       "    </tr>\n",
       "    <tr>\n",
       "      <th>28</th>\n",
       "      <td>0</td>\n",
       "      <td>1</td>\n",
       "      <td>1</td>\n",
       "      <td>0</td>\n",
       "      <td>0</td>\n",
       "      <td>0</td>\n",
       "      <td>0</td>\n",
       "      <td>0</td>\n",
       "      <td>0</td>\n",
       "      <td>0</td>\n",
       "      <td>...</td>\n",
       "      <td>0</td>\n",
       "      <td>0</td>\n",
       "      <td>0</td>\n",
       "      <td>0</td>\n",
       "      <td>0</td>\n",
       "      <td>0</td>\n",
       "      <td>3</td>\n",
       "      <td>0</td>\n",
       "      <td>0</td>\n",
       "      <td>0</td>\n",
       "    </tr>\n",
       "    <tr>\n",
       "      <th>29</th>\n",
       "      <td>2</td>\n",
       "      <td>0</td>\n",
       "      <td>0</td>\n",
       "      <td>0</td>\n",
       "      <td>0</td>\n",
       "      <td>0</td>\n",
       "      <td>0</td>\n",
       "      <td>0</td>\n",
       "      <td>0</td>\n",
       "      <td>4</td>\n",
       "      <td>...</td>\n",
       "      <td>0</td>\n",
       "      <td>0</td>\n",
       "      <td>0</td>\n",
       "      <td>0</td>\n",
       "      <td>0</td>\n",
       "      <td>0</td>\n",
       "      <td>0</td>\n",
       "      <td>1</td>\n",
       "      <td>0</td>\n",
       "      <td>0</td>\n",
       "    </tr>\n",
       "    <tr>\n",
       "      <th>30</th>\n",
       "      <td>0</td>\n",
       "      <td>0</td>\n",
       "      <td>0</td>\n",
       "      <td>0</td>\n",
       "      <td>0</td>\n",
       "      <td>0</td>\n",
       "      <td>0</td>\n",
       "      <td>0</td>\n",
       "      <td>0</td>\n",
       "      <td>1</td>\n",
       "      <td>...</td>\n",
       "      <td>0</td>\n",
       "      <td>0</td>\n",
       "      <td>0</td>\n",
       "      <td>0</td>\n",
       "      <td>0</td>\n",
       "      <td>0</td>\n",
       "      <td>0</td>\n",
       "      <td>0</td>\n",
       "      <td>6</td>\n",
       "      <td>3</td>\n",
       "    </tr>\n",
       "    <tr>\n",
       "      <th>31</th>\n",
       "      <td>0</td>\n",
       "      <td>0</td>\n",
       "      <td>0</td>\n",
       "      <td>0</td>\n",
       "      <td>0</td>\n",
       "      <td>0</td>\n",
       "      <td>0</td>\n",
       "      <td>0</td>\n",
       "      <td>0</td>\n",
       "      <td>2</td>\n",
       "      <td>...</td>\n",
       "      <td>0</td>\n",
       "      <td>0</td>\n",
       "      <td>0</td>\n",
       "      <td>0</td>\n",
       "      <td>0</td>\n",
       "      <td>0</td>\n",
       "      <td>0</td>\n",
       "      <td>0</td>\n",
       "      <td>0</td>\n",
       "      <td>5</td>\n",
       "    </tr>\n",
       "  </tbody>\n",
       "</table>\n",
       "<p>32 rows × 32 columns</p>\n",
       "</div>"
      ],
      "text/plain": [
       "    0   1   2   3   4   5   6   7   8   9   ...  22  23  24  25  26  27  28  \\\n",
       "0    6   0   0   0   0   0   0   0   0   3  ...   0   0   0   0   0   0   0   \n",
       "1    0  10   0   0   0   0   0   0   0   0  ...   0   0   0   0   0   0   0   \n",
       "2    0   1   8   0   0   0   0   0   0   1  ...   0   0   0   0   0   0   0   \n",
       "3    0   0   0   9   0   0   0   1   0   0  ...   0   0   0   0   0   0   0   \n",
       "4    0   0   0   1   8   1   0   0   0   0  ...   0   0   0   0   0   0   0   \n",
       "5    0   0   1   0   1   8   0   0   0   0  ...   0   0   0   0   0   0   0   \n",
       "6    0   0   0   0   0   0   9   0   0   0  ...   0   0   0   0   0   0   0   \n",
       "7    0   0   0   0   0   0   0  10   0   0  ...   0   0   0   0   0   0   0   \n",
       "8    0   0   0   0   0   0   0   0  10   0  ...   0   0   0   0   0   0   0   \n",
       "9    0   0   0   0   0   0   0   1   0   9  ...   0   0   0   0   0   0   0   \n",
       "10   1   0   0   0   0   0   1   0   0   1  ...   0   0   0   0   0   0   0   \n",
       "11   0   0   0   0   0   0   0   0   0   0  ...   0   0   0   0   0   0   0   \n",
       "12   0   0   0   0   0   0   0   0   0   0  ...   0   0   0   0   0   0   0   \n",
       "13   0   0   0   0   1   0   1   0   0   0  ...   0   0   0   0   0   0   0   \n",
       "14   1   0   0   0   0   0   0   0   0   0  ...   0   0   0   0   0   0   0   \n",
       "15   0   0   0   0   0   0   0   0   0   0  ...   0   0   0   0   0   0   0   \n",
       "16   0   0   0   0   0   0   0   0   0   0  ...   0   0   0   0   0   0   0   \n",
       "17   0   0   0   0   0   0   0   0   0   0  ...   0   0   0   0   0   0   0   \n",
       "18   0   0   0   0   0   0   0   0   0   0  ...   0   0   0   0   0   0   0   \n",
       "19   0   0   0   0   0   0   0   0   0   0  ...   0   0   0   0   0   0   0   \n",
       "20   0   0   0   0   0   0   0   0   0   0  ...   0   0   0   0   0   0   0   \n",
       "21   0   0   0   0   0   0   0   0   0   0  ...   1   0   0   0   0   0   0   \n",
       "22   0   0   0   0   0   0   0   0   0   0  ...   6   0   0   0   0   0   0   \n",
       "23   0   0   0   0   0   0   0   0   0   0  ...   2   5   0   0   0   0   0   \n",
       "24   0   0   0   0   0   0   0   0   0   0  ...   1   0   7   0   0   0   0   \n",
       "25   0   0   0   0   0   0   0   0   0   0  ...   0   0   1   5   1   0   0   \n",
       "26   0   0   0   2   0   0   0   1   0   0  ...   0   0   0   0   7   0   0   \n",
       "27   0   0   0   1   2   4   0   0   0   0  ...   0   0   0   0   0   2   0   \n",
       "28   0   1   1   0   0   0   0   0   0   0  ...   0   0   0   0   0   0   3   \n",
       "29   2   0   0   0   0   0   0   0   0   4  ...   0   0   0   0   0   0   0   \n",
       "30   0   0   0   0   0   0   0   0   0   1  ...   0   0   0   0   0   0   0   \n",
       "31   0   0   0   0   0   0   0   0   0   2  ...   0   0   0   0   0   0   0   \n",
       "\n",
       "    29  30  31  \n",
       "0    0   0   0  \n",
       "1    0   0   0  \n",
       "2    0   0   0  \n",
       "3    0   0   0  \n",
       "4    0   0   0  \n",
       "5    0   0   0  \n",
       "6    0   0   0  \n",
       "7    0   0   0  \n",
       "8    0   0   0  \n",
       "9    0   0   0  \n",
       "10   0   0   0  \n",
       "11   0   0   0  \n",
       "12   0   0   0  \n",
       "13   0   0   0  \n",
       "14   0   0   0  \n",
       "15   0   0   0  \n",
       "16   0   0   0  \n",
       "17   0   0   0  \n",
       "18   0   0   0  \n",
       "19   0   0   0  \n",
       "20   0   0   0  \n",
       "21   0   0   0  \n",
       "22   0   0   0  \n",
       "23   0   0   0  \n",
       "24   0   0   0  \n",
       "25   0   0   1  \n",
       "26   0   0   0  \n",
       "27   0   0   0  \n",
       "28   0   0   0  \n",
       "29   1   0   0  \n",
       "30   0   6   3  \n",
       "31   0   0   5  \n",
       "\n",
       "[32 rows x 32 columns]"
      ]
     },
     "execution_count": 47,
     "metadata": {
      "tags": []
     },
     "output_type": "execute_result"
    }
   ],
   "source": [
    "cm = np.array(confusion_matrix(y_test, y_predict_filtered, labels=[0, 1, 2, 3, 4, 5, 6, 7, 8, 9 ,\n",
    "                                                                   10, 11, 12, 13, 14, 15, 16, 17, 18, 19, \n",
    "                                                                  20, 21, 22, 23, 24, 25, 26, 27, 28, 29,\n",
    "                                                                  30, 31]))\n",
    "confusion = pd.DataFrame(cm, index=[0, 1, 2, 3, 4, 5, 6, 7, 8, 9 , \n",
    "                                    10, 11, 12, 13, 14, 15, 16, 17, 18, 19, \n",
    "                                    20, 21, 22, 23, 24, 25, 26, 27, 28, 29, 30, 31],\n",
    "                        columns=[0, 1, 2, 3, 4, 5, 6, 7, 8, 9 , \n",
    "                                 10, 11, 12, 13, 14, 15, 16, 17, 18, 19, \n",
    "                                20, 21, 22, 23, 24, 25, 26, 27, 28, 29,30, 31])\n",
    "confusion.to_csv('ConfusionMatrix_KaryoType_CNN.csv')\n",
    "confusion"
   ]
  },
  {
   "cell_type": "code",
   "execution_count": null,
   "metadata": {
    "id": "s12C84CQhM9S",
    "outputId": "5e2f474b-13ef-434d-b8e0-7d6e49f7ccb9",
    "scrolled": true
   },
   "outputs": [
    {
     "name": "stdout",
     "output_type": "stream",
     "text": [
      "              precision    recall  f1-score   support\n",
      "\n",
      "           0       0.60      0.60      0.60        10\n",
      "           1       0.83      1.00      0.91        10\n",
      "           2       0.80      0.80      0.80        10\n",
      "           3       0.69      0.90      0.78        10\n",
      "           4       0.67      0.80      0.73        10\n",
      "           5       0.62      0.80      0.70        10\n",
      "           6       0.82      0.90      0.86        10\n",
      "           7       0.77      1.00      0.87        10\n",
      "           8       1.00      1.00      1.00        10\n",
      "           9       0.43      0.90      0.58        10\n",
      "          10       0.86      0.60      0.71        10\n",
      "          11       0.62      0.80      0.70        10\n",
      "          12       0.69      0.90      0.78        10\n",
      "          13       0.78      0.70      0.74        10\n",
      "          14       0.78      0.70      0.74        10\n",
      "          15       0.47      0.70      0.56        10\n",
      "          16       0.62      0.80      0.70        10\n",
      "          17       0.89      0.80      0.84        10\n",
      "          18       0.90      0.90      0.90        10\n",
      "          19       0.91      1.00      0.95        10\n",
      "          20       0.91      1.00      0.95        10\n",
      "          21       0.69      0.90      0.78        10\n",
      "          22       0.60      0.60      0.60        10\n",
      "          23       1.00      0.50      0.67        10\n",
      "          24       0.88      0.70      0.78        10\n",
      "          25       1.00      0.56      0.71         9\n",
      "          26       0.88      0.70      0.78        10\n",
      "          27       1.00      0.22      0.36         9\n",
      "          28       1.00      0.30      0.46        10\n",
      "          29       1.00      0.14      0.25         7\n",
      "          30       1.00      0.60      0.75        10\n",
      "          31       0.56      0.50      0.53        10\n",
      "\n",
      "   micro avg       0.74      0.74      0.74       315\n",
      "   macro avg       0.79      0.73      0.72       315\n",
      "weighted avg       0.79      0.74      0.73       315\n",
      "\n"
     ]
    }
   ],
   "source": [
    "print(classification_report(y_test, y_predict_filtered))"
   ]
  },
  {
   "cell_type": "code",
   "execution_count": null,
   "metadata": {
    "id": "VhhYYap56eUl",
    "outputId": "eddaf738-ac1f-414d-ce96-dd0a7655e244"
   },
   "outputs": [
    {
     "data": {
      "image/png": "[encoded data removed]",
      "text/plain": [
       "<Figure size 2160x1728 with 2 Axes>"
      ]
     },
     "metadata": {
      "needs_background": "light",
      "tags": []
     },
     "output_type": "display_data"
    }
   ],
   "source": [
    "plt.figure(figsize=(30, 24))\n",
    "heat_map = sb.heatmap(confusion, annot=True, \n",
    "                      cmap='coolwarm', \n",
    "                      xticklabels=confusion.columns, yticklabels=confusion.index, \n",
    "                      linewidths=.5, \n",
    "                      annot_kws={\"size\": 20})"
   ]
  },
  {
   "cell_type": "markdown",
   "metadata": {
    "id": "B4J3frv1hM9U"
   },
   "source": [
    "## Save the Model"
   ]
  },
  {
   "cell_type": "code",
   "execution_count": null,
   "metadata": {
    "id": "e4WWTHYHhM9V",
    "outputId": "a046285d-4dc8-49a9-ef90-8cb28e0ccdfc"
   },
   "outputs": [
    {
     "name": "stderr",
     "output_type": "stream",
     "text": [
      "C:\\Anaconda3\\lib\\site-packages\\sklearn\\externals\\joblib\\numpy_pickle.py:104: DeprecationWarning: tostring() is deprecated. Use tobytes() instead.\n",
      "  pickler.file_handle.write(chunk.tostring('C'))\n",
      "C:\\Anaconda3\\lib\\site-packages\\sklearn\\externals\\joblib\\numpy_pickle.py:104: DeprecationWarning: tostring() is deprecated. Use tobytes() instead.\n",
      "  pickler.file_handle.write(chunk.tostring('C'))\n",
      "C:\\Anaconda3\\lib\\site-packages\\sklearn\\externals\\joblib\\numpy_pickle.py:104: DeprecationWarning: tostring() is deprecated. Use tobytes() instead.\n",
      "  pickler.file_handle.write(chunk.tostring('C'))\n",
      "C:\\Anaconda3\\lib\\site-packages\\sklearn\\externals\\joblib\\numpy_pickle.py:104: DeprecationWarning: tostring() is deprecated. Use tobytes() instead.\n",
      "  pickler.file_handle.write(chunk.tostring('C'))\n",
      "C:\\Anaconda3\\lib\\site-packages\\sklearn\\externals\\joblib\\numpy_pickle.py:104: DeprecationWarning: tostring() is deprecated. Use tobytes() instead.\n",
      "  pickler.file_handle.write(chunk.tostring('C'))\n",
      "C:\\Anaconda3\\lib\\site-packages\\sklearn\\externals\\joblib\\numpy_pickle.py:104: DeprecationWarning: tostring() is deprecated. Use tobytes() instead.\n",
      "  pickler.file_handle.write(chunk.tostring('C'))\n",
      "C:\\Anaconda3\\lib\\site-packages\\sklearn\\externals\\joblib\\numpy_pickle.py:104: DeprecationWarning: tostring() is deprecated. Use tobytes() instead.\n",
      "  pickler.file_handle.write(chunk.tostring('C'))\n",
      "C:\\Anaconda3\\lib\\site-packages\\sklearn\\externals\\joblib\\numpy_pickle.py:104: DeprecationWarning: tostring() is deprecated. Use tobytes() instead.\n",
      "  pickler.file_handle.write(chunk.tostring('C'))\n",
      "C:\\Anaconda3\\lib\\site-packages\\sklearn\\externals\\joblib\\numpy_pickle.py:104: DeprecationWarning: tostring() is deprecated. Use tobytes() instead.\n",
      "  pickler.file_handle.write(chunk.tostring('C'))\n",
      "C:\\Anaconda3\\lib\\site-packages\\sklearn\\externals\\joblib\\numpy_pickle.py:104: DeprecationWarning: tostring() is deprecated. Use tobytes() instead.\n",
      "  pickler.file_handle.write(chunk.tostring('C'))\n",
      "C:\\Anaconda3\\lib\\site-packages\\sklearn\\externals\\joblib\\numpy_pickle.py:104: DeprecationWarning: tostring() is deprecated. Use tobytes() instead.\n",
      "  pickler.file_handle.write(chunk.tostring('C'))\n",
      "C:\\Anaconda3\\lib\\site-packages\\sklearn\\externals\\joblib\\numpy_pickle.py:104: DeprecationWarning: tostring() is deprecated. Use tobytes() instead.\n",
      "  pickler.file_handle.write(chunk.tostring('C'))\n",
      "C:\\Anaconda3\\lib\\site-packages\\sklearn\\externals\\joblib\\numpy_pickle.py:104: DeprecationWarning: tostring() is deprecated. Use tobytes() instead.\n",
      "  pickler.file_handle.write(chunk.tostring('C'))\n",
      "C:\\Anaconda3\\lib\\site-packages\\sklearn\\externals\\joblib\\numpy_pickle.py:104: DeprecationWarning: tostring() is deprecated. Use tobytes() instead.\n",
      "  pickler.file_handle.write(chunk.tostring('C'))\n",
      "C:\\Anaconda3\\lib\\site-packages\\sklearn\\externals\\joblib\\numpy_pickle.py:104: DeprecationWarning: tostring() is deprecated. Use tobytes() instead.\n",
      "  pickler.file_handle.write(chunk.tostring('C'))\n",
      "C:\\Anaconda3\\lib\\site-packages\\sklearn\\externals\\joblib\\numpy_pickle.py:104: DeprecationWarning: tostring() is deprecated. Use tobytes() instead.\n",
      "  pickler.file_handle.write(chunk.tostring('C'))\n",
      "C:\\Anaconda3\\lib\\site-packages\\sklearn\\externals\\joblib\\numpy_pickle.py:104: DeprecationWarning: tostring() is deprecated. Use tobytes() instead.\n",
      "  pickler.file_handle.write(chunk.tostring('C'))\n",
      "C:\\Anaconda3\\lib\\site-packages\\sklearn\\externals\\joblib\\numpy_pickle.py:104: DeprecationWarning: tostring() is deprecated. Use tobytes() instead.\n",
      "  pickler.file_handle.write(chunk.tostring('C'))\n",
      "C:\\Anaconda3\\lib\\site-packages\\sklearn\\externals\\joblib\\numpy_pickle.py:104: DeprecationWarning: tostring() is deprecated. Use tobytes() instead.\n",
      "  pickler.file_handle.write(chunk.tostring('C'))\n",
      "C:\\Anaconda3\\lib\\site-packages\\sklearn\\externals\\joblib\\numpy_pickle.py:104: DeprecationWarning: tostring() is deprecated. Use tobytes() instead.\n",
      "  pickler.file_handle.write(chunk.tostring('C'))\n",
      "C:\\Anaconda3\\lib\\site-packages\\sklearn\\externals\\joblib\\numpy_pickle.py:104: DeprecationWarning: tostring() is deprecated. Use tobytes() instead.\n",
      "  pickler.file_handle.write(chunk.tostring('C'))\n",
      "C:\\Anaconda3\\lib\\site-packages\\sklearn\\externals\\joblib\\numpy_pickle.py:104: DeprecationWarning: tostring() is deprecated. Use tobytes() instead.\n",
      "  pickler.file_handle.write(chunk.tostring('C'))\n",
      "C:\\Anaconda3\\lib\\site-packages\\sklearn\\externals\\joblib\\numpy_pickle.py:104: DeprecationWarning: tostring() is deprecated. Use tobytes() instead.\n",
      "  pickler.file_handle.write(chunk.tostring('C'))\n",
      "C:\\Anaconda3\\lib\\site-packages\\sklearn\\externals\\joblib\\numpy_pickle.py:104: DeprecationWarning: tostring() is deprecated. Use tobytes() instead.\n",
      "  pickler.file_handle.write(chunk.tostring('C'))\n",
      "C:\\Anaconda3\\lib\\site-packages\\sklearn\\externals\\joblib\\numpy_pickle.py:104: DeprecationWarning: tostring() is deprecated. Use tobytes() instead.\n",
      "  pickler.file_handle.write(chunk.tostring('C'))\n",
      "C:\\Anaconda3\\lib\\site-packages\\sklearn\\externals\\joblib\\numpy_pickle.py:104: DeprecationWarning: tostring() is deprecated. Use tobytes() instead.\n",
      "  pickler.file_handle.write(chunk.tostring('C'))\n",
      "C:\\Anaconda3\\lib\\site-packages\\sklearn\\externals\\joblib\\numpy_pickle.py:104: DeprecationWarning: tostring() is deprecated. Use tobytes() instead.\n",
      "  pickler.file_handle.write(chunk.tostring('C'))\n",
      "C:\\Anaconda3\\lib\\site-packages\\sklearn\\externals\\joblib\\numpy_pickle.py:104: DeprecationWarning: tostring() is deprecated. Use tobytes() instead.\n",
      "  pickler.file_handle.write(chunk.tostring('C'))\n",
      "C:\\Anaconda3\\lib\\site-packages\\sklearn\\externals\\joblib\\numpy_pickle.py:104: DeprecationWarning: tostring() is deprecated. Use tobytes() instead.\n",
      "  pickler.file_handle.write(chunk.tostring('C'))\n",
      "C:\\Anaconda3\\lib\\site-packages\\sklearn\\externals\\joblib\\numpy_pickle.py:104: DeprecationWarning: tostring() is deprecated. Use tobytes() instead.\n",
      "  pickler.file_handle.write(chunk.tostring('C'))\n",
      "C:\\Anaconda3\\lib\\site-packages\\sklearn\\externals\\joblib\\numpy_pickle.py:104: DeprecationWarning: tostring() is deprecated. Use tobytes() instead.\n",
      "  pickler.file_handle.write(chunk.tostring('C'))\n",
      "C:\\Anaconda3\\lib\\site-packages\\sklearn\\externals\\joblib\\numpy_pickle.py:104: DeprecationWarning: tostring() is deprecated. Use tobytes() instead.\n",
      "  pickler.file_handle.write(chunk.tostring('C'))\n",
      "C:\\Anaconda3\\lib\\site-packages\\sklearn\\externals\\joblib\\numpy_pickle.py:104: DeprecationWarning: tostring() is deprecated. Use tobytes() instead.\n",
      "  pickler.file_handle.write(chunk.tostring('C'))\n",
      "C:\\Anaconda3\\lib\\site-packages\\sklearn\\externals\\joblib\\numpy_pickle.py:104: DeprecationWarning: tostring() is deprecated. Use tobytes() instead.\n",
      "  pickler.file_handle.write(chunk.tostring('C'))\n",
      "C:\\Anaconda3\\lib\\site-packages\\sklearn\\externals\\joblib\\numpy_pickle.py:104: DeprecationWarning: tostring() is deprecated. Use tobytes() instead.\n",
      "  pickler.file_handle.write(chunk.tostring('C'))\n",
      "C:\\Anaconda3\\lib\\site-packages\\sklearn\\externals\\joblib\\numpy_pickle.py:104: DeprecationWarning: tostring() is deprecated. Use tobytes() instead.\n",
      "  pickler.file_handle.write(chunk.tostring('C'))\n",
      "C:\\Anaconda3\\lib\\site-packages\\sklearn\\externals\\joblib\\numpy_pickle.py:104: DeprecationWarning: tostring() is deprecated. Use tobytes() instead.\n",
      "  pickler.file_handle.write(chunk.tostring('C'))\n",
      "C:\\Anaconda3\\lib\\site-packages\\sklearn\\externals\\joblib\\numpy_pickle.py:104: DeprecationWarning: tostring() is deprecated. Use tobytes() instead.\n",
      "  pickler.file_handle.write(chunk.tostring('C'))\n",
      "C:\\Anaconda3\\lib\\site-packages\\sklearn\\externals\\joblib\\numpy_pickle.py:104: DeprecationWarning: tostring() is deprecated. Use tobytes() instead.\n",
      "  pickler.file_handle.write(chunk.tostring('C'))\n",
      "C:\\Anaconda3\\lib\\site-packages\\sklearn\\externals\\joblib\\numpy_pickle.py:104: DeprecationWarning: tostring() is deprecated. Use tobytes() instead.\n",
      "  pickler.file_handle.write(chunk.tostring('C'))\n",
      "C:\\Anaconda3\\lib\\site-packages\\sklearn\\externals\\joblib\\numpy_pickle.py:104: DeprecationWarning: tostring() is deprecated. Use tobytes() instead.\n",
      "  pickler.file_handle.write(chunk.tostring('C'))\n",
      "C:\\Anaconda3\\lib\\site-packages\\sklearn\\externals\\joblib\\numpy_pickle.py:104: DeprecationWarning: tostring() is deprecated. Use tobytes() instead.\n",
      "  pickler.file_handle.write(chunk.tostring('C'))\n"
     ]
    },
    {
     "name": "stdout",
     "output_type": "stream",
     "text": [
      "['trained_model.m']\n"
     ]
    },
    {
     "name": "stderr",
     "output_type": "stream",
     "text": [
      "C:\\Anaconda3\\lib\\site-packages\\sklearn\\externals\\joblib\\numpy_pickle.py:104: DeprecationWarning: tostring() is deprecated. Use tobytes() instead.\n",
      "  pickler.file_handle.write(chunk.tostring('C'))\n",
      "C:\\Anaconda3\\lib\\site-packages\\sklearn\\externals\\joblib\\numpy_pickle.py:104: DeprecationWarning: tostring() is deprecated. Use tobytes() instead.\n",
      "  pickler.file_handle.write(chunk.tostring('C'))\n",
      "C:\\Anaconda3\\lib\\site-packages\\sklearn\\externals\\joblib\\numpy_pickle.py:104: DeprecationWarning: tostring() is deprecated. Use tobytes() instead.\n",
      "  pickler.file_handle.write(chunk.tostring('C'))\n",
      "C:\\Anaconda3\\lib\\site-packages\\sklearn\\externals\\joblib\\numpy_pickle.py:104: DeprecationWarning: tostring() is deprecated. Use tobytes() instead.\n",
      "  pickler.file_handle.write(chunk.tostring('C'))\n",
      "C:\\Anaconda3\\lib\\site-packages\\sklearn\\externals\\joblib\\numpy_pickle.py:104: DeprecationWarning: tostring() is deprecated. Use tobytes() instead.\n",
      "  pickler.file_handle.write(chunk.tostring('C'))\n",
      "C:\\Anaconda3\\lib\\site-packages\\sklearn\\externals\\joblib\\numpy_pickle.py:104: DeprecationWarning: tostring() is deprecated. Use tobytes() instead.\n",
      "  pickler.file_handle.write(chunk.tostring('C'))\n",
      "C:\\Anaconda3\\lib\\site-packages\\sklearn\\externals\\joblib\\numpy_pickle.py:104: DeprecationWarning: tostring() is deprecated. Use tobytes() instead.\n",
      "  pickler.file_handle.write(chunk.tostring('C'))\n",
      "C:\\Anaconda3\\lib\\site-packages\\sklearn\\externals\\joblib\\numpy_pickle.py:104: DeprecationWarning: tostring() is deprecated. Use tobytes() instead.\n",
      "  pickler.file_handle.write(chunk.tostring('C'))\n",
      "C:\\Anaconda3\\lib\\site-packages\\sklearn\\externals\\joblib\\numpy_pickle.py:104: DeprecationWarning: tostring() is deprecated. Use tobytes() instead.\n",
      "  pickler.file_handle.write(chunk.tostring('C'))\n",
      "C:\\Anaconda3\\lib\\site-packages\\sklearn\\externals\\joblib\\numpy_pickle.py:104: DeprecationWarning: tostring() is deprecated. Use tobytes() instead.\n",
      "  pickler.file_handle.write(chunk.tostring('C'))\n",
      "C:\\Anaconda3\\lib\\site-packages\\sklearn\\externals\\joblib\\numpy_pickle.py:104: DeprecationWarning: tostring() is deprecated. Use tobytes() instead.\n",
      "  pickler.file_handle.write(chunk.tostring('C'))\n"
     ]
    }
   ],
   "source": [
    "c = joblib.dump(clf, 'trained_model.m')\n",
    "print(c)"
   ]
  },
  {
   "cell_type": "markdown",
   "metadata": {
    "id": "FEUhOZ7rhM9X"
   },
   "source": [
    "## Load the Model"
   ]
  },
  {
   "cell_type": "code",
   "execution_count": null,
   "metadata": {
    "id": "S2mEKJuLhM9X",
    "outputId": "769be51e-f36e-4648-e449-ede4d4063eac"
   },
   "outputs": [
    {
     "name": "stdout",
     "output_type": "stream",
     "text": [
      "SVC(C=1.0, cache_size=200, class_weight=None, coef0=0.0,\n",
      "  decision_function_shape='ovo', degree=3, gamma='auto_deprecated',\n",
      "  kernel='linear', max_iter=-1, probability=False, random_state=None,\n",
      "  shrinking=True, tol=0.001, verbose=False)\n"
     ]
    }
   ],
   "source": [
    "d = joblib.load('trained_model.m')\n",
    "print(d)"
   ]
  },
  {
   "cell_type": "code",
   "execution_count": null,
   "metadata": {
    "id": "22fWwIJ4hM9Y"
   },
   "outputs": [],
   "source": []
  }
 ],
 "metadata": {
  "anaconda-cloud": {},
  "celltoolbar": "Slideshow",
  "colab": {
   "name": "KaryoChimneyRock_Abnormal_CNN2.ipynb",
   "provenance": []
  },
  "kernelspec": {
   "display_name": "Python 3",
   "language": "python",
   "name": "python3"
  },
  "language_info": {
   "codemirror_mode": {
    "name": "ipython",
    "version": 3
   },
   "file_extension": ".py",
   "mimetype": "text/x-python",
   "name": "python",
   "nbconvert_exporter": "python",
   "pygments_lexer": "ipython3",
   "version": "3.7.3"
  }
 },
 "nbformat": 4,
 "nbformat_minor": 1
}
