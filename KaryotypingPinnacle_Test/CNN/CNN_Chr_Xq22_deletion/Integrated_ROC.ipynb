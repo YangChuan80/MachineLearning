{
 "cells": [
  {
   "cell_type": "code",
   "execution_count": 1,
   "metadata": {},
   "outputs": [
    {
     "name": "stderr",
     "output_type": "stream",
     "text": [
      "C:\\Anaconda3\\lib\\site-packages\\pandas\\compat\\_optional.py:138: UserWarning: Pandas requires version '2.7.0' or newer of 'numexpr' (version '2.6.9' currently installed).\n",
      "  warnings.warn(msg, UserWarning)\n"
     ]
    }
   ],
   "source": [
    "import numpy as np\n",
    "import pandas as pd\n",
    "import matplotlib.pyplot as plt\n",
    "\n",
    "from sklearn.metrics import classification_report, confusion_matrix, roc_curve, auc, accuracy_score\n",
    "\n",
    "import seaborn as sb"
   ]
  },
  {
   "cell_type": "code",
   "execution_count": 2,
   "metadata": {},
   "outputs": [],
   "source": [
    "chromConvert = {\n",
    "               'chr_x': 0, \n",
    "               'chr_x_q22_deletion': 1\n",
    "               }"
   ]
  },
  {
   "cell_type": "code",
   "execution_count": 3,
   "metadata": {},
   "outputs": [],
   "source": [
    "chromConvert_reverse = {\n",
    "                0: 'chr_x', \n",
    "                1: 'chr_x_q22_deletion'\n",
    "               }"
   ]
  },
  {
   "cell_type": "code",
   "execution_count": 4,
   "metadata": {},
   "outputs": [],
   "source": [
    "label = ['chr_x', 'chr_x_q22_deletion']\n",
    "\n",
    "label_convert = []\n",
    "\n",
    "for i in range(2):\n",
    "    label_convert.append(chromConvert_reverse[i])"
   ]
  },
  {
   "cell_type": "markdown",
   "metadata": {},
   "source": [
    "# Load test and predict values"
   ]
  },
  {
   "cell_type": "code",
   "execution_count": 5,
   "metadata": {},
   "outputs": [],
   "source": [
    "y_test_all = []\n",
    "y_predict_all = []\n",
    "y_predict_filtered_all = []"
   ]
  },
  {
   "cell_type": "code",
   "execution_count": 6,
   "metadata": {},
   "outputs": [],
   "source": [
    "for iterationNumber in range(5):\n",
    "    with open('data_y_test_value_iteration_' + str(iterationNumber) + '.npy', 'rb') as f_y_test:\n",
    "        y_test_all.append(np.load(f_y_test))\n",
    "        \n",
    "    with open('data_y_predict_value_iteration_' + str(iterationNumber) + '.npy', 'rb') as f_y_predict:\n",
    "        y_predict_all.append(np.load(f_y_predict))                             \n",
    "                        \n",
    "    with open('data_y_predict_filtered_value_iteration_' + str(iterationNumber) + '.npy', 'rb') as f_y_predict_filtered:\n",
    "        y_predict_filtered_all.append(np.load(f_y_predict_filtered))"
   ]
  },
  {
   "cell_type": "code",
   "execution_count": 7,
   "metadata": {},
   "outputs": [
    {
     "data": {
      "text/plain": [
       "(47, 2)"
      ]
     },
     "execution_count": 7,
     "metadata": {},
     "output_type": "execute_result"
    }
   ],
   "source": [
    "y_predict_all[0].shape"
   ]
  },
  {
   "cell_type": "code",
   "execution_count": 8,
   "metadata": {
    "scrolled": true
   },
   "outputs": [
    {
     "data": {
      "text/plain": [
       "[array([[1.0000000e+00, 6.9875335e-27],\n",
       "        [1.0000000e+00, 3.3564206e-14],\n",
       "        [1.0000000e+00, 8.4176541e-11],\n",
       "        [1.0000000e+00, 2.6795396e-23],\n",
       "        [9.9999714e-01, 6.5688829e-07],\n",
       "        [1.0000000e+00, 3.0871944e-10],\n",
       "        [9.9999857e-01, 1.8948438e-07],\n",
       "        [1.0000000e+00, 6.8057451e-14],\n",
       "        [9.9999988e-01, 2.1649633e-08],\n",
       "        [9.9999976e-01, 4.4249564e-08],\n",
       "        [1.0000000e+00, 2.8633795e-10],\n",
       "        [9.9958235e-01, 1.3208542e-04],\n",
       "        [1.0000000e+00, 3.1552446e-13],\n",
       "        [9.9999976e-01, 3.0552254e-08],\n",
       "        [1.0000000e+00, 5.0878802e-23],\n",
       "        [1.0000000e+00, 2.3189914e-13],\n",
       "        [9.7525746e-01, 1.6477948e-02],\n",
       "        [9.9978536e-01, 5.4435139e-05],\n",
       "        [9.9831593e-01, 8.0363132e-04],\n",
       "        [9.9999487e-01, 5.7829942e-07],\n",
       "        [9.9813497e-01, 6.0828927e-04],\n",
       "        [9.9999654e-01, 5.4368809e-07],\n",
       "        [9.9581891e-01, 1.8535428e-03],\n",
       "        [9.9999666e-01, 5.8024341e-07],\n",
       "        [1.0000000e+00, 3.2442644e-09],\n",
       "        [9.9562174e-01, 1.5846014e-03],\n",
       "        [9.9929237e-01, 2.5338263e-04],\n",
       "        [1.0000000e+00, 2.9191961e-11],\n",
       "        [9.9999821e-01, 3.2059225e-07],\n",
       "        [9.9999821e-01, 4.0229145e-07],\n",
       "        [9.8672557e-01, 8.4565030e-03],\n",
       "        [9.9927014e-01, 1.6718182e-04],\n",
       "        [9.9212569e-01, 4.8752693e-03],\n",
       "        [9.9517268e-01, 2.1212546e-03],\n",
       "        [1.0000000e+00, 2.9912628e-11],\n",
       "        [9.9558073e-01, 2.5293902e-03],\n",
       "        [9.9996233e-01, 9.6941458e-06],\n",
       "        [9.9408489e-01, 2.9921276e-03],\n",
       "        [1.5391542e-02, 9.8761439e-01],\n",
       "        [3.0875630e-03, 9.9832231e-01],\n",
       "        [5.1033008e-03, 9.9710542e-01],\n",
       "        [9.9576938e-01, 8.6753618e-04],\n",
       "        [4.4949062e-04, 9.9979860e-01],\n",
       "        [1.3999009e-01, 8.5560030e-01],\n",
       "        [1.2926401e-01, 8.5447282e-01],\n",
       "        [9.1422051e-03, 9.9210089e-01],\n",
       "        [9.9426782e-01, 1.6183610e-03]], dtype=float32),\n",
       " array([[1.0000000e+00, 6.9065372e-15],\n",
       "        [1.0000000e+00, 2.5569231e-30],\n",
       "        [9.9949980e-01, 2.4114994e-03],\n",
       "        [1.0000000e+00, 0.0000000e+00],\n",
       "        [1.0000000e+00, 1.9683432e-16],\n",
       "        [1.0000000e+00, 1.0665815e-08],\n",
       "        [9.9999976e-01, 2.9386385e-06],\n",
       "        [9.9999905e-01, 9.7711372e-06],\n",
       "        [1.0000000e+00, 1.3099847e-08],\n",
       "        [1.0000000e+00, 9.4312412e-08],\n",
       "        [1.0000000e+00, 4.4431041e-09],\n",
       "        [1.0000000e+00, 6.2742153e-08],\n",
       "        [1.0000000e+00, 1.9080495e-12],\n",
       "        [1.0000000e+00, 1.0635799e-06],\n",
       "        [3.1671440e-03, 9.9888963e-01],\n",
       "        [9.9999964e-01, 8.0261261e-06],\n",
       "        [1.0000000e+00, 7.4846818e-13],\n",
       "        [1.0000000e+00, 6.0971994e-10],\n",
       "        [9.9995232e-01, 4.7053481e-04],\n",
       "        [9.9999845e-01, 2.9163844e-05],\n",
       "        [9.9999988e-01, 4.4026956e-06],\n",
       "        [9.9997795e-01, 3.0854833e-04],\n",
       "        [9.9999881e-01, 1.5771579e-05],\n",
       "        [1.0000000e+00, 6.1308776e-07],\n",
       "        [9.7873348e-01, 9.3998365e-02],\n",
       "        [1.0000000e+00, 8.1917502e-13],\n",
       "        [9.9999988e-01, 7.3973756e-06],\n",
       "        [9.9998748e-01, 1.4182781e-04],\n",
       "        [9.9974304e-01, 2.9689681e-03],\n",
       "        [9.8580348e-01, 4.8316330e-02],\n",
       "        [9.9898893e-01, 5.3128349e-03],\n",
       "        [9.9956363e-01, 2.7218251e-03],\n",
       "        [9.9997568e-01, 3.9985334e-04],\n",
       "        [9.9478614e-01, 2.2929784e-02],\n",
       "        [9.9998891e-01, 1.3440875e-04],\n",
       "        [9.9979931e-01, 1.9151971e-03],\n",
       "        [9.4518954e-01, 1.2803969e-01],\n",
       "        [9.9999988e-01, 7.2880480e-06],\n",
       "        [8.7082946e-01, 2.1262592e-01],\n",
       "        [2.0886721e-02, 9.8258519e-01],\n",
       "        [9.0891076e-03, 9.9506551e-01],\n",
       "        [1.5111449e-03, 9.9887043e-01],\n",
       "        [1.6994940e-03, 9.9864513e-01],\n",
       "        [5.9289444e-04, 9.9943799e-01],\n",
       "        [3.3849943e-02, 9.7818094e-01],\n",
       "        [3.4122972e-03, 9.9834323e-01]], dtype=float32),\n",
       " array([[9.9999523e-01, 1.5543094e-04],\n",
       "        [1.0000000e+00, 9.4058191e-07],\n",
       "        [1.0000000e+00, 4.7995871e-07],\n",
       "        [9.9999893e-01, 6.6726192e-05],\n",
       "        [9.9999988e-01, 5.8743099e-06],\n",
       "        [1.0000000e+00, 8.3282331e-12],\n",
       "        [1.0000000e+00, 1.4211187e-07],\n",
       "        [1.0000000e+00, 5.7946096e-07],\n",
       "        [9.9999511e-01, 2.6799334e-04],\n",
       "        [1.0000000e+00, 8.1476713e-08],\n",
       "        [9.8341286e-01, 1.8922612e-01],\n",
       "        [9.9939406e-01, 8.5502025e-03],\n",
       "        [9.9999940e-01, 2.3159677e-05],\n",
       "        [1.0000000e+00, 5.5184508e-08],\n",
       "        [1.0000000e+00, 3.6848458e-06],\n",
       "        [9.9955398e-01, 2.0984176e-03],\n",
       "        [9.9999988e-01, 4.0889781e-06],\n",
       "        [9.9996400e-01, 7.7911728e-04],\n",
       "        [9.9999976e-01, 9.7501561e-06],\n",
       "        [9.9999440e-01, 1.2786179e-04],\n",
       "        [8.8470554e-01, 2.5871083e-01],\n",
       "        [9.9999893e-01, 3.2848733e-05],\n",
       "        [9.9624854e-01, 1.2632316e-02],\n",
       "        [9.9999774e-01, 6.3833460e-05],\n",
       "        [9.9999714e-01, 1.8432194e-04],\n",
       "        [9.9988484e-01, 1.0357483e-03],\n",
       "        [1.0000000e+00, 2.8693526e-08],\n",
       "        [1.0000000e+00, 3.5466978e-06],\n",
       "        [9.9995351e-01, 6.8723486e-04],\n",
       "        [9.9999952e-01, 1.6881311e-05],\n",
       "        [9.9999988e-01, 7.2771722e-06],\n",
       "        [9.9999011e-01, 1.4221594e-04],\n",
       "        [9.9999058e-01, 6.8045052e-04],\n",
       "        [1.0000000e+00, 1.0520112e-06],\n",
       "        [1.0000000e+00, 3.3708343e-07],\n",
       "        [1.0000000e+00, 2.9013216e-07],\n",
       "        [9.9988997e-01, 9.6275180e-04],\n",
       "        [1.0000000e+00, 1.2454522e-07],\n",
       "        [7.9773872e-06, 9.9998927e-01],\n",
       "        [2.3194819e-03, 9.9720806e-01],\n",
       "        [1.4783005e-03, 9.9830961e-01],\n",
       "        [3.7827154e-05, 9.9994791e-01],\n",
       "        [9.9995351e-01, 6.8723463e-04],\n",
       "        [6.5427944e-03, 9.9301904e-01],\n",
       "        [5.7109555e-05, 9.9994099e-01],\n",
       "        [1.8264348e-02, 9.8325968e-01]], dtype=float32),\n",
       " array([[1.00000000e+00, 1.43742846e-19],\n",
       "        [1.00000000e+00, 8.95782340e-16],\n",
       "        [9.98286784e-01, 3.37675842e-03],\n",
       "        [1.00000000e+00, 3.16187912e-27],\n",
       "        [1.00000000e+00, 4.58764832e-10],\n",
       "        [1.00000000e+00, 4.03039240e-15],\n",
       "        [1.00000000e+00, 1.46408189e-17],\n",
       "        [1.00000000e+00, 0.00000000e+00],\n",
       "        [9.92303903e-05, 9.99921322e-01],\n",
       "        [1.00000000e+00, 6.27480977e-13],\n",
       "        [1.00000000e+00, 2.98143998e-09],\n",
       "        [1.00000000e+00, 6.97972808e-08],\n",
       "        [1.00000000e+00, 3.35038804e-37],\n",
       "        [1.00000000e+00, 6.85365376e-11],\n",
       "        [1.00000000e+00, 7.96336153e-09],\n",
       "        [1.00000000e+00, 6.93855426e-08],\n",
       "        [9.99985576e-01, 2.40378795e-05],\n",
       "        [9.95433092e-01, 8.53016786e-03],\n",
       "        [1.00000000e+00, 1.91435241e-08],\n",
       "        [1.00000000e+00, 2.81641399e-09],\n",
       "        [1.00000000e+00, 2.30466924e-07],\n",
       "        [1.00000000e+00, 6.97153186e-12],\n",
       "        [1.00000000e+00, 2.79909993e-13],\n",
       "        [9.99841690e-01, 3.77512100e-04],\n",
       "        [9.99999285e-01, 2.14669171e-06],\n",
       "        [9.99998569e-01, 4.85725104e-06],\n",
       "        [1.00000000e+00, 3.26859481e-12],\n",
       "        [1.00000000e+00, 1.61562941e-08],\n",
       "        [9.90847230e-01, 1.56516694e-02],\n",
       "        [3.94679846e-05, 9.99961138e-01],\n",
       "        [1.00000000e+00, 5.69116887e-09],\n",
       "        [9.99957800e-01, 1.02034755e-04],\n",
       "        [1.00000000e+00, 6.30851593e-10],\n",
       "        [9.99999762e-01, 9.05891170e-07],\n",
       "        [1.00000000e+00, 8.33050100e-13],\n",
       "        [9.99997020e-01, 9.06203059e-06],\n",
       "        [9.99999642e-01, 1.40970735e-06],\n",
       "        [9.99883175e-01, 2.20512549e-04],\n",
       "        [9.99981642e-01, 4.82930664e-05],\n",
       "        [1.31549731e-01, 8.78060579e-01],\n",
       "        [9.99968767e-01, 7.79668917e-05],\n",
       "        [1.41514959e-02, 9.82459188e-01],\n",
       "        [2.26666216e-05, 9.99978900e-01],\n",
       "        [1.00000000e+00, 2.50832333e-08],\n",
       "        [6.70399740e-02, 9.36422884e-01],\n",
       "        [7.69327671e-05, 9.99869347e-01]], dtype=float32),\n",
       " array([[1.00000000e+00, 7.75356818e-22],\n",
       "        [1.00000000e+00, 3.82277950e-13],\n",
       "        [8.85170817e-01, 5.00895754e-02],\n",
       "        [9.99984264e-01, 3.73859302e-06],\n",
       "        [9.99984980e-01, 3.59611408e-06],\n",
       "        [5.60021579e-01, 2.50154227e-01],\n",
       "        [1.00000000e+00, 6.65112066e-18],\n",
       "        [1.00000000e+00, 0.00000000e+00],\n",
       "        [1.00000000e+00, 0.00000000e+00],\n",
       "        [1.00000000e+00, 7.10633671e-23],\n",
       "        [1.00000000e+00, 0.00000000e+00],\n",
       "        [1.00000000e+00, 0.00000000e+00],\n",
       "        [1.00000000e+00, 7.49044778e-25],\n",
       "        [1.00000000e+00, 2.45205915e-20],\n",
       "        [1.00000000e+00, 9.87247311e-35],\n",
       "        [1.00000000e+00, 0.00000000e+00],\n",
       "        [1.00000000e+00, 3.45453909e-11],\n",
       "        [9.98716354e-01, 6.26595633e-04],\n",
       "        [9.99967575e-01, 1.39343983e-05],\n",
       "        [1.00000000e+00, 1.32594055e-33],\n",
       "        [9.99999046e-01, 2.92440347e-07],\n",
       "        [1.00000000e+00, 1.08821029e-10],\n",
       "        [9.91197467e-01, 6.49906462e-03],\n",
       "        [8.56551230e-01, 1.15428813e-01],\n",
       "        [9.99996424e-01, 6.91971309e-07],\n",
       "        [9.77741122e-01, 7.50811072e-03],\n",
       "        [9.35972095e-01, 1.40680186e-02],\n",
       "        [9.99997735e-01, 2.13133632e-07],\n",
       "        [8.15085649e-01, 9.91425067e-02],\n",
       "        [1.00000000e+00, 2.15205198e-16],\n",
       "        [9.99992251e-01, 1.68541180e-06],\n",
       "        [1.00000000e+00, 3.40685674e-11],\n",
       "        [9.07971501e-01, 3.10178306e-02],\n",
       "        [9.99964476e-01, 7.30378679e-06],\n",
       "        [1.00000000e+00, 2.20596116e-17],\n",
       "        [6.10630214e-01, 2.19139695e-01],\n",
       "        [9.99541521e-01, 1.61485732e-04],\n",
       "        [3.68958533e-01, 5.35643876e-01],\n",
       "        [3.21687609e-01, 4.31980342e-01],\n",
       "        [2.23255843e-01, 7.09395289e-01],\n",
       "        [1.29148527e-03, 9.97758865e-01],\n",
       "        [1.23242542e-04, 9.99731004e-01],\n",
       "        [9.99999642e-01, 3.33733681e-08],\n",
       "        [7.91649461e-01, 1.07154727e-01],\n",
       "        [1.37335849e-06, 9.99995589e-01]], dtype=float32)]"
      ]
     },
     "execution_count": 8,
     "metadata": {},
     "output_type": "execute_result"
    }
   ],
   "source": [
    "y_predict_all"
   ]
  },
  {
   "cell_type": "code",
   "execution_count": 9,
   "metadata": {},
   "outputs": [],
   "source": [
    "y_test_concatenate_list = []\n",
    "y_predict_concatenate_list = []\n",
    "y_predict_filtered_concatenate_list = []"
   ]
  },
  {
   "cell_type": "code",
   "execution_count": 10,
   "metadata": {},
   "outputs": [],
   "source": [
    "for i in range(5):\n",
    "    y_test_concatenate_list.extend(list(y_test_all[i]))\n",
    "    y_predict_concatenate_list.extend(list(y_predict_all[i]))\n",
    "    y_predict_filtered_concatenate_list.extend(list(y_predict_filtered_all[i]))"
   ]
  },
  {
   "cell_type": "code",
   "execution_count": 11,
   "metadata": {},
   "outputs": [
    {
     "data": {
      "text/plain": [
       "(47, 2)"
      ]
     },
     "execution_count": 11,
     "metadata": {},
     "output_type": "execute_result"
    }
   ],
   "source": [
    "y_predict_all[0].shape"
   ]
  },
  {
   "cell_type": "code",
   "execution_count": 12,
   "metadata": {},
   "outputs": [
    {
     "data": {
      "text/plain": [
       "['chr_x', 'chr_x_q22_deletion']"
      ]
     },
     "execution_count": 12,
     "metadata": {},
     "output_type": "execute_result"
    }
   ],
   "source": [
    "label_convert"
   ]
  },
  {
   "cell_type": "code",
   "execution_count": 13,
   "metadata": {},
   "outputs": [
    {
     "data": {
      "text/plain": [
       "230"
      ]
     },
     "execution_count": 13,
     "metadata": {},
     "output_type": "execute_result"
    }
   ],
   "source": [
    "len(y_test_concatenate_list)"
   ]
  },
  {
   "cell_type": "code",
   "execution_count": 14,
   "metadata": {},
   "outputs": [
    {
     "data": {
      "text/plain": [
       "230"
      ]
     },
     "execution_count": 14,
     "metadata": {},
     "output_type": "execute_result"
    }
   ],
   "source": [
    "len(y_predict_filtered_concatenate_list)"
   ]
  },
  {
   "cell_type": "code",
   "execution_count": 15,
   "metadata": {},
   "outputs": [
    {
     "data": {
      "text/plain": [
       "230"
      ]
     },
     "execution_count": 15,
     "metadata": {},
     "output_type": "execute_result"
    }
   ],
   "source": [
    "len(y_predict_concatenate_list)"
   ]
  },
  {
   "cell_type": "markdown",
   "metadata": {},
   "source": [
    "# Classification Report"
   ]
  },
  {
   "cell_type": "markdown",
   "metadata": {},
   "source": [
    "## Accuracy"
   ]
  },
  {
   "cell_type": "code",
   "execution_count": 16,
   "metadata": {},
   "outputs": [
    {
     "name": "stdout",
     "output_type": "stream",
     "text": [
      "Accuracy is  0.9478260869565217\n"
     ]
    }
   ],
   "source": [
    "acc = accuracy_score(y_test_concatenate_list, y_predict_filtered_concatenate_list, normalize=True, sample_weight=None)\n",
    "print('Accuracy is ', acc)"
   ]
  },
  {
   "cell_type": "markdown",
   "metadata": {},
   "source": [
    "## Precision, Recall, and F1"
   ]
  },
  {
   "cell_type": "code",
   "execution_count": 17,
   "metadata": {},
   "outputs": [
    {
     "name": "stdout",
     "output_type": "stream",
     "text": [
      "                    precision    recall  f1-score   support\n",
      "\n",
      "             chr_x   0.953846  0.984127  0.968750       189\n",
      "chr_x_q22_deletion   0.914286  0.780488  0.842105        41\n",
      "\n",
      "         micro avg   0.947826  0.947826  0.947826       230\n",
      "         macro avg   0.934066  0.882307  0.905428       230\n",
      "      weighted avg   0.946794  0.947826  0.946174       230\n",
      "\n"
     ]
    }
   ],
   "source": [
    "performanceReport = classification_report(y_test_concatenate_list, y_predict_filtered_concatenate_list, digits=6,\n",
    "                                          target_names=label_convert)\n",
    "\n",
    "\n",
    "print(performanceReport)"
   ]
  },
  {
   "cell_type": "markdown",
   "metadata": {},
   "source": [
    "## Confusion Matrix"
   ]
  },
  {
   "cell_type": "code",
   "execution_count": 18,
   "metadata": {},
   "outputs": [
    {
     "data": {
      "text/html": [
       "<div>\n",
       "<style scoped>\n",
       "    .dataframe tbody tr th:only-of-type {\n",
       "        vertical-align: middle;\n",
       "    }\n",
       "\n",
       "    .dataframe tbody tr th {\n",
       "        vertical-align: top;\n",
       "    }\n",
       "\n",
       "    .dataframe thead th {\n",
       "        text-align: right;\n",
       "    }\n",
       "</style>\n",
       "<table border=\"1\" class=\"dataframe\">\n",
       "  <thead>\n",
       "    <tr style=\"text-align: right;\">\n",
       "      <th></th>\n",
       "      <th>chr_x</th>\n",
       "      <th>chr_x_q22_deletion</th>\n",
       "    </tr>\n",
       "  </thead>\n",
       "  <tbody>\n",
       "    <tr>\n",
       "      <th>chr_x</th>\n",
       "      <td>186</td>\n",
       "      <td>3</td>\n",
       "    </tr>\n",
       "    <tr>\n",
       "      <th>chr_x_q22_deletion</th>\n",
       "      <td>9</td>\n",
       "      <td>32</td>\n",
       "    </tr>\n",
       "  </tbody>\n",
       "</table>\n",
       "</div>"
      ],
      "text/plain": [
       "                    chr_x  chr_x_q22_deletion\n",
       "chr_x                 186                   3\n",
       "chr_x_q22_deletion      9                  32"
      ]
     },
     "execution_count": 18,
     "metadata": {},
     "output_type": "execute_result"
    }
   ],
   "source": [
    "cm = np.array(confusion_matrix(y_test_concatenate_list, y_predict_filtered_concatenate_list))\n",
    "confusion = pd.DataFrame(cm, index=label_convert,\n",
    "                        columns=label_convert)\n",
    "confusion.to_csv('ConfusionMatrix_Combination_of_CrossValidation_KaryoType_CNN.csv')\n",
    "confusion"
   ]
  },
  {
   "cell_type": "markdown",
   "metadata": {},
   "source": [
    "### 3.10.4 Rate of Confusion Matrix"
   ]
  },
  {
   "cell_type": "markdown",
   "metadata": {},
   "source": [
    "### 3.10.5 Recall (查全率)，(Sensitivity Rate)"
   ]
  },
  {
   "cell_type": "code",
   "execution_count": 19,
   "metadata": {
    "scrolled": true
   },
   "outputs": [],
   "source": [
    "subtotal = [0] * 2  \n",
    "for item in y_test_concatenate_list:\n",
    "    subtotal[item] = subtotal[item] + 1"
   ]
  },
  {
   "cell_type": "markdown",
   "metadata": {},
   "source": [
    "#### predict number divided by y test"
   ]
  },
  {
   "cell_type": "code",
   "execution_count": 20,
   "metadata": {},
   "outputs": [],
   "source": [
    "cm_r = []\n",
    "for i in range(2):\n",
    "    cm_r.append(cm[i]/subtotal[i])"
   ]
  },
  {
   "cell_type": "code",
   "execution_count": 21,
   "metadata": {},
   "outputs": [
    {
     "data": {
      "text/html": [
       "<div>\n",
       "<style scoped>\n",
       "    .dataframe tbody tr th:only-of-type {\n",
       "        vertical-align: middle;\n",
       "    }\n",
       "\n",
       "    .dataframe tbody tr th {\n",
       "        vertical-align: top;\n",
       "    }\n",
       "\n",
       "    .dataframe thead th {\n",
       "        text-align: right;\n",
       "    }\n",
       "</style>\n",
       "<table border=\"1\" class=\"dataframe\">\n",
       "  <thead>\n",
       "    <tr style=\"text-align: right;\">\n",
       "      <th></th>\n",
       "      <th>chr_x</th>\n",
       "      <th>chr_x_q22_deletion</th>\n",
       "    </tr>\n",
       "  </thead>\n",
       "  <tbody>\n",
       "    <tr>\n",
       "      <th>chr_x</th>\n",
       "      <td>0.984127</td>\n",
       "      <td>0.015873</td>\n",
       "    </tr>\n",
       "    <tr>\n",
       "      <th>chr_x_q22_deletion</th>\n",
       "      <td>0.219512</td>\n",
       "      <td>0.780488</td>\n",
       "    </tr>\n",
       "  </tbody>\n",
       "</table>\n",
       "</div>"
      ],
      "text/plain": [
       "                       chr_x  chr_x_q22_deletion\n",
       "chr_x               0.984127            0.015873\n",
       "chr_x_q22_deletion  0.219512            0.780488"
      ]
     },
     "execution_count": 21,
     "metadata": {},
     "output_type": "execute_result"
    }
   ],
   "source": [
    "confusion_r = pd.DataFrame(cm_r, index=label_convert,\n",
    "                        columns=label_convert)\n",
    "confusion_r.to_csv('ConfusionMatrix_Recall_Integration_CNN.csv')\n",
    "confusion_r"
   ]
  },
  {
   "cell_type": "markdown",
   "metadata": {},
   "source": [
    "### 3.10.6 Precision (查准率）"
   ]
  },
  {
   "cell_type": "code",
   "execution_count": 22,
   "metadata": {},
   "outputs": [],
   "source": [
    "subtotal_predict = [0] * 2 \n",
    "for item in y_predict_filtered_concatenate_list:\n",
    "    subtotal_predict[item] = subtotal_predict[item] + 1"
   ]
  },
  {
   "cell_type": "markdown",
   "metadata": {},
   "source": [
    "#### predict number divided by y predicted"
   ]
  },
  {
   "cell_type": "code",
   "execution_count": 23,
   "metadata": {},
   "outputs": [],
   "source": [
    "cm_p = []\n",
    "for i in range(2):\n",
    "    cm_p.append(cm[:,i]/subtotal_predict[i])"
   ]
  },
  {
   "cell_type": "code",
   "execution_count": 24,
   "metadata": {},
   "outputs": [
    {
     "data": {
      "text/html": [
       "<div>\n",
       "<style scoped>\n",
       "    .dataframe tbody tr th:only-of-type {\n",
       "        vertical-align: middle;\n",
       "    }\n",
       "\n",
       "    .dataframe tbody tr th {\n",
       "        vertical-align: top;\n",
       "    }\n",
       "\n",
       "    .dataframe thead th {\n",
       "        text-align: right;\n",
       "    }\n",
       "</style>\n",
       "<table border=\"1\" class=\"dataframe\">\n",
       "  <thead>\n",
       "    <tr style=\"text-align: right;\">\n",
       "      <th></th>\n",
       "      <th>chr_x</th>\n",
       "      <th>chr_x_q22_deletion</th>\n",
       "    </tr>\n",
       "  </thead>\n",
       "  <tbody>\n",
       "    <tr>\n",
       "      <th>chr_x</th>\n",
       "      <td>0.953846</td>\n",
       "      <td>0.046154</td>\n",
       "    </tr>\n",
       "    <tr>\n",
       "      <th>chr_x_q22_deletion</th>\n",
       "      <td>0.085714</td>\n",
       "      <td>0.914286</td>\n",
       "    </tr>\n",
       "  </tbody>\n",
       "</table>\n",
       "</div>"
      ],
      "text/plain": [
       "                       chr_x  chr_x_q22_deletion\n",
       "chr_x               0.953846            0.046154\n",
       "chr_x_q22_deletion  0.085714            0.914286"
      ]
     },
     "execution_count": 24,
     "metadata": {},
     "output_type": "execute_result"
    }
   ],
   "source": [
    "confusion_p = pd.DataFrame(cm_p, index=label_convert,\n",
    "                        columns=label_convert)\n",
    "confusion_p.to_csv('ConfusionMatrix_Precision_Integration_CNN.csv')\n",
    "confusion_p"
   ]
  },
  {
   "cell_type": "markdown",
   "metadata": {},
   "source": [
    "#### Heat Map: Number"
   ]
  },
  {
   "cell_type": "code",
   "execution_count": 25,
   "metadata": {
    "scrolled": false
   },
   "outputs": [
    {
     "data": {
      "image/png": "[encoded data removed]",
      "text/plain": [
       "<Figure size 2160x1728 with 2 Axes>"
      ]
     },
     "metadata": {
      "needs_background": "light"
     },
     "output_type": "display_data"
    }
   ],
   "source": [
    "plt.figure(figsize=(30, 24))\n",
    "heat_map = sb.heatmap(confusion, annot=True, fmt = 'g',  # It's a Seaborn function\n",
    "                      cmap='coolwarm', \n",
    "                      xticklabels=confusion.columns, yticklabels=confusion.index, \n",
    "                      linewidths=.5, \n",
    "                      annot_kws={\"size\": 50})\n",
    "sb.set(font_scale = 6)"
   ]
  },
  {
   "cell_type": "markdown",
   "metadata": {},
   "source": [
    "#### Heat Map of Recall: Rate (important!!!)"
   ]
  },
  {
   "cell_type": "code",
   "execution_count": 26,
   "metadata": {
    "scrolled": false
   },
   "outputs": [
    {
     "data": {
      "image/png": "[encoded data removed]",
      "text/plain": [
       "<Figure size 2160x1728 with 2 Axes>"
      ]
     },
     "metadata": {},
     "output_type": "display_data"
    }
   ],
   "source": [
    "plt.figure(figsize=(30, 24))\n",
    "heat_map_r = sb.heatmap(confusion_r, annot=True,  # It's a Seaborn function\n",
    "                      cmap='coolwarm', \n",
    "                      xticklabels=confusion.columns, yticklabels=confusion.index, \n",
    "                      linewidths=1, \n",
    "                      annot_kws={\"size\": 50})\n",
    "sb.set(font_scale = 3)"
   ]
  },
  {
   "cell_type": "code",
   "execution_count": 27,
   "metadata": {},
   "outputs": [
    {
     "data": {
      "image/png": "[encoded data removed]",
      "text/plain": [
       "<Figure size 2160x1728 with 2 Axes>"
      ]
     },
     "metadata": {},
     "output_type": "display_data"
    }
   ],
   "source": [
    "plt.figure(figsize=(30, 24))\n",
    "heat_map_p = sb.heatmap(confusion_p, annot=True,  # It's a Seaborn function\n",
    "                      cmap='coolwarm', \n",
    "                      xticklabels=confusion.columns, yticklabels=confusion.index, \n",
    "                      linewidths=1, \n",
    "                      annot_kws={\"size\": 50})\n",
    "sb.set(font_scale = 4)"
   ]
  },
  {
   "cell_type": "code",
   "execution_count": 28,
   "metadata": {},
   "outputs": [],
   "source": [
    "fig = heat_map.get_figure()    \n",
    "fig.savefig('Heatmap_Combination.png', dpi=400)"
   ]
  },
  {
   "cell_type": "code",
   "execution_count": 29,
   "metadata": {},
   "outputs": [],
   "source": [
    "fig_r = heat_map_r.get_figure()    \n",
    "fig_r.savefig('Heatmap_Recall_Combination.png', dpi=400)"
   ]
  },
  {
   "cell_type": "code",
   "execution_count": 30,
   "metadata": {},
   "outputs": [],
   "source": [
    "fig_p = heat_map_p.get_figure()    \n",
    "fig_p.savefig('Heatmap_Precision_Combination.png', dpi=400)"
   ]
  },
  {
   "cell_type": "markdown",
   "metadata": {},
   "source": [
    "# ROC Curve"
   ]
  },
  {
   "cell_type": "code",
   "execution_count": 31,
   "metadata": {},
   "outputs": [
    {
     "data": {
      "text/plain": [
       "array([[1.00000000e+00, 6.98753345e-27],\n",
       "       [1.00000000e+00, 3.35642057e-14],\n",
       "       [1.00000000e+00, 8.41765407e-11],\n",
       "       [1.00000000e+00, 2.67953961e-23],\n",
       "       [9.99997139e-01, 6.56888290e-07],\n",
       "       [1.00000000e+00, 3.08719439e-10],\n",
       "       [9.99998569e-01, 1.89484382e-07],\n",
       "       [1.00000000e+00, 6.80574507e-14],\n",
       "       [9.99999881e-01, 2.16496332e-08],\n",
       "       [9.99999762e-01, 4.42495640e-08],\n",
       "       [1.00000000e+00, 2.86337953e-10],\n",
       "       [9.99582350e-01, 1.32085421e-04],\n",
       "       [1.00000000e+00, 3.15524462e-13],\n",
       "       [9.99999762e-01, 3.05522541e-08],\n",
       "       [1.00000000e+00, 5.08788021e-23],\n",
       "       [1.00000000e+00, 2.31899135e-13],\n",
       "       [9.75257456e-01, 1.64779481e-02],\n",
       "       [9.99785364e-01, 5.44351387e-05],\n",
       "       [9.98315930e-01, 8.03631323e-04],\n",
       "       [9.99994874e-01, 5.78299421e-07],\n",
       "       [9.98134971e-01, 6.08289265e-04],\n",
       "       [9.99996543e-01, 5.43688088e-07],\n",
       "       [9.95818913e-01, 1.85354275e-03],\n",
       "       [9.99996662e-01, 5.80243409e-07],\n",
       "       [1.00000000e+00, 3.24426441e-09],\n",
       "       [9.95621741e-01, 1.58460136e-03],\n",
       "       [9.99292374e-01, 2.53382634e-04],\n",
       "       [1.00000000e+00, 2.91919613e-11],\n",
       "       [9.99998212e-01, 3.20592250e-07],\n",
       "       [9.99998212e-01, 4.02291448e-07],\n",
       "       [9.86725569e-01, 8.45650304e-03],\n",
       "       [9.99270141e-01, 1.67181817e-04],\n",
       "       [9.92125690e-01, 4.87526925e-03],\n",
       "       [9.95172679e-01, 2.12125457e-03],\n",
       "       [1.00000000e+00, 2.99126279e-11],\n",
       "       [9.95580733e-01, 2.52939016e-03],\n",
       "       [9.99962330e-01, 9.69414577e-06],\n",
       "       [9.94084895e-01, 2.99212756e-03],\n",
       "       [1.53915416e-02, 9.87614393e-01],\n",
       "       [3.08756297e-03, 9.98322308e-01],\n",
       "       [5.10330079e-03, 9.97105420e-01],\n",
       "       [9.95769382e-01, 8.67536175e-04],\n",
       "       [4.49490617e-04, 9.99798596e-01],\n",
       "       [1.39990091e-01, 8.55600297e-01],\n",
       "       [1.29264012e-01, 8.54472816e-01],\n",
       "       [9.14220512e-03, 9.92100894e-01],\n",
       "       [9.94267821e-01, 1.61836098e-03],\n",
       "       [1.00000000e+00, 6.90653725e-15],\n",
       "       [1.00000000e+00, 2.55692309e-30],\n",
       "       [9.99499798e-01, 2.41149939e-03],\n",
       "       [1.00000000e+00, 0.00000000e+00],\n",
       "       [1.00000000e+00, 1.96834324e-16],\n",
       "       [1.00000000e+00, 1.06658149e-08],\n",
       "       [9.99999762e-01, 2.93863854e-06],\n",
       "       [9.99999046e-01, 9.77113723e-06],\n",
       "       [1.00000000e+00, 1.30998474e-08],\n",
       "       [1.00000000e+00, 9.43124121e-08],\n",
       "       [1.00000000e+00, 4.44310411e-09],\n",
       "       [1.00000000e+00, 6.27421528e-08],\n",
       "       [1.00000000e+00, 1.90804946e-12],\n",
       "       [1.00000000e+00, 1.06357993e-06],\n",
       "       [3.16714402e-03, 9.98889625e-01],\n",
       "       [9.99999642e-01, 8.02612612e-06],\n",
       "       [1.00000000e+00, 7.48468182e-13],\n",
       "       [1.00000000e+00, 6.09719941e-10],\n",
       "       [9.99952316e-01, 4.70534811e-04],\n",
       "       [9.99998450e-01, 2.91638444e-05],\n",
       "       [9.99999881e-01, 4.40269559e-06],\n",
       "       [9.99977946e-01, 3.08548333e-04],\n",
       "       [9.99998808e-01, 1.57715785e-05],\n",
       "       [1.00000000e+00, 6.13087764e-07],\n",
       "       [9.78733480e-01, 9.39983651e-02],\n",
       "       [1.00000000e+00, 8.19175023e-13],\n",
       "       [9.99999881e-01, 7.39737561e-06],\n",
       "       [9.99987483e-01, 1.41827812e-04],\n",
       "       [9.99743044e-01, 2.96896813e-03],\n",
       "       [9.85803485e-01, 4.83163297e-02],\n",
       "       [9.98988926e-01, 5.31283487e-03],\n",
       "       [9.99563634e-01, 2.72182515e-03],\n",
       "       [9.99975681e-01, 3.99853336e-04],\n",
       "       [9.94786143e-01, 2.29297839e-02],\n",
       "       [9.99988914e-01, 1.34408750e-04],\n",
       "       [9.99799311e-01, 1.91519712e-03],\n",
       "       [9.45189536e-01, 1.28039688e-01],\n",
       "       [9.99999881e-01, 7.28804798e-06],\n",
       "       [8.70829463e-01, 2.12625921e-01],\n",
       "       [2.08867211e-02, 9.82585192e-01],\n",
       "       [9.08910763e-03, 9.95065510e-01],\n",
       "       [1.51114492e-03, 9.98870432e-01],\n",
       "       [1.69949397e-03, 9.98645127e-01],\n",
       "       [5.92894445e-04, 9.99437988e-01],\n",
       "       [3.38499434e-02, 9.78180945e-01],\n",
       "       [3.41229723e-03, 9.98343229e-01],\n",
       "       [9.99995232e-01, 1.55430942e-04],\n",
       "       [1.00000000e+00, 9.40581913e-07],\n",
       "       [1.00000000e+00, 4.79958715e-07],\n",
       "       [9.99998927e-01, 6.67261920e-05],\n",
       "       [9.99999881e-01, 5.87430986e-06],\n",
       "       [1.00000000e+00, 8.32823307e-12],\n",
       "       [1.00000000e+00, 1.42111872e-07],\n",
       "       [1.00000000e+00, 5.79460959e-07],\n",
       "       [9.99995112e-01, 2.67993339e-04],\n",
       "       [1.00000000e+00, 8.14767134e-08],\n",
       "       [9.83412862e-01, 1.89226121e-01],\n",
       "       [9.99394059e-01, 8.55020247e-03],\n",
       "       [9.99999404e-01, 2.31596769e-05],\n",
       "       [1.00000000e+00, 5.51845076e-08],\n",
       "       [1.00000000e+00, 3.68484575e-06],\n",
       "       [9.99553978e-01, 2.09841761e-03],\n",
       "       [9.99999881e-01, 4.08897813e-06],\n",
       "       [9.99963999e-01, 7.79117283e-04],\n",
       "       [9.99999762e-01, 9.75015610e-06],\n",
       "       [9.99994397e-01, 1.27861786e-04],\n",
       "       [8.84705544e-01, 2.58710831e-01],\n",
       "       [9.99998927e-01, 3.28487331e-05],\n",
       "       [9.96248543e-01, 1.26323160e-02],\n",
       "       [9.99997735e-01, 6.38334604e-05],\n",
       "       [9.99997139e-01, 1.84321936e-04],\n",
       "       [9.99884844e-01, 1.03574828e-03],\n",
       "       [1.00000000e+00, 2.86935258e-08],\n",
       "       [1.00000000e+00, 3.54669783e-06],\n",
       "       [9.99953508e-01, 6.87234860e-04],\n",
       "       [9.99999523e-01, 1.68813112e-05],\n",
       "       [9.99999881e-01, 7.27717224e-06],\n",
       "       [9.99990106e-01, 1.42215940e-04],\n",
       "       [9.99990582e-01, 6.80450525e-04],\n",
       "       [1.00000000e+00, 1.05201116e-06],\n",
       "       [1.00000000e+00, 3.37083435e-07],\n",
       "       [1.00000000e+00, 2.90132164e-07],\n",
       "       [9.99889970e-01, 9.62751801e-04],\n",
       "       [1.00000000e+00, 1.24545224e-07],\n",
       "       [7.97738721e-06, 9.99989271e-01],\n",
       "       [2.31948192e-03, 9.97208059e-01],\n",
       "       [1.47830055e-03, 9.98309612e-01],\n",
       "       [3.78271543e-05, 9.99947906e-01],\n",
       "       [9.99953508e-01, 6.87234628e-04],\n",
       "       [6.54279441e-03, 9.93019044e-01],\n",
       "       [5.71095552e-05, 9.99940991e-01],\n",
       "       [1.82643477e-02, 9.83259678e-01],\n",
       "       [1.00000000e+00, 1.43742846e-19],\n",
       "       [1.00000000e+00, 8.95782340e-16],\n",
       "       [9.98286784e-01, 3.37675842e-03],\n",
       "       [1.00000000e+00, 3.16187912e-27],\n",
       "       [1.00000000e+00, 4.58764832e-10],\n",
       "       [1.00000000e+00, 4.03039240e-15],\n",
       "       [1.00000000e+00, 1.46408189e-17],\n",
       "       [1.00000000e+00, 0.00000000e+00],\n",
       "       [9.92303903e-05, 9.99921322e-01],\n",
       "       [1.00000000e+00, 6.27480977e-13],\n",
       "       [1.00000000e+00, 2.98143998e-09],\n",
       "       [1.00000000e+00, 6.97972808e-08],\n",
       "       [1.00000000e+00, 3.35038804e-37],\n",
       "       [1.00000000e+00, 6.85365376e-11],\n",
       "       [1.00000000e+00, 7.96336153e-09],\n",
       "       [1.00000000e+00, 6.93855426e-08],\n",
       "       [9.99985576e-01, 2.40378795e-05],\n",
       "       [9.95433092e-01, 8.53016786e-03],\n",
       "       [1.00000000e+00, 1.91435241e-08],\n",
       "       [1.00000000e+00, 2.81641399e-09],\n",
       "       [1.00000000e+00, 2.30466924e-07],\n",
       "       [1.00000000e+00, 6.97153186e-12],\n",
       "       [1.00000000e+00, 2.79909993e-13],\n",
       "       [9.99841690e-01, 3.77512100e-04],\n",
       "       [9.99999285e-01, 2.14669171e-06],\n",
       "       [9.99998569e-01, 4.85725104e-06],\n",
       "       [1.00000000e+00, 3.26859481e-12],\n",
       "       [1.00000000e+00, 1.61562941e-08],\n",
       "       [9.90847230e-01, 1.56516694e-02],\n",
       "       [3.94679846e-05, 9.99961138e-01],\n",
       "       [1.00000000e+00, 5.69116887e-09],\n",
       "       [9.99957800e-01, 1.02034755e-04],\n",
       "       [1.00000000e+00, 6.30851593e-10],\n",
       "       [9.99999762e-01, 9.05891170e-07],\n",
       "       [1.00000000e+00, 8.33050100e-13],\n",
       "       [9.99997020e-01, 9.06203059e-06],\n",
       "       [9.99999642e-01, 1.40970735e-06],\n",
       "       [9.99883175e-01, 2.20512549e-04],\n",
       "       [9.99981642e-01, 4.82930664e-05],\n",
       "       [1.31549731e-01, 8.78060579e-01],\n",
       "       [9.99968767e-01, 7.79668917e-05],\n",
       "       [1.41514959e-02, 9.82459188e-01],\n",
       "       [2.26666216e-05, 9.99978900e-01],\n",
       "       [1.00000000e+00, 2.50832333e-08],\n",
       "       [6.70399740e-02, 9.36422884e-01],\n",
       "       [7.69327671e-05, 9.99869347e-01],\n",
       "       [1.00000000e+00, 7.75356818e-22],\n",
       "       [1.00000000e+00, 3.82277950e-13],\n",
       "       [8.85170817e-01, 5.00895754e-02],\n",
       "       [9.99984264e-01, 3.73859302e-06],\n",
       "       [9.99984980e-01, 3.59611408e-06],\n",
       "       [5.60021579e-01, 2.50154227e-01],\n",
       "       [1.00000000e+00, 6.65112066e-18],\n",
       "       [1.00000000e+00, 0.00000000e+00],\n",
       "       [1.00000000e+00, 0.00000000e+00],\n",
       "       [1.00000000e+00, 7.10633671e-23],\n",
       "       [1.00000000e+00, 0.00000000e+00],\n",
       "       [1.00000000e+00, 0.00000000e+00],\n",
       "       [1.00000000e+00, 7.49044778e-25],\n",
       "       [1.00000000e+00, 2.45205915e-20],\n",
       "       [1.00000000e+00, 9.87247311e-35],\n",
       "       [1.00000000e+00, 0.00000000e+00],\n",
       "       [1.00000000e+00, 3.45453909e-11],\n",
       "       [9.98716354e-01, 6.26595633e-04],\n",
       "       [9.99967575e-01, 1.39343983e-05],\n",
       "       [1.00000000e+00, 1.32594055e-33],\n",
       "       [9.99999046e-01, 2.92440347e-07],\n",
       "       [1.00000000e+00, 1.08821029e-10],\n",
       "       [9.91197467e-01, 6.49906462e-03],\n",
       "       [8.56551230e-01, 1.15428813e-01],\n",
       "       [9.99996424e-01, 6.91971309e-07],\n",
       "       [9.77741122e-01, 7.50811072e-03],\n",
       "       [9.35972095e-01, 1.40680186e-02],\n",
       "       [9.99997735e-01, 2.13133632e-07],\n",
       "       [8.15085649e-01, 9.91425067e-02],\n",
       "       [1.00000000e+00, 2.15205198e-16],\n",
       "       [9.99992251e-01, 1.68541180e-06],\n",
       "       [1.00000000e+00, 3.40685674e-11],\n",
       "       [9.07971501e-01, 3.10178306e-02],\n",
       "       [9.99964476e-01, 7.30378679e-06],\n",
       "       [1.00000000e+00, 2.20596116e-17],\n",
       "       [6.10630214e-01, 2.19139695e-01],\n",
       "       [9.99541521e-01, 1.61485732e-04],\n",
       "       [3.68958533e-01, 5.35643876e-01],\n",
       "       [3.21687609e-01, 4.31980342e-01],\n",
       "       [2.23255843e-01, 7.09395289e-01],\n",
       "       [1.29148527e-03, 9.97758865e-01],\n",
       "       [1.23242542e-04, 9.99731004e-01],\n",
       "       [9.99999642e-01, 3.33733681e-08],\n",
       "       [7.91649461e-01, 1.07154727e-01],\n",
       "       [1.37335849e-06, 9.99995589e-01]], dtype=float32)"
      ]
     },
     "execution_count": 31,
     "metadata": {},
     "output_type": "execute_result"
    }
   ],
   "source": [
    "y_predict_concatenate_array = np.array(y_predict_concatenate_list)\n",
    "y_predict_concatenate_array"
   ]
  },
  {
   "cell_type": "code",
   "execution_count": 32,
   "metadata": {},
   "outputs": [
    {
     "data": {
      "text/plain": [
       "(230, 2)"
      ]
     },
     "execution_count": 32,
     "metadata": {},
     "output_type": "execute_result"
    }
   ],
   "source": [
    "y_predict_concatenate_array.shape"
   ]
  },
  {
   "cell_type": "code",
   "execution_count": 33,
   "metadata": {},
   "outputs": [],
   "source": [
    "y_predict_1D = y_predict_concatenate_array[:,0]"
   ]
  },
  {
   "cell_type": "code",
   "execution_count": 34,
   "metadata": {},
   "outputs": [],
   "source": [
    "y_predict_1D_processed = 1- y_predict_1D"
   ]
  },
  {
   "cell_type": "code",
   "execution_count": 35,
   "metadata": {},
   "outputs": [],
   "source": [
    "fpr , tpr , thresholds = roc_curve(y_test_concatenate_list , y_predict_1D_processed)\n",
    "auc_rf = auc(fpr, tpr)"
   ]
  },
  {
   "cell_type": "code",
   "execution_count": 36,
   "metadata": {},
   "outputs": [
    {
     "data": {
      "text/plain": [
       "0.9308943089430894"
      ]
     },
     "execution_count": 36,
     "metadata": {},
     "output_type": "execute_result"
    }
   ],
   "source": [
    "auc_rf"
   ]
  },
  {
   "cell_type": "code",
   "execution_count": 37,
   "metadata": {},
   "outputs": [],
   "source": [
    "x = y = np.arange(0, 1.1, 0.1)"
   ]
  },
  {
   "cell_type": "code",
   "execution_count": 38,
   "metadata": {},
   "outputs": [
    {
     "data": {
      "text/plain": [
       "array([0. , 0.1, 0.2, 0.3, 0.4, 0.5, 0.6, 0.7, 0.8, 0.9, 1. ])"
      ]
     },
     "execution_count": 38,
     "metadata": {},
     "output_type": "execute_result"
    }
   ],
   "source": [
    "x"
   ]
  },
  {
   "cell_type": "code",
   "execution_count": 39,
   "metadata": {
    "scrolled": true
   },
   "outputs": [
    {
     "data": {
      "image/png": "[encoded data removed]",
      "text/plain": [
       "<Figure size 432x288 with 1 Axes>"
      ]
     },
     "metadata": {},
     "output_type": "display_data"
    }
   ],
   "source": [
    "fig = plt.figure()\n",
    "plt.style.use('classic')\n",
    "\n",
    "ax = fig.add_subplot(111)\n",
    "\n",
    "plt.plot(fpr, tpr, color='blue', linewidth=0.9)\n",
    "\n",
    "plt.plot(x, y, '--', color='black', linewidth=0.8)\n",
    "\n",
    "plt.title('ROC curve of Chr X q22 CNV', fontsize=15, fontname = 'Times New Roman')\n",
    "plt.xlabel('False Positive Rate', fontsize=15, fontname = 'Times New Roman')\n",
    "\n",
    "plt.ylabel('True positive Rate', fontsize=15, fontname = 'Times New Roman')\n",
    "\n",
    "ax.set_aspect('equal', adjustable='box')\n",
    "\n",
    "plt.xlim(-0.08, 1.1)\n",
    "plt.ylim(-0.08, 1.1)\n",
    "\n",
    "plt.xticks(fontsize=15, fontname = 'Arial')\n",
    "plt.yticks(fontsize=15, fontname = 'Arial')\n",
    "\n",
    "plt.savefig('ROC_Curve_Combination.png', dpi=700)\n",
    "plt.show()"
   ]
  },
  {
   "cell_type": "markdown",
   "metadata": {},
   "source": [
    "#### 3.10.4.1 AUC Value"
   ]
  },
  {
   "cell_type": "code",
   "execution_count": 40,
   "metadata": {},
   "outputs": [],
   "source": [
    "auc_value = auc(fpr, tpr)"
   ]
  },
  {
   "cell_type": "code",
   "execution_count": 41,
   "metadata": {},
   "outputs": [
    {
     "name": "stdout",
     "output_type": "stream",
     "text": [
      "AUC is  0.9308943089430894\n"
     ]
    }
   ],
   "source": [
    "print('AUC is ', auc_value)"
   ]
  },
  {
   "cell_type": "markdown",
   "metadata": {},
   "source": [
    "# Results"
   ]
  },
  {
   "cell_type": "code",
   "execution_count": 42,
   "metadata": {},
   "outputs": [
    {
     "name": "stdout",
     "output_type": "stream",
     "text": [
      "Test Accuracy: 0.948\n"
     ]
    }
   ],
   "source": [
    "print('Test Accuracy: %.3f' % acc)"
   ]
  },
  {
   "cell_type": "code",
   "execution_count": 43,
   "metadata": {
    "scrolled": true
   },
   "outputs": [
    {
     "name": "stdout",
     "output_type": "stream",
     "text": [
      "                    precision    recall  f1-score   support\n",
      "\n",
      "             chr_x   0.953846  0.984127  0.968750       189\n",
      "chr_x_q22_deletion   0.914286  0.780488  0.842105        41\n",
      "\n",
      "         micro avg   0.947826  0.947826  0.947826       230\n",
      "         macro avg   0.934066  0.882307  0.905428       230\n",
      "      weighted avg   0.946794  0.947826  0.946174       230\n",
      "\n"
     ]
    }
   ],
   "source": [
    "print(performanceReport)"
   ]
  },
  {
   "cell_type": "code",
   "execution_count": 44,
   "metadata": {},
   "outputs": [
    {
     "data": {
      "text/plain": [
       "str"
      ]
     },
     "execution_count": 44,
     "metadata": {},
     "output_type": "execute_result"
    }
   ],
   "source": [
    "type(performanceReport)"
   ]
  },
  {
   "cell_type": "code",
   "execution_count": 45,
   "metadata": {},
   "outputs": [
    {
     "name": "stdout",
     "output_type": "stream",
     "text": [
      "AUC is  0.9308943089430894\n"
     ]
    }
   ],
   "source": [
    "print('AUC is ', auc_value)"
   ]
  },
  {
   "cell_type": "markdown",
   "metadata": {},
   "source": [
    "## Export to a text file"
   ]
  },
  {
   "cell_type": "code",
   "execution_count": 46,
   "metadata": {},
   "outputs": [],
   "source": [
    "file_report = open('ResultsCombination.txt', 'w')\n",
    "file_report.write('Accuracy: %s\\n\\n' % acc)\n",
    "file_report.write('AUC: %s.\\n\\n' % auc_value)\n",
    "file_report.write('Performance Report: \\n%s\\n\\n' % performanceReport)\n",
    "file_report.write('Confusion Matrix: \\n%s.\\n\\n' % confusion)\n",
    "file_report.write('Recall of Confusion Matrix: \\n%s.\\n\\n' % confusion_r)\n",
    "file_report.write('Precision of Confusion Matrix: \\n%s.\\n\\n' % confusion_p)\n",
    "file_report.close()"
   ]
  },
  {
   "cell_type": "markdown",
   "metadata": {},
   "source": [
    "## Export ROC Parameters"
   ]
  },
  {
   "cell_type": "code",
   "execution_count": 47,
   "metadata": {},
   "outputs": [],
   "source": [
    "with open('tpr_' + label_convert[1] + '.npy', 'wb') as file_tpr:\n",
    "    np.save(file_tpr, np.array(tpr))\n",
    "    \n",
    "with open('fpr_' + label_convert[1] + '.npy', 'wb') as file_fpr:\n",
    "    np.save(file_fpr, np.array(fpr))\n",
    "    \n",
    "with open('thresholds_' + label_convert[1] + '.npy', 'wb') as file_thresholds:\n",
    "    np.save(file_thresholds, np.array(thresholds))"
   ]
  },
  {
   "cell_type": "code",
   "execution_count": null,
   "metadata": {},
   "outputs": [],
   "source": []
  }
 ],
 "metadata": {
  "kernelspec": {
   "display_name": "Python 3",
   "language": "python",
   "name": "python3"
  },
  "language_info": {
   "codemirror_mode": {
    "name": "ipython",
    "version": 3
   },
   "file_extension": ".py",
   "mimetype": "text/x-python",
   "name": "python",
   "nbconvert_exporter": "python",
   "pygments_lexer": "ipython3",
   "version": "3.7.3"
  }
 },
 "nbformat": 4,
 "nbformat_minor": 2
}
