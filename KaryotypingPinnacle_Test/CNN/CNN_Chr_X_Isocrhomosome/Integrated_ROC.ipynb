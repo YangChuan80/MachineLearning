{
 "cells": [
  {
   "cell_type": "code",
   "execution_count": 1,
   "metadata": {},
   "outputs": [
    {
     "name": "stderr",
     "output_type": "stream",
     "text": [
      "C:\\Anaconda3\\lib\\site-packages\\pandas\\compat\\_optional.py:138: UserWarning: Pandas requires version '2.7.0' or newer of 'numexpr' (version '2.6.9' currently installed).\n",
      "  warnings.warn(msg, UserWarning)\n"
     ]
    }
   ],
   "source": [
    "import numpy as np\n",
    "import pandas as pd\n",
    "import matplotlib.pyplot as plt\n",
    "\n",
    "from sklearn.metrics import classification_report, confusion_matrix, roc_curve, auc, accuracy_score\n",
    "\n",
    "import seaborn as sb"
   ]
  },
  {
   "cell_type": "code",
   "execution_count": 2,
   "metadata": {},
   "outputs": [],
   "source": [
    "chromConvert = {\n",
    "               'chr_x': 0, \n",
    "               'chr_x_isochromosome': 1\n",
    "               }"
   ]
  },
  {
   "cell_type": "code",
   "execution_count": 3,
   "metadata": {},
   "outputs": [],
   "source": [
    "chromConvert_reverse = {\n",
    "                0: 'chr_x', \n",
    "                1: 'chr_x_isochromosome'\n",
    "               }"
   ]
  },
  {
   "cell_type": "code",
   "execution_count": 4,
   "metadata": {},
   "outputs": [],
   "source": [
    "label = ['chr_x', 'chr_x_isochromosome']\n",
    "\n",
    "label_convert = []\n",
    "\n",
    "for i in range(2):\n",
    "    label_convert.append(chromConvert_reverse[i])"
   ]
  },
  {
   "cell_type": "markdown",
   "metadata": {},
   "source": [
    "# Load test and predict values"
   ]
  },
  {
   "cell_type": "code",
   "execution_count": 5,
   "metadata": {},
   "outputs": [],
   "source": [
    "y_test_all = []\n",
    "y_predict_all = []\n",
    "y_predict_filtered_all = []"
   ]
  },
  {
   "cell_type": "code",
   "execution_count": 6,
   "metadata": {},
   "outputs": [],
   "source": [
    "for iterationNumber in range(5):\n",
    "    with open('data_y_test_value_iteration_' + str(iterationNumber) + '.npy', 'rb') as f_y_test:\n",
    "        y_test_all.append(np.load(f_y_test))\n",
    "        \n",
    "    with open('data_y_predict_value_iteration_' + str(iterationNumber) + '.npy', 'rb') as f_y_predict:\n",
    "        y_predict_all.append(np.load(f_y_predict))                             \n",
    "                        \n",
    "    with open('data_y_predict_filtered_value_iteration_' + str(iterationNumber) + '.npy', 'rb') as f_y_predict_filtered:\n",
    "        y_predict_filtered_all.append(np.load(f_y_predict_filtered))"
   ]
  },
  {
   "cell_type": "code",
   "execution_count": 7,
   "metadata": {},
   "outputs": [
    {
     "data": {
      "text/plain": [
       "(51, 2)"
      ]
     },
     "execution_count": 7,
     "metadata": {},
     "output_type": "execute_result"
    }
   ],
   "source": [
    "y_predict_all[0].shape"
   ]
  },
  {
   "cell_type": "code",
   "execution_count": 8,
   "metadata": {
    "scrolled": true
   },
   "outputs": [
    {
     "data": {
      "text/plain": [
       "[array([[1.0000000e+00, 1.1736558e-12],\n",
       "        [1.0000000e+00, 7.1426615e-11],\n",
       "        [1.0000000e+00, 1.5005324e-13],\n",
       "        [1.0000000e+00, 5.4471900e-13],\n",
       "        [1.0000000e+00, 2.9661814e-07],\n",
       "        [1.0000000e+00, 1.9216955e-07],\n",
       "        [1.0000000e+00, 7.2670708e-10],\n",
       "        [1.0000000e+00, 5.1899192e-09],\n",
       "        [9.9999988e-01, 6.6159345e-07],\n",
       "        [1.0000000e+00, 1.6016843e-08],\n",
       "        [1.0000000e+00, 3.7520252e-08],\n",
       "        [1.0000000e+00, 9.1558178e-08],\n",
       "        [1.0000000e+00, 1.1287794e-09],\n",
       "        [9.9999988e-01, 7.3994607e-07],\n",
       "        [9.9999988e-01, 3.0446068e-07],\n",
       "        [1.0000000e+00, 2.3740424e-10],\n",
       "        [9.9999928e-01, 5.0021108e-06],\n",
       "        [1.0000000e+00, 2.1301924e-11],\n",
       "        [1.0000000e+00, 5.3219884e-10],\n",
       "        [1.0000000e+00, 2.8253671e-09],\n",
       "        [1.0000000e+00, 1.0185722e-08],\n",
       "        [1.0000000e+00, 2.0601327e-08],\n",
       "        [1.0000000e+00, 2.9732172e-09],\n",
       "        [1.0000000e+00, 3.4905964e-11],\n",
       "        [1.0000000e+00, 3.9936159e-11],\n",
       "        [9.9987328e-01, 3.6004576e-04],\n",
       "        [9.9986982e-01, 9.1994222e-04],\n",
       "        [1.0000000e+00, 1.5654335e-10],\n",
       "        [9.9999988e-01, 8.1220452e-07],\n",
       "        [9.9694866e-01, 1.4724434e-02],\n",
       "        [9.9999976e-01, 1.0488416e-06],\n",
       "        [1.0000000e+00, 2.0765346e-07],\n",
       "        [1.0000000e+00, 1.2367111e-08],\n",
       "        [1.0000000e+00, 4.6934016e-08],\n",
       "        [1.0000000e+00, 1.1358844e-10],\n",
       "        [1.0000000e+00, 3.8394332e-09],\n",
       "        [9.9999988e-01, 5.1062545e-07],\n",
       "        [9.9999726e-01, 1.6072781e-05],\n",
       "        [7.1083590e-11, 1.0000000e+00],\n",
       "        [7.1730830e-07, 9.9999797e-01],\n",
       "        [9.9996614e-01, 1.6975484e-04],\n",
       "        [8.6761063e-01, 4.5546871e-01],\n",
       "        [8.3343148e-05, 9.9993968e-01],\n",
       "        [1.2901933e-01, 9.0989602e-01],\n",
       "        [2.2082359e-06, 9.9999881e-01],\n",
       "        [5.8456440e-04, 9.9988866e-01],\n",
       "        [1.8036645e-12, 1.0000000e+00],\n",
       "        [8.6689472e-01, 3.8876083e-01],\n",
       "        [6.3705649e-08, 1.0000000e+00],\n",
       "        [8.2528470e-03, 9.9989200e-01],\n",
       "        [1.1654639e-05, 9.9999344e-01]], dtype=float32),\n",
       " array([[9.99787152e-01, 1.73461771e-07],\n",
       "        [9.99998212e-01, 2.22737093e-10],\n",
       "        [9.99991179e-01, 7.71151534e-08],\n",
       "        [9.96202052e-01, 1.56917224e-07],\n",
       "        [9.83089030e-01, 6.28159978e-06],\n",
       "        [9.99979854e-01, 1.64438365e-08],\n",
       "        [9.99191344e-01, 2.33080277e-06],\n",
       "        [9.97819066e-01, 1.54789598e-06],\n",
       "        [9.99974608e-01, 4.37160317e-08],\n",
       "        [9.99716222e-01, 2.16174357e-07],\n",
       "        [9.95686531e-01, 8.52675839e-06],\n",
       "        [9.99996901e-01, 3.27392335e-08],\n",
       "        [9.99995828e-01, 3.24420246e-09],\n",
       "        [9.98673797e-01, 1.93533242e-06],\n",
       "        [9.99976277e-01, 3.72942282e-07],\n",
       "        [9.99996901e-01, 2.59443027e-08],\n",
       "        [9.99497056e-01, 1.48966501e-06],\n",
       "        [9.99896646e-01, 8.65921493e-07],\n",
       "        [9.99989510e-01, 1.11094536e-07],\n",
       "        [9.99086022e-01, 3.07198684e-06],\n",
       "        [9.99202430e-01, 6.04183879e-06],\n",
       "        [9.99884129e-01, 1.20229379e-06],\n",
       "        [9.99853492e-01, 2.56943366e-07],\n",
       "        [9.99857664e-01, 1.09121572e-06],\n",
       "        [9.99659657e-01, 1.35984601e-06],\n",
       "        [9.99966502e-01, 1.27732164e-07],\n",
       "        [9.99927163e-01, 6.76757793e-07],\n",
       "        [9.99805868e-01, 1.76957565e-06],\n",
       "        [9.99977827e-01, 2.29684019e-07],\n",
       "        [9.99988794e-01, 1.69447418e-07],\n",
       "        [9.91628170e-01, 2.81568791e-05],\n",
       "        [9.99942183e-01, 7.10155120e-07],\n",
       "        [9.99942422e-01, 5.02459727e-07],\n",
       "        [9.99994159e-01, 5.71044971e-08],\n",
       "        [9.99934673e-01, 9.51387790e-07],\n",
       "        [9.99862313e-01, 1.18678395e-06],\n",
       "        [9.98913407e-01, 8.26875566e-06],\n",
       "        [9.99499917e-01, 8.81267351e-06],\n",
       "        [2.78902036e-04, 8.76263559e-01],\n",
       "        [4.39756377e-06, 9.97909248e-01],\n",
       "        [5.12075758e-07, 9.99757111e-01],\n",
       "        [2.10465278e-05, 9.47449505e-01],\n",
       "        [2.42293347e-04, 9.63857532e-01],\n",
       "        [9.99531150e-01, 1.51670372e-06],\n",
       "        [5.03779074e-06, 9.97977436e-01],\n",
       "        [1.48024556e-05, 9.92828429e-01],\n",
       "        [6.36910554e-05, 9.86003220e-01],\n",
       "        [2.73991247e-07, 9.99638557e-01],\n",
       "        [9.99426365e-01, 1.35139217e-05],\n",
       "        [1.63544482e-05, 9.96815622e-01],\n",
       "        [4.11582332e-05, 9.92370009e-01]], dtype=float32),\n",
       " array([[9.99977231e-01, 1.06461687e-06],\n",
       "        [9.99985218e-01, 5.33645277e-07],\n",
       "        [1.00000000e+00, 1.31887522e-11],\n",
       "        [9.99987483e-01, 4.95213555e-07],\n",
       "        [9.99647379e-01, 1.63383302e-05],\n",
       "        [9.99999166e-01, 1.11392184e-08],\n",
       "        [9.96187866e-01, 1.25084014e-03],\n",
       "        [1.00000000e+00, 2.23413029e-15],\n",
       "        [9.96710777e-01, 1.08424132e-03],\n",
       "        [9.99958754e-01, 8.44757596e-06],\n",
       "        [1.00000000e+00, 2.53833222e-11],\n",
       "        [9.99867201e-01, 3.47030218e-05],\n",
       "        [1.00000000e+00, 4.44170985e-11],\n",
       "        [9.66080666e-01, 7.48716900e-03],\n",
       "        [9.99783814e-01, 5.47677200e-06],\n",
       "        [9.99995470e-01, 1.44652844e-07],\n",
       "        [9.99999881e-01, 3.41199113e-09],\n",
       "        [9.62625682e-01, 1.15137864e-02],\n",
       "        [9.99993563e-01, 1.79369934e-07],\n",
       "        [1.00000000e+00, 1.27328564e-10],\n",
       "        [9.99988198e-01, 7.28784244e-07],\n",
       "        [9.99998093e-01, 1.03866611e-07],\n",
       "        [9.99999881e-01, 1.12805187e-09],\n",
       "        [9.99959707e-01, 2.59047033e-06],\n",
       "        [9.74103808e-01, 7.43288826e-03],\n",
       "        [9.99861956e-01, 1.74778215e-05],\n",
       "        [1.00000000e+00, 3.34239650e-11],\n",
       "        [9.99986410e-01, 4.89595891e-07],\n",
       "        [9.99999523e-01, 8.58791083e-09],\n",
       "        [9.99887228e-01, 3.61655361e-06],\n",
       "        [9.99983668e-01, 7.51741879e-07],\n",
       "        [1.00000000e+00, 4.60556419e-12],\n",
       "        [1.00000000e+00, 2.26029889e-10],\n",
       "        [1.00000000e+00, 1.26693718e-12],\n",
       "        [9.99999285e-01, 9.29841715e-09],\n",
       "        [1.00000000e+00, 1.91182931e-10],\n",
       "        [9.99963164e-01, 2.46988884e-06],\n",
       "        [1.00000000e+00, 1.65295017e-11],\n",
       "        [9.95900791e-07, 9.99999285e-01],\n",
       "        [4.04714699e-11, 1.00000000e+00],\n",
       "        [1.36513545e-05, 9.99929667e-01],\n",
       "        [1.43842476e-06, 9.99994993e-01],\n",
       "        [6.80562152e-07, 9.99996305e-01],\n",
       "        [5.31927617e-06, 9.99982238e-01],\n",
       "        [4.87904366e-08, 9.99999404e-01],\n",
       "        [6.48597898e-10, 1.00000000e+00],\n",
       "        [9.99990702e-01, 1.42851604e-07],\n",
       "        [8.68423172e-07, 9.99993801e-01],\n",
       "        [4.04366483e-06, 9.99998212e-01],\n",
       "        [2.73165060e-04, 9.99842286e-01]], dtype=float32),\n",
       " array([[1.00000000e+00, 1.54012331e-10],\n",
       "        [1.20518375e-02, 9.75296915e-01],\n",
       "        [9.99889135e-01, 7.50217223e-05],\n",
       "        [1.00000000e+00, 4.72605899e-10],\n",
       "        [9.99997735e-01, 1.86039608e-06],\n",
       "        [9.78495777e-01, 1.75199453e-02],\n",
       "        [9.99849319e-01, 6.85412670e-05],\n",
       "        [1.00000000e+00, 2.00900807e-08],\n",
       "        [7.92205572e-01, 8.27450752e-02],\n",
       "        [9.99999404e-01, 5.39364009e-07],\n",
       "        [9.99999881e-01, 7.05747851e-08],\n",
       "        [9.98080611e-01, 1.67371705e-03],\n",
       "        [9.99999881e-01, 1.32432760e-07],\n",
       "        [9.99519944e-01, 3.04738787e-04],\n",
       "        [9.99948859e-01, 4.75862580e-05],\n",
       "        [8.55614305e-01, 7.25594088e-02],\n",
       "        [2.54547806e-04, 9.98854041e-01],\n",
       "        [9.99283254e-01, 1.67028367e-04],\n",
       "        [9.99969363e-01, 1.00745756e-05],\n",
       "        [9.99994755e-01, 3.61632601e-06],\n",
       "        [9.99997973e-01, 1.00818318e-06],\n",
       "        [9.99987602e-01, 1.06965390e-05],\n",
       "        [9.99999523e-01, 2.55660609e-07],\n",
       "        [9.99869704e-01, 6.01822576e-05],\n",
       "        [9.99969840e-01, 2.79590622e-05],\n",
       "        [9.99821961e-01, 8.74888137e-05],\n",
       "        [9.99998212e-01, 8.67502649e-07],\n",
       "        [9.99973893e-01, 1.14156910e-05],\n",
       "        [9.95841920e-01, 2.11891625e-03],\n",
       "        [9.57487464e-01, 3.96813899e-02],\n",
       "        [9.99998450e-01, 6.68771918e-07],\n",
       "        [9.99997616e-01, 1.01844591e-06],\n",
       "        [9.99999046e-01, 5.18880881e-07],\n",
       "        [9.99972105e-01, 1.57713966e-05],\n",
       "        [9.99994159e-01, 2.01957914e-06],\n",
       "        [9.99999285e-01, 8.90038507e-07],\n",
       "        [9.99987125e-01, 5.51097946e-06],\n",
       "        [9.98491645e-01, 4.39786090e-04],\n",
       "        [2.23601901e-07, 9.99998808e-01],\n",
       "        [5.84594702e-08, 9.99999642e-01],\n",
       "        [1.30801155e-07, 9.99998808e-01],\n",
       "        [7.55810738e-02, 8.61706018e-01],\n",
       "        [3.60449057e-08, 9.99999642e-01],\n",
       "        [2.65697072e-05, 9.99933124e-01],\n",
       "        [4.54056896e-02, 9.58573818e-01],\n",
       "        [2.27407943e-02, 9.63570178e-01],\n",
       "        [2.61547302e-06, 9.99980211e-01],\n",
       "        [9.86720681e-01, 1.22875320e-02],\n",
       "        [3.44692320e-02, 9.54425812e-01],\n",
       "        [8.18827450e-01, 8.21283907e-02]], dtype=float32),\n",
       " array([[1.00000000e+00, 2.49018150e-11],\n",
       "        [1.00000000e+00, 6.31223518e-10],\n",
       "        [9.99999881e-01, 8.87726856e-07],\n",
       "        [1.00000000e+00, 5.72366235e-17],\n",
       "        [1.00000000e+00, 1.77606729e-08],\n",
       "        [1.00000000e+00, 1.04631731e-07],\n",
       "        [1.00000000e+00, 1.17065602e-11],\n",
       "        [1.00000000e+00, 2.53984063e-13],\n",
       "        [9.98185456e-01, 1.72862951e-02],\n",
       "        [5.04706383e-01, 7.58077621e-01],\n",
       "        [1.00000000e+00, 7.65384700e-10],\n",
       "        [9.99999404e-01, 4.79722121e-06],\n",
       "        [9.99985814e-01, 1.11469577e-04],\n",
       "        [1.00000000e+00, 8.70370798e-07],\n",
       "        [9.99999762e-01, 1.99893066e-06],\n",
       "        [9.99835372e-01, 1.37098716e-03],\n",
       "        [1.00000000e+00, 4.75784288e-13],\n",
       "        [1.00000000e+00, 5.54020563e-09],\n",
       "        [1.00000000e+00, 1.52988497e-10],\n",
       "        [1.00000000e+00, 5.70325731e-11],\n",
       "        [1.00000000e+00, 1.85548306e-15],\n",
       "        [1.00000000e+00, 1.24051621e-13],\n",
       "        [1.00000000e+00, 1.75430191e-11],\n",
       "        [1.00000000e+00, 6.95168368e-15],\n",
       "        [1.00000000e+00, 2.51268618e-15],\n",
       "        [1.00000000e+00, 2.20345945e-13],\n",
       "        [1.00000000e+00, 9.38954159e-09],\n",
       "        [1.00000000e+00, 8.19231662e-12],\n",
       "        [1.00000000e+00, 6.53150602e-13],\n",
       "        [1.00000000e+00, 3.05057683e-13],\n",
       "        [1.00000000e+00, 7.55686366e-13],\n",
       "        [1.00000000e+00, 2.95451372e-11],\n",
       "        [1.00000000e+00, 2.96471853e-12],\n",
       "        [1.00000000e+00, 2.25812357e-07],\n",
       "        [1.00000000e+00, 3.50898053e-22],\n",
       "        [1.00000000e+00, 2.39385152e-08],\n",
       "        [9.98635471e-01, 2.34082062e-03],\n",
       "        [1.86921134e-05, 9.99998450e-01],\n",
       "        [1.56765270e-06, 9.99999881e-01],\n",
       "        [1.32017967e-03, 9.99753892e-01],\n",
       "        [6.98943064e-03, 9.99901414e-01],\n",
       "        [1.05877529e-09, 1.00000000e+00],\n",
       "        [9.97674167e-01, 2.16188524e-02],\n",
       "        [4.10613418e-01, 8.40458989e-01],\n",
       "        [9.99968886e-01, 2.34767795e-03],\n",
       "        [1.00925295e-08, 1.00000000e+00],\n",
       "        [5.21054289e-07, 1.00000000e+00],\n",
       "        [1.34775662e-04, 9.99967337e-01],\n",
       "        [1.18936958e-08, 1.00000000e+00]], dtype=float32)]"
      ]
     },
     "execution_count": 8,
     "metadata": {},
     "output_type": "execute_result"
    }
   ],
   "source": [
    "y_predict_all"
   ]
  },
  {
   "cell_type": "code",
   "execution_count": 9,
   "metadata": {},
   "outputs": [],
   "source": [
    "y_test_concatenate_list = []\n",
    "y_predict_concatenate_list = []\n",
    "y_predict_filtered_concatenate_list = []"
   ]
  },
  {
   "cell_type": "code",
   "execution_count": 10,
   "metadata": {},
   "outputs": [],
   "source": [
    "for i in range(5):\n",
    "    y_test_concatenate_list.extend(list(y_test_all[i]))\n",
    "    y_predict_concatenate_list.extend(list(y_predict_all[i]))\n",
    "    y_predict_filtered_concatenate_list.extend(list(y_predict_filtered_all[i]))"
   ]
  },
  {
   "cell_type": "code",
   "execution_count": 11,
   "metadata": {},
   "outputs": [
    {
     "data": {
      "text/plain": [
       "(51, 2)"
      ]
     },
     "execution_count": 11,
     "metadata": {},
     "output_type": "execute_result"
    }
   ],
   "source": [
    "y_predict_all[0].shape"
   ]
  },
  {
   "cell_type": "code",
   "execution_count": 12,
   "metadata": {},
   "outputs": [
    {
     "data": {
      "text/plain": [
       "['chr_x', 'chr_x_isochromosome']"
      ]
     },
     "execution_count": 12,
     "metadata": {},
     "output_type": "execute_result"
    }
   ],
   "source": [
    "label_convert"
   ]
  },
  {
   "cell_type": "code",
   "execution_count": 13,
   "metadata": {},
   "outputs": [
    {
     "data": {
      "text/plain": [
       "251"
      ]
     },
     "execution_count": 13,
     "metadata": {},
     "output_type": "execute_result"
    }
   ],
   "source": [
    "len(y_test_concatenate_list)"
   ]
  },
  {
   "cell_type": "code",
   "execution_count": 14,
   "metadata": {},
   "outputs": [
    {
     "data": {
      "text/plain": [
       "251"
      ]
     },
     "execution_count": 14,
     "metadata": {},
     "output_type": "execute_result"
    }
   ],
   "source": [
    "len(y_predict_filtered_concatenate_list)"
   ]
  },
  {
   "cell_type": "code",
   "execution_count": 15,
   "metadata": {},
   "outputs": [
    {
     "data": {
      "text/plain": [
       "251"
      ]
     },
     "execution_count": 15,
     "metadata": {},
     "output_type": "execute_result"
    }
   ],
   "source": [
    "len(y_predict_concatenate_list)"
   ]
  },
  {
   "cell_type": "markdown",
   "metadata": {},
   "source": [
    "# Classification Report"
   ]
  },
  {
   "cell_type": "markdown",
   "metadata": {},
   "source": [
    "## Accuracy"
   ]
  },
  {
   "cell_type": "code",
   "execution_count": 16,
   "metadata": {},
   "outputs": [
    {
     "name": "stdout",
     "output_type": "stream",
     "text": [
      "Accuracy is  0.9482071713147411\n"
     ]
    }
   ],
   "source": [
    "acc = accuracy_score(y_test_concatenate_list, y_predict_filtered_concatenate_list, normalize=True, sample_weight=None)\n",
    "print('Accuracy is ', acc)"
   ]
  },
  {
   "cell_type": "markdown",
   "metadata": {},
   "source": [
    "## Precision, Recall, and F1"
   ]
  },
  {
   "cell_type": "code",
   "execution_count": 17,
   "metadata": {},
   "outputs": [
    {
     "name": "stdout",
     "output_type": "stream",
     "text": [
      "                     precision    recall  f1-score   support\n",
      "\n",
      "              chr_x   0.948980  0.984127  0.966234       189\n",
      "chr_x_isochromosome   0.945455  0.838710  0.888889        62\n",
      "\n",
      "          micro avg   0.948207  0.948207  0.948207       251\n",
      "          macro avg   0.947217  0.911418  0.927561       251\n",
      "       weighted avg   0.948109  0.948207  0.947129       251\n",
      "\n"
     ]
    }
   ],
   "source": [
    "performanceReport = classification_report(y_test_concatenate_list, y_predict_filtered_concatenate_list, digits=6,\n",
    "                                          target_names=label_convert)\n",
    "\n",
    "\n",
    "print(performanceReport)"
   ]
  },
  {
   "cell_type": "markdown",
   "metadata": {},
   "source": [
    "## Confusion Matrix"
   ]
  },
  {
   "cell_type": "code",
   "execution_count": 18,
   "metadata": {},
   "outputs": [
    {
     "data": {
      "text/html": [
       "<div>\n",
       "<style scoped>\n",
       "    .dataframe tbody tr th:only-of-type {\n",
       "        vertical-align: middle;\n",
       "    }\n",
       "\n",
       "    .dataframe tbody tr th {\n",
       "        vertical-align: top;\n",
       "    }\n",
       "\n",
       "    .dataframe thead th {\n",
       "        text-align: right;\n",
       "    }\n",
       "</style>\n",
       "<table border=\"1\" class=\"dataframe\">\n",
       "  <thead>\n",
       "    <tr style=\"text-align: right;\">\n",
       "      <th></th>\n",
       "      <th>chr_x</th>\n",
       "      <th>chr_x_isochromosome</th>\n",
       "    </tr>\n",
       "  </thead>\n",
       "  <tbody>\n",
       "    <tr>\n",
       "      <th>chr_x</th>\n",
       "      <td>186</td>\n",
       "      <td>3</td>\n",
       "    </tr>\n",
       "    <tr>\n",
       "      <th>chr_x_isochromosome</th>\n",
       "      <td>10</td>\n",
       "      <td>52</td>\n",
       "    </tr>\n",
       "  </tbody>\n",
       "</table>\n",
       "</div>"
      ],
      "text/plain": [
       "                     chr_x  chr_x_isochromosome\n",
       "chr_x                  186                    3\n",
       "chr_x_isochromosome     10                   52"
      ]
     },
     "execution_count": 18,
     "metadata": {},
     "output_type": "execute_result"
    }
   ],
   "source": [
    "cm = np.array(confusion_matrix(y_test_concatenate_list, y_predict_filtered_concatenate_list))\n",
    "confusion = pd.DataFrame(cm, index=label_convert,\n",
    "                        columns=label_convert)\n",
    "confusion.to_csv('ConfusionMatrix_Combination_of_CrossValidation_KaryoType_CNN.csv')\n",
    "confusion"
   ]
  },
  {
   "cell_type": "markdown",
   "metadata": {},
   "source": [
    "### 3.10.4 Rate of Confusion Matrix"
   ]
  },
  {
   "cell_type": "markdown",
   "metadata": {},
   "source": [
    "### 3.10.5 Recall (查全率)，(Sensitivity Rate)"
   ]
  },
  {
   "cell_type": "code",
   "execution_count": 19,
   "metadata": {
    "scrolled": true
   },
   "outputs": [],
   "source": [
    "subtotal = [0] * 2  \n",
    "for item in y_test_concatenate_list:\n",
    "    subtotal[item] = subtotal[item] + 1"
   ]
  },
  {
   "cell_type": "markdown",
   "metadata": {},
   "source": [
    "#### predict number divided by y test"
   ]
  },
  {
   "cell_type": "code",
   "execution_count": 20,
   "metadata": {},
   "outputs": [],
   "source": [
    "cm_r = []\n",
    "for i in range(2):\n",
    "    cm_r.append(cm[i]/subtotal[i])"
   ]
  },
  {
   "cell_type": "code",
   "execution_count": 21,
   "metadata": {},
   "outputs": [
    {
     "data": {
      "text/html": [
       "<div>\n",
       "<style scoped>\n",
       "    .dataframe tbody tr th:only-of-type {\n",
       "        vertical-align: middle;\n",
       "    }\n",
       "\n",
       "    .dataframe tbody tr th {\n",
       "        vertical-align: top;\n",
       "    }\n",
       "\n",
       "    .dataframe thead th {\n",
       "        text-align: right;\n",
       "    }\n",
       "</style>\n",
       "<table border=\"1\" class=\"dataframe\">\n",
       "  <thead>\n",
       "    <tr style=\"text-align: right;\">\n",
       "      <th></th>\n",
       "      <th>chr_x</th>\n",
       "      <th>chr_x_isochromosome</th>\n",
       "    </tr>\n",
       "  </thead>\n",
       "  <tbody>\n",
       "    <tr>\n",
       "      <th>chr_x</th>\n",
       "      <td>0.984127</td>\n",
       "      <td>0.015873</td>\n",
       "    </tr>\n",
       "    <tr>\n",
       "      <th>chr_x_isochromosome</th>\n",
       "      <td>0.161290</td>\n",
       "      <td>0.838710</td>\n",
       "    </tr>\n",
       "  </tbody>\n",
       "</table>\n",
       "</div>"
      ],
      "text/plain": [
       "                        chr_x  chr_x_isochromosome\n",
       "chr_x                0.984127             0.015873\n",
       "chr_x_isochromosome  0.161290             0.838710"
      ]
     },
     "execution_count": 21,
     "metadata": {},
     "output_type": "execute_result"
    }
   ],
   "source": [
    "confusion_r = pd.DataFrame(cm_r, index=label_convert,\n",
    "                        columns=label_convert)\n",
    "confusion_r.to_csv('ConfusionMatrix_Recall_Integration_CNN.csv')\n",
    "confusion_r"
   ]
  },
  {
   "cell_type": "markdown",
   "metadata": {},
   "source": [
    "### 3.10.6 Precision (查准率）"
   ]
  },
  {
   "cell_type": "code",
   "execution_count": 22,
   "metadata": {},
   "outputs": [],
   "source": [
    "subtotal_predict = [0] * 2 \n",
    "for item in y_predict_filtered_concatenate_list:\n",
    "    subtotal_predict[item] = subtotal_predict[item] + 1"
   ]
  },
  {
   "cell_type": "markdown",
   "metadata": {},
   "source": [
    "#### predict number divided by y predicted"
   ]
  },
  {
   "cell_type": "code",
   "execution_count": 23,
   "metadata": {},
   "outputs": [],
   "source": [
    "cm_p = []\n",
    "for i in range(2):\n",
    "    cm_p.append(cm[:,i]/subtotal_predict[i])"
   ]
  },
  {
   "cell_type": "code",
   "execution_count": 24,
   "metadata": {},
   "outputs": [
    {
     "data": {
      "text/html": [
       "<div>\n",
       "<style scoped>\n",
       "    .dataframe tbody tr th:only-of-type {\n",
       "        vertical-align: middle;\n",
       "    }\n",
       "\n",
       "    .dataframe tbody tr th {\n",
       "        vertical-align: top;\n",
       "    }\n",
       "\n",
       "    .dataframe thead th {\n",
       "        text-align: right;\n",
       "    }\n",
       "</style>\n",
       "<table border=\"1\" class=\"dataframe\">\n",
       "  <thead>\n",
       "    <tr style=\"text-align: right;\">\n",
       "      <th></th>\n",
       "      <th>chr_x</th>\n",
       "      <th>chr_x_isochromosome</th>\n",
       "    </tr>\n",
       "  </thead>\n",
       "  <tbody>\n",
       "    <tr>\n",
       "      <th>chr_x</th>\n",
       "      <td>0.948980</td>\n",
       "      <td>0.051020</td>\n",
       "    </tr>\n",
       "    <tr>\n",
       "      <th>chr_x_isochromosome</th>\n",
       "      <td>0.054545</td>\n",
       "      <td>0.945455</td>\n",
       "    </tr>\n",
       "  </tbody>\n",
       "</table>\n",
       "</div>"
      ],
      "text/plain": [
       "                        chr_x  chr_x_isochromosome\n",
       "chr_x                0.948980             0.051020\n",
       "chr_x_isochromosome  0.054545             0.945455"
      ]
     },
     "execution_count": 24,
     "metadata": {},
     "output_type": "execute_result"
    }
   ],
   "source": [
    "confusion_p = pd.DataFrame(cm_p, index=label_convert,\n",
    "                        columns=label_convert)\n",
    "confusion_p.to_csv('ConfusionMatrix_Precision_Integration_CNN.csv')\n",
    "confusion_p"
   ]
  },
  {
   "cell_type": "markdown",
   "metadata": {},
   "source": [
    "#### Heat Map: Number"
   ]
  },
  {
   "cell_type": "code",
   "execution_count": 25,
   "metadata": {
    "scrolled": false
   },
   "outputs": [
    {
     "data": {
      "image/png": "[encoded data removed]",
      "text/plain": [
       "<Figure size 2160x1728 with 2 Axes>"
      ]
     },
     "metadata": {
      "needs_background": "light"
     },
     "output_type": "display_data"
    }
   ],
   "source": [
    "plt.figure(figsize=(30, 24))\n",
    "heat_map = sb.heatmap(confusion, annot=True, fmt = 'g', # It's a Seaborn function\n",
    "                      cmap='coolwarm', \n",
    "                      xticklabels=confusion.columns, yticklabels=confusion.index, \n",
    "                      linewidths=.5, \n",
    "                      annot_kws={\"size\": 50})\n",
    "sb.set(font_scale = 6)"
   ]
  },
  {
   "cell_type": "markdown",
   "metadata": {},
   "source": [
    "#### Heat Map of Recall: Rate (important!!!)"
   ]
  },
  {
   "cell_type": "code",
   "execution_count": 26,
   "metadata": {
    "scrolled": false
   },
   "outputs": [
    {
     "data": {
      "image/png": "[encoded data removed]",
      "text/plain": [
       "<Figure size 2160x1728 with 2 Axes>"
      ]
     },
     "metadata": {},
     "output_type": "display_data"
    }
   ],
   "source": [
    "plt.figure(figsize=(30, 24))\n",
    "heat_map_r = sb.heatmap(confusion_r, annot=True,  # It's a Seaborn function\n",
    "                      cmap='coolwarm', \n",
    "                      xticklabels=confusion.columns, yticklabels=confusion.index, \n",
    "                      linewidths=1, \n",
    "                      annot_kws={\"size\": 50})\n",
    "sb.set(font_scale = 4)"
   ]
  },
  {
   "cell_type": "code",
   "execution_count": 27,
   "metadata": {},
   "outputs": [
    {
     "data": {
      "image/png": "[encoded data removed]",
      "text/plain": [
       "<Figure size 2160x1728 with 2 Axes>"
      ]
     },
     "metadata": {},
     "output_type": "display_data"
    }
   ],
   "source": [
    "plt.figure(figsize=(30, 24))\n",
    "heat_map_p = sb.heatmap(confusion_p, annot=True,  # It's a Seaborn function\n",
    "                      cmap='coolwarm', \n",
    "                      xticklabels=confusion.columns, yticklabels=confusion.index, \n",
    "                      linewidths=1, \n",
    "                      annot_kws={\"size\": 50})\n",
    "sb.set(font_scale = 4)"
   ]
  },
  {
   "cell_type": "code",
   "execution_count": 28,
   "metadata": {},
   "outputs": [],
   "source": [
    "fig = heat_map.get_figure()    \n",
    "fig.savefig('Heatmap_Combination.png', dpi=400)"
   ]
  },
  {
   "cell_type": "code",
   "execution_count": 29,
   "metadata": {},
   "outputs": [],
   "source": [
    "fig_r = heat_map_r.get_figure()    \n",
    "fig_r.savefig('Heatmap_Recall_Combination.png', dpi=400)"
   ]
  },
  {
   "cell_type": "code",
   "execution_count": 30,
   "metadata": {},
   "outputs": [],
   "source": [
    "fig_p = heat_map_p.get_figure()    \n",
    "fig_p.savefig('Heatmap_Precision_Combination.png', dpi=400)"
   ]
  },
  {
   "cell_type": "markdown",
   "metadata": {},
   "source": [
    "# ROC Curve"
   ]
  },
  {
   "cell_type": "code",
   "execution_count": 31,
   "metadata": {},
   "outputs": [
    {
     "data": {
      "text/plain": [
       "array([[1.00000000e+00, 1.17365579e-12],\n",
       "       [1.00000000e+00, 7.14266146e-11],\n",
       "       [1.00000000e+00, 1.50053242e-13],\n",
       "       [1.00000000e+00, 5.44719001e-13],\n",
       "       [1.00000000e+00, 2.96618140e-07],\n",
       "       [1.00000000e+00, 1.92169551e-07],\n",
       "       [1.00000000e+00, 7.26707083e-10],\n",
       "       [1.00000000e+00, 5.18991916e-09],\n",
       "       [9.99999881e-01, 6.61593447e-07],\n",
       "       [1.00000000e+00, 1.60168430e-08],\n",
       "       [1.00000000e+00, 3.75202518e-08],\n",
       "       [1.00000000e+00, 9.15581779e-08],\n",
       "       [1.00000000e+00, 1.12877940e-09],\n",
       "       [9.99999881e-01, 7.39946074e-07],\n",
       "       [9.99999881e-01, 3.04460684e-07],\n",
       "       [1.00000000e+00, 2.37404235e-10],\n",
       "       [9.99999285e-01, 5.00211081e-06],\n",
       "       [1.00000000e+00, 2.13019238e-11],\n",
       "       [1.00000000e+00, 5.32198841e-10],\n",
       "       [1.00000000e+00, 2.82536705e-09],\n",
       "       [1.00000000e+00, 1.01857216e-08],\n",
       "       [1.00000000e+00, 2.06013269e-08],\n",
       "       [1.00000000e+00, 2.97321723e-09],\n",
       "       [1.00000000e+00, 3.49059635e-11],\n",
       "       [1.00000000e+00, 3.99361585e-11],\n",
       "       [9.99873281e-01, 3.60045757e-04],\n",
       "       [9.99869823e-01, 9.19942220e-04],\n",
       "       [1.00000000e+00, 1.56543348e-10],\n",
       "       [9.99999881e-01, 8.12204519e-07],\n",
       "       [9.96948659e-01, 1.47244344e-02],\n",
       "       [9.99999762e-01, 1.04884157e-06],\n",
       "       [1.00000000e+00, 2.07653457e-07],\n",
       "       [1.00000000e+00, 1.23671109e-08],\n",
       "       [1.00000000e+00, 4.69340158e-08],\n",
       "       [1.00000000e+00, 1.13588437e-10],\n",
       "       [1.00000000e+00, 3.83943322e-09],\n",
       "       [9.99999881e-01, 5.10625455e-07],\n",
       "       [9.99997258e-01, 1.60727814e-05],\n",
       "       [7.10835904e-11, 1.00000000e+00],\n",
       "       [7.17308296e-07, 9.99997973e-01],\n",
       "       [9.99966145e-01, 1.69754843e-04],\n",
       "       [8.67610633e-01, 4.55468714e-01],\n",
       "       [8.33431477e-05, 9.99939680e-01],\n",
       "       [1.29019335e-01, 9.09896016e-01],\n",
       "       [2.20823586e-06, 9.99998808e-01],\n",
       "       [5.84564405e-04, 9.99888659e-01],\n",
       "       [1.80366453e-12, 1.00000000e+00],\n",
       "       [8.66894722e-01, 3.88760835e-01],\n",
       "       [6.37056488e-08, 1.00000000e+00],\n",
       "       [8.25284701e-03, 9.99891996e-01],\n",
       "       [1.16546389e-05, 9.99993443e-01],\n",
       "       [9.99787152e-01, 1.73461771e-07],\n",
       "       [9.99998212e-01, 2.22737093e-10],\n",
       "       [9.99991179e-01, 7.71151534e-08],\n",
       "       [9.96202052e-01, 1.56917224e-07],\n",
       "       [9.83089030e-01, 6.28159978e-06],\n",
       "       [9.99979854e-01, 1.64438365e-08],\n",
       "       [9.99191344e-01, 2.33080277e-06],\n",
       "       [9.97819066e-01, 1.54789598e-06],\n",
       "       [9.99974608e-01, 4.37160317e-08],\n",
       "       [9.99716222e-01, 2.16174357e-07],\n",
       "       [9.95686531e-01, 8.52675839e-06],\n",
       "       [9.99996901e-01, 3.27392335e-08],\n",
       "       [9.99995828e-01, 3.24420246e-09],\n",
       "       [9.98673797e-01, 1.93533242e-06],\n",
       "       [9.99976277e-01, 3.72942282e-07],\n",
       "       [9.99996901e-01, 2.59443027e-08],\n",
       "       [9.99497056e-01, 1.48966501e-06],\n",
       "       [9.99896646e-01, 8.65921493e-07],\n",
       "       [9.99989510e-01, 1.11094536e-07],\n",
       "       [9.99086022e-01, 3.07198684e-06],\n",
       "       [9.99202430e-01, 6.04183879e-06],\n",
       "       [9.99884129e-01, 1.20229379e-06],\n",
       "       [9.99853492e-01, 2.56943366e-07],\n",
       "       [9.99857664e-01, 1.09121572e-06],\n",
       "       [9.99659657e-01, 1.35984601e-06],\n",
       "       [9.99966502e-01, 1.27732164e-07],\n",
       "       [9.99927163e-01, 6.76757793e-07],\n",
       "       [9.99805868e-01, 1.76957565e-06],\n",
       "       [9.99977827e-01, 2.29684019e-07],\n",
       "       [9.99988794e-01, 1.69447418e-07],\n",
       "       [9.91628170e-01, 2.81568791e-05],\n",
       "       [9.99942183e-01, 7.10155120e-07],\n",
       "       [9.99942422e-01, 5.02459727e-07],\n",
       "       [9.99994159e-01, 5.71044971e-08],\n",
       "       [9.99934673e-01, 9.51387790e-07],\n",
       "       [9.99862313e-01, 1.18678395e-06],\n",
       "       [9.98913407e-01, 8.26875566e-06],\n",
       "       [9.99499917e-01, 8.81267351e-06],\n",
       "       [2.78902036e-04, 8.76263559e-01],\n",
       "       [4.39756377e-06, 9.97909248e-01],\n",
       "       [5.12075758e-07, 9.99757111e-01],\n",
       "       [2.10465278e-05, 9.47449505e-01],\n",
       "       [2.42293347e-04, 9.63857532e-01],\n",
       "       [9.99531150e-01, 1.51670372e-06],\n",
       "       [5.03779074e-06, 9.97977436e-01],\n",
       "       [1.48024556e-05, 9.92828429e-01],\n",
       "       [6.36910554e-05, 9.86003220e-01],\n",
       "       [2.73991247e-07, 9.99638557e-01],\n",
       "       [9.99426365e-01, 1.35139217e-05],\n",
       "       [1.63544482e-05, 9.96815622e-01],\n",
       "       [4.11582332e-05, 9.92370009e-01],\n",
       "       [9.99977231e-01, 1.06461687e-06],\n",
       "       [9.99985218e-01, 5.33645277e-07],\n",
       "       [1.00000000e+00, 1.31887522e-11],\n",
       "       [9.99987483e-01, 4.95213555e-07],\n",
       "       [9.99647379e-01, 1.63383302e-05],\n",
       "       [9.99999166e-01, 1.11392184e-08],\n",
       "       [9.96187866e-01, 1.25084014e-03],\n",
       "       [1.00000000e+00, 2.23413029e-15],\n",
       "       [9.96710777e-01, 1.08424132e-03],\n",
       "       [9.99958754e-01, 8.44757596e-06],\n",
       "       [1.00000000e+00, 2.53833222e-11],\n",
       "       [9.99867201e-01, 3.47030218e-05],\n",
       "       [1.00000000e+00, 4.44170985e-11],\n",
       "       [9.66080666e-01, 7.48716900e-03],\n",
       "       [9.99783814e-01, 5.47677200e-06],\n",
       "       [9.99995470e-01, 1.44652844e-07],\n",
       "       [9.99999881e-01, 3.41199113e-09],\n",
       "       [9.62625682e-01, 1.15137864e-02],\n",
       "       [9.99993563e-01, 1.79369934e-07],\n",
       "       [1.00000000e+00, 1.27328564e-10],\n",
       "       [9.99988198e-01, 7.28784244e-07],\n",
       "       [9.99998093e-01, 1.03866611e-07],\n",
       "       [9.99999881e-01, 1.12805187e-09],\n",
       "       [9.99959707e-01, 2.59047033e-06],\n",
       "       [9.74103808e-01, 7.43288826e-03],\n",
       "       [9.99861956e-01, 1.74778215e-05],\n",
       "       [1.00000000e+00, 3.34239650e-11],\n",
       "       [9.99986410e-01, 4.89595891e-07],\n",
       "       [9.99999523e-01, 8.58791083e-09],\n",
       "       [9.99887228e-01, 3.61655361e-06],\n",
       "       [9.99983668e-01, 7.51741879e-07],\n",
       "       [1.00000000e+00, 4.60556419e-12],\n",
       "       [1.00000000e+00, 2.26029889e-10],\n",
       "       [1.00000000e+00, 1.26693718e-12],\n",
       "       [9.99999285e-01, 9.29841715e-09],\n",
       "       [1.00000000e+00, 1.91182931e-10],\n",
       "       [9.99963164e-01, 2.46988884e-06],\n",
       "       [1.00000000e+00, 1.65295017e-11],\n",
       "       [9.95900791e-07, 9.99999285e-01],\n",
       "       [4.04714699e-11, 1.00000000e+00],\n",
       "       [1.36513545e-05, 9.99929667e-01],\n",
       "       [1.43842476e-06, 9.99994993e-01],\n",
       "       [6.80562152e-07, 9.99996305e-01],\n",
       "       [5.31927617e-06, 9.99982238e-01],\n",
       "       [4.87904366e-08, 9.99999404e-01],\n",
       "       [6.48597898e-10, 1.00000000e+00],\n",
       "       [9.99990702e-01, 1.42851604e-07],\n",
       "       [8.68423172e-07, 9.99993801e-01],\n",
       "       [4.04366483e-06, 9.99998212e-01],\n",
       "       [2.73165060e-04, 9.99842286e-01],\n",
       "       [1.00000000e+00, 1.54012331e-10],\n",
       "       [1.20518375e-02, 9.75296915e-01],\n",
       "       [9.99889135e-01, 7.50217223e-05],\n",
       "       [1.00000000e+00, 4.72605899e-10],\n",
       "       [9.99997735e-01, 1.86039608e-06],\n",
       "       [9.78495777e-01, 1.75199453e-02],\n",
       "       [9.99849319e-01, 6.85412670e-05],\n",
       "       [1.00000000e+00, 2.00900807e-08],\n",
       "       [7.92205572e-01, 8.27450752e-02],\n",
       "       [9.99999404e-01, 5.39364009e-07],\n",
       "       [9.99999881e-01, 7.05747851e-08],\n",
       "       [9.98080611e-01, 1.67371705e-03],\n",
       "       [9.99999881e-01, 1.32432760e-07],\n",
       "       [9.99519944e-01, 3.04738787e-04],\n",
       "       [9.99948859e-01, 4.75862580e-05],\n",
       "       [8.55614305e-01, 7.25594088e-02],\n",
       "       [2.54547806e-04, 9.98854041e-01],\n",
       "       [9.99283254e-01, 1.67028367e-04],\n",
       "       [9.99969363e-01, 1.00745756e-05],\n",
       "       [9.99994755e-01, 3.61632601e-06],\n",
       "       [9.99997973e-01, 1.00818318e-06],\n",
       "       [9.99987602e-01, 1.06965390e-05],\n",
       "       [9.99999523e-01, 2.55660609e-07],\n",
       "       [9.99869704e-01, 6.01822576e-05],\n",
       "       [9.99969840e-01, 2.79590622e-05],\n",
       "       [9.99821961e-01, 8.74888137e-05],\n",
       "       [9.99998212e-01, 8.67502649e-07],\n",
       "       [9.99973893e-01, 1.14156910e-05],\n",
       "       [9.95841920e-01, 2.11891625e-03],\n",
       "       [9.57487464e-01, 3.96813899e-02],\n",
       "       [9.99998450e-01, 6.68771918e-07],\n",
       "       [9.99997616e-01, 1.01844591e-06],\n",
       "       [9.99999046e-01, 5.18880881e-07],\n",
       "       [9.99972105e-01, 1.57713966e-05],\n",
       "       [9.99994159e-01, 2.01957914e-06],\n",
       "       [9.99999285e-01, 8.90038507e-07],\n",
       "       [9.99987125e-01, 5.51097946e-06],\n",
       "       [9.98491645e-01, 4.39786090e-04],\n",
       "       [2.23601901e-07, 9.99998808e-01],\n",
       "       [5.84594702e-08, 9.99999642e-01],\n",
       "       [1.30801155e-07, 9.99998808e-01],\n",
       "       [7.55810738e-02, 8.61706018e-01],\n",
       "       [3.60449057e-08, 9.99999642e-01],\n",
       "       [2.65697072e-05, 9.99933124e-01],\n",
       "       [4.54056896e-02, 9.58573818e-01],\n",
       "       [2.27407943e-02, 9.63570178e-01],\n",
       "       [2.61547302e-06, 9.99980211e-01],\n",
       "       [9.86720681e-01, 1.22875320e-02],\n",
       "       [3.44692320e-02, 9.54425812e-01],\n",
       "       [8.18827450e-01, 8.21283907e-02],\n",
       "       [1.00000000e+00, 2.49018150e-11],\n",
       "       [1.00000000e+00, 6.31223518e-10],\n",
       "       [9.99999881e-01, 8.87726856e-07],\n",
       "       [1.00000000e+00, 5.72366235e-17],\n",
       "       [1.00000000e+00, 1.77606729e-08],\n",
       "       [1.00000000e+00, 1.04631731e-07],\n",
       "       [1.00000000e+00, 1.17065602e-11],\n",
       "       [1.00000000e+00, 2.53984063e-13],\n",
       "       [9.98185456e-01, 1.72862951e-02],\n",
       "       [5.04706383e-01, 7.58077621e-01],\n",
       "       [1.00000000e+00, 7.65384700e-10],\n",
       "       [9.99999404e-01, 4.79722121e-06],\n",
       "       [9.99985814e-01, 1.11469577e-04],\n",
       "       [1.00000000e+00, 8.70370798e-07],\n",
       "       [9.99999762e-01, 1.99893066e-06],\n",
       "       [9.99835372e-01, 1.37098716e-03],\n",
       "       [1.00000000e+00, 4.75784288e-13],\n",
       "       [1.00000000e+00, 5.54020563e-09],\n",
       "       [1.00000000e+00, 1.52988497e-10],\n",
       "       [1.00000000e+00, 5.70325731e-11],\n",
       "       [1.00000000e+00, 1.85548306e-15],\n",
       "       [1.00000000e+00, 1.24051621e-13],\n",
       "       [1.00000000e+00, 1.75430191e-11],\n",
       "       [1.00000000e+00, 6.95168368e-15],\n",
       "       [1.00000000e+00, 2.51268618e-15],\n",
       "       [1.00000000e+00, 2.20345945e-13],\n",
       "       [1.00000000e+00, 9.38954159e-09],\n",
       "       [1.00000000e+00, 8.19231662e-12],\n",
       "       [1.00000000e+00, 6.53150602e-13],\n",
       "       [1.00000000e+00, 3.05057683e-13],\n",
       "       [1.00000000e+00, 7.55686366e-13],\n",
       "       [1.00000000e+00, 2.95451372e-11],\n",
       "       [1.00000000e+00, 2.96471853e-12],\n",
       "       [1.00000000e+00, 2.25812357e-07],\n",
       "       [1.00000000e+00, 3.50898053e-22],\n",
       "       [1.00000000e+00, 2.39385152e-08],\n",
       "       [9.98635471e-01, 2.34082062e-03],\n",
       "       [1.86921134e-05, 9.99998450e-01],\n",
       "       [1.56765270e-06, 9.99999881e-01],\n",
       "       [1.32017967e-03, 9.99753892e-01],\n",
       "       [6.98943064e-03, 9.99901414e-01],\n",
       "       [1.05877529e-09, 1.00000000e+00],\n",
       "       [9.97674167e-01, 2.16188524e-02],\n",
       "       [4.10613418e-01, 8.40458989e-01],\n",
       "       [9.99968886e-01, 2.34767795e-03],\n",
       "       [1.00925295e-08, 1.00000000e+00],\n",
       "       [5.21054289e-07, 1.00000000e+00],\n",
       "       [1.34775662e-04, 9.99967337e-01],\n",
       "       [1.18936958e-08, 1.00000000e+00]], dtype=float32)"
      ]
     },
     "execution_count": 31,
     "metadata": {},
     "output_type": "execute_result"
    }
   ],
   "source": [
    "y_predict_concatenate_array = np.array(y_predict_concatenate_list)\n",
    "y_predict_concatenate_array"
   ]
  },
  {
   "cell_type": "code",
   "execution_count": 32,
   "metadata": {},
   "outputs": [
    {
     "data": {
      "text/plain": [
       "(251, 2)"
      ]
     },
     "execution_count": 32,
     "metadata": {},
     "output_type": "execute_result"
    }
   ],
   "source": [
    "y_predict_concatenate_array.shape"
   ]
  },
  {
   "cell_type": "code",
   "execution_count": 33,
   "metadata": {},
   "outputs": [],
   "source": [
    "y_predict_1D = y_predict_concatenate_array[:,0]"
   ]
  },
  {
   "cell_type": "code",
   "execution_count": 34,
   "metadata": {},
   "outputs": [],
   "source": [
    "y_predict_1D_processed = 1- y_predict_1D"
   ]
  },
  {
   "cell_type": "code",
   "execution_count": 35,
   "metadata": {},
   "outputs": [],
   "source": [
    "fpr , tpr , thresholds = roc_curve(y_test_concatenate_list , y_predict_1D_processed)\n",
    "auc_rf = auc(fpr, tpr)"
   ]
  },
  {
   "cell_type": "code",
   "execution_count": 36,
   "metadata": {},
   "outputs": [
    {
     "data": {
      "text/plain": [
       "0.9721795528247141"
      ]
     },
     "execution_count": 36,
     "metadata": {},
     "output_type": "execute_result"
    }
   ],
   "source": [
    "auc_rf"
   ]
  },
  {
   "cell_type": "code",
   "execution_count": 37,
   "metadata": {},
   "outputs": [],
   "source": [
    "x = y = np.arange(0, 1.1, 0.1)"
   ]
  },
  {
   "cell_type": "code",
   "execution_count": 38,
   "metadata": {},
   "outputs": [
    {
     "data": {
      "text/plain": [
       "array([0. , 0.1, 0.2, 0.3, 0.4, 0.5, 0.6, 0.7, 0.8, 0.9, 1. ])"
      ]
     },
     "execution_count": 38,
     "metadata": {},
     "output_type": "execute_result"
    }
   ],
   "source": [
    "x"
   ]
  },
  {
   "cell_type": "code",
   "execution_count": 39,
   "metadata": {
    "scrolled": true
   },
   "outputs": [
    {
     "data": {
      "image/png": "[encoded data removed]",
      "text/plain": [
       "<Figure size 432x288 with 1 Axes>"
      ]
     },
     "metadata": {},
     "output_type": "display_data"
    }
   ],
   "source": [
    "fig = plt.figure()\n",
    "plt.style.use('classic')\n",
    "\n",
    "ax = fig.add_subplot(111)\n",
    "\n",
    "plt.plot(fpr, tpr, color='blue', linewidth=0.9)\n",
    "\n",
    "plt.plot(x, y, '--', color='black', linewidth=0.8)\n",
    "\n",
    "plt.title('ROC curve of Chr X Isochromosome', fontsize=15, fontname = 'Times New Roman')\n",
    "\n",
    "plt.xlabel('False Positive Rate', fontsize=15, fontname = 'Times New Roman')\n",
    "plt.ylabel('True positive Rate', fontsize=15, fontname = 'Times New Roman')\n",
    "\n",
    "ax.set_aspect('equal', adjustable='box')\n",
    "\n",
    "plt.xlim(-0.08, 1.1)\n",
    "plt.ylim(-0.08, 1.1)\n",
    "\n",
    "plt.xticks(fontsize=15, fontname = 'Arial')\n",
    "plt.yticks(fontsize=15, fontname = 'Arial')\n",
    "\n",
    "plt.savefig('ROC_Curve_Combination.png', dpi=600)\n",
    "plt.show()"
   ]
  },
  {
   "cell_type": "markdown",
   "metadata": {},
   "source": [
    "#### 3.10.4.1 AUC Value"
   ]
  },
  {
   "cell_type": "code",
   "execution_count": 40,
   "metadata": {},
   "outputs": [],
   "source": [
    "auc_value = auc(fpr, tpr)"
   ]
  },
  {
   "cell_type": "code",
   "execution_count": 41,
   "metadata": {},
   "outputs": [
    {
     "name": "stdout",
     "output_type": "stream",
     "text": [
      "AUC is  0.9721795528247141\n"
     ]
    }
   ],
   "source": [
    "print('AUC is ', auc_value)"
   ]
  },
  {
   "cell_type": "markdown",
   "metadata": {},
   "source": [
    "# Results"
   ]
  },
  {
   "cell_type": "code",
   "execution_count": 42,
   "metadata": {},
   "outputs": [
    {
     "name": "stdout",
     "output_type": "stream",
     "text": [
      "Test Accuracy: 0.948\n"
     ]
    }
   ],
   "source": [
    "print('Test Accuracy: %.3f' % acc)"
   ]
  },
  {
   "cell_type": "code",
   "execution_count": 43,
   "metadata": {
    "scrolled": true
   },
   "outputs": [
    {
     "name": "stdout",
     "output_type": "stream",
     "text": [
      "                     precision    recall  f1-score   support\n",
      "\n",
      "              chr_x   0.948980  0.984127  0.966234       189\n",
      "chr_x_isochromosome   0.945455  0.838710  0.888889        62\n",
      "\n",
      "          micro avg   0.948207  0.948207  0.948207       251\n",
      "          macro avg   0.947217  0.911418  0.927561       251\n",
      "       weighted avg   0.948109  0.948207  0.947129       251\n",
      "\n"
     ]
    }
   ],
   "source": [
    "print(performanceReport)"
   ]
  },
  {
   "cell_type": "code",
   "execution_count": 44,
   "metadata": {},
   "outputs": [
    {
     "data": {
      "text/plain": [
       "str"
      ]
     },
     "execution_count": 44,
     "metadata": {},
     "output_type": "execute_result"
    }
   ],
   "source": [
    "type(performanceReport)"
   ]
  },
  {
   "cell_type": "code",
   "execution_count": 45,
   "metadata": {},
   "outputs": [
    {
     "name": "stdout",
     "output_type": "stream",
     "text": [
      "AUC is  0.9721795528247141\n"
     ]
    }
   ],
   "source": [
    "print('AUC is ', auc_value)"
   ]
  },
  {
   "cell_type": "markdown",
   "metadata": {},
   "source": [
    "## Export to a text file"
   ]
  },
  {
   "cell_type": "code",
   "execution_count": 46,
   "metadata": {},
   "outputs": [],
   "source": [
    "file_report = open('ResultsCombination.txt', 'w')\n",
    "file_report.write('Accuracy: %s\\n\\n' % acc)\n",
    "file_report.write('AUC: %s.\\n\\n' % auc_value)\n",
    "file_report.write('Performance Report: \\n%s\\n\\n' % performanceReport)\n",
    "file_report.write('Confusion Matrix: \\n%s.\\n\\n' % confusion)\n",
    "file_report.write('Recall of Confusion Matrix: \\n%s.\\n\\n' % confusion_r)\n",
    "file_report.write('Precision of Confusion Matrix: \\n%s.\\n\\n' % confusion_p)\n",
    "file_report.close()"
   ]
  },
  {
   "cell_type": "markdown",
   "metadata": {},
   "source": [
    "## Export ROC Parameters"
   ]
  },
  {
   "cell_type": "code",
   "execution_count": 47,
   "metadata": {},
   "outputs": [],
   "source": [
    "with open('tpr_' + label_convert[1] + '.npy', 'wb') as file_tpr:\n",
    "    np.save(file_tpr, np.array(tpr))\n",
    "    \n",
    "with open('fpr_' + label_convert[1] + '.npy', 'wb') as file_fpr:\n",
    "    np.save(file_fpr, np.array(fpr))\n",
    "    \n",
    "with open('thresholds_' + label_convert[1] + '.npy', 'wb') as file_thresholds:\n",
    "    np.save(file_thresholds, np.array(thresholds))"
   ]
  },
  {
   "cell_type": "code",
   "execution_count": null,
   "metadata": {},
   "outputs": [],
   "source": []
  }
 ],
 "metadata": {
  "kernelspec": {
   "display_name": "Python 3",
   "language": "python",
   "name": "python3"
  },
  "language_info": {
   "codemirror_mode": {
    "name": "ipython",
    "version": 3
   },
   "file_extension": ".py",
   "mimetype": "text/x-python",
   "name": "python",
   "nbconvert_exporter": "python",
   "pygments_lexer": "ipython3",
   "version": "3.7.4"
  }
 },
 "nbformat": 4,
 "nbformat_minor": 2
}
