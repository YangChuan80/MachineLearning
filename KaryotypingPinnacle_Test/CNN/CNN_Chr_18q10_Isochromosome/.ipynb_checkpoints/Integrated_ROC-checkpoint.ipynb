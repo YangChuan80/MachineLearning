{
 "cells": [
  {
   "cell_type": "code",
   "execution_count": 1,
   "metadata": {},
   "outputs": [
    {
     "name": "stderr",
     "output_type": "stream",
     "text": [
      "C:\\Anaconda3\\lib\\site-packages\\pandas\\compat\\_optional.py:138: UserWarning: Pandas requires version '2.7.0' or newer of 'numexpr' (version '2.6.9' currently installed).\n",
      "  warnings.warn(msg, UserWarning)\n"
     ]
    }
   ],
   "source": [
    "import numpy as np\n",
    "import pandas as pd\n",
    "import matplotlib.pyplot as plt\n",
    "\n",
    "from sklearn.metrics import classification_report, confusion_matrix, roc_curve, auc, accuracy_score\n",
    "\n",
    "import seaborn as sb"
   ]
  },
  {
   "cell_type": "code",
   "execution_count": 2,
   "metadata": {},
   "outputs": [],
   "source": [
    "chromConvert = {\n",
    "               'chr_18': 0, \n",
    "               'chr_18_q10_isochromosome': 1\n",
    "               }"
   ]
  },
  {
   "cell_type": "code",
   "execution_count": 3,
   "metadata": {},
   "outputs": [],
   "source": [
    "chromConvert_reverse = {\n",
    "                0: 'chr_18',\n",
    "                1: 'chr_18_q10_isochromosome',\n",
    "               }"
   ]
  },
  {
   "cell_type": "code",
   "execution_count": 4,
   "metadata": {},
   "outputs": [],
   "source": [
    "label = ['chr_18', 'chr_18_q10_isochromosome']\n",
    "\n",
    "label_convert = []\n",
    "\n",
    "for i in range(2):\n",
    "    label_convert.append(chromConvert_reverse[i])"
   ]
  },
  {
   "cell_type": "markdown",
   "metadata": {},
   "source": [
    "# Load test and predict values"
   ]
  },
  {
   "cell_type": "code",
   "execution_count": 5,
   "metadata": {},
   "outputs": [],
   "source": [
    "y_test_all = []\n",
    "y_predict_all = []\n",
    "y_predict_filtered_all = []"
   ]
  },
  {
   "cell_type": "code",
   "execution_count": 6,
   "metadata": {},
   "outputs": [],
   "source": [
    "for iterationNumber in range(5):\n",
    "    with open('data_y_test_value_iteration_' + str(iterationNumber) + '.npy', 'rb') as f_y_test:\n",
    "        y_test_all.append(np.load(f_y_test))\n",
    "        \n",
    "    with open('data_y_predict_value_iteration_' + str(iterationNumber) + '.npy', 'rb') as f_y_predict:\n",
    "        y_predict_all.append(np.load(f_y_predict))                             \n",
    "                        \n",
    "    with open('data_y_predict_filtered_value_iteration_' + str(iterationNumber) + '.npy', 'rb') as f_y_predict_filtered:\n",
    "        y_predict_filtered_all.append(np.load(f_y_predict_filtered))"
   ]
  },
  {
   "cell_type": "code",
   "execution_count": 7,
   "metadata": {},
   "outputs": [
    {
     "data": {
      "text/plain": [
       "(43, 2)"
      ]
     },
     "execution_count": 7,
     "metadata": {},
     "output_type": "execute_result"
    }
   ],
   "source": [
    "y_predict_all[0].shape"
   ]
  },
  {
   "cell_type": "code",
   "execution_count": 8,
   "metadata": {
    "scrolled": true
   },
   "outputs": [
    {
     "data": {
      "text/plain": [
       "[array([[5.9705287e-01, 1.1462587e-02],\n",
       "        [9.9998784e-01, 3.6803849e-05],\n",
       "        [1.0000000e+00, 7.3992226e-08],\n",
       "        [9.9999845e-01, 2.7760721e-06],\n",
       "        [1.0000000e+00, 3.4050370e-07],\n",
       "        [9.9999964e-01, 1.6506800e-06],\n",
       "        [9.9999440e-01, 8.4347203e-06],\n",
       "        [1.0000000e+00, 4.1310638e-08],\n",
       "        [9.9999976e-01, 7.9526927e-07],\n",
       "        [1.0000000e+00, 1.5558724e-10],\n",
       "        [1.0000000e+00, 3.6383327e-10],\n",
       "        [9.9999917e-01, 3.5406013e-06],\n",
       "        [1.0000000e+00, 6.0348320e-08],\n",
       "        [9.9999976e-01, 6.0022870e-07],\n",
       "        [1.0000000e+00, 6.0140873e-13],\n",
       "        [1.0000000e+00, 2.9210001e-15],\n",
       "        [9.9254394e-01, 1.9097932e-03],\n",
       "        [1.0000000e+00, 3.2859163e-08],\n",
       "        [1.0000000e+00, 3.3782749e-07],\n",
       "        [1.0000000e+00, 1.5296214e-07],\n",
       "        [1.0000000e+00, 3.1650902e-07],\n",
       "        [1.0000000e+00, 2.6616961e-08],\n",
       "        [9.9999881e-01, 3.1907164e-06],\n",
       "        [9.9999988e-01, 4.6028691e-07],\n",
       "        [9.9999988e-01, 8.5041785e-07],\n",
       "        [9.9999988e-01, 3.4300618e-07],\n",
       "        [9.9999917e-01, 1.7106196e-06],\n",
       "        [9.9999964e-01, 7.2962843e-07],\n",
       "        [9.9999964e-01, 5.7633775e-07],\n",
       "        [9.9999988e-01, 6.4463342e-07],\n",
       "        [1.0000000e+00, 6.4587653e-08],\n",
       "        [9.9999988e-01, 1.3352178e-06],\n",
       "        [9.9999988e-01, 7.0860665e-07],\n",
       "        [9.9999917e-01, 2.6160892e-06],\n",
       "        [9.9999988e-01, 6.7155463e-07],\n",
       "        [9.9999738e-01, 5.0236858e-06],\n",
       "        [1.7065911e-08, 9.9989414e-01],\n",
       "        [4.9073763e-09, 9.9998689e-01],\n",
       "        [4.5710350e-14, 1.0000000e+00],\n",
       "        [3.3337366e-07, 9.9920636e-01],\n",
       "        [1.7068996e-07, 9.9975890e-01],\n",
       "        [2.7336738e-10, 9.9999106e-01],\n",
       "        [1.3884825e-10, 9.9999464e-01]], dtype=float32),\n",
       " array([[9.9999976e-01, 3.8811936e-06],\n",
       "        [1.0000000e+00, 6.3967298e-07],\n",
       "        [9.9999988e-01, 3.1808297e-06],\n",
       "        [9.9991500e-01, 3.8723447e-04],\n",
       "        [9.9999726e-01, 2.8949318e-05],\n",
       "        [9.9999988e-01, 2.4490137e-06],\n",
       "        [9.9994183e-01, 3.1928395e-04],\n",
       "        [9.9997234e-01, 2.1324266e-04],\n",
       "        [9.9999988e-01, 3.4001546e-06],\n",
       "        [9.9999762e-01, 2.0358291e-05],\n",
       "        [1.0000000e+00, 2.6885888e-07],\n",
       "        [9.9998927e-01, 1.0145341e-04],\n",
       "        [9.9998605e-01, 7.9584926e-05],\n",
       "        [9.9999988e-01, 1.5170291e-06],\n",
       "        [9.9996853e-01, 1.7267393e-04],\n",
       "        [9.9999988e-01, 1.4796914e-06],\n",
       "        [9.9999976e-01, 6.4965370e-06],\n",
       "        [9.9999917e-01, 9.8997216e-06],\n",
       "        [9.9999988e-01, 2.1376661e-06],\n",
       "        [9.9999988e-01, 1.8466967e-06],\n",
       "        [9.9999964e-01, 4.5731736e-06],\n",
       "        [9.9999964e-01, 6.5099575e-06],\n",
       "        [9.9999917e-01, 1.1975691e-05],\n",
       "        [9.9998450e-01, 1.1533652e-04],\n",
       "        [9.9999738e-01, 2.7255339e-05],\n",
       "        [9.9999118e-01, 6.7125649e-05],\n",
       "        [9.9997807e-01, 1.2473922e-04],\n",
       "        [9.9999964e-01, 4.7620047e-06],\n",
       "        [9.9999988e-01, 2.4518415e-06],\n",
       "        [9.9999893e-01, 1.1654283e-05],\n",
       "        [9.9999928e-01, 1.0692133e-05],\n",
       "        [9.9999571e-01, 3.8153248e-05],\n",
       "        [9.9999583e-01, 4.0729636e-05],\n",
       "        [9.9999392e-01, 6.0104656e-05],\n",
       "        [9.9999976e-01, 5.1803077e-06],\n",
       "        [8.3136786e-07, 9.9999559e-01],\n",
       "        [1.1771855e-04, 9.9912888e-01],\n",
       "        [1.0802402e-06, 9.9999428e-01],\n",
       "        [9.7071029e-07, 9.9999440e-01],\n",
       "        [3.9694627e-04, 9.9912006e-01],\n",
       "        [1.2795633e-03, 9.9600804e-01]], dtype=float32),\n",
       " array([[9.9999464e-01, 1.0194468e-06],\n",
       "        [1.0000000e+00, 5.2580773e-11],\n",
       "        [9.9999690e-01, 6.0364835e-07],\n",
       "        [9.9999976e-01, 3.3738438e-08],\n",
       "        [9.9945956e-01, 2.4198908e-04],\n",
       "        [9.9999285e-01, 1.1522731e-06],\n",
       "        [9.9999762e-01, 3.7580710e-07],\n",
       "        [9.9999857e-01, 2.1627228e-07],\n",
       "        [9.9999678e-01, 4.4529480e-07],\n",
       "        [9.9999917e-01, 1.5190906e-07],\n",
       "        [1.0000000e+00, 3.3602973e-13],\n",
       "        [9.9999392e-01, 1.1401245e-06],\n",
       "        [9.9999607e-01, 7.4963992e-07],\n",
       "        [9.9997461e-01, 5.4382572e-06],\n",
       "        [9.9999940e-01, 6.1140682e-08],\n",
       "        [9.9999988e-01, 6.0297323e-09],\n",
       "        [9.9999821e-01, 2.6046376e-07],\n",
       "        [9.9999976e-01, 2.4100924e-08],\n",
       "        [9.9999571e-01, 5.5887318e-07],\n",
       "        [9.9997556e-01, 5.2931400e-06],\n",
       "        [9.9996138e-01, 4.9355012e-06],\n",
       "        [9.9999475e-01, 8.0688130e-07],\n",
       "        [9.9999797e-01, 3.0166123e-07],\n",
       "        [9.9999714e-01, 5.8132571e-07],\n",
       "        [9.9999237e-01, 1.3178144e-06],\n",
       "        [9.9999869e-01, 1.7700515e-07],\n",
       "        [9.9999154e-01, 1.2490640e-06],\n",
       "        [9.9999833e-01, 2.1474402e-07],\n",
       "        [9.9999726e-01, 2.5898009e-07],\n",
       "        [9.9990737e-01, 1.9302564e-05],\n",
       "        [9.9997151e-01, 6.9698099e-06],\n",
       "        [9.9998784e-01, 2.1709443e-06],\n",
       "        [9.9998128e-01, 3.7908162e-06],\n",
       "        [9.9999368e-01, 1.0851468e-06],\n",
       "        [9.9999392e-01, 1.3809878e-06],\n",
       "        [2.3145415e-03, 9.9701858e-01],\n",
       "        [2.4551980e-03, 9.9857426e-01],\n",
       "        [1.5411966e-03, 9.9882084e-01],\n",
       "        [2.9122739e-03, 9.9773741e-01],\n",
       "        [2.1262020e-05, 9.9997711e-01],\n",
       "        [2.2070167e-04, 9.9981517e-01]], dtype=float32),\n",
       " array([[9.99566495e-01, 2.41767688e-04],\n",
       "        [9.99999881e-01, 1.20252688e-08],\n",
       "        [9.99999166e-01, 1.70715197e-07],\n",
       "        [9.99999881e-01, 3.29266676e-08],\n",
       "        [1.00000000e+00, 7.04908087e-09],\n",
       "        [1.00000000e+00, 1.57102165e-09],\n",
       "        [1.00000000e+00, 2.13100337e-09],\n",
       "        [9.99999762e-01, 5.38123679e-08],\n",
       "        [1.00000000e+00, 3.19493565e-09],\n",
       "        [9.99999642e-01, 7.67869750e-08],\n",
       "        [9.99991417e-01, 3.82531289e-06],\n",
       "        [9.99999881e-01, 2.06647268e-08],\n",
       "        [9.99999285e-01, 1.56853034e-07],\n",
       "        [9.99988437e-01, 2.94105257e-06],\n",
       "        [9.99999881e-01, 2.75679373e-08],\n",
       "        [9.99994993e-01, 1.03318564e-06],\n",
       "        [9.99990106e-01, 3.47606988e-06],\n",
       "        [9.99993324e-01, 1.70822659e-06],\n",
       "        [9.99998808e-01, 2.68161102e-07],\n",
       "        [9.99998569e-01, 2.85375165e-07],\n",
       "        [1.00000000e+00, 4.03991729e-09],\n",
       "        [9.99999285e-01, 1.78838533e-07],\n",
       "        [9.99903917e-01, 3.56702985e-05],\n",
       "        [9.99800026e-01, 6.99474986e-05],\n",
       "        [9.99913454e-01, 2.88008123e-05],\n",
       "        [9.99979615e-01, 5.32624654e-06],\n",
       "        [9.99952316e-01, 1.36284862e-05],\n",
       "        [9.99954581e-01, 1.69652521e-05],\n",
       "        [9.99954820e-01, 1.57082341e-05],\n",
       "        [9.99618053e-01, 2.09880876e-04],\n",
       "        [9.99839902e-01, 5.70846714e-05],\n",
       "        [9.99710143e-01, 1.13343056e-04],\n",
       "        [9.99644756e-01, 1.48954903e-04],\n",
       "        [9.99969840e-01, 8.68428378e-06],\n",
       "        [9.99912143e-01, 2.88733318e-05],\n",
       "        [9.05510242e-05, 9.99989867e-01],\n",
       "        [5.01470864e-01, 7.25475311e-01],\n",
       "        [1.11489251e-04, 9.99985456e-01],\n",
       "        [5.58433167e-05, 9.99993443e-01],\n",
       "        [8.23420996e-05, 9.99989986e-01],\n",
       "        [1.21828727e-03, 9.99772370e-01]], dtype=float32),\n",
       " array([[1.0000000e+00, 8.4019473e-23],\n",
       "        [9.9999928e-01, 6.2372324e-10],\n",
       "        [1.0000000e+00, 3.4679518e-12],\n",
       "        [1.0000000e+00, 8.5433818e-15],\n",
       "        [1.0000000e+00, 2.7489551e-34],\n",
       "        [1.0000000e+00, 1.5232802e-26],\n",
       "        [9.8561066e-01, 1.5588109e-04],\n",
       "        [1.0000000e+00, 3.5008195e-25],\n",
       "        [1.0000000e+00, 1.3314410e-24],\n",
       "        [1.0000000e+00, 4.7794379e-16],\n",
       "        [9.9999988e-01, 9.1522595e-11],\n",
       "        [1.0000000e+00, 6.5561540e-25],\n",
       "        [9.9999845e-01, 2.5169966e-09],\n",
       "        [9.9998772e-01, 3.7982669e-08],\n",
       "        [1.0000000e+00, 1.4305880e-15],\n",
       "        [1.0000000e+00, 9.0129190e-13],\n",
       "        [1.0000000e+00, 6.2859319e-15],\n",
       "        [1.0000000e+00, 1.9683904e-14],\n",
       "        [9.9999964e-01, 5.0093939e-11],\n",
       "        [9.9999988e-01, 2.1369111e-11],\n",
       "        [1.0000000e+00, 1.6645731e-12],\n",
       "        [1.0000000e+00, 1.7376245e-11],\n",
       "        [1.0000000e+00, 1.6322934e-16],\n",
       "        [1.0000000e+00, 2.2036488e-13],\n",
       "        [9.9999988e-01, 6.3947930e-11],\n",
       "        [1.0000000e+00, 8.6756307e-16],\n",
       "        [1.0000000e+00, 1.1795872e-12],\n",
       "        [9.9999976e-01, 1.8115962e-10],\n",
       "        [1.0000000e+00, 5.0626869e-25],\n",
       "        [1.0000000e+00, 4.6626906e-15],\n",
       "        [1.0000000e+00, 1.0480859e-17],\n",
       "        [1.0000000e+00, 1.7178161e-15],\n",
       "        [9.9999964e-01, 1.6841739e-10],\n",
       "        [1.0000000e+00, 1.9502646e-11],\n",
       "        [1.0000000e+00, 1.6247022e-12],\n",
       "        [5.3818705e-09, 1.0000000e+00],\n",
       "        [3.7230302e-06, 9.9999988e-01],\n",
       "        [4.5741952e-09, 1.0000000e+00],\n",
       "        [2.1190986e-07, 1.0000000e+00],\n",
       "        [8.7789687e-16, 1.0000000e+00],\n",
       "        [0.0000000e+00, 1.0000000e+00]], dtype=float32)]"
      ]
     },
     "execution_count": 8,
     "metadata": {},
     "output_type": "execute_result"
    }
   ],
   "source": [
    "y_predict_all"
   ]
  },
  {
   "cell_type": "code",
   "execution_count": 9,
   "metadata": {},
   "outputs": [],
   "source": [
    "y_test_concatenate_list = []\n",
    "y_predict_concatenate_list = []\n",
    "y_predict_filtered_concatenate_list = []"
   ]
  },
  {
   "cell_type": "code",
   "execution_count": 10,
   "metadata": {},
   "outputs": [],
   "source": [
    "for i in range(5):\n",
    "    y_test_concatenate_list.extend(list(y_test_all[i]))\n",
    "    y_predict_concatenate_list.extend(list(y_predict_all[i]))\n",
    "    y_predict_filtered_concatenate_list.extend(list(y_predict_filtered_all[i]))"
   ]
  },
  {
   "cell_type": "code",
   "execution_count": 11,
   "metadata": {},
   "outputs": [
    {
     "data": {
      "text/plain": [
       "(43, 2)"
      ]
     },
     "execution_count": 11,
     "metadata": {},
     "output_type": "execute_result"
    }
   ],
   "source": [
    "y_predict_all[0].shape"
   ]
  },
  {
   "cell_type": "code",
   "execution_count": 12,
   "metadata": {},
   "outputs": [
    {
     "data": {
      "text/plain": [
       "['chr_18', 'chr_18_q10_isochromosome']"
      ]
     },
     "execution_count": 12,
     "metadata": {},
     "output_type": "execute_result"
    }
   ],
   "source": [
    "label_convert"
   ]
  },
  {
   "cell_type": "code",
   "execution_count": 13,
   "metadata": {},
   "outputs": [
    {
     "data": {
      "text/plain": [
       "207"
      ]
     },
     "execution_count": 13,
     "metadata": {},
     "output_type": "execute_result"
    }
   ],
   "source": [
    "len(y_test_concatenate_list)"
   ]
  },
  {
   "cell_type": "code",
   "execution_count": 14,
   "metadata": {},
   "outputs": [
    {
     "data": {
      "text/plain": [
       "207"
      ]
     },
     "execution_count": 14,
     "metadata": {},
     "output_type": "execute_result"
    }
   ],
   "source": [
    "len(y_predict_filtered_concatenate_list)"
   ]
  },
  {
   "cell_type": "code",
   "execution_count": 15,
   "metadata": {},
   "outputs": [
    {
     "data": {
      "text/plain": [
       "207"
      ]
     },
     "execution_count": 15,
     "metadata": {},
     "output_type": "execute_result"
    }
   ],
   "source": [
    "len(y_predict_concatenate_list)"
   ]
  },
  {
   "cell_type": "markdown",
   "metadata": {},
   "source": [
    "# Classification Report"
   ]
  },
  {
   "cell_type": "markdown",
   "metadata": {},
   "source": [
    "## Accuracy"
   ]
  },
  {
   "cell_type": "code",
   "execution_count": 16,
   "metadata": {},
   "outputs": [
    {
     "name": "stdout",
     "output_type": "stream",
     "text": [
      "Accuracy is  1.0\n"
     ]
    }
   ],
   "source": [
    "acc = accuracy_score(y_test_concatenate_list, y_predict_filtered_concatenate_list, normalize=True, sample_weight=None)\n",
    "print('Accuracy is ', acc)"
   ]
  },
  {
   "cell_type": "markdown",
   "metadata": {},
   "source": [
    "## Precision, Recall, and F1"
   ]
  },
  {
   "cell_type": "code",
   "execution_count": 17,
   "metadata": {},
   "outputs": [
    {
     "name": "stdout",
     "output_type": "stream",
     "text": [
      "                          precision    recall  f1-score   support\n",
      "\n",
      "                  chr_18       1.00      1.00      1.00       176\n",
      "chr_18_q10_isochromosome       1.00      1.00      1.00        31\n",
      "\n",
      "               micro avg       1.00      1.00      1.00       207\n",
      "               macro avg       1.00      1.00      1.00       207\n",
      "            weighted avg       1.00      1.00      1.00       207\n",
      "\n"
     ]
    }
   ],
   "source": [
    "performanceReport = classification_report(y_test_concatenate_list, y_predict_filtered_concatenate_list, \n",
    "                                          target_names=label_convert)\n",
    "\n",
    "\n",
    "print(performanceReport)"
   ]
  },
  {
   "cell_type": "markdown",
   "metadata": {},
   "source": [
    "## Confusion Matrix"
   ]
  },
  {
   "cell_type": "code",
   "execution_count": 18,
   "metadata": {},
   "outputs": [
    {
     "data": {
      "text/html": [
       "<div>\n",
       "<style scoped>\n",
       "    .dataframe tbody tr th:only-of-type {\n",
       "        vertical-align: middle;\n",
       "    }\n",
       "\n",
       "    .dataframe tbody tr th {\n",
       "        vertical-align: top;\n",
       "    }\n",
       "\n",
       "    .dataframe thead th {\n",
       "        text-align: right;\n",
       "    }\n",
       "</style>\n",
       "<table border=\"1\" class=\"dataframe\">\n",
       "  <thead>\n",
       "    <tr style=\"text-align: right;\">\n",
       "      <th></th>\n",
       "      <th>chr_18</th>\n",
       "      <th>chr_18_q10_isochromosome</th>\n",
       "    </tr>\n",
       "  </thead>\n",
       "  <tbody>\n",
       "    <tr>\n",
       "      <th>chr_18</th>\n",
       "      <td>176</td>\n",
       "      <td>0</td>\n",
       "    </tr>\n",
       "    <tr>\n",
       "      <th>chr_18_q10_isochromosome</th>\n",
       "      <td>0</td>\n",
       "      <td>31</td>\n",
       "    </tr>\n",
       "  </tbody>\n",
       "</table>\n",
       "</div>"
      ],
      "text/plain": [
       "                          chr_18  chr_18_q10_isochromosome\n",
       "chr_18                       176                         0\n",
       "chr_18_q10_isochromosome       0                        31"
      ]
     },
     "execution_count": 18,
     "metadata": {},
     "output_type": "execute_result"
    }
   ],
   "source": [
    "cm = np.array(confusion_matrix(y_test_concatenate_list, y_predict_filtered_concatenate_list))\n",
    "confusion = pd.DataFrame(cm, index=label_convert,\n",
    "                        columns=label_convert)\n",
    "confusion.to_csv('ConfusionMatrix_Combination_of_CrossValidation_KaryoType_CNN.csv')\n",
    "confusion"
   ]
  },
  {
   "cell_type": "markdown",
   "metadata": {},
   "source": [
    "### 3.10.4 Rate of Confusion Matrix"
   ]
  },
  {
   "cell_type": "markdown",
   "metadata": {},
   "source": [
    "### 3.10.5 Recall (查全率)，(Sensitivity Rate)"
   ]
  },
  {
   "cell_type": "code",
   "execution_count": 19,
   "metadata": {
    "scrolled": true
   },
   "outputs": [],
   "source": [
    "subtotal = [0] * 2  \n",
    "for item in y_test_concatenate_list:\n",
    "    subtotal[item] = subtotal[item] + 1"
   ]
  },
  {
   "cell_type": "markdown",
   "metadata": {},
   "source": [
    "#### predict number divided by y test"
   ]
  },
  {
   "cell_type": "code",
   "execution_count": 20,
   "metadata": {},
   "outputs": [],
   "source": [
    "cm_r = []\n",
    "for i in range(2):\n",
    "    cm_r.append(cm[i]/subtotal[i])"
   ]
  },
  {
   "cell_type": "code",
   "execution_count": 21,
   "metadata": {},
   "outputs": [
    {
     "data": {
      "text/html": [
       "<div>\n",
       "<style scoped>\n",
       "    .dataframe tbody tr th:only-of-type {\n",
       "        vertical-align: middle;\n",
       "    }\n",
       "\n",
       "    .dataframe tbody tr th {\n",
       "        vertical-align: top;\n",
       "    }\n",
       "\n",
       "    .dataframe thead th {\n",
       "        text-align: right;\n",
       "    }\n",
       "</style>\n",
       "<table border=\"1\" class=\"dataframe\">\n",
       "  <thead>\n",
       "    <tr style=\"text-align: right;\">\n",
       "      <th></th>\n",
       "      <th>chr_18</th>\n",
       "      <th>chr_18_q10_isochromosome</th>\n",
       "    </tr>\n",
       "  </thead>\n",
       "  <tbody>\n",
       "    <tr>\n",
       "      <th>chr_18</th>\n",
       "      <td>1.0</td>\n",
       "      <td>0.0</td>\n",
       "    </tr>\n",
       "    <tr>\n",
       "      <th>chr_18_q10_isochromosome</th>\n",
       "      <td>0.0</td>\n",
       "      <td>1.0</td>\n",
       "    </tr>\n",
       "  </tbody>\n",
       "</table>\n",
       "</div>"
      ],
      "text/plain": [
       "                          chr_18  chr_18_q10_isochromosome\n",
       "chr_18                       1.0                       0.0\n",
       "chr_18_q10_isochromosome     0.0                       1.0"
      ]
     },
     "execution_count": 21,
     "metadata": {},
     "output_type": "execute_result"
    }
   ],
   "source": [
    "confusion_r = pd.DataFrame(cm_r, index=label_convert,\n",
    "                        columns=label_convert)\n",
    "confusion_r.to_csv('ConfusionMatrix_Recall_Integration_CNN.csv')\n",
    "confusion_r"
   ]
  },
  {
   "cell_type": "markdown",
   "metadata": {},
   "source": [
    "### 3.10.6 Precision (查准率）"
   ]
  },
  {
   "cell_type": "code",
   "execution_count": 22,
   "metadata": {},
   "outputs": [],
   "source": [
    "subtotal_predict = [0] * 2 \n",
    "for item in y_predict_filtered_concatenate_list:\n",
    "    subtotal_predict[item] = subtotal_predict[item] + 1"
   ]
  },
  {
   "cell_type": "markdown",
   "metadata": {},
   "source": [
    "#### predict number divided by y predicted"
   ]
  },
  {
   "cell_type": "code",
   "execution_count": 23,
   "metadata": {},
   "outputs": [],
   "source": [
    "cm_p = []\n",
    "for i in range(2):\n",
    "    cm_p.append(cm[:,i]/subtotal_predict[i])"
   ]
  },
  {
   "cell_type": "code",
   "execution_count": 24,
   "metadata": {},
   "outputs": [
    {
     "data": {
      "text/html": [
       "<div>\n",
       "<style scoped>\n",
       "    .dataframe tbody tr th:only-of-type {\n",
       "        vertical-align: middle;\n",
       "    }\n",
       "\n",
       "    .dataframe tbody tr th {\n",
       "        vertical-align: top;\n",
       "    }\n",
       "\n",
       "    .dataframe thead th {\n",
       "        text-align: right;\n",
       "    }\n",
       "</style>\n",
       "<table border=\"1\" class=\"dataframe\">\n",
       "  <thead>\n",
       "    <tr style=\"text-align: right;\">\n",
       "      <th></th>\n",
       "      <th>chr_18</th>\n",
       "      <th>chr_18_q10_isochromosome</th>\n",
       "    </tr>\n",
       "  </thead>\n",
       "  <tbody>\n",
       "    <tr>\n",
       "      <th>chr_18</th>\n",
       "      <td>1.0</td>\n",
       "      <td>0.0</td>\n",
       "    </tr>\n",
       "    <tr>\n",
       "      <th>chr_18_q10_isochromosome</th>\n",
       "      <td>0.0</td>\n",
       "      <td>1.0</td>\n",
       "    </tr>\n",
       "  </tbody>\n",
       "</table>\n",
       "</div>"
      ],
      "text/plain": [
       "                          chr_18  chr_18_q10_isochromosome\n",
       "chr_18                       1.0                       0.0\n",
       "chr_18_q10_isochromosome     0.0                       1.0"
      ]
     },
     "execution_count": 24,
     "metadata": {},
     "output_type": "execute_result"
    }
   ],
   "source": [
    "confusion_p = pd.DataFrame(cm_p, index=label_convert,\n",
    "                        columns=label_convert)\n",
    "confusion_p.to_csv('ConfusionMatrix_Precision_Integration_CNN.csv')\n",
    "confusion_p"
   ]
  },
  {
   "cell_type": "markdown",
   "metadata": {},
   "source": [
    "#### Heat Map: Number"
   ]
  },
  {
   "cell_type": "code",
   "execution_count": 25,
   "metadata": {
    "scrolled": false
   },
   "outputs": [
    {
     "data": {
      "image/png": "[encoded data removed]",
      "text/plain": [
       "<Figure size 2160x1728 with 2 Axes>"
      ]
     },
     "metadata": {
      "needs_background": "light"
     },
     "output_type": "display_data"
    }
   ],
   "source": [
    "plt.figure(figsize=(30, 24))\n",
    "heat_map = sb.heatmap(confusion, annot=True, fmt = 'g',  # It's a Seaborn function\n",
    "                      cmap='coolwarm', \n",
    "                      xticklabels=confusion.columns, yticklabels=confusion.index, \n",
    "                      linewidths=.5, \n",
    "                      annot_kws={\"size\": 50})\n",
    "sb.set(font_scale = 4)"
   ]
  },
  {
   "cell_type": "markdown",
   "metadata": {},
   "source": [
    "#### Heat Map of Recall: Rate (important!!!)"
   ]
  },
  {
   "cell_type": "code",
   "execution_count": 26,
   "metadata": {
    "scrolled": false
   },
   "outputs": [
    {
     "data": {
      "image/png": "[encoded data removed]",
      "text/plain": [
       "<Figure size 2160x1728 with 2 Axes>"
      ]
     },
     "metadata": {},
     "output_type": "display_data"
    }
   ],
   "source": [
    "plt.figure(figsize=(30, 24))\n",
    "heat_map_r = sb.heatmap(confusion_r, annot=True,  # It's a Seaborn function\n",
    "                      cmap='coolwarm', \n",
    "                      xticklabels=confusion.columns, yticklabels=confusion.index, \n",
    "                      linewidths=1, \n",
    "                      annot_kws={\"size\": 50})\n",
    "sb.set(font_scale = 4)"
   ]
  },
  {
   "cell_type": "code",
   "execution_count": 27,
   "metadata": {},
   "outputs": [
    {
     "data": {
      "image/png": "[encoded data removed]",
      "text/plain": [
       "<Figure size 2160x1728 with 2 Axes>"
      ]
     },
     "metadata": {},
     "output_type": "display_data"
    }
   ],
   "source": [
    "plt.figure(figsize=(30, 24))\n",
    "heat_map_p = sb.heatmap(confusion_p, annot=True,  # It's a Seaborn function\n",
    "                      cmap='coolwarm', \n",
    "                      xticklabels=confusion.columns, yticklabels=confusion.index, \n",
    "                      linewidths=1, \n",
    "                      annot_kws={\"size\": 50})\n",
    "sb.set(font_scale = 4)"
   ]
  },
  {
   "cell_type": "code",
   "execution_count": 28,
   "metadata": {},
   "outputs": [],
   "source": [
    "fig = heat_map.get_figure()    \n",
    "fig.savefig('Heatmap_Combination.png', dpi=400)"
   ]
  },
  {
   "cell_type": "code",
   "execution_count": 29,
   "metadata": {},
   "outputs": [],
   "source": [
    "fig_r = heat_map_r.get_figure()    \n",
    "fig_r.savefig('Heatmap_Recall_Combination.png', dpi=400)"
   ]
  },
  {
   "cell_type": "code",
   "execution_count": 30,
   "metadata": {},
   "outputs": [],
   "source": [
    "fig_p = heat_map_p.get_figure()    \n",
    "fig_p.savefig('Heatmap_Precision_Combination.png', dpi=400)"
   ]
  },
  {
   "cell_type": "markdown",
   "metadata": {},
   "source": [
    "# ROC Curve"
   ]
  },
  {
   "cell_type": "code",
   "execution_count": 31,
   "metadata": {},
   "outputs": [
    {
     "data": {
      "text/plain": [
       "array([[5.97052872e-01, 1.14625869e-02],\n",
       "       [9.99987841e-01, 3.68038491e-05],\n",
       "       [1.00000000e+00, 7.39922257e-08],\n",
       "       [9.99998450e-01, 2.77607205e-06],\n",
       "       [1.00000000e+00, 3.40503703e-07],\n",
       "       [9.99999642e-01, 1.65068002e-06],\n",
       "       [9.99994397e-01, 8.43472026e-06],\n",
       "       [1.00000000e+00, 4.13106385e-08],\n",
       "       [9.99999762e-01, 7.95269273e-07],\n",
       "       [1.00000000e+00, 1.55587238e-10],\n",
       "       [1.00000000e+00, 3.63833269e-10],\n",
       "       [9.99999166e-01, 3.54060126e-06],\n",
       "       [1.00000000e+00, 6.03483201e-08],\n",
       "       [9.99999762e-01, 6.00228702e-07],\n",
       "       [1.00000000e+00, 6.01408734e-13],\n",
       "       [1.00000000e+00, 2.92100011e-15],\n",
       "       [9.92543936e-01, 1.90979324e-03],\n",
       "       [1.00000000e+00, 3.28591625e-08],\n",
       "       [1.00000000e+00, 3.37827487e-07],\n",
       "       [1.00000000e+00, 1.52962144e-07],\n",
       "       [1.00000000e+00, 3.16509016e-07],\n",
       "       [1.00000000e+00, 2.66169611e-08],\n",
       "       [9.99998808e-01, 3.19071637e-06],\n",
       "       [9.99999881e-01, 4.60286913e-07],\n",
       "       [9.99999881e-01, 8.50417848e-07],\n",
       "       [9.99999881e-01, 3.43006178e-07],\n",
       "       [9.99999166e-01, 1.71061959e-06],\n",
       "       [9.99999642e-01, 7.29628425e-07],\n",
       "       [9.99999642e-01, 5.76337754e-07],\n",
       "       [9.99999881e-01, 6.44633417e-07],\n",
       "       [1.00000000e+00, 6.45876526e-08],\n",
       "       [9.99999881e-01, 1.33521780e-06],\n",
       "       [9.99999881e-01, 7.08606649e-07],\n",
       "       [9.99999166e-01, 2.61608920e-06],\n",
       "       [9.99999881e-01, 6.71554631e-07],\n",
       "       [9.99997377e-01, 5.02368584e-06],\n",
       "       [1.70659114e-08, 9.99894142e-01],\n",
       "       [4.90737628e-09, 9.99986887e-01],\n",
       "       [4.57103498e-14, 1.00000000e+00],\n",
       "       [3.33373663e-07, 9.99206364e-01],\n",
       "       [1.70689958e-07, 9.99758899e-01],\n",
       "       [2.73367384e-10, 9.99991059e-01],\n",
       "       [1.38848252e-10, 9.99994636e-01],\n",
       "       [9.99999762e-01, 3.88119361e-06],\n",
       "       [1.00000000e+00, 6.39672976e-07],\n",
       "       [9.99999881e-01, 3.18082971e-06],\n",
       "       [9.99915004e-01, 3.87234468e-04],\n",
       "       [9.99997258e-01, 2.89493182e-05],\n",
       "       [9.99999881e-01, 2.44901366e-06],\n",
       "       [9.99941826e-01, 3.19283950e-04],\n",
       "       [9.99972343e-01, 2.13242660e-04],\n",
       "       [9.99999881e-01, 3.40015458e-06],\n",
       "       [9.99997616e-01, 2.03582913e-05],\n",
       "       [1.00000000e+00, 2.68858884e-07],\n",
       "       [9.99989271e-01, 1.01453406e-04],\n",
       "       [9.99986053e-01, 7.95849264e-05],\n",
       "       [9.99999881e-01, 1.51702909e-06],\n",
       "       [9.99968529e-01, 1.72673928e-04],\n",
       "       [9.99999881e-01, 1.47969138e-06],\n",
       "       [9.99999762e-01, 6.49653703e-06],\n",
       "       [9.99999166e-01, 9.89972159e-06],\n",
       "       [9.99999881e-01, 2.13766612e-06],\n",
       "       [9.99999881e-01, 1.84669670e-06],\n",
       "       [9.99999642e-01, 4.57317356e-06],\n",
       "       [9.99999642e-01, 6.50995753e-06],\n",
       "       [9.99999166e-01, 1.19756915e-05],\n",
       "       [9.99984503e-01, 1.15336523e-04],\n",
       "       [9.99997377e-01, 2.72553389e-05],\n",
       "       [9.99991179e-01, 6.71256494e-05],\n",
       "       [9.99978065e-01, 1.24739221e-04],\n",
       "       [9.99999642e-01, 4.76200466e-06],\n",
       "       [9.99999881e-01, 2.45184151e-06],\n",
       "       [9.99998927e-01, 1.16542833e-05],\n",
       "       [9.99999285e-01, 1.06921334e-05],\n",
       "       [9.99995708e-01, 3.81532482e-05],\n",
       "       [9.99995828e-01, 4.07296357e-05],\n",
       "       [9.99993920e-01, 6.01046559e-05],\n",
       "       [9.99999762e-01, 5.18030765e-06],\n",
       "       [8.31367856e-07, 9.99995589e-01],\n",
       "       [1.17718548e-04, 9.99128878e-01],\n",
       "       [1.08024017e-06, 9.99994278e-01],\n",
       "       [9.70710289e-07, 9.99994397e-01],\n",
       "       [3.96946270e-04, 9.99120057e-01],\n",
       "       [1.27956329e-03, 9.96008039e-01],\n",
       "       [9.99994636e-01, 1.01944681e-06],\n",
       "       [1.00000000e+00, 5.25807731e-11],\n",
       "       [9.99996901e-01, 6.03648346e-07],\n",
       "       [9.99999762e-01, 3.37384378e-08],\n",
       "       [9.99459565e-01, 2.41989081e-04],\n",
       "       [9.99992847e-01, 1.15227306e-06],\n",
       "       [9.99997616e-01, 3.75807105e-07],\n",
       "       [9.99998569e-01, 2.16272284e-07],\n",
       "       [9.99996781e-01, 4.45294802e-07],\n",
       "       [9.99999166e-01, 1.51909063e-07],\n",
       "       [1.00000000e+00, 3.36029734e-13],\n",
       "       [9.99993920e-01, 1.14012448e-06],\n",
       "       [9.99996066e-01, 7.49639923e-07],\n",
       "       [9.99974608e-01, 5.43825718e-06],\n",
       "       [9.99999404e-01, 6.11406819e-08],\n",
       "       [9.99999881e-01, 6.02973227e-09],\n",
       "       [9.99998212e-01, 2.60463764e-07],\n",
       "       [9.99999762e-01, 2.41009239e-08],\n",
       "       [9.99995708e-01, 5.58873182e-07],\n",
       "       [9.99975562e-01, 5.29314002e-06],\n",
       "       [9.99961376e-01, 4.93550124e-06],\n",
       "       [9.99994755e-01, 8.06881303e-07],\n",
       "       [9.99997973e-01, 3.01661231e-07],\n",
       "       [9.99997139e-01, 5.81325708e-07],\n",
       "       [9.99992371e-01, 1.31781439e-06],\n",
       "       [9.99998689e-01, 1.77005148e-07],\n",
       "       [9.99991536e-01, 1.24906398e-06],\n",
       "       [9.99998331e-01, 2.14744020e-07],\n",
       "       [9.99997258e-01, 2.58980094e-07],\n",
       "       [9.99907374e-01, 1.93025644e-05],\n",
       "       [9.99971509e-01, 6.96980987e-06],\n",
       "       [9.99987841e-01, 2.17094430e-06],\n",
       "       [9.99981284e-01, 3.79081621e-06],\n",
       "       [9.99993682e-01, 1.08514678e-06],\n",
       "       [9.99993920e-01, 1.38098778e-06],\n",
       "       [2.31454149e-03, 9.97018576e-01],\n",
       "       [2.45519797e-03, 9.98574257e-01],\n",
       "       [1.54119660e-03, 9.98820841e-01],\n",
       "       [2.91227386e-03, 9.97737408e-01],\n",
       "       [2.12620198e-05, 9.99977112e-01],\n",
       "       [2.20701666e-04, 9.99815166e-01],\n",
       "       [9.99566495e-01, 2.41767688e-04],\n",
       "       [9.99999881e-01, 1.20252688e-08],\n",
       "       [9.99999166e-01, 1.70715197e-07],\n",
       "       [9.99999881e-01, 3.29266676e-08],\n",
       "       [1.00000000e+00, 7.04908087e-09],\n",
       "       [1.00000000e+00, 1.57102165e-09],\n",
       "       [1.00000000e+00, 2.13100337e-09],\n",
       "       [9.99999762e-01, 5.38123679e-08],\n",
       "       [1.00000000e+00, 3.19493565e-09],\n",
       "       [9.99999642e-01, 7.67869750e-08],\n",
       "       [9.99991417e-01, 3.82531289e-06],\n",
       "       [9.99999881e-01, 2.06647268e-08],\n",
       "       [9.99999285e-01, 1.56853034e-07],\n",
       "       [9.99988437e-01, 2.94105257e-06],\n",
       "       [9.99999881e-01, 2.75679373e-08],\n",
       "       [9.99994993e-01, 1.03318564e-06],\n",
       "       [9.99990106e-01, 3.47606988e-06],\n",
       "       [9.99993324e-01, 1.70822659e-06],\n",
       "       [9.99998808e-01, 2.68161102e-07],\n",
       "       [9.99998569e-01, 2.85375165e-07],\n",
       "       [1.00000000e+00, 4.03991729e-09],\n",
       "       [9.99999285e-01, 1.78838533e-07],\n",
       "       [9.99903917e-01, 3.56702985e-05],\n",
       "       [9.99800026e-01, 6.99474986e-05],\n",
       "       [9.99913454e-01, 2.88008123e-05],\n",
       "       [9.99979615e-01, 5.32624654e-06],\n",
       "       [9.99952316e-01, 1.36284862e-05],\n",
       "       [9.99954581e-01, 1.69652521e-05],\n",
       "       [9.99954820e-01, 1.57082341e-05],\n",
       "       [9.99618053e-01, 2.09880876e-04],\n",
       "       [9.99839902e-01, 5.70846714e-05],\n",
       "       [9.99710143e-01, 1.13343056e-04],\n",
       "       [9.99644756e-01, 1.48954903e-04],\n",
       "       [9.99969840e-01, 8.68428378e-06],\n",
       "       [9.99912143e-01, 2.88733318e-05],\n",
       "       [9.05510242e-05, 9.99989867e-01],\n",
       "       [5.01470864e-01, 7.25475311e-01],\n",
       "       [1.11489251e-04, 9.99985456e-01],\n",
       "       [5.58433167e-05, 9.99993443e-01],\n",
       "       [8.23420996e-05, 9.99989986e-01],\n",
       "       [1.21828727e-03, 9.99772370e-01],\n",
       "       [1.00000000e+00, 8.40194735e-23],\n",
       "       [9.99999285e-01, 6.23723240e-10],\n",
       "       [1.00000000e+00, 3.46795184e-12],\n",
       "       [1.00000000e+00, 8.54338183e-15],\n",
       "       [1.00000000e+00, 2.74895507e-34],\n",
       "       [1.00000000e+00, 1.52328024e-26],\n",
       "       [9.85610664e-01, 1.55881091e-04],\n",
       "       [1.00000000e+00, 3.50081950e-25],\n",
       "       [1.00000000e+00, 1.33144101e-24],\n",
       "       [1.00000000e+00, 4.77943793e-16],\n",
       "       [9.99999881e-01, 9.15225951e-11],\n",
       "       [1.00000000e+00, 6.55615396e-25],\n",
       "       [9.99998450e-01, 2.51699661e-09],\n",
       "       [9.99987721e-01, 3.79826695e-08],\n",
       "       [1.00000000e+00, 1.43058804e-15],\n",
       "       [1.00000000e+00, 9.01291899e-13],\n",
       "       [1.00000000e+00, 6.28593187e-15],\n",
       "       [1.00000000e+00, 1.96839039e-14],\n",
       "       [9.99999642e-01, 5.00939394e-11],\n",
       "       [9.99999881e-01, 2.13691113e-11],\n",
       "       [1.00000000e+00, 1.66457310e-12],\n",
       "       [1.00000000e+00, 1.73762445e-11],\n",
       "       [1.00000000e+00, 1.63229337e-16],\n",
       "       [1.00000000e+00, 2.20364878e-13],\n",
       "       [9.99999881e-01, 6.39479303e-11],\n",
       "       [1.00000000e+00, 8.67563067e-16],\n",
       "       [1.00000000e+00, 1.17958724e-12],\n",
       "       [9.99999762e-01, 1.81159615e-10],\n",
       "       [1.00000000e+00, 5.06268693e-25],\n",
       "       [1.00000000e+00, 4.66269064e-15],\n",
       "       [1.00000000e+00, 1.04808590e-17],\n",
       "       [1.00000000e+00, 1.71781606e-15],\n",
       "       [9.99999642e-01, 1.68417391e-10],\n",
       "       [1.00000000e+00, 1.95026460e-11],\n",
       "       [1.00000000e+00, 1.62470222e-12],\n",
       "       [5.38187050e-09, 1.00000000e+00],\n",
       "       [3.72303020e-06, 9.99999881e-01],\n",
       "       [4.57419524e-09, 1.00000000e+00],\n",
       "       [2.11909864e-07, 1.00000000e+00],\n",
       "       [8.77896869e-16, 1.00000000e+00],\n",
       "       [0.00000000e+00, 1.00000000e+00]], dtype=float32)"
      ]
     },
     "execution_count": 31,
     "metadata": {},
     "output_type": "execute_result"
    }
   ],
   "source": [
    "y_predict_concatenate_array = np.array(y_predict_concatenate_list)\n",
    "y_predict_concatenate_array"
   ]
  },
  {
   "cell_type": "code",
   "execution_count": 32,
   "metadata": {},
   "outputs": [
    {
     "data": {
      "text/plain": [
       "(207, 2)"
      ]
     },
     "execution_count": 32,
     "metadata": {},
     "output_type": "execute_result"
    }
   ],
   "source": [
    "y_predict_concatenate_array.shape"
   ]
  },
  {
   "cell_type": "code",
   "execution_count": 33,
   "metadata": {},
   "outputs": [],
   "source": [
    "y_predict_1D = y_predict_concatenate_array[:,0]"
   ]
  },
  {
   "cell_type": "code",
   "execution_count": 34,
   "metadata": {},
   "outputs": [],
   "source": [
    "y_predict_1D_processed = 1- y_predict_1D"
   ]
  },
  {
   "cell_type": "code",
   "execution_count": 35,
   "metadata": {},
   "outputs": [],
   "source": [
    "fpr , tpr , thresholds = roc_curve(y_test_concatenate_list , y_predict_1D_processed)\n",
    "auc_rf = auc(fpr, tpr)"
   ]
  },
  {
   "cell_type": "code",
   "execution_count": 36,
   "metadata": {},
   "outputs": [
    {
     "data": {
      "text/plain": [
       "1.0"
      ]
     },
     "execution_count": 36,
     "metadata": {},
     "output_type": "execute_result"
    }
   ],
   "source": [
    "auc_rf"
   ]
  },
  {
   "cell_type": "code",
   "execution_count": 37,
   "metadata": {},
   "outputs": [],
   "source": [
    "x = y = np.arange(0, 1.1, 0.1)"
   ]
  },
  {
   "cell_type": "code",
   "execution_count": 38,
   "metadata": {},
   "outputs": [
    {
     "data": {
      "text/plain": [
       "array([0. , 0.1, 0.2, 0.3, 0.4, 0.5, 0.6, 0.7, 0.8, 0.9, 1. ])"
      ]
     },
     "execution_count": 38,
     "metadata": {},
     "output_type": "execute_result"
    }
   ],
   "source": [
    "x"
   ]
  },
  {
   "cell_type": "code",
   "execution_count": 39,
   "metadata": {
    "scrolled": true
   },
   "outputs": [
    {
     "data": {
      "image/png": "[encoded data removed]",
      "text/plain": [
       "<Figure size 432x288 with 1 Axes>"
      ]
     },
     "metadata": {},
     "output_type": "display_data"
    }
   ],
   "source": [
    "fig = plt.figure()\n",
    "plt.style.use('classic')\n",
    "\n",
    "ax = fig.add_subplot(111)\n",
    "\n",
    "plt.plot(fpr, tpr, color='blue', linewidth=0.9)\n",
    "\n",
    "plt.plot(x, y, '--', color='black', linewidth=0.8)\n",
    "\n",
    "plt.title('ROC curve of Chr_18q10 Isochromosome', fontsize=15, fontname = 'Times New Roman')\n",
    "\n",
    "plt.xlabel('False Positive Rate', fontsize=15, fontname = 'Times New Roman')\n",
    "plt.ylabel('True positive Rate', fontsize=15, fontname = 'Times New Roman')\n",
    "\n",
    "ax.set_aspect('equal', adjustable='box')\n",
    "\n",
    "plt.xlim(-0.08, 1.1)\n",
    "plt.ylim(-0.08, 1.1)\n",
    "\n",
    "plt.xticks(fontsize=15, fontname = 'Arial')\n",
    "plt.yticks(fontsize=15, fontname = 'Arial')\n",
    "\n",
    "plt.savefig('ROC_Curve_Combination.png', dpi=600)\n",
    "plt.show()"
   ]
  },
  {
   "cell_type": "markdown",
   "metadata": {},
   "source": [
    "#### 3.10.4.1 AUC Value"
   ]
  },
  {
   "cell_type": "code",
   "execution_count": 40,
   "metadata": {},
   "outputs": [],
   "source": [
    "auc_value = auc(fpr, tpr)"
   ]
  },
  {
   "cell_type": "code",
   "execution_count": 41,
   "metadata": {},
   "outputs": [
    {
     "name": "stdout",
     "output_type": "stream",
     "text": [
      "AUC is  1.0\n"
     ]
    }
   ],
   "source": [
    "print('AUC is ', auc_value)"
   ]
  },
  {
   "cell_type": "markdown",
   "metadata": {},
   "source": [
    "# Results"
   ]
  },
  {
   "cell_type": "code",
   "execution_count": 42,
   "metadata": {},
   "outputs": [
    {
     "name": "stdout",
     "output_type": "stream",
     "text": [
      "Test Accuracy: 1.000\n"
     ]
    }
   ],
   "source": [
    "print('Test Accuracy: %.3f' % acc)"
   ]
  },
  {
   "cell_type": "code",
   "execution_count": 43,
   "metadata": {
    "scrolled": true
   },
   "outputs": [
    {
     "name": "stdout",
     "output_type": "stream",
     "text": [
      "                          precision    recall  f1-score   support\n",
      "\n",
      "                  chr_18       1.00      1.00      1.00       176\n",
      "chr_18_q10_isochromosome       1.00      1.00      1.00        31\n",
      "\n",
      "               micro avg       1.00      1.00      1.00       207\n",
      "               macro avg       1.00      1.00      1.00       207\n",
      "            weighted avg       1.00      1.00      1.00       207\n",
      "\n"
     ]
    }
   ],
   "source": [
    "print(performanceReport)"
   ]
  },
  {
   "cell_type": "code",
   "execution_count": 44,
   "metadata": {},
   "outputs": [
    {
     "data": {
      "text/plain": [
       "str"
      ]
     },
     "execution_count": 44,
     "metadata": {},
     "output_type": "execute_result"
    }
   ],
   "source": [
    "type(performanceReport)"
   ]
  },
  {
   "cell_type": "code",
   "execution_count": 45,
   "metadata": {},
   "outputs": [
    {
     "name": "stdout",
     "output_type": "stream",
     "text": [
      "AUC is  1.0\n"
     ]
    }
   ],
   "source": [
    "print('AUC is ', auc_value)"
   ]
  },
  {
   "cell_type": "markdown",
   "metadata": {},
   "source": [
    "## Export to a text file"
   ]
  },
  {
   "cell_type": "code",
   "execution_count": 46,
   "metadata": {},
   "outputs": [],
   "source": [
    "file_report = open('ResultsCombination.txt', 'w')\n",
    "file_report.write('Accuracy: %s\\n\\n' % acc)\n",
    "file_report.write('AUC: %s.\\n\\n' % auc_value)\n",
    "file_report.write('Performance Report: \\n%s\\n\\n' % performanceReport)\n",
    "file_report.write('Confusion Matrix: \\n%s.\\n\\n' % confusion)\n",
    "file_report.write('Recall of Confusion Matrix: \\n%s.\\n\\n' % confusion_r)\n",
    "file_report.write('Precision of Confusion Matrix: \\n%s.\\n\\n' % confusion_p)\n",
    "file_report.close()"
   ]
  },
  {
   "cell_type": "markdown",
   "metadata": {},
   "source": [
    "## Export ROC Parameters"
   ]
  },
  {
   "cell_type": "code",
   "execution_count": 47,
   "metadata": {},
   "outputs": [],
   "source": [
    "with open('tpr_' + label_convert[1] + '.npy', 'wb') as file_tpr:\n",
    "    np.save(file_tpr, np.array(tpr))\n",
    "    \n",
    "with open('fpr_' + label_convert[1] + '.npy', 'wb') as file_fpr:\n",
    "    np.save(file_fpr, np.array(fpr))\n",
    "    \n",
    "with open('thresholds_' + label_convert[1] + '.npy', 'wb') as file_thresholds:\n",
    "    np.save(file_thresholds, np.array(thresholds))"
   ]
  },
  {
   "cell_type": "code",
   "execution_count": null,
   "metadata": {},
   "outputs": [],
   "source": []
  }
 ],
 "metadata": {
  "kernelspec": {
   "display_name": "Python 3",
   "language": "python",
   "name": "python3"
  },
  "language_info": {
   "codemirror_mode": {
    "name": "ipython",
    "version": 3
   },
   "file_extension": ".py",
   "mimetype": "text/x-python",
   "name": "python",
   "nbconvert_exporter": "python",
   "pygments_lexer": "ipython3",
   "version": "3.7.3"
  }
 },
 "nbformat": 4,
 "nbformat_minor": 2
}
